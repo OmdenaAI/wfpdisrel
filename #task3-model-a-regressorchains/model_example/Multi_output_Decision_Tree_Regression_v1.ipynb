{
 "cells": [
  {
   "cell_type": "markdown",
   "metadata": {
    "colab_type": "text",
    "id": "mWNIL2-BMgAl"
   },
   "source": [
    "We will try using Multi-output Decision Tree Regression using XavierTorres'dataset."
   ]
  },
  {
   "cell_type": "code",
   "execution_count": 1,
   "metadata": {
    "colab": {
     "base_uri": "https://localhost:8080/",
     "height": 443
    },
    "colab_type": "code",
    "id": "a38lZ2nVutVv",
    "outputId": "57e12284-f694-4a7a-9397-bdad02fa9c48"
   },
   "outputs": [
    {
     "name": "stdout",
     "output_type": "stream",
     "text": [
      "r2 for y_1 0.4116472274851382\n",
      "r2 for y_2 0.644220014419712\n",
      "r2 for y_3 0.6386821967054331\n",
      "MSE for y_1 2919328960.6770835\n",
      "MSE for y_2 1681838711.0879905\n",
      "MSE for y_3 1512710239.235558\n"
     ]
    }
   ],
   "source": [
    "import pandas as pd\n",
    "import numpy as np\n",
    "import io\n",
    "import matplotlib.pyplot as plt\n",
    "from sklearn.model_selection import train_test_split\n",
    "from sklearn.tree import DecisionTreeRegressor\n",
    "from sklearn.metrics import r2_score, mean_squared_error\n",
    "\n",
    "df = pd.read_csv('./nyc-rolling-sales-clean-1.csv', sep=\";\")\n",
    "\n",
    "features = ['Land_sqf', 'Gross_sqf', 'Year_built', 'NBH_level']\n",
    "labels = ['SALE_PRICE', 'YEARLY_RENT']\n",
    "\n",
    "X = df[features].values\n",
    "y = df[labels].values\n",
    "\n",
    "train_X, val_X, train_y, val_y = train_test_split(X, y, random_state=1)\n",
    "\n",
    "regr_1 = DecisionTreeRegressor(max_depth=2)\n",
    "regr_2 = DecisionTreeRegressor(max_depth=5)\n",
    "regr_3 = DecisionTreeRegressor(max_depth=8)\n",
    "\n",
    "regr_1.fit(train_X, train_y)\n",
    "regr_2.fit(train_X, train_y)\n",
    "regr_3.fit(train_X, train_y)\n",
    "\n",
    "y_1 = regr_1.predict(val_X)\n",
    "y_2 = regr_2.predict(val_X)\n",
    "y_3 = regr_3.predict(val_X)\n",
    "\n",
    "print(\"r2 for y_1\", r2_score(val_y, y_1))\n",
    "print(\"r2 for y_2\", r2_score(val_y, y_2))\n",
    "print(\"r2 for y_3\", r2_score(val_y, y_3))\n",
    "\n",
    "print(\"MSE for y_1\", mean_squared_error(val_y, y_1))\n",
    "print(\"MSE for y_2\", mean_squared_error(val_y, y_2))\n",
    "print(\"MSE for y_3\", mean_squared_error(val_y, y_3))"
   ]
  }
 ],
 "metadata": {
  "colab": {
   "name": "Multi-output Decision Tree Regression_v1",
   "provenance": []
  },
  "kernelspec": {
   "display_name": "Python 3",
   "language": "python",
   "name": "python3"
  },
  "language_info": {
   "codemirror_mode": {
    "name": "ipython",
    "version": 3
   },
   "file_extension": ".py",
   "mimetype": "text/x-python",
   "name": "python",
   "nbconvert_exporter": "python",
   "pygments_lexer": "ipython3",
   "version": "3.7.6"
  }
 },
 "nbformat": 4,
 "nbformat_minor": 1
}
