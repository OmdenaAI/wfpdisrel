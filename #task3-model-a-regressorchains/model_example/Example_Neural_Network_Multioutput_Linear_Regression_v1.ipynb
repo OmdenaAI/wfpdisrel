{
  "nbformat": 4,
  "nbformat_minor": 0,
  "metadata": {
    "colab": {
      "name": "Example Neural Network - Multioutput Linear Regression-v1.ipynb",
      "provenance": [],
      "collapsed_sections": []
    },
    "kernelspec": {
      "name": "python3",
      "display_name": "Python 3"
    },
    "accelerator": "GPU"
  },
  "cells": [
    {
      "cell_type": "markdown",
      "metadata": {
        "id": "-CQXAD8TR7Gj",
        "colab_type": "text"
      },
      "source": [
        ""
      ]
    },
    {
      "cell_type": "markdown",
      "metadata": {
        "id": "QFzBrCZiRndp",
        "colab_type": "text"
      },
      "source": [
        "Example of Multi Target Regression using Neural Network Regression\n",
        "\n",
        "      @Sijuade Oguntayo\n",
        "\n",
        "\n",
        "Copied from *@XavierTorres* - \n",
        "\n",
        "In this example we are trying to predict 2 continuous variables with 4 input features. Here we are not doing data cleaning, neither EDA, feature engineering nor fine-tuning model features. It's only a preliminary model overview.\n",
        "\n",
        "- Inputs: \n",
        "    - Land_sqf\n",
        "    - Gross_sqf\n",
        "    - Year_built\n",
        "    - NBH_level\t(Neighborhood level: 10= most upper class; 1: most lower class)\n",
        "    \n",
        "- Outputs: \n",
        "    - SALE_PRICE \t\n",
        "    - YEARLY_RENT\n",
        "\n",
        "We are going to try different approaches to predict each output (possible SALE_PRICE and possible YEARLY_RENT for a new property).\n",
        "\n"
      ]
    },
    {
      "cell_type": "code",
      "metadata": {
        "id": "5B6SyTaioIst",
        "colab_type": "code",
        "colab": {}
      },
      "source": [
        "! pip install --upgrade tensorflow\n",
        "\n",
        "import tensorflow as tf; \n",
        "print(tf.version)"
      ],
      "execution_count": 0,
      "outputs": []
    },
    {
      "cell_type": "code",
      "metadata": {
        "id": "qMSAyrl7RioM",
        "colab_type": "code",
        "colab": {}
      },
      "source": [
        "import matplotlib.pyplot as plt\n",
        "import numpy as np\n",
        "import pandas as pd\n",
        "from sklearn import datasets, linear_model\n",
        "from sklearn.metrics import mean_squared_error, r2_score\n",
        "from sklearn.model_selection import train_test_split\n",
        "\n",
        "\n",
        "# import warnings filter\n",
        "from warnings import simplefilter\n",
        "# ignore all future warnings\n",
        "simplefilter(action='ignore', category=FutureWarning)"
      ],
      "execution_count": 0,
      "outputs": []
    },
    {
      "cell_type": "code",
      "metadata": {
        "id": "ed-iOgYySA1p",
        "colab_type": "code",
        "colab": {}
      },
      "source": [
        "df = pd.read_csv('nyc-rolling-sales-clean-1.csv', sep=';')"
      ],
      "execution_count": 0,
      "outputs": []
    },
    {
      "cell_type": "code",
      "metadata": {
        "id": "OqNuQsHuSCq8",
        "colab_type": "code",
        "outputId": "d80c6074-b8d7-465d-893f-0b89a8966c9a",
        "colab": {
          "base_uri": "https://localhost:8080/",
          "height": 204
        }
      },
      "source": [
        "df.head()"
      ],
      "execution_count": 5,
      "outputs": [
        {
          "output_type": "execute_result",
          "data": {
            "text/html": [
              "<div>\n",
              "<style scoped>\n",
              "    .dataframe tbody tr th:only-of-type {\n",
              "        vertical-align: middle;\n",
              "    }\n",
              "\n",
              "    .dataframe tbody tr th {\n",
              "        vertical-align: top;\n",
              "    }\n",
              "\n",
              "    .dataframe thead th {\n",
              "        text-align: right;\n",
              "    }\n",
              "</style>\n",
              "<table border=\"1\" class=\"dataframe\">\n",
              "  <thead>\n",
              "    <tr style=\"text-align: right;\">\n",
              "      <th></th>\n",
              "      <th>Land_sqf</th>\n",
              "      <th>Gross_sqf</th>\n",
              "      <th>Year_built</th>\n",
              "      <th>NBH_level</th>\n",
              "      <th>SALE_PRICE</th>\n",
              "      <th>YEARLY_RENT</th>\n",
              "    </tr>\n",
              "  </thead>\n",
              "  <tbody>\n",
              "    <tr>\n",
              "      <th>0</th>\n",
              "      <td>2400</td>\n",
              "      <td>1552</td>\n",
              "      <td>1930</td>\n",
              "      <td>2</td>\n",
              "      <td>220485</td>\n",
              "      <td>10900</td>\n",
              "    </tr>\n",
              "    <tr>\n",
              "      <th>1</th>\n",
              "      <td>2742</td>\n",
              "      <td>1207</td>\n",
              "      <td>1925</td>\n",
              "      <td>2</td>\n",
              "      <td>223372</td>\n",
              "      <td>8100</td>\n",
              "    </tr>\n",
              "    <tr>\n",
              "      <th>2</th>\n",
              "      <td>5610</td>\n",
              "      <td>1320</td>\n",
              "      <td>1910</td>\n",
              "      <td>5</td>\n",
              "      <td>362981</td>\n",
              "      <td>19000</td>\n",
              "    </tr>\n",
              "    <tr>\n",
              "      <th>3</th>\n",
              "      <td>1758</td>\n",
              "      <td>1537</td>\n",
              "      <td>1910</td>\n",
              "      <td>5</td>\n",
              "      <td>245135</td>\n",
              "      <td>9700</td>\n",
              "    </tr>\n",
              "    <tr>\n",
              "      <th>4</th>\n",
              "      <td>1317</td>\n",
              "      <td>1339</td>\n",
              "      <td>1920</td>\n",
              "      <td>4</td>\n",
              "      <td>216477</td>\n",
              "      <td>12800</td>\n",
              "    </tr>\n",
              "  </tbody>\n",
              "</table>\n",
              "</div>"
            ],
            "text/plain": [
              "   Land_sqf  Gross_sqf  Year_built  NBH_level  SALE_PRICE  YEARLY_RENT\n",
              "0      2400       1552        1930          2      220485        10900\n",
              "1      2742       1207        1925          2      223372         8100\n",
              "2      5610       1320        1910          5      362981        19000\n",
              "3      1758       1537        1910          5      245135         9700\n",
              "4      1317       1339        1920          4      216477        12800"
            ]
          },
          "metadata": {
            "tags": []
          },
          "execution_count": 5
        }
      ]
    },
    {
      "cell_type": "code",
      "metadata": {
        "id": "Ql0tatV_SEVE",
        "colab_type": "code",
        "outputId": "6f0e91ad-3e46-4b16-cc14-d03f81b7b2df",
        "colab": {
          "base_uri": "https://localhost:8080/",
          "height": 235
        }
      },
      "source": [
        "df.corr()"
      ],
      "execution_count": 0,
      "outputs": [
        {
          "output_type": "execute_result",
          "data": {
            "text/html": [
              "<div>\n",
              "<style scoped>\n",
              "    .dataframe tbody tr th:only-of-type {\n",
              "        vertical-align: middle;\n",
              "    }\n",
              "\n",
              "    .dataframe tbody tr th {\n",
              "        vertical-align: top;\n",
              "    }\n",
              "\n",
              "    .dataframe thead th {\n",
              "        text-align: right;\n",
              "    }\n",
              "</style>\n",
              "<table border=\"1\" class=\"dataframe\">\n",
              "  <thead>\n",
              "    <tr style=\"text-align: right;\">\n",
              "      <th></th>\n",
              "      <th>Land_sqf</th>\n",
              "      <th>Gross_sqf</th>\n",
              "      <th>Year_built</th>\n",
              "      <th>NBH_level</th>\n",
              "      <th>SALE_PRICE</th>\n",
              "      <th>YEARLY_RENT</th>\n",
              "    </tr>\n",
              "  </thead>\n",
              "  <tbody>\n",
              "    <tr>\n",
              "      <th>Land_sqf</th>\n",
              "      <td>1.000000</td>\n",
              "      <td>0.383712</td>\n",
              "      <td>-0.001142</td>\n",
              "      <td>0.030384</td>\n",
              "      <td>0.693293</td>\n",
              "      <td>0.534428</td>\n",
              "    </tr>\n",
              "    <tr>\n",
              "      <th>Gross_sqf</th>\n",
              "      <td>0.383712</td>\n",
              "      <td>1.000000</td>\n",
              "      <td>-0.061774</td>\n",
              "      <td>-0.025912</td>\n",
              "      <td>0.782791</td>\n",
              "      <td>0.536878</td>\n",
              "    </tr>\n",
              "    <tr>\n",
              "      <th>Year_built</th>\n",
              "      <td>-0.001142</td>\n",
              "      <td>-0.061774</td>\n",
              "      <td>1.000000</td>\n",
              "      <td>0.030740</td>\n",
              "      <td>-0.004287</td>\n",
              "      <td>0.053032</td>\n",
              "    </tr>\n",
              "    <tr>\n",
              "      <th>NBH_level</th>\n",
              "      <td>0.030384</td>\n",
              "      <td>-0.025912</td>\n",
              "      <td>0.030740</td>\n",
              "      <td>1.000000</td>\n",
              "      <td>0.426108</td>\n",
              "      <td>0.682104</td>\n",
              "    </tr>\n",
              "    <tr>\n",
              "      <th>SALE_PRICE</th>\n",
              "      <td>0.693293</td>\n",
              "      <td>0.782791</td>\n",
              "      <td>-0.004287</td>\n",
              "      <td>0.426108</td>\n",
              "      <td>1.000000</td>\n",
              "      <td>0.864152</td>\n",
              "    </tr>\n",
              "    <tr>\n",
              "      <th>YEARLY_RENT</th>\n",
              "      <td>0.534428</td>\n",
              "      <td>0.536878</td>\n",
              "      <td>0.053032</td>\n",
              "      <td>0.682104</td>\n",
              "      <td>0.864152</td>\n",
              "      <td>1.000000</td>\n",
              "    </tr>\n",
              "  </tbody>\n",
              "</table>\n",
              "</div>"
            ],
            "text/plain": [
              "             Land_sqf  Gross_sqf  ...  SALE_PRICE  YEARLY_RENT\n",
              "Land_sqf     1.000000   0.383712  ...    0.693293     0.534428\n",
              "Gross_sqf    0.383712   1.000000  ...    0.782791     0.536878\n",
              "Year_built  -0.001142  -0.061774  ...   -0.004287     0.053032\n",
              "NBH_level    0.030384  -0.025912  ...    0.426108     0.682104\n",
              "SALE_PRICE   0.693293   0.782791  ...    1.000000     0.864152\n",
              "YEARLY_RENT  0.534428   0.536878  ...    0.864152     1.000000\n",
              "\n",
              "[6 rows x 6 columns]"
            ]
          },
          "metadata": {
            "tags": []
          },
          "execution_count": 5
        }
      ]
    },
    {
      "cell_type": "code",
      "metadata": {
        "id": "s7gy7EVISGRT",
        "colab_type": "code",
        "outputId": "485a1973-1d71-42ba-a29a-a76d3913b1a9",
        "colab": {
          "base_uri": "https://localhost:8080/",
          "height": 297
        }
      },
      "source": [
        "df.describe()"
      ],
      "execution_count": 0,
      "outputs": [
        {
          "output_type": "execute_result",
          "data": {
            "text/html": [
              "<div>\n",
              "<style scoped>\n",
              "    .dataframe tbody tr th:only-of-type {\n",
              "        vertical-align: middle;\n",
              "    }\n",
              "\n",
              "    .dataframe tbody tr th {\n",
              "        vertical-align: top;\n",
              "    }\n",
              "\n",
              "    .dataframe thead th {\n",
              "        text-align: right;\n",
              "    }\n",
              "</style>\n",
              "<table border=\"1\" class=\"dataframe\">\n",
              "  <thead>\n",
              "    <tr style=\"text-align: right;\">\n",
              "      <th></th>\n",
              "      <th>Land_sqf</th>\n",
              "      <th>Gross_sqf</th>\n",
              "      <th>Year_built</th>\n",
              "      <th>NBH_level</th>\n",
              "      <th>SALE_PRICE</th>\n",
              "      <th>YEARLY_RENT</th>\n",
              "    </tr>\n",
              "  </thead>\n",
              "  <tbody>\n",
              "    <tr>\n",
              "      <th>count</th>\n",
              "      <td>291.000000</td>\n",
              "      <td>291.000000</td>\n",
              "      <td>291.000000</td>\n",
              "      <td>291.000000</td>\n",
              "      <td>291.000000</td>\n",
              "      <td>291.000000</td>\n",
              "    </tr>\n",
              "    <tr>\n",
              "      <th>mean</th>\n",
              "      <td>2645.676976</td>\n",
              "      <td>1639.773196</td>\n",
              "      <td>1938.378007</td>\n",
              "      <td>5.374570</td>\n",
              "      <td>287247.257732</td>\n",
              "      <td>18346.735395</td>\n",
              "    </tr>\n",
              "    <tr>\n",
              "      <th>std</th>\n",
              "      <td>1353.765596</td>\n",
              "      <td>810.233323</td>\n",
              "      <td>27.953929</td>\n",
              "      <td>2.892423</td>\n",
              "      <td>105082.283757</td>\n",
              "      <td>9435.111314</td>\n",
              "    </tr>\n",
              "    <tr>\n",
              "      <th>min</th>\n",
              "      <td>353.000000</td>\n",
              "      <td>450.000000</td>\n",
              "      <td>1901.000000</td>\n",
              "      <td>1.000000</td>\n",
              "      <td>78522.000000</td>\n",
              "      <td>4300.000000</td>\n",
              "    </tr>\n",
              "    <tr>\n",
              "      <th>25%</th>\n",
              "      <td>1900.000000</td>\n",
              "      <td>1114.000000</td>\n",
              "      <td>1920.000000</td>\n",
              "      <td>3.000000</td>\n",
              "      <td>216482.500000</td>\n",
              "      <td>10750.000000</td>\n",
              "    </tr>\n",
              "    <tr>\n",
              "      <th>50%</th>\n",
              "      <td>2446.000000</td>\n",
              "      <td>1400.000000</td>\n",
              "      <td>1930.000000</td>\n",
              "      <td>5.000000</td>\n",
              "      <td>281208.000000</td>\n",
              "      <td>17300.000000</td>\n",
              "    </tr>\n",
              "    <tr>\n",
              "      <th>75%</th>\n",
              "      <td>3000.000000</td>\n",
              "      <td>1960.000000</td>\n",
              "      <td>1950.000000</td>\n",
              "      <td>8.000000</td>\n",
              "      <td>332174.500000</td>\n",
              "      <td>24550.000000</td>\n",
              "    </tr>\n",
              "    <tr>\n",
              "      <th>max</th>\n",
              "      <td>14384.000000</td>\n",
              "      <td>5303.000000</td>\n",
              "      <td>2015.000000</td>\n",
              "      <td>10.000000</td>\n",
              "      <td>961748.000000</td>\n",
              "      <td>81400.000000</td>\n",
              "    </tr>\n",
              "  </tbody>\n",
              "</table>\n",
              "</div>"
            ],
            "text/plain": [
              "           Land_sqf    Gross_sqf  ...     SALE_PRICE   YEARLY_RENT\n",
              "count    291.000000   291.000000  ...     291.000000    291.000000\n",
              "mean    2645.676976  1639.773196  ...  287247.257732  18346.735395\n",
              "std     1353.765596   810.233323  ...  105082.283757   9435.111314\n",
              "min      353.000000   450.000000  ...   78522.000000   4300.000000\n",
              "25%     1900.000000  1114.000000  ...  216482.500000  10750.000000\n",
              "50%     2446.000000  1400.000000  ...  281208.000000  17300.000000\n",
              "75%     3000.000000  1960.000000  ...  332174.500000  24550.000000\n",
              "max    14384.000000  5303.000000  ...  961748.000000  81400.000000\n",
              "\n",
              "[8 rows x 6 columns]"
            ]
          },
          "metadata": {
            "tags": []
          },
          "execution_count": 6
        }
      ]
    },
    {
      "cell_type": "code",
      "metadata": {
        "id": "0vTFjiG3SGTp",
        "colab_type": "code",
        "outputId": "18541ba0-ecc5-4b00-ff91-b458612e5f0d",
        "colab": {
          "base_uri": "https://localhost:8080/",
          "height": 136
        }
      },
      "source": [
        "df.dtypes"
      ],
      "execution_count": 0,
      "outputs": [
        {
          "output_type": "execute_result",
          "data": {
            "text/plain": [
              "Land_sqf       int64\n",
              "Gross_sqf      int64\n",
              "Year_built     int64\n",
              "NBH_level      int64\n",
              "SALE_PRICE     int64\n",
              "YEARLY_RENT    int64\n",
              "dtype: object"
            ]
          },
          "metadata": {
            "tags": []
          },
          "execution_count": 7
        }
      ]
    },
    {
      "cell_type": "code",
      "metadata": {
        "id": "evEoONQJSGaX",
        "colab_type": "code",
        "colab": {}
      },
      "source": [
        "X = df.iloc[:,:4] "
      ],
      "execution_count": 0,
      "outputs": []
    },
    {
      "cell_type": "code",
      "metadata": {
        "id": "AgPq5VSuSGfg",
        "colab_type": "code",
        "outputId": "72dea830-5086-4be0-dd6c-c7383976e0ee",
        "colab": {
          "base_uri": "https://localhost:8080/",
          "height": 34
        }
      },
      "source": [
        "X.shape"
      ],
      "execution_count": 0,
      "outputs": [
        {
          "output_type": "execute_result",
          "data": {
            "text/plain": [
              "(291, 4)"
            ]
          },
          "metadata": {
            "tags": []
          },
          "execution_count": 9
        }
      ]
    },
    {
      "cell_type": "code",
      "metadata": {
        "id": "_t-pRoVbSLYf",
        "colab_type": "code",
        "colab": {}
      },
      "source": [
        "# Assigning last 4 columns to Y, with the 2 dependant variables or 'outputs' or 'targets'\n",
        "Y = df.iloc[:,4:]"
      ],
      "execution_count": 0,
      "outputs": []
    },
    {
      "cell_type": "code",
      "metadata": {
        "id": "L3ofxG7qSLdM",
        "colab_type": "code",
        "outputId": "81171f1d-3c28-4e0e-80a5-9882de0be89e",
        "colab": {
          "base_uri": "https://localhost:8080/",
          "height": 204
        }
      },
      "source": [
        "Y.head()"
      ],
      "execution_count": 0,
      "outputs": [
        {
          "output_type": "execute_result",
          "data": {
            "text/html": [
              "<div>\n",
              "<style scoped>\n",
              "    .dataframe tbody tr th:only-of-type {\n",
              "        vertical-align: middle;\n",
              "    }\n",
              "\n",
              "    .dataframe tbody tr th {\n",
              "        vertical-align: top;\n",
              "    }\n",
              "\n",
              "    .dataframe thead th {\n",
              "        text-align: right;\n",
              "    }\n",
              "</style>\n",
              "<table border=\"1\" class=\"dataframe\">\n",
              "  <thead>\n",
              "    <tr style=\"text-align: right;\">\n",
              "      <th></th>\n",
              "      <th>SALE_PRICE</th>\n",
              "      <th>YEARLY_RENT</th>\n",
              "    </tr>\n",
              "  </thead>\n",
              "  <tbody>\n",
              "    <tr>\n",
              "      <th>0</th>\n",
              "      <td>220485</td>\n",
              "      <td>10900</td>\n",
              "    </tr>\n",
              "    <tr>\n",
              "      <th>1</th>\n",
              "      <td>223372</td>\n",
              "      <td>8100</td>\n",
              "    </tr>\n",
              "    <tr>\n",
              "      <th>2</th>\n",
              "      <td>362981</td>\n",
              "      <td>19000</td>\n",
              "    </tr>\n",
              "    <tr>\n",
              "      <th>3</th>\n",
              "      <td>245135</td>\n",
              "      <td>9700</td>\n",
              "    </tr>\n",
              "    <tr>\n",
              "      <th>4</th>\n",
              "      <td>216477</td>\n",
              "      <td>12800</td>\n",
              "    </tr>\n",
              "  </tbody>\n",
              "</table>\n",
              "</div>"
            ],
            "text/plain": [
              "   SALE_PRICE  YEARLY_RENT\n",
              "0      220485        10900\n",
              "1      223372         8100\n",
              "2      362981        19000\n",
              "3      245135         9700\n",
              "4      216477        12800"
            ]
          },
          "metadata": {
            "tags": []
          },
          "execution_count": 11
        }
      ]
    },
    {
      "cell_type": "code",
      "metadata": {
        "id": "GctuFnrMSLic",
        "colab_type": "code",
        "outputId": "005ea8e4-20de-455b-f0e5-cfc5cf5f0780",
        "colab": {
          "base_uri": "https://localhost:8080/",
          "height": 34
        }
      },
      "source": [
        "Y.shape"
      ],
      "execution_count": 0,
      "outputs": [
        {
          "output_type": "execute_result",
          "data": {
            "text/plain": [
              "(291, 2)"
            ]
          },
          "metadata": {
            "tags": []
          },
          "execution_count": 12
        }
      ]
    },
    {
      "cell_type": "code",
      "metadata": {
        "id": "AkCxnczTSLrM",
        "colab_type": "code",
        "colab": {}
      },
      "source": [
        "# Split train and test\n",
        "X_train, X_test, Y_train, Y_test = train_test_split(X, Y, test_size=0.3,\n",
        "                                                    random_state=0)"
      ],
      "execution_count": 0,
      "outputs": []
    },
    {
      "cell_type": "code",
      "metadata": {
        "id": "ALRwU0aASL3h",
        "colab_type": "code",
        "colab": {
          "base_uri": "https://localhost:8080/",
          "height": 34
        },
        "outputId": "72b29b09-460e-4386-e0a8-baf510b1ad37"
      },
      "source": [
        "#import tensorflow as tf\n",
        "from tensorflow.keras.layers import Input, Dense, Dropout\n",
        "from tensorflow.keras.models import Model, Sequential\n",
        "from keras.wrappers.scikit_learn import KerasRegressor\n",
        "\n",
        "from tensorflow.keras import backend as K\n",
        "from sklearn.metrics import r2_score\n",
        "\n",
        "\n",
        "\n",
        "\n",
        "from sklearn.multioutput import MultiOutputRegressor\n",
        "from sklearn.ensemble import ExtraTreesRegressor\n",
        "from sklearn.ensemble import RandomForestRegressor\n",
        "from sklearn.gaussian_process import GaussianProcessRegressor\n",
        "from sklearn.multioutput import RegressorChain\n",
        "from sklearn.metrics import mean_squared_error\n",
        "\n",
        "from sklearn.linear_model import ElasticNet\n",
        "from sklearn.linear_model import LinearRegression\n",
        "from sklearn.ensemble import VotingRegressor\n",
        "from sklearn.ensemble import StackingRegressor\n",
        "\n",
        "import pprint"
      ],
      "execution_count": 8,
      "outputs": [
        {
          "output_type": "stream",
          "text": [
            "Using TensorFlow backend.\n"
          ],
          "name": "stderr"
        }
      ]
    },
    {
      "cell_type": "code",
      "metadata": {
        "id": "Pn5LPfF1SoTP",
        "colab_type": "code",
        "colab": {}
      },
      "source": [
        "## Custom Loss funtion - R2\n",
        "\n",
        "from keras import backend as K\n",
        "\n",
        "def coeff_determination(y_true, y_pred):\n",
        "    from keras import backend as K\n",
        "    SS_res =  K.sum(K.square( y_true-y_pred ))\n",
        "    SS_tot = K.sum(K.square( y_true - K.mean(y_true) ) )\n",
        "    return ( 1 - SS_res/(SS_tot + K.epsilon()) )"
      ],
      "execution_count": 0,
      "outputs": []
    },
    {
      "cell_type": "code",
      "metadata": {
        "id": "atVa_FuPSLzH",
        "colab_type": "code",
        "colab": {
          "base_uri": "https://localhost:8080/",
          "height": 54
        },
        "outputId": "964a2cc7-258b-471e-e207-7da3bf59334f"
      },
      "source": [
        "# Model Architecture\n",
        "\n",
        "'''\n",
        "input_tensor = Input(shape=(4, ))\n",
        "hidden_layer_one = Dense(128)(input_tensor)\n",
        "hidden_layer_two = Dense(256)(hidden_layer_one)\n",
        "dropout_layer = Dropout(rate=0.3)(hidden_layer_two)\n",
        "hidden_layer_three = Dense(256)(dropout_layer)\n",
        "hidden_layer_four = Dense(256)(hidden_layer_three)\n",
        "output = Dense(2)(hidden_layer_four)\n",
        "\n",
        "\n",
        "model = Model(input_tensor, output)\n",
        "model.compile(optimizer='adam', loss='mse')\n",
        "model.fit(X_train, Y_train, epochs=1030, verbose=0)\n",
        "\n",
        "\n",
        "print(model.evaluate(X_test, Y_test))\n",
        "print(r2_score(Y_test, model.predict(X_test), multioutput='uniform_average'))\n",
        "'''"
      ],
      "execution_count": 21,
      "outputs": [
        {
          "output_type": "execute_result",
          "data": {
            "text/plain": [
              "\"\\ninput_tensor = Input(shape=(4, ))\\nhidden_layer_one = Dense(128)(input_tensor)\\nhidden_layer_two = Dense(256)(hidden_layer_one)\\ndropout_layer = Dropout(rate=0.3)(hidden_layer_two)\\nhidden_layer_three = Dense(256)(dropout_layer)\\nhidden_layer_four = Dense(256)(hidden_layer_three)\\noutput = Dense(2)(hidden_layer_four)\\n\\n\\nmodel = Model(input_tensor, output)\\nmodel.compile(optimizer='adam', loss='mse')\\nmodel.fit(X_train, Y_train, epochs=1030, verbose=0)\\n\\n\\nprint(model.evaluate(X_test, Y_test))\\nprint(r2_score(Y_test, model.predict(X_test), multioutput='uniform_average'))\\n\""
            ]
          },
          "metadata": {
            "tags": []
          },
          "execution_count": 21
        }
      ]
    },
    {
      "cell_type": "code",
      "metadata": {
        "id": "NleXCRTBhr73",
        "colab_type": "code",
        "colab": {}
      },
      "source": [
        "\n",
        "## Model Architecture using Sequential\n",
        "def build_model():\n",
        "  clf = Sequential()\n",
        "  clf.add(Dense(128, input_shape=(4, )))\n",
        "  clf.add(Dense(256))\n",
        "  clf.add(Dropout(0.3))\n",
        "  clf.add(Dense(256))\n",
        "  clf.add(Dense(256))\n",
        "  clf.add(Dense(2))\n",
        "  clf.compile(optimizer='adam', loss='mse')\n",
        "\n",
        "  return(clf)\n",
        "\n",
        "\n",
        "ANN_clf = KerasRegressor(build_model, epochs=1030, verbose=0)\n"
      ],
      "execution_count": 0,
      "outputs": []
    },
    {
      "cell_type": "code",
      "metadata": {
        "id": "SvHZrHpqPgVU",
        "colab_type": "code",
        "colab": {}
      },
      "source": [
        ""
      ],
      "execution_count": 0,
      "outputs": []
    },
    {
      "cell_type": "code",
      "metadata": {
        "id": "PlCk0CH6PgS7",
        "colab_type": "code",
        "colab": {}
      },
      "source": [
        "pp = pprint.PrettyPrinter(indent=4)"
      ],
      "execution_count": 0,
      "outputs": []
    },
    {
      "cell_type": "code",
      "metadata": {
        "id": "Yz9M180rR8zP",
        "colab_type": "code",
        "colab": {
          "base_uri": "https://localhost:8080/",
          "height": 221
        },
        "outputId": "bfb9ac81-1155-4fa4-a535-642fd6f0f7ef"
      },
      "source": [
        "### Trying different Regression Models to compare performance\n",
        "\n",
        "clfs = [ExtraTreesRegressor(), RandomForestRegressor(), \n",
        "        GaussianProcessRegressor(), ElasticNet(), LinearRegression(), \n",
        "        ANN_clf]\n",
        "\n",
        "\n",
        "scores = {}\n",
        "scores['mse'] = []\n",
        "scores['r2'] = []\n",
        "for clf in clfs:\n",
        "  clf.fit(np.asarray(X_train), np.asarray(Y_train))\n",
        "  scores['mse'].append(mean_squared_error(np.asarray(Y_test), clf.predict(np.asarray(X_test))))\n",
        "  scores['r2'].append(r2_score(np.asarray(Y_test), clf.predict(np.asarray(X_test)), multioutput='uniform_average'))\n",
        "\n",
        "\n",
        "pp = pprint.PrettyPrinter(indent=4)\n",
        "pp.pprint(scores)"
      ],
      "execution_count": 23,
      "outputs": [
        {
          "output_type": "stream",
          "text": [
            "{   'mse': [   298882625.68892217,\n",
            "               491029112.54607385,\n",
            "               45606034174.366295,\n",
            "               168749189.22235522,\n",
            "               159085089.05049336,\n",
            "               197740207.44954875],\n",
            "    'r2': [   0.9101797386011452,\n",
            "              0.8679454388373864,\n",
            "              -5.676907712529968,\n",
            "              0.9303235271197863,\n",
            "              0.9324803590333748,\n",
            "              0.9107992178102275]}\n"
          ],
          "name": "stdout"
        }
      ]
    },
    {
      "cell_type": "code",
      "metadata": {
        "id": "R7rNxvdtXcHL",
        "colab_type": "code",
        "colab": {
          "base_uri": "https://localhost:8080/",
          "height": 51
        },
        "outputId": "5421ccdf-c4e4-45cb-866d-e29b0f44ce17"
      },
      "source": [
        "#### Voting Regressot & RegressorChain\n",
        "\n",
        "\n",
        "# Combination works well for VotingRegressor & RegressorChain\n",
        "clfs = [('ETR', ExtraTreesRegressor()), ('EN', ElasticNet())]\n",
        "\n",
        "VR = VotingRegressor(clfs)\n",
        "clf = RegressorChain(VR)\n",
        "clf.fit(X_train, Y_train)\n",
        "\n",
        "print(mean_squared_error(Y_test, clf.predict(X_test)))\n",
        "print(r2_score(Y_test, clf.predict(X_test), multioutput='uniform_average'))"
      ],
      "execution_count": 20,
      "outputs": [
        {
          "output_type": "stream",
          "text": [
            "184711247.07680193\n",
            "0.9346531757776878\n"
          ],
          "name": "stdout"
        }
      ]
    },
    {
      "cell_type": "code",
      "metadata": {
        "id": "eM7QStDifLjq",
        "colab_type": "code",
        "colab": {
          "base_uri": "https://localhost:8080/",
          "height": 51
        },
        "outputId": "68ff7094-28c7-41be-b961-3b14b450fd94"
      },
      "source": [
        "### StackingRegressor & RegressorChain\n",
        "\n",
        "# Combination works well for StackingRegressor & RegressorChain\n",
        "clfs = [('GPR', GaussianProcessRegressor()), ('LR', LinearRegression())]\n",
        "\n",
        "\n",
        "SR = StackingRegressor(clfs)\n",
        "clf = RegressorChain(SR)\n",
        "clf.fit(X_train, Y_train)\n",
        "\n",
        "print(mean_squared_error(Y_test, clf.predict(X_test)))\n",
        "print(r2_score(Y_test, clf.predict(X_test), multioutput='uniform_average'))"
      ],
      "execution_count": 26,
      "outputs": [
        {
          "output_type": "stream",
          "text": [
            "161727554.13933465\n",
            "0.9321268189503291\n"
          ],
          "name": "stdout"
        }
      ]
    },
    {
      "cell_type": "code",
      "metadata": {
        "id": "gP7h4HvpbSFx",
        "colab_type": "code",
        "colab": {
          "base_uri": "https://localhost:8080/",
          "height": 272
        },
        "outputId": "62f43a4c-49c4-41ba-9d29-3a141399c8d2"
      },
      "source": [
        "### Regressorchain with ElasticNet & Linear Regression\n",
        "\n",
        "\n",
        "clfs = [(\"ETR\", ExtraTreesRegressor()), (\"RF\", RandomForestRegressor()), \n",
        "        (\"GPR\", GaussianProcessRegressor()), (\"EN\", ElasticNet()), (\"LR\", LinearRegression())]\n",
        "\n",
        "\n",
        "for clf in clfs:\n",
        "  model = RegressorChain(clf[1])\n",
        "  model.fit(X_train, Y_train)\n",
        "  print(clf[0])\n",
        "  print(\"mse - \", mean_squared_error(Y_test, model.predict(X_test)))\n",
        "  print(\"R2 - \", r2_score(Y_test, model.predict(X_test), multioutput='uniform_average'))"
      ],
      "execution_count": 32,
      "outputs": [
        {
          "output_type": "stream",
          "text": [
            "ETR\n",
            "mse -  286153051.657496\n",
            "R2 -  0.9128742896758584\n",
            "RF\n",
            "mse -  615115541.0358131\n",
            "R2 -  0.868808875988095\n",
            "GPR\n",
            "mse -  45606036409.050285\n",
            "R2 -  -5.676932261590659\n",
            "EN\n",
            "mse -  168749192.35732186\n",
            "R2 -  0.9303234926806869\n",
            "LR\n",
            "mse -  159085089.05049363\n",
            "R2 -  0.9324803590333747\n"
          ],
          "name": "stdout"
        }
      ]
    },
    {
      "cell_type": "markdown",
      "metadata": {
        "id": "ArSM0ALSrIGV",
        "colab_type": "text"
      },
      "source": [
        ""
      ]
    },
    {
      "cell_type": "markdown",
      "metadata": {
        "id": "Znq1a-rCqSJb",
        "colab_type": "text"
      },
      "source": [
        "At the moment, it does not appear that the Keras ANN can work well with sklearn. There are two issues here. The first issue is the VotingRegressor & StackingRegressor models don't recognize KerasRegressor as a Regressor. This issue appears to have been fixed, however the change hasn't been pushed to the current sklearn. See - \n",
        "\n",
        "https://github.com/tensorflow/tensorflow/pull/37201\n",
        "\n",
        "\n",
        "The second issue, for RegressorChain, the second time the model is passed in, 5 features are passed into the model, but our model definition only expects 4. This is typically not a problem for sklearn models since we don't predefine the expected number of input features. "
      ]
    },
    {
      "cell_type": "code",
      "metadata": {
        "id": "fIM4VXf0l24U",
        "colab_type": "code",
        "colab": {
          "base_uri": "https://localhost:8080/",
          "height": 395
        },
        "outputId": "225b9d93-da42-4c09-ce95-77125240e4eb"
      },
      "source": [
        "## Model Architecture using Sequential\n",
        "def build_model():\n",
        "  clf = Sequential()\n",
        "  clf.add(Dense(128, input_shape=(4, )))\n",
        "  clf.add(Dense(256))\n",
        "  clf.add(Dropout(0.3))\n",
        "  clf.add(Dense(256))\n",
        "  clf.add(Dense(256))\n",
        "  clf.add(Dense(1))\n",
        "  clf.compile(optimizer='adam', loss='mse')\n",
        "\n",
        "  return(clf)\n",
        "\n",
        "\n",
        "ANNclf = KerasRegressor(build_model, epochs=1030, verbose=0)\n",
        "\n",
        "\n",
        "clf = RegressorChain(ANNclf)\n",
        "clf.fit(X_train, Y_train)\n",
        "\n",
        "print(mean_squared_error(Y_test, clf.predict(X_test)))\n",
        "print(r2_score(Y_test, clf.predict(X_test), multioutput='uniform_average'))"
      ],
      "execution_count": 25,
      "outputs": [
        {
          "output_type": "error",
          "ename": "ValueError",
          "evalue": "ignored",
          "traceback": [
            "\u001b[0;31m---------------------------------------------------------------------------\u001b[0m",
            "\u001b[0;31mValueError\u001b[0m                                Traceback (most recent call last)",
            "\u001b[0;32m<ipython-input-25-cea3d1462477>\u001b[0m in \u001b[0;36m<module>\u001b[0;34m()\u001b[0m\n\u001b[1;32m     16\u001b[0m \u001b[0;34m\u001b[0m\u001b[0m\n\u001b[1;32m     17\u001b[0m \u001b[0mclf\u001b[0m \u001b[0;34m=\u001b[0m \u001b[0mRegressorChain\u001b[0m\u001b[0;34m(\u001b[0m\u001b[0mANNclf\u001b[0m\u001b[0;34m)\u001b[0m\u001b[0;34m\u001b[0m\u001b[0;34m\u001b[0m\u001b[0m\n\u001b[0;32m---> 18\u001b[0;31m \u001b[0mclf\u001b[0m\u001b[0;34m.\u001b[0m\u001b[0mfit\u001b[0m\u001b[0;34m(\u001b[0m\u001b[0mX_train\u001b[0m\u001b[0;34m,\u001b[0m \u001b[0mY_train\u001b[0m\u001b[0;34m)\u001b[0m\u001b[0;34m\u001b[0m\u001b[0;34m\u001b[0m\u001b[0m\n\u001b[0m\u001b[1;32m     19\u001b[0m \u001b[0;34m\u001b[0m\u001b[0m\n\u001b[1;32m     20\u001b[0m \u001b[0mprint\u001b[0m\u001b[0;34m(\u001b[0m\u001b[0mmean_squared_error\u001b[0m\u001b[0;34m(\u001b[0m\u001b[0mY_test\u001b[0m\u001b[0;34m,\u001b[0m \u001b[0mclf\u001b[0m\u001b[0;34m.\u001b[0m\u001b[0mpredict\u001b[0m\u001b[0;34m(\u001b[0m\u001b[0mX_test\u001b[0m\u001b[0;34m)\u001b[0m\u001b[0;34m)\u001b[0m\u001b[0;34m)\u001b[0m\u001b[0;34m\u001b[0m\u001b[0;34m\u001b[0m\u001b[0m\n",
            "\u001b[0;32m/usr/local/lib/python3.6/dist-packages/sklearn/multioutput.py\u001b[0m in \u001b[0;36mfit\u001b[0;34m(self, X, Y)\u001b[0m\n\u001b[1;32m    773\u001b[0m         \u001b[0mself\u001b[0m \u001b[0;34m:\u001b[0m \u001b[0mobject\u001b[0m\u001b[0;34m\u001b[0m\u001b[0;34m\u001b[0m\u001b[0m\n\u001b[1;32m    774\u001b[0m         \"\"\"\n\u001b[0;32m--> 775\u001b[0;31m         \u001b[0msuper\u001b[0m\u001b[0;34m(\u001b[0m\u001b[0;34m)\u001b[0m\u001b[0;34m.\u001b[0m\u001b[0mfit\u001b[0m\u001b[0;34m(\u001b[0m\u001b[0mX\u001b[0m\u001b[0;34m,\u001b[0m \u001b[0mY\u001b[0m\u001b[0;34m)\u001b[0m\u001b[0;34m\u001b[0m\u001b[0;34m\u001b[0m\u001b[0m\n\u001b[0m\u001b[1;32m    776\u001b[0m         \u001b[0;32mreturn\u001b[0m \u001b[0mself\u001b[0m\u001b[0;34m\u001b[0m\u001b[0;34m\u001b[0m\u001b[0m\n\u001b[1;32m    777\u001b[0m \u001b[0;34m\u001b[0m\u001b[0m\n",
            "\u001b[0;32m/usr/local/lib/python3.6/dist-packages/sklearn/multioutput.py\u001b[0m in \u001b[0;36mfit\u001b[0;34m(self, X, Y)\u001b[0m\n\u001b[1;32m    484\u001b[0m         \u001b[0;32mfor\u001b[0m \u001b[0mchain_idx\u001b[0m\u001b[0;34m,\u001b[0m \u001b[0mestimator\u001b[0m \u001b[0;32min\u001b[0m \u001b[0menumerate\u001b[0m\u001b[0;34m(\u001b[0m\u001b[0mself\u001b[0m\u001b[0;34m.\u001b[0m\u001b[0mestimators_\u001b[0m\u001b[0;34m)\u001b[0m\u001b[0;34m:\u001b[0m\u001b[0;34m\u001b[0m\u001b[0;34m\u001b[0m\u001b[0m\n\u001b[1;32m    485\u001b[0m             \u001b[0my\u001b[0m \u001b[0;34m=\u001b[0m \u001b[0mY\u001b[0m\u001b[0;34m[\u001b[0m\u001b[0;34m:\u001b[0m\u001b[0;34m,\u001b[0m \u001b[0mself\u001b[0m\u001b[0;34m.\u001b[0m\u001b[0morder_\u001b[0m\u001b[0;34m[\u001b[0m\u001b[0mchain_idx\u001b[0m\u001b[0;34m]\u001b[0m\u001b[0;34m]\u001b[0m\u001b[0;34m\u001b[0m\u001b[0;34m\u001b[0m\u001b[0m\n\u001b[0;32m--> 486\u001b[0;31m             \u001b[0mestimator\u001b[0m\u001b[0;34m.\u001b[0m\u001b[0mfit\u001b[0m\u001b[0;34m(\u001b[0m\u001b[0mX_aug\u001b[0m\u001b[0;34m[\u001b[0m\u001b[0;34m:\u001b[0m\u001b[0;34m,\u001b[0m \u001b[0;34m:\u001b[0m\u001b[0;34m(\u001b[0m\u001b[0mX\u001b[0m\u001b[0;34m.\u001b[0m\u001b[0mshape\u001b[0m\u001b[0;34m[\u001b[0m\u001b[0;36m1\u001b[0m\u001b[0;34m]\u001b[0m \u001b[0;34m+\u001b[0m \u001b[0mchain_idx\u001b[0m\u001b[0;34m)\u001b[0m\u001b[0;34m]\u001b[0m\u001b[0;34m,\u001b[0m \u001b[0my\u001b[0m\u001b[0;34m)\u001b[0m\u001b[0;34m\u001b[0m\u001b[0;34m\u001b[0m\u001b[0m\n\u001b[0m\u001b[1;32m    487\u001b[0m             \u001b[0;32mif\u001b[0m \u001b[0mself\u001b[0m\u001b[0;34m.\u001b[0m\u001b[0mcv\u001b[0m \u001b[0;32mis\u001b[0m \u001b[0;32mnot\u001b[0m \u001b[0;32mNone\u001b[0m \u001b[0;32mand\u001b[0m \u001b[0mchain_idx\u001b[0m \u001b[0;34m<\u001b[0m \u001b[0mlen\u001b[0m\u001b[0;34m(\u001b[0m\u001b[0mself\u001b[0m\u001b[0;34m.\u001b[0m\u001b[0mestimators_\u001b[0m\u001b[0;34m)\u001b[0m \u001b[0;34m-\u001b[0m \u001b[0;36m1\u001b[0m\u001b[0;34m:\u001b[0m\u001b[0;34m\u001b[0m\u001b[0;34m\u001b[0m\u001b[0m\n\u001b[1;32m    488\u001b[0m                 \u001b[0mcol_idx\u001b[0m \u001b[0;34m=\u001b[0m \u001b[0mX\u001b[0m\u001b[0;34m.\u001b[0m\u001b[0mshape\u001b[0m\u001b[0;34m[\u001b[0m\u001b[0;36m1\u001b[0m\u001b[0;34m]\u001b[0m \u001b[0;34m+\u001b[0m \u001b[0mchain_idx\u001b[0m\u001b[0;34m\u001b[0m\u001b[0;34m\u001b[0m\u001b[0m\n",
            "\u001b[0;32m/usr/local/lib/python3.6/dist-packages/keras/wrappers/scikit_learn.py\u001b[0m in \u001b[0;36mfit\u001b[0;34m(self, x, y, **kwargs)\u001b[0m\n\u001b[1;32m    150\u001b[0m         \u001b[0mfit_args\u001b[0m\u001b[0;34m.\u001b[0m\u001b[0mupdate\u001b[0m\u001b[0;34m(\u001b[0m\u001b[0mkwargs\u001b[0m\u001b[0;34m)\u001b[0m\u001b[0;34m\u001b[0m\u001b[0;34m\u001b[0m\u001b[0m\n\u001b[1;32m    151\u001b[0m \u001b[0;34m\u001b[0m\u001b[0m\n\u001b[0;32m--> 152\u001b[0;31m         \u001b[0mhistory\u001b[0m \u001b[0;34m=\u001b[0m \u001b[0mself\u001b[0m\u001b[0;34m.\u001b[0m\u001b[0mmodel\u001b[0m\u001b[0;34m.\u001b[0m\u001b[0mfit\u001b[0m\u001b[0;34m(\u001b[0m\u001b[0mx\u001b[0m\u001b[0;34m,\u001b[0m \u001b[0my\u001b[0m\u001b[0;34m,\u001b[0m \u001b[0;34m**\u001b[0m\u001b[0mfit_args\u001b[0m\u001b[0;34m)\u001b[0m\u001b[0;34m\u001b[0m\u001b[0;34m\u001b[0m\u001b[0m\n\u001b[0m\u001b[1;32m    153\u001b[0m \u001b[0;34m\u001b[0m\u001b[0m\n\u001b[1;32m    154\u001b[0m         \u001b[0;32mreturn\u001b[0m \u001b[0mhistory\u001b[0m\u001b[0;34m\u001b[0m\u001b[0;34m\u001b[0m\u001b[0m\n",
            "\u001b[0;32m/usr/local/lib/python3.6/dist-packages/tensorflow_core/python/keras/engine/training.py\u001b[0m in \u001b[0;36mfit\u001b[0;34m(self, x, y, batch_size, epochs, verbose, callbacks, validation_split, validation_data, shuffle, class_weight, sample_weight, initial_epoch, steps_per_epoch, validation_steps, validation_freq, max_queue_size, workers, use_multiprocessing, **kwargs)\u001b[0m\n\u001b[1;32m    726\u001b[0m         \u001b[0mmax_queue_size\u001b[0m\u001b[0;34m=\u001b[0m\u001b[0mmax_queue_size\u001b[0m\u001b[0;34m,\u001b[0m\u001b[0;34m\u001b[0m\u001b[0;34m\u001b[0m\u001b[0m\n\u001b[1;32m    727\u001b[0m         \u001b[0mworkers\u001b[0m\u001b[0;34m=\u001b[0m\u001b[0mworkers\u001b[0m\u001b[0;34m,\u001b[0m\u001b[0;34m\u001b[0m\u001b[0;34m\u001b[0m\u001b[0m\n\u001b[0;32m--> 728\u001b[0;31m         use_multiprocessing=use_multiprocessing)\n\u001b[0m\u001b[1;32m    729\u001b[0m \u001b[0;34m\u001b[0m\u001b[0m\n\u001b[1;32m    730\u001b[0m   def evaluate(self,\n",
            "\u001b[0;32m/usr/local/lib/python3.6/dist-packages/tensorflow_core/python/keras/engine/training_v2.py\u001b[0m in \u001b[0;36mfit\u001b[0;34m(self, model, x, y, batch_size, epochs, verbose, callbacks, validation_split, validation_data, shuffle, class_weight, sample_weight, initial_epoch, steps_per_epoch, validation_steps, validation_freq, **kwargs)\u001b[0m\n\u001b[1;32m    222\u001b[0m           \u001b[0mvalidation_data\u001b[0m\u001b[0;34m=\u001b[0m\u001b[0mvalidation_data\u001b[0m\u001b[0;34m,\u001b[0m\u001b[0;34m\u001b[0m\u001b[0;34m\u001b[0m\u001b[0m\n\u001b[1;32m    223\u001b[0m           \u001b[0mvalidation_steps\u001b[0m\u001b[0;34m=\u001b[0m\u001b[0mvalidation_steps\u001b[0m\u001b[0;34m,\u001b[0m\u001b[0;34m\u001b[0m\u001b[0;34m\u001b[0m\u001b[0m\n\u001b[0;32m--> 224\u001b[0;31m           distribution_strategy=strategy)\n\u001b[0m\u001b[1;32m    225\u001b[0m \u001b[0;34m\u001b[0m\u001b[0m\n\u001b[1;32m    226\u001b[0m       \u001b[0mtotal_samples\u001b[0m \u001b[0;34m=\u001b[0m \u001b[0m_get_total_number_of_samples\u001b[0m\u001b[0;34m(\u001b[0m\u001b[0mtraining_data_adapter\u001b[0m\u001b[0;34m)\u001b[0m\u001b[0;34m\u001b[0m\u001b[0;34m\u001b[0m\u001b[0m\n",
            "\u001b[0;32m/usr/local/lib/python3.6/dist-packages/tensorflow_core/python/keras/engine/training_v2.py\u001b[0m in \u001b[0;36m_process_training_inputs\u001b[0;34m(model, x, y, batch_size, epochs, sample_weights, class_weights, steps_per_epoch, validation_split, validation_data, validation_steps, shuffle, distribution_strategy, max_queue_size, workers, use_multiprocessing)\u001b[0m\n\u001b[1;32m    545\u001b[0m         \u001b[0mmax_queue_size\u001b[0m\u001b[0;34m=\u001b[0m\u001b[0mmax_queue_size\u001b[0m\u001b[0;34m,\u001b[0m\u001b[0;34m\u001b[0m\u001b[0;34m\u001b[0m\u001b[0m\n\u001b[1;32m    546\u001b[0m         \u001b[0mworkers\u001b[0m\u001b[0;34m=\u001b[0m\u001b[0mworkers\u001b[0m\u001b[0;34m,\u001b[0m\u001b[0;34m\u001b[0m\u001b[0;34m\u001b[0m\u001b[0m\n\u001b[0;32m--> 547\u001b[0;31m         use_multiprocessing=use_multiprocessing)\n\u001b[0m\u001b[1;32m    548\u001b[0m     \u001b[0mval_adapter\u001b[0m \u001b[0;34m=\u001b[0m \u001b[0;32mNone\u001b[0m\u001b[0;34m\u001b[0m\u001b[0;34m\u001b[0m\u001b[0m\n\u001b[1;32m    549\u001b[0m     \u001b[0;32mif\u001b[0m \u001b[0mvalidation_data\u001b[0m\u001b[0;34m:\u001b[0m\u001b[0;34m\u001b[0m\u001b[0;34m\u001b[0m\u001b[0m\n",
            "\u001b[0;32m/usr/local/lib/python3.6/dist-packages/tensorflow_core/python/keras/engine/training_v2.py\u001b[0m in \u001b[0;36m_process_inputs\u001b[0;34m(model, x, y, batch_size, epochs, sample_weights, class_weights, shuffle, steps, distribution_strategy, max_queue_size, workers, use_multiprocessing)\u001b[0m\n\u001b[1;32m    592\u001b[0m         \u001b[0mbatch_size\u001b[0m\u001b[0;34m=\u001b[0m\u001b[0mbatch_size\u001b[0m\u001b[0;34m,\u001b[0m\u001b[0;34m\u001b[0m\u001b[0;34m\u001b[0m\u001b[0m\n\u001b[1;32m    593\u001b[0m         \u001b[0mcheck_steps\u001b[0m\u001b[0;34m=\u001b[0m\u001b[0;32mFalse\u001b[0m\u001b[0;34m,\u001b[0m\u001b[0;34m\u001b[0m\u001b[0;34m\u001b[0m\u001b[0m\n\u001b[0;32m--> 594\u001b[0;31m         steps=steps)\n\u001b[0m\u001b[1;32m    595\u001b[0m   adapter = adapter_cls(\n\u001b[1;32m    596\u001b[0m       \u001b[0mx\u001b[0m\u001b[0;34m,\u001b[0m\u001b[0;34m\u001b[0m\u001b[0;34m\u001b[0m\u001b[0m\n",
            "\u001b[0;32m/usr/local/lib/python3.6/dist-packages/tensorflow_core/python/keras/engine/training.py\u001b[0m in \u001b[0;36m_standardize_user_data\u001b[0;34m(self, x, y, sample_weight, class_weight, batch_size, check_steps, steps_name, steps, validation_split, shuffle, extract_tensors_from_dataset)\u001b[0m\n\u001b[1;32m   2470\u001b[0m           \u001b[0mfeed_input_shapes\u001b[0m\u001b[0;34m,\u001b[0m\u001b[0;34m\u001b[0m\u001b[0;34m\u001b[0m\u001b[0m\n\u001b[1;32m   2471\u001b[0m           \u001b[0mcheck_batch_axis\u001b[0m\u001b[0;34m=\u001b[0m\u001b[0;32mFalse\u001b[0m\u001b[0;34m,\u001b[0m  \u001b[0;31m# Don't enforce the batch size.\u001b[0m\u001b[0;34m\u001b[0m\u001b[0;34m\u001b[0m\u001b[0m\n\u001b[0;32m-> 2472\u001b[0;31m           exception_prefix='input')\n\u001b[0m\u001b[1;32m   2473\u001b[0m \u001b[0;34m\u001b[0m\u001b[0m\n\u001b[1;32m   2474\u001b[0m     \u001b[0;31m# Get typespecs for the input data and sanitize it if necessary.\u001b[0m\u001b[0;34m\u001b[0m\u001b[0;34m\u001b[0m\u001b[0;34m\u001b[0m\u001b[0m\n",
            "\u001b[0;32m/usr/local/lib/python3.6/dist-packages/tensorflow_core/python/keras/engine/training_utils.py\u001b[0m in \u001b[0;36mstandardize_input_data\u001b[0;34m(data, names, shapes, check_batch_axis, exception_prefix)\u001b[0m\n\u001b[1;32m    572\u001b[0m                              \u001b[0;34m': expected '\u001b[0m \u001b[0;34m+\u001b[0m \u001b[0mnames\u001b[0m\u001b[0;34m[\u001b[0m\u001b[0mi\u001b[0m\u001b[0;34m]\u001b[0m \u001b[0;34m+\u001b[0m \u001b[0;34m' to have shape '\u001b[0m \u001b[0;34m+\u001b[0m\u001b[0;34m\u001b[0m\u001b[0;34m\u001b[0m\u001b[0m\n\u001b[1;32m    573\u001b[0m                              \u001b[0mstr\u001b[0m\u001b[0;34m(\u001b[0m\u001b[0mshape\u001b[0m\u001b[0;34m)\u001b[0m \u001b[0;34m+\u001b[0m \u001b[0;34m' but got array with shape '\u001b[0m \u001b[0;34m+\u001b[0m\u001b[0;34m\u001b[0m\u001b[0;34m\u001b[0m\u001b[0m\n\u001b[0;32m--> 574\u001b[0;31m                              str(data_shape))\n\u001b[0m\u001b[1;32m    575\u001b[0m   \u001b[0;32mreturn\u001b[0m \u001b[0mdata\u001b[0m\u001b[0;34m\u001b[0m\u001b[0;34m\u001b[0m\u001b[0m\n\u001b[1;32m    576\u001b[0m \u001b[0;34m\u001b[0m\u001b[0m\n",
            "\u001b[0;31mValueError\u001b[0m: Error when checking input: expected dense_25_input to have shape (4,) but got array with shape (5,)"
          ]
        }
      ]
    }
  ]
}