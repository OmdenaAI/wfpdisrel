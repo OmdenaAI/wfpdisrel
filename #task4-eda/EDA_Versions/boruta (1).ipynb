{
 "cells": [
  {
   "cell_type": "code",
   "execution_count": 5,
   "metadata": {},
   "outputs": [],
   "source": [
    "import pandas"
   ]
  },
  {
   "cell_type": "code",
   "execution_count": null,
   "metadata": {},
   "outputs": [],
   "source": [
    "##Boruta is a pretty smart algorithm dating back to 2010 designed to automatically perform feature selection on a dataset. It was born as a package for R (this is the article that first described it). A version of Boruta for Python — called BorutaPy — exists and can be found here."
   ]
  },
  {
   "cell_type": "code",
   "execution_count": 7,
   "metadata": {},
   "outputs": [],
   "source": [
    "import numpy as np### make X_shadow by randomly permuting each column of X\n",
    "np.random.seed(42)\n",
    "X_shadow = X.apply(np.random.permutation)\n",
    "X_shadow.columns = ['shadow_' + feat for feat in X.columns]### make X_boruta by appending X_shadow to X\n",
    "X_boruta = pd.concat([X, X_shadow], axis = 1)"
   ]
  },
  {
   "cell_type": "code",
   "execution_count": 8,
   "metadata": {},
   "outputs": [],
   "source": [
    "from sklearn.ensemble import RandomForestRegressor### fit a random forest (suggested max_depth between 3 and 7)\n",
    "forest = RandomForestRegressor(max_depth = 5, random_state = 42)\n",
    "forest.fit(X_boruta, y)### store feature importances\n",
    "feat_imp_X = forest.feature_importances_[:len(X.columns)]\n",
    "feat_imp_shadow = forest.feature_importances_[len(X.columns):]### compute hits\n",
    "hits = feat_imp_X > feat_imp_shadow.max()"
   ]
  },
  {
   "cell_type": "code",
   "execution_count": 1,
   "metadata": {},
   "outputs": [
    {
     "data": {
      "text/plain": [
       "(1005, 45)"
      ]
     },
     "execution_count": 1,
     "metadata": {},
     "output_type": "execute_result"
    }
   ],
   "source": [
    "import numpy as np \n",
    "import pandas as pd \n",
    "from sklearn.ensemble import RandomForestClassifier\n",
    "from boruta import BorutaPy\n",
    "train = pd.read_csv(\"C:/Users/iDIGITAL/Desktop/Challenge/Broute/test_X.csv\")\n",
    "train.shape"
   ]
  },
  {
   "cell_type": "code",
   "execution_count": 3,
   "metadata": {},
   "outputs": [
    {
     "data": {
      "text/plain": [
       "Index(['0', 'SID', 'NAME', 'ISO', 'YEAR', 'BASIN', 'SUB BASIN', 'NATURE',\n",
       "       'ISO_TIME', 'COORDS', 'TOTAL_HRS', 'DAY_HRS', 'NIGHT_HRS', 'USA_SSHS',\n",
       "       'WIND_CALC_MEAN', 'PRES_CALC_MEAN', 'STORM_SPD_MEAN', 'STORM_DR_MEAN',\n",
       "       'V_LAND_KN', '34KN_POP', '34KN_ASSETS', '64KN_POP', '64KN_ASSETS',\n",
       "       '96KN_POP', '96KN_ASSETS', 'CPI', 'TOTAL_DAMAGE_(000$)', 'TOTAL_DEATHS',\n",
       "       'Air transport, freight (million ton-km)',\n",
       "       'Arable land (hectares per person)', 'Cereal yield (kg per hectare)',\n",
       "       'Food production index (2004-2006 = 100)', 'GDP growth (annual %)',\n",
       "       'GDP per capita (constant 2010 US$)', 'Net flows from UN agencies US$',\n",
       "       'Life expectancy at birth, total (years)',\n",
       "       'Mobile cellular subscriptions (per 100 people)',\n",
       "       'Population density (people per sq. km of land area)',\n",
       "       'Adjusted savings: education expenditure (% of GNI)',\n",
       "       'Rural population (% of total population)', 'Income_level_Final',\n",
       "       'pop_max_34_adj', 'pop_max_50_adj', 'pop_max_64_adj', 'TOTAL_AFFECTED'],\n",
       "      dtype='object')"
      ]
     },
     "execution_count": 3,
     "metadata": {},
     "output_type": "execute_result"
    }
   ],
   "source": [
    "train.columns"
   ]
  },
  {
   "cell_type": "code",
   "execution_count": 23,
   "metadata": {},
   "outputs": [
    {
     "data": {
      "text/plain": [
       "(1005, 3446)"
      ]
     },
     "execution_count": 23,
     "metadata": {},
     "output_type": "execute_result"
    }
   ],
   "source": [
    "#All categorical values will be one-hot encoded.\n",
    "train = pd.get_dummies(train, drop_first=True, dummy_na=True)\n",
    "train.shape"
   ]
  },
  {
   "cell_type": "code",
   "execution_count": 24,
   "metadata": {},
   "outputs": [
    {
     "data": {
      "text/plain": [
       "3445"
      ]
     },
     "execution_count": 24,
     "metadata": {},
     "output_type": "execute_result"
    }
   ],
   "source": [
    "#Get all feature names from the dataset\n",
    "features = [f for f in train.columns if f not in ['TOTAL_AFFECTED']]\n",
    "len(features)"
   ]
  },
  {
   "cell_type": "code",
   "execution_count": 25,
   "metadata": {},
   "outputs": [],
   "source": [
    "#Replace all missing values with the Mean.\n",
    "train[features] = train[features].fillna(train[features].mean()).clip(-1e9,1e9)"
   ]
  },
  {
   "cell_type": "code",
   "execution_count": 26,
   "metadata": {},
   "outputs": [],
   "source": [
    "#Get the final dataset X and labels Y\n",
    "X = train[features].values\n",
    "Y = train['TOTAL_AFFECTED'].values.ravel()"
   ]
  },
  {
   "cell_type": "code",
   "execution_count": 27,
   "metadata": {},
   "outputs": [],
   "source": [
    "#Next we setup the RandomForrestClassifier as the estimator to use for Boruta. The max_depth of the tree is advised on the Boruta Github page to be between 3 to 7.\n",
    "rf = RandomForestClassifier(n_jobs=-1, class_weight='balanced', max_depth=5)"
   ]
  },
  {
   "cell_type": "code",
   "execution_count": 28,
   "metadata": {},
   "outputs": [
    {
     "name": "stdout",
     "output_type": "stream",
     "text": [
      "Iteration: \t1 / 50\n",
      "Confirmed: \t0\n",
      "Tentative: \t3445\n",
      "Rejected: \t0\n",
      "Iteration: \t2 / 50\n",
      "Confirmed: \t0\n",
      "Tentative: \t3445\n",
      "Rejected: \t0\n",
      "Iteration: \t3 / 50\n",
      "Confirmed: \t0\n",
      "Tentative: \t3445\n",
      "Rejected: \t0\n",
      "Iteration: \t4 / 50\n",
      "Confirmed: \t0\n",
      "Tentative: \t3445\n",
      "Rejected: \t0\n",
      "Iteration: \t5 / 50\n",
      "Confirmed: \t0\n",
      "Tentative: \t3445\n",
      "Rejected: \t0\n",
      "Iteration: \t6 / 50\n",
      "Confirmed: \t0\n",
      "Tentative: \t3445\n",
      "Rejected: \t0\n",
      "Iteration: \t7 / 50\n",
      "Confirmed: \t0\n",
      "Tentative: \t3445\n",
      "Rejected: \t0\n",
      "Iteration: \t8 / 50\n",
      "Confirmed: \t0\n",
      "Tentative: \t1683\n",
      "Rejected: \t1762\n",
      "Iteration: \t9 / 50\n",
      "Confirmed: \t0\n",
      "Tentative: \t1683\n",
      "Rejected: \t1762\n",
      "Iteration: \t10 / 50\n",
      "Confirmed: \t0\n",
      "Tentative: \t1683\n",
      "Rejected: \t1762\n",
      "Iteration: \t11 / 50\n",
      "Confirmed: \t29\n",
      "Tentative: \t1654\n",
      "Rejected: \t1762\n",
      "Iteration: \t12 / 50\n",
      "Confirmed: \t29\n",
      "Tentative: \t1107\n",
      "Rejected: \t2309\n",
      "Iteration: \t13 / 50\n",
      "Confirmed: \t29\n",
      "Tentative: \t1107\n",
      "Rejected: \t2309\n",
      "Iteration: \t14 / 50\n",
      "Confirmed: \t29\n",
      "Tentative: \t1107\n",
      "Rejected: \t2309\n",
      "Iteration: \t15 / 50\n",
      "Confirmed: \t29\n",
      "Tentative: \t1107\n",
      "Rejected: \t2309\n",
      "Iteration: \t16 / 50\n",
      "Confirmed: \t29\n",
      "Tentative: \t713\n",
      "Rejected: \t2703\n",
      "Iteration: \t17 / 50\n",
      "Confirmed: \t30\n",
      "Tentative: \t712\n",
      "Rejected: \t2703\n",
      "Iteration: \t18 / 50\n",
      "Confirmed: \t30\n",
      "Tentative: \t712\n",
      "Rejected: \t2703\n",
      "Iteration: \t19 / 50\n",
      "Confirmed: \t30\n",
      "Tentative: \t437\n",
      "Rejected: \t2978\n",
      "Iteration: \t20 / 50\n",
      "Confirmed: \t30\n",
      "Tentative: \t437\n",
      "Rejected: \t2978\n",
      "Iteration: \t21 / 50\n",
      "Confirmed: \t30\n",
      "Tentative: \t437\n",
      "Rejected: \t2978\n",
      "Iteration: \t22 / 50\n",
      "Confirmed: \t31\n",
      "Tentative: \t236\n",
      "Rejected: \t3178\n",
      "Iteration: \t23 / 50\n",
      "Confirmed: \t31\n",
      "Tentative: \t236\n",
      "Rejected: \t3178\n",
      "Iteration: \t24 / 50\n",
      "Confirmed: \t31\n",
      "Tentative: \t236\n",
      "Rejected: \t3178\n",
      "Iteration: \t25 / 50\n",
      "Confirmed: \t31\n",
      "Tentative: \t236\n",
      "Rejected: \t3178\n",
      "Iteration: \t26 / 50\n",
      "Confirmed: \t31\n",
      "Tentative: \t102\n",
      "Rejected: \t3312\n",
      "Iteration: \t27 / 50\n",
      "Confirmed: \t31\n",
      "Tentative: \t102\n",
      "Rejected: \t3312\n",
      "Iteration: \t28 / 50\n",
      "Confirmed: \t31\n",
      "Tentative: \t102\n",
      "Rejected: \t3312\n",
      "Iteration: \t29 / 50\n",
      "Confirmed: \t31\n",
      "Tentative: \t37\n",
      "Rejected: \t3377\n",
      "Iteration: \t30 / 50\n",
      "Confirmed: \t31\n",
      "Tentative: \t37\n",
      "Rejected: \t3377\n",
      "Iteration: \t31 / 50\n",
      "Confirmed: \t31\n",
      "Tentative: \t37\n",
      "Rejected: \t3377\n",
      "Iteration: \t32 / 50\n",
      "Confirmed: \t31\n",
      "Tentative: \t17\n",
      "Rejected: \t3397\n",
      "Iteration: \t33 / 50\n",
      "Confirmed: \t31\n",
      "Tentative: \t17\n",
      "Rejected: \t3397\n",
      "Iteration: \t34 / 50\n",
      "Confirmed: \t31\n",
      "Tentative: \t10\n",
      "Rejected: \t3404\n",
      "Iteration: \t35 / 50\n",
      "Confirmed: \t31\n",
      "Tentative: \t10\n",
      "Rejected: \t3404\n",
      "Iteration: \t36 / 50\n",
      "Confirmed: \t31\n",
      "Tentative: \t10\n",
      "Rejected: \t3404\n",
      "Iteration: \t37 / 50\n",
      "Confirmed: \t31\n",
      "Tentative: \t2\n",
      "Rejected: \t3412\n",
      "Iteration: \t38 / 50\n",
      "Confirmed: \t31\n",
      "Tentative: \t2\n",
      "Rejected: \t3412\n",
      "Iteration: \t39 / 50\n",
      "Confirmed: \t31\n",
      "Tentative: \t2\n",
      "Rejected: \t3412\n",
      "Iteration: \t40 / 50\n",
      "Confirmed: \t31\n",
      "Tentative: \t0\n",
      "Rejected: \t3414\n",
      "\n",
      "\n",
      "BorutaPy finished running.\n",
      "\n",
      "Iteration: \t41 / 50\n",
      "Confirmed: \t31\n",
      "Tentative: \t0\n",
      "Rejected: \t3414\n"
     ]
    },
    {
     "data": {
      "text/plain": [
       "BorutaPy(alpha=0.05,\n",
       "         estimator=RandomForestClassifier(bootstrap=True, ccp_alpha=0.0,\n",
       "                                          class_weight='balanced',\n",
       "                                          criterion='gini', max_depth=5,\n",
       "                                          max_features='auto',\n",
       "                                          max_leaf_nodes=None, max_samples=None,\n",
       "                                          min_impurity_decrease=0.0,\n",
       "                                          min_impurity_split=None,\n",
       "                                          min_samples_leaf=1,\n",
       "                                          min_samples_split=2,\n",
       "                                          min_weight_fraction_leaf=0.0,\n",
       "                                          n_estimators=162, n_jobs=-1,\n",
       "                                          oob_score=False,\n",
       "                                          random_state=RandomState(MT19937) at 0xC9DBDB0,\n",
       "                                          verbose=0, warm_start=False),\n",
       "         max_iter=50, n_estimators='auto', perc=90,\n",
       "         random_state=RandomState(MT19937) at 0xC9DBDB0, two_step=True,\n",
       "         verbose=2)"
      ]
     },
     "execution_count": 28,
     "metadata": {},
     "output_type": "execute_result"
    }
   ],
   "source": [
    "#Next we setup Boruta. It uses the scikit-learn interface as much as possible so we can use fit(X, y), transform(X), fit_transform(X, y). I'll let it run for a maximum of max_iter = 50 iterations. With perc = 90 a threshold is specified. The lower the threshold the more features will be selected. I usually use a percentage between 80 and 90.\n",
    "boruta_feature_selector = BorutaPy(rf, n_estimators='auto', verbose=2, random_state=4242, max_iter = 50, perc = 90)\n",
    "boruta_feature_selector.fit(X, Y)"
   ]
  },
  {
   "cell_type": "code",
   "execution_count": 29,
   "metadata": {},
   "outputs": [
    {
     "data": {
      "text/plain": [
       "(1005, 31)"
      ]
     },
     "execution_count": 29,
     "metadata": {},
     "output_type": "execute_result"
    }
   ],
   "source": [
    "#After Boruta has run we can transform our dataset.\n",
    "X_filtered = boruta_feature_selector.transform(X)\n",
    "X_filtered.shape"
   ]
  },
  {
   "cell_type": "code",
   "execution_count": 30,
   "metadata": {},
   "outputs": [
    {
     "name": "stdout",
     "output_type": "stream",
     "text": [
      "['0', 'YEAR', 'TOTAL_HRS', 'NIGHT_HRS', 'USA_SSHS', 'WIND_CALC_MEAN', 'PRES_CALC_MEAN', 'STORM_SPD_MEAN', 'STORM_DR_MEAN', 'V_LAND_KN', '34KN_POP', '64KN_POP', '96KN_POP', 'CPI', 'TOTAL_DAMAGE_(000$)', 'TOTAL_DEATHS', 'Air transport, freight (million ton-km)', 'Arable land (hectares per person)', 'Cereal yield (kg per hectare)', 'Food production index (2004-2006 = 100)', 'GDP growth (annual %)', 'GDP per capita (constant 2010 US$)', 'Net flows from UN agencies US$', 'Life expectancy at birth, total (years)', 'Mobile cellular subscriptions (per 100 people)', 'Population density (people per sq. km of land area)', 'Adjusted savings: education expenditure (% of GNI)', 'Rural population (% of total population)', 'pop_max_34_adj', 'pop_max_50_adj', 'pop_max_64_adj']\n"
     ]
    }
   ],
   "source": [
    "#And we create a list of the feature names if we would like to use them at a later stage.\n",
    "final_features = list()\n",
    "indexes = np.where(boruta_feature_selector.support_ == True)\n",
    "for x in np.nditer(indexes):\n",
    "    final_features.append(features[x])\n",
    "print(final_features)"
   ]
  },
  {
   "cell_type": "code",
   "execution_count": null,
   "metadata": {},
   "outputs": [],
   "source": []
  }
 ],
 "metadata": {
  "kernelspec": {
   "display_name": "Python 3",
   "language": "python",
   "name": "python3"
  },
  "language_info": {
   "codemirror_mode": {
    "name": "ipython",
    "version": 3
   },
   "file_extension": ".py",
   "mimetype": "text/x-python",
   "name": "python",
   "nbconvert_exporter": "python",
   "pygments_lexer": "ipython3",
   "version": "3.7.1"
  }
 },
 "nbformat": 4,
 "nbformat_minor": 4
}
