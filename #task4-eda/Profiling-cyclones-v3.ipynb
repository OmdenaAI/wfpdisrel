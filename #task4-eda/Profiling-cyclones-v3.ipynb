{
 "cells": [
  {
   "cell_type": "code",
   "execution_count": 9,
   "metadata": {},
   "outputs": [],
   "source": [
    "%matplotlib inline\n",
    "import numpy as np\n",
    "import pandas as pd\n",
    "import os\n",
    "from pprint import pprint \n",
    "import matplotlib.pyplot as plt\n",
    "import subprocess\n",
    "\n",
    "import pandas_profiling\n",
    "\n",
    "\n",
    "pd.options.display.max_rows = 20"
   ]
  },
  {
   "cell_type": "code",
   "execution_count": 10,
   "metadata": {},
   "outputs": [],
   "source": [
    "# read data\n",
    "df_cyclones = pd.read_csv(\"datasets/OUTPUT_WBI_exposer_cyclones_v3.csv\", sep=\";\")"
   ]
  },
  {
   "cell_type": "code",
   "execution_count": 11,
   "metadata": {},
   "outputs": [
    {
     "data": {
      "text/plain": [
       "Index(['SID', 'NAME', 'ISO', 'YEAR', 'BASIN', 'SUB BASIN', 'NATURE',\n",
       "       'ISO_TIME', 'COORDS', 'TOTAL_HRS', 'DAY_HRS', 'NIGHT_HRS', 'USA_SSHS',\n",
       "       'WIND_CALC_MEAN', 'PRES_CALC_MEAN', 'STORM_SPD_MEAN', 'STORM_DR_MEAN',\n",
       "       'V_LAND_KN', '34KN_ASSETS', '64KN_ASSETS', '96KN_ASSETS', 'CPI',\n",
       "       'TOTAL_DAMAGE_(000$)', 'TOTAL_DEATHS',\n",
       "       'Air transport, freight (million ton-km)',\n",
       "       'Arable land (hectares per person)', 'Cereal yield (kg per hectare)',\n",
       "       'Food production index (2004-2006 = 100)', 'GDP growth (annual %)',\n",
       "       'GDP per capita (constant 2010 US$)', 'Net flows from UN agencies US$',\n",
       "       'Life expectancy at birth, total (years)',\n",
       "       'Mobile cellular subscriptions (per 100 people)',\n",
       "       'Population density (people per sq. km of land area)',\n",
       "       'Adjusted savings: education expenditure (% of GNI)',\n",
       "       'Rural population (% of total population)', 'Income_level_Final',\n",
       "       'TOTAL_AFFECTED', 'pop_max_34_adj', 'pop_max_50_adj', 'pop_max_64_adj'],\n",
       "      dtype='object')"
      ]
     },
     "execution_count": 11,
     "metadata": {},
     "output_type": "execute_result"
    }
   ],
   "source": [
    "# features\n",
    "df_cyclones.columns"
   ]
  },
  {
   "cell_type": "code",
   "execution_count": 12,
   "metadata": {},
   "outputs": [
    {
     "data": {
      "text/html": [
       "<div>\n",
       "<style scoped>\n",
       "    .dataframe tbody tr th:only-of-type {\n",
       "        vertical-align: middle;\n",
       "    }\n",
       "\n",
       "    .dataframe tbody tr th {\n",
       "        vertical-align: top;\n",
       "    }\n",
       "\n",
       "    .dataframe thead th {\n",
       "        text-align: right;\n",
       "    }\n",
       "</style>\n",
       "<table border=\"1\" class=\"dataframe\">\n",
       "  <thead>\n",
       "    <tr style=\"text-align: right;\">\n",
       "      <th></th>\n",
       "      <th>YEAR</th>\n",
       "      <th>TOTAL_HRS</th>\n",
       "      <th>DAY_HRS</th>\n",
       "      <th>NIGHT_HRS</th>\n",
       "      <th>USA_SSHS</th>\n",
       "      <th>WIND_CALC_MEAN</th>\n",
       "      <th>PRES_CALC_MEAN</th>\n",
       "      <th>STORM_SPD_MEAN</th>\n",
       "      <th>STORM_DR_MEAN</th>\n",
       "      <th>V_LAND_KN</th>\n",
       "      <th>...</th>\n",
       "      <th>Net flows from UN agencies US$</th>\n",
       "      <th>Life expectancy at birth, total (years)</th>\n",
       "      <th>Mobile cellular subscriptions (per 100 people)</th>\n",
       "      <th>Population density (people per sq. km of land area)</th>\n",
       "      <th>Adjusted savings: education expenditure (% of GNI)</th>\n",
       "      <th>Rural population (% of total population)</th>\n",
       "      <th>TOTAL_AFFECTED</th>\n",
       "      <th>pop_max_34_adj</th>\n",
       "      <th>pop_max_50_adj</th>\n",
       "      <th>pop_max_64_adj</th>\n",
       "    </tr>\n",
       "  </thead>\n",
       "  <tbody>\n",
       "    <tr>\n",
       "      <th>count</th>\n",
       "      <td>1005.000000</td>\n",
       "      <td>1005.000000</td>\n",
       "      <td>1005.000000</td>\n",
       "      <td>1005.000000</td>\n",
       "      <td>1005.000000</td>\n",
       "      <td>1001.000000</td>\n",
       "      <td>1005.000000</td>\n",
       "      <td>1005.000000</td>\n",
       "      <td>1005.000000</td>\n",
       "      <td>1005.000000</td>\n",
       "      <td>...</td>\n",
       "      <td>1.005000e+03</td>\n",
       "      <td>1001.000000</td>\n",
       "      <td>996.000000</td>\n",
       "      <td>1005.000000</td>\n",
       "      <td>995.000000</td>\n",
       "      <td>1005.000000</td>\n",
       "      <td>1.005000e+03</td>\n",
       "      <td>9.240000e+02</td>\n",
       "      <td>9.240000e+02</td>\n",
       "      <td>9.240000e+02</td>\n",
       "    </tr>\n",
       "    <tr>\n",
       "      <th>mean</th>\n",
       "      <td>1999.845771</td>\n",
       "      <td>13.187065</td>\n",
       "      <td>2.121393</td>\n",
       "      <td>11.065672</td>\n",
       "      <td>0.379104</td>\n",
       "      <td>59.718462</td>\n",
       "      <td>975.450806</td>\n",
       "      <td>12.047601</td>\n",
       "      <td>215.481903</td>\n",
       "      <td>90.011543</td>\n",
       "      <td>...</td>\n",
       "      <td>2.132205e+07</td>\n",
       "      <td>70.647402</td>\n",
       "      <td>43.296536</td>\n",
       "      <td>324.147607</td>\n",
       "      <td>3.244789</td>\n",
       "      <td>47.065884</td>\n",
       "      <td>5.768923e+05</td>\n",
       "      <td>2.742823e+07</td>\n",
       "      <td>1.415995e+07</td>\n",
       "      <td>4.419502e+06</td>\n",
       "    </tr>\n",
       "    <tr>\n",
       "      <th>std</th>\n",
       "      <td>14.450944</td>\n",
       "      <td>7.412493</td>\n",
       "      <td>3.811702</td>\n",
       "      <td>8.259346</td>\n",
       "      <td>1.747668</td>\n",
       "      <td>25.080155</td>\n",
       "      <td>56.845274</td>\n",
       "      <td>6.586180</td>\n",
       "      <td>96.090666</td>\n",
       "      <td>31.633313</td>\n",
       "      <td>...</td>\n",
       "      <td>2.632630e+07</td>\n",
       "      <td>7.252531</td>\n",
       "      <td>47.524739</td>\n",
       "      <td>1016.048534</td>\n",
       "      <td>1.848530</td>\n",
       "      <td>22.016753</td>\n",
       "      <td>1.991082e+06</td>\n",
       "      <td>4.310503e+07</td>\n",
       "      <td>2.695943e+07</td>\n",
       "      <td>9.755211e+06</td>\n",
       "    </tr>\n",
       "    <tr>\n",
       "      <th>min</th>\n",
       "      <td>1949.000000</td>\n",
       "      <td>0.000000</td>\n",
       "      <td>0.000000</td>\n",
       "      <td>-1.000000</td>\n",
       "      <td>-5.000000</td>\n",
       "      <td>18.620690</td>\n",
       "      <td>0.000000</td>\n",
       "      <td>1.565217</td>\n",
       "      <td>2.000000</td>\n",
       "      <td>30.000000</td>\n",
       "      <td>...</td>\n",
       "      <td>-7.000000e+04</td>\n",
       "      <td>41.762000</td>\n",
       "      <td>0.000000</td>\n",
       "      <td>1.786314</td>\n",
       "      <td>0.538881</td>\n",
       "      <td>0.000000</td>\n",
       "      <td>2.000000e+00</td>\n",
       "      <td>0.000000e+00</td>\n",
       "      <td>0.000000e+00</td>\n",
       "      <td>0.000000e+00</td>\n",
       "    </tr>\n",
       "    <tr>\n",
       "      <th>25%</th>\n",
       "      <td>1991.000000</td>\n",
       "      <td>6.000000</td>\n",
       "      <td>0.000000</td>\n",
       "      <td>3.000000</td>\n",
       "      <td>-1.000000</td>\n",
       "      <td>40.000000</td>\n",
       "      <td>966.400000</td>\n",
       "      <td>7.666667</td>\n",
       "      <td>153.800000</td>\n",
       "      <td>62.400000</td>\n",
       "      <td>...</td>\n",
       "      <td>1.028399e+06</td>\n",
       "      <td>67.136150</td>\n",
       "      <td>0.052346</td>\n",
       "      <td>50.188247</td>\n",
       "      <td>1.840000</td>\n",
       "      <td>23.959000</td>\n",
       "      <td>3.000000e+03</td>\n",
       "      <td>3.013991e+06</td>\n",
       "      <td>8.262290e+05</td>\n",
       "      <td>1.569463e+05</td>\n",
       "    </tr>\n",
       "    <tr>\n",
       "      <th>50%</th>\n",
       "      <td>2004.000000</td>\n",
       "      <td>15.000000</td>\n",
       "      <td>0.000000</td>\n",
       "      <td>9.000000</td>\n",
       "      <td>0.000000</td>\n",
       "      <td>55.250000</td>\n",
       "      <td>981.857143</td>\n",
       "      <td>10.666667</td>\n",
       "      <td>260.750000</td>\n",
       "      <td>89.200000</td>\n",
       "      <td>...</td>\n",
       "      <td>1.201000e+07</td>\n",
       "      <td>71.063000</td>\n",
       "      <td>27.669708</td>\n",
       "      <td>144.583453</td>\n",
       "      <td>2.800000</td>\n",
       "      <td>53.525000</td>\n",
       "      <td>3.000000e+04</td>\n",
       "      <td>1.086579e+07</td>\n",
       "      <td>3.859164e+06</td>\n",
       "      <td>8.723850e+05</td>\n",
       "    </tr>\n",
       "    <tr>\n",
       "      <th>75%</th>\n",
       "      <td>2011.000000</td>\n",
       "      <td>21.000000</td>\n",
       "      <td>3.000000</td>\n",
       "      <td>21.000000</td>\n",
       "      <td>1.000000</td>\n",
       "      <td>75.705882</td>\n",
       "      <td>993.571429</td>\n",
       "      <td>14.411765</td>\n",
       "      <td>288.250000</td>\n",
       "      <td>114.700000</td>\n",
       "      <td>...</td>\n",
       "      <td>3.138000e+07</td>\n",
       "      <td>75.164000</td>\n",
       "      <td>83.671391</td>\n",
       "      <td>301.992208</td>\n",
       "      <td>4.270474</td>\n",
       "      <td>64.917000</td>\n",
       "      <td>2.480580e+05</td>\n",
       "      <td>3.265979e+07</td>\n",
       "      <td>1.513434e+07</td>\n",
       "      <td>3.576978e+06</td>\n",
       "    </tr>\n",
       "    <tr>\n",
       "      <th>max</th>\n",
       "      <td>2019.000000</td>\n",
       "      <td>23.000000</td>\n",
       "      <td>12.000000</td>\n",
       "      <td>23.000000</td>\n",
       "      <td>5.000000</td>\n",
       "      <td>150.000000</td>\n",
       "      <td>1013.000000</td>\n",
       "      <td>49.800000</td>\n",
       "      <td>358.000000</td>\n",
       "      <td>171.800000</td>\n",
       "      <td>...</td>\n",
       "      <td>1.837500e+08</td>\n",
       "      <td>84.680488</td>\n",
       "      <td>328.790446</td>\n",
       "      <td>20479.769990</td>\n",
       "      <td>14.010000</td>\n",
       "      <td>92.421000</td>\n",
       "      <td>2.962200e+07</td>\n",
       "      <td>3.758524e+08</td>\n",
       "      <td>3.189559e+08</td>\n",
       "      <td>8.786364e+07</td>\n",
       "    </tr>\n",
       "  </tbody>\n",
       "</table>\n",
       "<p>8 rows × 32 columns</p>\n",
       "</div>"
      ],
      "text/plain": [
       "              YEAR    TOTAL_HRS      DAY_HRS    NIGHT_HRS     USA_SSHS  \\\n",
       "count  1005.000000  1005.000000  1005.000000  1005.000000  1005.000000   \n",
       "mean   1999.845771    13.187065     2.121393    11.065672     0.379104   \n",
       "std      14.450944     7.412493     3.811702     8.259346     1.747668   \n",
       "min    1949.000000     0.000000     0.000000    -1.000000    -5.000000   \n",
       "25%    1991.000000     6.000000     0.000000     3.000000    -1.000000   \n",
       "50%    2004.000000    15.000000     0.000000     9.000000     0.000000   \n",
       "75%    2011.000000    21.000000     3.000000    21.000000     1.000000   \n",
       "max    2019.000000    23.000000    12.000000    23.000000     5.000000   \n",
       "\n",
       "       WIND_CALC_MEAN  PRES_CALC_MEAN  STORM_SPD_MEAN  STORM_DR_MEAN  \\\n",
       "count     1001.000000     1005.000000     1005.000000    1005.000000   \n",
       "mean        59.718462      975.450806       12.047601     215.481903   \n",
       "std         25.080155       56.845274        6.586180      96.090666   \n",
       "min         18.620690        0.000000        1.565217       2.000000   \n",
       "25%         40.000000      966.400000        7.666667     153.800000   \n",
       "50%         55.250000      981.857143       10.666667     260.750000   \n",
       "75%         75.705882      993.571429       14.411765     288.250000   \n",
       "max        150.000000     1013.000000       49.800000     358.000000   \n",
       "\n",
       "         V_LAND_KN  ...  Net flows from UN agencies US$  \\\n",
       "count  1005.000000  ...                    1.005000e+03   \n",
       "mean     90.011543  ...                    2.132205e+07   \n",
       "std      31.633313  ...                    2.632630e+07   \n",
       "min      30.000000  ...                   -7.000000e+04   \n",
       "25%      62.400000  ...                    1.028399e+06   \n",
       "50%      89.200000  ...                    1.201000e+07   \n",
       "75%     114.700000  ...                    3.138000e+07   \n",
       "max     171.800000  ...                    1.837500e+08   \n",
       "\n",
       "       Life expectancy at birth, total (years)  \\\n",
       "count                              1001.000000   \n",
       "mean                                 70.647402   \n",
       "std                                   7.252531   \n",
       "min                                  41.762000   \n",
       "25%                                  67.136150   \n",
       "50%                                  71.063000   \n",
       "75%                                  75.164000   \n",
       "max                                  84.680488   \n",
       "\n",
       "       Mobile cellular subscriptions (per 100 people)  \\\n",
       "count                                      996.000000   \n",
       "mean                                        43.296536   \n",
       "std                                         47.524739   \n",
       "min                                          0.000000   \n",
       "25%                                          0.052346   \n",
       "50%                                         27.669708   \n",
       "75%                                         83.671391   \n",
       "max                                        328.790446   \n",
       "\n",
       "       Population density (people per sq. km of land area)  \\\n",
       "count                                        1005.000000     \n",
       "mean                                          324.147607     \n",
       "std                                          1016.048534     \n",
       "min                                             1.786314     \n",
       "25%                                            50.188247     \n",
       "50%                                           144.583453     \n",
       "75%                                           301.992208     \n",
       "max                                         20479.769990     \n",
       "\n",
       "       Adjusted savings: education expenditure (% of GNI)  \\\n",
       "count                                         995.000000    \n",
       "mean                                            3.244789    \n",
       "std                                             1.848530    \n",
       "min                                             0.538881    \n",
       "25%                                             1.840000    \n",
       "50%                                             2.800000    \n",
       "75%                                             4.270474    \n",
       "max                                            14.010000    \n",
       "\n",
       "       Rural population (% of total population)  TOTAL_AFFECTED  \\\n",
       "count                               1005.000000    1.005000e+03   \n",
       "mean                                  47.065884    5.768923e+05   \n",
       "std                                   22.016753    1.991082e+06   \n",
       "min                                    0.000000    2.000000e+00   \n",
       "25%                                   23.959000    3.000000e+03   \n",
       "50%                                   53.525000    3.000000e+04   \n",
       "75%                                   64.917000    2.480580e+05   \n",
       "max                                   92.421000    2.962200e+07   \n",
       "\n",
       "       pop_max_34_adj  pop_max_50_adj  pop_max_64_adj  \n",
       "count    9.240000e+02    9.240000e+02    9.240000e+02  \n",
       "mean     2.742823e+07    1.415995e+07    4.419502e+06  \n",
       "std      4.310503e+07    2.695943e+07    9.755211e+06  \n",
       "min      0.000000e+00    0.000000e+00    0.000000e+00  \n",
       "25%      3.013991e+06    8.262290e+05    1.569463e+05  \n",
       "50%      1.086579e+07    3.859164e+06    8.723850e+05  \n",
       "75%      3.265979e+07    1.513434e+07    3.576978e+06  \n",
       "max      3.758524e+08    3.189559e+08    8.786364e+07  \n",
       "\n",
       "[8 rows x 32 columns]"
      ]
     },
     "execution_count": 12,
     "metadata": {},
     "output_type": "execute_result"
    }
   ],
   "source": [
    "df_cyclones.describe()"
   ]
  },
  {
   "cell_type": "code",
   "execution_count": 13,
   "metadata": {},
   "outputs": [
    {
     "data": {
      "application/vnd.jupyter.widget-view+json": {
       "model_id": "26c9cb07d0d44817a57d8efbedabbf5a",
       "version_major": 2,
       "version_minor": 0
      },
      "text/plain": [
       "HBox(children=(FloatProgress(value=0.0, description='variables', max=41.0, style=ProgressStyle(description_wid…"
      ]
     },
     "metadata": {},
     "output_type": "display_data"
    },
    {
     "name": "stdout",
     "output_type": "stream",
     "text": [
      "\n"
     ]
    },
    {
     "data": {
      "application/vnd.jupyter.widget-view+json": {
       "model_id": "2b1f21e762f441a08238bf1d7ea00e5c",
       "version_major": 2,
       "version_minor": 0
      },
      "text/plain": [
       "HBox(children=(FloatProgress(value=0.0, description='correlations', max=6.0, style=ProgressStyle(description_w…"
      ]
     },
     "metadata": {},
     "output_type": "display_data"
    },
    {
     "name": "stdout",
     "output_type": "stream",
     "text": [
      "\n"
     ]
    },
    {
     "data": {
      "application/vnd.jupyter.widget-view+json": {
       "model_id": "90a032d060cb44729e0081ad00141ca7",
       "version_major": 2,
       "version_minor": 0
      },
      "text/plain": [
       "HBox(children=(FloatProgress(value=0.0, description='interactions [continuous]', max=1024.0, style=ProgressSty…"
      ]
     },
     "metadata": {},
     "output_type": "display_data"
    },
    {
     "name": "stdout",
     "output_type": "stream",
     "text": [
      "\n"
     ]
    },
    {
     "data": {
      "application/vnd.jupyter.widget-view+json": {
       "model_id": "d7988154d0c641e493828f72a153d70f",
       "version_major": 2,
       "version_minor": 0
      },
      "text/plain": [
       "HBox(children=(FloatProgress(value=0.0, description='table', max=1.0, style=ProgressStyle(description_width='i…"
      ]
     },
     "metadata": {},
     "output_type": "display_data"
    },
    {
     "name": "stdout",
     "output_type": "stream",
     "text": [
      "\n"
     ]
    },
    {
     "data": {
      "application/vnd.jupyter.widget-view+json": {
       "model_id": "21fee27fb1c44ee780127bcca2616884",
       "version_major": 2,
       "version_minor": 0
      },
      "text/plain": [
       "HBox(children=(FloatProgress(value=0.0, description='missing', max=4.0, style=ProgressStyle(description_width=…"
      ]
     },
     "metadata": {},
     "output_type": "display_data"
    },
    {
     "name": "stdout",
     "output_type": "stream",
     "text": [
      "\n"
     ]
    },
    {
     "data": {
      "application/vnd.jupyter.widget-view+json": {
       "model_id": "4515279817924ca9940decb1e6142e36",
       "version_major": 2,
       "version_minor": 0
      },
      "text/plain": [
       "HBox(children=(FloatProgress(value=0.0, description='warnings', max=3.0, style=ProgressStyle(description_width…"
      ]
     },
     "metadata": {},
     "output_type": "display_data"
    },
    {
     "name": "stdout",
     "output_type": "stream",
     "text": [
      "\n"
     ]
    },
    {
     "data": {
      "application/vnd.jupyter.widget-view+json": {
       "model_id": "ef970528ed0d4353a422f5844db0c291",
       "version_major": 2,
       "version_minor": 0
      },
      "text/plain": [
       "HBox(children=(FloatProgress(value=0.0, description='package', max=1.0, style=ProgressStyle(description_width=…"
      ]
     },
     "metadata": {},
     "output_type": "display_data"
    },
    {
     "name": "stdout",
     "output_type": "stream",
     "text": [
      "\n"
     ]
    },
    {
     "data": {
      "application/vnd.jupyter.widget-view+json": {
       "model_id": "02b4760a6f644be1be2c4d49d2bba360",
       "version_major": 2,
       "version_minor": 0
      },
      "text/plain": [
       "HBox(children=(FloatProgress(value=0.0, description='build report structure', max=1.0, style=ProgressStyle(des…"
      ]
     },
     "metadata": {},
     "output_type": "display_data"
    },
    {
     "name": "stdout",
     "output_type": "stream",
     "text": [
      "\n"
     ]
    }
   ],
   "source": [
    "# Profiling Report\n",
    "\n",
    "profile = pandas_profiling.ProfileReport(df_cyclones)\n",
    "profile.to_file(output_file=\"profiling-cyclones.html\")"
   ]
  },
  {
   "cell_type": "code",
   "execution_count": null,
   "metadata": {},
   "outputs": [],
   "source": []
  }
 ],
 "metadata": {
  "kernelspec": {
   "display_name": "Python 3",
   "language": "python",
   "name": "python3"
  },
  "language_info": {
   "codemirror_mode": {
    "name": "ipython",
    "version": 3
   },
   "file_extension": ".py",
   "mimetype": "text/x-python",
   "name": "python",
   "nbconvert_exporter": "python",
   "pygments_lexer": "ipython3",
   "version": "3.7.0"
  }
 },
 "nbformat": 4,
 "nbformat_minor": 2
}
