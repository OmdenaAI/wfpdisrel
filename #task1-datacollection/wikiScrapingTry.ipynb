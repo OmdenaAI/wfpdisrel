{
 "cells": [
  {
   "cell_type": "code",
   "execution_count": 4,
   "metadata": {},
   "outputs": [],
   "source": [
    "import re\n",
    "import wikipedia\n",
    "from bs4 import BeautifulSoup\n",
    "import urllib.request"
   ]
  },
  {
   "cell_type": "code",
   "execution_count": 64,
   "metadata": {},
   "outputs": [],
   "source": [
    "cyclone_list = [\"Cyclone_Idai\",\n",
    "\"Cyclone_Gafilo\",\n",
    "\"Cyclone_Nargis\",\n",
    "\"Cyclone_Bola\",\n",
    "\"Cyclone_Sidr\",\n",
    "\"Cyclone_Favio\",\n",
    "\"Cyclone_Winston\",\n",
    "\"Cyclone_Yasi\",\n",
    "\"Cyclone_Chapala\",\n",
    "\"Cyclone_Magda\",\n",
    "\"Cyclone_Komen\",\n",
    "\"Cyclone_Larry\",\n",
    "\"Cyclone_Mala\",\n",
    "\"Cyclone_Gaja\",\n",
    "\"Cyclone_Fani\",\n",
    "\"Cyclone_Vayu\",\n",
    "\"Cyclone_Viyaru\",\n",
    "\"Cyclone_Kyarr\",\n",
    "\"Cyclone_Gonu\",\n",
    "\"Cyclone_Phyan\",\n",
    "\"Cyclone_Belna\",\n",
    "\"Cyclone_Bulbul\",\n",
    "\"Cyclone_Luban\",\n",
    "\"Cyclone_Megh\",\n",
    "\"Cyclone_Agni\",\n",
    "\"Cyclone_Mekunu\",\n",
    "\"Cyclone_Maarutha\",\n",
    "\"Cyclone_Aila\",\n",
    "\"Cyclone_Vardah\"\n",
    "               \n",
    "]"
   ]
  },
  {
   "cell_type": "markdown",
   "metadata": {},
   "source": [
    "## Looking for homeless people"
   ]
  },
  {
   "cell_type": "markdown",
   "metadata": {},
   "source": [
    "As a result we have (cyclon_name, number_of_homeless, distance*)\n",
    "\n",
    "distance - between number_of_homeless and the word 'homeless' (we should receive small number)"
   ]
  },
  {
   "cell_type": "code",
   "execution_count": 74,
   "metadata": {},
   "outputs": [
    {
     "name": "stdout",
     "output_type": "stream",
     "text": [
      "('Cyclone_Idai', None, 0)\n",
      "('Cyclone_Gafilo', None, 0)\n",
      "('Cyclone_Nargis', '4,500', 2)\n",
      "('Cyclone_Bola', None, 0)\n",
      "('Cyclone_Sidr', None, 0)\n",
      "('Cyclone_Favio', '33,000', 4)\n",
      "('Cyclone_Winston', None, 0)\n",
      "('Cyclone_Yasi', None, 0)\n",
      "('Cyclone_Chapala', None, 0)\n",
      "('Cyclone_Magda', None, 0)\n",
      "('Cyclone_Komen', None, 0)\n",
      "('Cyclone_Larry', None, 0)\n",
      "('Cyclone_Mala', None, 0)\n",
      "('Cyclone_Gaja', None, 0)\n",
      "('Cyclone_Fani', None, 0)\n",
      "('Cyclone_Vayu', None, 0)\n",
      "('Cyclone_Viyaru', None, 0)\n",
      "('Cyclone_Kyarr', None, 0)\n",
      "('Cyclone_Gonu', None, 0)\n",
      "('Cyclone_Phyan', None, 0)\n",
      "('Cyclone_Belna', None, 0)\n",
      "('Cyclone_Bulbul', None, 0)\n",
      "('Cyclone_Luban', '8,000', 4)\n",
      "('Cyclone_Megh', None, 0)\n",
      "('Cyclone_Agni', None, 0)\n",
      "('Cyclone_Mekunu', None, 0)\n",
      "('Cyclone_Maarutha', None, 0)\n",
      "('Cyclone_Aila', '150,000', 4)\n",
      "('Cyclone_Vardah', None, 0)\n"
     ]
    }
   ],
   "source": [
    "regexLetters = u'[A-Za-z]+'\n",
    "regexHomeless = u'^homeless.*'\n",
    "\n",
    "def findHomeless(sent):\n",
    "    lastDigit = None\n",
    "    distance = 0\n",
    "    for sentence in sent:\n",
    "        sentence = sentence.replace(u'\\xa0', u' ')\n",
    "        words = sentence.split(\" \")\n",
    "        for word in words:\n",
    "            if len(word)>0:\n",
    "                distance += 1\n",
    "                if not bool(re.search(regexLetters, word)):\n",
    "                    lastDigit = word\n",
    "                    distance = 0\n",
    "                if bool(re.search(regexHomeless, word)):\n",
    "                    return cyclone, lastDigit, distance\n",
    "                \n",
    "    return cyclone, lastDigit, distance\n",
    "\n",
    "for cyclone in cyclone_list:\n",
    "    url = url = \"https://en.wikipedia.org/wiki/\" + cyclone\n",
    "    page = urllib.request.urlopen(url)\n",
    "    soup = BeautifulSoup(page, \"lxml\")\n",
    "    sent = soup.find_all(text=re.compile('\\.[0-9]?.*homeless.*'))\n",
    "    print(findHomeless(sent))\n",
    "\n"
   ]
  },
  {
   "cell_type": "markdown",
   "metadata": {},
   "source": [
    "#### parts from wikipedia pages from results are (for checking)"
   ]
  },
  {
   "cell_type": "code",
   "execution_count": 71,
   "metadata": {},
   "outputs": [
    {
     "name": "stdout",
     "output_type": "stream",
     "text": [
      "Cyclone_Nargis\n",
      " Thousands of houses were flooded, with 21 reported destroyed. The rainfall left 4,500 people homeless, and more than 35,000 people were affected on the island.\n",
      "\n",
      "Cyclone_Favio\n",
      " in Mozambique, where the cyclone killed four people and injured at least 70 in the town. About 80% of the town was destroyed. Overall, a total of ten people were killed by the storm and nearly 100 others were injured, and combined with an earlier flood, the storm caused $71 million (2007 USD) in damage. Around 130,000 homes suffered damage and 130 schools were leveled by the tropical cyclone. Across the nation, a total of 33,000 people were left homeless during the system. Cyclone Favio destroyed 277,000 ha (684,480 acres) of crops. In \n",
      "\n",
      "Cyclone_Luban\n",
      " where about 90% of the infrastructure was damaged. The storm killed 14 people in the country, and 124 people were injured, with 10 people missing. About 8,000 people were left homeless because of Luban.\n",
      "\n",
      "Cyclone_Aila\n",
      " At least 100 river embankments were breached by storm surge produced by the cyclone. Throughout the country, at least 150,000 people were left homeless.\n",
      "\n",
      "Cyclone_Aila\n",
      " Approximately 9.3 million people were affected by the cyclone, of which 1 million were rendered homeless.\n",
      "\n",
      "Cyclone_Aila\n",
      " An estimated 58,950 animals were killed by the storm with up to 50,000 deer missing. On the island of Nizum Dwip, nearly all structures were severely damaged or destroyed, leaving roughly 20,000 people homeless.\n",
      "\n"
     ]
    }
   ],
   "source": [
    "for cyclone in cyclone_list:\n",
    "    url = url = \"https://en.wikipedia.org/wiki/\" + cyclone\n",
    "    page = urllib.request.urlopen(url)\n",
    "    soup = BeautifulSoup(page, \"lxml\")\n",
    "    sent = soup.find_all(text=re.compile('\\.[0-9]?.*homeless.*'))\n",
    "    for sentence in sent:\n",
    "        print(cyclone)\n",
    "        print(sentence)\n",
    "        print()"
   ]
  },
  {
   "cell_type": "markdown",
   "metadata": {},
   "source": [
    "## Looking for affected people"
   ]
  },
  {
   "cell_type": "markdown",
   "metadata": {},
   "source": [
    "As a result we have (cyclon_name, number_of_affected, distance*)\n",
    "\n",
    "distance - between number_of_affected and the word 'affected' (we should receive small number)"
   ]
  },
  {
   "cell_type": "code",
   "execution_count": 73,
   "metadata": {},
   "outputs": [
    {
     "name": "stdout",
     "output_type": "stream",
     "text": [
      "('Cyclone_Idai', '15,467', 3)\n",
      "('Cyclone_Gafilo', None, 7)\n",
      "('Cyclone_Nargis', '35,000', 3)\n",
      "('Cyclone_Bola', '1,765', 3)\n",
      "('Cyclone_Sidr', '732', 7)\n",
      "('Cyclone_Favio', '$773,000', 17)\n",
      "('Cyclone_Winston', '(40', 10)\n",
      "('Cyclone_Yasi', None, 23)\n",
      "('Cyclone_Chapala', '200', 4)\n",
      "('Cyclone_Magda', None, 0)\n",
      "('Cyclone_Komen', '45', 17)\n",
      "('Cyclone_Larry', '$10,000', 3)\n",
      "('Cyclone_Mala', '1,000', 2)\n",
      "('Cyclone_Gaja', '100', 4)\n",
      "('Cyclone_Fani', '৳19.7', 5)\n",
      "('Cyclone_Vayu', None, 10)\n",
      "('Cyclone_Viyaru', '1.3', 3)\n",
      "('Cyclone_Kyarr', None, 19)\n",
      "('Cyclone_Gonu', None, 9)\n",
      "('Cyclone_Phyan', None, 0)\n",
      "('Cyclone_Belna', None, 0)\n",
      "('Cyclone_Bulbul', '3.5', 5)\n",
      "('Cyclone_Luban', None, 0)\n",
      "('Cyclone_Megh', None, 0)\n",
      "('Cyclone_Agni', None, 0)\n",
      "('Cyclone_Mekunu', None, 0)\n",
      "('Cyclone_Maarutha', None, 15)\n",
      "('Cyclone_Aila', '350,000', 2)\n",
      "('Cyclone_Vardah', None, 0)\n"
     ]
    }
   ],
   "source": [
    "regexLetters = u'[A-Za-z]+'\n",
    "regexAffected = u'^affected.*'\n",
    "\n",
    "def findHomeless(sent):\n",
    "    lastDigit = None\n",
    "    distance = 0\n",
    "    for sentence in sent:\n",
    "        sentence = sentence.replace(u'\\xa0', u' ')\n",
    "        words = sentence.split(\" \")\n",
    "        for word in words:\n",
    "            if len(word)>0:\n",
    "                distance += 1\n",
    "                if not bool(re.search(regexLetters, word)):\n",
    "                    lastDigit = word\n",
    "                    distance = 0\n",
    "                if bool(re.search(regexAffected, word)):\n",
    "                    return cyclone, lastDigit, distance\n",
    "                \n",
    "    return cyclone, lastDigit, distance\n",
    "\n",
    "for cyclone in cyclone_list:\n",
    "    url = url = \"https://en.wikipedia.org/wiki/\" + cyclone\n",
    "    page = urllib.request.urlopen(url)\n",
    "    soup = BeautifulSoup(page, \"lxml\")\n",
    "    sent = soup.find_all(text=re.compile('\\.[0-9]?.*affected.*'))\n",
    "    print(findHomeless(sent))"
   ]
  },
  {
   "cell_type": "markdown",
   "metadata": {},
   "source": [
    "#### parts from wikipedia pages from results are (for checking)"
   ]
  },
  {
   "cell_type": "code",
   "execution_count": 75,
   "metadata": {},
   "outputs": [
    {
     "name": "stdout",
     "output_type": "stream",
     "text": [
      "Cyclone_Idai\n",
      " Flooding from the tropical depression killed 66 people and injured 111 more. It was reported that 5,756 homes were destroyed, while another 15,467 homes were affected. Additionally, eight hospitals and 938 classrooms were destroyed. The floods also ruined 168,000 hectares (420,000 acres) of crops.\n",
      "\n",
      "Cyclone_Idai\n",
      " An estimated 1.85 million people were affected by the cyclone.\n",
      "\n",
      "Cyclone_Idai\n",
      " and their partners appealed for $40.8 million as an emergency relief to help those people who were affected by Idai in Mozambique.\n",
      "\n",
      "Cyclone_Idai\n",
      " sent personnel to Mozambique to assist in the recovery. Personnel were readied to offer medical supplies, relief supplies, and psychological care to people affected by the storm. Personnel were also prepared to help restore access to safe water.\n",
      "\n",
      "Cyclone_Idai\n",
      "President Prof. Arthur Peter Mutharika has declared State Of Disaster in districts affected by floods\n",
      "\n",
      "Cyclone_Idai\n",
      "\"UAE to send Dh18.3m relief aid for 1.5m affected by Cyclone Idai\"\n",
      "\n",
      "Cyclone_Gafilo\n",
      " harvesting also suffered. Some of the affected areas coincided with those affected by \n",
      "\n",
      "Cyclone_Nargis\n",
      " Thousands of houses were flooded, with 21 reported destroyed. The rainfall left 4,500 people homeless, and more than 35,000 people were affected on the island.\n",
      "\n",
      "Cyclone_Nargis\n",
      " estimated that 1.5 million people were \"severely affected\" by Nargis.\n",
      "\n",
      "Cyclone_Nargis\n",
      " launched a US$3 million appeal and sought to get international aid into the country. Staff on the ground were working to distribute food, water and other non-food items while WV Myanmar managers sought approval from the government to work in the worst affected areas and to bring in aid from outside.\n",
      "\n",
      "Cyclone_Nargis\n",
      "UN says 1.5 million people affected by Myanmar storm\n",
      "\n",
      "Cyclone_Bola\n",
      " Flooding killed three people when a car was swept away. In Te Karaka in Gisborne, a flooded river forced 500 residents to evacuate. A total of 1,765 farmers were affected by the flooding, accounting for about 3,600 hectares (8,900 acres) of damaged crop fields and about \n",
      "\n",
      "Cyclone_Sidr\n",
      " The Ministry of Food and Disaster Management allocated 4,000 metric tonnes of rice, 7,500 tents, 18,000 blankets, and 30 million Taka (US$435,569) in relief grants. About 13,000 housing packages, consisting of iron sheets for roofing and family kits were prepared for immediate distribution. A special 350 million Taka (US$5,081,645) fund for housing was established by November 22, 2007. At that time, 732 medical teams were deployed to the affected areas.\n",
      "\n",
      "Cyclone_Favio\n",
      " On March 5, a plan was launched to provide victims for a total of $71 million worth of aid, of which $773,000 was expected to be directed towards the health. Meanwhile, water levels began to recede throughout the affected region.\n",
      "\n",
      "Cyclone_Winston\n",
      "Cyclone Winston's devastating impact across Fiji rendered tens of thousands homeless, and prompted a major international humanitarian response. An estimated 350,000 people (40 percent of the nation's population) were moderately or severely affected by the storm, including 120,000 children. Approximately 250,000 people required water, sanitation, and hygiene (WASH) assistance due to power outages and damaged infrastructure.\n",
      "\n",
      "Cyclone_Yasi\n",
      " moved over several towns in Queensland, news reporters took the opportunity to give brief damage assessments before the eyewall returned. The worst affected areas were around \n",
      "\n",
      "Cyclone_Chapala\n",
      ". There, the storm killed 3,000 sheep and goats, as well as 200 camels; this severely affected the local \n",
      "\n",
      "Cyclone_Komen\n",
      " in 2008. Elsewhere, the storm's flooding damaged 88,900 houses in Bangladesh and covered crop fields for a week; Komen killed 45 people in the country, some of whom due to illnesses spread by the storm. Later, floodwaters affected southeastern India, killing 103 people and damaging or destroying 476,046 houses.\n",
      "\n",
      "\n",
      "Cyclone_Komen\n",
      "Moving ashore Bangladesh, Komen was accompanied by a storm surge of 1 to 2 m (3.3 to 6.6 ft) that affected Chittagong,\n",
      "\n",
      "Cyclone_Larry\n",
      " heavy lift helicopters for rescue efforts in the aftermath of the cyclone. He also promised grants of $10,000 to businesses affected by the cyclone.\n",
      "\n",
      "Cyclone_Larry\n",
      " (30% of homes damaged). Cairns, the largest city in the region affected by the cyclone, sustained minor structural damage, mostly comprising fallen power lines and houses damaged by fallen trees throughout the city. Light aircraft were flipped over at Cairns Airport.\n",
      "\n",
      "\n",
      "Cyclone_Mala\n",
      " Additionally, though the agency planned to assist 4,000 families with rebuilding their homes, a lack of necessary funds prevented the operation. Instead, a cash donation was provided to the 1,000 most affected families.\n",
      "\n",
      "Cyclone_Gaja\n",
      " recorded a wind gust of 180 km/h. Regions of Karaikal and Nagapattinam also experienced 100 km/h winds. The affected areas were the districts of \n",
      "\n",
      "Cyclone_Fani\n",
      "The Bangladeshi government distributed rice, dried food, and ৳19.7 million (US$234,000) to those affected by the cyclone.\n",
      "\n",
      "Cyclone_Vayu\n",
      "{\"@context\":\"https:\\/\\/schema.org\",\"@type\":\"Article\",\"name\":\"Cyclone Vayu\",\"url\":\"https:\\/\\/en.wikipedia.org\\/wiki\\/Cyclone_Vayu\",\"sameAs\":\"http:\\/\\/www.wikidata.org\\/entity\\/Q64584891\",\"mainEntity\":\"http:\\/\\/www.wikidata.org\\/entity\\/Q64584891\",\"author\":{\"@type\":\"Organization\",\"name\":\"Contributors to Wikimedia projects\"},\"publisher\":{\"@type\":\"Organization\",\"name\":\"Wikimedia Foundation, Inc.\",\"logo\":{\"@type\":\"ImageObject\",\"url\":\"https:\\/\\/www.wikimedia.org\\/static\\/images\\/wmf-hor-googpub.png\"}},\"datePublished\":\"2019-06-09T15:27:33Z\",\"dateModified\":\"2020-03-05T10:36:16Z\",\"image\":\"https:\\/\\/upload.wikimedia.org\\/wikipedia\\/commons\\/4\\/45\\/Vayu_2019-06-13_0825Z_%28alternate%29.jpg\",\"headline\":\"tropical cyclone that affected western India and southeastern Pakistan in June 2019\"}\n",
      "\n",
      "Cyclone_Viyaru\n",
      ", resulting in significant damage. At least four people died and six others were reported missing. Offshore, a further 11 people went missing and were feared dead. In preparation for the storm, large-scale evacuations were recommended for parts of Myanmar. This resulted with people overcrowding boats to escape, and one or several vessels capsized, causing at least 39 deaths; 42 people were rescued while 19 others were unaccounted for and feared dead. The storm's expansive cloud mass also brought unsettled weather to Sri Lanka, Thailand, and southeastern India. Severe storms in India and Sri Lanka were responsible for at least 16 fatalities and significant damage; one person died in Thailand. Striking Bangladesh in a weaker state than initially expected, the storm caused moderate to severe damage. A total of 95,003 poorly constructed huts were damaged or destroyed, 17 people died, and nearly 1.3 million were affected across the country. Losses to crops reached \n",
      "\n",
      "Cyclone_Viyaru\n",
      " Much of Aceh experienced torrential rains and flooding occurred in six districts. In some places, waters reached depths of 2.5 m (8.2 ft). Approximately 30,000 people were affected by the floods. Near the border of Aceh and \n",
      "\n",
      "Cyclone_Kyarr\n",
      "In southern Pakistan, officials closed beaches and opened four shelters due to high tides from the cyclone. Floods affected parts of \n",
      "\n",
      "Cyclone_Gonu\n",
      " The Iranian government provided monetary relief to the affected people. Officials worked to restore roads, bridges, and power systems in the affected areas, although repairs were more difficult in some locations; by a week after the storm, several villages remained surrounded by floodwaters.\n",
      "\n",
      "Cyclone_Bulbul\n",
      "Throughout West Bengal, approximately 3.5 million people were directly affected by the cyclone; 14 people died in storm-related incidents. A total of 517,535 homes and 1,489,924 hectares (3,681,680 acres) of crops were damaged or destroyed, with losses reaching \n",
      "\n",
      "Cyclone_Bulbul\n",
      "\"Cyclone Bulbul kills 10 in West Bengal, 2.73 lakh families affected in the state\"\n",
      "\n",
      "Cyclone_Maarutha\n",
      " It has experienced strong tropical cyclones from May to November. Notable destructive cyclones that affected Myanmar include \n",
      "\n",
      "Cyclone_Aila\n",
      " At least 50,000 hectares of agricultural land was lost during the storm, costing an estimated Rs. 125 crore (US$26.3 million). Throughout the state, an estimated 40,000 homes were destroyed and 132,000 others were damaged. At least 350,000 people affected by Aila.\n",
      "\n",
      "Cyclone_Aila\n",
      " Approximately 9.3 million people were affected by the cyclone, of which 1 million were rendered homeless.\n",
      "\n",
      "Cyclone_Aila\n",
      "State Government in co-operation with the central counterparts took up the rescue and the rehabilitation program. Army was deployed to the affected areas. The next day, the army used helicopters to provide food to the affected population. About 2,500 troops were deployed to West Bengal on May 26, 2009.\n",
      "\n",
      "Cyclone_Aila\n",
      " 10,000,000 (US$209,775) in relief funds to the affected areas on 26 May. Two MI-17 helicopters were also sent to air-drop food supplies to the worst affected areas in West Bengal.\n",
      "\n",
      "Cyclone_Aila\n",
      " The government later allocated Tk. 1.2 million (US$17,143) and 1,000 tonnes of rice for the affected areas.\n",
      "\n",
      "Cyclone_Aila\n",
      "[Dateline: May 26] Mr Mamud Hossain, saha-sabhadhipati of the zilla parishad, said ... the number of affected people would be not less than 3.5 lakh ... The Midnapore East district zilla parishad has claimed that over 50,000 ha of crop land has been ruined due to a large scale inundation by river and sea waters. They have also estimated that the loss would be around Rs125 crore.\n",
      "\n",
      "Cyclone_Aila\n",
      "[Dateline: May 25] Parts of coastal Orissa ... heavy rains accompanied by high-velocity winds ... gale with speed as high as 80-90 kmph uprooted a large number of trees in Jagatsinghpur, Kendrapara and Cuttack districts, blocking several roads and disrupting vehicular movement, [official sources] said. Life was paralysed in Satabhaya and Kanhupur villages in Kendrapara district after tidal waves lashed into human settlements since yesterday, forcing residents to shift to higher grounds and safer places. Water-logging severely affected road traffic in several places including Cuttack, Paradip and Jagatsinghpur ... In Bhubaneswar, power supply was disrupted for about seven hours in Bapuji Nagar, Ashok Nagar, Patia, Chandrasekharpur and Jayadev Vihar localities this morning ... The port town of Paradip witnessed its highest rainfall of 26 cm today.\n",
      "\n",
      "Cyclone_Aila\n",
      "\"Cyclone leaves 81 people killed, 2.6 mln affected in Bangladesh\"\n",
      "\n"
     ]
    }
   ],
   "source": [
    "for cyclone in cyclone_list:\n",
    "    url = url = \"https://en.wikipedia.org/wiki/\" + cyclone\n",
    "    page = urllib.request.urlopen(url)\n",
    "    soup = BeautifulSoup(page, \"lxml\")\n",
    "    sent = soup.find_all(text=re.compile('\\.[0-9]?.*affected.*'))\n",
    "    for sentence in sent:\n",
    "        print(cyclone)\n",
    "        print(sentence)\n",
    "        print()"
   ]
  },
  {
   "cell_type": "markdown",
   "metadata": {},
   "source": [
    "## Sum up"
   ]
  },
  {
   "cell_type": "markdown",
   "metadata": {},
   "source": [
    "Searching for homeless people gives fewer results, but pretty accurate. \n",
    "Searching for affected people gives a lot of results, but also a lot is wrong. \n",
    "It's probably because word 'affected' have a wider meaning..."
   ]
  },
  {
   "cell_type": "code",
   "execution_count": null,
   "metadata": {},
   "outputs": [],
   "source": []
  }
 ],
 "metadata": {
  "kernelspec": {
   "display_name": "Python 3",
   "language": "python",
   "name": "python3"
  },
  "language_info": {
   "codemirror_mode": {
    "name": "ipython",
    "version": 3
   },
   "file_extension": ".py",
   "mimetype": "text/x-python",
   "name": "python",
   "nbconvert_exporter": "python",
   "pygments_lexer": "ipython3",
   "version": "3.6.7"
  }
 },
 "nbformat": 4,
 "nbformat_minor": 2
}
