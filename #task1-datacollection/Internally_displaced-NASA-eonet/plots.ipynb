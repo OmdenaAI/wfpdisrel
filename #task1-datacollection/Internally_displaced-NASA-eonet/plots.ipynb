{
 "cells": [
  {
   "cell_type": "markdown",
   "metadata": {},
   "source": [
    "# Data exploration"
   ]
  },
  {
   "cell_type": "code",
   "execution_count": 81,
   "metadata": {},
   "outputs": [],
   "source": [
    "import pandas as pd\n",
    "import numpy as np\n",
    "import re\n",
    "import math\n",
    "import requests\n",
    "import json\n",
    "import matplotlib\n",
    "from pandas import ExcelFile\n",
    "from matplotlib import pyplot as plt\n",
    "%matplotlib inline\n",
    "import seaborn as sns\n",
    "from datetime import datetime\n",
    "import plotly.express\n",
    "import reverse_geocoder as rg\n",
    "import plotly.graph_objects as go\n",
    "import plotly.express as px\n",
    "from plotly.subplots import make_subplots\n",
    "from scicolorscales import *"
   ]
  },
  {
   "cell_type": "code",
   "execution_count": 109,
   "metadata": {},
   "outputs": [],
   "source": [
    "df = pd.read_json(\"storms.json\")"
   ]
  },
  {
   "cell_type": "code",
   "execution_count": 110,
   "metadata": {
    "scrolled": false
   },
   "outputs": [
    {
     "data": {
      "text/html": [
       "<div>\n",
       "<style scoped>\n",
       "    .dataframe tbody tr th:only-of-type {\n",
       "        vertical-align: middle;\n",
       "    }\n",
       "\n",
       "    .dataframe tbody tr th {\n",
       "        vertical-align: top;\n",
       "    }\n",
       "\n",
       "    .dataframe thead th {\n",
       "        text-align: right;\n",
       "    }\n",
       "</style>\n",
       "<table border=\"1\" class=\"dataframe\">\n",
       "  <thead>\n",
       "    <tr style=\"text-align: right;\">\n",
       "      <th></th>\n",
       "      <th>id</th>\n",
       "      <th>title</th>\n",
       "      <th>categories</th>\n",
       "      <th>date</th>\n",
       "      <th>closed</th>\n",
       "      <th>geometries</th>\n",
       "      <th>coordinates</th>\n",
       "      <th>location</th>\n",
       "      <th>admin</th>\n",
       "      <th>ISO2</th>\n",
       "      <th>ISO3</th>\n",
       "      <th>Country</th>\n",
       "    </tr>\n",
       "  </thead>\n",
       "  <tbody>\n",
       "    <tr>\n",
       "      <td>0</td>\n",
       "      <td>EONET_4615</td>\n",
       "      <td>Tropical Cyclone Herold</td>\n",
       "      <td>Severe Storms</td>\n",
       "      <td>2020-03-13</td>\n",
       "      <td>NaN</td>\n",
       "      <td>{'type': 'Point', 'coordinates': [-14.3, 52.4]}</td>\n",
       "      <td>[-14.3, 52.4]</td>\n",
       "      <td>Antalaha</td>\n",
       "      <td>Sava</td>\n",
       "      <td>MG</td>\n",
       "      <td>MDG</td>\n",
       "      <td>Madagascar</td>\n",
       "    </tr>\n",
       "    <tr>\n",
       "      <td>1</td>\n",
       "      <td>EONET_4616</td>\n",
       "      <td>Tropical Cyclone Gretel</td>\n",
       "      <td>Severe Storms</td>\n",
       "      <td>2020-03-13</td>\n",
       "      <td>NaN</td>\n",
       "      <td>{'type': 'Point', 'coordinates': [-16.9, 153.8]}</td>\n",
       "      <td>[-16.9, 153.8]</td>\n",
       "      <td>Proserpine</td>\n",
       "      <td>Queensland</td>\n",
       "      <td>AU</td>\n",
       "      <td>AUS</td>\n",
       "      <td>Australia</td>\n",
       "    </tr>\n",
       "    <tr>\n",
       "      <td>2</td>\n",
       "      <td>EONET_4612</td>\n",
       "      <td>Tropical Cyclone 21S</td>\n",
       "      <td>Severe Storms</td>\n",
       "      <td>2020-03-11</td>\n",
       "      <td>1.584317e+12</td>\n",
       "      <td>{'type': 'Point', 'coordinates': [-16.4, 116.9]}</td>\n",
       "      <td>[-16.4, 116.9]</td>\n",
       "      <td>Dampier</td>\n",
       "      <td>Western Australia</td>\n",
       "      <td>AU</td>\n",
       "      <td>AUS</td>\n",
       "      <td>Australia</td>\n",
       "    </tr>\n",
       "    <tr>\n",
       "      <td>3</td>\n",
       "      <td>EONET_4596</td>\n",
       "      <td>Tropical Cyclone Ferdinand</td>\n",
       "      <td>Severe Storms</td>\n",
       "      <td>2020-02-23</td>\n",
       "      <td>1.583366e+12</td>\n",
       "      <td>{'type': 'Point', 'coordinates': [-13.4, 118.7]}</td>\n",
       "      <td>[-13.4, 118.7]</td>\n",
       "      <td>Lailunggi</td>\n",
       "      <td>East Nusa Tenggara</td>\n",
       "      <td>ID</td>\n",
       "      <td>IDN</td>\n",
       "      <td>Indonesia</td>\n",
       "    </tr>\n",
       "    <tr>\n",
       "      <td>4</td>\n",
       "      <td>EONET_4595</td>\n",
       "      <td>Tropical Cyclone Esther</td>\n",
       "      <td>Severe Storms</td>\n",
       "      <td>2020-02-23</td>\n",
       "      <td>1.583280e+12</td>\n",
       "      <td>{'type': 'Point', 'coordinates': [-15.6, 139.5]}</td>\n",
       "      <td>[-15.6, 139.5]</td>\n",
       "      <td>Alyangula</td>\n",
       "      <td>Northern Territory</td>\n",
       "      <td>AU</td>\n",
       "      <td>AUS</td>\n",
       "      <td>Australia</td>\n",
       "    </tr>\n",
       "    <tr>\n",
       "      <td>...</td>\n",
       "      <td>...</td>\n",
       "      <td>...</td>\n",
       "      <td>...</td>\n",
       "      <td>...</td>\n",
       "      <td>...</td>\n",
       "      <td>...</td>\n",
       "      <td>...</td>\n",
       "      <td>...</td>\n",
       "      <td>...</td>\n",
       "      <td>...</td>\n",
       "      <td>...</td>\n",
       "      <td>...</td>\n",
       "    </tr>\n",
       "    <tr>\n",
       "      <td>1814</td>\n",
       "      <td>EONET_2351</td>\n",
       "      <td>Typhoon  #34</td>\n",
       "      <td>Severe Storms</td>\n",
       "      <td>2000-01-01</td>\n",
       "      <td>9.786528e+11</td>\n",
       "      <td>{'type': 'Point', 'coordinates': [14.7, 131.6]}</td>\n",
       "      <td>[14.7, 131.6]</td>\n",
       "      <td>San Policarpo</td>\n",
       "      <td>Eastern Visayas</td>\n",
       "      <td>PH</td>\n",
       "      <td>PHL</td>\n",
       "      <td>Philippines (the)</td>\n",
       "    </tr>\n",
       "    <tr>\n",
       "      <td>1815</td>\n",
       "      <td>EONET_2312</td>\n",
       "      <td>Cyclone  #4</td>\n",
       "      <td>Severe Storms</td>\n",
       "      <td>2000-01-01</td>\n",
       "      <td>9.786528e+11</td>\n",
       "      <td>{'type': 'Point', 'coordinates': [-10.2, 65.4]}</td>\n",
       "      <td>[-10.2, 65.4]</td>\n",
       "      <td>Cargados Carajos</td>\n",
       "      <td>Cargados Carajos</td>\n",
       "      <td>MU</td>\n",
       "      <td>MUS</td>\n",
       "      <td>Mauritius</td>\n",
       "    </tr>\n",
       "    <tr>\n",
       "      <td>1816</td>\n",
       "      <td>EONET_2409</td>\n",
       "      <td>Cyclone  #2</td>\n",
       "      <td>Severe Storms</td>\n",
       "      <td>1999-12-10</td>\n",
       "      <td>9.456480e+11</td>\n",
       "      <td>{'type': 'Point', 'coordinates': [-13.3, 119.4]}</td>\n",
       "      <td>[-13.3, 119.4]</td>\n",
       "      <td>Lailunggi</td>\n",
       "      <td>East Nusa Tenggara</td>\n",
       "      <td>ID</td>\n",
       "      <td>IDN</td>\n",
       "      <td>Indonesia</td>\n",
       "    </tr>\n",
       "    <tr>\n",
       "      <td>1817</td>\n",
       "      <td>EONET_2410</td>\n",
       "      <td>Tropical Storm #1</td>\n",
       "      <td>Severe Storms</td>\n",
       "      <td>1999-12-10</td>\n",
       "      <td>9.458208e+11</td>\n",
       "      <td>{'type': 'Point', 'coordinates': [-9.4, 97.4]}</td>\n",
       "      <td>[-9.4, 97.4]</td>\n",
       "      <td>West Island</td>\n",
       "      <td></td>\n",
       "      <td>CC</td>\n",
       "      <td>CCK</td>\n",
       "      <td>Cocos (Keeling) Islands (the)</td>\n",
       "    </tr>\n",
       "    <tr>\n",
       "      <td>1818</td>\n",
       "      <td>EONET_2408</td>\n",
       "      <td>Cyclone  #3</td>\n",
       "      <td>Severe Storms</td>\n",
       "      <td>1999-01-01</td>\n",
       "      <td>9.470304e+11</td>\n",
       "      <td>{'type': 'Point', 'coordinates': [-12.8, 49.0]}</td>\n",
       "      <td>[-12.8, 49.0]</td>\n",
       "      <td>Antsohimbondrona</td>\n",
       "      <td>Diana</td>\n",
       "      <td>MG</td>\n",
       "      <td>MDG</td>\n",
       "      <td>Madagascar</td>\n",
       "    </tr>\n",
       "  </tbody>\n",
       "</table>\n",
       "<p>1819 rows × 12 columns</p>\n",
       "</div>"
      ],
      "text/plain": [
       "              id                       title     categories       date  \\\n",
       "0     EONET_4615     Tropical Cyclone Herold  Severe Storms 2020-03-13   \n",
       "1     EONET_4616     Tropical Cyclone Gretel  Severe Storms 2020-03-13   \n",
       "2     EONET_4612        Tropical Cyclone 21S  Severe Storms 2020-03-11   \n",
       "3     EONET_4596  Tropical Cyclone Ferdinand  Severe Storms 2020-02-23   \n",
       "4     EONET_4595     Tropical Cyclone Esther  Severe Storms 2020-02-23   \n",
       "...          ...                         ...            ...        ...   \n",
       "1814  EONET_2351                Typhoon  #34  Severe Storms 2000-01-01   \n",
       "1815  EONET_2312                 Cyclone  #4  Severe Storms 2000-01-01   \n",
       "1816  EONET_2409                 Cyclone  #2  Severe Storms 1999-12-10   \n",
       "1817  EONET_2410           Tropical Storm #1  Severe Storms 1999-12-10   \n",
       "1818  EONET_2408                 Cyclone  #3  Severe Storms 1999-01-01   \n",
       "\n",
       "            closed                                        geometries  \\\n",
       "0              NaN   {'type': 'Point', 'coordinates': [-14.3, 52.4]}   \n",
       "1              NaN  {'type': 'Point', 'coordinates': [-16.9, 153.8]}   \n",
       "2     1.584317e+12  {'type': 'Point', 'coordinates': [-16.4, 116.9]}   \n",
       "3     1.583366e+12  {'type': 'Point', 'coordinates': [-13.4, 118.7]}   \n",
       "4     1.583280e+12  {'type': 'Point', 'coordinates': [-15.6, 139.5]}   \n",
       "...            ...                                               ...   \n",
       "1814  9.786528e+11   {'type': 'Point', 'coordinates': [14.7, 131.6]}   \n",
       "1815  9.786528e+11   {'type': 'Point', 'coordinates': [-10.2, 65.4]}   \n",
       "1816  9.456480e+11  {'type': 'Point', 'coordinates': [-13.3, 119.4]}   \n",
       "1817  9.458208e+11    {'type': 'Point', 'coordinates': [-9.4, 97.4]}   \n",
       "1818  9.470304e+11   {'type': 'Point', 'coordinates': [-12.8, 49.0]}   \n",
       "\n",
       "         coordinates          location               admin ISO2 ISO3  \\\n",
       "0      [-14.3, 52.4]          Antalaha                Sava   MG  MDG   \n",
       "1     [-16.9, 153.8]        Proserpine          Queensland   AU  AUS   \n",
       "2     [-16.4, 116.9]           Dampier   Western Australia   AU  AUS   \n",
       "3     [-13.4, 118.7]         Lailunggi  East Nusa Tenggara   ID  IDN   \n",
       "4     [-15.6, 139.5]         Alyangula  Northern Territory   AU  AUS   \n",
       "...              ...               ...                 ...  ...  ...   \n",
       "1814   [14.7, 131.6]     San Policarpo     Eastern Visayas   PH  PHL   \n",
       "1815   [-10.2, 65.4]  Cargados Carajos    Cargados Carajos   MU  MUS   \n",
       "1816  [-13.3, 119.4]         Lailunggi  East Nusa Tenggara   ID  IDN   \n",
       "1817    [-9.4, 97.4]       West Island                       CC  CCK   \n",
       "1818   [-12.8, 49.0]  Antsohimbondrona               Diana   MG  MDG   \n",
       "\n",
       "                            Country  \n",
       "0                        Madagascar  \n",
       "1                         Australia  \n",
       "2                         Australia  \n",
       "3                         Indonesia  \n",
       "4                         Australia  \n",
       "...                             ...  \n",
       "1814              Philippines (the)  \n",
       "1815                      Mauritius  \n",
       "1816                      Indonesia  \n",
       "1817  Cocos (Keeling) Islands (the)  \n",
       "1818                     Madagascar  \n",
       "\n",
       "[1819 rows x 12 columns]"
      ]
     },
     "execution_count": 110,
     "metadata": {},
     "output_type": "execute_result"
    }
   ],
   "source": [
    "df"
   ]
  },
  {
   "cell_type": "code",
   "execution_count": 111,
   "metadata": {},
   "outputs": [],
   "source": [
    "df.drop(columns = \"closed\", inplace = True)"
   ]
  },
  {
   "cell_type": "code",
   "execution_count": 112,
   "metadata": {},
   "outputs": [],
   "source": [
    "df = df.assign(year_month=df[\"date\"].dt.to_period(\"M\"))"
   ]
  },
  {
   "cell_type": "code",
   "execution_count": 113,
   "metadata": {},
   "outputs": [],
   "source": [
    "cyclone_year = (df\n",
    "                .groupby([\"year_month\"])[[\"id\"]]\n",
    "                .count()\n",
    "                .reset_index()\n",
    "                .rename(columns = {\"id\": \"no_cyclones\"}))"
   ]
  },
  {
   "cell_type": "code",
   "execution_count": 114,
   "metadata": {},
   "outputs": [],
   "source": [
    "cyclone_year[\"year_month\"] = pd.to_datetime(cyclone_year[\"year_month\"].astype(str))"
   ]
  },
  {
   "cell_type": "code",
   "execution_count": 115,
   "metadata": {},
   "outputs": [
    {
     "data": {
      "image/png": "[encoded data removed]",
      "text/plain": [
       "<Figure size 1440x720 with 1 Axes>"
      ]
     },
     "metadata": {
      "needs_background": "light"
     },
     "output_type": "display_data"
    }
   ],
   "source": [
    "plt.figure(figsize=(20,10))\n",
    "sns.set_style(\"darkgrid\")\n",
    "g = sns.lineplot(data=cyclone_year,\n",
    "             x=\"year_month\",\n",
    "             y=\"no_cyclones\",\n",
    "             color = \"c\");\n",
    "plt.title(\"Cyclone frequency 1999-2020\");"
   ]
  },
  {
   "cell_type": "code",
   "execution_count": 116,
   "metadata": {},
   "outputs": [],
   "source": [
    "df[\"year\"]= df[\"date\"].dt.year\n",
    "\n",
    "df_country = (df\n",
    "              .groupby([\"year\", \"Country\", \"ISO3\"])[[\"id\"]]\n",
    "              .count()\n",
    "              .reset_index()\n",
    "              .rename(columns= {\"id\": \"Number of Cyclones\"}))"
   ]
  },
  {
   "cell_type": "code",
   "execution_count": 117,
   "metadata": {},
   "outputs": [],
   "source": [
    "df[\"dummy\"] = 1"
   ]
  },
  {
   "cell_type": "code",
   "execution_count": 118,
   "metadata": {},
   "outputs": [],
   "source": [
    "ds = df.copy()\n",
    "ds.sort_values(\"year\", inplace= True)"
   ]
  },
  {
   "cell_type": "code",
   "execution_count": 119,
   "metadata": {},
   "outputs": [],
   "source": [
    "ds[\"cumsum\"] = ds.groupby([\"Country\", \"ISO3\"])[['dummy']].transform(pd.Series.cumsum)"
   ]
  },
  {
   "cell_type": "code",
   "execution_count": 120,
   "metadata": {},
   "outputs": [],
   "source": [
    "cycl_country = (ds\n",
    "                .groupby([\"year\", \"Country\", \"ISO3\"])[[\"cumsum\"]]\n",
    "                .max()\n",
    "                .reset_index()\n",
    "                .rename(columns= {\"cumsum\": \"Number of Cyclones\"}))"
   ]
  },
  {
   "cell_type": "code",
   "execution_count": 121,
   "metadata": {},
   "outputs": [
    {
     "data": {
      "text/html": [
       "<div>\n",
       "<style scoped>\n",
       "    .dataframe tbody tr th:only-of-type {\n",
       "        vertical-align: middle;\n",
       "    }\n",
       "\n",
       "    .dataframe tbody tr th {\n",
       "        vertical-align: top;\n",
       "    }\n",
       "\n",
       "    .dataframe thead th {\n",
       "        text-align: right;\n",
       "    }\n",
       "</style>\n",
       "<table border=\"1\" class=\"dataframe\">\n",
       "  <thead>\n",
       "    <tr style=\"text-align: right;\">\n",
       "      <th></th>\n",
       "      <th>year</th>\n",
       "      <th>Country</th>\n",
       "      <th>ISO3</th>\n",
       "      <th>Number of Cyclones</th>\n",
       "    </tr>\n",
       "  </thead>\n",
       "  <tbody>\n",
       "    <tr>\n",
       "      <td>0</td>\n",
       "      <td>1999</td>\n",
       "      <td>Cocos (Keeling) Islands (the)</td>\n",
       "      <td>CCK</td>\n",
       "      <td>1</td>\n",
       "    </tr>\n",
       "    <tr>\n",
       "      <td>1</td>\n",
       "      <td>1999</td>\n",
       "      <td>Indonesia</td>\n",
       "      <td>IDN</td>\n",
       "      <td>1</td>\n",
       "    </tr>\n",
       "    <tr>\n",
       "      <td>2</td>\n",
       "      <td>1999</td>\n",
       "      <td>Madagascar</td>\n",
       "      <td>MDG</td>\n",
       "      <td>1</td>\n",
       "    </tr>\n",
       "    <tr>\n",
       "      <td>3</td>\n",
       "      <td>2000</td>\n",
       "      <td>Australia</td>\n",
       "      <td>AUS</td>\n",
       "      <td>5</td>\n",
       "    </tr>\n",
       "    <tr>\n",
       "      <td>4</td>\n",
       "      <td>2000</td>\n",
       "      <td>Bahamas (the)</td>\n",
       "      <td>BHS</td>\n",
       "      <td>1</td>\n",
       "    </tr>\n",
       "    <tr>\n",
       "      <td>...</td>\n",
       "      <td>...</td>\n",
       "      <td>...</td>\n",
       "      <td>...</td>\n",
       "      <td>...</td>\n",
       "    </tr>\n",
       "    <tr>\n",
       "      <td>666</td>\n",
       "      <td>2020</td>\n",
       "      <td>Madagascar</td>\n",
       "      <td>MDG</td>\n",
       "      <td>29</td>\n",
       "    </tr>\n",
       "    <tr>\n",
       "      <td>667</td>\n",
       "      <td>2020</td>\n",
       "      <td>Mauritius</td>\n",
       "      <td>MUS</td>\n",
       "      <td>64</td>\n",
       "    </tr>\n",
       "    <tr>\n",
       "      <td>668</td>\n",
       "      <td>2020</td>\n",
       "      <td>Samoa</td>\n",
       "      <td>WSM</td>\n",
       "      <td>3</td>\n",
       "    </tr>\n",
       "    <tr>\n",
       "      <td>669</td>\n",
       "      <td>2020</td>\n",
       "      <td>Vanuatu</td>\n",
       "      <td>VUT</td>\n",
       "      <td>32</td>\n",
       "    </tr>\n",
       "    <tr>\n",
       "      <td>670</td>\n",
       "      <td>2020</td>\n",
       "      <td>Wallis and Futuna</td>\n",
       "      <td>WLF</td>\n",
       "      <td>27</td>\n",
       "    </tr>\n",
       "  </tbody>\n",
       "</table>\n",
       "<p>671 rows × 4 columns</p>\n",
       "</div>"
      ],
      "text/plain": [
       "     year                        Country ISO3  Number of Cyclones\n",
       "0    1999  Cocos (Keeling) Islands (the)  CCK                   1\n",
       "1    1999                      Indonesia  IDN                   1\n",
       "2    1999                     Madagascar  MDG                   1\n",
       "3    2000                      Australia  AUS                   5\n",
       "4    2000                  Bahamas (the)  BHS                   1\n",
       "..    ...                            ...  ...                 ...\n",
       "666  2020                     Madagascar  MDG                  29\n",
       "667  2020                      Mauritius  MUS                  64\n",
       "668  2020                          Samoa  WSM                   3\n",
       "669  2020                        Vanuatu  VUT                  32\n",
       "670  2020              Wallis and Futuna  WLF                  27\n",
       "\n",
       "[671 rows x 4 columns]"
      ]
     },
     "execution_count": 121,
     "metadata": {},
     "output_type": "execute_result"
    }
   ],
   "source": [
    "cycl_country"
   ]
  },
  {
   "cell_type": "code",
   "execution_count": 122,
   "metadata": {},
   "outputs": [
    {
     "data": {
      "application/vnd.plotly.v1+json": {
       "config": {
        "plotlyServerURL": "https://plot.ly"
       },
       "data": [
        {
         "coloraxis": "coloraxis",
         "geo": "geo",
         "hoverlabel": {
          "namelength": 0
         },
         "hovertemplate": "<b>%{hovertext}</b><br><br>year=1999<br>ISO3=%{location}<br>Number of Cyclones=%{z}",
         "hovertext": [
          "Cocos (Keeling) Islands (the)",
          "Indonesia",
          "Madagascar"
         ],
         "ids": [
          "CCK",
          "IDN",
          "MDG"
         ],
         "locations": [
          "CCK",
          "IDN",
          "MDG"
         ],
         "name": "",
         "type": "choropleth",
         "z": [
          1,
          1,
          1
         ]
        }
       ],
       "frames": [
        {
         "data": [
          {
           "coloraxis": "coloraxis",
           "geo": "geo",
           "hoverlabel": {
            "namelength": 0
           },
           "hovertemplate": "<b>%{hovertext}</b><br><br>year=1999<br>ISO3=%{location}<br>Number of Cyclones=%{z}",
           "hovertext": [
            "Cocos (Keeling) Islands (the)",
            "Indonesia",
            "Madagascar"
           ],
           "ids": [
            "CCK",
            "IDN",
            "MDG"
           ],
           "locations": [
            "CCK",
            "IDN",
            "MDG"
           ],
           "name": "",
           "type": "choropleth",
           "z": [
            1,
            1,
            1
           ]
          }
         ],
         "name": "1999"
        },
        {
         "data": [
          {
           "coloraxis": "coloraxis",
           "geo": "geo",
           "hoverlabel": {
            "namelength": 0
           },
           "hovertemplate": "<b>%{hovertext}</b><br><br>year=2000<br>ISO3=%{location}<br>Number of Cyclones=%{z}",
           "hovertext": [
            "Australia",
            "Bahamas (the)",
            "Barbados",
            "Bermuda",
            "Cabo Verde",
            "China",
            "Christmas Island",
            "Cocos (Keeling) Islands (the)",
            "El Salvador",
            "Fiji",
            "French Guiana",
            "French Polynesia",
            "Guam",
            "Guinea-Bissau",
            "Honduras",
            "India",
            "Indonesia",
            "Japan",
            "Maldives",
            "Marshall Islands (the)",
            "Mauritius",
            "Mexico",
            "Micronesia (Federated States of)",
            "Myanmar",
            "New Caledonia",
            "Northern Mariana Islands (the)",
            "Palau",
            "Papua New Guinea",
            "Philippines (the)",
            "Solomon Islands",
            "Sri Lanka",
            "Timor-Leste",
            "Tokelau",
            "Tonga",
            "United States of America (the)",
            "Vanuatu",
            "Viet Nam",
            "Wallis and Futuna"
           ],
           "ids": [
            "AUS",
            "BHS",
            "BRB",
            "BMU",
            "CPV",
            "CHN",
            "CXR",
            "CCK",
            "SLV",
            "FJI",
            "GUF",
            "PYF",
            "GUM",
            "GNB",
            "HND",
            "IND",
            "IDN",
            "JPN",
            "MDV",
            "MHL",
            "MUS",
            "MEX",
            "FSM",
            "MMR",
            "NCL",
            "MNP",
            "PLW",
            "PNG",
            "PHL",
            "SLB",
            "LKA",
            "TLS",
            "TKL",
            "TON",
            "USA",
            "VUT",
            "VNM",
            "WLF"
           ],
           "locations": [
            "AUS",
            "BHS",
            "BRB",
            "BMU",
            "CPV",
            "CHN",
            "CXR",
            "CCK",
            "SLV",
            "FJI",
            "GUF",
            "PYF",
            "GUM",
            "GNB",
            "HND",
            "IND",
            "IDN",
            "JPN",
            "MDV",
            "MHL",
            "MUS",
            "MEX",
            "FSM",
            "MMR",
            "NCL",
            "MNP",
            "PLW",
            "PNG",
            "PHL",
            "SLB",
            "LKA",
            "TLS",
            "TKL",
            "TON",
            "USA",
            "VUT",
            "VNM",
            "WLF"
           ],
           "name": "",
           "type": "choropleth",
           "z": [
            5,
            1,
            2,
            2,
            2,
            1,
            1,
            5,
            1,
            2,
            2,
            3,
            1,
            1,
            1,
            2,
            3,
            1,
            4,
            4,
            3,
            17,
            3,
            1,
            1,
            4,
            4,
            2,
            6,
            1,
            1,
            1,
            1,
            2,
            3,
            3,
            1,
            1
           ]
          }
         ],
         "name": "2000"
        },
        {
         "data": [
          {
           "coloraxis": "coloraxis",
           "geo": "geo",
           "hoverlabel": {
            "namelength": 0
           },
           "hovertemplate": "<b>%{hovertext}</b><br><br>year=2001<br>ISO3=%{location}<br>Number of Cyclones=%{z}",
           "hovertext": [
            "Australia",
            "Barbados",
            "Bermuda",
            "Cabo Verde",
            "Canada",
            "Cocos (Keeling) Islands (the)",
            "Cook Islands (the)",
            "French Guiana",
            "French Polynesia",
            "Guam",
            "Guatemala",
            "India",
            "Indonesia",
            "Japan",
            "Maldives",
            "Marshall Islands (the)",
            "Mexico",
            "Micronesia (Federated States of)",
            "Mozambique",
            "New Caledonia",
            "Nicaragua",
            "Niue",
            "Northern Mariana Islands (the)",
            "Papua New Guinea",
            "Philippines (the)",
            "Portugal",
            "Seychelles",
            "Solomon Islands",
            "South Africa",
            "Tokelau",
            "United States of America (the)",
            "Vanuatu",
            "Viet Nam",
            "Virgin Islands (British)",
            "Virgin Islands (U.S.)"
           ],
           "ids": [
            "AUS",
            "BRB",
            "BMU",
            "CPV",
            "CAN",
            "CCK",
            "COK",
            "GUF",
            "PYF",
            "GUM",
            "GTM",
            "IND",
            "IDN",
            "JPN",
            "MDV",
            "MHL",
            "MEX",
            "FSM",
            "MOZ",
            "NCL",
            "NIC",
            "NIU",
            "MNP",
            "PNG",
            "PHL",
            "PRT",
            "SYC",
            "SLB",
            "ZAF",
            "TKL",
            "USA",
            "VUT",
            "VNM",
            "VGB",
            "VIR"
           ],
           "locations": [
            "AUS",
            "BRB",
            "BMU",
            "CPV",
            "CAN",
            "CCK",
            "COK",
            "GUF",
            "PYF",
            "GUM",
            "GTM",
            "IND",
            "IDN",
            "JPN",
            "MDV",
            "MHL",
            "MEX",
            "FSM",
            "MOZ",
            "NCL",
            "NIC",
            "NIU",
            "MNP",
            "PNG",
            "PHL",
            "PRT",
            "SYC",
            "SLB",
            "ZAF",
            "TKL",
            "USA",
            "VUT",
            "VNM",
            "VGB",
            "VIR"
           ],
           "name": "",
           "type": "choropleth",
           "z": [
            9,
            3,
            4,
            5,
            1,
            9,
            4,
            3,
            5,
            3,
            2,
            5,
            8,
            2,
            7,
            7,
            30,
            11,
            2,
            3,
            1,
            1,
            7,
            4,
            15,
            1,
            1,
            3,
            1,
            2,
            7,
            5,
            2,
            1,
            1
           ]
          }
         ],
         "name": "2001"
        },
        {
         "data": [
          {
           "coloraxis": "coloraxis",
           "geo": "geo",
           "hoverlabel": {
            "namelength": 0
           },
           "hovertemplate": "<b>%{hovertext}</b><br><br>year=2002<br>ISO3=%{location}<br>Number of Cyclones=%{z}",
           "hovertext": [
            "Australia",
            "Bahamas (the)",
            "Bermuda",
            "Cabo Verde",
            "China",
            "Christmas Island",
            "Cocos (Keeling) Islands (the)",
            "Fiji",
            "French Guiana",
            "French Polynesia",
            "India",
            "Indonesia",
            "Kiribati",
            "Madagascar",
            "Maldives",
            "Marshall Islands (the)",
            "Mauritius",
            "Mexico",
            "Micronesia (Federated States of)",
            "Mozambique",
            "New Caledonia",
            "Niue",
            "Northern Mariana Islands (the)",
            "Palau",
            "Papua New Guinea",
            "Philippines (the)",
            "Seychelles",
            "Solomon Islands",
            "Sri Lanka",
            "Timor-Leste",
            "Tonga",
            "Trinidad and Tobago",
            "United States of America (the)",
            "Viet Nam"
           ],
           "ids": [
            "AUS",
            "BHS",
            "BMU",
            "CPV",
            "CHN",
            "CXR",
            "CCK",
            "FJI",
            "GUF",
            "PYF",
            "IND",
            "IDN",
            "KIR",
            "MDG",
            "MDV",
            "MHL",
            "MUS",
            "MEX",
            "FSM",
            "MOZ",
            "NCL",
            "NIU",
            "MNP",
            "PLW",
            "PNG",
            "PHL",
            "SYC",
            "SLB",
            "LKA",
            "TLS",
            "TON",
            "TTO",
            "USA",
            "VNM"
           ],
           "locations": [
            "AUS",
            "BHS",
            "BMU",
            "CPV",
            "CHN",
            "CXR",
            "CCK",
            "FJI",
            "GUF",
            "PYF",
            "IND",
            "IDN",
            "KIR",
            "MDG",
            "MDV",
            "MHL",
            "MUS",
            "MEX",
            "FSM",
            "MOZ",
            "NCL",
            "NIU",
            "MNP",
            "PLW",
            "PNG",
            "PHL",
            "SYC",
            "SLB",
            "LKA",
            "TLS",
            "TON",
            "TTO",
            "USA",
            "VNM"
           ],
           "name": "",
           "type": "choropleth",
           "z": [
            14,
            2,
            5,
            6,
            3,
            2,
            11,
            6,
            4,
            6,
            8,
            10,
            2,
            2,
            12,
            16,
            4,
            41,
            17,
            3,
            7,
            2,
            8,
            6,
            5,
            18,
            3,
            4,
            2,
            2,
            3,
            1,
            14,
            3
           ]
          }
         ],
         "name": "2002"
        },
        {
         "data": [
          {
           "coloraxis": "coloraxis",
           "geo": "geo",
           "hoverlabel": {
            "namelength": 0
           },
           "hovertemplate": "<b>%{hovertext}</b><br><br>year=2003<br>ISO3=%{location}<br>Number of Cyclones=%{z}",
           "hovertext": [
            "American Samoa",
            "Australia",
            "Bermuda",
            "Brazil",
            "Cabo Verde",
            "Christmas Island",
            "Cocos (Keeling) Islands (the)",
            "Colombia",
            "Dominican Republic (the)",
            "French Guiana",
            "Honduras",
            "India",
            "Indonesia",
            "Japan",
            "Madagascar",
            "Maldives",
            "Marshall Islands (the)",
            "Mauritius",
            "Mexico",
            "Micronesia (Federated States of)",
            "Northern Mariana Islands (the)",
            "Palau",
            "Philippines (the)",
            "Portugal",
            "Seychelles",
            "Solomon Islands",
            "Thailand",
            "Tokelau",
            "Tonga",
            "United States of America (the)",
            "Vanuatu",
            "Wallis and Futuna"
           ],
           "ids": [
            "ASM",
            "AUS",
            "BMU",
            "BRA",
            "CPV",
            "CXR",
            "CCK",
            "COL",
            "DOM",
            "GUF",
            "HND",
            "IND",
            "IDN",
            "JPN",
            "MDG",
            "MDV",
            "MHL",
            "MUS",
            "MEX",
            "FSM",
            "MNP",
            "PLW",
            "PHL",
            "PRT",
            "SYC",
            "SLB",
            "THA",
            "TKL",
            "TON",
            "USA",
            "VUT",
            "WLF"
           ],
           "locations": [
            "ASM",
            "AUS",
            "BMU",
            "BRA",
            "CPV",
            "CXR",
            "CCK",
            "COL",
            "DOM",
            "GUF",
            "HND",
            "IND",
            "IDN",
            "JPN",
            "MDG",
            "MDV",
            "MHL",
            "MUS",
            "MEX",
            "FSM",
            "MNP",
            "PLW",
            "PHL",
            "PRT",
            "SYC",
            "SLB",
            "THA",
            "TKL",
            "TON",
            "USA",
            "VUT",
            "WLF"
           ],
           "name": "",
           "type": "choropleth",
           "z": [
            2,
            20,
            8,
            1,
            9,
            3,
            13,
            1,
            1,
            5,
            2,
            9,
            15,
            3,
            3,
            16,
            17,
            9,
            59,
            28,
            10,
            7,
            23,
            2,
            4,
            7,
            1,
            3,
            5,
            16,
            9,
            5
           ]
          }
         ],
         "name": "2003"
        },
        {
         "data": [
          {
           "coloraxis": "coloraxis",
           "geo": "geo",
           "hoverlabel": {
            "namelength": 0
           },
           "hovertemplate": "<b>%{hovertext}</b><br><br>year=2004<br>ISO3=%{location}<br>Number of Cyclones=%{z}",
           "hovertext": [
            "Australia",
            "Barbados",
            "Bermuda",
            "Cabo Verde",
            "Christmas Island",
            "Cocos (Keeling) Islands (the)",
            "Fiji",
            "French Guiana",
            "French Polynesia",
            "Guadeloupe",
            "Guam",
            "Guatemala",
            "India",
            "Indonesia",
            "Japan",
            "Kiribati",
            "Madagascar",
            "Maldives",
            "Marshall Islands (the)",
            "Mauritius",
            "Mexico",
            "Micronesia (Federated States of)",
            "Northern Mariana Islands (the)",
            "Palau",
            "Philippines (the)",
            "Taiwan (Province of China)",
            "Tokelau",
            "Trinidad and Tobago",
            "United States of America (the)",
            "Vanuatu"
           ],
           "ids": [
            "AUS",
            "BRB",
            "BMU",
            "CPV",
            "CXR",
            "CCK",
            "FJI",
            "GUF",
            "PYF",
            "GLP",
            "GUM",
            "GTM",
            "IND",
            "IDN",
            "JPN",
            "KIR",
            "MDG",
            "MDV",
            "MHL",
            "MUS",
            "MEX",
            "FSM",
            "MNP",
            "PLW",
            "PHL",
            "TWN",
            "TKL",
            "TTO",
            "USA",
            "VUT"
           ],
           "locations": [
            "AUS",
            "BRB",
            "BMU",
            "CPV",
            "CXR",
            "CCK",
            "FJI",
            "GUF",
            "PYF",
            "GLP",
            "GUM",
            "GTM",
            "IND",
            "IDN",
            "JPN",
            "KIR",
            "MDG",
            "MDV",
            "MHL",
            "MUS",
            "MEX",
            "FSM",
            "MNP",
            "PLW",
            "PHL",
            "TWN",
            "TKL",
            "TTO",
            "USA",
            "VUT"
           ],
           "name": "",
           "type": "choropleth",
           "z": [
            29,
            4,
            9,
            14,
            4,
            15,
            9,
            6,
            7,
            1,
            5,
            3,
            13,
            17,
            4,
            3,
            4,
            21,
            21,
            12,
            70,
            42,
            13,
            9,
            26,
            1,
            4,
            2,
            18,
            10
           ]
          }
         ],
         "name": "2004"
        },
        {
         "data": [
          {
           "coloraxis": "coloraxis",
           "geo": "geo",
           "hoverlabel": {
            "namelength": 0
           },
           "hovertemplate": "<b>%{hovertext}</b><br><br>year=2005<br>ISO3=%{location}<br>Number of Cyclones=%{z}",
           "hovertext": [
            "American Samoa",
            "Australia",
            "Cabo Verde",
            "China",
            "Christmas Island",
            "Cocos (Keeling) Islands (the)",
            "Cook Islands (the)",
            "Fiji",
            "Guatemala",
            "India",
            "Indonesia",
            "Japan",
            "Maldives",
            "Marshall Islands (the)",
            "Mauritius",
            "Mexico",
            "Micronesia (Federated States of)",
            "Northern Mariana Islands (the)",
            "Palau",
            "Papua New Guinea",
            "Philippines (the)",
            "Seychelles",
            "Thailand",
            "Wallis and Futuna"
           ],
           "ids": [
            "ASM",
            "AUS",
            "CPV",
            "CHN",
            "CXR",
            "CCK",
            "COK",
            "FJI",
            "GTM",
            "IND",
            "IDN",
            "JPN",
            "MDV",
            "MHL",
            "MUS",
            "MEX",
            "FSM",
            "MNP",
            "PLW",
            "PNG",
            "PHL",
            "SYC",
            "THA",
            "WLF"
           ],
           "locations": [
            "ASM",
            "AUS",
            "CPV",
            "CHN",
            "CXR",
            "CCK",
            "COK",
            "FJI",
            "GTM",
            "IND",
            "IDN",
            "JPN",
            "MDV",
            "MHL",
            "MUS",
            "MEX",
            "FSM",
            "MNP",
            "PLW",
            "PNG",
            "PHL",
            "SYC",
            "THA",
            "WLF"
           ],
           "name": "",
           "type": "choropleth",
           "z": [
            7,
            32,
            15,
            4,
            5,
            20,
            5,
            11,
            4,
            16,
            24,
            5,
            22,
            24,
            14,
            84,
            51,
            17,
            10,
            6,
            31,
            5,
            2,
            9
           ]
          }
         ],
         "name": "2005"
        },
        {
         "data": [
          {
           "coloraxis": "coloraxis",
           "geo": "geo",
           "hoverlabel": {
            "namelength": 0
           },
           "hovertemplate": "<b>%{hovertext}</b><br><br>year=2006<br>ISO3=%{location}<br>Number of Cyclones=%{z}",
           "hovertext": [
            "Antigua and Barbuda",
            "Australia",
            "Cabo Verde",
            "Cocos (Keeling) Islands (the)",
            "Fiji",
            "Grenada",
            "Guadeloupe",
            "India",
            "Indonesia",
            "Japan",
            "Madagascar",
            "Maldives",
            "Marshall Islands (the)",
            "Mauritius",
            "Mexico",
            "Micronesia (Federated States of)",
            "New Caledonia",
            "Northern Mariana Islands (the)",
            "Palau",
            "Papua New Guinea",
            "Philippines (the)",
            "Solomon Islands",
            "Sri Lanka",
            "Tonga",
            "United States of America (the)",
            "Vanuatu",
            "Wallis and Futuna"
           ],
           "ids": [
            "ATG",
            "AUS",
            "CPV",
            "CCK",
            "FJI",
            "GRD",
            "GLP",
            "IND",
            "IDN",
            "JPN",
            "MDG",
            "MDV",
            "MHL",
            "MUS",
            "MEX",
            "FSM",
            "NCL",
            "MNP",
            "PLW",
            "PNG",
            "PHL",
            "SLB",
            "LKA",
            "TON",
            "USA",
            "VUT",
            "WLF"
           ],
           "locations": [
            "ATG",
            "AUS",
            "CPV",
            "CCK",
            "FJI",
            "GRD",
            "GLP",
            "IND",
            "IDN",
            "JPN",
            "MDG",
            "MDV",
            "MHL",
            "MUS",
            "MEX",
            "FSM",
            "NCL",
            "MNP",
            "PLW",
            "PNG",
            "PHL",
            "SLB",
            "LKA",
            "TON",
            "USA",
            "VUT",
            "WLF"
           ],
           "name": "",
           "type": "choropleth",
           "z": [
            1,
            39,
            18,
            21,
            12,
            1,
            3,
            21,
            27,
            6,
            7,
            24,
            26,
            16,
            103,
            61,
            9,
            20,
            11,
            9,
            35,
            14,
            3,
            9,
            21,
            11,
            10
           ]
          }
         ],
         "name": "2006"
        },
        {
         "data": [
          {
           "coloraxis": "coloraxis",
           "geo": "geo",
           "hoverlabel": {
            "namelength": 0
           },
           "hovertemplate": "<b>%{hovertext}</b><br><br>year=2007<br>ISO3=%{location}<br>Number of Cyclones=%{z}",
           "hovertext": [
            "American Samoa",
            "Antigua and Barbuda",
            "Australia",
            "Bahamas (the)",
            "Barbados",
            "Belize",
            "Cabo Verde",
            "China",
            "Cocos (Keeling) Islands (the)",
            "Fiji",
            "French Guiana",
            "French Polynesia",
            "Guam",
            "India",
            "Indonesia",
            "Madagascar",
            "Maldives",
            "Marshall Islands (the)",
            "Mauritius",
            "Mexico",
            "Micronesia (Federated States of)",
            "Mozambique",
            "Northern Mariana Islands (the)",
            "Papua New Guinea",
            "Philippines (the)",
            "Solomon Islands",
            "United States of America (the)",
            "Wallis and Futuna"
           ],
           "ids": [
            "ASM",
            "ATG",
            "AUS",
            "BHS",
            "BRB",
            "BLZ",
            "CPV",
            "CHN",
            "CCK",
            "FJI",
            "GUF",
            "PYF",
            "GUM",
            "IND",
            "IDN",
            "MDG",
            "MDV",
            "MHL",
            "MUS",
            "MEX",
            "FSM",
            "MOZ",
            "MNP",
            "PNG",
            "PHL",
            "SLB",
            "USA",
            "WLF"
           ],
           "locations": [
            "ASM",
            "ATG",
            "AUS",
            "BHS",
            "BRB",
            "BLZ",
            "CPV",
            "CHN",
            "CCK",
            "FJI",
            "GUF",
            "PYF",
            "GUM",
            "IND",
            "IDN",
            "MDG",
            "MDV",
            "MHL",
            "MUS",
            "MEX",
            "FSM",
            "MOZ",
            "MNP",
            "PNG",
            "PHL",
            "SLB",
            "USA",
            "WLF"
           ],
           "name": "",
           "type": "choropleth",
           "z": [
            9,
            2,
            45,
            3,
            5,
            1,
            21,
            6,
            25,
            16,
            7,
            9,
            6,
            27,
            28,
            8,
            28,
            28,
            19,
            115,
            68,
            4,
            25,
            11,
            39,
            17,
            23,
            13
           ]
          }
         ],
         "name": "2007"
        },
        {
         "data": [
          {
           "coloraxis": "coloraxis",
           "geo": "geo",
           "hoverlabel": {
            "namelength": 0
           },
           "hovertemplate": "<b>%{hovertext}</b><br><br>year=2008<br>ISO3=%{location}<br>Number of Cyclones=%{z}",
           "hovertext": [
            "Antigua and Barbuda",
            "Aruba",
            "Australia",
            "Belize",
            "Bonaire, Sint Eustatius and Saba",
            "Cabo Verde",
            "Christmas Island",
            "Cocos (Keeling) Islands (the)",
            "Colombia",
            "Costa Rica",
            "El Salvador",
            "Fiji",
            "French Polynesia",
            "Guam",
            "Guatemala",
            "Honduras",
            "India",
            "Indonesia",
            "Japan",
            "Madagascar",
            "Maldives",
            "Marshall Islands (the)",
            "Mauritius",
            "Mexico",
            "Micronesia (Federated States of)",
            "New Caledonia",
            "Northern Mariana Islands (the)",
            "Palau",
            "Philippines (the)",
            "Puerto Rico",
            "Seychelles",
            "Solomon Islands",
            "Sri Lanka",
            "Taiwan (Province of China)",
            "Tonga",
            "Turks and Caicos Islands (the)",
            "United States of America (the)",
            "Vanuatu",
            "Viet Nam",
            "Wallis and Futuna"
           ],
           "ids": [
            "ATG",
            "ABW",
            "AUS",
            "BLZ",
            "BES",
            "CPV",
            "CXR",
            "CCK",
            "COL",
            "CRI",
            "SLV",
            "FJI",
            "PYF",
            "GUM",
            "GTM",
            "HND",
            "IND",
            "IDN",
            "JPN",
            "MDG",
            "MDV",
            "MHL",
            "MUS",
            "MEX",
            "FSM",
            "NCL",
            "MNP",
            "PLW",
            "PHL",
            "PRI",
            "SYC",
            "SLB",
            "LKA",
            "TWN",
            "TON",
            "TCA",
            "USA",
            "VUT",
            "VNM",
            "WLF"
           ],
           "locations": [
            "ATG",
            "ABW",
            "AUS",
            "BLZ",
            "BES",
            "CPV",
            "CXR",
            "CCK",
            "COL",
            "CRI",
            "SLV",
            "FJI",
            "PYF",
            "GUM",
            "GTM",
            "HND",
            "IND",
            "IDN",
            "JPN",
            "MDG",
            "MDV",
            "MHL",
            "MUS",
            "MEX",
            "FSM",
            "NCL",
            "MNP",
            "PLW",
            "PHL",
            "PRI",
            "SYC",
            "SLB",
            "LKA",
            "TWN",
            "TON",
            "TCA",
            "USA",
            "VUT",
            "VNM",
            "WLF"
           ],
           "name": "",
           "type": "choropleth",
           "z": [
            3,
            1,
            49,
            2,
            1,
            25,
            7,
            31,
            2,
            1,
            2,
            18,
            10,
            7,
            6,
            3,
            31,
            29,
            10,
            9,
            31,
            29,
            22,
            128,
            71,
            11,
            28,
            13,
            49,
            1,
            6,
            18,
            4,
            2,
            11,
            1,
            25,
            13,
            5,
            14
           ]
          }
         ],
         "name": "2008"
        },
        {
         "data": [
          {
           "coloraxis": "coloraxis",
           "geo": "geo",
           "hoverlabel": {
            "namelength": 0
           },
           "hovertemplate": "<b>%{hovertext}</b><br><br>year=2009<br>ISO3=%{location}<br>Number of Cyclones=%{z}",
           "hovertext": [
            "Australia",
            "Cabo Verde",
            "Cocos (Keeling) Islands (the)",
            "Colombia",
            "Cook Islands (the)",
            "Fiji",
            "French Guiana",
            "Guadeloupe",
            "Guam",
            "India",
            "Indonesia",
            "Japan",
            "Kiribati",
            "Madagascar",
            "Maldives",
            "Marshall Islands (the)",
            "Mauritius",
            "Mexico",
            "Micronesia (Federated States of)",
            "Mozambique",
            "New Caledonia",
            "Northern Mariana Islands (the)",
            "Palau",
            "Papua New Guinea",
            "Philippines (the)",
            "Solomon Islands",
            "Sri Lanka",
            "Tonga",
            "Turks and Caicos Islands (the)",
            "United States of America (the)",
            "Viet Nam",
            "Wallis and Futuna"
           ],
           "ids": [
            "AUS",
            "CPV",
            "CCK",
            "COL",
            "COK",
            "FJI",
            "GUF",
            "GLP",
            "GUM",
            "IND",
            "IDN",
            "JPN",
            "KIR",
            "MDG",
            "MDV",
            "MHL",
            "MUS",
            "MEX",
            "FSM",
            "MOZ",
            "NCL",
            "MNP",
            "PLW",
            "PNG",
            "PHL",
            "SLB",
            "LKA",
            "TON",
            "TCA",
            "USA",
            "VNM",
            "WLF"
           ],
           "locations": [
            "AUS",
            "CPV",
            "CCK",
            "COL",
            "COK",
            "FJI",
            "GUF",
            "GLP",
            "GUM",
            "IND",
            "IDN",
            "JPN",
            "KIR",
            "MDG",
            "MDV",
            "MHL",
            "MUS",
            "MEX",
            "FSM",
            "MOZ",
            "NCL",
            "MNP",
            "PLW",
            "PNG",
            "PHL",
            "SLB",
            "LKA",
            "TON",
            "TCA",
            "USA",
            "VNM",
            "WLF"
           ],
           "name": "",
           "type": "choropleth",
           "z": [
            57,
            28,
            34,
            3,
            9,
            21,
            8,
            4,
            8,
            35,
            31,
            11,
            5,
            10,
            34,
            31,
            27,
            144,
            77,
            5,
            13,
            31,
            15,
            12,
            56,
            19,
            5,
            13,
            2,
            28,
            6,
            16
           ]
          }
         ],
         "name": "2009"
        },
        {
         "data": [
          {
           "coloraxis": "coloraxis",
           "geo": "geo",
           "hoverlabel": {
            "namelength": 0
           },
           "hovertemplate": "<b>%{hovertext}</b><br><br>year=2010<br>ISO3=%{location}<br>Number of Cyclones=%{z}",
           "hovertext": [
            "American Samoa",
            "Anguilla",
            "Australia",
            "Bahamas (the)",
            "Cabo Verde",
            "Cayman Islands (the)",
            "Cocos (Keeling) Islands (the)",
            "Colombia",
            "Cook Islands (the)",
            "Costa Rica",
            "French Guiana",
            "French Polynesia",
            "Gambia (the)",
            "Guam",
            "Honduras",
            "India",
            "Indonesia",
            "Jamaica",
            "Japan",
            "Kiribati",
            "Madagascar",
            "Malaysia",
            "Mauritius",
            "Mexico",
            "Micronesia (Federated States of)",
            "Myanmar",
            "Northern Mariana Islands (the)",
            "Papua New Guinea",
            "Philippines (the)",
            "Puerto Rico",
            "Samoa",
            "Tokelau",
            "Vanuatu",
            "Wallis and Futuna",
            "Yemen"
           ],
           "ids": [
            "ASM",
            "AIA",
            "AUS",
            "BHS",
            "CPV",
            "CYM",
            "CCK",
            "COL",
            "COK",
            "CRI",
            "GUF",
            "PYF",
            "GMB",
            "GUM",
            "HND",
            "IND",
            "IDN",
            "JAM",
            "JPN",
            "KIR",
            "MDG",
            "MYS",
            "MUS",
            "MEX",
            "FSM",
            "MMR",
            "MNP",
            "PNG",
            "PHL",
            "PRI",
            "WSM",
            "TKL",
            "VUT",
            "WLF",
            "YEM"
           ],
           "locations": [
            "ASM",
            "AIA",
            "AUS",
            "BHS",
            "CPV",
            "CYM",
            "CCK",
            "COL",
            "COK",
            "CRI",
            "GUF",
            "PYF",
            "GMB",
            "GUM",
            "HND",
            "IND",
            "IDN",
            "JAM",
            "JPN",
            "KIR",
            "MDG",
            "MYS",
            "MUS",
            "MEX",
            "FSM",
            "MMR",
            "MNP",
            "PNG",
            "PHL",
            "PRI",
            "WSM",
            "TKL",
            "VUT",
            "WLF",
            "YEM"
           ],
           "name": "",
           "type": "choropleth",
           "z": [
            13,
            1,
            61,
            4,
            33,
            1,
            40,
            5,
            10,
            2,
            11,
            11,
            1,
            11,
            5,
            37,
            33,
            1,
            13,
            6,
            12,
            1,
            29,
            151,
            80,
            2,
            33,
            14,
            60,
            2,
            1,
            6,
            15,
            19,
            1
           ]
          }
         ],
         "name": "2010"
        },
        {
         "data": [
          {
           "coloraxis": "coloraxis",
           "geo": "geo",
           "hoverlabel": {
            "namelength": 0
           },
           "hovertemplate": "<b>%{hovertext}</b><br><br>year=2011<br>ISO3=%{location}<br>Number of Cyclones=%{z}",
           "hovertext": [
            "Australia",
            "Bahamas (the)",
            "Barbados",
            "Bermuda",
            "Cabo Verde",
            "Cocos (Keeling) Islands (the)",
            "Colombia",
            "Cook Islands (the)",
            "Fiji",
            "Guam",
            "Guinea-Bissau",
            "Honduras",
            "India",
            "Indonesia",
            "Marshall Islands (the)",
            "Martinique",
            "Mauritius",
            "Mexico",
            "Micronesia (Federated States of)",
            "Nicaragua",
            "Northern Mariana Islands (the)",
            "Oman",
            "Palau",
            "Papua New Guinea",
            "Philippines (the)",
            "Samoa",
            "Sri Lanka",
            "Tonga",
            "United States of America (the)",
            "Vanuatu",
            "Viet Nam",
            "Wallis and Futuna",
            "Yemen"
           ],
           "ids": [
            "AUS",
            "BHS",
            "BRB",
            "BMU",
            "CPV",
            "CCK",
            "COL",
            "COK",
            "FJI",
            "GUM",
            "GNB",
            "HND",
            "IND",
            "IDN",
            "MHL",
            "MTQ",
            "MUS",
            "MEX",
            "FSM",
            "NIC",
            "MNP",
            "OMN",
            "PLW",
            "PNG",
            "PHL",
            "WSM",
            "LKA",
            "TON",
            "USA",
            "VUT",
            "VNM",
            "WLF",
            "YEM"
           ],
           "locations": [
            "AUS",
            "BHS",
            "BRB",
            "BMU",
            "CPV",
            "CCK",
            "COL",
            "COK",
            "FJI",
            "GUM",
            "GNB",
            "HND",
            "IND",
            "IDN",
            "MHL",
            "MTQ",
            "MUS",
            "MEX",
            "FSM",
            "NIC",
            "MNP",
            "OMN",
            "PLW",
            "PNG",
            "PHL",
            "WSM",
            "LKA",
            "TON",
            "USA",
            "VUT",
            "VNM",
            "WLF",
            "YEM"
           ],
           "name": "",
           "type": "choropleth",
           "z": [
            69,
            5,
            6,
            14,
            35,
            41,
            6,
            11,
            22,
            13,
            3,
            6,
            40,
            36,
            33,
            1,
            32,
            164,
            85,
            2,
            36,
            1,
            16,
            16,
            64,
            2,
            6,
            16,
            29,
            20,
            7,
            20,
            2
           ]
          }
         ],
         "name": "2011"
        },
        {
         "data": [
          {
           "coloraxis": "coloraxis",
           "geo": "geo",
           "hoverlabel": {
            "namelength": 0
           },
           "hovertemplate": "<b>%{hovertext}</b><br><br>year=2012<br>ISO3=%{location}<br>Number of Cyclones=%{z}",
           "hovertext": [
            "Australia",
            "Bahamas (the)",
            "Bermuda",
            "Cabo Verde",
            "China",
            "Cocos (Keeling) Islands (the)",
            "Dominica",
            "El Salvador",
            "Fiji",
            "French Guiana",
            "Guadeloupe",
            "Guam",
            "India",
            "Indonesia",
            "Jamaica",
            "Madagascar",
            "Maldives",
            "Marshall Islands (the)",
            "Mauritius",
            "Mexico",
            "Micronesia (Federated States of)",
            "Mozambique",
            "Northern Mariana Islands (the)",
            "Palau",
            "Papua New Guinea",
            "Philippines (the)",
            "Portugal",
            "Solomon Islands",
            "Tonga",
            "United States of America (the)",
            "Vanuatu",
            "Viet Nam",
            "Wallis and Futuna"
           ],
           "ids": [
            "AUS",
            "BHS",
            "BMU",
            "CPV",
            "CHN",
            "CCK",
            "DMA",
            "SLV",
            "FJI",
            "GUF",
            "GLP",
            "GUM",
            "IND",
            "IDN",
            "JAM",
            "MDG",
            "MDV",
            "MHL",
            "MUS",
            "MEX",
            "FSM",
            "MOZ",
            "MNP",
            "PLW",
            "PNG",
            "PHL",
            "PRT",
            "SLB",
            "TON",
            "USA",
            "VUT",
            "VNM",
            "WLF"
           ],
           "locations": [
            "AUS",
            "BHS",
            "BMU",
            "CPV",
            "CHN",
            "CCK",
            "DMA",
            "SLV",
            "FJI",
            "GUF",
            "GLP",
            "GUM",
            "IND",
            "IDN",
            "JAM",
            "MDG",
            "MDV",
            "MHL",
            "MUS",
            "MEX",
            "FSM",
            "MOZ",
            "MNP",
            "PLW",
            "PNG",
            "PHL",
            "PRT",
            "SLB",
            "TON",
            "USA",
            "VUT",
            "VNM",
            "WLF"
           ],
           "name": "",
           "type": "choropleth",
           "z": [
            73,
            7,
            16,
            40,
            7,
            42,
            1,
            3,
            23,
            14,
            6,
            16,
            44,
            38,
            2,
            13,
            35,
            34,
            35,
            181,
            91,
            7,
            41,
            18,
            18,
            70,
            3,
            20,
            17,
            30,
            22,
            8,
            21
           ]
          }
         ],
         "name": "2012"
        },
        {
         "data": [
          {
           "coloraxis": "coloraxis",
           "geo": "geo",
           "hoverlabel": {
            "namelength": 0
           },
           "hovertemplate": "<b>%{hovertext}</b><br><br>year=2013<br>ISO3=%{location}<br>Number of Cyclones=%{z}",
           "hovertext": [
            "Australia",
            "Bermuda",
            "Brazil",
            "Cabo Verde",
            "Cocos (Keeling) Islands (the)",
            "Colombia",
            "Cuba",
            "French Polynesia",
            "Gambia (the)",
            "Guadeloupe",
            "Guam",
            "Guatemala",
            "India",
            "Indonesia",
            "Japan",
            "Kiribati",
            "Madagascar",
            "Maldives",
            "Marshall Islands (the)",
            "Mauritius",
            "Mexico",
            "Micronesia (Federated States of)",
            "Northern Mariana Islands (the)",
            "Palau",
            "Papua New Guinea",
            "Philippines (the)",
            "Puerto Rico",
            "Senegal",
            "Solomon Islands",
            "Somalia",
            "Sri Lanka",
            "Thailand",
            "United States of America (the)",
            "Viet Nam",
            "Wallis and Futuna"
           ],
           "ids": [
            "AUS",
            "BMU",
            "BRA",
            "CPV",
            "CCK",
            "COL",
            "CUB",
            "PYF",
            "GMB",
            "GLP",
            "GUM",
            "GTM",
            "IND",
            "IDN",
            "JPN",
            "KIR",
            "MDG",
            "MDV",
            "MHL",
            "MUS",
            "MEX",
            "FSM",
            "MNP",
            "PLW",
            "PNG",
            "PHL",
            "PRI",
            "SEN",
            "SLB",
            "SOM",
            "LKA",
            "THA",
            "USA",
            "VNM",
            "WLF"
           ],
           "locations": [
            "AUS",
            "BMU",
            "BRA",
            "CPV",
            "CCK",
            "COL",
            "CUB",
            "PYF",
            "GMB",
            "GLP",
            "GUM",
            "GTM",
            "IND",
            "IDN",
            "JPN",
            "KIR",
            "MDG",
            "MDV",
            "MHL",
            "MUS",
            "MEX",
            "FSM",
            "MNP",
            "PLW",
            "PNG",
            "PHL",
            "PRI",
            "SEN",
            "SLB",
            "SOM",
            "LKA",
            "THA",
            "USA",
            "VNM",
            "WLF"
           ],
           "name": "",
           "type": "choropleth",
           "z": [
            79,
            17,
            2,
            41,
            44,
            7,
            1,
            12,
            2,
            7,
            18,
            7,
            46,
            39,
            15,
            7,
            14,
            37,
            36,
            39,
            201,
            95,
            45,
            20,
            19,
            82,
            3,
            1,
            21,
            1,
            8,
            3,
            32,
            9,
            22
           ]
          }
         ],
         "name": "2013"
        },
        {
         "data": [
          {
           "coloraxis": "coloraxis",
           "geo": "geo",
           "hoverlabel": {
            "namelength": 0
           },
           "hovertemplate": "<b>%{hovertext}</b><br><br>year=2014<br>ISO3=%{location}<br>Number of Cyclones=%{z}",
           "hovertext": [
            "Anguilla",
            "Australia",
            "Barbados",
            "Brazil",
            "Cabo Verde",
            "China",
            "Cocos (Keeling) Islands (the)",
            "Comoros (the)",
            "Cook Islands (the)",
            "French Polynesia",
            "Guam",
            "India",
            "Indonesia",
            "Japan",
            "Korea (the Republic of)",
            "Madagascar",
            "Mauritius",
            "Mexico",
            "Micronesia (Federated States of)",
            "Mozambique",
            "New Caledonia",
            "Northern Mariana Islands (the)",
            "Palau",
            "Papua New Guinea",
            "Philippines (the)",
            "Solomon Islands",
            "Sri Lanka",
            "Tonga",
            "Turks and Caicos Islands (the)",
            "United States of America (the)",
            "Vanuatu",
            "Yemen"
           ],
           "ids": [
            "AIA",
            "AUS",
            "BRB",
            "BRA",
            "CPV",
            "CHN",
            "CCK",
            "COM",
            "COK",
            "PYF",
            "GUM",
            "IND",
            "IDN",
            "JPN",
            "KOR",
            "MDG",
            "MUS",
            "MEX",
            "FSM",
            "MOZ",
            "NCL",
            "MNP",
            "PLW",
            "PNG",
            "PHL",
            "SLB",
            "LKA",
            "TON",
            "TCA",
            "USA",
            "VUT",
            "YEM"
           ],
           "locations": [
            "AIA",
            "AUS",
            "BRB",
            "BRA",
            "CPV",
            "CHN",
            "CCK",
            "COM",
            "COK",
            "PYF",
            "GUM",
            "IND",
            "IDN",
            "JPN",
            "KOR",
            "MDG",
            "MUS",
            "MEX",
            "FSM",
            "MOZ",
            "NCL",
            "MNP",
            "PLW",
            "PNG",
            "PHL",
            "SLB",
            "LKA",
            "TON",
            "TCA",
            "USA",
            "VUT",
            "YEM"
           ],
           "name": "",
           "type": "choropleth",
           "z": [
            2,
            81,
            7,
            3,
            42,
            8,
            48,
            1,
            12,
            13,
            20,
            49,
            40,
            16,
            1,
            16,
            44,
            222,
            102,
            8,
            15,
            46,
            22,
            21,
            86,
            22,
            9,
            19,
            3,
            35,
            23,
            3
           ]
          }
         ],
         "name": "2014"
        },
        {
         "data": [
          {
           "coloraxis": "coloraxis",
           "geo": "geo",
           "hoverlabel": {
            "namelength": 0
           },
           "hovertemplate": "<b>%{hovertext}</b><br><br>year=2015<br>ISO3=%{location}<br>Number of Cyclones=%{z}",
           "hovertext": [
            "American Samoa",
            "Australia",
            "Bahamas (the)",
            "Bangladesh",
            "Bermuda",
            "Cabo Verde",
            "Christmas Island",
            "Cocos (Keeling) Islands (the)",
            "Fiji",
            "French Guiana",
            "French Polynesia",
            "Guam",
            "India",
            "Kiribati",
            "Madagascar",
            "Maldives",
            "Marshall Islands (the)",
            "Mauritius",
            "Mexico",
            "Micronesia (Federated States of)",
            "Mozambique",
            "New Caledonia",
            "Northern Mariana Islands (the)",
            "Palau",
            "Papua New Guinea",
            "Philippines (the)",
            "Réunion",
            "Senegal",
            "Solomon Islands",
            "Tonga",
            "United States of America (the)",
            "Viet Nam",
            "Wallis and Futuna"
           ],
           "ids": [
            "ASM",
            "AUS",
            "BHS",
            "BGD",
            "BMU",
            "CPV",
            "CXR",
            "CCK",
            "FJI",
            "GUF",
            "PYF",
            "GUM",
            "IND",
            "KIR",
            "MDG",
            "MDV",
            "MHL",
            "MUS",
            "MEX",
            "FSM",
            "MOZ",
            "NCL",
            "MNP",
            "PLW",
            "PNG",
            "PHL",
            "REU",
            "SEN",
            "SLB",
            "TON",
            "USA",
            "VNM",
            "WLF"
           ],
           "locations": [
            "ASM",
            "AUS",
            "BHS",
            "BGD",
            "BMU",
            "CPV",
            "CXR",
            "CCK",
            "FJI",
            "GUF",
            "PYF",
            "GUM",
            "IND",
            "KIR",
            "MDG",
            "MDV",
            "MHL",
            "MUS",
            "MEX",
            "FSM",
            "MOZ",
            "NCL",
            "MNP",
            "PLW",
            "PNG",
            "PHL",
            "REU",
            "SEN",
            "SLB",
            "TON",
            "USA",
            "VNM",
            "WLF"
           ],
           "name": "",
           "type": "choropleth",
           "z": [
            14,
            86,
            8,
            1,
            19,
            45,
            8,
            49,
            25,
            15,
            15,
            22,
            53,
            9,
            20,
            38,
            44,
            49,
            239,
            110,
            9,
            16,
            49,
            23,
            22,
            89,
            1,
            2,
            25,
            20,
            47,
            11,
            23
           ]
          }
         ],
         "name": "2015"
        },
        {
         "data": [
          {
           "coloraxis": "coloraxis",
           "geo": "geo",
           "hoverlabel": {
            "namelength": 0
           },
           "hovertemplate": "<b>%{hovertext}</b><br><br>year=2016<br>ISO3=%{location}<br>Number of Cyclones=%{z}",
           "hovertext": [
            "American Samoa",
            "Anguilla",
            "Australia",
            "Bahamas (the)",
            "Cabo Verde",
            "China",
            "Cocos (Keeling) Islands (the)",
            "Costa Rica",
            "French Polynesia",
            "Ghana",
            "Guadeloupe",
            "Guam",
            "India",
            "Jamaica",
            "Japan",
            "Kiribati",
            "Maldives",
            "Marshall Islands (the)",
            "Mauritius",
            "Mexico",
            "Micronesia (Federated States of)",
            "Myanmar",
            "New Caledonia",
            "Northern Mariana Islands (the)",
            "Pakistan",
            "Panama",
            "Philippines (the)",
            "Réunion",
            "Saint Vincent and the Grenadines",
            "Sri Lanka",
            "United States of America (the)",
            "Vanuatu",
            "Wallis and Futuna"
           ],
           "ids": [
            "ASM",
            "AIA",
            "AUS",
            "BHS",
            "CPV",
            "CHN",
            "CCK",
            "CRI",
            "PYF",
            "GHA",
            "GLP",
            "GUM",
            "IND",
            "JAM",
            "JPN",
            "KIR",
            "MDV",
            "MHL",
            "MUS",
            "MEX",
            "FSM",
            "MMR",
            "NCL",
            "MNP",
            "PAK",
            "PAN",
            "PHL",
            "REU",
            "VCT",
            "LKA",
            "USA",
            "VUT",
            "WLF"
           ],
           "locations": [
            "ASM",
            "AIA",
            "AUS",
            "BHS",
            "CPV",
            "CHN",
            "CCK",
            "CRI",
            "PYF",
            "GHA",
            "GLP",
            "GUM",
            "IND",
            "JAM",
            "JPN",
            "KIR",
            "MDV",
            "MHL",
            "MUS",
            "MEX",
            "FSM",
            "MMR",
            "NCL",
            "MNP",
            "PAK",
            "PAN",
            "PHL",
            "REU",
            "VCT",
            "LKA",
            "USA",
            "VUT",
            "WLF"
           ],
           "name": "",
           "type": "choropleth",
           "z": [
            15,
            3,
            89,
            9,
            50,
            11,
            51,
            3,
            16,
            2,
            8,
            31,
            57,
            3,
            21,
            10,
            40,
            47,
            52,
            258,
            115,
            3,
            17,
            52,
            1,
            1,
            93,
            2,
            1,
            10,
            51,
            26,
            24
           ]
          }
         ],
         "name": "2016"
        },
        {
         "data": [
          {
           "coloraxis": "coloraxis",
           "geo": "geo",
           "hoverlabel": {
            "namelength": 0
           },
           "hovertemplate": "<b>%{hovertext}</b><br><br>year=2017<br>ISO3=%{location}<br>Number of Cyclones=%{z}",
           "hovertext": [
            "Australia",
            "Barbados",
            "Bermuda",
            "Cabo Verde",
            "China",
            "Christmas Island",
            "Cocos (Keeling) Islands (the)",
            "Colombia",
            "Cook Islands (the)",
            "Cuba",
            "El Salvador",
            "French Guiana",
            "Guam",
            "Guatemala",
            "Guyana",
            "Honduras",
            "India",
            "Indonesia",
            "Japan",
            "Madagascar",
            "Marshall Islands (the)",
            "Mauritius",
            "Mexico",
            "Micronesia (Federated States of)",
            "Niue",
            "Northern Mariana Islands (the)",
            "Palau",
            "Philippines (the)",
            "Portugal",
            "Sri Lanka",
            "Tonga",
            "Turks and Caicos Islands (the)",
            "United States of America (the)",
            "Vanuatu"
           ],
           "ids": [
            "AUS",
            "BRB",
            "BMU",
            "CPV",
            "CHN",
            "CXR",
            "CCK",
            "COL",
            "COK",
            "CUB",
            "SLV",
            "GUF",
            "GUM",
            "GTM",
            "GUY",
            "HND",
            "IND",
            "IDN",
            "JPN",
            "MDG",
            "MHL",
            "MUS",
            "MEX",
            "FSM",
            "NIU",
            "MNP",
            "PLW",
            "PHL",
            "PRT",
            "LKA",
            "TON",
            "TCA",
            "USA",
            "VUT"
           ],
           "locations": [
            "AUS",
            "BRB",
            "BMU",
            "CPV",
            "CHN",
            "CXR",
            "CCK",
            "COL",
            "COK",
            "CUB",
            "SLV",
            "GUF",
            "GUM",
            "GTM",
            "GUY",
            "HND",
            "IND",
            "IDN",
            "JPN",
            "MDG",
            "MHL",
            "MUS",
            "MEX",
            "FSM",
            "NIU",
            "MNP",
            "PLW",
            "PHL",
            "PRT",
            "LKA",
            "TON",
            "TCA",
            "USA",
            "VUT"
           ],
           "name": "",
           "type": "choropleth",
           "z": [
            95,
            8,
            20,
            53,
            14,
            9,
            52,
            8,
            13,
            2,
            5,
            17,
            32,
            8,
            1,
            7,
            60,
            41,
            22,
            21,
            52,
            56,
            274,
            119,
            4,
            53,
            24,
            105,
            5,
            11,
            23,
            4,
            53,
            28
           ]
          }
         ],
         "name": "2017"
        },
        {
         "data": [
          {
           "coloraxis": "coloraxis",
           "geo": "geo",
           "hoverlabel": {
            "namelength": 0
           },
           "hovertemplate": "<b>%{hovertext}</b><br><br>year=2018<br>ISO3=%{location}<br>Number of Cyclones=%{z}",
           "hovertext": [
            "Antigua and Barbuda",
            "Australia",
            "Belize",
            "Cabo Verde",
            "Canada",
            "Chile",
            "Cocos (Keeling) Islands (the)",
            "Cuba",
            "El Salvador",
            "Fiji",
            "French Guiana",
            "Gambia (the)",
            "Guam",
            "India",
            "Japan",
            "Libya",
            "Madagascar",
            "Maldives",
            "Marshall Islands (the)",
            "Mauritius",
            "Mexico",
            "Micronesia (Federated States of)",
            "New Caledonia",
            "Nicaragua",
            "Northern Mariana Islands (the)",
            "Palau",
            "Papua New Guinea",
            "Philippines (the)",
            "Portugal",
            "Russian Federation (the)",
            "Solomon Islands",
            "Sri Lanka",
            "Taiwan (Province of China)",
            "United States of America (the)",
            "Vanuatu",
            "Viet Nam",
            "Wallis and Futuna",
            "Yemen"
           ],
           "ids": [
            "ATG",
            "AUS",
            "BLZ",
            "CPV",
            "CAN",
            "CHL",
            "CCK",
            "CUB",
            "SLV",
            "FJI",
            "GUF",
            "GMB",
            "GUM",
            "IND",
            "JPN",
            "LBY",
            "MDG",
            "MDV",
            "MHL",
            "MUS",
            "MEX",
            "FSM",
            "NCL",
            "NIC",
            "MNP",
            "PLW",
            "PNG",
            "PHL",
            "PRT",
            "RUS",
            "SLB",
            "LKA",
            "TWN",
            "USA",
            "VUT",
            "VNM",
            "WLF",
            "YEM"
           ],
           "locations": [
            "ATG",
            "AUS",
            "BLZ",
            "CPV",
            "CAN",
            "CHL",
            "CCK",
            "CUB",
            "SLV",
            "FJI",
            "GUF",
            "GMB",
            "GUM",
            "IND",
            "JPN",
            "LBY",
            "MDG",
            "MDV",
            "MHL",
            "MUS",
            "MEX",
            "FSM",
            "NCL",
            "NIC",
            "MNP",
            "PLW",
            "PNG",
            "PHL",
            "PRT",
            "RUS",
            "SLB",
            "LKA",
            "TWN",
            "USA",
            "VUT",
            "VNM",
            "WLF",
            "YEM"
           ],
           "name": "",
           "type": "choropleth",
           "z": [
            4,
            100,
            3,
            57,
            4,
            1,
            58,
            3,
            6,
            26,
            18,
            3,
            34,
            62,
            25,
            1,
            25,
            41,
            57,
            58,
            294,
            126,
            19,
            3,
            55,
            25,
            24,
            109,
            6,
            1,
            26,
            12,
            3,
            55,
            30,
            14,
            25,
            5
           ]
          }
         ],
         "name": "2018"
        },
        {
         "data": [
          {
           "coloraxis": "coloraxis",
           "geo": "geo",
           "hoverlabel": {
            "namelength": 0
           },
           "hovertemplate": "<b>%{hovertext}</b><br><br>year=2019<br>ISO3=%{location}<br>Number of Cyclones=%{z}",
           "hovertext": [
            "Antigua and Barbuda",
            "Australia",
            "Bahamas (the)",
            "Bermuda",
            "Cabo Verde",
            "China",
            "Cocos (Keeling) Islands (the)",
            "Fiji",
            "French Guiana",
            "India",
            "Indonesia",
            "Japan",
            "Madagascar",
            "Maldives",
            "Marshall Islands (the)",
            "Mauritius",
            "Mexico",
            "Micronesia (Federated States of)",
            "Mozambique",
            "New Caledonia",
            "Northern Mariana Islands (the)",
            "Papua New Guinea",
            "Philippines (the)",
            "Portugal",
            "Saint Pierre and Miquelon",
            "Seychelles",
            "Solomon Islands",
            "Timor-Leste",
            "Trinidad and Tobago",
            "United States of America (the)",
            "Vanuatu",
            "Viet Nam",
            "Wallis and Futuna",
            "Yemen"
           ],
           "ids": [
            "ATG",
            "AUS",
            "BHS",
            "BMU",
            "CPV",
            "CHN",
            "CCK",
            "FJI",
            "GUF",
            "IND",
            "IDN",
            "JPN",
            "MDG",
            "MDV",
            "MHL",
            "MUS",
            "MEX",
            "FSM",
            "MOZ",
            "NCL",
            "MNP",
            "PNG",
            "PHL",
            "PRT",
            "SPM",
            "SYC",
            "SLB",
            "TLS",
            "TTO",
            "USA",
            "VUT",
            "VNM",
            "WLF",
            "YEM"
           ],
           "locations": [
            "ATG",
            "AUS",
            "BHS",
            "BMU",
            "CPV",
            "CHN",
            "CCK",
            "FJI",
            "GUF",
            "IND",
            "IDN",
            "JPN",
            "MDG",
            "MDV",
            "MHL",
            "MUS",
            "MEX",
            "FSM",
            "MOZ",
            "NCL",
            "MNP",
            "PNG",
            "PHL",
            "PRT",
            "SPM",
            "SYC",
            "SLB",
            "TLS",
            "TTO",
            "USA",
            "VUT",
            "VNM",
            "WLF",
            "YEM"
           ],
           "name": "",
           "type": "choropleth",
           "z": [
            5,
            103,
            10,
            21,
            59,
            15,
            59,
            28,
            20,
            68,
            42,
            28,
            27,
            43,
            60,
            61,
            309,
            132,
            11,
            20,
            58,
            25,
            118,
            9,
            1,
            8,
            27,
            3,
            3,
            61,
            31,
            16,
            26,
            6
           ]
          }
         ],
         "name": "2019"
        },
        {
         "data": [
          {
           "coloraxis": "coloraxis",
           "geo": "geo",
           "hoverlabel": {
            "namelength": 0
           },
           "hovertemplate": "<b>%{hovertext}</b><br><br>year=2020<br>ISO3=%{location}<br>Number of Cyclones=%{z}",
           "hovertext": [
            "Australia",
            "Fiji",
            "Indonesia",
            "Madagascar",
            "Mauritius",
            "Samoa",
            "Vanuatu",
            "Wallis and Futuna"
           ],
           "ids": [
            "AUS",
            "FJI",
            "IDN",
            "MDG",
            "MUS",
            "WSM",
            "VUT",
            "WLF"
           ],
           "locations": [
            "AUS",
            "FJI",
            "IDN",
            "MDG",
            "MUS",
            "WSM",
            "VUT",
            "WLF"
           ],
           "name": "",
           "type": "choropleth",
           "z": [
            109,
            29,
            43,
            29,
            64,
            3,
            32,
            27
           ]
          }
         ],
         "name": "2020"
        }
       ],
       "layout": {
        "coloraxis": {
         "colorbar": {
          "title": {
           "text": "Number of Cyclones"
          }
         },
         "colorscale": [
          [
           0,
           "rgb(255, 255, 255)"
          ],
          [
           0.1,
           "rgb(215, 215, 216)"
          ],
          [
           0.2,
           "rgb(176, 185, 200)"
          ],
          [
           0.3,
           "rgb(144, 166, 201)"
          ],
          [
           0.4,
           "rgb(111, 146, 202)"
          ],
          [
           0.5,
           "rgb(78, 125, 199)"
          ],
          [
           0.6,
           "rgb(46, 98, 160)"
          ],
          [
           0.7,
           "rgb(27, 73, 117)"
          ],
          [
           0.8,
           "rgb(17, 48, 77)"
          ],
          [
           0.9,
           "rgb(11, 25, 39)"
          ],
          [
           1,
           "rgb(0, 1, 0)"
          ]
         ]
        },
        "geo": {
         "center": {},
         "domain": {
          "x": [
           0,
           0.98
          ],
          "y": [
           0,
           1
          ]
         },
         "projection": {
          "type": "robinson"
         }
        },
        "height": 600,
        "legend": {
         "tracegroupgap": 0
        },
        "margin": {
         "t": 60
        },
        "sliders": [
         {
          "active": 0,
          "currentvalue": {
           "prefix": "year="
          },
          "len": 0.9,
          "pad": {
           "b": 10,
           "t": 60
          },
          "steps": [
           {
            "args": [
             [
              "1999"
             ],
             {
              "frame": {
               "duration": 0,
               "redraw": true
              },
              "fromcurrent": true,
              "mode": "immediate",
              "transition": {
               "duration": 0,
               "easing": "linear"
              }
             }
            ],
            "label": "1999",
            "method": "animate"
           },
           {
            "args": [
             [
              "2000"
             ],
             {
              "frame": {
               "duration": 0,
               "redraw": true
              },
              "fromcurrent": true,
              "mode": "immediate",
              "transition": {
               "duration": 0,
               "easing": "linear"
              }
             }
            ],
            "label": "2000",
            "method": "animate"
           },
           {
            "args": [
             [
              "2001"
             ],
             {
              "frame": {
               "duration": 0,
               "redraw": true
              },
              "fromcurrent": true,
              "mode": "immediate",
              "transition": {
               "duration": 0,
               "easing": "linear"
              }
             }
            ],
            "label": "2001",
            "method": "animate"
           },
           {
            "args": [
             [
              "2002"
             ],
             {
              "frame": {
               "duration": 0,
               "redraw": true
              },
              "fromcurrent": true,
              "mode": "immediate",
              "transition": {
               "duration": 0,
               "easing": "linear"
              }
             }
            ],
            "label": "2002",
            "method": "animate"
           },
           {
            "args": [
             [
              "2003"
             ],
             {
              "frame": {
               "duration": 0,
               "redraw": true
              },
              "fromcurrent": true,
              "mode": "immediate",
              "transition": {
               "duration": 0,
               "easing": "linear"
              }
             }
            ],
            "label": "2003",
            "method": "animate"
           },
           {
            "args": [
             [
              "2004"
             ],
             {
              "frame": {
               "duration": 0,
               "redraw": true
              },
              "fromcurrent": true,
              "mode": "immediate",
              "transition": {
               "duration": 0,
               "easing": "linear"
              }
             }
            ],
            "label": "2004",
            "method": "animate"
           },
           {
            "args": [
             [
              "2005"
             ],
             {
              "frame": {
               "duration": 0,
               "redraw": true
              },
              "fromcurrent": true,
              "mode": "immediate",
              "transition": {
               "duration": 0,
               "easing": "linear"
              }
             }
            ],
            "label": "2005",
            "method": "animate"
           },
           {
            "args": [
             [
              "2006"
             ],
             {
              "frame": {
               "duration": 0,
               "redraw": true
              },
              "fromcurrent": true,
              "mode": "immediate",
              "transition": {
               "duration": 0,
               "easing": "linear"
              }
             }
            ],
            "label": "2006",
            "method": "animate"
           },
           {
            "args": [
             [
              "2007"
             ],
             {
              "frame": {
               "duration": 0,
               "redraw": true
              },
              "fromcurrent": true,
              "mode": "immediate",
              "transition": {
               "duration": 0,
               "easing": "linear"
              }
             }
            ],
            "label": "2007",
            "method": "animate"
           },
           {
            "args": [
             [
              "2008"
             ],
             {
              "frame": {
               "duration": 0,
               "redraw": true
              },
              "fromcurrent": true,
              "mode": "immediate",
              "transition": {
               "duration": 0,
               "easing": "linear"
              }
             }
            ],
            "label": "2008",
            "method": "animate"
           },
           {
            "args": [
             [
              "2009"
             ],
             {
              "frame": {
               "duration": 0,
               "redraw": true
              },
              "fromcurrent": true,
              "mode": "immediate",
              "transition": {
               "duration": 0,
               "easing": "linear"
              }
             }
            ],
            "label": "2009",
            "method": "animate"
           },
           {
            "args": [
             [
              "2010"
             ],
             {
              "frame": {
               "duration": 0,
               "redraw": true
              },
              "fromcurrent": true,
              "mode": "immediate",
              "transition": {
               "duration": 0,
               "easing": "linear"
              }
             }
            ],
            "label": "2010",
            "method": "animate"
           },
           {
            "args": [
             [
              "2011"
             ],
             {
              "frame": {
               "duration": 0,
               "redraw": true
              },
              "fromcurrent": true,
              "mode": "immediate",
              "transition": {
               "duration": 0,
               "easing": "linear"
              }
             }
            ],
            "label": "2011",
            "method": "animate"
           },
           {
            "args": [
             [
              "2012"
             ],
             {
              "frame": {
               "duration": 0,
               "redraw": true
              },
              "fromcurrent": true,
              "mode": "immediate",
              "transition": {
               "duration": 0,
               "easing": "linear"
              }
             }
            ],
            "label": "2012",
            "method": "animate"
           },
           {
            "args": [
             [
              "2013"
             ],
             {
              "frame": {
               "duration": 0,
               "redraw": true
              },
              "fromcurrent": true,
              "mode": "immediate",
              "transition": {
               "duration": 0,
               "easing": "linear"
              }
             }
            ],
            "label": "2013",
            "method": "animate"
           },
           {
            "args": [
             [
              "2014"
             ],
             {
              "frame": {
               "duration": 0,
               "redraw": true
              },
              "fromcurrent": true,
              "mode": "immediate",
              "transition": {
               "duration": 0,
               "easing": "linear"
              }
             }
            ],
            "label": "2014",
            "method": "animate"
           },
           {
            "args": [
             [
              "2015"
             ],
             {
              "frame": {
               "duration": 0,
               "redraw": true
              },
              "fromcurrent": true,
              "mode": "immediate",
              "transition": {
               "duration": 0,
               "easing": "linear"
              }
             }
            ],
            "label": "2015",
            "method": "animate"
           },
           {
            "args": [
             [
              "2016"
             ],
             {
              "frame": {
               "duration": 0,
               "redraw": true
              },
              "fromcurrent": true,
              "mode": "immediate",
              "transition": {
               "duration": 0,
               "easing": "linear"
              }
             }
            ],
            "label": "2016",
            "method": "animate"
           },
           {
            "args": [
             [
              "2017"
             ],
             {
              "frame": {
               "duration": 0,
               "redraw": true
              },
              "fromcurrent": true,
              "mode": "immediate",
              "transition": {
               "duration": 0,
               "easing": "linear"
              }
             }
            ],
            "label": "2017",
            "method": "animate"
           },
           {
            "args": [
             [
              "2018"
             ],
             {
              "frame": {
               "duration": 0,
               "redraw": true
              },
              "fromcurrent": true,
              "mode": "immediate",
              "transition": {
               "duration": 0,
               "easing": "linear"
              }
             }
            ],
            "label": "2018",
            "method": "animate"
           },
           {
            "args": [
             [
              "2019"
             ],
             {
              "frame": {
               "duration": 0,
               "redraw": true
              },
              "fromcurrent": true,
              "mode": "immediate",
              "transition": {
               "duration": 0,
               "easing": "linear"
              }
             }
            ],
            "label": "2019",
            "method": "animate"
           },
           {
            "args": [
             [
              "2020"
             ],
             {
              "frame": {
               "duration": 0,
               "redraw": true
              },
              "fromcurrent": true,
              "mode": "immediate",
              "transition": {
               "duration": 0,
               "easing": "linear"
              }
             }
            ],
            "label": "2020",
            "method": "animate"
           }
          ],
          "x": 0.1,
          "xanchor": "left",
          "y": 0,
          "yanchor": "top"
         }
        ],
        "template": {
         "data": {
          "bar": [
           {
            "error_x": {
             "color": "#2a3f5f"
            },
            "error_y": {
             "color": "#2a3f5f"
            },
            "marker": {
             "line": {
              "color": "#E5ECF6",
              "width": 0.5
             }
            },
            "type": "bar"
           }
          ],
          "barpolar": [
           {
            "marker": {
             "line": {
              "color": "#E5ECF6",
              "width": 0.5
             }
            },
            "type": "barpolar"
           }
          ],
          "carpet": [
           {
            "aaxis": {
             "endlinecolor": "#2a3f5f",
             "gridcolor": "white",
             "linecolor": "white",
             "minorgridcolor": "white",
             "startlinecolor": "#2a3f5f"
            },
            "baxis": {
             "endlinecolor": "#2a3f5f",
             "gridcolor": "white",
             "linecolor": "white",
             "minorgridcolor": "white",
             "startlinecolor": "#2a3f5f"
            },
            "type": "carpet"
           }
          ],
          "choropleth": [
           {
            "colorbar": {
             "outlinewidth": 0,
             "ticks": ""
            },
            "type": "choropleth"
           }
          ],
          "contour": [
           {
            "colorbar": {
             "outlinewidth": 0,
             "ticks": ""
            },
            "colorscale": [
             [
              0,
              "#0d0887"
             ],
             [
              0.1111111111111111,
              "#46039f"
             ],
             [
              0.2222222222222222,
              "#7201a8"
             ],
             [
              0.3333333333333333,
              "#9c179e"
             ],
             [
              0.4444444444444444,
              "#bd3786"
             ],
             [
              0.5555555555555556,
              "#d8576b"
             ],
             [
              0.6666666666666666,
              "#ed7953"
             ],
             [
              0.7777777777777778,
              "#fb9f3a"
             ],
             [
              0.8888888888888888,
              "#fdca26"
             ],
             [
              1,
              "#f0f921"
             ]
            ],
            "type": "contour"
           }
          ],
          "contourcarpet": [
           {
            "colorbar": {
             "outlinewidth": 0,
             "ticks": ""
            },
            "type": "contourcarpet"
           }
          ],
          "heatmap": [
           {
            "colorbar": {
             "outlinewidth": 0,
             "ticks": ""
            },
            "colorscale": [
             [
              0,
              "#0d0887"
             ],
             [
              0.1111111111111111,
              "#46039f"
             ],
             [
              0.2222222222222222,
              "#7201a8"
             ],
             [
              0.3333333333333333,
              "#9c179e"
             ],
             [
              0.4444444444444444,
              "#bd3786"
             ],
             [
              0.5555555555555556,
              "#d8576b"
             ],
             [
              0.6666666666666666,
              "#ed7953"
             ],
             [
              0.7777777777777778,
              "#fb9f3a"
             ],
             [
              0.8888888888888888,
              "#fdca26"
             ],
             [
              1,
              "#f0f921"
             ]
            ],
            "type": "heatmap"
           }
          ],
          "heatmapgl": [
           {
            "colorbar": {
             "outlinewidth": 0,
             "ticks": ""
            },
            "colorscale": [
             [
              0,
              "#0d0887"
             ],
             [
              0.1111111111111111,
              "#46039f"
             ],
             [
              0.2222222222222222,
              "#7201a8"
             ],
             [
              0.3333333333333333,
              "#9c179e"
             ],
             [
              0.4444444444444444,
              "#bd3786"
             ],
             [
              0.5555555555555556,
              "#d8576b"
             ],
             [
              0.6666666666666666,
              "#ed7953"
             ],
             [
              0.7777777777777778,
              "#fb9f3a"
             ],
             [
              0.8888888888888888,
              "#fdca26"
             ],
             [
              1,
              "#f0f921"
             ]
            ],
            "type": "heatmapgl"
           }
          ],
          "histogram": [
           {
            "marker": {
             "colorbar": {
              "outlinewidth": 0,
              "ticks": ""
             }
            },
            "type": "histogram"
           }
          ],
          "histogram2d": [
           {
            "colorbar": {
             "outlinewidth": 0,
             "ticks": ""
            },
            "colorscale": [
             [
              0,
              "#0d0887"
             ],
             [
              0.1111111111111111,
              "#46039f"
             ],
             [
              0.2222222222222222,
              "#7201a8"
             ],
             [
              0.3333333333333333,
              "#9c179e"
             ],
             [
              0.4444444444444444,
              "#bd3786"
             ],
             [
              0.5555555555555556,
              "#d8576b"
             ],
             [
              0.6666666666666666,
              "#ed7953"
             ],
             [
              0.7777777777777778,
              "#fb9f3a"
             ],
             [
              0.8888888888888888,
              "#fdca26"
             ],
             [
              1,
              "#f0f921"
             ]
            ],
            "type": "histogram2d"
           }
          ],
          "histogram2dcontour": [
           {
            "colorbar": {
             "outlinewidth": 0,
             "ticks": ""
            },
            "colorscale": [
             [
              0,
              "#0d0887"
             ],
             [
              0.1111111111111111,
              "#46039f"
             ],
             [
              0.2222222222222222,
              "#7201a8"
             ],
             [
              0.3333333333333333,
              "#9c179e"
             ],
             [
              0.4444444444444444,
              "#bd3786"
             ],
             [
              0.5555555555555556,
              "#d8576b"
             ],
             [
              0.6666666666666666,
              "#ed7953"
             ],
             [
              0.7777777777777778,
              "#fb9f3a"
             ],
             [
              0.8888888888888888,
              "#fdca26"
             ],
             [
              1,
              "#f0f921"
             ]
            ],
            "type": "histogram2dcontour"
           }
          ],
          "mesh3d": [
           {
            "colorbar": {
             "outlinewidth": 0,
             "ticks": ""
            },
            "type": "mesh3d"
           }
          ],
          "parcoords": [
           {
            "line": {
             "colorbar": {
              "outlinewidth": 0,
              "ticks": ""
             }
            },
            "type": "parcoords"
           }
          ],
          "scatter": [
           {
            "marker": {
             "colorbar": {
              "outlinewidth": 0,
              "ticks": ""
             }
            },
            "type": "scatter"
           }
          ],
          "scatter3d": [
           {
            "line": {
             "colorbar": {
              "outlinewidth": 0,
              "ticks": ""
             }
            },
            "marker": {
             "colorbar": {
              "outlinewidth": 0,
              "ticks": ""
             }
            },
            "type": "scatter3d"
           }
          ],
          "scattercarpet": [
           {
            "marker": {
             "colorbar": {
              "outlinewidth": 0,
              "ticks": ""
             }
            },
            "type": "scattercarpet"
           }
          ],
          "scattergeo": [
           {
            "marker": {
             "colorbar": {
              "outlinewidth": 0,
              "ticks": ""
             }
            },
            "type": "scattergeo"
           }
          ],
          "scattergl": [
           {
            "marker": {
             "colorbar": {
              "outlinewidth": 0,
              "ticks": ""
             }
            },
            "type": "scattergl"
           }
          ],
          "scattermapbox": [
           {
            "marker": {
             "colorbar": {
              "outlinewidth": 0,
              "ticks": ""
             }
            },
            "type": "scattermapbox"
           }
          ],
          "scatterpolar": [
           {
            "marker": {
             "colorbar": {
              "outlinewidth": 0,
              "ticks": ""
             }
            },
            "type": "scatterpolar"
           }
          ],
          "scatterpolargl": [
           {
            "marker": {
             "colorbar": {
              "outlinewidth": 0,
              "ticks": ""
             }
            },
            "type": "scatterpolargl"
           }
          ],
          "scatterternary": [
           {
            "marker": {
             "colorbar": {
              "outlinewidth": 0,
              "ticks": ""
             }
            },
            "type": "scatterternary"
           }
          ],
          "surface": [
           {
            "colorbar": {
             "outlinewidth": 0,
             "ticks": ""
            },
            "colorscale": [
             [
              0,
              "#0d0887"
             ],
             [
              0.1111111111111111,
              "#46039f"
             ],
             [
              0.2222222222222222,
              "#7201a8"
             ],
             [
              0.3333333333333333,
              "#9c179e"
             ],
             [
              0.4444444444444444,
              "#bd3786"
             ],
             [
              0.5555555555555556,
              "#d8576b"
             ],
             [
              0.6666666666666666,
              "#ed7953"
             ],
             [
              0.7777777777777778,
              "#fb9f3a"
             ],
             [
              0.8888888888888888,
              "#fdca26"
             ],
             [
              1,
              "#f0f921"
             ]
            ],
            "type": "surface"
           }
          ],
          "table": [
           {
            "cells": {
             "fill": {
              "color": "#EBF0F8"
             },
             "line": {
              "color": "white"
             }
            },
            "header": {
             "fill": {
              "color": "#C8D4E3"
             },
             "line": {
              "color": "white"
             }
            },
            "type": "table"
           }
          ]
         },
         "layout": {
          "annotationdefaults": {
           "arrowcolor": "#2a3f5f",
           "arrowhead": 0,
           "arrowwidth": 1
          },
          "colorscale": {
           "diverging": [
            [
             0,
             "#8e0152"
            ],
            [
             0.1,
             "#c51b7d"
            ],
            [
             0.2,
             "#de77ae"
            ],
            [
             0.3,
             "#f1b6da"
            ],
            [
             0.4,
             "#fde0ef"
            ],
            [
             0.5,
             "#f7f7f7"
            ],
            [
             0.6,
             "#e6f5d0"
            ],
            [
             0.7,
             "#b8e186"
            ],
            [
             0.8,
             "#7fbc41"
            ],
            [
             0.9,
             "#4d9221"
            ],
            [
             1,
             "#276419"
            ]
           ],
           "sequential": [
            [
             0,
             "#0d0887"
            ],
            [
             0.1111111111111111,
             "#46039f"
            ],
            [
             0.2222222222222222,
             "#7201a8"
            ],
            [
             0.3333333333333333,
             "#9c179e"
            ],
            [
             0.4444444444444444,
             "#bd3786"
            ],
            [
             0.5555555555555556,
             "#d8576b"
            ],
            [
             0.6666666666666666,
             "#ed7953"
            ],
            [
             0.7777777777777778,
             "#fb9f3a"
            ],
            [
             0.8888888888888888,
             "#fdca26"
            ],
            [
             1,
             "#f0f921"
            ]
           ],
           "sequentialminus": [
            [
             0,
             "#0d0887"
            ],
            [
             0.1111111111111111,
             "#46039f"
            ],
            [
             0.2222222222222222,
             "#7201a8"
            ],
            [
             0.3333333333333333,
             "#9c179e"
            ],
            [
             0.4444444444444444,
             "#bd3786"
            ],
            [
             0.5555555555555556,
             "#d8576b"
            ],
            [
             0.6666666666666666,
             "#ed7953"
            ],
            [
             0.7777777777777778,
             "#fb9f3a"
            ],
            [
             0.8888888888888888,
             "#fdca26"
            ],
            [
             1,
             "#f0f921"
            ]
           ]
          },
          "colorway": [
           "#636efa",
           "#EF553B",
           "#00cc96",
           "#ab63fa",
           "#FFA15A",
           "#19d3f3",
           "#FF6692",
           "#B6E880",
           "#FF97FF",
           "#FECB52"
          ],
          "font": {
           "color": "#2a3f5f"
          },
          "geo": {
           "bgcolor": "white",
           "lakecolor": "white",
           "landcolor": "#E5ECF6",
           "showlakes": true,
           "showland": true,
           "subunitcolor": "white"
          },
          "hoverlabel": {
           "align": "left"
          },
          "hovermode": "closest",
          "mapbox": {
           "style": "light"
          },
          "paper_bgcolor": "white",
          "plot_bgcolor": "#E5ECF6",
          "polar": {
           "angularaxis": {
            "gridcolor": "white",
            "linecolor": "white",
            "ticks": ""
           },
           "bgcolor": "#E5ECF6",
           "radialaxis": {
            "gridcolor": "white",
            "linecolor": "white",
            "ticks": ""
           }
          },
          "scene": {
           "xaxis": {
            "backgroundcolor": "#E5ECF6",
            "gridcolor": "white",
            "gridwidth": 2,
            "linecolor": "white",
            "showbackground": true,
            "ticks": "",
            "zerolinecolor": "white"
           },
           "yaxis": {
            "backgroundcolor": "#E5ECF6",
            "gridcolor": "white",
            "gridwidth": 2,
            "linecolor": "white",
            "showbackground": true,
            "ticks": "",
            "zerolinecolor": "white"
           },
           "zaxis": {
            "backgroundcolor": "#E5ECF6",
            "gridcolor": "white",
            "gridwidth": 2,
            "linecolor": "white",
            "showbackground": true,
            "ticks": "",
            "zerolinecolor": "white"
           }
          },
          "shapedefaults": {
           "line": {
            "color": "#2a3f5f"
           }
          },
          "ternary": {
           "aaxis": {
            "gridcolor": "white",
            "linecolor": "white",
            "ticks": ""
           },
           "baxis": {
            "gridcolor": "white",
            "linecolor": "white",
            "ticks": ""
           },
           "bgcolor": "#E5ECF6",
           "caxis": {
            "gridcolor": "white",
            "linecolor": "white",
            "ticks": ""
           }
          },
          "title": {
           "x": 0.05
          },
          "xaxis": {
           "automargin": true,
           "gridcolor": "white",
           "linecolor": "white",
           "ticks": "",
           "zerolinecolor": "white",
           "zerolinewidth": 2
          },
          "yaxis": {
           "automargin": true,
           "gridcolor": "white",
           "linecolor": "white",
           "ticks": "",
           "zerolinecolor": "white",
           "zerolinewidth": 2
          }
         }
        },
        "title": {
         "text": "Number of cyclones per Country and year (cummulative)"
        },
        "updatemenus": [
         {
          "buttons": [
           {
            "args": [
             null,
             {
              "frame": {
               "duration": 500,
               "redraw": true
              },
              "fromcurrent": true,
              "mode": "immediate",
              "transition": {
               "duration": 500,
               "easing": "linear"
              }
             }
            ],
            "label": "&#9654;",
            "method": "animate"
           },
           {
            "args": [
             [
              null
             ],
             {
              "frame": {
               "duration": 0,
               "redraw": true
              },
              "fromcurrent": true,
              "mode": "immediate",
              "transition": {
               "duration": 0,
               "easing": "linear"
              }
             }
            ],
            "label": "&#9724;",
            "method": "animate"
           }
          ],
          "direction": "left",
          "pad": {
           "r": 10,
           "t": 70
          },
          "showactive": false,
          "type": "buttons",
          "x": 0.1,
          "xanchor": "right",
          "y": 0,
          "yanchor": "top"
         }
        ]
       }
      },
      "text/html": [
       "<div>\n",
       "        \n",
       "        \n",
       "            <div id=\"f193aa8f-8f87-49d6-8655-ac25cf63a539\" class=\"plotly-graph-div\" style=\"height:600px; width:100%;\"></div>\n",
       "            <script type=\"text/javascript\">\n",
       "                require([\"plotly\"], function(Plotly) {\n",
       "                    window.PLOTLYENV=window.PLOTLYENV || {};\n",
       "                    \n",
       "                if (document.getElementById(\"f193aa8f-8f87-49d6-8655-ac25cf63a539\")) {\n",
       "                    Plotly.newPlot(\n",
       "                        'f193aa8f-8f87-49d6-8655-ac25cf63a539',\n",
       "                        [{\"coloraxis\": \"coloraxis\", \"geo\": \"geo\", \"hoverlabel\": {\"namelength\": 0}, \"hovertemplate\": \"<b>%{hovertext}</b><br><br>year=1999<br>ISO3=%{location}<br>Number of Cyclones=%{z}\", \"hovertext\": [\"Cocos (Keeling) Islands (the)\", \"Indonesia\", \"Madagascar\"], \"ids\": [\"CCK\", \"IDN\", \"MDG\"], \"locations\": [\"CCK\", \"IDN\", \"MDG\"], \"name\": \"\", \"type\": \"choropleth\", \"z\": [1, 1, 1]}],\n",
       "                        {\"coloraxis\": {\"colorbar\": {\"title\": {\"text\": \"Number of Cyclones\"}}, \"colorscale\": [[0.0, \"rgb(255, 255, 255)\"], [0.1, \"rgb(215, 215, 216)\"], [0.2, \"rgb(176, 185, 200)\"], [0.3, \"rgb(144, 166, 201)\"], [0.4, \"rgb(111, 146, 202)\"], [0.5, \"rgb(78, 125, 199)\"], [0.6, \"rgb(46, 98, 160)\"], [0.7, \"rgb(27, 73, 117)\"], [0.8, \"rgb(17, 48, 77)\"], [0.9, \"rgb(11, 25, 39)\"], [1.0, \"rgb(0, 1, 0)\"]]}, \"geo\": {\"center\": {}, \"domain\": {\"x\": [0.0, 0.98], \"y\": [0.0, 1.0]}, \"projection\": {\"type\": \"robinson\"}}, \"height\": 600, \"legend\": {\"tracegroupgap\": 0}, \"margin\": {\"t\": 60}, \"sliders\": [{\"active\": 0, \"currentvalue\": {\"prefix\": \"year=\"}, \"len\": 0.9, \"pad\": {\"b\": 10, \"t\": 60}, \"steps\": [{\"args\": [[\"1999\"], {\"frame\": {\"duration\": 0, \"redraw\": true}, \"fromcurrent\": true, \"mode\": \"immediate\", \"transition\": {\"duration\": 0, \"easing\": \"linear\"}}], \"label\": \"1999\", \"method\": \"animate\"}, {\"args\": [[\"2000\"], {\"frame\": {\"duration\": 0, \"redraw\": true}, \"fromcurrent\": true, \"mode\": \"immediate\", \"transition\": {\"duration\": 0, \"easing\": \"linear\"}}], \"label\": \"2000\", \"method\": \"animate\"}, {\"args\": [[\"2001\"], {\"frame\": {\"duration\": 0, \"redraw\": true}, \"fromcurrent\": true, \"mode\": \"immediate\", \"transition\": {\"duration\": 0, \"easing\": \"linear\"}}], \"label\": \"2001\", \"method\": \"animate\"}, {\"args\": [[\"2002\"], {\"frame\": {\"duration\": 0, \"redraw\": true}, \"fromcurrent\": true, \"mode\": \"immediate\", \"transition\": {\"duration\": 0, \"easing\": \"linear\"}}], \"label\": \"2002\", \"method\": \"animate\"}, {\"args\": [[\"2003\"], {\"frame\": {\"duration\": 0, \"redraw\": true}, \"fromcurrent\": true, \"mode\": \"immediate\", \"transition\": {\"duration\": 0, \"easing\": \"linear\"}}], \"label\": \"2003\", \"method\": \"animate\"}, {\"args\": [[\"2004\"], {\"frame\": {\"duration\": 0, \"redraw\": true}, \"fromcurrent\": true, \"mode\": \"immediate\", \"transition\": {\"duration\": 0, \"easing\": \"linear\"}}], \"label\": \"2004\", \"method\": \"animate\"}, {\"args\": [[\"2005\"], {\"frame\": {\"duration\": 0, \"redraw\": true}, \"fromcurrent\": true, \"mode\": \"immediate\", \"transition\": {\"duration\": 0, \"easing\": \"linear\"}}], \"label\": \"2005\", \"method\": \"animate\"}, {\"args\": [[\"2006\"], {\"frame\": {\"duration\": 0, \"redraw\": true}, \"fromcurrent\": true, \"mode\": \"immediate\", \"transition\": {\"duration\": 0, \"easing\": \"linear\"}}], \"label\": \"2006\", \"method\": \"animate\"}, {\"args\": [[\"2007\"], {\"frame\": {\"duration\": 0, \"redraw\": true}, \"fromcurrent\": true, \"mode\": \"immediate\", \"transition\": {\"duration\": 0, \"easing\": \"linear\"}}], \"label\": \"2007\", \"method\": \"animate\"}, {\"args\": [[\"2008\"], {\"frame\": {\"duration\": 0, \"redraw\": true}, \"fromcurrent\": true, \"mode\": \"immediate\", \"transition\": {\"duration\": 0, \"easing\": \"linear\"}}], \"label\": \"2008\", \"method\": \"animate\"}, {\"args\": [[\"2009\"], {\"frame\": {\"duration\": 0, \"redraw\": true}, \"fromcurrent\": true, \"mode\": \"immediate\", \"transition\": {\"duration\": 0, \"easing\": \"linear\"}}], \"label\": \"2009\", \"method\": \"animate\"}, {\"args\": [[\"2010\"], {\"frame\": {\"duration\": 0, \"redraw\": true}, \"fromcurrent\": true, \"mode\": \"immediate\", \"transition\": {\"duration\": 0, \"easing\": \"linear\"}}], \"label\": \"2010\", \"method\": \"animate\"}, {\"args\": [[\"2011\"], {\"frame\": {\"duration\": 0, \"redraw\": true}, \"fromcurrent\": true, \"mode\": \"immediate\", \"transition\": {\"duration\": 0, \"easing\": \"linear\"}}], \"label\": \"2011\", \"method\": \"animate\"}, {\"args\": [[\"2012\"], {\"frame\": {\"duration\": 0, \"redraw\": true}, \"fromcurrent\": true, \"mode\": \"immediate\", \"transition\": {\"duration\": 0, \"easing\": \"linear\"}}], \"label\": \"2012\", \"method\": \"animate\"}, {\"args\": [[\"2013\"], {\"frame\": {\"duration\": 0, \"redraw\": true}, \"fromcurrent\": true, \"mode\": \"immediate\", \"transition\": {\"duration\": 0, \"easing\": \"linear\"}}], \"label\": \"2013\", \"method\": \"animate\"}, {\"args\": [[\"2014\"], {\"frame\": {\"duration\": 0, \"redraw\": true}, \"fromcurrent\": true, \"mode\": \"immediate\", \"transition\": {\"duration\": 0, \"easing\": \"linear\"}}], \"label\": \"2014\", \"method\": \"animate\"}, {\"args\": [[\"2015\"], {\"frame\": {\"duration\": 0, \"redraw\": true}, \"fromcurrent\": true, \"mode\": \"immediate\", \"transition\": {\"duration\": 0, \"easing\": \"linear\"}}], \"label\": \"2015\", \"method\": \"animate\"}, {\"args\": [[\"2016\"], {\"frame\": {\"duration\": 0, \"redraw\": true}, \"fromcurrent\": true, \"mode\": \"immediate\", \"transition\": {\"duration\": 0, \"easing\": \"linear\"}}], \"label\": \"2016\", \"method\": \"animate\"}, {\"args\": [[\"2017\"], {\"frame\": {\"duration\": 0, \"redraw\": true}, \"fromcurrent\": true, \"mode\": \"immediate\", \"transition\": {\"duration\": 0, \"easing\": \"linear\"}}], \"label\": \"2017\", \"method\": \"animate\"}, {\"args\": [[\"2018\"], {\"frame\": {\"duration\": 0, \"redraw\": true}, \"fromcurrent\": true, \"mode\": \"immediate\", \"transition\": {\"duration\": 0, \"easing\": \"linear\"}}], \"label\": \"2018\", \"method\": \"animate\"}, {\"args\": [[\"2019\"], {\"frame\": {\"duration\": 0, \"redraw\": true}, \"fromcurrent\": true, \"mode\": \"immediate\", \"transition\": {\"duration\": 0, \"easing\": \"linear\"}}], \"label\": \"2019\", \"method\": \"animate\"}, {\"args\": [[\"2020\"], {\"frame\": {\"duration\": 0, \"redraw\": true}, \"fromcurrent\": true, \"mode\": \"immediate\", \"transition\": {\"duration\": 0, \"easing\": \"linear\"}}], \"label\": \"2020\", \"method\": \"animate\"}], \"x\": 0.1, \"xanchor\": \"left\", \"y\": 0, \"yanchor\": \"top\"}], \"template\": {\"data\": {\"bar\": [{\"error_x\": {\"color\": \"#2a3f5f\"}, \"error_y\": {\"color\": \"#2a3f5f\"}, \"marker\": {\"line\": {\"color\": \"#E5ECF6\", \"width\": 0.5}}, \"type\": \"bar\"}], \"barpolar\": [{\"marker\": {\"line\": {\"color\": \"#E5ECF6\", \"width\": 0.5}}, \"type\": \"barpolar\"}], \"carpet\": [{\"aaxis\": {\"endlinecolor\": \"#2a3f5f\", \"gridcolor\": \"white\", \"linecolor\": \"white\", \"minorgridcolor\": \"white\", \"startlinecolor\": \"#2a3f5f\"}, \"baxis\": {\"endlinecolor\": \"#2a3f5f\", \"gridcolor\": \"white\", \"linecolor\": \"white\", \"minorgridcolor\": \"white\", \"startlinecolor\": \"#2a3f5f\"}, \"type\": \"carpet\"}], \"choropleth\": [{\"colorbar\": {\"outlinewidth\": 0, \"ticks\": \"\"}, \"type\": \"choropleth\"}], \"contour\": [{\"colorbar\": {\"outlinewidth\": 0, \"ticks\": \"\"}, \"colorscale\": [[0.0, \"#0d0887\"], [0.1111111111111111, \"#46039f\"], [0.2222222222222222, \"#7201a8\"], [0.3333333333333333, \"#9c179e\"], [0.4444444444444444, \"#bd3786\"], [0.5555555555555556, \"#d8576b\"], [0.6666666666666666, \"#ed7953\"], [0.7777777777777778, \"#fb9f3a\"], [0.8888888888888888, \"#fdca26\"], [1.0, \"#f0f921\"]], \"type\": \"contour\"}], \"contourcarpet\": [{\"colorbar\": {\"outlinewidth\": 0, \"ticks\": \"\"}, \"type\": \"contourcarpet\"}], \"heatmap\": [{\"colorbar\": {\"outlinewidth\": 0, \"ticks\": \"\"}, \"colorscale\": [[0.0, \"#0d0887\"], [0.1111111111111111, \"#46039f\"], [0.2222222222222222, \"#7201a8\"], [0.3333333333333333, \"#9c179e\"], [0.4444444444444444, \"#bd3786\"], [0.5555555555555556, \"#d8576b\"], [0.6666666666666666, \"#ed7953\"], [0.7777777777777778, \"#fb9f3a\"], [0.8888888888888888, \"#fdca26\"], [1.0, \"#f0f921\"]], \"type\": \"heatmap\"}], \"heatmapgl\": [{\"colorbar\": {\"outlinewidth\": 0, \"ticks\": \"\"}, \"colorscale\": [[0.0, \"#0d0887\"], [0.1111111111111111, \"#46039f\"], [0.2222222222222222, \"#7201a8\"], [0.3333333333333333, \"#9c179e\"], [0.4444444444444444, \"#bd3786\"], [0.5555555555555556, \"#d8576b\"], [0.6666666666666666, \"#ed7953\"], [0.7777777777777778, \"#fb9f3a\"], [0.8888888888888888, \"#fdca26\"], [1.0, \"#f0f921\"]], \"type\": \"heatmapgl\"}], \"histogram\": [{\"marker\": {\"colorbar\": {\"outlinewidth\": 0, \"ticks\": \"\"}}, \"type\": \"histogram\"}], \"histogram2d\": [{\"colorbar\": {\"outlinewidth\": 0, \"ticks\": \"\"}, \"colorscale\": [[0.0, \"#0d0887\"], [0.1111111111111111, \"#46039f\"], [0.2222222222222222, \"#7201a8\"], [0.3333333333333333, \"#9c179e\"], [0.4444444444444444, \"#bd3786\"], [0.5555555555555556, \"#d8576b\"], [0.6666666666666666, \"#ed7953\"], [0.7777777777777778, \"#fb9f3a\"], [0.8888888888888888, \"#fdca26\"], [1.0, \"#f0f921\"]], \"type\": \"histogram2d\"}], \"histogram2dcontour\": [{\"colorbar\": {\"outlinewidth\": 0, \"ticks\": \"\"}, \"colorscale\": [[0.0, \"#0d0887\"], [0.1111111111111111, \"#46039f\"], [0.2222222222222222, \"#7201a8\"], [0.3333333333333333, \"#9c179e\"], [0.4444444444444444, \"#bd3786\"], [0.5555555555555556, \"#d8576b\"], [0.6666666666666666, \"#ed7953\"], [0.7777777777777778, \"#fb9f3a\"], [0.8888888888888888, \"#fdca26\"], [1.0, \"#f0f921\"]], \"type\": \"histogram2dcontour\"}], \"mesh3d\": [{\"colorbar\": {\"outlinewidth\": 0, \"ticks\": \"\"}, \"type\": \"mesh3d\"}], \"parcoords\": [{\"line\": {\"colorbar\": {\"outlinewidth\": 0, \"ticks\": \"\"}}, \"type\": \"parcoords\"}], \"scatter\": [{\"marker\": {\"colorbar\": {\"outlinewidth\": 0, \"ticks\": \"\"}}, \"type\": \"scatter\"}], \"scatter3d\": [{\"line\": {\"colorbar\": {\"outlinewidth\": 0, \"ticks\": \"\"}}, \"marker\": {\"colorbar\": {\"outlinewidth\": 0, \"ticks\": \"\"}}, \"type\": \"scatter3d\"}], \"scattercarpet\": [{\"marker\": {\"colorbar\": {\"outlinewidth\": 0, \"ticks\": \"\"}}, \"type\": \"scattercarpet\"}], \"scattergeo\": [{\"marker\": {\"colorbar\": {\"outlinewidth\": 0, \"ticks\": \"\"}}, \"type\": \"scattergeo\"}], \"scattergl\": [{\"marker\": {\"colorbar\": {\"outlinewidth\": 0, \"ticks\": \"\"}}, \"type\": \"scattergl\"}], \"scattermapbox\": [{\"marker\": {\"colorbar\": {\"outlinewidth\": 0, \"ticks\": \"\"}}, \"type\": \"scattermapbox\"}], \"scatterpolar\": [{\"marker\": {\"colorbar\": {\"outlinewidth\": 0, \"ticks\": \"\"}}, \"type\": \"scatterpolar\"}], \"scatterpolargl\": [{\"marker\": {\"colorbar\": {\"outlinewidth\": 0, \"ticks\": \"\"}}, \"type\": \"scatterpolargl\"}], \"scatterternary\": [{\"marker\": {\"colorbar\": {\"outlinewidth\": 0, \"ticks\": \"\"}}, \"type\": \"scatterternary\"}], \"surface\": [{\"colorbar\": {\"outlinewidth\": 0, \"ticks\": \"\"}, \"colorscale\": [[0.0, \"#0d0887\"], [0.1111111111111111, \"#46039f\"], [0.2222222222222222, \"#7201a8\"], [0.3333333333333333, \"#9c179e\"], [0.4444444444444444, \"#bd3786\"], [0.5555555555555556, \"#d8576b\"], [0.6666666666666666, \"#ed7953\"], [0.7777777777777778, \"#fb9f3a\"], [0.8888888888888888, \"#fdca26\"], [1.0, \"#f0f921\"]], \"type\": \"surface\"}], \"table\": [{\"cells\": {\"fill\": {\"color\": \"#EBF0F8\"}, \"line\": {\"color\": \"white\"}}, \"header\": {\"fill\": {\"color\": \"#C8D4E3\"}, \"line\": {\"color\": \"white\"}}, \"type\": \"table\"}]}, \"layout\": {\"annotationdefaults\": {\"arrowcolor\": \"#2a3f5f\", \"arrowhead\": 0, \"arrowwidth\": 1}, \"colorscale\": {\"diverging\": [[0, \"#8e0152\"], [0.1, \"#c51b7d\"], [0.2, \"#de77ae\"], [0.3, \"#f1b6da\"], [0.4, \"#fde0ef\"], [0.5, \"#f7f7f7\"], [0.6, \"#e6f5d0\"], [0.7, \"#b8e186\"], [0.8, \"#7fbc41\"], [0.9, \"#4d9221\"], [1, \"#276419\"]], \"sequential\": [[0.0, \"#0d0887\"], [0.1111111111111111, \"#46039f\"], [0.2222222222222222, \"#7201a8\"], [0.3333333333333333, \"#9c179e\"], [0.4444444444444444, \"#bd3786\"], [0.5555555555555556, \"#d8576b\"], [0.6666666666666666, \"#ed7953\"], [0.7777777777777778, \"#fb9f3a\"], [0.8888888888888888, \"#fdca26\"], [1.0, \"#f0f921\"]], \"sequentialminus\": [[0.0, \"#0d0887\"], [0.1111111111111111, \"#46039f\"], [0.2222222222222222, \"#7201a8\"], [0.3333333333333333, \"#9c179e\"], [0.4444444444444444, \"#bd3786\"], [0.5555555555555556, \"#d8576b\"], [0.6666666666666666, \"#ed7953\"], [0.7777777777777778, \"#fb9f3a\"], [0.8888888888888888, \"#fdca26\"], [1.0, \"#f0f921\"]]}, \"colorway\": [\"#636efa\", \"#EF553B\", \"#00cc96\", \"#ab63fa\", \"#FFA15A\", \"#19d3f3\", \"#FF6692\", \"#B6E880\", \"#FF97FF\", \"#FECB52\"], \"font\": {\"color\": \"#2a3f5f\"}, \"geo\": {\"bgcolor\": \"white\", \"lakecolor\": \"white\", \"landcolor\": \"#E5ECF6\", \"showlakes\": true, \"showland\": true, \"subunitcolor\": \"white\"}, \"hoverlabel\": {\"align\": \"left\"}, \"hovermode\": \"closest\", \"mapbox\": {\"style\": \"light\"}, \"paper_bgcolor\": \"white\", \"plot_bgcolor\": \"#E5ECF6\", \"polar\": {\"angularaxis\": {\"gridcolor\": \"white\", \"linecolor\": \"white\", \"ticks\": \"\"}, \"bgcolor\": \"#E5ECF6\", \"radialaxis\": {\"gridcolor\": \"white\", \"linecolor\": \"white\", \"ticks\": \"\"}}, \"scene\": {\"xaxis\": {\"backgroundcolor\": \"#E5ECF6\", \"gridcolor\": \"white\", \"gridwidth\": 2, \"linecolor\": \"white\", \"showbackground\": true, \"ticks\": \"\", \"zerolinecolor\": \"white\"}, \"yaxis\": {\"backgroundcolor\": \"#E5ECF6\", \"gridcolor\": \"white\", \"gridwidth\": 2, \"linecolor\": \"white\", \"showbackground\": true, \"ticks\": \"\", \"zerolinecolor\": \"white\"}, \"zaxis\": {\"backgroundcolor\": \"#E5ECF6\", \"gridcolor\": \"white\", \"gridwidth\": 2, \"linecolor\": \"white\", \"showbackground\": true, \"ticks\": \"\", \"zerolinecolor\": \"white\"}}, \"shapedefaults\": {\"line\": {\"color\": \"#2a3f5f\"}}, \"ternary\": {\"aaxis\": {\"gridcolor\": \"white\", \"linecolor\": \"white\", \"ticks\": \"\"}, \"baxis\": {\"gridcolor\": \"white\", \"linecolor\": \"white\", \"ticks\": \"\"}, \"bgcolor\": \"#E5ECF6\", \"caxis\": {\"gridcolor\": \"white\", \"linecolor\": \"white\", \"ticks\": \"\"}}, \"title\": {\"x\": 0.05}, \"xaxis\": {\"automargin\": true, \"gridcolor\": \"white\", \"linecolor\": \"white\", \"ticks\": \"\", \"zerolinecolor\": \"white\", \"zerolinewidth\": 2}, \"yaxis\": {\"automargin\": true, \"gridcolor\": \"white\", \"linecolor\": \"white\", \"ticks\": \"\", \"zerolinecolor\": \"white\", \"zerolinewidth\": 2}}}, \"title\": {\"text\": \"Number of cyclones per Country and year (cummulative)\"}, \"updatemenus\": [{\"buttons\": [{\"args\": [null, {\"frame\": {\"duration\": 500, \"redraw\": true}, \"fromcurrent\": true, \"mode\": \"immediate\", \"transition\": {\"duration\": 500, \"easing\": \"linear\"}}], \"label\": \"&#9654;\", \"method\": \"animate\"}, {\"args\": [[null], {\"frame\": {\"duration\": 0, \"redraw\": true}, \"fromcurrent\": true, \"mode\": \"immediate\", \"transition\": {\"duration\": 0, \"easing\": \"linear\"}}], \"label\": \"&#9724;\", \"method\": \"animate\"}], \"direction\": \"left\", \"pad\": {\"r\": 10, \"t\": 70}, \"showactive\": false, \"type\": \"buttons\", \"x\": 0.1, \"xanchor\": \"right\", \"y\": 0, \"yanchor\": \"top\"}]},\n",
       "                        {\"responsive\": true}\n",
       "                    ).then(function(){\n",
       "                            Plotly.addFrames('f193aa8f-8f87-49d6-8655-ac25cf63a539', [{\"data\": [{\"coloraxis\": \"coloraxis\", \"geo\": \"geo\", \"hoverlabel\": {\"namelength\": 0}, \"hovertemplate\": \"<b>%{hovertext}</b><br><br>year=1999<br>ISO3=%{location}<br>Number of Cyclones=%{z}\", \"hovertext\": [\"Cocos (Keeling) Islands (the)\", \"Indonesia\", \"Madagascar\"], \"ids\": [\"CCK\", \"IDN\", \"MDG\"], \"locations\": [\"CCK\", \"IDN\", \"MDG\"], \"name\": \"\", \"z\": [1, 1, 1], \"type\": \"choropleth\"}], \"name\": \"1999\"}, {\"data\": [{\"coloraxis\": \"coloraxis\", \"geo\": \"geo\", \"hoverlabel\": {\"namelength\": 0}, \"hovertemplate\": \"<b>%{hovertext}</b><br><br>year=2000<br>ISO3=%{location}<br>Number of Cyclones=%{z}\", \"hovertext\": [\"Australia\", \"Bahamas (the)\", \"Barbados\", \"Bermuda\", \"Cabo Verde\", \"China\", \"Christmas Island\", \"Cocos (Keeling) Islands (the)\", \"El Salvador\", \"Fiji\", \"French Guiana\", \"French Polynesia\", \"Guam\", \"Guinea-Bissau\", \"Honduras\", \"India\", \"Indonesia\", \"Japan\", \"Maldives\", \"Marshall Islands (the)\", \"Mauritius\", \"Mexico\", \"Micronesia (Federated States of)\", \"Myanmar\", \"New Caledonia\", \"Northern Mariana Islands (the)\", \"Palau\", \"Papua New Guinea\", \"Philippines (the)\", \"Solomon Islands\", \"Sri Lanka\", \"Timor-Leste\", \"Tokelau\", \"Tonga\", \"United States of America (the)\", \"Vanuatu\", \"Viet Nam\", \"Wallis and Futuna\"], \"ids\": [\"AUS\", \"BHS\", \"BRB\", \"BMU\", \"CPV\", \"CHN\", \"CXR\", \"CCK\", \"SLV\", \"FJI\", \"GUF\", \"PYF\", \"GUM\", \"GNB\", \"HND\", \"IND\", \"IDN\", \"JPN\", \"MDV\", \"MHL\", \"MUS\", \"MEX\", \"FSM\", \"MMR\", \"NCL\", \"MNP\", \"PLW\", \"PNG\", \"PHL\", \"SLB\", \"LKA\", \"TLS\", \"TKL\", \"TON\", \"USA\", \"VUT\", \"VNM\", \"WLF\"], \"locations\": [\"AUS\", \"BHS\", \"BRB\", \"BMU\", \"CPV\", \"CHN\", \"CXR\", \"CCK\", \"SLV\", \"FJI\", \"GUF\", \"PYF\", \"GUM\", \"GNB\", \"HND\", \"IND\", \"IDN\", \"JPN\", \"MDV\", \"MHL\", \"MUS\", \"MEX\", \"FSM\", \"MMR\", \"NCL\", \"MNP\", \"PLW\", \"PNG\", \"PHL\", \"SLB\", \"LKA\", \"TLS\", \"TKL\", \"TON\", \"USA\", \"VUT\", \"VNM\", \"WLF\"], \"name\": \"\", \"z\": [5, 1, 2, 2, 2, 1, 1, 5, 1, 2, 2, 3, 1, 1, 1, 2, 3, 1, 4, 4, 3, 17, 3, 1, 1, 4, 4, 2, 6, 1, 1, 1, 1, 2, 3, 3, 1, 1], \"type\": \"choropleth\"}], \"name\": \"2000\"}, {\"data\": [{\"coloraxis\": \"coloraxis\", \"geo\": \"geo\", \"hoverlabel\": {\"namelength\": 0}, \"hovertemplate\": \"<b>%{hovertext}</b><br><br>year=2001<br>ISO3=%{location}<br>Number of Cyclones=%{z}\", \"hovertext\": [\"Australia\", \"Barbados\", \"Bermuda\", \"Cabo Verde\", \"Canada\", \"Cocos (Keeling) Islands (the)\", \"Cook Islands (the)\", \"French Guiana\", \"French Polynesia\", \"Guam\", \"Guatemala\", \"India\", \"Indonesia\", \"Japan\", \"Maldives\", \"Marshall Islands (the)\", \"Mexico\", \"Micronesia (Federated States of)\", \"Mozambique\", \"New Caledonia\", \"Nicaragua\", \"Niue\", \"Northern Mariana Islands (the)\", \"Papua New Guinea\", \"Philippines (the)\", \"Portugal\", \"Seychelles\", \"Solomon Islands\", \"South Africa\", \"Tokelau\", \"United States of America (the)\", \"Vanuatu\", \"Viet Nam\", \"Virgin Islands (British)\", \"Virgin Islands (U.S.)\"], \"ids\": [\"AUS\", \"BRB\", \"BMU\", \"CPV\", \"CAN\", \"CCK\", \"COK\", \"GUF\", \"PYF\", \"GUM\", \"GTM\", \"IND\", \"IDN\", \"JPN\", \"MDV\", \"MHL\", \"MEX\", \"FSM\", \"MOZ\", \"NCL\", \"NIC\", \"NIU\", \"MNP\", \"PNG\", \"PHL\", \"PRT\", \"SYC\", \"SLB\", \"ZAF\", \"TKL\", \"USA\", \"VUT\", \"VNM\", \"VGB\", \"VIR\"], \"locations\": [\"AUS\", \"BRB\", \"BMU\", \"CPV\", \"CAN\", \"CCK\", \"COK\", \"GUF\", \"PYF\", \"GUM\", \"GTM\", \"IND\", \"IDN\", \"JPN\", \"MDV\", \"MHL\", \"MEX\", \"FSM\", \"MOZ\", \"NCL\", \"NIC\", \"NIU\", \"MNP\", \"PNG\", \"PHL\", \"PRT\", \"SYC\", \"SLB\", \"ZAF\", \"TKL\", \"USA\", \"VUT\", \"VNM\", \"VGB\", \"VIR\"], \"name\": \"\", \"z\": [9, 3, 4, 5, 1, 9, 4, 3, 5, 3, 2, 5, 8, 2, 7, 7, 30, 11, 2, 3, 1, 1, 7, 4, 15, 1, 1, 3, 1, 2, 7, 5, 2, 1, 1], \"type\": \"choropleth\"}], \"name\": \"2001\"}, {\"data\": [{\"coloraxis\": \"coloraxis\", \"geo\": \"geo\", \"hoverlabel\": {\"namelength\": 0}, \"hovertemplate\": \"<b>%{hovertext}</b><br><br>year=2002<br>ISO3=%{location}<br>Number of Cyclones=%{z}\", \"hovertext\": [\"Australia\", \"Bahamas (the)\", \"Bermuda\", \"Cabo Verde\", \"China\", \"Christmas Island\", \"Cocos (Keeling) Islands (the)\", \"Fiji\", \"French Guiana\", \"French Polynesia\", \"India\", \"Indonesia\", \"Kiribati\", \"Madagascar\", \"Maldives\", \"Marshall Islands (the)\", \"Mauritius\", \"Mexico\", \"Micronesia (Federated States of)\", \"Mozambique\", \"New Caledonia\", \"Niue\", \"Northern Mariana Islands (the)\", \"Palau\", \"Papua New Guinea\", \"Philippines (the)\", \"Seychelles\", \"Solomon Islands\", \"Sri Lanka\", \"Timor-Leste\", \"Tonga\", \"Trinidad and Tobago\", \"United States of America (the)\", \"Viet Nam\"], \"ids\": [\"AUS\", \"BHS\", \"BMU\", \"CPV\", \"CHN\", \"CXR\", \"CCK\", \"FJI\", \"GUF\", \"PYF\", \"IND\", \"IDN\", \"KIR\", \"MDG\", \"MDV\", \"MHL\", \"MUS\", \"MEX\", \"FSM\", \"MOZ\", \"NCL\", \"NIU\", \"MNP\", \"PLW\", \"PNG\", \"PHL\", \"SYC\", \"SLB\", \"LKA\", \"TLS\", \"TON\", \"TTO\", \"USA\", \"VNM\"], \"locations\": [\"AUS\", \"BHS\", \"BMU\", \"CPV\", \"CHN\", \"CXR\", \"CCK\", \"FJI\", \"GUF\", \"PYF\", \"IND\", \"IDN\", \"KIR\", \"MDG\", \"MDV\", \"MHL\", \"MUS\", \"MEX\", \"FSM\", \"MOZ\", \"NCL\", \"NIU\", \"MNP\", \"PLW\", \"PNG\", \"PHL\", \"SYC\", \"SLB\", \"LKA\", \"TLS\", \"TON\", \"TTO\", \"USA\", \"VNM\"], \"name\": \"\", \"z\": [14, 2, 5, 6, 3, 2, 11, 6, 4, 6, 8, 10, 2, 2, 12, 16, 4, 41, 17, 3, 7, 2, 8, 6, 5, 18, 3, 4, 2, 2, 3, 1, 14, 3], \"type\": \"choropleth\"}], \"name\": \"2002\"}, {\"data\": [{\"coloraxis\": \"coloraxis\", \"geo\": \"geo\", \"hoverlabel\": {\"namelength\": 0}, \"hovertemplate\": \"<b>%{hovertext}</b><br><br>year=2003<br>ISO3=%{location}<br>Number of Cyclones=%{z}\", \"hovertext\": [\"American Samoa\", \"Australia\", \"Bermuda\", \"Brazil\", \"Cabo Verde\", \"Christmas Island\", \"Cocos (Keeling) Islands (the)\", \"Colombia\", \"Dominican Republic (the)\", \"French Guiana\", \"Honduras\", \"India\", \"Indonesia\", \"Japan\", \"Madagascar\", \"Maldives\", \"Marshall Islands (the)\", \"Mauritius\", \"Mexico\", \"Micronesia (Federated States of)\", \"Northern Mariana Islands (the)\", \"Palau\", \"Philippines (the)\", \"Portugal\", \"Seychelles\", \"Solomon Islands\", \"Thailand\", \"Tokelau\", \"Tonga\", \"United States of America (the)\", \"Vanuatu\", \"Wallis and Futuna\"], \"ids\": [\"ASM\", \"AUS\", \"BMU\", \"BRA\", \"CPV\", \"CXR\", \"CCK\", \"COL\", \"DOM\", \"GUF\", \"HND\", \"IND\", \"IDN\", \"JPN\", \"MDG\", \"MDV\", \"MHL\", \"MUS\", \"MEX\", \"FSM\", \"MNP\", \"PLW\", \"PHL\", \"PRT\", \"SYC\", \"SLB\", \"THA\", \"TKL\", \"TON\", \"USA\", \"VUT\", \"WLF\"], \"locations\": [\"ASM\", \"AUS\", \"BMU\", \"BRA\", \"CPV\", \"CXR\", \"CCK\", \"COL\", \"DOM\", \"GUF\", \"HND\", \"IND\", \"IDN\", \"JPN\", \"MDG\", \"MDV\", \"MHL\", \"MUS\", \"MEX\", \"FSM\", \"MNP\", \"PLW\", \"PHL\", \"PRT\", \"SYC\", \"SLB\", \"THA\", \"TKL\", \"TON\", \"USA\", \"VUT\", \"WLF\"], \"name\": \"\", \"z\": [2, 20, 8, 1, 9, 3, 13, 1, 1, 5, 2, 9, 15, 3, 3, 16, 17, 9, 59, 28, 10, 7, 23, 2, 4, 7, 1, 3, 5, 16, 9, 5], \"type\": \"choropleth\"}], \"name\": \"2003\"}, {\"data\": [{\"coloraxis\": \"coloraxis\", \"geo\": \"geo\", \"hoverlabel\": {\"namelength\": 0}, \"hovertemplate\": \"<b>%{hovertext}</b><br><br>year=2004<br>ISO3=%{location}<br>Number of Cyclones=%{z}\", \"hovertext\": [\"Australia\", \"Barbados\", \"Bermuda\", \"Cabo Verde\", \"Christmas Island\", \"Cocos (Keeling) Islands (the)\", \"Fiji\", \"French Guiana\", \"French Polynesia\", \"Guadeloupe\", \"Guam\", \"Guatemala\", \"India\", \"Indonesia\", \"Japan\", \"Kiribati\", \"Madagascar\", \"Maldives\", \"Marshall Islands (the)\", \"Mauritius\", \"Mexico\", \"Micronesia (Federated States of)\", \"Northern Mariana Islands (the)\", \"Palau\", \"Philippines (the)\", \"Taiwan (Province of China)\", \"Tokelau\", \"Trinidad and Tobago\", \"United States of America (the)\", \"Vanuatu\"], \"ids\": [\"AUS\", \"BRB\", \"BMU\", \"CPV\", \"CXR\", \"CCK\", \"FJI\", \"GUF\", \"PYF\", \"GLP\", \"GUM\", \"GTM\", \"IND\", \"IDN\", \"JPN\", \"KIR\", \"MDG\", \"MDV\", \"MHL\", \"MUS\", \"MEX\", \"FSM\", \"MNP\", \"PLW\", \"PHL\", \"TWN\", \"TKL\", \"TTO\", \"USA\", \"VUT\"], \"locations\": [\"AUS\", \"BRB\", \"BMU\", \"CPV\", \"CXR\", \"CCK\", \"FJI\", \"GUF\", \"PYF\", \"GLP\", \"GUM\", \"GTM\", \"IND\", \"IDN\", \"JPN\", \"KIR\", \"MDG\", \"MDV\", \"MHL\", \"MUS\", \"MEX\", \"FSM\", \"MNP\", \"PLW\", \"PHL\", \"TWN\", \"TKL\", \"TTO\", \"USA\", \"VUT\"], \"name\": \"\", \"z\": [29, 4, 9, 14, 4, 15, 9, 6, 7, 1, 5, 3, 13, 17, 4, 3, 4, 21, 21, 12, 70, 42, 13, 9, 26, 1, 4, 2, 18, 10], \"type\": \"choropleth\"}], \"name\": \"2004\"}, {\"data\": [{\"coloraxis\": \"coloraxis\", \"geo\": \"geo\", \"hoverlabel\": {\"namelength\": 0}, \"hovertemplate\": \"<b>%{hovertext}</b><br><br>year=2005<br>ISO3=%{location}<br>Number of Cyclones=%{z}\", \"hovertext\": [\"American Samoa\", \"Australia\", \"Cabo Verde\", \"China\", \"Christmas Island\", \"Cocos (Keeling) Islands (the)\", \"Cook Islands (the)\", \"Fiji\", \"Guatemala\", \"India\", \"Indonesia\", \"Japan\", \"Maldives\", \"Marshall Islands (the)\", \"Mauritius\", \"Mexico\", \"Micronesia (Federated States of)\", \"Northern Mariana Islands (the)\", \"Palau\", \"Papua New Guinea\", \"Philippines (the)\", \"Seychelles\", \"Thailand\", \"Wallis and Futuna\"], \"ids\": [\"ASM\", \"AUS\", \"CPV\", \"CHN\", \"CXR\", \"CCK\", \"COK\", \"FJI\", \"GTM\", \"IND\", \"IDN\", \"JPN\", \"MDV\", \"MHL\", \"MUS\", \"MEX\", \"FSM\", \"MNP\", \"PLW\", \"PNG\", \"PHL\", \"SYC\", \"THA\", \"WLF\"], \"locations\": [\"ASM\", \"AUS\", \"CPV\", \"CHN\", \"CXR\", \"CCK\", \"COK\", \"FJI\", \"GTM\", \"IND\", \"IDN\", \"JPN\", \"MDV\", \"MHL\", \"MUS\", \"MEX\", \"FSM\", \"MNP\", \"PLW\", \"PNG\", \"PHL\", \"SYC\", \"THA\", \"WLF\"], \"name\": \"\", \"z\": [7, 32, 15, 4, 5, 20, 5, 11, 4, 16, 24, 5, 22, 24, 14, 84, 51, 17, 10, 6, 31, 5, 2, 9], \"type\": \"choropleth\"}], \"name\": \"2005\"}, {\"data\": [{\"coloraxis\": \"coloraxis\", \"geo\": \"geo\", \"hoverlabel\": {\"namelength\": 0}, \"hovertemplate\": \"<b>%{hovertext}</b><br><br>year=2006<br>ISO3=%{location}<br>Number of Cyclones=%{z}\", \"hovertext\": [\"Antigua and Barbuda\", \"Australia\", \"Cabo Verde\", \"Cocos (Keeling) Islands (the)\", \"Fiji\", \"Grenada\", \"Guadeloupe\", \"India\", \"Indonesia\", \"Japan\", \"Madagascar\", \"Maldives\", \"Marshall Islands (the)\", \"Mauritius\", \"Mexico\", \"Micronesia (Federated States of)\", \"New Caledonia\", \"Northern Mariana Islands (the)\", \"Palau\", \"Papua New Guinea\", \"Philippines (the)\", \"Solomon Islands\", \"Sri Lanka\", \"Tonga\", \"United States of America (the)\", \"Vanuatu\", \"Wallis and Futuna\"], \"ids\": [\"ATG\", \"AUS\", \"CPV\", \"CCK\", \"FJI\", \"GRD\", \"GLP\", \"IND\", \"IDN\", \"JPN\", \"MDG\", \"MDV\", \"MHL\", \"MUS\", \"MEX\", \"FSM\", \"NCL\", \"MNP\", \"PLW\", \"PNG\", \"PHL\", \"SLB\", \"LKA\", \"TON\", \"USA\", \"VUT\", \"WLF\"], \"locations\": [\"ATG\", \"AUS\", \"CPV\", \"CCK\", \"FJI\", \"GRD\", \"GLP\", \"IND\", \"IDN\", \"JPN\", \"MDG\", \"MDV\", \"MHL\", \"MUS\", \"MEX\", \"FSM\", \"NCL\", \"MNP\", \"PLW\", \"PNG\", \"PHL\", \"SLB\", \"LKA\", \"TON\", \"USA\", \"VUT\", \"WLF\"], \"name\": \"\", \"z\": [1, 39, 18, 21, 12, 1, 3, 21, 27, 6, 7, 24, 26, 16, 103, 61, 9, 20, 11, 9, 35, 14, 3, 9, 21, 11, 10], \"type\": \"choropleth\"}], \"name\": \"2006\"}, {\"data\": [{\"coloraxis\": \"coloraxis\", \"geo\": \"geo\", \"hoverlabel\": {\"namelength\": 0}, \"hovertemplate\": \"<b>%{hovertext}</b><br><br>year=2007<br>ISO3=%{location}<br>Number of Cyclones=%{z}\", \"hovertext\": [\"American Samoa\", \"Antigua and Barbuda\", \"Australia\", \"Bahamas (the)\", \"Barbados\", \"Belize\", \"Cabo Verde\", \"China\", \"Cocos (Keeling) Islands (the)\", \"Fiji\", \"French Guiana\", \"French Polynesia\", \"Guam\", \"India\", \"Indonesia\", \"Madagascar\", \"Maldives\", \"Marshall Islands (the)\", \"Mauritius\", \"Mexico\", \"Micronesia (Federated States of)\", \"Mozambique\", \"Northern Mariana Islands (the)\", \"Papua New Guinea\", \"Philippines (the)\", \"Solomon Islands\", \"United States of America (the)\", \"Wallis and Futuna\"], \"ids\": [\"ASM\", \"ATG\", \"AUS\", \"BHS\", \"BRB\", \"BLZ\", \"CPV\", \"CHN\", \"CCK\", \"FJI\", \"GUF\", \"PYF\", \"GUM\", \"IND\", \"IDN\", \"MDG\", \"MDV\", \"MHL\", \"MUS\", \"MEX\", \"FSM\", \"MOZ\", \"MNP\", \"PNG\", \"PHL\", \"SLB\", \"USA\", \"WLF\"], \"locations\": [\"ASM\", \"ATG\", \"AUS\", \"BHS\", \"BRB\", \"BLZ\", \"CPV\", \"CHN\", \"CCK\", \"FJI\", \"GUF\", \"PYF\", \"GUM\", \"IND\", \"IDN\", \"MDG\", \"MDV\", \"MHL\", \"MUS\", \"MEX\", \"FSM\", \"MOZ\", \"MNP\", \"PNG\", \"PHL\", \"SLB\", \"USA\", \"WLF\"], \"name\": \"\", \"z\": [9, 2, 45, 3, 5, 1, 21, 6, 25, 16, 7, 9, 6, 27, 28, 8, 28, 28, 19, 115, 68, 4, 25, 11, 39, 17, 23, 13], \"type\": \"choropleth\"}], \"name\": \"2007\"}, {\"data\": [{\"coloraxis\": \"coloraxis\", \"geo\": \"geo\", \"hoverlabel\": {\"namelength\": 0}, \"hovertemplate\": \"<b>%{hovertext}</b><br><br>year=2008<br>ISO3=%{location}<br>Number of Cyclones=%{z}\", \"hovertext\": [\"Antigua and Barbuda\", \"Aruba\", \"Australia\", \"Belize\", \"Bonaire, Sint Eustatius and Saba\", \"Cabo Verde\", \"Christmas Island\", \"Cocos (Keeling) Islands (the)\", \"Colombia\", \"Costa Rica\", \"El Salvador\", \"Fiji\", \"French Polynesia\", \"Guam\", \"Guatemala\", \"Honduras\", \"India\", \"Indonesia\", \"Japan\", \"Madagascar\", \"Maldives\", \"Marshall Islands (the)\", \"Mauritius\", \"Mexico\", \"Micronesia (Federated States of)\", \"New Caledonia\", \"Northern Mariana Islands (the)\", \"Palau\", \"Philippines (the)\", \"Puerto Rico\", \"Seychelles\", \"Solomon Islands\", \"Sri Lanka\", \"Taiwan (Province of China)\", \"Tonga\", \"Turks and Caicos Islands (the)\", \"United States of America (the)\", \"Vanuatu\", \"Viet Nam\", \"Wallis and Futuna\"], \"ids\": [\"ATG\", \"ABW\", \"AUS\", \"BLZ\", \"BES\", \"CPV\", \"CXR\", \"CCK\", \"COL\", \"CRI\", \"SLV\", \"FJI\", \"PYF\", \"GUM\", \"GTM\", \"HND\", \"IND\", \"IDN\", \"JPN\", \"MDG\", \"MDV\", \"MHL\", \"MUS\", \"MEX\", \"FSM\", \"NCL\", \"MNP\", \"PLW\", \"PHL\", \"PRI\", \"SYC\", \"SLB\", \"LKA\", \"TWN\", \"TON\", \"TCA\", \"USA\", \"VUT\", \"VNM\", \"WLF\"], \"locations\": [\"ATG\", \"ABW\", \"AUS\", \"BLZ\", \"BES\", \"CPV\", \"CXR\", \"CCK\", \"COL\", \"CRI\", \"SLV\", \"FJI\", \"PYF\", \"GUM\", \"GTM\", \"HND\", \"IND\", \"IDN\", \"JPN\", \"MDG\", \"MDV\", \"MHL\", \"MUS\", \"MEX\", \"FSM\", \"NCL\", \"MNP\", \"PLW\", \"PHL\", \"PRI\", \"SYC\", \"SLB\", \"LKA\", \"TWN\", \"TON\", \"TCA\", \"USA\", \"VUT\", \"VNM\", \"WLF\"], \"name\": \"\", \"z\": [3, 1, 49, 2, 1, 25, 7, 31, 2, 1, 2, 18, 10, 7, 6, 3, 31, 29, 10, 9, 31, 29, 22, 128, 71, 11, 28, 13, 49, 1, 6, 18, 4, 2, 11, 1, 25, 13, 5, 14], \"type\": \"choropleth\"}], \"name\": \"2008\"}, {\"data\": [{\"coloraxis\": \"coloraxis\", \"geo\": \"geo\", \"hoverlabel\": {\"namelength\": 0}, \"hovertemplate\": \"<b>%{hovertext}</b><br><br>year=2009<br>ISO3=%{location}<br>Number of Cyclones=%{z}\", \"hovertext\": [\"Australia\", \"Cabo Verde\", \"Cocos (Keeling) Islands (the)\", \"Colombia\", \"Cook Islands (the)\", \"Fiji\", \"French Guiana\", \"Guadeloupe\", \"Guam\", \"India\", \"Indonesia\", \"Japan\", \"Kiribati\", \"Madagascar\", \"Maldives\", \"Marshall Islands (the)\", \"Mauritius\", \"Mexico\", \"Micronesia (Federated States of)\", \"Mozambique\", \"New Caledonia\", \"Northern Mariana Islands (the)\", \"Palau\", \"Papua New Guinea\", \"Philippines (the)\", \"Solomon Islands\", \"Sri Lanka\", \"Tonga\", \"Turks and Caicos Islands (the)\", \"United States of America (the)\", \"Viet Nam\", \"Wallis and Futuna\"], \"ids\": [\"AUS\", \"CPV\", \"CCK\", \"COL\", \"COK\", \"FJI\", \"GUF\", \"GLP\", \"GUM\", \"IND\", \"IDN\", \"JPN\", \"KIR\", \"MDG\", \"MDV\", \"MHL\", \"MUS\", \"MEX\", \"FSM\", \"MOZ\", \"NCL\", \"MNP\", \"PLW\", \"PNG\", \"PHL\", \"SLB\", \"LKA\", \"TON\", \"TCA\", \"USA\", \"VNM\", \"WLF\"], \"locations\": [\"AUS\", \"CPV\", \"CCK\", \"COL\", \"COK\", \"FJI\", \"GUF\", \"GLP\", \"GUM\", \"IND\", \"IDN\", \"JPN\", \"KIR\", \"MDG\", \"MDV\", \"MHL\", \"MUS\", \"MEX\", \"FSM\", \"MOZ\", \"NCL\", \"MNP\", \"PLW\", \"PNG\", \"PHL\", \"SLB\", \"LKA\", \"TON\", \"TCA\", \"USA\", \"VNM\", \"WLF\"], \"name\": \"\", \"z\": [57, 28, 34, 3, 9, 21, 8, 4, 8, 35, 31, 11, 5, 10, 34, 31, 27, 144, 77, 5, 13, 31, 15, 12, 56, 19, 5, 13, 2, 28, 6, 16], \"type\": \"choropleth\"}], \"name\": \"2009\"}, {\"data\": [{\"coloraxis\": \"coloraxis\", \"geo\": \"geo\", \"hoverlabel\": {\"namelength\": 0}, \"hovertemplate\": \"<b>%{hovertext}</b><br><br>year=2010<br>ISO3=%{location}<br>Number of Cyclones=%{z}\", \"hovertext\": [\"American Samoa\", \"Anguilla\", \"Australia\", \"Bahamas (the)\", \"Cabo Verde\", \"Cayman Islands (the)\", \"Cocos (Keeling) Islands (the)\", \"Colombia\", \"Cook Islands (the)\", \"Costa Rica\", \"French Guiana\", \"French Polynesia\", \"Gambia (the)\", \"Guam\", \"Honduras\", \"India\", \"Indonesia\", \"Jamaica\", \"Japan\", \"Kiribati\", \"Madagascar\", \"Malaysia\", \"Mauritius\", \"Mexico\", \"Micronesia (Federated States of)\", \"Myanmar\", \"Northern Mariana Islands (the)\", \"Papua New Guinea\", \"Philippines (the)\", \"Puerto Rico\", \"Samoa\", \"Tokelau\", \"Vanuatu\", \"Wallis and Futuna\", \"Yemen\"], \"ids\": [\"ASM\", \"AIA\", \"AUS\", \"BHS\", \"CPV\", \"CYM\", \"CCK\", \"COL\", \"COK\", \"CRI\", \"GUF\", \"PYF\", \"GMB\", \"GUM\", \"HND\", \"IND\", \"IDN\", \"JAM\", \"JPN\", \"KIR\", \"MDG\", \"MYS\", \"MUS\", \"MEX\", \"FSM\", \"MMR\", \"MNP\", \"PNG\", \"PHL\", \"PRI\", \"WSM\", \"TKL\", \"VUT\", \"WLF\", \"YEM\"], \"locations\": [\"ASM\", \"AIA\", \"AUS\", \"BHS\", \"CPV\", \"CYM\", \"CCK\", \"COL\", \"COK\", \"CRI\", \"GUF\", \"PYF\", \"GMB\", \"GUM\", \"HND\", \"IND\", \"IDN\", \"JAM\", \"JPN\", \"KIR\", \"MDG\", \"MYS\", \"MUS\", \"MEX\", \"FSM\", \"MMR\", \"MNP\", \"PNG\", \"PHL\", \"PRI\", \"WSM\", \"TKL\", \"VUT\", \"WLF\", \"YEM\"], \"name\": \"\", \"z\": [13, 1, 61, 4, 33, 1, 40, 5, 10, 2, 11, 11, 1, 11, 5, 37, 33, 1, 13, 6, 12, 1, 29, 151, 80, 2, 33, 14, 60, 2, 1, 6, 15, 19, 1], \"type\": \"choropleth\"}], \"name\": \"2010\"}, {\"data\": [{\"coloraxis\": \"coloraxis\", \"geo\": \"geo\", \"hoverlabel\": {\"namelength\": 0}, \"hovertemplate\": \"<b>%{hovertext}</b><br><br>year=2011<br>ISO3=%{location}<br>Number of Cyclones=%{z}\", \"hovertext\": [\"Australia\", \"Bahamas (the)\", \"Barbados\", \"Bermuda\", \"Cabo Verde\", \"Cocos (Keeling) Islands (the)\", \"Colombia\", \"Cook Islands (the)\", \"Fiji\", \"Guam\", \"Guinea-Bissau\", \"Honduras\", \"India\", \"Indonesia\", \"Marshall Islands (the)\", \"Martinique\", \"Mauritius\", \"Mexico\", \"Micronesia (Federated States of)\", \"Nicaragua\", \"Northern Mariana Islands (the)\", \"Oman\", \"Palau\", \"Papua New Guinea\", \"Philippines (the)\", \"Samoa\", \"Sri Lanka\", \"Tonga\", \"United States of America (the)\", \"Vanuatu\", \"Viet Nam\", \"Wallis and Futuna\", \"Yemen\"], \"ids\": [\"AUS\", \"BHS\", \"BRB\", \"BMU\", \"CPV\", \"CCK\", \"COL\", \"COK\", \"FJI\", \"GUM\", \"GNB\", \"HND\", \"IND\", \"IDN\", \"MHL\", \"MTQ\", \"MUS\", \"MEX\", \"FSM\", \"NIC\", \"MNP\", \"OMN\", \"PLW\", \"PNG\", \"PHL\", \"WSM\", \"LKA\", \"TON\", \"USA\", \"VUT\", \"VNM\", \"WLF\", \"YEM\"], \"locations\": [\"AUS\", \"BHS\", \"BRB\", \"BMU\", \"CPV\", \"CCK\", \"COL\", \"COK\", \"FJI\", \"GUM\", \"GNB\", \"HND\", \"IND\", \"IDN\", \"MHL\", \"MTQ\", \"MUS\", \"MEX\", \"FSM\", \"NIC\", \"MNP\", \"OMN\", \"PLW\", \"PNG\", \"PHL\", \"WSM\", \"LKA\", \"TON\", \"USA\", \"VUT\", \"VNM\", \"WLF\", \"YEM\"], \"name\": \"\", \"z\": [69, 5, 6, 14, 35, 41, 6, 11, 22, 13, 3, 6, 40, 36, 33, 1, 32, 164, 85, 2, 36, 1, 16, 16, 64, 2, 6, 16, 29, 20, 7, 20, 2], \"type\": \"choropleth\"}], \"name\": \"2011\"}, {\"data\": [{\"coloraxis\": \"coloraxis\", \"geo\": \"geo\", \"hoverlabel\": {\"namelength\": 0}, \"hovertemplate\": \"<b>%{hovertext}</b><br><br>year=2012<br>ISO3=%{location}<br>Number of Cyclones=%{z}\", \"hovertext\": [\"Australia\", \"Bahamas (the)\", \"Bermuda\", \"Cabo Verde\", \"China\", \"Cocos (Keeling) Islands (the)\", \"Dominica\", \"El Salvador\", \"Fiji\", \"French Guiana\", \"Guadeloupe\", \"Guam\", \"India\", \"Indonesia\", \"Jamaica\", \"Madagascar\", \"Maldives\", \"Marshall Islands (the)\", \"Mauritius\", \"Mexico\", \"Micronesia (Federated States of)\", \"Mozambique\", \"Northern Mariana Islands (the)\", \"Palau\", \"Papua New Guinea\", \"Philippines (the)\", \"Portugal\", \"Solomon Islands\", \"Tonga\", \"United States of America (the)\", \"Vanuatu\", \"Viet Nam\", \"Wallis and Futuna\"], \"ids\": [\"AUS\", \"BHS\", \"BMU\", \"CPV\", \"CHN\", \"CCK\", \"DMA\", \"SLV\", \"FJI\", \"GUF\", \"GLP\", \"GUM\", \"IND\", \"IDN\", \"JAM\", \"MDG\", \"MDV\", \"MHL\", \"MUS\", \"MEX\", \"FSM\", \"MOZ\", \"MNP\", \"PLW\", \"PNG\", \"PHL\", \"PRT\", \"SLB\", \"TON\", \"USA\", \"VUT\", \"VNM\", \"WLF\"], \"locations\": [\"AUS\", \"BHS\", \"BMU\", \"CPV\", \"CHN\", \"CCK\", \"DMA\", \"SLV\", \"FJI\", \"GUF\", \"GLP\", \"GUM\", \"IND\", \"IDN\", \"JAM\", \"MDG\", \"MDV\", \"MHL\", \"MUS\", \"MEX\", \"FSM\", \"MOZ\", \"MNP\", \"PLW\", \"PNG\", \"PHL\", \"PRT\", \"SLB\", \"TON\", \"USA\", \"VUT\", \"VNM\", \"WLF\"], \"name\": \"\", \"z\": [73, 7, 16, 40, 7, 42, 1, 3, 23, 14, 6, 16, 44, 38, 2, 13, 35, 34, 35, 181, 91, 7, 41, 18, 18, 70, 3, 20, 17, 30, 22, 8, 21], \"type\": \"choropleth\"}], \"name\": \"2012\"}, {\"data\": [{\"coloraxis\": \"coloraxis\", \"geo\": \"geo\", \"hoverlabel\": {\"namelength\": 0}, \"hovertemplate\": \"<b>%{hovertext}</b><br><br>year=2013<br>ISO3=%{location}<br>Number of Cyclones=%{z}\", \"hovertext\": [\"Australia\", \"Bermuda\", \"Brazil\", \"Cabo Verde\", \"Cocos (Keeling) Islands (the)\", \"Colombia\", \"Cuba\", \"French Polynesia\", \"Gambia (the)\", \"Guadeloupe\", \"Guam\", \"Guatemala\", \"India\", \"Indonesia\", \"Japan\", \"Kiribati\", \"Madagascar\", \"Maldives\", \"Marshall Islands (the)\", \"Mauritius\", \"Mexico\", \"Micronesia (Federated States of)\", \"Northern Mariana Islands (the)\", \"Palau\", \"Papua New Guinea\", \"Philippines (the)\", \"Puerto Rico\", \"Senegal\", \"Solomon Islands\", \"Somalia\", \"Sri Lanka\", \"Thailand\", \"United States of America (the)\", \"Viet Nam\", \"Wallis and Futuna\"], \"ids\": [\"AUS\", \"BMU\", \"BRA\", \"CPV\", \"CCK\", \"COL\", \"CUB\", \"PYF\", \"GMB\", \"GLP\", \"GUM\", \"GTM\", \"IND\", \"IDN\", \"JPN\", \"KIR\", \"MDG\", \"MDV\", \"MHL\", \"MUS\", \"MEX\", \"FSM\", \"MNP\", \"PLW\", \"PNG\", \"PHL\", \"PRI\", \"SEN\", \"SLB\", \"SOM\", \"LKA\", \"THA\", \"USA\", \"VNM\", \"WLF\"], \"locations\": [\"AUS\", \"BMU\", \"BRA\", \"CPV\", \"CCK\", \"COL\", \"CUB\", \"PYF\", \"GMB\", \"GLP\", \"GUM\", \"GTM\", \"IND\", \"IDN\", \"JPN\", \"KIR\", \"MDG\", \"MDV\", \"MHL\", \"MUS\", \"MEX\", \"FSM\", \"MNP\", \"PLW\", \"PNG\", \"PHL\", \"PRI\", \"SEN\", \"SLB\", \"SOM\", \"LKA\", \"THA\", \"USA\", \"VNM\", \"WLF\"], \"name\": \"\", \"z\": [79, 17, 2, 41, 44, 7, 1, 12, 2, 7, 18, 7, 46, 39, 15, 7, 14, 37, 36, 39, 201, 95, 45, 20, 19, 82, 3, 1, 21, 1, 8, 3, 32, 9, 22], \"type\": \"choropleth\"}], \"name\": \"2013\"}, {\"data\": [{\"coloraxis\": \"coloraxis\", \"geo\": \"geo\", \"hoverlabel\": {\"namelength\": 0}, \"hovertemplate\": \"<b>%{hovertext}</b><br><br>year=2014<br>ISO3=%{location}<br>Number of Cyclones=%{z}\", \"hovertext\": [\"Anguilla\", \"Australia\", \"Barbados\", \"Brazil\", \"Cabo Verde\", \"China\", \"Cocos (Keeling) Islands (the)\", \"Comoros (the)\", \"Cook Islands (the)\", \"French Polynesia\", \"Guam\", \"India\", \"Indonesia\", \"Japan\", \"Korea (the Republic of)\", \"Madagascar\", \"Mauritius\", \"Mexico\", \"Micronesia (Federated States of)\", \"Mozambique\", \"New Caledonia\", \"Northern Mariana Islands (the)\", \"Palau\", \"Papua New Guinea\", \"Philippines (the)\", \"Solomon Islands\", \"Sri Lanka\", \"Tonga\", \"Turks and Caicos Islands (the)\", \"United States of America (the)\", \"Vanuatu\", \"Yemen\"], \"ids\": [\"AIA\", \"AUS\", \"BRB\", \"BRA\", \"CPV\", \"CHN\", \"CCK\", \"COM\", \"COK\", \"PYF\", \"GUM\", \"IND\", \"IDN\", \"JPN\", \"KOR\", \"MDG\", \"MUS\", \"MEX\", \"FSM\", \"MOZ\", \"NCL\", \"MNP\", \"PLW\", \"PNG\", \"PHL\", \"SLB\", \"LKA\", \"TON\", \"TCA\", \"USA\", \"VUT\", \"YEM\"], \"locations\": [\"AIA\", \"AUS\", \"BRB\", \"BRA\", \"CPV\", \"CHN\", \"CCK\", \"COM\", \"COK\", \"PYF\", \"GUM\", \"IND\", \"IDN\", \"JPN\", \"KOR\", \"MDG\", \"MUS\", \"MEX\", \"FSM\", \"MOZ\", \"NCL\", \"MNP\", \"PLW\", \"PNG\", \"PHL\", \"SLB\", \"LKA\", \"TON\", \"TCA\", \"USA\", \"VUT\", \"YEM\"], \"name\": \"\", \"z\": [2, 81, 7, 3, 42, 8, 48, 1, 12, 13, 20, 49, 40, 16, 1, 16, 44, 222, 102, 8, 15, 46, 22, 21, 86, 22, 9, 19, 3, 35, 23, 3], \"type\": \"choropleth\"}], \"name\": \"2014\"}, {\"data\": [{\"coloraxis\": \"coloraxis\", \"geo\": \"geo\", \"hoverlabel\": {\"namelength\": 0}, \"hovertemplate\": \"<b>%{hovertext}</b><br><br>year=2015<br>ISO3=%{location}<br>Number of Cyclones=%{z}\", \"hovertext\": [\"American Samoa\", \"Australia\", \"Bahamas (the)\", \"Bangladesh\", \"Bermuda\", \"Cabo Verde\", \"Christmas Island\", \"Cocos (Keeling) Islands (the)\", \"Fiji\", \"French Guiana\", \"French Polynesia\", \"Guam\", \"India\", \"Kiribati\", \"Madagascar\", \"Maldives\", \"Marshall Islands (the)\", \"Mauritius\", \"Mexico\", \"Micronesia (Federated States of)\", \"Mozambique\", \"New Caledonia\", \"Northern Mariana Islands (the)\", \"Palau\", \"Papua New Guinea\", \"Philippines (the)\", \"R\\u00e9union\", \"Senegal\", \"Solomon Islands\", \"Tonga\", \"United States of America (the)\", \"Viet Nam\", \"Wallis and Futuna\"], \"ids\": [\"ASM\", \"AUS\", \"BHS\", \"BGD\", \"BMU\", \"CPV\", \"CXR\", \"CCK\", \"FJI\", \"GUF\", \"PYF\", \"GUM\", \"IND\", \"KIR\", \"MDG\", \"MDV\", \"MHL\", \"MUS\", \"MEX\", \"FSM\", \"MOZ\", \"NCL\", \"MNP\", \"PLW\", \"PNG\", \"PHL\", \"REU\", \"SEN\", \"SLB\", \"TON\", \"USA\", \"VNM\", \"WLF\"], \"locations\": [\"ASM\", \"AUS\", \"BHS\", \"BGD\", \"BMU\", \"CPV\", \"CXR\", \"CCK\", \"FJI\", \"GUF\", \"PYF\", \"GUM\", \"IND\", \"KIR\", \"MDG\", \"MDV\", \"MHL\", \"MUS\", \"MEX\", \"FSM\", \"MOZ\", \"NCL\", \"MNP\", \"PLW\", \"PNG\", \"PHL\", \"REU\", \"SEN\", \"SLB\", \"TON\", \"USA\", \"VNM\", \"WLF\"], \"name\": \"\", \"z\": [14, 86, 8, 1, 19, 45, 8, 49, 25, 15, 15, 22, 53, 9, 20, 38, 44, 49, 239, 110, 9, 16, 49, 23, 22, 89, 1, 2, 25, 20, 47, 11, 23], \"type\": \"choropleth\"}], \"name\": \"2015\"}, {\"data\": [{\"coloraxis\": \"coloraxis\", \"geo\": \"geo\", \"hoverlabel\": {\"namelength\": 0}, \"hovertemplate\": \"<b>%{hovertext}</b><br><br>year=2016<br>ISO3=%{location}<br>Number of Cyclones=%{z}\", \"hovertext\": [\"American Samoa\", \"Anguilla\", \"Australia\", \"Bahamas (the)\", \"Cabo Verde\", \"China\", \"Cocos (Keeling) Islands (the)\", \"Costa Rica\", \"French Polynesia\", \"Ghana\", \"Guadeloupe\", \"Guam\", \"India\", \"Jamaica\", \"Japan\", \"Kiribati\", \"Maldives\", \"Marshall Islands (the)\", \"Mauritius\", \"Mexico\", \"Micronesia (Federated States of)\", \"Myanmar\", \"New Caledonia\", \"Northern Mariana Islands (the)\", \"Pakistan\", \"Panama\", \"Philippines (the)\", \"R\\u00e9union\", \"Saint Vincent and the Grenadines\", \"Sri Lanka\", \"United States of America (the)\", \"Vanuatu\", \"Wallis and Futuna\"], \"ids\": [\"ASM\", \"AIA\", \"AUS\", \"BHS\", \"CPV\", \"CHN\", \"CCK\", \"CRI\", \"PYF\", \"GHA\", \"GLP\", \"GUM\", \"IND\", \"JAM\", \"JPN\", \"KIR\", \"MDV\", \"MHL\", \"MUS\", \"MEX\", \"FSM\", \"MMR\", \"NCL\", \"MNP\", \"PAK\", \"PAN\", \"PHL\", \"REU\", \"VCT\", \"LKA\", \"USA\", \"VUT\", \"WLF\"], \"locations\": [\"ASM\", \"AIA\", \"AUS\", \"BHS\", \"CPV\", \"CHN\", \"CCK\", \"CRI\", \"PYF\", \"GHA\", \"GLP\", \"GUM\", \"IND\", \"JAM\", \"JPN\", \"KIR\", \"MDV\", \"MHL\", \"MUS\", \"MEX\", \"FSM\", \"MMR\", \"NCL\", \"MNP\", \"PAK\", \"PAN\", \"PHL\", \"REU\", \"VCT\", \"LKA\", \"USA\", \"VUT\", \"WLF\"], \"name\": \"\", \"z\": [15, 3, 89, 9, 50, 11, 51, 3, 16, 2, 8, 31, 57, 3, 21, 10, 40, 47, 52, 258, 115, 3, 17, 52, 1, 1, 93, 2, 1, 10, 51, 26, 24], \"type\": \"choropleth\"}], \"name\": \"2016\"}, {\"data\": [{\"coloraxis\": \"coloraxis\", \"geo\": \"geo\", \"hoverlabel\": {\"namelength\": 0}, \"hovertemplate\": \"<b>%{hovertext}</b><br><br>year=2017<br>ISO3=%{location}<br>Number of Cyclones=%{z}\", \"hovertext\": [\"Australia\", \"Barbados\", \"Bermuda\", \"Cabo Verde\", \"China\", \"Christmas Island\", \"Cocos (Keeling) Islands (the)\", \"Colombia\", \"Cook Islands (the)\", \"Cuba\", \"El Salvador\", \"French Guiana\", \"Guam\", \"Guatemala\", \"Guyana\", \"Honduras\", \"India\", \"Indonesia\", \"Japan\", \"Madagascar\", \"Marshall Islands (the)\", \"Mauritius\", \"Mexico\", \"Micronesia (Federated States of)\", \"Niue\", \"Northern Mariana Islands (the)\", \"Palau\", \"Philippines (the)\", \"Portugal\", \"Sri Lanka\", \"Tonga\", \"Turks and Caicos Islands (the)\", \"United States of America (the)\", \"Vanuatu\"], \"ids\": [\"AUS\", \"BRB\", \"BMU\", \"CPV\", \"CHN\", \"CXR\", \"CCK\", \"COL\", \"COK\", \"CUB\", \"SLV\", \"GUF\", \"GUM\", \"GTM\", \"GUY\", \"HND\", \"IND\", \"IDN\", \"JPN\", \"MDG\", \"MHL\", \"MUS\", \"MEX\", \"FSM\", \"NIU\", \"MNP\", \"PLW\", \"PHL\", \"PRT\", \"LKA\", \"TON\", \"TCA\", \"USA\", \"VUT\"], \"locations\": [\"AUS\", \"BRB\", \"BMU\", \"CPV\", \"CHN\", \"CXR\", \"CCK\", \"COL\", \"COK\", \"CUB\", \"SLV\", \"GUF\", \"GUM\", \"GTM\", \"GUY\", \"HND\", \"IND\", \"IDN\", \"JPN\", \"MDG\", \"MHL\", \"MUS\", \"MEX\", \"FSM\", \"NIU\", \"MNP\", \"PLW\", \"PHL\", \"PRT\", \"LKA\", \"TON\", \"TCA\", \"USA\", \"VUT\"], \"name\": \"\", \"z\": [95, 8, 20, 53, 14, 9, 52, 8, 13, 2, 5, 17, 32, 8, 1, 7, 60, 41, 22, 21, 52, 56, 274, 119, 4, 53, 24, 105, 5, 11, 23, 4, 53, 28], \"type\": \"choropleth\"}], \"name\": \"2017\"}, {\"data\": [{\"coloraxis\": \"coloraxis\", \"geo\": \"geo\", \"hoverlabel\": {\"namelength\": 0}, \"hovertemplate\": \"<b>%{hovertext}</b><br><br>year=2018<br>ISO3=%{location}<br>Number of Cyclones=%{z}\", \"hovertext\": [\"Antigua and Barbuda\", \"Australia\", \"Belize\", \"Cabo Verde\", \"Canada\", \"Chile\", \"Cocos (Keeling) Islands (the)\", \"Cuba\", \"El Salvador\", \"Fiji\", \"French Guiana\", \"Gambia (the)\", \"Guam\", \"India\", \"Japan\", \"Libya\", \"Madagascar\", \"Maldives\", \"Marshall Islands (the)\", \"Mauritius\", \"Mexico\", \"Micronesia (Federated States of)\", \"New Caledonia\", \"Nicaragua\", \"Northern Mariana Islands (the)\", \"Palau\", \"Papua New Guinea\", \"Philippines (the)\", \"Portugal\", \"Russian Federation (the)\", \"Solomon Islands\", \"Sri Lanka\", \"Taiwan (Province of China)\", \"United States of America (the)\", \"Vanuatu\", \"Viet Nam\", \"Wallis and Futuna\", \"Yemen\"], \"ids\": [\"ATG\", \"AUS\", \"BLZ\", \"CPV\", \"CAN\", \"CHL\", \"CCK\", \"CUB\", \"SLV\", \"FJI\", \"GUF\", \"GMB\", \"GUM\", \"IND\", \"JPN\", \"LBY\", \"MDG\", \"MDV\", \"MHL\", \"MUS\", \"MEX\", \"FSM\", \"NCL\", \"NIC\", \"MNP\", \"PLW\", \"PNG\", \"PHL\", \"PRT\", \"RUS\", \"SLB\", \"LKA\", \"TWN\", \"USA\", \"VUT\", \"VNM\", \"WLF\", \"YEM\"], \"locations\": [\"ATG\", \"AUS\", \"BLZ\", \"CPV\", \"CAN\", \"CHL\", \"CCK\", \"CUB\", \"SLV\", \"FJI\", \"GUF\", \"GMB\", \"GUM\", \"IND\", \"JPN\", \"LBY\", \"MDG\", \"MDV\", \"MHL\", \"MUS\", \"MEX\", \"FSM\", \"NCL\", \"NIC\", \"MNP\", \"PLW\", \"PNG\", \"PHL\", \"PRT\", \"RUS\", \"SLB\", \"LKA\", \"TWN\", \"USA\", \"VUT\", \"VNM\", \"WLF\", \"YEM\"], \"name\": \"\", \"z\": [4, 100, 3, 57, 4, 1, 58, 3, 6, 26, 18, 3, 34, 62, 25, 1, 25, 41, 57, 58, 294, 126, 19, 3, 55, 25, 24, 109, 6, 1, 26, 12, 3, 55, 30, 14, 25, 5], \"type\": \"choropleth\"}], \"name\": \"2018\"}, {\"data\": [{\"coloraxis\": \"coloraxis\", \"geo\": \"geo\", \"hoverlabel\": {\"namelength\": 0}, \"hovertemplate\": \"<b>%{hovertext}</b><br><br>year=2019<br>ISO3=%{location}<br>Number of Cyclones=%{z}\", \"hovertext\": [\"Antigua and Barbuda\", \"Australia\", \"Bahamas (the)\", \"Bermuda\", \"Cabo Verde\", \"China\", \"Cocos (Keeling) Islands (the)\", \"Fiji\", \"French Guiana\", \"India\", \"Indonesia\", \"Japan\", \"Madagascar\", \"Maldives\", \"Marshall Islands (the)\", \"Mauritius\", \"Mexico\", \"Micronesia (Federated States of)\", \"Mozambique\", \"New Caledonia\", \"Northern Mariana Islands (the)\", \"Papua New Guinea\", \"Philippines (the)\", \"Portugal\", \"Saint Pierre and Miquelon\", \"Seychelles\", \"Solomon Islands\", \"Timor-Leste\", \"Trinidad and Tobago\", \"United States of America (the)\", \"Vanuatu\", \"Viet Nam\", \"Wallis and Futuna\", \"Yemen\"], \"ids\": [\"ATG\", \"AUS\", \"BHS\", \"BMU\", \"CPV\", \"CHN\", \"CCK\", \"FJI\", \"GUF\", \"IND\", \"IDN\", \"JPN\", \"MDG\", \"MDV\", \"MHL\", \"MUS\", \"MEX\", \"FSM\", \"MOZ\", \"NCL\", \"MNP\", \"PNG\", \"PHL\", \"PRT\", \"SPM\", \"SYC\", \"SLB\", \"TLS\", \"TTO\", \"USA\", \"VUT\", \"VNM\", \"WLF\", \"YEM\"], \"locations\": [\"ATG\", \"AUS\", \"BHS\", \"BMU\", \"CPV\", \"CHN\", \"CCK\", \"FJI\", \"GUF\", \"IND\", \"IDN\", \"JPN\", \"MDG\", \"MDV\", \"MHL\", \"MUS\", \"MEX\", \"FSM\", \"MOZ\", \"NCL\", \"MNP\", \"PNG\", \"PHL\", \"PRT\", \"SPM\", \"SYC\", \"SLB\", \"TLS\", \"TTO\", \"USA\", \"VUT\", \"VNM\", \"WLF\", \"YEM\"], \"name\": \"\", \"z\": [5, 103, 10, 21, 59, 15, 59, 28, 20, 68, 42, 28, 27, 43, 60, 61, 309, 132, 11, 20, 58, 25, 118, 9, 1, 8, 27, 3, 3, 61, 31, 16, 26, 6], \"type\": \"choropleth\"}], \"name\": \"2019\"}, {\"data\": [{\"coloraxis\": \"coloraxis\", \"geo\": \"geo\", \"hoverlabel\": {\"namelength\": 0}, \"hovertemplate\": \"<b>%{hovertext}</b><br><br>year=2020<br>ISO3=%{location}<br>Number of Cyclones=%{z}\", \"hovertext\": [\"Australia\", \"Fiji\", \"Indonesia\", \"Madagascar\", \"Mauritius\", \"Samoa\", \"Vanuatu\", \"Wallis and Futuna\"], \"ids\": [\"AUS\", \"FJI\", \"IDN\", \"MDG\", \"MUS\", \"WSM\", \"VUT\", \"WLF\"], \"locations\": [\"AUS\", \"FJI\", \"IDN\", \"MDG\", \"MUS\", \"WSM\", \"VUT\", \"WLF\"], \"name\": \"\", \"z\": [109, 29, 43, 29, 64, 3, 32, 27], \"type\": \"choropleth\"}], \"name\": \"2020\"}]);\n",
       "                        }).then(function(){\n",
       "                            \n",
       "var gd = document.getElementById('f193aa8f-8f87-49d6-8655-ac25cf63a539');\n",
       "var x = new MutationObserver(function (mutations, observer) {{\n",
       "        var display = window.getComputedStyle(gd).display;\n",
       "        if (!display || display === 'none') {{\n",
       "            console.log([gd, 'removed!']);\n",
       "            Plotly.purge(gd);\n",
       "            observer.disconnect();\n",
       "        }}\n",
       "}});\n",
       "\n",
       "// Listen for the removal of the full notebook cells\n",
       "var notebookContainer = gd.closest('#notebook-container');\n",
       "if (notebookContainer) {{\n",
       "    x.observe(notebookContainer, {childList: true});\n",
       "}}\n",
       "\n",
       "// Listen for the clearing of the current output cell\n",
       "var outputEl = gd.closest('.output');\n",
       "if (outputEl) {{\n",
       "    x.observe(outputEl, {childList: true});\n",
       "}}\n",
       "\n",
       "                        })\n",
       "                };\n",
       "                });\n",
       "            </script>\n",
       "        </div>"
      ]
     },
     "metadata": {},
     "output_type": "display_data"
    }
   ],
   "source": [
    "fig= px.choropleth(cycl_country, \n",
    "                   locations=\"ISO3\", \n",
    "                   color=\"Number of Cyclones\", \n",
    "                   hover_name=\"Country\",\n",
    "                   animation_frame=\"year\",\n",
    "                   animation_group=\"ISO3\",\n",
    "                   projection=\"robinson\",\n",
    "                   color_continuous_scale = oslorev\n",
    "                   )\n",
    "                \n",
    "\n",
    "fig.update_layout(\n",
    "    title_text = 'Number of cyclones per Country and year (cummulative)'\n",
    "    #marker_line_color='white'# Create a Title\n",
    "    #geo_scope='usa',  # Plot only the USA instead of globe\n",
    ")\n",
    "fig.show() \n"
   ]
  },
  {
   "cell_type": "code",
   "execution_count": 123,
   "metadata": {},
   "outputs": [],
   "source": [
    "cycl_c = (cycl_country\n",
    "          .groupby([\"Country\", \"ISO3\"])[[\"Number of Cyclones\"]]\n",
    "          .max()\n",
    "          .reset_index())"
   ]
  },
  {
   "cell_type": "code",
   "execution_count": 124,
   "metadata": {},
   "outputs": [
    {
     "data": {
      "text/html": [
       "<div>\n",
       "<style scoped>\n",
       "    .dataframe tbody tr th:only-of-type {\n",
       "        vertical-align: middle;\n",
       "    }\n",
       "\n",
       "    .dataframe tbody tr th {\n",
       "        vertical-align: top;\n",
       "    }\n",
       "\n",
       "    .dataframe thead th {\n",
       "        text-align: right;\n",
       "    }\n",
       "</style>\n",
       "<table border=\"1\" class=\"dataframe\">\n",
       "  <thead>\n",
       "    <tr style=\"text-align: right;\">\n",
       "      <th></th>\n",
       "      <th>Country</th>\n",
       "      <th>ISO3</th>\n",
       "      <th>Number of Cyclones</th>\n",
       "    </tr>\n",
       "  </thead>\n",
       "  <tbody>\n",
       "    <tr>\n",
       "      <td>0</td>\n",
       "      <td>American Samoa</td>\n",
       "      <td>ASM</td>\n",
       "      <td>15</td>\n",
       "    </tr>\n",
       "    <tr>\n",
       "      <td>1</td>\n",
       "      <td>Anguilla</td>\n",
       "      <td>AIA</td>\n",
       "      <td>3</td>\n",
       "    </tr>\n",
       "    <tr>\n",
       "      <td>2</td>\n",
       "      <td>Antigua and Barbuda</td>\n",
       "      <td>ATG</td>\n",
       "      <td>5</td>\n",
       "    </tr>\n",
       "    <tr>\n",
       "      <td>3</td>\n",
       "      <td>Aruba</td>\n",
       "      <td>ABW</td>\n",
       "      <td>1</td>\n",
       "    </tr>\n",
       "    <tr>\n",
       "      <td>4</td>\n",
       "      <td>Australia</td>\n",
       "      <td>AUS</td>\n",
       "      <td>109</td>\n",
       "    </tr>\n",
       "  </tbody>\n",
       "</table>\n",
       "</div>"
      ],
      "text/plain": [
       "               Country ISO3  Number of Cyclones\n",
       "0       American Samoa  ASM                  15\n",
       "1             Anguilla  AIA                   3\n",
       "2  Antigua and Barbuda  ATG                   5\n",
       "3                Aruba  ABW                   1\n",
       "4            Australia  AUS                 109"
      ]
     },
     "execution_count": 124,
     "metadata": {},
     "output_type": "execute_result"
    }
   ],
   "source": [
    "cycl_c.head()"
   ]
  },
  {
   "cell_type": "code",
   "execution_count": 125,
   "metadata": {},
   "outputs": [
    {
     "data": {
      "application/vnd.plotly.v1+json": {
       "config": {
        "plotlyServerURL": "https://plot.ly"
       },
       "data": [
        {
         "coloraxis": "coloraxis",
         "geo": "geo",
         "hoverlabel": {
          "namelength": 0
         },
         "hovertemplate": "<b>%{hovertext}</b><br><br>ISO3=%{location}<br>Number of Cyclones=%{z}",
         "hovertext": [
          "American Samoa",
          "Anguilla",
          "Antigua and Barbuda",
          "Aruba",
          "Australia",
          "Bahamas (the)",
          "Bangladesh",
          "Barbados",
          "Belize",
          "Bermuda",
          "Bonaire, Sint Eustatius and Saba",
          "Brazil",
          "Cabo Verde",
          "Canada",
          "Cayman Islands (the)",
          "Chile",
          "China",
          "Christmas Island",
          "Cocos (Keeling) Islands (the)",
          "Colombia",
          "Comoros (the)",
          "Cook Islands (the)",
          "Costa Rica",
          "Cuba",
          "Dominica",
          "Dominican Republic (the)",
          "El Salvador",
          "Fiji",
          "French Guiana",
          "French Polynesia",
          "Gambia (the)",
          "Ghana",
          "Grenada",
          "Guadeloupe",
          "Guam",
          "Guatemala",
          "Guinea-Bissau",
          "Guyana",
          "Honduras",
          "India",
          "Indonesia",
          "Jamaica",
          "Japan",
          "Kiribati",
          "Korea (the Republic of)",
          "Libya",
          "Madagascar",
          "Malaysia",
          "Maldives",
          "Marshall Islands (the)",
          "Martinique",
          "Mauritius",
          "Mexico",
          "Micronesia (Federated States of)",
          "Mozambique",
          "Myanmar",
          "New Caledonia",
          "Nicaragua",
          "Niue",
          "Northern Mariana Islands (the)",
          "Oman",
          "Pakistan",
          "Palau",
          "Panama",
          "Papua New Guinea",
          "Philippines (the)",
          "Portugal",
          "Puerto Rico",
          "Russian Federation (the)",
          "Réunion",
          "Saint Pierre and Miquelon",
          "Saint Vincent and the Grenadines",
          "Samoa",
          "Senegal",
          "Seychelles",
          "Solomon Islands",
          "Somalia",
          "South Africa",
          "Sri Lanka",
          "Taiwan (Province of China)",
          "Thailand",
          "Timor-Leste",
          "Tokelau",
          "Tonga",
          "Trinidad and Tobago",
          "Turks and Caicos Islands (the)",
          "United States of America (the)",
          "Vanuatu",
          "Viet Nam",
          "Virgin Islands (British)",
          "Virgin Islands (U.S.)",
          "Wallis and Futuna",
          "Yemen"
         ],
         "locations": [
          "ASM",
          "AIA",
          "ATG",
          "ABW",
          "AUS",
          "BHS",
          "BGD",
          "BRB",
          "BLZ",
          "BMU",
          "BES",
          "BRA",
          "CPV",
          "CAN",
          "CYM",
          "CHL",
          "CHN",
          "CXR",
          "CCK",
          "COL",
          "COM",
          "COK",
          "CRI",
          "CUB",
          "DMA",
          "DOM",
          "SLV",
          "FJI",
          "GUF",
          "PYF",
          "GMB",
          "GHA",
          "GRD",
          "GLP",
          "GUM",
          "GTM",
          "GNB",
          "GUY",
          "HND",
          "IND",
          "IDN",
          "JAM",
          "JPN",
          "KIR",
          "KOR",
          "LBY",
          "MDG",
          "MYS",
          "MDV",
          "MHL",
          "MTQ",
          "MUS",
          "MEX",
          "FSM",
          "MOZ",
          "MMR",
          "NCL",
          "NIC",
          "NIU",
          "MNP",
          "OMN",
          "PAK",
          "PLW",
          "PAN",
          "PNG",
          "PHL",
          "PRT",
          "PRI",
          "RUS",
          "REU",
          "SPM",
          "VCT",
          "WSM",
          "SEN",
          "SYC",
          "SLB",
          "SOM",
          "ZAF",
          "LKA",
          "TWN",
          "THA",
          "TLS",
          "TKL",
          "TON",
          "TTO",
          "TCA",
          "USA",
          "VUT",
          "VNM",
          "VGB",
          "VIR",
          "WLF",
          "YEM"
         ],
         "name": "",
         "type": "choropleth",
         "z": [
          15,
          3,
          5,
          1,
          109,
          10,
          1,
          8,
          3,
          21,
          1,
          3,
          59,
          4,
          1,
          1,
          15,
          9,
          59,
          8,
          1,
          13,
          3,
          3,
          1,
          1,
          6,
          29,
          20,
          16,
          3,
          2,
          1,
          8,
          34,
          8,
          3,
          1,
          7,
          68,
          43,
          3,
          28,
          10,
          1,
          1,
          29,
          1,
          43,
          60,
          1,
          64,
          309,
          132,
          11,
          3,
          20,
          3,
          4,
          58,
          1,
          1,
          25,
          1,
          25,
          118,
          9,
          3,
          1,
          2,
          1,
          1,
          3,
          2,
          8,
          27,
          1,
          1,
          12,
          3,
          3,
          3,
          6,
          23,
          3,
          4,
          61,
          32,
          16,
          1,
          1,
          27,
          6
         ]
        }
       ],
       "layout": {
        "coloraxis": {
         "colorbar": {
          "title": {
           "text": "Number of Cyclones"
          }
         },
         "colorscale": [
          [
           0,
           "#fcffa4"
          ],
          [
           0.1111111111111111,
           "#f7d13d"
          ],
          [
           0.2222222222222222,
           "#fb9b06"
          ],
          [
           0.3333333333333333,
           "#ed6925"
          ],
          [
           0.4444444444444444,
           "#cf4446"
          ],
          [
           0.5555555555555556,
           "#a52c60"
          ],
          [
           0.6666666666666666,
           "#781c6d"
          ],
          [
           0.7777777777777778,
           "#4a0c6b"
          ],
          [
           0.8888888888888888,
           "#1b0c41"
          ],
          [
           1,
           "#000004"
          ]
         ]
        },
        "geo": {
         "center": {},
         "domain": {
          "x": [
           0,
           0.98
          ],
          "y": [
           0,
           1
          ]
         },
         "projection": {
          "type": "robinson"
         }
        },
        "height": 600,
        "legend": {
         "tracegroupgap": 0
        },
        "margin": {
         "t": 60
        },
        "template": {
         "data": {
          "bar": [
           {
            "error_x": {
             "color": "#2a3f5f"
            },
            "error_y": {
             "color": "#2a3f5f"
            },
            "marker": {
             "line": {
              "color": "#E5ECF6",
              "width": 0.5
             }
            },
            "type": "bar"
           }
          ],
          "barpolar": [
           {
            "marker": {
             "line": {
              "color": "#E5ECF6",
              "width": 0.5
             }
            },
            "type": "barpolar"
           }
          ],
          "carpet": [
           {
            "aaxis": {
             "endlinecolor": "#2a3f5f",
             "gridcolor": "white",
             "linecolor": "white",
             "minorgridcolor": "white",
             "startlinecolor": "#2a3f5f"
            },
            "baxis": {
             "endlinecolor": "#2a3f5f",
             "gridcolor": "white",
             "linecolor": "white",
             "minorgridcolor": "white",
             "startlinecolor": "#2a3f5f"
            },
            "type": "carpet"
           }
          ],
          "choropleth": [
           {
            "colorbar": {
             "outlinewidth": 0,
             "ticks": ""
            },
            "type": "choropleth"
           }
          ],
          "contour": [
           {
            "colorbar": {
             "outlinewidth": 0,
             "ticks": ""
            },
            "colorscale": [
             [
              0,
              "#0d0887"
             ],
             [
              0.1111111111111111,
              "#46039f"
             ],
             [
              0.2222222222222222,
              "#7201a8"
             ],
             [
              0.3333333333333333,
              "#9c179e"
             ],
             [
              0.4444444444444444,
              "#bd3786"
             ],
             [
              0.5555555555555556,
              "#d8576b"
             ],
             [
              0.6666666666666666,
              "#ed7953"
             ],
             [
              0.7777777777777778,
              "#fb9f3a"
             ],
             [
              0.8888888888888888,
              "#fdca26"
             ],
             [
              1,
              "#f0f921"
             ]
            ],
            "type": "contour"
           }
          ],
          "contourcarpet": [
           {
            "colorbar": {
             "outlinewidth": 0,
             "ticks": ""
            },
            "type": "contourcarpet"
           }
          ],
          "heatmap": [
           {
            "colorbar": {
             "outlinewidth": 0,
             "ticks": ""
            },
            "colorscale": [
             [
              0,
              "#0d0887"
             ],
             [
              0.1111111111111111,
              "#46039f"
             ],
             [
              0.2222222222222222,
              "#7201a8"
             ],
             [
              0.3333333333333333,
              "#9c179e"
             ],
             [
              0.4444444444444444,
              "#bd3786"
             ],
             [
              0.5555555555555556,
              "#d8576b"
             ],
             [
              0.6666666666666666,
              "#ed7953"
             ],
             [
              0.7777777777777778,
              "#fb9f3a"
             ],
             [
              0.8888888888888888,
              "#fdca26"
             ],
             [
              1,
              "#f0f921"
             ]
            ],
            "type": "heatmap"
           }
          ],
          "heatmapgl": [
           {
            "colorbar": {
             "outlinewidth": 0,
             "ticks": ""
            },
            "colorscale": [
             [
              0,
              "#0d0887"
             ],
             [
              0.1111111111111111,
              "#46039f"
             ],
             [
              0.2222222222222222,
              "#7201a8"
             ],
             [
              0.3333333333333333,
              "#9c179e"
             ],
             [
              0.4444444444444444,
              "#bd3786"
             ],
             [
              0.5555555555555556,
              "#d8576b"
             ],
             [
              0.6666666666666666,
              "#ed7953"
             ],
             [
              0.7777777777777778,
              "#fb9f3a"
             ],
             [
              0.8888888888888888,
              "#fdca26"
             ],
             [
              1,
              "#f0f921"
             ]
            ],
            "type": "heatmapgl"
           }
          ],
          "histogram": [
           {
            "marker": {
             "colorbar": {
              "outlinewidth": 0,
              "ticks": ""
             }
            },
            "type": "histogram"
           }
          ],
          "histogram2d": [
           {
            "colorbar": {
             "outlinewidth": 0,
             "ticks": ""
            },
            "colorscale": [
             [
              0,
              "#0d0887"
             ],
             [
              0.1111111111111111,
              "#46039f"
             ],
             [
              0.2222222222222222,
              "#7201a8"
             ],
             [
              0.3333333333333333,
              "#9c179e"
             ],
             [
              0.4444444444444444,
              "#bd3786"
             ],
             [
              0.5555555555555556,
              "#d8576b"
             ],
             [
              0.6666666666666666,
              "#ed7953"
             ],
             [
              0.7777777777777778,
              "#fb9f3a"
             ],
             [
              0.8888888888888888,
              "#fdca26"
             ],
             [
              1,
              "#f0f921"
             ]
            ],
            "type": "histogram2d"
           }
          ],
          "histogram2dcontour": [
           {
            "colorbar": {
             "outlinewidth": 0,
             "ticks": ""
            },
            "colorscale": [
             [
              0,
              "#0d0887"
             ],
             [
              0.1111111111111111,
              "#46039f"
             ],
             [
              0.2222222222222222,
              "#7201a8"
             ],
             [
              0.3333333333333333,
              "#9c179e"
             ],
             [
              0.4444444444444444,
              "#bd3786"
             ],
             [
              0.5555555555555556,
              "#d8576b"
             ],
             [
              0.6666666666666666,
              "#ed7953"
             ],
             [
              0.7777777777777778,
              "#fb9f3a"
             ],
             [
              0.8888888888888888,
              "#fdca26"
             ],
             [
              1,
              "#f0f921"
             ]
            ],
            "type": "histogram2dcontour"
           }
          ],
          "mesh3d": [
           {
            "colorbar": {
             "outlinewidth": 0,
             "ticks": ""
            },
            "type": "mesh3d"
           }
          ],
          "parcoords": [
           {
            "line": {
             "colorbar": {
              "outlinewidth": 0,
              "ticks": ""
             }
            },
            "type": "parcoords"
           }
          ],
          "scatter": [
           {
            "marker": {
             "colorbar": {
              "outlinewidth": 0,
              "ticks": ""
             }
            },
            "type": "scatter"
           }
          ],
          "scatter3d": [
           {
            "line": {
             "colorbar": {
              "outlinewidth": 0,
              "ticks": ""
             }
            },
            "marker": {
             "colorbar": {
              "outlinewidth": 0,
              "ticks": ""
             }
            },
            "type": "scatter3d"
           }
          ],
          "scattercarpet": [
           {
            "marker": {
             "colorbar": {
              "outlinewidth": 0,
              "ticks": ""
             }
            },
            "type": "scattercarpet"
           }
          ],
          "scattergeo": [
           {
            "marker": {
             "colorbar": {
              "outlinewidth": 0,
              "ticks": ""
             }
            },
            "type": "scattergeo"
           }
          ],
          "scattergl": [
           {
            "marker": {
             "colorbar": {
              "outlinewidth": 0,
              "ticks": ""
             }
            },
            "type": "scattergl"
           }
          ],
          "scattermapbox": [
           {
            "marker": {
             "colorbar": {
              "outlinewidth": 0,
              "ticks": ""
             }
            },
            "type": "scattermapbox"
           }
          ],
          "scatterpolar": [
           {
            "marker": {
             "colorbar": {
              "outlinewidth": 0,
              "ticks": ""
             }
            },
            "type": "scatterpolar"
           }
          ],
          "scatterpolargl": [
           {
            "marker": {
             "colorbar": {
              "outlinewidth": 0,
              "ticks": ""
             }
            },
            "type": "scatterpolargl"
           }
          ],
          "scatterternary": [
           {
            "marker": {
             "colorbar": {
              "outlinewidth": 0,
              "ticks": ""
             }
            },
            "type": "scatterternary"
           }
          ],
          "surface": [
           {
            "colorbar": {
             "outlinewidth": 0,
             "ticks": ""
            },
            "colorscale": [
             [
              0,
              "#0d0887"
             ],
             [
              0.1111111111111111,
              "#46039f"
             ],
             [
              0.2222222222222222,
              "#7201a8"
             ],
             [
              0.3333333333333333,
              "#9c179e"
             ],
             [
              0.4444444444444444,
              "#bd3786"
             ],
             [
              0.5555555555555556,
              "#d8576b"
             ],
             [
              0.6666666666666666,
              "#ed7953"
             ],
             [
              0.7777777777777778,
              "#fb9f3a"
             ],
             [
              0.8888888888888888,
              "#fdca26"
             ],
             [
              1,
              "#f0f921"
             ]
            ],
            "type": "surface"
           }
          ],
          "table": [
           {
            "cells": {
             "fill": {
              "color": "#EBF0F8"
             },
             "line": {
              "color": "white"
             }
            },
            "header": {
             "fill": {
              "color": "#C8D4E3"
             },
             "line": {
              "color": "white"
             }
            },
            "type": "table"
           }
          ]
         },
         "layout": {
          "annotationdefaults": {
           "arrowcolor": "#2a3f5f",
           "arrowhead": 0,
           "arrowwidth": 1
          },
          "colorscale": {
           "diverging": [
            [
             0,
             "#8e0152"
            ],
            [
             0.1,
             "#c51b7d"
            ],
            [
             0.2,
             "#de77ae"
            ],
            [
             0.3,
             "#f1b6da"
            ],
            [
             0.4,
             "#fde0ef"
            ],
            [
             0.5,
             "#f7f7f7"
            ],
            [
             0.6,
             "#e6f5d0"
            ],
            [
             0.7,
             "#b8e186"
            ],
            [
             0.8,
             "#7fbc41"
            ],
            [
             0.9,
             "#4d9221"
            ],
            [
             1,
             "#276419"
            ]
           ],
           "sequential": [
            [
             0,
             "#0d0887"
            ],
            [
             0.1111111111111111,
             "#46039f"
            ],
            [
             0.2222222222222222,
             "#7201a8"
            ],
            [
             0.3333333333333333,
             "#9c179e"
            ],
            [
             0.4444444444444444,
             "#bd3786"
            ],
            [
             0.5555555555555556,
             "#d8576b"
            ],
            [
             0.6666666666666666,
             "#ed7953"
            ],
            [
             0.7777777777777778,
             "#fb9f3a"
            ],
            [
             0.8888888888888888,
             "#fdca26"
            ],
            [
             1,
             "#f0f921"
            ]
           ],
           "sequentialminus": [
            [
             0,
             "#0d0887"
            ],
            [
             0.1111111111111111,
             "#46039f"
            ],
            [
             0.2222222222222222,
             "#7201a8"
            ],
            [
             0.3333333333333333,
             "#9c179e"
            ],
            [
             0.4444444444444444,
             "#bd3786"
            ],
            [
             0.5555555555555556,
             "#d8576b"
            ],
            [
             0.6666666666666666,
             "#ed7953"
            ],
            [
             0.7777777777777778,
             "#fb9f3a"
            ],
            [
             0.8888888888888888,
             "#fdca26"
            ],
            [
             1,
             "#f0f921"
            ]
           ]
          },
          "colorway": [
           "#636efa",
           "#EF553B",
           "#00cc96",
           "#ab63fa",
           "#FFA15A",
           "#19d3f3",
           "#FF6692",
           "#B6E880",
           "#FF97FF",
           "#FECB52"
          ],
          "font": {
           "color": "#2a3f5f"
          },
          "geo": {
           "bgcolor": "white",
           "lakecolor": "white",
           "landcolor": "#E5ECF6",
           "showlakes": true,
           "showland": true,
           "subunitcolor": "white"
          },
          "hoverlabel": {
           "align": "left"
          },
          "hovermode": "closest",
          "mapbox": {
           "style": "light"
          },
          "paper_bgcolor": "white",
          "plot_bgcolor": "#E5ECF6",
          "polar": {
           "angularaxis": {
            "gridcolor": "white",
            "linecolor": "white",
            "ticks": ""
           },
           "bgcolor": "#E5ECF6",
           "radialaxis": {
            "gridcolor": "white",
            "linecolor": "white",
            "ticks": ""
           }
          },
          "scene": {
           "xaxis": {
            "backgroundcolor": "#E5ECF6",
            "gridcolor": "white",
            "gridwidth": 2,
            "linecolor": "white",
            "showbackground": true,
            "ticks": "",
            "zerolinecolor": "white"
           },
           "yaxis": {
            "backgroundcolor": "#E5ECF6",
            "gridcolor": "white",
            "gridwidth": 2,
            "linecolor": "white",
            "showbackground": true,
            "ticks": "",
            "zerolinecolor": "white"
           },
           "zaxis": {
            "backgroundcolor": "#E5ECF6",
            "gridcolor": "white",
            "gridwidth": 2,
            "linecolor": "white",
            "showbackground": true,
            "ticks": "",
            "zerolinecolor": "white"
           }
          },
          "shapedefaults": {
           "line": {
            "color": "#2a3f5f"
           }
          },
          "ternary": {
           "aaxis": {
            "gridcolor": "white",
            "linecolor": "white",
            "ticks": ""
           },
           "baxis": {
            "gridcolor": "white",
            "linecolor": "white",
            "ticks": ""
           },
           "bgcolor": "#E5ECF6",
           "caxis": {
            "gridcolor": "white",
            "linecolor": "white",
            "ticks": ""
           }
          },
          "title": {
           "x": 0.05
          },
          "xaxis": {
           "automargin": true,
           "gridcolor": "white",
           "linecolor": "white",
           "ticks": "",
           "zerolinecolor": "white",
           "zerolinewidth": 2
          },
          "yaxis": {
           "automargin": true,
           "gridcolor": "white",
           "linecolor": "white",
           "ticks": "",
           "zerolinecolor": "white",
           "zerolinewidth": 2
          }
         }
        },
        "title": {
         "text": "Number of cyclones per Country (1999-2020)"
        }
       }
      },
      "text/html": [
       "<div>\n",
       "        \n",
       "        \n",
       "            <div id=\"ce4b51b0-9ceb-448e-9565-00f1deba7255\" class=\"plotly-graph-div\" style=\"height:600px; width:100%;\"></div>\n",
       "            <script type=\"text/javascript\">\n",
       "                require([\"plotly\"], function(Plotly) {\n",
       "                    window.PLOTLYENV=window.PLOTLYENV || {};\n",
       "                    \n",
       "                if (document.getElementById(\"ce4b51b0-9ceb-448e-9565-00f1deba7255\")) {\n",
       "                    Plotly.newPlot(\n",
       "                        'ce4b51b0-9ceb-448e-9565-00f1deba7255',\n",
       "                        [{\"coloraxis\": \"coloraxis\", \"geo\": \"geo\", \"hoverlabel\": {\"namelength\": 0}, \"hovertemplate\": \"<b>%{hovertext}</b><br><br>ISO3=%{location}<br>Number of Cyclones=%{z}\", \"hovertext\": [\"American Samoa\", \"Anguilla\", \"Antigua and Barbuda\", \"Aruba\", \"Australia\", \"Bahamas (the)\", \"Bangladesh\", \"Barbados\", \"Belize\", \"Bermuda\", \"Bonaire, Sint Eustatius and Saba\", \"Brazil\", \"Cabo Verde\", \"Canada\", \"Cayman Islands (the)\", \"Chile\", \"China\", \"Christmas Island\", \"Cocos (Keeling) Islands (the)\", \"Colombia\", \"Comoros (the)\", \"Cook Islands (the)\", \"Costa Rica\", \"Cuba\", \"Dominica\", \"Dominican Republic (the)\", \"El Salvador\", \"Fiji\", \"French Guiana\", \"French Polynesia\", \"Gambia (the)\", \"Ghana\", \"Grenada\", \"Guadeloupe\", \"Guam\", \"Guatemala\", \"Guinea-Bissau\", \"Guyana\", \"Honduras\", \"India\", \"Indonesia\", \"Jamaica\", \"Japan\", \"Kiribati\", \"Korea (the Republic of)\", \"Libya\", \"Madagascar\", \"Malaysia\", \"Maldives\", \"Marshall Islands (the)\", \"Martinique\", \"Mauritius\", \"Mexico\", \"Micronesia (Federated States of)\", \"Mozambique\", \"Myanmar\", \"New Caledonia\", \"Nicaragua\", \"Niue\", \"Northern Mariana Islands (the)\", \"Oman\", \"Pakistan\", \"Palau\", \"Panama\", \"Papua New Guinea\", \"Philippines (the)\", \"Portugal\", \"Puerto Rico\", \"Russian Federation (the)\", \"R\\u00e9union\", \"Saint Pierre and Miquelon\", \"Saint Vincent and the Grenadines\", \"Samoa\", \"Senegal\", \"Seychelles\", \"Solomon Islands\", \"Somalia\", \"South Africa\", \"Sri Lanka\", \"Taiwan (Province of China)\", \"Thailand\", \"Timor-Leste\", \"Tokelau\", \"Tonga\", \"Trinidad and Tobago\", \"Turks and Caicos Islands (the)\", \"United States of America (the)\", \"Vanuatu\", \"Viet Nam\", \"Virgin Islands (British)\", \"Virgin Islands (U.S.)\", \"Wallis and Futuna\", \"Yemen\"], \"locations\": [\"ASM\", \"AIA\", \"ATG\", \"ABW\", \"AUS\", \"BHS\", \"BGD\", \"BRB\", \"BLZ\", \"BMU\", \"BES\", \"BRA\", \"CPV\", \"CAN\", \"CYM\", \"CHL\", \"CHN\", \"CXR\", \"CCK\", \"COL\", \"COM\", \"COK\", \"CRI\", \"CUB\", \"DMA\", \"DOM\", \"SLV\", \"FJI\", \"GUF\", \"PYF\", \"GMB\", \"GHA\", \"GRD\", \"GLP\", \"GUM\", \"GTM\", \"GNB\", \"GUY\", \"HND\", \"IND\", \"IDN\", \"JAM\", \"JPN\", \"KIR\", \"KOR\", \"LBY\", \"MDG\", \"MYS\", \"MDV\", \"MHL\", \"MTQ\", \"MUS\", \"MEX\", \"FSM\", \"MOZ\", \"MMR\", \"NCL\", \"NIC\", \"NIU\", \"MNP\", \"OMN\", \"PAK\", \"PLW\", \"PAN\", \"PNG\", \"PHL\", \"PRT\", \"PRI\", \"RUS\", \"REU\", \"SPM\", \"VCT\", \"WSM\", \"SEN\", \"SYC\", \"SLB\", \"SOM\", \"ZAF\", \"LKA\", \"TWN\", \"THA\", \"TLS\", \"TKL\", \"TON\", \"TTO\", \"TCA\", \"USA\", \"VUT\", \"VNM\", \"VGB\", \"VIR\", \"WLF\", \"YEM\"], \"name\": \"\", \"type\": \"choropleth\", \"z\": [15, 3, 5, 1, 109, 10, 1, 8, 3, 21, 1, 3, 59, 4, 1, 1, 15, 9, 59, 8, 1, 13, 3, 3, 1, 1, 6, 29, 20, 16, 3, 2, 1, 8, 34, 8, 3, 1, 7, 68, 43, 3, 28, 10, 1, 1, 29, 1, 43, 60, 1, 64, 309, 132, 11, 3, 20, 3, 4, 58, 1, 1, 25, 1, 25, 118, 9, 3, 1, 2, 1, 1, 3, 2, 8, 27, 1, 1, 12, 3, 3, 3, 6, 23, 3, 4, 61, 32, 16, 1, 1, 27, 6]}],\n",
       "                        {\"coloraxis\": {\"colorbar\": {\"title\": {\"text\": \"Number of Cyclones\"}}, \"colorscale\": [[0.0, \"#fcffa4\"], [0.1111111111111111, \"#f7d13d\"], [0.2222222222222222, \"#fb9b06\"], [0.3333333333333333, \"#ed6925\"], [0.4444444444444444, \"#cf4446\"], [0.5555555555555556, \"#a52c60\"], [0.6666666666666666, \"#781c6d\"], [0.7777777777777778, \"#4a0c6b\"], [0.8888888888888888, \"#1b0c41\"], [1.0, \"#000004\"]]}, \"geo\": {\"center\": {}, \"domain\": {\"x\": [0.0, 0.98], \"y\": [0.0, 1.0]}, \"projection\": {\"type\": \"robinson\"}}, \"height\": 600, \"legend\": {\"tracegroupgap\": 0}, \"margin\": {\"t\": 60}, \"template\": {\"data\": {\"bar\": [{\"error_x\": {\"color\": \"#2a3f5f\"}, \"error_y\": {\"color\": \"#2a3f5f\"}, \"marker\": {\"line\": {\"color\": \"#E5ECF6\", \"width\": 0.5}}, \"type\": \"bar\"}], \"barpolar\": [{\"marker\": {\"line\": {\"color\": \"#E5ECF6\", \"width\": 0.5}}, \"type\": \"barpolar\"}], \"carpet\": [{\"aaxis\": {\"endlinecolor\": \"#2a3f5f\", \"gridcolor\": \"white\", \"linecolor\": \"white\", \"minorgridcolor\": \"white\", \"startlinecolor\": \"#2a3f5f\"}, \"baxis\": {\"endlinecolor\": \"#2a3f5f\", \"gridcolor\": \"white\", \"linecolor\": \"white\", \"minorgridcolor\": \"white\", \"startlinecolor\": \"#2a3f5f\"}, \"type\": \"carpet\"}], \"choropleth\": [{\"colorbar\": {\"outlinewidth\": 0, \"ticks\": \"\"}, \"type\": \"choropleth\"}], \"contour\": [{\"colorbar\": {\"outlinewidth\": 0, \"ticks\": \"\"}, \"colorscale\": [[0.0, \"#0d0887\"], [0.1111111111111111, \"#46039f\"], [0.2222222222222222, \"#7201a8\"], [0.3333333333333333, \"#9c179e\"], [0.4444444444444444, \"#bd3786\"], [0.5555555555555556, \"#d8576b\"], [0.6666666666666666, \"#ed7953\"], [0.7777777777777778, \"#fb9f3a\"], [0.8888888888888888, \"#fdca26\"], [1.0, \"#f0f921\"]], \"type\": \"contour\"}], \"contourcarpet\": [{\"colorbar\": {\"outlinewidth\": 0, \"ticks\": \"\"}, \"type\": \"contourcarpet\"}], \"heatmap\": [{\"colorbar\": {\"outlinewidth\": 0, \"ticks\": \"\"}, \"colorscale\": [[0.0, \"#0d0887\"], [0.1111111111111111, \"#46039f\"], [0.2222222222222222, \"#7201a8\"], [0.3333333333333333, \"#9c179e\"], [0.4444444444444444, \"#bd3786\"], [0.5555555555555556, \"#d8576b\"], [0.6666666666666666, \"#ed7953\"], [0.7777777777777778, \"#fb9f3a\"], [0.8888888888888888, \"#fdca26\"], [1.0, \"#f0f921\"]], \"type\": \"heatmap\"}], \"heatmapgl\": [{\"colorbar\": {\"outlinewidth\": 0, \"ticks\": \"\"}, \"colorscale\": [[0.0, \"#0d0887\"], [0.1111111111111111, \"#46039f\"], [0.2222222222222222, \"#7201a8\"], [0.3333333333333333, \"#9c179e\"], [0.4444444444444444, \"#bd3786\"], [0.5555555555555556, \"#d8576b\"], [0.6666666666666666, \"#ed7953\"], [0.7777777777777778, \"#fb9f3a\"], [0.8888888888888888, \"#fdca26\"], [1.0, \"#f0f921\"]], \"type\": \"heatmapgl\"}], \"histogram\": [{\"marker\": {\"colorbar\": {\"outlinewidth\": 0, \"ticks\": \"\"}}, \"type\": \"histogram\"}], \"histogram2d\": [{\"colorbar\": {\"outlinewidth\": 0, \"ticks\": \"\"}, \"colorscale\": [[0.0, \"#0d0887\"], [0.1111111111111111, \"#46039f\"], [0.2222222222222222, \"#7201a8\"], [0.3333333333333333, \"#9c179e\"], [0.4444444444444444, \"#bd3786\"], [0.5555555555555556, \"#d8576b\"], [0.6666666666666666, \"#ed7953\"], [0.7777777777777778, \"#fb9f3a\"], [0.8888888888888888, \"#fdca26\"], [1.0, \"#f0f921\"]], \"type\": \"histogram2d\"}], \"histogram2dcontour\": [{\"colorbar\": {\"outlinewidth\": 0, \"ticks\": \"\"}, \"colorscale\": [[0.0, \"#0d0887\"], [0.1111111111111111, \"#46039f\"], [0.2222222222222222, \"#7201a8\"], [0.3333333333333333, \"#9c179e\"], [0.4444444444444444, \"#bd3786\"], [0.5555555555555556, \"#d8576b\"], [0.6666666666666666, \"#ed7953\"], [0.7777777777777778, \"#fb9f3a\"], [0.8888888888888888, \"#fdca26\"], [1.0, \"#f0f921\"]], \"type\": \"histogram2dcontour\"}], \"mesh3d\": [{\"colorbar\": {\"outlinewidth\": 0, \"ticks\": \"\"}, \"type\": \"mesh3d\"}], \"parcoords\": [{\"line\": {\"colorbar\": {\"outlinewidth\": 0, \"ticks\": \"\"}}, \"type\": \"parcoords\"}], \"scatter\": [{\"marker\": {\"colorbar\": {\"outlinewidth\": 0, \"ticks\": \"\"}}, \"type\": \"scatter\"}], \"scatter3d\": [{\"line\": {\"colorbar\": {\"outlinewidth\": 0, \"ticks\": \"\"}}, \"marker\": {\"colorbar\": {\"outlinewidth\": 0, \"ticks\": \"\"}}, \"type\": \"scatter3d\"}], \"scattercarpet\": [{\"marker\": {\"colorbar\": {\"outlinewidth\": 0, \"ticks\": \"\"}}, \"type\": \"scattercarpet\"}], \"scattergeo\": [{\"marker\": {\"colorbar\": {\"outlinewidth\": 0, \"ticks\": \"\"}}, \"type\": \"scattergeo\"}], \"scattergl\": [{\"marker\": {\"colorbar\": {\"outlinewidth\": 0, \"ticks\": \"\"}}, \"type\": \"scattergl\"}], \"scattermapbox\": [{\"marker\": {\"colorbar\": {\"outlinewidth\": 0, \"ticks\": \"\"}}, \"type\": \"scattermapbox\"}], \"scatterpolar\": [{\"marker\": {\"colorbar\": {\"outlinewidth\": 0, \"ticks\": \"\"}}, \"type\": \"scatterpolar\"}], \"scatterpolargl\": [{\"marker\": {\"colorbar\": {\"outlinewidth\": 0, \"ticks\": \"\"}}, \"type\": \"scatterpolargl\"}], \"scatterternary\": [{\"marker\": {\"colorbar\": {\"outlinewidth\": 0, \"ticks\": \"\"}}, \"type\": \"scatterternary\"}], \"surface\": [{\"colorbar\": {\"outlinewidth\": 0, \"ticks\": \"\"}, \"colorscale\": [[0.0, \"#0d0887\"], [0.1111111111111111, \"#46039f\"], [0.2222222222222222, \"#7201a8\"], [0.3333333333333333, \"#9c179e\"], [0.4444444444444444, \"#bd3786\"], [0.5555555555555556, \"#d8576b\"], [0.6666666666666666, \"#ed7953\"], [0.7777777777777778, \"#fb9f3a\"], [0.8888888888888888, \"#fdca26\"], [1.0, \"#f0f921\"]], \"type\": \"surface\"}], \"table\": [{\"cells\": {\"fill\": {\"color\": \"#EBF0F8\"}, \"line\": {\"color\": \"white\"}}, \"header\": {\"fill\": {\"color\": \"#C8D4E3\"}, \"line\": {\"color\": \"white\"}}, \"type\": \"table\"}]}, \"layout\": {\"annotationdefaults\": {\"arrowcolor\": \"#2a3f5f\", \"arrowhead\": 0, \"arrowwidth\": 1}, \"colorscale\": {\"diverging\": [[0, \"#8e0152\"], [0.1, \"#c51b7d\"], [0.2, \"#de77ae\"], [0.3, \"#f1b6da\"], [0.4, \"#fde0ef\"], [0.5, \"#f7f7f7\"], [0.6, \"#e6f5d0\"], [0.7, \"#b8e186\"], [0.8, \"#7fbc41\"], [0.9, \"#4d9221\"], [1, \"#276419\"]], \"sequential\": [[0.0, \"#0d0887\"], [0.1111111111111111, \"#46039f\"], [0.2222222222222222, \"#7201a8\"], [0.3333333333333333, \"#9c179e\"], [0.4444444444444444, \"#bd3786\"], [0.5555555555555556, \"#d8576b\"], [0.6666666666666666, \"#ed7953\"], [0.7777777777777778, \"#fb9f3a\"], [0.8888888888888888, \"#fdca26\"], [1.0, \"#f0f921\"]], \"sequentialminus\": [[0.0, \"#0d0887\"], [0.1111111111111111, \"#46039f\"], [0.2222222222222222, \"#7201a8\"], [0.3333333333333333, \"#9c179e\"], [0.4444444444444444, \"#bd3786\"], [0.5555555555555556, \"#d8576b\"], [0.6666666666666666, \"#ed7953\"], [0.7777777777777778, \"#fb9f3a\"], [0.8888888888888888, \"#fdca26\"], [1.0, \"#f0f921\"]]}, \"colorway\": [\"#636efa\", \"#EF553B\", \"#00cc96\", \"#ab63fa\", \"#FFA15A\", \"#19d3f3\", \"#FF6692\", \"#B6E880\", \"#FF97FF\", \"#FECB52\"], \"font\": {\"color\": \"#2a3f5f\"}, \"geo\": {\"bgcolor\": \"white\", \"lakecolor\": \"white\", \"landcolor\": \"#E5ECF6\", \"showlakes\": true, \"showland\": true, \"subunitcolor\": \"white\"}, \"hoverlabel\": {\"align\": \"left\"}, \"hovermode\": \"closest\", \"mapbox\": {\"style\": \"light\"}, \"paper_bgcolor\": \"white\", \"plot_bgcolor\": \"#E5ECF6\", \"polar\": {\"angularaxis\": {\"gridcolor\": \"white\", \"linecolor\": \"white\", \"ticks\": \"\"}, \"bgcolor\": \"#E5ECF6\", \"radialaxis\": {\"gridcolor\": \"white\", \"linecolor\": \"white\", \"ticks\": \"\"}}, \"scene\": {\"xaxis\": {\"backgroundcolor\": \"#E5ECF6\", \"gridcolor\": \"white\", \"gridwidth\": 2, \"linecolor\": \"white\", \"showbackground\": true, \"ticks\": \"\", \"zerolinecolor\": \"white\"}, \"yaxis\": {\"backgroundcolor\": \"#E5ECF6\", \"gridcolor\": \"white\", \"gridwidth\": 2, \"linecolor\": \"white\", \"showbackground\": true, \"ticks\": \"\", \"zerolinecolor\": \"white\"}, \"zaxis\": {\"backgroundcolor\": \"#E5ECF6\", \"gridcolor\": \"white\", \"gridwidth\": 2, \"linecolor\": \"white\", \"showbackground\": true, \"ticks\": \"\", \"zerolinecolor\": \"white\"}}, \"shapedefaults\": {\"line\": {\"color\": \"#2a3f5f\"}}, \"ternary\": {\"aaxis\": {\"gridcolor\": \"white\", \"linecolor\": \"white\", \"ticks\": \"\"}, \"baxis\": {\"gridcolor\": \"white\", \"linecolor\": \"white\", \"ticks\": \"\"}, \"bgcolor\": \"#E5ECF6\", \"caxis\": {\"gridcolor\": \"white\", \"linecolor\": \"white\", \"ticks\": \"\"}}, \"title\": {\"x\": 0.05}, \"xaxis\": {\"automargin\": true, \"gridcolor\": \"white\", \"linecolor\": \"white\", \"ticks\": \"\", \"zerolinecolor\": \"white\", \"zerolinewidth\": 2}, \"yaxis\": {\"automargin\": true, \"gridcolor\": \"white\", \"linecolor\": \"white\", \"ticks\": \"\", \"zerolinecolor\": \"white\", \"zerolinewidth\": 2}}}, \"title\": {\"text\": \"Number of cyclones per Country (1999-2020)\"}},\n",
       "                        {\"responsive\": true}\n",
       "                    ).then(function(){\n",
       "                            \n",
       "var gd = document.getElementById('ce4b51b0-9ceb-448e-9565-00f1deba7255');\n",
       "var x = new MutationObserver(function (mutations, observer) {{\n",
       "        var display = window.getComputedStyle(gd).display;\n",
       "        if (!display || display === 'none') {{\n",
       "            console.log([gd, 'removed!']);\n",
       "            Plotly.purge(gd);\n",
       "            observer.disconnect();\n",
       "        }}\n",
       "}});\n",
       "\n",
       "// Listen for the removal of the full notebook cells\n",
       "var notebookContainer = gd.closest('#notebook-container');\n",
       "if (notebookContainer) {{\n",
       "    x.observe(notebookContainer, {childList: true});\n",
       "}}\n",
       "\n",
       "// Listen for the clearing of the current output cell\n",
       "var outputEl = gd.closest('.output');\n",
       "if (outputEl) {{\n",
       "    x.observe(outputEl, {childList: true});\n",
       "}}\n",
       "\n",
       "                        })\n",
       "                };\n",
       "                });\n",
       "            </script>\n",
       "        </div>"
      ]
     },
     "metadata": {},
     "output_type": "display_data"
    }
   ],
   "source": [
    "fig= px.choropleth(cycl_c, \n",
    "                   locations=\"ISO3\", \n",
    "                   color=\"Number of Cyclones\", \n",
    "                   hover_name=\"Country\",\n",
    "                   projection=\"robinson\",\n",
    "                   color_continuous_scale = px.colors.sequential.Inferno[::-1]\n",
    "                   )\n",
    "                \n",
    "\n",
    "fig.update_layout(\n",
    "    title_text = 'Number of cyclones per Country (1999-2020)'\n",
    "    #marker_line_color='white'# Create a Title\n",
    "    #geo_scope='usa',  # Plot only the USA instead of globe\n",
    ")\n",
    "fig.show() \n"
   ]
  },
  {
   "cell_type": "markdown",
   "metadata": {},
   "source": [
    "We can see that the most vulnerable region to Cyclones is Australia. However, many countries in South Asia and Pacific Islands show also vulnerability at this regard.  "
   ]
  },
  {
   "cell_type": "code",
   "execution_count": null,
   "metadata": {},
   "outputs": [],
   "source": []
  }
 ],
 "metadata": {
  "kernelspec": {
   "display_name": "Python 3",
   "language": "python",
   "name": "python3"
  },
  "language_info": {
   "codemirror_mode": {
    "name": "ipython",
    "version": 3
   },
   "file_extension": ".py",
   "mimetype": "text/x-python",
   "name": "python",
   "nbconvert_exporter": "python",
   "pygments_lexer": "ipython3",
   "version": "3.7.4"
  }
 },
 "nbformat": 4,
 "nbformat_minor": 2
}
