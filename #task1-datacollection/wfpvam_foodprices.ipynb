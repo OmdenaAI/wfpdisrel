{
 "cells": [
  {
   "cell_type": "code",
   "execution_count": 1,
   "metadata": {},
   "outputs": [],
   "source": [
    "import pandas as pd"
   ]
  },
  {
   "cell_type": "code",
   "execution_count": 3,
   "metadata": {},
   "outputs": [],
   "source": [
    "data = pd.read_csv('wfpvam_foodprices.csv')"
   ]
  },
  {
   "cell_type": "code",
   "execution_count": 5,
   "metadata": {},
   "outputs": [
    {
     "data": {
      "text/plain": [
       "Index(['adm0_id', 'adm0_name', 'adm1_id', 'adm1_name', 'mkt_id', 'mkt_name',\n",
       "       'cm_id', 'cm_name', 'cur_id', 'cur_name', 'pt_id', 'pt_name', 'um_id',\n",
       "       'um_name', 'mp_month', 'mp_year', 'mp_price', 'mp_commoditysource'],\n",
       "      dtype='object')"
      ]
     },
     "execution_count": 5,
     "metadata": {},
     "output_type": "execute_result"
    }
   ],
   "source": [
    "data.columns"
   ]
  },
  {
   "cell_type": "code",
   "execution_count": 25,
   "metadata": {},
   "outputs": [
    {
     "data": {
      "text/html": [
       "<div>\n",
       "<style scoped>\n",
       "    .dataframe tbody tr th:only-of-type {\n",
       "        vertical-align: middle;\n",
       "    }\n",
       "\n",
       "    .dataframe tbody tr th {\n",
       "        vertical-align: top;\n",
       "    }\n",
       "\n",
       "    .dataframe thead th {\n",
       "        text-align: right;\n",
       "    }\n",
       "</style>\n",
       "<table border=\"1\" class=\"dataframe\">\n",
       "  <thead>\n",
       "    <tr style=\"text-align: right;\">\n",
       "      <th></th>\n",
       "      <th>adm0_id</th>\n",
       "      <th>adm0_name</th>\n",
       "      <th>adm1_id</th>\n",
       "      <th>adm1_name</th>\n",
       "      <th>mkt_id</th>\n",
       "      <th>mkt_name</th>\n",
       "      <th>cm_id</th>\n",
       "      <th>cm_name</th>\n",
       "      <th>cur_id</th>\n",
       "      <th>cur_name</th>\n",
       "      <th>pt_id</th>\n",
       "      <th>pt_name</th>\n",
       "      <th>um_id</th>\n",
       "      <th>um_name</th>\n",
       "      <th>mp_month</th>\n",
       "      <th>mp_year</th>\n",
       "      <th>mp_price</th>\n",
       "      <th>mp_commoditysource</th>\n",
       "    </tr>\n",
       "  </thead>\n",
       "  <tbody>\n",
       "    <tr>\n",
       "      <td>0</td>\n",
       "      <td>1.0</td>\n",
       "      <td>Afghanistan</td>\n",
       "      <td>272</td>\n",
       "      <td>Badakhshan</td>\n",
       "      <td>266</td>\n",
       "      <td>Fayzabad</td>\n",
       "      <td>55</td>\n",
       "      <td>Bread - Retail</td>\n",
       "      <td>0.0</td>\n",
       "      <td>AFN</td>\n",
       "      <td>15</td>\n",
       "      <td>Retail</td>\n",
       "      <td>5</td>\n",
       "      <td>KG</td>\n",
       "      <td>1</td>\n",
       "      <td>2014</td>\n",
       "      <td>50.0</td>\n",
       "      <td>NaN</td>\n",
       "    </tr>\n",
       "    <tr>\n",
       "      <td>1</td>\n",
       "      <td>1.0</td>\n",
       "      <td>Afghanistan</td>\n",
       "      <td>272</td>\n",
       "      <td>Badakhshan</td>\n",
       "      <td>266</td>\n",
       "      <td>Fayzabad</td>\n",
       "      <td>55</td>\n",
       "      <td>Bread - Retail</td>\n",
       "      <td>0.0</td>\n",
       "      <td>AFN</td>\n",
       "      <td>15</td>\n",
       "      <td>Retail</td>\n",
       "      <td>5</td>\n",
       "      <td>KG</td>\n",
       "      <td>2</td>\n",
       "      <td>2014</td>\n",
       "      <td>50.0</td>\n",
       "      <td>NaN</td>\n",
       "    </tr>\n",
       "    <tr>\n",
       "      <td>2</td>\n",
       "      <td>1.0</td>\n",
       "      <td>Afghanistan</td>\n",
       "      <td>272</td>\n",
       "      <td>Badakhshan</td>\n",
       "      <td>266</td>\n",
       "      <td>Fayzabad</td>\n",
       "      <td>55</td>\n",
       "      <td>Bread - Retail</td>\n",
       "      <td>0.0</td>\n",
       "      <td>AFN</td>\n",
       "      <td>15</td>\n",
       "      <td>Retail</td>\n",
       "      <td>5</td>\n",
       "      <td>KG</td>\n",
       "      <td>3</td>\n",
       "      <td>2014</td>\n",
       "      <td>50.0</td>\n",
       "      <td>NaN</td>\n",
       "    </tr>\n",
       "    <tr>\n",
       "      <td>3</td>\n",
       "      <td>1.0</td>\n",
       "      <td>Afghanistan</td>\n",
       "      <td>272</td>\n",
       "      <td>Badakhshan</td>\n",
       "      <td>266</td>\n",
       "      <td>Fayzabad</td>\n",
       "      <td>55</td>\n",
       "      <td>Bread - Retail</td>\n",
       "      <td>0.0</td>\n",
       "      <td>AFN</td>\n",
       "      <td>15</td>\n",
       "      <td>Retail</td>\n",
       "      <td>5</td>\n",
       "      <td>KG</td>\n",
       "      <td>4</td>\n",
       "      <td>2014</td>\n",
       "      <td>50.0</td>\n",
       "      <td>NaN</td>\n",
       "    </tr>\n",
       "    <tr>\n",
       "      <td>4</td>\n",
       "      <td>1.0</td>\n",
       "      <td>Afghanistan</td>\n",
       "      <td>272</td>\n",
       "      <td>Badakhshan</td>\n",
       "      <td>266</td>\n",
       "      <td>Fayzabad</td>\n",
       "      <td>55</td>\n",
       "      <td>Bread - Retail</td>\n",
       "      <td>0.0</td>\n",
       "      <td>AFN</td>\n",
       "      <td>15</td>\n",
       "      <td>Retail</td>\n",
       "      <td>5</td>\n",
       "      <td>KG</td>\n",
       "      <td>5</td>\n",
       "      <td>2014</td>\n",
       "      <td>50.0</td>\n",
       "      <td>NaN</td>\n",
       "    </tr>\n",
       "  </tbody>\n",
       "</table>\n",
       "</div>"
      ],
      "text/plain": [
       "   adm0_id    adm0_name  adm1_id   adm1_name  mkt_id  mkt_name  cm_id  \\\n",
       "0      1.0  Afghanistan      272  Badakhshan     266  Fayzabad     55   \n",
       "1      1.0  Afghanistan      272  Badakhshan     266  Fayzabad     55   \n",
       "2      1.0  Afghanistan      272  Badakhshan     266  Fayzabad     55   \n",
       "3      1.0  Afghanistan      272  Badakhshan     266  Fayzabad     55   \n",
       "4      1.0  Afghanistan      272  Badakhshan     266  Fayzabad     55   \n",
       "\n",
       "          cm_name  cur_id cur_name  pt_id pt_name  um_id um_name  mp_month  \\\n",
       "0  Bread - Retail     0.0      AFN     15  Retail      5      KG         1   \n",
       "1  Bread - Retail     0.0      AFN     15  Retail      5      KG         2   \n",
       "2  Bread - Retail     0.0      AFN     15  Retail      5      KG         3   \n",
       "3  Bread - Retail     0.0      AFN     15  Retail      5      KG         4   \n",
       "4  Bread - Retail     0.0      AFN     15  Retail      5      KG         5   \n",
       "\n",
       "   mp_year  mp_price  mp_commoditysource  \n",
       "0     2014      50.0                 NaN  \n",
       "1     2014      50.0                 NaN  \n",
       "2     2014      50.0                 NaN  \n",
       "3     2014      50.0                 NaN  \n",
       "4     2014      50.0                 NaN  "
      ]
     },
     "execution_count": 25,
     "metadata": {},
     "output_type": "execute_result"
    }
   ],
   "source": [
    "data.head()"
   ]
  },
  {
   "cell_type": "code",
   "execution_count": 13,
   "metadata": {},
   "outputs": [
    {
     "name": "stdout",
     "output_type": "stream",
     "text": [
      "<class 'pandas.core.frame.DataFrame'>\n",
      "RangeIndex: 1342107 entries, 0 to 1342106\n",
      "Data columns (total 18 columns):\n",
      "adm0_id               1342107 non-null float64\n",
      "adm0_name             1342107 non-null object\n",
      "adm1_id               1342107 non-null int64\n",
      "adm1_name             971706 non-null object\n",
      "mkt_id                1342107 non-null int64\n",
      "mkt_name              1342107 non-null object\n",
      "cm_id                 1342107 non-null int64\n",
      "cm_name               1342107 non-null object\n",
      "cur_id                1342107 non-null float64\n",
      "cur_name              1342107 non-null object\n",
      "pt_id                 1342107 non-null int64\n",
      "pt_name               1342107 non-null object\n",
      "um_id                 1342107 non-null int64\n",
      "um_name               1342107 non-null object\n",
      "mp_month              1342107 non-null int64\n",
      "mp_year               1342107 non-null int64\n",
      "mp_price              1342107 non-null float64\n",
      "mp_commoditysource    0 non-null float64\n",
      "dtypes: float64(4), int64(7), object(7)\n",
      "memory usage: 184.3+ MB\n"
     ]
    }
   ],
   "source": [
    "data.info()"
   ]
  },
  {
   "cell_type": "code",
   "execution_count": 26,
   "metadata": {},
   "outputs": [],
   "source": [
    "data['cm_name'] = data['cm_name'].apply(lambda x: x.split(\" \")[0])"
   ]
  },
  {
   "cell_type": "code",
   "execution_count": 27,
   "metadata": {},
   "outputs": [
    {
     "data": {
      "text/plain": [
       "Rice      188786\n",
       "Maize     138637\n",
       "Wheat      74905\n",
       "Beans      72848\n",
       "Oil        71656\n",
       "           ...  \n",
       "Lemons        72\n",
       "Okra          64\n",
       "Barley        26\n",
       "Cotton        10\n",
       "Corn           2\n",
       "Name: cm_name, Length: 113, dtype: int64"
      ]
     },
     "execution_count": 27,
     "metadata": {},
     "output_type": "execute_result"
    }
   ],
   "source": [
    "data['cm_name'].value_counts()"
   ]
  },
  {
   "cell_type": "code",
   "execution_count": 31,
   "metadata": {},
   "outputs": [
    {
     "data": {
      "text/plain": [
       "['Rice',\n",
       " 'Maize',\n",
       " 'Wheat',\n",
       " 'Beans',\n",
       " 'Oil',\n",
       " 'Sorghum',\n",
       " 'Meat',\n",
       " 'Millet',\n",
       " 'Fuel',\n",
       " 'Sugar',\n",
       " 'Cassava',\n",
       " 'Potatoes',\n",
       " 'Bread',\n",
       " 'Lentils',\n",
       " 'Fish',\n",
       " 'Milk',\n",
       " 'Onions',\n",
       " 'Groundnuts',\n",
       " 'Tomatoes',\n",
       " 'Salt',\n",
       " 'Eggs',\n",
       " 'Tea',\n",
       " 'Livestock',\n",
       " 'Cabbage',\n",
       " 'Wage',\n",
       " 'Sweet',\n",
       " 'Carrots',\n",
       " 'Bananas',\n",
       " 'Chickpeas',\n",
       " 'Peas',\n",
       " 'Pasta',\n",
       " 'Cheese',\n",
       " 'Exchange',\n",
       " 'Garlic',\n",
       " 'Apples',\n",
       " 'Plantains',\n",
       " 'Cowpeas',\n",
       " 'Bulgur',\n",
       " 'Eggplants',\n",
       " 'Passion',\n",
       " 'Chili',\n",
       " 'Peppers',\n",
       " 'Cucumbers',\n",
       " 'Yam',\n",
       " 'Ghee',\n",
       " 'Avocados',\n",
       " 'Oranges',\n",
       " 'Spinach',\n",
       " 'Soybeans',\n",
       " 'Charcoal',\n",
       " 'Papaya',\n",
       " 'Yogurt',\n",
       " 'Mangoes',\n",
       " 'Dates',\n",
       " 'Butter',\n",
       " 'Buckwheat',\n",
       " 'Gari',\n",
       " 'Parsley',\n",
       " 'Zucchini',\n",
       " 'Pulses',\n",
       " 'Sesame',\n",
       " 'Transport',\n",
       " 'Peanut',\n",
       " 'Water',\n",
       " 'Laundry',\n",
       " 'Cauliflower',\n",
       " 'Coffee',\n",
       " 'Curd',\n",
       " 'Fat',\n",
       " 'Sour',\n",
       " 'Beetroots',\n",
       " 'Milling',\n",
       " 'Couscous',\n",
       " 'Noodles',\n",
       " 'Semolina',\n",
       " 'Fonio',\n",
       " 'Pumpkin',\n",
       " 'Pigeon',\n",
       " 'Cocoa',\n",
       " 'Kefir',\n",
       " 'Walnuts',\n",
       " 'Handwash',\n",
       " 'Toothbrush',\n",
       " 'Labaneh',\n",
       " 'Guava',\n",
       " 'Teff',\n",
       " 'Shampoo',\n",
       " 'Sanitary',\n",
       " 'Dishwashing',\n",
       " 'Toothpaste',\n",
       " 'Diapers',\n",
       " 'Tortilla',\n",
       " 'Lettuce',\n",
       " 'Poultry',\n",
       " 'Cornstarch',\n",
       " 'Beans(mash)',\n",
       " 'Quinoa',\n",
       " 'Squashes',\n",
       " 'Cashew',\n",
       " 'Broccoli',\n",
       " 'Prawn',\n",
       " 'Blackberry',\n",
       " 'Taro',\n",
       " 'Radish',\n",
       " 'Yeast',\n",
       " 'Chicken',\n",
       " 'Electricity',\n",
       " 'Cocunut',\n",
       " 'Lemons',\n",
       " 'Okra',\n",
       " 'Barley',\n",
       " 'Cotton',\n",
       " 'Corn']"
      ]
     },
     "execution_count": 31,
     "metadata": {},
     "output_type": "execute_result"
    }
   ],
   "source": [
    "list(data['cm_name'].value_counts().index)"
   ]
  },
  {
   "cell_type": "code",
   "execution_count": 22,
   "metadata": {},
   "outputs": [
    {
     "data": {
      "text/plain": [
       "Rwanda                  132053\n",
       "Bassas da India         101672\n",
       "Syrian Arab Republic     66671\n",
       "Kyrgyzstan               51989\n",
       "Niger                    50975\n",
       "                         ...  \n",
       "Azerbaijan                 125\n",
       "Eritrea                    100\n",
       "Georgia                     80\n",
       "Venezuela                    6\n",
       "Italy                        1\n",
       "Name: adm0_name, Length: 99, dtype: int64"
      ]
     },
     "execution_count": 22,
     "metadata": {},
     "output_type": "execute_result"
    }
   ],
   "source": [
    "data.adm0_name.value_counts()"
   ]
  },
  {
   "cell_type": "code",
   "execution_count": 24,
   "metadata": {
    "scrolled": true
   },
   "outputs": [
    {
     "data": {
      "text/plain": [
       "Retail       1212558\n",
       "Wholesale     128637\n",
       "Farm Gate        664\n",
       "Producer         248\n",
       "Name: pt_name, dtype: int64"
      ]
     },
     "execution_count": 24,
     "metadata": {},
     "output_type": "execute_result"
    }
   ],
   "source": [
    "data.pt_name.value_counts()"
   ]
  },
  {
   "cell_type": "markdown",
   "metadata": {},
   "source": [
    "**Conclusion**: this data might be useful for us in the final step of the challenge. When we know what food data we are outputing in order to estimate the cost of the food for the WFP."
   ]
  }
 ],
 "metadata": {
  "kernelspec": {
   "display_name": "Python 3",
   "language": "python",
   "name": "python3"
  },
  "language_info": {
   "codemirror_mode": {
    "name": "ipython",
    "version": 3
   },
   "file_extension": ".py",
   "mimetype": "text/x-python",
   "name": "python",
   "nbconvert_exporter": "python",
   "pygments_lexer": "ipython3",
   "version": "3.7.0"
  }
 },
 "nbformat": 4,
 "nbformat_minor": 2
}
