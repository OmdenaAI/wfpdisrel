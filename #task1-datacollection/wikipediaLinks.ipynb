{
  "nbformat": 4,
  "nbformat_minor": 0,
  "metadata": {
    "kernelspec": {
      "display_name": "Python 3",
      "language": "python",
      "name": "python3"
    },
    "language_info": {
      "codemirror_mode": {
        "name": "ipython",
        "version": 3
      },
      "file_extension": ".py",
      "mimetype": "text/x-python",
      "name": "python",
      "nbconvert_exporter": "python",
      "pygments_lexer": "ipython3",
      "version": "3.6.7"
    },
    "colab": {
      "name": "wikipediaLinks.ipynb",
      "provenance": [],
      "collapsed_sections": []
    }
  },
  "cells": [
    {
      "cell_type": "code",
      "metadata": {
        "id": "uEqBn-aM9Lu4",
        "colab_type": "code",
        "outputId": "82bc3e64-e2d4-4deb-e176-75ac9a4d7b8a",
        "colab": {
          "base_uri": "https://localhost:8080/",
          "height": 166
        }
      },
      "source": [
        "!pip install wikipedia\n",
        "import pandas as pd\n",
        "import numpy as np\n",
        "\n",
        "\n",
        "import re\n",
        "import wikipedia\n",
        "from bs4 import BeautifulSoup\n",
        "import urllib.request"
      ],
      "execution_count": 1,
      "outputs": [
        {
          "output_type": "stream",
          "text": [
            "Requirement already satisfied: wikipedia in /usr/local/lib/python3.6/dist-packages (1.4.0)\n",
            "Requirement already satisfied: beautifulsoup4 in /usr/local/lib/python3.6/dist-packages (from wikipedia) (4.6.3)\n",
            "Requirement already satisfied: requests<3.0.0,>=2.0.0 in /usr/local/lib/python3.6/dist-packages (from wikipedia) (2.21.0)\n",
            "Requirement already satisfied: idna<2.9,>=2.5 in /usr/local/lib/python3.6/dist-packages (from requests<3.0.0,>=2.0.0->wikipedia) (2.8)\n",
            "Requirement already satisfied: certifi>=2017.4.17 in /usr/local/lib/python3.6/dist-packages (from requests<3.0.0,>=2.0.0->wikipedia) (2019.11.28)\n",
            "Requirement already satisfied: urllib3<1.25,>=1.21.1 in /usr/local/lib/python3.6/dist-packages (from requests<3.0.0,>=2.0.0->wikipedia) (1.24.3)\n",
            "Requirement already satisfied: chardet<3.1.0,>=3.0.2 in /usr/local/lib/python3.6/dist-packages (from requests<3.0.0,>=2.0.0->wikipedia) (3.0.4)\n"
          ],
          "name": "stdout"
        }
      ]
    },
    {
      "cell_type": "code",
      "metadata": {
        "id": "AU4tbVFo95v0",
        "colab_type": "code",
        "outputId": "f01e90ad-44e3-46d3-e485-9343bb52aa50",
        "colab": {
          "base_uri": "https://localhost:8080/",
          "height": 129
        }
      },
      "source": [
        "from google.colab import drive\n",
        "drive.mount('/content/drive')"
      ],
      "execution_count": 2,
      "outputs": [
        {
          "output_type": "stream",
          "text": [
            "Go to this URL in a browser: https://accounts.google.com/o/oauth2/auth?client_id=947318989803-6bn6qk8qdgf4n4g3pfee6491hc0brc4i.apps.googleusercontent.com&redirect_uri=urn%3aietf%3awg%3aoauth%3a2.0%3aoob&response_type=code&scope=email%20https%3a%2f%2fwww.googleapis.com%2fauth%2fdocs.test%20https%3a%2f%2fwww.googleapis.com%2fauth%2fdrive%20https%3a%2f%2fwww.googleapis.com%2fauth%2fdrive.photos.readonly%20https%3a%2f%2fwww.googleapis.com%2fauth%2fpeopleapi.readonly\n",
            "\n",
            "Enter your authorization code:\n",
            "··········\n",
            "Mounted at /content/drive\n"
          ],
          "name": "stdout"
        }
      ]
    },
    {
      "cell_type": "code",
      "metadata": {
        "id": "5jjX-ewI9424",
        "colab_type": "code",
        "outputId": "12915e40-aa17-487a-b287-1e9ca43ca911",
        "colab": {
          "base_uri": "https://localhost:8080/",
          "height": 35
        }
      },
      "source": [
        "% cd '/content/drive/My Drive/Colab Notebooks/Omdena'"
      ],
      "execution_count": 2,
      "outputs": [
        {
          "output_type": "stream",
          "text": [
            "/content/drive/My Drive/Colab Notebooks/Omdena\n"
          ],
          "name": "stdout"
        }
      ]
    },
    {
      "cell_type": "code",
      "metadata": {
        "id": "oLR4ZEiN9LwI",
        "colab_type": "code",
        "colab": {}
      },
      "source": [
        "df = pd.read_csv(\"empty_pop.csv\")"
      ],
      "execution_count": 0,
      "outputs": []
    },
    {
      "cell_type": "code",
      "metadata": {
        "id": "n0CNo4be9LxF",
        "colab_type": "code",
        "outputId": "49797ad3-64fc-4310-ef77-8c19da442d7e",
        "colab": {
          "base_uri": "https://localhost:8080/",
          "height": 35
        }
      },
      "source": [
        "df.shape"
      ],
      "execution_count": 4,
      "outputs": [
        {
          "output_type": "execute_result",
          "data": {
            "text/plain": [
              "(3002, 10)"
            ]
          },
          "metadata": {
            "tags": []
          },
          "execution_count": 4
        }
      ]
    },
    {
      "cell_type": "code",
      "metadata": {
        "id": "8i15ya3w9Lx_",
        "colab_type": "code",
        "outputId": "00384db4-ceda-430f-8e99-7df4b7e4354c",
        "colab": {
          "base_uri": "https://localhost:8080/",
          "height": 72
        }
      },
      "source": [
        "df.columns"
      ],
      "execution_count": 5,
      "outputs": [
        {
          "output_type": "execute_result",
          "data": {
            "text/plain": [
              "Index(['Unnamed: 0', 'SID', 'NAME_x', 'YEAR_x', 'MONTH_x', 'in_trax', 'NAME_y',\n",
              "       'YEAR_y', 'MONTH_y', 'in_df'],\n",
              "      dtype='object')"
            ]
          },
          "metadata": {
            "tags": []
          },
          "execution_count": 5
        }
      ]
    },
    {
      "cell_type": "code",
      "metadata": {
        "id": "6Pf5OCpTj7vY",
        "colab_type": "code",
        "outputId": "1f757494-a58d-48e2-ce14-30dfc45d3530",
        "colab": {
          "base_uri": "https://localhost:8080/",
          "height": 424
        }
      },
      "source": [
        "df"
      ],
      "execution_count": 6,
      "outputs": [
        {
          "output_type": "execute_result",
          "data": {
            "text/html": [
              "<div>\n",
              "<style scoped>\n",
              "    .dataframe tbody tr th:only-of-type {\n",
              "        vertical-align: middle;\n",
              "    }\n",
              "\n",
              "    .dataframe tbody tr th {\n",
              "        vertical-align: top;\n",
              "    }\n",
              "\n",
              "    .dataframe thead th {\n",
              "        text-align: right;\n",
              "    }\n",
              "</style>\n",
              "<table border=\"1\" class=\"dataframe\">\n",
              "  <thead>\n",
              "    <tr style=\"text-align: right;\">\n",
              "      <th></th>\n",
              "      <th>Unnamed: 0</th>\n",
              "      <th>SID</th>\n",
              "      <th>NAME_x</th>\n",
              "      <th>YEAR_x</th>\n",
              "      <th>MONTH_x</th>\n",
              "      <th>in_trax</th>\n",
              "      <th>NAME_y</th>\n",
              "      <th>YEAR_y</th>\n",
              "      <th>MONTH_y</th>\n",
              "      <th>in_df</th>\n",
              "    </tr>\n",
              "  </thead>\n",
              "  <tbody>\n",
              "    <tr>\n",
              "      <th>0</th>\n",
              "      <td>3333</td>\n",
              "      <td>1981003S11059</td>\n",
              "      <td>FLORINE</td>\n",
              "      <td>1981</td>\n",
              "      <td>1</td>\n",
              "      <td>True</td>\n",
              "      <td>NaN</td>\n",
              "      <td>NaN</td>\n",
              "      <td>NaN</td>\n",
              "      <td>NaN</td>\n",
              "    </tr>\n",
              "    <tr>\n",
              "      <th>1</th>\n",
              "      <td>3335</td>\n",
              "      <td>1981012S12110</td>\n",
              "      <td>MABEL</td>\n",
              "      <td>1981</td>\n",
              "      <td>1</td>\n",
              "      <td>True</td>\n",
              "      <td>NaN</td>\n",
              "      <td>NaN</td>\n",
              "      <td>NaN</td>\n",
              "      <td>NaN</td>\n",
              "    </tr>\n",
              "    <tr>\n",
              "      <th>2</th>\n",
              "      <td>3336</td>\n",
              "      <td>1981015S09078</td>\n",
              "      <td>GAELLE</td>\n",
              "      <td>1981</td>\n",
              "      <td>1</td>\n",
              "      <td>True</td>\n",
              "      <td>NaN</td>\n",
              "      <td>NaN</td>\n",
              "      <td>NaN</td>\n",
              "      <td>NaN</td>\n",
              "    </tr>\n",
              "    <tr>\n",
              "      <th>3</th>\n",
              "      <td>3337</td>\n",
              "      <td>1981022S13155</td>\n",
              "      <td>NOT_NAMED</td>\n",
              "      <td>1981</td>\n",
              "      <td>1</td>\n",
              "      <td>True</td>\n",
              "      <td>NaN</td>\n",
              "      <td>NaN</td>\n",
              "      <td>NaN</td>\n",
              "      <td>NaN</td>\n",
              "    </tr>\n",
              "    <tr>\n",
              "      <th>4</th>\n",
              "      <td>3338</td>\n",
              "      <td>1981028S12069</td>\n",
              "      <td>HELYETTE</td>\n",
              "      <td>1981</td>\n",
              "      <td>1</td>\n",
              "      <td>True</td>\n",
              "      <td>NaN</td>\n",
              "      <td>NaN</td>\n",
              "      <td>NaN</td>\n",
              "      <td>NaN</td>\n",
              "    </tr>\n",
              "    <tr>\n",
              "      <th>...</th>\n",
              "      <td>...</td>\n",
              "      <td>...</td>\n",
              "      <td>...</td>\n",
              "      <td>...</td>\n",
              "      <td>...</td>\n",
              "      <td>...</td>\n",
              "      <td>...</td>\n",
              "      <td>...</td>\n",
              "      <td>...</td>\n",
              "      <td>...</td>\n",
              "    </tr>\n",
              "    <tr>\n",
              "      <th>2997</th>\n",
              "      <td>6792</td>\n",
              "      <td>2019114S09082</td>\n",
              "      <td>LORNA</td>\n",
              "      <td>2019</td>\n",
              "      <td>4</td>\n",
              "      <td>True</td>\n",
              "      <td>NaN</td>\n",
              "      <td>NaN</td>\n",
              "      <td>NaN</td>\n",
              "      <td>NaN</td>\n",
              "    </tr>\n",
              "    <tr>\n",
              "      <th>2998</th>\n",
              "      <td>6793</td>\n",
              "      <td>2019117N05088</td>\n",
              "      <td>FANI</td>\n",
              "      <td>2019</td>\n",
              "      <td>4</td>\n",
              "      <td>True</td>\n",
              "      <td>NaN</td>\n",
              "      <td>NaN</td>\n",
              "      <td>NaN</td>\n",
              "      <td>NaN</td>\n",
              "    </tr>\n",
              "    <tr>\n",
              "      <th>2999</th>\n",
              "      <td>6794</td>\n",
              "      <td>2019129S09129</td>\n",
              "      <td>LILI</td>\n",
              "      <td>2019</td>\n",
              "      <td>5</td>\n",
              "      <td>True</td>\n",
              "      <td>NaN</td>\n",
              "      <td>NaN</td>\n",
              "      <td>NaN</td>\n",
              "      <td>NaN</td>\n",
              "    </tr>\n",
              "    <tr>\n",
              "      <th>3000</th>\n",
              "      <td>6795</td>\n",
              "      <td>2019132S16159</td>\n",
              "      <td>ANN</td>\n",
              "      <td>2019</td>\n",
              "      <td>5</td>\n",
              "      <td>True</td>\n",
              "      <td>NaN</td>\n",
              "      <td>NaN</td>\n",
              "      <td>NaN</td>\n",
              "      <td>NaN</td>\n",
              "    </tr>\n",
              "    <tr>\n",
              "      <th>3001</th>\n",
              "      <td>6796</td>\n",
              "      <td>2019141N29291</td>\n",
              "      <td>ANDREA</td>\n",
              "      <td>2019</td>\n",
              "      <td>5</td>\n",
              "      <td>True</td>\n",
              "      <td>NaN</td>\n",
              "      <td>NaN</td>\n",
              "      <td>NaN</td>\n",
              "      <td>NaN</td>\n",
              "    </tr>\n",
              "  </tbody>\n",
              "</table>\n",
              "<p>3002 rows × 10 columns</p>\n",
              "</div>"
            ],
            "text/plain": [
              "      Unnamed: 0            SID     NAME_x  ...  YEAR_y  MONTH_y  in_df\n",
              "0           3333  1981003S11059    FLORINE  ...     NaN      NaN    NaN\n",
              "1           3335  1981012S12110      MABEL  ...     NaN      NaN    NaN\n",
              "2           3336  1981015S09078     GAELLE  ...     NaN      NaN    NaN\n",
              "3           3337  1981022S13155  NOT_NAMED  ...     NaN      NaN    NaN\n",
              "4           3338  1981028S12069   HELYETTE  ...     NaN      NaN    NaN\n",
              "...          ...            ...        ...  ...     ...      ...    ...\n",
              "2997        6792  2019114S09082      LORNA  ...     NaN      NaN    NaN\n",
              "2998        6793  2019117N05088       FANI  ...     NaN      NaN    NaN\n",
              "2999        6794  2019129S09129       LILI  ...     NaN      NaN    NaN\n",
              "3000        6795  2019132S16159        ANN  ...     NaN      NaN    NaN\n",
              "3001        6796  2019141N29291     ANDREA  ...     NaN      NaN    NaN\n",
              "\n",
              "[3002 rows x 10 columns]"
            ]
          },
          "metadata": {
            "tags": []
          },
          "execution_count": 6
        }
      ]
    },
    {
      "cell_type": "code",
      "metadata": {
        "id": "4BUbfPCDB7bK",
        "colab_type": "code",
        "colab": {}
      },
      "source": [
        "#df_wiki = df.copy()\n",
        "#df_wiki = df[['Unnamed: 0', 'NAME', 'ISO', 'Start year']].copy()\n",
        "df_only_wiki = df[['Unnamed: 0']].copy()\n",
        "df_only_wiki['wikipedia link'] = np.nan\n",
        "#wiki_dict = {}"
      ],
      "execution_count": 0,
      "outputs": []
    },
    {
      "cell_type": "code",
      "metadata": {
        "id": "rL-kMfoarXN4",
        "colab_type": "code",
        "colab": {}
      },
      "source": [
        "df_wiki = df_wiki.rename(columns={'Unnamed: 0' : 'Index'})"
      ],
      "execution_count": 0,
      "outputs": []
    },
    {
      "cell_type": "code",
      "metadata": {
        "id": "PVxdD0inkp4r",
        "colab_type": "code",
        "colab": {}
      },
      "source": [
        "df_only_wiki = df_only_wiki.rename(columns={'Unnamed: 0' : 'Index'})"
      ],
      "execution_count": 0,
      "outputs": []
    },
    {
      "cell_type": "code",
      "metadata": {
        "id": "efOgdS6xDJ--",
        "colab_type": "code",
        "colab": {}
      },
      "source": [
        "for indexx, cyclone in df_wiki.iterrows():\n",
        "  index = cyclone['Index']\n",
        "  if cyclone['NAME_x'] == 'NOT_NAMED' or ':' in cyclone['NAME_x']:\n",
        "    continue\n",
        "  if str(index) not in wiki_dict:\n",
        "    try:\n",
        "      cyclone_name = cyclone['NAME_x'].capitalize()\n",
        "      url = \"https://en.wikipedia.org/wiki/Cyclone_\" + cyclone_name + \"_(\" + str(cyclone['YEAR_x']) + \")\"\n",
        "      page = urllib.request.urlopen(url)\n",
        "      wiki_dict[str(index)] = str(url)\n",
        "      print(str(url))\n",
        "    except:\n",
        "      try:\n",
        "        cyclone_name = cyclone['NAME_x'].capitalize()\n",
        "        url = \"https://en.wikipedia.org/wiki/Typhoon_\" + cyclone_name + \"_(\" + str(cyclone['YEAR_x']) + \")\"\n",
        "        page = urllib.request.urlopen(url)\n",
        "        wiki_dict[str(index)] = str(url)\n",
        "        print(str(url))\n",
        "      except:\n",
        "        try:\n",
        "          cyclone_name = cyclone['NAME_x'].capitalize()\n",
        "          url = \"https://en.wikipedia.org/wiki/Tropical_Storm_\" + cyclone_name + \"_(\" + str(cyclone['YEAR_x']) + \")\"\n",
        "          page = urllib.request.urlopen(url)\n",
        "          wiki_dict[str(index)] = str(url)\n",
        "          print(str(url))\n",
        "        except:\n",
        "          try:\n",
        "            cyclone_name = cyclone['NAME_x'].capitalize()\n",
        "            url = \"https://en.wikipedia.org/wiki/Hurricane_\" + cyclone_name + \"_(\" + str(cyclone['YEAR_x']) + \")\"\n",
        "            page = urllib.request.urlopen(url)\n",
        "            wiki_dict[str(index)] = str(url)\n",
        "            print(str(url))\n",
        "          except:\n",
        "            try:\n",
        "              cyclone_name = cyclone['NAME_x'].capitalize()\n",
        "              url = \"https://en.wikipedia.org/wiki/Typhoon_\" + cyclone_name\n",
        "              page = urllib.request.urlopen(url)\n",
        "              wiki_dict[str(index)] = str(url)\n",
        "              print(str(url))\n",
        "            except:\n",
        "              try:\n",
        "                cyclone_name = cyclone['NAME_x'].capitalize()\n",
        "                url = \"https://en.wikipedia.org/wiki/Hurricane_\" + cyclone_name\n",
        "                page = urllib.request.urlopen(url)\n",
        "                wiki_dict[str(index)] = str(url)\n",
        "                print(str(url))\n",
        "              except:\n",
        "                try:\n",
        "                  cyclone_name = cyclone['NAME_x'].capitalize()\n",
        "                  url = \"https://en.wikipedia.org/wiki/Tropical_Storm_\" + cyclone_name\n",
        "                  page = urllib.request.urlopen(url)\n",
        "                  wiki_dict[str(index)] = str(url)\n",
        "                  print(str(url))\n",
        "                except:\n",
        "                  try:\n",
        "                    cyclone_name = cyclone['NAME_x'].capitalize()\n",
        "                    url = \"https://en.wikipedia.org/wiki/Cyclone_\" + cyclone_name\n",
        "                    print(str(url))\n",
        "                    page = urllib.request.urlopen(url)\n",
        "                    print(index)\n",
        "                    wiki_dict[str(index)] = str(url)\n",
        "                    print(\"DONE\")\n",
        "                  except:\n",
        "                    pass\n",
        "  else:\n",
        "    pass\n"
      ],
      "execution_count": 0,
      "outputs": []
    },
    {
      "cell_type": "code",
      "metadata": {
        "id": "_UWkog6feha8",
        "colab_type": "code",
        "colab": {}
      },
      "source": [
        "first = df_wiki['Index'].iloc[0]\n",
        "last = df_wiki['Index'].iloc[-1]\n",
        "\n",
        "for res in range(first, last):\n",
        "  if str(res) in wiki_dict:\n",
        "    pass\n",
        "  else:\n",
        "    wiki_dict[str(res)] = None"
      ],
      "execution_count": 0,
      "outputs": []
    },
    {
      "cell_type": "code",
      "metadata": {
        "id": "ySTP_dV2DhKP",
        "colab_type": "code",
        "colab": {}
      },
      "source": [
        "for indexx, cyclone in df_wiki.iterrows():\n",
        "  index = cyclone['Index']\n",
        "  df_only_wiki.append([index, wiki_dict[str(index)]])"
      ],
      "execution_count": 0,
      "outputs": []
    },
    {
      "cell_type": "code",
      "metadata": {
        "id": "hRFMnFCplR9C",
        "colab_type": "code",
        "colab": {}
      },
      "source": [
        "\n",
        "for indexx, row in df_only_wiki.iterrows():\n",
        "  index = int(row['Index'])\n",
        "  df_only_wiki = df_only_wiki.drop([indexx], axis=0)\n",
        "  df_only_wiki = df_only_wiki.append([[int(index), wiki_dict[str(index)]]])"
      ],
      "execution_count": 0,
      "outputs": []
    },
    {
      "cell_type": "code",
      "metadata": {
        "id": "RuyZ4I6YmI6J",
        "colab_type": "code",
        "colab": {}
      },
      "source": [
        "df_only_wiki = df_only_wiki.drop(['Index', 'wikipedia link'], axis=1)\n",
        "df_only_wiki = df_only_wiki.rename(columns={0 : 'Index'})\n",
        "df_only_wiki = df_only_wiki.rename(columns={1 : 'wikipedia link'})\n",
        "df_only_wiki[\"Index\"] = df_only_wiki[\"Index\"].astype(int)\n",
        "df_only_wiki"
      ],
      "execution_count": 0,
      "outputs": []
    },
    {
      "cell_type": "code",
      "metadata": {
        "id": "JcIccgo8rmYQ",
        "colab_type": "code",
        "outputId": "486a382a-8d8f-4572-bbac-d3c749c450f1",
        "colab": {
          "base_uri": "https://localhost:8080/",
          "height": 35
        }
      },
      "source": [
        "df_wiki.shape, df_only_wiki.shape"
      ],
      "execution_count": 34,
      "outputs": [
        {
          "output_type": "execute_result",
          "data": {
            "text/plain": [
              "((3002, 10), (3002, 2))"
            ]
          },
          "metadata": {
            "tags": []
          },
          "execution_count": 34
        }
      ]
    },
    {
      "cell_type": "code",
      "metadata": {
        "id": "W4QBBYHVh1Qi",
        "colab_type": "code",
        "colab": {
          "base_uri": "https://localhost:8080/",
          "height": 35
        },
        "outputId": "0bd6a7f4-e276-44d4-a369-6a97e0518be7"
      },
      "source": [
        "df_only_wiki.columns"
      ],
      "execution_count": 24,
      "outputs": [
        {
          "output_type": "execute_result",
          "data": {
            "text/plain": [
              "Index(['Index', 'wikipedia link'], dtype='object')"
            ]
          },
          "metadata": {
            "tags": []
          },
          "execution_count": 24
        }
      ]
    },
    {
      "cell_type": "code",
      "metadata": {
        "id": "3C8fdCj6rw_9",
        "colab_type": "code",
        "outputId": "25d0782e-1305-4e0d-80ac-87672ad5c7f4",
        "colab": {
          "base_uri": "https://localhost:8080/",
          "height": 424
        }
      },
      "source": [
        "df_wiki = pd.merge(left=df_wiki, right=df_only_wiki, how='inner', on='Index')\n",
        "df_wiki"
      ],
      "execution_count": 35,
      "outputs": [
        {
          "output_type": "execute_result",
          "data": {
            "text/html": [
              "<div>\n",
              "<style scoped>\n",
              "    .dataframe tbody tr th:only-of-type {\n",
              "        vertical-align: middle;\n",
              "    }\n",
              "\n",
              "    .dataframe tbody tr th {\n",
              "        vertical-align: top;\n",
              "    }\n",
              "\n",
              "    .dataframe thead th {\n",
              "        text-align: right;\n",
              "    }\n",
              "</style>\n",
              "<table border=\"1\" class=\"dataframe\">\n",
              "  <thead>\n",
              "    <tr style=\"text-align: right;\">\n",
              "      <th></th>\n",
              "      <th>Index</th>\n",
              "      <th>SID</th>\n",
              "      <th>NAME_x</th>\n",
              "      <th>YEAR_x</th>\n",
              "      <th>MONTH_x</th>\n",
              "      <th>in_trax</th>\n",
              "      <th>NAME_y</th>\n",
              "      <th>YEAR_y</th>\n",
              "      <th>MONTH_y</th>\n",
              "      <th>in_df</th>\n",
              "      <th>wikipedia link</th>\n",
              "    </tr>\n",
              "  </thead>\n",
              "  <tbody>\n",
              "    <tr>\n",
              "      <th>0</th>\n",
              "      <td>3333</td>\n",
              "      <td>1981003S11059</td>\n",
              "      <td>FLORINE</td>\n",
              "      <td>1981</td>\n",
              "      <td>1</td>\n",
              "      <td>True</td>\n",
              "      <td>NaN</td>\n",
              "      <td>NaN</td>\n",
              "      <td>NaN</td>\n",
              "      <td>NaN</td>\n",
              "      <td>NaN</td>\n",
              "    </tr>\n",
              "    <tr>\n",
              "      <th>1</th>\n",
              "      <td>3335</td>\n",
              "      <td>1981012S12110</td>\n",
              "      <td>MABEL</td>\n",
              "      <td>1981</td>\n",
              "      <td>1</td>\n",
              "      <td>True</td>\n",
              "      <td>NaN</td>\n",
              "      <td>NaN</td>\n",
              "      <td>NaN</td>\n",
              "      <td>NaN</td>\n",
              "      <td>NaN</td>\n",
              "    </tr>\n",
              "    <tr>\n",
              "      <th>2</th>\n",
              "      <td>3336</td>\n",
              "      <td>1981015S09078</td>\n",
              "      <td>GAELLE</td>\n",
              "      <td>1981</td>\n",
              "      <td>1</td>\n",
              "      <td>True</td>\n",
              "      <td>NaN</td>\n",
              "      <td>NaN</td>\n",
              "      <td>NaN</td>\n",
              "      <td>NaN</td>\n",
              "      <td>NaN</td>\n",
              "    </tr>\n",
              "    <tr>\n",
              "      <th>3</th>\n",
              "      <td>3337</td>\n",
              "      <td>1981022S13155</td>\n",
              "      <td>NOT_NAMED</td>\n",
              "      <td>1981</td>\n",
              "      <td>1</td>\n",
              "      <td>True</td>\n",
              "      <td>NaN</td>\n",
              "      <td>NaN</td>\n",
              "      <td>NaN</td>\n",
              "      <td>NaN</td>\n",
              "      <td>NaN</td>\n",
              "    </tr>\n",
              "    <tr>\n",
              "      <th>4</th>\n",
              "      <td>3338</td>\n",
              "      <td>1981028S12069</td>\n",
              "      <td>HELYETTE</td>\n",
              "      <td>1981</td>\n",
              "      <td>1</td>\n",
              "      <td>True</td>\n",
              "      <td>NaN</td>\n",
              "      <td>NaN</td>\n",
              "      <td>NaN</td>\n",
              "      <td>NaN</td>\n",
              "      <td>NaN</td>\n",
              "    </tr>\n",
              "    <tr>\n",
              "      <th>...</th>\n",
              "      <td>...</td>\n",
              "      <td>...</td>\n",
              "      <td>...</td>\n",
              "      <td>...</td>\n",
              "      <td>...</td>\n",
              "      <td>...</td>\n",
              "      <td>...</td>\n",
              "      <td>...</td>\n",
              "      <td>...</td>\n",
              "      <td>...</td>\n",
              "      <td>...</td>\n",
              "    </tr>\n",
              "    <tr>\n",
              "      <th>2997</th>\n",
              "      <td>6792</td>\n",
              "      <td>2019114S09082</td>\n",
              "      <td>LORNA</td>\n",
              "      <td>2019</td>\n",
              "      <td>4</td>\n",
              "      <td>True</td>\n",
              "      <td>NaN</td>\n",
              "      <td>NaN</td>\n",
              "      <td>NaN</td>\n",
              "      <td>NaN</td>\n",
              "      <td>https://en.wikipedia.org/wiki/Cyclone_Lorna</td>\n",
              "    </tr>\n",
              "    <tr>\n",
              "      <th>2998</th>\n",
              "      <td>6793</td>\n",
              "      <td>2019117N05088</td>\n",
              "      <td>FANI</td>\n",
              "      <td>2019</td>\n",
              "      <td>4</td>\n",
              "      <td>True</td>\n",
              "      <td>NaN</td>\n",
              "      <td>NaN</td>\n",
              "      <td>NaN</td>\n",
              "      <td>NaN</td>\n",
              "      <td>https://en.wikipedia.org/wiki/Cyclone_Fani</td>\n",
              "    </tr>\n",
              "    <tr>\n",
              "      <th>2999</th>\n",
              "      <td>6794</td>\n",
              "      <td>2019129S09129</td>\n",
              "      <td>LILI</td>\n",
              "      <td>2019</td>\n",
              "      <td>5</td>\n",
              "      <td>True</td>\n",
              "      <td>NaN</td>\n",
              "      <td>NaN</td>\n",
              "      <td>NaN</td>\n",
              "      <td>NaN</td>\n",
              "      <td>https://en.wikipedia.org/wiki/Cyclone_Lili_(2019)</td>\n",
              "    </tr>\n",
              "    <tr>\n",
              "      <th>3000</th>\n",
              "      <td>6795</td>\n",
              "      <td>2019132S16159</td>\n",
              "      <td>ANN</td>\n",
              "      <td>2019</td>\n",
              "      <td>5</td>\n",
              "      <td>True</td>\n",
              "      <td>NaN</td>\n",
              "      <td>NaN</td>\n",
              "      <td>NaN</td>\n",
              "      <td>NaN</td>\n",
              "      <td>https://en.wikipedia.org/wiki/Cyclone_Ann_(2019)</td>\n",
              "    </tr>\n",
              "    <tr>\n",
              "      <th>3001</th>\n",
              "      <td>6796</td>\n",
              "      <td>2019141N29291</td>\n",
              "      <td>ANDREA</td>\n",
              "      <td>2019</td>\n",
              "      <td>5</td>\n",
              "      <td>True</td>\n",
              "      <td>NaN</td>\n",
              "      <td>NaN</td>\n",
              "      <td>NaN</td>\n",
              "      <td>NaN</td>\n",
              "      <td>https://en.wikipedia.org/wiki/Hurricane_Andrea</td>\n",
              "    </tr>\n",
              "  </tbody>\n",
              "</table>\n",
              "<p>3002 rows × 11 columns</p>\n",
              "</div>"
            ],
            "text/plain": [
              "      Index  ...                                     wikipedia link\n",
              "0      3333  ...                                                NaN\n",
              "1      3335  ...                                                NaN\n",
              "2      3336  ...                                                NaN\n",
              "3      3337  ...                                                NaN\n",
              "4      3338  ...                                                NaN\n",
              "...     ...  ...                                                ...\n",
              "2997   6792  ...        https://en.wikipedia.org/wiki/Cyclone_Lorna\n",
              "2998   6793  ...         https://en.wikipedia.org/wiki/Cyclone_Fani\n",
              "2999   6794  ...  https://en.wikipedia.org/wiki/Cyclone_Lili_(2019)\n",
              "3000   6795  ...   https://en.wikipedia.org/wiki/Cyclone_Ann_(2019)\n",
              "3001   6796  ...     https://en.wikipedia.org/wiki/Hurricane_Andrea\n",
              "\n",
              "[3002 rows x 11 columns]"
            ]
          },
          "metadata": {
            "tags": []
          },
          "execution_count": 35
        }
      ]
    },
    {
      "cell_type": "code",
      "metadata": {
        "id": "jZhcVc0Fvvkz",
        "colab_type": "code",
        "colab": {}
      },
      "source": [
        "df_wiki_try = df_wiki.copy()"
      ],
      "execution_count": 0,
      "outputs": []
    },
    {
      "cell_type": "code",
      "metadata": {
        "id": "kxzZsrwPv0n5",
        "colab_type": "code",
        "colab": {}
      },
      "source": [
        "df_wiki_try = df_wiki_try.set_index(\"Index\")\n",
        "for index, row in df_wiki_try.iterrows():\n",
        "    if pd.notnull(row['Num affected']) and pd.notnull(row['Num homeless']) and pd.notnull(row['Num injured']):\n",
        "        df_wiki_try = df_wiki_try.drop(index, axis=0)"
      ],
      "execution_count": 0,
      "outputs": []
    },
    {
      "cell_type": "code",
      "metadata": {
        "id": "yigK1ZeZxa47",
        "colab_type": "code",
        "outputId": "5d600d5a-82e5-46c3-cb12-690be27fd9aa",
        "colab": {
          "base_uri": "https://localhost:8080/",
          "height": 455
        }
      },
      "source": [
        "df_wiki_try"
      ],
      "execution_count": 0,
      "outputs": [
        {
          "output_type": "execute_result",
          "data": {
            "text/html": [
              "<div>\n",
              "<style scoped>\n",
              "    .dataframe tbody tr th:only-of-type {\n",
              "        vertical-align: middle;\n",
              "    }\n",
              "\n",
              "    .dataframe tbody tr th {\n",
              "        vertical-align: top;\n",
              "    }\n",
              "\n",
              "    .dataframe thead th {\n",
              "        text-align: right;\n",
              "    }\n",
              "</style>\n",
              "<table border=\"1\" class=\"dataframe\">\n",
              "  <thead>\n",
              "    <tr style=\"text-align: right;\">\n",
              "      <th></th>\n",
              "      <th>NAME</th>\n",
              "      <th>ISO</th>\n",
              "      <th>Start year</th>\n",
              "      <th>Num affected</th>\n",
              "      <th>Num homeless</th>\n",
              "      <th>Num injured</th>\n",
              "      <th>wikipedia link</th>\n",
              "    </tr>\n",
              "    <tr>\n",
              "      <th>Index</th>\n",
              "      <th></th>\n",
              "      <th></th>\n",
              "      <th></th>\n",
              "      <th></th>\n",
              "      <th></th>\n",
              "      <th></th>\n",
              "      <th></th>\n",
              "    </tr>\n",
              "  </thead>\n",
              "  <tbody>\n",
              "    <tr>\n",
              "      <th>0</th>\n",
              "      <td>DELLA</td>\n",
              "      <td>JPN</td>\n",
              "      <td>1949</td>\n",
              "      <td>194046.0</td>\n",
              "      <td>NaN</td>\n",
              "      <td>NaN</td>\n",
              "      <td>NaN</td>\n",
              "    </tr>\n",
              "    <tr>\n",
              "      <th>1</th>\n",
              "      <td>RENA</td>\n",
              "      <td>PHL</td>\n",
              "      <td>1949</td>\n",
              "      <td>NaN</td>\n",
              "      <td>NaN</td>\n",
              "      <td>NaN</td>\n",
              "      <td>https://en.wikipedia.org/wiki/Typhoon_Rena_(1949)</td>\n",
              "    </tr>\n",
              "    <tr>\n",
              "      <th>2</th>\n",
              "      <td>JANE</td>\n",
              "      <td>JPN</td>\n",
              "      <td>1950</td>\n",
              "      <td>642117.0</td>\n",
              "      <td>NaN</td>\n",
              "      <td>NaN</td>\n",
              "      <td>https://en.wikipedia.org/wiki/Hurricane_Jane</td>\n",
              "    </tr>\n",
              "    <tr>\n",
              "      <th>3</th>\n",
              "      <td>IRIS</td>\n",
              "      <td>PHL</td>\n",
              "      <td>1951</td>\n",
              "      <td>NaN</td>\n",
              "      <td>NaN</td>\n",
              "      <td>NaN</td>\n",
              "      <td>https://en.wikipedia.org/wiki/Typhoon_Iris_(1951)</td>\n",
              "    </tr>\n",
              "    <tr>\n",
              "      <th>4</th>\n",
              "      <td>CHARLIE</td>\n",
              "      <td>JAM</td>\n",
              "      <td>1951</td>\n",
              "      <td>20000.0</td>\n",
              "      <td>NaN</td>\n",
              "      <td>200.0</td>\n",
              "      <td>https://en.wikipedia.org/wiki/Hurricane_Charli...</td>\n",
              "    </tr>\n",
              "    <tr>\n",
              "      <th>...</th>\n",
              "      <td>...</td>\n",
              "      <td>...</td>\n",
              "      <td>...</td>\n",
              "      <td>...</td>\n",
              "      <td>...</td>\n",
              "      <td>...</td>\n",
              "      <td>...</td>\n",
              "    </tr>\n",
              "    <tr>\n",
              "      <th>979</th>\n",
              "      <td>GAJA</td>\n",
              "      <td>IND</td>\n",
              "      <td>2018</td>\n",
              "      <td>500000.0</td>\n",
              "      <td>NaN</td>\n",
              "      <td>NaN</td>\n",
              "      <td>https://en.wikipedia.org/wiki/Cyclone_Gaja</td>\n",
              "    </tr>\n",
              "    <tr>\n",
              "      <th>980</th>\n",
              "      <td>TORAJI</td>\n",
              "      <td>VNM</td>\n",
              "      <td>2018</td>\n",
              "      <td>10000.0</td>\n",
              "      <td>NaN</td>\n",
              "      <td>28.0</td>\n",
              "      <td>https://en.wikipedia.org/wiki/Typhoon_Toraji</td>\n",
              "    </tr>\n",
              "    <tr>\n",
              "      <th>981</th>\n",
              "      <td>PHETHAI</td>\n",
              "      <td>IND</td>\n",
              "      <td>2018</td>\n",
              "      <td>10000.0</td>\n",
              "      <td>NaN</td>\n",
              "      <td>NaN</td>\n",
              "      <td>https://en.wikipedia.org/wiki/Cyclone_Phethai</td>\n",
              "    </tr>\n",
              "    <tr>\n",
              "      <th>982</th>\n",
              "      <td>PABUK</td>\n",
              "      <td>THA</td>\n",
              "      <td>2019</td>\n",
              "      <td>720885.0</td>\n",
              "      <td>NaN</td>\n",
              "      <td>NaN</td>\n",
              "      <td>https://en.wikipedia.org/wiki/Tropical_Storm_P...</td>\n",
              "    </tr>\n",
              "    <tr>\n",
              "      <th>983</th>\n",
              "      <td>KENNETH</td>\n",
              "      <td>MOZ</td>\n",
              "      <td>2019</td>\n",
              "      <td>400000.0</td>\n",
              "      <td>NaN</td>\n",
              "      <td>94.0</td>\n",
              "      <td>https://en.wikipedia.org/wiki/Cyclone_Kenneth_...</td>\n",
              "    </tr>\n",
              "  </tbody>\n",
              "</table>\n",
              "<p>887 rows × 7 columns</p>\n",
              "</div>"
            ],
            "text/plain": [
              "          NAME  ...                                     wikipedia link\n",
              "Index           ...                                                   \n",
              "0        DELLA  ...                                                NaN\n",
              "1         RENA  ...  https://en.wikipedia.org/wiki/Typhoon_Rena_(1949)\n",
              "2         JANE  ...       https://en.wikipedia.org/wiki/Hurricane_Jane\n",
              "3         IRIS  ...  https://en.wikipedia.org/wiki/Typhoon_Iris_(1951)\n",
              "4      CHARLIE  ...  https://en.wikipedia.org/wiki/Hurricane_Charli...\n",
              "...        ...  ...                                                ...\n",
              "979       GAJA  ...         https://en.wikipedia.org/wiki/Cyclone_Gaja\n",
              "980     TORAJI  ...       https://en.wikipedia.org/wiki/Typhoon_Toraji\n",
              "981    PHETHAI  ...      https://en.wikipedia.org/wiki/Cyclone_Phethai\n",
              "982      PABUK  ...  https://en.wikipedia.org/wiki/Tropical_Storm_P...\n",
              "983    KENNETH  ...  https://en.wikipedia.org/wiki/Cyclone_Kenneth_...\n",
              "\n",
              "[887 rows x 7 columns]"
            ]
          },
          "metadata": {
            "tags": []
          },
          "execution_count": 204
        }
      ]
    },
    {
      "cell_type": "code",
      "metadata": {
        "id": "9Pipg758tK7D",
        "colab_type": "code",
        "colab": {}
      },
      "source": [
        "df_wiki.to_csv('/content/drive/My Drive/Colab Notebooks/Omdena/empty_pop_wiki.csv')\n",
        "#df_wiki_try.to_csv('/content/drive/My Drive/Colab Notebooks/Omdena/df_wiki_try.csv')"
      ],
      "execution_count": 0,
      "outputs": []
    },
    {
      "cell_type": "code",
      "metadata": {
        "id": "N1vWCnlRzpYH",
        "colab_type": "code",
        "colab": {
          "base_uri": "https://localhost:8080/",
          "height": 363
        },
        "outputId": "f9820e9e-9cba-4458-a7cc-0b682900f65e"
      },
      "source": [
        "df_wiki.head(10)"
      ],
      "execution_count": 38,
      "outputs": [
        {
          "output_type": "execute_result",
          "data": {
            "text/html": [
              "<div>\n",
              "<style scoped>\n",
              "    .dataframe tbody tr th:only-of-type {\n",
              "        vertical-align: middle;\n",
              "    }\n",
              "\n",
              "    .dataframe tbody tr th {\n",
              "        vertical-align: top;\n",
              "    }\n",
              "\n",
              "    .dataframe thead th {\n",
              "        text-align: right;\n",
              "    }\n",
              "</style>\n",
              "<table border=\"1\" class=\"dataframe\">\n",
              "  <thead>\n",
              "    <tr style=\"text-align: right;\">\n",
              "      <th></th>\n",
              "      <th>Index</th>\n",
              "      <th>SID</th>\n",
              "      <th>NAME_x</th>\n",
              "      <th>YEAR_x</th>\n",
              "      <th>MONTH_x</th>\n",
              "      <th>in_trax</th>\n",
              "      <th>NAME_y</th>\n",
              "      <th>YEAR_y</th>\n",
              "      <th>MONTH_y</th>\n",
              "      <th>in_df</th>\n",
              "      <th>wikipedia link</th>\n",
              "    </tr>\n",
              "  </thead>\n",
              "  <tbody>\n",
              "    <tr>\n",
              "      <th>0</th>\n",
              "      <td>3333</td>\n",
              "      <td>1981003S11059</td>\n",
              "      <td>FLORINE</td>\n",
              "      <td>1981</td>\n",
              "      <td>1</td>\n",
              "      <td>True</td>\n",
              "      <td>NaN</td>\n",
              "      <td>NaN</td>\n",
              "      <td>NaN</td>\n",
              "      <td>NaN</td>\n",
              "      <td>NaN</td>\n",
              "    </tr>\n",
              "    <tr>\n",
              "      <th>1</th>\n",
              "      <td>3335</td>\n",
              "      <td>1981012S12110</td>\n",
              "      <td>MABEL</td>\n",
              "      <td>1981</td>\n",
              "      <td>1</td>\n",
              "      <td>True</td>\n",
              "      <td>NaN</td>\n",
              "      <td>NaN</td>\n",
              "      <td>NaN</td>\n",
              "      <td>NaN</td>\n",
              "      <td>NaN</td>\n",
              "    </tr>\n",
              "    <tr>\n",
              "      <th>2</th>\n",
              "      <td>3336</td>\n",
              "      <td>1981015S09078</td>\n",
              "      <td>GAELLE</td>\n",
              "      <td>1981</td>\n",
              "      <td>1</td>\n",
              "      <td>True</td>\n",
              "      <td>NaN</td>\n",
              "      <td>NaN</td>\n",
              "      <td>NaN</td>\n",
              "      <td>NaN</td>\n",
              "      <td>NaN</td>\n",
              "    </tr>\n",
              "    <tr>\n",
              "      <th>3</th>\n",
              "      <td>3337</td>\n",
              "      <td>1981022S13155</td>\n",
              "      <td>NOT_NAMED</td>\n",
              "      <td>1981</td>\n",
              "      <td>1</td>\n",
              "      <td>True</td>\n",
              "      <td>NaN</td>\n",
              "      <td>NaN</td>\n",
              "      <td>NaN</td>\n",
              "      <td>NaN</td>\n",
              "      <td>NaN</td>\n",
              "    </tr>\n",
              "    <tr>\n",
              "      <th>4</th>\n",
              "      <td>3338</td>\n",
              "      <td>1981028S12069</td>\n",
              "      <td>HELYETTE</td>\n",
              "      <td>1981</td>\n",
              "      <td>1</td>\n",
              "      <td>True</td>\n",
              "      <td>NaN</td>\n",
              "      <td>NaN</td>\n",
              "      <td>NaN</td>\n",
              "      <td>NaN</td>\n",
              "      <td>NaN</td>\n",
              "    </tr>\n",
              "    <tr>\n",
              "      <th>5</th>\n",
              "      <td>3339</td>\n",
              "      <td>1981030S17190</td>\n",
              "      <td>BETSY</td>\n",
              "      <td>1981</td>\n",
              "      <td>1</td>\n",
              "      <td>True</td>\n",
              "      <td>NaN</td>\n",
              "      <td>NaN</td>\n",
              "      <td>NaN</td>\n",
              "      <td>NaN</td>\n",
              "      <td>https://en.wikipedia.org/wiki/Hurricane_Betsy</td>\n",
              "    </tr>\n",
              "    <tr>\n",
              "      <th>6</th>\n",
              "      <td>3340</td>\n",
              "      <td>1981039S09178</td>\n",
              "      <td>CLIFF</td>\n",
              "      <td>1981</td>\n",
              "      <td>2</td>\n",
              "      <td>True</td>\n",
              "      <td>NaN</td>\n",
              "      <td>NaN</td>\n",
              "      <td>NaN</td>\n",
              "      <td>NaN</td>\n",
              "      <td>https://en.wikipedia.org/wiki/Cyclone_Cliff_(1...</td>\n",
              "    </tr>\n",
              "    <tr>\n",
              "      <th>7</th>\n",
              "      <td>3341</td>\n",
              "      <td>1981039S14153</td>\n",
              "      <td>EDDIE</td>\n",
              "      <td>1981</td>\n",
              "      <td>2</td>\n",
              "      <td>True</td>\n",
              "      <td>NaN</td>\n",
              "      <td>NaN</td>\n",
              "      <td>NaN</td>\n",
              "      <td>NaN</td>\n",
              "      <td>https://en.wikipedia.org/wiki/Cyclone_Eddie</td>\n",
              "    </tr>\n",
              "    <tr>\n",
              "      <th>8</th>\n",
              "      <td>3342</td>\n",
              "      <td>1981047S18181</td>\n",
              "      <td>NOT_NAMED</td>\n",
              "      <td>1981</td>\n",
              "      <td>2</td>\n",
              "      <td>True</td>\n",
              "      <td>NaN</td>\n",
              "      <td>NaN</td>\n",
              "      <td>NaN</td>\n",
              "      <td>NaN</td>\n",
              "      <td>None</td>\n",
              "    </tr>\n",
              "    <tr>\n",
              "      <th>9</th>\n",
              "      <td>3343</td>\n",
              "      <td>1981048S12055</td>\n",
              "      <td>IADINE</td>\n",
              "      <td>1981</td>\n",
              "      <td>2</td>\n",
              "      <td>True</td>\n",
              "      <td>NaN</td>\n",
              "      <td>NaN</td>\n",
              "      <td>NaN</td>\n",
              "      <td>NaN</td>\n",
              "      <td>None</td>\n",
              "    </tr>\n",
              "  </tbody>\n",
              "</table>\n",
              "</div>"
            ],
            "text/plain": [
              "   Index  ...                                     wikipedia link\n",
              "0   3333  ...                                                NaN\n",
              "1   3335  ...                                                NaN\n",
              "2   3336  ...                                                NaN\n",
              "3   3337  ...                                                NaN\n",
              "4   3338  ...                                                NaN\n",
              "5   3339  ...      https://en.wikipedia.org/wiki/Hurricane_Betsy\n",
              "6   3340  ...  https://en.wikipedia.org/wiki/Cyclone_Cliff_(1...\n",
              "7   3341  ...        https://en.wikipedia.org/wiki/Cyclone_Eddie\n",
              "8   3342  ...                                               None\n",
              "9   3343  ...                                               None\n",
              "\n",
              "[10 rows x 11 columns]"
            ]
          },
          "metadata": {
            "tags": []
          },
          "execution_count": 38
        }
      ]
    },
    {
      "cell_type": "code",
      "metadata": {
        "id": "Ibj6QYwn0HrJ",
        "colab_type": "code",
        "colab": {}
      },
      "source": [
        ""
      ],
      "execution_count": 0,
      "outputs": []
    }
  ]
}