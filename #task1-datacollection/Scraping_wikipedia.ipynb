{
 "cells": [
  {
   "cell_type": "code",
   "execution_count": 52,
   "metadata": {},
   "outputs": [],
   "source": [
    "import csv\n",
    "# import the library we use to open URLs\n",
    "import urllib.request\n",
    "# import the BeautifulSoup library so we can parse HTML and XML documents\n",
    "from bs4 import BeautifulSoup"
   ]
  },
  {
   "cell_type": "code",
   "execution_count": 89,
   "metadata": {},
   "outputs": [],
   "source": [
    "cyclone_list = [\"Cyclone_Idai\",\n",
    "\"Cyclone_Gafilo\",\n",
    "\"Cyclone_Nargis\",\n",
    "\"Cyclone_Bola\",\n",
    "\"Cyclone_Sidr\",\n",
    "\"Cyclone_Favio\",\n",
    "\"Cyclone_Winston\",\n",
    "\"Cyclone_Yasi\",\n",
    "\"Cyclone_Chapala\",\n",
    "#\"Cyclone_Magda\",\n",
    "\"Cyclone_Komen\",\n",
    "\"Cyclone_Larry\",\n",
    "\"Cyclone_Mala\",\n",
    "#\"Cyclone_Gaja\",\n",
    "\"Cyclone_Fani\",\n",
    "\"Cyclone_Vayu\",\n",
    "\"Cyclone_Viyaru\",\n",
    "#\"Cyclone_Kyarr\",\n",
    "\"Cyclone_Gonu\",\n",
    "\"Cyclone_Phyan\",\n",
    "\"Cyclone_Belna\",\n",
    "\"Cyclone_Bulbul\",\n",
    "\"Cyclone_Luban\",\n",
    "\"Cyclone_Megh\",\n",
    "\"Cyclone_Agni\",\n",
    "\"Cyclone_Mekunu\",\n",
    "\"Cyclone_Maarutha\"\n",
    "#\"Cyclone_Aila\",\n",
    "#\"Cyclone_Vardah\"\n",
    "\n",
    "\n",
    "               \n",
    "]\n"
   ]
  },
  {
   "cell_type": "code",
   "execution_count": 90,
   "metadata": {},
   "outputs": [],
   "source": [
    "what_we_are_looking_for = [\"Formed\", \"Dissipated\", \"Highest winds\", \"Lowest pressure\", \"Fatalities\", \"Damage\", \"Areas affected\"]\n",
    "\n",
    "with open('cyclones.csv', 'w', newline='') as file:\n",
    "    writer = csv.writer(file)\n",
    "    column_names = [\"Cyclone name\"] + what_we_are_looking_for\n",
    "    writer.writerow(column_names)\n",
    "    for cyclone in cyclone_list:\n",
    "        url = \"https://en.wikipedia.org/wiki/\" + cyclone\n",
    "        page = urllib.request.urlopen(url)\n",
    "        soup = BeautifulSoup(page, \"lxml\")\n",
    "        tables = soup.find_all(\"tbody\")\n",
    "        main_table = tables[0]\n",
    "        res = []\n",
    "        for i in range(len(what_we_are_looking_for)):    \n",
    "            res.append(main_table.find(text=what_we_are_looking_for[i]).findNext('td').text)\n",
    "        res.insert(0, cyclone)\n",
    "        writer.writerow(res)"
   ]
  },
  {
   "cell_type": "code",
   "execution_count": null,
   "metadata": {},
   "outputs": [],
   "source": []
  }
 ],
 "metadata": {
  "kernelspec": {
   "display_name": "Python 3",
   "language": "python",
   "name": "python3"
  },
  "language_info": {
   "codemirror_mode": {
    "name": "ipython",
    "version": 3
   },
   "file_extension": ".py",
   "mimetype": "text/x-python",
   "name": "python",
   "nbconvert_exporter": "python",
   "pygments_lexer": "ipython3",
   "version": "3.6.7"
  }
 },
 "nbformat": 4,
 "nbformat_minor": 2
}
