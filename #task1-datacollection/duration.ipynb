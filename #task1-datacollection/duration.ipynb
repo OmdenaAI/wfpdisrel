{
 "cells": [
  {
   "cell_type": "markdown",
   "metadata": {},
   "source": [
    "### creating table with extra column 'duration (days)' "
   ]
  },
  {
   "cell_type": "code",
   "execution_count": 1,
   "metadata": {},
   "outputs": [],
   "source": [
    "import pandas as pd\n",
    "from datetime import datetime"
   ]
  },
  {
   "cell_type": "code",
   "execution_count": 2,
   "metadata": {},
   "outputs": [],
   "source": [
    "df = pd.read_csv('./datasets/emdat/Cyclones_1980_2020_cleaned.csv')"
   ]
  },
  {
   "cell_type": "code",
   "execution_count": 3,
   "metadata": {},
   "outputs": [
    {
     "data": {
      "text/plain": [
       "<bound method NDFrame.head of       Start Date    End Date         Country  ISO  \\\n",
       "0      1/10/1989   1/10/1989  American Samoa  ASM   \n",
       "1       1/5/2004    1/5/2004  American Samoa  ASM   \n",
       "2      2/16/2005   2/16/2005  American Samoa  ASM   \n",
       "3       1/2/1955    1/2/1955        Anguilla  AIA   \n",
       "4       9/4/1960    9/4/1960        Anguilla  AIA   \n",
       "...          ...         ...             ...  ...   \n",
       "2183   5/23/2018   5/23/2018           Yemen  YEM   \n",
       "2184  10/14/2018  10/15/2018           Yemen  YEM   \n",
       "2185    3/7/2003    3/7/2003        Zimbabwe  ZWE   \n",
       "2186   2/27/2007   2/27/2007        Zimbabwe  ZWE   \n",
       "2187   2/13/2017   2/17/2017        Zimbabwe  ZWE   \n",
       "\n",
       "                                               Location  Latitude  Longitude  \\\n",
       "0                                                   NaN       NaN        NaN   \n",
       "1                                        American Samoa       NaN        NaN   \n",
       "2                                         Manu'a island       NaN        NaN   \n",
       "3                                                   NaN       NaN        NaN   \n",
       "4                              South Hille and West End       NaN        NaN   \n",
       "...                                                 ...       ...        ...   \n",
       "2183                                       Socotra Isl.       NaN        NaN   \n",
       "2184                             Al Maharah governorate       NaN        NaN   \n",
       "2185  Manicaland, Masvingo, Matabeleland South provi...       NaN        NaN   \n",
       "2186  Vumba, Odzi, Marange areas (Mutare district, M...       NaN        NaN   \n",
       "2187  Chitungwiza (Harare), Makoni, Nyanga (Manicala...       NaN        NaN   \n",
       "\n",
       "      Magnitude value Magnitude scale Disaster type  Disaster subtype  \\\n",
       "0                 NaN             Kph         Storm  Tropical cyclone   \n",
       "1               310.0             Kph         Storm  Tropical cyclone   \n",
       "2                 NaN             Kph         Storm  Tropical cyclone   \n",
       "3                 NaN             Kph         Storm  Tropical cyclone   \n",
       "4                 NaN             Kph         Storm  Tropical cyclone   \n",
       "...               ...             ...           ...               ...   \n",
       "2183              NaN             Kph         Storm  Tropical cyclone   \n",
       "2184              NaN             Kph         Storm  Tropical cyclone   \n",
       "2185              NaN             Kph         Storm  Tropical cyclone   \n",
       "2186              NaN             Kph         Storm  Tropical cyclone   \n",
       "2187              NaN             Kph         Storm  Tropical cyclone   \n",
       "\n",
       "                Associated disaster Associated disaster2  Total deaths  \\\n",
       "0                                --                   --             0   \n",
       "1                                --                   --             0   \n",
       "2                                --                   --             0   \n",
       "3                                --                   --             0   \n",
       "4                                --                   --             5   \n",
       "...                             ...                  ...           ...   \n",
       "2183                          Flood                   --            24   \n",
       "2184                          Flood                   --            25   \n",
       "2185                           Rain                   --             8   \n",
       "2186                             --                   --             0   \n",
       "2187  Slide (land, mud, snow, rock)                Flood           251   \n",
       "\n",
       "      Total affected  Total damage ('000 US$)  Insured losses ('000 US$)  \\\n",
       "0                  0                   5000.0                        0.0   \n",
       "1              23060                 150000.0                        0.0   \n",
       "2                  0                      0.0                        0.0   \n",
       "3                  0                      0.0                        0.0   \n",
       "4               1250                  35000.0                        0.0   \n",
       "...              ...                      ...                        ...   \n",
       "2183             750                      0.0                        0.0   \n",
       "2184           15124                      0.0                        0.0   \n",
       "2185               0                      0.0                        0.0   \n",
       "2186               0                   1200.0                        0.0   \n",
       "2187          113023                 189000.0                        0.0   \n",
       "\n",
       "                       Disaster name Disaster No.  \n",
       "0                               Gina    1989-0561  \n",
       "1                               Heta    2004-0004  \n",
       "2                               Olaf    2005-0151  \n",
       "3                              Alice    1955-0025  \n",
       "4                              Donna    1960-0026  \n",
       "...                              ...          ...  \n",
       "2183                Cyclone 'Mekunu'    2018-0177  \n",
       "2184                 Cyclone 'Luban'    2018-0394  \n",
       "2185                          Japhet    2003-0114  \n",
       "2186                           Favio    2007-0080  \n",
       "2187  Tropical depression 'Ex-Dineo'    2017-0091  \n",
       "\n",
       "[2188 rows x 19 columns]>"
      ]
     },
     "execution_count": 3,
     "metadata": {},
     "output_type": "execute_result"
    }
   ],
   "source": [
    "df.head"
   ]
  },
  {
   "cell_type": "code",
   "execution_count": 4,
   "metadata": {},
   "outputs": [],
   "source": [
    "date_format = '%m/%d/%Y'"
   ]
  },
  {
   "cell_type": "code",
   "execution_count": 5,
   "metadata": {},
   "outputs": [],
   "source": [
    "duration = []"
   ]
  },
  {
   "cell_type": "code",
   "execution_count": 6,
   "metadata": {},
   "outputs": [],
   "source": [
    "for i in range(df.shape[0]):\n",
    "    try:\n",
    "        start_date = datetime.strptime(df['Start Date'][i], date_format)\n",
    "        end_date = datetime.strptime(df['End Date'][i], date_format)\n",
    "        diff = end_date - start_date\n",
    "        duration.append(str(diff.days + 1))\n",
    "    except:\n",
    "        duration.append(None)"
   ]
  },
  {
   "cell_type": "code",
   "execution_count": 7,
   "metadata": {},
   "outputs": [
    {
     "data": {
      "text/plain": [
       "<bound method NDFrame.head of       Start Date    End Date         Country  ISO  \\\n",
       "0      1/10/1989   1/10/1989  American Samoa  ASM   \n",
       "1       1/5/2004    1/5/2004  American Samoa  ASM   \n",
       "2      2/16/2005   2/16/2005  American Samoa  ASM   \n",
       "3       1/2/1955    1/2/1955        Anguilla  AIA   \n",
       "4       9/4/1960    9/4/1960        Anguilla  AIA   \n",
       "...          ...         ...             ...  ...   \n",
       "2183   5/23/2018   5/23/2018           Yemen  YEM   \n",
       "2184  10/14/2018  10/15/2018           Yemen  YEM   \n",
       "2185    3/7/2003    3/7/2003        Zimbabwe  ZWE   \n",
       "2186   2/27/2007   2/27/2007        Zimbabwe  ZWE   \n",
       "2187   2/13/2017   2/17/2017        Zimbabwe  ZWE   \n",
       "\n",
       "                                               Location  Latitude  Longitude  \\\n",
       "0                                                   NaN       NaN        NaN   \n",
       "1                                        American Samoa       NaN        NaN   \n",
       "2                                         Manu'a island       NaN        NaN   \n",
       "3                                                   NaN       NaN        NaN   \n",
       "4                              South Hille and West End       NaN        NaN   \n",
       "...                                                 ...       ...        ...   \n",
       "2183                                       Socotra Isl.       NaN        NaN   \n",
       "2184                             Al Maharah governorate       NaN        NaN   \n",
       "2185  Manicaland, Masvingo, Matabeleland South provi...       NaN        NaN   \n",
       "2186  Vumba, Odzi, Marange areas (Mutare district, M...       NaN        NaN   \n",
       "2187  Chitungwiza (Harare), Makoni, Nyanga (Manicala...       NaN        NaN   \n",
       "\n",
       "      Magnitude value Magnitude scale Disaster type  Disaster subtype  \\\n",
       "0                 NaN             Kph         Storm  Tropical cyclone   \n",
       "1               310.0             Kph         Storm  Tropical cyclone   \n",
       "2                 NaN             Kph         Storm  Tropical cyclone   \n",
       "3                 NaN             Kph         Storm  Tropical cyclone   \n",
       "4                 NaN             Kph         Storm  Tropical cyclone   \n",
       "...               ...             ...           ...               ...   \n",
       "2183              NaN             Kph         Storm  Tropical cyclone   \n",
       "2184              NaN             Kph         Storm  Tropical cyclone   \n",
       "2185              NaN             Kph         Storm  Tropical cyclone   \n",
       "2186              NaN             Kph         Storm  Tropical cyclone   \n",
       "2187              NaN             Kph         Storm  Tropical cyclone   \n",
       "\n",
       "                Associated disaster Associated disaster2  Total deaths  \\\n",
       "0                                --                   --             0   \n",
       "1                                --                   --             0   \n",
       "2                                --                   --             0   \n",
       "3                                --                   --             0   \n",
       "4                                --                   --             5   \n",
       "...                             ...                  ...           ...   \n",
       "2183                          Flood                   --            24   \n",
       "2184                          Flood                   --            25   \n",
       "2185                           Rain                   --             8   \n",
       "2186                             --                   --             0   \n",
       "2187  Slide (land, mud, snow, rock)                Flood           251   \n",
       "\n",
       "      Total affected  Total damage ('000 US$)  Insured losses ('000 US$)  \\\n",
       "0                  0                   5000.0                        0.0   \n",
       "1              23060                 150000.0                        0.0   \n",
       "2                  0                      0.0                        0.0   \n",
       "3                  0                      0.0                        0.0   \n",
       "4               1250                  35000.0                        0.0   \n",
       "...              ...                      ...                        ...   \n",
       "2183             750                      0.0                        0.0   \n",
       "2184           15124                      0.0                        0.0   \n",
       "2185               0                      0.0                        0.0   \n",
       "2186               0                   1200.0                        0.0   \n",
       "2187          113023                 189000.0                        0.0   \n",
       "\n",
       "                       Disaster name Disaster No. Duration (days)  \n",
       "0                               Gina    1989-0561               1  \n",
       "1                               Heta    2004-0004               1  \n",
       "2                               Olaf    2005-0151               1  \n",
       "3                              Alice    1955-0025               1  \n",
       "4                              Donna    1960-0026               1  \n",
       "...                              ...          ...             ...  \n",
       "2183                Cyclone 'Mekunu'    2018-0177               1  \n",
       "2184                 Cyclone 'Luban'    2018-0394               2  \n",
       "2185                          Japhet    2003-0114               1  \n",
       "2186                           Favio    2007-0080               1  \n",
       "2187  Tropical depression 'Ex-Dineo'    2017-0091               5  \n",
       "\n",
       "[2188 rows x 20 columns]>"
      ]
     },
     "execution_count": 7,
     "metadata": {},
     "output_type": "execute_result"
    }
   ],
   "source": [
    "df['Duration (days)'] = duration\n",
    "df.head"
   ]
  },
  {
   "cell_type": "code",
   "execution_count": 8,
   "metadata": {},
   "outputs": [],
   "source": [
    "df.to_csv('./datasets/emdat/Cyclones_1980_2020_dur.csv')"
   ]
  }
 ],
 "metadata": {
  "kernelspec": {
   "display_name": "Python 3",
   "language": "python",
   "name": "python3"
  },
  "language_info": {
   "codemirror_mode": {
    "name": "ipython",
    "version": 3
   },
   "file_extension": ".py",
   "mimetype": "text/x-python",
   "name": "python",
   "nbconvert_exporter": "python",
   "pygments_lexer": "ipython3",
   "version": "3.6.7"
  }
 },
 "nbformat": 4,
 "nbformat_minor": 2
}
