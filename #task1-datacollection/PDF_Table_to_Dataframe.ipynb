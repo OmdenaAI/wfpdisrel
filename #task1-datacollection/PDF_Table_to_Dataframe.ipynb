{
  "nbformat": 4,
  "nbformat_minor": 0,
  "metadata": {
    "colab": {
      "name": "PDF Table to Dataframe.ipynb",
      "provenance": [],
      "collapsed_sections": []
    },
    "kernelspec": {
      "name": "python3",
      "display_name": "Python 3"
    }
  },
  "cells": [
    {
      "cell_type": "markdown",
      "metadata": {
        "id": "7XQ1mvRMH6Vh",
        "colab_type": "text"
      },
      "source": [
        "# This code extracts text from PDF tables, by looking at specific pages."
      ]
    },
    {
      "cell_type": "markdown",
      "metadata": {
        "id": "XxUzrVEOIGNx",
        "colab_type": "text"
      },
      "source": [
        "## Install / import necessary libs"
      ]
    },
    {
      "cell_type": "code",
      "metadata": {
        "id": "YTti9XbX7nJy",
        "colab_type": "code",
        "colab": {}
      },
      "source": [
        "pip install tabula-py"
      ],
      "execution_count": 0,
      "outputs": []
    },
    {
      "cell_type": "code",
      "metadata": {
        "id": "7sGq3OU5HFcB",
        "colab_type": "code",
        "colab": {}
      },
      "source": [
        "pip install PyPDF2"
      ],
      "execution_count": 0,
      "outputs": []
    },
    {
      "cell_type": "code",
      "metadata": {
        "id": "y2KFkN4K760C",
        "colab_type": "code",
        "colab": {}
      },
      "source": [
        "from tabula import read_pdf\n",
        "import PyPDF2\n",
        "import re\n",
        "import os"
      ],
      "execution_count": 0,
      "outputs": []
    },
    {
      "cell_type": "markdown",
      "metadata": {
        "id": "UDAWWBsDIR-W",
        "colab_type": "text"
      },
      "source": [
        "## Extract text"
      ]
    },
    {
      "cell_type": "markdown",
      "metadata": {
        "id": "6XKAD01UIY8n",
        "colab_type": "text"
      },
      "source": [
        "### First we look at the files Emergency Food Assistance*.pdf and extract tables. \n",
        "\n",
        "### Steps:\n",
        "### 1. Fetch the page first with the string \"ANNEX I-A\" - using PyPDF2 lib.\n",
        "### 2. Extract the table using tabula-py lib. "
      ]
    },
    {
      "cell_type": "code",
      "metadata": {
        "id": "721MPkiGi0Yu",
        "colab_type": "code",
        "colab": {}
      },
      "source": [
        "# Convenience function that takes a filename and provides a list of pagenumber\n",
        "def get_table_from_pdf(filename):\n",
        "  # \n",
        "  object = PyPDF2.PdfFileReader(filename)\n",
        "\n",
        "  # get number of pages\n",
        "  NumPages = object.getNumPages()\n",
        "\n",
        "  # define keyterms\n",
        "  searchString = \"blah blah blah\"\n",
        "  if(filename.startswith('Emergency Food Assistance')):\n",
        "    searchString = \"ANNEX I-A\"\n",
        "\n",
        "  # extract text and do the search\n",
        "  for i in range(0, NumPages):\n",
        "      PageObj = object.getPage(i)\n",
        "      textPDF = PageObj.extractText() \n",
        "      ResSearch = re.search(searchString, textPDF, flags = 1)\n",
        "      if ResSearch:\n",
        "        # print(\"For file: \", filename, \", the page number is: \", str(i))\n",
        "        return str(i)\n",
        "        #Be careful as this page number needs to be incremented by 1 in the calling code "
      ],
      "execution_count": 0,
      "outputs": []
    },
    {
      "cell_type": "code",
      "metadata": {
        "id": "yfX8ok5pmxkd",
        "colab_type": "code",
        "colab": {
          "base_uri": "https://localhost:8080/",
          "height": 34
        },
        "outputId": "03a4af22-fc6d-4ca0-e090-f12d2a5ffeb8"
      },
      "source": [
        "file = 'Emergency Food Assistance to Victims of Hurricane Irma in Cuba.pdf'\n",
        "file1 = 'Assistance to Victims of Hurricane Irma and Hurricane Jose in the Eastern_Caribbean.pdf'\n",
        "get_table_from_pdf(file1)\n",
        "#Assistance to Victims of Hurricane Irma and Hurricane Jose in the Eastern_Caribbean.pdf\n",
        "#Emergency Food Assistance to Communities Affected by_Hurricane Maria in Dominica.pdf"
      ],
      "execution_count": 93,
      "outputs": [
        {
          "output_type": "stream",
          "text": [
            "PdfReadWarning: Xref table not zero-indexed. ID numbers for objects will be corrected. [pdf.py:1736]\n"
          ],
          "name": "stderr"
        }
      ]
    },
    {
      "cell_type": "code",
      "metadata": {
        "id": "U3fchE-ACOlL",
        "colab_type": "code",
        "outputId": "a8ffc0ea-a7ec-4c8c-c5c4-a16653f10301",
        "colab": {
          "base_uri": "https://localhost:8080/",
          "height": 1000
        }
      },
      "source": [
        "# get all the pdfs from the current directory\n",
        "big_list = []\n",
        "for file in os.listdir('/content'):\n",
        "  if(file.endswith('pdf')):\n",
        "    pageNumber = get_table_from_pdf(file)\n",
        "    # Handle the exception case when file name for now does not start with 'Emergency'\n",
        "    if(pageNumber is not None):\n",
        "      print(file)\n",
        "      # print(pageNumber)\n",
        "      pageNumber = int(pageNumber) + 1\n",
        "      df = read_pdf(file, pages = pageNumber)\n",
        "      big_list.append(df)\n",
        "\n",
        "print(big_list)"
      ],
      "execution_count": 122,
      "outputs": [
        {
          "output_type": "stream",
          "text": [
            "PdfReadWarning: Xref table not zero-indexed. ID numbers for objects will be corrected. [pdf.py:1736]\n"
          ],
          "name": "stderr"
        },
        {
          "output_type": "stream",
          "text": [
            "Emergency Food Assistance to Victims of Hurricane Irma in Cuba.pdf\n"
          ],
          "name": "stdout"
        },
        {
          "output_type": "stream",
          "text": [
            "PdfReadWarning: Xref table not zero-indexed. ID numbers for objects will be corrected. [pdf.py:1736]\n"
          ],
          "name": "stderr"
        },
        {
          "output_type": "stream",
          "text": [
            "Emergency Food Assistance to Victims of Cyclone Pam.pdf\n"
          ],
          "name": "stdout"
        },
        {
          "output_type": "stream",
          "text": [
            "Got stderr: Mar 18, 2020 5:45:28 PM org.apache.pdfbox.pdmodel.font.PDType1Font <init>\n",
            "WARNING: Using fallback font LiberationSans for base font Symbol\n",
            "Mar 18, 2020 5:45:28 PM org.apache.pdfbox.pdmodel.font.PDType1Font <init>\n",
            "WARNING: Using fallback font LiberationSans for base font ZapfDingbats\n",
            "\n",
            "PdfReadWarning: Xref table not zero-indexed. ID numbers for objects will be corrected. [pdf.py:1736]\n"
          ],
          "name": "stderr"
        },
        {
          "output_type": "stream",
          "text": [
            "Emergency Food Assistance to Communities Affected by_Hurricane Matthew in Cuba.pdf\n"
          ],
          "name": "stdout"
        },
        {
          "output_type": "stream",
          "text": [
            "Got stderr: Mar 18, 2020 5:45:30 PM org.apache.pdfbox.pdmodel.font.PDType1Font <init>\n",
            "WARNING: Using fallback font LiberationSans for base font Symbol\n",
            "Mar 18, 2020 5:45:30 PM org.apache.pdfbox.pdmodel.font.PDType1Font <init>\n",
            "WARNING: Using fallback font LiberationSans for base font ZapfDingbats\n",
            "\n",
            "PdfReadWarning: Xref table not zero-indexed. ID numbers for objects will be corrected. [pdf.py:1736]\n"
          ],
          "name": "stderr"
        },
        {
          "output_type": "stream",
          "text": [
            "Emergency Food Assistance to Communities Affected by_Hurricane Maria in Dominica.pdf\n",
            "[[                           PROJECT COST BREAKDOWN\n",
            "0                           Value  Quantity Value\n",
            "1                                (mt) (USD) (USD)\n",
            "2                                  Food Transfers\n",
            "3                         Cereals 2,339 1,309,734\n",
            "4                                             NaN\n",
            "5                          Pulses 1,145 1,144,912\n",
            "6                                             NaN\n",
            "7                        Oil and fats 572 610,441\n",
            "8                        Mixed and blended food -\n",
            "9                                        Others -\n",
            "10           Total Food Transfers 4,056 3,065,087\n",
            "11                     External Transport 451,506\n",
            "12                                           LTSH\n",
            "13                               ODOC Food 32,448\n",
            "14             Food and Related Costs 1 3,549,040\n",
            "15                                C&V Transfers -\n",
            "16                                            NaN\n",
            "17                            C&V Related costs -\n",
            "18            Cash and Vouchers and Related Costs\n",
            "19    Capacity Development & Augmentation 240,154\n",
            "20             Direct Operational Costs 3,789,194\n",
            "21   Direct support costs (see Annex I-B) 169,506\n",
            "22           Total Direct Project Costs 3,958,700\n",
            "23  Indirect support costs (7.0 percent)2 277,109\n",
            "24                      TOTAL WFP COSTS 4,235,809], [  Food and Related Costs 1\n",
            "0  ood and Related Costs 1,                    PROJECT COST BREAKDOWN  ... Unnamed: 8\n",
            "0                                     NaN  ...        NaN\n",
            "1                          Food Transfers  ...        NaN\n",
            "2                                 Cereals  ...        NaN\n",
            "3                                  Pulses  ...        NaN\n",
            "4                            Oil and fats  ...        NaN\n",
            "5                  Mixed and blended food  ...        NaN\n",
            "6                                  Others  ...        NaN\n",
            "7                    Total Food Transfers  ...        NaN\n",
            "8                      External Transport  ...        NaN\n",
            "9                                    LTSH  ...        NaN\n",
            "10                              ODOC Food  ...        NaN\n",
            "11               Food and Related Costs 1  ...        NaN\n",
            "12                                    NaN  ...        NaN\n",
            "13                          C&V Transfers  ...        NaN\n",
            "14                      C&V Related costs  ...        NaN\n",
            "15                                    NaN  ...        NaN\n",
            "16                                    NaN  ...        NaN\n",
            "17               Direct Operational Costs  ...        NaN\n",
            "18   Direct support costs (see Annex I-B)  ...        NaN\n",
            "19             Total Direct Project Costs  ...        NaN\n",
            "20  Indirect support costs (7.0 percent)2  ...        NaN\n",
            "21                        TOTAL WFP COSTS  ...        NaN\n",
            "\n",
            "[22 rows x 10 columns]], [                               Unnamed: 0 PROJECT COST BREAKDOWN Unnamed: 1\n",
            "0                                     NaN         Quantity Value      Value\n",
            "1                                     NaN             (mt) (US$)      (US$)\n",
            "2                          Food Transfers                    NaN        NaN\n",
            "3                                 Cereals          1,831 879,045        NaN\n",
            "4                                  Pulses        1,709 1,222,116        NaN\n",
            "5                            Oil and fats            292 365,189        NaN\n",
            "6                  Mixed and blended food               18 9,618        NaN\n",
            "7                                  Others             0.11 1,632        NaN\n",
            "8                    Total Food Transfers        3,851 2,477,599        NaN\n",
            "9                      External Transport                380,554        NaN\n",
            "10                                   LTSH                      -        NaN\n",
            "11                              ODOC Food                111,403        NaN\n",
            "12               Food and Related Costs 4                    NaN  2,969,556\n",
            "13                          C&V Transfers                      -        NaN\n",
            "14                      C&V Related costs                      -        NaN\n",
            "15    Cash and Vouchers and Related Costs                    NaN        NaN\n",
            "16    Capacity Development & Augmentation                    NaN    505,500\n",
            "17               Direct Operational Costs                    NaN  3,475,056\n",
            "18   Direct support costs (see Annex I-B)                    NaN    367,717\n",
            "19             Total Direct Project Costs                    NaN  3,842,773\n",
            "20  Indirect support costs (7.0 percent)5                    NaN    268,994\n",
            "21                        TOTAL WFP COSTS                    NaN  4,111,767], [                           PROJECT COST BREAKDOWN\n",
            "0                           Value  Quantity Value\n",
            "1                                (mt) (US$) (US$)\n",
            "2                                  Food Transfers\n",
            "3                           Cereals  175  140,000\n",
            "4                                             NaN\n",
            "5                              Pulses  25  41,000\n",
            "6                                             NaN\n",
            "7                        Oil and fats  10  14,000\n",
            "8                      Mixed and blended food  -0\n",
            "9                              Others  25  46,250\n",
            "10               Total Food Transfers 235 241,250\n",
            "11                      External Transport 16,450\n",
            "12                                    LTSH 27,326\n",
            "13                               ODOC Food 24,979\n",
            "14               Food and Related Costs 7 310,005\n",
            "15                        C&V Transfers 2,325,000\n",
            "16                                            NaN\n",
            "17                      C&V Related costs 130,000\n",
            "18  Cash and Vouchers and Related Costs 2,455,000\n",
            "19     Capacity Development & Augmentation282,280\n",
            "20             Direct Operational Costs 3,047,285\n",
            "21   Direct support costs (see Annex I-B) 737,493\n",
            "22           Total Direct Project Costs 3,784,778\n",
            "23  Indirect support costs (7.0 percent)8 264,935\n",
            "24                      TOTAL WFP COSTS 4,049,713]]\n"
          ],
          "name": "stdout"
        }
      ]
    },
    {
      "cell_type": "code",
      "metadata": {
        "id": "rCFbenkCCc_A",
        "colab_type": "code",
        "outputId": "50c0fa83-3871-45c1-82b6-a64abcc1f8b2",
        "colab": {
          "base_uri": "https://localhost:8080/",
          "height": 459
        }
      },
      "source": [
        "big_list[0]"
      ],
      "execution_count": 123,
      "outputs": [
        {
          "output_type": "execute_result",
          "data": {
            "text/plain": [
              "[                           PROJECT COST BREAKDOWN\n",
              " 0                           Value  Quantity Value\n",
              " 1                                (mt) (USD) (USD)\n",
              " 2                                  Food Transfers\n",
              " 3                         Cereals 2,339 1,309,734\n",
              " 4                                             NaN\n",
              " 5                          Pulses 1,145 1,144,912\n",
              " 6                                             NaN\n",
              " 7                        Oil and fats 572 610,441\n",
              " 8                        Mixed and blended food -\n",
              " 9                                        Others -\n",
              " 10           Total Food Transfers 4,056 3,065,087\n",
              " 11                     External Transport 451,506\n",
              " 12                                           LTSH\n",
              " 13                               ODOC Food 32,448\n",
              " 14             Food and Related Costs 1 3,549,040\n",
              " 15                                C&V Transfers -\n",
              " 16                                            NaN\n",
              " 17                            C&V Related costs -\n",
              " 18            Cash and Vouchers and Related Costs\n",
              " 19    Capacity Development & Augmentation 240,154\n",
              " 20             Direct Operational Costs 3,789,194\n",
              " 21   Direct support costs (see Annex I-B) 169,506\n",
              " 22           Total Direct Project Costs 3,958,700\n",
              " 23  Indirect support costs (7.0 percent)2 277,109\n",
              " 24                      TOTAL WFP COSTS 4,235,809]"
            ]
          },
          "metadata": {
            "tags": []
          },
          "execution_count": 123
        }
      ]
    },
    {
      "cell_type": "code",
      "metadata": {
        "id": "VHdyKXNdCgQM",
        "colab_type": "code",
        "colab": {}
      },
      "source": [
        ""
      ],
      "execution_count": 0,
      "outputs": []
    }
  ]
}