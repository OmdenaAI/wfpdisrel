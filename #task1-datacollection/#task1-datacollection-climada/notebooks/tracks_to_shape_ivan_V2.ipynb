{
 "cells": [
  {
   "cell_type": "code",
   "execution_count": 1,
   "metadata": {
    "colab": {},
    "colab_type": "code",
    "id": "dXrJSlw9hQys"
   },
   "outputs": [],
   "source": [
    "import pandas as pd\n",
    "import numpy as np\n",
    "import math\n",
    "from math import cos, sin, pi\n",
    "import matplotlib.pyplot as plt"
   ]
  },
  {
   "cell_type": "markdown",
   "metadata": {
    "colab_type": "text",
    "id": "9RR_O_s5gsO6"
   },
   "source": [
    "### Shape function \n"
   ]
  },
  {
   "cell_type": "code",
   "execution_count": 16,
   "metadata": {
    "colab": {},
    "colab_type": "code",
    "id": "il0w5llZh7-V"
   },
   "outputs": [],
   "source": [
    "df = pd.read_csv('../../datasets/epac-atl.csv')"
   ]
  },
  {
   "cell_type": "code",
   "execution_count": 17,
   "metadata": {},
   "outputs": [],
   "source": [
    "df.to_csv('../../datasets/epac-atl.csv')"
   ]
  },
  {
   "cell_type": "code",
   "execution_count": 18,
   "metadata": {
    "colab": {},
    "colab_type": "code",
    "id": "8Kd-eqOUYpXp"
   },
   "outputs": [],
   "source": [
    "def dist_(x1,y1,x2,y2):\n",
    "    return math.sqrt((x2 - x1)**2 + (y2 - y1)**2)"
   ]
  },
  {
   "cell_type": "code",
   "execution_count": 19,
   "metadata": {},
   "outputs": [],
   "source": [
    "def shift_reset (df_new, radius_col):\n",
    "    df_new['long_1'] = df_new.groupby(['name'])['long'].shift(-1)\n",
    "    df_new['lat_1'] = df_new.groupby(['name'])['lat'].shift(-1)\n",
    "    df_new[radius_col+'_1'] = df_new.groupby(['name'])[radius_col].shift(-1)\n",
    "    df_new_new =df_new.reset_index()\n",
    "    return df_new_new"
   ]
  },
  {
   "cell_type": "code",
   "execution_count": 20,
   "metadata": {},
   "outputs": [],
   "source": [
    "def shift_only(df_new, radius_col):\n",
    "    df_new['long_1'] = df_new.groupby(['name'])['long'].shift(-1)\n",
    "    df_new['lat_1'] = df_new.groupby(['name'])['lat'].shift(-1)\n",
    "    df_new[radius_col+'_1'] = df_new.groupby(['name'])[radius_col].shift(-1)\n",
    " \n",
    "    return df_new"
   ]
  },
  {
   "cell_type": "code",
   "execution_count": 21,
   "metadata": {},
   "outputs": [],
   "source": [
    "def copy_long_lat(df_new, radius_col ):\n",
    "    initial_lat=df_new[\"lat\"].iloc[-1]\n",
    "    initial_long=df_new[\"long\"].iloc[-1]\n",
    "    initial_r=df_new[radius_col+'_dg'].iloc[-1]\n",
    "    for i in range(len(df_new)):\n",
    "        lat1= df_new.loc[i,'lat'] \n",
    "        long1= df_new.loc[i,'long']\n",
    "        r1= df_new.loc[i,radius_col+'_dg']\n",
    "     \n",
    "        list_ = []\n",
    "        for j in range(i+1,len(df_new)):\n",
    "            lat2= df_new.loc[j,'lat'] \n",
    "            long2= df_new.loc[j,'long']\n",
    "        #r2= df_new.loc[j,radius_col+'_dg']\n",
    "            if dist_(-long2,lat2,-long1,lat1)<r1:\n",
    "                df_new.loc[j,'lat'] = df_new.loc[i,'lat']\n",
    "                df_new.loc[j,'long'] = df_new.loc[i,'long']\n",
    "                df_new.loc[j,radius_col+'_dg'] = df_new.loc[i,radius_col+'_dg']\n",
    "    return df_new"
   ]
  },
  {
   "cell_type": "code",
   "execution_count": 22,
   "metadata": {},
   "outputs": [],
   "source": [
    "def shift_and_drop (df_new, radius_col):\n",
    "    df_new['long_1'] = df_new.groupby(['name'])['long'].shift(-1)\n",
    "    df_new['lat_1'] = df_new.groupby(['name'])['lat'].shift(-1)\n",
    "    df_new[radius_col+'_1'] = df_new.groupby(['name'])[radius_col].shift(-1)\n",
    "    df_new = df_new.drop(['index'], axis=1)\n",
    "    df_new =df_new.reset_index()\n",
    "    df_new = df_new.drop(['level_0'], axis=1)\n",
    "    return df_new"
   ]
  },
  {
   "cell_type": "code",
   "execution_count": 23,
   "metadata": {},
   "outputs": [],
   "source": [
    "def shift_ (df_new, radius_col):\n",
    "    df_new['long_1'] = df_new.groupby(['name'])['long'].shift(-1)\n",
    "    df_new['lat_1'] = df_new.groupby(['name'])['lat'].shift(-1)\n",
    "    df_new[radius_col+'_1'] = df_new.groupby(['name'])[radius_col].shift(-1)\n",
    "    df_new_new =df_new.reset_index()\n",
    "    return df_new_new\n",
    "    "
   ]
  },
  {
   "cell_type": "code",
   "execution_count": 24,
   "metadata": {
    "colab": {},
    "colab_type": "code",
    "id": "LSj6sjUbgv2x"
   },
   "outputs": [],
   "source": [
    "def shape_func(df, name, year, radius_col):\n",
    "    def big_wind_plt(row):\n",
    "        \"\"\"\n",
    "        returns the 4 outer tangential points of 2 circles (x1, y1) and (x2, y2) with radii r1 and r2\n",
    "        reference: https://en.wikipedia.org/wiki/Tangent_lines_to_circles\n",
    "        \"\"\"\n",
    "        x1 = row['lat']\n",
    "        x2 = row['lat_1']\n",
    "        y1 = row['long']\n",
    "        y2 = row['long_1']\n",
    "        r1 =row[radius_col]\n",
    "        r2 =row[radius_col+'_1']\n",
    "\n",
    "        r1 /= 60\n",
    "        r2 /= 60\n",
    "        dist = math.sqrt((x2 - x1)**2 + (y2 - y1)**2)\n",
    "        if dist == 0 :\n",
    "            return [0,0,0,0], [0,0,0,0]\n",
    "        gamma = -np.arctan((y2-y1)/(x2-x1))\n",
    "        beta = np.arcsin((r2-r1)/dist)\n",
    "        alpha = gamma - beta\n",
    "\n",
    "          # points (x3, y3) and (x4, y4)\n",
    "        x3 = x1 + (r1 * cos( pi / 2 - alpha))\n",
    "        y3 =  y1 + (r1 * sin( pi / 2 - alpha))\n",
    "        x4 =  x2 + (r2 * cos( pi / 2 - alpha))\n",
    "        y4 =  y2 + (r2 * sin( pi / 2 - alpha))\n",
    "\n",
    "          # points (x5, y5) and (x6, y6)\n",
    "        x5 = x1 - (r1 * cos( pi / 2 - alpha))\n",
    "        y5 =  y1 - (r1 * sin( pi / 2 - alpha))\n",
    "        x6 =  x2 - (r2 * cos( pi / 2 - alpha))\n",
    "        y6 =  y2 - (r2 * sin( pi / 2 - alpha))\n",
    "\n",
    "        return [( y3, x3), (y4, x4), (y6,  x6),  ( y5, x5)]\n",
    "\n",
    "\n",
    "\n",
    "\n",
    "\n",
    "    df_new=df[df['name']== name][df['year']== year]\n",
    "    df_new[radius_col+'_dg']=df_new[radius_col]/60\n",
    "    df_new = df_new.reset_index()\n",
    "    \n",
    "    df_new = shift_reset (df_new, radius_col)\n",
    " \n",
    "    for index, row  in  df_new.iterrows():\n",
    "        if row['lat'] ==row['lat_1']:\n",
    "            df_new.drop(index+1, inplace=True)\n",
    "    df_new = df_new.drop(['index'], axis=1)\n",
    "    df_new =df_new.reset_index()\n",
    "\n",
    "\n",
    "\n",
    "    copy_long_lat(df_new, radius_col )\n",
    "        \n",
    "    df_new=shift_and_drop(df_new, radius_col)\n",
    "\n",
    "    df_new =df_new.reset_index()\n",
    "    df_new = df_new.drop(['level_0'], axis=1)\n",
    "    for index, row  in  df_new.iterrows():\n",
    "        if row['lat'] ==row['lat_1']:\n",
    "            df_new.drop(index+1, inplace=True)\n",
    "      \n",
    "    df_new =df_new.reset_index()      \n",
    "\n",
    "    shift_only (df_new, radius_col)\n",
    "  #df_new['shape'] = df_new.apply(big_wind_34, axis=1)\n",
    "    df_new['shape_plt'+radius_col] = df_new.apply(big_wind_plt, axis=1)\n",
    "    poly = np.array(df_new['shape_plt'+radius_col] )\n",
    "    long =  np.array(df_new['long'])\n",
    "    lat =  np.array(df_new['lat'])\n",
    "    r =  np.array(df_new[radius_col])\n",
    "\n",
    "\n",
    "  \n",
    "    \n",
    "    return poly , long, lat, r"
   ]
  },
  {
   "cell_type": "code",
   "execution_count": 25,
   "metadata": {
    "colab": {
     "base_uri": "https://localhost:8080/",
     "height": 68
    },
    "colab_type": "code",
    "id": "U6gHhD83befX",
    "outputId": "f6943dc9-a3e9-4e48-f351-4a1c47ddaa44"
   },
   "outputs": [
    {
     "name": "stderr",
     "output_type": "stream",
     "text": [
      "/Users/anurkayeva/anaconda3/envs/omdena/lib/python3.7/site-packages/ipykernel_launcher.py:37: UserWarning: Boolean Series key will be reindexed to match DataFrame index.\n",
      "/Users/anurkayeva/anaconda3/envs/omdena/lib/python3.7/site-packages/ipykernel_launcher.py:16: RuntimeWarning: invalid value encountered in arcsin\n",
      "  app.launch_new_instance()\n"
     ]
    }
   ],
   "source": [
    "poly_arr = np.array(shape_func(df, 'ADOLPH', 2001, 'max_34'))"
   ]
  },
  {
   "cell_type": "code",
   "execution_count": 26,
   "metadata": {
    "colab": {
     "base_uri": "https://localhost:8080/",
     "height": 85
    },
    "colab_type": "code",
    "id": "dTWPoBK0ZEE4",
    "outputId": "9184d1f3-8569-4494-9d90-56f35c3d303b"
   },
   "outputs": [
    {
     "name": "stderr",
     "output_type": "stream",
     "text": [
      "/Users/anurkayeva/anaconda3/envs/omdena/lib/python3.7/site-packages/ipykernel_launcher.py:37: UserWarning: Boolean Series key will be reindexed to match DataFrame index.\n",
      "/Users/anurkayeva/anaconda3/envs/omdena/lib/python3.7/site-packages/ipykernel_launcher.py:16: RuntimeWarning: invalid value encountered in arcsin\n",
      "  app.launch_new_instance()\n"
     ]
    },
    {
     "data": {
      "text/plain": [
       "(array([list([(-101.1, 13.6), (-101.2, 13.7), (-101.2, 13.7), (-101.1, 13.6)]),\n",
       "        list([(-101.2, 13.7), (-101.2, 13.8), (-101.2, 13.8), (-101.2, 13.7)]),\n",
       "        list([(-101.2, 13.8), (-100.9, 13.7), (-100.9, 13.7), (-101.2, 13.8)]),\n",
       "        list([(nan, nan), (nan, nan), (nan, nan), (nan, nan)]),\n",
       "        list([(-99.40249232021914, 14.854294491178127), (-101.00249232021913, 16.25429449117813), (-103.19750767978086, 13.745705508821873), (-101.59750767978086, 12.345705508821872)]),\n",
       "        list([(-101.40827794272215, 16.516343751678058), (-103.3353474284027, 17.395429689597574), (-105.0646525715973, 13.604570310402426), (-102.79172205727784, 13.483656248321942)]),\n",
       "        list([(-104.1381599617348, 17.58241532539624), (-106.95052796938784, 17.665932260316993), (-107.04947203061216, 14.334067739683007), (-104.2618400382652, 13.417584674603757)]),\n",
       "        list([(-106.72600168782441, 17.643989873053574), (-109.12600168782441, 18.043989873053572), (-109.6739983121756, 14.756010126946425), (-107.27399831217559, 14.356010126946426)]),\n",
       "        list([(-109.3124019447954, 14.735636951112483), (-111.21240194479539, 14.635636951112485), (-111.3875980552046, 17.964363048887517), (-109.48759805520461, 18.064363048887515)]),\n",
       "        list([(nan, nan), (nan, nan), (nan, nan), (nan, nan)])],\n",
       "       dtype=object),\n",
       " array([-101.1, -101.2, -101.2, -100.9, -100.5, -102.1, -104.2, -107. ,\n",
       "        -109.4, -111.3]),\n",
       " array([13.6, 13.7, 13.8, 13.7, 13.6, 15. , 15.5, 16. , 16.4, 16.3]),\n",
       " array([  0.,   0.,   0.,   0., 100., 100., 125., 100., 100., 100.]))"
      ]
     },
     "execution_count": 26,
     "metadata": {},
     "output_type": "execute_result"
    }
   ],
   "source": [
    "shape_func(df, 'ADOLPH', 2001, 'max_34')\n"
   ]
  },
  {
   "cell_type": "code",
   "execution_count": 27,
   "metadata": {
    "colab": {
     "base_uri": "https://localhost:8080/",
     "height": 241
    },
    "colab_type": "code",
    "id": "V-fHD6pqbfIl",
    "outputId": "8c94ba6d-ac50-45ec-ae68-83e50094d5da"
   },
   "outputs": [
    {
     "name": "stderr",
     "output_type": "stream",
     "text": [
      "/Users/anurkayeva/anaconda3/envs/omdena/lib/python3.7/site-packages/ipykernel_launcher.py:37: UserWarning: Boolean Series key will be reindexed to match DataFrame index.\n",
      "/Users/anurkayeva/anaconda3/envs/omdena/lib/python3.7/site-packages/ipykernel_launcher.py:16: RuntimeWarning: invalid value encountered in arcsin\n",
      "  app.launch_new_instance()\n"
     ]
    },
    {
     "data": {
      "image/png": "[encoded data removed]",
      "text/plain": [
       "<Figure size 432x288 with 1 Axes>"
      ]
     },
     "metadata": {
      "needs_background": "light"
     },
     "output_type": "display_data"
    }
   ],
   "source": [
    " \n",
    "c1 = shape_func(df, 'ADOLPH', 2001, 'max_34')[1]\n",
    "c2 = shape_func(df, 'ADOLPH', 2001, 'max_34')[2]\n",
    "p__ = shape_func(df, 'ADOLPH', 2001, 'max_34')[0]\n",
    "rmw = shape_func(df, 'ADOLPH', 2001, 'max_34')[3]\n",
    "import matplotlib.pyplot as plt\n",
    "\n",
    "plt.axes()\n",
    "\n",
    "\n",
    "\n",
    "\n",
    "for i,j,rr in zip(c1,c2,rmw):\n",
    "   plt.gca().add_patch( plt.Circle(( np.array(i),  np.array(j)),  np.array(rr)/60, fc='y',  alpha=0.3))\n",
    "    \n",
    "   \n",
    "\n",
    "for i in p__:\n",
    "    plt.gca().add_patch(plt.Polygon(np.array(i), alpha=0.3) )\n",
    "\n",
    "\n",
    "plt.axis('scaled')\n",
    "plt.show()"
   ]
  },
  {
   "cell_type": "code",
   "execution_count": null,
   "metadata": {
    "colab": {},
    "colab_type": "code",
    "id": "kXh39fu_eJ4F"
   },
   "outputs": [],
   "source": []
  },
  {
   "cell_type": "code",
   "execution_count": null,
   "metadata": {},
   "outputs": [],
   "source": []
  }
 ],
 "metadata": {
  "colab": {
   "name": "tracks_to_shape.ipynb",
   "provenance": [],
   "toc_visible": true
  },
  "kernelspec": {
   "display_name": "Python 3",
   "language": "python",
   "name": "python3"
  },
  "language_info": {
   "codemirror_mode": {
    "name": "ipython",
    "version": 3
   },
   "file_extension": ".py",
   "mimetype": "text/x-python",
   "name": "python",
   "nbconvert_exporter": "python",
   "pygments_lexer": "ipython3",
   "version": "3.7.7"
  }
 },
 "nbformat": 4,
 "nbformat_minor": 1
}
