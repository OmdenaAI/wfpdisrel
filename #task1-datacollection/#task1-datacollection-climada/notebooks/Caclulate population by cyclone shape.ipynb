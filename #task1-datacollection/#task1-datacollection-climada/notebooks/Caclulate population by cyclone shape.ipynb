{
 "cells": [
  {
   "cell_type": "code",
   "execution_count": 1,
   "metadata": {},
   "outputs": [],
   "source": [
    "import pandas as pd\n",
    "import csv\n",
    "from pathlib import Path\n",
    "\n",
    "import matplotlib.pyplot as plt\n",
    "import numpy as np\n",
    "\n",
    "import rasterio\n",
    "import rasterio.mask\n",
    "from rasterio.plot import show_hist\n",
    "from rasterio.plot import show\n",
    "\n",
    "import rasterstats\n",
    "from descartes import PolygonPatch\n",
    "\n",
    "from matplotlib import pyplot as plt\n",
    "import geojson\n",
    "from shapely.geometry import Point, mapping, shape\n",
    "from fiona import collection\n",
    "import fiona\n",
    "import geopandas as gpd\n",
    "import geoplot "
   ]
  },
  {
   "cell_type": "code",
   "execution_count": 2,
   "metadata": {},
   "outputs": [
    {
     "data": {
      "text/plain": [
       "'3.0.4'"
      ]
     },
     "execution_count": 2,
     "metadata": {},
     "output_type": "execute_result"
    }
   ],
   "source": [
    "rasterio.gdal_version()"
   ]
  },
  {
   "cell_type": "markdown",
   "metadata": {},
   "source": [
    "## Setting up the data files"
   ]
  },
  {
   "cell_type": "code",
   "execution_count": 3,
   "metadata": {},
   "outputs": [
    {
     "name": "stdout",
     "output_type": "stream",
     "text": [
      "G:\\Omdena\\wfpdisrel\\#task1-datacollection\\datasets\\Gridded Population of the World (GPW)\\gpw-v4-population-count-adjusted-to-2015-unwpp-country-totals_2015.tif\n"
     ]
    }
   ],
   "source": [
    "# reading in the Gridded Population of the World dataset\n",
    "data_folder = Path.cwd().parent.parent.joinpath('datasets', 'Gridded Population of the World (GPW)')\n",
    "#print(data_folder)\n",
    "input_filename = 'gpw-v4-population-count-adjusted-to-2015-unwpp-country-totals_2015.tif'\n",
    "input_raster_file = Path(data_folder).joinpath(input_filename)\n",
    "print(input_raster_file)"
   ]
  },
  {
   "cell_type": "code",
   "execution_count": 6,
   "metadata": {},
   "outputs": [
    {
     "name": "stdout",
     "output_type": "stream",
     "text": [
      "G:\\Omdena\\wfpdisrel\\#task1-datacollection\\#task1-datacollection-climada\\data\\IVAN_2004_buffered_150_centerpath.shp\n"
     ]
    }
   ],
   "source": [
    "# reading in the shapefile\n",
    "shape_data_folder = Path.cwd().parent.joinpath('data')\n",
    "#print(shape_data_folder)\n",
    "shape_filename = 'IVAN_2004_buffered_150_centerpath.shp' \n",
    "input_shape_file = Path(shape_data_folder).joinpath(shape_filename)\n",
    "print(input_shape_file)"
   ]
  },
  {
   "cell_type": "markdown",
   "metadata": {},
   "source": [
    "### Checking the datasets"
   ]
  },
  {
   "cell_type": "code",
   "execution_count": 8,
   "metadata": {},
   "outputs": [],
   "source": [
    "raster_data = rasterio.open(input_raster_file)"
   ]
  },
  {
   "cell_type": "code",
   "execution_count": 9,
   "metadata": {},
   "outputs": [
    {
     "data": {
      "text/plain": [
       "{'driver': 'GTiff',\n",
       " 'dtype': 'float32',\n",
       " 'nodata': -407649103380480.0,\n",
       " 'width': 43200,\n",
       " 'height': 17400,\n",
       " 'count': 1,\n",
       " 'crs': CRS.from_epsg(4326),\n",
       " 'transform': Affine(0.00833333333333339, 0.0, -180.0,\n",
       "        0.0, -0.00833333333333339, 85.0000000000092)}"
      ]
     },
     "execution_count": 9,
     "metadata": {},
     "output_type": "execute_result"
    }
   ],
   "source": [
    "raster_data.meta"
   ]
  },
  {
   "cell_type": "markdown",
   "metadata": {},
   "source": [
    "## Calculating effected population based on a shapefile"
   ]
  },
  {
   "cell_type": "code",
   "execution_count": 11,
   "metadata": {},
   "outputs": [],
   "source": [
    "from rasterstats import zonal_stats"
   ]
  },
  {
   "cell_type": "code",
   "execution_count": 14,
   "metadata": {},
   "outputs": [],
   "source": [
    "stats = ['min', 'max', 'mean', 'sum']"
   ]
  },
  {
   "cell_type": "code",
   "execution_count": 35,
   "metadata": {},
   "outputs": [
    {
     "name": "stdout",
     "output_type": "stream",
     "text": [
      "epsg:4326\n",
      "epsg:4326\n",
      "[{'min': 0.0, 'max': 37501.66796875, 'mean': 189.56534267673675, 'sum': 623647040.0}]\n"
     ]
    }
   ],
   "source": [
    "with fiona.open(input_shape_file) as src:\n",
    "    shape_file_crs = src.crs['init']\n",
    "    print(shape_file_crs)\n",
    "    raster_file_crs = str(raster_data.crs).lower()\n",
    "    print(raster_file_crs)\n",
    "    assert shape_file_crs == raster_file_crs\n",
    "    result = zonal_stats(src, input_raster_file, stats = stats)\n",
    "\n",
    "print (result)"
   ]
  },
  {
   "cell_type": "code",
   "execution_count": 19,
   "metadata": {},
   "outputs": [
    {
     "name": "stdout",
     "output_type": "stream",
     "text": [
      "Population affected by IVAN_2004_buffered_150_centerpath is: 623647040.0\n"
     ]
    }
   ],
   "source": [
    "population = result[0]['sum']\n",
    "print ('Population affected by ' + shape_filename.split('.')[0] + ' is: ' + str(population))"
   ]
  },
  {
   "cell_type": "code",
   "execution_count": null,
   "metadata": {},
   "outputs": [],
   "source": []
  }
 ],
 "metadata": {
  "kernelspec": {
   "display_name": "Python 3",
   "language": "python",
   "name": "python3"
  },
  "language_info": {
   "codemirror_mode": {
    "name": "ipython",
    "version": 3
   },
   "file_extension": ".py",
   "mimetype": "text/x-python",
   "name": "python",
   "nbconvert_exporter": "python",
   "pygments_lexer": "ipython3",
   "version": "3.8.2"
  }
 },
 "nbformat": 4,
 "nbformat_minor": 4
}
