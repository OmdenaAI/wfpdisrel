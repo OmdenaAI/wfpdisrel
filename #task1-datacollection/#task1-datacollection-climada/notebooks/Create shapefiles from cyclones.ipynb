{
 "cells": [
  {
   "cell_type": "code",
   "execution_count": 2,
   "metadata": {},
   "outputs": [],
   "source": [
    "from pathlib import Path\n",
    "import pandas as pd\n",
    "import numpy as np\n",
    "import math\n",
    "import matplotlib.pyplot as plt\n",
    "import geopandas\n",
    "from geopandas import GeoDataFrame\n",
    "from shapely.geometry import Point, LineString , Polygon"
   ]
  },
  {
   "cell_type": "code",
   "execution_count": 3,
   "metadata": {},
   "outputs": [
    {
     "data": {
      "text/plain": [
       "WindowsPath('G:/Omdena/wfpdisrel/#task1-datacollection/#task1-datacollection-climada/notebooks')"
      ]
     },
     "execution_count": 3,
     "metadata": {},
     "output_type": "execute_result"
    }
   ],
   "source": [
    "# getting the path of the current jupyter notebook\n",
    "Path.cwd()"
   ]
  },
  {
   "cell_type": "code",
   "execution_count": 4,
   "metadata": {},
   "outputs": [
    {
     "name": "stdout",
     "output_type": "stream",
     "text": [
      "G:\\Omdena\\wfpdisrel\\#task1-datacollection\\best_tracks\\epac-atl.csv\n"
     ]
    }
   ],
   "source": [
    "# reading in the cyclone data\n",
    "data_folder = Path.cwd().parent.parent.joinpath('best_tracks')\n",
    "#print(data_folder)\n",
    "input_filename = 'epac-atl.csv'\n",
    "input_file = Path(data_folder).joinpath(input_filename)\n",
    "print(input_file)"
   ]
  },
  {
   "cell_type": "code",
   "execution_count": 6,
   "metadata": {},
   "outputs": [],
   "source": [
    "## TODO: Reference the correct dataset - this one has the longitude error! \n",
    "df_input = pd.read_csv(input_file)"
   ]
  },
  {
   "cell_type": "code",
   "execution_count": 7,
   "metadata": {},
   "outputs": [],
   "source": [
    "cyclone_name = \"IVAN\"\n",
    "cyclone_year = 2004"
   ]
  },
  {
   "cell_type": "code",
   "execution_count": 9,
   "metadata": {
    "scrolled": true
   },
   "outputs": [
    {
     "data": {
      "text/html": [
       "<div>\n",
       "<style scoped>\n",
       "    .dataframe tbody tr th:only-of-type {\n",
       "        vertical-align: middle;\n",
       "    }\n",
       "\n",
       "    .dataframe tbody tr th {\n",
       "        vertical-align: top;\n",
       "    }\n",
       "\n",
       "    .dataframe thead th {\n",
       "        text-align: right;\n",
       "    }\n",
       "</style>\n",
       "<table border=\"1\" class=\"dataframe\">\n",
       "  <thead>\n",
       "    <tr style=\"text-align: right;\">\n",
       "      <th></th>\n",
       "      <th>Unnamed: 0</th>\n",
       "      <th>id</th>\n",
       "      <th>name</th>\n",
       "      <th>time</th>\n",
       "      <th>year</th>\n",
       "      <th>lat</th>\n",
       "      <th>long</th>\n",
       "      <th>m_w_speed</th>\n",
       "      <th>mcp</th>\n",
       "      <th>rmw</th>\n",
       "      <th>...</th>\n",
       "      <th>NE_50</th>\n",
       "      <th>SE_50</th>\n",
       "      <th>SW_50</th>\n",
       "      <th>NW_50</th>\n",
       "      <th>NE_64</th>\n",
       "      <th>SE_64</th>\n",
       "      <th>SW_64</th>\n",
       "      <th>NW_64</th>\n",
       "      <th>max_50</th>\n",
       "      <th>max_64</th>\n",
       "    </tr>\n",
       "  </thead>\n",
       "  <tbody>\n",
       "    <tr>\n",
       "      <th>0</th>\n",
       "      <td>0</td>\n",
       "      <td>AL0188</td>\n",
       "      <td>ALBERTO</td>\n",
       "      <td>80518</td>\n",
       "      <td>1988</td>\n",
       "      <td>32.0</td>\n",
       "      <td>77.5</td>\n",
       "      <td>20</td>\n",
       "      <td>1015</td>\n",
       "      <td>-99</td>\n",
       "      <td>...</td>\n",
       "      <td>0</td>\n",
       "      <td>0</td>\n",
       "      <td>0</td>\n",
       "      <td>0</td>\n",
       "      <td>0</td>\n",
       "      <td>0</td>\n",
       "      <td>0</td>\n",
       "      <td>0</td>\n",
       "      <td>0.0</td>\n",
       "      <td>0.0</td>\n",
       "    </tr>\n",
       "    <tr>\n",
       "      <th>1</th>\n",
       "      <td>1</td>\n",
       "      <td>AL0188</td>\n",
       "      <td>ALBERTO</td>\n",
       "      <td>80600</td>\n",
       "      <td>1988</td>\n",
       "      <td>32.8</td>\n",
       "      <td>76.2</td>\n",
       "      <td>20</td>\n",
       "      <td>1014</td>\n",
       "      <td>-99</td>\n",
       "      <td>...</td>\n",
       "      <td>0</td>\n",
       "      <td>0</td>\n",
       "      <td>0</td>\n",
       "      <td>0</td>\n",
       "      <td>0</td>\n",
       "      <td>0</td>\n",
       "      <td>0</td>\n",
       "      <td>0</td>\n",
       "      <td>0.0</td>\n",
       "      <td>0.0</td>\n",
       "    </tr>\n",
       "    <tr>\n",
       "      <th>2</th>\n",
       "      <td>2</td>\n",
       "      <td>AL0188</td>\n",
       "      <td>ALBERTO</td>\n",
       "      <td>80606</td>\n",
       "      <td>1988</td>\n",
       "      <td>34.0</td>\n",
       "      <td>75.2</td>\n",
       "      <td>20</td>\n",
       "      <td>1013</td>\n",
       "      <td>-99</td>\n",
       "      <td>...</td>\n",
       "      <td>0</td>\n",
       "      <td>0</td>\n",
       "      <td>0</td>\n",
       "      <td>0</td>\n",
       "      <td>0</td>\n",
       "      <td>0</td>\n",
       "      <td>0</td>\n",
       "      <td>0</td>\n",
       "      <td>0.0</td>\n",
       "      <td>0.0</td>\n",
       "    </tr>\n",
       "    <tr>\n",
       "      <th>3</th>\n",
       "      <td>3</td>\n",
       "      <td>AL0188</td>\n",
       "      <td>ALBERTO</td>\n",
       "      <td>80612</td>\n",
       "      <td>1988</td>\n",
       "      <td>35.2</td>\n",
       "      <td>74.6</td>\n",
       "      <td>25</td>\n",
       "      <td>1012</td>\n",
       "      <td>-99</td>\n",
       "      <td>...</td>\n",
       "      <td>0</td>\n",
       "      <td>0</td>\n",
       "      <td>0</td>\n",
       "      <td>0</td>\n",
       "      <td>0</td>\n",
       "      <td>0</td>\n",
       "      <td>0</td>\n",
       "      <td>0</td>\n",
       "      <td>0.0</td>\n",
       "      <td>0.0</td>\n",
       "    </tr>\n",
       "    <tr>\n",
       "      <th>4</th>\n",
       "      <td>4</td>\n",
       "      <td>AL0188</td>\n",
       "      <td>ALBERTO</td>\n",
       "      <td>80618</td>\n",
       "      <td>1988</td>\n",
       "      <td>37.0</td>\n",
       "      <td>73.5</td>\n",
       "      <td>25</td>\n",
       "      <td>1011</td>\n",
       "      <td>-99</td>\n",
       "      <td>...</td>\n",
       "      <td>0</td>\n",
       "      <td>0</td>\n",
       "      <td>0</td>\n",
       "      <td>0</td>\n",
       "      <td>0</td>\n",
       "      <td>0</td>\n",
       "      <td>0</td>\n",
       "      <td>0</td>\n",
       "      <td>0.0</td>\n",
       "      <td>0.0</td>\n",
       "    </tr>\n",
       "  </tbody>\n",
       "</table>\n",
       "<p>5 rows × 30 columns</p>\n",
       "</div>"
      ],
      "text/plain": [
       "   Unnamed: 0      id     name   time  year   lat  long  m_w_speed   mcp  rmw  \\\n",
       "0           0  AL0188  ALBERTO  80518  1988  32.0  77.5         20  1015  -99   \n",
       "1           1  AL0188  ALBERTO  80600  1988  32.8  76.2         20  1014  -99   \n",
       "2           2  AL0188  ALBERTO  80606  1988  34.0  75.2         20  1013  -99   \n",
       "3           3  AL0188  ALBERTO  80612  1988  35.2  74.6         25  1012  -99   \n",
       "4           4  AL0188  ALBERTO  80618  1988  37.0  73.5         25  1011  -99   \n",
       "\n",
       "   ...  NE_50  SE_50  SW_50 NW_50  NE_64  SE_64  SW_64  NW_64  max_50  max_64  \n",
       "0  ...      0      0      0     0      0      0      0      0     0.0     0.0  \n",
       "1  ...      0      0      0     0      0      0      0      0     0.0     0.0  \n",
       "2  ...      0      0      0     0      0      0      0      0     0.0     0.0  \n",
       "3  ...      0      0      0     0      0      0      0      0     0.0     0.0  \n",
       "4  ...      0      0      0     0      0      0      0      0     0.0     0.0  \n",
       "\n",
       "[5 rows x 30 columns]"
      ]
     },
     "execution_count": 9,
     "metadata": {},
     "output_type": "execute_result"
    }
   ],
   "source": [
    "df_input.head()"
   ]
  },
  {
   "cell_type": "code",
   "execution_count": 10,
   "metadata": {},
   "outputs": [
    {
     "data": {
      "text/html": [
       "<div>\n",
       "<style scoped>\n",
       "    .dataframe tbody tr th:only-of-type {\n",
       "        vertical-align: middle;\n",
       "    }\n",
       "\n",
       "    .dataframe tbody tr th {\n",
       "        vertical-align: top;\n",
       "    }\n",
       "\n",
       "    .dataframe thead th {\n",
       "        text-align: right;\n",
       "    }\n",
       "</style>\n",
       "<table border=\"1\" class=\"dataframe\">\n",
       "  <thead>\n",
       "    <tr style=\"text-align: right;\">\n",
       "      <th></th>\n",
       "      <th>id</th>\n",
       "      <th>name</th>\n",
       "      <th>year</th>\n",
       "      <th>lat</th>\n",
       "      <th>long</th>\n",
       "      <th>max_34</th>\n",
       "    </tr>\n",
       "  </thead>\n",
       "  <tbody>\n",
       "    <tr>\n",
       "      <th>0</th>\n",
       "      <td>AL0188</td>\n",
       "      <td>ALBERTO</td>\n",
       "      <td>1988</td>\n",
       "      <td>32.0</td>\n",
       "      <td>77.5</td>\n",
       "      <td>0.0</td>\n",
       "    </tr>\n",
       "    <tr>\n",
       "      <th>1</th>\n",
       "      <td>AL0188</td>\n",
       "      <td>ALBERTO</td>\n",
       "      <td>1988</td>\n",
       "      <td>32.8</td>\n",
       "      <td>76.2</td>\n",
       "      <td>0.0</td>\n",
       "    </tr>\n",
       "    <tr>\n",
       "      <th>2</th>\n",
       "      <td>AL0188</td>\n",
       "      <td>ALBERTO</td>\n",
       "      <td>1988</td>\n",
       "      <td>34.0</td>\n",
       "      <td>75.2</td>\n",
       "      <td>0.0</td>\n",
       "    </tr>\n",
       "    <tr>\n",
       "      <th>3</th>\n",
       "      <td>AL0188</td>\n",
       "      <td>ALBERTO</td>\n",
       "      <td>1988</td>\n",
       "      <td>35.2</td>\n",
       "      <td>74.6</td>\n",
       "      <td>0.0</td>\n",
       "    </tr>\n",
       "    <tr>\n",
       "      <th>4</th>\n",
       "      <td>AL0188</td>\n",
       "      <td>ALBERTO</td>\n",
       "      <td>1988</td>\n",
       "      <td>37.0</td>\n",
       "      <td>73.5</td>\n",
       "      <td>0.0</td>\n",
       "    </tr>\n",
       "    <tr>\n",
       "      <th>5</th>\n",
       "      <td>AL0188</td>\n",
       "      <td>ALBERTO</td>\n",
       "      <td>1988</td>\n",
       "      <td>38.7</td>\n",
       "      <td>72.4</td>\n",
       "      <td>0.0</td>\n",
       "    </tr>\n",
       "    <tr>\n",
       "      <th>6</th>\n",
       "      <td>AL0188</td>\n",
       "      <td>ALBERTO</td>\n",
       "      <td>1988</td>\n",
       "      <td>40.0</td>\n",
       "      <td>70.8</td>\n",
       "      <td>0.0</td>\n",
       "    </tr>\n",
       "    <tr>\n",
       "      <th>7</th>\n",
       "      <td>AL0188</td>\n",
       "      <td>ALBERTO</td>\n",
       "      <td>1988</td>\n",
       "      <td>41.5</td>\n",
       "      <td>69.0</td>\n",
       "      <td>100.0</td>\n",
       "    </tr>\n",
       "    <tr>\n",
       "      <th>8</th>\n",
       "      <td>AL0188</td>\n",
       "      <td>ALBERTO</td>\n",
       "      <td>1988</td>\n",
       "      <td>43.0</td>\n",
       "      <td>67.5</td>\n",
       "      <td>100.0</td>\n",
       "    </tr>\n",
       "    <tr>\n",
       "      <th>9</th>\n",
       "      <td>AL0188</td>\n",
       "      <td>ALBERTO</td>\n",
       "      <td>1988</td>\n",
       "      <td>45.0</td>\n",
       "      <td>65.5</td>\n",
       "      <td>-99.0</td>\n",
       "    </tr>\n",
       "  </tbody>\n",
       "</table>\n",
       "</div>"
      ],
      "text/plain": [
       "       id     name  year   lat  long  max_34\n",
       "0  AL0188  ALBERTO  1988  32.0  77.5     0.0\n",
       "1  AL0188  ALBERTO  1988  32.8  76.2     0.0\n",
       "2  AL0188  ALBERTO  1988  34.0  75.2     0.0\n",
       "3  AL0188  ALBERTO  1988  35.2  74.6     0.0\n",
       "4  AL0188  ALBERTO  1988  37.0  73.5     0.0\n",
       "5  AL0188  ALBERTO  1988  38.7  72.4     0.0\n",
       "6  AL0188  ALBERTO  1988  40.0  70.8     0.0\n",
       "7  AL0188  ALBERTO  1988  41.5  69.0   100.0\n",
       "8  AL0188  ALBERTO  1988  43.0  67.5   100.0\n",
       "9  AL0188  ALBERTO  1988  45.0  65.5   -99.0"
      ]
     },
     "execution_count": 10,
     "metadata": {},
     "output_type": "execute_result"
    }
   ],
   "source": [
    "cyclones = df_input[['id','name','year','lat','long', 'max_34']]\n",
    "cyclones.head(10)"
   ]
  },
  {
   "cell_type": "code",
   "execution_count": 11,
   "metadata": {},
   "outputs": [],
   "source": [
    "# Filtering the dataset for one specific cyclone\n",
    "cyclones_filter = cyclones[(cyclones.year==cyclone_year) & (cyclones.name == cyclone_name)]"
   ]
  },
  {
   "cell_type": "code",
   "execution_count": 12,
   "metadata": {},
   "outputs": [
    {
     "data": {
      "text/html": [
       "<div>\n",
       "<style scoped>\n",
       "    .dataframe tbody tr th:only-of-type {\n",
       "        vertical-align: middle;\n",
       "    }\n",
       "\n",
       "    .dataframe tbody tr th {\n",
       "        vertical-align: top;\n",
       "    }\n",
       "\n",
       "    .dataframe thead th {\n",
       "        text-align: right;\n",
       "    }\n",
       "</style>\n",
       "<table border=\"1\" class=\"dataframe\">\n",
       "  <thead>\n",
       "    <tr style=\"text-align: right;\">\n",
       "      <th></th>\n",
       "      <th>id</th>\n",
       "      <th>name</th>\n",
       "      <th>year</th>\n",
       "      <th>lat</th>\n",
       "      <th>long</th>\n",
       "      <th>max_34</th>\n",
       "    </tr>\n",
       "  </thead>\n",
       "  <tbody>\n",
       "    <tr>\n",
       "      <th>6447</th>\n",
       "      <td>AL0904</td>\n",
       "      <td>IVAN</td>\n",
       "      <td>2004</td>\n",
       "      <td>9.7</td>\n",
       "      <td>27.6</td>\n",
       "      <td>0.0</td>\n",
       "    </tr>\n",
       "    <tr>\n",
       "      <th>6448</th>\n",
       "      <td>AL0904</td>\n",
       "      <td>IVAN</td>\n",
       "      <td>2004</td>\n",
       "      <td>9.7</td>\n",
       "      <td>28.7</td>\n",
       "      <td>0.0</td>\n",
       "    </tr>\n",
       "    <tr>\n",
       "      <th>6449</th>\n",
       "      <td>AL0904</td>\n",
       "      <td>IVAN</td>\n",
       "      <td>2004</td>\n",
       "      <td>9.7</td>\n",
       "      <td>30.3</td>\n",
       "      <td>50.0</td>\n",
       "    </tr>\n",
       "    <tr>\n",
       "      <th>6450</th>\n",
       "      <td>AL0904</td>\n",
       "      <td>IVAN</td>\n",
       "      <td>2004</td>\n",
       "      <td>9.5</td>\n",
       "      <td>32.1</td>\n",
       "      <td>50.0</td>\n",
       "    </tr>\n",
       "    <tr>\n",
       "      <th>6451</th>\n",
       "      <td>AL0904</td>\n",
       "      <td>IVAN</td>\n",
       "      <td>2004</td>\n",
       "      <td>9.3</td>\n",
       "      <td>33.6</td>\n",
       "      <td>125.0</td>\n",
       "    </tr>\n",
       "    <tr>\n",
       "      <th>...</th>\n",
       "      <td>...</td>\n",
       "      <td>...</td>\n",
       "      <td>...</td>\n",
       "      <td>...</td>\n",
       "      <td>...</td>\n",
       "      <td>...</td>\n",
       "    </tr>\n",
       "    <tr>\n",
       "      <th>6529</th>\n",
       "      <td>AL0904</td>\n",
       "      <td>IVAN</td>\n",
       "      <td>2004</td>\n",
       "      <td>27.9</td>\n",
       "      <td>91.0</td>\n",
       "      <td>75.0</td>\n",
       "    </tr>\n",
       "    <tr>\n",
       "      <th>6530</th>\n",
       "      <td>AL0904</td>\n",
       "      <td>IVAN</td>\n",
       "      <td>2004</td>\n",
       "      <td>28.9</td>\n",
       "      <td>92.2</td>\n",
       "      <td>60.0</td>\n",
       "    </tr>\n",
       "    <tr>\n",
       "      <th>6531</th>\n",
       "      <td>AL0904</td>\n",
       "      <td>IVAN</td>\n",
       "      <td>2004</td>\n",
       "      <td>29.2</td>\n",
       "      <td>92.7</td>\n",
       "      <td>50.0</td>\n",
       "    </tr>\n",
       "    <tr>\n",
       "      <th>6532</th>\n",
       "      <td>AL0904</td>\n",
       "      <td>IVAN</td>\n",
       "      <td>2004</td>\n",
       "      <td>29.6</td>\n",
       "      <td>93.2</td>\n",
       "      <td>0.0</td>\n",
       "    </tr>\n",
       "    <tr>\n",
       "      <th>6533</th>\n",
       "      <td>AL0904</td>\n",
       "      <td>IVAN</td>\n",
       "      <td>2004</td>\n",
       "      <td>30.1</td>\n",
       "      <td>94.2</td>\n",
       "      <td>0.0</td>\n",
       "    </tr>\n",
       "  </tbody>\n",
       "</table>\n",
       "<p>87 rows × 6 columns</p>\n",
       "</div>"
      ],
      "text/plain": [
       "          id  name  year   lat  long  max_34\n",
       "6447  AL0904  IVAN  2004   9.7  27.6     0.0\n",
       "6448  AL0904  IVAN  2004   9.7  28.7     0.0\n",
       "6449  AL0904  IVAN  2004   9.7  30.3    50.0\n",
       "6450  AL0904  IVAN  2004   9.5  32.1    50.0\n",
       "6451  AL0904  IVAN  2004   9.3  33.6   125.0\n",
       "...      ...   ...   ...   ...   ...     ...\n",
       "6529  AL0904  IVAN  2004  27.9  91.0    75.0\n",
       "6530  AL0904  IVAN  2004  28.9  92.2    60.0\n",
       "6531  AL0904  IVAN  2004  29.2  92.7    50.0\n",
       "6532  AL0904  IVAN  2004  29.6  93.2     0.0\n",
       "6533  AL0904  IVAN  2004  30.1  94.2     0.0\n",
       "\n",
       "[87 rows x 6 columns]"
      ]
     },
     "execution_count": 12,
     "metadata": {},
     "output_type": "execute_result"
    }
   ],
   "source": [
    "cyclones_filter"
   ]
  },
  {
   "cell_type": "code",
   "execution_count": 13,
   "metadata": {},
   "outputs": [
    {
     "data": {
      "text/plain": [
       "id         object\n",
       "name       object\n",
       "year        int64\n",
       "lat       float64\n",
       "long      float64\n",
       "max_34    float64\n",
       "dtype: object"
      ]
     },
     "execution_count": 13,
     "metadata": {},
     "output_type": "execute_result"
    }
   ],
   "source": [
    "cyclone_df = pd.DataFrame(cyclones_filter)\n",
    "cyclone_df.dtypes"
   ]
  },
  {
   "cell_type": "code",
   "execution_count": 14,
   "metadata": {},
   "outputs": [],
   "source": [
    "# Zip the coordinates into a point object and convert to a GeoDataFrame\n",
    "geometry = [Point(xy) for xy in zip(cyclone_df.long, cyclone_df.lat)]\n",
    "cyclone_gdf = GeoDataFrame(cyclone_df, geometry=geometry)"
   ]
  },
  {
   "cell_type": "code",
   "execution_count": 15,
   "metadata": {},
   "outputs": [
    {
     "name": "stdout",
     "output_type": "stream",
     "text": [
      "id      name  year\n",
      "AL0904  IVAN  2004    LINESTRING (27.6 9.699999999999999, 28.7 9.699...\n",
      "Name: geometry, dtype: object\n"
     ]
    }
   ],
   "source": [
    "# Aggregate these points with the GroupBy for creating the center path of the cyclone\n",
    "group_gdf = cyclone_gdf.groupby(['id','name','year'])['geometry'].apply(lambda x: LineString(x.tolist()))\n",
    "len(group_gdf)     \n",
    "print(group_gdf)\n",
    "#group_gdf.plot()"
   ]
  },
  {
   "cell_type": "code",
   "execution_count": 16,
   "metadata": {},
   "outputs": [
    {
     "data": {
      "text/plain": [
       "<matplotlib.axes._subplots.AxesSubplot at 0x1a66c5aa250>"
      ]
     },
     "execution_count": 16,
     "metadata": {},
     "output_type": "execute_result"
    },
    {
     "data": {
      "image/png": "[encoded data removed]",
      "text/plain": [
       "<Figure size 432x288 with 1 Axes>"
      ]
     },
     "metadata": {
      "needs_background": "light"
     },
     "output_type": "display_data"
    }
   ],
   "source": [
    "final_gdf = geopandas.GeoDataFrame(group_gdf, geometry = 'geometry')\n",
    "final_gdf.plot()"
   ]
  },
  {
   "cell_type": "code",
   "execution_count": 17,
   "metadata": {},
   "outputs": [
    {
     "name": "stdout",
     "output_type": "stream",
     "text": [
      "None\n"
     ]
    }
   ],
   "source": [
    "# Checking the CRS\n",
    "print(final_gdf.crs)"
   ]
  },
  {
   "cell_type": "markdown",
   "metadata": {},
   "source": [
    "If you get data that does not include a projection you have to set the CRS so geopandas knows how to interpret the coordinates.\n",
    "\n",
    "For example, if you convert a spreadsheet of latitudes and longitudes into a GeoSeries by hand, you would set the projection by assigning the WGS84 latitude-longitude CRS to the GeoSeries.crs attribute:\n",
    "\n",
    "my_geoseries.crs = \"epsg:4326\""
   ]
  },
  {
   "cell_type": "code",
   "execution_count": 19,
   "metadata": {},
   "outputs": [],
   "source": [
    "final_gdf.crs = \"epsg:4326\""
   ]
  },
  {
   "cell_type": "code",
   "execution_count": 26,
   "metadata": {},
   "outputs": [
    {
     "name": "stdout",
     "output_type": "stream",
     "text": [
      "G:\\Omdena\\wfpdisrel\\#task1-datacollection\\#task1-datacollection-climada\\data\\IVAN_2004_centerpath.shp\n"
     ]
    }
   ],
   "source": [
    "filename = cyclone_name + '_'+ str(cyclone_year)+ '_centerpath.shp'\n",
    "outfile = Path.cwd().parent.joinpath('data', filename)\n",
    "print(outfile)"
   ]
  },
  {
   "cell_type": "code",
   "execution_count": 28,
   "metadata": {},
   "outputs": [],
   "source": [
    "#df.to_file(filename='IVAN polygon.geojson', driver='GeoJSON')\n",
    "final_gdf.to_file(filename=outfile, driver=\"ESRI Shapefile\")"
   ]
  },
  {
   "cell_type": "markdown",
   "metadata": {},
   "source": [
    "## Choosing the dimension for buffering the path\n",
    "TODO: choosing the right metrics is crucial for the calculated area"
   ]
  },
  {
   "cell_type": "code",
   "execution_count": 29,
   "metadata": {},
   "outputs": [
    {
     "data": {
      "text/plain": [
       "0.0      22\n",
       "150.0    13\n",
       "140.0    11\n",
       "75.0      6\n",
       "250.0     5\n",
       "60.0      4\n",
       "225.0     4\n",
       "175.0     4\n",
       "120.0     4\n",
       "100.0     4\n",
       "50.0      3\n",
       "110.0     2\n",
       "125.0     2\n",
       "190.0     1\n",
       "180.0     1\n",
       "90.0      1\n",
       "Name: max_34, dtype: int64"
      ]
     },
     "execution_count": 29,
     "metadata": {},
     "output_type": "execute_result"
    }
   ],
   "source": [
    "cyclone_gdf['max_34'].value_counts()"
   ]
  },
  {
   "cell_type": "code",
   "execution_count": 30,
   "metadata": {},
   "outputs": [],
   "source": [
    "buffer_radius = 150  # arbitrary value to continue coding , important to check dimensions (currently km are assumed) "
   ]
  },
  {
   "cell_type": "code",
   "execution_count": 31,
   "metadata": {},
   "outputs": [
    {
     "data": {
      "text/html": [
       "<div>\n",
       "<style scoped>\n",
       "    .dataframe tbody tr th:only-of-type {\n",
       "        vertical-align: middle;\n",
       "    }\n",
       "\n",
       "    .dataframe tbody tr th {\n",
       "        vertical-align: top;\n",
       "    }\n",
       "\n",
       "    .dataframe thead th {\n",
       "        text-align: right;\n",
       "    }\n",
       "</style>\n",
       "<table border=\"1\" class=\"dataframe\">\n",
       "  <thead>\n",
       "    <tr style=\"text-align: right;\">\n",
       "      <th></th>\n",
       "      <th></th>\n",
       "      <th></th>\n",
       "      <th>geometry</th>\n",
       "    </tr>\n",
       "    <tr>\n",
       "      <th>id</th>\n",
       "      <th>name</th>\n",
       "      <th>year</th>\n",
       "      <th></th>\n",
       "    </tr>\n",
       "  </thead>\n",
       "  <tbody>\n",
       "    <tr>\n",
       "      <th>AL0904</th>\n",
       "      <th>IVAN</th>\n",
       "      <th>2004</th>\n",
       "      <td>POLYGON ((30.30000 11.03409, 30.44992 11.02582...</td>\n",
       "    </tr>\n",
       "  </tbody>\n",
       "</table>\n",
       "</div>"
      ],
      "text/plain": [
       "                                                           geometry\n",
       "id     name year                                                   \n",
       "AL0904 IVAN 2004  POLYGON ((30.30000 11.03409, 30.44992 11.02582..."
      ]
     },
     "execution_count": 31,
     "metadata": {},
     "output_type": "execute_result"
    }
   ],
   "source": [
    "# Project to crs that uses meters as distance measure\n",
    "cyclone_3395 = final_gdf.to_crs('epsg:3395')\n",
    "cyclone_3395['geometry']= cyclone_3395.buffer(buffer_radius*1000)\n",
    "buffered_cyclone_gdf = cyclone_3395.to_crs('epsg:4326')\n",
    "buffered_cyclone_gdf.head()"
   ]
  },
  {
   "cell_type": "code",
   "execution_count": 32,
   "metadata": {},
   "outputs": [
    {
     "data": {
      "text/plain": [
       "<matplotlib.axes._subplots.AxesSubplot at 0x1a66c8d5790>"
      ]
     },
     "execution_count": 32,
     "metadata": {},
     "output_type": "execute_result"
    },
    {
     "data": {
      "image/png": "[encoded data removed]",
      "text/plain": [
       "<Figure size 432x288 with 1 Axes>"
      ]
     },
     "metadata": {
      "needs_background": "light"
     },
     "output_type": "display_data"
    }
   ],
   "source": [
    "buffered_cyclone_gdf.plot()"
   ]
  },
  {
   "cell_type": "code",
   "execution_count": null,
   "metadata": {},
   "outputs": [],
   "source": []
  }
 ],
 "metadata": {
  "kernelspec": {
   "display_name": "Python 3",
   "language": "python",
   "name": "python3"
  },
  "language_info": {
   "codemirror_mode": {
    "name": "ipython",
    "version": 3
   },
   "file_extension": ".py",
   "mimetype": "text/x-python",
   "name": "python",
   "nbconvert_exporter": "python",
   "pygments_lexer": "ipython3",
   "version": "3.8.2"
  }
 },
 "nbformat": 4,
 "nbformat_minor": 4
}
