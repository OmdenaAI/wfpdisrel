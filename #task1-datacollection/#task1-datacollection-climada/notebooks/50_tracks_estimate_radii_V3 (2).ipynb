{
 "cells": [
  {
   "cell_type": "code",
   "execution_count": 27,
   "metadata": {
    "colab": {},
    "colab_type": "code",
    "id": "dXrJSlw9hQys"
   },
   "outputs": [],
   "source": [
    "import pandas as pd\n",
    "import numpy as np\n",
    "import pickle\n",
    "import math\n",
    "from math import cos, sin, pi\n",
    "import matplotlib.pyplot as plt\n",
    "from sklearn.metrics import r2_score\n",
    "from rfpimp import permutation_importances"
   ]
  },
  {
   "cell_type": "markdown",
   "metadata": {
    "colab_type": "text",
    "id": "ZQGjxPzQkPIL"
   },
   "source": []
  },
  {
   "cell_type": "code",
   "execution_count": 28,
   "metadata": {
    "colab": {},
    "colab_type": "code",
    "id": "8Kd-eqOUYpXp"
   },
   "outputs": [],
   "source": [
    "def dist_(x1,y1,x2,y2):\n",
    "  try:\n",
    "    x = math.sqrt((x2 - x1)**2 + (y2 - y1)**2)\n",
    "  except:\n",
    "    x = 0\n",
    "  return x"
   ]
  },
  {
   "cell_type": "markdown",
   "metadata": {
    "colab_type": "text",
    "id": "89thm9XqeKS_"
   },
   "source": [
    "### Exploring IBTrACS data - what cyclones have radii\n"
   ]
  },
  {
   "cell_type": "code",
   "execution_count": 29,
   "metadata": {
    "colab": {
     "base_uri": "https://localhost:8080/",
     "height": 71
    },
    "colab_type": "code",
    "id": "GhlP25w0d_sx",
    "outputId": "3729c0c0-d643-42e3-a213-3ee11e017985"
   },
   "outputs": [
    {
     "name": "stderr",
     "output_type": "stream",
     "text": [
      "/opt/conda/lib/python3.7/site-packages/IPython/core/interactiveshell.py:3063: DtypeWarning: Columns (12,21,22,61,66,128,143,148) have mixed types.Specify dtype option on import or set low_memory=False.\n",
      "  interactivity=interactivity, compiler=compiler, result=result)\n"
     ]
    }
   ],
   "source": [
    "df2 = pd.read_csv('IBTrACS_original.csv')"
   ]
  },
  {
   "cell_type": "code",
   "execution_count": 30,
   "metadata": {
    "colab": {
     "base_uri": "https://localhost:8080/",
     "height": 423
    },
    "colab_type": "code",
    "id": "QIzYHBiJozrb",
    "outputId": "d48dbd92-ff5c-45cc-f77e-3b70809c1175"
   },
   "outputs": [
    {
     "data": {
      "text/html": [
       "<div>\n",
       "<style scoped>\n",
       "    .dataframe tbody tr th:only-of-type {\n",
       "        vertical-align: middle;\n",
       "    }\n",
       "\n",
       "    .dataframe tbody tr th {\n",
       "        vertical-align: top;\n",
       "    }\n",
       "\n",
       "    .dataframe thead th {\n",
       "        text-align: right;\n",
       "    }\n",
       "</style>\n",
       "<table border=\"1\" class=\"dataframe\">\n",
       "  <thead>\n",
       "    <tr style=\"text-align: right;\">\n",
       "      <th></th>\n",
       "      <th>SID</th>\n",
       "      <th>SEASON</th>\n",
       "      <th>NUMBER</th>\n",
       "      <th>BASIN</th>\n",
       "      <th>SUBBASIN</th>\n",
       "      <th>NAME</th>\n",
       "      <th>ISO_TIME</th>\n",
       "      <th>NATURE</th>\n",
       "      <th>LAT</th>\n",
       "      <th>LON</th>\n",
       "      <th>...</th>\n",
       "      <th>REU_GUSTP</th>\n",
       "      <th>USA_SEAHGT</th>\n",
       "      <th>USA_SEARAD</th>\n",
       "      <th>STORM_SPD</th>\n",
       "      <th>STORM_DR</th>\n",
       "      <th>year</th>\n",
       "      <th>month</th>\n",
       "      <th>day</th>\n",
       "      <th>hour</th>\n",
       "      <th>min</th>\n",
       "    </tr>\n",
       "  </thead>\n",
       "  <tbody>\n",
       "    <tr>\n",
       "      <th>0</th>\n",
       "      <td>1842298N11080</td>\n",
       "      <td>1842</td>\n",
       "      <td>1</td>\n",
       "      <td>NI</td>\n",
       "      <td>BB</td>\n",
       "      <td>NOT_NAMED</td>\n",
       "      <td>1842-10-25 03:00:00</td>\n",
       "      <td>NR</td>\n",
       "      <td>10.90</td>\n",
       "      <td>80.30</td>\n",
       "      <td>...</td>\n",
       "      <td>NaN</td>\n",
       "      <td>NaN</td>\n",
       "      <td>NaN</td>\n",
       "      <td>9</td>\n",
       "      <td>266</td>\n",
       "      <td>1842</td>\n",
       "      <td>10</td>\n",
       "      <td>25</td>\n",
       "      <td>3</td>\n",
       "      <td>0</td>\n",
       "    </tr>\n",
       "    <tr>\n",
       "      <th>1</th>\n",
       "      <td>1842298N11080</td>\n",
       "      <td>1842</td>\n",
       "      <td>1</td>\n",
       "      <td>NI</td>\n",
       "      <td>BB</td>\n",
       "      <td>NOT_NAMED</td>\n",
       "      <td>1842-10-25 06:00:00</td>\n",
       "      <td>NR</td>\n",
       "      <td>10.87</td>\n",
       "      <td>79.83</td>\n",
       "      <td>...</td>\n",
       "      <td>NaN</td>\n",
       "      <td>NaN</td>\n",
       "      <td>NaN</td>\n",
       "      <td>9</td>\n",
       "      <td>267</td>\n",
       "      <td>1842</td>\n",
       "      <td>10</td>\n",
       "      <td>25</td>\n",
       "      <td>6</td>\n",
       "      <td>0</td>\n",
       "    </tr>\n",
       "    <tr>\n",
       "      <th>2</th>\n",
       "      <td>1842298N11080</td>\n",
       "      <td>1842</td>\n",
       "      <td>1</td>\n",
       "      <td>NI</td>\n",
       "      <td>BB</td>\n",
       "      <td>NOT_NAMED</td>\n",
       "      <td>1842-10-25 09:00:00</td>\n",
       "      <td>NR</td>\n",
       "      <td>10.84</td>\n",
       "      <td>79.35</td>\n",
       "      <td>...</td>\n",
       "      <td>NaN</td>\n",
       "      <td>NaN</td>\n",
       "      <td>NaN</td>\n",
       "      <td>9</td>\n",
       "      <td>267</td>\n",
       "      <td>1842</td>\n",
       "      <td>10</td>\n",
       "      <td>25</td>\n",
       "      <td>9</td>\n",
       "      <td>0</td>\n",
       "    </tr>\n",
       "    <tr>\n",
       "      <th>3</th>\n",
       "      <td>1842298N11080</td>\n",
       "      <td>1842</td>\n",
       "      <td>1</td>\n",
       "      <td>NI</td>\n",
       "      <td>BB</td>\n",
       "      <td>NOT_NAMED</td>\n",
       "      <td>1842-10-25 12:00:00</td>\n",
       "      <td>NR</td>\n",
       "      <td>10.82</td>\n",
       "      <td>78.88</td>\n",
       "      <td>...</td>\n",
       "      <td>NaN</td>\n",
       "      <td>NaN</td>\n",
       "      <td>NaN</td>\n",
       "      <td>9</td>\n",
       "      <td>267</td>\n",
       "      <td>1842</td>\n",
       "      <td>10</td>\n",
       "      <td>25</td>\n",
       "      <td>12</td>\n",
       "      <td>0</td>\n",
       "    </tr>\n",
       "    <tr>\n",
       "      <th>4</th>\n",
       "      <td>1842298N11080</td>\n",
       "      <td>1842</td>\n",
       "      <td>1</td>\n",
       "      <td>NI</td>\n",
       "      <td>BB</td>\n",
       "      <td>NOT_NAMED</td>\n",
       "      <td>1842-10-25 15:00:00</td>\n",
       "      <td>NR</td>\n",
       "      <td>10.80</td>\n",
       "      <td>78.40</td>\n",
       "      <td>...</td>\n",
       "      <td>NaN</td>\n",
       "      <td>NaN</td>\n",
       "      <td>NaN</td>\n",
       "      <td>9</td>\n",
       "      <td>268</td>\n",
       "      <td>1842</td>\n",
       "      <td>10</td>\n",
       "      <td>25</td>\n",
       "      <td>15</td>\n",
       "      <td>0</td>\n",
       "    </tr>\n",
       "  </tbody>\n",
       "</table>\n",
       "<p>5 rows × 165 columns</p>\n",
       "</div>"
      ],
      "text/plain": [
       "             SID  SEASON  NUMBER BASIN SUBBASIN       NAME  \\\n",
       "0  1842298N11080    1842       1    NI       BB  NOT_NAMED   \n",
       "1  1842298N11080    1842       1    NI       BB  NOT_NAMED   \n",
       "2  1842298N11080    1842       1    NI       BB  NOT_NAMED   \n",
       "3  1842298N11080    1842       1    NI       BB  NOT_NAMED   \n",
       "4  1842298N11080    1842       1    NI       BB  NOT_NAMED   \n",
       "\n",
       "              ISO_TIME NATURE    LAT    LON  ...  REU_GUSTP  USA_SEAHGT  \\\n",
       "0  1842-10-25 03:00:00     NR  10.90  80.30  ...        NaN         NaN   \n",
       "1  1842-10-25 06:00:00     NR  10.87  79.83  ...        NaN         NaN   \n",
       "2  1842-10-25 09:00:00     NR  10.84  79.35  ...        NaN         NaN   \n",
       "3  1842-10-25 12:00:00     NR  10.82  78.88  ...        NaN         NaN   \n",
       "4  1842-10-25 15:00:00     NR  10.80  78.40  ...        NaN         NaN   \n",
       "\n",
       "  USA_SEARAD STORM_SPD  STORM_DR  year month day hour  min  \n",
       "0        NaN         9       266  1842    10  25    3    0  \n",
       "1        NaN         9       267  1842    10  25    6    0  \n",
       "2        NaN         9       267  1842    10  25    9    0  \n",
       "3        NaN         9       267  1842    10  25   12    0  \n",
       "4        NaN         9       268  1842    10  25   15    0  \n",
       "\n",
       "[5 rows x 165 columns]"
      ]
     },
     "execution_count": 30,
     "metadata": {},
     "output_type": "execute_result"
    }
   ],
   "source": [
    "df2.head()"
   ]
  },
  {
   "cell_type": "code",
   "execution_count": 31,
   "metadata": {
    "colab": {
     "base_uri": "https://localhost:8080/",
     "height": 221
    },
    "colab_type": "code",
    "id": "SSpt9gDD7FhN",
    "outputId": "d66b7f64-ace0-4a1d-c4e2-ef61b216fb83"
   },
   "outputs": [
    {
     "data": {
      "text/plain": [
       "0        NaN\n",
       "1        NaN\n",
       "2        NaN\n",
       "3        NaN\n",
       "4        NaN\n",
       "          ..\n",
       "669865   NaN\n",
       "669866   NaN\n",
       "669867   NaN\n",
       "669868   NaN\n",
       "669869   NaN\n",
       "Name: TOK_R50_L, Length: 669870, dtype: float64"
      ]
     },
     "execution_count": 31,
     "metadata": {},
     "output_type": "execute_result"
    }
   ],
   "source": [
    "df2['TOK_R50_L']"
   ]
  },
  {
   "cell_type": "code",
   "execution_count": 32,
   "metadata": {
    "colab": {},
    "colab_type": "code",
    "id": "Iqe9xZ7mzMLK"
   },
   "outputs": [],
   "source": [
    "df2['LON_1'] = df2.groupby(['SID'])['LON'].shift(-1)\n",
    "df2['LAT_1'] = df2.groupby(['SID'])['LAT'].shift(-1)"
   ]
  },
  {
   "cell_type": "code",
   "execution_count": 33,
   "metadata": {
    "colab": {},
    "colab_type": "code",
    "id": "qlvX1XDMzUq_"
   },
   "outputs": [],
   "source": [
    "def big_wind(row):\n",
    "  x1 = row['LAT']\n",
    "  x2 = row['LAT_1']\n",
    "  y1 = row['LON']\n",
    "  y2 = row['LON_1']\n",
    "\n",
    "  return dist_(x1,y1,x2,y2)\n",
    "df2['dist'] = df2.apply(big_wind, axis=1)\n",
    "df2['ISO_TIME'] = pd.to_datetime(df2['ISO_TIME'])\n",
    "df2[\"rank\"] = df2.groupby(\"SID\")[\"ISO_TIME\"].rank(\"dense\", ascending=False)\n",
    "df2[\"rank_1\"] = df2.groupby(\"SID\")[\"ISO_TIME\"].rank(\"dense\", ascending=True)"
   ]
  },
  {
   "cell_type": "code",
   "execution_count": 34,
   "metadata": {
    "colab": {},
    "colab_type": "code",
    "id": "Vb604ReUbuD7"
   },
   "outputs": [],
   "source": [
    "#df2['NEW_D_34'] = [df2['BOM_R34_NE']==df2['BOM_R34_NE']].NAME.unique()"
   ]
  },
  {
   "cell_type": "code",
   "execution_count": 35,
   "metadata": {
    "colab": {},
    "colab_type": "code",
    "id": "SQ0aR3C1NF8l"
   },
   "outputs": [],
   "source": [
    "for j in [34,50,64]:\n",
    "  df2['max_'+str(j)] = df2[['USA_R'+str(j)+'_NE', 'USA_R'+str(j)+'_SE', 'USA_R'+str(j)+'_SW', 'USA_R'+str(j)+'_NW',\n",
    "                            'REU_R'+str(j)+'_NE', 'REU_R'+str(j)+'_SE', 'REU_R'+str(j)+'_SW', 'REU_R'+str(j)+'_NW',\n",
    "                            'BOM_R'+str(j)+'_NE', 'BOM_R'+str(j)+'_SE', 'BOM_R'+str(j)+'_SW', 'BOM_R'+str(j)+'_NW']].max(axis=1)  #USA_R34_NE"
   ]
  },
  {
   "cell_type": "code",
   "execution_count": 36,
   "metadata": {
    "colab": {},
    "colab_type": "code",
    "id": "5NGLIA774X3k"
   },
   "outputs": [],
   "source": [
    "df2['max_50'] = df2[['max_50', 'TOK_R50_L']].max(axis=1)  #"
   ]
  },
  {
   "cell_type": "code",
   "execution_count": 37,
   "metadata": {
    "colab": {},
    "colab_type": "code",
    "id": "caBrg44vSElx"
   },
   "outputs": [],
   "source": [
    "df2['RMW'] = df2[['USA_RMW', 'REU_RMW', 'BOM_RMW']].max(axis=1)  #"
   ]
  },
  {
   "cell_type": "code",
   "execution_count": 38,
   "metadata": {
    "colab": {},
    "colab_type": "code",
    "id": "HhJI-brhcbub"
   },
   "outputs": [],
   "source": [
    "df4 = df2[df2['max_34']==df2['max_34']][['NAME','SEASON']]"
   ]
  },
  {
   "cell_type": "code",
   "execution_count": 39,
   "metadata": {
    "colab": {
     "base_uri": "https://localhost:8080/",
     "height": 170
    },
    "colab_type": "code",
    "id": "Hf0DwgrFSrhc",
    "outputId": "23cf2481-67dd-48eb-87d5-9070fb669414"
   },
   "outputs": [
    {
     "data": {
      "text/html": [
       "<div>\n",
       "<style scoped>\n",
       "    .dataframe tbody tr th:only-of-type {\n",
       "        vertical-align: middle;\n",
       "    }\n",
       "\n",
       "    .dataframe tbody tr th {\n",
       "        vertical-align: top;\n",
       "    }\n",
       "\n",
       "    .dataframe thead th {\n",
       "        text-align: right;\n",
       "    }\n",
       "</style>\n",
       "<table border=\"1\" class=\"dataframe\">\n",
       "  <thead>\n",
       "    <tr style=\"text-align: right;\">\n",
       "      <th></th>\n",
       "      <th>SID</th>\n",
       "      <th>SEASON</th>\n",
       "      <th>NUMBER</th>\n",
       "      <th>BASIN</th>\n",
       "      <th>SUBBASIN</th>\n",
       "      <th>NAME</th>\n",
       "      <th>ISO_TIME</th>\n",
       "      <th>NATURE</th>\n",
       "      <th>LAT</th>\n",
       "      <th>LON</th>\n",
       "      <th>...</th>\n",
       "      <th>min</th>\n",
       "      <th>LON_1</th>\n",
       "      <th>LAT_1</th>\n",
       "      <th>dist</th>\n",
       "      <th>rank</th>\n",
       "      <th>rank_1</th>\n",
       "      <th>max_34</th>\n",
       "      <th>max_50</th>\n",
       "      <th>max_64</th>\n",
       "      <th>RMW</th>\n",
       "    </tr>\n",
       "  </thead>\n",
       "  <tbody>\n",
       "    <tr>\n",
       "      <th>0</th>\n",
       "      <td>1842298N11080</td>\n",
       "      <td>1842</td>\n",
       "      <td>1</td>\n",
       "      <td>NI</td>\n",
       "      <td>BB</td>\n",
       "      <td>NOT_NAMED</td>\n",
       "      <td>1842-10-25 03:00:00</td>\n",
       "      <td>NR</td>\n",
       "      <td>10.90</td>\n",
       "      <td>80.30</td>\n",
       "      <td>...</td>\n",
       "      <td>0</td>\n",
       "      <td>79.83</td>\n",
       "      <td>10.87</td>\n",
       "      <td>0.470956</td>\n",
       "      <td>64.0</td>\n",
       "      <td>1.0</td>\n",
       "      <td>NaN</td>\n",
       "      <td>NaN</td>\n",
       "      <td>NaN</td>\n",
       "      <td>NaN</td>\n",
       "    </tr>\n",
       "    <tr>\n",
       "      <th>1</th>\n",
       "      <td>1842298N11080</td>\n",
       "      <td>1842</td>\n",
       "      <td>1</td>\n",
       "      <td>NI</td>\n",
       "      <td>BB</td>\n",
       "      <td>NOT_NAMED</td>\n",
       "      <td>1842-10-25 06:00:00</td>\n",
       "      <td>NR</td>\n",
       "      <td>10.87</td>\n",
       "      <td>79.83</td>\n",
       "      <td>...</td>\n",
       "      <td>0</td>\n",
       "      <td>79.35</td>\n",
       "      <td>10.84</td>\n",
       "      <td>0.480937</td>\n",
       "      <td>63.0</td>\n",
       "      <td>2.0</td>\n",
       "      <td>NaN</td>\n",
       "      <td>NaN</td>\n",
       "      <td>NaN</td>\n",
       "      <td>NaN</td>\n",
       "    </tr>\n",
       "    <tr>\n",
       "      <th>2</th>\n",
       "      <td>1842298N11080</td>\n",
       "      <td>1842</td>\n",
       "      <td>1</td>\n",
       "      <td>NI</td>\n",
       "      <td>BB</td>\n",
       "      <td>NOT_NAMED</td>\n",
       "      <td>1842-10-25 09:00:00</td>\n",
       "      <td>NR</td>\n",
       "      <td>10.84</td>\n",
       "      <td>79.35</td>\n",
       "      <td>...</td>\n",
       "      <td>0</td>\n",
       "      <td>78.88</td>\n",
       "      <td>10.82</td>\n",
       "      <td>0.470425</td>\n",
       "      <td>62.0</td>\n",
       "      <td>3.0</td>\n",
       "      <td>NaN</td>\n",
       "      <td>NaN</td>\n",
       "      <td>NaN</td>\n",
       "      <td>NaN</td>\n",
       "    </tr>\n",
       "    <tr>\n",
       "      <th>3</th>\n",
       "      <td>1842298N11080</td>\n",
       "      <td>1842</td>\n",
       "      <td>1</td>\n",
       "      <td>NI</td>\n",
       "      <td>BB</td>\n",
       "      <td>NOT_NAMED</td>\n",
       "      <td>1842-10-25 12:00:00</td>\n",
       "      <td>NR</td>\n",
       "      <td>10.82</td>\n",
       "      <td>78.88</td>\n",
       "      <td>...</td>\n",
       "      <td>0</td>\n",
       "      <td>78.40</td>\n",
       "      <td>10.80</td>\n",
       "      <td>0.480416</td>\n",
       "      <td>61.0</td>\n",
       "      <td>4.0</td>\n",
       "      <td>NaN</td>\n",
       "      <td>NaN</td>\n",
       "      <td>NaN</td>\n",
       "      <td>NaN</td>\n",
       "    </tr>\n",
       "    <tr>\n",
       "      <th>4</th>\n",
       "      <td>1842298N11080</td>\n",
       "      <td>1842</td>\n",
       "      <td>1</td>\n",
       "      <td>NI</td>\n",
       "      <td>BB</td>\n",
       "      <td>NOT_NAMED</td>\n",
       "      <td>1842-10-25 15:00:00</td>\n",
       "      <td>NR</td>\n",
       "      <td>10.80</td>\n",
       "      <td>78.40</td>\n",
       "      <td>...</td>\n",
       "      <td>0</td>\n",
       "      <td>77.92</td>\n",
       "      <td>10.79</td>\n",
       "      <td>0.480104</td>\n",
       "      <td>60.0</td>\n",
       "      <td>5.0</td>\n",
       "      <td>NaN</td>\n",
       "      <td>NaN</td>\n",
       "      <td>NaN</td>\n",
       "      <td>NaN</td>\n",
       "    </tr>\n",
       "    <tr>\n",
       "      <th>...</th>\n",
       "      <td>...</td>\n",
       "      <td>...</td>\n",
       "      <td>...</td>\n",
       "      <td>...</td>\n",
       "      <td>...</td>\n",
       "      <td>...</td>\n",
       "      <td>...</td>\n",
       "      <td>...</td>\n",
       "      <td>...</td>\n",
       "      <td>...</td>\n",
       "      <td>...</td>\n",
       "      <td>...</td>\n",
       "      <td>...</td>\n",
       "      <td>...</td>\n",
       "      <td>...</td>\n",
       "      <td>...</td>\n",
       "      <td>...</td>\n",
       "      <td>...</td>\n",
       "      <td>...</td>\n",
       "      <td>...</td>\n",
       "      <td>...</td>\n",
       "    </tr>\n",
       "    <tr>\n",
       "      <th>669865</th>\n",
       "      <td>2019141N29291</td>\n",
       "      <td>2019</td>\n",
       "      <td>24</td>\n",
       "      <td>NaN</td>\n",
       "      <td>NaN</td>\n",
       "      <td>ANDREA</td>\n",
       "      <td>2019-05-20 21:00:00</td>\n",
       "      <td>NR</td>\n",
       "      <td>28.81</td>\n",
       "      <td>-68.74</td>\n",
       "      <td>...</td>\n",
       "      <td>0</td>\n",
       "      <td>-68.80</td>\n",
       "      <td>29.06</td>\n",
       "      <td>0.257099</td>\n",
       "      <td>5.0</td>\n",
       "      <td>2.0</td>\n",
       "      <td>69.0</td>\n",
       "      <td>NaN</td>\n",
       "      <td>NaN</td>\n",
       "      <td>66.0</td>\n",
       "    </tr>\n",
       "    <tr>\n",
       "      <th>669866</th>\n",
       "      <td>2019141N29291</td>\n",
       "      <td>2019</td>\n",
       "      <td>24</td>\n",
       "      <td>NaN</td>\n",
       "      <td>NaN</td>\n",
       "      <td>ANDREA</td>\n",
       "      <td>2019-05-21 00:00:00</td>\n",
       "      <td>NR</td>\n",
       "      <td>29.06</td>\n",
       "      <td>-68.80</td>\n",
       "      <td>...</td>\n",
       "      <td>0</td>\n",
       "      <td>-68.89</td>\n",
       "      <td>29.40</td>\n",
       "      <td>0.351710</td>\n",
       "      <td>4.0</td>\n",
       "      <td>3.0</td>\n",
       "      <td>69.0</td>\n",
       "      <td>NaN</td>\n",
       "      <td>NaN</td>\n",
       "      <td>63.0</td>\n",
       "    </tr>\n",
       "    <tr>\n",
       "      <th>669867</th>\n",
       "      <td>2019141N29291</td>\n",
       "      <td>2019</td>\n",
       "      <td>24</td>\n",
       "      <td>NaN</td>\n",
       "      <td>NaN</td>\n",
       "      <td>ANDREA</td>\n",
       "      <td>2019-05-21 03:00:00</td>\n",
       "      <td>NR</td>\n",
       "      <td>29.40</td>\n",
       "      <td>-68.89</td>\n",
       "      <td>...</td>\n",
       "      <td>0</td>\n",
       "      <td>-69.00</td>\n",
       "      <td>29.80</td>\n",
       "      <td>0.414849</td>\n",
       "      <td>3.0</td>\n",
       "      <td>4.0</td>\n",
       "      <td>69.0</td>\n",
       "      <td>NaN</td>\n",
       "      <td>NaN</td>\n",
       "      <td>60.0</td>\n",
       "    </tr>\n",
       "    <tr>\n",
       "      <th>669868</th>\n",
       "      <td>2019141N29291</td>\n",
       "      <td>2019</td>\n",
       "      <td>24</td>\n",
       "      <td>NaN</td>\n",
       "      <td>NaN</td>\n",
       "      <td>ANDREA</td>\n",
       "      <td>2019-05-21 06:00:00</td>\n",
       "      <td>NR</td>\n",
       "      <td>29.80</td>\n",
       "      <td>-69.00</td>\n",
       "      <td>...</td>\n",
       "      <td>0</td>\n",
       "      <td>-69.10</td>\n",
       "      <td>30.24</td>\n",
       "      <td>0.451221</td>\n",
       "      <td>2.0</td>\n",
       "      <td>5.0</td>\n",
       "      <td>69.0</td>\n",
       "      <td>NaN</td>\n",
       "      <td>NaN</td>\n",
       "      <td>58.0</td>\n",
       "    </tr>\n",
       "    <tr>\n",
       "      <th>669869</th>\n",
       "      <td>2019141N29291</td>\n",
       "      <td>2019</td>\n",
       "      <td>24</td>\n",
       "      <td>NaN</td>\n",
       "      <td>NaN</td>\n",
       "      <td>ANDREA</td>\n",
       "      <td>2019-05-21 09:00:00</td>\n",
       "      <td>NR</td>\n",
       "      <td>30.24</td>\n",
       "      <td>-69.10</td>\n",
       "      <td>...</td>\n",
       "      <td>0</td>\n",
       "      <td>NaN</td>\n",
       "      <td>NaN</td>\n",
       "      <td>NaN</td>\n",
       "      <td>1.0</td>\n",
       "      <td>6.0</td>\n",
       "      <td>NaN</td>\n",
       "      <td>NaN</td>\n",
       "      <td>NaN</td>\n",
       "      <td>58.0</td>\n",
       "    </tr>\n",
       "  </tbody>\n",
       "</table>\n",
       "<p>669870 rows × 174 columns</p>\n",
       "</div>"
      ],
      "text/plain": [
       "                  SID  SEASON  NUMBER BASIN SUBBASIN       NAME  \\\n",
       "0       1842298N11080    1842       1    NI       BB  NOT_NAMED   \n",
       "1       1842298N11080    1842       1    NI       BB  NOT_NAMED   \n",
       "2       1842298N11080    1842       1    NI       BB  NOT_NAMED   \n",
       "3       1842298N11080    1842       1    NI       BB  NOT_NAMED   \n",
       "4       1842298N11080    1842       1    NI       BB  NOT_NAMED   \n",
       "...               ...     ...     ...   ...      ...        ...   \n",
       "669865  2019141N29291    2019      24   NaN      NaN     ANDREA   \n",
       "669866  2019141N29291    2019      24   NaN      NaN     ANDREA   \n",
       "669867  2019141N29291    2019      24   NaN      NaN     ANDREA   \n",
       "669868  2019141N29291    2019      24   NaN      NaN     ANDREA   \n",
       "669869  2019141N29291    2019      24   NaN      NaN     ANDREA   \n",
       "\n",
       "                  ISO_TIME NATURE    LAT    LON  ...  min  LON_1  LAT_1  \\\n",
       "0      1842-10-25 03:00:00     NR  10.90  80.30  ...    0  79.83  10.87   \n",
       "1      1842-10-25 06:00:00     NR  10.87  79.83  ...    0  79.35  10.84   \n",
       "2      1842-10-25 09:00:00     NR  10.84  79.35  ...    0  78.88  10.82   \n",
       "3      1842-10-25 12:00:00     NR  10.82  78.88  ...    0  78.40  10.80   \n",
       "4      1842-10-25 15:00:00     NR  10.80  78.40  ...    0  77.92  10.79   \n",
       "...                    ...    ...    ...    ...  ...  ...    ...    ...   \n",
       "669865 2019-05-20 21:00:00     NR  28.81 -68.74  ...    0 -68.80  29.06   \n",
       "669866 2019-05-21 00:00:00     NR  29.06 -68.80  ...    0 -68.89  29.40   \n",
       "669867 2019-05-21 03:00:00     NR  29.40 -68.89  ...    0 -69.00  29.80   \n",
       "669868 2019-05-21 06:00:00     NR  29.80 -69.00  ...    0 -69.10  30.24   \n",
       "669869 2019-05-21 09:00:00     NR  30.24 -69.10  ...    0    NaN    NaN   \n",
       "\n",
       "            dist  rank  rank_1 max_34 max_50 max_64   RMW  \n",
       "0       0.470956  64.0     1.0    NaN    NaN    NaN   NaN  \n",
       "1       0.480937  63.0     2.0    NaN    NaN    NaN   NaN  \n",
       "2       0.470425  62.0     3.0    NaN    NaN    NaN   NaN  \n",
       "3       0.480416  61.0     4.0    NaN    NaN    NaN   NaN  \n",
       "4       0.480104  60.0     5.0    NaN    NaN    NaN   NaN  \n",
       "...          ...   ...     ...    ...    ...    ...   ...  \n",
       "669865  0.257099   5.0     2.0   69.0    NaN    NaN  66.0  \n",
       "669866  0.351710   4.0     3.0   69.0    NaN    NaN  63.0  \n",
       "669867  0.414849   3.0     4.0   69.0    NaN    NaN  60.0  \n",
       "669868  0.451221   2.0     5.0   69.0    NaN    NaN  58.0  \n",
       "669869       NaN   1.0     6.0    NaN    NaN    NaN  58.0  \n",
       "\n",
       "[669870 rows x 174 columns]"
      ]
     },
     "execution_count": 39,
     "metadata": {},
     "output_type": "execute_result"
    }
   ],
   "source": [
    "df2"
   ]
  },
  {
   "cell_type": "code",
   "execution_count": 40,
   "metadata": {
    "colab": {},
    "colab_type": "code",
    "id": "T7A-Tdnjc7bt"
   },
   "outputs": [],
   "source": [
    "df4 = df4.drop_duplicates()"
   ]
  },
  {
   "cell_type": "code",
   "execution_count": 41,
   "metadata": {
    "colab": {
     "base_uri": "https://localhost:8080/",
     "height": 34
    },
    "colab_type": "code",
    "id": "JM4JyqmNc-Sl",
    "outputId": "a9637dbf-cd57-46e1-e60e-55b815299d71"
   },
   "outputs": [
    {
     "data": {
      "text/plain": [
       "1418"
      ]
     },
     "execution_count": 41,
     "metadata": {},
     "output_type": "execute_result"
    }
   ],
   "source": [
    "len(df4)"
   ]
  },
  {
   "cell_type": "code",
   "execution_count": 42,
   "metadata": {
    "colab": {},
    "colab_type": "code",
    "id": "Sxg6Ahvtf-bJ"
   },
   "outputs": [],
   "source": [
    "df4['in_tracks'] = True"
   ]
  },
  {
   "cell_type": "markdown",
   "metadata": {
    "colab_type": "text",
    "id": "2r4RT-7rszYS"
   },
   "source": [
    "### Estimating Radiouses of 34 50 60 kn winds "
   ]
  },
  {
   "cell_type": "code",
   "execution_count": 43,
   "metadata": {
    "colab": {
     "base_uri": "https://localhost:8080/",
     "height": 221
    },
    "colab_type": "code",
    "id": "NYEBdVwlz1wR",
    "outputId": "81b0105b-8bd8-4db0-df4e-e71fbc59b90b"
   },
   "outputs": [
    {
     "data": {
      "text/plain": [
       "0         1969.0\n",
       "1         1969.0\n",
       "2         1969.0\n",
       "3         1969.0\n",
       "4         1969.0\n",
       "           ...  \n",
       "669865    1969.0\n",
       "669866    1969.0\n",
       "669867    1969.0\n",
       "669868    1969.0\n",
       "669869    1969.0\n",
       "Name: WMO_PRES_delta, Length: 669870, dtype: float64"
      ]
     },
     "execution_count": 43,
     "metadata": {},
     "output_type": "execute_result"
    }
   ],
   "source": [
    "df2['WMO_PRES_delta'] = df2.groupby(['SID'])['WMO_PRES'].diff(periods=-1)\n",
    "df2.groupby('SID')['WMO_PRES_delta'].fillna(df2.median().iloc[0])"
   ]
  },
  {
   "cell_type": "code",
   "execution_count": 44,
   "metadata": {
    "colab": {
     "base_uri": "https://localhost:8080/",
     "height": 221
    },
    "colab_type": "code",
    "id": "90XUpNs99X-l",
    "outputId": "f9504879-678a-43ac-ce04-28b6ae81b32a"
   },
   "outputs": [
    {
     "data": {
      "text/plain": [
       "0            0.470956\n",
       "1            0.480937\n",
       "2            0.470425\n",
       "3            0.480416\n",
       "4            0.480104\n",
       "             ...     \n",
       "669865       0.257099\n",
       "669866       0.351710\n",
       "669867       0.414849\n",
       "669868       0.451221\n",
       "669869    1969.000000\n",
       "Name: dist, Length: 669870, dtype: float64"
      ]
     },
     "execution_count": 44,
     "metadata": {},
     "output_type": "execute_result"
    }
   ],
   "source": [
    "df2.groupby('SID')['dist'].fillna(df2.median().iloc[0])"
   ]
  },
  {
   "cell_type": "code",
   "execution_count": 45,
   "metadata": {
    "colab": {
     "base_uri": "https://localhost:8080/",
     "height": 221
    },
    "colab_type": "code",
    "id": "jYBe_ym49kIy",
    "outputId": "76ecc0da-c251-4496-ddee-890b66e01081"
   },
   "outputs": [
    {
     "data": {
      "text/plain": [
       "0            0.470956\n",
       "1            0.480937\n",
       "2            0.470425\n",
       "3            0.480416\n",
       "4            0.480104\n",
       "             ...     \n",
       "669865       0.257099\n",
       "669866       0.351710\n",
       "669867       0.414849\n",
       "669868       0.451221\n",
       "669869    1969.000000\n",
       "Name: dist, Length: 669870, dtype: float64"
      ]
     },
     "execution_count": 45,
     "metadata": {},
     "output_type": "execute_result"
    }
   ],
   "source": [
    "df2['dist'].fillna(df2.median().iloc[0])"
   ]
  },
  {
   "cell_type": "code",
   "execution_count": 46,
   "metadata": {
    "colab": {
     "base_uri": "https://localhost:8080/",
     "height": 34
    },
    "colab_type": "code",
    "id": "3qRd_J3IvBrQ",
    "outputId": "089c3590-619b-4304-a864-4efa7b460ae7"
   },
   "outputs": [
    {
     "data": {
      "text/html": [
       "<div>\n",
       "<style scoped>\n",
       "    .dataframe tbody tr th:only-of-type {\n",
       "        vertical-align: middle;\n",
       "    }\n",
       "\n",
       "    .dataframe tbody tr th {\n",
       "        vertical-align: top;\n",
       "    }\n",
       "\n",
       "    .dataframe thead th {\n",
       "        text-align: right;\n",
       "    }\n",
       "</style>\n",
       "<table border=\"1\" class=\"dataframe\">\n",
       "  <thead>\n",
       "    <tr style=\"text-align: right;\">\n",
       "      <th></th>\n",
       "      <th>SID</th>\n",
       "      <th>SEASON</th>\n",
       "      <th>NUMBER</th>\n",
       "      <th>BASIN</th>\n",
       "      <th>SUBBASIN</th>\n",
       "      <th>NAME</th>\n",
       "      <th>ISO_TIME</th>\n",
       "      <th>NATURE</th>\n",
       "      <th>LAT</th>\n",
       "      <th>LON</th>\n",
       "      <th>...</th>\n",
       "      <th>LON_1</th>\n",
       "      <th>LAT_1</th>\n",
       "      <th>dist</th>\n",
       "      <th>rank</th>\n",
       "      <th>rank_1</th>\n",
       "      <th>max_34</th>\n",
       "      <th>max_50</th>\n",
       "      <th>max_64</th>\n",
       "      <th>RMW</th>\n",
       "      <th>WMO_PRES_delta</th>\n",
       "    </tr>\n",
       "  </thead>\n",
       "  <tbody>\n",
       "    <tr>\n",
       "      <th>395872</th>\n",
       "      <td>1977161N06134</td>\n",
       "      <td>1977</td>\n",
       "      <td>44</td>\n",
       "      <td>WP</td>\n",
       "      <td>MM</td>\n",
       "      <td>RUTH</td>\n",
       "      <td>1977-06-15 06:00:00</td>\n",
       "      <td>TS</td>\n",
       "      <td>19.39</td>\n",
       "      <td>116.89</td>\n",
       "      <td>...</td>\n",
       "      <td>117.06</td>\n",
       "      <td>19.81</td>\n",
       "      <td>0.453100</td>\n",
       "      <td>50.0</td>\n",
       "      <td>43.0</td>\n",
       "      <td>NaN</td>\n",
       "      <td>20.0</td>\n",
       "      <td>NaN</td>\n",
       "      <td>NaN</td>\n",
       "      <td>NaN</td>\n",
       "    </tr>\n",
       "    <tr>\n",
       "      <th>395873</th>\n",
       "      <td>1977161N06134</td>\n",
       "      <td>1977</td>\n",
       "      <td>44</td>\n",
       "      <td>WP</td>\n",
       "      <td>MM</td>\n",
       "      <td>RUTH</td>\n",
       "      <td>1977-06-15 09:00:00</td>\n",
       "      <td>TS</td>\n",
       "      <td>19.81</td>\n",
       "      <td>117.06</td>\n",
       "      <td>...</td>\n",
       "      <td>117.23</td>\n",
       "      <td>20.25</td>\n",
       "      <td>0.471699</td>\n",
       "      <td>49.0</td>\n",
       "      <td>44.0</td>\n",
       "      <td>NaN</td>\n",
       "      <td>22.0</td>\n",
       "      <td>NaN</td>\n",
       "      <td>NaN</td>\n",
       "      <td>NaN</td>\n",
       "    </tr>\n",
       "    <tr>\n",
       "      <th>395874</th>\n",
       "      <td>1977161N06134</td>\n",
       "      <td>1977</td>\n",
       "      <td>44</td>\n",
       "      <td>WP</td>\n",
       "      <td>MM</td>\n",
       "      <td>RUTH</td>\n",
       "      <td>1977-06-15 12:00:00</td>\n",
       "      <td>TS</td>\n",
       "      <td>20.25</td>\n",
       "      <td>117.23</td>\n",
       "      <td>...</td>\n",
       "      <td>117.38</td>\n",
       "      <td>20.70</td>\n",
       "      <td>0.474342</td>\n",
       "      <td>48.0</td>\n",
       "      <td>45.0</td>\n",
       "      <td>NaN</td>\n",
       "      <td>25.0</td>\n",
       "      <td>NaN</td>\n",
       "      <td>NaN</td>\n",
       "      <td>NaN</td>\n",
       "    </tr>\n",
       "    <tr>\n",
       "      <th>395875</th>\n",
       "      <td>1977161N06134</td>\n",
       "      <td>1977</td>\n",
       "      <td>44</td>\n",
       "      <td>WP</td>\n",
       "      <td>MM</td>\n",
       "      <td>RUTH</td>\n",
       "      <td>1977-06-15 15:00:00</td>\n",
       "      <td>TS</td>\n",
       "      <td>20.70</td>\n",
       "      <td>117.38</td>\n",
       "      <td>...</td>\n",
       "      <td>117.52</td>\n",
       "      <td>21.17</td>\n",
       "      <td>0.490408</td>\n",
       "      <td>47.0</td>\n",
       "      <td>46.0</td>\n",
       "      <td>NaN</td>\n",
       "      <td>25.0</td>\n",
       "      <td>NaN</td>\n",
       "      <td>NaN</td>\n",
       "      <td>NaN</td>\n",
       "    </tr>\n",
       "    <tr>\n",
       "      <th>395876</th>\n",
       "      <td>1977161N06134</td>\n",
       "      <td>1977</td>\n",
       "      <td>44</td>\n",
       "      <td>WP</td>\n",
       "      <td>MM</td>\n",
       "      <td>RUTH</td>\n",
       "      <td>1977-06-15 18:00:00</td>\n",
       "      <td>TS</td>\n",
       "      <td>21.17</td>\n",
       "      <td>117.52</td>\n",
       "      <td>...</td>\n",
       "      <td>117.64</td>\n",
       "      <td>21.63</td>\n",
       "      <td>0.475395</td>\n",
       "      <td>46.0</td>\n",
       "      <td>47.0</td>\n",
       "      <td>NaN</td>\n",
       "      <td>25.0</td>\n",
       "      <td>NaN</td>\n",
       "      <td>NaN</td>\n",
       "      <td>NaN</td>\n",
       "    </tr>\n",
       "    <tr>\n",
       "      <th>...</th>\n",
       "      <td>...</td>\n",
       "      <td>...</td>\n",
       "      <td>...</td>\n",
       "      <td>...</td>\n",
       "      <td>...</td>\n",
       "      <td>...</td>\n",
       "      <td>...</td>\n",
       "      <td>...</td>\n",
       "      <td>...</td>\n",
       "      <td>...</td>\n",
       "      <td>...</td>\n",
       "      <td>...</td>\n",
       "      <td>...</td>\n",
       "      <td>...</td>\n",
       "      <td>...</td>\n",
       "      <td>...</td>\n",
       "      <td>...</td>\n",
       "      <td>...</td>\n",
       "      <td>...</td>\n",
       "      <td>...</td>\n",
       "      <td>...</td>\n",
       "    </tr>\n",
       "    <tr>\n",
       "      <th>667974</th>\n",
       "      <td>2018307N14251</td>\n",
       "      <td>2018</td>\n",
       "      <td>98</td>\n",
       "      <td>EP</td>\n",
       "      <td>MM</td>\n",
       "      <td>XAVIER</td>\n",
       "      <td>2018-11-05 00:00:00</td>\n",
       "      <td>TS</td>\n",
       "      <td>18.27</td>\n",
       "      <td>-105.57</td>\n",
       "      <td>...</td>\n",
       "      <td>-105.68</td>\n",
       "      <td>18.32</td>\n",
       "      <td>0.120830</td>\n",
       "      <td>24.0</td>\n",
       "      <td>19.0</td>\n",
       "      <td>138.0</td>\n",
       "      <td>20.0</td>\n",
       "      <td>NaN</td>\n",
       "      <td>20.0</td>\n",
       "      <td>NaN</td>\n",
       "    </tr>\n",
       "    <tr>\n",
       "      <th>667975</th>\n",
       "      <td>2018307N14251</td>\n",
       "      <td>2018</td>\n",
       "      <td>98</td>\n",
       "      <td>EP</td>\n",
       "      <td>MM</td>\n",
       "      <td>XAVIER</td>\n",
       "      <td>2018-11-05 03:00:00</td>\n",
       "      <td>TS</td>\n",
       "      <td>18.32</td>\n",
       "      <td>-105.68</td>\n",
       "      <td>...</td>\n",
       "      <td>-105.80</td>\n",
       "      <td>18.33</td>\n",
       "      <td>0.120416</td>\n",
       "      <td>23.0</td>\n",
       "      <td>20.0</td>\n",
       "      <td>126.0</td>\n",
       "      <td>21.0</td>\n",
       "      <td>NaN</td>\n",
       "      <td>20.0</td>\n",
       "      <td>NaN</td>\n",
       "    </tr>\n",
       "    <tr>\n",
       "      <th>667976</th>\n",
       "      <td>2018307N14251</td>\n",
       "      <td>2018</td>\n",
       "      <td>98</td>\n",
       "      <td>EP</td>\n",
       "      <td>MM</td>\n",
       "      <td>XAVIER</td>\n",
       "      <td>2018-11-05 06:00:00</td>\n",
       "      <td>TS</td>\n",
       "      <td>18.33</td>\n",
       "      <td>-105.80</td>\n",
       "      <td>...</td>\n",
       "      <td>-105.88</td>\n",
       "      <td>18.36</td>\n",
       "      <td>0.085440</td>\n",
       "      <td>22.0</td>\n",
       "      <td>21.0</td>\n",
       "      <td>115.0</td>\n",
       "      <td>23.0</td>\n",
       "      <td>NaN</td>\n",
       "      <td>20.0</td>\n",
       "      <td>NaN</td>\n",
       "    </tr>\n",
       "    <tr>\n",
       "      <th>667977</th>\n",
       "      <td>2018307N14251</td>\n",
       "      <td>2018</td>\n",
       "      <td>98</td>\n",
       "      <td>EP</td>\n",
       "      <td>MM</td>\n",
       "      <td>XAVIER</td>\n",
       "      <td>2018-11-05 09:00:00</td>\n",
       "      <td>TS</td>\n",
       "      <td>18.36</td>\n",
       "      <td>-105.88</td>\n",
       "      <td>...</td>\n",
       "      <td>-106.00</td>\n",
       "      <td>18.43</td>\n",
       "      <td>0.138924</td>\n",
       "      <td>21.0</td>\n",
       "      <td>22.0</td>\n",
       "      <td>115.0</td>\n",
       "      <td>23.0</td>\n",
       "      <td>NaN</td>\n",
       "      <td>20.0</td>\n",
       "      <td>NaN</td>\n",
       "    </tr>\n",
       "    <tr>\n",
       "      <th>667978</th>\n",
       "      <td>2018307N14251</td>\n",
       "      <td>2018</td>\n",
       "      <td>98</td>\n",
       "      <td>EP</td>\n",
       "      <td>MM</td>\n",
       "      <td>XAVIER</td>\n",
       "      <td>2018-11-05 12:00:00</td>\n",
       "      <td>TS</td>\n",
       "      <td>18.43</td>\n",
       "      <td>-106.00</td>\n",
       "      <td>...</td>\n",
       "      <td>-106.21</td>\n",
       "      <td>18.61</td>\n",
       "      <td>0.276586</td>\n",
       "      <td>20.0</td>\n",
       "      <td>23.0</td>\n",
       "      <td>115.0</td>\n",
       "      <td>23.0</td>\n",
       "      <td>NaN</td>\n",
       "      <td>20.0</td>\n",
       "      <td>NaN</td>\n",
       "    </tr>\n",
       "  </tbody>\n",
       "</table>\n",
       "<p>45020 rows × 175 columns</p>\n",
       "</div>"
      ],
      "text/plain": [
       "                  SID  SEASON  NUMBER BASIN SUBBASIN    NAME  \\\n",
       "395872  1977161N06134    1977      44    WP       MM    RUTH   \n",
       "395873  1977161N06134    1977      44    WP       MM    RUTH   \n",
       "395874  1977161N06134    1977      44    WP       MM    RUTH   \n",
       "395875  1977161N06134    1977      44    WP       MM    RUTH   \n",
       "395876  1977161N06134    1977      44    WP       MM    RUTH   \n",
       "...               ...     ...     ...   ...      ...     ...   \n",
       "667974  2018307N14251    2018      98    EP       MM  XAVIER   \n",
       "667975  2018307N14251    2018      98    EP       MM  XAVIER   \n",
       "667976  2018307N14251    2018      98    EP       MM  XAVIER   \n",
       "667977  2018307N14251    2018      98    EP       MM  XAVIER   \n",
       "667978  2018307N14251    2018      98    EP       MM  XAVIER   \n",
       "\n",
       "                  ISO_TIME NATURE    LAT     LON  ...   LON_1  LAT_1  \\\n",
       "395872 1977-06-15 06:00:00     TS  19.39  116.89  ...  117.06  19.81   \n",
       "395873 1977-06-15 09:00:00     TS  19.81  117.06  ...  117.23  20.25   \n",
       "395874 1977-06-15 12:00:00     TS  20.25  117.23  ...  117.38  20.70   \n",
       "395875 1977-06-15 15:00:00     TS  20.70  117.38  ...  117.52  21.17   \n",
       "395876 1977-06-15 18:00:00     TS  21.17  117.52  ...  117.64  21.63   \n",
       "...                    ...    ...    ...     ...  ...     ...    ...   \n",
       "667974 2018-11-05 00:00:00     TS  18.27 -105.57  ... -105.68  18.32   \n",
       "667975 2018-11-05 03:00:00     TS  18.32 -105.68  ... -105.80  18.33   \n",
       "667976 2018-11-05 06:00:00     TS  18.33 -105.80  ... -105.88  18.36   \n",
       "667977 2018-11-05 09:00:00     TS  18.36 -105.88  ... -106.00  18.43   \n",
       "667978 2018-11-05 12:00:00     TS  18.43 -106.00  ... -106.21  18.61   \n",
       "\n",
       "            dist  rank  rank_1  max_34 max_50 max_64   RMW  WMO_PRES_delta  \n",
       "395872  0.453100  50.0    43.0     NaN   20.0    NaN   NaN             NaN  \n",
       "395873  0.471699  49.0    44.0     NaN   22.0    NaN   NaN             NaN  \n",
       "395874  0.474342  48.0    45.0     NaN   25.0    NaN   NaN             NaN  \n",
       "395875  0.490408  47.0    46.0     NaN   25.0    NaN   NaN             NaN  \n",
       "395876  0.475395  46.0    47.0     NaN   25.0    NaN   NaN             NaN  \n",
       "...          ...   ...     ...     ...    ...    ...   ...             ...  \n",
       "667974  0.120830  24.0    19.0   138.0   20.0    NaN  20.0             NaN  \n",
       "667975  0.120416  23.0    20.0   126.0   21.0    NaN  20.0             NaN  \n",
       "667976  0.085440  22.0    21.0   115.0   23.0    NaN  20.0             NaN  \n",
       "667977  0.138924  21.0    22.0   115.0   23.0    NaN  20.0             NaN  \n",
       "667978  0.276586  20.0    23.0   115.0   23.0    NaN  20.0             NaN  \n",
       "\n",
       "[45020 rows x 175 columns]"
      ]
     },
     "execution_count": 46,
     "metadata": {},
     "output_type": "execute_result"
    }
   ],
   "source": [
    "j#more 'BASIN','SUBBASIN' 'TRACK_TYPE' 'DIST2LAND','LANDFALL', 'STORM_DR'\n",
    "df2[df2['max_50']==df2['max_50']]"
   ]
  },
  {
   "cell_type": "code",
   "execution_count": 47,
   "metadata": {
    "colab": {},
    "colab_type": "code",
    "id": "Xv2GeHJAvrJG"
   },
   "outputs": [],
   "source": [
    "df2['BASIN'] = df2['BASIN'].fillna('NAM')"
   ]
  },
  {
   "cell_type": "code",
   "execution_count": 48,
   "metadata": {
    "colab": {},
    "colab_type": "code",
    "id": "3CfjzTYTtGdU"
   },
   "outputs": [],
   "source": [
    "ib = df2[df2['max_50']==df2['max_50']][['NAME','SEASON', 'SID', 'WMO_PRES_delta', 'NUMBER',\n",
    "                                      'BASIN','SUBBASIN','NAME','ISO_TIME','NATURE','LAT','LON','WMO_WIND','WMO_PRES',\n",
    "                                        'TRACK_TYPE','DIST2LAND','LANDFALL',\n",
    "                                       'STORM_SPD', 'dist',\t'STORM_DR',\t'year',\t'month',\n",
    "                                      'day', 'hour', 'min', 'max_34', 'max_50', 'max_64', 'rank', 'rank_1'\n",
    "                                                                                                   \n",
    "                                                                                                   \n",
    "                                                                                                   ]]"
   ]
  },
  {
   "cell_type": "code",
   "execution_count": null,
   "metadata": {
    "colab": {
     "base_uri": "https://localhost:8080/",
     "height": 164
    },
    "colab_type": "code",
    "id": "MS3Bc2SNxWHR",
    "outputId": "622791ac-b8e1-4009-cf19-a85dce619f09"
   },
   "outputs": [],
   "source": []
  },
  {
   "cell_type": "code",
   "execution_count": 49,
   "metadata": {
    "colab": {},
    "colab_type": "code",
    "id": "x4VIW-CQ7xY0"
   },
   "outputs": [],
   "source": [
    "#ib = pd.get_dummies(ib, columns=['BASIN','SUBBASIN', 'WMO_AGENCY','TRACK_TYPE',  'NATURE'])"
   ]
  },
  {
   "cell_type": "code",
   "execution_count": 50,
   "metadata": {
    "colab": {},
    "colab_type": "code",
    "id": "9wDiBE3FfpvE"
   },
   "outputs": [
    {
     "data": {
      "text/html": [
       "<div>\n",
       "<style scoped>\n",
       "    .dataframe tbody tr th:only-of-type {\n",
       "        vertical-align: middle;\n",
       "    }\n",
       "\n",
       "    .dataframe tbody tr th {\n",
       "        vertical-align: top;\n",
       "    }\n",
       "\n",
       "    .dataframe thead th {\n",
       "        text-align: right;\n",
       "    }\n",
       "</style>\n",
       "<table border=\"1\" class=\"dataframe\">\n",
       "  <thead>\n",
       "    <tr style=\"text-align: right;\">\n",
       "      <th></th>\n",
       "      <th>NAME</th>\n",
       "      <th>SEASON</th>\n",
       "      <th>SID</th>\n",
       "      <th>WMO_PRES_delta</th>\n",
       "      <th>NUMBER</th>\n",
       "      <th>BASIN</th>\n",
       "      <th>SUBBASIN</th>\n",
       "      <th>NAME</th>\n",
       "      <th>ISO_TIME</th>\n",
       "      <th>NATURE</th>\n",
       "      <th>...</th>\n",
       "      <th>year</th>\n",
       "      <th>month</th>\n",
       "      <th>day</th>\n",
       "      <th>hour</th>\n",
       "      <th>min</th>\n",
       "      <th>max_34</th>\n",
       "      <th>max_50</th>\n",
       "      <th>max_64</th>\n",
       "      <th>rank</th>\n",
       "      <th>rank_1</th>\n",
       "    </tr>\n",
       "  </thead>\n",
       "  <tbody>\n",
       "    <tr>\n",
       "      <th>395872</th>\n",
       "      <td>RUTH</td>\n",
       "      <td>1977</td>\n",
       "      <td>1977161N06134</td>\n",
       "      <td>NaN</td>\n",
       "      <td>44</td>\n",
       "      <td>WP</td>\n",
       "      <td>MM</td>\n",
       "      <td>RUTH</td>\n",
       "      <td>1977-06-15 06:00:00</td>\n",
       "      <td>TS</td>\n",
       "      <td>...</td>\n",
       "      <td>1977</td>\n",
       "      <td>6</td>\n",
       "      <td>15</td>\n",
       "      <td>6</td>\n",
       "      <td>0</td>\n",
       "      <td>NaN</td>\n",
       "      <td>20.0</td>\n",
       "      <td>NaN</td>\n",
       "      <td>50.0</td>\n",
       "      <td>43.0</td>\n",
       "    </tr>\n",
       "    <tr>\n",
       "      <th>395873</th>\n",
       "      <td>RUTH</td>\n",
       "      <td>1977</td>\n",
       "      <td>1977161N06134</td>\n",
       "      <td>NaN</td>\n",
       "      <td>44</td>\n",
       "      <td>WP</td>\n",
       "      <td>MM</td>\n",
       "      <td>RUTH</td>\n",
       "      <td>1977-06-15 09:00:00</td>\n",
       "      <td>TS</td>\n",
       "      <td>...</td>\n",
       "      <td>1977</td>\n",
       "      <td>6</td>\n",
       "      <td>15</td>\n",
       "      <td>9</td>\n",
       "      <td>0</td>\n",
       "      <td>NaN</td>\n",
       "      <td>22.0</td>\n",
       "      <td>NaN</td>\n",
       "      <td>49.0</td>\n",
       "      <td>44.0</td>\n",
       "    </tr>\n",
       "    <tr>\n",
       "      <th>395874</th>\n",
       "      <td>RUTH</td>\n",
       "      <td>1977</td>\n",
       "      <td>1977161N06134</td>\n",
       "      <td>NaN</td>\n",
       "      <td>44</td>\n",
       "      <td>WP</td>\n",
       "      <td>MM</td>\n",
       "      <td>RUTH</td>\n",
       "      <td>1977-06-15 12:00:00</td>\n",
       "      <td>TS</td>\n",
       "      <td>...</td>\n",
       "      <td>1977</td>\n",
       "      <td>6</td>\n",
       "      <td>15</td>\n",
       "      <td>12</td>\n",
       "      <td>0</td>\n",
       "      <td>NaN</td>\n",
       "      <td>25.0</td>\n",
       "      <td>NaN</td>\n",
       "      <td>48.0</td>\n",
       "      <td>45.0</td>\n",
       "    </tr>\n",
       "    <tr>\n",
       "      <th>395875</th>\n",
       "      <td>RUTH</td>\n",
       "      <td>1977</td>\n",
       "      <td>1977161N06134</td>\n",
       "      <td>NaN</td>\n",
       "      <td>44</td>\n",
       "      <td>WP</td>\n",
       "      <td>MM</td>\n",
       "      <td>RUTH</td>\n",
       "      <td>1977-06-15 15:00:00</td>\n",
       "      <td>TS</td>\n",
       "      <td>...</td>\n",
       "      <td>1977</td>\n",
       "      <td>6</td>\n",
       "      <td>15</td>\n",
       "      <td>15</td>\n",
       "      <td>0</td>\n",
       "      <td>NaN</td>\n",
       "      <td>25.0</td>\n",
       "      <td>NaN</td>\n",
       "      <td>47.0</td>\n",
       "      <td>46.0</td>\n",
       "    </tr>\n",
       "    <tr>\n",
       "      <th>395876</th>\n",
       "      <td>RUTH</td>\n",
       "      <td>1977</td>\n",
       "      <td>1977161N06134</td>\n",
       "      <td>NaN</td>\n",
       "      <td>44</td>\n",
       "      <td>WP</td>\n",
       "      <td>MM</td>\n",
       "      <td>RUTH</td>\n",
       "      <td>1977-06-15 18:00:00</td>\n",
       "      <td>TS</td>\n",
       "      <td>...</td>\n",
       "      <td>1977</td>\n",
       "      <td>6</td>\n",
       "      <td>15</td>\n",
       "      <td>18</td>\n",
       "      <td>0</td>\n",
       "      <td>NaN</td>\n",
       "      <td>25.0</td>\n",
       "      <td>NaN</td>\n",
       "      <td>46.0</td>\n",
       "      <td>47.0</td>\n",
       "    </tr>\n",
       "    <tr>\n",
       "      <th>...</th>\n",
       "      <td>...</td>\n",
       "      <td>...</td>\n",
       "      <td>...</td>\n",
       "      <td>...</td>\n",
       "      <td>...</td>\n",
       "      <td>...</td>\n",
       "      <td>...</td>\n",
       "      <td>...</td>\n",
       "      <td>...</td>\n",
       "      <td>...</td>\n",
       "      <td>...</td>\n",
       "      <td>...</td>\n",
       "      <td>...</td>\n",
       "      <td>...</td>\n",
       "      <td>...</td>\n",
       "      <td>...</td>\n",
       "      <td>...</td>\n",
       "      <td>...</td>\n",
       "      <td>...</td>\n",
       "      <td>...</td>\n",
       "      <td>...</td>\n",
       "    </tr>\n",
       "    <tr>\n",
       "      <th>667974</th>\n",
       "      <td>XAVIER</td>\n",
       "      <td>2018</td>\n",
       "      <td>2018307N14251</td>\n",
       "      <td>NaN</td>\n",
       "      <td>98</td>\n",
       "      <td>EP</td>\n",
       "      <td>MM</td>\n",
       "      <td>XAVIER</td>\n",
       "      <td>2018-11-05 00:00:00</td>\n",
       "      <td>TS</td>\n",
       "      <td>...</td>\n",
       "      <td>2018</td>\n",
       "      <td>11</td>\n",
       "      <td>5</td>\n",
       "      <td>0</td>\n",
       "      <td>0</td>\n",
       "      <td>138.0</td>\n",
       "      <td>20.0</td>\n",
       "      <td>NaN</td>\n",
       "      <td>24.0</td>\n",
       "      <td>19.0</td>\n",
       "    </tr>\n",
       "    <tr>\n",
       "      <th>667975</th>\n",
       "      <td>XAVIER</td>\n",
       "      <td>2018</td>\n",
       "      <td>2018307N14251</td>\n",
       "      <td>NaN</td>\n",
       "      <td>98</td>\n",
       "      <td>EP</td>\n",
       "      <td>MM</td>\n",
       "      <td>XAVIER</td>\n",
       "      <td>2018-11-05 03:00:00</td>\n",
       "      <td>TS</td>\n",
       "      <td>...</td>\n",
       "      <td>2018</td>\n",
       "      <td>11</td>\n",
       "      <td>5</td>\n",
       "      <td>3</td>\n",
       "      <td>0</td>\n",
       "      <td>126.0</td>\n",
       "      <td>21.0</td>\n",
       "      <td>NaN</td>\n",
       "      <td>23.0</td>\n",
       "      <td>20.0</td>\n",
       "    </tr>\n",
       "    <tr>\n",
       "      <th>667976</th>\n",
       "      <td>XAVIER</td>\n",
       "      <td>2018</td>\n",
       "      <td>2018307N14251</td>\n",
       "      <td>NaN</td>\n",
       "      <td>98</td>\n",
       "      <td>EP</td>\n",
       "      <td>MM</td>\n",
       "      <td>XAVIER</td>\n",
       "      <td>2018-11-05 06:00:00</td>\n",
       "      <td>TS</td>\n",
       "      <td>...</td>\n",
       "      <td>2018</td>\n",
       "      <td>11</td>\n",
       "      <td>5</td>\n",
       "      <td>6</td>\n",
       "      <td>0</td>\n",
       "      <td>115.0</td>\n",
       "      <td>23.0</td>\n",
       "      <td>NaN</td>\n",
       "      <td>22.0</td>\n",
       "      <td>21.0</td>\n",
       "    </tr>\n",
       "    <tr>\n",
       "      <th>667977</th>\n",
       "      <td>XAVIER</td>\n",
       "      <td>2018</td>\n",
       "      <td>2018307N14251</td>\n",
       "      <td>NaN</td>\n",
       "      <td>98</td>\n",
       "      <td>EP</td>\n",
       "      <td>MM</td>\n",
       "      <td>XAVIER</td>\n",
       "      <td>2018-11-05 09:00:00</td>\n",
       "      <td>TS</td>\n",
       "      <td>...</td>\n",
       "      <td>2018</td>\n",
       "      <td>11</td>\n",
       "      <td>5</td>\n",
       "      <td>9</td>\n",
       "      <td>0</td>\n",
       "      <td>115.0</td>\n",
       "      <td>23.0</td>\n",
       "      <td>NaN</td>\n",
       "      <td>21.0</td>\n",
       "      <td>22.0</td>\n",
       "    </tr>\n",
       "    <tr>\n",
       "      <th>667978</th>\n",
       "      <td>XAVIER</td>\n",
       "      <td>2018</td>\n",
       "      <td>2018307N14251</td>\n",
       "      <td>NaN</td>\n",
       "      <td>98</td>\n",
       "      <td>EP</td>\n",
       "      <td>MM</td>\n",
       "      <td>XAVIER</td>\n",
       "      <td>2018-11-05 12:00:00</td>\n",
       "      <td>TS</td>\n",
       "      <td>...</td>\n",
       "      <td>2018</td>\n",
       "      <td>11</td>\n",
       "      <td>5</td>\n",
       "      <td>12</td>\n",
       "      <td>0</td>\n",
       "      <td>115.0</td>\n",
       "      <td>23.0</td>\n",
       "      <td>NaN</td>\n",
       "      <td>20.0</td>\n",
       "      <td>23.0</td>\n",
       "    </tr>\n",
       "  </tbody>\n",
       "</table>\n",
       "<p>45020 rows × 30 columns</p>\n",
       "</div>"
      ],
      "text/plain": [
       "          NAME  SEASON            SID  WMO_PRES_delta  NUMBER BASIN SUBBASIN  \\\n",
       "395872    RUTH    1977  1977161N06134             NaN      44    WP       MM   \n",
       "395873    RUTH    1977  1977161N06134             NaN      44    WP       MM   \n",
       "395874    RUTH    1977  1977161N06134             NaN      44    WP       MM   \n",
       "395875    RUTH    1977  1977161N06134             NaN      44    WP       MM   \n",
       "395876    RUTH    1977  1977161N06134             NaN      44    WP       MM   \n",
       "...        ...     ...            ...             ...     ...   ...      ...   \n",
       "667974  XAVIER    2018  2018307N14251             NaN      98    EP       MM   \n",
       "667975  XAVIER    2018  2018307N14251             NaN      98    EP       MM   \n",
       "667976  XAVIER    2018  2018307N14251             NaN      98    EP       MM   \n",
       "667977  XAVIER    2018  2018307N14251             NaN      98    EP       MM   \n",
       "667978  XAVIER    2018  2018307N14251             NaN      98    EP       MM   \n",
       "\n",
       "          NAME            ISO_TIME NATURE  ...  year  month  day  hour min  \\\n",
       "395872    RUTH 1977-06-15 06:00:00     TS  ...  1977      6   15     6   0   \n",
       "395873    RUTH 1977-06-15 09:00:00     TS  ...  1977      6   15     9   0   \n",
       "395874    RUTH 1977-06-15 12:00:00     TS  ...  1977      6   15    12   0   \n",
       "395875    RUTH 1977-06-15 15:00:00     TS  ...  1977      6   15    15   0   \n",
       "395876    RUTH 1977-06-15 18:00:00     TS  ...  1977      6   15    18   0   \n",
       "...        ...                 ...    ...  ...   ...    ...  ...   ...  ..   \n",
       "667974  XAVIER 2018-11-05 00:00:00     TS  ...  2018     11    5     0   0   \n",
       "667975  XAVIER 2018-11-05 03:00:00     TS  ...  2018     11    5     3   0   \n",
       "667976  XAVIER 2018-11-05 06:00:00     TS  ...  2018     11    5     6   0   \n",
       "667977  XAVIER 2018-11-05 09:00:00     TS  ...  2018     11    5     9   0   \n",
       "667978  XAVIER 2018-11-05 12:00:00     TS  ...  2018     11    5    12   0   \n",
       "\n",
       "        max_34  max_50  max_64  rank  rank_1  \n",
       "395872     NaN    20.0     NaN  50.0    43.0  \n",
       "395873     NaN    22.0     NaN  49.0    44.0  \n",
       "395874     NaN    25.0     NaN  48.0    45.0  \n",
       "395875     NaN    25.0     NaN  47.0    46.0  \n",
       "395876     NaN    25.0     NaN  46.0    47.0  \n",
       "...        ...     ...     ...   ...     ...  \n",
       "667974   138.0    20.0     NaN  24.0    19.0  \n",
       "667975   126.0    21.0     NaN  23.0    20.0  \n",
       "667976   115.0    23.0     NaN  22.0    21.0  \n",
       "667977   115.0    23.0     NaN  21.0    22.0  \n",
       "667978   115.0    23.0     NaN  20.0    23.0  \n",
       "\n",
       "[45020 rows x 30 columns]"
      ]
     },
     "execution_count": 50,
     "metadata": {},
     "output_type": "execute_result"
    }
   ],
   "source": [
    "ib"
   ]
  },
  {
   "cell_type": "code",
   "execution_count": 51,
   "metadata": {
    "colab": {},
    "colab_type": "code",
    "id": "Fsf8N3898a0I"
   },
   "outputs": [],
   "source": [
    "# Code modified by Raghuram on 6th April to fill the missing values with median\n",
    "cols = ['WMO_WIND','WMO_PRES']\n",
    "ib[cols] = ib.groupby('SID')[cols].ffill().fillna(ib[cols].median()).astype(int)"
   ]
  },
  {
   "cell_type": "code",
   "execution_count": 52,
   "metadata": {
    "colab": {},
    "colab_type": "code",
    "id": "_SI4hpXHn9nE"
   },
   "outputs": [],
   "source": [
    "#ib['RMW_1'] = ib.groupby(['SID'])['RMW'].shift(-1)"
   ]
  },
  {
   "cell_type": "code",
   "execution_count": 53,
   "metadata": {
    "colab": {},
    "colab_type": "code",
    "id": "AtI3nrwglZk1"
   },
   "outputs": [],
   "source": [
    "# Code modified by Raghuram on 6th April to fill the missing values with median\n",
    "cols_winds = ['max_34','max_50','max_64', 'dist']     \n",
    "ib[cols] = ib.groupby('SID')[cols].ffill().fillna(ib[cols].median()).astype(int)"
   ]
  },
  {
   "cell_type": "code",
   "execution_count": 54,
   "metadata": {},
   "outputs": [
    {
     "data": {
      "text/html": [
       "<div>\n",
       "<style scoped>\n",
       "    .dataframe tbody tr th:only-of-type {\n",
       "        vertical-align: middle;\n",
       "    }\n",
       "\n",
       "    .dataframe tbody tr th {\n",
       "        vertical-align: top;\n",
       "    }\n",
       "\n",
       "    .dataframe thead th {\n",
       "        text-align: right;\n",
       "    }\n",
       "</style>\n",
       "<table border=\"1\" class=\"dataframe\">\n",
       "  <thead>\n",
       "    <tr style=\"text-align: right;\">\n",
       "      <th></th>\n",
       "      <th>NAME</th>\n",
       "      <th>SEASON</th>\n",
       "      <th>SID</th>\n",
       "      <th>WMO_PRES_delta</th>\n",
       "      <th>NUMBER</th>\n",
       "      <th>BASIN</th>\n",
       "      <th>SUBBASIN</th>\n",
       "      <th>NAME</th>\n",
       "      <th>ISO_TIME</th>\n",
       "      <th>NATURE</th>\n",
       "      <th>...</th>\n",
       "      <th>year</th>\n",
       "      <th>month</th>\n",
       "      <th>day</th>\n",
       "      <th>hour</th>\n",
       "      <th>min</th>\n",
       "      <th>max_34</th>\n",
       "      <th>max_50</th>\n",
       "      <th>max_64</th>\n",
       "      <th>rank</th>\n",
       "      <th>rank_1</th>\n",
       "    </tr>\n",
       "  </thead>\n",
       "  <tbody>\n",
       "    <tr>\n",
       "      <th>395872</th>\n",
       "      <td>RUTH</td>\n",
       "      <td>1977</td>\n",
       "      <td>1977161N06134</td>\n",
       "      <td>NaN</td>\n",
       "      <td>44</td>\n",
       "      <td>WP</td>\n",
       "      <td>MM</td>\n",
       "      <td>RUTH</td>\n",
       "      <td>1977-06-15 06:00:00</td>\n",
       "      <td>TS</td>\n",
       "      <td>...</td>\n",
       "      <td>1977</td>\n",
       "      <td>6</td>\n",
       "      <td>15</td>\n",
       "      <td>6</td>\n",
       "      <td>0</td>\n",
       "      <td>NaN</td>\n",
       "      <td>20.0</td>\n",
       "      <td>NaN</td>\n",
       "      <td>50.0</td>\n",
       "      <td>43.0</td>\n",
       "    </tr>\n",
       "    <tr>\n",
       "      <th>395873</th>\n",
       "      <td>RUTH</td>\n",
       "      <td>1977</td>\n",
       "      <td>1977161N06134</td>\n",
       "      <td>NaN</td>\n",
       "      <td>44</td>\n",
       "      <td>WP</td>\n",
       "      <td>MM</td>\n",
       "      <td>RUTH</td>\n",
       "      <td>1977-06-15 09:00:00</td>\n",
       "      <td>TS</td>\n",
       "      <td>...</td>\n",
       "      <td>1977</td>\n",
       "      <td>6</td>\n",
       "      <td>15</td>\n",
       "      <td>9</td>\n",
       "      <td>0</td>\n",
       "      <td>NaN</td>\n",
       "      <td>22.0</td>\n",
       "      <td>NaN</td>\n",
       "      <td>49.0</td>\n",
       "      <td>44.0</td>\n",
       "    </tr>\n",
       "    <tr>\n",
       "      <th>395874</th>\n",
       "      <td>RUTH</td>\n",
       "      <td>1977</td>\n",
       "      <td>1977161N06134</td>\n",
       "      <td>NaN</td>\n",
       "      <td>44</td>\n",
       "      <td>WP</td>\n",
       "      <td>MM</td>\n",
       "      <td>RUTH</td>\n",
       "      <td>1977-06-15 12:00:00</td>\n",
       "      <td>TS</td>\n",
       "      <td>...</td>\n",
       "      <td>1977</td>\n",
       "      <td>6</td>\n",
       "      <td>15</td>\n",
       "      <td>12</td>\n",
       "      <td>0</td>\n",
       "      <td>NaN</td>\n",
       "      <td>25.0</td>\n",
       "      <td>NaN</td>\n",
       "      <td>48.0</td>\n",
       "      <td>45.0</td>\n",
       "    </tr>\n",
       "    <tr>\n",
       "      <th>395875</th>\n",
       "      <td>RUTH</td>\n",
       "      <td>1977</td>\n",
       "      <td>1977161N06134</td>\n",
       "      <td>NaN</td>\n",
       "      <td>44</td>\n",
       "      <td>WP</td>\n",
       "      <td>MM</td>\n",
       "      <td>RUTH</td>\n",
       "      <td>1977-06-15 15:00:00</td>\n",
       "      <td>TS</td>\n",
       "      <td>...</td>\n",
       "      <td>1977</td>\n",
       "      <td>6</td>\n",
       "      <td>15</td>\n",
       "      <td>15</td>\n",
       "      <td>0</td>\n",
       "      <td>NaN</td>\n",
       "      <td>25.0</td>\n",
       "      <td>NaN</td>\n",
       "      <td>47.0</td>\n",
       "      <td>46.0</td>\n",
       "    </tr>\n",
       "    <tr>\n",
       "      <th>395876</th>\n",
       "      <td>RUTH</td>\n",
       "      <td>1977</td>\n",
       "      <td>1977161N06134</td>\n",
       "      <td>NaN</td>\n",
       "      <td>44</td>\n",
       "      <td>WP</td>\n",
       "      <td>MM</td>\n",
       "      <td>RUTH</td>\n",
       "      <td>1977-06-15 18:00:00</td>\n",
       "      <td>TS</td>\n",
       "      <td>...</td>\n",
       "      <td>1977</td>\n",
       "      <td>6</td>\n",
       "      <td>15</td>\n",
       "      <td>18</td>\n",
       "      <td>0</td>\n",
       "      <td>NaN</td>\n",
       "      <td>25.0</td>\n",
       "      <td>NaN</td>\n",
       "      <td>46.0</td>\n",
       "      <td>47.0</td>\n",
       "    </tr>\n",
       "    <tr>\n",
       "      <th>...</th>\n",
       "      <td>...</td>\n",
       "      <td>...</td>\n",
       "      <td>...</td>\n",
       "      <td>...</td>\n",
       "      <td>...</td>\n",
       "      <td>...</td>\n",
       "      <td>...</td>\n",
       "      <td>...</td>\n",
       "      <td>...</td>\n",
       "      <td>...</td>\n",
       "      <td>...</td>\n",
       "      <td>...</td>\n",
       "      <td>...</td>\n",
       "      <td>...</td>\n",
       "      <td>...</td>\n",
       "      <td>...</td>\n",
       "      <td>...</td>\n",
       "      <td>...</td>\n",
       "      <td>...</td>\n",
       "      <td>...</td>\n",
       "      <td>...</td>\n",
       "    </tr>\n",
       "    <tr>\n",
       "      <th>667974</th>\n",
       "      <td>XAVIER</td>\n",
       "      <td>2018</td>\n",
       "      <td>2018307N14251</td>\n",
       "      <td>NaN</td>\n",
       "      <td>98</td>\n",
       "      <td>EP</td>\n",
       "      <td>MM</td>\n",
       "      <td>XAVIER</td>\n",
       "      <td>2018-11-05 00:00:00</td>\n",
       "      <td>TS</td>\n",
       "      <td>...</td>\n",
       "      <td>2018</td>\n",
       "      <td>11</td>\n",
       "      <td>5</td>\n",
       "      <td>0</td>\n",
       "      <td>0</td>\n",
       "      <td>138.0</td>\n",
       "      <td>20.0</td>\n",
       "      <td>NaN</td>\n",
       "      <td>24.0</td>\n",
       "      <td>19.0</td>\n",
       "    </tr>\n",
       "    <tr>\n",
       "      <th>667975</th>\n",
       "      <td>XAVIER</td>\n",
       "      <td>2018</td>\n",
       "      <td>2018307N14251</td>\n",
       "      <td>NaN</td>\n",
       "      <td>98</td>\n",
       "      <td>EP</td>\n",
       "      <td>MM</td>\n",
       "      <td>XAVIER</td>\n",
       "      <td>2018-11-05 03:00:00</td>\n",
       "      <td>TS</td>\n",
       "      <td>...</td>\n",
       "      <td>2018</td>\n",
       "      <td>11</td>\n",
       "      <td>5</td>\n",
       "      <td>3</td>\n",
       "      <td>0</td>\n",
       "      <td>126.0</td>\n",
       "      <td>21.0</td>\n",
       "      <td>NaN</td>\n",
       "      <td>23.0</td>\n",
       "      <td>20.0</td>\n",
       "    </tr>\n",
       "    <tr>\n",
       "      <th>667976</th>\n",
       "      <td>XAVIER</td>\n",
       "      <td>2018</td>\n",
       "      <td>2018307N14251</td>\n",
       "      <td>NaN</td>\n",
       "      <td>98</td>\n",
       "      <td>EP</td>\n",
       "      <td>MM</td>\n",
       "      <td>XAVIER</td>\n",
       "      <td>2018-11-05 06:00:00</td>\n",
       "      <td>TS</td>\n",
       "      <td>...</td>\n",
       "      <td>2018</td>\n",
       "      <td>11</td>\n",
       "      <td>5</td>\n",
       "      <td>6</td>\n",
       "      <td>0</td>\n",
       "      <td>115.0</td>\n",
       "      <td>23.0</td>\n",
       "      <td>NaN</td>\n",
       "      <td>22.0</td>\n",
       "      <td>21.0</td>\n",
       "    </tr>\n",
       "    <tr>\n",
       "      <th>667977</th>\n",
       "      <td>XAVIER</td>\n",
       "      <td>2018</td>\n",
       "      <td>2018307N14251</td>\n",
       "      <td>NaN</td>\n",
       "      <td>98</td>\n",
       "      <td>EP</td>\n",
       "      <td>MM</td>\n",
       "      <td>XAVIER</td>\n",
       "      <td>2018-11-05 09:00:00</td>\n",
       "      <td>TS</td>\n",
       "      <td>...</td>\n",
       "      <td>2018</td>\n",
       "      <td>11</td>\n",
       "      <td>5</td>\n",
       "      <td>9</td>\n",
       "      <td>0</td>\n",
       "      <td>115.0</td>\n",
       "      <td>23.0</td>\n",
       "      <td>NaN</td>\n",
       "      <td>21.0</td>\n",
       "      <td>22.0</td>\n",
       "    </tr>\n",
       "    <tr>\n",
       "      <th>667978</th>\n",
       "      <td>XAVIER</td>\n",
       "      <td>2018</td>\n",
       "      <td>2018307N14251</td>\n",
       "      <td>NaN</td>\n",
       "      <td>98</td>\n",
       "      <td>EP</td>\n",
       "      <td>MM</td>\n",
       "      <td>XAVIER</td>\n",
       "      <td>2018-11-05 12:00:00</td>\n",
       "      <td>TS</td>\n",
       "      <td>...</td>\n",
       "      <td>2018</td>\n",
       "      <td>11</td>\n",
       "      <td>5</td>\n",
       "      <td>12</td>\n",
       "      <td>0</td>\n",
       "      <td>115.0</td>\n",
       "      <td>23.0</td>\n",
       "      <td>NaN</td>\n",
       "      <td>20.0</td>\n",
       "      <td>23.0</td>\n",
       "    </tr>\n",
       "  </tbody>\n",
       "</table>\n",
       "<p>45020 rows × 30 columns</p>\n",
       "</div>"
      ],
      "text/plain": [
       "          NAME  SEASON            SID  WMO_PRES_delta  NUMBER BASIN SUBBASIN  \\\n",
       "395872    RUTH    1977  1977161N06134             NaN      44    WP       MM   \n",
       "395873    RUTH    1977  1977161N06134             NaN      44    WP       MM   \n",
       "395874    RUTH    1977  1977161N06134             NaN      44    WP       MM   \n",
       "395875    RUTH    1977  1977161N06134             NaN      44    WP       MM   \n",
       "395876    RUTH    1977  1977161N06134             NaN      44    WP       MM   \n",
       "...        ...     ...            ...             ...     ...   ...      ...   \n",
       "667974  XAVIER    2018  2018307N14251             NaN      98    EP       MM   \n",
       "667975  XAVIER    2018  2018307N14251             NaN      98    EP       MM   \n",
       "667976  XAVIER    2018  2018307N14251             NaN      98    EP       MM   \n",
       "667977  XAVIER    2018  2018307N14251             NaN      98    EP       MM   \n",
       "667978  XAVIER    2018  2018307N14251             NaN      98    EP       MM   \n",
       "\n",
       "          NAME            ISO_TIME NATURE  ...  year  month  day  hour min  \\\n",
       "395872    RUTH 1977-06-15 06:00:00     TS  ...  1977      6   15     6   0   \n",
       "395873    RUTH 1977-06-15 09:00:00     TS  ...  1977      6   15     9   0   \n",
       "395874    RUTH 1977-06-15 12:00:00     TS  ...  1977      6   15    12   0   \n",
       "395875    RUTH 1977-06-15 15:00:00     TS  ...  1977      6   15    15   0   \n",
       "395876    RUTH 1977-06-15 18:00:00     TS  ...  1977      6   15    18   0   \n",
       "...        ...                 ...    ...  ...   ...    ...  ...   ...  ..   \n",
       "667974  XAVIER 2018-11-05 00:00:00     TS  ...  2018     11    5     0   0   \n",
       "667975  XAVIER 2018-11-05 03:00:00     TS  ...  2018     11    5     3   0   \n",
       "667976  XAVIER 2018-11-05 06:00:00     TS  ...  2018     11    5     6   0   \n",
       "667977  XAVIER 2018-11-05 09:00:00     TS  ...  2018     11    5     9   0   \n",
       "667978  XAVIER 2018-11-05 12:00:00     TS  ...  2018     11    5    12   0   \n",
       "\n",
       "        max_34  max_50  max_64  rank  rank_1  \n",
       "395872     NaN    20.0     NaN  50.0    43.0  \n",
       "395873     NaN    22.0     NaN  49.0    44.0  \n",
       "395874     NaN    25.0     NaN  48.0    45.0  \n",
       "395875     NaN    25.0     NaN  47.0    46.0  \n",
       "395876     NaN    25.0     NaN  46.0    47.0  \n",
       "...        ...     ...     ...   ...     ...  \n",
       "667974   138.0    20.0     NaN  24.0    19.0  \n",
       "667975   126.0    21.0     NaN  23.0    20.0  \n",
       "667976   115.0    23.0     NaN  22.0    21.0  \n",
       "667977   115.0    23.0     NaN  21.0    22.0  \n",
       "667978   115.0    23.0     NaN  20.0    23.0  \n",
       "\n",
       "[45020 rows x 30 columns]"
      ]
     },
     "execution_count": 54,
     "metadata": {},
     "output_type": "execute_result"
    }
   ],
   "source": [
    "ib"
   ]
  },
  {
   "cell_type": "code",
   "execution_count": 55,
   "metadata": {
    "colab": {},
    "colab_type": "code",
    "id": "6I8WWkkSEjwo"
   },
   "outputs": [
    {
     "data": {
      "text/plain": [
       "array(['NI', 'SI', 'NAM', 'EP', 'WP', 'SP', 'SA'], dtype=object)"
      ]
     },
     "execution_count": 55,
     "metadata": {},
     "output_type": "execute_result"
    }
   ],
   "source": [
    "df2['BASIN'].unique()"
   ]
  },
  {
   "cell_type": "code",
   "execution_count": null,
   "metadata": {
    "colab": {},
    "colab_type": "code",
    "id": "nf37kz3krUcI"
   },
   "outputs": [],
   "source": []
  },
  {
   "cell_type": "code",
   "execution_count": 56,
   "metadata": {
    "colab": {},
    "colab_type": "code",
    "id": "j9HRYx089BB3"
   },
   "outputs": [
    {
     "name": "stdout",
     "output_type": "stream",
     "text": [
      "<class 'pandas.core.frame.DataFrame'>\n",
      "Int64Index: 45020 entries, 395872 to 667978\n",
      "Data columns (total 30 columns):\n",
      " #   Column          Non-Null Count  Dtype         \n",
      "---  ------          --------------  -----         \n",
      " 0   NAME            45020 non-null  object        \n",
      " 1   SEASON          45020 non-null  int64         \n",
      " 2   SID             45020 non-null  object        \n",
      " 3   WMO_PRES_delta  4808 non-null   float64       \n",
      " 4   NUMBER          45020 non-null  int64         \n",
      " 5   BASIN           45020 non-null  object        \n",
      " 6   SUBBASIN        39822 non-null  object        \n",
      " 7   NAME            45020 non-null  object        \n",
      " 8   ISO_TIME        45020 non-null  datetime64[ns]\n",
      " 9   NATURE          45020 non-null  object        \n",
      " 10  LAT             45020 non-null  float64       \n",
      " 11  LON             45020 non-null  float64       \n",
      " 12  WMO_WIND        45020 non-null  int64         \n",
      " 13  WMO_PRES        45020 non-null  int64         \n",
      " 14  TRACK_TYPE      45020 non-null  object        \n",
      " 15  DIST2LAND       45020 non-null  int64         \n",
      " 16  LANDFALL        45020 non-null  int64         \n",
      " 17  STORM_SPD       45020 non-null  int64         \n",
      " 18  dist            44994 non-null  float64       \n",
      " 19  STORM_DR        45020 non-null  int64         \n",
      " 20  year            45020 non-null  int64         \n",
      " 21  month           45020 non-null  int64         \n",
      " 22  day             45020 non-null  int64         \n",
      " 23  hour            45020 non-null  int64         \n",
      " 24  min             45020 non-null  int64         \n",
      " 25  max_34          29765 non-null  float64       \n",
      " 26  max_50          45020 non-null  float64       \n",
      " 27  max_64          17085 non-null  float64       \n",
      " 28  rank            45020 non-null  float64       \n",
      " 29  rank_1          45020 non-null  float64       \n",
      "dtypes: datetime64[ns](1), float64(9), int64(13), object(7)\n",
      "memory usage: 10.6+ MB\n"
     ]
    }
   ],
   "source": [
    "ib.info()"
   ]
  },
  {
   "cell_type": "code",
   "execution_count": 57,
   "metadata": {
    "colab": {},
    "colab_type": "code",
    "id": "xdoEfvKtz_CL"
   },
   "outputs": [],
   "source": [
    "# Code modified by Raghuram on 6th April to fill the missing values with median\n",
    "cols = ['WMO_PRES_delta']\n",
    "ib[cols] = ib.groupby('SID')[cols].ffill().fillna(ib[cols].median()).astype(int)"
   ]
  },
  {
   "cell_type": "code",
   "execution_count": 58,
   "metadata": {
    "colab": {},
    "colab_type": "code",
    "id": "pN9WuLNwdGWr"
   },
   "outputs": [],
   "source": [
    "ib = pd.get_dummies(ib, columns=['BASIN'])"
   ]
  },
  {
   "cell_type": "code",
   "execution_count": 59,
   "metadata": {
    "colab": {},
    "colab_type": "code",
    "id": "M_vs7BpAdNMb"
   },
   "outputs": [],
   "source": [
    "ib = pd.get_dummies(ib, columns=['month']) "
   ]
  },
  {
   "cell_type": "code",
   "execution_count": 60,
   "metadata": {},
   "outputs": [],
   "source": [
    "ib['dist'] = ib['dist'].fillna(method = 'ffill')"
   ]
  },
  {
   "cell_type": "code",
   "execution_count": 61,
   "metadata": {
    "colab": {},
    "colab_type": "code",
    "id": "SQmsem0tZa4m"
   },
   "outputs": [],
   "source": [
    "import numpy as np\n",
    "from sklearn.model_selection import train_test_split\n",
    "column_names = ['LAT','LON','WMO_WIND','WMO_PRES','DIST2LAND','LANDFALL','STORM_SPD',\t\n",
    "                'STORM_DR', 'dist',\t\n",
    "                'month_1',\t'month_2',\t'month_3',\t'month_4',\t'month_5',\t'month_6',\n",
    "                'month_7',\t'month_8',\t'month_9',\t'month_10',\t'month_11',\t'month_12',\n",
    "                'rank', 'rank_1',\n",
    "                'BASIN_EP','BASIN_NI','BASIN_WP']\n",
    "X = ib[column_names]\n",
    "y = ib['max_50']\n",
    "X_train, X_test, y_train, y_test = train_test_split(X, y, test_size=0.33, random_state=42)\n",
    "\n"
   ]
  },
  {
   "cell_type": "code",
   "execution_count": null,
   "metadata": {},
   "outputs": [],
   "source": []
  },
  {
   "cell_type": "code",
   "execution_count": 62,
   "metadata": {
    "colab": {},
    "colab_type": "code",
    "id": "qDQNNfTdaTdC"
   },
   "outputs": [
    {
     "data": {
      "text/plain": [
       "LinearRegression(copy_X=True, fit_intercept=True, n_jobs=None, normalize=False)"
      ]
     },
     "execution_count": 62,
     "metadata": {},
     "output_type": "execute_result"
    }
   ],
   "source": [
    "from sklearn.linear_model import LinearRegression\n",
    "model = LinearRegression()\n",
    "#model.fit(X, y)\n",
    "# Code modified by Raghuram on 6th April to avoid data leakage\n",
    "model.fit(X_train, y_train)\n"
   ]
  },
  {
   "cell_type": "code",
   "execution_count": 63,
   "metadata": {
    "colab": {},
    "colab_type": "code",
    "id": "y0nxnMAqbuw-"
   },
   "outputs": [],
   "source": [
    "y_pred = model.predict(X_test)"
   ]
  },
  {
   "cell_type": "code",
   "execution_count": null,
   "metadata": {
    "colab": {},
    "colab_type": "code",
    "id": "M_K4U4j3RjsF"
   },
   "outputs": [],
   "source": []
  },
  {
   "cell_type": "code",
   "execution_count": 64,
   "metadata": {
    "colab": {},
    "colab_type": "code",
    "id": "JsAQCPwXpL5Z"
   },
   "outputs": [
    {
     "name": "stdout",
     "output_type": "stream",
     "text": [
      "Mean Absolute Error: 23.626157834938653\n",
      "Mean Squared Error: 8416.811068585192\n",
      "Root Mean Squared Error: 91.74317995679674\n"
     ]
    }
   ],
   "source": [
    "from sklearn.metrics import accuracy_score\n",
    "from sklearn.metrics import mean_squared_error\n",
    "from sklearn.metrics import mean_absolute_error\n",
    "print('Mean Absolute Error:', mean_absolute_error(y_test, y_pred))  \n",
    "print('Mean Squared Error:', mean_squared_error(y_test, y_pred))  \n",
    "print('Root Mean Squared Error:', np.sqrt(mean_squared_error(y_test, y_pred)))"
   ]
  },
  {
   "cell_type": "code",
   "execution_count": 65,
   "metadata": {
    "colab": {},
    "colab_type": "code",
    "id": "Ank10_Qcb5Jn"
   },
   "outputs": [],
   "source": [
    "df66 = pd.DataFrame({'Actual': y_test, 'Predicted': y_pred})\n",
    "df68 = df66.head(25)"
   ]
  },
  {
   "cell_type": "code",
   "execution_count": 66,
   "metadata": {
    "colab": {},
    "colab_type": "code",
    "id": "5RpnAPA1cHVU"
   },
   "outputs": [
    {
     "data": {
      "text/html": [
       "<div>\n",
       "<style scoped>\n",
       "    .dataframe tbody tr th:only-of-type {\n",
       "        vertical-align: middle;\n",
       "    }\n",
       "\n",
       "    .dataframe tbody tr th {\n",
       "        vertical-align: top;\n",
       "    }\n",
       "\n",
       "    .dataframe thead th {\n",
       "        text-align: right;\n",
       "    }\n",
       "</style>\n",
       "<table border=\"1\" class=\"dataframe\">\n",
       "  <thead>\n",
       "    <tr style=\"text-align: right;\">\n",
       "      <th></th>\n",
       "      <th>Actual</th>\n",
       "      <th>Predicted</th>\n",
       "    </tr>\n",
       "  </thead>\n",
       "  <tbody>\n",
       "    <tr>\n",
       "      <th>661606</th>\n",
       "      <td>100.0</td>\n",
       "      <td>101.148439</td>\n",
       "    </tr>\n",
       "    <tr>\n",
       "      <th>598086</th>\n",
       "      <td>70.0</td>\n",
       "      <td>60.878056</td>\n",
       "    </tr>\n",
       "    <tr>\n",
       "      <th>654830</th>\n",
       "      <td>99.0</td>\n",
       "      <td>65.746217</td>\n",
       "    </tr>\n",
       "    <tr>\n",
       "      <th>445233</th>\n",
       "      <td>125.0</td>\n",
       "      <td>63.178425</td>\n",
       "    </tr>\n",
       "    <tr>\n",
       "      <th>589263</th>\n",
       "      <td>120.0</td>\n",
       "      <td>57.532002</td>\n",
       "    </tr>\n",
       "    <tr>\n",
       "      <th>...</th>\n",
       "      <td>...</td>\n",
       "      <td>...</td>\n",
       "    </tr>\n",
       "    <tr>\n",
       "      <th>615352</th>\n",
       "      <td>35.0</td>\n",
       "      <td>36.839222</td>\n",
       "    </tr>\n",
       "    <tr>\n",
       "      <th>569986</th>\n",
       "      <td>100.0</td>\n",
       "      <td>108.481990</td>\n",
       "    </tr>\n",
       "    <tr>\n",
       "      <th>590002</th>\n",
       "      <td>30.0</td>\n",
       "      <td>81.059593</td>\n",
       "    </tr>\n",
       "    <tr>\n",
       "      <th>591169</th>\n",
       "      <td>40.0</td>\n",
       "      <td>32.449086</td>\n",
       "    </tr>\n",
       "    <tr>\n",
       "      <th>550958</th>\n",
       "      <td>70.0</td>\n",
       "      <td>63.861789</td>\n",
       "    </tr>\n",
       "  </tbody>\n",
       "</table>\n",
       "<p>14857 rows × 2 columns</p>\n",
       "</div>"
      ],
      "text/plain": [
       "        Actual   Predicted\n",
       "661606   100.0  101.148439\n",
       "598086    70.0   60.878056\n",
       "654830    99.0   65.746217\n",
       "445233   125.0   63.178425\n",
       "589263   120.0   57.532002\n",
       "...        ...         ...\n",
       "615352    35.0   36.839222\n",
       "569986   100.0  108.481990\n",
       "590002    30.0   81.059593\n",
       "591169    40.0   32.449086\n",
       "550958    70.0   63.861789\n",
       "\n",
       "[14857 rows x 2 columns]"
      ]
     },
     "execution_count": 66,
     "metadata": {},
     "output_type": "execute_result"
    }
   ],
   "source": [
    "df66"
   ]
  },
  {
   "cell_type": "markdown",
   "metadata": {
    "colab_type": "text",
    "id": "7RI_zUOPqiRE"
   },
   "source": [
    "### Model - Random Forest Regressor"
   ]
  },
  {
   "cell_type": "code",
   "execution_count": 67,
   "metadata": {
    "colab": {},
    "colab_type": "code",
    "id": "IHAbt6x0qwc7"
   },
   "outputs": [
    {
     "data": {
      "text/plain": [
       "RandomForestRegressor(bootstrap=True, ccp_alpha=0.0, criterion='mse',\n",
       "                      max_depth=None, max_features='auto', max_leaf_nodes=None,\n",
       "                      max_samples=None, min_impurity_decrease=0.0,\n",
       "                      min_impurity_split=None, min_samples_leaf=1,\n",
       "                      min_samples_split=2, min_weight_fraction_leaf=0.0,\n",
       "                      n_estimators=60, n_jobs=None, oob_score=False,\n",
       "                      random_state=0, verbose=0, warm_start=False)"
      ]
     },
     "execution_count": 67,
     "metadata": {},
     "output_type": "execute_result"
    }
   ],
   "source": [
    "# Code for 'Model - Random Forest Regressor' added by Raghuram on 6th April 2020\n",
    "from sklearn.ensemble import RandomForestRegressor\n",
    "\n",
    "model2 = RandomForestRegressor(n_estimators = 60, random_state = 0)\n",
    "model2.fit(X_train, y_train)"
   ]
  },
  {
   "cell_type": "code",
   "execution_count": 68,
   "metadata": {
    "colab": {},
    "colab_type": "code",
    "id": "0QpmDAbmq4-i"
   },
   "outputs": [],
   "source": [
    "y_pred = model2.predict(X_test)"
   ]
  },
  {
   "cell_type": "code",
   "execution_count": 69,
   "metadata": {
    "colab": {},
    "colab_type": "code",
    "id": "3PspDkZ1q_wq"
   },
   "outputs": [
    {
     "name": "stdout",
     "output_type": "stream",
     "text": [
      "Mean Absolute Error: 11.110737923762088\n",
      "Mean Squared Error: 3510.2413874492386\n",
      "Root Mean Squared Error: 59.24729012747535\n"
     ]
    }
   ],
   "source": [
    "print('Mean Absolute Error:', mean_absolute_error(y_test, y_pred))  \n",
    "print('Mean Squared Error:', mean_squared_error(y_test, y_pred))  \n",
    "print('Root Mean Squared Error:', np.sqrt(mean_squared_error(y_test, y_pred)))"
   ]
  },
  {
   "cell_type": "markdown",
   "metadata": {
    "colab_type": "text",
    "id": "ndD7akKH-Kpw"
   },
   "source": [
    "**Observation**: With this RandomForestRegressor model, MAE reduced from 51 to 20.9 and RMSE reduced from 215 to 104 when compared with Linear Regression model."
   ]
  },
  {
   "cell_type": "code",
   "execution_count": null,
   "metadata": {
    "colab": {},
    "colab_type": "code",
    "id": "SV2dsWXv4ofI"
   },
   "outputs": [],
   "source": []
  },
  {
   "cell_type": "code",
   "execution_count": 70,
   "metadata": {
    "colab": {},
    "colab_type": "code",
    "id": "mwPqMfonrOsc"
   },
   "outputs": [
    {
     "data": {
      "text/html": [
       "<div>\n",
       "<style scoped>\n",
       "    .dataframe tbody tr th:only-of-type {\n",
       "        vertical-align: middle;\n",
       "    }\n",
       "\n",
       "    .dataframe tbody tr th {\n",
       "        vertical-align: top;\n",
       "    }\n",
       "\n",
       "    .dataframe thead th {\n",
       "        text-align: right;\n",
       "    }\n",
       "</style>\n",
       "<table border=\"1\" class=\"dataframe\">\n",
       "  <thead>\n",
       "    <tr style=\"text-align: right;\">\n",
       "      <th></th>\n",
       "      <th>Actual</th>\n",
       "      <th>Predicted</th>\n",
       "    </tr>\n",
       "  </thead>\n",
       "  <tbody>\n",
       "    <tr>\n",
       "      <th>661606</th>\n",
       "      <td>100.0</td>\n",
       "      <td>103.000000</td>\n",
       "    </tr>\n",
       "    <tr>\n",
       "      <th>598086</th>\n",
       "      <td>70.0</td>\n",
       "      <td>62.400000</td>\n",
       "    </tr>\n",
       "    <tr>\n",
       "      <th>654830</th>\n",
       "      <td>99.0</td>\n",
       "      <td>87.433333</td>\n",
       "    </tr>\n",
       "    <tr>\n",
       "      <th>445233</th>\n",
       "      <td>125.0</td>\n",
       "      <td>121.783333</td>\n",
       "    </tr>\n",
       "    <tr>\n",
       "      <th>589263</th>\n",
       "      <td>120.0</td>\n",
       "      <td>81.200000</td>\n",
       "    </tr>\n",
       "    <tr>\n",
       "      <th>...</th>\n",
       "      <td>...</td>\n",
       "      <td>...</td>\n",
       "    </tr>\n",
       "    <tr>\n",
       "      <th>635392</th>\n",
       "      <td>30.0</td>\n",
       "      <td>29.166667</td>\n",
       "    </tr>\n",
       "    <tr>\n",
       "      <th>625856</th>\n",
       "      <td>40.0</td>\n",
       "      <td>50.866667</td>\n",
       "    </tr>\n",
       "    <tr>\n",
       "      <th>602067</th>\n",
       "      <td>70.0</td>\n",
       "      <td>69.150000</td>\n",
       "    </tr>\n",
       "    <tr>\n",
       "      <th>527699</th>\n",
       "      <td>80.0</td>\n",
       "      <td>79.200000</td>\n",
       "    </tr>\n",
       "    <tr>\n",
       "      <th>615275</th>\n",
       "      <td>75.0</td>\n",
       "      <td>58.366667</td>\n",
       "    </tr>\n",
       "  </tbody>\n",
       "</table>\n",
       "<p>125 rows × 2 columns</p>\n",
       "</div>"
      ],
      "text/plain": [
       "        Actual   Predicted\n",
       "661606   100.0  103.000000\n",
       "598086    70.0   62.400000\n",
       "654830    99.0   87.433333\n",
       "445233   125.0  121.783333\n",
       "589263   120.0   81.200000\n",
       "...        ...         ...\n",
       "635392    30.0   29.166667\n",
       "625856    40.0   50.866667\n",
       "602067    70.0   69.150000\n",
       "527699    80.0   79.200000\n",
       "615275    75.0   58.366667\n",
       "\n",
       "[125 rows x 2 columns]"
      ]
     },
     "execution_count": 70,
     "metadata": {},
     "output_type": "execute_result"
    }
   ],
   "source": [
    "df_rf = pd.DataFrame({'Actual': y_test, 'Predicted': y_pred})\n",
    "df_rf.head(125)"
   ]
  },
  {
   "cell_type": "code",
   "execution_count": 71,
   "metadata": {
    "colab": {},
    "colab_type": "code",
    "id": "zJk4jc1Vs3Ft"
   },
   "outputs": [
    {
     "name": "stdout",
     "output_type": "stream",
     "text": [
      "{'n_estimators': [50, 85, 121, 157, 192, 228, 264, 300, 335, 371, 407, 442, 478, 514, 550, 585, 621, 657, 692, 728, 764, 800], 'max_features': ['auto', 'sqrt'], 'max_depth': [10, 14, 19, 24, 29, 33, 38, 43, 48, 52, 57, 62, 67, 71, 76, 81, 86, 90, 95, 100, 105, 110, None], 'min_samples_split': [2, 5, 10], 'min_samples_leaf': [1, 2, 4], 'bootstrap': [True, False]}\n"
     ]
    }
   ],
   "source": [
    "from sklearn.model_selection import RandomizedSearchCV\n",
    "# Number of trees in random forest\n",
    "n_estimators = [int(x) for x in np.linspace(start = 50, stop = 800, num = 22)]\n",
    "# Number of features to consider at every split\n",
    "max_features = ['auto', 'sqrt']\n",
    "# Maximum number of levels in tree\n",
    "max_depth = [int(x) for x in np.linspace(10, 110, num = 22)]\n",
    "max_depth.append(None)\n",
    "# Minimum number of samples required to split a node\n",
    "min_samples_split = [2, 5, 10]\n",
    "# Minimum number of samples required at each leaf node\n",
    "min_samples_leaf = [1, 2, 4]\n",
    "# Method of selecting samples for training each tree\n",
    "bootstrap = [True, False]\n",
    "# Create the random grid\n",
    "random_grid = {'n_estimators': n_estimators,\n",
    "               'max_features': max_features,\n",
    "               'max_depth': max_depth,\n",
    "               'min_samples_split': min_samples_split,\n",
    "               'min_samples_leaf': min_samples_leaf,\n",
    "               'bootstrap': bootstrap}\n",
    "print(random_grid)"
   ]
  },
  {
   "cell_type": "code",
   "execution_count": 72,
   "metadata": {
    "colab": {},
    "colab_type": "code",
    "id": "b87VhWE35KP0"
   },
   "outputs": [
    {
     "name": "stdout",
     "output_type": "stream",
     "text": [
      "Fitting 3 folds for each of 100 candidates, totalling 300 fits\n"
     ]
    },
    {
     "name": "stderr",
     "output_type": "stream",
     "text": [
      "[Parallel(n_jobs=-1)]: Using backend LokyBackend with 16 concurrent workers.\n",
      "[Parallel(n_jobs=-1)]: Done   9 tasks      | elapsed:   46.9s\n",
      "/opt/conda/lib/python3.7/site-packages/joblib/externals/loky/process_executor.py:706: UserWarning: A worker stopped while some jobs were given to the executor. This can be caused by a too short worker timeout or by a memory leak.\n",
      "  \"timeout or by a memory leak.\", UserWarning\n",
      "[Parallel(n_jobs=-1)]: Done 130 tasks      | elapsed: 12.9min\n",
      "[Parallel(n_jobs=-1)]: Done 300 out of 300 | elapsed: 28.6min finished\n"
     ]
    },
    {
     "data": {
      "text/plain": [
       "RandomizedSearchCV(cv=3, error_score=nan,\n",
       "                   estimator=RandomForestRegressor(bootstrap=True,\n",
       "                                                   ccp_alpha=0.0,\n",
       "                                                   criterion='mse',\n",
       "                                                   max_depth=None,\n",
       "                                                   max_features='auto',\n",
       "                                                   max_leaf_nodes=None,\n",
       "                                                   max_samples=None,\n",
       "                                                   min_impurity_decrease=0.0,\n",
       "                                                   min_impurity_split=None,\n",
       "                                                   min_samples_leaf=1,\n",
       "                                                   min_samples_split=2,\n",
       "                                                   min_weight_fraction_leaf=0.0,\n",
       "                                                   n_estimators=100,\n",
       "                                                   n_jobs=None, oob_score=Fals...\n",
       "                                        'max_depth': [10, 14, 19, 24, 29, 33,\n",
       "                                                      38, 43, 48, 52, 57, 62,\n",
       "                                                      67, 71, 76, 81, 86, 90,\n",
       "                                                      95, 100, 105, 110, None],\n",
       "                                        'max_features': ['auto', 'sqrt'],\n",
       "                                        'min_samples_leaf': [1, 2, 4],\n",
       "                                        'min_samples_split': [2, 5, 10],\n",
       "                                        'n_estimators': [50, 85, 121, 157, 192,\n",
       "                                                         228, 264, 300, 335,\n",
       "                                                         371, 407, 442, 478,\n",
       "                                                         514, 550, 585, 621,\n",
       "                                                         657, 692, 728, 764,\n",
       "                                                         800]},\n",
       "                   pre_dispatch='2*n_jobs', random_state=42, refit=True,\n",
       "                   return_train_score=False, scoring=None, verbose=2)"
      ]
     },
     "execution_count": 72,
     "metadata": {},
     "output_type": "execute_result"
    }
   ],
   "source": [
    "# Use the random grid to search for best hyperparameters\n",
    "# First create the base model to tune\n",
    "rf = RandomForestRegressor()\n",
    "# Random search of parameters, using 3 fold cross validation, \n",
    "# search across 100 different combinations, and use all available cores\n",
    "rf_random_2 = RandomizedSearchCV(estimator = rf, param_distributions = random_grid, n_iter = 100, cv = 3, verbose=2, random_state=42, n_jobs = -1)\n",
    "# Fit the random search model\n",
    "rf_random_2.fit(X_train, y_train)"
   ]
  },
  {
   "cell_type": "code",
   "execution_count": 73,
   "metadata": {
    "colab": {},
    "colab_type": "code",
    "id": "XCAiz4xmC4uZ"
   },
   "outputs": [
    {
     "data": {
      "text/plain": [
       "{'n_estimators': 764,\n",
       " 'min_samples_split': 2,\n",
       " 'min_samples_leaf': 1,\n",
       " 'max_features': 'sqrt',\n",
       " 'max_depth': 100,\n",
       " 'bootstrap': False}"
      ]
     },
     "execution_count": 73,
     "metadata": {},
     "output_type": "execute_result"
    }
   ],
   "source": [
    "rf_random_2.best_params_"
   ]
  },
  {
   "cell_type": "code",
   "execution_count": null,
   "metadata": {
    "colab": {},
    "colab_type": "code",
    "id": "jg10homd5VYq"
   },
   "outputs": [],
   "source": []
  },
  {
   "cell_type": "code",
   "execution_count": null,
   "metadata": {
    "colab": {},
    "colab_type": "code",
    "id": "rHHWJIkVCGwj"
   },
   "outputs": [],
   "source": []
  },
  {
   "cell_type": "code",
   "execution_count": 74,
   "metadata": {
    "colab": {},
    "colab_type": "code",
    "id": "ign8fG97JF9m"
   },
   "outputs": [],
   "source": [
    "y_pred_2 = rf_random_2.predict(X_test)"
   ]
  },
  {
   "cell_type": "code",
   "execution_count": 75,
   "metadata": {
    "colab": {},
    "colab_type": "code",
    "id": "sbGnoEbFs5nU"
   },
   "outputs": [
    {
     "data": {
      "text/html": [
       "<div>\n",
       "<style scoped>\n",
       "    .dataframe tbody tr th:only-of-type {\n",
       "        vertical-align: middle;\n",
       "    }\n",
       "\n",
       "    .dataframe tbody tr th {\n",
       "        vertical-align: top;\n",
       "    }\n",
       "\n",
       "    .dataframe thead th {\n",
       "        text-align: right;\n",
       "    }\n",
       "</style>\n",
       "<table border=\"1\" class=\"dataframe\">\n",
       "  <thead>\n",
       "    <tr style=\"text-align: right;\">\n",
       "      <th></th>\n",
       "      <th>Actual</th>\n",
       "      <th>Predicted</th>\n",
       "    </tr>\n",
       "  </thead>\n",
       "  <tbody>\n",
       "    <tr>\n",
       "      <th>count</th>\n",
       "      <td>14857.000000</td>\n",
       "      <td>14857.000000</td>\n",
       "    </tr>\n",
       "    <tr>\n",
       "      <th>mean</th>\n",
       "      <td>72.213704</td>\n",
       "      <td>72.379825</td>\n",
       "    </tr>\n",
       "    <tr>\n",
       "      <th>std</th>\n",
       "      <td>95.061051</td>\n",
       "      <td>59.374998</td>\n",
       "    </tr>\n",
       "    <tr>\n",
       "      <th>min</th>\n",
       "      <td>5.000000</td>\n",
       "      <td>10.733333</td>\n",
       "    </tr>\n",
       "    <tr>\n",
       "      <th>25%</th>\n",
       "      <td>40.000000</td>\n",
       "      <td>45.850000</td>\n",
       "    </tr>\n",
       "    <tr>\n",
       "      <th>50%</th>\n",
       "      <td>60.000000</td>\n",
       "      <td>64.800000</td>\n",
       "    </tr>\n",
       "    <tr>\n",
       "      <th>75%</th>\n",
       "      <td>90.000000</td>\n",
       "      <td>90.750000</td>\n",
       "    </tr>\n",
       "    <tr>\n",
       "      <th>max</th>\n",
       "      <td>5399.000000</td>\n",
       "      <td>3858.683333</td>\n",
       "    </tr>\n",
       "  </tbody>\n",
       "</table>\n",
       "</div>"
      ],
      "text/plain": [
       "             Actual     Predicted\n",
       "count  14857.000000  14857.000000\n",
       "mean      72.213704     72.379825\n",
       "std       95.061051     59.374998\n",
       "min        5.000000     10.733333\n",
       "25%       40.000000     45.850000\n",
       "50%       60.000000     64.800000\n",
       "75%       90.000000     90.750000\n",
       "max     5399.000000   3858.683333"
      ]
     },
     "execution_count": 75,
     "metadata": {},
     "output_type": "execute_result"
    }
   ],
   "source": [
    "df_rf.describe()"
   ]
  },
  {
   "cell_type": "code",
   "execution_count": 76,
   "metadata": {
    "colab": {},
    "colab_type": "code",
    "id": "slIT8vFE3tPg"
   },
   "outputs": [
    {
     "name": "stdout",
     "output_type": "stream",
     "text": [
      "Mean Absolute Error: 11.110737923762088\n",
      "Mean Squared Error: 3510.2413874492386\n",
      "Root Mean Squared Error: 59.24729012747535\n"
     ]
    }
   ],
   "source": [
    "print('Mean Absolute Error:', mean_absolute_error(y_test, y_pred))  \n",
    "print('Mean Squared Error:', mean_squared_error(y_test, y_pred))  \n",
    "print('Root Mean Squared Error:', np.sqrt(mean_squared_error(y_test, y_pred)))"
   ]
  },
  {
   "cell_type": "code",
   "execution_count": 77,
   "metadata": {
    "colab": {},
    "colab_type": "code",
    "id": "xnL3xBULJLJD"
   },
   "outputs": [
    {
     "name": "stdout",
     "output_type": "stream",
     "text": [
      "Mean Absolute Error: 9.102373679103204\n",
      "Mean Squared Error: 3340.0316032497944\n",
      "Root Mean Squared Error: 57.79300652544211\n"
     ]
    }
   ],
   "source": [
    "print('Mean Absolute Error:', mean_absolute_error(y_test, y_pred_2))  \n",
    "print('Mean Squared Error:', mean_squared_error(y_test, y_pred_2))  \n",
    "print('Root Mean Squared Error:', np.sqrt(mean_squared_error(y_test, y_pred_2)))"
   ]
  },
  {
   "cell_type": "code",
   "execution_count": null,
   "metadata": {
    "colab": {},
    "colab_type": "code",
    "id": "x-4xL1VgdBXC"
   },
   "outputs": [],
   "source": []
  },
  {
   "cell_type": "code",
   "execution_count": null,
   "metadata": {
    "colab": {},
    "colab_type": "code",
    "id": "G1Yb-tv0QTur"
   },
   "outputs": [],
   "source": []
  },
  {
   "cell_type": "code",
   "execution_count": null,
   "metadata": {
    "colab": {},
    "colab_type": "code",
    "id": "zpAaYbrgDoEo"
   },
   "outputs": [],
   "source": []
  },
  {
   "cell_type": "code",
   "execution_count": null,
   "metadata": {},
   "outputs": [],
   "source": []
  },
  {
   "cell_type": "code",
   "execution_count": null,
   "metadata": {
    "colab": {},
    "colab_type": "code",
    "id": "pcq54TKZDxTe"
   },
   "outputs": [],
   "source": []
  },
  {
   "cell_type": "markdown",
   "metadata": {
    "colab_type": "text",
    "id": "6e5_dCtD3ttt"
   },
   "source": [
    "##Populating with predictions "
   ]
  },
  {
   "cell_type": "code",
   "execution_count": 95,
   "metadata": {
    "colab": {},
    "colab_type": "code",
    "id": "__nEmRGQFuTR"
   },
   "outputs": [],
   "source": [
    "filename = 'rf_random_50.sav'\n",
    "pickle.dump(rf_random_2, open(filename, 'wb'))\n",
    " \n",
    "\n"
   ]
  },
  {
   "cell_type": "code",
   "execution_count": null,
   "metadata": {
    "colab": {},
    "colab_type": "code",
    "id": "aMpWbgvDPOUa"
   },
   "outputs": [],
   "source": []
  },
  {
   "cell_type": "code",
   "execution_count": 96,
   "metadata": {
    "colab": {},
    "colab_type": "code",
    "id": "ymr_P3nXF81a"
   },
   "outputs": [
    {
     "name": "stdout",
     "output_type": "stream",
     "text": [
      "0.6303637248347166\n"
     ]
    }
   ],
   "source": [
    "# load the model from disk\n",
    "rf_random_50 = pickle.load(open('rf_random_50.sav', 'rb'))\n",
    "result = rf_random_50.score(X_test, y_test)\n",
    "print(result)"
   ]
  },
  {
   "cell_type": "code",
   "execution_count": 97,
   "metadata": {},
   "outputs": [
    {
     "name": "stdout",
     "output_type": "stream",
     "text": [
      "Requirement already satisfied: rfpimp in /opt/conda/lib/python3.7/site-packages (1.3.4)\n",
      "Requirement already satisfied: sklearn in /opt/conda/lib/python3.7/site-packages (from rfpimp) (0.0)\n",
      "Requirement already satisfied: pandas in /opt/conda/lib/python3.7/site-packages (from rfpimp) (1.0.3)\n",
      "Requirement already satisfied: numpy in /opt/conda/lib/python3.7/site-packages (from rfpimp) (1.18.1)\n",
      "Requirement already satisfied: matplotlib in /opt/conda/lib/python3.7/site-packages (from rfpimp) (3.2.1)\n",
      "Requirement already satisfied: scikit-learn in /opt/conda/lib/python3.7/site-packages (from sklearn->rfpimp) (0.22.2.post1)\n",
      "Requirement already satisfied: pytz>=2017.2 in /opt/conda/lib/python3.7/site-packages (from pandas->rfpimp) (2019.3)\n",
      "Requirement already satisfied: python-dateutil>=2.6.1 in /opt/conda/lib/python3.7/site-packages (from pandas->rfpimp) (2.8.1)\n",
      "Requirement already satisfied: kiwisolver>=1.0.1 in /opt/conda/lib/python3.7/site-packages (from matplotlib->rfpimp) (1.1.0)\n",
      "Requirement already satisfied: pyparsing!=2.0.4,!=2.1.2,!=2.1.6,>=2.0.1 in /opt/conda/lib/python3.7/site-packages (from matplotlib->rfpimp) (2.4.6)\n",
      "Requirement already satisfied: cycler>=0.10 in /opt/conda/lib/python3.7/site-packages (from matplotlib->rfpimp) (0.10.0)\n",
      "Requirement already satisfied: joblib>=0.11 in /opt/conda/lib/python3.7/site-packages (from scikit-learn->sklearn->rfpimp) (0.14.1)\n",
      "Requirement already satisfied: scipy>=0.17.0 in /opt/conda/lib/python3.7/site-packages (from scikit-learn->sklearn->rfpimp) (1.4.1)\n",
      "Requirement already satisfied: six>=1.5 in /opt/conda/lib/python3.7/site-packages (from python-dateutil>=2.6.1->pandas->rfpimp) (1.14.0)\n",
      "Requirement already satisfied: setuptools in /opt/conda/lib/python3.7/site-packages (from kiwisolver>=1.0.1->matplotlib->rfpimp) (46.1.1.post20200322)\n",
      "Note: you may need to restart the kernel to use updated packages.\n"
     ]
    }
   ],
   "source": [
    "pip install rfpimp"
   ]
  },
  {
   "cell_type": "code",
   "execution_count": null,
   "metadata": {},
   "outputs": [],
   "source": []
  },
  {
   "cell_type": "code",
   "execution_count": 98,
   "metadata": {},
   "outputs": [
    {
     "ename": "NameError",
     "evalue": "name 'perm_imp_rfpimp' is not defined",
     "output_type": "error",
     "traceback": [
      "\u001b[0;31m---------------------------------------------------------------------------\u001b[0m",
      "\u001b[0;31mNameError\u001b[0m                                 Traceback (most recent call last)",
      "\u001b[0;32m<ipython-input-98-168b91a7f2eb>\u001b[0m in \u001b[0;36m<module>\u001b[0;34m\u001b[0m\n\u001b[0;32m----> 1\u001b[0;31m \u001b[0mperm_imp_rfpimp\u001b[0m\u001b[0;34m\u001b[0m\u001b[0;34m\u001b[0m\u001b[0m\n\u001b[0m",
      "\u001b[0;31mNameError\u001b[0m: name 'perm_imp_rfpimp' is not defined"
     ]
    }
   ],
   "source": [
    "perm_imp_rfpimp"
   ]
  },
  {
   "cell_type": "code",
   "execution_count": null,
   "metadata": {
    "colab": {},
    "colab_type": "code",
    "id": "x1o72v5afIpm"
   },
   "outputs": [],
   "source": [
    "rf_random_50"
   ]
  },
  {
   "cell_type": "markdown",
   "metadata": {},
   "source": [
    "Unwraping no names"
   ]
  },
  {
   "cell_type": "code",
   "execution_count": null,
   "metadata": {},
   "outputs": [],
   "source": [
    "df[df['in_ibtrax'] != True][df['in_pre'] == True]"
   ]
  },
  {
   "cell_type": "code",
   "execution_count": null,
   "metadata": {},
   "outputs": [],
   "source": []
  },
  {
   "cell_type": "code",
   "execution_count": null,
   "metadata": {},
   "outputs": [],
   "source": []
  },
  {
   "cell_type": "code",
   "execution_count": null,
   "metadata": {},
   "outputs": [],
   "source": []
  },
  {
   "cell_type": "code",
   "execution_count": null,
   "metadata": {
    "colab": {},
    "colab_type": "code",
    "id": "4Z6HZ5uMGpbr"
   },
   "outputs": [],
   "source": [
    "pre_df  = pd.read_csv('OUTPUT_WBI_cyclones.csv', sep = ';', low_memory=False)"
   ]
  },
  {
   "cell_type": "code",
   "execution_count": null,
   "metadata": {
    "colab": {},
    "colab_type": "code",
    "id": "WmSiomNoGLB0"
   },
   "outputs": [],
   "source": [
    "pre_df_unique  = pre_df[['NAME',\t'Year']]"
   ]
  },
  {
   "cell_type": "code",
   "execution_count": null,
   "metadata": {
    "colab": {},
    "colab_type": "code",
    "id": "NszmlYSTIZlB"
   },
   "outputs": [],
   "source": [
    "pre_df_unique = pre_df_unique.drop_duplicates()"
   ]
  },
  {
   "cell_type": "code",
   "execution_count": null,
   "metadata": {
    "colab": {},
    "colab_type": "code",
    "id": "PYNuvau4I3sx"
   },
   "outputs": [],
   "source": [
    "pre_df['in_pre'] = True"
   ]
  },
  {
   "cell_type": "code",
   "execution_count": null,
   "metadata": {
    "colab": {},
    "colab_type": "code",
    "id": "fIqeF_3dJL__"
   },
   "outputs": [],
   "source": [
    "df2['in_ibtrax'] = True"
   ]
  },
  {
   "cell_type": "code",
   "execution_count": null,
   "metadata": {
    "colab": {},
    "colab_type": "code",
    "id": "ZSWeNhP7JU9N"
   },
   "outputs": [],
   "source": [
    "df = pd.merge(df2, pre_df, how='outer', left_on = ['NAME', 'SEASON'], right_on=['NAME','Year'], suffixes=('', '_pre'))"
   ]
  },
  {
   "cell_type": "code",
   "execution_count": null,
   "metadata": {
    "colab": {},
    "colab_type": "code",
    "id": "Jt7VbjdYfy9b"
   },
   "outputs": [],
   "source": [
    "df = pd.get_dummies(df, columns=['BASIN','month'])"
   ]
  },
  {
   "cell_type": "code",
   "execution_count": null,
   "metadata": {
    "colab": {},
    "colab_type": "code",
    "id": "PMcOh5AJyco_"
   },
   "outputs": [],
   "source": [
    "#y = df['max_50'][df['max_50']!=df['max_50']]"
   ]
  },
  {
   "cell_type": "code",
   "execution_count": null,
   "metadata": {
    "colab": {},
    "colab_type": "code",
    "id": "ZEFks8iFzG0p"
   },
   "outputs": [],
   "source": [
    "df['WMO_WIND'] =df.groupby('SID')['WMO_WIND'].fillna(df['WMO_WIND'].median())\n",
    "df['WMO_WIND'] = df['WMO_WIND'].fillna(df['WMO_WIND'].median())\n",
    "df['WMO_PRES']=df.groupby('SID')['WMO_PRES'].fillna(df['WMO_PRES'].median())\n",
    "df['WMO_PRES'] = df['WMO_PRES'].fillna(df['WMO_PRES'].median())\n",
    "df['STORM_SPD']=df.groupby('SID')['STORM_SPD'].fillna(df['STORM_SPD'].median())\n",
    "df['STORM_SPD'] = df['STORM_SPD'].fillna(df['STORM_SPD'].median())\n",
    "df['STORM_SPD'] = df['STORM_SPD'].fillna(df['STORM_SPD'].median())\n",
    "df['STORM_DR']=df.groupby('SID')['STORM_DR'].fillna(df['STORM_DR'].median())\n",
    "df['STORM_DR']=df.groupby('SID')['STORM_DR'].fillna(df['STORM_DR'].median())"
   ]
  },
  {
   "cell_type": "code",
   "execution_count": null,
   "metadata": {
    "colab": {},
    "colab_type": "code",
    "id": "PmJgKk1VKPEm"
   },
   "outputs": [],
   "source": [
    "df['dist'] = df['dist'].fillna(method='ffill')"
   ]
  },
  {
   "cell_type": "markdown",
   "metadata": {
    "colab_type": "text",
    "id": "mr-lDjBa_Aoa"
   },
   "source": [
    "##TESTING ACCURACY ON NEW DATA"
   ]
  },
  {
   "cell_type": "code",
   "execution_count": null,
   "metadata": {
    "colab": {},
    "colab_type": "code",
    "id": "h_JYz4N0NieJ"
   },
   "outputs": [],
   "source": [
    "\n",
    "import numpy as np\n",
    "from sklearn.model_selection import train_test_split\n",
    "column_names = ['LAT','LON','WMO_WIND','WMO_PRES','DIST2LAND','LANDFALL','STORM_SPD',\t\n",
    "                'STORM_DR', 'dist',\t\n",
    "                'month_1.0',\t'month_2.0',\t'month_3.0',\t'month_4.0',\t'month_5.0',\t'month_6.0',\n",
    "                'month_7.0',\t'month_8.0',\t'month_9.0',\t'month_10.0',\t'month_11.0',\t'month_12.0',\n",
    "                'rank', 'rank_1',\n",
    "                'BASIN_EP','BASIN_NI','BASIN_WP']\n",
    "X = df[column_names][df['max_50']==df['max_50']]\n",
    "y = df['max_50'][df['max_50']==df['max_50']]"
   ]
  },
  {
   "cell_type": "code",
   "execution_count": null,
   "metadata": {
    "colab": {},
    "colab_type": "code",
    "id": "HDwGvkyx0JQL"
   },
   "outputs": [],
   "source": [
    "df['dist'] = df['dist'].fillna(method='ffill')"
   ]
  },
  {
   "cell_type": "code",
   "execution_count": null,
   "metadata": {
    "colab": {},
    "colab_type": "code",
    "id": "EorXvGSEg94J"
   },
   "outputs": [],
   "source": [
    "X"
   ]
  },
  {
   "cell_type": "code",
   "execution_count": null,
   "metadata": {
    "colab": {},
    "colab_type": "code",
    "id": "rO5bY9vZNf1D"
   },
   "outputs": [],
   "source": [
    "y_pred_50 = rf_random_50.predict(X)"
   ]
  },
  {
   "cell_type": "code",
   "execution_count": null,
   "metadata": {
    "colab": {},
    "colab_type": "code",
    "id": "_S6Sir-H0fvb"
   },
   "outputs": [],
   "source": [
    "df_rf_50 = pd.DataFrame({'Actual': y, 'Predicted': y_pred_50})"
   ]
  },
  {
   "cell_type": "code",
   "execution_count": null,
   "metadata": {
    "colab": {},
    "colab_type": "code",
    "id": "88tvgC1Q159w"
   },
   "outputs": [],
   "source": []
  },
  {
   "cell_type": "code",
   "execution_count": null,
   "metadata": {
    "colab": {},
    "colab_type": "code",
    "id": "M432wX-M2Ph-"
   },
   "outputs": [],
   "source": [
    "print('Mean Absolute Error:', mean_absolute_error(y, y_pred_50))  \n",
    "print('Mean Squared Error:', mean_squared_error(y, y_pred_50))  \n",
    "print('Root Mean Squared Error:', np.sqrt(mean_squared_error(y, y_pred_50)))"
   ]
  },
  {
   "cell_type": "code",
   "execution_count": null,
   "metadata": {
    "colab": {},
    "colab_type": "code",
    "id": "EI9nGOB97ko6"
   },
   "outputs": [],
   "source": []
  },
  {
   "cell_type": "markdown",
   "metadata": {
    "colab_type": "text",
    "id": "z3kFVOfU_RHl"
   },
   "source": [
    "##PREDICTIONS"
   ]
  },
  {
   "cell_type": "code",
   "execution_count": null,
   "metadata": {
    "colab": {},
    "colab_type": "code",
    "id": "VgUoIwq0I3Hn"
   },
   "outputs": [],
   "source": [
    "df_to_pred = df[df['max_50']!=df['max_50']][df['SID']==df['SID']]"
   ]
  },
  {
   "cell_type": "code",
   "execution_count": null,
   "metadata": {},
   "outputs": [],
   "source": []
  },
  {
   "cell_type": "code",
   "execution_count": 160,
   "metadata": {
    "colab": {},
    "colab_type": "code",
    "id": "4XCmWq9WIwLI"
   },
   "outputs": [],
   "source": [
    "df_to_pred['dist'] = df_to_pred['dist'].fillna(method = 'ffill')"
   ]
  },
  {
   "cell_type": "code",
   "execution_count": 161,
   "metadata": {},
   "outputs": [
    {
     "data": {
      "text/plain": [
       "0         1\n",
       "1         1\n",
       "2         1\n",
       "3         1\n",
       "4         1\n",
       "         ..\n",
       "693177    0\n",
       "693178    0\n",
       "693179    0\n",
       "693180    0\n",
       "693181    0\n",
       "Name: BASIN_NI, Length: 693182, dtype: uint8"
      ]
     },
     "execution_count": 161,
     "metadata": {},
     "output_type": "execute_result"
    }
   ],
   "source": [
    "df['BASIN_NI']"
   ]
  },
  {
   "cell_type": "code",
   "execution_count": null,
   "metadata": {
    "colab": {},
    "colab_type": "code",
    "id": "aZ_nUFqN3d3I"
   },
   "outputs": [],
   "source": [
    "\n",
    "import numpy as np\n",
    "from sklearn.model_selection import train_test_split\n",
    "column_names = ['LAT','LON','WMO_WIND','WMO_PRES','DIST2LAND','LANDFALL','STORM_SPD',\t\n",
    "                'STORM_DR', 'dist',\t\n",
    "                'month_1.0',\t'month_2.0',\t'month_3.0',\t'month_4.0',\t'month_5.0',\t'month_6.0',\n",
    "                'month_7.0',\t'month_8.0',\t'month_9.0',\t'month_10.0',\t'month_11.0',\t'month_12.0',\n",
    "                'rank', 'rank_1',\n",
    "                'BASIN_EP','BASIN_NI','BASIN_WP']\n",
    "X = df[column_names][df['in_pre'] == True]\n",
    "y = df['max_50'][df['in_pre'] == True]\n"
   ]
  },
  {
   "cell_type": "code",
   "execution_count": null,
   "metadata": {},
   "outputs": [],
   "source": []
  },
  {
   "cell_type": "code",
   "execution_count": null,
   "metadata": {},
   "outputs": [],
   "source": [
    "y_pred_50 = rf_random_50.predict(X)"
   ]
  },
  {
   "cell_type": "code",
   "execution_count": null,
   "metadata": {},
   "outputs": [],
   "source": [
    "y_pred_50"
   ]
  },
  {
   "cell_type": "code",
   "execution_count": null,
   "metadata": {
    "colab": {},
    "colab_type": "code",
    "id": "wGV9jsVaIY8K"
   },
   "outputs": [],
   "source": [
    "X.loc[:,'Outcome'] = y_pred_50\n",
    "X.to_csv('max_50_.csv')\n",
    "len(X)"
   ]
  },
  {
   "cell_type": "code",
   "execution_count": null,
   "metadata": {
    "colab": {},
    "colab_type": "code",
    "id": "S5gcs39AH6TE"
   },
   "outputs": [],
   "source": []
  },
  {
   "cell_type": "code",
   "execution_count": 173,
   "metadata": {},
   "outputs": [],
   "source": []
  },
  {
   "cell_type": "code",
   "execution_count": null,
   "metadata": {},
   "outputs": [],
   "source": []
  },
  {
   "cell_type": "code",
   "execution_count": null,
   "metadata": {},
   "outputs": [],
   "source": []
  }
 ],
 "metadata": {
  "colab": {
   "collapsed_sections": [],
   "name": "64 tracks_estimate_radii_V3.ipynb",
   "provenance": [],
   "toc_visible": true
  },
  "kernelspec": {
   "display_name": "Python 3",
   "language": "python",
   "name": "python3"
  },
  "language_info": {
   "codemirror_mode": {
    "name": "ipython",
    "version": 3
   },
   "file_extension": ".py",
   "mimetype": "text/x-python",
   "name": "python",
   "nbconvert_exporter": "python",
   "pygments_lexer": "ipython3",
   "version": "3.7.6"
  }
 },
 "nbformat": 4,
 "nbformat_minor": 4
}
