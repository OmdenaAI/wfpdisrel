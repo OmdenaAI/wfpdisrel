{
 "cells": [
  {
   "cell_type": "code",
   "execution_count": 1,
   "metadata": {},
   "outputs": [],
   "source": [
    "import pandas as pd\n",
    "import csv\n",
    "from pathlib import Path\n",
    "\n",
    "import matplotlib.pyplot as plt\n",
    "import numpy as np\n",
    "\n",
    "import rasterio\n",
    "import rasterio.mask\n",
    "from rasterio.plot import show_hist\n",
    "from rasterio.plot import show\n",
    "\n",
    "import rasterstats\n",
    "from descartes import PolygonPatch\n",
    "\n",
    "from matplotlib import pyplot as plt\n",
    "import geojson\n",
    "from shapely.geometry import Point, mapping, shape\n",
    "from fiona import collection\n",
    "import fiona\n",
    "import geopandas as gpd\n",
    "import geoplot "
   ]
  },
  {
   "cell_type": "code",
   "execution_count": 2,
   "metadata": {},
   "outputs": [
    {
     "data": {
      "text/plain": [
       "'3.0.4'"
      ]
     },
     "execution_count": 2,
     "metadata": {},
     "output_type": "execute_result"
    }
   ],
   "source": [
    "rasterio.gdal_version()"
   ]
  },
  {
   "cell_type": "markdown",
   "metadata": {},
   "source": [
    "## Setting up the data files"
   ]
  },
  {
   "cell_type": "code",
   "execution_count": 3,
   "metadata": {},
   "outputs": [
    {
     "data": {
      "text/plain": [
       "WindowsPath('G:/Omdena/wfpdisrel/#task1-datacollection/#task1-datacollection-climada/notebooks')"
      ]
     },
     "execution_count": 3,
     "metadata": {},
     "output_type": "execute_result"
    }
   ],
   "source": [
    "# getting the path of the current jupyter notebook\n",
    "Path.cwd()"
   ]
  },
  {
   "cell_type": "code",
   "execution_count": 4,
   "metadata": {},
   "outputs": [
    {
     "name": "stdout",
     "output_type": "stream",
     "text": [
      "G:\\Omdena\\wfpdisrel\\#task1-datacollection\\datasets\\Gridded Population of the World (GPW)\\gpw-v4-population-count-adjusted-to-2015-unwpp-country-totals_2015.tif\n"
     ]
    }
   ],
   "source": [
    "# reading in the Gridded Population of the World dataset\n",
    "data_folder = Path.cwd().parent.parent.joinpath('datasets', 'Gridded Population of the World (GPW)')\n",
    "#print(data_folder)\n",
    "input_filename = 'gpw-v4-population-count-adjusted-to-2015-unwpp-country-totals_2015.tif'\n",
    "input_raster_file = Path(data_folder).joinpath(input_filename)\n",
    "print(input_raster_file)"
   ]
  },
  {
   "cell_type": "code",
   "execution_count": 5,
   "metadata": {},
   "outputs": [
    {
     "name": "stdout",
     "output_type": "stream",
     "text": [
      "G:\\Omdena\\wfpdisrel\\#task1-datacollection\\#task1-datacollection-climada\\data\\Texas\n"
     ]
    }
   ],
   "source": [
    "# reading in the shapefile\n",
    "shape_data_folder = Path.cwd().parent.joinpath('data', 'Texas')\n",
    "print(shape_data_folder)\n",
    "shape_filename = 'Texas_State_Boundary_Detailed.shp' \n",
    "input_shape_file = Path(shape_data_folder).joinpath(shape_filename)"
   ]
  },
  {
   "cell_type": "markdown",
   "metadata": {},
   "source": [
    "### Checking the datasetss"
   ]
  },
  {
   "cell_type": "code",
   "execution_count": 6,
   "metadata": {},
   "outputs": [],
   "source": [
    "raster_data = rasterio.open(input_raster_file)"
   ]
  },
  {
   "cell_type": "code",
   "execution_count": 7,
   "metadata": {},
   "outputs": [
    {
     "data": {
      "text/plain": [
       "{'driver': 'GTiff',\n",
       " 'dtype': 'float32',\n",
       " 'nodata': -407649103380480.0,\n",
       " 'width': 43200,\n",
       " 'height': 17400,\n",
       " 'count': 1,\n",
       " 'crs': CRS.from_epsg(4326),\n",
       " 'transform': Affine(0.00833333333333339, 0.0, -180.0,\n",
       "        0.0, -0.00833333333333339, 85.0000000000092)}"
      ]
     },
     "execution_count": 7,
     "metadata": {},
     "output_type": "execute_result"
    }
   ],
   "source": [
    "raster_data.meta"
   ]
  },
  {
   "cell_type": "code",
   "execution_count": 8,
   "metadata": {},
   "outputs": [],
   "source": [
    "#raster_data.closed"
   ]
  },
  {
   "cell_type": "markdown",
   "metadata": {},
   "source": [
    "## Masking a raster using a shapefile"
   ]
  },
  {
   "cell_type": "code",
   "execution_count": 9,
   "metadata": {},
   "outputs": [],
   "source": [
    "with fiona.open(input_shape_file, \"r\") as shapefile:    \n",
    "    shapes = [feature[\"geometry\"] for feature in shapefile]"
   ]
  },
  {
   "cell_type": "code",
   "execution_count": 10,
   "metadata": {},
   "outputs": [
    {
     "data": {
      "text/plain": [
       "True"
      ]
     },
     "execution_count": 10,
     "metadata": {},
     "output_type": "execute_result"
    }
   ],
   "source": [
    "shapefile.closed"
   ]
  },
  {
   "cell_type": "code",
   "execution_count": 11,
   "metadata": {},
   "outputs": [],
   "source": [
    "# read geometries, and mask out regions of a raster that are outside the polygons defined in the shapefile\n",
    "with rasterio.open(input_raster_file) as src:\n",
    "    out_image, out_transform = rasterio.mask.mask(src, shapes, crop=True)\n",
    "    out_meta = src.meta"
   ]
  },
  {
   "cell_type": "code",
   "execution_count": 12,
   "metadata": {},
   "outputs": [
    {
     "data": {
      "text/plain": [
       "{'driver': 'GTiff',\n",
       " 'dtype': 'float32',\n",
       " 'nodata': -407649103380480.0,\n",
       " 'width': 43200,\n",
       " 'height': 17400,\n",
       " 'count': 1,\n",
       " 'crs': CRS.from_epsg(4326),\n",
       " 'transform': Affine(0.00833333333333339, 0.0, -180.0,\n",
       "        0.0, -0.00833333333333339, 85.0000000000092)}"
      ]
     },
     "execution_count": 12,
     "metadata": {},
     "output_type": "execute_result"
    }
   ],
   "source": [
    "out_meta"
   ]
  },
  {
   "cell_type": "code",
   "execution_count": 13,
   "metadata": {},
   "outputs": [
    {
     "data": {
      "image/png": "[encoded data removed]",
      "text/plain": [
       "<Figure size 432x288 with 1 Axes>"
      ]
     },
     "metadata": {
      "needs_background": "light"
     },
     "output_type": "display_data"
    },
    {
     "data": {
      "text/plain": [
       "<matplotlib.axes._subplots.AxesSubplot at 0x21e164f9b80>"
      ]
     },
     "execution_count": 13,
     "metadata": {},
     "output_type": "execute_result"
    }
   ],
   "source": [
    "show(out_image)"
   ]
  },
  {
   "cell_type": "code",
   "execution_count": 14,
   "metadata": {},
   "outputs": [
    {
     "data": {
      "text/plain": [
       "Window(col_off=8802, row_off=5819, width=1578, height=1281)"
      ]
     },
     "execution_count": 14,
     "metadata": {},
     "output_type": "execute_result"
    }
   ],
   "source": [
    "rasterio.features.geometry_window(raster_data, shapes)"
   ]
  },
  {
   "cell_type": "markdown",
   "metadata": {},
   "source": [
    "## Calculating effected population based on a shapefile"
   ]
  },
  {
   "cell_type": "code",
   "execution_count": 15,
   "metadata": {},
   "outputs": [],
   "source": [
    "from rasterstats import zonal_stats"
   ]
  },
  {
   "cell_type": "code",
   "execution_count": 16,
   "metadata": {},
   "outputs": [
    {
     "name": "stdout",
     "output_type": "stream",
     "text": [
      "G:\\Omdena\\wfpdisrel\\#task1-datacollection\\#task1-datacollection-climada\\data\\Texas\\Texas_State_Boundary_Detailed.shp\n"
     ]
    }
   ],
   "source": [
    "print(input_shape_file)"
   ]
  },
  {
   "cell_type": "code",
   "execution_count": 17,
   "metadata": {},
   "outputs": [],
   "source": [
    "stats = ['sum']\n",
    "#stats = ['min', 'max', 'mean', 'count', \n",
    "#              'sum', 'std', 'median', 'majority', \n",
    "#              'minority', 'unique', 'range']"
   ]
  },
  {
   "cell_type": "code",
   "execution_count": 18,
   "metadata": {},
   "outputs": [
    {
     "name": "stdout",
     "output_type": "stream",
     "text": [
      "[{'sum': 27503420.0}]\n"
     ]
    }
   ],
   "source": [
    "with fiona.open(input_shape_file) as src:\n",
    "    #print(src.crs)\n",
    "    result = zonal_stats(src, input_raster_file, stats = stats)\n",
    "print (result)"
   ]
  },
  {
   "cell_type": "code",
   "execution_count": 19,
   "metadata": {},
   "outputs": [
    {
     "name": "stdout",
     "output_type": "stream",
     "text": [
      "Population of Texas is: 27503420.0\n"
     ]
    }
   ],
   "source": [
    "population = result[0]['sum']\n",
    "print ('Population of Texas is: ' + str(population))"
   ]
  },
  {
   "cell_type": "markdown",
   "metadata": {},
   "source": [
    "Ok... there are 27.50 million inhabitants in Texas (based on data from 2015). Google search prodvides a value 27.49 million. So that should be kind of accurate."
   ]
  },
  {
   "cell_type": "code",
   "execution_count": 20,
   "metadata": {},
   "outputs": [],
   "source": [
    "## TODO: add assertion that both files have the same CRS"
   ]
  }
 ],
 "metadata": {
  "kernelspec": {
   "display_name": "Python 3",
   "language": "python",
   "name": "python3"
  },
  "language_info": {
   "codemirror_mode": {
    "name": "ipython",
    "version": 3
   },
   "file_extension": ".py",
   "mimetype": "text/x-python",
   "name": "python",
   "nbconvert_exporter": "python",
   "pygments_lexer": "ipython3",
   "version": "3.8.2"
  }
 },
 "nbformat": 4,
 "nbformat_minor": 4
}
