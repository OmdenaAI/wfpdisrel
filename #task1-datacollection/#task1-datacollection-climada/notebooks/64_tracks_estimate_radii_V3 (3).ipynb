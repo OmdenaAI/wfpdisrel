{
 "cells": [
  {
   "cell_type": "code",
   "execution_count": 45,
   "metadata": {
    "colab": {},
    "colab_type": "code",
    "id": "dXrJSlw9hQys"
   },
   "outputs": [],
   "source": [
    "import pandas as pd\n",
    "import numpy as np\n",
    "import pickle\n",
    "import math\n",
    "from math import cos, sin, pi\n",
    "import matplotlib.pyplot as plt"
   ]
  },
  {
   "cell_type": "markdown",
   "metadata": {
    "colab_type": "text",
    "id": "ZQGjxPzQkPIL"
   },
   "source": []
  },
  {
   "cell_type": "code",
   "execution_count": 46,
   "metadata": {
    "colab": {},
    "colab_type": "code",
    "id": "8Kd-eqOUYpXp"
   },
   "outputs": [],
   "source": [
    "def dist_(x1,y1,x2,y2):\n",
    "  try:\n",
    "    x = math.sqrt((x2 - x1)**2 + (y2 - y1)**2)\n",
    "  except:\n",
    "    x = 0\n",
    "  return x"
   ]
  },
  {
   "cell_type": "markdown",
   "metadata": {
    "colab_type": "text",
    "id": "89thm9XqeKS_"
   },
   "source": [
    "### Exploring IBTrACS data - what cyclones have radii\n"
   ]
  },
  {
   "cell_type": "code",
   "execution_count": 47,
   "metadata": {
    "colab": {
     "base_uri": "https://localhost:8080/",
     "height": 71
    },
    "colab_type": "code",
    "id": "GhlP25w0d_sx",
    "outputId": "3729c0c0-d643-42e3-a213-3ee11e017985"
   },
   "outputs": [
    {
     "name": "stderr",
     "output_type": "stream",
     "text": [
      "/opt/conda/lib/python3.7/site-packages/IPython/core/interactiveshell.py:3063: DtypeWarning: Columns (12,21,22,61,66,128,143,148) have mixed types.Specify dtype option on import or set low_memory=False.\n",
      "  interactivity=interactivity, compiler=compiler, result=result)\n"
     ]
    }
   ],
   "source": [
    "df2 = pd.read_csv('IBTrACS_original.csv')"
   ]
  },
  {
   "cell_type": "code",
   "execution_count": 48,
   "metadata": {
    "colab": {
     "base_uri": "https://localhost:8080/",
     "height": 423
    },
    "colab_type": "code",
    "id": "QIzYHBiJozrb",
    "outputId": "d48dbd92-ff5c-45cc-f77e-3b70809c1175"
   },
   "outputs": [
    {
     "data": {
      "text/html": [
       "<div>\n",
       "<style scoped>\n",
       "    .dataframe tbody tr th:only-of-type {\n",
       "        vertical-align: middle;\n",
       "    }\n",
       "\n",
       "    .dataframe tbody tr th {\n",
       "        vertical-align: top;\n",
       "    }\n",
       "\n",
       "    .dataframe thead th {\n",
       "        text-align: right;\n",
       "    }\n",
       "</style>\n",
       "<table border=\"1\" class=\"dataframe\">\n",
       "  <thead>\n",
       "    <tr style=\"text-align: right;\">\n",
       "      <th></th>\n",
       "      <th>SID</th>\n",
       "      <th>SEASON</th>\n",
       "      <th>NUMBER</th>\n",
       "      <th>BASIN</th>\n",
       "      <th>SUBBASIN</th>\n",
       "      <th>NAME</th>\n",
       "      <th>ISO_TIME</th>\n",
       "      <th>NATURE</th>\n",
       "      <th>LAT</th>\n",
       "      <th>LON</th>\n",
       "      <th>...</th>\n",
       "      <th>REU_GUSTP</th>\n",
       "      <th>USA_SEAHGT</th>\n",
       "      <th>USA_SEARAD</th>\n",
       "      <th>STORM_SPD</th>\n",
       "      <th>STORM_DR</th>\n",
       "      <th>year</th>\n",
       "      <th>month</th>\n",
       "      <th>day</th>\n",
       "      <th>hour</th>\n",
       "      <th>min</th>\n",
       "    </tr>\n",
       "  </thead>\n",
       "  <tbody>\n",
       "    <tr>\n",
       "      <th>0</th>\n",
       "      <td>1842298N11080</td>\n",
       "      <td>1842</td>\n",
       "      <td>1</td>\n",
       "      <td>NI</td>\n",
       "      <td>BB</td>\n",
       "      <td>NOT_NAMED</td>\n",
       "      <td>1842-10-25 03:00:00</td>\n",
       "      <td>NR</td>\n",
       "      <td>10.90</td>\n",
       "      <td>80.30</td>\n",
       "      <td>...</td>\n",
       "      <td>NaN</td>\n",
       "      <td>NaN</td>\n",
       "      <td>NaN</td>\n",
       "      <td>9</td>\n",
       "      <td>266</td>\n",
       "      <td>1842</td>\n",
       "      <td>10</td>\n",
       "      <td>25</td>\n",
       "      <td>3</td>\n",
       "      <td>0</td>\n",
       "    </tr>\n",
       "    <tr>\n",
       "      <th>1</th>\n",
       "      <td>1842298N11080</td>\n",
       "      <td>1842</td>\n",
       "      <td>1</td>\n",
       "      <td>NI</td>\n",
       "      <td>BB</td>\n",
       "      <td>NOT_NAMED</td>\n",
       "      <td>1842-10-25 06:00:00</td>\n",
       "      <td>NR</td>\n",
       "      <td>10.87</td>\n",
       "      <td>79.83</td>\n",
       "      <td>...</td>\n",
       "      <td>NaN</td>\n",
       "      <td>NaN</td>\n",
       "      <td>NaN</td>\n",
       "      <td>9</td>\n",
       "      <td>267</td>\n",
       "      <td>1842</td>\n",
       "      <td>10</td>\n",
       "      <td>25</td>\n",
       "      <td>6</td>\n",
       "      <td>0</td>\n",
       "    </tr>\n",
       "    <tr>\n",
       "      <th>2</th>\n",
       "      <td>1842298N11080</td>\n",
       "      <td>1842</td>\n",
       "      <td>1</td>\n",
       "      <td>NI</td>\n",
       "      <td>BB</td>\n",
       "      <td>NOT_NAMED</td>\n",
       "      <td>1842-10-25 09:00:00</td>\n",
       "      <td>NR</td>\n",
       "      <td>10.84</td>\n",
       "      <td>79.35</td>\n",
       "      <td>...</td>\n",
       "      <td>NaN</td>\n",
       "      <td>NaN</td>\n",
       "      <td>NaN</td>\n",
       "      <td>9</td>\n",
       "      <td>267</td>\n",
       "      <td>1842</td>\n",
       "      <td>10</td>\n",
       "      <td>25</td>\n",
       "      <td>9</td>\n",
       "      <td>0</td>\n",
       "    </tr>\n",
       "    <tr>\n",
       "      <th>3</th>\n",
       "      <td>1842298N11080</td>\n",
       "      <td>1842</td>\n",
       "      <td>1</td>\n",
       "      <td>NI</td>\n",
       "      <td>BB</td>\n",
       "      <td>NOT_NAMED</td>\n",
       "      <td>1842-10-25 12:00:00</td>\n",
       "      <td>NR</td>\n",
       "      <td>10.82</td>\n",
       "      <td>78.88</td>\n",
       "      <td>...</td>\n",
       "      <td>NaN</td>\n",
       "      <td>NaN</td>\n",
       "      <td>NaN</td>\n",
       "      <td>9</td>\n",
       "      <td>267</td>\n",
       "      <td>1842</td>\n",
       "      <td>10</td>\n",
       "      <td>25</td>\n",
       "      <td>12</td>\n",
       "      <td>0</td>\n",
       "    </tr>\n",
       "    <tr>\n",
       "      <th>4</th>\n",
       "      <td>1842298N11080</td>\n",
       "      <td>1842</td>\n",
       "      <td>1</td>\n",
       "      <td>NI</td>\n",
       "      <td>BB</td>\n",
       "      <td>NOT_NAMED</td>\n",
       "      <td>1842-10-25 15:00:00</td>\n",
       "      <td>NR</td>\n",
       "      <td>10.80</td>\n",
       "      <td>78.40</td>\n",
       "      <td>...</td>\n",
       "      <td>NaN</td>\n",
       "      <td>NaN</td>\n",
       "      <td>NaN</td>\n",
       "      <td>9</td>\n",
       "      <td>268</td>\n",
       "      <td>1842</td>\n",
       "      <td>10</td>\n",
       "      <td>25</td>\n",
       "      <td>15</td>\n",
       "      <td>0</td>\n",
       "    </tr>\n",
       "  </tbody>\n",
       "</table>\n",
       "<p>5 rows × 165 columns</p>\n",
       "</div>"
      ],
      "text/plain": [
       "             SID  SEASON  NUMBER BASIN SUBBASIN       NAME  \\\n",
       "0  1842298N11080    1842       1    NI       BB  NOT_NAMED   \n",
       "1  1842298N11080    1842       1    NI       BB  NOT_NAMED   \n",
       "2  1842298N11080    1842       1    NI       BB  NOT_NAMED   \n",
       "3  1842298N11080    1842       1    NI       BB  NOT_NAMED   \n",
       "4  1842298N11080    1842       1    NI       BB  NOT_NAMED   \n",
       "\n",
       "              ISO_TIME NATURE    LAT    LON  ...  REU_GUSTP  USA_SEAHGT  \\\n",
       "0  1842-10-25 03:00:00     NR  10.90  80.30  ...        NaN         NaN   \n",
       "1  1842-10-25 06:00:00     NR  10.87  79.83  ...        NaN         NaN   \n",
       "2  1842-10-25 09:00:00     NR  10.84  79.35  ...        NaN         NaN   \n",
       "3  1842-10-25 12:00:00     NR  10.82  78.88  ...        NaN         NaN   \n",
       "4  1842-10-25 15:00:00     NR  10.80  78.40  ...        NaN         NaN   \n",
       "\n",
       "  USA_SEARAD STORM_SPD  STORM_DR  year month day hour  min  \n",
       "0        NaN         9       266  1842    10  25    3    0  \n",
       "1        NaN         9       267  1842    10  25    6    0  \n",
       "2        NaN         9       267  1842    10  25    9    0  \n",
       "3        NaN         9       267  1842    10  25   12    0  \n",
       "4        NaN         9       268  1842    10  25   15    0  \n",
       "\n",
       "[5 rows x 165 columns]"
      ]
     },
     "execution_count": 48,
     "metadata": {},
     "output_type": "execute_result"
    }
   ],
   "source": [
    "df2.head()"
   ]
  },
  {
   "cell_type": "code",
   "execution_count": 49,
   "metadata": {
    "colab": {
     "base_uri": "https://localhost:8080/",
     "height": 221
    },
    "colab_type": "code",
    "id": "SSpt9gDD7FhN",
    "outputId": "d66b7f64-ace0-4a1d-c4e2-ef61b216fb83"
   },
   "outputs": [
    {
     "data": {
      "text/plain": [
       "0        NaN\n",
       "1        NaN\n",
       "2        NaN\n",
       "3        NaN\n",
       "4        NaN\n",
       "          ..\n",
       "669865   NaN\n",
       "669866   NaN\n",
       "669867   NaN\n",
       "669868   NaN\n",
       "669869   NaN\n",
       "Name: TOK_R50_L, Length: 669870, dtype: float64"
      ]
     },
     "execution_count": 49,
     "metadata": {},
     "output_type": "execute_result"
    }
   ],
   "source": [
    "df2['TOK_R50_L']"
   ]
  },
  {
   "cell_type": "code",
   "execution_count": 50,
   "metadata": {
    "colab": {},
    "colab_type": "code",
    "id": "Iqe9xZ7mzMLK"
   },
   "outputs": [],
   "source": [
    "df2['LON_1'] = df2.groupby(['SID'])['LON'].shift(-1)\n",
    "df2['LAT_1'] = df2.groupby(['SID'])['LAT'].shift(-1)"
   ]
  },
  {
   "cell_type": "code",
   "execution_count": 51,
   "metadata": {
    "colab": {},
    "colab_type": "code",
    "id": "qlvX1XDMzUq_"
   },
   "outputs": [],
   "source": [
    "def big_wind(row):\n",
    "  x1 = row['LAT']\n",
    "  x2 = row['LAT_1']\n",
    "  y1 = row['LON']\n",
    "  y2 = row['LON_1']\n",
    "\n",
    "  return dist_(x1,y1,x2,y2)\n",
    "df2['dist'] = df2.apply(big_wind, axis=1)\n",
    "df2['ISO_TIME'] = pd.to_datetime(df2['ISO_TIME'])\n",
    "df2[\"rank\"] = df2.groupby(\"SID\")[\"ISO_TIME\"].rank(\"dense\", ascending=False)\n",
    "df2[\"rank_1\"] = df2.groupby(\"SID\")[\"ISO_TIME\"].rank(\"dense\", ascending=True)"
   ]
  },
  {
   "cell_type": "code",
   "execution_count": 52,
   "metadata": {
    "colab": {},
    "colab_type": "code",
    "id": "Vb604ReUbuD7"
   },
   "outputs": [],
   "source": [
    "#df2['NEW_D_34'] = [df2['BOM_R34_NE']==df2['BOM_R34_NE']].NAME.unique()"
   ]
  },
  {
   "cell_type": "code",
   "execution_count": 53,
   "metadata": {
    "colab": {},
    "colab_type": "code",
    "id": "SQ0aR3C1NF8l"
   },
   "outputs": [],
   "source": [
    "for j in [34,50,64]:\n",
    "  df2['max_'+str(j)] = df2[['USA_R'+str(j)+'_NE', 'USA_R'+str(j)+'_SE', 'USA_R'+str(j)+'_SW', 'USA_R'+str(j)+'_NW',\n",
    "                            'REU_R'+str(j)+'_NE', 'REU_R'+str(j)+'_SE', 'REU_R'+str(j)+'_SW', 'REU_R'+str(j)+'_NW',\n",
    "                            'BOM_R'+str(j)+'_NE', 'BOM_R'+str(j)+'_SE', 'BOM_R'+str(j)+'_SW', 'BOM_R'+str(j)+'_NW']].max(axis=1)  #USA_R34_NE"
   ]
  },
  {
   "cell_type": "code",
   "execution_count": 54,
   "metadata": {
    "colab": {},
    "colab_type": "code",
    "id": "5NGLIA774X3k"
   },
   "outputs": [],
   "source": [
    "df2['max_50'] = df2[['max_50', 'TOK_R50_L']].max(axis=1)  #USA_R34_NE"
   ]
  },
  {
   "cell_type": "code",
   "execution_count": 55,
   "metadata": {
    "colab": {},
    "colab_type": "code",
    "id": "caBrg44vSElx"
   },
   "outputs": [],
   "source": [
    "df2['RMW'] = df2[['USA_RMW', 'REU_RMW', 'BOM_RMW']].max(axis=1)  #USA_R34_NE"
   ]
  },
  {
   "cell_type": "code",
   "execution_count": 56,
   "metadata": {
    "colab": {},
    "colab_type": "code",
    "id": "HhJI-brhcbub"
   },
   "outputs": [],
   "source": [
    "df4 = df2[df2['max_34']==df2['max_34']][['NAME','SEASON']]"
   ]
  },
  {
   "cell_type": "code",
   "execution_count": 57,
   "metadata": {
    "colab": {
     "base_uri": "https://localhost:8080/",
     "height": 170
    },
    "colab_type": "code",
    "id": "Hf0DwgrFSrhc",
    "outputId": "23cf2481-67dd-48eb-87d5-9070fb669414"
   },
   "outputs": [
    {
     "name": "stdout",
     "output_type": "stream",
     "text": [
      "<class 'pandas.core.frame.DataFrame'>\n",
      "Int64Index: 57138 entries, 472432 to 669868\n",
      "Data columns (total 2 columns):\n",
      " #   Column  Non-Null Count  Dtype \n",
      "---  ------  --------------  ----- \n",
      " 0   NAME    57138 non-null  object\n",
      " 1   SEASON  57138 non-null  int64 \n",
      "dtypes: int64(1), object(1)\n",
      "memory usage: 1.3+ MB\n"
     ]
    }
   ],
   "source": [
    "df4.info()"
   ]
  },
  {
   "cell_type": "code",
   "execution_count": 58,
   "metadata": {
    "colab": {},
    "colab_type": "code",
    "id": "T7A-Tdnjc7bt"
   },
   "outputs": [],
   "source": [
    "df4 = df4.drop_duplicates()"
   ]
  },
  {
   "cell_type": "code",
   "execution_count": 59,
   "metadata": {
    "colab": {
     "base_uri": "https://localhost:8080/",
     "height": 34
    },
    "colab_type": "code",
    "id": "JM4JyqmNc-Sl",
    "outputId": "a9637dbf-cd57-46e1-e60e-55b815299d71"
   },
   "outputs": [
    {
     "data": {
      "text/plain": [
       "1418"
      ]
     },
     "execution_count": 59,
     "metadata": {},
     "output_type": "execute_result"
    }
   ],
   "source": [
    "len(df4)"
   ]
  },
  {
   "cell_type": "code",
   "execution_count": 60,
   "metadata": {
    "colab": {},
    "colab_type": "code",
    "id": "Sxg6Ahvtf-bJ"
   },
   "outputs": [],
   "source": [
    "df4['in_tracks'] = True"
   ]
  },
  {
   "cell_type": "markdown",
   "metadata": {
    "colab_type": "text",
    "id": "2r4RT-7rszYS"
   },
   "source": [
    "### Estimating Radiouses of 34 50 60 kn winds "
   ]
  },
  {
   "cell_type": "code",
   "execution_count": 61,
   "metadata": {
    "colab": {
     "base_uri": "https://localhost:8080/",
     "height": 221
    },
    "colab_type": "code",
    "id": "NYEBdVwlz1wR",
    "outputId": "81b0105b-8bd8-4db0-df4e-e71fbc59b90b"
   },
   "outputs": [
    {
     "data": {
      "text/plain": [
       "0         1969.0\n",
       "1         1969.0\n",
       "2         1969.0\n",
       "3         1969.0\n",
       "4         1969.0\n",
       "           ...  \n",
       "669865    1969.0\n",
       "669866    1969.0\n",
       "669867    1969.0\n",
       "669868    1969.0\n",
       "669869    1969.0\n",
       "Name: WMO_PRES_delta, Length: 669870, dtype: float64"
      ]
     },
     "execution_count": 61,
     "metadata": {},
     "output_type": "execute_result"
    }
   ],
   "source": [
    "df2['WMO_PRES_delta'] = df2.groupby(['SID'])['WMO_PRES'].diff(periods=-1)\n",
    "df2.groupby('SID')['WMO_PRES_delta'].fillna(df2.median().iloc[0])"
   ]
  },
  {
   "cell_type": "code",
   "execution_count": 62,
   "metadata": {
    "colab": {
     "base_uri": "https://localhost:8080/",
     "height": 221
    },
    "colab_type": "code",
    "id": "90XUpNs99X-l",
    "outputId": "f9504879-678a-43ac-ce04-28b6ae81b32a"
   },
   "outputs": [
    {
     "data": {
      "text/plain": [
       "0            0.470956\n",
       "1            0.480937\n",
       "2            0.470425\n",
       "3            0.480416\n",
       "4            0.480104\n",
       "             ...     \n",
       "669865       0.257099\n",
       "669866       0.351710\n",
       "669867       0.414849\n",
       "669868       0.451221\n",
       "669869    1969.000000\n",
       "Name: dist, Length: 669870, dtype: float64"
      ]
     },
     "execution_count": 62,
     "metadata": {},
     "output_type": "execute_result"
    }
   ],
   "source": [
    "df2.groupby('SID')['dist'].fillna(df2.median().iloc[0])"
   ]
  },
  {
   "cell_type": "code",
   "execution_count": 63,
   "metadata": {
    "colab": {
     "base_uri": "https://localhost:8080/",
     "height": 221
    },
    "colab_type": "code",
    "id": "jYBe_ym49kIy",
    "outputId": "76ecc0da-c251-4496-ddee-890b66e01081"
   },
   "outputs": [
    {
     "data": {
      "text/plain": [
       "0            0.470956\n",
       "1            0.480937\n",
       "2            0.470425\n",
       "3            0.480416\n",
       "4            0.480104\n",
       "             ...     \n",
       "669865       0.257099\n",
       "669866       0.351710\n",
       "669867       0.414849\n",
       "669868       0.451221\n",
       "669869    1969.000000\n",
       "Name: dist, Length: 669870, dtype: float64"
      ]
     },
     "execution_count": 63,
     "metadata": {},
     "output_type": "execute_result"
    }
   ],
   "source": [
    "df2['dist'].fillna(df2.median().iloc[0])"
   ]
  },
  {
   "cell_type": "code",
   "execution_count": 64,
   "metadata": {
    "colab": {
     "base_uri": "https://localhost:8080/",
     "height": 34
    },
    "colab_type": "code",
    "id": "3qRd_J3IvBrQ",
    "outputId": "089c3590-619b-4304-a864-4efa7b460ae7"
   },
   "outputs": [
    {
     "data": {
      "text/plain": [
       "64"
      ]
     },
     "execution_count": 64,
     "metadata": {},
     "output_type": "execute_result"
    }
   ],
   "source": [
    "j#more 'BASIN','SUBBASIN' 'TRACK_TYPE' 'DIST2LAND','LANDFALL', 'STORM_DR'\n",
    "#"
   ]
  },
  {
   "cell_type": "code",
   "execution_count": 65,
   "metadata": {
    "colab": {},
    "colab_type": "code",
    "id": "Xv2GeHJAvrJG"
   },
   "outputs": [],
   "source": [
    "df2['BASIN'] = df2['BASIN'].fillna('NAM')"
   ]
  },
  {
   "cell_type": "code",
   "execution_count": 66,
   "metadata": {
    "colab": {},
    "colab_type": "code",
    "id": "3CfjzTYTtGdU"
   },
   "outputs": [],
   "source": [
    "ib = df2[df2['max_64']==df2['max_64']][['NAME','SEASON', 'SID', 'WMO_PRES_delta',\n",
    "                                                                                                   'NUMBER',\t'BASIN','SUBBASIN','NAME','ISO_TIME','NATURE','LAT','LON','WMO_WIND','WMO_PRES',\n",
    "                                                                                                   \t'TRACK_TYPE','DIST2LAND','LANDFALL',\n",
    "                                                                                                   'STORM_SPD', 'dist',\t'STORM_DR',\t'year',\t'month',\t'day',\t'hour', 'min', 'max_34', 'max_50', 'max_64', 'rank', 'rank_1'\n",
    "                                                                                                   \n",
    "                                                                                                   \n",
    "                                                                                                   ]]"
   ]
  },
  {
   "cell_type": "code",
   "execution_count": 67,
   "metadata": {
    "colab": {
     "base_uri": "https://localhost:8080/",
     "height": 164
    },
    "colab_type": "code",
    "id": "MS3Bc2SNxWHR",
    "outputId": "622791ac-b8e1-4009-cf19-a85dce619f09"
   },
   "outputs": [
    {
     "data": {
      "text/html": [
       "<div>\n",
       "<style scoped>\n",
       "    .dataframe tbody tr th:only-of-type {\n",
       "        vertical-align: middle;\n",
       "    }\n",
       "\n",
       "    .dataframe tbody tr th {\n",
       "        vertical-align: top;\n",
       "    }\n",
       "\n",
       "    .dataframe thead th {\n",
       "        text-align: right;\n",
       "    }\n",
       "</style>\n",
       "<table border=\"1\" class=\"dataframe\">\n",
       "  <thead>\n",
       "    <tr style=\"text-align: right;\">\n",
       "      <th></th>\n",
       "      <th>NAME</th>\n",
       "      <th>SEASON</th>\n",
       "      <th>SID</th>\n",
       "      <th>WMO_PRES_delta</th>\n",
       "      <th>NUMBER</th>\n",
       "      <th>BASIN</th>\n",
       "      <th>SUBBASIN</th>\n",
       "      <th>NAME</th>\n",
       "      <th>ISO_TIME</th>\n",
       "      <th>NATURE</th>\n",
       "      <th>...</th>\n",
       "      <th>year</th>\n",
       "      <th>month</th>\n",
       "      <th>day</th>\n",
       "      <th>hour</th>\n",
       "      <th>min</th>\n",
       "      <th>max_34</th>\n",
       "      <th>max_50</th>\n",
       "      <th>max_64</th>\n",
       "      <th>rank</th>\n",
       "      <th>rank_1</th>\n",
       "    </tr>\n",
       "  </thead>\n",
       "  <tbody>\n",
       "    <tr>\n",
       "      <th>495848</th>\n",
       "      <td>FRAN</td>\n",
       "      <td>1992</td>\n",
       "      <td>1992064S10184</td>\n",
       "      <td>NaN</td>\n",
       "      <td>23</td>\n",
       "      <td>SP</td>\n",
       "      <td>EA</td>\n",
       "      <td>FRAN</td>\n",
       "      <td>1992-03-13 12:00:00</td>\n",
       "      <td>TS</td>\n",
       "      <td>...</td>\n",
       "      <td>1992</td>\n",
       "      <td>3</td>\n",
       "      <td>13</td>\n",
       "      <td>12</td>\n",
       "      <td>0</td>\n",
       "      <td>NaN</td>\n",
       "      <td>NaN</td>\n",
       "      <td>70.0</td>\n",
       "      <td>60.0</td>\n",
       "      <td>77.0</td>\n",
       "    </tr>\n",
       "    <tr>\n",
       "      <th>495849</th>\n",
       "      <td>FRAN</td>\n",
       "      <td>1992</td>\n",
       "      <td>1992064S10184</td>\n",
       "      <td>NaN</td>\n",
       "      <td>23</td>\n",
       "      <td>SP</td>\n",
       "      <td>EA</td>\n",
       "      <td>FRAN</td>\n",
       "      <td>1992-03-13 15:00:00</td>\n",
       "      <td>TS</td>\n",
       "      <td>...</td>\n",
       "      <td>1992</td>\n",
       "      <td>3</td>\n",
       "      <td>13</td>\n",
       "      <td>15</td>\n",
       "      <td>0</td>\n",
       "      <td>NaN</td>\n",
       "      <td>NaN</td>\n",
       "      <td>70.0</td>\n",
       "      <td>59.0</td>\n",
       "      <td>78.0</td>\n",
       "    </tr>\n",
       "    <tr>\n",
       "      <th>495850</th>\n",
       "      <td>FRAN</td>\n",
       "      <td>1992</td>\n",
       "      <td>1992064S10184</td>\n",
       "      <td>NaN</td>\n",
       "      <td>23</td>\n",
       "      <td>SP</td>\n",
       "      <td>EA</td>\n",
       "      <td>FRAN</td>\n",
       "      <td>1992-03-13 18:00:00</td>\n",
       "      <td>TS</td>\n",
       "      <td>...</td>\n",
       "      <td>1992</td>\n",
       "      <td>3</td>\n",
       "      <td>13</td>\n",
       "      <td>18</td>\n",
       "      <td>0</td>\n",
       "      <td>NaN</td>\n",
       "      <td>NaN</td>\n",
       "      <td>70.0</td>\n",
       "      <td>58.0</td>\n",
       "      <td>79.0</td>\n",
       "    </tr>\n",
       "    <tr>\n",
       "      <th>495851</th>\n",
       "      <td>FRAN</td>\n",
       "      <td>1992</td>\n",
       "      <td>1992064S10184</td>\n",
       "      <td>NaN</td>\n",
       "      <td>23</td>\n",
       "      <td>SP</td>\n",
       "      <td>EA</td>\n",
       "      <td>FRAN</td>\n",
       "      <td>1992-03-13 21:00:00</td>\n",
       "      <td>TS</td>\n",
       "      <td>...</td>\n",
       "      <td>1992</td>\n",
       "      <td>3</td>\n",
       "      <td>13</td>\n",
       "      <td>21</td>\n",
       "      <td>0</td>\n",
       "      <td>NaN</td>\n",
       "      <td>NaN</td>\n",
       "      <td>60.0</td>\n",
       "      <td>57.0</td>\n",
       "      <td>80.0</td>\n",
       "    </tr>\n",
       "    <tr>\n",
       "      <th>495852</th>\n",
       "      <td>FRAN</td>\n",
       "      <td>1992</td>\n",
       "      <td>1992064S10184</td>\n",
       "      <td>NaN</td>\n",
       "      <td>23</td>\n",
       "      <td>SP</td>\n",
       "      <td>EA</td>\n",
       "      <td>FRAN</td>\n",
       "      <td>1992-03-14 00:00:00</td>\n",
       "      <td>TS</td>\n",
       "      <td>...</td>\n",
       "      <td>1992</td>\n",
       "      <td>3</td>\n",
       "      <td>14</td>\n",
       "      <td>0</td>\n",
       "      <td>0</td>\n",
       "      <td>NaN</td>\n",
       "      <td>NaN</td>\n",
       "      <td>50.0</td>\n",
       "      <td>56.0</td>\n",
       "      <td>81.0</td>\n",
       "    </tr>\n",
       "    <tr>\n",
       "      <th>...</th>\n",
       "      <td>...</td>\n",
       "      <td>...</td>\n",
       "      <td>...</td>\n",
       "      <td>...</td>\n",
       "      <td>...</td>\n",
       "      <td>...</td>\n",
       "      <td>...</td>\n",
       "      <td>...</td>\n",
       "      <td>...</td>\n",
       "      <td>...</td>\n",
       "      <td>...</td>\n",
       "      <td>...</td>\n",
       "      <td>...</td>\n",
       "      <td>...</td>\n",
       "      <td>...</td>\n",
       "      <td>...</td>\n",
       "      <td>...</td>\n",
       "      <td>...</td>\n",
       "      <td>...</td>\n",
       "      <td>...</td>\n",
       "      <td>...</td>\n",
       "    </tr>\n",
       "    <tr>\n",
       "      <th>667951</th>\n",
       "      <td>OSCAR</td>\n",
       "      <td>2018</td>\n",
       "      <td>2018300N26315</td>\n",
       "      <td>NaN</td>\n",
       "      <td>97</td>\n",
       "      <td>NAM</td>\n",
       "      <td>NaN</td>\n",
       "      <td>OSCAR</td>\n",
       "      <td>2018-10-31 03:00:00</td>\n",
       "      <td>TS</td>\n",
       "      <td>...</td>\n",
       "      <td>2018</td>\n",
       "      <td>10</td>\n",
       "      <td>31</td>\n",
       "      <td>3</td>\n",
       "      <td>0</td>\n",
       "      <td>150.0</td>\n",
       "      <td>69.0</td>\n",
       "      <td>29.0</td>\n",
       "      <td>5.0</td>\n",
       "      <td>34.0</td>\n",
       "    </tr>\n",
       "    <tr>\n",
       "      <th>667952</th>\n",
       "      <td>OSCAR</td>\n",
       "      <td>2018</td>\n",
       "      <td>2018300N26315</td>\n",
       "      <td>NaN</td>\n",
       "      <td>97</td>\n",
       "      <td>NAM</td>\n",
       "      <td>NaN</td>\n",
       "      <td>OSCAR</td>\n",
       "      <td>2018-10-31 06:00:00</td>\n",
       "      <td>TS</td>\n",
       "      <td>...</td>\n",
       "      <td>2018</td>\n",
       "      <td>10</td>\n",
       "      <td>31</td>\n",
       "      <td>6</td>\n",
       "      <td>0</td>\n",
       "      <td>150.0</td>\n",
       "      <td>69.0</td>\n",
       "      <td>29.0</td>\n",
       "      <td>4.0</td>\n",
       "      <td>35.0</td>\n",
       "    </tr>\n",
       "    <tr>\n",
       "      <th>667953</th>\n",
       "      <td>OSCAR</td>\n",
       "      <td>2018</td>\n",
       "      <td>2018300N26315</td>\n",
       "      <td>NaN</td>\n",
       "      <td>97</td>\n",
       "      <td>NAM</td>\n",
       "      <td>NaN</td>\n",
       "      <td>OSCAR</td>\n",
       "      <td>2018-10-31 09:00:00</td>\n",
       "      <td>TS</td>\n",
       "      <td>...</td>\n",
       "      <td>2018</td>\n",
       "      <td>10</td>\n",
       "      <td>31</td>\n",
       "      <td>9</td>\n",
       "      <td>0</td>\n",
       "      <td>202.0</td>\n",
       "      <td>75.0</td>\n",
       "      <td>32.0</td>\n",
       "      <td>3.0</td>\n",
       "      <td>36.0</td>\n",
       "    </tr>\n",
       "    <tr>\n",
       "      <th>667954</th>\n",
       "      <td>OSCAR</td>\n",
       "      <td>2018</td>\n",
       "      <td>2018300N26315</td>\n",
       "      <td>NaN</td>\n",
       "      <td>97</td>\n",
       "      <td>NAM</td>\n",
       "      <td>NaN</td>\n",
       "      <td>OSCAR</td>\n",
       "      <td>2018-10-31 12:00:00</td>\n",
       "      <td>TS</td>\n",
       "      <td>...</td>\n",
       "      <td>2018</td>\n",
       "      <td>10</td>\n",
       "      <td>31</td>\n",
       "      <td>12</td>\n",
       "      <td>0</td>\n",
       "      <td>277.0</td>\n",
       "      <td>81.0</td>\n",
       "      <td>35.0</td>\n",
       "      <td>2.0</td>\n",
       "      <td>37.0</td>\n",
       "    </tr>\n",
       "    <tr>\n",
       "      <th>667955</th>\n",
       "      <td>OSCAR</td>\n",
       "      <td>2018</td>\n",
       "      <td>2018300N26315</td>\n",
       "      <td>NaN</td>\n",
       "      <td>97</td>\n",
       "      <td>NAM</td>\n",
       "      <td>NaN</td>\n",
       "      <td>OSCAR</td>\n",
       "      <td>2018-10-31 15:00:00</td>\n",
       "      <td>TS</td>\n",
       "      <td>...</td>\n",
       "      <td>2018</td>\n",
       "      <td>10</td>\n",
       "      <td>31</td>\n",
       "      <td>15</td>\n",
       "      <td>0</td>\n",
       "      <td>277.0</td>\n",
       "      <td>98.0</td>\n",
       "      <td>35.0</td>\n",
       "      <td>1.0</td>\n",
       "      <td>38.0</td>\n",
       "    </tr>\n",
       "  </tbody>\n",
       "</table>\n",
       "<p>17093 rows × 30 columns</p>\n",
       "</div>"
      ],
      "text/plain": [
       "         NAME  SEASON            SID  WMO_PRES_delta  NUMBER BASIN SUBBASIN  \\\n",
       "495848   FRAN    1992  1992064S10184             NaN      23    SP       EA   \n",
       "495849   FRAN    1992  1992064S10184             NaN      23    SP       EA   \n",
       "495850   FRAN    1992  1992064S10184             NaN      23    SP       EA   \n",
       "495851   FRAN    1992  1992064S10184             NaN      23    SP       EA   \n",
       "495852   FRAN    1992  1992064S10184             NaN      23    SP       EA   \n",
       "...       ...     ...            ...             ...     ...   ...      ...   \n",
       "667951  OSCAR    2018  2018300N26315             NaN      97   NAM      NaN   \n",
       "667952  OSCAR    2018  2018300N26315             NaN      97   NAM      NaN   \n",
       "667953  OSCAR    2018  2018300N26315             NaN      97   NAM      NaN   \n",
       "667954  OSCAR    2018  2018300N26315             NaN      97   NAM      NaN   \n",
       "667955  OSCAR    2018  2018300N26315             NaN      97   NAM      NaN   \n",
       "\n",
       "         NAME            ISO_TIME NATURE  ...  year  month  day  hour min  \\\n",
       "495848   FRAN 1992-03-13 12:00:00     TS  ...  1992      3   13    12   0   \n",
       "495849   FRAN 1992-03-13 15:00:00     TS  ...  1992      3   13    15   0   \n",
       "495850   FRAN 1992-03-13 18:00:00     TS  ...  1992      3   13    18   0   \n",
       "495851   FRAN 1992-03-13 21:00:00     TS  ...  1992      3   13    21   0   \n",
       "495852   FRAN 1992-03-14 00:00:00     TS  ...  1992      3   14     0   0   \n",
       "...       ...                 ...    ...  ...   ...    ...  ...   ...  ..   \n",
       "667951  OSCAR 2018-10-31 03:00:00     TS  ...  2018     10   31     3   0   \n",
       "667952  OSCAR 2018-10-31 06:00:00     TS  ...  2018     10   31     6   0   \n",
       "667953  OSCAR 2018-10-31 09:00:00     TS  ...  2018     10   31     9   0   \n",
       "667954  OSCAR 2018-10-31 12:00:00     TS  ...  2018     10   31    12   0   \n",
       "667955  OSCAR 2018-10-31 15:00:00     TS  ...  2018     10   31    15   0   \n",
       "\n",
       "        max_34  max_50  max_64  rank  rank_1  \n",
       "495848     NaN     NaN    70.0  60.0    77.0  \n",
       "495849     NaN     NaN    70.0  59.0    78.0  \n",
       "495850     NaN     NaN    70.0  58.0    79.0  \n",
       "495851     NaN     NaN    60.0  57.0    80.0  \n",
       "495852     NaN     NaN    50.0  56.0    81.0  \n",
       "...        ...     ...     ...   ...     ...  \n",
       "667951   150.0    69.0    29.0   5.0    34.0  \n",
       "667952   150.0    69.0    29.0   4.0    35.0  \n",
       "667953   202.0    75.0    32.0   3.0    36.0  \n",
       "667954   277.0    81.0    35.0   2.0    37.0  \n",
       "667955   277.0    98.0    35.0   1.0    38.0  \n",
       "\n",
       "[17093 rows x 30 columns]"
      ]
     },
     "execution_count": 67,
     "metadata": {},
     "output_type": "execute_result"
    }
   ],
   "source": [
    "ib"
   ]
  },
  {
   "cell_type": "code",
   "execution_count": 68,
   "metadata": {
    "colab": {},
    "colab_type": "code",
    "id": "x4VIW-CQ7xY0"
   },
   "outputs": [],
   "source": [
    "#ib = pd.get_dummies(ib, columns=['BASIN','SUBBASIN', 'WMO_AGENCY','TRACK_TYPE',  'NATURE'])"
   ]
  },
  {
   "cell_type": "code",
   "execution_count": 69,
   "metadata": {
    "colab": {},
    "colab_type": "code",
    "id": "9wDiBE3FfpvE"
   },
   "outputs": [
    {
     "data": {
      "text/html": [
       "<div>\n",
       "<style scoped>\n",
       "    .dataframe tbody tr th:only-of-type {\n",
       "        vertical-align: middle;\n",
       "    }\n",
       "\n",
       "    .dataframe tbody tr th {\n",
       "        vertical-align: top;\n",
       "    }\n",
       "\n",
       "    .dataframe thead th {\n",
       "        text-align: right;\n",
       "    }\n",
       "</style>\n",
       "<table border=\"1\" class=\"dataframe\">\n",
       "  <thead>\n",
       "    <tr style=\"text-align: right;\">\n",
       "      <th></th>\n",
       "      <th>NAME</th>\n",
       "      <th>SEASON</th>\n",
       "      <th>SID</th>\n",
       "      <th>WMO_PRES_delta</th>\n",
       "      <th>NUMBER</th>\n",
       "      <th>BASIN</th>\n",
       "      <th>SUBBASIN</th>\n",
       "      <th>NAME</th>\n",
       "      <th>ISO_TIME</th>\n",
       "      <th>NATURE</th>\n",
       "      <th>...</th>\n",
       "      <th>year</th>\n",
       "      <th>month</th>\n",
       "      <th>day</th>\n",
       "      <th>hour</th>\n",
       "      <th>min</th>\n",
       "      <th>max_34</th>\n",
       "      <th>max_50</th>\n",
       "      <th>max_64</th>\n",
       "      <th>rank</th>\n",
       "      <th>rank_1</th>\n",
       "    </tr>\n",
       "  </thead>\n",
       "  <tbody>\n",
       "    <tr>\n",
       "      <th>495848</th>\n",
       "      <td>FRAN</td>\n",
       "      <td>1992</td>\n",
       "      <td>1992064S10184</td>\n",
       "      <td>NaN</td>\n",
       "      <td>23</td>\n",
       "      <td>SP</td>\n",
       "      <td>EA</td>\n",
       "      <td>FRAN</td>\n",
       "      <td>1992-03-13 12:00:00</td>\n",
       "      <td>TS</td>\n",
       "      <td>...</td>\n",
       "      <td>1992</td>\n",
       "      <td>3</td>\n",
       "      <td>13</td>\n",
       "      <td>12</td>\n",
       "      <td>0</td>\n",
       "      <td>NaN</td>\n",
       "      <td>NaN</td>\n",
       "      <td>70.0</td>\n",
       "      <td>60.0</td>\n",
       "      <td>77.0</td>\n",
       "    </tr>\n",
       "    <tr>\n",
       "      <th>495849</th>\n",
       "      <td>FRAN</td>\n",
       "      <td>1992</td>\n",
       "      <td>1992064S10184</td>\n",
       "      <td>NaN</td>\n",
       "      <td>23</td>\n",
       "      <td>SP</td>\n",
       "      <td>EA</td>\n",
       "      <td>FRAN</td>\n",
       "      <td>1992-03-13 15:00:00</td>\n",
       "      <td>TS</td>\n",
       "      <td>...</td>\n",
       "      <td>1992</td>\n",
       "      <td>3</td>\n",
       "      <td>13</td>\n",
       "      <td>15</td>\n",
       "      <td>0</td>\n",
       "      <td>NaN</td>\n",
       "      <td>NaN</td>\n",
       "      <td>70.0</td>\n",
       "      <td>59.0</td>\n",
       "      <td>78.0</td>\n",
       "    </tr>\n",
       "    <tr>\n",
       "      <th>495850</th>\n",
       "      <td>FRAN</td>\n",
       "      <td>1992</td>\n",
       "      <td>1992064S10184</td>\n",
       "      <td>NaN</td>\n",
       "      <td>23</td>\n",
       "      <td>SP</td>\n",
       "      <td>EA</td>\n",
       "      <td>FRAN</td>\n",
       "      <td>1992-03-13 18:00:00</td>\n",
       "      <td>TS</td>\n",
       "      <td>...</td>\n",
       "      <td>1992</td>\n",
       "      <td>3</td>\n",
       "      <td>13</td>\n",
       "      <td>18</td>\n",
       "      <td>0</td>\n",
       "      <td>NaN</td>\n",
       "      <td>NaN</td>\n",
       "      <td>70.0</td>\n",
       "      <td>58.0</td>\n",
       "      <td>79.0</td>\n",
       "    </tr>\n",
       "    <tr>\n",
       "      <th>495851</th>\n",
       "      <td>FRAN</td>\n",
       "      <td>1992</td>\n",
       "      <td>1992064S10184</td>\n",
       "      <td>NaN</td>\n",
       "      <td>23</td>\n",
       "      <td>SP</td>\n",
       "      <td>EA</td>\n",
       "      <td>FRAN</td>\n",
       "      <td>1992-03-13 21:00:00</td>\n",
       "      <td>TS</td>\n",
       "      <td>...</td>\n",
       "      <td>1992</td>\n",
       "      <td>3</td>\n",
       "      <td>13</td>\n",
       "      <td>21</td>\n",
       "      <td>0</td>\n",
       "      <td>NaN</td>\n",
       "      <td>NaN</td>\n",
       "      <td>60.0</td>\n",
       "      <td>57.0</td>\n",
       "      <td>80.0</td>\n",
       "    </tr>\n",
       "    <tr>\n",
       "      <th>495852</th>\n",
       "      <td>FRAN</td>\n",
       "      <td>1992</td>\n",
       "      <td>1992064S10184</td>\n",
       "      <td>NaN</td>\n",
       "      <td>23</td>\n",
       "      <td>SP</td>\n",
       "      <td>EA</td>\n",
       "      <td>FRAN</td>\n",
       "      <td>1992-03-14 00:00:00</td>\n",
       "      <td>TS</td>\n",
       "      <td>...</td>\n",
       "      <td>1992</td>\n",
       "      <td>3</td>\n",
       "      <td>14</td>\n",
       "      <td>0</td>\n",
       "      <td>0</td>\n",
       "      <td>NaN</td>\n",
       "      <td>NaN</td>\n",
       "      <td>50.0</td>\n",
       "      <td>56.0</td>\n",
       "      <td>81.0</td>\n",
       "    </tr>\n",
       "    <tr>\n",
       "      <th>...</th>\n",
       "      <td>...</td>\n",
       "      <td>...</td>\n",
       "      <td>...</td>\n",
       "      <td>...</td>\n",
       "      <td>...</td>\n",
       "      <td>...</td>\n",
       "      <td>...</td>\n",
       "      <td>...</td>\n",
       "      <td>...</td>\n",
       "      <td>...</td>\n",
       "      <td>...</td>\n",
       "      <td>...</td>\n",
       "      <td>...</td>\n",
       "      <td>...</td>\n",
       "      <td>...</td>\n",
       "      <td>...</td>\n",
       "      <td>...</td>\n",
       "      <td>...</td>\n",
       "      <td>...</td>\n",
       "      <td>...</td>\n",
       "      <td>...</td>\n",
       "    </tr>\n",
       "    <tr>\n",
       "      <th>667951</th>\n",
       "      <td>OSCAR</td>\n",
       "      <td>2018</td>\n",
       "      <td>2018300N26315</td>\n",
       "      <td>NaN</td>\n",
       "      <td>97</td>\n",
       "      <td>NAM</td>\n",
       "      <td>NaN</td>\n",
       "      <td>OSCAR</td>\n",
       "      <td>2018-10-31 03:00:00</td>\n",
       "      <td>TS</td>\n",
       "      <td>...</td>\n",
       "      <td>2018</td>\n",
       "      <td>10</td>\n",
       "      <td>31</td>\n",
       "      <td>3</td>\n",
       "      <td>0</td>\n",
       "      <td>150.0</td>\n",
       "      <td>69.0</td>\n",
       "      <td>29.0</td>\n",
       "      <td>5.0</td>\n",
       "      <td>34.0</td>\n",
       "    </tr>\n",
       "    <tr>\n",
       "      <th>667952</th>\n",
       "      <td>OSCAR</td>\n",
       "      <td>2018</td>\n",
       "      <td>2018300N26315</td>\n",
       "      <td>NaN</td>\n",
       "      <td>97</td>\n",
       "      <td>NAM</td>\n",
       "      <td>NaN</td>\n",
       "      <td>OSCAR</td>\n",
       "      <td>2018-10-31 06:00:00</td>\n",
       "      <td>TS</td>\n",
       "      <td>...</td>\n",
       "      <td>2018</td>\n",
       "      <td>10</td>\n",
       "      <td>31</td>\n",
       "      <td>6</td>\n",
       "      <td>0</td>\n",
       "      <td>150.0</td>\n",
       "      <td>69.0</td>\n",
       "      <td>29.0</td>\n",
       "      <td>4.0</td>\n",
       "      <td>35.0</td>\n",
       "    </tr>\n",
       "    <tr>\n",
       "      <th>667953</th>\n",
       "      <td>OSCAR</td>\n",
       "      <td>2018</td>\n",
       "      <td>2018300N26315</td>\n",
       "      <td>NaN</td>\n",
       "      <td>97</td>\n",
       "      <td>NAM</td>\n",
       "      <td>NaN</td>\n",
       "      <td>OSCAR</td>\n",
       "      <td>2018-10-31 09:00:00</td>\n",
       "      <td>TS</td>\n",
       "      <td>...</td>\n",
       "      <td>2018</td>\n",
       "      <td>10</td>\n",
       "      <td>31</td>\n",
       "      <td>9</td>\n",
       "      <td>0</td>\n",
       "      <td>202.0</td>\n",
       "      <td>75.0</td>\n",
       "      <td>32.0</td>\n",
       "      <td>3.0</td>\n",
       "      <td>36.0</td>\n",
       "    </tr>\n",
       "    <tr>\n",
       "      <th>667954</th>\n",
       "      <td>OSCAR</td>\n",
       "      <td>2018</td>\n",
       "      <td>2018300N26315</td>\n",
       "      <td>NaN</td>\n",
       "      <td>97</td>\n",
       "      <td>NAM</td>\n",
       "      <td>NaN</td>\n",
       "      <td>OSCAR</td>\n",
       "      <td>2018-10-31 12:00:00</td>\n",
       "      <td>TS</td>\n",
       "      <td>...</td>\n",
       "      <td>2018</td>\n",
       "      <td>10</td>\n",
       "      <td>31</td>\n",
       "      <td>12</td>\n",
       "      <td>0</td>\n",
       "      <td>277.0</td>\n",
       "      <td>81.0</td>\n",
       "      <td>35.0</td>\n",
       "      <td>2.0</td>\n",
       "      <td>37.0</td>\n",
       "    </tr>\n",
       "    <tr>\n",
       "      <th>667955</th>\n",
       "      <td>OSCAR</td>\n",
       "      <td>2018</td>\n",
       "      <td>2018300N26315</td>\n",
       "      <td>NaN</td>\n",
       "      <td>97</td>\n",
       "      <td>NAM</td>\n",
       "      <td>NaN</td>\n",
       "      <td>OSCAR</td>\n",
       "      <td>2018-10-31 15:00:00</td>\n",
       "      <td>TS</td>\n",
       "      <td>...</td>\n",
       "      <td>2018</td>\n",
       "      <td>10</td>\n",
       "      <td>31</td>\n",
       "      <td>15</td>\n",
       "      <td>0</td>\n",
       "      <td>277.0</td>\n",
       "      <td>98.0</td>\n",
       "      <td>35.0</td>\n",
       "      <td>1.0</td>\n",
       "      <td>38.0</td>\n",
       "    </tr>\n",
       "  </tbody>\n",
       "</table>\n",
       "<p>17093 rows × 30 columns</p>\n",
       "</div>"
      ],
      "text/plain": [
       "         NAME  SEASON            SID  WMO_PRES_delta  NUMBER BASIN SUBBASIN  \\\n",
       "495848   FRAN    1992  1992064S10184             NaN      23    SP       EA   \n",
       "495849   FRAN    1992  1992064S10184             NaN      23    SP       EA   \n",
       "495850   FRAN    1992  1992064S10184             NaN      23    SP       EA   \n",
       "495851   FRAN    1992  1992064S10184             NaN      23    SP       EA   \n",
       "495852   FRAN    1992  1992064S10184             NaN      23    SP       EA   \n",
       "...       ...     ...            ...             ...     ...   ...      ...   \n",
       "667951  OSCAR    2018  2018300N26315             NaN      97   NAM      NaN   \n",
       "667952  OSCAR    2018  2018300N26315             NaN      97   NAM      NaN   \n",
       "667953  OSCAR    2018  2018300N26315             NaN      97   NAM      NaN   \n",
       "667954  OSCAR    2018  2018300N26315             NaN      97   NAM      NaN   \n",
       "667955  OSCAR    2018  2018300N26315             NaN      97   NAM      NaN   \n",
       "\n",
       "         NAME            ISO_TIME NATURE  ...  year  month  day  hour min  \\\n",
       "495848   FRAN 1992-03-13 12:00:00     TS  ...  1992      3   13    12   0   \n",
       "495849   FRAN 1992-03-13 15:00:00     TS  ...  1992      3   13    15   0   \n",
       "495850   FRAN 1992-03-13 18:00:00     TS  ...  1992      3   13    18   0   \n",
       "495851   FRAN 1992-03-13 21:00:00     TS  ...  1992      3   13    21   0   \n",
       "495852   FRAN 1992-03-14 00:00:00     TS  ...  1992      3   14     0   0   \n",
       "...       ...                 ...    ...  ...   ...    ...  ...   ...  ..   \n",
       "667951  OSCAR 2018-10-31 03:00:00     TS  ...  2018     10   31     3   0   \n",
       "667952  OSCAR 2018-10-31 06:00:00     TS  ...  2018     10   31     6   0   \n",
       "667953  OSCAR 2018-10-31 09:00:00     TS  ...  2018     10   31     9   0   \n",
       "667954  OSCAR 2018-10-31 12:00:00     TS  ...  2018     10   31    12   0   \n",
       "667955  OSCAR 2018-10-31 15:00:00     TS  ...  2018     10   31    15   0   \n",
       "\n",
       "        max_34  max_50  max_64  rank  rank_1  \n",
       "495848     NaN     NaN    70.0  60.0    77.0  \n",
       "495849     NaN     NaN    70.0  59.0    78.0  \n",
       "495850     NaN     NaN    70.0  58.0    79.0  \n",
       "495851     NaN     NaN    60.0  57.0    80.0  \n",
       "495852     NaN     NaN    50.0  56.0    81.0  \n",
       "...        ...     ...     ...   ...     ...  \n",
       "667951   150.0    69.0    29.0   5.0    34.0  \n",
       "667952   150.0    69.0    29.0   4.0    35.0  \n",
       "667953   202.0    75.0    32.0   3.0    36.0  \n",
       "667954   277.0    81.0    35.0   2.0    37.0  \n",
       "667955   277.0    98.0    35.0   1.0    38.0  \n",
       "\n",
       "[17093 rows x 30 columns]"
      ]
     },
     "execution_count": 69,
     "metadata": {},
     "output_type": "execute_result"
    }
   ],
   "source": [
    "ib"
   ]
  },
  {
   "cell_type": "code",
   "execution_count": 70,
   "metadata": {
    "colab": {},
    "colab_type": "code",
    "id": "Fsf8N3898a0I"
   },
   "outputs": [],
   "source": [
    "# Code modified by Raghuram on 6th April to fill the missing values with median\n",
    "cols = ['WMO_WIND','WMO_PRES']\n",
    "ib[cols] = ib.groupby('SID')[cols].ffill().fillna(ib[cols].median()).astype(int)"
   ]
  },
  {
   "cell_type": "code",
   "execution_count": 71,
   "metadata": {
    "colab": {},
    "colab_type": "code",
    "id": "_SI4hpXHn9nE"
   },
   "outputs": [],
   "source": [
    "#ib['RMW_1'] = ib.groupby(['SID'])['RMW'].shift(-1)"
   ]
  },
  {
   "cell_type": "code",
   "execution_count": 72,
   "metadata": {
    "colab": {},
    "colab_type": "code",
    "id": "AtI3nrwglZk1"
   },
   "outputs": [],
   "source": [
    "# Code modified by Raghuram on 6th April to fill the missing values with median\n",
    "cols_winds = ['max_34','max_50','max_64', 'dist']     \n",
    "ib[cols] = ib.groupby('SID')[cols].ffill().fillna(ib[cols].median()).astype(int)"
   ]
  },
  {
   "cell_type": "code",
   "execution_count": 73,
   "metadata": {},
   "outputs": [
    {
     "data": {
      "text/html": [
       "<div>\n",
       "<style scoped>\n",
       "    .dataframe tbody tr th:only-of-type {\n",
       "        vertical-align: middle;\n",
       "    }\n",
       "\n",
       "    .dataframe tbody tr th {\n",
       "        vertical-align: top;\n",
       "    }\n",
       "\n",
       "    .dataframe thead th {\n",
       "        text-align: right;\n",
       "    }\n",
       "</style>\n",
       "<table border=\"1\" class=\"dataframe\">\n",
       "  <thead>\n",
       "    <tr style=\"text-align: right;\">\n",
       "      <th></th>\n",
       "      <th>NAME</th>\n",
       "      <th>SEASON</th>\n",
       "      <th>SID</th>\n",
       "      <th>WMO_PRES_delta</th>\n",
       "      <th>NUMBER</th>\n",
       "      <th>BASIN</th>\n",
       "      <th>SUBBASIN</th>\n",
       "      <th>NAME</th>\n",
       "      <th>ISO_TIME</th>\n",
       "      <th>NATURE</th>\n",
       "      <th>...</th>\n",
       "      <th>year</th>\n",
       "      <th>month</th>\n",
       "      <th>day</th>\n",
       "      <th>hour</th>\n",
       "      <th>min</th>\n",
       "      <th>max_34</th>\n",
       "      <th>max_50</th>\n",
       "      <th>max_64</th>\n",
       "      <th>rank</th>\n",
       "      <th>rank_1</th>\n",
       "    </tr>\n",
       "  </thead>\n",
       "  <tbody>\n",
       "    <tr>\n",
       "      <th>495848</th>\n",
       "      <td>FRAN</td>\n",
       "      <td>1992</td>\n",
       "      <td>1992064S10184</td>\n",
       "      <td>NaN</td>\n",
       "      <td>23</td>\n",
       "      <td>SP</td>\n",
       "      <td>EA</td>\n",
       "      <td>FRAN</td>\n",
       "      <td>1992-03-13 12:00:00</td>\n",
       "      <td>TS</td>\n",
       "      <td>...</td>\n",
       "      <td>1992</td>\n",
       "      <td>3</td>\n",
       "      <td>13</td>\n",
       "      <td>12</td>\n",
       "      <td>0</td>\n",
       "      <td>NaN</td>\n",
       "      <td>NaN</td>\n",
       "      <td>70.0</td>\n",
       "      <td>60.0</td>\n",
       "      <td>77.0</td>\n",
       "    </tr>\n",
       "    <tr>\n",
       "      <th>495849</th>\n",
       "      <td>FRAN</td>\n",
       "      <td>1992</td>\n",
       "      <td>1992064S10184</td>\n",
       "      <td>NaN</td>\n",
       "      <td>23</td>\n",
       "      <td>SP</td>\n",
       "      <td>EA</td>\n",
       "      <td>FRAN</td>\n",
       "      <td>1992-03-13 15:00:00</td>\n",
       "      <td>TS</td>\n",
       "      <td>...</td>\n",
       "      <td>1992</td>\n",
       "      <td>3</td>\n",
       "      <td>13</td>\n",
       "      <td>15</td>\n",
       "      <td>0</td>\n",
       "      <td>NaN</td>\n",
       "      <td>NaN</td>\n",
       "      <td>70.0</td>\n",
       "      <td>59.0</td>\n",
       "      <td>78.0</td>\n",
       "    </tr>\n",
       "    <tr>\n",
       "      <th>495850</th>\n",
       "      <td>FRAN</td>\n",
       "      <td>1992</td>\n",
       "      <td>1992064S10184</td>\n",
       "      <td>NaN</td>\n",
       "      <td>23</td>\n",
       "      <td>SP</td>\n",
       "      <td>EA</td>\n",
       "      <td>FRAN</td>\n",
       "      <td>1992-03-13 18:00:00</td>\n",
       "      <td>TS</td>\n",
       "      <td>...</td>\n",
       "      <td>1992</td>\n",
       "      <td>3</td>\n",
       "      <td>13</td>\n",
       "      <td>18</td>\n",
       "      <td>0</td>\n",
       "      <td>NaN</td>\n",
       "      <td>NaN</td>\n",
       "      <td>70.0</td>\n",
       "      <td>58.0</td>\n",
       "      <td>79.0</td>\n",
       "    </tr>\n",
       "    <tr>\n",
       "      <th>495851</th>\n",
       "      <td>FRAN</td>\n",
       "      <td>1992</td>\n",
       "      <td>1992064S10184</td>\n",
       "      <td>NaN</td>\n",
       "      <td>23</td>\n",
       "      <td>SP</td>\n",
       "      <td>EA</td>\n",
       "      <td>FRAN</td>\n",
       "      <td>1992-03-13 21:00:00</td>\n",
       "      <td>TS</td>\n",
       "      <td>...</td>\n",
       "      <td>1992</td>\n",
       "      <td>3</td>\n",
       "      <td>13</td>\n",
       "      <td>21</td>\n",
       "      <td>0</td>\n",
       "      <td>NaN</td>\n",
       "      <td>NaN</td>\n",
       "      <td>60.0</td>\n",
       "      <td>57.0</td>\n",
       "      <td>80.0</td>\n",
       "    </tr>\n",
       "    <tr>\n",
       "      <th>495852</th>\n",
       "      <td>FRAN</td>\n",
       "      <td>1992</td>\n",
       "      <td>1992064S10184</td>\n",
       "      <td>NaN</td>\n",
       "      <td>23</td>\n",
       "      <td>SP</td>\n",
       "      <td>EA</td>\n",
       "      <td>FRAN</td>\n",
       "      <td>1992-03-14 00:00:00</td>\n",
       "      <td>TS</td>\n",
       "      <td>...</td>\n",
       "      <td>1992</td>\n",
       "      <td>3</td>\n",
       "      <td>14</td>\n",
       "      <td>0</td>\n",
       "      <td>0</td>\n",
       "      <td>NaN</td>\n",
       "      <td>NaN</td>\n",
       "      <td>50.0</td>\n",
       "      <td>56.0</td>\n",
       "      <td>81.0</td>\n",
       "    </tr>\n",
       "    <tr>\n",
       "      <th>...</th>\n",
       "      <td>...</td>\n",
       "      <td>...</td>\n",
       "      <td>...</td>\n",
       "      <td>...</td>\n",
       "      <td>...</td>\n",
       "      <td>...</td>\n",
       "      <td>...</td>\n",
       "      <td>...</td>\n",
       "      <td>...</td>\n",
       "      <td>...</td>\n",
       "      <td>...</td>\n",
       "      <td>...</td>\n",
       "      <td>...</td>\n",
       "      <td>...</td>\n",
       "      <td>...</td>\n",
       "      <td>...</td>\n",
       "      <td>...</td>\n",
       "      <td>...</td>\n",
       "      <td>...</td>\n",
       "      <td>...</td>\n",
       "      <td>...</td>\n",
       "    </tr>\n",
       "    <tr>\n",
       "      <th>667951</th>\n",
       "      <td>OSCAR</td>\n",
       "      <td>2018</td>\n",
       "      <td>2018300N26315</td>\n",
       "      <td>NaN</td>\n",
       "      <td>97</td>\n",
       "      <td>NAM</td>\n",
       "      <td>NaN</td>\n",
       "      <td>OSCAR</td>\n",
       "      <td>2018-10-31 03:00:00</td>\n",
       "      <td>TS</td>\n",
       "      <td>...</td>\n",
       "      <td>2018</td>\n",
       "      <td>10</td>\n",
       "      <td>31</td>\n",
       "      <td>3</td>\n",
       "      <td>0</td>\n",
       "      <td>150.0</td>\n",
       "      <td>69.0</td>\n",
       "      <td>29.0</td>\n",
       "      <td>5.0</td>\n",
       "      <td>34.0</td>\n",
       "    </tr>\n",
       "    <tr>\n",
       "      <th>667952</th>\n",
       "      <td>OSCAR</td>\n",
       "      <td>2018</td>\n",
       "      <td>2018300N26315</td>\n",
       "      <td>NaN</td>\n",
       "      <td>97</td>\n",
       "      <td>NAM</td>\n",
       "      <td>NaN</td>\n",
       "      <td>OSCAR</td>\n",
       "      <td>2018-10-31 06:00:00</td>\n",
       "      <td>TS</td>\n",
       "      <td>...</td>\n",
       "      <td>2018</td>\n",
       "      <td>10</td>\n",
       "      <td>31</td>\n",
       "      <td>6</td>\n",
       "      <td>0</td>\n",
       "      <td>150.0</td>\n",
       "      <td>69.0</td>\n",
       "      <td>29.0</td>\n",
       "      <td>4.0</td>\n",
       "      <td>35.0</td>\n",
       "    </tr>\n",
       "    <tr>\n",
       "      <th>667953</th>\n",
       "      <td>OSCAR</td>\n",
       "      <td>2018</td>\n",
       "      <td>2018300N26315</td>\n",
       "      <td>NaN</td>\n",
       "      <td>97</td>\n",
       "      <td>NAM</td>\n",
       "      <td>NaN</td>\n",
       "      <td>OSCAR</td>\n",
       "      <td>2018-10-31 09:00:00</td>\n",
       "      <td>TS</td>\n",
       "      <td>...</td>\n",
       "      <td>2018</td>\n",
       "      <td>10</td>\n",
       "      <td>31</td>\n",
       "      <td>9</td>\n",
       "      <td>0</td>\n",
       "      <td>202.0</td>\n",
       "      <td>75.0</td>\n",
       "      <td>32.0</td>\n",
       "      <td>3.0</td>\n",
       "      <td>36.0</td>\n",
       "    </tr>\n",
       "    <tr>\n",
       "      <th>667954</th>\n",
       "      <td>OSCAR</td>\n",
       "      <td>2018</td>\n",
       "      <td>2018300N26315</td>\n",
       "      <td>NaN</td>\n",
       "      <td>97</td>\n",
       "      <td>NAM</td>\n",
       "      <td>NaN</td>\n",
       "      <td>OSCAR</td>\n",
       "      <td>2018-10-31 12:00:00</td>\n",
       "      <td>TS</td>\n",
       "      <td>...</td>\n",
       "      <td>2018</td>\n",
       "      <td>10</td>\n",
       "      <td>31</td>\n",
       "      <td>12</td>\n",
       "      <td>0</td>\n",
       "      <td>277.0</td>\n",
       "      <td>81.0</td>\n",
       "      <td>35.0</td>\n",
       "      <td>2.0</td>\n",
       "      <td>37.0</td>\n",
       "    </tr>\n",
       "    <tr>\n",
       "      <th>667955</th>\n",
       "      <td>OSCAR</td>\n",
       "      <td>2018</td>\n",
       "      <td>2018300N26315</td>\n",
       "      <td>NaN</td>\n",
       "      <td>97</td>\n",
       "      <td>NAM</td>\n",
       "      <td>NaN</td>\n",
       "      <td>OSCAR</td>\n",
       "      <td>2018-10-31 15:00:00</td>\n",
       "      <td>TS</td>\n",
       "      <td>...</td>\n",
       "      <td>2018</td>\n",
       "      <td>10</td>\n",
       "      <td>31</td>\n",
       "      <td>15</td>\n",
       "      <td>0</td>\n",
       "      <td>277.0</td>\n",
       "      <td>98.0</td>\n",
       "      <td>35.0</td>\n",
       "      <td>1.0</td>\n",
       "      <td>38.0</td>\n",
       "    </tr>\n",
       "  </tbody>\n",
       "</table>\n",
       "<p>17093 rows × 30 columns</p>\n",
       "</div>"
      ],
      "text/plain": [
       "         NAME  SEASON            SID  WMO_PRES_delta  NUMBER BASIN SUBBASIN  \\\n",
       "495848   FRAN    1992  1992064S10184             NaN      23    SP       EA   \n",
       "495849   FRAN    1992  1992064S10184             NaN      23    SP       EA   \n",
       "495850   FRAN    1992  1992064S10184             NaN      23    SP       EA   \n",
       "495851   FRAN    1992  1992064S10184             NaN      23    SP       EA   \n",
       "495852   FRAN    1992  1992064S10184             NaN      23    SP       EA   \n",
       "...       ...     ...            ...             ...     ...   ...      ...   \n",
       "667951  OSCAR    2018  2018300N26315             NaN      97   NAM      NaN   \n",
       "667952  OSCAR    2018  2018300N26315             NaN      97   NAM      NaN   \n",
       "667953  OSCAR    2018  2018300N26315             NaN      97   NAM      NaN   \n",
       "667954  OSCAR    2018  2018300N26315             NaN      97   NAM      NaN   \n",
       "667955  OSCAR    2018  2018300N26315             NaN      97   NAM      NaN   \n",
       "\n",
       "         NAME            ISO_TIME NATURE  ...  year  month  day  hour min  \\\n",
       "495848   FRAN 1992-03-13 12:00:00     TS  ...  1992      3   13    12   0   \n",
       "495849   FRAN 1992-03-13 15:00:00     TS  ...  1992      3   13    15   0   \n",
       "495850   FRAN 1992-03-13 18:00:00     TS  ...  1992      3   13    18   0   \n",
       "495851   FRAN 1992-03-13 21:00:00     TS  ...  1992      3   13    21   0   \n",
       "495852   FRAN 1992-03-14 00:00:00     TS  ...  1992      3   14     0   0   \n",
       "...       ...                 ...    ...  ...   ...    ...  ...   ...  ..   \n",
       "667951  OSCAR 2018-10-31 03:00:00     TS  ...  2018     10   31     3   0   \n",
       "667952  OSCAR 2018-10-31 06:00:00     TS  ...  2018     10   31     6   0   \n",
       "667953  OSCAR 2018-10-31 09:00:00     TS  ...  2018     10   31     9   0   \n",
       "667954  OSCAR 2018-10-31 12:00:00     TS  ...  2018     10   31    12   0   \n",
       "667955  OSCAR 2018-10-31 15:00:00     TS  ...  2018     10   31    15   0   \n",
       "\n",
       "        max_34  max_50  max_64  rank  rank_1  \n",
       "495848     NaN     NaN    70.0  60.0    77.0  \n",
       "495849     NaN     NaN    70.0  59.0    78.0  \n",
       "495850     NaN     NaN    70.0  58.0    79.0  \n",
       "495851     NaN     NaN    60.0  57.0    80.0  \n",
       "495852     NaN     NaN    50.0  56.0    81.0  \n",
       "...        ...     ...     ...   ...     ...  \n",
       "667951   150.0    69.0    29.0   5.0    34.0  \n",
       "667952   150.0    69.0    29.0   4.0    35.0  \n",
       "667953   202.0    75.0    32.0   3.0    36.0  \n",
       "667954   277.0    81.0    35.0   2.0    37.0  \n",
       "667955   277.0    98.0    35.0   1.0    38.0  \n",
       "\n",
       "[17093 rows x 30 columns]"
      ]
     },
     "execution_count": 73,
     "metadata": {},
     "output_type": "execute_result"
    }
   ],
   "source": [
    "ib"
   ]
  },
  {
   "cell_type": "code",
   "execution_count": 74,
   "metadata": {
    "colab": {},
    "colab_type": "code",
    "id": "6I8WWkkSEjwo"
   },
   "outputs": [
    {
     "data": {
      "text/plain": [
       "array(['NI', 'SI', 'NAM', 'EP', 'WP', 'SP', 'SA'], dtype=object)"
      ]
     },
     "execution_count": 74,
     "metadata": {},
     "output_type": "execute_result"
    }
   ],
   "source": [
    "df2['BASIN'].unique()"
   ]
  },
  {
   "cell_type": "code",
   "execution_count": null,
   "metadata": {
    "colab": {},
    "colab_type": "code",
    "id": "nf37kz3krUcI"
   },
   "outputs": [],
   "source": []
  },
  {
   "cell_type": "code",
   "execution_count": 75,
   "metadata": {
    "colab": {},
    "colab_type": "code",
    "id": "j9HRYx089BB3"
   },
   "outputs": [
    {
     "name": "stdout",
     "output_type": "stream",
     "text": [
      "<class 'pandas.core.frame.DataFrame'>\n",
      "Int64Index: 17093 entries, 495848 to 667955\n",
      "Data columns (total 30 columns):\n",
      " #   Column          Non-Null Count  Dtype         \n",
      "---  ------          --------------  -----         \n",
      " 0   NAME            17093 non-null  object        \n",
      " 1   SEASON          17093 non-null  int64         \n",
      " 2   SID             17093 non-null  object        \n",
      " 3   WMO_PRES_delta  1975 non-null   float64       \n",
      " 4   NUMBER          17093 non-null  int64         \n",
      " 5   BASIN           17093 non-null  object        \n",
      " 6   SUBBASIN        14043 non-null  object        \n",
      " 7   NAME            17093 non-null  object        \n",
      " 8   ISO_TIME        17093 non-null  datetime64[ns]\n",
      " 9   NATURE          17093 non-null  object        \n",
      " 10  LAT             17093 non-null  float64       \n",
      " 11  LON             17093 non-null  float64       \n",
      " 12  WMO_WIND        17093 non-null  int64         \n",
      " 13  WMO_PRES        17093 non-null  int64         \n",
      " 14  TRACK_TYPE      17093 non-null  object        \n",
      " 15  DIST2LAND       17093 non-null  int64         \n",
      " 16  LANDFALL        17093 non-null  int64         \n",
      " 17  STORM_SPD       17093 non-null  int64         \n",
      " 18  dist            17090 non-null  float64       \n",
      " 19  STORM_DR        17093 non-null  int64         \n",
      " 20  year            17093 non-null  int64         \n",
      " 21  month           17093 non-null  int64         \n",
      " 22  day             17093 non-null  int64         \n",
      " 23  hour            17093 non-null  int64         \n",
      " 24  min             17093 non-null  int64         \n",
      " 25  max_34          17088 non-null  float64       \n",
      " 26  max_50          17085 non-null  float64       \n",
      " 27  max_64          17093 non-null  float64       \n",
      " 28  rank            17093 non-null  float64       \n",
      " 29  rank_1          17093 non-null  float64       \n",
      "dtypes: datetime64[ns](1), float64(9), int64(13), object(7)\n",
      "memory usage: 4.0+ MB\n"
     ]
    }
   ],
   "source": [
    "ib.info()"
   ]
  },
  {
   "cell_type": "code",
   "execution_count": 76,
   "metadata": {
    "colab": {},
    "colab_type": "code",
    "id": "xdoEfvKtz_CL"
   },
   "outputs": [
    {
     "data": {
      "text/plain": [
       "1921"
      ]
     },
     "execution_count": 76,
     "metadata": {},
     "output_type": "execute_result"
    }
   ],
   "source": [
    "len(ib.dropna())"
   ]
  },
  {
   "cell_type": "code",
   "execution_count": 77,
   "metadata": {
    "colab": {},
    "colab_type": "code",
    "id": "pN9WuLNwdGWr"
   },
   "outputs": [],
   "source": [
    "ib = pd.get_dummies(ib, columns=['BASIN'])"
   ]
  },
  {
   "cell_type": "code",
   "execution_count": 78,
   "metadata": {
    "colab": {},
    "colab_type": "code",
    "id": "M_vs7BpAdNMb"
   },
   "outputs": [],
   "source": [
    "ib = pd.get_dummies(ib, columns=['month']) "
   ]
  },
  {
   "cell_type": "code",
   "execution_count": 79,
   "metadata": {},
   "outputs": [],
   "source": [
    "ib['dist'] = ib['dist'].fillna(method = 'ffill')"
   ]
  },
  {
   "cell_type": "code",
   "execution_count": 80,
   "metadata": {
    "colab": {},
    "colab_type": "code",
    "id": "SQmsem0tZa4m"
   },
   "outputs": [],
   "source": [
    "import numpy as np\n",
    "from sklearn.model_selection import train_test_split\n",
    "column_names = ['LAT','LON','WMO_WIND','WMO_PRES','DIST2LAND','LANDFALL','STORM_SPD',\t\n",
    "                'STORM_DR', 'dist',\t\n",
    "                'month_1',\t'month_2',\t'month_3',\t'month_4',\t'month_5',\t'month_6',\n",
    "                'month_7',\t'month_8',\t'month_9',\t'month_10',\t'month_11',\t'month_12',\n",
    "                'rank', 'rank_1',\n",
    "                'BASIN_EP','BASIN_NI','BASIN_SI','BASIN_SP','BASIN_WP']\n",
    "X = ib[column_names]\n",
    "y = ib['max_64']\n",
    "X_train, X_test, y_train, y_test = train_test_split(X, y, test_size=0.33, random_state=42)\n",
    "\n"
   ]
  },
  {
   "cell_type": "code",
   "execution_count": null,
   "metadata": {},
   "outputs": [],
   "source": []
  },
  {
   "cell_type": "code",
   "execution_count": 81,
   "metadata": {
    "colab": {},
    "colab_type": "code",
    "id": "qDQNNfTdaTdC"
   },
   "outputs": [
    {
     "data": {
      "text/plain": [
       "LinearRegression(copy_X=True, fit_intercept=True, n_jobs=None, normalize=False)"
      ]
     },
     "execution_count": 81,
     "metadata": {},
     "output_type": "execute_result"
    }
   ],
   "source": [
    "from sklearn.linear_model import LinearRegression\n",
    "model = LinearRegression()\n",
    "#model.fit(X, y)\n",
    "# Code modified by Raghuram on 6th April to avoid data leakage\n",
    "model.fit(X_train, y_train)\n"
   ]
  },
  {
   "cell_type": "code",
   "execution_count": 82,
   "metadata": {
    "colab": {},
    "colab_type": "code",
    "id": "y0nxnMAqbuw-"
   },
   "outputs": [],
   "source": [
    "y_pred = model.predict(X_test)"
   ]
  },
  {
   "cell_type": "code",
   "execution_count": null,
   "metadata": {
    "colab": {},
    "colab_type": "code",
    "id": "M_K4U4j3RjsF"
   },
   "outputs": [],
   "source": []
  },
  {
   "cell_type": "code",
   "execution_count": 83,
   "metadata": {
    "colab": {},
    "colab_type": "code",
    "id": "JsAQCPwXpL5Z"
   },
   "outputs": [
    {
     "name": "stdout",
     "output_type": "stream",
     "text": [
      "Mean Absolute Error: 11.31032827323686\n",
      "Mean Squared Error: 280.5023115984718\n",
      "Root Mean Squared Error: 16.74820323492857\n"
     ]
    }
   ],
   "source": [
    "from sklearn.metrics import accuracy_score\n",
    "from sklearn.metrics import mean_squared_error\n",
    "from sklearn.metrics import mean_absolute_error\n",
    "print('Mean Absolute Error:', mean_absolute_error(y_test, y_pred))  \n",
    "print('Mean Squared Error:', mean_squared_error(y_test, y_pred))  \n",
    "print('Root Mean Squared Error:', np.sqrt(mean_squared_error(y_test, y_pred)))"
   ]
  },
  {
   "cell_type": "code",
   "execution_count": 84,
   "metadata": {
    "colab": {},
    "colab_type": "code",
    "id": "Ank10_Qcb5Jn"
   },
   "outputs": [],
   "source": [
    "df66 = pd.DataFrame({'Actual': y_test, 'Predicted': y_pred})\n",
    "df68 = df66.head(25)"
   ]
  },
  {
   "cell_type": "code",
   "execution_count": 85,
   "metadata": {
    "colab": {},
    "colab_type": "code",
    "id": "5RpnAPA1cHVU"
   },
   "outputs": [
    {
     "data": {
      "text/html": [
       "<div>\n",
       "<style scoped>\n",
       "    .dataframe tbody tr th:only-of-type {\n",
       "        vertical-align: middle;\n",
       "    }\n",
       "\n",
       "    .dataframe tbody tr th {\n",
       "        vertical-align: top;\n",
       "    }\n",
       "\n",
       "    .dataframe thead th {\n",
       "        text-align: right;\n",
       "    }\n",
       "</style>\n",
       "<table border=\"1\" class=\"dataframe\">\n",
       "  <thead>\n",
       "    <tr style=\"text-align: right;\">\n",
       "      <th></th>\n",
       "      <th>Actual</th>\n",
       "      <th>Predicted</th>\n",
       "    </tr>\n",
       "  </thead>\n",
       "  <tbody>\n",
       "    <tr>\n",
       "      <th>636527</th>\n",
       "      <td>30.0</td>\n",
       "      <td>30.987662</td>\n",
       "    </tr>\n",
       "    <tr>\n",
       "      <th>646984</th>\n",
       "      <td>30.0</td>\n",
       "      <td>26.701166</td>\n",
       "    </tr>\n",
       "    <tr>\n",
       "      <th>597792</th>\n",
       "      <td>25.0</td>\n",
       "      <td>27.102476</td>\n",
       "    </tr>\n",
       "    <tr>\n",
       "      <th>626752</th>\n",
       "      <td>25.0</td>\n",
       "      <td>25.846843</td>\n",
       "    </tr>\n",
       "    <tr>\n",
       "      <th>651230</th>\n",
       "      <td>40.0</td>\n",
       "      <td>42.198704</td>\n",
       "    </tr>\n",
       "    <tr>\n",
       "      <th>...</th>\n",
       "      <td>...</td>\n",
       "      <td>...</td>\n",
       "    </tr>\n",
       "    <tr>\n",
       "      <th>653398</th>\n",
       "      <td>30.0</td>\n",
       "      <td>28.822999</td>\n",
       "    </tr>\n",
       "    <tr>\n",
       "      <th>662619</th>\n",
       "      <td>95.0</td>\n",
       "      <td>47.674723</td>\n",
       "    </tr>\n",
       "    <tr>\n",
       "      <th>649762</th>\n",
       "      <td>40.0</td>\n",
       "      <td>31.375833</td>\n",
       "    </tr>\n",
       "    <tr>\n",
       "      <th>639083</th>\n",
       "      <td>35.0</td>\n",
       "      <td>31.565439</td>\n",
       "    </tr>\n",
       "    <tr>\n",
       "      <th>590587</th>\n",
       "      <td>10.0</td>\n",
       "      <td>38.228076</td>\n",
       "    </tr>\n",
       "  </tbody>\n",
       "</table>\n",
       "<p>5641 rows × 2 columns</p>\n",
       "</div>"
      ],
      "text/plain": [
       "        Actual  Predicted\n",
       "636527    30.0  30.987662\n",
       "646984    30.0  26.701166\n",
       "597792    25.0  27.102476\n",
       "626752    25.0  25.846843\n",
       "651230    40.0  42.198704\n",
       "...        ...        ...\n",
       "653398    30.0  28.822999\n",
       "662619    95.0  47.674723\n",
       "649762    40.0  31.375833\n",
       "639083    35.0  31.565439\n",
       "590587    10.0  38.228076\n",
       "\n",
       "[5641 rows x 2 columns]"
      ]
     },
     "execution_count": 85,
     "metadata": {},
     "output_type": "execute_result"
    }
   ],
   "source": [
    "df66"
   ]
  },
  {
   "cell_type": "markdown",
   "metadata": {
    "colab_type": "text",
    "id": "7RI_zUOPqiRE"
   },
   "source": [
    "### Model - Random Forest Regressor"
   ]
  },
  {
   "cell_type": "code",
   "execution_count": 86,
   "metadata": {
    "colab": {},
    "colab_type": "code",
    "id": "IHAbt6x0qwc7"
   },
   "outputs": [
    {
     "data": {
      "text/plain": [
       "RandomForestRegressor(bootstrap=True, ccp_alpha=0.0, criterion='mse',\n",
       "                      max_depth=None, max_features='auto', max_leaf_nodes=None,\n",
       "                      max_samples=None, min_impurity_decrease=0.0,\n",
       "                      min_impurity_split=None, min_samples_leaf=1,\n",
       "                      min_samples_split=2, min_weight_fraction_leaf=0.0,\n",
       "                      n_estimators=60, n_jobs=None, oob_score=False,\n",
       "                      random_state=0, verbose=0, warm_start=False)"
      ]
     },
     "execution_count": 86,
     "metadata": {},
     "output_type": "execute_result"
    }
   ],
   "source": [
    "# Code for 'Model - Random Forest Regressor' added by Raghuram on 6th April 2020\n",
    "from sklearn.ensemble import RandomForestRegressor\n",
    "\n",
    "model2 = RandomForestRegressor(n_estimators = 60, random_state = 0)\n",
    "model2.fit(X_train, y_train)"
   ]
  },
  {
   "cell_type": "code",
   "execution_count": 87,
   "metadata": {
    "colab": {},
    "colab_type": "code",
    "id": "0QpmDAbmq4-i"
   },
   "outputs": [],
   "source": [
    "y_pred = model2.predict(X_test)"
   ]
  },
  {
   "cell_type": "code",
   "execution_count": 88,
   "metadata": {
    "colab": {},
    "colab_type": "code",
    "id": "3PspDkZ1q_wq"
   },
   "outputs": [
    {
     "name": "stdout",
     "output_type": "stream",
     "text": [
      "Mean Absolute Error: 4.594932931513325\n",
      "Mean Squared Error: 57.20207818747661\n",
      "Root Mean Squared Error: 7.5632055497306565\n"
     ]
    }
   ],
   "source": [
    "print('Mean Absolute Error:', mean_absolute_error(y_test, y_pred))  \n",
    "print('Mean Squared Error:', mean_squared_error(y_test, y_pred))  \n",
    "print('Root Mean Squared Error:', np.sqrt(mean_squared_error(y_test, y_pred)))"
   ]
  },
  {
   "cell_type": "markdown",
   "metadata": {
    "colab_type": "text",
    "id": "ndD7akKH-Kpw"
   },
   "source": [
    "**Observation**: With this RandomForestRegressor model, MAE reduced from 51 to 20.9 and RMSE reduced from 215 to 104 when compared with Linear Regression model."
   ]
  },
  {
   "cell_type": "code",
   "execution_count": null,
   "metadata": {
    "colab": {},
    "colab_type": "code",
    "id": "SV2dsWXv4ofI"
   },
   "outputs": [],
   "source": []
  },
  {
   "cell_type": "code",
   "execution_count": 89,
   "metadata": {
    "colab": {},
    "colab_type": "code",
    "id": "mwPqMfonrOsc"
   },
   "outputs": [
    {
     "data": {
      "text/html": [
       "<div>\n",
       "<style scoped>\n",
       "    .dataframe tbody tr th:only-of-type {\n",
       "        vertical-align: middle;\n",
       "    }\n",
       "\n",
       "    .dataframe tbody tr th {\n",
       "        vertical-align: top;\n",
       "    }\n",
       "\n",
       "    .dataframe thead th {\n",
       "        text-align: right;\n",
       "    }\n",
       "</style>\n",
       "<table border=\"1\" class=\"dataframe\">\n",
       "  <thead>\n",
       "    <tr style=\"text-align: right;\">\n",
       "      <th></th>\n",
       "      <th>Actual</th>\n",
       "      <th>Predicted</th>\n",
       "    </tr>\n",
       "  </thead>\n",
       "  <tbody>\n",
       "    <tr>\n",
       "      <th>636527</th>\n",
       "      <td>30.0</td>\n",
       "      <td>22.533333</td>\n",
       "    </tr>\n",
       "    <tr>\n",
       "      <th>646984</th>\n",
       "      <td>30.0</td>\n",
       "      <td>31.616667</td>\n",
       "    </tr>\n",
       "    <tr>\n",
       "      <th>597792</th>\n",
       "      <td>25.0</td>\n",
       "      <td>33.633333</td>\n",
       "    </tr>\n",
       "    <tr>\n",
       "      <th>626752</th>\n",
       "      <td>25.0</td>\n",
       "      <td>21.566667</td>\n",
       "    </tr>\n",
       "    <tr>\n",
       "      <th>651230</th>\n",
       "      <td>40.0</td>\n",
       "      <td>40.433333</td>\n",
       "    </tr>\n",
       "    <tr>\n",
       "      <th>...</th>\n",
       "      <td>...</td>\n",
       "      <td>...</td>\n",
       "    </tr>\n",
       "    <tr>\n",
       "      <th>643641</th>\n",
       "      <td>20.0</td>\n",
       "      <td>21.433333</td>\n",
       "    </tr>\n",
       "    <tr>\n",
       "      <th>634035</th>\n",
       "      <td>40.0</td>\n",
       "      <td>31.833333</td>\n",
       "    </tr>\n",
       "    <tr>\n",
       "      <th>612694</th>\n",
       "      <td>32.0</td>\n",
       "      <td>28.800000</td>\n",
       "    </tr>\n",
       "    <tr>\n",
       "      <th>606902</th>\n",
       "      <td>40.0</td>\n",
       "      <td>46.616667</td>\n",
       "    </tr>\n",
       "    <tr>\n",
       "      <th>623813</th>\n",
       "      <td>22.0</td>\n",
       "      <td>21.216667</td>\n",
       "    </tr>\n",
       "  </tbody>\n",
       "</table>\n",
       "<p>125 rows × 2 columns</p>\n",
       "</div>"
      ],
      "text/plain": [
       "        Actual  Predicted\n",
       "636527    30.0  22.533333\n",
       "646984    30.0  31.616667\n",
       "597792    25.0  33.633333\n",
       "626752    25.0  21.566667\n",
       "651230    40.0  40.433333\n",
       "...        ...        ...\n",
       "643641    20.0  21.433333\n",
       "634035    40.0  31.833333\n",
       "612694    32.0  28.800000\n",
       "606902    40.0  46.616667\n",
       "623813    22.0  21.216667\n",
       "\n",
       "[125 rows x 2 columns]"
      ]
     },
     "execution_count": 89,
     "metadata": {},
     "output_type": "execute_result"
    }
   ],
   "source": [
    "df_rf = pd.DataFrame({'Actual': y_test, 'Predicted': y_pred})\n",
    "df_rf.head(125)"
   ]
  },
  {
   "cell_type": "code",
   "execution_count": 90,
   "metadata": {
    "colab": {},
    "colab_type": "code",
    "id": "zJk4jc1Vs3Ft"
   },
   "outputs": [
    {
     "name": "stdout",
     "output_type": "stream",
     "text": [
      "{'n_estimators': [50, 77, 105, 133, 161, 188, 216, 244, 272, 300], 'max_features': ['auto', 'sqrt'], 'max_depth': [10, 20, 30, 40, 50, 60, 70, 80, 90, 100, 110, None], 'min_samples_split': [2, 5, 10], 'min_samples_leaf': [1, 2, 4], 'bootstrap': [True, False]}\n"
     ]
    }
   ],
   "source": [
    "from sklearn.model_selection import RandomizedSearchCV\n",
    "# Number of trees in random forest\n",
    "n_estimators = [int(x) for x in np.linspace(start = 50, stop = 300, num = 10)]\n",
    "# Number of features to consider at every split\n",
    "max_features = ['auto', 'sqrt']\n",
    "# Maximum number of levels in tree\n",
    "max_depth = [int(x) for x in np.linspace(10, 110, num = 11)]\n",
    "max_depth.append(None)\n",
    "# Minimum number of samples required to split a node\n",
    "min_samples_split = [2, 5, 10]\n",
    "# Minimum number of samples required at each leaf node\n",
    "min_samples_leaf = [1, 2, 4]\n",
    "# Method of selecting samples for training each tree\n",
    "bootstrap = [True, False]\n",
    "# Create the random grid\n",
    "random_grid = {'n_estimators': n_estimators,\n",
    "               'max_features': max_features,\n",
    "               'max_depth': max_depth,\n",
    "               'min_samples_split': min_samples_split,\n",
    "               'min_samples_leaf': min_samples_leaf,\n",
    "               'bootstrap': bootstrap}\n",
    "print(random_grid)"
   ]
  },
  {
   "cell_type": "code",
   "execution_count": 91,
   "metadata": {
    "colab": {},
    "colab_type": "code",
    "id": "b87VhWE35KP0"
   },
   "outputs": [
    {
     "name": "stdout",
     "output_type": "stream",
     "text": [
      "Fitting 3 folds for each of 20 candidates, totalling 60 fits\n"
     ]
    },
    {
     "name": "stderr",
     "output_type": "stream",
     "text": [
      "[Parallel(n_jobs=-1)]: Using backend LokyBackend with 16 concurrent workers.\n",
      "[Parallel(n_jobs=-1)]: Done   9 tasks      | elapsed:    9.3s\n",
      "[Parallel(n_jobs=-1)]: Done  60 out of  60 | elapsed:  2.1min remaining:    0.0s\n",
      "[Parallel(n_jobs=-1)]: Done  60 out of  60 | elapsed:  2.1min finished\n"
     ]
    },
    {
     "data": {
      "text/plain": [
       "RandomizedSearchCV(cv=3, error_score=nan,\n",
       "                   estimator=RandomForestRegressor(bootstrap=True,\n",
       "                                                   ccp_alpha=0.0,\n",
       "                                                   criterion='mse',\n",
       "                                                   max_depth=None,\n",
       "                                                   max_features='auto',\n",
       "                                                   max_leaf_nodes=None,\n",
       "                                                   max_samples=None,\n",
       "                                                   min_impurity_decrease=0.0,\n",
       "                                                   min_impurity_split=None,\n",
       "                                                   min_samples_leaf=1,\n",
       "                                                   min_samples_split=2,\n",
       "                                                   min_weight_fraction_leaf=0.0,\n",
       "                                                   n_estimators=100,\n",
       "                                                   n_jobs=None, oob_score=Fals...\n",
       "                   iid='deprecated', n_iter=20, n_jobs=-1,\n",
       "                   param_distributions={'bootstrap': [True, False],\n",
       "                                        'max_depth': [10, 20, 30, 40, 50, 60,\n",
       "                                                      70, 80, 90, 100, 110,\n",
       "                                                      None],\n",
       "                                        'max_features': ['auto', 'sqrt'],\n",
       "                                        'min_samples_leaf': [1, 2, 4],\n",
       "                                        'min_samples_split': [2, 5, 10],\n",
       "                                        'n_estimators': [50, 77, 105, 133, 161,\n",
       "                                                         188, 216, 244, 272,\n",
       "                                                         300]},\n",
       "                   pre_dispatch='2*n_jobs', random_state=42, refit=True,\n",
       "                   return_train_score=False, scoring=None, verbose=2)"
      ]
     },
     "execution_count": 91,
     "metadata": {},
     "output_type": "execute_result"
    }
   ],
   "source": [
    "# Use the random grid to search for best hyperparameters\n",
    "# First create the base model to tune\n",
    "rf = RandomForestRegressor()\n",
    "# Random search of parameters, using 3 fold cross validation, \n",
    "# search across 100 different combinations, and use all available cores\n",
    "rf_random_2 = RandomizedSearchCV(estimator = rf, param_distributions = random_grid, n_iter = 20, cv = 3, verbose=2, random_state=42, n_jobs = -1)\n",
    "# Fit the random search model\n",
    "rf_random_2.fit(X_train, y_train)"
   ]
  },
  {
   "cell_type": "code",
   "execution_count": 92,
   "metadata": {
    "colab": {},
    "colab_type": "code",
    "id": "XCAiz4xmC4uZ"
   },
   "outputs": [
    {
     "data": {
      "text/plain": [
       "{'n_estimators': 133,\n",
       " 'min_samples_split': 2,\n",
       " 'min_samples_leaf': 1,\n",
       " 'max_features': 'sqrt',\n",
       " 'max_depth': 20,\n",
       " 'bootstrap': False}"
      ]
     },
     "execution_count": 92,
     "metadata": {},
     "output_type": "execute_result"
    }
   ],
   "source": [
    "rf_random_2.best_params_"
   ]
  },
  {
   "cell_type": "code",
   "execution_count": null,
   "metadata": {
    "colab": {},
    "colab_type": "code",
    "id": "jg10homd5VYq"
   },
   "outputs": [],
   "source": []
  },
  {
   "cell_type": "code",
   "execution_count": 93,
   "metadata": {
    "colab": {},
    "colab_type": "code",
    "id": "rHHWJIkVCGwj"
   },
   "outputs": [],
   "source": [
    "y_pred = rf_random_2.predict(X_test)"
   ]
  },
  {
   "cell_type": "code",
   "execution_count": 94,
   "metadata": {
    "colab": {},
    "colab_type": "code",
    "id": "ign8fG97JF9m"
   },
   "outputs": [],
   "source": [
    "y_pred_2 = rf_random_2.predict(X_test)"
   ]
  },
  {
   "cell_type": "code",
   "execution_count": null,
   "metadata": {
    "colab": {},
    "colab_type": "code",
    "id": "sbGnoEbFs5nU"
   },
   "outputs": [],
   "source": []
  },
  {
   "cell_type": "code",
   "execution_count": 97,
   "metadata": {
    "colab": {},
    "colab_type": "code",
    "id": "xnL3xBULJLJD"
   },
   "outputs": [
    {
     "name": "stdout",
     "output_type": "stream",
     "text": [
      "Mean Absolute Error: 3.897880305388623\n",
      "Mean Squared Error: 40.71500735990161\n",
      "Root Mean Squared Error: 6.380831243646991\n"
     ]
    }
   ],
   "source": [
    "print('Mean Absolute Error:', mean_absolute_error(y_test, y_pred_2))  \n",
    "print('Mean Squared Error:', mean_squared_error(y_test, y_pred_2))  \n",
    "print('Root Mean Squared Error:', np.sqrt(mean_squared_error(y_test, y_pred_2)))"
   ]
  },
  {
   "cell_type": "code",
   "execution_count": 96,
   "metadata": {
    "colab": {},
    "colab_type": "code",
    "id": "x-4xL1VgdBXC"
   },
   "outputs": [
    {
     "ename": "AttributeError",
     "evalue": "'LinearRegression' object has no attribute 'feature_importances_'",
     "output_type": "error",
     "traceback": [
      "\u001b[0;31m---------------------------------------------------------------------------\u001b[0m",
      "\u001b[0;31mAttributeError\u001b[0m                            Traceback (most recent call last)",
      "\u001b[0;32m<ipython-input-96-e4aa5dd01d3b>\u001b[0m in \u001b[0;36m<module>\u001b[0;34m\u001b[0m\n\u001b[0;32m----> 1\u001b[0;31m \u001b[0mprint\u001b[0m\u001b[0;34m(\u001b[0m\u001b[0mmodel\u001b[0m\u001b[0;34m.\u001b[0m\u001b[0mfeature_importances_\u001b[0m\u001b[0;34m)\u001b[0m \u001b[0;31m#use inbuilt class feature_importances of tree based classifiers\u001b[0m\u001b[0;34m\u001b[0m\u001b[0;34m\u001b[0m\u001b[0m\n\u001b[0m\u001b[1;32m      2\u001b[0m \u001b[0;31m#plot graph of feature importances for better visualization\u001b[0m\u001b[0;34m\u001b[0m\u001b[0;34m\u001b[0m\u001b[0;34m\u001b[0m\u001b[0m\n\u001b[1;32m      3\u001b[0m \u001b[0mfeat_importances\u001b[0m \u001b[0;34m=\u001b[0m \u001b[0mpd\u001b[0m\u001b[0;34m.\u001b[0m\u001b[0mSeries\u001b[0m\u001b[0;34m(\u001b[0m\u001b[0mrf_random_2\u001b[0m\u001b[0;34m.\u001b[0m\u001b[0mfeature_importances_\u001b[0m\u001b[0;34m,\u001b[0m \u001b[0mindex\u001b[0m\u001b[0;34m=\u001b[0m\u001b[0mX\u001b[0m\u001b[0;34m.\u001b[0m\u001b[0mcolumns\u001b[0m\u001b[0;34m)\u001b[0m\u001b[0;34m\u001b[0m\u001b[0;34m\u001b[0m\u001b[0m\n\u001b[1;32m      4\u001b[0m \u001b[0mfeat_importances\u001b[0m\u001b[0;34m.\u001b[0m\u001b[0mnlargest\u001b[0m\u001b[0;34m(\u001b[0m\u001b[0;36m10\u001b[0m\u001b[0;34m)\u001b[0m\u001b[0;34m.\u001b[0m\u001b[0mplot\u001b[0m\u001b[0;34m(\u001b[0m\u001b[0mkind\u001b[0m\u001b[0;34m=\u001b[0m\u001b[0;34m'barh'\u001b[0m\u001b[0;34m)\u001b[0m\u001b[0;34m\u001b[0m\u001b[0;34m\u001b[0m\u001b[0m\n\u001b[1;32m      5\u001b[0m \u001b[0mplt\u001b[0m\u001b[0;34m.\u001b[0m\u001b[0mshow\u001b[0m\u001b[0;34m(\u001b[0m\u001b[0;34m)\u001b[0m\u001b[0;34m\u001b[0m\u001b[0;34m\u001b[0m\u001b[0m\n",
      "\u001b[0;31mAttributeError\u001b[0m: 'LinearRegression' object has no attribute 'feature_importances_'"
     ]
    }
   ],
   "source": []
  },
  {
   "cell_type": "code",
   "execution_count": null,
   "metadata": {
    "colab": {},
    "colab_type": "code",
    "id": "G1Yb-tv0QTur"
   },
   "outputs": [],
   "source": [
    "from google.colab import files\n",
    "files.download('rf_random_64.sav') "
   ]
  },
  {
   "cell_type": "code",
   "execution_count": null,
   "metadata": {
    "colab": {},
    "colab_type": "code",
    "id": "zpAaYbrgDoEo"
   },
   "outputs": [],
   "source": [
    "from google.colab import files\n",
    "files.download('max_64.csv') "
   ]
  },
  {
   "cell_type": "code",
   "execution_count": null,
   "metadata": {
    "colab": {},
    "colab_type": "code",
    "id": "pcq54TKZDxTe"
   },
   "outputs": [],
   "source": []
  },
  {
   "cell_type": "markdown",
   "metadata": {
    "colab_type": "text",
    "id": "6e5_dCtD3ttt"
   },
   "source": [
    "##Populating with predictions "
   ]
  },
  {
   "cell_type": "code",
   "execution_count": 98,
   "metadata": {
    "colab": {},
    "colab_type": "code",
    "id": "__nEmRGQFuTR"
   },
   "outputs": [],
   "source": [
    "filename = 'rf_random_64.sav'\n",
    "pickle.dump(rf_random_2, open(filename, 'wb'))\n",
    " \n",
    "\n"
   ]
  },
  {
   "cell_type": "code",
   "execution_count": null,
   "metadata": {
    "colab": {},
    "colab_type": "code",
    "id": "aMpWbgvDPOUa"
   },
   "outputs": [],
   "source": []
  },
  {
   "cell_type": "code",
   "execution_count": null,
   "metadata": {
    "colab": {},
    "colab_type": "code",
    "id": "ymr_P3nXF81a"
   },
   "outputs": [],
   "source": [
    "# load the model from disk\n",
    "rf_random_64 = pickle.load(open('rf_random_64.sav', 'rb'))\n",
    "result = rf_random_64.score(X_test, y_test)\n",
    "print(result)"
   ]
  },
  {
   "cell_type": "code",
   "execution_count": 61,
   "metadata": {},
   "outputs": [
    {
     "name": "stdout",
     "output_type": "stream",
     "text": [
      "Requirement already satisfied: rfpimp in /opt/conda/lib/python3.7/site-packages (1.3.4)\n",
      "Requirement already satisfied: numpy in /opt/conda/lib/python3.7/site-packages (from rfpimp) (1.18.1)\n",
      "Requirement already satisfied: matplotlib in /opt/conda/lib/python3.7/site-packages (from rfpimp) (3.2.1)\n",
      "Requirement already satisfied: sklearn in /opt/conda/lib/python3.7/site-packages (from rfpimp) (0.0)\n",
      "Requirement already satisfied: pandas in /opt/conda/lib/python3.7/site-packages (from rfpimp) (1.0.3)\n",
      "Requirement already satisfied: pyparsing!=2.0.4,!=2.1.2,!=2.1.6,>=2.0.1 in /opt/conda/lib/python3.7/site-packages (from matplotlib->rfpimp) (2.4.6)\n",
      "Requirement already satisfied: python-dateutil>=2.1 in /opt/conda/lib/python3.7/site-packages (from matplotlib->rfpimp) (2.8.1)\n",
      "Requirement already satisfied: kiwisolver>=1.0.1 in /opt/conda/lib/python3.7/site-packages (from matplotlib->rfpimp) (1.1.0)\n",
      "Requirement already satisfied: cycler>=0.10 in /opt/conda/lib/python3.7/site-packages (from matplotlib->rfpimp) (0.10.0)\n",
      "Requirement already satisfied: scikit-learn in /opt/conda/lib/python3.7/site-packages (from sklearn->rfpimp) (0.22.2.post1)\n",
      "Requirement already satisfied: pytz>=2017.2 in /opt/conda/lib/python3.7/site-packages (from pandas->rfpimp) (2019.3)\n",
      "Requirement already satisfied: six>=1.5 in /opt/conda/lib/python3.7/site-packages (from python-dateutil>=2.1->matplotlib->rfpimp) (1.14.0)\n",
      "Requirement already satisfied: setuptools in /opt/conda/lib/python3.7/site-packages (from kiwisolver>=1.0.1->matplotlib->rfpimp) (46.1.1.post20200322)\n",
      "Requirement already satisfied: scipy>=0.17.0 in /opt/conda/lib/python3.7/site-packages (from scikit-learn->sklearn->rfpimp) (1.4.1)\n",
      "Requirement already satisfied: joblib>=0.11 in /opt/conda/lib/python3.7/site-packages (from scikit-learn->sklearn->rfpimp) (0.14.1)\n",
      "Note: you may need to restart the kernel to use updated packages.\n"
     ]
    }
   ],
   "source": [
    "pip install rfpimp"
   ]
  },
  {
   "cell_type": "code",
   "execution_count": 62,
   "metadata": {},
   "outputs": [
    {
     "name": "stdout",
     "output_type": "stream",
     "text": [
      "Fitting 3 folds for each of 20 candidates, totalling 60 fits\n"
     ]
    },
    {
     "name": "stderr",
     "output_type": "stream",
     "text": [
      "/opt/conda/lib/python3.7/site-packages/sklearn/utils/deprecation.py:144: FutureWarning: The sklearn.ensemble.forest module is  deprecated in version 0.22 and will be removed in version 0.24. The corresponding classes / functions should instead be imported from sklearn.ensemble. Anything that cannot be imported from sklearn.ensemble is now part of the private API.\n",
      "  warnings.warn(message, FutureWarning)\n",
      "[Parallel(n_jobs=-1)]: Using backend LokyBackend with 16 concurrent workers.\n",
      "[Parallel(n_jobs=-1)]: Done   9 tasks      | elapsed:    1.4s\n",
      "[Parallel(n_jobs=-1)]: Done  60 out of  60 | elapsed:   24.1s remaining:    0.0s\n",
      "[Parallel(n_jobs=-1)]: Done  60 out of  60 | elapsed:   24.1s finished\n"
     ]
    }
   ],
   "source": []
  },
  {
   "cell_type": "code",
   "execution_count": 101,
   "metadata": {},
   "outputs": [
    {
     "data": {
      "text/html": [
       "<div>\n",
       "<style scoped>\n",
       "    .dataframe tbody tr th:only-of-type {\n",
       "        vertical-align: middle;\n",
       "    }\n",
       "\n",
       "    .dataframe tbody tr th {\n",
       "        vertical-align: top;\n",
       "    }\n",
       "\n",
       "    .dataframe thead th {\n",
       "        text-align: right;\n",
       "    }\n",
       "</style>\n",
       "<table border=\"1\" class=\"dataframe\">\n",
       "  <thead>\n",
       "    <tr style=\"text-align: right;\">\n",
       "      <th></th>\n",
       "      <th>Importance</th>\n",
       "    </tr>\n",
       "    <tr>\n",
       "      <th>Feature</th>\n",
       "      <th></th>\n",
       "    </tr>\n",
       "  </thead>\n",
       "  <tbody>\n",
       "    <tr>\n",
       "      <th>LAT</th>\n",
       "      <td>0.337345</td>\n",
       "    </tr>\n",
       "    <tr>\n",
       "      <th>WMO_PRES</th>\n",
       "      <td>0.301884</td>\n",
       "    </tr>\n",
       "    <tr>\n",
       "      <th>rank_1</th>\n",
       "      <td>0.135092</td>\n",
       "    </tr>\n",
       "    <tr>\n",
       "      <th>LON</th>\n",
       "      <td>0.104093</td>\n",
       "    </tr>\n",
       "    <tr>\n",
       "      <th>WMO_WIND</th>\n",
       "      <td>0.100090</td>\n",
       "    </tr>\n",
       "    <tr>\n",
       "      <th>month_9</th>\n",
       "      <td>0.073521</td>\n",
       "    </tr>\n",
       "    <tr>\n",
       "      <th>STORM_DR</th>\n",
       "      <td>0.060482</td>\n",
       "    </tr>\n",
       "    <tr>\n",
       "      <th>dist</th>\n",
       "      <td>0.056849</td>\n",
       "    </tr>\n",
       "    <tr>\n",
       "      <th>rank</th>\n",
       "      <td>0.050699</td>\n",
       "    </tr>\n",
       "    <tr>\n",
       "      <th>LANDFALL</th>\n",
       "      <td>0.045021</td>\n",
       "    </tr>\n",
       "    <tr>\n",
       "      <th>DIST2LAND</th>\n",
       "      <td>0.041890</td>\n",
       "    </tr>\n",
       "    <tr>\n",
       "      <th>STORM_SPD</th>\n",
       "      <td>0.038044</td>\n",
       "    </tr>\n",
       "    <tr>\n",
       "      <th>BASIN_EP</th>\n",
       "      <td>0.025351</td>\n",
       "    </tr>\n",
       "    <tr>\n",
       "      <th>BASIN_WP</th>\n",
       "      <td>0.025289</td>\n",
       "    </tr>\n",
       "    <tr>\n",
       "      <th>month_10</th>\n",
       "      <td>0.015175</td>\n",
       "    </tr>\n",
       "    <tr>\n",
       "      <th>BASIN_SI</th>\n",
       "      <td>0.005932</td>\n",
       "    </tr>\n",
       "    <tr>\n",
       "      <th>month_8</th>\n",
       "      <td>0.004319</td>\n",
       "    </tr>\n",
       "    <tr>\n",
       "      <th>month_5</th>\n",
       "      <td>0.003696</td>\n",
       "    </tr>\n",
       "    <tr>\n",
       "      <th>month_7</th>\n",
       "      <td>0.002464</td>\n",
       "    </tr>\n",
       "    <tr>\n",
       "      <th>month_3</th>\n",
       "      <td>0.002402</td>\n",
       "    </tr>\n",
       "    <tr>\n",
       "      <th>month_11</th>\n",
       "      <td>0.001157</td>\n",
       "    </tr>\n",
       "    <tr>\n",
       "      <th>month_1</th>\n",
       "      <td>0.001148</td>\n",
       "    </tr>\n",
       "    <tr>\n",
       "      <th>BASIN_SP</th>\n",
       "      <td>0.001093</td>\n",
       "    </tr>\n",
       "    <tr>\n",
       "      <th>month_4</th>\n",
       "      <td>0.001072</td>\n",
       "    </tr>\n",
       "    <tr>\n",
       "      <th>month_2</th>\n",
       "      <td>0.000894</td>\n",
       "    </tr>\n",
       "    <tr>\n",
       "      <th>month_6</th>\n",
       "      <td>0.000755</td>\n",
       "    </tr>\n",
       "    <tr>\n",
       "      <th>month_12</th>\n",
       "      <td>0.000431</td>\n",
       "    </tr>\n",
       "    <tr>\n",
       "      <th>BASIN_NI</th>\n",
       "      <td>0.000204</td>\n",
       "    </tr>\n",
       "  </tbody>\n",
       "</table>\n",
       "</div>"
      ],
      "text/plain": [
       "           Importance\n",
       "Feature              \n",
       "LAT          0.337345\n",
       "WMO_PRES     0.301884\n",
       "rank_1       0.135092\n",
       "LON          0.104093\n",
       "WMO_WIND     0.100090\n",
       "month_9      0.073521\n",
       "STORM_DR     0.060482\n",
       "dist         0.056849\n",
       "rank         0.050699\n",
       "LANDFALL     0.045021\n",
       "DIST2LAND    0.041890\n",
       "STORM_SPD    0.038044\n",
       "BASIN_EP     0.025351\n",
       "BASIN_WP     0.025289\n",
       "month_10     0.015175\n",
       "BASIN_SI     0.005932\n",
       "month_8      0.004319\n",
       "month_5      0.003696\n",
       "month_7      0.002464\n",
       "month_3      0.002402\n",
       "month_11     0.001157\n",
       "month_1      0.001148\n",
       "BASIN_SP     0.001093\n",
       "month_4      0.001072\n",
       "month_2      0.000894\n",
       "month_6      0.000755\n",
       "month_12     0.000431\n",
       "BASIN_NI     0.000204"
      ]
     },
     "execution_count": 101,
     "metadata": {},
     "output_type": "execute_result"
    }
   ],
   "source": [
    "perm_imp_rfpimp"
   ]
  },
  {
   "cell_type": "code",
   "execution_count": null,
   "metadata": {
    "colab": {},
    "colab_type": "code",
    "id": "x1o72v5afIpm"
   },
   "outputs": [],
   "source": [
    "rf_random_64"
   ]
  },
  {
   "cell_type": "code",
   "execution_count": 99,
   "metadata": {
    "colab": {},
    "colab_type": "code",
    "id": "4Z6HZ5uMGpbr"
   },
   "outputs": [],
   "source": [
    "pre_df  = pd.read_csv('OUTPUT_WBI_cyclones.csv', sep = ';', low_memory=False)"
   ]
  },
  {
   "cell_type": "code",
   "execution_count": 100,
   "metadata": {
    "colab": {},
    "colab_type": "code",
    "id": "WmSiomNoGLB0"
   },
   "outputs": [],
   "source": [
    "pre_df_unique  = pre_df[['NAME',\t'Year']]"
   ]
  },
  {
   "cell_type": "code",
   "execution_count": 101,
   "metadata": {
    "colab": {},
    "colab_type": "code",
    "id": "NszmlYSTIZlB"
   },
   "outputs": [],
   "source": [
    "pre_df_unique = pre_df_unique.drop_duplicates()"
   ]
  },
  {
   "cell_type": "code",
   "execution_count": 102,
   "metadata": {
    "colab": {},
    "colab_type": "code",
    "id": "PYNuvau4I3sx"
   },
   "outputs": [],
   "source": [
    "pre_df['in_pre'] = True"
   ]
  },
  {
   "cell_type": "code",
   "execution_count": 103,
   "metadata": {
    "colab": {},
    "colab_type": "code",
    "id": "fIqeF_3dJL__"
   },
   "outputs": [],
   "source": [
    "df2['in_ibtrax'] = True"
   ]
  },
  {
   "cell_type": "code",
   "execution_count": 104,
   "metadata": {
    "colab": {},
    "colab_type": "code",
    "id": "ZSWeNhP7JU9N"
   },
   "outputs": [],
   "source": [
    "df = pd.merge(df2, pre_df, how='outer', left_on = ['NAME', 'SEASON'], right_on=['NAME','Year'], suffixes=('', '_pre'))"
   ]
  },
  {
   "cell_type": "code",
   "execution_count": 105,
   "metadata": {
    "colab": {},
    "colab_type": "code",
    "id": "Jt7VbjdYfy9b"
   },
   "outputs": [],
   "source": [
    "df = pd.get_dummies(df, columns=['BASIN','month'])"
   ]
  },
  {
   "cell_type": "code",
   "execution_count": 106,
   "metadata": {
    "colab": {},
    "colab_type": "code",
    "id": "PMcOh5AJyco_"
   },
   "outputs": [],
   "source": [
    "#y = df['max_50'][df['max_50']!=df['max_50']]"
   ]
  },
  {
   "cell_type": "code",
   "execution_count": 107,
   "metadata": {
    "colab": {},
    "colab_type": "code",
    "id": "ZEFks8iFzG0p"
   },
   "outputs": [],
   "source": [
    "df['WMO_WIND'] =df.groupby('SID')['WMO_WIND'].fillna(df['WMO_WIND'].median())\n",
    "df['WMO_WIND'] = df['WMO_WIND'].fillna(df['WMO_WIND'].median())\n",
    "df['WMO_PRES']=df.groupby('SID')['WMO_PRES'].fillna(df['WMO_PRES'].median())\n",
    "df['WMO_PRES'] = df['WMO_PRES'].fillna(df['WMO_PRES'].median())\n",
    "df['STORM_SPD']=df.groupby('SID')['STORM_SPD'].fillna(df['STORM_SPD'].median())\n",
    "df['STORM_SPD'] = df['STORM_SPD'].fillna(df['STORM_SPD'].median())\n",
    "df['STORM_SPD'] = df['STORM_SPD'].fillna(df['STORM_SPD'].median())\n",
    "df['STORM_DR']=df.groupby('SID')['STORM_DR'].fillna(df['STORM_DR'].median())\n",
    "df['STORM_DR']=df.groupby('SID')['STORM_DR'].fillna(df['STORM_DR'].median())"
   ]
  },
  {
   "cell_type": "code",
   "execution_count": 108,
   "metadata": {
    "colab": {},
    "colab_type": "code",
    "id": "PmJgKk1VKPEm"
   },
   "outputs": [],
   "source": [
    "df['dist'] = df['dist'].fillna(method='ffill')"
   ]
  },
  {
   "cell_type": "markdown",
   "metadata": {
    "colab_type": "text",
    "id": "mr-lDjBa_Aoa"
   },
   "source": [
    "##TESTING ACCURACY ON NEW DATA"
   ]
  },
  {
   "cell_type": "code",
   "execution_count": 135,
   "metadata": {
    "colab": {},
    "colab_type": "code",
    "id": "h_JYz4N0NieJ"
   },
   "outputs": [],
   "source": [
    "\n",
    "import numpy as np\n",
    "from sklearn.model_selection import train_test_split\n",
    "column_names = ['LAT','LON','WMO_WIND','WMO_PRES','DIST2LAND','LANDFALL','STORM_SPD',\t\n",
    "                'STORM_DR', 'dist',\t\n",
    "                'month_1.0',\t'month_2.0',\t'month_3.0',\t'month_4.0',\t'month_5.0',\t'month_6.0',\n",
    "                'month_7.0',\t'month_8.0',\t'month_9.0',\t'month_10.0',\t'month_11.0',\t'month_12.0',\n",
    "                'rank', 'rank_1',\n",
    "                'BASIN_EP','BASIN_NI','BASIN_SI','BASIN_SP','BASIN_WP']\n",
    "X = df[column_names][df['in_pre'] == True]\n",
    "y = df['max_64'][df['in_pre'] == True]"
   ]
  },
  {
   "cell_type": "code",
   "execution_count": 136,
   "metadata": {
    "colab": {},
    "colab_type": "code",
    "id": "HDwGvkyx0JQL"
   },
   "outputs": [],
   "source": [
    "df['dist'] = df['dist'].fillna(method='ffill')"
   ]
  },
  {
   "cell_type": "code",
   "execution_count": 137,
   "metadata": {},
   "outputs": [
    {
     "ename": "ValueError",
     "evalue": "Input contains NaN, infinity or a value too large for dtype('float32').",
     "output_type": "error",
     "traceback": [
      "\u001b[0;31m---------------------------------------------------------------------------\u001b[0m",
      "\u001b[0;31mValueError\u001b[0m                                Traceback (most recent call last)",
      "\u001b[0;32m<ipython-input-137-842cfe20489c>\u001b[0m in \u001b[0;36m<module>\u001b[0;34m\u001b[0m\n\u001b[0;32m----> 1\u001b[0;31m \u001b[0my_pred_64\u001b[0m \u001b[0;34m=\u001b[0m \u001b[0mrf_random_64\u001b[0m\u001b[0;34m.\u001b[0m\u001b[0mpredict\u001b[0m\u001b[0;34m(\u001b[0m\u001b[0mX\u001b[0m\u001b[0;34m)\u001b[0m\u001b[0;34m\u001b[0m\u001b[0;34m\u001b[0m\u001b[0m\n\u001b[0m",
      "\u001b[0;32m/opt/conda/lib/python3.7/site-packages/sklearn/utils/metaestimators.py\u001b[0m in \u001b[0;36m<lambda>\u001b[0;34m(*args, **kwargs)\u001b[0m\n\u001b[1;32m    114\u001b[0m \u001b[0;34m\u001b[0m\u001b[0m\n\u001b[1;32m    115\u001b[0m         \u001b[0;31m# lambda, but not partial, allows help() to work with update_wrapper\u001b[0m\u001b[0;34m\u001b[0m\u001b[0;34m\u001b[0m\u001b[0;34m\u001b[0m\u001b[0m\n\u001b[0;32m--> 116\u001b[0;31m         \u001b[0mout\u001b[0m \u001b[0;34m=\u001b[0m \u001b[0;32mlambda\u001b[0m \u001b[0;34m*\u001b[0m\u001b[0margs\u001b[0m\u001b[0;34m,\u001b[0m \u001b[0;34m**\u001b[0m\u001b[0mkwargs\u001b[0m\u001b[0;34m:\u001b[0m \u001b[0mself\u001b[0m\u001b[0;34m.\u001b[0m\u001b[0mfn\u001b[0m\u001b[0;34m(\u001b[0m\u001b[0mobj\u001b[0m\u001b[0;34m,\u001b[0m \u001b[0;34m*\u001b[0m\u001b[0margs\u001b[0m\u001b[0;34m,\u001b[0m \u001b[0;34m**\u001b[0m\u001b[0mkwargs\u001b[0m\u001b[0;34m)\u001b[0m\u001b[0;34m\u001b[0m\u001b[0;34m\u001b[0m\u001b[0m\n\u001b[0m\u001b[1;32m    117\u001b[0m         \u001b[0;31m# update the docstring of the returned function\u001b[0m\u001b[0;34m\u001b[0m\u001b[0;34m\u001b[0m\u001b[0;34m\u001b[0m\u001b[0m\n\u001b[1;32m    118\u001b[0m         \u001b[0mupdate_wrapper\u001b[0m\u001b[0;34m(\u001b[0m\u001b[0mout\u001b[0m\u001b[0;34m,\u001b[0m \u001b[0mself\u001b[0m\u001b[0;34m.\u001b[0m\u001b[0mfn\u001b[0m\u001b[0;34m)\u001b[0m\u001b[0;34m\u001b[0m\u001b[0;34m\u001b[0m\u001b[0m\n",
      "\u001b[0;32m/opt/conda/lib/python3.7/site-packages/sklearn/model_selection/_search.py\u001b[0m in \u001b[0;36mpredict\u001b[0;34m(self, X)\u001b[0m\n\u001b[1;32m    475\u001b[0m         \"\"\"\n\u001b[1;32m    476\u001b[0m         \u001b[0mself\u001b[0m\u001b[0;34m.\u001b[0m\u001b[0m_check_is_fitted\u001b[0m\u001b[0;34m(\u001b[0m\u001b[0;34m'predict'\u001b[0m\u001b[0;34m)\u001b[0m\u001b[0;34m\u001b[0m\u001b[0;34m\u001b[0m\u001b[0m\n\u001b[0;32m--> 477\u001b[0;31m         \u001b[0;32mreturn\u001b[0m \u001b[0mself\u001b[0m\u001b[0;34m.\u001b[0m\u001b[0mbest_estimator_\u001b[0m\u001b[0;34m.\u001b[0m\u001b[0mpredict\u001b[0m\u001b[0;34m(\u001b[0m\u001b[0mX\u001b[0m\u001b[0;34m)\u001b[0m\u001b[0;34m\u001b[0m\u001b[0;34m\u001b[0m\u001b[0m\n\u001b[0m\u001b[1;32m    478\u001b[0m \u001b[0;34m\u001b[0m\u001b[0m\n\u001b[1;32m    479\u001b[0m     \u001b[0;34m@\u001b[0m\u001b[0mif_delegate_has_method\u001b[0m\u001b[0;34m(\u001b[0m\u001b[0mdelegate\u001b[0m\u001b[0;34m=\u001b[0m\u001b[0;34m(\u001b[0m\u001b[0;34m'best_estimator_'\u001b[0m\u001b[0;34m,\u001b[0m \u001b[0;34m'estimator'\u001b[0m\u001b[0;34m)\u001b[0m\u001b[0;34m)\u001b[0m\u001b[0;34m\u001b[0m\u001b[0;34m\u001b[0m\u001b[0m\n",
      "\u001b[0;32m/opt/conda/lib/python3.7/site-packages/sklearn/ensemble/_forest.py\u001b[0m in \u001b[0;36mpredict\u001b[0;34m(self, X)\u001b[0m\n\u001b[1;32m    764\u001b[0m         \u001b[0mcheck_is_fitted\u001b[0m\u001b[0;34m(\u001b[0m\u001b[0mself\u001b[0m\u001b[0;34m)\u001b[0m\u001b[0;34m\u001b[0m\u001b[0;34m\u001b[0m\u001b[0m\n\u001b[1;32m    765\u001b[0m         \u001b[0;31m# Check data\u001b[0m\u001b[0;34m\u001b[0m\u001b[0;34m\u001b[0m\u001b[0;34m\u001b[0m\u001b[0m\n\u001b[0;32m--> 766\u001b[0;31m         \u001b[0mX\u001b[0m \u001b[0;34m=\u001b[0m \u001b[0mself\u001b[0m\u001b[0;34m.\u001b[0m\u001b[0m_validate_X_predict\u001b[0m\u001b[0;34m(\u001b[0m\u001b[0mX\u001b[0m\u001b[0;34m)\u001b[0m\u001b[0;34m\u001b[0m\u001b[0;34m\u001b[0m\u001b[0m\n\u001b[0m\u001b[1;32m    767\u001b[0m \u001b[0;34m\u001b[0m\u001b[0m\n\u001b[1;32m    768\u001b[0m         \u001b[0;31m# Assign chunk of trees to jobs\u001b[0m\u001b[0;34m\u001b[0m\u001b[0;34m\u001b[0m\u001b[0;34m\u001b[0m\u001b[0m\n",
      "\u001b[0;32m/opt/conda/lib/python3.7/site-packages/sklearn/ensemble/_forest.py\u001b[0m in \u001b[0;36m_validate_X_predict\u001b[0;34m(self, X)\u001b[0m\n\u001b[1;32m    410\u001b[0m         \u001b[0mcheck_is_fitted\u001b[0m\u001b[0;34m(\u001b[0m\u001b[0mself\u001b[0m\u001b[0;34m)\u001b[0m\u001b[0;34m\u001b[0m\u001b[0;34m\u001b[0m\u001b[0m\n\u001b[1;32m    411\u001b[0m \u001b[0;34m\u001b[0m\u001b[0m\n\u001b[0;32m--> 412\u001b[0;31m         \u001b[0;32mreturn\u001b[0m \u001b[0mself\u001b[0m\u001b[0;34m.\u001b[0m\u001b[0mestimators_\u001b[0m\u001b[0;34m[\u001b[0m\u001b[0;36m0\u001b[0m\u001b[0;34m]\u001b[0m\u001b[0;34m.\u001b[0m\u001b[0m_validate_X_predict\u001b[0m\u001b[0;34m(\u001b[0m\u001b[0mX\u001b[0m\u001b[0;34m,\u001b[0m \u001b[0mcheck_input\u001b[0m\u001b[0;34m=\u001b[0m\u001b[0;32mTrue\u001b[0m\u001b[0;34m)\u001b[0m\u001b[0;34m\u001b[0m\u001b[0;34m\u001b[0m\u001b[0m\n\u001b[0m\u001b[1;32m    413\u001b[0m \u001b[0;34m\u001b[0m\u001b[0m\n\u001b[1;32m    414\u001b[0m     \u001b[0;34m@\u001b[0m\u001b[0mproperty\u001b[0m\u001b[0;34m\u001b[0m\u001b[0;34m\u001b[0m\u001b[0m\n",
      "\u001b[0;32m/opt/conda/lib/python3.7/site-packages/sklearn/tree/_classes.py\u001b[0m in \u001b[0;36m_validate_X_predict\u001b[0;34m(self, X, check_input)\u001b[0m\n\u001b[1;32m    378\u001b[0m         \u001b[0;34m\"\"\"Validate X whenever one tries to predict, apply, predict_proba\"\"\"\u001b[0m\u001b[0;34m\u001b[0m\u001b[0;34m\u001b[0m\u001b[0m\n\u001b[1;32m    379\u001b[0m         \u001b[0;32mif\u001b[0m \u001b[0mcheck_input\u001b[0m\u001b[0;34m:\u001b[0m\u001b[0;34m\u001b[0m\u001b[0;34m\u001b[0m\u001b[0m\n\u001b[0;32m--> 380\u001b[0;31m             \u001b[0mX\u001b[0m \u001b[0;34m=\u001b[0m \u001b[0mcheck_array\u001b[0m\u001b[0;34m(\u001b[0m\u001b[0mX\u001b[0m\u001b[0;34m,\u001b[0m \u001b[0mdtype\u001b[0m\u001b[0;34m=\u001b[0m\u001b[0mDTYPE\u001b[0m\u001b[0;34m,\u001b[0m \u001b[0maccept_sparse\u001b[0m\u001b[0;34m=\u001b[0m\u001b[0;34m\"csr\"\u001b[0m\u001b[0;34m)\u001b[0m\u001b[0;34m\u001b[0m\u001b[0;34m\u001b[0m\u001b[0m\n\u001b[0m\u001b[1;32m    381\u001b[0m             if issparse(X) and (X.indices.dtype != np.intc or\n\u001b[1;32m    382\u001b[0m                                 X.indptr.dtype != np.intc):\n",
      "\u001b[0;32m/opt/conda/lib/python3.7/site-packages/sklearn/utils/validation.py\u001b[0m in \u001b[0;36mcheck_array\u001b[0;34m(array, accept_sparse, accept_large_sparse, dtype, order, copy, force_all_finite, ensure_2d, allow_nd, ensure_min_samples, ensure_min_features, warn_on_dtype, estimator)\u001b[0m\n\u001b[1;32m    576\u001b[0m         \u001b[0;32mif\u001b[0m \u001b[0mforce_all_finite\u001b[0m\u001b[0;34m:\u001b[0m\u001b[0;34m\u001b[0m\u001b[0;34m\u001b[0m\u001b[0m\n\u001b[1;32m    577\u001b[0m             _assert_all_finite(array,\n\u001b[0;32m--> 578\u001b[0;31m                                allow_nan=force_all_finite == 'allow-nan')\n\u001b[0m\u001b[1;32m    579\u001b[0m \u001b[0;34m\u001b[0m\u001b[0m\n\u001b[1;32m    580\u001b[0m     \u001b[0;32mif\u001b[0m \u001b[0mensure_min_samples\u001b[0m \u001b[0;34m>\u001b[0m \u001b[0;36m0\u001b[0m\u001b[0;34m:\u001b[0m\u001b[0;34m\u001b[0m\u001b[0;34m\u001b[0m\u001b[0m\n",
      "\u001b[0;32m/opt/conda/lib/python3.7/site-packages/sklearn/utils/validation.py\u001b[0m in \u001b[0;36m_assert_all_finite\u001b[0;34m(X, allow_nan, msg_dtype)\u001b[0m\n\u001b[1;32m     58\u001b[0m                     \u001b[0mmsg_err\u001b[0m\u001b[0;34m.\u001b[0m\u001b[0mformat\u001b[0m\u001b[0;34m\u001b[0m\u001b[0;34m\u001b[0m\u001b[0m\n\u001b[1;32m     59\u001b[0m                     (type_err,\n\u001b[0;32m---> 60\u001b[0;31m                      msg_dtype if msg_dtype is not None else X.dtype)\n\u001b[0m\u001b[1;32m     61\u001b[0m             )\n\u001b[1;32m     62\u001b[0m     \u001b[0;31m# for object dtype data, we only check for NaNs (GH-13254)\u001b[0m\u001b[0;34m\u001b[0m\u001b[0;34m\u001b[0m\u001b[0;34m\u001b[0m\u001b[0m\n",
      "\u001b[0;31mValueError\u001b[0m: Input contains NaN, infinity or a value too large for dtype('float32')."
     ]
    }
   ],
   "source": [
    "y_pred_64 = rf_random_64.predict(X)"
   ]
  },
  {
   "cell_type": "code",
   "execution_count": 125,
   "metadata": {
    "colab": {},
    "colab_type": "code",
    "id": "EorXvGSEg94J"
   },
   "outputs": [
    {
     "ename": "ValueError",
     "evalue": "Must have equal len keys and value when setting with an iterable",
     "output_type": "error",
     "traceback": [
      "\u001b[0;31m---------------------------------------------------------------------------\u001b[0m",
      "\u001b[0;31mValueError\u001b[0m                                Traceback (most recent call last)",
      "\u001b[0;32m<ipython-input-125-cae326fffc48>\u001b[0m in \u001b[0;36m<module>\u001b[0;34m\u001b[0m\n\u001b[0;32m----> 1\u001b[0;31m \u001b[0mX\u001b[0m\u001b[0;34m.\u001b[0m\u001b[0mloc\u001b[0m\u001b[0;34m[\u001b[0m\u001b[0;34m:\u001b[0m\u001b[0;34m,\u001b[0m\u001b[0;34m'Outcome'\u001b[0m\u001b[0;34m]\u001b[0m \u001b[0;34m=\u001b[0m \u001b[0my_pred_64\u001b[0m\u001b[0;34m\u001b[0m\u001b[0;34m\u001b[0m\u001b[0m\n\u001b[0m\u001b[1;32m      2\u001b[0m \u001b[0mX\u001b[0m\u001b[0;34m.\u001b[0m\u001b[0mto_csv\u001b[0m\u001b[0;34m(\u001b[0m\u001b[0;34m'max_64_.csv'\u001b[0m\u001b[0;34m)\u001b[0m\u001b[0;34m\u001b[0m\u001b[0;34m\u001b[0m\u001b[0m\n\u001b[1;32m      3\u001b[0m \u001b[0mlen\u001b[0m\u001b[0;34m(\u001b[0m\u001b[0mX\u001b[0m\u001b[0;34m)\u001b[0m\u001b[0;34m\u001b[0m\u001b[0;34m\u001b[0m\u001b[0m\n",
      "\u001b[0;32m/opt/conda/lib/python3.7/site-packages/pandas/core/indexing.py\u001b[0m in \u001b[0;36m__setitem__\u001b[0;34m(self, key, value)\u001b[0m\n\u001b[1;32m    669\u001b[0m             \u001b[0mkey\u001b[0m \u001b[0;34m=\u001b[0m \u001b[0mcom\u001b[0m\u001b[0;34m.\u001b[0m\u001b[0mapply_if_callable\u001b[0m\u001b[0;34m(\u001b[0m\u001b[0mkey\u001b[0m\u001b[0;34m,\u001b[0m \u001b[0mself\u001b[0m\u001b[0;34m.\u001b[0m\u001b[0mobj\u001b[0m\u001b[0;34m)\u001b[0m\u001b[0;34m\u001b[0m\u001b[0;34m\u001b[0m\u001b[0m\n\u001b[1;32m    670\u001b[0m         \u001b[0mindexer\u001b[0m \u001b[0;34m=\u001b[0m \u001b[0mself\u001b[0m\u001b[0;34m.\u001b[0m\u001b[0m_get_setitem_indexer\u001b[0m\u001b[0;34m(\u001b[0m\u001b[0mkey\u001b[0m\u001b[0;34m)\u001b[0m\u001b[0;34m\u001b[0m\u001b[0;34m\u001b[0m\u001b[0m\n\u001b[0;32m--> 671\u001b[0;31m         \u001b[0mself\u001b[0m\u001b[0;34m.\u001b[0m\u001b[0m_setitem_with_indexer\u001b[0m\u001b[0;34m(\u001b[0m\u001b[0mindexer\u001b[0m\u001b[0;34m,\u001b[0m \u001b[0mvalue\u001b[0m\u001b[0;34m)\u001b[0m\u001b[0;34m\u001b[0m\u001b[0;34m\u001b[0m\u001b[0m\n\u001b[0m\u001b[1;32m    672\u001b[0m \u001b[0;34m\u001b[0m\u001b[0m\n\u001b[1;32m    673\u001b[0m     \u001b[0;32mdef\u001b[0m \u001b[0m_validate_key\u001b[0m\u001b[0;34m(\u001b[0m\u001b[0mself\u001b[0m\u001b[0;34m,\u001b[0m \u001b[0mkey\u001b[0m\u001b[0;34m,\u001b[0m \u001b[0maxis\u001b[0m\u001b[0;34m:\u001b[0m \u001b[0mint\u001b[0m\u001b[0;34m)\u001b[0m\u001b[0;34m:\u001b[0m\u001b[0;34m\u001b[0m\u001b[0;34m\u001b[0m\u001b[0m\n",
      "\u001b[0;32m/opt/conda/lib/python3.7/site-packages/pandas/core/indexing.py\u001b[0m in \u001b[0;36m_setitem_with_indexer\u001b[0;34m(self, indexer, value)\u001b[0m\n\u001b[1;32m   1017\u001b[0m                     \u001b[0;32mif\u001b[0m \u001b[0mlen\u001b[0m\u001b[0;34m(\u001b[0m\u001b[0mlabels\u001b[0m\u001b[0;34m)\u001b[0m \u001b[0;34m!=\u001b[0m \u001b[0mlen\u001b[0m\u001b[0;34m(\u001b[0m\u001b[0mvalue\u001b[0m\u001b[0;34m)\u001b[0m\u001b[0;34m:\u001b[0m\u001b[0;34m\u001b[0m\u001b[0;34m\u001b[0m\u001b[0m\n\u001b[1;32m   1018\u001b[0m                         raise ValueError(\n\u001b[0;32m-> 1019\u001b[0;31m                             \u001b[0;34m\"Must have equal len keys and value \"\u001b[0m\u001b[0;34m\u001b[0m\u001b[0;34m\u001b[0m\u001b[0m\n\u001b[0m\u001b[1;32m   1020\u001b[0m                             \u001b[0;34m\"when setting with an iterable\"\u001b[0m\u001b[0;34m\u001b[0m\u001b[0;34m\u001b[0m\u001b[0m\n\u001b[1;32m   1021\u001b[0m                         )\n",
      "\u001b[0;31mValueError\u001b[0m: Must have equal len keys and value when setting with an iterable"
     ]
    }
   ],
   "source": [
    "X.loc[:,'Outcome'] = y_pred_64\n",
    "X.to_csv('max_64_.csv')\n",
    "len(X)"
   ]
  },
  {
   "cell_type": "code",
   "execution_count": 42,
   "metadata": {
    "colab": {},
    "colab_type": "code",
    "id": "rO5bY9vZNf1D"
   },
   "outputs": [],
   "source": [
    "y_pred_64 = rf_random_64.predict(X)"
   ]
  },
  {
   "cell_type": "code",
   "execution_count": 43,
   "metadata": {
    "colab": {},
    "colab_type": "code",
    "id": "_S6Sir-H0fvb"
   },
   "outputs": [],
   "source": [
    "df_rf_64 = pd.DataFrame({'Actual': y, 'Predicted': y_pred_64})"
   ]
  },
  {
   "cell_type": "code",
   "execution_count": null,
   "metadata": {
    "colab": {},
    "colab_type": "code",
    "id": "88tvgC1Q159w"
   },
   "outputs": [],
   "source": []
  },
  {
   "cell_type": "code",
   "execution_count": null,
   "metadata": {
    "colab": {},
    "colab_type": "code",
    "id": "M432wX-M2Ph-"
   },
   "outputs": [],
   "source": [
    "print('Mean Absolute Error:', mean_absolute_error(y, y_pred_64))  \n",
    "print('Mean Squared Error:', mean_squared_error(y, y_pred_64))  \n",
    "print('Root Mean Squared Error:', np.sqrt(mean_squared_error(y, y_pred_64)))"
   ]
  },
  {
   "cell_type": "code",
   "execution_count": null,
   "metadata": {
    "colab": {},
    "colab_type": "code",
    "id": "EI9nGOB97ko6"
   },
   "outputs": [],
   "source": []
  },
  {
   "cell_type": "markdown",
   "metadata": {
    "colab_type": "text",
    "id": "z3kFVOfU_RHl"
   },
   "source": [
    "##PREDICTIONS"
   ]
  },
  {
   "cell_type": "code",
   "execution_count": 111,
   "metadata": {
    "colab": {},
    "colab_type": "code",
    "id": "VgUoIwq0I3Hn"
   },
   "outputs": [
    {
     "name": "stderr",
     "output_type": "stream",
     "text": [
      "/opt/conda/lib/python3.7/site-packages/ipykernel_launcher.py:1: UserWarning: Boolean Series key will be reindexed to match DataFrame index.\n",
      "  \"\"\"Entry point for launching an IPython kernel.\n"
     ]
    }
   ],
   "source": [
    "df_to_pred = df[df['max_64']!=df['max_64']][df['SID']==df['SID']]"
   ]
  },
  {
   "cell_type": "code",
   "execution_count": null,
   "metadata": {},
   "outputs": [],
   "source": []
  },
  {
   "cell_type": "code",
   "execution_count": 112,
   "metadata": {
    "colab": {},
    "colab_type": "code",
    "id": "4XCmWq9WIwLI"
   },
   "outputs": [],
   "source": [
    "df_to_pred['dist'] = df_to_pred['dist'].fillna(method = 'ffill')"
   ]
  },
  {
   "cell_type": "code",
   "execution_count": 113,
   "metadata": {},
   "outputs": [
    {
     "data": {
      "text/plain": [
       "0         1\n",
       "1         1\n",
       "2         1\n",
       "3         1\n",
       "4         1\n",
       "         ..\n",
       "693177    0\n",
       "693178    0\n",
       "693179    0\n",
       "693180    0\n",
       "693181    0\n",
       "Name: BASIN_NI, Length: 693182, dtype: uint8"
      ]
     },
     "execution_count": 113,
     "metadata": {},
     "output_type": "execute_result"
    }
   ],
   "source": [
    "df['BASIN_NI']"
   ]
  },
  {
   "cell_type": "code",
   "execution_count": 138,
   "metadata": {
    "colab": {},
    "colab_type": "code",
    "id": "aZ_nUFqN3d3I"
   },
   "outputs": [
    {
     "name": "stderr",
     "output_type": "stream",
     "text": [
      "/opt/conda/lib/python3.7/site-packages/ipykernel_launcher.py:9: UserWarning: Boolean Series key will be reindexed to match DataFrame index.\n",
      "  if __name__ == '__main__':\n"
     ]
    }
   ],
   "source": [
    "\n",
    "import numpy as np\n",
    "from sklearn.model_selection import train_test_split\n",
    "column_names = ['LAT','LON','WMO_WIND','WMO_PRES','DIST2LAND','LANDFALL','STORM_SPD',\t\n",
    "                'STORM_DR', 'dist',\t\n",
    "                'month_1.0',\t'month_2.0',\t'month_3.0',\t'month_4.0',\t'month_5.0',\t'month_6.0',\n",
    "                'month_7.0',\t'month_8.0',\t'month_9.0',\t'month_10.0',\t'month_11.0',\t'month_12.0',\n",
    "                'rank', 'rank_1',\n",
    "                'BASIN_EP','BASIN_NI','BASIN_SI','BASIN_SP','BASIN_WP']\n",
    "X = df[column_names][df['in_pre'] == True][df['LAT'] == df['LAT']]\n",
    "y = df['max_64'][df['in_pre'] == True][df['LAT'] == df['LAT']]\n"
   ]
  },
  {
   "cell_type": "code",
   "execution_count": 139,
   "metadata": {},
   "outputs": [
    {
     "data": {
      "text/html": [
       "<div>\n",
       "<style scoped>\n",
       "    .dataframe tbody tr th:only-of-type {\n",
       "        vertical-align: middle;\n",
       "    }\n",
       "\n",
       "    .dataframe tbody tr th {\n",
       "        vertical-align: top;\n",
       "    }\n",
       "\n",
       "    .dataframe thead th {\n",
       "        text-align: right;\n",
       "    }\n",
       "</style>\n",
       "<table border=\"1\" class=\"dataframe\">\n",
       "  <thead>\n",
       "    <tr style=\"text-align: right;\">\n",
       "      <th></th>\n",
       "      <th>LAT</th>\n",
       "      <th>LON</th>\n",
       "      <th>WMO_WIND</th>\n",
       "      <th>WMO_PRES</th>\n",
       "      <th>DIST2LAND</th>\n",
       "      <th>LANDFALL</th>\n",
       "      <th>STORM_SPD</th>\n",
       "      <th>STORM_DR</th>\n",
       "      <th>dist</th>\n",
       "      <th>month_1.0</th>\n",
       "      <th>...</th>\n",
       "      <th>month_10.0</th>\n",
       "      <th>month_11.0</th>\n",
       "      <th>month_12.0</th>\n",
       "      <th>rank</th>\n",
       "      <th>rank_1</th>\n",
       "      <th>BASIN_EP</th>\n",
       "      <th>BASIN_NI</th>\n",
       "      <th>BASIN_SI</th>\n",
       "      <th>BASIN_SP</th>\n",
       "      <th>BASIN_WP</th>\n",
       "    </tr>\n",
       "  </thead>\n",
       "  <tbody>\n",
       "    <tr>\n",
       "      <th>223479</th>\n",
       "      <td>6.60</td>\n",
       "      <td>145.00</td>\n",
       "      <td>45.0</td>\n",
       "      <td>994.0</td>\n",
       "      <td>991.0</td>\n",
       "      <td>991.0</td>\n",
       "      <td>13.0</td>\n",
       "      <td>270.0</td>\n",
       "      <td>0.680000</td>\n",
       "      <td>0</td>\n",
       "      <td>...</td>\n",
       "      <td>0</td>\n",
       "      <td>0</td>\n",
       "      <td>0</td>\n",
       "      <td>98.0</td>\n",
       "      <td>1.0</td>\n",
       "      <td>0</td>\n",
       "      <td>0</td>\n",
       "      <td>0</td>\n",
       "      <td>0</td>\n",
       "      <td>1</td>\n",
       "    </tr>\n",
       "    <tr>\n",
       "      <th>223480</th>\n",
       "      <td>6.60</td>\n",
       "      <td>144.32</td>\n",
       "      <td>45.0</td>\n",
       "      <td>994.0</td>\n",
       "      <td>1007.0</td>\n",
       "      <td>1007.0</td>\n",
       "      <td>13.0</td>\n",
       "      <td>270.0</td>\n",
       "      <td>0.620000</td>\n",
       "      <td>0</td>\n",
       "      <td>...</td>\n",
       "      <td>0</td>\n",
       "      <td>0</td>\n",
       "      <td>0</td>\n",
       "      <td>97.0</td>\n",
       "      <td>2.0</td>\n",
       "      <td>0</td>\n",
       "      <td>0</td>\n",
       "      <td>0</td>\n",
       "      <td>0</td>\n",
       "      <td>1</td>\n",
       "    </tr>\n",
       "    <tr>\n",
       "      <th>223481</th>\n",
       "      <td>6.60</td>\n",
       "      <td>143.70</td>\n",
       "      <td>45.0</td>\n",
       "      <td>994.0</td>\n",
       "      <td>1026.0</td>\n",
       "      <td>1026.0</td>\n",
       "      <td>11.0</td>\n",
       "      <td>270.0</td>\n",
       "      <td>0.530000</td>\n",
       "      <td>0</td>\n",
       "      <td>...</td>\n",
       "      <td>0</td>\n",
       "      <td>0</td>\n",
       "      <td>0</td>\n",
       "      <td>96.0</td>\n",
       "      <td>3.0</td>\n",
       "      <td>0</td>\n",
       "      <td>0</td>\n",
       "      <td>0</td>\n",
       "      <td>0</td>\n",
       "      <td>1</td>\n",
       "    </tr>\n",
       "    <tr>\n",
       "      <th>223482</th>\n",
       "      <td>6.60</td>\n",
       "      <td>143.17</td>\n",
       "      <td>45.0</td>\n",
       "      <td>994.0</td>\n",
       "      <td>1045.0</td>\n",
       "      <td>1040.0</td>\n",
       "      <td>10.0</td>\n",
       "      <td>270.0</td>\n",
       "      <td>0.470000</td>\n",
       "      <td>0</td>\n",
       "      <td>...</td>\n",
       "      <td>0</td>\n",
       "      <td>0</td>\n",
       "      <td>0</td>\n",
       "      <td>95.0</td>\n",
       "      <td>4.0</td>\n",
       "      <td>0</td>\n",
       "      <td>0</td>\n",
       "      <td>0</td>\n",
       "      <td>0</td>\n",
       "      <td>1</td>\n",
       "    </tr>\n",
       "    <tr>\n",
       "      <th>223483</th>\n",
       "      <td>6.60</td>\n",
       "      <td>142.70</td>\n",
       "      <td>45.0</td>\n",
       "      <td>994.0</td>\n",
       "      <td>1040.0</td>\n",
       "      <td>1022.0</td>\n",
       "      <td>9.0</td>\n",
       "      <td>270.0</td>\n",
       "      <td>0.450000</td>\n",
       "      <td>0</td>\n",
       "      <td>...</td>\n",
       "      <td>0</td>\n",
       "      <td>0</td>\n",
       "      <td>0</td>\n",
       "      <td>94.0</td>\n",
       "      <td>5.0</td>\n",
       "      <td>0</td>\n",
       "      <td>0</td>\n",
       "      <td>0</td>\n",
       "      <td>0</td>\n",
       "      <td>1</td>\n",
       "    </tr>\n",
       "    <tr>\n",
       "      <th>...</th>\n",
       "      <td>...</td>\n",
       "      <td>...</td>\n",
       "      <td>...</td>\n",
       "      <td>...</td>\n",
       "      <td>...</td>\n",
       "      <td>...</td>\n",
       "      <td>...</td>\n",
       "      <td>...</td>\n",
       "      <td>...</td>\n",
       "      <td>...</td>\n",
       "      <td>...</td>\n",
       "      <td>...</td>\n",
       "      <td>...</td>\n",
       "      <td>...</td>\n",
       "      <td>...</td>\n",
       "      <td>...</td>\n",
       "      <td>...</td>\n",
       "      <td>...</td>\n",
       "      <td>...</td>\n",
       "      <td>...</td>\n",
       "      <td>...</td>\n",
       "    </tr>\n",
       "    <tr>\n",
       "      <th>693098</th>\n",
       "      <td>17.96</td>\n",
       "      <td>84.86</td>\n",
       "      <td>45.0</td>\n",
       "      <td>994.0</td>\n",
       "      <td>84.0</td>\n",
       "      <td>69.0</td>\n",
       "      <td>7.0</td>\n",
       "      <td>15.0</td>\n",
       "      <td>0.367696</td>\n",
       "      <td>0</td>\n",
       "      <td>...</td>\n",
       "      <td>0</td>\n",
       "      <td>0</td>\n",
       "      <td>0</td>\n",
       "      <td>5.0</td>\n",
       "      <td>46.0</td>\n",
       "      <td>0</td>\n",
       "      <td>1</td>\n",
       "      <td>0</td>\n",
       "      <td>0</td>\n",
       "      <td>0</td>\n",
       "    </tr>\n",
       "    <tr>\n",
       "      <th>693099</th>\n",
       "      <td>18.30</td>\n",
       "      <td>85.00</td>\n",
       "      <td>45.0</td>\n",
       "      <td>994.0</td>\n",
       "      <td>69.0</td>\n",
       "      <td>61.0</td>\n",
       "      <td>7.0</td>\n",
       "      <td>30.0</td>\n",
       "      <td>0.392046</td>\n",
       "      <td>0</td>\n",
       "      <td>...</td>\n",
       "      <td>0</td>\n",
       "      <td>0</td>\n",
       "      <td>0</td>\n",
       "      <td>4.0</td>\n",
       "      <td>47.0</td>\n",
       "      <td>0</td>\n",
       "      <td>1</td>\n",
       "      <td>0</td>\n",
       "      <td>0</td>\n",
       "      <td>0</td>\n",
       "    </tr>\n",
       "    <tr>\n",
       "      <th>693100</th>\n",
       "      <td>18.61</td>\n",
       "      <td>85.24</td>\n",
       "      <td>45.0</td>\n",
       "      <td>994.0</td>\n",
       "      <td>67.0</td>\n",
       "      <td>64.0</td>\n",
       "      <td>8.0</td>\n",
       "      <td>34.0</td>\n",
       "      <td>0.468722</td>\n",
       "      <td>0</td>\n",
       "      <td>...</td>\n",
       "      <td>0</td>\n",
       "      <td>0</td>\n",
       "      <td>0</td>\n",
       "      <td>3.0</td>\n",
       "      <td>48.0</td>\n",
       "      <td>0</td>\n",
       "      <td>1</td>\n",
       "      <td>0</td>\n",
       "      <td>0</td>\n",
       "      <td>0</td>\n",
       "    </tr>\n",
       "    <tr>\n",
       "      <th>693101</th>\n",
       "      <td>19.00</td>\n",
       "      <td>85.50</td>\n",
       "      <td>45.0</td>\n",
       "      <td>994.0</td>\n",
       "      <td>64.0</td>\n",
       "      <td>30.0</td>\n",
       "      <td>10.0</td>\n",
       "      <td>24.0</td>\n",
       "      <td>0.578705</td>\n",
       "      <td>0</td>\n",
       "      <td>...</td>\n",
       "      <td>0</td>\n",
       "      <td>0</td>\n",
       "      <td>0</td>\n",
       "      <td>2.0</td>\n",
       "      <td>49.0</td>\n",
       "      <td>0</td>\n",
       "      <td>1</td>\n",
       "      <td>0</td>\n",
       "      <td>0</td>\n",
       "      <td>0</td>\n",
       "    </tr>\n",
       "    <tr>\n",
       "      <th>693102</th>\n",
       "      <td>19.55</td>\n",
       "      <td>85.68</td>\n",
       "      <td>45.0</td>\n",
       "      <td>994.0</td>\n",
       "      <td>30.0</td>\n",
       "      <td>0.0</td>\n",
       "      <td>12.0</td>\n",
       "      <td>13.0</td>\n",
       "      <td>0.578705</td>\n",
       "      <td>0</td>\n",
       "      <td>...</td>\n",
       "      <td>0</td>\n",
       "      <td>0</td>\n",
       "      <td>0</td>\n",
       "      <td>1.0</td>\n",
       "      <td>50.0</td>\n",
       "      <td>0</td>\n",
       "      <td>1</td>\n",
       "      <td>0</td>\n",
       "      <td>0</td>\n",
       "      <td>0</td>\n",
       "    </tr>\n",
       "  </tbody>\n",
       "</table>\n",
       "<p>86169 rows × 28 columns</p>\n",
       "</div>"
      ],
      "text/plain": [
       "          LAT     LON  WMO_WIND  WMO_PRES  DIST2LAND  LANDFALL  STORM_SPD  \\\n",
       "223479   6.60  145.00      45.0     994.0      991.0     991.0       13.0   \n",
       "223480   6.60  144.32      45.0     994.0     1007.0    1007.0       13.0   \n",
       "223481   6.60  143.70      45.0     994.0     1026.0    1026.0       11.0   \n",
       "223482   6.60  143.17      45.0     994.0     1045.0    1040.0       10.0   \n",
       "223483   6.60  142.70      45.0     994.0     1040.0    1022.0        9.0   \n",
       "...       ...     ...       ...       ...        ...       ...        ...   \n",
       "693098  17.96   84.86      45.0     994.0       84.0      69.0        7.0   \n",
       "693099  18.30   85.00      45.0     994.0       69.0      61.0        7.0   \n",
       "693100  18.61   85.24      45.0     994.0       67.0      64.0        8.0   \n",
       "693101  19.00   85.50      45.0     994.0       64.0      30.0       10.0   \n",
       "693102  19.55   85.68      45.0     994.0       30.0       0.0       12.0   \n",
       "\n",
       "        STORM_DR      dist  month_1.0  ...  month_10.0  month_11.0  \\\n",
       "223479     270.0  0.680000          0  ...           0           0   \n",
       "223480     270.0  0.620000          0  ...           0           0   \n",
       "223481     270.0  0.530000          0  ...           0           0   \n",
       "223482     270.0  0.470000          0  ...           0           0   \n",
       "223483     270.0  0.450000          0  ...           0           0   \n",
       "...          ...       ...        ...  ...         ...         ...   \n",
       "693098      15.0  0.367696          0  ...           0           0   \n",
       "693099      30.0  0.392046          0  ...           0           0   \n",
       "693100      34.0  0.468722          0  ...           0           0   \n",
       "693101      24.0  0.578705          0  ...           0           0   \n",
       "693102      13.0  0.578705          0  ...           0           0   \n",
       "\n",
       "        month_12.0  rank  rank_1  BASIN_EP  BASIN_NI  BASIN_SI  BASIN_SP  \\\n",
       "223479           0  98.0     1.0         0         0         0         0   \n",
       "223480           0  97.0     2.0         0         0         0         0   \n",
       "223481           0  96.0     3.0         0         0         0         0   \n",
       "223482           0  95.0     4.0         0         0         0         0   \n",
       "223483           0  94.0     5.0         0         0         0         0   \n",
       "...            ...   ...     ...       ...       ...       ...       ...   \n",
       "693098           0   5.0    46.0         0         1         0         0   \n",
       "693099           0   4.0    47.0         0         1         0         0   \n",
       "693100           0   3.0    48.0         0         1         0         0   \n",
       "693101           0   2.0    49.0         0         1         0         0   \n",
       "693102           0   1.0    50.0         0         1         0         0   \n",
       "\n",
       "        BASIN_WP  \n",
       "223479         1  \n",
       "223480         1  \n",
       "223481         1  \n",
       "223482         1  \n",
       "223483         1  \n",
       "...          ...  \n",
       "693098         0  \n",
       "693099         0  \n",
       "693100         0  \n",
       "693101         0  \n",
       "693102         0  \n",
       "\n",
       "[86169 rows x 28 columns]"
      ]
     },
     "execution_count": 139,
     "metadata": {},
     "output_type": "execute_result"
    }
   ],
   "source": [
    "X"
   ]
  },
  {
   "cell_type": "code",
   "execution_count": 132,
   "metadata": {},
   "outputs": [],
   "source": [
    "y_pred_64 = rf_random_64.predict(X)"
   ]
  },
  {
   "cell_type": "code",
   "execution_count": 133,
   "metadata": {},
   "outputs": [
    {
     "data": {
      "text/plain": [
       "array([36.03056802, 36.68896401, 35.45550536, ..., 31.69380502,\n",
       "       30.94402489, 32.36615827])"
      ]
     },
     "execution_count": 133,
     "metadata": {},
     "output_type": "execute_result"
    }
   ],
   "source": [
    "y_pred_64"
   ]
  },
  {
   "cell_type": "code",
   "execution_count": 134,
   "metadata": {
    "colab": {},
    "colab_type": "code",
    "id": "wGV9jsVaIY8K"
   },
   "outputs": [
    {
     "data": {
      "text/plain": [
       "86169"
      ]
     },
     "execution_count": 134,
     "metadata": {},
     "output_type": "execute_result"
    }
   ],
   "source": [
    "X.loc[:,'Outcome'] = y_pred_64\n",
    "X.to_csv('max_64_.csv')\n",
    "len(X)"
   ]
  },
  {
   "cell_type": "code",
   "execution_count": null,
   "metadata": {
    "colab": {},
    "colab_type": "code",
    "id": "S5gcs39AH6TE"
   },
   "outputs": [],
   "source": []
  },
  {
   "cell_type": "code",
   "execution_count": 118,
   "metadata": {
    "colab": {},
    "colab_type": "code",
    "id": "AjCF07mKCdEb"
   },
   "outputs": [],
   "source": [
    "#result = pd.merge(df1, df_out, how = 'outer', left_on=['name', 'year'],  right_on=['NAME', 'SEASON'])"
   ]
  },
  {
   "cell_type": "code",
   "execution_count": 119,
   "metadata": {
    "colab": {},
    "colab_type": "code",
    "id": "3ZMMeYYnDEHR"
   },
   "outputs": [
    {
     "ename": "NameError",
     "evalue": "name 'result' is not defined",
     "output_type": "error",
     "traceback": [
      "\u001b[0;31m---------------------------------------------------------------------------\u001b[0m",
      "\u001b[0;31mNameError\u001b[0m                                 Traceback (most recent call last)",
      "\u001b[0;32m<ipython-input-119-0ac921c19f1a>\u001b[0m in \u001b[0;36m<module>\u001b[0;34m\u001b[0m\n\u001b[0;32m----> 1\u001b[0;31m \u001b[0mresult\u001b[0m\u001b[0;34m\u001b[0m\u001b[0;34m\u001b[0m\u001b[0m\n\u001b[0m",
      "\u001b[0;31mNameError\u001b[0m: name 'result' is not defined"
     ]
    }
   ],
   "source": [
    "result"
   ]
  },
  {
   "cell_type": "code",
   "execution_count": null,
   "metadata": {
    "colab": {},
    "colab_type": "code",
    "id": "d0_xkeBx6gQq"
   },
   "outputs": [],
   "source": [
    "X.loc[:,'Outcome'] = y_pred_64\n",
    "X.to_csv('max_64_.csv')\n",
    "len(X)"
   ]
  },
  {
   "cell_type": "code",
   "execution_count": null,
   "metadata": {},
   "outputs": [],
   "source": [
    "df_out_64 = pd.merge(df_to_pred, X, how = 'outer', on=['LAT','LON','WMO_WIND','WMO_PRES'] )"
   ]
  },
  {
   "cell_type": "code",
   "execution_count": null,
   "metadata": {},
   "outputs": [],
   "source": [
    "df_out_64.to_csv('max_64.csv')"
   ]
  },
  {
   "cell_type": "code",
   "execution_count": null,
   "metadata": {},
   "outputs": [],
   "source": []
  },
  {
   "cell_type": "code",
   "execution_count": null,
   "metadata": {},
   "outputs": [],
   "source": []
  }
 ],
 "metadata": {
  "colab": {
   "collapsed_sections": [],
   "name": "64 tracks_estimate_radii_V3.ipynb",
   "provenance": [],
   "toc_visible": true
  },
  "kernelspec": {
   "display_name": "Python 3",
   "language": "python",
   "name": "python3"
  },
  "language_info": {
   "codemirror_mode": {
    "name": "ipython",
    "version": 3
   },
   "file_extension": ".py",
   "mimetype": "text/x-python",
   "name": "python",
   "nbconvert_exporter": "python",
   "pygments_lexer": "ipython3",
   "version": "3.7.6"
  }
 },
 "nbformat": 4,
 "nbformat_minor": 4
}
