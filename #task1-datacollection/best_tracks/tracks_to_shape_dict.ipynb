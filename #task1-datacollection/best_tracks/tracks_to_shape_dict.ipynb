{
  "nbformat": 4,
  "nbformat_minor": 0,
  "metadata": {
    "colab": {
      "name": "tracks_to_shape_dict.ipynb",
      "provenance": []
    },
    "kernelspec": {
      "display_name": "Python 3",
      "language": "python",
      "name": "python3"
    },
    "language_info": {
      "codemirror_mode": {
        "name": "ipython",
        "version": 3
      },
      "file_extension": ".py",
      "mimetype": "text/x-python",
      "name": "python",
      "nbconvert_exporter": "python",
      "pygments_lexer": "ipython3",
      "version": "3.7.3"
    }
  },
  "cells": [
    {
      "cell_type": "code",
      "metadata": {
        "colab_type": "code",
        "id": "dXrJSlw9hQys",
        "colab": {}
      },
      "source": [
        "import pandas as pd\n",
        "import numpy as np\n",
        "import math\n",
        "from math import cos, sin, pi\n",
        "import matplotlib.pyplot as plt"
      ],
      "execution_count": 0,
      "outputs": []
    },
    {
      "cell_type": "code",
      "metadata": {
        "id": "UwGKNMydfhbu",
        "colab_type": "code",
        "colab": {}
      },
      "source": [
        ""
      ],
      "execution_count": 0,
      "outputs": []
    },
    {
      "cell_type": "code",
      "metadata": {
        "id": "xfBAsHf3Azr4",
        "colab_type": "code",
        "colab": {}
      },
      "source": [
        "df = pd.read_csv('https://raw.githubusercontent.com/omdena/wfpdisrel/master/%23task1-datacollection/best_tracks/epac-atl.csv?token=ABS6ZVEX2B6ZVC7RSRIH27C6REI5Q')"
      ],
      "execution_count": 0,
      "outputs": []
    },
    {
      "cell_type": "code",
      "metadata": {
        "id": "0613_-kEckaM",
        "colab_type": "code",
        "colab": {}
      },
      "source": [
        ""
      ],
      "execution_count": 0,
      "outputs": []
    },
    {
      "cell_type": "markdown",
      "metadata": {
        "colab_type": "text",
        "id": "nVYva5JpBd-m"
      },
      "source": [
        "### Shape function \n"
      ]
    },
    {
      "cell_type": "code",
      "metadata": {
        "colab_type": "code",
        "id": "tzjgWINbBd-k",
        "colab": {}
      },
      "source": [
        "def dist_(x1,y1,x2,y2):\n",
        "  return math.sqrt((x2 - x1)**2 + (y2 - y1)**2)"
      ],
      "execution_count": 0,
      "outputs": []
    },
    {
      "cell_type": "code",
      "metadata": {
        "colab_type": "code",
        "id": "va0hxVIlBd-h",
        "colab": {}
      },
      "source": [
        "def shape_func(df, name, year, radius_col):\n",
        "  def big_wind_plt(row):\n",
        "    x1 = row['lat']\n",
        "    x2 = row['lat_1']\n",
        "    y1 = row['long']\n",
        "    y2 = row['long_1']\n",
        "    r1 =row[radius_col]\n",
        "    r2 =row[radius_col+'_1']\n",
        "\n",
        "    r1 /= 60\n",
        "    r2 /= 60\n",
        "    dist = math.sqrt((x2 - x1)**2 + (y2 - y1)**2)\n",
        "    if dist == 0 :\n",
        "      return [0,0,0,0], [0,0,0,0]\n",
        "    gamma = -np.arctan((y2-y1)/(x2-x1))\n",
        "    beta = np.arcsin((r2-r1)/dist)\n",
        "    alpha = gamma - beta\n",
        "\n",
        "      # points (x3, y3) and (x4, y4)\n",
        "    x3 = x1 + (r1 * cos( pi / 2 - alpha))\n",
        "    y3 =  y1 + (r1 * sin( pi / 2 - alpha))\n",
        "    x4 =  x2 + (r2 * cos( pi / 2 - alpha))\n",
        "    y4 =  y2 + (r2 * sin( pi / 2 - alpha))\n",
        "\n",
        "      # points (x5, y5) and (x6, y6)\n",
        "    x5 = x1 - (r1 * cos( pi / 2 - alpha))\n",
        "    y5 =  y1 - (r1 * sin( pi / 2 - alpha))\n",
        "    x6 =  x2 - (r2 * cos( pi / 2 - alpha))\n",
        "    y6 =  y2 - (r2 * sin( pi / 2 - alpha))\n",
        "\n",
        "    return [[ y3, x3], [ y4, x4], [ y6,  x6],  [ y5, x5]]\n",
        "\n",
        "\n",
        "\n",
        "\n",
        "\n",
        "  df_new=df[df['name']== name][df['year']== year]\n",
        "  df_new[radius_col+'_dg']=df_new[radius_col]/60\n",
        "  df_new = df_new.reset_index()\n",
        "  df_new['long']  = - df_new['long'] \n",
        "  df_new['long_1'] = df_new.groupby(['name'])['long'].shift(-1)\n",
        "  df_new['lat_1'] = df_new.groupby(['name'])['lat'].shift(-1)\n",
        "  df_new[radius_col+'_1'] = df_new.groupby(['name'])[radius_col].shift(-1)\n",
        "  df_new =df_new.reset_index()\n",
        "  for index, row  in  df_new.iterrows():\n",
        "    if row['lat'] ==row['lat_1']:\n",
        "      try:\n",
        "        df_new.drop(index+1, inplace=True)\n",
        "      except:\n",
        "        pass\n",
        "    df_new = df_new.drop(['index'], axis=1)\n",
        "    df_new =df_new.reset_index()\n",
        "\n",
        "\n",
        "\n",
        "  initial_lat=df_new[\"lat\"].iloc[-1]\n",
        "  initial_long=df_new[\"long\"].iloc[-1]\n",
        "  initial_r=df_new[radius_col+'_dg'].iloc[-1]\n",
        "  for i in range(len(df_new)):\n",
        "\n",
        "      lat1= df_new.loc[i,'lat'] \n",
        "      long1= df_new.loc[i,'long']\n",
        "      r1= df_new.loc[i,radius_col+'_dg']\n",
        "     \n",
        "      list_ = []\n",
        "      for j in range(i+1,len(df_new)):\n",
        "        lat2= df_new.loc[j,'lat'] \n",
        "        long2= df_new.loc[j,'long']\n",
        "        #r2= df_new.loc[j,radius_col+'_dg']\n",
        "        if dist_(-long2,lat2,-long1,lat1)<r1:\n",
        "          df_new.loc[j,'lat'] = df_new.loc[i,'lat']\n",
        "\n",
        "          df_new.loc[j,'long'] = df_new.loc[i,'long']\n",
        "\n",
        "          df_new.loc[j,radius_col+'_dg'] = df_new.loc[i,radius_col+'_dg']\n",
        "        \n",
        "  df_new['long_1'] = df_new.groupby(['name'])['long'].shift(-1)\n",
        "  df_new['lat_1'] = df_new.groupby(['name'])['lat'].shift(-1)\n",
        "  df_new[radius_col+'_1'] = df_new.groupby(['name'])[radius_col].shift(-1)\n",
        "  df_new = df_new.drop(['index'], axis=1)\n",
        "\n",
        "  df_new =df_new.reset_index()\n",
        "  df_new = df_new.drop(['level_0'], axis=1)\n",
        "  for index, row  in  df_new.iterrows():\n",
        "    if row['lat'] ==row['lat_1']:\n",
        "      try:\n",
        "        df_new.drop(index+1, inplace=True)\n",
        "      except:\n",
        "        pass\n",
        "      \n",
        "  \n",
        "  df_new =df_new.reset_index()      \n",
        "\n",
        "  df_new['long_1'] = df_new.groupby(['name'])['long'].shift(-1)\n",
        "  df_new['lat_1'] = df_new.groupby(['name'])['lat'].shift(-1)\n",
        "  df_new[radius_col+'_1'] = df_new.groupby(['name'])[radius_col].shift(-1)\n",
        "  #df_new['shape'] = df_new.apply(big_wind_34, axis=1)\n",
        "  df_new['shape_plt'+radius_col] = df_new.apply(big_wind_plt, axis=1)\n",
        "  poly = np.array(df_new['shape_plt'+radius_col] )\n",
        "  long =  np.array(df_new['long'])\n",
        "  lat =  np.array(df_new['lat'])\n",
        "  r =  np.array(df_new[radius_col])\n",
        "\n",
        "\n",
        "  \n",
        "\n",
        "  return poly, long, lat, r"
      ],
      "execution_count": 0,
      "outputs": []
    },
    {
      "cell_type": "markdown",
      "metadata": {
        "id": "jQuEVWQnCDis",
        "colab_type": "text"
      },
      "source": [
        "### Produce DICT that has the shapes!"
      ]
    },
    {
      "cell_type": "code",
      "metadata": {
        "colab_type": "code",
        "id": "RtlS63VVBd-e",
        "colab": {}
      },
      "source": [
        "df"
      ],
      "execution_count": 0,
      "outputs": []
    },
    {
      "cell_type": "code",
      "metadata": {
        "colab_type": "code",
        "id": "HdvqR3q_Bd-b",
        "colab": {}
      },
      "source": [
        "cyclones = df[['id','name','year']]"
      ],
      "execution_count": 0,
      "outputs": []
    },
    {
      "cell_type": "code",
      "metadata": {
        "colab_type": "code",
        "id": "KL71PfinBd-Z",
        "colab": {}
      },
      "source": [
        "cyclones = cyclones.drop_duplicates()"
      ],
      "execution_count": 0,
      "outputs": []
    },
    {
      "cell_type": "code",
      "metadata": {
        "colab_type": "code",
        "outputId": "a8fccd26-3c66-4b8d-b47a-0e5035d7a1d0",
        "id": "k1jRdLvQBd-W",
        "colab": {
          "base_uri": "https://localhost:8080/",
          "height": 450
        }
      },
      "source": [
        "cyclones.set_index('id')"
      ],
      "execution_count": 0,
      "outputs": [
        {
          "output_type": "execute_result",
          "data": {
            "text/html": [
              "<div>\n",
              "<style scoped>\n",
              "    .dataframe tbody tr th:only-of-type {\n",
              "        vertical-align: middle;\n",
              "    }\n",
              "\n",
              "    .dataframe tbody tr th {\n",
              "        vertical-align: top;\n",
              "    }\n",
              "\n",
              "    .dataframe thead th {\n",
              "        text-align: right;\n",
              "    }\n",
              "</style>\n",
              "<table border=\"1\" class=\"dataframe\">\n",
              "  <thead>\n",
              "    <tr style=\"text-align: right;\">\n",
              "      <th></th>\n",
              "      <th>name</th>\n",
              "      <th>year</th>\n",
              "    </tr>\n",
              "    <tr>\n",
              "      <th>id</th>\n",
              "      <th></th>\n",
              "      <th></th>\n",
              "    </tr>\n",
              "  </thead>\n",
              "  <tbody>\n",
              "    <tr>\n",
              "      <th>AL0188</th>\n",
              "      <td>ALBERTO</td>\n",
              "      <td>1988</td>\n",
              "    </tr>\n",
              "    <tr>\n",
              "      <th>AL0288</th>\n",
              "      <td>BERYL</td>\n",
              "      <td>1988</td>\n",
              "    </tr>\n",
              "    <tr>\n",
              "      <th>AL0388</th>\n",
              "      <td>CHRIS</td>\n",
              "      <td>1988</td>\n",
              "    </tr>\n",
              "    <tr>\n",
              "      <th>AL0488</th>\n",
              "      <td>DEBBY</td>\n",
              "      <td>1988</td>\n",
              "    </tr>\n",
              "    <tr>\n",
              "      <th>AL0588</th>\n",
              "      <td>ERNESTO</td>\n",
              "      <td>1988</td>\n",
              "    </tr>\n",
              "    <tr>\n",
              "      <th>...</th>\n",
              "      <td>...</td>\n",
              "      <td>...</td>\n",
              "    </tr>\n",
              "    <tr>\n",
              "      <th>EP2118</th>\n",
              "      <td>SERGIO</td>\n",
              "      <td>2018</td>\n",
              "    </tr>\n",
              "    <tr>\n",
              "      <th>EP2218</th>\n",
              "      <td>TARA</td>\n",
              "      <td>2018</td>\n",
              "    </tr>\n",
              "    <tr>\n",
              "      <th>EP2318</th>\n",
              "      <td>VINCENT</td>\n",
              "      <td>2018</td>\n",
              "    </tr>\n",
              "    <tr>\n",
              "      <th>EP2418</th>\n",
              "      <td>WILLA</td>\n",
              "      <td>2018</td>\n",
              "    </tr>\n",
              "    <tr>\n",
              "      <th>EP2518</th>\n",
              "      <td>XAVIER</td>\n",
              "      <td>2018</td>\n",
              "    </tr>\n",
              "  </tbody>\n",
              "</table>\n",
              "<p>725 rows × 2 columns</p>\n",
              "</div>"
            ],
            "text/plain": [
              "           name  year\n",
              "id                   \n",
              "AL0188  ALBERTO  1988\n",
              "AL0288    BERYL  1988\n",
              "AL0388    CHRIS  1988\n",
              "AL0488    DEBBY  1988\n",
              "AL0588  ERNESTO  1988\n",
              "...         ...   ...\n",
              "EP2118   SERGIO  2018\n",
              "EP2218     TARA  2018\n",
              "EP2318  VINCENT  2018\n",
              "EP2418    WILLA  2018\n",
              "EP2518   XAVIER  2018\n",
              "\n",
              "[725 rows x 2 columns]"
            ]
          },
          "metadata": {
            "tags": []
          },
          "execution_count": 87
        }
      ]
    },
    {
      "cell_type": "code",
      "metadata": {
        "colab_type": "code",
        "id": "oIjJAkuzBd-T",
        "colab": {}
      },
      "source": [
        "cyclones"
      ],
      "execution_count": 0,
      "outputs": []
    },
    {
      "cell_type": "code",
      "metadata": {
        "colab_type": "code",
        "id": "RneMYO-cBd-O",
        "colab": {}
      },
      "source": [
        "love = ['rmw','r_press','max_34','max_50',\t'max_64']\n",
        "\n",
        "shapes = {}\n",
        "c={}\n",
        "for i,cyclone in cyclones.iterrows():\n",
        "\n",
        "  for radius in love:\n",
        "    name = cyclone['name']\n",
        "    year = cyclone['year']\n",
        "    radius_col = radius\n",
        "    shapes['name']=name\n",
        "    shapes['year']=year\n",
        "    shapes['shape_'+radius] = shape_func(df, name, year, radius_col)\n",
        "    print(name, year)\n",
        "    print (shape_func(df, name, year, radius_col))\n",
        "  c[i]=shapes"
      ],
      "execution_count": 0,
      "outputs": []
    },
    {
      "cell_type": "markdown",
      "metadata": {
        "id": "pIWv5N-2BiXW",
        "colab_type": "text"
      },
      "source": [
        ""
      ]
    },
    {
      "cell_type": "code",
      "metadata": {
        "colab_type": "code",
        "id": "1kko0jxsBd-L",
        "colab": {}
      },
      "source": [
        "c[21079]"
      ],
      "execution_count": 0,
      "outputs": []
    },
    {
      "cell_type": "code",
      "metadata": {
        "colab_type": "code",
        "id": "NXLzcPE6Bd-I",
        "colab": {}
      },
      "source": [
        ""
      ],
      "execution_count": 0,
      "outputs": []
    },
    {
      "cell_type": "code",
      "metadata": {
        "id": "IfznxXZyCJFc",
        "colab_type": "code",
        "colab": {}
      },
      "source": [
        ""
      ],
      "execution_count": 0,
      "outputs": []
    },
    {
      "cell_type": "markdown",
      "metadata": {
        "id": "59l9BiSdCKlf",
        "colab_type": "text"
      },
      "source": [
        "###VIZ"
      ]
    },
    {
      "cell_type": "code",
      "metadata": {
        "colab_type": "code",
        "outputId": "f6943dc9-a3e9-4e48-f351-4a1c47ddaa44",
        "id": "xWR_PwlLBd-F",
        "colab": {
          "base_uri": "https://localhost:8080/",
          "height": 68
        }
      },
      "source": [
        "poly_arr = np.array(shape_func(df, 'ADOLPH', 2001, 'max_34'))"
      ],
      "execution_count": 0,
      "outputs": [
        {
          "output_type": "stream",
          "text": [
            "/usr/local/lib/python3.6/dist-packages/ipykernel_launcher.py:37: UserWarning: Boolean Series key will be reindexed to match DataFrame index.\n",
            "/usr/local/lib/python3.6/dist-packages/ipykernel_launcher.py:16: RuntimeWarning: invalid value encountered in arcsin\n",
            "  app.launch_new_instance()\n"
          ],
          "name": "stderr"
        }
      ]
    },
    {
      "cell_type": "code",
      "metadata": {
        "colab_type": "code",
        "outputId": "9184d1f3-8569-4494-9d90-56f35c3d303b",
        "id": "uCEH1Rt7Bd-D",
        "colab": {
          "base_uri": "https://localhost:8080/",
          "height": 85
        }
      },
      "source": [
        "shape_func(df, 'ADOLPH', 2001, 'max_34')[1][0]\n"
      ],
      "execution_count": 0,
      "outputs": [
        {
          "output_type": "stream",
          "text": [
            "/usr/local/lib/python3.6/dist-packages/ipykernel_launcher.py:37: UserWarning: Boolean Series key will be reindexed to match DataFrame index.\n",
            "/usr/local/lib/python3.6/dist-packages/ipykernel_launcher.py:16: RuntimeWarning: invalid value encountered in arcsin\n",
            "  app.launch_new_instance()\n"
          ],
          "name": "stderr"
        },
        {
          "output_type": "execute_result",
          "data": {
            "text/plain": [
              "-101.1"
            ]
          },
          "metadata": {
            "tags": []
          },
          "execution_count": 45
        }
      ]
    },
    {
      "cell_type": "code",
      "metadata": {
        "colab_type": "code",
        "outputId": "8c94ba6d-ac50-45ec-ae68-83e50094d5da",
        "id": "rT6zHjUYBd9_",
        "colab": {
          "base_uri": "https://localhost:8080/",
          "height": 241
        }
      },
      "source": [
        " \n",
        "c1 = shape_func(df, 'ADOLPH', 2001, 'max_34')[1]\n",
        "c2 = shape_func(df, 'ADOLPH', 2001, 'max_34')[2]\n",
        "p__ = shape_func(df, 'ADOLPH', 2001, 'max_34')[0]\n",
        "rmw = shape_func(df, 'ADOLPH', 2001, 'max_34')[3]\n",
        "import matplotlib.pyplot as plt\n",
        "\n",
        "plt.axes()\n",
        "\n",
        "\n",
        "\n",
        "\n",
        "for i,j,rr in zip(c1,c2,rmw):\n",
        "   plt.gca().add_patch( plt.Circle(( np.array(i),  np.array(j)),  np.array(rr)/60, fc='y',  alpha=0.3))\n",
        "    \n",
        "   \n",
        "\n",
        "for i in p__:\n",
        "    plt.gca().add_patch(plt.Polygon(np.array(i), alpha=0.3) )\n",
        "\n",
        "\n",
        "plt.axis('scaled')\n",
        "plt.show()"
      ],
      "execution_count": 0,
      "outputs": [
        {
          "output_type": "stream",
          "text": [
            "/usr/local/lib/python3.6/dist-packages/ipykernel_launcher.py:37: UserWarning: Boolean Series key will be reindexed to match DataFrame index.\n",
            "/usr/local/lib/python3.6/dist-packages/ipykernel_launcher.py:16: RuntimeWarning: invalid value encountered in arcsin\n",
            "  app.launch_new_instance()\n"
          ],
          "name": "stderr"
        },
        {
          "output_type": "display_data",
          "data": {
            "image/png": "[encoded data removed]",
            "text/plain": [
              "<Figure size 432x288 with 1 Axes>"
            ]
          },
          "metadata": {
            "tags": []
          }
        }
      ]
    },
    {
      "cell_type": "code",
      "metadata": {
        "colab_type": "code",
        "id": "9Db41ZJhBd98",
        "colab": {}
      },
      "source": [
        ""
      ],
      "execution_count": 0,
      "outputs": []
    }
  ]
}