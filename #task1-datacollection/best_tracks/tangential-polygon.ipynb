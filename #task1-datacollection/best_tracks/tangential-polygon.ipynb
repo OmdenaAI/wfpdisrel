{
 "cells": [
  {
   "cell_type": "code",
   "execution_count": 29,
   "metadata": {},
   "outputs": [],
   "source": [
    "import numpy as np\n",
    "import math\n",
    "from math import cos, sin, pi\n",
    "from scipy.spatial import ConvexHull\n",
    "import matplotlib.pyplot as plt"
   ]
  },
  {
   "cell_type": "code",
   "execution_count": 30,
   "metadata": {},
   "outputs": [],
   "source": [
    "\"\"\"\n",
    "returns the 4 outer tangential points of 2 circles (x1, y1) and (x2, y2) with radii r1 and r2\n",
    "reference: https://en.wikipedia.org/wiki/Tangent_lines_to_circles\n",
    "\"\"\"\n",
    "def big_wind_plt_1(x1, y1, x2, y2, r1, r2):\n",
    "    r1 /= 60\n",
    "    r2 /= 60\n",
    "    dist = math.sqrt((x2 - x1)**2 + (y2 - y1)**2)\n",
    "    if dist == 0 :\n",
    "        return [0,0,0,0], [0,0,0,0]\n",
    "    \n",
    "    gamma = -np.arctan((y2-y1)/(x2-x1))\n",
    "    beta = np.arcsin((r2-r1)/dist)\n",
    "    alpha = gamma - beta\n",
    "\n",
    "    # points (x3, y3) and (x4, y4)\n",
    "    x3 = x1 + (r1 * cos( pi / 2 - alpha))\n",
    "    y3 =  y1 + (r1 * sin( pi / 2 - alpha))\n",
    "    x4 =  x2 + (r2 * cos( pi / 2 - alpha))\n",
    "    y4 =  y2 + (r2 * sin( pi / 2 - alpha))\n",
    "\n",
    "    # points (x5, y5) and (x6, y6)\n",
    "    x5 = x1 - (r1 * cos( pi / 2 - alpha))\n",
    "    y5 =  y1 - (r1 * sin( pi / 2 - alpha))\n",
    "    x6 =  x2 - (r2 * cos( pi / 2 - alpha))\n",
    "    y6 =  y2 - (r2 * sin( pi / 2 - alpha))\n",
    "\n",
    "    return [[x3, y3], [x4, y4], [x5, y5], [ x6, y6]]"
   ]
  },
  {
   "cell_type": "code",
   "execution_count": 35,
   "metadata": {},
   "outputs": [
    {
     "name": "stdout",
     "output_type": "stream",
     "text": [
      "[[-100.48190026   16.6127878 ]\n",
      " [-111.80184748   19.23187703]\n",
      " [-101.91809974   10.7872122 ]\n",
      " [-113.19815252   13.56812297]]\n"
     ]
    }
   ],
   "source": [
    "# get the 4 outer tangential points\n",
    "points = np.array(big_wind_plt_1(-101.2, 13.7, -112.5, 16.4, 180, 175))\n",
    "print(points)"
   ]
  },
  {
   "cell_type": "code",
   "execution_count": 36,
   "metadata": {},
   "outputs": [],
   "source": [
    "# generate the convex hull polygon of the 4 outer tangential points\n",
    "hull = ConvexHull(points)"
   ]
  },
  {
   "cell_type": "code",
   "execution_count": 38,
   "metadata": {
    "_cell_guid": "79c7e3d0-c299-4dcb-8224-4455121ee9b0",
    "_uuid": "d629ff2d2480ee46fbb7e2d37f6b5fab8052498a"
   },
   "outputs": [
    {
     "data": {
      "image/png": "[encoded data removed]",
      "text/plain": [
       "<Figure size 432x288 with 1 Axes>"
      ]
     },
     "metadata": {
      "needs_background": "light"
     },
     "output_type": "display_data"
    }
   ],
   "source": [
    "# plot everything together\n",
    "plt.axes()\n",
    "\n",
    "# plot the circles\n",
    "plt.gca().add_patch( plt.Circle((-101.2, 13.7), 180/60, fc='r',  alpha=0.3))\n",
    "plt.gca().add_patch( plt.Circle((-112.5, 16.4), 175/60, fc='r',  alpha=0.3))\n",
    "\n",
    "\n",
    "# plt.gca().add_patch(plt.Polygon(np.array([[-113.19815252467117, 13.568122972878284],\n",
    "#  [-111.80184747532883, 19.231877027121712],\n",
    "#  [-101.91809973966177, 10.787212200674807],\n",
    "#  [-100.48190026033824, 16.61278779932519]]), alpha=0.3))\n",
    "\n",
    "# plot the convex hull polygon\n",
    "for simplex in hull.simplices:\n",
    "    plt.plot(points[simplex, 0], points[simplex, 1], 'k--')\n",
    "\n",
    "plt.axis('scaled')\n",
    "plt.show()"
   ]
  },
  {
   "cell_type": "code",
   "execution_count": null,
   "metadata": {},
   "outputs": [],
   "source": []
  }
 ],
 "metadata": {
  "kernelspec": {
   "display_name": "Python 3",
   "language": "python",
   "name": "python3"
  },
  "language_info": {
   "codemirror_mode": {
    "name": "ipython",
    "version": 3
   },
   "file_extension": ".py",
   "mimetype": "text/x-python",
   "name": "python",
   "nbconvert_exporter": "python",
   "pygments_lexer": "ipython3",
   "version": "3.7.3"
  }
 },
 "nbformat": 4,
 "nbformat_minor": 4
}
