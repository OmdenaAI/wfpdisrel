{
 "cells": [
  {
   "cell_type": "code",
   "execution_count": 1,
   "metadata": {},
   "outputs": [],
   "source": [
    "import numpy as np\n",
    "import pandas as pd\n",
    "#import shapefile as shp\n",
    "import matplotlib.pyplot as plt\n",
    "import seaborn as sns\n",
    "import operator\n",
    "import warnings\n",
    "warnings.filterwarnings(\"ignore\")\n",
    "from pandas.plotting import scatter_matrix\n",
    "import re"
   ]
  },
  {
   "cell_type": "code",
   "execution_count": 2,
   "metadata": {},
   "outputs": [],
   "source": [
    "df_IBTrACS = pd.read_csv('E:\\WFP_Omdena_Project\\TCE-DAT and IBTtracs merge\\IBTrACS-ALL-list-v04r00-lines-dbf_Copy.csv')"
   ]
  },
  {
   "cell_type": "code",
   "execution_count": 3,
   "metadata": {},
   "outputs": [],
   "source": [
    "df_IBTrACS_g1949 =df_IBTrACS[df_IBTrACS['year']>= 1949]\n",
    "df_IBTrACS_g1949.reset_index(drop=True,inplace=True)"
   ]
  },
  {
   "cell_type": "code",
   "execution_count": 4,
   "metadata": {},
   "outputs": [
    {
     "data": {
      "text/plain": [
       "[('SID', 1.0),\n",
       " ('SEASON', 1.0),\n",
       " ('NUMBER', 1.0),\n",
       " ('NAME', 1.0),\n",
       " ('ISO_TIME', 1.0),\n",
       " ('NATURE', 1.0),\n",
       " ('LAT', 1.0),\n",
       " ('LON', 1.0),\n",
       " ('TRACK_TYPE', 1.0),\n",
       " ('DIST2LAND', 1.0),\n",
       " ('LANDFALL', 1.0),\n",
       " ('IFLAG', 1.0),\n",
       " ('NEW_CI', 1.0),\n",
       " ('REU_TNUM', 1.0),\n",
       " ('REU_CI', 1.0),\n",
       " ('BOM_TNUM', 1.0),\n",
       " ('BOM_CI', 1.0),\n",
       " ('STORM_SPD', 1.0),\n",
       " ('STORM_DR', 1.0),\n",
       " ('year', 1.0),\n",
       " ('month', 1.0),\n",
       " ('day', 1.0),\n",
       " ('hour', 1.0),\n",
       " ('min', 1.0),\n",
       " ('USA_SSHS', 0.992),\n",
       " ('SUBBASIN', 0.869),\n",
       " ('BASIN', 0.827),\n",
       " ('USA_ATCFID', 0.629),\n",
       " ('USA_LAT', 0.625),\n",
       " ('USA_LON', 0.625),\n",
       " ('USA_WIND', 0.532),\n",
       " ('TD6_STAGE', 0.448),\n",
       " ('TD6_LAT', 0.439),\n",
       " ('TD6_LON', 0.439),\n",
       " ('USA_STATUS', 0.322),\n",
       " ('USA_AGENCY', 0.307),\n",
       " ('WMO_AGENCY', 0.295),\n",
       " ('DS8_STAGE', 0.277),\n",
       " ('DS8_LAT', 0.273),\n",
       " ('DS8_LON', 0.273),\n",
       " ('DS8_WIND', 0.236),\n",
       " ('WMO_PRES', 0.212),\n",
       " ('WMO_WIND', 0.209),\n",
       " ('USA_PRES', 0.198),\n",
       " ('CMA_CAT', 0.195),\n",
       " ('CMA_LAT', 0.193),\n",
       " ('CMA_LON', 0.193),\n",
       " ('CMA_PRES', 0.193),\n",
       " ('TOK_LAT', 0.18),\n",
       " ('TOK_LON', 0.18),\n",
       " ('TOK_GRADE', 0.18),\n",
       " ('TOK_PRES', 0.18),\n",
       " ('TOK_R50_DR', 0.18),\n",
       " ('TOK_R30_DR', 0.18),\n",
       " ('CMA_WIND', 0.176),\n",
       " ('TD6_WIND', 0.149),\n",
       " ('NEU_CLASS', 0.131),\n",
       " ('NEU_LAT', 0.13),\n",
       " ('NEU_LON', 0.13),\n",
       " ('NEU_WIND', 0.13),\n",
       " ('HKO_CAT', 0.115),\n",
       " ('REU_TYPE', 0.114),\n",
       " ('USA_POCI', 0.113),\n",
       " ('HKO_LAT', 0.113),\n",
       " ('HKO_LON', 0.113),\n",
       " ('HKO_WIND', 0.113),\n",
       " ('HKO_PRES', 0.113),\n",
       " ('REU_LAT', 0.113),\n",
       " ('REU_LON', 0.113),\n",
       " ('USA_ROCI', 0.112),\n",
       " ('USA_RMW', 0.112),\n",
       " ('TOK_LAND', 0.093),\n",
       " ('BOM_LAT', 0.093),\n",
       " ('BOM_LON', 0.093),\n",
       " ('BOM_PRES', 0.083),\n",
       " ('USA_R34_NE', 0.08),\n",
       " ('USA_R34_SE', 0.079),\n",
       " ('USA_R34_NW', 0.078),\n",
       " ('USA_R34_SW', 0.074),\n",
       " ('TOK_WIND', 0.066),\n",
       " ('TOK_R30_L', 0.066),\n",
       " ('TOK_R30_S', 0.066),\n",
       " ('TD5_LAT', 0.06),\n",
       " ('TD5_LON', 0.06),\n",
       " ('TD5_WIND', 0.06),\n",
       " ('TD5_PRES', 0.06),\n",
       " ('TD5_ROCI', 0.06),\n",
       " ('BOM_WIND', 0.05),\n",
       " ('BOM_TYPE', 0.048),\n",
       " ('MLC_LAT', 0.045),\n",
       " ('MLC_LON', 0.045),\n",
       " ('MLC_CLASS', 0.045),\n",
       " ('MLC_WIND', 0.045),\n",
       " ('REU_WIND', 0.04),\n",
       " ('USA_R50_NE', 0.039),\n",
       " ('REU_PRES', 0.039),\n",
       " ('USA_R50_SE', 0.038),\n",
       " ('USA_R50_NW', 0.038),\n",
       " ('TOK_R50_L', 0.037),\n",
       " ('TOK_R50_S', 0.037),\n",
       " ('USA_R50_SW', 0.036),\n",
       " ('NEU_PRES', 0.036),\n",
       " ('WEL_LAT', 0.034),\n",
       " ('WEL_LON', 0.034),\n",
       " ('WEL_WIND', 0.034),\n",
       " ('WEL_PRES', 0.034),\n",
       " ('DS8_PRES', 0.029),\n",
       " ('BOM_ROCI', 0.026),\n",
       " ('USA_R64_NE', 0.025),\n",
       " ('USA_R64_SE', 0.024),\n",
       " ('USA_R64_NW', 0.024),\n",
       " ('USA_R64_SW', 0.023),\n",
       " ('USA_SEAHGT', 0.019),\n",
       " ('USA_GUST', 0.018),\n",
       " ('BOM_POCI', 0.013),\n",
       " ('BOM_POS_FL', 0.012),\n",
       " ('BOM_PRS_FL', 0.011),\n",
       " ('NAD_LAT', 0.011),\n",
       " ('NAD_LON', 0.011),\n",
       " ('BOM_GUST', 0.011),\n",
       " ('BOM_GUSTP', 0.011),\n",
       " ('NAD_WIND', 0.01),\n",
       " ('NAD_PRES', 0.01),\n",
       " ('USA_SEARAD', 0.01),\n",
       " ('NEW_LAT', 0.009),\n",
       " ('NEW_LON', 0.009),\n",
       " ('NEW_WIND', 0.009),\n",
       " ('NEW_PRES', 0.009),\n",
       " ('NEW_GRADE', 0.008),\n",
       " ('NEW_DP', 0.008),\n",
       " ('REU_R34_NE', 0.008),\n",
       " ('REU_R34_SE', 0.008),\n",
       " ('REU_R34_SW', 0.008),\n",
       " ('REU_R34_NW', 0.008),\n",
       " ('REU_GUSTP', 0.008),\n",
       " ('REU_RMW', 0.007),\n",
       " ('NAD_CAT', 0.007),\n",
       " ('BOM_RMW', 0.006),\n",
       " ('BOM_R34_NE', 0.005),\n",
       " ('BOM_R34_SE', 0.005),\n",
       " ('BOM_R34_SW', 0.005),\n",
       " ('BOM_R34_NW', 0.005),\n",
       " ('MLC_PRES', 0.005),\n",
       " ('USA_EYE', 0.004),\n",
       " ('REU_R50_NE', 0.004),\n",
       " ('REU_R50_SE', 0.004),\n",
       " ('REU_R50_SW', 0.004),\n",
       " ('REU_R50_NW', 0.004),\n",
       " ('USA_RECORD', 0.002),\n",
       " ('BOM_R50_SE', 0.002),\n",
       " ('BOM_R50_SW', 0.002),\n",
       " ('BOM_EYE', 0.002),\n",
       " ('NEW_POCI', 0.001),\n",
       " ('BOM_R50_NE', 0.001),\n",
       " ('BOM_R50_NW', 0.001),\n",
       " ('BOM_R64_SE', 0.001),\n",
       " ('BOM_R64_SW', 0.001),\n",
       " ('REU_R64_NE', 0.0),\n",
       " ('REU_R64_SE', 0.0),\n",
       " ('REU_R64_SW', 0.0),\n",
       " ('REU_R64_NW', 0.0),\n",
       " ('BOM_R64_NE', 0.0),\n",
       " ('BOM_R64_NW', 0.0),\n",
       " ('TD6_PRES', 0.0),\n",
       " ('REU_GUST', 0.0)]"
      ]
     },
     "execution_count": 4,
     "metadata": {},
     "output_type": "execute_result"
    }
   ],
   "source": [
    "def get_perc_values(df):\n",
    "  return sorted({k:round(v/df.shape[0],3) for k,v in dict(df.notnull().sum()).items()}.items(), key=operator.itemgetter(1), reverse=True)\n",
    "\n",
    "sorted_perc_values = get_perc_values(df_IBTrACS)\n",
    "sorted_perc_values"
   ]
  },
  {
   "cell_type": "code",
   "execution_count": 5,
   "metadata": {},
   "outputs": [],
   "source": [
    "df_IBTrACS_f = df_IBTrACS[df_IBTrACS['SEASON']>= 1950]\n",
    "df_IBTrACS_f.reset_index(drop=True,inplace=True)"
   ]
  },
  {
   "cell_type": "code",
   "execution_count": 7,
   "metadata": {},
   "outputs": [],
   "source": [
    "# df_IBTrACS.set_index(['SEASON','NAME','NUMBER'])"
   ]
  },
  {
   "cell_type": "code",
   "execution_count": 8,
   "metadata": {},
   "outputs": [],
   "source": [
    "df_IBTrACS_land = df_IBTrACS[df_IBTrACS['DIST2LAND']==0]"
   ]
  },
  {
   "cell_type": "code",
   "execution_count": 11,
   "metadata": {},
   "outputs": [],
   "source": [
    "import reverse_geocoder as rg"
   ]
  },
  {
   "cell_type": "code",
   "execution_count": 29,
   "metadata": {},
   "outputs": [],
   "source": [
    "def add_country(lat, lon):\n",
    "  coordinates = [(lat, lon)]\n",
    "  results = rg.search(coordinates) # default mode = 2\n",
    "  country = results[0]['cc']\n",
    "  return country\n",
    "\n",
    "df_IBTrACS_land_country = df_IBTrACS_land.copy()\n",
    "df_IBTrACS_land_country['country'] = df_IBTrACS_land_country.apply(lambda x: add_country(x['LAT'], x['LON']), axis=1)"
   ]
  },
  {
   "cell_type": "code",
   "execution_count": 13,
   "metadata": {},
   "outputs": [],
   "source": [
    "ibtracs = pd.read_csv('E:/WFP_Omdena_Project/TCE-DAT and IBTtracs merge/df_IBTrACS_ISO.csv')"
   ]
  },
  {
   "cell_type": "code",
   "execution_count": 16,
   "metadata": {},
   "outputs": [],
   "source": [
    "import pandas as pd\n",
    "import numpy as np\n",
    "tcedf = pd.read_csv('E:/WFP_Omdena_Project/TCE-DAT and IBTtracs merge/TCE-DAT_2015-exposure_1950-2015.csv',skiprows = 6)"
   ]
  },
  {
   "cell_type": "code",
   "execution_count": 18,
   "metadata": {},
   "outputs": [],
   "source": [
    "df_IBTrACS = df_IBTrACS[df_IBTrACS['year'] >= 1980]\n",
    "tup_zipped = list(set(tuple(zip(df_IBTrACS.SID, df_IBTrACS.NAME))))\n",
    "\n",
    "## Create a dictionary with ibtracs SID & storm name\n",
    "SID_Namedict = {x:y for x, y in tup_zipped }"
   ]
  },
  {
   "cell_type": "code",
   "execution_count": 19,
   "metadata": {},
   "outputs": [],
   "source": [
    "df_IBTrACS_copy = tcedf.copy()\n",
    "\n",
    "## Create column \"name\" using ibtracID\n",
    "df_IBTrACS_copy['name'] = df_IBTrACS_copy['IBTrACS_ID'].apply(lambda x: SID_Namedict.get(str(x)))\n",
    "\n",
    "## Drop rows without event name\n",
    "# df_IBTrACS_copy = df_IBTrACS_copy[df_IBTrACS_copy['name'] != \"NOT_NAMED\"]\n",
    "\n",
    "# Drop rows with no names on both name & tc_name\n",
    "# df_IBTrACS_copy = df_IBTrACS_copy[(df_IBTrACS_copy['TC_name'] != \"UNNAMED\") & (df_IBTrACS_copy['name'].notna())]"
   ]
  },
  {
   "cell_type": "code",
   "execution_count": 22,
   "metadata": {},
   "outputs": [],
   "source": [
    "tcedf_copy = tcedf.copy()\n",
    "\n",
    "## Create column \"name\" using ibtracID\n",
    "tcedf_copy['name'] = tcedf_copy['IBTrACS_ID'].apply(lambda x: SID_Namedict.get(str(x)))\n",
    "\n",
    "## Drop rows without event name\n",
    "tcedf_copy = tcedf_copy[tcedf_copy['name'] != \"NOT_NAMED\"]\n",
    "\n",
    "# Drop rows with no names on both name & tc_name\n",
    "tcedf_copy = tcedf_copy[(tcedf_copy['TC_name'] != \"UNNAMED\") & (tcedf_copy['name'].notna())]"
   ]
  },
  {
   "cell_type": "code",
   "execution_count": 23,
   "metadata": {},
   "outputs": [],
   "source": [
    "tcedf_copy.to_csv(\"tcedf_merge.csv\")"
   ]
  },
  {
   "cell_type": "code",
   "execution_count": 24,
   "metadata": {},
   "outputs": [],
   "source": [
    "ibtracs = ibtracs[ibtracs['SEASON']>= 1980]"
   ]
  },
  {
   "cell_type": "code",
   "execution_count": 25,
   "metadata": {},
   "outputs": [],
   "source": [
    "merged_doc = pd.merge(tcedf_copy, ibtracs, how='outer',left_on=['year', 'IBTrACS_ID', 'ISO3'],right_on=['SEASON','SID','ISO'])"
   ]
  },
  {
   "cell_type": "code",
   "execution_count": 28,
   "metadata": {},
   "outputs": [],
   "source": [
    "merged_doc.to_csv(\"merged_doc.csv\")"
   ]
  },
  {
   "cell_type": "code",
   "execution_count": 35,
   "metadata": {},
   "outputs": [],
   "source": [
    "# ibtracs_filtered = ibtracs_filtered.columns.str.contains('^test', case=False)\n",
    "\n",
    "# ibtracs_filtered = ibtracs.loc[:,ibtracs.columns.str.contains('WIND', case=False)] \n",
    "# ibtracs_filtered = ibtracs_filtered[ibtracs_filtered.columns.drop(list(ibtracs_filtered.filter(regex='PRES')))]"
   ]
  },
  {
   "cell_type": "code",
   "execution_count": 40,
   "metadata": {},
   "outputs": [],
   "source": [
    "# ibtracs_filtered = ibtracs[['SID','SEASON','NUMBER','BASIN','SUBBASIN','NAME','ISO_TIME','NATURE','LAT','LON','WMO_WIND','WMO_PRES','WMO_AGENCY','TRACK_TYPE','DIST2LAND','LANDFALL','IFLAG','STORM_SPD','STORM_DR','year','month','day','hour','min','country','ISO'\n",
    "# ]]"
   ]
  },
  {
   "cell_type": "code",
   "execution_count": 41,
   "metadata": {},
   "outputs": [],
   "source": [
    "merged_doc_filtered = merged_doc.groupby(['SID','ISO']).max().reset_index()"
   ]
  },
  {
   "cell_type": "code",
   "execution_count": 42,
   "metadata": {},
   "outputs": [],
   "source": [
    "merged_doc_filtered.to_csv(\"merged_doc_filtered.csv\")"
   ]
  }
 ],
 "metadata": {
  "kernelspec": {
   "display_name": "Python 3",
   "language": "python",
   "name": "python3"
  },
  "language_info": {
   "codemirror_mode": {
    "name": "ipython",
    "version": 3
   },
   "file_extension": ".py",
   "mimetype": "text/x-python",
   "name": "python",
   "nbconvert_exporter": "python",
   "pygments_lexer": "ipython3",
   "version": "3.7.4"
  }
 },
 "nbformat": 4,
 "nbformat_minor": 4
}
