{
  "nbformat": 4,
  "nbformat_minor": 0,
  "metadata": {
    "colab": {
      "name": "ebtrk_epac_wrangling.ipynb",
      "provenance": [],
      "collapsed_sections": []
    },
    "kernelspec": {
      "name": "python3",
      "display_name": "Python 3"
    }
  },
  "cells": [
    {
      "cell_type": "code",
      "metadata": {
        "id": "dXrJSlw9hQys",
        "colab_type": "code",
        "colab": {}
      },
      "source": [
        "import pandas as pd\n",
        "import numpy as np\n",
        "import math\n",
        "from math import cos, sin, pi"
      ],
      "execution_count": 0,
      "outputs": []
    },
    {
      "cell_type": "code",
      "metadata": {
        "id": "E-FKaDNi37A2",
        "colab_type": "code",
        "colab": {}
      },
      "source": [
        "f = open('ebtrk_epac_2001_2018.txt', 'r')\n",
        "f1 = f.readlines()\n",
        "text = [line for line in f1]"
      ],
      "execution_count": 0,
      "outputs": []
    },
    {
      "cell_type": "code",
      "metadata": {
        "id": "JBigtJmlIESa",
        "colab_type": "code",
        "colab": {}
      },
      "source": [
        ""
      ],
      "execution_count": 0,
      "outputs": []
    },
    {
      "cell_type": "code",
      "metadata": {
        "id": "8L666WOtIM5O",
        "colab_type": "code",
        "colab": {}
      },
      "source": [
        "content = []\n",
        "\n",
        "for line in text:\n",
        "  splitline = line.split(\" \")\n",
        "  splitline = [l for l in splitline if l != \"\"]\n",
        "  content.append(splitline)\n"
      ],
      "execution_count": 0,
      "outputs": []
    },
    {
      "cell_type": "code",
      "metadata": {
        "id": "LQ_QgN41Mxi4",
        "colab_type": "code",
        "colab": {
          "base_uri": "https://localhost:8080/",
          "height": 153
        },
        "outputId": "619a8778-3c2f-435e-c2b0-4354158c4ff3"
      },
      "source": [
        "### Ideal number of columns should be 26. Get rows not equal to 26\n",
        "\n",
        "counts = []\n",
        "for each in content:\n",
        "  counts.append(len(each))\n",
        "\n",
        "number_list = np.array(counts)\n",
        "frequencies = np.asarray(np.unique(number_list, return_counts=True)).T\n",
        "\n",
        "print(frequencies)"
      ],
      "execution_count": 36,
      "outputs": [
        {
          "output_type": "stream",
          "text": [
            "[[  17    1]\n",
            " [  20   11]\n",
            " [  21    2]\n",
            " [  22   11]\n",
            " [  23  373]\n",
            " [  24  304]\n",
            " [  25  541]\n",
            " [  26 7080]]\n"
          ],
          "name": "stdout"
        }
      ]
    },
    {
      "cell_type": "code",
      "metadata": {
        "id": "-tBscrd_NGe6",
        "colab_type": "code",
        "colab": {}
      },
      "source": [
        "### For 26\n",
        "content26 = [c for c in content if len(c) == 26]\n",
        "###### Ideal for comparison - Needs no formatting\n",
        "\n",
        "### For 17\n",
        "content17 = [c for c in content if len(c) == 17]\n",
        "#### Just one entry. Can be safely removed\n",
        "\n",
        "### For 20\n",
        "content20 = [c for c in content if len(c) == 20]\n",
        "### Solution - columns 14 & 15 should be split into 3 additional columns \n",
        "## each of three digits each\n",
        "\n",
        "\n",
        "### For 21\n",
        "content21 = [c for c in content if len(c) == 21]\n",
        "\n",
        "\n",
        "### For 21\n",
        "content21 = [c for c in content if len(c) == 21]\n",
        "### Column 13 split into 3 additonal columns\n",
        "### Column 14 split into 2 additional\n",
        "\n",
        "\n",
        "### For 22\n",
        "content22 = [c for c in content if len(c) == 22]\n",
        "### Column 13 split into 1 additonal columns\n",
        "### Column 16 split into 3 additional\n",
        "\n",
        "\n",
        "### For 23\n",
        "content23 = [c for c in content if len(c) == 23]\n",
        "### Column 13 split into 3 additonal columns\n",
        "\n",
        "### For 24\n",
        "content24 = [c for c in content if len(c) == 24]\n",
        "### Column 13 split into 3 additonal columns"
      ],
      "execution_count": 0,
      "outputs": []
    },
    {
      "cell_type": "code",
      "metadata": {
        "id": "ZHfEfc6cRJvi",
        "colab_type": "code",
        "colab": {}
      },
      "source": [
        "### For 25\n",
        "content25 = [c for c in content if len(c) == 25]\n",
        "### Column 13 split into 3 additonal columns"
      ],
      "execution_count": 0,
      "outputs": []
    },
    {
      "cell_type": "code",
      "metadata": {
        "id": "cE3m3Y9hRquu",
        "colab_type": "code",
        "colab": {}
      },
      "source": [
        ""
      ],
      "execution_count": 0,
      "outputs": []
    },
    {
      "cell_type": "code",
      "metadata": {
        "id": "CgNbMYIZSZcf",
        "colab_type": "code",
        "colab": {}
      },
      "source": [
        ""
      ],
      "execution_count": 0,
      "outputs": []
    },
    {
      "cell_type": "code",
      "metadata": {
        "id": "-qW3zwmuSmrK",
        "colab_type": "code",
        "colab": {}
      },
      "source": [
        ""
      ],
      "execution_count": 0,
      "outputs": []
    },
    {
      "cell_type": "code",
      "metadata": {
        "id": "AuUDGiB6PHxh",
        "colab_type": "code",
        "colab": {
          "base_uri": "https://localhost:8080/",
          "height": 459
        },
        "outputId": "c1c7d46e-475e-4d17-88ef-baa496f7bca8"
      },
      "source": [
        "content26[2000]"
      ],
      "execution_count": 50,
      "outputs": [
        {
          "output_type": "execute_result",
          "data": {
            "text/plain": [
              "['EP0907',\n",
              " 'FLOSSIE',\n",
              " '081518',\n",
              " '2007',\n",
              " '17.4',\n",
              " '158.0',\n",
              " '40',\n",
              " '1006',\n",
              " '15',\n",
              " '-99',\n",
              " '1012',\n",
              " '75',\n",
              " '50',\n",
              " '25',\n",
              " '25',\n",
              " '45',\n",
              " '0',\n",
              " '0',\n",
              " '0',\n",
              " '0',\n",
              " '0',\n",
              " '0',\n",
              " '0',\n",
              " '0',\n",
              " '*',\n",
              " '291.\\n']"
            ]
          },
          "metadata": {
            "tags": []
          },
          "execution_count": 50
        }
      ]
    },
    {
      "cell_type": "code",
      "metadata": {
        "id": "v04F2O2xNuyA",
        "colab_type": "code",
        "colab": {
          "base_uri": "https://localhost:8080/",
          "height": 442
        },
        "outputId": "662d7278-4947-40ae-94cd-e1acb073728c"
      },
      "source": [
        "content25[301]"
      ],
      "execution_count": 80,
      "outputs": [
        {
          "output_type": "execute_result",
          "data": {
            "text/plain": [
              "['EP1214',\n",
              " 'LOWELL',\n",
              " '081906',\n",
              " '2014',\n",
              " '17.1',\n",
              " '118.8',\n",
              " '45',\n",
              " '998',\n",
              " '80',\n",
              " '-99',\n",
              " '1008',\n",
              " '260',\n",
              " '70120',\n",
              " '0',\n",
              " '0',\n",
              " '0',\n",
              " '0',\n",
              " '0',\n",
              " '0',\n",
              " '0',\n",
              " '0',\n",
              " '0',\n",
              " '0',\n",
              " '*',\n",
              " '1090.\\n']"
            ]
          },
          "metadata": {
            "tags": []
          },
          "execution_count": 80
        }
      ]
    }
  ]
}