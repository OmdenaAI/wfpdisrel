{
 "cells": [
  {
   "cell_type": "code",
   "execution_count": 1,
   "metadata": {},
   "outputs": [],
   "source": [
    "import pandas as pd\n",
    "import numpy as np"
   ]
  },
  {
   "cell_type": "code",
   "execution_count": 12,
   "metadata": {},
   "outputs": [],
   "source": [
    "ibtracs_df = pd.read_csv('./ibtracs_cleaned.csv')\n",
    "tcedat_df = pd.read_csv('./tcedat_cleaned.csv')\n",
    "emdat_name_df = pd.read_csv('./emdat_names.csv')\n",
    "emdat_df = pd.read_csv('./emdat_cleaned.csv')"
   ]
  },
  {
   "cell_type": "code",
   "execution_count": 13,
   "metadata": {},
   "outputs": [],
   "source": [
    "emdat_name_df.drop(['Unnamed: 0', 'Unnamed: 0.1'],axis=1, inplace=True)"
   ]
  },
  {
   "cell_type": "code",
   "execution_count": 19,
   "metadata": {},
   "outputs": [],
   "source": [
    "ibtracs_tcedat_outer = ibtracs_df.merge(tcedat_df, left_on=['YEAR_min', 'ISO', 'SID'], right_on = ['year', 'ISO3', 'IBTrACS_ID'], how='outer')"
   ]
  },
  {
   "cell_type": "code",
   "execution_count": 20,
   "metadata": {},
   "outputs": [
    {
     "data": {
      "text/plain": [
       "10813"
      ]
     },
     "execution_count": 20,
     "metadata": {},
     "output_type": "execute_result"
    }
   ],
   "source": [
    "len(ibtracs_tcedat_outer)"
   ]
  },
  {
   "cell_type": "code",
   "execution_count": 22,
   "metadata": {},
   "outputs": [],
   "source": [
    "ibtracs_tcedat_outer_na = ibtracs_tcedat_outer[ibtracs_tcedat_outer['NAME'].notnull()]"
   ]
  },
  {
   "cell_type": "code",
   "execution_count": 23,
   "metadata": {
    "scrolled": true
   },
   "outputs": [
    {
     "data": {
      "text/plain": [
       "3617"
      ]
     },
     "execution_count": 23,
     "metadata": {},
     "output_type": "execute_result"
    }
   ],
   "source": [
    "len(ibtracs_tcedat_outer_na)"
   ]
  },
  {
   "cell_type": "code",
   "execution_count": 24,
   "metadata": {},
   "outputs": [
    {
     "data": {
      "text/plain": [
       "3463"
      ]
     },
     "execution_count": 24,
     "metadata": {},
     "output_type": "execute_result"
    }
   ],
   "source": [
    "len(emdat_name_df)"
   ]
  },
  {
   "cell_type": "code",
   "execution_count": 31,
   "metadata": {},
   "outputs": [],
   "source": [
    "emdat_name_dropped = emdat_name_df[emdat_name_df['Event name'].notnull()]"
   ]
  },
  {
   "cell_type": "markdown",
   "metadata": {},
   "source": [
    "# 1. Merge"
   ]
  },
  {
   "cell_type": "code",
   "execution_count": 32,
   "metadata": {},
   "outputs": [],
   "source": [
    "first_merge_df = ibtracs_tcedat_outer_na.merge(emdat_name_dropped, left_on=['YEAR_min', 'ISO', 'NAME'], right_on=['Year', 'ISO', 'Event name'])"
   ]
  },
  {
   "cell_type": "code",
   "execution_count": 33,
   "metadata": {},
   "outputs": [
    {
     "data": {
      "text/plain": [
       "708"
      ]
     },
     "execution_count": 33,
     "metadata": {},
     "output_type": "execute_result"
    }
   ],
   "source": [
    "len(first_merge_df)"
   ]
  },
  {
   "cell_type": "code",
   "execution_count": 34,
   "metadata": {},
   "outputs": [
    {
     "data": {
      "text/html": [
       "<div>\n",
       "<style scoped>\n",
       "    .dataframe tbody tr th:only-of-type {\n",
       "        vertical-align: middle;\n",
       "    }\n",
       "\n",
       "    .dataframe tbody tr th {\n",
       "        vertical-align: top;\n",
       "    }\n",
       "\n",
       "    .dataframe thead th {\n",
       "        text-align: right;\n",
       "    }\n",
       "</style>\n",
       "<table border=\"1\" class=\"dataframe\">\n",
       "  <thead>\n",
       "    <tr style=\"text-align: right;\">\n",
       "      <th></th>\n",
       "      <th>SID</th>\n",
       "      <th>ISO</th>\n",
       "      <th>NAME</th>\n",
       "      <th>BASIN</th>\n",
       "      <th>SUBBASIN</th>\n",
       "      <th>NATURE</th>\n",
       "      <th>TRACK_TYPE</th>\n",
       "      <th>ISO_TIME</th>\n",
       "      <th>COORDS</th>\n",
       "      <th>TOTAL_HRS</th>\n",
       "      <th>...</th>\n",
       "      <th>End day</th>\n",
       "      <th>Total deaths</th>\n",
       "      <th>Num injured</th>\n",
       "      <th>Num affected</th>\n",
       "      <th>Num homeless</th>\n",
       "      <th>Total affected</th>\n",
       "      <th>Reconstruction cost ('000$)</th>\n",
       "      <th>Insured losses ('000$)</th>\n",
       "      <th>Total damage ('000$)</th>\n",
       "      <th>CPI</th>\n",
       "    </tr>\n",
       "  </thead>\n",
       "  <tbody>\n",
       "    <tr>\n",
       "      <th>0</th>\n",
       "      <td>1949163N07145</td>\n",
       "      <td>JPN</td>\n",
       "      <td>DELLA</td>\n",
       "      <td>WP</td>\n",
       "      <td>MM</td>\n",
       "      <td>ET</td>\n",
       "      <td>main</td>\n",
       "      <td>['1949-06-20 15:00:00', '1949-06-20 18:00:00',...</td>\n",
       "      <td>[[31.99, 130.68], [33.52, 130.97], [41.0, 140....</td>\n",
       "      <td>12.0</td>\n",
       "      <td>...</td>\n",
       "      <td>NaN</td>\n",
       "      <td>419.0</td>\n",
       "      <td>NaN</td>\n",
       "      <td>194046.0</td>\n",
       "      <td>NaN</td>\n",
       "      <td>194046.0</td>\n",
       "      <td>NaN</td>\n",
       "      <td>NaN</td>\n",
       "      <td>NaN</td>\n",
       "      <td>9.327572</td>\n",
       "    </tr>\n",
       "    <tr>\n",
       "      <th>1</th>\n",
       "      <td>1949313N06137</td>\n",
       "      <td>PHL</td>\n",
       "      <td>RENA</td>\n",
       "      <td>WP</td>\n",
       "      <td>MM</td>\n",
       "      <td>TS</td>\n",
       "      <td>main</td>\n",
       "      <td>['1949-11-11 09:00:00', '1949-11-11 15:00:00',...</td>\n",
       "      <td>[[9.49, 125.55], [9.99, 124.0], [10.3, 123.13]...</td>\n",
       "      <td>12.0</td>\n",
       "      <td>...</td>\n",
       "      <td>31.0</td>\n",
       "      <td>1000.0</td>\n",
       "      <td>NaN</td>\n",
       "      <td>NaN</td>\n",
       "      <td>NaN</td>\n",
       "      <td>NaN</td>\n",
       "      <td>NaN</td>\n",
       "      <td>NaN</td>\n",
       "      <td>NaN</td>\n",
       "      <td>9.327572</td>\n",
       "    </tr>\n",
       "    <tr>\n",
       "      <th>2</th>\n",
       "      <td>1950241N23140</td>\n",
       "      <td>JPN</td>\n",
       "      <td>JANE</td>\n",
       "      <td>WP</td>\n",
       "      <td>MM</td>\n",
       "      <td>TS</td>\n",
       "      <td>main</td>\n",
       "      <td>['1950-09-03 03:00:00', '1950-09-03 06:00:00',...</td>\n",
       "      <td>[[34.94, 135.48], [36.1, 136.09], [37.27, 136....</td>\n",
       "      <td>21.0</td>\n",
       "      <td>...</td>\n",
       "      <td>NaN</td>\n",
       "      <td>509.0</td>\n",
       "      <td>NaN</td>\n",
       "      <td>642117.0</td>\n",
       "      <td>NaN</td>\n",
       "      <td>642117.0</td>\n",
       "      <td>NaN</td>\n",
       "      <td>NaN</td>\n",
       "      <td>NaN</td>\n",
       "      <td>9.431937</td>\n",
       "    </tr>\n",
       "    <tr>\n",
       "      <th>3</th>\n",
       "      <td>1951119N06145</td>\n",
       "      <td>PHL</td>\n",
       "      <td>IRIS</td>\n",
       "      <td>WP</td>\n",
       "      <td>MM</td>\n",
       "      <td>TS</td>\n",
       "      <td>main</td>\n",
       "      <td>['1951-05-04 21:00:00', '1951-05-05 00:00:00',...</td>\n",
       "      <td>[[11.99, 125.07], [12.12, 124.72], [13.73, 121...</td>\n",
       "      <td>6.0</td>\n",
       "      <td>...</td>\n",
       "      <td>24.0</td>\n",
       "      <td>156.0</td>\n",
       "      <td>NaN</td>\n",
       "      <td>NaN</td>\n",
       "      <td>NaN</td>\n",
       "      <td>NaN</td>\n",
       "      <td>NaN</td>\n",
       "      <td>NaN</td>\n",
       "      <td>NaN</td>\n",
       "      <td>10.175534</td>\n",
       "    </tr>\n",
       "    <tr>\n",
       "      <th>4</th>\n",
       "      <td>1951224N12316</td>\n",
       "      <td>JAM</td>\n",
       "      <td>CHARLIE</td>\n",
       "      <td>NaN</td>\n",
       "      <td>CS</td>\n",
       "      <td>TS</td>\n",
       "      <td>main</td>\n",
       "      <td>['1951-08-18 03:00:00', '1951-08-18 06:00:00']</td>\n",
       "      <td>[[17.9, -76.9], [18.1, -77.8]]</td>\n",
       "      <td>3.0</td>\n",
       "      <td>...</td>\n",
       "      <td>18.0</td>\n",
       "      <td>154.0</td>\n",
       "      <td>200.0</td>\n",
       "      <td>20000.0</td>\n",
       "      <td>NaN</td>\n",
       "      <td>20200.0</td>\n",
       "      <td>NaN</td>\n",
       "      <td>NaN</td>\n",
       "      <td>56000.0</td>\n",
       "      <td>10.175534</td>\n",
       "    </tr>\n",
       "    <tr>\n",
       "      <th>...</th>\n",
       "      <td>...</td>\n",
       "      <td>...</td>\n",
       "      <td>...</td>\n",
       "      <td>...</td>\n",
       "      <td>...</td>\n",
       "      <td>...</td>\n",
       "      <td>...</td>\n",
       "      <td>...</td>\n",
       "      <td>...</td>\n",
       "      <td>...</td>\n",
       "      <td>...</td>\n",
       "      <td>...</td>\n",
       "      <td>...</td>\n",
       "      <td>...</td>\n",
       "      <td>...</td>\n",
       "      <td>...</td>\n",
       "      <td>...</td>\n",
       "      <td>...</td>\n",
       "      <td>...</td>\n",
       "      <td>...</td>\n",
       "      <td>...</td>\n",
       "    </tr>\n",
       "    <tr>\n",
       "      <th>703</th>\n",
       "      <td>2018315N13089</td>\n",
       "      <td>IND</td>\n",
       "      <td>GAJA</td>\n",
       "      <td>NI</td>\n",
       "      <td>AS</td>\n",
       "      <td>NR</td>\n",
       "      <td>PROVISIONAL</td>\n",
       "      <td>['2018-11-15 21:00:00', '2018-11-16 00:00:00',...</td>\n",
       "      <td>[[10.5, 79.8], [10.4, 79.2], [10.21, 78.4], [1...</td>\n",
       "      <td>15.0</td>\n",
       "      <td>...</td>\n",
       "      <td>16.0</td>\n",
       "      <td>45.0</td>\n",
       "      <td>NaN</td>\n",
       "      <td>500000.0</td>\n",
       "      <td>NaN</td>\n",
       "      <td>500000.0</td>\n",
       "      <td>NaN</td>\n",
       "      <td>NaN</td>\n",
       "      <td>775000.0</td>\n",
       "      <td>98.219991</td>\n",
       "    </tr>\n",
       "    <tr>\n",
       "      <th>704</th>\n",
       "      <td>2018322N12110</td>\n",
       "      <td>VNM</td>\n",
       "      <td>TORAJI</td>\n",
       "      <td>WP</td>\n",
       "      <td>MM</td>\n",
       "      <td>NR</td>\n",
       "      <td>PROVISIONAL</td>\n",
       "      <td>['2018-11-18 06:00:00', '2018-11-18 09:00:00',...</td>\n",
       "      <td>[[11.7, 109.2], [11.9, 108.52], [12.1, 107.7],...</td>\n",
       "      <td>12.0</td>\n",
       "      <td>...</td>\n",
       "      <td>18.0</td>\n",
       "      <td>19.0</td>\n",
       "      <td>28.0</td>\n",
       "      <td>10000.0</td>\n",
       "      <td>NaN</td>\n",
       "      <td>10028.0</td>\n",
       "      <td>NaN</td>\n",
       "      <td>NaN</td>\n",
       "      <td>17200.0</td>\n",
       "      <td>98.219991</td>\n",
       "    </tr>\n",
       "    <tr>\n",
       "      <th>705</th>\n",
       "      <td>2018349N10085</td>\n",
       "      <td>IND</td>\n",
       "      <td>PHETHAI</td>\n",
       "      <td>NI</td>\n",
       "      <td>BB</td>\n",
       "      <td>NR</td>\n",
       "      <td>PROVISIONAL</td>\n",
       "      <td>['2018-12-17 09:00:00', '2018-12-17 12:00:00',...</td>\n",
       "      <td>[[17.15, 82.22], [18.0, 82.3], [18.28, 82.7]]</td>\n",
       "      <td>6.0</td>\n",
       "      <td>...</td>\n",
       "      <td>19.0</td>\n",
       "      <td>8.0</td>\n",
       "      <td>NaN</td>\n",
       "      <td>10000.0</td>\n",
       "      <td>NaN</td>\n",
       "      <td>10000.0</td>\n",
       "      <td>NaN</td>\n",
       "      <td>NaN</td>\n",
       "      <td>100000.0</td>\n",
       "      <td>98.219991</td>\n",
       "    </tr>\n",
       "    <tr>\n",
       "      <th>706</th>\n",
       "      <td>2018365N09113</td>\n",
       "      <td>THA</td>\n",
       "      <td>PABUK</td>\n",
       "      <td>NI</td>\n",
       "      <td>BB</td>\n",
       "      <td>NR</td>\n",
       "      <td>PROVISIONAL</td>\n",
       "      <td>['2019-01-04 09:00:00', '2019-01-04 12:00:00',...</td>\n",
       "      <td>[[8.26, 100.12], [8.3, 99.6], [8.43, 99.21], [...</td>\n",
       "      <td>12.0</td>\n",
       "      <td>...</td>\n",
       "      <td>4.0</td>\n",
       "      <td>7.0</td>\n",
       "      <td>NaN</td>\n",
       "      <td>720885.0</td>\n",
       "      <td>NaN</td>\n",
       "      <td>720885.0</td>\n",
       "      <td>NaN</td>\n",
       "      <td>NaN</td>\n",
       "      <td>NaN</td>\n",
       "      <td>100.000000</td>\n",
       "    </tr>\n",
       "    <tr>\n",
       "      <th>707</th>\n",
       "      <td>2019113S10051</td>\n",
       "      <td>MOZ</td>\n",
       "      <td>KENNETH</td>\n",
       "      <td>SI</td>\n",
       "      <td>MM</td>\n",
       "      <td>NR</td>\n",
       "      <td>PROVISIONAL</td>\n",
       "      <td>['2019-04-25 15:00:00', '2019-04-25 18:00:00',...</td>\n",
       "      <td>[[-12.23, 40.43], [-12.3, 40.1], [-12.41, 39.6...</td>\n",
       "      <td>18.0</td>\n",
       "      <td>...</td>\n",
       "      <td>25.0</td>\n",
       "      <td>45.0</td>\n",
       "      <td>94.0</td>\n",
       "      <td>400000.0</td>\n",
       "      <td>NaN</td>\n",
       "      <td>400094.0</td>\n",
       "      <td>NaN</td>\n",
       "      <td>NaN</td>\n",
       "      <td>230000.0</td>\n",
       "      <td>100.000000</td>\n",
       "    </tr>\n",
       "  </tbody>\n",
       "</table>\n",
       "<p>708 rows × 92 columns</p>\n",
       "</div>"
      ],
      "text/plain": [
       "               SID  ISO     NAME BASIN SUBBASIN NATURE   TRACK_TYPE  \\\n",
       "0    1949163N07145  JPN    DELLA    WP       MM     ET         main   \n",
       "1    1949313N06137  PHL     RENA    WP       MM     TS         main   \n",
       "2    1950241N23140  JPN     JANE    WP       MM     TS         main   \n",
       "3    1951119N06145  PHL     IRIS    WP       MM     TS         main   \n",
       "4    1951224N12316  JAM  CHARLIE   NaN       CS     TS         main   \n",
       "..             ...  ...      ...   ...      ...    ...          ...   \n",
       "703  2018315N13089  IND     GAJA    NI       AS     NR  PROVISIONAL   \n",
       "704  2018322N12110  VNM   TORAJI    WP       MM     NR  PROVISIONAL   \n",
       "705  2018349N10085  IND  PHETHAI    NI       BB     NR  PROVISIONAL   \n",
       "706  2018365N09113  THA    PABUK    NI       BB     NR  PROVISIONAL   \n",
       "707  2019113S10051  MOZ  KENNETH    SI       MM     NR  PROVISIONAL   \n",
       "\n",
       "                                              ISO_TIME  \\\n",
       "0    ['1949-06-20 15:00:00', '1949-06-20 18:00:00',...   \n",
       "1    ['1949-11-11 09:00:00', '1949-11-11 15:00:00',...   \n",
       "2    ['1950-09-03 03:00:00', '1950-09-03 06:00:00',...   \n",
       "3    ['1951-05-04 21:00:00', '1951-05-05 00:00:00',...   \n",
       "4       ['1951-08-18 03:00:00', '1951-08-18 06:00:00']   \n",
       "..                                                 ...   \n",
       "703  ['2018-11-15 21:00:00', '2018-11-16 00:00:00',...   \n",
       "704  ['2018-11-18 06:00:00', '2018-11-18 09:00:00',...   \n",
       "705  ['2018-12-17 09:00:00', '2018-12-17 12:00:00',...   \n",
       "706  ['2019-01-04 09:00:00', '2019-01-04 12:00:00',...   \n",
       "707  ['2019-04-25 15:00:00', '2019-04-25 18:00:00',...   \n",
       "\n",
       "                                                COORDS  TOTAL_HRS  ...  \\\n",
       "0    [[31.99, 130.68], [33.52, 130.97], [41.0, 140....       12.0  ...   \n",
       "1    [[9.49, 125.55], [9.99, 124.0], [10.3, 123.13]...       12.0  ...   \n",
       "2    [[34.94, 135.48], [36.1, 136.09], [37.27, 136....       21.0  ...   \n",
       "3    [[11.99, 125.07], [12.12, 124.72], [13.73, 121...        6.0  ...   \n",
       "4                       [[17.9, -76.9], [18.1, -77.8]]        3.0  ...   \n",
       "..                                                 ...        ...  ...   \n",
       "703  [[10.5, 79.8], [10.4, 79.2], [10.21, 78.4], [1...       15.0  ...   \n",
       "704  [[11.7, 109.2], [11.9, 108.52], [12.1, 107.7],...       12.0  ...   \n",
       "705      [[17.15, 82.22], [18.0, 82.3], [18.28, 82.7]]        6.0  ...   \n",
       "706  [[8.26, 100.12], [8.3, 99.6], [8.43, 99.21], [...       12.0  ...   \n",
       "707  [[-12.23, 40.43], [-12.3, 40.1], [-12.41, 39.6...       18.0  ...   \n",
       "\n",
       "     End day  Total deaths  Num injured  Num affected  Num homeless  \\\n",
       "0        NaN         419.0          NaN      194046.0           NaN   \n",
       "1       31.0        1000.0          NaN           NaN           NaN   \n",
       "2        NaN         509.0          NaN      642117.0           NaN   \n",
       "3       24.0         156.0          NaN           NaN           NaN   \n",
       "4       18.0         154.0        200.0       20000.0           NaN   \n",
       "..       ...           ...          ...           ...           ...   \n",
       "703     16.0          45.0          NaN      500000.0           NaN   \n",
       "704     18.0          19.0         28.0       10000.0           NaN   \n",
       "705     19.0           8.0          NaN       10000.0           NaN   \n",
       "706      4.0           7.0          NaN      720885.0           NaN   \n",
       "707     25.0          45.0         94.0      400000.0           NaN   \n",
       "\n",
       "     Total affected  Reconstruction cost ('000$)  Insured losses ('000$)  \\\n",
       "0          194046.0                          NaN                     NaN   \n",
       "1               NaN                          NaN                     NaN   \n",
       "2          642117.0                          NaN                     NaN   \n",
       "3               NaN                          NaN                     NaN   \n",
       "4           20200.0                          NaN                     NaN   \n",
       "..              ...                          ...                     ...   \n",
       "703        500000.0                          NaN                     NaN   \n",
       "704         10028.0                          NaN                     NaN   \n",
       "705         10000.0                          NaN                     NaN   \n",
       "706        720885.0                          NaN                     NaN   \n",
       "707        400094.0                          NaN                     NaN   \n",
       "\n",
       "     Total damage ('000$)         CPI  \n",
       "0                     NaN    9.327572  \n",
       "1                     NaN    9.327572  \n",
       "2                     NaN    9.431937  \n",
       "3                     NaN   10.175534  \n",
       "4                 56000.0   10.175534  \n",
       "..                    ...         ...  \n",
       "703              775000.0   98.219991  \n",
       "704               17200.0   98.219991  \n",
       "705              100000.0   98.219991  \n",
       "706                   NaN  100.000000  \n",
       "707              230000.0  100.000000  \n",
       "\n",
       "[708 rows x 92 columns]"
      ]
     },
     "execution_count": 34,
     "metadata": {},
     "output_type": "execute_result"
    }
   ],
   "source": [
    "first_merge_df"
   ]
  },
  {
   "cell_type": "code",
   "execution_count": 38,
   "metadata": {},
   "outputs": [],
   "source": [
    "emdat_df_names = emdat_df[emdat_df['Event name'].notnull()]"
   ]
  },
  {
   "cell_type": "code",
   "execution_count": 39,
   "metadata": {},
   "outputs": [],
   "source": [
    "second_merge = ibtracs_tcedat_outer_na.merge(emdat_df_names, left_on=['YEAR_min', 'ISO', 'NAME'], right_on=['Year', 'ISO', 'Event name'])"
   ]
  },
  {
   "cell_type": "code",
   "execution_count": 40,
   "metadata": {},
   "outputs": [
    {
     "data": {
      "text/plain": [
       "984"
      ]
     },
     "execution_count": 40,
     "metadata": {},
     "output_type": "execute_result"
    }
   ],
   "source": [
    "len(second_merge)"
   ]
  },
  {
   "cell_type": "code",
   "execution_count": 41,
   "metadata": {},
   "outputs": [],
   "source": [
    "first_merge_df.to_csv('ibtracs_tcedat_emdat_names_merge.csv', index=False)"
   ]
  },
  {
   "cell_type": "code",
   "execution_count": 42,
   "metadata": {},
   "outputs": [
    {
     "data": {
      "text/plain": [
       "708"
      ]
     },
     "execution_count": 42,
     "metadata": {},
     "output_type": "execute_result"
    }
   ],
   "source": [
    "len(first_merge_df)"
   ]
  },
  {
   "cell_type": "markdown",
   "metadata": {},
   "source": [
    "# 2. Pandas Profiling"
   ]
  },
  {
   "cell_type": "markdown",
   "metadata": {},
   "source": [
    "Suggested By Geethanjali Battula, Susanne Brockmann"
   ]
  },
  {
   "cell_type": "markdown",
   "metadata": {},
   "source": [
    "Resource: https://pandas-profiling.github.io/pandas-profiling/docs/"
   ]
  },
  {
   "cell_type": "code",
   "execution_count": 43,
   "metadata": {},
   "outputs": [],
   "source": [
    "from pandas_profiling import ProfileReport"
   ]
  },
  {
   "cell_type": "code",
   "execution_count": 44,
   "metadata": {},
   "outputs": [
    {
     "data": {
      "application/vnd.jupyter.widget-view+json": {
       "model_id": "dc049a94933d44c5bf2a72c774579dbf",
       "version_major": 2,
       "version_minor": 0
      },
      "text/plain": [
       "HBox(children=(FloatProgress(value=0.0, description='variables', max=92.0, style=ProgressStyle(description_wid…"
      ]
     },
     "metadata": {},
     "output_type": "display_data"
    },
    {
     "name": "stdout",
     "output_type": "stream",
     "text": [
      "\n"
     ]
    },
    {
     "data": {
      "application/vnd.jupyter.widget-view+json": {
       "model_id": "79f24466e84f413fb5b2655bc8895a4c",
       "version_major": 2,
       "version_minor": 0
      },
      "text/plain": [
       "HBox(children=(FloatProgress(value=0.0, description='correlations', max=6.0, style=ProgressStyle(description_w…"
      ]
     },
     "metadata": {},
     "output_type": "display_data"
    },
    {
     "name": "stdout",
     "output_type": "stream",
     "text": [
      "\n"
     ]
    },
    {
     "data": {
      "application/vnd.jupyter.widget-view+json": {
       "model_id": "4f5b20d9de494cd98dfa470226406bed",
       "version_major": 2,
       "version_minor": 0
      },
      "text/plain": [
       "HBox(children=(FloatProgress(value=0.0, description='interactions [continuous]', max=2809.0, style=ProgressSty…"
      ]
     },
     "metadata": {},
     "output_type": "display_data"
    },
    {
     "name": "stdout",
     "output_type": "stream",
     "text": [
      "\n"
     ]
    },
    {
     "data": {
      "application/vnd.jupyter.widget-view+json": {
       "model_id": "499666f897154e049e255493a191b357",
       "version_major": 2,
       "version_minor": 0
      },
      "text/plain": [
       "HBox(children=(FloatProgress(value=0.0, description='table', max=1.0, style=ProgressStyle(description_width='i…"
      ]
     },
     "metadata": {},
     "output_type": "display_data"
    },
    {
     "name": "stdout",
     "output_type": "stream",
     "text": [
      "\n"
     ]
    },
    {
     "data": {
      "application/vnd.jupyter.widget-view+json": {
       "model_id": "97f70988c7244a5f9bb96fb1d152f540",
       "version_major": 2,
       "version_minor": 0
      },
      "text/plain": [
       "HBox(children=(FloatProgress(value=0.0, description='missing', max=4.0, style=ProgressStyle(description_width=…"
      ]
     },
     "metadata": {},
     "output_type": "display_data"
    },
    {
     "name": "stdout",
     "output_type": "stream",
     "text": [
      "\n"
     ]
    },
    {
     "data": {
      "application/vnd.jupyter.widget-view+json": {
       "model_id": "1c590fb3f8664568a4511aa5ee8eb2ca",
       "version_major": 2,
       "version_minor": 0
      },
      "text/plain": [
       "HBox(children=(FloatProgress(value=0.0, description='warnings', max=3.0, style=ProgressStyle(description_width…"
      ]
     },
     "metadata": {},
     "output_type": "display_data"
    },
    {
     "name": "stdout",
     "output_type": "stream",
     "text": [
      "\n"
     ]
    },
    {
     "data": {
      "application/vnd.jupyter.widget-view+json": {
       "model_id": "3aadcc7b4f9d439fb096e33225eb9f61",
       "version_major": 2,
       "version_minor": 0
      },
      "text/plain": [
       "HBox(children=(FloatProgress(value=0.0, description='package', max=1.0, style=ProgressStyle(description_width=…"
      ]
     },
     "metadata": {},
     "output_type": "display_data"
    },
    {
     "name": "stdout",
     "output_type": "stream",
     "text": [
      "\n"
     ]
    },
    {
     "data": {
      "application/vnd.jupyter.widget-view+json": {
       "model_id": "20475dca14ce4ef3a7e9b2739f7f2495",
       "version_major": 2,
       "version_minor": 0
      },
      "text/plain": [
       "HBox(children=(FloatProgress(value=0.0, description='build report structure', max=1.0, style=ProgressStyle(des…"
      ]
     },
     "metadata": {},
     "output_type": "display_data"
    },
    {
     "name": "stdout",
     "output_type": "stream",
     "text": [
      "\n"
     ]
    }
   ],
   "source": [
    "first_merge_profile = ProfileReport(first_merge_df, title='Pandas Profiling Report Normal', html={'style':{'full_width':True}})"
   ]
  },
  {
   "cell_type": "code",
   "execution_count": 45,
   "metadata": {},
   "outputs": [
    {
     "data": {
      "application/vnd.jupyter.widget-view+json": {
       "model_id": "d197693edd4540448ac9252d23a180b6",
       "version_major": 2,
       "version_minor": 0
      },
      "text/plain": [
       "HBox(children=(FloatProgress(value=0.0, description='variables', max=84.0, style=ProgressStyle(description_wid…"
      ]
     },
     "metadata": {},
     "output_type": "display_data"
    },
    {
     "name": "stdout",
     "output_type": "stream",
     "text": [
      "\n"
     ]
    },
    {
     "data": {
      "application/vnd.jupyter.widget-view+json": {
       "model_id": "d63bf557bbeb4423997b3632374336cd",
       "version_major": 2,
       "version_minor": 0
      },
      "text/plain": [
       "HBox(children=(FloatProgress(value=0.0, description='correlations', max=6.0, style=ProgressStyle(description_w…"
      ]
     },
     "metadata": {},
     "output_type": "display_data"
    },
    {
     "name": "stdout",
     "output_type": "stream",
     "text": [
      "\n"
     ]
    },
    {
     "data": {
      "application/vnd.jupyter.widget-view+json": {
       "model_id": "4fe5103ea8074ca3894527557ab96ff7",
       "version_major": 2,
       "version_minor": 0
      },
      "text/plain": [
       "HBox(children=(FloatProgress(value=0.0, description='interactions [continuous]', max=2601.0, style=ProgressSty…"
      ]
     },
     "metadata": {},
     "output_type": "display_data"
    },
    {
     "name": "stdout",
     "output_type": "stream",
     "text": [
      "\n"
     ]
    },
    {
     "data": {
      "application/vnd.jupyter.widget-view+json": {
       "model_id": "c95e500c91b640e29bf93998ccd7fa93",
       "version_major": 2,
       "version_minor": 0
      },
      "text/plain": [
       "HBox(children=(FloatProgress(value=0.0, description='table', max=1.0, style=ProgressStyle(description_width='i…"
      ]
     },
     "metadata": {},
     "output_type": "display_data"
    },
    {
     "name": "stdout",
     "output_type": "stream",
     "text": [
      "\n"
     ]
    },
    {
     "data": {
      "application/vnd.jupyter.widget-view+json": {
       "model_id": "8730838a4a004728aa8aa69c656b9db3",
       "version_major": 2,
       "version_minor": 0
      },
      "text/plain": [
       "HBox(children=(FloatProgress(value=0.0, description='missing', max=4.0, style=ProgressStyle(description_width=…"
      ]
     },
     "metadata": {},
     "output_type": "display_data"
    },
    {
     "name": "stdout",
     "output_type": "stream",
     "text": [
      "\n"
     ]
    },
    {
     "data": {
      "application/vnd.jupyter.widget-view+json": {
       "model_id": "125181a7713c480a88eea671aa157ea2",
       "version_major": 2,
       "version_minor": 0
      },
      "text/plain": [
       "HBox(children=(FloatProgress(value=0.0, description='warnings', max=3.0, style=ProgressStyle(description_width…"
      ]
     },
     "metadata": {},
     "output_type": "display_data"
    },
    {
     "name": "stdout",
     "output_type": "stream",
     "text": [
      "\n"
     ]
    },
    {
     "data": {
      "application/vnd.jupyter.widget-view+json": {
       "model_id": "01329507edab4393aa32194731a3438d",
       "version_major": 2,
       "version_minor": 0
      },
      "text/plain": [
       "HBox(children=(FloatProgress(value=0.0, description='package', max=1.0, style=ProgressStyle(description_width=…"
      ]
     },
     "metadata": {},
     "output_type": "display_data"
    },
    {
     "name": "stdout",
     "output_type": "stream",
     "text": [
      "\n"
     ]
    },
    {
     "data": {
      "application/vnd.jupyter.widget-view+json": {
       "model_id": "7bd5f01a54e64794be897802f4f0db45",
       "version_major": 2,
       "version_minor": 0
      },
      "text/plain": [
       "HBox(children=(FloatProgress(value=0.0, description='build report structure', max=1.0, style=ProgressStyle(des…"
      ]
     },
     "metadata": {},
     "output_type": "display_data"
    },
    {
     "name": "stdout",
     "output_type": "stream",
     "text": [
      "\n"
     ]
    }
   ],
   "source": [
    "second_merge_profile = ProfileReport(second_merge, title='Pandas Profiling Report Names', html={'style':{'full_width':True}})"
   ]
  },
  {
   "cell_type": "code",
   "execution_count": 46,
   "metadata": {},
   "outputs": [],
   "source": [
    "first_merge_profile.to_file(output_file='merge_names.html')"
   ]
  },
  {
   "cell_type": "code",
   "execution_count": 47,
   "metadata": {},
   "outputs": [],
   "source": [
    "second_merge_profile.to_file(output_file='merge_cleaned.html')"
   ]
  },
  {
   "cell_type": "code",
   "execution_count": 48,
   "metadata": {},
   "outputs": [
    {
     "data": {
      "application/vnd.jupyter.widget-view+json": {
       "model_id": "c9afd66ef690425b95e51d83f94cac15",
       "version_major": 2,
       "version_minor": 0
      },
      "text/plain": [
       "HBox(children=(FloatProgress(value=0.0, description='variables', max=92.0, style=ProgressStyle(description_wid…"
      ]
     },
     "metadata": {},
     "output_type": "display_data"
    },
    {
     "name": "stdout",
     "output_type": "stream",
     "text": [
      "\n"
     ]
    },
    {
     "data": {
      "application/vnd.jupyter.widget-view+json": {
       "model_id": "8c8f6b89e2404d6dab73188965f0f93b",
       "version_major": 2,
       "version_minor": 0
      },
      "text/plain": [
       "HBox(children=(FloatProgress(value=0.0, description='table', max=1.0, style=ProgressStyle(description_width='i…"
      ]
     },
     "metadata": {},
     "output_type": "display_data"
    },
    {
     "name": "stdout",
     "output_type": "stream",
     "text": [
      "\n"
     ]
    },
    {
     "data": {
      "application/vnd.jupyter.widget-view+json": {
       "model_id": "b6c1fa236f304f81a2f0f5e837596048",
       "version_major": 2,
       "version_minor": 0
      },
      "text/plain": [
       "HBox(children=(FloatProgress(value=0.0, description='warnings', max=3.0, style=ProgressStyle(description_width…"
      ]
     },
     "metadata": {},
     "output_type": "display_data"
    },
    {
     "name": "stdout",
     "output_type": "stream",
     "text": [
      "\n"
     ]
    },
    {
     "data": {
      "application/vnd.jupyter.widget-view+json": {
       "model_id": "5794aa1627644fd2a58ca7c99ebddbbb",
       "version_major": 2,
       "version_minor": 0
      },
      "text/plain": [
       "HBox(children=(FloatProgress(value=0.0, description='package', max=1.0, style=ProgressStyle(description_width=…"
      ]
     },
     "metadata": {},
     "output_type": "display_data"
    },
    {
     "name": "stdout",
     "output_type": "stream",
     "text": [
      "\n"
     ]
    },
    {
     "data": {
      "application/vnd.jupyter.widget-view+json": {
       "model_id": "8a614c7597e94e6dab2b078358d3db69",
       "version_major": 2,
       "version_minor": 0
      },
      "text/plain": [
       "HBox(children=(FloatProgress(value=0.0, description='build report structure', max=1.0, style=ProgressStyle(des…"
      ]
     },
     "metadata": {},
     "output_type": "display_data"
    },
    {
     "name": "stdout",
     "output_type": "stream",
     "text": [
      "\n"
     ]
    }
   ],
   "source": [
    "minimal_first_profile = ProfileReport(first_merge_df, minimal=True)"
   ]
  },
  {
   "cell_type": "code",
   "execution_count": 49,
   "metadata": {},
   "outputs": [],
   "source": [
    "minimal_first_profile.to_file(output_file='minimal_merge_name.html')"
   ]
  },
  {
   "cell_type": "code",
   "execution_count": 50,
   "metadata": {},
   "outputs": [
    {
     "data": {
      "application/vnd.jupyter.widget-view+json": {
       "model_id": "da02570825af46599810a4da0bb1dc9d",
       "version_major": 2,
       "version_minor": 0
      },
      "text/plain": [
       "HBox(children=(FloatProgress(value=0.0, description='variables', max=84.0, style=ProgressStyle(description_wid…"
      ]
     },
     "metadata": {},
     "output_type": "display_data"
    },
    {
     "name": "stdout",
     "output_type": "stream",
     "text": [
      "\n"
     ]
    },
    {
     "data": {
      "application/vnd.jupyter.widget-view+json": {
       "model_id": "0bdca5469db5402f88f5fad8ed71a2f9",
       "version_major": 2,
       "version_minor": 0
      },
      "text/plain": [
       "HBox(children=(FloatProgress(value=0.0, description='table', max=1.0, style=ProgressStyle(description_width='i…"
      ]
     },
     "metadata": {},
     "output_type": "display_data"
    },
    {
     "name": "stdout",
     "output_type": "stream",
     "text": [
      "\n"
     ]
    },
    {
     "data": {
      "application/vnd.jupyter.widget-view+json": {
       "model_id": "56af6c87d65b415eb82cb46f43c8b028",
       "version_major": 2,
       "version_minor": 0
      },
      "text/plain": [
       "HBox(children=(FloatProgress(value=0.0, description='warnings', max=3.0, style=ProgressStyle(description_width…"
      ]
     },
     "metadata": {},
     "output_type": "display_data"
    },
    {
     "name": "stdout",
     "output_type": "stream",
     "text": [
      "\n"
     ]
    },
    {
     "data": {
      "application/vnd.jupyter.widget-view+json": {
       "model_id": "5197579cd9594bb28536f20fff66ae6d",
       "version_major": 2,
       "version_minor": 0
      },
      "text/plain": [
       "HBox(children=(FloatProgress(value=0.0, description='package', max=1.0, style=ProgressStyle(description_width=…"
      ]
     },
     "metadata": {},
     "output_type": "display_data"
    },
    {
     "name": "stdout",
     "output_type": "stream",
     "text": [
      "\n"
     ]
    },
    {
     "data": {
      "application/vnd.jupyter.widget-view+json": {
       "model_id": "e8e3e2aa3d934da5959c5603cd5651a2",
       "version_major": 2,
       "version_minor": 0
      },
      "text/plain": [
       "HBox(children=(FloatProgress(value=0.0, description='build report structure', max=1.0, style=ProgressStyle(des…"
      ]
     },
     "metadata": {},
     "output_type": "display_data"
    },
    {
     "name": "stdout",
     "output_type": "stream",
     "text": [
      "\n"
     ]
    }
   ],
   "source": [
    "minimal_second_profile = ProfileReport(second_merge,minimal=True)"
   ]
  },
  {
   "cell_type": "code",
   "execution_count": 51,
   "metadata": {},
   "outputs": [],
   "source": [
    "minimal_second_profile.to_file(output_file='minimal_merge_cleaned.html')"
   ]
  },
  {
   "cell_type": "code",
   "execution_count": null,
   "metadata": {},
   "outputs": [],
   "source": []
  }
 ],
 "metadata": {
  "kernelspec": {
   "display_name": "Python 3",
   "language": "python",
   "name": "python3"
  },
  "language_info": {
   "codemirror_mode": {
    "name": "ipython",
    "version": 3
   },
   "file_extension": ".py",
   "mimetype": "text/x-python",
   "name": "python",
   "nbconvert_exporter": "python",
   "pygments_lexer": "ipython3",
   "version": "3.7.7"
  }
 },
 "nbformat": 4,
 "nbformat_minor": 4
}
