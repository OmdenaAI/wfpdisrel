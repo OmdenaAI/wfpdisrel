{
 "cells": [
  {
   "cell_type": "markdown",
   "metadata": {},
   "source": [
    "## Merging WBI dataset with cyclone dataset\n"
   ]
  },
  {
   "cell_type": "code",
   "execution_count": 1,
   "metadata": {},
   "outputs": [],
   "source": [
    "import numpy as np\n",
    "import pandas as pd"
   ]
  },
  {
   "cell_type": "code",
   "execution_count": 2,
   "metadata": {},
   "outputs": [],
   "source": [
    "#Importing WBI Dataset (the final and cleaned one, called OUTPUT....)\n",
    "df_WBI = pd.read_csv('Data_output/WBI_Final_IL.csv', sep=';', low_memory = False)"
   ]
  },
  {
   "cell_type": "code",
   "execution_count": 4,
   "metadata": {},
   "outputs": [],
   "source": [
    "#Importing cyclones dataset... \n",
    "df_cyclones = pd.read_csv('Data_input/OUTPUT_WBI_exposer_cyclones_v11.csv', sep=';', low_memory = False)"
   ]
  },
  {
   "cell_type": "code",
   "execution_count": 5,
   "metadata": {},
   "outputs": [
    {
     "data": {
      "text/html": [
       "<div>\n",
       "<style scoped>\n",
       "    .dataframe tbody tr th:only-of-type {\n",
       "        vertical-align: middle;\n",
       "    }\n",
       "\n",
       "    .dataframe tbody tr th {\n",
       "        vertical-align: top;\n",
       "    }\n",
       "\n",
       "    .dataframe thead th {\n",
       "        text-align: right;\n",
       "    }\n",
       "</style>\n",
       "<table border=\"1\" class=\"dataframe\">\n",
       "  <thead>\n",
       "    <tr style=\"text-align: right;\">\n",
       "      <th></th>\n",
       "      <th>Year</th>\n",
       "      <th>Country Code</th>\n",
       "      <th>Country Name</th>\n",
       "      <th>Arable land (hectares per person)</th>\n",
       "      <th>Cereal yield (kg per hectare)</th>\n",
       "      <th>Food production index (2004-2006 = 100)</th>\n",
       "      <th>GDP per capita (constant 2010 US$)</th>\n",
       "      <th>Net flows from UN agencies US$</th>\n",
       "      <th>Life expectancy at birth, total (years)</th>\n",
       "      <th>Population density (people per sq. km of land area)</th>\n",
       "      <th>Adjusted savings: education expenditure (% of GNI)</th>\n",
       "      <th>Rural population (% of total population)</th>\n",
       "      <th>Income_level_Final</th>\n",
       "    </tr>\n",
       "  </thead>\n",
       "  <tbody>\n",
       "    <tr>\n",
       "      <th>624</th>\n",
       "      <td>2005</td>\n",
       "      <td>CRI</td>\n",
       "      <td>Costa Rica</td>\n",
       "      <td>0.049002</td>\n",
       "      <td>3189.1</td>\n",
       "      <td>97.76</td>\n",
       "      <td>6892.923180</td>\n",
       "      <td>3.810000e+06</td>\n",
       "      <td>78.11700</td>\n",
       "      <td>83.930709</td>\n",
       "      <td>4.232227</td>\n",
       "      <td>34.328</td>\n",
       "      <td>High_Middle</td>\n",
       "    </tr>\n",
       "    <tr>\n",
       "      <th>312</th>\n",
       "      <td>1977</td>\n",
       "      <td>CAN</td>\n",
       "      <td>Canada</td>\n",
       "      <td>1.840862</td>\n",
       "      <td>2265.9</td>\n",
       "      <td>55.85</td>\n",
       "      <td>27615.731470</td>\n",
       "      <td>0.000000e+00</td>\n",
       "      <td>74.21561</td>\n",
       "      <td>2.609096</td>\n",
       "      <td>6.400000</td>\n",
       "      <td>24.457</td>\n",
       "      <td>High</td>\n",
       "    </tr>\n",
       "    <tr>\n",
       "      <th>4256</th>\n",
       "      <td>2016</td>\n",
       "      <td>ZAF</td>\n",
       "      <td>South Africa</td>\n",
       "      <td>0.222405</td>\n",
       "      <td>3818.6</td>\n",
       "      <td>116.66</td>\n",
       "      <td>7476.621012</td>\n",
       "      <td>2.110303e+07</td>\n",
       "      <td>63.15300</td>\n",
       "      <td>46.330985</td>\n",
       "      <td>5.779490</td>\n",
       "      <td>34.659</td>\n",
       "      <td>High_Middle</td>\n",
       "    </tr>\n",
       "  </tbody>\n",
       "</table>\n",
       "</div>"
      ],
      "text/plain": [
       "      Year Country Code  Country Name  Arable land (hectares per person)  \\\n",
       "624   2005          CRI    Costa Rica                           0.049002   \n",
       "312   1977          CAN        Canada                           1.840862   \n",
       "4256  2016          ZAF  South Africa                           0.222405   \n",
       "\n",
       "      Cereal yield (kg per hectare)  Food production index (2004-2006 = 100)  \\\n",
       "624                          3189.1                                    97.76   \n",
       "312                          2265.9                                    55.85   \n",
       "4256                         3818.6                                   116.66   \n",
       "\n",
       "      GDP per capita (constant 2010 US$)  Net flows from UN agencies US$  \\\n",
       "624                          6892.923180                    3.810000e+06   \n",
       "312                         27615.731470                    0.000000e+00   \n",
       "4256                         7476.621012                    2.110303e+07   \n",
       "\n",
       "      Life expectancy at birth, total (years)  \\\n",
       "624                                  78.11700   \n",
       "312                                  74.21561   \n",
       "4256                                 63.15300   \n",
       "\n",
       "      Population density (people per sq. km of land area)  \\\n",
       "624                                           83.930709     \n",
       "312                                            2.609096     \n",
       "4256                                          46.330985     \n",
       "\n",
       "      Adjusted savings: education expenditure (% of GNI)  \\\n",
       "624                                            4.232227    \n",
       "312                                            6.400000    \n",
       "4256                                           5.779490    \n",
       "\n",
       "      Rural population (% of total population) Income_level_Final  \n",
       "624                                     34.328        High_Middle  \n",
       "312                                     24.457               High  \n",
       "4256                                    34.659        High_Middle  "
      ]
     },
     "execution_count": 5,
     "metadata": {},
     "output_type": "execute_result"
    }
   ],
   "source": [
    "df_WBI.sample(3)"
   ]
  },
  {
   "cell_type": "code",
   "execution_count": 6,
   "metadata": {},
   "outputs": [
    {
     "data": {
      "text/html": [
       "<div>\n",
       "<style scoped>\n",
       "    .dataframe tbody tr th:only-of-type {\n",
       "        vertical-align: middle;\n",
       "    }\n",
       "\n",
       "    .dataframe tbody tr th {\n",
       "        vertical-align: top;\n",
       "    }\n",
       "\n",
       "    .dataframe thead th {\n",
       "        text-align: right;\n",
       "    }\n",
       "</style>\n",
       "<table border=\"1\" class=\"dataframe\">\n",
       "  <thead>\n",
       "    <tr style=\"text-align: right;\">\n",
       "      <th></th>\n",
       "      <th>SID</th>\n",
       "      <th>NAME</th>\n",
       "      <th>BASIN</th>\n",
       "      <th>SUB BASIN</th>\n",
       "      <th>ISO</th>\n",
       "      <th>YEAR</th>\n",
       "      <th>MONTH_START</th>\n",
       "      <th>MONTH_END</th>\n",
       "      <th>DATE_START</th>\n",
       "      <th>DATE_END</th>\n",
       "      <th>...</th>\n",
       "      <th>34KN_ASSETS</th>\n",
       "      <th>96KN_ASSETS</th>\n",
       "      <th>POP_DEN_SQ_KM</th>\n",
       "      <th>RURAL_POP(%)</th>\n",
       "      <th>POP_TOTAL</th>\n",
       "      <th>RURAL_POP</th>\n",
       "      <th>HDI</th>\n",
       "      <th>TOTAL_DAMAGE_(000$)</th>\n",
       "      <th>TOTAL_DEATHS</th>\n",
       "      <th>TOTAL_AFFECTED</th>\n",
       "    </tr>\n",
       "  </thead>\n",
       "  <tbody>\n",
       "    <tr>\n",
       "      <th>558</th>\n",
       "      <td>2005261N21290</td>\n",
       "      <td>RITA</td>\n",
       "      <td>NAm</td>\n",
       "      <td>GM</td>\n",
       "      <td>USA</td>\n",
       "      <td>2005</td>\n",
       "      <td>9</td>\n",
       "      <td>9</td>\n",
       "      <td>2005-09-20 18:00:00</td>\n",
       "      <td>2005-09-26 06:00:00</td>\n",
       "      <td>...</td>\n",
       "      <td>2.207670e+12</td>\n",
       "      <td>8.876090e+10</td>\n",
       "      <td>32.3</td>\n",
       "      <td>20.1</td>\n",
       "      <td>295000000</td>\n",
       "      <td>5.929500e+07</td>\n",
       "      <td>0.896</td>\n",
       "      <td>16000000.0</td>\n",
       "      <td>10.0</td>\n",
       "      <td>300000</td>\n",
       "    </tr>\n",
       "    <tr>\n",
       "      <th>552</th>\n",
       "      <td>2005237N14148</td>\n",
       "      <td>TALIM</td>\n",
       "      <td>WP</td>\n",
       "      <td>WP</td>\n",
       "      <td>TWN</td>\n",
       "      <td>2005</td>\n",
       "      <td>8</td>\n",
       "      <td>9</td>\n",
       "      <td>2005-08-31 15:00:00</td>\n",
       "      <td>2005-09-01 00:00:00</td>\n",
       "      <td>...</td>\n",
       "      <td>4.137190e+12</td>\n",
       "      <td>8.296658e+10</td>\n",
       "      <td>641.0</td>\n",
       "      <td>27.7</td>\n",
       "      <td>22705713</td>\n",
       "      <td>6.289483e+06</td>\n",
       "      <td>0.750</td>\n",
       "      <td>38000.0</td>\n",
       "      <td>3.0</td>\n",
       "      <td>59</td>\n",
       "    </tr>\n",
       "    <tr>\n",
       "      <th>535</th>\n",
       "      <td>2004288N09164</td>\n",
       "      <td>NOCK-TEN</td>\n",
       "      <td>WP</td>\n",
       "      <td>WP</td>\n",
       "      <td>TWN</td>\n",
       "      <td>2004</td>\n",
       "      <td>10</td>\n",
       "      <td>10</td>\n",
       "      <td>2004-10-24 18:00:00</td>\n",
       "      <td>2004-10-25 12:00:00</td>\n",
       "      <td>...</td>\n",
       "      <td>2.632490e+12</td>\n",
       "      <td>7.829500e+08</td>\n",
       "      <td>640.0</td>\n",
       "      <td>28.2</td>\n",
       "      <td>22570224</td>\n",
       "      <td>6.364803e+06</td>\n",
       "      <td>0.740</td>\n",
       "      <td>NaN</td>\n",
       "      <td>7.0</td>\n",
       "      <td>1700</td>\n",
       "    </tr>\n",
       "  </tbody>\n",
       "</table>\n",
       "<p>3 rows × 48 columns</p>\n",
       "</div>"
      ],
      "text/plain": [
       "               SID      NAME BASIN SUB BASIN  ISO  YEAR  MONTH_START  \\\n",
       "558  2005261N21290      RITA   NAm        GM  USA  2005            9   \n",
       "552  2005237N14148     TALIM    WP        WP  TWN  2005            8   \n",
       "535  2004288N09164  NOCK-TEN    WP        WP  TWN  2004           10   \n",
       "\n",
       "     MONTH_END           DATE_START             DATE_END  ...   34KN_ASSETS  \\\n",
       "558          9  2005-09-20 18:00:00  2005-09-26 06:00:00  ...  2.207670e+12   \n",
       "552          9  2005-08-31 15:00:00  2005-09-01 00:00:00  ...  4.137190e+12   \n",
       "535         10  2004-10-24 18:00:00  2004-10-25 12:00:00  ...  2.632490e+12   \n",
       "\n",
       "      96KN_ASSETS  POP_DEN_SQ_KM  RURAL_POP(%)  POP_TOTAL     RURAL_POP  \\\n",
       "558  8.876090e+10           32.3          20.1  295000000  5.929500e+07   \n",
       "552  8.296658e+10          641.0          27.7   22705713  6.289483e+06   \n",
       "535  7.829500e+08          640.0          28.2   22570224  6.364803e+06   \n",
       "\n",
       "       HDI  TOTAL_DAMAGE_(000$)  TOTAL_DEATHS  TOTAL_AFFECTED  \n",
       "558  0.896           16000000.0          10.0          300000  \n",
       "552  0.750              38000.0           3.0              59  \n",
       "535  0.740                  NaN           7.0            1700  \n",
       "\n",
       "[3 rows x 48 columns]"
      ]
     },
     "execution_count": 6,
     "metadata": {},
     "output_type": "execute_result"
    }
   ],
   "source": [
    "df_cyclones.sample(3)"
   ]
  },
  {
   "cell_type": "code",
   "execution_count": 7,
   "metadata": {
    "scrolled": false
   },
   "outputs": [
    {
     "data": {
      "text/plain": [
       "Year                                                     int64\n",
       "Country Code                                            object\n",
       "Country Name                                            object\n",
       "Arable land (hectares per person)                      float64\n",
       "Cereal yield (kg per hectare)                          float64\n",
       "Food production index (2004-2006 = 100)                float64\n",
       "GDP per capita (constant 2010 US$)                     float64\n",
       "Net flows from UN agencies US$                         float64\n",
       "Life expectancy at birth, total (years)                float64\n",
       "Population density (people per sq. km of land area)    float64\n",
       "Adjusted savings: education expenditure (% of GNI)     float64\n",
       "Rural population (% of total population)               float64\n",
       "Income_level_Final                                      object\n",
       "dtype: object"
      ]
     },
     "execution_count": 7,
     "metadata": {},
     "output_type": "execute_result"
    }
   ],
   "source": [
    "df_WBI.dtypes"
   ]
  },
  {
   "cell_type": "code",
   "execution_count": 8,
   "metadata": {},
   "outputs": [
    {
     "data": {
      "text/plain": [
       "SID                         object\n",
       "NAME                        object\n",
       "BASIN                       object\n",
       "SUB BASIN                   object\n",
       "ISO                         object\n",
       "YEAR                         int64\n",
       "MONTH_START                  int64\n",
       "MONTH_END                    int64\n",
       "DATE_START                  object\n",
       "DATE_END                    object\n",
       "DATE_LAND_START             object\n",
       "DATE_LAND_END               object\n",
       "TOTAL_HOURS_EVENT          float64\n",
       "TOTAL_HOURS_IN_LAND        float64\n",
       "NATURE                      object\n",
       "GENERAL_CATEGORY            object\n",
       "MAX_WIND                   float64\n",
       "MIN_PRES                     int64\n",
       "MIN_DIST2LAND                int64\n",
       "MAX_STORMSPEED             float64\n",
       "MAX_USA_SSHS                 int64\n",
       "MAX_USA_SSHS_INLAND         object\n",
       "V_LAND_KN                  float64\n",
       "COORDS                      object\n",
       "COORDS_MAX_WINDS            object\n",
       "COORDS_MIN_DIST2LAND        object\n",
       "DISTANCE_TRACK             float64\n",
       "DISTANCE_TRACK_VINCENTY    float64\n",
       "34KN_POP                   float64\n",
       "64KN_POP                   float64\n",
       "96KN_POP                   float64\n",
       "POP_MAX_34_ADJ             float64\n",
       "POP_MAX_50_ADJ             float64\n",
       "POP_MAX_64_ADJ             float64\n",
       "POP_MAX_34                 float64\n",
       "POP_MAX_50                 float64\n",
       "POP_MAX_64                 float64\n",
       "64KN_ASSETS                float64\n",
       "34KN_ASSETS                float64\n",
       "96KN_ASSETS                float64\n",
       "POP_DEN_SQ_KM              float64\n",
       "RURAL_POP(%)               float64\n",
       "POP_TOTAL                    int64\n",
       "RURAL_POP                  float64\n",
       "HDI                        float64\n",
       "TOTAL_DAMAGE_(000$)        float64\n",
       "TOTAL_DEATHS               float64\n",
       "TOTAL_AFFECTED               int64\n",
       "dtype: object"
      ]
     },
     "execution_count": 8,
     "metadata": {},
     "output_type": "execute_result"
    }
   ],
   "source": [
    "df_cyclones.dtypes"
   ]
  },
  {
   "cell_type": "code",
   "execution_count": 9,
   "metadata": {},
   "outputs": [
    {
     "data": {
      "text/plain": [
       "(1019, 48)"
      ]
     },
     "execution_count": 9,
     "metadata": {},
     "output_type": "execute_result"
    }
   ],
   "source": [
    "df_cyclones.shape"
   ]
  },
  {
   "cell_type": "markdown",
   "metadata": {},
   "source": [
    "### Merging datasets"
   ]
  },
  {
   "cell_type": "code",
   "execution_count": 10,
   "metadata": {},
   "outputs": [],
   "source": [
    "# in cyclones Dataset ISO for SouthAfrica is RSA and should be ZAF\n",
    "df_cyclones[\"ISO\"]= df_cyclones[\"ISO\"].replace('RSA', 'ZAF') "
   ]
  },
  {
   "cell_type": "code",
   "execution_count": 11,
   "metadata": {},
   "outputs": [],
   "source": [
    "df_cyclones = pd.merge(df_cyclones, df_WBI, how='left', left_on=['ISO', 'YEAR'], right_on= ['Country Code', 'Year'])"
   ]
  },
  {
   "cell_type": "code",
   "execution_count": 12,
   "metadata": {},
   "outputs": [],
   "source": [
    "# drop inherited and not needed columns from df_WBI\n",
    "df_cyclones = df_cyclones.drop(columns = ['Country Code', 'Country Name']) "
   ]
  },
  {
   "cell_type": "code",
   "execution_count": 13,
   "metadata": {},
   "outputs": [
    {
     "data": {
      "text/html": [
       "<div>\n",
       "<style scoped>\n",
       "    .dataframe tbody tr th:only-of-type {\n",
       "        vertical-align: middle;\n",
       "    }\n",
       "\n",
       "    .dataframe tbody tr th {\n",
       "        vertical-align: top;\n",
       "    }\n",
       "\n",
       "    .dataframe thead th {\n",
       "        text-align: right;\n",
       "    }\n",
       "</style>\n",
       "<table border=\"1\" class=\"dataframe\">\n",
       "  <thead>\n",
       "    <tr style=\"text-align: right;\">\n",
       "      <th></th>\n",
       "      <th>SID</th>\n",
       "      <th>NAME</th>\n",
       "      <th>BASIN</th>\n",
       "      <th>SUB BASIN</th>\n",
       "      <th>ISO</th>\n",
       "      <th>YEAR</th>\n",
       "      <th>MONTH_START</th>\n",
       "      <th>MONTH_END</th>\n",
       "      <th>DATE_START</th>\n",
       "      <th>DATE_END</th>\n",
       "      <th>...</th>\n",
       "      <th>Arable land (hectares per person)</th>\n",
       "      <th>Cereal yield (kg per hectare)</th>\n",
       "      <th>Food production index (2004-2006 = 100)</th>\n",
       "      <th>GDP per capita (constant 2010 US$)</th>\n",
       "      <th>Net flows from UN agencies US$</th>\n",
       "      <th>Life expectancy at birth, total (years)</th>\n",
       "      <th>Population density (people per sq. km of land area)</th>\n",
       "      <th>Adjusted savings: education expenditure (% of GNI)</th>\n",
       "      <th>Rural population (% of total population)</th>\n",
       "      <th>Income_level_Final</th>\n",
       "    </tr>\n",
       "  </thead>\n",
       "  <tbody>\n",
       "    <tr>\n",
       "      <th>0</th>\n",
       "      <td>1949163N07145</td>\n",
       "      <td>DELLA</td>\n",
       "      <td>WP</td>\n",
       "      <td>WP</td>\n",
       "      <td>JPN</td>\n",
       "      <td>1949</td>\n",
       "      <td>6</td>\n",
       "      <td>6</td>\n",
       "      <td>1949-06-19 09:00:00</td>\n",
       "      <td>1949-06-24 06:00:00</td>\n",
       "      <td>...</td>\n",
       "      <td>0.059615</td>\n",
       "      <td>4173.5</td>\n",
       "      <td>67.79</td>\n",
       "      <td>8607.657082</td>\n",
       "      <td>0.0</td>\n",
       "      <td>67.666098</td>\n",
       "      <td>258.911917</td>\n",
       "      <td>2.867878</td>\n",
       "      <td>36.728</td>\n",
       "      <td>Low</td>\n",
       "    </tr>\n",
       "    <tr>\n",
       "      <th>1</th>\n",
       "      <td>1950241N23140</td>\n",
       "      <td>JANE</td>\n",
       "      <td>WP</td>\n",
       "      <td>WP</td>\n",
       "      <td>JPN</td>\n",
       "      <td>1950</td>\n",
       "      <td>8</td>\n",
       "      <td>9</td>\n",
       "      <td>1950-08-30 03:00:00</td>\n",
       "      <td>1950-09-05 00:00:00</td>\n",
       "      <td>...</td>\n",
       "      <td>0.059615</td>\n",
       "      <td>4173.5</td>\n",
       "      <td>67.79</td>\n",
       "      <td>8607.657082</td>\n",
       "      <td>0.0</td>\n",
       "      <td>67.666098</td>\n",
       "      <td>258.911917</td>\n",
       "      <td>2.867878</td>\n",
       "      <td>36.728</td>\n",
       "      <td>Low</td>\n",
       "    </tr>\n",
       "    <tr>\n",
       "      <th>2</th>\n",
       "      <td>1951224N12316</td>\n",
       "      <td>CHARLIE</td>\n",
       "      <td>NAm</td>\n",
       "      <td>CS</td>\n",
       "      <td>JAM</td>\n",
       "      <td>1951</td>\n",
       "      <td>8</td>\n",
       "      <td>8</td>\n",
       "      <td>1951-08-17 21:00:00</td>\n",
       "      <td>1951-08-18 12:00:00</td>\n",
       "      <td>...</td>\n",
       "      <td>0.100541</td>\n",
       "      <td>868.3</td>\n",
       "      <td>69.93</td>\n",
       "      <td>3796.219401</td>\n",
       "      <td>0.0</td>\n",
       "      <td>64.770000</td>\n",
       "      <td>152.453647</td>\n",
       "      <td>2.578304</td>\n",
       "      <td>66.231</td>\n",
       "      <td>Low</td>\n",
       "    </tr>\n",
       "    <tr>\n",
       "      <th>3</th>\n",
       "      <td>1951337N09150</td>\n",
       "      <td>AMY</td>\n",
       "      <td>WP</td>\n",
       "      <td>WP</td>\n",
       "      <td>PHL</td>\n",
       "      <td>1951</td>\n",
       "      <td>12</td>\n",
       "      <td>12</td>\n",
       "      <td>1951-12-07 09:00:00</td>\n",
       "      <td>1951-12-17 00:00:00</td>\n",
       "      <td>...</td>\n",
       "      <td>0.180442</td>\n",
       "      <td>996.3</td>\n",
       "      <td>25.68</td>\n",
       "      <td>1059.467412</td>\n",
       "      <td>0.0</td>\n",
       "      <td>61.105000</td>\n",
       "      <td>91.065000</td>\n",
       "      <td>2.757732</td>\n",
       "      <td>69.703</td>\n",
       "      <td>Low_Middle</td>\n",
       "    </tr>\n",
       "    <tr>\n",
       "      <th>4</th>\n",
       "      <td>1952180N05144</td>\n",
       "      <td>EMMA</td>\n",
       "      <td>WP</td>\n",
       "      <td>WP</td>\n",
       "      <td>PHL</td>\n",
       "      <td>1952</td>\n",
       "      <td>7</td>\n",
       "      <td>7</td>\n",
       "      <td>1952-07-01 06:00:00</td>\n",
       "      <td>1952-07-04 18:00:00</td>\n",
       "      <td>...</td>\n",
       "      <td>0.180442</td>\n",
       "      <td>996.3</td>\n",
       "      <td>25.68</td>\n",
       "      <td>1059.467412</td>\n",
       "      <td>0.0</td>\n",
       "      <td>61.105000</td>\n",
       "      <td>91.065000</td>\n",
       "      <td>2.757732</td>\n",
       "      <td>69.703</td>\n",
       "      <td>Low_Middle</td>\n",
       "    </tr>\n",
       "  </tbody>\n",
       "</table>\n",
       "<p>5 rows × 59 columns</p>\n",
       "</div>"
      ],
      "text/plain": [
       "             SID     NAME BASIN SUB BASIN  ISO  YEAR  MONTH_START  MONTH_END  \\\n",
       "0  1949163N07145    DELLA    WP        WP  JPN  1949            6          6   \n",
       "1  1950241N23140     JANE    WP        WP  JPN  1950            8          9   \n",
       "2  1951224N12316  CHARLIE   NAm        CS  JAM  1951            8          8   \n",
       "3  1951337N09150      AMY    WP        WP  PHL  1951           12         12   \n",
       "4  1952180N05144     EMMA    WP        WP  PHL  1952            7          7   \n",
       "\n",
       "            DATE_START             DATE_END  ...  \\\n",
       "0  1949-06-19 09:00:00  1949-06-24 06:00:00  ...   \n",
       "1  1950-08-30 03:00:00  1950-09-05 00:00:00  ...   \n",
       "2  1951-08-17 21:00:00  1951-08-18 12:00:00  ...   \n",
       "3  1951-12-07 09:00:00  1951-12-17 00:00:00  ...   \n",
       "4  1952-07-01 06:00:00  1952-07-04 18:00:00  ...   \n",
       "\n",
       "  Arable land (hectares per person) Cereal yield (kg per hectare)  \\\n",
       "0                          0.059615                        4173.5   \n",
       "1                          0.059615                        4173.5   \n",
       "2                          0.100541                         868.3   \n",
       "3                          0.180442                         996.3   \n",
       "4                          0.180442                         996.3   \n",
       "\n",
       "   Food production index (2004-2006 = 100)  \\\n",
       "0                                    67.79   \n",
       "1                                    67.79   \n",
       "2                                    69.93   \n",
       "3                                    25.68   \n",
       "4                                    25.68   \n",
       "\n",
       "   GDP per capita (constant 2010 US$) Net flows from UN agencies US$  \\\n",
       "0                         8607.657082                            0.0   \n",
       "1                         8607.657082                            0.0   \n",
       "2                         3796.219401                            0.0   \n",
       "3                         1059.467412                            0.0   \n",
       "4                         1059.467412                            0.0   \n",
       "\n",
       "  Life expectancy at birth, total (years)  \\\n",
       "0                               67.666098   \n",
       "1                               67.666098   \n",
       "2                               64.770000   \n",
       "3                               61.105000   \n",
       "4                               61.105000   \n",
       "\n",
       "   Population density (people per sq. km of land area)  \\\n",
       "0                                         258.911917     \n",
       "1                                         258.911917     \n",
       "2                                         152.453647     \n",
       "3                                          91.065000     \n",
       "4                                          91.065000     \n",
       "\n",
       "   Adjusted savings: education expenditure (% of GNI)  \\\n",
       "0                                           2.867878    \n",
       "1                                           2.867878    \n",
       "2                                           2.578304    \n",
       "3                                           2.757732    \n",
       "4                                           2.757732    \n",
       "\n",
       "   Rural population (% of total population)  Income_level_Final  \n",
       "0                                    36.728                 Low  \n",
       "1                                    36.728                 Low  \n",
       "2                                    66.231                 Low  \n",
       "3                                    69.703          Low_Middle  \n",
       "4                                    69.703          Low_Middle  \n",
       "\n",
       "[5 rows x 59 columns]"
      ]
     },
     "execution_count": 13,
     "metadata": {},
     "output_type": "execute_result"
    }
   ],
   "source": [
    "df_cyclones.head()"
   ]
  },
  {
   "cell_type": "code",
   "execution_count": 14,
   "metadata": {},
   "outputs": [
    {
     "data": {
      "text/plain": [
       "Index(['SID', 'NAME', 'BASIN', 'SUB BASIN', 'ISO', 'YEAR', 'MONTH_START',\n",
       "       'MONTH_END', 'DATE_START', 'DATE_END', 'DATE_LAND_START',\n",
       "       'DATE_LAND_END', 'TOTAL_HOURS_EVENT', 'TOTAL_HOURS_IN_LAND', 'NATURE',\n",
       "       'GENERAL_CATEGORY', 'MAX_WIND', 'MIN_PRES', 'MIN_DIST2LAND',\n",
       "       'MAX_STORMSPEED', 'MAX_USA_SSHS', 'MAX_USA_SSHS_INLAND', 'V_LAND_KN',\n",
       "       'COORDS', 'COORDS_MAX_WINDS', 'COORDS_MIN_DIST2LAND', 'DISTANCE_TRACK',\n",
       "       'DISTANCE_TRACK_VINCENTY', '34KN_POP', '64KN_POP', '96KN_POP',\n",
       "       'POP_MAX_34_ADJ', 'POP_MAX_50_ADJ', 'POP_MAX_64_ADJ', 'POP_MAX_34',\n",
       "       'POP_MAX_50', 'POP_MAX_64', '64KN_ASSETS', '34KN_ASSETS', '96KN_ASSETS',\n",
       "       'POP_DEN_SQ_KM', 'RURAL_POP(%)', 'POP_TOTAL', 'RURAL_POP', 'HDI',\n",
       "       'TOTAL_DAMAGE_(000$)', 'TOTAL_DEATHS', 'TOTAL_AFFECTED', 'Year',\n",
       "       'Arable land (hectares per person)', 'Cereal yield (kg per hectare)',\n",
       "       'Food production index (2004-2006 = 100)',\n",
       "       'GDP per capita (constant 2010 US$)', 'Net flows from UN agencies US$',\n",
       "       'Life expectancy at birth, total (years)',\n",
       "       'Population density (people per sq. km of land area)',\n",
       "       'Adjusted savings: education expenditure (% of GNI)',\n",
       "       'Rural population (% of total population)', 'Income_level_Final'],\n",
       "      dtype='object')"
      ]
     },
     "execution_count": 14,
     "metadata": {},
     "output_type": "execute_result"
    }
   ],
   "source": [
    "df_cyclones.columns"
   ]
  },
  {
   "cell_type": "markdown",
   "metadata": {},
   "source": [
    "## Final arrangements and saving to csv"
   ]
  },
  {
   "cell_type": "code",
   "execution_count": 31,
   "metadata": {},
   "outputs": [],
   "source": [
    "# Arranging columns\n",
    "\n",
    "df_cyclones = df_cyclones[[\n",
    "    \n",
    "    # cyclone related columns\n",
    "    'SID', 'NAME',  'ISO', 'YEAR', 'COORDS', 'COORDS_MAX_WINDS', 'COORDS_MIN_DIST2LAND',\n",
    "    'BASIN', 'SUB BASIN','MONTH_START',\n",
    "       'MONTH_END', 'DATE_START', 'DATE_END', 'DATE_LAND_START',\n",
    "       'DATE_LAND_END', 'TOTAL_HOURS_EVENT', 'TOTAL_HOURS_IN_LAND', 'NATURE',\n",
    "       'GENERAL_CATEGORY', 'MAX_WIND', 'MIN_PRES', 'MIN_DIST2LAND',\n",
    "       'MAX_STORMSPEED', 'MAX_USA_SSHS', 'MAX_USA_SSHS_INLAND', 'V_LAND_KN',\n",
    "        'DISTANCE_TRACK',\n",
    "       'DISTANCE_TRACK_VINCENTY', '34KN_POP', '64KN_POP', '96KN_POP',\n",
    "\n",
    "    '64KN_ASSETS', '34KN_ASSETS', '96KN_ASSETS',\n",
    "       \n",
    "       'TOTAL_DAMAGE_(000$)', 'TOTAL_DEATHS',\n",
    "                           \n",
    "       #  here features from World Bank Indicators:\n",
    "     'POP_DEN_SQ_KM', 'RURAL_POP(%)', #'POP_TOTAL', 'RURAL_POP', \n",
    "        'HDI',\n",
    "    \n",
    "        'Arable land (hectares per person)', 'Cereal yield (kg per hectare)',\n",
    "       'Food production index (2004-2006 = 100)',\n",
    "       'GDP per capita (constant 2010 US$)', 'Net flows from UN agencies US$',\n",
    "       'Life expectancy at birth, total (years)',\n",
    "       'Adjusted savings: education expenditure (% of GNI)',\n",
    "       'Income_level_Final',\n",
    "    \n",
    "        # features from climada\n",
    "           'POP_MAX_34_ADJ', 'POP_MAX_50_ADJ', 'POP_MAX_64_ADJ', \n",
    "            #'POP_MAX_34','POP_MAX_50', 'POP_MAX_64', \n",
    "        \n",
    "         # Target label                   \n",
    "        'TOTAL_AFFECTED'\n",
    "                     \n",
    "        ]]"
   ]
  },
  {
   "cell_type": "code",
   "execution_count": 32,
   "metadata": {},
   "outputs": [
    {
     "name": "stderr",
     "output_type": "stream",
     "text": [
      "C:\\Users\\torre\\Anaconda3\\lib\\site-packages\\ipykernel_launcher.py:1: SettingWithCopyWarning: \n",
      "A value is trying to be set on a copy of a slice from a DataFrame\n",
      "\n",
      "See the caveats in the documentation: http://pandas.pydata.org/pandas-docs/stable/user_guide/indexing.html#returning-a-view-versus-a-copy\n",
      "  \"\"\"Entry point for launching an IPython kernel.\n"
     ]
    }
   ],
   "source": [
    "df_cyclones.sort_values(by = 'SID',ascending=True, inplace=True) "
   ]
  },
  {
   "cell_type": "code",
   "execution_count": 33,
   "metadata": {},
   "outputs": [
    {
     "data": {
      "text/plain": [
       "(1019, 51)"
      ]
     },
     "execution_count": 33,
     "metadata": {},
     "output_type": "execute_result"
    }
   ],
   "source": [
    "df_cyclones.shape"
   ]
  },
  {
   "cell_type": "code",
   "execution_count": 34,
   "metadata": {},
   "outputs": [
    {
     "data": {
      "text/plain": [
       "0"
      ]
     },
     "execution_count": 34,
     "metadata": {},
     "output_type": "execute_result"
    }
   ],
   "source": [
    "# checking that all rows from cyclones have info from WBI dataset\n",
    "df_cyclones['Income_level_Final'].isna().sum() "
   ]
  },
  {
   "cell_type": "code",
   "execution_count": 35,
   "metadata": {},
   "outputs": [],
   "source": [
    "# Writing to csv the final Dataset to be merged with other dataset from cyclones...\n",
    "\n",
    "df_cyclones.to_csv(r'Data_output/OUTPUT_WBI_exposer_cyclones_v12.csv', index = False, sep = ';')"
   ]
  },
  {
   "cell_type": "code",
   "execution_count": null,
   "metadata": {},
   "outputs": [],
   "source": []
  }
 ],
 "metadata": {
  "kernelspec": {
   "display_name": "Python 3",
   "language": "python",
   "name": "python3"
  },
  "language_info": {
   "codemirror_mode": {
    "name": "ipython",
    "version": 3
   },
   "file_extension": ".py",
   "mimetype": "text/x-python",
   "name": "python",
   "nbconvert_exporter": "python",
   "pygments_lexer": "ipython3",
   "version": "3.7.4"
  },
  "varInspector": {
   "cols": {
    "lenName": 16,
    "lenType": 16,
    "lenVar": 40
   },
   "kernels_config": {
    "python": {
     "delete_cmd_postfix": "",
     "delete_cmd_prefix": "del ",
     "library": "var_list.py",
     "varRefreshCmd": "print(var_dic_list())"
    },
    "r": {
     "delete_cmd_postfix": ") ",
     "delete_cmd_prefix": "rm(",
     "library": "var_list.r",
     "varRefreshCmd": "cat(var_dic_list()) "
    }
   },
   "oldHeight": 270.53778,
   "position": {
    "height": "40px",
    "left": "1119px",
    "right": "20px",
    "top": "32.9931px",
    "width": "381.094px"
   },
   "types_to_exclude": [
    "module",
    "function",
    "builtin_function_or_method",
    "instance",
    "_Feature"
   ],
   "varInspector_section_display": "none",
   "window_display": true
  }
 },
 "nbformat": 4,
 "nbformat_minor": 2
}
