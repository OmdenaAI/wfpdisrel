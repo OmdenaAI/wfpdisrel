{
 "cells": [
  {
   "cell_type": "markdown",
   "metadata": {},
   "source": [
    "## Merging WBI dataset with cyclone dataset\n"
   ]
  },
  {
   "cell_type": "code",
   "execution_count": 1,
   "metadata": {},
   "outputs": [],
   "source": [
    "import numpy as np\n",
    "import pandas as pd"
   ]
  },
  {
   "cell_type": "code",
   "execution_count": 2,
   "metadata": {},
   "outputs": [],
   "source": [
    "#Importing WBI Dataset (the final and cleaned one, called OUTPUT....)\n",
    "df_WBI = pd.read_csv('Data_output/WBI_Final_IL.csv', sep=';', low_memory = False)"
   ]
  },
  {
   "cell_type": "code",
   "execution_count": 3,
   "metadata": {},
   "outputs": [],
   "source": [
    "#Importing cyclones dataset... \n",
    "df_cyclones = pd.read_csv('Data_input/Master_1504.csv', sep=';', low_memory = False)"
   ]
  },
  {
   "cell_type": "code",
   "execution_count": 4,
   "metadata": {},
   "outputs": [
    {
     "data": {
      "text/html": [
       "<div>\n",
       "<style scoped>\n",
       "    .dataframe tbody tr th:only-of-type {\n",
       "        vertical-align: middle;\n",
       "    }\n",
       "\n",
       "    .dataframe tbody tr th {\n",
       "        vertical-align: top;\n",
       "    }\n",
       "\n",
       "    .dataframe thead th {\n",
       "        text-align: right;\n",
       "    }\n",
       "</style>\n",
       "<table border=\"1\" class=\"dataframe\">\n",
       "  <thead>\n",
       "    <tr style=\"text-align: right;\">\n",
       "      <th></th>\n",
       "      <th>Year</th>\n",
       "      <th>Country Code</th>\n",
       "      <th>Country Name</th>\n",
       "      <th>Air transport, freight (million ton-km)</th>\n",
       "      <th>Arable land (hectares per person)</th>\n",
       "      <th>Cereal yield (kg per hectare)</th>\n",
       "      <th>Food production index (2004-2006 = 100)</th>\n",
       "      <th>GDP growth (annual %)</th>\n",
       "      <th>GDP per capita (constant 2010 US$)</th>\n",
       "      <th>Net flows from UN agencies US$</th>\n",
       "      <th>Life expectancy at birth, total (years)</th>\n",
       "      <th>Mobile cellular subscriptions (per 100 people)</th>\n",
       "      <th>Population density (people per sq. km of land area)</th>\n",
       "      <th>Adjusted savings: education expenditure (% of GNI)</th>\n",
       "      <th>Rural population (% of total population)</th>\n",
       "      <th>Income_level_Final</th>\n",
       "    </tr>\n",
       "  </thead>\n",
       "  <tbody>\n",
       "    <tr>\n",
       "      <th>4401</th>\n",
       "      <td>2019</td>\n",
       "      <td>REU</td>\n",
       "      <td>Reunion</td>\n",
       "      <td>NaN</td>\n",
       "      <td>0.059375</td>\n",
       "      <td>4082.043341</td>\n",
       "      <td>92.563376</td>\n",
       "      <td>3.781639</td>\n",
       "      <td>10004.232429</td>\n",
       "      <td>0.000000e+00</td>\n",
       "      <td>74.433937</td>\n",
       "      <td>144.649236</td>\n",
       "      <td>622.642327</td>\n",
       "      <td>4.7700</td>\n",
       "      <td>59.114744</td>\n",
       "      <td>High_Middle</td>\n",
       "    </tr>\n",
       "    <tr>\n",
       "      <th>3613</th>\n",
       "      <td>2012</td>\n",
       "      <td>TON</td>\n",
       "      <td>Tonga</td>\n",
       "      <td>NaN</td>\n",
       "      <td>0.175205</td>\n",
       "      <td>NaN</td>\n",
       "      <td>135.470000</td>\n",
       "      <td>0.890323</td>\n",
       "      <td>3729.495033</td>\n",
       "      <td>9.103263e+05</td>\n",
       "      <td>70.242000</td>\n",
       "      <td>54.508113</td>\n",
       "      <td>142.690278</td>\n",
       "      <td>2.9300</td>\n",
       "      <td>76.565000</td>\n",
       "      <td>High_Middle</td>\n",
       "    </tr>\n",
       "    <tr>\n",
       "      <th>596</th>\n",
       "      <td>1977</td>\n",
       "      <td>CRI</td>\n",
       "      <td>Costa Rica</td>\n",
       "      <td>18.299999</td>\n",
       "      <td>0.128309</td>\n",
       "      <td>2058.000000</td>\n",
       "      <td>38.510000</td>\n",
       "      <td>8.904474</td>\n",
       "      <td>4845.057228</td>\n",
       "      <td>2.190000e+06</td>\n",
       "      <td>70.182000</td>\n",
       "      <td>0.000000</td>\n",
       "      <td>43.196533</td>\n",
       "      <td>6.7474</td>\n",
       "      <td>57.954000</td>\n",
       "      <td>Low</td>\n",
       "    </tr>\n",
       "  </tbody>\n",
       "</table>\n",
       "</div>"
      ],
      "text/plain": [
       "      Year Country Code Country Name  Air transport, freight (million ton-km)  \\\n",
       "4401  2019          REU      Reunion                                      NaN   \n",
       "3613  2012          TON        Tonga                                      NaN   \n",
       "596   1977          CRI   Costa Rica                                18.299999   \n",
       "\n",
       "      Arable land (hectares per person)  Cereal yield (kg per hectare)  \\\n",
       "4401                           0.059375                    4082.043341   \n",
       "3613                           0.175205                            NaN   \n",
       "596                            0.128309                    2058.000000   \n",
       "\n",
       "      Food production index (2004-2006 = 100)  GDP growth (annual %)  \\\n",
       "4401                                92.563376               3.781639   \n",
       "3613                               135.470000               0.890323   \n",
       "596                                 38.510000               8.904474   \n",
       "\n",
       "      GDP per capita (constant 2010 US$)  Net flows from UN agencies US$  \\\n",
       "4401                        10004.232429                    0.000000e+00   \n",
       "3613                         3729.495033                    9.103263e+05   \n",
       "596                          4845.057228                    2.190000e+06   \n",
       "\n",
       "      Life expectancy at birth, total (years)  \\\n",
       "4401                                74.433937   \n",
       "3613                                70.242000   \n",
       "596                                 70.182000   \n",
       "\n",
       "      Mobile cellular subscriptions (per 100 people)  \\\n",
       "4401                                      144.649236   \n",
       "3613                                       54.508113   \n",
       "596                                         0.000000   \n",
       "\n",
       "      Population density (people per sq. km of land area)  \\\n",
       "4401                                         622.642327     \n",
       "3613                                         142.690278     \n",
       "596                                           43.196533     \n",
       "\n",
       "      Adjusted savings: education expenditure (% of GNI)  \\\n",
       "4401                                             4.7700    \n",
       "3613                                             2.9300    \n",
       "596                                              6.7474    \n",
       "\n",
       "      Rural population (% of total population) Income_level_Final  \n",
       "4401                                 59.114744        High_Middle  \n",
       "3613                                 76.565000        High_Middle  \n",
       "596                                  57.954000                Low  "
      ]
     },
     "execution_count": 4,
     "metadata": {},
     "output_type": "execute_result"
    }
   ],
   "source": [
    "df_WBI.sample(3)"
   ]
  },
  {
   "cell_type": "code",
   "execution_count": 5,
   "metadata": {},
   "outputs": [
    {
     "data": {
      "text/html": [
       "<div>\n",
       "<style scoped>\n",
       "    .dataframe tbody tr th:only-of-type {\n",
       "        vertical-align: middle;\n",
       "    }\n",
       "\n",
       "    .dataframe tbody tr th {\n",
       "        vertical-align: top;\n",
       "    }\n",
       "\n",
       "    .dataframe thead th {\n",
       "        text-align: right;\n",
       "    }\n",
       "</style>\n",
       "<table border=\"1\" class=\"dataframe\">\n",
       "  <thead>\n",
       "    <tr style=\"text-align: right;\">\n",
       "      <th></th>\n",
       "      <th>ID</th>\n",
       "      <th>SID</th>\n",
       "      <th>NAME</th>\n",
       "      <th>ISO</th>\n",
       "      <th>Year</th>\n",
       "      <th>BASIN</th>\n",
       "      <th>SUBBASIN</th>\n",
       "      <th>NATURE</th>\n",
       "      <th>TRACK_TYPE</th>\n",
       "      <th>ISO_TIME</th>\n",
       "      <th>...</th>\n",
       "      <th>v_land_kn</th>\n",
       "      <th>34kn_pop</th>\n",
       "      <th>34kn_assets</th>\n",
       "      <th>64kn_pop</th>\n",
       "      <th>64kn_assets</th>\n",
       "      <th>96kn_pop</th>\n",
       "      <th>96kn_assets</th>\n",
       "      <th>Total damage ('000$)</th>\n",
       "      <th>CPI</th>\n",
       "      <th>Total Affected</th>\n",
       "    </tr>\n",
       "  </thead>\n",
       "  <tbody>\n",
       "    <tr>\n",
       "      <th>740</th>\n",
       "      <td>741</td>\n",
       "      <td>1993353N05159</td>\n",
       "      <td>NELL</td>\n",
       "      <td>PHL</td>\n",
       "      <td>1993</td>\n",
       "      <td>WP</td>\n",
       "      <td>MM</td>\n",
       "      <td>TS</td>\n",
       "      <td>main</td>\n",
       "      <td>['1993-12-26 00:00:00', '1993-12-26 03:00:00',...</td>\n",
       "      <td>...</td>\n",
       "      <td>99.4</td>\n",
       "      <td>25742053.0</td>\n",
       "      <td>2.549000e+11</td>\n",
       "      <td>13550264.0</td>\n",
       "      <td>1.237690e+11</td>\n",
       "      <td>65327.0</td>\n",
       "      <td>374432706.0</td>\n",
       "      <td>17000.0</td>\n",
       "      <td>56.504646</td>\n",
       "      <td>366224</td>\n",
       "    </tr>\n",
       "    <tr>\n",
       "      <th>818</th>\n",
       "      <td>819</td>\n",
       "      <td>2003158N08156</td>\n",
       "      <td>SOUDELOR</td>\n",
       "      <td>PHL</td>\n",
       "      <td>2003</td>\n",
       "      <td>WP</td>\n",
       "      <td>MM</td>\n",
       "      <td>TS</td>\n",
       "      <td>main</td>\n",
       "      <td>['2003-06-14 15:00:00', '2003-06-16 15:00:00',...</td>\n",
       "      <td>...</td>\n",
       "      <td>51.8</td>\n",
       "      <td>249392.0</td>\n",
       "      <td>2.677803e+09</td>\n",
       "      <td>0.0</td>\n",
       "      <td>0.000000e+00</td>\n",
       "      <td>0.0</td>\n",
       "      <td>0.0</td>\n",
       "      <td>2455.0</td>\n",
       "      <td>71.955007</td>\n",
       "      <td>127130</td>\n",
       "    </tr>\n",
       "    <tr>\n",
       "      <th>984</th>\n",
       "      <td>985</td>\n",
       "      <td>2013282N14132</td>\n",
       "      <td>NARI</td>\n",
       "      <td>VNM</td>\n",
       "      <td>2013</td>\n",
       "      <td>WP</td>\n",
       "      <td>MM</td>\n",
       "      <td>TS</td>\n",
       "      <td>main</td>\n",
       "      <td>['2013-10-14 18:00:00', '2013-10-14 21:00:00',...</td>\n",
       "      <td>...</td>\n",
       "      <td>85.6</td>\n",
       "      <td>7475539.0</td>\n",
       "      <td>4.618648e+10</td>\n",
       "      <td>3621483.0</td>\n",
       "      <td>2.100473e+10</td>\n",
       "      <td>0.0</td>\n",
       "      <td>0.0</td>\n",
       "      <td>76000.0</td>\n",
       "      <td>91.120794</td>\n",
       "      <td>109754</td>\n",
       "    </tr>\n",
       "  </tbody>\n",
       "</table>\n",
       "<p>3 rows × 29 columns</p>\n",
       "</div>"
      ],
      "text/plain": [
       "      ID            SID      NAME  ISO  Year BASIN SUBBASIN NATURE TRACK_TYPE  \\\n",
       "740  741  1993353N05159      NELL  PHL  1993    WP       MM     TS       main   \n",
       "818  819  2003158N08156  SOUDELOR  PHL  2003    WP       MM     TS       main   \n",
       "984  985  2013282N14132      NARI  VNM  2013    WP       MM     TS       main   \n",
       "\n",
       "                                              ISO_TIME  ... v_land_kn  \\\n",
       "740  ['1993-12-26 00:00:00', '1993-12-26 03:00:00',...  ...      99.4   \n",
       "818  ['2003-06-14 15:00:00', '2003-06-16 15:00:00',...  ...      51.8   \n",
       "984  ['2013-10-14 18:00:00', '2013-10-14 21:00:00',...  ...      85.6   \n",
       "\n",
       "       34kn_pop   34kn_assets    64kn_pop   64kn_assets  96kn_pop  \\\n",
       "740  25742053.0  2.549000e+11  13550264.0  1.237690e+11   65327.0   \n",
       "818    249392.0  2.677803e+09         0.0  0.000000e+00       0.0   \n",
       "984   7475539.0  4.618648e+10   3621483.0  2.100473e+10       0.0   \n",
       "\n",
       "     96kn_assets  Total damage ('000$)        CPI  Total Affected  \n",
       "740  374432706.0               17000.0  56.504646          366224  \n",
       "818          0.0                2455.0  71.955007          127130  \n",
       "984          0.0               76000.0  91.120794          109754  \n",
       "\n",
       "[3 rows x 29 columns]"
      ]
     },
     "execution_count": 5,
     "metadata": {},
     "output_type": "execute_result"
    }
   ],
   "source": [
    "df_cyclones.sample(3)"
   ]
  },
  {
   "cell_type": "code",
   "execution_count": 6,
   "metadata": {},
   "outputs": [
    {
     "data": {
      "text/plain": [
       "Year                                                     int64\n",
       "Country Code                                            object\n",
       "Country Name                                            object\n",
       "Air transport, freight (million ton-km)                float64\n",
       "Arable land (hectares per person)                      float64\n",
       "Cereal yield (kg per hectare)                          float64\n",
       "Food production index (2004-2006 = 100)                float64\n",
       "GDP growth (annual %)                                  float64\n",
       "GDP per capita (constant 2010 US$)                     float64\n",
       "Net flows from UN agencies US$                         float64\n",
       "Life expectancy at birth, total (years)                float64\n",
       "Mobile cellular subscriptions (per 100 people)         float64\n",
       "Population density (people per sq. km of land area)    float64\n",
       "Adjusted savings: education expenditure (% of GNI)     float64\n",
       "Rural population (% of total population)               float64\n",
       "Income_level_Final                                      object\n",
       "dtype: object"
      ]
     },
     "execution_count": 6,
     "metadata": {},
     "output_type": "execute_result"
    }
   ],
   "source": [
    "df_WBI.dtypes"
   ]
  },
  {
   "cell_type": "code",
   "execution_count": 7,
   "metadata": {},
   "outputs": [
    {
     "data": {
      "text/plain": [
       "ID                        int64\n",
       "SID                      object\n",
       "NAME                     object\n",
       "ISO                      object\n",
       "Year                      int64\n",
       "BASIN                    object\n",
       "SUBBASIN                 object\n",
       "NATURE                   object\n",
       "TRACK_TYPE               object\n",
       "ISO_TIME                 object\n",
       "COORDS                   object\n",
       "TOTAL_HRS                 int64\n",
       "DAY_HRS                   int64\n",
       "NIGHT_HRS                 int64\n",
       "USA_SSHS                  int64\n",
       "PRES_CALC_mean          float64\n",
       "STORM_SPD_mean          float64\n",
       "STORM_DR_mean           float64\n",
       "genesis_basin            object\n",
       "v_land_kn               float64\n",
       "34kn_pop                float64\n",
       "34kn_assets             float64\n",
       "64kn_pop                float64\n",
       "64kn_assets             float64\n",
       "96kn_pop                float64\n",
       "96kn_assets             float64\n",
       "Total damage ('000$)    float64\n",
       "CPI                     float64\n",
       "Total Affected            int64\n",
       "dtype: object"
      ]
     },
     "execution_count": 7,
     "metadata": {},
     "output_type": "execute_result"
    }
   ],
   "source": [
    "df_cyclones.dtypes"
   ]
  },
  {
   "cell_type": "code",
   "execution_count": 8,
   "metadata": {},
   "outputs": [
    {
     "data": {
      "text/plain": [
       "(1091, 29)"
      ]
     },
     "execution_count": 8,
     "metadata": {},
     "output_type": "execute_result"
    }
   ],
   "source": [
    "df_cyclones.shape"
   ]
  },
  {
   "cell_type": "markdown",
   "metadata": {},
   "source": [
    "### Merging datasets"
   ]
  },
  {
   "cell_type": "code",
   "execution_count": 9,
   "metadata": {},
   "outputs": [],
   "source": [
    "# in cyclones Dataset ISO for SouthAfrica is RSA and should be ZAF\n",
    "df_cyclones[\"ISO\"]= df_cyclones[\"ISO\"].replace('RSA', 'ZAF') "
   ]
  },
  {
   "cell_type": "code",
   "execution_count": 10,
   "metadata": {},
   "outputs": [],
   "source": [
    "df_cyclones = pd.merge(df_cyclones, df_WBI, how='left', left_on=['ISO', 'Year'], right_on= ['Country Code', 'Year'])"
   ]
  },
  {
   "cell_type": "code",
   "execution_count": 11,
   "metadata": {},
   "outputs": [],
   "source": [
    "# drop inherited and not needed columns from df_WBI\n",
    "df_cyclones = df_cyclones.drop(columns = ['Country Code', 'Country Name']) "
   ]
  },
  {
   "cell_type": "code",
   "execution_count": 12,
   "metadata": {},
   "outputs": [
    {
     "data": {
      "text/html": [
       "<div>\n",
       "<style scoped>\n",
       "    .dataframe tbody tr th:only-of-type {\n",
       "        vertical-align: middle;\n",
       "    }\n",
       "\n",
       "    .dataframe tbody tr th {\n",
       "        vertical-align: top;\n",
       "    }\n",
       "\n",
       "    .dataframe thead th {\n",
       "        text-align: right;\n",
       "    }\n",
       "</style>\n",
       "<table border=\"1\" class=\"dataframe\">\n",
       "  <thead>\n",
       "    <tr style=\"text-align: right;\">\n",
       "      <th></th>\n",
       "      <th>ID</th>\n",
       "      <th>SID</th>\n",
       "      <th>NAME</th>\n",
       "      <th>ISO</th>\n",
       "      <th>Year</th>\n",
       "      <th>BASIN</th>\n",
       "      <th>SUBBASIN</th>\n",
       "      <th>NATURE</th>\n",
       "      <th>TRACK_TYPE</th>\n",
       "      <th>ISO_TIME</th>\n",
       "      <th>...</th>\n",
       "      <th>Food production index (2004-2006 = 100)</th>\n",
       "      <th>GDP growth (annual %)</th>\n",
       "      <th>GDP per capita (constant 2010 US$)</th>\n",
       "      <th>Net flows from UN agencies US$</th>\n",
       "      <th>Life expectancy at birth, total (years)</th>\n",
       "      <th>Mobile cellular subscriptions (per 100 people)</th>\n",
       "      <th>Population density (people per sq. km of land area)</th>\n",
       "      <th>Adjusted savings: education expenditure (% of GNI)</th>\n",
       "      <th>Rural population (% of total population)</th>\n",
       "      <th>Income_level_Final</th>\n",
       "    </tr>\n",
       "  </thead>\n",
       "  <tbody>\n",
       "    <tr>\n",
       "      <th>0</th>\n",
       "      <td>1</td>\n",
       "      <td>1949163N07145</td>\n",
       "      <td>DELLA</td>\n",
       "      <td>JPN</td>\n",
       "      <td>1949</td>\n",
       "      <td>WP</td>\n",
       "      <td>WP</td>\n",
       "      <td>ET</td>\n",
       "      <td>main</td>\n",
       "      <td>['1949-06-20 15:00:00', '1949-06-20 18:00:00',...</td>\n",
       "      <td>...</td>\n",
       "      <td>67.79</td>\n",
       "      <td>NaN</td>\n",
       "      <td>8607.657082</td>\n",
       "      <td>0.0</td>\n",
       "      <td>67.666098</td>\n",
       "      <td>NaN</td>\n",
       "      <td>258.911917</td>\n",
       "      <td>2.867878</td>\n",
       "      <td>36.728</td>\n",
       "      <td>Low</td>\n",
       "    </tr>\n",
       "    <tr>\n",
       "      <th>1</th>\n",
       "      <td>2</td>\n",
       "      <td>1950241N23140</td>\n",
       "      <td>JANE</td>\n",
       "      <td>JPN</td>\n",
       "      <td>1950</td>\n",
       "      <td>WP</td>\n",
       "      <td>WP</td>\n",
       "      <td>TS</td>\n",
       "      <td>main</td>\n",
       "      <td>['1950-09-03 03:00:00', '1950-09-03 06:00:00',...</td>\n",
       "      <td>...</td>\n",
       "      <td>67.79</td>\n",
       "      <td>NaN</td>\n",
       "      <td>8607.657082</td>\n",
       "      <td>0.0</td>\n",
       "      <td>67.666098</td>\n",
       "      <td>NaN</td>\n",
       "      <td>258.911917</td>\n",
       "      <td>2.867878</td>\n",
       "      <td>36.728</td>\n",
       "      <td>Low</td>\n",
       "    </tr>\n",
       "    <tr>\n",
       "      <th>2</th>\n",
       "      <td>3</td>\n",
       "      <td>1951224N12316</td>\n",
       "      <td>CHARLIE</td>\n",
       "      <td>JAM</td>\n",
       "      <td>1951</td>\n",
       "      <td>NAm</td>\n",
       "      <td>NAm</td>\n",
       "      <td>TS</td>\n",
       "      <td>main</td>\n",
       "      <td>['1951-08-18 03:00:00', '1951-08-18 06:00:00']</td>\n",
       "      <td>...</td>\n",
       "      <td>69.93</td>\n",
       "      <td>NaN</td>\n",
       "      <td>3796.219401</td>\n",
       "      <td>0.0</td>\n",
       "      <td>64.770000</td>\n",
       "      <td>NaN</td>\n",
       "      <td>152.453647</td>\n",
       "      <td>2.578304</td>\n",
       "      <td>66.231</td>\n",
       "      <td>Low</td>\n",
       "    </tr>\n",
       "    <tr>\n",
       "      <th>3</th>\n",
       "      <td>4</td>\n",
       "      <td>1951337N09150</td>\n",
       "      <td>AMY</td>\n",
       "      <td>PHL</td>\n",
       "      <td>1951</td>\n",
       "      <td>WP</td>\n",
       "      <td>WP</td>\n",
       "      <td>TS</td>\n",
       "      <td>main</td>\n",
       "      <td>['1951-12-09 12:00:00', '1951-12-09 21:00:00',...</td>\n",
       "      <td>...</td>\n",
       "      <td>25.68</td>\n",
       "      <td>NaN</td>\n",
       "      <td>1059.467412</td>\n",
       "      <td>0.0</td>\n",
       "      <td>61.105000</td>\n",
       "      <td>NaN</td>\n",
       "      <td>91.065000</td>\n",
       "      <td>2.757732</td>\n",
       "      <td>69.703</td>\n",
       "      <td>Low_Middle</td>\n",
       "    </tr>\n",
       "    <tr>\n",
       "      <th>4</th>\n",
       "      <td>5</td>\n",
       "      <td>1952180N05144</td>\n",
       "      <td>EMMA</td>\n",
       "      <td>PHL</td>\n",
       "      <td>1952</td>\n",
       "      <td>WP</td>\n",
       "      <td>WP</td>\n",
       "      <td>TS</td>\n",
       "      <td>main</td>\n",
       "      <td>['1952-07-02 12:00:00', '1952-07-02 15:00:00',...</td>\n",
       "      <td>...</td>\n",
       "      <td>25.68</td>\n",
       "      <td>NaN</td>\n",
       "      <td>1059.467412</td>\n",
       "      <td>0.0</td>\n",
       "      <td>61.105000</td>\n",
       "      <td>NaN</td>\n",
       "      <td>91.065000</td>\n",
       "      <td>2.757732</td>\n",
       "      <td>69.703</td>\n",
       "      <td>Low_Middle</td>\n",
       "    </tr>\n",
       "  </tbody>\n",
       "</table>\n",
       "<p>5 rows × 42 columns</p>\n",
       "</div>"
      ],
      "text/plain": [
       "   ID            SID     NAME  ISO  Year BASIN SUBBASIN NATURE TRACK_TYPE  \\\n",
       "0   1  1949163N07145    DELLA  JPN  1949    WP       WP     ET       main   \n",
       "1   2  1950241N23140     JANE  JPN  1950    WP       WP     TS       main   \n",
       "2   3  1951224N12316  CHARLIE  JAM  1951   NAm      NAm     TS       main   \n",
       "3   4  1951337N09150      AMY  PHL  1951    WP       WP     TS       main   \n",
       "4   5  1952180N05144     EMMA  PHL  1952    WP       WP     TS       main   \n",
       "\n",
       "                                            ISO_TIME  ...  \\\n",
       "0  ['1949-06-20 15:00:00', '1949-06-20 18:00:00',...  ...   \n",
       "1  ['1950-09-03 03:00:00', '1950-09-03 06:00:00',...  ...   \n",
       "2     ['1951-08-18 03:00:00', '1951-08-18 06:00:00']  ...   \n",
       "3  ['1951-12-09 12:00:00', '1951-12-09 21:00:00',...  ...   \n",
       "4  ['1952-07-02 12:00:00', '1952-07-02 15:00:00',...  ...   \n",
       "\n",
       "  Food production index (2004-2006 = 100)  GDP growth (annual %)  \\\n",
       "0                                   67.79                    NaN   \n",
       "1                                   67.79                    NaN   \n",
       "2                                   69.93                    NaN   \n",
       "3                                   25.68                    NaN   \n",
       "4                                   25.68                    NaN   \n",
       "\n",
       "   GDP per capita (constant 2010 US$)  Net flows from UN agencies US$  \\\n",
       "0                         8607.657082                             0.0   \n",
       "1                         8607.657082                             0.0   \n",
       "2                         3796.219401                             0.0   \n",
       "3                         1059.467412                             0.0   \n",
       "4                         1059.467412                             0.0   \n",
       "\n",
       "   Life expectancy at birth, total (years)  \\\n",
       "0                                67.666098   \n",
       "1                                67.666098   \n",
       "2                                64.770000   \n",
       "3                                61.105000   \n",
       "4                                61.105000   \n",
       "\n",
       "   Mobile cellular subscriptions (per 100 people)  \\\n",
       "0                                             NaN   \n",
       "1                                             NaN   \n",
       "2                                             NaN   \n",
       "3                                             NaN   \n",
       "4                                             NaN   \n",
       "\n",
       "   Population density (people per sq. km of land area)  \\\n",
       "0                                         258.911917     \n",
       "1                                         258.911917     \n",
       "2                                         152.453647     \n",
       "3                                          91.065000     \n",
       "4                                          91.065000     \n",
       "\n",
       "   Adjusted savings: education expenditure (% of GNI)  \\\n",
       "0                                           2.867878    \n",
       "1                                           2.867878    \n",
       "2                                           2.578304    \n",
       "3                                           2.757732    \n",
       "4                                           2.757732    \n",
       "\n",
       "  Rural population (% of total population)  Income_level_Final  \n",
       "0                                   36.728                 Low  \n",
       "1                                   36.728                 Low  \n",
       "2                                   66.231                 Low  \n",
       "3                                   69.703          Low_Middle  \n",
       "4                                   69.703          Low_Middle  \n",
       "\n",
       "[5 rows x 42 columns]"
      ]
     },
     "execution_count": 12,
     "metadata": {},
     "output_type": "execute_result"
    }
   ],
   "source": [
    "df_cyclones.head()"
   ]
  },
  {
   "cell_type": "code",
   "execution_count": 13,
   "metadata": {},
   "outputs": [
    {
     "data": {
      "text/plain": [
       "Index(['ID', 'SID', 'NAME', 'ISO', 'Year', 'BASIN', 'SUBBASIN', 'NATURE',\n",
       "       'TRACK_TYPE', 'ISO_TIME', 'COORDS', 'TOTAL_HRS', 'DAY_HRS', 'NIGHT_HRS',\n",
       "       'USA_SSHS', 'PRES_CALC_mean', 'STORM_SPD_mean', 'STORM_DR_mean',\n",
       "       'genesis_basin', 'v_land_kn', '34kn_pop', '34kn_assets', '64kn_pop',\n",
       "       '64kn_assets', '96kn_pop', '96kn_assets', 'Total damage ('000$)', 'CPI',\n",
       "       'Total Affected', 'Air transport, freight (million ton-km)',\n",
       "       'Arable land (hectares per person)', 'Cereal yield (kg per hectare)',\n",
       "       'Food production index (2004-2006 = 100)', 'GDP growth (annual %)',\n",
       "       'GDP per capita (constant 2010 US$)', 'Net flows from UN agencies US$',\n",
       "       'Life expectancy at birth, total (years)',\n",
       "       'Mobile cellular subscriptions (per 100 people)',\n",
       "       'Population density (people per sq. km of land area)',\n",
       "       'Adjusted savings: education expenditure (% of GNI)',\n",
       "       'Rural population (% of total population)', 'Income_level_Final'],\n",
       "      dtype='object')"
      ]
     },
     "execution_count": 13,
     "metadata": {},
     "output_type": "execute_result"
    }
   ],
   "source": [
    "df_cyclones.columns"
   ]
  },
  {
   "cell_type": "code",
   "execution_count": 14,
   "metadata": {},
   "outputs": [],
   "source": [
    "# Dropping unnecessary columns\n",
    "df_cyclones = df_cyclones.drop(['SID',\n",
    "                                'TRACK_TYPE',\n",
    "                                'genesis_basin'], \n",
    "                               axis=1)"
   ]
  },
  {
   "cell_type": "code",
   "execution_count": 15,
   "metadata": {},
   "outputs": [
    {
     "data": {
      "text/plain": [
       "Index(['ID', 'NAME', 'ISO', 'Year', 'BASIN', 'SUBBASIN', 'NATURE', 'ISO_TIME',\n",
       "       'COORDS', 'TOTAL_HRS', 'DAY_HRS', 'NIGHT_HRS', 'USA_SSHS',\n",
       "       'PRES_CALC_mean', 'STORM_SPD_mean', 'STORM_DR_mean', 'v_land_kn',\n",
       "       '34kn_pop', '34kn_assets', '64kn_pop', '64kn_assets', '96kn_pop',\n",
       "       '96kn_assets', 'Total damage ('000$)', 'CPI', 'Total Affected',\n",
       "       'Air transport, freight (million ton-km)',\n",
       "       'Arable land (hectares per person)', 'Cereal yield (kg per hectare)',\n",
       "       'Food production index (2004-2006 = 100)', 'GDP growth (annual %)',\n",
       "       'GDP per capita (constant 2010 US$)', 'Net flows from UN agencies US$',\n",
       "       'Life expectancy at birth, total (years)',\n",
       "       'Mobile cellular subscriptions (per 100 people)',\n",
       "       'Population density (people per sq. km of land area)',\n",
       "       'Adjusted savings: education expenditure (% of GNI)',\n",
       "       'Rural population (% of total population)', 'Income_level_Final'],\n",
       "      dtype='object')"
      ]
     },
     "execution_count": 15,
     "metadata": {},
     "output_type": "execute_result"
    }
   ],
   "source": [
    "df_cyclones.columns"
   ]
  },
  {
   "cell_type": "code",
   "execution_count": 16,
   "metadata": {},
   "outputs": [],
   "source": [
    "# Arranging columns\n",
    "\n",
    "df_cyclones = df_cyclones[['ID', 'NAME', 'ISO', 'Year', 'COORDS','BASIN', 'SUBBASIN', 'NATURE', 'ISO_TIME',\n",
    "        'TOTAL_HRS', 'DAY_HRS', 'NIGHT_HRS', 'USA_SSHS',\n",
    "       'PRES_CALC_mean', 'STORM_SPD_mean', 'STORM_DR_mean', 'v_land_kn',\n",
    "       '34kn_pop', '34kn_assets', '64kn_pop', '64kn_assets', '96kn_pop',\n",
    "       '96kn_assets', \"Total damage ('000$)\", 'CPI',\n",
    "                           \n",
    "       # adding here features from World Bank Indicators:\n",
    "       'Air transport, freight (million ton-km)',\n",
    "       'Arable land (hectares per person)', 'Cereal yield (kg per hectare)',\n",
    "       'Food production index (2004-2006 = 100)', 'GDP growth (annual %)',\n",
    "       'GDP per capita (constant 2010 US$)', 'Net flows from UN agencies US$',\n",
    "       'Life expectancy at birth, total (years)',\n",
    "       'Mobile cellular subscriptions (per 100 people)',\n",
    "       'Population density (people per sq. km of land area)',\n",
    "       'Adjusted savings: education expenditure (% of GNI)',\n",
    "       'Rural population (% of total population)', 'Income_level_Final',\n",
    "                           \n",
    "        # Target label at the end                   \n",
    "        'Total Affected']]"
   ]
  },
  {
   "cell_type": "code",
   "execution_count": 17,
   "metadata": {},
   "outputs": [],
   "source": [
    "df_cyclones.sort_values(by = 'ID',ascending=True, inplace=True) "
   ]
  },
  {
   "cell_type": "code",
   "execution_count": 18,
   "metadata": {},
   "outputs": [
    {
     "data": {
      "text/plain": [
       "(1091, 39)"
      ]
     },
     "execution_count": 18,
     "metadata": {},
     "output_type": "execute_result"
    }
   ],
   "source": [
    "df_cyclones.shape"
   ]
  },
  {
   "cell_type": "code",
   "execution_count": 19,
   "metadata": {},
   "outputs": [
    {
     "data": {
      "text/plain": [
       "0"
      ]
     },
     "execution_count": 19,
     "metadata": {},
     "output_type": "execute_result"
    }
   ],
   "source": [
    "# checking that all rows from cyclones have info from WBI dataset\n",
    "df_cyclones['Income_level_Final'].isna().sum() "
   ]
  },
  {
   "cell_type": "code",
   "execution_count": 20,
   "metadata": {},
   "outputs": [],
   "source": [
    "# Writing to csv the final Dataset to be merged with other dataset from cyclones...\n",
    "\n",
    "df_cyclones.to_csv(r'Data_output/OUTPUT_WBI_cyclones_merged.csv', index = False, sep = ';')"
   ]
  },
  {
   "cell_type": "code",
   "execution_count": null,
   "metadata": {},
   "outputs": [],
   "source": []
  }
 ],
 "metadata": {
  "kernelspec": {
   "display_name": "Python 3",
   "language": "python",
   "name": "python3"
  },
  "language_info": {
   "codemirror_mode": {
    "name": "ipython",
    "version": 3
   },
   "file_extension": ".py",
   "mimetype": "text/x-python",
   "name": "python",
   "nbconvert_exporter": "python",
   "pygments_lexer": "ipython3",
   "version": "3.7.4"
  },
  "varInspector": {
   "cols": {
    "lenName": 16,
    "lenType": 16,
    "lenVar": 40
   },
   "kernels_config": {
    "python": {
     "delete_cmd_postfix": "",
     "delete_cmd_prefix": "del ",
     "library": "var_list.py",
     "varRefreshCmd": "print(var_dic_list())"
    },
    "r": {
     "delete_cmd_postfix": ") ",
     "delete_cmd_prefix": "rm(",
     "library": "var_list.r",
     "varRefreshCmd": "cat(var_dic_list()) "
    }
   },
   "oldHeight": 270.53778,
   "position": {
    "height": "40px",
    "left": "1119px",
    "right": "20px",
    "top": "32.9931px",
    "width": "381.094px"
   },
   "types_to_exclude": [
    "module",
    "function",
    "builtin_function_or_method",
    "instance",
    "_Feature"
   ],
   "varInspector_section_display": "none",
   "window_display": true
  }
 },
 "nbformat": 4,
 "nbformat_minor": 2
}
