{
 "cells": [
  {
   "cell_type": "markdown",
   "metadata": {},
   "source": [
    "# Feature selection Socio-Economical Data Final: World Bank Indicators\n",
    "\n",
    "Fabiana Castiblanco \n",
    "\n",
    "**GitHub**: fabi-cast\n",
    "\n",
    "After analyzing the correlations between some of the indicators, we have decided drop many of them keeping the most relevants."
   ]
  },
  {
   "cell_type": "code",
   "execution_count": 1,
   "metadata": {},
   "outputs": [],
   "source": [
    "import pandas as pd\n",
    "import numpy as np\n",
    "import re\n",
    "import math\n",
    "import requests\n",
    "import json\n",
    "import matplotlib\n",
    "from pandas import ExcelFile\n",
    "from matplotlib import pyplot as plt\n",
    "%matplotlib inline\n",
    "import seaborn as sns\n",
    "from datetime import datetime\n",
    "plt.rcParams[\"figure.figsize\"]= (8,5)"
   ]
  },
  {
   "cell_type": "code",
   "execution_count": 2,
   "metadata": {},
   "outputs": [],
   "source": [
    "#loading the dataset\n",
    "#df = pd.read_csv(\"Data_input/WBI.csv\", sep = \";\")\n",
    "df = pd.read_csv(\"Data_input/OUTPUT_WBI_Selection_Country_Year.csv\", sep = \";\")\n",
    "#this function creates a dataset for each country in the desired format\n",
    "def get_WBI(isocode):\n",
    "    indicators = list(df[df[\"Country Code\"] == isocode].drop(columns = [\"Country Name\"]).T.iloc[1])\n",
    "    cols = list(df[df[\"Country Code\"] == isocode].drop(columns = [\"Country Name\"]).T.columns)\n",
    "    dict_cols = {cols[i]: indicators[i] for i in range(len(cols))}\n",
    "    data = (df[df[\"Country Code\"] == isocode].drop(columns = [\"Country Name\"])\n",
    "                                           .T.rename(columns = dict_cols)\n",
    "                                           .drop(labels=[\"Country Code\", \"Series Name\", \"Income_level\", \"Indicator_CAT\"], axis =0))\n",
    "    data = data.reset_index().rename(columns = {\"index\": \"Year\"})\n",
    "    data[\"ISO3\"] = isocode\n",
    "    return data"
   ]
  },
  {
   "cell_type": "code",
   "execution_count": 3,
   "metadata": {},
   "outputs": [],
   "source": [
    "# this give us indicators and category of them\n",
    "def get_WBI_cat(isocode, category):\n",
    "    indicators = list(df[df[\"Country Code\"] == isocode].drop(columns = [\"Country Name\"]).T.iloc[1])\n",
    "    cols = list(df[df[\"Country Code\"] == isocode].drop(columns = [\"Country Name\"]).T.columns)\n",
    "    dict_cols = {cols[i]: indicators[i] for i in range(len(cols))}\n",
    "    data = df[df[\"Indicator_CAT\"] == category]\n",
    "    data = (df[df[\"Country Code\"] == isocode].drop(columns = [\"Country Name\"])\n",
    "                                           .T.rename(columns = dict_cols)\n",
    "                                           .drop(labels=[\"Country Code\", \"Series Name\", \"Income_level\", \"Indicator_CAT\"], axis =0))\n",
    "    data = data.reset_index().rename(columns = {\"index\": \"Year\"})\n",
    "    data[\"ISO3\"] = isocode\n",
    "    return data"
   ]
  },
  {
   "cell_type": "code",
   "execution_count": 4,
   "metadata": {},
   "outputs": [
    {
     "data": {
      "text/html": [
       "<div>\n",
       "<style scoped>\n",
       "    .dataframe tbody tr th:only-of-type {\n",
       "        vertical-align: middle;\n",
       "    }\n",
       "\n",
       "    .dataframe tbody tr th {\n",
       "        vertical-align: top;\n",
       "    }\n",
       "\n",
       "    .dataframe thead th {\n",
       "        text-align: right;\n",
       "    }\n",
       "</style>\n",
       "<table border=\"1\" class=\"dataframe\">\n",
       "  <thead>\n",
       "    <tr style=\"text-align: right;\">\n",
       "      <th></th>\n",
       "      <th>Country Name</th>\n",
       "      <th>Country Code</th>\n",
       "      <th>Series Name</th>\n",
       "      <th>1960</th>\n",
       "      <th>1961</th>\n",
       "      <th>1962</th>\n",
       "      <th>1963</th>\n",
       "      <th>1964</th>\n",
       "      <th>1965</th>\n",
       "      <th>1966</th>\n",
       "      <th>...</th>\n",
       "      <th>2012</th>\n",
       "      <th>2013</th>\n",
       "      <th>2014</th>\n",
       "      <th>2015</th>\n",
       "      <th>2016</th>\n",
       "      <th>2017</th>\n",
       "      <th>2018</th>\n",
       "      <th>2019</th>\n",
       "      <th>Income_level</th>\n",
       "      <th>Indicator_CAT</th>\n",
       "    </tr>\n",
       "  </thead>\n",
       "  <tbody>\n",
       "    <tr>\n",
       "      <th>0</th>\n",
       "      <td>Aruba</td>\n",
       "      <td>ABW</td>\n",
       "      <td>Adjusted savings: education expenditure (% of ...</td>\n",
       "      <td>NaN</td>\n",
       "      <td>NaN</td>\n",
       "      <td>NaN</td>\n",
       "      <td>NaN</td>\n",
       "      <td>NaN</td>\n",
       "      <td>NaN</td>\n",
       "      <td>NaN</td>\n",
       "      <td>...</td>\n",
       "      <td>6.863412</td>\n",
       "      <td>7.271645</td>\n",
       "      <td>6.411805</td>\n",
       "      <td>6.793939</td>\n",
       "      <td>6.793939</td>\n",
       "      <td>6.793939</td>\n",
       "      <td>NaN</td>\n",
       "      <td>NaN</td>\n",
       "      <td>High</td>\n",
       "      <td>NaN</td>\n",
       "    </tr>\n",
       "    <tr>\n",
       "      <th>1</th>\n",
       "      <td>Aruba</td>\n",
       "      <td>ABW</td>\n",
       "      <td>Air transport, freight (million ton-km)</td>\n",
       "      <td>NaN</td>\n",
       "      <td>NaN</td>\n",
       "      <td>NaN</td>\n",
       "      <td>NaN</td>\n",
       "      <td>NaN</td>\n",
       "      <td>NaN</td>\n",
       "      <td>NaN</td>\n",
       "      <td>...</td>\n",
       "      <td>NaN</td>\n",
       "      <td>NaN</td>\n",
       "      <td>NaN</td>\n",
       "      <td>NaN</td>\n",
       "      <td>NaN</td>\n",
       "      <td>NaN</td>\n",
       "      <td>NaN</td>\n",
       "      <td>NaN</td>\n",
       "      <td>High</td>\n",
       "      <td>NaN</td>\n",
       "    </tr>\n",
       "  </tbody>\n",
       "</table>\n",
       "<p>2 rows × 65 columns</p>\n",
       "</div>"
      ],
      "text/plain": [
       "  Country Name Country Code  \\\n",
       "0        Aruba          ABW   \n",
       "1        Aruba          ABW   \n",
       "\n",
       "                                         Series Name  1960  1961  1962  1963  \\\n",
       "0  Adjusted savings: education expenditure (% of ...   NaN   NaN   NaN   NaN   \n",
       "1            Air transport, freight (million ton-km)   NaN   NaN   NaN   NaN   \n",
       "\n",
       "   1964  1965  1966  ...      2012      2013      2014      2015      2016  \\\n",
       "0   NaN   NaN   NaN  ...  6.863412  7.271645  6.411805  6.793939  6.793939   \n",
       "1   NaN   NaN   NaN  ...       NaN       NaN       NaN       NaN       NaN   \n",
       "\n",
       "       2017  2018  2019  Income_level  Indicator_CAT  \n",
       "0  6.793939   NaN   NaN          High            NaN  \n",
       "1       NaN   NaN   NaN          High            NaN  \n",
       "\n",
       "[2 rows x 65 columns]"
      ]
     },
     "execution_count": 4,
     "metadata": {},
     "output_type": "execute_result"
    }
   ],
   "source": [
    "df.head(2)"
   ]
  },
  {
   "cell_type": "code",
   "execution_count": 5,
   "metadata": {},
   "outputs": [],
   "source": [
    "codes = list(df[\"Country Code\"].value_counts().index)\n",
    "codes.sort()\n"
   ]
  },
  {
   "cell_type": "code",
   "execution_count": 6,
   "metadata": {},
   "outputs": [],
   "source": [
    "#running the function for each country and store it as a list of datasets\n",
    "all_countries = [get_WBI(iso) for iso in codes]\n",
    "\n",
    "#concat all the datasets\n",
    "ds = pd.concat(all_countries)"
   ]
  },
  {
   "cell_type": "code",
   "execution_count": 7,
   "metadata": {},
   "outputs": [
    {
     "data": {
      "text/html": [
       "<div>\n",
       "<style scoped>\n",
       "    .dataframe tbody tr th:only-of-type {\n",
       "        vertical-align: middle;\n",
       "    }\n",
       "\n",
       "    .dataframe tbody tr th {\n",
       "        vertical-align: top;\n",
       "    }\n",
       "\n",
       "    .dataframe thead th {\n",
       "        text-align: right;\n",
       "    }\n",
       "</style>\n",
       "<table border=\"1\" class=\"dataframe\">\n",
       "  <thead>\n",
       "    <tr style=\"text-align: right;\">\n",
       "      <th></th>\n",
       "      <th>Year</th>\n",
       "      <th>Adjusted savings: education expenditure (% of GNI)</th>\n",
       "      <th>Air transport, freight (million ton-km)</th>\n",
       "      <th>Arable land (hectares per person)</th>\n",
       "      <th>Cereal yield (kg per hectare)</th>\n",
       "      <th>Food production index (2004-2006 = 100)</th>\n",
       "      <th>GDP growth (annual %)</th>\n",
       "      <th>GDP per capita (constant 2010 US$)</th>\n",
       "      <th>Life expectancy at birth, total (years)</th>\n",
       "      <th>Mobile cellular subscriptions (per 100 people)</th>\n",
       "      <th>...</th>\n",
       "      <th>Net official flows from UN agencies, UNICEF (current US$)</th>\n",
       "      <th>Net official flows from UN agencies, UNPBF (current US$)</th>\n",
       "      <th>Net official flows from UN agencies, UNRWA (current US$)</th>\n",
       "      <th>Net official flows from UN agencies, UNTA (current US$)</th>\n",
       "      <th>Net official flows from UN agencies, UNWTO (current US$)</th>\n",
       "      <th>Net official flows from UN agencies, WFP (current US$)</th>\n",
       "      <th>Net official flows from UN agencies, WHO (current US$)</th>\n",
       "      <th>Population density (people per sq. km of land area)</th>\n",
       "      <th>Rural population (% of total population)</th>\n",
       "      <th>ISO3</th>\n",
       "    </tr>\n",
       "  </thead>\n",
       "  <tbody>\n",
       "    <tr>\n",
       "      <th>0</th>\n",
       "      <td>1960</td>\n",
       "      <td>NaN</td>\n",
       "      <td>NaN</td>\n",
       "      <td>NaN</td>\n",
       "      <td>NaN</td>\n",
       "      <td>NaN</td>\n",
       "      <td>NaN</td>\n",
       "      <td>NaN</td>\n",
       "      <td>65.662</td>\n",
       "      <td>0</td>\n",
       "      <td>...</td>\n",
       "      <td>NaN</td>\n",
       "      <td>NaN</td>\n",
       "      <td>NaN</td>\n",
       "      <td>NaN</td>\n",
       "      <td>NaN</td>\n",
       "      <td>NaN</td>\n",
       "      <td>NaN</td>\n",
       "      <td>NaN</td>\n",
       "      <td>49.224</td>\n",
       "      <td>ABW</td>\n",
       "    </tr>\n",
       "    <tr>\n",
       "      <th>1</th>\n",
       "      <td>1961</td>\n",
       "      <td>NaN</td>\n",
       "      <td>NaN</td>\n",
       "      <td>0.0360763</td>\n",
       "      <td>NaN</td>\n",
       "      <td>NaN</td>\n",
       "      <td>NaN</td>\n",
       "      <td>NaN</td>\n",
       "      <td>66.074</td>\n",
       "      <td>NaN</td>\n",
       "      <td>...</td>\n",
       "      <td>NaN</td>\n",
       "      <td>NaN</td>\n",
       "      <td>NaN</td>\n",
       "      <td>NaN</td>\n",
       "      <td>NaN</td>\n",
       "      <td>NaN</td>\n",
       "      <td>NaN</td>\n",
       "      <td>307.989</td>\n",
       "      <td>49.239</td>\n",
       "      <td>ABW</td>\n",
       "    </tr>\n",
       "  </tbody>\n",
       "</table>\n",
       "<p>2 rows × 30 columns</p>\n",
       "</div>"
      ],
      "text/plain": [
       "   Year Adjusted savings: education expenditure (% of GNI)  \\\n",
       "0  1960                                                NaN   \n",
       "1  1961                                                NaN   \n",
       "\n",
       "  Air transport, freight (million ton-km) Arable land (hectares per person)  \\\n",
       "0                                     NaN                               NaN   \n",
       "1                                     NaN                         0.0360763   \n",
       "\n",
       "  Cereal yield (kg per hectare) Food production index (2004-2006 = 100)  \\\n",
       "0                           NaN                                     NaN   \n",
       "1                           NaN                                     NaN   \n",
       "\n",
       "  GDP growth (annual %) GDP per capita (constant 2010 US$)  \\\n",
       "0                   NaN                                NaN   \n",
       "1                   NaN                                NaN   \n",
       "\n",
       "  Life expectancy at birth, total (years)  \\\n",
       "0                                  65.662   \n",
       "1                                  66.074   \n",
       "\n",
       "  Mobile cellular subscriptions (per 100 people)  ...  \\\n",
       "0                                              0  ...   \n",
       "1                                            NaN  ...   \n",
       "\n",
       "  Net official flows from UN agencies, UNICEF (current US$)  \\\n",
       "0                                                NaN          \n",
       "1                                                NaN          \n",
       "\n",
       "  Net official flows from UN agencies, UNPBF (current US$)  \\\n",
       "0                                                NaN         \n",
       "1                                                NaN         \n",
       "\n",
       "  Net official flows from UN agencies, UNRWA (current US$)  \\\n",
       "0                                                NaN         \n",
       "1                                                NaN         \n",
       "\n",
       "  Net official flows from UN agencies, UNTA (current US$)  \\\n",
       "0                                                NaN        \n",
       "1                                                NaN        \n",
       "\n",
       "  Net official flows from UN agencies, UNWTO (current US$)  \\\n",
       "0                                                NaN         \n",
       "1                                                NaN         \n",
       "\n",
       "  Net official flows from UN agencies, WFP (current US$)  \\\n",
       "0                                                NaN       \n",
       "1                                                NaN       \n",
       "\n",
       "  Net official flows from UN agencies, WHO (current US$)  \\\n",
       "0                                                NaN       \n",
       "1                                                NaN       \n",
       "\n",
       "  Population density (people per sq. km of land area)  \\\n",
       "0                                                NaN    \n",
       "1                                            307.989    \n",
       "\n",
       "  Rural population (% of total population) ISO3  \n",
       "0                                   49.224  ABW  \n",
       "1                                   49.239  ABW  \n",
       "\n",
       "[2 rows x 30 columns]"
      ]
     },
     "execution_count": 7,
     "metadata": {},
     "output_type": "execute_result"
    }
   ],
   "source": [
    "ds.head(2)"
   ]
  },
  {
   "cell_type": "markdown",
   "metadata": {},
   "source": [
    "We want to have the name and code for each country as well, so we subset the original data set for obtaining this data:"
   ]
  },
  {
   "cell_type": "code",
   "execution_count": 8,
   "metadata": {},
   "outputs": [],
   "source": [
    "countries_codes = df[[\"Country Name\", \"Country Code\"]].copy()\n",
    "countries_codes.drop_duplicates(keep=\"first\",inplace=True) "
   ]
  },
  {
   "cell_type": "markdown",
   "metadata": {},
   "source": [
    "Lastly we merge both datasets and drop duplicated columns:"
   ]
  },
  {
   "cell_type": "code",
   "execution_count": 9,
   "metadata": {},
   "outputs": [],
   "source": [
    "ds_new = countries_codes.merge(ds, left_on = \"Country Code\", right_on = \"ISO3\", how = \"right\").drop(columns = \"ISO3\")"
   ]
  },
  {
   "cell_type": "code",
   "execution_count": 10,
   "metadata": {},
   "outputs": [
    {
     "data": {
      "text/html": [
       "<div>\n",
       "<style scoped>\n",
       "    .dataframe tbody tr th:only-of-type {\n",
       "        vertical-align: middle;\n",
       "    }\n",
       "\n",
       "    .dataframe tbody tr th {\n",
       "        vertical-align: top;\n",
       "    }\n",
       "\n",
       "    .dataframe thead th {\n",
       "        text-align: right;\n",
       "    }\n",
       "</style>\n",
       "<table border=\"1\" class=\"dataframe\">\n",
       "  <thead>\n",
       "    <tr style=\"text-align: right;\">\n",
       "      <th></th>\n",
       "      <th>Country Name</th>\n",
       "      <th>Country Code</th>\n",
       "      <th>Year</th>\n",
       "      <th>Adjusted savings: education expenditure (% of GNI)</th>\n",
       "      <th>Air transport, freight (million ton-km)</th>\n",
       "      <th>Arable land (hectares per person)</th>\n",
       "      <th>Cereal yield (kg per hectare)</th>\n",
       "      <th>Food production index (2004-2006 = 100)</th>\n",
       "      <th>GDP growth (annual %)</th>\n",
       "      <th>GDP per capita (constant 2010 US$)</th>\n",
       "      <th>...</th>\n",
       "      <th>Net official flows from UN agencies, UNHCR (current US$)</th>\n",
       "      <th>Net official flows from UN agencies, UNICEF (current US$)</th>\n",
       "      <th>Net official flows from UN agencies, UNPBF (current US$)</th>\n",
       "      <th>Net official flows from UN agencies, UNRWA (current US$)</th>\n",
       "      <th>Net official flows from UN agencies, UNTA (current US$)</th>\n",
       "      <th>Net official flows from UN agencies, UNWTO (current US$)</th>\n",
       "      <th>Net official flows from UN agencies, WFP (current US$)</th>\n",
       "      <th>Net official flows from UN agencies, WHO (current US$)</th>\n",
       "      <th>Population density (people per sq. km of land area)</th>\n",
       "      <th>Rural population (% of total population)</th>\n",
       "    </tr>\n",
       "  </thead>\n",
       "  <tbody>\n",
       "    <tr>\n",
       "      <th>0</th>\n",
       "      <td>Aruba</td>\n",
       "      <td>ABW</td>\n",
       "      <td>1960</td>\n",
       "      <td>NaN</td>\n",
       "      <td>NaN</td>\n",
       "      <td>NaN</td>\n",
       "      <td>NaN</td>\n",
       "      <td>NaN</td>\n",
       "      <td>NaN</td>\n",
       "      <td>NaN</td>\n",
       "      <td>...</td>\n",
       "      <td>NaN</td>\n",
       "      <td>NaN</td>\n",
       "      <td>NaN</td>\n",
       "      <td>NaN</td>\n",
       "      <td>NaN</td>\n",
       "      <td>NaN</td>\n",
       "      <td>NaN</td>\n",
       "      <td>NaN</td>\n",
       "      <td>NaN</td>\n",
       "      <td>49.224</td>\n",
       "    </tr>\n",
       "    <tr>\n",
       "      <th>1</th>\n",
       "      <td>Aruba</td>\n",
       "      <td>ABW</td>\n",
       "      <td>1961</td>\n",
       "      <td>NaN</td>\n",
       "      <td>NaN</td>\n",
       "      <td>0.0360763</td>\n",
       "      <td>NaN</td>\n",
       "      <td>NaN</td>\n",
       "      <td>NaN</td>\n",
       "      <td>NaN</td>\n",
       "      <td>...</td>\n",
       "      <td>NaN</td>\n",
       "      <td>NaN</td>\n",
       "      <td>NaN</td>\n",
       "      <td>NaN</td>\n",
       "      <td>NaN</td>\n",
       "      <td>NaN</td>\n",
       "      <td>NaN</td>\n",
       "      <td>NaN</td>\n",
       "      <td>307.989</td>\n",
       "      <td>49.239</td>\n",
       "    </tr>\n",
       "    <tr>\n",
       "      <th>2</th>\n",
       "      <td>Aruba</td>\n",
       "      <td>ABW</td>\n",
       "      <td>1962</td>\n",
       "      <td>NaN</td>\n",
       "      <td>NaN</td>\n",
       "      <td>0.0355714</td>\n",
       "      <td>NaN</td>\n",
       "      <td>NaN</td>\n",
       "      <td>NaN</td>\n",
       "      <td>NaN</td>\n",
       "      <td>...</td>\n",
       "      <td>NaN</td>\n",
       "      <td>NaN</td>\n",
       "      <td>NaN</td>\n",
       "      <td>NaN</td>\n",
       "      <td>NaN</td>\n",
       "      <td>NaN</td>\n",
       "      <td>NaN</td>\n",
       "      <td>NaN</td>\n",
       "      <td>312.361</td>\n",
       "      <td>49.254</td>\n",
       "    </tr>\n",
       "    <tr>\n",
       "      <th>3</th>\n",
       "      <td>Aruba</td>\n",
       "      <td>ABW</td>\n",
       "      <td>1963</td>\n",
       "      <td>NaN</td>\n",
       "      <td>NaN</td>\n",
       "      <td>0.0352765</td>\n",
       "      <td>NaN</td>\n",
       "      <td>NaN</td>\n",
       "      <td>NaN</td>\n",
       "      <td>NaN</td>\n",
       "      <td>...</td>\n",
       "      <td>NaN</td>\n",
       "      <td>NaN</td>\n",
       "      <td>NaN</td>\n",
       "      <td>NaN</td>\n",
       "      <td>NaN</td>\n",
       "      <td>NaN</td>\n",
       "      <td>NaN</td>\n",
       "      <td>NaN</td>\n",
       "      <td>314.972</td>\n",
       "      <td>49.27</td>\n",
       "    </tr>\n",
       "    <tr>\n",
       "      <th>4</th>\n",
       "      <td>Aruba</td>\n",
       "      <td>ABW</td>\n",
       "      <td>1964</td>\n",
       "      <td>NaN</td>\n",
       "      <td>NaN</td>\n",
       "      <td>0.035068</td>\n",
       "      <td>NaN</td>\n",
       "      <td>NaN</td>\n",
       "      <td>NaN</td>\n",
       "      <td>NaN</td>\n",
       "      <td>...</td>\n",
       "      <td>NaN</td>\n",
       "      <td>NaN</td>\n",
       "      <td>NaN</td>\n",
       "      <td>NaN</td>\n",
       "      <td>NaN</td>\n",
       "      <td>NaN</td>\n",
       "      <td>NaN</td>\n",
       "      <td>NaN</td>\n",
       "      <td>316.844</td>\n",
       "      <td>49.285</td>\n",
       "    </tr>\n",
       "  </tbody>\n",
       "</table>\n",
       "<p>5 rows × 31 columns</p>\n",
       "</div>"
      ],
      "text/plain": [
       "  Country Name Country Code  Year  \\\n",
       "0        Aruba          ABW  1960   \n",
       "1        Aruba          ABW  1961   \n",
       "2        Aruba          ABW  1962   \n",
       "3        Aruba          ABW  1963   \n",
       "4        Aruba          ABW  1964   \n",
       "\n",
       "  Adjusted savings: education expenditure (% of GNI)  \\\n",
       "0                                                NaN   \n",
       "1                                                NaN   \n",
       "2                                                NaN   \n",
       "3                                                NaN   \n",
       "4                                                NaN   \n",
       "\n",
       "  Air transport, freight (million ton-km) Arable land (hectares per person)  \\\n",
       "0                                     NaN                               NaN   \n",
       "1                                     NaN                         0.0360763   \n",
       "2                                     NaN                         0.0355714   \n",
       "3                                     NaN                         0.0352765   \n",
       "4                                     NaN                          0.035068   \n",
       "\n",
       "  Cereal yield (kg per hectare) Food production index (2004-2006 = 100)  \\\n",
       "0                           NaN                                     NaN   \n",
       "1                           NaN                                     NaN   \n",
       "2                           NaN                                     NaN   \n",
       "3                           NaN                                     NaN   \n",
       "4                           NaN                                     NaN   \n",
       "\n",
       "  GDP growth (annual %) GDP per capita (constant 2010 US$)  ...  \\\n",
       "0                   NaN                                NaN  ...   \n",
       "1                   NaN                                NaN  ...   \n",
       "2                   NaN                                NaN  ...   \n",
       "3                   NaN                                NaN  ...   \n",
       "4                   NaN                                NaN  ...   \n",
       "\n",
       "  Net official flows from UN agencies, UNHCR (current US$)  \\\n",
       "0                                                NaN         \n",
       "1                                                NaN         \n",
       "2                                                NaN         \n",
       "3                                                NaN         \n",
       "4                                                NaN         \n",
       "\n",
       "  Net official flows from UN agencies, UNICEF (current US$)  \\\n",
       "0                                                NaN          \n",
       "1                                                NaN          \n",
       "2                                                NaN          \n",
       "3                                                NaN          \n",
       "4                                                NaN          \n",
       "\n",
       "  Net official flows from UN agencies, UNPBF (current US$)  \\\n",
       "0                                                NaN         \n",
       "1                                                NaN         \n",
       "2                                                NaN         \n",
       "3                                                NaN         \n",
       "4                                                NaN         \n",
       "\n",
       "  Net official flows from UN agencies, UNRWA (current US$)  \\\n",
       "0                                                NaN         \n",
       "1                                                NaN         \n",
       "2                                                NaN         \n",
       "3                                                NaN         \n",
       "4                                                NaN         \n",
       "\n",
       "  Net official flows from UN agencies, UNTA (current US$)  \\\n",
       "0                                                NaN        \n",
       "1                                                NaN        \n",
       "2                                                NaN        \n",
       "3                                                NaN        \n",
       "4                                                NaN        \n",
       "\n",
       "  Net official flows from UN agencies, UNWTO (current US$)  \\\n",
       "0                                                NaN         \n",
       "1                                                NaN         \n",
       "2                                                NaN         \n",
       "3                                                NaN         \n",
       "4                                                NaN         \n",
       "\n",
       "  Net official flows from UN agencies, WFP (current US$)  \\\n",
       "0                                                NaN       \n",
       "1                                                NaN       \n",
       "2                                                NaN       \n",
       "3                                                NaN       \n",
       "4                                                NaN       \n",
       "\n",
       "  Net official flows from UN agencies, WHO (current US$)  \\\n",
       "0                                                NaN       \n",
       "1                                                NaN       \n",
       "2                                                NaN       \n",
       "3                                                NaN       \n",
       "4                                                NaN       \n",
       "\n",
       "  Population density (people per sq. km of land area)  \\\n",
       "0                                                NaN    \n",
       "1                                            307.989    \n",
       "2                                            312.361    \n",
       "3                                            314.972    \n",
       "4                                            316.844    \n",
       "\n",
       "  Rural population (% of total population)  \n",
       "0                                   49.224  \n",
       "1                                   49.239  \n",
       "2                                   49.254  \n",
       "3                                    49.27  \n",
       "4                                   49.285  \n",
       "\n",
       "[5 rows x 31 columns]"
      ]
     },
     "execution_count": 10,
     "metadata": {},
     "output_type": "execute_result"
    }
   ],
   "source": [
    "ds_new.head()"
   ]
  },
  {
   "cell_type": "code",
   "execution_count": 11,
   "metadata": {},
   "outputs": [
    {
     "data": {
      "text/plain": [
       "Index(['Country Name', 'Country Code', 'Year',\n",
       "       'Adjusted savings: education expenditure (% of GNI)',\n",
       "       'Air transport, freight (million ton-km)',\n",
       "       'Arable land (hectares per person)', 'Cereal yield (kg per hectare)',\n",
       "       'Food production index (2004-2006 = 100)', 'GDP growth (annual %)',\n",
       "       'GDP per capita (constant 2010 US$)',\n",
       "       'Life expectancy at birth, total (years)',\n",
       "       'Mobile cellular subscriptions (per 100 people)',\n",
       "       'Net official flows from UN agencies, FAO (current US$)',\n",
       "       'Net official flows from UN agencies, IAEA (current US$)',\n",
       "       'Net official flows from UN agencies, IFAD (current US$)',\n",
       "       'Net official flows from UN agencies, ILO (current US$)',\n",
       "       'Net official flows from UN agencies, UNAIDS (current US$)',\n",
       "       'Net official flows from UN agencies, UNDP (current US$)',\n",
       "       'Net official flows from UN agencies, UNECE (current US$)',\n",
       "       'Net official flows from UN agencies, UNEP (current US$)',\n",
       "       'Net official flows from UN agencies, UNFPA (current US$)',\n",
       "       'Net official flows from UN agencies, UNHCR (current US$)',\n",
       "       'Net official flows from UN agencies, UNICEF (current US$)',\n",
       "       'Net official flows from UN agencies, UNPBF (current US$)',\n",
       "       'Net official flows from UN agencies, UNRWA (current US$)',\n",
       "       'Net official flows from UN agencies, UNTA (current US$)',\n",
       "       'Net official flows from UN agencies, UNWTO (current US$)',\n",
       "       'Net official flows from UN agencies, WFP (current US$)',\n",
       "       'Net official flows from UN agencies, WHO (current US$)',\n",
       "       'Population density (people per sq. km of land area)',\n",
       "       'Rural population (% of total population)'],\n",
       "      dtype='object')"
      ]
     },
     "execution_count": 11,
     "metadata": {},
     "output_type": "execute_result"
    }
   ],
   "source": [
    "ds_new.columns"
   ]
  },
  {
   "cell_type": "code",
   "execution_count": 12,
   "metadata": {},
   "outputs": [
    {
     "data": {
      "text/plain": [
       "Country Name                                                 object\n",
       "Country Code                                                 object\n",
       "Year                                                         object\n",
       "Adjusted savings: education expenditure (% of GNI)           object\n",
       "Air transport, freight (million ton-km)                      object\n",
       "Arable land (hectares per person)                            object\n",
       "Cereal yield (kg per hectare)                                object\n",
       "Food production index (2004-2006 = 100)                      object\n",
       "GDP growth (annual %)                                        object\n",
       "GDP per capita (constant 2010 US$)                           object\n",
       "Life expectancy at birth, total (years)                      object\n",
       "Mobile cellular subscriptions (per 100 people)               object\n",
       "Net official flows from UN agencies, FAO (current US$)       object\n",
       "Net official flows from UN agencies, IAEA (current US$)      object\n",
       "Net official flows from UN agencies, IFAD (current US$)      object\n",
       "Net official flows from UN agencies, ILO (current US$)       object\n",
       "Net official flows from UN agencies, UNAIDS (current US$)    object\n",
       "Net official flows from UN agencies, UNDP (current US$)      object\n",
       "Net official flows from UN agencies, UNECE (current US$)     object\n",
       "Net official flows from UN agencies, UNEP (current US$)      object\n",
       "Net official flows from UN agencies, UNFPA (current US$)     object\n",
       "Net official flows from UN agencies, UNHCR (current US$)     object\n",
       "Net official flows from UN agencies, UNICEF (current US$)    object\n",
       "Net official flows from UN agencies, UNPBF (current US$)     object\n",
       "Net official flows from UN agencies, UNRWA (current US$)     object\n",
       "Net official flows from UN agencies, UNTA (current US$)      object\n",
       "Net official flows from UN agencies, UNWTO (current US$)     object\n",
       "Net official flows from UN agencies, WFP (current US$)       object\n",
       "Net official flows from UN agencies, WHO (current US$)       object\n",
       "Population density (people per sq. km of land area)          object\n",
       "Rural population (% of total population)                     object\n",
       "dtype: object"
      ]
     },
     "execution_count": 12,
     "metadata": {},
     "output_type": "execute_result"
    }
   ],
   "source": [
    "ds_new.dtypes"
   ]
  },
  {
   "cell_type": "code",
   "execution_count": 13,
   "metadata": {},
   "outputs": [],
   "source": [
    "#Infering the data type of each column\n",
    "ds_new = ds_new.infer_objects()\n",
    "\n",
    "# Setting Year as integer variable\n",
    "ds_new[\"Year\"] = ds_new.Year.astype(int)"
   ]
  },
  {
   "cell_type": "code",
   "execution_count": 14,
   "metadata": {},
   "outputs": [
    {
     "data": {
      "text/plain": [
       "Country Name                                                  object\n",
       "Country Code                                                  object\n",
       "Year                                                           int32\n",
       "Adjusted savings: education expenditure (% of GNI)           float64\n",
       "Air transport, freight (million ton-km)                      float64\n",
       "Arable land (hectares per person)                            float64\n",
       "Cereal yield (kg per hectare)                                float64\n",
       "Food production index (2004-2006 = 100)                      float64\n",
       "GDP growth (annual %)                                        float64\n",
       "GDP per capita (constant 2010 US$)                           float64\n",
       "Life expectancy at birth, total (years)                      float64\n",
       "Mobile cellular subscriptions (per 100 people)               float64\n",
       "Net official flows from UN agencies, FAO (current US$)       float64\n",
       "Net official flows from UN agencies, IAEA (current US$)      float64\n",
       "Net official flows from UN agencies, IFAD (current US$)      float64\n",
       "Net official flows from UN agencies, ILO (current US$)       float64\n",
       "Net official flows from UN agencies, UNAIDS (current US$)    float64\n",
       "Net official flows from UN agencies, UNDP (current US$)      float64\n",
       "Net official flows from UN agencies, UNECE (current US$)     float64\n",
       "Net official flows from UN agencies, UNEP (current US$)      float64\n",
       "Net official flows from UN agencies, UNFPA (current US$)     float64\n",
       "Net official flows from UN agencies, UNHCR (current US$)     float64\n",
       "Net official flows from UN agencies, UNICEF (current US$)    float64\n",
       "Net official flows from UN agencies, UNPBF (current US$)     float64\n",
       "Net official flows from UN agencies, UNRWA (current US$)     float64\n",
       "Net official flows from UN agencies, UNTA (current US$)      float64\n",
       "Net official flows from UN agencies, UNWTO (current US$)     float64\n",
       "Net official flows from UN agencies, WFP (current US$)       float64\n",
       "Net official flows from UN agencies, WHO (current US$)       float64\n",
       "Population density (people per sq. km of land area)          float64\n",
       "Rural population (% of total population)                     float64\n",
       "dtype: object"
      ]
     },
     "execution_count": 14,
     "metadata": {},
     "output_type": "execute_result"
    }
   ],
   "source": [
    "ds_new.dtypes"
   ]
  },
  {
   "cell_type": "markdown",
   "metadata": {},
   "source": [
    "## Creating new feature about UN flows\n",
    "\n",
    "As we see above, many features contain information about Net flows comming from agencies from UN. As we don't need information too granular, we will add all of them:"
   ]
  },
  {
   "cell_type": "code",
   "execution_count": 15,
   "metadata": {},
   "outputs": [
    {
     "data": {
      "text/plain": [
       "['Net official flows from UN agencies, FAO (current US$)',\n",
       " 'Net official flows from UN agencies, IAEA (current US$)',\n",
       " 'Net official flows from UN agencies, IFAD (current US$)',\n",
       " 'Net official flows from UN agencies, ILO (current US$)',\n",
       " 'Net official flows from UN agencies, UNAIDS (current US$)',\n",
       " 'Net official flows from UN agencies, UNDP (current US$)',\n",
       " 'Net official flows from UN agencies, UNECE (current US$)',\n",
       " 'Net official flows from UN agencies, UNEP (current US$)',\n",
       " 'Net official flows from UN agencies, UNFPA (current US$)',\n",
       " 'Net official flows from UN agencies, UNHCR (current US$)',\n",
       " 'Net official flows from UN agencies, UNICEF (current US$)',\n",
       " 'Net official flows from UN agencies, UNPBF (current US$)',\n",
       " 'Net official flows from UN agencies, UNRWA (current US$)',\n",
       " 'Net official flows from UN agencies, UNTA (current US$)',\n",
       " 'Net official flows from UN agencies, UNWTO (current US$)',\n",
       " 'Net official flows from UN agencies, WFP (current US$)',\n",
       " 'Net official flows from UN agencies, WHO (current US$)']"
      ]
     },
     "execution_count": 15,
     "metadata": {},
     "output_type": "execute_result"
    }
   ],
   "source": [
    "#catgories and indicators\n",
    "categories = df[[\"Series Name\", \"Indicator_CAT\"]].drop_duplicates().rename(columns = {\"Series Name\":\"indicator\"})\n",
    "\n",
    "#Features which include flows from UN\n",
    "flow_cols = list(categories[categories.indicator.str.contains(\"UN\")].indicator)\n",
    "flow_cols"
   ]
  },
  {
   "cell_type": "markdown",
   "metadata": {},
   "source": [
    "Now we will sum-up all the columns in the list ``flow_cols``:"
   ]
  },
  {
   "cell_type": "code",
   "execution_count": 16,
   "metadata": {},
   "outputs": [],
   "source": [
    "ds_new[\"Net flows from UN agencies US$\"] = ds_new[flow_cols].sum(axis=1)"
   ]
  },
  {
   "cell_type": "code",
   "execution_count": 17,
   "metadata": {},
   "outputs": [
    {
     "data": {
      "text/plain": [
       "Index(['Country Name', 'Country Code', 'Year',\n",
       "       'Adjusted savings: education expenditure (% of GNI)',\n",
       "       'Air transport, freight (million ton-km)',\n",
       "       'Arable land (hectares per person)', 'Cereal yield (kg per hectare)',\n",
       "       'Food production index (2004-2006 = 100)', 'GDP growth (annual %)',\n",
       "       'GDP per capita (constant 2010 US$)',\n",
       "       'Life expectancy at birth, total (years)',\n",
       "       'Mobile cellular subscriptions (per 100 people)',\n",
       "       'Net official flows from UN agencies, FAO (current US$)',\n",
       "       'Net official flows from UN agencies, IAEA (current US$)',\n",
       "       'Net official flows from UN agencies, IFAD (current US$)',\n",
       "       'Net official flows from UN agencies, ILO (current US$)',\n",
       "       'Net official flows from UN agencies, UNAIDS (current US$)',\n",
       "       'Net official flows from UN agencies, UNDP (current US$)',\n",
       "       'Net official flows from UN agencies, UNECE (current US$)',\n",
       "       'Net official flows from UN agencies, UNEP (current US$)',\n",
       "       'Net official flows from UN agencies, UNFPA (current US$)',\n",
       "       'Net official flows from UN agencies, UNHCR (current US$)',\n",
       "       'Net official flows from UN agencies, UNICEF (current US$)',\n",
       "       'Net official flows from UN agencies, UNPBF (current US$)',\n",
       "       'Net official flows from UN agencies, UNRWA (current US$)',\n",
       "       'Net official flows from UN agencies, UNTA (current US$)',\n",
       "       'Net official flows from UN agencies, UNWTO (current US$)',\n",
       "       'Net official flows from UN agencies, WFP (current US$)',\n",
       "       'Net official flows from UN agencies, WHO (current US$)',\n",
       "       'Population density (people per sq. km of land area)',\n",
       "       'Rural population (% of total population)',\n",
       "       'Net flows from UN agencies US$'],\n",
       "      dtype='object')"
      ]
     },
     "execution_count": 17,
     "metadata": {},
     "output_type": "execute_result"
    }
   ],
   "source": [
    "ds_new.columns"
   ]
  },
  {
   "cell_type": "markdown",
   "metadata": {},
   "source": [
    "Now we will drop the columns in ``flow_cols`` which we won't use further:"
   ]
  },
  {
   "cell_type": "code",
   "execution_count": 18,
   "metadata": {},
   "outputs": [],
   "source": [
    "ds_new.drop(columns = flow_cols, inplace= True)"
   ]
  },
  {
   "cell_type": "code",
   "execution_count": 19,
   "metadata": {},
   "outputs": [
    {
     "data": {
      "text/plain": [
       "Index(['Country Name', 'Country Code', 'Year',\n",
       "       'Adjusted savings: education expenditure (% of GNI)',\n",
       "       'Air transport, freight (million ton-km)',\n",
       "       'Arable land (hectares per person)', 'Cereal yield (kg per hectare)',\n",
       "       'Food production index (2004-2006 = 100)', 'GDP growth (annual %)',\n",
       "       'GDP per capita (constant 2010 US$)',\n",
       "       'Life expectancy at birth, total (years)',\n",
       "       'Mobile cellular subscriptions (per 100 people)',\n",
       "       'Population density (people per sq. km of land area)',\n",
       "       'Rural population (% of total population)',\n",
       "       'Net flows from UN agencies US$'],\n",
       "      dtype='object')"
      ]
     },
     "execution_count": 19,
     "metadata": {},
     "output_type": "execute_result"
    }
   ],
   "source": [
    "ds_new.columns"
   ]
  },
  {
   "cell_type": "code",
   "execution_count": 20,
   "metadata": {},
   "outputs": [
    {
     "data": {
      "text/plain": [
       "(13260, 15)"
      ]
     },
     "execution_count": 20,
     "metadata": {},
     "output_type": "execute_result"
    }
   ],
   "source": [
    "ds_new.shape"
   ]
  },
  {
   "cell_type": "markdown",
   "metadata": {},
   "source": [
    "Rearranging the columns:"
   ]
  },
  {
   "cell_type": "code",
   "execution_count": 21,
   "metadata": {},
   "outputs": [],
   "source": [
    "ds_new = ds_new[['Country Name', 'Country Code', 'Year',\n",
    "       'Air transport, freight (million ton-km)',\n",
    "       'Arable land (hectares per person)', 'Cereal yield (kg per hectare)',\n",
    "       'Food production index (2004-2006 = 100)', 'GDP growth (annual %)',\n",
    "       'GDP per capita (constant 2010 US$)',\n",
    "       'Net flows from UN agencies US$',\n",
    "       'Life expectancy at birth, total (years)',\n",
    "       'Mobile cellular subscriptions (per 100 people)',\n",
    "       'Population density (people per sq. km of land area)',\n",
    "       'Adjusted savings: education expenditure (% of GNI)',\n",
    "       'Rural population (% of total population)'\n",
    "       ]]"
   ]
  },
  {
   "cell_type": "code",
   "execution_count": 22,
   "metadata": {},
   "outputs": [
    {
     "data": {
      "text/html": [
       "<div>\n",
       "<style scoped>\n",
       "    .dataframe tbody tr th:only-of-type {\n",
       "        vertical-align: middle;\n",
       "    }\n",
       "\n",
       "    .dataframe tbody tr th {\n",
       "        vertical-align: top;\n",
       "    }\n",
       "\n",
       "    .dataframe thead th {\n",
       "        text-align: right;\n",
       "    }\n",
       "</style>\n",
       "<table border=\"1\" class=\"dataframe\">\n",
       "  <thead>\n",
       "    <tr style=\"text-align: right;\">\n",
       "      <th></th>\n",
       "      <th>Country Name</th>\n",
       "      <th>Country Code</th>\n",
       "      <th>Year</th>\n",
       "      <th>Air transport, freight (million ton-km)</th>\n",
       "      <th>Arable land (hectares per person)</th>\n",
       "      <th>Cereal yield (kg per hectare)</th>\n",
       "      <th>Food production index (2004-2006 = 100)</th>\n",
       "      <th>GDP growth (annual %)</th>\n",
       "      <th>GDP per capita (constant 2010 US$)</th>\n",
       "      <th>Net flows from UN agencies US$</th>\n",
       "      <th>Life expectancy at birth, total (years)</th>\n",
       "      <th>Mobile cellular subscriptions (per 100 people)</th>\n",
       "      <th>Population density (people per sq. km of land area)</th>\n",
       "      <th>Adjusted savings: education expenditure (% of GNI)</th>\n",
       "      <th>Rural population (% of total population)</th>\n",
       "    </tr>\n",
       "  </thead>\n",
       "  <tbody>\n",
       "    <tr>\n",
       "      <th>0</th>\n",
       "      <td>Aruba</td>\n",
       "      <td>ABW</td>\n",
       "      <td>1960</td>\n",
       "      <td>NaN</td>\n",
       "      <td>NaN</td>\n",
       "      <td>NaN</td>\n",
       "      <td>NaN</td>\n",
       "      <td>NaN</td>\n",
       "      <td>NaN</td>\n",
       "      <td>0.0</td>\n",
       "      <td>65.662</td>\n",
       "      <td>0.0</td>\n",
       "      <td>NaN</td>\n",
       "      <td>NaN</td>\n",
       "      <td>49.224</td>\n",
       "    </tr>\n",
       "    <tr>\n",
       "      <th>1</th>\n",
       "      <td>Aruba</td>\n",
       "      <td>ABW</td>\n",
       "      <td>1961</td>\n",
       "      <td>NaN</td>\n",
       "      <td>0.036076</td>\n",
       "      <td>NaN</td>\n",
       "      <td>NaN</td>\n",
       "      <td>NaN</td>\n",
       "      <td>NaN</td>\n",
       "      <td>0.0</td>\n",
       "      <td>66.074</td>\n",
       "      <td>NaN</td>\n",
       "      <td>307.988889</td>\n",
       "      <td>NaN</td>\n",
       "      <td>49.239</td>\n",
       "    </tr>\n",
       "    <tr>\n",
       "      <th>2</th>\n",
       "      <td>Aruba</td>\n",
       "      <td>ABW</td>\n",
       "      <td>1962</td>\n",
       "      <td>NaN</td>\n",
       "      <td>0.035571</td>\n",
       "      <td>NaN</td>\n",
       "      <td>NaN</td>\n",
       "      <td>NaN</td>\n",
       "      <td>NaN</td>\n",
       "      <td>0.0</td>\n",
       "      <td>66.444</td>\n",
       "      <td>NaN</td>\n",
       "      <td>312.361111</td>\n",
       "      <td>NaN</td>\n",
       "      <td>49.254</td>\n",
       "    </tr>\n",
       "    <tr>\n",
       "      <th>3</th>\n",
       "      <td>Aruba</td>\n",
       "      <td>ABW</td>\n",
       "      <td>1963</td>\n",
       "      <td>NaN</td>\n",
       "      <td>0.035276</td>\n",
       "      <td>NaN</td>\n",
       "      <td>NaN</td>\n",
       "      <td>NaN</td>\n",
       "      <td>NaN</td>\n",
       "      <td>0.0</td>\n",
       "      <td>66.787</td>\n",
       "      <td>NaN</td>\n",
       "      <td>314.972222</td>\n",
       "      <td>NaN</td>\n",
       "      <td>49.270</td>\n",
       "    </tr>\n",
       "    <tr>\n",
       "      <th>4</th>\n",
       "      <td>Aruba</td>\n",
       "      <td>ABW</td>\n",
       "      <td>1964</td>\n",
       "      <td>NaN</td>\n",
       "      <td>0.035068</td>\n",
       "      <td>NaN</td>\n",
       "      <td>NaN</td>\n",
       "      <td>NaN</td>\n",
       "      <td>NaN</td>\n",
       "      <td>0.0</td>\n",
       "      <td>67.113</td>\n",
       "      <td>NaN</td>\n",
       "      <td>316.844444</td>\n",
       "      <td>NaN</td>\n",
       "      <td>49.285</td>\n",
       "    </tr>\n",
       "  </tbody>\n",
       "</table>\n",
       "</div>"
      ],
      "text/plain": [
       "  Country Name Country Code  Year  Air transport, freight (million ton-km)  \\\n",
       "0        Aruba          ABW  1960                                      NaN   \n",
       "1        Aruba          ABW  1961                                      NaN   \n",
       "2        Aruba          ABW  1962                                      NaN   \n",
       "3        Aruba          ABW  1963                                      NaN   \n",
       "4        Aruba          ABW  1964                                      NaN   \n",
       "\n",
       "   Arable land (hectares per person)  Cereal yield (kg per hectare)  \\\n",
       "0                                NaN                            NaN   \n",
       "1                           0.036076                            NaN   \n",
       "2                           0.035571                            NaN   \n",
       "3                           0.035276                            NaN   \n",
       "4                           0.035068                            NaN   \n",
       "\n",
       "   Food production index (2004-2006 = 100)  GDP growth (annual %)  \\\n",
       "0                                      NaN                    NaN   \n",
       "1                                      NaN                    NaN   \n",
       "2                                      NaN                    NaN   \n",
       "3                                      NaN                    NaN   \n",
       "4                                      NaN                    NaN   \n",
       "\n",
       "   GDP per capita (constant 2010 US$)  Net flows from UN agencies US$  \\\n",
       "0                                 NaN                             0.0   \n",
       "1                                 NaN                             0.0   \n",
       "2                                 NaN                             0.0   \n",
       "3                                 NaN                             0.0   \n",
       "4                                 NaN                             0.0   \n",
       "\n",
       "   Life expectancy at birth, total (years)  \\\n",
       "0                                   65.662   \n",
       "1                                   66.074   \n",
       "2                                   66.444   \n",
       "3                                   66.787   \n",
       "4                                   67.113   \n",
       "\n",
       "   Mobile cellular subscriptions (per 100 people)  \\\n",
       "0                                             0.0   \n",
       "1                                             NaN   \n",
       "2                                             NaN   \n",
       "3                                             NaN   \n",
       "4                                             NaN   \n",
       "\n",
       "   Population density (people per sq. km of land area)  \\\n",
       "0                                                NaN     \n",
       "1                                         307.988889     \n",
       "2                                         312.361111     \n",
       "3                                         314.972222     \n",
       "4                                         316.844444     \n",
       "\n",
       "   Adjusted savings: education expenditure (% of GNI)  \\\n",
       "0                                                NaN    \n",
       "1                                                NaN    \n",
       "2                                                NaN    \n",
       "3                                                NaN    \n",
       "4                                                NaN    \n",
       "\n",
       "   Rural population (% of total population)  \n",
       "0                                    49.224  \n",
       "1                                    49.239  \n",
       "2                                    49.254  \n",
       "3                                    49.270  \n",
       "4                                    49.285  "
      ]
     },
     "execution_count": 22,
     "metadata": {},
     "output_type": "execute_result"
    }
   ],
   "source": [
    "ds_new.head()"
   ]
  },
  {
   "cell_type": "code",
   "execution_count": 23,
   "metadata": {},
   "outputs": [],
   "source": [
    "#converting all country codes to upper caps\n",
    "ds_new[\"Country Code\"] = ds_new[\"Country Code\"].apply(lambda x: x.upper())"
   ]
  },
  {
   "cell_type": "markdown",
   "metadata": {},
   "source": [
    "# Finding NaN values\n",
    "\n",
    "First we will explore how many of our features have null values:"
   ]
  },
  {
   "cell_type": "code",
   "execution_count": 24,
   "metadata": {},
   "outputs": [],
   "source": [
    "def null_cols(data):\n",
    "\n",
    "    \"\"\"\n",
    "    This function takes a dataframe df and shows the columns of df that have NaN values\n",
    "    and the number of them\n",
    "\n",
    "    \"\"\"\n",
    "    nulls = data.isna().sum()\n",
    "    nulls = nulls[nulls > 0] / len(data) * 100\n",
    "    nulls = pd.DataFrame(nulls.sort_values(ascending = False))\n",
    "    nulls = nulls.reset_index().rename(columns = {\"index\": \"Feature\", 0: \"% Null rows\"})\n",
    "    return nulls"
   ]
  },
  {
   "cell_type": "code",
   "execution_count": 25,
   "metadata": {},
   "outputs": [
    {
     "data": {
      "text/html": [
       "<div>\n",
       "<style scoped>\n",
       "    .dataframe tbody tr th:only-of-type {\n",
       "        vertical-align: middle;\n",
       "    }\n",
       "\n",
       "    .dataframe tbody tr th {\n",
       "        vertical-align: top;\n",
       "    }\n",
       "\n",
       "    .dataframe thead th {\n",
       "        text-align: right;\n",
       "    }\n",
       "</style>\n",
       "<table border=\"1\" class=\"dataframe\">\n",
       "  <thead>\n",
       "    <tr style=\"text-align: right;\">\n",
       "      <th></th>\n",
       "      <th>Feature</th>\n",
       "      <th>% Null rows</th>\n",
       "    </tr>\n",
       "  </thead>\n",
       "  <tbody>\n",
       "    <tr>\n",
       "      <th>0</th>\n",
       "      <td>Air transport, freight (million ton-km)</td>\n",
       "      <td>47.533937</td>\n",
       "    </tr>\n",
       "    <tr>\n",
       "      <th>1</th>\n",
       "      <td>Cereal yield (kg per hectare)</td>\n",
       "      <td>29.208145</td>\n",
       "    </tr>\n",
       "    <tr>\n",
       "      <th>2</th>\n",
       "      <td>GDP per capita (constant 2010 US$)</td>\n",
       "      <td>28.371041</td>\n",
       "    </tr>\n",
       "    <tr>\n",
       "      <th>3</th>\n",
       "      <td>GDP growth (annual %)</td>\n",
       "      <td>28.174962</td>\n",
       "    </tr>\n",
       "    <tr>\n",
       "      <th>4</th>\n",
       "      <td>Adjusted savings: education expenditure (% of ...</td>\n",
       "      <td>27.616893</td>\n",
       "    </tr>\n",
       "    <tr>\n",
       "      <th>5</th>\n",
       "      <td>Mobile cellular subscriptions (per 100 people)</td>\n",
       "      <td>27.488688</td>\n",
       "    </tr>\n",
       "    <tr>\n",
       "      <th>6</th>\n",
       "      <td>Food production index (2004-2006 = 100)</td>\n",
       "      <td>20.452489</td>\n",
       "    </tr>\n",
       "    <tr>\n",
       "      <th>7</th>\n",
       "      <td>Arable land (hectares per person)</td>\n",
       "      <td>19.351433</td>\n",
       "    </tr>\n",
       "    <tr>\n",
       "      <th>8</th>\n",
       "      <td>Life expectancy at birth, total (years)</td>\n",
       "      <td>12.812971</td>\n",
       "    </tr>\n",
       "    <tr>\n",
       "      <th>9</th>\n",
       "      <td>Population density (people per sq. km of land ...</td>\n",
       "      <td>6.530920</td>\n",
       "    </tr>\n",
       "    <tr>\n",
       "      <th>10</th>\n",
       "      <td>Rural population (% of total population)</td>\n",
       "      <td>3.061840</td>\n",
       "    </tr>\n",
       "  </tbody>\n",
       "</table>\n",
       "</div>"
      ],
      "text/plain": [
       "                                              Feature  % Null rows\n",
       "0             Air transport, freight (million ton-km)    47.533937\n",
       "1                       Cereal yield (kg per hectare)    29.208145\n",
       "2                  GDP per capita (constant 2010 US$)    28.371041\n",
       "3                               GDP growth (annual %)    28.174962\n",
       "4   Adjusted savings: education expenditure (% of ...    27.616893\n",
       "5      Mobile cellular subscriptions (per 100 people)    27.488688\n",
       "6             Food production index (2004-2006 = 100)    20.452489\n",
       "7                   Arable land (hectares per person)    19.351433\n",
       "8             Life expectancy at birth, total (years)    12.812971\n",
       "9   Population density (people per sq. km of land ...     6.530920\n",
       "10           Rural population (% of total population)     3.061840"
      ]
     },
     "execution_count": 25,
     "metadata": {},
     "output_type": "execute_result"
    }
   ],
   "source": [
    "null_cols(ds_new)"
   ]
  },
  {
   "cell_type": "code",
   "execution_count": 26,
   "metadata": {},
   "outputs": [],
   "source": [
    "df_null_cols = null_cols(ds_new)"
   ]
  },
  {
   "cell_type": "code",
   "execution_count": 27,
   "metadata": {},
   "outputs": [],
   "source": [
    "df_null_cols.to_csv(r'C:/Users/torre/Documents/Local Omdena WFP files/WorldBank/Part1/df_null_cols.csv', index = False, sep = ';')"
   ]
  },
  {
   "cell_type": "code",
   "execution_count": 28,
   "metadata": {},
   "outputs": [],
   "source": [
    "countries_missing = pd.DataFrame(ds_new[ds_new[\"Air transport, freight (million ton-km)\"].isna()][\"Country Code\"].value_counts())"
   ]
  },
  {
   "cell_type": "code",
   "execution_count": 29,
   "metadata": {},
   "outputs": [],
   "source": [
    "countries_missing= countries_missing.reset_index()"
   ]
  },
  {
   "cell_type": "code",
   "execution_count": 30,
   "metadata": {},
   "outputs": [
    {
     "data": {
      "text/html": [
       "<div>\n",
       "<style scoped>\n",
       "    .dataframe tbody tr th:only-of-type {\n",
       "        vertical-align: middle;\n",
       "    }\n",
       "\n",
       "    .dataframe tbody tr th {\n",
       "        vertical-align: top;\n",
       "    }\n",
       "\n",
       "    .dataframe thead th {\n",
       "        text-align: right;\n",
       "    }\n",
       "</style>\n",
       "<table border=\"1\" class=\"dataframe\">\n",
       "  <thead>\n",
       "    <tr style=\"text-align: right;\">\n",
       "      <th></th>\n",
       "      <th>ISO</th>\n",
       "      <th>missing_rows</th>\n",
       "    </tr>\n",
       "  </thead>\n",
       "  <tbody>\n",
       "    <tr>\n",
       "      <th>0</th>\n",
       "      <td>FRO</td>\n",
       "      <td>60</td>\n",
       "    </tr>\n",
       "    <tr>\n",
       "      <th>1</th>\n",
       "      <td>PLW</td>\n",
       "      <td>60</td>\n",
       "    </tr>\n",
       "    <tr>\n",
       "      <th>2</th>\n",
       "      <td>GIB</td>\n",
       "      <td>60</td>\n",
       "    </tr>\n",
       "    <tr>\n",
       "      <th>3</th>\n",
       "      <td>MNP</td>\n",
       "      <td>60</td>\n",
       "    </tr>\n",
       "    <tr>\n",
       "      <th>4</th>\n",
       "      <td>GRD</td>\n",
       "      <td>60</td>\n",
       "    </tr>\n",
       "    <tr>\n",
       "      <th>...</th>\n",
       "      <td>...</td>\n",
       "      <td>...</td>\n",
       "    </tr>\n",
       "    <tr>\n",
       "      <th>216</th>\n",
       "      <td>ARG</td>\n",
       "      <td>11</td>\n",
       "    </tr>\n",
       "    <tr>\n",
       "      <th>217</th>\n",
       "      <td>ETH</td>\n",
       "      <td>11</td>\n",
       "    </tr>\n",
       "    <tr>\n",
       "      <th>218</th>\n",
       "      <td>VEN</td>\n",
       "      <td>11</td>\n",
       "    </tr>\n",
       "    <tr>\n",
       "      <th>219</th>\n",
       "      <td>ECU</td>\n",
       "      <td>11</td>\n",
       "    </tr>\n",
       "    <tr>\n",
       "      <th>220</th>\n",
       "      <td>IDN</td>\n",
       "      <td>11</td>\n",
       "    </tr>\n",
       "  </tbody>\n",
       "</table>\n",
       "<p>221 rows × 2 columns</p>\n",
       "</div>"
      ],
      "text/plain": [
       "     ISO  missing_rows\n",
       "0    FRO            60\n",
       "1    PLW            60\n",
       "2    GIB            60\n",
       "3    MNP            60\n",
       "4    GRD            60\n",
       "..   ...           ...\n",
       "216  ARG            11\n",
       "217  ETH            11\n",
       "218  VEN            11\n",
       "219  ECU            11\n",
       "220  IDN            11\n",
       "\n",
       "[221 rows x 2 columns]"
      ]
     },
     "execution_count": 30,
     "metadata": {},
     "output_type": "execute_result"
    }
   ],
   "source": [
    "countries_missing.rename(columns={\"index\": \"ISO\", \"Country Code\": \"missing_rows\"})"
   ]
  },
  {
   "cell_type": "markdown",
   "metadata": {},
   "source": [
    "# Correlations between the features\n",
    "\n",
    "Here we should isolate the non numerical features from the rest. We first should check the data types of the data set:"
   ]
  },
  {
   "cell_type": "code",
   "execution_count": 31,
   "metadata": {},
   "outputs": [],
   "source": [
    "#Selecting the numerical features\n",
    "\n",
    "numerical_features = list(ds_new.select_dtypes(include=['float64']).columns)"
   ]
  },
  {
   "cell_type": "code",
   "execution_count": 32,
   "metadata": {},
   "outputs": [],
   "source": [
    "#New data sets to construct the correlation matrix\n",
    "ds_num = ds_new[numerical_features]"
   ]
  },
  {
   "cell_type": "code",
   "execution_count": 33,
   "metadata": {},
   "outputs": [],
   "source": [
    "#correlation matrices\n",
    "corr_num = ds_num.corr(method = \"spearman\")"
   ]
  },
  {
   "cell_type": "code",
   "execution_count": 34,
   "metadata": {},
   "outputs": [
    {
     "data": {
      "text/plain": [
       "(12.5, -0.5)"
      ]
     },
     "execution_count": 34,
     "metadata": {},
     "output_type": "execute_result"
    },
    {
     "data": {
      "image/png": "[encoded data removed]",
      "text/plain": [
       "<Figure size 864x864 with 2 Axes>"
      ]
     },
     "metadata": {
      "needs_background": "light"
     },
     "output_type": "display_data"
    }
   ],
   "source": [
    "fig, ax = plt.subplots(figsize=(12,12))\n",
    "ax = plt.subplot(111)\n",
    "sns.heatmap(corr_num, annot=True, linewidth=1, cmap=\"BrBG\", ax=ax)\n",
    "bottom, top = ax.get_ylim()             # this fixes a bug where first and last columns were not visualized correctly\n",
    "ax.set_ylim(bottom + 0.5, top - 0.5)"
   ]
  },
  {
   "cell_type": "code",
   "execution_count": 35,
   "metadata": {},
   "outputs": [],
   "source": [
    "# Writing to csv the datase\n",
    "\n",
    "corr_num.to_csv(r'C:/Users/torre/Documents/Local Omdena WFP files/WorldBank/Part1/corr_num.csv', index = True, sep = ';')"
   ]
  },
  {
   "cell_type": "markdown",
   "metadata": {},
   "source": [
    "## Filling NaNs by using rolling average for each feature"
   ]
  },
  {
   "cell_type": "markdown",
   "metadata": {},
   "source": [
    "Moving average can be used as a data preparation technique to create a smoothed version of the original dataset.\n",
    "\n",
    "Smoothing is useful as a data preparation technique as it can reduce the random variation in the observations and better expose the structure of the underlying causal processes.\n",
    "\n",
    "The rolling() function on the Time Series Pandas object will automatically group observations into a window. You can specify the window size, and by default a trailing window is created. Once the window is created, we can take the mean value, and this is our transformed dataset.\n",
    "\n",
    "rolling(4, min_periods = 1), which tells the function the minimum number of defined values within a window that have to be present to calculate a result.\n",
    "\n",
    "**Idea Geetha:**"
   ]
  },
  {
   "cell_type": "raw",
   "metadata": {},
   "source": [
    "dataframe_try2=dataframe_try1.fillna(dataframe_try1.rolling(6,min_periods=1,win_type='gaussian').mean(std=1))\n",
    "dataframe_try3 = dataframe_try2.fillna(method = 'bfill')\n",
    "dataframe_try3.tail(20)"
   ]
  },
  {
   "cell_type": "markdown",
   "metadata": {},
   "source": [
    "We start with this missing values:"
   ]
  },
  {
   "cell_type": "code",
   "execution_count": 36,
   "metadata": {},
   "outputs": [
    {
     "data": {
      "text/html": [
       "<div>\n",
       "<style scoped>\n",
       "    .dataframe tbody tr th:only-of-type {\n",
       "        vertical-align: middle;\n",
       "    }\n",
       "\n",
       "    .dataframe tbody tr th {\n",
       "        vertical-align: top;\n",
       "    }\n",
       "\n",
       "    .dataframe thead th {\n",
       "        text-align: right;\n",
       "    }\n",
       "</style>\n",
       "<table border=\"1\" class=\"dataframe\">\n",
       "  <thead>\n",
       "    <tr style=\"text-align: right;\">\n",
       "      <th></th>\n",
       "      <th>Feature</th>\n",
       "      <th>% Null rows</th>\n",
       "    </tr>\n",
       "  </thead>\n",
       "  <tbody>\n",
       "    <tr>\n",
       "      <th>0</th>\n",
       "      <td>Air transport, freight (million ton-km)</td>\n",
       "      <td>47.533937</td>\n",
       "    </tr>\n",
       "    <tr>\n",
       "      <th>1</th>\n",
       "      <td>Cereal yield (kg per hectare)</td>\n",
       "      <td>29.208145</td>\n",
       "    </tr>\n",
       "    <tr>\n",
       "      <th>2</th>\n",
       "      <td>GDP per capita (constant 2010 US$)</td>\n",
       "      <td>28.371041</td>\n",
       "    </tr>\n",
       "    <tr>\n",
       "      <th>3</th>\n",
       "      <td>GDP growth (annual %)</td>\n",
       "      <td>28.174962</td>\n",
       "    </tr>\n",
       "    <tr>\n",
       "      <th>4</th>\n",
       "      <td>Adjusted savings: education expenditure (% of ...</td>\n",
       "      <td>27.616893</td>\n",
       "    </tr>\n",
       "    <tr>\n",
       "      <th>5</th>\n",
       "      <td>Mobile cellular subscriptions (per 100 people)</td>\n",
       "      <td>27.488688</td>\n",
       "    </tr>\n",
       "    <tr>\n",
       "      <th>6</th>\n",
       "      <td>Food production index (2004-2006 = 100)</td>\n",
       "      <td>20.452489</td>\n",
       "    </tr>\n",
       "    <tr>\n",
       "      <th>7</th>\n",
       "      <td>Arable land (hectares per person)</td>\n",
       "      <td>19.351433</td>\n",
       "    </tr>\n",
       "    <tr>\n",
       "      <th>8</th>\n",
       "      <td>Life expectancy at birth, total (years)</td>\n",
       "      <td>12.812971</td>\n",
       "    </tr>\n",
       "    <tr>\n",
       "      <th>9</th>\n",
       "      <td>Population density (people per sq. km of land ...</td>\n",
       "      <td>6.530920</td>\n",
       "    </tr>\n",
       "    <tr>\n",
       "      <th>10</th>\n",
       "      <td>Rural population (% of total population)</td>\n",
       "      <td>3.061840</td>\n",
       "    </tr>\n",
       "  </tbody>\n",
       "</table>\n",
       "</div>"
      ],
      "text/plain": [
       "                                              Feature  % Null rows\n",
       "0             Air transport, freight (million ton-km)    47.533937\n",
       "1                       Cereal yield (kg per hectare)    29.208145\n",
       "2                  GDP per capita (constant 2010 US$)    28.371041\n",
       "3                               GDP growth (annual %)    28.174962\n",
       "4   Adjusted savings: education expenditure (% of ...    27.616893\n",
       "5      Mobile cellular subscriptions (per 100 people)    27.488688\n",
       "6             Food production index (2004-2006 = 100)    20.452489\n",
       "7                   Arable land (hectares per person)    19.351433\n",
       "8             Life expectancy at birth, total (years)    12.812971\n",
       "9   Population density (people per sq. km of land ...     6.530920\n",
       "10           Rural population (% of total population)     3.061840"
      ]
     },
     "execution_count": 36,
     "metadata": {},
     "output_type": "execute_result"
    }
   ],
   "source": [
    "null_cols(ds_new)"
   ]
  },
  {
   "cell_type": "markdown",
   "metadata": {},
   "source": [
    "## Filling values for other features"
   ]
  },
  {
   "cell_type": "markdown",
   "metadata": {},
   "source": [
    "First we will check which countries we have in the cyclones data set to restrict ourselves to them:"
   ]
  },
  {
   "cell_type": "code",
   "execution_count": 37,
   "metadata": {},
   "outputs": [],
   "source": [
    "cy = pd.read_csv(\"Data_input/cyclones_omdena_inner.csv\", low_memory = False)"
   ]
  },
  {
   "cell_type": "code",
   "execution_count": 38,
   "metadata": {},
   "outputs": [],
   "source": [
    "countries_cy = list(cy.ISO.value_counts().index)\n",
    "countries_cy.sort()"
   ]
  },
  {
   "cell_type": "code",
   "execution_count": 39,
   "metadata": {},
   "outputs": [
    {
     "data": {
      "text/plain": [
       "['ARE', 'AUS', 'BGD', 'BHS', 'BLZ', 'BRA', 'BRN', 'BWA', 'CAN', 'CHN']"
      ]
     },
     "execution_count": 39,
     "metadata": {},
     "output_type": "execute_result"
    }
   ],
   "source": [
    "countries_cy[0:10]"
   ]
  },
  {
   "cell_type": "markdown",
   "metadata": {},
   "source": [
    "Now we will create a new data set containing just data relevant to those countries:"
   ]
  },
  {
   "cell_type": "code",
   "execution_count": 40,
   "metadata": {},
   "outputs": [],
   "source": [
    "ds_cy = ds_new[ds_new[\"Country Code\"].isin(countries_cy)].copy()"
   ]
  },
  {
   "cell_type": "code",
   "execution_count": 41,
   "metadata": {},
   "outputs": [
    {
     "data": {
      "text/html": [
       "<div>\n",
       "<style scoped>\n",
       "    .dataframe tbody tr th:only-of-type {\n",
       "        vertical-align: middle;\n",
       "    }\n",
       "\n",
       "    .dataframe tbody tr th {\n",
       "        vertical-align: top;\n",
       "    }\n",
       "\n",
       "    .dataframe thead th {\n",
       "        text-align: right;\n",
       "    }\n",
       "</style>\n",
       "<table border=\"1\" class=\"dataframe\">\n",
       "  <thead>\n",
       "    <tr style=\"text-align: right;\">\n",
       "      <th></th>\n",
       "      <th>Country Name</th>\n",
       "      <th>Country Code</th>\n",
       "      <th>Year</th>\n",
       "      <th>Air transport, freight (million ton-km)</th>\n",
       "      <th>Arable land (hectares per person)</th>\n",
       "      <th>Cereal yield (kg per hectare)</th>\n",
       "      <th>Food production index (2004-2006 = 100)</th>\n",
       "      <th>GDP growth (annual %)</th>\n",
       "      <th>GDP per capita (constant 2010 US$)</th>\n",
       "      <th>Net flows from UN agencies US$</th>\n",
       "      <th>Life expectancy at birth, total (years)</th>\n",
       "      <th>Mobile cellular subscriptions (per 100 people)</th>\n",
       "      <th>Population density (people per sq. km of land area)</th>\n",
       "      <th>Adjusted savings: education expenditure (% of GNI)</th>\n",
       "      <th>Rural population (% of total population)</th>\n",
       "    </tr>\n",
       "  </thead>\n",
       "  <tbody>\n",
       "    <tr>\n",
       "      <th>300</th>\n",
       "      <td>United Arab Emirates</td>\n",
       "      <td>ARE</td>\n",
       "      <td>1960</td>\n",
       "      <td>NaN</td>\n",
       "      <td>NaN</td>\n",
       "      <td>NaN</td>\n",
       "      <td>NaN</td>\n",
       "      <td>NaN</td>\n",
       "      <td>NaN</td>\n",
       "      <td>0.0</td>\n",
       "      <td>51.537</td>\n",
       "      <td>NaN</td>\n",
       "      <td>NaN</td>\n",
       "      <td>NaN</td>\n",
       "      <td>26.500</td>\n",
       "    </tr>\n",
       "    <tr>\n",
       "      <th>301</th>\n",
       "      <td>United Arab Emirates</td>\n",
       "      <td>ARE</td>\n",
       "      <td>1961</td>\n",
       "      <td>NaN</td>\n",
       "      <td>0.049605</td>\n",
       "      <td>NaN</td>\n",
       "      <td>4.07</td>\n",
       "      <td>NaN</td>\n",
       "      <td>NaN</td>\n",
       "      <td>0.0</td>\n",
       "      <td>52.560</td>\n",
       "      <td>NaN</td>\n",
       "      <td>1.419262</td>\n",
       "      <td>NaN</td>\n",
       "      <td>25.617</td>\n",
       "    </tr>\n",
       "  </tbody>\n",
       "</table>\n",
       "</div>"
      ],
      "text/plain": [
       "             Country Name Country Code  Year  \\\n",
       "300  United Arab Emirates          ARE  1960   \n",
       "301  United Arab Emirates          ARE  1961   \n",
       "\n",
       "     Air transport, freight (million ton-km)  \\\n",
       "300                                      NaN   \n",
       "301                                      NaN   \n",
       "\n",
       "     Arable land (hectares per person)  Cereal yield (kg per hectare)  \\\n",
       "300                                NaN                            NaN   \n",
       "301                           0.049605                            NaN   \n",
       "\n",
       "     Food production index (2004-2006 = 100)  GDP growth (annual %)  \\\n",
       "300                                      NaN                    NaN   \n",
       "301                                     4.07                    NaN   \n",
       "\n",
       "     GDP per capita (constant 2010 US$)  Net flows from UN agencies US$  \\\n",
       "300                                 NaN                             0.0   \n",
       "301                                 NaN                             0.0   \n",
       "\n",
       "     Life expectancy at birth, total (years)  \\\n",
       "300                                   51.537   \n",
       "301                                   52.560   \n",
       "\n",
       "     Mobile cellular subscriptions (per 100 people)  \\\n",
       "300                                             NaN   \n",
       "301                                             NaN   \n",
       "\n",
       "     Population density (people per sq. km of land area)  \\\n",
       "300                                                NaN     \n",
       "301                                           1.419262     \n",
       "\n",
       "     Adjusted savings: education expenditure (% of GNI)  \\\n",
       "300                                                NaN    \n",
       "301                                                NaN    \n",
       "\n",
       "     Rural population (% of total population)  \n",
       "300                                    26.500  \n",
       "301                                    25.617  "
      ]
     },
     "execution_count": 41,
     "metadata": {},
     "output_type": "execute_result"
    }
   ],
   "source": [
    "ds_cy.head(2)"
   ]
  },
  {
   "cell_type": "markdown",
   "metadata": {},
   "source": [
    "Checking for null values:"
   ]
  },
  {
   "cell_type": "code",
   "execution_count": 42,
   "metadata": {},
   "outputs": [
    {
     "data": {
      "text/html": [
       "<div>\n",
       "<style scoped>\n",
       "    .dataframe tbody tr th:only-of-type {\n",
       "        vertical-align: middle;\n",
       "    }\n",
       "\n",
       "    .dataframe tbody tr th {\n",
       "        vertical-align: top;\n",
       "    }\n",
       "\n",
       "    .dataframe thead th {\n",
       "        text-align: right;\n",
       "    }\n",
       "</style>\n",
       "<table border=\"1\" class=\"dataframe\">\n",
       "  <thead>\n",
       "    <tr style=\"text-align: right;\">\n",
       "      <th></th>\n",
       "      <th>Feature</th>\n",
       "      <th>% Null rows</th>\n",
       "    </tr>\n",
       "  </thead>\n",
       "  <tbody>\n",
       "    <tr>\n",
       "      <th>0</th>\n",
       "      <td>Air transport, freight (million ton-km)</td>\n",
       "      <td>34.308943</td>\n",
       "    </tr>\n",
       "    <tr>\n",
       "      <th>1</th>\n",
       "      <td>Mobile cellular subscriptions (per 100 people)</td>\n",
       "      <td>23.048780</td>\n",
       "    </tr>\n",
       "    <tr>\n",
       "      <th>2</th>\n",
       "      <td>Adjusted savings: education expenditure (% of ...</td>\n",
       "      <td>22.926829</td>\n",
       "    </tr>\n",
       "    <tr>\n",
       "      <th>3</th>\n",
       "      <td>GDP growth (annual %)</td>\n",
       "      <td>15.670732</td>\n",
       "    </tr>\n",
       "    <tr>\n",
       "      <th>4</th>\n",
       "      <td>GDP per capita (constant 2010 US$)</td>\n",
       "      <td>15.386179</td>\n",
       "    </tr>\n",
       "    <tr>\n",
       "      <th>5</th>\n",
       "      <td>Cereal yield (kg per hectare)</td>\n",
       "      <td>9.634146</td>\n",
       "    </tr>\n",
       "    <tr>\n",
       "      <th>6</th>\n",
       "      <td>Arable land (hectares per person)</td>\n",
       "      <td>7.804878</td>\n",
       "    </tr>\n",
       "    <tr>\n",
       "      <th>7</th>\n",
       "      <td>Food production index (2004-2006 = 100)</td>\n",
       "      <td>7.296748</td>\n",
       "    </tr>\n",
       "    <tr>\n",
       "      <th>8</th>\n",
       "      <td>Life expectancy at birth, total (years)</td>\n",
       "      <td>3.739837</td>\n",
       "    </tr>\n",
       "    <tr>\n",
       "      <th>9</th>\n",
       "      <td>Population density (people per sq. km of land ...</td>\n",
       "      <td>3.333333</td>\n",
       "    </tr>\n",
       "    <tr>\n",
       "      <th>10</th>\n",
       "      <td>Rural population (% of total population)</td>\n",
       "      <td>1.666667</td>\n",
       "    </tr>\n",
       "  </tbody>\n",
       "</table>\n",
       "</div>"
      ],
      "text/plain": [
       "                                              Feature  % Null rows\n",
       "0             Air transport, freight (million ton-km)    34.308943\n",
       "1      Mobile cellular subscriptions (per 100 people)    23.048780\n",
       "2   Adjusted savings: education expenditure (% of ...    22.926829\n",
       "3                               GDP growth (annual %)    15.670732\n",
       "4                  GDP per capita (constant 2010 US$)    15.386179\n",
       "5                       Cereal yield (kg per hectare)     9.634146\n",
       "6                   Arable land (hectares per person)     7.804878\n",
       "7             Food production index (2004-2006 = 100)     7.296748\n",
       "8             Life expectancy at birth, total (years)     3.739837\n",
       "9   Population density (people per sq. km of land ...     3.333333\n",
       "10           Rural population (% of total population)     1.666667"
      ]
     },
     "execution_count": 42,
     "metadata": {},
     "output_type": "execute_result"
    }
   ],
   "source": [
    "null_cols(ds_cy)"
   ]
  },
  {
   "cell_type": "markdown",
   "metadata": {},
   "source": [
    "First we will make a list with the null features in this data set, and then we will iterate through each feature and country to fill the missing values."
   ]
  },
  {
   "cell_type": "code",
   "execution_count": 43,
   "metadata": {},
   "outputs": [],
   "source": [
    "features_nulls = list(null_cols(ds_cy).Feature)\n",
    "features_nulls.sort()\n"
   ]
  },
  {
   "cell_type": "code",
   "execution_count": 44,
   "metadata": {},
   "outputs": [
    {
     "data": {
      "text/plain": [
       "['Adjusted savings: education expenditure (% of GNI)',\n",
       " 'Air transport, freight (million ton-km)',\n",
       " 'Arable land (hectares per person)',\n",
       " 'Cereal yield (kg per hectare)',\n",
       " 'Food production index (2004-2006 = 100)',\n",
       " 'GDP growth (annual %)',\n",
       " 'GDP per capita (constant 2010 US$)',\n",
       " 'Life expectancy at birth, total (years)',\n",
       " 'Mobile cellular subscriptions (per 100 people)',\n",
       " 'Population density (people per sq. km of land area)',\n",
       " 'Rural population (% of total population)']"
      ]
     },
     "execution_count": 44,
     "metadata": {},
     "output_type": "execute_result"
    }
   ],
   "source": [
    "features_nulls"
   ]
  },
  {
   "cell_type": "code",
   "execution_count": 45,
   "metadata": {},
   "outputs": [],
   "source": [
    "countries_nulls = list(ds_cy[ds_cy[features_nulls[1]].isna()][\"Country Code\"].value_counts().index)"
   ]
  },
  {
   "cell_type": "code",
   "execution_count": 46,
   "metadata": {},
   "outputs": [],
   "source": [
    "countries_nulls.sort()"
   ]
  },
  {
   "cell_type": "markdown",
   "metadata": {},
   "source": [
    "## Example: Feature 1 and country 0"
   ]
  },
  {
   "cell_type": "markdown",
   "metadata": {},
   "source": [
    "Let us begin with the first one and try the moving average algorithm here:"
   ]
  },
  {
   "cell_type": "code",
   "execution_count": 47,
   "metadata": {},
   "outputs": [],
   "source": [
    "ds_opt = ds_cy[(ds_cy[\"Country Code\"]== countries_nulls[0])][[\"Year\", features_nulls[1]]].copy()"
   ]
  },
  {
   "cell_type": "code",
   "execution_count": 48,
   "metadata": {},
   "outputs": [],
   "source": [
    "ds_opt.set_index(\"Year\", inplace= True)"
   ]
  },
  {
   "cell_type": "code",
   "execution_count": 49,
   "metadata": {},
   "outputs": [
    {
     "data": {
      "image/png": "[encoded data removed]",
      "text/plain": [
       "<Figure size 576x360 with 1 Axes>"
      ]
     },
     "metadata": {
      "needs_background": "light"
     },
     "output_type": "display_data"
    }
   ],
   "source": [
    "ds_opt.plot(c = \"m\");"
   ]
  },
  {
   "cell_type": "code",
   "execution_count": 50,
   "metadata": {},
   "outputs": [],
   "source": [
    "test = ds_opt.fillna(ds_opt.rolling(6,min_periods=1,win_type='gaussian').mean(std=1)).copy()\n",
    "test = test.fillna(method = 'bfill')\n",
    "#dataframe_try3.tail(20)"
   ]
  },
  {
   "cell_type": "code",
   "execution_count": 51,
   "metadata": {},
   "outputs": [
    {
     "data": {
      "image/png": "[encoded data removed]",
      "text/plain": [
       "<Figure size 576x360 with 1 Axes>"
      ]
     },
     "metadata": {
      "needs_background": "light"
     },
     "output_type": "display_data"
    }
   ],
   "source": [
    "test.merge(ds_opt, on = \"Year\", how = \"right\").rename(columns= {features_nulls[1]+\"_x\": \"after inputs\", features_nulls[1]+\"_y\": \"observed\"}).plot();"
   ]
  },
  {
   "cell_type": "markdown",
   "metadata": {},
   "source": [
    "Next country:"
   ]
  },
  {
   "cell_type": "code",
   "execution_count": 52,
   "metadata": {},
   "outputs": [
    {
     "data": {
      "text/plain": [
       "'AUS'"
      ]
     },
     "execution_count": 52,
     "metadata": {},
     "output_type": "execute_result"
    }
   ],
   "source": [
    "countries_nulls[1]"
   ]
  },
  {
   "cell_type": "code",
   "execution_count": 53,
   "metadata": {},
   "outputs": [],
   "source": [
    "ds_opt = ds_cy[(ds_cy[\"Country Code\"]== countries_nulls[1])][[\"Year\", features_nulls[1]]].copy()\n",
    "ds_opt.set_index(\"Year\", inplace= True)\n"
   ]
  },
  {
   "cell_type": "code",
   "execution_count": 54,
   "metadata": {},
   "outputs": [],
   "source": [
    "test = ds_opt.fillna(ds_opt.rolling(6,min_periods=1,win_type='gaussian').mean(std=1)).copy()\n",
    "test = test.fillna(method = 'bfill')\n",
    "#dataframe_try3.tail(20)"
   ]
  },
  {
   "cell_type": "code",
   "execution_count": 55,
   "metadata": {},
   "outputs": [
    {
     "data": {
      "image/png": "[encoded data removed]",
      "text/plain": [
       "<Figure size 576x360 with 1 Axes>"
      ]
     },
     "metadata": {
      "needs_background": "light"
     },
     "output_type": "display_data"
    }
   ],
   "source": [
    "test.merge(ds_opt, on = \"Year\", how = \"inner\").rename(columns= {features_nulls[1]+\"_y\": \"observed\", features_nulls[1]+\"_x\": \"after inputs\"}).plot();"
   ]
  },
  {
   "cell_type": "markdown",
   "metadata": {},
   "source": [
    "## Constructing a function doing everything at once:\n",
    "\n",
    "We can construct then a function doing this for each country and feature:"
   ]
  },
  {
   "cell_type": "code",
   "execution_count": 56,
   "metadata": {},
   "outputs": [],
   "source": [
    "#1. Obtain countries list with nulls in each feature\n",
    "def get_countries_null(data,feature):\n",
    "    \n",
    "    count_nulls = list(data[data[feature].isna()][\"Country Code\"].value_counts().index)\n",
    "    count_nulls.sort()\n",
    "    return count_nulls\n",
    "    "
   ]
  },
  {
   "cell_type": "code",
   "execution_count": 57,
   "metadata": {},
   "outputs": [],
   "source": [
    "#2. isolate the column\n",
    "\n",
    "def get_timeseries(data, feature, country):\n",
    "    return data[(data[\"Country Code\"]== country)][[\"Year\", feature]].set_index(\"Year\")"
   ]
  },
  {
   "cell_type": "code",
   "execution_count": 58,
   "metadata": {},
   "outputs": [],
   "source": [
    "# get individual data set\n",
    "\n",
    "def get_values(data, feature, country):\n",
    "    datatest = get_timeseries(data, feature, country)\n",
    "    datatest = datatest.fillna(datatest.rolling(6,min_periods=1,win_type='gaussian').mean(std=1))\n",
    "    datatest = datatest.fillna(method = 'bfill')\n",
    "    datatest[\"Country Code\"] = country\n",
    "    return datatest"
   ]
  },
  {
   "cell_type": "code",
   "execution_count": 59,
   "metadata": {},
   "outputs": [],
   "source": [
    "#put all together\n",
    "\n",
    "def fill_values(data, feature):\n",
    "    dfs = []\n",
    "    null_countries = get_countries_null(data, feature)\n",
    "    for country in countries_cy:\n",
    "        if country in null_countries:\n",
    "            dataset = get_values(data, feature, country)\n",
    "        else:\n",
    "            dataset = get_timeseries(data, feature, country)\n",
    "            dataset[\"Country Code\"] = country\n",
    "        dfs.append(dataset)\n",
    "\n",
    "    return pd.concat(dfs)\n",
    "               "
   ]
  },
  {
   "cell_type": "markdown",
   "metadata": {},
   "source": [
    "Let us test our main function ``fill_values`` with one feature and merge with the original dataset:"
   ]
  },
  {
   "cell_type": "code",
   "execution_count": 60,
   "metadata": {},
   "outputs": [
    {
     "data": {
      "text/html": [
       "<div>\n",
       "<style scoped>\n",
       "    .dataframe tbody tr th:only-of-type {\n",
       "        vertical-align: middle;\n",
       "    }\n",
       "\n",
       "    .dataframe tbody tr th {\n",
       "        vertical-align: top;\n",
       "    }\n",
       "\n",
       "    .dataframe thead th {\n",
       "        text-align: right;\n",
       "    }\n",
       "</style>\n",
       "<table border=\"1\" class=\"dataframe\">\n",
       "  <thead>\n",
       "    <tr style=\"text-align: right;\">\n",
       "      <th></th>\n",
       "      <th>Year</th>\n",
       "      <th>Air transport, freight (million ton-km)_x</th>\n",
       "      <th>Country Code</th>\n",
       "      <th>Country Name</th>\n",
       "      <th>Air transport, freight (million ton-km)_y</th>\n",
       "      <th>Arable land (hectares per person)</th>\n",
       "      <th>Cereal yield (kg per hectare)</th>\n",
       "      <th>Food production index (2004-2006 = 100)</th>\n",
       "      <th>GDP growth (annual %)</th>\n",
       "      <th>GDP per capita (constant 2010 US$)</th>\n",
       "      <th>Net flows from UN agencies US$</th>\n",
       "      <th>Life expectancy at birth, total (years)</th>\n",
       "      <th>Mobile cellular subscriptions (per 100 people)</th>\n",
       "      <th>Population density (people per sq. km of land area)</th>\n",
       "      <th>Adjusted savings: education expenditure (% of GNI)</th>\n",
       "      <th>Rural population (% of total population)</th>\n",
       "    </tr>\n",
       "  </thead>\n",
       "  <tbody>\n",
       "    <tr>\n",
       "      <th>0</th>\n",
       "      <td>1960</td>\n",
       "      <td>2.200000</td>\n",
       "      <td>ARE</td>\n",
       "      <td>United Arab Emirates</td>\n",
       "      <td>NaN</td>\n",
       "      <td>NaN</td>\n",
       "      <td>NaN</td>\n",
       "      <td>NaN</td>\n",
       "      <td>NaN</td>\n",
       "      <td>NaN</td>\n",
       "      <td>0.000000e+00</td>\n",
       "      <td>51.537</td>\n",
       "      <td>NaN</td>\n",
       "      <td>NaN</td>\n",
       "      <td>NaN</td>\n",
       "      <td>26.500</td>\n",
       "    </tr>\n",
       "    <tr>\n",
       "      <th>1</th>\n",
       "      <td>1961</td>\n",
       "      <td>2.200000</td>\n",
       "      <td>ARE</td>\n",
       "      <td>United Arab Emirates</td>\n",
       "      <td>NaN</td>\n",
       "      <td>0.049605</td>\n",
       "      <td>NaN</td>\n",
       "      <td>4.07</td>\n",
       "      <td>NaN</td>\n",
       "      <td>NaN</td>\n",
       "      <td>0.000000e+00</td>\n",
       "      <td>52.560</td>\n",
       "      <td>NaN</td>\n",
       "      <td>1.419262</td>\n",
       "      <td>NaN</td>\n",
       "      <td>25.617</td>\n",
       "    </tr>\n",
       "    <tr>\n",
       "      <th>2</th>\n",
       "      <td>1962</td>\n",
       "      <td>2.200000</td>\n",
       "      <td>ARE</td>\n",
       "      <td>United Arab Emirates</td>\n",
       "      <td>NaN</td>\n",
       "      <td>0.044596</td>\n",
       "      <td>NaN</td>\n",
       "      <td>4.13</td>\n",
       "      <td>NaN</td>\n",
       "      <td>NaN</td>\n",
       "      <td>0.000000e+00</td>\n",
       "      <td>53.573</td>\n",
       "      <td>NaN</td>\n",
       "      <td>1.578682</td>\n",
       "      <td>NaN</td>\n",
       "      <td>24.752</td>\n",
       "    </tr>\n",
       "    <tr>\n",
       "      <th>3</th>\n",
       "      <td>1963</td>\n",
       "      <td>2.200000</td>\n",
       "      <td>ARE</td>\n",
       "      <td>United Arab Emirates</td>\n",
       "      <td>NaN</td>\n",
       "      <td>0.039958</td>\n",
       "      <td>NaN</td>\n",
       "      <td>4.26</td>\n",
       "      <td>NaN</td>\n",
       "      <td>NaN</td>\n",
       "      <td>0.000000e+00</td>\n",
       "      <td>54.572</td>\n",
       "      <td>NaN</td>\n",
       "      <td>1.761898</td>\n",
       "      <td>NaN</td>\n",
       "      <td>23.907</td>\n",
       "    </tr>\n",
       "    <tr>\n",
       "      <th>4</th>\n",
       "      <td>1964</td>\n",
       "      <td>2.200000</td>\n",
       "      <td>ARE</td>\n",
       "      <td>United Arab Emirates</td>\n",
       "      <td>NaN</td>\n",
       "      <td>0.036222</td>\n",
       "      <td>NaN</td>\n",
       "      <td>4.41</td>\n",
       "      <td>NaN</td>\n",
       "      <td>NaN</td>\n",
       "      <td>0.000000e+00</td>\n",
       "      <td>55.555</td>\n",
       "      <td>NaN</td>\n",
       "      <td>1.943664</td>\n",
       "      <td>NaN</td>\n",
       "      <td>23.081</td>\n",
       "    </tr>\n",
       "    <tr>\n",
       "      <th>...</th>\n",
       "      <td>...</td>\n",
       "      <td>...</td>\n",
       "      <td>...</td>\n",
       "      <td>...</td>\n",
       "      <td>...</td>\n",
       "      <td>...</td>\n",
       "      <td>...</td>\n",
       "      <td>...</td>\n",
       "      <td>...</td>\n",
       "      <td>...</td>\n",
       "      <td>...</td>\n",
       "      <td>...</td>\n",
       "      <td>...</td>\n",
       "      <td>...</td>\n",
       "      <td>...</td>\n",
       "      <td>...</td>\n",
       "    </tr>\n",
       "    <tr>\n",
       "      <th>4915</th>\n",
       "      <td>2015</td>\n",
       "      <td>0.796107</td>\n",
       "      <td>ZWE</td>\n",
       "      <td>Zimbabwe</td>\n",
       "      <td>0.796107</td>\n",
       "      <td>0.289548</td>\n",
       "      <td>558.2</td>\n",
       "      <td>83.42</td>\n",
       "      <td>1.779873</td>\n",
       "      <td>1234.103352</td>\n",
       "      <td>1.197046e+07</td>\n",
       "      <td>59.534</td>\n",
       "      <td>92.347105</td>\n",
       "      <td>35.710557</td>\n",
       "      <td>1.91</td>\n",
       "      <td>67.615</td>\n",
       "    </tr>\n",
       "    <tr>\n",
       "      <th>4916</th>\n",
       "      <td>2016</td>\n",
       "      <td>0.804947</td>\n",
       "      <td>ZWE</td>\n",
       "      <td>Zimbabwe</td>\n",
       "      <td>0.804947</td>\n",
       "      <td>0.285095</td>\n",
       "      <td>581.8</td>\n",
       "      <td>88.75</td>\n",
       "      <td>0.755869</td>\n",
       "      <td>1224.309922</td>\n",
       "      <td>4.008604e+07</td>\n",
       "      <td>60.294</td>\n",
       "      <td>91.793458</td>\n",
       "      <td>36.268295</td>\n",
       "      <td>1.91</td>\n",
       "      <td>67.704</td>\n",
       "    </tr>\n",
       "    <tr>\n",
       "      <th>4917</th>\n",
       "      <td>2017</td>\n",
       "      <td>0.665035</td>\n",
       "      <td>ZWE</td>\n",
       "      <td>Zimbabwe</td>\n",
       "      <td>0.665035</td>\n",
       "      <td>NaN</td>\n",
       "      <td>616.0</td>\n",
       "      <td>NaN</td>\n",
       "      <td>4.704035</td>\n",
       "      <td>1263.321322</td>\n",
       "      <td>2.992663e+07</td>\n",
       "      <td>60.812</td>\n",
       "      <td>98.985073</td>\n",
       "      <td>36.801719</td>\n",
       "      <td>1.91</td>\n",
       "      <td>67.763</td>\n",
       "    </tr>\n",
       "    <tr>\n",
       "      <th>4918</th>\n",
       "      <td>2018</td>\n",
       "      <td>0.665035</td>\n",
       "      <td>ZWE</td>\n",
       "      <td>Zimbabwe</td>\n",
       "      <td>0.665035</td>\n",
       "      <td>NaN</td>\n",
       "      <td>NaN</td>\n",
       "      <td>NaN</td>\n",
       "      <td>6.159190</td>\n",
       "      <td>1322.344063</td>\n",
       "      <td>2.163715e+07</td>\n",
       "      <td>NaN</td>\n",
       "      <td>89.404869</td>\n",
       "      <td>37.324591</td>\n",
       "      <td>NaN</td>\n",
       "      <td>67.791</td>\n",
       "    </tr>\n",
       "    <tr>\n",
       "      <th>4919</th>\n",
       "      <td>2019</td>\n",
       "      <td>0.733386</td>\n",
       "      <td>ZWE</td>\n",
       "      <td>Zimbabwe</td>\n",
       "      <td>NaN</td>\n",
       "      <td>NaN</td>\n",
       "      <td>NaN</td>\n",
       "      <td>NaN</td>\n",
       "      <td>NaN</td>\n",
       "      <td>NaN</td>\n",
       "      <td>0.000000e+00</td>\n",
       "      <td>NaN</td>\n",
       "      <td>NaN</td>\n",
       "      <td>NaN</td>\n",
       "      <td>NaN</td>\n",
       "      <td>NaN</td>\n",
       "    </tr>\n",
       "  </tbody>\n",
       "</table>\n",
       "<p>4920 rows × 16 columns</p>\n",
       "</div>"
      ],
      "text/plain": [
       "      Year  Air transport, freight (million ton-km)_x Country Code  \\\n",
       "0     1960                                   2.200000          ARE   \n",
       "1     1961                                   2.200000          ARE   \n",
       "2     1962                                   2.200000          ARE   \n",
       "3     1963                                   2.200000          ARE   \n",
       "4     1964                                   2.200000          ARE   \n",
       "...    ...                                        ...          ...   \n",
       "4915  2015                                   0.796107          ZWE   \n",
       "4916  2016                                   0.804947          ZWE   \n",
       "4917  2017                                   0.665035          ZWE   \n",
       "4918  2018                                   0.665035          ZWE   \n",
       "4919  2019                                   0.733386          ZWE   \n",
       "\n",
       "              Country Name  Air transport, freight (million ton-km)_y  \\\n",
       "0     United Arab Emirates                                        NaN   \n",
       "1     United Arab Emirates                                        NaN   \n",
       "2     United Arab Emirates                                        NaN   \n",
       "3     United Arab Emirates                                        NaN   \n",
       "4     United Arab Emirates                                        NaN   \n",
       "...                    ...                                        ...   \n",
       "4915              Zimbabwe                                   0.796107   \n",
       "4916              Zimbabwe                                   0.804947   \n",
       "4917              Zimbabwe                                   0.665035   \n",
       "4918              Zimbabwe                                   0.665035   \n",
       "4919              Zimbabwe                                        NaN   \n",
       "\n",
       "      Arable land (hectares per person)  Cereal yield (kg per hectare)  \\\n",
       "0                                   NaN                            NaN   \n",
       "1                              0.049605                            NaN   \n",
       "2                              0.044596                            NaN   \n",
       "3                              0.039958                            NaN   \n",
       "4                              0.036222                            NaN   \n",
       "...                                 ...                            ...   \n",
       "4915                           0.289548                          558.2   \n",
       "4916                           0.285095                          581.8   \n",
       "4917                                NaN                          616.0   \n",
       "4918                                NaN                            NaN   \n",
       "4919                                NaN                            NaN   \n",
       "\n",
       "      Food production index (2004-2006 = 100)  GDP growth (annual %)  \\\n",
       "0                                         NaN                    NaN   \n",
       "1                                        4.07                    NaN   \n",
       "2                                        4.13                    NaN   \n",
       "3                                        4.26                    NaN   \n",
       "4                                        4.41                    NaN   \n",
       "...                                       ...                    ...   \n",
       "4915                                    83.42               1.779873   \n",
       "4916                                    88.75               0.755869   \n",
       "4917                                      NaN               4.704035   \n",
       "4918                                      NaN               6.159190   \n",
       "4919                                      NaN                    NaN   \n",
       "\n",
       "      GDP per capita (constant 2010 US$)  Net flows from UN agencies US$  \\\n",
       "0                                    NaN                    0.000000e+00   \n",
       "1                                    NaN                    0.000000e+00   \n",
       "2                                    NaN                    0.000000e+00   \n",
       "3                                    NaN                    0.000000e+00   \n",
       "4                                    NaN                    0.000000e+00   \n",
       "...                                  ...                             ...   \n",
       "4915                         1234.103352                    1.197046e+07   \n",
       "4916                         1224.309922                    4.008604e+07   \n",
       "4917                         1263.321322                    2.992663e+07   \n",
       "4918                         1322.344063                    2.163715e+07   \n",
       "4919                                 NaN                    0.000000e+00   \n",
       "\n",
       "      Life expectancy at birth, total (years)  \\\n",
       "0                                      51.537   \n",
       "1                                      52.560   \n",
       "2                                      53.573   \n",
       "3                                      54.572   \n",
       "4                                      55.555   \n",
       "...                                       ...   \n",
       "4915                                   59.534   \n",
       "4916                                   60.294   \n",
       "4917                                   60.812   \n",
       "4918                                      NaN   \n",
       "4919                                      NaN   \n",
       "\n",
       "      Mobile cellular subscriptions (per 100 people)  \\\n",
       "0                                                NaN   \n",
       "1                                                NaN   \n",
       "2                                                NaN   \n",
       "3                                                NaN   \n",
       "4                                                NaN   \n",
       "...                                              ...   \n",
       "4915                                       92.347105   \n",
       "4916                                       91.793458   \n",
       "4917                                       98.985073   \n",
       "4918                                       89.404869   \n",
       "4919                                             NaN   \n",
       "\n",
       "      Population density (people per sq. km of land area)  \\\n",
       "0                                                   NaN     \n",
       "1                                              1.419262     \n",
       "2                                              1.578682     \n",
       "3                                              1.761898     \n",
       "4                                              1.943664     \n",
       "...                                                 ...     \n",
       "4915                                          35.710557     \n",
       "4916                                          36.268295     \n",
       "4917                                          36.801719     \n",
       "4918                                          37.324591     \n",
       "4919                                                NaN     \n",
       "\n",
       "      Adjusted savings: education expenditure (% of GNI)  \\\n",
       "0                                                   NaN    \n",
       "1                                                   NaN    \n",
       "2                                                   NaN    \n",
       "3                                                   NaN    \n",
       "4                                                   NaN    \n",
       "...                                                 ...    \n",
       "4915                                               1.91    \n",
       "4916                                               1.91    \n",
       "4917                                               1.91    \n",
       "4918                                                NaN    \n",
       "4919                                                NaN    \n",
       "\n",
       "      Rural population (% of total population)  \n",
       "0                                       26.500  \n",
       "1                                       25.617  \n",
       "2                                       24.752  \n",
       "3                                       23.907  \n",
       "4                                       23.081  \n",
       "...                                        ...  \n",
       "4915                                    67.615  \n",
       "4916                                    67.704  \n",
       "4917                                    67.763  \n",
       "4918                                    67.791  \n",
       "4919                                       NaN  \n",
       "\n",
       "[4920 rows x 16 columns]"
      ]
     },
     "execution_count": 60,
     "metadata": {},
     "output_type": "execute_result"
    }
   ],
   "source": [
    "(fill_values(ds_cy,features_nulls[1]).reset_index()\n",
    "                                  .merge(ds_cy, how = \"inner\", on = [\"Year\", \"Country Code\"]))"
   ]
  },
  {
   "cell_type": "code",
   "execution_count": 61,
   "metadata": {},
   "outputs": [
    {
     "data": {
      "text/plain": [
       "(4920, 15)"
      ]
     },
     "execution_count": 61,
     "metadata": {},
     "output_type": "execute_result"
    }
   ],
   "source": [
    "ds_cy.shape"
   ]
  },
  {
   "cell_type": "markdown",
   "metadata": {},
   "source": [
    "**It worked for one feature and all countries!** Lets iterate through features_nulls then. But first let us select the relevant features from the nulls, i.e. all of them except the first one:"
   ]
  },
  {
   "cell_type": "code",
   "execution_count": 62,
   "metadata": {},
   "outputs": [
    {
     "data": {
      "text/plain": [
       "['Adjusted savings: education expenditure (% of GNI)',\n",
       " 'Air transport, freight (million ton-km)',\n",
       " 'Arable land (hectares per person)',\n",
       " 'Cereal yield (kg per hectare)',\n",
       " 'Food production index (2004-2006 = 100)',\n",
       " 'GDP growth (annual %)',\n",
       " 'GDP per capita (constant 2010 US$)',\n",
       " 'Life expectancy at birth, total (years)',\n",
       " 'Mobile cellular subscriptions (per 100 people)',\n",
       " 'Population density (people per sq. km of land area)',\n",
       " 'Rural population (% of total population)']"
      ]
     },
     "execution_count": 62,
     "metadata": {},
     "output_type": "execute_result"
    }
   ],
   "source": [
    " features_nulls"
   ]
  },
  {
   "cell_type": "code",
   "execution_count": 63,
   "metadata": {},
   "outputs": [],
   "source": [
    "#getting rid from 'Air transport, freight (million ton-km)' which lacks so much data\n",
    "del features_nulls[1]"
   ]
  },
  {
   "cell_type": "code",
   "execution_count": 64,
   "metadata": {},
   "outputs": [
    {
     "data": {
      "text/plain": [
       "['Adjusted savings: education expenditure (% of GNI)',\n",
       " 'Arable land (hectares per person)',\n",
       " 'Cereal yield (kg per hectare)',\n",
       " 'Food production index (2004-2006 = 100)',\n",
       " 'GDP growth (annual %)',\n",
       " 'GDP per capita (constant 2010 US$)',\n",
       " 'Life expectancy at birth, total (years)',\n",
       " 'Mobile cellular subscriptions (per 100 people)',\n",
       " 'Population density (people per sq. km of land area)',\n",
       " 'Rural population (% of total population)']"
      ]
     },
     "execution_count": 64,
     "metadata": {},
     "output_type": "execute_result"
    }
   ],
   "source": [
    "features_nulls"
   ]
  },
  {
   "cell_type": "markdown",
   "metadata": {},
   "source": [
    "## Filling many at once: Step by step\n",
    "\n",
    "1. We create an auxiliary data set containing all the country codes, names and all the years to work as a foundational data set:"
   ]
  },
  {
   "cell_type": "code",
   "execution_count": 65,
   "metadata": {},
   "outputs": [],
   "source": [
    "#This will be the copy of our data set \n",
    "complete_ds = ds_cy[[\"Year\", \"Country Code\", \"Country Name\"]].copy()\n"
   ]
  },
  {
   "cell_type": "markdown",
   "metadata": {},
   "source": [
    "2. We iterate through the features in ``features_nulls_new``applying our function ``fill_values``:"
   ]
  },
  {
   "cell_type": "code",
   "execution_count": 66,
   "metadata": {},
   "outputs": [],
   "source": [
    "for feature in features_nulls:\n",
    "    complete_ds = (fill_values(ds_cy,feature).reset_index()\n",
    "                                          .merge(complete_ds, how = \"left\", on = [\"Year\", \"Country Code\"]))\n",
    "    \n",
    "    "
   ]
  },
  {
   "cell_type": "markdown",
   "metadata": {},
   "source": [
    "Let us have a look of our completed dataset:"
   ]
  },
  {
   "cell_type": "code",
   "execution_count": 67,
   "metadata": {},
   "outputs": [
    {
     "data": {
      "text/html": [
       "<div>\n",
       "<style scoped>\n",
       "    .dataframe tbody tr th:only-of-type {\n",
       "        vertical-align: middle;\n",
       "    }\n",
       "\n",
       "    .dataframe tbody tr th {\n",
       "        vertical-align: top;\n",
       "    }\n",
       "\n",
       "    .dataframe thead th {\n",
       "        text-align: right;\n",
       "    }\n",
       "</style>\n",
       "<table border=\"1\" class=\"dataframe\">\n",
       "  <thead>\n",
       "    <tr style=\"text-align: right;\">\n",
       "      <th></th>\n",
       "      <th>Year</th>\n",
       "      <th>Rural population (% of total population)</th>\n",
       "      <th>Country Code</th>\n",
       "      <th>Population density (people per sq. km of land area)</th>\n",
       "      <th>Mobile cellular subscriptions (per 100 people)</th>\n",
       "      <th>Life expectancy at birth, total (years)</th>\n",
       "      <th>GDP per capita (constant 2010 US$)</th>\n",
       "      <th>GDP growth (annual %)</th>\n",
       "      <th>Food production index (2004-2006 = 100)</th>\n",
       "      <th>Cereal yield (kg per hectare)</th>\n",
       "      <th>Arable land (hectares per person)</th>\n",
       "      <th>Adjusted savings: education expenditure (% of GNI)</th>\n",
       "      <th>Country Name</th>\n",
       "    </tr>\n",
       "  </thead>\n",
       "  <tbody>\n",
       "    <tr>\n",
       "      <th>0</th>\n",
       "      <td>1960</td>\n",
       "      <td>26.500</td>\n",
       "      <td>ARE</td>\n",
       "      <td>1.419262</td>\n",
       "      <td>0.200033</td>\n",
       "      <td>51.537</td>\n",
       "      <td>103604.9068</td>\n",
       "      <td>16.526857</td>\n",
       "      <td>4.07</td>\n",
       "      <td>1166.7</td>\n",
       "      <td>0.049605</td>\n",
       "      <td>NaN</td>\n",
       "      <td>United Arab Emirates</td>\n",
       "    </tr>\n",
       "    <tr>\n",
       "      <th>1</th>\n",
       "      <td>1961</td>\n",
       "      <td>25.617</td>\n",
       "      <td>ARE</td>\n",
       "      <td>1.419262</td>\n",
       "      <td>0.200033</td>\n",
       "      <td>52.560</td>\n",
       "      <td>103604.9068</td>\n",
       "      <td>16.526857</td>\n",
       "      <td>4.07</td>\n",
       "      <td>1166.7</td>\n",
       "      <td>0.049605</td>\n",
       "      <td>NaN</td>\n",
       "      <td>United Arab Emirates</td>\n",
       "    </tr>\n",
       "    <tr>\n",
       "      <th>2</th>\n",
       "      <td>1962</td>\n",
       "      <td>24.752</td>\n",
       "      <td>ARE</td>\n",
       "      <td>1.578682</td>\n",
       "      <td>0.200033</td>\n",
       "      <td>53.573</td>\n",
       "      <td>103604.9068</td>\n",
       "      <td>16.526857</td>\n",
       "      <td>4.13</td>\n",
       "      <td>1166.7</td>\n",
       "      <td>0.044596</td>\n",
       "      <td>NaN</td>\n",
       "      <td>United Arab Emirates</td>\n",
       "    </tr>\n",
       "    <tr>\n",
       "      <th>3</th>\n",
       "      <td>1963</td>\n",
       "      <td>23.907</td>\n",
       "      <td>ARE</td>\n",
       "      <td>1.761898</td>\n",
       "      <td>0.200033</td>\n",
       "      <td>54.572</td>\n",
       "      <td>103604.9068</td>\n",
       "      <td>16.526857</td>\n",
       "      <td>4.26</td>\n",
       "      <td>1166.7</td>\n",
       "      <td>0.039958</td>\n",
       "      <td>NaN</td>\n",
       "      <td>United Arab Emirates</td>\n",
       "    </tr>\n",
       "    <tr>\n",
       "      <th>4</th>\n",
       "      <td>1964</td>\n",
       "      <td>23.081</td>\n",
       "      <td>ARE</td>\n",
       "      <td>1.943664</td>\n",
       "      <td>0.200033</td>\n",
       "      <td>55.555</td>\n",
       "      <td>103604.9068</td>\n",
       "      <td>16.526857</td>\n",
       "      <td>4.41</td>\n",
       "      <td>1166.7</td>\n",
       "      <td>0.036222</td>\n",
       "      <td>NaN</td>\n",
       "      <td>United Arab Emirates</td>\n",
       "    </tr>\n",
       "  </tbody>\n",
       "</table>\n",
       "</div>"
      ],
      "text/plain": [
       "   Year  Rural population (% of total population) Country Code  \\\n",
       "0  1960                                    26.500          ARE   \n",
       "1  1961                                    25.617          ARE   \n",
       "2  1962                                    24.752          ARE   \n",
       "3  1963                                    23.907          ARE   \n",
       "4  1964                                    23.081          ARE   \n",
       "\n",
       "   Population density (people per sq. km of land area)  \\\n",
       "0                                           1.419262     \n",
       "1                                           1.419262     \n",
       "2                                           1.578682     \n",
       "3                                           1.761898     \n",
       "4                                           1.943664     \n",
       "\n",
       "   Mobile cellular subscriptions (per 100 people)  \\\n",
       "0                                        0.200033   \n",
       "1                                        0.200033   \n",
       "2                                        0.200033   \n",
       "3                                        0.200033   \n",
       "4                                        0.200033   \n",
       "\n",
       "   Life expectancy at birth, total (years)  \\\n",
       "0                                   51.537   \n",
       "1                                   52.560   \n",
       "2                                   53.573   \n",
       "3                                   54.572   \n",
       "4                                   55.555   \n",
       "\n",
       "   GDP per capita (constant 2010 US$)  GDP growth (annual %)  \\\n",
       "0                         103604.9068              16.526857   \n",
       "1                         103604.9068              16.526857   \n",
       "2                         103604.9068              16.526857   \n",
       "3                         103604.9068              16.526857   \n",
       "4                         103604.9068              16.526857   \n",
       "\n",
       "   Food production index (2004-2006 = 100)  Cereal yield (kg per hectare)  \\\n",
       "0                                     4.07                         1166.7   \n",
       "1                                     4.07                         1166.7   \n",
       "2                                     4.13                         1166.7   \n",
       "3                                     4.26                         1166.7   \n",
       "4                                     4.41                         1166.7   \n",
       "\n",
       "   Arable land (hectares per person)  \\\n",
       "0                           0.049605   \n",
       "1                           0.049605   \n",
       "2                           0.044596   \n",
       "3                           0.039958   \n",
       "4                           0.036222   \n",
       "\n",
       "   Adjusted savings: education expenditure (% of GNI)          Country Name  \n",
       "0                                                NaN   United Arab Emirates  \n",
       "1                                                NaN   United Arab Emirates  \n",
       "2                                                NaN   United Arab Emirates  \n",
       "3                                                NaN   United Arab Emirates  \n",
       "4                                                NaN   United Arab Emirates  "
      ]
     },
     "execution_count": 67,
     "metadata": {},
     "output_type": "execute_result"
    }
   ],
   "source": [
    "complete_ds.head()"
   ]
  },
  {
   "cell_type": "markdown",
   "metadata": {},
   "source": [
    "3. Just cosmetic changes: First we will reorganize the columns."
   ]
  },
  {
   "cell_type": "code",
   "execution_count": 68,
   "metadata": {},
   "outputs": [],
   "source": [
    "#select the columns and store them in a set\n",
    "colls = set(complete_ds.columns)"
   ]
  },
  {
   "cell_type": "code",
   "execution_count": 69,
   "metadata": {},
   "outputs": [],
   "source": [
    "#select the original columns and store them in a set\n",
    "original_cols = set(ds_cy.columns)"
   ]
  },
  {
   "cell_type": "code",
   "execution_count": 70,
   "metadata": {},
   "outputs": [],
   "source": [
    "#get the columns that are in original_cols but not in complete_ds\n",
    "original_cols = list(original_cols.difference(colls))"
   ]
  },
  {
   "cell_type": "markdown",
   "metadata": {},
   "source": [
    "4. Finally we merge a copy of the original data set with the untouched features with the features we filled:"
   ]
  },
  {
   "cell_type": "code",
   "execution_count": 71,
   "metadata": {},
   "outputs": [],
   "source": [
    "final = ds_cy[[\"Year\", \"Country Code\", \"Country Name\"] +  original_cols].merge(complete_ds, on = [\"Year\", \"Country Code\", \"Country Name\"], how = \"inner\")"
   ]
  },
  {
   "cell_type": "markdown",
   "metadata": {},
   "source": [
    "And lastly we make some cosmetic changes and rearrangements:"
   ]
  },
  {
   "cell_type": "code",
   "execution_count": 72,
   "metadata": {},
   "outputs": [],
   "source": [
    "#listing all the columns and sorting by alphabetic order\n",
    "cols = list(final.columns)\n",
    "cols.sort()"
   ]
  },
  {
   "cell_type": "code",
   "execution_count": 73,
   "metadata": {},
   "outputs": [],
   "source": [
    "final = final[cols]"
   ]
  },
  {
   "cell_type": "code",
   "execution_count": 74,
   "metadata": {},
   "outputs": [],
   "source": [
    "#Arranging the data set to begin with year, country code and name\n",
    "final = final[['Year', 'Country Code', 'Country Name','Air transport, freight (million ton-km)',\n",
    "       'Arable land (hectares per person)', 'Cereal yield (kg per hectare)',\n",
    "       'Food production index (2004-2006 = 100)', 'GDP growth (annual %)',\n",
    "       'GDP per capita (constant 2010 US$)',\n",
    "       'Net flows from UN agencies US$',\n",
    "       'Life expectancy at birth, total (years)',\n",
    "       'Mobile cellular subscriptions (per 100 people)',\n",
    "       'Population density (people per sq. km of land area)',\n",
    "       'Adjusted savings: education expenditure (% of GNI)',\n",
    "       'Rural population (% of total population)']]"
   ]
  },
  {
   "cell_type": "code",
   "execution_count": 75,
   "metadata": {},
   "outputs": [
    {
     "data": {
      "text/html": [
       "<div>\n",
       "<style scoped>\n",
       "    .dataframe tbody tr th:only-of-type {\n",
       "        vertical-align: middle;\n",
       "    }\n",
       "\n",
       "    .dataframe tbody tr th {\n",
       "        vertical-align: top;\n",
       "    }\n",
       "\n",
       "    .dataframe thead th {\n",
       "        text-align: right;\n",
       "    }\n",
       "</style>\n",
       "<table border=\"1\" class=\"dataframe\">\n",
       "  <thead>\n",
       "    <tr style=\"text-align: right;\">\n",
       "      <th></th>\n",
       "      <th>Year</th>\n",
       "      <th>Country Code</th>\n",
       "      <th>Country Name</th>\n",
       "      <th>Air transport, freight (million ton-km)</th>\n",
       "      <th>Arable land (hectares per person)</th>\n",
       "      <th>Cereal yield (kg per hectare)</th>\n",
       "      <th>Food production index (2004-2006 = 100)</th>\n",
       "      <th>GDP growth (annual %)</th>\n",
       "      <th>GDP per capita (constant 2010 US$)</th>\n",
       "      <th>Net flows from UN agencies US$</th>\n",
       "      <th>Life expectancy at birth, total (years)</th>\n",
       "      <th>Mobile cellular subscriptions (per 100 people)</th>\n",
       "      <th>Population density (people per sq. km of land area)</th>\n",
       "      <th>Adjusted savings: education expenditure (% of GNI)</th>\n",
       "      <th>Rural population (% of total population)</th>\n",
       "    </tr>\n",
       "  </thead>\n",
       "  <tbody>\n",
       "    <tr>\n",
       "      <th>0</th>\n",
       "      <td>1960</td>\n",
       "      <td>ARE</td>\n",
       "      <td>United Arab Emirates</td>\n",
       "      <td>NaN</td>\n",
       "      <td>0.049605</td>\n",
       "      <td>1166.7</td>\n",
       "      <td>4.07</td>\n",
       "      <td>16.526857</td>\n",
       "      <td>103604.9068</td>\n",
       "      <td>0.0</td>\n",
       "      <td>51.537</td>\n",
       "      <td>0.200033</td>\n",
       "      <td>1.419262</td>\n",
       "      <td>NaN</td>\n",
       "      <td>26.500</td>\n",
       "    </tr>\n",
       "    <tr>\n",
       "      <th>1</th>\n",
       "      <td>1961</td>\n",
       "      <td>ARE</td>\n",
       "      <td>United Arab Emirates</td>\n",
       "      <td>NaN</td>\n",
       "      <td>0.049605</td>\n",
       "      <td>1166.7</td>\n",
       "      <td>4.07</td>\n",
       "      <td>16.526857</td>\n",
       "      <td>103604.9068</td>\n",
       "      <td>0.0</td>\n",
       "      <td>52.560</td>\n",
       "      <td>0.200033</td>\n",
       "      <td>1.419262</td>\n",
       "      <td>NaN</td>\n",
       "      <td>25.617</td>\n",
       "    </tr>\n",
       "    <tr>\n",
       "      <th>2</th>\n",
       "      <td>1962</td>\n",
       "      <td>ARE</td>\n",
       "      <td>United Arab Emirates</td>\n",
       "      <td>NaN</td>\n",
       "      <td>0.044596</td>\n",
       "      <td>1166.7</td>\n",
       "      <td>4.13</td>\n",
       "      <td>16.526857</td>\n",
       "      <td>103604.9068</td>\n",
       "      <td>0.0</td>\n",
       "      <td>53.573</td>\n",
       "      <td>0.200033</td>\n",
       "      <td>1.578682</td>\n",
       "      <td>NaN</td>\n",
       "      <td>24.752</td>\n",
       "    </tr>\n",
       "    <tr>\n",
       "      <th>3</th>\n",
       "      <td>1963</td>\n",
       "      <td>ARE</td>\n",
       "      <td>United Arab Emirates</td>\n",
       "      <td>NaN</td>\n",
       "      <td>0.039958</td>\n",
       "      <td>1166.7</td>\n",
       "      <td>4.26</td>\n",
       "      <td>16.526857</td>\n",
       "      <td>103604.9068</td>\n",
       "      <td>0.0</td>\n",
       "      <td>54.572</td>\n",
       "      <td>0.200033</td>\n",
       "      <td>1.761898</td>\n",
       "      <td>NaN</td>\n",
       "      <td>23.907</td>\n",
       "    </tr>\n",
       "    <tr>\n",
       "      <th>4</th>\n",
       "      <td>1964</td>\n",
       "      <td>ARE</td>\n",
       "      <td>United Arab Emirates</td>\n",
       "      <td>NaN</td>\n",
       "      <td>0.036222</td>\n",
       "      <td>1166.7</td>\n",
       "      <td>4.41</td>\n",
       "      <td>16.526857</td>\n",
       "      <td>103604.9068</td>\n",
       "      <td>0.0</td>\n",
       "      <td>55.555</td>\n",
       "      <td>0.200033</td>\n",
       "      <td>1.943664</td>\n",
       "      <td>NaN</td>\n",
       "      <td>23.081</td>\n",
       "    </tr>\n",
       "  </tbody>\n",
       "</table>\n",
       "</div>"
      ],
      "text/plain": [
       "   Year Country Code          Country Name  \\\n",
       "0  1960          ARE  United Arab Emirates   \n",
       "1  1961          ARE  United Arab Emirates   \n",
       "2  1962          ARE  United Arab Emirates   \n",
       "3  1963          ARE  United Arab Emirates   \n",
       "4  1964          ARE  United Arab Emirates   \n",
       "\n",
       "   Air transport, freight (million ton-km)  Arable land (hectares per person)  \\\n",
       "0                                      NaN                           0.049605   \n",
       "1                                      NaN                           0.049605   \n",
       "2                                      NaN                           0.044596   \n",
       "3                                      NaN                           0.039958   \n",
       "4                                      NaN                           0.036222   \n",
       "\n",
       "   Cereal yield (kg per hectare)  Food production index (2004-2006 = 100)  \\\n",
       "0                         1166.7                                     4.07   \n",
       "1                         1166.7                                     4.07   \n",
       "2                         1166.7                                     4.13   \n",
       "3                         1166.7                                     4.26   \n",
       "4                         1166.7                                     4.41   \n",
       "\n",
       "   GDP growth (annual %)  GDP per capita (constant 2010 US$)  \\\n",
       "0              16.526857                         103604.9068   \n",
       "1              16.526857                         103604.9068   \n",
       "2              16.526857                         103604.9068   \n",
       "3              16.526857                         103604.9068   \n",
       "4              16.526857                         103604.9068   \n",
       "\n",
       "   Net flows from UN agencies US$  Life expectancy at birth, total (years)  \\\n",
       "0                             0.0                                   51.537   \n",
       "1                             0.0                                   52.560   \n",
       "2                             0.0                                   53.573   \n",
       "3                             0.0                                   54.572   \n",
       "4                             0.0                                   55.555   \n",
       "\n",
       "   Mobile cellular subscriptions (per 100 people)  \\\n",
       "0                                        0.200033   \n",
       "1                                        0.200033   \n",
       "2                                        0.200033   \n",
       "3                                        0.200033   \n",
       "4                                        0.200033   \n",
       "\n",
       "   Population density (people per sq. km of land area)  \\\n",
       "0                                           1.419262     \n",
       "1                                           1.419262     \n",
       "2                                           1.578682     \n",
       "3                                           1.761898     \n",
       "4                                           1.943664     \n",
       "\n",
       "   Adjusted savings: education expenditure (% of GNI)  \\\n",
       "0                                                NaN    \n",
       "1                                                NaN    \n",
       "2                                                NaN    \n",
       "3                                                NaN    \n",
       "4                                                NaN    \n",
       "\n",
       "   Rural population (% of total population)  \n",
       "0                                    26.500  \n",
       "1                                    25.617  \n",
       "2                                    24.752  \n",
       "3                                    23.907  \n",
       "4                                    23.081  "
      ]
     },
     "execution_count": 75,
     "metadata": {},
     "output_type": "execute_result"
    }
   ],
   "source": [
    "final.head()"
   ]
  },
  {
   "cell_type": "markdown",
   "metadata": {},
   "source": [
    "Obviously, as we didn't touch the column ``Air transport freight`` we have still some nulls and also, in some countries for which we didn't have any year."
   ]
  },
  {
   "cell_type": "code",
   "execution_count": 76,
   "metadata": {},
   "outputs": [
    {
     "data": {
      "text/html": [
       "<div>\n",
       "<style scoped>\n",
       "    .dataframe tbody tr th:only-of-type {\n",
       "        vertical-align: middle;\n",
       "    }\n",
       "\n",
       "    .dataframe tbody tr th {\n",
       "        vertical-align: top;\n",
       "    }\n",
       "\n",
       "    .dataframe thead th {\n",
       "        text-align: right;\n",
       "    }\n",
       "</style>\n",
       "<table border=\"1\" class=\"dataframe\">\n",
       "  <thead>\n",
       "    <tr style=\"text-align: right;\">\n",
       "      <th></th>\n",
       "      <th>Feature</th>\n",
       "      <th>% Null rows</th>\n",
       "    </tr>\n",
       "  </thead>\n",
       "  <tbody>\n",
       "    <tr>\n",
       "      <th>0</th>\n",
       "      <td>Air transport, freight (million ton-km)</td>\n",
       "      <td>34.308943</td>\n",
       "    </tr>\n",
       "    <tr>\n",
       "      <th>1</th>\n",
       "      <td>Adjusted savings: education expenditure (% of ...</td>\n",
       "      <td>3.658537</td>\n",
       "    </tr>\n",
       "    <tr>\n",
       "      <th>2</th>\n",
       "      <td>GDP per capita (constant 2010 US$)</td>\n",
       "      <td>3.658537</td>\n",
       "    </tr>\n",
       "    <tr>\n",
       "      <th>3</th>\n",
       "      <td>Cereal yield (kg per hectare)</td>\n",
       "      <td>3.658537</td>\n",
       "    </tr>\n",
       "    <tr>\n",
       "      <th>4</th>\n",
       "      <td>GDP growth (annual %)</td>\n",
       "      <td>1.991870</td>\n",
       "    </tr>\n",
       "  </tbody>\n",
       "</table>\n",
       "</div>"
      ],
      "text/plain": [
       "                                             Feature  % Null rows\n",
       "0            Air transport, freight (million ton-km)    34.308943\n",
       "1  Adjusted savings: education expenditure (% of ...     3.658537\n",
       "2                 GDP per capita (constant 2010 US$)     3.658537\n",
       "3                      Cereal yield (kg per hectare)     3.658537\n",
       "4                              GDP growth (annual %)     1.991870"
      ]
     },
     "execution_count": 76,
     "metadata": {},
     "output_type": "execute_result"
    }
   ],
   "source": [
    "null_cols(final)"
   ]
  },
  {
   "cell_type": "markdown",
   "metadata": {},
   "source": [
    "5. Which are the countries with missing data from the columns above:"
   ]
  },
  {
   "cell_type": "code",
   "execution_count": 77,
   "metadata": {},
   "outputs": [
    {
     "data": {
      "text/plain": [
       "New Caledonia                60\n",
       "Korea, Dem. People’s Rep.    60\n",
       "Somalia                      60\n",
       "Name: Country Name, dtype: int64"
      ]
     },
     "execution_count": 77,
     "metadata": {},
     "output_type": "execute_result"
    }
   ],
   "source": [
    "final[final[\"GDP per capita (constant 2010 US$)\"].isna()][\"Country Name\"].value_counts()"
   ]
  },
  {
   "cell_type": "markdown",
   "metadata": {},
   "source": [
    "All data for North Korea, New Caledonia and Somalia."
   ]
  },
  {
   "cell_type": "code",
   "execution_count": 78,
   "metadata": {},
   "outputs": [
    {
     "data": {
      "text/plain": [
       "Samoa        60\n",
       "Iceland      60\n",
       "Greenland    60\n",
       "Name: Country Name, dtype: int64"
      ]
     },
     "execution_count": 78,
     "metadata": {},
     "output_type": "execute_result"
    }
   ],
   "source": [
    "final[final[\"Cereal yield (kg per hectare)\"].isna()][\"Country Name\"].value_counts()"
   ]
  },
  {
   "cell_type": "markdown",
   "metadata": {},
   "source": [
    "Same for this indicator: No data for Greenland, Samoa and Iceland."
   ]
  },
  {
   "cell_type": "code",
   "execution_count": 79,
   "metadata": {},
   "outputs": [
    {
     "data": {
      "text/plain": [
       "Korea, Dem. People’s Rep.    60\n",
       "Somalia                      24\n",
       "New Caledonia                14\n",
       "Name: Country Name, dtype: int64"
      ]
     },
     "execution_count": 79,
     "metadata": {},
     "output_type": "execute_result"
    }
   ],
   "source": [
    "final[final[\"GDP growth (annual %)\"].isna()][\"Country Name\"].value_counts()"
   ]
  },
  {
   "cell_type": "markdown",
   "metadata": {},
   "source": [
    "No data for North Korea and last 24 and 14 years for Somalia and New Caledonia."
   ]
  },
  {
   "cell_type": "code",
   "execution_count": 80,
   "metadata": {},
   "outputs": [
    {
     "data": {
      "text/plain": [
       "United Arab Emirates         60\n",
       "Korea, Dem. People’s Rep.    60\n",
       "Greenland                    60\n",
       "Name: Country Name, dtype: int64"
      ]
     },
     "execution_count": 80,
     "metadata": {},
     "output_type": "execute_result"
    }
   ],
   "source": [
    "final[final[\"Adjusted savings: education expenditure (% of GNI)\"].isna()][\"Country Name\"].value_counts()"
   ]
  },
  {
   "cell_type": "markdown",
   "metadata": {},
   "source": [
    "No data for Greenland, inferable through Dennmark data though!"
   ]
  },
  {
   "cell_type": "code",
   "execution_count": 81,
   "metadata": {},
   "outputs": [
    {
     "data": {
      "text/plain": [
       "'\\n#obtaining values for Denmark and filling the missing ones:\\ndnk_values = list(ds_new[ds_new[\"Country Code\"]== \"DNK\"][\"Primary school starting age (years)\"].fillna(6))\\n'"
      ]
     },
     "execution_count": 81,
     "metadata": {},
     "output_type": "execute_result"
    }
   ],
   "source": [
    "'''\n",
    "#obtaining values for Denmark and filling the missing ones:\n",
    "dnk_values = list(ds_new[ds_new[\"Country Code\"]== \"DNK\"][\"Primary school starting age (years)\"].fillna(6))\n",
    "'''"
   ]
  },
  {
   "cell_type": "code",
   "execution_count": 82,
   "metadata": {},
   "outputs": [
    {
     "data": {
      "text/plain": [
       "'#obtaining indexes for greenland in final\\nind_green = list(final[final[\"Primary school starting age (years)\"].isna()].index)\\n'"
      ]
     },
     "execution_count": 82,
     "metadata": {},
     "output_type": "execute_result"
    }
   ],
   "source": [
    "'''#obtaining indexes for greenland in final\n",
    "ind_green = list(final[final[\"Primary school starting age (years)\"].isna()].index)\n",
    "'''"
   ]
  },
  {
   "cell_type": "code",
   "execution_count": 83,
   "metadata": {},
   "outputs": [
    {
     "ename": "SyntaxError",
     "evalue": "EOF while scanning triple-quoted string literal (<ipython-input-83-9dbfb59ee881>, line 4)",
     "output_type": "error",
     "traceback": [
      "\u001b[1;36m  File \u001b[1;32m\"<ipython-input-83-9dbfb59ee881>\"\u001b[1;36m, line \u001b[1;32m4\u001b[0m\n\u001b[1;33m    ''''''\u001b[0m\n\u001b[1;37m          \n^\u001b[0m\n\u001b[1;31mSyntaxError\u001b[0m\u001b[1;31m:\u001b[0m EOF while scanning triple-quoted string literal\n"
     ]
    }
   ],
   "source": [
    "'''#inputting the values to Greenland from Dennmark\n",
    "for i in range(len(ind_green)):\n",
    "    final.loc[ind_green[i], \"Primary school starting age (years)\"] = dnk_values[i]\n",
    "''''''"
   ]
  },
  {
   "cell_type": "code",
   "execution_count": 84,
   "metadata": {},
   "outputs": [
    {
     "data": {
      "text/html": [
       "<div>\n",
       "<style scoped>\n",
       "    .dataframe tbody tr th:only-of-type {\n",
       "        vertical-align: middle;\n",
       "    }\n",
       "\n",
       "    .dataframe tbody tr th {\n",
       "        vertical-align: top;\n",
       "    }\n",
       "\n",
       "    .dataframe thead th {\n",
       "        text-align: right;\n",
       "    }\n",
       "</style>\n",
       "<table border=\"1\" class=\"dataframe\">\n",
       "  <thead>\n",
       "    <tr style=\"text-align: right;\">\n",
       "      <th></th>\n",
       "      <th>Feature</th>\n",
       "      <th>% Null rows</th>\n",
       "    </tr>\n",
       "  </thead>\n",
       "  <tbody>\n",
       "    <tr>\n",
       "      <th>0</th>\n",
       "      <td>Air transport, freight (million ton-km)</td>\n",
       "      <td>34.308943</td>\n",
       "    </tr>\n",
       "    <tr>\n",
       "      <th>1</th>\n",
       "      <td>Adjusted savings: education expenditure (% of ...</td>\n",
       "      <td>3.658537</td>\n",
       "    </tr>\n",
       "    <tr>\n",
       "      <th>2</th>\n",
       "      <td>GDP per capita (constant 2010 US$)</td>\n",
       "      <td>3.658537</td>\n",
       "    </tr>\n",
       "    <tr>\n",
       "      <th>3</th>\n",
       "      <td>Cereal yield (kg per hectare)</td>\n",
       "      <td>3.658537</td>\n",
       "    </tr>\n",
       "    <tr>\n",
       "      <th>4</th>\n",
       "      <td>GDP growth (annual %)</td>\n",
       "      <td>1.991870</td>\n",
       "    </tr>\n",
       "  </tbody>\n",
       "</table>\n",
       "</div>"
      ],
      "text/plain": [
       "                                             Feature  % Null rows\n",
       "0            Air transport, freight (million ton-km)    34.308943\n",
       "1  Adjusted savings: education expenditure (% of ...     3.658537\n",
       "2                 GDP per capita (constant 2010 US$)     3.658537\n",
       "3                      Cereal yield (kg per hectare)     3.658537\n",
       "4                              GDP growth (annual %)     1.991870"
      ]
     },
     "execution_count": 84,
     "metadata": {},
     "output_type": "execute_result"
    }
   ],
   "source": [
    "null_cols(final)"
   ]
  },
  {
   "cell_type": "markdown",
   "metadata": {},
   "source": [
    "6. Import the final data set to csv:"
   ]
  },
  {
   "cell_type": "code",
   "execution_count": 85,
   "metadata": {},
   "outputs": [],
   "source": [
    "final.set_index(\"Year\").to_csv(\"Data_output/WBI_final.csv\")"
   ]
  },
  {
   "cell_type": "markdown",
   "metadata": {},
   "source": [
    "Look our data final dataset:"
   ]
  },
  {
   "cell_type": "code",
   "execution_count": 86,
   "metadata": {},
   "outputs": [
    {
     "data": {
      "text/html": [
       "<div>\n",
       "<style scoped>\n",
       "    .dataframe tbody tr th:only-of-type {\n",
       "        vertical-align: middle;\n",
       "    }\n",
       "\n",
       "    .dataframe tbody tr th {\n",
       "        vertical-align: top;\n",
       "    }\n",
       "\n",
       "    .dataframe thead th {\n",
       "        text-align: right;\n",
       "    }\n",
       "</style>\n",
       "<table border=\"1\" class=\"dataframe\">\n",
       "  <thead>\n",
       "    <tr style=\"text-align: right;\">\n",
       "      <th></th>\n",
       "      <th>Year</th>\n",
       "      <th>Country Code</th>\n",
       "      <th>Country Name</th>\n",
       "      <th>Air transport, freight (million ton-km)</th>\n",
       "      <th>Arable land (hectares per person)</th>\n",
       "      <th>Cereal yield (kg per hectare)</th>\n",
       "      <th>Food production index (2004-2006 = 100)</th>\n",
       "      <th>GDP growth (annual %)</th>\n",
       "      <th>GDP per capita (constant 2010 US$)</th>\n",
       "      <th>Net flows from UN agencies US$</th>\n",
       "      <th>Life expectancy at birth, total (years)</th>\n",
       "      <th>Mobile cellular subscriptions (per 100 people)</th>\n",
       "      <th>Population density (people per sq. km of land area)</th>\n",
       "      <th>Adjusted savings: education expenditure (% of GNI)</th>\n",
       "      <th>Rural population (% of total population)</th>\n",
       "    </tr>\n",
       "  </thead>\n",
       "  <tbody>\n",
       "    <tr>\n",
       "      <th>0</th>\n",
       "      <td>1960</td>\n",
       "      <td>ARE</td>\n",
       "      <td>United Arab Emirates</td>\n",
       "      <td>NaN</td>\n",
       "      <td>0.049605</td>\n",
       "      <td>1166.7</td>\n",
       "      <td>4.07</td>\n",
       "      <td>16.526857</td>\n",
       "      <td>103604.9068</td>\n",
       "      <td>0.0</td>\n",
       "      <td>51.537</td>\n",
       "      <td>0.200033</td>\n",
       "      <td>1.419262</td>\n",
       "      <td>NaN</td>\n",
       "      <td>26.500</td>\n",
       "    </tr>\n",
       "    <tr>\n",
       "      <th>1</th>\n",
       "      <td>1961</td>\n",
       "      <td>ARE</td>\n",
       "      <td>United Arab Emirates</td>\n",
       "      <td>NaN</td>\n",
       "      <td>0.049605</td>\n",
       "      <td>1166.7</td>\n",
       "      <td>4.07</td>\n",
       "      <td>16.526857</td>\n",
       "      <td>103604.9068</td>\n",
       "      <td>0.0</td>\n",
       "      <td>52.560</td>\n",
       "      <td>0.200033</td>\n",
       "      <td>1.419262</td>\n",
       "      <td>NaN</td>\n",
       "      <td>25.617</td>\n",
       "    </tr>\n",
       "    <tr>\n",
       "      <th>2</th>\n",
       "      <td>1962</td>\n",
       "      <td>ARE</td>\n",
       "      <td>United Arab Emirates</td>\n",
       "      <td>NaN</td>\n",
       "      <td>0.044596</td>\n",
       "      <td>1166.7</td>\n",
       "      <td>4.13</td>\n",
       "      <td>16.526857</td>\n",
       "      <td>103604.9068</td>\n",
       "      <td>0.0</td>\n",
       "      <td>53.573</td>\n",
       "      <td>0.200033</td>\n",
       "      <td>1.578682</td>\n",
       "      <td>NaN</td>\n",
       "      <td>24.752</td>\n",
       "    </tr>\n",
       "    <tr>\n",
       "      <th>3</th>\n",
       "      <td>1963</td>\n",
       "      <td>ARE</td>\n",
       "      <td>United Arab Emirates</td>\n",
       "      <td>NaN</td>\n",
       "      <td>0.039958</td>\n",
       "      <td>1166.7</td>\n",
       "      <td>4.26</td>\n",
       "      <td>16.526857</td>\n",
       "      <td>103604.9068</td>\n",
       "      <td>0.0</td>\n",
       "      <td>54.572</td>\n",
       "      <td>0.200033</td>\n",
       "      <td>1.761898</td>\n",
       "      <td>NaN</td>\n",
       "      <td>23.907</td>\n",
       "    </tr>\n",
       "    <tr>\n",
       "      <th>4</th>\n",
       "      <td>1964</td>\n",
       "      <td>ARE</td>\n",
       "      <td>United Arab Emirates</td>\n",
       "      <td>NaN</td>\n",
       "      <td>0.036222</td>\n",
       "      <td>1166.7</td>\n",
       "      <td>4.41</td>\n",
       "      <td>16.526857</td>\n",
       "      <td>103604.9068</td>\n",
       "      <td>0.0</td>\n",
       "      <td>55.555</td>\n",
       "      <td>0.200033</td>\n",
       "      <td>1.943664</td>\n",
       "      <td>NaN</td>\n",
       "      <td>23.081</td>\n",
       "    </tr>\n",
       "  </tbody>\n",
       "</table>\n",
       "</div>"
      ],
      "text/plain": [
       "   Year Country Code          Country Name  \\\n",
       "0  1960          ARE  United Arab Emirates   \n",
       "1  1961          ARE  United Arab Emirates   \n",
       "2  1962          ARE  United Arab Emirates   \n",
       "3  1963          ARE  United Arab Emirates   \n",
       "4  1964          ARE  United Arab Emirates   \n",
       "\n",
       "   Air transport, freight (million ton-km)  Arable land (hectares per person)  \\\n",
       "0                                      NaN                           0.049605   \n",
       "1                                      NaN                           0.049605   \n",
       "2                                      NaN                           0.044596   \n",
       "3                                      NaN                           0.039958   \n",
       "4                                      NaN                           0.036222   \n",
       "\n",
       "   Cereal yield (kg per hectare)  Food production index (2004-2006 = 100)  \\\n",
       "0                         1166.7                                     4.07   \n",
       "1                         1166.7                                     4.07   \n",
       "2                         1166.7                                     4.13   \n",
       "3                         1166.7                                     4.26   \n",
       "4                         1166.7                                     4.41   \n",
       "\n",
       "   GDP growth (annual %)  GDP per capita (constant 2010 US$)  \\\n",
       "0              16.526857                         103604.9068   \n",
       "1              16.526857                         103604.9068   \n",
       "2              16.526857                         103604.9068   \n",
       "3              16.526857                         103604.9068   \n",
       "4              16.526857                         103604.9068   \n",
       "\n",
       "   Net flows from UN agencies US$  Life expectancy at birth, total (years)  \\\n",
       "0                             0.0                                   51.537   \n",
       "1                             0.0                                   52.560   \n",
       "2                             0.0                                   53.573   \n",
       "3                             0.0                                   54.572   \n",
       "4                             0.0                                   55.555   \n",
       "\n",
       "   Mobile cellular subscriptions (per 100 people)  \\\n",
       "0                                        0.200033   \n",
       "1                                        0.200033   \n",
       "2                                        0.200033   \n",
       "3                                        0.200033   \n",
       "4                                        0.200033   \n",
       "\n",
       "   Population density (people per sq. km of land area)  \\\n",
       "0                                           1.419262     \n",
       "1                                           1.419262     \n",
       "2                                           1.578682     \n",
       "3                                           1.761898     \n",
       "4                                           1.943664     \n",
       "\n",
       "   Adjusted savings: education expenditure (% of GNI)  \\\n",
       "0                                                NaN    \n",
       "1                                                NaN    \n",
       "2                                                NaN    \n",
       "3                                                NaN    \n",
       "4                                                NaN    \n",
       "\n",
       "   Rural population (% of total population)  \n",
       "0                                    26.500  \n",
       "1                                    25.617  \n",
       "2                                    24.752  \n",
       "3                                    23.907  \n",
       "4                                    23.081  "
      ]
     },
     "execution_count": 86,
     "metadata": {},
     "output_type": "execute_result"
    }
   ],
   "source": [
    "final.head()"
   ]
  },
  {
   "cell_type": "markdown",
   "metadata": {},
   "source": [
    "## Final Warning Net Flows: \n",
    "\n",
    "When aggregating the columns having data from the Net flows, all the missing values were treated like 0 by the machine. That means that any zero value in the resulting column ``Net flows from UN agencies US$`` is really a null value. Let us check how many of them there are:"
   ]
  },
  {
   "cell_type": "code",
   "execution_count": 87,
   "metadata": {},
   "outputs": [
    {
     "data": {
      "text/plain": [
       "Greenland                   60\n",
       "New Zealand                 60\n",
       "St. Martin (French part)    60\n",
       "Australia                   60\n",
       "Norway                      60\n",
       "                            ..\n",
       "Nicaragua                    9\n",
       "Mali                         9\n",
       "Ethiopia                     9\n",
       "Guatemala                    9\n",
       "Reunion                      9\n",
       "Name: Country Name, Length: 221, dtype: int64"
      ]
     },
     "execution_count": 87,
     "metadata": {},
     "output_type": "execute_result"
    }
   ],
   "source": [
    "ds_new[ds_new[\"Net flows from UN agencies US$\"]==0][\"Country Name\"].value_counts()"
   ]
  },
  {
   "cell_type": "markdown",
   "metadata": {},
   "source": [
    "For many countries, like Australia and New Zealand there is no any information about this indicator, so in this cases we can't fill the values."
   ]
  }
 ],
 "metadata": {
  "kernelspec": {
   "display_name": "Python 3",
   "language": "python",
   "name": "python3"
  },
  "language_info": {
   "codemirror_mode": {
    "name": "ipython",
    "version": 3
   },
   "file_extension": ".py",
   "mimetype": "text/x-python",
   "name": "python",
   "nbconvert_exporter": "python",
   "pygments_lexer": "ipython3",
   "version": "3.7.4"
  },
  "varInspector": {
   "cols": {
    "lenName": 16,
    "lenType": 16,
    "lenVar": 40
   },
   "kernels_config": {
    "python": {
     "delete_cmd_postfix": "",
     "delete_cmd_prefix": "del ",
     "library": "var_list.py",
     "varRefreshCmd": "print(var_dic_list())"
    },
    "r": {
     "delete_cmd_postfix": ") ",
     "delete_cmd_prefix": "rm(",
     "library": "var_list.r",
     "varRefreshCmd": "cat(var_dic_list()) "
    }
   },
   "position": {
    "height": "410.764px",
    "left": "1258.47px",
    "right": "20px",
    "top": "120px",
    "width": "239.306px"
   },
   "types_to_exclude": [
    "module",
    "function",
    "builtin_function_or_method",
    "instance",
    "_Feature"
   ],
   "window_display": true
  }
 },
 "nbformat": 4,
 "nbformat_minor": 4
}
