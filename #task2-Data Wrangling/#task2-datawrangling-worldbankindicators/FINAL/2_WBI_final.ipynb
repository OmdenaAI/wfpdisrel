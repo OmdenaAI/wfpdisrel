{
 "cells": [
  {
   "cell_type": "markdown",
   "metadata": {},
   "source": [
    "# Feature selection Socio-Economical Data Final: World Bank Indicators\n",
    "\n",
    "Fabiana Castiblanco \n",
    "\n",
    "**GitHub**: fabi-cast\n",
    "\n",
    "After analyzing the correlations between some of the indicators, we have decided drop many of them keeping the most relevants."
   ]
  },
  {
   "cell_type": "code",
   "execution_count": 1,
   "metadata": {},
   "outputs": [],
   "source": [
    "import pandas as pd\n",
    "import numpy as np\n",
    "import re\n",
    "import math\n",
    "import requests\n",
    "import json\n",
    "import matplotlib\n",
    "from pandas import ExcelFile\n",
    "from matplotlib import pyplot as plt\n",
    "%matplotlib inline\n",
    "import seaborn as sns\n",
    "from datetime import datetime\n",
    "plt.rcParams[\"figure.figsize\"]= (8,5)"
   ]
  },
  {
   "cell_type": "code",
   "execution_count": 2,
   "metadata": {},
   "outputs": [],
   "source": [
    "#loading the dataset\n",
    "#df = pd.read_csv(\"Data_input/WBI.csv\", sep = \";\")\n",
    "df = pd.read_csv(\"Data_input/OUTPUT_WBI_Selection_Country_Year.csv\", sep = \";\")\n",
    "#this function creates a dataset for each country in the desired format\n",
    "def get_WBI(isocode):\n",
    "    indicators = list(df[df[\"Country Code\"] == isocode].drop(columns = [\"Country Name\"]).T.iloc[1])\n",
    "    cols = list(df[df[\"Country Code\"] == isocode].drop(columns = [\"Country Name\"]).T.columns)\n",
    "    dict_cols = {cols[i]: indicators[i] for i in range(len(cols))}\n",
    "    data = (df[df[\"Country Code\"] == isocode].drop(columns = [\"Country Name\"])\n",
    "                                           .T.rename(columns = dict_cols)\n",
    "                                           .drop(labels=[\"Country Code\", \"Series Name\", \"Income_level\", \"Indicator_CAT\"], axis =0))\n",
    "    data = data.reset_index().rename(columns = {\"index\": \"Year\"})\n",
    "    data[\"ISO3\"] = isocode\n",
    "    return data"
   ]
  },
  {
   "cell_type": "code",
   "execution_count": 3,
   "metadata": {},
   "outputs": [],
   "source": [
    "# this give us indicators and category of them\n",
    "def get_WBI_cat(isocode, category):\n",
    "    indicators = list(df[df[\"Country Code\"] == isocode].drop(columns = [\"Country Name\"]).T.iloc[1])\n",
    "    cols = list(df[df[\"Country Code\"] == isocode].drop(columns = [\"Country Name\"]).T.columns)\n",
    "    dict_cols = {cols[i]: indicators[i] for i in range(len(cols))}\n",
    "    data = df[df[\"Indicator_CAT\"] == category]\n",
    "    data = (df[df[\"Country Code\"] == isocode].drop(columns = [\"Country Name\"])\n",
    "                                           .T.rename(columns = dict_cols)\n",
    "                                           .drop(labels=[\"Country Code\", \"Series Name\", \"Income_level\", \"Indicator_CAT\"], axis =0))\n",
    "    data = data.reset_index().rename(columns = {\"index\": \"Year\"})\n",
    "    data[\"ISO3\"] = isocode\n",
    "    return data"
   ]
  },
  {
   "cell_type": "code",
   "execution_count": 4,
   "metadata": {},
   "outputs": [
    {
     "data": {
      "text/html": [
       "<div>\n",
       "<style scoped>\n",
       "    .dataframe tbody tr th:only-of-type {\n",
       "        vertical-align: middle;\n",
       "    }\n",
       "\n",
       "    .dataframe tbody tr th {\n",
       "        vertical-align: top;\n",
       "    }\n",
       "\n",
       "    .dataframe thead th {\n",
       "        text-align: right;\n",
       "    }\n",
       "</style>\n",
       "<table border=\"1\" class=\"dataframe\">\n",
       "  <thead>\n",
       "    <tr style=\"text-align: right;\">\n",
       "      <th></th>\n",
       "      <th>Country Name</th>\n",
       "      <th>Country Code</th>\n",
       "      <th>Series Name</th>\n",
       "      <th>1949</th>\n",
       "      <th>1950</th>\n",
       "      <th>1951</th>\n",
       "      <th>1952</th>\n",
       "      <th>1953</th>\n",
       "      <th>1954</th>\n",
       "      <th>1955</th>\n",
       "      <th>...</th>\n",
       "      <th>2012</th>\n",
       "      <th>2013</th>\n",
       "      <th>2014</th>\n",
       "      <th>2015</th>\n",
       "      <th>2016</th>\n",
       "      <th>2017</th>\n",
       "      <th>2018</th>\n",
       "      <th>2019</th>\n",
       "      <th>Income_level</th>\n",
       "      <th>Indicator_CAT</th>\n",
       "    </tr>\n",
       "  </thead>\n",
       "  <tbody>\n",
       "    <tr>\n",
       "      <th>0</th>\n",
       "      <td>Aruba</td>\n",
       "      <td>ABW</td>\n",
       "      <td>Adjusted savings: education expenditure (% of ...</td>\n",
       "      <td>NaN</td>\n",
       "      <td>NaN</td>\n",
       "      <td>NaN</td>\n",
       "      <td>NaN</td>\n",
       "      <td>NaN</td>\n",
       "      <td>NaN</td>\n",
       "      <td>NaN</td>\n",
       "      <td>...</td>\n",
       "      <td>6.863412</td>\n",
       "      <td>7.271645</td>\n",
       "      <td>6.411805</td>\n",
       "      <td>6.793939</td>\n",
       "      <td>6.793939</td>\n",
       "      <td>6.793939</td>\n",
       "      <td>NaN</td>\n",
       "      <td>NaN</td>\n",
       "      <td>High</td>\n",
       "      <td>NaN</td>\n",
       "    </tr>\n",
       "    <tr>\n",
       "      <th>1</th>\n",
       "      <td>Aruba</td>\n",
       "      <td>ABW</td>\n",
       "      <td>Air transport, freight (million ton-km)</td>\n",
       "      <td>NaN</td>\n",
       "      <td>NaN</td>\n",
       "      <td>NaN</td>\n",
       "      <td>NaN</td>\n",
       "      <td>NaN</td>\n",
       "      <td>NaN</td>\n",
       "      <td>NaN</td>\n",
       "      <td>...</td>\n",
       "      <td>NaN</td>\n",
       "      <td>NaN</td>\n",
       "      <td>NaN</td>\n",
       "      <td>NaN</td>\n",
       "      <td>NaN</td>\n",
       "      <td>NaN</td>\n",
       "      <td>NaN</td>\n",
       "      <td>NaN</td>\n",
       "      <td>High</td>\n",
       "      <td>NaN</td>\n",
       "    </tr>\n",
       "  </tbody>\n",
       "</table>\n",
       "<p>2 rows × 76 columns</p>\n",
       "</div>"
      ],
      "text/plain": [
       "  Country Name Country Code  \\\n",
       "0        Aruba          ABW   \n",
       "1        Aruba          ABW   \n",
       "\n",
       "                                         Series Name  1949  1950  1951  1952  \\\n",
       "0  Adjusted savings: education expenditure (% of ...   NaN   NaN   NaN   NaN   \n",
       "1            Air transport, freight (million ton-km)   NaN   NaN   NaN   NaN   \n",
       "\n",
       "   1953  1954  1955  ...      2012      2013      2014      2015      2016  \\\n",
       "0   NaN   NaN   NaN  ...  6.863412  7.271645  6.411805  6.793939  6.793939   \n",
       "1   NaN   NaN   NaN  ...       NaN       NaN       NaN       NaN       NaN   \n",
       "\n",
       "       2017  2018  2019  Income_level  Indicator_CAT  \n",
       "0  6.793939   NaN   NaN          High            NaN  \n",
       "1       NaN   NaN   NaN          High            NaN  \n",
       "\n",
       "[2 rows x 76 columns]"
      ]
     },
     "execution_count": 4,
     "metadata": {},
     "output_type": "execute_result"
    }
   ],
   "source": [
    "df.head(2)"
   ]
  },
  {
   "cell_type": "code",
   "execution_count": 5,
   "metadata": {},
   "outputs": [],
   "source": [
    "codes = list(df[\"Country Code\"].value_counts().index)\n",
    "codes.sort()\n"
   ]
  },
  {
   "cell_type": "code",
   "execution_count": 6,
   "metadata": {},
   "outputs": [],
   "source": [
    "#running the function for each country and store it as a list of datasets\n",
    "all_countries = [get_WBI(iso) for iso in codes]\n",
    "\n",
    "#concat all the datasets\n",
    "ds = pd.concat(all_countries)"
   ]
  },
  {
   "cell_type": "code",
   "execution_count": 7,
   "metadata": {},
   "outputs": [
    {
     "data": {
      "text/html": [
       "<div>\n",
       "<style scoped>\n",
       "    .dataframe tbody tr th:only-of-type {\n",
       "        vertical-align: middle;\n",
       "    }\n",
       "\n",
       "    .dataframe tbody tr th {\n",
       "        vertical-align: top;\n",
       "    }\n",
       "\n",
       "    .dataframe thead th {\n",
       "        text-align: right;\n",
       "    }\n",
       "</style>\n",
       "<table border=\"1\" class=\"dataframe\">\n",
       "  <thead>\n",
       "    <tr style=\"text-align: right;\">\n",
       "      <th></th>\n",
       "      <th>Year</th>\n",
       "      <th>Adjusted savings: education expenditure (% of GNI)</th>\n",
       "      <th>Air transport, freight (million ton-km)</th>\n",
       "      <th>Arable land (hectares per person)</th>\n",
       "      <th>Cereal yield (kg per hectare)</th>\n",
       "      <th>Food production index (2004-2006 = 100)</th>\n",
       "      <th>GDP growth (annual %)</th>\n",
       "      <th>GDP per capita (constant 2010 US$)</th>\n",
       "      <th>Life expectancy at birth, total (years)</th>\n",
       "      <th>Mobile cellular subscriptions (per 100 people)</th>\n",
       "      <th>...</th>\n",
       "      <th>Net official flows from UN agencies, UNICEF (current US$)</th>\n",
       "      <th>Net official flows from UN agencies, UNPBF (current US$)</th>\n",
       "      <th>Net official flows from UN agencies, UNRWA (current US$)</th>\n",
       "      <th>Net official flows from UN agencies, UNTA (current US$)</th>\n",
       "      <th>Net official flows from UN agencies, UNWTO (current US$)</th>\n",
       "      <th>Net official flows from UN agencies, WFP (current US$)</th>\n",
       "      <th>Net official flows from UN agencies, WHO (current US$)</th>\n",
       "      <th>Population density (people per sq. km of land area)</th>\n",
       "      <th>Rural population (% of total population)</th>\n",
       "      <th>ISO3</th>\n",
       "    </tr>\n",
       "  </thead>\n",
       "  <tbody>\n",
       "    <tr>\n",
       "      <th>0</th>\n",
       "      <td>1949</td>\n",
       "      <td>NaN</td>\n",
       "      <td>NaN</td>\n",
       "      <td>NaN</td>\n",
       "      <td>NaN</td>\n",
       "      <td>NaN</td>\n",
       "      <td>NaN</td>\n",
       "      <td>NaN</td>\n",
       "      <td>NaN</td>\n",
       "      <td>NaN</td>\n",
       "      <td>...</td>\n",
       "      <td>NaN</td>\n",
       "      <td>NaN</td>\n",
       "      <td>NaN</td>\n",
       "      <td>NaN</td>\n",
       "      <td>NaN</td>\n",
       "      <td>NaN</td>\n",
       "      <td>NaN</td>\n",
       "      <td>NaN</td>\n",
       "      <td>NaN</td>\n",
       "      <td>ABW</td>\n",
       "    </tr>\n",
       "    <tr>\n",
       "      <th>1</th>\n",
       "      <td>1950</td>\n",
       "      <td>NaN</td>\n",
       "      <td>NaN</td>\n",
       "      <td>NaN</td>\n",
       "      <td>NaN</td>\n",
       "      <td>NaN</td>\n",
       "      <td>NaN</td>\n",
       "      <td>NaN</td>\n",
       "      <td>NaN</td>\n",
       "      <td>NaN</td>\n",
       "      <td>...</td>\n",
       "      <td>NaN</td>\n",
       "      <td>NaN</td>\n",
       "      <td>NaN</td>\n",
       "      <td>NaN</td>\n",
       "      <td>NaN</td>\n",
       "      <td>NaN</td>\n",
       "      <td>NaN</td>\n",
       "      <td>NaN</td>\n",
       "      <td>NaN</td>\n",
       "      <td>ABW</td>\n",
       "    </tr>\n",
       "  </tbody>\n",
       "</table>\n",
       "<p>2 rows × 30 columns</p>\n",
       "</div>"
      ],
      "text/plain": [
       "   Year Adjusted savings: education expenditure (% of GNI)  \\\n",
       "0  1949                                                NaN   \n",
       "1  1950                                                NaN   \n",
       "\n",
       "  Air transport, freight (million ton-km) Arable land (hectares per person)  \\\n",
       "0                                     NaN                               NaN   \n",
       "1                                     NaN                               NaN   \n",
       "\n",
       "  Cereal yield (kg per hectare) Food production index (2004-2006 = 100)  \\\n",
       "0                           NaN                                     NaN   \n",
       "1                           NaN                                     NaN   \n",
       "\n",
       "  GDP growth (annual %) GDP per capita (constant 2010 US$)  \\\n",
       "0                   NaN                                NaN   \n",
       "1                   NaN                                NaN   \n",
       "\n",
       "  Life expectancy at birth, total (years)  \\\n",
       "0                                     NaN   \n",
       "1                                     NaN   \n",
       "\n",
       "  Mobile cellular subscriptions (per 100 people)  ...  \\\n",
       "0                                            NaN  ...   \n",
       "1                                            NaN  ...   \n",
       "\n",
       "  Net official flows from UN agencies, UNICEF (current US$)  \\\n",
       "0                                                NaN          \n",
       "1                                                NaN          \n",
       "\n",
       "  Net official flows from UN agencies, UNPBF (current US$)  \\\n",
       "0                                                NaN         \n",
       "1                                                NaN         \n",
       "\n",
       "  Net official flows from UN agencies, UNRWA (current US$)  \\\n",
       "0                                                NaN         \n",
       "1                                                NaN         \n",
       "\n",
       "  Net official flows from UN agencies, UNTA (current US$)  \\\n",
       "0                                                NaN        \n",
       "1                                                NaN        \n",
       "\n",
       "  Net official flows from UN agencies, UNWTO (current US$)  \\\n",
       "0                                                NaN         \n",
       "1                                                NaN         \n",
       "\n",
       "  Net official flows from UN agencies, WFP (current US$)  \\\n",
       "0                                                NaN       \n",
       "1                                                NaN       \n",
       "\n",
       "  Net official flows from UN agencies, WHO (current US$)  \\\n",
       "0                                                NaN       \n",
       "1                                                NaN       \n",
       "\n",
       "  Population density (people per sq. km of land area)  \\\n",
       "0                                                NaN    \n",
       "1                                                NaN    \n",
       "\n",
       "  Rural population (% of total population) ISO3  \n",
       "0                                      NaN  ABW  \n",
       "1                                      NaN  ABW  \n",
       "\n",
       "[2 rows x 30 columns]"
      ]
     },
     "execution_count": 7,
     "metadata": {},
     "output_type": "execute_result"
    }
   ],
   "source": [
    "ds.head(2)"
   ]
  },
  {
   "cell_type": "markdown",
   "metadata": {},
   "source": [
    "We want to have the name and code for each country as well, so we subset the original data set for obtaining this data:"
   ]
  },
  {
   "cell_type": "code",
   "execution_count": 8,
   "metadata": {},
   "outputs": [],
   "source": [
    "countries_codes = df[[\"Country Name\", \"Country Code\"]].copy()\n",
    "countries_codes.drop_duplicates(keep=\"first\",inplace=True) "
   ]
  },
  {
   "cell_type": "markdown",
   "metadata": {},
   "source": [
    "Lastly we merge both datasets and drop duplicated columns:"
   ]
  },
  {
   "cell_type": "code",
   "execution_count": 9,
   "metadata": {},
   "outputs": [],
   "source": [
    "ds_new = countries_codes.merge(ds, left_on = \"Country Code\", right_on = \"ISO3\", how = \"right\").drop(columns = \"ISO3\")"
   ]
  },
  {
   "cell_type": "code",
   "execution_count": 10,
   "metadata": {},
   "outputs": [
    {
     "data": {
      "text/html": [
       "<div>\n",
       "<style scoped>\n",
       "    .dataframe tbody tr th:only-of-type {\n",
       "        vertical-align: middle;\n",
       "    }\n",
       "\n",
       "    .dataframe tbody tr th {\n",
       "        vertical-align: top;\n",
       "    }\n",
       "\n",
       "    .dataframe thead th {\n",
       "        text-align: right;\n",
       "    }\n",
       "</style>\n",
       "<table border=\"1\" class=\"dataframe\">\n",
       "  <thead>\n",
       "    <tr style=\"text-align: right;\">\n",
       "      <th></th>\n",
       "      <th>Country Name</th>\n",
       "      <th>Country Code</th>\n",
       "      <th>Year</th>\n",
       "      <th>Adjusted savings: education expenditure (% of GNI)</th>\n",
       "      <th>Air transport, freight (million ton-km)</th>\n",
       "      <th>Arable land (hectares per person)</th>\n",
       "      <th>Cereal yield (kg per hectare)</th>\n",
       "      <th>Food production index (2004-2006 = 100)</th>\n",
       "      <th>GDP growth (annual %)</th>\n",
       "      <th>GDP per capita (constant 2010 US$)</th>\n",
       "      <th>...</th>\n",
       "      <th>Net official flows from UN agencies, UNHCR (current US$)</th>\n",
       "      <th>Net official flows from UN agencies, UNICEF (current US$)</th>\n",
       "      <th>Net official flows from UN agencies, UNPBF (current US$)</th>\n",
       "      <th>Net official flows from UN agencies, UNRWA (current US$)</th>\n",
       "      <th>Net official flows from UN agencies, UNTA (current US$)</th>\n",
       "      <th>Net official flows from UN agencies, UNWTO (current US$)</th>\n",
       "      <th>Net official flows from UN agencies, WFP (current US$)</th>\n",
       "      <th>Net official flows from UN agencies, WHO (current US$)</th>\n",
       "      <th>Population density (people per sq. km of land area)</th>\n",
       "      <th>Rural population (% of total population)</th>\n",
       "    </tr>\n",
       "  </thead>\n",
       "  <tbody>\n",
       "    <tr>\n",
       "      <th>0</th>\n",
       "      <td>Aruba</td>\n",
       "      <td>ABW</td>\n",
       "      <td>1949</td>\n",
       "      <td>NaN</td>\n",
       "      <td>NaN</td>\n",
       "      <td>NaN</td>\n",
       "      <td>NaN</td>\n",
       "      <td>NaN</td>\n",
       "      <td>NaN</td>\n",
       "      <td>NaN</td>\n",
       "      <td>...</td>\n",
       "      <td>NaN</td>\n",
       "      <td>NaN</td>\n",
       "      <td>NaN</td>\n",
       "      <td>NaN</td>\n",
       "      <td>NaN</td>\n",
       "      <td>NaN</td>\n",
       "      <td>NaN</td>\n",
       "      <td>NaN</td>\n",
       "      <td>NaN</td>\n",
       "      <td>NaN</td>\n",
       "    </tr>\n",
       "    <tr>\n",
       "      <th>1</th>\n",
       "      <td>Aruba</td>\n",
       "      <td>ABW</td>\n",
       "      <td>1950</td>\n",
       "      <td>NaN</td>\n",
       "      <td>NaN</td>\n",
       "      <td>NaN</td>\n",
       "      <td>NaN</td>\n",
       "      <td>NaN</td>\n",
       "      <td>NaN</td>\n",
       "      <td>NaN</td>\n",
       "      <td>...</td>\n",
       "      <td>NaN</td>\n",
       "      <td>NaN</td>\n",
       "      <td>NaN</td>\n",
       "      <td>NaN</td>\n",
       "      <td>NaN</td>\n",
       "      <td>NaN</td>\n",
       "      <td>NaN</td>\n",
       "      <td>NaN</td>\n",
       "      <td>NaN</td>\n",
       "      <td>NaN</td>\n",
       "    </tr>\n",
       "    <tr>\n",
       "      <th>2</th>\n",
       "      <td>Aruba</td>\n",
       "      <td>ABW</td>\n",
       "      <td>1951</td>\n",
       "      <td>NaN</td>\n",
       "      <td>NaN</td>\n",
       "      <td>NaN</td>\n",
       "      <td>NaN</td>\n",
       "      <td>NaN</td>\n",
       "      <td>NaN</td>\n",
       "      <td>NaN</td>\n",
       "      <td>...</td>\n",
       "      <td>NaN</td>\n",
       "      <td>NaN</td>\n",
       "      <td>NaN</td>\n",
       "      <td>NaN</td>\n",
       "      <td>NaN</td>\n",
       "      <td>NaN</td>\n",
       "      <td>NaN</td>\n",
       "      <td>NaN</td>\n",
       "      <td>NaN</td>\n",
       "      <td>NaN</td>\n",
       "    </tr>\n",
       "    <tr>\n",
       "      <th>3</th>\n",
       "      <td>Aruba</td>\n",
       "      <td>ABW</td>\n",
       "      <td>1952</td>\n",
       "      <td>NaN</td>\n",
       "      <td>NaN</td>\n",
       "      <td>NaN</td>\n",
       "      <td>NaN</td>\n",
       "      <td>NaN</td>\n",
       "      <td>NaN</td>\n",
       "      <td>NaN</td>\n",
       "      <td>...</td>\n",
       "      <td>NaN</td>\n",
       "      <td>NaN</td>\n",
       "      <td>NaN</td>\n",
       "      <td>NaN</td>\n",
       "      <td>NaN</td>\n",
       "      <td>NaN</td>\n",
       "      <td>NaN</td>\n",
       "      <td>NaN</td>\n",
       "      <td>NaN</td>\n",
       "      <td>NaN</td>\n",
       "    </tr>\n",
       "    <tr>\n",
       "      <th>4</th>\n",
       "      <td>Aruba</td>\n",
       "      <td>ABW</td>\n",
       "      <td>1953</td>\n",
       "      <td>NaN</td>\n",
       "      <td>NaN</td>\n",
       "      <td>NaN</td>\n",
       "      <td>NaN</td>\n",
       "      <td>NaN</td>\n",
       "      <td>NaN</td>\n",
       "      <td>NaN</td>\n",
       "      <td>...</td>\n",
       "      <td>NaN</td>\n",
       "      <td>NaN</td>\n",
       "      <td>NaN</td>\n",
       "      <td>NaN</td>\n",
       "      <td>NaN</td>\n",
       "      <td>NaN</td>\n",
       "      <td>NaN</td>\n",
       "      <td>NaN</td>\n",
       "      <td>NaN</td>\n",
       "      <td>NaN</td>\n",
       "    </tr>\n",
       "  </tbody>\n",
       "</table>\n",
       "<p>5 rows × 31 columns</p>\n",
       "</div>"
      ],
      "text/plain": [
       "  Country Name Country Code  Year  \\\n",
       "0        Aruba          ABW  1949   \n",
       "1        Aruba          ABW  1950   \n",
       "2        Aruba          ABW  1951   \n",
       "3        Aruba          ABW  1952   \n",
       "4        Aruba          ABW  1953   \n",
       "\n",
       "  Adjusted savings: education expenditure (% of GNI)  \\\n",
       "0                                                NaN   \n",
       "1                                                NaN   \n",
       "2                                                NaN   \n",
       "3                                                NaN   \n",
       "4                                                NaN   \n",
       "\n",
       "  Air transport, freight (million ton-km) Arable land (hectares per person)  \\\n",
       "0                                     NaN                               NaN   \n",
       "1                                     NaN                               NaN   \n",
       "2                                     NaN                               NaN   \n",
       "3                                     NaN                               NaN   \n",
       "4                                     NaN                               NaN   \n",
       "\n",
       "  Cereal yield (kg per hectare) Food production index (2004-2006 = 100)  \\\n",
       "0                           NaN                                     NaN   \n",
       "1                           NaN                                     NaN   \n",
       "2                           NaN                                     NaN   \n",
       "3                           NaN                                     NaN   \n",
       "4                           NaN                                     NaN   \n",
       "\n",
       "  GDP growth (annual %) GDP per capita (constant 2010 US$)  ...  \\\n",
       "0                   NaN                                NaN  ...   \n",
       "1                   NaN                                NaN  ...   \n",
       "2                   NaN                                NaN  ...   \n",
       "3                   NaN                                NaN  ...   \n",
       "4                   NaN                                NaN  ...   \n",
       "\n",
       "  Net official flows from UN agencies, UNHCR (current US$)  \\\n",
       "0                                                NaN         \n",
       "1                                                NaN         \n",
       "2                                                NaN         \n",
       "3                                                NaN         \n",
       "4                                                NaN         \n",
       "\n",
       "  Net official flows from UN agencies, UNICEF (current US$)  \\\n",
       "0                                                NaN          \n",
       "1                                                NaN          \n",
       "2                                                NaN          \n",
       "3                                                NaN          \n",
       "4                                                NaN          \n",
       "\n",
       "  Net official flows from UN agencies, UNPBF (current US$)  \\\n",
       "0                                                NaN         \n",
       "1                                                NaN         \n",
       "2                                                NaN         \n",
       "3                                                NaN         \n",
       "4                                                NaN         \n",
       "\n",
       "  Net official flows from UN agencies, UNRWA (current US$)  \\\n",
       "0                                                NaN         \n",
       "1                                                NaN         \n",
       "2                                                NaN         \n",
       "3                                                NaN         \n",
       "4                                                NaN         \n",
       "\n",
       "  Net official flows from UN agencies, UNTA (current US$)  \\\n",
       "0                                                NaN        \n",
       "1                                                NaN        \n",
       "2                                                NaN        \n",
       "3                                                NaN        \n",
       "4                                                NaN        \n",
       "\n",
       "  Net official flows from UN agencies, UNWTO (current US$)  \\\n",
       "0                                                NaN         \n",
       "1                                                NaN         \n",
       "2                                                NaN         \n",
       "3                                                NaN         \n",
       "4                                                NaN         \n",
       "\n",
       "  Net official flows from UN agencies, WFP (current US$)  \\\n",
       "0                                                NaN       \n",
       "1                                                NaN       \n",
       "2                                                NaN       \n",
       "3                                                NaN       \n",
       "4                                                NaN       \n",
       "\n",
       "  Net official flows from UN agencies, WHO (current US$)  \\\n",
       "0                                                NaN       \n",
       "1                                                NaN       \n",
       "2                                                NaN       \n",
       "3                                                NaN       \n",
       "4                                                NaN       \n",
       "\n",
       "  Population density (people per sq. km of land area)  \\\n",
       "0                                                NaN    \n",
       "1                                                NaN    \n",
       "2                                                NaN    \n",
       "3                                                NaN    \n",
       "4                                                NaN    \n",
       "\n",
       "  Rural population (% of total population)  \n",
       "0                                      NaN  \n",
       "1                                      NaN  \n",
       "2                                      NaN  \n",
       "3                                      NaN  \n",
       "4                                      NaN  \n",
       "\n",
       "[5 rows x 31 columns]"
      ]
     },
     "execution_count": 10,
     "metadata": {},
     "output_type": "execute_result"
    }
   ],
   "source": [
    "ds_new.head()"
   ]
  },
  {
   "cell_type": "code",
   "execution_count": 11,
   "metadata": {},
   "outputs": [
    {
     "data": {
      "text/plain": [
       "Index(['Country Name', 'Country Code', 'Year',\n",
       "       'Adjusted savings: education expenditure (% of GNI)',\n",
       "       'Air transport, freight (million ton-km)',\n",
       "       'Arable land (hectares per person)', 'Cereal yield (kg per hectare)',\n",
       "       'Food production index (2004-2006 = 100)', 'GDP growth (annual %)',\n",
       "       'GDP per capita (constant 2010 US$)',\n",
       "       'Life expectancy at birth, total (years)',\n",
       "       'Mobile cellular subscriptions (per 100 people)',\n",
       "       'Net official flows from UN agencies, FAO (current US$)',\n",
       "       'Net official flows from UN agencies, IAEA (current US$)',\n",
       "       'Net official flows from UN agencies, IFAD (current US$)',\n",
       "       'Net official flows from UN agencies, ILO (current US$)',\n",
       "       'Net official flows from UN agencies, UNAIDS (current US$)',\n",
       "       'Net official flows from UN agencies, UNDP (current US$)',\n",
       "       'Net official flows from UN agencies, UNECE (current US$)',\n",
       "       'Net official flows from UN agencies, UNEP (current US$)',\n",
       "       'Net official flows from UN agencies, UNFPA (current US$)',\n",
       "       'Net official flows from UN agencies, UNHCR (current US$)',\n",
       "       'Net official flows from UN agencies, UNICEF (current US$)',\n",
       "       'Net official flows from UN agencies, UNPBF (current US$)',\n",
       "       'Net official flows from UN agencies, UNRWA (current US$)',\n",
       "       'Net official flows from UN agencies, UNTA (current US$)',\n",
       "       'Net official flows from UN agencies, UNWTO (current US$)',\n",
       "       'Net official flows from UN agencies, WFP (current US$)',\n",
       "       'Net official flows from UN agencies, WHO (current US$)',\n",
       "       'Population density (people per sq. km of land area)',\n",
       "       'Rural population (% of total population)'],\n",
       "      dtype='object')"
      ]
     },
     "execution_count": 11,
     "metadata": {},
     "output_type": "execute_result"
    }
   ],
   "source": [
    "ds_new.columns"
   ]
  },
  {
   "cell_type": "code",
   "execution_count": 12,
   "metadata": {},
   "outputs": [
    {
     "data": {
      "text/plain": [
       "Country Name                                                 object\n",
       "Country Code                                                 object\n",
       "Year                                                         object\n",
       "Adjusted savings: education expenditure (% of GNI)           object\n",
       "Air transport, freight (million ton-km)                      object\n",
       "Arable land (hectares per person)                            object\n",
       "Cereal yield (kg per hectare)                                object\n",
       "Food production index (2004-2006 = 100)                      object\n",
       "GDP growth (annual %)                                        object\n",
       "GDP per capita (constant 2010 US$)                           object\n",
       "Life expectancy at birth, total (years)                      object\n",
       "Mobile cellular subscriptions (per 100 people)               object\n",
       "Net official flows from UN agencies, FAO (current US$)       object\n",
       "Net official flows from UN agencies, IAEA (current US$)      object\n",
       "Net official flows from UN agencies, IFAD (current US$)      object\n",
       "Net official flows from UN agencies, ILO (current US$)       object\n",
       "Net official flows from UN agencies, UNAIDS (current US$)    object\n",
       "Net official flows from UN agencies, UNDP (current US$)      object\n",
       "Net official flows from UN agencies, UNECE (current US$)     object\n",
       "Net official flows from UN agencies, UNEP (current US$)      object\n",
       "Net official flows from UN agencies, UNFPA (current US$)     object\n",
       "Net official flows from UN agencies, UNHCR (current US$)     object\n",
       "Net official flows from UN agencies, UNICEF (current US$)    object\n",
       "Net official flows from UN agencies, UNPBF (current US$)     object\n",
       "Net official flows from UN agencies, UNRWA (current US$)     object\n",
       "Net official flows from UN agencies, UNTA (current US$)      object\n",
       "Net official flows from UN agencies, UNWTO (current US$)     object\n",
       "Net official flows from UN agencies, WFP (current US$)       object\n",
       "Net official flows from UN agencies, WHO (current US$)       object\n",
       "Population density (people per sq. km of land area)          object\n",
       "Rural population (% of total population)                     object\n",
       "dtype: object"
      ]
     },
     "execution_count": 12,
     "metadata": {},
     "output_type": "execute_result"
    }
   ],
   "source": [
    "ds_new.dtypes"
   ]
  },
  {
   "cell_type": "code",
   "execution_count": 13,
   "metadata": {},
   "outputs": [],
   "source": [
    "#Infering the data type of each column\n",
    "ds_new = ds_new.infer_objects()\n",
    "\n",
    "# Setting Year as integer variable\n",
    "ds_new[\"Year\"] = ds_new.Year.astype(int)"
   ]
  },
  {
   "cell_type": "code",
   "execution_count": 14,
   "metadata": {},
   "outputs": [
    {
     "data": {
      "text/plain": [
       "Country Name                                                  object\n",
       "Country Code                                                  object\n",
       "Year                                                           int32\n",
       "Adjusted savings: education expenditure (% of GNI)           float64\n",
       "Air transport, freight (million ton-km)                      float64\n",
       "Arable land (hectares per person)                            float64\n",
       "Cereal yield (kg per hectare)                                float64\n",
       "Food production index (2004-2006 = 100)                      float64\n",
       "GDP growth (annual %)                                        float64\n",
       "GDP per capita (constant 2010 US$)                           float64\n",
       "Life expectancy at birth, total (years)                      float64\n",
       "Mobile cellular subscriptions (per 100 people)               float64\n",
       "Net official flows from UN agencies, FAO (current US$)       float64\n",
       "Net official flows from UN agencies, IAEA (current US$)      float64\n",
       "Net official flows from UN agencies, IFAD (current US$)      float64\n",
       "Net official flows from UN agencies, ILO (current US$)       float64\n",
       "Net official flows from UN agencies, UNAIDS (current US$)    float64\n",
       "Net official flows from UN agencies, UNDP (current US$)      float64\n",
       "Net official flows from UN agencies, UNECE (current US$)     float64\n",
       "Net official flows from UN agencies, UNEP (current US$)      float64\n",
       "Net official flows from UN agencies, UNFPA (current US$)     float64\n",
       "Net official flows from UN agencies, UNHCR (current US$)     float64\n",
       "Net official flows from UN agencies, UNICEF (current US$)    float64\n",
       "Net official flows from UN agencies, UNPBF (current US$)     float64\n",
       "Net official flows from UN agencies, UNRWA (current US$)     float64\n",
       "Net official flows from UN agencies, UNTA (current US$)      float64\n",
       "Net official flows from UN agencies, UNWTO (current US$)     float64\n",
       "Net official flows from UN agencies, WFP (current US$)       float64\n",
       "Net official flows from UN agencies, WHO (current US$)       float64\n",
       "Population density (people per sq. km of land area)          float64\n",
       "Rural population (% of total population)                     float64\n",
       "dtype: object"
      ]
     },
     "execution_count": 14,
     "metadata": {},
     "output_type": "execute_result"
    }
   ],
   "source": [
    "ds_new.dtypes"
   ]
  },
  {
   "cell_type": "markdown",
   "metadata": {},
   "source": [
    "## Creating new feature about UN flows\n",
    "\n",
    "As we see above, many features contain information about Net flows comming from agencies from UN. As we don't need information too granular, we will add all of them:"
   ]
  },
  {
   "cell_type": "code",
   "execution_count": 15,
   "metadata": {},
   "outputs": [
    {
     "data": {
      "text/plain": [
       "['Net official flows from UN agencies, FAO (current US$)',\n",
       " 'Net official flows from UN agencies, IAEA (current US$)',\n",
       " 'Net official flows from UN agencies, IFAD (current US$)',\n",
       " 'Net official flows from UN agencies, ILO (current US$)',\n",
       " 'Net official flows from UN agencies, UNAIDS (current US$)',\n",
       " 'Net official flows from UN agencies, UNDP (current US$)',\n",
       " 'Net official flows from UN agencies, UNECE (current US$)',\n",
       " 'Net official flows from UN agencies, UNEP (current US$)',\n",
       " 'Net official flows from UN agencies, UNFPA (current US$)',\n",
       " 'Net official flows from UN agencies, UNHCR (current US$)',\n",
       " 'Net official flows from UN agencies, UNICEF (current US$)',\n",
       " 'Net official flows from UN agencies, UNPBF (current US$)',\n",
       " 'Net official flows from UN agencies, UNRWA (current US$)',\n",
       " 'Net official flows from UN agencies, UNTA (current US$)',\n",
       " 'Net official flows from UN agencies, UNWTO (current US$)',\n",
       " 'Net official flows from UN agencies, WFP (current US$)',\n",
       " 'Net official flows from UN agencies, WHO (current US$)']"
      ]
     },
     "execution_count": 15,
     "metadata": {},
     "output_type": "execute_result"
    }
   ],
   "source": [
    "#catgories and indicators\n",
    "categories = df[[\"Series Name\", \"Indicator_CAT\"]].drop_duplicates().rename(columns = {\"Series Name\":\"indicator\"})\n",
    "\n",
    "#Features which include flows from UN\n",
    "flow_cols = list(categories[categories.indicator.str.contains(\"UN\")].indicator)\n",
    "flow_cols"
   ]
  },
  {
   "cell_type": "markdown",
   "metadata": {},
   "source": [
    "Now we will sum-up all the columns in the list ``flow_cols``:"
   ]
  },
  {
   "cell_type": "code",
   "execution_count": 16,
   "metadata": {},
   "outputs": [],
   "source": [
    "ds_new[\"Net flows from UN agencies US$\"] = ds_new[flow_cols].sum(axis=1)"
   ]
  },
  {
   "cell_type": "code",
   "execution_count": 17,
   "metadata": {},
   "outputs": [
    {
     "data": {
      "text/plain": [
       "Index(['Country Name', 'Country Code', 'Year',\n",
       "       'Adjusted savings: education expenditure (% of GNI)',\n",
       "       'Air transport, freight (million ton-km)',\n",
       "       'Arable land (hectares per person)', 'Cereal yield (kg per hectare)',\n",
       "       'Food production index (2004-2006 = 100)', 'GDP growth (annual %)',\n",
       "       'GDP per capita (constant 2010 US$)',\n",
       "       'Life expectancy at birth, total (years)',\n",
       "       'Mobile cellular subscriptions (per 100 people)',\n",
       "       'Net official flows from UN agencies, FAO (current US$)',\n",
       "       'Net official flows from UN agencies, IAEA (current US$)',\n",
       "       'Net official flows from UN agencies, IFAD (current US$)',\n",
       "       'Net official flows from UN agencies, ILO (current US$)',\n",
       "       'Net official flows from UN agencies, UNAIDS (current US$)',\n",
       "       'Net official flows from UN agencies, UNDP (current US$)',\n",
       "       'Net official flows from UN agencies, UNECE (current US$)',\n",
       "       'Net official flows from UN agencies, UNEP (current US$)',\n",
       "       'Net official flows from UN agencies, UNFPA (current US$)',\n",
       "       'Net official flows from UN agencies, UNHCR (current US$)',\n",
       "       'Net official flows from UN agencies, UNICEF (current US$)',\n",
       "       'Net official flows from UN agencies, UNPBF (current US$)',\n",
       "       'Net official flows from UN agencies, UNRWA (current US$)',\n",
       "       'Net official flows from UN agencies, UNTA (current US$)',\n",
       "       'Net official flows from UN agencies, UNWTO (current US$)',\n",
       "       'Net official flows from UN agencies, WFP (current US$)',\n",
       "       'Net official flows from UN agencies, WHO (current US$)',\n",
       "       'Population density (people per sq. km of land area)',\n",
       "       'Rural population (% of total population)',\n",
       "       'Net flows from UN agencies US$'],\n",
       "      dtype='object')"
      ]
     },
     "execution_count": 17,
     "metadata": {},
     "output_type": "execute_result"
    }
   ],
   "source": [
    "ds_new.columns"
   ]
  },
  {
   "cell_type": "markdown",
   "metadata": {},
   "source": [
    "Now we will drop the columns in ``flow_cols`` which we won't use further:"
   ]
  },
  {
   "cell_type": "code",
   "execution_count": 18,
   "metadata": {},
   "outputs": [],
   "source": [
    "ds_new.drop(columns = flow_cols, inplace= True)"
   ]
  },
  {
   "cell_type": "code",
   "execution_count": 19,
   "metadata": {},
   "outputs": [
    {
     "data": {
      "text/plain": [
       "Index(['Country Name', 'Country Code', 'Year',\n",
       "       'Adjusted savings: education expenditure (% of GNI)',\n",
       "       'Air transport, freight (million ton-km)',\n",
       "       'Arable land (hectares per person)', 'Cereal yield (kg per hectare)',\n",
       "       'Food production index (2004-2006 = 100)', 'GDP growth (annual %)',\n",
       "       'GDP per capita (constant 2010 US$)',\n",
       "       'Life expectancy at birth, total (years)',\n",
       "       'Mobile cellular subscriptions (per 100 people)',\n",
       "       'Population density (people per sq. km of land area)',\n",
       "       'Rural population (% of total population)',\n",
       "       'Net flows from UN agencies US$'],\n",
       "      dtype='object')"
      ]
     },
     "execution_count": 19,
     "metadata": {},
     "output_type": "execute_result"
    }
   ],
   "source": [
    "ds_new.columns"
   ]
  },
  {
   "cell_type": "code",
   "execution_count": 20,
   "metadata": {},
   "outputs": [
    {
     "data": {
      "text/plain": [
       "(15691, 15)"
      ]
     },
     "execution_count": 20,
     "metadata": {},
     "output_type": "execute_result"
    }
   ],
   "source": [
    "ds_new.shape"
   ]
  },
  {
   "cell_type": "markdown",
   "metadata": {},
   "source": [
    "Rearranging the columns:"
   ]
  },
  {
   "cell_type": "code",
   "execution_count": 21,
   "metadata": {},
   "outputs": [],
   "source": [
    "ds_new = ds_new[['Country Name', 'Country Code', 'Year',\n",
    "       'Air transport, freight (million ton-km)',\n",
    "       'Arable land (hectares per person)', 'Cereal yield (kg per hectare)',\n",
    "       'Food production index (2004-2006 = 100)', 'GDP growth (annual %)',\n",
    "       'GDP per capita (constant 2010 US$)',\n",
    "       'Net flows from UN agencies US$',\n",
    "       'Life expectancy at birth, total (years)',\n",
    "       'Mobile cellular subscriptions (per 100 people)',\n",
    "       'Population density (people per sq. km of land area)',\n",
    "       'Adjusted savings: education expenditure (% of GNI)',\n",
    "       'Rural population (% of total population)'\n",
    "       ]]"
   ]
  },
  {
   "cell_type": "code",
   "execution_count": 22,
   "metadata": {},
   "outputs": [
    {
     "data": {
      "text/html": [
       "<div>\n",
       "<style scoped>\n",
       "    .dataframe tbody tr th:only-of-type {\n",
       "        vertical-align: middle;\n",
       "    }\n",
       "\n",
       "    .dataframe tbody tr th {\n",
       "        vertical-align: top;\n",
       "    }\n",
       "\n",
       "    .dataframe thead th {\n",
       "        text-align: right;\n",
       "    }\n",
       "</style>\n",
       "<table border=\"1\" class=\"dataframe\">\n",
       "  <thead>\n",
       "    <tr style=\"text-align: right;\">\n",
       "      <th></th>\n",
       "      <th>Country Name</th>\n",
       "      <th>Country Code</th>\n",
       "      <th>Year</th>\n",
       "      <th>Air transport, freight (million ton-km)</th>\n",
       "      <th>Arable land (hectares per person)</th>\n",
       "      <th>Cereal yield (kg per hectare)</th>\n",
       "      <th>Food production index (2004-2006 = 100)</th>\n",
       "      <th>GDP growth (annual %)</th>\n",
       "      <th>GDP per capita (constant 2010 US$)</th>\n",
       "      <th>Net flows from UN agencies US$</th>\n",
       "      <th>Life expectancy at birth, total (years)</th>\n",
       "      <th>Mobile cellular subscriptions (per 100 people)</th>\n",
       "      <th>Population density (people per sq. km of land area)</th>\n",
       "      <th>Adjusted savings: education expenditure (% of GNI)</th>\n",
       "      <th>Rural population (% of total population)</th>\n",
       "    </tr>\n",
       "  </thead>\n",
       "  <tbody>\n",
       "    <tr>\n",
       "      <th>0</th>\n",
       "      <td>Aruba</td>\n",
       "      <td>ABW</td>\n",
       "      <td>1949</td>\n",
       "      <td>NaN</td>\n",
       "      <td>NaN</td>\n",
       "      <td>NaN</td>\n",
       "      <td>NaN</td>\n",
       "      <td>NaN</td>\n",
       "      <td>NaN</td>\n",
       "      <td>0.0</td>\n",
       "      <td>NaN</td>\n",
       "      <td>NaN</td>\n",
       "      <td>NaN</td>\n",
       "      <td>NaN</td>\n",
       "      <td>NaN</td>\n",
       "    </tr>\n",
       "    <tr>\n",
       "      <th>1</th>\n",
       "      <td>Aruba</td>\n",
       "      <td>ABW</td>\n",
       "      <td>1950</td>\n",
       "      <td>NaN</td>\n",
       "      <td>NaN</td>\n",
       "      <td>NaN</td>\n",
       "      <td>NaN</td>\n",
       "      <td>NaN</td>\n",
       "      <td>NaN</td>\n",
       "      <td>0.0</td>\n",
       "      <td>NaN</td>\n",
       "      <td>NaN</td>\n",
       "      <td>NaN</td>\n",
       "      <td>NaN</td>\n",
       "      <td>NaN</td>\n",
       "    </tr>\n",
       "    <tr>\n",
       "      <th>2</th>\n",
       "      <td>Aruba</td>\n",
       "      <td>ABW</td>\n",
       "      <td>1951</td>\n",
       "      <td>NaN</td>\n",
       "      <td>NaN</td>\n",
       "      <td>NaN</td>\n",
       "      <td>NaN</td>\n",
       "      <td>NaN</td>\n",
       "      <td>NaN</td>\n",
       "      <td>0.0</td>\n",
       "      <td>NaN</td>\n",
       "      <td>NaN</td>\n",
       "      <td>NaN</td>\n",
       "      <td>NaN</td>\n",
       "      <td>NaN</td>\n",
       "    </tr>\n",
       "    <tr>\n",
       "      <th>3</th>\n",
       "      <td>Aruba</td>\n",
       "      <td>ABW</td>\n",
       "      <td>1952</td>\n",
       "      <td>NaN</td>\n",
       "      <td>NaN</td>\n",
       "      <td>NaN</td>\n",
       "      <td>NaN</td>\n",
       "      <td>NaN</td>\n",
       "      <td>NaN</td>\n",
       "      <td>0.0</td>\n",
       "      <td>NaN</td>\n",
       "      <td>NaN</td>\n",
       "      <td>NaN</td>\n",
       "      <td>NaN</td>\n",
       "      <td>NaN</td>\n",
       "    </tr>\n",
       "    <tr>\n",
       "      <th>4</th>\n",
       "      <td>Aruba</td>\n",
       "      <td>ABW</td>\n",
       "      <td>1953</td>\n",
       "      <td>NaN</td>\n",
       "      <td>NaN</td>\n",
       "      <td>NaN</td>\n",
       "      <td>NaN</td>\n",
       "      <td>NaN</td>\n",
       "      <td>NaN</td>\n",
       "      <td>0.0</td>\n",
       "      <td>NaN</td>\n",
       "      <td>NaN</td>\n",
       "      <td>NaN</td>\n",
       "      <td>NaN</td>\n",
       "      <td>NaN</td>\n",
       "    </tr>\n",
       "  </tbody>\n",
       "</table>\n",
       "</div>"
      ],
      "text/plain": [
       "  Country Name Country Code  Year  Air transport, freight (million ton-km)  \\\n",
       "0        Aruba          ABW  1949                                      NaN   \n",
       "1        Aruba          ABW  1950                                      NaN   \n",
       "2        Aruba          ABW  1951                                      NaN   \n",
       "3        Aruba          ABW  1952                                      NaN   \n",
       "4        Aruba          ABW  1953                                      NaN   \n",
       "\n",
       "   Arable land (hectares per person)  Cereal yield (kg per hectare)  \\\n",
       "0                                NaN                            NaN   \n",
       "1                                NaN                            NaN   \n",
       "2                                NaN                            NaN   \n",
       "3                                NaN                            NaN   \n",
       "4                                NaN                            NaN   \n",
       "\n",
       "   Food production index (2004-2006 = 100)  GDP growth (annual %)  \\\n",
       "0                                      NaN                    NaN   \n",
       "1                                      NaN                    NaN   \n",
       "2                                      NaN                    NaN   \n",
       "3                                      NaN                    NaN   \n",
       "4                                      NaN                    NaN   \n",
       "\n",
       "   GDP per capita (constant 2010 US$)  Net flows from UN agencies US$  \\\n",
       "0                                 NaN                             0.0   \n",
       "1                                 NaN                             0.0   \n",
       "2                                 NaN                             0.0   \n",
       "3                                 NaN                             0.0   \n",
       "4                                 NaN                             0.0   \n",
       "\n",
       "   Life expectancy at birth, total (years)  \\\n",
       "0                                      NaN   \n",
       "1                                      NaN   \n",
       "2                                      NaN   \n",
       "3                                      NaN   \n",
       "4                                      NaN   \n",
       "\n",
       "   Mobile cellular subscriptions (per 100 people)  \\\n",
       "0                                             NaN   \n",
       "1                                             NaN   \n",
       "2                                             NaN   \n",
       "3                                             NaN   \n",
       "4                                             NaN   \n",
       "\n",
       "   Population density (people per sq. km of land area)  \\\n",
       "0                                                NaN     \n",
       "1                                                NaN     \n",
       "2                                                NaN     \n",
       "3                                                NaN     \n",
       "4                                                NaN     \n",
       "\n",
       "   Adjusted savings: education expenditure (% of GNI)  \\\n",
       "0                                                NaN    \n",
       "1                                                NaN    \n",
       "2                                                NaN    \n",
       "3                                                NaN    \n",
       "4                                                NaN    \n",
       "\n",
       "   Rural population (% of total population)  \n",
       "0                                       NaN  \n",
       "1                                       NaN  \n",
       "2                                       NaN  \n",
       "3                                       NaN  \n",
       "4                                       NaN  "
      ]
     },
     "execution_count": 22,
     "metadata": {},
     "output_type": "execute_result"
    }
   ],
   "source": [
    "ds_new.head()"
   ]
  },
  {
   "cell_type": "code",
   "execution_count": 23,
   "metadata": {},
   "outputs": [],
   "source": [
    "#converting all country codes to upper caps\n",
    "ds_new[\"Country Code\"] = ds_new[\"Country Code\"].apply(lambda x: x.upper())"
   ]
  },
  {
   "cell_type": "markdown",
   "metadata": {},
   "source": [
    "# Finding NaN values\n",
    "\n",
    "First we will explore how many of our features have null values:"
   ]
  },
  {
   "cell_type": "code",
   "execution_count": 24,
   "metadata": {},
   "outputs": [],
   "source": [
    "def null_cols(data):\n",
    "\n",
    "    \"\"\"\n",
    "    This function takes a dataframe df and shows the columns of df that have NaN values\n",
    "    and the number of them\n",
    "\n",
    "    \"\"\"\n",
    "    nulls = data.isna().sum()\n",
    "    nulls = nulls[nulls > 0] / len(data) * 100\n",
    "    nulls = pd.DataFrame(nulls.sort_values(ascending = False))\n",
    "    nulls = nulls.reset_index().rename(columns = {\"index\": \"Feature\", 0: \"% Null rows\"})\n",
    "    return nulls"
   ]
  },
  {
   "cell_type": "code",
   "execution_count": 25,
   "metadata": {},
   "outputs": [
    {
     "data": {
      "text/html": [
       "<div>\n",
       "<style scoped>\n",
       "    .dataframe tbody tr th:only-of-type {\n",
       "        vertical-align: middle;\n",
       "    }\n",
       "\n",
       "    .dataframe tbody tr th {\n",
       "        vertical-align: top;\n",
       "    }\n",
       "\n",
       "    .dataframe thead th {\n",
       "        text-align: right;\n",
       "    }\n",
       "</style>\n",
       "<table border=\"1\" class=\"dataframe\">\n",
       "  <thead>\n",
       "    <tr style=\"text-align: right;\">\n",
       "      <th></th>\n",
       "      <th>Feature</th>\n",
       "      <th>% Null rows</th>\n",
       "    </tr>\n",
       "  </thead>\n",
       "  <tbody>\n",
       "    <tr>\n",
       "      <th>0</th>\n",
       "      <td>Air transport, freight (million ton-km)</td>\n",
       "      <td>55.662482</td>\n",
       "    </tr>\n",
       "    <tr>\n",
       "      <th>1</th>\n",
       "      <td>Cereal yield (kg per hectare)</td>\n",
       "      <td>40.175897</td>\n",
       "    </tr>\n",
       "    <tr>\n",
       "      <th>2</th>\n",
       "      <td>GDP per capita (constant 2010 US$)</td>\n",
       "      <td>39.468485</td>\n",
       "    </tr>\n",
       "    <tr>\n",
       "      <th>3</th>\n",
       "      <td>GDP growth (annual %)</td>\n",
       "      <td>39.302785</td>\n",
       "    </tr>\n",
       "    <tr>\n",
       "      <th>4</th>\n",
       "      <td>Adjusted savings: education expenditure (% of ...</td>\n",
       "      <td>38.831177</td>\n",
       "    </tr>\n",
       "    <tr>\n",
       "      <th>5</th>\n",
       "      <td>Mobile cellular subscriptions (per 100 people)</td>\n",
       "      <td>38.722835</td>\n",
       "    </tr>\n",
       "    <tr>\n",
       "      <th>6</th>\n",
       "      <td>Food production index (2004-2006 = 100)</td>\n",
       "      <td>32.776751</td>\n",
       "    </tr>\n",
       "    <tr>\n",
       "      <th>7</th>\n",
       "      <td>Arable land (hectares per person)</td>\n",
       "      <td>31.846281</td>\n",
       "    </tr>\n",
       "    <tr>\n",
       "      <th>8</th>\n",
       "      <td>Life expectancy at birth, total (years)</td>\n",
       "      <td>26.320821</td>\n",
       "    </tr>\n",
       "    <tr>\n",
       "      <th>9</th>\n",
       "      <td>Population density (people per sq. km of land ...</td>\n",
       "      <td>21.012045</td>\n",
       "    </tr>\n",
       "    <tr>\n",
       "      <th>10</th>\n",
       "      <td>Rural population (% of total population)</td>\n",
       "      <td>18.080428</td>\n",
       "    </tr>\n",
       "  </tbody>\n",
       "</table>\n",
       "</div>"
      ],
      "text/plain": [
       "                                              Feature  % Null rows\n",
       "0             Air transport, freight (million ton-km)    55.662482\n",
       "1                       Cereal yield (kg per hectare)    40.175897\n",
       "2                  GDP per capita (constant 2010 US$)    39.468485\n",
       "3                               GDP growth (annual %)    39.302785\n",
       "4   Adjusted savings: education expenditure (% of ...    38.831177\n",
       "5      Mobile cellular subscriptions (per 100 people)    38.722835\n",
       "6             Food production index (2004-2006 = 100)    32.776751\n",
       "7                   Arable land (hectares per person)    31.846281\n",
       "8             Life expectancy at birth, total (years)    26.320821\n",
       "9   Population density (people per sq. km of land ...    21.012045\n",
       "10           Rural population (% of total population)    18.080428"
      ]
     },
     "execution_count": 25,
     "metadata": {},
     "output_type": "execute_result"
    }
   ],
   "source": [
    "null_cols(ds_new)"
   ]
  },
  {
   "cell_type": "code",
   "execution_count": 26,
   "metadata": {},
   "outputs": [],
   "source": [
    "df_null_cols = null_cols(ds_new)"
   ]
  },
  {
   "cell_type": "code",
   "execution_count": 27,
   "metadata": {},
   "outputs": [],
   "source": [
    "df_null_cols.to_csv(r'C:/Users/torre/Documents/Local Omdena WFP files/WorldBank/Part1/df_null_cols.csv', index = False, sep = ';')"
   ]
  },
  {
   "cell_type": "code",
   "execution_count": 28,
   "metadata": {},
   "outputs": [],
   "source": [
    "countries_missing = pd.DataFrame(ds_new[ds_new[\"Air transport, freight (million ton-km)\"].isna()][\"Country Code\"].value_counts())"
   ]
  },
  {
   "cell_type": "code",
   "execution_count": 29,
   "metadata": {},
   "outputs": [],
   "source": [
    "countries_missing= countries_missing.reset_index()"
   ]
  },
  {
   "cell_type": "code",
   "execution_count": 30,
   "metadata": {},
   "outputs": [
    {
     "data": {
      "text/html": [
       "<div>\n",
       "<style scoped>\n",
       "    .dataframe tbody tr th:only-of-type {\n",
       "        vertical-align: middle;\n",
       "    }\n",
       "\n",
       "    .dataframe tbody tr th {\n",
       "        vertical-align: top;\n",
       "    }\n",
       "\n",
       "    .dataframe thead th {\n",
       "        text-align: right;\n",
       "    }\n",
       "</style>\n",
       "<table border=\"1\" class=\"dataframe\">\n",
       "  <thead>\n",
       "    <tr style=\"text-align: right;\">\n",
       "      <th></th>\n",
       "      <th>ISO</th>\n",
       "      <th>missing_rows</th>\n",
       "    </tr>\n",
       "  </thead>\n",
       "  <tbody>\n",
       "    <tr>\n",
       "      <th>0</th>\n",
       "      <td>VCT</td>\n",
       "      <td>71</td>\n",
       "    </tr>\n",
       "    <tr>\n",
       "      <th>1</th>\n",
       "      <td>PYF</td>\n",
       "      <td>71</td>\n",
       "    </tr>\n",
       "    <tr>\n",
       "      <th>2</th>\n",
       "      <td>IMN</td>\n",
       "      <td>71</td>\n",
       "    </tr>\n",
       "    <tr>\n",
       "      <th>3</th>\n",
       "      <td>LIE</td>\n",
       "      <td>71</td>\n",
       "    </tr>\n",
       "    <tr>\n",
       "      <th>4</th>\n",
       "      <td>ERI</td>\n",
       "      <td>71</td>\n",
       "    </tr>\n",
       "    <tr>\n",
       "      <th>...</th>\n",
       "      <td>...</td>\n",
       "      <td>...</td>\n",
       "    </tr>\n",
       "    <tr>\n",
       "      <th>216</th>\n",
       "      <td>SYR</td>\n",
       "      <td>22</td>\n",
       "    </tr>\n",
       "    <tr>\n",
       "      <th>217</th>\n",
       "      <td>FIN</td>\n",
       "      <td>22</td>\n",
       "    </tr>\n",
       "    <tr>\n",
       "      <th>218</th>\n",
       "      <td>EGY</td>\n",
       "      <td>22</td>\n",
       "    </tr>\n",
       "    <tr>\n",
       "      <th>219</th>\n",
       "      <td>LAO</td>\n",
       "      <td>22</td>\n",
       "    </tr>\n",
       "    <tr>\n",
       "      <th>220</th>\n",
       "      <td>JPN</td>\n",
       "      <td>22</td>\n",
       "    </tr>\n",
       "  </tbody>\n",
       "</table>\n",
       "<p>221 rows × 2 columns</p>\n",
       "</div>"
      ],
      "text/plain": [
       "     ISO  missing_rows\n",
       "0    VCT            71\n",
       "1    PYF            71\n",
       "2    IMN            71\n",
       "3    LIE            71\n",
       "4    ERI            71\n",
       "..   ...           ...\n",
       "216  SYR            22\n",
       "217  FIN            22\n",
       "218  EGY            22\n",
       "219  LAO            22\n",
       "220  JPN            22\n",
       "\n",
       "[221 rows x 2 columns]"
      ]
     },
     "execution_count": 30,
     "metadata": {},
     "output_type": "execute_result"
    }
   ],
   "source": [
    "countries_missing.rename(columns={\"index\": \"ISO\", \"Country Code\": \"missing_rows\"})"
   ]
  },
  {
   "cell_type": "markdown",
   "metadata": {},
   "source": [
    "# Correlations between the features\n",
    "\n",
    "Here we should isolate the non numerical features from the rest. We first should check the data types of the data set:"
   ]
  },
  {
   "cell_type": "code",
   "execution_count": 31,
   "metadata": {},
   "outputs": [],
   "source": [
    "#Selecting the numerical features\n",
    "\n",
    "numerical_features = list(ds_new.select_dtypes(include=['float64']).columns)"
   ]
  },
  {
   "cell_type": "code",
   "execution_count": 32,
   "metadata": {},
   "outputs": [],
   "source": [
    "#New data sets to construct the correlation matrix\n",
    "ds_num = ds_new[numerical_features]"
   ]
  },
  {
   "cell_type": "code",
   "execution_count": 33,
   "metadata": {},
   "outputs": [],
   "source": [
    "#correlation matrices\n",
    "corr_num = ds_num.corr(method = \"spearman\")"
   ]
  },
  {
   "cell_type": "code",
   "execution_count": 34,
   "metadata": {},
   "outputs": [
    {
     "data": {
      "text/plain": [
       "(12.5, -0.5)"
      ]
     },
     "execution_count": 34,
     "metadata": {},
     "output_type": "execute_result"
    },
    {
     "data": {
      "image/png": "[encoded data removed]",
      "text/plain": [
       "<Figure size 864x864 with 2 Axes>"
      ]
     },
     "metadata": {
      "needs_background": "light"
     },
     "output_type": "display_data"
    }
   ],
   "source": [
    "fig, ax = plt.subplots(figsize=(12,12))\n",
    "ax = plt.subplot(111)\n",
    "sns.heatmap(corr_num, annot=True, linewidth=1, cmap=\"BrBG\", ax=ax)\n",
    "bottom, top = ax.get_ylim()             # this fixes a bug where first and last columns were not visualized correctly\n",
    "ax.set_ylim(bottom + 0.5, top - 0.5)"
   ]
  },
  {
   "cell_type": "code",
   "execution_count": 35,
   "metadata": {},
   "outputs": [],
   "source": [
    "# Writing to csv the datase\n",
    "\n",
    "corr_num.to_csv(r'C:/Users/torre/Documents/Local Omdena WFP files/WorldBank/Part1/corr_num.csv', index = True, sep = ';')"
   ]
  },
  {
   "cell_type": "markdown",
   "metadata": {},
   "source": [
    "## Filling NaNs by using rolling average for each feature"
   ]
  },
  {
   "cell_type": "markdown",
   "metadata": {},
   "source": [
    "Moving average can be used as a data preparation technique to create a smoothed version of the original dataset.\n",
    "\n",
    "Smoothing is useful as a data preparation technique as it can reduce the random variation in the observations and better expose the structure of the underlying causal processes.\n",
    "\n",
    "The rolling() function on the Time Series Pandas object will automatically group observations into a window. You can specify the window size, and by default a trailing window is created. Once the window is created, we can take the mean value, and this is our transformed dataset.\n",
    "\n",
    "rolling(4, min_periods = 1), which tells the function the minimum number of defined values within a window that have to be present to calculate a result.\n",
    "\n",
    "**Idea Geetha:**"
   ]
  },
  {
   "cell_type": "raw",
   "metadata": {},
   "source": [
    "dataframe_try2=dataframe_try1.fillna(dataframe_try1.rolling(6,min_periods=1,win_type='gaussian').mean(std=1))\n",
    "dataframe_try3 = dataframe_try2.fillna(method = 'bfill')\n",
    "dataframe_try3.tail(20)"
   ]
  },
  {
   "cell_type": "markdown",
   "metadata": {},
   "source": [
    "We start with this missing values:"
   ]
  },
  {
   "cell_type": "code",
   "execution_count": 36,
   "metadata": {},
   "outputs": [
    {
     "data": {
      "text/html": [
       "<div>\n",
       "<style scoped>\n",
       "    .dataframe tbody tr th:only-of-type {\n",
       "        vertical-align: middle;\n",
       "    }\n",
       "\n",
       "    .dataframe tbody tr th {\n",
       "        vertical-align: top;\n",
       "    }\n",
       "\n",
       "    .dataframe thead th {\n",
       "        text-align: right;\n",
       "    }\n",
       "</style>\n",
       "<table border=\"1\" class=\"dataframe\">\n",
       "  <thead>\n",
       "    <tr style=\"text-align: right;\">\n",
       "      <th></th>\n",
       "      <th>Feature</th>\n",
       "      <th>% Null rows</th>\n",
       "    </tr>\n",
       "  </thead>\n",
       "  <tbody>\n",
       "    <tr>\n",
       "      <th>0</th>\n",
       "      <td>Air transport, freight (million ton-km)</td>\n",
       "      <td>55.662482</td>\n",
       "    </tr>\n",
       "    <tr>\n",
       "      <th>1</th>\n",
       "      <td>Cereal yield (kg per hectare)</td>\n",
       "      <td>40.175897</td>\n",
       "    </tr>\n",
       "    <tr>\n",
       "      <th>2</th>\n",
       "      <td>GDP per capita (constant 2010 US$)</td>\n",
       "      <td>39.468485</td>\n",
       "    </tr>\n",
       "    <tr>\n",
       "      <th>3</th>\n",
       "      <td>GDP growth (annual %)</td>\n",
       "      <td>39.302785</td>\n",
       "    </tr>\n",
       "    <tr>\n",
       "      <th>4</th>\n",
       "      <td>Adjusted savings: education expenditure (% of ...</td>\n",
       "      <td>38.831177</td>\n",
       "    </tr>\n",
       "    <tr>\n",
       "      <th>5</th>\n",
       "      <td>Mobile cellular subscriptions (per 100 people)</td>\n",
       "      <td>38.722835</td>\n",
       "    </tr>\n",
       "    <tr>\n",
       "      <th>6</th>\n",
       "      <td>Food production index (2004-2006 = 100)</td>\n",
       "      <td>32.776751</td>\n",
       "    </tr>\n",
       "    <tr>\n",
       "      <th>7</th>\n",
       "      <td>Arable land (hectares per person)</td>\n",
       "      <td>31.846281</td>\n",
       "    </tr>\n",
       "    <tr>\n",
       "      <th>8</th>\n",
       "      <td>Life expectancy at birth, total (years)</td>\n",
       "      <td>26.320821</td>\n",
       "    </tr>\n",
       "    <tr>\n",
       "      <th>9</th>\n",
       "      <td>Population density (people per sq. km of land ...</td>\n",
       "      <td>21.012045</td>\n",
       "    </tr>\n",
       "    <tr>\n",
       "      <th>10</th>\n",
       "      <td>Rural population (% of total population)</td>\n",
       "      <td>18.080428</td>\n",
       "    </tr>\n",
       "  </tbody>\n",
       "</table>\n",
       "</div>"
      ],
      "text/plain": [
       "                                              Feature  % Null rows\n",
       "0             Air transport, freight (million ton-km)    55.662482\n",
       "1                       Cereal yield (kg per hectare)    40.175897\n",
       "2                  GDP per capita (constant 2010 US$)    39.468485\n",
       "3                               GDP growth (annual %)    39.302785\n",
       "4   Adjusted savings: education expenditure (% of ...    38.831177\n",
       "5      Mobile cellular subscriptions (per 100 people)    38.722835\n",
       "6             Food production index (2004-2006 = 100)    32.776751\n",
       "7                   Arable land (hectares per person)    31.846281\n",
       "8             Life expectancy at birth, total (years)    26.320821\n",
       "9   Population density (people per sq. km of land ...    21.012045\n",
       "10           Rural population (% of total population)    18.080428"
      ]
     },
     "execution_count": 36,
     "metadata": {},
     "output_type": "execute_result"
    }
   ],
   "source": [
    "null_cols(ds_new)"
   ]
  },
  {
   "cell_type": "markdown",
   "metadata": {},
   "source": [
    "## Filling values for other features"
   ]
  },
  {
   "cell_type": "markdown",
   "metadata": {},
   "source": [
    "First we will check which countries we have in the cyclones data set to restrict ourselves to them:"
   ]
  },
  {
   "cell_type": "code",
   "execution_count": 40,
   "metadata": {},
   "outputs": [],
   "source": [
    "cy = pd.read_csv('Data_input/Master_1504.csv', sep=';', low_memory = False)"
   ]
  },
  {
   "cell_type": "code",
   "execution_count": 41,
   "metadata": {},
   "outputs": [],
   "source": [
    "countries_cy = list(cy.ISO.value_counts().index)\n",
    "countries_cy.sort()"
   ]
  },
  {
   "cell_type": "code",
   "execution_count": 42,
   "metadata": {},
   "outputs": [
    {
     "data": {
      "text/plain": [
       "['AUS', 'BGD', 'BHS', 'BLZ', 'CAN', 'CHN', 'COL', 'COM', 'CRI', 'CUB']"
      ]
     },
     "execution_count": 42,
     "metadata": {},
     "output_type": "execute_result"
    }
   ],
   "source": [
    "countries_cy[0:10]"
   ]
  },
  {
   "cell_type": "markdown",
   "metadata": {},
   "source": [
    "Now we will create a new data set containing just data relevant to those countries:"
   ]
  },
  {
   "cell_type": "code",
   "execution_count": 43,
   "metadata": {},
   "outputs": [],
   "source": [
    "ds_cy = ds_new[ds_new[\"Country Code\"].isin(countries_cy)].copy()"
   ]
  },
  {
   "cell_type": "code",
   "execution_count": 44,
   "metadata": {},
   "outputs": [
    {
     "data": {
      "text/html": [
       "<div>\n",
       "<style scoped>\n",
       "    .dataframe tbody tr th:only-of-type {\n",
       "        vertical-align: middle;\n",
       "    }\n",
       "\n",
       "    .dataframe tbody tr th {\n",
       "        vertical-align: top;\n",
       "    }\n",
       "\n",
       "    .dataframe thead th {\n",
       "        text-align: right;\n",
       "    }\n",
       "</style>\n",
       "<table border=\"1\" class=\"dataframe\">\n",
       "  <thead>\n",
       "    <tr style=\"text-align: right;\">\n",
       "      <th></th>\n",
       "      <th>Country Name</th>\n",
       "      <th>Country Code</th>\n",
       "      <th>Year</th>\n",
       "      <th>Air transport, freight (million ton-km)</th>\n",
       "      <th>Arable land (hectares per person)</th>\n",
       "      <th>Cereal yield (kg per hectare)</th>\n",
       "      <th>Food production index (2004-2006 = 100)</th>\n",
       "      <th>GDP growth (annual %)</th>\n",
       "      <th>GDP per capita (constant 2010 US$)</th>\n",
       "      <th>Net flows from UN agencies US$</th>\n",
       "      <th>Life expectancy at birth, total (years)</th>\n",
       "      <th>Mobile cellular subscriptions (per 100 people)</th>\n",
       "      <th>Population density (people per sq. km of land area)</th>\n",
       "      <th>Adjusted savings: education expenditure (% of GNI)</th>\n",
       "      <th>Rural population (% of total population)</th>\n",
       "    </tr>\n",
       "  </thead>\n",
       "  <tbody>\n",
       "    <tr>\n",
       "      <th>710</th>\n",
       "      <td>Australia</td>\n",
       "      <td>AUS</td>\n",
       "      <td>1949</td>\n",
       "      <td>NaN</td>\n",
       "      <td>NaN</td>\n",
       "      <td>NaN</td>\n",
       "      <td>NaN</td>\n",
       "      <td>NaN</td>\n",
       "      <td>NaN</td>\n",
       "      <td>0.0</td>\n",
       "      <td>NaN</td>\n",
       "      <td>NaN</td>\n",
       "      <td>NaN</td>\n",
       "      <td>NaN</td>\n",
       "      <td>NaN</td>\n",
       "    </tr>\n",
       "    <tr>\n",
       "      <th>711</th>\n",
       "      <td>Australia</td>\n",
       "      <td>AUS</td>\n",
       "      <td>1950</td>\n",
       "      <td>NaN</td>\n",
       "      <td>NaN</td>\n",
       "      <td>NaN</td>\n",
       "      <td>NaN</td>\n",
       "      <td>NaN</td>\n",
       "      <td>NaN</td>\n",
       "      <td>0.0</td>\n",
       "      <td>NaN</td>\n",
       "      <td>NaN</td>\n",
       "      <td>NaN</td>\n",
       "      <td>NaN</td>\n",
       "      <td>NaN</td>\n",
       "    </tr>\n",
       "  </tbody>\n",
       "</table>\n",
       "</div>"
      ],
      "text/plain": [
       "    Country Name Country Code  Year  Air transport, freight (million ton-km)  \\\n",
       "710    Australia          AUS  1949                                      NaN   \n",
       "711    Australia          AUS  1950                                      NaN   \n",
       "\n",
       "     Arable land (hectares per person)  Cereal yield (kg per hectare)  \\\n",
       "710                                NaN                            NaN   \n",
       "711                                NaN                            NaN   \n",
       "\n",
       "     Food production index (2004-2006 = 100)  GDP growth (annual %)  \\\n",
       "710                                      NaN                    NaN   \n",
       "711                                      NaN                    NaN   \n",
       "\n",
       "     GDP per capita (constant 2010 US$)  Net flows from UN agencies US$  \\\n",
       "710                                 NaN                             0.0   \n",
       "711                                 NaN                             0.0   \n",
       "\n",
       "     Life expectancy at birth, total (years)  \\\n",
       "710                                      NaN   \n",
       "711                                      NaN   \n",
       "\n",
       "     Mobile cellular subscriptions (per 100 people)  \\\n",
       "710                                             NaN   \n",
       "711                                             NaN   \n",
       "\n",
       "     Population density (people per sq. km of land area)  \\\n",
       "710                                                NaN     \n",
       "711                                                NaN     \n",
       "\n",
       "     Adjusted savings: education expenditure (% of GNI)  \\\n",
       "710                                                NaN    \n",
       "711                                                NaN    \n",
       "\n",
       "     Rural population (% of total population)  \n",
       "710                                       NaN  \n",
       "711                                       NaN  "
      ]
     },
     "execution_count": 44,
     "metadata": {},
     "output_type": "execute_result"
    }
   ],
   "source": [
    "ds_cy.head(2)"
   ]
  },
  {
   "cell_type": "markdown",
   "metadata": {},
   "source": [
    "Checking for null values:"
   ]
  },
  {
   "cell_type": "code",
   "execution_count": 45,
   "metadata": {},
   "outputs": [
    {
     "data": {
      "text/html": [
       "<div>\n",
       "<style scoped>\n",
       "    .dataframe tbody tr th:only-of-type {\n",
       "        vertical-align: middle;\n",
       "    }\n",
       "\n",
       "    .dataframe tbody tr th {\n",
       "        vertical-align: top;\n",
       "    }\n",
       "\n",
       "    .dataframe thead th {\n",
       "        text-align: right;\n",
       "    }\n",
       "</style>\n",
       "<table border=\"1\" class=\"dataframe\">\n",
       "  <thead>\n",
       "    <tr style=\"text-align: right;\">\n",
       "      <th></th>\n",
       "      <th>Feature</th>\n",
       "      <th>% Null rows</th>\n",
       "    </tr>\n",
       "  </thead>\n",
       "  <tbody>\n",
       "    <tr>\n",
       "      <th>0</th>\n",
       "      <td>Air transport, freight (million ton-km)</td>\n",
       "      <td>48.826291</td>\n",
       "    </tr>\n",
       "    <tr>\n",
       "      <th>1</th>\n",
       "      <td>Adjusted savings: education expenditure (% of ...</td>\n",
       "      <td>35.613682</td>\n",
       "    </tr>\n",
       "    <tr>\n",
       "      <th>2</th>\n",
       "      <td>Mobile cellular subscriptions (per 100 people)</td>\n",
       "      <td>35.278337</td>\n",
       "    </tr>\n",
       "    <tr>\n",
       "      <th>3</th>\n",
       "      <td>GDP per capita (constant 2010 US$)</td>\n",
       "      <td>31.790744</td>\n",
       "    </tr>\n",
       "    <tr>\n",
       "      <th>4</th>\n",
       "      <td>GDP growth (annual %)</td>\n",
       "      <td>31.522468</td>\n",
       "    </tr>\n",
       "    <tr>\n",
       "      <th>5</th>\n",
       "      <td>Cereal yield (kg per hectare)</td>\n",
       "      <td>28.280796</td>\n",
       "    </tr>\n",
       "    <tr>\n",
       "      <th>6</th>\n",
       "      <td>Food production index (2004-2006 = 100)</td>\n",
       "      <td>23.183546</td>\n",
       "    </tr>\n",
       "    <tr>\n",
       "      <th>7</th>\n",
       "      <td>Arable land (hectares per person)</td>\n",
       "      <td>23.071764</td>\n",
       "    </tr>\n",
       "    <tr>\n",
       "      <th>8</th>\n",
       "      <td>Life expectancy at birth, total (years)</td>\n",
       "      <td>20.880841</td>\n",
       "    </tr>\n",
       "    <tr>\n",
       "      <th>9</th>\n",
       "      <td>Population density (people per sq. km of land ...</td>\n",
       "      <td>18.309859</td>\n",
       "    </tr>\n",
       "    <tr>\n",
       "      <th>10</th>\n",
       "      <td>Rural population (% of total population)</td>\n",
       "      <td>16.901408</td>\n",
       "    </tr>\n",
       "  </tbody>\n",
       "</table>\n",
       "</div>"
      ],
      "text/plain": [
       "                                              Feature  % Null rows\n",
       "0             Air transport, freight (million ton-km)    48.826291\n",
       "1   Adjusted savings: education expenditure (% of ...    35.613682\n",
       "2      Mobile cellular subscriptions (per 100 people)    35.278337\n",
       "3                  GDP per capita (constant 2010 US$)    31.790744\n",
       "4                               GDP growth (annual %)    31.522468\n",
       "5                       Cereal yield (kg per hectare)    28.280796\n",
       "6             Food production index (2004-2006 = 100)    23.183546\n",
       "7                   Arable land (hectares per person)    23.071764\n",
       "8             Life expectancy at birth, total (years)    20.880841\n",
       "9   Population density (people per sq. km of land ...    18.309859\n",
       "10           Rural population (% of total population)    16.901408"
      ]
     },
     "execution_count": 45,
     "metadata": {},
     "output_type": "execute_result"
    }
   ],
   "source": [
    "null_cols(ds_cy)"
   ]
  },
  {
   "cell_type": "markdown",
   "metadata": {},
   "source": [
    "First we will make a list with the null features in this data set, and then we will iterate through each feature and country to fill the missing values."
   ]
  },
  {
   "cell_type": "code",
   "execution_count": 46,
   "metadata": {},
   "outputs": [],
   "source": [
    "features_nulls = list(null_cols(ds_cy).Feature)\n",
    "features_nulls.sort()\n"
   ]
  },
  {
   "cell_type": "code",
   "execution_count": 47,
   "metadata": {},
   "outputs": [
    {
     "data": {
      "text/plain": [
       "['Adjusted savings: education expenditure (% of GNI)',\n",
       " 'Air transport, freight (million ton-km)',\n",
       " 'Arable land (hectares per person)',\n",
       " 'Cereal yield (kg per hectare)',\n",
       " 'Food production index (2004-2006 = 100)',\n",
       " 'GDP growth (annual %)',\n",
       " 'GDP per capita (constant 2010 US$)',\n",
       " 'Life expectancy at birth, total (years)',\n",
       " 'Mobile cellular subscriptions (per 100 people)',\n",
       " 'Population density (people per sq. km of land area)',\n",
       " 'Rural population (% of total population)']"
      ]
     },
     "execution_count": 47,
     "metadata": {},
     "output_type": "execute_result"
    }
   ],
   "source": [
    "features_nulls"
   ]
  },
  {
   "cell_type": "code",
   "execution_count": 48,
   "metadata": {},
   "outputs": [],
   "source": [
    "countries_nulls = list(ds_cy[ds_cy[features_nulls[1]].isna()][\"Country Code\"].value_counts().index)"
   ]
  },
  {
   "cell_type": "code",
   "execution_count": 49,
   "metadata": {},
   "outputs": [],
   "source": [
    "countries_nulls.sort()"
   ]
  },
  {
   "cell_type": "markdown",
   "metadata": {},
   "source": [
    "## Example: Feature 1 and country 0"
   ]
  },
  {
   "cell_type": "markdown",
   "metadata": {},
   "source": [
    "Let us begin with the first one and try the moving average algorithm here:"
   ]
  },
  {
   "cell_type": "code",
   "execution_count": 50,
   "metadata": {},
   "outputs": [],
   "source": [
    "ds_opt = ds_cy[(ds_cy[\"Country Code\"]== countries_nulls[0])][[\"Year\", features_nulls[1]]].copy()"
   ]
  },
  {
   "cell_type": "code",
   "execution_count": 51,
   "metadata": {},
   "outputs": [],
   "source": [
    "ds_opt.set_index(\"Year\", inplace= True)"
   ]
  },
  {
   "cell_type": "code",
   "execution_count": 52,
   "metadata": {},
   "outputs": [
    {
     "data": {
      "image/png": "[encoded data removed]",
      "text/plain": [
       "<Figure size 576x360 with 1 Axes>"
      ]
     },
     "metadata": {
      "needs_background": "light"
     },
     "output_type": "display_data"
    }
   ],
   "source": [
    "ds_opt.plot(c = \"m\");"
   ]
  },
  {
   "cell_type": "code",
   "execution_count": 53,
   "metadata": {},
   "outputs": [],
   "source": [
    "test = ds_opt.fillna(ds_opt.rolling(6,min_periods=1,win_type='gaussian').mean(std=1)).copy()\n",
    "test = test.fillna(method = 'bfill')\n",
    "#dataframe_try3.tail(20)"
   ]
  },
  {
   "cell_type": "code",
   "execution_count": 54,
   "metadata": {},
   "outputs": [
    {
     "data": {
      "image/png": "[encoded data removed]",
      "text/plain": [
       "<Figure size 576x360 with 1 Axes>"
      ]
     },
     "metadata": {
      "needs_background": "light"
     },
     "output_type": "display_data"
    }
   ],
   "source": [
    "test.merge(ds_opt, on = \"Year\", how = \"right\").rename(columns= {features_nulls[1]+\"_x\": \"after inputs\", features_nulls[1]+\"_y\": \"observed\"}).plot();"
   ]
  },
  {
   "cell_type": "markdown",
   "metadata": {},
   "source": [
    "Next country:"
   ]
  },
  {
   "cell_type": "code",
   "execution_count": 55,
   "metadata": {},
   "outputs": [
    {
     "data": {
      "text/plain": [
       "'BGD'"
      ]
     },
     "execution_count": 55,
     "metadata": {},
     "output_type": "execute_result"
    }
   ],
   "source": [
    "countries_nulls[1]"
   ]
  },
  {
   "cell_type": "code",
   "execution_count": 56,
   "metadata": {},
   "outputs": [],
   "source": [
    "ds_opt = ds_cy[(ds_cy[\"Country Code\"]== countries_nulls[1])][[\"Year\", features_nulls[1]]].copy()\n",
    "ds_opt.set_index(\"Year\", inplace= True)\n"
   ]
  },
  {
   "cell_type": "code",
   "execution_count": 57,
   "metadata": {},
   "outputs": [],
   "source": [
    "test = ds_opt.fillna(ds_opt.rolling(6,min_periods=1,win_type='gaussian').mean(std=1)).copy()\n",
    "test = test.fillna(method = 'bfill')\n",
    "#dataframe_try3.tail(20)"
   ]
  },
  {
   "cell_type": "code",
   "execution_count": 58,
   "metadata": {},
   "outputs": [
    {
     "data": {
      "image/png": "[encoded data removed]",
      "text/plain": [
       "<Figure size 576x360 with 1 Axes>"
      ]
     },
     "metadata": {
      "needs_background": "light"
     },
     "output_type": "display_data"
    }
   ],
   "source": [
    "test.merge(ds_opt, on = \"Year\", how = \"inner\").rename(columns= {features_nulls[1]+\"_y\": \"observed\", features_nulls[1]+\"_x\": \"after inputs\"}).plot();"
   ]
  },
  {
   "cell_type": "markdown",
   "metadata": {},
   "source": [
    "## Constructing a function doing everything at once:\n",
    "\n",
    "We can construct then a function doing this for each country and feature:"
   ]
  },
  {
   "cell_type": "code",
   "execution_count": 59,
   "metadata": {},
   "outputs": [],
   "source": [
    "#1. Obtain countries list with nulls in each feature\n",
    "def get_countries_null(data,feature):\n",
    "    \n",
    "    count_nulls = list(data[data[feature].isna()][\"Country Code\"].value_counts().index)\n",
    "    count_nulls.sort()\n",
    "    return count_nulls\n",
    "    "
   ]
  },
  {
   "cell_type": "code",
   "execution_count": 60,
   "metadata": {},
   "outputs": [],
   "source": [
    "#2. isolate the column\n",
    "\n",
    "def get_timeseries(data, feature, country):\n",
    "    return data[(data[\"Country Code\"]== country)][[\"Year\", feature]].set_index(\"Year\")"
   ]
  },
  {
   "cell_type": "code",
   "execution_count": 61,
   "metadata": {},
   "outputs": [],
   "source": [
    "# get individual data set\n",
    "\n",
    "def get_values(data, feature, country):\n",
    "    datatest = get_timeseries(data, feature, country)\n",
    "    datatest = datatest.fillna(datatest.rolling(6,min_periods=1,win_type='gaussian').mean(std=1))\n",
    "    if (feature != 'Mobile cellular subscriptions (per 100 people)' and feature != 'GDP growth (annual %)'):\n",
    "        datatest = datatest.fillna(method = 'bfill')\n",
    "    datatest = datatest.fillna(method = 'ffill')\n",
    "    datatest[\"Country Code\"] = country\n",
    "    return datatest"
   ]
  },
  {
   "cell_type": "code",
   "execution_count": 62,
   "metadata": {},
   "outputs": [],
   "source": [
    "#put all together\n",
    "\n",
    "def fill_values(data, feature):\n",
    "    dfs = []\n",
    "    null_countries = get_countries_null(data, feature)\n",
    "    for country in countries_cy:\n",
    "        if country in null_countries:\n",
    "            dataset = get_values(data, feature, country)\n",
    "        else:\n",
    "            dataset = get_timeseries(data, feature, country)\n",
    "            dataset[\"Country Code\"] = country\n",
    "        dfs.append(dataset)\n",
    "\n",
    "    return pd.concat(dfs)\n",
    "               "
   ]
  },
  {
   "cell_type": "markdown",
   "metadata": {},
   "source": [
    "Let us test our main function ``fill_values`` with one feature and merge with the original dataset:"
   ]
  },
  {
   "cell_type": "code",
   "execution_count": 63,
   "metadata": {},
   "outputs": [
    {
     "data": {
      "text/html": [
       "<div>\n",
       "<style scoped>\n",
       "    .dataframe tbody tr th:only-of-type {\n",
       "        vertical-align: middle;\n",
       "    }\n",
       "\n",
       "    .dataframe tbody tr th {\n",
       "        vertical-align: top;\n",
       "    }\n",
       "\n",
       "    .dataframe thead th {\n",
       "        text-align: right;\n",
       "    }\n",
       "</style>\n",
       "<table border=\"1\" class=\"dataframe\">\n",
       "  <thead>\n",
       "    <tr style=\"text-align: right;\">\n",
       "      <th></th>\n",
       "      <th>Year</th>\n",
       "      <th>Air transport, freight (million ton-km)_x</th>\n",
       "      <th>Country Code</th>\n",
       "      <th>Country Name</th>\n",
       "      <th>Air transport, freight (million ton-km)_y</th>\n",
       "      <th>Arable land (hectares per person)</th>\n",
       "      <th>Cereal yield (kg per hectare)</th>\n",
       "      <th>Food production index (2004-2006 = 100)</th>\n",
       "      <th>GDP growth (annual %)</th>\n",
       "      <th>GDP per capita (constant 2010 US$)</th>\n",
       "      <th>Net flows from UN agencies US$</th>\n",
       "      <th>Life expectancy at birth, total (years)</th>\n",
       "      <th>Mobile cellular subscriptions (per 100 people)</th>\n",
       "      <th>Population density (people per sq. km of land area)</th>\n",
       "      <th>Adjusted savings: education expenditure (% of GNI)</th>\n",
       "      <th>Rural population (% of total population)</th>\n",
       "    </tr>\n",
       "  </thead>\n",
       "  <tbody>\n",
       "    <tr>\n",
       "      <th>0</th>\n",
       "      <td>1949</td>\n",
       "      <td>234.699997</td>\n",
       "      <td>AUS</td>\n",
       "      <td>Australia</td>\n",
       "      <td>NaN</td>\n",
       "      <td>NaN</td>\n",
       "      <td>NaN</td>\n",
       "      <td>NaN</td>\n",
       "      <td>NaN</td>\n",
       "      <td>NaN</td>\n",
       "      <td>0.000000e+00</td>\n",
       "      <td>NaN</td>\n",
       "      <td>NaN</td>\n",
       "      <td>NaN</td>\n",
       "      <td>NaN</td>\n",
       "      <td>NaN</td>\n",
       "    </tr>\n",
       "    <tr>\n",
       "      <th>1</th>\n",
       "      <td>1950</td>\n",
       "      <td>234.699997</td>\n",
       "      <td>AUS</td>\n",
       "      <td>Australia</td>\n",
       "      <td>NaN</td>\n",
       "      <td>NaN</td>\n",
       "      <td>NaN</td>\n",
       "      <td>NaN</td>\n",
       "      <td>NaN</td>\n",
       "      <td>NaN</td>\n",
       "      <td>0.000000e+00</td>\n",
       "      <td>NaN</td>\n",
       "      <td>NaN</td>\n",
       "      <td>NaN</td>\n",
       "      <td>NaN</td>\n",
       "      <td>NaN</td>\n",
       "    </tr>\n",
       "    <tr>\n",
       "      <th>2</th>\n",
       "      <td>1951</td>\n",
       "      <td>234.699997</td>\n",
       "      <td>AUS</td>\n",
       "      <td>Australia</td>\n",
       "      <td>NaN</td>\n",
       "      <td>NaN</td>\n",
       "      <td>NaN</td>\n",
       "      <td>NaN</td>\n",
       "      <td>NaN</td>\n",
       "      <td>NaN</td>\n",
       "      <td>0.000000e+00</td>\n",
       "      <td>NaN</td>\n",
       "      <td>NaN</td>\n",
       "      <td>NaN</td>\n",
       "      <td>NaN</td>\n",
       "      <td>NaN</td>\n",
       "    </tr>\n",
       "    <tr>\n",
       "      <th>3</th>\n",
       "      <td>1952</td>\n",
       "      <td>234.699997</td>\n",
       "      <td>AUS</td>\n",
       "      <td>Australia</td>\n",
       "      <td>NaN</td>\n",
       "      <td>NaN</td>\n",
       "      <td>NaN</td>\n",
       "      <td>NaN</td>\n",
       "      <td>NaN</td>\n",
       "      <td>NaN</td>\n",
       "      <td>0.000000e+00</td>\n",
       "      <td>NaN</td>\n",
       "      <td>NaN</td>\n",
       "      <td>NaN</td>\n",
       "      <td>NaN</td>\n",
       "      <td>NaN</td>\n",
       "    </tr>\n",
       "    <tr>\n",
       "      <th>4</th>\n",
       "      <td>1953</td>\n",
       "      <td>234.699997</td>\n",
       "      <td>AUS</td>\n",
       "      <td>Australia</td>\n",
       "      <td>NaN</td>\n",
       "      <td>NaN</td>\n",
       "      <td>NaN</td>\n",
       "      <td>NaN</td>\n",
       "      <td>NaN</td>\n",
       "      <td>NaN</td>\n",
       "      <td>0.000000e+00</td>\n",
       "      <td>NaN</td>\n",
       "      <td>NaN</td>\n",
       "      <td>NaN</td>\n",
       "      <td>NaN</td>\n",
       "      <td>NaN</td>\n",
       "    </tr>\n",
       "    <tr>\n",
       "      <th>...</th>\n",
       "      <td>...</td>\n",
       "      <td>...</td>\n",
       "      <td>...</td>\n",
       "      <td>...</td>\n",
       "      <td>...</td>\n",
       "      <td>...</td>\n",
       "      <td>...</td>\n",
       "      <td>...</td>\n",
       "      <td>...</td>\n",
       "      <td>...</td>\n",
       "      <td>...</td>\n",
       "      <td>...</td>\n",
       "      <td>...</td>\n",
       "      <td>...</td>\n",
       "      <td>...</td>\n",
       "      <td>...</td>\n",
       "    </tr>\n",
       "    <tr>\n",
       "      <th>4468</th>\n",
       "      <td>2015</td>\n",
       "      <td>0.796107</td>\n",
       "      <td>ZWE</td>\n",
       "      <td>Zimbabwe</td>\n",
       "      <td>0.796107</td>\n",
       "      <td>0.289548</td>\n",
       "      <td>558.2</td>\n",
       "      <td>83.42</td>\n",
       "      <td>1.779873</td>\n",
       "      <td>1234.103352</td>\n",
       "      <td>1.197046e+07</td>\n",
       "      <td>59.534</td>\n",
       "      <td>92.347105</td>\n",
       "      <td>35.710557</td>\n",
       "      <td>1.91</td>\n",
       "      <td>67.615</td>\n",
       "    </tr>\n",
       "    <tr>\n",
       "      <th>4469</th>\n",
       "      <td>2016</td>\n",
       "      <td>0.804947</td>\n",
       "      <td>ZWE</td>\n",
       "      <td>Zimbabwe</td>\n",
       "      <td>0.804947</td>\n",
       "      <td>0.285095</td>\n",
       "      <td>581.8</td>\n",
       "      <td>88.75</td>\n",
       "      <td>0.755869</td>\n",
       "      <td>1224.309922</td>\n",
       "      <td>4.008604e+07</td>\n",
       "      <td>60.294</td>\n",
       "      <td>91.793458</td>\n",
       "      <td>36.268295</td>\n",
       "      <td>1.91</td>\n",
       "      <td>67.704</td>\n",
       "    </tr>\n",
       "    <tr>\n",
       "      <th>4470</th>\n",
       "      <td>2017</td>\n",
       "      <td>0.665035</td>\n",
       "      <td>ZWE</td>\n",
       "      <td>Zimbabwe</td>\n",
       "      <td>0.665035</td>\n",
       "      <td>NaN</td>\n",
       "      <td>616.0</td>\n",
       "      <td>NaN</td>\n",
       "      <td>4.704035</td>\n",
       "      <td>1263.321322</td>\n",
       "      <td>2.992663e+07</td>\n",
       "      <td>60.812</td>\n",
       "      <td>98.985073</td>\n",
       "      <td>36.801719</td>\n",
       "      <td>1.91</td>\n",
       "      <td>67.763</td>\n",
       "    </tr>\n",
       "    <tr>\n",
       "      <th>4471</th>\n",
       "      <td>2018</td>\n",
       "      <td>0.665035</td>\n",
       "      <td>ZWE</td>\n",
       "      <td>Zimbabwe</td>\n",
       "      <td>0.665035</td>\n",
       "      <td>NaN</td>\n",
       "      <td>NaN</td>\n",
       "      <td>NaN</td>\n",
       "      <td>6.159190</td>\n",
       "      <td>1322.344063</td>\n",
       "      <td>2.163715e+07</td>\n",
       "      <td>NaN</td>\n",
       "      <td>89.404869</td>\n",
       "      <td>37.324591</td>\n",
       "      <td>NaN</td>\n",
       "      <td>67.791</td>\n",
       "    </tr>\n",
       "    <tr>\n",
       "      <th>4472</th>\n",
       "      <td>2019</td>\n",
       "      <td>0.733386</td>\n",
       "      <td>ZWE</td>\n",
       "      <td>Zimbabwe</td>\n",
       "      <td>NaN</td>\n",
       "      <td>NaN</td>\n",
       "      <td>NaN</td>\n",
       "      <td>NaN</td>\n",
       "      <td>NaN</td>\n",
       "      <td>NaN</td>\n",
       "      <td>0.000000e+00</td>\n",
       "      <td>NaN</td>\n",
       "      <td>NaN</td>\n",
       "      <td>NaN</td>\n",
       "      <td>NaN</td>\n",
       "      <td>NaN</td>\n",
       "    </tr>\n",
       "  </tbody>\n",
       "</table>\n",
       "<p>4473 rows × 16 columns</p>\n",
       "</div>"
      ],
      "text/plain": [
       "      Year  Air transport, freight (million ton-km)_x Country Code  \\\n",
       "0     1949                                 234.699997          AUS   \n",
       "1     1950                                 234.699997          AUS   \n",
       "2     1951                                 234.699997          AUS   \n",
       "3     1952                                 234.699997          AUS   \n",
       "4     1953                                 234.699997          AUS   \n",
       "...    ...                                        ...          ...   \n",
       "4468  2015                                   0.796107          ZWE   \n",
       "4469  2016                                   0.804947          ZWE   \n",
       "4470  2017                                   0.665035          ZWE   \n",
       "4471  2018                                   0.665035          ZWE   \n",
       "4472  2019                                   0.733386          ZWE   \n",
       "\n",
       "     Country Name  Air transport, freight (million ton-km)_y  \\\n",
       "0       Australia                                        NaN   \n",
       "1       Australia                                        NaN   \n",
       "2       Australia                                        NaN   \n",
       "3       Australia                                        NaN   \n",
       "4       Australia                                        NaN   \n",
       "...           ...                                        ...   \n",
       "4468     Zimbabwe                                   0.796107   \n",
       "4469     Zimbabwe                                   0.804947   \n",
       "4470     Zimbabwe                                   0.665035   \n",
       "4471     Zimbabwe                                   0.665035   \n",
       "4472     Zimbabwe                                        NaN   \n",
       "\n",
       "      Arable land (hectares per person)  Cereal yield (kg per hectare)  \\\n",
       "0                                   NaN                            NaN   \n",
       "1                                   NaN                            NaN   \n",
       "2                                   NaN                            NaN   \n",
       "3                                   NaN                            NaN   \n",
       "4                                   NaN                            NaN   \n",
       "...                                 ...                            ...   \n",
       "4468                           0.289548                          558.2   \n",
       "4469                           0.285095                          581.8   \n",
       "4470                                NaN                          616.0   \n",
       "4471                                NaN                            NaN   \n",
       "4472                                NaN                            NaN   \n",
       "\n",
       "      Food production index (2004-2006 = 100)  GDP growth (annual %)  \\\n",
       "0                                         NaN                    NaN   \n",
       "1                                         NaN                    NaN   \n",
       "2                                         NaN                    NaN   \n",
       "3                                         NaN                    NaN   \n",
       "4                                         NaN                    NaN   \n",
       "...                                       ...                    ...   \n",
       "4468                                    83.42               1.779873   \n",
       "4469                                    88.75               0.755869   \n",
       "4470                                      NaN               4.704035   \n",
       "4471                                      NaN               6.159190   \n",
       "4472                                      NaN                    NaN   \n",
       "\n",
       "      GDP per capita (constant 2010 US$)  Net flows from UN agencies US$  \\\n",
       "0                                    NaN                    0.000000e+00   \n",
       "1                                    NaN                    0.000000e+00   \n",
       "2                                    NaN                    0.000000e+00   \n",
       "3                                    NaN                    0.000000e+00   \n",
       "4                                    NaN                    0.000000e+00   \n",
       "...                                  ...                             ...   \n",
       "4468                         1234.103352                    1.197046e+07   \n",
       "4469                         1224.309922                    4.008604e+07   \n",
       "4470                         1263.321322                    2.992663e+07   \n",
       "4471                         1322.344063                    2.163715e+07   \n",
       "4472                                 NaN                    0.000000e+00   \n",
       "\n",
       "      Life expectancy at birth, total (years)  \\\n",
       "0                                         NaN   \n",
       "1                                         NaN   \n",
       "2                                         NaN   \n",
       "3                                         NaN   \n",
       "4                                         NaN   \n",
       "...                                       ...   \n",
       "4468                                   59.534   \n",
       "4469                                   60.294   \n",
       "4470                                   60.812   \n",
       "4471                                      NaN   \n",
       "4472                                      NaN   \n",
       "\n",
       "      Mobile cellular subscriptions (per 100 people)  \\\n",
       "0                                                NaN   \n",
       "1                                                NaN   \n",
       "2                                                NaN   \n",
       "3                                                NaN   \n",
       "4                                                NaN   \n",
       "...                                              ...   \n",
       "4468                                       92.347105   \n",
       "4469                                       91.793458   \n",
       "4470                                       98.985073   \n",
       "4471                                       89.404869   \n",
       "4472                                             NaN   \n",
       "\n",
       "      Population density (people per sq. km of land area)  \\\n",
       "0                                                   NaN     \n",
       "1                                                   NaN     \n",
       "2                                                   NaN     \n",
       "3                                                   NaN     \n",
       "4                                                   NaN     \n",
       "...                                                 ...     \n",
       "4468                                          35.710557     \n",
       "4469                                          36.268295     \n",
       "4470                                          36.801719     \n",
       "4471                                          37.324591     \n",
       "4472                                                NaN     \n",
       "\n",
       "      Adjusted savings: education expenditure (% of GNI)  \\\n",
       "0                                                   NaN    \n",
       "1                                                   NaN    \n",
       "2                                                   NaN    \n",
       "3                                                   NaN    \n",
       "4                                                   NaN    \n",
       "...                                                 ...    \n",
       "4468                                               1.91    \n",
       "4469                                               1.91    \n",
       "4470                                               1.91    \n",
       "4471                                                NaN    \n",
       "4472                                                NaN    \n",
       "\n",
       "      Rural population (% of total population)  \n",
       "0                                          NaN  \n",
       "1                                          NaN  \n",
       "2                                          NaN  \n",
       "3                                          NaN  \n",
       "4                                          NaN  \n",
       "...                                        ...  \n",
       "4468                                    67.615  \n",
       "4469                                    67.704  \n",
       "4470                                    67.763  \n",
       "4471                                    67.791  \n",
       "4472                                       NaN  \n",
       "\n",
       "[4473 rows x 16 columns]"
      ]
     },
     "execution_count": 63,
     "metadata": {},
     "output_type": "execute_result"
    }
   ],
   "source": [
    "(fill_values(ds_cy,features_nulls[1]).reset_index()\n",
    "                                  .merge(ds_cy, how = \"inner\", on = [\"Year\", \"Country Code\"]))"
   ]
  },
  {
   "cell_type": "code",
   "execution_count": 64,
   "metadata": {},
   "outputs": [
    {
     "data": {
      "text/plain": [
       "(4473, 15)"
      ]
     },
     "execution_count": 64,
     "metadata": {},
     "output_type": "execute_result"
    }
   ],
   "source": [
    "ds_cy.shape"
   ]
  },
  {
   "cell_type": "markdown",
   "metadata": {},
   "source": [
    "**It worked for one feature and all countries!** Lets iterate through features_nulls then. But first let us select the relevant features from the nulls, i.e. all of them except the first one:"
   ]
  },
  {
   "cell_type": "code",
   "execution_count": 65,
   "metadata": {},
   "outputs": [
    {
     "data": {
      "text/plain": [
       "['Adjusted savings: education expenditure (% of GNI)',\n",
       " 'Air transport, freight (million ton-km)',\n",
       " 'Arable land (hectares per person)',\n",
       " 'Cereal yield (kg per hectare)',\n",
       " 'Food production index (2004-2006 = 100)',\n",
       " 'GDP growth (annual %)',\n",
       " 'GDP per capita (constant 2010 US$)',\n",
       " 'Life expectancy at birth, total (years)',\n",
       " 'Mobile cellular subscriptions (per 100 people)',\n",
       " 'Population density (people per sq. km of land area)',\n",
       " 'Rural population (% of total population)']"
      ]
     },
     "execution_count": 65,
     "metadata": {},
     "output_type": "execute_result"
    }
   ],
   "source": [
    " features_nulls"
   ]
  },
  {
   "cell_type": "code",
   "execution_count": 66,
   "metadata": {},
   "outputs": [],
   "source": [
    "#in order to avoid imputing more variance, we get rid from 'Air transport, freight (million ton-km)' which lacks so much data \n",
    "# and we will not apply to this feature the fillna strategy that follows\n",
    "\n",
    "del features_nulls[1]"
   ]
  },
  {
   "cell_type": "code",
   "execution_count": 67,
   "metadata": {},
   "outputs": [
    {
     "data": {
      "text/plain": [
       "['Adjusted savings: education expenditure (% of GNI)',\n",
       " 'Arable land (hectares per person)',\n",
       " 'Cereal yield (kg per hectare)',\n",
       " 'Food production index (2004-2006 = 100)',\n",
       " 'GDP growth (annual %)',\n",
       " 'GDP per capita (constant 2010 US$)',\n",
       " 'Life expectancy at birth, total (years)',\n",
       " 'Mobile cellular subscriptions (per 100 people)',\n",
       " 'Population density (people per sq. km of land area)',\n",
       " 'Rural population (% of total population)']"
      ]
     },
     "execution_count": 67,
     "metadata": {},
     "output_type": "execute_result"
    }
   ],
   "source": [
    "features_nulls"
   ]
  },
  {
   "cell_type": "markdown",
   "metadata": {},
   "source": [
    "## Filling many at once: Step by step\n",
    "\n",
    "1. We create an auxiliary data set containing all the country codes, names and all the years to work as a foundational data set:"
   ]
  },
  {
   "cell_type": "code",
   "execution_count": 68,
   "metadata": {},
   "outputs": [],
   "source": [
    "#This will be the copy of our data set \n",
    "complete_ds = ds_cy[[\"Year\", \"Country Code\", \"Country Name\"]].copy()\n"
   ]
  },
  {
   "cell_type": "markdown",
   "metadata": {},
   "source": [
    "2. We iterate through the features in ``features_nulls``applying our function ``fill_values``:"
   ]
  },
  {
   "cell_type": "code",
   "execution_count": 69,
   "metadata": {},
   "outputs": [],
   "source": [
    "for feature in features_nulls:\n",
    "    complete_ds = (fill_values(ds_cy,feature).reset_index()\n",
    "                                          .merge(complete_ds, how = \"left\", on = [\"Year\", \"Country Code\"]))\n",
    "    \n",
    "    "
   ]
  },
  {
   "cell_type": "markdown",
   "metadata": {},
   "source": [
    "Let us have a look of our completed dataset:"
   ]
  },
  {
   "cell_type": "code",
   "execution_count": 70,
   "metadata": {},
   "outputs": [
    {
     "data": {
      "text/html": [
       "<div>\n",
       "<style scoped>\n",
       "    .dataframe tbody tr th:only-of-type {\n",
       "        vertical-align: middle;\n",
       "    }\n",
       "\n",
       "    .dataframe tbody tr th {\n",
       "        vertical-align: top;\n",
       "    }\n",
       "\n",
       "    .dataframe thead th {\n",
       "        text-align: right;\n",
       "    }\n",
       "</style>\n",
       "<table border=\"1\" class=\"dataframe\">\n",
       "  <thead>\n",
       "    <tr style=\"text-align: right;\">\n",
       "      <th></th>\n",
       "      <th>Year</th>\n",
       "      <th>Rural population (% of total population)</th>\n",
       "      <th>Country Code</th>\n",
       "      <th>Population density (people per sq. km of land area)</th>\n",
       "      <th>Mobile cellular subscriptions (per 100 people)</th>\n",
       "      <th>Life expectancy at birth, total (years)</th>\n",
       "      <th>GDP per capita (constant 2010 US$)</th>\n",
       "      <th>GDP growth (annual %)</th>\n",
       "      <th>Food production index (2004-2006 = 100)</th>\n",
       "      <th>Cereal yield (kg per hectare)</th>\n",
       "      <th>Arable land (hectares per person)</th>\n",
       "      <th>Adjusted savings: education expenditure (% of GNI)</th>\n",
       "      <th>Country Name</th>\n",
       "    </tr>\n",
       "  </thead>\n",
       "  <tbody>\n",
       "    <tr>\n",
       "      <th>0</th>\n",
       "      <td>1949</td>\n",
       "      <td>18.471</td>\n",
       "      <td>AUS</td>\n",
       "      <td>1.364565</td>\n",
       "      <td>NaN</td>\n",
       "      <td>70.817073</td>\n",
       "      <td>19378.37079</td>\n",
       "      <td>NaN</td>\n",
       "      <td>36.64</td>\n",
       "      <td>1083.9</td>\n",
       "      <td>2.879424</td>\n",
       "      <td>4.981227</td>\n",
       "      <td>Australia</td>\n",
       "    </tr>\n",
       "    <tr>\n",
       "      <th>1</th>\n",
       "      <td>1950</td>\n",
       "      <td>18.471</td>\n",
       "      <td>AUS</td>\n",
       "      <td>1.364565</td>\n",
       "      <td>NaN</td>\n",
       "      <td>70.817073</td>\n",
       "      <td>19378.37079</td>\n",
       "      <td>NaN</td>\n",
       "      <td>36.64</td>\n",
       "      <td>1083.9</td>\n",
       "      <td>2.879424</td>\n",
       "      <td>4.981227</td>\n",
       "      <td>Australia</td>\n",
       "    </tr>\n",
       "    <tr>\n",
       "      <th>2</th>\n",
       "      <td>1951</td>\n",
       "      <td>18.471</td>\n",
       "      <td>AUS</td>\n",
       "      <td>1.364565</td>\n",
       "      <td>NaN</td>\n",
       "      <td>70.817073</td>\n",
       "      <td>19378.37079</td>\n",
       "      <td>NaN</td>\n",
       "      <td>36.64</td>\n",
       "      <td>1083.9</td>\n",
       "      <td>2.879424</td>\n",
       "      <td>4.981227</td>\n",
       "      <td>Australia</td>\n",
       "    </tr>\n",
       "    <tr>\n",
       "      <th>3</th>\n",
       "      <td>1952</td>\n",
       "      <td>18.471</td>\n",
       "      <td>AUS</td>\n",
       "      <td>1.364565</td>\n",
       "      <td>NaN</td>\n",
       "      <td>70.817073</td>\n",
       "      <td>19378.37079</td>\n",
       "      <td>NaN</td>\n",
       "      <td>36.64</td>\n",
       "      <td>1083.9</td>\n",
       "      <td>2.879424</td>\n",
       "      <td>4.981227</td>\n",
       "      <td>Australia</td>\n",
       "    </tr>\n",
       "    <tr>\n",
       "      <th>4</th>\n",
       "      <td>1953</td>\n",
       "      <td>18.471</td>\n",
       "      <td>AUS</td>\n",
       "      <td>1.364565</td>\n",
       "      <td>NaN</td>\n",
       "      <td>70.817073</td>\n",
       "      <td>19378.37079</td>\n",
       "      <td>NaN</td>\n",
       "      <td>36.64</td>\n",
       "      <td>1083.9</td>\n",
       "      <td>2.879424</td>\n",
       "      <td>4.981227</td>\n",
       "      <td>Australia</td>\n",
       "    </tr>\n",
       "  </tbody>\n",
       "</table>\n",
       "</div>"
      ],
      "text/plain": [
       "   Year  Rural population (% of total population) Country Code  \\\n",
       "0  1949                                    18.471          AUS   \n",
       "1  1950                                    18.471          AUS   \n",
       "2  1951                                    18.471          AUS   \n",
       "3  1952                                    18.471          AUS   \n",
       "4  1953                                    18.471          AUS   \n",
       "\n",
       "   Population density (people per sq. km of land area)  \\\n",
       "0                                           1.364565     \n",
       "1                                           1.364565     \n",
       "2                                           1.364565     \n",
       "3                                           1.364565     \n",
       "4                                           1.364565     \n",
       "\n",
       "   Mobile cellular subscriptions (per 100 people)  \\\n",
       "0                                             NaN   \n",
       "1                                             NaN   \n",
       "2                                             NaN   \n",
       "3                                             NaN   \n",
       "4                                             NaN   \n",
       "\n",
       "   Life expectancy at birth, total (years)  \\\n",
       "0                                70.817073   \n",
       "1                                70.817073   \n",
       "2                                70.817073   \n",
       "3                                70.817073   \n",
       "4                                70.817073   \n",
       "\n",
       "   GDP per capita (constant 2010 US$)  GDP growth (annual %)  \\\n",
       "0                         19378.37079                    NaN   \n",
       "1                         19378.37079                    NaN   \n",
       "2                         19378.37079                    NaN   \n",
       "3                         19378.37079                    NaN   \n",
       "4                         19378.37079                    NaN   \n",
       "\n",
       "   Food production index (2004-2006 = 100)  Cereal yield (kg per hectare)  \\\n",
       "0                                    36.64                         1083.9   \n",
       "1                                    36.64                         1083.9   \n",
       "2                                    36.64                         1083.9   \n",
       "3                                    36.64                         1083.9   \n",
       "4                                    36.64                         1083.9   \n",
       "\n",
       "   Arable land (hectares per person)  \\\n",
       "0                           2.879424   \n",
       "1                           2.879424   \n",
       "2                           2.879424   \n",
       "3                           2.879424   \n",
       "4                           2.879424   \n",
       "\n",
       "   Adjusted savings: education expenditure (% of GNI) Country Name  \n",
       "0                                           4.981227     Australia  \n",
       "1                                           4.981227     Australia  \n",
       "2                                           4.981227     Australia  \n",
       "3                                           4.981227     Australia  \n",
       "4                                           4.981227     Australia  "
      ]
     },
     "execution_count": 70,
     "metadata": {},
     "output_type": "execute_result"
    }
   ],
   "source": [
    "complete_ds.head()"
   ]
  },
  {
   "cell_type": "markdown",
   "metadata": {},
   "source": [
    "3. Just cosmetic changes: First we will reorganize the columns."
   ]
  },
  {
   "cell_type": "code",
   "execution_count": 71,
   "metadata": {},
   "outputs": [],
   "source": [
    "#select the columns and store them in a set\n",
    "colls = set(complete_ds.columns)"
   ]
  },
  {
   "cell_type": "code",
   "execution_count": 72,
   "metadata": {},
   "outputs": [],
   "source": [
    "#select the original columns and store them in a set\n",
    "original_cols = set(ds_cy.columns)"
   ]
  },
  {
   "cell_type": "code",
   "execution_count": 73,
   "metadata": {},
   "outputs": [],
   "source": [
    "#get the columns that are in original_cols but not in complete_ds\n",
    "original_cols = list(original_cols.difference(colls))"
   ]
  },
  {
   "cell_type": "markdown",
   "metadata": {},
   "source": [
    "4. Finally we merge a copy of the original data set with the untouched features with the features we filled:"
   ]
  },
  {
   "cell_type": "code",
   "execution_count": 74,
   "metadata": {},
   "outputs": [],
   "source": [
    "final = ds_cy[[\"Year\", \"Country Code\", \"Country Name\"] +  original_cols].merge(complete_ds, on = [\"Year\", \"Country Code\", \"Country Name\"], how = \"inner\")"
   ]
  },
  {
   "cell_type": "markdown",
   "metadata": {},
   "source": [
    "And lastly we make some cosmetic changes and rearrangements:"
   ]
  },
  {
   "cell_type": "code",
   "execution_count": 75,
   "metadata": {},
   "outputs": [],
   "source": [
    "#listing all the columns and sorting by alphabetic order\n",
    "cols = list(final.columns)\n",
    "cols.sort()"
   ]
  },
  {
   "cell_type": "code",
   "execution_count": 76,
   "metadata": {},
   "outputs": [],
   "source": [
    "final = final[cols]"
   ]
  },
  {
   "cell_type": "code",
   "execution_count": 77,
   "metadata": {},
   "outputs": [],
   "source": [
    "#Arranging the data set to begin with year, country code and name\n",
    "final = final[['Year', 'Country Code', 'Country Name','Air transport, freight (million ton-km)',\n",
    "       'Arable land (hectares per person)', 'Cereal yield (kg per hectare)',\n",
    "       'Food production index (2004-2006 = 100)', 'GDP growth (annual %)',\n",
    "       'GDP per capita (constant 2010 US$)',\n",
    "       'Net flows from UN agencies US$',\n",
    "       'Life expectancy at birth, total (years)',\n",
    "       'Mobile cellular subscriptions (per 100 people)',\n",
    "       'Population density (people per sq. km of land area)',\n",
    "       'Adjusted savings: education expenditure (% of GNI)',\n",
    "       'Rural population (% of total population)']]"
   ]
  },
  {
   "cell_type": "code",
   "execution_count": 78,
   "metadata": {},
   "outputs": [
    {
     "data": {
      "text/html": [
       "<div>\n",
       "<style scoped>\n",
       "    .dataframe tbody tr th:only-of-type {\n",
       "        vertical-align: middle;\n",
       "    }\n",
       "\n",
       "    .dataframe tbody tr th {\n",
       "        vertical-align: top;\n",
       "    }\n",
       "\n",
       "    .dataframe thead th {\n",
       "        text-align: right;\n",
       "    }\n",
       "</style>\n",
       "<table border=\"1\" class=\"dataframe\">\n",
       "  <thead>\n",
       "    <tr style=\"text-align: right;\">\n",
       "      <th></th>\n",
       "      <th>Year</th>\n",
       "      <th>Country Code</th>\n",
       "      <th>Country Name</th>\n",
       "      <th>Air transport, freight (million ton-km)</th>\n",
       "      <th>Arable land (hectares per person)</th>\n",
       "      <th>Cereal yield (kg per hectare)</th>\n",
       "      <th>Food production index (2004-2006 = 100)</th>\n",
       "      <th>GDP growth (annual %)</th>\n",
       "      <th>GDP per capita (constant 2010 US$)</th>\n",
       "      <th>Net flows from UN agencies US$</th>\n",
       "      <th>Life expectancy at birth, total (years)</th>\n",
       "      <th>Mobile cellular subscriptions (per 100 people)</th>\n",
       "      <th>Population density (people per sq. km of land area)</th>\n",
       "      <th>Adjusted savings: education expenditure (% of GNI)</th>\n",
       "      <th>Rural population (% of total population)</th>\n",
       "    </tr>\n",
       "  </thead>\n",
       "  <tbody>\n",
       "    <tr>\n",
       "      <th>0</th>\n",
       "      <td>1949</td>\n",
       "      <td>AUS</td>\n",
       "      <td>Australia</td>\n",
       "      <td>NaN</td>\n",
       "      <td>2.879424</td>\n",
       "      <td>1083.9</td>\n",
       "      <td>36.64</td>\n",
       "      <td>NaN</td>\n",
       "      <td>19378.37079</td>\n",
       "      <td>0.0</td>\n",
       "      <td>70.817073</td>\n",
       "      <td>NaN</td>\n",
       "      <td>1.364565</td>\n",
       "      <td>4.981227</td>\n",
       "      <td>18.471</td>\n",
       "    </tr>\n",
       "    <tr>\n",
       "      <th>1</th>\n",
       "      <td>1950</td>\n",
       "      <td>AUS</td>\n",
       "      <td>Australia</td>\n",
       "      <td>NaN</td>\n",
       "      <td>2.879424</td>\n",
       "      <td>1083.9</td>\n",
       "      <td>36.64</td>\n",
       "      <td>NaN</td>\n",
       "      <td>19378.37079</td>\n",
       "      <td>0.0</td>\n",
       "      <td>70.817073</td>\n",
       "      <td>NaN</td>\n",
       "      <td>1.364565</td>\n",
       "      <td>4.981227</td>\n",
       "      <td>18.471</td>\n",
       "    </tr>\n",
       "    <tr>\n",
       "      <th>2</th>\n",
       "      <td>1951</td>\n",
       "      <td>AUS</td>\n",
       "      <td>Australia</td>\n",
       "      <td>NaN</td>\n",
       "      <td>2.879424</td>\n",
       "      <td>1083.9</td>\n",
       "      <td>36.64</td>\n",
       "      <td>NaN</td>\n",
       "      <td>19378.37079</td>\n",
       "      <td>0.0</td>\n",
       "      <td>70.817073</td>\n",
       "      <td>NaN</td>\n",
       "      <td>1.364565</td>\n",
       "      <td>4.981227</td>\n",
       "      <td>18.471</td>\n",
       "    </tr>\n",
       "    <tr>\n",
       "      <th>3</th>\n",
       "      <td>1952</td>\n",
       "      <td>AUS</td>\n",
       "      <td>Australia</td>\n",
       "      <td>NaN</td>\n",
       "      <td>2.879424</td>\n",
       "      <td>1083.9</td>\n",
       "      <td>36.64</td>\n",
       "      <td>NaN</td>\n",
       "      <td>19378.37079</td>\n",
       "      <td>0.0</td>\n",
       "      <td>70.817073</td>\n",
       "      <td>NaN</td>\n",
       "      <td>1.364565</td>\n",
       "      <td>4.981227</td>\n",
       "      <td>18.471</td>\n",
       "    </tr>\n",
       "    <tr>\n",
       "      <th>4</th>\n",
       "      <td>1953</td>\n",
       "      <td>AUS</td>\n",
       "      <td>Australia</td>\n",
       "      <td>NaN</td>\n",
       "      <td>2.879424</td>\n",
       "      <td>1083.9</td>\n",
       "      <td>36.64</td>\n",
       "      <td>NaN</td>\n",
       "      <td>19378.37079</td>\n",
       "      <td>0.0</td>\n",
       "      <td>70.817073</td>\n",
       "      <td>NaN</td>\n",
       "      <td>1.364565</td>\n",
       "      <td>4.981227</td>\n",
       "      <td>18.471</td>\n",
       "    </tr>\n",
       "  </tbody>\n",
       "</table>\n",
       "</div>"
      ],
      "text/plain": [
       "   Year Country Code Country Name  Air transport, freight (million ton-km)  \\\n",
       "0  1949          AUS    Australia                                      NaN   \n",
       "1  1950          AUS    Australia                                      NaN   \n",
       "2  1951          AUS    Australia                                      NaN   \n",
       "3  1952          AUS    Australia                                      NaN   \n",
       "4  1953          AUS    Australia                                      NaN   \n",
       "\n",
       "   Arable land (hectares per person)  Cereal yield (kg per hectare)  \\\n",
       "0                           2.879424                         1083.9   \n",
       "1                           2.879424                         1083.9   \n",
       "2                           2.879424                         1083.9   \n",
       "3                           2.879424                         1083.9   \n",
       "4                           2.879424                         1083.9   \n",
       "\n",
       "   Food production index (2004-2006 = 100)  GDP growth (annual %)  \\\n",
       "0                                    36.64                    NaN   \n",
       "1                                    36.64                    NaN   \n",
       "2                                    36.64                    NaN   \n",
       "3                                    36.64                    NaN   \n",
       "4                                    36.64                    NaN   \n",
       "\n",
       "   GDP per capita (constant 2010 US$)  Net flows from UN agencies US$  \\\n",
       "0                         19378.37079                             0.0   \n",
       "1                         19378.37079                             0.0   \n",
       "2                         19378.37079                             0.0   \n",
       "3                         19378.37079                             0.0   \n",
       "4                         19378.37079                             0.0   \n",
       "\n",
       "   Life expectancy at birth, total (years)  \\\n",
       "0                                70.817073   \n",
       "1                                70.817073   \n",
       "2                                70.817073   \n",
       "3                                70.817073   \n",
       "4                                70.817073   \n",
       "\n",
       "   Mobile cellular subscriptions (per 100 people)  \\\n",
       "0                                             NaN   \n",
       "1                                             NaN   \n",
       "2                                             NaN   \n",
       "3                                             NaN   \n",
       "4                                             NaN   \n",
       "\n",
       "   Population density (people per sq. km of land area)  \\\n",
       "0                                           1.364565     \n",
       "1                                           1.364565     \n",
       "2                                           1.364565     \n",
       "3                                           1.364565     \n",
       "4                                           1.364565     \n",
       "\n",
       "   Adjusted savings: education expenditure (% of GNI)  \\\n",
       "0                                           4.981227    \n",
       "1                                           4.981227    \n",
       "2                                           4.981227    \n",
       "3                                           4.981227    \n",
       "4                                           4.981227    \n",
       "\n",
       "   Rural population (% of total population)  \n",
       "0                                    18.471  \n",
       "1                                    18.471  \n",
       "2                                    18.471  \n",
       "3                                    18.471  \n",
       "4                                    18.471  "
      ]
     },
     "execution_count": 78,
     "metadata": {},
     "output_type": "execute_result"
    }
   ],
   "source": [
    "final.head()"
   ]
  },
  {
   "cell_type": "markdown",
   "metadata": {},
   "source": [
    "Obviously, as we didn't touch the column ``Air transport freight`` we have still some nulls and also, in some countries for which we didn't have any year."
   ]
  },
  {
   "cell_type": "code",
   "execution_count": 79,
   "metadata": {},
   "outputs": [
    {
     "data": {
      "text/html": [
       "<div>\n",
       "<style scoped>\n",
       "    .dataframe tbody tr th:only-of-type {\n",
       "        vertical-align: middle;\n",
       "    }\n",
       "\n",
       "    .dataframe tbody tr th {\n",
       "        vertical-align: top;\n",
       "    }\n",
       "\n",
       "    .dataframe thead th {\n",
       "        text-align: right;\n",
       "    }\n",
       "</style>\n",
       "<table border=\"1\" class=\"dataframe\">\n",
       "  <thead>\n",
       "    <tr style=\"text-align: right;\">\n",
       "      <th></th>\n",
       "      <th>Feature</th>\n",
       "      <th>% Null rows</th>\n",
       "    </tr>\n",
       "  </thead>\n",
       "  <tbody>\n",
       "    <tr>\n",
       "      <th>0</th>\n",
       "      <td>Air transport, freight (million ton-km)</td>\n",
       "      <td>48.826291</td>\n",
       "    </tr>\n",
       "    <tr>\n",
       "      <th>1</th>\n",
       "      <td>GDP growth (annual %)</td>\n",
       "      <td>29.040912</td>\n",
       "    </tr>\n",
       "    <tr>\n",
       "      <th>2</th>\n",
       "      <td>Mobile cellular subscriptions (per 100 people)</td>\n",
       "      <td>15.492958</td>\n",
       "    </tr>\n",
       "    <tr>\n",
       "      <th>3</th>\n",
       "      <td>Cereal yield (kg per hectare)</td>\n",
       "      <td>9.523810</td>\n",
       "    </tr>\n",
       "    <tr>\n",
       "      <th>4</th>\n",
       "      <td>Adjusted savings: education expenditure (% of ...</td>\n",
       "      <td>4.761905</td>\n",
       "    </tr>\n",
       "    <tr>\n",
       "      <th>5</th>\n",
       "      <td>GDP per capita (constant 2010 US$)</td>\n",
       "      <td>4.761905</td>\n",
       "    </tr>\n",
       "    <tr>\n",
       "      <th>6</th>\n",
       "      <td>Life expectancy at birth, total (years)</td>\n",
       "      <td>1.587302</td>\n",
       "    </tr>\n",
       "    <tr>\n",
       "      <th>7</th>\n",
       "      <td>Food production index (2004-2006 = 100)</td>\n",
       "      <td>1.587302</td>\n",
       "    </tr>\n",
       "    <tr>\n",
       "      <th>8</th>\n",
       "      <td>Arable land (hectares per person)</td>\n",
       "      <td>1.587302</td>\n",
       "    </tr>\n",
       "  </tbody>\n",
       "</table>\n",
       "</div>"
      ],
      "text/plain": [
       "                                             Feature  % Null rows\n",
       "0            Air transport, freight (million ton-km)    48.826291\n",
       "1                              GDP growth (annual %)    29.040912\n",
       "2     Mobile cellular subscriptions (per 100 people)    15.492958\n",
       "3                      Cereal yield (kg per hectare)     9.523810\n",
       "4  Adjusted savings: education expenditure (% of ...     4.761905\n",
       "5                 GDP per capita (constant 2010 US$)     4.761905\n",
       "6            Life expectancy at birth, total (years)     1.587302\n",
       "7            Food production index (2004-2006 = 100)     1.587302\n",
       "8                  Arable land (hectares per person)     1.587302"
      ]
     },
     "execution_count": 79,
     "metadata": {},
     "output_type": "execute_result"
    }
   ],
   "source": [
    "null_cols(final)"
   ]
  },
  {
   "cell_type": "markdown",
   "metadata": {},
   "source": [
    "5. Which are the countries with missing data from the columns above:"
   ]
  },
  {
   "cell_type": "code",
   "execution_count": 80,
   "metadata": {},
   "outputs": [
    {
     "data": {
      "text/plain": [
       "Somalia                      71\n",
       "New Caledonia                71\n",
       "Korea, Dem. People’s Rep.    71\n",
       "Name: Country Name, dtype: int64"
      ]
     },
     "execution_count": 80,
     "metadata": {},
     "output_type": "execute_result"
    }
   ],
   "source": [
    "final[final[\"GDP per capita (constant 2010 US$)\"].isna()][\"Country Name\"].value_counts()"
   ]
  },
  {
   "cell_type": "markdown",
   "metadata": {},
   "source": [
    "All data for North Korea, New Caledonia and Somalia."
   ]
  },
  {
   "cell_type": "code",
   "execution_count": 81,
   "metadata": {},
   "outputs": [
    {
     "data": {
      "text/plain": [
       "Virgin Islands (U.S.)       71\n",
       "Tonga                       71\n",
       "Samoa                       71\n",
       "Cayman Islands              71\n",
       "Turks and Caicos Islands    71\n",
       "Macao SAR, China            71\n",
       "Name: Country Name, dtype: int64"
      ]
     },
     "execution_count": 81,
     "metadata": {},
     "output_type": "execute_result"
    }
   ],
   "source": [
    "final[final[\"Cereal yield (kg per hectare)\"].isna()][\"Country Name\"].value_counts()"
   ]
  },
  {
   "cell_type": "code",
   "execution_count": 82,
   "metadata": {},
   "outputs": [
    {
     "data": {
      "text/plain": [
       "Korea, Dem. People’s Rep.    71\n",
       "Turks and Caicos Islands     63\n",
       "Virgin Islands (U.S.)        54\n",
       "Cayman Islands               50\n",
       "Solomon Islands              42\n",
       "                             ..\n",
       "Taiwan                       12\n",
       "Guatemala                    12\n",
       "United States                12\n",
       "Pakistan                     12\n",
       "Indonesia                    12\n",
       "Name: Country Name, Length: 63, dtype: int64"
      ]
     },
     "execution_count": 82,
     "metadata": {},
     "output_type": "execute_result"
    }
   ],
   "source": [
    "final[final[\"GDP growth (annual %)\"].isna()][\"Country Name\"].value_counts()"
   ]
  },
  {
   "cell_type": "code",
   "execution_count": 83,
   "metadata": {},
   "outputs": [
    {
     "data": {
      "text/plain": [
       "Turks and Caicos Islands     71\n",
       "Cayman Islands               71\n",
       "Korea, Dem. People’s Rep.    71\n",
       "Name: Country Name, dtype: int64"
      ]
     },
     "execution_count": 83,
     "metadata": {},
     "output_type": "execute_result"
    }
   ],
   "source": [
    "final[final[\"Adjusted savings: education expenditure (% of GNI)\"].isna()][\"Country Name\"].value_counts()"
   ]
  },
  {
   "cell_type": "code",
   "execution_count": 84,
   "metadata": {},
   "outputs": [
    {
     "data": {
      "text/html": [
       "<div>\n",
       "<style scoped>\n",
       "    .dataframe tbody tr th:only-of-type {\n",
       "        vertical-align: middle;\n",
       "    }\n",
       "\n",
       "    .dataframe tbody tr th {\n",
       "        vertical-align: top;\n",
       "    }\n",
       "\n",
       "    .dataframe thead th {\n",
       "        text-align: right;\n",
       "    }\n",
       "</style>\n",
       "<table border=\"1\" class=\"dataframe\">\n",
       "  <thead>\n",
       "    <tr style=\"text-align: right;\">\n",
       "      <th></th>\n",
       "      <th>Feature</th>\n",
       "      <th>% Null rows</th>\n",
       "    </tr>\n",
       "  </thead>\n",
       "  <tbody>\n",
       "    <tr>\n",
       "      <th>0</th>\n",
       "      <td>Air transport, freight (million ton-km)</td>\n",
       "      <td>48.826291</td>\n",
       "    </tr>\n",
       "    <tr>\n",
       "      <th>1</th>\n",
       "      <td>GDP growth (annual %)</td>\n",
       "      <td>29.040912</td>\n",
       "    </tr>\n",
       "    <tr>\n",
       "      <th>2</th>\n",
       "      <td>Mobile cellular subscriptions (per 100 people)</td>\n",
       "      <td>15.492958</td>\n",
       "    </tr>\n",
       "    <tr>\n",
       "      <th>3</th>\n",
       "      <td>Cereal yield (kg per hectare)</td>\n",
       "      <td>9.523810</td>\n",
       "    </tr>\n",
       "    <tr>\n",
       "      <th>4</th>\n",
       "      <td>Adjusted savings: education expenditure (% of ...</td>\n",
       "      <td>4.761905</td>\n",
       "    </tr>\n",
       "    <tr>\n",
       "      <th>5</th>\n",
       "      <td>GDP per capita (constant 2010 US$)</td>\n",
       "      <td>4.761905</td>\n",
       "    </tr>\n",
       "    <tr>\n",
       "      <th>6</th>\n",
       "      <td>Life expectancy at birth, total (years)</td>\n",
       "      <td>1.587302</td>\n",
       "    </tr>\n",
       "    <tr>\n",
       "      <th>7</th>\n",
       "      <td>Food production index (2004-2006 = 100)</td>\n",
       "      <td>1.587302</td>\n",
       "    </tr>\n",
       "    <tr>\n",
       "      <th>8</th>\n",
       "      <td>Arable land (hectares per person)</td>\n",
       "      <td>1.587302</td>\n",
       "    </tr>\n",
       "  </tbody>\n",
       "</table>\n",
       "</div>"
      ],
      "text/plain": [
       "                                             Feature  % Null rows\n",
       "0            Air transport, freight (million ton-km)    48.826291\n",
       "1                              GDP growth (annual %)    29.040912\n",
       "2     Mobile cellular subscriptions (per 100 people)    15.492958\n",
       "3                      Cereal yield (kg per hectare)     9.523810\n",
       "4  Adjusted savings: education expenditure (% of ...     4.761905\n",
       "5                 GDP per capita (constant 2010 US$)     4.761905\n",
       "6            Life expectancy at birth, total (years)     1.587302\n",
       "7            Food production index (2004-2006 = 100)     1.587302\n",
       "8                  Arable land (hectares per person)     1.587302"
      ]
     },
     "execution_count": 84,
     "metadata": {},
     "output_type": "execute_result"
    }
   ],
   "source": [
    "null_cols(final)"
   ]
  },
  {
   "cell_type": "markdown",
   "metadata": {},
   "source": [
    "6. Import the final data set to csv:"
   ]
  },
  {
   "cell_type": "code",
   "execution_count": 85,
   "metadata": {},
   "outputs": [],
   "source": [
    "final.set_index(\"Year\").to_csv(\"Data_output/WBI_final.csv\", sep=\";\")"
   ]
  },
  {
   "cell_type": "markdown",
   "metadata": {},
   "source": [
    "Look our data final dataset:"
   ]
  },
  {
   "cell_type": "code",
   "execution_count": 86,
   "metadata": {},
   "outputs": [
    {
     "data": {
      "text/html": [
       "<div>\n",
       "<style scoped>\n",
       "    .dataframe tbody tr th:only-of-type {\n",
       "        vertical-align: middle;\n",
       "    }\n",
       "\n",
       "    .dataframe tbody tr th {\n",
       "        vertical-align: top;\n",
       "    }\n",
       "\n",
       "    .dataframe thead th {\n",
       "        text-align: right;\n",
       "    }\n",
       "</style>\n",
       "<table border=\"1\" class=\"dataframe\">\n",
       "  <thead>\n",
       "    <tr style=\"text-align: right;\">\n",
       "      <th></th>\n",
       "      <th>Year</th>\n",
       "      <th>Country Code</th>\n",
       "      <th>Country Name</th>\n",
       "      <th>Air transport, freight (million ton-km)</th>\n",
       "      <th>Arable land (hectares per person)</th>\n",
       "      <th>Cereal yield (kg per hectare)</th>\n",
       "      <th>Food production index (2004-2006 = 100)</th>\n",
       "      <th>GDP growth (annual %)</th>\n",
       "      <th>GDP per capita (constant 2010 US$)</th>\n",
       "      <th>Net flows from UN agencies US$</th>\n",
       "      <th>Life expectancy at birth, total (years)</th>\n",
       "      <th>Mobile cellular subscriptions (per 100 people)</th>\n",
       "      <th>Population density (people per sq. km of land area)</th>\n",
       "      <th>Adjusted savings: education expenditure (% of GNI)</th>\n",
       "      <th>Rural population (% of total population)</th>\n",
       "    </tr>\n",
       "  </thead>\n",
       "  <tbody>\n",
       "    <tr>\n",
       "      <th>0</th>\n",
       "      <td>1949</td>\n",
       "      <td>AUS</td>\n",
       "      <td>Australia</td>\n",
       "      <td>NaN</td>\n",
       "      <td>2.879424</td>\n",
       "      <td>1083.9</td>\n",
       "      <td>36.64</td>\n",
       "      <td>NaN</td>\n",
       "      <td>19378.37079</td>\n",
       "      <td>0.0</td>\n",
       "      <td>70.817073</td>\n",
       "      <td>NaN</td>\n",
       "      <td>1.364565</td>\n",
       "      <td>4.981227</td>\n",
       "      <td>18.471</td>\n",
       "    </tr>\n",
       "    <tr>\n",
       "      <th>1</th>\n",
       "      <td>1950</td>\n",
       "      <td>AUS</td>\n",
       "      <td>Australia</td>\n",
       "      <td>NaN</td>\n",
       "      <td>2.879424</td>\n",
       "      <td>1083.9</td>\n",
       "      <td>36.64</td>\n",
       "      <td>NaN</td>\n",
       "      <td>19378.37079</td>\n",
       "      <td>0.0</td>\n",
       "      <td>70.817073</td>\n",
       "      <td>NaN</td>\n",
       "      <td>1.364565</td>\n",
       "      <td>4.981227</td>\n",
       "      <td>18.471</td>\n",
       "    </tr>\n",
       "    <tr>\n",
       "      <th>2</th>\n",
       "      <td>1951</td>\n",
       "      <td>AUS</td>\n",
       "      <td>Australia</td>\n",
       "      <td>NaN</td>\n",
       "      <td>2.879424</td>\n",
       "      <td>1083.9</td>\n",
       "      <td>36.64</td>\n",
       "      <td>NaN</td>\n",
       "      <td>19378.37079</td>\n",
       "      <td>0.0</td>\n",
       "      <td>70.817073</td>\n",
       "      <td>NaN</td>\n",
       "      <td>1.364565</td>\n",
       "      <td>4.981227</td>\n",
       "      <td>18.471</td>\n",
       "    </tr>\n",
       "    <tr>\n",
       "      <th>3</th>\n",
       "      <td>1952</td>\n",
       "      <td>AUS</td>\n",
       "      <td>Australia</td>\n",
       "      <td>NaN</td>\n",
       "      <td>2.879424</td>\n",
       "      <td>1083.9</td>\n",
       "      <td>36.64</td>\n",
       "      <td>NaN</td>\n",
       "      <td>19378.37079</td>\n",
       "      <td>0.0</td>\n",
       "      <td>70.817073</td>\n",
       "      <td>NaN</td>\n",
       "      <td>1.364565</td>\n",
       "      <td>4.981227</td>\n",
       "      <td>18.471</td>\n",
       "    </tr>\n",
       "    <tr>\n",
       "      <th>4</th>\n",
       "      <td>1953</td>\n",
       "      <td>AUS</td>\n",
       "      <td>Australia</td>\n",
       "      <td>NaN</td>\n",
       "      <td>2.879424</td>\n",
       "      <td>1083.9</td>\n",
       "      <td>36.64</td>\n",
       "      <td>NaN</td>\n",
       "      <td>19378.37079</td>\n",
       "      <td>0.0</td>\n",
       "      <td>70.817073</td>\n",
       "      <td>NaN</td>\n",
       "      <td>1.364565</td>\n",
       "      <td>4.981227</td>\n",
       "      <td>18.471</td>\n",
       "    </tr>\n",
       "  </tbody>\n",
       "</table>\n",
       "</div>"
      ],
      "text/plain": [
       "   Year Country Code Country Name  Air transport, freight (million ton-km)  \\\n",
       "0  1949          AUS    Australia                                      NaN   \n",
       "1  1950          AUS    Australia                                      NaN   \n",
       "2  1951          AUS    Australia                                      NaN   \n",
       "3  1952          AUS    Australia                                      NaN   \n",
       "4  1953          AUS    Australia                                      NaN   \n",
       "\n",
       "   Arable land (hectares per person)  Cereal yield (kg per hectare)  \\\n",
       "0                           2.879424                         1083.9   \n",
       "1                           2.879424                         1083.9   \n",
       "2                           2.879424                         1083.9   \n",
       "3                           2.879424                         1083.9   \n",
       "4                           2.879424                         1083.9   \n",
       "\n",
       "   Food production index (2004-2006 = 100)  GDP growth (annual %)  \\\n",
       "0                                    36.64                    NaN   \n",
       "1                                    36.64                    NaN   \n",
       "2                                    36.64                    NaN   \n",
       "3                                    36.64                    NaN   \n",
       "4                                    36.64                    NaN   \n",
       "\n",
       "   GDP per capita (constant 2010 US$)  Net flows from UN agencies US$  \\\n",
       "0                         19378.37079                             0.0   \n",
       "1                         19378.37079                             0.0   \n",
       "2                         19378.37079                             0.0   \n",
       "3                         19378.37079                             0.0   \n",
       "4                         19378.37079                             0.0   \n",
       "\n",
       "   Life expectancy at birth, total (years)  \\\n",
       "0                                70.817073   \n",
       "1                                70.817073   \n",
       "2                                70.817073   \n",
       "3                                70.817073   \n",
       "4                                70.817073   \n",
       "\n",
       "   Mobile cellular subscriptions (per 100 people)  \\\n",
       "0                                             NaN   \n",
       "1                                             NaN   \n",
       "2                                             NaN   \n",
       "3                                             NaN   \n",
       "4                                             NaN   \n",
       "\n",
       "   Population density (people per sq. km of land area)  \\\n",
       "0                                           1.364565     \n",
       "1                                           1.364565     \n",
       "2                                           1.364565     \n",
       "3                                           1.364565     \n",
       "4                                           1.364565     \n",
       "\n",
       "   Adjusted savings: education expenditure (% of GNI)  \\\n",
       "0                                           4.981227    \n",
       "1                                           4.981227    \n",
       "2                                           4.981227    \n",
       "3                                           4.981227    \n",
       "4                                           4.981227    \n",
       "\n",
       "   Rural population (% of total population)  \n",
       "0                                    18.471  \n",
       "1                                    18.471  \n",
       "2                                    18.471  \n",
       "3                                    18.471  \n",
       "4                                    18.471  "
      ]
     },
     "execution_count": 86,
     "metadata": {},
     "output_type": "execute_result"
    }
   ],
   "source": [
    "final.head()"
   ]
  },
  {
   "cell_type": "markdown",
   "metadata": {},
   "source": [
    "## Final Warning Net Flows: \n",
    "\n",
    "When aggregating the columns having data from the Net flows, all the missing values were treated like 0 by the machine. That means that any zero value in the resulting column ``Net flows from UN agencies US$`` is really a null value. Let us check how many of them there are:"
   ]
  },
  {
   "cell_type": "code",
   "execution_count": 87,
   "metadata": {},
   "outputs": [
    {
     "data": {
      "text/plain": [
       "New Zealand    71\n",
       "Canada         71\n",
       "Switzerland    71\n",
       "Japan          71\n",
       "Germany        71\n",
       "               ..\n",
       "Mexico         20\n",
       "Togo           20\n",
       "Sri Lanka      20\n",
       "Malaysia       20\n",
       "Indonesia      20\n",
       "Name: Country Name, Length: 221, dtype: int64"
      ]
     },
     "execution_count": 87,
     "metadata": {},
     "output_type": "execute_result"
    }
   ],
   "source": [
    "ds_new[ds_new[\"Net flows from UN agencies US$\"]==0][\"Country Name\"].value_counts()"
   ]
  },
  {
   "cell_type": "markdown",
   "metadata": {},
   "source": [
    "For many countries, like Australia and New Zealand there is no any information about this indicator, so in this cases we can't fill the values."
   ]
  }
 ],
 "metadata": {
  "kernelspec": {
   "display_name": "Python 3",
   "language": "python",
   "name": "python3"
  },
  "language_info": {
   "codemirror_mode": {
    "name": "ipython",
    "version": 3
   },
   "file_extension": ".py",
   "mimetype": "text/x-python",
   "name": "python",
   "nbconvert_exporter": "python",
   "pygments_lexer": "ipython3",
   "version": "3.7.4"
  },
  "varInspector": {
   "cols": {
    "lenName": 16,
    "lenType": 16,
    "lenVar": 40
   },
   "kernels_config": {
    "python": {
     "delete_cmd_postfix": "",
     "delete_cmd_prefix": "del ",
     "library": "var_list.py",
     "varRefreshCmd": "print(var_dic_list())"
    },
    "r": {
     "delete_cmd_postfix": ") ",
     "delete_cmd_prefix": "rm(",
     "library": "var_list.r",
     "varRefreshCmd": "cat(var_dic_list()) "
    }
   },
   "position": {
    "height": "410.764px",
    "left": "1258.47px",
    "right": "20px",
    "top": "120px",
    "width": "239.306px"
   },
   "types_to_exclude": [
    "module",
    "function",
    "builtin_function_or_method",
    "instance",
    "_Feature"
   ],
   "window_display": false
  }
 },
 "nbformat": 4,
 "nbformat_minor": 4
}
