{
 "cells": [
  {
   "cell_type": "code",
   "execution_count": 1,
   "metadata": {
    "colab": {},
    "colab_type": "code",
    "id": "4R1LtYGeu71V"
   },
   "outputs": [],
   "source": [
    "import pandas as pd\n",
    "import numpy as np\n",
    "from collections import Iterable\n"
   ]
  },
  {
   "cell_type": "code",
   "execution_count": 4,
   "metadata": {
    "colab": {
     "base_uri": "https://localhost:8080/",
     "height": 54
    },
    "colab_type": "code",
    "id": "dTuj4JaPJnF-",
    "outputId": "bbe9d83c-1174-47aa-91e0-1f8b781c9839"
   },
   "outputs": [
    {
     "name": "stderr",
     "output_type": "stream",
     "text": [
      "/usr/local/lib/python3.6/dist-packages/IPython/utils/traitlets.py:5: UserWarning: IPython.utils.traitlets has moved to a top-level traitlets package.\n",
      "  warn(\"IPython.utils.traitlets has moved to a top-level traitlets package.\")\n"
     ]
    },
    {
     "ename": "KeyError",
     "evalue": "'CLOUDSDK_CONFIG'",
     "output_type": "error",
     "traceback": [
      "\u001b[0;31m---------------------------------------------------------------------------\u001b[0m",
      "\u001b[0;31mKeyError\u001b[0m                                  Traceback (most recent call last)",
      "\u001b[0;32m<ipython-input-4-d5df0069828e>\u001b[0m in \u001b[0;36m<module>\u001b[0;34m\u001b[0m\n\u001b[1;32m      1\u001b[0m \u001b[0;32mfrom\u001b[0m \u001b[0mgoogle\u001b[0m\u001b[0;34m.\u001b[0m\u001b[0mcolab\u001b[0m \u001b[0;32mimport\u001b[0m \u001b[0mdrive\u001b[0m\u001b[0;34m\u001b[0m\u001b[0;34m\u001b[0m\u001b[0m\n\u001b[0;32m----> 2\u001b[0;31m \u001b[0mdrive\u001b[0m\u001b[0;34m.\u001b[0m\u001b[0mmount\u001b[0m\u001b[0;34m(\u001b[0m\u001b[0;34m'/content/drive'\u001b[0m\u001b[0;34m)\u001b[0m\u001b[0;34m\u001b[0m\u001b[0;34m\u001b[0m\u001b[0m\n\u001b[0m",
      "\u001b[0;32m/usr/local/lib/python3.6/dist-packages/google/colab/drive.py\u001b[0m in \u001b[0;36mmount\u001b[0;34m(mountpoint, force_remount, timeout_ms)\u001b[0m\n\u001b[1;32m     80\u001b[0m     \u001b[0;32mreturn\u001b[0m\u001b[0;34m\u001b[0m\u001b[0;34m\u001b[0m\u001b[0m\n\u001b[1;32m     81\u001b[0m \u001b[0;34m\u001b[0m\u001b[0m\n\u001b[0;32m---> 82\u001b[0;31m   \u001b[0menv\u001b[0m \u001b[0;34m=\u001b[0m \u001b[0m_env\u001b[0m\u001b[0;34m(\u001b[0m\u001b[0;34m)\u001b[0m\u001b[0;34m\u001b[0m\u001b[0;34m\u001b[0m\u001b[0m\n\u001b[0m\u001b[1;32m     83\u001b[0m   \u001b[0mhome\u001b[0m \u001b[0;34m=\u001b[0m \u001b[0menv\u001b[0m\u001b[0;34m.\u001b[0m\u001b[0mhome\u001b[0m\u001b[0;34m\u001b[0m\u001b[0;34m\u001b[0m\u001b[0m\n\u001b[1;32m     84\u001b[0m   \u001b[0mroot_dir\u001b[0m \u001b[0;34m=\u001b[0m \u001b[0menv\u001b[0m\u001b[0;34m.\u001b[0m\u001b[0mroot_dir\u001b[0m\u001b[0;34m\u001b[0m\u001b[0;34m\u001b[0m\u001b[0m\n",
      "\u001b[0;32m/usr/local/lib/python3.6/dist-packages/google/colab/drive.py\u001b[0m in \u001b[0;36m_env\u001b[0;34m()\u001b[0m\n\u001b[1;32m     41\u001b[0m   \u001b[0mhome\u001b[0m \u001b[0;34m=\u001b[0m \u001b[0m_os\u001b[0m\u001b[0;34m.\u001b[0m\u001b[0menviron\u001b[0m\u001b[0;34m[\u001b[0m\u001b[0;34m'HOME'\u001b[0m\u001b[0;34m]\u001b[0m\u001b[0;34m\u001b[0m\u001b[0;34m\u001b[0m\u001b[0m\n\u001b[1;32m     42\u001b[0m   root_dir = _os.path.realpath(\n\u001b[0;32m---> 43\u001b[0;31m       _os.path.join(_os.environ['CLOUDSDK_CONFIG'], '../..'))\n\u001b[0m\u001b[1;32m     44\u001b[0m   \u001b[0minet_family\u001b[0m \u001b[0;34m=\u001b[0m \u001b[0;34m'IPV4_ONLY'\u001b[0m\u001b[0;34m\u001b[0m\u001b[0;34m\u001b[0m\u001b[0m\n\u001b[1;32m     45\u001b[0m   \u001b[0mdev\u001b[0m \u001b[0;34m=\u001b[0m \u001b[0;34m'/dev/fuse'\u001b[0m\u001b[0;34m\u001b[0m\u001b[0;34m\u001b[0m\u001b[0m\n",
      "\u001b[0;32m/usr/lib/python3.6/os.py\u001b[0m in \u001b[0;36m__getitem__\u001b[0;34m(self, key)\u001b[0m\n\u001b[1;32m    667\u001b[0m         \u001b[0;32mexcept\u001b[0m \u001b[0mKeyError\u001b[0m\u001b[0;34m:\u001b[0m\u001b[0;34m\u001b[0m\u001b[0;34m\u001b[0m\u001b[0m\n\u001b[1;32m    668\u001b[0m             \u001b[0;31m# raise KeyError with the original key value\u001b[0m\u001b[0;34m\u001b[0m\u001b[0;34m\u001b[0m\u001b[0;34m\u001b[0m\u001b[0m\n\u001b[0;32m--> 669\u001b[0;31m             \u001b[0;32mraise\u001b[0m \u001b[0mKeyError\u001b[0m\u001b[0;34m(\u001b[0m\u001b[0mkey\u001b[0m\u001b[0;34m)\u001b[0m \u001b[0;32mfrom\u001b[0m \u001b[0;32mNone\u001b[0m\u001b[0;34m\u001b[0m\u001b[0;34m\u001b[0m\u001b[0m\n\u001b[0m\u001b[1;32m    670\u001b[0m         \u001b[0;32mreturn\u001b[0m \u001b[0mself\u001b[0m\u001b[0;34m.\u001b[0m\u001b[0mdecodevalue\u001b[0m\u001b[0;34m(\u001b[0m\u001b[0mvalue\u001b[0m\u001b[0;34m)\u001b[0m\u001b[0;34m\u001b[0m\u001b[0;34m\u001b[0m\u001b[0m\n\u001b[1;32m    671\u001b[0m \u001b[0;34m\u001b[0m\u001b[0m\n",
      "\u001b[0;31mKeyError\u001b[0m: 'CLOUDSDK_CONFIG'"
     ]
    }
   ],
   "source": [
    "from google.colab import drive\n",
    "drive.mount('/content/drive')"
   ]
  },
  {
   "cell_type": "code",
   "execution_count": null,
   "metadata": {
    "colab": {},
    "colab_type": "code",
    "id": "N69FGq-exgSW"
   },
   "outputs": [],
   "source": [
    "tcedf = pd.read_csv('/content/drive/My Drive/TCE-DAT_historic-exposure_1950-2015.csv',skiprows = 6)\n",
    "tcedf = tcedf[tcedf['year'] >= 1980]"
   ]
  },
  {
   "cell_type": "code",
   "execution_count": null,
   "metadata": {
    "colab": {},
    "colab_type": "code",
    "id": "_N4TfGlEhggD"
   },
   "outputs": [],
   "source": [
    "emdatdf = pd.read_csv('/content/drive/My Drive/emdat_cleaned.csv')\n",
    "emdatdf = emdatdf[emdatdf['Year'] >= 1980 ]"
   ]
  },
  {
   "cell_type": "code",
   "execution_count": null,
   "metadata": {
    "colab": {
     "base_uri": "https://localhost:8080/",
     "height": 34
    },
    "colab_type": "code",
    "id": "4bvN6du6UpSo",
    "outputId": "d5831d22-7761-44a8-d0f7-2d3bd87a4e7a"
   },
   "outputs": [],
   "source": [
    "tcedf.shape, emdatdf.shape"
   ]
  },
  {
   "cell_type": "code",
   "execution_count": null,
   "metadata": {
    "colab": {
     "base_uri": "https://localhost:8080/",
     "height": 100
    },
    "colab_type": "code",
    "id": "7Wcv_Rmh8F01",
    "outputId": "aa2e8211-ee3f-40e5-9b22-0bf49c01c9f2"
   },
   "outputs": [],
   "source": [
    "tcedf.head(1)"
   ]
  },
  {
   "cell_type": "code",
   "execution_count": null,
   "metadata": {
    "colab": {
     "base_uri": "https://localhost:8080/",
     "height": 185
    },
    "colab_type": "code",
    "id": "0r7Uu9hVn7Mt",
    "outputId": "32b1b616-b43d-47bc-e0e1-fec9b6167ec3"
   },
   "outputs": [],
   "source": [
    "emdatdf.head(1)"
   ]
  },
  {
   "cell_type": "code",
   "execution_count": null,
   "metadata": {
    "colab": {},
    "colab_type": "code",
    "id": "EiexI9nkn7P1"
   },
   "outputs": [],
   "source": [
    "### emdat processing"
   ]
  },
  {
   "cell_type": "code",
   "execution_count": null,
   "metadata": {
    "colab": {},
    "colab_type": "code",
    "id": "RlrCG_bs70Hg"
   },
   "outputs": [],
   "source": [
    "### emdat Try dropping rows without storm names. \n",
    "emdat_noname_df = emdatdf.dropna(subset=['Event name'])"
   ]
  },
  {
   "cell_type": "code",
   "execution_count": null,
   "metadata": {
    "colab": {},
    "colab_type": "code",
    "id": "NY9Qw7eiCMrT"
   },
   "outputs": [],
   "source": [
    "### Helper function - Flatten nested list\n",
    "def flatten(lis):\n",
    "     for item in lis:\n",
    "         if isinstance(item, Iterable) and not isinstance(item, str):\n",
    "             for x in flatten(item):\n",
    "                 yield x\n",
    "         else:        \n",
    "             yield item"
   ]
  },
  {
   "cell_type": "code",
   "execution_count": null,
   "metadata": {
    "colab": {},
    "colab_type": "code",
    "id": "EpCkCmlTxBE2"
   },
   "outputs": [],
   "source": [
    "emdat_cols_drop = ['Latitude','Longitude','Magnitude (scale)',\n",
    "                   'EU member','OFDA response', 'Appeal',\n",
    "                  'Declaration', \"Aid contribution ('000$)\",\n",
    "                  'Associated disater', 'Associated disater 2']\n",
    "\n",
    "emdat_noname_df = emdat_noname_df.drop(columns=emdat_cols_drop)\n",
    "\n",
    "## Some event names have year numbers. Strip this out.\n",
    "emdat_noname_df['Event name'] = emdat_noname_df['Event name'].str.replace('\\d+', '')"
   ]
  },
  {
   "cell_type": "code",
   "execution_count": null,
   "metadata": {
    "colab": {
     "base_uri": "https://localhost:8080/",
     "height": 54
    },
    "colab_type": "code",
    "id": "DPkJmDam2l3q",
    "outputId": "b916c568-98c5-4ef5-ec38-f18fc6a474f7"
   },
   "outputs": [],
   "source": [
    "### Remove words like \"Hurricane\", \"Cyclone\" e.t.c from names column\n",
    "import re\n",
    "\n",
    "to_remove = ['Hurricane', 'Tropical', 'Cyclone','depression', 'storm', 'cylone',\n",
    "             'Storm', r\"\\(.*\\)\", \"'\", '\"', \"Typhoon\", 'CYCLONE', 'cyclone', 'Tropcal', \n",
    "             'TYphoon', 'Topical', 'Depression', 'Typhhon', 'Tyhoon', 'Cclone', \n",
    "             'TRopical', 'STROM', 'strom']\n",
    "\n",
    "\n",
    "for each in to_remove:\n",
    "  emdat_noname_df['Event name'] = emdat_noname_df['Event name'].str.replace(each, '')\n",
    "\n",
    "\n",
    "'''\n",
    "for each in to_remove:\n",
    "  emdat_noname_df['Event name'] = emdat_noname_df['Event name'].apply(lambda x: x.replace(each, ''))\n",
    "'''"
   ]
  },
  {
   "cell_type": "code",
   "execution_count": null,
   "metadata": {
    "colab": {},
    "colab_type": "code",
    "id": "BQ66pyG4DkE1"
   },
   "outputs": [],
   "source": [
    "split_terms = [\"&\", \" AND \", \"/\", \" ET \", \",\"]\n",
    "\n",
    "for x in split_terms:\n",
    "  emdat_noname_df['Event name'] = emdat_noname_df['Event name'].str.replace(x, ' & ')\n",
    "\n",
    "\n",
    "## Indexes of entries with joined names\n",
    "indexes = emdat_noname_df[emdat_noname_df['Event name'].str.contains(\"|\".join(split_terms))].index\n",
    "\n",
    "\n",
    "subset_emdat = emdat_noname_df.copy().loc[indexes]\n",
    "subset_emdat['Event name'] = subset_emdat['Event name'].str.split('&')\n",
    "\n",
    "\n",
    "cols = subset_emdat.columns.values\n",
    "cols = [v for v in cols if v != 'Event name']\n",
    "\n",
    "\n",
    "\n",
    "temp_emdat = []\n",
    "\n",
    "for _, row in subset_emdat.iterrows():\n",
    "  for d in row['Event name']:\n",
    "    temp_emdat.append(flatten([list(row[cols]), d]))\n",
    "\n",
    "\n",
    "ext_subset_emdat = pd.DataFrame(temp_emdat, columns=cols + ['Event name'])\n"
   ]
  },
  {
   "cell_type": "code",
   "execution_count": null,
   "metadata": {
    "colab": {
     "base_uri": "https://localhost:8080/",
     "height": 34
    },
    "colab_type": "code",
    "id": "ONHGyPhE3Fxh",
    "outputId": "8cc18810-85b1-4fb2-b9bf-f231e97657af"
   },
   "outputs": [],
   "source": [
    "emdat_noname_df.loc[~emdat_noname_df.index.isin(indexes)].shape"
   ]
  },
  {
   "cell_type": "code",
   "execution_count": null,
   "metadata": {
    "colab": {
     "base_uri": "https://localhost:8080/",
     "height": 34
    },
    "colab_type": "code",
    "id": "Mx_LEFUH7Z3b",
    "outputId": "0b986b5a-bc78-4eb4-e579-dc8d66db66fb"
   },
   "outputs": [],
   "source": [
    "emdat_noname_df.shape"
   ]
  },
  {
   "cell_type": "code",
   "execution_count": null,
   "metadata": {
    "colab": {
     "base_uri": "https://localhost:8080/",
     "height": 185
    },
    "colab_type": "code",
    "id": "Nlc3r8-hQEkj",
    "outputId": "b5a9b52d-c08a-4796-c9fa-06d7801d8bce"
   },
   "outputs": [],
   "source": [
    "emdat_noname_df.head(1)"
   ]
  },
  {
   "cell_type": "code",
   "execution_count": null,
   "metadata": {
    "colab": {
     "base_uri": "https://localhost:8080/",
     "height": 202
    },
    "colab_type": "code",
    "id": "14XIGxwlQGrj",
    "outputId": "8b33ab2a-61f6-4e73-ad3a-5c49803ac2a5"
   },
   "outputs": [],
   "source": [
    "ext_subset_emdat.head(1)"
   ]
  },
  {
   "cell_type": "code",
   "execution_count": null,
   "metadata": {
    "colab": {},
    "colab_type": "code",
    "id": "dapyn7TXCMs8"
   },
   "outputs": [],
   "source": [
    "### Order of columns not the same. Enforce uniformity\n",
    "emdat_noname_df = pd.concat([emdat_noname_df.loc[~emdat_noname_df.index.isin(indexes)], \n",
    "                             ext_subset_emdat[emdat_noname_df.columns.values]], sort=True)"
   ]
  },
  {
   "cell_type": "code",
   "execution_count": null,
   "metadata": {
    "colab": {},
    "colab_type": "code",
    "id": "_fMbEChTH_OH"
   },
   "outputs": [],
   "source": []
  },
  {
   "cell_type": "code",
   "execution_count": null,
   "metadata": {
    "colab": {},
    "colab_type": "code",
    "id": "-sa6wkPYH61e"
   },
   "outputs": [],
   "source": []
  },
  {
   "cell_type": "code",
   "execution_count": null,
   "metadata": {
    "colab": {
     "base_uri": "https://localhost:8080/",
     "height": 1000
    },
    "colab_type": "code",
    "id": "cx-1tfcm-gti",
    "outputId": "686a8b37-dcb6-485e-9adc-ae1be2877cbe"
   },
   "outputs": [],
   "source": [
    "emdat_noname_df['Event name'].unique()"
   ]
  },
  {
   "cell_type": "code",
   "execution_count": null,
   "metadata": {
    "colab": {},
    "colab_type": "code",
    "id": "o0YWRxEEOs8a"
   },
   "outputs": [],
   "source": [
    "## Remove rows without event name\n",
    "emdat_noname_df[emdat_noname_df['Event name'] != \"\"]\n",
    "\n",
    "## Strip leading spaces .str.strip()\n",
    "emdat_noname_df['Event name'] = emdat_noname_df['Event name'].apply(lambda x: x.strip())"
   ]
  },
  {
   "cell_type": "code",
   "execution_count": null,
   "metadata": {
    "colab": {},
    "colab_type": "code",
    "id": "L4H7xJhpdRhc"
   },
   "outputs": [],
   "source": [
    "### It appears some observations have name as simply \"Hurricane\" \n",
    "## and removing these leaves the name empty. This should be dropped.\n",
    "mask = emdatdf['Event name'].str.contains(r'\\b(?:{})\\b'.format('|'.join(to_remove)))\n",
    "mask = mask.replace(np.nan, False)\n",
    "\n",
    "\n",
    "## Convert names to uppercase\n",
    "emdat_noname_df['Event name'] = emdat_noname_df['Event name'].apply(lambda x: x.upper())"
   ]
  },
  {
   "cell_type": "code",
   "execution_count": null,
   "metadata": {
    "colab": {
     "base_uri": "https://localhost:8080/",
     "height": 221
    },
    "colab_type": "code",
    "id": "V4J6gHWI82op",
    "outputId": "48bb9c6b-c0e6-4d54-fb63-3d4247642328"
   },
   "outputs": [],
   "source": [
    "emdat_noname_df['Event name'].value_counts()"
   ]
  },
  {
   "cell_type": "code",
   "execution_count": null,
   "metadata": {
    "colab": {
     "base_uri": "https://localhost:8080/",
     "height": 34
    },
    "colab_type": "code",
    "id": "ueOWo_RuQUNZ",
    "outputId": "32448806-4dc0-48e2-fa90-74421c7ce4c4"
   },
   "outputs": [],
   "source": [
    "emdat_noname_df.shape"
   ]
  },
  {
   "cell_type": "code",
   "execution_count": null,
   "metadata": {
    "colab": {},
    "colab_type": "code",
    "id": "t9sx2L7FRaqc"
   },
   "outputs": [],
   "source": []
  },
  {
   "cell_type": "code",
   "execution_count": null,
   "metadata": {
    "colab": {},
    "colab_type": "code",
    "id": "DDdGHBZ9RawB"
   },
   "outputs": [],
   "source": []
  },
  {
   "cell_type": "code",
   "execution_count": null,
   "metadata": {
    "colab": {},
    "colab_type": "code",
    "id": "xB4j1nRCRauV"
   },
   "outputs": [],
   "source": []
  },
  {
   "cell_type": "code",
   "execution_count": null,
   "metadata": {
    "colab": {},
    "colab_type": "code",
    "id": "uEqE3AXFOZaQ"
   },
   "outputs": [],
   "source": [
    "#### Ibtracs"
   ]
  },
  {
   "cell_type": "code",
   "execution_count": null,
   "metadata": {
    "colab": {
     "base_uri": "https://localhost:8080/",
     "height": 71
    },
    "colab_type": "code",
    "id": "MEPVMvpjM-3Q",
    "outputId": "e3c423ea-194d-4aee-edd5-dd6c2f79f9c3"
   },
   "outputs": [],
   "source": [
    "ibtracdf = pd.read_csv('/content/drive/My Drive/IBTrACS-ALL-list-v04r00-lines-dbf.csv')\n",
    "ibtracdf = ibtracdf[ibtracdf['year'] >= 1980]\n",
    "tup_zipped = list(set(tuple(zip(ibtracdf.SID, ibtracdf.NAME))))\n",
    "\n",
    "## Create a dictionary with ibtracs SID & storm name\n",
    "SID_Namedict = {x:y for x, y in tup_zipped }"
   ]
  },
  {
   "cell_type": "code",
   "execution_count": null,
   "metadata": {
    "colab": {},
    "colab_type": "code",
    "id": "_sjtCnRdjBnj"
   },
   "outputs": [],
   "source": []
  },
  {
   "cell_type": "code",
   "execution_count": null,
   "metadata": {
    "colab": {},
    "colab_type": "code",
    "id": "9WYfqcCznd3F"
   },
   "outputs": [],
   "source": [
    "###Tce dat processing"
   ]
  },
  {
   "cell_type": "code",
   "execution_count": null,
   "metadata": {
    "colab": {},
    "colab_type": "code",
    "id": "H0AiIqnSO2rG"
   },
   "outputs": [],
   "source": [
    "tcedf_copy = tcedf.copy()\n",
    "\n",
    "## Create column \"name\" using ibtracID\n",
    "tcedf_copy['name'] = tcedf_copy['IBTrACS_ID'].apply(lambda x: SID_Namedict.get(str(x)))\n",
    "\n",
    "## Drop rows without event name\n",
    "tcedf_copy = tcedf_copy[tcedf_copy['name'] != \"NOT_NAMED\"]\n",
    "\n",
    "# Drop rows with no names on both name & tc_name\n",
    "tcedf_copy = tcedf_copy[(tcedf_copy['TC_name'] != \"UNNAMED\") & (tcedf_copy['name'].notna())]"
   ]
  },
  {
   "cell_type": "code",
   "execution_count": null,
   "metadata": {
    "colab": {
     "base_uri": "https://localhost:8080/",
     "height": 224
    },
    "colab_type": "code",
    "id": "VPiVjFPBhpwx",
    "outputId": "8a09866c-22e5-4da8-a097-e1ba66752d2e"
   },
   "outputs": [],
   "source": [
    "tcedf_copy.head()"
   ]
  },
  {
   "cell_type": "code",
   "execution_count": null,
   "metadata": {
    "colab": {
     "base_uri": "https://localhost:8080/",
     "height": 162
    },
    "colab_type": "code",
    "id": "_ODEY7ZQShNd",
    "outputId": "90846fdc-345a-46f2-aa4f-09d3b3f5439d"
   },
   "outputs": [],
   "source": [
    "## SINA appears twice. 1990 & 1980 We would\n",
    "# need to merge on both name and year. \n",
    "tcedf_copy[tcedf_copy['TC_name'] == \"SINA\"]"
   ]
  },
  {
   "cell_type": "code",
   "execution_count": null,
   "metadata": {
    "colab": {
     "base_uri": "https://localhost:8080/",
     "height": 292
    },
    "colab_type": "code",
    "id": "cKeGmT_loQZZ",
    "outputId": "40d40996-bada-4008-c775-645b96a74287"
   },
   "outputs": [],
   "source": [
    "## TC_NAME\n",
    "tcedf_copy[\"TC_name\"][tcedf_copy[\"TC_name\"] == 'BELLY'] = \"BETTY\"\n",
    "tcedf_copy[\"TC_name\"][tcedf_copy[\"TC_name\"] == 'BRENDA'] = \"BRENDAN\"\n",
    "\n",
    "\n",
    "\n",
    "\n",
    "id_split = ['1980073S09133', '1987035S12160', '1988285N09318', '1989209N22130', \n",
    "            '1996282N11162', '1998036S13135', '2013130N04093']\n",
    "\n",
    "\n",
    "for eachsplit in id_split:\n",
    "  tcedf_copy['TC_name'][tcedf_copy['IBTrACS_ID'] == eachsplit] = tcedf_copy['name'].str.split(\":\").str[0]\n",
    "  tcedf_copy['name'][tcedf_copy['IBTrACS_ID'] == eachsplit] = tcedf_copy['name'].str.split(\":\").str[1]"
   ]
  },
  {
   "cell_type": "code",
   "execution_count": null,
   "metadata": {
    "colab": {},
    "colab_type": "code",
    "id": "kP5B2lq3oQeq"
   },
   "outputs": [],
   "source": []
  },
  {
   "cell_type": "code",
   "execution_count": null,
   "metadata": {
    "colab": {},
    "colab_type": "code",
    "id": "v9JxJERlomws"
   },
   "outputs": [],
   "source": []
  },
  {
   "cell_type": "code",
   "execution_count": null,
   "metadata": {
    "colab": {},
    "colab_type": "code",
    "id": "i7hDYn0-onPX"
   },
   "outputs": [],
   "source": [
    "## Columns to keep\n",
    "tce_dat_columns = ['year', 'IBTrACS_ID', 'name', 'TC_name', 'countries_affected', 'ISO3', 'v_land_SI',\n",
    "                   'v_land_kn', '34kn_pop', '34kn_assets', '64kn_pop', '64kn_assets', \n",
    "                   '96kn_pop', '96kn_assets']\n",
    "\n",
    "tcedf_copy = tcedf_copy[tce_dat_columns]                  "
   ]
  },
  {
   "cell_type": "code",
   "execution_count": null,
   "metadata": {
    "colab": {
     "base_uri": "https://localhost:8080/",
     "height": 917
    },
    "colab_type": "code",
    "id": "zDAe-FTToQb5",
    "outputId": "507c5588-a639-42df-cd7e-1fb442a54c45"
   },
   "outputs": [],
   "source": [
    "## Entries where names don't match. This is \n",
    "# either due to typos or multiple naming\n",
    "\n",
    "tcedf_copy[[\"IBTrACS_ID\", \"TC_name\", \"name\"]][tcedf_copy['TC_name'] != tcedf_copy['name']]"
   ]
  },
  {
   "cell_type": "code",
   "execution_count": null,
   "metadata": {
    "colab": {},
    "colab_type": "code",
    "id": "O2Nq5jK9oFyo"
   },
   "outputs": [],
   "source": [
    "### Compare emdat & Tce dat"
   ]
  },
  {
   "cell_type": "code",
   "execution_count": null,
   "metadata": {
    "colab": {
     "base_uri": "https://localhost:8080/",
     "height": 51
    },
    "colab_type": "code",
    "id": "xllmBGF5oHwx",
    "outputId": "a72ddf35-9865-4844-da9e-c1ece970866e"
   },
   "outputs": [],
   "source": [
    "emdat_list = list(emdat_noname_df['Event name'])\n",
    "\n",
    "tce_lists = [list(tcedf_copy['TC_name']), list(tcedf_copy['name'])]\n",
    "\n",
    "for l in tce_lists:\n",
    "  results = {}\n",
    "  for i in emdat_list:\n",
    "    results[i] = l.count(i) \n",
    "\n",
    "  count = 0\n",
    "  for each in results:\n",
    "    if results[each] != 0:\n",
    "      count += 1\n",
    "\n",
    "  print(count) ##478 & 476"
   ]
  },
  {
   "cell_type": "code",
   "execution_count": null,
   "metadata": {
    "colab": {},
    "colab_type": "code",
    "id": "-GSbnv6vg-7i"
   },
   "outputs": [],
   "source": []
  },
  {
   "cell_type": "code",
   "execution_count": null,
   "metadata": {
    "colab": {},
    "colab_type": "code",
    "id": "vr_Y-DOag-5D"
   },
   "outputs": [],
   "source": []
  },
  {
   "cell_type": "code",
   "execution_count": null,
   "metadata": {
    "colab": {},
    "colab_type": "code",
    "id": "FjHQARt5FKzb"
   },
   "outputs": [],
   "source": [
    "emdatzip = { x:y for x, y in zip(emdat_noname_df['Event name'], emdat_noname_df['Year'])}\n",
    "tcezip = { x:y for x, y in zip(tcedf_copy['TC_name'], tcedf_copy['year'])}"
   ]
  },
  {
   "cell_type": "code",
   "execution_count": null,
   "metadata": {
    "colab": {},
    "colab_type": "code",
    "id": "4V41g77pFnIk"
   },
   "outputs": [],
   "source": []
  },
  {
   "cell_type": "code",
   "execution_count": null,
   "metadata": {
    "colab": {},
    "colab_type": "code",
    "id": "pnTkzsGTGLyP"
   },
   "outputs": [],
   "source": []
  },
  {
   "cell_type": "code",
   "execution_count": null,
   "metadata": {
    "colab": {
     "base_uri": "https://localhost:8080/",
     "height": 34
    },
    "colab_type": "code",
    "id": "K1m1mVuUqZhW",
    "outputId": "286e1a5e-e8bb-427b-c46c-6d9db4a6a1c4"
   },
   "outputs": [],
   "source": [
    "tcedf_copy.shape, emdat_noname_df.shape"
   ]
  },
  {
   "cell_type": "code",
   "execution_count": null,
   "metadata": {
    "colab": {
     "base_uri": "https://localhost:8080/",
     "height": 131
    },
    "colab_type": "code",
    "id": "hw4xieeWqZei",
    "outputId": "fc538866-e164-4630-f209-995beb8d5e8b"
   },
   "outputs": [],
   "source": [
    "#####################\n",
    "###################\n",
    "##################\n",
    "### New Merge Attempt\n",
    "tcedf_copy.head(2)"
   ]
  },
  {
   "cell_type": "code",
   "execution_count": null,
   "metadata": {
    "colab": {
     "base_uri": "https://localhost:8080/",
     "height": 267
    },
    "colab_type": "code",
    "id": "g6mbGvCbqZbI",
    "outputId": "c1ea4e10-c9ac-4bf6-c972-0c8ea28bb22a"
   },
   "outputs": [],
   "source": [
    "emdat_noname_df.head(2)"
   ]
  },
  {
   "cell_type": "code",
   "execution_count": null,
   "metadata": {
    "colab": {},
    "colab_type": "code",
    "id": "9-MgA8N8q1ln"
   },
   "outputs": [],
   "source": [
    "##Inner Join\n",
    "\n",
    "merged_one = pd.merge(tcedf_copy, emdat_noname_df, left_on=['TC_name', 'year', 'ISO3'], right_on=['Event name', 'Year', 'ISO'])\n",
    "merged_two = pd.merge(tcedf_copy, emdat_noname_df, left_on=['name', 'year', 'ISO3'], right_on=['Event name', 'Year', 'ISO'])\n",
    "merged = pd.concat([merged_one, merged_two], sort=True).drop_duplicates()"
   ]
  },
  {
   "cell_type": "code",
   "execution_count": null,
   "metadata": {
    "colab": {
     "base_uri": "https://localhost:8080/",
     "height": 34
    },
    "colab_type": "code",
    "id": "z5PQ46q4sJij",
    "outputId": "31d22c2a-9220-4e43-a01d-3d3817fafcb6"
   },
   "outputs": [],
   "source": [
    "merged_one.shape, merged_two.shape, merged.shape"
   ]
  },
  {
   "cell_type": "code",
   "execution_count": null,
   "metadata": {
    "colab": {
     "base_uri": "https://localhost:8080/",
     "height": 34
    },
    "colab_type": "code",
    "id": "r4cfXNVWsxIv",
    "outputId": "9b21f381-d6b0-4fc5-a2bc-2f07ba1c8f4f"
   },
   "outputs": [],
   "source": [
    "merged[merged['Total affected'].isna()].shape"
   ]
  },
  {
   "cell_type": "code",
   "execution_count": null,
   "metadata": {
    "colab": {},
    "colab_type": "code",
    "id": "rcEkIE9NhKnf"
   },
   "outputs": [],
   "source": []
  },
  {
   "cell_type": "code",
   "execution_count": null,
   "metadata": {
    "colab": {
     "base_uri": "https://localhost:8080/",
     "height": 830
    },
    "colab_type": "code",
    "id": "tuPxFVbxRSXZ",
    "outputId": "b5d7196e-b7b9-4966-b63d-885d0e923f59"
   },
   "outputs": [],
   "source": [
    "merged[merged['Total affected'].isna()]"
   ]
  },
  {
   "cell_type": "code",
   "execution_count": null,
   "metadata": {
    "colab": {
     "base_uri": "https://localhost:8080/",
     "height": 34
    },
    "colab_type": "code",
    "id": "e07lGp-Xt11H",
    "outputId": "8c194348-9558-48c6-d528-7121e7704228"
   },
   "outputs": [],
   "source": [
    "merged[merged['64kn_pop'].isna()].shape"
   ]
  },
  {
   "cell_type": "code",
   "execution_count": null,
   "metadata": {
    "colab": {
     "base_uri": "https://localhost:8080/",
     "height": 34
    },
    "colab_type": "code",
    "id": "bVr53niLszIW",
    "outputId": "d2162682-ec5d-4c73-8c3b-9a578fceee6b"
   },
   "outputs": [],
   "source": [
    "merged[(merged['Total affected'].isna() & merged['34kn_pop'].isna())].shape"
   ]
  },
  {
   "cell_type": "code",
   "execution_count": null,
   "metadata": {
    "colab": {},
    "colab_type": "code",
    "id": "fSQxfq_atrO6"
   },
   "outputs": [],
   "source": []
  },
  {
   "cell_type": "code",
   "execution_count": null,
   "metadata": {
    "colab": {},
    "colab_type": "code",
    "id": "FtVQOsfGhabw"
   },
   "outputs": [],
   "source": []
  },
  {
   "cell_type": "code",
   "execution_count": null,
   "metadata": {
    "colab": {},
    "colab_type": "code",
    "id": "GExqPQrqhaKl"
   },
   "outputs": [],
   "source": []
  },
  {
   "cell_type": "code",
   "execution_count": null,
   "metadata": {
    "colab": {},
    "colab_type": "code",
    "id": "WMfkPPAvgm3Y"
   },
   "outputs": [],
   "source": [
    "### Outer Join\n",
    "\n",
    "##Inner Join\n",
    "\n",
    "merged_one_outer = pd.merge(tcedf_copy, emdat_noname_df, \n",
    "                      left_on=['TC_name', 'year', 'ISO3'], \n",
    "                      right_on=['Event name', 'Year', 'ISO'], \n",
    "                      how='outer')\n",
    "merged_two_outer = pd.merge(tcedf_copy, emdat_noname_df, \n",
    "                      left_on=['name', 'year', 'ISO3'], \n",
    "                      right_on=['Event name', 'Year', 'ISO'], \n",
    "                      how='outer')\n",
    "merged_outer = pd.concat([merged_one_outer, merged_two_outer], sort=True).drop_duplicates()"
   ]
  },
  {
   "cell_type": "code",
   "execution_count": null,
   "metadata": {
    "colab": {
     "base_uri": "https://localhost:8080/",
     "height": 34
    },
    "colab_type": "code",
    "id": "fKGUNnFghKfT",
    "outputId": "0c16ce4c-c164-4fba-ac3d-550a7fb34701"
   },
   "outputs": [],
   "source": [
    "merged_outer.shape"
   ]
  },
  {
   "cell_type": "code",
   "execution_count": null,
   "metadata": {
    "colab": {
     "base_uri": "https://localhost:8080/",
     "height": 165
    },
    "colab_type": "code",
    "id": "tpIOYp95hKow",
    "outputId": "267c9275-81ec-4adb-8449-7c90044db8fe"
   },
   "outputs": [],
   "source": [
    "merged_outer.head(2)"
   ]
  },
  {
   "cell_type": "code",
   "execution_count": null,
   "metadata": {
    "colab": {
     "base_uri": "https://localhost:8080/",
     "height": 34
    },
    "colab_type": "code",
    "id": "JzEF-I2shjxC",
    "outputId": "4a512b6e-d87c-48c3-dec9-92850a543ad3"
   },
   "outputs": [],
   "source": [
    "merged_outer[merged_outer['Total affected'].isna()].shape"
   ]
  },
  {
   "cell_type": "code",
   "execution_count": null,
   "metadata": {
    "colab": {
     "base_uri": "https://localhost:8080/",
     "height": 34
    },
    "colab_type": "code",
    "id": "6Y-LH47Qhzbu",
    "outputId": "853317df-3cca-48e2-e37a-fefda511203f"
   },
   "outputs": [],
   "source": [
    "merged_outer[(merged_outer['Total affected'].isna() & merged_outer['34kn_pop'].isna())].shape"
   ]
  }
 ],
 "metadata": {
  "colab": {
   "collapsed_sections": [],
   "name": "emdat-tcedat_merge.ipynb",
   "provenance": []
  },
  "kernelspec": {
   "display_name": "Python 3",
   "language": "python",
   "name": "python3"
  },
  "language_info": {
   "codemirror_mode": {
    "name": "ipython",
    "version": 3
   },
   "file_extension": ".py",
   "mimetype": "text/x-python",
   "name": "python",
   "nbconvert_exporter": "python",
   "pygments_lexer": "ipython3",
   "version": "3.6.9"
  }
 },
 "nbformat": 4,
 "nbformat_minor": 1
}
