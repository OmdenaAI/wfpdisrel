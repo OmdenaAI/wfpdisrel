{
  "nbformat": 4,
  "nbformat_minor": 0,
  "metadata": {
    "colab": {
      "name": "emdat-tcedat_merge.ipynb",
      "provenance": [],
      "collapsed_sections": []
    },
    "kernelspec": {
      "name": "python3",
      "display_name": "Python 3"
    }
  },
  "cells": [
    {
      "cell_type": "code",
      "metadata": {
        "id": "4R1LtYGeu71V",
        "colab_type": "code",
        "colab": {}
      },
      "source": [
        "import pandas as pd\n",
        "import numpy as np\n",
        "from collections import Iterable\n"
      ],
      "execution_count": 0,
      "outputs": []
    },
    {
      "cell_type": "code",
      "metadata": {
        "id": "dTuj4JaPJnF-",
        "colab_type": "code",
        "outputId": "bbe9d83c-1174-47aa-91e0-1f8b781c9839",
        "colab": {
          "base_uri": "https://localhost:8080/",
          "height": 54
        }
      },
      "source": [
        "from google.colab import drive\n",
        "drive.mount('/content/drive')"
      ],
      "execution_count": 160,
      "outputs": [
        {
          "output_type": "stream",
          "text": [
            "Drive already mounted at /content/drive; to attempt to forcibly remount, call drive.mount(\"/content/drive\", force_remount=True).\n"
          ],
          "name": "stdout"
        }
      ]
    },
    {
      "cell_type": "code",
      "metadata": {
        "id": "N69FGq-exgSW",
        "colab_type": "code",
        "colab": {}
      },
      "source": [
        "tcedf = pd.read_csv('/content/drive/My Drive/TCE-DAT_historic-exposure_1950-2015.csv',skiprows = 6)\n",
        "tcedf = tcedf[tcedf['year'] >= 1980]"
      ],
      "execution_count": 0,
      "outputs": []
    },
    {
      "cell_type": "code",
      "metadata": {
        "id": "_N4TfGlEhggD",
        "colab_type": "code",
        "colab": {}
      },
      "source": [
        "emdatdf = pd.read_csv('/content/drive/My Drive/emdat_cleaned.csv')\n",
        "emdatdf = emdatdf[emdatdf['Year'] >= 1980 ]"
      ],
      "execution_count": 0,
      "outputs": []
    },
    {
      "cell_type": "code",
      "metadata": {
        "id": "7Wcv_Rmh8F01",
        "colab_type": "code",
        "colab": {
          "base_uri": "https://localhost:8080/",
          "height": 100
        },
        "outputId": "aa2e8211-ee3f-40e5-9b22-0bf49c01c9f2"
      },
      "source": [
        "tcedf.head(1)"
      ],
      "execution_count": 90,
      "outputs": [
        {
          "output_type": "execute_result",
          "data": {
            "text/html": [
              "<div>\n",
              "<style scoped>\n",
              "    .dataframe tbody tr th:only-of-type {\n",
              "        vertical-align: middle;\n",
              "    }\n",
              "\n",
              "    .dataframe tbody tr th {\n",
              "        vertical-align: top;\n",
              "    }\n",
              "\n",
              "    .dataframe thead th {\n",
              "        text-align: right;\n",
              "    }\n",
              "</style>\n",
              "<table border=\"1\" class=\"dataframe\">\n",
              "  <thead>\n",
              "    <tr style=\"text-align: right;\">\n",
              "      <th></th>\n",
              "      <th>year</th>\n",
              "      <th>IBTrACS_ID</th>\n",
              "      <th>TC_name</th>\n",
              "      <th>NatCatSERVICE_ID</th>\n",
              "      <th>genesis_basin</th>\n",
              "      <th>countries_affected</th>\n",
              "      <th>ISO3</th>\n",
              "      <th>v_land_SI</th>\n",
              "      <th>v_land_kn</th>\n",
              "      <th>34kn_pop</th>\n",
              "      <th>34kn_assets</th>\n",
              "      <th>64kn_pop</th>\n",
              "      <th>64kn_assets</th>\n",
              "      <th>96kn_pop</th>\n",
              "      <th>96kn_assets</th>\n",
              "    </tr>\n",
              "  </thead>\n",
              "  <tbody>\n",
              "    <tr>\n",
              "      <th>2217</th>\n",
              "      <td>1980</td>\n",
              "      <td>1980001S13173</td>\n",
              "      <td>PENI</td>\n",
              "      <td>NaN</td>\n",
              "      <td>SP</td>\n",
              "      <td>single</td>\n",
              "      <td>FJI</td>\n",
              "      <td>43.5</td>\n",
              "      <td>84.5</td>\n",
              "      <td>451029.0</td>\n",
              "      <td>1.777832e+09</td>\n",
              "      <td>9653.0</td>\n",
              "      <td>38805214.0</td>\n",
              "      <td>0.0</td>\n",
              "      <td>0.0</td>\n",
              "    </tr>\n",
              "  </tbody>\n",
              "</table>\n",
              "</div>"
            ],
            "text/plain": [
              "      year     IBTrACS_ID TC_name  ... 64kn_assets 96kn_pop 96kn_assets\n",
              "2217  1980  1980001S13173    PENI  ...  38805214.0      0.0         0.0\n",
              "\n",
              "[1 rows x 15 columns]"
            ]
          },
          "metadata": {
            "tags": []
          },
          "execution_count": 90
        }
      ]
    },
    {
      "cell_type": "code",
      "metadata": {
        "id": "0r7Uu9hVn7Mt",
        "colab_type": "code",
        "colab": {
          "base_uri": "https://localhost:8080/",
          "height": 185
        },
        "outputId": "32b1b616-b43d-47bc-e0e1-fec9b6167ec3"
      },
      "source": [
        "emdatdf.head(1)"
      ],
      "execution_count": 91,
      "outputs": [
        {
          "output_type": "execute_result",
          "data": {
            "text/html": [
              "<div>\n",
              "<style scoped>\n",
              "    .dataframe tbody tr th:only-of-type {\n",
              "        vertical-align: middle;\n",
              "    }\n",
              "\n",
              "    .dataframe tbody tr th {\n",
              "        vertical-align: top;\n",
              "    }\n",
              "\n",
              "    .dataframe thead th {\n",
              "        text-align: right;\n",
              "    }\n",
              "</style>\n",
              "<table border=\"1\" class=\"dataframe\">\n",
              "  <thead>\n",
              "    <tr style=\"text-align: right;\">\n",
              "      <th></th>\n",
              "      <th>Unnamed: 0</th>\n",
              "      <th>Year</th>\n",
              "      <th>Seq</th>\n",
              "      <th>ISO</th>\n",
              "      <th>Group</th>\n",
              "      <th>Subgroup</th>\n",
              "      <th>Type</th>\n",
              "      <th>Subtype</th>\n",
              "      <th>Subsubtype</th>\n",
              "      <th>Event name</th>\n",
              "      <th>Entry criteria</th>\n",
              "      <th>Country name</th>\n",
              "      <th>Region</th>\n",
              "      <th>Continent</th>\n",
              "      <th>EU member</th>\n",
              "      <th>Location</th>\n",
              "      <th>Origin</th>\n",
              "      <th>Associated disater</th>\n",
              "      <th>Associated disater 2</th>\n",
              "      <th>OFDA response</th>\n",
              "      <th>Appeal</th>\n",
              "      <th>Declaration</th>\n",
              "      <th>Aid contribution ('000$)</th>\n",
              "      <th>Magnitude (value)</th>\n",
              "      <th>Magnitude (scale)</th>\n",
              "      <th>Latitude</th>\n",
              "      <th>Longitude</th>\n",
              "      <th>Local time</th>\n",
              "      <th>River basin</th>\n",
              "      <th>Start year</th>\n",
              "      <th>Start month</th>\n",
              "      <th>Start day</th>\n",
              "      <th>End year</th>\n",
              "      <th>End month</th>\n",
              "      <th>End day</th>\n",
              "      <th>Total deaths</th>\n",
              "      <th>Num injured</th>\n",
              "      <th>Num affected</th>\n",
              "      <th>Num homeless</th>\n",
              "      <th>Total affected</th>\n",
              "      <th>Reconstruction cost ('000$)</th>\n",
              "      <th>Insured losses ('000$)</th>\n",
              "      <th>Total damage ('000$)</th>\n",
              "      <th>CPI</th>\n",
              "    </tr>\n",
              "  </thead>\n",
              "  <tbody>\n",
              "    <tr>\n",
              "      <th>447</th>\n",
              "      <td>2198</td>\n",
              "      <td>1980</td>\n",
              "      <td>78</td>\n",
              "      <td>HTI</td>\n",
              "      <td>Natural</td>\n",
              "      <td>Meteorological</td>\n",
              "      <td>Storm</td>\n",
              "      <td>Tropical cyclone</td>\n",
              "      <td>NaN</td>\n",
              "      <td>Allen</td>\n",
              "      <td>Kill</td>\n",
              "      <td>Haiti</td>\n",
              "      <td>Caribbean</td>\n",
              "      <td>Americas</td>\n",
              "      <td>No</td>\n",
              "      <td>South-West, Port-Au-Prince</td>\n",
              "      <td>NaN</td>\n",
              "      <td>Flood</td>\n",
              "      <td>NaN</td>\n",
              "      <td>Yes</td>\n",
              "      <td>No</td>\n",
              "      <td>No</td>\n",
              "      <td>NaN</td>\n",
              "      <td>270.0</td>\n",
              "      <td>Kph</td>\n",
              "      <td>NaN</td>\n",
              "      <td>NaN</td>\n",
              "      <td>NaN</td>\n",
              "      <td>NaN</td>\n",
              "      <td>1980</td>\n",
              "      <td>8.0</td>\n",
              "      <td>5.0</td>\n",
              "      <td>1980</td>\n",
              "      <td>8.0</td>\n",
              "      <td>5.0</td>\n",
              "      <td>220.0</td>\n",
              "      <td>NaN</td>\n",
              "      <td>330000.0</td>\n",
              "      <td>835000.0</td>\n",
              "      <td>1165000.0</td>\n",
              "      <td>NaN</td>\n",
              "      <td>NaN</td>\n",
              "      <td>400000.0</td>\n",
              "      <td>32.233893</td>\n",
              "    </tr>\n",
              "  </tbody>\n",
              "</table>\n",
              "</div>"
            ],
            "text/plain": [
              "     Unnamed: 0  Year  ...  Total damage ('000$)        CPI\n",
              "447        2198  1980  ...              400000.0  32.233893\n",
              "\n",
              "[1 rows x 44 columns]"
            ]
          },
          "metadata": {
            "tags": []
          },
          "execution_count": 91
        }
      ]
    },
    {
      "cell_type": "code",
      "metadata": {
        "id": "EiexI9nkn7P1",
        "colab_type": "code",
        "colab": {}
      },
      "source": [
        "### emdat processing"
      ],
      "execution_count": 0,
      "outputs": []
    },
    {
      "cell_type": "code",
      "metadata": {
        "id": "RlrCG_bs70Hg",
        "colab_type": "code",
        "colab": {}
      },
      "source": [
        "### emdat Try dropping rows without storm names. \n",
        "emdat_noname_df = emdatdf.dropna(subset=['Event name'])"
      ],
      "execution_count": 0,
      "outputs": []
    },
    {
      "cell_type": "code",
      "metadata": {
        "id": "NY9Qw7eiCMrT",
        "colab_type": "code",
        "colab": {}
      },
      "source": [
        "### Helper function - Flatten nested list\n",
        "def flatten(lis):\n",
        "     for item in lis:\n",
        "         if isinstance(item, Iterable) and not isinstance(item, str):\n",
        "             for x in flatten(item):\n",
        "                 yield x\n",
        "         else:        \n",
        "             yield item"
      ],
      "execution_count": 0,
      "outputs": []
    },
    {
      "cell_type": "code",
      "metadata": {
        "id": "EpCkCmlTxBE2",
        "colab_type": "code",
        "colab": {}
      },
      "source": [
        "emdat_cols_drop = ['Latitude','Longitude','Magnitude (scale)',\n",
        "                   'EU member','OFDA response', 'Appeal',\n",
        "                  'Declaration', \"Aid contribution ('000$)\",\n",
        "                  'Associated disater', 'Associated disater 2']\n",
        "\n",
        "emdat_noname_df = emdat_noname_df.drop(columns=emdat_cols_drop)\n",
        "\n",
        "## Some event names have year numbers. Strip this out.\n",
        "emdat_noname_df['Event name'] = emdat_noname_df['Event name'].str.replace('\\d+', '')"
      ],
      "execution_count": 0,
      "outputs": []
    },
    {
      "cell_type": "code",
      "metadata": {
        "id": "DPkJmDam2l3q",
        "colab_type": "code",
        "colab": {
          "base_uri": "https://localhost:8080/",
          "height": 54
        },
        "outputId": "b916c568-98c5-4ef5-ec38-f18fc6a474f7"
      },
      "source": [
        "### Remove words like \"Hurricane\", \"Cyclone\" e.t.c from names column\n",
        "import re\n",
        "\n",
        "to_remove = ['Hurricane', 'Tropical', 'Cyclone','depression', 'storm', 'cylone',\n",
        "             'Storm', r\"\\(.*\\)\", \"'\", '\"', \"Typhoon\", 'CYCLONE', 'cyclone', 'Tropcal', \n",
        "             'TYphoon', 'Topical', 'Depression', 'Typhhon', 'Tyhoon', 'Cclone', \n",
        "             'TRopical', 'STROM', 'strom']\n",
        "\n",
        "\n",
        "for each in to_remove:\n",
        "  emdat_noname_df['Event name'] = emdat_noname_df['Event name'].str.replace(each, '')\n",
        "\n",
        "\n",
        "'''\n",
        "for each in to_remove:\n",
        "  emdat_noname_df['Event name'] = emdat_noname_df['Event name'].apply(lambda x: x.replace(each, ''))\n",
        "'''"
      ],
      "execution_count": 55,
      "outputs": [
        {
          "output_type": "execute_result",
          "data": {
            "text/plain": [
              "\"\\nfor each in to_remove:\\n  emdat_noname_df['Event name'] = emdat_noname_df['Event name'].apply(lambda x: x.replace(each, ''))\\n\""
            ]
          },
          "metadata": {
            "tags": []
          },
          "execution_count": 55
        }
      ]
    },
    {
      "cell_type": "code",
      "metadata": {
        "id": "BQ66pyG4DkE1",
        "colab_type": "code",
        "colab": {}
      },
      "source": [
        "split_terms = [\"&\", \" AND \", \"/\", \" ET \", \",\"]\n",
        "\n",
        "for x in split_terms:\n",
        "  emdat_noname_df['Event name'] = emdat_noname_df['Event name'].str.replace(x, ' & ')\n",
        "\n",
        "\n",
        "## Indexes of entries with joined names\n",
        "indexes = emdat_noname_df[emdat_noname_df['Event name'].str.contains(\"|\".join(split_terms))].index\n",
        "\n",
        "\n",
        "subset_emdat = emdat_noname_df.copy().loc[indexes]\n",
        "subset_emdat['Event name'] = subset_emdat['Event name'].str.split('&')\n",
        "\n",
        "\n",
        "cols = subset_emdat.columns.values\n",
        "cols = [v for v in cols if v != 'Event name']\n",
        "\n",
        "\n",
        "\n",
        "temp_emdat = []\n",
        "\n",
        "for _, row in subset_emdat.iterrows():\n",
        "  for d in row['Event name']:\n",
        "    temp_emdat.append(flatten([list(row[cols]), d]))\n",
        "\n",
        "\n",
        "ext_subset_emdat = pd.DataFrame(temp_emdat, columns=cols + ['Event name'])\n"
      ],
      "execution_count": 0,
      "outputs": []
    },
    {
      "cell_type": "code",
      "metadata": {
        "id": "ONHGyPhE3Fxh",
        "colab_type": "code",
        "colab": {
          "base_uri": "https://localhost:8080/",
          "height": 34
        },
        "outputId": "8cc18810-85b1-4fb2-b9bf-f231e97657af"
      },
      "source": [
        "emdat_noname_df.loc[~emdat_noname_df.index.isin(indexes)].shape"
      ],
      "execution_count": 10,
      "outputs": [
        {
          "output_type": "execute_result",
          "data": {
            "text/plain": [
              "(1705, 34)"
            ]
          },
          "metadata": {
            "tags": []
          },
          "execution_count": 10
        }
      ]
    },
    {
      "cell_type": "code",
      "metadata": {
        "id": "Mx_LEFUH7Z3b",
        "colab_type": "code",
        "colab": {
          "base_uri": "https://localhost:8080/",
          "height": 34
        },
        "outputId": "0b986b5a-bc78-4eb4-e579-dc8d66db66fb"
      },
      "source": [
        "emdat_noname_df.shape"
      ],
      "execution_count": 57,
      "outputs": [
        {
          "output_type": "execute_result",
          "data": {
            "text/plain": [
              "(1757, 34)"
            ]
          },
          "metadata": {
            "tags": []
          },
          "execution_count": 57
        }
      ]
    },
    {
      "cell_type": "code",
      "metadata": {
        "id": "Nlc3r8-hQEkj",
        "colab_type": "code",
        "colab": {
          "base_uri": "https://localhost:8080/",
          "height": 185
        },
        "outputId": "b5a9b52d-c08a-4796-c9fa-06d7801d8bce"
      },
      "source": [
        "emdat_noname_df.head(1)"
      ],
      "execution_count": 59,
      "outputs": [
        {
          "output_type": "execute_result",
          "data": {
            "text/html": [
              "<div>\n",
              "<style scoped>\n",
              "    .dataframe tbody tr th:only-of-type {\n",
              "        vertical-align: middle;\n",
              "    }\n",
              "\n",
              "    .dataframe tbody tr th {\n",
              "        vertical-align: top;\n",
              "    }\n",
              "\n",
              "    .dataframe thead th {\n",
              "        text-align: right;\n",
              "    }\n",
              "</style>\n",
              "<table border=\"1\" class=\"dataframe\">\n",
              "  <thead>\n",
              "    <tr style=\"text-align: right;\">\n",
              "      <th></th>\n",
              "      <th>CPI</th>\n",
              "      <th>Continent</th>\n",
              "      <th>Country name</th>\n",
              "      <th>End day</th>\n",
              "      <th>End month</th>\n",
              "      <th>End year</th>\n",
              "      <th>Entry criteria</th>\n",
              "      <th>Event name</th>\n",
              "      <th>Group</th>\n",
              "      <th>ISO</th>\n",
              "      <th>Insured losses ('000$)</th>\n",
              "      <th>Local time</th>\n",
              "      <th>Location</th>\n",
              "      <th>Magnitude (value)</th>\n",
              "      <th>Num affected</th>\n",
              "      <th>Num homeless</th>\n",
              "      <th>Num injured</th>\n",
              "      <th>Origin</th>\n",
              "      <th>Reconstruction cost ('000$)</th>\n",
              "      <th>Region</th>\n",
              "      <th>River basin</th>\n",
              "      <th>Seq</th>\n",
              "      <th>Start day</th>\n",
              "      <th>Start month</th>\n",
              "      <th>Start year</th>\n",
              "      <th>Subgroup</th>\n",
              "      <th>Subsubtype</th>\n",
              "      <th>Subtype</th>\n",
              "      <th>Total affected</th>\n",
              "      <th>Total damage ('000$)</th>\n",
              "      <th>Total deaths</th>\n",
              "      <th>Type</th>\n",
              "      <th>Unnamed: 0</th>\n",
              "      <th>Year</th>\n",
              "    </tr>\n",
              "  </thead>\n",
              "  <tbody>\n",
              "    <tr>\n",
              "      <th>447</th>\n",
              "      <td>32.233893</td>\n",
              "      <td>Americas</td>\n",
              "      <td>Haiti</td>\n",
              "      <td>5.0</td>\n",
              "      <td>8.0</td>\n",
              "      <td>1980</td>\n",
              "      <td>Kill</td>\n",
              "      <td>Allen</td>\n",
              "      <td>Natural</td>\n",
              "      <td>HTI</td>\n",
              "      <td>NaN</td>\n",
              "      <td>NaN</td>\n",
              "      <td>South-West, Port-Au-Prince</td>\n",
              "      <td>270.0</td>\n",
              "      <td>330000.0</td>\n",
              "      <td>835000.0</td>\n",
              "      <td>NaN</td>\n",
              "      <td>NaN</td>\n",
              "      <td>NaN</td>\n",
              "      <td>Caribbean</td>\n",
              "      <td>NaN</td>\n",
              "      <td>78</td>\n",
              "      <td>5.0</td>\n",
              "      <td>8.0</td>\n",
              "      <td>1980</td>\n",
              "      <td>Meteorological</td>\n",
              "      <td>NaN</td>\n",
              "      <td>Tropical cyclone</td>\n",
              "      <td>1165000.0</td>\n",
              "      <td>400000.0</td>\n",
              "      <td>220.0</td>\n",
              "      <td>Storm</td>\n",
              "      <td>2198</td>\n",
              "      <td>1980</td>\n",
              "    </tr>\n",
              "  </tbody>\n",
              "</table>\n",
              "</div>"
            ],
            "text/plain": [
              "           CPI Continent Country name  ...   Type  Unnamed: 0  Year\n",
              "447  32.233893  Americas        Haiti  ...  Storm        2198  1980\n",
              "\n",
              "[1 rows x 34 columns]"
            ]
          },
          "metadata": {
            "tags": []
          },
          "execution_count": 59
        }
      ]
    },
    {
      "cell_type": "code",
      "metadata": {
        "id": "14XIGxwlQGrj",
        "colab_type": "code",
        "colab": {
          "base_uri": "https://localhost:8080/",
          "height": 202
        },
        "outputId": "8b33ab2a-61f6-4e73-ad3a-5c49803ac2a5"
      },
      "source": [
        "ext_subset_emdat.head(1)"
      ],
      "execution_count": 60,
      "outputs": [
        {
          "output_type": "execute_result",
          "data": {
            "text/html": [
              "<div>\n",
              "<style scoped>\n",
              "    .dataframe tbody tr th:only-of-type {\n",
              "        vertical-align: middle;\n",
              "    }\n",
              "\n",
              "    .dataframe tbody tr th {\n",
              "        vertical-align: top;\n",
              "    }\n",
              "\n",
              "    .dataframe thead th {\n",
              "        text-align: right;\n",
              "    }\n",
              "</style>\n",
              "<table border=\"1\" class=\"dataframe\">\n",
              "  <thead>\n",
              "    <tr style=\"text-align: right;\">\n",
              "      <th></th>\n",
              "      <th>Unnamed: 0</th>\n",
              "      <th>Year</th>\n",
              "      <th>Seq</th>\n",
              "      <th>ISO</th>\n",
              "      <th>Group</th>\n",
              "      <th>Subgroup</th>\n",
              "      <th>Type</th>\n",
              "      <th>Subtype</th>\n",
              "      <th>Subsubtype</th>\n",
              "      <th>Entry criteria</th>\n",
              "      <th>Country name</th>\n",
              "      <th>Region</th>\n",
              "      <th>Continent</th>\n",
              "      <th>Location</th>\n",
              "      <th>Origin</th>\n",
              "      <th>Magnitude (value)</th>\n",
              "      <th>Local time</th>\n",
              "      <th>River basin</th>\n",
              "      <th>Start year</th>\n",
              "      <th>Start month</th>\n",
              "      <th>Start day</th>\n",
              "      <th>End year</th>\n",
              "      <th>End month</th>\n",
              "      <th>End day</th>\n",
              "      <th>Total deaths</th>\n",
              "      <th>Num injured</th>\n",
              "      <th>Num affected</th>\n",
              "      <th>Num homeless</th>\n",
              "      <th>Total affected</th>\n",
              "      <th>Reconstruction cost ('000$)</th>\n",
              "      <th>Insured losses ('000$)</th>\n",
              "      <th>Total damage ('000$)</th>\n",
              "      <th>CPI</th>\n",
              "      <th>Event name</th>\n",
              "    </tr>\n",
              "  </thead>\n",
              "  <tbody>\n",
              "    <tr>\n",
              "      <th>0</th>\n",
              "      <td>3519</td>\n",
              "      <td>1982</td>\n",
              "      <td>147</td>\n",
              "      <td>MDG</td>\n",
              "      <td>Natural</td>\n",
              "      <td>Meteorological</td>\n",
              "      <td>Storm</td>\n",
              "      <td>Tropical cyclone</td>\n",
              "      <td>NaN</td>\n",
              "      <td>Kill</td>\n",
              "      <td>Madagascar</td>\n",
              "      <td>Eastern Africa</td>\n",
              "      <td>Africa</td>\n",
              "      <td>Sambava, Antalaha, Tulear, Morondova, Miandriv...</td>\n",
              "      <td>NaN</td>\n",
              "      <td>200.0</td>\n",
              "      <td>NaN</td>\n",
              "      <td>NaN</td>\n",
              "      <td>1982</td>\n",
              "      <td>1.0</td>\n",
              "      <td>28.0</td>\n",
              "      <td>1982</td>\n",
              "      <td>3.0</td>\n",
              "      <td>25.0</td>\n",
              "      <td>92.0</td>\n",
              "      <td>NaN</td>\n",
              "      <td>NaN</td>\n",
              "      <td>70000.0</td>\n",
              "      <td>70000.0</td>\n",
              "      <td>NaN</td>\n",
              "      <td>NaN</td>\n",
              "      <td>250000.0</td>\n",
              "      <td>37.745822</td>\n",
              "      <td>Benedic</td>\n",
              "    </tr>\n",
              "  </tbody>\n",
              "</table>\n",
              "</div>"
            ],
            "text/plain": [
              "   Unnamed: 0  Year  Seq  ... Total damage ('000$)        CPI Event name\n",
              "0        3519  1982  147  ...             250000.0  37.745822   Benedic \n",
              "\n",
              "[1 rows x 34 columns]"
            ]
          },
          "metadata": {
            "tags": []
          },
          "execution_count": 60
        }
      ]
    },
    {
      "cell_type": "code",
      "metadata": {
        "id": "dapyn7TXCMs8",
        "colab_type": "code",
        "colab": {}
      },
      "source": [
        "### Order of columns not the same. Enforce uniformity\n",
        "emdat_noname_df = pd.concat([emdat_noname_df.loc[~emdat_noname_df.index.isin(indexes)], \n",
        "                             ext_subset_emdat[emdat_noname_df.columns.values]], sort=True)"
      ],
      "execution_count": 0,
      "outputs": []
    },
    {
      "cell_type": "code",
      "metadata": {
        "id": "_fMbEChTH_OH",
        "colab_type": "code",
        "colab": {}
      },
      "source": [
        ""
      ],
      "execution_count": 0,
      "outputs": []
    },
    {
      "cell_type": "code",
      "metadata": {
        "id": "-sa6wkPYH61e",
        "colab_type": "code",
        "colab": {}
      },
      "source": [
        ""
      ],
      "execution_count": 0,
      "outputs": []
    },
    {
      "cell_type": "code",
      "metadata": {
        "id": "cx-1tfcm-gti",
        "colab_type": "code",
        "colab": {
          "base_uri": "https://localhost:8080/",
          "height": 1000
        },
        "outputId": "686a8b37-dcb6-485e-9adc-ae1be2877cbe"
      },
      "source": [
        "emdat_noname_df['Event name'].unique()"
      ],
      "execution_count": 65,
      "outputs": [
        {
          "output_type": "execute_result",
          "data": {
            "text/plain": [
              "array(['Allen', 'Amy', 'Dean', 'Enid', 'Joe', 'Wally', 'Daman', 'Arthur',\n",
              "       'Alberto', 'Alleta', 'Orchid', 'Kim', 'Betty ', '', 'Hyacinthe',\n",
              "       'Joe ', 'Ruth ', 'Phyllis', 'Thad', 'Agnes', 'St. Lidia', 'Cliff',\n",
              "       'Freda', 'Gyan', 'Clara', 'Irma ', 'Lee ', 'Kelly', 'Damia',\n",
              "       'Mamie', 'Nelson ', 'Bernie', 'Isaac', 'Dominic', 'Klaus',\n",
              "       'Winifred', 'Beryl', 'Bess', 'Ellis', 'Judy', 'Cecil', 'Paul',\n",
              "       'Frida', 'Faye', 'Nancy ', 'Ellen', 'Elinah', 'Oscar', 'Sarah',\n",
              "       'Forest', 'Tico', 'Andy', 'Vera ', 'Ellen ', 'Orchid ', 'Ike',\n",
              "       'Fran', 'Hortense', 'Kamisy', 'Domoina', 'Haja', 'June ', 'Agnes ',\n",
              "       'Ike  and Maring', 'Warren ', ' Kate', 'Gavin', 'Tess', 'Kate',\n",
              "       ' Irma', 'Pat', 'Brenda', 'Ditra', 'Dot ', 'Hal ', 'Tess ',\n",
              "       'Peggy', 'Vera', 'Rajah', 'Wayne', 'Charlie', 'Danielle',\n",
              "       'Honorinina', 'Peggy ', 'Wayne ', 'Dom ', 'Georgia ', 'Narge ',\n",
              "       'Emily', 'Gerald', 'Ruth', 'Sally', 'Jan', 'Nina', 'Lynn',\n",
              "       'Thelma', 'Vernon', 'Lynn ', 'Nina ', 'Cart ', 'Phillis ', 'Filao',\n",
              "       'Iwa', 'Orama', 'Veena', 'Alicia', 'Herbert ', 'Hina', 'Elena',\n",
              "       'Gloria', 'Juan', 'Namu', 'Abby', 'Raja', 'Maury', 'Uma', 'Anne',\n",
              "       'B', 'Bill ', 'Kit', 'Joan', 'Gilbert', 'Ruby', 'Brian', 'Hugo',\n",
              "       'Gina', 'Aivu', 'Orson', 'Hope', 'Gordon', 'Gustav', 'Joy', 'Ofa',\n",
              "       'N°', 'Yancy', 'Tasha', 'Abe', 'Dot', 'Peni', 'Sina', 'Gorky ',\n",
              "       'Fred', 'Debby', 'Bola', 'Susan ', 'Ruby ', 'Skip ', 'Keith',\n",
              "       'Alibera', 'Firinga', 'Delilah', 'Gordon ', 'Dan ', 'Elsie ',\n",
              "       'Angela ', 'Sarah ', 'Hunt ', 'Breda ', 'Gay', 'Allison',\n",
              "       'Chantal', ' Jerry', 'Irving', 'Flo', 'Diana', 'Mike ', 'Becky',\n",
              "       'Ira', 'Thelma ', 'Gladys', 'Cynthia', 'Zelda', 'Bella', 'Brendan',\n",
              "       'Bob', 'Zeke', 'Polly', 'Andrew', 'Ted', 'Koryn', 'Fred ', 'Russ',\n",
              "       'Tim', 'Caitlin', 'Kinna', 'Luke', 'Mireille ', 'Zeke ', 'Grace',\n",
              "       'Gary', 'Iniki', 'Eli ', 'Joni', 'Omar', 'Gari ', 'Lester',\n",
              "       'Omar ', 'Angela', 'Colleen', 'Axel', 'Kina', 'Robyn', 'Calvin',\n",
              "       'Irwin', 'Lidia', 'Cindy', 'Bret', 'Koryn ', 'Flo ', 'Lola ',\n",
              "       'Kyle', 'Nell ', 'Adel', 'Colina', 'Axel ', 'Doug', 'Tim ',\n",
              "       'Teresa ', 'Harry', 'Nadya', 'Litanne', 'Owen ', 'Yunya ',\n",
              "       'Sharon ', 'Caitlin ', 'Luke ', 'Oyang', 'Vanessa', 'Chuck',\n",
              "       'Betsy', 'Wylie', 'Lola', 'Prema', 'Janis', 'Luis', 'Bobby',\n",
              "       'Erin', 'Marylin', 'Kent', 'Opal', 'Marilyn', 'Felix', 'Henriette',\n",
              "       'Ismael', 'Roxane', 'Willie', 'Kirk', 'Bonita', 'Greg', 'Olivia',\n",
              "       'Herb', 'Cesar and Douglas', 'Lilli', 'Marcos', 'Marco', 'Elida',\n",
              "       'Fausto', 'Daniella', 'Victor', 'Winnie', 'Zita', 'One Bravo ',\n",
              "       ' B', 'Martin', 'Paka', 'Oliwa', 'Linda', 'Gretelle', 'Josie',\n",
              "       'Olaf', 'Pauline', 'Rick', 'Sybil ', 'Zack ', 'Karing', 'Zack',\n",
              "       'Kent ', 'Gloria and Frankie', 'Frankie ', 'Bining', 'Fritz',\n",
              "       'Ivan', 'Justin', 'Andres', 'Danny', 'Georges', 'Mitch', 'Babs ',\n",
              "       'Wendy', 'Lothar', 'Rona', 'York', 'Anatol', 'Lenny', 'Jose',\n",
              "       'Vance', 'Floyd', 'Dan', 'Sam', ' Irene', 'Dani', 'Steve',\n",
              "       'Charley', 'A', 'Rex', 'Vicky ', 'Zeb', 'Stella', 'Isis',\n",
              "       'Vicky and Todd ', 'Zeb ', 'Faith ', 'Ron', 'Cora', 'Babs',\n",
              "       'Bonnie', 'Frances', 'Bart', '-A', 'Oa', 'Davina', 'Frank',\n",
              "       'Irene', 'Dennis', 'Connie', 'Tessi', 'Hudah', 'Maria', 'Biring',\n",
              "       'Prapiroon ', 'Norman', 'Bilis', 'Prapiroon', 'Wukong', 'Kirogi',\n",
              "       'Saomai', 'Kai-Tak ', 'Xangsane ', 'Bebinca ', 'Rumbia ', 'Kaemi',\n",
              "       'Willy', 'Chebi', 'Durian and Utor', 'Toraji', 'Yutu', 'Paula',\n",
              "       'Pabuk', 'Auring', 'Utor ', 'Leslie', 'Utor', 'Trami', 'Durian',\n",
              "       'Usagi', 'Sose', 'Michelle', 'Iris', 'Fitow', 'Trina', ' Michelle',\n",
              "       'Danas', 'Dalila', 'Juliette', 'Lorena', 'Rusa', 'Hary', 'Lili',\n",
              "       'Mitag', 'Jeannet', 'Jeanett', 'Hagupit', 'Isidore', 'Chataan',\n",
              "       'Pongsona', 'Halong', 'Cyprien', 'Kesiny', 'Julio', 'Kenna',\n",
              "       'Lingling ', 'Kajiki ', 'Nari', 'Waka', 'Zoe', 'Dina', 'Halong ',\n",
              "       'Rammasun ', 'Hygos', 'Nakri', 'Ami', 'Fabian', 'Hail', 'Odette',\n",
              "       'Calvann', 'Isabel', 'Imbudo', 'Dujuan', 'Nepartak', 'Lupit',\n",
              "       'Catarina', 'Cosme ', 'Heta', 'Maemi', 'Etau', 'Linfa ',\n",
              "       'Soudelor ', 'Marty', 'Manou', 'Ignacio', 'Japhet', 'Koni', 'Bill',\n",
              "       'Fari', 'Cela', 'Erica', 'Gilas ', 'Ineng', 'Kabayan', 'Beni',\n",
              "       'Nida ', 'Ivy ', 'Tingting', 'Mindulle ', 'Dianmu ', 'Chanthu ',\n",
              "       'Jeanne', 'Galifo', 'Elita', ' Wilma', 'Gamma', 'Megi ', 'Aere ',\n",
              "       'Merbok ', 'Meari ', 'Haima', 'Tokage ', 'Muifa ', 'Chaba',\n",
              "       'Ma-on ', 'Nock-ten ', 'Songda ', 'Rananim ', 'Nanmadol ',\n",
              "       'Matsa ', 'Nabi ', 'Khanun ', 'Alpha', ' Dennis', 'Talim',\n",
              "       'Longwang', 'Stan', 'Mawar', 'Damrey', 'Erwin', 'Beta', 'Haitang ',\n",
              "       'Percy', 'Ernest', 'Roke ', 'Gaston', 'Katrina', 'Vicente', 'Rita',\n",
              "       'Kai Tak ', 'Chanchu ', 'Shanshan ', 'John', 'Lane', 'Glenda',\n",
              "       'Bondo', 'Clare', 'Larry', 'Jim', 'Ernesto', 'Mala', 'Boloetse',\n",
              "       'Indhala', 'Gonu', 'Clovis', 'Kyrill', 'Jaya', 'Favio', 'Gamède',\n",
              "       'Adrian', 'Cimaron ', 'Durian ', 'Queenie ', 'Henry', 'Noel',\n",
              "       'Olga', 'George and Jacob', 'Sidr', 'Sepat', 'Krosa', ' Neoguri ',\n",
              "       '   Fay', ' Dolly', 'Alma', ' Paloma', ' Ike', ' Gustav',\n",
              "       '  Nuri ', ' Hanna', 'Johanna', 'Emma', ' Omar', ' Fengshen ',\n",
              "       '  Fung-Wong ', '  Kammuri ', ' Gene', ' Hagupit ', ' Jangmi ',\n",
              "       'Lorenzo', 'Chedeng and Dodong', 'Lekima', 'Mitag ', 'Hagibis ',\n",
              "       'Hanna', 'Yemyin', 'Man-Yi', 'Fitow ', 'Nari ', 'Goring', 'Guba',\n",
              "       'Kabayan ', ' Nargis', '  Kalmaegi', ' Sinlaku', ' Fame', ' Ivan',\n",
              "       '  Maysak ', ' Rammasun ', ' Helen', ' Mekkhala', '  Noul',\n",
              "       ' Reshmi', ' Jokwe', ' Morakot ', ' Aila', '  Dominic', ' Koppu',\n",
              "       '  Goni', ' Bijli', ' Bill', ' Pepeng ', 'Xynthia', ' Ului',\n",
              "       'Hilal', '  Higos ', ' Dante ', '  Maring', '  Nando', ' Ida',\n",
              "       ' Jimena', '  Emong ', '  Feria ', '  Labuyo ', '  Mirinae ',\n",
              "       '  Urduja', ' Mick', ' Etau', '  Ondoy ', 's Eric and Fanele',\n",
              "       '  Izilda', 'Goni ', ' Melor', ' Phyan', '  Jade', '  Isang ',\n",
              "       '   Hubert', ' Agatha', ' Oli', ' Chanthu', ' Laila', '  Alex',\n",
              "       ' Tomas', ' Phet', ' Conson ', '  Ester ', ' Fanapi', '  Matthew',\n",
              "       '  Nicole', ' Frank', ' Giri', ' Earl', ' Jal', ' Karl', ' Megi ',\n",
              "       ' Meranti', ' Kompasu', ' Talas', '  Beatrix', ' Jova', ' Bebeng ',\n",
              "       '  Dodong ', '  Meari ', '  Juaning ', ' Kabayan ', '  Washi ',\n",
              "       '  Arlene', ' Quiel ', ' Ma-on', '  Yasi', ' Pedring ',\n",
              "       '  Orphelia', ' Roke', '  Bingiza', '  Dora', ' Chedeng ',\n",
              "       'Joachim', ' Nate', '  Haima ', '  Emily', ' Thane', 'Keila',\n",
              "       ' Mina ', '  Ramon ', '  Irina', ' Funso', ' Giovanna', '  Dando',\n",
              "       '  Hermine', ' Mindulle', '  Lee', '  Wilma', '  Vania',\n",
              "       '  Gener ', ' Tembin', ' Sandy', '  Iggy', ' Nilam', ' Vicente',\n",
              "       ' Damrey', '  Debby', ' Haikui', ' Kai-Tak', ' Son Tinh ',\n",
              "       ' Isaac', ' Evan', ' Bolaven', ' Jelawat', ' Sanba', ' Dirk',\n",
              "       ' Wipha', ' Xaver', '  Fitow', ' Phailin', 'Ex-  Oswald',\n",
              "       '  Utor ', ' Trami ', '  Jebi', 'Helen', '  Man-Yi',\n",
              "       'Winter  Alexa', ' Christian', '  Mahasen', ' Soulik', ' Rumbia',\n",
              "       '  Ciramon', ' Usagi ', ' Wutip ', ' Haiyan ', '  Toraji', 'Ulla',\n",
              "       '  Wukong ', ' Igme ', ' Lawin ', ' Carlotta', ' Karen',\n",
              "       '  Marce ', ' Bopha', '  Fernand', ' Manuel ', ' Ingrid', ' A',\n",
              "       '  Haruna', '  Auring', '  Nari ', ' Krosa ', '  Feleng',\n",
              "       'Cleon and Dion', ' Barbara', '  Crising ', '  Agaton ',\n",
              "       '  Basyang ', '  Lusi ', 'Hagibis', ' Kalmaegi ', ' Beisja', 'Ian',\n",
              "       ' Henry ', ' Erika', ' Joaquin', ' Komen', ' Maysak', '  Kujira',\n",
              "       ' Soudelor ', ' Lam ', ' Marcia', ' Olwyn', ' Chan-Home',\n",
              "       '  Linfa ', ' Dujuan', ' Mujigae', ' Fred', ' Winston', 'Boris',\n",
              "       ' Neoguri', ' Phanfone', ' Odile', '  Nakri', '  Trudy',\n",
              "       '  Jangmi ', '  Dolly', ' Marie', ' Norbert', '  Sinlaku ',\n",
              "       ' Hudhud', ' Halong', ' Vongfong', ' Ita', ' Iselle', ' Nangka',\n",
              "       '  Chedza ', '  Amang ', ' Goni ', ' Koppu ', ' Melor ', 'Huda',\n",
              "       ' Octavia', ' Desmond ', '  Etau', ' Pam', ' Patricia', ' Megh',\n",
              "       'Joaquin', ' Noul ', '  Fundi', '  Raquel', ' Chapala', ' Roanu',\n",
              "       ' Jonas ', ' Ulla', 'Debbie', ' Mora', 'Friederike ', ' Chaba ',\n",
              "       '  Otto', '  Earl', ' Megi', '  Mindulle', ' Matthew', ' Butchoy ',\n",
              "       ' Ferdie ', '  Zena', ' Vardah', ' Lionrock', ' Malakas',\n",
              "       ' Newton', ' Helen ', ' Karen ', '  Dianmu', ' Nina ', ' Maria',\n",
              "       ' Talim', ' Ockhi', 'Beatriz', ' Franklin', ' Cempaka', ' Katia',\n",
              "       ' Doksuri', ' Hato', ' Enawo', '  Lidia', ' Dineo', 'Zeus',\n",
              "       '  Talas', ' Noru', '  W ', 'Eleanor', ' Ava', '  Basyang  ',\n",
              "       '  Berguitta', ' Gita', 'Agaton ', ' Vamco', ' Hermine', '  Aere',\n",
              "       ' Mirinae', '  Ex-Dineo', ' Harvey', '  Donna', ' Adrian',\n",
              "       '  Titli', '  Alberto', ' Maria ', ' Bebinca', '  Yagi',\n",
              "       '  Rumbia', ' Sagar', ' Josie', ' Jebi', ' Trami', ' Son Tinh',\n",
              "       '  Eliakim', '  Vicente', ' Mekunu', ' Luban', '  Ewiniar',\n",
              "       '  Ampil ', ' Mangkut ', ' Michael', ' Beryl', '  Keni', ' Gaja',\n",
              "       '  Phethai', ' Kong-Rey', ' Willa', ' Amelie', '  Lekima ',\n",
              "       ' Belna', ' Norma', ' Idai', ' Kenneth', '  Hagibis', '  Lorena',\n",
              "       ' Fani', '  Bulbul', '  Dorian', '  Lingling', '  Mitag',\n",
              "       '  Sarai', ' Wutip', '  Tapah', ' Faxai', '  Narda', '  Penny',\n",
              "       ' Tino', '  Son-tinh  and Josie', '  Usman', ' Yutu ', ' Florence',\n",
              "       ' Leslie', '  Kalmaegi ', '  Phanfone ', '  Pawan', ' Matmo',\n",
              "       '   Imelda', '  Podul', '  Pabuk', 'Benedic ', '  Electre ',\n",
              "       '  Frida ', '  Justine', 'Eric ', '  Nigel ', '  Odette',\n",
              "       'Domoina ', '  Imboa', 'Eric  ', '  Nigel', 'Kalafandji ',\n",
              "       '  Firinga', 'Brian ', '  Angela ', '  Dan', 'Fili  ', '  Gina',\n",
              "       'Ofelia   ', '  Percy', 'Val  ', '  Wasa', 'Zeke  ', '  Fred',\n",
              "       'Arlene ', '  Beatriz', 'Daisy ', '  Geralda', 'Hollanda ',\n",
              "       '  Ivy', 'Alma ', '  Boris', 'Cilly ', '  Desiree ', '  Fanny',\n",
              "       '  Désirée et Fanny', 'Chip ', '  Elvis  ', '  Dawn', 'Madeline  ',\n",
              "       '  Lester', 'Faith  ', '  Gil', 'Yali ', '  Zuman', 'Eline ',\n",
              "       '  Gloria', 'Wipha ', ' Goring', '  ', '  Nate', ' Lan ', ' Paolo',\n",
              "       '  Pakhar ', ' Jolina', ' Nesat  ', '  Haitang', ' Damrey  ',\n",
              "       '  Ramil', 'Elsa ', '  Fabien'], dtype=object)"
            ]
          },
          "metadata": {
            "tags": []
          },
          "execution_count": 65
        }
      ]
    },
    {
      "cell_type": "code",
      "metadata": {
        "id": "o0YWRxEEOs8a",
        "colab_type": "code",
        "colab": {}
      },
      "source": [
        "## Remove rows without event name\n",
        "emdat_noname_df[emdat_noname_df['Event name'] != \"\"]\n",
        "\n",
        "## Strip leading spaces .str.strip()\n",
        "emdat_noname_df['Event name'] = emdat_noname_df['Event name'].apply(lambda x: x.strip())"
      ],
      "execution_count": 0,
      "outputs": []
    },
    {
      "cell_type": "code",
      "metadata": {
        "id": "L4H7xJhpdRhc",
        "colab_type": "code",
        "colab": {}
      },
      "source": [
        "### It appears some observations have name as simply \"Hurricane\" \n",
        "## and removing these leaves the name empty. This should be dropped.\n",
        "mask = emdatdf['Event name'].str.contains(r'\\b(?:{})\\b'.format('|'.join(to_remove)))\n",
        "mask = mask.replace(np.nan, False)\n",
        "\n",
        "\n",
        "## Convert names to uppercase\n",
        "emdat_noname_df['Event name'] = emdat_noname_df['Event name'].apply(lambda x: x.upper())"
      ],
      "execution_count": 0,
      "outputs": []
    },
    {
      "cell_type": "code",
      "metadata": {
        "id": "V4J6gHWI82op",
        "colab_type": "code",
        "colab": {
          "base_uri": "https://localhost:8080/",
          "height": 221
        },
        "outputId": "48bb9c6b-c0e6-4d54-fb63-3d4247642328"
      },
      "source": [
        "emdat_noname_df['Event name'].value_counts()"
      ],
      "execution_count": 68,
      "outputs": [
        {
          "output_type": "execute_result",
          "data": {
            "text/plain": [
              "            30\n",
              "IRMA        18\n",
              "NATE        17\n",
              "EMILY       15\n",
              "MATTHEW     15\n",
              "            ..\n",
              "DANTE        1\n",
              "MEKKHALA     1\n",
              "BENI         1\n",
              "STEVE        1\n",
              "LORENZO      1\n",
              "Name: Event name, Length: 736, dtype: int64"
            ]
          },
          "metadata": {
            "tags": []
          },
          "execution_count": 68
        }
      ]
    },
    {
      "cell_type": "code",
      "metadata": {
        "id": "ueOWo_RuQUNZ",
        "colab_type": "code",
        "colab": {
          "base_uri": "https://localhost:8080/",
          "height": 34
        },
        "outputId": "32448806-4dc0-48e2-fa90-74421c7ce4c4"
      },
      "source": [
        "emdat_noname_df.shape"
      ],
      "execution_count": 69,
      "outputs": [
        {
          "output_type": "execute_result",
          "data": {
            "text/plain": [
              "(1933, 34)"
            ]
          },
          "metadata": {
            "tags": []
          },
          "execution_count": 69
        }
      ]
    },
    {
      "cell_type": "code",
      "metadata": {
        "id": "t9sx2L7FRaqc",
        "colab_type": "code",
        "colab": {}
      },
      "source": [
        ""
      ],
      "execution_count": 0,
      "outputs": []
    },
    {
      "cell_type": "code",
      "metadata": {
        "id": "DDdGHBZ9RawB",
        "colab_type": "code",
        "colab": {}
      },
      "source": [
        ""
      ],
      "execution_count": 0,
      "outputs": []
    },
    {
      "cell_type": "code",
      "metadata": {
        "id": "xB4j1nRCRauV",
        "colab_type": "code",
        "colab": {}
      },
      "source": [
        ""
      ],
      "execution_count": 0,
      "outputs": []
    },
    {
      "cell_type": "code",
      "metadata": {
        "id": "uEqE3AXFOZaQ",
        "colab_type": "code",
        "colab": {}
      },
      "source": [
        "#### Ibtracs"
      ],
      "execution_count": 0,
      "outputs": []
    },
    {
      "cell_type": "code",
      "metadata": {
        "id": "MEPVMvpjM-3Q",
        "colab_type": "code",
        "colab": {
          "base_uri": "https://localhost:8080/",
          "height": 71
        },
        "outputId": "e3c423ea-194d-4aee-edd5-dd6c2f79f9c3"
      },
      "source": [
        "ibtracdf = pd.read_csv('/content/drive/My Drive/IBTrACS-ALL-list-v04r00-lines-dbf.csv')\n",
        "ibtracdf = ibtracdf[ibtracdf['year'] >= 1980]\n",
        "tup_zipped = list(set(tuple(zip(ibtracdf.SID, ibtracdf.NAME))))\n",
        "\n",
        "## Create a dictionary with ibtracs SID & storm name\n",
        "SID_Namedict = {x:y for x, y in tup_zipped }"
      ],
      "execution_count": 71,
      "outputs": [
        {
          "output_type": "stream",
          "text": [
            "/usr/local/lib/python3.6/dist-packages/IPython/core/interactiveshell.py:2718: DtypeWarning: Columns (12,21,22,61,66,128,143,148) have mixed types. Specify dtype option on import or set low_memory=False.\n",
            "  interactivity=interactivity, compiler=compiler, result=result)\n"
          ],
          "name": "stderr"
        }
      ]
    },
    {
      "cell_type": "code",
      "metadata": {
        "id": "_sjtCnRdjBnj",
        "colab_type": "code",
        "colab": {}
      },
      "source": [
        ""
      ],
      "execution_count": 0,
      "outputs": []
    },
    {
      "cell_type": "code",
      "metadata": {
        "id": "9WYfqcCznd3F",
        "colab_type": "code",
        "colab": {}
      },
      "source": [
        "###Tce dat processing"
      ],
      "execution_count": 0,
      "outputs": []
    },
    {
      "cell_type": "code",
      "metadata": {
        "id": "H0AiIqnSO2rG",
        "colab_type": "code",
        "colab": {}
      },
      "source": [
        "tcedf_copy = tcedf.copy()\n",
        "\n",
        "## Create column \"name\" using ibtracID\n",
        "tcedf_copy['name'] = tcedf_copy['IBTrACS_ID'].apply(lambda x: SID_Namedict.get(str(x)))\n",
        "\n",
        "## Drop rows without event name\n",
        "tcedf_copy = tcedf_copy[tcedf_copy['name'] != \"NOT_NAMED\"]\n",
        "\n",
        "# Drop rows with no names on both name & tc_name\n",
        "tcedf_copy = tcedf_copy[(tcedf_copy['TC_name'] != \"UNNAMED\") & (tcedf_copy['name'].notna())]"
      ],
      "execution_count": 0,
      "outputs": []
    },
    {
      "cell_type": "code",
      "metadata": {
        "id": "VPiVjFPBhpwx",
        "colab_type": "code",
        "colab": {
          "base_uri": "https://localhost:8080/",
          "height": 224
        },
        "outputId": "8a09866c-22e5-4da8-a097-e1ba66752d2e"
      },
      "source": [
        "tcedf_copy.head()"
      ],
      "execution_count": 74,
      "outputs": [
        {
          "output_type": "execute_result",
          "data": {
            "text/html": [
              "<div>\n",
              "<style scoped>\n",
              "    .dataframe tbody tr th:only-of-type {\n",
              "        vertical-align: middle;\n",
              "    }\n",
              "\n",
              "    .dataframe tbody tr th {\n",
              "        vertical-align: top;\n",
              "    }\n",
              "\n",
              "    .dataframe thead th {\n",
              "        text-align: right;\n",
              "    }\n",
              "</style>\n",
              "<table border=\"1\" class=\"dataframe\">\n",
              "  <thead>\n",
              "    <tr style=\"text-align: right;\">\n",
              "      <th></th>\n",
              "      <th>year</th>\n",
              "      <th>IBTrACS_ID</th>\n",
              "      <th>TC_name</th>\n",
              "      <th>NatCatSERVICE_ID</th>\n",
              "      <th>genesis_basin</th>\n",
              "      <th>countries_affected</th>\n",
              "      <th>ISO3</th>\n",
              "      <th>v_land_SI</th>\n",
              "      <th>v_land_kn</th>\n",
              "      <th>34kn_pop</th>\n",
              "      <th>34kn_assets</th>\n",
              "      <th>64kn_pop</th>\n",
              "      <th>64kn_assets</th>\n",
              "      <th>96kn_pop</th>\n",
              "      <th>96kn_assets</th>\n",
              "      <th>name</th>\n",
              "    </tr>\n",
              "  </thead>\n",
              "  <tbody>\n",
              "    <tr>\n",
              "      <th>2217</th>\n",
              "      <td>1980</td>\n",
              "      <td>1980001S13173</td>\n",
              "      <td>PENI</td>\n",
              "      <td>NaN</td>\n",
              "      <td>SP</td>\n",
              "      <td>single</td>\n",
              "      <td>FJI</td>\n",
              "      <td>43.5</td>\n",
              "      <td>84.5</td>\n",
              "      <td>451029.0</td>\n",
              "      <td>1.777832e+09</td>\n",
              "      <td>9653.0</td>\n",
              "      <td>3.880521e+07</td>\n",
              "      <td>0.0</td>\n",
              "      <td>0.0</td>\n",
              "      <td>PENI</td>\n",
              "    </tr>\n",
              "    <tr>\n",
              "      <th>2218</th>\n",
              "      <td>1980</td>\n",
              "      <td>1980003S15137</td>\n",
              "      <td>PAUL</td>\n",
              "      <td>MR198001B002</td>\n",
              "      <td>SP</td>\n",
              "      <td>single</td>\n",
              "      <td>AUS</td>\n",
              "      <td>51.8</td>\n",
              "      <td>100.7</td>\n",
              "      <td>292780.0</td>\n",
              "      <td>1.716966e+10</td>\n",
              "      <td>164543.0</td>\n",
              "      <td>7.926763e+09</td>\n",
              "      <td>0.0</td>\n",
              "      <td>0.0</td>\n",
              "      <td>PAUL</td>\n",
              "    </tr>\n",
              "    <tr>\n",
              "      <th>2220</th>\n",
              "      <td>1980</td>\n",
              "      <td>1980068S13068</td>\n",
              "      <td>LAURE</td>\n",
              "      <td>MR198003B021</td>\n",
              "      <td>SI</td>\n",
              "      <td>single</td>\n",
              "      <td>MUS</td>\n",
              "      <td>49.3</td>\n",
              "      <td>95.9</td>\n",
              "      <td>936704.0</td>\n",
              "      <td>1.130220e+10</td>\n",
              "      <td>460352.0</td>\n",
              "      <td>5.297437e+09</td>\n",
              "      <td>0.0</td>\n",
              "      <td>0.0</td>\n",
              "      <td>LAURE</td>\n",
              "    </tr>\n",
              "    <tr>\n",
              "      <th>2221</th>\n",
              "      <td>1980</td>\n",
              "      <td>1980069S12161</td>\n",
              "      <td>SINA</td>\n",
              "      <td>NaN</td>\n",
              "      <td>SP</td>\n",
              "      <td>multi</td>\n",
              "      <td>NCL</td>\n",
              "      <td>21.7</td>\n",
              "      <td>42.2</td>\n",
              "      <td>59080.0</td>\n",
              "      <td>1.432924e+09</td>\n",
              "      <td>0.0</td>\n",
              "      <td>0.000000e+00</td>\n",
              "      <td>0.0</td>\n",
              "      <td>0.0</td>\n",
              "      <td>SINA</td>\n",
              "    </tr>\n",
              "    <tr>\n",
              "      <th>2222</th>\n",
              "      <td>1980</td>\n",
              "      <td>1980069S12161</td>\n",
              "      <td>SINA</td>\n",
              "      <td>NaN</td>\n",
              "      <td>SP</td>\n",
              "      <td>multi</td>\n",
              "      <td>NZL</td>\n",
              "      <td>44.4</td>\n",
              "      <td>86.3</td>\n",
              "      <td>847876.0</td>\n",
              "      <td>6.205658e+10</td>\n",
              "      <td>13217.0</td>\n",
              "      <td>2.215335e+09</td>\n",
              "      <td>0.0</td>\n",
              "      <td>0.0</td>\n",
              "      <td>SINA</td>\n",
              "    </tr>\n",
              "  </tbody>\n",
              "</table>\n",
              "</div>"
            ],
            "text/plain": [
              "      year     IBTrACS_ID TC_name  ... 96kn_pop 96kn_assets   name\n",
              "2217  1980  1980001S13173    PENI  ...      0.0         0.0   PENI\n",
              "2218  1980  1980003S15137    PAUL  ...      0.0         0.0   PAUL\n",
              "2220  1980  1980068S13068   LAURE  ...      0.0         0.0  LAURE\n",
              "2221  1980  1980069S12161    SINA  ...      0.0         0.0   SINA\n",
              "2222  1980  1980069S12161    SINA  ...      0.0         0.0   SINA\n",
              "\n",
              "[5 rows x 16 columns]"
            ]
          },
          "metadata": {
            "tags": []
          },
          "execution_count": 74
        }
      ]
    },
    {
      "cell_type": "code",
      "metadata": {
        "id": "_ODEY7ZQShNd",
        "colab_type": "code",
        "colab": {
          "base_uri": "https://localhost:8080/",
          "height": 162
        },
        "outputId": "90846fdc-345a-46f2-aa4f-09d3b3f5439d"
      },
      "source": [
        "## SINA appears twice. 1990 & 1980 We would\n",
        "# need to merge on both name and year. \n",
        "tcedf_copy[tcedf_copy['TC_name'] == \"SINA\"]"
      ],
      "execution_count": 75,
      "outputs": [
        {
          "output_type": "execute_result",
          "data": {
            "text/html": [
              "<div>\n",
              "<style scoped>\n",
              "    .dataframe tbody tr th:only-of-type {\n",
              "        vertical-align: middle;\n",
              "    }\n",
              "\n",
              "    .dataframe tbody tr th {\n",
              "        vertical-align: top;\n",
              "    }\n",
              "\n",
              "    .dataframe thead th {\n",
              "        text-align: right;\n",
              "    }\n",
              "</style>\n",
              "<table border=\"1\" class=\"dataframe\">\n",
              "  <thead>\n",
              "    <tr style=\"text-align: right;\">\n",
              "      <th></th>\n",
              "      <th>year</th>\n",
              "      <th>IBTrACS_ID</th>\n",
              "      <th>TC_name</th>\n",
              "      <th>NatCatSERVICE_ID</th>\n",
              "      <th>genesis_basin</th>\n",
              "      <th>countries_affected</th>\n",
              "      <th>ISO3</th>\n",
              "      <th>v_land_SI</th>\n",
              "      <th>v_land_kn</th>\n",
              "      <th>34kn_pop</th>\n",
              "      <th>34kn_assets</th>\n",
              "      <th>64kn_pop</th>\n",
              "      <th>64kn_assets</th>\n",
              "      <th>96kn_pop</th>\n",
              "      <th>96kn_assets</th>\n",
              "      <th>name</th>\n",
              "    </tr>\n",
              "  </thead>\n",
              "  <tbody>\n",
              "    <tr>\n",
              "      <th>2221</th>\n",
              "      <td>1980</td>\n",
              "      <td>1980069S12161</td>\n",
              "      <td>SINA</td>\n",
              "      <td>NaN</td>\n",
              "      <td>SP</td>\n",
              "      <td>multi</td>\n",
              "      <td>NCL</td>\n",
              "      <td>21.7</td>\n",
              "      <td>42.2</td>\n",
              "      <td>59080.0</td>\n",
              "      <td>1.432924e+09</td>\n",
              "      <td>0.0</td>\n",
              "      <td>0.000000e+00</td>\n",
              "      <td>0.0</td>\n",
              "      <td>0.0</td>\n",
              "      <td>SINA</td>\n",
              "    </tr>\n",
              "    <tr>\n",
              "      <th>2222</th>\n",
              "      <td>1980</td>\n",
              "      <td>1980069S12161</td>\n",
              "      <td>SINA</td>\n",
              "      <td>NaN</td>\n",
              "      <td>SP</td>\n",
              "      <td>multi</td>\n",
              "      <td>NZL</td>\n",
              "      <td>44.4</td>\n",
              "      <td>86.3</td>\n",
              "      <td>847876.0</td>\n",
              "      <td>6.205658e+10</td>\n",
              "      <td>13217.0</td>\n",
              "      <td>2.215335e+09</td>\n",
              "      <td>0.0</td>\n",
              "      <td>0.0</td>\n",
              "      <td>SINA</td>\n",
              "    </tr>\n",
              "    <tr>\n",
              "      <th>3127</th>\n",
              "      <td>1990</td>\n",
              "      <td>1990327S07175</td>\n",
              "      <td>SINA</td>\n",
              "      <td>MR199011B034</td>\n",
              "      <td>SP</td>\n",
              "      <td>single</td>\n",
              "      <td>FJI</td>\n",
              "      <td>70.8</td>\n",
              "      <td>137.6</td>\n",
              "      <td>597688.0</td>\n",
              "      <td>2.549236e+09</td>\n",
              "      <td>512366.0</td>\n",
              "      <td>2.171554e+09</td>\n",
              "      <td>225854.0</td>\n",
              "      <td>920679559.0</td>\n",
              "      <td>SINA</td>\n",
              "    </tr>\n",
              "  </tbody>\n",
              "</table>\n",
              "</div>"
            ],
            "text/plain": [
              "      year     IBTrACS_ID TC_name  ...  96kn_pop  96kn_assets  name\n",
              "2221  1980  1980069S12161    SINA  ...       0.0          0.0  SINA\n",
              "2222  1980  1980069S12161    SINA  ...       0.0          0.0  SINA\n",
              "3127  1990  1990327S07175    SINA  ...  225854.0  920679559.0  SINA\n",
              "\n",
              "[3 rows x 16 columns]"
            ]
          },
          "metadata": {
            "tags": []
          },
          "execution_count": 75
        }
      ]
    },
    {
      "cell_type": "code",
      "metadata": {
        "id": "cKeGmT_loQZZ",
        "colab_type": "code",
        "colab": {
          "base_uri": "https://localhost:8080/",
          "height": 292
        },
        "outputId": "40d40996-bada-4008-c775-645b96a74287"
      },
      "source": [
        "## TC_NAME\n",
        "tcedf_copy[\"TC_name\"][tcedf_copy[\"TC_name\"] == 'BELLY'] = \"BETTY\"\n",
        "tcedf_copy[\"TC_name\"][tcedf_copy[\"TC_name\"] == 'BRENDA'] = \"BRENDAN\"\n",
        "\n",
        "\n",
        "\n",
        "\n",
        "id_split = ['1980073S09133', '1987035S12160', '1988285N09318', '1989209N22130', \n",
        "            '1996282N11162', '1998036S13135', '2013130N04093']\n",
        "\n",
        "\n",
        "for eachsplit in id_split:\n",
        "  tcedf_copy['TC_name'][tcedf_copy['IBTrACS_ID'] == eachsplit] = tcedf_copy['name'].str.split(\":\").str[0]\n",
        "  tcedf_copy['name'][tcedf_copy['IBTrACS_ID'] == eachsplit] = tcedf_copy['name'].str.split(\":\").str[1]"
      ],
      "execution_count": 76,
      "outputs": [
        {
          "output_type": "stream",
          "text": [
            "/usr/local/lib/python3.6/dist-packages/ipykernel_launcher.py:2: SettingWithCopyWarning: \n",
            "A value is trying to be set on a copy of a slice from a DataFrame\n",
            "\n",
            "See the caveats in the documentation: http://pandas.pydata.org/pandas-docs/stable/user_guide/indexing.html#returning-a-view-versus-a-copy\n",
            "  \n",
            "/usr/local/lib/python3.6/dist-packages/ipykernel_launcher.py:12: SettingWithCopyWarning: \n",
            "A value is trying to be set on a copy of a slice from a DataFrame\n",
            "\n",
            "See the caveats in the documentation: http://pandas.pydata.org/pandas-docs/stable/user_guide/indexing.html#returning-a-view-versus-a-copy\n",
            "  if sys.path[0] == '':\n",
            "/usr/local/lib/python3.6/dist-packages/ipykernel_launcher.py:13: SettingWithCopyWarning: \n",
            "A value is trying to be set on a copy of a slice from a DataFrame\n",
            "\n",
            "See the caveats in the documentation: http://pandas.pydata.org/pandas-docs/stable/user_guide/indexing.html#returning-a-view-versus-a-copy\n",
            "  del sys.path[0]\n"
          ],
          "name": "stderr"
        }
      ]
    },
    {
      "cell_type": "code",
      "metadata": {
        "id": "kP5B2lq3oQeq",
        "colab_type": "code",
        "colab": {}
      },
      "source": [
        ""
      ],
      "execution_count": 0,
      "outputs": []
    },
    {
      "cell_type": "code",
      "metadata": {
        "id": "v9JxJERlomws",
        "colab_type": "code",
        "colab": {}
      },
      "source": [
        ""
      ],
      "execution_count": 0,
      "outputs": []
    },
    {
      "cell_type": "code",
      "metadata": {
        "id": "i7hDYn0-onPX",
        "colab_type": "code",
        "colab": {}
      },
      "source": [
        "## Columns to keep\n",
        "tce_dat_columns = ['year', 'IBTrACS_ID', 'name', 'TC_name', 'countries_affected', 'ISO3', 'v_land_SI',\n",
        "                   'v_land_kn', '34kn_pop', '34kn_assets', '64kn_pop', '64kn_assets', \n",
        "                   '96kn_pop', '96kn_assets']\n",
        "\n",
        "tcedf_copy = tcedf_copy[tce_dat_columns]                  "
      ],
      "execution_count": 0,
      "outputs": []
    },
    {
      "cell_type": "code",
      "metadata": {
        "id": "zDAe-FTToQb5",
        "colab_type": "code",
        "colab": {
          "base_uri": "https://localhost:8080/",
          "height": 917
        },
        "outputId": "507c5588-a639-42df-cd7e-1fb442a54c45"
      },
      "source": [
        "## Entries where names don't match. This is \n",
        "# either due to typos or multiple naming\n",
        "\n",
        "tcedf_copy[[\"IBTrACS_ID\", \"TC_name\", \"name\"]][tcedf_copy['TC_name'] != tcedf_copy['name']]"
      ],
      "execution_count": 78,
      "outputs": [
        {
          "output_type": "execute_result",
          "data": {
            "text/html": [
              "<div>\n",
              "<style scoped>\n",
              "    .dataframe tbody tr th:only-of-type {\n",
              "        vertical-align: middle;\n",
              "    }\n",
              "\n",
              "    .dataframe tbody tr th {\n",
              "        vertical-align: top;\n",
              "    }\n",
              "\n",
              "    .dataframe thead th {\n",
              "        text-align: right;\n",
              "    }\n",
              "</style>\n",
              "<table border=\"1\" class=\"dataframe\">\n",
              "  <thead>\n",
              "    <tr style=\"text-align: right;\">\n",
              "      <th></th>\n",
              "      <th>IBTrACS_ID</th>\n",
              "      <th>TC_name</th>\n",
              "      <th>name</th>\n",
              "    </tr>\n",
              "  </thead>\n",
              "  <tbody>\n",
              "    <tr>\n",
              "      <th>2223</th>\n",
              "      <td>1980073S09133</td>\n",
              "      <td>DORIS-GLORIA</td>\n",
              "      <td>GLORIA</td>\n",
              "    </tr>\n",
              "    <tr>\n",
              "      <th>2778</th>\n",
              "      <td>1987035S12160</td>\n",
              "      <td>UMA</td>\n",
              "      <td>VELI</td>\n",
              "    </tr>\n",
              "    <tr>\n",
              "      <th>2789</th>\n",
              "      <td>1987140S08170</td>\n",
              "      <td>BLANCH</td>\n",
              "      <td>BLANCH(E)</td>\n",
              "    </tr>\n",
              "    <tr>\n",
              "      <th>2901</th>\n",
              "      <td>1988285N09318</td>\n",
              "      <td>JOAN</td>\n",
              "      <td>MIRIAM</td>\n",
              "    </tr>\n",
              "    <tr>\n",
              "      <th>2902</th>\n",
              "      <td>1988285N09318</td>\n",
              "      <td>JOAN</td>\n",
              "      <td>MIRIAM</td>\n",
              "    </tr>\n",
              "    <tr>\n",
              "      <th>2903</th>\n",
              "      <td>1988285N09318</td>\n",
              "      <td>JOAN</td>\n",
              "      <td>MIRIAM</td>\n",
              "    </tr>\n",
              "    <tr>\n",
              "      <th>2904</th>\n",
              "      <td>1988285N09318</td>\n",
              "      <td>JOAN</td>\n",
              "      <td>MIRIAM</td>\n",
              "    </tr>\n",
              "    <tr>\n",
              "      <th>2905</th>\n",
              "      <td>1988285N09318</td>\n",
              "      <td>JOAN</td>\n",
              "      <td>MIRIAM</td>\n",
              "    </tr>\n",
              "    <tr>\n",
              "      <th>2906</th>\n",
              "      <td>1988285N09318</td>\n",
              "      <td>JOAN</td>\n",
              "      <td>MIRIAM</td>\n",
              "    </tr>\n",
              "    <tr>\n",
              "      <th>2907</th>\n",
              "      <td>1988285N09318</td>\n",
              "      <td>JOAN</td>\n",
              "      <td>MIRIAM</td>\n",
              "    </tr>\n",
              "    <tr>\n",
              "      <th>2908</th>\n",
              "      <td>1988285N09318</td>\n",
              "      <td>JOAN</td>\n",
              "      <td>MIRIAM</td>\n",
              "    </tr>\n",
              "    <tr>\n",
              "      <th>2909</th>\n",
              "      <td>1988285N09318</td>\n",
              "      <td>JOAN</td>\n",
              "      <td>MIRIAM</td>\n",
              "    </tr>\n",
              "    <tr>\n",
              "      <th>2910</th>\n",
              "      <td>1988285N09318</td>\n",
              "      <td>JOAN</td>\n",
              "      <td>MIRIAM</td>\n",
              "    </tr>\n",
              "    <tr>\n",
              "      <th>2956</th>\n",
              "      <td>1989134N07138</td>\n",
              "      <td>BRENDAN</td>\n",
              "      <td>BRENDA</td>\n",
              "    </tr>\n",
              "    <tr>\n",
              "      <th>2957</th>\n",
              "      <td>1989134N07138</td>\n",
              "      <td>BRENDAN</td>\n",
              "      <td>BRENDA</td>\n",
              "    </tr>\n",
              "    <tr>\n",
              "      <th>2958</th>\n",
              "      <td>1989134N07138</td>\n",
              "      <td>BRENDAN</td>\n",
              "      <td>BRENDA</td>\n",
              "    </tr>\n",
              "    <tr>\n",
              "      <th>2983</th>\n",
              "      <td>1989209N22130</td>\n",
              "      <td>KEN-LOLA</td>\n",
              "      <td>LOLA</td>\n",
              "    </tr>\n",
              "    <tr>\n",
              "      <th>2984</th>\n",
              "      <td>1989209N22130</td>\n",
              "      <td>KEN-LOLA</td>\n",
              "      <td>LOLA</td>\n",
              "    </tr>\n",
              "    <tr>\n",
              "      <th>3692</th>\n",
              "      <td>1996282N11162</td>\n",
              "      <td>ABEL</td>\n",
              "      <td>BETH</td>\n",
              "    </tr>\n",
              "    <tr>\n",
              "      <th>3693</th>\n",
              "      <td>1996282N11162</td>\n",
              "      <td>ABEL</td>\n",
              "      <td>BETH</td>\n",
              "    </tr>\n",
              "    <tr>\n",
              "      <th>3803</th>\n",
              "      <td>1998036S13135</td>\n",
              "      <td>CINDY</td>\n",
              "      <td>VICTOR</td>\n",
              "    </tr>\n",
              "    <tr>\n",
              "      <th>4003</th>\n",
              "      <td>2000067S15189</td>\n",
              "      <td>MONA</td>\n",
              "      <td>HR19S(MONA):MONA</td>\n",
              "    </tr>\n",
              "    <tr>\n",
              "      <th>4272</th>\n",
              "      <td>2003259N13133</td>\n",
              "      <td>CHOI</td>\n",
              "      <td>CHOI-WAN</td>\n",
              "    </tr>\n",
              "    <tr>\n",
              "      <th>4378</th>\n",
              "      <td>2004288N09164</td>\n",
              "      <td>NOCK</td>\n",
              "      <td>NOCK-TEN</td>\n",
              "    </tr>\n",
              "    <tr>\n",
              "      <th>4379</th>\n",
              "      <td>2004288N09164</td>\n",
              "      <td>NOCK</td>\n",
              "      <td>NOCK-TEN</td>\n",
              "    </tr>\n",
              "    <tr>\n",
              "      <th>5116</th>\n",
              "      <td>2013130N04093</td>\n",
              "      <td>MAHASEN</td>\n",
              "      <td>VIYARU</td>\n",
              "    </tr>\n",
              "    <tr>\n",
              "      <th>5117</th>\n",
              "      <td>2013130N04093</td>\n",
              "      <td>MAHASEN</td>\n",
              "      <td>VIYARU</td>\n",
              "    </tr>\n",
              "    <tr>\n",
              "      <th>5118</th>\n",
              "      <td>2013130N04093</td>\n",
              "      <td>MAHASEN</td>\n",
              "      <td>VIYARU</td>\n",
              "    </tr>\n",
              "  </tbody>\n",
              "</table>\n",
              "</div>"
            ],
            "text/plain": [
              "         IBTrACS_ID       TC_name              name\n",
              "2223  1980073S09133  DORIS-GLORIA            GLORIA\n",
              "2778  1987035S12160           UMA              VELI\n",
              "2789  1987140S08170        BLANCH         BLANCH(E)\n",
              "2901  1988285N09318          JOAN            MIRIAM\n",
              "2902  1988285N09318          JOAN            MIRIAM\n",
              "2903  1988285N09318          JOAN            MIRIAM\n",
              "2904  1988285N09318          JOAN            MIRIAM\n",
              "2905  1988285N09318          JOAN            MIRIAM\n",
              "2906  1988285N09318          JOAN            MIRIAM\n",
              "2907  1988285N09318          JOAN            MIRIAM\n",
              "2908  1988285N09318          JOAN            MIRIAM\n",
              "2909  1988285N09318          JOAN            MIRIAM\n",
              "2910  1988285N09318          JOAN            MIRIAM\n",
              "2956  1989134N07138       BRENDAN            BRENDA\n",
              "2957  1989134N07138       BRENDAN            BRENDA\n",
              "2958  1989134N07138       BRENDAN            BRENDA\n",
              "2983  1989209N22130      KEN-LOLA              LOLA\n",
              "2984  1989209N22130      KEN-LOLA              LOLA\n",
              "3692  1996282N11162          ABEL              BETH\n",
              "3693  1996282N11162          ABEL              BETH\n",
              "3803  1998036S13135         CINDY            VICTOR\n",
              "4003  2000067S15189          MONA  HR19S(MONA):MONA\n",
              "4272  2003259N13133          CHOI          CHOI-WAN\n",
              "4378  2004288N09164          NOCK          NOCK-TEN\n",
              "4379  2004288N09164          NOCK          NOCK-TEN\n",
              "5116  2013130N04093       MAHASEN            VIYARU\n",
              "5117  2013130N04093       MAHASEN            VIYARU\n",
              "5118  2013130N04093       MAHASEN            VIYARU"
            ]
          },
          "metadata": {
            "tags": []
          },
          "execution_count": 78
        }
      ]
    },
    {
      "cell_type": "code",
      "metadata": {
        "id": "O2Nq5jK9oFyo",
        "colab_type": "code",
        "colab": {}
      },
      "source": [
        "### Compare emdat & Tce dat"
      ],
      "execution_count": 0,
      "outputs": []
    },
    {
      "cell_type": "code",
      "metadata": {
        "id": "xllmBGF5oHwx",
        "colab_type": "code",
        "colab": {
          "base_uri": "https://localhost:8080/",
          "height": 51
        },
        "outputId": "a72ddf35-9865-4844-da9e-c1ece970866e"
      },
      "source": [
        "emdat_list = list(emdat_noname_df['Event name'])\n",
        "\n",
        "tce_lists = [list(tcedf_copy['TC_name']), list(tcedf_copy['name'])]\n",
        "\n",
        "for l in tce_lists:\n",
        "  results = {}\n",
        "  for i in emdat_list:\n",
        "    results[i] = l.count(i) \n",
        "\n",
        "  count = 0\n",
        "  for each in results:\n",
        "    if results[each] != 0:\n",
        "      count += 1\n",
        "\n",
        "  print(count) ##478 & 476"
      ],
      "execution_count": 79,
      "outputs": [
        {
          "output_type": "stream",
          "text": [
            "495\n",
            "493\n"
          ],
          "name": "stdout"
        }
      ]
    },
    {
      "cell_type": "code",
      "metadata": {
        "id": "-GSbnv6vg-7i",
        "colab_type": "code",
        "colab": {}
      },
      "source": [
        ""
      ],
      "execution_count": 0,
      "outputs": []
    },
    {
      "cell_type": "code",
      "metadata": {
        "id": "vr_Y-DOag-5D",
        "colab_type": "code",
        "colab": {}
      },
      "source": [
        ""
      ],
      "execution_count": 0,
      "outputs": []
    },
    {
      "cell_type": "code",
      "metadata": {
        "id": "FjHQARt5FKzb",
        "colab_type": "code",
        "colab": {}
      },
      "source": [
        "emdatzip = { x:y for x, y in zip(emdat_noname_df['Event name'], emdat_noname_df['Year'])}\n",
        "tcezip = { x:y for x, y in zip(tcedf_copy['TC_name'], tcedf_copy['year'])}"
      ],
      "execution_count": 0,
      "outputs": []
    },
    {
      "cell_type": "code",
      "metadata": {
        "id": "4V41g77pFnIk",
        "colab_type": "code",
        "colab": {}
      },
      "source": [
        ""
      ],
      "execution_count": 0,
      "outputs": []
    },
    {
      "cell_type": "code",
      "metadata": {
        "id": "pnTkzsGTGLyP",
        "colab_type": "code",
        "colab": {}
      },
      "source": [
        ""
      ],
      "execution_count": 0,
      "outputs": []
    },
    {
      "cell_type": "code",
      "metadata": {
        "id": "ToQbeO-oHvVB",
        "colab_type": "code",
        "colab": {}
      },
      "source": [
        "#### Rolf Merge Code\n",
        "\n",
        "merged_df = emdat_noname_df.copy()\n",
        "\n",
        "# merged_df = merged_df.assign()\n",
        "columns_to_add = tcedf_copy.columns[3:]\n",
        "for col in columns_to_add:\n",
        "    merged_df[col] = None\n",
        "\n",
        "\n",
        "for i, col in emdat_noname_df[emdat_noname_df['Year'] >= 1960].iterrows():\n",
        "    year = col['Year']\n",
        "    country_code = col['ISO']\n",
        "    cyclone_name = col['Event name']\n",
        "    tce = tcedf_copy.loc[tcedf_copy['ISO3'] == country_code]\n",
        "    print(cyclone_name)\n",
        "    if cyclone_name is None or cyclone_name != cyclone_name:\n",
        "        print('no data')\n",
        "        continue\n",
        "    cyclone_name= cyclone_name.upper()\n",
        "    if len(tce) < 1:\n",
        "        print('no data')\n",
        "        continue\n",
        "\n",
        "    tce_by_year = tce.loc[tce['year'] == year]\n",
        "    if len(tce_by_year) < 1:\n",
        "        print('no data')\n",
        "        continue\n",
        "\n",
        "    print(i)\n",
        "    tce_by_cyclone = tce.loc[tce['TC_name']== cyclone_name]\n",
        "    if len(tce_by_cyclone) < 1:\n",
        "        print('no data')\n",
        "        continue\n",
        "\n",
        "    new_row = col.append(tce_by_cyclone[columns_to_add].iloc[0])\n",
        "\n",
        "    merged_df.loc[i] = new_row\n",
        "\n",
        "merged_df.to_csv('merged.csv')"
      ],
      "execution_count": 0,
      "outputs": []
    },
    {
      "cell_type": "code",
      "metadata": {
        "id": "YPJQWzYfJKLZ",
        "colab_type": "code",
        "colab": {
          "base_uri": "https://localhost:8080/",
          "height": 34
        },
        "outputId": "1b79ee33-fed5-474a-ecea-8df8d3289383"
      },
      "source": [
        "merged_df.shape"
      ],
      "execution_count": 35,
      "outputs": [
        {
          "output_type": "execute_result",
          "data": {
            "text/plain": [
              "(1757, 45)"
            ]
          },
          "metadata": {
            "tags": []
          },
          "execution_count": 35
        }
      ]
    },
    {
      "cell_type": "code",
      "metadata": {
        "id": "a7pXwfGmQ25y",
        "colab_type": "code",
        "colab": {
          "base_uri": "https://localhost:8080/",
          "height": 34
        },
        "outputId": "f12ed142-3e1a-46fa-c23b-4d77c0532781"
      },
      "source": [
        "merged_df.shape"
      ],
      "execution_count": 82,
      "outputs": [
        {
          "output_type": "execute_result",
          "data": {
            "text/plain": [
              "(1933, 45)"
            ]
          },
          "metadata": {
            "tags": []
          },
          "execution_count": 82
        }
      ]
    },
    {
      "cell_type": "code",
      "metadata": {
        "id": "PPo6abbZVqhb",
        "colab_type": "code",
        "colab": {
          "base_uri": "https://localhost:8080/",
          "height": 34
        },
        "outputId": "befdc752-08ee-4504-e069-46ad88b84cdb"
      },
      "source": [
        "merged_df[(merged_df['Total affected'].isna() & merged_df['34kn_pop'].isna())].shape"
      ],
      "execution_count": 34,
      "outputs": [
        {
          "output_type": "execute_result",
          "data": {
            "text/plain": [
              "(278, 45)"
            ]
          },
          "metadata": {
            "tags": []
          },
          "execution_count": 34
        }
      ]
    },
    {
      "cell_type": "code",
      "metadata": {
        "id": "CVC3MGVLqZYY",
        "colab_type": "code",
        "colab": {
          "base_uri": "https://localhost:8080/",
          "height": 34
        },
        "outputId": "3d1c3d53-4519-4832-f659-a8839d62a905"
      },
      "source": [
        "merged_df[(merged_df['Total affected'].isna() & merged_df['34kn_pop'].isna())].shape"
      ],
      "execution_count": 83,
      "outputs": [
        {
          "output_type": "execute_result",
          "data": {
            "text/plain": [
              "(330, 45)"
            ]
          },
          "metadata": {
            "tags": []
          },
          "execution_count": 83
        }
      ]
    },
    {
      "cell_type": "code",
      "metadata": {
        "id": "MKCLsLjVqZi_",
        "colab_type": "code",
        "colab": {}
      },
      "source": [
        ""
      ],
      "execution_count": 0,
      "outputs": []
    },
    {
      "cell_type": "code",
      "metadata": {
        "id": "K1m1mVuUqZhW",
        "colab_type": "code",
        "colab": {
          "base_uri": "https://localhost:8080/",
          "height": 34
        },
        "outputId": "286e1a5e-e8bb-427b-c46c-6d9db4a6a1c4"
      },
      "source": [
        "tcedf_copy.shape, emdat_noname_df.shape"
      ],
      "execution_count": 29,
      "outputs": [
        {
          "output_type": "execute_result",
          "data": {
            "text/plain": [
              "((2501, 14), (1819, 34))"
            ]
          },
          "metadata": {
            "tags": []
          },
          "execution_count": 29
        }
      ]
    },
    {
      "cell_type": "code",
      "metadata": {
        "id": "hw4xieeWqZei",
        "colab_type": "code",
        "colab": {
          "base_uri": "https://localhost:8080/",
          "height": 131
        },
        "outputId": "fc538866-e164-4630-f209-995beb8d5e8b"
      },
      "source": [
        "#####################\n",
        "###################\n",
        "##################\n",
        "### New Merge Attempt\n",
        "tcedf_copy.head(2)"
      ],
      "execution_count": 84,
      "outputs": [
        {
          "output_type": "execute_result",
          "data": {
            "text/html": [
              "<div>\n",
              "<style scoped>\n",
              "    .dataframe tbody tr th:only-of-type {\n",
              "        vertical-align: middle;\n",
              "    }\n",
              "\n",
              "    .dataframe tbody tr th {\n",
              "        vertical-align: top;\n",
              "    }\n",
              "\n",
              "    .dataframe thead th {\n",
              "        text-align: right;\n",
              "    }\n",
              "</style>\n",
              "<table border=\"1\" class=\"dataframe\">\n",
              "  <thead>\n",
              "    <tr style=\"text-align: right;\">\n",
              "      <th></th>\n",
              "      <th>year</th>\n",
              "      <th>IBTrACS_ID</th>\n",
              "      <th>name</th>\n",
              "      <th>TC_name</th>\n",
              "      <th>countries_affected</th>\n",
              "      <th>ISO3</th>\n",
              "      <th>v_land_SI</th>\n",
              "      <th>v_land_kn</th>\n",
              "      <th>34kn_pop</th>\n",
              "      <th>34kn_assets</th>\n",
              "      <th>64kn_pop</th>\n",
              "      <th>64kn_assets</th>\n",
              "      <th>96kn_pop</th>\n",
              "      <th>96kn_assets</th>\n",
              "    </tr>\n",
              "  </thead>\n",
              "  <tbody>\n",
              "    <tr>\n",
              "      <th>2217</th>\n",
              "      <td>1980</td>\n",
              "      <td>1980001S13173</td>\n",
              "      <td>PENI</td>\n",
              "      <td>PENI</td>\n",
              "      <td>single</td>\n",
              "      <td>FJI</td>\n",
              "      <td>43.5</td>\n",
              "      <td>84.5</td>\n",
              "      <td>451029.0</td>\n",
              "      <td>1.777832e+09</td>\n",
              "      <td>9653.0</td>\n",
              "      <td>3.880521e+07</td>\n",
              "      <td>0.0</td>\n",
              "      <td>0.0</td>\n",
              "    </tr>\n",
              "    <tr>\n",
              "      <th>2218</th>\n",
              "      <td>1980</td>\n",
              "      <td>1980003S15137</td>\n",
              "      <td>PAUL</td>\n",
              "      <td>PAUL</td>\n",
              "      <td>single</td>\n",
              "      <td>AUS</td>\n",
              "      <td>51.8</td>\n",
              "      <td>100.7</td>\n",
              "      <td>292780.0</td>\n",
              "      <td>1.716966e+10</td>\n",
              "      <td>164543.0</td>\n",
              "      <td>7.926763e+09</td>\n",
              "      <td>0.0</td>\n",
              "      <td>0.0</td>\n",
              "    </tr>\n",
              "  </tbody>\n",
              "</table>\n",
              "</div>"
            ],
            "text/plain": [
              "      year     IBTrACS_ID  name  ...   64kn_assets 96kn_pop 96kn_assets\n",
              "2217  1980  1980001S13173  PENI  ...  3.880521e+07      0.0         0.0\n",
              "2218  1980  1980003S15137  PAUL  ...  7.926763e+09      0.0         0.0\n",
              "\n",
              "[2 rows x 14 columns]"
            ]
          },
          "metadata": {
            "tags": []
          },
          "execution_count": 84
        }
      ]
    },
    {
      "cell_type": "code",
      "metadata": {
        "id": "g6mbGvCbqZbI",
        "colab_type": "code",
        "colab": {
          "base_uri": "https://localhost:8080/",
          "height": 267
        },
        "outputId": "c1ea4e10-c9ac-4bf6-c972-0c8ea28bb22a"
      },
      "source": [
        "emdat_noname_df.head(2)"
      ],
      "execution_count": 27,
      "outputs": [
        {
          "output_type": "execute_result",
          "data": {
            "text/html": [
              "<div>\n",
              "<style scoped>\n",
              "    .dataframe tbody tr th:only-of-type {\n",
              "        vertical-align: middle;\n",
              "    }\n",
              "\n",
              "    .dataframe tbody tr th {\n",
              "        vertical-align: top;\n",
              "    }\n",
              "\n",
              "    .dataframe thead th {\n",
              "        text-align: right;\n",
              "    }\n",
              "</style>\n",
              "<table border=\"1\" class=\"dataframe\">\n",
              "  <thead>\n",
              "    <tr style=\"text-align: right;\">\n",
              "      <th></th>\n",
              "      <th>CPI</th>\n",
              "      <th>Continent</th>\n",
              "      <th>Country name</th>\n",
              "      <th>End day</th>\n",
              "      <th>End month</th>\n",
              "      <th>End year</th>\n",
              "      <th>Entry criteria</th>\n",
              "      <th>Event name</th>\n",
              "      <th>Group</th>\n",
              "      <th>ISO</th>\n",
              "      <th>Insured losses ('000$)</th>\n",
              "      <th>Local time</th>\n",
              "      <th>Location</th>\n",
              "      <th>Magnitude (value)</th>\n",
              "      <th>Num affected</th>\n",
              "      <th>Num homeless</th>\n",
              "      <th>Num injured</th>\n",
              "      <th>Origin</th>\n",
              "      <th>Reconstruction cost ('000$)</th>\n",
              "      <th>Region</th>\n",
              "      <th>River basin</th>\n",
              "      <th>Seq</th>\n",
              "      <th>Start day</th>\n",
              "      <th>Start month</th>\n",
              "      <th>Start year</th>\n",
              "      <th>Subgroup</th>\n",
              "      <th>Subsubtype</th>\n",
              "      <th>Subtype</th>\n",
              "      <th>Total affected</th>\n",
              "      <th>Total damage ('000$)</th>\n",
              "      <th>Total deaths</th>\n",
              "      <th>Type</th>\n",
              "      <th>Unnamed: 0</th>\n",
              "      <th>Year</th>\n",
              "    </tr>\n",
              "  </thead>\n",
              "  <tbody>\n",
              "    <tr>\n",
              "      <th>447</th>\n",
              "      <td>32.233893</td>\n",
              "      <td>Americas</td>\n",
              "      <td>Haiti</td>\n",
              "      <td>5.0</td>\n",
              "      <td>8.0</td>\n",
              "      <td>1980</td>\n",
              "      <td>Kill</td>\n",
              "      <td>ALLEN</td>\n",
              "      <td>Natural</td>\n",
              "      <td>HTI</td>\n",
              "      <td>NaN</td>\n",
              "      <td>NaN</td>\n",
              "      <td>South-West, Port-Au-Prince</td>\n",
              "      <td>270.0</td>\n",
              "      <td>330000.0</td>\n",
              "      <td>835000.0</td>\n",
              "      <td>NaN</td>\n",
              "      <td>NaN</td>\n",
              "      <td>NaN</td>\n",
              "      <td>Caribbean</td>\n",
              "      <td>NaN</td>\n",
              "      <td>78</td>\n",
              "      <td>5.0</td>\n",
              "      <td>8.0</td>\n",
              "      <td>1980</td>\n",
              "      <td>Meteorological</td>\n",
              "      <td>NaN</td>\n",
              "      <td>Tropical cyclone</td>\n",
              "      <td>1165000.0</td>\n",
              "      <td>400000.0</td>\n",
              "      <td>220.0</td>\n",
              "      <td>Storm</td>\n",
              "      <td>2198</td>\n",
              "      <td>1980</td>\n",
              "    </tr>\n",
              "    <tr>\n",
              "      <th>451</th>\n",
              "      <td>32.233893</td>\n",
              "      <td>Oceania</td>\n",
              "      <td>Australia</td>\n",
              "      <td>NaN</td>\n",
              "      <td>1.0</td>\n",
              "      <td>1980</td>\n",
              "      <td>Govern</td>\n",
              "      <td>AMY</td>\n",
              "      <td>Natural</td>\n",
              "      <td>AUS</td>\n",
              "      <td>NaN</td>\n",
              "      <td>NaN</td>\n",
              "      <td>New South Wales Coast</td>\n",
              "      <td>NaN</td>\n",
              "      <td>NaN</td>\n",
              "      <td>NaN</td>\n",
              "      <td>NaN</td>\n",
              "      <td>NaN</td>\n",
              "      <td>NaN</td>\n",
              "      <td>Australia and New Zealand</td>\n",
              "      <td>NaN</td>\n",
              "      <td>286</td>\n",
              "      <td>NaN</td>\n",
              "      <td>1.0</td>\n",
              "      <td>1980</td>\n",
              "      <td>Meteorological</td>\n",
              "      <td>NaN</td>\n",
              "      <td>Tropical cyclone</td>\n",
              "      <td>NaN</td>\n",
              "      <td>6966.0</td>\n",
              "      <td>NaN</td>\n",
              "      <td>Storm</td>\n",
              "      <td>2213</td>\n",
              "      <td>1980</td>\n",
              "    </tr>\n",
              "  </tbody>\n",
              "</table>\n",
              "</div>"
            ],
            "text/plain": [
              "           CPI Continent Country name  ...   Type  Unnamed: 0  Year\n",
              "447  32.233893  Americas        Haiti  ...  Storm        2198  1980\n",
              "451  32.233893   Oceania    Australia  ...  Storm        2213  1980\n",
              "\n",
              "[2 rows x 34 columns]"
            ]
          },
          "metadata": {
            "tags": []
          },
          "execution_count": 27
        }
      ]
    },
    {
      "cell_type": "code",
      "metadata": {
        "id": "9-MgA8N8q1ln",
        "colab_type": "code",
        "colab": {}
      },
      "source": [
        "merged_one = pd.merge(tcedf_copy, emdat_noname_df, left_on=['TC_name', 'year', 'ISO3'], right_on=['Event name', 'Year', 'ISO'])\n",
        "merged_two = pd.merge(tcedf_copy, emdat_noname_df, left_on=['name', 'year', 'ISO3'], right_on=['Event name', 'Year', 'ISO'])\n",
        "merged = pd.concat([merged_one, merged_two], sort=True).drop_duplicates()"
      ],
      "execution_count": 0,
      "outputs": []
    },
    {
      "cell_type": "code",
      "metadata": {
        "id": "z5PQ46q4sJij",
        "colab_type": "code",
        "colab": {
          "base_uri": "https://localhost:8080/",
          "height": 34
        },
        "outputId": "31d22c2a-9220-4e43-a01d-3d3817fafcb6"
      },
      "source": [
        "merged_one.shape, merged_two.shape, merged.shape"
      ],
      "execution_count": 95,
      "outputs": [
        {
          "output_type": "execute_result",
          "data": {
            "text/plain": [
              "((876, 48), (870, 48), (853, 48))"
            ]
          },
          "metadata": {
            "tags": []
          },
          "execution_count": 95
        }
      ]
    },
    {
      "cell_type": "code",
      "metadata": {
        "id": "r4cfXNVWsxIv",
        "colab_type": "code",
        "colab": {
          "base_uri": "https://localhost:8080/",
          "height": 34
        },
        "outputId": "9b21f381-d6b0-4fc5-a2bc-2f07ba1c8f4f"
      },
      "source": [
        "merged[merged['Total affected'].isna()].shape"
      ],
      "execution_count": 96,
      "outputs": [
        {
          "output_type": "execute_result",
          "data": {
            "text/plain": [
              "(174, 48)"
            ]
          },
          "metadata": {
            "tags": []
          },
          "execution_count": 96
        }
      ]
    },
    {
      "cell_type": "code",
      "metadata": {
        "id": "tuPxFVbxRSXZ",
        "colab_type": "code",
        "colab": {
          "base_uri": "https://localhost:8080/",
          "height": 830
        },
        "outputId": "b5d7196e-b7b9-4966-b63d-885d0e923f59"
      },
      "source": [
        "merged[merged['Total affected'].isna()]"
      ],
      "execution_count": 97,
      "outputs": [
        {
          "output_type": "execute_result",
          "data": {
            "text/html": [
              "<div>\n",
              "<style scoped>\n",
              "    .dataframe tbody tr th:only-of-type {\n",
              "        vertical-align: middle;\n",
              "    }\n",
              "\n",
              "    .dataframe tbody tr th {\n",
              "        vertical-align: top;\n",
              "    }\n",
              "\n",
              "    .dataframe thead th {\n",
              "        text-align: right;\n",
              "    }\n",
              "</style>\n",
              "<table border=\"1\" class=\"dataframe\">\n",
              "  <thead>\n",
              "    <tr style=\"text-align: right;\">\n",
              "      <th></th>\n",
              "      <th>34kn_assets</th>\n",
              "      <th>34kn_pop</th>\n",
              "      <th>64kn_assets</th>\n",
              "      <th>64kn_pop</th>\n",
              "      <th>96kn_assets</th>\n",
              "      <th>96kn_pop</th>\n",
              "      <th>CPI</th>\n",
              "      <th>Continent</th>\n",
              "      <th>Country name</th>\n",
              "      <th>End day</th>\n",
              "      <th>End month</th>\n",
              "      <th>End year</th>\n",
              "      <th>Entry criteria</th>\n",
              "      <th>Event name</th>\n",
              "      <th>Group</th>\n",
              "      <th>IBTrACS_ID</th>\n",
              "      <th>ISO</th>\n",
              "      <th>ISO3</th>\n",
              "      <th>Insured losses ('000$)</th>\n",
              "      <th>Local time</th>\n",
              "      <th>Location</th>\n",
              "      <th>Magnitude (value)</th>\n",
              "      <th>Num affected</th>\n",
              "      <th>Num homeless</th>\n",
              "      <th>Num injured</th>\n",
              "      <th>Origin</th>\n",
              "      <th>Reconstruction cost ('000$)</th>\n",
              "      <th>Region</th>\n",
              "      <th>River basin</th>\n",
              "      <th>Seq</th>\n",
              "      <th>Start day</th>\n",
              "      <th>Start month</th>\n",
              "      <th>Start year</th>\n",
              "      <th>Subgroup</th>\n",
              "      <th>Subsubtype</th>\n",
              "      <th>Subtype</th>\n",
              "      <th>TC_name</th>\n",
              "      <th>Total affected</th>\n",
              "      <th>Total damage ('000$)</th>\n",
              "      <th>Total deaths</th>\n",
              "      <th>Type</th>\n",
              "      <th>Unnamed: 0</th>\n",
              "      <th>Year</th>\n",
              "      <th>countries_affected</th>\n",
              "      <th>name</th>\n",
              "      <th>v_land_SI</th>\n",
              "      <th>v_land_kn</th>\n",
              "      <th>year</th>\n",
              "    </tr>\n",
              "  </thead>\n",
              "  <tbody>\n",
              "    <tr>\n",
              "      <th>1</th>\n",
              "      <td>1.365669e+10</td>\n",
              "      <td>2417472.0</td>\n",
              "      <td>4.917228e+08</td>\n",
              "      <td>79959.0</td>\n",
              "      <td>1397305.0</td>\n",
              "      <td>34.0</td>\n",
              "      <td>32.233893</td>\n",
              "      <td>Americas</td>\n",
              "      <td>Cuba</td>\n",
              "      <td>4.0</td>\n",
              "      <td>8.0</td>\n",
              "      <td>1980</td>\n",
              "      <td>Declar</td>\n",
              "      <td>ALLEN</td>\n",
              "      <td>Natural</td>\n",
              "      <td>1980214N11330</td>\n",
              "      <td>CUB</td>\n",
              "      <td>CUB</td>\n",
              "      <td>NaN</td>\n",
              "      <td>NaN</td>\n",
              "      <td>NaN</td>\n",
              "      <td>270.0</td>\n",
              "      <td>NaN</td>\n",
              "      <td>NaN</td>\n",
              "      <td>NaN</td>\n",
              "      <td>NaN</td>\n",
              "      <td>NaN</td>\n",
              "      <td>Caribbean</td>\n",
              "      <td>NaN</td>\n",
              "      <td>229</td>\n",
              "      <td>4.0</td>\n",
              "      <td>8.0</td>\n",
              "      <td>1980</td>\n",
              "      <td>Meteorological</td>\n",
              "      <td>NaN</td>\n",
              "      <td>Tropical cyclone</td>\n",
              "      <td>ALLEN</td>\n",
              "      <td>NaN</td>\n",
              "      <td>NaN</td>\n",
              "      <td>3.0</td>\n",
              "      <td>Storm</td>\n",
              "      <td>2220</td>\n",
              "      <td>1980</td>\n",
              "      <td>multi</td>\n",
              "      <td>ALLEN</td>\n",
              "      <td>63.0</td>\n",
              "      <td>122.5</td>\n",
              "      <td>1980</td>\n",
              "    </tr>\n",
              "    <tr>\n",
              "      <th>2</th>\n",
              "      <td>5.925760e+08</td>\n",
              "      <td>72282.0</td>\n",
              "      <td>0.000000e+00</td>\n",
              "      <td>0.0</td>\n",
              "      <td>0.0</td>\n",
              "      <td>0.0</td>\n",
              "      <td>32.233893</td>\n",
              "      <td>Americas</td>\n",
              "      <td>Dominica</td>\n",
              "      <td>4.0</td>\n",
              "      <td>8.0</td>\n",
              "      <td>1980</td>\n",
              "      <td>Declar</td>\n",
              "      <td>ALLEN</td>\n",
              "      <td>Natural</td>\n",
              "      <td>1980214N11330</td>\n",
              "      <td>DMA</td>\n",
              "      <td>DMA</td>\n",
              "      <td>NaN</td>\n",
              "      <td>NaN</td>\n",
              "      <td>NaN</td>\n",
              "      <td>270.0</td>\n",
              "      <td>NaN</td>\n",
              "      <td>NaN</td>\n",
              "      <td>NaN</td>\n",
              "      <td>NaN</td>\n",
              "      <td>NaN</td>\n",
              "      <td>Caribbean</td>\n",
              "      <td>NaN</td>\n",
              "      <td>230</td>\n",
              "      <td>4.0</td>\n",
              "      <td>8.0</td>\n",
              "      <td>1980</td>\n",
              "      <td>Meteorological</td>\n",
              "      <td>NaN</td>\n",
              "      <td>Tropical cyclone</td>\n",
              "      <td>ALLEN</td>\n",
              "      <td>NaN</td>\n",
              "      <td>NaN</td>\n",
              "      <td>NaN</td>\n",
              "      <td>Storm</td>\n",
              "      <td>2221</td>\n",
              "      <td>1980</td>\n",
              "      <td>multi</td>\n",
              "      <td>ALLEN</td>\n",
              "      <td>24.6</td>\n",
              "      <td>47.9</td>\n",
              "      <td>1980</td>\n",
              "    </tr>\n",
              "    <tr>\n",
              "      <th>3</th>\n",
              "      <td>2.706381e+09</td>\n",
              "      <td>273762.0</td>\n",
              "      <td>0.000000e+00</td>\n",
              "      <td>0.0</td>\n",
              "      <td>0.0</td>\n",
              "      <td>0.0</td>\n",
              "      <td>32.233893</td>\n",
              "      <td>Americas</td>\n",
              "      <td>Dominican Republic (the)</td>\n",
              "      <td>4.0</td>\n",
              "      <td>8.0</td>\n",
              "      <td>1980</td>\n",
              "      <td>SigDam</td>\n",
              "      <td>ALLEN</td>\n",
              "      <td>Natural</td>\n",
              "      <td>1980214N11330</td>\n",
              "      <td>DOM</td>\n",
              "      <td>DOM</td>\n",
              "      <td>NaN</td>\n",
              "      <td>NaN</td>\n",
              "      <td>NaN</td>\n",
              "      <td>270.0</td>\n",
              "      <td>NaN</td>\n",
              "      <td>NaN</td>\n",
              "      <td>NaN</td>\n",
              "      <td>NaN</td>\n",
              "      <td>NaN</td>\n",
              "      <td>Caribbean</td>\n",
              "      <td>NaN</td>\n",
              "      <td>231</td>\n",
              "      <td>4.0</td>\n",
              "      <td>8.0</td>\n",
              "      <td>1980</td>\n",
              "      <td>Meteorological</td>\n",
              "      <td>NaN</td>\n",
              "      <td>Tropical cyclone</td>\n",
              "      <td>ALLEN</td>\n",
              "      <td>NaN</td>\n",
              "      <td>47000.0</td>\n",
              "      <td>7.0</td>\n",
              "      <td>Storm</td>\n",
              "      <td>2222</td>\n",
              "      <td>1980</td>\n",
              "      <td>multi</td>\n",
              "      <td>ALLEN</td>\n",
              "      <td>31.7</td>\n",
              "      <td>61.6</td>\n",
              "      <td>1980</td>\n",
              "    </tr>\n",
              "    <tr>\n",
              "      <th>4</th>\n",
              "      <td>1.909564e+08</td>\n",
              "      <td>56163.0</td>\n",
              "      <td>0.000000e+00</td>\n",
              "      <td>0.0</td>\n",
              "      <td>0.0</td>\n",
              "      <td>0.0</td>\n",
              "      <td>32.233893</td>\n",
              "      <td>Americas</td>\n",
              "      <td>Grenada</td>\n",
              "      <td>4.0</td>\n",
              "      <td>8.0</td>\n",
              "      <td>1980</td>\n",
              "      <td>SigDam</td>\n",
              "      <td>ALLEN</td>\n",
              "      <td>Natural</td>\n",
              "      <td>1980214N11330</td>\n",
              "      <td>GRD</td>\n",
              "      <td>GRD</td>\n",
              "      <td>NaN</td>\n",
              "      <td>NaN</td>\n",
              "      <td>NaN</td>\n",
              "      <td>270.0</td>\n",
              "      <td>NaN</td>\n",
              "      <td>NaN</td>\n",
              "      <td>NaN</td>\n",
              "      <td>NaN</td>\n",
              "      <td>NaN</td>\n",
              "      <td>Caribbean</td>\n",
              "      <td>NaN</td>\n",
              "      <td>305</td>\n",
              "      <td>4.0</td>\n",
              "      <td>8.0</td>\n",
              "      <td>1980</td>\n",
              "      <td>Meteorological</td>\n",
              "      <td>NaN</td>\n",
              "      <td>Tropical cyclone</td>\n",
              "      <td>ALLEN</td>\n",
              "      <td>NaN</td>\n",
              "      <td>5300.0</td>\n",
              "      <td>NaN</td>\n",
              "      <td>Storm</td>\n",
              "      <td>2224</td>\n",
              "      <td>1980</td>\n",
              "      <td>multi</td>\n",
              "      <td>ALLEN</td>\n",
              "      <td>22.6</td>\n",
              "      <td>44.0</td>\n",
              "      <td>1980</td>\n",
              "    </tr>\n",
              "    <tr>\n",
              "      <th>8</th>\n",
              "      <td>0.000000e+00</td>\n",
              "      <td>326247.0</td>\n",
              "      <td>0.000000e+00</td>\n",
              "      <td>182816.0</td>\n",
              "      <td>0.0</td>\n",
              "      <td>0.0</td>\n",
              "      <td>32.233893</td>\n",
              "      <td>Americas</td>\n",
              "      <td>Martinique</td>\n",
              "      <td>5.0</td>\n",
              "      <td>8.0</td>\n",
              "      <td>1980</td>\n",
              "      <td>SigDam</td>\n",
              "      <td>ALLEN</td>\n",
              "      <td>Natural</td>\n",
              "      <td>1980214N11330</td>\n",
              "      <td>MTQ</td>\n",
              "      <td>MTQ</td>\n",
              "      <td>NaN</td>\n",
              "      <td>NaN</td>\n",
              "      <td>NaN</td>\n",
              "      <td>270.0</td>\n",
              "      <td>NaN</td>\n",
              "      <td>NaN</td>\n",
              "      <td>NaN</td>\n",
              "      <td>NaN</td>\n",
              "      <td>NaN</td>\n",
              "      <td>Caribbean</td>\n",
              "      <td>NaN</td>\n",
              "      <td>307</td>\n",
              "      <td>5.0</td>\n",
              "      <td>8.0</td>\n",
              "      <td>1980</td>\n",
              "      <td>Meteorological</td>\n",
              "      <td>NaN</td>\n",
              "      <td>Tropical cyclone</td>\n",
              "      <td>ALLEN</td>\n",
              "      <td>NaN</td>\n",
              "      <td>68000.0</td>\n",
              "      <td>NaN</td>\n",
              "      <td>Storm</td>\n",
              "      <td>3121</td>\n",
              "      <td>1980</td>\n",
              "      <td>multi</td>\n",
              "      <td>ALLEN</td>\n",
              "      <td>43.3</td>\n",
              "      <td>84.1</td>\n",
              "      <td>1980</td>\n",
              "    </tr>\n",
              "    <tr>\n",
              "      <th>...</th>\n",
              "      <td>...</td>\n",
              "      <td>...</td>\n",
              "      <td>...</td>\n",
              "      <td>...</td>\n",
              "      <td>...</td>\n",
              "      <td>...</td>\n",
              "      <td>...</td>\n",
              "      <td>...</td>\n",
              "      <td>...</td>\n",
              "      <td>...</td>\n",
              "      <td>...</td>\n",
              "      <td>...</td>\n",
              "      <td>...</td>\n",
              "      <td>...</td>\n",
              "      <td>...</td>\n",
              "      <td>...</td>\n",
              "      <td>...</td>\n",
              "      <td>...</td>\n",
              "      <td>...</td>\n",
              "      <td>...</td>\n",
              "      <td>...</td>\n",
              "      <td>...</td>\n",
              "      <td>...</td>\n",
              "      <td>...</td>\n",
              "      <td>...</td>\n",
              "      <td>...</td>\n",
              "      <td>...</td>\n",
              "      <td>...</td>\n",
              "      <td>...</td>\n",
              "      <td>...</td>\n",
              "      <td>...</td>\n",
              "      <td>...</td>\n",
              "      <td>...</td>\n",
              "      <td>...</td>\n",
              "      <td>...</td>\n",
              "      <td>...</td>\n",
              "      <td>...</td>\n",
              "      <td>...</td>\n",
              "      <td>...</td>\n",
              "      <td>...</td>\n",
              "      <td>...</td>\n",
              "      <td>...</td>\n",
              "      <td>...</td>\n",
              "      <td>...</td>\n",
              "      <td>...</td>\n",
              "      <td>...</td>\n",
              "      <td>...</td>\n",
              "      <td>...</td>\n",
              "    </tr>\n",
              "    <tr>\n",
              "      <th>861</th>\n",
              "      <td>4.159030e+09</td>\n",
              "      <td>460550.0</td>\n",
              "      <td>1.743116e+08</td>\n",
              "      <td>10781.0</td>\n",
              "      <td>0.0</td>\n",
              "      <td>0.0</td>\n",
              "      <td>92.708822</td>\n",
              "      <td>Africa</td>\n",
              "      <td>Cabo Verde</td>\n",
              "      <td>31.0</td>\n",
              "      <td>8.0</td>\n",
              "      <td>2015</td>\n",
              "      <td>Waiting</td>\n",
              "      <td>FRED</td>\n",
              "      <td>Natural</td>\n",
              "      <td>2015242N12343</td>\n",
              "      <td>CPV</td>\n",
              "      <td>CPV</td>\n",
              "      <td>NaN</td>\n",
              "      <td>NaN</td>\n",
              "      <td>Boa Vista, Brava, Cima, Fogo, Ilheu Branco, Il...</td>\n",
              "      <td>140.0</td>\n",
              "      <td>NaN</td>\n",
              "      <td>NaN</td>\n",
              "      <td>NaN</td>\n",
              "      <td>NaN</td>\n",
              "      <td>NaN</td>\n",
              "      <td>Western Africa</td>\n",
              "      <td>NaN</td>\n",
              "      <td>473</td>\n",
              "      <td>31.0</td>\n",
              "      <td>8.0</td>\n",
              "      <td>2015</td>\n",
              "      <td>Meteorological</td>\n",
              "      <td>NaN</td>\n",
              "      <td>Tropical cyclone</td>\n",
              "      <td>FRED</td>\n",
              "      <td>NaN</td>\n",
              "      <td>1100.0</td>\n",
              "      <td>9.0</td>\n",
              "      <td>Storm</td>\n",
              "      <td>21144</td>\n",
              "      <td>2015</td>\n",
              "      <td>single</td>\n",
              "      <td>FRED</td>\n",
              "      <td>36.6</td>\n",
              "      <td>71.1</td>\n",
              "      <td>2015</td>\n",
              "    </tr>\n",
              "    <tr>\n",
              "      <th>862</th>\n",
              "      <td>1.926384e+10</td>\n",
              "      <td>3556488.0</td>\n",
              "      <td>0.000000e+00</td>\n",
              "      <td>0.0</td>\n",
              "      <td>0.0</td>\n",
              "      <td>0.0</td>\n",
              "      <td>92.708822</td>\n",
              "      <td>Asia</td>\n",
              "      <td>Viet Nam</td>\n",
              "      <td>14.0</td>\n",
              "      <td>9.0</td>\n",
              "      <td>2015</td>\n",
              "      <td>Affected</td>\n",
              "      <td>VAMCO</td>\n",
              "      <td>Natural</td>\n",
              "      <td>2015256N16113</td>\n",
              "      <td>VNM</td>\n",
              "      <td>VNM</td>\n",
              "      <td>NaN</td>\n",
              "      <td>NaN</td>\n",
              "      <td>Da Nang, Quang Nam (Duy Xuyen, Nong Son distri...</td>\n",
              "      <td>NaN</td>\n",
              "      <td>NaN</td>\n",
              "      <td>NaN</td>\n",
              "      <td>NaN</td>\n",
              "      <td>NaN</td>\n",
              "      <td>NaN</td>\n",
              "      <td>South-Eastern Asia</td>\n",
              "      <td>NaN</td>\n",
              "      <td>620</td>\n",
              "      <td>14.0</td>\n",
              "      <td>9.0</td>\n",
              "      <td>2015</td>\n",
              "      <td>Meteorological</td>\n",
              "      <td>NaN</td>\n",
              "      <td>Tropical cyclone</td>\n",
              "      <td>VAMCO</td>\n",
              "      <td>NaN</td>\n",
              "      <td>12800.0</td>\n",
              "      <td>11.0</td>\n",
              "      <td>Storm</td>\n",
              "      <td>23911</td>\n",
              "      <td>2015</td>\n",
              "      <td>multi</td>\n",
              "      <td>VAMCO</td>\n",
              "      <td>23.2</td>\n",
              "      <td>45.1</td>\n",
              "      <td>2015</td>\n",
              "    </tr>\n",
              "    <tr>\n",
              "      <th>863</th>\n",
              "      <td>6.974537e+11</td>\n",
              "      <td>32499157.0</td>\n",
              "      <td>1.886408e+11</td>\n",
              "      <td>8732252.0</td>\n",
              "      <td>0.0</td>\n",
              "      <td>0.0</td>\n",
              "      <td>92.708822</td>\n",
              "      <td>Asia</td>\n",
              "      <td>China</td>\n",
              "      <td>28.0</td>\n",
              "      <td>9.0</td>\n",
              "      <td>2015</td>\n",
              "      <td>Affected</td>\n",
              "      <td>DUJUAN</td>\n",
              "      <td>Natural</td>\n",
              "      <td>2015263N14148</td>\n",
              "      <td>CHN</td>\n",
              "      <td>CHN</td>\n",
              "      <td>79000.0</td>\n",
              "      <td>NaN</td>\n",
              "      <td>Fujian Sheng, Zhejiang Sheng provinces</td>\n",
              "      <td>NaN</td>\n",
              "      <td>NaN</td>\n",
              "      <td>NaN</td>\n",
              "      <td>NaN</td>\n",
              "      <td>NaN</td>\n",
              "      <td>NaN</td>\n",
              "      <td>Eastern Asia</td>\n",
              "      <td>NaN</td>\n",
              "      <td>458</td>\n",
              "      <td>28.0</td>\n",
              "      <td>9.0</td>\n",
              "      <td>2015</td>\n",
              "      <td>Meteorological</td>\n",
              "      <td>NaN</td>\n",
              "      <td>Tropical cyclone</td>\n",
              "      <td>DUJUAN</td>\n",
              "      <td>NaN</td>\n",
              "      <td>661000.0</td>\n",
              "      <td>NaN</td>\n",
              "      <td>Storm</td>\n",
              "      <td>21142</td>\n",
              "      <td>2015</td>\n",
              "      <td>multi</td>\n",
              "      <td>DUJUAN</td>\n",
              "      <td>48.0</td>\n",
              "      <td>93.4</td>\n",
              "      <td>2015</td>\n",
              "    </tr>\n",
              "    <tr>\n",
              "      <th>864</th>\n",
              "      <td>1.038558e+10</td>\n",
              "      <td>84549.0</td>\n",
              "      <td>3.644826e+09</td>\n",
              "      <td>25159.0</td>\n",
              "      <td>0.0</td>\n",
              "      <td>0.0</td>\n",
              "      <td>92.708822</td>\n",
              "      <td>Asia</td>\n",
              "      <td>Japan</td>\n",
              "      <td>28.0</td>\n",
              "      <td>9.0</td>\n",
              "      <td>2015</td>\n",
              "      <td>Affected</td>\n",
              "      <td>DUJUAN</td>\n",
              "      <td>Natural</td>\n",
              "      <td>2015263N14148</td>\n",
              "      <td>JPN</td>\n",
              "      <td>JPN</td>\n",
              "      <td>NaN</td>\n",
              "      <td>NaN</td>\n",
              "      <td>Okinawa province</td>\n",
              "      <td>NaN</td>\n",
              "      <td>NaN</td>\n",
              "      <td>NaN</td>\n",
              "      <td>NaN</td>\n",
              "      <td>NaN</td>\n",
              "      <td>NaN</td>\n",
              "      <td>Eastern Asia</td>\n",
              "      <td>NaN</td>\n",
              "      <td>458</td>\n",
              "      <td>28.0</td>\n",
              "      <td>9.0</td>\n",
              "      <td>2015</td>\n",
              "      <td>Meteorological</td>\n",
              "      <td>NaN</td>\n",
              "      <td>Tropical cyclone</td>\n",
              "      <td>DUJUAN</td>\n",
              "      <td>NaN</td>\n",
              "      <td>NaN</td>\n",
              "      <td>NaN</td>\n",
              "      <td>Storm</td>\n",
              "      <td>21723</td>\n",
              "      <td>2015</td>\n",
              "      <td>multi</td>\n",
              "      <td>DUJUAN</td>\n",
              "      <td>61.4</td>\n",
              "      <td>119.4</td>\n",
              "      <td>2015</td>\n",
              "    </tr>\n",
              "    <tr>\n",
              "      <th>873</th>\n",
              "      <td>6.596252e+06</td>\n",
              "      <td>226629.0</td>\n",
              "      <td>1.131492e+06</td>\n",
              "      <td>40110.0</td>\n",
              "      <td>0.0</td>\n",
              "      <td>0.0</td>\n",
              "      <td>92.708822</td>\n",
              "      <td>Africa</td>\n",
              "      <td>Somalia</td>\n",
              "      <td>8.0</td>\n",
              "      <td>11.0</td>\n",
              "      <td>2015</td>\n",
              "      <td>--</td>\n",
              "      <td>MEGH</td>\n",
              "      <td>Natural</td>\n",
              "      <td>2015309N14067</td>\n",
              "      <td>SOM</td>\n",
              "      <td>SOM</td>\n",
              "      <td>NaN</td>\n",
              "      <td>NaN</td>\n",
              "      <td>Bari province\\n\\n</td>\n",
              "      <td>NaN</td>\n",
              "      <td>NaN</td>\n",
              "      <td>NaN</td>\n",
              "      <td>NaN</td>\n",
              "      <td>NaN</td>\n",
              "      <td>NaN</td>\n",
              "      <td>Eastern Africa</td>\n",
              "      <td>NaN</td>\n",
              "      <td>494</td>\n",
              "      <td>8.0</td>\n",
              "      <td>11.0</td>\n",
              "      <td>2015</td>\n",
              "      <td>Meteorological</td>\n",
              "      <td>NaN</td>\n",
              "      <td>Tropical cyclone</td>\n",
              "      <td>MEGH</td>\n",
              "      <td>NaN</td>\n",
              "      <td>NaN</td>\n",
              "      <td>NaN</td>\n",
              "      <td>Storm</td>\n",
              "      <td>21619</td>\n",
              "      <td>2015</td>\n",
              "      <td>multi</td>\n",
              "      <td>MEGH</td>\n",
              "      <td>39.0</td>\n",
              "      <td>75.8</td>\n",
              "      <td>2015</td>\n",
              "    </tr>\n",
              "  </tbody>\n",
              "</table>\n",
              "<p>174 rows × 48 columns</p>\n",
              "</div>"
            ],
            "text/plain": [
              "      34kn_assets    34kn_pop   64kn_assets  ...  v_land_SI  v_land_kn  year\n",
              "1    1.365669e+10   2417472.0  4.917228e+08  ...       63.0      122.5  1980\n",
              "2    5.925760e+08     72282.0  0.000000e+00  ...       24.6       47.9  1980\n",
              "3    2.706381e+09    273762.0  0.000000e+00  ...       31.7       61.6  1980\n",
              "4    1.909564e+08     56163.0  0.000000e+00  ...       22.6       44.0  1980\n",
              "8    0.000000e+00    326247.0  0.000000e+00  ...       43.3       84.1  1980\n",
              "..            ...         ...           ...  ...        ...        ...   ...\n",
              "861  4.159030e+09    460550.0  1.743116e+08  ...       36.6       71.1  2015\n",
              "862  1.926384e+10   3556488.0  0.000000e+00  ...       23.2       45.1  2015\n",
              "863  6.974537e+11  32499157.0  1.886408e+11  ...       48.0       93.4  2015\n",
              "864  1.038558e+10     84549.0  3.644826e+09  ...       61.4      119.4  2015\n",
              "873  6.596252e+06    226629.0  1.131492e+06  ...       39.0       75.8  2015\n",
              "\n",
              "[174 rows x 48 columns]"
            ]
          },
          "metadata": {
            "tags": []
          },
          "execution_count": 97
        }
      ]
    },
    {
      "cell_type": "code",
      "metadata": {
        "id": "e07lGp-Xt11H",
        "colab_type": "code",
        "colab": {
          "base_uri": "https://localhost:8080/",
          "height": 34
        },
        "outputId": "8c194348-9558-48c6-d528-7121e7704228"
      },
      "source": [
        "merged[merged['64kn_pop'].isna()].shape"
      ],
      "execution_count": 98,
      "outputs": [
        {
          "output_type": "execute_result",
          "data": {
            "text/plain": [
              "(0, 48)"
            ]
          },
          "metadata": {
            "tags": []
          },
          "execution_count": 98
        }
      ]
    },
    {
      "cell_type": "code",
      "metadata": {
        "id": "bVr53niLszIW",
        "colab_type": "code",
        "colab": {
          "base_uri": "https://localhost:8080/",
          "height": 34
        },
        "outputId": "d2162682-ec5d-4c73-8c3b-9a578fceee6b"
      },
      "source": [
        "merged[(merged['Total affected'].isna() & merged['34kn_pop'].isna())].shape"
      ],
      "execution_count": 99,
      "outputs": [
        {
          "output_type": "execute_result",
          "data": {
            "text/plain": [
              "(0, 48)"
            ]
          },
          "metadata": {
            "tags": []
          },
          "execution_count": 99
        }
      ]
    },
    {
      "cell_type": "code",
      "metadata": {
        "id": "fSQxfq_atrO6",
        "colab_type": "code",
        "colab": {}
      },
      "source": [
        ""
      ],
      "execution_count": 0,
      "outputs": []
    }
  ]
}