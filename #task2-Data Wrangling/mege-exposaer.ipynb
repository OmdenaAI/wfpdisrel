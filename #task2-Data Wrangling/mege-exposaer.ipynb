{
 "cells": [
  {
   "cell_type": "code",
   "execution_count": 43,
   "metadata": {
    "colab": {},
    "colab_type": "code",
    "id": "srt3ReLmwCsD"
   },
   "outputs": [],
   "source": [
    "import numpy as np\n",
    "\n",
    "import pandas as pd\n"
   ]
  },
  {
   "cell_type": "code",
   "execution_count": 44,
   "metadata": {
    "colab": {},
    "colab_type": "code",
    "id": "iMmTCjIXwe5i"
   },
   "outputs": [],
   "source": [
    "# reading file\n",
    "# use pd.read_csv to read csv\n",
    "dataset  = pd.read_csv('OUTPUT_WBI_cyclones.csv', sep = ';', low_memory=False)"
   ]
  },
  {
   "cell_type": "code",
   "execution_count": 52,
   "metadata": {},
   "outputs": [
    {
     "data": {
      "text/plain": [
       "Index(['ID', 'NAME', 'ISO', 'Year', 'COORDS', 'BASIN', 'SUBBASIN', 'NATURE',\n",
       "       'ISO_TIME', 'TOTAL_HRS', 'DAY_HRS', 'NIGHT_HRS', 'USA_SSHS',\n",
       "       'PRES_CALC_mean', 'STORM_SPD_mean', 'STORM_DR_mean', 'v_land_kn',\n",
       "       '34kn_pop', '34kn_assets', '64kn_pop', '64kn_assets', '96kn_pop',\n",
       "       '96kn_assets', 'Total damage ('000$)', 'CPI',\n",
       "       'Air transport, freight (million ton-km)',\n",
       "       'Arable land (hectares per person)', 'Cereal yield (kg per hectare)',\n",
       "       'Food production index (2004-2006 = 100)', 'GDP growth (annual %)',\n",
       "       'GDP per capita (constant 2010 US$)', 'Net flows from UN agencies US$',\n",
       "       'Life expectancy at birth, total (years)',\n",
       "       'Mobile cellular subscriptions (per 100 people)',\n",
       "       'Population density (people per sq. km of land area)',\n",
       "       'Adjusted savings: education expenditure (% of GNI)',\n",
       "       'Rural population (% of total population)', 'Income_level_Final',\n",
       "       'Total Affected'],\n",
       "      dtype='object')"
      ]
     },
     "execution_count": 52,
     "metadata": {},
     "output_type": "execute_result"
    }
   ],
   "source": [
    "dataset.columns"
   ]
  },
  {
   "cell_type": "code",
   "execution_count": 45,
   "metadata": {
    "colab": {},
    "colab_type": "code",
    "id": "-kkVGBaNH8cq"
   },
   "outputs": [],
   "source": [
    "susan = pd.read_csv('population_by_cyclone_sm.csv')"
   ]
  },
  {
   "cell_type": "code",
   "execution_count": 53,
   "metadata": {},
   "outputs": [
    {
     "data": {
      "text/plain": [
       "Index(['Unnamed: 0', 'name', 'year', 'country', 'pop_max_34', 'pop_max_50',\n",
       "       'pop_max_64', 'Country', 'Alpha-2 code', 'Alpha-3 code', 'Numeric'],\n",
       "      dtype='object')"
      ]
     },
     "execution_count": 53,
     "metadata": {},
     "output_type": "execute_result"
    }
   ],
   "source": [
    "susan.columns"
   ]
  },
  {
   "cell_type": "code",
   "execution_count": 46,
   "metadata": {},
   "outputs": [
    {
     "data": {
      "text/plain": [
       "2824"
      ]
     },
     "execution_count": 46,
     "metadata": {},
     "output_type": "execute_result"
    }
   ],
   "source": [
    "len(susan)"
   ]
  },
  {
   "cell_type": "code",
   "execution_count": 47,
   "metadata": {},
   "outputs": [],
   "source": [
    "iso = pd.read_csv('ISO-codes - Sheet1.csv')"
   ]
  },
  {
   "cell_type": "code",
   "execution_count": 48,
   "metadata": {},
   "outputs": [],
   "source": [
    "susan = pd.merge(susan, iso, how='left', left_on = 'country', right_on = 'Country')"
   ]
  },
  {
   "cell_type": "code",
   "execution_count": 49,
   "metadata": {},
   "outputs": [
    {
     "data": {
      "text/html": [
       "<div>\n",
       "<style scoped>\n",
       "    .dataframe tbody tr th:only-of-type {\n",
       "        vertical-align: middle;\n",
       "    }\n",
       "\n",
       "    .dataframe tbody tr th {\n",
       "        vertical-align: top;\n",
       "    }\n",
       "\n",
       "    .dataframe thead th {\n",
       "        text-align: right;\n",
       "    }\n",
       "</style>\n",
       "<table border=\"1\" class=\"dataframe\">\n",
       "  <thead>\n",
       "    <tr style=\"text-align: right;\">\n",
       "      <th></th>\n",
       "      <th>Unnamed: 0</th>\n",
       "      <th>name</th>\n",
       "      <th>year</th>\n",
       "      <th>country</th>\n",
       "      <th>pop_max_34</th>\n",
       "      <th>pop_max_50</th>\n",
       "      <th>pop_max_64</th>\n",
       "      <th>Country</th>\n",
       "      <th>Alpha-2 code</th>\n",
       "      <th>Alpha-3 code</th>\n",
       "      <th>Numeric</th>\n",
       "    </tr>\n",
       "  </thead>\n",
       "  <tbody>\n",
       "  </tbody>\n",
       "</table>\n",
       "</div>"
      ],
      "text/plain": [
       "Empty DataFrame\n",
       "Columns: [Unnamed: 0, name, year, country, pop_max_34, pop_max_50, pop_max_64, Country, Alpha-2 code, Alpha-3 code, Numeric]\n",
       "Index: []"
      ]
     },
     "execution_count": 49,
     "metadata": {},
     "output_type": "execute_result"
    }
   ],
   "source": [
    "susan[susan['Alpha-3 code']!=susan['Alpha-3 code']][18:29]"
   ]
  },
  {
   "cell_type": "code",
   "execution_count": 50,
   "metadata": {},
   "outputs": [
    {
     "data": {
      "text/plain": [
       "2824"
      ]
     },
     "execution_count": 50,
     "metadata": {},
     "output_type": "execute_result"
    }
   ],
   "source": [
    "len(susan)"
   ]
  },
  {
   "cell_type": "code",
   "execution_count": 63,
   "metadata": {},
   "outputs": [
    {
     "name": "stdout",
     "output_type": "stream",
     "text": [
      "<class 'pandas.core.frame.DataFrame'>\n",
      "RangeIndex: 1074 entries, 0 to 1073\n",
      "Data columns (total 39 columns):\n",
      " #   Column                                               Non-Null Count  Dtype  \n",
      "---  ------                                               --------------  -----  \n",
      " 0   ID                                                   1074 non-null   int64  \n",
      " 1   NAME                                                 1073 non-null   object \n",
      " 2   ISO                                                  1074 non-null   object \n",
      " 3   Year                                                 1074 non-null   int64  \n",
      " 4   COORDS                                               1074 non-null   object \n",
      " 5   BASIN                                                1074 non-null   object \n",
      " 6   SUBBASIN                                             1074 non-null   object \n",
      " 7   NATURE                                               1074 non-null   object \n",
      " 8   ISO_TIME                                             1074 non-null   object \n",
      " 9   TOTAL_HRS                                            1074 non-null   int64  \n",
      " 10  DAY_HRS                                              1074 non-null   int64  \n",
      " 11  NIGHT_HRS                                            1074 non-null   int64  \n",
      " 12  USA_SSHS                                             1074 non-null   int64  \n",
      " 13  PRES_CALC_mean                                       1069 non-null   float64\n",
      " 14  STORM_SPD_mean                                       1074 non-null   float64\n",
      " 15  STORM_DR_mean                                        1074 non-null   float64\n",
      " 16  v_land_kn                                            1074 non-null   float64\n",
      " 17  34kn_pop                                             821 non-null    float64\n",
      " 18  34kn_assets                                          821 non-null    float64\n",
      " 19  64kn_pop                                             821 non-null    float64\n",
      " 20  64kn_assets                                          821 non-null    float64\n",
      " 21  96kn_pop                                             821 non-null    float64\n",
      " 22  96kn_assets                                          821 non-null    float64\n",
      " 23  Total damage ('000$)                                 739 non-null    float64\n",
      " 24  CPI                                                  1074 non-null   float64\n",
      " 25  Air transport, freight (million ton-km)              896 non-null    float64\n",
      " 26  Arable land (hectares per person)                    1073 non-null   float64\n",
      " 27  Cereal yield (kg per hectare)                        1064 non-null   float64\n",
      " 28  Food production index (2004-2006 = 100)              1070 non-null   float64\n",
      " 29  GDP growth (annual %)                                1030 non-null   float64\n",
      " 30  GDP per capita (constant 2010 US$)                   1065 non-null   float64\n",
      " 31  Net flows from UN agencies US$                       1074 non-null   float64\n",
      " 32  Life expectancy at birth, total (years)              1070 non-null   float64\n",
      " 33  Mobile cellular subscriptions (per 100 people)       1063 non-null   float64\n",
      " 34  Population density (people per sq. km of land area)  1074 non-null   float64\n",
      " 35  Adjusted savings: education expenditure (% of GNI)   1064 non-null   float64\n",
      " 36  Rural population (% of total population)             1074 non-null   float64\n",
      " 37  Income_level_Final                                   1074 non-null   object \n",
      " 38  Total Affected                                       1074 non-null   int64  \n",
      "dtypes: float64(24), int64(7), object(8)\n",
      "memory usage: 327.4+ KB\n"
     ]
    }
   ],
   "source": [
    "dataset.info()"
   ]
  },
  {
   "cell_type": "code",
   "execution_count": 62,
   "metadata": {},
   "outputs": [
    {
     "name": "stdout",
     "output_type": "stream",
     "text": [
      "<class 'pandas.core.frame.DataFrame'>\n",
      "Int64Index: 2824 entries, 0 to 2823\n",
      "Data columns (total 14 columns):\n",
      " #   Column        Non-Null Count  Dtype  \n",
      "---  ------        --------------  -----  \n",
      " 0   Unnamed: 0    2824 non-null   int64  \n",
      " 1   name          2824 non-null   object \n",
      " 2   year          2824 non-null   int64  \n",
      " 3   country       2824 non-null   object \n",
      " 4   pop_max_34    2824 non-null   float64\n",
      " 5   pop_max_50    2824 non-null   float64\n",
      " 6   pop_max_64    2824 non-null   float64\n",
      " 7   Country       2810 non-null   object \n",
      " 8   Alpha-2 code  2798 non-null   object \n",
      " 9   Alpha-3 code  2810 non-null   object \n",
      " 10  Numeric       2810 non-null   float64\n",
      " 11  NAME          2824 non-null   object \n",
      " 12  ISO           2824 non-null   int64  \n",
      " 13  Year          2810 non-null   object \n",
      "dtypes: float64(4), int64(3), object(7)\n",
      "memory usage: 330.9+ KB\n"
     ]
    }
   ],
   "source": [
    "susan.info()"
   ]
  },
  {
   "cell_type": "code",
   "execution_count": 56,
   "metadata": {},
   "outputs": [],
   "source": [
    "susan[['NAME', 'ISO', 'Year']] =susan [['name', 'year', 'Alpha-3 code']]"
   ]
  },
  {
   "cell_type": "code",
   "execution_count": 64,
   "metadata": {},
   "outputs": [],
   "source": [
    "dataset = pd.merge(dataset, susan, how= 'left', left_on=['NAME', 'ISO', 'Year'], right_on = ['name',  'Alpha-3 code', 'year',])"
   ]
  },
  {
   "cell_type": "code",
   "execution_count": 67,
   "metadata": {},
   "outputs": [],
   "source": [
    "dataset.to_csv('OUTPUT_WBI_exposer_cyclones.csv')"
   ]
  },
  {
   "cell_type": "code",
   "execution_count": null,
   "metadata": {
    "colab": {},
    "colab_type": "code",
    "id": "lL5EszK8--I_"
   },
   "outputs": [],
   "source": []
  }
 ],
 "metadata": {
  "colab": {
   "name": "SVR_WFP.ipynb",
   "provenance": [],
   "toc_visible": true
  },
  "kernelspec": {
   "display_name": "Python 3",
   "language": "python",
   "name": "python3"
  },
  "language_info": {
   "codemirror_mode": {
    "name": "ipython",
    "version": 3
   },
   "file_extension": ".py",
   "mimetype": "text/x-python",
   "name": "python",
   "nbconvert_exporter": "python",
   "pygments_lexer": "ipython3",
   "version": "3.7.6"
  }
 },
 "nbformat": 4,
 "nbformat_minor": 4
}
