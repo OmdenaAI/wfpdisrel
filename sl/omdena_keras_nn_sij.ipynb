{
 "cells": [
  {
   "cell_type": "code",
   "execution_count": 3,
   "metadata": {
    "colab": {},
    "colab_type": "code",
    "id": "PgLv7G2mtxxE"
   },
   "outputs": [
    {
     "ename": "AttributeError",
     "evalue": "'property' object has no attribute '__name__'",
     "output_type": "error",
     "traceback": [
      "\u001b[0;31m---------------------------------------------------------------------------\u001b[0m",
      "\u001b[0;31mAttributeError\u001b[0m                            Traceback (most recent call last)",
      "\u001b[0;32m<ipython-input-3-a960913d72e7>\u001b[0m in \u001b[0;36m<module>\u001b[0;34m\u001b[0m\n\u001b[1;32m      3\u001b[0m \u001b[0;32mimport\u001b[0m \u001b[0mnumpy\u001b[0m \u001b[0;32mas\u001b[0m \u001b[0mnp\u001b[0m\u001b[0;34m\u001b[0m\u001b[0;34m\u001b[0m\u001b[0m\n\u001b[1;32m      4\u001b[0m \u001b[0;34m\u001b[0m\u001b[0m\n\u001b[0;32m----> 5\u001b[0;31m \u001b[0;32mfrom\u001b[0m \u001b[0mplotnine\u001b[0m \u001b[0;32mimport\u001b[0m \u001b[0mggplot\u001b[0m\u001b[0;34m,\u001b[0m \u001b[0mgeom_point\u001b[0m\u001b[0;34m,\u001b[0m \u001b[0maes\u001b[0m\u001b[0;34m,\u001b[0m \u001b[0mstat_smooth\u001b[0m\u001b[0;34m,\u001b[0m \u001b[0mfacet_wrap\u001b[0m\u001b[0;34m,\u001b[0m \u001b[0mgeom_histogram\u001b[0m\u001b[0;34m\u001b[0m\u001b[0;34m\u001b[0m\u001b[0m\n\u001b[0m\u001b[1;32m      6\u001b[0m \u001b[0;32mfrom\u001b[0m \u001b[0mplotnine\u001b[0m \u001b[0;32mimport\u001b[0m \u001b[0mgeom_boxplot\u001b[0m\u001b[0;34m,\u001b[0m \u001b[0mscale_y_log10\u001b[0m\u001b[0;34m,\u001b[0m \u001b[0mgeom_bar\u001b[0m\u001b[0;34m,\u001b[0m \u001b[0mgeom_line\u001b[0m\u001b[0;34m,\u001b[0m \u001b[0mggtitle\u001b[0m\u001b[0;34m\u001b[0m\u001b[0;34m\u001b[0m\u001b[0m\n\u001b[1;32m      7\u001b[0m \u001b[0;32mfrom\u001b[0m \u001b[0mplotnine\u001b[0m \u001b[0;32mimport\u001b[0m \u001b[0mfacet_wrap\u001b[0m\u001b[0;34m,\u001b[0m \u001b[0mscale_x_log10\u001b[0m\u001b[0;34m\u001b[0m\u001b[0;34m\u001b[0m\u001b[0m\n",
      "\u001b[0;32m~/miniconda3/lib/python3.6/site-packages/plotnine/__init__.py\u001b[0m in \u001b[0;36m<module>\u001b[0;34m\u001b[0m\n\u001b[0;32m----> 1\u001b[0;31m \u001b[0;32mfrom\u001b[0m \u001b[0;34m.\u001b[0m\u001b[0mqplot\u001b[0m \u001b[0;32mimport\u001b[0m \u001b[0mqplot\u001b[0m            \u001b[0;31m# noqa: F401\u001b[0m\u001b[0;34m\u001b[0m\u001b[0;34m\u001b[0m\u001b[0m\n\u001b[0m\u001b[1;32m      2\u001b[0m \u001b[0;32mfrom\u001b[0m \u001b[0;34m.\u001b[0m\u001b[0mggplot\u001b[0m \u001b[0;32mimport\u001b[0m \u001b[0mggplot\u001b[0m\u001b[0;34m,\u001b[0m \u001b[0mggsave\u001b[0m  \u001b[0;31m# noqa: F401\u001b[0m\u001b[0;34m\u001b[0m\u001b[0;34m\u001b[0m\u001b[0m\n\u001b[1;32m      3\u001b[0m \u001b[0;32mfrom\u001b[0m \u001b[0;34m.\u001b[0m\u001b[0mggplot\u001b[0m \u001b[0;32mimport\u001b[0m \u001b[0msave_as_pdf_pages\u001b[0m  \u001b[0;31m# noqa: F401\u001b[0m\u001b[0;34m\u001b[0m\u001b[0;34m\u001b[0m\u001b[0m\n\u001b[1;32m      4\u001b[0m \u001b[0;32mfrom\u001b[0m \u001b[0;34m.\u001b[0m\u001b[0mwatermark\u001b[0m \u001b[0;32mimport\u001b[0m \u001b[0mwatermark\u001b[0m    \u001b[0;31m# noqa: F401\u001b[0m\u001b[0;34m\u001b[0m\u001b[0;34m\u001b[0m\u001b[0m\n\u001b[1;32m      5\u001b[0m \u001b[0;32mfrom\u001b[0m \u001b[0;34m.\u001b[0m\u001b[0maes\u001b[0m \u001b[0;32mimport\u001b[0m \u001b[0;34m*\u001b[0m                  \u001b[0;31m# noqa: F401,F403,E261\u001b[0m\u001b[0;34m\u001b[0m\u001b[0;34m\u001b[0m\u001b[0m\n",
      "\u001b[0;32m~/miniconda3/lib/python3.6/site-packages/plotnine/qplot.py\u001b[0m in \u001b[0;36m<module>\u001b[0;34m\u001b[0m\n\u001b[1;32m      7\u001b[0m \u001b[0;32mfrom\u001b[0m \u001b[0mpatsy\u001b[0m\u001b[0;34m.\u001b[0m\u001b[0meval\u001b[0m \u001b[0;32mimport\u001b[0m \u001b[0mEvalEnvironment\u001b[0m\u001b[0;34m\u001b[0m\u001b[0;34m\u001b[0m\u001b[0m\n\u001b[1;32m      8\u001b[0m \u001b[0;34m\u001b[0m\u001b[0m\n\u001b[0;32m----> 9\u001b[0;31m \u001b[0;32mfrom\u001b[0m \u001b[0;34m.\u001b[0m\u001b[0mggplot\u001b[0m \u001b[0;32mimport\u001b[0m \u001b[0mggplot\u001b[0m\u001b[0;34m\u001b[0m\u001b[0;34m\u001b[0m\u001b[0m\n\u001b[0m\u001b[1;32m     10\u001b[0m \u001b[0;32mfrom\u001b[0m \u001b[0;34m.\u001b[0m\u001b[0maes\u001b[0m \u001b[0;32mimport\u001b[0m \u001b[0maes\u001b[0m\u001b[0;34m,\u001b[0m \u001b[0mall_aesthetics\u001b[0m\u001b[0;34m,\u001b[0m \u001b[0mscaled_aesthetics\u001b[0m\u001b[0;34m\u001b[0m\u001b[0;34m\u001b[0m\u001b[0m\n\u001b[1;32m     11\u001b[0m \u001b[0;32mfrom\u001b[0m \u001b[0;34m.\u001b[0m\u001b[0mlabels\u001b[0m \u001b[0;32mimport\u001b[0m \u001b[0mlabs\u001b[0m\u001b[0;34m\u001b[0m\u001b[0;34m\u001b[0m\u001b[0m\n",
      "\u001b[0;32m~/miniconda3/lib/python3.6/site-packages/plotnine/ggplot.py\u001b[0m in \u001b[0;36m<module>\u001b[0;34m\u001b[0m\n\u001b[1;32m      9\u001b[0m \u001b[0;32mimport\u001b[0m \u001b[0mpandas\u001b[0m \u001b[0;32mas\u001b[0m \u001b[0mpd\u001b[0m\u001b[0;34m\u001b[0m\u001b[0;34m\u001b[0m\u001b[0m\n\u001b[1;32m     10\u001b[0m \u001b[0;32mimport\u001b[0m \u001b[0mmatplotlib\u001b[0m \u001b[0;32mas\u001b[0m \u001b[0mmpl\u001b[0m\u001b[0;34m\u001b[0m\u001b[0;34m\u001b[0m\u001b[0m\n\u001b[0;32m---> 11\u001b[0;31m \u001b[0;32mimport\u001b[0m \u001b[0mmatplotlib\u001b[0m\u001b[0;34m.\u001b[0m\u001b[0mpyplot\u001b[0m \u001b[0;32mas\u001b[0m \u001b[0mplt\u001b[0m\u001b[0;34m\u001b[0m\u001b[0;34m\u001b[0m\u001b[0m\n\u001b[0m\u001b[1;32m     12\u001b[0m \u001b[0;32mfrom\u001b[0m \u001b[0mmatplotlib\u001b[0m\u001b[0;34m.\u001b[0m\u001b[0moffsetbox\u001b[0m \u001b[0;32mimport\u001b[0m \u001b[0mAnchoredOffsetbox\u001b[0m\u001b[0;34m\u001b[0m\u001b[0;34m\u001b[0m\u001b[0m\n\u001b[1;32m     13\u001b[0m \u001b[0;32mimport\u001b[0m \u001b[0mmatplotlib\u001b[0m\u001b[0;34m.\u001b[0m\u001b[0mtransforms\u001b[0m \u001b[0;32mas\u001b[0m \u001b[0mmtransforms\u001b[0m\u001b[0;34m\u001b[0m\u001b[0;34m\u001b[0m\u001b[0m\n",
      "\u001b[0;32m~/miniconda3/lib/python3.6/site-packages/matplotlib/pyplot.py\u001b[0m in \u001b[0;36m<module>\u001b[0;34m\u001b[0m\n\u001b[1;32m     30\u001b[0m \u001b[0;32mfrom\u001b[0m \u001b[0mcycler\u001b[0m \u001b[0;32mimport\u001b[0m \u001b[0mcycler\u001b[0m\u001b[0;34m\u001b[0m\u001b[0;34m\u001b[0m\u001b[0m\n\u001b[1;32m     31\u001b[0m \u001b[0;32mimport\u001b[0m \u001b[0mmatplotlib\u001b[0m\u001b[0;34m\u001b[0m\u001b[0;34m\u001b[0m\u001b[0m\n\u001b[0;32m---> 32\u001b[0;31m \u001b[0;32mimport\u001b[0m \u001b[0mmatplotlib\u001b[0m\u001b[0;34m.\u001b[0m\u001b[0mcolorbar\u001b[0m\u001b[0;34m\u001b[0m\u001b[0;34m\u001b[0m\u001b[0m\n\u001b[0m\u001b[1;32m     33\u001b[0m \u001b[0;32mimport\u001b[0m \u001b[0mmatplotlib\u001b[0m\u001b[0;34m.\u001b[0m\u001b[0mimage\u001b[0m\u001b[0;34m\u001b[0m\u001b[0;34m\u001b[0m\u001b[0m\n\u001b[1;32m     34\u001b[0m \u001b[0;32mfrom\u001b[0m \u001b[0mmatplotlib\u001b[0m \u001b[0;32mimport\u001b[0m \u001b[0mrcsetup\u001b[0m\u001b[0;34m,\u001b[0m \u001b[0mstyle\u001b[0m\u001b[0;34m\u001b[0m\u001b[0;34m\u001b[0m\u001b[0m\n",
      "\u001b[0;32m~/miniconda3/lib/python3.6/site-packages/matplotlib/colorbar.py\u001b[0m in \u001b[0;36m<module>\u001b[0;34m\u001b[0m\n\u001b[1;32m     25\u001b[0m \u001b[0;34m\u001b[0m\u001b[0m\n\u001b[1;32m     26\u001b[0m \u001b[0;32mimport\u001b[0m \u001b[0mmatplotlib\u001b[0m \u001b[0;32mas\u001b[0m \u001b[0mmpl\u001b[0m\u001b[0;34m\u001b[0m\u001b[0;34m\u001b[0m\u001b[0m\n\u001b[0;32m---> 27\u001b[0;31m \u001b[0;32mimport\u001b[0m \u001b[0mmatplotlib\u001b[0m\u001b[0;34m.\u001b[0m\u001b[0martist\u001b[0m \u001b[0;32mas\u001b[0m \u001b[0mmartist\u001b[0m\u001b[0;34m\u001b[0m\u001b[0;34m\u001b[0m\u001b[0m\n\u001b[0m\u001b[1;32m     28\u001b[0m \u001b[0;32mimport\u001b[0m \u001b[0mmatplotlib\u001b[0m\u001b[0;34m.\u001b[0m\u001b[0mcbook\u001b[0m \u001b[0;32mas\u001b[0m \u001b[0mcbook\u001b[0m\u001b[0;34m\u001b[0m\u001b[0;34m\u001b[0m\u001b[0m\n\u001b[1;32m     29\u001b[0m \u001b[0;32mimport\u001b[0m \u001b[0mmatplotlib\u001b[0m\u001b[0;34m.\u001b[0m\u001b[0mcollections\u001b[0m \u001b[0;32mas\u001b[0m \u001b[0mcollections\u001b[0m\u001b[0;34m\u001b[0m\u001b[0;34m\u001b[0m\u001b[0m\n",
      "\u001b[0;32m~/miniconda3/lib/python3.6/site-packages/matplotlib/artist.py\u001b[0m in \u001b[0;36m<module>\u001b[0;34m\u001b[0m\n\u001b[1;32m     55\u001b[0m \u001b[0;34m\u001b[0m\u001b[0m\n\u001b[1;32m     56\u001b[0m \u001b[0;34m\u001b[0m\u001b[0m\n\u001b[0;32m---> 57\u001b[0;31m \u001b[0;32mclass\u001b[0m \u001b[0mArtist\u001b[0m\u001b[0;34m:\u001b[0m\u001b[0;34m\u001b[0m\u001b[0;34m\u001b[0m\u001b[0m\n\u001b[0m\u001b[1;32m     58\u001b[0m     \"\"\"\n\u001b[1;32m     59\u001b[0m     \u001b[0mAbstract\u001b[0m \u001b[0mbase\u001b[0m \u001b[0;32mclass\u001b[0m \u001b[0;32mfor\u001b[0m \u001b[0mobjects\u001b[0m \u001b[0mthat\u001b[0m \u001b[0mrender\u001b[0m \u001b[0minto\u001b[0m \u001b[0ma\u001b[0m \u001b[0mFigureCanvas\u001b[0m\u001b[0;34m.\u001b[0m\u001b[0;34m\u001b[0m\u001b[0;34m\u001b[0m\u001b[0m\n",
      "\u001b[0;32m~/miniconda3/lib/python3.6/site-packages/matplotlib/artist.py\u001b[0m in \u001b[0;36mArtist\u001b[0;34m()\u001b[0m\n\u001b[1;32m     62\u001b[0m     \"\"\"\n\u001b[1;32m     63\u001b[0m     \u001b[0;34m@\u001b[0m\u001b[0mcbook\u001b[0m\u001b[0;34m.\u001b[0m\u001b[0mdeprecated\u001b[0m\u001b[0;34m(\u001b[0m\u001b[0;34m\"3.1\"\u001b[0m\u001b[0;34m)\u001b[0m\u001b[0;34m\u001b[0m\u001b[0;34m\u001b[0m\u001b[0m\n\u001b[0;32m---> 64\u001b[0;31m     \u001b[0;34m@\u001b[0m\u001b[0mproperty\u001b[0m\u001b[0;34m\u001b[0m\u001b[0;34m\u001b[0m\u001b[0m\n\u001b[0m\u001b[1;32m     65\u001b[0m     \u001b[0;32mdef\u001b[0m \u001b[0maname\u001b[0m\u001b[0;34m(\u001b[0m\u001b[0mself\u001b[0m\u001b[0;34m)\u001b[0m\u001b[0;34m:\u001b[0m\u001b[0;34m\u001b[0m\u001b[0;34m\u001b[0m\u001b[0m\n\u001b[1;32m     66\u001b[0m         \u001b[0;32mreturn\u001b[0m \u001b[0;34m'Artist'\u001b[0m\u001b[0;34m\u001b[0m\u001b[0;34m\u001b[0m\u001b[0m\n",
      "\u001b[0;32m~/miniconda3/lib/python3.6/site-packages/matplotlib/cbook/deprecation.py\u001b[0m in \u001b[0;36mdeprecate\u001b[0;34m(obj, message, name, alternative, pending, addendum)\u001b[0m\n\u001b[1;32m    165\u001b[0m     \u001b[0mBasic\u001b[0m \u001b[0mexample\u001b[0m\u001b[0;34m:\u001b[0m\u001b[0;34m:\u001b[0m\u001b[0;34m\u001b[0m\u001b[0;34m\u001b[0m\u001b[0m\n\u001b[1;32m    166\u001b[0m \u001b[0;34m\u001b[0m\u001b[0m\n\u001b[0;32m--> 167\u001b[0;31m         \u001b[0;34m@\u001b[0m\u001b[0mdeprecated\u001b[0m\u001b[0;34m(\u001b[0m\u001b[0;34m'1.4.0'\u001b[0m\u001b[0;34m)\u001b[0m\u001b[0;34m\u001b[0m\u001b[0;34m\u001b[0m\u001b[0m\n\u001b[0m\u001b[1;32m    168\u001b[0m         \u001b[0;32mdef\u001b[0m \u001b[0mthe_function_to_deprecate\u001b[0m\u001b[0;34m(\u001b[0m\u001b[0;34m)\u001b[0m\u001b[0;34m:\u001b[0m\u001b[0;34m\u001b[0m\u001b[0;34m\u001b[0m\u001b[0m\n\u001b[1;32m    169\u001b[0m             \u001b[0;32mpass\u001b[0m\u001b[0;34m\u001b[0m\u001b[0;34m\u001b[0m\u001b[0m\n",
      "\u001b[0;31mAttributeError\u001b[0m: 'property' object has no attribute '__name__'"
     ]
    }
   ],
   "source": [
    "! # pip install eli5\n",
    "import pandas as pd\n",
    "import numpy as np\n",
    "\n",
    "from plotnine import ggplot, geom_point, aes, stat_smooth, facet_wrap, geom_histogram\n",
    "from plotnine import geom_boxplot, scale_y_log10, geom_bar, geom_line, ggtitle\n",
    "from plotnine import facet_wrap, scale_x_log10\n",
    "from scipy.stats import pearsonr\n",
    "from scipy.stats import spearmanr\n",
    "import itertools\n",
    "import scipy.stats as scs\n",
    "import matplotlib.pyplot as plt\n",
    "import pickle\n",
    "\n",
    "\n",
    "from sklearn.decomposition import PCA\n",
    "from sklearn.cluster import KMeans\n",
    "from sklearn.metrics import silhouette_score\n",
    "from sklearn.inspection import permutation_importance\n",
    "from sklearn.impute import SimpleImputer\n",
    "from sklearn.linear_model import LinearRegression\n",
    "from sklearn.model_selection import train_test_split\n",
    "from sklearn.metrics import r2_score, mean_squared_error, mean_absolute_error\n",
    "from sklearn.preprocessing import OneHotEncoder\n",
    "\n",
    "\n",
    "import xgboost as xgb\n",
    "\n",
    "from sklearn.preprocessing import StandardScaler\n",
    "\n",
    "from keras.models import Sequential, load_model\n",
    "from keras.layers.core import Dense, Activation, Dropout\n",
    "from keras.layers import LeakyReLU, BatchNormalization, ReLU\n",
    "from keras import callbacks, optimizers\n",
    "from keras.callbacks import EarlyStopping, ModelCheckpoint\n",
    "from keras.wrappers.scikit_learn import KerasRegressor\n",
    "\n",
    "#from eli5.sklearn import PermutationImportance\n",
    "#import eli5"
   ]
  },
  {
   "cell_type": "code",
   "execution_count": 2,
   "metadata": {
    "colab": {},
    "colab_type": "code",
    "id": "W5paffY9gcMe"
   },
   "outputs": [
    {
     "name": "stdout",
     "output_type": "stream",
     "text": [
      "WARNING: pip is being invoked by an old script wrapper. This will fail in a future version of pip.\n",
      "Please see https://github.com/pypa/pip/issues/5599 for advice on fixing the underlying issue.\n",
      "To avoid this problem you can invoke Python with '-m pip' instead of running pip directly.\n",
      "Collecting plotnine\n",
      "  Downloading plotnine-0.6.0-py3-none-any.whl (4.1 MB)\n",
      "\u001b[K     |████████████████████████████████| 4.1 MB 337 kB/s eta 0:00:01\n",
      "\u001b[?25hRequirement already satisfied: patsy>=0.4.1 in /Users/cydal/miniconda3/lib/python3.6/site-packages (from plotnine) (0.5.1)\n",
      "Collecting mizani>=0.6.0\n",
      "  Downloading mizani-0.6.0-py2.py3-none-any.whl (61 kB)\n",
      "\u001b[K     |████████████████████████████████| 61 kB 1.2 MB/s eta 0:00:01\n",
      "\u001b[?25hRequirement already satisfied: statsmodels>=0.9.0 in /Users/cydal/miniconda3/lib/python3.6/site-packages (from plotnine) (0.11.1)\n",
      "Collecting matplotlib>=3.1.1\n",
      "  Downloading matplotlib-3.2.1-cp36-cp36m-macosx_10_9_x86_64.whl (12.4 MB)\n",
      "\u001b[K     |████████████████████████████████| 12.4 MB 5.4 MB/s eta 0:00:01\n",
      "\u001b[?25hRequirement already satisfied: scipy>=1.2.0 in /Users/cydal/miniconda3/lib/python3.6/site-packages (from plotnine) (1.4.1)\n",
      "Requirement already satisfied: numpy>=1.16.0 in /Users/cydal/miniconda3/lib/python3.6/site-packages (from plotnine) (1.18.1)\n",
      "Collecting pandas>=0.25.0\n",
      "  Downloading pandas-1.0.3-cp36-cp36m-macosx_10_9_x86_64.whl (10.2 MB)\n",
      "\u001b[K     |████████████████████████████████| 10.2 MB 1.6 MB/s eta 0:00:01    |█████████████████▋              | 5.6 MB 2.3 MB/s eta 0:00:02\n",
      "\u001b[?25hCollecting descartes>=1.1.0\n",
      "  Downloading descartes-1.1.0-py3-none-any.whl (5.8 kB)\n",
      "Requirement already satisfied: six in /Users/cydal/miniconda3/lib/python3.6/site-packages (from patsy>=0.4.1->plotnine) (1.14.0)\n",
      "Collecting palettable\n",
      "  Downloading palettable-3.3.0-py2.py3-none-any.whl (111 kB)\n",
      "\u001b[K     |████████████████████████████████| 111 kB 5.5 MB/s eta 0:00:01\n",
      "\u001b[?25hRequirement already satisfied: pyparsing!=2.0.4,!=2.1.2,!=2.1.6,>=2.0.1 in /Users/cydal/miniconda3/lib/python3.6/site-packages (from matplotlib>=3.1.1->plotnine) (2.2.0)\n",
      "Collecting kiwisolver>=1.0.1\n",
      "  Downloading kiwisolver-1.2.0-cp36-cp36m-macosx_10_9_x86_64.whl (60 kB)\n",
      "\u001b[K     |████████████████████████████████| 60 kB 4.1 MB/s eta 0:00:011\n",
      "\u001b[?25hRequirement already satisfied: cycler>=0.10 in /Users/cydal/miniconda3/lib/python3.6/site-packages (from matplotlib>=3.1.1->plotnine) (0.10.0)\n",
      "Requirement already satisfied: python-dateutil>=2.1 in /Users/cydal/miniconda3/lib/python3.6/site-packages (from matplotlib>=3.1.1->plotnine) (2.8.1)\n",
      "Requirement already satisfied: pytz>=2017.2 in /Users/cydal/miniconda3/lib/python3.6/site-packages (from pandas>=0.25.0->plotnine) (2019.3)\n",
      "Installing collected packages: pandas, kiwisolver, matplotlib, palettable, mizani, descartes, plotnine\n",
      "  Attempting uninstall: pandas\n",
      "    Found existing installation: pandas 0.23.4\n",
      "    Uninstalling pandas-0.23.4:\n",
      "      Successfully uninstalled pandas-0.23.4\n",
      "  Attempting uninstall: matplotlib\n",
      "    Found existing installation: matplotlib 2.1.2\n",
      "    Uninstalling matplotlib-2.1.2:\n",
      "      Successfully uninstalled matplotlib-2.1.2\n",
      "Successfully installed descartes-1.1.0 kiwisolver-1.2.0 matplotlib-3.2.1 mizani-0.6.0 palettable-3.3.0 pandas-1.0.3 plotnine-0.6.0\n"
     ]
    }
   ],
   "source": []
  },
  {
   "cell_type": "code",
   "execution_count": 246,
   "metadata": {
    "colab": {
     "base_uri": "https://localhost:8080/",
     "height": 54
    },
    "colab_type": "code",
    "id": "7mSQ72lrUFO-",
    "outputId": "835e7103-ee46-46ac-ebae-8a134d679cb2"
   },
   "outputs": [
    {
     "data": {
      "text/plain": [
       "\"\\n\\nland = pd.read_csv('/content/drive/My Drive/omdena-model-b-c-nn/dataset/LAND_COVER_03052020050019102.csv')\\nland = land[['COU', 'VARIABLE', 'YEA', 'Value']]\\nland = land[land['YEA'] == 2015]\\n\\nland_pivot = land.pivot(columns='VARIABLE', values='Value')\\nland_pivot = land_pivot.fillna(0.0)\\n\\nland_final = pd.concat([land, land_pivot], axis=1)\\n\\nld_cols = ['COU', 'CROPL',\\t'FOREST',\\t'GRSL',\\t'SHRUBL',\\t\\n           'SPARSE_VEGETATION', 'URBAN',\\t'WATER', 'WETL']\\n\\nland_final = land_final[ld_cols]\\n\\n\\nland_final_g = land_final.groupby(['COU']).sum()\\n\\n\\ndf = pd.merge(df, land_final_g, how='left', left_on=['ISO'], right_on=['COU'])\\n\""
      ]
     },
     "execution_count": 246,
     "metadata": {
      "tags": []
     },
     "output_type": "execute_result"
    }
   ],
   "source": [
    "'''\n",
    "\n",
    "land = pd.read_csv('/content/drive/My Drive/omdena-model-b-c-nn/dataset/LAND_COVER_03052020050019102.csv')\n",
    "land = land[['COU', 'VARIABLE', 'YEA', 'Value']]\n",
    "land = land[land['YEA'] == 2015]\n",
    "\n",
    "land_pivot = land.pivot(columns='VARIABLE', values='Value')\n",
    "land_pivot = land_pivot.fillna(0.0)\n",
    "\n",
    "land_final = pd.concat([land, land_pivot], axis=1)\n",
    "\n",
    "ld_cols = ['COU', 'CROPL',\t'FOREST',\t'GRSL',\t'SHRUBL',\t\n",
    "           'SPARSE_VEGETATION', 'URBAN',\t'WATER', 'WETL']\n",
    "\n",
    "land_final = land_final[ld_cols]\n",
    "\n",
    "\n",
    "land_final_g = land_final.groupby(['COU']).sum()\n",
    "\n",
    "\n",
    "df = pd.merge(df, land_final_g, how='left', left_on=['ISO'], right_on=['COU'])\n",
    "'''"
   ]
  },
  {
   "cell_type": "markdown",
   "metadata": {
    "colab_type": "text",
    "id": "GUKzvBHEFImk"
   },
   "source": [
    "## Load important libraries"
   ]
  },
  {
   "cell_type": "code",
   "execution_count": 0,
   "metadata": {
    "colab": {},
    "colab_type": "code",
    "id": "6MpiHuEet8SK"
   },
   "outputs": [],
   "source": [
    "# Import File\n",
    "filepath = '/content/drive/My Drive/omdena-model-b-c-nn/dataset/OUTPUT_WBI_exposer_cyclones_v14.csv'\n",
    "df = pd.read_csv(filepath, sep=';')"
   ]
  },
  {
   "cell_type": "code",
   "execution_count": 248,
   "metadata": {
    "colab": {
     "base_uri": "https://localhost:8080/",
     "height": 649
    },
    "colab_type": "code",
    "id": "AjZV9ok3ORm-",
    "outputId": "e53e7edb-3b02-419d-fd70-027935dea67a"
   },
   "outputs": [
    {
     "data": {
      "text/html": [
       "<div>\n",
       "<style scoped>\n",
       "    .dataframe tbody tr th:only-of-type {\n",
       "        vertical-align: middle;\n",
       "    }\n",
       "\n",
       "    .dataframe tbody tr th {\n",
       "        vertical-align: top;\n",
       "    }\n",
       "\n",
       "    .dataframe thead th {\n",
       "        text-align: right;\n",
       "    }\n",
       "</style>\n",
       "<table border=\"1\" class=\"dataframe\">\n",
       "  <thead>\n",
       "    <tr style=\"text-align: right;\">\n",
       "      <th></th>\n",
       "      <th>SID</th>\n",
       "      <th>NAME</th>\n",
       "      <th>ISO</th>\n",
       "      <th>YEAR</th>\n",
       "      <th>COORDS</th>\n",
       "      <th>COORDS_MAX_WINDS</th>\n",
       "      <th>COORDS_MIN_DIST2LAND</th>\n",
       "      <th>BASIN</th>\n",
       "      <th>SUB BASIN</th>\n",
       "      <th>MONTH_START</th>\n",
       "      <th>MONTH_END</th>\n",
       "      <th>DATE_START</th>\n",
       "      <th>DATE_END</th>\n",
       "      <th>DATE_LAND_START</th>\n",
       "      <th>DATE_LAND_END</th>\n",
       "      <th>TOTAL_HOURS_EVENT</th>\n",
       "      <th>TOTAL_HOURS_IN_LAND</th>\n",
       "      <th>NATURE</th>\n",
       "      <th>GENERAL_CATEGORY</th>\n",
       "      <th>MAX_WIND</th>\n",
       "      <th>MIN_PRES</th>\n",
       "      <th>MIN_DIST2LAND</th>\n",
       "      <th>MAX_STORMSPEED</th>\n",
       "      <th>MAX_USA_SSHS</th>\n",
       "      <th>MAX_USA_SSHS_INLAND</th>\n",
       "      <th>V_LAND_KN</th>\n",
       "      <th>DISTANCE_TRACK</th>\n",
       "      <th>DISTANCE_TRACK_VINCENTY</th>\n",
       "      <th>34KN_POP</th>\n",
       "      <th>64KN_POP</th>\n",
       "      <th>96KN_POP</th>\n",
       "      <th>64KN_ASSETS</th>\n",
       "      <th>34KN_ASSETS</th>\n",
       "      <th>96KN_ASSETS</th>\n",
       "      <th>TOTAL_DAMAGE_(000$)</th>\n",
       "      <th>TOTAL_DEATHS</th>\n",
       "      <th>POP_DEN_SQ_KM</th>\n",
       "      <th>RURAL_POP(%)</th>\n",
       "      <th>HDI</th>\n",
       "      <th>Arable land (hectares per person)</th>\n",
       "      <th>Cereal yield (kg per hectare)</th>\n",
       "      <th>Food production index (2004-2006 = 100)</th>\n",
       "      <th>GDP per capita (constant 2010 US$)</th>\n",
       "      <th>Net flows from UN agencies US$</th>\n",
       "      <th>Life expectancy at birth, total (years)</th>\n",
       "      <th>Adjusted savings: education expenditure (% of GNI)</th>\n",
       "      <th>Income_level_Final</th>\n",
       "      <th>POP_MAX_34_ADJ</th>\n",
       "      <th>POP_MAX_50_ADJ</th>\n",
       "      <th>POP_MAX_64_ADJ</th>\n",
       "      <th>TOTAL_AFFECTED</th>\n",
       "    </tr>\n",
       "  </thead>\n",
       "  <tbody>\n",
       "    <tr>\n",
       "      <th>0</th>\n",
       "      <td>1949163N07145</td>\n",
       "      <td>DELLA</td>\n",
       "      <td>JPN</td>\n",
       "      <td>1949</td>\n",
       "      <td>[(21.5, 125.424), (22.2, 125.8), (22.9089, 126...</td>\n",
       "      <td>[(27.6584, 128.82), (28.9141, 129.572999999999...</td>\n",
       "      <td>[(31.9866, 130.683), (33.5183, 130.97299999999...</td>\n",
       "      <td>WP</td>\n",
       "      <td>WP</td>\n",
       "      <td>6</td>\n",
       "      <td>6</td>\n",
       "      <td>19/06/1949 9:00</td>\n",
       "      <td>24/06/1949 6:00</td>\n",
       "      <td>20/06/1949 15:00</td>\n",
       "      <td>23/06/1949 3:00</td>\n",
       "      <td>117.0</td>\n",
       "      <td>60.0</td>\n",
       "      <td>TS</td>\n",
       "      <td>Cat 4</td>\n",
       "      <td>116.0</td>\n",
       "      <td>952</td>\n",
       "      <td>0</td>\n",
       "      <td>33.0</td>\n",
       "      <td>3</td>\n",
       "      <td>0</td>\n",
       "      <td>99.82</td>\n",
       "      <td>3889.480640</td>\n",
       "      <td>3632.626180</td>\n",
       "      <td>NaN</td>\n",
       "      <td>NaN</td>\n",
       "      <td>NaN</td>\n",
       "      <td>NaN</td>\n",
       "      <td>NaN</td>\n",
       "      <td>NaN</td>\n",
       "      <td>NaN</td>\n",
       "      <td>419.0</td>\n",
       "      <td>195.0</td>\n",
       "      <td>77.20</td>\n",
       "      <td>0.816</td>\n",
       "      <td>0.059615</td>\n",
       "      <td>4173.5</td>\n",
       "      <td>67.79</td>\n",
       "      <td>8607.657082</td>\n",
       "      <td>0.0</td>\n",
       "      <td>67.666098</td>\n",
       "      <td>2.867878</td>\n",
       "      <td>Low</td>\n",
       "      <td>1.198300e+07</td>\n",
       "      <td>5.803981e+06</td>\n",
       "      <td>3.320907e+06</td>\n",
       "      <td>194046</td>\n",
       "    </tr>\n",
       "    <tr>\n",
       "      <th>1</th>\n",
       "      <td>1950241N23140</td>\n",
       "      <td>JANE</td>\n",
       "      <td>JPN</td>\n",
       "      <td>1950</td>\n",
       "      <td>[(23.8845, 139.74), (23.9335, 139.639), (23.98...</td>\n",
       "      <td>[(28.7509, 133.748), (29.1201, 133.762), (29.6...</td>\n",
       "      <td>[(34.9374, 135.476), (36.1016, 136.095), (37.2...</td>\n",
       "      <td>WP</td>\n",
       "      <td>WP</td>\n",
       "      <td>8</td>\n",
       "      <td>9</td>\n",
       "      <td>30/08/1950 3:00</td>\n",
       "      <td>05/09/1950 0:00</td>\n",
       "      <td>03/09/1950 3:00</td>\n",
       "      <td>04/09/1950 0:00</td>\n",
       "      <td>141.0</td>\n",
       "      <td>21.0</td>\n",
       "      <td>ET</td>\n",
       "      <td>Cat 4</td>\n",
       "      <td>116.0</td>\n",
       "      <td>940</td>\n",
       "      <td>0</td>\n",
       "      <td>31.0</td>\n",
       "      <td>3</td>\n",
       "      <td>1</td>\n",
       "      <td>99.82</td>\n",
       "      <td>3596.090691</td>\n",
       "      <td>2787.480021</td>\n",
       "      <td>NaN</td>\n",
       "      <td>NaN</td>\n",
       "      <td>NaN</td>\n",
       "      <td>NaN</td>\n",
       "      <td>NaN</td>\n",
       "      <td>NaN</td>\n",
       "      <td>NaN</td>\n",
       "      <td>509.0</td>\n",
       "      <td>227.0</td>\n",
       "      <td>47.00</td>\n",
       "      <td>0.816</td>\n",
       "      <td>0.059615</td>\n",
       "      <td>4173.5</td>\n",
       "      <td>67.79</td>\n",
       "      <td>8607.657082</td>\n",
       "      <td>0.0</td>\n",
       "      <td>67.666098</td>\n",
       "      <td>2.867878</td>\n",
       "      <td>Low</td>\n",
       "      <td>3.160822e+07</td>\n",
       "      <td>1.559196e+07</td>\n",
       "      <td>1.018936e+07</td>\n",
       "      <td>642117</td>\n",
       "    </tr>\n",
       "    <tr>\n",
       "      <th>2</th>\n",
       "      <td>1951224N12316</td>\n",
       "      <td>CHARLIE</td>\n",
       "      <td>JAM</td>\n",
       "      <td>1951</td>\n",
       "      <td>[(17.3398, -75.4138), (17.6, -76.2), (17.9, -7...</td>\n",
       "      <td>[(17.6, -76.2), (17.9, -76.9)]</td>\n",
       "      <td>[(17.9, -76.9), (18.1, -77.8)]</td>\n",
       "      <td>NAm</td>\n",
       "      <td>CS</td>\n",
       "      <td>8</td>\n",
       "      <td>8</td>\n",
       "      <td>17/08/1951 21:00</td>\n",
       "      <td>18/08/1951 12:00</td>\n",
       "      <td>18/08/1951 3:00</td>\n",
       "      <td>18/08/1951 6:00</td>\n",
       "      <td>15.0</td>\n",
       "      <td>3.0</td>\n",
       "      <td>TS</td>\n",
       "      <td>Cat 3</td>\n",
       "      <td>110.0</td>\n",
       "      <td>0</td>\n",
       "      <td>0</td>\n",
       "      <td>17.0</td>\n",
       "      <td>3</td>\n",
       "      <td>3</td>\n",
       "      <td>132.40</td>\n",
       "      <td>438.214691</td>\n",
       "      <td>435.729082</td>\n",
       "      <td>2788659.0</td>\n",
       "      <td>2788659.0</td>\n",
       "      <td>2552903.0</td>\n",
       "      <td>2.148198e+10</td>\n",
       "      <td>2.148198e+10</td>\n",
       "      <td>1.948346e+10</td>\n",
       "      <td>56000.0</td>\n",
       "      <td>154.0</td>\n",
       "      <td>133.0</td>\n",
       "      <td>66.23</td>\n",
       "      <td>0.668</td>\n",
       "      <td>0.100541</td>\n",
       "      <td>868.3</td>\n",
       "      <td>69.93</td>\n",
       "      <td>3796.219401</td>\n",
       "      <td>0.0</td>\n",
       "      <td>64.770000</td>\n",
       "      <td>2.578304</td>\n",
       "      <td>Low</td>\n",
       "      <td>1.689243e+06</td>\n",
       "      <td>1.687083e+06</td>\n",
       "      <td>1.195052e+06</td>\n",
       "      <td>20200</td>\n",
       "    </tr>\n",
       "    <tr>\n",
       "      <th>3</th>\n",
       "      <td>1951337N09150</td>\n",
       "      <td>AMY</td>\n",
       "      <td>PHL</td>\n",
       "      <td>1951</td>\n",
       "      <td>[(12.0725, 130.967), (12.1333, 130.517), (12.1...</td>\n",
       "      <td>[(11.7833, 127.9)]</td>\n",
       "      <td>[(10.7333, 124.8), (10.534, 123.174), (10.6833...</td>\n",
       "      <td>WP</td>\n",
       "      <td>WP</td>\n",
       "      <td>12</td>\n",
       "      <td>12</td>\n",
       "      <td>07/12/1951 9:00</td>\n",
       "      <td>17/12/1951 0:00</td>\n",
       "      <td>09/12/1951 12:00</td>\n",
       "      <td>11/12/1951 0:00</td>\n",
       "      <td>231.0</td>\n",
       "      <td>36.0</td>\n",
       "      <td>TS</td>\n",
       "      <td>Cat 4</td>\n",
       "      <td>120.0</td>\n",
       "      <td>924</td>\n",
       "      <td>0</td>\n",
       "      <td>11.0</td>\n",
       "      <td>4</td>\n",
       "      <td>2</td>\n",
       "      <td>119.20</td>\n",
       "      <td>2238.058669</td>\n",
       "      <td>1905.587795</td>\n",
       "      <td>20464826.0</td>\n",
       "      <td>12675908.0</td>\n",
       "      <td>5618193.0</td>\n",
       "      <td>1.131050e+11</td>\n",
       "      <td>1.880280e+11</td>\n",
       "      <td>4.897333e+10</td>\n",
       "      <td>NaN</td>\n",
       "      <td>569.0</td>\n",
       "      <td>64.5</td>\n",
       "      <td>75.35</td>\n",
       "      <td>0.590</td>\n",
       "      <td>0.180442</td>\n",
       "      <td>996.3</td>\n",
       "      <td>25.68</td>\n",
       "      <td>1059.467412</td>\n",
       "      <td>0.0</td>\n",
       "      <td>61.105000</td>\n",
       "      <td>2.757732</td>\n",
       "      <td>Low_Middle</td>\n",
       "      <td>4.760039e+06</td>\n",
       "      <td>3.006670e+06</td>\n",
       "      <td>1.114774e+06</td>\n",
       "      <td>60000</td>\n",
       "    </tr>\n",
       "    <tr>\n",
       "      <th>4</th>\n",
       "      <td>1952180N05144</td>\n",
       "      <td>EMMA</td>\n",
       "      <td>PHL</td>\n",
       "      <td>1952</td>\n",
       "      <td>[(9.33776, 130.185), (9.38633, 129.61), (9.45,...</td>\n",
       "      <td>[(9.45, 129.017), (9.50407, 128.407), (9.56613...</td>\n",
       "      <td>[(10.4667, 123.867), (10.6492, 123.239), (10.8...</td>\n",
       "      <td>WP</td>\n",
       "      <td>WP</td>\n",
       "      <td>7</td>\n",
       "      <td>7</td>\n",
       "      <td>01/07/1952 6:00</td>\n",
       "      <td>04/07/1952 18:00</td>\n",
       "      <td>02/07/1952 12:00</td>\n",
       "      <td>02/07/1952 21:00</td>\n",
       "      <td>84.0</td>\n",
       "      <td>9.0</td>\n",
       "      <td>TS</td>\n",
       "      <td>Cat 3</td>\n",
       "      <td>110.0</td>\n",
       "      <td>968</td>\n",
       "      <td>0</td>\n",
       "      <td>15.0</td>\n",
       "      <td>3</td>\n",
       "      <td>1</td>\n",
       "      <td>110691.00</td>\n",
       "      <td>1876.186790</td>\n",
       "      <td>1797.712213</td>\n",
       "      <td>NaN</td>\n",
       "      <td>NaN</td>\n",
       "      <td>NaN</td>\n",
       "      <td>NaN</td>\n",
       "      <td>NaN</td>\n",
       "      <td>NaN</td>\n",
       "      <td>NaN</td>\n",
       "      <td>19.0</td>\n",
       "      <td>66.9</td>\n",
       "      <td>72.41</td>\n",
       "      <td>0.590</td>\n",
       "      <td>0.180442</td>\n",
       "      <td>996.3</td>\n",
       "      <td>25.68</td>\n",
       "      <td>1059.467412</td>\n",
       "      <td>0.0</td>\n",
       "      <td>61.105000</td>\n",
       "      <td>2.757732</td>\n",
       "      <td>Low_Middle</td>\n",
       "      <td>5.130796e+06</td>\n",
       "      <td>2.789486e+06</td>\n",
       "      <td>1.988524e+06</td>\n",
       "      <td>103</td>\n",
       "    </tr>\n",
       "  </tbody>\n",
       "</table>\n",
       "</div>"
      ],
      "text/plain": [
       "             SID     NAME  ISO  ...  POP_MAX_50_ADJ POP_MAX_64_ADJ TOTAL_AFFECTED\n",
       "0  1949163N07145    DELLA  JPN  ...    5.803981e+06   3.320907e+06         194046\n",
       "1  1950241N23140     JANE  JPN  ...    1.559196e+07   1.018936e+07         642117\n",
       "2  1951224N12316  CHARLIE  JAM  ...    1.687083e+06   1.195052e+06          20200\n",
       "3  1951337N09150      AMY  PHL  ...    3.006670e+06   1.114774e+06          60000\n",
       "4  1952180N05144     EMMA  PHL  ...    2.789486e+06   1.988524e+06            103\n",
       "\n",
       "[5 rows x 51 columns]"
      ]
     },
     "execution_count": 248,
     "metadata": {
      "tags": []
     },
     "output_type": "execute_result"
    }
   ],
   "source": [
    "df.head()"
   ]
  },
  {
   "cell_type": "code",
   "execution_count": 0,
   "metadata": {
    "colab": {},
    "colab_type": "code",
    "id": "i42qngTPDIF3"
   },
   "outputs": [],
   "source": []
  },
  {
   "cell_type": "markdown",
   "metadata": {
    "colab_type": "text",
    "id": "PlgvpKl6FtyG"
   },
   "source": [
    "# Drop Columns & Some Pre - preprocessing\n"
   ]
  },
  {
   "cell_type": "code",
   "execution_count": 0,
   "metadata": {
    "colab": {},
    "colab_type": "code",
    "id": "KQvmJjwtt9ye"
   },
   "outputs": [],
   "source": [
    "# Drop some unimportant features\n",
    "drop_cols = ['34KN_POP', '34KN_ASSETS', '64KN_POP', '64KN_ASSETS', \n",
    "             '96KN_POP', '96KN_ASSETS', \"SID\", 'NAME', 'ISO', \n",
    "             'TOTAL_DAMAGE_(000$)', 'TOTAL_DEATHS', 'DATE_LAND_END',\n",
    "             'DATE_START',\t'DATE_END',\t'DATE_LAND_START', 'MONTH_END',\n",
    "             'COORDS',\t'COORDS_MAX_WINDS',\t'COORDS_MIN_DIST2LAND', \n",
    "             'TOTAL_HOURS_EVENT']\n",
    "\n",
    "df = df.drop(columns=drop_cols)"
   ]
  },
  {
   "cell_type": "code",
   "execution_count": 0,
   "metadata": {
    "colab": {},
    "colab_type": "code",
    "id": "_CrrEpKyt_Lj"
   },
   "outputs": [],
   "source": [
    "### Xaview Preprocessing\n",
    "df[\"SUB BASIN\"]= df[\"SUB BASIN\"].replace('MM', np.nan) \n",
    "df[\"BASIN\"]= df[\"BASIN\"].replace('MM', np.nan)\n",
    "\n",
    "df['SUB BASIN']= np.where(df['SUB BASIN'].isnull(), df['BASIN'], df['SUB BASIN'])"
   ]
  },
  {
   "cell_type": "code",
   "execution_count": 251,
   "metadata": {
    "colab": {
     "base_uri": "https://localhost:8080/",
     "height": 34
    },
    "colab_type": "code",
    "id": "8d_l0VwhuAnS",
    "outputId": "91d4118c-9e7a-440f-a3ab-d4d169248a1e"
   },
   "outputs": [
    {
     "data": {
      "text/plain": [
       "array(['WP', 'NAm', 'SP', 'EP', 'SI', 'NI'], dtype=object)"
      ]
     },
     "execution_count": 251,
     "metadata": {
      "tags": []
     },
     "output_type": "execute_result"
    }
   ],
   "source": [
    "df[\"BASIN\"].unique()"
   ]
  },
  {
   "cell_type": "code",
   "execution_count": 252,
   "metadata": {
    "colab": {
     "base_uri": "https://localhost:8080/",
     "height": 663
    },
    "colab_type": "code",
    "id": "OBqM6HBwKQJP",
    "outputId": "ac28c65e-a889-4e11-fb5d-dd277cb618dc"
   },
   "outputs": [
    {
     "name": "stdout",
     "output_type": "stream",
     "text": [
      "<class 'pandas.core.frame.DataFrame'>\n",
      "RangeIndex: 991 entries, 0 to 990\n",
      "Data columns (total 31 columns):\n",
      " #   Column                                              Non-Null Count  Dtype  \n",
      "---  ------                                              --------------  -----  \n",
      " 0   YEAR                                                991 non-null    int64  \n",
      " 1   BASIN                                               991 non-null    object \n",
      " 2   SUB BASIN                                           991 non-null    object \n",
      " 3   MONTH_START                                         991 non-null    int64  \n",
      " 4   TOTAL_HOURS_IN_LAND                                 991 non-null    float64\n",
      " 5   NATURE                                              991 non-null    object \n",
      " 6   GENERAL_CATEGORY                                    991 non-null    object \n",
      " 7   MAX_WIND                                            991 non-null    float64\n",
      " 8   MIN_PRES                                            991 non-null    int64  \n",
      " 9   MIN_DIST2LAND                                       991 non-null    int64  \n",
      " 10  MAX_STORMSPEED                                      989 non-null    float64\n",
      " 11  MAX_USA_SSHS                                        991 non-null    int64  \n",
      " 12  MAX_USA_SSHS_INLAND                                 991 non-null    object \n",
      " 13  V_LAND_KN                                           991 non-null    float64\n",
      " 14  DISTANCE_TRACK                                      991 non-null    float64\n",
      " 15  DISTANCE_TRACK_VINCENTY                             991 non-null    float64\n",
      " 16  POP_DEN_SQ_KM                                       991 non-null    float64\n",
      " 17  RURAL_POP(%)                                        991 non-null    float64\n",
      " 18  HDI                                                 991 non-null    float64\n",
      " 19  Arable land (hectares per person)                   990 non-null    float64\n",
      " 20  Cereal yield (kg per hectare)                       981 non-null    float64\n",
      " 21  Food production index (2004-2006 = 100)             987 non-null    float64\n",
      " 22  GDP per capita (constant 2010 US$)                  982 non-null    float64\n",
      " 23  Net flows from UN agencies US$                      991 non-null    float64\n",
      " 24  Life expectancy at birth, total (years)             987 non-null    float64\n",
      " 25  Adjusted savings: education expenditure (% of GNI)  981 non-null    float64\n",
      " 26  Income_level_Final                                  991 non-null    object \n",
      " 27  POP_MAX_34_ADJ                                      911 non-null    float64\n",
      " 28  POP_MAX_50_ADJ                                      911 non-null    float64\n",
      " 29  POP_MAX_64_ADJ                                      911 non-null    float64\n",
      " 30  TOTAL_AFFECTED                                      991 non-null    int64  \n",
      "dtypes: float64(19), int64(6), object(6)\n",
      "memory usage: 240.1+ KB\n"
     ]
    }
   ],
   "source": [
    "df.info()"
   ]
  },
  {
   "cell_type": "code",
   "execution_count": 253,
   "metadata": {
    "colab": {
     "base_uri": "https://localhost:8080/",
     "height": 544
    },
    "colab_type": "code",
    "id": "0v1ONiuvuCA-",
    "outputId": "1f22a978-66be-4ea1-d6f2-b278b6a92da8"
   },
   "outputs": [
    {
     "name": "stdout",
     "output_type": "stream",
     "text": [
      "YEAR ---- 0.0\n",
      "BASIN ---- 0.0\n",
      "SUB BASIN ---- 0.0\n",
      "MONTH_START ---- 0.0\n",
      "TOTAL_HOURS_IN_LAND ---- 0.0\n",
      "NATURE ---- 0.0\n",
      "GENERAL_CATEGORY ---- 0.0\n",
      "MAX_WIND ---- 0.0\n",
      "MIN_PRES ---- 0.0\n",
      "MIN_DIST2LAND ---- 0.0\n",
      "MAX_STORMSPEED ---- 0.20181634712411706\n",
      "MAX_USA_SSHS ---- 0.0\n",
      "MAX_USA_SSHS_INLAND ---- 0.0\n",
      "V_LAND_KN ---- 0.0\n",
      "DISTANCE_TRACK ---- 0.0\n",
      "DISTANCE_TRACK_VINCENTY ---- 0.0\n",
      "POP_DEN_SQ_KM ---- 0.0\n",
      "RURAL_POP(%) ---- 0.0\n",
      "HDI ---- 0.0\n",
      "Arable land (hectares per person) ---- 0.10090817356205853\n",
      "Cereal yield (kg per hectare) ---- 1.0090817356205852\n",
      "Food production index (2004-2006 = 100) ---- 0.4036326942482341\n",
      "GDP per capita (constant 2010 US$) ---- 0.9081735620585267\n",
      "Net flows from UN agencies US$ ---- 0.0\n",
      "Life expectancy at birth, total (years) ---- 0.4036326942482341\n",
      "Adjusted savings: education expenditure (% of GNI) ---- 1.0090817356205852\n",
      "Income_level_Final ---- 0.0\n",
      "POP_MAX_34_ADJ ---- 8.072653884964682\n",
      "POP_MAX_50_ADJ ---- 8.072653884964682\n",
      "POP_MAX_64_ADJ ---- 8.072653884964682\n",
      "TOTAL_AFFECTED ---- 0.0\n"
     ]
    }
   ],
   "source": [
    "## Check features null count\n",
    "def checkNull(col, df):\n",
    "  return(df[col].isna().sum() / len(df[col]) * 100.0)\n",
    "  \n",
    "for each in df.columns.values:\n",
    "  print('{} ---- {}'.format(each, checkNull(each, df)))"
   ]
  },
  {
   "cell_type": "code",
   "execution_count": 254,
   "metadata": {
    "colab": {
     "base_uri": "https://localhost:8080/",
     "height": 122
    },
    "colab_type": "code",
    "id": "5SCuBqRZFayO",
    "outputId": "66ca37a2-32df-43dd-a620-286575212187"
   },
   "outputs": [
    {
     "name": "stderr",
     "output_type": "stream",
     "text": [
      "/usr/local/lib/python3.6/dist-packages/ipykernel_launcher.py:3: SettingWithCopyWarning: \n",
      "A value is trying to be set on a copy of a slice from a DataFrame\n",
      "\n",
      "See the caveats in the documentation: https://pandas.pydata.org/pandas-docs/stable/user_guide/indexing.html#returning-a-view-versus-a-copy\n",
      "  This is separate from the ipykernel package so we can avoid doing imports until\n"
     ]
    }
   ],
   "source": [
    "## USA_SSHS Preprocessing\n",
    "\n",
    "df['MAX_USA_SSHS_INLAND'][df['MAX_USA_SSHS_INLAND'] == 'No landing'] = -7\n",
    "df['MAX_USA_SSHS_INLAND'] = df['MAX_USA_SSHS_INLAND'].astype('int')\n",
    "\n",
    "## Engineer new features\n",
    "# If value is 7\n",
    "# And if value falls in the SS scale\n",
    "\n",
    "df['MAX_SSH_7'] = np.where(df['MAX_USA_SSHS_INLAND'] == -7, 1, 0)\n",
    "df['MAX_SSH_SS'] = np.where(df['MAX_USA_SSHS_INLAND'] > 0, 1, 0)"
   ]
  },
  {
   "cell_type": "markdown",
   "metadata": {
    "colab_type": "text",
    "id": "ykRzGYNKFx2q"
   },
   "source": [
    "# Numerical Features With NaNs"
   ]
  },
  {
   "cell_type": "markdown",
   "metadata": {
    "colab_type": "text",
    "id": "JybfXsF-wgEe"
   },
   "source": [
    "## Helper Functions"
   ]
  },
  {
   "cell_type": "code",
   "execution_count": 0,
   "metadata": {
    "colab": {},
    "colab_type": "code",
    "id": "FE13rb25gOLR"
   },
   "outputs": [],
   "source": [
    "objects_viz = ['BASIN', 'SUB BASIN', 'NATURE', 'GENERAL_CATEGORY', \n",
    "               'Income_level_Final']\n",
    "\n",
    "\n",
    "## Bi & MultiVariate Plots\n",
    "def plotBiMulti(x, y='TOTAL_AFFECTED', scale_x=False, scale_y=False):\n",
    "  return\n",
    "  x_corr = (np.log10(df[x] + 1) if scale_x else df[x])\n",
    "  y_corr = (np.log10(df[y] + 1) if scale_y else df[y])\n",
    "\n",
    "  print(\"Correlation - \", pearsonr(x_corr, y_corr)[0])\n",
    "\n",
    "  null = geom_point()\n",
    "  for each in objects_viz:\n",
    "    print(ggplot(df, aes(x=x, y=y, fill=each))\n",
    " + geom_point(color='steelblue')\n",
    " + (scale_x_log10() if scale_x else null)\n",
    " + (scale_y_log10() if scale_y else null))\n",
    "    \n",
    "\n",
    "## Categorical\n",
    "def plotBiMulti_cat(x, y='TOTAL_AFFECTED', fill=\"#990099\"):\n",
    "  return\n",
    "\n",
    "  objects_viz_temp = [cat for cat in objects_viz if cat != x]\n",
    "\n",
    "  for each in objects_viz_temp:\n",
    "    print(ggplot(df, aes(x=x, y=y, fill=each)) + geom_bar(stat=\"identity\", \n",
    "                                                          position=\"dodge\"))\n",
    "\n",
    "    \n",
    "\n",
    "## Checks for outliers. \n",
    "def outlier_check(x):\n",
    "  upper_quartile = np.nanpercentile(x, 75)\n",
    "  lower_quartile = np.nanpercentile(x, 25)\n",
    "  IQR = 1.5 * (upper_quartile - lower_quartile)\n",
    "  q_both = [lower_quartile - IQR, upper_quartile + IQR]\n",
    "\n",
    "  outliers = np.where(x < q_both[0])[0], np.where(x > q_both[1])[0]\n",
    "\n",
    "  return({\"lower\": outliers[0], \n",
    "          \"upper\": outliers[1], \n",
    "          \"q_both\": q_both, \n",
    "          'min-max': [x.min(), x.max()]})\n",
    "\n",
    "\n",
    "### Helper Func - Clip outliers\n",
    "def clip_outliers(x, outlier_dict):\n",
    "  lower_idx = outlier_dict[\"lower\"]\n",
    "  upper_idx = outlier_dict[\"upper\"]\n",
    "  q_both = outlier_dict[\"q_both\"]\n",
    "\n",
    "  x[lower_idx] = q_both[0]\n",
    "  x[upper_idx] = q_both[1]\n"
   ]
  },
  {
   "cell_type": "markdown",
   "metadata": {
    "colab_type": "text",
    "id": "yMoIv3ICbVBC"
   },
   "source": [
    "## MAX_STORMSPEED"
   ]
  },
  {
   "cell_type": "code",
   "execution_count": 0,
   "metadata": {
    "colab": {},
    "colab_type": "code",
    "id": "SLoJIR-5KNZ3"
   },
   "outputs": [],
   "source": [
    "#############################################################################\n",
    "#############################################################################\n",
    "################ Numerical Features With NaNs ###############################\n",
    "#############################################################################\n",
    "#############################################################################\n",
    "### MAX_STORMSPEED\n",
    "\n",
    "plotBiMulti('MAX_STORMSPEED', scale_x=0, scale_y=True)"
   ]
  },
  {
   "cell_type": "markdown",
   "metadata": {
    "colab_type": "text",
    "id": "Gcq4ac0PbX1S"
   },
   "source": [
    "## Arable land (hectares per person)"
   ]
  },
  {
   "cell_type": "code",
   "execution_count": 0,
   "metadata": {
    "colab": {},
    "colab_type": "code",
    "id": "Pd6jvVWcOcEO"
   },
   "outputs": [],
   "source": [
    "## Arable land (hectares per person) ---- 0.09950248756218905\n",
    "\n"
   ]
  },
  {
   "cell_type": "code",
   "execution_count": 258,
   "metadata": {
    "colab": {
     "base_uri": "https://localhost:8080/",
     "height": 139
    },
    "colab_type": "code",
    "id": "r2OhxLLbx_6I",
    "outputId": "3349d3e6-31c5-4500-8007-6451d4be5a13"
   },
   "outputs": [
    {
     "name": "stdout",
     "output_type": "stream",
     "text": [
      "{'lower': array([], dtype=int64), 'upper': array([  6,  28,  35,  42,  61,  92,  97, 139, 166, 172, 211, 220, 247,\n",
      "       257, 260, 290, 307, 309, 312, 321, 328, 334, 357, 358, 360, 365,\n",
      "       377, 379, 383, 388, 393, 406, 412, 417, 419, 453, 458, 470, 480,\n",
      "       481, 483, 496, 507, 519, 539, 545, 555, 563, 565, 566, 579, 642,\n",
      "       648, 654, 658, 660, 674, 689, 720, 737, 739, 755, 767, 777, 783,\n",
      "       830, 850, 851, 878, 894, 904, 916, 927, 932, 941, 972, 977]), 'q_both': [-0.13987619737500004, 0.39300619562500005], 'min-max': [0.004410046, 3.069372586]}\n"
     ]
    }
   ],
   "source": [
    "plotBiMulti('Arable land (hectares per person)', scale_x=True, scale_y=True)\n",
    "print(outlier_check(df['Arable land (hectares per person)']))"
   ]
  },
  {
   "cell_type": "markdown",
   "metadata": {
    "colab_type": "text",
    "id": "7bU5ug1zby5Y"
   },
   "source": [
    "## Food production index (2004-2006 = 100)"
   ]
  },
  {
   "cell_type": "code",
   "execution_count": 0,
   "metadata": {
    "colab": {},
    "colab_type": "code",
    "id": "Wg6T9h0xUn-X"
   },
   "outputs": [],
   "source": [
    "## Food production index (2004-2006 = 100)\n",
    "\n",
    "\n"
   ]
  },
  {
   "cell_type": "code",
   "execution_count": 260,
   "metadata": {
    "colab": {
     "base_uri": "https://localhost:8080/",
     "height": 54
    },
    "colab_type": "code",
    "id": "aYY0J5Zb10d5",
    "outputId": "ae235646-225f-47c6-8b37-94c2040322ec"
   },
   "outputs": [
    {
     "name": "stdout",
     "output_type": "stream",
     "text": [
      "{'lower': array([ 7,  9, 12, 16, 17, 20, 23, 26, 36, 39]), 'upper': array([965]), 'q_both': [19.474999999999987, 170.63500000000002], 'min-max': [13.36, 202.3770886]}\n"
     ]
    }
   ],
   "source": [
    "plotBiMulti('Food production index (2004-2006 = 100)', \n",
    "            scale_x=True, scale_y=True)\n",
    "print(outlier_check(df['Food production index (2004-2006 = 100)']))"
   ]
  },
  {
   "cell_type": "markdown",
   "metadata": {
    "colab_type": "text",
    "id": "Nox1lQpXb5Dn"
   },
   "source": [
    "## GDP per capita (constant 2010 US$)"
   ]
  },
  {
   "cell_type": "code",
   "execution_count": 0,
   "metadata": {
    "colab": {},
    "colab_type": "code",
    "id": "G7HtJZusUoCA"
   },
   "outputs": [],
   "source": [
    "## GDP per capita (constant 2010 US$)\n",
    "\n",
    "\n"
   ]
  },
  {
   "cell_type": "code",
   "execution_count": 262,
   "metadata": {
    "colab": {
     "base_uri": "https://localhost:8080/",
     "height": 255
    },
    "colab_type": "code",
    "id": "kET47xrc2xFb",
    "outputId": "2b36c14b-8da5-4173-fc63-a8bb36b010a3"
   },
   "outputs": [
    {
     "name": "stdout",
     "output_type": "stream",
     "text": [
      "{'lower': array([], dtype=int64), 'upper': array([ 24,  29,  35,  61,  77,  81,  86,  87,  92,  96, 116, 121, 122,\n",
      "       132, 134, 135, 139, 146, 163, 164, 166, 170, 172, 177, 191, 211,\n",
      "       219, 220, 233, 247, 248, 256, 257, 260, 277, 290, 304, 307, 309,\n",
      "       312, 317, 318, 321, 328, 333, 334, 337, 349, 357, 358, 360, 361,\n",
      "       365, 366, 368, 377, 379, 383, 384, 388, 393, 394, 404, 412, 417,\n",
      "       419, 427, 429, 438, 446, 447, 453, 456, 458, 470, 475, 478, 480,\n",
      "       481, 483, 492, 496, 499, 501, 502, 505, 506, 507, 508, 515, 518,\n",
      "       519, 520, 521, 522, 538, 539, 542, 545, 555, 556, 563, 565, 566,\n",
      "       579, 581, 596, 604, 609, 614, 642, 648, 654, 656, 658, 660, 661,\n",
      "       662, 674, 688, 689, 695, 709, 720, 726, 734, 736, 737, 738, 739,\n",
      "       740, 755, 767, 768, 769, 770, 777, 783, 800, 802, 807, 812, 824,\n",
      "       829, 830, 839, 840, 850, 851, 855, 861, 865, 867, 878, 892, 893,\n",
      "       894, 898, 901, 904, 916, 925, 927, 928, 932, 935, 939, 941, 945,\n",
      "       971, 972, 974, 975, 977]), 'q_both': [-9845.485122749998, 20177.00074325], 'min-max': [141.2763632, 86150.46221]}\n"
     ]
    }
   ],
   "source": [
    "plotBiMulti('GDP per capita (constant 2010 US$)', \n",
    "            scale_x=True, scale_y=True)\n",
    "print(outlier_check(df['GDP per capita (constant 2010 US$)']))"
   ]
  },
  {
   "cell_type": "code",
   "execution_count": 0,
   "metadata": {
    "colab": {},
    "colab_type": "code",
    "id": "6m2hmkhajFEY"
   },
   "outputs": [],
   "source": []
  },
  {
   "cell_type": "markdown",
   "metadata": {
    "colab_type": "text",
    "id": "kvGgbuo1cCAC"
   },
   "source": [
    "## Life expectancy at birth, total (years)"
   ]
  },
  {
   "cell_type": "code",
   "execution_count": 0,
   "metadata": {
    "colab": {},
    "colab_type": "code",
    "id": "W3qyDQlCjf56"
   },
   "outputs": [],
   "source": [
    "### Life expectancy at birth, total (years)\n",
    "\n",
    "\n",
    "\n"
   ]
  },
  {
   "cell_type": "code",
   "execution_count": 264,
   "metadata": {
    "colab": {
     "base_uri": "https://localhost:8080/",
     "height": 105
    },
    "colab_type": "code",
    "id": "D_VzBOiG7eX8",
    "outputId": "35655a3f-1fed-4793-9eb8-41a80548df2b"
   },
   "outputs": [
    {
     "name": "stdout",
     "output_type": "stream",
     "text": [
      "{'lower': array([  5,   7,   9,  12,  15,  16,  17,  20,  23,  26,  31,  33,  38,\n",
      "        41,  42,  43,  44,  53,  76,  84, 101, 102, 107, 114, 128, 140,\n",
      "       150, 154, 173, 197, 202, 228, 237, 326, 392, 464, 465, 593, 630,\n",
      "       675]), 'upper': array([], dtype=int64), 'q_both': [53.64792682499997, 87.95124390500003], 'min-max': [41.762, 84.0997561]}\n"
     ]
    }
   ],
   "source": [
    "plotBiMulti('Life expectancy at birth, total (years)', \n",
    "            scale_x=False, scale_y=True)\n",
    "print(outlier_check(df['Life expectancy at birth, total (years)']))"
   ]
  },
  {
   "cell_type": "markdown",
   "metadata": {
    "colab_type": "text",
    "id": "nEAeAICjcHKX"
   },
   "source": [
    "## POP_MAX_34_ADJ"
   ]
  },
  {
   "cell_type": "code",
   "execution_count": 0,
   "metadata": {
    "colab": {},
    "colab_type": "code",
    "id": "xBxhvYREjf-k"
   },
   "outputs": [],
   "source": [
    "## POP_MAX_34_ADJ\n",
    "\n"
   ]
  },
  {
   "cell_type": "code",
   "execution_count": 266,
   "metadata": {
    "colab": {
     "base_uri": "https://localhost:8080/",
     "height": 156
    },
    "colab_type": "code",
    "id": "NAkW4RTn9KLL",
    "outputId": "96b698d1-1328-4e11-e7a8-ce4d3effc860"
   },
   "outputs": [
    {
     "name": "stdout",
     "output_type": "stream",
     "text": [
      "{'lower': array([], dtype=int64), 'upper': array([ 34,  36,  58, 176, 200, 221, 259, 278, 288, 293, 300, 315, 331,\n",
      "       347, 380, 381, 385, 397, 402, 403, 419, 427, 429, 447, 450, 472,\n",
      "       475, 477, 495, 504, 519, 522, 536, 537, 543, 570, 574, 575, 577,\n",
      "       596, 598, 603, 604, 619, 631, 638, 643, 658, 665, 681, 687, 695,\n",
      "       711, 713, 729, 737, 740, 756, 759, 760, 770, 777, 793, 798, 802,\n",
      "       805, 809, 823, 824, 839, 840, 841, 860, 862, 864, 881, 897, 900,\n",
      "       908, 920, 929, 932, 935, 945, 961, 966, 970, 971, 972, 974]), 'q_both': [-41609129.53625001, 77542042.32975], 'min-max': [0.0, 376497216.0]}\n"
     ]
    }
   ],
   "source": [
    "plotBiMulti('POP_MAX_34_ADJ', \n",
    "            scale_x=True, scale_y=True)\n",
    "print(outlier_check(df['POP_MAX_34_ADJ']))"
   ]
  },
  {
   "cell_type": "markdown",
   "metadata": {
    "colab_type": "text",
    "id": "oWAq2C-AcKqh"
   },
   "source": [
    "## POP_MAX_50_ADJ"
   ]
  },
  {
   "cell_type": "code",
   "execution_count": 0,
   "metadata": {
    "colab": {},
    "colab_type": "code",
    "id": "kYseatlP-kMp"
   },
   "outputs": [],
   "source": [
    "### POP_MAX_50_ADJ\n",
    "\n",
    "\n",
    "\n",
    "\n",
    "\n",
    "\n",
    "\n",
    "\n"
   ]
  },
  {
   "cell_type": "code",
   "execution_count": 268,
   "metadata": {
    "colab": {
     "base_uri": "https://localhost:8080/",
     "height": 156
    },
    "colab_type": "code",
    "id": "rKlcu6Vt95sZ",
    "outputId": "e4de4556-674a-469e-e8c9-c23d00d8538b"
   },
   "outputs": [
    {
     "name": "stdout",
     "output_type": "stream",
     "text": [
      "{'lower': array([], dtype=int64), 'upper': array([ 39, 122, 132, 135, 145, 163, 176, 177, 200, 233, 242, 248, 288,\n",
      "       293, 300, 315, 317, 323, 331, 347, 361, 367, 370, 380, 381, 385,\n",
      "       394, 397, 413, 421, 447, 449, 472, 475, 477, 495, 504, 521, 522,\n",
      "       527, 537, 538, 541, 543, 569, 570, 577, 596, 598, 604, 619, 638,\n",
      "       639, 643, 658, 660, 665, 681, 687, 695, 713, 737, 740, 756, 760,\n",
      "       770, 777, 793, 797, 798, 802, 805, 812, 823, 838, 839, 840, 841,\n",
      "       855, 860, 862, 864, 869, 892, 897, 898, 900, 908, 935, 945]), 'q_both': [-22726869.377499994, 40697566.59449999], 'min-max': [0.0, 322276189.0]}\n"
     ]
    }
   ],
   "source": [
    "plotBiMulti('POP_MAX_50_ADJ', \n",
    "            scale_x=True, scale_y=True)\n",
    "print(outlier_check(df['POP_MAX_50_ADJ']))"
   ]
  },
  {
   "cell_type": "markdown",
   "metadata": {
    "colab_type": "text",
    "id": "QxUkt_I5cNXj"
   },
   "source": [
    "## POP_MAX_64_ADJ"
   ]
  },
  {
   "cell_type": "code",
   "execution_count": 0,
   "metadata": {
    "colab": {},
    "colab_type": "code",
    "id": "Y3OywRiB-r5Y"
   },
   "outputs": [],
   "source": [
    "### ### POP_MAX_64_ADJ\n",
    "\n",
    "\n",
    "\n",
    "    \n",
    "                                            \n",
    "\n",
    "\n"
   ]
  },
  {
   "cell_type": "code",
   "execution_count": 270,
   "metadata": {
    "colab": {
     "base_uri": "https://localhost:8080/",
     "height": 170
    },
    "colab_type": "code",
    "id": "vR1oFv5t-QBE",
    "outputId": "d19d34ac-f1ed-49c3-a52b-a4e1c0d7dbf3"
   },
   "outputs": [
    {
     "name": "stdout",
     "output_type": "stream",
     "text": [
      "{'lower': array([], dtype=int64), 'upper': array([ 39,  50, 108, 122, 163, 200, 221, 242, 259, 288, 289, 293, 300,\n",
      "       313, 315, 331, 347, 361, 380, 381, 385, 397, 413, 415, 421, 427,\n",
      "       429, 475, 477, 501, 504, 507, 519, 521, 522, 536, 537, 538, 543,\n",
      "       550, 569, 570, 574, 575, 577, 583, 598, 604, 619, 631, 638, 639,\n",
      "       643, 658, 660, 665, 667, 670, 681, 687, 695, 696, 703, 706, 711,\n",
      "       713, 729, 737, 740, 756, 758, 760, 770, 777, 778, 790, 793, 797,\n",
      "       798, 805, 823, 825, 829, 838, 839, 840, 841, 855, 860, 864, 869,\n",
      "       871, 882, 891, 892, 897, 898, 899, 900, 908, 925, 935, 937, 945,\n",
      "       964, 966, 971, 973, 974]), 'q_both': [-7936958.950250001, 13966258.90135], 'min-max': [0.0, 107368555.8]}\n"
     ]
    }
   ],
   "source": [
    "plotBiMulti('POP_MAX_64_ADJ', \n",
    "            scale_x=0, scale_y=1)\n",
    "print(outlier_check(df['POP_MAX_64_ADJ']))"
   ]
  },
  {
   "cell_type": "markdown",
   "metadata": {
    "colab_type": "text",
    "id": "snLY-g50cQJC"
   },
   "source": [
    "## Adjusted savings: education expenditure (% of GNI)"
   ]
  },
  {
   "cell_type": "code",
   "execution_count": 0,
   "metadata": {
    "colab": {},
    "colab_type": "code",
    "id": "-o6hyMzgjf4o"
   },
   "outputs": [],
   "source": [
    "## Adjusted savings: education expenditure (% of GNI)\n",
    "\n"
   ]
  },
  {
   "cell_type": "code",
   "execution_count": 272,
   "metadata": {
    "colab": {
     "base_uri": "https://localhost:8080/",
     "height": 71
    },
    "colab_type": "code",
    "id": "IBexQm5z-bIW",
    "outputId": "2f6fd5fd-a9cf-4ea2-ba67-49dc97bbb703"
   },
   "outputs": [
    {
     "name": "stdout",
     "output_type": "stream",
     "text": [
      "{'lower': array([], dtype=int64), 'upper': array([120, 219, 318, 337, 451, 457, 497, 509, 515, 533, 554, 615, 647,\n",
      "       653, 659, 672, 734, 766, 776, 858, 903, 931, 939, 959, 976]), 'q_both': [-1.8457142855, 7.9828571425], 'min-max': [0.538880795, 14.01]}\n"
     ]
    }
   ],
   "source": [
    "plotBiMulti('Adjusted savings: education expenditure (% of GNI)', \n",
    "            scale_x=True, scale_y=True)\n",
    "print(outlier_check(df['Adjusted savings: education expenditure (% of GNI)']))"
   ]
  },
  {
   "cell_type": "markdown",
   "metadata": {
    "colab_type": "text",
    "id": "qFKVknRRcTgV"
   },
   "source": [
    "## Cereal yield (kg per hectare)"
   ]
  },
  {
   "cell_type": "code",
   "execution_count": 0,
   "metadata": {
    "colab": {},
    "colab_type": "code",
    "id": "rm1SkrYujftx"
   },
   "outputs": [],
   "source": [
    "### Cereal yield (kg per hectare)\n",
    "                                            \n",
    "\n",
    "\n",
    "\n",
    "\n"
   ]
  },
  {
   "cell_type": "code",
   "execution_count": 274,
   "metadata": {
    "colab": {
     "base_uri": "https://localhost:8080/",
     "height": 54
    },
    "colab_type": "code",
    "id": "myJLlCVj-uyU",
    "outputId": "ee16525d-6782-495c-e0fe-ee40a8fdeffb"
   },
   "outputs": [
    {
     "name": "stdout",
     "output_type": "stream",
     "text": [
      "{'lower': array([], dtype=int64), 'upper': array([], dtype=int64), 'q_both': [-2268.0999999999995, 9272.699999999999], 'min-max': [393.3, 8900.0]}\n"
     ]
    }
   ],
   "source": [
    "\n",
    "plotBiMulti('Cereal yield (kg per hectare)', \n",
    "            scale_x=0, scale_y=True)\n",
    "print(outlier_check(df['Cereal yield (kg per hectare)']))"
   ]
  },
  {
   "cell_type": "code",
   "execution_count": 275,
   "metadata": {
    "colab": {
     "base_uri": "https://localhost:8080/",
     "height": 54
    },
    "colab_type": "code",
    "id": "24JFzYjFrMao",
    "outputId": "08c4b682-485b-47dd-dc8e-2d1ca7878d57"
   },
   "outputs": [
    {
     "data": {
      "text/plain": [
       "\"\\ndf['CROPL'] = SimpleImputer(missing_values=np.nan, \\n                                            strategy='median').fit_transform(\\n    np.array(df['CROPL']).reshape(-1, 1))\\n\\n##                                \\n                                            \\ndf['FOREST'] = SimpleImputer(missing_values=np.nan, \\n                                            strategy='median').fit_transform(\\n    np.array(df['FOREST']).reshape(-1, 1))\\n                                            \\n ##                                \\n                                            \\ndf['GRSL'] = SimpleImputer(missing_values=np.nan, \\n                                            strategy='median').fit_transform(\\n    np.array(df['GRSL']).reshape(-1, 1))\\n                                            \\n ##                                \\n                                            \\ndf['SHRUBL'] = SimpleImputer(missing_values=np.nan, \\n                                            strategy='median').fit_transform(\\n    np.array(df['SHRUBL']).reshape(-1, 1))\\n                                            \\n ##                                \\n                                            \\ndf['SPARSE_VEGETATION'] = SimpleImputer(missing_values=np.nan, \\n                                            strategy='median').fit_transform(\\n    np.array(df['SPARSE_VEGETATION']).reshape(-1, 1))\\n                                            \\n ##                                \\n                                            \\ndf['WATER'] = SimpleImputer(missing_values=np.nan, \\n                                            strategy='median').fit_transform(\\n    np.array(df['WATER']).reshape(-1, 1))\\n                                            \\n ##                                \\n                                            \\ndf['CROPL'] = SimpleImputer(missing_values=np.nan, \\n                                            strategy='median').fit_transform(\\n    np.array(df['CROPL']).reshape(-1, 1))\\n                                            \\n ##                                \\n                                            \\ndf['WETL'] = SimpleImputer(missing_values=np.nan, \\n                                            strategy='median').fit_transform(\\n    np.array(df['WETL']).reshape(-1, 1))\\n                                             \\n##                                \\n                                            \\ndf['URBAN'] = SimpleImputer(missing_values=np.nan, \\n                                            strategy='median').fit_transform(\\n    np.array(df['URBAN']).reshape(-1, 1))\\n                                            \\n\""
      ]
     },
     "execution_count": 275,
     "metadata": {
      "tags": []
     },
     "output_type": "execute_result"
    }
   ],
   "source": [
    "\n",
    "'''\n",
    "df['CROPL'] = SimpleImputer(missing_values=np.nan, \n",
    "                                            strategy='median').fit_transform(\n",
    "    np.array(df['CROPL']).reshape(-1, 1))\n",
    "\n",
    "##                                \n",
    "                                            \n",
    "df['FOREST'] = SimpleImputer(missing_values=np.nan, \n",
    "                                            strategy='median').fit_transform(\n",
    "    np.array(df['FOREST']).reshape(-1, 1))\n",
    "                                            \n",
    " ##                                \n",
    "                                            \n",
    "df['GRSL'] = SimpleImputer(missing_values=np.nan, \n",
    "                                            strategy='median').fit_transform(\n",
    "    np.array(df['GRSL']).reshape(-1, 1))\n",
    "                                            \n",
    " ##                                \n",
    "                                            \n",
    "df['SHRUBL'] = SimpleImputer(missing_values=np.nan, \n",
    "                                            strategy='median').fit_transform(\n",
    "    np.array(df['SHRUBL']).reshape(-1, 1))\n",
    "                                            \n",
    " ##                                \n",
    "                                            \n",
    "df['SPARSE_VEGETATION'] = SimpleImputer(missing_values=np.nan, \n",
    "                                            strategy='median').fit_transform(\n",
    "    np.array(df['SPARSE_VEGETATION']).reshape(-1, 1))\n",
    "                                            \n",
    " ##                                \n",
    "                                            \n",
    "df['WATER'] = SimpleImputer(missing_values=np.nan, \n",
    "                                            strategy='median').fit_transform(\n",
    "    np.array(df['WATER']).reshape(-1, 1))\n",
    "                                            \n",
    " ##                                \n",
    "                                            \n",
    "df['CROPL'] = SimpleImputer(missing_values=np.nan, \n",
    "                                            strategy='median').fit_transform(\n",
    "    np.array(df['CROPL']).reshape(-1, 1))\n",
    "                                            \n",
    " ##                                \n",
    "                                            \n",
    "df['WETL'] = SimpleImputer(missing_values=np.nan, \n",
    "                                            strategy='median').fit_transform(\n",
    "    np.array(df['WETL']).reshape(-1, 1))\n",
    "                                             \n",
    "##                                \n",
    "                                            \n",
    "df['URBAN'] = SimpleImputer(missing_values=np.nan, \n",
    "                                            strategy='median').fit_transform(\n",
    "    np.array(df['URBAN']).reshape(-1, 1))\n",
    "                                            \n",
    "'''\n",
    "\n"
   ]
  },
  {
   "cell_type": "markdown",
   "metadata": {
    "colab_type": "text",
    "id": "98ZFCMwkF3do"
   },
   "source": [
    "# Numerical Features Without NaNs"
   ]
  },
  {
   "cell_type": "code",
   "execution_count": 0,
   "metadata": {
    "colab": {},
    "colab_type": "code",
    "id": "sfcMzHUQPJRq"
   },
   "outputs": [],
   "source": [
    "#############################################################################\n",
    "#############################################################################\n",
    "################ Numerical Features Without NaNs ############################\n",
    "#############################################################################\n",
    "#############################################################################"
   ]
  },
  {
   "cell_type": "markdown",
   "metadata": {
    "colab_type": "text",
    "id": "EJI9mM-bcV6e"
   },
   "source": [
    "## TOTAL_HOURS_EVENT"
   ]
  },
  {
   "cell_type": "code",
   "execution_count": 0,
   "metadata": {
    "colab": {},
    "colab_type": "code",
    "id": "wTzvSlq_PJY8"
   },
   "outputs": [],
   "source": [
    "## TOTAL_HOURS_EVENT\n",
    "## Further investigate - may be outliers\n",
    "\n",
    "\n"
   ]
  },
  {
   "cell_type": "code",
   "execution_count": 0,
   "metadata": {
    "colab": {},
    "colab_type": "code",
    "id": "BJofvPAP_Oje"
   },
   "outputs": [],
   "source": []
  },
  {
   "cell_type": "markdown",
   "metadata": {
    "colab_type": "text",
    "id": "G-MtpnancYWz"
   },
   "source": [
    "## TOTAL_HOURS_IN_LAND"
   ]
  },
  {
   "cell_type": "code",
   "execution_count": 0,
   "metadata": {
    "colab": {},
    "colab_type": "code",
    "id": "cebfq-7NPJWR"
   },
   "outputs": [],
   "source": [
    "## TOTAL_HOURS_IN_LAND\n",
    "\n",
    "\n"
   ]
  },
  {
   "cell_type": "code",
   "execution_count": 279,
   "metadata": {
    "colab": {
     "base_uri": "https://localhost:8080/",
     "height": 139
    },
    "colab_type": "code",
    "id": "lbJkDJPL_yYR",
    "outputId": "485d6ede-d853-42ce-adaa-66963c47f5a2"
   },
   "outputs": [
    {
     "name": "stdout",
     "output_type": "stream",
     "text": [
      "{'lower': array([], dtype=int64), 'upper': array([  6,  36,  38,  45,  58,  79, 128, 133, 152, 154, 172, 204, 257,\n",
      "       259, 268, 290, 293, 300, 307, 312, 331, 347, 351, 365, 379, 380,\n",
      "       390, 411, 417, 419, 482, 487, 495, 504, 507, 519, 537, 539, 551,\n",
      "       566, 570, 574, 579, 598, 621, 641, 642, 643, 648, 654, 672, 674,\n",
      "       675, 690, 694, 704, 714, 720, 721, 752, 760, 767, 783, 797, 803,\n",
      "       850, 878, 894, 927, 932, 953, 958, 960, 966, 967, 968, 970, 972]), 'q_both': [-36.0, 60.0], 'min-max': [0.0, 333.0]}\n"
     ]
    }
   ],
   "source": [
    "plotBiMulti('TOTAL_HOURS_IN_LAND', \n",
    "            scale_x=0, scale_y=1)\n",
    "print(outlier_check(df['TOTAL_HOURS_IN_LAND']))"
   ]
  },
  {
   "cell_type": "markdown",
   "metadata": {
    "colab_type": "text",
    "id": "vdeRgSFYcaVS"
   },
   "source": [
    "## MONTH_START"
   ]
  },
  {
   "cell_type": "code",
   "execution_count": 0,
   "metadata": {
    "colab": {},
    "colab_type": "code",
    "id": "fN1NQuLp3bfV"
   },
   "outputs": [],
   "source": [
    "### MONTH_START\n"
   ]
  },
  {
   "cell_type": "code",
   "execution_count": 281,
   "metadata": {
    "colab": {
     "base_uri": "https://localhost:8080/",
     "height": 136
    },
    "colab_type": "code",
    "id": "WpyAUAEVAGQG",
    "outputId": "32b056c2-800c-49d5-9d40-39950e1e7ea2"
   },
   "outputs": [
    {
     "name": "stdout",
     "output_type": "stream",
     "text": [
      "{'lower': array([ 38,  41,  44,  52,  53,  61,  73,  74,  75,  84, 103, 119, 120,\n",
      "       140, 141, 150, 151, 152, 153, 160, 161, 172, 186, 196, 197, 198,\n",
      "       209, 210, 237, 252, 286, 309, 326, 327, 343, 377, 388, 389, 390,\n",
      "       442, 443, 444, 461, 462, 463, 465, 487, 488, 528, 563, 564, 593,\n",
      "       626, 627, 628, 674, 719, 720, 721, 748, 749, 750, 751, 752, 783,\n",
      "       784, 785, 786, 818, 819, 820, 847, 848, 849, 850, 851, 879, 914,\n",
      "       951, 952, 953, 985]), 'upper': array([], dtype=int64), 'q_both': [2.5, 14.5], 'min-max': [1, 12]}\n"
     ]
    }
   ],
   "source": [
    "plotBiMulti('MONTH_START', \n",
    "            scale_x=0, scale_y=1)\n",
    "print(outlier_check(df['MONTH_START']))"
   ]
  },
  {
   "cell_type": "markdown",
   "metadata": {
    "colab_type": "text",
    "id": "_1PiS80_ccEY"
   },
   "source": [
    "## MONTH_END"
   ]
  },
  {
   "cell_type": "code",
   "execution_count": 0,
   "metadata": {
    "colab": {},
    "colab_type": "code",
    "id": "Wu4OLGRYB4re"
   },
   "outputs": [],
   "source": [
    "### MONTH_END\n"
   ]
  },
  {
   "cell_type": "code",
   "execution_count": 283,
   "metadata": {
    "colab": {
     "base_uri": "https://localhost:8080/",
     "height": 34
    },
    "colab_type": "code",
    "id": "LP-fMLEHAjLV",
    "outputId": "a02b4c1d-37a2-49fe-b02a-939a166f9576"
   },
   "outputs": [
    {
     "data": {
      "text/plain": [
       "\"plotBiMulti('MONTH_END', \\n            scale_x=0, scale_y=1)\\nprint(outlier_check(df['MONTH_END']))\""
      ]
     },
     "execution_count": 283,
     "metadata": {
      "tags": []
     },
     "output_type": "execute_result"
    }
   ],
   "source": [
    "'''plotBiMulti('MONTH_END', \n",
    "            scale_x=0, scale_y=1)\n",
    "print(outlier_check(df['MONTH_END']))'''"
   ]
  },
  {
   "cell_type": "code",
   "execution_count": 0,
   "metadata": {
    "colab": {},
    "colab_type": "code",
    "id": "bxcX-LkXCKuy"
   },
   "outputs": [],
   "source": []
  },
  {
   "cell_type": "markdown",
   "metadata": {
    "colab_type": "text",
    "id": "CdwLD5U8cdqb"
   },
   "source": [
    "## MAX_WIND"
   ]
  },
  {
   "cell_type": "code",
   "execution_count": 0,
   "metadata": {
    "colab": {},
    "colab_type": "code",
    "id": "D48zD1HJRddu"
   },
   "outputs": [],
   "source": [
    "### MAX_WIND\n",
    "\n"
   ]
  },
  {
   "cell_type": "code",
   "execution_count": 285,
   "metadata": {
    "colab": {
     "base_uri": "https://localhost:8080/",
     "height": 34
    },
    "colab_type": "code",
    "id": "164d-VMXAxyw",
    "outputId": "77d1fea5-5d52-48a0-9696-d17a0e5e7e51"
   },
   "outputs": [
    {
     "name": "stdout",
     "output_type": "stream",
     "text": [
      "{'lower': array([], dtype=int64), 'upper': array([], dtype=int64), 'q_both': [-22.5, 197.5], 'min-max': [0.0, 185.0]}\n"
     ]
    }
   ],
   "source": [
    "plotBiMulti('MAX_WIND', \n",
    "            scale_x=0, scale_y=1)\n",
    "print(outlier_check(df['MAX_WIND']))"
   ]
  },
  {
   "cell_type": "markdown",
   "metadata": {
    "colab_type": "text",
    "id": "9juZ7iDPcf0C"
   },
   "source": [
    "## MIN_PRES"
   ]
  },
  {
   "cell_type": "code",
   "execution_count": 0,
   "metadata": {
    "colab": {},
    "colab_type": "code",
    "id": "4HUD9mHyCWv0"
   },
   "outputs": [],
   "source": [
    "### MIN_PRES\n"
   ]
  },
  {
   "cell_type": "code",
   "execution_count": 287,
   "metadata": {
    "colab": {
     "base_uri": "https://localhost:8080/",
     "height": 71
    },
    "colab_type": "code",
    "id": "d3ThixFAA_yL",
    "outputId": "8039f806-e6e0-4ea4-9d57-96e15019f54e"
   },
   "outputs": [
    {
     "name": "stdout",
     "output_type": "stream",
     "text": [
      "{'lower': array([  2,   5,  15,  35,  38,  41,  43,  44,  53,  61,  64,  75,  76,\n",
      "        84, 136, 139, 148, 377, 388, 749, 873]), 'upper': array([], dtype=int64), 'q_both': [872.5, 1044.5], 'min-max': [0, 1013]}\n"
     ]
    }
   ],
   "source": [
    "plotBiMulti('MIN_PRES', \n",
    "            scale_x=0, scale_y=1)\n",
    "print(outlier_check(df['MIN_PRES']))"
   ]
  },
  {
   "cell_type": "markdown",
   "metadata": {
    "colab_type": "text",
    "id": "8gC5IzJAch6S"
   },
   "source": [
    "## MIN_DIST2LAND"
   ]
  },
  {
   "cell_type": "code",
   "execution_count": 0,
   "metadata": {
    "colab": {},
    "colab_type": "code",
    "id": "Xquluy2NRdbl"
   },
   "outputs": [],
   "source": [
    "### MIN_DIST2LAND\n",
    "\n",
    "\n",
    "\n"
   ]
  },
  {
   "cell_type": "code",
   "execution_count": 289,
   "metadata": {
    "colab": {
     "base_uri": "https://localhost:8080/",
     "height": 306
    },
    "colab_type": "code",
    "id": "YkQvuINGBZNV",
    "outputId": "40eb2d88-d825-4b26-c378-6eb2e51e25c4"
   },
   "outputs": [
    {
     "name": "stdout",
     "output_type": "stream",
     "text": [
      "{'lower': array([], dtype=int64), 'upper': array([ 24,  27,  29,  31,  35,  42,  48,  57,  61,  65,  68,  70,  86,\n",
      "        92, 103, 104, 114, 115, 120, 121, 123, 124, 130, 131, 139, 140,\n",
      "       141, 142, 144, 149, 153, 161, 162, 167, 170, 177, 179, 180, 186,\n",
      "       192, 193, 196, 198, 199, 202, 209, 210, 218, 219, 222, 223, 230,\n",
      "       231, 236, 241, 256, 260, 263, 265, 266, 267, 271, 276, 286, 291,\n",
      "       294, 298, 299, 302, 310, 314, 316, 317, 318, 329, 335, 338, 341,\n",
      "       344, 345, 369, 371, 372, 376, 377, 378, 389, 394, 395, 401, 402,\n",
      "       404, 414, 418, 420, 423, 443, 444, 448, 454, 455, 456, 461, 467,\n",
      "       469, 478, 483, 484, 492, 493, 498, 500, 502, 503, 505, 506, 509,\n",
      "       510, 511, 512, 513, 517, 518, 523, 524, 531, 532, 534, 546, 552,\n",
      "       554, 556, 560, 572, 578, 585, 594, 599, 600, 601, 602, 617, 620,\n",
      "       623, 635, 644, 646, 650, 655, 656, 657, 661, 664, 676, 684, 688,\n",
      "       699, 708, 710, 718, 719, 723, 727, 730, 731, 735, 736, 750, 764,\n",
      "       768, 771, 774, 779, 781, 784, 788, 804, 807, 812, 818, 819, 822,\n",
      "       828, 832, 833, 849, 852, 854, 858, 865, 866, 875, 880, 883, 886,\n",
      "       896, 901, 909, 911, 917, 919, 922, 928, 930, 931, 940, 943, 948,\n",
      "       950, 952, 955, 956, 959, 963, 976, 986, 987, 988]), 'q_both': [0.0, 0.0], 'min-max': [0, 199]}\n"
     ]
    }
   ],
   "source": [
    "plotBiMulti('MIN_DIST2LAND', \n",
    "            scale_x=0, scale_y=1)\n",
    "print(outlier_check(df['MIN_DIST2LAND']))"
   ]
  },
  {
   "cell_type": "code",
   "execution_count": 0,
   "metadata": {
    "colab": {},
    "colab_type": "code",
    "id": "Wh2XrBcTwy6z"
   },
   "outputs": [],
   "source": []
  },
  {
   "cell_type": "markdown",
   "metadata": {
    "colab_type": "text",
    "id": "DkL8UlrvckXN"
   },
   "source": [
    "## MAX_STORMSPEED"
   ]
  },
  {
   "cell_type": "code",
   "execution_count": 0,
   "metadata": {
    "colab": {},
    "colab_type": "code",
    "id": "di6VJmqRRdZL"
   },
   "outputs": [],
   "source": [
    "### MAX_STORMSPEED\n"
   ]
  },
  {
   "cell_type": "code",
   "execution_count": 291,
   "metadata": {
    "colab": {
     "base_uri": "https://localhost:8080/",
     "height": 136
    },
    "colab_type": "code",
    "id": "4yDvfAPSBq2w",
    "outputId": "6efe93d6-44e8-414f-e22d-fcee866c87d6"
   },
   "outputs": [
    {
     "name": "stdout",
     "output_type": "stream",
     "text": [
      "{'lower': array([983]), 'upper': array([  8,  21,  25,  27,  34,  75,  92, 116, 121, 122, 123, 135, 146,\n",
      "       160, 163, 164, 177, 191, 220, 233, 236, 248, 259, 261, 265, 266,\n",
      "       288, 293, 307, 317, 321, 328, 349, 361, 366, 368, 379, 384, 447,\n",
      "       453, 461, 463, 475, 478, 480, 483, 485, 492, 499, 501, 508, 521,\n",
      "       522, 542, 555, 556, 569, 570, 658, 660, 689, 740, 770, 802, 812,\n",
      "       824, 839, 840, 855, 880, 892, 893, 916, 935, 941, 945, 971, 974,\n",
      "       975, 977]), 'q_both': [1.0, 33.0], 'min-max': [0.0, 69.0]}\n"
     ]
    }
   ],
   "source": [
    "plotBiMulti('MAX_STORMSPEED', \n",
    "            scale_x=0, scale_y=1)\n",
    "print(outlier_check(df['MAX_STORMSPEED']))"
   ]
  },
  {
   "cell_type": "markdown",
   "metadata": {
    "colab_type": "text",
    "id": "sxNd7y3lcmKN"
   },
   "source": [
    "## V_LAND_KN"
   ]
  },
  {
   "cell_type": "code",
   "execution_count": 292,
   "metadata": {
    "colab": {
     "base_uri": "https://localhost:8080/",
     "height": 1000
    },
    "colab_type": "code",
    "id": "ajrM1k68RdXT",
    "outputId": "a8c48c94-4a8f-4446-c2f7-f76acbac8ca3"
   },
   "outputs": [
    {
     "name": "stderr",
     "output_type": "stream",
     "text": [
      "/usr/local/lib/python3.6/dist-packages/plotnine/stats/stat_bin.py:93: PlotnineWarning: 'stat_bin()' using 'bins = 68'. Pick better value with 'binwidth'.\n",
      "  warn(msg.format(params['bins']), PlotnineWarning)\n"
     ]
    },
    {
     "data": {
      "image/png": "[encoded data removed]",
      "text/plain": [
       "<Figure size 640x480 with 1 Axes>"
      ]
     },
     "metadata": {
      "tags": []
     },
     "output_type": "display_data"
    },
    {
     "name": "stdout",
     "output_type": "stream",
     "text": [
      "<ggplot: (8754638804758)>\n"
     ]
    },
    {
     "name": "stderr",
     "output_type": "stream",
     "text": [
      "/usr/local/lib/python3.6/dist-packages/plotnine/stats/stat_bin.py:93: PlotnineWarning: 'stat_bin()' using 'bins = 15'. Pick better value with 'binwidth'.\n",
      "  warn(msg.format(params['bins']), PlotnineWarning)\n"
     ]
    },
    {
     "data": {
      "image/png": "[encoded data removed]",
      "text/plain": [
       "<Figure size 640x480 with 1 Axes>"
      ]
     },
     "metadata": {
      "tags": []
     },
     "output_type": "display_data"
    },
    {
     "name": "stdout",
     "output_type": "stream",
     "text": [
      "<ggplot: (-9223363282204241194)>\n"
     ]
    }
   ],
   "source": [
    "### V_LAND_KN\n",
    "print(ggplot(df, aes(x='V_LAND_KN'))\n",
    " + geom_histogram(fill='darkred')\n",
    " + scale_x_log10())\n",
    "\n",
    "df['V_LAND_KN'] = SimpleImputer(missing_values=110691.0, \n",
    "                                                        strategy='median').fit_transform(np.array(\n",
    "    df['V_LAND_KN']).reshape(-1, 1))                   \n",
    "\n",
    "print(ggplot(df, aes(x='V_LAND_KN'))\n",
    " + geom_histogram(fill='darkred')\n",
    " + scale_x_log10())   \n",
    "\n",
    "\n"
   ]
  },
  {
   "cell_type": "code",
   "execution_count": 293,
   "metadata": {
    "colab": {
     "base_uri": "https://localhost:8080/",
     "height": 54
    },
    "colab_type": "code",
    "id": "35k491E8B_iS",
    "outputId": "2b8fa749-83be-4286-90b3-86f8793460f6"
   },
   "outputs": [
    {
     "name": "stdout",
     "output_type": "stream",
     "text": [
      "{'lower': array([], dtype=int64), 'upper': array([], dtype=int64), 'q_both': [-16.124999999999986, 194.075], 'min-max': [30.0, 171.8]}\n"
     ]
    }
   ],
   "source": [
    "plotBiMulti('V_LAND_KN', \n",
    "            scale_x=0, scale_y=1)\n",
    "print(outlier_check(df['V_LAND_KN']))"
   ]
  },
  {
   "cell_type": "markdown",
   "metadata": {
    "colab_type": "text",
    "id": "25qJsR6Pcnnr"
   },
   "source": [
    "## MAX_USA_SSHS"
   ]
  },
  {
   "cell_type": "code",
   "execution_count": 294,
   "metadata": {
    "colab": {
     "base_uri": "https://localhost:8080/",
     "height": 519
    },
    "colab_type": "code",
    "id": "twResU63HKKZ",
    "outputId": "537f0229-3b2a-47b9-dbc6-ac6bee56df42"
   },
   "outputs": [
    {
     "name": "stderr",
     "output_type": "stream",
     "text": [
      "/usr/local/lib/python3.6/dist-packages/plotnine/stats/stat_bin.py:93: PlotnineWarning: 'stat_bin()' using 'bins = 14'. Pick better value with 'binwidth'.\n",
      "  warn(msg.format(params['bins']), PlotnineWarning)\n"
     ]
    },
    {
     "data": {
      "image/png": "[encoded data removed]",
      "text/plain": [
       "<Figure size 640x480 with 1 Axes>"
      ]
     },
     "metadata": {
      "tags": []
     },
     "output_type": "display_data"
    },
    {
     "name": "stdout",
     "output_type": "stream",
     "text": [
      "<ggplot: (-9223363282215971012)>\n"
     ]
    }
   ],
   "source": [
    "### MAX_USA_SSHS\n",
    "print(ggplot(df, aes(x='MAX_USA_SSHS'))\n",
    " + geom_histogram(fill='darkred'))"
   ]
  },
  {
   "cell_type": "code",
   "execution_count": 295,
   "metadata": {
    "colab": {
     "base_uri": "https://localhost:8080/",
     "height": 34
    },
    "colab_type": "code",
    "id": "2GDaZw9MHbh3",
    "outputId": "15816668-31ab-4940-a84a-ef4ccd5035c9"
   },
   "outputs": [
    {
     "name": "stdout",
     "output_type": "stream",
     "text": [
      "{'lower': array([], dtype=int64), 'upper': array([], dtype=int64), 'q_both': [-6.0, 10.0], 'min-max': [-6, 5]}\n"
     ]
    }
   ],
   "source": [
    "plotBiMulti('MAX_USA_SSHS', \n",
    "            scale_x=0, scale_y=1)\n",
    "print(outlier_check(df['MAX_USA_SSHS']))"
   ]
  },
  {
   "cell_type": "markdown",
   "metadata": {
    "colab_type": "text",
    "id": "VVDGa0IwcpvN"
   },
   "source": [
    "## POP_DEN_SQ_KM"
   ]
  },
  {
   "cell_type": "code",
   "execution_count": 296,
   "metadata": {
    "colab": {
     "base_uri": "https://localhost:8080/",
     "height": 465
    },
    "colab_type": "code",
    "id": "LxuiL1TIRdT-",
    "outputId": "e68a1240-839c-41ea-bc23-fcf2345d230a"
   },
   "outputs": [
    {
     "data": {
      "image/png": "[encoded data removed]",
      "text/plain": [
       "<Figure size 640x480 with 1 Axes>"
      ]
     },
     "metadata": {
      "tags": []
     },
     "output_type": "display_data"
    },
    {
     "name": "stdout",
     "output_type": "stream",
     "text": [
      "<ggplot: (8754639169877)>\n"
     ]
    }
   ],
   "source": [
    "### POP_DEN_SQ_KM\n",
    "\n",
    "\n",
    "print(ggplot(df, aes(x='POP_DEN_SQ_KM'))\n",
    " + geom_histogram(fill='darkred', binwidth=0.1)\n",
    " + scale_x_log10())\n",
    "\n",
    "df['POP_DEN_SQ_KM'] = np.log10(df['POP_DEN_SQ_KM'] + 1)\n",
    "\n",
    "df[\"pop_break\"] = np.where(df['POP_DEN_SQ_KM'].between(1, 2), 1, 0)\n",
    "df[\"pop_break_two\"] = np.where(df['POP_DEN_SQ_KM'].between(2, 3), 1, 0)"
   ]
  },
  {
   "cell_type": "code",
   "execution_count": 297,
   "metadata": {
    "colab": {
     "base_uri": "https://localhost:8080/",
     "height": 54
    },
    "colab_type": "code",
    "id": "4plLe-W0C8nQ",
    "outputId": "d7d1eff9-5449-4846-ad88-d4212e2bae22"
   },
   "outputs": [
    {
     "name": "stdout",
     "output_type": "stream",
     "text": [
      "{'lower': array([ 61,  92, 172, 211, 309, 328, 377, 379, 388, 393, 417]), 'upper': array([], dtype=int64), 'q_both': [0.548792780081591, 3.6478786143215736], 'min-max': [0.44404479591807633, 3.104145550554008]}\n"
     ]
    }
   ],
   "source": [
    "plotBiMulti('POP_DEN_SQ_KM', \n",
    "            scale_x=0, scale_y=1)\n",
    "print(outlier_check(df['POP_DEN_SQ_KM']))"
   ]
  },
  {
   "cell_type": "markdown",
   "metadata": {
    "colab_type": "text",
    "id": "fC4e8wQzcsz3"
   },
   "source": [
    "## RURAL_POP(%)"
   ]
  },
  {
   "cell_type": "code",
   "execution_count": 0,
   "metadata": {
    "colab": {},
    "colab_type": "code",
    "id": "dS-D3MqMRdRV"
   },
   "outputs": [],
   "source": [
    "### RURAL_POP(%)\n",
    "\n"
   ]
  },
  {
   "cell_type": "code",
   "execution_count": 299,
   "metadata": {
    "colab": {
     "base_uri": "https://localhost:8080/",
     "height": 54
    },
    "colab_type": "code",
    "id": "7Mf6W4W3DEgS",
    "outputId": "66541532-cb48-499a-c223-1d89faf2a6f9"
   },
   "outputs": [
    {
     "name": "stdout",
     "output_type": "stream",
     "text": [
      "{'lower': array([], dtype=int64), 'upper': array([], dtype=int64), 'q_both': [-36.925000000000004, 126.47500000000001], 'min-max': [0.0, 92.4]}\n"
     ]
    }
   ],
   "source": [
    "plotBiMulti('RURAL_POP(%)', \n",
    "            scale_x=1, scale_y=1)\n",
    "print(outlier_check(df['RURAL_POP(%)']))"
   ]
  },
  {
   "cell_type": "markdown",
   "metadata": {
    "colab_type": "text",
    "id": "36YyLGv2cvQE"
   },
   "source": [
    "## DISTANCE_TRACK"
   ]
  },
  {
   "cell_type": "code",
   "execution_count": 0,
   "metadata": {
    "colab": {},
    "colab_type": "code",
    "id": "wxCbp8HNRdO8"
   },
   "outputs": [],
   "source": [
    "### DISTANCE_TRACK\n",
    "\n",
    "\n",
    "#df['DISTANCE_TRACK'] = np.log10(df['DISTANCE_TRACK'] + 1)\n",
    "\n",
    "df = df.drop(columns=['DISTANCE_TRACK'])"
   ]
  },
  {
   "cell_type": "code",
   "execution_count": 0,
   "metadata": {
    "colab": {},
    "colab_type": "code",
    "id": "ZnQXHNjYDTS3"
   },
   "outputs": [],
   "source": [
    "#plotBiMulti('DISTANCE_TRACK', \n",
    "            #scale_x=1, scale_y=1)\n",
    "#print(outlier_check(df['DISTANCE_TRACK']))"
   ]
  },
  {
   "cell_type": "markdown",
   "metadata": {
    "colab_type": "text",
    "id": "BB4UN4hKcw3u"
   },
   "source": [
    "## DISTANCE_TRACK_VINCENTY"
   ]
  },
  {
   "cell_type": "code",
   "execution_count": 0,
   "metadata": {
    "colab": {},
    "colab_type": "code",
    "id": "zlbHERzzJIsc"
   },
   "outputs": [],
   "source": [
    "## DISTANCE_TRACK_VINCENTY\n",
    "\n",
    "\n",
    "\n",
    "\n",
    "df['DISTANCE_TRACK_VINCENTY'] = np.log(df['DISTANCE_TRACK_VINCENTY'] + 1)\n",
    "\n",
    "df = df.drop(columns=['DISTANCE_TRACK_VINCENTY'])"
   ]
  },
  {
   "cell_type": "code",
   "execution_count": 0,
   "metadata": {
    "colab": {},
    "colab_type": "code",
    "id": "WTy-b8wSDgfL"
   },
   "outputs": [],
   "source": [
    "#plotBiMulti('DISTANCE_TRACK_VINCENTY', \n",
    "            #scale_x=0, scale_y=1)\n",
    "#print(outlier_check(df['DISTANCE_TRACK_VINCENTY']))"
   ]
  },
  {
   "cell_type": "markdown",
   "metadata": {
    "colab_type": "text",
    "id": "eu98cv3Vcyav"
   },
   "source": [
    "## HDI"
   ]
  },
  {
   "cell_type": "code",
   "execution_count": 0,
   "metadata": {
    "colab": {},
    "colab_type": "code",
    "id": "Na1GouWwJiAK"
   },
   "outputs": [],
   "source": [
    "## HDI\n",
    "\n"
   ]
  },
  {
   "cell_type": "code",
   "execution_count": 305,
   "metadata": {
    "colab": {
     "base_uri": "https://localhost:8080/",
     "height": 54
    },
    "colab_type": "code",
    "id": "p75weXHGDsrh",
    "outputId": "c20a6626-551d-42bc-ab2f-bf5f98fbfb8f"
   },
   "outputs": [
    {
     "name": "stdout",
     "output_type": "stream",
     "text": [
      "{'lower': array([101, 150, 197, 326, 392, 465, 986, 989]), 'upper': array([], dtype=int64), 'q_both': [0.3439999999999999, 1.0], 'min-max': [0.217, 0.937]}\n"
     ]
    }
   ],
   "source": [
    "plotBiMulti('HDI', \n",
    "            scale_x=0, scale_y=1)\n",
    "print(outlier_check(df['HDI']))"
   ]
  },
  {
   "cell_type": "code",
   "execution_count": 0,
   "metadata": {
    "colab": {},
    "colab_type": "code",
    "id": "-exMMd4jgwCM"
   },
   "outputs": [],
   "source": [
    "### Inpute features in bulk\n",
    "\n",
    "df[\"MAX_STORMSPEED\"]= df[\"MAX_STORMSPEED\"].replace(0, np.nan) \n",
    "df[\"MIN_PRES\"]= df[\"MIN_PRES\"].replace(0, np.nan) \n",
    "\n",
    "\n",
    "df[\"RURAL_POP(%)\"]= df[\"RURAL_POP(%)\"].replace(0, np.nan) \n",
    "df[\"RURAL_POP(%)\"]= df[\"RURAL_POP(%)\"].replace(0.8, np.nan) \n",
    "\n",
    "\n",
    "\n",
    "\n",
    "\n",
    "\n",
    "median_cols = ['MAX_STORMSPEED', \n",
    "'Arable land (hectares per person)', \n",
    "'Food production index (2004-2006 = 100)', \n",
    "'GDP per capita (constant 2010 US$)', \n",
    "'Life expectancy at birth, total (years)',\n",
    "'Adjusted savings: education expenditure (% of GNI)',\n",
    "'Cereal yield (kg per hectare)',\n",
    "'MIN_PRES',\n",
    "'RURAL_POP(%)',\n",
    "'Arable land (hectares per person)', \n",
    "'POP_MAX_34_ADJ', \n",
    "'POP_MAX_50_ADJ', \n",
    "'POP_MAX_64_ADJ']\n",
    "\n",
    "median_imputer = SimpleImputer(missing_values=np.nan, \n",
    "                               strategy='median').fit(df[median_cols])\n",
    "\n",
    "df[median_cols] = median_imputer.transform(df[median_cols])\n",
    "\n",
    "\n",
    "df['Expectancy_break'] = np.where(\n",
    "    df['Life expectancy at birth, total (years)'] > 67, 1, 0)\n",
    "\n",
    "\n",
    "df[\"cereal_break\"] = np.where(df['Cereal yield (kg per hectare)'].between(2500, 5000), 1, 0)\n",
    "df[\"cereal_break_two\"] = np.where(df['Cereal yield (kg per hectare)'] > 3650.0, 1, 0)\n",
    "\n",
    "\n",
    "df[\"rural_break\"] = np.where(df['RURAL_POP(%)'] < 37.5, 1, 0)\n",
    "df[\"rural_break_two\"] = np.where(df['RURAL_POP(%)'].between(37.5, 62.5), 1, 0)\n",
    "df[\"rural_break_three\"] = np.where(df['RURAL_POP(%)'] > 62.5, 1, 0)\n",
    "\n",
    "\n",
    "df[\"rural_break_four\"] = np.where(df['RURAL_POP(%)'] > 37.5, 1, 0)\n",
    "\n",
    "\n",
    "df['dis2land_bin'] = np.where(df['MIN_DIST2LAND'] == 0, 1, 0)\n"
   ]
  },
  {
   "cell_type": "code",
   "execution_count": 0,
   "metadata": {
    "colab": {},
    "colab_type": "code",
    "id": "HV2DZqU0_ZzP"
   },
   "outputs": [],
   "source": [
    "# Dump Median imputer\n",
    "pickle.dump(median_imputer, open(\"median.imp\", 'wb')) "
   ]
  },
  {
   "cell_type": "code",
   "execution_count": 0,
   "metadata": {
    "colab": {},
    "colab_type": "code",
    "id": "aEijYmLajohd"
   },
   "outputs": [],
   "source": [
    "'''log_cols = ['TOTAL_HOURS_EVENT', 'TOTAL_HOURS_IN_LAND', \n",
    "            'POP_DEN_SQ_KM', 'Arable land (hectares per person)']\n",
    "\n",
    "for each in log_cols:\n",
    "  df[each] = np.log(df[each] + 1)'''\n",
    "\n",
    "\n",
    "df[\"pop_break\"] = np.where(df['POP_DEN_SQ_KM'].between(1, 2), 1, 0)\n",
    "df[\"pop_break_two\"] = np.where(df['POP_DEN_SQ_KM'].between(2, 3), 1, 0)\n"
   ]
  },
  {
   "cell_type": "markdown",
   "metadata": {
    "colab_type": "text",
    "id": "W76NdlwHF6hM"
   },
   "source": [
    "# Categorical Variables"
   ]
  },
  {
   "cell_type": "code",
   "execution_count": 0,
   "metadata": {
    "colab": {},
    "colab_type": "code",
    "id": "6AncOy5dRdMG"
   },
   "outputs": [],
   "source": [
    "#############################################################################\n",
    "#############################################################################\n",
    "################ Categorical Variables ######################################\n",
    "#############################################################################\n",
    "#############################################################################"
   ]
  },
  {
   "cell_type": "markdown",
   "metadata": {
    "colab_type": "text",
    "id": "-8WgHTjDc0Sz"
   },
   "source": [
    "## GENERAL_CATEGORY"
   ]
  },
  {
   "cell_type": "code",
   "execution_count": 0,
   "metadata": {
    "colab": {},
    "colab_type": "code",
    "id": "1EcnAe6pKo6l"
   },
   "outputs": [],
   "source": [
    "\n",
    "\n",
    "plotBiMulti_cat('GENERAL_CATEGORY')"
   ]
  },
  {
   "cell_type": "code",
   "execution_count": 0,
   "metadata": {
    "colab": {},
    "colab_type": "code",
    "id": "CmbJCAwXxp9V"
   },
   "outputs": [],
   "source": []
  },
  {
   "cell_type": "code",
   "execution_count": 0,
   "metadata": {
    "colab": {},
    "colab_type": "code",
    "id": "MUR9VJ9ryBVb"
   },
   "outputs": [],
   "source": []
  },
  {
   "cell_type": "markdown",
   "metadata": {
    "colab_type": "text",
    "id": "bLjEv81pc62y"
   },
   "source": [
    "## NATURE"
   ]
  },
  {
   "cell_type": "code",
   "execution_count": 0,
   "metadata": {
    "colab": {},
    "colab_type": "code",
    "id": "Uk6yu8_BKfG-"
   },
   "outputs": [],
   "source": [
    "#### NATURE\n",
    "\n",
    "\n",
    "plotBiMulti_cat('NATURE')"
   ]
  },
  {
   "cell_type": "code",
   "execution_count": 0,
   "metadata": {
    "colab": {},
    "colab_type": "code",
    "id": "vSNOQh-byufB"
   },
   "outputs": [],
   "source": []
  },
  {
   "cell_type": "markdown",
   "metadata": {
    "colab_type": "text",
    "id": "5llsQHJVc8ks"
   },
   "source": [
    "## MAX_USA_SSHS_INLAND"
   ]
  },
  {
   "cell_type": "code",
   "execution_count": 0,
   "metadata": {
    "colab": {},
    "colab_type": "code",
    "id": "y4QHDo5ERdJX"
   },
   "outputs": [],
   "source": [
    "### MAX_USA_SSHS_INLAND\n",
    "df['MAX_USA_SSHS_INLAND'] = df['MAX_USA_SSHS_INLAND'].astype('object')\n",
    "\n",
    "## Get Frequency Mapping\n",
    "MAX_SSHS_dict = {x: df['MAX_USA_SSHS_INLAND'].value_counts()[x] \n",
    "                 for x in df['MAX_USA_SSHS_INLAND'].value_counts().index}\n",
    "\n",
    "df['SSH_Freq'] = df['MAX_USA_SSHS_INLAND'].map(MAX_SSHS_dict)\n",
    "\n"
   ]
  },
  {
   "cell_type": "code",
   "execution_count": 313,
   "metadata": {
    "colab": {
     "base_uri": "https://localhost:8080/",
     "height": 238
    },
    "colab_type": "code",
    "id": "OiFh1p4y9GMX",
    "outputId": "c7deeb4f-1431-4020-ede9-4bc81785efc0"
   },
   "outputs": [
    {
     "data": {
      "text/plain": [
       "{-7: 218,\n",
       " -6: 1,\n",
       " -5: 2,\n",
       " -4: 8,\n",
       " -3: 7,\n",
       " -2: 2,\n",
       " -1: 97,\n",
       " 0: 272,\n",
       " 1: 161,\n",
       " 2: 91,\n",
       " 3: 80,\n",
       " 4: 43,\n",
       " 5: 9}"
      ]
     },
     "execution_count": 313,
     "metadata": {
      "tags": []
     },
     "output_type": "execute_result"
    }
   ],
   "source": [
    "MAX_SSHS_dict"
   ]
  },
  {
   "cell_type": "code",
   "execution_count": 0,
   "metadata": {
    "colab": {},
    "colab_type": "code",
    "id": "kFd8JsXN7qAE"
   },
   "outputs": [],
   "source": [
    "\n",
    "\n",
    "\n",
    "plotBiMulti_cat('MAX_USA_SSHS_INLAND')"
   ]
  },
  {
   "cell_type": "markdown",
   "metadata": {
    "colab_type": "text",
    "id": "6Za2m5Vxc-Mo"
   },
   "source": [
    "## BASIN"
   ]
  },
  {
   "cell_type": "code",
   "execution_count": 0,
   "metadata": {
    "colab": {},
    "colab_type": "code",
    "id": "PpJedkTa7kfs"
   },
   "outputs": [],
   "source": [
    "### BASIN\n",
    "\n",
    "plotBiMulti_cat('BASIN')"
   ]
  },
  {
   "cell_type": "code",
   "execution_count": 0,
   "metadata": {
    "colab": {},
    "colab_type": "code",
    "id": "TwhlL8-uy_6B"
   },
   "outputs": [],
   "source": []
  },
  {
   "cell_type": "markdown",
   "metadata": {
    "colab_type": "text",
    "id": "_Ahun_ezdAJv"
   },
   "source": [
    "## SUB BASIN"
   ]
  },
  {
   "cell_type": "code",
   "execution_count": 0,
   "metadata": {
    "colab": {},
    "colab_type": "code",
    "id": "Iu4GlCJtAHyx"
   },
   "outputs": [],
   "source": [
    "### SUB BASIN\n",
    "\n",
    "plotBiMulti_cat('SUB BASIN')"
   ]
  },
  {
   "cell_type": "code",
   "execution_count": 0,
   "metadata": {
    "colab": {},
    "colab_type": "code",
    "id": "d5a5-u4OzgLg"
   },
   "outputs": [],
   "source": []
  },
  {
   "cell_type": "markdown",
   "metadata": {
    "colab_type": "text",
    "id": "jdm_Z6HedDPJ"
   },
   "source": [
    "## Income_level_Final"
   ]
  },
  {
   "cell_type": "code",
   "execution_count": 0,
   "metadata": {
    "colab": {},
    "colab_type": "code",
    "id": "pdZSr693AH5t"
   },
   "outputs": [],
   "source": [
    "# Income_level_Final\n",
    "\n",
    "\n",
    "\n",
    "plotBiMulti_cat('Income_level_Final')"
   ]
  },
  {
   "cell_type": "code",
   "execution_count": 0,
   "metadata": {
    "colab": {},
    "colab_type": "code",
    "id": "xMnLYTygkXnJ"
   },
   "outputs": [],
   "source": [
    "### Final Trans\n",
    "\n",
    "\n",
    "df['NEW_GEN_CAT'] = np.where(df['GENERAL_CATEGORY'] == 'Cat 1', 1, 0)\n",
    "df['NEW_GEN_CAT'] = np.where(df['GENERAL_CATEGORY'] == 'TS', 2, 0)\n",
    "df['NEW_GEN_CAT'] = df['NEW_GEN_CAT'].astype('object')\n",
    "\n",
    "\n",
    "df['NEW_NATURE'] = np.where(df['NATURE'] == 'TS', 1, 0)\n",
    "df['NEW_NATURE'] = np.where(df['NATURE'] == 'ET', 1, 0)\n",
    "\n",
    "\n",
    "df['NEW_BASIN'] = np.where(df['BASIN'] == 'SP', 1, 0)\n",
    "df['NEW_BASIN'] = np.where(df['BASIN'] == 'WP', 2, 0)\n",
    "df['NEW_BASIN'] = df['NEW_BASIN'].astype('object')\n",
    "\n",
    "\n",
    "df['NEW_SUB BASIN'] = np.where(df['SUB BASIN'] == 'EP', 1, 0)\n",
    "df['NEW_SUB BASIN'] = np.where(df['SUB BASIN'] == 'NAm', 2, 0)\n",
    "df['NEW_SUB BASIN'] = np.where(df['SUB BASIN'] == 'CS', 3, 0)\n",
    "df['NEW_SUB BASIN'] = df['NEW_SUB BASIN'].astype('object')\n",
    "\n",
    "\n",
    "df['NEW_Income_level_Final'] = np.where(df['Income_level_Final'] == 'Low_Middle', 1, 0)\n",
    "df['NEW_Income_level_Final'] = np.where(df['Income_level_Final'] == 'High_Middle', 2, 0)\n",
    "df['NEW_Income_level_Final'] = df['NEW_Income_level_Final'].astype('object')\n",
    "\n",
    "\n",
    "df[\"SUBGEN\"] = df['NEW_SUB BASIN'] + df['NEW_GEN_CAT']\n",
    "df[\"SUBINCOME\"] = df['NEW_SUB BASIN'] + df['NEW_Income_level_Final']"
   ]
  },
  {
   "cell_type": "code",
   "execution_count": 0,
   "metadata": {
    "colab": {},
    "colab_type": "code",
    "id": "msYi6R0gz15O"
   },
   "outputs": [],
   "source": []
  },
  {
   "cell_type": "code",
   "execution_count": 0,
   "metadata": {
    "colab": {},
    "colab_type": "code",
    "id": "-e4RuwXyBikm"
   },
   "outputs": [],
   "source": [
    "# Make Categorical\n",
    "df['MONTH_START'] = df['MONTH_START'].astype(\"object\")"
   ]
  },
  {
   "cell_type": "markdown",
   "metadata": {
    "colab_type": "text",
    "id": "ReN1qwZOF91H"
   },
   "source": [
    "# Target Variable"
   ]
  },
  {
   "cell_type": "markdown",
   "metadata": {
    "colab_type": "text",
    "id": "bHPIMttGdMnC"
   },
   "source": []
  },
  {
   "cell_type": "code",
   "execution_count": 320,
   "metadata": {
    "colab": {
     "base_uri": "https://localhost:8080/",
     "height": 967
    },
    "colab_type": "code",
    "id": "xbJzG8vYBukR",
    "outputId": "a134e07a-854c-4aa3-aaa5-a5756e4a4b57"
   },
   "outputs": [
    {
     "name": "stderr",
     "output_type": "stream",
     "text": [
      "/usr/local/lib/python3.6/dist-packages/plotnine/stats/stat_bin.py:93: PlotnineWarning: 'stat_bin()' using 'bins = 608'. Pick better value with 'binwidth'.\n",
      "  warn(msg.format(params['bins']), PlotnineWarning)\n"
     ]
    },
    {
     "data": {
      "image/png": "[encoded data removed]",
      "text/plain": [
       "<Figure size 640x480 with 1 Axes>"
      ]
     },
     "metadata": {
      "tags": []
     },
     "output_type": "display_data"
    },
    {
     "name": "stdout",
     "output_type": "stream",
     "text": [
      "<ggplot: (8754650534341)>\n"
     ]
    },
    {
     "data": {
      "image/png": "[encoded data removed]",
      "text/plain": [
       "<Figure size 640x480 with 1 Axes>"
      ]
     },
     "metadata": {
      "tags": []
     },
     "output_type": "display_data"
    },
    {
     "name": "stdout",
     "output_type": "stream",
     "text": [
      "<ggplot: (-9223363282215960923)>\n"
     ]
    }
   ],
   "source": [
    "#############################################################################\n",
    "#############################################################################\n",
    "################ Target Variable ############################################\n",
    "#############################################################################\n",
    "#############################################################################\n",
    "print(ggplot(df, aes(x='TOTAL_AFFECTED'))\n",
    " + geom_histogram(fill=\"#E69F00\"))\n",
    "\n",
    "print(ggplot(df, aes(x='TOTAL_AFFECTED'))\n",
    " + geom_histogram(fill=\"#E69F00\", binwidth=0.1)\n",
    " + scale_x_log10())\n",
    "\n",
    "df['TOTAL_AFFECTED'] = np.log10(df['TOTAL_AFFECTED'])"
   ]
  },
  {
   "cell_type": "code",
   "execution_count": 0,
   "metadata": {
    "colab": {},
    "colab_type": "code",
    "id": "FrgKle2x0qO2"
   },
   "outputs": [],
   "source": []
  },
  {
   "cell_type": "code",
   "execution_count": 0,
   "metadata": {
    "colab": {},
    "colab_type": "code",
    "id": "yJX6PsvDuFCB"
   },
   "outputs": [],
   "source": [
    "\n",
    "df = df.drop(columns=['Income_level_Final', 'BASIN', 'SUB BASIN', 'NATURE', 'GENERAL_CATEGORY'])\n",
    "\n",
    "#df['MAX_USA_SSHS_INLAND'] = df['MAX_USA_SSHS_INLAND'].astype('int')"
   ]
  },
  {
   "cell_type": "code",
   "execution_count": 0,
   "metadata": {
    "colab": {},
    "colab_type": "code",
    "id": "T7DMf1iblM48"
   },
   "outputs": [],
   "source": []
  },
  {
   "cell_type": "code",
   "execution_count": 322,
   "metadata": {
    "colab": {
     "base_uri": "https://localhost:8080/",
     "height": 51
    },
    "colab_type": "code",
    "id": "CrEByJ7oln03",
    "outputId": "c5bbbe3a-9d00-4687-fbc5-f0673a5b97d9"
   },
   "outputs": [
    {
     "data": {
      "text/plain": [
       "OneHotEncoder(categories='auto', drop=None, dtype=<class 'numpy.float64'>,\n",
       "              handle_unknown='ignore', sparse=False)"
      ]
     },
     "execution_count": 322,
     "metadata": {
      "tags": []
     },
     "output_type": "execute_result"
    }
   ],
   "source": [
    "object_columns = [col for col in df.columns.values if df[col].dtype == 'object']\n",
    "\n",
    "enc = OneHotEncoder(handle_unknown='ignore', sparse=False)\n",
    "enc.fit(df[object_columns])"
   ]
  },
  {
   "cell_type": "code",
   "execution_count": 127,
   "metadata": {
    "colab": {
     "base_uri": "https://localhost:8080/",
     "height": 153
    },
    "colab_type": "code",
    "id": "P2v91X6VlM1d",
    "outputId": "ccfdabfe-e0f4-4de5-9510-050e9a96975b"
   },
   "outputs": [
    {
     "data": {
      "text/plain": [
       "['MONTH_START',\n",
       " 'MAX_USA_SSHS_INLAND',\n",
       " 'NEW_GEN_CAT',\n",
       " 'NEW_BASIN',\n",
       " 'NEW_SUB BASIN',\n",
       " 'NEW_Income_level_Final',\n",
       " 'SUBGEN',\n",
       " 'SUBINCOME']"
      ]
     },
     "execution_count": 127,
     "metadata": {
      "tags": []
     },
     "output_type": "execute_result"
    }
   ],
   "source": [
    "object_columns"
   ]
  },
  {
   "cell_type": "code",
   "execution_count": 0,
   "metadata": {
    "colab": {},
    "colab_type": "code",
    "id": "Q3KNS-XyI5DN"
   },
   "outputs": [],
   "source": [
    "pickle.dump(enc, open(\"enc.encoder\", 'wb')) "
   ]
  },
  {
   "cell_type": "code",
   "execution_count": 0,
   "metadata": {
    "colab": {},
    "colab_type": "code",
    "id": "Vf9sq4flkxwT"
   },
   "outputs": [],
   "source": [
    "\n",
    "###dummies = pd.get_dummies(df[object_columns]) old way\n",
    "\n",
    "dummies = enc.transform(df[object_columns])\n",
    "dummies = pd.DataFrame(data=dummies, \n",
    "                       columns=pd.get_dummies(df[object_columns]).columns.values)\n",
    "\n",
    "df_dummies = pd.concat([df, dummies], axis=1)\n",
    "df_dummies = df_dummies.drop(columns=object_columns)"
   ]
  },
  {
   "cell_type": "code",
   "execution_count": 130,
   "metadata": {
    "colab": {
     "base_uri": "https://localhost:8080/",
     "height": 272
    },
    "colab_type": "code",
    "id": "Qii6x7s65OH9",
    "outputId": "1f248d43-c755-4684-bb28-1a739f7870a6"
   },
   "outputs": [
    {
     "data": {
      "text/plain": [
       "array(['MONTH_START_1', 'MONTH_START_2', 'MONTH_START_3', 'MONTH_START_4',\n",
       "       'MONTH_START_5', 'MONTH_START_6', 'MONTH_START_7', 'MONTH_START_8',\n",
       "       'MONTH_START_9', 'MONTH_START_10', 'MONTH_START_11',\n",
       "       'MONTH_START_12', 'MAX_USA_SSHS_INLAND_-7',\n",
       "       'MAX_USA_SSHS_INLAND_-6', 'MAX_USA_SSHS_INLAND_-5',\n",
       "       'MAX_USA_SSHS_INLAND_-4', 'MAX_USA_SSHS_INLAND_-3',\n",
       "       'MAX_USA_SSHS_INLAND_-2', 'MAX_USA_SSHS_INLAND_-1',\n",
       "       'MAX_USA_SSHS_INLAND_0', 'MAX_USA_SSHS_INLAND_1',\n",
       "       'MAX_USA_SSHS_INLAND_2', 'MAX_USA_SSHS_INLAND_3',\n",
       "       'MAX_USA_SSHS_INLAND_4', 'MAX_USA_SSHS_INLAND_5', 'NEW_GEN_CAT_0',\n",
       "       'NEW_GEN_CAT_2', 'NEW_BASIN_0', 'NEW_BASIN_2', 'NEW_SUB BASIN_0',\n",
       "       'NEW_SUB BASIN_3', 'NEW_Income_level_Final_0',\n",
       "       'NEW_Income_level_Final_2', 'SUBGEN_0', 'SUBGEN_2', 'SUBGEN_3',\n",
       "       'SUBGEN_5', 'SUBINCOME_0', 'SUBINCOME_2', 'SUBINCOME_3',\n",
       "       'SUBINCOME_5'], dtype=object)"
      ]
     },
     "execution_count": 130,
     "metadata": {
      "tags": []
     },
     "output_type": "execute_result"
    }
   ],
   "source": [
    "pd.get_dummies(df[object_columns]).columns.values"
   ]
  },
  {
   "cell_type": "code",
   "execution_count": 0,
   "metadata": {
    "colab": {},
    "colab_type": "code",
    "id": "vDWrhfl5uGcf"
   },
   "outputs": [],
   "source": [
    "## Split data\n",
    "features = [x for x in df_dummies.columns.values if x != 'TOTAL_AFFECTED']\n",
    "\n",
    "\n",
    "X_train, X_test, y_train, y_test = train_test_split(\n",
    "    df_dummies[features], df_dummies['TOTAL_AFFECTED'], \n",
    "    test_size=0.2, random_state=42)"
   ]
  },
  {
   "cell_type": "code",
   "execution_count": 0,
   "metadata": {
    "colab": {},
    "colab_type": "code",
    "id": "OaRS70uFgPyQ"
   },
   "outputs": [],
   "source": []
  },
  {
   "cell_type": "code",
   "execution_count": 128,
   "metadata": {
    "colab": {
     "base_uri": "https://localhost:8080/",
     "height": 1000
    },
    "colab_type": "code",
    "id": "tZAc5yuD0ApA",
    "outputId": "ce37cdfd-d262-40b3-d449-c6ff41a432a2"
   },
   "outputs": [
    {
     "data": {
      "text/plain": [
       "['YEAR',\n",
       " 'TOTAL_HOURS_IN_LAND',\n",
       " 'MAX_WIND',\n",
       " 'MIN_PRES',\n",
       " 'MIN_DIST2LAND',\n",
       " 'MAX_STORMSPEED',\n",
       " 'MAX_USA_SSHS',\n",
       " 'V_LAND_KN',\n",
       " 'POP_DEN_SQ_KM',\n",
       " 'RURAL_POP(%)',\n",
       " 'HDI',\n",
       " 'Arable land (hectares per person)',\n",
       " 'Cereal yield (kg per hectare)',\n",
       " 'Food production index (2004-2006 = 100)',\n",
       " 'GDP per capita (constant 2010 US$)',\n",
       " 'Net flows from UN agencies US$',\n",
       " 'Life expectancy at birth, total (years)',\n",
       " 'Adjusted savings: education expenditure (% of GNI)',\n",
       " 'POP_MAX_34_ADJ',\n",
       " 'POP_MAX_50_ADJ',\n",
       " 'POP_MAX_64_ADJ',\n",
       " 'MAX_SSH_7',\n",
       " 'MAX_SSH_SS',\n",
       " 'pop_break',\n",
       " 'pop_break_two',\n",
       " 'Expectancy_break',\n",
       " 'cereal_break',\n",
       " 'cereal_break_two',\n",
       " 'rural_break',\n",
       " 'rural_break_two',\n",
       " 'rural_break_three',\n",
       " 'rural_break_four',\n",
       " 'dis2land_bin',\n",
       " 'SSH_Freq',\n",
       " 'NEW_NATURE',\n",
       " 'MONTH_START_1',\n",
       " 'MONTH_START_2',\n",
       " 'MONTH_START_3',\n",
       " 'MONTH_START_4',\n",
       " 'MONTH_START_5',\n",
       " 'MONTH_START_6',\n",
       " 'MONTH_START_7',\n",
       " 'MONTH_START_8',\n",
       " 'MONTH_START_9',\n",
       " 'MONTH_START_10',\n",
       " 'MONTH_START_11',\n",
       " 'MONTH_START_12',\n",
       " 'MAX_USA_SSHS_INLAND_-7',\n",
       " 'MAX_USA_SSHS_INLAND_-6',\n",
       " 'MAX_USA_SSHS_INLAND_-5',\n",
       " 'MAX_USA_SSHS_INLAND_-4',\n",
       " 'MAX_USA_SSHS_INLAND_-3',\n",
       " 'MAX_USA_SSHS_INLAND_-2',\n",
       " 'MAX_USA_SSHS_INLAND_-1',\n",
       " 'MAX_USA_SSHS_INLAND_0',\n",
       " 'MAX_USA_SSHS_INLAND_1',\n",
       " 'MAX_USA_SSHS_INLAND_2',\n",
       " 'MAX_USA_SSHS_INLAND_3',\n",
       " 'MAX_USA_SSHS_INLAND_4',\n",
       " 'MAX_USA_SSHS_INLAND_5',\n",
       " 'NEW_GEN_CAT_0',\n",
       " 'NEW_GEN_CAT_2',\n",
       " 'NEW_BASIN_0',\n",
       " 'NEW_BASIN_2',\n",
       " 'NEW_SUB BASIN_0',\n",
       " 'NEW_SUB BASIN_3',\n",
       " 'NEW_Income_level_Final_0',\n",
       " 'NEW_Income_level_Final_2',\n",
       " 'SUBGEN_0',\n",
       " 'SUBGEN_2',\n",
       " 'SUBGEN_3',\n",
       " 'SUBGEN_5',\n",
       " 'SUBINCOME_0',\n",
       " 'SUBINCOME_2',\n",
       " 'SUBINCOME_3',\n",
       " 'SUBINCOME_5']"
      ]
     },
     "execution_count": 128,
     "metadata": {
      "tags": []
     },
     "output_type": "execute_result"
    }
   ],
   "source": [
    "features"
   ]
  },
  {
   "cell_type": "code",
   "execution_count": 129,
   "metadata": {
    "colab": {
     "base_uri": "https://localhost:8080/",
     "height": 153
    },
    "colab_type": "code",
    "id": "3791Lv-OgIip",
    "outputId": "ecaec7a0-55f2-4fd5-dd10-c8256c855a8d"
   },
   "outputs": [
    {
     "data": {
      "text/plain": [
       "['MONTH_START',\n",
       " 'MAX_USA_SSHS_INLAND',\n",
       " 'NEW_GEN_CAT',\n",
       " 'NEW_BASIN',\n",
       " 'NEW_SUB BASIN',\n",
       " 'NEW_Income_level_Final',\n",
       " 'SUBGEN',\n",
       " 'SUBINCOME']"
      ]
     },
     "execution_count": 129,
     "metadata": {
      "tags": []
     },
     "output_type": "execute_result"
    }
   ],
   "source": [
    "object_columns"
   ]
  },
  {
   "cell_type": "code",
   "execution_count": 0,
   "metadata": {
    "colab": {},
    "colab_type": "code",
    "id": "FOAY8wZVuH8j"
   },
   "outputs": [],
   "source": [
    "# Standard scaler\n",
    "scaler = StandardScaler()\n",
    "scaled_X = scaler.fit_transform(X_train)"
   ]
  },
  {
   "cell_type": "code",
   "execution_count": 0,
   "metadata": {
    "colab": {},
    "colab_type": "code",
    "id": "UIvYuHdtxyQ9"
   },
   "outputs": [],
   "source": [
    "'''from sklearn.preprocessing import RobustScaler\n",
    "# Standard scaler\n",
    "scaler = RobustScaler()\n",
    "scaled_X = scaler.fit_transform(X_train)'''"
   ]
  },
  {
   "cell_type": "markdown",
   "metadata": {
    "colab_type": "text",
    "id": "ND-rq5tVquhu"
   },
   "source": [
    "# Clustering\n",
    "\n",
    "\n"
   ]
  },
  {
   "cell_type": "markdown",
   "metadata": {
    "colab_type": "text",
    "id": "skPXQDGu1OXG"
   },
   "source": [
    "## KMEANS"
   ]
  },
  {
   "cell_type": "code",
   "execution_count": 326,
   "metadata": {
    "colab": {
     "base_uri": "https://localhost:8080/",
     "height": 170
    },
    "colab_type": "code",
    "id": "zW_LBBRtybwe",
    "outputId": "02529058-2350-4ad6-9aaf-3f9022eb5651"
   },
   "outputs": [
    {
     "name": "stdout",
     "output_type": "stream",
     "text": [
      "2 -- 0.0999875076262445\n",
      "3 -- 0.11360082869812246\n",
      "4 -- 0.11114451214003646\n",
      "5 -- 0.11503101905313329\n",
      "6 -- 0.0995743578675544\n",
      "7 -- 0.1054664489517942\n",
      "8 -- 0.11674950227472639\n",
      "9 -- 0.11760572556319361\n",
      "10 -- 0.12705636238961338\n"
     ]
    }
   ],
   "source": [
    "for n_cluster in range(2, 11):\n",
    "  km = KMeans(n_clusters=n_cluster, random_state=42).fit(scaled_X)\n",
    "  print('{} -- {}'.format(n_cluster, silhouette_score(scaled_X, km.labels_)))"
   ]
  },
  {
   "cell_type": "code",
   "execution_count": 327,
   "metadata": {
    "colab": {
     "base_uri": "https://localhost:8080/",
     "height": 68
    },
    "colab_type": "code",
    "id": "tkrU0XkOcyYx",
    "outputId": "13962d00-f44f-46a2-a8b6-169acf6b4f8a"
   },
   "outputs": [
    {
     "data": {
      "text/plain": [
       "KMeans(algorithm='auto', copy_x=True, init='k-means++', max_iter=300,\n",
       "       n_clusters=2, n_init=10, n_jobs=None, precompute_distances='auto',\n",
       "       random_state=42, tol=0.0001, verbose=0)"
      ]
     },
     "execution_count": 327,
     "metadata": {
      "tags": []
     },
     "output_type": "execute_result"
    }
   ],
   "source": [
    "km = KMeans(n_clusters=2, random_state=42).fit(scaled_X)\n",
    "km.fit(scaled_X)"
   ]
  },
  {
   "cell_type": "code",
   "execution_count": 0,
   "metadata": {
    "colab": {},
    "colab_type": "code",
    "id": "mvtUhhV-ZsHY"
   },
   "outputs": [],
   "source": [
    "pickle.dump(km, open(\"kmeans.cluster\", 'wb')) \n",
    "pickle.dump(scaler, open(\"scale.scaler\", 'wb')) "
   ]
  },
  {
   "cell_type": "markdown",
   "metadata": {
    "colab_type": "text",
    "id": "iBcFR9Yc1SN_"
   },
   "source": [
    "## PCA"
   ]
  },
  {
   "cell_type": "code",
   "execution_count": 328,
   "metadata": {
    "colab": {
     "base_uri": "https://localhost:8080/",
     "height": 465
    },
    "colab_type": "code",
    "id": "eQ4YGEDNrCk_",
    "outputId": "9f9ad08a-b218-4ead-bd6e-c1de274ed779"
   },
   "outputs": [
    {
     "data": {
      "image/png": "[encoded data removed]",
      "text/plain": [
       "<Figure size 640x480 with 1 Axes>"
      ]
     },
     "metadata": {
      "tags": []
     },
     "output_type": "display_data"
    },
    {
     "name": "stdout",
     "output_type": "stream",
     "text": [
      "<ggplot: (8754637745798)>\n"
     ]
    }
   ],
   "source": [
    "pca = PCA(n_components=2)\n",
    "pca.fit(scaled_X)\n",
    "\n",
    "scaled_X_pca = pca.transform(scaled_X)\n",
    "\n",
    "pca_df = pd.DataFrame({\"Labels\": km.labels_, \n",
    "                       \"Feature_1\": scaled_X_pca[:, 0], \n",
    "                       \"Feature_2\": scaled_X_pca[:, 1]})\n",
    "\n",
    "print(ggplot(pca_df, aes(x='Feature_1', y='Feature_2', fill=\"factor(Labels)\"))\n",
    " + geom_point())"
   ]
  },
  {
   "cell_type": "code",
   "execution_count": 0,
   "metadata": {
    "colab": {},
    "colab_type": "code",
    "id": "FPTW63iK10Df"
   },
   "outputs": [],
   "source": [
    "## Join Clustering Labels\n",
    "scaled_X_Kmeans = np.column_stack((scaled_X, km.labels_.reshape(-1, 1)))"
   ]
  },
  {
   "cell_type": "markdown",
   "metadata": {
    "colab_type": "text",
    "id": "7FXXs88zGK7e"
   },
   "source": [
    "# Modeling"
   ]
  },
  {
   "cell_type": "markdown",
   "metadata": {
    "colab_type": "text",
    "id": "CfmpTyRRdVEA"
   },
   "source": [
    "## Model Architecture"
   ]
  },
  {
   "cell_type": "code",
   "execution_count": 0,
   "metadata": {
    "colab": {},
    "colab_type": "code",
    "id": "_ney73oAuJrM"
   },
   "outputs": [],
   "source": [
    "# Model Architecture\n",
    "def build_model():\n",
    "  clf = Sequential()\n",
    "\n",
    "  clf.add(Dense(32, kernel_initializer='random_normal', input_shape=(scaled_X_Kmeans.shape[1], )))\n",
    "  clf.add(BatchNormalization())\n",
    "  clf.add(LeakyReLU(0.2))\n",
    "\n",
    "  clf.add(Dense(64, kernel_initializer='random_normal'))\n",
    "  clf.add(BatchNormalization())\n",
    "  clf.add(LeakyReLU(0.2))\n",
    "  \n",
    "\n",
    "  clf.add(Dense(1, kernel_initializer='random_normal'))\n",
    "\n",
    "  optim = optimizers.RMSprop(learning_rate=0.0001)\n",
    "  clf.compile(loss='mse', optimizer=optim, metrics=['mae'])\n",
    "\n",
    "  return(clf)"
   ]
  },
  {
   "cell_type": "code",
   "execution_count": 0,
   "metadata": {
    "colab": {},
    "colab_type": "code",
    "id": "f68nBl6ejfvE"
   },
   "outputs": [],
   "source": [
    "def build_model():\n",
    "  clf = Sequential()\n",
    "\n",
    "  clf.add(Dense(16, kernel_initializer='random_normal', input_shape=(scaled_X_Kmeans.shape[1], )))\n",
    "  clf.add(BatchNormalization())\n",
    "  clf.add(ReLU())\n",
    "\n",
    "  clf.add(Dense(32, kernel_initializer='random_normal'))\n",
    "  clf.add(ReLU())\n",
    "  clf.add(Dropout(0.45))\n",
    "  \n",
    "  clf.add(Dense(64, kernel_initializer='random_normal'))\n",
    "  clf.add(BatchNormalization())\n",
    "  clf.add(ReLU())\n",
    "\n",
    "  clf.add(Dense(128, kernel_initializer='random_normal'))\n",
    "  clf.add(BatchNormalization())\n",
    "  clf.add(Dropout(0.3))\n",
    "\n",
    "  clf.add(Dense(256, kernel_initializer='random_normal'))\n",
    "  clf.add(BatchNormalization())\n",
    "  clf.add(ReLU())\n",
    "\n",
    "  clf.add(Dense(512, kernel_initializer='random_normal'))\n",
    "  clf.add(BatchNormalization()) ## 512 ----\n",
    "  clf.add(ReLU())\n",
    "\n",
    "  clf.add(Dense(1, kernel_initializer='random_normal'))\n",
    "\n",
    "  optim = optimizers.RMSprop(learning_rate=0.00001)\n",
    "  clf.compile(loss='mse', optimizer=optim, metrics=['mae'])\n",
    "\n",
    "  return(clf)"
   ]
  },
  {
   "cell_type": "markdown",
   "metadata": {
    "colab_type": "text",
    "id": "7w0Qt59pdYfn"
   },
   "source": [
    "## Loss & Callback"
   ]
  },
  {
   "cell_type": "code",
   "execution_count": 0,
   "metadata": {
    "colab": {},
    "colab_type": "code",
    "id": "TTSgOHy-uTIy"
   },
   "outputs": [],
   "source": [
    "## Loss & Optimizer setup\n",
    "keras_model = build_model()\n",
    "callback = [EarlyStopping(monitor='val_loss', patience=400, \n",
    "                                              verbose=1, mode='min'), \n",
    "            ModelCheckpoint('model.sve', monitor='val_loss', verbose=True, \n",
    "                            save_best_only=True, mode='min')]"
   ]
  },
  {
   "cell_type": "markdown",
   "metadata": {
    "colab_type": "text",
    "id": "xaS6yvPedb3c"
   },
   "source": [
    "## Train model"
   ]
  },
  {
   "cell_type": "code",
   "execution_count": 335,
   "metadata": {
    "colab": {
     "base_uri": "https://localhost:8080/",
     "height": 1000
    },
    "colab_type": "code",
    "id": "qYCYfqIiuU-x",
    "outputId": "4bd7429a-83d5-4aa6-df60-551d951f9215"
   },
   "outputs": [
    {
     "name": "stdout",
     "output_type": "stream",
     "text": [
      "Train on 633 samples, validate on 159 samples\n",
      "Epoch 1/1000\n",
      "633/633 [==============================] - 1s 1ms/step - loss: 26.7709 - mae: 4.9362 - val_loss: 19.2776 - val_mae: 4.2095\n",
      "\n",
      "Epoch 00001: val_loss improved from inf to 19.27764, saving model to model.sve\n",
      "Epoch 2/1000\n",
      "633/633 [==============================] - 0s 207us/step - loss: 26.3589 - mae: 4.8902 - val_loss: 19.6302 - val_mae: 4.2512\n",
      "\n",
      "Epoch 00002: val_loss did not improve from 19.27764\n",
      "Epoch 3/1000\n",
      "633/633 [==============================] - 0s 183us/step - loss: 25.8028 - mae: 4.8540 - val_loss: 19.9609 - val_mae: 4.2899\n",
      "\n",
      "Epoch 00003: val_loss did not improve from 19.27764\n",
      "Epoch 4/1000\n",
      "633/633 [==============================] - 0s 193us/step - loss: 25.2497 - mae: 4.8004 - val_loss: 20.2869 - val_mae: 4.3278\n",
      "\n",
      "Epoch 00004: val_loss did not improve from 19.27764\n",
      "Epoch 5/1000\n",
      "633/633 [==============================] - 0s 179us/step - loss: 24.8543 - mae: 4.7514 - val_loss: 20.5262 - val_mae: 4.3553\n",
      "\n",
      "Epoch 00005: val_loss did not improve from 19.27764\n",
      "Epoch 6/1000\n",
      "633/633 [==============================] - 0s 180us/step - loss: 24.3987 - mae: 4.7089 - val_loss: 20.7139 - val_mae: 4.3768\n",
      "\n",
      "Epoch 00006: val_loss did not improve from 19.27764\n",
      "Epoch 7/1000\n",
      "633/633 [==============================] - 0s 227us/step - loss: 23.9426 - mae: 4.6699 - val_loss: 20.9029 - val_mae: 4.3984\n",
      "\n",
      "Epoch 00007: val_loss did not improve from 19.27764\n",
      "Epoch 8/1000\n",
      "633/633 [==============================] - 0s 182us/step - loss: 23.5497 - mae: 4.6267 - val_loss: 21.0720 - val_mae: 4.4176\n",
      "\n",
      "Epoch 00008: val_loss did not improve from 19.27764\n",
      "Epoch 9/1000\n",
      "633/633 [==============================] - 0s 189us/step - loss: 23.0174 - mae: 4.5739 - val_loss: 21.1847 - val_mae: 4.4304\n",
      "\n",
      "Epoch 00009: val_loss did not improve from 19.27764\n",
      "Epoch 10/1000\n",
      "633/633 [==============================] - 0s 184us/step - loss: 22.8543 - mae: 4.5442 - val_loss: 21.2297 - val_mae: 4.4355\n",
      "\n",
      "Epoch 00010: val_loss did not improve from 19.27764\n",
      "Epoch 11/1000\n",
      "633/633 [==============================] - 0s 183us/step - loss: 22.3398 - mae: 4.4990 - val_loss: 21.1828 - val_mae: 4.4301\n",
      "\n",
      "Epoch 00011: val_loss did not improve from 19.27764\n",
      "Epoch 12/1000\n",
      "633/633 [==============================] - 0s 194us/step - loss: 21.7633 - mae: 4.4394 - val_loss: 21.0758 - val_mae: 4.4180\n",
      "\n",
      "Epoch 00012: val_loss did not improve from 19.27764\n",
      "Epoch 13/1000\n",
      "633/633 [==============================] - 0s 180us/step - loss: 21.6277 - mae: 4.4186 - val_loss: 20.9414 - val_mae: 4.4028\n",
      "\n",
      "Epoch 00013: val_loss did not improve from 19.27764\n",
      "Epoch 14/1000\n",
      "633/633 [==============================] - 0s 181us/step - loss: 21.0701 - mae: 4.3571 - val_loss: 20.7735 - val_mae: 4.3837\n",
      "\n",
      "Epoch 00014: val_loss did not improve from 19.27764\n",
      "Epoch 15/1000\n",
      "633/633 [==============================] - 0s 190us/step - loss: 20.6184 - mae: 4.3156 - val_loss: 20.6037 - val_mae: 4.3643\n",
      "\n",
      "Epoch 00015: val_loss did not improve from 19.27764\n",
      "Epoch 16/1000\n",
      "633/633 [==============================] - 0s 173us/step - loss: 20.3949 - mae: 4.2793 - val_loss: 20.4182 - val_mae: 4.3431\n",
      "\n",
      "Epoch 00016: val_loss did not improve from 19.27764\n",
      "Epoch 17/1000\n",
      "633/633 [==============================] - 0s 180us/step - loss: 20.0053 - mae: 4.2270 - val_loss: 20.1829 - val_mae: 4.3160\n",
      "\n",
      "Epoch 00017: val_loss did not improve from 19.27764\n",
      "Epoch 18/1000\n",
      "633/633 [==============================] - 0s 174us/step - loss: 19.5254 - mae: 4.1820 - val_loss: 19.8356 - val_mae: 4.2757\n",
      "\n",
      "Epoch 00018: val_loss did not improve from 19.27764\n",
      "Epoch 19/1000\n",
      "633/633 [==============================] - 0s 172us/step - loss: 19.2537 - mae: 4.1464 - val_loss: 19.5733 - val_mae: 4.2450\n",
      "\n",
      "Epoch 00019: val_loss did not improve from 19.27764\n",
      "Epoch 20/1000\n",
      "633/633 [==============================] - 0s 179us/step - loss: 18.7911 - mae: 4.0886 - val_loss: 19.2575 - val_mae: 4.2077\n",
      "\n",
      "Epoch 00020: val_loss improved from 19.27764 to 19.25748, saving model to model.sve\n",
      "Epoch 21/1000\n",
      "633/633 [==============================] - 0s 179us/step - loss: 18.5781 - mae: 4.0511 - val_loss: 18.9326 - val_mae: 4.1690\n",
      "\n",
      "Epoch 00021: val_loss improved from 19.25748 to 18.93258, saving model to model.sve\n",
      "Epoch 22/1000\n",
      "633/633 [==============================] - 0s 187us/step - loss: 17.9667 - mae: 4.0098 - val_loss: 18.5627 - val_mae: 4.1245\n",
      "\n",
      "Epoch 00022: val_loss improved from 18.93258 to 18.56269, saving model to model.sve\n",
      "Epoch 23/1000\n",
      "633/633 [==============================] - 0s 188us/step - loss: 17.6895 - mae: 3.9629 - val_loss: 18.1907 - val_mae: 4.0790\n",
      "\n",
      "Epoch 00023: val_loss improved from 18.56269 to 18.19071, saving model to model.sve\n",
      "Epoch 24/1000\n",
      "633/633 [==============================] - 0s 212us/step - loss: 17.4350 - mae: 3.9249 - val_loss: 17.8452 - val_mae: 4.0364\n",
      "\n",
      "Epoch 00024: val_loss improved from 18.19071 to 17.84520, saving model to model.sve\n",
      "Epoch 25/1000\n",
      "633/633 [==============================] - 0s 176us/step - loss: 17.0772 - mae: 3.8739 - val_loss: 17.4904 - val_mae: 3.9920\n",
      "\n",
      "Epoch 00025: val_loss improved from 17.84520 to 17.49040, saving model to model.sve\n",
      "Epoch 26/1000\n",
      "633/633 [==============================] - 0s 184us/step - loss: 16.7377 - mae: 3.8430 - val_loss: 17.2073 - val_mae: 3.9563\n",
      "\n",
      "Epoch 00026: val_loss improved from 17.49040 to 17.20734, saving model to model.sve\n",
      "Epoch 27/1000\n",
      "633/633 [==============================] - 0s 216us/step - loss: 16.2910 - mae: 3.7912 - val_loss: 16.7747 - val_mae: 3.9009\n",
      "\n",
      "Epoch 00027: val_loss improved from 17.20734 to 16.77474, saving model to model.sve\n",
      "Epoch 28/1000\n",
      "633/633 [==============================] - 0s 180us/step - loss: 16.0957 - mae: 3.7525 - val_loss: 16.4180 - val_mae: 3.8552\n",
      "\n",
      "Epoch 00028: val_loss improved from 16.77474 to 16.41796, saving model to model.sve\n",
      "Epoch 29/1000\n",
      "633/633 [==============================] - 0s 196us/step - loss: 15.6584 - mae: 3.7138 - val_loss: 16.1243 - val_mae: 3.8178\n",
      "\n",
      "Epoch 00029: val_loss improved from 16.41796 to 16.12429, saving model to model.sve\n",
      "Epoch 30/1000\n",
      "633/633 [==============================] - 0s 172us/step - loss: 15.4164 - mae: 3.6704 - val_loss: 15.7566 - val_mae: 3.7699\n",
      "\n",
      "Epoch 00030: val_loss improved from 16.12429 to 15.75660, saving model to model.sve\n",
      "Epoch 31/1000\n",
      "633/633 [==============================] - 0s 186us/step - loss: 15.0086 - mae: 3.6115 - val_loss: 15.4385 - val_mae: 3.7278\n",
      "\n",
      "Epoch 00031: val_loss improved from 15.75660 to 15.43848, saving model to model.sve\n",
      "Epoch 32/1000\n",
      "633/633 [==============================] - 0s 182us/step - loss: 14.8398 - mae: 3.5820 - val_loss: 15.1858 - val_mae: 3.6941\n",
      "\n",
      "Epoch 00032: val_loss improved from 15.43848 to 15.18577, saving model to model.sve\n",
      "Epoch 33/1000\n",
      "633/633 [==============================] - 0s 199us/step - loss: 14.4661 - mae: 3.5412 - val_loss: 14.8892 - val_mae: 3.6542\n",
      "\n",
      "Epoch 00033: val_loss improved from 15.18577 to 14.88916, saving model to model.sve\n",
      "Epoch 34/1000\n",
      "633/633 [==============================] - 0s 175us/step - loss: 14.0966 - mae: 3.4860 - val_loss: 14.5284 - val_mae: 3.6053\n",
      "\n",
      "Epoch 00034: val_loss improved from 14.88916 to 14.52841, saving model to model.sve\n",
      "Epoch 35/1000\n",
      "633/633 [==============================] - 0s 189us/step - loss: 13.8873 - mae: 3.4545 - val_loss: 14.2249 - val_mae: 3.5633\n",
      "\n",
      "Epoch 00035: val_loss improved from 14.52841 to 14.22486, saving model to model.sve\n",
      "Epoch 36/1000\n",
      "633/633 [==============================] - 0s 175us/step - loss: 13.5683 - mae: 3.4081 - val_loss: 13.8432 - val_mae: 3.5100\n",
      "\n",
      "Epoch 00036: val_loss improved from 14.22486 to 13.84320, saving model to model.sve\n",
      "Epoch 37/1000\n",
      "633/633 [==============================] - 0s 184us/step - loss: 13.2349 - mae: 3.3631 - val_loss: 13.5403 - val_mae: 3.4671\n",
      "\n",
      "Epoch 00037: val_loss improved from 13.84320 to 13.54029, saving model to model.sve\n",
      "Epoch 38/1000\n",
      "633/633 [==============================] - 0s 179us/step - loss: 13.0778 - mae: 3.3340 - val_loss: 13.3066 - val_mae: 3.4338\n",
      "\n",
      "Epoch 00038: val_loss improved from 13.54029 to 13.30660, saving model to model.sve\n",
      "Epoch 39/1000\n",
      "633/633 [==============================] - 0s 179us/step - loss: 12.6940 - mae: 3.2800 - val_loss: 13.0313 - val_mae: 3.3946\n",
      "\n",
      "Epoch 00039: val_loss improved from 13.30660 to 13.03132, saving model to model.sve\n",
      "Epoch 40/1000\n",
      "633/633 [==============================] - 0s 180us/step - loss: 12.3572 - mae: 3.2443 - val_loss: 12.7209 - val_mae: 3.3498\n",
      "\n",
      "Epoch 00040: val_loss improved from 13.03132 to 12.72092, saving model to model.sve\n",
      "Epoch 41/1000\n",
      "633/633 [==============================] - 0s 184us/step - loss: 12.1272 - mae: 3.2025 - val_loss: 12.4441 - val_mae: 3.3093\n",
      "\n",
      "Epoch 00041: val_loss improved from 12.72092 to 12.44409, saving model to model.sve\n",
      "Epoch 42/1000\n",
      "633/633 [==============================] - 0s 205us/step - loss: 11.8173 - mae: 3.1563 - val_loss: 12.1896 - val_mae: 3.2717\n",
      "\n",
      "Epoch 00042: val_loss improved from 12.44409 to 12.18958, saving model to model.sve\n",
      "Epoch 43/1000\n",
      "633/633 [==============================] - 0s 177us/step - loss: 11.5312 - mae: 3.1199 - val_loss: 11.9170 - val_mae: 3.2303\n",
      "\n",
      "Epoch 00043: val_loss improved from 12.18958 to 11.91697, saving model to model.sve\n",
      "Epoch 44/1000\n",
      "633/633 [==============================] - 0s 174us/step - loss: 11.2082 - mae: 3.0673 - val_loss: 11.6606 - val_mae: 3.1914\n",
      "\n",
      "Epoch 00044: val_loss improved from 11.91697 to 11.66064, saving model to model.sve\n",
      "Epoch 45/1000\n",
      "633/633 [==============================] - 0s 182us/step - loss: 10.9620 - mae: 3.0294 - val_loss: 11.3752 - val_mae: 3.1476\n",
      "\n",
      "Epoch 00045: val_loss improved from 11.66064 to 11.37517, saving model to model.sve\n",
      "Epoch 46/1000\n",
      "633/633 [==============================] - 0s 178us/step - loss: 10.7603 - mae: 2.9846 - val_loss: 11.1007 - val_mae: 3.1055\n",
      "\n",
      "Epoch 00046: val_loss improved from 11.37517 to 11.10066, saving model to model.sve\n",
      "Epoch 47/1000\n",
      "633/633 [==============================] - 0s 195us/step - loss: 10.5291 - mae: 2.9545 - val_loss: 10.8928 - val_mae: 3.0727\n",
      "\n",
      "Epoch 00047: val_loss improved from 11.10066 to 10.89280, saving model to model.sve\n",
      "Epoch 48/1000\n",
      "633/633 [==============================] - 0s 191us/step - loss: 10.1851 - mae: 2.9013 - val_loss: 10.6673 - val_mae: 3.0380\n",
      "\n",
      "Epoch 00048: val_loss improved from 10.89280 to 10.66729, saving model to model.sve\n",
      "Epoch 49/1000\n",
      "633/633 [==============================] - 0s 186us/step - loss: 10.0408 - mae: 2.8734 - val_loss: 10.4341 - val_mae: 3.0011\n",
      "\n",
      "Epoch 00049: val_loss improved from 10.66729 to 10.43413, saving model to model.sve\n",
      "Epoch 50/1000\n",
      "633/633 [==============================] - 0s 174us/step - loss: 9.6993 - mae: 2.8310 - val_loss: 10.1807 - val_mae: 2.9606\n",
      "\n",
      "Epoch 00050: val_loss improved from 10.43413 to 10.18073, saving model to model.sve\n",
      "Epoch 51/1000\n",
      "633/633 [==============================] - 0s 174us/step - loss: 9.5721 - mae: 2.7961 - val_loss: 10.0010 - val_mae: 2.9312\n",
      "\n",
      "Epoch 00051: val_loss improved from 10.18073 to 10.00102, saving model to model.sve\n",
      "Epoch 52/1000\n",
      "633/633 [==============================] - 0s 178us/step - loss: 9.1798 - mae: 2.7477 - val_loss: 9.7627 - val_mae: 2.8920\n",
      "\n",
      "Epoch 00052: val_loss improved from 10.00102 to 9.76265, saving model to model.sve\n",
      "Epoch 53/1000\n",
      "633/633 [==============================] - 0s 177us/step - loss: 9.0714 - mae: 2.7204 - val_loss: 9.5045 - val_mae: 2.8485\n",
      "\n",
      "Epoch 00053: val_loss improved from 9.76265 to 9.50454, saving model to model.sve\n",
      "Epoch 54/1000\n",
      "633/633 [==============================] - 0s 183us/step - loss: 8.6907 - mae: 2.6557 - val_loss: 9.2655 - val_mae: 2.8076\n",
      "\n",
      "Epoch 00054: val_loss improved from 9.50454 to 9.26550, saving model to model.sve\n",
      "Epoch 55/1000\n",
      "633/633 [==============================] - 0s 180us/step - loss: 8.5208 - mae: 2.6202 - val_loss: 9.0386 - val_mae: 2.7684\n",
      "\n",
      "Epoch 00055: val_loss improved from 9.26550 to 9.03864, saving model to model.sve\n",
      "Epoch 56/1000\n",
      "633/633 [==============================] - 0s 190us/step - loss: 8.3809 - mae: 2.5936 - val_loss: 8.8217 - val_mae: 2.7301\n",
      "\n",
      "Epoch 00056: val_loss improved from 9.03864 to 8.82170, saving model to model.sve\n",
      "Epoch 57/1000\n",
      "633/633 [==============================] - 0s 175us/step - loss: 8.1539 - mae: 2.5569 - val_loss: 8.6377 - val_mae: 2.6974\n",
      "\n",
      "Epoch 00057: val_loss improved from 8.82170 to 8.63770, saving model to model.sve\n",
      "Epoch 58/1000\n",
      "633/633 [==============================] - 0s 178us/step - loss: 7.9932 - mae: 2.5265 - val_loss: 8.4262 - val_mae: 2.6596\n",
      "\n",
      "Epoch 00058: val_loss improved from 8.63770 to 8.42617, saving model to model.sve\n",
      "Epoch 59/1000\n",
      "633/633 [==============================] - 0s 184us/step - loss: 7.8134 - mae: 2.4889 - val_loss: 8.2304 - val_mae: 2.6252\n",
      "\n",
      "Epoch 00059: val_loss improved from 8.42617 to 8.23040, saving model to model.sve\n",
      "Epoch 60/1000\n",
      "633/633 [==============================] - 0s 197us/step - loss: 7.5244 - mae: 2.4341 - val_loss: 8.0451 - val_mae: 2.5913\n",
      "\n",
      "Epoch 00060: val_loss improved from 8.23040 to 8.04510, saving model to model.sve\n",
      "Epoch 61/1000\n",
      "633/633 [==============================] - 0s 188us/step - loss: 7.3755 - mae: 2.4187 - val_loss: 7.8222 - val_mae: 2.5495\n",
      "\n",
      "Epoch 00061: val_loss improved from 8.04510 to 7.82220, saving model to model.sve\n",
      "Epoch 62/1000\n",
      "633/633 [==============================] - 0s 185us/step - loss: 7.1957 - mae: 2.3935 - val_loss: 7.6054 - val_mae: 2.5085\n",
      "\n",
      "Epoch 00062: val_loss improved from 7.82220 to 7.60541, saving model to model.sve\n",
      "Epoch 63/1000\n",
      "633/633 [==============================] - 0s 178us/step - loss: 6.9829 - mae: 2.3311 - val_loss: 7.4398 - val_mae: 2.4760\n",
      "\n",
      "Epoch 00063: val_loss improved from 7.60541 to 7.43977, saving model to model.sve\n",
      "Epoch 64/1000\n",
      "633/633 [==============================] - 0s 184us/step - loss: 6.6784 - mae: 2.2922 - val_loss: 7.2224 - val_mae: 2.4338\n",
      "\n",
      "Epoch 00064: val_loss improved from 7.43977 to 7.22245, saving model to model.sve\n",
      "Epoch 65/1000\n",
      "633/633 [==============================] - 0s 180us/step - loss: 6.5521 - mae: 2.2487 - val_loss: 7.0560 - val_mae: 2.4015\n",
      "\n",
      "Epoch 00065: val_loss improved from 7.22245 to 7.05600, saving model to model.sve\n",
      "Epoch 66/1000\n",
      "633/633 [==============================] - 0s 185us/step - loss: 6.4601 - mae: 2.2315 - val_loss: 6.8656 - val_mae: 2.3625\n",
      "\n",
      "Epoch 00066: val_loss improved from 7.05600 to 6.86563, saving model to model.sve\n",
      "Epoch 67/1000\n",
      "633/633 [==============================] - 0s 191us/step - loss: 6.1579 - mae: 2.1706 - val_loss: 6.7037 - val_mae: 2.3293\n",
      "\n",
      "Epoch 00067: val_loss improved from 6.86563 to 6.70374, saving model to model.sve\n",
      "Epoch 68/1000\n",
      "633/633 [==============================] - 0s 177us/step - loss: 5.9781 - mae: 2.1584 - val_loss: 6.4612 - val_mae: 2.2790\n",
      "\n",
      "Epoch 00068: val_loss improved from 6.70374 to 6.46117, saving model to model.sve\n",
      "Epoch 69/1000\n",
      "633/633 [==============================] - 0s 176us/step - loss: 5.7676 - mae: 2.1090 - val_loss: 6.3020 - val_mae: 2.2459\n",
      "\n",
      "Epoch 00069: val_loss improved from 6.46117 to 6.30205, saving model to model.sve\n",
      "Epoch 70/1000\n",
      "633/633 [==============================] - 0s 184us/step - loss: 5.7533 - mae: 2.1029 - val_loss: 6.1474 - val_mae: 2.2129\n",
      "\n",
      "Epoch 00070: val_loss improved from 6.30205 to 6.14739, saving model to model.sve\n",
      "Epoch 71/1000\n",
      "633/633 [==============================] - 0s 182us/step - loss: 5.5091 - mae: 2.0312 - val_loss: 5.9509 - val_mae: 2.1705\n",
      "\n",
      "Epoch 00071: val_loss improved from 6.14739 to 5.95092, saving model to model.sve\n",
      "Epoch 72/1000\n",
      "633/633 [==============================] - 0s 181us/step - loss: 5.3025 - mae: 2.0308 - val_loss: 5.7875 - val_mae: 2.1348\n",
      "\n",
      "Epoch 00072: val_loss improved from 5.95092 to 5.78750, saving model to model.sve\n",
      "Epoch 73/1000\n",
      "633/633 [==============================] - 0s 177us/step - loss: 5.2873 - mae: 1.9963 - val_loss: 5.6397 - val_mae: 2.1032\n",
      "\n",
      "Epoch 00073: val_loss improved from 5.78750 to 5.63972, saving model to model.sve\n",
      "Epoch 74/1000\n",
      "633/633 [==============================] - 0s 198us/step - loss: 5.1574 - mae: 1.9715 - val_loss: 5.4727 - val_mae: 2.0674\n",
      "\n",
      "Epoch 00074: val_loss improved from 5.63972 to 5.47274, saving model to model.sve\n",
      "Epoch 75/1000\n",
      "633/633 [==============================] - 0s 176us/step - loss: 4.8149 - mae: 1.8992 - val_loss: 5.3604 - val_mae: 2.0429\n",
      "\n",
      "Epoch 00075: val_loss improved from 5.47274 to 5.36044, saving model to model.sve\n",
      "Epoch 76/1000\n",
      "633/633 [==============================] - 0s 186us/step - loss: 4.6844 - mae: 1.8753 - val_loss: 5.1945 - val_mae: 2.0055\n",
      "\n",
      "Epoch 00076: val_loss improved from 5.36044 to 5.19453, saving model to model.sve\n",
      "Epoch 77/1000\n",
      "633/633 [==============================] - 0s 177us/step - loss: 4.7733 - mae: 1.8765 - val_loss: 4.9974 - val_mae: 1.9603\n",
      "\n",
      "Epoch 00077: val_loss improved from 5.19453 to 4.99736, saving model to model.sve\n",
      "Epoch 78/1000\n",
      "633/633 [==============================] - 0s 182us/step - loss: 4.6015 - mae: 1.8329 - val_loss: 4.8183 - val_mae: 1.9188\n",
      "\n",
      "Epoch 00078: val_loss improved from 4.99736 to 4.81833, saving model to model.sve\n",
      "Epoch 79/1000\n",
      "633/633 [==============================] - 0s 181us/step - loss: 4.4950 - mae: 1.8129 - val_loss: 4.7216 - val_mae: 1.8956\n",
      "\n",
      "Epoch 00079: val_loss improved from 4.81833 to 4.72156, saving model to model.sve\n",
      "Epoch 80/1000\n",
      "633/633 [==============================] - 0s 194us/step - loss: 4.2515 - mae: 1.7522 - val_loss: 4.6112 - val_mae: 1.8694\n",
      "\n",
      "Epoch 00080: val_loss improved from 4.72156 to 4.61118, saving model to model.sve\n",
      "Epoch 81/1000\n",
      "633/633 [==============================] - 0s 180us/step - loss: 4.1469 - mae: 1.7495 - val_loss: 4.4420 - val_mae: 1.8285\n",
      "\n",
      "Epoch 00081: val_loss improved from 4.61118 to 4.44195, saving model to model.sve\n",
      "Epoch 82/1000\n",
      "633/633 [==============================] - 0s 182us/step - loss: 3.9441 - mae: 1.6907 - val_loss: 4.2896 - val_mae: 1.7903\n",
      "\n",
      "Epoch 00082: val_loss improved from 4.44195 to 4.28958, saving model to model.sve\n",
      "Epoch 83/1000\n",
      "633/633 [==============================] - 0s 185us/step - loss: 3.7730 - mae: 1.6647 - val_loss: 4.1375 - val_mae: 1.7509\n",
      "\n",
      "Epoch 00083: val_loss improved from 4.28958 to 4.13752, saving model to model.sve\n",
      "Epoch 84/1000\n",
      "633/633 [==============================] - 0s 196us/step - loss: 3.6713 - mae: 1.6206 - val_loss: 3.9990 - val_mae: 1.7149\n",
      "\n",
      "Epoch 00084: val_loss improved from 4.13752 to 3.99898, saving model to model.sve\n",
      "Epoch 85/1000\n",
      "633/633 [==============================] - 0s 189us/step - loss: 3.7454 - mae: 1.6359 - val_loss: 3.8530 - val_mae: 1.6760\n",
      "\n",
      "Epoch 00085: val_loss improved from 3.99898 to 3.85300, saving model to model.sve\n",
      "Epoch 86/1000\n",
      "633/633 [==============================] - 0s 206us/step - loss: 3.5513 - mae: 1.5958 - val_loss: 3.7366 - val_mae: 1.6448\n",
      "\n",
      "Epoch 00086: val_loss improved from 3.85300 to 3.73663, saving model to model.sve\n",
      "Epoch 87/1000\n",
      "633/633 [==============================] - 0s 176us/step - loss: 3.4508 - mae: 1.5662 - val_loss: 3.6372 - val_mae: 1.6171\n",
      "\n",
      "Epoch 00087: val_loss improved from 3.73663 to 3.63722, saving model to model.sve\n",
      "Epoch 88/1000\n",
      "633/633 [==============================] - 0s 181us/step - loss: 3.3660 - mae: 1.5430 - val_loss: 3.5462 - val_mae: 1.5914\n",
      "\n",
      "Epoch 00088: val_loss improved from 3.63722 to 3.54624, saving model to model.sve\n",
      "Epoch 89/1000\n",
      "633/633 [==============================] - 0s 175us/step - loss: 3.2519 - mae: 1.5261 - val_loss: 3.3764 - val_mae: 1.5422\n",
      "\n",
      "Epoch 00089: val_loss improved from 3.54624 to 3.37644, saving model to model.sve\n",
      "Epoch 90/1000\n",
      "633/633 [==============================] - 0s 188us/step - loss: 3.1279 - mae: 1.4844 - val_loss: 3.2740 - val_mae: 1.5130\n",
      "\n",
      "Epoch 00090: val_loss improved from 3.37644 to 3.27398, saving model to model.sve\n",
      "Epoch 91/1000\n",
      "633/633 [==============================] - 0s 186us/step - loss: 3.1344 - mae: 1.4709 - val_loss: 3.1720 - val_mae: 1.4835\n",
      "\n",
      "Epoch 00091: val_loss improved from 3.27398 to 3.17197, saving model to model.sve\n",
      "Epoch 92/1000\n",
      "633/633 [==============================] - 0s 187us/step - loss: 2.9989 - mae: 1.4510 - val_loss: 3.0928 - val_mae: 1.4616\n",
      "\n",
      "Epoch 00092: val_loss improved from 3.17197 to 3.09280, saving model to model.sve\n",
      "Epoch 93/1000\n",
      "633/633 [==============================] - 0s 181us/step - loss: 2.8658 - mae: 1.4232 - val_loss: 2.9830 - val_mae: 1.4303\n",
      "\n",
      "Epoch 00093: val_loss improved from 3.09280 to 2.98298, saving model to model.sve\n",
      "Epoch 94/1000\n",
      "633/633 [==============================] - 0s 178us/step - loss: 2.8578 - mae: 1.4119 - val_loss: 2.9055 - val_mae: 1.4084\n",
      "\n",
      "Epoch 00094: val_loss improved from 2.98298 to 2.90549, saving model to model.sve\n",
      "Epoch 95/1000\n",
      "633/633 [==============================] - 0s 184us/step - loss: 2.8663 - mae: 1.4071 - val_loss: 2.8026 - val_mae: 1.3766\n",
      "\n",
      "Epoch 00095: val_loss improved from 2.90549 to 2.80264, saving model to model.sve\n",
      "Epoch 96/1000\n",
      "633/633 [==============================] - 0s 194us/step - loss: 2.6928 - mae: 1.3663 - val_loss: 2.7269 - val_mae: 1.3556\n",
      "\n",
      "Epoch 00096: val_loss improved from 2.80264 to 2.72687, saving model to model.sve\n",
      "Epoch 97/1000\n",
      "633/633 [==============================] - 0s 192us/step - loss: 2.5378 - mae: 1.3209 - val_loss: 2.6227 - val_mae: 1.3254\n",
      "\n",
      "Epoch 00097: val_loss improved from 2.72687 to 2.62271, saving model to model.sve\n",
      "Epoch 98/1000\n",
      "633/633 [==============================] - 0s 174us/step - loss: 2.6514 - mae: 1.3562 - val_loss: 2.5291 - val_mae: 1.2999\n",
      "\n",
      "Epoch 00098: val_loss improved from 2.62271 to 2.52906, saving model to model.sve\n",
      "Epoch 99/1000\n",
      "633/633 [==============================] - 0s 183us/step - loss: 2.5101 - mae: 1.3040 - val_loss: 2.4604 - val_mae: 1.2794\n",
      "\n",
      "Epoch 00099: val_loss improved from 2.52906 to 2.46045, saving model to model.sve\n",
      "Epoch 100/1000\n",
      "633/633 [==============================] - 0s 178us/step - loss: 2.4817 - mae: 1.3131 - val_loss: 2.3950 - val_mae: 1.2612\n",
      "\n",
      "Epoch 00100: val_loss improved from 2.46045 to 2.39497, saving model to model.sve\n",
      "Epoch 101/1000\n",
      "633/633 [==============================] - 0s 182us/step - loss: 2.3894 - mae: 1.2546 - val_loss: 2.3233 - val_mae: 1.2397\n",
      "\n",
      "Epoch 00101: val_loss improved from 2.39497 to 2.32325, saving model to model.sve\n",
      "Epoch 102/1000\n",
      "633/633 [==============================] - 0s 176us/step - loss: 2.4764 - mae: 1.2999 - val_loss: 2.2875 - val_mae: 1.2309\n",
      "\n",
      "Epoch 00102: val_loss improved from 2.32325 to 2.28749, saving model to model.sve\n",
      "Epoch 103/1000\n",
      "633/633 [==============================] - 0s 186us/step - loss: 2.3090 - mae: 1.2435 - val_loss: 2.2105 - val_mae: 1.2060\n",
      "\n",
      "Epoch 00103: val_loss improved from 2.28749 to 2.21048, saving model to model.sve\n",
      "Epoch 104/1000\n",
      "633/633 [==============================] - 0s 178us/step - loss: 2.2692 - mae: 1.2371 - val_loss: 2.1491 - val_mae: 1.1871\n",
      "\n",
      "Epoch 00104: val_loss improved from 2.21048 to 2.14907, saving model to model.sve\n",
      "Epoch 105/1000\n",
      "633/633 [==============================] - 0s 202us/step - loss: 2.1519 - mae: 1.2084 - val_loss: 2.0875 - val_mae: 1.1689\n",
      "\n",
      "Epoch 00105: val_loss improved from 2.14907 to 2.08751, saving model to model.sve\n",
      "Epoch 106/1000\n",
      "633/633 [==============================] - 0s 174us/step - loss: 2.2857 - mae: 1.2383 - val_loss: 2.0691 - val_mae: 1.1624\n",
      "\n",
      "Epoch 00106: val_loss improved from 2.08751 to 2.06909, saving model to model.sve\n",
      "Epoch 107/1000\n",
      "633/633 [==============================] - 0s 180us/step - loss: 2.2368 - mae: 1.2012 - val_loss: 2.0206 - val_mae: 1.1470\n",
      "\n",
      "Epoch 00107: val_loss improved from 2.06909 to 2.02061, saving model to model.sve\n",
      "Epoch 108/1000\n",
      "633/633 [==============================] - 0s 185us/step - loss: 2.0864 - mae: 1.1830 - val_loss: 1.9823 - val_mae: 1.1343\n",
      "\n",
      "Epoch 00108: val_loss improved from 2.02061 to 1.98232, saving model to model.sve\n",
      "Epoch 109/1000\n",
      "633/633 [==============================] - 0s 189us/step - loss: 2.0581 - mae: 1.1656 - val_loss: 1.9403 - val_mae: 1.1235\n",
      "\n",
      "Epoch 00109: val_loss improved from 1.98232 to 1.94028, saving model to model.sve\n",
      "Epoch 110/1000\n",
      "633/633 [==============================] - 0s 182us/step - loss: 2.0566 - mae: 1.1569 - val_loss: 1.8813 - val_mae: 1.1056\n",
      "\n",
      "Epoch 00110: val_loss improved from 1.94028 to 1.88130, saving model to model.sve\n",
      "Epoch 111/1000\n",
      "633/633 [==============================] - 0s 206us/step - loss: 2.0697 - mae: 1.1690 - val_loss: 1.8421 - val_mae: 1.0954\n",
      "\n",
      "Epoch 00111: val_loss improved from 1.88130 to 1.84208, saving model to model.sve\n",
      "Epoch 112/1000\n",
      "633/633 [==============================] - 0s 175us/step - loss: 2.0831 - mae: 1.1735 - val_loss: 1.8388 - val_mae: 1.0943\n",
      "\n",
      "Epoch 00112: val_loss improved from 1.84208 to 1.83885, saving model to model.sve\n",
      "Epoch 113/1000\n",
      "633/633 [==============================] - 0s 181us/step - loss: 2.1250 - mae: 1.1863 - val_loss: 1.8075 - val_mae: 1.0865\n",
      "\n",
      "Epoch 00113: val_loss improved from 1.83885 to 1.80752, saving model to model.sve\n",
      "Epoch 114/1000\n",
      "633/633 [==============================] - 0s 178us/step - loss: 2.0566 - mae: 1.1417 - val_loss: 1.7823 - val_mae: 1.0798\n",
      "\n",
      "Epoch 00114: val_loss improved from 1.80752 to 1.78232, saving model to model.sve\n",
      "Epoch 115/1000\n",
      "633/633 [==============================] - 0s 185us/step - loss: 1.9821 - mae: 1.1306 - val_loss: 1.7626 - val_mae: 1.0756\n",
      "\n",
      "Epoch 00115: val_loss improved from 1.78232 to 1.76257, saving model to model.sve\n",
      "Epoch 116/1000\n",
      "633/633 [==============================] - 0s 174us/step - loss: 2.0686 - mae: 1.1608 - val_loss: 1.7430 - val_mae: 1.0711\n",
      "\n",
      "Epoch 00116: val_loss improved from 1.76257 to 1.74302, saving model to model.sve\n",
      "Epoch 117/1000\n",
      "633/633 [==============================] - 0s 187us/step - loss: 1.9955 - mae: 1.1630 - val_loss: 1.7355 - val_mae: 1.0692\n",
      "\n",
      "Epoch 00117: val_loss improved from 1.74302 to 1.73546, saving model to model.sve\n",
      "Epoch 118/1000\n",
      "633/633 [==============================] - 0s 177us/step - loss: 1.8897 - mae: 1.1049 - val_loss: 1.7180 - val_mae: 1.0655\n",
      "\n",
      "Epoch 00118: val_loss improved from 1.73546 to 1.71799, saving model to model.sve\n",
      "Epoch 119/1000\n",
      "633/633 [==============================] - 0s 189us/step - loss: 1.9965 - mae: 1.1399 - val_loss: 1.6932 - val_mae: 1.0592\n",
      "\n",
      "Epoch 00119: val_loss improved from 1.71799 to 1.69318, saving model to model.sve\n",
      "Epoch 120/1000\n",
      "633/633 [==============================] - 0s 175us/step - loss: 1.9212 - mae: 1.1274 - val_loss: 1.6695 - val_mae: 1.0534\n",
      "\n",
      "Epoch 00120: val_loss improved from 1.69318 to 1.66951, saving model to model.sve\n",
      "Epoch 121/1000\n",
      "633/633 [==============================] - 0s 184us/step - loss: 1.9858 - mae: 1.1175 - val_loss: 1.6705 - val_mae: 1.0540\n",
      "\n",
      "Epoch 00121: val_loss did not improve from 1.66951\n",
      "Epoch 122/1000\n",
      "633/633 [==============================] - 0s 175us/step - loss: 1.9015 - mae: 1.1084 - val_loss: 1.6571 - val_mae: 1.0503\n",
      "\n",
      "Epoch 00122: val_loss improved from 1.66951 to 1.65709, saving model to model.sve\n",
      "Epoch 123/1000\n",
      "633/633 [==============================] - 0s 178us/step - loss: 2.1133 - mae: 1.1507 - val_loss: 1.6498 - val_mae: 1.0487\n",
      "\n",
      "Epoch 00123: val_loss improved from 1.65709 to 1.64982, saving model to model.sve\n",
      "Epoch 124/1000\n",
      "633/633 [==============================] - 0s 210us/step - loss: 2.0356 - mae: 1.1413 - val_loss: 1.6431 - val_mae: 1.0469\n",
      "\n",
      "Epoch 00124: val_loss improved from 1.64982 to 1.64315, saving model to model.sve\n",
      "Epoch 125/1000\n",
      "633/633 [==============================] - 0s 180us/step - loss: 1.9770 - mae: 1.1249 - val_loss: 1.6248 - val_mae: 1.0412\n",
      "\n",
      "Epoch 00125: val_loss improved from 1.64315 to 1.62480, saving model to model.sve\n",
      "Epoch 126/1000\n",
      "633/633 [==============================] - 0s 175us/step - loss: 1.9891 - mae: 1.1263 - val_loss: 1.6147 - val_mae: 1.0375\n",
      "\n",
      "Epoch 00126: val_loss improved from 1.62480 to 1.61474, saving model to model.sve\n",
      "Epoch 127/1000\n",
      "633/633 [==============================] - 0s 181us/step - loss: 1.9107 - mae: 1.1086 - val_loss: 1.6006 - val_mae: 1.0329\n",
      "\n",
      "Epoch 00127: val_loss improved from 1.61474 to 1.60063, saving model to model.sve\n",
      "Epoch 128/1000\n",
      "633/633 [==============================] - 0s 182us/step - loss: 1.9531 - mae: 1.1159 - val_loss: 1.6015 - val_mae: 1.0334\n",
      "\n",
      "Epoch 00128: val_loss did not improve from 1.60063\n",
      "Epoch 129/1000\n",
      "633/633 [==============================] - 0s 182us/step - loss: 1.8453 - mae: 1.0899 - val_loss: 1.5986 - val_mae: 1.0327\n",
      "\n",
      "Epoch 00129: val_loss improved from 1.60063 to 1.59857, saving model to model.sve\n",
      "Epoch 130/1000\n",
      "633/633 [==============================] - 0s 184us/step - loss: 1.8202 - mae: 1.0786 - val_loss: 1.5925 - val_mae: 1.0309\n",
      "\n",
      "Epoch 00130: val_loss improved from 1.59857 to 1.59253, saving model to model.sve\n",
      "Epoch 131/1000\n",
      "633/633 [==============================] - 0s 187us/step - loss: 1.8576 - mae: 1.0847 - val_loss: 1.5825 - val_mae: 1.0280\n",
      "\n",
      "Epoch 00131: val_loss improved from 1.59253 to 1.58253, saving model to model.sve\n",
      "Epoch 132/1000\n",
      "633/633 [==============================] - 0s 182us/step - loss: 1.9480 - mae: 1.1019 - val_loss: 1.5816 - val_mae: 1.0290\n",
      "\n",
      "Epoch 00132: val_loss improved from 1.58253 to 1.58165, saving model to model.sve\n",
      "Epoch 133/1000\n",
      "633/633 [==============================] - 0s 175us/step - loss: 1.8927 - mae: 1.0939 - val_loss: 1.5790 - val_mae: 1.0284\n",
      "\n",
      "Epoch 00133: val_loss improved from 1.58165 to 1.57905, saving model to model.sve\n",
      "Epoch 134/1000\n",
      "633/633 [==============================] - 0s 191us/step - loss: 1.9797 - mae: 1.1207 - val_loss: 1.5708 - val_mae: 1.0262\n",
      "\n",
      "Epoch 00134: val_loss improved from 1.57905 to 1.57080, saving model to model.sve\n",
      "Epoch 135/1000\n",
      "633/633 [==============================] - 0s 179us/step - loss: 1.8893 - mae: 1.1117 - val_loss: 1.5698 - val_mae: 1.0255\n",
      "\n",
      "Epoch 00135: val_loss improved from 1.57080 to 1.56983, saving model to model.sve\n",
      "Epoch 136/1000\n",
      "633/633 [==============================] - 0s 181us/step - loss: 1.8541 - mae: 1.0788 - val_loss: 1.5671 - val_mae: 1.0248\n",
      "\n",
      "Epoch 00136: val_loss improved from 1.56983 to 1.56711, saving model to model.sve\n",
      "Epoch 137/1000\n",
      "633/633 [==============================] - 0s 191us/step - loss: 1.9130 - mae: 1.0877 - val_loss: 1.5680 - val_mae: 1.0253\n",
      "\n",
      "Epoch 00137: val_loss did not improve from 1.56711\n",
      "Epoch 138/1000\n",
      "633/633 [==============================] - 0s 179us/step - loss: 1.8651 - mae: 1.0971 - val_loss: 1.5634 - val_mae: 1.0257\n",
      "\n",
      "Epoch 00138: val_loss improved from 1.56711 to 1.56338, saving model to model.sve\n",
      "Epoch 139/1000\n",
      "633/633 [==============================] - 0s 168us/step - loss: 1.9939 - mae: 1.1190 - val_loss: 1.5599 - val_mae: 1.0242\n",
      "\n",
      "Epoch 00139: val_loss improved from 1.56338 to 1.55989, saving model to model.sve\n",
      "Epoch 140/1000\n",
      "633/633 [==============================] - 0s 180us/step - loss: 1.8942 - mae: 1.0911 - val_loss: 1.5635 - val_mae: 1.0250\n",
      "\n",
      "Epoch 00140: val_loss did not improve from 1.55989\n",
      "Epoch 141/1000\n",
      "633/633 [==============================] - 0s 171us/step - loss: 1.8947 - mae: 1.0972 - val_loss: 1.5629 - val_mae: 1.0247\n",
      "\n",
      "Epoch 00141: val_loss did not improve from 1.55989\n",
      "Epoch 142/1000\n",
      "633/633 [==============================] - 0s 178us/step - loss: 1.9092 - mae: 1.0904 - val_loss: 1.5682 - val_mae: 1.0260\n",
      "\n",
      "Epoch 00142: val_loss did not improve from 1.55989\n",
      "Epoch 143/1000\n",
      "633/633 [==============================] - 0s 169us/step - loss: 1.9126 - mae: 1.1286 - val_loss: 1.5669 - val_mae: 1.0264\n",
      "\n",
      "Epoch 00143: val_loss did not improve from 1.55989\n",
      "Epoch 144/1000\n",
      "633/633 [==============================] - 0s 168us/step - loss: 1.8681 - mae: 1.0901 - val_loss: 1.5685 - val_mae: 1.0269\n",
      "\n",
      "Epoch 00144: val_loss did not improve from 1.55989\n",
      "Epoch 145/1000\n",
      "633/633 [==============================] - 0s 186us/step - loss: 1.8893 - mae: 1.0944 - val_loss: 1.5720 - val_mae: 1.0288\n",
      "\n",
      "Epoch 00145: val_loss did not improve from 1.55989\n",
      "Epoch 146/1000\n",
      "633/633 [==============================] - 0s 172us/step - loss: 1.8482 - mae: 1.0731 - val_loss: 1.5778 - val_mae: 1.0307\n",
      "\n",
      "Epoch 00146: val_loss did not improve from 1.55989\n",
      "Epoch 147/1000\n",
      "633/633 [==============================] - 0s 172us/step - loss: 1.8795 - mae: 1.1079 - val_loss: 1.5714 - val_mae: 1.0284\n",
      "\n",
      "Epoch 00147: val_loss did not improve from 1.55989\n",
      "Epoch 148/1000\n",
      "633/633 [==============================] - 0s 175us/step - loss: 1.9447 - mae: 1.0971 - val_loss: 1.5690 - val_mae: 1.0273\n",
      "\n",
      "Epoch 00148: val_loss did not improve from 1.55989\n",
      "Epoch 149/1000\n",
      "633/633 [==============================] - 0s 171us/step - loss: 1.8729 - mae: 1.0888 - val_loss: 1.5718 - val_mae: 1.0278\n",
      "\n",
      "Epoch 00149: val_loss did not improve from 1.55989\n",
      "Epoch 150/1000\n",
      "633/633 [==============================] - 0s 174us/step - loss: 1.8786 - mae: 1.0854 - val_loss: 1.5679 - val_mae: 1.0274\n",
      "\n",
      "Epoch 00150: val_loss did not improve from 1.55989\n",
      "Epoch 151/1000\n",
      "633/633 [==============================] - 0s 197us/step - loss: 1.9323 - mae: 1.0868 - val_loss: 1.5638 - val_mae: 1.0264\n",
      "\n",
      "Epoch 00151: val_loss did not improve from 1.55989\n",
      "Epoch 152/1000\n",
      "633/633 [==============================] - 0s 171us/step - loss: 1.8330 - mae: 1.0789 - val_loss: 1.5606 - val_mae: 1.0253\n",
      "\n",
      "Epoch 00152: val_loss did not improve from 1.55989\n",
      "Epoch 153/1000\n",
      "633/633 [==============================] - 0s 178us/step - loss: 1.8487 - mae: 1.0948 - val_loss: 1.5616 - val_mae: 1.0259\n",
      "\n",
      "Epoch 00153: val_loss did not improve from 1.55989\n",
      "Epoch 154/1000\n",
      "633/633 [==============================] - 0s 184us/step - loss: 1.8907 - mae: 1.0916 - val_loss: 1.5633 - val_mae: 1.0251\n",
      "\n",
      "Epoch 00154: val_loss did not improve from 1.55989\n",
      "Epoch 155/1000\n",
      "633/633 [==============================] - 0s 170us/step - loss: 1.8622 - mae: 1.0871 - val_loss: 1.5606 - val_mae: 1.0230\n",
      "\n",
      "Epoch 00155: val_loss did not improve from 1.55989\n",
      "Epoch 156/1000\n",
      "633/633 [==============================] - 0s 182us/step - loss: 1.8649 - mae: 1.0921 - val_loss: 1.5605 - val_mae: 1.0232\n",
      "\n",
      "Epoch 00156: val_loss did not improve from 1.55989\n",
      "Epoch 157/1000\n",
      "633/633 [==============================] - 0s 169us/step - loss: 1.8377 - mae: 1.0730 - val_loss: 1.5616 - val_mae: 1.0232\n",
      "\n",
      "Epoch 00157: val_loss did not improve from 1.55989\n",
      "Epoch 158/1000\n",
      "633/633 [==============================] - 0s 173us/step - loss: 1.7783 - mae: 1.0587 - val_loss: 1.5582 - val_mae: 1.0219\n",
      "\n",
      "Epoch 00158: val_loss improved from 1.55989 to 1.55820, saving model to model.sve\n",
      "Epoch 159/1000\n",
      "633/633 [==============================] - 0s 183us/step - loss: 1.8986 - mae: 1.0889 - val_loss: 1.5628 - val_mae: 1.0237\n",
      "\n",
      "Epoch 00159: val_loss did not improve from 1.55820\n",
      "Epoch 160/1000\n",
      "633/633 [==============================] - 0s 174us/step - loss: 1.8429 - mae: 1.0786 - val_loss: 1.5603 - val_mae: 1.0226\n",
      "\n",
      "Epoch 00160: val_loss did not improve from 1.55820\n",
      "Epoch 161/1000\n",
      "633/633 [==============================] - 0s 182us/step - loss: 1.8960 - mae: 1.0813 - val_loss: 1.5588 - val_mae: 1.0225\n",
      "\n",
      "Epoch 00161: val_loss did not improve from 1.55820\n",
      "Epoch 162/1000\n",
      "633/633 [==============================] - 0s 174us/step - loss: 1.8926 - mae: 1.0919 - val_loss: 1.5544 - val_mae: 1.0220\n",
      "\n",
      "Epoch 00162: val_loss improved from 1.55820 to 1.55440, saving model to model.sve\n",
      "Epoch 163/1000\n",
      "633/633 [==============================] - 0s 174us/step - loss: 1.8901 - mae: 1.0969 - val_loss: 1.5507 - val_mae: 1.0208\n",
      "\n",
      "Epoch 00163: val_loss improved from 1.55440 to 1.55073, saving model to model.sve\n",
      "Epoch 164/1000\n",
      "633/633 [==============================] - 0s 227us/step - loss: 1.9710 - mae: 1.1150 - val_loss: 1.5512 - val_mae: 1.0210\n",
      "\n",
      "Epoch 00164: val_loss did not improve from 1.55073\n",
      "Epoch 165/1000\n",
      "633/633 [==============================] - 0s 176us/step - loss: 1.7843 - mae: 1.0613 - val_loss: 1.5537 - val_mae: 1.0224\n",
      "\n",
      "Epoch 00165: val_loss did not improve from 1.55073\n",
      "Epoch 166/1000\n",
      "633/633 [==============================] - 0s 184us/step - loss: 1.8535 - mae: 1.0818 - val_loss: 1.5585 - val_mae: 1.0230\n",
      "\n",
      "Epoch 00166: val_loss did not improve from 1.55073\n",
      "Epoch 167/1000\n",
      "633/633 [==============================] - 0s 179us/step - loss: 1.8143 - mae: 1.0628 - val_loss: 1.5591 - val_mae: 1.0238\n",
      "\n",
      "Epoch 00167: val_loss did not improve from 1.55073\n",
      "Epoch 168/1000\n",
      "633/633 [==============================] - 0s 179us/step - loss: 1.9314 - mae: 1.0979 - val_loss: 1.5584 - val_mae: 1.0246\n",
      "\n",
      "Epoch 00168: val_loss did not improve from 1.55073\n",
      "Epoch 169/1000\n",
      "633/633 [==============================] - 0s 186us/step - loss: 1.9157 - mae: 1.0973 - val_loss: 1.5579 - val_mae: 1.0254\n",
      "\n",
      "Epoch 00169: val_loss did not improve from 1.55073\n",
      "Epoch 170/1000\n",
      "633/633 [==============================] - 0s 195us/step - loss: 1.8874 - mae: 1.1026 - val_loss: 1.5530 - val_mae: 1.0238\n",
      "\n",
      "Epoch 00170: val_loss did not improve from 1.55073\n",
      "Epoch 171/1000\n",
      "633/633 [==============================] - 0s 183us/step - loss: 1.8427 - mae: 1.0824 - val_loss: 1.5515 - val_mae: 1.0223\n",
      "\n",
      "Epoch 00171: val_loss did not improve from 1.55073\n",
      "Epoch 172/1000\n",
      "633/633 [==============================] - 0s 177us/step - loss: 1.8620 - mae: 1.1003 - val_loss: 1.5538 - val_mae: 1.0234\n",
      "\n",
      "Epoch 00172: val_loss did not improve from 1.55073\n",
      "Epoch 173/1000\n",
      "633/633 [==============================] - 0s 176us/step - loss: 1.7835 - mae: 1.0555 - val_loss: 1.5511 - val_mae: 1.0230\n",
      "\n",
      "Epoch 00173: val_loss did not improve from 1.55073\n",
      "Epoch 174/1000\n",
      "633/633 [==============================] - 0s 173us/step - loss: 1.7280 - mae: 1.0260 - val_loss: 1.5477 - val_mae: 1.0214\n",
      "\n",
      "Epoch 00174: val_loss improved from 1.55073 to 1.54775, saving model to model.sve\n",
      "Epoch 175/1000\n",
      "633/633 [==============================] - 0s 183us/step - loss: 1.9306 - mae: 1.1141 - val_loss: 1.5474 - val_mae: 1.0224\n",
      "\n",
      "Epoch 00175: val_loss improved from 1.54775 to 1.54744, saving model to model.sve\n",
      "Epoch 176/1000\n",
      "633/633 [==============================] - 0s 187us/step - loss: 1.7938 - mae: 1.0686 - val_loss: 1.5529 - val_mae: 1.0239\n",
      "\n",
      "Epoch 00176: val_loss did not improve from 1.54744\n",
      "Epoch 177/1000\n",
      "633/633 [==============================] - 0s 174us/step - loss: 1.7641 - mae: 1.0540 - val_loss: 1.5548 - val_mae: 1.0236\n",
      "\n",
      "Epoch 00177: val_loss did not improve from 1.54744\n",
      "Epoch 178/1000\n",
      "633/633 [==============================] - 0s 184us/step - loss: 1.8373 - mae: 1.0931 - val_loss: 1.5585 - val_mae: 1.0245\n",
      "\n",
      "Epoch 00178: val_loss did not improve from 1.54744\n",
      "Epoch 179/1000\n",
      "633/633 [==============================] - 0s 182us/step - loss: 1.7686 - mae: 1.0581 - val_loss: 1.5581 - val_mae: 1.0239\n",
      "\n",
      "Epoch 00179: val_loss did not improve from 1.54744\n",
      "Epoch 180/1000\n",
      "633/633 [==============================] - 0s 175us/step - loss: 1.8003 - mae: 1.0809 - val_loss: 1.5548 - val_mae: 1.0224\n",
      "\n",
      "Epoch 00180: val_loss did not improve from 1.54744\n",
      "Epoch 181/1000\n",
      "633/633 [==============================] - 0s 205us/step - loss: 1.8325 - mae: 1.0732 - val_loss: 1.5517 - val_mae: 1.0220\n",
      "\n",
      "Epoch 00181: val_loss did not improve from 1.54744\n",
      "Epoch 182/1000\n",
      "633/633 [==============================] - 0s 179us/step - loss: 1.9703 - mae: 1.1029 - val_loss: 1.5501 - val_mae: 1.0223\n",
      "\n",
      "Epoch 00182: val_loss did not improve from 1.54744\n",
      "Epoch 183/1000\n",
      "633/633 [==============================] - 0s 180us/step - loss: 1.7815 - mae: 1.0662 - val_loss: 1.5519 - val_mae: 1.0229\n",
      "\n",
      "Epoch 00183: val_loss did not improve from 1.54744\n",
      "Epoch 184/1000\n",
      "633/633 [==============================] - 0s 178us/step - loss: 1.8564 - mae: 1.0890 - val_loss: 1.5506 - val_mae: 1.0230\n",
      "\n",
      "Epoch 00184: val_loss did not improve from 1.54744\n",
      "Epoch 185/1000\n",
      "633/633 [==============================] - 0s 177us/step - loss: 1.8576 - mae: 1.0912 - val_loss: 1.5475 - val_mae: 1.0212\n",
      "\n",
      "Epoch 00185: val_loss did not improve from 1.54744\n",
      "Epoch 186/1000\n",
      "633/633 [==============================] - 0s 180us/step - loss: 1.8229 - mae: 1.0640 - val_loss: 1.5516 - val_mae: 1.0224\n",
      "\n",
      "Epoch 00186: val_loss did not improve from 1.54744\n",
      "Epoch 187/1000\n",
      "633/633 [==============================] - 0s 185us/step - loss: 1.7298 - mae: 1.0462 - val_loss: 1.5524 - val_mae: 1.0225\n",
      "\n",
      "Epoch 00187: val_loss did not improve from 1.54744\n",
      "Epoch 188/1000\n",
      "633/633 [==============================] - 0s 173us/step - loss: 1.7298 - mae: 1.0448 - val_loss: 1.5594 - val_mae: 1.0249\n",
      "\n",
      "Epoch 00188: val_loss did not improve from 1.54744\n",
      "Epoch 189/1000\n",
      "633/633 [==============================] - 0s 180us/step - loss: 1.8502 - mae: 1.0894 - val_loss: 1.5603 - val_mae: 1.0251\n",
      "\n",
      "Epoch 00189: val_loss did not improve from 1.54744\n",
      "Epoch 190/1000\n",
      "633/633 [==============================] - 0s 172us/step - loss: 1.8633 - mae: 1.0662 - val_loss: 1.5590 - val_mae: 1.0246\n",
      "\n",
      "Epoch 00190: val_loss did not improve from 1.54744\n",
      "Epoch 191/1000\n",
      "633/633 [==============================] - 0s 175us/step - loss: 1.8346 - mae: 1.0845 - val_loss: 1.5572 - val_mae: 1.0232\n",
      "\n",
      "Epoch 00191: val_loss did not improve from 1.54744\n",
      "Epoch 192/1000\n",
      "633/633 [==============================] - 0s 185us/step - loss: 1.7692 - mae: 1.0527 - val_loss: 1.5561 - val_mae: 1.0230\n",
      "\n",
      "Epoch 00192: val_loss did not improve from 1.54744\n",
      "Epoch 193/1000\n",
      "633/633 [==============================] - 0s 175us/step - loss: 1.7771 - mae: 1.0409 - val_loss: 1.5583 - val_mae: 1.0230\n",
      "\n",
      "Epoch 00193: val_loss did not improve from 1.54744\n",
      "Epoch 194/1000\n",
      "633/633 [==============================] - 0s 181us/step - loss: 1.8659 - mae: 1.0845 - val_loss: 1.5574 - val_mae: 1.0231\n",
      "\n",
      "Epoch 00194: val_loss did not improve from 1.54744\n",
      "Epoch 195/1000\n",
      "633/633 [==============================] - 0s 172us/step - loss: 1.7321 - mae: 1.0589 - val_loss: 1.5602 - val_mae: 1.0236\n",
      "\n",
      "Epoch 00195: val_loss did not improve from 1.54744\n",
      "Epoch 196/1000\n",
      "633/633 [==============================] - 0s 185us/step - loss: 1.8761 - mae: 1.0898 - val_loss: 1.5561 - val_mae: 1.0212\n",
      "\n",
      "Epoch 00196: val_loss did not improve from 1.54744\n",
      "Epoch 197/1000\n",
      "633/633 [==============================] - 0s 188us/step - loss: 1.8919 - mae: 1.0937 - val_loss: 1.5590 - val_mae: 1.0221\n",
      "\n",
      "Epoch 00197: val_loss did not improve from 1.54744\n",
      "Epoch 198/1000\n",
      "633/633 [==============================] - 0s 172us/step - loss: 1.7491 - mae: 1.0522 - val_loss: 1.5623 - val_mae: 1.0230\n",
      "\n",
      "Epoch 00198: val_loss did not improve from 1.54744\n",
      "Epoch 199/1000\n",
      "633/633 [==============================] - 0s 176us/step - loss: 1.8641 - mae: 1.0834 - val_loss: 1.5668 - val_mae: 1.0239\n",
      "\n",
      "Epoch 00199: val_loss did not improve from 1.54744\n",
      "Epoch 200/1000\n",
      "633/633 [==============================] - 0s 176us/step - loss: 1.7872 - mae: 1.0597 - val_loss: 1.5662 - val_mae: 1.0241\n",
      "\n",
      "Epoch 00200: val_loss did not improve from 1.54744\n",
      "Epoch 201/1000\n",
      "633/633 [==============================] - 0s 176us/step - loss: 1.7549 - mae: 1.0520 - val_loss: 1.5692 - val_mae: 1.0233\n",
      "\n",
      "Epoch 00201: val_loss did not improve from 1.54744\n",
      "Epoch 202/1000\n",
      "633/633 [==============================] - 0s 178us/step - loss: 1.8714 - mae: 1.0836 - val_loss: 1.5702 - val_mae: 1.0222\n",
      "\n",
      "Epoch 00202: val_loss did not improve from 1.54744\n",
      "Epoch 203/1000\n",
      "633/633 [==============================] - 0s 177us/step - loss: 1.8407 - mae: 1.0555 - val_loss: 1.5681 - val_mae: 1.0220\n",
      "\n",
      "Epoch 00203: val_loss did not improve from 1.54744\n",
      "Epoch 204/1000\n",
      "633/633 [==============================] - 0s 174us/step - loss: 1.6921 - mae: 1.0362 - val_loss: 1.5650 - val_mae: 1.0206\n",
      "\n",
      "Epoch 00204: val_loss did not improve from 1.54744\n",
      "Epoch 205/1000\n",
      "633/633 [==============================] - 0s 184us/step - loss: 1.8616 - mae: 1.0734 - val_loss: 1.5648 - val_mae: 1.0209\n",
      "\n",
      "Epoch 00205: val_loss did not improve from 1.54744\n",
      "Epoch 206/1000\n",
      "633/633 [==============================] - 0s 172us/step - loss: 1.8180 - mae: 1.0682 - val_loss: 1.5634 - val_mae: 1.0208\n",
      "\n",
      "Epoch 00206: val_loss did not improve from 1.54744\n",
      "Epoch 207/1000\n",
      "633/633 [==============================] - 0s 185us/step - loss: 1.8065 - mae: 1.0620 - val_loss: 1.5642 - val_mae: 1.0212\n",
      "\n",
      "Epoch 00207: val_loss did not improve from 1.54744\n",
      "Epoch 208/1000\n",
      "633/633 [==============================] - 0s 175us/step - loss: 1.7658 - mae: 1.0551 - val_loss: 1.5611 - val_mae: 1.0201\n",
      "\n",
      "Epoch 00208: val_loss did not improve from 1.54744\n",
      "Epoch 209/1000\n",
      "633/633 [==============================] - 0s 175us/step - loss: 1.8678 - mae: 1.0896 - val_loss: 1.5537 - val_mae: 1.0189\n",
      "\n",
      "Epoch 00209: val_loss did not improve from 1.54744\n",
      "Epoch 210/1000\n",
      "633/633 [==============================] - 0s 176us/step - loss: 1.8499 - mae: 1.0667 - val_loss: 1.5594 - val_mae: 1.0213\n",
      "\n",
      "Epoch 00210: val_loss did not improve from 1.54744\n",
      "Epoch 211/1000\n",
      "633/633 [==============================] - 0s 171us/step - loss: 1.7944 - mae: 1.0640 - val_loss: 1.5556 - val_mae: 1.0201\n",
      "\n",
      "Epoch 00211: val_loss did not improve from 1.54744\n",
      "Epoch 212/1000\n",
      "633/633 [==============================] - 0s 174us/step - loss: 1.8490 - mae: 1.0966 - val_loss: 1.5604 - val_mae: 1.0223\n",
      "\n",
      "Epoch 00212: val_loss did not improve from 1.54744\n",
      "Epoch 213/1000\n",
      "633/633 [==============================] - 0s 180us/step - loss: 1.8319 - mae: 1.0820 - val_loss: 1.5532 - val_mae: 1.0200\n",
      "\n",
      "Epoch 00213: val_loss did not improve from 1.54744\n",
      "Epoch 214/1000\n",
      "633/633 [==============================] - 0s 189us/step - loss: 1.8651 - mae: 1.0813 - val_loss: 1.5557 - val_mae: 1.0204\n",
      "\n",
      "Epoch 00214: val_loss did not improve from 1.54744\n",
      "Epoch 215/1000\n",
      "633/633 [==============================] - 0s 174us/step - loss: 1.6511 - mae: 1.0138 - val_loss: 1.5516 - val_mae: 1.0192\n",
      "\n",
      "Epoch 00215: val_loss did not improve from 1.54744\n",
      "Epoch 216/1000\n",
      "633/633 [==============================] - 0s 174us/step - loss: 1.8534 - mae: 1.0816 - val_loss: 1.5465 - val_mae: 1.0177\n",
      "\n",
      "Epoch 00216: val_loss improved from 1.54744 to 1.54648, saving model to model.sve\n",
      "Epoch 217/1000\n",
      "633/633 [==============================] - 0s 178us/step - loss: 1.7508 - mae: 1.0421 - val_loss: 1.5447 - val_mae: 1.0181\n",
      "\n",
      "Epoch 00217: val_loss improved from 1.54648 to 1.54466, saving model to model.sve\n",
      "Epoch 218/1000\n",
      "633/633 [==============================] - 0s 185us/step - loss: 1.7717 - mae: 1.0623 - val_loss: 1.5437 - val_mae: 1.0184\n",
      "\n",
      "Epoch 00218: val_loss improved from 1.54466 to 1.54366, saving model to model.sve\n",
      "Epoch 219/1000\n",
      "633/633 [==============================] - 0s 176us/step - loss: 1.7641 - mae: 1.0447 - val_loss: 1.5454 - val_mae: 1.0177\n",
      "\n",
      "Epoch 00219: val_loss did not improve from 1.54366\n",
      "Epoch 220/1000\n",
      "633/633 [==============================] - 0s 189us/step - loss: 1.8896 - mae: 1.0874 - val_loss: 1.5456 - val_mae: 1.0174\n",
      "\n",
      "Epoch 00220: val_loss did not improve from 1.54366\n",
      "Epoch 221/1000\n",
      "633/633 [==============================] - 0s 172us/step - loss: 1.8131 - mae: 1.0732 - val_loss: 1.5450 - val_mae: 1.0172\n",
      "\n",
      "Epoch 00221: val_loss did not improve from 1.54366\n",
      "Epoch 222/1000\n",
      "633/633 [==============================] - 0s 185us/step - loss: 1.7973 - mae: 1.0557 - val_loss: 1.5445 - val_mae: 1.0169\n",
      "\n",
      "Epoch 00222: val_loss did not improve from 1.54366\n",
      "Epoch 223/1000\n",
      "633/633 [==============================] - 0s 182us/step - loss: 1.7542 - mae: 1.0287 - val_loss: 1.5403 - val_mae: 1.0158\n",
      "\n",
      "Epoch 00223: val_loss improved from 1.54366 to 1.54030, saving model to model.sve\n",
      "Epoch 224/1000\n",
      "633/633 [==============================] - 0s 173us/step - loss: 1.7908 - mae: 1.0642 - val_loss: 1.5380 - val_mae: 1.0156\n",
      "\n",
      "Epoch 00224: val_loss improved from 1.54030 to 1.53798, saving model to model.sve\n",
      "Epoch 225/1000\n",
      "633/633 [==============================] - 0s 183us/step - loss: 1.7987 - mae: 1.0589 - val_loss: 1.5380 - val_mae: 1.0157\n",
      "\n",
      "Epoch 00225: val_loss did not improve from 1.53798\n",
      "Epoch 226/1000\n",
      "633/633 [==============================] - 0s 174us/step - loss: 1.8831 - mae: 1.1034 - val_loss: 1.5391 - val_mae: 1.0169\n",
      "\n",
      "Epoch 00226: val_loss did not improve from 1.53798\n",
      "Epoch 227/1000\n",
      "633/633 [==============================] - 0s 199us/step - loss: 1.8402 - mae: 1.0623 - val_loss: 1.5323 - val_mae: 1.0159\n",
      "\n",
      "Epoch 00227: val_loss improved from 1.53798 to 1.53233, saving model to model.sve\n",
      "Epoch 228/1000\n",
      "633/633 [==============================] - 0s 172us/step - loss: 1.7937 - mae: 1.0719 - val_loss: 1.5311 - val_mae: 1.0154\n",
      "\n",
      "Epoch 00228: val_loss improved from 1.53233 to 1.53113, saving model to model.sve\n",
      "Epoch 229/1000\n",
      "633/633 [==============================] - 0s 190us/step - loss: 1.7600 - mae: 1.0486 - val_loss: 1.5287 - val_mae: 1.0150\n",
      "\n",
      "Epoch 00229: val_loss improved from 1.53113 to 1.52868, saving model to model.sve\n",
      "Epoch 230/1000\n",
      "633/633 [==============================] - 0s 176us/step - loss: 1.7225 - mae: 1.0451 - val_loss: 1.5297 - val_mae: 1.0154\n",
      "\n",
      "Epoch 00230: val_loss did not improve from 1.52868\n",
      "Epoch 231/1000\n",
      "633/633 [==============================] - 0s 172us/step - loss: 1.7640 - mae: 1.0653 - val_loss: 1.5291 - val_mae: 1.0148\n",
      "\n",
      "Epoch 00231: val_loss did not improve from 1.52868\n",
      "Epoch 232/1000\n",
      "633/633 [==============================] - 0s 180us/step - loss: 1.7799 - mae: 1.0649 - val_loss: 1.5324 - val_mae: 1.0159\n",
      "\n",
      "Epoch 00232: val_loss did not improve from 1.52868\n",
      "Epoch 233/1000\n",
      "633/633 [==============================] - 0s 174us/step - loss: 1.8192 - mae: 1.0658 - val_loss: 1.5319 - val_mae: 1.0157\n",
      "\n",
      "Epoch 00233: val_loss did not improve from 1.52868\n",
      "Epoch 234/1000\n",
      "633/633 [==============================] - 0s 174us/step - loss: 1.7598 - mae: 1.0507 - val_loss: 1.5344 - val_mae: 1.0158\n",
      "\n",
      "Epoch 00234: val_loss did not improve from 1.52868\n",
      "Epoch 235/1000\n",
      "633/633 [==============================] - 0s 177us/step - loss: 1.7531 - mae: 1.0492 - val_loss: 1.5400 - val_mae: 1.0175\n",
      "\n",
      "Epoch 00235: val_loss did not improve from 1.52868\n",
      "Epoch 236/1000\n",
      "633/633 [==============================] - 0s 172us/step - loss: 1.7370 - mae: 1.0441 - val_loss: 1.5418 - val_mae: 1.0201\n",
      "\n",
      "Epoch 00236: val_loss did not improve from 1.52868\n",
      "Epoch 237/1000\n",
      "633/633 [==============================] - 0s 180us/step - loss: 1.7514 - mae: 1.0509 - val_loss: 1.5426 - val_mae: 1.0204\n",
      "\n",
      "Epoch 00237: val_loss did not improve from 1.52868\n",
      "Epoch 238/1000\n",
      "633/633 [==============================] - 0s 189us/step - loss: 1.7707 - mae: 1.0636 - val_loss: 1.5404 - val_mae: 1.0208\n",
      "\n",
      "Epoch 00238: val_loss did not improve from 1.52868\n",
      "Epoch 239/1000\n",
      "633/633 [==============================] - 0s 177us/step - loss: 1.7623 - mae: 1.0512 - val_loss: 1.5410 - val_mae: 1.0203\n",
      "\n",
      "Epoch 00239: val_loss did not improve from 1.52868\n",
      "Epoch 240/1000\n",
      "633/633 [==============================] - 0s 180us/step - loss: 1.7393 - mae: 1.0423 - val_loss: 1.5394 - val_mae: 1.0210\n",
      "\n",
      "Epoch 00240: val_loss did not improve from 1.52868\n",
      "Epoch 241/1000\n",
      "633/633 [==============================] - 0s 201us/step - loss: 1.7611 - mae: 1.0575 - val_loss: 1.5482 - val_mae: 1.0228\n",
      "\n",
      "Epoch 00241: val_loss did not improve from 1.52868\n",
      "Epoch 242/1000\n",
      "633/633 [==============================] - 0s 175us/step - loss: 1.7092 - mae: 1.0467 - val_loss: 1.5410 - val_mae: 1.0201\n",
      "\n",
      "Epoch 00242: val_loss did not improve from 1.52868\n",
      "Epoch 243/1000\n",
      "633/633 [==============================] - 0s 180us/step - loss: 1.7614 - mae: 1.0481 - val_loss: 1.5390 - val_mae: 1.0201\n",
      "\n",
      "Epoch 00243: val_loss did not improve from 1.52868\n",
      "Epoch 244/1000\n",
      "633/633 [==============================] - 0s 173us/step - loss: 1.7830 - mae: 1.0598 - val_loss: 1.5385 - val_mae: 1.0201\n",
      "\n",
      "Epoch 00244: val_loss did not improve from 1.52868\n",
      "Epoch 245/1000\n",
      "633/633 [==============================] - 0s 173us/step - loss: 1.8125 - mae: 1.0715 - val_loss: 1.5427 - val_mae: 1.0206\n",
      "\n",
      "Epoch 00245: val_loss did not improve from 1.52868\n",
      "Epoch 246/1000\n",
      "633/633 [==============================] - 0s 185us/step - loss: 1.8261 - mae: 1.0579 - val_loss: 1.5464 - val_mae: 1.0215\n",
      "\n",
      "Epoch 00246: val_loss did not improve from 1.52868\n",
      "Epoch 247/1000\n",
      "633/633 [==============================] - 0s 182us/step - loss: 1.8045 - mae: 1.0642 - val_loss: 1.5438 - val_mae: 1.0210\n",
      "\n",
      "Epoch 00247: val_loss did not improve from 1.52868\n",
      "Epoch 248/1000\n",
      "633/633 [==============================] - 0s 182us/step - loss: 1.6276 - mae: 1.0048 - val_loss: 1.5446 - val_mae: 1.0222\n",
      "\n",
      "Epoch 00248: val_loss did not improve from 1.52868\n",
      "Epoch 249/1000\n",
      "633/633 [==============================] - 0s 183us/step - loss: 1.7519 - mae: 1.0311 - val_loss: 1.5445 - val_mae: 1.0230\n",
      "\n",
      "Epoch 00249: val_loss did not improve from 1.52868\n",
      "Epoch 250/1000\n",
      "633/633 [==============================] - 0s 195us/step - loss: 1.6710 - mae: 1.0153 - val_loss: 1.5481 - val_mae: 1.0243\n",
      "\n",
      "Epoch 00250: val_loss did not improve from 1.52868\n",
      "Epoch 251/1000\n",
      "633/633 [==============================] - 0s 199us/step - loss: 1.7040 - mae: 1.0276 - val_loss: 1.5517 - val_mae: 1.0244\n",
      "\n",
      "Epoch 00251: val_loss did not improve from 1.52868\n",
      "Epoch 252/1000\n",
      "633/633 [==============================] - 0s 187us/step - loss: 1.7841 - mae: 1.0585 - val_loss: 1.5488 - val_mae: 1.0225\n",
      "\n",
      "Epoch 00252: val_loss did not improve from 1.52868\n",
      "Epoch 253/1000\n",
      "633/633 [==============================] - 0s 178us/step - loss: 1.7445 - mae: 1.0396 - val_loss: 1.5475 - val_mae: 1.0225\n",
      "\n",
      "Epoch 00253: val_loss did not improve from 1.52868\n",
      "Epoch 254/1000\n",
      "633/633 [==============================] - 0s 177us/step - loss: 1.7556 - mae: 1.0575 - val_loss: 1.5481 - val_mae: 1.0223\n",
      "\n",
      "Epoch 00254: val_loss did not improve from 1.52868\n",
      "Epoch 255/1000\n",
      "633/633 [==============================] - 0s 217us/step - loss: 1.5891 - mae: 1.0033 - val_loss: 1.5494 - val_mae: 1.0239\n",
      "\n",
      "Epoch 00255: val_loss did not improve from 1.52868\n",
      "Epoch 256/1000\n",
      "633/633 [==============================] - 0s 177us/step - loss: 1.7937 - mae: 1.0545 - val_loss: 1.5496 - val_mae: 1.0247\n",
      "\n",
      "Epoch 00256: val_loss did not improve from 1.52868\n",
      "Epoch 257/1000\n",
      "633/633 [==============================] - 0s 178us/step - loss: 1.8378 - mae: 1.0790 - val_loss: 1.5459 - val_mae: 1.0236\n",
      "\n",
      "Epoch 00257: val_loss did not improve from 1.52868\n",
      "Epoch 258/1000\n",
      "633/633 [==============================] - 0s 182us/step - loss: 1.7538 - mae: 1.0556 - val_loss: 1.5399 - val_mae: 1.0218\n",
      "\n",
      "Epoch 00258: val_loss did not improve from 1.52868\n",
      "Epoch 259/1000\n",
      "633/633 [==============================] - 0s 175us/step - loss: 1.7240 - mae: 1.0453 - val_loss: 1.5418 - val_mae: 1.0229\n",
      "\n",
      "Epoch 00259: val_loss did not improve from 1.52868\n",
      "Epoch 260/1000\n",
      "633/633 [==============================] - 0s 181us/step - loss: 1.7779 - mae: 1.0631 - val_loss: 1.5399 - val_mae: 1.0219\n",
      "\n",
      "Epoch 00260: val_loss did not improve from 1.52868\n",
      "Epoch 261/1000\n",
      "633/633 [==============================] - 0s 176us/step - loss: 1.6731 - mae: 1.0095 - val_loss: 1.5445 - val_mae: 1.0232\n",
      "\n",
      "Epoch 00261: val_loss did not improve from 1.52868\n",
      "Epoch 262/1000\n",
      "633/633 [==============================] - 0s 178us/step - loss: 1.7553 - mae: 1.0655 - val_loss: 1.5396 - val_mae: 1.0208\n",
      "\n",
      "Epoch 00262: val_loss did not improve from 1.52868\n",
      "Epoch 263/1000\n",
      "633/633 [==============================] - 0s 193us/step - loss: 1.6779 - mae: 1.0328 - val_loss: 1.5401 - val_mae: 1.0204\n",
      "\n",
      "Epoch 00263: val_loss did not improve from 1.52868\n",
      "Epoch 264/1000\n",
      "633/633 [==============================] - 0s 171us/step - loss: 1.6988 - mae: 1.0268 - val_loss: 1.5364 - val_mae: 1.0201\n",
      "\n",
      "Epoch 00264: val_loss did not improve from 1.52868\n",
      "Epoch 265/1000\n",
      "633/633 [==============================] - 0s 182us/step - loss: 1.7787 - mae: 1.0547 - val_loss: 1.5354 - val_mae: 1.0185\n",
      "\n",
      "Epoch 00265: val_loss did not improve from 1.52868\n",
      "Epoch 266/1000\n",
      "633/633 [==============================] - 0s 175us/step - loss: 1.7114 - mae: 1.0471 - val_loss: 1.5349 - val_mae: 1.0186\n",
      "\n",
      "Epoch 00266: val_loss did not improve from 1.52868\n",
      "Epoch 267/1000\n",
      "633/633 [==============================] - 0s 174us/step - loss: 1.6846 - mae: 1.0306 - val_loss: 1.5356 - val_mae: 1.0192\n",
      "\n",
      "Epoch 00267: val_loss did not improve from 1.52868\n",
      "Epoch 268/1000\n",
      "633/633 [==============================] - 0s 185us/step - loss: 1.7452 - mae: 1.0488 - val_loss: 1.5419 - val_mae: 1.0210\n",
      "\n",
      "Epoch 00268: val_loss did not improve from 1.52868\n",
      "Epoch 269/1000\n",
      "633/633 [==============================] - 0s 178us/step - loss: 1.7636 - mae: 1.0549 - val_loss: 1.5429 - val_mae: 1.0218\n",
      "\n",
      "Epoch 00269: val_loss did not improve from 1.52868\n",
      "Epoch 270/1000\n",
      "633/633 [==============================] - 0s 178us/step - loss: 1.7557 - mae: 1.0380 - val_loss: 1.5421 - val_mae: 1.0210\n",
      "\n",
      "Epoch 00270: val_loss did not improve from 1.52868\n",
      "Epoch 271/1000\n",
      "633/633 [==============================] - 0s 178us/step - loss: 1.7605 - mae: 1.0611 - val_loss: 1.5414 - val_mae: 1.0203\n",
      "\n",
      "Epoch 00271: val_loss did not improve from 1.52868\n",
      "Epoch 272/1000\n",
      "633/633 [==============================] - 0s 196us/step - loss: 1.7963 - mae: 1.0647 - val_loss: 1.5400 - val_mae: 1.0198\n",
      "\n",
      "Epoch 00272: val_loss did not improve from 1.52868\n",
      "Epoch 273/1000\n",
      "633/633 [==============================] - 0s 170us/step - loss: 1.7516 - mae: 1.0441 - val_loss: 1.5382 - val_mae: 1.0196\n",
      "\n",
      "Epoch 00273: val_loss did not improve from 1.52868\n",
      "Epoch 274/1000\n",
      "633/633 [==============================] - 0s 183us/step - loss: 1.8317 - mae: 1.0813 - val_loss: 1.5401 - val_mae: 1.0208\n",
      "\n",
      "Epoch 00274: val_loss did not improve from 1.52868\n",
      "Epoch 275/1000\n",
      "633/633 [==============================] - 0s 171us/step - loss: 1.6917 - mae: 1.0262 - val_loss: 1.5400 - val_mae: 1.0201\n",
      "\n",
      "Epoch 00275: val_loss did not improve from 1.52868\n",
      "Epoch 276/1000\n",
      "633/633 [==============================] - 0s 171us/step - loss: 1.7625 - mae: 1.0530 - val_loss: 1.5360 - val_mae: 1.0189\n",
      "\n",
      "Epoch 00276: val_loss did not improve from 1.52868\n",
      "Epoch 277/1000\n",
      "633/633 [==============================] - 0s 178us/step - loss: 1.7178 - mae: 1.0260 - val_loss: 1.5342 - val_mae: 1.0180\n",
      "\n",
      "Epoch 00277: val_loss did not improve from 1.52868\n",
      "Epoch 278/1000\n",
      "633/633 [==============================] - 0s 176us/step - loss: 1.7199 - mae: 1.0403 - val_loss: 1.5270 - val_mae: 1.0160\n",
      "\n",
      "Epoch 00278: val_loss improved from 1.52868 to 1.52700, saving model to model.sve\n",
      "Epoch 279/1000\n",
      "633/633 [==============================] - 0s 180us/step - loss: 1.6820 - mae: 1.0381 - val_loss: 1.5303 - val_mae: 1.0173\n",
      "\n",
      "Epoch 00279: val_loss did not improve from 1.52700\n",
      "Epoch 280/1000\n",
      "633/633 [==============================] - 0s 173us/step - loss: 1.6831 - mae: 1.0266 - val_loss: 1.5345 - val_mae: 1.0183\n",
      "\n",
      "Epoch 00280: val_loss did not improve from 1.52700\n",
      "Epoch 281/1000\n",
      "633/633 [==============================] - 0s 183us/step - loss: 1.6454 - mae: 1.0091 - val_loss: 1.5391 - val_mae: 1.0192\n",
      "\n",
      "Epoch 00281: val_loss did not improve from 1.52700\n",
      "Epoch 282/1000\n",
      "633/633 [==============================] - 0s 171us/step - loss: 1.7455 - mae: 1.0437 - val_loss: 1.5432 - val_mae: 1.0198\n",
      "\n",
      "Epoch 00282: val_loss did not improve from 1.52700\n",
      "Epoch 283/1000\n",
      "633/633 [==============================] - 0s 175us/step - loss: 1.7666 - mae: 1.0584 - val_loss: 1.5451 - val_mae: 1.0200\n",
      "\n",
      "Epoch 00283: val_loss did not improve from 1.52700\n",
      "Epoch 284/1000\n",
      "633/633 [==============================] - 0s 172us/step - loss: 1.7851 - mae: 1.0442 - val_loss: 1.5453 - val_mae: 1.0213\n",
      "\n",
      "Epoch 00284: val_loss did not improve from 1.52700\n",
      "Epoch 285/1000\n",
      "633/633 [==============================] - 0s 179us/step - loss: 1.7726 - mae: 1.0419 - val_loss: 1.5452 - val_mae: 1.0200\n",
      "\n",
      "Epoch 00285: val_loss did not improve from 1.52700\n",
      "Epoch 286/1000\n",
      "633/633 [==============================] - 0s 181us/step - loss: 1.6251 - mae: 1.0073 - val_loss: 1.5426 - val_mae: 1.0200\n",
      "\n",
      "Epoch 00286: val_loss did not improve from 1.52700\n",
      "Epoch 287/1000\n",
      "633/633 [==============================] - 0s 187us/step - loss: 1.7310 - mae: 1.0485 - val_loss: 1.5391 - val_mae: 1.0189\n",
      "\n",
      "Epoch 00287: val_loss did not improve from 1.52700\n",
      "Epoch 288/1000\n",
      "633/633 [==============================] - 0s 175us/step - loss: 1.7413 - mae: 1.0356 - val_loss: 1.5361 - val_mae: 1.0182\n",
      "\n",
      "Epoch 00288: val_loss did not improve from 1.52700\n",
      "Epoch 289/1000\n",
      "633/633 [==============================] - 0s 175us/step - loss: 1.6180 - mae: 0.9994 - val_loss: 1.5345 - val_mae: 1.0176\n",
      "\n",
      "Epoch 00289: val_loss did not improve from 1.52700\n",
      "Epoch 290/1000\n",
      "633/633 [==============================] - 0s 185us/step - loss: 1.7563 - mae: 1.0411 - val_loss: 1.5293 - val_mae: 1.0160\n",
      "\n",
      "Epoch 00290: val_loss did not improve from 1.52700\n",
      "Epoch 291/1000\n",
      "633/633 [==============================] - 0s 176us/step - loss: 1.6903 - mae: 1.0268 - val_loss: 1.5283 - val_mae: 1.0167\n",
      "\n",
      "Epoch 00291: val_loss did not improve from 1.52700\n",
      "Epoch 292/1000\n",
      "633/633 [==============================] - 0s 173us/step - loss: 1.7594 - mae: 1.0573 - val_loss: 1.5239 - val_mae: 1.0151\n",
      "\n",
      "Epoch 00292: val_loss improved from 1.52700 to 1.52393, saving model to model.sve\n",
      "Epoch 293/1000\n",
      "633/633 [==============================] - 0s 183us/step - loss: 1.7468 - mae: 1.0484 - val_loss: 1.5224 - val_mae: 1.0139\n",
      "\n",
      "Epoch 00293: val_loss improved from 1.52393 to 1.52238, saving model to model.sve\n",
      "Epoch 294/1000\n",
      "633/633 [==============================] - 0s 191us/step - loss: 1.7187 - mae: 1.0488 - val_loss: 1.5250 - val_mae: 1.0153\n",
      "\n",
      "Epoch 00294: val_loss did not improve from 1.52238\n",
      "Epoch 295/1000\n",
      "633/633 [==============================] - 0s 181us/step - loss: 1.6730 - mae: 1.0399 - val_loss: 1.5271 - val_mae: 1.0163\n",
      "\n",
      "Epoch 00295: val_loss did not improve from 1.52238\n",
      "Epoch 296/1000\n",
      "633/633 [==============================] - 0s 171us/step - loss: 1.6757 - mae: 1.0261 - val_loss: 1.5261 - val_mae: 1.0163\n",
      "\n",
      "Epoch 00296: val_loss did not improve from 1.52238\n",
      "Epoch 297/1000\n",
      "633/633 [==============================] - 0s 175us/step - loss: 1.6741 - mae: 1.0266 - val_loss: 1.5317 - val_mae: 1.0176\n",
      "\n",
      "Epoch 00297: val_loss did not improve from 1.52238\n",
      "Epoch 298/1000\n",
      "633/633 [==============================] - 0s 187us/step - loss: 1.6707 - mae: 1.0241 - val_loss: 1.5332 - val_mae: 1.0172\n",
      "\n",
      "Epoch 00298: val_loss did not improve from 1.52238\n",
      "Epoch 299/1000\n",
      "633/633 [==============================] - 0s 174us/step - loss: 1.6587 - mae: 1.0112 - val_loss: 1.5396 - val_mae: 1.0193\n",
      "\n",
      "Epoch 00299: val_loss did not improve from 1.52238\n",
      "Epoch 300/1000\n",
      "633/633 [==============================] - 0s 179us/step - loss: 1.6572 - mae: 1.0162 - val_loss: 1.5362 - val_mae: 1.0180\n",
      "\n",
      "Epoch 00300: val_loss did not improve from 1.52238\n",
      "Epoch 301/1000\n",
      "633/633 [==============================] - 0s 189us/step - loss: 1.6868 - mae: 1.0193 - val_loss: 1.5380 - val_mae: 1.0189\n",
      "\n",
      "Epoch 00301: val_loss did not improve from 1.52238\n",
      "Epoch 302/1000\n",
      "633/633 [==============================] - 0s 170us/step - loss: 1.7081 - mae: 1.0490 - val_loss: 1.5391 - val_mae: 1.0190\n",
      "\n",
      "Epoch 00302: val_loss did not improve from 1.52238\n",
      "Epoch 303/1000\n",
      "633/633 [==============================] - 0s 178us/step - loss: 1.7312 - mae: 1.0424 - val_loss: 1.5367 - val_mae: 1.0191\n",
      "\n",
      "Epoch 00303: val_loss did not improve from 1.52238\n",
      "Epoch 304/1000\n",
      "633/633 [==============================] - 0s 185us/step - loss: 1.6853 - mae: 1.0305 - val_loss: 1.5412 - val_mae: 1.0198\n",
      "\n",
      "Epoch 00304: val_loss did not improve from 1.52238\n",
      "Epoch 305/1000\n",
      "633/633 [==============================] - 0s 171us/step - loss: 1.6816 - mae: 1.0185 - val_loss: 1.5379 - val_mae: 1.0201\n",
      "\n",
      "Epoch 00305: val_loss did not improve from 1.52238\n",
      "Epoch 306/1000\n",
      "633/633 [==============================] - 0s 181us/step - loss: 1.7347 - mae: 1.0350 - val_loss: 1.5391 - val_mae: 1.0199\n",
      "\n",
      "Epoch 00306: val_loss did not improve from 1.52238\n",
      "Epoch 307/1000\n",
      "633/633 [==============================] - 0s 170us/step - loss: 1.7425 - mae: 1.0493 - val_loss: 1.5381 - val_mae: 1.0205\n",
      "\n",
      "Epoch 00307: val_loss did not improve from 1.52238\n",
      "Epoch 308/1000\n",
      "633/633 [==============================] - 0s 181us/step - loss: 1.6570 - mae: 1.0406 - val_loss: 1.5403 - val_mae: 1.0212\n",
      "\n",
      "Epoch 00308: val_loss did not improve from 1.52238\n",
      "Epoch 309/1000\n",
      "633/633 [==============================] - 0s 175us/step - loss: 1.7043 - mae: 1.0225 - val_loss: 1.5388 - val_mae: 1.0220\n",
      "\n",
      "Epoch 00309: val_loss did not improve from 1.52238\n",
      "Epoch 310/1000\n",
      "633/633 [==============================] - 0s 176us/step - loss: 1.6150 - mae: 1.0043 - val_loss: 1.5419 - val_mae: 1.0217\n",
      "\n",
      "Epoch 00310: val_loss did not improve from 1.52238\n",
      "Epoch 311/1000\n",
      "633/633 [==============================] - 0s 180us/step - loss: 1.6477 - mae: 1.0059 - val_loss: 1.5396 - val_mae: 1.0217\n",
      "\n",
      "Epoch 00311: val_loss did not improve from 1.52238\n",
      "Epoch 312/1000\n",
      "633/633 [==============================] - 0s 170us/step - loss: 1.7646 - mae: 1.0631 - val_loss: 1.5354 - val_mae: 1.0202\n",
      "\n",
      "Epoch 00312: val_loss did not improve from 1.52238\n",
      "Epoch 313/1000\n",
      "633/633 [==============================] - 0s 173us/step - loss: 1.7301 - mae: 1.0210 - val_loss: 1.5357 - val_mae: 1.0207\n",
      "\n",
      "Epoch 00313: val_loss did not improve from 1.52238\n",
      "Epoch 314/1000\n",
      "633/633 [==============================] - 0s 184us/step - loss: 1.6745 - mae: 1.0244 - val_loss: 1.5420 - val_mae: 1.0225\n",
      "\n",
      "Epoch 00314: val_loss did not improve from 1.52238\n",
      "Epoch 315/1000\n",
      "633/633 [==============================] - 0s 185us/step - loss: 1.6671 - mae: 1.0298 - val_loss: 1.5429 - val_mae: 1.0217\n",
      "\n",
      "Epoch 00315: val_loss did not improve from 1.52238\n",
      "Epoch 316/1000\n",
      "633/633 [==============================] - 0s 171us/step - loss: 1.6707 - mae: 1.0315 - val_loss: 1.5432 - val_mae: 1.0220\n",
      "\n",
      "Epoch 00316: val_loss did not improve from 1.52238\n",
      "Epoch 317/1000\n",
      "633/633 [==============================] - 0s 183us/step - loss: 1.6817 - mae: 1.0271 - val_loss: 1.5476 - val_mae: 1.0230\n",
      "\n",
      "Epoch 00317: val_loss did not improve from 1.52238\n",
      "Epoch 318/1000\n",
      "633/633 [==============================] - 0s 180us/step - loss: 1.6376 - mae: 1.0164 - val_loss: 1.5445 - val_mae: 1.0210\n",
      "\n",
      "Epoch 00318: val_loss did not improve from 1.52238\n",
      "Epoch 319/1000\n",
      "633/633 [==============================] - 0s 200us/step - loss: 1.7113 - mae: 1.0308 - val_loss: 1.5428 - val_mae: 1.0201\n",
      "\n",
      "Epoch 00319: val_loss did not improve from 1.52238\n",
      "Epoch 320/1000\n",
      "633/633 [==============================] - 0s 173us/step - loss: 1.6645 - mae: 1.0281 - val_loss: 1.5432 - val_mae: 1.0218\n",
      "\n",
      "Epoch 00320: val_loss did not improve from 1.52238\n",
      "Epoch 321/1000\n",
      "633/633 [==============================] - 0s 174us/step - loss: 1.6823 - mae: 1.0339 - val_loss: 1.5442 - val_mae: 1.0217\n",
      "\n",
      "Epoch 00321: val_loss did not improve from 1.52238\n",
      "Epoch 322/1000\n",
      "633/633 [==============================] - 0s 172us/step - loss: 1.7102 - mae: 1.0332 - val_loss: 1.5424 - val_mae: 1.0216\n",
      "\n",
      "Epoch 00322: val_loss did not improve from 1.52238\n",
      "Epoch 323/1000\n",
      "633/633 [==============================] - 0s 177us/step - loss: 1.7157 - mae: 1.0410 - val_loss: 1.5365 - val_mae: 1.0190\n",
      "\n",
      "Epoch 00323: val_loss did not improve from 1.52238\n",
      "Epoch 324/1000\n",
      "633/633 [==============================] - 0s 186us/step - loss: 1.7050 - mae: 1.0490 - val_loss: 1.5326 - val_mae: 1.0186\n",
      "\n",
      "Epoch 00324: val_loss did not improve from 1.52238\n",
      "Epoch 325/1000\n",
      "633/633 [==============================] - 0s 178us/step - loss: 1.7466 - mae: 1.0463 - val_loss: 1.5280 - val_mae: 1.0179\n",
      "\n",
      "Epoch 00325: val_loss did not improve from 1.52238\n",
      "Epoch 326/1000\n",
      "633/633 [==============================] - 0s 176us/step - loss: 1.6530 - mae: 1.0160 - val_loss: 1.5300 - val_mae: 1.0182\n",
      "\n",
      "Epoch 00326: val_loss did not improve from 1.52238\n",
      "Epoch 327/1000\n",
      "633/633 [==============================] - 0s 179us/step - loss: 1.7326 - mae: 1.0629 - val_loss: 1.5266 - val_mae: 1.0161\n",
      "\n",
      "Epoch 00327: val_loss did not improve from 1.52238\n",
      "Epoch 328/1000\n",
      "633/633 [==============================] - 0s 180us/step - loss: 1.6666 - mae: 1.0207 - val_loss: 1.5241 - val_mae: 1.0166\n",
      "\n",
      "Epoch 00328: val_loss did not improve from 1.52238\n",
      "Epoch 329/1000\n",
      "633/633 [==============================] - 0s 173us/step - loss: 1.6486 - mae: 1.0031 - val_loss: 1.5259 - val_mae: 1.0176\n",
      "\n",
      "Epoch 00329: val_loss did not improve from 1.52238\n",
      "Epoch 330/1000\n",
      "633/633 [==============================] - 0s 172us/step - loss: 1.7505 - mae: 1.0412 - val_loss: 1.5243 - val_mae: 1.0171\n",
      "\n",
      "Epoch 00330: val_loss did not improve from 1.52238\n",
      "Epoch 331/1000\n",
      "633/633 [==============================] - 0s 173us/step - loss: 1.6496 - mae: 1.0250 - val_loss: 1.5264 - val_mae: 1.0169\n",
      "\n",
      "Epoch 00331: val_loss did not improve from 1.52238\n",
      "Epoch 332/1000\n",
      "633/633 [==============================] - 0s 175us/step - loss: 1.5665 - mae: 0.9794 - val_loss: 1.5234 - val_mae: 1.0161\n",
      "\n",
      "Epoch 00332: val_loss did not improve from 1.52238\n",
      "Epoch 333/1000\n",
      "633/633 [==============================] - 0s 188us/step - loss: 1.6964 - mae: 1.0244 - val_loss: 1.5275 - val_mae: 1.0175\n",
      "\n",
      "Epoch 00333: val_loss did not improve from 1.52238\n",
      "Epoch 334/1000\n",
      "633/633 [==============================] - 0s 176us/step - loss: 1.6321 - mae: 1.0119 - val_loss: 1.5310 - val_mae: 1.0179\n",
      "\n",
      "Epoch 00334: val_loss did not improve from 1.52238\n",
      "Epoch 335/1000\n",
      "633/633 [==============================] - 0s 173us/step - loss: 1.6846 - mae: 1.0253 - val_loss: 1.5342 - val_mae: 1.0192\n",
      "\n",
      "Epoch 00335: val_loss did not improve from 1.52238\n",
      "Epoch 336/1000\n",
      "633/633 [==============================] - 0s 183us/step - loss: 1.6581 - mae: 1.0291 - val_loss: 1.5340 - val_mae: 1.0195\n",
      "\n",
      "Epoch 00336: val_loss did not improve from 1.52238\n",
      "Epoch 337/1000\n",
      "633/633 [==============================] - 0s 184us/step - loss: 1.6006 - mae: 0.9967 - val_loss: 1.5287 - val_mae: 1.0176\n",
      "\n",
      "Epoch 00337: val_loss did not improve from 1.52238\n",
      "Epoch 338/1000\n",
      "633/633 [==============================] - 0s 178us/step - loss: 1.6888 - mae: 1.0447 - val_loss: 1.5271 - val_mae: 1.0164\n",
      "\n",
      "Epoch 00338: val_loss did not improve from 1.52238\n",
      "Epoch 339/1000\n",
      "633/633 [==============================] - 0s 182us/step - loss: 1.6672 - mae: 1.0035 - val_loss: 1.5318 - val_mae: 1.0189\n",
      "\n",
      "Epoch 00339: val_loss did not improve from 1.52238\n",
      "Epoch 340/1000\n",
      "633/633 [==============================] - 0s 219us/step - loss: 1.6473 - mae: 1.0225 - val_loss: 1.5293 - val_mae: 1.0191\n",
      "\n",
      "Epoch 00340: val_loss did not improve from 1.52238\n",
      "Epoch 341/1000\n",
      "633/633 [==============================] - 0s 188us/step - loss: 1.6375 - mae: 0.9942 - val_loss: 1.5304 - val_mae: 1.0192\n",
      "\n",
      "Epoch 00341: val_loss did not improve from 1.52238\n",
      "Epoch 342/1000\n",
      "633/633 [==============================] - 0s 191us/step - loss: 1.6070 - mae: 1.0054 - val_loss: 1.5283 - val_mae: 1.0183\n",
      "\n",
      "Epoch 00342: val_loss did not improve from 1.52238\n",
      "Epoch 343/1000\n",
      "633/633 [==============================] - 0s 174us/step - loss: 1.7517 - mae: 1.0493 - val_loss: 1.5302 - val_mae: 1.0179\n",
      "\n",
      "Epoch 00343: val_loss did not improve from 1.52238\n",
      "Epoch 344/1000\n",
      "633/633 [==============================] - 0s 185us/step - loss: 1.6526 - mae: 1.0183 - val_loss: 1.5279 - val_mae: 1.0170\n",
      "\n",
      "Epoch 00344: val_loss did not improve from 1.52238\n",
      "Epoch 345/1000\n",
      "633/633 [==============================] - 0s 176us/step - loss: 1.7154 - mae: 1.0392 - val_loss: 1.5263 - val_mae: 1.0163\n",
      "\n",
      "Epoch 00345: val_loss did not improve from 1.52238\n",
      "Epoch 346/1000\n",
      "633/633 [==============================] - 0s 179us/step - loss: 1.6591 - mae: 1.0117 - val_loss: 1.5336 - val_mae: 1.0201\n",
      "\n",
      "Epoch 00346: val_loss did not improve from 1.52238\n",
      "Epoch 347/1000\n",
      "633/633 [==============================] - 0s 186us/step - loss: 1.7449 - mae: 1.0291 - val_loss: 1.5332 - val_mae: 1.0200\n",
      "\n",
      "Epoch 00347: val_loss did not improve from 1.52238\n",
      "Epoch 348/1000\n",
      "633/633 [==============================] - 0s 174us/step - loss: 1.7110 - mae: 1.0379 - val_loss: 1.5306 - val_mae: 1.0189\n",
      "\n",
      "Epoch 00348: val_loss did not improve from 1.52238\n",
      "Epoch 349/1000\n",
      "633/633 [==============================] - 0s 177us/step - loss: 1.6673 - mae: 1.0199 - val_loss: 1.5279 - val_mae: 1.0179\n",
      "\n",
      "Epoch 00349: val_loss did not improve from 1.52238\n",
      "Epoch 350/1000\n",
      "633/633 [==============================] - 0s 189us/step - loss: 1.6005 - mae: 0.9951 - val_loss: 1.5223 - val_mae: 1.0175\n",
      "\n",
      "Epoch 00350: val_loss improved from 1.52238 to 1.52229, saving model to model.sve\n",
      "Epoch 351/1000\n",
      "633/633 [==============================] - 0s 175us/step - loss: 1.6526 - mae: 0.9926 - val_loss: 1.5233 - val_mae: 1.0177\n",
      "\n",
      "Epoch 00351: val_loss did not improve from 1.52229\n",
      "Epoch 352/1000\n",
      "633/633 [==============================] - 0s 184us/step - loss: 1.6377 - mae: 1.0274 - val_loss: 1.5218 - val_mae: 1.0177\n",
      "\n",
      "Epoch 00352: val_loss improved from 1.52229 to 1.52178, saving model to model.sve\n",
      "Epoch 353/1000\n",
      "633/633 [==============================] - 0s 171us/step - loss: 1.6605 - mae: 1.0192 - val_loss: 1.5299 - val_mae: 1.0192\n",
      "\n",
      "Epoch 00353: val_loss did not improve from 1.52178\n",
      "Epoch 354/1000\n",
      "633/633 [==============================] - 0s 179us/step - loss: 1.5553 - mae: 0.9960 - val_loss: 1.5259 - val_mae: 1.0166\n",
      "\n",
      "Epoch 00354: val_loss did not improve from 1.52178\n",
      "Epoch 355/1000\n",
      "633/633 [==============================] - 0s 177us/step - loss: 1.7131 - mae: 1.0357 - val_loss: 1.5237 - val_mae: 1.0157\n",
      "\n",
      "Epoch 00355: val_loss did not improve from 1.52178\n",
      "Epoch 356/1000\n",
      "633/633 [==============================] - 0s 171us/step - loss: 1.6561 - mae: 1.0020 - val_loss: 1.5186 - val_mae: 1.0139\n",
      "\n",
      "Epoch 00356: val_loss improved from 1.52178 to 1.51862, saving model to model.sve\n",
      "Epoch 357/1000\n",
      "633/633 [==============================] - 0s 181us/step - loss: 1.6572 - mae: 1.0375 - val_loss: 1.5246 - val_mae: 1.0159\n",
      "\n",
      "Epoch 00357: val_loss did not improve from 1.51862\n",
      "Epoch 358/1000\n",
      "633/633 [==============================] - 0s 194us/step - loss: 1.6080 - mae: 0.9996 - val_loss: 1.5253 - val_mae: 1.0172\n",
      "\n",
      "Epoch 00358: val_loss did not improve from 1.51862\n",
      "Epoch 359/1000\n",
      "633/633 [==============================] - 0s 180us/step - loss: 1.6451 - mae: 0.9995 - val_loss: 1.5251 - val_mae: 1.0172\n",
      "\n",
      "Epoch 00359: val_loss did not improve from 1.51862\n",
      "Epoch 360/1000\n",
      "633/633 [==============================] - 0s 189us/step - loss: 1.6399 - mae: 1.0201 - val_loss: 1.5216 - val_mae: 1.0169\n",
      "\n",
      "Epoch 00360: val_loss did not improve from 1.51862\n",
      "Epoch 361/1000\n",
      "633/633 [==============================] - 0s 179us/step - loss: 1.7375 - mae: 1.0468 - val_loss: 1.5201 - val_mae: 1.0162\n",
      "\n",
      "Epoch 00361: val_loss did not improve from 1.51862\n",
      "Epoch 362/1000\n",
      "633/633 [==============================] - 0s 191us/step - loss: 1.6428 - mae: 1.0224 - val_loss: 1.5159 - val_mae: 1.0148\n",
      "\n",
      "Epoch 00362: val_loss improved from 1.51862 to 1.51593, saving model to model.sve\n",
      "Epoch 363/1000\n",
      "633/633 [==============================] - 0s 179us/step - loss: 1.6444 - mae: 1.0041 - val_loss: 1.5138 - val_mae: 1.0131\n",
      "\n",
      "Epoch 00363: val_loss improved from 1.51593 to 1.51379, saving model to model.sve\n",
      "Epoch 364/1000\n",
      "633/633 [==============================] - 0s 193us/step - loss: 1.5868 - mae: 1.0001 - val_loss: 1.5111 - val_mae: 1.0135\n",
      "\n",
      "Epoch 00364: val_loss improved from 1.51379 to 1.51105, saving model to model.sve\n",
      "Epoch 365/1000\n",
      "633/633 [==============================] - 0s 197us/step - loss: 1.6401 - mae: 1.0114 - val_loss: 1.5056 - val_mae: 1.0108\n",
      "\n",
      "Epoch 00365: val_loss improved from 1.51105 to 1.50556, saving model to model.sve\n",
      "Epoch 366/1000\n",
      "633/633 [==============================] - 0s 197us/step - loss: 1.6891 - mae: 1.0315 - val_loss: 1.5066 - val_mae: 1.0106\n",
      "\n",
      "Epoch 00366: val_loss did not improve from 1.50556\n",
      "Epoch 367/1000\n",
      "633/633 [==============================] - 0s 180us/step - loss: 1.6740 - mae: 1.0313 - val_loss: 1.5078 - val_mae: 1.0107\n",
      "\n",
      "Epoch 00367: val_loss did not improve from 1.50556\n",
      "Epoch 368/1000\n",
      "633/633 [==============================] - 0s 185us/step - loss: 1.6219 - mae: 1.0160 - val_loss: 1.5064 - val_mae: 1.0105\n",
      "\n",
      "Epoch 00368: val_loss did not improve from 1.50556\n",
      "Epoch 369/1000\n",
      "633/633 [==============================] - 0s 182us/step - loss: 1.5977 - mae: 1.0047 - val_loss: 1.5073 - val_mae: 1.0101\n",
      "\n",
      "Epoch 00369: val_loss did not improve from 1.50556\n",
      "Epoch 370/1000\n",
      "633/633 [==============================] - 0s 177us/step - loss: 1.6930 - mae: 1.0218 - val_loss: 1.5103 - val_mae: 1.0111\n",
      "\n",
      "Epoch 00370: val_loss did not improve from 1.50556\n",
      "Epoch 371/1000\n",
      "633/633 [==============================] - 0s 190us/step - loss: 1.6165 - mae: 1.0030 - val_loss: 1.5120 - val_mae: 1.0118\n",
      "\n",
      "Epoch 00371: val_loss did not improve from 1.50556\n",
      "Epoch 372/1000\n",
      "633/633 [==============================] - 0s 172us/step - loss: 1.6506 - mae: 1.0126 - val_loss: 1.5138 - val_mae: 1.0101\n",
      "\n",
      "Epoch 00372: val_loss did not improve from 1.50556\n",
      "Epoch 373/1000\n",
      "633/633 [==============================] - 0s 173us/step - loss: 1.7229 - mae: 1.0418 - val_loss: 1.5161 - val_mae: 1.0113\n",
      "\n",
      "Epoch 00373: val_loss did not improve from 1.50556\n",
      "Epoch 374/1000\n",
      "633/633 [==============================] - 0s 193us/step - loss: 1.6502 - mae: 1.0224 - val_loss: 1.5121 - val_mae: 1.0106\n",
      "\n",
      "Epoch 00374: val_loss did not improve from 1.50556\n",
      "Epoch 375/1000\n",
      "633/633 [==============================] - 0s 181us/step - loss: 1.6296 - mae: 1.0083 - val_loss: 1.5130 - val_mae: 1.0112\n",
      "\n",
      "Epoch 00375: val_loss did not improve from 1.50556\n",
      "Epoch 376/1000\n",
      "633/633 [==============================] - 0s 185us/step - loss: 1.6733 - mae: 1.0225 - val_loss: 1.5114 - val_mae: 1.0110\n",
      "\n",
      "Epoch 00376: val_loss did not improve from 1.50556\n",
      "Epoch 377/1000\n",
      "633/633 [==============================] - 0s 180us/step - loss: 1.5967 - mae: 1.0102 - val_loss: 1.5090 - val_mae: 1.0105\n",
      "\n",
      "Epoch 00377: val_loss did not improve from 1.50556\n",
      "Epoch 378/1000\n",
      "633/633 [==============================] - 0s 201us/step - loss: 1.6366 - mae: 1.0201 - val_loss: 1.5124 - val_mae: 1.0129\n",
      "\n",
      "Epoch 00378: val_loss did not improve from 1.50556\n",
      "Epoch 379/1000\n",
      "633/633 [==============================] - 0s 188us/step - loss: 1.6615 - mae: 1.0105 - val_loss: 1.5156 - val_mae: 1.0142\n",
      "\n",
      "Epoch 00379: val_loss did not improve from 1.50556\n",
      "Epoch 380/1000\n",
      "633/633 [==============================] - 0s 183us/step - loss: 1.6804 - mae: 1.0326 - val_loss: 1.5108 - val_mae: 1.0121\n",
      "\n",
      "Epoch 00380: val_loss did not improve from 1.50556\n",
      "Epoch 381/1000\n",
      "633/633 [==============================] - 0s 184us/step - loss: 1.6677 - mae: 1.0283 - val_loss: 1.5152 - val_mae: 1.0120\n",
      "\n",
      "Epoch 00381: val_loss did not improve from 1.50556\n",
      "Epoch 382/1000\n",
      "633/633 [==============================] - 0s 188us/step - loss: 1.5917 - mae: 1.0054 - val_loss: 1.5190 - val_mae: 1.0135\n",
      "\n",
      "Epoch 00382: val_loss did not improve from 1.50556\n",
      "Epoch 383/1000\n",
      "633/633 [==============================] - 0s 176us/step - loss: 1.6056 - mae: 1.0009 - val_loss: 1.5206 - val_mae: 1.0143\n",
      "\n",
      "Epoch 00383: val_loss did not improve from 1.50556\n",
      "Epoch 384/1000\n",
      "633/633 [==============================] - 0s 190us/step - loss: 1.7264 - mae: 1.0357 - val_loss: 1.5216 - val_mae: 1.0146\n",
      "\n",
      "Epoch 00384: val_loss did not improve from 1.50556\n",
      "Epoch 385/1000\n",
      "633/633 [==============================] - 0s 174us/step - loss: 1.6291 - mae: 0.9978 - val_loss: 1.5184 - val_mae: 1.0126\n",
      "\n",
      "Epoch 00385: val_loss did not improve from 1.50556\n",
      "Epoch 386/1000\n",
      "633/633 [==============================] - 0s 184us/step - loss: 1.6431 - mae: 1.0098 - val_loss: 1.5233 - val_mae: 1.0144\n",
      "\n",
      "Epoch 00386: val_loss did not improve from 1.50556\n",
      "Epoch 387/1000\n",
      "633/633 [==============================] - 0s 185us/step - loss: 1.6827 - mae: 1.0198 - val_loss: 1.5280 - val_mae: 1.0156\n",
      "\n",
      "Epoch 00387: val_loss did not improve from 1.50556\n",
      "Epoch 388/1000\n",
      "633/633 [==============================] - 0s 182us/step - loss: 1.5631 - mae: 0.9891 - val_loss: 1.5245 - val_mae: 1.0150\n",
      "\n",
      "Epoch 00388: val_loss did not improve from 1.50556\n",
      "Epoch 389/1000\n",
      "633/633 [==============================] - 0s 190us/step - loss: 1.5798 - mae: 0.9985 - val_loss: 1.5257 - val_mae: 1.0155\n",
      "\n",
      "Epoch 00389: val_loss did not improve from 1.50556\n",
      "Epoch 390/1000\n",
      "633/633 [==============================] - 0s 182us/step - loss: 1.5963 - mae: 0.9971 - val_loss: 1.5237 - val_mae: 1.0145\n",
      "\n",
      "Epoch 00390: val_loss did not improve from 1.50556\n",
      "Epoch 391/1000\n",
      "633/633 [==============================] - 0s 209us/step - loss: 1.6121 - mae: 0.9988 - val_loss: 1.5226 - val_mae: 1.0146\n",
      "\n",
      "Epoch 00391: val_loss did not improve from 1.50556\n",
      "Epoch 392/1000\n",
      "633/633 [==============================] - 0s 186us/step - loss: 1.5758 - mae: 0.9805 - val_loss: 1.5198 - val_mae: 1.0143\n",
      "\n",
      "Epoch 00392: val_loss did not improve from 1.50556\n",
      "Epoch 393/1000\n",
      "633/633 [==============================] - 0s 184us/step - loss: 1.7042 - mae: 1.0337 - val_loss: 1.5167 - val_mae: 1.0150\n",
      "\n",
      "Epoch 00393: val_loss did not improve from 1.50556\n",
      "Epoch 394/1000\n",
      "633/633 [==============================] - 0s 184us/step - loss: 1.6678 - mae: 1.0160 - val_loss: 1.5139 - val_mae: 1.0146\n",
      "\n",
      "Epoch 00394: val_loss did not improve from 1.50556\n",
      "Epoch 395/1000\n",
      "633/633 [==============================] - 0s 210us/step - loss: 1.5525 - mae: 0.9890 - val_loss: 1.5203 - val_mae: 1.0161\n",
      "\n",
      "Epoch 00395: val_loss did not improve from 1.50556\n",
      "Epoch 396/1000\n",
      "633/633 [==============================] - 0s 179us/step - loss: 1.6271 - mae: 1.0070 - val_loss: 1.5222 - val_mae: 1.0154\n",
      "\n",
      "Epoch 00396: val_loss did not improve from 1.50556\n",
      "Epoch 397/1000\n",
      "633/633 [==============================] - 0s 176us/step - loss: 1.5946 - mae: 0.9904 - val_loss: 1.5305 - val_mae: 1.0173\n",
      "\n",
      "Epoch 00397: val_loss did not improve from 1.50556\n",
      "Epoch 398/1000\n",
      "633/633 [==============================] - 0s 177us/step - loss: 1.6432 - mae: 0.9976 - val_loss: 1.5322 - val_mae: 1.0190\n",
      "\n",
      "Epoch 00398: val_loss did not improve from 1.50556\n",
      "Epoch 399/1000\n",
      "633/633 [==============================] - 0s 203us/step - loss: 1.5754 - mae: 0.9954 - val_loss: 1.5381 - val_mae: 1.0205\n",
      "\n",
      "Epoch 00399: val_loss did not improve from 1.50556\n",
      "Epoch 400/1000\n",
      "633/633 [==============================] - 0s 183us/step - loss: 1.5648 - mae: 0.9943 - val_loss: 1.5317 - val_mae: 1.0184\n",
      "\n",
      "Epoch 00400: val_loss did not improve from 1.50556\n",
      "Epoch 401/1000\n",
      "633/633 [==============================] - 0s 190us/step - loss: 1.6109 - mae: 1.0019 - val_loss: 1.5307 - val_mae: 1.0169\n",
      "\n",
      "Epoch 00401: val_loss did not improve from 1.50556\n",
      "Epoch 402/1000\n",
      "633/633 [==============================] - 0s 180us/step - loss: 1.6310 - mae: 1.0123 - val_loss: 1.5272 - val_mae: 1.0167\n",
      "\n",
      "Epoch 00402: val_loss did not improve from 1.50556\n",
      "Epoch 403/1000\n",
      "633/633 [==============================] - 0s 177us/step - loss: 1.5640 - mae: 0.9854 - val_loss: 1.5294 - val_mae: 1.0175\n",
      "\n",
      "Epoch 00403: val_loss did not improve from 1.50556\n",
      "Epoch 404/1000\n",
      "633/633 [==============================] - 0s 184us/step - loss: 1.6159 - mae: 0.9873 - val_loss: 1.5274 - val_mae: 1.0160\n",
      "\n",
      "Epoch 00404: val_loss did not improve from 1.50556\n",
      "Epoch 405/1000\n",
      "633/633 [==============================] - 0s 170us/step - loss: 1.5597 - mae: 0.9851 - val_loss: 1.5266 - val_mae: 1.0161\n",
      "\n",
      "Epoch 00405: val_loss did not improve from 1.50556\n",
      "Epoch 406/1000\n",
      "633/633 [==============================] - 0s 183us/step - loss: 1.6488 - mae: 1.0223 - val_loss: 1.5261 - val_mae: 1.0166\n",
      "\n",
      "Epoch 00406: val_loss did not improve from 1.50556\n",
      "Epoch 407/1000\n",
      "633/633 [==============================] - 0s 173us/step - loss: 1.5279 - mae: 0.9688 - val_loss: 1.5243 - val_mae: 1.0159\n",
      "\n",
      "Epoch 00407: val_loss did not improve from 1.50556\n",
      "Epoch 408/1000\n",
      "633/633 [==============================] - 0s 188us/step - loss: 1.6726 - mae: 1.0312 - val_loss: 1.5213 - val_mae: 1.0160\n",
      "\n",
      "Epoch 00408: val_loss did not improve from 1.50556\n",
      "Epoch 409/1000\n",
      "633/633 [==============================] - 0s 186us/step - loss: 1.7452 - mae: 1.0343 - val_loss: 1.5228 - val_mae: 1.0156\n",
      "\n",
      "Epoch 00409: val_loss did not improve from 1.50556\n",
      "Epoch 410/1000\n",
      "633/633 [==============================] - 0s 176us/step - loss: 1.6152 - mae: 1.0016 - val_loss: 1.5169 - val_mae: 1.0131\n",
      "\n",
      "Epoch 00410: val_loss did not improve from 1.50556\n",
      "Epoch 411/1000\n",
      "633/633 [==============================] - 0s 177us/step - loss: 1.5190 - mae: 0.9848 - val_loss: 1.5165 - val_mae: 1.0132\n",
      "\n",
      "Epoch 00411: val_loss did not improve from 1.50556\n",
      "Epoch 412/1000\n",
      "633/633 [==============================] - 0s 179us/step - loss: 1.6037 - mae: 0.9893 - val_loss: 1.5164 - val_mae: 1.0129\n",
      "\n",
      "Epoch 00412: val_loss did not improve from 1.50556\n",
      "Epoch 413/1000\n",
      "633/633 [==============================] - 0s 176us/step - loss: 1.5612 - mae: 0.9995 - val_loss: 1.5126 - val_mae: 1.0112\n",
      "\n",
      "Epoch 00413: val_loss did not improve from 1.50556\n",
      "Epoch 414/1000\n",
      "633/633 [==============================] - 0s 189us/step - loss: 1.6830 - mae: 1.0251 - val_loss: 1.5084 - val_mae: 1.0101\n",
      "\n",
      "Epoch 00414: val_loss did not improve from 1.50556\n",
      "Epoch 415/1000\n",
      "633/633 [==============================] - 0s 176us/step - loss: 1.5131 - mae: 0.9809 - val_loss: 1.5096 - val_mae: 1.0103\n",
      "\n",
      "Epoch 00415: val_loss did not improve from 1.50556\n",
      "Epoch 416/1000\n",
      "633/633 [==============================] - 0s 178us/step - loss: 1.6281 - mae: 0.9995 - val_loss: 1.5139 - val_mae: 1.0120\n",
      "\n",
      "Epoch 00416: val_loss did not improve from 1.50556\n",
      "Epoch 417/1000\n",
      "633/633 [==============================] - 0s 192us/step - loss: 1.5433 - mae: 0.9687 - val_loss: 1.5120 - val_mae: 1.0117\n",
      "\n",
      "Epoch 00417: val_loss did not improve from 1.50556\n",
      "Epoch 418/1000\n",
      "633/633 [==============================] - 0s 179us/step - loss: 1.6690 - mae: 1.0167 - val_loss: 1.5131 - val_mae: 1.0102\n",
      "\n",
      "Epoch 00418: val_loss did not improve from 1.50556\n",
      "Epoch 419/1000\n",
      "633/633 [==============================] - 0s 192us/step - loss: 1.6035 - mae: 0.9926 - val_loss: 1.5173 - val_mae: 1.0116\n",
      "\n",
      "Epoch 00419: val_loss did not improve from 1.50556\n",
      "Epoch 420/1000\n",
      "633/633 [==============================] - 0s 174us/step - loss: 1.6038 - mae: 0.9924 - val_loss: 1.5103 - val_mae: 1.0103\n",
      "\n",
      "Epoch 00420: val_loss did not improve from 1.50556\n",
      "Epoch 421/1000\n",
      "633/633 [==============================] - 0s 175us/step - loss: 1.6167 - mae: 1.0058 - val_loss: 1.5159 - val_mae: 1.0127\n",
      "\n",
      "Epoch 00421: val_loss did not improve from 1.50556\n",
      "Epoch 422/1000\n",
      "633/633 [==============================] - 0s 178us/step - loss: 1.6445 - mae: 1.0126 - val_loss: 1.5158 - val_mae: 1.0131\n",
      "\n",
      "Epoch 00422: val_loss did not improve from 1.50556\n",
      "Epoch 423/1000\n",
      "633/633 [==============================] - 0s 173us/step - loss: 1.5947 - mae: 0.9911 - val_loss: 1.5167 - val_mae: 1.0129\n",
      "\n",
      "Epoch 00423: val_loss did not improve from 1.50556\n",
      "Epoch 424/1000\n",
      "633/633 [==============================] - 0s 178us/step - loss: 1.6520 - mae: 1.0161 - val_loss: 1.5168 - val_mae: 1.0126\n",
      "\n",
      "Epoch 00424: val_loss did not improve from 1.50556\n",
      "Epoch 425/1000\n",
      "633/633 [==============================] - 0s 216us/step - loss: 1.6068 - mae: 1.0134 - val_loss: 1.5139 - val_mae: 1.0119\n",
      "\n",
      "Epoch 00425: val_loss did not improve from 1.50556\n",
      "Epoch 426/1000\n",
      "633/633 [==============================] - 0s 175us/step - loss: 1.5455 - mae: 0.9788 - val_loss: 1.5116 - val_mae: 1.0114\n",
      "\n",
      "Epoch 00426: val_loss did not improve from 1.50556\n",
      "Epoch 427/1000\n",
      "633/633 [==============================] - 0s 186us/step - loss: 1.6766 - mae: 1.0297 - val_loss: 1.5131 - val_mae: 1.0114\n",
      "\n",
      "Epoch 00427: val_loss did not improve from 1.50556\n",
      "Epoch 428/1000\n",
      "633/633 [==============================] - 0s 173us/step - loss: 1.6007 - mae: 1.0083 - val_loss: 1.5153 - val_mae: 1.0113\n",
      "\n",
      "Epoch 00428: val_loss did not improve from 1.50556\n",
      "Epoch 429/1000\n",
      "633/633 [==============================] - 0s 181us/step - loss: 1.5404 - mae: 0.9753 - val_loss: 1.5121 - val_mae: 1.0103\n",
      "\n",
      "Epoch 00429: val_loss did not improve from 1.50556\n",
      "Epoch 430/1000\n",
      "633/633 [==============================] - 0s 172us/step - loss: 1.5795 - mae: 0.9810 - val_loss: 1.5144 - val_mae: 1.0104\n",
      "\n",
      "Epoch 00430: val_loss did not improve from 1.50556\n",
      "Epoch 431/1000\n",
      "633/633 [==============================] - 0s 174us/step - loss: 1.5329 - mae: 0.9693 - val_loss: 1.5188 - val_mae: 1.0118\n",
      "\n",
      "Epoch 00431: val_loss did not improve from 1.50556\n",
      "Epoch 432/1000\n",
      "633/633 [==============================] - 0s 190us/step - loss: 1.6193 - mae: 1.0071 - val_loss: 1.5178 - val_mae: 1.0107\n",
      "\n",
      "Epoch 00432: val_loss did not improve from 1.50556\n",
      "Epoch 433/1000\n",
      "633/633 [==============================] - 0s 176us/step - loss: 1.6540 - mae: 1.0129 - val_loss: 1.5131 - val_mae: 1.0095\n",
      "\n",
      "Epoch 00433: val_loss did not improve from 1.50556\n",
      "Epoch 434/1000\n",
      "633/633 [==============================] - 0s 201us/step - loss: 1.6602 - mae: 1.0124 - val_loss: 1.5153 - val_mae: 1.0104\n",
      "\n",
      "Epoch 00434: val_loss did not improve from 1.50556\n",
      "Epoch 435/1000\n",
      "633/633 [==============================] - 0s 175us/step - loss: 1.6643 - mae: 1.0189 - val_loss: 1.5167 - val_mae: 1.0106\n",
      "\n",
      "Epoch 00435: val_loss did not improve from 1.50556\n",
      "Epoch 436/1000\n",
      "633/633 [==============================] - 0s 174us/step - loss: 1.5468 - mae: 0.9952 - val_loss: 1.5176 - val_mae: 1.0109\n",
      "\n",
      "Epoch 00436: val_loss did not improve from 1.50556\n",
      "Epoch 437/1000\n",
      "633/633 [==============================] - 0s 181us/step - loss: 1.6241 - mae: 1.0104 - val_loss: 1.5209 - val_mae: 1.0121\n",
      "\n",
      "Epoch 00437: val_loss did not improve from 1.50556\n",
      "Epoch 438/1000\n",
      "633/633 [==============================] - 0s 172us/step - loss: 1.5696 - mae: 0.9910 - val_loss: 1.5178 - val_mae: 1.0120\n",
      "\n",
      "Epoch 00438: val_loss did not improve from 1.50556\n",
      "Epoch 439/1000\n",
      "633/633 [==============================] - 0s 177us/step - loss: 1.6169 - mae: 1.0025 - val_loss: 1.5174 - val_mae: 1.0118\n",
      "\n",
      "Epoch 00439: val_loss did not improve from 1.50556\n",
      "Epoch 440/1000\n",
      "633/633 [==============================] - 0s 176us/step - loss: 1.6132 - mae: 1.0030 - val_loss: 1.5146 - val_mae: 1.0106\n",
      "\n",
      "Epoch 00440: val_loss did not improve from 1.50556\n",
      "Epoch 441/1000\n",
      "633/633 [==============================] - 0s 173us/step - loss: 1.5659 - mae: 0.9834 - val_loss: 1.5114 - val_mae: 1.0107\n",
      "\n",
      "Epoch 00441: val_loss did not improve from 1.50556\n",
      "Epoch 442/1000\n",
      "633/633 [==============================] - 0s 181us/step - loss: 1.5862 - mae: 0.9908 - val_loss: 1.5133 - val_mae: 1.0110\n",
      "\n",
      "Epoch 00442: val_loss did not improve from 1.50556\n",
      "Epoch 443/1000\n",
      "633/633 [==============================] - 0s 182us/step - loss: 1.5523 - mae: 0.9785 - val_loss: 1.5140 - val_mae: 1.0117\n",
      "\n",
      "Epoch 00443: val_loss did not improve from 1.50556\n",
      "Epoch 444/1000\n",
      "633/633 [==============================] - 0s 178us/step - loss: 1.6059 - mae: 0.9977 - val_loss: 1.5182 - val_mae: 1.0130\n",
      "\n",
      "Epoch 00444: val_loss did not improve from 1.50556\n",
      "Epoch 445/1000\n",
      "633/633 [==============================] - 0s 170us/step - loss: 1.6215 - mae: 1.0067 - val_loss: 1.5128 - val_mae: 1.0119\n",
      "\n",
      "Epoch 00445: val_loss did not improve from 1.50556\n",
      "Epoch 446/1000\n",
      "633/633 [==============================] - 0s 175us/step - loss: 1.5737 - mae: 0.9940 - val_loss: 1.5099 - val_mae: 1.0118\n",
      "\n",
      "Epoch 00446: val_loss did not improve from 1.50556\n",
      "Epoch 447/1000\n",
      "633/633 [==============================] - 0s 193us/step - loss: 1.6874 - mae: 1.0364 - val_loss: 1.5143 - val_mae: 1.0117\n",
      "\n",
      "Epoch 00447: val_loss did not improve from 1.50556\n",
      "Epoch 448/1000\n",
      "633/633 [==============================] - 0s 173us/step - loss: 1.4756 - mae: 0.9625 - val_loss: 1.5218 - val_mae: 1.0133\n",
      "\n",
      "Epoch 00448: val_loss did not improve from 1.50556\n",
      "Epoch 449/1000\n",
      "633/633 [==============================] - 0s 173us/step - loss: 1.6176 - mae: 1.0124 - val_loss: 1.5221 - val_mae: 1.0134\n",
      "\n",
      "Epoch 00449: val_loss did not improve from 1.50556\n",
      "Epoch 450/1000\n",
      "633/633 [==============================] - 0s 176us/step - loss: 1.6089 - mae: 1.0163 - val_loss: 1.5254 - val_mae: 1.0132\n",
      "\n",
      "Epoch 00450: val_loss did not improve from 1.50556\n",
      "Epoch 451/1000\n",
      "633/633 [==============================] - 0s 173us/step - loss: 1.6037 - mae: 1.0123 - val_loss: 1.5235 - val_mae: 1.0127\n",
      "\n",
      "Epoch 00451: val_loss did not improve from 1.50556\n",
      "Epoch 452/1000\n",
      "633/633 [==============================] - 0s 185us/step - loss: 1.5783 - mae: 0.9914 - val_loss: 1.5218 - val_mae: 1.0112\n",
      "\n",
      "Epoch 00452: val_loss did not improve from 1.50556\n",
      "Epoch 453/1000\n",
      "633/633 [==============================] - 0s 178us/step - loss: 1.6051 - mae: 1.0162 - val_loss: 1.5206 - val_mae: 1.0099\n",
      "\n",
      "Epoch 00453: val_loss did not improve from 1.50556\n",
      "Epoch 454/1000\n",
      "633/633 [==============================] - 0s 175us/step - loss: 1.5520 - mae: 0.9755 - val_loss: 1.5152 - val_mae: 1.0085\n",
      "\n",
      "Epoch 00454: val_loss did not improve from 1.50556\n",
      "Epoch 455/1000\n",
      "633/633 [==============================] - 0s 187us/step - loss: 1.6540 - mae: 1.0159 - val_loss: 1.5173 - val_mae: 1.0096\n",
      "\n",
      "Epoch 00455: val_loss did not improve from 1.50556\n",
      "Epoch 456/1000\n",
      "633/633 [==============================] - 0s 174us/step - loss: 1.6591 - mae: 1.0116 - val_loss: 1.5183 - val_mae: 1.0112\n",
      "\n",
      "Epoch 00456: val_loss did not improve from 1.50556\n",
      "Epoch 457/1000\n",
      "633/633 [==============================] - 0s 179us/step - loss: 1.6058 - mae: 0.9937 - val_loss: 1.5181 - val_mae: 1.0110\n",
      "\n",
      "Epoch 00457: val_loss did not improve from 1.50556\n",
      "Epoch 458/1000\n",
      "633/633 [==============================] - 0s 178us/step - loss: 1.6271 - mae: 1.0141 - val_loss: 1.5172 - val_mae: 1.0111\n",
      "\n",
      "Epoch 00458: val_loss did not improve from 1.50556\n",
      "Epoch 459/1000\n",
      "633/633 [==============================] - 0s 175us/step - loss: 1.6069 - mae: 1.0001 - val_loss: 1.5212 - val_mae: 1.0130\n",
      "\n",
      "Epoch 00459: val_loss did not improve from 1.50556\n",
      "Epoch 460/1000\n",
      "633/633 [==============================] - 0s 181us/step - loss: 1.6393 - mae: 1.0102 - val_loss: 1.5175 - val_mae: 1.0117\n",
      "\n",
      "Epoch 00460: val_loss did not improve from 1.50556\n",
      "Epoch 461/1000\n",
      "633/633 [==============================] - 0s 187us/step - loss: 1.5478 - mae: 0.9860 - val_loss: 1.5130 - val_mae: 1.0109\n",
      "\n",
      "Epoch 00461: val_loss did not improve from 1.50556\n",
      "Epoch 462/1000\n",
      "633/633 [==============================] - 0s 173us/step - loss: 1.5675 - mae: 0.9843 - val_loss: 1.5137 - val_mae: 1.0108\n",
      "\n",
      "Epoch 00462: val_loss did not improve from 1.50556\n",
      "Epoch 463/1000\n",
      "633/633 [==============================] - 0s 185us/step - loss: 1.4904 - mae: 0.9669 - val_loss: 1.5178 - val_mae: 1.0123\n",
      "\n",
      "Epoch 00463: val_loss did not improve from 1.50556\n",
      "Epoch 464/1000\n",
      "633/633 [==============================] - 0s 175us/step - loss: 1.5209 - mae: 0.9670 - val_loss: 1.5129 - val_mae: 1.0111\n",
      "\n",
      "Epoch 00464: val_loss did not improve from 1.50556\n",
      "Epoch 465/1000\n",
      "633/633 [==============================] - 0s 188us/step - loss: 1.5444 - mae: 0.9836 - val_loss: 1.5154 - val_mae: 1.0112\n",
      "\n",
      "Epoch 00465: val_loss did not improve from 1.50556\n",
      "Epoch 466/1000\n",
      "633/633 [==============================] - 0s 174us/step - loss: 1.6010 - mae: 1.0013 - val_loss: 1.5205 - val_mae: 1.0129\n",
      "\n",
      "Epoch 00466: val_loss did not improve from 1.50556\n",
      "Epoch 467/1000\n",
      "633/633 [==============================] - 0s 170us/step - loss: 1.6201 - mae: 1.0145 - val_loss: 1.5160 - val_mae: 1.0117\n",
      "\n",
      "Epoch 00467: val_loss did not improve from 1.50556\n",
      "Epoch 468/1000\n",
      "633/633 [==============================] - 0s 180us/step - loss: 1.5502 - mae: 0.9706 - val_loss: 1.5113 - val_mae: 1.0116\n",
      "\n",
      "Epoch 00468: val_loss did not improve from 1.50556\n",
      "Epoch 469/1000\n",
      "633/633 [==============================] - 0s 173us/step - loss: 1.5705 - mae: 0.9969 - val_loss: 1.5077 - val_mae: 1.0105\n",
      "\n",
      "Epoch 00469: val_loss did not improve from 1.50556\n",
      "Epoch 470/1000\n",
      "633/633 [==============================] - 0s 199us/step - loss: 1.5657 - mae: 0.9984 - val_loss: 1.5068 - val_mae: 1.0098\n",
      "\n",
      "Epoch 00470: val_loss did not improve from 1.50556\n",
      "Epoch 471/1000\n",
      "633/633 [==============================] - 0s 174us/step - loss: 1.6185 - mae: 1.0013 - val_loss: 1.5117 - val_mae: 1.0106\n",
      "\n",
      "Epoch 00471: val_loss did not improve from 1.50556\n",
      "Epoch 472/1000\n",
      "633/633 [==============================] - 0s 171us/step - loss: 1.6002 - mae: 1.0054 - val_loss: 1.5128 - val_mae: 1.0116\n",
      "\n",
      "Epoch 00472: val_loss did not improve from 1.50556\n",
      "Epoch 473/1000\n",
      "633/633 [==============================] - 0s 183us/step - loss: 1.6287 - mae: 1.0233 - val_loss: 1.5107 - val_mae: 1.0097\n",
      "\n",
      "Epoch 00473: val_loss did not improve from 1.50556\n",
      "Epoch 474/1000\n",
      "633/633 [==============================] - 0s 179us/step - loss: 1.6130 - mae: 0.9989 - val_loss: 1.5084 - val_mae: 1.0093\n",
      "\n",
      "Epoch 00474: val_loss did not improve from 1.50556\n",
      "Epoch 475/1000\n",
      "633/633 [==============================] - 0s 172us/step - loss: 1.5260 - mae: 0.9796 - val_loss: 1.5021 - val_mae: 1.0076\n",
      "\n",
      "Epoch 00475: val_loss improved from 1.50556 to 1.50211, saving model to model.sve\n",
      "Epoch 476/1000\n",
      "633/633 [==============================] - 0s 179us/step - loss: 1.5335 - mae: 0.9651 - val_loss: 1.5024 - val_mae: 1.0071\n",
      "\n",
      "Epoch 00476: val_loss did not improve from 1.50211\n",
      "Epoch 477/1000\n",
      "633/633 [==============================] - 0s 174us/step - loss: 1.6527 - mae: 1.0214 - val_loss: 1.5012 - val_mae: 1.0058\n",
      "\n",
      "Epoch 00477: val_loss improved from 1.50211 to 1.50121, saving model to model.sve\n",
      "Epoch 478/1000\n",
      "633/633 [==============================] - 0s 204us/step - loss: 1.5866 - mae: 0.9979 - val_loss: 1.4977 - val_mae: 1.0047\n",
      "\n",
      "Epoch 00478: val_loss improved from 1.50121 to 1.49774, saving model to model.sve\n",
      "Epoch 479/1000\n",
      "633/633 [==============================] - 0s 176us/step - loss: 1.5544 - mae: 0.9924 - val_loss: 1.5026 - val_mae: 1.0070\n",
      "\n",
      "Epoch 00479: val_loss did not improve from 1.49774\n",
      "Epoch 480/1000\n",
      "633/633 [==============================] - 0s 205us/step - loss: 1.5145 - mae: 0.9704 - val_loss: 1.5085 - val_mae: 1.0086\n",
      "\n",
      "Epoch 00480: val_loss did not improve from 1.49774\n",
      "Epoch 481/1000\n",
      "633/633 [==============================] - 0s 179us/step - loss: 1.6498 - mae: 1.0097 - val_loss: 1.5048 - val_mae: 1.0071\n",
      "\n",
      "Epoch 00481: val_loss did not improve from 1.49774\n",
      "Epoch 482/1000\n",
      "633/633 [==============================] - 0s 177us/step - loss: 1.5485 - mae: 0.9806 - val_loss: 1.5046 - val_mae: 1.0055\n",
      "\n",
      "Epoch 00482: val_loss did not improve from 1.49774\n",
      "Epoch 483/1000\n",
      "633/633 [==============================] - 0s 179us/step - loss: 1.7349 - mae: 1.0347 - val_loss: 1.4989 - val_mae: 1.0039\n",
      "\n",
      "Epoch 00483: val_loss did not improve from 1.49774\n",
      "Epoch 484/1000\n",
      "633/633 [==============================] - 0s 181us/step - loss: 1.6427 - mae: 0.9960 - val_loss: 1.4969 - val_mae: 1.0029\n",
      "\n",
      "Epoch 00484: val_loss improved from 1.49774 to 1.49685, saving model to model.sve\n",
      "Epoch 485/1000\n",
      "633/633 [==============================] - 0s 189us/step - loss: 1.5623 - mae: 0.9792 - val_loss: 1.5004 - val_mae: 1.0039\n",
      "\n",
      "Epoch 00485: val_loss did not improve from 1.49685\n",
      "Epoch 486/1000\n",
      "633/633 [==============================] - 0s 187us/step - loss: 1.5894 - mae: 0.9919 - val_loss: 1.4994 - val_mae: 1.0033\n",
      "\n",
      "Epoch 00486: val_loss did not improve from 1.49685\n",
      "Epoch 487/1000\n",
      "633/633 [==============================] - 0s 190us/step - loss: 1.5467 - mae: 0.9700 - val_loss: 1.5056 - val_mae: 1.0045\n",
      "\n",
      "Epoch 00487: val_loss did not improve from 1.49685\n",
      "Epoch 488/1000\n",
      "633/633 [==============================] - 0s 182us/step - loss: 1.5127 - mae: 0.9868 - val_loss: 1.5058 - val_mae: 1.0042\n",
      "\n",
      "Epoch 00488: val_loss did not improve from 1.49685\n",
      "Epoch 489/1000\n",
      "633/633 [==============================] - 0s 191us/step - loss: 1.5182 - mae: 0.9680 - val_loss: 1.5043 - val_mae: 1.0035\n",
      "\n",
      "Epoch 00489: val_loss did not improve from 1.49685\n",
      "Epoch 490/1000\n",
      "633/633 [==============================] - 0s 181us/step - loss: 1.4918 - mae: 0.9797 - val_loss: 1.5076 - val_mae: 1.0044\n",
      "\n",
      "Epoch 00490: val_loss did not improve from 1.49685\n",
      "Epoch 491/1000\n",
      "633/633 [==============================] - 0s 178us/step - loss: 1.5696 - mae: 0.9860 - val_loss: 1.5076 - val_mae: 1.0042\n",
      "\n",
      "Epoch 00491: val_loss did not improve from 1.49685\n",
      "Epoch 492/1000\n",
      "633/633 [==============================] - 0s 185us/step - loss: 1.5579 - mae: 0.9895 - val_loss: 1.5087 - val_mae: 1.0050\n",
      "\n",
      "Epoch 00492: val_loss did not improve from 1.49685\n",
      "Epoch 493/1000\n",
      "633/633 [==============================] - 0s 209us/step - loss: 1.5441 - mae: 0.9707 - val_loss: 1.5139 - val_mae: 1.0069\n",
      "\n",
      "Epoch 00493: val_loss did not improve from 1.49685\n",
      "Epoch 494/1000\n",
      "633/633 [==============================] - 0s 206us/step - loss: 1.4658 - mae: 0.9442 - val_loss: 1.5153 - val_mae: 1.0072\n",
      "\n",
      "Epoch 00494: val_loss did not improve from 1.49685\n",
      "Epoch 495/1000\n",
      "633/633 [==============================] - 0s 183us/step - loss: 1.5785 - mae: 1.0046 - val_loss: 1.5136 - val_mae: 1.0066\n",
      "\n",
      "Epoch 00495: val_loss did not improve from 1.49685\n",
      "Epoch 496/1000\n",
      "633/633 [==============================] - 0s 195us/step - loss: 1.6245 - mae: 1.0082 - val_loss: 1.5135 - val_mae: 1.0067\n",
      "\n",
      "Epoch 00496: val_loss did not improve from 1.49685\n",
      "Epoch 497/1000\n",
      "633/633 [==============================] - 0s 177us/step - loss: 1.5943 - mae: 1.0003 - val_loss: 1.5129 - val_mae: 1.0063\n",
      "\n",
      "Epoch 00497: val_loss did not improve from 1.49685\n",
      "Epoch 498/1000\n",
      "633/633 [==============================] - 0s 189us/step - loss: 1.6259 - mae: 1.0166 - val_loss: 1.5147 - val_mae: 1.0070\n",
      "\n",
      "Epoch 00498: val_loss did not improve from 1.49685\n",
      "Epoch 499/1000\n",
      "633/633 [==============================] - 0s 193us/step - loss: 1.4756 - mae: 0.9506 - val_loss: 1.5230 - val_mae: 1.0084\n",
      "\n",
      "Epoch 00499: val_loss did not improve from 1.49685\n",
      "Epoch 500/1000\n",
      "633/633 [==============================] - 0s 187us/step - loss: 1.5121 - mae: 0.9766 - val_loss: 1.5190 - val_mae: 1.0076\n",
      "\n",
      "Epoch 00500: val_loss did not improve from 1.49685\n",
      "Epoch 501/1000\n",
      "633/633 [==============================] - 0s 182us/step - loss: 1.4420 - mae: 0.9458 - val_loss: 1.5203 - val_mae: 1.0090\n",
      "\n",
      "Epoch 00501: val_loss did not improve from 1.49685\n",
      "Epoch 502/1000\n",
      "633/633 [==============================] - 0s 203us/step - loss: 1.5549 - mae: 0.9860 - val_loss: 1.5205 - val_mae: 1.0090\n",
      "\n",
      "Epoch 00502: val_loss did not improve from 1.49685\n",
      "Epoch 503/1000\n",
      "633/633 [==============================] - 0s 195us/step - loss: 1.5227 - mae: 0.9709 - val_loss: 1.5198 - val_mae: 1.0091\n",
      "\n",
      "Epoch 00503: val_loss did not improve from 1.49685\n",
      "Epoch 504/1000\n",
      "633/633 [==============================] - 0s 185us/step - loss: 1.5729 - mae: 0.9987 - val_loss: 1.5193 - val_mae: 1.0093\n",
      "\n",
      "Epoch 00504: val_loss did not improve from 1.49685\n",
      "Epoch 505/1000\n",
      "633/633 [==============================] - 0s 188us/step - loss: 1.5687 - mae: 0.9918 - val_loss: 1.5190 - val_mae: 1.0090\n",
      "\n",
      "Epoch 00505: val_loss did not improve from 1.49685\n",
      "Epoch 506/1000\n",
      "633/633 [==============================] - 0s 180us/step - loss: 1.5393 - mae: 0.9859 - val_loss: 1.5176 - val_mae: 1.0084\n",
      "\n",
      "Epoch 00506: val_loss did not improve from 1.49685\n",
      "Epoch 507/1000\n",
      "633/633 [==============================] - 0s 182us/step - loss: 1.5943 - mae: 1.0035 - val_loss: 1.5148 - val_mae: 1.0080\n",
      "\n",
      "Epoch 00507: val_loss did not improve from 1.49685\n",
      "Epoch 508/1000\n",
      "633/633 [==============================] - 0s 191us/step - loss: 1.4718 - mae: 0.9670 - val_loss: 1.5139 - val_mae: 1.0059\n",
      "\n",
      "Epoch 00508: val_loss did not improve from 1.49685\n",
      "Epoch 509/1000\n",
      "633/633 [==============================] - 0s 182us/step - loss: 1.6517 - mae: 0.9996 - val_loss: 1.5093 - val_mae: 1.0049\n",
      "\n",
      "Epoch 00509: val_loss did not improve from 1.49685\n",
      "Epoch 510/1000\n",
      "633/633 [==============================] - 0s 188us/step - loss: 1.5429 - mae: 0.9690 - val_loss: 1.5118 - val_mae: 1.0056\n",
      "\n",
      "Epoch 00510: val_loss did not improve from 1.49685\n",
      "Epoch 511/1000\n",
      "633/633 [==============================] - 0s 199us/step - loss: 1.4990 - mae: 0.9766 - val_loss: 1.5099 - val_mae: 1.0052\n",
      "\n",
      "Epoch 00511: val_loss did not improve from 1.49685\n",
      "Epoch 512/1000\n",
      "633/633 [==============================] - 0s 242us/step - loss: 1.5169 - mae: 0.9766 - val_loss: 1.5103 - val_mae: 1.0059\n",
      "\n",
      "Epoch 00512: val_loss did not improve from 1.49685\n",
      "Epoch 513/1000\n",
      "633/633 [==============================] - 0s 192us/step - loss: 1.5730 - mae: 0.9899 - val_loss: 1.5093 - val_mae: 1.0050\n",
      "\n",
      "Epoch 00513: val_loss did not improve from 1.49685\n",
      "Epoch 514/1000\n",
      "633/633 [==============================] - 0s 184us/step - loss: 1.5933 - mae: 0.9938 - val_loss: 1.5053 - val_mae: 1.0036\n",
      "\n",
      "Epoch 00514: val_loss did not improve from 1.49685\n",
      "Epoch 515/1000\n",
      "633/633 [==============================] - 0s 181us/step - loss: 1.5452 - mae: 0.9958 - val_loss: 1.5046 - val_mae: 1.0035\n",
      "\n",
      "Epoch 00515: val_loss did not improve from 1.49685\n",
      "Epoch 516/1000\n",
      "633/633 [==============================] - 0s 186us/step - loss: 1.5870 - mae: 0.9886 - val_loss: 1.5042 - val_mae: 1.0038\n",
      "\n",
      "Epoch 00516: val_loss did not improve from 1.49685\n",
      "Epoch 517/1000\n",
      "633/633 [==============================] - 0s 185us/step - loss: 1.6037 - mae: 0.9984 - val_loss: 1.4975 - val_mae: 1.0015\n",
      "\n",
      "Epoch 00517: val_loss did not improve from 1.49685\n",
      "Epoch 518/1000\n",
      "633/633 [==============================] - 0s 180us/step - loss: 1.5397 - mae: 0.9901 - val_loss: 1.5003 - val_mae: 1.0019\n",
      "\n",
      "Epoch 00518: val_loss did not improve from 1.49685\n",
      "Epoch 519/1000\n",
      "633/633 [==============================] - 0s 206us/step - loss: 1.5365 - mae: 0.9723 - val_loss: 1.5042 - val_mae: 1.0031\n",
      "\n",
      "Epoch 00519: val_loss did not improve from 1.49685\n",
      "Epoch 520/1000\n",
      "633/633 [==============================] - 0s 179us/step - loss: 1.5041 - mae: 0.9506 - val_loss: 1.5059 - val_mae: 1.0036\n",
      "\n",
      "Epoch 00520: val_loss did not improve from 1.49685\n",
      "Epoch 521/1000\n",
      "633/633 [==============================] - 0s 185us/step - loss: 1.5865 - mae: 0.9947 - val_loss: 1.5080 - val_mae: 1.0043\n",
      "\n",
      "Epoch 00521: val_loss did not improve from 1.49685\n",
      "Epoch 522/1000\n",
      "633/633 [==============================] - 0s 180us/step - loss: 1.5838 - mae: 0.9862 - val_loss: 1.5114 - val_mae: 1.0049\n",
      "\n",
      "Epoch 00522: val_loss did not improve from 1.49685\n",
      "Epoch 523/1000\n",
      "633/633 [==============================] - 0s 184us/step - loss: 1.5534 - mae: 0.9752 - val_loss: 1.5056 - val_mae: 1.0034\n",
      "\n",
      "Epoch 00523: val_loss did not improve from 1.49685\n",
      "Epoch 524/1000\n",
      "633/633 [==============================] - 0s 189us/step - loss: 1.6376 - mae: 1.0065 - val_loss: 1.5030 - val_mae: 1.0027\n",
      "\n",
      "Epoch 00524: val_loss did not improve from 1.49685\n",
      "Epoch 525/1000\n",
      "633/633 [==============================] - 0s 183us/step - loss: 1.5207 - mae: 0.9743 - val_loss: 1.5025 - val_mae: 1.0017\n",
      "\n",
      "Epoch 00525: val_loss did not improve from 1.49685\n",
      "Epoch 526/1000\n",
      "633/633 [==============================] - 0s 200us/step - loss: 1.5303 - mae: 0.9648 - val_loss: 1.4987 - val_mae: 1.0011\n",
      "\n",
      "Epoch 00526: val_loss did not improve from 1.49685\n",
      "Epoch 527/1000\n",
      "633/633 [==============================] - 0s 202us/step - loss: 1.5829 - mae: 0.9809 - val_loss: 1.5021 - val_mae: 1.0006\n",
      "\n",
      "Epoch 00527: val_loss did not improve from 1.49685\n",
      "Epoch 528/1000\n",
      "633/633 [==============================] - 0s 186us/step - loss: 1.5395 - mae: 0.9621 - val_loss: 1.4970 - val_mae: 0.9986\n",
      "\n",
      "Epoch 00528: val_loss did not improve from 1.49685\n",
      "Epoch 529/1000\n",
      "633/633 [==============================] - 0s 192us/step - loss: 1.5025 - mae: 0.9775 - val_loss: 1.4994 - val_mae: 0.9975\n",
      "\n",
      "Epoch 00529: val_loss did not improve from 1.49685\n",
      "Epoch 530/1000\n",
      "633/633 [==============================] - 0s 184us/step - loss: 1.5453 - mae: 0.9797 - val_loss: 1.5019 - val_mae: 0.9985\n",
      "\n",
      "Epoch 00530: val_loss did not improve from 1.49685\n",
      "Epoch 531/1000\n",
      "633/633 [==============================] - 0s 193us/step - loss: 1.5314 - mae: 0.9663 - val_loss: 1.5020 - val_mae: 0.9988\n",
      "\n",
      "Epoch 00531: val_loss did not improve from 1.49685\n",
      "Epoch 532/1000\n",
      "633/633 [==============================] - 0s 184us/step - loss: 1.4495 - mae: 0.9514 - val_loss: 1.5053 - val_mae: 1.0014\n",
      "\n",
      "Epoch 00532: val_loss did not improve from 1.49685\n",
      "Epoch 533/1000\n",
      "633/633 [==============================] - 0s 181us/step - loss: 1.5717 - mae: 0.9933 - val_loss: 1.5015 - val_mae: 1.0006\n",
      "\n",
      "Epoch 00533: val_loss did not improve from 1.49685\n",
      "Epoch 534/1000\n",
      "633/633 [==============================] - 0s 189us/step - loss: 1.5429 - mae: 0.9893 - val_loss: 1.5016 - val_mae: 1.0000\n",
      "\n",
      "Epoch 00534: val_loss did not improve from 1.49685\n",
      "Epoch 535/1000\n",
      "633/633 [==============================] - 0s 180us/step - loss: 1.6766 - mae: 1.0034 - val_loss: 1.5020 - val_mae: 0.9994\n",
      "\n",
      "Epoch 00535: val_loss did not improve from 1.49685\n",
      "Epoch 536/1000\n",
      "633/633 [==============================] - 0s 198us/step - loss: 1.4847 - mae: 0.9642 - val_loss: 1.5022 - val_mae: 0.9993\n",
      "\n",
      "Epoch 00536: val_loss did not improve from 1.49685\n",
      "Epoch 537/1000\n",
      "633/633 [==============================] - 0s 183us/step - loss: 1.6303 - mae: 1.0099 - val_loss: 1.5005 - val_mae: 0.9987\n",
      "\n",
      "Epoch 00537: val_loss did not improve from 1.49685\n",
      "Epoch 538/1000\n",
      "633/633 [==============================] - 0s 192us/step - loss: 1.4688 - mae: 0.9480 - val_loss: 1.5010 - val_mae: 0.9978\n",
      "\n",
      "Epoch 00538: val_loss did not improve from 1.49685\n",
      "Epoch 539/1000\n",
      "633/633 [==============================] - 0s 180us/step - loss: 1.5810 - mae: 1.0020 - val_loss: 1.4968 - val_mae: 0.9974\n",
      "\n",
      "Epoch 00539: val_loss improved from 1.49685 to 1.49680, saving model to model.sve\n",
      "Epoch 540/1000\n",
      "633/633 [==============================] - 0s 178us/step - loss: 1.5292 - mae: 0.9791 - val_loss: 1.4959 - val_mae: 0.9974\n",
      "\n",
      "Epoch 00540: val_loss improved from 1.49680 to 1.49591, saving model to model.sve\n",
      "Epoch 541/1000\n",
      "633/633 [==============================] - 0s 184us/step - loss: 1.5688 - mae: 0.9969 - val_loss: 1.4963 - val_mae: 0.9972\n",
      "\n",
      "Epoch 00541: val_loss did not improve from 1.49591\n",
      "Epoch 542/1000\n",
      "633/633 [==============================] - 0s 185us/step - loss: 1.6254 - mae: 1.0077 - val_loss: 1.4963 - val_mae: 0.9970\n",
      "\n",
      "Epoch 00542: val_loss did not improve from 1.49591\n",
      "Epoch 543/1000\n",
      "633/633 [==============================] - 0s 216us/step - loss: 1.5263 - mae: 0.9645 - val_loss: 1.4983 - val_mae: 0.9964\n",
      "\n",
      "Epoch 00543: val_loss did not improve from 1.49591\n",
      "Epoch 544/1000\n",
      "633/633 [==============================] - 0s 178us/step - loss: 1.5532 - mae: 0.9792 - val_loss: 1.4969 - val_mae: 0.9961\n",
      "\n",
      "Epoch 00544: val_loss did not improve from 1.49591\n",
      "Epoch 545/1000\n",
      "633/633 [==============================] - 0s 190us/step - loss: 1.5441 - mae: 0.9806 - val_loss: 1.4981 - val_mae: 0.9970\n",
      "\n",
      "Epoch 00545: val_loss did not improve from 1.49591\n",
      "Epoch 546/1000\n",
      "633/633 [==============================] - 0s 177us/step - loss: 1.5423 - mae: 0.9802 - val_loss: 1.4972 - val_mae: 0.9970\n",
      "\n",
      "Epoch 00546: val_loss did not improve from 1.49591\n",
      "Epoch 547/1000\n",
      "633/633 [==============================] - 0s 185us/step - loss: 1.4021 - mae: 0.9258 - val_loss: 1.5027 - val_mae: 0.9978\n",
      "\n",
      "Epoch 00547: val_loss did not improve from 1.49591\n",
      "Epoch 548/1000\n",
      "633/633 [==============================] - 0s 185us/step - loss: 1.5063 - mae: 0.9787 - val_loss: 1.5069 - val_mae: 0.9995\n",
      "\n",
      "Epoch 00548: val_loss did not improve from 1.49591\n",
      "Epoch 549/1000\n",
      "633/633 [==============================] - 0s 183us/step - loss: 1.5076 - mae: 0.9710 - val_loss: 1.5060 - val_mae: 0.9997\n",
      "\n",
      "Epoch 00549: val_loss did not improve from 1.49591\n",
      "Epoch 550/1000\n",
      "633/633 [==============================] - 0s 188us/step - loss: 1.5501 - mae: 0.9914 - val_loss: 1.5006 - val_mae: 0.9988\n",
      "\n",
      "Epoch 00550: val_loss did not improve from 1.49591\n",
      "Epoch 551/1000\n",
      "633/633 [==============================] - 0s 179us/step - loss: 1.5311 - mae: 0.9707 - val_loss: 1.4927 - val_mae: 0.9961\n",
      "\n",
      "Epoch 00551: val_loss improved from 1.49591 to 1.49271, saving model to model.sve\n",
      "Epoch 552/1000\n",
      "633/633 [==============================] - 0s 194us/step - loss: 1.4893 - mae: 0.9682 - val_loss: 1.4915 - val_mae: 0.9966\n",
      "\n",
      "Epoch 00552: val_loss improved from 1.49271 to 1.49153, saving model to model.sve\n",
      "Epoch 553/1000\n",
      "633/633 [==============================] - 0s 181us/step - loss: 1.5481 - mae: 0.9805 - val_loss: 1.4846 - val_mae: 0.9947\n",
      "\n",
      "Epoch 00553: val_loss improved from 1.49153 to 1.48455, saving model to model.sve\n",
      "Epoch 554/1000\n",
      "633/633 [==============================] - 0s 181us/step - loss: 1.4563 - mae: 0.9302 - val_loss: 1.4846 - val_mae: 0.9944\n",
      "\n",
      "Epoch 00554: val_loss did not improve from 1.48455\n",
      "Epoch 555/1000\n",
      "633/633 [==============================] - 0s 188us/step - loss: 1.5838 - mae: 1.0009 - val_loss: 1.4822 - val_mae: 0.9935\n",
      "\n",
      "Epoch 00555: val_loss improved from 1.48455 to 1.48223, saving model to model.sve\n",
      "Epoch 556/1000\n",
      "633/633 [==============================] - 0s 183us/step - loss: 1.5605 - mae: 0.9840 - val_loss: 1.4805 - val_mae: 0.9927\n",
      "\n",
      "Epoch 00556: val_loss improved from 1.48223 to 1.48047, saving model to model.sve\n",
      "Epoch 557/1000\n",
      "633/633 [==============================] - 0s 183us/step - loss: 1.5574 - mae: 0.9784 - val_loss: 1.4835 - val_mae: 0.9932\n",
      "\n",
      "Epoch 00557: val_loss did not improve from 1.48047\n",
      "Epoch 558/1000\n",
      "633/633 [==============================] - 0s 181us/step - loss: 1.5315 - mae: 0.9768 - val_loss: 1.4819 - val_mae: 0.9929\n",
      "\n",
      "Epoch 00558: val_loss did not improve from 1.48047\n",
      "Epoch 559/1000\n",
      "633/633 [==============================] - 0s 216us/step - loss: 1.5738 - mae: 0.9958 - val_loss: 1.4836 - val_mae: 0.9938\n",
      "\n",
      "Epoch 00559: val_loss did not improve from 1.48047\n",
      "Epoch 560/1000\n",
      "633/633 [==============================] - 0s 185us/step - loss: 1.4612 - mae: 0.9467 - val_loss: 1.4895 - val_mae: 0.9949\n",
      "\n",
      "Epoch 00560: val_loss did not improve from 1.48047\n",
      "Epoch 561/1000\n",
      "633/633 [==============================] - 0s 186us/step - loss: 1.5303 - mae: 0.9742 - val_loss: 1.4854 - val_mae: 0.9933\n",
      "\n",
      "Epoch 00561: val_loss did not improve from 1.48047\n",
      "Epoch 562/1000\n",
      "633/633 [==============================] - 0s 181us/step - loss: 1.5159 - mae: 0.9533 - val_loss: 1.4853 - val_mae: 0.9931\n",
      "\n",
      "Epoch 00562: val_loss did not improve from 1.48047\n",
      "Epoch 563/1000\n",
      "633/633 [==============================] - 0s 178us/step - loss: 1.5189 - mae: 0.9794 - val_loss: 1.4848 - val_mae: 0.9937\n",
      "\n",
      "Epoch 00563: val_loss did not improve from 1.48047\n",
      "Epoch 564/1000\n",
      "633/633 [==============================] - 0s 202us/step - loss: 1.5528 - mae: 0.9881 - val_loss: 1.4913 - val_mae: 0.9953\n",
      "\n",
      "Epoch 00564: val_loss did not improve from 1.48047\n",
      "Epoch 565/1000\n",
      "633/633 [==============================] - 0s 177us/step - loss: 1.6492 - mae: 1.0148 - val_loss: 1.4852 - val_mae: 0.9928\n",
      "\n",
      "Epoch 00565: val_loss did not improve from 1.48047\n",
      "Epoch 566/1000\n",
      "633/633 [==============================] - 0s 188us/step - loss: 1.5618 - mae: 0.9917 - val_loss: 1.4861 - val_mae: 0.9920\n",
      "\n",
      "Epoch 00566: val_loss did not improve from 1.48047\n",
      "Epoch 567/1000\n",
      "633/633 [==============================] - 0s 188us/step - loss: 1.4110 - mae: 0.9367 - val_loss: 1.4905 - val_mae: 0.9938\n",
      "\n",
      "Epoch 00567: val_loss did not improve from 1.48047\n",
      "Epoch 568/1000\n",
      "633/633 [==============================] - 0s 175us/step - loss: 1.5565 - mae: 0.9959 - val_loss: 1.4887 - val_mae: 0.9932\n",
      "\n",
      "Epoch 00568: val_loss did not improve from 1.48047\n",
      "Epoch 569/1000\n",
      "633/633 [==============================] - 0s 172us/step - loss: 1.4556 - mae: 0.9339 - val_loss: 1.4896 - val_mae: 0.9927\n",
      "\n",
      "Epoch 00569: val_loss did not improve from 1.48047\n",
      "Epoch 570/1000\n",
      "633/633 [==============================] - 0s 184us/step - loss: 1.5042 - mae: 0.9699 - val_loss: 1.4866 - val_mae: 0.9921\n",
      "\n",
      "Epoch 00570: val_loss did not improve from 1.48047\n",
      "Epoch 571/1000\n",
      "633/633 [==============================] - 0s 179us/step - loss: 1.5485 - mae: 0.9804 - val_loss: 1.4903 - val_mae: 0.9931\n",
      "\n",
      "Epoch 00571: val_loss did not improve from 1.48047\n",
      "Epoch 572/1000\n",
      "633/633 [==============================] - 0s 172us/step - loss: 1.5233 - mae: 0.9710 - val_loss: 1.4858 - val_mae: 0.9909\n",
      "\n",
      "Epoch 00572: val_loss did not improve from 1.48047\n",
      "Epoch 573/1000\n",
      "633/633 [==============================] - 0s 175us/step - loss: 1.5220 - mae: 0.9741 - val_loss: 1.4826 - val_mae: 0.9894\n",
      "\n",
      "Epoch 00573: val_loss did not improve from 1.48047\n",
      "Epoch 574/1000\n",
      "633/633 [==============================] - 0s 173us/step - loss: 1.5775 - mae: 0.9879 - val_loss: 1.4843 - val_mae: 0.9899\n",
      "\n",
      "Epoch 00574: val_loss did not improve from 1.48047\n",
      "Epoch 575/1000\n",
      "633/633 [==============================] - 0s 185us/step - loss: 1.4835 - mae: 0.9681 - val_loss: 1.4896 - val_mae: 0.9914\n",
      "\n",
      "Epoch 00575: val_loss did not improve from 1.48047\n",
      "Epoch 576/1000\n",
      "633/633 [==============================] - 0s 190us/step - loss: 1.4783 - mae: 0.9586 - val_loss: 1.4923 - val_mae: 0.9923\n",
      "\n",
      "Epoch 00576: val_loss did not improve from 1.48047\n",
      "Epoch 577/1000\n",
      "633/633 [==============================] - 0s 178us/step - loss: 1.5271 - mae: 0.9701 - val_loss: 1.4978 - val_mae: 0.9941\n",
      "\n",
      "Epoch 00577: val_loss did not improve from 1.48047\n",
      "Epoch 578/1000\n",
      "633/633 [==============================] - 0s 177us/step - loss: 1.5832 - mae: 0.9930 - val_loss: 1.5020 - val_mae: 0.9948\n",
      "\n",
      "Epoch 00578: val_loss did not improve from 1.48047\n",
      "Epoch 579/1000\n",
      "633/633 [==============================] - 0s 175us/step - loss: 1.5179 - mae: 0.9612 - val_loss: 1.4990 - val_mae: 0.9940\n",
      "\n",
      "Epoch 00579: val_loss did not improve from 1.48047\n",
      "Epoch 580/1000\n",
      "633/633 [==============================] - 0s 171us/step - loss: 1.4992 - mae: 0.9609 - val_loss: 1.5016 - val_mae: 0.9936\n",
      "\n",
      "Epoch 00580: val_loss did not improve from 1.48047\n",
      "Epoch 581/1000\n",
      "633/633 [==============================] - 0s 175us/step - loss: 1.5964 - mae: 1.0047 - val_loss: 1.4964 - val_mae: 0.9928\n",
      "\n",
      "Epoch 00581: val_loss did not improve from 1.48047\n",
      "Epoch 582/1000\n",
      "633/633 [==============================] - 0s 188us/step - loss: 1.4628 - mae: 0.9506 - val_loss: 1.4992 - val_mae: 0.9937\n",
      "\n",
      "Epoch 00582: val_loss did not improve from 1.48047\n",
      "Epoch 583/1000\n",
      "633/633 [==============================] - 0s 173us/step - loss: 1.4369 - mae: 0.9560 - val_loss: 1.5018 - val_mae: 0.9934\n",
      "\n",
      "Epoch 00583: val_loss did not improve from 1.48047\n",
      "Epoch 584/1000\n",
      "633/633 [==============================] - 0s 174us/step - loss: 1.5140 - mae: 0.9638 - val_loss: 1.5043 - val_mae: 0.9937\n",
      "\n",
      "Epoch 00584: val_loss did not improve from 1.48047\n",
      "Epoch 585/1000\n",
      "633/633 [==============================] - 0s 184us/step - loss: 1.5315 - mae: 0.9825 - val_loss: 1.5029 - val_mae: 0.9931\n",
      "\n",
      "Epoch 00585: val_loss did not improve from 1.48047\n",
      "Epoch 586/1000\n",
      "633/633 [==============================] - 0s 172us/step - loss: 1.6009 - mae: 1.0070 - val_loss: 1.4990 - val_mae: 0.9920\n",
      "\n",
      "Epoch 00586: val_loss did not improve from 1.48047\n",
      "Epoch 587/1000\n",
      "633/633 [==============================] - 0s 185us/step - loss: 1.4756 - mae: 0.9629 - val_loss: 1.4947 - val_mae: 0.9915\n",
      "\n",
      "Epoch 00587: val_loss did not improve from 1.48047\n",
      "Epoch 588/1000\n",
      "633/633 [==============================] - 0s 174us/step - loss: 1.4286 - mae: 0.9405 - val_loss: 1.4972 - val_mae: 0.9928\n",
      "\n",
      "Epoch 00588: val_loss did not improve from 1.48047\n",
      "Epoch 589/1000\n",
      "633/633 [==============================] - 0s 184us/step - loss: 1.6103 - mae: 1.0037 - val_loss: 1.4952 - val_mae: 0.9925\n",
      "\n",
      "Epoch 00589: val_loss did not improve from 1.48047\n",
      "Epoch 590/1000\n",
      "633/633 [==============================] - 0s 186us/step - loss: 1.4854 - mae: 0.9652 - val_loss: 1.4894 - val_mae: 0.9905\n",
      "\n",
      "Epoch 00590: val_loss did not improve from 1.48047\n",
      "Epoch 591/1000\n",
      "633/633 [==============================] - 0s 174us/step - loss: 1.5153 - mae: 0.9710 - val_loss: 1.4919 - val_mae: 0.9925\n",
      "\n",
      "Epoch 00591: val_loss did not improve from 1.48047\n",
      "Epoch 592/1000\n",
      "633/633 [==============================] - 0s 180us/step - loss: 1.4788 - mae: 0.9593 - val_loss: 1.4934 - val_mae: 0.9933\n",
      "\n",
      "Epoch 00592: val_loss did not improve from 1.48047\n",
      "Epoch 593/1000\n",
      "633/633 [==============================] - 0s 183us/step - loss: 1.5354 - mae: 0.9729 - val_loss: 1.4945 - val_mae: 0.9940\n",
      "\n",
      "Epoch 00593: val_loss did not improve from 1.48047\n",
      "Epoch 594/1000\n",
      "633/633 [==============================] - 0s 192us/step - loss: 1.5225 - mae: 0.9847 - val_loss: 1.4923 - val_mae: 0.9937\n",
      "\n",
      "Epoch 00594: val_loss did not improve from 1.48047\n",
      "Epoch 595/1000\n",
      "633/633 [==============================] - 0s 182us/step - loss: 1.4883 - mae: 0.9624 - val_loss: 1.4871 - val_mae: 0.9919\n",
      "\n",
      "Epoch 00595: val_loss did not improve from 1.48047\n",
      "Epoch 596/1000\n",
      "633/633 [==============================] - 0s 190us/step - loss: 1.4852 - mae: 0.9609 - val_loss: 1.4874 - val_mae: 0.9915\n",
      "\n",
      "Epoch 00596: val_loss did not improve from 1.48047\n",
      "Epoch 597/1000\n",
      "633/633 [==============================] - 0s 194us/step - loss: 1.4774 - mae: 0.9655 - val_loss: 1.4934 - val_mae: 0.9925\n",
      "\n",
      "Epoch 00597: val_loss did not improve from 1.48047\n",
      "Epoch 598/1000\n",
      "633/633 [==============================] - 0s 176us/step - loss: 1.5536 - mae: 0.9688 - val_loss: 1.4959 - val_mae: 0.9919\n",
      "\n",
      "Epoch 00598: val_loss did not improve from 1.48047\n",
      "Epoch 599/1000\n",
      "633/633 [==============================] - 0s 176us/step - loss: 1.4818 - mae: 0.9569 - val_loss: 1.4962 - val_mae: 0.9924\n",
      "\n",
      "Epoch 00599: val_loss did not improve from 1.48047\n",
      "Epoch 600/1000\n",
      "633/633 [==============================] - 0s 182us/step - loss: 1.5387 - mae: 0.9744 - val_loss: 1.4923 - val_mae: 0.9922\n",
      "\n",
      "Epoch 00600: val_loss did not improve from 1.48047\n",
      "Epoch 601/1000\n",
      "633/633 [==============================] - 0s 175us/step - loss: 1.4495 - mae: 0.9547 - val_loss: 1.4899 - val_mae: 0.9918\n",
      "\n",
      "Epoch 00601: val_loss did not improve from 1.48047\n",
      "Epoch 602/1000\n",
      "633/633 [==============================] - 0s 187us/step - loss: 1.5252 - mae: 0.9701 - val_loss: 1.4924 - val_mae: 0.9930\n",
      "\n",
      "Epoch 00602: val_loss did not improve from 1.48047\n",
      "Epoch 603/1000\n",
      "633/633 [==============================] - 0s 176us/step - loss: 1.5757 - mae: 0.9809 - val_loss: 1.4909 - val_mae: 0.9934\n",
      "\n",
      "Epoch 00603: val_loss did not improve from 1.48047\n",
      "Epoch 604/1000\n",
      "633/633 [==============================] - 0s 176us/step - loss: 1.5037 - mae: 0.9673 - val_loss: 1.4915 - val_mae: 0.9938\n",
      "\n",
      "Epoch 00604: val_loss did not improve from 1.48047\n",
      "Epoch 605/1000\n",
      "633/633 [==============================] - 0s 191us/step - loss: 1.4784 - mae: 0.9725 - val_loss: 1.4925 - val_mae: 0.9937\n",
      "\n",
      "Epoch 00605: val_loss did not improve from 1.48047\n",
      "Epoch 606/1000\n",
      "633/633 [==============================] - 0s 179us/step - loss: 1.4641 - mae: 0.9509 - val_loss: 1.4888 - val_mae: 0.9922\n",
      "\n",
      "Epoch 00606: val_loss did not improve from 1.48047\n",
      "Epoch 607/1000\n",
      "633/633 [==============================] - 0s 176us/step - loss: 1.5233 - mae: 0.9856 - val_loss: 1.4910 - val_mae: 0.9935\n",
      "\n",
      "Epoch 00607: val_loss did not improve from 1.48047\n",
      "Epoch 608/1000\n",
      "633/633 [==============================] - 0s 178us/step - loss: 1.4712 - mae: 0.9619 - val_loss: 1.4887 - val_mae: 0.9922\n",
      "\n",
      "Epoch 00608: val_loss did not improve from 1.48047\n",
      "Epoch 609/1000\n",
      "633/633 [==============================] - 0s 185us/step - loss: 1.4925 - mae: 0.9640 - val_loss: 1.4883 - val_mae: 0.9913\n",
      "\n",
      "Epoch 00609: val_loss did not improve from 1.48047\n",
      "Epoch 610/1000\n",
      "633/633 [==============================] - 0s 169us/step - loss: 1.4888 - mae: 0.9761 - val_loss: 1.4858 - val_mae: 0.9901\n",
      "\n",
      "Epoch 00610: val_loss did not improve from 1.48047\n",
      "Epoch 611/1000\n",
      "633/633 [==============================] - 0s 186us/step - loss: 1.4831 - mae: 0.9610 - val_loss: 1.4815 - val_mae: 0.9886\n",
      "\n",
      "Epoch 00611: val_loss did not improve from 1.48047\n",
      "Epoch 612/1000\n",
      "633/633 [==============================] - 0s 175us/step - loss: 1.5169 - mae: 0.9727 - val_loss: 1.4787 - val_mae: 0.9874\n",
      "\n",
      "Epoch 00612: val_loss improved from 1.48047 to 1.47870, saving model to model.sve\n",
      "Epoch 613/1000\n",
      "633/633 [==============================] - 0s 171us/step - loss: 1.4839 - mae: 0.9530 - val_loss: 1.4818 - val_mae: 0.9880\n",
      "\n",
      "Epoch 00613: val_loss did not improve from 1.47870\n",
      "Epoch 614/1000\n",
      "633/633 [==============================] - 0s 182us/step - loss: 1.5230 - mae: 0.9607 - val_loss: 1.4808 - val_mae: 0.9880\n",
      "\n",
      "Epoch 00614: val_loss did not improve from 1.47870\n",
      "Epoch 615/1000\n",
      "633/633 [==============================] - 0s 173us/step - loss: 1.5332 - mae: 0.9856 - val_loss: 1.4842 - val_mae: 0.9886\n",
      "\n",
      "Epoch 00615: val_loss did not improve from 1.47870\n",
      "Epoch 616/1000\n",
      "633/633 [==============================] - 0s 176us/step - loss: 1.5393 - mae: 0.9755 - val_loss: 1.4913 - val_mae: 0.9918\n",
      "\n",
      "Epoch 00616: val_loss did not improve from 1.47870\n",
      "Epoch 617/1000\n",
      "633/633 [==============================] - 0s 178us/step - loss: 1.4979 - mae: 0.9688 - val_loss: 1.4914 - val_mae: 0.9920\n",
      "\n",
      "Epoch 00617: val_loss did not improve from 1.47870\n",
      "Epoch 618/1000\n",
      "633/633 [==============================] - 0s 177us/step - loss: 1.5220 - mae: 0.9775 - val_loss: 1.4902 - val_mae: 0.9909\n",
      "\n",
      "Epoch 00618: val_loss did not improve from 1.47870\n",
      "Epoch 619/1000\n",
      "633/633 [==============================] - 0s 173us/step - loss: 1.4166 - mae: 0.9385 - val_loss: 1.4922 - val_mae: 0.9925\n",
      "\n",
      "Epoch 00619: val_loss did not improve from 1.47870\n",
      "Epoch 620/1000\n",
      "633/633 [==============================] - 0s 201us/step - loss: 1.4787 - mae: 0.9582 - val_loss: 1.4945 - val_mae: 0.9946\n",
      "\n",
      "Epoch 00620: val_loss did not improve from 1.47870\n",
      "Epoch 621/1000\n",
      "633/633 [==============================] - 0s 172us/step - loss: 1.6042 - mae: 1.0048 - val_loss: 1.4868 - val_mae: 0.9917\n",
      "\n",
      "Epoch 00621: val_loss did not improve from 1.47870\n",
      "Epoch 622/1000\n",
      "633/633 [==============================] - 0s 178us/step - loss: 1.4947 - mae: 0.9787 - val_loss: 1.4879 - val_mae: 0.9906\n",
      "\n",
      "Epoch 00622: val_loss did not improve from 1.47870\n",
      "Epoch 623/1000\n",
      "633/633 [==============================] - 0s 188us/step - loss: 1.4246 - mae: 0.9385 - val_loss: 1.4979 - val_mae: 0.9934\n",
      "\n",
      "Epoch 00623: val_loss did not improve from 1.47870\n",
      "Epoch 624/1000\n",
      "633/633 [==============================] - 0s 175us/step - loss: 1.5256 - mae: 0.9761 - val_loss: 1.5004 - val_mae: 0.9960\n",
      "\n",
      "Epoch 00624: val_loss did not improve from 1.47870\n",
      "Epoch 625/1000\n",
      "633/633 [==============================] - 0s 175us/step - loss: 1.4802 - mae: 0.9553 - val_loss: 1.4933 - val_mae: 0.9946\n",
      "\n",
      "Epoch 00625: val_loss did not improve from 1.47870\n",
      "Epoch 626/1000\n",
      "633/633 [==============================] - 0s 182us/step - loss: 1.5026 - mae: 0.9663 - val_loss: 1.4974 - val_mae: 0.9941\n",
      "\n",
      "Epoch 00626: val_loss did not improve from 1.47870\n",
      "Epoch 627/1000\n",
      "633/633 [==============================] - 0s 172us/step - loss: 1.5069 - mae: 0.9692 - val_loss: 1.4956 - val_mae: 0.9939\n",
      "\n",
      "Epoch 00627: val_loss did not improve from 1.47870\n",
      "Epoch 628/1000\n",
      "633/633 [==============================] - 0s 177us/step - loss: 1.5006 - mae: 0.9619 - val_loss: 1.4983 - val_mae: 0.9945\n",
      "\n",
      "Epoch 00628: val_loss did not improve from 1.47870\n",
      "Epoch 629/1000\n",
      "633/633 [==============================] - 0s 179us/step - loss: 1.4729 - mae: 0.9590 - val_loss: 1.4990 - val_mae: 0.9944\n",
      "\n",
      "Epoch 00629: val_loss did not improve from 1.47870\n",
      "Epoch 630/1000\n",
      "633/633 [==============================] - 0s 175us/step - loss: 1.5190 - mae: 0.9728 - val_loss: 1.4964 - val_mae: 0.9933\n",
      "\n",
      "Epoch 00630: val_loss did not improve from 1.47870\n",
      "Epoch 631/1000\n",
      "633/633 [==============================] - 0s 171us/step - loss: 1.4059 - mae: 0.9258 - val_loss: 1.4981 - val_mae: 0.9938\n",
      "\n",
      "Epoch 00631: val_loss did not improve from 1.47870\n",
      "Epoch 632/1000\n",
      "633/633 [==============================] - 0s 177us/step - loss: 1.5773 - mae: 0.9888 - val_loss: 1.4973 - val_mae: 0.9934\n",
      "\n",
      "Epoch 00632: val_loss did not improve from 1.47870\n",
      "Epoch 633/1000\n",
      "633/633 [==============================] - 0s 172us/step - loss: 1.5034 - mae: 0.9716 - val_loss: 1.4996 - val_mae: 0.9942\n",
      "\n",
      "Epoch 00633: val_loss did not improve from 1.47870\n",
      "Epoch 634/1000\n",
      "633/633 [==============================] - 0s 179us/step - loss: 1.4477 - mae: 0.9374 - val_loss: 1.5044 - val_mae: 0.9962\n",
      "\n",
      "Epoch 00634: val_loss did not improve from 1.47870\n",
      "Epoch 635/1000\n",
      "633/633 [==============================] - 0s 176us/step - loss: 1.3838 - mae: 0.9302 - val_loss: 1.5014 - val_mae: 0.9949\n",
      "\n",
      "Epoch 00635: val_loss did not improve from 1.47870\n",
      "Epoch 636/1000\n",
      "633/633 [==============================] - 0s 171us/step - loss: 1.5296 - mae: 0.9760 - val_loss: 1.4991 - val_mae: 0.9941\n",
      "\n",
      "Epoch 00636: val_loss did not improve from 1.47870\n",
      "Epoch 637/1000\n",
      "633/633 [==============================] - 0s 194us/step - loss: 1.4820 - mae: 0.9611 - val_loss: 1.4981 - val_mae: 0.9937\n",
      "\n",
      "Epoch 00637: val_loss did not improve from 1.47870\n",
      "Epoch 638/1000\n",
      "633/633 [==============================] - 0s 173us/step - loss: 1.4828 - mae: 0.9599 - val_loss: 1.4972 - val_mae: 0.9937\n",
      "\n",
      "Epoch 00638: val_loss did not improve from 1.47870\n",
      "Epoch 639/1000\n",
      "633/633 [==============================] - 0s 176us/step - loss: 1.4767 - mae: 0.9523 - val_loss: 1.4925 - val_mae: 0.9910\n",
      "\n",
      "Epoch 00639: val_loss did not improve from 1.47870\n",
      "Epoch 640/1000\n",
      "633/633 [==============================] - 0s 191us/step - loss: 1.5114 - mae: 0.9611 - val_loss: 1.4841 - val_mae: 0.9884\n",
      "\n",
      "Epoch 00640: val_loss did not improve from 1.47870\n",
      "Epoch 641/1000\n",
      "633/633 [==============================] - 0s 178us/step - loss: 1.5175 - mae: 0.9608 - val_loss: 1.4840 - val_mae: 0.9887\n",
      "\n",
      "Epoch 00641: val_loss did not improve from 1.47870\n",
      "Epoch 642/1000\n",
      "633/633 [==============================] - 0s 178us/step - loss: 1.5082 - mae: 0.9749 - val_loss: 1.4817 - val_mae: 0.9878\n",
      "\n",
      "Epoch 00642: val_loss did not improve from 1.47870\n",
      "Epoch 643/1000\n",
      "633/633 [==============================] - 0s 183us/step - loss: 1.3911 - mae: 0.9160 - val_loss: 1.4849 - val_mae: 0.9904\n",
      "\n",
      "Epoch 00643: val_loss did not improve from 1.47870\n",
      "Epoch 644/1000\n",
      "633/633 [==============================] - 0s 175us/step - loss: 1.4545 - mae: 0.9578 - val_loss: 1.4822 - val_mae: 0.9889\n",
      "\n",
      "Epoch 00644: val_loss did not improve from 1.47870\n",
      "Epoch 645/1000\n",
      "633/633 [==============================] - 0s 173us/step - loss: 1.5251 - mae: 0.9802 - val_loss: 1.4868 - val_mae: 0.9896\n",
      "\n",
      "Epoch 00645: val_loss did not improve from 1.47870\n",
      "Epoch 646/1000\n",
      "633/633 [==============================] - 0s 189us/step - loss: 1.5188 - mae: 0.9705 - val_loss: 1.4842 - val_mae: 0.9885\n",
      "\n",
      "Epoch 00646: val_loss did not improve from 1.47870\n",
      "Epoch 647/1000\n",
      "633/633 [==============================] - 0s 169us/step - loss: 1.4258 - mae: 0.9316 - val_loss: 1.4818 - val_mae: 0.9878\n",
      "\n",
      "Epoch 00647: val_loss did not improve from 1.47870\n",
      "Epoch 648/1000\n",
      "633/633 [==============================] - 0s 177us/step - loss: 1.5429 - mae: 0.9822 - val_loss: 1.4816 - val_mae: 0.9871\n",
      "\n",
      "Epoch 00648: val_loss did not improve from 1.47870\n",
      "Epoch 649/1000\n",
      "633/633 [==============================] - 0s 170us/step - loss: 1.4505 - mae: 0.9470 - val_loss: 1.4844 - val_mae: 0.9876\n",
      "\n",
      "Epoch 00649: val_loss did not improve from 1.47870\n",
      "Epoch 650/1000\n",
      "633/633 [==============================] - 0s 170us/step - loss: 1.4468 - mae: 0.9519 - val_loss: 1.4856 - val_mae: 0.9879\n",
      "\n",
      "Epoch 00650: val_loss did not improve from 1.47870\n",
      "Epoch 651/1000\n",
      "633/633 [==============================] - 0s 181us/step - loss: 1.4689 - mae: 0.9434 - val_loss: 1.4850 - val_mae: 0.9880\n",
      "\n",
      "Epoch 00651: val_loss did not improve from 1.47870\n",
      "Epoch 652/1000\n",
      "633/633 [==============================] - 0s 174us/step - loss: 1.4655 - mae: 0.9470 - val_loss: 1.4834 - val_mae: 0.9883\n",
      "\n",
      "Epoch 00652: val_loss did not improve from 1.47870\n",
      "Epoch 653/1000\n",
      "633/633 [==============================] - 0s 175us/step - loss: 1.5032 - mae: 0.9798 - val_loss: 1.4869 - val_mae: 0.9887\n",
      "\n",
      "Epoch 00653: val_loss did not improve from 1.47870\n",
      "Epoch 654/1000\n",
      "633/633 [==============================] - 0s 180us/step - loss: 1.4085 - mae: 0.9357 - val_loss: 1.4823 - val_mae: 0.9876\n",
      "\n",
      "Epoch 00654: val_loss did not improve from 1.47870\n",
      "Epoch 655/1000\n",
      "633/633 [==============================] - 0s 189us/step - loss: 1.5205 - mae: 0.9480 - val_loss: 1.4826 - val_mae: 0.9879\n",
      "\n",
      "Epoch 00655: val_loss did not improve from 1.47870\n",
      "Epoch 656/1000\n",
      "633/633 [==============================] - 0s 172us/step - loss: 1.4947 - mae: 0.9740 - val_loss: 1.4854 - val_mae: 0.9907\n",
      "\n",
      "Epoch 00656: val_loss did not improve from 1.47870\n",
      "Epoch 657/1000\n",
      "633/633 [==============================] - 0s 172us/step - loss: 1.3996 - mae: 0.9416 - val_loss: 1.4861 - val_mae: 0.9905\n",
      "\n",
      "Epoch 00657: val_loss did not improve from 1.47870\n",
      "Epoch 658/1000\n",
      "633/633 [==============================] - 0s 175us/step - loss: 1.5067 - mae: 0.9720 - val_loss: 1.4905 - val_mae: 0.9918\n",
      "\n",
      "Epoch 00658: val_loss did not improve from 1.47870\n",
      "Epoch 659/1000\n",
      "633/633 [==============================] - 0s 175us/step - loss: 1.4353 - mae: 0.9484 - val_loss: 1.4888 - val_mae: 0.9911\n",
      "\n",
      "Epoch 00659: val_loss did not improve from 1.47870\n",
      "Epoch 660/1000\n",
      "633/633 [==============================] - 0s 177us/step - loss: 1.4900 - mae: 0.9671 - val_loss: 1.4932 - val_mae: 0.9919\n",
      "\n",
      "Epoch 00660: val_loss did not improve from 1.47870\n",
      "Epoch 661/1000\n",
      "633/633 [==============================] - 0s 190us/step - loss: 1.4606 - mae: 0.9480 - val_loss: 1.4896 - val_mae: 0.9915\n",
      "\n",
      "Epoch 00661: val_loss did not improve from 1.47870\n",
      "Epoch 662/1000\n",
      "633/633 [==============================] - 0s 179us/step - loss: 1.3857 - mae: 0.9340 - val_loss: 1.4935 - val_mae: 0.9925\n",
      "\n",
      "Epoch 00662: val_loss did not improve from 1.47870\n",
      "Epoch 663/1000\n",
      "633/633 [==============================] - 0s 171us/step - loss: 1.4406 - mae: 0.9342 - val_loss: 1.4979 - val_mae: 0.9933\n",
      "\n",
      "Epoch 00663: val_loss did not improve from 1.47870\n",
      "Epoch 664/1000\n",
      "633/633 [==============================] - 0s 191us/step - loss: 1.4783 - mae: 0.9601 - val_loss: 1.4968 - val_mae: 0.9923\n",
      "\n",
      "Epoch 00664: val_loss did not improve from 1.47870\n",
      "Epoch 665/1000\n",
      "633/633 [==============================] - 0s 170us/step - loss: 1.4681 - mae: 0.9485 - val_loss: 1.5012 - val_mae: 0.9939\n",
      "\n",
      "Epoch 00665: val_loss did not improve from 1.47870\n",
      "Epoch 666/1000\n",
      "633/633 [==============================] - 0s 174us/step - loss: 1.4311 - mae: 0.9316 - val_loss: 1.5004 - val_mae: 0.9924\n",
      "\n",
      "Epoch 00666: val_loss did not improve from 1.47870\n",
      "Epoch 667/1000\n",
      "633/633 [==============================] - 0s 176us/step - loss: 1.5226 - mae: 0.9741 - val_loss: 1.4946 - val_mae: 0.9918\n",
      "\n",
      "Epoch 00667: val_loss did not improve from 1.47870\n",
      "Epoch 668/1000\n",
      "633/633 [==============================] - 0s 173us/step - loss: 1.4481 - mae: 0.9258 - val_loss: 1.4953 - val_mae: 0.9926\n",
      "\n",
      "Epoch 00668: val_loss did not improve from 1.47870\n",
      "Epoch 669/1000\n",
      "633/633 [==============================] - 0s 180us/step - loss: 1.5630 - mae: 0.9772 - val_loss: 1.4927 - val_mae: 0.9923\n",
      "\n",
      "Epoch 00669: val_loss did not improve from 1.47870\n",
      "Epoch 670/1000\n",
      "633/633 [==============================] - 0s 182us/step - loss: 1.3875 - mae: 0.9177 - val_loss: 1.4964 - val_mae: 0.9939\n",
      "\n",
      "Epoch 00670: val_loss did not improve from 1.47870\n",
      "Epoch 671/1000\n",
      "633/633 [==============================] - 0s 175us/step - loss: 1.4454 - mae: 0.9371 - val_loss: 1.4987 - val_mae: 0.9935\n",
      "\n",
      "Epoch 00671: val_loss did not improve from 1.47870\n",
      "Epoch 672/1000\n",
      "633/633 [==============================] - 0s 177us/step - loss: 1.4579 - mae: 0.9549 - val_loss: 1.5018 - val_mae: 0.9943\n",
      "\n",
      "Epoch 00672: val_loss did not improve from 1.47870\n",
      "Epoch 673/1000\n",
      "633/633 [==============================] - 0s 194us/step - loss: 1.4995 - mae: 0.9616 - val_loss: 1.4976 - val_mae: 0.9924\n",
      "\n",
      "Epoch 00673: val_loss did not improve from 1.47870\n",
      "Epoch 674/1000\n",
      "633/633 [==============================] - 0s 172us/step - loss: 1.4348 - mae: 0.9556 - val_loss: 1.4964 - val_mae: 0.9918\n",
      "\n",
      "Epoch 00674: val_loss did not improve from 1.47870\n",
      "Epoch 675/1000\n",
      "633/633 [==============================] - 0s 171us/step - loss: 1.4751 - mae: 0.9568 - val_loss: 1.4940 - val_mae: 0.9924\n",
      "\n",
      "Epoch 00675: val_loss did not improve from 1.47870\n",
      "Epoch 676/1000\n",
      "633/633 [==============================] - 0s 184us/step - loss: 1.4069 - mae: 0.9338 - val_loss: 1.4944 - val_mae: 0.9913\n",
      "\n",
      "Epoch 00676: val_loss did not improve from 1.47870\n",
      "Epoch 677/1000\n",
      "633/633 [==============================] - 0s 176us/step - loss: 1.4361 - mae: 0.9270 - val_loss: 1.4927 - val_mae: 0.9912\n",
      "\n",
      "Epoch 00677: val_loss did not improve from 1.47870\n",
      "Epoch 678/1000\n",
      "633/633 [==============================] - 0s 177us/step - loss: 1.4983 - mae: 0.9602 - val_loss: 1.4931 - val_mae: 0.9919\n",
      "\n",
      "Epoch 00678: val_loss did not improve from 1.47870\n",
      "Epoch 679/1000\n",
      "633/633 [==============================] - 0s 190us/step - loss: 1.4603 - mae: 0.9569 - val_loss: 1.4961 - val_mae: 0.9931\n",
      "\n",
      "Epoch 00679: val_loss did not improve from 1.47870\n",
      "Epoch 680/1000\n",
      "633/633 [==============================] - 0s 171us/step - loss: 1.4332 - mae: 0.9531 - val_loss: 1.4991 - val_mae: 0.9946\n",
      "\n",
      "Epoch 00680: val_loss did not improve from 1.47870\n",
      "Epoch 681/1000\n",
      "633/633 [==============================] - 0s 179us/step - loss: 1.4847 - mae: 0.9696 - val_loss: 1.5031 - val_mae: 0.9960\n",
      "\n",
      "Epoch 00681: val_loss did not improve from 1.47870\n",
      "Epoch 682/1000\n",
      "633/633 [==============================] - 0s 186us/step - loss: 1.4838 - mae: 0.9526 - val_loss: 1.4968 - val_mae: 0.9939\n",
      "\n",
      "Epoch 00682: val_loss did not improve from 1.47870\n",
      "Epoch 683/1000\n",
      "633/633 [==============================] - 0s 175us/step - loss: 1.4682 - mae: 0.9658 - val_loss: 1.4974 - val_mae: 0.9936\n",
      "\n",
      "Epoch 00683: val_loss did not improve from 1.47870\n",
      "Epoch 684/1000\n",
      "633/633 [==============================] - 0s 185us/step - loss: 1.4966 - mae: 0.9572 - val_loss: 1.4960 - val_mae: 0.9928\n",
      "\n",
      "Epoch 00684: val_loss did not improve from 1.47870\n",
      "Epoch 685/1000\n",
      "633/633 [==============================] - 0s 175us/step - loss: 1.4497 - mae: 0.9415 - val_loss: 1.4971 - val_mae: 0.9939\n",
      "\n",
      "Epoch 00685: val_loss did not improve from 1.47870\n",
      "Epoch 686/1000\n",
      "633/633 [==============================] - 0s 218us/step - loss: 1.4323 - mae: 0.9463 - val_loss: 1.4945 - val_mae: 0.9930\n",
      "\n",
      "Epoch 00686: val_loss did not improve from 1.47870\n",
      "Epoch 687/1000\n",
      "633/633 [==============================] - 0s 186us/step - loss: 1.4094 - mae: 0.9219 - val_loss: 1.5010 - val_mae: 0.9952\n",
      "\n",
      "Epoch 00687: val_loss did not improve from 1.47870\n",
      "Epoch 688/1000\n",
      "633/633 [==============================] - 0s 177us/step - loss: 1.4259 - mae: 0.9345 - val_loss: 1.5017 - val_mae: 0.9954\n",
      "\n",
      "Epoch 00688: val_loss did not improve from 1.47870\n",
      "Epoch 689/1000\n",
      "633/633 [==============================] - 0s 177us/step - loss: 1.3927 - mae: 0.9401 - val_loss: 1.5047 - val_mae: 0.9962\n",
      "\n",
      "Epoch 00689: val_loss did not improve from 1.47870\n",
      "Epoch 690/1000\n",
      "633/633 [==============================] - 0s 192us/step - loss: 1.4506 - mae: 0.9373 - val_loss: 1.5024 - val_mae: 0.9946\n",
      "\n",
      "Epoch 00690: val_loss did not improve from 1.47870\n",
      "Epoch 691/1000\n",
      "633/633 [==============================] - 0s 181us/step - loss: 1.4031 - mae: 0.9438 - val_loss: 1.5020 - val_mae: 0.9948\n",
      "\n",
      "Epoch 00691: val_loss did not improve from 1.47870\n",
      "Epoch 692/1000\n",
      "633/633 [==============================] - 0s 174us/step - loss: 1.3957 - mae: 0.9272 - val_loss: 1.4953 - val_mae: 0.9919\n",
      "\n",
      "Epoch 00692: val_loss did not improve from 1.47870\n",
      "Epoch 693/1000\n",
      "633/633 [==============================] - 0s 176us/step - loss: 1.4131 - mae: 0.9255 - val_loss: 1.4961 - val_mae: 0.9921\n",
      "\n",
      "Epoch 00693: val_loss did not improve from 1.47870\n",
      "Epoch 694/1000\n",
      "633/633 [==============================] - 0s 174us/step - loss: 1.5295 - mae: 0.9729 - val_loss: 1.4936 - val_mae: 0.9911\n",
      "\n",
      "Epoch 00694: val_loss did not improve from 1.47870\n",
      "Epoch 695/1000\n",
      "633/633 [==============================] - 0s 175us/step - loss: 1.5298 - mae: 0.9841 - val_loss: 1.4944 - val_mae: 0.9926\n",
      "\n",
      "Epoch 00695: val_loss did not improve from 1.47870\n",
      "Epoch 696/1000\n",
      "633/633 [==============================] - 0s 176us/step - loss: 1.4571 - mae: 0.9662 - val_loss: 1.4956 - val_mae: 0.9938\n",
      "\n",
      "Epoch 00696: val_loss did not improve from 1.47870\n",
      "Epoch 697/1000\n",
      "633/633 [==============================] - 0s 181us/step - loss: 1.4220 - mae: 0.9453 - val_loss: 1.4923 - val_mae: 0.9918\n",
      "\n",
      "Epoch 00697: val_loss did not improve from 1.47870\n",
      "Epoch 698/1000\n",
      "633/633 [==============================] - 0s 187us/step - loss: 1.4882 - mae: 0.9736 - val_loss: 1.4945 - val_mae: 0.9932\n",
      "\n",
      "Epoch 00698: val_loss did not improve from 1.47870\n",
      "Epoch 699/1000\n",
      "633/633 [==============================] - 0s 186us/step - loss: 1.4608 - mae: 0.9633 - val_loss: 1.4948 - val_mae: 0.9939\n",
      "\n",
      "Epoch 00699: val_loss did not improve from 1.47870\n",
      "Epoch 700/1000\n",
      "633/633 [==============================] - 0s 177us/step - loss: 1.4756 - mae: 0.9637 - val_loss: 1.4896 - val_mae: 0.9930\n",
      "\n",
      "Epoch 00700: val_loss did not improve from 1.47870\n",
      "Epoch 701/1000\n",
      "633/633 [==============================] - 0s 169us/step - loss: 1.3758 - mae: 0.9352 - val_loss: 1.4875 - val_mae: 0.9918\n",
      "\n",
      "Epoch 00701: val_loss did not improve from 1.47870\n",
      "Epoch 702/1000\n",
      "633/633 [==============================] - 0s 172us/step - loss: 1.3914 - mae: 0.9208 - val_loss: 1.4891 - val_mae: 0.9924\n",
      "\n",
      "Epoch 00702: val_loss did not improve from 1.47870\n",
      "Epoch 703/1000\n",
      "633/633 [==============================] - 0s 183us/step - loss: 1.4574 - mae: 0.9504 - val_loss: 1.4862 - val_mae: 0.9916\n",
      "\n",
      "Epoch 00703: val_loss did not improve from 1.47870\n",
      "Epoch 704/1000\n",
      "633/633 [==============================] - 0s 173us/step - loss: 1.4654 - mae: 0.9421 - val_loss: 1.4841 - val_mae: 0.9909\n",
      "\n",
      "Epoch 00704: val_loss did not improve from 1.47870\n",
      "Epoch 705/1000\n",
      "633/633 [==============================] - 0s 179us/step - loss: 1.4453 - mae: 0.9323 - val_loss: 1.4811 - val_mae: 0.9910\n",
      "\n",
      "Epoch 00705: val_loss did not improve from 1.47870\n",
      "Epoch 706/1000\n",
      "633/633 [==============================] - 0s 180us/step - loss: 1.4521 - mae: 0.9402 - val_loss: 1.4838 - val_mae: 0.9911\n",
      "\n",
      "Epoch 00706: val_loss did not improve from 1.47870\n",
      "Epoch 707/1000\n",
      "633/633 [==============================] - 0s 180us/step - loss: 1.4289 - mae: 0.9474 - val_loss: 1.4874 - val_mae: 0.9926\n",
      "\n",
      "Epoch 00707: val_loss did not improve from 1.47870\n",
      "Epoch 708/1000\n",
      "633/633 [==============================] - 0s 190us/step - loss: 1.4568 - mae: 0.9384 - val_loss: 1.4806 - val_mae: 0.9904\n",
      "\n",
      "Epoch 00708: val_loss did not improve from 1.47870\n",
      "Epoch 709/1000\n",
      "633/633 [==============================] - 0s 172us/step - loss: 1.4995 - mae: 0.9590 - val_loss: 1.4828 - val_mae: 0.9917\n",
      "\n",
      "Epoch 00709: val_loss did not improve from 1.47870\n",
      "Epoch 710/1000\n",
      "633/633 [==============================] - 0s 177us/step - loss: 1.4896 - mae: 0.9710 - val_loss: 1.4821 - val_mae: 0.9910\n",
      "\n",
      "Epoch 00710: val_loss did not improve from 1.47870\n",
      "Epoch 711/1000\n",
      "633/633 [==============================] - 0s 183us/step - loss: 1.4608 - mae: 0.9525 - val_loss: 1.4852 - val_mae: 0.9925\n",
      "\n",
      "Epoch 00711: val_loss did not improve from 1.47870\n",
      "Epoch 712/1000\n",
      "633/633 [==============================] - 0s 181us/step - loss: 1.4363 - mae: 0.9500 - val_loss: 1.4862 - val_mae: 0.9937\n",
      "\n",
      "Epoch 00712: val_loss did not improve from 1.47870\n",
      "Epoch 713/1000\n",
      "633/633 [==============================] - 0s 177us/step - loss: 1.4030 - mae: 0.9318 - val_loss: 1.4835 - val_mae: 0.9913\n",
      "\n",
      "Epoch 00713: val_loss did not improve from 1.47870\n",
      "Epoch 714/1000\n",
      "633/633 [==============================] - 0s 173us/step - loss: 1.5439 - mae: 0.9855 - val_loss: 1.4877 - val_mae: 0.9931\n",
      "\n",
      "Epoch 00714: val_loss did not improve from 1.47870\n",
      "Epoch 715/1000\n",
      "633/633 [==============================] - 0s 173us/step - loss: 1.4451 - mae: 0.9438 - val_loss: 1.4837 - val_mae: 0.9914\n",
      "\n",
      "Epoch 00715: val_loss did not improve from 1.47870\n",
      "Epoch 716/1000\n",
      "633/633 [==============================] - 0s 180us/step - loss: 1.5075 - mae: 0.9667 - val_loss: 1.4854 - val_mae: 0.9918\n",
      "\n",
      "Epoch 00716: val_loss did not improve from 1.47870\n",
      "Epoch 717/1000\n",
      "633/633 [==============================] - 0s 184us/step - loss: 1.5119 - mae: 0.9672 - val_loss: 1.4876 - val_mae: 0.9924\n",
      "\n",
      "Epoch 00717: val_loss did not improve from 1.47870\n",
      "Epoch 718/1000\n",
      "633/633 [==============================] - 0s 180us/step - loss: 1.4200 - mae: 0.9441 - val_loss: 1.4905 - val_mae: 0.9925\n",
      "\n",
      "Epoch 00718: val_loss did not improve from 1.47870\n",
      "Epoch 719/1000\n",
      "633/633 [==============================] - 0s 175us/step - loss: 1.4042 - mae: 0.9362 - val_loss: 1.4869 - val_mae: 0.9917\n",
      "\n",
      "Epoch 00719: val_loss did not improve from 1.47870\n",
      "Epoch 720/1000\n",
      "633/633 [==============================] - 0s 173us/step - loss: 1.3561 - mae: 0.9250 - val_loss: 1.4918 - val_mae: 0.9923\n",
      "\n",
      "Epoch 00720: val_loss did not improve from 1.47870\n",
      "Epoch 721/1000\n",
      "633/633 [==============================] - 0s 184us/step - loss: 1.3288 - mae: 0.9097 - val_loss: 1.4940 - val_mae: 0.9927\n",
      "\n",
      "Epoch 00721: val_loss did not improve from 1.47870\n",
      "Epoch 722/1000\n",
      "633/633 [==============================] - 0s 177us/step - loss: 1.3748 - mae: 0.9294 - val_loss: 1.4926 - val_mae: 0.9926\n",
      "\n",
      "Epoch 00722: val_loss did not improve from 1.47870\n",
      "Epoch 723/1000\n",
      "633/633 [==============================] - 0s 176us/step - loss: 1.4749 - mae: 0.9577 - val_loss: 1.4897 - val_mae: 0.9918\n",
      "\n",
      "Epoch 00723: val_loss did not improve from 1.47870\n",
      "Epoch 724/1000\n",
      "633/633 [==============================] - 0s 173us/step - loss: 1.3746 - mae: 0.9116 - val_loss: 1.4933 - val_mae: 0.9935\n",
      "\n",
      "Epoch 00724: val_loss did not improve from 1.47870\n",
      "Epoch 725/1000\n",
      "633/633 [==============================] - 0s 174us/step - loss: 1.3489 - mae: 0.9108 - val_loss: 1.4923 - val_mae: 0.9927\n",
      "\n",
      "Epoch 00725: val_loss did not improve from 1.47870\n",
      "Epoch 726/1000\n",
      "633/633 [==============================] - 0s 187us/step - loss: 1.4352 - mae: 0.9414 - val_loss: 1.4980 - val_mae: 0.9944\n",
      "\n",
      "Epoch 00726: val_loss did not improve from 1.47870\n",
      "Epoch 727/1000\n",
      "633/633 [==============================] - 0s 182us/step - loss: 1.5004 - mae: 0.9599 - val_loss: 1.4978 - val_mae: 0.9930\n",
      "\n",
      "Epoch 00727: val_loss did not improve from 1.47870\n",
      "Epoch 728/1000\n",
      "633/633 [==============================] - 0s 175us/step - loss: 1.4471 - mae: 0.9447 - val_loss: 1.4907 - val_mae: 0.9912\n",
      "\n",
      "Epoch 00728: val_loss did not improve from 1.47870\n",
      "Epoch 729/1000\n",
      "633/633 [==============================] - 0s 175us/step - loss: 1.4813 - mae: 0.9483 - val_loss: 1.4899 - val_mae: 0.9915\n",
      "\n",
      "Epoch 00729: val_loss did not improve from 1.47870\n",
      "Epoch 730/1000\n",
      "633/633 [==============================] - 0s 175us/step - loss: 1.4381 - mae: 0.9417 - val_loss: 1.4916 - val_mae: 0.9928\n",
      "\n",
      "Epoch 00730: val_loss did not improve from 1.47870\n",
      "Epoch 731/1000\n",
      "633/633 [==============================] - 0s 178us/step - loss: 1.5009 - mae: 0.9711 - val_loss: 1.4887 - val_mae: 0.9917\n",
      "\n",
      "Epoch 00731: val_loss did not improve from 1.47870\n",
      "Epoch 732/1000\n",
      "633/633 [==============================] - 0s 175us/step - loss: 1.4636 - mae: 0.9643 - val_loss: 1.4851 - val_mae: 0.9917\n",
      "\n",
      "Epoch 00732: val_loss did not improve from 1.47870\n",
      "Epoch 733/1000\n",
      "633/633 [==============================] - 0s 175us/step - loss: 1.3416 - mae: 0.9099 - val_loss: 1.4833 - val_mae: 0.9904\n",
      "\n",
      "Epoch 00733: val_loss did not improve from 1.47870\n",
      "Epoch 734/1000\n",
      "633/633 [==============================] - 0s 180us/step - loss: 1.3801 - mae: 0.9314 - val_loss: 1.4836 - val_mae: 0.9915\n",
      "\n",
      "Epoch 00734: val_loss did not improve from 1.47870\n",
      "Epoch 735/1000\n",
      "633/633 [==============================] - 0s 179us/step - loss: 1.4697 - mae: 0.9613 - val_loss: 1.4835 - val_mae: 0.9908\n",
      "\n",
      "Epoch 00735: val_loss did not improve from 1.47870\n",
      "Epoch 736/1000\n",
      "633/633 [==============================] - 0s 171us/step - loss: 1.3902 - mae: 0.9361 - val_loss: 1.4840 - val_mae: 0.9915\n",
      "\n",
      "Epoch 00736: val_loss did not improve from 1.47870\n",
      "Epoch 737/1000\n",
      "633/633 [==============================] - 0s 169us/step - loss: 1.4472 - mae: 0.9569 - val_loss: 1.4828 - val_mae: 0.9893\n",
      "\n",
      "Epoch 00737: val_loss did not improve from 1.47870\n",
      "Epoch 738/1000\n",
      "633/633 [==============================] - 0s 179us/step - loss: 1.4489 - mae: 0.9469 - val_loss: 1.4791 - val_mae: 0.9878\n",
      "\n",
      "Epoch 00738: val_loss did not improve from 1.47870\n",
      "Epoch 739/1000\n",
      "633/633 [==============================] - 0s 173us/step - loss: 1.4742 - mae: 0.9375 - val_loss: 1.4848 - val_mae: 0.9894\n",
      "\n",
      "Epoch 00739: val_loss did not improve from 1.47870\n",
      "Epoch 740/1000\n",
      "633/633 [==============================] - 0s 177us/step - loss: 1.4815 - mae: 0.9588 - val_loss: 1.4838 - val_mae: 0.9902\n",
      "\n",
      "Epoch 00740: val_loss did not improve from 1.47870\n",
      "Epoch 741/1000\n",
      "633/633 [==============================] - 0s 178us/step - loss: 1.4696 - mae: 0.9576 - val_loss: 1.4810 - val_mae: 0.9888\n",
      "\n",
      "Epoch 00741: val_loss did not improve from 1.47870\n",
      "Epoch 742/1000\n",
      "633/633 [==============================] - 0s 185us/step - loss: 1.3735 - mae: 0.9200 - val_loss: 1.4848 - val_mae: 0.9899\n",
      "\n",
      "Epoch 00742: val_loss did not improve from 1.47870\n",
      "Epoch 743/1000\n",
      "633/633 [==============================] - 0s 175us/step - loss: 1.4715 - mae: 0.9483 - val_loss: 1.4811 - val_mae: 0.9894\n",
      "\n",
      "Epoch 00743: val_loss did not improve from 1.47870\n",
      "Epoch 744/1000\n",
      "633/633 [==============================] - 0s 183us/step - loss: 1.4214 - mae: 0.9312 - val_loss: 1.4834 - val_mae: 0.9915\n",
      "\n",
      "Epoch 00744: val_loss did not improve from 1.47870\n",
      "Epoch 745/1000\n",
      "633/633 [==============================] - 0s 175us/step - loss: 1.4916 - mae: 0.9782 - val_loss: 1.4781 - val_mae: 0.9900\n",
      "\n",
      "Epoch 00745: val_loss improved from 1.47870 to 1.47809, saving model to model.sve\n",
      "Epoch 746/1000\n",
      "633/633 [==============================] - 0s 195us/step - loss: 1.4303 - mae: 0.9295 - val_loss: 1.4834 - val_mae: 0.9915\n",
      "\n",
      "Epoch 00746: val_loss did not improve from 1.47809\n",
      "Epoch 747/1000\n",
      "633/633 [==============================] - 0s 180us/step - loss: 1.4867 - mae: 0.9521 - val_loss: 1.4834 - val_mae: 0.9909\n",
      "\n",
      "Epoch 00747: val_loss did not improve from 1.47809\n",
      "Epoch 748/1000\n",
      "633/633 [==============================] - 0s 177us/step - loss: 1.3991 - mae: 0.9342 - val_loss: 1.4851 - val_mae: 0.9919\n",
      "\n",
      "Epoch 00748: val_loss did not improve from 1.47809\n",
      "Epoch 749/1000\n",
      "633/633 [==============================] - 0s 182us/step - loss: 1.4403 - mae: 0.9516 - val_loss: 1.4863 - val_mae: 0.9925\n",
      "\n",
      "Epoch 00749: val_loss did not improve from 1.47809\n",
      "Epoch 750/1000\n",
      "633/633 [==============================] - 0s 175us/step - loss: 1.3386 - mae: 0.9074 - val_loss: 1.4882 - val_mae: 0.9927\n",
      "\n",
      "Epoch 00750: val_loss did not improve from 1.47809\n",
      "Epoch 751/1000\n",
      "633/633 [==============================] - 0s 170us/step - loss: 1.4281 - mae: 0.9461 - val_loss: 1.4904 - val_mae: 0.9936\n",
      "\n",
      "Epoch 00751: val_loss did not improve from 1.47809\n",
      "Epoch 752/1000\n",
      "633/633 [==============================] - 0s 179us/step - loss: 1.4856 - mae: 0.9603 - val_loss: 1.4901 - val_mae: 0.9932\n",
      "\n",
      "Epoch 00752: val_loss did not improve from 1.47809\n",
      "Epoch 753/1000\n",
      "633/633 [==============================] - 0s 176us/step - loss: 1.3643 - mae: 0.9170 - val_loss: 1.4885 - val_mae: 0.9919\n",
      "\n",
      "Epoch 00753: val_loss did not improve from 1.47809\n",
      "Epoch 754/1000\n",
      "633/633 [==============================] - 0s 173us/step - loss: 1.4209 - mae: 0.9258 - val_loss: 1.4889 - val_mae: 0.9923\n",
      "\n",
      "Epoch 00754: val_loss did not improve from 1.47809\n",
      "Epoch 755/1000\n",
      "633/633 [==============================] - 0s 175us/step - loss: 1.4431 - mae: 0.9520 - val_loss: 1.4885 - val_mae: 0.9922\n",
      "\n",
      "Epoch 00755: val_loss did not improve from 1.47809\n",
      "Epoch 756/1000\n",
      "633/633 [==============================] - 0s 186us/step - loss: 1.3918 - mae: 0.9260 - val_loss: 1.4864 - val_mae: 0.9917\n",
      "\n",
      "Epoch 00756: val_loss did not improve from 1.47809\n",
      "Epoch 757/1000\n",
      "633/633 [==============================] - 0s 179us/step - loss: 1.4133 - mae: 0.9415 - val_loss: 1.4876 - val_mae: 0.9916\n",
      "\n",
      "Epoch 00757: val_loss did not improve from 1.47809\n",
      "Epoch 758/1000\n",
      "633/633 [==============================] - 0s 176us/step - loss: 1.3892 - mae: 0.9295 - val_loss: 1.4912 - val_mae: 0.9932\n",
      "\n",
      "Epoch 00758: val_loss did not improve from 1.47809\n",
      "Epoch 759/1000\n",
      "633/633 [==============================] - 0s 225us/step - loss: 1.5076 - mae: 0.9796 - val_loss: 1.4912 - val_mae: 0.9936\n",
      "\n",
      "Epoch 00759: val_loss did not improve from 1.47809\n",
      "Epoch 760/1000\n",
      "633/633 [==============================] - 0s 184us/step - loss: 1.4336 - mae: 0.9444 - val_loss: 1.4927 - val_mae: 0.9941\n",
      "\n",
      "Epoch 00760: val_loss did not improve from 1.47809\n",
      "Epoch 761/1000\n",
      "633/633 [==============================] - 0s 185us/step - loss: 1.4411 - mae: 0.9597 - val_loss: 1.4937 - val_mae: 0.9937\n",
      "\n",
      "Epoch 00761: val_loss did not improve from 1.47809\n",
      "Epoch 762/1000\n",
      "633/633 [==============================] - 0s 183us/step - loss: 1.4079 - mae: 0.9467 - val_loss: 1.4920 - val_mae: 0.9945\n",
      "\n",
      "Epoch 00762: val_loss did not improve from 1.47809\n",
      "Epoch 763/1000\n",
      "633/633 [==============================] - 0s 174us/step - loss: 1.3866 - mae: 0.9296 - val_loss: 1.4833 - val_mae: 0.9916\n",
      "\n",
      "Epoch 00763: val_loss did not improve from 1.47809\n",
      "Epoch 764/1000\n",
      "633/633 [==============================] - 0s 193us/step - loss: 1.5704 - mae: 0.9786 - val_loss: 1.4756 - val_mae: 0.9887\n",
      "\n",
      "Epoch 00764: val_loss improved from 1.47809 to 1.47562, saving model to model.sve\n",
      "Epoch 765/1000\n",
      "633/633 [==============================] - 0s 181us/step - loss: 1.4627 - mae: 0.9556 - val_loss: 1.4734 - val_mae: 0.9889\n",
      "\n",
      "Epoch 00765: val_loss improved from 1.47562 to 1.47337, saving model to model.sve\n",
      "Epoch 766/1000\n",
      "633/633 [==============================] - 0s 195us/step - loss: 1.4642 - mae: 0.9486 - val_loss: 1.4709 - val_mae: 0.9880\n",
      "\n",
      "Epoch 00766: val_loss improved from 1.47337 to 1.47094, saving model to model.sve\n",
      "Epoch 767/1000\n",
      "633/633 [==============================] - 0s 185us/step - loss: 1.4047 - mae: 0.9290 - val_loss: 1.4699 - val_mae: 0.9873\n",
      "\n",
      "Epoch 00767: val_loss improved from 1.47094 to 1.46992, saving model to model.sve\n",
      "Epoch 768/1000\n",
      "633/633 [==============================] - 0s 221us/step - loss: 1.2914 - mae: 0.8846 - val_loss: 1.4772 - val_mae: 0.9897\n",
      "\n",
      "Epoch 00768: val_loss did not improve from 1.46992\n",
      "Epoch 769/1000\n",
      "633/633 [==============================] - 0s 176us/step - loss: 1.4700 - mae: 0.9527 - val_loss: 1.4773 - val_mae: 0.9898\n",
      "\n",
      "Epoch 00769: val_loss did not improve from 1.46992\n",
      "Epoch 770/1000\n",
      "633/633 [==============================] - 0s 181us/step - loss: 1.3182 - mae: 0.8938 - val_loss: 1.4863 - val_mae: 0.9945\n",
      "\n",
      "Epoch 00770: val_loss did not improve from 1.46992\n",
      "Epoch 771/1000\n",
      "633/633 [==============================] - 0s 182us/step - loss: 1.3050 - mae: 0.8918 - val_loss: 1.4871 - val_mae: 0.9951\n",
      "\n",
      "Epoch 00771: val_loss did not improve from 1.46992\n",
      "Epoch 772/1000\n",
      "633/633 [==============================] - 0s 186us/step - loss: 1.3354 - mae: 0.9076 - val_loss: 1.4851 - val_mae: 0.9951\n",
      "\n",
      "Epoch 00772: val_loss did not improve from 1.46992\n",
      "Epoch 773/1000\n",
      "633/633 [==============================] - 0s 175us/step - loss: 1.4411 - mae: 0.9613 - val_loss: 1.4859 - val_mae: 0.9942\n",
      "\n",
      "Epoch 00773: val_loss did not improve from 1.46992\n",
      "Epoch 774/1000\n",
      "633/633 [==============================] - 0s 212us/step - loss: 1.4134 - mae: 0.9256 - val_loss: 1.4879 - val_mae: 0.9946\n",
      "\n",
      "Epoch 00774: val_loss did not improve from 1.46992\n",
      "Epoch 775/1000\n",
      "633/633 [==============================] - 0s 175us/step - loss: 1.3509 - mae: 0.9106 - val_loss: 1.4864 - val_mae: 0.9940\n",
      "\n",
      "Epoch 00775: val_loss did not improve from 1.46992\n",
      "Epoch 776/1000\n",
      "633/633 [==============================] - 0s 184us/step - loss: 1.3294 - mae: 0.9146 - val_loss: 1.4875 - val_mae: 0.9948\n",
      "\n",
      "Epoch 00776: val_loss did not improve from 1.46992\n",
      "Epoch 777/1000\n",
      "633/633 [==============================] - 0s 186us/step - loss: 1.4169 - mae: 0.9405 - val_loss: 1.4870 - val_mae: 0.9954\n",
      "\n",
      "Epoch 00777: val_loss did not improve from 1.46992\n",
      "Epoch 778/1000\n",
      "633/633 [==============================] - 0s 174us/step - loss: 1.4072 - mae: 0.9398 - val_loss: 1.4912 - val_mae: 0.9957\n",
      "\n",
      "Epoch 00778: val_loss did not improve from 1.46992\n",
      "Epoch 779/1000\n",
      "633/633 [==============================] - 0s 177us/step - loss: 1.3979 - mae: 0.9244 - val_loss: 1.4856 - val_mae: 0.9947\n",
      "\n",
      "Epoch 00779: val_loss did not improve from 1.46992\n",
      "Epoch 780/1000\n",
      "633/633 [==============================] - 0s 178us/step - loss: 1.4054 - mae: 0.9262 - val_loss: 1.4827 - val_mae: 0.9936\n",
      "\n",
      "Epoch 00780: val_loss did not improve from 1.46992\n",
      "Epoch 781/1000\n",
      "633/633 [==============================] - 0s 174us/step - loss: 1.4163 - mae: 0.9353 - val_loss: 1.4895 - val_mae: 0.9951\n",
      "\n",
      "Epoch 00781: val_loss did not improve from 1.46992\n",
      "Epoch 782/1000\n",
      "633/633 [==============================] - 0s 176us/step - loss: 1.3648 - mae: 0.9251 - val_loss: 1.4912 - val_mae: 0.9951\n",
      "\n",
      "Epoch 00782: val_loss did not improve from 1.46992\n",
      "Epoch 783/1000\n",
      "633/633 [==============================] - 0s 176us/step - loss: 1.3115 - mae: 0.9064 - val_loss: 1.4946 - val_mae: 0.9955\n",
      "\n",
      "Epoch 00783: val_loss did not improve from 1.46992\n",
      "Epoch 784/1000\n",
      "633/633 [==============================] - 0s 188us/step - loss: 1.3853 - mae: 0.9388 - val_loss: 1.4906 - val_mae: 0.9946\n",
      "\n",
      "Epoch 00784: val_loss did not improve from 1.46992\n",
      "Epoch 785/1000\n",
      "633/633 [==============================] - 0s 183us/step - loss: 1.4128 - mae: 0.9388 - val_loss: 1.4906 - val_mae: 0.9952\n",
      "\n",
      "Epoch 00785: val_loss did not improve from 1.46992\n",
      "Epoch 786/1000\n",
      "633/633 [==============================] - 0s 176us/step - loss: 1.4385 - mae: 0.9455 - val_loss: 1.4873 - val_mae: 0.9938\n",
      "\n",
      "Epoch 00786: val_loss did not improve from 1.46992\n",
      "Epoch 787/1000\n",
      "633/633 [==============================] - 0s 195us/step - loss: 1.3939 - mae: 0.9304 - val_loss: 1.4853 - val_mae: 0.9931\n",
      "\n",
      "Epoch 00787: val_loss did not improve from 1.46992\n",
      "Epoch 788/1000\n",
      "633/633 [==============================] - 0s 180us/step - loss: 1.4427 - mae: 0.9473 - val_loss: 1.4850 - val_mae: 0.9926\n",
      "\n",
      "Epoch 00788: val_loss did not improve from 1.46992\n",
      "Epoch 789/1000\n",
      "633/633 [==============================] - 0s 174us/step - loss: 1.4435 - mae: 0.9603 - val_loss: 1.4842 - val_mae: 0.9935\n",
      "\n",
      "Epoch 00789: val_loss did not improve from 1.46992\n",
      "Epoch 790/1000\n",
      "633/633 [==============================] - 0s 179us/step - loss: 1.4756 - mae: 0.9590 - val_loss: 1.4833 - val_mae: 0.9926\n",
      "\n",
      "Epoch 00790: val_loss did not improve from 1.46992\n",
      "Epoch 791/1000\n",
      "633/633 [==============================] - 0s 178us/step - loss: 1.2859 - mae: 0.8926 - val_loss: 1.4774 - val_mae: 0.9914\n",
      "\n",
      "Epoch 00791: val_loss did not improve from 1.46992\n",
      "Epoch 792/1000\n",
      "633/633 [==============================] - 0s 170us/step - loss: 1.3005 - mae: 0.9061 - val_loss: 1.4796 - val_mae: 0.9934\n",
      "\n",
      "Epoch 00792: val_loss did not improve from 1.46992\n",
      "Epoch 793/1000\n",
      "633/633 [==============================] - 0s 168us/step - loss: 1.3502 - mae: 0.9103 - val_loss: 1.4814 - val_mae: 0.9952\n",
      "\n",
      "Epoch 00793: val_loss did not improve from 1.46992\n",
      "Epoch 794/1000\n",
      "633/633 [==============================] - 0s 184us/step - loss: 1.3313 - mae: 0.9183 - val_loss: 1.4860 - val_mae: 0.9961\n",
      "\n",
      "Epoch 00794: val_loss did not improve from 1.46992\n",
      "Epoch 795/1000\n",
      "633/633 [==============================] - 0s 171us/step - loss: 1.3847 - mae: 0.9280 - val_loss: 1.4860 - val_mae: 0.9961\n",
      "\n",
      "Epoch 00795: val_loss did not improve from 1.46992\n",
      "Epoch 796/1000\n",
      "633/633 [==============================] - 0s 172us/step - loss: 1.3343 - mae: 0.9253 - val_loss: 1.4929 - val_mae: 0.9981\n",
      "\n",
      "Epoch 00796: val_loss did not improve from 1.46992\n",
      "Epoch 797/1000\n",
      "633/633 [==============================] - 0s 183us/step - loss: 1.3997 - mae: 0.9350 - val_loss: 1.4927 - val_mae: 0.9983\n",
      "\n",
      "Epoch 00797: val_loss did not improve from 1.46992\n",
      "Epoch 798/1000\n",
      "633/633 [==============================] - 0s 179us/step - loss: 1.3346 - mae: 0.9085 - val_loss: 1.4884 - val_mae: 0.9957\n",
      "\n",
      "Epoch 00798: val_loss did not improve from 1.46992\n",
      "Epoch 799/1000\n",
      "633/633 [==============================] - 0s 174us/step - loss: 1.3138 - mae: 0.9080 - val_loss: 1.4931 - val_mae: 0.9982\n",
      "\n",
      "Epoch 00799: val_loss did not improve from 1.46992\n",
      "Epoch 800/1000\n",
      "633/633 [==============================] - 0s 178us/step - loss: 1.3921 - mae: 0.9205 - val_loss: 1.4864 - val_mae: 0.9950\n",
      "\n",
      "Epoch 00800: val_loss did not improve from 1.46992\n",
      "Epoch 801/1000\n",
      "633/633 [==============================] - 0s 169us/step - loss: 1.4332 - mae: 0.9385 - val_loss: 1.4837 - val_mae: 0.9937\n",
      "\n",
      "Epoch 00801: val_loss did not improve from 1.46992\n",
      "Epoch 802/1000\n",
      "633/633 [==============================] - 0s 177us/step - loss: 1.3533 - mae: 0.9315 - val_loss: 1.4865 - val_mae: 0.9953\n",
      "\n",
      "Epoch 00802: val_loss did not improve from 1.46992\n",
      "Epoch 803/1000\n",
      "633/633 [==============================] - 0s 183us/step - loss: 1.3998 - mae: 0.9377 - val_loss: 1.4909 - val_mae: 0.9969\n",
      "\n",
      "Epoch 00803: val_loss did not improve from 1.46992\n",
      "Epoch 804/1000\n",
      "633/633 [==============================] - 0s 170us/step - loss: 1.3781 - mae: 0.9318 - val_loss: 1.4972 - val_mae: 1.0004\n",
      "\n",
      "Epoch 00804: val_loss did not improve from 1.46992\n",
      "Epoch 805/1000\n",
      "633/633 [==============================] - 0s 180us/step - loss: 1.3134 - mae: 0.9047 - val_loss: 1.4884 - val_mae: 0.9970\n",
      "\n",
      "Epoch 00805: val_loss did not improve from 1.46992\n",
      "Epoch 806/1000\n",
      "633/633 [==============================] - 0s 173us/step - loss: 1.3910 - mae: 0.9213 - val_loss: 1.4893 - val_mae: 0.9974\n",
      "\n",
      "Epoch 00806: val_loss did not improve from 1.46992\n",
      "Epoch 807/1000\n",
      "633/633 [==============================] - 0s 176us/step - loss: 1.4383 - mae: 0.9476 - val_loss: 1.4862 - val_mae: 0.9981\n",
      "\n",
      "Epoch 00807: val_loss did not improve from 1.46992\n",
      "Epoch 808/1000\n",
      "633/633 [==============================] - 0s 191us/step - loss: 1.3761 - mae: 0.9142 - val_loss: 1.4888 - val_mae: 0.9980\n",
      "\n",
      "Epoch 00808: val_loss did not improve from 1.46992\n",
      "Epoch 809/1000\n",
      "633/633 [==============================] - 0s 176us/step - loss: 1.3487 - mae: 0.9100 - val_loss: 1.4919 - val_mae: 0.9978\n",
      "\n",
      "Epoch 00809: val_loss did not improve from 1.46992\n",
      "Epoch 810/1000\n",
      "633/633 [==============================] - 0s 173us/step - loss: 1.3438 - mae: 0.9073 - val_loss: 1.4955 - val_mae: 0.9992\n",
      "\n",
      "Epoch 00810: val_loss did not improve from 1.46992\n",
      "Epoch 811/1000\n",
      "633/633 [==============================] - 0s 178us/step - loss: 1.4236 - mae: 0.9421 - val_loss: 1.4899 - val_mae: 0.9970\n",
      "\n",
      "Epoch 00811: val_loss did not improve from 1.46992\n",
      "Epoch 812/1000\n",
      "633/633 [==============================] - 0s 182us/step - loss: 1.4364 - mae: 0.9436 - val_loss: 1.4918 - val_mae: 0.9984\n",
      "\n",
      "Epoch 00812: val_loss did not improve from 1.46992\n",
      "Epoch 813/1000\n",
      "633/633 [==============================] - 0s 172us/step - loss: 1.4100 - mae: 0.9272 - val_loss: 1.4919 - val_mae: 0.9995\n",
      "\n",
      "Epoch 00813: val_loss did not improve from 1.46992\n",
      "Epoch 814/1000\n",
      "633/633 [==============================] - 0s 181us/step - loss: 1.4783 - mae: 0.9555 - val_loss: 1.4888 - val_mae: 0.9996\n",
      "\n",
      "Epoch 00814: val_loss did not improve from 1.46992\n",
      "Epoch 815/1000\n",
      "633/633 [==============================] - 0s 179us/step - loss: 1.4162 - mae: 0.9367 - val_loss: 1.4882 - val_mae: 0.9989\n",
      "\n",
      "Epoch 00815: val_loss did not improve from 1.46992\n",
      "Epoch 816/1000\n",
      "633/633 [==============================] - 0s 182us/step - loss: 1.4128 - mae: 0.9319 - val_loss: 1.4889 - val_mae: 0.9992\n",
      "\n",
      "Epoch 00816: val_loss did not improve from 1.46992\n",
      "Epoch 817/1000\n",
      "633/633 [==============================] - 0s 178us/step - loss: 1.3059 - mae: 0.9011 - val_loss: 1.4901 - val_mae: 0.9990\n",
      "\n",
      "Epoch 00817: val_loss did not improve from 1.46992\n",
      "Epoch 818/1000\n",
      "633/633 [==============================] - 0s 188us/step - loss: 1.4149 - mae: 0.9236 - val_loss: 1.4940 - val_mae: 1.0006\n",
      "\n",
      "Epoch 00818: val_loss did not improve from 1.46992\n",
      "Epoch 819/1000\n",
      "633/633 [==============================] - 0s 179us/step - loss: 1.3594 - mae: 0.9167 - val_loss: 1.4899 - val_mae: 0.9994\n",
      "\n",
      "Epoch 00819: val_loss did not improve from 1.46992\n",
      "Epoch 820/1000\n",
      "633/633 [==============================] - 0s 175us/step - loss: 1.3700 - mae: 0.9160 - val_loss: 1.4943 - val_mae: 1.0008\n",
      "\n",
      "Epoch 00820: val_loss did not improve from 1.46992\n",
      "Epoch 821/1000\n",
      "633/633 [==============================] - 0s 187us/step - loss: 1.3762 - mae: 0.9281 - val_loss: 1.4928 - val_mae: 1.0002\n",
      "\n",
      "Epoch 00821: val_loss did not improve from 1.46992\n",
      "Epoch 822/1000\n",
      "633/633 [==============================] - 0s 185us/step - loss: 1.3816 - mae: 0.9322 - val_loss: 1.4899 - val_mae: 0.9997\n",
      "\n",
      "Epoch 00822: val_loss did not improve from 1.46992\n",
      "Epoch 823/1000\n",
      "633/633 [==============================] - 0s 175us/step - loss: 1.3669 - mae: 0.9206 - val_loss: 1.4825 - val_mae: 0.9967\n",
      "\n",
      "Epoch 00823: val_loss did not improve from 1.46992\n",
      "Epoch 824/1000\n",
      "633/633 [==============================] - 0s 174us/step - loss: 1.3842 - mae: 0.9305 - val_loss: 1.4864 - val_mae: 0.9983\n",
      "\n",
      "Epoch 00824: val_loss did not improve from 1.46992\n",
      "Epoch 825/1000\n",
      "633/633 [==============================] - 0s 220us/step - loss: 1.3813 - mae: 0.9244 - val_loss: 1.4820 - val_mae: 0.9972\n",
      "\n",
      "Epoch 00825: val_loss did not improve from 1.46992\n",
      "Epoch 826/1000\n",
      "633/633 [==============================] - 0s 176us/step - loss: 1.5278 - mae: 0.9921 - val_loss: 1.4810 - val_mae: 0.9959\n",
      "\n",
      "Epoch 00826: val_loss did not improve from 1.46992\n",
      "Epoch 827/1000\n",
      "633/633 [==============================] - 0s 179us/step - loss: 1.4814 - mae: 0.9662 - val_loss: 1.4786 - val_mae: 0.9940\n",
      "\n",
      "Epoch 00827: val_loss did not improve from 1.46992\n",
      "Epoch 828/1000\n",
      "633/633 [==============================] - 0s 172us/step - loss: 1.4157 - mae: 0.9388 - val_loss: 1.4802 - val_mae: 0.9956\n",
      "\n",
      "Epoch 00828: val_loss did not improve from 1.46992\n",
      "Epoch 829/1000\n",
      "633/633 [==============================] - 0s 181us/step - loss: 1.3854 - mae: 0.9247 - val_loss: 1.4769 - val_mae: 0.9937\n",
      "\n",
      "Epoch 00829: val_loss did not improve from 1.46992\n",
      "Epoch 830/1000\n",
      "633/633 [==============================] - 0s 178us/step - loss: 1.3812 - mae: 0.9346 - val_loss: 1.4694 - val_mae: 0.9907\n",
      "\n",
      "Epoch 00830: val_loss improved from 1.46992 to 1.46937, saving model to model.sve\n",
      "Epoch 831/1000\n",
      "633/633 [==============================] - 0s 181us/step - loss: 1.3809 - mae: 0.9203 - val_loss: 1.4749 - val_mae: 0.9924\n",
      "\n",
      "Epoch 00831: val_loss did not improve from 1.46937\n",
      "Epoch 832/1000\n",
      "633/633 [==============================] - 0s 180us/step - loss: 1.4252 - mae: 0.9441 - val_loss: 1.4750 - val_mae: 0.9926\n",
      "\n",
      "Epoch 00832: val_loss did not improve from 1.46937\n",
      "Epoch 833/1000\n",
      "633/633 [==============================] - 0s 182us/step - loss: 1.4871 - mae: 0.9610 - val_loss: 1.4752 - val_mae: 0.9937\n",
      "\n",
      "Epoch 00833: val_loss did not improve from 1.46937\n",
      "Epoch 834/1000\n",
      "633/633 [==============================] - 0s 175us/step - loss: 1.3802 - mae: 0.9152 - val_loss: 1.4742 - val_mae: 0.9938\n",
      "\n",
      "Epoch 00834: val_loss did not improve from 1.46937\n",
      "Epoch 835/1000\n",
      "633/633 [==============================] - 0s 170us/step - loss: 1.3248 - mae: 0.9076 - val_loss: 1.4754 - val_mae: 0.9939\n",
      "\n",
      "Epoch 00835: val_loss did not improve from 1.46937\n",
      "Epoch 836/1000\n",
      "633/633 [==============================] - 0s 181us/step - loss: 1.3303 - mae: 0.9108 - val_loss: 1.4810 - val_mae: 0.9948\n",
      "\n",
      "Epoch 00836: val_loss did not improve from 1.46937\n",
      "Epoch 837/1000\n",
      "633/633 [==============================] - 0s 173us/step - loss: 1.3175 - mae: 0.9052 - val_loss: 1.4825 - val_mae: 0.9957\n",
      "\n",
      "Epoch 00837: val_loss did not improve from 1.46937\n",
      "Epoch 838/1000\n",
      "633/633 [==============================] - 0s 205us/step - loss: 1.4240 - mae: 0.9428 - val_loss: 1.4832 - val_mae: 0.9957\n",
      "\n",
      "Epoch 00838: val_loss did not improve from 1.46937\n",
      "Epoch 839/1000\n",
      "633/633 [==============================] - 0s 178us/step - loss: 1.4334 - mae: 0.9562 - val_loss: 1.4803 - val_mae: 0.9940\n",
      "\n",
      "Epoch 00839: val_loss did not improve from 1.46937\n",
      "Epoch 840/1000\n",
      "633/633 [==============================] - 0s 175us/step - loss: 1.4062 - mae: 0.9400 - val_loss: 1.4814 - val_mae: 0.9934\n",
      "\n",
      "Epoch 00840: val_loss did not improve from 1.46937\n",
      "Epoch 841/1000\n",
      "633/633 [==============================] - 0s 181us/step - loss: 1.4281 - mae: 0.9481 - val_loss: 1.4797 - val_mae: 0.9930\n",
      "\n",
      "Epoch 00841: val_loss did not improve from 1.46937\n",
      "Epoch 842/1000\n",
      "633/633 [==============================] - 0s 178us/step - loss: 1.3092 - mae: 0.8990 - val_loss: 1.4914 - val_mae: 0.9968\n",
      "\n",
      "Epoch 00842: val_loss did not improve from 1.46937\n",
      "Epoch 843/1000\n",
      "633/633 [==============================] - 0s 177us/step - loss: 1.3899 - mae: 0.9377 - val_loss: 1.4988 - val_mae: 0.9992\n",
      "\n",
      "Epoch 00843: val_loss did not improve from 1.46937\n",
      "Epoch 844/1000\n",
      "633/633 [==============================] - 0s 183us/step - loss: 1.3589 - mae: 0.9143 - val_loss: 1.4934 - val_mae: 0.9966\n",
      "\n",
      "Epoch 00844: val_loss did not improve from 1.46937\n",
      "Epoch 845/1000\n",
      "633/633 [==============================] - 0s 176us/step - loss: 1.3040 - mae: 0.9067 - val_loss: 1.4972 - val_mae: 0.9976\n",
      "\n",
      "Epoch 00845: val_loss did not improve from 1.46937\n",
      "Epoch 846/1000\n",
      "633/633 [==============================] - 0s 176us/step - loss: 1.4286 - mae: 0.9436 - val_loss: 1.4954 - val_mae: 0.9970\n",
      "\n",
      "Epoch 00846: val_loss did not improve from 1.46937\n",
      "Epoch 847/1000\n",
      "633/633 [==============================] - 0s 194us/step - loss: 1.4217 - mae: 0.9230 - val_loss: 1.4929 - val_mae: 0.9974\n",
      "\n",
      "Epoch 00847: val_loss did not improve from 1.46937\n",
      "Epoch 848/1000\n",
      "633/633 [==============================] - 0s 178us/step - loss: 1.3612 - mae: 0.9142 - val_loss: 1.4907 - val_mae: 0.9966\n",
      "\n",
      "Epoch 00848: val_loss did not improve from 1.46937\n",
      "Epoch 849/1000\n",
      "633/633 [==============================] - 0s 178us/step - loss: 1.3277 - mae: 0.9102 - val_loss: 1.4982 - val_mae: 0.9988\n",
      "\n",
      "Epoch 00849: val_loss did not improve from 1.46937\n",
      "Epoch 850/1000\n",
      "633/633 [==============================] - 0s 184us/step - loss: 1.4174 - mae: 0.9394 - val_loss: 1.4859 - val_mae: 0.9952\n",
      "\n",
      "Epoch 00850: val_loss did not improve from 1.46937\n",
      "Epoch 851/1000\n",
      "633/633 [==============================] - 0s 180us/step - loss: 1.3632 - mae: 0.9202 - val_loss: 1.4836 - val_mae: 0.9956\n",
      "\n",
      "Epoch 00851: val_loss did not improve from 1.46937\n",
      "Epoch 852/1000\n",
      "633/633 [==============================] - 0s 178us/step - loss: 1.2877 - mae: 0.9044 - val_loss: 1.4856 - val_mae: 0.9948\n",
      "\n",
      "Epoch 00852: val_loss did not improve from 1.46937\n",
      "Epoch 853/1000\n",
      "633/633 [==============================] - 0s 186us/step - loss: 1.3864 - mae: 0.9403 - val_loss: 1.4840 - val_mae: 0.9946\n",
      "\n",
      "Epoch 00853: val_loss did not improve from 1.46937\n",
      "Epoch 854/1000\n",
      "633/633 [==============================] - 0s 177us/step - loss: 1.3810 - mae: 0.9166 - val_loss: 1.4926 - val_mae: 0.9977\n",
      "\n",
      "Epoch 00854: val_loss did not improve from 1.46937\n",
      "Epoch 855/1000\n",
      "633/633 [==============================] - 0s 185us/step - loss: 1.3488 - mae: 0.9135 - val_loss: 1.4943 - val_mae: 0.9980\n",
      "\n",
      "Epoch 00855: val_loss did not improve from 1.46937\n",
      "Epoch 856/1000\n",
      "633/633 [==============================] - 0s 179us/step - loss: 1.3300 - mae: 0.9167 - val_loss: 1.4950 - val_mae: 0.9986\n",
      "\n",
      "Epoch 00856: val_loss did not improve from 1.46937\n",
      "Epoch 857/1000\n",
      "633/633 [==============================] - 0s 174us/step - loss: 1.4014 - mae: 0.9308 - val_loss: 1.5010 - val_mae: 1.0009\n",
      "\n",
      "Epoch 00857: val_loss did not improve from 1.46937\n",
      "Epoch 858/1000\n",
      "633/633 [==============================] - 0s 182us/step - loss: 1.3505 - mae: 0.9245 - val_loss: 1.5000 - val_mae: 1.0006\n",
      "\n",
      "Epoch 00858: val_loss did not improve from 1.46937\n",
      "Epoch 859/1000\n",
      "633/633 [==============================] - 0s 186us/step - loss: 1.3393 - mae: 0.9150 - val_loss: 1.4994 - val_mae: 1.0008\n",
      "\n",
      "Epoch 00859: val_loss did not improve from 1.46937\n",
      "Epoch 860/1000\n",
      "633/633 [==============================] - 0s 175us/step - loss: 1.3791 - mae: 0.9429 - val_loss: 1.5001 - val_mae: 1.0002\n",
      "\n",
      "Epoch 00860: val_loss did not improve from 1.46937\n",
      "Epoch 861/1000\n",
      "633/633 [==============================] - 0s 180us/step - loss: 1.3635 - mae: 0.9349 - val_loss: 1.5007 - val_mae: 1.0003\n",
      "\n",
      "Epoch 00861: val_loss did not improve from 1.46937\n",
      "Epoch 862/1000\n",
      "633/633 [==============================] - 0s 178us/step - loss: 1.2699 - mae: 0.8903 - val_loss: 1.5063 - val_mae: 1.0023\n",
      "\n",
      "Epoch 00862: val_loss did not improve from 1.46937\n",
      "Epoch 863/1000\n",
      "633/633 [==============================] - 0s 211us/step - loss: 1.3619 - mae: 0.9109 - val_loss: 1.5013 - val_mae: 1.0014\n",
      "\n",
      "Epoch 00863: val_loss did not improve from 1.46937\n",
      "Epoch 864/1000\n",
      "633/633 [==============================] - 0s 197us/step - loss: 1.4097 - mae: 0.9391 - val_loss: 1.5043 - val_mae: 1.0020\n",
      "\n",
      "Epoch 00864: val_loss did not improve from 1.46937\n",
      "Epoch 865/1000\n",
      "633/633 [==============================] - 0s 177us/step - loss: 1.4555 - mae: 0.9405 - val_loss: 1.4980 - val_mae: 1.0001\n",
      "\n",
      "Epoch 00865: val_loss did not improve from 1.46937\n",
      "Epoch 866/1000\n",
      "633/633 [==============================] - 0s 181us/step - loss: 1.3751 - mae: 0.9197 - val_loss: 1.4980 - val_mae: 1.0002\n",
      "\n",
      "Epoch 00866: val_loss did not improve from 1.46937\n",
      "Epoch 867/1000\n",
      "633/633 [==============================] - 0s 177us/step - loss: 1.3302 - mae: 0.9049 - val_loss: 1.5058 - val_mae: 1.0019\n",
      "\n",
      "Epoch 00867: val_loss did not improve from 1.46937\n",
      "Epoch 868/1000\n",
      "633/633 [==============================] - 0s 177us/step - loss: 1.3482 - mae: 0.9280 - val_loss: 1.5109 - val_mae: 1.0041\n",
      "\n",
      "Epoch 00868: val_loss did not improve from 1.46937\n",
      "Epoch 869/1000\n",
      "633/633 [==============================] - 0s 183us/step - loss: 1.4521 - mae: 0.9464 - val_loss: 1.5054 - val_mae: 1.0025\n",
      "\n",
      "Epoch 00869: val_loss did not improve from 1.46937\n",
      "Epoch 870/1000\n",
      "633/633 [==============================] - 0s 176us/step - loss: 1.3903 - mae: 0.9217 - val_loss: 1.5013 - val_mae: 1.0016\n",
      "\n",
      "Epoch 00870: val_loss did not improve from 1.46937\n",
      "Epoch 871/1000\n",
      "633/633 [==============================] - 0s 174us/step - loss: 1.3236 - mae: 0.9154 - val_loss: 1.4968 - val_mae: 1.0008\n",
      "\n",
      "Epoch 00871: val_loss did not improve from 1.46937\n",
      "Epoch 872/1000\n",
      "633/633 [==============================] - 0s 192us/step - loss: 1.3393 - mae: 0.9082 - val_loss: 1.5011 - val_mae: 1.0014\n",
      "\n",
      "Epoch 00872: val_loss did not improve from 1.46937\n",
      "Epoch 873/1000\n",
      "633/633 [==============================] - 0s 184us/step - loss: 1.4011 - mae: 0.9211 - val_loss: 1.4995 - val_mae: 0.9994\n",
      "\n",
      "Epoch 00873: val_loss did not improve from 1.46937\n",
      "Epoch 874/1000\n",
      "633/633 [==============================] - 0s 182us/step - loss: 1.3693 - mae: 0.9205 - val_loss: 1.4933 - val_mae: 0.9982\n",
      "\n",
      "Epoch 00874: val_loss did not improve from 1.46937\n",
      "Epoch 875/1000\n",
      "633/633 [==============================] - 0s 177us/step - loss: 1.3517 - mae: 0.9069 - val_loss: 1.4940 - val_mae: 0.9990\n",
      "\n",
      "Epoch 00875: val_loss did not improve from 1.46937\n",
      "Epoch 876/1000\n",
      "633/633 [==============================] - 0s 175us/step - loss: 1.3244 - mae: 0.9006 - val_loss: 1.4948 - val_mae: 0.9997\n",
      "\n",
      "Epoch 00876: val_loss did not improve from 1.46937\n",
      "Epoch 877/1000\n",
      "633/633 [==============================] - 0s 180us/step - loss: 1.3755 - mae: 0.9109 - val_loss: 1.4961 - val_mae: 0.9999\n",
      "\n",
      "Epoch 00877: val_loss did not improve from 1.46937\n",
      "Epoch 878/1000\n",
      "633/633 [==============================] - 0s 174us/step - loss: 1.3814 - mae: 0.9316 - val_loss: 1.4945 - val_mae: 0.9998\n",
      "\n",
      "Epoch 00878: val_loss did not improve from 1.46937\n",
      "Epoch 879/1000\n",
      "633/633 [==============================] - 0s 176us/step - loss: 1.3787 - mae: 0.9169 - val_loss: 1.5029 - val_mae: 1.0039\n",
      "\n",
      "Epoch 00879: val_loss did not improve from 1.46937\n",
      "Epoch 880/1000\n",
      "633/633 [==============================] - 0s 184us/step - loss: 1.3361 - mae: 0.9118 - val_loss: 1.5062 - val_mae: 1.0047\n",
      "\n",
      "Epoch 00880: val_loss did not improve from 1.46937\n",
      "Epoch 881/1000\n",
      "633/633 [==============================] - 0s 175us/step - loss: 1.3445 - mae: 0.9318 - val_loss: 1.5034 - val_mae: 1.0029\n",
      "\n",
      "Epoch 00881: val_loss did not improve from 1.46937\n",
      "Epoch 882/1000\n",
      "633/633 [==============================] - 0s 187us/step - loss: 1.4360 - mae: 0.9456 - val_loss: 1.5004 - val_mae: 1.0015\n",
      "\n",
      "Epoch 00882: val_loss did not improve from 1.46937\n",
      "Epoch 883/1000\n",
      "633/633 [==============================] - 0s 181us/step - loss: 1.3759 - mae: 0.9150 - val_loss: 1.5025 - val_mae: 1.0004\n",
      "\n",
      "Epoch 00883: val_loss did not improve from 1.46937\n",
      "Epoch 884/1000\n",
      "633/633 [==============================] - 0s 174us/step - loss: 1.3519 - mae: 0.9164 - val_loss: 1.5050 - val_mae: 1.0011\n",
      "\n",
      "Epoch 00884: val_loss did not improve from 1.46937\n",
      "Epoch 885/1000\n",
      "633/633 [==============================] - 0s 174us/step - loss: 1.4041 - mae: 0.9190 - val_loss: 1.5043 - val_mae: 1.0014\n",
      "\n",
      "Epoch 00885: val_loss did not improve from 1.46937\n",
      "Epoch 886/1000\n",
      "633/633 [==============================] - 0s 183us/step - loss: 1.3358 - mae: 0.9088 - val_loss: 1.5024 - val_mae: 1.0003\n",
      "\n",
      "Epoch 00886: val_loss did not improve from 1.46937\n",
      "Epoch 887/1000\n",
      "633/633 [==============================] - 0s 174us/step - loss: 1.3905 - mae: 0.9313 - val_loss: 1.5087 - val_mae: 1.0033\n",
      "\n",
      "Epoch 00887: val_loss did not improve from 1.46937\n",
      "Epoch 888/1000\n",
      "633/633 [==============================] - 0s 177us/step - loss: 1.3160 - mae: 0.9027 - val_loss: 1.5101 - val_mae: 1.0030\n",
      "\n",
      "Epoch 00888: val_loss did not improve from 1.46937\n",
      "Epoch 889/1000\n",
      "633/633 [==============================] - 0s 175us/step - loss: 1.3884 - mae: 0.9266 - val_loss: 1.5082 - val_mae: 1.0022\n",
      "\n",
      "Epoch 00889: val_loss did not improve from 1.46937\n",
      "Epoch 890/1000\n",
      "633/633 [==============================] - 0s 213us/step - loss: 1.2869 - mae: 0.8937 - val_loss: 1.5092 - val_mae: 1.0033\n",
      "\n",
      "Epoch 00890: val_loss did not improve from 1.46937\n",
      "Epoch 891/1000\n",
      "633/633 [==============================] - 0s 174us/step - loss: 1.4630 - mae: 0.9620 - val_loss: 1.5039 - val_mae: 1.0015\n",
      "\n",
      "Epoch 00891: val_loss did not improve from 1.46937\n",
      "Epoch 892/1000\n",
      "633/633 [==============================] - 0s 178us/step - loss: 1.2612 - mae: 0.8822 - val_loss: 1.5080 - val_mae: 1.0036\n",
      "\n",
      "Epoch 00892: val_loss did not improve from 1.46937\n",
      "Epoch 893/1000\n",
      "633/633 [==============================] - 0s 174us/step - loss: 1.3424 - mae: 0.9245 - val_loss: 1.5078 - val_mae: 1.0042\n",
      "\n",
      "Epoch 00893: val_loss did not improve from 1.46937\n",
      "Epoch 894/1000\n",
      "633/633 [==============================] - 0s 175us/step - loss: 1.3556 - mae: 0.9191 - val_loss: 1.5101 - val_mae: 1.0048\n",
      "\n",
      "Epoch 00894: val_loss did not improve from 1.46937\n",
      "Epoch 895/1000\n",
      "633/633 [==============================] - 0s 176us/step - loss: 1.3573 - mae: 0.8955 - val_loss: 1.5071 - val_mae: 1.0033\n",
      "\n",
      "Epoch 00895: val_loss did not improve from 1.46937\n",
      "Epoch 896/1000\n",
      "633/633 [==============================] - 0s 176us/step - loss: 1.3789 - mae: 0.9383 - val_loss: 1.5042 - val_mae: 1.0011\n",
      "\n",
      "Epoch 00896: val_loss did not improve from 1.46937\n",
      "Epoch 897/1000\n",
      "633/633 [==============================] - 0s 179us/step - loss: 1.3351 - mae: 0.9095 - val_loss: 1.5014 - val_mae: 1.0005\n",
      "\n",
      "Epoch 00897: val_loss did not improve from 1.46937\n",
      "Epoch 898/1000\n",
      "633/633 [==============================] - 0s 176us/step - loss: 1.4728 - mae: 0.9568 - val_loss: 1.5016 - val_mae: 1.0004\n",
      "\n",
      "Epoch 00898: val_loss did not improve from 1.46937\n",
      "Epoch 899/1000\n",
      "633/633 [==============================] - 0s 190us/step - loss: 1.4490 - mae: 0.9438 - val_loss: 1.4948 - val_mae: 0.9988\n",
      "\n",
      "Epoch 00899: val_loss did not improve from 1.46937\n",
      "Epoch 900/1000\n",
      "633/633 [==============================] - 0s 175us/step - loss: 1.3274 - mae: 0.9141 - val_loss: 1.4983 - val_mae: 1.0001\n",
      "\n",
      "Epoch 00900: val_loss did not improve from 1.46937\n",
      "Epoch 901/1000\n",
      "633/633 [==============================] - 0s 173us/step - loss: 1.3991 - mae: 0.9328 - val_loss: 1.5003 - val_mae: 1.0008\n",
      "\n",
      "Epoch 00901: val_loss did not improve from 1.46937\n",
      "Epoch 902/1000\n",
      "633/633 [==============================] - 0s 185us/step - loss: 1.2896 - mae: 0.8861 - val_loss: 1.5054 - val_mae: 1.0025\n",
      "\n",
      "Epoch 00902: val_loss did not improve from 1.46937\n",
      "Epoch 903/1000\n",
      "633/633 [==============================] - 0s 178us/step - loss: 1.3146 - mae: 0.9010 - val_loss: 1.5092 - val_mae: 1.0032\n",
      "\n",
      "Epoch 00903: val_loss did not improve from 1.46937\n",
      "Epoch 904/1000\n",
      "633/633 [==============================] - 0s 181us/step - loss: 1.4403 - mae: 0.9341 - val_loss: 1.5114 - val_mae: 1.0038\n",
      "\n",
      "Epoch 00904: val_loss did not improve from 1.46937\n",
      "Epoch 905/1000\n",
      "633/633 [==============================] - 0s 187us/step - loss: 1.2742 - mae: 0.8984 - val_loss: 1.5198 - val_mae: 1.0070\n",
      "\n",
      "Epoch 00905: val_loss did not improve from 1.46937\n",
      "Epoch 906/1000\n",
      "633/633 [==============================] - 0s 202us/step - loss: 1.3578 - mae: 0.9119 - val_loss: 1.5184 - val_mae: 1.0074\n",
      "\n",
      "Epoch 00906: val_loss did not improve from 1.46937\n",
      "Epoch 907/1000\n",
      "633/633 [==============================] - 0s 184us/step - loss: 1.3178 - mae: 0.8997 - val_loss: 1.5187 - val_mae: 1.0075\n",
      "\n",
      "Epoch 00907: val_loss did not improve from 1.46937\n",
      "Epoch 908/1000\n",
      "633/633 [==============================] - 0s 203us/step - loss: 1.3260 - mae: 0.9118 - val_loss: 1.5125 - val_mae: 1.0052\n",
      "\n",
      "Epoch 00908: val_loss did not improve from 1.46937\n",
      "Epoch 909/1000\n",
      "633/633 [==============================] - 0s 169us/step - loss: 1.2782 - mae: 0.8899 - val_loss: 1.5127 - val_mae: 1.0053\n",
      "\n",
      "Epoch 00909: val_loss did not improve from 1.46937\n",
      "Epoch 910/1000\n",
      "633/633 [==============================] - 0s 176us/step - loss: 1.3505 - mae: 0.9070 - val_loss: 1.5126 - val_mae: 1.0048\n",
      "\n",
      "Epoch 00910: val_loss did not improve from 1.46937\n",
      "Epoch 911/1000\n",
      "633/633 [==============================] - 0s 179us/step - loss: 1.3758 - mae: 0.9290 - val_loss: 1.5143 - val_mae: 1.0056\n",
      "\n",
      "Epoch 00911: val_loss did not improve from 1.46937\n",
      "Epoch 912/1000\n",
      "633/633 [==============================] - 0s 176us/step - loss: 1.2931 - mae: 0.8966 - val_loss: 1.5258 - val_mae: 1.0091\n",
      "\n",
      "Epoch 00912: val_loss did not improve from 1.46937\n",
      "Epoch 913/1000\n",
      "633/633 [==============================] - 0s 185us/step - loss: 1.3850 - mae: 0.9156 - val_loss: 1.5192 - val_mae: 1.0081\n",
      "\n",
      "Epoch 00913: val_loss did not improve from 1.46937\n",
      "Epoch 914/1000\n",
      "633/633 [==============================] - 0s 179us/step - loss: 1.3240 - mae: 0.9035 - val_loss: 1.5250 - val_mae: 1.0099\n",
      "\n",
      "Epoch 00914: val_loss did not improve from 1.46937\n",
      "Epoch 915/1000\n",
      "633/633 [==============================] - 0s 177us/step - loss: 1.4008 - mae: 0.9343 - val_loss: 1.5296 - val_mae: 1.0117\n",
      "\n",
      "Epoch 00915: val_loss did not improve from 1.46937\n",
      "Epoch 916/1000\n",
      "633/633 [==============================] - 0s 177us/step - loss: 1.2975 - mae: 0.8769 - val_loss: 1.5233 - val_mae: 1.0101\n",
      "\n",
      "Epoch 00916: val_loss did not improve from 1.46937\n",
      "Epoch 917/1000\n",
      "633/633 [==============================] - 0s 190us/step - loss: 1.3729 - mae: 0.9252 - val_loss: 1.5210 - val_mae: 1.0095\n",
      "\n",
      "Epoch 00917: val_loss did not improve from 1.46937\n",
      "Epoch 918/1000\n",
      "633/633 [==============================] - 0s 177us/step - loss: 1.3479 - mae: 0.9131 - val_loss: 1.5196 - val_mae: 1.0089\n",
      "\n",
      "Epoch 00918: val_loss did not improve from 1.46937\n",
      "Epoch 919/1000\n",
      "633/633 [==============================] - 0s 175us/step - loss: 1.4130 - mae: 0.9333 - val_loss: 1.5119 - val_mae: 1.0059\n",
      "\n",
      "Epoch 00919: val_loss did not improve from 1.46937\n",
      "Epoch 920/1000\n",
      "633/633 [==============================] - 0s 181us/step - loss: 1.3054 - mae: 0.8984 - val_loss: 1.5101 - val_mae: 1.0064\n",
      "\n",
      "Epoch 00920: val_loss did not improve from 1.46937\n",
      "Epoch 921/1000\n",
      "633/633 [==============================] - 0s 181us/step - loss: 1.3294 - mae: 0.9230 - val_loss: 1.5078 - val_mae: 1.0057\n",
      "\n",
      "Epoch 00921: val_loss did not improve from 1.46937\n",
      "Epoch 922/1000\n",
      "633/633 [==============================] - 0s 174us/step - loss: 1.3671 - mae: 0.9188 - val_loss: 1.5114 - val_mae: 1.0073\n",
      "\n",
      "Epoch 00922: val_loss did not improve from 1.46937\n",
      "Epoch 923/1000\n",
      "633/633 [==============================] - 0s 174us/step - loss: 1.3995 - mae: 0.9352 - val_loss: 1.5061 - val_mae: 1.0063\n",
      "\n",
      "Epoch 00923: val_loss did not improve from 1.46937\n",
      "Epoch 924/1000\n",
      "633/633 [==============================] - 0s 188us/step - loss: 1.2402 - mae: 0.8814 - val_loss: 1.5059 - val_mae: 1.0073\n",
      "\n",
      "Epoch 00924: val_loss did not improve from 1.46937\n",
      "Epoch 925/1000\n",
      "633/633 [==============================] - 0s 194us/step - loss: 1.3102 - mae: 0.9162 - val_loss: 1.5163 - val_mae: 1.0101\n",
      "\n",
      "Epoch 00925: val_loss did not improve from 1.46937\n",
      "Epoch 926/1000\n",
      "633/633 [==============================] - 0s 181us/step - loss: 1.3998 - mae: 0.9227 - val_loss: 1.5127 - val_mae: 1.0087\n",
      "\n",
      "Epoch 00926: val_loss did not improve from 1.46937\n",
      "Epoch 927/1000\n",
      "633/633 [==============================] - 0s 176us/step - loss: 1.3417 - mae: 0.9014 - val_loss: 1.5168 - val_mae: 1.0099\n",
      "\n",
      "Epoch 00927: val_loss did not improve from 1.46937\n",
      "Epoch 928/1000\n",
      "633/633 [==============================] - 0s 172us/step - loss: 1.3621 - mae: 0.9159 - val_loss: 1.5155 - val_mae: 1.0088\n",
      "\n",
      "Epoch 00928: val_loss did not improve from 1.46937\n",
      "Epoch 929/1000\n",
      "633/633 [==============================] - 0s 173us/step - loss: 1.4305 - mae: 0.9346 - val_loss: 1.5117 - val_mae: 1.0069\n",
      "\n",
      "Epoch 00929: val_loss did not improve from 1.46937\n",
      "Epoch 930/1000\n",
      "633/633 [==============================] - 0s 172us/step - loss: 1.3829 - mae: 0.9255 - val_loss: 1.5045 - val_mae: 1.0047\n",
      "\n",
      "Epoch 00930: val_loss did not improve from 1.46937\n",
      "Epoch 931/1000\n",
      "633/633 [==============================] - 0s 173us/step - loss: 1.3141 - mae: 0.9179 - val_loss: 1.5068 - val_mae: 1.0065\n",
      "\n",
      "Epoch 00931: val_loss did not improve from 1.46937\n",
      "Epoch 932/1000\n",
      "633/633 [==============================] - 0s 175us/step - loss: 1.4503 - mae: 0.9401 - val_loss: 1.4997 - val_mae: 1.0047\n",
      "\n",
      "Epoch 00932: val_loss did not improve from 1.46937\n",
      "Epoch 933/1000\n",
      "633/633 [==============================] - 0s 174us/step - loss: 1.3876 - mae: 0.9226 - val_loss: 1.4961 - val_mae: 1.0036\n",
      "\n",
      "Epoch 00933: val_loss did not improve from 1.46937\n",
      "Epoch 934/1000\n",
      "633/633 [==============================] - 0s 186us/step - loss: 1.3270 - mae: 0.8930 - val_loss: 1.4923 - val_mae: 1.0007\n",
      "\n",
      "Epoch 00934: val_loss did not improve from 1.46937\n",
      "Epoch 935/1000\n",
      "633/633 [==============================] - 0s 173us/step - loss: 1.4134 - mae: 0.9272 - val_loss: 1.4947 - val_mae: 1.0008\n",
      "\n",
      "Epoch 00935: val_loss did not improve from 1.46937\n",
      "Epoch 936/1000\n",
      "633/633 [==============================] - 0s 176us/step - loss: 1.3111 - mae: 0.8936 - val_loss: 1.4984 - val_mae: 1.0015\n",
      "\n",
      "Epoch 00936: val_loss did not improve from 1.46937\n",
      "Epoch 937/1000\n",
      "633/633 [==============================] - 0s 180us/step - loss: 1.3649 - mae: 0.9267 - val_loss: 1.4997 - val_mae: 1.0015\n",
      "\n",
      "Epoch 00937: val_loss did not improve from 1.46937\n",
      "Epoch 938/1000\n",
      "633/633 [==============================] - 0s 178us/step - loss: 1.3643 - mae: 0.9176 - val_loss: 1.5016 - val_mae: 1.0019\n",
      "\n",
      "Epoch 00938: val_loss did not improve from 1.46937\n",
      "Epoch 939/1000\n",
      "633/633 [==============================] - 0s 173us/step - loss: 1.3473 - mae: 0.9247 - val_loss: 1.5001 - val_mae: 1.0011\n",
      "\n",
      "Epoch 00939: val_loss did not improve from 1.46937\n",
      "Epoch 940/1000\n",
      "633/633 [==============================] - 0s 175us/step - loss: 1.3806 - mae: 0.9237 - val_loss: 1.5023 - val_mae: 1.0006\n",
      "\n",
      "Epoch 00940: val_loss did not improve from 1.46937\n",
      "Epoch 941/1000\n",
      "633/633 [==============================] - 0s 176us/step - loss: 1.3289 - mae: 0.9160 - val_loss: 1.5035 - val_mae: 1.0025\n",
      "\n",
      "Epoch 00941: val_loss did not improve from 1.46937\n",
      "Epoch 942/1000\n",
      "633/633 [==============================] - 0s 174us/step - loss: 1.4065 - mae: 0.9272 - val_loss: 1.5040 - val_mae: 1.0026\n",
      "\n",
      "Epoch 00942: val_loss did not improve from 1.46937\n",
      "Epoch 943/1000\n",
      "633/633 [==============================] - 0s 204us/step - loss: 1.3677 - mae: 0.9238 - val_loss: 1.5063 - val_mae: 1.0041\n",
      "\n",
      "Epoch 00943: val_loss did not improve from 1.46937\n",
      "Epoch 944/1000\n",
      "633/633 [==============================] - 0s 175us/step - loss: 1.3484 - mae: 0.9312 - val_loss: 1.5030 - val_mae: 1.0018\n",
      "\n",
      "Epoch 00944: val_loss did not improve from 1.46937\n",
      "Epoch 945/1000\n",
      "633/633 [==============================] - 0s 176us/step - loss: 1.3160 - mae: 0.9079 - val_loss: 1.5066 - val_mae: 1.0025\n",
      "\n",
      "Epoch 00945: val_loss did not improve from 1.46937\n",
      "Epoch 946/1000\n",
      "633/633 [==============================] - 0s 183us/step - loss: 1.4002 - mae: 0.9349 - val_loss: 1.5114 - val_mae: 1.0041\n",
      "\n",
      "Epoch 00946: val_loss did not improve from 1.46937\n",
      "Epoch 947/1000\n",
      "633/633 [==============================] - 0s 177us/step - loss: 1.2787 - mae: 0.9039 - val_loss: 1.5072 - val_mae: 1.0026\n",
      "\n",
      "Epoch 00947: val_loss did not improve from 1.46937\n",
      "Epoch 948/1000\n",
      "633/633 [==============================] - 0s 174us/step - loss: 1.3950 - mae: 0.9310 - val_loss: 1.5040 - val_mae: 1.0013\n",
      "\n",
      "Epoch 00948: val_loss did not improve from 1.46937\n",
      "Epoch 949/1000\n",
      "633/633 [==============================] - 0s 189us/step - loss: 1.3261 - mae: 0.9101 - val_loss: 1.5026 - val_mae: 1.0010\n",
      "\n",
      "Epoch 00949: val_loss did not improve from 1.46937\n",
      "Epoch 950/1000\n",
      "633/633 [==============================] - 0s 173us/step - loss: 1.3559 - mae: 0.9089 - val_loss: 1.5072 - val_mae: 1.0031\n",
      "\n",
      "Epoch 00950: val_loss did not improve from 1.46937\n",
      "Epoch 951/1000\n",
      "633/633 [==============================] - 0s 174us/step - loss: 1.2942 - mae: 0.9097 - val_loss: 1.5077 - val_mae: 1.0028\n",
      "\n",
      "Epoch 00951: val_loss did not improve from 1.46937\n",
      "Epoch 952/1000\n",
      "633/633 [==============================] - 0s 196us/step - loss: 1.3205 - mae: 0.9023 - val_loss: 1.5015 - val_mae: 1.0012\n",
      "\n",
      "Epoch 00952: val_loss did not improve from 1.46937\n",
      "Epoch 953/1000\n",
      "633/633 [==============================] - 0s 202us/step - loss: 1.3145 - mae: 0.8987 - val_loss: 1.5035 - val_mae: 1.0027\n",
      "\n",
      "Epoch 00953: val_loss did not improve from 1.46937\n",
      "Epoch 954/1000\n",
      "633/633 [==============================] - 0s 184us/step - loss: 1.2934 - mae: 0.8991 - val_loss: 1.5131 - val_mae: 1.0059\n",
      "\n",
      "Epoch 00954: val_loss did not improve from 1.46937\n",
      "Epoch 955/1000\n",
      "633/633 [==============================] - 0s 178us/step - loss: 1.3571 - mae: 0.9000 - val_loss: 1.5104 - val_mae: 1.0055\n",
      "\n",
      "Epoch 00955: val_loss did not improve from 1.46937\n",
      "Epoch 956/1000\n",
      "633/633 [==============================] - 0s 184us/step - loss: 1.3989 - mae: 0.9239 - val_loss: 1.5083 - val_mae: 1.0036\n",
      "\n",
      "Epoch 00956: val_loss did not improve from 1.46937\n",
      "Epoch 957/1000\n",
      "633/633 [==============================] - 0s 178us/step - loss: 1.3288 - mae: 0.9167 - val_loss: 1.5173 - val_mae: 1.0054\n",
      "\n",
      "Epoch 00957: val_loss did not improve from 1.46937\n",
      "Epoch 958/1000\n",
      "633/633 [==============================] - 0s 176us/step - loss: 1.2776 - mae: 0.8917 - val_loss: 1.5181 - val_mae: 1.0057\n",
      "\n",
      "Epoch 00958: val_loss did not improve from 1.46937\n",
      "Epoch 959/1000\n",
      "633/633 [==============================] - 0s 185us/step - loss: 1.3848 - mae: 0.9045 - val_loss: 1.5163 - val_mae: 1.0054\n",
      "\n",
      "Epoch 00959: val_loss did not improve from 1.46937\n",
      "Epoch 960/1000\n",
      "633/633 [==============================] - 0s 180us/step - loss: 1.3054 - mae: 0.9122 - val_loss: 1.5170 - val_mae: 1.0063\n",
      "\n",
      "Epoch 00960: val_loss did not improve from 1.46937\n",
      "Epoch 961/1000\n",
      "633/633 [==============================] - 0s 190us/step - loss: 1.3705 - mae: 0.9136 - val_loss: 1.5154 - val_mae: 1.0055\n",
      "\n",
      "Epoch 00961: val_loss did not improve from 1.46937\n",
      "Epoch 962/1000\n",
      "633/633 [==============================] - 0s 180us/step - loss: 1.3238 - mae: 0.9022 - val_loss: 1.5087 - val_mae: 1.0023\n",
      "\n",
      "Epoch 00962: val_loss did not improve from 1.46937\n",
      "Epoch 963/1000\n",
      "633/633 [==============================] - 0s 178us/step - loss: 1.3383 - mae: 0.9248 - val_loss: 1.5071 - val_mae: 1.0017\n",
      "\n",
      "Epoch 00963: val_loss did not improve from 1.46937\n",
      "Epoch 964/1000\n",
      "633/633 [==============================] - 0s 201us/step - loss: 1.3407 - mae: 0.9096 - val_loss: 1.5061 - val_mae: 1.0023\n",
      "\n",
      "Epoch 00964: val_loss did not improve from 1.46937\n",
      "Epoch 965/1000\n",
      "633/633 [==============================] - 0s 172us/step - loss: 1.3975 - mae: 0.9335 - val_loss: 1.5123 - val_mae: 1.0063\n",
      "\n",
      "Epoch 00965: val_loss did not improve from 1.46937\n",
      "Epoch 966/1000\n",
      "633/633 [==============================] - 0s 172us/step - loss: 1.3886 - mae: 0.9306 - val_loss: 1.5088 - val_mae: 1.0043\n",
      "\n",
      "Epoch 00966: val_loss did not improve from 1.46937\n",
      "Epoch 967/1000\n",
      "633/633 [==============================] - 0s 175us/step - loss: 1.3830 - mae: 0.9213 - val_loss: 1.5103 - val_mae: 1.0054\n",
      "\n",
      "Epoch 00967: val_loss did not improve from 1.46937\n",
      "Epoch 968/1000\n",
      "633/633 [==============================] - 0s 172us/step - loss: 1.3404 - mae: 0.9149 - val_loss: 1.5145 - val_mae: 1.0074\n",
      "\n",
      "Epoch 00968: val_loss did not improve from 1.46937\n",
      "Epoch 969/1000\n",
      "633/633 [==============================] - 0s 192us/step - loss: 1.4285 - mae: 0.9381 - val_loss: 1.5100 - val_mae: 1.0061\n",
      "\n",
      "Epoch 00969: val_loss did not improve from 1.46937\n",
      "Epoch 970/1000\n",
      "633/633 [==============================] - 0s 176us/step - loss: 1.3096 - mae: 0.8830 - val_loss: 1.5125 - val_mae: 1.0072\n",
      "\n",
      "Epoch 00970: val_loss did not improve from 1.46937\n",
      "Epoch 971/1000\n",
      "633/633 [==============================] - 0s 173us/step - loss: 1.3507 - mae: 0.9061 - val_loss: 1.5092 - val_mae: 1.0061\n",
      "\n",
      "Epoch 00971: val_loss did not improve from 1.46937\n",
      "Epoch 972/1000\n",
      "633/633 [==============================] - 0s 179us/step - loss: 1.3635 - mae: 0.9204 - val_loss: 1.5055 - val_mae: 1.0051\n",
      "\n",
      "Epoch 00972: val_loss did not improve from 1.46937\n",
      "Epoch 973/1000\n",
      "633/633 [==============================] - 0s 171us/step - loss: 1.2722 - mae: 0.8872 - val_loss: 1.5053 - val_mae: 1.0051\n",
      "\n",
      "Epoch 00973: val_loss did not improve from 1.46937\n",
      "Epoch 974/1000\n",
      "633/633 [==============================] - 0s 170us/step - loss: 1.3713 - mae: 0.9175 - val_loss: 1.5017 - val_mae: 1.0042\n",
      "\n",
      "Epoch 00974: val_loss did not improve from 1.46937\n",
      "Epoch 975/1000\n",
      "633/633 [==============================] - 0s 177us/step - loss: 1.3784 - mae: 0.9363 - val_loss: 1.5033 - val_mae: 1.0044\n",
      "\n",
      "Epoch 00975: val_loss did not improve from 1.46937\n",
      "Epoch 976/1000\n",
      "633/633 [==============================] - 0s 173us/step - loss: 1.2706 - mae: 0.8784 - val_loss: 1.5155 - val_mae: 1.0073\n",
      "\n",
      "Epoch 00976: val_loss did not improve from 1.46937\n",
      "Epoch 977/1000\n",
      "633/633 [==============================] - 0s 170us/step - loss: 1.3356 - mae: 0.9087 - val_loss: 1.5176 - val_mae: 1.0079\n",
      "\n",
      "Epoch 00977: val_loss did not improve from 1.46937\n",
      "Epoch 978/1000\n",
      "633/633 [==============================] - 0s 201us/step - loss: 1.2894 - mae: 0.8992 - val_loss: 1.5232 - val_mae: 1.0103\n",
      "\n",
      "Epoch 00978: val_loss did not improve from 1.46937\n",
      "Epoch 979/1000\n",
      "633/633 [==============================] - 0s 178us/step - loss: 1.3049 - mae: 0.8911 - val_loss: 1.5204 - val_mae: 1.0083\n",
      "\n",
      "Epoch 00979: val_loss did not improve from 1.46937\n",
      "Epoch 980/1000\n",
      "633/633 [==============================] - 0s 176us/step - loss: 1.3157 - mae: 0.9098 - val_loss: 1.5219 - val_mae: 1.0085\n",
      "\n",
      "Epoch 00980: val_loss did not improve from 1.46937\n",
      "Epoch 981/1000\n",
      "633/633 [==============================] - 0s 195us/step - loss: 1.2779 - mae: 0.8833 - val_loss: 1.5262 - val_mae: 1.0105\n",
      "\n",
      "Epoch 00981: val_loss did not improve from 1.46937\n",
      "Epoch 982/1000\n",
      "633/633 [==============================] - 0s 176us/step - loss: 1.3387 - mae: 0.9121 - val_loss: 1.5255 - val_mae: 1.0104\n",
      "\n",
      "Epoch 00982: val_loss did not improve from 1.46937\n",
      "Epoch 983/1000\n",
      "633/633 [==============================] - 0s 177us/step - loss: 1.2860 - mae: 0.8903 - val_loss: 1.5188 - val_mae: 1.0083\n",
      "\n",
      "Epoch 00983: val_loss did not improve from 1.46937\n",
      "Epoch 984/1000\n",
      "633/633 [==============================] - 0s 180us/step - loss: 1.3090 - mae: 0.9145 - val_loss: 1.5166 - val_mae: 1.0084\n",
      "\n",
      "Epoch 00984: val_loss did not improve from 1.46937\n",
      "Epoch 985/1000\n",
      "633/633 [==============================] - 0s 172us/step - loss: 1.2744 - mae: 0.8868 - val_loss: 1.5193 - val_mae: 1.0087\n",
      "\n",
      "Epoch 00985: val_loss did not improve from 1.46937\n",
      "Epoch 986/1000\n",
      "633/633 [==============================] - 0s 174us/step - loss: 1.2585 - mae: 0.8761 - val_loss: 1.5200 - val_mae: 1.0092\n",
      "\n",
      "Epoch 00986: val_loss did not improve from 1.46937\n",
      "Epoch 987/1000\n",
      "633/633 [==============================] - 0s 205us/step - loss: 1.3517 - mae: 0.9261 - val_loss: 1.5169 - val_mae: 1.0084\n",
      "\n",
      "Epoch 00987: val_loss did not improve from 1.46937\n",
      "Epoch 988/1000\n",
      "633/633 [==============================] - 0s 179us/step - loss: 1.3174 - mae: 0.9046 - val_loss: 1.5225 - val_mae: 1.0097\n",
      "\n",
      "Epoch 00988: val_loss did not improve from 1.46937\n",
      "Epoch 989/1000\n",
      "633/633 [==============================] - 0s 183us/step - loss: 1.3553 - mae: 0.9107 - val_loss: 1.5191 - val_mae: 1.0089\n",
      "\n",
      "Epoch 00989: val_loss did not improve from 1.46937\n",
      "Epoch 990/1000\n",
      "633/633 [==============================] - 0s 179us/step - loss: 1.3565 - mae: 0.9184 - val_loss: 1.5169 - val_mae: 1.0098\n",
      "\n",
      "Epoch 00990: val_loss did not improve from 1.46937\n",
      "Epoch 991/1000\n",
      "633/633 [==============================] - 0s 177us/step - loss: 1.3608 - mae: 0.9139 - val_loss: 1.5185 - val_mae: 1.0106\n",
      "\n",
      "Epoch 00991: val_loss did not improve from 1.46937\n",
      "Epoch 992/1000\n",
      "633/633 [==============================] - 0s 182us/step - loss: 1.3263 - mae: 0.9057 - val_loss: 1.5210 - val_mae: 1.0105\n",
      "\n",
      "Epoch 00992: val_loss did not improve from 1.46937\n",
      "Epoch 993/1000\n",
      "633/633 [==============================] - 0s 177us/step - loss: 1.3275 - mae: 0.9062 - val_loss: 1.5185 - val_mae: 1.0102\n",
      "\n",
      "Epoch 00993: val_loss did not improve from 1.46937\n",
      "Epoch 994/1000\n",
      "633/633 [==============================] - 0s 177us/step - loss: 1.3021 - mae: 0.8937 - val_loss: 1.5167 - val_mae: 1.0092\n",
      "\n",
      "Epoch 00994: val_loss did not improve from 1.46937\n",
      "Epoch 995/1000\n",
      "633/633 [==============================] - 0s 180us/step - loss: 1.3126 - mae: 0.9097 - val_loss: 1.5220 - val_mae: 1.0127\n",
      "\n",
      "Epoch 00995: val_loss did not improve from 1.46937\n",
      "Epoch 996/1000\n",
      "633/633 [==============================] - 0s 188us/step - loss: 1.3493 - mae: 0.9077 - val_loss: 1.5182 - val_mae: 1.0115\n",
      "\n",
      "Epoch 00996: val_loss did not improve from 1.46937\n",
      "Epoch 997/1000\n",
      "633/633 [==============================] - 0s 182us/step - loss: 1.3489 - mae: 0.9031 - val_loss: 1.5189 - val_mae: 1.0119\n",
      "\n",
      "Epoch 00997: val_loss did not improve from 1.46937\n",
      "Epoch 998/1000\n",
      "633/633 [==============================] - 0s 178us/step - loss: 1.2545 - mae: 0.8904 - val_loss: 1.5153 - val_mae: 1.0100\n",
      "\n",
      "Epoch 00998: val_loss did not improve from 1.46937\n",
      "Epoch 999/1000\n",
      "633/633 [==============================] - 0s 172us/step - loss: 1.3087 - mae: 0.9032 - val_loss: 1.5184 - val_mae: 1.0114\n",
      "\n",
      "Epoch 00999: val_loss did not improve from 1.46937\n",
      "Epoch 1000/1000\n",
      "633/633 [==============================] - 0s 187us/step - loss: 1.2806 - mae: 0.8992 - val_loss: 1.5264 - val_mae: 1.0134\n",
      "\n",
      "Epoch 01000: val_loss did not improve from 1.46937\n"
     ]
    }
   ],
   "source": [
    "history = keras_model.fit(scaled_X_Kmeans, np.array(y_train), epochs=1000, \n",
    "                          validation_split=0.2, batch_size=32, callbacks=callback)"
   ]
  },
  {
   "cell_type": "code",
   "execution_count": 0,
   "metadata": {
    "colab": {},
    "colab_type": "code",
    "id": "6s1edADUgAf2"
   },
   "outputs": [],
   "source": []
  },
  {
   "cell_type": "markdown",
   "metadata": {
    "colab_type": "text",
    "id": "O4sLcY4SdgEY"
   },
   "source": [
    "## Visualize"
   ]
  },
  {
   "cell_type": "code",
   "execution_count": 336,
   "metadata": {
    "colab": {
     "base_uri": "https://localhost:8080/",
     "height": 573
    },
    "colab_type": "code",
    "id": "Hqk-TZVtuXXg",
    "outputId": "cca5679a-40d1-4e57-dc31-8bc6c19edc46"
   },
   "outputs": [
    {
     "data": {
      "image/png": "[encoded data removed]",
      "text/plain": [
       "<Figure size 432x288 with 1 Axes>"
      ]
     },
     "metadata": {
      "needs_background": "light",
      "tags": []
     },
     "output_type": "display_data"
    },
    {
     "data": {
      "image/png": "[encoded data removed]",
      "text/plain": [
       "<Figure size 432x288 with 1 Axes>"
      ]
     },
     "metadata": {
      "needs_background": "light",
      "tags": []
     },
     "output_type": "display_data"
    }
   ],
   "source": [
    "## Visualize model loss\n",
    "\n",
    "# Plot training & validation accuracy values\n",
    "plt.plot(history.history['mae'])\n",
    "plt.plot(history.history['val_mae'])\n",
    "plt.title('Model accuracy')\n",
    "plt.ylabel('MAE')\n",
    "plt.xlabel('Epoch')\n",
    "plt.legend(['Train', 'Val'], loc='upper left')\n",
    "plt.show()\n",
    "\n",
    "# Plot training & validation loss values\n",
    "plt.plot(history.history['loss'])\n",
    "plt.plot(history.history['val_loss'])\n",
    "plt.title('Model loss')\n",
    "plt.ylabel('Loss')\n",
    "plt.xlabel('Epoch')\n",
    "plt.legend(['Train', 'Val'], loc='upper left')\n",
    "plt.show()"
   ]
  },
  {
   "cell_type": "code",
   "execution_count": 0,
   "metadata": {
    "colab": {},
    "colab_type": "code",
    "id": "n3DEnRaYg4Jh"
   },
   "outputs": [],
   "source": [
    "scaled_X_test = scaler.transform(X_test)\n",
    "scaled_X_Kmeans_test = np.column_stack((scaled_X_test, km.predict(scaled_X_test).reshape(-1, 1)))"
   ]
  },
  {
   "cell_type": "code",
   "execution_count": 0,
   "metadata": {
    "colab": {},
    "colab_type": "code",
    "id": "dU7CcAU1iKur"
   },
   "outputs": [],
   "source": []
  },
  {
   "cell_type": "code",
   "execution_count": 339,
   "metadata": {
    "colab": {
     "base_uri": "https://localhost:8080/",
     "height": 51
    },
    "colab_type": "code",
    "id": "XRavHKmgudFD",
    "outputId": "c67c9428-e2ab-42db-d08c-aed6e20eb630"
   },
   "outputs": [
    {
     "name": "stdout",
     "output_type": "stream",
     "text": [
      "199/199 [==============================] - 0s 493us/step\n"
     ]
    },
    {
     "data": {
      "text/plain": [
       "[1.49976976073567, 0.9685293436050415]"
      ]
     },
     "execution_count": 339,
     "metadata": {
      "tags": []
     },
     "output_type": "execute_result"
    }
   ],
   "source": [
    "k_model = load_model(\"model.sve\")\n",
    "k_model.evaluate(scaled_X_Kmeans_test, np.array(y_test))\n",
    "\n",
    "###1.34 best fit (so far)\n",
    "###1.27 best fit (so far)"
   ]
  },
  {
   "cell_type": "code",
   "execution_count": 340,
   "metadata": {
    "colab": {
     "base_uri": "https://localhost:8080/",
     "height": 34
    },
    "colab_type": "code",
    "id": "wMnUMSVDvD9y",
    "outputId": "53cf4a59-8711-4688-e697-b7d98b7b6267"
   },
   "outputs": [
    {
     "data": {
      "text/plain": [
       "(1433584.105292253, 443942.24230036914)"
      ]
     },
     "execution_count": 340,
     "metadata": {
      "tags": []
     },
     "output_type": "execute_result"
    }
   ],
   "source": [
    "np.sqrt(mean_squared_error(10**np.array(y_test), \n",
    "                           10**k_model.predict(scaled_X_Kmeans_test))), mean_absolute_error(10**np.array(y_test), \n",
    "                           10**k_model.predict(scaled_X_Kmeans_test))"
   ]
  },
  {
   "cell_type": "code",
   "execution_count": 0,
   "metadata": {
    "colab": {},
    "colab_type": "code",
    "id": "656PCTNjiUrv"
   },
   "outputs": [],
   "source": [
    "10**k_model.predict(scaled_X_Kmeans_test)"
   ]
  },
  {
   "cell_type": "code",
   "execution_count": 0,
   "metadata": {
    "colab": {},
    "colab_type": "code",
    "id": "N6wp946tlcPH"
   },
   "outputs": [],
   "source": []
  },
  {
   "cell_type": "code",
   "execution_count": 0,
   "metadata": {
    "colab": {},
    "colab_type": "code",
    "id": "CN6jZveRihhR"
   },
   "outputs": [],
   "source": [
    "# serialize model to JSON\n",
    "keras_json = k_model.to_json()\n",
    "\n",
    "with open(\"keras.json\", \"w\") as json_file:\n",
    "    json_file.write(keras_json)\n",
    "\n",
    "# serialize weights to HDF5\n",
    "k_model.save_weights(\"keras.h5\")"
   ]
  },
  {
   "cell_type": "code",
   "execution_count": 175,
   "metadata": {
    "colab": {
     "base_uri": "https://localhost:8080/",
     "height": 170
    },
    "colab_type": "code",
    "id": "zTsZ5VVRPNot",
    "outputId": "78f8a010-97b1-4277-8900-a49a0c68724e"
   },
   "outputs": [
    {
     "data": {
      "text/plain": [
       "GradientBoostingRegressor(alpha=0.9, ccp_alpha=0.0, criterion='friedman_mse',\n",
       "                          init=None, learning_rate=0.1, loss='ls', max_depth=5,\n",
       "                          max_features=None, max_leaf_nodes=None,\n",
       "                          min_impurity_decrease=0.0, min_impurity_split=None,\n",
       "                          min_samples_leaf=1, min_samples_split=4,\n",
       "                          min_weight_fraction_leaf=0.0, n_estimators=100,\n",
       "                          n_iter_no_change=None, presort='deprecated',\n",
       "                          random_state=None, subsample=1.0, tol=0.0001,\n",
       "                          validation_fraction=0.1, verbose=0, warm_start=False)"
      ]
     },
     "execution_count": 175,
     "metadata": {
      "tags": []
     },
     "output_type": "execute_result"
    }
   ],
   "source": [
    "from sklearn.ensemble import GradientBoostingRegressor\n",
    "\n",
    "clf = GradientBoostingRegressor(alpha=0.9, ccp_alpha=0.0, criterion='friedman_mse',\n",
    "                          init=None, learning_rate=0.1, loss='ls', max_depth=5,\n",
    "                          max_features=None, max_leaf_nodes=None,\n",
    "                          min_impurity_decrease=0.0, min_impurity_split=None,\n",
    "                          min_samples_leaf=1, min_samples_split=4,\n",
    "                          min_weight_fraction_leaf=0.0, n_estimators=100,\n",
    "                          n_iter_no_change=None, presort='deprecated',\n",
    "                          random_state=None, subsample=1.0, tol=0.0001,\n",
    "                          validation_fraction=0.1, verbose=0, warm_start=False)\n",
    "clf.fit(scaled_X_Kmeans, y_train)"
   ]
  },
  {
   "cell_type": "code",
   "execution_count": 176,
   "metadata": {
    "colab": {
     "base_uri": "https://localhost:8080/",
     "height": 85
    },
    "colab_type": "code",
    "id": "BDpfVOrovLe4",
    "outputId": "4d61003e-4226-4ac8-e041-ec60d1355741"
   },
   "outputs": [
    {
     "data": {
      "text/plain": [
       "(1342797.0610217627,\n",
       " 479837.92434069887,\n",
       " 1803103947088.6833,\n",
       " 320449.08122964506)"
      ]
     },
     "execution_count": 176,
     "metadata": {
      "tags": []
     },
     "output_type": "execute_result"
    }
   ],
   "source": [
    "np.sqrt(mean_squared_error(y_test**2, \n",
    "                    clf.predict(scaled_X_Kmeans_test)**2)), mean_absolute_error(y_test**2, \n",
    "                    clf.predict(scaled_X_Kmeans_test)**2), mean_squared_error(y_test**2, \n",
    "                    clf.predict(scaled_X_Kmeans_test)**2), np.sqrt(mean_squared_error(y_train**2, clf.predict(scaled_X_Kmeans)**2))"
   ]
  },
  {
   "cell_type": "code",
   "execution_count": 0,
   "metadata": {
    "colab": {},
    "colab_type": "code",
    "id": "jxbrh8kCG2z6"
   },
   "outputs": [],
   "source": []
  },
  {
   "cell_type": "code",
   "execution_count": 0,
   "metadata": {
    "colab": {},
    "colab_type": "code",
    "id": "Zeg6uYEKUH_c"
   },
   "outputs": [],
   "source": []
  },
  {
   "cell_type": "code",
   "execution_count": 0,
   "metadata": {
    "colab": {},
    "colab_type": "code",
    "id": "HXNYdLFv-aEV"
   },
   "outputs": [],
   "source": [
    "pickle.dump(clf, open('GBM.model', 'wb'))"
   ]
  },
  {
   "cell_type": "code",
   "execution_count": 0,
   "metadata": {
    "colab": {},
    "colab_type": "code",
    "id": "syhgbG5HJ2iz"
   },
   "outputs": [],
   "source": []
  },
  {
   "cell_type": "code",
   "execution_count": 162,
   "metadata": {
    "colab": {
     "base_uri": "https://localhost:8080/",
     "height": 442
    },
    "colab_type": "code",
    "id": "cRqPT2qLJ3Zh",
    "outputId": "c4e64c8e-d75a-46e1-a037-05efde682a5e"
   },
   "outputs": [
    {
     "data": {
      "text/plain": [
       "GridSearchCV(cv=None, error_score=nan,\n",
       "             estimator=GradientBoostingRegressor(alpha=0.9, ccp_alpha=0.0,\n",
       "                                                 criterion='friedman_mse',\n",
       "                                                 init=None, learning_rate=0.1,\n",
       "                                                 loss='ls', max_depth=4,\n",
       "                                                 max_features=None,\n",
       "                                                 max_leaf_nodes=None,\n",
       "                                                 min_impurity_decrease=0.0,\n",
       "                                                 min_impurity_split=None,\n",
       "                                                 min_samples_leaf=1,\n",
       "                                                 min_samples_split=2,\n",
       "                                                 min_weight_fraction_leaf=0.0,\n",
       "                                                 n_estimators=500,\n",
       "                                                 n_ite...,\n",
       "                                                 presort='deprecated',\n",
       "                                                 random_state=None,\n",
       "                                                 subsample=1.0, tol=0.0001,\n",
       "                                                 validation_fraction=0.1,\n",
       "                                                 verbose=0, warm_start=False),\n",
       "             iid='deprecated', n_jobs=None,\n",
       "             param_grid={'max_depth': [3, 4, 5, 6],\n",
       "                         'min_samples_split': [2, 3, 4],\n",
       "                         'n_estimators': [100, 300, 700, 900, 2000]},\n",
       "             pre_dispatch='2*n_jobs', refit=True, return_train_score=False,\n",
       "             scoring='neg_mean_squared_error', verbose=0)"
      ]
     },
     "execution_count": 162,
     "metadata": {
      "tags": []
     },
     "output_type": "execute_result"
    }
   ],
   "source": [
    "from sklearn.model_selection import GridSearchCV\n",
    "\n",
    "'''parameters = {'n_estimators':[100, 300, 700, 900, 2000], \n",
    "              'min_samples_split':[2, 3, 4], 'max_depth':[3, 4, 5, 6]\n",
    "              }\n",
    "\n",
    "clf = GridSearchCV(clf, parameters, scoring='neg_mean_squared_error')\n",
    "clf.fit(scaled_X_Kmeans, y_train)'''"
   ]
  },
  {
   "cell_type": "code",
   "execution_count": 165,
   "metadata": {
    "colab": {
     "base_uri": "https://localhost:8080/",
     "height": 170
    },
    "colab_type": "code",
    "id": "a8BkQbY2J2fM",
    "outputId": "42525af5-008d-4f88-a552-29d1834da6d9"
   },
   "outputs": [
    {
     "data": {
      "text/plain": [
       "GradientBoostingRegressor(alpha=0.9, ccp_alpha=0.0, criterion='friedman_mse',\n",
       "                          init=None, learning_rate=0.1, loss='ls', max_depth=5,\n",
       "                          max_features=None, max_leaf_nodes=None,\n",
       "                          min_impurity_decrease=0.0, min_impurity_split=None,\n",
       "                          min_samples_leaf=1, min_samples_split=4,\n",
       "                          min_weight_fraction_leaf=0.0, n_estimators=100,\n",
       "                          n_iter_no_change=None, presort='deprecated',\n",
       "                          random_state=None, subsample=1.0, tol=0.0001,\n",
       "                          validation_fraction=0.1, verbose=0, warm_start=False)"
      ]
     },
     "execution_count": 165,
     "metadata": {
      "tags": []
     },
     "output_type": "execute_result"
    }
   ],
   "source": []
  },
  {
   "cell_type": "code",
   "execution_count": 0,
   "metadata": {
    "colab": {},
    "colab_type": "code",
    "id": "ri9e1MnjoK0r"
   },
   "outputs": [],
   "source": [
    "from keras.wrappers.scikit_learn import KerasRegressor\n",
    "KR = KerasRegressor(build_model, epochs=466, batch_size=32, verbose=0)"
   ]
  },
  {
   "cell_type": "code",
   "execution_count": 0,
   "metadata": {
    "colab": {},
    "colab_type": "code",
    "id": "aLF0LOkwXx8E"
   },
   "outputs": [],
   "source": [
    "KR.fit(scaled_X_Kmeans, y_train)"
   ]
  },
  {
   "cell_type": "markdown",
   "metadata": {
    "colab_type": "text",
    "id": "5qISCmr7dk_r"
   },
   "source": [
    "## Feature Importance"
   ]
  },
  {
   "cell_type": "code",
   "execution_count": 0,
   "metadata": {
    "colab": {},
    "colab_type": "code",
    "id": "ezRV0TZNnXX6"
   },
   "outputs": [],
   "source": [
    "cols = X_train.columns.tolist()\n",
    "cols.append('C_Label')\n",
    "\n",
    "### Feature Importances - GradientBoosting\n",
    "imp = permutation_importance(clf, scaled_X_Kmeans_test, \n",
    "                                                y_test, scoring='neg_mean_squared_error')\n",
    "\n",
    "\n",
    "imp = PermutationImportance(clf,n_iter=2).fit(scaled_X_Kmeans_test, y_test)\n",
    "eli5.show_weights(imp, feature_names = cols, top=scaled_X_Kmeans.shape[1])"
   ]
  },
  {
   "cell_type": "code",
   "execution_count": 0,
   "metadata": {
    "colab": {},
    "colab_type": "code",
    "id": "lPYgtLZXaAK7"
   },
   "outputs": [],
   "source": [
    "### Feature Importances - ANN\n",
    "\n",
    "imp = permutation_importance(KR, scaled_X_Kmeans_test, \n",
    "                                                y_test, scoring='neg_mean_squared_error')\n",
    "\n",
    "imp = PermutationImportance(clf,n_iter=2).fit(scaled_X_Kmeans_test, y_test)\n",
    "eli5.show_weights(imp, feature_names = cols, top=scaled_X_Kmeans.shape[1])"
   ]
  },
  {
   "cell_type": "markdown",
   "metadata": {
    "colab_type": "text",
    "id": "36dpKGmsMPeC"
   },
   "source": [
    "# XGBOOST"
   ]
  },
  {
   "cell_type": "code",
   "execution_count": 0,
   "metadata": {
    "colab": {},
    "colab_type": "code",
    "id": "x44NHec0I2IU"
   },
   "outputs": [],
   "source": []
  },
  {
   "cell_type": "code",
   "execution_count": 0,
   "metadata": {
    "colab": {},
    "colab_type": "code",
    "id": "Jo_dogzEI2Yb"
   },
   "outputs": [],
   "source": [
    "#data_dmatrix = xgb.DMatrix(data=scaled_X_Kmeans,label=y_train)"
   ]
  },
  {
   "cell_type": "code",
   "execution_count": 174,
   "metadata": {
    "colab": {
     "base_uri": "https://localhost:8080/",
     "height": 136
    },
    "colab_type": "code",
    "id": "PfECkws6JEy2",
    "outputId": "3f388558-67f3-45ee-a637-7de63dd0c427"
   },
   "outputs": [
    {
     "data": {
      "text/plain": [
       "XGBRegressor(alpha=10, base_score=0.5, booster='gbtree', colsample_bylevel=1,\n",
       "             colsample_bynode=1, colsample_bytree=0.5, gamma=0,\n",
       "             importance_type='gain', learning_rate=0.05, max_delta_step=0,\n",
       "             max_depth=7, min_child_weight=4, missing=None, n_estimators=500,\n",
       "             n_jobs=1, nthread=None, objective='reg:squarederror',\n",
       "             random_state=0, reg_alpha=0, reg_lambda=1, scale_pos_weight=1,\n",
       "             seed=None, silent=None, subsample=0.8, verbosity=1)"
      ]
     },
     "execution_count": 174,
     "metadata": {
      "tags": []
     },
     "output_type": "execute_result"
    }
   ],
   "source": [
    "xg_reg = xgb.XGBRegressor(alpha=10, base_score=0.5, booster='gbtree', colsample_bylevel=1,\n",
    "             colsample_bynode=1, colsample_bytree=0.5, gamma=0,\n",
    "             importance_type='gain', learning_rate=0.05, max_delta_step=0,\n",
    "             max_depth=7, min_child_weight=4, missing=None, n_estimators=500,\n",
    "             n_jobs=1, nthread=None, objective='reg:squarederror',\n",
    "             random_state=0, reg_alpha=0, reg_lambda=1, scale_pos_weight=1,\n",
    "             seed=None, silent=None, subsample=0.8, verbosity=1)\n",
    "\n",
    "\n",
    "\n",
    "xg_reg.fit(scaled_X_Kmeans, y_train)"
   ]
  },
  {
   "cell_type": "code",
   "execution_count": 169,
   "metadata": {
    "colab": {
     "base_uri": "https://localhost:8080/",
     "height": 357
    },
    "colab_type": "code",
    "id": "_DfIynxNUtlp",
    "outputId": "abb8c6e8-ca54-4789-84ac-e79f132f38ee"
   },
   "outputs": [
    {
     "data": {
      "text/plain": [
       "GridSearchCV(cv=None, error_score=nan,\n",
       "             estimator=XGBRegressor(alpha=10, base_score=0.5, booster='gbtree',\n",
       "                                    colsample_bylevel=1, colsample_bynode=1,\n",
       "                                    colsample_bytree=0.2, gamma=0,\n",
       "                                    importance_type='gain', learning_rate=0.1,\n",
       "                                    max_delta_step=0, max_depth=4,\n",
       "                                    min_child_weight=1, missing=None,\n",
       "                                    n_estimators=1000, n_jobs=1, nthread=None,\n",
       "                                    objective='reg:squarederror',\n",
       "                                    random_sta...\n",
       "             iid='deprecated', n_jobs=None,\n",
       "             param_grid={'colsample_bytree': [0.7, 0.5, 0.8],\n",
       "                         'learning_rate': [0.03, 0.05, 0.07],\n",
       "                         'max_depth': [4, 5, 6, 7],\n",
       "                         'min_child_weight': [3, 4, 6],\n",
       "                         'n_estimators': [500, 700, 1000, 2000],\n",
       "                         'objective': ['reg:squarederror'],\n",
       "                         'subsample': [0.7, 0.6, 0.8]},\n",
       "             pre_dispatch='2*n_jobs', refit=True, return_train_score=False,\n",
       "             scoring='neg_mean_squared_error', verbose=0)"
      ]
     },
     "execution_count": 169,
     "metadata": {
      "tags": []
     },
     "output_type": "execute_result"
    }
   ],
   "source": [
    "'''parameters = {\n",
    "              'objective':['reg:squarederror'],\n",
    "              'learning_rate': [.03, 0.05, .07], #so called `eta` value\n",
    "              'max_depth': [4, 5, 6, 7],\n",
    "              'min_child_weight': [3, 4, 6],\n",
    "              'subsample': [0.7, 0.6, 0.8],\n",
    "              'colsample_bytree': [0.7, 0.5, 0.8],\n",
    "              'n_estimators': [500, 700, 1000, 2000]}\n",
    "\n",
    "xg_reg = GridSearchCV(xg_reg, parameters, scoring='neg_mean_squared_error')\n",
    "xg_reg.fit(scaled_X_Kmeans, y_train)'''"
   ]
  },
  {
   "cell_type": "code",
   "execution_count": 170,
   "metadata": {
    "colab": {
     "base_uri": "https://localhost:8080/",
     "height": 136
    },
    "colab_type": "code",
    "id": "x2IspEOGUR8w",
    "outputId": "336952fe-1bad-4651-a1d0-4a0e71dd078a"
   },
   "outputs": [
    {
     "data": {
      "text/plain": [
       "XGBRegressor(alpha=10, base_score=0.5, booster='gbtree', colsample_bylevel=1,\n",
       "             colsample_bynode=1, colsample_bytree=0.5, gamma=0,\n",
       "             importance_type='gain', learning_rate=0.05, max_delta_step=0,\n",
       "             max_depth=7, min_child_weight=4, missing=None, n_estimators=500,\n",
       "             n_jobs=1, nthread=None, objective='reg:squarederror',\n",
       "             random_state=0, reg_alpha=0, reg_lambda=1, scale_pos_weight=1,\n",
       "             seed=None, silent=None, subsample=0.8, verbosity=1)"
      ]
     },
     "execution_count": 170,
     "metadata": {
      "tags": []
     },
     "output_type": "execute_result"
    }
   ],
   "source": []
  },
  {
   "cell_type": "code",
   "execution_count": 172,
   "metadata": {
    "colab": {
     "base_uri": "https://localhost:8080/",
     "height": 34
    },
    "colab_type": "code",
    "id": "4lB_aHz2vUCa",
    "outputId": "dfbd6800-2f04-4c2c-c69d-9bddace66e81"
   },
   "outputs": [
    {
     "data": {
      "text/plain": [
       "(1333414.2126299362, 487400.9387098868)"
      ]
     },
     "execution_count": 172,
     "metadata": {
      "tags": []
     },
     "output_type": "execute_result"
    }
   ],
   "source": [
    "np.sqrt(mean_squared_error(y_test**2, \n",
    "                           xg_reg.predict(scaled_X_Kmeans_test)**2)), mean_absolute_error(y_test**2, \n",
    "                           xg_reg.predict(scaled_X_Kmeans_test)**2)"
   ]
  },
  {
   "cell_type": "code",
   "execution_count": 0,
   "metadata": {
    "colab": {},
    "colab_type": "code",
    "id": "E363cV7YvY0R"
   },
   "outputs": [],
   "source": [
    "pickle.dump(clf, open('XGB.model', 'wb'))"
   ]
  },
  {
   "cell_type": "code",
   "execution_count": 0,
   "metadata": {
    "colab": {},
    "colab_type": "code",
    "id": "6UhJrrhcKuHZ"
   },
   "outputs": [],
   "source": [
    "'''params = {\"objective\":\"reg:squarederror\",'colsample_bytree': 0.4,'learning_rate': 0.1,\n",
    "                'max_depth':3, 'alpha': 10, 'n_estimators':2000}\n",
    "\n",
    "cv_results = xgb.cv(dtrain=data_dmatrix, params=params, verbose_eval=1,\n",
    "                    num_boost_round=250,early_stopping_rounds=20,metrics=\"rmse\", as_pandas=True, seed=123)\n",
    "\n",
    "\n",
    "xg_reg = xgb.train(params=params, dtrain=data_dmatrix, num_boost_round=88)\n",
    "xgb_test = xgb.DMatrix(scaled_X_Kmeans_test)\n",
    "\n",
    "\n",
    "np.sqrt(mean_squared_error(10**y_test, \n",
    "                           10**xg_reg.predict(xgb_test)))'''"
   ]
  },
  {
   "cell_type": "code",
   "execution_count": 0,
   "metadata": {
    "colab": {},
    "colab_type": "code",
    "id": "7pBtymEeMcnf"
   },
   "outputs": [],
   "source": [
    "xg_reg"
   ]
  },
  {
   "cell_type": "code",
   "execution_count": 0,
   "metadata": {
    "colab": {},
    "colab_type": "code",
    "id": "anC2u-I7MvB6"
   },
   "outputs": [],
   "source": []
  },
  {
   "cell_type": "code",
   "execution_count": 0,
   "metadata": {
    "colab": {},
    "colab_type": "code",
    "id": "KP42PNK_NS_V"
   },
   "outputs": [],
   "source": []
  },
  {
   "cell_type": "code",
   "execution_count": 0,
   "metadata": {
    "colab": {},
    "colab_type": "code",
    "id": "h3L-n8H_4Z7S"
   },
   "outputs": [],
   "source": [
    "from sklearn.linear_model import LinearRegression\n",
    "L_R = LinearRegression()\n",
    "#L_R.fit(scaled_X_Kmeans, y_train)"
   ]
  },
  {
   "cell_type": "code",
   "execution_count": 0,
   "metadata": {
    "colab": {},
    "colab_type": "code",
    "id": "4b-1Mwi74u55"
   },
   "outputs": [],
   "source": [
    "from sklearn.svm import SVR\n",
    "SVM = SVR()\n",
    "#SVM.fit(scaled_X_Kmeans, y_train)"
   ]
  },
  {
   "cell_type": "code",
   "execution_count": 0,
   "metadata": {
    "colab": {},
    "colab_type": "code",
    "id": "s01dnLZ75RDr"
   },
   "outputs": [],
   "source": [
    "from sklearn.ensemble import RandomForestRegressor\n",
    "RF = RandomForestRegressor()\n",
    "#RF.fit(scaled_X_Kmeans, y_train)"
   ]
  },
  {
   "cell_type": "code",
   "execution_count": 0,
   "metadata": {
    "colab": {},
    "colab_type": "code",
    "id": "CKUSEP6f7HC3"
   },
   "outputs": [],
   "source": [
    "from xgboost import XGBRFRegressor\n",
    "XGB = XGBRFRegressor(n_estimators=2000, max_depth=4, learning_rate=0.1, \n",
    "                     objective ='reg:squarederror', colsample_bytree = 0.2)\n",
    "#XGB.fit(scaled_X_Kmeans, y_train)"
   ]
  },
  {
   "cell_type": "markdown",
   "metadata": {
    "colab_type": "text",
    "id": "X-1hr8BMydZk"
   },
   "source": [
    "## Visualize Prediction"
   ]
  },
  {
   "cell_type": "code",
   "execution_count": 0,
   "metadata": {
    "colab": {},
    "colab_type": "code",
    "id": "UpVAqCq6ynHY"
   },
   "outputs": [],
   "source": [
    "XGB_pred = pd.DataFrame({\"Pred\": y_test**2, \n",
    "              \"Actual\": XGB.predict(scaled_X_Kmeans_test)**2, \n",
    "              \"Residual\":(y_test**2) - (XGB.predict(scaled_X_Kmeans_test)**2)})\n",
    "\n",
    "print(ggplot(XGB_pred, aes(x='Actual', y='Pred'))\n",
    " + geom_point()\n",
    " + scale_x_log10()\n",
    " + scale_y_log10())"
   ]
  },
  {
   "cell_type": "code",
   "execution_count": 0,
   "metadata": {
    "colab": {},
    "colab_type": "code",
    "id": "HJcnhnlG21Od"
   },
   "outputs": [],
   "source": [
    "XGB_pred = pd.DataFrame({\"Pred\": y_test**2, \n",
    "              \"Actual\": xg_reg.predict(scaled_X_Kmeans_test)**2, \n",
    "              \"Residual\":(y_test**2) - (xg_reg.predict(scaled_X_Kmeans_test)**2)})\n",
    "\n",
    "\n",
    "print(ggplot(XGB_pred, aes(x='Actual', y='Pred'))\n",
    " + geom_point()\n",
    " + scale_x_log10()\n",
    " + scale_y_log10())"
   ]
  },
  {
   "cell_type": "code",
   "execution_count": 0,
   "metadata": {
    "colab": {},
    "colab_type": "code",
    "id": "2z7ZaclxzWF5"
   },
   "outputs": [],
   "source": [
    "GB_pred = pd.DataFrame({\"Pred\": y_test**2, \n",
    "              \"Actual\": clf.predict(scaled_X_Kmeans_test)**2, \n",
    "              \"Residual\":(y_test**2) - (clf.predict(scaled_X_Kmeans_test)**2)})\n",
    "\n",
    "print(ggplot(GB_pred, aes(x='Actual', y='Pred'))\n",
    " + geom_point()\n",
    " + scale_x_log10()\n",
    " + scale_y_log10())"
   ]
  },
  {
   "cell_type": "code",
   "execution_count": 0,
   "metadata": {
    "colab": {},
    "colab_type": "code",
    "id": "dEFG9KPW4TTW"
   },
   "outputs": [],
   "source": [
    "LR_pred = pd.DataFrame({\"Pred\": y_test**2, \n",
    "              \"Actual\": L_R.predict(scaled_X_Kmeans_test)**2, \n",
    "              \"Residual\":(y_test**2) - (L_R.predict(scaled_X_Kmeans_test)**2)})\n",
    "\n",
    "\n",
    "print(ggplot(LR_pred, aes(x='Actual', y='Pred'))\n",
    " + geom_point()\n",
    " + scale_x_log10()\n",
    " + scale_y_log10())"
   ]
  },
  {
   "cell_type": "code",
   "execution_count": 0,
   "metadata": {
    "colab": {},
    "colab_type": "code",
    "id": "YhnJLpSx4-wC"
   },
   "outputs": [],
   "source": [
    "SVM_pred = pd.DataFrame({\"Pred\": y_test**2, \n",
    "              \"Actual\": SVM.predict(scaled_X_Kmeans_test)**2, \n",
    "              \"Residual\":(y_test**2) - (SVM.predict(scaled_X_Kmeans_test)**2)})\n",
    "\n",
    "\n",
    "print(ggplot(SVM_pred, aes(x='Actual', y='Pred'))\n",
    " + geom_point()\n",
    " + scale_x_log10()\n",
    " + scale_y_log10())"
   ]
  },
  {
   "cell_type": "code",
   "execution_count": 0,
   "metadata": {
    "colab": {},
    "colab_type": "code",
    "id": "QLVWHoXg5GIq"
   },
   "outputs": [],
   "source": [
    "RF_pred = pd.DataFrame({\"Pred\": y_test**2, \n",
    "              \"Actual\": RF.predict(scaled_X_Kmeans_test)**2, \n",
    "              \"Residual\":(y_test**2) - (RF.predict(scaled_X_Kmeans_test)**2)})\n",
    "\n",
    "\n",
    "print(ggplot(RF_pred, aes(x='Actual', y='Pred'))\n",
    " + geom_point()\n",
    " + scale_x_log10()\n",
    " + scale_y_log10())"
   ]
  },
  {
   "cell_type": "code",
   "execution_count": 0,
   "metadata": {
    "colab": {},
    "colab_type": "code",
    "id": "TJvB1Yzh6DiD"
   },
   "outputs": [],
   "source": [
    "clfs = [('Random Forest', RF), ('Support Vector',SVM), ('Linear',L_R), \n",
    "        ('XGB',XGB), ('GBM',clf)]"
   ]
  },
  {
   "cell_type": "code",
   "execution_count": 0,
   "metadata": {
    "colab": {},
    "colab_type": "code",
    "id": "-OGcMtek8MTH"
   },
   "outputs": [],
   "source": [
    "from sklearn.ensemble import StackingRegressor\n",
    "SR = StackingRegressor(clfs)\n",
    "\n",
    "SR.fit(scaled_X_Kmeans, y_train)"
   ]
  },
  {
   "cell_type": "code",
   "execution_count": 0,
   "metadata": {
    "colab": {},
    "colab_type": "code",
    "id": "dumDflWHOQ91"
   },
   "outputs": [],
   "source": []
  },
  {
   "cell_type": "code",
   "execution_count": 0,
   "metadata": {
    "colab": {},
    "colab_type": "code",
    "id": "sejOqc8ePA7L"
   },
   "outputs": [],
   "source": [
    "np.sqrt(mean_squared_error(y_test**2, \n",
    "                           SR.predict(scaled_X_Kmeans_test)**2))"
   ]
  },
  {
   "cell_type": "code",
   "execution_count": 0,
   "metadata": {
    "colab": {},
    "colab_type": "code",
    "id": "ewGuPqfllfdJ"
   },
   "outputs": [],
   "source": []
  },
  {
   "cell_type": "code",
   "execution_count": 0,
   "metadata": {
    "colab": {},
    "colab_type": "code",
    "id": "IiMwzSGKlj2O"
   },
   "outputs": [],
   "source": [
    "from sklearn.model_selection import KFold\n",
    "kf = KFold(n_splits=2)\n",
    "split = kf.split(scaled_X_Kmeans)"
   ]
  },
  {
   "cell_type": "code",
   "execution_count": 0,
   "metadata": {
    "colab": {},
    "colab_type": "code",
    "id": "Gk_ByhJxmLFA"
   },
   "outputs": [],
   "source": []
  },
  {
   "cell_type": "code",
   "execution_count": 0,
   "metadata": {
    "colab": {},
    "colab_type": "code",
    "id": "BcOxAPR3s6jx"
   },
   "outputs": [],
   "source": [
    "\n",
    "for i, (train_index, test_index) in enumerate(split):\n",
    "\n",
    "  train_vec = np.zeros((scaled_X_Kmeans.shape[0],))\n",
    "  test_vec = np.zeros((ntrain,))\n",
    "  hold_vec = np.empty((kf.get_n_splits(), ntest))\n",
    "\n",
    "  x_t = scaled_X_Kmeans[train_index]\n",
    "  y_t = y_train[train_index]\n",
    "\n",
    "  clf.fit(scaled_X_Kmeans[train_index], y_train[train_index])"
   ]
  },
  {
   "cell_type": "code",
   "execution_count": 0,
   "metadata": {
    "colab": {},
    "colab_type": "code",
    "id": "1M8bEhkztKx5"
   },
   "outputs": [],
   "source": []
  },
  {
   "cell_type": "code",
   "execution_count": 0,
   "metadata": {
    "colab": {},
    "colab_type": "code",
    "id": "1mreVv9_tKvr"
   },
   "outputs": [],
   "source": []
  },
  {
   "cell_type": "code",
   "execution_count": 0,
   "metadata": {
    "colab": {},
    "colab_type": "code",
    "id": "C3urmpAyPRLV"
   },
   "outputs": [],
   "source": [
    "SR_pred = pd.DataFrame({\"Pred\": y_test**2, \n",
    "              \"Actual\": SR.predict(scaled_X_Kmeans_test)**2, \n",
    "              \"Residual\":(y_test**2) - (SR.predict(scaled_X_Kmeans_test)**2)})\n",
    "\n",
    "\n",
    "print(ggplot(SR_pred, aes(x='Actual', y='Pred'))\n",
    " + geom_point()\n",
    " + scale_x_log10()\n",
    " + scale_y_log10())"
   ]
  },
  {
   "cell_type": "code",
   "execution_count": 304,
   "metadata": {
    "colab": {
     "base_uri": "https://localhost:8080/",
     "height": 34
    },
    "colab_type": "code",
    "id": "DllQa81r-Gvj",
    "outputId": "bf44789e-d801-4ad6-c512-c43f040ad4f2"
   },
   "outputs": [
    {
     "data": {
      "text/plain": [
       "'0.22.2.post1'"
      ]
     },
     "execution_count": 304,
     "metadata": {
      "tags": []
     },
     "output_type": "execute_result"
    }
   ],
   "source": [
    "import sklearn\n",
    "sklearn.__version__"
   ]
  },
  {
   "cell_type": "code",
   "execution_count": 0,
   "metadata": {
    "colab": {},
    "colab_type": "code",
    "id": "yh-VGX548kMw"
   },
   "outputs": [],
   "source": []
  },
  {
   "cell_type": "code",
   "execution_count": 149,
   "metadata": {
    "colab": {
     "base_uri": "https://localhost:8080/",
     "height": 34
    },
    "colab_type": "code",
    "id": "WDBch__I8vRn",
    "outputId": "3d2eda81-94e5-4c27-a93d-26215e7881a7"
   },
   "outputs": [
    {
     "data": {
      "text/plain": [
       "array([-6, -5, -4, -3, -2, -1,  0,  1,  2,  3,  4,  5])"
      ]
     },
     "execution_count": 149,
     "metadata": {
      "tags": []
     },
     "output_type": "execute_result"
    }
   ],
   "source": [
    "np.sort(df['MAX_USA_SSHS'].unique())"
   ]
  }
 ],
 "metadata": {
  "colab": {
   "collapsed_sections": [],
   "name": "omdena-keras-nn_sij.ipynb",
   "provenance": [],
   "toc_visible": true
  },
  "kernelspec": {
   "display_name": "Python 3",
   "language": "python",
   "name": "python3"
  },
  "language_info": {
   "codemirror_mode": {
    "name": "ipython",
    "version": 3
   },
   "file_extension": ".py",
   "mimetype": "text/x-python",
   "name": "python",
   "nbconvert_exporter": "python",
   "pygments_lexer": "ipython3",
   "version": "3.6.10"
  }
 },
 "nbformat": 4,
 "nbformat_minor": 1
}
