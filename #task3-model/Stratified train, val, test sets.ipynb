{
 "cells": [
  {
   "cell_type": "code",
   "execution_count": 1,
   "metadata": {},
   "outputs": [
    {
     "name": "stderr",
     "output_type": "stream",
     "text": [
      "Using TensorFlow backend.\n"
     ]
    }
   ],
   "source": [
    "%matplotlib inline\n",
    "\n",
    "import numpy as np\n",
    "import pandas as pd\n",
    "import matplotlib.pyplot as plt\n",
    "\n",
    "import warnings\n",
    "warnings.filterwarnings(\"ignore\")\n",
    "\n",
    "import seaborn as sns\n",
    "sns.set_style('ticks')\n",
    "\n",
    "from sklearn.impute import SimpleImputer\n",
    "from sklearn.preprocessing import StandardScaler, LabelEncoder\n",
    "from sklearn.model_selection import train_test_split, StratifiedShuffleSplit\n",
    "\n",
    "\n",
    "from keras import models\n",
    "from keras import layers\n",
    "from keras import optimizers\n",
    "\n",
    "from pathlib import Path"
   ]
  },
  {
   "cell_type": "markdown",
   "metadata": {},
   "source": [
    "## Reading in the data"
   ]
  },
  {
   "cell_type": "code",
   "execution_count": 2,
   "metadata": {},
   "outputs": [
    {
     "name": "stdout",
     "output_type": "stream",
     "text": [
      "G:\\Omdena\\wfpdisrel\\#task4-eda\\datasets\\OUTPUT_WBI_exposer_cyclones_v12.csv\n"
     ]
    }
   ],
   "source": [
    "data_folder = Path.cwd().parent.joinpath('#task4-eda','datasets') \n",
    "input_filename = 'OUTPUT_WBI_exposer_cyclones_v12.csv'\n",
    "input_file = Path(data_folder).joinpath(input_filename)\n",
    "print(input_file)"
   ]
  },
  {
   "cell_type": "code",
   "execution_count": 3,
   "metadata": {},
   "outputs": [
    {
     "name": "stdout",
     "output_type": "stream",
     "text": [
      "<class 'pandas.core.frame.DataFrame'>\n",
      "RangeIndex: 1019 entries, 0 to 1018\n",
      "Data columns (total 51 columns):\n",
      " #   Column                                              Non-Null Count  Dtype  \n",
      "---  ------                                              --------------  -----  \n",
      " 0   SID                                                 1019 non-null   object \n",
      " 1   NAME                                                1019 non-null   object \n",
      " 2   ISO                                                 1019 non-null   object \n",
      " 3   YEAR                                                1019 non-null   int64  \n",
      " 4   COORDS                                              1019 non-null   object \n",
      " 5   COORDS_MAX_WINDS                                    1019 non-null   object \n",
      " 6   COORDS_MIN_DIST2LAND                                1019 non-null   object \n",
      " 7   BASIN                                               1019 non-null   object \n",
      " 8   SUB BASIN                                           1019 non-null   object \n",
      " 9   MONTH_START                                         1019 non-null   int64  \n",
      " 10  MONTH_END                                           1019 non-null   int64  \n",
      " 11  DATE_START                                          1019 non-null   object \n",
      " 12  DATE_END                                            1019 non-null   object \n",
      " 13  DATE_LAND_START                                     1019 non-null   object \n",
      " 14  DATE_LAND_END                                       1019 non-null   object \n",
      " 15  TOTAL_HOURS_EVENT                                   1019 non-null   float64\n",
      " 16  TOTAL_HOURS_IN_LAND                                 1019 non-null   float64\n",
      " 17  NATURE                                              1019 non-null   object \n",
      " 18  GENERAL_CATEGORY                                    1019 non-null   object \n",
      " 19  MAX_WIND                                            1019 non-null   float64\n",
      " 20  MIN_PRES                                            1019 non-null   int64  \n",
      " 21  MIN_DIST2LAND                                       1019 non-null   int64  \n",
      " 22  MAX_STORMSPEED                                      1017 non-null   float64\n",
      " 23  MAX_USA_SSHS                                        1019 non-null   int64  \n",
      " 24  MAX_USA_SSHS_INLAND                                 1019 non-null   object \n",
      " 25  V_LAND_KN                                           1019 non-null   float64\n",
      " 26  DISTANCE_TRACK                                      1019 non-null   float64\n",
      " 27  DISTANCE_TRACK_VINCENTY                             1019 non-null   float64\n",
      " 28  34KN_POP                                            785 non-null    float64\n",
      " 29  64KN_POP                                            785 non-null    float64\n",
      " 30  96KN_POP                                            785 non-null    float64\n",
      " 31  64KN_ASSETS                                         784 non-null    float64\n",
      " 32  34KN_ASSETS                                         784 non-null    float64\n",
      " 33  96KN_ASSETS                                         784 non-null    float64\n",
      " 34  TOTAL_DAMAGE_(000$)                                 694 non-null    float64\n",
      " 35  TOTAL_DEATHS                                        881 non-null    float64\n",
      " 36  POP_DEN_SQ_KM                                       1019 non-null   float64\n",
      " 37  RURAL_POP(%)                                        1019 non-null   float64\n",
      " 38  HDI                                                 1019 non-null   float64\n",
      " 39  Arable land (hectares per person)                   1018 non-null   float64\n",
      " 40  Cereal yield (kg per hectare)                       1009 non-null   float64\n",
      " 41  Food production index (2004-2006 = 100)             1015 non-null   float64\n",
      " 42  GDP per capita (constant 2010 US$)                  1010 non-null   float64\n",
      " 43  Net flows from UN agencies US$                      1019 non-null   float64\n",
      " 44  Life expectancy at birth, total (years)             1015 non-null   float64\n",
      " 45  Adjusted savings: education expenditure (% of GNI)  1009 non-null   float64\n",
      " 46  Income_level_Final                                  1019 non-null   object \n",
      " 47  POP_MAX_34_ADJ                                      940 non-null    float64\n",
      " 48  POP_MAX_50_ADJ                                      940 non-null    float64\n",
      " 49  POP_MAX_64_ADJ                                      940 non-null    float64\n",
      " 50  TOTAL_AFFECTED                                      1019 non-null   int64  \n",
      "dtypes: float64(28), int64(7), object(16)\n",
      "memory usage: 406.1+ KB\n"
     ]
    }
   ],
   "source": [
    "df = pd.read_csv(input_file,sep=\";\")\n",
    "df.info()"
   ]
  },
  {
   "cell_type": "code",
   "execution_count": 4,
   "metadata": {},
   "outputs": [
    {
     "data": {
      "text/html": [
       "<div>\n",
       "<style scoped>\n",
       "    .dataframe tbody tr th:only-of-type {\n",
       "        vertical-align: middle;\n",
       "    }\n",
       "\n",
       "    .dataframe tbody tr th {\n",
       "        vertical-align: top;\n",
       "    }\n",
       "\n",
       "    .dataframe thead th {\n",
       "        text-align: right;\n",
       "    }\n",
       "</style>\n",
       "<table border=\"1\" class=\"dataframe\">\n",
       "  <thead>\n",
       "    <tr style=\"text-align: right;\">\n",
       "      <th></th>\n",
       "      <th>SID</th>\n",
       "      <th>NAME</th>\n",
       "      <th>ISO</th>\n",
       "      <th>YEAR</th>\n",
       "      <th>COORDS</th>\n",
       "      <th>COORDS_MAX_WINDS</th>\n",
       "      <th>COORDS_MIN_DIST2LAND</th>\n",
       "      <th>BASIN</th>\n",
       "      <th>SUB BASIN</th>\n",
       "      <th>MONTH_START</th>\n",
       "      <th>...</th>\n",
       "      <th>Food production index (2004-2006 = 100)</th>\n",
       "      <th>GDP per capita (constant 2010 US$)</th>\n",
       "      <th>Net flows from UN agencies US$</th>\n",
       "      <th>Life expectancy at birth, total (years)</th>\n",
       "      <th>Adjusted savings: education expenditure (% of GNI)</th>\n",
       "      <th>Income_level_Final</th>\n",
       "      <th>POP_MAX_34_ADJ</th>\n",
       "      <th>POP_MAX_50_ADJ</th>\n",
       "      <th>POP_MAX_64_ADJ</th>\n",
       "      <th>TOTAL_AFFECTED</th>\n",
       "    </tr>\n",
       "  </thead>\n",
       "  <tbody>\n",
       "    <tr>\n",
       "      <th>0</th>\n",
       "      <td>1949163N07145</td>\n",
       "      <td>DELLA</td>\n",
       "      <td>JPN</td>\n",
       "      <td>1949</td>\n",
       "      <td>[(21.5, 125.424), (22.2, 125.8), (22.9089, 126...</td>\n",
       "      <td>[(27.6584, 128.82), (28.9141, 129.572999999999...</td>\n",
       "      <td>[(31.9866, 130.683), (33.5183, 130.97299999999...</td>\n",
       "      <td>WP</td>\n",
       "      <td>WP</td>\n",
       "      <td>6</td>\n",
       "      <td>...</td>\n",
       "      <td>67.79</td>\n",
       "      <td>8607.657082</td>\n",
       "      <td>0.0</td>\n",
       "      <td>67.666098</td>\n",
       "      <td>2.867878</td>\n",
       "      <td>Low</td>\n",
       "      <td>1.198300e+07</td>\n",
       "      <td>5.803981e+06</td>\n",
       "      <td>3.320907e+06</td>\n",
       "      <td>194046</td>\n",
       "    </tr>\n",
       "    <tr>\n",
       "      <th>1</th>\n",
       "      <td>1950241N23140</td>\n",
       "      <td>JANE</td>\n",
       "      <td>JPN</td>\n",
       "      <td>1950</td>\n",
       "      <td>[(23.8845, 139.74), (23.9335, 139.639), (23.98...</td>\n",
       "      <td>[(28.7509, 133.748), (29.1201, 133.762), (29.6...</td>\n",
       "      <td>[(34.9374, 135.476), (36.1016, 136.095), (37.2...</td>\n",
       "      <td>WP</td>\n",
       "      <td>WP</td>\n",
       "      <td>8</td>\n",
       "      <td>...</td>\n",
       "      <td>67.79</td>\n",
       "      <td>8607.657082</td>\n",
       "      <td>0.0</td>\n",
       "      <td>67.666098</td>\n",
       "      <td>2.867878</td>\n",
       "      <td>Low</td>\n",
       "      <td>3.160822e+07</td>\n",
       "      <td>1.559196e+07</td>\n",
       "      <td>1.018936e+07</td>\n",
       "      <td>642117</td>\n",
       "    </tr>\n",
       "    <tr>\n",
       "      <th>2</th>\n",
       "      <td>1951224N12316</td>\n",
       "      <td>CHARLIE</td>\n",
       "      <td>JAM</td>\n",
       "      <td>1951</td>\n",
       "      <td>[(17.3398, -75.4138), (17.6, -76.2), (17.9, -7...</td>\n",
       "      <td>[(17.6, -76.2), (17.9, -76.9)]</td>\n",
       "      <td>[(17.9, -76.9), (18.1, -77.8)]</td>\n",
       "      <td>NAm</td>\n",
       "      <td>CS</td>\n",
       "      <td>8</td>\n",
       "      <td>...</td>\n",
       "      <td>69.93</td>\n",
       "      <td>3796.219401</td>\n",
       "      <td>0.0</td>\n",
       "      <td>64.770000</td>\n",
       "      <td>2.578304</td>\n",
       "      <td>Low</td>\n",
       "      <td>1.689243e+06</td>\n",
       "      <td>1.687083e+06</td>\n",
       "      <td>1.195052e+06</td>\n",
       "      <td>20200</td>\n",
       "    </tr>\n",
       "    <tr>\n",
       "      <th>3</th>\n",
       "      <td>1951337N09150</td>\n",
       "      <td>AMY</td>\n",
       "      <td>PHL</td>\n",
       "      <td>1951</td>\n",
       "      <td>[(12.0725, 130.967), (12.1333, 130.517), (12.1...</td>\n",
       "      <td>[(11.7833, 127.9)]</td>\n",
       "      <td>[(10.7333, 124.8), (10.534, 123.174), (10.6833...</td>\n",
       "      <td>WP</td>\n",
       "      <td>WP</td>\n",
       "      <td>12</td>\n",
       "      <td>...</td>\n",
       "      <td>25.68</td>\n",
       "      <td>1059.467412</td>\n",
       "      <td>0.0</td>\n",
       "      <td>61.105000</td>\n",
       "      <td>2.757732</td>\n",
       "      <td>Low_Middle</td>\n",
       "      <td>4.760039e+06</td>\n",
       "      <td>3.006670e+06</td>\n",
       "      <td>1.114774e+06</td>\n",
       "      <td>60000</td>\n",
       "    </tr>\n",
       "    <tr>\n",
       "      <th>4</th>\n",
       "      <td>1952180N05144</td>\n",
       "      <td>EMMA</td>\n",
       "      <td>PHL</td>\n",
       "      <td>1952</td>\n",
       "      <td>[(9.33776, 130.185), (9.38633, 129.61), (9.45,...</td>\n",
       "      <td>[(9.45, 129.017), (9.50407, 128.407), (9.56613...</td>\n",
       "      <td>[(10.4667, 123.867), (10.6492, 123.239), (10.8...</td>\n",
       "      <td>WP</td>\n",
       "      <td>WP</td>\n",
       "      <td>7</td>\n",
       "      <td>...</td>\n",
       "      <td>25.68</td>\n",
       "      <td>1059.467412</td>\n",
       "      <td>0.0</td>\n",
       "      <td>61.105000</td>\n",
       "      <td>2.757732</td>\n",
       "      <td>Low_Middle</td>\n",
       "      <td>5.130796e+06</td>\n",
       "      <td>2.789486e+06</td>\n",
       "      <td>1.988524e+06</td>\n",
       "      <td>103</td>\n",
       "    </tr>\n",
       "  </tbody>\n",
       "</table>\n",
       "<p>5 rows × 51 columns</p>\n",
       "</div>"
      ],
      "text/plain": [
       "             SID     NAME  ISO  YEAR  \\\n",
       "0  1949163N07145    DELLA  JPN  1949   \n",
       "1  1950241N23140     JANE  JPN  1950   \n",
       "2  1951224N12316  CHARLIE  JAM  1951   \n",
       "3  1951337N09150      AMY  PHL  1951   \n",
       "4  1952180N05144     EMMA  PHL  1952   \n",
       "\n",
       "                                              COORDS  \\\n",
       "0  [(21.5, 125.424), (22.2, 125.8), (22.9089, 126...   \n",
       "1  [(23.8845, 139.74), (23.9335, 139.639), (23.98...   \n",
       "2  [(17.3398, -75.4138), (17.6, -76.2), (17.9, -7...   \n",
       "3  [(12.0725, 130.967), (12.1333, 130.517), (12.1...   \n",
       "4  [(9.33776, 130.185), (9.38633, 129.61), (9.45,...   \n",
       "\n",
       "                                    COORDS_MAX_WINDS  \\\n",
       "0  [(27.6584, 128.82), (28.9141, 129.572999999999...   \n",
       "1  [(28.7509, 133.748), (29.1201, 133.762), (29.6...   \n",
       "2                     [(17.6, -76.2), (17.9, -76.9)]   \n",
       "3                                 [(11.7833, 127.9)]   \n",
       "4  [(9.45, 129.017), (9.50407, 128.407), (9.56613...   \n",
       "\n",
       "                                COORDS_MIN_DIST2LAND BASIN SUB BASIN  \\\n",
       "0  [(31.9866, 130.683), (33.5183, 130.97299999999...    WP        WP   \n",
       "1  [(34.9374, 135.476), (36.1016, 136.095), (37.2...    WP        WP   \n",
       "2                     [(17.9, -76.9), (18.1, -77.8)]   NAm        CS   \n",
       "3  [(10.7333, 124.8), (10.534, 123.174), (10.6833...    WP        WP   \n",
       "4  [(10.4667, 123.867), (10.6492, 123.239), (10.8...    WP        WP   \n",
       "\n",
       "   MONTH_START  ...  Food production index (2004-2006 = 100)  \\\n",
       "0            6  ...                                    67.79   \n",
       "1            8  ...                                    67.79   \n",
       "2            8  ...                                    69.93   \n",
       "3           12  ...                                    25.68   \n",
       "4            7  ...                                    25.68   \n",
       "\n",
       "  GDP per capita (constant 2010 US$) Net flows from UN agencies US$  \\\n",
       "0                        8607.657082                            0.0   \n",
       "1                        8607.657082                            0.0   \n",
       "2                        3796.219401                            0.0   \n",
       "3                        1059.467412                            0.0   \n",
       "4                        1059.467412                            0.0   \n",
       "\n",
       "  Life expectancy at birth, total (years)  \\\n",
       "0                               67.666098   \n",
       "1                               67.666098   \n",
       "2                               64.770000   \n",
       "3                               61.105000   \n",
       "4                               61.105000   \n",
       "\n",
       "  Adjusted savings: education expenditure (% of GNI)  Income_level_Final  \\\n",
       "0                                           2.867878                 Low   \n",
       "1                                           2.867878                 Low   \n",
       "2                                           2.578304                 Low   \n",
       "3                                           2.757732          Low_Middle   \n",
       "4                                           2.757732          Low_Middle   \n",
       "\n",
       "   POP_MAX_34_ADJ POP_MAX_50_ADJ POP_MAX_64_ADJ  TOTAL_AFFECTED  \n",
       "0    1.198300e+07   5.803981e+06   3.320907e+06          194046  \n",
       "1    3.160822e+07   1.559196e+07   1.018936e+07          642117  \n",
       "2    1.689243e+06   1.687083e+06   1.195052e+06           20200  \n",
       "3    4.760039e+06   3.006670e+06   1.114774e+06           60000  \n",
       "4    5.130796e+06   2.789486e+06   1.988524e+06             103  \n",
       "\n",
       "[5 rows x 51 columns]"
      ]
     },
     "execution_count": 4,
     "metadata": {},
     "output_type": "execute_result"
    }
   ],
   "source": [
    "df.head()"
   ]
  },
  {
   "cell_type": "markdown",
   "metadata": {},
   "source": [
    "## Adding columns"
   ]
  },
  {
   "cell_type": "code",
   "execution_count": 5,
   "metadata": {},
   "outputs": [],
   "source": [
    "df1 = df.copy()\n",
    "\n",
    "### Here you can add any further features that you want to include\n",
    "\n",
    "df1.reset_index(drop=True,inplace=True)"
   ]
  },
  {
   "cell_type": "code",
   "execution_count": 6,
   "metadata": {},
   "outputs": [
    {
     "data": {
      "text/plain": [
       "SID                                                     0\n",
       "NAME                                                    0\n",
       "ISO                                                     0\n",
       "YEAR                                                    0\n",
       "COORDS                                                  0\n",
       "COORDS_MAX_WINDS                                        0\n",
       "COORDS_MIN_DIST2LAND                                    0\n",
       "BASIN                                                   0\n",
       "SUB BASIN                                               0\n",
       "MONTH_START                                             0\n",
       "MONTH_END                                               0\n",
       "DATE_START                                              0\n",
       "DATE_END                                                0\n",
       "DATE_LAND_START                                         0\n",
       "DATE_LAND_END                                           0\n",
       "TOTAL_HOURS_EVENT                                       0\n",
       "TOTAL_HOURS_IN_LAND                                     0\n",
       "NATURE                                                  0\n",
       "GENERAL_CATEGORY                                        0\n",
       "MAX_WIND                                                0\n",
       "MIN_PRES                                                0\n",
       "MIN_DIST2LAND                                           0\n",
       "MAX_STORMSPEED                                          2\n",
       "MAX_USA_SSHS                                            0\n",
       "MAX_USA_SSHS_INLAND                                     0\n",
       "V_LAND_KN                                               0\n",
       "DISTANCE_TRACK                                          0\n",
       "DISTANCE_TRACK_VINCENTY                                 0\n",
       "34KN_POP                                              234\n",
       "64KN_POP                                              234\n",
       "96KN_POP                                              234\n",
       "64KN_ASSETS                                           235\n",
       "34KN_ASSETS                                           235\n",
       "96KN_ASSETS                                           235\n",
       "TOTAL_DAMAGE_(000$)                                   325\n",
       "TOTAL_DEATHS                                          138\n",
       "POP_DEN_SQ_KM                                           0\n",
       "RURAL_POP(%)                                            0\n",
       "HDI                                                     0\n",
       "Arable land (hectares per person)                       1\n",
       "Cereal yield (kg per hectare)                          10\n",
       "Food production index (2004-2006 = 100)                 4\n",
       "GDP per capita (constant 2010 US$)                      9\n",
       "Net flows from UN agencies US$                          0\n",
       "Life expectancy at birth, total (years)                 4\n",
       "Adjusted savings: education expenditure (% of GNI)     10\n",
       "Income_level_Final                                      0\n",
       "POP_MAX_34_ADJ                                         79\n",
       "POP_MAX_50_ADJ                                         79\n",
       "POP_MAX_64_ADJ                                         79\n",
       "TOTAL_AFFECTED                                          0\n",
       "dtype: int64"
      ]
     },
     "execution_count": 6,
     "metadata": {},
     "output_type": "execute_result"
    }
   ],
   "source": [
    "df1.isna().sum() "
   ]
  },
  {
   "cell_type": "code",
   "execution_count": 7,
   "metadata": {},
   "outputs": [],
   "source": [
    "df1.dropna(subset=['POP_MAX_34_ADJ'], inplace=True)   ### delete rows with missing 'POP_MAX_34'  ## version 12\n",
    "#df1.dropna(subset=['pop_max_34_adj'], inplace=True)  ## version 10"
   ]
  },
  {
   "cell_type": "code",
   "execution_count": 8,
   "metadata": {},
   "outputs": [
    {
     "data": {
      "text/plain": [
       "count    9.400000e+02\n",
       "mean     6.139378e+05\n",
       "std      2.053699e+06\n",
       "min      2.000000e+00\n",
       "25%      3.130500e+03\n",
       "50%      3.000000e+04\n",
       "75%      2.746000e+05\n",
       "max      2.962200e+07\n",
       "Name: TOTAL_AFFECTED, dtype: float64"
      ]
     },
     "execution_count": 8,
     "metadata": {},
     "output_type": "execute_result"
    }
   ],
   "source": [
    "df1['TOTAL_AFFECTED'].describe()"
   ]
  },
  {
   "cell_type": "markdown",
   "metadata": {},
   "source": [
    "## Finding the feature with the heighest correlation, to stratify the train and test sets"
   ]
  },
  {
   "cell_type": "code",
   "execution_count": 9,
   "metadata": {},
   "outputs": [
    {
     "data": {
      "text/plain": [
       "TOTAL_AFFECTED                                        1.000000\n",
       "Net flows from UN agencies US$                        0.186385\n",
       "34KN_POP                                              0.185251\n",
       "96KN_POP                                              0.176227\n",
       "64KN_POP                                              0.149334\n",
       "POP_MAX_34_ADJ                                        0.136717\n",
       "RURAL_POP(%)                                          0.119818\n",
       "MAX_WIND                                              0.107496\n",
       "TOTAL_HOURS_IN_LAND                                   0.101995\n",
       "POP_MAX_50_ADJ                                        0.101608\n",
       "MAX_USA_SSHS                                          0.084889\n",
       "Cereal yield (kg per hectare)                         0.070278\n",
       "YEAR                                                  0.070140\n",
       "POP_DEN_SQ_KM                                         0.069116\n",
       "TOTAL_DEATHS                                          0.057042\n",
       "MONTH_END                                             0.054474\n",
       "MONTH_START                                           0.054041\n",
       "Food production index (2004-2006 = 100)               0.049165\n",
       "TOTAL_DAMAGE_(000$)                                   0.029220\n",
       "Life expectancy at birth, total (years)               0.014728\n",
       "DISTANCE_TRACK_VINCENTY                               0.003062\n",
       "MIN_PRES                                             -0.002437\n",
       "POP_MAX_64_ADJ                                       -0.004050\n",
       "V_LAND_KN                                            -0.008897\n",
       "96KN_ASSETS                                          -0.012706\n",
       "MAX_STORMSPEED                                       -0.013017\n",
       "DISTANCE_TRACK                                       -0.020134\n",
       "TOTAL_HOURS_EVENT                                    -0.020569\n",
       "34KN_ASSETS                                          -0.042962\n",
       "64KN_ASSETS                                          -0.053028\n",
       "Arable land (hectares per person)                    -0.057837\n",
       "HDI                                                  -0.079103\n",
       "MIN_DIST2LAND                                        -0.085784\n",
       "Adjusted savings: education expenditure (% of GNI)   -0.086709\n",
       "GDP per capita (constant 2010 US$)                   -0.108272\n",
       "Name: TOTAL_AFFECTED, dtype: float64"
      ]
     },
     "execution_count": 9,
     "metadata": {},
     "output_type": "execute_result"
    }
   ],
   "source": [
    "corr_matrix = df1.corr()\n",
    "corr_matrix['TOTAL_AFFECTED'].sort_values(ascending = False)"
   ]
  },
  {
   "cell_type": "code",
   "execution_count": 10,
   "metadata": {},
   "outputs": [],
   "source": [
    "strat_col = 'POP_MAX_34_ADJ'"
   ]
  },
  {
   "cell_type": "code",
   "execution_count": 11,
   "metadata": {},
   "outputs": [
    {
     "data": {
      "text/plain": [
       "count    9.400000e+02\n",
       "mean     3.325842e+07\n",
       "std      8.772341e+07\n",
       "min      0.000000e+00\n",
       "25%      3.264921e+06\n",
       "50%      1.153435e+07\n",
       "75%      3.631258e+07\n",
       "max      2.039539e+09\n",
       "Name: POP_MAX_34_ADJ, dtype: float64"
      ]
     },
     "execution_count": 11,
     "metadata": {},
     "output_type": "execute_result"
    }
   ],
   "source": [
    "df[strat_col].describe()"
   ]
  },
  {
   "cell_type": "markdown",
   "metadata": {},
   "source": [
    "## Create the bins and make sure that the highest values of the column are included"
   ]
  },
  {
   "cell_type": "code",
   "execution_count": 12,
   "metadata": {},
   "outputs": [],
   "source": [
    "bins = [0, 10000,100000, 500000,1000000, 5000000, 10000000, 25000000, 50000000 ,100000000, 500000000, max(df1[strat_col])]"
   ]
  },
  {
   "cell_type": "code",
   "execution_count": 13,
   "metadata": {},
   "outputs": [],
   "source": [
    "df1[strat_col +'_cat']= pd.cut(df1[strat_col], bins, include_lowest=True)"
   ]
  },
  {
   "cell_type": "code",
   "execution_count": 14,
   "metadata": {},
   "outputs": [
    {
     "data": {
      "text/html": [
       "<div>\n",
       "<style scoped>\n",
       "    .dataframe tbody tr th:only-of-type {\n",
       "        vertical-align: middle;\n",
       "    }\n",
       "\n",
       "    .dataframe tbody tr th {\n",
       "        vertical-align: top;\n",
       "    }\n",
       "\n",
       "    .dataframe thead th {\n",
       "        text-align: right;\n",
       "    }\n",
       "</style>\n",
       "<table border=\"1\" class=\"dataframe\">\n",
       "  <thead>\n",
       "    <tr style=\"text-align: right;\">\n",
       "      <th></th>\n",
       "      <th>POP_MAX_34_ADJ_cat</th>\n",
       "      <th>POP_MAX_34_ADJ</th>\n",
       "    </tr>\n",
       "  </thead>\n",
       "  <tbody>\n",
       "    <tr>\n",
       "      <th>0</th>\n",
       "      <td>(10000000.0, 25000000.0]</td>\n",
       "      <td>1.198300e+07</td>\n",
       "    </tr>\n",
       "    <tr>\n",
       "      <th>1</th>\n",
       "      <td>(25000000.0, 50000000.0]</td>\n",
       "      <td>3.160822e+07</td>\n",
       "    </tr>\n",
       "    <tr>\n",
       "      <th>2</th>\n",
       "      <td>(1000000.0, 5000000.0]</td>\n",
       "      <td>1.689243e+06</td>\n",
       "    </tr>\n",
       "    <tr>\n",
       "      <th>3</th>\n",
       "      <td>(1000000.0, 5000000.0]</td>\n",
       "      <td>4.760039e+06</td>\n",
       "    </tr>\n",
       "    <tr>\n",
       "      <th>4</th>\n",
       "      <td>(5000000.0, 10000000.0]</td>\n",
       "      <td>5.130796e+06</td>\n",
       "    </tr>\n",
       "    <tr>\n",
       "      <th>...</th>\n",
       "      <td>...</td>\n",
       "      <td>...</td>\n",
       "    </tr>\n",
       "    <tr>\n",
       "      <th>1013</th>\n",
       "      <td>(1000000.0, 5000000.0]</td>\n",
       "      <td>3.900000e+06</td>\n",
       "    </tr>\n",
       "    <tr>\n",
       "      <th>1014</th>\n",
       "      <td>(1000000.0, 5000000.0]</td>\n",
       "      <td>2.396895e+06</td>\n",
       "    </tr>\n",
       "    <tr>\n",
       "      <th>1015</th>\n",
       "      <td>(100000.0, 500000.0]</td>\n",
       "      <td>2.341183e+05</td>\n",
       "    </tr>\n",
       "    <tr>\n",
       "      <th>1017</th>\n",
       "      <td>(1000000.0, 5000000.0]</td>\n",
       "      <td>3.758703e+06</td>\n",
       "    </tr>\n",
       "    <tr>\n",
       "      <th>1018</th>\n",
       "      <td>(50000000.0, 100000000.0]</td>\n",
       "      <td>7.746583e+07</td>\n",
       "    </tr>\n",
       "  </tbody>\n",
       "</table>\n",
       "<p>940 rows × 2 columns</p>\n",
       "</div>"
      ],
      "text/plain": [
       "             POP_MAX_34_ADJ_cat  POP_MAX_34_ADJ\n",
       "0      (10000000.0, 25000000.0]    1.198300e+07\n",
       "1      (25000000.0, 50000000.0]    3.160822e+07\n",
       "2        (1000000.0, 5000000.0]    1.689243e+06\n",
       "3        (1000000.0, 5000000.0]    4.760039e+06\n",
       "4       (5000000.0, 10000000.0]    5.130796e+06\n",
       "...                         ...             ...\n",
       "1013     (1000000.0, 5000000.0]    3.900000e+06\n",
       "1014     (1000000.0, 5000000.0]    2.396895e+06\n",
       "1015       (100000.0, 500000.0]    2.341183e+05\n",
       "1017     (1000000.0, 5000000.0]    3.758703e+06\n",
       "1018  (50000000.0, 100000000.0]    7.746583e+07\n",
       "\n",
       "[940 rows x 2 columns]"
      ]
     },
     "execution_count": 14,
     "metadata": {},
     "output_type": "execute_result"
    }
   ],
   "source": [
    "df1[[strat_col +'_cat', strat_col]]"
   ]
  },
  {
   "cell_type": "code",
   "execution_count": 15,
   "metadata": {},
   "outputs": [
    {
     "data": {
      "text/plain": [
       "(-0.001, 10000.0]                9\n",
       "(10000.0, 100000.0]             36\n",
       "(100000.0, 500000.0]            36\n",
       "(500000.0, 1000000.0]           35\n",
       "(1000000.0, 5000000.0]         191\n",
       "(5000000.0, 10000000.0]        117\n",
       "(10000000.0, 25000000.0]       206\n",
       "(25000000.0, 50000000.0]       133\n",
       "(50000000.0, 100000000.0]      103\n",
       "(100000000.0, 500000000.0]      72\n",
       "(500000000.0, 2039538625.0]      2\n",
       "Name: POP_MAX_34_ADJ_cat, dtype: int64"
      ]
     },
     "execution_count": 15,
     "metadata": {},
     "output_type": "execute_result"
    }
   ],
   "source": [
    "df1[strat_col +'_cat'].value_counts().sort_index()"
   ]
  },
  {
   "cell_type": "markdown",
   "metadata": {},
   "source": [
    "### Check that there are no NaN in the column, because this will break StratifiedShuffleSplit"
   ]
  },
  {
   "cell_type": "code",
   "execution_count": 16,
   "metadata": {},
   "outputs": [
    {
     "data": {
      "text/plain": [
       "0"
      ]
     },
     "execution_count": 16,
     "metadata": {},
     "output_type": "execute_result"
    }
   ],
   "source": [
    "df1[strat_col +'_cat'].isna().sum()"
   ]
  },
  {
   "cell_type": "code",
   "execution_count": 17,
   "metadata": {},
   "outputs": [
    {
     "data": {
      "image/png": "[encoded data removed]",
      "text/plain": [
       "<Figure size 1440x1080 with 36 Axes>"
      ]
     },
     "metadata": {},
     "output_type": "display_data"
    }
   ],
   "source": [
    "df1.hist(bins=50, figsize=(20,15))\n",
    "plt.show()"
   ]
  },
  {
   "cell_type": "code",
   "execution_count": 18,
   "metadata": {},
   "outputs": [
    {
     "data": {
      "text/html": [
       "<div>\n",
       "<style scoped>\n",
       "    .dataframe tbody tr th:only-of-type {\n",
       "        vertical-align: middle;\n",
       "    }\n",
       "\n",
       "    .dataframe tbody tr th {\n",
       "        vertical-align: top;\n",
       "    }\n",
       "\n",
       "    .dataframe thead th {\n",
       "        text-align: right;\n",
       "    }\n",
       "</style>\n",
       "<table border=\"1\" class=\"dataframe\">\n",
       "  <thead>\n",
       "    <tr style=\"text-align: right;\">\n",
       "      <th></th>\n",
       "      <th>SID</th>\n",
       "      <th>NAME</th>\n",
       "      <th>ISO</th>\n",
       "      <th>YEAR</th>\n",
       "      <th>COORDS</th>\n",
       "      <th>COORDS_MAX_WINDS</th>\n",
       "      <th>COORDS_MIN_DIST2LAND</th>\n",
       "      <th>BASIN</th>\n",
       "      <th>SUB BASIN</th>\n",
       "      <th>MONTH_START</th>\n",
       "      <th>...</th>\n",
       "      <th>Food production index (2004-2006 = 100)</th>\n",
       "      <th>GDP per capita (constant 2010 US$)</th>\n",
       "      <th>Net flows from UN agencies US$</th>\n",
       "      <th>Life expectancy at birth, total (years)</th>\n",
       "      <th>Adjusted savings: education expenditure (% of GNI)</th>\n",
       "      <th>Income_level_Final</th>\n",
       "      <th>POP_MAX_34_ADJ</th>\n",
       "      <th>POP_MAX_50_ADJ</th>\n",
       "      <th>POP_MAX_64_ADJ</th>\n",
       "      <th>POP_MAX_34_ADJ_cat</th>\n",
       "    </tr>\n",
       "  </thead>\n",
       "  <tbody>\n",
       "    <tr>\n",
       "      <th>0</th>\n",
       "      <td>1949163N07145</td>\n",
       "      <td>DELLA</td>\n",
       "      <td>JPN</td>\n",
       "      <td>1949</td>\n",
       "      <td>[(21.5, 125.424), (22.2, 125.8), (22.9089, 126...</td>\n",
       "      <td>[(27.6584, 128.82), (28.9141, 129.572999999999...</td>\n",
       "      <td>[(31.9866, 130.683), (33.5183, 130.97299999999...</td>\n",
       "      <td>WP</td>\n",
       "      <td>WP</td>\n",
       "      <td>6</td>\n",
       "      <td>...</td>\n",
       "      <td>67.79</td>\n",
       "      <td>8607.657082</td>\n",
       "      <td>0.0</td>\n",
       "      <td>67.666098</td>\n",
       "      <td>2.867878</td>\n",
       "      <td>Low</td>\n",
       "      <td>1.198300e+07</td>\n",
       "      <td>5.803981e+06</td>\n",
       "      <td>3.320907e+06</td>\n",
       "      <td>(10000000.0, 25000000.0]</td>\n",
       "    </tr>\n",
       "    <tr>\n",
       "      <th>1</th>\n",
       "      <td>1950241N23140</td>\n",
       "      <td>JANE</td>\n",
       "      <td>JPN</td>\n",
       "      <td>1950</td>\n",
       "      <td>[(23.8845, 139.74), (23.9335, 139.639), (23.98...</td>\n",
       "      <td>[(28.7509, 133.748), (29.1201, 133.762), (29.6...</td>\n",
       "      <td>[(34.9374, 135.476), (36.1016, 136.095), (37.2...</td>\n",
       "      <td>WP</td>\n",
       "      <td>WP</td>\n",
       "      <td>8</td>\n",
       "      <td>...</td>\n",
       "      <td>67.79</td>\n",
       "      <td>8607.657082</td>\n",
       "      <td>0.0</td>\n",
       "      <td>67.666098</td>\n",
       "      <td>2.867878</td>\n",
       "      <td>Low</td>\n",
       "      <td>3.160822e+07</td>\n",
       "      <td>1.559196e+07</td>\n",
       "      <td>1.018936e+07</td>\n",
       "      <td>(25000000.0, 50000000.0]</td>\n",
       "    </tr>\n",
       "    <tr>\n",
       "      <th>2</th>\n",
       "      <td>1951224N12316</td>\n",
       "      <td>CHARLIE</td>\n",
       "      <td>JAM</td>\n",
       "      <td>1951</td>\n",
       "      <td>[(17.3398, -75.4138), (17.6, -76.2), (17.9, -7...</td>\n",
       "      <td>[(17.6, -76.2), (17.9, -76.9)]</td>\n",
       "      <td>[(17.9, -76.9), (18.1, -77.8)]</td>\n",
       "      <td>NAm</td>\n",
       "      <td>CS</td>\n",
       "      <td>8</td>\n",
       "      <td>...</td>\n",
       "      <td>69.93</td>\n",
       "      <td>3796.219401</td>\n",
       "      <td>0.0</td>\n",
       "      <td>64.770000</td>\n",
       "      <td>2.578304</td>\n",
       "      <td>Low</td>\n",
       "      <td>1.689243e+06</td>\n",
       "      <td>1.687083e+06</td>\n",
       "      <td>1.195052e+06</td>\n",
       "      <td>(1000000.0, 5000000.0]</td>\n",
       "    </tr>\n",
       "    <tr>\n",
       "      <th>3</th>\n",
       "      <td>1951337N09150</td>\n",
       "      <td>AMY</td>\n",
       "      <td>PHL</td>\n",
       "      <td>1951</td>\n",
       "      <td>[(12.0725, 130.967), (12.1333, 130.517), (12.1...</td>\n",
       "      <td>[(11.7833, 127.9)]</td>\n",
       "      <td>[(10.7333, 124.8), (10.534, 123.174), (10.6833...</td>\n",
       "      <td>WP</td>\n",
       "      <td>WP</td>\n",
       "      <td>12</td>\n",
       "      <td>...</td>\n",
       "      <td>25.68</td>\n",
       "      <td>1059.467412</td>\n",
       "      <td>0.0</td>\n",
       "      <td>61.105000</td>\n",
       "      <td>2.757732</td>\n",
       "      <td>Low_Middle</td>\n",
       "      <td>4.760039e+06</td>\n",
       "      <td>3.006670e+06</td>\n",
       "      <td>1.114774e+06</td>\n",
       "      <td>(1000000.0, 5000000.0]</td>\n",
       "    </tr>\n",
       "    <tr>\n",
       "      <th>4</th>\n",
       "      <td>1952180N05144</td>\n",
       "      <td>EMMA</td>\n",
       "      <td>PHL</td>\n",
       "      <td>1952</td>\n",
       "      <td>[(9.33776, 130.185), (9.38633, 129.61), (9.45,...</td>\n",
       "      <td>[(9.45, 129.017), (9.50407, 128.407), (9.56613...</td>\n",
       "      <td>[(10.4667, 123.867), (10.6492, 123.239), (10.8...</td>\n",
       "      <td>WP</td>\n",
       "      <td>WP</td>\n",
       "      <td>7</td>\n",
       "      <td>...</td>\n",
       "      <td>25.68</td>\n",
       "      <td>1059.467412</td>\n",
       "      <td>0.0</td>\n",
       "      <td>61.105000</td>\n",
       "      <td>2.757732</td>\n",
       "      <td>Low_Middle</td>\n",
       "      <td>5.130796e+06</td>\n",
       "      <td>2.789486e+06</td>\n",
       "      <td>1.988524e+06</td>\n",
       "      <td>(5000000.0, 10000000.0]</td>\n",
       "    </tr>\n",
       "  </tbody>\n",
       "</table>\n",
       "<p>5 rows × 51 columns</p>\n",
       "</div>"
      ],
      "text/plain": [
       "             SID     NAME  ISO  YEAR  \\\n",
       "0  1949163N07145    DELLA  JPN  1949   \n",
       "1  1950241N23140     JANE  JPN  1950   \n",
       "2  1951224N12316  CHARLIE  JAM  1951   \n",
       "3  1951337N09150      AMY  PHL  1951   \n",
       "4  1952180N05144     EMMA  PHL  1952   \n",
       "\n",
       "                                              COORDS  \\\n",
       "0  [(21.5, 125.424), (22.2, 125.8), (22.9089, 126...   \n",
       "1  [(23.8845, 139.74), (23.9335, 139.639), (23.98...   \n",
       "2  [(17.3398, -75.4138), (17.6, -76.2), (17.9, -7...   \n",
       "3  [(12.0725, 130.967), (12.1333, 130.517), (12.1...   \n",
       "4  [(9.33776, 130.185), (9.38633, 129.61), (9.45,...   \n",
       "\n",
       "                                    COORDS_MAX_WINDS  \\\n",
       "0  [(27.6584, 128.82), (28.9141, 129.572999999999...   \n",
       "1  [(28.7509, 133.748), (29.1201, 133.762), (29.6...   \n",
       "2                     [(17.6, -76.2), (17.9, -76.9)]   \n",
       "3                                 [(11.7833, 127.9)]   \n",
       "4  [(9.45, 129.017), (9.50407, 128.407), (9.56613...   \n",
       "\n",
       "                                COORDS_MIN_DIST2LAND BASIN SUB BASIN  \\\n",
       "0  [(31.9866, 130.683), (33.5183, 130.97299999999...    WP        WP   \n",
       "1  [(34.9374, 135.476), (36.1016, 136.095), (37.2...    WP        WP   \n",
       "2                     [(17.9, -76.9), (18.1, -77.8)]   NAm        CS   \n",
       "3  [(10.7333, 124.8), (10.534, 123.174), (10.6833...    WP        WP   \n",
       "4  [(10.4667, 123.867), (10.6492, 123.239), (10.8...    WP        WP   \n",
       "\n",
       "   MONTH_START  ...  Food production index (2004-2006 = 100)  \\\n",
       "0            6  ...                                    67.79   \n",
       "1            8  ...                                    67.79   \n",
       "2            8  ...                                    69.93   \n",
       "3           12  ...                                    25.68   \n",
       "4            7  ...                                    25.68   \n",
       "\n",
       "  GDP per capita (constant 2010 US$) Net flows from UN agencies US$  \\\n",
       "0                        8607.657082                            0.0   \n",
       "1                        8607.657082                            0.0   \n",
       "2                        3796.219401                            0.0   \n",
       "3                        1059.467412                            0.0   \n",
       "4                        1059.467412                            0.0   \n",
       "\n",
       "  Life expectancy at birth, total (years)  \\\n",
       "0                               67.666098   \n",
       "1                               67.666098   \n",
       "2                               64.770000   \n",
       "3                               61.105000   \n",
       "4                               61.105000   \n",
       "\n",
       "  Adjusted savings: education expenditure (% of GNI)  Income_level_Final  \\\n",
       "0                                           2.867878                 Low   \n",
       "1                                           2.867878                 Low   \n",
       "2                                           2.578304                 Low   \n",
       "3                                           2.757732          Low_Middle   \n",
       "4                                           2.757732          Low_Middle   \n",
       "\n",
       "   POP_MAX_34_ADJ POP_MAX_50_ADJ POP_MAX_64_ADJ        POP_MAX_34_ADJ_cat  \n",
       "0    1.198300e+07   5.803981e+06   3.320907e+06  (10000000.0, 25000000.0]  \n",
       "1    3.160822e+07   1.559196e+07   1.018936e+07  (25000000.0, 50000000.0]  \n",
       "2    1.689243e+06   1.687083e+06   1.195052e+06    (1000000.0, 5000000.0]  \n",
       "3    4.760039e+06   3.006670e+06   1.114774e+06    (1000000.0, 5000000.0]  \n",
       "4    5.130796e+06   2.789486e+06   1.988524e+06   (5000000.0, 10000000.0]  \n",
       "\n",
       "[5 rows x 51 columns]"
      ]
     },
     "execution_count": 18,
     "metadata": {},
     "output_type": "execute_result"
    }
   ],
   "source": [
    "#Splitting into target and features\n",
    "X = df1.drop('TOTAL_AFFECTED', axis=1)\n",
    "X.head()"
   ]
  },
  {
   "cell_type": "code",
   "execution_count": 19,
   "metadata": {},
   "outputs": [
    {
     "data": {
      "text/plain": [
       "0    194046\n",
       "1    642117\n",
       "2     20200\n",
       "3     60000\n",
       "4       103\n",
       "Name: TOTAL_AFFECTED, dtype: int64"
      ]
     },
     "execution_count": 19,
     "metadata": {},
     "output_type": "execute_result"
    }
   ],
   "source": [
    "y = df1['TOTAL_AFFECTED']\n",
    "y.head()"
   ]
  },
  {
   "cell_type": "markdown",
   "metadata": {},
   "source": [
    "## Splitting the dataset using stratified sampling"
   ]
  },
  {
   "cell_type": "code",
   "execution_count": 20,
   "metadata": {},
   "outputs": [],
   "source": [
    "test_split = StratifiedShuffleSplit(n_splits=1,test_size=0.2,random_state=42)\n",
    "train_split = StratifiedShuffleSplit(n_splits=1,test_size=0.25,random_state=42)\n",
    "\n",
    "for train_index, test_index in test_split.split(X, X[strat_col +'_cat']):\n",
    "    train_set = X.iloc[train_index]\n",
    "    prov_train_label = y.iloc[train_index]\n",
    "    strat_test_set = X.iloc[test_index]\n",
    "    strat_test_label = y.iloc[test_index]\n",
    "    \n",
    "for train_index, val_index in train_split.split(train_set, train_set[strat_col +'_cat']):\n",
    "    strat_train_set = train_set.iloc[train_index]\n",
    "    strat_train_label = prov_train_label.iloc[train_index]\n",
    "    strat_val_set = train_set.iloc[val_index]\n",
    "    strat_val_label = y.iloc[test_index]"
   ]
  },
  {
   "cell_type": "code",
   "execution_count": 21,
   "metadata": {},
   "outputs": [
    {
     "data": {
      "text/plain": [
       "((564, 51), (188, 51), (188, 51))"
      ]
     },
     "execution_count": 21,
     "metadata": {},
     "output_type": "execute_result"
    }
   ],
   "source": [
    "strat_train_set.shape, strat_val_set.shape, strat_test_set.shape"
   ]
  },
  {
   "cell_type": "code",
   "execution_count": 22,
   "metadata": {},
   "outputs": [
    {
     "data": {
      "text/plain": [
       "((564,), (188,), (188,))"
      ]
     },
     "execution_count": 22,
     "metadata": {},
     "output_type": "execute_result"
    }
   ],
   "source": [
    "strat_train_label.shape, strat_val_label.shape, strat_test_label.shape"
   ]
  },
  {
   "cell_type": "code",
   "execution_count": 23,
   "metadata": {},
   "outputs": [],
   "source": [
    "## TODO: add assertion "
   ]
  }
 ],
 "metadata": {
  "kernelspec": {
   "display_name": "Python 3",
   "language": "python",
   "name": "python3"
  },
  "language_info": {
   "codemirror_mode": {
    "name": "ipython",
    "version": 3
   },
   "file_extension": ".py",
   "mimetype": "text/x-python",
   "name": "python",
   "nbconvert_exporter": "python",
   "pygments_lexer": "ipython3",
   "version": "3.7.7"
  }
 },
 "nbformat": 4,
 "nbformat_minor": 4
}
