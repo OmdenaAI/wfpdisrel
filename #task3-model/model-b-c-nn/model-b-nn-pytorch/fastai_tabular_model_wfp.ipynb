{
 "cells": [
  {
   "cell_type": "markdown",
   "metadata": {},
   "source": [
    "@Author: Dev Bharti\n",
    "Prior understanding of FastAI tabular model is necessary. Refer to their video 4 for more information (https://course.fast.ai/videos/?lesson=4)"
   ]
  },
  {
   "cell_type": "code",
   "execution_count": 1,
   "metadata": {},
   "outputs": [],
   "source": [
    "%reload_ext autoreload\n",
    "%autoreload 2"
   ]
  },
  {
   "cell_type": "code",
   "execution_count": 2,
   "metadata": {},
   "outputs": [
    {
     "name": "stderr",
     "output_type": "stream",
     "text": [
      "\n",
      "Bad key \"text.kerning_factor\" on line 4 in\n",
      "/home/dev/anaconda3/envs/deep_ai/lib/python3.8/site-packages/matplotlib/mpl-data/stylelib/_classic_test_patch.mplstyle.\n",
      "You probably need to get an updated matplotlibrc file from\n",
      "https://github.com/matplotlib/matplotlib/blob/v3.1.3/matplotlibrc.template\n",
      "or from the matplotlib source distribution\n"
     ]
    }
   ],
   "source": [
    "from fastai.tabular import *"
   ]
  },
  {
   "cell_type": "markdown",
   "metadata": {},
   "source": [
    "# Create the dataframe from CSV and remove unnecessary columns"
   ]
  },
  {
   "cell_type": "code",
   "execution_count": 211,
   "metadata": {},
   "outputs": [],
   "source": [
    "df_orig = pd.read_csv('OUTPUT_WBI_exposer_cyclones_v10.csv')"
   ]
  },
  {
   "cell_type": "code",
   "execution_count": 212,
   "metadata": {},
   "outputs": [],
   "source": [
    "df_orig_del_columns = df_orig.drop(['SID', 'NAME', 'ISO', 'YEAR', 'COORDS', 'DAY_HRS', 'NIGHT_HRS', 'in_wbi',\n",
    "                 '34KN_POP', '34KN_ASSETS', '64KN_POP', '64KN_ASSETS', '96KN_POP', '96KN_ASSETS'], \n",
    "                 axis = 1)"
   ]
  },
  {
   "cell_type": "code",
   "execution_count": 213,
   "metadata": {},
   "outputs": [],
   "source": [
    "train_df = df_orig_del_columns[:1000]\n",
    "test_df = df_orig_del_columns[1000:]"
   ]
  },
  {
   "cell_type": "code",
   "execution_count": 214,
   "metadata": {},
   "outputs": [
    {
     "data": {
      "text/plain": [
       "(1005, 1000, 5)"
      ]
     },
     "execution_count": 214,
     "metadata": {},
     "output_type": "execute_result"
    }
   ],
   "source": [
    "len(df_orig_del_columns), len(train_df), len(test_df)"
   ]
  },
  {
   "cell_type": "code",
   "execution_count": 215,
   "metadata": {},
   "outputs": [
    {
     "name": "stderr",
     "output_type": "stream",
     "text": [
      "<ipython-input-215-49c5d73420ca>:2: SettingWithCopyWarning: \n",
      "A value is trying to be set on a copy of a slice from a DataFrame.\n",
      "Try using .loc[row_indexer,col_indexer] = value instead\n",
      "\n",
      "See the caveats in the documentation: https://pandas.pydata.org/pandas-docs/stable/user_guide/indexing.html#returning-a-view-versus-a-copy\n",
      "  train_df['Month'] = train_df.ISO_TIME.apply(lambda x: x[7:9]).astype(int)\n",
      "<ipython-input-215-49c5d73420ca>:3: SettingWithCopyWarning: \n",
      "A value is trying to be set on a copy of a slice from a DataFrame.\n",
      "Try using .loc[row_indexer,col_indexer] = value instead\n",
      "\n",
      "See the caveats in the documentation: https://pandas.pydata.org/pandas-docs/stable/user_guide/indexing.html#returning-a-view-versus-a-copy\n",
      "  test_df['Month'] = train_df.ISO_TIME.apply(lambda x: x[7:9]).astype(int)\n"
     ]
    }
   ],
   "source": [
    "# Adding month per Vamsi's code in SVM folder\n",
    "train_df['Month'] = train_df.ISO_TIME.apply(lambda x: x[7:9]).astype(int)\n",
    "test_df['Month'] = train_df.ISO_TIME.apply(lambda x: x[7:9]).astype(int)"
   ]
  },
  {
   "cell_type": "code",
   "execution_count": 216,
   "metadata": {},
   "outputs": [
    {
     "data": {
      "text/plain": [
       "array([ 6,  9,  8, 12,  7, 10, 11,  5,  1,  2,  4,  3])"
      ]
     },
     "execution_count": 216,
     "metadata": {},
     "output_type": "execute_result"
    }
   ],
   "source": [
    "train_df['Month'].unique()"
   ]
  },
  {
   "cell_type": "code",
   "execution_count": 217,
   "metadata": {},
   "outputs": [],
   "source": [
    "# # Using Xavier's CPI logic...\n",
    "# train_df[\"TOTAL_DAMAGE_(000$)_Adjusted\"]= train_df[\"TOTAL_DAMAGE_(000$)\"] / train_df[\"CPI\"]\n",
    "# train_df[\"TOTAL_DAMAGE_(000$)_Adjusted\"]= train_df[\"TOTAL_DAMAGE_(000$)_Adjusted\"].replace(0, np.nan)\n",
    "# train_df = train_df.drop([\"TOTAL_DAMAGE_(000$)\",'CPI'], axis=1)\n",
    "# df[\"TOTAL_DAMAGE_(000$)_Adjusted\"].isna().sum()"
   ]
  },
  {
   "cell_type": "code",
   "execution_count": 218,
   "metadata": {},
   "outputs": [],
   "source": [
    "# len(df_mod)/16"
   ]
  },
  {
   "cell_type": "code",
   "execution_count": 185,
   "metadata": {},
   "outputs": [
    {
     "data": {
      "text/plain": [
       "Unnamed: 0                                               0\n",
       "BASIN                                                    0\n",
       "SUB BASIN                                                0\n",
       "NATURE                                                   0\n",
       "ISO_TIME                                                 0\n",
       "TOTAL_HRS                                                0\n",
       "USA_SSHS                                                 0\n",
       "WIND_CALC_MEAN                                           4\n",
       "PRES_CALC_MEAN                                           0\n",
       "STORM_SPD_MEAN                                           0\n",
       "STORM_DR_MEAN                                            0\n",
       "V_LAND_KN                                                0\n",
       "CPI                                                      0\n",
       "TOTAL_DAMAGE_(000$)                                    317\n",
       "TOTAL_DEATHS                                           134\n",
       "Air transport, freight (million ton-km)                154\n",
       "Arable land (hectares per person)                        1\n",
       "Cereal yield (kg per hectare)                           10\n",
       "Food production index (2004-2006 = 100)                  4\n",
       "GDP growth (annual %)                                   40\n",
       "GDP per capita (constant 2010 US$)                       9\n",
       "Net flows from UN agencies US$                           0\n",
       "Life expectancy at birth, total (years)                  4\n",
       "Mobile cellular subscriptions (per 100 people)           9\n",
       "Population density (people per sq. km of land area)      0\n",
       "Adjusted savings: education expenditure (% of GNI)      10\n",
       "Rural population (% of total population)                 0\n",
       "Income_level_Final                                       0\n",
       "TOTAL_AFFECTED                                           0\n",
       "pop_max_34                                              79\n",
       "pop_max_50                                              79\n",
       "pop_max_64                                              79\n",
       "pop_max_34_adj                                          79\n",
       "pop_max_50_adj                                          79\n",
       "pop_max_64_adj                                          79\n",
       "Month                                                    0\n",
       "dtype: int64"
      ]
     },
     "execution_count": 185,
     "metadata": {},
     "output_type": "execute_result"
    }
   ],
   "source": [
    "train_df.isna().sum()"
   ]
  },
  {
   "cell_type": "markdown",
   "metadata": {},
   "source": [
    "# Prepare the categorical variables and continous variables to be passed to the Tabular Model"
   ]
  },
  {
   "cell_type": "code",
   "execution_count": 219,
   "metadata": {},
   "outputs": [],
   "source": [
    "dep_var = 'TOTAL_AFFECTED'\n",
    "\n",
    "cat_names = ['BASIN', \n",
    "             'SUB BASIN', \n",
    "             'NATURE', \n",
    "             'Income_level_Final', \n",
    "             'USA_SSHS',\n",
    "             'Month']\n",
    "\n",
    "cont_names = ['TOTAL_HRS',\n",
    "              'PRES_CALC_MEAN', \n",
    "              'STORM_SPD_MEAN', \n",
    "              'STORM_DR_MEAN',\n",
    "              'Mobile cellular subscriptions (per 100 people)',\n",
    "              'Population density (people per sq. km of land area)',\n",
    "              'V_LAND_KN',\n",
    "              'Arable land (hectares per person)',\n",
    "              'GDP per capita (constant 2010 US$)',\n",
    "              'Air transport, freight (million ton-km)',\n",
    "              'Cereal yield (kg per hectare)',\n",
    "              'Food production index (2004-2006 = 100)',\n",
    "              'GDP growth (annual %)',\n",
    "              'Life expectancy at birth, total (years)',\n",
    "              'Adjusted savings: education expenditure (% of GNI)',\n",
    "              'Rural population (% of total population)']\n",
    "\n",
    "# cont_names_new = ['TOTAL_HRS',\n",
    "#               'PRES_CALC_MEAN', \n",
    "#               'STORM_SPD_MEAN', \n",
    "#               'STORM_DR_MEAN',\n",
    "#               'V_LAND_KN']\n",
    "\n",
    "#Features not used:\n",
    "# WIND_CALC_MEAN\n",
    "# 34KN_POP\n",
    "# 34KN_ASSETS\n",
    "# 64KN_POP\n",
    "# 64KN_ASSETS\n",
    "# 96KN_POP\n",
    "# 96KN_ASSETS\n",
    "# Net flows from UN agencies US$\n",
    "# pop_max_34                                              \n",
    "# pop_max_50                                              \n",
    "# pop_max_64                                              \n",
    "# pop_max_34_adj                                          \n",
    "# pop_max_50_adj                                          \n",
    "# pop_max_64_adj \n",
    "# Total Deaths"
   ]
  },
  {
   "cell_type": "code",
   "execution_count": 220,
   "metadata": {},
   "outputs": [],
   "source": [
    "#FillMissing populates the NA values with Medians. Categorify converts categorical variables \n",
    "# into category data types and Normalise normalises the continous variables.\n",
    "procs=[FillMissing, Categorify, Normalize]"
   ]
  },
  {
   "cell_type": "code",
   "execution_count": 221,
   "metadata": {},
   "outputs": [],
   "source": [
    "#Helper function to generate a DataBunch from a dataframe, taking into account parameters\n",
    "#log = True enables logs to be used for target variable (Total Affected)\n",
    "data = (TabularList.from_df(train_df, path='.', cat_names=cat_names, cont_names=cont_names, procs=procs)\n",
    "                .split_by_rand_pct(0.25)\n",
    "                .label_from_df(cols=dep_var, label_cls=FloatList, log=True)\n",
    "                .add_test(TabularList.from_df(test_df, path='.', cat_names=cat_names, cont_names=cont_names))\n",
    "                .databunch())\n",
    "\n",
    "# data_new = (TabularList.from_df(df_mod_new, path='.', cat_names=cat_names, cont_names=cont_names_new, procs=procs)\n",
    "#                 .split_by_rand_pct()\n",
    "#                 .label_from_df(cols=dep_var, label_cls=FloatList, log=True)\n",
    "#                 .databunch())"
   ]
  },
  {
   "cell_type": "code",
   "execution_count": 222,
   "metadata": {},
   "outputs": [
    {
     "data": {
      "text/plain": [
       "(750, 250, 5)"
      ]
     },
     "execution_count": 222,
     "metadata": {},
     "output_type": "execute_result"
    }
   ],
   "source": [
    "len(data.train_ds), len(data.valid_ds), len(data.test_ds)"
   ]
  },
  {
   "cell_type": "code",
   "execution_count": 117,
   "metadata": {},
   "outputs": [],
   "source": [
    "# data_new.show_batch(10)"
   ]
  },
  {
   "cell_type": "markdown",
   "metadata": {},
   "source": [
    "# Build the model"
   ]
  },
  {
   "cell_type": "code",
   "execution_count": 118,
   "metadata": {},
   "outputs": [],
   "source": [
    "#Provides an upperbound for target variable\n",
    "max_log_y = np.log(np.max(df_mod[dep_var])*1.2)\n",
    "y_range = torch.tensor([0, max_log_y], device=defaults.device)\n",
    "\n",
    "# max_log_y = np.log(1.2) + np.max(df_mod[dep_var])\n",
    "# y_range = torch.tensor([0, max_log_y], device=defaults.device)"
   ]
  },
  {
   "cell_type": "code",
   "execution_count": 329,
   "metadata": {},
   "outputs": [],
   "source": [
    "# creates a learner with embeddings\n",
    "learn = tabular_learner(data, \n",
    "                        layers=[1000, 500], \n",
    "                        loss_func = MSELossFlat(),\n",
    "#                         y_range = y_range, \n",
    "                        metrics= [mae, msle, rmse, exp_rmspe], \n",
    "                        ps=[0.04,0.02], \n",
    "                        emb_drop=0.03)"
   ]
  },
  {
   "cell_type": "code",
   "execution_count": 330,
   "metadata": {},
   "outputs": [
    {
     "data": {
      "text/plain": [
       "TabularModel(\n",
       "  (embeds): ModuleList(\n",
       "    (0): Embedding(7, 5)\n",
       "    (1): Embedding(13, 7)\n",
       "    (2): Embedding(7, 5)\n",
       "    (3): Embedding(5, 4)\n",
       "    (4): Embedding(12, 6)\n",
       "    (5): Embedding(13, 7)\n",
       "    (6): Embedding(3, 3)\n",
       "    (7): Embedding(3, 3)\n",
       "    (8): Embedding(3, 3)\n",
       "    (9): Embedding(3, 3)\n",
       "    (10): Embedding(3, 3)\n",
       "    (11): Embedding(3, 3)\n",
       "    (12): Embedding(3, 3)\n",
       "    (13): Embedding(3, 3)\n",
       "    (14): Embedding(3, 3)\n",
       "  )\n",
       "  (emb_drop): Dropout(p=0.03, inplace=False)\n",
       "  (bn_cont): BatchNorm1d(16, eps=1e-05, momentum=0.1, affine=True, track_running_stats=True)\n",
       "  (layers): Sequential(\n",
       "    (0): Linear(in_features=77, out_features=1000, bias=True)\n",
       "    (1): ReLU(inplace=True)\n",
       "    (2): BatchNorm1d(1000, eps=1e-05, momentum=0.1, affine=True, track_running_stats=True)\n",
       "    (3): Dropout(p=0.04, inplace=False)\n",
       "    (4): Linear(in_features=1000, out_features=500, bias=True)\n",
       "    (5): ReLU(inplace=True)\n",
       "    (6): BatchNorm1d(500, eps=1e-05, momentum=0.1, affine=True, track_running_stats=True)\n",
       "    (7): Dropout(p=0.02, inplace=False)\n",
       "    (8): Linear(in_features=500, out_features=1, bias=True)\n",
       "  )\n",
       ")"
      ]
     },
     "execution_count": 330,
     "metadata": {},
     "output_type": "execute_result"
    }
   ],
   "source": [
    "learn.model"
   ]
  },
  {
   "cell_type": "code",
   "execution_count": 331,
   "metadata": {},
   "outputs": [
    {
     "data": {
      "text/html": [
       "\n",
       "    <div>\n",
       "        <style>\n",
       "            /* Turns off some styling */\n",
       "            progress {\n",
       "                /* gets rid of default border in Firefox and Opera. */\n",
       "                border: none;\n",
       "                /* Needs to be in here for Safari polyfill so background images work as expected. */\n",
       "                background-size: auto;\n",
       "            }\n",
       "            .progress-bar-interrupted, .progress-bar-interrupted::-webkit-progress-bar {\n",
       "                background: #F44336;\n",
       "            }\n",
       "        </style>\n",
       "      <progress value='8' class='' max='10', style='width:300px; height:20px; vertical-align: middle;'></progress>\n",
       "      80.00% [8/10 00:02<00:00]\n",
       "    </div>\n",
       "    \n",
       "<table border=\"1\" class=\"dataframe\">\n",
       "  <thead>\n",
       "    <tr style=\"text-align: left;\">\n",
       "      <th>epoch</th>\n",
       "      <th>train_loss</th>\n",
       "      <th>valid_loss</th>\n",
       "      <th>mean_absolute_error</th>\n",
       "      <th>mean_squared_logarithmic_error</th>\n",
       "      <th>root_mean_squared_error</th>\n",
       "      <th>exp_rmspe</th>\n",
       "      <th>time</th>\n",
       "    </tr>\n",
       "  </thead>\n",
       "  <tbody>\n",
       "    <tr>\n",
       "      <td>0</td>\n",
       "      <td>109.249290</td>\n",
       "      <td>#na#</td>\n",
       "      <td>00:00</td>\n",
       "    </tr>\n",
       "    <tr>\n",
       "      <td>1</td>\n",
       "      <td>110.792503</td>\n",
       "      <td>#na#</td>\n",
       "      <td>00:00</td>\n",
       "    </tr>\n",
       "    <tr>\n",
       "      <td>2</td>\n",
       "      <td>111.117142</td>\n",
       "      <td>#na#</td>\n",
       "      <td>00:00</td>\n",
       "    </tr>\n",
       "    <tr>\n",
       "      <td>3</td>\n",
       "      <td>110.452103</td>\n",
       "      <td>#na#</td>\n",
       "      <td>00:00</td>\n",
       "    </tr>\n",
       "    <tr>\n",
       "      <td>4</td>\n",
       "      <td>109.598953</td>\n",
       "      <td>#na#</td>\n",
       "      <td>00:00</td>\n",
       "    </tr>\n",
       "    <tr>\n",
       "      <td>5</td>\n",
       "      <td>106.688850</td>\n",
       "      <td>#na#</td>\n",
       "      <td>00:00</td>\n",
       "    </tr>\n",
       "    <tr>\n",
       "      <td>6</td>\n",
       "      <td>93.635559</td>\n",
       "      <td>#na#</td>\n",
       "      <td>00:00</td>\n",
       "    </tr>\n",
       "    <tr>\n",
       "      <td>7</td>\n",
       "      <td>82.823257</td>\n",
       "      <td>#na#</td>\n",
       "      <td>00:00</td>\n",
       "    </tr>\n",
       "  </tbody>\n",
       "</table><p>\n",
       "\n",
       "    <div>\n",
       "        <style>\n",
       "            /* Turns off some styling */\n",
       "            progress {\n",
       "                /* gets rid of default border in Firefox and Opera. */\n",
       "                border: none;\n",
       "                /* Needs to be in here for Safari polyfill so background images work as expected. */\n",
       "                background-size: auto;\n",
       "            }\n",
       "            .progress-bar-interrupted, .progress-bar-interrupted::-webkit-progress-bar {\n",
       "                background: #F44336;\n",
       "            }\n",
       "        </style>\n",
       "      <progress value='4' class='' max='11', style='width:300px; height:20px; vertical-align: middle;'></progress>\n",
       "      36.36% [4/11 00:00<00:00 238.4179]\n",
       "    </div>\n",
       "    "
      ],
      "text/plain": [
       "<IPython.core.display.HTML object>"
      ]
     },
     "metadata": {},
     "output_type": "display_data"
    },
    {
     "name": "stdout",
     "output_type": "stream",
     "text": [
      "LR Finder is complete, type {learner_name}.recorder.plot() to see the graph.\n"
     ]
    },
    {
     "data": {
      "image/png": "[encoded data removed]",
      "text/plain": [
       "<Figure size 432x288 with 1 Axes>"
      ]
     },
     "metadata": {
      "needs_background": "light"
     },
     "output_type": "display_data"
    }
   ],
   "source": [
    "learn.lr_find()\n",
    "learn.recorder.plot()"
   ]
  },
  {
   "cell_type": "code",
   "execution_count": 332,
   "metadata": {},
   "outputs": [
    {
     "data": {
      "text/html": [
       "<table border=\"1\" class=\"dataframe\">\n",
       "  <thead>\n",
       "    <tr style=\"text-align: left;\">\n",
       "      <th>epoch</th>\n",
       "      <th>train_loss</th>\n",
       "      <th>valid_loss</th>\n",
       "      <th>mean_absolute_error</th>\n",
       "      <th>mean_squared_logarithmic_error</th>\n",
       "      <th>root_mean_squared_error</th>\n",
       "      <th>exp_rmspe</th>\n",
       "      <th>time</th>\n",
       "    </tr>\n",
       "  </thead>\n",
       "  <tbody>\n",
       "    <tr>\n",
       "      <td>0</td>\n",
       "      <td>88.216949</td>\n",
       "      <td>28.377842</td>\n",
       "      <td>4.251670</td>\n",
       "      <td>nan</td>\n",
       "      <td>5.306617</td>\n",
       "      <td>49607.128906</td>\n",
       "      <td>00:00</td>\n",
       "    </tr>\n",
       "    <tr>\n",
       "      <td>1</td>\n",
       "      <td>48.175560</td>\n",
       "      <td>12.388271</td>\n",
       "      <td>2.881957</td>\n",
       "      <td>0.143636</td>\n",
       "      <td>3.516874</td>\n",
       "      <td>226.766174</td>\n",
       "      <td>00:00</td>\n",
       "    </tr>\n",
       "    <tr>\n",
       "      <td>2</td>\n",
       "      <td>32.593681</td>\n",
       "      <td>9.132508</td>\n",
       "      <td>2.420440</td>\n",
       "      <td>0.128700</td>\n",
       "      <td>3.003758</td>\n",
       "      <td>2450.653076</td>\n",
       "      <td>00:00</td>\n",
       "    </tr>\n",
       "    <tr>\n",
       "      <td>3</td>\n",
       "      <td>24.352119</td>\n",
       "      <td>9.007665</td>\n",
       "      <td>2.367774</td>\n",
       "      <td>0.125775</td>\n",
       "      <td>2.984914</td>\n",
       "      <td>2245.167236</td>\n",
       "      <td>00:00</td>\n",
       "    </tr>\n",
       "    <tr>\n",
       "      <td>4</td>\n",
       "      <td>19.399452</td>\n",
       "      <td>9.881440</td>\n",
       "      <td>2.386298</td>\n",
       "      <td>0.138787</td>\n",
       "      <td>3.129696</td>\n",
       "      <td>13551.302734</td>\n",
       "      <td>00:00</td>\n",
       "    </tr>\n",
       "    <tr>\n",
       "      <td>5</td>\n",
       "      <td>16.143543</td>\n",
       "      <td>8.821636</td>\n",
       "      <td>2.374013</td>\n",
       "      <td>0.121583</td>\n",
       "      <td>2.953481</td>\n",
       "      <td>1749.294434</td>\n",
       "      <td>00:00</td>\n",
       "    </tr>\n",
       "    <tr>\n",
       "      <td>6</td>\n",
       "      <td>13.756608</td>\n",
       "      <td>9.066851</td>\n",
       "      <td>2.481423</td>\n",
       "      <td>0.117945</td>\n",
       "      <td>3.004562</td>\n",
       "      <td>810.751526</td>\n",
       "      <td>00:00</td>\n",
       "    </tr>\n",
       "    <tr>\n",
       "      <td>7</td>\n",
       "      <td>12.126401</td>\n",
       "      <td>8.526408</td>\n",
       "      <td>2.367204</td>\n",
       "      <td>0.118980</td>\n",
       "      <td>2.911966</td>\n",
       "      <td>1217.588989</td>\n",
       "      <td>00:00</td>\n",
       "    </tr>\n",
       "    <tr>\n",
       "      <td>8</td>\n",
       "      <td>10.664780</td>\n",
       "      <td>9.026395</td>\n",
       "      <td>2.429700</td>\n",
       "      <td>0.123967</td>\n",
       "      <td>2.992846</td>\n",
       "      <td>1365.471680</td>\n",
       "      <td>00:00</td>\n",
       "    </tr>\n",
       "    <tr>\n",
       "      <td>9</td>\n",
       "      <td>9.787069</td>\n",
       "      <td>8.912427</td>\n",
       "      <td>2.329357</td>\n",
       "      <td>0.124784</td>\n",
       "      <td>2.968515</td>\n",
       "      <td>1845.771606</td>\n",
       "      <td>00:00</td>\n",
       "    </tr>\n",
       "  </tbody>\n",
       "</table>"
      ],
      "text/plain": [
       "<IPython.core.display.HTML object>"
      ]
     },
     "metadata": {},
     "output_type": "display_data"
    }
   ],
   "source": [
    "# learn.fit_one_cycle(10, slice(1e-2, 1e-1), wd=0.1)\n",
    "learn.fit(10, (1e-01)/2, wd = 0.1)"
   ]
  },
  {
   "cell_type": "code",
   "execution_count": 333,
   "metadata": {},
   "outputs": [
    {
     "data": {
      "image/png": "[encoded data removed]",
      "text/plain": [
       "<Figure size 432x288 with 1 Axes>"
      ]
     },
     "metadata": {
      "needs_background": "light"
     },
     "output_type": "display_data"
    }
   ],
   "source": [
    "learn.recorder.plot_losses()"
   ]
  },
  {
   "cell_type": "code",
   "execution_count": 334,
   "metadata": {},
   "outputs": [],
   "source": [
    "learn.save('1')"
   ]
  },
  {
   "cell_type": "code",
   "execution_count": 323,
   "metadata": {},
   "outputs": [
    {
     "data": {
      "text/html": [
       "<table border=\"1\" class=\"dataframe\">\n",
       "  <thead>\n",
       "    <tr style=\"text-align: left;\">\n",
       "      <th>epoch</th>\n",
       "      <th>train_loss</th>\n",
       "      <th>valid_loss</th>\n",
       "      <th>mean_absolute_error</th>\n",
       "      <th>mean_squared_logarithmic_error</th>\n",
       "      <th>root_mean_squared_error</th>\n",
       "      <th>exp_rmspe</th>\n",
       "      <th>time</th>\n",
       "    </tr>\n",
       "  </thead>\n",
       "  <tbody>\n",
       "    <tr>\n",
       "      <td>0</td>\n",
       "      <td>5.479346</td>\n",
       "      <td>8.954944</td>\n",
       "      <td>2.370223</td>\n",
       "      <td>0.121419</td>\n",
       "      <td>2.983556</td>\n",
       "      <td>1460.824097</td>\n",
       "      <td>00:00</td>\n",
       "    </tr>\n",
       "    <tr>\n",
       "      <td>1</td>\n",
       "      <td>5.332038</td>\n",
       "      <td>8.811939</td>\n",
       "      <td>2.325252</td>\n",
       "      <td>0.123155</td>\n",
       "      <td>2.960132</td>\n",
       "      <td>2603.825439</td>\n",
       "      <td>00:00</td>\n",
       "    </tr>\n",
       "    <tr>\n",
       "      <td>2</td>\n",
       "      <td>4.994483</td>\n",
       "      <td>8.920847</td>\n",
       "      <td>2.347776</td>\n",
       "      <td>0.121929</td>\n",
       "      <td>2.980122</td>\n",
       "      <td>1728.493896</td>\n",
       "      <td>00:00</td>\n",
       "    </tr>\n",
       "    <tr>\n",
       "      <td>3</td>\n",
       "      <td>4.816888</td>\n",
       "      <td>8.970711</td>\n",
       "      <td>2.354139</td>\n",
       "      <td>0.121538</td>\n",
       "      <td>2.988973</td>\n",
       "      <td>1648.638672</td>\n",
       "      <td>00:00</td>\n",
       "    </tr>\n",
       "    <tr>\n",
       "      <td>4</td>\n",
       "      <td>4.574643</td>\n",
       "      <td>8.982776</td>\n",
       "      <td>2.357211</td>\n",
       "      <td>0.121636</td>\n",
       "      <td>2.990973</td>\n",
       "      <td>1674.442627</td>\n",
       "      <td>00:00</td>\n",
       "    </tr>\n",
       "  </tbody>\n",
       "</table>"
      ],
      "text/plain": [
       "<IPython.core.display.HTML object>"
      ]
     },
     "metadata": {},
     "output_type": "display_data"
    }
   ],
   "source": [
    "learn.fit_one_cycle(5, 1e-02)"
   ]
  },
  {
   "cell_type": "code",
   "execution_count": 325,
   "metadata": {},
   "outputs": [],
   "source": [
    "learn.save('2')"
   ]
  },
  {
   "cell_type": "code",
   "execution_count": 326,
   "metadata": {},
   "outputs": [
    {
     "data": {
      "text/html": [
       "<table border=\"1\" class=\"dataframe\">\n",
       "  <thead>\n",
       "    <tr style=\"text-align: left;\">\n",
       "      <th>epoch</th>\n",
       "      <th>train_loss</th>\n",
       "      <th>valid_loss</th>\n",
       "      <th>mean_absolute_error</th>\n",
       "      <th>mean_squared_logarithmic_error</th>\n",
       "      <th>root_mean_squared_error</th>\n",
       "      <th>exp_rmspe</th>\n",
       "      <th>time</th>\n",
       "    </tr>\n",
       "  </thead>\n",
       "  <tbody>\n",
       "    <tr>\n",
       "      <td>0</td>\n",
       "      <td>6.020118</td>\n",
       "      <td>10.093957</td>\n",
       "      <td>2.516649</td>\n",
       "      <td>0.134789</td>\n",
       "      <td>3.156930</td>\n",
       "      <td>1334.634766</td>\n",
       "      <td>00:00</td>\n",
       "    </tr>\n",
       "    <tr>\n",
       "      <td>1</td>\n",
       "      <td>6.609901</td>\n",
       "      <td>12.527337</td>\n",
       "      <td>2.744891</td>\n",
       "      <td>0.146641</td>\n",
       "      <td>3.510766</td>\n",
       "      <td>3409.323486</td>\n",
       "      <td>00:00</td>\n",
       "    </tr>\n",
       "    <tr>\n",
       "      <td>2</td>\n",
       "      <td>6.626872</td>\n",
       "      <td>10.541950</td>\n",
       "      <td>2.633873</td>\n",
       "      <td>0.142182</td>\n",
       "      <td>3.242605</td>\n",
       "      <td>1724.746826</td>\n",
       "      <td>00:00</td>\n",
       "    </tr>\n",
       "    <tr>\n",
       "      <td>3</td>\n",
       "      <td>6.671185</td>\n",
       "      <td>10.156180</td>\n",
       "      <td>2.602005</td>\n",
       "      <td>0.144601</td>\n",
       "      <td>3.176890</td>\n",
       "      <td>814.625854</td>\n",
       "      <td>00:00</td>\n",
       "    </tr>\n",
       "    <tr>\n",
       "      <td>4</td>\n",
       "      <td>6.657187</td>\n",
       "      <td>10.328205</td>\n",
       "      <td>2.633170</td>\n",
       "      <td>0.136590</td>\n",
       "      <td>3.210397</td>\n",
       "      <td>1179.244751</td>\n",
       "      <td>00:00</td>\n",
       "    </tr>\n",
       "    <tr>\n",
       "      <td>5</td>\n",
       "      <td>6.499446</td>\n",
       "      <td>9.162635</td>\n",
       "      <td>2.332386</td>\n",
       "      <td>0.124961</td>\n",
       "      <td>3.017700</td>\n",
       "      <td>2833.209717</td>\n",
       "      <td>00:00</td>\n",
       "    </tr>\n",
       "    <tr>\n",
       "      <td>6</td>\n",
       "      <td>6.403194</td>\n",
       "      <td>10.570482</td>\n",
       "      <td>2.620050</td>\n",
       "      <td>0.129116</td>\n",
       "      <td>3.239613</td>\n",
       "      <td>488.450531</td>\n",
       "      <td>00:00</td>\n",
       "    </tr>\n",
       "    <tr>\n",
       "      <td>7</td>\n",
       "      <td>6.380995</td>\n",
       "      <td>9.236826</td>\n",
       "      <td>2.379395</td>\n",
       "      <td>0.123174</td>\n",
       "      <td>3.036059</td>\n",
       "      <td>1111.993774</td>\n",
       "      <td>00:00</td>\n",
       "    </tr>\n",
       "    <tr>\n",
       "      <td>8</td>\n",
       "      <td>6.468031</td>\n",
       "      <td>9.581012</td>\n",
       "      <td>2.512634</td>\n",
       "      <td>0.128815</td>\n",
       "      <td>3.091239</td>\n",
       "      <td>2165.702148</td>\n",
       "      <td>00:00</td>\n",
       "    </tr>\n",
       "    <tr>\n",
       "      <td>9</td>\n",
       "      <td>6.372699</td>\n",
       "      <td>9.689357</td>\n",
       "      <td>2.566355</td>\n",
       "      <td>0.118886</td>\n",
       "      <td>3.108246</td>\n",
       "      <td>190.898224</td>\n",
       "      <td>00:00</td>\n",
       "    </tr>\n",
       "  </tbody>\n",
       "</table>"
      ],
      "text/plain": [
       "<IPython.core.display.HTML object>"
      ]
     },
     "metadata": {},
     "output_type": "display_data"
    }
   ],
   "source": [
    "learn.fit(10, 1e-01, wd = 0.1)"
   ]
  },
  {
   "cell_type": "code",
   "execution_count": null,
   "metadata": {},
   "outputs": [],
   "source": [
    "learn.load('')"
   ]
  },
  {
   "cell_type": "code",
   "execution_count": 327,
   "metadata": {},
   "outputs": [
    {
     "data": {
      "image/png": "[encoded data removed]",
      "text/plain": [
       "<Figure size 432x288 with 1 Axes>"
      ]
     },
     "metadata": {
      "needs_background": "light"
     },
     "output_type": "display_data"
    }
   ],
   "source": [
    "learn.recorder.plot_losses()"
   ]
  },
  {
   "cell_type": "code",
   "execution_count": 300,
   "metadata": {},
   "outputs": [],
   "source": [
    "# learn.recorder.plot_lr()"
   ]
  },
  {
   "cell_type": "code",
   "execution_count": 308,
   "metadata": {},
   "outputs": [
    {
     "data": {
      "text/html": [],
      "text/plain": [
       "<IPython.core.display.HTML object>"
      ]
     },
     "metadata": {},
     "output_type": "display_data"
    },
    {
     "data": {
      "text/plain": [
       "(tensor([[ 8.8032],\n",
       "         [ 9.5869],\n",
       "         [10.3016],\n",
       "         [10.1355],\n",
       "         [11.5848]]),\n",
       " tensor([[  6655.3540],\n",
       "         [ 14572.5928],\n",
       "         [ 29780.2129],\n",
       "         [ 25223.7402],\n",
       "         [107446.7031]]))"
      ]
     },
     "execution_count": 308,
     "metadata": {},
     "output_type": "execute_result"
    }
   ],
   "source": [
    "test_preds, _ = learn.get_preds(DatasetType.Test)\n",
    "test_preds, np.exp(test_preds)"
   ]
  },
  {
   "cell_type": "code",
   "execution_count": 309,
   "metadata": {},
   "outputs": [
    {
     "data": {
      "text/plain": [
       "array([    1100,  1501500,   345311,   400094, 20000000])"
      ]
     },
     "execution_count": 309,
     "metadata": {},
     "output_type": "execute_result"
    }
   ],
   "source": [
    "test_df[dep_var].values"
   ]
  },
  {
   "cell_type": "code",
   "execution_count": null,
   "metadata": {},
   "outputs": [],
   "source": []
  },
  {
   "cell_type": "code",
   "execution_count": 278,
   "metadata": {},
   "outputs": [],
   "source": [
    "# np.exp(test_preds).squeeze().shape\n",
    "# test_df[dep_var].values\n",
    "# a = torch.from_numpy(test_df[dep_var].values)\n",
    "# a.shape"
   ]
  },
  {
   "cell_type": "code",
   "execution_count": 279,
   "metadata": {},
   "outputs": [],
   "source": [
    "# accuracy(np.exp(test_preds).squeeze(), a)"
   ]
  },
  {
   "cell_type": "code",
   "execution_count": null,
   "metadata": {},
   "outputs": [],
   "source": []
  }
 ],
 "metadata": {
  "kernelspec": {
   "display_name": "Python 3",
   "language": "python",
   "name": "python3"
  },
  "language_info": {
   "codemirror_mode": {
    "name": "ipython",
    "version": 3
   },
   "file_extension": ".py",
   "mimetype": "text/x-python",
   "name": "python",
   "nbconvert_exporter": "python",
   "pygments_lexer": "ipython3",
   "version": "3.8.2"
  },
  "toc": {
   "base_numbering": 1,
   "nav_menu": {},
   "number_sections": true,
   "sideBar": true,
   "skip_h1_title": false,
   "title_cell": "Table of Contents",
   "title_sidebar": "Contents",
   "toc_cell": false,
   "toc_position": {},
   "toc_section_display": true,
   "toc_window_display": false
  },
  "varInspector": {
   "cols": {
    "lenName": 16,
    "lenType": 16,
    "lenVar": 40
   },
   "kernels_config": {
    "python": {
     "delete_cmd_postfix": "",
     "delete_cmd_prefix": "del ",
     "library": "var_list.py",
     "varRefreshCmd": "print(var_dic_list())"
    },
    "r": {
     "delete_cmd_postfix": ") ",
     "delete_cmd_prefix": "rm(",
     "library": "var_list.r",
     "varRefreshCmd": "cat(var_dic_list()) "
    }
   },
   "types_to_exclude": [
    "module",
    "function",
    "builtin_function_or_method",
    "instance",
    "_Feature"
   ],
   "window_display": false
  }
 },
 "nbformat": 4,
 "nbformat_minor": 2
}
