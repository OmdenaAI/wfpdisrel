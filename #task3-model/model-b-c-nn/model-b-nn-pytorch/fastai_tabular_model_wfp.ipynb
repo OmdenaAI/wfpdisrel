{
 "cells": [
  {
   "cell_type": "markdown",
   "metadata": {},
   "source": [
    "@Author: Dev Bharti\n",
    "Prior understanding of FastAI tabular model is necessary. Refer to their video 4 for more information (https://course.fast.ai/videos/?lesson=4)"
   ]
  },
  {
   "cell_type": "code",
   "execution_count": 1,
   "metadata": {},
   "outputs": [],
   "source": [
    "%reload_ext autoreload\n",
    "%autoreload 2"
   ]
  },
  {
   "cell_type": "code",
   "execution_count": 2,
   "metadata": {},
   "outputs": [
    {
     "name": "stderr",
     "output_type": "stream",
     "text": [
      "\n",
      "Bad key \"text.kerning_factor\" on line 4 in\n",
      "/home/dev/anaconda3/envs/deep_ai/lib/python3.8/site-packages/matplotlib/mpl-data/stylelib/_classic_test_patch.mplstyle.\n",
      "You probably need to get an updated matplotlibrc file from\n",
      "https://github.com/matplotlib/matplotlib/blob/v3.1.3/matplotlibrc.template\n",
      "or from the matplotlib source distribution\n"
     ]
    }
   ],
   "source": [
    "from fastai.tabular import *"
   ]
  },
  {
   "cell_type": "markdown",
   "metadata": {},
   "source": [
    "# Create the dataframe from CSV and remove unnecessary columns"
   ]
  },
  {
   "cell_type": "code",
   "execution_count": 7,
   "metadata": {},
   "outputs": [],
   "source": [
    "df_orig = pd.read_csv('OUTPUT_WBI_exposer_cyclones_v14.csv', sep = ';')"
   ]
  },
  {
   "cell_type": "code",
   "execution_count": 20,
   "metadata": {},
   "outputs": [
    {
     "data": {
      "text/html": [
       "<div>\n",
       "<style scoped>\n",
       "    .dataframe tbody tr th:only-of-type {\n",
       "        vertical-align: middle;\n",
       "    }\n",
       "\n",
       "    .dataframe tbody tr th {\n",
       "        vertical-align: top;\n",
       "    }\n",
       "\n",
       "    .dataframe thead th {\n",
       "        text-align: right;\n",
       "    }\n",
       "</style>\n",
       "<table border=\"1\" class=\"dataframe\">\n",
       "  <thead>\n",
       "    <tr style=\"text-align: right;\">\n",
       "      <th></th>\n",
       "      <th>0</th>\n",
       "      <th>1</th>\n",
       "    </tr>\n",
       "  </thead>\n",
       "  <tbody>\n",
       "    <tr>\n",
       "      <th>SID</th>\n",
       "      <td>1949163N07145</td>\n",
       "      <td>1950241N23140</td>\n",
       "    </tr>\n",
       "    <tr>\n",
       "      <th>NAME</th>\n",
       "      <td>DELLA</td>\n",
       "      <td>JANE</td>\n",
       "    </tr>\n",
       "    <tr>\n",
       "      <th>ISO</th>\n",
       "      <td>JPN</td>\n",
       "      <td>JPN</td>\n",
       "    </tr>\n",
       "    <tr>\n",
       "      <th>YEAR</th>\n",
       "      <td>1949</td>\n",
       "      <td>1950</td>\n",
       "    </tr>\n",
       "    <tr>\n",
       "      <th>COORDS</th>\n",
       "      <td>[(21.5, 125.424), (22.2, 125.8), (22.9089, 126...</td>\n",
       "      <td>[(23.8845, 139.74), (23.9335, 139.639), (23.98...</td>\n",
       "    </tr>\n",
       "    <tr>\n",
       "      <th>COORDS_MAX_WINDS</th>\n",
       "      <td>[(27.6584, 128.82), (28.9141, 129.572999999999...</td>\n",
       "      <td>[(28.7509, 133.748), (29.1201, 133.762), (29.6...</td>\n",
       "    </tr>\n",
       "    <tr>\n",
       "      <th>COORDS_MIN_DIST2LAND</th>\n",
       "      <td>[(31.9866, 130.683), (33.5183, 130.97299999999...</td>\n",
       "      <td>[(34.9374, 135.476), (36.1016, 136.095), (37.2...</td>\n",
       "    </tr>\n",
       "    <tr>\n",
       "      <th>BASIN</th>\n",
       "      <td>WP</td>\n",
       "      <td>WP</td>\n",
       "    </tr>\n",
       "    <tr>\n",
       "      <th>SUB BASIN</th>\n",
       "      <td>WP</td>\n",
       "      <td>WP</td>\n",
       "    </tr>\n",
       "    <tr>\n",
       "      <th>MONTH_START</th>\n",
       "      <td>6</td>\n",
       "      <td>8</td>\n",
       "    </tr>\n",
       "    <tr>\n",
       "      <th>MONTH_END</th>\n",
       "      <td>6</td>\n",
       "      <td>9</td>\n",
       "    </tr>\n",
       "    <tr>\n",
       "      <th>DATE_START</th>\n",
       "      <td>19/06/1949 9:00</td>\n",
       "      <td>30/08/1950 3:00</td>\n",
       "    </tr>\n",
       "    <tr>\n",
       "      <th>DATE_END</th>\n",
       "      <td>24/06/1949 6:00</td>\n",
       "      <td>05/09/1950 0:00</td>\n",
       "    </tr>\n",
       "    <tr>\n",
       "      <th>DATE_LAND_START</th>\n",
       "      <td>20/06/1949 15:00</td>\n",
       "      <td>03/09/1950 3:00</td>\n",
       "    </tr>\n",
       "    <tr>\n",
       "      <th>DATE_LAND_END</th>\n",
       "      <td>23/06/1949 3:00</td>\n",
       "      <td>04/09/1950 0:00</td>\n",
       "    </tr>\n",
       "    <tr>\n",
       "      <th>TOTAL_HOURS_EVENT</th>\n",
       "      <td>117</td>\n",
       "      <td>141</td>\n",
       "    </tr>\n",
       "    <tr>\n",
       "      <th>TOTAL_HOURS_IN_LAND</th>\n",
       "      <td>60</td>\n",
       "      <td>21</td>\n",
       "    </tr>\n",
       "    <tr>\n",
       "      <th>NATURE</th>\n",
       "      <td>TS</td>\n",
       "      <td>ET</td>\n",
       "    </tr>\n",
       "    <tr>\n",
       "      <th>GENERAL_CATEGORY</th>\n",
       "      <td>Cat 4</td>\n",
       "      <td>Cat 4</td>\n",
       "    </tr>\n",
       "    <tr>\n",
       "      <th>MAX_WIND</th>\n",
       "      <td>116</td>\n",
       "      <td>116</td>\n",
       "    </tr>\n",
       "    <tr>\n",
       "      <th>MIN_PRES</th>\n",
       "      <td>952</td>\n",
       "      <td>940</td>\n",
       "    </tr>\n",
       "    <tr>\n",
       "      <th>MIN_DIST2LAND</th>\n",
       "      <td>0</td>\n",
       "      <td>0</td>\n",
       "    </tr>\n",
       "    <tr>\n",
       "      <th>MAX_STORMSPEED</th>\n",
       "      <td>33</td>\n",
       "      <td>31</td>\n",
       "    </tr>\n",
       "    <tr>\n",
       "      <th>MAX_USA_SSHS</th>\n",
       "      <td>3</td>\n",
       "      <td>3</td>\n",
       "    </tr>\n",
       "    <tr>\n",
       "      <th>MAX_USA_SSHS_INLAND</th>\n",
       "      <td>0</td>\n",
       "      <td>1</td>\n",
       "    </tr>\n",
       "    <tr>\n",
       "      <th>V_LAND_KN</th>\n",
       "      <td>99.82</td>\n",
       "      <td>99.82</td>\n",
       "    </tr>\n",
       "    <tr>\n",
       "      <th>DISTANCE_TRACK</th>\n",
       "      <td>3889.48</td>\n",
       "      <td>3596.09</td>\n",
       "    </tr>\n",
       "    <tr>\n",
       "      <th>DISTANCE_TRACK_VINCENTY</th>\n",
       "      <td>3632.63</td>\n",
       "      <td>2787.48</td>\n",
       "    </tr>\n",
       "    <tr>\n",
       "      <th>34KN_POP</th>\n",
       "      <td>NaN</td>\n",
       "      <td>NaN</td>\n",
       "    </tr>\n",
       "    <tr>\n",
       "      <th>64KN_POP</th>\n",
       "      <td>NaN</td>\n",
       "      <td>NaN</td>\n",
       "    </tr>\n",
       "    <tr>\n",
       "      <th>96KN_POP</th>\n",
       "      <td>NaN</td>\n",
       "      <td>NaN</td>\n",
       "    </tr>\n",
       "    <tr>\n",
       "      <th>64KN_ASSETS</th>\n",
       "      <td>NaN</td>\n",
       "      <td>NaN</td>\n",
       "    </tr>\n",
       "    <tr>\n",
       "      <th>34KN_ASSETS</th>\n",
       "      <td>NaN</td>\n",
       "      <td>NaN</td>\n",
       "    </tr>\n",
       "    <tr>\n",
       "      <th>96KN_ASSETS</th>\n",
       "      <td>NaN</td>\n",
       "      <td>NaN</td>\n",
       "    </tr>\n",
       "    <tr>\n",
       "      <th>TOTAL_DAMAGE_(000$)</th>\n",
       "      <td>NaN</td>\n",
       "      <td>NaN</td>\n",
       "    </tr>\n",
       "    <tr>\n",
       "      <th>TOTAL_DEATHS</th>\n",
       "      <td>419</td>\n",
       "      <td>509</td>\n",
       "    </tr>\n",
       "    <tr>\n",
       "      <th>POP_DEN_SQ_KM</th>\n",
       "      <td>195</td>\n",
       "      <td>227</td>\n",
       "    </tr>\n",
       "    <tr>\n",
       "      <th>RURAL_POP(%)</th>\n",
       "      <td>77.2</td>\n",
       "      <td>47</td>\n",
       "    </tr>\n",
       "    <tr>\n",
       "      <th>HDI</th>\n",
       "      <td>0.816</td>\n",
       "      <td>0.816</td>\n",
       "    </tr>\n",
       "    <tr>\n",
       "      <th>Arable land (hectares per person)</th>\n",
       "      <td>0.0596147</td>\n",
       "      <td>0.0596147</td>\n",
       "    </tr>\n",
       "    <tr>\n",
       "      <th>Cereal yield (kg per hectare)</th>\n",
       "      <td>4173.5</td>\n",
       "      <td>4173.5</td>\n",
       "    </tr>\n",
       "    <tr>\n",
       "      <th>Food production index (2004-2006 = 100)</th>\n",
       "      <td>67.79</td>\n",
       "      <td>67.79</td>\n",
       "    </tr>\n",
       "    <tr>\n",
       "      <th>GDP per capita (constant 2010 US$)</th>\n",
       "      <td>8607.66</td>\n",
       "      <td>8607.66</td>\n",
       "    </tr>\n",
       "    <tr>\n",
       "      <th>Net flows from UN agencies US$</th>\n",
       "      <td>0</td>\n",
       "      <td>0</td>\n",
       "    </tr>\n",
       "    <tr>\n",
       "      <th>Life expectancy at birth, total (years)</th>\n",
       "      <td>67.6661</td>\n",
       "      <td>67.6661</td>\n",
       "    </tr>\n",
       "    <tr>\n",
       "      <th>Adjusted savings: education expenditure (% of GNI)</th>\n",
       "      <td>2.86788</td>\n",
       "      <td>2.86788</td>\n",
       "    </tr>\n",
       "    <tr>\n",
       "      <th>Income_level_Final</th>\n",
       "      <td>Low</td>\n",
       "      <td>Low</td>\n",
       "    </tr>\n",
       "    <tr>\n",
       "      <th>POP_MAX_34_ADJ</th>\n",
       "      <td>1.1983e+07</td>\n",
       "      <td>3.16082e+07</td>\n",
       "    </tr>\n",
       "    <tr>\n",
       "      <th>POP_MAX_50_ADJ</th>\n",
       "      <td>5.80398e+06</td>\n",
       "      <td>1.5592e+07</td>\n",
       "    </tr>\n",
       "    <tr>\n",
       "      <th>POP_MAX_64_ADJ</th>\n",
       "      <td>3.32091e+06</td>\n",
       "      <td>1.01894e+07</td>\n",
       "    </tr>\n",
       "    <tr>\n",
       "      <th>TOTAL_AFFECTED</th>\n",
       "      <td>194046</td>\n",
       "      <td>642117</td>\n",
       "    </tr>\n",
       "  </tbody>\n",
       "</table>\n",
       "</div>"
      ],
      "text/plain": [
       "                                                                                                    0  \\\n",
       "SID                                                                                     1949163N07145   \n",
       "NAME                                                                                            DELLA   \n",
       "ISO                                                                                               JPN   \n",
       "YEAR                                                                                             1949   \n",
       "COORDS                                              [(21.5, 125.424), (22.2, 125.8), (22.9089, 126...   \n",
       "COORDS_MAX_WINDS                                    [(27.6584, 128.82), (28.9141, 129.572999999999...   \n",
       "COORDS_MIN_DIST2LAND                                [(31.9866, 130.683), (33.5183, 130.97299999999...   \n",
       "BASIN                                                                                              WP   \n",
       "SUB BASIN                                                                                          WP   \n",
       "MONTH_START                                                                                         6   \n",
       "MONTH_END                                                                                           6   \n",
       "DATE_START                                                                            19/06/1949 9:00   \n",
       "DATE_END                                                                              24/06/1949 6:00   \n",
       "DATE_LAND_START                                                                      20/06/1949 15:00   \n",
       "DATE_LAND_END                                                                         23/06/1949 3:00   \n",
       "TOTAL_HOURS_EVENT                                                                                 117   \n",
       "TOTAL_HOURS_IN_LAND                                                                                60   \n",
       "NATURE                                                                                             TS   \n",
       "GENERAL_CATEGORY                                                                                Cat 4   \n",
       "MAX_WIND                                                                                          116   \n",
       "MIN_PRES                                                                                          952   \n",
       "MIN_DIST2LAND                                                                                       0   \n",
       "MAX_STORMSPEED                                                                                     33   \n",
       "MAX_USA_SSHS                                                                                        3   \n",
       "MAX_USA_SSHS_INLAND                                                                                 0   \n",
       "V_LAND_KN                                                                                       99.82   \n",
       "DISTANCE_TRACK                                                                                3889.48   \n",
       "DISTANCE_TRACK_VINCENTY                                                                       3632.63   \n",
       "34KN_POP                                                                                          NaN   \n",
       "64KN_POP                                                                                          NaN   \n",
       "96KN_POP                                                                                          NaN   \n",
       "64KN_ASSETS                                                                                       NaN   \n",
       "34KN_ASSETS                                                                                       NaN   \n",
       "96KN_ASSETS                                                                                       NaN   \n",
       "TOTAL_DAMAGE_(000$)                                                                               NaN   \n",
       "TOTAL_DEATHS                                                                                      419   \n",
       "POP_DEN_SQ_KM                                                                                     195   \n",
       "RURAL_POP(%)                                                                                     77.2   \n",
       "HDI                                                                                             0.816   \n",
       "Arable land (hectares per person)                                                           0.0596147   \n",
       "Cereal yield (kg per hectare)                                                                  4173.5   \n",
       "Food production index (2004-2006 = 100)                                                         67.79   \n",
       "GDP per capita (constant 2010 US$)                                                            8607.66   \n",
       "Net flows from UN agencies US$                                                                      0   \n",
       "Life expectancy at birth, total (years)                                                       67.6661   \n",
       "Adjusted savings: education expenditure (% of GNI)                                            2.86788   \n",
       "Income_level_Final                                                                                Low   \n",
       "POP_MAX_34_ADJ                                                                             1.1983e+07   \n",
       "POP_MAX_50_ADJ                                                                            5.80398e+06   \n",
       "POP_MAX_64_ADJ                                                                            3.32091e+06   \n",
       "TOTAL_AFFECTED                                                                                 194046   \n",
       "\n",
       "                                                                                                    1  \n",
       "SID                                                                                     1950241N23140  \n",
       "NAME                                                                                             JANE  \n",
       "ISO                                                                                               JPN  \n",
       "YEAR                                                                                             1950  \n",
       "COORDS                                              [(23.8845, 139.74), (23.9335, 139.639), (23.98...  \n",
       "COORDS_MAX_WINDS                                    [(28.7509, 133.748), (29.1201, 133.762), (29.6...  \n",
       "COORDS_MIN_DIST2LAND                                [(34.9374, 135.476), (36.1016, 136.095), (37.2...  \n",
       "BASIN                                                                                              WP  \n",
       "SUB BASIN                                                                                          WP  \n",
       "MONTH_START                                                                                         8  \n",
       "MONTH_END                                                                                           9  \n",
       "DATE_START                                                                            30/08/1950 3:00  \n",
       "DATE_END                                                                              05/09/1950 0:00  \n",
       "DATE_LAND_START                                                                       03/09/1950 3:00  \n",
       "DATE_LAND_END                                                                         04/09/1950 0:00  \n",
       "TOTAL_HOURS_EVENT                                                                                 141  \n",
       "TOTAL_HOURS_IN_LAND                                                                                21  \n",
       "NATURE                                                                                             ET  \n",
       "GENERAL_CATEGORY                                                                                Cat 4  \n",
       "MAX_WIND                                                                                          116  \n",
       "MIN_PRES                                                                                          940  \n",
       "MIN_DIST2LAND                                                                                       0  \n",
       "MAX_STORMSPEED                                                                                     31  \n",
       "MAX_USA_SSHS                                                                                        3  \n",
       "MAX_USA_SSHS_INLAND                                                                                 1  \n",
       "V_LAND_KN                                                                                       99.82  \n",
       "DISTANCE_TRACK                                                                                3596.09  \n",
       "DISTANCE_TRACK_VINCENTY                                                                       2787.48  \n",
       "34KN_POP                                                                                          NaN  \n",
       "64KN_POP                                                                                          NaN  \n",
       "96KN_POP                                                                                          NaN  \n",
       "64KN_ASSETS                                                                                       NaN  \n",
       "34KN_ASSETS                                                                                       NaN  \n",
       "96KN_ASSETS                                                                                       NaN  \n",
       "TOTAL_DAMAGE_(000$)                                                                               NaN  \n",
       "TOTAL_DEATHS                                                                                      509  \n",
       "POP_DEN_SQ_KM                                                                                     227  \n",
       "RURAL_POP(%)                                                                                       47  \n",
       "HDI                                                                                             0.816  \n",
       "Arable land (hectares per person)                                                           0.0596147  \n",
       "Cereal yield (kg per hectare)                                                                  4173.5  \n",
       "Food production index (2004-2006 = 100)                                                         67.79  \n",
       "GDP per capita (constant 2010 US$)                                                            8607.66  \n",
       "Net flows from UN agencies US$                                                                      0  \n",
       "Life expectancy at birth, total (years)                                                       67.6661  \n",
       "Adjusted savings: education expenditure (% of GNI)                                            2.86788  \n",
       "Income_level_Final                                                                                Low  \n",
       "POP_MAX_34_ADJ                                                                            3.16082e+07  \n",
       "POP_MAX_50_ADJ                                                                             1.5592e+07  \n",
       "POP_MAX_64_ADJ                                                                            1.01894e+07  \n",
       "TOTAL_AFFECTED                                                                                 642117  "
      ]
     },
     "execution_count": 20,
     "metadata": {},
     "output_type": "execute_result"
    }
   ],
   "source": [
    "df_orig.head(2).T"
   ]
  },
  {
   "cell_type": "code",
   "execution_count": 13,
   "metadata": {},
   "outputs": [],
   "source": [
    "df_orig_del_columns = df_orig.drop(['SID', 'ISO', 'YEAR', 'COORDS',\n",
    "                 '34KN_POP', '34KN_ASSETS', '64KN_POP', '64KN_ASSETS', '96KN_POP', '96KN_ASSETS'], \n",
    "                 axis = 1)"
   ]
  },
  {
   "cell_type": "code",
   "execution_count": 14,
   "metadata": {},
   "outputs": [],
   "source": [
    "train_df = df_orig_del_columns[:790]\n",
    "test_df = df_orig_del_columns[790:]"
   ]
  },
  {
   "cell_type": "code",
   "execution_count": 15,
   "metadata": {},
   "outputs": [
    {
     "data": {
      "text/plain": [
       "(991, 790, 201)"
      ]
     },
     "execution_count": 15,
     "metadata": {},
     "output_type": "execute_result"
    }
   ],
   "source": [
    "len(df_orig_del_columns), len(train_df), len(test_df)"
   ]
  },
  {
   "cell_type": "code",
   "execution_count": 17,
   "metadata": {},
   "outputs": [],
   "source": [
    "# Adding month per Vamsi's code in SVM folder\n",
    "# train_df['Month'] = train_df.ISO_TIME.apply(lambda x: x[7:9]).astype(int)\n",
    "# test_df['Month'] = train_df.ISO_TIME.apply(lambda x: x[7:9]).astype(int)"
   ]
  },
  {
   "cell_type": "code",
   "execution_count": 18,
   "metadata": {},
   "outputs": [],
   "source": [
    "# train_df['Month'].unique()"
   ]
  },
  {
   "cell_type": "code",
   "execution_count": 217,
   "metadata": {},
   "outputs": [],
   "source": [
    "# # Using Xavier's CPI logic...\n",
    "# train_df[\"TOTAL_DAMAGE_(000$)_Adjusted\"]= train_df[\"TOTAL_DAMAGE_(000$)\"] / train_df[\"CPI\"]\n",
    "# train_df[\"TOTAL_DAMAGE_(000$)_Adjusted\"]= train_df[\"TOTAL_DAMAGE_(000$)_Adjusted\"].replace(0, np.nan)\n",
    "# train_df = train_df.drop([\"TOTAL_DAMAGE_(000$)\",'CPI'], axis=1)\n",
    "# df[\"TOTAL_DAMAGE_(000$)_Adjusted\"].isna().sum()"
   ]
  },
  {
   "cell_type": "code",
   "execution_count": 218,
   "metadata": {},
   "outputs": [],
   "source": [
    "# len(df_mod)/16"
   ]
  },
  {
   "cell_type": "code",
   "execution_count": 30,
   "metadata": {},
   "outputs": [
    {
     "data": {
      "text/plain": [
       "NAME                                                   0\n",
       "COORDS_MAX_WINDS                                       0\n",
       "COORDS_MIN_DIST2LAND                                   0\n",
       "BASIN                                                  0\n",
       "SUB BASIN                                              0\n",
       "MONTH_START                                            0\n",
       "MONTH_END                                              0\n",
       "DATE_START                                             0\n",
       "DATE_END                                               0\n",
       "DATE_LAND_START                                        0\n",
       "DATE_LAND_END                                          0\n",
       "TOTAL_HOURS_EVENT                                      0\n",
       "TOTAL_HOURS_IN_LAND                                    0\n",
       "NATURE                                                 0\n",
       "GENERAL_CATEGORY                                       0\n",
       "MAX_WIND                                               0\n",
       "MIN_PRES                                               0\n",
       "MIN_DIST2LAND                                          0\n",
       "MAX_STORMSPEED                                         2\n",
       "MAX_USA_SSHS                                           0\n",
       "MAX_USA_SSHS_INLAND                                    0\n",
       "V_LAND_KN                                              0\n",
       "DISTANCE_TRACK                                         0\n",
       "DISTANCE_TRACK_VINCENTY                                0\n",
       "TOTAL_DAMAGE_(000$)                                   60\n",
       "TOTAL_DEATHS                                          44\n",
       "POP_DEN_SQ_KM                                          0\n",
       "RURAL_POP(%)                                           0\n",
       "HDI                                                    0\n",
       "Arable land (hectares per person)                      1\n",
       "Cereal yield (kg per hectare)                          1\n",
       "Food production index (2004-2006 = 100)                0\n",
       "GDP per capita (constant 2010 US$)                     2\n",
       "Net flows from UN agencies US$                         0\n",
       "Life expectancy at birth, total (years)                0\n",
       "Adjusted savings: education expenditure (% of GNI)     0\n",
       "Income_level_Final                                     0\n",
       "POP_MAX_34_ADJ                                        16\n",
       "POP_MAX_50_ADJ                                        16\n",
       "POP_MAX_64_ADJ                                        16\n",
       "TOTAL_AFFECTED                                         0\n",
       "dtype: int64"
      ]
     },
     "execution_count": 30,
     "metadata": {},
     "output_type": "execute_result"
    }
   ],
   "source": [
    "test_df.isna().sum()"
   ]
  },
  {
   "cell_type": "markdown",
   "metadata": {},
   "source": [
    "# Prepare the categorical variables and continous variables to be passed to the Tabular Model"
   ]
  },
  {
   "cell_type": "code",
   "execution_count": 34,
   "metadata": {},
   "outputs": [],
   "source": [
    "dep_var = 'TOTAL_AFFECTED'\n",
    "\n",
    "cat_names = ['BASIN', \n",
    "             'SUB BASIN', \n",
    "             'MONTH_START', \n",
    "             'Income_level_Final', \n",
    "             'MAX_USA_SSHS_INLAND',\n",
    "             'GENERAL_CATEGORY']\n",
    "\n",
    "cont_names = ['TOTAL_HOURS_IN_LAND',\n",
    "              'MAX_WIND', \n",
    "              'MIN_PRES', \n",
    "#               'MAX_STORMSPEED',\n",
    "              'TOTAL_DEATHS',\n",
    "              'POP_DEN_SQ_KM',\n",
    "              'RURAL_POP(%)',\n",
    "              'V_LAND_KN',\n",
    "#               'Arable land (hectares per person)',\n",
    "              'GDP per capita (constant 2010 US$)',\n",
    "              'POP_MAX_34_ADJ',\n",
    "              'POP_MAX_50_ADJ',\n",
    "              'POP_MAX_64_ADJ']\n",
    "\n",
    "# cont_names_new = ['TOTAL_HRS',\n",
    "#               'PRES_CALC_MEAN', \n",
    "#               'STORM_SPD_MEAN', \n",
    "#               'STORM_DR_MEAN',\n",
    "#               'V_LAND_KN']\n",
    "\n",
    "#Features not used:\n",
    "# WIND_CALC_MEAN\n",
    "# 34KN_POP\n",
    "# 34KN_ASSETS\n",
    "# 64KN_POP\n",
    "# 64KN_ASSETS\n",
    "# 96KN_POP\n",
    "# 96KN_ASSETS\n",
    "# Net flows from UN agencies US$\n",
    "# pop_max_34                                              \n",
    "# pop_max_50                                              \n",
    "# pop_max_64                                              \n",
    "# pop_max_34_adj                                          \n",
    "# pop_max_50_adj                                          \n",
    "# pop_max_64_adj \n",
    "# Total Deaths"
   ]
  },
  {
   "cell_type": "code",
   "execution_count": 35,
   "metadata": {},
   "outputs": [],
   "source": [
    "#FillMissing populates the NA values with Medians. Categorify converts categorical variables \n",
    "# into category data types and Normalise normalises the continous variables.\n",
    "procs=[FillMissing, Categorify, Normalize]"
   ]
  },
  {
   "cell_type": "code",
   "execution_count": 36,
   "metadata": {},
   "outputs": [],
   "source": [
    "#Helper function to generate a DataBunch from a dataframe, taking into account parameters\n",
    "#log = True enables logs to be used for target variable (Total Affected)\n",
    "data = (TabularList.from_df(train_df, path='.', cat_names=cat_names, cont_names=cont_names, procs=procs)\n",
    "                .split_by_rand_pct(0.25)\n",
    "                .label_from_df(cols=dep_var, label_cls=FloatList, log=True)\n",
    "                .add_test(TabularList.from_df(test_df, path='.', cat_names=cat_names, cont_names=cont_names))\n",
    "                .databunch())\n",
    "\n",
    "# data_new = (TabularList.from_df(df_mod_new, path='.', cat_names=cat_names, cont_names=cont_names_new, procs=procs)\n",
    "#                 .split_by_rand_pct()\n",
    "#                 .label_from_df(cols=dep_var, label_cls=FloatList, log=True)\n",
    "#                 .databunch())"
   ]
  },
  {
   "cell_type": "code",
   "execution_count": 37,
   "metadata": {},
   "outputs": [
    {
     "data": {
      "text/plain": [
       "(593, 197, 201)"
      ]
     },
     "execution_count": 37,
     "metadata": {},
     "output_type": "execute_result"
    }
   ],
   "source": [
    "len(data.train_ds), len(data.valid_ds), len(data.test_ds)"
   ]
  },
  {
   "cell_type": "code",
   "execution_count": 38,
   "metadata": {},
   "outputs": [],
   "source": [
    "# data_new.show_batch(10)"
   ]
  },
  {
   "cell_type": "markdown",
   "metadata": {},
   "source": [
    "# Build the model"
   ]
  },
  {
   "cell_type": "code",
   "execution_count": 107,
   "metadata": {},
   "outputs": [],
   "source": [
    "#Provides an upperbound for target variable\n",
    "# max_log_y = np.log(np.max(df_mod[dep_var])*1.2)\n",
    "# y_range = torch.tensor([0, max_log_y], device=defaults.device)\n",
    "\n",
    "# max_log_y = np.log(1.2) + np.max(df_mod[dep_var])\n",
    "# y_range = torch.tensor([0, max_log_y], device=defaults.device)"
   ]
  },
  {
   "cell_type": "code",
   "execution_count": 68,
   "metadata": {},
   "outputs": [],
   "source": [
    "# creates a learner with embeddings\n",
    "learn = tabular_learner(data, \n",
    "                        layers=[1000, 800, 500, 300], \n",
    "                        loss_func = MSELossFlat(),\n",
    "#                         y_range = y_range, \n",
    "                        metrics= [mae, msle, rmse, exp_rmspe], \n",
    "                        ps=[0.4, 0.3, 0.2, 0.1], \n",
    "                        emb_drop=0.03)\n",
    "#                         callback_fns=ShowGraph)"
   ]
  },
  {
   "cell_type": "code",
   "execution_count": 69,
   "metadata": {},
   "outputs": [
    {
     "data": {
      "text/plain": [
       "TabularModel(\n",
       "  (embeds): ModuleList(\n",
       "    (0): Embedding(7, 5)\n",
       "    (1): Embedding(13, 7)\n",
       "    (2): Embedding(13, 7)\n",
       "    (3): Embedding(5, 4)\n",
       "    (4): Embedding(14, 7)\n",
       "    (5): Embedding(8, 5)\n",
       "    (6): Embedding(3, 3)\n",
       "    (7): Embedding(3, 3)\n",
       "    (8): Embedding(3, 3)\n",
       "    (9): Embedding(3, 3)\n",
       "    (10): Embedding(3, 3)\n",
       "  )\n",
       "  (emb_drop): Dropout(p=0.03, inplace=False)\n",
       "  (bn_cont): BatchNorm1d(11, eps=1e-05, momentum=0.1, affine=True, track_running_stats=True)\n",
       "  (layers): Sequential(\n",
       "    (0): Linear(in_features=61, out_features=1000, bias=True)\n",
       "    (1): ReLU(inplace=True)\n",
       "    (2): BatchNorm1d(1000, eps=1e-05, momentum=0.1, affine=True, track_running_stats=True)\n",
       "    (3): Dropout(p=0.4, inplace=False)\n",
       "    (4): Linear(in_features=1000, out_features=800, bias=True)\n",
       "    (5): ReLU(inplace=True)\n",
       "    (6): BatchNorm1d(800, eps=1e-05, momentum=0.1, affine=True, track_running_stats=True)\n",
       "    (7): Dropout(p=0.3, inplace=False)\n",
       "    (8): Linear(in_features=800, out_features=500, bias=True)\n",
       "    (9): ReLU(inplace=True)\n",
       "    (10): BatchNorm1d(500, eps=1e-05, momentum=0.1, affine=True, track_running_stats=True)\n",
       "    (11): Dropout(p=0.2, inplace=False)\n",
       "    (12): Linear(in_features=500, out_features=300, bias=True)\n",
       "    (13): ReLU(inplace=True)\n",
       "    (14): BatchNorm1d(300, eps=1e-05, momentum=0.1, affine=True, track_running_stats=True)\n",
       "    (15): Dropout(p=0.1, inplace=False)\n",
       "    (16): Linear(in_features=300, out_features=1, bias=True)\n",
       "  )\n",
       ")"
      ]
     },
     "execution_count": 69,
     "metadata": {},
     "output_type": "execute_result"
    }
   ],
   "source": [
    "learn.model"
   ]
  },
  {
   "cell_type": "code",
   "execution_count": 70,
   "metadata": {},
   "outputs": [
    {
     "data": {
      "text/html": [
       "\n",
       "    <div>\n",
       "        <style>\n",
       "            /* Turns off some styling */\n",
       "            progress {\n",
       "                /* gets rid of default border in Firefox and Opera. */\n",
       "                border: none;\n",
       "                /* Needs to be in here for Safari polyfill so background images work as expected. */\n",
       "                background-size: auto;\n",
       "            }\n",
       "            .progress-bar-interrupted, .progress-bar-interrupted::-webkit-progress-bar {\n",
       "                background: #F44336;\n",
       "            }\n",
       "        </style>\n",
       "      <progress value='10' class='' max='12', style='width:300px; height:20px; vertical-align: middle;'></progress>\n",
       "      83.33% [10/12 00:02<00:00]\n",
       "    </div>\n",
       "    \n",
       "<table border=\"1\" class=\"dataframe\">\n",
       "  <thead>\n",
       "    <tr style=\"text-align: left;\">\n",
       "      <th>epoch</th>\n",
       "      <th>train_loss</th>\n",
       "      <th>valid_loss</th>\n",
       "      <th>mean_absolute_error</th>\n",
       "      <th>mean_squared_logarithmic_error</th>\n",
       "      <th>root_mean_squared_error</th>\n",
       "      <th>exp_rmspe</th>\n",
       "      <th>time</th>\n",
       "    </tr>\n",
       "  </thead>\n",
       "  <tbody>\n",
       "    <tr>\n",
       "      <td>0</td>\n",
       "      <td>111.005142</td>\n",
       "      <td>#na#</td>\n",
       "      <td>00:00</td>\n",
       "    </tr>\n",
       "    <tr>\n",
       "      <td>1</td>\n",
       "      <td>111.026070</td>\n",
       "      <td>#na#</td>\n",
       "      <td>00:00</td>\n",
       "    </tr>\n",
       "    <tr>\n",
       "      <td>2</td>\n",
       "      <td>110.749733</td>\n",
       "      <td>#na#</td>\n",
       "      <td>00:00</td>\n",
       "    </tr>\n",
       "    <tr>\n",
       "      <td>3</td>\n",
       "      <td>110.592918</td>\n",
       "      <td>#na#</td>\n",
       "      <td>00:00</td>\n",
       "    </tr>\n",
       "    <tr>\n",
       "      <td>4</td>\n",
       "      <td>110.245560</td>\n",
       "      <td>#na#</td>\n",
       "      <td>00:00</td>\n",
       "    </tr>\n",
       "    <tr>\n",
       "      <td>5</td>\n",
       "      <td>109.679993</td>\n",
       "      <td>#na#</td>\n",
       "      <td>00:00</td>\n",
       "    </tr>\n",
       "    <tr>\n",
       "      <td>6</td>\n",
       "      <td>107.977119</td>\n",
       "      <td>#na#</td>\n",
       "      <td>00:00</td>\n",
       "    </tr>\n",
       "    <tr>\n",
       "      <td>7</td>\n",
       "      <td>98.455360</td>\n",
       "      <td>#na#</td>\n",
       "      <td>00:00</td>\n",
       "    </tr>\n",
       "    <tr>\n",
       "      <td>8</td>\n",
       "      <td>86.072762</td>\n",
       "      <td>#na#</td>\n",
       "      <td>00:00</td>\n",
       "    </tr>\n",
       "    <tr>\n",
       "      <td>9</td>\n",
       "      <td>79.425842</td>\n",
       "      <td>#na#</td>\n",
       "      <td>00:00</td>\n",
       "    </tr>\n",
       "  </tbody>\n",
       "</table><p>\n",
       "\n",
       "    <div>\n",
       "        <style>\n",
       "            /* Turns off some styling */\n",
       "            progress {\n",
       "                /* gets rid of default border in Firefox and Opera. */\n",
       "                border: none;\n",
       "                /* Needs to be in here for Safari polyfill so background images work as expected. */\n",
       "                background-size: auto;\n",
       "            }\n",
       "            .progress-bar-interrupted, .progress-bar-interrupted::-webkit-progress-bar {\n",
       "                background: #F44336;\n",
       "            }\n",
       "        </style>\n",
       "      <progress value='1' class='' max='9', style='width:300px; height:20px; vertical-align: middle;'></progress>\n",
       "      11.11% [1/9 00:00<00:01 127.3129]\n",
       "    </div>\n",
       "    "
      ],
      "text/plain": [
       "<IPython.core.display.HTML object>"
      ]
     },
     "metadata": {},
     "output_type": "display_data"
    },
    {
     "name": "stdout",
     "output_type": "stream",
     "text": [
      "LR Finder is complete, type {learner_name}.recorder.plot() to see the graph.\n"
     ]
    },
    {
     "data": {
      "image/png": "[encoded data removed]",
      "text/plain": [
       "<Figure size 432x288 with 1 Axes>"
      ]
     },
     "metadata": {
      "needs_background": "light"
     },
     "output_type": "display_data"
    }
   ],
   "source": [
    "learn.lr_find()\n",
    "learn.recorder.plot()"
   ]
  },
  {
   "cell_type": "code",
   "execution_count": 71,
   "metadata": {},
   "outputs": [
    {
     "data": {
      "text/html": [
       "<table border=\"1\" class=\"dataframe\">\n",
       "  <thead>\n",
       "    <tr style=\"text-align: left;\">\n",
       "      <th>epoch</th>\n",
       "      <th>train_loss</th>\n",
       "      <th>valid_loss</th>\n",
       "      <th>mean_absolute_error</th>\n",
       "      <th>mean_squared_logarithmic_error</th>\n",
       "      <th>root_mean_squared_error</th>\n",
       "      <th>exp_rmspe</th>\n",
       "      <th>time</th>\n",
       "    </tr>\n",
       "  </thead>\n",
       "  <tbody>\n",
       "    <tr>\n",
       "      <td>0</td>\n",
       "      <td>70.760071</td>\n",
       "      <td>121.862122</td>\n",
       "      <td>8.439988</td>\n",
       "      <td>nan</td>\n",
       "      <td>10.991033</td>\n",
       "      <td>370363039744.000000</td>\n",
       "      <td>00:00</td>\n",
       "    </tr>\n",
       "    <tr>\n",
       "      <td>1</td>\n",
       "      <td>41.471184</td>\n",
       "      <td>21.584572</td>\n",
       "      <td>3.963320</td>\n",
       "      <td>0.223086</td>\n",
       "      <td>4.624774</td>\n",
       "      <td>3988.094238</td>\n",
       "      <td>00:00</td>\n",
       "    </tr>\n",
       "    <tr>\n",
       "      <td>2</td>\n",
       "      <td>30.025032</td>\n",
       "      <td>11.644509</td>\n",
       "      <td>2.687811</td>\n",
       "      <td>0.163829</td>\n",
       "      <td>3.400974</td>\n",
       "      <td>2671.527832</td>\n",
       "      <td>00:00</td>\n",
       "    </tr>\n",
       "    <tr>\n",
       "      <td>3</td>\n",
       "      <td>23.341146</td>\n",
       "      <td>9.891524</td>\n",
       "      <td>2.438227</td>\n",
       "      <td>0.138225</td>\n",
       "      <td>3.133082</td>\n",
       "      <td>3342.631348</td>\n",
       "      <td>00:00</td>\n",
       "    </tr>\n",
       "    <tr>\n",
       "      <td>4</td>\n",
       "      <td>18.796785</td>\n",
       "      <td>9.260242</td>\n",
       "      <td>2.450502</td>\n",
       "      <td>0.127512</td>\n",
       "      <td>3.033599</td>\n",
       "      <td>1204.512329</td>\n",
       "      <td>00:00</td>\n",
       "    </tr>\n",
       "    <tr>\n",
       "      <td>5</td>\n",
       "      <td>15.690874</td>\n",
       "      <td>8.510782</td>\n",
       "      <td>2.350226</td>\n",
       "      <td>0.124281</td>\n",
       "      <td>2.910508</td>\n",
       "      <td>1010.948853</td>\n",
       "      <td>00:00</td>\n",
       "    </tr>\n",
       "    <tr>\n",
       "      <td>6</td>\n",
       "      <td>13.583328</td>\n",
       "      <td>8.408577</td>\n",
       "      <td>2.329426</td>\n",
       "      <td>0.123783</td>\n",
       "      <td>2.886547</td>\n",
       "      <td>1250.642334</td>\n",
       "      <td>00:00</td>\n",
       "    </tr>\n",
       "    <tr>\n",
       "      <td>7</td>\n",
       "      <td>11.875087</td>\n",
       "      <td>9.553779</td>\n",
       "      <td>2.396278</td>\n",
       "      <td>0.133952</td>\n",
       "      <td>3.078767</td>\n",
       "      <td>4099.686035</td>\n",
       "      <td>00:00</td>\n",
       "    </tr>\n",
       "    <tr>\n",
       "      <td>8</td>\n",
       "      <td>10.557923</td>\n",
       "      <td>9.069807</td>\n",
       "      <td>2.396032</td>\n",
       "      <td>0.132041</td>\n",
       "      <td>3.001875</td>\n",
       "      <td>1462.414185</td>\n",
       "      <td>00:00</td>\n",
       "    </tr>\n",
       "    <tr>\n",
       "      <td>9</td>\n",
       "      <td>9.536117</td>\n",
       "      <td>8.216430</td>\n",
       "      <td>2.307680</td>\n",
       "      <td>0.119060</td>\n",
       "      <td>2.861103</td>\n",
       "      <td>1244.255737</td>\n",
       "      <td>00:00</td>\n",
       "    </tr>\n",
       "  </tbody>\n",
       "</table>"
      ],
      "text/plain": [
       "<IPython.core.display.HTML object>"
      ]
     },
     "metadata": {},
     "output_type": "display_data"
    }
   ],
   "source": [
    "# learn.fit_one_cycle(10, slice(1e-2, 1e-1), wd=0.1)\n",
    "learn.fit(10, (1e-01)/2, wd = 0.1)"
   ]
  },
  {
   "cell_type": "code",
   "execution_count": 72,
   "metadata": {},
   "outputs": [
    {
     "data": {
      "image/png": "[encoded data removed]",
      "text/plain": [
       "<Figure size 432x288 with 1 Axes>"
      ]
     },
     "metadata": {
      "needs_background": "light"
     },
     "output_type": "display_data"
    }
   ],
   "source": [
    "learn.recorder.plot_losses()"
   ]
  },
  {
   "cell_type": "code",
   "execution_count": 119,
   "metadata": {},
   "outputs": [],
   "source": [
    "#Trying out predictions"
   ]
  },
  {
   "cell_type": "code",
   "execution_count": 118,
   "metadata": {},
   "outputs": [
    {
     "data": {
      "text/html": [],
      "text/plain": [
       "<IPython.core.display.HTML object>"
      ]
     },
     "metadata": {},
     "output_type": "display_data"
    },
    {
     "data": {
      "text/plain": [
       "tensor([[10.2957],\n",
       "        [11.6667],\n",
       "        [ 7.0771]])"
      ]
     },
     "execution_count": 118,
     "metadata": {},
     "output_type": "execute_result"
    }
   ],
   "source": [
    "test_preds, _ = learn.get_preds(DatasetType.Test)\n",
    "# np.exp(test_preds[0].item()), np.exp(test_preds[1].item()), np.exp(test_preds[2].item()), np.exp(test_preds[3].item())\n",
    "test_preds[:3]"
   ]
  },
  {
   "cell_type": "code",
   "execution_count": 116,
   "metadata": {},
   "outputs": [
    {
     "data": {
      "text/plain": [
       "array([ 3596, 21000,    54])"
      ]
     },
     "execution_count": 116,
     "metadata": {},
     "output_type": "execute_result"
    }
   ],
   "source": [
    "test_df[dep_var].values[:3]"
   ]
  },
  {
   "cell_type": "code",
   "execution_count": 102,
   "metadata": {},
   "outputs": [
    {
     "data": {
      "text/plain": [
       "(10.295740127563477, 11.666696548461914, 7.077078819274902, 12.99042797088623)"
      ]
     },
     "execution_count": 102,
     "metadata": {},
     "output_type": "execute_result"
    }
   ],
   "source": [
    "test_preds[0].item(), test_preds[1].item(), test_preds[2].item(), test_preds[3].item()"
   ]
  },
  {
   "cell_type": "code",
   "execution_count": 101,
   "metadata": {},
   "outputs": [
    {
     "data": {
      "text/plain": [
       "(8.18757739559151, 21000, 54, 390150)"
      ]
     },
     "execution_count": 101,
     "metadata": {},
     "output_type": "execute_result"
    }
   ],
   "source": [
    "np.log(test_df[dep_var].values[0]), test_df[dep_var].values[1], test_df[dep_var].values[2], test_df[dep_var].values[3]"
   ]
  },
  {
   "cell_type": "code",
   "execution_count": 109,
   "metadata": {},
   "outputs": [
    {
     "ename": "KeyError",
     "evalue": "0",
     "output_type": "error",
     "traceback": [
      "\u001b[0;31m---------------------------------------------------------------------------\u001b[0m",
      "\u001b[0;31mKeyError\u001b[0m                                  Traceback (most recent call last)",
      "\u001b[0;32m~/anaconda3/envs/deep_ai/lib/python3.8/site-packages/pandas/core/indexes/base.py\u001b[0m in \u001b[0;36mget_loc\u001b[0;34m(self, key, method, tolerance)\u001b[0m\n\u001b[1;32m   2645\u001b[0m             \u001b[0;32mtry\u001b[0m\u001b[0;34m:\u001b[0m\u001b[0;34m\u001b[0m\u001b[0;34m\u001b[0m\u001b[0m\n\u001b[0;32m-> 2646\u001b[0;31m                 \u001b[0;32mreturn\u001b[0m \u001b[0mself\u001b[0m\u001b[0;34m.\u001b[0m\u001b[0m_engine\u001b[0m\u001b[0;34m.\u001b[0m\u001b[0mget_loc\u001b[0m\u001b[0;34m(\u001b[0m\u001b[0mkey\u001b[0m\u001b[0;34m)\u001b[0m\u001b[0;34m\u001b[0m\u001b[0;34m\u001b[0m\u001b[0m\n\u001b[0m\u001b[1;32m   2647\u001b[0m             \u001b[0;32mexcept\u001b[0m \u001b[0mKeyError\u001b[0m\u001b[0;34m:\u001b[0m\u001b[0;34m\u001b[0m\u001b[0;34m\u001b[0m\u001b[0m\n",
      "\u001b[0;32mpandas/_libs/index.pyx\u001b[0m in \u001b[0;36mpandas._libs.index.IndexEngine.get_loc\u001b[0;34m()\u001b[0m\n",
      "\u001b[0;32mpandas/_libs/index.pyx\u001b[0m in \u001b[0;36mpandas._libs.index.IndexEngine.get_loc\u001b[0;34m()\u001b[0m\n",
      "\u001b[0;32mpandas/_libs/hashtable_class_helper.pxi\u001b[0m in \u001b[0;36mpandas._libs.hashtable.PyObjectHashTable.get_item\u001b[0;34m()\u001b[0m\n",
      "\u001b[0;32mpandas/_libs/hashtable_class_helper.pxi\u001b[0m in \u001b[0;36mpandas._libs.hashtable.PyObjectHashTable.get_item\u001b[0;34m()\u001b[0m\n",
      "\u001b[0;31mKeyError\u001b[0m: 0",
      "\nDuring handling of the above exception, another exception occurred:\n",
      "\u001b[0;31mKeyError\u001b[0m                                  Traceback (most recent call last)",
      "\u001b[0;32m<ipython-input-109-99cfe553f2dd>\u001b[0m in \u001b[0;36m<module>\u001b[0;34m\u001b[0m\n\u001b[0;32m----> 1\u001b[0;31m \u001b[0mlearn\u001b[0m\u001b[0;34m.\u001b[0m\u001b[0mpredict\u001b[0m\u001b[0;34m(\u001b[0m\u001b[0mtest_df\u001b[0m\u001b[0;34m[\u001b[0m\u001b[0;36m0\u001b[0m\u001b[0;34m]\u001b[0m\u001b[0;34m)\u001b[0m\u001b[0;34m\u001b[0m\u001b[0;34m\u001b[0m\u001b[0m\n\u001b[0m",
      "\u001b[0;32m~/anaconda3/envs/deep_ai/lib/python3.8/site-packages/pandas/core/frame.py\u001b[0m in \u001b[0;36m__getitem__\u001b[0;34m(self, key)\u001b[0m\n\u001b[1;32m   2798\u001b[0m             \u001b[0;32mif\u001b[0m \u001b[0mself\u001b[0m\u001b[0;34m.\u001b[0m\u001b[0mcolumns\u001b[0m\u001b[0;34m.\u001b[0m\u001b[0mnlevels\u001b[0m \u001b[0;34m>\u001b[0m \u001b[0;36m1\u001b[0m\u001b[0;34m:\u001b[0m\u001b[0;34m\u001b[0m\u001b[0;34m\u001b[0m\u001b[0m\n\u001b[1;32m   2799\u001b[0m                 \u001b[0;32mreturn\u001b[0m \u001b[0mself\u001b[0m\u001b[0;34m.\u001b[0m\u001b[0m_getitem_multilevel\u001b[0m\u001b[0;34m(\u001b[0m\u001b[0mkey\u001b[0m\u001b[0;34m)\u001b[0m\u001b[0;34m\u001b[0m\u001b[0;34m\u001b[0m\u001b[0m\n\u001b[0;32m-> 2800\u001b[0;31m             \u001b[0mindexer\u001b[0m \u001b[0;34m=\u001b[0m \u001b[0mself\u001b[0m\u001b[0;34m.\u001b[0m\u001b[0mcolumns\u001b[0m\u001b[0;34m.\u001b[0m\u001b[0mget_loc\u001b[0m\u001b[0;34m(\u001b[0m\u001b[0mkey\u001b[0m\u001b[0;34m)\u001b[0m\u001b[0;34m\u001b[0m\u001b[0;34m\u001b[0m\u001b[0m\n\u001b[0m\u001b[1;32m   2801\u001b[0m             \u001b[0;32mif\u001b[0m \u001b[0mis_integer\u001b[0m\u001b[0;34m(\u001b[0m\u001b[0mindexer\u001b[0m\u001b[0;34m)\u001b[0m\u001b[0;34m:\u001b[0m\u001b[0;34m\u001b[0m\u001b[0;34m\u001b[0m\u001b[0m\n\u001b[1;32m   2802\u001b[0m                 \u001b[0mindexer\u001b[0m \u001b[0;34m=\u001b[0m \u001b[0;34m[\u001b[0m\u001b[0mindexer\u001b[0m\u001b[0;34m]\u001b[0m\u001b[0;34m\u001b[0m\u001b[0;34m\u001b[0m\u001b[0m\n",
      "\u001b[0;32m~/anaconda3/envs/deep_ai/lib/python3.8/site-packages/pandas/core/indexes/base.py\u001b[0m in \u001b[0;36mget_loc\u001b[0;34m(self, key, method, tolerance)\u001b[0m\n\u001b[1;32m   2646\u001b[0m                 \u001b[0;32mreturn\u001b[0m \u001b[0mself\u001b[0m\u001b[0;34m.\u001b[0m\u001b[0m_engine\u001b[0m\u001b[0;34m.\u001b[0m\u001b[0mget_loc\u001b[0m\u001b[0;34m(\u001b[0m\u001b[0mkey\u001b[0m\u001b[0;34m)\u001b[0m\u001b[0;34m\u001b[0m\u001b[0;34m\u001b[0m\u001b[0m\n\u001b[1;32m   2647\u001b[0m             \u001b[0;32mexcept\u001b[0m \u001b[0mKeyError\u001b[0m\u001b[0;34m:\u001b[0m\u001b[0;34m\u001b[0m\u001b[0;34m\u001b[0m\u001b[0m\n\u001b[0;32m-> 2648\u001b[0;31m                 \u001b[0;32mreturn\u001b[0m \u001b[0mself\u001b[0m\u001b[0;34m.\u001b[0m\u001b[0m_engine\u001b[0m\u001b[0;34m.\u001b[0m\u001b[0mget_loc\u001b[0m\u001b[0;34m(\u001b[0m\u001b[0mself\u001b[0m\u001b[0;34m.\u001b[0m\u001b[0m_maybe_cast_indexer\u001b[0m\u001b[0;34m(\u001b[0m\u001b[0mkey\u001b[0m\u001b[0;34m)\u001b[0m\u001b[0;34m)\u001b[0m\u001b[0;34m\u001b[0m\u001b[0;34m\u001b[0m\u001b[0m\n\u001b[0m\u001b[1;32m   2649\u001b[0m         \u001b[0mindexer\u001b[0m \u001b[0;34m=\u001b[0m \u001b[0mself\u001b[0m\u001b[0;34m.\u001b[0m\u001b[0mget_indexer\u001b[0m\u001b[0;34m(\u001b[0m\u001b[0;34m[\u001b[0m\u001b[0mkey\u001b[0m\u001b[0;34m]\u001b[0m\u001b[0;34m,\u001b[0m \u001b[0mmethod\u001b[0m\u001b[0;34m=\u001b[0m\u001b[0mmethod\u001b[0m\u001b[0;34m,\u001b[0m \u001b[0mtolerance\u001b[0m\u001b[0;34m=\u001b[0m\u001b[0mtolerance\u001b[0m\u001b[0;34m)\u001b[0m\u001b[0;34m\u001b[0m\u001b[0;34m\u001b[0m\u001b[0m\n\u001b[1;32m   2650\u001b[0m         \u001b[0;32mif\u001b[0m \u001b[0mindexer\u001b[0m\u001b[0;34m.\u001b[0m\u001b[0mndim\u001b[0m \u001b[0;34m>\u001b[0m \u001b[0;36m1\u001b[0m \u001b[0;32mor\u001b[0m \u001b[0mindexer\u001b[0m\u001b[0;34m.\u001b[0m\u001b[0msize\u001b[0m \u001b[0;34m>\u001b[0m \u001b[0;36m1\u001b[0m\u001b[0;34m:\u001b[0m\u001b[0;34m\u001b[0m\u001b[0;34m\u001b[0m\u001b[0m\n",
      "\u001b[0;32mpandas/_libs/index.pyx\u001b[0m in \u001b[0;36mpandas._libs.index.IndexEngine.get_loc\u001b[0;34m()\u001b[0m\n",
      "\u001b[0;32mpandas/_libs/index.pyx\u001b[0m in \u001b[0;36mpandas._libs.index.IndexEngine.get_loc\u001b[0;34m()\u001b[0m\n",
      "\u001b[0;32mpandas/_libs/hashtable_class_helper.pxi\u001b[0m in \u001b[0;36mpandas._libs.hashtable.PyObjectHashTable.get_item\u001b[0;34m()\u001b[0m\n",
      "\u001b[0;32mpandas/_libs/hashtable_class_helper.pxi\u001b[0m in \u001b[0;36mpandas._libs.hashtable.PyObjectHashTable.get_item\u001b[0;34m()\u001b[0m\n",
      "\u001b[0;31mKeyError\u001b[0m: 0"
     ]
    }
   ],
   "source": [
    "learn.predict(test_df[0])"
   ]
  },
  {
   "cell_type": "code",
   "execution_count": 278,
   "metadata": {},
   "outputs": [],
   "source": [
    "# np.exp(test_preds).squeeze().shape\n",
    "# test_df[dep_var].values\n",
    "# a = torch.from_numpy(test_df[dep_var].values)\n",
    "# a.shape"
   ]
  },
  {
   "cell_type": "code",
   "execution_count": 279,
   "metadata": {},
   "outputs": [],
   "source": [
    "# accuracy(np.exp(test_preds).squeeze(), a)"
   ]
  },
  {
   "cell_type": "code",
   "execution_count": null,
   "metadata": {},
   "outputs": [],
   "source": []
  }
 ],
 "metadata": {
  "kernelspec": {
   "display_name": "Python 3",
   "language": "python",
   "name": "python3"
  },
  "language_info": {
   "codemirror_mode": {
    "name": "ipython",
    "version": 3
   },
   "file_extension": ".py",
   "mimetype": "text/x-python",
   "name": "python",
   "nbconvert_exporter": "python",
   "pygments_lexer": "ipython3",
   "version": "3.8.2"
  },
  "toc": {
   "base_numbering": 1,
   "nav_menu": {},
   "number_sections": true,
   "sideBar": true,
   "skip_h1_title": false,
   "title_cell": "Table of Contents",
   "title_sidebar": "Contents",
   "toc_cell": false,
   "toc_position": {},
   "toc_section_display": true,
   "toc_window_display": false
  },
  "varInspector": {
   "cols": {
    "lenName": 16,
    "lenType": 16,
    "lenVar": 40
   },
   "kernels_config": {
    "python": {
     "delete_cmd_postfix": "",
     "delete_cmd_prefix": "del ",
     "library": "var_list.py",
     "varRefreshCmd": "print(var_dic_list())"
    },
    "r": {
     "delete_cmd_postfix": ") ",
     "delete_cmd_prefix": "rm(",
     "library": "var_list.r",
     "varRefreshCmd": "cat(var_dic_list()) "
    }
   },
   "types_to_exclude": [
    "module",
    "function",
    "builtin_function_or_method",
    "instance",
    "_Feature"
   ],
   "window_display": false
  }
 },
 "nbformat": 4,
 "nbformat_minor": 2
}
