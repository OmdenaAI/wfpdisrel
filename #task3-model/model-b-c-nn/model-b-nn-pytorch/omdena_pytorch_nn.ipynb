{
  "nbformat": 4,
  "nbformat_minor": 0,
  "metadata": {
    "colab": {
      "name": "omdena-pytorch-nn.ipynb",
      "provenance": [],
      "collapsed_sections": []
    },
    "kernelspec": {
      "name": "python3",
      "display_name": "Python 3"
    }
  },
  "cells": [
    {
      "cell_type": "code",
      "metadata": {
        "id": "4cCmriT5qEEv",
        "colab_type": "code",
        "colab": {}
      },
      "source": [
        "## Import important libraries\n",
        "\n",
        "import pandas as pd\n",
        "import numpy as np\n",
        "\n",
        "from plotnine import ggplot, geom_point, aes, stat_smooth, facet_wrap, geom_histogram, scale_x_log10\n",
        "from plotnine import geom_boxplot, scale_y_log10, geom_bar, geom_line, ggtitle\n",
        "from scipy.stats import pearsonr\n",
        "import itertools\n",
        "import scipy.stats as scs\n",
        "import matplotlib.pyplot as plt\n",
        "\n",
        "from sklearn.linear_model import LinearRegression\n",
        "from sklearn.model_selection import train_test_split\n",
        "from sklearn.metrics import r2_score, mean_squared_error\n",
        "from xgboost import XGBClassifier\n",
        "\n",
        "from sklearn.preprocessing import StandardScaler\n",
        "\n",
        "import torch\n",
        "import torch.nn as nn\n",
        "from torch.utils.data import DataLoader, TensorDataset"
      ],
      "execution_count": 0,
      "outputs": []
    },
    {
      "cell_type": "code",
      "metadata": {
        "id": "Qx951Eg4qTyZ",
        "colab_type": "code",
        "colab": {}
      },
      "source": [
        "# Import File\n",
        "\n",
        "filepath = './dataset/OUTPUT_WBI_exposer_cyclones_v6.csv'\n",
        "df = pd.read_csv(filepath)"
      ],
      "execution_count": 0,
      "outputs": []
    },
    {
      "cell_type": "code",
      "metadata": {
        "id": "VZ3QOpljqZq7",
        "colab_type": "code",
        "colab": {}
      },
      "source": [
        "# Drop some unimportant features\n",
        "df = df.drop(columns=['pop_max_34', 'pop_max_50', 'pop_max_64', 'Unnamed: 0', \"SID\"])"
      ],
      "execution_count": 0,
      "outputs": []
    },
    {
      "cell_type": "code",
      "metadata": {
        "id": "OXhxkCt6qbrD",
        "colab_type": "code",
        "colab": {}
      },
      "source": [
        "### Xaview Preprocessing\n",
        "\n",
        "\n",
        "df[\"SUB BASIN\"]= df[\"SUB BASIN\"].replace('MM', np.nan) \n",
        "df[\"BASIN\"]= df[\"BASIN\"].replace('MM', np.nan)\n",
        "\n",
        "df['SUB BASIN']= np.where(df['SUB BASIN'].isnull(), df['BASIN'], df['SUB BASIN'])\n",
        "\n",
        "df[\"USA_SSHS\"]= df[\"USA_SSHS\"].replace(-5, np.nan)\n",
        "\n",
        "\n",
        "\n",
        "df[\"TOTAL_DAMAGE_(000$)_Adjusted\"]= df[\"TOTAL_DAMAGE_(000$)\"] / df[\"CPI\"]\n",
        "df[\"TOTAL_DAMAGE_(000$)_Adjusted\"]= df[\"TOTAL_DAMAGE_(000$)_Adjusted\"].replace(0, np.nan)\n",
        "df = df.drop([\"TOTAL_DAMAGE_(000$)\",'CPI'], axis=1)\n"
      ],
      "execution_count": 0,
      "outputs": []
    },
    {
      "cell_type": "code",
      "metadata": {
        "id": "LK6Hqe1iqkm7",
        "colab_type": "code",
        "colab": {}
      },
      "source": [
        "\n",
        "## Binary column for whether SSHSS falls within 1-5 category scale\n",
        "df['SSHSS'] = np.where(df['USA_SSHS'] > 0, 1, 0)\n",
        "\n",
        "df[\"SSHSS\"] = df[\"SSHSS\"].astype('object')\n",
        "\n",
        "columns = ['BASIN', 'SUB BASIN', 'NATURE', 'Income_level_Final', 'USA_SSHS', 'SSHSS']"
      ],
      "execution_count": 0,
      "outputs": []
    },
    {
      "cell_type": "code",
      "metadata": {
        "id": "oULuvpUOqojl",
        "colab_type": "code",
        "outputId": "b816ffea-29b5-4753-fb2d-574f6dc16be1",
        "colab": {
          "base_uri": "https://localhost:8080/",
          "height": 833
        }
      },
      "source": [
        "## Check features no null count\n",
        "\n",
        "def checkNull(col, df):\n",
        "  return(df[col].isna().sum() / len(df[col]) * 100.0)\n",
        "  \n",
        "for each in df.columns.values:\n",
        "  print('{} ---- {}'.format(each, checkNull(each, df)))"
      ],
      "execution_count": 0,
      "outputs": [
        {
          "output_type": "stream",
          "text": [
            "NAME ---- 0.0\n",
            "ISO ---- 0.0\n",
            "YEAR ---- 0.0\n",
            "BASIN ---- 0.0\n",
            "SUB BASIN ---- 0.0\n",
            "NATURE ---- 0.0\n",
            "ISO_TIME ---- 0.0\n",
            "COORDS ---- 0.0\n",
            "TOTAL_HRS ---- 0.0\n",
            "DAY_HRS ---- 0.0\n",
            "NIGHT_HRS ---- 0.0\n",
            "USA_SSHS ---- 0.6704980842911877\n",
            "WIND_CAL_MIN ---- 0.0\n",
            "WIND_CAL_MAX ---- 0.0\n",
            "WIND_CALC_MEAN ---- 0.38314176245210724\n",
            "PRES_CAL_MIN ---- 0.0\n",
            "PRES_CAL_MAX ---- 0.0\n",
            "PRES_CALC_MEAN ---- 0.0\n",
            "STORM_SPD_MIN ---- 0.0\n",
            "STORM_SPD_MAX ---- 0.0\n",
            "STORM_SPD_MEAN ---- 0.0\n",
            "STORM_DR_MIN ---- 0.0\n",
            "STORM_DR_MAX ---- 0.0\n",
            "STORM_DR_MEAN ---- 0.0\n",
            "V_LAND_KN ---- 0.0\n",
            "34KN_ASSETS ---- 23.371647509578544\n",
            "64KN_ASSETS ---- 23.371647509578544\n",
            "96KN_ASSETS ---- 23.371647509578544\n",
            "TOTAL_DEATHS ---- 13.505747126436782\n",
            "Air transport, freight (million ton-km) ---- 15.996168582375478\n",
            "Arable land (hectares per person) ---- 0.09578544061302681\n",
            "Cereal yield (kg per hectare) ---- 0.9578544061302682\n",
            "Food production index (2004-2006 = 100) ---- 0.38314176245210724\n",
            "GDP growth (annual %) ---- 3.8314176245210727\n",
            "GDP per capita (constant 2010 US$) ---- 0.8620689655172413\n",
            "Net flows from UN agencies US$ ---- 0.0\n",
            "Life expectancy at birth, total (years) ---- 0.38314176245210724\n",
            "Mobile cellular subscriptions (per 100 people) ---- 0.8620689655172413\n",
            "Population density (people per sq. km of land area) ---- 0.0\n",
            "Adjusted savings: education expenditure (% of GNI) ---- 0.9578544061302682\n",
            "Rural population (% of total population) ---- 0.0\n",
            "Income_level_Final ---- 0.0\n",
            "TOTAL_AFFECTED ---- 0.0\n",
            "pop_max_34_adj ---- 0.0\n",
            "pop_max_50_adj ---- 0.0\n",
            "pop_max_64_adj ---- 0.0\n",
            "TOTAL_DAMAGE_(000$)_Adjusted ---- 31.992337164750957\n",
            "SSHSS ---- 0.0\n"
          ],
          "name": "stdout"
        }
      ]
    },
    {
      "cell_type": "code",
      "metadata": {
        "id": "SuQSxqCMqtD1",
        "colab_type": "code",
        "colab": {}
      },
      "source": [
        "\n",
        "## Drop columns with NaNs - Removed pending proper preprocessing of features \n",
        "## and NaNs are dealt with\n",
        "all_columns = df.columns.values\n",
        "\n",
        "to_remove = ['ID', 'NAME', 'ISO', 'Year', 'COORDS', 'ISO_TIME', '34kn_pop', \n",
        "             '34kn_assets', '64kn_pop', '64kn_assets', '96kn_pop', '96kn_assets',\n",
        "             \"Total damage ('000$)\", 'Air transport, freight (million ton-km)']\n",
        "\n",
        "to_remove.extend(['TOTAL_DAMAGE_(000$)_Adjusted', 'TOTAL_DEATHS', \n",
        "                  'Air transport, freight (million ton-km)', 'YEAR',\n",
        "                  '34KN_ASSETS', '64KN_ASSETS', '96KN_ASSETS'])\n",
        "\n",
        "\n",
        "regression_columns = [x for x in all_columns if x not in to_remove]\n",
        "\n",
        "no_na_df = df[regression_columns].dropna()\n",
        "\n",
        "\n",
        "\n"
      ],
      "execution_count": 0,
      "outputs": []
    },
    {
      "cell_type": "code",
      "metadata": {
        "id": "z5tb9za2qvIp",
        "colab_type": "code",
        "colab": {}
      },
      "source": [
        "## Create dummies for categorical features\n",
        "\n",
        "object_columns = [col for col in regression_columns if df[col].dtype == 'object']\n",
        "dummies = pd.get_dummies(no_na_df[object_columns])\n",
        "\n",
        "\n",
        "\n",
        "no_na_df = pd.concat([no_na_df, dummies], axis=1)\n",
        "\n",
        "object_columns.append('SSHSS_1')\n",
        "no_na_df = no_na_df.drop(columns=object_columns)"
      ],
      "execution_count": 0,
      "outputs": []
    },
    {
      "cell_type": "code",
      "metadata": {
        "id": "cGtbJrH9qxaT",
        "colab_type": "code",
        "colab": {}
      },
      "source": [
        "## Split data\n",
        "\n",
        "features = [x for x in no_na_df.columns.values if x != 'TOTAL_AFFECTED']\n",
        "X_train, X_test, y_train, y_test = train_test_split(\n",
        "    no_na_df[features], no_na_df['TOTAL_AFFECTED'], test_size=0.2, random_state=42)"
      ],
      "execution_count": 0,
      "outputs": []
    },
    {
      "cell_type": "code",
      "metadata": {
        "id": "Mo9l-rNuq0d5",
        "colab_type": "code",
        "colab": {}
      },
      "source": [
        "# Standard scaler\n",
        "\n",
        "scaler = StandardScaler()\n",
        "scaled_X = scaler.fit_transform(X_train)"
      ],
      "execution_count": 0,
      "outputs": []
    },
    {
      "cell_type": "code",
      "metadata": {
        "id": "QWEZW1fFq4SQ",
        "colab_type": "code",
        "colab": {}
      },
      "source": [
        "train = TensorDataset(torch.Tensor(scaled_X), torch.Tensor(y_train.values).view(-1, 1))\n",
        "train_loader = DataLoader(train, shuffle = True, batch_size = 32)"
      ],
      "execution_count": 0,
      "outputs": []
    },
    {
      "cell_type": "code",
      "metadata": {
        "id": "__S-0keLq804",
        "colab_type": "code",
        "colab": {}
      },
      "source": [
        "# Model Architecture\n",
        "class Net(torch.nn.Module):\n",
        "    def __init__(self, n_feature, n_hidden, n_output):\n",
        "        super(Net, self).__init__()\n",
        "        self.h1 = torch.nn.Linear(n_feature, n_hidden)\n",
        "        self.h2 = torch.nn.Linear(n_hidden, n_hidden*2) \n",
        "        self.h3 = torch.nn.Linear(n_hidden*2, n_hidden*4) \n",
        "\n",
        "        self.lRelu = torch.nn.LeakyReLU(0.2)\n",
        "\n",
        "        self.dropout = torch.nn.Dropout(0.4)\n",
        "\n",
        "        self.out = torch.nn.Linear(n_hidden*4, n_output)\n",
        "\n",
        "    def forward(self, x):\n",
        "        x = self.lRelu(self.h1(x))      \n",
        "        x = self.dropout(x)\n",
        "\n",
        "        x = self.lRelu(self.h2(x))   \n",
        "        x = self.dropout(x)\n",
        "\n",
        "        x = self.lRelu(self.h3(x))   \n",
        "        x = self.dropout(x)\n",
        "\n",
        "        x = self.out(x)             \n",
        "        return(x)\n",
        "\n",
        "\n",
        "def create_model(n_features, n_hidden, n_output):\n",
        "  clf = nn.Sequential(\n",
        "      nn.Linear(n_features, n_hidden), \n",
        "      nn.Linear(n_hidden, n_output), \n",
        "  )\n",
        "\n",
        "  return(clf)"
      ],
      "execution_count": 0,
      "outputs": []
    },
    {
      "cell_type": "code",
      "metadata": {
        "id": "8XDNg-iXq-1F",
        "colab_type": "code",
        "colab": {}
      },
      "source": [
        "## Loss & Optimizer setup\n",
        "\n",
        "model = Net(X_train.shape[1], 16, 1)\n",
        "\n",
        "optimizer = torch.optim.RMSprop(model.parameters(), lr = 0.001)\n",
        "criterion = torch.nn.MSELoss()\n",
        "\n",
        "epochs = 10"
      ],
      "execution_count": 0,
      "outputs": []
    },
    {
      "cell_type": "code",
      "metadata": {
        "id": "Jn0TjSSDrA5E",
        "colab_type": "code",
        "outputId": "28f70914-8d3f-4d6e-a760-721fbbd9c58e",
        "colab": {
          "base_uri": "https://localhost:8080/",
          "height": 1000
        }
      },
      "source": [
        "## Train model\n",
        "\n",
        "losses = []\n",
        "for n in range(1, epochs):\n",
        "  model.train()\n",
        "\n",
        "  for X, Y in train_loader:\n",
        "\n",
        "    optimizer.zero_grad()\n",
        "\n",
        "    pred = model(X)\n",
        "\n",
        "    loss = criterion(pred, Y)\n",
        "\n",
        "    loss.backward()\n",
        "    optimizer.step()\n",
        "\n",
        "    losses.append(loss)\n",
        "\n",
        "    print(\"Epoch - {}  Loss - {} \".format(n, loss))"
      ],
      "execution_count": 0,
      "outputs": [
        {
          "output_type": "stream",
          "text": [
            "Epoch - 1  Loss - 2370855501824.0 \n",
            "Epoch - 1  Loss - 358282166272.0 \n",
            "Epoch - 1  Loss - 1585125392384.0 \n",
            "Epoch - 1  Loss - 4271835185152.0 \n",
            "Epoch - 1  Loss - 516063068160.0 \n",
            "Epoch - 1  Loss - 5651338625024.0 \n",
            "Epoch - 1  Loss - 2199429578752.0 \n",
            "Epoch - 1  Loss - 1936332292096.0 \n",
            "Epoch - 1  Loss - 319217500160.0 \n",
            "Epoch - 1  Loss - 15825573511168.0 \n",
            "Epoch - 1  Loss - 615780581376.0 \n",
            "Epoch - 1  Loss - 8590146404352.0 \n",
            "Epoch - 1  Loss - 359286669312.0 \n",
            "Epoch - 1  Loss - 3693128187904.0 \n",
            "Epoch - 1  Loss - 14144223838208.0 \n",
            "Epoch - 1  Loss - 1784162811904.0 \n",
            "Epoch - 1  Loss - 1558842179584.0 \n",
            "Epoch - 1  Loss - 1394948833280.0 \n",
            "Epoch - 1  Loss - 573551083520.0 \n",
            "Epoch - 1  Loss - 533749235712.0 \n",
            "Epoch - 1  Loss - 1596759736320.0 \n",
            "Epoch - 1  Loss - 5951532826624.0 \n",
            "Epoch - 1  Loss - 7213441089536.0 \n",
            "Epoch - 1  Loss - 136760311808.0 \n",
            "Epoch - 1  Loss - 1281200750592.0 \n",
            "Epoch - 2  Loss - 414834229248.0 \n",
            "Epoch - 2  Loss - 53283872768.0 \n",
            "Epoch - 2  Loss - 6659476815872.0 \n",
            "Epoch - 2  Loss - 354233253888.0 \n",
            "Epoch - 2  Loss - 3962840285184.0 \n",
            "Epoch - 2  Loss - 9404881567744.0 \n",
            "Epoch - 2  Loss - 314045661184.0 \n",
            "Epoch - 2  Loss - 950087516160.0 \n",
            "Epoch - 2  Loss - 8721217880064.0 \n",
            "Epoch - 2  Loss - 2200951586816.0 \n",
            "Epoch - 2  Loss - 405664202752.0 \n",
            "Epoch - 2  Loss - 2281145368576.0 \n",
            "Epoch - 2  Loss - 908736331776.0 \n",
            "Epoch - 2  Loss - 338217762816.0 \n",
            "Epoch - 2  Loss - 1307813609472.0 \n",
            "Epoch - 2  Loss - 880009281536.0 \n",
            "Epoch - 2  Loss - 5846337585152.0 \n",
            "Epoch - 2  Loss - 13024129712128.0 \n",
            "Epoch - 2  Loss - 1255595311104.0 \n",
            "Epoch - 2  Loss - 3600115040256.0 \n",
            "Epoch - 2  Loss - 683722735616.0 \n",
            "Epoch - 2  Loss - 2668491702272.0 \n",
            "Epoch - 2  Loss - 1729134985216.0 \n",
            "Epoch - 2  Loss - 15243853955072.0 \n",
            "Epoch - 2  Loss - 989718249472.0 \n",
            "Epoch - 3  Loss - 1153115750400.0 \n",
            "Epoch - 3  Loss - 1437232136192.0 \n",
            "Epoch - 3  Loss - 12911426666496.0 \n",
            "Epoch - 3  Loss - 8100806918144.0 \n",
            "Epoch - 3  Loss - 1491817201664.0 \n",
            "Epoch - 3  Loss - 1221171347456.0 \n",
            "Epoch - 3  Loss - 269738147840.0 \n",
            "Epoch - 3  Loss - 67136602112.0 \n",
            "Epoch - 3  Loss - 9707873894400.0 \n",
            "Epoch - 3  Loss - 143629598720.0 \n",
            "Epoch - 3  Loss - 195855613952.0 \n",
            "Epoch - 3  Loss - 629172076544.0 \n",
            "Epoch - 3  Loss - 402188828672.0 \n",
            "Epoch - 3  Loss - 4132196319232.0 \n",
            "Epoch - 3  Loss - 842148937728.0 \n",
            "Epoch - 3  Loss - 17519416967168.0 \n",
            "Epoch - 3  Loss - 317012803584.0 \n",
            "Epoch - 3  Loss - 977207623680.0 \n",
            "Epoch - 3  Loss - 5627461500928.0 \n",
            "Epoch - 3  Loss - 1816465375232.0 \n",
            "Epoch - 3  Loss - 127114412032.0 \n",
            "Epoch - 3  Loss - 2044876816384.0 \n",
            "Epoch - 3  Loss - 8395875155968.0 \n",
            "Epoch - 3  Loss - 3792896262144.0 \n",
            "Epoch - 3  Loss - 624629252096.0 \n",
            "Epoch - 4  Loss - 1921090060288.0 \n",
            "Epoch - 4  Loss - 1209506463744.0 \n",
            "Epoch - 4  Loss - 1428978532352.0 \n",
            "Epoch - 4  Loss - 13015364665344.0 \n",
            "Epoch - 4  Loss - 305599381504.0 \n",
            "Epoch - 4  Loss - 610184396800.0 \n",
            "Epoch - 4  Loss - 2883591077888.0 \n",
            "Epoch - 4  Loss - 2664070381568.0 \n",
            "Epoch - 4  Loss - 1225862807552.0 \n",
            "Epoch - 4  Loss - 273478303744.0 \n",
            "Epoch - 4  Loss - 5970115690496.0 \n",
            "Epoch - 4  Loss - 8403641434112.0 \n",
            "Epoch - 4  Loss - 2107688747008.0 \n",
            "Epoch - 4  Loss - 2166504423424.0 \n",
            "Epoch - 4  Loss - 743819313152.0 \n",
            "Epoch - 4  Loss - 11539016843264.0 \n",
            "Epoch - 4  Loss - 1237288222720.0 \n",
            "Epoch - 4  Loss - 2264354521088.0 \n",
            "Epoch - 4  Loss - 7594165403648.0 \n",
            "Epoch - 4  Loss - 421652496384.0 \n",
            "Epoch - 4  Loss - 1115482226688.0 \n",
            "Epoch - 4  Loss - 104986558464.0 \n",
            "Epoch - 4  Loss - 805921816576.0 \n",
            "Epoch - 4  Loss - 12509536845824.0 \n",
            "Epoch - 4  Loss - 1923153395712.0 \n",
            "Epoch - 5  Loss - 3112466644992.0 \n",
            "Epoch - 5  Loss - 28892574253056.0 \n",
            "Epoch - 5  Loss - 2409967124480.0 \n",
            "Epoch - 5  Loss - 358268731392.0 \n",
            "Epoch - 5  Loss - 2741341782016.0 \n",
            "Epoch - 5  Loss - 332748947456.0 \n",
            "Epoch - 5  Loss - 6491973615616.0 \n",
            "Epoch - 5  Loss - 4460235980800.0 \n",
            "Epoch - 5  Loss - 479230558208.0 \n",
            "Epoch - 5  Loss - 1627187970048.0 \n",
            "Epoch - 5  Loss - 417827946496.0 \n",
            "Epoch - 5  Loss - 2074018971648.0 \n",
            "Epoch - 5  Loss - 286429216768.0 \n",
            "Epoch - 5  Loss - 1811855966208.0 \n",
            "Epoch - 5  Loss - 334966259712.0 \n",
            "Epoch - 5  Loss - 771411673088.0 \n",
            "Epoch - 5  Loss - 1693415505920.0 \n",
            "Epoch - 5  Loss - 52692537344.0 \n",
            "Epoch - 5  Loss - 1266653855744.0 \n",
            "Epoch - 5  Loss - 12550769999872.0 \n",
            "Epoch - 5  Loss - 2437326307328.0 \n",
            "Epoch - 5  Loss - 3233634320384.0 \n",
            "Epoch - 5  Loss - 3932948529152.0 \n",
            "Epoch - 5  Loss - 1547147149312.0 \n",
            "Epoch - 5  Loss - 311860723712.0 \n",
            "Epoch - 6  Loss - 394783031296.0 \n",
            "Epoch - 6  Loss - 2822146097152.0 \n",
            "Epoch - 6  Loss - 97537286144.0 \n",
            "Epoch - 6  Loss - 14520880726016.0 \n",
            "Epoch - 6  Loss - 6468645945344.0 \n",
            "Epoch - 6  Loss - 1183621447680.0 \n",
            "Epoch - 6  Loss - 430090059776.0 \n",
            "Epoch - 6  Loss - 1196110381056.0 \n",
            "Epoch - 6  Loss - 785912496128.0 \n",
            "Epoch - 6  Loss - 251145617408.0 \n",
            "Epoch - 6  Loss - 8115066503168.0 \n",
            "Epoch - 6  Loss - 914332844032.0 \n",
            "Epoch - 6  Loss - 7937890189312.0 \n",
            "Epoch - 6  Loss - 2778371457024.0 \n",
            "Epoch - 6  Loss - 9445831606272.0 \n",
            "Epoch - 6  Loss - 328336998400.0 \n",
            "Epoch - 6  Loss - 1278832017408.0 \n",
            "Epoch - 6  Loss - 157613867008.0 \n",
            "Epoch - 6  Loss - 48587567104.0 \n",
            "Epoch - 6  Loss - 1815399104512.0 \n",
            "Epoch - 6  Loss - 2332123987968.0 \n",
            "Epoch - 6  Loss - 6046654398464.0 \n",
            "Epoch - 6  Loss - 1220885610496.0 \n",
            "Epoch - 6  Loss - 12709821153280.0 \n",
            "Epoch - 6  Loss - 86543482880.0 \n",
            "Epoch - 7  Loss - 620414566400.0 \n",
            "Epoch - 7  Loss - 3354252017664.0 \n",
            "Epoch - 7  Loss - 7043773628416.0 \n",
            "Epoch - 7  Loss - 857136955392.0 \n",
            "Epoch - 7  Loss - 6908716515328.0 \n",
            "Epoch - 7  Loss - 1369757450240.0 \n",
            "Epoch - 7  Loss - 1787283243008.0 \n",
            "Epoch - 7  Loss - 24594329600.0 \n",
            "Epoch - 7  Loss - 3205406916608.0 \n",
            "Epoch - 7  Loss - 555491262464.0 \n",
            "Epoch - 7  Loss - 1612812910592.0 \n",
            "Epoch - 7  Loss - 1387132223488.0 \n",
            "Epoch - 7  Loss - 708270489600.0 \n",
            "Epoch - 7  Loss - 4921085657088.0 \n",
            "Epoch - 7  Loss - 839633010688.0 \n",
            "Epoch - 7  Loss - 12100699160576.0 \n",
            "Epoch - 7  Loss - 1952682606592.0 \n",
            "Epoch - 7  Loss - 13331564855296.0 \n",
            "Epoch - 7  Loss - 4405355610112.0 \n",
            "Epoch - 7  Loss - 3578024165376.0 \n",
            "Epoch - 7  Loss - 9309555523584.0 \n",
            "Epoch - 7  Loss - 205682737152.0 \n",
            "Epoch - 7  Loss - 1147777056768.0 \n",
            "Epoch - 7  Loss - 1809221025792.0 \n",
            "Epoch - 7  Loss - 480402997248.0 \n",
            "Epoch - 8  Loss - 3170826190848.0 \n",
            "Epoch - 8  Loss - 1373154050048.0 \n",
            "Epoch - 8  Loss - 1137865129984.0 \n",
            "Epoch - 8  Loss - 2338900148224.0 \n",
            "Epoch - 8  Loss - 1606728810496.0 \n",
            "Epoch - 8  Loss - 8585424666624.0 \n",
            "Epoch - 8  Loss - 849645535232.0 \n",
            "Epoch - 8  Loss - 4009981902848.0 \n",
            "Epoch - 8  Loss - 1700716871680.0 \n",
            "Epoch - 8  Loss - 1184793100288.0 \n",
            "Epoch - 8  Loss - 553472688128.0 \n",
            "Epoch - 8  Loss - 6313521184768.0 \n",
            "Epoch - 8  Loss - 483267280896.0 \n",
            "Epoch - 8  Loss - 1044363018240.0 \n",
            "Epoch - 8  Loss - 2067610468352.0 \n",
            "Epoch - 8  Loss - 1856046628864.0 \n",
            "Epoch - 8  Loss - 1275170914304.0 \n",
            "Epoch - 8  Loss - 1236105166848.0 \n",
            "Epoch - 8  Loss - 8575394512896.0 \n",
            "Epoch - 8  Loss - 7468780355584.0 \n",
            "Epoch - 8  Loss - 399700393984.0 \n",
            "Epoch - 8  Loss - 323706388480.0 \n",
            "Epoch - 8  Loss - 25101311410176.0 \n",
            "Epoch - 8  Loss - 109864198144.0 \n",
            "Epoch - 8  Loss - 843071750144.0 \n",
            "Epoch - 9  Loss - 1079625252864.0 \n",
            "Epoch - 9  Loss - 1350235586560.0 \n",
            "Epoch - 9  Loss - 9575866564608.0 \n",
            "Epoch - 9  Loss - 4891947827200.0 \n",
            "Epoch - 9  Loss - 1504124731392.0 \n",
            "Epoch - 9  Loss - 534422913024.0 \n",
            "Epoch - 9  Loss - 533318860800.0 \n",
            "Epoch - 9  Loss - 1389481951232.0 \n",
            "Epoch - 9  Loss - 273695703040.0 \n",
            "Epoch - 9  Loss - 3020976553984.0 \n",
            "Epoch - 9  Loss - 7521759657984.0 \n",
            "Epoch - 9  Loss - 798932140032.0 \n",
            "Epoch - 9  Loss - 146978979840.0 \n",
            "Epoch - 9  Loss - 15651142893568.0 \n",
            "Epoch - 9  Loss - 12578204942336.0 \n",
            "Epoch - 9  Loss - 526300119040.0 \n",
            "Epoch - 9  Loss - 363045060608.0 \n",
            "Epoch - 9  Loss - 6090166108160.0 \n",
            "Epoch - 9  Loss - 798311186432.0 \n",
            "Epoch - 9  Loss - 4342909239296.0 \n",
            "Epoch - 9  Loss - 152116084736.0 \n",
            "Epoch - 9  Loss - 2701833273344.0 \n",
            "Epoch - 9  Loss - 4004966301696.0 \n",
            "Epoch - 9  Loss - 329457827840.0 \n",
            "Epoch - 9  Loss - 4595558907904.0 \n"
          ],
          "name": "stdout"
        }
      ]
    },
    {
      "cell_type": "code",
      "metadata": {
        "id": "XcaLScHarXBB",
        "colab_type": "code",
        "colab": {}
      },
      "source": [
        "losses = [loss.item() for loss in losses]\n",
        "steps = np.arange(1, len(losses)+1)\n",
        "\n",
        "plott = pd.DataFrame({ \"steps\": steps, \n",
        "                       'loss': losses})"
      ],
      "execution_count": 0,
      "outputs": []
    },
    {
      "cell_type": "code",
      "metadata": {
        "id": "_Ma64Q9zsBKa",
        "colab_type": "code",
        "outputId": "9062ba08-f1ec-4e22-d691-45f8fddb1f82",
        "colab": {
          "base_uri": "https://localhost:8080/",
          "height": 490
        }
      },
      "source": [
        "## Visualize model loss\n",
        "\n",
        "(ggplot(plott, aes(x='steps', y='loss'))\n",
        " + geom_line()\n",
        " + ggtitle(\"Loss over time\"))"
      ],
      "execution_count": 0,
      "outputs": [
        {
          "output_type": "display_data",
          "data": {
            "image/png": "[encoded data removed]",
            "text/plain": [
              "<Figure size 640x480 with 1 Axes>"
            ]
          },
          "metadata": {
            "tags": []
          }
        },
        {
          "output_type": "execute_result",
          "data": {
            "text/plain": [
              "<ggplot: (8783889803128)>"
            ]
          },
          "metadata": {
            "tags": []
          },
          "execution_count": 43
        }
      ]
    }
  ]
}