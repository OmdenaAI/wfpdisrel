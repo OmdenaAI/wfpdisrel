{
  "nbformat": 4,
  "nbformat_minor": 0,
  "metadata": {
    "colab": {
      "name": "ANN-Classification.ipynb",
      "provenance": [],
      "collapsed_sections": []
    },
    "kernelspec": {
      "name": "python3",
      "display_name": "Python 3"
    }
  },
  "cells": [
    {
      "cell_type": "code",
      "metadata": {
        "id": "IgJ98UaJDzG3",
        "colab_type": "code",
        "outputId": "f1f364e8-f890-4166-f434-7f8a7487f0f2",
        "colab": {
          "base_uri": "https://localhost:8080/",
          "height": 35
        }
      },
      "source": [
        "# R. O. Gomes, last update 23.04.2020\n",
        "\n",
        "import tensorflow as tf\n",
        "print(tf.__version__)\n",
        "\n",
        "import matplotlib.pyplot as plt\n"
      ],
      "execution_count": 0,
      "outputs": [
        {
          "output_type": "stream",
          "text": [
            "2.2.0-rc3\n"
          ],
          "name": "stdout"
        }
      ]
    },
    {
      "cell_type": "code",
      "metadata": {
        "id": "laPsSHyrBQu2",
        "colab_type": "code",
        "outputId": "97742f43-ec57-4b33-e532-6b38e5a72d9b",
        "colab": {
          "base_uri": "https://localhost:8080/",
          "height": 35
        }
      },
      "source": [
        "# Load MSNIST data\n",
        "fashion_mnist= tf.keras.datasets.fashion_mnist\n",
        "\n",
        "labels={\n",
        "0: 'T-shirt/top', \n",
        "1: 'Trouser',\n",
        "2: 'Pullover',\n",
        "3: 'Dress',\n",
        "4: 'Coat',\n",
        "5: 'Sandal',\n",
        "6: 'Shirt',\n",
        "7: 'Sneaker',\n",
        "8: 'Bag',\n",
        "9: 'Ankle boot',\n",
        "}\n",
        "\n",
        "\n",
        "(x_train, y_train), (x_test, y_test) = fashion_mnist.load_data()\n",
        "\n",
        "x_train, x_test = x_train/255.0, x_test/255.0\n",
        "\n",
        "print(x_train.shape)"
      ],
      "execution_count": 0,
      "outputs": [
        {
          "output_type": "stream",
          "text": [
            "(60000, 28, 28)\n"
          ],
          "name": "stdout"
        }
      ]
    },
    {
      "cell_type": "code",
      "metadata": {
        "id": "AGDww1K9EHwB",
        "colab_type": "code",
        "colab": {}
      },
      "source": [
        "# Model\n",
        "\n",
        "model = tf.keras.models.Sequential([\n",
        "                                    tf.keras.layers.Flatten(input_shape=(28, 28)),\n",
        "                                    tf.keras.layers.Dense(128, activation='relu'),\n",
        "                                    tf.keras.layers.Dropout(0.2),\n",
        "                                    tf.keras.layers.Dense(10, activation='softmax')\n",
        "                                    ])\n"
      ],
      "execution_count": 0,
      "outputs": []
    },
    {
      "cell_type": "code",
      "metadata": {
        "id": "zcdcQm6RF7h9",
        "colab_type": "code",
        "colab": {}
      },
      "source": [
        "# Compile the model\n",
        "\n",
        "model.compile(optimizer='adam',\n",
        "              loss= 'sparse_categorical_crossentropy',\n",
        "              metrics=['accuracy'])"
      ],
      "execution_count": 0,
      "outputs": []
    },
    {
      "cell_type": "code",
      "metadata": {
        "id": "GzsWeGgdJEyk",
        "colab_type": "code",
        "outputId": "5d35a47a-a665-4f6a-fea9-ae82e4068244",
        "colab": {
          "base_uri": "https://localhost:8080/",
          "height": 417
        }
      },
      "source": [
        "# Training\n",
        "\n",
        "fitting = model.fit(x_train, y_train, validation_data=(x_test, y_test), epochs=11)"
      ],
      "execution_count": 0,
      "outputs": [
        {
          "output_type": "stream",
          "text": [
            "Epoch 1/11\n",
            "1875/1875 [==============================] - 5s 2ms/step - loss: 0.5231 - accuracy: 0.8138 - val_loss: 0.4345 - val_accuracy: 0.8421\n",
            "Epoch 2/11\n",
            "1875/1875 [==============================] - 4s 2ms/step - loss: 0.3999 - accuracy: 0.8548 - val_loss: 0.3948 - val_accuracy: 0.8569\n",
            "Epoch 3/11\n",
            "1875/1875 [==============================] - 4s 2ms/step - loss: 0.3647 - accuracy: 0.8673 - val_loss: 0.3768 - val_accuracy: 0.8642\n",
            "Epoch 4/11\n",
            "1875/1875 [==============================] - 4s 2ms/step - loss: 0.3455 - accuracy: 0.8741 - val_loss: 0.3611 - val_accuracy: 0.8692\n",
            "Epoch 5/11\n",
            "1875/1875 [==============================] - 4s 2ms/step - loss: 0.3307 - accuracy: 0.8787 - val_loss: 0.3560 - val_accuracy: 0.8735\n",
            "Epoch 6/11\n",
            "1875/1875 [==============================] - 4s 2ms/step - loss: 0.3164 - accuracy: 0.8824 - val_loss: 0.3491 - val_accuracy: 0.8755\n",
            "Epoch 7/11\n",
            "1875/1875 [==============================] - 5s 3ms/step - loss: 0.3078 - accuracy: 0.8857 - val_loss: 0.3461 - val_accuracy: 0.8763\n",
            "Epoch 8/11\n",
            "1875/1875 [==============================] - 5s 2ms/step - loss: 0.3001 - accuracy: 0.8884 - val_loss: 0.3366 - val_accuracy: 0.8802\n",
            "Epoch 9/11\n",
            "1875/1875 [==============================] - 4s 2ms/step - loss: 0.2904 - accuracy: 0.8911 - val_loss: 0.3471 - val_accuracy: 0.8774\n",
            "Epoch 10/11\n",
            "1875/1875 [==============================] - 4s 2ms/step - loss: 0.2838 - accuracy: 0.8937 - val_loss: 0.3342 - val_accuracy: 0.8805\n",
            "Epoch 11/11\n",
            "1875/1875 [==============================] - 4s 2ms/step - loss: 0.2775 - accuracy: 0.8966 - val_loss: 0.3383 - val_accuracy: 0.8800\n"
          ],
          "name": "stdout"
        }
      ]
    },
    {
      "cell_type": "code",
      "metadata": {
        "id": "LsZXIC55Ja3-",
        "colab_type": "code",
        "outputId": "4afc81bc-ece8-4e25-ec83-e38dc8bd1963",
        "colab": {
          "base_uri": "https://localhost:8080/",
          "height": 297
        }
      },
      "source": [
        "# Loss per iteratction (history is an attribute from the model which stores ['loss', 'accuracy', 'val_loss', 'val_accuracy'] in a dictionary)\n",
        "plt.plot(fitting.history['loss'], label='loss')\n",
        "plt.plot(fitting.history['val_loss'], label='val_loss')\n",
        "\n",
        "plt.xlabel('Epoch')\n",
        "plt.ylabel('Loss')\n",
        "\n",
        "\n",
        "plt.legend()"
      ],
      "execution_count": 0,
      "outputs": [
        {
          "output_type": "execute_result",
          "data": {
            "text/plain": [
              "<matplotlib.legend.Legend at 0x7f03c1a97b70>"
            ]
          },
          "metadata": {
            "tags": []
          },
          "execution_count": 6
        },
        {
          "output_type": "display_data",
          "data": {
            "image/png": "[encoded data removed]",
            "text/plain": [
              "<Figure size 432x288 with 1 Axes>"
            ]
          },
          "metadata": {
            "tags": [],
            "needs_background": "light"
          }
        }
      ]
    },
    {
      "cell_type": "code",
      "metadata": {
        "id": "K4j16KdIJ6yq",
        "colab_type": "code",
        "colab": {}
      },
      "source": [
        ""
      ],
      "execution_count": 0,
      "outputs": []
    },
    {
      "cell_type": "code",
      "metadata": {
        "colab_type": "code",
        "outputId": "f59a7f10-a899-48dd-d6bf-1eb81b8b30b3",
        "id": "TrqA2HWaM8gw",
        "colab": {
          "base_uri": "https://localhost:8080/",
          "height": 300
        }
      },
      "source": [
        "# Accuracy per iteratction (history is an attribute from the model which stores ['loss', 'accuracy', 'val_loss', 'val_accuracy'] in a dictionary)\n",
        "plt.plot(fitting.history['accuracy'], label='accuracy')\n",
        "plt.plot(fitting.history['val_accuracy'], label='val_accuracy')\n",
        "\n",
        "plt.xlabel('Epoch')\n",
        "plt.ylabel('Accuracy')\n",
        "\n",
        "plt.legend()"
      ],
      "execution_count": 0,
      "outputs": [
        {
          "output_type": "execute_result",
          "data": {
            "text/plain": [
              "<matplotlib.legend.Legend at 0x7f03b88cd3c8>"
            ]
          },
          "metadata": {
            "tags": []
          },
          "execution_count": 7
        },
        {
          "output_type": "display_data",
          "data": {
            "image/png": "[encoded data removed]",
            "text/plain": [
              "<Figure size 432x288 with 1 Axes>"
            ]
          },
          "metadata": {
            "tags": [],
            "needs_background": "light"
          }
        }
      ]
    },
    {
      "cell_type": "code",
      "metadata": {
        "id": "OocVSEOSNElM",
        "colab_type": "code",
        "outputId": "523d7514-f877-4316-abdd-bc4cf235ea9e",
        "colab": {
          "base_uri": "https://localhost:8080/",
          "height": 54
        }
      },
      "source": [
        "# Evaluate\n",
        "\n",
        "print(model.evaluate(x_test,y_test))\n",
        "\n"
      ],
      "execution_count": 0,
      "outputs": [
        {
          "output_type": "stream",
          "text": [
            "313/313 [==============================] - 0s 1ms/step - loss: 0.3383 - accuracy: 0.8800\n",
            "[0.33831560611724854, 0.8799999952316284]\n"
          ],
          "name": "stdout"
        }
      ]
    },
    {
      "cell_type": "code",
      "metadata": {
        "id": "6-35XdsRNS0a",
        "colab_type": "code",
        "colab": {}
      },
      "source": [
        "# Plotting Confusion Matrix\n",
        "\n",
        "from sklearn.metrics import confusion_matrix\n",
        "import numpy as np\n",
        "import itertools"
      ],
      "execution_count": 0,
      "outputs": []
    },
    {
      "cell_type": "code",
      "metadata": {
        "id": "XhhmEqmfSlOI",
        "colab_type": "code",
        "outputId": "8a479677-8775-4956-df41-afae1207adf4",
        "colab": {
          "base_uri": "https://localhost:8080/",
          "height": 511
        }
      },
      "source": [
        "def plot_confusion_matrix(cm, classes,\n",
        "                          normalize = False, \n",
        "                          title='Confusion Matrix',\n",
        "                          cmap = plt.cm.Blues):\n",
        "  'To normalize the confusion matrix, set normalize to True'\n",
        "\n",
        "  if normalize:\n",
        "    cm = cm.astype('float')/cm.sum(axis=1)[:,np.newaxis]\n",
        "    print('Normalized confusion matrix')\n",
        "  else : \n",
        "    print('Confusion matrix (no normalization)')\n",
        "  print(cm)\n",
        "\n",
        "  plt.imshow(cm, interpolation='nearest', cmap=cmap)\n",
        "  plt.title(title)\n",
        "  plt.colorbar()\n",
        "  tick_marks= np.arange(len(classes))\n",
        "  plt.xticks(tick_marks,  classes, rotation=45)\n",
        "  plt.yticks(tick_marks,  classes)\n",
        "\n",
        "  fmt = '.2f' if normalize else 'd'\n",
        "  thresh = cm.max()/2.\n",
        "  for i, j in itertools.product(range(cm.shape[0]), range(cm.shape[1])):\n",
        "    plt.text(j, i, format(cm[i,j],fmt),\n",
        "             horizontalalignment='center',\n",
        "             color='white' if cm[i,j]>thresh else 'black')\n",
        "  plt.tight_layout()\n",
        "  plt.ylabel('True label')\n",
        "  plt.xlabel('Predicted label')\n",
        "  plt.show()\n",
        "\n",
        "p_test = model.predict(x_test).argmax(axis=1)\n",
        "cm =  confusion_matrix(y_test, p_test)\n",
        "plot_confusion_matrix(cm, list(range(10)))"
      ],
      "execution_count": 0,
      "outputs": [
        {
          "output_type": "stream",
          "text": [
            "Confusion matrix (no normalization)\n",
            "[[865   1  13  39   5   0  70   0   7   0]\n",
            " [  1 975   0  18   3   0   1   0   2   0]\n",
            " [ 16   1 805  15 111   0  50   0   2   0]\n",
            " [ 17   8   9 927  16   0  15   0   8   0]\n",
            " [  0   1  84  54 819   0  38   0   4   0]\n",
            " [  0   0   0   1   0 938   0  31   1  29]\n",
            " [158   2 110  32  99   0 587   0  12   0]\n",
            " [  0   0   0   0   0   8   0 928   0  64]\n",
            " [  6   0   5   5   3   1   2   4 974   0]\n",
            " [  1   0   0   0   0   2   0  15   0 982]]\n"
          ],
          "name": "stdout"
        },
        {
          "output_type": "display_data",
          "data": {
            "image/png": "[encoded data removed]",
            "text/plain": [
              "<Figure size 432x288 with 2 Axes>"
            ]
          },
          "metadata": {
            "tags": [],
            "needs_background": "light"
          }
        }
      ]
    },
    {
      "cell_type": "code",
      "metadata": {
        "id": "gg-GaQMUWT6S",
        "colab_type": "code",
        "outputId": "218a028e-d316-42e8-9137-de6431100301",
        "colab": {
          "base_uri": "https://localhost:8080/",
          "height": 281
        }
      },
      "source": [
        "# Looking for misclassified data\n",
        "\n",
        "misclassified_idx = np.where(p_test !=y_test)[0]\n",
        "i = np.random.choice(misclassified_idx)\n",
        "\n",
        "plt.imshow(x_test[i], cmap='gray')\n",
        "plt.title(\"True label: %s Predicted: %s\" % (labels[y_test[i]], labels[p_test[i]]));"
      ],
      "execution_count": 0,
      "outputs": [
        {
          "output_type": "display_data",
          "data": {
            "image/png": "[encoded data removed]",
            "text/plain": [
              "<Figure size 432x288 with 1 Axes>"
            ]
          },
          "metadata": {
            "tags": [],
            "needs_background": "light"
          }
        }
      ]
    },
    {
      "cell_type": "code",
      "metadata": {
        "id": "eFGT223QX_U8",
        "colab_type": "code",
        "colab": {}
      },
      "source": [
        ""
      ],
      "execution_count": 0,
      "outputs": []
    }
  ]
}