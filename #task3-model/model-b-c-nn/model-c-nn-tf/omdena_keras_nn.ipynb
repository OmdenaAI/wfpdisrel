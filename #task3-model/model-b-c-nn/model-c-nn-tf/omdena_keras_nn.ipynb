{
  "nbformat": 4,
  "nbformat_minor": 0,
  "metadata": {
    "colab": {
      "name": "omdena-keras-nn.ipynb",
      "provenance": [],
      "collapsed_sections": []
    },
    "kernelspec": {
      "name": "python3",
      "display_name": "Python 3"
    }
  },
  "cells": [
    {
      "cell_type": "code",
      "metadata": {
        "id": "PgLv7G2mtxxE",
        "colab_type": "code",
        "outputId": "813d8486-650d-4c94-f892-2b73ec946ac9",
        "colab": {
          "base_uri": "https://localhost:8080/",
          "height": 34
        }
      },
      "source": [
        "## Import important libraries\n",
        "\n",
        "\n",
        "import pandas as pd\n",
        "import numpy as np\n",
        "\n",
        "from plotnine import ggplot, geom_point, aes, stat_smooth, facet_wrap, geom_histogram, scale_x_log10\n",
        "from plotnine import geom_boxplot, scale_y_log10, geom_bar, geom_line, ggtitle\n",
        "from scipy.stats import pearsonr\n",
        "import itertools\n",
        "import scipy.stats as scs\n",
        "import matplotlib.pyplot as plt\n",
        "\n",
        "from sklearn.linear_model import LinearRegression\n",
        "from sklearn.model_selection import train_test_split\n",
        "from sklearn.metrics import r2_score, mean_squared_error\n",
        "from xgboost import XGBClassifier\n",
        "\n",
        "from sklearn.preprocessing import StandardScaler\n",
        "\n",
        "from keras.models import Sequential, load_model\n",
        "from keras.layers.core import Dense, Activation, Dropout\n",
        "from keras.layers import LeakyReLU\n",
        "from keras import callbacks, optimizers\n",
        "from keras.callbacks import EarlyStopping, ModelCheckpoint\n"
      ],
      "execution_count": 0,
      "outputs": [
        {
          "output_type": "stream",
          "text": [
            "Using TensorFlow backend.\n"
          ],
          "name": "stderr"
        }
      ]
    },
    {
      "cell_type": "code",
      "metadata": {
        "id": "6MpiHuEet8SK",
        "colab_type": "code",
        "colab": {}
      },
      "source": [
        "# Import File\n",
        "\n",
        "\n",
        "filepath = './dataset/OUTPUT_WBI_exposer_cyclones_v6.csv'\n",
        "df = pd.read_csv(filepath)"
      ],
      "execution_count": 0,
      "outputs": []
    },
    {
      "cell_type": "code",
      "metadata": {
        "id": "KQvmJjwtt9ye",
        "colab_type": "code",
        "colab": {}
      },
      "source": [
        "# Drop some unimportant features\n",
        "\n",
        "df = df.drop(columns=['pop_max_34', 'pop_max_50', 'pop_max_64', 'Unnamed: 0', \"SID\"])"
      ],
      "execution_count": 0,
      "outputs": []
    },
    {
      "cell_type": "code",
      "metadata": {
        "id": "_CrrEpKyt_Lj",
        "colab_type": "code",
        "colab": {}
      },
      "source": [
        "### Xaview Preprocessing\n",
        "\n",
        "\n",
        "df[\"SUB BASIN\"]= df[\"SUB BASIN\"].replace('MM', np.nan) \n",
        "df[\"BASIN\"]= df[\"BASIN\"].replace('MM', np.nan)\n",
        "\n",
        "df['SUB BASIN']= np.where(df['SUB BASIN'].isnull(), df['BASIN'], df['SUB BASIN'])\n",
        "\n",
        "df[\"USA_SSHS\"]= df[\"USA_SSHS\"].replace(-5, np.nan)\n",
        "\n",
        "\n",
        "\n",
        "df[\"TOTAL_DAMAGE_(000$)_Adjusted\"]= df[\"TOTAL_DAMAGE_(000$)\"] / df[\"CPI\"]\n",
        "df[\"TOTAL_DAMAGE_(000$)_Adjusted\"]= df[\"TOTAL_DAMAGE_(000$)_Adjusted\"].replace(0, np.nan)\n",
        "df = df.drop([\"TOTAL_DAMAGE_(000$)\",'CPI'], axis=1)\n"
      ],
      "execution_count": 0,
      "outputs": []
    },
    {
      "cell_type": "code",
      "metadata": {
        "id": "8d_l0VwhuAnS",
        "colab_type": "code",
        "colab": {}
      },
      "source": [
        "## Binary column for whether SSHSS falls within 1-5 category scale\n",
        "\n",
        "\n",
        "df['SSHSS'] = np.where(df['USA_SSHS'] > 0, 1, 0)\n",
        "\n",
        "df[\"SSHSS\"] = df[\"SSHSS\"].astype('object')\n",
        "\n",
        "columns = ['BASIN', 'SUB BASIN', 'NATURE', 'Income_level_Final', 'USA_SSHS', 'SSHSS']"
      ],
      "execution_count": 0,
      "outputs": []
    },
    {
      "cell_type": "code",
      "metadata": {
        "id": "0v1ONiuvuCA-",
        "colab_type": "code",
        "outputId": "0f6af174-a333-4085-805b-6a61a2a22f12",
        "colab": {
          "base_uri": "https://localhost:8080/",
          "height": 833
        }
      },
      "source": [
        "## Check features null count\n",
        "\n",
        "\n",
        "def checkNull(col, df):\n",
        "  return(df[col].isna().sum() / len(df[col]) * 100.0)\n",
        "  \n",
        "for each in df.columns.values:\n",
        "  print('{} ---- {}'.format(each, checkNull(each, df)))"
      ],
      "execution_count": 0,
      "outputs": [
        {
          "output_type": "stream",
          "text": [
            "NAME ---- 0.0\n",
            "ISO ---- 0.0\n",
            "YEAR ---- 0.0\n",
            "BASIN ---- 0.0\n",
            "SUB BASIN ---- 0.0\n",
            "NATURE ---- 0.0\n",
            "ISO_TIME ---- 0.0\n",
            "COORDS ---- 0.0\n",
            "TOTAL_HRS ---- 0.0\n",
            "DAY_HRS ---- 0.0\n",
            "NIGHT_HRS ---- 0.0\n",
            "USA_SSHS ---- 0.6704980842911877\n",
            "WIND_CAL_MIN ---- 0.0\n",
            "WIND_CAL_MAX ---- 0.0\n",
            "WIND_CALC_MEAN ---- 0.38314176245210724\n",
            "PRES_CAL_MIN ---- 0.0\n",
            "PRES_CAL_MAX ---- 0.0\n",
            "PRES_CALC_MEAN ---- 0.0\n",
            "STORM_SPD_MIN ---- 0.0\n",
            "STORM_SPD_MAX ---- 0.0\n",
            "STORM_SPD_MEAN ---- 0.0\n",
            "STORM_DR_MIN ---- 0.0\n",
            "STORM_DR_MAX ---- 0.0\n",
            "STORM_DR_MEAN ---- 0.0\n",
            "V_LAND_KN ---- 0.0\n",
            "34KN_ASSETS ---- 23.371647509578544\n",
            "64KN_ASSETS ---- 23.371647509578544\n",
            "96KN_ASSETS ---- 23.371647509578544\n",
            "TOTAL_DEATHS ---- 13.505747126436782\n",
            "Air transport, freight (million ton-km) ---- 15.996168582375478\n",
            "Arable land (hectares per person) ---- 0.09578544061302681\n",
            "Cereal yield (kg per hectare) ---- 0.9578544061302682\n",
            "Food production index (2004-2006 = 100) ---- 0.38314176245210724\n",
            "GDP growth (annual %) ---- 3.8314176245210727\n",
            "GDP per capita (constant 2010 US$) ---- 0.8620689655172413\n",
            "Net flows from UN agencies US$ ---- 0.0\n",
            "Life expectancy at birth, total (years) ---- 0.38314176245210724\n",
            "Mobile cellular subscriptions (per 100 people) ---- 0.8620689655172413\n",
            "Population density (people per sq. km of land area) ---- 0.0\n",
            "Adjusted savings: education expenditure (% of GNI) ---- 0.9578544061302682\n",
            "Rural population (% of total population) ---- 0.0\n",
            "Income_level_Final ---- 0.0\n",
            "TOTAL_AFFECTED ---- 0.0\n",
            "pop_max_34_adj ---- 0.0\n",
            "pop_max_50_adj ---- 0.0\n",
            "pop_max_64_adj ---- 0.0\n",
            "TOTAL_DAMAGE_(000$)_Adjusted ---- 31.992337164750957\n",
            "SSHSS ---- 0.0\n"
          ],
          "name": "stdout"
        }
      ]
    },
    {
      "cell_type": "code",
      "metadata": {
        "id": "xqm_FIAXuDut",
        "colab_type": "code",
        "colab": {}
      },
      "source": [
        "\n",
        "## Drop columns with NaNs - Removed pending proper preprocessing of features \n",
        "## and NaNs are dealt with\n",
        "\n",
        "all_columns = df.columns.values\n",
        "\n",
        "to_remove = ['ID', 'NAME', 'ISO', 'Year', 'COORDS', 'ISO_TIME', '34kn_pop', \n",
        "             '34kn_assets', '64kn_pop', '64kn_assets', '96kn_pop', '96kn_assets',\n",
        "             \"Total damage ('000$)\", 'Air transport, freight (million ton-km)']\n",
        "\n",
        "to_remove.extend(['TOTAL_DAMAGE_(000$)_Adjusted', 'TOTAL_DEATHS', \n",
        "                  'Air transport, freight (million ton-km)', 'YEAR',\n",
        "                  '34KN_ASSETS', '64KN_ASSETS', '96KN_ASSETS'])\n",
        "\n",
        "\n",
        "regression_columns = [x for x in all_columns if x not in to_remove]\n",
        "\n",
        "no_na_df = df[regression_columns].dropna()\n",
        "\n",
        "\n",
        "\n"
      ],
      "execution_count": 0,
      "outputs": []
    },
    {
      "cell_type": "code",
      "metadata": {
        "id": "yJX6PsvDuFCB",
        "colab_type": "code",
        "colab": {}
      },
      "source": [
        "\n",
        "## Create dummies for categorical features\n",
        "\n",
        "\n",
        "object_columns = [col for col in regression_columns if df[col].dtype == 'object']\n",
        "dummies = pd.get_dummies(no_na_df[object_columns])\n",
        "\n",
        "\n",
        "\n",
        "no_na_df = pd.concat([no_na_df, dummies], axis=1)\n",
        "\n",
        "object_columns.append('SSHSS_1')\n",
        "no_na_df = no_na_df.drop(columns=object_columns)"
      ],
      "execution_count": 0,
      "outputs": []
    },
    {
      "cell_type": "code",
      "metadata": {
        "id": "vDWrhfl5uGcf",
        "colab_type": "code",
        "colab": {}
      },
      "source": [
        "## Split data\n",
        "\n",
        "\n",
        "features = [x for x in no_na_df.columns.values if x != 'TOTAL_AFFECTED']\n",
        "X_train, X_test, y_train, y_test = train_test_split(\n",
        "    no_na_df[features], no_na_df['TOTAL_AFFECTED'], test_size=0.2, random_state=42)"
      ],
      "execution_count": 0,
      "outputs": []
    },
    {
      "cell_type": "code",
      "metadata": {
        "id": "FOAY8wZVuH8j",
        "colab_type": "code",
        "colab": {}
      },
      "source": [
        "# Standard scaler\n",
        "\n",
        "scaler = StandardScaler()\n",
        "scaled_X = scaler.fit_transform(X_train)"
      ],
      "execution_count": 0,
      "outputs": []
    },
    {
      "cell_type": "code",
      "metadata": {
        "id": "_ney73oAuJrM",
        "colab_type": "code",
        "colab": {}
      },
      "source": [
        "# Model Architecture\n",
        "\n",
        "\n",
        "\n",
        "def build_model():\n",
        "  clf = Sequential()\n",
        "\n",
        "  clf.add(Dense(32, input_shape=(X_train.shape[1], )))\n",
        "  clf.add(LeakyReLU(0.2))\n",
        "  clf.add(Dropout(0.5))\n",
        "\n",
        "  clf.add(Dense(64))\n",
        "  clf.add(LeakyReLU(0.1))\n",
        "  clf.add(Dropout(0.4))\n",
        "  \n",
        "  clf.add(Dense(128))\n",
        "  clf.add(LeakyReLU(0.1))\n",
        "  clf.add(Dropout(0.4))\n",
        "\n",
        "  clf.add(Dense(256))\n",
        "  clf.add(LeakyReLU(0.1))\n",
        "  clf.add(Dropout(0.3))\n",
        "\n",
        "  clf.add(Dense(1))\n",
        "\n",
        "  return(clf)"
      ],
      "execution_count": 0,
      "outputs": []
    },
    {
      "cell_type": "code",
      "metadata": {
        "id": "TTSgOHy-uTIy",
        "colab_type": "code",
        "colab": {}
      },
      "source": [
        "## Loss & Optimizer setup\n",
        "\n",
        "keras_model = build_model()\n",
        "\n",
        "optim = optimizers.RMSprop(learning_rate=0.001)\n",
        "\n",
        "keras_model.compile(loss='mse', optimizer=optim, metrics=['mae'])\n",
        "\n",
        "callback = [EarlyStopping(monitor='val_loss', patience=100, \n",
        "                                              verbose=1, mode='min'), \n",
        "            ModelCheckpoint('model.sve', monitor='val_loss', verbose=True, \n",
        "                            save_best_only=True, mode='min')]\n"
      ],
      "execution_count": 0,
      "outputs": []
    },
    {
      "cell_type": "code",
      "metadata": {
        "id": "qYCYfqIiuU-x",
        "colab_type": "code",
        "outputId": "aa5f0903-b2b3-49f0-cdd6-3b033d6ba9f3",
        "colab": {
          "base_uri": "https://localhost:8080/",
          "height": 734
        }
      },
      "source": [
        "## Train model\n",
        "\n",
        "history = keras_model.fit(scaled_X, np.array(y_train), epochs=10, \n",
        "                          validation_split=0.1, batch_size=32, callbacks=callback)"
      ],
      "execution_count": 0,
      "outputs": [
        {
          "output_type": "stream",
          "text": [
            "Train on 709 samples, validate on 79 samples\n",
            "Epoch 1/10\n",
            "709/709 [==============================] - 0s 78us/step - loss: 2905397671557.5967 - mae: 686950.4375 - val_loss: 904720576874.9368 - val_mae: 535101.6875\n",
            "\n",
            "Epoch 00001: val_loss did not improve from 678870462619.54431\n",
            "Epoch 2/10\n",
            "709/709 [==============================] - 0s 75us/step - loss: 2807995654860.3667 - mae: 682046.6250 - val_loss: 914252108035.2405 - val_mae: 539964.8125\n",
            "\n",
            "Epoch 00002: val_loss did not improve from 678870462619.54431\n",
            "Epoch 3/10\n",
            "709/709 [==============================] - 0s 70us/step - loss: 2785650481201.1060 - mae: 694210.8125 - val_loss: 906578452998.4808 - val_mae: 535425.6250\n",
            "\n",
            "Epoch 00003: val_loss did not improve from 678870462619.54431\n",
            "Epoch 4/10\n",
            "709/709 [==============================] - 0s 70us/step - loss: 2926643220127.5938 - mae: 691605.7500 - val_loss: 898332569755.5443 - val_mae: 530903.3125\n",
            "\n",
            "Epoch 00004: val_loss did not improve from 678870462619.54431\n",
            "Epoch 5/10\n",
            "709/709 [==============================] - 0s 72us/step - loss: 2925750501861.2808 - mae: 687338.1875 - val_loss: 894403560875.7468 - val_mae: 528689.0625\n",
            "\n",
            "Epoch 00005: val_loss did not improve from 678870462619.54431\n",
            "Epoch 6/10\n",
            "709/709 [==============================] - 0s 73us/step - loss: 2717036935968.1357 - mae: 665660.6250 - val_loss: 913526315500.5570 - val_mae: 537961.9375\n",
            "\n",
            "Epoch 00006: val_loss did not improve from 678870462619.54431\n",
            "Epoch 7/10\n",
            "709/709 [==============================] - 0s 72us/step - loss: 2841137636864.7222 - mae: 680178.4375 - val_loss: 922153265074.2279 - val_mae: 542094.2500\n",
            "\n",
            "Epoch 00007: val_loss did not improve from 678870462619.54431\n",
            "Epoch 8/10\n",
            "709/709 [==============================] - 0s 83us/step - loss: 2880490870671.3457 - mae: 692924.0000 - val_loss: 922500905971.0378 - val_mae: 541873.1875\n",
            "\n",
            "Epoch 00008: val_loss did not improve from 678870462619.54431\n",
            "Epoch 9/10\n",
            "709/709 [==============================] - 0s 70us/step - loss: 2746764838134.9731 - mae: 680922.1250 - val_loss: 934734265331.0378 - val_mae: 547383.0625\n",
            "\n",
            "Epoch 00009: val_loss did not improve from 678870462619.54431\n",
            "Epoch 10/10\n",
            "709/709 [==============================] - 0s 71us/step - loss: 2770342474773.6641 - mae: 690529.6875 - val_loss: 935448833373.9749 - val_mae: 547245.3750\n",
            "\n",
            "Epoch 00010: val_loss did not improve from 678870462619.54431\n"
          ],
          "name": "stdout"
        }
      ]
    },
    {
      "cell_type": "code",
      "metadata": {
        "id": "Hqk-TZVtuXXg",
        "colab_type": "code",
        "outputId": "806eb846-3035-4bd8-c01b-ae87a49653f4",
        "colab": {
          "base_uri": "https://localhost:8080/",
          "height": 573
        }
      },
      "source": [
        "## Visualize model loss\n",
        "\n",
        "# Plot training & validation accuracy values\n",
        "plt.plot(history.history['mae'])\n",
        "plt.plot(history.history['val_mae'])\n",
        "plt.title('Model accuracy')\n",
        "plt.ylabel('MAE')\n",
        "plt.xlabel('Epoch')\n",
        "plt.legend(['Train', 'Val'], loc='upper left')\n",
        "plt.show()\n",
        "\n",
        "# Plot training & validation loss values\n",
        "plt.plot(history.history['loss'])\n",
        "plt.plot(history.history['val_loss'])\n",
        "plt.title('Model loss')\n",
        "plt.ylabel('Loss')\n",
        "plt.xlabel('Epoch')\n",
        "plt.legend(['Train', 'Val'], loc='upper left')\n",
        "plt.show()"
      ],
      "execution_count": 0,
      "outputs": [
        {
          "output_type": "display_data",
          "data": {
            "image/png": "[encoded data removed]",
            "text/plain": [
              "<Figure size 432x288 with 1 Axes>"
            ]
          },
          "metadata": {
            "tags": [],
            "needs_background": "light"
          }
        },
        {
          "output_type": "display_data",
          "data": {
            "image/png": "[encoded data removed]",
            "text/plain": [
              "<Figure size 432x288 with 1 Axes>"
            ]
          },
          "metadata": {
            "tags": [],
            "needs_background": "light"
          }
        }
      ]
    },
    {
      "cell_type": "code",
      "metadata": {
        "id": "XRavHKmgudFD",
        "colab_type": "code",
        "outputId": "c7aa24d7-17fc-474e-80bd-011445a6eaef",
        "colab": {
          "base_uri": "https://localhost:8080/",
          "height": 51
        }
      },
      "source": [
        "k_model = load_model(\"model.sve\")\n",
        "k_model.evaluate(np.array(X_test), np.array(y_test))"
      ],
      "execution_count": 0,
      "outputs": [
        {
          "output_type": "stream",
          "text": [
            "197/197 [==============================] - 0s 192us/step\n"
          ],
          "name": "stdout"
        },
        {
          "output_type": "execute_result",
          "data": {
            "text/plain": [
              "[1.116024878113454e+24, 670619729920.0]"
            ]
          },
          "metadata": {
            "tags": []
          },
          "execution_count": 16
        }
      ]
    }
  ]
}