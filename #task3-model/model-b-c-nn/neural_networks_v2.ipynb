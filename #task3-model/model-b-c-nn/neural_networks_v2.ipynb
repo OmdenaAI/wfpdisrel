{
 "cells": [
  {
   "cell_type": "code",
   "execution_count": 1,
   "metadata": {},
   "outputs": [
    {
     "name": "stderr",
     "output_type": "stream",
     "text": [
      "Using TensorFlow backend.\n"
     ]
    }
   ],
   "source": [
    "#%matplotlib notebook\n",
    "#%matplotlib qt\n",
    "%matplotlib inline\n",
    "\n",
    "import numpy as np\n",
    "\n",
    "import pandas as pd\n",
    "import matplotlib.pyplot as plt\n",
    "import math\n",
    "\n",
    "import warnings\n",
    "warnings.filterwarnings(\"ignore\")\n",
    "\n",
    "import seaborn as sns\n",
    "sns.set_style('ticks')\n",
    "\n",
    "from keras import models\n",
    "from keras import layers\n",
    "from keras import optimizers"
   ]
  },
  {
   "cell_type": "markdown",
   "metadata": {},
   "source": [
    "# Initial dataset"
   ]
  },
  {
   "cell_type": "code",
   "execution_count": 2,
   "metadata": {},
   "outputs": [
    {
     "name": "stdout",
     "output_type": "stream",
     "text": [
      "size of the whole dataset: 1005\n",
      "columns: ['Unnamed: 0', 'SID', 'NAME', 'ISO', 'YEAR', 'BASIN', 'SUB BASIN', 'NATURE', 'ISO_TIME', 'COORDS', 'TOTAL_HRS', 'DAY_HRS', 'NIGHT_HRS', 'USA_SSHS', 'WIND_CALC_MEAN', 'PRES_CALC_MEAN', 'STORM_SPD_MEAN', 'STORM_DR_MEAN', 'V_LAND_KN', '34KN_POP', '34KN_ASSETS', '64KN_POP', '64KN_ASSETS', '96KN_POP', '96KN_ASSETS', 'CPI', 'TOTAL_DAMAGE_(000$)', 'TOTAL_DEATHS', 'Air transport, freight (million ton-km)', 'Arable land (hectares per person)', 'Cereal yield (kg per hectare)', 'Food production index (2004-2006 = 100)', 'GDP growth (annual %)', 'GDP per capita (constant 2010 US$)', 'Net flows from UN agencies US$', 'Life expectancy at birth, total (years)', 'Mobile cellular subscriptions (per 100 people)', 'Population density (people per sq. km of land area)', 'Adjusted savings: education expenditure (% of GNI)', 'Rural population (% of total population)', 'Income_level_Final', 'TOTAL_AFFECTED', 'Population, total', 'Population_2000', 'Population_2005', 'Population_2010', 'Population_2015', 'Population_2020', 'pop_max_34', 'pop_max_50', 'pop_max_64', 'Numeric', 'YEAR_tiff', 'coef_year', 'YEAR_tiff_c', 'pop_max_34_adj', 'pop_max_50_adj', 'pop_max_64_adj']\n"
     ]
    }
   ],
   "source": [
    "dataset_df = pd.read_csv('./datasets/OUTPUT_WBI_exposer_cyclones_v2.csv',sep=\",\")\n",
    "print('size of the whole dataset: {}'.format(len(dataset_df)))\n",
    "print('columns:',list(dataset_df.columns))"
   ]
  },
  {
   "cell_type": "markdown",
   "metadata": {},
   "source": [
    "# First filter\n",
    "Here I made a selection of the columns I think contain the most important information"
   ]
  },
  {
   "cell_type": "code",
   "execution_count": 3,
   "metadata": {},
   "outputs": [
    {
     "data": {
      "text/plain": [
       "YEAR                                         0\n",
       "TOTAL_HRS                                    0\n",
       "USA_SSHS                                     7\n",
       "V_LAND_KN                                    0\n",
       "pop_max_34_adj                              98\n",
       "pop_max_50_adj                             127\n",
       "pop_max_64_adj                             196\n",
       "GDP per capita (constant 2010 US$)           9\n",
       "GDP growth (annual %)                       23\n",
       "Net flows from UN agencies US$             181\n",
       "Income_level_Final                           0\n",
       "Air transport, freight (million ton-km)    118\n",
       "Arable land (hectares per person)            1\n",
       "Cereal yield (kg per hectare)                9\n",
       "Food production index (2004-2006 = 100)      4\n",
       "Life expectancy at birth, total (years)      4\n",
       "CPI                                          0\n",
       "TOTAL_DAMAGE_(000$)                        293\n",
       "TOTAL_DEATHS                               129\n",
       "TOTAL_AFFECTED                               0\n",
       "TOTAL_DAMAGE_(000$)_adj                    293\n",
       "dtype: int64"
      ]
     },
     "execution_count": 3,
     "metadata": {},
     "output_type": "execute_result"
    }
   ],
   "source": [
    "df1_columns = ['YEAR',\n",
    "               'TOTAL_HRS',\n",
    "               'USA_SSHS',\n",
    "               'V_LAND_KN',\n",
    "               'pop_max_34_adj',\n",
    "               'pop_max_50_adj',\n",
    "               'pop_max_64_adj',                    \n",
    "               'GDP per capita (constant 2010 US$)',\n",
    "               'GDP growth (annual %)',\n",
    "               'Net flows from UN agencies US$',\n",
    "               'Income_level_Final',                         \n",
    "               'Air transport, freight (million ton-km)',\n",
    "               'Arable land (hectares per person)',\n",
    "               'Cereal yield (kg per hectare)',\n",
    "               'Food production index (2004-2006 = 100)',\n",
    "               'Life expectancy at birth, total (years)',                   \n",
    "               'CPI',\n",
    "               'TOTAL_DAMAGE_(000$)',\n",
    "               'TOTAL_DEATHS',\n",
    "               'TOTAL_AFFECTED']\n",
    "df1 = dataset_df[df1_columns]\n",
    "\n",
    "#Year cutoff\n",
    "df1 = df1[df1['YEAR']>=1970]\n",
    "df1.sort_values(by=['YEAR'],inplace=True) #display the df in ascending order of 'YEAR'\n",
    "df1.reset_index(drop=True,inplace=True)\n",
    "\n",
    "#Convertion from -5 to NaN i USA_SSHS (Xavier's observations)\n",
    "df1['USA_SSHS']=df1['USA_SSHS'].replace(-5,np.nan)\n",
    "\n",
    "df1['Income_level_Final']=df1['Income_level_Final'].replace('Low',1)\n",
    "df1['Income_level_Final']=df1['Income_level_Final'].replace('Low_Middle',2)\n",
    "df1['Income_level_Final']=df1['Income_level_Final'].replace('High_Middle',3)\n",
    "df1['Income_level_Final']=df1['Income_level_Final'].replace('High',4)\n",
    "df1['TOTAL_DAMAGE_(000$)_adj']= df1['TOTAL_DAMAGE_(000$)']/df1['CPI']\n",
    "df1['TOTAL_DAMAGE_(000$)_adj']= df1['TOTAL_DAMAGE_(000$)_adj'].replace(0, np.nan)\n",
    "\n",
    "#Since these quantities span a large range of values, we will use ln(pop_max). \n",
    "df1['pop_max_34_adj']=df1['pop_max_34_adj'].replace(0,np.nan)\n",
    "df1['pop_max_50_adj']=df1['pop_max_50_adj'].replace(0,np.nan)\n",
    "df1['pop_max_64_adj']=df1['pop_max_64_adj'].replace(0,np.nan)\n",
    "df1['Air transport, freight (million ton-km)']=df1['Air transport, freight (million ton-km)'].replace(0,np.nan)\n",
    "#Here we get rid of 'Net flows' < 0 (only two records which look very suspicious)\n",
    "df1 = df1[df1['Net flows from UN agencies US$']>=0]\n",
    "df1['Net flows from UN agencies US$']=df1['Net flows from UN agencies US$'].replace(0,np.nan)\n",
    "\n",
    "#account of NaNs for each column\n",
    "df1.isna().sum()"
   ]
  },
  {
   "cell_type": "markdown",
   "metadata": {},
   "source": [
    "# Logarithmic transformation\n",
    "This very useful to fight skewness and give the same importance to all features"
   ]
  },
  {
   "cell_type": "code",
   "execution_count": 4,
   "metadata": {},
   "outputs": [],
   "source": [
    "ln_columns = ['pop_max_34_adj',\n",
    "              'pop_max_50_adj',\n",
    "              'pop_max_64_adj',\n",
    "              'GDP per capita (constant 2010 US$)',\n",
    "              'Net flows from UN agencies US$',\n",
    "              'Air transport, freight (million ton-km)',\n",
    "              'TOTAL_DAMAGE_(000$)_adj',\n",
    "              'TOTAL_DEATHS',\n",
    "              'TOTAL_AFFECTED']\n",
    "for name in ln_columns:\n",
    "    df1['ln('+name+')'] = df1.apply(lambda x: np.log(x[name]),axis=1)"
   ]
  },
  {
   "cell_type": "markdown",
   "metadata": {},
   "source": [
    "# Second filter\n",
    "Here I select the final set of features of the model"
   ]
  },
  {
   "cell_type": "code",
   "execution_count": 5,
   "metadata": {},
   "outputs": [
    {
     "name": "stdout",
     "output_type": "stream",
     "text": [
      "number of records after selection cuts: 839\n",
      "number of features + target variable  : 12\n",
      "are there any NaN?: False\n"
     ]
    }
   ],
   "source": [
    "df2_columns = ['TOTAL_HRS',\n",
    "               'USA_SSHS',\n",
    "               'V_LAND_KN',\n",
    "               'ln(pop_max_34_adj)',\n",
    "               #'ln(pop_max_50_adj)',\n",
    "               #'ln(pop_max_64_adj)',                 \n",
    "               'ln(GDP per capita (constant 2010 US$))',\n",
    "               'GDP growth (annual %)',\n",
    "               #'ln(Net flows from UN agencies US$)',\n",
    "               'Income_level_Final',\n",
    "               #'ln(Air transport, freight (million ton-km))',\n",
    "               'Arable land (hectares per person)',\n",
    "               'Cereal yield (kg per hectare)',\n",
    "               'Food production index (2004-2006 = 100)',\n",
    "               'Life expectancy at birth, total (years)',\n",
    "               #'ln(TOTAL_DAMAGE_(000$)_adj)',\n",
    "               #'ln(TOTAL_DEATHS)',\n",
    "               'ln(TOTAL_AFFECTED)']\n",
    "\n",
    "df2 = df1[df2_columns]\n",
    "df2.dropna(axis=0,inplace=True)\n",
    "df2.reset_index(drop=True,inplace=True)\n",
    "print('number of records after selection cuts: {}'.format(len(df2)))\n",
    "print('number of features + target variable  : {}'.format(len(df2.columns)))\n",
    "print('are there any NaN?: {}'.format(df2.isnull().any().any()))"
   ]
  },
  {
   "cell_type": "markdown",
   "metadata": {},
   "source": [
    "# Data splitting"
   ]
  },
  {
   "cell_type": "markdown",
   "metadata": {},
   "source": [
    "Here we create the tensors for Keras. \n",
    "\n",
    "1. We first split the data set\n",
    "2. We compute the mean & std of the training set\n",
    "3. We normalize the input features both for the training and the test set\n",
    "\n",
    "Note that the single <font color='red'> target variable is ln(TOTAL_AFFECTED) <font color='black'>(last column)"
   ]
  },
  {
   "cell_type": "code",
   "execution_count": 6,
   "metadata": {},
   "outputs": [
    {
     "name": "stdout",
     "output_type": "stream",
     "text": [
      "(839, 11)\n",
      "(839,)\n"
     ]
    }
   ],
   "source": [
    "values = df2.to_numpy()\n",
    "X = values[:,0:11]\n",
    "y = values[:,-1]\n",
    "print(X.shape)\n",
    "print(y.shape)"
   ]
  },
  {
   "cell_type": "code",
   "execution_count": 7,
   "metadata": {},
   "outputs": [],
   "source": [
    "#seed is fixed for reproducibility of results\n",
    "rand_idx = np.random.RandomState(seed=0).permutation(len(X))\n",
    "\n",
    "#ftrain is the fraction of samples used for training\n",
    "ftrain   = 0.7\n",
    "ntrain   = math.floor(ftrain*len(X))\n",
    "X_train  = X[rand_idx[:ntrain]]\n",
    "y_train  = y[rand_idx[:ntrain]]\n",
    "\n",
    "X_test   = X[rand_idx[ntrain:]]\n",
    "y_test   = y[rand_idx[ntrain:]]"
   ]
  },
  {
   "cell_type": "markdown",
   "metadata": {},
   "source": [
    "normalization"
   ]
  },
  {
   "cell_type": "code",
   "execution_count": 8,
   "metadata": {},
   "outputs": [],
   "source": [
    "mean_train = np.mean(X_train,axis=0)\n",
    "mean_std   = np.std(X_train,axis=0)\n",
    "\n",
    "X_train_norm = (X_train-mean_train)/mean_std\n",
    "X_test_norm  = (X_test-mean_train)/mean_std"
   ]
  },
  {
   "cell_type": "markdown",
   "metadata": {},
   "source": [
    "# Keras!! \n",
    "This is a very very very simple fully-connected neural network. The architecture consists of two intermediate hidden layers of 30 units and an unconstrained output layer for regresion. See also Sij's notebook ;)"
   ]
  },
  {
   "cell_type": "code",
   "execution_count": 9,
   "metadata": {},
   "outputs": [
    {
     "name": "stdout",
     "output_type": "stream",
     "text": [
      "Model: \"sequential_1\"\n",
      "_________________________________________________________________\n",
      "Layer (type)                 Output Shape              Param #   \n",
      "=================================================================\n",
      "dense_1 (Dense)              (None, 30)                360       \n",
      "_________________________________________________________________\n",
      "dense_2 (Dense)              (None, 30)                930       \n",
      "_________________________________________________________________\n",
      "dense_3 (Dense)              (None, 1)                 31        \n",
      "=================================================================\n",
      "Total params: 1,321\n",
      "Trainable params: 1,321\n",
      "Non-trainable params: 0\n",
      "_________________________________________________________________\n"
     ]
    }
   ],
   "source": [
    "model = models.Sequential()\n",
    "model.add(layers.Dense(30,activation='relu',input_shape=(X.shape[1],)))\n",
    "model.add(layers.Dense(30, activation='relu'))\n",
    "model.add(layers.Dense(1)) \n",
    "\n",
    "model.summary()"
   ]
  },
  {
   "cell_type": "markdown",
   "metadata": {},
   "source": [
    "Compilation of the model. Loss function is minimum squared error"
   ]
  },
  {
   "cell_type": "code",
   "execution_count": 10,
   "metadata": {},
   "outputs": [],
   "source": [
    "optim = optimizers.RMSprop(learning_rate=0.001)\n",
    "model.compile(optimizer=optim,loss='mse',metrics=['mae'])"
   ]
  },
  {
   "cell_type": "markdown",
   "metadata": {},
   "source": [
    "Voilá..."
   ]
  },
  {
   "cell_type": "code",
   "execution_count": 11,
   "metadata": {},
   "outputs": [
    {
     "name": "stdout",
     "output_type": "stream",
     "text": [
      "Train on 528 samples, validate on 59 samples\n",
      "Epoch 1/100\n",
      "528/528 [==============================] - 1s 2ms/step - loss: 102.1971 - mae: 9.6200 - val_loss: 82.2052 - val_mae: 8.2822\n",
      "Epoch 2/100\n",
      "528/528 [==============================] - 0s 153us/step - loss: 80.6963 - mae: 8.3928 - val_loss: 65.6795 - val_mae: 7.1610\n",
      "Epoch 3/100\n",
      "528/528 [==============================] - 0s 232us/step - loss: 62.5108 - mae: 7.2240 - val_loss: 50.3688 - val_mae: 6.0027\n",
      "Epoch 4/100\n",
      "528/528 [==============================] - 0s 196us/step - loss: 46.0032 - mae: 6.0281 - val_loss: 37.2454 - val_mae: 5.0583\n",
      "Epoch 5/100\n",
      "528/528 [==============================] - 0s 97us/step - loss: 32.7509 - mae: 4.9167 - val_loss: 28.2306 - val_mae: 4.4331\n",
      "Epoch 6/100\n",
      "528/528 [==============================] - 0s 174us/step - loss: 23.4635 - mae: 4.0619 - val_loss: 23.5579 - val_mae: 4.1060\n",
      "Epoch 7/100\n",
      "528/528 [==============================] - 0s 171us/step - loss: 18.4882 - mae: 3.5547 - val_loss: 21.6429 - val_mae: 3.9243\n",
      "Epoch 8/100\n",
      "528/528 [==============================] - 0s 175us/step - loss: 15.9706 - mae: 3.2659 - val_loss: 20.7333 - val_mae: 3.8827\n",
      "Epoch 9/100\n",
      "528/528 [==============================] - 0s 172us/step - loss: 14.4478 - mae: 3.0855 - val_loss: 19.3257 - val_mae: 3.7465\n",
      "Epoch 10/100\n",
      "528/528 [==============================] - 0s 205us/step - loss: 13.3503 - mae: 2.9618 - val_loss: 18.0375 - val_mae: 3.6073\n",
      "Epoch 11/100\n",
      "528/528 [==============================] - 0s 234us/step - loss: 12.4560 - mae: 2.8565 - val_loss: 17.1069 - val_mae: 3.4999\n",
      "Epoch 12/100\n",
      "528/528 [==============================] - 0s 194us/step - loss: 11.7501 - mae: 2.7577 - val_loss: 16.2518 - val_mae: 3.4036\n",
      "Epoch 13/100\n",
      "528/528 [==============================] - 0s 166us/step - loss: 11.2274 - mae: 2.6915 - val_loss: 15.7919 - val_mae: 3.3501\n",
      "Epoch 14/100\n",
      "528/528 [==============================] - 0s 168us/step - loss: 10.7737 - mae: 2.6215 - val_loss: 15.0824 - val_mae: 3.2619\n",
      "Epoch 15/100\n",
      "528/528 [==============================] - ETA: 0s - loss: 10.1201 - mae: 2.54 - 0s 196us/step - loss: 10.3729 - mae: 2.5713 - val_loss: 14.7764 - val_mae: 3.1918\n",
      "Epoch 16/100\n",
      "528/528 [==============================] - 0s 200us/step - loss: 10.1640 - mae: 2.5474 - val_loss: 14.5154 - val_mae: 3.1710\n",
      "Epoch 17/100\n",
      "528/528 [==============================] - 0s 178us/step - loss: 9.9454 - mae: 2.5236 - val_loss: 14.1400 - val_mae: 3.1226\n",
      "Epoch 18/100\n",
      "528/528 [==============================] - 0s 192us/step - loss: 9.6663 - mae: 2.4746 - val_loss: 13.9294 - val_mae: 3.0805\n",
      "Epoch 19/100\n",
      "528/528 [==============================] - 0s 172us/step - loss: 9.5120 - mae: 2.4571 - val_loss: 13.6601 - val_mae: 3.0542\n",
      "Epoch 20/100\n",
      "528/528 [==============================] - 0s 164us/step - loss: 9.3199 - mae: 2.4370 - val_loss: 13.6381 - val_mae: 3.0513\n",
      "Epoch 21/100\n",
      "528/528 [==============================] - 0s 214us/step - loss: 9.1681 - mae: 2.4068 - val_loss: 13.2024 - val_mae: 2.9859\n",
      "Epoch 22/100\n",
      "528/528 [==============================] - 0s 305us/step - loss: 9.0110 - mae: 2.3942 - val_loss: 13.0033 - val_mae: 2.9586\n",
      "Epoch 23/100\n",
      "528/528 [==============================] - 0s 180us/step - loss: 8.9444 - mae: 2.3763 - val_loss: 13.0198 - val_mae: 2.9564\n",
      "Epoch 24/100\n",
      "528/528 [==============================] - 0s 128us/step - loss: 8.7794 - mae: 2.3515 - val_loss: 12.9733 - val_mae: 2.9499\n",
      "Epoch 25/100\n",
      "528/528 [==============================] - 0s 142us/step - loss: 8.6590 - mae: 2.3394 - val_loss: 12.4783 - val_mae: 2.8921\n",
      "Epoch 26/100\n",
      "528/528 [==============================] - 0s 198us/step - loss: 8.5605 - mae: 2.3361 - val_loss: 12.5486 - val_mae: 2.8855\n",
      "Epoch 27/100\n",
      "528/528 [==============================] - 0s 171us/step - loss: 8.4611 - mae: 2.3199 - val_loss: 12.5991 - val_mae: 2.8840\n",
      "Epoch 28/100\n",
      "528/528 [==============================] - 0s 192us/step - loss: 8.3590 - mae: 2.3063 - val_loss: 12.5318 - val_mae: 2.8743\n",
      "Epoch 29/100\n",
      "528/528 [==============================] - 0s 209us/step - loss: 8.2753 - mae: 2.2933 - val_loss: 12.1256 - val_mae: 2.8281\n",
      "Epoch 30/100\n",
      "528/528 [==============================] - 0s 160us/step - loss: 8.1430 - mae: 2.2801 - val_loss: 12.6945 - val_mae: 2.8788\n",
      "Epoch 31/100\n",
      "528/528 [==============================] - 0s 183us/step - loss: 8.1072 - mae: 2.2588 - val_loss: 12.1011 - val_mae: 2.8202\n",
      "Epoch 32/100\n",
      "528/528 [==============================] - 0s 185us/step - loss: 8.0501 - mae: 2.2566 - val_loss: 12.2169 - val_mae: 2.8322\n",
      "Epoch 33/100\n",
      "528/528 [==============================] - ETA: 0s - loss: 7.9790 - mae: 2.255 - 0s 157us/step - loss: 7.9361 - mae: 2.2381 - val_loss: 11.8974 - val_mae: 2.8162\n",
      "Epoch 34/100\n",
      "528/528 [==============================] - 0s 283us/step - loss: 7.8737 - mae: 2.2412 - val_loss: 11.9644 - val_mae: 2.8075\n",
      "Epoch 35/100\n",
      "528/528 [==============================] - 0s 292us/step - loss: 7.7990 - mae: 2.2240 - val_loss: 11.7948 - val_mae: 2.7798\n",
      "Epoch 36/100\n",
      "528/528 [==============================] - 0s 226us/step - loss: 7.7304 - mae: 2.2115 - val_loss: 11.8680 - val_mae: 2.7716\n",
      "Epoch 37/100\n",
      "528/528 [==============================] - 0s 210us/step - loss: 7.6928 - mae: 2.2077 - val_loss: 11.6050 - val_mae: 2.7470\n",
      "Epoch 38/100\n",
      "528/528 [==============================] - 0s 251us/step - loss: 7.6273 - mae: 2.1957 - val_loss: 11.5076 - val_mae: 2.7355\n",
      "Epoch 39/100\n",
      "528/528 [==============================] - 0s 227us/step - loss: 7.5424 - mae: 2.1886 - val_loss: 11.2886 - val_mae: 2.6956\n",
      "Epoch 40/100\n",
      "528/528 [==============================] - 0s 227us/step - loss: 7.5267 - mae: 2.1848 - val_loss: 11.4129 - val_mae: 2.7161\n",
      "Epoch 41/100\n",
      "528/528 [==============================] - 0s 186us/step - loss: 7.4409 - mae: 2.1710 - val_loss: 11.3968 - val_mae: 2.7097\n",
      "Epoch 42/100\n",
      "528/528 [==============================] - 0s 168us/step - loss: 7.3922 - mae: 2.1593 - val_loss: 11.0681 - val_mae: 2.6729\n",
      "Epoch 43/100\n",
      "528/528 [==============================] - 0s 165us/step - loss: 7.3381 - mae: 2.1583 - val_loss: 11.3078 - val_mae: 2.6935\n",
      "Epoch 44/100\n",
      "528/528 [==============================] - 0s 167us/step - loss: 7.2586 - mae: 2.1347 - val_loss: 11.2047 - val_mae: 2.7184\n",
      "Epoch 45/100\n",
      "528/528 [==============================] - 0s 211us/step - loss: 7.2628 - mae: 2.1516 - val_loss: 11.6007 - val_mae: 2.7361\n",
      "Epoch 46/100\n",
      "528/528 [==============================] - 0s 206us/step - loss: 7.1801 - mae: 2.1278 - val_loss: 11.2828 - val_mae: 2.7151\n",
      "Epoch 47/100\n",
      "528/528 [==============================] - 0s 426us/step - loss: 7.1529 - mae: 2.1249 - val_loss: 11.1254 - val_mae: 2.6852\n",
      "Epoch 48/100\n",
      "528/528 [==============================] - 0s 282us/step - loss: 7.1027 - mae: 2.1229 - val_loss: 11.2891 - val_mae: 2.6889\n",
      "Epoch 49/100\n",
      "528/528 [==============================] - 0s 357us/step - loss: 7.0780 - mae: 2.1089 - val_loss: 10.9902 - val_mae: 2.6644\n",
      "Epoch 50/100\n",
      "528/528 [==============================] - 0s 133us/step - loss: 7.0023 - mae: 2.0958 - val_loss: 11.3637 - val_mae: 2.7102\n",
      "Epoch 51/100\n",
      "528/528 [==============================] - 0s 79us/step - loss: 6.9860 - mae: 2.0947 - val_loss: 11.0263 - val_mae: 2.6681\n",
      "Epoch 52/100\n",
      "528/528 [==============================] - 0s 89us/step - loss: 6.9073 - mae: 2.0789 - val_loss: 10.9538 - val_mae: 2.6590\n",
      "Epoch 53/100\n",
      "528/528 [==============================] - 0s 141us/step - loss: 6.8955 - mae: 2.0817 - val_loss: 10.8881 - val_mae: 2.6468\n",
      "Epoch 54/100\n",
      "528/528 [==============================] - 0s 221us/step - loss: 6.8346 - mae: 2.0618 - val_loss: 11.0487 - val_mae: 2.6660\n",
      "Epoch 55/100\n",
      "528/528 [==============================] - 0s 220us/step - loss: 6.8173 - mae: 2.0684 - val_loss: 10.8608 - val_mae: 2.6592\n",
      "Epoch 56/100\n",
      "528/528 [==============================] - 0s 215us/step - loss: 6.7508 - mae: 2.0614 - val_loss: 11.0129 - val_mae: 2.6566\n",
      "Epoch 57/100\n",
      "528/528 [==============================] - 0s 158us/step - loss: 6.7392 - mae: 2.0454 - val_loss: 10.9128 - val_mae: 2.6759\n",
      "Epoch 58/100\n",
      "528/528 [==============================] - 0s 336us/step - loss: 6.6775 - mae: 2.0528 - val_loss: 10.8291 - val_mae: 2.6498\n",
      "Epoch 59/100\n",
      "528/528 [==============================] - 0s 205us/step - loss: 6.6265 - mae: 2.0350 - val_loss: 10.7819 - val_mae: 2.6316\n"
     ]
    },
    {
     "name": "stdout",
     "output_type": "stream",
     "text": [
      "Epoch 60/100\n",
      "528/528 [==============================] - 0s 148us/step - loss: 6.5929 - mae: 2.0361 - val_loss: 11.0235 - val_mae: 2.6585\n",
      "Epoch 61/100\n",
      "528/528 [==============================] - 0s 188us/step - loss: 6.5809 - mae: 2.0319 - val_loss: 10.7284 - val_mae: 2.6289\n",
      "Epoch 62/100\n",
      "528/528 [==============================] - 0s 144us/step - loss: 6.5339 - mae: 2.0177 - val_loss: 10.9276 - val_mae: 2.6614\n",
      "Epoch 63/100\n",
      "528/528 [==============================] - 0s 116us/step - loss: 6.4596 - mae: 2.0001 - val_loss: 10.7103 - val_mae: 2.6334\n",
      "Epoch 64/100\n",
      "528/528 [==============================] - 0s 153us/step - loss: 6.4577 - mae: 2.0176 - val_loss: 10.9877 - val_mae: 2.6716\n",
      "Epoch 65/100\n",
      "528/528 [==============================] - 0s 112us/step - loss: 6.4551 - mae: 2.0049 - val_loss: 10.5747 - val_mae: 2.6285\n",
      "Epoch 66/100\n",
      "528/528 [==============================] - 0s 99us/step - loss: 6.4089 - mae: 2.0085 - val_loss: 10.5454 - val_mae: 2.5917\n",
      "Epoch 67/100\n",
      "528/528 [==============================] - 0s 113us/step - loss: 6.3660 - mae: 1.9958 - val_loss: 10.5861 - val_mae: 2.6199\n",
      "Epoch 68/100\n",
      "528/528 [==============================] - 0s 106us/step - loss: 6.3241 - mae: 1.9937 - val_loss: 10.5195 - val_mae: 2.5839\n",
      "Epoch 69/100\n",
      "528/528 [==============================] - 0s 158us/step - loss: 6.2977 - mae: 1.9797 - val_loss: 10.7672 - val_mae: 2.6505\n",
      "Epoch 70/100\n",
      "528/528 [==============================] - 0s 152us/step - loss: 6.2844 - mae: 1.9760 - val_loss: 10.4456 - val_mae: 2.5917\n",
      "Epoch 71/100\n",
      "528/528 [==============================] - 0s 244us/step - loss: 6.2055 - mae: 1.9692 - val_loss: 10.5409 - val_mae: 2.6209\n",
      "Epoch 72/100\n",
      "528/528 [==============================] - 0s 197us/step - loss: 6.2405 - mae: 1.9871 - val_loss: 10.9655 - val_mae: 2.6726\n",
      "Epoch 73/100\n",
      "528/528 [==============================] - 0s 155us/step - loss: 6.1762 - mae: 1.9645 - val_loss: 10.7871 - val_mae: 2.6310\n",
      "Epoch 74/100\n",
      "528/528 [==============================] - 0s 222us/step - loss: 6.1444 - mae: 1.9578 - val_loss: 11.1332 - val_mae: 2.6884\n",
      "Epoch 75/100\n",
      "528/528 [==============================] - 0s 109us/step - loss: 6.1658 - mae: 1.9576 - val_loss: 10.4727 - val_mae: 2.5951\n",
      "Epoch 76/100\n",
      "528/528 [==============================] - 0s 207us/step - loss: 6.0907 - mae: 1.9530 - val_loss: 11.2194 - val_mae: 2.6808\n",
      "Epoch 77/100\n",
      "528/528 [==============================] - 0s 214us/step - loss: 6.0944 - mae: 1.9425 - val_loss: 10.8630 - val_mae: 2.6283\n",
      "Epoch 78/100\n",
      "528/528 [==============================] - 0s 169us/step - loss: 6.0507 - mae: 1.9375 - val_loss: 10.9707 - val_mae: 2.6557\n",
      "Epoch 79/100\n",
      "528/528 [==============================] - 0s 209us/step - loss: 5.9889 - mae: 1.9263 - val_loss: 10.4933 - val_mae: 2.6105\n",
      "Epoch 80/100\n",
      "528/528 [==============================] - 0s 275us/step - loss: 6.0154 - mae: 1.9387 - val_loss: 10.6083 - val_mae: 2.6171\n",
      "Epoch 81/100\n",
      "528/528 [==============================] - 0s 116us/step - loss: 5.9688 - mae: 1.9370 - val_loss: 10.4838 - val_mae: 2.5928\n",
      "Epoch 82/100\n",
      "528/528 [==============================] - 0s 235us/step - loss: 5.9423 - mae: 1.9349 - val_loss: 10.7945 - val_mae: 2.6363\n",
      "Epoch 83/100\n",
      "528/528 [==============================] - 0s 332us/step - loss: 5.9148 - mae: 1.9160 - val_loss: 10.5695 - val_mae: 2.6251\n",
      "Epoch 84/100\n",
      "528/528 [==============================] - 0s 219us/step - loss: 5.8868 - mae: 1.9235 - val_loss: 10.8060 - val_mae: 2.6082\n",
      "Epoch 85/100\n",
      "528/528 [==============================] - 0s 242us/step - loss: 5.8752 - mae: 1.9180 - val_loss: 10.8343 - val_mae: 2.6198\n",
      "Epoch 86/100\n",
      "528/528 [==============================] - 0s 192us/step - loss: 5.8453 - mae: 1.9116 - val_loss: 10.5386 - val_mae: 2.5847\n",
      "Epoch 87/100\n",
      "528/528 [==============================] - 0s 210us/step - loss: 5.8423 - mae: 1.9130 - val_loss: 10.8162 - val_mae: 2.6134\n",
      "Epoch 88/100\n",
      "528/528 [==============================] - 0s 189us/step - loss: 5.7880 - mae: 1.9051 - val_loss: 10.8044 - val_mae: 2.6068\n",
      "Epoch 89/100\n",
      "528/528 [==============================] - 0s 215us/step - loss: 5.8105 - mae: 1.8952 - val_loss: 10.7389 - val_mae: 2.6158\n",
      "Epoch 90/100\n",
      "528/528 [==============================] - 0s 132us/step - loss: 5.7770 - mae: 1.8971 - val_loss: 10.7539 - val_mae: 2.6120\n",
      "Epoch 91/100\n",
      "528/528 [==============================] - 0s 228us/step - loss: 5.7553 - mae: 1.8866 - val_loss: 10.2942 - val_mae: 2.5467\n",
      "Epoch 92/100\n",
      "528/528 [==============================] - 0s 238us/step - loss: 5.7328 - mae: 1.8889 - val_loss: 10.6233 - val_mae: 2.6062\n",
      "Epoch 93/100\n",
      "528/528 [==============================] - 0s 281us/step - loss: 5.6973 - mae: 1.8892 - val_loss: 10.7514 - val_mae: 2.6383\n",
      "Epoch 94/100\n",
      "528/528 [==============================] - 0s 164us/step - loss: 5.7176 - mae: 1.8850 - val_loss: 10.8384 - val_mae: 2.6223\n",
      "Epoch 95/100\n",
      "528/528 [==============================] - 0s 249us/step - loss: 5.6401 - mae: 1.8703 - val_loss: 10.7002 - val_mae: 2.6090\n",
      "Epoch 96/100\n",
      "528/528 [==============================] - 0s 170us/step - loss: 5.6673 - mae: 1.8677 - val_loss: 10.3093 - val_mae: 2.5592\n",
      "Epoch 97/100\n",
      "528/528 [==============================] - 0s 231us/step - loss: 5.6517 - mae: 1.8699 - val_loss: 10.5392 - val_mae: 2.5813\n",
      "Epoch 98/100\n",
      "528/528 [==============================] - 0s 203us/step - loss: 5.6233 - mae: 1.8587 - val_loss: 10.4227 - val_mae: 2.5812\n",
      "Epoch 99/100\n",
      "528/528 [==============================] - 0s 314us/step - loss: 5.5701 - mae: 1.8622 - val_loss: 10.6588 - val_mae: 2.6184\n",
      "Epoch 100/100\n",
      "528/528 [==============================] - 0s 189us/step - loss: 5.5676 - mae: 1.8547 - val_loss: 10.8068 - val_mae: 2.6245\n"
     ]
    }
   ],
   "source": [
    "#test set 25% of the sample\n",
    "model_history = model.fit(X_train_norm,y_train,epochs=100,validation_split=0.10,batch_size=32,verbose=1)"
   ]
  },
  {
   "cell_type": "markdown",
   "metadata": {},
   "source": [
    "# Results"
   ]
  },
  {
   "cell_type": "code",
   "execution_count": 12,
   "metadata": {},
   "outputs": [
    {
     "data": {
      "image/png": "[encoded data removed]",
      "text/plain": [
       "<Figure size 576x288 with 2 Axes>"
      ]
     },
     "metadata": {},
     "output_type": "display_data"
    }
   ],
   "source": [
    "fig, axs = plt.subplots(nrows=1, ncols=2, figsize=(8,4))    \n",
    "\n",
    "results = model_history.history\n",
    "\n",
    "epochs = range(1,len(results['mae'])+1)\n",
    "\n",
    "mae_values = results['mae']\n",
    "val_mae_values = results['val_mae']\n",
    "\n",
    "loss_values = results['loss']\n",
    "val_loss_values = results['val_loss']\n",
    "\n",
    "    \n",
    "#mae\n",
    "axs[0].plot(epochs,mae_values,color='blue',label='training',linewidth=1.5,linestyle='-')\n",
    "axs[0].plot(epochs,val_mae_values,color='red',label='validation',linewidth=1.5,linestyle='-')\n",
    "axs[0].set_xlabel('epochs')\n",
    "axs[0].set_ylabel('mae')\n",
    "#axs[0].set_ylim([0,1.0])   \n",
    "axs[0].legend(loc='best')\n",
    "    \n",
    "#loss       \n",
    "axs[1].plot(epochs,loss_values,color='blue',label='training',linewidth=1.5,linestyle='-')\n",
    "axs[1].plot(epochs,val_loss_values,color='red',label='validation',linewidth=1.5,linestyle='-')\n",
    "axs[1].set_xlabel('epochs')\n",
    "axs[1].set_ylabel('mse')\n",
    "#axs[1].set_ylim([0,2])   \n",
    "axs[1].legend(loc='best');\n",
    "\n",
    "plt.tight_layout()"
   ]
  },
  {
   "cell_type": "code",
   "execution_count": 13,
   "metadata": {},
   "outputs": [
    {
     "data": {
      "text/plain": [
       "2.9308892641014777"
      ]
     },
     "execution_count": 13,
     "metadata": {},
     "output_type": "execute_result"
    }
   ],
   "source": [
    "#this is the std deviation of the target variable in the test set\n",
    "np.std(y_test)"
   ]
  },
  {
   "cell_type": "markdown",
   "metadata": {},
   "source": [
    "# Prospects\n",
    "    1. Fight overfit (regularization/dropout)\n",
    "    2. Study effects of cuts (surely my filters are not good)\n",
    "    3. What to do with pop_max = 0? \n",
    "    4. Hyperparameter search of the NN (very interesting!)\n",
    "    5. K-fold cross validation"
   ]
  },
  {
   "cell_type": "code",
   "execution_count": null,
   "metadata": {},
   "outputs": [],
   "source": []
  }
 ],
 "metadata": {
  "kernelspec": {
   "display_name": "wfp",
   "language": "python",
   "name": "wfp"
  },
  "language_info": {
   "codemirror_mode": {
    "name": "ipython",
    "version": 3
   },
   "file_extension": ".py",
   "mimetype": "text/x-python",
   "name": "python",
   "nbconvert_exporter": "python",
   "pygments_lexer": "ipython3",
   "version": "3.6.10"
  },
  "toc": {
   "base_numbering": 1,
   "nav_menu": {},
   "number_sections": true,
   "sideBar": true,
   "skip_h1_title": false,
   "title_cell": "Table of Contents",
   "title_sidebar": "Contents",
   "toc_cell": false,
   "toc_position": {
    "height": "calc(100% - 180px)",
    "left": "10px",
    "top": "150px",
    "width": "165px"
   },
   "toc_section_display": true,
   "toc_window_display": false
  }
 },
 "nbformat": 4,
 "nbformat_minor": 4
}
