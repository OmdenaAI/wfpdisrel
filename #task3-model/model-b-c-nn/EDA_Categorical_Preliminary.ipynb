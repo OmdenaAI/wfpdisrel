{
  "nbformat": 4,
  "nbformat_minor": 0,
  "metadata": {
    "colab": {
      "name": "EDA-Categorical-Preliminary.ipynb",
      "provenance": [],
      "collapsed_sections": [],
      "toc_visible": true
    },
    "kernelspec": {
      "name": "python3",
      "display_name": "Python 3"
    }
  },
  "cells": [
    {
      "cell_type": "code",
      "metadata": {
        "id": "pyVMaHewVy40",
        "colab_type": "code",
        "colab": {}
      },
      "source": [
        ""
      ],
      "execution_count": 0,
      "outputs": []
    },
    {
      "cell_type": "code",
      "metadata": {
        "id": "dmPeaY1sTH20",
        "colab_type": "code",
        "colab": {}
      },
      "source": [
        "import pandas as pd\n",
        "import numpy as np\n",
        "\n",
        "from plotnine import ggplot, geom_point, aes, stat_smooth, facet_wrap, geom_histogram, scale_x_log10\n",
        "from plotnine import geom_boxplot, scale_y_log10, geom_bar\n",
        "from scipy.stats import pearsonr\n",
        "import itertools\n",
        "import scipy.stats as scs\n",
        "import matplotlib.pyplot as plt\n",
        "\n",
        "from sklearn.linear_model import LinearRegression\n",
        "from sklearn.model_selection import train_test_split\n",
        "from sklearn.metrics import r2_score, mean_squared_error\n",
        "from xgboost import XGBClassifier\n",
        "\n"
      ],
      "execution_count": 0,
      "outputs": []
    },
    {
      "cell_type": "code",
      "metadata": {
        "id": "T-snEEXKUoTx",
        "colab_type": "code",
        "colab": {}
      },
      "source": [
        ""
      ],
      "execution_count": 0,
      "outputs": []
    },
    {
      "cell_type": "code",
      "metadata": {
        "id": "Zno3zT6bVFwe",
        "colab_type": "code",
        "colab": {}
      },
      "source": [
        "filepath = 'dataset/OUTPUT_WBI_exposer_cyclones_v6.csv'\n",
        "df = pd.read_csv(filepath)"
      ],
      "execution_count": 0,
      "outputs": []
    },
    {
      "cell_type": "code",
      "metadata": {
        "id": "WU643-_TWyIC",
        "colab_type": "code",
        "outputId": "7a8c0a47-0b28-4269-df40-e8d09cb6c8ca",
        "colab": {
          "base_uri": "https://localhost:8080/",
          "height": 270
        }
      },
      "source": [
        "df.head(1)"
      ],
      "execution_count": 0,
      "outputs": [
        {
          "output_type": "execute_result",
          "data": {
            "text/html": [
              "<div>\n",
              "<style scoped>\n",
              "    .dataframe tbody tr th:only-of-type {\n",
              "        vertical-align: middle;\n",
              "    }\n",
              "\n",
              "    .dataframe tbody tr th {\n",
              "        vertical-align: top;\n",
              "    }\n",
              "\n",
              "    .dataframe thead th {\n",
              "        text-align: right;\n",
              "    }\n",
              "</style>\n",
              "<table border=\"1\" class=\"dataframe\">\n",
              "  <thead>\n",
              "    <tr style=\"text-align: right;\">\n",
              "      <th></th>\n",
              "      <th>Unnamed: 0</th>\n",
              "      <th>SID</th>\n",
              "      <th>NAME</th>\n",
              "      <th>ISO</th>\n",
              "      <th>YEAR</th>\n",
              "      <th>BASIN</th>\n",
              "      <th>SUB BASIN</th>\n",
              "      <th>NATURE</th>\n",
              "      <th>ISO_TIME</th>\n",
              "      <th>COORDS</th>\n",
              "      <th>TOTAL_HRS</th>\n",
              "      <th>DAY_HRS</th>\n",
              "      <th>NIGHT_HRS</th>\n",
              "      <th>USA_SSHS</th>\n",
              "      <th>WIND_CAL_MIN</th>\n",
              "      <th>WIND_CAL_MAX</th>\n",
              "      <th>WIND_CALC_MEAN</th>\n",
              "      <th>PRES_CAL_MIN</th>\n",
              "      <th>PRES_CAL_MAX</th>\n",
              "      <th>PRES_CALC_MEAN</th>\n",
              "      <th>STORM_SPD_MIN</th>\n",
              "      <th>STORM_SPD_MAX</th>\n",
              "      <th>STORM_SPD_MEAN</th>\n",
              "      <th>STORM_DR_MIN</th>\n",
              "      <th>STORM_DR_MAX</th>\n",
              "      <th>STORM_DR_MEAN</th>\n",
              "      <th>V_LAND_KN</th>\n",
              "      <th>34KN_ASSETS</th>\n",
              "      <th>64KN_ASSETS</th>\n",
              "      <th>96KN_ASSETS</th>\n",
              "      <th>CPI</th>\n",
              "      <th>TOTAL_DAMAGE_(000$)</th>\n",
              "      <th>TOTAL_DEATHS</th>\n",
              "      <th>Air transport, freight (million ton-km)</th>\n",
              "      <th>Arable land (hectares per person)</th>\n",
              "      <th>Cereal yield (kg per hectare)</th>\n",
              "      <th>Food production index (2004-2006 = 100)</th>\n",
              "      <th>GDP growth (annual %)</th>\n",
              "      <th>GDP per capita (constant 2010 US$)</th>\n",
              "      <th>Net flows from UN agencies US$</th>\n",
              "      <th>Life expectancy at birth, total (years)</th>\n",
              "      <th>Mobile cellular subscriptions (per 100 people)</th>\n",
              "      <th>Population density (people per sq. km of land area)</th>\n",
              "      <th>Adjusted savings: education expenditure (% of GNI)</th>\n",
              "      <th>Rural population (% of total population)</th>\n",
              "      <th>Income_level_Final</th>\n",
              "      <th>pop_max_34</th>\n",
              "      <th>pop_max_50</th>\n",
              "      <th>pop_max_64</th>\n",
              "      <th>TOTAL_AFFECTED</th>\n",
              "      <th>pop_max_34_adj</th>\n",
              "      <th>pop_max_50_adj</th>\n",
              "      <th>pop_max_64_adj</th>\n",
              "    </tr>\n",
              "  </thead>\n",
              "  <tbody>\n",
              "    <tr>\n",
              "      <th>0</th>\n",
              "      <td>0</td>\n",
              "      <td>1949163N07145</td>\n",
              "      <td>DELLA</td>\n",
              "      <td>JPN</td>\n",
              "      <td>1949</td>\n",
              "      <td>WP</td>\n",
              "      <td>WP</td>\n",
              "      <td>TS</td>\n",
              "      <td>['1949-06-21 03:00:00', '1949-06-22 03:00:00',...</td>\n",
              "      <td>[[35.67, 130.99], [38.35, 135.07], [38.82, 136...</td>\n",
              "      <td>0</td>\n",
              "      <td>0</td>\n",
              "      <td>0</td>\n",
              "      <td>0</td>\n",
              "      <td>33.0</td>\n",
              "      <td>55.0</td>\n",
              "      <td>39.133333</td>\n",
              "      <td>982.0</td>\n",
              "      <td>1008.0</td>\n",
              "      <td>1000.333333</td>\n",
              "      <td>11</td>\n",
              "      <td>27</td>\n",
              "      <td>19.0</td>\n",
              "      <td>41</td>\n",
              "      <td>356</td>\n",
              "      <td>91.444444</td>\n",
              "      <td>99.82</td>\n",
              "      <td>NaN</td>\n",
              "      <td>NaN</td>\n",
              "      <td>NaN</td>\n",
              "      <td>9.327572</td>\n",
              "      <td>NaN</td>\n",
              "      <td>419.0</td>\n",
              "      <td>NaN</td>\n",
              "      <td>0.059615</td>\n",
              "      <td>4173.5</td>\n",
              "      <td>67.79</td>\n",
              "      <td>NaN</td>\n",
              "      <td>8607.657082</td>\n",
              "      <td>0.0</td>\n",
              "      <td>67.666098</td>\n",
              "      <td>NaN</td>\n",
              "      <td>258.911917</td>\n",
              "      <td>2.867878</td>\n",
              "      <td>36.728</td>\n",
              "      <td>Low</td>\n",
              "      <td>16278929.0</td>\n",
              "      <td>4378623.5</td>\n",
              "      <td>732154.8125</td>\n",
              "      <td>194046</td>\n",
              "      <td>0</td>\n",
              "      <td>0</td>\n",
              "      <td>0</td>\n",
              "    </tr>\n",
              "  </tbody>\n",
              "</table>\n",
              "</div>"
            ],
            "text/plain": [
              "   Unnamed: 0            SID  ... pop_max_50_adj pop_max_64_adj\n",
              "0           0  1949163N07145  ...              0              0\n",
              "\n",
              "[1 rows x 53 columns]"
            ]
          },
          "metadata": {
            "tags": []
          },
          "execution_count": 106
        }
      ]
    },
    {
      "cell_type": "code",
      "metadata": {
        "id": "Ua_k-UzdW2xz",
        "colab_type": "code",
        "outputId": "d2f815ea-a8ea-4d7b-f5ce-7c8119795627",
        "colab": {
          "base_uri": "https://localhost:8080/",
          "height": 34
        }
      },
      "source": [
        "df.shape"
      ],
      "execution_count": 0,
      "outputs": [
        {
          "output_type": "execute_result",
          "data": {
            "text/plain": [
              "(1044, 53)"
            ]
          },
          "metadata": {
            "tags": []
          },
          "execution_count": 107
        }
      ]
    },
    {
      "cell_type": "code",
      "metadata": {
        "id": "ray8ETy-W4zf",
        "colab_type": "code",
        "outputId": "8641b183-738d-4c30-b417-9cf5a249ba8e",
        "colab": {
          "base_uri": "https://localhost:8080/",
          "height": 921
        }
      },
      "source": [
        "df.info()\n",
        "\n",
        "\n",
        "'''\n",
        "index\n",
        "34KN_POP\n",
        "64KN_POP\n",
        "96KN_POP\n",
        "Population, total             \n",
        "Population_2000            \n",
        "Population_2005            \n",
        "Population_2010            \n",
        "Population_2015            \n",
        "Population_2020            \n",
        "pop_max_34    \n",
        "pop_max_50    \n",
        "pop_max_64    \n",
        "Numeric             \n",
        "YEAR_tiff           \n",
        "coef_year          \n",
        "YEAR_tiff_c\n",
        "\n",
        "\n",
        "############\n",
        "\n",
        "\n",
        "-      USA_SSHS column with value -5 = Unknown [XX]:\n",
        "df[\"USA_SSHS\"]= df[\"USA_SSHS\"].replace(-5, np.nan)\n",
        "-      As damage in '000 USD is time-money sensitive, we can use the CPI for that data point to calculate \"Total Damage Adjusted\" by dividing Total Damage by the CPI. We then drop columns for Damage and CPI.\n",
        "df[\"TOTAL_DAMAGE_(000$)_Adjusted\"]= df[\"TOTAL_DAMAGE_(000$)\"] / df[\"CPI\"]\n",
        "df[\"TOTAL_DAMAGE_(000$)_Adjusted\"]= df[\"TOTAL_DAMAGE_(000$)_Adjusted\"].replace(0, np.nan)\n",
        "df = df.drop([\"TOTAL_DAMAGE_(000$)\",'CPI'], axis=1)\n",
        "-      Transform ‘Income_level_Final’ categories into ordinal: so we assign['Low' =1, 'Low_Middle' =2, 'High'=4, 'High_Middle'=3]\n",
        "'''"
      ],
      "execution_count": 0,
      "outputs": [
        {
          "output_type": "stream",
          "text": [
            "<class 'pandas.core.frame.DataFrame'>\n",
            "RangeIndex: 1005 entries, 0 to 1004\n",
            "Data columns (total 44 columns):\n",
            " #   Column                                               Non-Null Count  Dtype  \n",
            "---  ------                                               --------------  -----  \n",
            " 0   Unnamed: 0                                           1005 non-null   int64  \n",
            " 1   SID                                                  1005 non-null   object \n",
            " 2   NAME                                                 1005 non-null   object \n",
            " 3   ISO                                                  1005 non-null   object \n",
            " 4   YEAR                                                 1005 non-null   int64  \n",
            " 5   BASIN                                                1005 non-null   object \n",
            " 6   SUB BASIN                                            1005 non-null   object \n",
            " 7   NATURE                                               1005 non-null   object \n",
            " 8   ISO_TIME                                             1005 non-null   object \n",
            " 9   COORDS                                               1005 non-null   object \n",
            " 10  TOTAL_HRS                                            1005 non-null   int64  \n",
            " 11  DAY_HRS                                              1005 non-null   int64  \n",
            " 12  NIGHT_HRS                                            1005 non-null   int64  \n",
            " 13  USA_SSHS                                             1005 non-null   int64  \n",
            " 14  WIND_CALC_MEAN                                       1001 non-null   float64\n",
            " 15  PRES_CALC_MEAN                                       1005 non-null   float64\n",
            " 16  STORM_SPD_MEAN                                       1005 non-null   float64\n",
            " 17  STORM_DR_MEAN                                        1005 non-null   float64\n",
            " 18  V_LAND_KN                                            1005 non-null   float64\n",
            " 19  34KN_ASSETS                                          772 non-null    float64\n",
            " 20  64KN_ASSETS                                          772 non-null    float64\n",
            " 21  96KN_ASSETS                                          772 non-null    float64\n",
            " 22  CPI                                                  1005 non-null   float64\n",
            " 23  TOTAL_DAMAGE_(000$)                                  686 non-null    float64\n",
            " 24  TOTAL_DEATHS                                         871 non-null    float64\n",
            " 25  Air transport, freight (million ton-km)              846 non-null    float64\n",
            " 26  Arable land (hectares per person)                    1004 non-null   float64\n",
            " 27  Cereal yield (kg per hectare)                        995 non-null    float64\n",
            " 28  Food production index (2004-2006 = 100)              1001 non-null   float64\n",
            " 29  GDP growth (annual %)                                965 non-null    float64\n",
            " 30  GDP per capita (constant 2010 US$)                   996 non-null    float64\n",
            " 31  Net flows from UN agencies US$                       1005 non-null   float64\n",
            " 32  Life expectancy at birth, total (years)              1001 non-null   float64\n",
            " 33  Mobile cellular subscriptions (per 100 people)       996 non-null    float64\n",
            " 34  Population density (people per sq. km of land area)  1005 non-null   float64\n",
            " 35  Adjusted savings: education expenditure (% of GNI)   995 non-null    float64\n",
            " 36  Rural population (% of total population)             1005 non-null   float64\n",
            " 37  Income_level_Final                                   1005 non-null   object \n",
            " 38  TOTAL_AFFECTED                                       1005 non-null   int64  \n",
            " 39  in_wbi                                               1005 non-null   bool   \n",
            " 40  in_susan                                             924 non-null    object \n",
            " 41  pop_max_34_adj                                       924 non-null    float64\n",
            " 42  pop_max_50_adj                                       924 non-null    float64\n",
            " 43  pop_max_64_adj                                       924 non-null    float64\n",
            "dtypes: bool(1), float64(26), int64(7), object(10)\n",
            "memory usage: 338.7+ KB\n"
          ],
          "name": "stdout"
        },
        {
          "output_type": "execute_result",
          "data": {
            "text/plain": [
              "'\\nindex\\n34KN_POP\\n64KN_POP\\n96KN_POP\\nPopulation, total             \\nPopulation_2000            \\nPopulation_2005            \\nPopulation_2010            \\nPopulation_2015            \\nPopulation_2020            \\npop_max_34    \\npop_max_50    \\npop_max_64    \\nNumeric             \\nYEAR_tiff           \\ncoef_year          \\nYEAR_tiff_c\\n\\n\\n############\\n\\n\\n-      USA_SSHS column with value -5 = Unknown [XX]:\\ndf[\"USA_SSHS\"]= df[\"USA_SSHS\"].replace(-5, np.nan)\\n-      As damage in \\'000 USD is time-money sensitive, we can use the CPI for that data point to calculate \"Total Damage Adjusted\" by dividing Total Damage by the CPI. We then drop columns for Damage and CPI.\\ndf[\"TOTAL_DAMAGE_(000$)_Adjusted\"]= df[\"TOTAL_DAMAGE_(000$)\"] / df[\"CPI\"]\\ndf[\"TOTAL_DAMAGE_(000$)_Adjusted\"]= df[\"TOTAL_DAMAGE_(000$)_Adjusted\"].replace(0, np.nan)\\ndf = df.drop([\"TOTAL_DAMAGE_(000$)\",\\'CPI\\'], axis=1)\\n-      Transform ‘Income_level_Final’ categories into ordinal: so we assign[\\'Low\\' =1, \\'Low_Middle\\' =2, \\'High\\'=4, \\'High_Middle\\'=3]\\n'"
            ]
          },
          "metadata": {
            "tags": []
          },
          "execution_count": 14
        }
      ]
    },
    {
      "cell_type": "code",
      "metadata": {
        "id": "sUfuFBwYyxRa",
        "colab_type": "code",
        "colab": {}
      },
      "source": [
        "df = df.drop(columns=['pop_max_34', 'pop_max_50', 'pop_max_64', 'Unnamed: 0', \"SID\"])"
      ],
      "execution_count": 0,
      "outputs": []
    },
    {
      "cell_type": "code",
      "metadata": {
        "id": "yFoBxxGD0MSM",
        "colab_type": "code",
        "colab": {}
      },
      "source": [
        ""
      ],
      "execution_count": 0,
      "outputs": []
    },
    {
      "cell_type": "code",
      "metadata": {
        "id": "JqjDgzr3XG-X",
        "colab_type": "code",
        "colab": {}
      },
      "source": [
        "## Xavier preprocessing\n",
        "\n",
        "df[\"SUB BASIN\"]= df[\"SUB BASIN\"].replace('MM', np.nan) \n",
        "df[\"BASIN\"]= df[\"BASIN\"].replace('MM', np.nan)\n",
        "\n",
        "df['SUB BASIN']= np.where(df['SUB BASIN'].isnull(), df['BASIN'], df['SUB BASIN'])\n",
        "\n",
        "df[\"USA_SSHS\"]= df[\"USA_SSHS\"].replace(-5, np.nan)\n"
      ],
      "execution_count": 0,
      "outputs": []
    },
    {
      "cell_type": "code",
      "metadata": {
        "id": "f9CbcCSg70EW",
        "colab_type": "code",
        "colab": {}
      },
      "source": [
        "df[\"TOTAL_DAMAGE_(000$)_Adjusted\"]= df[\"TOTAL_DAMAGE_(000$)\"] / df[\"CPI\"]\n",
        "df[\"TOTAL_DAMAGE_(000$)_Adjusted\"]= df[\"TOTAL_DAMAGE_(000$)_Adjusted\"].replace(0, np.nan)\n",
        "df = df.drop([\"TOTAL_DAMAGE_(000$)\",'CPI'], axis=1)"
      ],
      "execution_count": 0,
      "outputs": []
    },
    {
      "cell_type": "code",
      "metadata": {
        "id": "2ejzZgszXJ1n",
        "colab_type": "code",
        "colab": {}
      },
      "source": [
        "df['SSHSS'] = np.where(df['USA_SSHS'] > 0, 1, 0)\n",
        "\n",
        "df[\"SSHSS\"] = df[\"SSHSS\"].astype('object')"
      ],
      "execution_count": 0,
      "outputs": []
    },
    {
      "cell_type": "code",
      "metadata": {
        "id": "LAo_9JYxXAZf",
        "colab_type": "code",
        "colab": {}
      },
      "source": [
        "columns = ['BASIN', 'SUB BASIN', 'NATURE', 'Income_level_Final', 'USA_SSHS', 'SSHSS']"
      ],
      "execution_count": 0,
      "outputs": []
    },
    {
      "cell_type": "code",
      "metadata": {
        "id": "RoS_x65Q4YUO",
        "colab_type": "code",
        "outputId": "b27d98bc-4134-4248-a82f-3213ba563b73",
        "colab": {
          "base_uri": "https://localhost:8080/",
          "height": 34
        }
      },
      "source": [
        "df.shape"
      ],
      "execution_count": 0,
      "outputs": [
        {
          "output_type": "execute_result",
          "data": {
            "text/plain": [
              "(1044, 48)"
            ]
          },
          "metadata": {
            "tags": []
          },
          "execution_count": 113
        }
      ]
    },
    {
      "cell_type": "code",
      "metadata": {
        "id": "WEpPklo14YXc",
        "colab_type": "code",
        "outputId": "03a06673-8238-4ff7-b606-b555df6cd838",
        "colab": {
          "base_uri": "https://localhost:8080/",
          "height": 204
        }
      },
      "source": [
        "df['USA_SSHS'].value_counts()"
      ],
      "execution_count": 0,
      "outputs": [
        {
          "output_type": "execute_result",
          "data": {
            "text/plain": [
              " 0.0    352\n",
              "-1.0    243\n",
              " 1.0    153\n",
              " 2.0     72\n",
              " 4.0     65\n",
              " 3.0     58\n",
              "-3.0     21\n",
              "-4.0     16\n",
              " 5.0     13\n",
              "-2.0      5\n",
              "Name: USA_SSHS, dtype: int64"
            ]
          },
          "metadata": {
            "tags": []
          },
          "execution_count": 8
        }
      ]
    },
    {
      "cell_type": "code",
      "metadata": {
        "id": "ju9u8iu44Ya6",
        "colab_type": "code",
        "outputId": "f5bce62f-9dcd-4fb3-90eb-38d6d6ba7ba3",
        "colab": {
          "base_uri": "https://localhost:8080/",
          "height": 833
        }
      },
      "source": [
        "def checkNull(col, df):\n",
        "  return(df[col].isna().sum() / len(df[col]) * 100.0)\n",
        "  \n",
        "for each in df.columns.values:\n",
        "  print('{} ---- {}'.format(each, checkNull(each, df)))"
      ],
      "execution_count": 0,
      "outputs": [
        {
          "output_type": "stream",
          "text": [
            "NAME ---- 0.0\n",
            "ISO ---- 0.0\n",
            "YEAR ---- 0.0\n",
            "BASIN ---- 0.0\n",
            "SUB BASIN ---- 0.0\n",
            "NATURE ---- 0.0\n",
            "ISO_TIME ---- 0.0\n",
            "COORDS ---- 0.0\n",
            "TOTAL_HRS ---- 0.0\n",
            "DAY_HRS ---- 0.0\n",
            "NIGHT_HRS ---- 0.0\n",
            "USA_SSHS ---- 0.6704980842911877\n",
            "WIND_CAL_MIN ---- 0.0\n",
            "WIND_CAL_MAX ---- 0.0\n",
            "WIND_CALC_MEAN ---- 0.38314176245210724\n",
            "PRES_CAL_MIN ---- 0.0\n",
            "PRES_CAL_MAX ---- 0.0\n",
            "PRES_CALC_MEAN ---- 0.0\n",
            "STORM_SPD_MIN ---- 0.0\n",
            "STORM_SPD_MAX ---- 0.0\n",
            "STORM_SPD_MEAN ---- 0.0\n",
            "STORM_DR_MIN ---- 0.0\n",
            "STORM_DR_MAX ---- 0.0\n",
            "STORM_DR_MEAN ---- 0.0\n",
            "V_LAND_KN ---- 0.0\n",
            "34KN_ASSETS ---- 23.371647509578544\n",
            "64KN_ASSETS ---- 23.371647509578544\n",
            "96KN_ASSETS ---- 23.371647509578544\n",
            "TOTAL_DEATHS ---- 13.505747126436782\n",
            "Air transport, freight (million ton-km) ---- 15.996168582375478\n",
            "Arable land (hectares per person) ---- 0.09578544061302681\n",
            "Cereal yield (kg per hectare) ---- 0.9578544061302682\n",
            "Food production index (2004-2006 = 100) ---- 0.38314176245210724\n",
            "GDP growth (annual %) ---- 3.8314176245210727\n",
            "GDP per capita (constant 2010 US$) ---- 0.8620689655172413\n",
            "Net flows from UN agencies US$ ---- 0.0\n",
            "Life expectancy at birth, total (years) ---- 0.38314176245210724\n",
            "Mobile cellular subscriptions (per 100 people) ---- 0.8620689655172413\n",
            "Population density (people per sq. km of land area) ---- 0.0\n",
            "Adjusted savings: education expenditure (% of GNI) ---- 0.9578544061302682\n",
            "Rural population (% of total population) ---- 0.0\n",
            "Income_level_Final ---- 0.0\n",
            "TOTAL_AFFECTED ---- 0.0\n",
            "pop_max_34_adj ---- 0.0\n",
            "pop_max_50_adj ---- 0.0\n",
            "pop_max_64_adj ---- 0.0\n",
            "TOTAL_DAMAGE_(000$)_Adjusted ---- 31.992337164750957\n",
            "SSHSS ---- 0.0\n"
          ],
          "name": "stdout"
        }
      ]
    },
    {
      "cell_type": "code",
      "metadata": {
        "id": "8EFnu9hsdDFS",
        "colab_type": "code",
        "outputId": "85ef8f4a-baad-4d1f-98df-6e99423ad902",
        "colab": {
          "base_uri": "https://localhost:8080/",
          "height": 68
        }
      },
      "source": [
        "df['SSHSS'].value_counts()"
      ],
      "execution_count": 0,
      "outputs": [
        {
          "output_type": "execute_result",
          "data": {
            "text/plain": [
              "0    669\n",
              "1    375\n",
              "Name: SSHSS, dtype: int64"
            ]
          },
          "metadata": {
            "tags": []
          },
          "execution_count": 116
        }
      ]
    },
    {
      "cell_type": "code",
      "metadata": {
        "id": "X4jNF-BiaEGD",
        "colab_type": "code",
        "outputId": "b4952e1a-2761-4a34-808a-a6caa1f4125f",
        "colab": {
          "base_uri": "https://localhost:8080/",
          "height": 465
        }
      },
      "source": [
        "(ggplot(df, aes(x='TOTAL_AFFECTED'))\n",
        " + geom_histogram(binwidth=0.5)\n",
        " + scale_x_log10())"
      ],
      "execution_count": 0,
      "outputs": [
        {
          "output_type": "display_data",
          "data": {
            "image/png": "[encoded data removed]",
            "text/plain": [
              "<Figure size 640x480 with 1 Axes>"
            ]
          },
          "metadata": {
            "tags": []
          }
        },
        {
          "output_type": "execute_result",
          "data": {
            "text/plain": [
              "<ggplot: (8769328317020)>"
            ]
          },
          "metadata": {
            "tags": []
          },
          "execution_count": 40
        }
      ]
    },
    {
      "cell_type": "code",
      "metadata": {
        "id": "Jh8bLQoqEIth",
        "colab_type": "code",
        "outputId": "a2edc3c6-9d0f-4b96-dd27-5e0489a0a775",
        "colab": {
          "base_uri": "https://localhost:8080/",
          "height": 1000
        }
      },
      "source": [
        "for each in columns:\n",
        "  plot = (ggplot(df, aes(x='TOTAL_AFFECTED', fill=each))\n",
        " + geom_histogram(binwidth=0.5)\n",
        " + scale_x_log10())\n",
        "  \n",
        "  print(plot)"
      ],
      "execution_count": 0,
      "outputs": [
        {
          "output_type": "display_data",
          "data": {
            "image/png": "[encoded data removed]",
            "text/plain": [
              "<Figure size 640x480 with 1 Axes>"
            ]
          },
          "metadata": {
            "tags": []
          }
        },
        {
          "output_type": "stream",
          "text": [
            "<ggplot: (8769325568527)>\n"
          ],
          "name": "stdout"
        },
        {
          "output_type": "display_data",
          "data": {
            "image/png": "[encoded data removed]",
            "text/plain": [
              "<Figure size 640x480 with 1 Axes>"
            ]
          },
          "metadata": {
            "tags": []
          }
        },
        {
          "output_type": "stream",
          "text": [
            "<ggplot: (-9223363267529203410)>\n"
          ],
          "name": "stdout"
        },
        {
          "output_type": "display_data",
          "data": {
            "image/png": "[encoded data removed]",
            "text/plain": [
              "<Figure size 640x480 with 1 Axes>"
            ]
          },
          "metadata": {
            "tags": []
          }
        },
        {
          "output_type": "stream",
          "text": [
            "<ggplot: (8769325214640)>\n"
          ],
          "name": "stdout"
        },
        {
          "output_type": "display_data",
          "data": {
            "image/png": "[encoded data removed]",
            "text/plain": [
              "<Figure size 640x480 with 1 Axes>"
            ]
          },
          "metadata": {
            "tags": []
          }
        },
        {
          "output_type": "stream",
          "text": [
            "<ggplot: (-9223363267529664147)>\n"
          ],
          "name": "stdout"
        },
        {
          "output_type": "display_data",
          "data": {
            "image/png": "[encoded data removed]",
            "text/plain": [
              "<Figure size 640x480 with 1 Axes>"
            ]
          },
          "metadata": {
            "tags": []
          }
        },
        {
          "output_type": "stream",
          "text": [
            "<ggplot: (8769325116115)>\n"
          ],
          "name": "stdout"
        },
        {
          "output_type": "display_data",
          "data": {
            "image/png": "[encoded data removed]",
            "text/plain": [
              "<Figure size 640x480 with 1 Axes>"
            ]
          },
          "metadata": {
            "tags": []
          }
        },
        {
          "output_type": "stream",
          "text": [
            "<ggplot: (8769325051389)>\n"
          ],
          "name": "stdout"
        }
      ]
    },
    {
      "cell_type": "code",
      "metadata": {
        "id": "zCELLwRJGCBk",
        "colab_type": "code",
        "outputId": "abc5fc56-2133-4357-aabb-b61c07615bf1",
        "colab": {
          "base_uri": "https://localhost:8080/",
          "height": 1000
        }
      },
      "source": [
        "\n",
        "for each in columns:\n",
        "  plot = (ggplot(df, aes(x=each, y='TOTAL_AFFECTED', fill=each))\n",
        "          + geom_boxplot()\n",
        "          + scale_y_log10())\n",
        "  print(plot)"
      ],
      "execution_count": 0,
      "outputs": [
        {
          "output_type": "display_data",
          "data": {
            "image/png": "[encoded data removed]",
            "text/plain": [
              "<Figure size 640x480 with 1 Axes>"
            ]
          },
          "metadata": {
            "tags": []
          }
        },
        {
          "output_type": "stream",
          "text": [
            "<ggplot: (-9223363267529553881)>\n"
          ],
          "name": "stdout"
        },
        {
          "output_type": "display_data",
          "data": {
            "image/png": "[encoded data removed]",
            "text/plain": [
              "<Figure size 640x480 with 1 Axes>"
            ]
          },
          "metadata": {
            "tags": []
          }
        },
        {
          "output_type": "stream",
          "text": [
            "<ggplot: (8769324954737)>\n"
          ],
          "name": "stdout"
        },
        {
          "output_type": "display_data",
          "data": {
            "image/png": "[encoded data removed]",
            "text/plain": [
              "<Figure size 640x480 with 1 Axes>"
            ]
          },
          "metadata": {
            "tags": []
          }
        },
        {
          "output_type": "stream",
          "text": [
            "<ggplot: (-9223363267529717423)>\n"
          ],
          "name": "stdout"
        },
        {
          "output_type": "display_data",
          "data": {
            "image/png": "[encoded data removed]",
            "text/plain": [
              "<Figure size 640x480 with 1 Axes>"
            ]
          },
          "metadata": {
            "tags": []
          }
        },
        {
          "output_type": "stream",
          "text": [
            "<ggplot: (-9223363267529213780)>\n"
          ],
          "name": "stdout"
        },
        {
          "output_type": "stream",
          "text": [
            "/usr/local/lib/python3.6/dist-packages/plotnine/layer.py:360: PlotnineWarning: stat_boxplot : Removed 7 rows containing non-finite values.\n",
            "  data = self.stat.compute_layer(data, params, layout)\n"
          ],
          "name": "stderr"
        },
        {
          "output_type": "display_data",
          "data": {
            "image/png": "[encoded data removed]",
            "text/plain": [
              "<Figure size 640x480 with 1 Axes>"
            ]
          },
          "metadata": {
            "tags": []
          }
        },
        {
          "output_type": "stream",
          "text": [
            "<ggplot: (8769325565248)>\n"
          ],
          "name": "stdout"
        },
        {
          "output_type": "display_data",
          "data": {
            "image/png": "[encoded data removed]",
            "text/plain": [
              "<Figure size 640x480 with 1 Axes>"
            ]
          },
          "metadata": {
            "tags": []
          }
        },
        {
          "output_type": "stream",
          "text": [
            "<ggplot: (-9223363267529786757)>\n"
          ],
          "name": "stdout"
        }
      ]
    },
    {
      "cell_type": "code",
      "metadata": {
        "id": "-kG_eT_ROOES",
        "colab_type": "code",
        "colab": {}
      },
      "source": [
        ""
      ],
      "execution_count": 0,
      "outputs": []
    },
    {
      "cell_type": "code",
      "metadata": {
        "id": "_yEJEK8TEG7w",
        "colab_type": "code",
        "colab": {}
      },
      "source": [
        ""
      ],
      "execution_count": 0,
      "outputs": []
    },
    {
      "cell_type": "code",
      "metadata": {
        "id": "OvE70GyiEGwZ",
        "colab_type": "code",
        "colab": {}
      },
      "source": [
        ""
      ],
      "execution_count": 0,
      "outputs": []
    },
    {
      "cell_type": "code",
      "metadata": {
        "id": "PDYnUihBEGtn",
        "colab_type": "code",
        "colab": {}
      },
      "source": [
        ""
      ],
      "execution_count": 0,
      "outputs": []
    },
    {
      "cell_type": "code",
      "metadata": {
        "id": "ptxHwlYMEGrM",
        "colab_type": "code",
        "colab": {}
      },
      "source": [
        ""
      ],
      "execution_count": 0,
      "outputs": []
    },
    {
      "cell_type": "code",
      "metadata": {
        "id": "9whmo2z0EGm_",
        "colab_type": "code",
        "colab": {}
      },
      "source": [
        ""
      ],
      "execution_count": 0,
      "outputs": []
    },
    {
      "cell_type": "code",
      "metadata": {
        "id": "cPm4kD2ajx3h",
        "colab_type": "code",
        "colab": {}
      },
      "source": [
        ""
      ],
      "execution_count": 0,
      "outputs": []
    },
    {
      "cell_type": "code",
      "metadata": {
        "id": "rUb0ReZqklvL",
        "colab_type": "code",
        "colab": {}
      },
      "source": [
        ""
      ],
      "execution_count": 0,
      "outputs": []
    },
    {
      "cell_type": "code",
      "metadata": {
        "id": "eZUiHMY_gyVo",
        "colab_type": "code",
        "colab": {}
      },
      "source": [
        ""
      ],
      "execution_count": 0,
      "outputs": []
    },
    {
      "cell_type": "code",
      "metadata": {
        "id": "IptCXrJVHmAA",
        "colab_type": "code",
        "colab": {}
      },
      "source": [
        ""
      ],
      "execution_count": 0,
      "outputs": []
    },
    {
      "cell_type": "code",
      "metadata": {
        "id": "NyhTSHXcHmO3",
        "colab_type": "code",
        "colab": {}
      },
      "source": [
        "chi_sq_results = []\n",
        "for i, j in itertools.combinations(object_columns, 2):\n",
        "  cross_tab = pd.crosstab(df[i], df[j])\n",
        "  chi_sq, p_val, _, _ = scs.chi2_contingency(cross_tab)\n",
        "  chi_sq_results.append([i, j, chi_sq, p_val])"
      ],
      "execution_count": 0,
      "outputs": []
    },
    {
      "cell_type": "code",
      "metadata": {
        "id": "4FAdGMusHmKW",
        "colab_type": "code",
        "outputId": "f231b592-9172-49d3-a82d-e86e0f0c5afe",
        "colab": {
          "base_uri": "https://localhost:8080/",
          "height": 85
        }
      },
      "source": [
        "chi_sq_results"
      ],
      "execution_count": 0,
      "outputs": [
        {
          "output_type": "execute_result",
          "data": {
            "text/plain": [
              "[['BASIN', 'SUB BASIN', 5088.250472760114, 0.0],\n",
              " ['BASIN', 'NATURE', 115.90682038950995, 1.159324989033322e-13],\n",
              " ['BASIN', 'Income_level_Final', 524.1088658194591, 4.461522088894435e-102],\n",
              " ['BASIN', 'SSHSS', 19.803912386256464, 0.001360151279022503]]"
            ]
          },
          "metadata": {
            "tags": []
          },
          "execution_count": 121
        }
      ]
    },
    {
      "cell_type": "code",
      "metadata": {
        "id": "Ra-dXqZHHmHO",
        "colab_type": "code",
        "colab": {}
      },
      "source": [
        "chi_sq_results = [x for x in chi_sq_results if x[3] > 0.05]"
      ],
      "execution_count": 0,
      "outputs": []
    },
    {
      "cell_type": "code",
      "metadata": {
        "id": "ElvZmfidHmDQ",
        "colab_type": "code",
        "outputId": "407acd72-043d-4196-fbb2-28b15e1f7b40",
        "colab": {
          "base_uri": "https://localhost:8080/",
          "height": 34
        }
      },
      "source": [
        "chi_sq_results"
      ],
      "execution_count": 0,
      "outputs": [
        {
          "output_type": "execute_result",
          "data": {
            "text/plain": [
              "[]"
            ]
          },
          "metadata": {
            "tags": []
          },
          "execution_count": 123
        }
      ]
    },
    {
      "cell_type": "code",
      "metadata": {
        "id": "xQvQqnyAoNMU",
        "colab_type": "code",
        "colab": {}
      },
      "source": [
        ""
      ],
      "execution_count": 0,
      "outputs": []
    },
    {
      "cell_type": "code",
      "metadata": {
        "id": "jevEP6XFk4ms",
        "colab_type": "code",
        "outputId": "24fb7685-172f-46cc-a538-bb3bb17dcaaa",
        "colab": {
          "base_uri": "https://localhost:8080/",
          "height": 34
        }
      },
      "source": [
        "## Point Biserial Correlation\n",
        "\n",
        "scs.pointbiserialr(df['SSHSS'], np.log(df['TOTAL_AFFECTED']) + 1)"
      ],
      "execution_count": 0,
      "outputs": [
        {
          "output_type": "execute_result",
          "data": {
            "text/plain": [
              "PointbiserialrResult(correlation=-0.03433806515396919, pvalue=0.2676482773038754)"
            ]
          },
          "metadata": {
            "tags": []
          },
          "execution_count": 124
        }
      ]
    },
    {
      "cell_type": "code",
      "metadata": {
        "id": "RLWu45SQmo-c",
        "colab_type": "code",
        "colab": {}
      },
      "source": [
        ""
      ],
      "execution_count": 0,
      "outputs": []
    },
    {
      "cell_type": "code",
      "metadata": {
        "id": "MXGuoYVok4j0",
        "colab_type": "code",
        "colab": {}
      },
      "source": [
        ""
      ],
      "execution_count": 0,
      "outputs": []
    },
    {
      "cell_type": "code",
      "metadata": {
        "id": "d_hyqa5pit1d",
        "colab_type": "code",
        "colab": {}
      },
      "source": [
        "all_columns = df.columns.values\n",
        "\n",
        "to_remove = ['ID', 'NAME', 'ISO', 'Year', 'COORDS', 'ISO_TIME', '34kn_pop', \n",
        "             '34kn_assets', '64kn_pop', '64kn_assets', '96kn_pop', '96kn_assets',\n",
        "             \"Total damage ('000$)\", 'Air transport, freight (million ton-km)']\n",
        "\n",
        "to_remove.extend(['TOTAL_DAMAGE_(000$)_Adjusted', 'TOTAL_DEATHS', \n",
        "                  'Air transport, freight (million ton-km)', 'YEAR',\n",
        "                  '34KN_ASSETS', '64KN_ASSETS', '96KN_ASSETS'])\n",
        "\n",
        "\n",
        "regression_columns = [x for x in all_columns if x not in to_remove]\n",
        "\n",
        "no_na_df = df[regression_columns].dropna()\n",
        "\n",
        "\n",
        "\n"
      ],
      "execution_count": 0,
      "outputs": []
    },
    {
      "cell_type": "code",
      "metadata": {
        "id": "8Un9fSVAmVXy",
        "colab_type": "code",
        "colab": {}
      },
      "source": [
        "object_columns = [col for col in regression_columns if df[col].dtype == 'object']\n",
        "dummies = pd.get_dummies(no_na_df[object_columns])\n",
        "\n",
        "\n",
        "\n",
        "no_na_df = pd.concat([no_na_df, dummies], axis=1)\n",
        "\n",
        "object_columns.append('SSHSS_1')\n",
        "no_na_df = no_na_df.drop(columns=object_columns)"
      ],
      "execution_count": 0,
      "outputs": []
    },
    {
      "cell_type": "code",
      "metadata": {
        "id": "et01CLyslXwI",
        "colab_type": "code",
        "colab": {}
      },
      "source": [
        ""
      ],
      "execution_count": 0,
      "outputs": []
    },
    {
      "cell_type": "code",
      "metadata": {
        "id": "S47yXM98HmMZ",
        "colab_type": "code",
        "colab": {}
      },
      "source": [
        ""
      ],
      "execution_count": 0,
      "outputs": []
    },
    {
      "cell_type": "code",
      "metadata": {
        "id": "UPlUA7XtvMtG",
        "colab_type": "code",
        "colab": {}
      },
      "source": [
        ""
      ],
      "execution_count": 0,
      "outputs": []
    },
    {
      "cell_type": "code",
      "metadata": {
        "id": "TPsw2034IaoO",
        "colab_type": "code",
        "outputId": "f358b601-6d62-4c7f-9a77-2995ff1ae17f",
        "colab": {
          "base_uri": "https://localhost:8080/",
          "height": 1000
        }
      },
      "source": [
        "def checkNull(col, df):\n",
        "  return(df[col].isna().sum() / len(df[col]) * 100.0)\n",
        "  \n",
        "for each in features:\n",
        "  print('{} ---- {}'.format(each, checkNull(each, no_na_df)))"
      ],
      "execution_count": 0,
      "outputs": [
        {
          "output_type": "stream",
          "text": [
            "TOTAL_HRS ---- 0.0\n",
            "DAY_HRS ---- 0.0\n",
            "NIGHT_HRS ---- 0.0\n",
            "USA_SSHS ---- 0.0\n",
            "WIND_CAL_MIN ---- 0.0\n",
            "WIND_CAL_MAX ---- 0.0\n",
            "WIND_CALC_MEAN ---- 0.0\n",
            "PRES_CAL_MIN ---- 0.0\n",
            "PRES_CAL_MAX ---- 0.0\n",
            "PRES_CALC_MEAN ---- 0.0\n",
            "STORM_SPD_MIN ---- 0.0\n",
            "STORM_SPD_MAX ---- 0.0\n",
            "STORM_SPD_MEAN ---- 0.0\n",
            "STORM_DR_MIN ---- 0.0\n",
            "STORM_DR_MAX ---- 0.0\n",
            "STORM_DR_MEAN ---- 0.0\n",
            "V_LAND_KN ---- 0.0\n",
            "Arable land (hectares per person) ---- 0.0\n",
            "Cereal yield (kg per hectare) ---- 0.0\n",
            "Food production index (2004-2006 = 100) ---- 0.0\n",
            "GDP growth (annual %) ---- 0.0\n",
            "GDP per capita (constant 2010 US$) ---- 0.0\n",
            "Net flows from UN agencies US$ ---- 0.0\n",
            "Life expectancy at birth, total (years) ---- 0.0\n",
            "Mobile cellular subscriptions (per 100 people) ---- 0.0\n",
            "Population density (people per sq. km of land area) ---- 0.0\n",
            "Adjusted savings: education expenditure (% of GNI) ---- 0.0\n",
            "Rural population (% of total population) ---- 0.0\n",
            "pop_max_34_adj ---- 0.0\n",
            "pop_max_50_adj ---- 0.0\n",
            "pop_max_64_adj ---- 0.0\n",
            "BASIN_EP ---- 0.0\n",
            "BASIN_NAm ---- 0.0\n",
            "BASIN_NI ---- 0.0\n",
            "BASIN_SI ---- 0.0\n",
            "BASIN_SP ---- 0.0\n",
            "BASIN_WP ---- 0.0\n",
            "SUB BASIN_AS ---- 0.0\n",
            "SUB BASIN_BB ---- 0.0\n",
            "SUB BASIN_CP ---- 0.0\n",
            "SUB BASIN_CS ---- 0.0\n",
            "SUB BASIN_EA ---- 0.0\n",
            "SUB BASIN_EP ---- 0.0\n",
            "SUB BASIN_GM ---- 0.0\n",
            "SUB BASIN_NAm ---- 0.0\n",
            "SUB BASIN_SI ---- 0.0\n",
            "SUB BASIN_SP ---- 0.0\n",
            "SUB BASIN_WA ---- 0.0\n",
            "SUB BASIN_WP ---- 0.0\n",
            "NATURE_DS ---- 0.0\n",
            "NATURE_ET ---- 0.0\n",
            "NATURE_MX ---- 0.0\n",
            "NATURE_NR ---- 0.0\n",
            "NATURE_SS ---- 0.0\n",
            "NATURE_TS ---- 0.0\n",
            "Income_level_Final_High ---- 0.0\n",
            "Income_level_Final_High_Middle ---- 0.0\n",
            "Income_level_Final_Low ---- 0.0\n",
            "Income_level_Final_Low_Middle ---- 0.0\n",
            "SSHSS_0 ---- 0.0\n"
          ],
          "name": "stdout"
        }
      ]
    },
    {
      "cell_type": "code",
      "metadata": {
        "id": "ZSXtDu7KcFNf",
        "colab_type": "code",
        "colab": {}
      },
      "source": [
        ""
      ],
      "execution_count": 0,
      "outputs": []
    },
    {
      "cell_type": "code",
      "metadata": {
        "id": "b1axRxg-Iaua",
        "colab_type": "code",
        "colab": {}
      },
      "source": [
        ""
      ],
      "execution_count": 0,
      "outputs": []
    },
    {
      "cell_type": "code",
      "metadata": {
        "id": "myw1KgY3Iak-",
        "colab_type": "code",
        "colab": {}
      },
      "source": [
        ""
      ],
      "execution_count": 0,
      "outputs": []
    },
    {
      "cell_type": "code",
      "metadata": {
        "id": "boehuMQ8mfmI",
        "colab_type": "code",
        "colab": {}
      },
      "source": [
        "features = [x for x in no_na_df.columns.values if x != 'TOTAL_AFFECTED']\n",
        "X_train, X_test, y_train, y_test = train_test_split(\n",
        "    no_na_df[features], no_na_df['TOTAL_AFFECTED'], test_size=0.2, random_state=42)"
      ],
      "execution_count": 0,
      "outputs": []
    },
    {
      "cell_type": "code",
      "metadata": {
        "id": "Wd8p1IUSYzci",
        "colab_type": "code",
        "colab": {}
      },
      "source": [
        "### Standard Scaling\n",
        "\n",
        "from sklearn.preprocessing import StandardScaler\n",
        "\n",
        "\n",
        "scaler = StandardScaler()\n",
        "\n",
        "scaled_X = scaler.fit_transform(X_train)"
      ],
      "execution_count": 0,
      "outputs": []
    },
    {
      "cell_type": "code",
      "metadata": {
        "id": "eIdkOTwsV91w",
        "colab_type": "code",
        "colab": {}
      },
      "source": [
        ""
      ],
      "execution_count": 0,
      "outputs": []
    },
    {
      "cell_type": "code",
      "metadata": {
        "id": "MJi-QXKoqkb_",
        "colab_type": "code",
        "colab": {}
      },
      "source": [
        "import torch\n",
        "import torch.nn as nn\n",
        "from torch.utils.data import DataLoader, TensorDataset"
      ],
      "execution_count": 0,
      "outputs": []
    },
    {
      "cell_type": "code",
      "metadata": {
        "id": "YfxuhPxIV97x",
        "colab_type": "code",
        "colab": {}
      },
      "source": [
        "train = TensorDataset(torch.Tensor(scaled_X), torch.Tensor(y_train.values).view(-1, 1))\n",
        "train_loader = DataLoader(train, shuffle = True, batch_size = 32)"
      ],
      "execution_count": 0,
      "outputs": []
    },
    {
      "cell_type": "code",
      "metadata": {
        "id": "-h3tSdrlZo0P",
        "colab_type": "code",
        "colab": {}
      },
      "source": [
        ""
      ],
      "execution_count": 0,
      "outputs": []
    },
    {
      "cell_type": "code",
      "metadata": {
        "id": "Gbc4Wgvdqkjn",
        "colab_type": "code",
        "colab": {}
      },
      "source": [
        "class Net(torch.nn.Module):\n",
        "    def __init__(self, n_feature, n_hidden, n_output):\n",
        "        super(Net, self).__init__()\n",
        "        self.h1 = torch.nn.Linear(n_feature, n_hidden)\n",
        "        self.h2 = torch.nn.Linear(n_hidden, n_hidden*2) \n",
        "        self.h3 = torch.nn.Linear(n_hidden*2, n_hidden*4) \n",
        "\n",
        "        self.lRelu = torch.nn.LeakyReLU(0.2)\n",
        "\n",
        "        self.dropout = torch.nn.Dropout(0.4)\n",
        "\n",
        "        self.out = torch.nn.Linear(n_hidden*4, n_output)\n",
        "\n",
        "    def forward(self, x):\n",
        "        x = self.lRelu(self.h1(x))      \n",
        "        x = self.dropout(x)\n",
        "\n",
        "        x = self.lRelu(self.h2(x))   \n",
        "        x = self.dropout(x)\n",
        "\n",
        "        x = self.lRelu(self.h3(x))   \n",
        "        x = self.dropout(x)\n",
        "\n",
        "        x = self.out(x)             \n",
        "        return(x)\n",
        "\n",
        "\n",
        "def create_model(n_features, n_hidden, n_output):\n",
        "  clf = nn.Sequential(\n",
        "      nn.Linear(n_features, n_hidden), \n",
        "      nn.Linear(n_hidden, n_output), \n",
        "  )\n",
        "\n",
        "  return(clf)"
      ],
      "execution_count": 0,
      "outputs": []
    },
    {
      "cell_type": "code",
      "metadata": {
        "id": "F3DLj9rxqkhb",
        "colab_type": "code",
        "colab": {}
      },
      "source": [
        ""
      ],
      "execution_count": 0,
      "outputs": []
    },
    {
      "cell_type": "code",
      "metadata": {
        "id": "jmnRIvUOjXGF",
        "colab_type": "code",
        "colab": {}
      },
      "source": [
        ""
      ],
      "execution_count": 0,
      "outputs": []
    },
    {
      "cell_type": "code",
      "metadata": {
        "id": "a821kclbr9zu",
        "colab_type": "code",
        "colab": {}
      },
      "source": [
        "model = Net(X_train.shape[1], 16, 1)\n",
        "\n",
        "optimizer = torch.optim.RMSprop(model.parameters(), lr = 0.001)\n",
        "criterion = torch.nn.MSELoss()\n",
        "\n",
        "epochs = 10"
      ],
      "execution_count": 0,
      "outputs": []
    },
    {
      "cell_type": "code",
      "metadata": {
        "id": "XRif0Q-MiTjh",
        "colab_type": "code",
        "outputId": "5f3f6d01-c5cc-4393-9331-6f1871ce7372",
        "colab": {
          "base_uri": "https://localhost:8080/",
          "height": 85
        }
      },
      "source": [
        "model"
      ],
      "execution_count": 0,
      "outputs": [
        {
          "output_type": "execute_result",
          "data": {
            "text/plain": [
              "Sequential(\n",
              "  (0): Linear(in_features=60, out_features=16, bias=True)\n",
              "  (1): Linear(in_features=16, out_features=1, bias=True)\n",
              ")"
            ]
          },
          "metadata": {
            "tags": []
          },
          "execution_count": 217
        }
      ]
    },
    {
      "cell_type": "code",
      "metadata": {
        "id": "yKuxMY7BsQ9l",
        "colab_type": "code",
        "outputId": "a2e12701-5f07-40ae-d84f-4db8606296bb",
        "colab": {
          "base_uri": "https://localhost:8080/",
          "height": 1000
        }
      },
      "source": [
        "losses = []\n",
        "for n in range(1, epochs):\n",
        "  model.train()\n",
        "\n",
        "  for X, Y in train_loader:\n",
        "\n",
        "    optimizer.zero_grad()\n",
        "\n",
        "    pred = model(X)\n",
        "\n",
        "    loss = criterion(pred, Y)\n",
        "\n",
        "    loss.backward()\n",
        "    optimizer.step()\n",
        "\n",
        "    losses.append(loss)\n",
        "\n",
        "    print(\"Epoch - {}  Loss - {} \".format(n, loss))"
      ],
      "execution_count": 0,
      "outputs": [
        {
          "output_type": "stream",
          "text": [
            "Epoch - 1  Loss - 223465013248.0 \n",
            "Epoch - 1  Loss - 1442663759872.0 \n",
            "Epoch - 1  Loss - 2896705617920.0 \n",
            "Epoch - 1  Loss - 1735577042944.0 \n",
            "Epoch - 1  Loss - 1185390919680.0 \n",
            "Epoch - 1  Loss - 13885014802432.0 \n",
            "Epoch - 1  Loss - 215750918144.0 \n",
            "Epoch - 1  Loss - 694562258944.0 \n",
            "Epoch - 1  Loss - 1422808449024.0 \n",
            "Epoch - 1  Loss - 1726775558144.0 \n",
            "Epoch - 1  Loss - 175878995968.0 \n",
            "Epoch - 1  Loss - 3464466530304.0 \n",
            "Epoch - 1  Loss - 11246505033728.0 \n",
            "Epoch - 1  Loss - 370211356672.0 \n",
            "Epoch - 1  Loss - 1811404685312.0 \n",
            "Epoch - 1  Loss - 12785747492864.0 \n",
            "Epoch - 1  Loss - 4165356748800.0 \n",
            "Epoch - 1  Loss - 245427109888.0 \n",
            "Epoch - 1  Loss - 2451003932672.0 \n",
            "Epoch - 1  Loss - 5835623759872.0 \n",
            "Epoch - 1  Loss - 319142199296.0 \n",
            "Epoch - 1  Loss - 14417592844288.0 \n",
            "Epoch - 1  Loss - 198898089984.0 \n",
            "Epoch - 1  Loss - 1233288036352.0 \n",
            "Epoch - 1  Loss - 792533925888.0 \n",
            "Epoch - 2  Loss - 2410749886464.0 \n",
            "Epoch - 2  Loss - 8541775069184.0 \n",
            "Epoch - 2  Loss - 7298070609920.0 \n",
            "Epoch - 2  Loss - 86294028288.0 \n",
            "Epoch - 2  Loss - 4592694722560.0 \n",
            "Epoch - 2  Loss - 476964225024.0 \n",
            "Epoch - 2  Loss - 563075284992.0 \n",
            "Epoch - 2  Loss - 136699052032.0 \n",
            "Epoch - 2  Loss - 162461368320.0 \n",
            "Epoch - 2  Loss - 267634507776.0 \n",
            "Epoch - 2  Loss - 9186398175232.0 \n",
            "Epoch - 2  Loss - 5495042605056.0 \n",
            "Epoch - 2  Loss - 3946911891456.0 \n",
            "Epoch - 2  Loss - 1361388240896.0 \n",
            "Epoch - 2  Loss - 780686589952.0 \n",
            "Epoch - 2  Loss - 4450042249216.0 \n",
            "Epoch - 2  Loss - 3297839153152.0 \n",
            "Epoch - 2  Loss - 1933079216128.0 \n",
            "Epoch - 2  Loss - 464718299136.0 \n",
            "Epoch - 2  Loss - 842580623360.0 \n",
            "Epoch - 2  Loss - 13224125661184.0 \n",
            "Epoch - 2  Loss - 1703057031168.0 \n",
            "Epoch - 2  Loss - 424936570880.0 \n",
            "Epoch - 2  Loss - 12252071591936.0 \n",
            "Epoch - 2  Loss - 1190400098304.0 \n",
            "Epoch - 3  Loss - 1225027878912.0 \n",
            "Epoch - 3  Loss - 3673427542016.0 \n",
            "Epoch - 3  Loss - 3913076965376.0 \n",
            "Epoch - 3  Loss - 367918940160.0 \n",
            "Epoch - 3  Loss - 10111743426560.0 \n",
            "Epoch - 3  Loss - 7929241534464.0 \n",
            "Epoch - 3  Loss - 14490410156032.0 \n",
            "Epoch - 3  Loss - 7505846468608.0 \n",
            "Epoch - 3  Loss - 504033673216.0 \n",
            "Epoch - 3  Loss - 2936156717056.0 \n",
            "Epoch - 3  Loss - 1480610152448.0 \n",
            "Epoch - 3  Loss - 319596986368.0 \n",
            "Epoch - 3  Loss - 1584387850240.0 \n",
            "Epoch - 3  Loss - 567293837312.0 \n",
            "Epoch - 3  Loss - 1848483774464.0 \n",
            "Epoch - 3  Loss - 310469689344.0 \n",
            "Epoch - 3  Loss - 1273091325952.0 \n",
            "Epoch - 3  Loss - 1303921164288.0 \n",
            "Epoch - 3  Loss - 2047869714432.0 \n",
            "Epoch - 3  Loss - 16452509761536.0 \n",
            "Epoch - 3  Loss - 2760881471488.0 \n",
            "Epoch - 3  Loss - 113507270656.0 \n",
            "Epoch - 3  Loss - 395741265920.0 \n",
            "Epoch - 3  Loss - 1149469982720.0 \n",
            "Epoch - 3  Loss - 600467374080.0 \n",
            "Epoch - 4  Loss - 557070090240.0 \n",
            "Epoch - 4  Loss - 1180513730560.0 \n",
            "Epoch - 4  Loss - 650935533568.0 \n",
            "Epoch - 4  Loss - 1146224902144.0 \n",
            "Epoch - 4  Loss - 15717596397568.0 \n",
            "Epoch - 4  Loss - 348710240256.0 \n",
            "Epoch - 4  Loss - 1445535285248.0 \n",
            "Epoch - 4  Loss - 2084518756352.0 \n",
            "Epoch - 4  Loss - 4871647395840.0 \n",
            "Epoch - 4  Loss - 12664215437312.0 \n",
            "Epoch - 4  Loss - 6630230982656.0 \n",
            "Epoch - 4  Loss - 3771765358592.0 \n",
            "Epoch - 4  Loss - 1943984275456.0 \n",
            "Epoch - 4  Loss - 103678967808.0 \n",
            "Epoch - 4  Loss - 118418063360.0 \n",
            "Epoch - 4  Loss - 2594042806272.0 \n",
            "Epoch - 4  Loss - 601627754496.0 \n",
            "Epoch - 4  Loss - 3972443668480.0 \n",
            "Epoch - 4  Loss - 1798440353792.0 \n",
            "Epoch - 4  Loss - 8263545913344.0 \n",
            "Epoch - 4  Loss - 3226925006848.0 \n",
            "Epoch - 4  Loss - 521871753216.0 \n",
            "Epoch - 4  Loss - 2262478880768.0 \n",
            "Epoch - 4  Loss - 7902047764480.0 \n",
            "Epoch - 4  Loss - 408215191552.0 \n",
            "Epoch - 5  Loss - 469309030400.0 \n",
            "Epoch - 5  Loss - 837945917440.0 \n",
            "Epoch - 5  Loss - 1114904199168.0 \n",
            "Epoch - 5  Loss - 636375269376.0 \n",
            "Epoch - 5  Loss - 8784410312704.0 \n",
            "Epoch - 5  Loss - 895202033664.0 \n",
            "Epoch - 5  Loss - 773832704000.0 \n",
            "Epoch - 5  Loss - 813016875008.0 \n",
            "Epoch - 5  Loss - 1579311038464.0 \n",
            "Epoch - 5  Loss - 4025231605760.0 \n",
            "Epoch - 5  Loss - 500446658560.0 \n",
            "Epoch - 5  Loss - 9924405886976.0 \n",
            "Epoch - 5  Loss - 64500244480.0 \n",
            "Epoch - 5  Loss - 1366526132224.0 \n",
            "Epoch - 5  Loss - 15900710273024.0 \n",
            "Epoch - 5  Loss - 851754942464.0 \n",
            "Epoch - 5  Loss - 8275648053248.0 \n",
            "Epoch - 5  Loss - 4044821889024.0 \n",
            "Epoch - 5  Loss - 3521958903808.0 \n",
            "Epoch - 5  Loss - 2533483085824.0 \n",
            "Epoch - 5  Loss - 1558720675840.0 \n",
            "Epoch - 5  Loss - 1563809153024.0 \n",
            "Epoch - 5  Loss - 1332817166336.0 \n",
            "Epoch - 5  Loss - 12127338233856.0 \n",
            "Epoch - 5  Loss - 1798438912000.0 \n",
            "Epoch - 6  Loss - 20052346667008.0 \n",
            "Epoch - 6  Loss - 763868610560.0 \n",
            "Epoch - 6  Loss - 11220695384064.0 \n",
            "Epoch - 6  Loss - 1395798573056.0 \n",
            "Epoch - 6  Loss - 1395613368320.0 \n",
            "Epoch - 6  Loss - 232317911040.0 \n",
            "Epoch - 6  Loss - 855798185984.0 \n",
            "Epoch - 6  Loss - 8401079762944.0 \n",
            "Epoch - 6  Loss - 716575866880.0 \n",
            "Epoch - 6  Loss - 156140666880.0 \n",
            "Epoch - 6  Loss - 100857192448.0 \n",
            "Epoch - 6  Loss - 535336353792.0 \n",
            "Epoch - 6  Loss - 1243465777152.0 \n",
            "Epoch - 6  Loss - 81360568320.0 \n",
            "Epoch - 6  Loss - 9932328927232.0 \n",
            "Epoch - 6  Loss - 12883201097728.0 \n",
            "Epoch - 6  Loss - 1730069135360.0 \n",
            "Epoch - 6  Loss - 272748478464.0 \n",
            "Epoch - 6  Loss - 1003887263744.0 \n",
            "Epoch - 6  Loss - 46408945664.0 \n",
            "Epoch - 6  Loss - 3180085379072.0 \n",
            "Epoch - 6  Loss - 5112681463808.0 \n",
            "Epoch - 6  Loss - 1118233559040.0 \n",
            "Epoch - 6  Loss - 1895208058880.0 \n",
            "Epoch - 6  Loss - 447009357824.0 \n",
            "Epoch - 7  Loss - 3120370286592.0 \n",
            "Epoch - 7  Loss - 878406729728.0 \n",
            "Epoch - 7  Loss - 141270581248.0 \n",
            "Epoch - 7  Loss - 1666973564928.0 \n",
            "Epoch - 7  Loss - 877087883264.0 \n",
            "Epoch - 7  Loss - 5778040684544.0 \n",
            "Epoch - 7  Loss - 186526875648.0 \n",
            "Epoch - 7  Loss - 4496520904704.0 \n",
            "Epoch - 7  Loss - 562204835840.0 \n",
            "Epoch - 7  Loss - 3341543014400.0 \n",
            "Epoch - 7  Loss - 2569505079296.0 \n",
            "Epoch - 7  Loss - 9546707763200.0 \n",
            "Epoch - 7  Loss - 22544495149056.0 \n",
            "Epoch - 7  Loss - 409076760576.0 \n",
            "Epoch - 7  Loss - 1038994309120.0 \n",
            "Epoch - 7  Loss - 2803011944448.0 \n",
            "Epoch - 7  Loss - 676089167872.0 \n",
            "Epoch - 7  Loss - 679841562624.0 \n",
            "Epoch - 7  Loss - 399334572032.0 \n",
            "Epoch - 7  Loss - 12184802295808.0 \n",
            "Epoch - 7  Loss - 3197211770880.0 \n",
            "Epoch - 7  Loss - 1408139395072.0 \n",
            "Epoch - 7  Loss - 4611298033664.0 \n",
            "Epoch - 7  Loss - 1231460368384.0 \n",
            "Epoch - 7  Loss - 360974516224.0 \n",
            "Epoch - 8  Loss - 8566073720832.0 \n",
            "Epoch - 8  Loss - 1075017220096.0 \n",
            "Epoch - 8  Loss - 13467352301568.0 \n",
            "Epoch - 8  Loss - 12616232599552.0 \n",
            "Epoch - 8  Loss - 399392768000.0 \n",
            "Epoch - 8  Loss - 888689721344.0 \n",
            "Epoch - 8  Loss - 885221556224.0 \n",
            "Epoch - 8  Loss - 850057494528.0 \n",
            "Epoch - 8  Loss - 3200739442688.0 \n",
            "Epoch - 8  Loss - 7590782173184.0 \n",
            "Epoch - 8  Loss - 6543609692160.0 \n",
            "Epoch - 8  Loss - 929570750464.0 \n",
            "Epoch - 8  Loss - 397232701440.0 \n",
            "Epoch - 8  Loss - 498752290816.0 \n",
            "Epoch - 8  Loss - 362509959168.0 \n",
            "Epoch - 8  Loss - 4699600715776.0 \n",
            "Epoch - 8  Loss - 482026749952.0 \n",
            "Epoch - 8  Loss - 6204032548864.0 \n",
            "Epoch - 8  Loss - 1901873594368.0 \n",
            "Epoch - 8  Loss - 769967980544.0 \n",
            "Epoch - 8  Loss - 251065663488.0 \n",
            "Epoch - 8  Loss - 1318350880768.0 \n",
            "Epoch - 8  Loss - 152564629504.0 \n",
            "Epoch - 8  Loss - 6767795765248.0 \n",
            "Epoch - 8  Loss - 5984870727680.0 \n",
            "Epoch - 9  Loss - 5275581415424.0 \n",
            "Epoch - 9  Loss - 3310562050048.0 \n",
            "Epoch - 9  Loss - 7922034147328.0 \n",
            "Epoch - 9  Loss - 6213854560256.0 \n",
            "Epoch - 9  Loss - 274113445888.0 \n",
            "Epoch - 9  Loss - 3040221593600.0 \n",
            "Epoch - 9  Loss - 1478996787200.0 \n",
            "Epoch - 9  Loss - 390847791104.0 \n",
            "Epoch - 9  Loss - 9143427530752.0 \n",
            "Epoch - 9  Loss - 860726165504.0 \n",
            "Epoch - 9  Loss - 977495457792.0 \n",
            "Epoch - 9  Loss - 2343279788032.0 \n",
            "Epoch - 9  Loss - 6085999067136.0 \n",
            "Epoch - 9  Loss - 1704340488192.0 \n",
            "Epoch - 9  Loss - 131428098048.0 \n",
            "Epoch - 9  Loss - 357872041984.0 \n",
            "Epoch - 9  Loss - 3257138937856.0 \n",
            "Epoch - 9  Loss - 450503770112.0 \n",
            "Epoch - 9  Loss - 12108384174080.0 \n",
            "Epoch - 9  Loss - 1821647437824.0 \n",
            "Epoch - 9  Loss - 14569829302272.0 \n",
            "Epoch - 9  Loss - 1016797069312.0 \n",
            "Epoch - 9  Loss - 1244421423104.0 \n",
            "Epoch - 9  Loss - 278953787392.0 \n",
            "Epoch - 9  Loss - 436991524864.0 \n"
          ],
          "name": "stdout"
        }
      ]
    },
    {
      "cell_type": "code",
      "metadata": {
        "id": "TlWh4rU4sREt",
        "colab_type": "code",
        "colab": {}
      },
      "source": [
        "losses"
      ],
      "execution_count": 0,
      "outputs": []
    },
    {
      "cell_type": "code",
      "metadata": {
        "id": "tDiLUsc_sRBt",
        "colab_type": "code",
        "colab": {}
      },
      "source": [
        "### Keras"
      ],
      "execution_count": 0,
      "outputs": []
    },
    {
      "cell_type": "code",
      "metadata": {
        "id": "RPXH6IFCxK_N",
        "colab_type": "code",
        "colab": {}
      },
      "source": [
        "from keras.models import Sequential, load_model\n",
        "from keras.layers.core import Dense, Activation, Dropout\n",
        "from keras.layers import LeakyReLU\n",
        "from keras import callbacks, optimizers\n",
        "from keras.callbacks import EarlyStopping, ModelCheckpoint\n"
      ],
      "execution_count": 0,
      "outputs": []
    },
    {
      "cell_type": "code",
      "metadata": {
        "id": "RJ-pqh9-JmfC",
        "colab_type": "code",
        "colab": {}
      },
      "source": [
        ""
      ],
      "execution_count": 0,
      "outputs": []
    },
    {
      "cell_type": "code",
      "metadata": {
        "id": "GJ0UXpZxxLDq",
        "colab_type": "code",
        "colab": {}
      },
      "source": [
        "def build_model():\n",
        "  clf = Sequential()\n",
        "\n",
        "  clf.add(Dense(32, input_shape=(X_train.shape[1], )))\n",
        "  clf.add(LeakyReLU(0.2))\n",
        "  clf.add(Dropout(0.5))\n",
        "\n",
        "  clf.add(Dense(64))\n",
        "  clf.add(LeakyReLU(0.1))\n",
        "  clf.add(Dropout(0.4))\n",
        "  \n",
        "  clf.add(Dense(128))\n",
        "  clf.add(LeakyReLU(0.1))\n",
        "  clf.add(Dropout(0.4))\n",
        "\n",
        "  clf.add(Dense(256))\n",
        "  clf.add(LeakyReLU(0.1))\n",
        "  clf.add(Dropout(0.3))\n",
        "\n",
        "  clf.add(Dense(1))\n",
        "\n",
        "  return(clf)\n",
        "\n"
      ],
      "execution_count": 0,
      "outputs": []
    },
    {
      "cell_type": "code",
      "metadata": {
        "id": "G223hTsRxK9T",
        "colab_type": "code",
        "colab": {}
      },
      "source": [
        "keras_model = build_model()\n",
        "\n",
        "optim = optimizers.RMSprop(learning_rate=0.001)\n",
        "\n",
        "keras_model.compile(loss='mse', optimizer=optim, metrics=['mae'])\n",
        "\n",
        "callback = [EarlyStopping(monitor='val_loss', patience=100, \n",
        "                                              verbose=1, mode='min'), \n",
        "            ModelCheckpoint('model.sve', monitor='val_loss', verbose=True, \n",
        "                            save_best_only=True, mode='min')]\n"
      ],
      "execution_count": 0,
      "outputs": []
    },
    {
      "cell_type": "code",
      "metadata": {
        "id": "y86C2hirxK64",
        "colab_type": "code",
        "outputId": "0dd99e4b-76f0-4c96-bcfc-e6cd712f75a5",
        "colab": {
          "base_uri": "https://localhost:8080/",
          "height": 1000
        }
      },
      "source": [
        "history = keras_model.fit(np.array(X_train), np.array(y_train), epochs=1000, \n",
        "                          validation_split=0.1, batch_size=32, callbacks=callback)"
      ],
      "execution_count": 0,
      "outputs": [
        {
          "output_type": "stream",
          "text": [
            "Train on 709 samples, validate on 79 samples\n",
            "Epoch 1/1000\n",
            "709/709 [==============================] - 0s 193us/step - loss: 5268357422907.5771 - mae: 818169.9375 - val_loss: 1118250341648.2026 - val_mae: 589192.6875\n",
            "\n",
            "Epoch 00001: val_loss improved from inf to 1118250341648.20264, saving model to model.sve\n",
            "Epoch 2/1000\n",
            "709/709 [==============================] - 0s 64us/step - loss: 3761533989932.7729 - mae: 745883.0625 - val_loss: 1950462948313.1140 - val_mae: 831716.9375\n",
            "\n",
            "Epoch 00002: val_loss did not improve from 1118250341648.20264\n",
            "Epoch 3/1000\n",
            "709/709 [==============================] - 0s 69us/step - loss: 3581010004623.7065 - mae: 767169.8125 - val_loss: 1641199395127.0886 - val_mae: 754399.5000\n",
            "\n",
            "Epoch 00003: val_loss did not improve from 1118250341648.20264\n",
            "Epoch 4/1000\n",
            "709/709 [==============================] - 0s 66us/step - loss: 3649847334926.4424 - mae: 762858.3125 - val_loss: 851685987911.2911 - val_mae: 412816.9375\n",
            "\n",
            "Epoch 00004: val_loss improved from 1118250341648.20264 to 851685987911.29114, saving model to model.sve\n",
            "Epoch 5/1000\n",
            "709/709 [==============================] - 0s 63us/step - loss: 3471099398406.8608 - mae: 690105.2500 - val_loss: 755847341068.9620 - val_mae: 392696.8750\n",
            "\n",
            "Epoch 00005: val_loss improved from 851685987911.29114 to 755847341068.96204, saving model to model.sve\n",
            "Epoch 6/1000\n",
            "709/709 [==============================] - 0s 62us/step - loss: 3475490825691.1709 - mae: 697317.7500 - val_loss: 871683457542.4810 - val_mae: 479628.5000\n",
            "\n",
            "Epoch 00006: val_loss did not improve from 755847341068.96204\n",
            "Epoch 7/1000\n",
            "709/709 [==============================] - 0s 66us/step - loss: 3372550707272.2144 - mae: 702513.8125 - val_loss: 994215949687.8987 - val_mae: 539088.8750\n",
            "\n",
            "Epoch 00007: val_loss did not improve from 755847341068.96204\n",
            "Epoch 8/1000\n",
            "709/709 [==============================] - 0s 66us/step - loss: 3410737551871.2778 - mae: 717250.7500 - val_loss: 785074743944.1013 - val_mae: 426430.3750\n",
            "\n",
            "Epoch 00008: val_loss did not improve from 755847341068.96204\n",
            "Epoch 9/1000\n",
            "709/709 [==============================] - 0s 67us/step - loss: 3331528275774.4658 - mae: 662293.2500 - val_loss: 801111608151.4937 - val_mae: 439074.4375\n",
            "\n",
            "Epoch 00009: val_loss did not improve from 755847341068.96204\n",
            "Epoch 10/1000\n",
            "709/709 [==============================] - 0s 71us/step - loss: 3342833547601.9634 - mae: 667995.6250 - val_loss: 1276489280447.1899 - val_mae: 644845.6875\n",
            "\n",
            "Epoch 00010: val_loss did not improve from 755847341068.96204\n",
            "Epoch 11/1000\n",
            "709/709 [==============================] - 0s 72us/step - loss: 3313761590025.0264 - mae: 713052.1250 - val_loss: 810303365120.0000 - val_mae: 445423.5938\n",
            "\n",
            "Epoch 00011: val_loss did not improve from 755847341068.96204\n",
            "Epoch 12/1000\n",
            "709/709 [==============================] - 0s 69us/step - loss: 3359674446557.6982 - mae: 688255.4375 - val_loss: 839540254745.9241 - val_mae: 462955.1250\n",
            "\n",
            "Epoch 00012: val_loss did not improve from 755847341068.96204\n",
            "Epoch 13/1000\n",
            "709/709 [==============================] - 0s 70us/step - loss: 3324704810635.3740 - mae: 681933.7500 - val_loss: 978748001941.0632 - val_mae: 532171.8750\n",
            "\n",
            "Epoch 00013: val_loss did not improve from 755847341068.96204\n",
            "Epoch 14/1000\n",
            "709/709 [==============================] - 0s 68us/step - loss: 3354359433201.5576 - mae: 685961.1875 - val_loss: 806756077205.0632 - val_mae: 443199.9062\n",
            "\n",
            "Epoch 00014: val_loss did not improve from 755847341068.96204\n",
            "Epoch 15/1000\n",
            "709/709 [==============================] - 0s 65us/step - loss: 3316390405541.0098 - mae: 686362.8125 - val_loss: 937752579318.2786 - val_mae: 512586.7812\n",
            "\n",
            "Epoch 00015: val_loss did not improve from 755847341068.96204\n",
            "Epoch 16/1000\n",
            "709/709 [==============================] - 0s 64us/step - loss: 3275596402243.1597 - mae: 691081.0625 - val_loss: 834152890056.9114 - val_mae: 460162.4375\n",
            "\n",
            "Epoch 00016: val_loss did not improve from 755847341068.96204\n",
            "Epoch 17/1000\n",
            "709/709 [==============================] - 0s 76us/step - loss: 3326859113817.1851 - mae: 694178.5000 - val_loss: 813955631233.6202 - val_mae: 448174.8438\n",
            "\n",
            "Epoch 00017: val_loss did not improve from 755847341068.96204\n",
            "Epoch 18/1000\n",
            "709/709 [==============================] - 0s 75us/step - loss: 3305075797055.5483 - mae: 689623.9375 - val_loss: 757822945565.1646 - val_mae: 397658.4375\n",
            "\n",
            "Epoch 00018: val_loss did not improve from 755847341068.96204\n",
            "Epoch 19/1000\n",
            "709/709 [==============================] - 0s 72us/step - loss: 3330682408942.6689 - mae: 655113.2500 - val_loss: 1423545134637.3672 - val_mae: 692717.5000\n",
            "\n",
            "Epoch 00019: val_loss did not improve from 755847341068.96204\n",
            "Epoch 20/1000\n",
            "709/709 [==============================] - 0s 72us/step - loss: 3349548659595.0127 - mae: 685183.5625 - val_loss: 835442395058.2279 - val_mae: 461149.7188\n",
            "\n",
            "Epoch 00020: val_loss did not improve from 755847341068.96204\n",
            "Epoch 21/1000\n",
            "709/709 [==============================] - 0s 72us/step - loss: 3204731224549.2808 - mae: 655508.2500 - val_loss: 1525018426977.2151 - val_mae: 722478.5625\n",
            "\n",
            "Epoch 00021: val_loss did not improve from 755847341068.96204\n",
            "Epoch 22/1000\n",
            "709/709 [==============================] - 0s 72us/step - loss: 3318570314626.3467 - mae: 725459.5625 - val_loss: 799639603122.2279 - val_mae: 439296.3438\n",
            "\n",
            "Epoch 00022: val_loss did not improve from 755847341068.96204\n",
            "Epoch 23/1000\n",
            "709/709 [==============================] - 0s 71us/step - loss: 3287137652891.9834 - mae: 680732.8125 - val_loss: 798322055867.9493 - val_mae: 439155.1875\n",
            "\n",
            "Epoch 00023: val_loss did not improve from 755847341068.96204\n",
            "Epoch 24/1000\n",
            "709/709 [==============================] - 0s 72us/step - loss: 3305750240806.2739 - mae: 658614.3125 - val_loss: 919673686145.6204 - val_mae: 505117.8750\n",
            "\n",
            "Epoch 00024: val_loss did not improve from 755847341068.96204\n",
            "Epoch 25/1000\n",
            "709/709 [==============================] - 0s 73us/step - loss: 3310834003188.0850 - mae: 681334.1875 - val_loss: 1276548354514.6328 - val_mae: 646297.3125\n",
            "\n",
            "Epoch 00025: val_loss did not improve from 755847341068.96204\n",
            "Epoch 26/1000\n",
            "709/709 [==============================] - 0s 72us/step - loss: 3337242071034.2227 - mae: 711330.6875 - val_loss: 1240120445990.8860 - val_mae: 634512.9375\n",
            "\n",
            "Epoch 00026: val_loss did not improve from 755847341068.96204\n",
            "Epoch 27/1000\n",
            "709/709 [==============================] - 0s 66us/step - loss: 3310207683868.5244 - mae: 725548.8125 - val_loss: 775263214786.4304 - val_mae: 423591.4062\n",
            "\n",
            "Epoch 00027: val_loss did not improve from 755847341068.96204\n",
            "Epoch 28/1000\n",
            "709/709 [==============================] - 0s 71us/step - loss: 3342541036585.8843 - mae: 695759.8125 - val_loss: 792213933820.7595 - val_mae: 437626.1875\n",
            "\n",
            "Epoch 00028: val_loss did not improve from 755847341068.96204\n",
            "Epoch 29/1000\n",
            "709/709 [==============================] - 0s 68us/step - loss: 3318710196573.5176 - mae: 683458.5625 - val_loss: 984825784657.0127 - val_mae: 538686.5625\n",
            "\n",
            "Epoch 00029: val_loss did not improve from 755847341068.96204\n",
            "Epoch 30/1000\n",
            "709/709 [==============================] - 0s 67us/step - loss: 3311531944383.7290 - mae: 694951.2500 - val_loss: 979790857228.9622 - val_mae: 536450.5625\n",
            "\n",
            "Epoch 00030: val_loss did not improve from 755847341068.96204\n",
            "Epoch 31/1000\n",
            "709/709 [==============================] - 0s 79us/step - loss: 3341597128810.8774 - mae: 738469.1875 - val_loss: 756458253765.6709 - val_mae: 405443.3750\n",
            "\n",
            "Epoch 00031: val_loss did not improve from 755847341068.96204\n",
            "Epoch 32/1000\n",
            "709/709 [==============================] - 0s 65us/step - loss: 3348414515948.1406 - mae: 677720.0000 - val_loss: 1066618896798.7848 - val_mae: 573030.6875\n",
            "\n",
            "Epoch 00032: val_loss did not improve from 755847341068.96204\n",
            "Epoch 33/1000\n",
            "709/709 [==============================] - 0s 67us/step - loss: 3303942422943.9551 - mae: 700980.2500 - val_loss: 919376634478.1774 - val_mae: 509871.0938\n",
            "\n",
            "Epoch 00033: val_loss did not improve from 755847341068.96204\n",
            "Epoch 34/1000\n",
            "709/709 [==============================] - 0s 67us/step - loss: 3358302374497.4893 - mae: 704958.3125 - val_loss: 1070612382318.1774 - val_mae: 576805.8125\n",
            "\n",
            "Epoch 00034: val_loss did not improve from 755847341068.96204\n",
            "Epoch 35/1000\n",
            "709/709 [==============================] - 0s 65us/step - loss: 3293233773390.3530 - mae: 709949.6250 - val_loss: 848281591496.9114 - val_mae: 475002.1875\n",
            "\n",
            "Epoch 00035: val_loss did not improve from 755847341068.96204\n",
            "Epoch 36/1000\n",
            "709/709 [==============================] - 0s 67us/step - loss: 3303396585986.1665 - mae: 694960.1250 - val_loss: 1016098868055.4938 - val_mae: 555042.1250\n",
            "\n",
            "Epoch 00036: val_loss did not improve from 755847341068.96204\n",
            "Epoch 37/1000\n",
            "709/709 [==============================] - 0s 65us/step - loss: 3336517966127.3003 - mae: 704827.3750 - val_loss: 934925312103.6960 - val_mae: 518321.3125\n",
            "\n",
            "Epoch 00037: val_loss did not improve from 755847341068.96204\n",
            "Epoch 38/1000\n",
            "709/709 [==============================] - 0s 67us/step - loss: 3291317787158.3867 - mae: 696446.5000 - val_loss: 1067528412872.9114 - val_mae: 576045.1875\n",
            "\n",
            "Epoch 00038: val_loss did not improve from 755847341068.96204\n",
            "Epoch 39/1000\n",
            "709/709 [==============================] - 0s 65us/step - loss: 3394020806996.8521 - mae: 749293.3125 - val_loss: 808069003652.8607 - val_mae: 453547.0000\n",
            "\n",
            "Epoch 00039: val_loss did not improve from 755847341068.96204\n",
            "Epoch 40/1000\n",
            "709/709 [==============================] - 0s 65us/step - loss: 3324715895350.1611 - mae: 685506.3750 - val_loss: 863532331267.2405 - val_mae: 483556.5625\n",
            "\n",
            "Epoch 00040: val_loss did not improve from 755847341068.96204\n",
            "Epoch 41/1000\n",
            "709/709 [==============================] - 0s 69us/step - loss: 3314421701627.6675 - mae: 699695.9375 - val_loss: 815958137428.2532 - val_mae: 459032.8125\n",
            "\n",
            "Epoch 00041: val_loss did not improve from 755847341068.96204\n",
            "Epoch 42/1000\n",
            "709/709 [==============================] - 0s 71us/step - loss: 3299166763464.3950 - mae: 690967.1250 - val_loss: 945880825130.1266 - val_mae: 524843.6250\n",
            "\n",
            "Epoch 00042: val_loss did not improve from 755847341068.96204\n",
            "Epoch 43/1000\n",
            "709/709 [==============================] - 0s 69us/step - loss: 3335548149840.8804 - mae: 703736.8125 - val_loss: 840304970583.4937 - val_mae: 471792.5000\n",
            "\n",
            "Epoch 00043: val_loss did not improve from 755847341068.96204\n",
            "Epoch 44/1000\n",
            "709/709 [==============================] - 0s 66us/step - loss: 3311938644612.1528 - mae: 692879.8750 - val_loss: 839034517996.5570 - val_mae: 471367.9375\n",
            "\n",
            "Epoch 00044: val_loss did not improve from 755847341068.96204\n",
            "Epoch 45/1000\n",
            "709/709 [==============================] - 0s 65us/step - loss: 3300594549643.0127 - mae: 689097.5000 - val_loss: 1064572381728.4050 - val_mae: 575117.4375\n",
            "\n",
            "Epoch 00045: val_loss did not improve from 755847341068.96204\n",
            "Epoch 46/1000\n",
            "709/709 [==============================] - 0s 68us/step - loss: 3338465530035.0918 - mae: 700635.1875 - val_loss: 842900595621.2659 - val_mae: 473765.2812\n",
            "\n",
            "Epoch 00046: val_loss did not improve from 755847341068.96204\n",
            "Epoch 47/1000\n",
            "709/709 [==============================] - 0s 68us/step - loss: 3284449078030.8037 - mae: 691236.3750 - val_loss: 959184795829.4684 - val_mae: 530905.0000\n",
            "\n",
            "Epoch 00047: val_loss did not improve from 755847341068.96204\n",
            "Epoch 48/1000\n",
            "709/709 [==============================] - 0s 76us/step - loss: 3352199611315.4531 - mae: 718258.3125 - val_loss: 840214401698.0253 - val_mae: 470231.1250\n",
            "\n",
            "Epoch 00048: val_loss did not improve from 755847341068.96204\n",
            "Epoch 49/1000\n",
            "709/709 [==============================] - 0s 72us/step - loss: 3301533335378.6855 - mae: 682720.8125 - val_loss: 877453234331.5443 - val_mae: 489225.4688\n",
            "\n",
            "Epoch 00049: val_loss did not improve from 755847341068.96204\n",
            "Epoch 50/1000\n",
            "709/709 [==============================] - 0s 70us/step - loss: 3434314110701.5854 - mae: 743770.5625 - val_loss: 1009990183249.0127 - val_mae: 552968.3750\n",
            "\n",
            "Epoch 00050: val_loss did not improve from 755847341068.96204\n",
            "Epoch 51/1000\n",
            "709/709 [==============================] - 0s 72us/step - loss: 3284706688792.9141 - mae: 712054.1250 - val_loss: 887196047334.0759 - val_mae: 494753.4062\n",
            "\n",
            "Epoch 00051: val_loss did not improve from 755847341068.96204\n",
            "Epoch 52/1000\n",
            "709/709 [==============================] - 0s 65us/step - loss: 3322954435689.4326 - mae: 688639.6875 - val_loss: 857549914941.5696 - val_mae: 480745.9688\n",
            "\n",
            "Epoch 00052: val_loss did not improve from 755847341068.96204\n",
            "Epoch 53/1000\n",
            "709/709 [==============================] - 0s 65us/step - loss: 3281307320204.4575 - mae: 672820.3125 - val_loss: 1730938276695.4937 - val_mae: 782410.4375\n",
            "\n",
            "Epoch 00053: val_loss did not improve from 755847341068.96204\n",
            "Epoch 54/1000\n",
            "709/709 [==============================] - 0s 67us/step - loss: 3386975155672.2822 - mae: 755314.4375 - val_loss: 944886158608.2025 - val_mae: 523777.7812\n",
            "\n",
            "Epoch 00054: val_loss did not improve from 755847341068.96204\n",
            "Epoch 55/1000\n",
            "709/709 [==============================] - 0s 63us/step - loss: 3303598755580.0278 - mae: 710483.0000 - val_loss: 1150395319101.5696 - val_mae: 607158.5000\n",
            "\n",
            "Epoch 00055: val_loss did not improve from 755847341068.96204\n",
            "Epoch 56/1000\n",
            "709/709 [==============================] - 0s 69us/step - loss: 3290450396568.7334 - mae: 729397.1250 - val_loss: 894605246671.3923 - val_mae: 498908.3125\n",
            "\n",
            "Epoch 00056: val_loss did not improve from 755847341068.96204\n",
            "Epoch 57/1000\n",
            "709/709 [==============================] - 0s 65us/step - loss: 3414193330433.0835 - mae: 709561.2500 - val_loss: 831542939388.7595 - val_mae: 466870.8438\n",
            "\n",
            "Epoch 00057: val_loss did not improve from 755847341068.96204\n",
            "Epoch 58/1000\n",
            "709/709 [==============================] - 0s 70us/step - loss: 3275088151059.4980 - mae: 683762.7500 - val_loss: 962486267644.7595 - val_mae: 532585.4375\n",
            "\n",
            "Epoch 00058: val_loss did not improve from 755847341068.96204\n",
            "Epoch 59/1000\n",
            "709/709 [==============================] - 0s 69us/step - loss: 3349456992050.9111 - mae: 706616.1250 - val_loss: 941574429890.4304 - val_mae: 520770.3438\n",
            "\n",
            "Epoch 00059: val_loss did not improve from 755847341068.96204\n",
            "Epoch 60/1000\n",
            "709/709 [==============================] - 0s 66us/step - loss: 3298606731327.5483 - mae: 712940.1875 - val_loss: 848237487842.8354 - val_mae: 474813.1562\n",
            "\n",
            "Epoch 00060: val_loss did not improve from 755847341068.96204\n",
            "Epoch 61/1000\n",
            "709/709 [==============================] - 0s 66us/step - loss: 3301392206317.9463 - mae: 674905.4375 - val_loss: 1013118875622.0759 - val_mae: 553867.8750\n",
            "\n",
            "Epoch 00061: val_loss did not improve from 755847341068.96204\n",
            "Epoch 62/1000\n",
            "709/709 [==============================] - 0s 69us/step - loss: 3278388288530.7759 - mae: 690787.1875 - val_loss: 1557632031212.5569 - val_mae: 735674.8750\n",
            "\n",
            "Epoch 00062: val_loss did not improve from 755847341068.96204\n",
            "Epoch 63/1000\n",
            "709/709 [==============================] - 0s 68us/step - loss: 3309039372573.9692 - mae: 719473.1250 - val_loss: 929664680661.8734 - val_mae: 518159.8438\n",
            "\n",
            "Epoch 00063: val_loss did not improve from 755847341068.96204\n",
            "Epoch 64/1000\n",
            "709/709 [==============================] - 0s 70us/step - loss: 3300230234389.3032 - mae: 693719.8125 - val_loss: 1678384334873.9241 - val_mae: 772062.1875\n",
            "\n",
            "Epoch 00064: val_loss did not improve from 755847341068.96204\n",
            "Epoch 65/1000\n",
            "709/709 [==============================] - 0s 67us/step - loss: 3346615986681.5005 - mae: 764211.0000 - val_loss: 784446221973.0632 - val_mae: 439698.4688\n",
            "\n",
            "Epoch 00065: val_loss did not improve from 755847341068.96204\n",
            "Epoch 66/1000\n",
            "709/709 [==============================] - 0s 76us/step - loss: 3300314318694.9053 - mae: 677742.0000 - val_loss: 924653967126.6836 - val_mae: 515285.3750\n",
            "\n",
            "Epoch 00066: val_loss did not improve from 755847341068.96204\n",
            "Epoch 67/1000\n",
            "709/709 [==============================] - 0s 72us/step - loss: 3303542983935.6387 - mae: 698784.3750 - val_loss: 860448722373.6709 - val_mae: 483299.3438\n",
            "\n",
            "Epoch 00067: val_loss did not improve from 755847341068.96204\n",
            "Epoch 68/1000\n",
            "709/709 [==============================] - 0s 66us/step - loss: 3274175167287.2437 - mae: 703204.8125 - val_loss: 1125864930083.6455 - val_mae: 599092.9375\n",
            "\n",
            "Epoch 00068: val_loss did not improve from 755847341068.96204\n",
            "Epoch 69/1000\n",
            "709/709 [==============================] - 0s 74us/step - loss: 3278338131953.5576 - mae: 718588.6875 - val_loss: 999327182796.1520 - val_mae: 549955.6875\n",
            "\n",
            "Epoch 00069: val_loss did not improve from 755847341068.96204\n",
            "Epoch 70/1000\n",
            "709/709 [==============================] - 0s 69us/step - loss: 3309927432990.6914 - mae: 730076.6875 - val_loss: 808600666837.8734 - val_mae: 456297.5312\n",
            "\n",
            "Epoch 00070: val_loss did not improve from 755847341068.96204\n",
            "Epoch 71/1000\n",
            "709/709 [==============================] - 0s 65us/step - loss: 3272773478685.9692 - mae: 687958.6875 - val_loss: 1412252659245.3672 - val_mae: 695965.1875\n",
            "\n",
            "Epoch 00071: val_loss did not improve from 755847341068.96204\n",
            "Epoch 72/1000\n",
            "709/709 [==============================] - 0s 85us/step - loss: 3330673565118.2852 - mae: 721396.9375 - val_loss: 903575997064.1013 - val_mae: 504632.4062\n",
            "\n",
            "Epoch 00072: val_loss did not improve from 755847341068.96204\n",
            "Epoch 73/1000\n",
            "709/709 [==============================] - 0s 69us/step - loss: 3305499587617.2183 - mae: 705896.2500 - val_loss: 975840074635.3418 - val_mae: 539671.5000\n",
            "\n",
            "Epoch 00073: val_loss did not improve from 755847341068.96204\n",
            "Epoch 74/1000\n",
            "709/709 [==============================] - 0s 63us/step - loss: 3304039893046.8828 - mae: 716581.8125 - val_loss: 830499888737.2152 - val_mae: 468190.0625\n",
            "\n",
            "Epoch 00074: val_loss did not improve from 755847341068.96204\n",
            "Epoch 75/1000\n",
            "709/709 [==============================] - 0s 65us/step - loss: 3304647266737.2866 - mae: 686798.5625 - val_loss: 877319066585.1139 - val_mae: 491621.2188\n",
            "\n",
            "Epoch 00075: val_loss did not improve from 755847341068.96204\n",
            "Epoch 76/1000\n",
            "709/709 [==============================] - 0s 69us/step - loss: 3276372336836.4229 - mae: 681247.0625 - val_loss: 1336925026278.0759 - val_mae: 670809.5000\n",
            "\n",
            "Epoch 00076: val_loss did not improve from 755847341068.96204\n",
            "Epoch 77/1000\n",
            "709/709 [==============================] - 0s 67us/step - loss: 3291167599444.1294 - mae: 739648.5625 - val_loss: 773966909595.5443 - val_mae: 431261.1250\n",
            "\n",
            "Epoch 00077: val_loss did not improve from 755847341068.96204\n",
            "Epoch 78/1000\n",
            "709/709 [==============================] - 0s 68us/step - loss: 3308414117538.4824 - mae: 700329.0625 - val_loss: 868427806279.2911 - val_mae: 487129.0625\n",
            "\n",
            "Epoch 00078: val_loss did not improve from 755847341068.96204\n",
            "Epoch 79/1000\n",
            "709/709 [==============================] - 0s 69us/step - loss: 3296257252948.4907 - mae: 686115.5625 - val_loss: 1236557318584.7087 - val_mae: 637211.4375\n",
            "\n",
            "Epoch 00079: val_loss did not improve from 755847341068.96204\n",
            "Epoch 80/1000\n",
            "709/709 [==============================] - 0s 71us/step - loss: 3297996205970.2339 - mae: 736231.6875 - val_loss: 774321466821.6709 - val_mae: 432583.5312\n",
            "\n",
            "Epoch 00080: val_loss did not improve from 755847341068.96204\n",
            "Epoch 81/1000\n",
            "709/709 [==============================] - 0s 67us/step - loss: 3319847278155.8247 - mae: 670539.9375 - val_loss: 945148233650.2279 - val_mae: 525075.7500\n",
            "\n",
            "Epoch 00081: val_loss did not improve from 755847341068.96204\n",
            "Epoch 82/1000\n",
            "709/709 [==============================] - 0s 65us/step - loss: 3296873828392.4399 - mae: 706379.0625 - val_loss: 1238631177514.1265 - val_mae: 638704.4375\n",
            "\n",
            "Epoch 00082: val_loss did not improve from 755847341068.96204\n",
            "Epoch 83/1000\n",
            "709/709 [==============================] - 0s 64us/step - loss: 3305089189394.0537 - mae: 714481.8125 - val_loss: 1064740973088.4050 - val_mae: 576226.8750\n",
            "\n",
            "Epoch 00083: val_loss did not improve from 755847341068.96204\n",
            "Epoch 84/1000\n",
            "709/709 [==============================] - 0s 67us/step - loss: 3276300018599.8984 - mae: 716172.9375 - val_loss: 862973312298.1266 - val_mae: 485512.7500\n",
            "\n",
            "Epoch 00084: val_loss did not improve from 755847341068.96204\n",
            "Epoch 85/1000\n",
            "709/709 [==============================] - 0s 65us/step - loss: 3252272643703.1543 - mae: 655093.4375 - val_loss: 1261982486165.0632 - val_mae: 646998.3750\n",
            "\n",
            "Epoch 00085: val_loss did not improve from 755847341068.96204\n",
            "Epoch 86/1000\n",
            "709/709 [==============================] - 0s 65us/step - loss: 3339387924508.8857 - mae: 719600.8125 - val_loss: 879971276981.4684 - val_mae: 492751.2500\n",
            "\n",
            "Epoch 00086: val_loss did not improve from 755847341068.96204\n",
            "Epoch 87/1000\n",
            "709/709 [==============================] - 0s 65us/step - loss: 3282632911237.9580 - mae: 709101.3750 - val_loss: 924297782907.1393 - val_mae: 516104.4062\n",
            "\n",
            "Epoch 00087: val_loss did not improve from 755847341068.96204\n",
            "Epoch 88/1000\n",
            "709/709 [==============================] - 0s 67us/step - loss: 3303616543473.9180 - mae: 717224.8125 - val_loss: 819893321209.5190 - val_mae: 464052.6562\n",
            "\n",
            "Epoch 00088: val_loss did not improve from 755847341068.96204\n",
            "Epoch 89/1000\n",
            "709/709 [==============================] - 0s 66us/step - loss: 3306988254934.4771 - mae: 684924.1875 - val_loss: 903308033633.2152 - val_mae: 505800.9688\n",
            "\n",
            "Epoch 00089: val_loss did not improve from 755847341068.96204\n",
            "Epoch 90/1000\n",
            "709/709 [==============================] - 0s 70us/step - loss: 3277964179840.1807 - mae: 680800.3750 - val_loss: 1052849063132.3542 - val_mae: 572379.9375\n",
            "\n",
            "Epoch 00090: val_loss did not improve from 755847341068.96204\n",
            "Epoch 91/1000\n",
            "709/709 [==============================] - 0s 68us/step - loss: 3295464723327.4585 - mae: 721877.6875 - val_loss: 870202929203.8481 - val_mae: 488761.0000\n",
            "\n",
            "Epoch 00091: val_loss did not improve from 755847341068.96204\n",
            "Epoch 92/1000\n",
            "709/709 [==============================] - 0s 76us/step - loss: 3286129210251.0127 - mae: 699408.8750 - val_loss: 1029978843887.7975 - val_mae: 562978.2500\n",
            "\n",
            "Epoch 00092: val_loss did not improve from 755847341068.96204\n",
            "Epoch 93/1000\n",
            "709/709 [==============================] - 0s 64us/step - loss: 3287823789276.9761 - mae: 712504.7500 - val_loss: 927053706615.8987 - val_mae: 517360.5938\n",
            "\n",
            "Epoch 00093: val_loss did not improve from 755847341068.96204\n",
            "Epoch 94/1000\n",
            "709/709 [==============================] - 0s 65us/step - loss: 3331302735975.9888 - mae: 728608.6875 - val_loss: 989044917260.9622 - val_mae: 545756.9375\n",
            "\n",
            "Epoch 00094: val_loss did not improve from 755847341068.96204\n",
            "Epoch 95/1000\n",
            "709/709 [==============================] - 0s 69us/step - loss: 3265614434020.9194 - mae: 699105.8750 - val_loss: 1036257332055.4938 - val_mae: 565603.6250\n",
            "\n",
            "Epoch 00095: val_loss did not improve from 755847341068.96204\n",
            "Epoch 96/1000\n",
            "709/709 [==============================] - 0s 81us/step - loss: 3289384431529.3423 - mae: 732616.5625 - val_loss: 741082234257.8228 - val_mae: 395689.9375\n",
            "\n",
            "Epoch 00096: val_loss improved from 755847341068.96204 to 741082234257.82275, saving model to model.sve\n",
            "Epoch 97/1000\n",
            "709/709 [==============================] - 0s 71us/step - loss: 3283714994355.0918 - mae: 691726.5625 - val_loss: 969259942095.3923 - val_mae: 537013.1875\n",
            "\n",
            "Epoch 00097: val_loss did not improve from 741082234257.82275\n",
            "Epoch 98/1000\n",
            "709/709 [==============================] - 0s 73us/step - loss: 3277751044474.4033 - mae: 716191.6250 - val_loss: 796370326592.8102 - val_mae: 450275.6875\n",
            "\n",
            "Epoch 00098: val_loss did not improve from 741082234257.82275\n",
            "Epoch 99/1000\n",
            "709/709 [==============================] - 0s 73us/step - loss: 3402070122091.5996 - mae: 708844.7500 - val_loss: 842422016803.6456 - val_mae: 475601.2188\n",
            "\n",
            "Epoch 00099: val_loss did not improve from 741082234257.82275\n",
            "Epoch 100/1000\n",
            "709/709 [==============================] - 0s 71us/step - loss: 3292438104927.6841 - mae: 690868.0625 - val_loss: 928014637755.9495 - val_mae: 518051.0938\n",
            "\n",
            "Epoch 00100: val_loss did not improve from 741082234257.82275\n",
            "Epoch 101/1000\n",
            "709/709 [==============================] - 0s 69us/step - loss: 3270231519538.1890 - mae: 697411.8125 - val_loss: 1221667065493.0632 - val_mae: 634317.6875\n",
            "\n",
            "Epoch 00101: val_loss did not improve from 741082234257.82275\n",
            "Epoch 102/1000\n",
            "709/709 [==============================] - 0s 70us/step - loss: 3291794392588.2764 - mae: 709917.3750 - val_loss: 1227016230989.7722 - val_mae: 635244.5000\n",
            "\n",
            "Epoch 00102: val_loss did not improve from 741082234257.82275\n",
            "Epoch 103/1000\n",
            "709/709 [==============================] - 0s 75us/step - loss: 3266455240910.5327 - mae: 728599.9375 - val_loss: 881743959726.9873 - val_mae: 493858.0312\n",
            "\n",
            "Epoch 00103: val_loss did not improve from 741082234257.82275\n",
            "Epoch 104/1000\n",
            "709/709 [==============================] - 0s 73us/step - loss: 3277739137350.4092 - mae: 688908.2500 - val_loss: 1296933322544.6077 - val_mae: 658755.3125\n",
            "\n",
            "Epoch 00104: val_loss did not improve from 741082234257.82275\n",
            "Epoch 105/1000\n",
            "709/709 [==============================] - 0s 72us/step - loss: 3312369866338.9336 - mae: 728019.0625 - val_loss: 866273546914.0253 - val_mae: 487995.5000\n",
            "\n",
            "Epoch 00105: val_loss did not improve from 741082234257.82275\n",
            "Epoch 106/1000\n",
            "709/709 [==============================] - 0s 72us/step - loss: 3330377485382.7705 - mae: 717445.9375 - val_loss: 868661473954.0253 - val_mae: 487922.8438\n",
            "\n",
            "Epoch 00106: val_loss did not improve from 741082234257.82275\n",
            "Epoch 107/1000\n",
            "709/709 [==============================] - 0s 73us/step - loss: 3288857037085.9692 - mae: 696901.5625 - val_loss: 1133337157113.5190 - val_mae: 602312.0625\n",
            "\n",
            "Epoch 00107: val_loss did not improve from 741082234257.82275\n",
            "Epoch 108/1000\n",
            "709/709 [==============================] - 0s 68us/step - loss: 3272685553973.0776 - mae: 732058.2500 - val_loss: 817493217124.4557 - val_mae: 463591.4062\n",
            "\n",
            "Epoch 00108: val_loss did not improve from 741082234257.82275\n",
            "Epoch 109/1000\n",
            "709/709 [==============================] - 0s 74us/step - loss: 3284347560848.7900 - mae: 693877.0625 - val_loss: 913171604078.1774 - val_mae: 512563.1875\n",
            "\n",
            "Epoch 00109: val_loss did not improve from 741082234257.82275\n",
            "Epoch 110/1000\n",
            "709/709 [==============================] - 0s 75us/step - loss: 3291744998109.6982 - mae: 716198.6875 - val_loss: 846618607719.6962 - val_mae: 479116.5938\n",
            "\n",
            "Epoch 00110: val_loss did not improve from 741082234257.82275\n",
            "Epoch 111/1000\n",
            "709/709 [==============================] - 0s 74us/step - loss: 3289319346447.5259 - mae: 714484.8750 - val_loss: 865379144042.9368 - val_mae: 488176.5938\n",
            "\n",
            "Epoch 00111: val_loss did not improve from 741082234257.82275\n",
            "Epoch 112/1000\n",
            "709/709 [==============================] - 0s 64us/step - loss: 3285882428088.1465 - mae: 701727.5000 - val_loss: 864827696970.5316 - val_mae: 486898.2812\n",
            "\n",
            "Epoch 00112: val_loss did not improve from 741082234257.82275\n",
            "Epoch 113/1000\n",
            "709/709 [==============================] - 0s 65us/step - loss: 3300440252774.1836 - mae: 704368.8750 - val_loss: 815537231431.2911 - val_mae: 461129.2812\n",
            "\n",
            "Epoch 00113: val_loss did not improve from 741082234257.82275\n",
            "Epoch 114/1000\n",
            "709/709 [==============================] - 0s 63us/step - loss: 3288416117348.3779 - mae: 700725.1875 - val_loss: 890940925874.2279 - val_mae: 499427.6875\n",
            "\n",
            "Epoch 00114: val_loss did not improve from 741082234257.82275\n",
            "Epoch 115/1000\n",
            "709/709 [==============================] - 0s 64us/step - loss: 3280787246474.2905 - mae: 705149.1250 - val_loss: 880462922453.8734 - val_mae: 493886.1875\n",
            "\n",
            "Epoch 00115: val_loss did not improve from 741082234257.82275\n",
            "Epoch 116/1000\n",
            "709/709 [==============================] - 0s 66us/step - loss: 3289001878578.5503 - mae: 707166.3125 - val_loss: 827372034644.2532 - val_mae: 467715.1250\n",
            "\n",
            "Epoch 00116: val_loss did not improve from 741082234257.82275\n",
            "Epoch 117/1000\n",
            "709/709 [==============================] - 0s 66us/step - loss: 3286743205110.9736 - mae: 686782.6875 - val_loss: 971279404070.8861 - val_mae: 539206.0625\n",
            "\n",
            "Epoch 00117: val_loss did not improve from 741082234257.82275\n",
            "Epoch 118/1000\n",
            "709/709 [==============================] - 0s 72us/step - loss: 3297603179183.4810 - mae: 705080.8125 - val_loss: 1081743561792.8102 - val_mae: 584650.6250\n",
            "\n",
            "Epoch 00118: val_loss did not improve from 741082234257.82275\n",
            "Epoch 119/1000\n",
            "709/709 [==============================] - 0s 73us/step - loss: 3292751434762.1099 - mae: 715389.6250 - val_loss: 924128275702.2786 - val_mae: 516974.1250\n",
            "\n",
            "Epoch 00119: val_loss did not improve from 741082234257.82275\n",
            "Epoch 120/1000\n",
            "709/709 [==============================] - 0s 67us/step - loss: 3285307594015.4131 - mae: 714912.0625 - val_loss: 834668072804.4557 - val_mae: 472261.6250\n",
            "\n",
            "Epoch 00120: val_loss did not improve from 741082234257.82275\n",
            "Epoch 121/1000\n",
            "709/709 [==============================] - 0s 66us/step - loss: 3281939205248.5415 - mae: 695723.6250 - val_loss: 938771973236.6582 - val_mae: 523397.1562\n",
            "\n",
            "Epoch 00121: val_loss did not improve from 741082234257.82275\n",
            "Epoch 122/1000\n",
            "709/709 [==============================] - 0s 64us/step - loss: 3295855916954.8999 - mae: 709250.1250 - val_loss: 953124817129.3164 - val_mae: 529964.1250\n",
            "\n",
            "Epoch 00122: val_loss did not improve from 741082234257.82275\n",
            "Epoch 123/1000\n",
            "709/709 [==============================] - 0s 68us/step - loss: 3285098383877.0552 - mae: 723076.1875 - val_loss: 775793910796.9620 - val_mae: 434262.7812\n",
            "\n",
            "Epoch 00123: val_loss did not improve from 741082234257.82275\n",
            "Epoch 124/1000\n",
            "709/709 [==============================] - 0s 63us/step - loss: 3282447750870.4771 - mae: 670233.1250 - val_loss: 1144316905705.3164 - val_mae: 606614.7500\n",
            "\n",
            "Epoch 00124: val_loss did not improve from 741082234257.82275\n",
            "Epoch 125/1000\n",
            "709/709 [==============================] - 0s 65us/step - loss: 3280852262415.1650 - mae: 726643.5625 - val_loss: 898299530382.5823 - val_mae: 503971.0000\n",
            "\n",
            "Epoch 00125: val_loss did not improve from 741082234257.82275\n",
            "Epoch 126/1000\n",
            "709/709 [==============================] - 0s 65us/step - loss: 3284054950338.6177 - mae: 703934.2500 - val_loss: 901172020340.6582 - val_mae: 505761.4062\n",
            "\n",
            "Epoch 00126: val_loss did not improve from 741082234257.82275\n",
            "Epoch 127/1000\n",
            "709/709 [==============================] - 0s 70us/step - loss: 3280960844960.3159 - mae: 698591.5000 - val_loss: 934829189457.0127 - val_mae: 521407.0000\n",
            "\n",
            "Epoch 00127: val_loss did not improve from 741082234257.82275\n",
            "Epoch 128/1000\n",
            "709/709 [==============================] - 0s 68us/step - loss: 3300616325082.4482 - mae: 706399.9375 - val_loss: 952057899759.7975 - val_mae: 529656.9375\n",
            "\n",
            "Epoch 00128: val_loss did not improve from 741082234257.82275\n",
            "Epoch 129/1000\n",
            "709/709 [==============================] - 0s 64us/step - loss: 3349897162272.4966 - mae: 728555.5000 - val_loss: 985329920959.1898 - val_mae: 544738.6875\n",
            "\n",
            "Epoch 00129: val_loss did not improve from 741082234257.82275\n",
            "Epoch 130/1000\n",
            "709/709 [==============================] - 0s 74us/step - loss: 3299704938692.4229 - mae: 701181.8125 - val_loss: 948137210841.1139 - val_mae: 527739.6250\n",
            "\n",
            "Epoch 00130: val_loss did not improve from 741082234257.82275\n",
            "Epoch 131/1000\n",
            "709/709 [==============================] - 0s 73us/step - loss: 3274260745055.6841 - mae: 697358.0625 - val_loss: 959811015537.4177 - val_mae: 533087.8750\n",
            "\n",
            "Epoch 00131: val_loss did not improve from 741082234257.82275\n",
            "Epoch 132/1000\n",
            "709/709 [==============================] - 0s 68us/step - loss: 3281098680363.3286 - mae: 706607.5000 - val_loss: 951673218994.2279 - val_mae: 529295.6875\n",
            "\n",
            "Epoch 00132: val_loss did not improve from 741082234257.82275\n",
            "Epoch 133/1000\n",
            "709/709 [==============================] - 0s 67us/step - loss: 3293321551201.8511 - mae: 706171.1875 - val_loss: 924460213260.9622 - val_mae: 517106.9375\n",
            "\n",
            "Epoch 00133: val_loss did not improve from 741082234257.82275\n",
            "Epoch 134/1000\n",
            "709/709 [==============================] - 0s 63us/step - loss: 3285147059007.9097 - mae: 712658.5625 - val_loss: 977295157792.4050 - val_mae: 542804.5625\n",
            "\n",
            "Epoch 00134: val_loss did not improve from 741082234257.82275\n",
            "Epoch 135/1000\n",
            "709/709 [==============================] - 0s 70us/step - loss: 3266106501278.8721 - mae: 721346.1875 - val_loss: 814865907193.5190 - val_mae: 462414.4688\n",
            "\n",
            "Epoch 00135: val_loss did not improve from 741082234257.82275\n",
            "Epoch 136/1000\n",
            "709/709 [==============================] - 0s 65us/step - loss: 3276680373414.0933 - mae: 682110.1250 - val_loss: 999832988399.7975 - val_mae: 551347.0625\n",
            "\n",
            "Epoch 00136: val_loss did not improve from 741082234257.82275\n",
            "Epoch 137/1000\n",
            "709/709 [==============================] - 0s 63us/step - loss: 3270309001022.4658 - mae: 698571.0000 - val_loss: 1279719350997.8735 - val_mae: 653822.1875\n",
            "\n",
            "Epoch 00137: val_loss did not improve from 741082234257.82275\n",
            "Epoch 138/1000\n",
            "709/709 [==============================] - 0s 65us/step - loss: 3307613590399.4585 - mae: 726202.0625 - val_loss: 1516987825968.6077 - val_mae: 726969.0625\n",
            "\n",
            "Epoch 00138: val_loss did not improve from 741082234257.82275\n",
            "Epoch 139/1000\n",
            "709/709 [==============================] - 0s 63us/step - loss: 3313188310179.2046 - mae: 771242.8750 - val_loss: 880496053079.4938 - val_mae: 494021.7812\n",
            "\n",
            "Epoch 00139: val_loss did not improve from 741082234257.82275\n",
            "Epoch 140/1000\n",
            "709/709 [==============================] - 0s 65us/step - loss: 3272375742839.5146 - mae: 713061.9375 - val_loss: 870975165297.4177 - val_mae: 492043.5312\n",
            "\n",
            "Epoch 00140: val_loss did not improve from 741082234257.82275\n",
            "Epoch 141/1000\n",
            "709/709 [==============================] - 0s 67us/step - loss: 3431446903121.9634 - mae: 742855.5625 - val_loss: 1115200779432.5063 - val_mae: 598094.6875\n",
            "\n",
            "Epoch 00141: val_loss did not improve from 741082234257.82275\n",
            "Epoch 142/1000\n",
            "709/709 [==============================] - 0s 72us/step - loss: 3278514665521.1060 - mae: 712564.5625 - val_loss: 1029154548463.7975 - val_mae: 563968.9375\n",
            "\n",
            "Epoch 00142: val_loss did not improve from 741082234257.82275\n",
            "Epoch 143/1000\n",
            "709/709 [==============================] - 0s 76us/step - loss: 3264671422744.1919 - mae: 720260.6250 - val_loss: 924710557358.9873 - val_mae: 517541.0000\n",
            "\n",
            "Epoch 00143: val_loss did not improve from 741082234257.82275\n",
            "Epoch 144/1000\n",
            "709/709 [==============================] - 0s 70us/step - loss: 3311195470762.7871 - mae: 693454.8750 - val_loss: 956711387343.3923 - val_mae: 533070.4375\n",
            "\n",
            "Epoch 00144: val_loss did not improve from 741082234257.82275\n",
            "Epoch 145/1000\n",
            "709/709 [==============================] - 0s 72us/step - loss: 3268308875636.6260 - mae: 715420.6875 - val_loss: 858854522154.1266 - val_mae: 485290.2188\n",
            "\n",
            "Epoch 00145: val_loss did not improve from 741082234257.82275\n",
            "Epoch 146/1000\n",
            "709/709 [==============================] - 0s 68us/step - loss: 3285330436500.4004 - mae: 687540.6250 - val_loss: 975790535018.9368 - val_mae: 541737.1250\n",
            "\n",
            "Epoch 00146: val_loss did not improve from 741082234257.82275\n",
            "Epoch 147/1000\n",
            "709/709 [==============================] - 0s 72us/step - loss: 3282604072333.1792 - mae: 704080.1875 - val_loss: 1036639945533.5696 - val_mae: 567242.4375\n",
            "\n",
            "Epoch 00147: val_loss did not improve from 741082234257.82275\n",
            "Epoch 148/1000\n",
            "709/709 [==============================] - 0s 73us/step - loss: 3279669212482.0762 - mae: 754227.2500 - val_loss: 872176994122.5316 - val_mae: 491799.2812\n",
            "\n",
            "Epoch 00148: val_loss did not improve from 741082234257.82275\n",
            "Epoch 149/1000\n",
            "709/709 [==============================] - 0s 71us/step - loss: 3268585548142.8486 - mae: 690090.8125 - val_loss: 1062122440729.9241 - val_mae: 579498.4375\n",
            "\n",
            "Epoch 00149: val_loss did not improve from 741082234257.82275\n",
            "Epoch 150/1000\n",
            "709/709 [==============================] - 0s 80us/step - loss: 3268169008998.9053 - mae: 719053.8750 - val_loss: 947032191442.6331 - val_mae: 530183.8750\n",
            "\n",
            "Epoch 00150: val_loss did not improve from 741082234257.82275\n",
            "Epoch 151/1000\n",
            "709/709 [==============================] - 0s 72us/step - loss: 3272216396766.7817 - mae: 709512.8750 - val_loss: 918994596514.0251 - val_mae: 515619.7500\n",
            "\n",
            "Epoch 00151: val_loss did not improve from 741082234257.82275\n",
            "Epoch 152/1000\n",
            "709/709 [==============================] - 0s 75us/step - loss: 3276632667827.8140 - mae: 712299.6250 - val_loss: 835847134920.9114 - val_mae: 475224.9062\n",
            "\n",
            "Epoch 00152: val_loss did not improve from 741082234257.82275\n",
            "Epoch 153/1000\n",
            "709/709 [==============================] - 0s 72us/step - loss: 3272563718944.1353 - mae: 690429.1250 - val_loss: 1105631832193.6204 - val_mae: 596661.4375\n",
            "\n",
            "Epoch 00153: val_loss did not improve from 741082234257.82275\n",
            "Epoch 154/1000\n",
            "709/709 [==============================] - 0s 73us/step - loss: 3263833858891.4644 - mae: 738394.8750 - val_loss: 848368587218.6329 - val_mae: 482844.9688\n",
            "\n",
            "Epoch 00154: val_loss did not improve from 741082234257.82275\n",
            "Epoch 155/1000\n",
            "709/709 [==============================] - 0s 104us/step - loss: 3584376799647.9551 - mae: 733395.6250 - val_loss: 964482629632.0000 - val_mae: 537637.3750\n",
            "\n",
            "Epoch 00155: val_loss did not improve from 741082234257.82275\n",
            "Epoch 156/1000\n",
            "709/709 [==============================] - 0s 69us/step - loss: 3235544780563.1367 - mae: 687089.8750 - val_loss: 1190075052187.5442 - val_mae: 625504.6875\n",
            "\n",
            "Epoch 00156: val_loss did not improve from 741082234257.82275\n",
            "Epoch 157/1000\n",
            "709/709 [==============================] - 0s 77us/step - loss: 3274526688069.6870 - mae: 730768.3125 - val_loss: 936684475767.8987 - val_mae: 526283.6250\n",
            "\n",
            "Epoch 00157: val_loss did not improve from 741082234257.82275\n",
            "Epoch 158/1000\n",
            "709/709 [==============================] - 0s 74us/step - loss: 3258609943937.6245 - mae: 719769.9375 - val_loss: 953106500439.4938 - val_mae: 532479.2500\n",
            "\n",
            "Epoch 00158: val_loss did not improve from 741082234257.82275\n",
            "Epoch 159/1000\n",
            "709/709 [==============================] - 0s 75us/step - loss: 3264067138674.0986 - mae: 703037.1250 - val_loss: 1114783500106.5317 - val_mae: 598597.4375\n",
            "\n",
            "Epoch 00159: val_loss did not improve from 741082234257.82275\n",
            "Epoch 160/1000\n",
            "709/709 [==============================] - 0s 72us/step - loss: 3266443022584.4175 - mae: 735050.6875 - val_loss: 952235003852.1520 - val_mae: 532003.2500\n",
            "\n",
            "Epoch 00160: val_loss did not improve from 741082234257.82275\n",
            "Epoch 161/1000\n",
            "709/709 [==============================] - 0s 72us/step - loss: 3264622106372.6938 - mae: 713013.5000 - val_loss: 901612237266.6331 - val_mae: 507070.5312\n",
            "\n",
            "Epoch 00161: val_loss did not improve from 741082234257.82275\n",
            "Epoch 162/1000\n",
            "709/709 [==============================] - 0s 72us/step - loss: 3270388258449.1514 - mae: 727590.8125 - val_loss: 852448208610.8354 - val_mae: 482552.4688\n",
            "\n",
            "Epoch 00162: val_loss did not improve from 741082234257.82275\n",
            "Epoch 163/1000\n",
            "709/709 [==============================] - 0s 73us/step - loss: 3258600055673.6812 - mae: 697441.6875 - val_loss: 869386010624.0000 - val_mae: 491844.4062\n",
            "\n",
            "Epoch 00163: val_loss did not improve from 741082234257.82275\n",
            "Epoch 164/1000\n",
            "709/709 [==============================] - 0s 74us/step - loss: 3267766270035.7690 - mae: 700314.5625 - val_loss: 1033553838494.7848 - val_mae: 568076.0625\n",
            "\n",
            "Epoch 00164: val_loss did not improve from 741082234257.82275\n",
            "Epoch 165/1000\n",
            "709/709 [==============================] - 0s 81us/step - loss: 3267116698521.4561 - mae: 701775.2500 - val_loss: 1061289673118.7848 - val_mae: 580287.8750\n",
            "\n",
            "Epoch 00165: val_loss did not improve from 741082234257.82275\n",
            "Epoch 166/1000\n",
            "709/709 [==============================] - 0s 89us/step - loss: 3256599024650.1099 - mae: 727705.6875 - val_loss: 915423758673.0127 - val_mae: 516723.0938\n",
            "\n",
            "Epoch 00166: val_loss did not improve from 741082234257.82275\n",
            "Epoch 167/1000\n",
            "709/709 [==============================] - 0s 65us/step - loss: 3244258733438.7358 - mae: 711955.4375 - val_loss: 918248335904.4050 - val_mae: 518974.6875\n",
            "\n",
            "Epoch 00167: val_loss did not improve from 741082234257.82275\n",
            "Epoch 168/1000\n",
            "709/709 [==============================] - 0s 67us/step - loss: 3256929081624.1919 - mae: 707528.5000 - val_loss: 942659771275.3418 - val_mae: 528861.6875\n",
            "\n",
            "Epoch 00168: val_loss did not improve from 741082234257.82275\n",
            "Epoch 169/1000\n",
            "709/709 [==============================] - 0s 66us/step - loss: 3251923483331.7012 - mae: 691331.6250 - val_loss: 990842486991.3923 - val_mae: 552031.0625\n",
            "\n",
            "Epoch 00169: val_loss did not improve from 741082234257.82275\n",
            "Epoch 170/1000\n",
            "709/709 [==============================] - 0s 75us/step - loss: 3267918631530.1553 - mae: 709434.1250 - val_loss: 918660506325.8734 - val_mae: 520226.3438\n",
            "\n",
            "Epoch 00170: val_loss did not improve from 741082234257.82275\n",
            "Epoch 171/1000\n",
            "709/709 [==============================] - 0s 68us/step - loss: 3252166640956.2988 - mae: 721673.5000 - val_loss: 845872889648.6075 - val_mae: 484176.4062\n",
            "\n",
            "Epoch 00171: val_loss did not improve from 741082234257.82275\n",
            "Epoch 172/1000\n",
            "709/709 [==============================] - 0s 71us/step - loss: 3258258039465.7036 - mae: 695147.1250 - val_loss: 854552861579.3418 - val_mae: 486964.7188\n",
            "\n",
            "Epoch 00172: val_loss did not improve from 741082234257.82275\n",
            "Epoch 173/1000\n",
            "709/709 [==============================] - 0s 74us/step - loss: 3249285786798.7593 - mae: 698762.4375 - val_loss: 835124833837.3671 - val_mae: 475235.8125\n",
            "\n",
            "Epoch 00173: val_loss did not improve from 741082234257.82275\n",
            "Epoch 174/1000\n",
            "709/709 [==============================] - 0s 75us/step - loss: 3325141497801.1172 - mae: 715146.6250 - val_loss: 783478034898.6329 - val_mae: 442979.7500\n",
            "\n",
            "Epoch 00174: val_loss did not improve from 741082234257.82275\n",
            "Epoch 175/1000\n",
            "709/709 [==============================] - 0s 71us/step - loss: 3254246286594.5273 - mae: 672864.0625 - val_loss: 1141535621327.3923 - val_mae: 610826.5625\n",
            "\n",
            "Epoch 00175: val_loss did not improve from 741082234257.82275\n",
            "Epoch 176/1000\n",
            "709/709 [==============================] - 0s 73us/step - loss: 3244485126996.1294 - mae: 753376.6250 - val_loss: 911331934933.8734 - val_mae: 515371.6562\n",
            "\n",
            "Epoch 00176: val_loss did not improve from 741082234257.82275\n",
            "Epoch 177/1000\n",
            "709/709 [==============================] - 0s 73us/step - loss: 3242039113465.1392 - mae: 697194.0000 - val_loss: 931253345163.3418 - val_mae: 524026.7812\n",
            "\n",
            "Epoch 00177: val_loss did not improve from 741082234257.82275\n",
            "Epoch 178/1000\n",
            "709/709 [==============================] - 0s 71us/step - loss: 3252654166004.4453 - mae: 714468.8125 - val_loss: 871903254087.2911 - val_mae: 497531.5000\n",
            "\n",
            "Epoch 00178: val_loss did not improve from 741082234257.82275\n",
            "Epoch 179/1000\n",
            "709/709 [==============================] - 0s 72us/step - loss: 3277706674753.7148 - mae: 707886.0000 - val_loss: 944623763041.2152 - val_mae: 533854.5625\n",
            "\n",
            "Epoch 00179: val_loss did not improve from 741082234257.82275\n",
            "Epoch 180/1000\n",
            "709/709 [==============================] - 0s 75us/step - loss: 3254867600850.5049 - mae: 691047.8750 - val_loss: 1019367653168.6077 - val_mae: 565407.8750\n",
            "\n",
            "Epoch 00180: val_loss did not improve from 741082234257.82275\n",
            "Epoch 181/1000\n",
            "709/709 [==============================] - 0s 71us/step - loss: 3243105126408.6660 - mae: 720466.3750 - val_loss: 874058446614.6836 - val_mae: 498848.8125\n",
            "\n",
            "Epoch 00181: val_loss did not improve from 741082234257.82275\n",
            "Epoch 182/1000\n",
            "709/709 [==============================] - 0s 76us/step - loss: 3251926888245.7998 - mae: 709857.3125 - val_loss: 858150358573.3671 - val_mae: 492293.0000\n",
            "\n",
            "Epoch 00182: val_loss did not improve from 741082234257.82275\n",
            "Epoch 183/1000\n",
            "709/709 [==============================] - 0s 73us/step - loss: 3260353538189.5400 - mae: 693189.9375 - val_loss: 1036673675419.5443 - val_mae: 573369.6250\n",
            "\n",
            "Epoch 00183: val_loss did not improve from 741082234257.82275\n",
            "Epoch 184/1000\n",
            "709/709 [==============================] - 0s 72us/step - loss: 3264368504791.5601 - mae: 719332.6250 - val_loss: 958252458502.4808 - val_mae: 538409.7500\n",
            "\n",
            "Epoch 00184: val_loss did not improve from 741082234257.82275\n",
            "Epoch 185/1000\n",
            "709/709 [==============================] - 0s 67us/step - loss: 3238855154752.9932 - mae: 714737.4375 - val_loss: 1038155041830.8861 - val_mae: 572936.0000\n",
            "\n",
            "Epoch 00185: val_loss did not improve from 741082234257.82275\n",
            "Epoch 186/1000\n",
            "709/709 [==============================] - 0s 62us/step - loss: 3748833164480.0903 - mae: 805698.6250 - val_loss: 944596928537.9241 - val_mae: 532823.0625\n",
            "\n",
            "Epoch 00186: val_loss did not improve from 741082234257.82275\n",
            "Epoch 187/1000\n",
            "709/709 [==============================] - 0s 66us/step - loss: 3244117370946.4370 - mae: 708323.3750 - val_loss: 1013375450306.4304 - val_mae: 563666.8750\n",
            "\n",
            "Epoch 00187: val_loss did not improve from 741082234257.82275\n",
            "Epoch 188/1000\n",
            "709/709 [==============================] - 0s 67us/step - loss: 3248915844028.1182 - mae: 708637.8125 - val_loss: 1223092772345.5190 - val_mae: 641343.6875\n",
            "\n",
            "Epoch 00188: val_loss did not improve from 741082234257.82275\n",
            "Epoch 189/1000\n",
            "709/709 [==============================] - 0s 66us/step - loss: 3272876517373.1113 - mae: 739627.9375 - val_loss: 969020951590.8861 - val_mae: 543822.1250\n",
            "\n",
            "Epoch 00189: val_loss did not improve from 741082234257.82275\n",
            "Epoch 190/1000\n",
            "709/709 [==============================] - 0s 68us/step - loss: 3256157092859.6675 - mae: 722783.7500 - val_loss: 895816643026.6331 - val_mae: 508426.1250\n",
            "\n",
            "Epoch 00190: val_loss did not improve from 741082234257.82275\n",
            "Epoch 191/1000\n",
            "709/709 [==============================] - 0s 68us/step - loss: 3241218849279.2778 - mae: 688026.5000 - val_loss: 1075117411574.2786 - val_mae: 587432.3750\n",
            "\n",
            "Epoch 00191: val_loss did not improve from 741082234257.82275\n",
            "Epoch 192/1000\n",
            "709/709 [==============================] - 0s 64us/step - loss: 3177972570715.7124 - mae: 741954.6250 - val_loss: 857367070849.6202 - val_mae: 488477.6562\n",
            "\n",
            "Epoch 00192: val_loss did not improve from 741082234257.82275\n",
            "Epoch 193/1000\n",
            "709/709 [==============================] - 0s 73us/step - loss: 3243461680724.4907 - mae: 689442.9375 - val_loss: 1080126864163.6458 - val_mae: 592993.1250\n",
            "\n",
            "Epoch 00193: val_loss did not improve from 741082234257.82275\n",
            "Epoch 194/1000\n",
            "709/709 [==============================] - 0s 71us/step - loss: 3250619929402.1323 - mae: 721378.1250 - val_loss: 929883236689.0127 - val_mae: 526845.2500\n",
            "\n",
            "Epoch 00194: val_loss did not improve from 741082234257.82275\n",
            "Epoch 195/1000\n",
            "709/709 [==============================] - 0s 77us/step - loss: 3254695661816.4175 - mae: 705781.1875 - val_loss: 912577872494.1774 - val_mae: 517145.9375\n",
            "\n",
            "Epoch 00195: val_loss did not improve from 741082234257.82275\n",
            "Epoch 196/1000\n",
            "709/709 [==============================] - 0s 71us/step - loss: 3248895692077.8564 - mae: 713930.4375 - val_loss: 896760155589.6709 - val_mae: 509124.5000\n",
            "\n",
            "Epoch 00196: val_loss did not improve from 741082234257.82275\n",
            "Epoch 00196: early stopping\n"
          ],
          "name": "stdout"
        }
      ]
    },
    {
      "cell_type": "code",
      "metadata": {
        "id": "-129Xdun9kZL",
        "colab_type": "code",
        "colab": {}
      },
      "source": [
        ""
      ],
      "execution_count": 0,
      "outputs": []
    },
    {
      "cell_type": "code",
      "metadata": {
        "id": "gGwrMyqj6sul",
        "colab_type": "code",
        "outputId": "2c0a2a86-dafb-4317-88c8-5da42b6225be",
        "colab": {
          "base_uri": "https://localhost:8080/",
          "height": 573
        }
      },
      "source": [
        "# Plot training & validation mae values\n",
        "plt.plot(history.history['mae'])\n",
        "plt.plot(history.history['val_mae'])\n",
        "plt.title('Model Performance')\n",
        "plt.ylabel('MAE')\n",
        "plt.xlabel('Epoch')\n",
        "plt.legend(['Train', 'Val'], loc='upper left')\n",
        "plt.show()\n",
        "\n",
        "# Plot training & validation mse-loss values\n",
        "plt.plot(history.history['loss'])\n",
        "plt.plot(history.history['val_loss'])\n",
        "plt.title('Model loss')\n",
        "plt.ylabel('Loss')\n",
        "plt.xlabel('Epoch')\n",
        "plt.legend(['Train', 'Val'], loc='upper left')\n",
        "plt.show()"
      ],
      "execution_count": 0,
      "outputs": [
        {
          "output_type": "display_data",
          "data": {
            "image/png": "[encoded data removed]",
            "text/plain": [
              "<Figure size 432x288 with 1 Axes>"
            ]
          },
          "metadata": {
            "tags": [],
            "needs_background": "light"
          }
        },
        {
          "output_type": "display_data",
          "data": {
            "image/png": "[encoded data removed]",
            "text/plain": [
              "<Figure size 432x288 with 1 Axes>"
            ]
          },
          "metadata": {
            "tags": [],
            "needs_background": "light"
          }
        }
      ]
    },
    {
      "cell_type": "code",
      "metadata": {
        "id": "fW3oxawv6ssR",
        "colab_type": "code",
        "colab": {}
      },
      "source": [
        ""
      ],
      "execution_count": 0,
      "outputs": []
    },
    {
      "cell_type": "code",
      "metadata": {
        "id": "zxQHfhji6sqF",
        "colab_type": "code",
        "outputId": "50942452-9648-485d-c222-39e664f61516",
        "colab": {
          "base_uri": "https://localhost:8080/",
          "height": 51
        }
      },
      "source": [
        ""
      ],
      "execution_count": 0,
      "outputs": [
        {
          "output_type": "stream",
          "text": [
            "197/197 [==============================] - 0s 226us/step\n"
          ],
          "name": "stdout"
        },
        {
          "output_type": "execute_result",
          "data": {
            "text/plain": [
              "[7499312190084.548, 776335.25]"
            ]
          },
          "metadata": {
            "tags": []
          },
          "execution_count": 162
        }
      ]
    },
    {
      "cell_type": "code",
      "metadata": {
        "id": "lBcIjdCa6slH",
        "colab_type": "code",
        "colab": {}
      },
      "source": [
        ""
      ],
      "execution_count": 0,
      "outputs": []
    }
  ]
}