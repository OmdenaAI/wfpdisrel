{
  "nbformat": 4,
  "nbformat_minor": 0,
  "metadata": {
    "colab": {
      "name": "DBSCAN.ipynb",
      "provenance": []
    },
    "kernelspec": {
      "name": "python3",
      "display_name": "Python 3"
    }
  },
  "cells": [
    {
      "cell_type": "markdown",
      "metadata": {
        "id": "qW26xbEgCBDS",
        "colab_type": "text"
      },
      "source": [
        "# Discovering DBSCAN\n",
        "\n",
        "Beata Baczynska"
      ]
    },
    {
      "cell_type": "code",
      "metadata": {
        "id": "qt606jl-WwOW",
        "colab_type": "code",
        "colab": {
          "base_uri": "https://localhost:8080/",
          "height": 74
        },
        "outputId": "b736d33a-7cc4-487e-aff1-b1ec58083cb7"
      },
      "source": [
        "import numpy as np\n",
        "import pandas as pd\n",
        "import matplotlib.pyplot as plt\n",
        "from sklearn.metrics import accuracy_score\n",
        "from sklearn.cluster import DBSCAN\n",
        "from sklearn.neighbors import NearestNeighbors\n",
        "\n",
        "from sklearn.preprocessing import LabelEncoder\n",
        "from sklearn import preprocessing\n",
        "from sklearn.model_selection import train_test_split\n",
        "\n",
        "import seaborn as sns\n",
        "sns.set()"
      ],
      "execution_count": 1,
      "outputs": [
        {
          "output_type": "stream",
          "text": [
            "/usr/local/lib/python3.6/dist-packages/statsmodels/tools/_testing.py:19: FutureWarning: pandas.util.testing is deprecated. Use the functions in the public API at pandas.testing instead.\n",
            "  import pandas.util.testing as tm\n"
          ],
          "name": "stderr"
        }
      ]
    },
    {
      "cell_type": "code",
      "metadata": {
        "id": "B8h8LIxqW5SH",
        "colab_type": "code",
        "outputId": "b4552d83-c26a-4979-9b60-20c11a3044ad",
        "colab": {
          "base_uri": "https://localhost:8080/",
          "height": 129
        }
      },
      "source": [
        "from google.colab import drive\n",
        "drive.mount(\"/content/drive\")"
      ],
      "execution_count": 2,
      "outputs": [
        {
          "output_type": "stream",
          "text": [
            "Go to this URL in a browser: https://accounts.google.com/o/oauth2/auth?client_id=947318989803-6bn6qk8qdgf4n4g3pfee6491hc0brc4i.apps.googleusercontent.com&redirect_uri=urn%3aietf%3awg%3aoauth%3a2.0%3aoob&response_type=code&scope=email%20https%3a%2f%2fwww.googleapis.com%2fauth%2fdocs.test%20https%3a%2f%2fwww.googleapis.com%2fauth%2fdrive%20https%3a%2f%2fwww.googleapis.com%2fauth%2fdrive.photos.readonly%20https%3a%2f%2fwww.googleapis.com%2fauth%2fpeopleapi.readonly\n",
            "\n",
            "Enter your authorization code:\n",
            "··········\n",
            "Mounted at /content/drive\n"
          ],
          "name": "stdout"
        }
      ]
    },
    {
      "cell_type": "code",
      "metadata": {
        "id": "jMAvSE6hW7GU",
        "colab_type": "code",
        "outputId": "c170adb4-1151-4e02-ebff-969ae03a4fa8",
        "colab": {
          "base_uri": "https://localhost:8080/",
          "height": 35
        }
      },
      "source": [
        "%cd \"/content/drive/My Drive/Colab Notebooks/Omdena\""
      ],
      "execution_count": 3,
      "outputs": [
        {
          "output_type": "stream",
          "text": [
            "/content/drive/My Drive/Colab Notebooks/Omdena\n"
          ],
          "name": "stdout"
        }
      ]
    },
    {
      "cell_type": "code",
      "metadata": {
        "id": "EqG5wBOgXFof",
        "colab_type": "code",
        "colab": {}
      },
      "source": [
        "df = pd.read_excel(\"Master_1068_18Apr.xlsx\")"
      ],
      "execution_count": 0,
      "outputs": []
    },
    {
      "cell_type": "code",
      "metadata": {
        "id": "YJVK3ekicU3c",
        "colab_type": "code",
        "outputId": "9b6ccc45-1a7b-48ca-e2b8-f89da8d423ac",
        "colab": {
          "base_uri": "https://localhost:8080/",
          "height": 164
        }
      },
      "source": [
        "df.columns"
      ],
      "execution_count": 5,
      "outputs": [
        {
          "output_type": "execute_result",
          "data": {
            "text/plain": [
              "Index(['SID', 'NAME', 'ISO', 'YEAR_MIN', 'BASIN', 'SUBBASIN',\n",
              "       'SUBBASIN EDITED', 'NATURE', 'TRACK_TYPE', 'ISO_TIME', 'COORDS',\n",
              "       'TOTAL_HRS', 'DAY_HRS', 'NIGHT_HRS', 'USA_SSHS', 'USA_SSHS EDITED',\n",
              "       'WIND_CALC_MEAN (v_land_kn to be used)', 'PRES_CALC_MEAN',\n",
              "       'STORM_SPD_MEAN', 'STORM_DR_MEAN', 'V_LAND_KN', '34KN_POP',\n",
              "       '34KN_ASSETS', '64KN_POP', '64KN_ASSETS', '96KN_POP', '96KN_ASSETS',\n",
              "       'CPI', 'TOTAL_DAMAGE_(000$)', 'Total Affected]'],\n",
              "      dtype='object')"
            ]
          },
          "metadata": {
            "tags": []
          },
          "execution_count": 5
        }
      ]
    },
    {
      "cell_type": "code",
      "metadata": {
        "id": "TvpoaMY0XJDF",
        "colab_type": "code",
        "outputId": "890debde-4923-4375-faf3-5faee953157b",
        "colab": {
          "base_uri": "https://localhost:8080/",
          "height": 424
        }
      },
      "source": [
        "# choosing some numeric features\n",
        "df = df[['TOTAL_HRS', 'PRES_CALC_MEAN','STORM_SPD_MEAN', 'Total Affected]']]\n",
        "df"
      ],
      "execution_count": 92,
      "outputs": [
        {
          "output_type": "execute_result",
          "data": {
            "text/html": [
              "<div>\n",
              "<style scoped>\n",
              "    .dataframe tbody tr th:only-of-type {\n",
              "        vertical-align: middle;\n",
              "    }\n",
              "\n",
              "    .dataframe tbody tr th {\n",
              "        vertical-align: top;\n",
              "    }\n",
              "\n",
              "    .dataframe thead th {\n",
              "        text-align: right;\n",
              "    }\n",
              "</style>\n",
              "<table border=\"1\" class=\"dataframe\">\n",
              "  <thead>\n",
              "    <tr style=\"text-align: right;\">\n",
              "      <th></th>\n",
              "      <th>TOTAL_HRS</th>\n",
              "      <th>PRES_CALC_MEAN</th>\n",
              "      <th>STORM_SPD_MEAN</th>\n",
              "      <th>Total Affected]</th>\n",
              "    </tr>\n",
              "  </thead>\n",
              "  <tbody>\n",
              "    <tr>\n",
              "      <th>0</th>\n",
              "      <td>0</td>\n",
              "      <td>1000.333333</td>\n",
              "      <td>19.000000</td>\n",
              "      <td>194046</td>\n",
              "    </tr>\n",
              "    <tr>\n",
              "      <th>1</th>\n",
              "      <td>6</td>\n",
              "      <td>974.833333</td>\n",
              "      <td>23.000000</td>\n",
              "      <td>642117</td>\n",
              "    </tr>\n",
              "    <tr>\n",
              "      <th>2</th>\n",
              "      <td>15</td>\n",
              "      <td>974.500000</td>\n",
              "      <td>15.500000</td>\n",
              "      <td>20200</td>\n",
              "    </tr>\n",
              "    <tr>\n",
              "      <th>3</th>\n",
              "      <td>15</td>\n",
              "      <td>979.549020</td>\n",
              "      <td>3.000000</td>\n",
              "      <td>60000</td>\n",
              "    </tr>\n",
              "    <tr>\n",
              "      <th>4</th>\n",
              "      <td>3</td>\n",
              "      <td>980.600000</td>\n",
              "      <td>10.800000</td>\n",
              "      <td>103</td>\n",
              "    </tr>\n",
              "    <tr>\n",
              "      <th>...</th>\n",
              "      <td>...</td>\n",
              "      <td>...</td>\n",
              "      <td>...</td>\n",
              "      <td>...</td>\n",
              "    </tr>\n",
              "    <tr>\n",
              "      <th>1063</th>\n",
              "      <td>21</td>\n",
              "      <td>974.083333</td>\n",
              "      <td>9.384615</td>\n",
              "      <td>600000</td>\n",
              "    </tr>\n",
              "    <tr>\n",
              "      <th>1064</th>\n",
              "      <td>12</td>\n",
              "      <td>986.222222</td>\n",
              "      <td>21.500000</td>\n",
              "      <td>20</td>\n",
              "    </tr>\n",
              "    <tr>\n",
              "      <th>1065</th>\n",
              "      <td>12</td>\n",
              "      <td>982.187500</td>\n",
              "      <td>8.250000</td>\n",
              "      <td>100000</td>\n",
              "    </tr>\n",
              "    <tr>\n",
              "      <th>1066</th>\n",
              "      <td>21</td>\n",
              "      <td>965.214286</td>\n",
              "      <td>8.571429</td>\n",
              "      <td>360278</td>\n",
              "    </tr>\n",
              "    <tr>\n",
              "      <th>1067</th>\n",
              "      <td>12</td>\n",
              "      <td>968.000000</td>\n",
              "      <td>2.800000</td>\n",
              "      <td>8732</td>\n",
              "    </tr>\n",
              "  </tbody>\n",
              "</table>\n",
              "<p>1068 rows × 4 columns</p>\n",
              "</div>"
            ],
            "text/plain": [
              "      TOTAL_HRS  PRES_CALC_MEAN  STORM_SPD_MEAN  Total Affected]\n",
              "0             0     1000.333333       19.000000           194046\n",
              "1             6      974.833333       23.000000           642117\n",
              "2            15      974.500000       15.500000            20200\n",
              "3            15      979.549020        3.000000            60000\n",
              "4             3      980.600000       10.800000              103\n",
              "...         ...             ...             ...              ...\n",
              "1063         21      974.083333        9.384615           600000\n",
              "1064         12      986.222222       21.500000               20\n",
              "1065         12      982.187500        8.250000           100000\n",
              "1066         21      965.214286        8.571429           360278\n",
              "1067         12      968.000000        2.800000             8732\n",
              "\n",
              "[1068 rows x 4 columns]"
            ]
          },
          "metadata": {
            "tags": []
          },
          "execution_count": 92
        }
      ]
    },
    {
      "cell_type": "code",
      "metadata": {
        "id": "pH80woiXXJqc",
        "colab_type": "code",
        "colab": {}
      },
      "source": [
        "#Dropping nan values\n",
        "df.dropna(inplace = True)"
      ],
      "execution_count": 0,
      "outputs": []
    },
    {
      "cell_type": "markdown",
      "metadata": {
        "id": "ITrsRb971r-X",
        "colab_type": "text"
      },
      "source": [
        "# Using DBSCAN algorithm for only one feature"
      ]
    },
    {
      "cell_type": "code",
      "metadata": {
        "id": "7oC59DZ-djZp",
        "colab_type": "code",
        "outputId": "a67027d2-6b7c-4029-ce92-215cf082c9ba",
        "colab": {
          "base_uri": "https://localhost:8080/",
          "height": 424
        }
      },
      "source": [
        "X = df[['STORM_SPD_MEAN', 'Total Affected]']]\n",
        "X"
      ],
      "execution_count": 94,
      "outputs": [
        {
          "output_type": "execute_result",
          "data": {
            "text/html": [
              "<div>\n",
              "<style scoped>\n",
              "    .dataframe tbody tr th:only-of-type {\n",
              "        vertical-align: middle;\n",
              "    }\n",
              "\n",
              "    .dataframe tbody tr th {\n",
              "        vertical-align: top;\n",
              "    }\n",
              "\n",
              "    .dataframe thead th {\n",
              "        text-align: right;\n",
              "    }\n",
              "</style>\n",
              "<table border=\"1\" class=\"dataframe\">\n",
              "  <thead>\n",
              "    <tr style=\"text-align: right;\">\n",
              "      <th></th>\n",
              "      <th>STORM_SPD_MEAN</th>\n",
              "      <th>Total Affected]</th>\n",
              "    </tr>\n",
              "  </thead>\n",
              "  <tbody>\n",
              "    <tr>\n",
              "      <th>0</th>\n",
              "      <td>19.000000</td>\n",
              "      <td>194046</td>\n",
              "    </tr>\n",
              "    <tr>\n",
              "      <th>1</th>\n",
              "      <td>23.000000</td>\n",
              "      <td>642117</td>\n",
              "    </tr>\n",
              "    <tr>\n",
              "      <th>2</th>\n",
              "      <td>15.500000</td>\n",
              "      <td>20200</td>\n",
              "    </tr>\n",
              "    <tr>\n",
              "      <th>3</th>\n",
              "      <td>3.000000</td>\n",
              "      <td>60000</td>\n",
              "    </tr>\n",
              "    <tr>\n",
              "      <th>4</th>\n",
              "      <td>10.800000</td>\n",
              "      <td>103</td>\n",
              "    </tr>\n",
              "    <tr>\n",
              "      <th>...</th>\n",
              "      <td>...</td>\n",
              "      <td>...</td>\n",
              "    </tr>\n",
              "    <tr>\n",
              "      <th>1063</th>\n",
              "      <td>9.384615</td>\n",
              "      <td>600000</td>\n",
              "    </tr>\n",
              "    <tr>\n",
              "      <th>1064</th>\n",
              "      <td>21.500000</td>\n",
              "      <td>20</td>\n",
              "    </tr>\n",
              "    <tr>\n",
              "      <th>1065</th>\n",
              "      <td>8.250000</td>\n",
              "      <td>100000</td>\n",
              "    </tr>\n",
              "    <tr>\n",
              "      <th>1066</th>\n",
              "      <td>8.571429</td>\n",
              "      <td>360278</td>\n",
              "    </tr>\n",
              "    <tr>\n",
              "      <th>1067</th>\n",
              "      <td>2.800000</td>\n",
              "      <td>8732</td>\n",
              "    </tr>\n",
              "  </tbody>\n",
              "</table>\n",
              "<p>1068 rows × 2 columns</p>\n",
              "</div>"
            ],
            "text/plain": [
              "      STORM_SPD_MEAN  Total Affected]\n",
              "0          19.000000           194046\n",
              "1          23.000000           642117\n",
              "2          15.500000            20200\n",
              "3           3.000000            60000\n",
              "4          10.800000              103\n",
              "...              ...              ...\n",
              "1063        9.384615           600000\n",
              "1064       21.500000               20\n",
              "1065        8.250000           100000\n",
              "1066        8.571429           360278\n",
              "1067        2.800000             8732\n",
              "\n",
              "[1068 rows x 2 columns]"
            ]
          },
          "metadata": {
            "tags": []
          },
          "execution_count": 94
        }
      ]
    },
    {
      "cell_type": "code",
      "metadata": {
        "id": "7PW8ZnS67SAn",
        "colab_type": "code",
        "colab": {
          "base_uri": "https://localhost:8080/",
          "height": 35
        },
        "outputId": "f2f17a5f-d0a2-4a43-a2a0-2722a84a8787"
      },
      "source": [
        "df['Total Affected]'].max() - df['Total Affected]'].min()"
      ],
      "execution_count": 95,
      "outputs": [
        {
          "output_type": "execute_result",
          "data": {
            "text/plain": [
              "29621998"
            ]
          },
          "metadata": {
            "tags": []
          },
          "execution_count": 95
        }
      ]
    },
    {
      "cell_type": "code",
      "metadata": {
        "id": "7BYRxKOVffZM",
        "colab_type": "code",
        "outputId": "20fddaa3-266f-4932-fc95-30f08f3f1eb9",
        "colab": {
          "base_uri": "https://localhost:8080/",
          "height": 296
        }
      },
      "source": [
        "plt.scatter(df[['STORM_SPD_MEAN']], df[['Total Affected]']])\n",
        "plt.xlabel(\"Storm speed mean\")\n",
        "plt.ylabel(\"Total Affected\")\n",
        "plt.show()"
      ],
      "execution_count": 96,
      "outputs": [
        {
          "output_type": "display_data",
          "data": {
            "image/png": "[encoded data removed]",
            "text/plain": [
              "<Figure size 432x288 with 1 Axes>"
            ]
          },
          "metadata": {
            "tags": [],
            "needs_background": "light"
          }
        }
      ]
    },
    {
      "cell_type": "code",
      "metadata": {
        "id": "-7Vm6XZlc5TN",
        "colab_type": "code",
        "outputId": "92b0e116-1a7d-48da-c9bf-ad126348bbeb",
        "colab": {
          "base_uri": "https://localhost:8080/",
          "height": 54
        }
      },
      "source": [
        "m = DBSCAN(eps=10000, min_samples=10)\n",
        "m.fit(X)"
      ],
      "execution_count": 97,
      "outputs": [
        {
          "output_type": "execute_result",
          "data": {
            "text/plain": [
              "DBSCAN(algorithm='auto', eps=10000, leaf_size=30, metric='euclidean',\n",
              "       metric_params=None, min_samples=10, n_jobs=None, p=None)"
            ]
          },
          "metadata": {
            "tags": []
          },
          "execution_count": 97
        }
      ]
    },
    {
      "cell_type": "code",
      "metadata": {
        "id": "Ug1qliMAefwK",
        "colab_type": "code",
        "outputId": "f88a10b1-6d5f-452f-e853-23ba50deab02",
        "colab": {
          "base_uri": "https://localhost:8080/",
          "height": 35
        }
      },
      "source": [
        "# number of clusters\n",
        "clusters = m.labels_\n",
        "len(np.unique(clusters))"
      ],
      "execution_count": 98,
      "outputs": [
        {
          "output_type": "execute_result",
          "data": {
            "text/plain": [
              "8"
            ]
          },
          "metadata": {
            "tags": []
          },
          "execution_count": 98
        }
      ]
    },
    {
      "cell_type": "code",
      "metadata": {
        "id": "G_alkh-Bek7L",
        "colab_type": "code",
        "colab": {}
      },
      "source": [
        "colors = ['royalblue', 'maroon', 'forestgreen', 'mediumorchid', 'tan', 'deeppink', 'olive', 'goldenrod', 'lightcyan', 'navy']\n",
        "vectorizer = np.vectorize(lambda x: colors[x % len(colors)])"
      ],
      "execution_count": 0,
      "outputs": []
    },
    {
      "cell_type": "code",
      "metadata": {
        "id": "9dOqOP3skMh8",
        "colab_type": "code",
        "outputId": "d891f0b9-5289-4272-ccb3-b8e0c0a9a776",
        "colab": {
          "base_uri": "https://localhost:8080/",
          "height": 297
        }
      },
      "source": [
        "plt.scatter(X['STORM_SPD_MEAN'], X['Total Affected]'], c=vectorizer(clusters))"
      ],
      "execution_count": 100,
      "outputs": [
        {
          "output_type": "execute_result",
          "data": {
            "text/plain": [
              "<matplotlib.collections.PathCollection at 0x7fd98fdb8e48>"
            ]
          },
          "metadata": {
            "tags": []
          },
          "execution_count": 100
        },
        {
          "output_type": "display_data",
          "data": {
            "image/png": "[encoded data removed]",
            "text/plain": [
              "<Figure size 432x288 with 1 Axes>"
            ]
          },
          "metadata": {
            "tags": [],
            "needs_background": "light"
          }
        }
      ]
    },
    {
      "cell_type": "markdown",
      "metadata": {
        "id": "ALdzlUsztisV",
        "colab_type": "text"
      },
      "source": [
        "# Doing DBSCAN considering: TOTAL_HRS, \tPRES_CALC_MEAN, \tSTORM_SPD_MEAN columns"
      ]
    },
    {
      "cell_type": "code",
      "metadata": {
        "id": "Ia8IIc8rkO0S",
        "colab_type": "code",
        "outputId": "158190b3-7aa0-415f-de30-06d270ffabed",
        "colab": {
          "base_uri": "https://localhost:8080/",
          "height": 424
        }
      },
      "source": [
        "X = df[['TOTAL_HRS', 'PRES_CALC_MEAN','STORM_SPD_MEAN', 'Total Affected]']]\n",
        "X"
      ],
      "execution_count": 102,
      "outputs": [
        {
          "output_type": "execute_result",
          "data": {
            "text/html": [
              "<div>\n",
              "<style scoped>\n",
              "    .dataframe tbody tr th:only-of-type {\n",
              "        vertical-align: middle;\n",
              "    }\n",
              "\n",
              "    .dataframe tbody tr th {\n",
              "        vertical-align: top;\n",
              "    }\n",
              "\n",
              "    .dataframe thead th {\n",
              "        text-align: right;\n",
              "    }\n",
              "</style>\n",
              "<table border=\"1\" class=\"dataframe\">\n",
              "  <thead>\n",
              "    <tr style=\"text-align: right;\">\n",
              "      <th></th>\n",
              "      <th>TOTAL_HRS</th>\n",
              "      <th>PRES_CALC_MEAN</th>\n",
              "      <th>STORM_SPD_MEAN</th>\n",
              "      <th>Total Affected]</th>\n",
              "    </tr>\n",
              "  </thead>\n",
              "  <tbody>\n",
              "    <tr>\n",
              "      <th>0</th>\n",
              "      <td>0</td>\n",
              "      <td>1000.333333</td>\n",
              "      <td>19.000000</td>\n",
              "      <td>194046</td>\n",
              "    </tr>\n",
              "    <tr>\n",
              "      <th>1</th>\n",
              "      <td>6</td>\n",
              "      <td>974.833333</td>\n",
              "      <td>23.000000</td>\n",
              "      <td>642117</td>\n",
              "    </tr>\n",
              "    <tr>\n",
              "      <th>2</th>\n",
              "      <td>15</td>\n",
              "      <td>974.500000</td>\n",
              "      <td>15.500000</td>\n",
              "      <td>20200</td>\n",
              "    </tr>\n",
              "    <tr>\n",
              "      <th>3</th>\n",
              "      <td>15</td>\n",
              "      <td>979.549020</td>\n",
              "      <td>3.000000</td>\n",
              "      <td>60000</td>\n",
              "    </tr>\n",
              "    <tr>\n",
              "      <th>4</th>\n",
              "      <td>3</td>\n",
              "      <td>980.600000</td>\n",
              "      <td>10.800000</td>\n",
              "      <td>103</td>\n",
              "    </tr>\n",
              "    <tr>\n",
              "      <th>...</th>\n",
              "      <td>...</td>\n",
              "      <td>...</td>\n",
              "      <td>...</td>\n",
              "      <td>...</td>\n",
              "    </tr>\n",
              "    <tr>\n",
              "      <th>1063</th>\n",
              "      <td>21</td>\n",
              "      <td>974.083333</td>\n",
              "      <td>9.384615</td>\n",
              "      <td>600000</td>\n",
              "    </tr>\n",
              "    <tr>\n",
              "      <th>1064</th>\n",
              "      <td>12</td>\n",
              "      <td>986.222222</td>\n",
              "      <td>21.500000</td>\n",
              "      <td>20</td>\n",
              "    </tr>\n",
              "    <tr>\n",
              "      <th>1065</th>\n",
              "      <td>12</td>\n",
              "      <td>982.187500</td>\n",
              "      <td>8.250000</td>\n",
              "      <td>100000</td>\n",
              "    </tr>\n",
              "    <tr>\n",
              "      <th>1066</th>\n",
              "      <td>21</td>\n",
              "      <td>965.214286</td>\n",
              "      <td>8.571429</td>\n",
              "      <td>360278</td>\n",
              "    </tr>\n",
              "    <tr>\n",
              "      <th>1067</th>\n",
              "      <td>12</td>\n",
              "      <td>968.000000</td>\n",
              "      <td>2.800000</td>\n",
              "      <td>8732</td>\n",
              "    </tr>\n",
              "  </tbody>\n",
              "</table>\n",
              "<p>1068 rows × 4 columns</p>\n",
              "</div>"
            ],
            "text/plain": [
              "      TOTAL_HRS  PRES_CALC_MEAN  STORM_SPD_MEAN  Total Affected]\n",
              "0             0     1000.333333       19.000000           194046\n",
              "1             6      974.833333       23.000000           642117\n",
              "2            15      974.500000       15.500000            20200\n",
              "3            15      979.549020        3.000000            60000\n",
              "4             3      980.600000       10.800000              103\n",
              "...         ...             ...             ...              ...\n",
              "1063         21      974.083333        9.384615           600000\n",
              "1064         12      986.222222       21.500000               20\n",
              "1065         12      982.187500        8.250000           100000\n",
              "1066         21      965.214286        8.571429           360278\n",
              "1067         12      968.000000        2.800000             8732\n",
              "\n",
              "[1068 rows x 4 columns]"
            ]
          },
          "metadata": {
            "tags": []
          },
          "execution_count": 102
        }
      ]
    },
    {
      "cell_type": "code",
      "metadata": {
        "id": "iKdF6O296ytK",
        "colab_type": "code",
        "colab": {
          "base_uri": "https://localhost:8080/",
          "height": 35
        },
        "outputId": "65e4cd6b-7ee7-4551-d886-f4209439f0b9"
      },
      "source": [
        "X['PRES_CALC_MEAN'].max() - X['PRES_CALC_MEAN'].min()"
      ],
      "execution_count": 103,
      "outputs": [
        {
          "output_type": "execute_result",
          "data": {
            "text/plain": [
              "1013.0"
            ]
          },
          "metadata": {
            "tags": []
          },
          "execution_count": 103
        }
      ]
    },
    {
      "cell_type": "code",
      "metadata": {
        "id": "y6y9v9hN7FRi",
        "colab_type": "code",
        "colab": {
          "base_uri": "https://localhost:8080/",
          "height": 35
        },
        "outputId": "d5919d1d-370d-4569-d6fb-2427de0bb3ac"
      },
      "source": [
        "X['STORM_SPD_MEAN'].max() - X['STORM_SPD_MEAN'].min()"
      ],
      "execution_count": 104,
      "outputs": [
        {
          "output_type": "execute_result",
          "data": {
            "text/plain": [
              "48.23478260869566"
            ]
          },
          "metadata": {
            "tags": []
          },
          "execution_count": 104
        }
      ]
    },
    {
      "cell_type": "code",
      "metadata": {
        "id": "O7a_ajKI7E75",
        "colab_type": "code",
        "colab": {
          "base_uri": "https://localhost:8080/",
          "height": 35
        },
        "outputId": "a4a324a2-315b-4bce-ff03-272435dccaf9"
      },
      "source": [
        "X['TOTAL_HRS'].max() - X['TOTAL_HRS'].min()"
      ],
      "execution_count": 105,
      "outputs": [
        {
          "output_type": "execute_result",
          "data": {
            "text/plain": [
              "23"
            ]
          },
          "metadata": {
            "tags": []
          },
          "execution_count": 105
        }
      ]
    },
    {
      "cell_type": "code",
      "metadata": {
        "id": "17pMNnNZsDDR",
        "colab_type": "code",
        "outputId": "01cef046-0a11-4bda-e2bc-d700202c89c1",
        "colab": {
          "base_uri": "https://localhost:8080/",
          "height": 54
        }
      },
      "source": [
        "m = DBSCAN(eps=10000, min_samples=4)\n",
        "m.fit(X)"
      ],
      "execution_count": 107,
      "outputs": [
        {
          "output_type": "execute_result",
          "data": {
            "text/plain": [
              "DBSCAN(algorithm='auto', eps=10000, leaf_size=30, metric='euclidean',\n",
              "       metric_params=None, min_samples=4, n_jobs=None, p=None)"
            ]
          },
          "metadata": {
            "tags": []
          },
          "execution_count": 107
        }
      ]
    },
    {
      "cell_type": "code",
      "metadata": {
        "id": "PGDuJFlssKSr",
        "colab_type": "code",
        "outputId": "9b48d577-1521-43ca-e8e7-e9523a2001df",
        "colab": {
          "base_uri": "https://localhost:8080/",
          "height": 35
        }
      },
      "source": [
        "# number of clusters\n",
        "clusters = m.labels_\n",
        "len(np.unique(clusters))"
      ],
      "execution_count": 108,
      "outputs": [
        {
          "output_type": "execute_result",
          "data": {
            "text/plain": [
              "16"
            ]
          },
          "metadata": {
            "tags": []
          },
          "execution_count": 108
        }
      ]
    },
    {
      "cell_type": "code",
      "metadata": {
        "id": "f_Y6Mnjis601",
        "colab_type": "code",
        "outputId": "eb00c565-4998-4588-8644-676bae48b08f",
        "colab": {
          "base_uri": "https://localhost:8080/",
          "height": 297
        }
      },
      "source": [
        "plt.scatter(X['PRES_CALC_MEAN'], df['Total Affected]'], c=vectorizer(clusters))"
      ],
      "execution_count": 109,
      "outputs": [
        {
          "output_type": "execute_result",
          "data": {
            "text/plain": [
              "<matplotlib.collections.PathCollection at 0x7fd98fb8c1d0>"
            ]
          },
          "metadata": {
            "tags": []
          },
          "execution_count": 109
        },
        {
          "output_type": "display_data",
          "data": {
            "image/png": "[encoded data removed]",
            "text/plain": [
              "<Figure size 432x288 with 1 Axes>"
            ]
          },
          "metadata": {
            "tags": [],
            "needs_background": "light"
          }
        }
      ]
    },
    {
      "cell_type": "code",
      "metadata": {
        "id": "DUKq-O6UtFux",
        "colab_type": "code",
        "outputId": "3fd18a05-dbcc-4a3c-db2e-b7e15092c2d9",
        "colab": {
          "base_uri": "https://localhost:8080/",
          "height": 297
        }
      },
      "source": [
        "plt.scatter(X['STORM_SPD_MEAN'], df['Total Affected]'], c=vectorizer(clusters))"
      ],
      "execution_count": 110,
      "outputs": [
        {
          "output_type": "execute_result",
          "data": {
            "text/plain": [
              "<matplotlib.collections.PathCollection at 0x7fd98f6453c8>"
            ]
          },
          "metadata": {
            "tags": []
          },
          "execution_count": 110
        },
        {
          "output_type": "display_data",
          "data": {
            "image/png": "[encoded data removed]",
            "text/plain": [
              "<Figure size 432x288 with 1 Axes>"
            ]
          },
          "metadata": {
            "tags": [],
            "needs_background": "light"
          }
        }
      ]
    },
    {
      "cell_type": "code",
      "metadata": {
        "id": "egdbfCNytMC7",
        "colab_type": "code",
        "outputId": "ad20fd49-37fc-4f62-ba72-ec5160aa3397",
        "colab": {
          "base_uri": "https://localhost:8080/",
          "height": 297
        }
      },
      "source": [
        "plt.scatter(X['TOTAL_HRS'], df['Total Affected]'], c=vectorizer(clusters))"
      ],
      "execution_count": 111,
      "outputs": [
        {
          "output_type": "execute_result",
          "data": {
            "text/plain": [
              "<matplotlib.collections.PathCollection at 0x7fd98c218668>"
            ]
          },
          "metadata": {
            "tags": []
          },
          "execution_count": 111
        },
        {
          "output_type": "display_data",
          "data": {
            "image/png": "[encoded data removed]",
            "text/plain": [
              "<Figure size 432x288 with 1 Axes>"
            ]
          },
          "metadata": {
            "tags": [],
            "needs_background": "light"
          }
        }
      ]
    },
    {
      "cell_type": "markdown",
      "metadata": {
        "id": "TZdLKz9ruZm3",
        "colab_type": "text"
      },
      "source": [
        "Because is seems like only number of total affected matter, I've tried to normalize all values to treat them fairly"
      ]
    },
    {
      "cell_type": "markdown",
      "metadata": {
        "id": "txXiLHlvBvom",
        "colab_type": "text"
      },
      "source": [
        "# With normalization, considering the same columns"
      ]
    },
    {
      "cell_type": "code",
      "metadata": {
        "id": "PMSn928dud5J",
        "colab_type": "code",
        "outputId": "a16721b9-5c0d-4ffa-8536-ea6133c6fb45",
        "colab": {
          "base_uri": "https://localhost:8080/",
          "height": 424
        }
      },
      "source": [
        "x = X.values #returns a numpy array\n",
        "min_max_scaler = preprocessing.MinMaxScaler()\n",
        "x_scaled = min_max_scaler.fit_transform(x)\n",
        "X = pd.DataFrame(x_scaled)\n",
        "X"
      ],
      "execution_count": 113,
      "outputs": [
        {
          "output_type": "execute_result",
          "data": {
            "text/html": [
              "<div>\n",
              "<style scoped>\n",
              "    .dataframe tbody tr th:only-of-type {\n",
              "        vertical-align: middle;\n",
              "    }\n",
              "\n",
              "    .dataframe tbody tr th {\n",
              "        vertical-align: top;\n",
              "    }\n",
              "\n",
              "    .dataframe thead th {\n",
              "        text-align: right;\n",
              "    }\n",
              "</style>\n",
              "<table border=\"1\" class=\"dataframe\">\n",
              "  <thead>\n",
              "    <tr style=\"text-align: right;\">\n",
              "      <th></th>\n",
              "      <th>0</th>\n",
              "      <th>1</th>\n",
              "      <th>2</th>\n",
              "      <th>3</th>\n",
              "    </tr>\n",
              "  </thead>\n",
              "  <tbody>\n",
              "    <tr>\n",
              "      <th>0</th>\n",
              "      <td>0.000000</td>\n",
              "      <td>0.987496</td>\n",
              "      <td>0.361457</td>\n",
              "      <td>6.550672e-03</td>\n",
              "    </tr>\n",
              "    <tr>\n",
              "      <th>1</th>\n",
              "      <td>0.260870</td>\n",
              "      <td>0.962323</td>\n",
              "      <td>0.444384</td>\n",
              "      <td>2.167696e-02</td>\n",
              "    </tr>\n",
              "    <tr>\n",
              "      <th>2</th>\n",
              "      <td>0.652174</td>\n",
              "      <td>0.961994</td>\n",
              "      <td>0.288895</td>\n",
              "      <td>6.818581e-04</td>\n",
              "    </tr>\n",
              "    <tr>\n",
              "      <th>3</th>\n",
              "      <td>0.652174</td>\n",
              "      <td>0.966978</td>\n",
              "      <td>0.029746</td>\n",
              "      <td>2.025454e-03</td>\n",
              "    </tr>\n",
              "    <tr>\n",
              "      <th>4</th>\n",
              "      <td>0.130435</td>\n",
              "      <td>0.968016</td>\n",
              "      <td>0.191455</td>\n",
              "      <td>3.409628e-06</td>\n",
              "    </tr>\n",
              "    <tr>\n",
              "      <th>...</th>\n",
              "      <td>...</td>\n",
              "      <td>...</td>\n",
              "      <td>...</td>\n",
              "      <td>...</td>\n",
              "    </tr>\n",
              "    <tr>\n",
              "      <th>1063</th>\n",
              "      <td>0.913043</td>\n",
              "      <td>0.961583</td>\n",
              "      <td>0.162111</td>\n",
              "      <td>2.025515e-02</td>\n",
              "    </tr>\n",
              "    <tr>\n",
              "      <th>1064</th>\n",
              "      <td>0.521739</td>\n",
              "      <td>0.973566</td>\n",
              "      <td>0.413286</td>\n",
              "      <td>6.076565e-07</td>\n",
              "    </tr>\n",
              "    <tr>\n",
              "      <th>1065</th>\n",
              "      <td>0.521739</td>\n",
              "      <td>0.969583</td>\n",
              "      <td>0.138588</td>\n",
              "      <td>3.375802e-03</td>\n",
              "    </tr>\n",
              "    <tr>\n",
              "      <th>1066</th>\n",
              "      <td>0.913043</td>\n",
              "      <td>0.952828</td>\n",
              "      <td>0.145252</td>\n",
              "      <td>1.216245e-02</td>\n",
              "    </tr>\n",
              "    <tr>\n",
              "      <th>1067</th>\n",
              "      <td>0.521739</td>\n",
              "      <td>0.955577</td>\n",
              "      <td>0.025599</td>\n",
              "      <td>2.947134e-04</td>\n",
              "    </tr>\n",
              "  </tbody>\n",
              "</table>\n",
              "<p>1068 rows × 4 columns</p>\n",
              "</div>"
            ],
            "text/plain": [
              "             0         1         2             3\n",
              "0     0.000000  0.987496  0.361457  6.550672e-03\n",
              "1     0.260870  0.962323  0.444384  2.167696e-02\n",
              "2     0.652174  0.961994  0.288895  6.818581e-04\n",
              "3     0.652174  0.966978  0.029746  2.025454e-03\n",
              "4     0.130435  0.968016  0.191455  3.409628e-06\n",
              "...        ...       ...       ...           ...\n",
              "1063  0.913043  0.961583  0.162111  2.025515e-02\n",
              "1064  0.521739  0.973566  0.413286  6.076565e-07\n",
              "1065  0.521739  0.969583  0.138588  3.375802e-03\n",
              "1066  0.913043  0.952828  0.145252  1.216245e-02\n",
              "1067  0.521739  0.955577  0.025599  2.947134e-04\n",
              "\n",
              "[1068 rows x 4 columns]"
            ]
          },
          "metadata": {
            "tags": []
          },
          "execution_count": 113
        }
      ]
    },
    {
      "cell_type": "code",
      "metadata": {
        "id": "mSW4H9qV_SvT",
        "colab_type": "code",
        "colab": {
          "base_uri": "https://localhost:8080/",
          "height": 35
        },
        "outputId": "2b03e730-1055-4cdb-fa4f-c4165766cd2e"
      },
      "source": [
        "# checking if normalization finised well\n",
        "X[0].max() - X[0].min(), X[1].max() - X[1].min(), X[2].max() - X[2].min(), X[3].max() - X[3].min()"
      ],
      "execution_count": 124,
      "outputs": [
        {
          "output_type": "execute_result",
          "data": {
            "text/plain": [
              "(1.0, 0.9999999999999999, 1.0000000000000002, 1.0)"
            ]
          },
          "metadata": {
            "tags": []
          },
          "execution_count": 124
        }
      ]
    },
    {
      "cell_type": "code",
      "metadata": {
        "id": "uajArmHkunkB",
        "colab_type": "code",
        "outputId": "c35b6b42-6889-40dd-ae01-d274e278a40a",
        "colab": {
          "base_uri": "https://localhost:8080/",
          "height": 54
        }
      },
      "source": [
        "m = DBSCAN(eps=0.1, min_samples=10)\n",
        "m.fit(X)"
      ],
      "execution_count": 118,
      "outputs": [
        {
          "output_type": "execute_result",
          "data": {
            "text/plain": [
              "DBSCAN(algorithm='auto', eps=0.1, leaf_size=30, metric='euclidean',\n",
              "       metric_params=None, min_samples=10, n_jobs=None, p=None)"
            ]
          },
          "metadata": {
            "tags": []
          },
          "execution_count": 118
        }
      ]
    },
    {
      "cell_type": "code",
      "metadata": {
        "id": "zqrZYp4qvA1j",
        "colab_type": "code",
        "outputId": "cecfc11e-6e4f-49f6-8755-9e4dfbe788d3",
        "colab": {
          "base_uri": "https://localhost:8080/",
          "height": 35
        }
      },
      "source": [
        "clusters = m.labels_\n",
        "len(np.unique(clusters))"
      ],
      "execution_count": 120,
      "outputs": [
        {
          "output_type": "execute_result",
          "data": {
            "text/plain": [
              "7"
            ]
          },
          "metadata": {
            "tags": []
          },
          "execution_count": 120
        }
      ]
    },
    {
      "cell_type": "code",
      "metadata": {
        "id": "D1Ef8-iOviSu",
        "colab_type": "code",
        "outputId": "70c582ac-9b2d-48dc-b216-ba10d580fc04",
        "colab": {
          "base_uri": "https://localhost:8080/",
          "height": 286
        }
      },
      "source": [
        "plt.scatter(X[0], X[3], c=vectorizer(clusters))"
      ],
      "execution_count": 121,
      "outputs": [
        {
          "output_type": "execute_result",
          "data": {
            "text/plain": [
              "<matplotlib.collections.PathCollection at 0x7fd98fec16d8>"
            ]
          },
          "metadata": {
            "tags": []
          },
          "execution_count": 121
        },
        {
          "output_type": "display_data",
          "data": {
            "image/png": "[encoded data removed]",
            "text/plain": [
              "<Figure size 432x288 with 1 Axes>"
            ]
          },
          "metadata": {
            "tags": [],
            "needs_background": "light"
          }
        }
      ]
    },
    {
      "cell_type": "code",
      "metadata": {
        "id": "Fx5QswZYvEd5",
        "colab_type": "code",
        "outputId": "fde25ff5-96a6-4d79-e80c-844146f4dee4",
        "colab": {
          "base_uri": "https://localhost:8080/",
          "height": 286
        }
      },
      "source": [
        "plt.scatter(X[1], X[3], c=vectorizer(clusters))"
      ],
      "execution_count": 122,
      "outputs": [
        {
          "output_type": "execute_result",
          "data": {
            "text/plain": [
              "<matplotlib.collections.PathCollection at 0x7fd98bdd0b70>"
            ]
          },
          "metadata": {
            "tags": []
          },
          "execution_count": 122
        },
        {
          "output_type": "display_data",
          "data": {
            "image/png": "[encoded data removed]",
            "text/plain": [
              "<Figure size 432x288 with 1 Axes>"
            ]
          },
          "metadata": {
            "tags": [],
            "needs_background": "light"
          }
        }
      ]
    },
    {
      "cell_type": "code",
      "metadata": {
        "id": "4Ky0CAZnvXgj",
        "colab_type": "code",
        "outputId": "d04062c3-efee-405b-d86c-2c02e9df8a90",
        "colab": {
          "base_uri": "https://localhost:8080/",
          "height": 286
        }
      },
      "source": [
        "plt.scatter(X[2], X[3], c=vectorizer(clusters))"
      ],
      "execution_count": 123,
      "outputs": [
        {
          "output_type": "execute_result",
          "data": {
            "text/plain": [
              "<matplotlib.collections.PathCollection at 0x7fd98fbc3470>"
            ]
          },
          "metadata": {
            "tags": []
          },
          "execution_count": 123
        },
        {
          "output_type": "display_data",
          "data": {
            "image/png": "[encoded data removed]",
            "text/plain": [
              "<Figure size 432x288 with 1 Axes>"
            ]
          },
          "metadata": {
            "tags": [],
            "needs_background": "light"
          }
        }
      ]
    },
    {
      "cell_type": "code",
      "metadata": {
        "id": "wYfAMmcevm2S",
        "colab_type": "code",
        "colab": {}
      },
      "source": [
        ""
      ],
      "execution_count": 0,
      "outputs": []
    }
  ]
}