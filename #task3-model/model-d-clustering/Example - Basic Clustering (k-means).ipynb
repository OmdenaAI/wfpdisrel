{
 "cells": [
  {
   "cell_type": "code",
   "execution_count": 28,
   "metadata": {},
   "outputs": [],
   "source": [
    "import pandas as pd\n",
    "import matplotlib.pyplot as plt\n",
    "from sklearn import preprocessing\n",
    "from sklearn.cluster import KMeans"
   ]
  },
  {
   "cell_type": "code",
   "execution_count": 24,
   "metadata": {},
   "outputs": [
    {
     "data": {
      "text/html": [
       "<div>\n",
       "<style scoped>\n",
       "    .dataframe tbody tr th:only-of-type {\n",
       "        vertical-align: middle;\n",
       "    }\n",
       "\n",
       "    .dataframe tbody tr th {\n",
       "        vertical-align: top;\n",
       "    }\n",
       "\n",
       "    .dataframe thead th {\n",
       "        text-align: right;\n",
       "    }\n",
       "</style>\n",
       "<table border=\"1\" class=\"dataframe\">\n",
       "  <thead>\n",
       "    <tr style=\"text-align: right;\">\n",
       "      <th></th>\n",
       "      <th>#/Date</th>\n",
       "      <th>Time\\n(UTC)</th>\n",
       "      <th>Latitude</th>\n",
       "      <th>Longitude</th>\n",
       "      <th>Max\\nWinds\\n(kts)</th>\n",
       "      <th>SS\\nHWS</th>\n",
       "      <th>Central\\nPressure\\n(mb)</th>\n",
       "      <th>Landfall\\nCountry</th>\n",
       "      <th>Storm\\nNames</th>\n",
       "    </tr>\n",
       "  </thead>\n",
       "  <tbody>\n",
       "    <tr>\n",
       "      <th>1</th>\n",
       "      <td>2-8/28/1983</td>\n",
       "      <td>1725Z</td>\n",
       "      <td>25.4N</td>\n",
       "      <td>97.4W</td>\n",
       "      <td>70.0</td>\n",
       "      <td>1.0</td>\n",
       "      <td>986.0</td>\n",
       "      <td>Mexico</td>\n",
       "      <td>Barry</td>\n",
       "    </tr>\n",
       "    <tr>\n",
       "      <th>2</th>\n",
       "      <td>11-11/19/1985</td>\n",
       "      <td>0600Z</td>\n",
       "      <td>22.1N</td>\n",
       "      <td>78.4W</td>\n",
       "      <td>95.0</td>\n",
       "      <td>2.0</td>\n",
       "      <td>968.0</td>\n",
       "      <td>Cuba</td>\n",
       "      <td>Kate</td>\n",
       "    </tr>\n",
       "    <tr>\n",
       "      <th>3</th>\n",
       "      <td>6-9/23/1987</td>\n",
       "      <td>0300Z</td>\n",
       "      <td>18.3N</td>\n",
       "      <td>71.0W</td>\n",
       "      <td>95.0</td>\n",
       "      <td>2.0</td>\n",
       "      <td>965.0</td>\n",
       "      <td>Dom. Republic</td>\n",
       "      <td>Emily</td>\n",
       "    </tr>\n",
       "    <tr>\n",
       "      <th>4</th>\n",
       "      <td>6-9/25/1987</td>\n",
       "      <td>1145Z</td>\n",
       "      <td>32.3N</td>\n",
       "      <td>64.7W</td>\n",
       "      <td>75.0</td>\n",
       "      <td>1.0</td>\n",
       "      <td>974.0</td>\n",
       "      <td>Bermuda</td>\n",
       "      <td>Emily</td>\n",
       "    </tr>\n",
       "    <tr>\n",
       "      <th>5</th>\n",
       "      <td>4-9/3/1988</td>\n",
       "      <td>0000Z</td>\n",
       "      <td>20.7N</td>\n",
       "      <td>97.3W</td>\n",
       "      <td>65.0</td>\n",
       "      <td>1.0</td>\n",
       "      <td>991.0</td>\n",
       "      <td>Mexico</td>\n",
       "      <td>Debby</td>\n",
       "    </tr>\n",
       "  </tbody>\n",
       "</table>\n",
       "</div>"
      ],
      "text/plain": [
       "          #/Date Time\\n(UTC) Latitude Longitude  Max\\nWinds\\n(kts)  SS\\nHWS  \\\n",
       "1    2-8/28/1983       1725Z    25.4N     97.4W               70.0      1.0   \n",
       "2  11-11/19/1985       0600Z    22.1N     78.4W               95.0      2.0   \n",
       "3    6-9/23/1987       0300Z    18.3N     71.0W               95.0      2.0   \n",
       "4    6-9/25/1987       1145Z    32.3N     64.7W               75.0      1.0   \n",
       "5     4-9/3/1988       0000Z    20.7N     97.3W               65.0      1.0   \n",
       "\n",
       "   Central\\nPressure\\n(mb) Landfall\\nCountry Storm\\nNames  \n",
       "1                    986.0            Mexico        Barry  \n",
       "2                    968.0              Cuba         Kate  \n",
       "3                    965.0     Dom. Republic        Emily  \n",
       "4                    974.0           Bermuda        Emily  \n",
       "5                    991.0            Mexico        Debby  "
      ]
     },
     "execution_count": 24,
     "metadata": {},
     "output_type": "execute_result"
    }
   ],
   "source": [
    "data = pd.read_csv('../../#task1-datacollection/datasets/international_Cyclones.csv')\n",
    "data = data.dropna()\n",
    "data.head()"
   ]
  },
  {
   "cell_type": "code",
   "execution_count": 25,
   "metadata": {},
   "outputs": [
    {
     "data": {
      "text/html": [
       "<div>\n",
       "<style scoped>\n",
       "    .dataframe tbody tr th:only-of-type {\n",
       "        vertical-align: middle;\n",
       "    }\n",
       "\n",
       "    .dataframe tbody tr th {\n",
       "        vertical-align: top;\n",
       "    }\n",
       "\n",
       "    .dataframe thead th {\n",
       "        text-align: right;\n",
       "    }\n",
       "</style>\n",
       "<table border=\"1\" class=\"dataframe\">\n",
       "  <thead>\n",
       "    <tr style=\"text-align: right;\">\n",
       "      <th></th>\n",
       "      <th>#/Date</th>\n",
       "      <th>Time\\n(UTC)</th>\n",
       "      <th>Latitude</th>\n",
       "      <th>Longitude</th>\n",
       "      <th>Max\\nWinds\\n(kts)</th>\n",
       "      <th>SS\\nHWS</th>\n",
       "      <th>Central\\nPressure\\n(mb)</th>\n",
       "      <th>Landfall\\nCountry</th>\n",
       "      <th>Storm\\nNames</th>\n",
       "    </tr>\n",
       "  </thead>\n",
       "  <tbody>\n",
       "    <tr>\n",
       "      <th>1</th>\n",
       "      <td>2-8/28/1983</td>\n",
       "      <td>1725Z</td>\n",
       "      <td>25.4N</td>\n",
       "      <td>97.4W</td>\n",
       "      <td>70.0</td>\n",
       "      <td>1.0</td>\n",
       "      <td>986.0</td>\n",
       "      <td>17</td>\n",
       "      <td>2</td>\n",
       "    </tr>\n",
       "    <tr>\n",
       "      <th>2</th>\n",
       "      <td>11-11/19/1985</td>\n",
       "      <td>0600Z</td>\n",
       "      <td>22.1N</td>\n",
       "      <td>78.4W</td>\n",
       "      <td>95.0</td>\n",
       "      <td>2.0</td>\n",
       "      <td>968.0</td>\n",
       "      <td>9</td>\n",
       "      <td>38</td>\n",
       "    </tr>\n",
       "    <tr>\n",
       "      <th>3</th>\n",
       "      <td>6-9/23/1987</td>\n",
       "      <td>0300Z</td>\n",
       "      <td>18.3N</td>\n",
       "      <td>71.0W</td>\n",
       "      <td>95.0</td>\n",
       "      <td>2.0</td>\n",
       "      <td>965.0</td>\n",
       "      <td>10</td>\n",
       "      <td>13</td>\n",
       "    </tr>\n",
       "    <tr>\n",
       "      <th>4</th>\n",
       "      <td>6-9/25/1987</td>\n",
       "      <td>1145Z</td>\n",
       "      <td>32.3N</td>\n",
       "      <td>64.7W</td>\n",
       "      <td>75.0</td>\n",
       "      <td>1.0</td>\n",
       "      <td>974.0</td>\n",
       "      <td>5</td>\n",
       "      <td>13</td>\n",
       "    </tr>\n",
       "    <tr>\n",
       "      <th>5</th>\n",
       "      <td>4-9/3/1988</td>\n",
       "      <td>0000Z</td>\n",
       "      <td>20.7N</td>\n",
       "      <td>97.3W</td>\n",
       "      <td>65.0</td>\n",
       "      <td>1.0</td>\n",
       "      <td>991.0</td>\n",
       "      <td>17</td>\n",
       "      <td>8</td>\n",
       "    </tr>\n",
       "  </tbody>\n",
       "</table>\n",
       "</div>"
      ],
      "text/plain": [
       "          #/Date Time\\n(UTC) Latitude Longitude  Max\\nWinds\\n(kts)  SS\\nHWS  \\\n",
       "1    2-8/28/1983       1725Z    25.4N     97.4W               70.0      1.0   \n",
       "2  11-11/19/1985       0600Z    22.1N     78.4W               95.0      2.0   \n",
       "3    6-9/23/1987       0300Z    18.3N     71.0W               95.0      2.0   \n",
       "4    6-9/25/1987       1145Z    32.3N     64.7W               75.0      1.0   \n",
       "5     4-9/3/1988       0000Z    20.7N     97.3W               65.0      1.0   \n",
       "\n",
       "   Central\\nPressure\\n(mb)  Landfall\\nCountry  Storm\\nNames  \n",
       "1                    986.0                 17             2  \n",
       "2                    968.0                  9            38  \n",
       "3                    965.0                 10            13  \n",
       "4                    974.0                  5            13  \n",
       "5                    991.0                 17             8  "
      ]
     },
     "execution_count": 25,
     "metadata": {},
     "output_type": "execute_result"
    }
   ],
   "source": [
    "le = preprocessing.LabelEncoder()\n",
    "data['Landfall\\nCountry'] = le.fit_transform(data['Landfall\\nCountry'])\n",
    "data['Storm\\nNames'] = le.fit_transform(data['Storm\\nNames'])\n",
    "data.head()"
   ]
  },
  {
   "cell_type": "code",
   "execution_count": 32,
   "metadata": {},
   "outputs": [
    {
     "data": {
      "image/png": "[encoded data removed]",
      "text/plain": [
       "<Figure size 432x288 with 1 Axes>"
      ]
     },
     "metadata": {
      "needs_background": "light"
     },
     "output_type": "display_data"
    }
   ],
   "source": [
    "X = data[[\"Landfall\\nCountry\", \"Max\\nWinds\\n(kts)\"]]\n",
    "plt.scatter(X[\"Landfall\\nCountry\"], X[\"Max\\nWinds\\n(kts)\"], c='black')\n",
    "plt.xlabel(\"Country\")\n",
    "plt.ylabel(\"Max Wind speeds (in knots)\")\n",
    "plt.show()"
   ]
  },
  {
   "cell_type": "code",
   "execution_count": 33,
   "metadata": {},
   "outputs": [
    {
     "data": {
      "text/plain": [
       "KMeans(algorithm='auto', copy_x=True, init='k-means++', max_iter=300,\n",
       "       n_clusters=5, n_init=10, n_jobs=None, precompute_distances='auto',\n",
       "       random_state=None, tol=0.0001, verbose=0)"
      ]
     },
     "execution_count": 33,
     "metadata": {},
     "output_type": "execute_result"
    }
   ],
   "source": [
    "Kmean = KMeans(n_clusters=5)\n",
    "Kmean.fit(X)"
   ]
  },
  {
   "cell_type": "code",
   "execution_count": 34,
   "metadata": {},
   "outputs": [
    {
     "data": {
      "text/plain": [
       "array([[  9.03333333,  92.33333333],\n",
       "       [ 18.0952381 ,  71.42857143],\n",
       "       [ 11.61538462, 114.61538462],\n",
       "       [ 12.875     , 137.5       ],\n",
       "       [  6.        ,  70.90909091]])"
      ]
     },
     "execution_count": 34,
     "metadata": {},
     "output_type": "execute_result"
    }
   ],
   "source": [
    "Kmean.cluster_centers_"
   ]
  },
  {
   "cell_type": "code",
   "execution_count": 36,
   "metadata": {},
   "outputs": [
    {
     "data": {
      "image/png": "[encoded data removed]",
      "text/plain": [
       "<Figure size 432x288 with 1 Axes>"
      ]
     },
     "metadata": {
      "needs_background": "light"
     },
     "output_type": "display_data"
    }
   ],
   "source": [
    "plt.scatter(X[\"Landfall\\nCountry\"], X[\"Max\\nWinds\\n(kts)\"], c='black')\n",
    "for center in Kmean.cluster_centers_:\n",
    "    plt.scatter(center[0], center[1], s=200, c='g', marker='s')\n",
    "plt.show()    "
   ]
  },
  {
   "cell_type": "code",
   "execution_count": null,
   "metadata": {},
   "outputs": [],
   "source": []
  }
 ],
 "metadata": {
  "kernelspec": {
   "display_name": "Python 3",
   "language": "python",
   "name": "python3"
  },
  "language_info": {
   "codemirror_mode": {
    "name": "ipython",
    "version": 3
   },
   "file_extension": ".py",
   "mimetype": "text/x-python",
   "name": "python",
   "nbconvert_exporter": "python",
   "pygments_lexer": "ipython3",
   "version": "3.7.6"
  }
 },
 "nbformat": 4,
 "nbformat_minor": 4
}
