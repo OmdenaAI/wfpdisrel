{
 "cells": [
  {
   "cell_type": "markdown",
   "metadata": {},
   "source": [
    "# Clustering example\n",
    "This is a sample example using **K-means Clustering** model.\n",
    "We will use Xavier's dataset. The main goal is to have a basic understanding of clustering in order classify the cyclones."
   ]
  },
  {
   "cell_type": "code",
   "execution_count": 1,
   "metadata": {},
   "outputs": [],
   "source": [
    "# Imports\n",
    "import pandas as pd\n",
    "import numpy as np\n",
    "import matplotlib.pyplot as plt\n",
    "from sklearn.cluster import KMeans\n",
    "%matplotlib inline"
   ]
  },
  {
   "cell_type": "code",
   "execution_count": 2,
   "metadata": {},
   "outputs": [
    {
     "data": {
      "text/html": [
       "<div>\n",
       "<style scoped>\n",
       "    .dataframe tbody tr th:only-of-type {\n",
       "        vertical-align: middle;\n",
       "    }\n",
       "\n",
       "    .dataframe tbody tr th {\n",
       "        vertical-align: top;\n",
       "    }\n",
       "\n",
       "    .dataframe thead th {\n",
       "        text-align: right;\n",
       "    }\n",
       "</style>\n",
       "<table border=\"1\" class=\"dataframe\">\n",
       "  <thead>\n",
       "    <tr style=\"text-align: right;\">\n",
       "      <th></th>\n",
       "      <th>Land_sqf</th>\n",
       "      <th>Gross_sqf</th>\n",
       "      <th>Year_built</th>\n",
       "      <th>NBH_level</th>\n",
       "      <th>SALE_PRICE</th>\n",
       "      <th>YEARLY_RENT</th>\n",
       "    </tr>\n",
       "  </thead>\n",
       "  <tbody>\n",
       "    <tr>\n",
       "      <th>0</th>\n",
       "      <td>2400</td>\n",
       "      <td>1552</td>\n",
       "      <td>1930</td>\n",
       "      <td>2</td>\n",
       "      <td>220485</td>\n",
       "      <td>10900</td>\n",
       "    </tr>\n",
       "    <tr>\n",
       "      <th>1</th>\n",
       "      <td>2742</td>\n",
       "      <td>1207</td>\n",
       "      <td>1925</td>\n",
       "      <td>2</td>\n",
       "      <td>223372</td>\n",
       "      <td>8100</td>\n",
       "    </tr>\n",
       "    <tr>\n",
       "      <th>2</th>\n",
       "      <td>5610</td>\n",
       "      <td>1320</td>\n",
       "      <td>1910</td>\n",
       "      <td>5</td>\n",
       "      <td>362981</td>\n",
       "      <td>19000</td>\n",
       "    </tr>\n",
       "    <tr>\n",
       "      <th>3</th>\n",
       "      <td>1758</td>\n",
       "      <td>1537</td>\n",
       "      <td>1910</td>\n",
       "      <td>5</td>\n",
       "      <td>245135</td>\n",
       "      <td>9700</td>\n",
       "    </tr>\n",
       "    <tr>\n",
       "      <th>4</th>\n",
       "      <td>1317</td>\n",
       "      <td>1339</td>\n",
       "      <td>1920</td>\n",
       "      <td>4</td>\n",
       "      <td>216477</td>\n",
       "      <td>12800</td>\n",
       "    </tr>\n",
       "  </tbody>\n",
       "</table>\n",
       "</div>"
      ],
      "text/plain": [
       "   Land_sqf  Gross_sqf  Year_built  NBH_level  SALE_PRICE  YEARLY_RENT\n",
       "0      2400       1552        1930          2      220485        10900\n",
       "1      2742       1207        1925          2      223372         8100\n",
       "2      5610       1320        1910          5      362981        19000\n",
       "3      1758       1537        1910          5      245135         9700\n",
       "4      1317       1339        1920          4      216477        12800"
      ]
     },
     "execution_count": 2,
     "metadata": {},
     "output_type": "execute_result"
    }
   ],
   "source": [
    "data = pd.read_csv('./nyc-rolling-sales-clean-1.csv', sep=\";\")\n",
    "data.head()"
   ]
  },
  {
   "cell_type": "code",
   "execution_count": 4,
   "metadata": {},
   "outputs": [
    {
     "data": {
      "text/plain": [
       "array([[  2400,   1552,   1930,      2, 220485,  10900],\n",
       "       [  2742,   1207,   1925,      2, 223372,   8100],\n",
       "       [  5610,   1320,   1910,      5, 362981,  19000],\n",
       "       ...,\n",
       "       [  1200,    450,   1987,      6, 154983,   9500],\n",
       "       [  3411,   1960,   1920,      5, 311596,  23400],\n",
       "       [  4100,   2340,   1970,      7, 408346,  25900]], dtype=int64)"
      ]
     },
     "execution_count": 4,
     "metadata": {},
     "output_type": "execute_result"
    }
   ],
   "source": [
    "# we will use all the columns as our features\n",
    "X = data.values\n",
    "X"
   ]
  },
  {
   "cell_type": "code",
   "execution_count": 5,
   "metadata": {},
   "outputs": [
    {
     "data": {
      "text/plain": [
       "KMeans(algorithm='auto', copy_x=True, init='k-means++', max_iter=300,\n",
       "       n_clusters=5, n_init=10, n_jobs=None, precompute_distances='auto',\n",
       "       random_state=None, tol=0.0001, verbose=0)"
      ]
     },
     "execution_count": 5,
     "metadata": {},
     "output_type": "execute_result"
    }
   ],
   "source": [
    "Kmean = KMeans(n_clusters=5) # we will classify the data into 5 different groups\n",
    "Kmean.fit(X)"
   ]
  },
  {
   "cell_type": "code",
   "execution_count": 7,
   "metadata": {},
   "outputs": [
    {
     "data": {
      "text/plain": [
       "array([[3.45993023e+03, 2.71502326e+03, 1.94374419e+03, 6.81395349e+00,\n",
       "        4.29338140e+05, 2.83232558e+04],\n",
       "       [1.75536207e+03, 1.09587931e+03, 1.94558621e+03, 2.89655172e+00,\n",
       "        1.69473845e+05, 8.71034483e+03],\n",
       "       [8.09240000e+03, 4.47320000e+03, 1.94500000e+03, 6.00000000e+00,\n",
       "        7.16065800e+05, 4.90200000e+04],\n",
       "       [2.25322619e+03, 1.29635714e+03, 1.93613095e+03, 4.70238095e+00,\n",
       "        2.36149679e+05, 1.41309524e+04],\n",
       "       [2.86703960e+03, 1.63967327e+03, 1.93349505e+03, 6.71287129e+00,\n",
       "        3.15653733e+05, 2.16207921e+04]])"
      ]
     },
     "execution_count": 7,
     "metadata": {},
     "output_type": "execute_result"
    }
   ],
   "source": [
    "Kmean.cluster_centers_"
   ]
  },
  {
   "cell_type": "code",
   "execution_count": 7,
   "metadata": {},
   "outputs": [
    {
     "data": {
      "text/plain": [
       "array([1, 1, 3, 1, 1, 1, 1, 1, 1, 2, 2, 1, 2, 1, 2, 2, 2, 3, 1, 1, 1, 0,\n",
       "       0, 3, 0, 1, 1, 1, 3, 3, 1, 2, 2, 1, 0, 3, 3, 0, 4, 1, 2, 1, 3, 2,\n",
       "       2, 2, 0, 3, 3, 3, 3, 2, 1, 3, 2, 2, 3, 3, 3, 3, 2, 1, 3, 2, 2, 2,\n",
       "       3, 3, 3, 3, 2, 0, 3, 3, 3, 4, 3, 1, 1, 1, 2, 2, 1, 1, 3, 3, 0, 0,\n",
       "       0, 3, 2, 1, 3, 2, 2, 2, 3, 1, 3, 2, 2, 3, 3, 0, 1, 0, 0, 2, 2, 1,\n",
       "       1, 3, 0, 3, 2, 1, 3, 1, 2, 2, 3, 3, 3, 0, 4, 3, 0, 2, 3, 1, 3, 3,\n",
       "       2, 3, 2, 1, 1, 1, 3, 0, 1, 2, 2, 3, 1, 1, 1, 2, 1, 1, 1, 0, 0, 0,\n",
       "       0, 3, 3, 3, 1, 1, 2, 2, 2, 3, 3, 1, 0, 3, 3, 0, 0, 1, 3, 3, 3, 3,\n",
       "       1, 3, 3, 1, 3, 3, 3, 1, 1, 3, 1, 2, 1, 0, 0, 2, 0, 3, 1, 1, 1, 3,\n",
       "       3, 3, 0, 3, 3, 3, 1, 4, 1, 2, 2, 2, 1, 3, 3, 2, 3, 3, 1, 1, 0, 1,\n",
       "       3, 1, 0, 3, 1, 1, 1, 1, 2, 3, 3, 1, 2, 0, 0, 0, 1, 2, 2, 2, 1, 3,\n",
       "       3, 1, 3, 0, 3, 1, 0, 0, 2, 3, 1, 3, 1, 3, 3, 1, 1, 3, 1, 0, 2, 3,\n",
       "       3, 1, 0, 4, 3, 3, 1, 2, 0, 1, 1, 3, 0, 1, 2, 3, 3, 0, 0, 3, 3, 3,\n",
       "       3, 3, 2, 3, 0])"
      ]
     },
     "execution_count": 7,
     "metadata": {},
     "output_type": "execute_result"
    }
   ],
   "source": [
    "Kmean.labels_\n",
    "# we have 5 groups, 0, 1, 2, 3 and 4\n",
    "# each item in X corresponds to each item in the following array"
   ]
  },
  {
   "cell_type": "code",
   "execution_count": null,
   "metadata": {},
   "outputs": [],
   "source": []
  }
 ],
 "metadata": {
  "kernelspec": {
   "display_name": "Python 3",
   "language": "python",
   "name": "python3"
  },
  "language_info": {
   "codemirror_mode": {
    "name": "ipython",
    "version": 3
   },
   "file_extension": ".py",
   "mimetype": "text/x-python",
   "name": "python",
   "nbconvert_exporter": "python",
   "pygments_lexer": "ipython3",
   "version": "3.7.6"
  }
 },
 "nbformat": 4,
 "nbformat_minor": 4
}
