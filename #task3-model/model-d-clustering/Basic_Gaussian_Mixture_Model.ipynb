{
  "nbformat": 4,
  "nbformat_minor": 0,
  "metadata": {
    "colab": {
      "name": "GMM.iPynb",
      "provenance": []
    },
    "kernelspec": {
      "name": "python3",
      "display_name": "Python 3"
    }
  },
  "cells": [
    {
      "cell_type": "code",
      "metadata": {
        "id": "mhLWKsvH81Gu",
        "colab_type": "code",
        "colab": {}
      },
      "source": [
        "import numpy as np\n",
        "import pandas as pd\n",
        "import matplotlib.pyplot as plt\n",
        "from sklearn.mixture import GaussianMixture as GMM\n",
        "from sklearn.metrics import accuracy_score"
      ],
      "execution_count": 0,
      "outputs": []
    },
    {
      "cell_type": "code",
      "metadata": {
        "id": "eIldKe8A9UT2",
        "colab_type": "code",
        "colab": {}
      },
      "source": [
        "from google.colab import drive"
      ],
      "execution_count": 0,
      "outputs": []
    },
    {
      "cell_type": "code",
      "metadata": {
        "id": "nKpAHGva9gFN",
        "colab_type": "code",
        "outputId": "3b1c7f95-8ad6-4057-d850-96193e6d68c0",
        "colab": {
          "base_uri": "https://localhost:8080/",
          "height": 34
        }
      },
      "source": [
        "drive.mount(\"/content/drive\")"
      ],
      "execution_count": 44,
      "outputs": [
        {
          "output_type": "stream",
          "text": [
            "Drive already mounted at /content/drive; to attempt to forcibly remount, call drive.mount(\"/content/drive\", force_remount=True).\n"
          ],
          "name": "stdout"
        }
      ]
    },
    {
      "cell_type": "code",
      "metadata": {
        "id": "taIR_GPJ_EHt",
        "colab_type": "code",
        "outputId": "edf769f8-a53c-47d8-f48a-e362bc44a886",
        "colab": {
          "base_uri": "https://localhost:8080/",
          "height": 34
        }
      },
      "source": [
        "%cd \"/content/drive/My Drive/\""
      ],
      "execution_count": 45,
      "outputs": [
        {
          "output_type": "stream",
          "text": [
            "/content/drive/My Drive\n"
          ],
          "name": "stdout"
        }
      ]
    },
    {
      "cell_type": "code",
      "metadata": {
        "id": "OoE4rHoE9mQj",
        "colab_type": "code",
        "colab": {}
      },
      "source": [
        "df = pd.read_excel(\"Master_1068_18Apr.xlsx\")"
      ],
      "execution_count": 0,
      "outputs": []
    },
    {
      "cell_type": "code",
      "metadata": {
        "id": "v6wAqn73-4aA",
        "colab_type": "code",
        "outputId": "765feeb3-32e9-41e7-a5e0-9660af60f56d",
        "colab": {
          "base_uri": "https://localhost:8080/",
          "height": 669
        }
      },
      "source": [
        "df.head()"
      ],
      "execution_count": 47,
      "outputs": [
        {
          "output_type": "execute_result",
          "data": {
            "text/html": [
              "<div>\n",
              "<style scoped>\n",
              "    .dataframe tbody tr th:only-of-type {\n",
              "        vertical-align: middle;\n",
              "    }\n",
              "\n",
              "    .dataframe tbody tr th {\n",
              "        vertical-align: top;\n",
              "    }\n",
              "\n",
              "    .dataframe thead th {\n",
              "        text-align: right;\n",
              "    }\n",
              "</style>\n",
              "<table border=\"1\" class=\"dataframe\">\n",
              "  <thead>\n",
              "    <tr style=\"text-align: right;\">\n",
              "      <th></th>\n",
              "      <th>SID</th>\n",
              "      <th>NAME</th>\n",
              "      <th>ISO</th>\n",
              "      <th>YEAR_MIN</th>\n",
              "      <th>BASIN</th>\n",
              "      <th>SUBBASIN</th>\n",
              "      <th>SUBBASIN EDITED</th>\n",
              "      <th>NATURE</th>\n",
              "      <th>TRACK_TYPE</th>\n",
              "      <th>ISO_TIME</th>\n",
              "      <th>COORDS</th>\n",
              "      <th>TOTAL_HRS</th>\n",
              "      <th>DAY_HRS</th>\n",
              "      <th>NIGHT_HRS</th>\n",
              "      <th>USA_SSHS</th>\n",
              "      <th>USA_SSHS EDITED</th>\n",
              "      <th>WIND_CALC_MEAN (v_land_kn to be used)</th>\n",
              "      <th>PRES_CALC_MEAN</th>\n",
              "      <th>STORM_SPD_MEAN</th>\n",
              "      <th>STORM_DR_MEAN</th>\n",
              "      <th>V_LAND_KN</th>\n",
              "      <th>34KN_POP</th>\n",
              "      <th>34KN_ASSETS</th>\n",
              "      <th>64KN_POP</th>\n",
              "      <th>64KN_ASSETS</th>\n",
              "      <th>96KN_POP</th>\n",
              "      <th>96KN_ASSETS</th>\n",
              "      <th>CPI</th>\n",
              "      <th>TOTAL_DAMAGE_(000$)</th>\n",
              "      <th>Total Affected]</th>\n",
              "    </tr>\n",
              "  </thead>\n",
              "  <tbody>\n",
              "    <tr>\n",
              "      <th>0</th>\n",
              "      <td>1949163N07145</td>\n",
              "      <td>DELLA</td>\n",
              "      <td>JPN</td>\n",
              "      <td>1949</td>\n",
              "      <td>WP</td>\n",
              "      <td>WP</td>\n",
              "      <td>NaN</td>\n",
              "      <td>TS</td>\n",
              "      <td>main</td>\n",
              "      <td>['1949-06-21 03:00:00', '1949-06-22 03:00:00',...</td>\n",
              "      <td>[[35.67, 130.99], [38.35, 135.07], [38.82, 136...</td>\n",
              "      <td>0</td>\n",
              "      <td>0</td>\n",
              "      <td>0</td>\n",
              "      <td>0</td>\n",
              "      <td>NaN</td>\n",
              "      <td>39.133333</td>\n",
              "      <td>1000.333333</td>\n",
              "      <td>19.0</td>\n",
              "      <td>91.444444</td>\n",
              "      <td>99.820</td>\n",
              "      <td>NaN</td>\n",
              "      <td>NaN</td>\n",
              "      <td>NaN</td>\n",
              "      <td>NaN</td>\n",
              "      <td>NaN</td>\n",
              "      <td>NaN</td>\n",
              "      <td>9.327572</td>\n",
              "      <td>NaN</td>\n",
              "      <td>194046</td>\n",
              "    </tr>\n",
              "    <tr>\n",
              "      <th>1</th>\n",
              "      <td>1950241N23140</td>\n",
              "      <td>JANE</td>\n",
              "      <td>JPN</td>\n",
              "      <td>1950</td>\n",
              "      <td>WP</td>\n",
              "      <td>WP</td>\n",
              "      <td>NaN</td>\n",
              "      <td>ET</td>\n",
              "      <td>main</td>\n",
              "      <td>['1950-09-02 18:00:00', '1950-09-03 12:00:00',...</td>\n",
              "      <td>[[31.71, 134.12], [38.48, 137.98], [46.7, 152.8]]</td>\n",
              "      <td>6</td>\n",
              "      <td>0</td>\n",
              "      <td>6</td>\n",
              "      <td>-1</td>\n",
              "      <td>NaN</td>\n",
              "      <td>76.400000</td>\n",
              "      <td>974.833333</td>\n",
              "      <td>23.0</td>\n",
              "      <td>37.666667</td>\n",
              "      <td>99.820</td>\n",
              "      <td>NaN</td>\n",
              "      <td>NaN</td>\n",
              "      <td>NaN</td>\n",
              "      <td>NaN</td>\n",
              "      <td>NaN</td>\n",
              "      <td>NaN</td>\n",
              "      <td>9.431937</td>\n",
              "      <td>NaN</td>\n",
              "      <td>642117</td>\n",
              "    </tr>\n",
              "    <tr>\n",
              "      <th>2</th>\n",
              "      <td>1951224N12316</td>\n",
              "      <td>CHARLIE</td>\n",
              "      <td>JAM</td>\n",
              "      <td>1951</td>\n",
              "      <td>NAm</td>\n",
              "      <td>NAm</td>\n",
              "      <td>NaN</td>\n",
              "      <td>TS</td>\n",
              "      <td>main</td>\n",
              "      <td>['1951-08-17 21:00:00', '1951-08-18 12:00:00']</td>\n",
              "      <td>[[17.34, -75.41], [18.3, -79.4]]</td>\n",
              "      <td>15</td>\n",
              "      <td>0</td>\n",
              "      <td>15</td>\n",
              "      <td>1</td>\n",
              "      <td>NaN</td>\n",
              "      <td>88.500000</td>\n",
              "      <td>974.500000</td>\n",
              "      <td>15.5</td>\n",
              "      <td>283.500000</td>\n",
              "      <td>132.400</td>\n",
              "      <td>2788659.0</td>\n",
              "      <td>2.148198e+10</td>\n",
              "      <td>2788659.0</td>\n",
              "      <td>2.148198e+10</td>\n",
              "      <td>2552903.0</td>\n",
              "      <td>1.948346e+10</td>\n",
              "      <td>10.175534</td>\n",
              "      <td>56000.0</td>\n",
              "      <td>20200</td>\n",
              "    </tr>\n",
              "    <tr>\n",
              "      <th>3</th>\n",
              "      <td>1951337N09150</td>\n",
              "      <td>AMY</td>\n",
              "      <td>PHL</td>\n",
              "      <td>1951</td>\n",
              "      <td>WP</td>\n",
              "      <td>WP</td>\n",
              "      <td>NaN</td>\n",
              "      <td>TS</td>\n",
              "      <td>main</td>\n",
              "      <td>['1951-12-08 18:00:00', '1951-12-08 21:00:00',...</td>\n",
              "      <td>[[11.52, 127.35], [11.34, 127.09], [11.17, 126...</td>\n",
              "      <td>15</td>\n",
              "      <td>0</td>\n",
              "      <td>15</td>\n",
              "      <td>2</td>\n",
              "      <td>NaN</td>\n",
              "      <td>84.488235</td>\n",
              "      <td>979.549020</td>\n",
              "      <td>3.0</td>\n",
              "      <td>161.647059</td>\n",
              "      <td>119.200</td>\n",
              "      <td>20464826.0</td>\n",
              "      <td>1.880275e+11</td>\n",
              "      <td>12675908.0</td>\n",
              "      <td>1.131051e+11</td>\n",
              "      <td>5618193.0</td>\n",
              "      <td>4.897333e+10</td>\n",
              "      <td>10.175534</td>\n",
              "      <td>NaN</td>\n",
              "      <td>60000</td>\n",
              "    </tr>\n",
              "    <tr>\n",
              "      <th>4</th>\n",
              "      <td>1952180N05144</td>\n",
              "      <td>EMMA</td>\n",
              "      <td>PHL</td>\n",
              "      <td>1952</td>\n",
              "      <td>WP</td>\n",
              "      <td>WP</td>\n",
              "      <td>NaN</td>\n",
              "      <td>TS</td>\n",
              "      <td>main</td>\n",
              "      <td>['1952-07-01 18:00:00', '1952-07-01 21:00:00',...</td>\n",
              "      <td>[[9.57, 127.79], [9.63, 127.19], [12.38, 119.4...</td>\n",
              "      <td>3</td>\n",
              "      <td>2</td>\n",
              "      <td>1</td>\n",
              "      <td>1</td>\n",
              "      <td>NaN</td>\n",
              "      <td>83.920000</td>\n",
              "      <td>980.600000</td>\n",
              "      <td>10.8</td>\n",
              "      <td>291.400000</td>\n",
              "      <td>110.691</td>\n",
              "      <td>NaN</td>\n",
              "      <td>NaN</td>\n",
              "      <td>NaN</td>\n",
              "      <td>NaN</td>\n",
              "      <td>NaN</td>\n",
              "      <td>NaN</td>\n",
              "      <td>10.410354</td>\n",
              "      <td>NaN</td>\n",
              "      <td>103</td>\n",
              "    </tr>\n",
              "  </tbody>\n",
              "</table>\n",
              "</div>"
            ],
            "text/plain": [
              "             SID     NAME  ISO  ...        CPI TOTAL_DAMAGE_(000$) Total Affected]\n",
              "0  1949163N07145    DELLA  JPN  ...   9.327572                 NaN          194046\n",
              "1  1950241N23140     JANE  JPN  ...   9.431937                 NaN          642117\n",
              "2  1951224N12316  CHARLIE  JAM  ...  10.175534             56000.0           20200\n",
              "3  1951337N09150      AMY  PHL  ...  10.175534                 NaN           60000\n",
              "4  1952180N05144     EMMA  PHL  ...  10.410354                 NaN             103\n",
              "\n",
              "[5 rows x 30 columns]"
            ]
          },
          "metadata": {
            "tags": []
          },
          "execution_count": 47
        }
      ]
    },
    {
      "cell_type": "code",
      "metadata": {
        "id": "OZDf6bEmAdiE",
        "colab_type": "code",
        "outputId": "a55167d2-aefd-4c61-dbfb-6803bde4989b",
        "colab": {
          "base_uri": "https://localhost:8080/",
          "height": 562
        }
      },
      "source": [
        "df.apply(lambda x: x.isnull().sum(),axis = 0)"
      ],
      "execution_count": 48,
      "outputs": [
        {
          "output_type": "execute_result",
          "data": {
            "text/plain": [
              "SID                                         0\n",
              "NAME                                        0\n",
              "ISO                                         0\n",
              "YEAR_MIN                                    0\n",
              "BASIN                                       0\n",
              "SUBBASIN                                    0\n",
              "SUBBASIN EDITED                          1057\n",
              "NATURE                                      0\n",
              "TRACK_TYPE                                  0\n",
              "ISO_TIME                                    0\n",
              "COORDS                                      0\n",
              "TOTAL_HRS                                   0\n",
              "DAY_HRS                                     0\n",
              "NIGHT_HRS                                   0\n",
              "USA_SSHS                                    0\n",
              "USA_SSHS EDITED                          1060\n",
              "WIND_CALC_MEAN (v_land_kn to be used)       3\n",
              "PRES_CALC_MEAN                              0\n",
              "STORM_SPD_MEAN                              0\n",
              "STORM_DR_MEAN                               0\n",
              "V_LAND_KN                                   0\n",
              "34KN_POP                                  249\n",
              "34KN_ASSETS                               249\n",
              "64KN_POP                                  249\n",
              "64KN_ASSETS                               249\n",
              "96KN_POP                                  249\n",
              "96KN_ASSETS                               249\n",
              "CPI                                         0\n",
              "TOTAL_DAMAGE_(000$)                       333\n",
              "Total Affected]                             0\n",
              "dtype: int64"
            ]
          },
          "metadata": {
            "tags": []
          },
          "execution_count": 48
        }
      ]
    },
    {
      "cell_type": "code",
      "metadata": {
        "id": "RgByT83JB0Dg",
        "colab_type": "code",
        "colab": {}
      },
      "source": [
        "df1 = df[[\"NAME\",\"ISO\",\"YEAR_MIN\",\"BASIN\",\"TOTAL_HRS\",\"WIND_CALC_MEAN (v_land_kn to be used)\",\"PRES_CALC_MEAN\",\"STORM_SPD_MEAN\",\"34KN_POP\",\"64KN_POP\",\"Total Affected]\"]]"
      ],
      "execution_count": 0,
      "outputs": []
    },
    {
      "cell_type": "code",
      "metadata": {
        "id": "99ydRZ73CtrA",
        "colab_type": "code",
        "outputId": "04d316d0-dd7f-4353-8d64-241e73606c1e",
        "colab": {
          "base_uri": "https://localhost:8080/",
          "height": 105
        }
      },
      "source": [
        "#Dropping nan values\n",
        "df1.dropna(inplace = True)"
      ],
      "execution_count": 50,
      "outputs": [
        {
          "output_type": "stream",
          "text": [
            "/usr/local/lib/python3.6/dist-packages/ipykernel_launcher.py:1: SettingWithCopyWarning: \n",
            "A value is trying to be set on a copy of a slice from a DataFrame\n",
            "\n",
            "See the caveats in the documentation: https://pandas.pydata.org/pandas-docs/stable/user_guide/indexing.html#returning-a-view-versus-a-copy\n",
            "  \"\"\"Entry point for launching an IPython kernel.\n"
          ],
          "name": "stderr"
        }
      ]
    },
    {
      "cell_type": "code",
      "metadata": {
        "id": "a6Oc_ZScHptR",
        "colab_type": "code",
        "outputId": "f13eb7d9-8553-4f32-8c21-208de84dcff7",
        "colab": {
          "base_uri": "https://localhost:8080/",
          "height": 34
        }
      },
      "source": [
        "# Checking how many unique values are there in basin so we can change its categorical value in numeric \n",
        "df1[\"BASIN\"].unique()"
      ],
      "execution_count": 51,
      "outputs": [
        {
          "output_type": "execute_result",
          "data": {
            "text/plain": [
              "array(['NAm', 'WP', 'EP', 'SP', 'SI', 'NI'], dtype=object)"
            ]
          },
          "metadata": {
            "tags": []
          },
          "execution_count": 51
        }
      ]
    },
    {
      "cell_type": "code",
      "metadata": {
        "id": "_AAm0cBmIIfl",
        "colab_type": "code",
        "outputId": "e754c7ee-3323-4ac4-b794-7693fd02aecf",
        "colab": {
          "base_uri": "https://localhost:8080/",
          "height": 122
        }
      },
      "source": [
        "# Changed Basin Categorical value in numeric\n",
        "basin = {\"WP\": 0 ,\"NAm\": 1,\"SP\": 2,\"EP\": 3,\"SI\": 4,\"NI\":5}\n",
        "df1[\"BASIN\"] = df1[\"BASIN\"].apply(lambda x : basin[x])"
      ],
      "execution_count": 52,
      "outputs": [
        {
          "output_type": "stream",
          "text": [
            "/usr/local/lib/python3.6/dist-packages/ipykernel_launcher.py:2: SettingWithCopyWarning: \n",
            "A value is trying to be set on a copy of a slice from a DataFrame.\n",
            "Try using .loc[row_indexer,col_indexer] = value instead\n",
            "\n",
            "See the caveats in the documentation: https://pandas.pydata.org/pandas-docs/stable/user_guide/indexing.html#returning-a-view-versus-a-copy\n",
            "  \n"
          ],
          "name": "stderr"
        }
      ]
    },
    {
      "cell_type": "code",
      "metadata": {
        "id": "-4C8FcO4JodU",
        "colab_type": "code",
        "outputId": "090e2240-1912-47fc-d618-96d9567ce1a9",
        "colab": {
          "base_uri": "https://localhost:8080/",
          "height": 402
        }
      },
      "source": [
        "df1"
      ],
      "execution_count": 53,
      "outputs": [
        {
          "output_type": "execute_result",
          "data": {
            "text/html": [
              "<div>\n",
              "<style scoped>\n",
              "    .dataframe tbody tr th:only-of-type {\n",
              "        vertical-align: middle;\n",
              "    }\n",
              "\n",
              "    .dataframe tbody tr th {\n",
              "        vertical-align: top;\n",
              "    }\n",
              "\n",
              "    .dataframe thead th {\n",
              "        text-align: right;\n",
              "    }\n",
              "</style>\n",
              "<table border=\"1\" class=\"dataframe\">\n",
              "  <thead>\n",
              "    <tr style=\"text-align: right;\">\n",
              "      <th></th>\n",
              "      <th>NAME</th>\n",
              "      <th>ISO</th>\n",
              "      <th>YEAR_MIN</th>\n",
              "      <th>BASIN</th>\n",
              "      <th>TOTAL_HRS</th>\n",
              "      <th>WIND_CALC_MEAN (v_land_kn to be used)</th>\n",
              "      <th>PRES_CALC_MEAN</th>\n",
              "      <th>STORM_SPD_MEAN</th>\n",
              "      <th>34KN_POP</th>\n",
              "      <th>64KN_POP</th>\n",
              "      <th>Total Affected]</th>\n",
              "    </tr>\n",
              "  </thead>\n",
              "  <tbody>\n",
              "    <tr>\n",
              "      <th>2</th>\n",
              "      <td>CHARLIE</td>\n",
              "      <td>JAM</td>\n",
              "      <td>1951</td>\n",
              "      <td>1</td>\n",
              "      <td>15</td>\n",
              "      <td>88.500000</td>\n",
              "      <td>974.500000</td>\n",
              "      <td>15.500000</td>\n",
              "      <td>2788659.0</td>\n",
              "      <td>2788659.0</td>\n",
              "      <td>20200</td>\n",
              "    </tr>\n",
              "    <tr>\n",
              "      <th>3</th>\n",
              "      <td>AMY</td>\n",
              "      <td>PHL</td>\n",
              "      <td>1951</td>\n",
              "      <td>0</td>\n",
              "      <td>15</td>\n",
              "      <td>84.488235</td>\n",
              "      <td>979.549020</td>\n",
              "      <td>3.000000</td>\n",
              "      <td>20464826.0</td>\n",
              "      <td>12675908.0</td>\n",
              "      <td>60000</td>\n",
              "    </tr>\n",
              "    <tr>\n",
              "      <th>5</th>\n",
              "      <td>TRIX</td>\n",
              "      <td>PHL</td>\n",
              "      <td>1952</td>\n",
              "      <td>0</td>\n",
              "      <td>21</td>\n",
              "      <td>106.900000</td>\n",
              "      <td>955.208333</td>\n",
              "      <td>9.625000</td>\n",
              "      <td>43820633.0</td>\n",
              "      <td>15600481.0</td>\n",
              "      <td>349</td>\n",
              "    </tr>\n",
              "    <tr>\n",
              "      <th>6</th>\n",
              "      <td>WILMA</td>\n",
              "      <td>PHL</td>\n",
              "      <td>1952</td>\n",
              "      <td>0</td>\n",
              "      <td>12</td>\n",
              "      <td>112.800000</td>\n",
              "      <td>947.500000</td>\n",
              "      <td>15.000000</td>\n",
              "      <td>28281376.0</td>\n",
              "      <td>7957281.0</td>\n",
              "      <td>349</td>\n",
              "    </tr>\n",
              "    <tr>\n",
              "      <th>7</th>\n",
              "      <td>HAZEL</td>\n",
              "      <td>HTI</td>\n",
              "      <td>1954</td>\n",
              "      <td>1</td>\n",
              "      <td>6</td>\n",
              "      <td>105.000000</td>\n",
              "      <td>976.666667</td>\n",
              "      <td>5.333333</td>\n",
              "      <td>10396164.0</td>\n",
              "      <td>3570247.0</td>\n",
              "      <td>250000</td>\n",
              "    </tr>\n",
              "    <tr>\n",
              "      <th>...</th>\n",
              "      <td>...</td>\n",
              "      <td>...</td>\n",
              "      <td>...</td>\n",
              "      <td>...</td>\n",
              "      <td>...</td>\n",
              "      <td>...</td>\n",
              "      <td>...</td>\n",
              "      <td>...</td>\n",
              "      <td>...</td>\n",
              "      <td>...</td>\n",
              "      <td>...</td>\n",
              "    </tr>\n",
              "    <tr>\n",
              "      <th>1063</th>\n",
              "      <td>FIFI:ORLENE</td>\n",
              "      <td>HND</td>\n",
              "      <td>1974</td>\n",
              "      <td>1</td>\n",
              "      <td>21</td>\n",
              "      <td>91.769231</td>\n",
              "      <td>974.083333</td>\n",
              "      <td>9.384615</td>\n",
              "      <td>4100169.0</td>\n",
              "      <td>1756946.0</td>\n",
              "      <td>600000</td>\n",
              "    </tr>\n",
              "    <tr>\n",
              "      <th>1064</th>\n",
              "      <td>BRENDAN</td>\n",
              "      <td>KOR</td>\n",
              "      <td>1985</td>\n",
              "      <td>0</td>\n",
              "      <td>12</td>\n",
              "      <td>52.000000</td>\n",
              "      <td>986.222222</td>\n",
              "      <td>21.500000</td>\n",
              "      <td>658451.0</td>\n",
              "      <td>0.0</td>\n",
              "      <td>20</td>\n",
              "    </tr>\n",
              "    <tr>\n",
              "      <th>1065</th>\n",
              "      <td>JOAN:MIRIAM</td>\n",
              "      <td>COL</td>\n",
              "      <td>1988</td>\n",
              "      <td>1</td>\n",
              "      <td>12</td>\n",
              "      <td>75.312500</td>\n",
              "      <td>982.187500</td>\n",
              "      <td>8.250000</td>\n",
              "      <td>5858927.0</td>\n",
              "      <td>0.0</td>\n",
              "      <td>100000</td>\n",
              "    </tr>\n",
              "    <tr>\n",
              "      <th>1066</th>\n",
              "      <td>JOAN:MIRIAM</td>\n",
              "      <td>NIC</td>\n",
              "      <td>1988</td>\n",
              "      <td>3</td>\n",
              "      <td>21</td>\n",
              "      <td>86.500000</td>\n",
              "      <td>965.214286</td>\n",
              "      <td>8.571429</td>\n",
              "      <td>5840738.0</td>\n",
              "      <td>780553.0</td>\n",
              "      <td>360278</td>\n",
              "    </tr>\n",
              "    <tr>\n",
              "      <th>1067</th>\n",
              "      <td>JOAN:MIRIAM</td>\n",
              "      <td>PAN</td>\n",
              "      <td>1988</td>\n",
              "      <td>1</td>\n",
              "      <td>12</td>\n",
              "      <td>79.400000</td>\n",
              "      <td>968.000000</td>\n",
              "      <td>2.800000</td>\n",
              "      <td>799351.0</td>\n",
              "      <td>0.0</td>\n",
              "      <td>8732</td>\n",
              "    </tr>\n",
              "  </tbody>\n",
              "</table>\n",
              "<p>819 rows × 11 columns</p>\n",
              "</div>"
            ],
            "text/plain": [
              "             NAME  ISO  YEAR_MIN  ...    34KN_POP    64KN_POP  Total Affected]\n",
              "2         CHARLIE  JAM      1951  ...   2788659.0   2788659.0            20200\n",
              "3             AMY  PHL      1951  ...  20464826.0  12675908.0            60000\n",
              "5            TRIX  PHL      1952  ...  43820633.0  15600481.0              349\n",
              "6           WILMA  PHL      1952  ...  28281376.0   7957281.0              349\n",
              "7           HAZEL  HTI      1954  ...  10396164.0   3570247.0           250000\n",
              "...           ...  ...       ...  ...         ...         ...              ...\n",
              "1063  FIFI:ORLENE  HND      1974  ...   4100169.0   1756946.0           600000\n",
              "1064      BRENDAN  KOR      1985  ...    658451.0         0.0               20\n",
              "1065  JOAN:MIRIAM  COL      1988  ...   5858927.0         0.0           100000\n",
              "1066  JOAN:MIRIAM  NIC      1988  ...   5840738.0    780553.0           360278\n",
              "1067  JOAN:MIRIAM  PAN      1988  ...    799351.0         0.0             8732\n",
              "\n",
              "[819 rows x 11 columns]"
            ]
          },
          "metadata": {
            "tags": []
          },
          "execution_count": 53
        }
      ]
    },
    {
      "cell_type": "code",
      "metadata": {
        "id": "nLFwLnrQKFk3",
        "colab_type": "code",
        "colab": {}
      },
      "source": [
        "#divide dataset into training and test\n",
        "x_train = df1.iloc[0:700,3:10]\n",
        "y_train = df1.iloc[0:700,10:]\n",
        "x_test = df1.iloc[700: ,3:10]\n",
        "y_test = df1.iloc[700: ,10:]"
      ],
      "execution_count": 0,
      "outputs": []
    },
    {
      "cell_type": "code",
      "metadata": {
        "id": "SNdTAgGPiT8E",
        "colab_type": "code",
        "colab": {
          "base_uri": "https://localhost:8080/",
          "height": 276
        },
        "outputId": "639912e1-0dba-4089-9181-037d20abe2f1"
      },
      "source": [
        "# First visualizing relation of Storm Speed Mean with Total Affected\n",
        "X = x_train[[\"STORM_SPD_MEAN\"]]\n",
        "plt.scatter(X[\"STORM_SPD_MEAN\"],y_train)\n",
        "plt.show()"
      ],
      "execution_count": 55,
      "outputs": [
        {
          "output_type": "display_data",
          "data": {
            "image/png": "[encoded data removed]",
            "text/plain": [
              "<Figure size 432x288 with 1 Axes>"
            ]
          },
          "metadata": {
            "tags": [],
            "needs_background": "light"
          }
        }
      ]
    },
    {
      "cell_type": "code",
      "metadata": {
        "id": "RMIv5QWJ5eEo",
        "colab_type": "code",
        "colab": {}
      },
      "source": [
        "# Gaussian Mixture Model n_component is 5 so it will make 5 clusters\n",
        "gmm = GMM(n_components=5)"
      ],
      "execution_count": 0,
      "outputs": []
    },
    {
      "cell_type": "code",
      "metadata": {
        "id": "sY9QpG2G6JfD",
        "colab_type": "code",
        "outputId": "721a32d0-332d-4eb8-8220-3a56f9335a6b",
        "colab": {
          "base_uri": "https://localhost:8080/",
          "height": 87
        }
      },
      "source": [
        "gmm.fit(X,y_train)"
      ],
      "execution_count": 57,
      "outputs": [
        {
          "output_type": "execute_result",
          "data": {
            "text/plain": [
              "GaussianMixture(covariance_type='full', init_params='kmeans', max_iter=100,\n",
              "                means_init=None, n_components=5, n_init=1, precisions_init=None,\n",
              "                random_state=None, reg_covar=1e-06, tol=0.001, verbose=0,\n",
              "                verbose_interval=10, warm_start=False, weights_init=None)"
            ]
          },
          "metadata": {
            "tags": []
          },
          "execution_count": 57
        }
      ]
    },
    {
      "cell_type": "code",
      "metadata": {
        "id": "cJDqNPWg6PnW",
        "colab_type": "code",
        "colab": {}
      },
      "source": [
        "y_pred = gmm.predict(X)"
      ],
      "execution_count": 0,
      "outputs": []
    },
    {
      "cell_type": "code",
      "metadata": {
        "id": "E1UFzKjI6ij5",
        "colab_type": "code",
        "outputId": "ad29492f-edd3-41e5-8be6-eba00ffec663",
        "colab": {
          "base_uri": "https://localhost:8080/",
          "height": 580
        }
      },
      "source": [
        "# As we can see GMM divided total affected in 5 clusters \n",
        "y_pred"
      ],
      "execution_count": 59,
      "outputs": [
        {
          "output_type": "execute_result",
          "data": {
            "text/plain": [
              "array([0, 2, 4, 0, 2, 4, 4, 1, 2, 4, 2, 4, 0, 0, 0, 2, 2, 1, 0, 2, 2, 1,\n",
              "       0, 0, 2, 2, 2, 0, 0, 2, 1, 0, 0, 4, 2, 0, 4, 4, 4, 4, 2, 2, 0, 2,\n",
              "       4, 4, 4, 0, 2, 0, 4, 0, 4, 0, 4, 4, 0, 2, 4, 0, 3, 4, 4, 2, 0, 2,\n",
              "       0, 0, 4, 3, 0, 4, 2, 4, 4, 2, 4, 4, 4, 0, 4, 0, 4, 2, 3, 2, 0, 0,\n",
              "       4, 4, 0, 2, 4, 0, 4, 2, 0, 0, 0, 4, 3, 3, 0, 4, 4, 0, 1, 4, 0, 0,\n",
              "       4, 0, 4, 2, 2, 4, 3, 2, 0, 1, 0, 1, 4, 2, 4, 4, 4, 1, 4, 2, 3, 3,\n",
              "       4, 2, 2, 4, 4, 0, 2, 0, 0, 3, 4, 3, 0, 4, 1, 3, 4, 4, 0, 4, 0, 0,\n",
              "       2, 4, 2, 4, 2, 0, 4, 4, 0, 4, 0, 4, 1, 0, 2, 4, 3, 2, 2, 0, 0, 2,\n",
              "       2, 2, 0, 0, 2, 0, 0, 0, 4, 0, 4, 0, 4, 4, 3, 4, 4, 0, 2, 4, 0, 4,\n",
              "       2, 1, 4, 0, 4, 2, 3, 0, 0, 2, 2, 2, 4, 0, 4, 0, 0, 0, 3, 4, 0, 0,\n",
              "       2, 4, 0, 4, 0, 0, 4, 4, 4, 4, 3, 1, 2, 4, 2, 4, 2, 3, 4, 0, 0, 0,\n",
              "       0, 3, 1, 2, 2, 0, 2, 4, 4, 0, 0, 2, 0, 4, 3, 4, 0, 3, 0, 2, 4, 4,\n",
              "       0, 4, 0, 4, 4, 2, 2, 4, 4, 0, 3, 2, 3, 3, 0, 4, 3, 4, 0, 0, 4, 4,\n",
              "       3, 4, 4, 4, 4, 3, 4, 3, 0, 4, 4, 2, 3, 2, 3, 2, 4, 0, 4, 0, 2, 3,\n",
              "       2, 4, 2, 2, 4, 0, 3, 0, 0, 4, 4, 4, 2, 4, 4, 4, 4, 2, 0, 4, 0, 0,\n",
              "       3, 2, 2, 4, 2, 0, 0, 0, 4, 2, 2, 2, 4, 2, 1, 4, 0, 4, 2, 1, 1, 4,\n",
              "       2, 2, 2, 4, 2, 2, 4, 4, 0, 0, 4, 2, 0, 0, 4, 0, 2, 3, 2, 2, 1, 4,\n",
              "       4, 4, 0, 2, 4, 2, 4, 3, 2, 4, 0, 4, 4, 3, 1, 4, 0, 2, 2, 4, 4, 3,\n",
              "       4, 2, 2, 2, 2, 3, 0, 4, 4, 4, 0, 2, 4, 0, 0, 4, 0, 2, 2, 3, 3, 3,\n",
              "       3, 0, 2, 4, 4, 2, 4, 4, 2, 3, 1, 0, 2, 2, 2, 3, 0, 2, 0, 4, 3, 2,\n",
              "       4, 2, 2, 3, 2, 2, 4, 0, 0, 0, 3, 0, 3, 3, 1, 3, 4, 1, 2, 2, 4, 2,\n",
              "       2, 4, 2, 0, 3, 2, 4, 4, 0, 0, 3, 3, 2, 2, 2, 2, 4, 4, 1, 4, 0, 4,\n",
              "       0, 0, 4, 2, 2, 4, 0, 3, 1, 0, 2, 0, 4, 0, 0, 0, 0, 0, 0, 0, 2, 2,\n",
              "       4, 0, 0, 4, 4, 3, 0, 3, 0, 4, 4, 4, 4, 0, 4, 1, 0, 2, 3, 0, 0, 2,\n",
              "       4, 4, 4, 0, 2, 4, 3, 4, 0, 2, 4, 4, 4, 4, 4, 4, 4, 3, 4, 4, 4, 4,\n",
              "       4, 4, 4, 0, 4, 2, 2, 2, 0, 2, 2, 3, 2, 4, 3, 0, 0, 3, 0, 4, 0, 4,\n",
              "       3, 2, 4, 4, 0, 2, 2, 0, 4, 0, 2, 0, 2, 0, 3, 4, 4, 2, 4, 2, 4, 4,\n",
              "       0, 4, 2, 2, 4, 0, 2, 4, 4, 2, 2, 2, 4, 0, 0, 2, 4, 2, 4, 3, 0, 4,\n",
              "       4, 3, 2, 0, 0, 4, 4, 0, 0, 3, 0, 2, 3, 4, 2, 4, 2, 2, 0, 2, 0, 0,\n",
              "       0, 4, 0, 4, 2, 0, 1, 2, 4, 4, 2, 0, 2, 2, 3, 0, 0, 4, 2, 4, 2, 2,\n",
              "       0, 4, 0, 4, 4, 0, 0, 4, 4, 4, 4, 4, 0, 2, 4, 2, 4, 0, 4, 4, 0, 0,\n",
              "       2, 0, 4, 4, 0, 2, 2, 3, 4, 4, 0, 4, 0, 2, 0, 2, 4, 4])"
            ]
          },
          "metadata": {
            "tags": []
          },
          "execution_count": 59
        }
      ]
    },
    {
      "cell_type": "code",
      "metadata": {
        "id": "YBbHhMwVPe3S",
        "colab_type": "code",
        "colab": {
          "base_uri": "https://localhost:8080/",
          "height": 280
        },
        "outputId": "a9bf7bd2-7c05-4a8a-95fe-570aa6a9a955"
      },
      "source": [
        "# 2-D visualization of clusters\n",
        "plt.scatter(X,y_pred)\n",
        "plt.xlabel(\"STORM_SPD_MEAN\")\n",
        "plt.ylabel(\"Total Affected\")\n",
        "plt.show()"
      ],
      "execution_count": 60,
      "outputs": [
        {
          "output_type": "display_data",
          "data": {
            "image/png": "[encoded data removed]",
            "text/plain": [
              "<Figure size 432x288 with 1 Axes>"
            ]
          },
          "metadata": {
            "tags": [],
            "needs_background": "light"
          }
        }
      ]
    },
    {
      "cell_type": "code",
      "metadata": {
        "id": "i3WKkmgiUnNS",
        "colab_type": "code",
        "colab": {}
      },
      "source": [
        "# Using GMM for prediction on test dataset\n",
        "pred1 = gmm.predict(x_test[[\"STORM_SPD_MEAN\"]])"
      ],
      "execution_count": 0,
      "outputs": []
    },
    {
      "cell_type": "code",
      "metadata": {
        "id": "zuSYM9zkUnLV",
        "colab_type": "code",
        "colab": {
          "base_uri": "https://localhost:8080/",
          "height": 280
        },
        "outputId": "b8a8bc4b-eda0-4268-8fba-1d52fdbc6687"
      },
      "source": [
        "# 2D visualization of clusters on test dataset. AND WE CAN SEE IT'S NOT DOING MUCH WELL BECAUSE CLUSTERING ALGOS ARE NOT GOOD FOR PREDICTION.\n",
        "plt.scatter(x_test[[\"STORM_SPD_MEAN\"]],pred1)\n",
        "plt.xlabel(\"STORM_SPD_MEAN\")\n",
        "plt.ylabel(\"Total Affected\")\n",
        "plt.show()"
      ],
      "execution_count": 62,
      "outputs": [
        {
          "output_type": "display_data",
          "data": {
            "image/png": "[encoded data removed]",
            "text/plain": [
              "<Figure size 432x288 with 1 Axes>"
            ]
          },
          "metadata": {
            "tags": [],
            "needs_background": "light"
          }
        }
      ]
    },
    {
      "cell_type": "code",
      "metadata": {
        "id": "yjoAcq9fkTkT",
        "colab_type": "code",
        "colab": {}
      },
      "source": [
        "# ABOVE SAME PROCESS IS DOING FOR PRES_CALC_MEAN AND TOTAL AFFECTED\n",
        "pred2 = gmm.fit(x_train[[\"PRES_CALC_MEAN\"]],y_train).predict(x_train[[\"PRES_CALC_MEAN\"]])"
      ],
      "execution_count": 0,
      "outputs": []
    },
    {
      "cell_type": "code",
      "metadata": {
        "id": "1Cru1a9AnJSn",
        "colab_type": "code",
        "colab": {
          "base_uri": "https://localhost:8080/",
          "height": 291
        },
        "outputId": "a23db82d-8393-47a5-85a2-8b9cb1de9cb3"
      },
      "source": [
        "plt.scatter(x_train[[\"PRES_CALC_MEAN\"]],y_train)\n",
        "plt.xlabel(\"PRES_CALC_MEAN\")\n",
        "plt.ylabel(\"Total Affected\")\n",
        "plt.show()"
      ],
      "execution_count": 64,
      "outputs": [
        {
          "output_type": "display_data",
          "data": {
            "image/png": "[encoded data removed]",
            "text/plain": [
              "<Figure size 432x288 with 1 Axes>"
            ]
          },
          "metadata": {
            "tags": [],
            "needs_background": "light"
          }
        }
      ]
    },
    {
      "cell_type": "code",
      "metadata": {
        "id": "34s6A5xMl4KA",
        "colab_type": "code",
        "colab": {
          "base_uri": "https://localhost:8080/",
          "height": 280
        },
        "outputId": "a76a47df-72a7-4a2e-dc74-c6ac6af866b3"
      },
      "source": [
        "plt.scatter(x_train[[\"PRES_CALC_MEAN\"]],pred2)\n",
        "plt.xlabel(\"PRES_CALC_MEAN\")\n",
        "plt.ylabel(\"Total Affected\")\n",
        "plt.show()"
      ],
      "execution_count": 65,
      "outputs": [
        {
          "output_type": "display_data",
          "data": {
            "image/png": "[encoded data removed]",
            "text/plain": [
              "<Figure size 432x288 with 1 Axes>"
            ]
          },
          "metadata": {
            "tags": [],
            "needs_background": "light"
          }
        }
      ]
    },
    {
      "cell_type": "code",
      "metadata": {
        "id": "i0v9RFecmeoU",
        "colab_type": "code",
        "colab": {}
      },
      "source": [
        "pred3 = gmm.predict(x_test[[\"PRES_CALC_MEAN\"]])"
      ],
      "execution_count": 0,
      "outputs": []
    },
    {
      "cell_type": "code",
      "metadata": {
        "id": "mdTxjGzdW0_h",
        "colab_type": "code",
        "colab": {
          "base_uri": "https://localhost:8080/",
          "height": 280
        },
        "outputId": "41bf33d1-284e-4d8e-8ef1-89f18cfd0ea9"
      },
      "source": [
        "plt.scatter(x_test[[\"PRES_CALC_MEAN\"]],pred3)\n",
        "plt.xlabel(\"PRES_CALC_MEAN\")\n",
        "plt.ylabel(\"Total Affected\")\n",
        "plt.show()"
      ],
      "execution_count": 67,
      "outputs": [
        {
          "output_type": "display_data",
          "data": {
            "image/png": "[encoded data removed]",
            "text/plain": [
              "<Figure size 432x288 with 1 Axes>"
            ]
          },
          "metadata": {
            "tags": [],
            "needs_background": "light"
          }
        }
      ]
    },
    {
      "cell_type": "code",
      "metadata": {
        "id": "cX3R_wkyXKXS",
        "colab_type": "code",
        "colab": {}
      },
      "source": [
        ""
      ],
      "execution_count": 0,
      "outputs": []
    }
  ]
}