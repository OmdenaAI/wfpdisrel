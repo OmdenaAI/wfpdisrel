{
 "cells": [
  {
   "cell_type": "markdown",
   "metadata": {
    "colab_type": "text",
    "id": "mWNIL2-BMgAl"
   },
   "source": [
    "We will try using Multi-output Decision Tree Regression using XavierTorres'dataset."
   ]
  },
  {
   "cell_type": "code",
   "execution_count": 8,
   "metadata": {
    "colab": {
     "base_uri": "https://localhost:8080/",
     "height": 443
    },
    "colab_type": "code",
    "id": "a38lZ2nVutVv",
    "outputId": "57e12284-f694-4a7a-9397-bdad02fa9c48"
   },
   "outputs": [
    {
     "data": {
      "text/plain": [
       "[0.48840424948928723, 0.48840424948928723]"
      ]
     },
     "execution_count": 8,
     "metadata": {},
     "output_type": "execute_result"
    }
   ],
   "source": [
    "import pandas as pd\n",
    "import numpy as np\n",
    "import io\n",
    "import matplotlib.pyplot as plt\n",
    "from sklearn.model_selection import train_test_split\n",
    "from sklearn.tree import DecisionTreeRegressor\n",
    "from sklearn.metrics import r2_score, mean_squared_error\n",
    "from sklearn.multioutput import RegressorChain\n",
    "\n",
    "from warnings import simplefilter\n",
    "simplefilter(action='ignore', category=FutureWarning)\n",
    "\n",
    "df = pd.read_csv('./nyc-rolling-sales-clean-1.csv', sep=\";\")\n",
    "\n",
    "features = ['Land_sqf', 'Gross_sqf', 'Year_built', 'NBH_level']\n",
    "labels = ['SALE_PRICE', 'YEARLY_RENT']\n",
    "\n",
    "X = df[features].values\n",
    "y = df[labels].values\n",
    "\n",
    "train_X, val_X, train_y, val_y = train_test_split(X, y, random_state=1)\n",
    "\n",
    "regr_1 = DecisionTreeRegressor(max_depth=2)\n",
    "# regr_2 = DecisionTreeRegressor(max_depth=5)\n",
    "# regr_3 = DecisionTreeRegressor(max_depth=8)\n",
    "# regr_4 = DecisionTreeRegressor(criterion='mse', max_depth=3)\n",
    "\n",
    "# regr_1.fit(train_X, train_y)\n",
    "# regr_2.fit(train_X, train_y)\n",
    "# regr_3.fit(train_X, train_y)\n",
    "# regr_4.fit(train_X, train_y)\n",
    "\n",
    "# y_1 = regr_1.predict(val_X)\n",
    "# y_2 = regr_2.predict(val_X)\n",
    "# y_3 = regr_3.predict(val_X)\n",
    "# y_4 = regr_4.predict(val_X)\n",
    "\n",
    "chains = [RegressorChain(regr_1, order='random', random_state=1) for i in range(2)]\n",
    "for chain in chains:\n",
    "    chain.fit(train_X, train_y)\n",
    "y_pred_chains = np.array([chain.predict(val_X) for chain in chains])\n",
    "chain_scores = [chain.score(val_X, val_y) for chain in chains]\n",
    "chain_scores\n",
    "\n",
    "# print(\"r2 for y_1\", r2_score(val_y, y_1))\n",
    "# print(\"r2 for y_2\", r2_score(val_y, y_2))\n",
    "# print(\"r2 for y_3\", r2_score(val_y, y_3))\n",
    "\n",
    "# print(\"MSE for y_1\", mean_squared_error(val_y, y_1))\n",
    "# print(\"MSE for y_2\", mean_squared_error(val_y, y_2))\n",
    "# print(\"MSE for y_3\", mean_squared_error(val_y, y_3))"
   ]
  }
 ],
 "metadata": {
  "colab": {
   "name": "Multi-output Decision Tree Regression_v1",
   "provenance": []
  },
  "kernelspec": {
   "display_name": "Python 3",
   "language": "python",
   "name": "python3"
  },
  "language_info": {
   "codemirror_mode": {
    "name": "ipython",
    "version": 3
   },
   "file_extension": ".py",
   "mimetype": "text/x-python",
   "name": "python",
   "nbconvert_exporter": "python",
   "pygments_lexer": "ipython3",
   "version": "3.7.6"
  }
 },
 "nbformat": 4,
 "nbformat_minor": 1
}
