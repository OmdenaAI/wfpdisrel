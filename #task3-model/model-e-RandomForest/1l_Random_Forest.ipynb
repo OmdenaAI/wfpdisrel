{
 "cells": [
  {
   "cell_type": "markdown",
   "metadata": {},
   "source": [
    "# Random Forest Regression - World Food Program Disaster Relief -\n",
    "\n",
    "*@XavierTorres*"
   ]
  },
  {
   "cell_type": "code",
   "execution_count": 1,
   "metadata": {},
   "outputs": [],
   "source": [
    "import pandas as pd\n",
    "import numpy as np\n",
    "from matplotlib import pyplot as plt\n",
    "%matplotlib inline\n",
    "import seaborn as sns\n",
    "from datetime import datetime\n",
    "import math"
   ]
  },
  {
   "cell_type": "code",
   "execution_count": 2,
   "metadata": {},
   "outputs": [],
   "source": [
    "from sklearn.model_selection import cross_val_score, GridSearchCV\n",
    "from sklearn.ensemble import RandomForestRegressor\n",
    "from sklearn.preprocessing import MinMaxScaler\n",
    "from sklearn import preprocessing\n",
    "from sklearn.model_selection import train_test_split\n",
    "from sklearn.model_selection import cross_val_score, KFold\n",
    "from sklearn.metrics import mean_squared_error, r2_score\n",
    "from warnings import simplefilter"
   ]
  },
  {
   "cell_type": "code",
   "execution_count": 3,
   "metadata": {},
   "outputs": [],
   "source": [
    "df = pd.read_csv(r'Data_input/OUTPUT_WBI_exposer_cyclones_v14.csv', sep=\";\")"
   ]
  },
  {
   "cell_type": "code",
   "execution_count": null,
   "metadata": {},
   "outputs": [],
   "source": []
  },
  {
   "cell_type": "markdown",
   "metadata": {},
   "source": [
    "## Stratified Sampling"
   ]
  },
  {
   "cell_type": "code",
   "execution_count": 4,
   "metadata": {},
   "outputs": [],
   "source": [
    "df1 = df.copy()\n",
    "\n",
    "### Here you can add any further features that you want to include\n",
    "\n",
    "df1.reset_index(drop=True,inplace=True)"
   ]
  },
  {
   "cell_type": "code",
   "execution_count": 5,
   "metadata": {},
   "outputs": [],
   "source": [
    "df1.dropna(subset=['POP_MAX_34_ADJ'], inplace=True)"
   ]
  },
  {
   "cell_type": "markdown",
   "metadata": {},
   "source": [
    "- Finding the feature with the heighest correlation, to stratify the train and test sets\n"
   ]
  },
  {
   "cell_type": "code",
   "execution_count": 6,
   "metadata": {},
   "outputs": [
    {
     "data": {
      "text/plain": [
       "TOTAL_AFFECTED                                        1.000000\n",
       "POP_MAX_50_ADJ                                        0.386008\n",
       "POP_MAX_34_ADJ                                        0.310021\n",
       "POP_MAX_64_ADJ                                        0.209224\n",
       "Net flows from UN agencies US$                        0.201756\n",
       "34KN_POP                                              0.193702\n",
       "96KN_POP                                              0.174816\n",
       "64KN_POP                                              0.152556\n",
       "RURAL_POP(%)                                          0.122999\n",
       "MAX_WIND                                              0.105685\n",
       "TOTAL_HOURS_IN_LAND                                   0.103369\n",
       "MAX_USA_SSHS                                          0.082895\n",
       "Cereal yield (kg per hectare)                         0.077225\n",
       "YEAR                                                  0.072792\n",
       "POP_DEN_SQ_KM                                         0.067576\n",
       "TOTAL_DEATHS                                          0.056830\n",
       "MONTH_END                                             0.055628\n",
       "MONTH_START                                           0.055052\n",
       "Food production index (2004-2006 = 100)               0.051345\n",
       "TOTAL_DAMAGE_(000$)                                   0.028783\n",
       "Life expectancy at birth, total (years)               0.016735\n",
       "DISTANCE_TRACK_VINCENTY                               0.002852\n",
       "MIN_PRES                                             -0.001449\n",
       "V_LAND_KN                                            -0.009112\n",
       "96KN_ASSETS                                          -0.014271\n",
       "MAX_STORMSPEED                                       -0.014695\n",
       "DISTANCE_TRACK                                       -0.021631\n",
       "TOTAL_HOURS_EVENT                                    -0.021814\n",
       "34KN_ASSETS                                          -0.041635\n",
       "64KN_ASSETS                                          -0.052037\n",
       "Arable land (hectares per person)                    -0.059626\n",
       "HDI                                                  -0.080380\n",
       "MIN_DIST2LAND                                        -0.087982\n",
       "Adjusted savings: education expenditure (% of GNI)   -0.091634\n",
       "GDP per capita (constant 2010 US$)                   -0.110991\n",
       "Name: TOTAL_AFFECTED, dtype: float64"
      ]
     },
     "execution_count": 6,
     "metadata": {},
     "output_type": "execute_result"
    }
   ],
   "source": [
    "corr_matrix = df1.corr()\n",
    "corr_matrix['TOTAL_AFFECTED'].sort_values(ascending = False)"
   ]
  },
  {
   "cell_type": "code",
   "execution_count": 7,
   "metadata": {},
   "outputs": [],
   "source": [
    "strat_col = 'POP_MAX_34_ADJ'"
   ]
  },
  {
   "cell_type": "code",
   "execution_count": 8,
   "metadata": {},
   "outputs": [
    {
     "data": {
      "text/plain": [
       "count    9.110000e+02\n",
       "mean     2.770093e+07\n",
       "std      4.367805e+07\n",
       "min      0.000000e+00\n",
       "25%      3.072560e+06\n",
       "50%      1.099835e+07\n",
       "75%      3.286035e+07\n",
       "max      3.764972e+08\n",
       "Name: POP_MAX_34_ADJ, dtype: float64"
      ]
     },
     "execution_count": 8,
     "metadata": {},
     "output_type": "execute_result"
    }
   ],
   "source": [
    "df[strat_col].describe()"
   ]
  },
  {
   "cell_type": "markdown",
   "metadata": {},
   "source": [
    "- Create the bins and make sure that the highest values of the column are included"
   ]
  },
  {
   "cell_type": "code",
   "execution_count": 9,
   "metadata": {},
   "outputs": [
    {
     "data": {
      "text/plain": [
       "376497216.0"
      ]
     },
     "execution_count": 9,
     "metadata": {},
     "output_type": "execute_result"
    }
   ],
   "source": [
    "max(df1[strat_col])"
   ]
  },
  {
   "cell_type": "code",
   "execution_count": 10,
   "metadata": {},
   "outputs": [],
   "source": [
    "bins = [0, 10000,100000, 500000,1000000, 5000000, 10000000, 25000000, 50000000 ,100000000, 500000000]"
   ]
  },
  {
   "cell_type": "code",
   "execution_count": 11,
   "metadata": {},
   "outputs": [],
   "source": [
    "df1[strat_col +'_cat']= pd.cut(df1[strat_col], bins, include_lowest=True)"
   ]
  },
  {
   "cell_type": "code",
   "execution_count": 12,
   "metadata": {},
   "outputs": [
    {
     "data": {
      "text/html": [
       "<div>\n",
       "<style scoped>\n",
       "    .dataframe tbody tr th:only-of-type {\n",
       "        vertical-align: middle;\n",
       "    }\n",
       "\n",
       "    .dataframe tbody tr th {\n",
       "        vertical-align: top;\n",
       "    }\n",
       "\n",
       "    .dataframe thead th {\n",
       "        text-align: right;\n",
       "    }\n",
       "</style>\n",
       "<table border=\"1\" class=\"dataframe\">\n",
       "  <thead>\n",
       "    <tr style=\"text-align: right;\">\n",
       "      <th></th>\n",
       "      <th>POP_MAX_34_ADJ_cat</th>\n",
       "      <th>POP_MAX_34_ADJ</th>\n",
       "    </tr>\n",
       "  </thead>\n",
       "  <tbody>\n",
       "    <tr>\n",
       "      <th>0</th>\n",
       "      <td>(10000000.0, 25000000.0]</td>\n",
       "      <td>1.198300e+07</td>\n",
       "    </tr>\n",
       "    <tr>\n",
       "      <th>1</th>\n",
       "      <td>(25000000.0, 50000000.0]</td>\n",
       "      <td>3.160822e+07</td>\n",
       "    </tr>\n",
       "    <tr>\n",
       "      <th>2</th>\n",
       "      <td>(1000000.0, 5000000.0]</td>\n",
       "      <td>1.689243e+06</td>\n",
       "    </tr>\n",
       "    <tr>\n",
       "      <th>3</th>\n",
       "      <td>(1000000.0, 5000000.0]</td>\n",
       "      <td>4.760039e+06</td>\n",
       "    </tr>\n",
       "    <tr>\n",
       "      <th>4</th>\n",
       "      <td>(5000000.0, 10000000.0]</td>\n",
       "      <td>5.130796e+06</td>\n",
       "    </tr>\n",
       "    <tr>\n",
       "      <th>...</th>\n",
       "      <td>...</td>\n",
       "      <td>...</td>\n",
       "    </tr>\n",
       "    <tr>\n",
       "      <th>984</th>\n",
       "      <td>(50000000.0, 100000000.0]</td>\n",
       "      <td>5.600261e+07</td>\n",
       "    </tr>\n",
       "    <tr>\n",
       "      <th>986</th>\n",
       "      <td>(1000000.0, 5000000.0]</td>\n",
       "      <td>2.396895e+06</td>\n",
       "    </tr>\n",
       "    <tr>\n",
       "      <th>987</th>\n",
       "      <td>(100000.0, 500000.0]</td>\n",
       "      <td>2.341183e+05</td>\n",
       "    </tr>\n",
       "    <tr>\n",
       "      <th>989</th>\n",
       "      <td>(1000000.0, 5000000.0]</td>\n",
       "      <td>3.758703e+06</td>\n",
       "    </tr>\n",
       "    <tr>\n",
       "      <th>990</th>\n",
       "      <td>(50000000.0, 100000000.0]</td>\n",
       "      <td>7.746583e+07</td>\n",
       "    </tr>\n",
       "  </tbody>\n",
       "</table>\n",
       "<p>911 rows × 2 columns</p>\n",
       "</div>"
      ],
      "text/plain": [
       "            POP_MAX_34_ADJ_cat  POP_MAX_34_ADJ\n",
       "0     (10000000.0, 25000000.0]    1.198300e+07\n",
       "1     (25000000.0, 50000000.0]    3.160822e+07\n",
       "2       (1000000.0, 5000000.0]    1.689243e+06\n",
       "3       (1000000.0, 5000000.0]    4.760039e+06\n",
       "4      (5000000.0, 10000000.0]    5.130796e+06\n",
       "..                         ...             ...\n",
       "984  (50000000.0, 100000000.0]    5.600261e+07\n",
       "986     (1000000.0, 5000000.0]    2.396895e+06\n",
       "987       (100000.0, 500000.0]    2.341183e+05\n",
       "989     (1000000.0, 5000000.0]    3.758703e+06\n",
       "990  (50000000.0, 100000000.0]    7.746583e+07\n",
       "\n",
       "[911 rows x 2 columns]"
      ]
     },
     "execution_count": 12,
     "metadata": {},
     "output_type": "execute_result"
    }
   ],
   "source": [
    "df1[[strat_col +'_cat', strat_col]]"
   ]
  },
  {
   "cell_type": "code",
   "execution_count": 13,
   "metadata": {},
   "outputs": [
    {
     "data": {
      "text/plain": [
       "0"
      ]
     },
     "execution_count": 13,
     "metadata": {},
     "output_type": "execute_result"
    }
   ],
   "source": [
    "df1['POP_MAX_34_ADJ_cat'].isna().sum()"
   ]
  },
  {
   "cell_type": "code",
   "execution_count": 14,
   "metadata": {},
   "outputs": [
    {
     "data": {
      "text/plain": [
       "(-0.001, 10000.0]               9\n",
       "(10000.0, 100000.0]            36\n",
       "(100000.0, 500000.0]           36\n",
       "(500000.0, 1000000.0]          35\n",
       "(1000000.0, 5000000.0]        192\n",
       "(5000000.0, 10000000.0]       117\n",
       "(10000000.0, 25000000.0]      206\n",
       "(25000000.0, 50000000.0]      127\n",
       "(50000000.0, 100000000.0]      93\n",
       "(100000000.0, 500000000.0]     60\n",
       "Name: POP_MAX_34_ADJ_cat, dtype: int64"
      ]
     },
     "execution_count": 14,
     "metadata": {},
     "output_type": "execute_result"
    }
   ],
   "source": [
    "df1['POP_MAX_34_ADJ_cat'].value_counts().sort_index()"
   ]
  },
  {
   "cell_type": "markdown",
   "metadata": {},
   "source": [
    "- Check that there are no NaN in the column, because this will break StratifiedShuffleSplit"
   ]
  },
  {
   "cell_type": "code",
   "execution_count": 15,
   "metadata": {},
   "outputs": [
    {
     "data": {
      "text/plain": [
       "0"
      ]
     },
     "execution_count": 15,
     "metadata": {},
     "output_type": "execute_result"
    }
   ],
   "source": [
    "df1[strat_col +'_cat'].isna().sum()"
   ]
  },
  {
   "cell_type": "code",
   "execution_count": 16,
   "metadata": {},
   "outputs": [
    {
     "data": {
      "image/png": "[encoded data removed]",
      "text/plain": [
       "<Figure size 1440x1080 with 36 Axes>"
      ]
     },
     "metadata": {
      "needs_background": "light"
     },
     "output_type": "display_data"
    }
   ],
   "source": [
    "df1.hist(bins=50, figsize=(20,15))\n",
    "plt.show()"
   ]
  },
  {
   "cell_type": "code",
   "execution_count": null,
   "metadata": {},
   "outputs": [],
   "source": []
  },
  {
   "cell_type": "code",
   "execution_count": null,
   "metadata": {},
   "outputs": [],
   "source": []
  },
  {
   "cell_type": "markdown",
   "metadata": {},
   "source": [
    "## Data pre-processing"
   ]
  },
  {
   "cell_type": "code",
   "execution_count": 17,
   "metadata": {},
   "outputs": [
    {
     "data": {
      "text/plain": [
       "(911, 52)"
      ]
     },
     "execution_count": 17,
     "metadata": {},
     "output_type": "execute_result"
    }
   ],
   "source": [
    "df1.shape"
   ]
  },
  {
   "cell_type": "code",
   "execution_count": 18,
   "metadata": {},
   "outputs": [
    {
     "data": {
      "text/plain": [
       "Index(['SID', 'NAME', 'ISO', 'YEAR', 'COORDS', 'COORDS_MAX_WINDS',\n",
       "       'COORDS_MIN_DIST2LAND', 'BASIN', 'SUB BASIN', 'MONTH_START',\n",
       "       'MONTH_END', 'DATE_START', 'DATE_END', 'DATE_LAND_START',\n",
       "       'DATE_LAND_END', 'TOTAL_HOURS_EVENT', 'TOTAL_HOURS_IN_LAND', 'NATURE',\n",
       "       'GENERAL_CATEGORY', 'MAX_WIND', 'MIN_PRES', 'MIN_DIST2LAND',\n",
       "       'MAX_STORMSPEED', 'MAX_USA_SSHS', 'MAX_USA_SSHS_INLAND', 'V_LAND_KN',\n",
       "       'DISTANCE_TRACK', 'DISTANCE_TRACK_VINCENTY', '34KN_POP', '64KN_POP',\n",
       "       '96KN_POP', '64KN_ASSETS', '34KN_ASSETS', '96KN_ASSETS',\n",
       "       'TOTAL_DAMAGE_(000$)', 'TOTAL_DEATHS', 'POP_DEN_SQ_KM', 'RURAL_POP(%)',\n",
       "       'HDI', 'Arable land (hectares per person)',\n",
       "       'Cereal yield (kg per hectare)',\n",
       "       'Food production index (2004-2006 = 100)',\n",
       "       'GDP per capita (constant 2010 US$)', 'Net flows from UN agencies US$',\n",
       "       'Life expectancy at birth, total (years)',\n",
       "       'Adjusted savings: education expenditure (% of GNI)',\n",
       "       'Income_level_Final', 'POP_MAX_34_ADJ', 'POP_MAX_50_ADJ',\n",
       "       'POP_MAX_64_ADJ', 'TOTAL_AFFECTED', 'POP_MAX_34_ADJ_cat'],\n",
       "      dtype='object')"
      ]
     },
     "execution_count": 18,
     "metadata": {},
     "output_type": "execute_result"
    }
   ],
   "source": [
    "df1.columns"
   ]
  },
  {
   "cell_type": "code",
   "execution_count": 19,
   "metadata": {},
   "outputs": [],
   "source": [
    "# Arranging columns\n",
    "\n",
    "df1 = df1[[\n",
    "    # cols from cyclones\n",
    "    'SID', 'NAME', 'ISO', 'YEAR', 'COORDS', 'COORDS_MAX_WINDS',\n",
    "       'COORDS_MIN_DIST2LAND', 'BASIN', 'SUB BASIN', 'NATURE', \n",
    "    'MONTH_START',\n",
    "    #'MONTH_END', 'DATE_START', 'DATE_END', 'DATE_LAND_START', 'DATE_LAND_END', \n",
    "    'TOTAL_HOURS_EVENT', 'TOTAL_HOURS_IN_LAND', \n",
    "       'GENERAL_CATEGORY', 'MAX_WIND', 'MIN_PRES', 'MIN_DIST2LAND',\n",
    "       'MAX_STORMSPEED', 'MAX_USA_SSHS', 'MAX_USA_SSHS_INLAND', 'V_LAND_KN',\n",
    "       'DISTANCE_TRACK', 'DISTANCE_TRACK_VINCENTY', '34KN_POP', '64KN_POP',\n",
    "       '96KN_POP', '64KN_ASSETS', '34KN_ASSETS', '96KN_ASSETS',\n",
    "       'TOTAL_DAMAGE_(000$)', 'TOTAL_DEATHS', \n",
    "    \n",
    "\n",
    "    # cols from World Bank Indicators:           \n",
    "    'POP_DEN_SQ_KM', 'RURAL_POP(%)',\n",
    "       'HDI', 'Arable land (hectares per person)',\n",
    "       'Cereal yield (kg per hectare)',\n",
    "       'Food production index (2004-2006 = 100)',\n",
    "       'GDP per capita (constant 2010 US$)', 'Net flows from UN agencies US$',\n",
    "       'Life expectancy at birth, total (years)',\n",
    "       'Adjusted savings: education expenditure (% of GNI)',\n",
    "       'Income_level_Final',\n",
    "    \n",
    "    \n",
    "    # cols from climada:   \n",
    "        'POP_MAX_34_ADJ', 'POP_MAX_50_ADJ','POP_MAX_64_ADJ', 'POP_MAX_34_ADJ_cat',\n",
    "    \n",
    "    # Target \n",
    "    'TOTAL_AFFECTED']]"
   ]
  },
  {
   "cell_type": "code",
   "execution_count": 20,
   "metadata": {},
   "outputs": [
    {
     "data": {
      "text/html": [
       "<div>\n",
       "<style scoped>\n",
       "    .dataframe tbody tr th:only-of-type {\n",
       "        vertical-align: middle;\n",
       "    }\n",
       "\n",
       "    .dataframe tbody tr th {\n",
       "        vertical-align: top;\n",
       "    }\n",
       "\n",
       "    .dataframe thead th {\n",
       "        text-align: right;\n",
       "    }\n",
       "</style>\n",
       "<table border=\"1\" class=\"dataframe\">\n",
       "  <thead>\n",
       "    <tr style=\"text-align: right;\">\n",
       "      <th></th>\n",
       "      <th>SID</th>\n",
       "      <th>NAME</th>\n",
       "      <th>ISO</th>\n",
       "      <th>YEAR</th>\n",
       "      <th>COORDS</th>\n",
       "      <th>COORDS_MAX_WINDS</th>\n",
       "      <th>COORDS_MIN_DIST2LAND</th>\n",
       "      <th>BASIN</th>\n",
       "      <th>SUB BASIN</th>\n",
       "      <th>NATURE</th>\n",
       "      <th>...</th>\n",
       "      <th>GDP per capita (constant 2010 US$)</th>\n",
       "      <th>Net flows from UN agencies US$</th>\n",
       "      <th>Life expectancy at birth, total (years)</th>\n",
       "      <th>Adjusted savings: education expenditure (% of GNI)</th>\n",
       "      <th>Income_level_Final</th>\n",
       "      <th>POP_MAX_34_ADJ</th>\n",
       "      <th>POP_MAX_50_ADJ</th>\n",
       "      <th>POP_MAX_64_ADJ</th>\n",
       "      <th>POP_MAX_34_ADJ_cat</th>\n",
       "      <th>TOTAL_AFFECTED</th>\n",
       "    </tr>\n",
       "  </thead>\n",
       "  <tbody>\n",
       "    <tr>\n",
       "      <th>0</th>\n",
       "      <td>1949163N07145</td>\n",
       "      <td>DELLA</td>\n",
       "      <td>JPN</td>\n",
       "      <td>1949</td>\n",
       "      <td>[(21.5, 125.424), (22.2, 125.8), (22.9089, 126...</td>\n",
       "      <td>[(27.6584, 128.82), (28.9141, 129.572999999999...</td>\n",
       "      <td>[(31.9866, 130.683), (33.5183, 130.97299999999...</td>\n",
       "      <td>WP</td>\n",
       "      <td>WP</td>\n",
       "      <td>TS</td>\n",
       "      <td>...</td>\n",
       "      <td>8607.657082</td>\n",
       "      <td>0.0</td>\n",
       "      <td>67.666098</td>\n",
       "      <td>2.867878</td>\n",
       "      <td>Low</td>\n",
       "      <td>1.198300e+07</td>\n",
       "      <td>5.803981e+06</td>\n",
       "      <td>3.320907e+06</td>\n",
       "      <td>(10000000.0, 25000000.0]</td>\n",
       "      <td>194046</td>\n",
       "    </tr>\n",
       "    <tr>\n",
       "      <th>1</th>\n",
       "      <td>1950241N23140</td>\n",
       "      <td>JANE</td>\n",
       "      <td>JPN</td>\n",
       "      <td>1950</td>\n",
       "      <td>[(23.8845, 139.74), (23.9335, 139.639), (23.98...</td>\n",
       "      <td>[(28.7509, 133.748), (29.1201, 133.762), (29.6...</td>\n",
       "      <td>[(34.9374, 135.476), (36.1016, 136.095), (37.2...</td>\n",
       "      <td>WP</td>\n",
       "      <td>WP</td>\n",
       "      <td>ET</td>\n",
       "      <td>...</td>\n",
       "      <td>8607.657082</td>\n",
       "      <td>0.0</td>\n",
       "      <td>67.666098</td>\n",
       "      <td>2.867878</td>\n",
       "      <td>Low</td>\n",
       "      <td>3.160822e+07</td>\n",
       "      <td>1.559196e+07</td>\n",
       "      <td>1.018936e+07</td>\n",
       "      <td>(25000000.0, 50000000.0]</td>\n",
       "      <td>642117</td>\n",
       "    </tr>\n",
       "    <tr>\n",
       "      <th>2</th>\n",
       "      <td>1951224N12316</td>\n",
       "      <td>CHARLIE</td>\n",
       "      <td>JAM</td>\n",
       "      <td>1951</td>\n",
       "      <td>[(17.3398, -75.4138), (17.6, -76.2), (17.9, -7...</td>\n",
       "      <td>[(17.6, -76.2), (17.9, -76.9)]</td>\n",
       "      <td>[(17.9, -76.9), (18.1, -77.8)]</td>\n",
       "      <td>NAm</td>\n",
       "      <td>CS</td>\n",
       "      <td>TS</td>\n",
       "      <td>...</td>\n",
       "      <td>3796.219401</td>\n",
       "      <td>0.0</td>\n",
       "      <td>64.770000</td>\n",
       "      <td>2.578304</td>\n",
       "      <td>Low</td>\n",
       "      <td>1.689243e+06</td>\n",
       "      <td>1.687083e+06</td>\n",
       "      <td>1.195052e+06</td>\n",
       "      <td>(1000000.0, 5000000.0]</td>\n",
       "      <td>20200</td>\n",
       "    </tr>\n",
       "  </tbody>\n",
       "</table>\n",
       "<p>3 rows × 47 columns</p>\n",
       "</div>"
      ],
      "text/plain": [
       "             SID     NAME  ISO  YEAR  \\\n",
       "0  1949163N07145    DELLA  JPN  1949   \n",
       "1  1950241N23140     JANE  JPN  1950   \n",
       "2  1951224N12316  CHARLIE  JAM  1951   \n",
       "\n",
       "                                              COORDS  \\\n",
       "0  [(21.5, 125.424), (22.2, 125.8), (22.9089, 126...   \n",
       "1  [(23.8845, 139.74), (23.9335, 139.639), (23.98...   \n",
       "2  [(17.3398, -75.4138), (17.6, -76.2), (17.9, -7...   \n",
       "\n",
       "                                    COORDS_MAX_WINDS  \\\n",
       "0  [(27.6584, 128.82), (28.9141, 129.572999999999...   \n",
       "1  [(28.7509, 133.748), (29.1201, 133.762), (29.6...   \n",
       "2                     [(17.6, -76.2), (17.9, -76.9)]   \n",
       "\n",
       "                                COORDS_MIN_DIST2LAND BASIN SUB BASIN NATURE  \\\n",
       "0  [(31.9866, 130.683), (33.5183, 130.97299999999...    WP        WP     TS   \n",
       "1  [(34.9374, 135.476), (36.1016, 136.095), (37.2...    WP        WP     ET   \n",
       "2                     [(17.9, -76.9), (18.1, -77.8)]   NAm        CS     TS   \n",
       "\n",
       "   ...  GDP per capita (constant 2010 US$)  Net flows from UN agencies US$  \\\n",
       "0  ...                         8607.657082                             0.0   \n",
       "1  ...                         8607.657082                             0.0   \n",
       "2  ...                         3796.219401                             0.0   \n",
       "\n",
       "   Life expectancy at birth, total (years)  \\\n",
       "0                                67.666098   \n",
       "1                                67.666098   \n",
       "2                                64.770000   \n",
       "\n",
       "  Adjusted savings: education expenditure (% of GNI)  Income_level_Final  \\\n",
       "0                                           2.867878                 Low   \n",
       "1                                           2.867878                 Low   \n",
       "2                                           2.578304                 Low   \n",
       "\n",
       "   POP_MAX_34_ADJ  POP_MAX_50_ADJ  POP_MAX_64_ADJ        POP_MAX_34_ADJ_cat  \\\n",
       "0    1.198300e+07    5.803981e+06    3.320907e+06  (10000000.0, 25000000.0]   \n",
       "1    3.160822e+07    1.559196e+07    1.018936e+07  (25000000.0, 50000000.0]   \n",
       "2    1.689243e+06    1.687083e+06    1.195052e+06    (1000000.0, 5000000.0]   \n",
       "\n",
       "  TOTAL_AFFECTED  \n",
       "0         194046  \n",
       "1         642117  \n",
       "2          20200  \n",
       "\n",
       "[3 rows x 47 columns]"
      ]
     },
     "execution_count": 20,
     "metadata": {},
     "output_type": "execute_result"
    }
   ],
   "source": [
    "df1.head(3)"
   ]
  },
  {
   "cell_type": "markdown",
   "metadata": {},
   "source": [
    "- **Checking nulls**"
   ]
  },
  {
   "cell_type": "code",
   "execution_count": 21,
   "metadata": {},
   "outputs": [],
   "source": [
    "# Checking quantity of missing data. Reusing code from Fabi\n",
    "def null_cols(data):\n",
    "\n",
    "    \"\"\"\n",
    "    This function takes a dataframe df and shows the columns of df that have NaN values\n",
    "    and the number of them\n",
    "\n",
    "    \"\"\"\n",
    "    nulls = data.isna().sum()\n",
    "    nulls = nulls[nulls > 0] / len(data) * 100\n",
    "    nulls = pd.DataFrame(nulls.sort_values(ascending = False))\n",
    "    nulls = nulls.reset_index().rename(columns = {\"index\": \"Feature\", 0: \"% Null rows\"})\n",
    "    return nulls"
   ]
  },
  {
   "cell_type": "code",
   "execution_count": 22,
   "metadata": {},
   "outputs": [
    {
     "data": {
      "text/html": [
       "<div>\n",
       "<style scoped>\n",
       "    .dataframe tbody tr th:only-of-type {\n",
       "        vertical-align: middle;\n",
       "    }\n",
       "\n",
       "    .dataframe tbody tr th {\n",
       "        vertical-align: top;\n",
       "    }\n",
       "\n",
       "    .dataframe thead th {\n",
       "        text-align: right;\n",
       "    }\n",
       "</style>\n",
       "<table border=\"1\" class=\"dataframe\">\n",
       "  <thead>\n",
       "    <tr style=\"text-align: right;\">\n",
       "      <th></th>\n",
       "      <th>Feature</th>\n",
       "      <th>% Null rows</th>\n",
       "    </tr>\n",
       "  </thead>\n",
       "  <tbody>\n",
       "    <tr>\n",
       "      <th>0</th>\n",
       "      <td>TOTAL_DAMAGE_(000$)</td>\n",
       "      <td>29.967069</td>\n",
       "    </tr>\n",
       "    <tr>\n",
       "      <th>1</th>\n",
       "      <td>96KN_ASSETS</td>\n",
       "      <td>21.844127</td>\n",
       "    </tr>\n",
       "    <tr>\n",
       "      <th>2</th>\n",
       "      <td>34KN_ASSETS</td>\n",
       "      <td>21.844127</td>\n",
       "    </tr>\n",
       "    <tr>\n",
       "      <th>3</th>\n",
       "      <td>64KN_ASSETS</td>\n",
       "      <td>21.844127</td>\n",
       "    </tr>\n",
       "    <tr>\n",
       "      <th>4</th>\n",
       "      <td>96KN_POP</td>\n",
       "      <td>21.734358</td>\n",
       "    </tr>\n",
       "    <tr>\n",
       "      <th>5</th>\n",
       "      <td>64KN_POP</td>\n",
       "      <td>21.734358</td>\n",
       "    </tr>\n",
       "    <tr>\n",
       "      <th>6</th>\n",
       "      <td>34KN_POP</td>\n",
       "      <td>21.734358</td>\n",
       "    </tr>\n",
       "    <tr>\n",
       "      <th>7</th>\n",
       "      <td>TOTAL_DEATHS</td>\n",
       "      <td>11.855104</td>\n",
       "    </tr>\n",
       "    <tr>\n",
       "      <th>8</th>\n",
       "      <td>GDP per capita (constant 2010 US$)</td>\n",
       "      <td>0.878156</td>\n",
       "    </tr>\n",
       "    <tr>\n",
       "      <th>9</th>\n",
       "      <td>Adjusted savings: education expenditure (% of ...</td>\n",
       "      <td>0.439078</td>\n",
       "    </tr>\n",
       "    <tr>\n",
       "      <th>10</th>\n",
       "      <td>MAX_STORMSPEED</td>\n",
       "      <td>0.219539</td>\n",
       "    </tr>\n",
       "  </tbody>\n",
       "</table>\n",
       "</div>"
      ],
      "text/plain": [
       "                                              Feature  % Null rows\n",
       "0                                 TOTAL_DAMAGE_(000$)    29.967069\n",
       "1                                         96KN_ASSETS    21.844127\n",
       "2                                         34KN_ASSETS    21.844127\n",
       "3                                         64KN_ASSETS    21.844127\n",
       "4                                            96KN_POP    21.734358\n",
       "5                                            64KN_POP    21.734358\n",
       "6                                            34KN_POP    21.734358\n",
       "7                                        TOTAL_DEATHS    11.855104\n",
       "8                  GDP per capita (constant 2010 US$)     0.878156\n",
       "9   Adjusted savings: education expenditure (% of ...     0.439078\n",
       "10                                     MAX_STORMSPEED     0.219539"
      ]
     },
     "execution_count": 22,
     "metadata": {},
     "output_type": "execute_result"
    }
   ],
   "source": [
    "null_cols(df1)"
   ]
  },
  {
   "cell_type": "markdown",
   "metadata": {},
   "source": [
    "- **MAX_USA_SSHS** and **MAX_USA_SSHS_INLAND** columns with value -6 = Unknown:"
   ]
  },
  {
   "cell_type": "code",
   "execution_count": 23,
   "metadata": {},
   "outputs": [],
   "source": [
    "df1[\"MAX_USA_SSHS\"]= df1[\"MAX_USA_SSHS\"].replace(-6, np.nan) \n",
    "df1[\"MAX_USA_SSHS_INLAND\"]= df1[\"MAX_USA_SSHS_INLAND\"].replace('-6', np.nan) "
   ]
  },
  {
   "cell_type": "markdown",
   "metadata": {},
   "source": [
    "- Trying to create a calculated column that better represents de relative dimension **of exposed assets**. We have several columns for assets exposed depending of windspeed for 34kn+, 64kn+ and 96kn+. Let's add these columns to create a new column:"
   ]
  },
  {
   "cell_type": "code",
   "execution_count": 24,
   "metadata": {},
   "outputs": [],
   "source": [
    "df1['CALC_assets_emdat'] = df1['34KN_ASSETS'] + df1['64KN_ASSETS'] + df1['96KN_ASSETS']\n",
    "df1 = df1.drop(['34KN_ASSETS', '64KN_ASSETS','96KN_ASSETS'], axis=1)"
   ]
  },
  {
   "cell_type": "code",
   "execution_count": 25,
   "metadata": {},
   "outputs": [
    {
     "data": {
      "text/plain": [
       "count    910.000000\n",
       "mean       1.810989\n",
       "std        1.885469\n",
       "min       -5.000000\n",
       "25%        0.000000\n",
       "50%        1.000000\n",
       "75%        4.000000\n",
       "max        5.000000\n",
       "Name: MAX_USA_SSHS, dtype: float64"
      ]
     },
     "execution_count": 25,
     "metadata": {},
     "output_type": "execute_result"
    }
   ],
   "source": [
    "df1[\"MAX_USA_SSHS\"].describe()"
   ]
  },
  {
   "cell_type": "markdown",
   "metadata": {},
   "source": [
    "- **Transform 'Income_Level'** categories to ordered integers and **BASIN, SUB BASIN,NATURE and GENERAL_CATEGORY** into Category Type"
   ]
  },
  {
   "cell_type": "code",
   "execution_count": 26,
   "metadata": {},
   "outputs": [],
   "source": [
    "#Arnab code\n",
    "unique_list = df['Income_level_Final'].unique()\n",
    "incomelevel_to_int = dict(zip(unique_list, [1,2,4,3])) # so we assign['Low' =1, 'Low_Middle' =2, 'High'=4, 'High_Middle'=3]\n",
    "df1['Income_level_Final'] = df1['Income_level_Final'].apply(lambda inc_level: incomelevel_to_int[inc_level])"
   ]
  },
  {
   "cell_type": "code",
   "execution_count": 27,
   "metadata": {},
   "outputs": [],
   "source": [
    "df1['BASIN'] = df1['BASIN'].astype('category')\n",
    "df1['SUB BASIN'] = df1['SUB BASIN'].astype('category')\n",
    "df1['NATURE'] = df1['NATURE'].astype('category')\n",
    "df1['GENERAL_CATEGORY'] = df1['GENERAL_CATEGORY'].astype('category')"
   ]
  },
  {
   "cell_type": "markdown",
   "metadata": {},
   "source": [
    "- **Create New Column fro 'No Landing'**"
   ]
  },
  {
   "cell_type": "code",
   "execution_count": 28,
   "metadata": {},
   "outputs": [],
   "source": [
    "df1['Landing'] = np.where(df1['MAX_USA_SSHS_INLAND'] == 'No landing', 0, 1)"
   ]
  },
  {
   "cell_type": "code",
   "execution_count": 29,
   "metadata": {},
   "outputs": [],
   "source": [
    "#assign np.nan to columns with 'No landing'  value\n",
    "\n",
    "df1[\"MAX_USA_SSHS_INLAND\"]= df1[\"MAX_USA_SSHS_INLAND\"].replace('No landing', np.nan) "
   ]
  },
  {
   "cell_type": "code",
   "execution_count": 30,
   "metadata": {},
   "outputs": [],
   "source": [
    "df1[\"MAX_USA_SSHS_INLAND\"] = df1[\"MAX_USA_SSHS_INLAND\"].astype('float')"
   ]
  },
  {
   "cell_type": "markdown",
   "metadata": {},
   "source": [
    "- **Arranging columns**"
   ]
  },
  {
   "cell_type": "code",
   "execution_count": 31,
   "metadata": {},
   "outputs": [
    {
     "data": {
      "text/plain": [
       "(911, 46)"
      ]
     },
     "execution_count": 31,
     "metadata": {},
     "output_type": "execute_result"
    }
   ],
   "source": [
    "df1.shape"
   ]
  },
  {
   "cell_type": "code",
   "execution_count": 32,
   "metadata": {},
   "outputs": [
    {
     "name": "stdout",
     "output_type": "stream",
     "text": [
      "<class 'pandas.core.frame.DataFrame'>\n",
      "Int64Index: 911 entries, 0 to 990\n",
      "Data columns (total 46 columns):\n",
      "SID                                                   911 non-null object\n",
      "NAME                                                  911 non-null object\n",
      "ISO                                                   911 non-null object\n",
      "YEAR                                                  911 non-null int64\n",
      "COORDS                                                911 non-null object\n",
      "COORDS_MAX_WINDS                                      911 non-null object\n",
      "COORDS_MIN_DIST2LAND                                  911 non-null object\n",
      "BASIN                                                 911 non-null category\n",
      "SUB BASIN                                             911 non-null category\n",
      "NATURE                                                911 non-null category\n",
      "MONTH_START                                           911 non-null int64\n",
      "TOTAL_HOURS_EVENT                                     911 non-null float64\n",
      "TOTAL_HOURS_IN_LAND                                   911 non-null float64\n",
      "GENERAL_CATEGORY                                      911 non-null category\n",
      "MAX_WIND                                              911 non-null float64\n",
      "MIN_PRES                                              911 non-null int64\n",
      "MIN_DIST2LAND                                         911 non-null int64\n",
      "MAX_STORMSPEED                                        909 non-null float64\n",
      "MAX_USA_SSHS                                          910 non-null float64\n",
      "MAX_USA_SSHS_INLAND                                   751 non-null float64\n",
      "V_LAND_KN                                             911 non-null float64\n",
      "DISTANCE_TRACK                                        911 non-null float64\n",
      "DISTANCE_TRACK_VINCENTY                               911 non-null float64\n",
      "34KN_POP                                              713 non-null float64\n",
      "64KN_POP                                              713 non-null float64\n",
      "96KN_POP                                              713 non-null float64\n",
      "TOTAL_DAMAGE_(000$)                                   638 non-null float64\n",
      "TOTAL_DEATHS                                          803 non-null float64\n",
      "POP_DEN_SQ_KM                                         911 non-null float64\n",
      "RURAL_POP(%)                                          911 non-null float64\n",
      "HDI                                                   911 non-null float64\n",
      "Arable land (hectares per person)                     911 non-null float64\n",
      "Cereal yield (kg per hectare)                         911 non-null float64\n",
      "Food production index (2004-2006 = 100)               911 non-null float64\n",
      "GDP per capita (constant 2010 US$)                    903 non-null float64\n",
      "Net flows from UN agencies US$                        911 non-null float64\n",
      "Life expectancy at birth, total (years)               911 non-null float64\n",
      "Adjusted savings: education expenditure (% of GNI)    907 non-null float64\n",
      "Income_level_Final                                    911 non-null int64\n",
      "POP_MAX_34_ADJ                                        911 non-null float64\n",
      "POP_MAX_50_ADJ                                        911 non-null float64\n",
      "POP_MAX_64_ADJ                                        911 non-null float64\n",
      "POP_MAX_34_ADJ_cat                                    911 non-null category\n",
      "TOTAL_AFFECTED                                        911 non-null int64\n",
      "CALC_assets_emdat                                     712 non-null float64\n",
      "Landing                                               911 non-null int32\n",
      "dtypes: category(5), float64(28), int32(1), int64(6), object(6)\n",
      "memory usage: 301.5+ KB\n"
     ]
    }
   ],
   "source": [
    "df1.info()"
   ]
  },
  {
   "cell_type": "code",
   "execution_count": 33,
   "metadata": {
    "scrolled": false
   },
   "outputs": [
    {
     "data": {
      "text/plain": [
       "Index(['SID', 'NAME', 'ISO', 'YEAR', 'COORDS', 'COORDS_MAX_WINDS',\n",
       "       'COORDS_MIN_DIST2LAND', 'BASIN', 'SUB BASIN', 'NATURE', 'MONTH_START',\n",
       "       'TOTAL_HOURS_EVENT', 'TOTAL_HOURS_IN_LAND', 'GENERAL_CATEGORY',\n",
       "       'MAX_WIND', 'MIN_PRES', 'MIN_DIST2LAND', 'MAX_STORMSPEED',\n",
       "       'MAX_USA_SSHS', 'MAX_USA_SSHS_INLAND', 'V_LAND_KN', 'DISTANCE_TRACK',\n",
       "       'DISTANCE_TRACK_VINCENTY', '34KN_POP', '64KN_POP', '96KN_POP',\n",
       "       'TOTAL_DAMAGE_(000$)', 'TOTAL_DEATHS', 'POP_DEN_SQ_KM', 'RURAL_POP(%)',\n",
       "       'HDI', 'Arable land (hectares per person)',\n",
       "       'Cereal yield (kg per hectare)',\n",
       "       'Food production index (2004-2006 = 100)',\n",
       "       'GDP per capita (constant 2010 US$)', 'Net flows from UN agencies US$',\n",
       "       'Life expectancy at birth, total (years)',\n",
       "       'Adjusted savings: education expenditure (% of GNI)',\n",
       "       'Income_level_Final', 'POP_MAX_34_ADJ', 'POP_MAX_50_ADJ',\n",
       "       'POP_MAX_64_ADJ', 'POP_MAX_34_ADJ_cat', 'TOTAL_AFFECTED',\n",
       "       'CALC_assets_emdat', 'Landing'],\n",
       "      dtype='object')"
      ]
     },
     "execution_count": 33,
     "metadata": {},
     "output_type": "execute_result"
    }
   ],
   "source": [
    "df1.columns"
   ]
  },
  {
   "cell_type": "code",
   "execution_count": 34,
   "metadata": {},
   "outputs": [],
   "source": [
    "#taking out from model=    'SID', 'NAME', 'ISO', 'YEAR', 'COORDS', 'COORDS_MAX_WINDS','COORDS_MIN_DIST2LAND', \n",
    "# Arranging columns\n",
    "\n",
    "df1 = df1[[\n",
    "    # cols from cyclones\n",
    "    'BASIN', 'SUB BASIN', 'NATURE', 'MONTH_START',\n",
    "       'TOTAL_HOURS_EVENT', 'TOTAL_HOURS_IN_LAND', 'GENERAL_CATEGORY',\n",
    "       'MAX_WIND', 'MIN_PRES', 'MIN_DIST2LAND', 'MAX_STORMSPEED',\n",
    "       'MAX_USA_SSHS', 'MAX_USA_SSHS_INLAND', 'V_LAND_KN', 'DISTANCE_TRACK',\n",
    "       'DISTANCE_TRACK_VINCENTY', '34KN_POP', '64KN_POP', '96KN_POP',\n",
    "       'TOTAL_DAMAGE_(000$)', 'CALC_assets_emdat', 'Landing', \n",
    "    'TOTAL_DEATHS',\n",
    "    \n",
    "\n",
    "    # cols from World Bank Indicators:           \n",
    "    'POP_DEN_SQ_KM', 'RURAL_POP(%)',\n",
    "       'HDI', 'Arable land (hectares per person)',\n",
    "       'Cereal yield (kg per hectare)',\n",
    "       'Food production index (2004-2006 = 100)',\n",
    "       'GDP per capita (constant 2010 US$)', 'Net flows from UN agencies US$',\n",
    "       'Life expectancy at birth, total (years)',\n",
    "       'Adjusted savings: education expenditure (% of GNI)',\n",
    "       'Income_level_Final',\n",
    "    \n",
    "    \n",
    "    # cols from climada:   \n",
    "        'POP_MAX_34_ADJ', 'POP_MAX_50_ADJ', 'POP_MAX_64_ADJ', 'POP_MAX_34_ADJ_cat',\n",
    "    \n",
    "    # Target \n",
    "    'TOTAL_AFFECTED']]"
   ]
  },
  {
   "cell_type": "markdown",
   "metadata": {},
   "source": [
    "- **Check SKEWENESS and apply log**"
   ]
  },
  {
   "cell_type": "code",
   "execution_count": 35,
   "metadata": {},
   "outputs": [],
   "source": [
    "#determine index for continous variables\n",
    "num_feats = df1.dtypes[df1.dtypes != 'object'].index\n",
    "\n",
    "#Calculate skew and sort\n",
    "skew_feats = df1[num_feats].skew().sort_values(ascending = False)\n",
    "skewness = pd.DataFrame({'Skew': skew_feats})"
   ]
  },
  {
   "cell_type": "code",
   "execution_count": 36,
   "metadata": {},
   "outputs": [
    {
     "data": {
      "text/html": [
       "<div>\n",
       "<style scoped>\n",
       "    .dataframe tbody tr th:only-of-type {\n",
       "        vertical-align: middle;\n",
       "    }\n",
       "\n",
       "    .dataframe tbody tr th {\n",
       "        vertical-align: top;\n",
       "    }\n",
       "\n",
       "    .dataframe thead th {\n",
       "        text-align: right;\n",
       "    }\n",
       "</style>\n",
       "<table border=\"1\" class=\"dataframe\">\n",
       "  <thead>\n",
       "    <tr style=\"text-align: right;\">\n",
       "      <th></th>\n",
       "      <th>Skew</th>\n",
       "    </tr>\n",
       "  </thead>\n",
       "  <tbody>\n",
       "    <tr>\n",
       "      <th>V_LAND_KN</th>\n",
       "      <td>30.179351</td>\n",
       "    </tr>\n",
       "    <tr>\n",
       "      <th>TOTAL_DEATHS</th>\n",
       "      <td>27.443095</td>\n",
       "    </tr>\n",
       "    <tr>\n",
       "      <th>TOTAL_DAMAGE_(000$)</th>\n",
       "      <td>11.367728</td>\n",
       "    </tr>\n",
       "    <tr>\n",
       "      <th>TOTAL_AFFECTED</th>\n",
       "      <td>7.001366</td>\n",
       "    </tr>\n",
       "    <tr>\n",
       "      <th>96KN_POP</th>\n",
       "      <td>6.635357</td>\n",
       "    </tr>\n",
       "    <tr>\n",
       "      <th>Arable land (hectares per person)</th>\n",
       "      <td>5.517063</td>\n",
       "    </tr>\n",
       "    <tr>\n",
       "      <th>POP_MAX_50_ADJ</th>\n",
       "      <td>4.316617</td>\n",
       "    </tr>\n",
       "    <tr>\n",
       "      <th>TOTAL_HOURS_IN_LAND</th>\n",
       "      <td>3.855884</td>\n",
       "    </tr>\n",
       "    <tr>\n",
       "      <th>POP_MAX_64_ADJ</th>\n",
       "      <td>3.731450</td>\n",
       "    </tr>\n",
       "    <tr>\n",
       "      <th>MIN_DIST2LAND</th>\n",
       "      <td>3.416145</td>\n",
       "    </tr>\n",
       "    <tr>\n",
       "      <th>POP_MAX_34_ADJ</th>\n",
       "      <td>3.270495</td>\n",
       "    </tr>\n",
       "    <tr>\n",
       "      <th>64KN_POP</th>\n",
       "      <td>2.861072</td>\n",
       "    </tr>\n",
       "    <tr>\n",
       "      <th>CALC_assets_emdat</th>\n",
       "      <td>2.762304</td>\n",
       "    </tr>\n",
       "    <tr>\n",
       "      <th>Adjusted savings: education expenditure (% of GNI)</th>\n",
       "      <td>2.446001</td>\n",
       "    </tr>\n",
       "    <tr>\n",
       "      <th>Net flows from UN agencies US$</th>\n",
       "      <td>2.097867</td>\n",
       "    </tr>\n",
       "    <tr>\n",
       "      <th>POP_DEN_SQ_KM</th>\n",
       "      <td>2.057896</td>\n",
       "    </tr>\n",
       "    <tr>\n",
       "      <th>MAX_STORMSPEED</th>\n",
       "      <td>1.912113</td>\n",
       "    </tr>\n",
       "    <tr>\n",
       "      <th>TOTAL_HOURS_EVENT</th>\n",
       "      <td>1.815959</td>\n",
       "    </tr>\n",
       "    <tr>\n",
       "      <th>GDP per capita (constant 2010 US$)</th>\n",
       "      <td>1.804830</td>\n",
       "    </tr>\n",
       "    <tr>\n",
       "      <th>34KN_POP</th>\n",
       "      <td>1.626710</td>\n",
       "    </tr>\n",
       "    <tr>\n",
       "      <th>DISTANCE_TRACK</th>\n",
       "      <td>1.135632</td>\n",
       "    </tr>\n",
       "    <tr>\n",
       "      <th>DISTANCE_TRACK_VINCENTY</th>\n",
       "      <td>0.848573</td>\n",
       "    </tr>\n",
       "    <tr>\n",
       "      <th>Income_level_Final</th>\n",
       "      <td>0.306593</td>\n",
       "    </tr>\n",
       "    <tr>\n",
       "      <th>Cereal yield (kg per hectare)</th>\n",
       "      <td>0.259817</td>\n",
       "    </tr>\n",
       "    <tr>\n",
       "      <th>MAX_USA_SSHS_INLAND</th>\n",
       "      <td>0.142987</td>\n",
       "    </tr>\n",
       "    <tr>\n",
       "      <th>MAX_WIND</th>\n",
       "      <td>0.140924</td>\n",
       "    </tr>\n",
       "    <tr>\n",
       "      <th>MAX_USA_SSHS</th>\n",
       "      <td>-0.005180</td>\n",
       "    </tr>\n",
       "    <tr>\n",
       "      <th>HDI</th>\n",
       "      <td>-0.083318</td>\n",
       "    </tr>\n",
       "    <tr>\n",
       "      <th>RURAL_POP(%)</th>\n",
       "      <td>-0.173534</td>\n",
       "    </tr>\n",
       "    <tr>\n",
       "      <th>Food production index (2004-2006 = 100)</th>\n",
       "      <td>-0.467280</td>\n",
       "    </tr>\n",
       "    <tr>\n",
       "      <th>MONTH_START</th>\n",
       "      <td>-0.983349</td>\n",
       "    </tr>\n",
       "    <tr>\n",
       "      <th>Life expectancy at birth, total (years)</th>\n",
       "      <td>-1.004356</td>\n",
       "    </tr>\n",
       "    <tr>\n",
       "      <th>Landing</th>\n",
       "      <td>-1.717763</td>\n",
       "    </tr>\n",
       "    <tr>\n",
       "      <th>MIN_PRES</th>\n",
       "      <td>-6.826953</td>\n",
       "    </tr>\n",
       "  </tbody>\n",
       "</table>\n",
       "</div>"
      ],
      "text/plain": [
       "                                                         Skew\n",
       "V_LAND_KN                                           30.179351\n",
       "TOTAL_DEATHS                                        27.443095\n",
       "TOTAL_DAMAGE_(000$)                                 11.367728\n",
       "TOTAL_AFFECTED                                       7.001366\n",
       "96KN_POP                                             6.635357\n",
       "Arable land (hectares per person)                    5.517063\n",
       "POP_MAX_50_ADJ                                       4.316617\n",
       "TOTAL_HOURS_IN_LAND                                  3.855884\n",
       "POP_MAX_64_ADJ                                       3.731450\n",
       "MIN_DIST2LAND                                        3.416145\n",
       "POP_MAX_34_ADJ                                       3.270495\n",
       "64KN_POP                                             2.861072\n",
       "CALC_assets_emdat                                    2.762304\n",
       "Adjusted savings: education expenditure (% of GNI)   2.446001\n",
       "Net flows from UN agencies US$                       2.097867\n",
       "POP_DEN_SQ_KM                                        2.057896\n",
       "MAX_STORMSPEED                                       1.912113\n",
       "TOTAL_HOURS_EVENT                                    1.815959\n",
       "GDP per capita (constant 2010 US$)                   1.804830\n",
       "34KN_POP                                             1.626710\n",
       "DISTANCE_TRACK                                       1.135632\n",
       "DISTANCE_TRACK_VINCENTY                              0.848573\n",
       "Income_level_Final                                   0.306593\n",
       "Cereal yield (kg per hectare)                        0.259817\n",
       "MAX_USA_SSHS_INLAND                                  0.142987\n",
       "MAX_WIND                                             0.140924\n",
       "MAX_USA_SSHS                                        -0.005180\n",
       "HDI                                                 -0.083318\n",
       "RURAL_POP(%)                                        -0.173534\n",
       "Food production index (2004-2006 = 100)             -0.467280\n",
       "MONTH_START                                         -0.983349\n",
       "Life expectancy at birth, total (years)             -1.004356\n",
       "Landing                                             -1.717763\n",
       "MIN_PRES                                            -6.826953"
      ]
     },
     "execution_count": 36,
     "metadata": {},
     "output_type": "execute_result"
    }
   ],
   "source": [
    "skewness"
   ]
  },
  {
   "cell_type": "code",
   "execution_count": 37,
   "metadata": {},
   "outputs": [
    {
     "data": {
      "image/png": "[encoded data removed]",
      "text/plain": [
       "<Figure size 432x288 with 1 Axes>"
      ]
     },
     "metadata": {
      "needs_background": "light"
     },
     "output_type": "display_data"
    },
    {
     "data": {
      "image/png": "[encoded data removed]",
      "text/plain": [
       "<Figure size 432x288 with 1 Axes>"
      ]
     },
     "metadata": {
      "needs_background": "light"
     },
     "output_type": "display_data"
    },
    {
     "data": {
      "text/plain": [
       "<Figure size 432x288 with 0 Axes>"
      ]
     },
     "metadata": {},
     "output_type": "display_data"
    }
   ],
   "source": [
    "# Checking distribution for one feature---reusing code from Juber\n",
    "ax=sns.distplot(df1['TOTAL_AFFECTED'].values)\n",
    "\n",
    "plt.show()\n",
    "plt.clf()\n",
    "\n",
    "log_affected=np.log(df1['TOTAL_AFFECTED'].values)\n",
    "ax=sns.distplot(log_affected)\n",
    "\n",
    "plt.show()\n",
    "plt.clf()"
   ]
  },
  {
   "cell_type": "code",
   "execution_count": 38,
   "metadata": {},
   "outputs": [],
   "source": [
    "# Creating list of features to transform, for skew values above 2.00\n",
    "\n",
    "feats_to_log = skewness[skewness['Skew'] > 2.00].index"
   ]
  },
  {
   "cell_type": "code",
   "execution_count": 39,
   "metadata": {},
   "outputs": [
    {
     "data": {
      "text/plain": [
       "Index(['V_LAND_KN', 'TOTAL_DEATHS', 'TOTAL_DAMAGE_(000$)', 'TOTAL_AFFECTED',\n",
       "       '96KN_POP', 'Arable land (hectares per person)', 'POP_MAX_50_ADJ',\n",
       "       'TOTAL_HOURS_IN_LAND', 'POP_MAX_64_ADJ', 'MIN_DIST2LAND',\n",
       "       'POP_MAX_34_ADJ', '64KN_POP', 'CALC_assets_emdat',\n",
       "       'Adjusted savings: education expenditure (% of GNI)',\n",
       "       'Net flows from UN agencies US$', 'POP_DEN_SQ_KM'],\n",
       "      dtype='object')"
      ]
     },
     "execution_count": 39,
     "metadata": {},
     "output_type": "execute_result"
    }
   ],
   "source": [
    "feats_to_log"
   ]
  },
  {
   "cell_type": "code",
   "execution_count": 40,
   "metadata": {},
   "outputs": [],
   "source": [
    "#apply log to some features\n",
    "\n",
    "for item in feats_to_log:\n",
    "    #df[item]=np.log((df[item] + 1 - df[item].min()).values)\n",
    "    df1[item] = df1[item].apply(lambda x: np.log(x) if x>0 else 0)\n",
    "    "
   ]
  },
  {
   "cell_type": "code",
   "execution_count": 41,
   "metadata": {},
   "outputs": [
    {
     "data": {
      "text/html": [
       "<div>\n",
       "<style scoped>\n",
       "    .dataframe tbody tr th:only-of-type {\n",
       "        vertical-align: middle;\n",
       "    }\n",
       "\n",
       "    .dataframe tbody tr th {\n",
       "        vertical-align: top;\n",
       "    }\n",
       "\n",
       "    .dataframe thead th {\n",
       "        text-align: right;\n",
       "    }\n",
       "</style>\n",
       "<table border=\"1\" class=\"dataframe\">\n",
       "  <thead>\n",
       "    <tr style=\"text-align: right;\">\n",
       "      <th></th>\n",
       "      <th>V_LAND_KN</th>\n",
       "      <th>TOTAL_DEATHS</th>\n",
       "      <th>TOTAL_DAMAGE_(000$)</th>\n",
       "      <th>TOTAL_AFFECTED</th>\n",
       "      <th>96KN_POP</th>\n",
       "      <th>Arable land (hectares per person)</th>\n",
       "      <th>POP_MAX_50_ADJ</th>\n",
       "      <th>TOTAL_HOURS_IN_LAND</th>\n",
       "      <th>POP_MAX_64_ADJ</th>\n",
       "      <th>MIN_DIST2LAND</th>\n",
       "      <th>POP_MAX_34_ADJ</th>\n",
       "      <th>64KN_POP</th>\n",
       "      <th>CALC_assets_emdat</th>\n",
       "      <th>Adjusted savings: education expenditure (% of GNI)</th>\n",
       "      <th>Net flows from UN agencies US$</th>\n",
       "      <th>POP_DEN_SQ_KM</th>\n",
       "    </tr>\n",
       "  </thead>\n",
       "  <tbody>\n",
       "    <tr>\n",
       "      <th>count</th>\n",
       "      <td>911.000000</td>\n",
       "      <td>911.000000</td>\n",
       "      <td>911.000000</td>\n",
       "      <td>911.000000</td>\n",
       "      <td>911.000000</td>\n",
       "      <td>911.000000</td>\n",
       "      <td>911.000000</td>\n",
       "      <td>911.000000</td>\n",
       "      <td>911.000000</td>\n",
       "      <td>911.000000</td>\n",
       "      <td>911.000000</td>\n",
       "      <td>911.000000</td>\n",
       "      <td>911.000000</td>\n",
       "      <td>911.000000</td>\n",
       "      <td>911.000000</td>\n",
       "      <td>911.000000</td>\n",
       "    </tr>\n",
       "    <tr>\n",
       "      <th>mean</th>\n",
       "      <td>4.441211</td>\n",
       "      <td>2.673830</td>\n",
       "      <td>7.857921</td>\n",
       "      <td>10.205479</td>\n",
       "      <td>4.336637</td>\n",
       "      <td>-2.194853</td>\n",
       "      <td>14.620874</td>\n",
       "      <td>2.008393</td>\n",
       "      <td>12.848332</td>\n",
       "      <td>0.665759</td>\n",
       "      <td>15.859392</td>\n",
       "      <td>8.386231</td>\n",
       "      <td>19.939106</td>\n",
       "      <td>1.030220</td>\n",
       "      <td>12.998137</td>\n",
       "      <td>4.793924</td>\n",
       "    </tr>\n",
       "    <tr>\n",
       "      <th>std</th>\n",
       "      <td>0.450720</td>\n",
       "      <td>1.897876</td>\n",
       "      <td>5.596337</td>\n",
       "      <td>3.097558</td>\n",
       "      <td>6.224082</td>\n",
       "      <td>0.871081</td>\n",
       "      <td>3.429903</td>\n",
       "      <td>1.553450</td>\n",
       "      <td>4.664797</td>\n",
       "      <td>1.490443</td>\n",
       "      <td>2.243766</td>\n",
       "      <td>7.334328</td>\n",
       "      <td>10.823385</td>\n",
       "      <td>0.493615</td>\n",
       "      <td>6.981490</td>\n",
       "      <td>1.165317</td>\n",
       "    </tr>\n",
       "    <tr>\n",
       "      <th>min</th>\n",
       "      <td>3.401197</td>\n",
       "      <td>0.000000</td>\n",
       "      <td>0.000000</td>\n",
       "      <td>0.693147</td>\n",
       "      <td>0.000000</td>\n",
       "      <td>-4.726222</td>\n",
       "      <td>0.000000</td>\n",
       "      <td>-0.693147</td>\n",
       "      <td>0.000000</td>\n",
       "      <td>0.000000</td>\n",
       "      <td>0.000000</td>\n",
       "      <td>0.000000</td>\n",
       "      <td>0.000000</td>\n",
       "      <td>-0.618261</td>\n",
       "      <td>0.000000</td>\n",
       "      <td>0.620576</td>\n",
       "    </tr>\n",
       "    <tr>\n",
       "      <th>25%</th>\n",
       "      <td>4.137563</td>\n",
       "      <td>1.098612</td>\n",
       "      <td>0.000000</td>\n",
       "      <td>8.202238</td>\n",
       "      <td>0.000000</td>\n",
       "      <td>-2.806086</td>\n",
       "      <td>13.871218</td>\n",
       "      <td>0.000000</td>\n",
       "      <td>12.530833</td>\n",
       "      <td>0.000000</td>\n",
       "      <td>14.938022</td>\n",
       "      <td>0.000000</td>\n",
       "      <td>20.627419</td>\n",
       "      <td>0.598433</td>\n",
       "      <td>14.207187</td>\n",
       "      <td>3.951227</td>\n",
       "    </tr>\n",
       "    <tr>\n",
       "      <th>50%</th>\n",
       "      <td>4.497585</td>\n",
       "      <td>2.639057</td>\n",
       "      <td>9.886697</td>\n",
       "      <td>10.318507</td>\n",
       "      <td>0.000000</td>\n",
       "      <td>-2.356453</td>\n",
       "      <td>15.289612</td>\n",
       "      <td>2.197225</td>\n",
       "      <td>14.264136</td>\n",
       "      <td>0.000000</td>\n",
       "      <td>16.213256</td>\n",
       "      <td>12.151896</td>\n",
       "      <td>24.825214</td>\n",
       "      <td>0.993252</td>\n",
       "      <td>16.531529</td>\n",
       "      <td>5.003946</td>\n",
       "    </tr>\n",
       "    <tr>\n",
       "      <th>75%</th>\n",
       "      <td>4.747104</td>\n",
       "      <td>3.921924</td>\n",
       "      <td>12.297397</td>\n",
       "      <td>12.493082</td>\n",
       "      <td>11.403918</td>\n",
       "      <td>-1.644715</td>\n",
       "      <td>16.643616</td>\n",
       "      <td>3.295837</td>\n",
       "      <td>15.565118</td>\n",
       "      <td>0.000000</td>\n",
       "      <td>17.307775</td>\n",
       "      <td>15.305258</td>\n",
       "      <td>26.970273</td>\n",
       "      <td>1.451725</td>\n",
       "      <td>17.315346</td>\n",
       "      <td>5.717028</td>\n",
       "    </tr>\n",
       "    <tr>\n",
       "      <th>max</th>\n",
       "      <td>11.614498</td>\n",
       "      <td>11.837658</td>\n",
       "      <td>18.643824</td>\n",
       "      <td>17.204028</td>\n",
       "      <td>17.419063</td>\n",
       "      <td>1.085620</td>\n",
       "      <td>19.590919</td>\n",
       "      <td>5.808142</td>\n",
       "      <td>18.491778</td>\n",
       "      <td>5.267858</td>\n",
       "      <td>19.746421</td>\n",
       "      <td>17.919354</td>\n",
       "      <td>30.327201</td>\n",
       "      <td>2.639771</td>\n",
       "      <td>19.029087</td>\n",
       "      <td>7.146772</td>\n",
       "    </tr>\n",
       "  </tbody>\n",
       "</table>\n",
       "</div>"
      ],
      "text/plain": [
       "        V_LAND_KN  TOTAL_DEATHS  TOTAL_DAMAGE_(000$)  TOTAL_AFFECTED  \\\n",
       "count  911.000000    911.000000           911.000000      911.000000   \n",
       "mean     4.441211      2.673830             7.857921       10.205479   \n",
       "std      0.450720      1.897876             5.596337        3.097558   \n",
       "min      3.401197      0.000000             0.000000        0.693147   \n",
       "25%      4.137563      1.098612             0.000000        8.202238   \n",
       "50%      4.497585      2.639057             9.886697       10.318507   \n",
       "75%      4.747104      3.921924            12.297397       12.493082   \n",
       "max     11.614498     11.837658            18.643824       17.204028   \n",
       "\n",
       "         96KN_POP  Arable land (hectares per person)  POP_MAX_50_ADJ  \\\n",
       "count  911.000000                         911.000000      911.000000   \n",
       "mean     4.336637                          -2.194853       14.620874   \n",
       "std      6.224082                           0.871081        3.429903   \n",
       "min      0.000000                          -4.726222        0.000000   \n",
       "25%      0.000000                          -2.806086       13.871218   \n",
       "50%      0.000000                          -2.356453       15.289612   \n",
       "75%     11.403918                          -1.644715       16.643616   \n",
       "max     17.419063                           1.085620       19.590919   \n",
       "\n",
       "       TOTAL_HOURS_IN_LAND  POP_MAX_64_ADJ  MIN_DIST2LAND  POP_MAX_34_ADJ  \\\n",
       "count           911.000000      911.000000     911.000000      911.000000   \n",
       "mean              2.008393       12.848332       0.665759       15.859392   \n",
       "std               1.553450        4.664797       1.490443        2.243766   \n",
       "min              -0.693147        0.000000       0.000000        0.000000   \n",
       "25%               0.000000       12.530833       0.000000       14.938022   \n",
       "50%               2.197225       14.264136       0.000000       16.213256   \n",
       "75%               3.295837       15.565118       0.000000       17.307775   \n",
       "max               5.808142       18.491778       5.267858       19.746421   \n",
       "\n",
       "         64KN_POP  CALC_assets_emdat  \\\n",
       "count  911.000000         911.000000   \n",
       "mean     8.386231          19.939106   \n",
       "std      7.334328          10.823385   \n",
       "min      0.000000           0.000000   \n",
       "25%      0.000000          20.627419   \n",
       "50%     12.151896          24.825214   \n",
       "75%     15.305258          26.970273   \n",
       "max     17.919354          30.327201   \n",
       "\n",
       "       Adjusted savings: education expenditure (% of GNI)  \\\n",
       "count                                         911.000000    \n",
       "mean                                            1.030220    \n",
       "std                                             0.493615    \n",
       "min                                            -0.618261    \n",
       "25%                                             0.598433    \n",
       "50%                                             0.993252    \n",
       "75%                                             1.451725    \n",
       "max                                             2.639771    \n",
       "\n",
       "       Net flows from UN agencies US$  POP_DEN_SQ_KM  \n",
       "count                      911.000000     911.000000  \n",
       "mean                        12.998137       4.793924  \n",
       "std                          6.981490       1.165317  \n",
       "min                          0.000000       0.620576  \n",
       "25%                         14.207187       3.951227  \n",
       "50%                         16.531529       5.003946  \n",
       "75%                         17.315346       5.717028  \n",
       "max                         19.029087       7.146772  "
      ]
     },
     "execution_count": 41,
     "metadata": {},
     "output_type": "execute_result"
    }
   ],
   "source": [
    "df1[feats_to_log].describe()"
   ]
  },
  {
   "cell_type": "code",
   "execution_count": 42,
   "metadata": {},
   "outputs": [
    {
     "data": {
      "image/png": "[encoded data removed]",
      "text/plain": [
       "<Figure size 432x288 with 1 Axes>"
      ]
     },
     "metadata": {
      "needs_background": "light"
     },
     "output_type": "display_data"
    },
    {
     "data": {
      "image/png": "[encoded data removed]",
      "text/plain": [
       "<Figure size 432x288 with 1 Axes>"
      ]
     },
     "metadata": {
      "needs_background": "light"
     },
     "output_type": "display_data"
    },
    {
     "data": {
      "image/png": "[encoded data removed]",
      "text/plain": [
       "<Figure size 432x288 with 1 Axes>"
      ]
     },
     "metadata": {
      "needs_background": "light"
     },
     "output_type": "display_data"
    },
    {
     "data": {
      "image/png": "[encoded data removed]",
      "text/plain": [
       "<Figure size 432x288 with 1 Axes>"
      ]
     },
     "metadata": {
      "needs_background": "light"
     },
     "output_type": "display_data"
    },
    {
     "data": {
      "image/png": "[encoded data removed]",
      "text/plain": [
       "<Figure size 432x288 with 1 Axes>"
      ]
     },
     "metadata": {
      "needs_background": "light"
     },
     "output_type": "display_data"
    },
    {
     "data": {
      "image/png": "[encoded data removed]",
      "text/plain": [
       "<Figure size 432x288 with 1 Axes>"
      ]
     },
     "metadata": {
      "needs_background": "light"
     },
     "output_type": "display_data"
    },
    {
     "data": {
      "image/png": "[encoded data removed]",
      "text/plain": [
       "<Figure size 432x288 with 1 Axes>"
      ]
     },
     "metadata": {
      "needs_background": "light"
     },
     "output_type": "display_data"
    },
    {
     "data": {
      "image/png": "[encoded data removed]",
      "text/plain": [
       "<Figure size 432x288 with 1 Axes>"
      ]
     },
     "metadata": {
      "needs_background": "light"
     },
     "output_type": "display_data"
    },
    {
     "data": {
      "image/png": "[encoded data removed]",
      "text/plain": [
       "<Figure size 432x288 with 1 Axes>"
      ]
     },
     "metadata": {
      "needs_background": "light"
     },
     "output_type": "display_data"
    },
    {
     "data": {
      "image/png": "[encoded data removed]",
      "text/plain": [
       "<Figure size 432x288 with 1 Axes>"
      ]
     },
     "metadata": {
      "needs_background": "light"
     },
     "output_type": "display_data"
    },
    {
     "data": {
      "image/png": "[encoded data removed]",
      "text/plain": [
       "<Figure size 432x288 with 1 Axes>"
      ]
     },
     "metadata": {
      "needs_background": "light"
     },
     "output_type": "display_data"
    },
    {
     "data": {
      "image/png": "[encoded data removed]",
      "text/plain": [
       "<Figure size 432x288 with 1 Axes>"
      ]
     },
     "metadata": {
      "needs_background": "light"
     },
     "output_type": "display_data"
    },
    {
     "data": {
      "image/png": "[encoded data removed]",
      "text/plain": [
       "<Figure size 432x288 with 1 Axes>"
      ]
     },
     "metadata": {
      "needs_background": "light"
     },
     "output_type": "display_data"
    },
    {
     "data": {
      "image/png": "[encoded data removed]",
      "text/plain": [
       "<Figure size 432x288 with 1 Axes>"
      ]
     },
     "metadata": {
      "needs_background": "light"
     },
     "output_type": "display_data"
    },
    {
     "data": {
      "image/png": "[encoded data removed]",
      "text/plain": [
       "<Figure size 432x288 with 1 Axes>"
      ]
     },
     "metadata": {
      "needs_background": "light"
     },
     "output_type": "display_data"
    },
    {
     "data": {
      "image/png": "[encoded data removed]",
      "text/plain": [
       "<Figure size 432x288 with 1 Axes>"
      ]
     },
     "metadata": {
      "needs_background": "light"
     },
     "output_type": "display_data"
    },
    {
     "data": {
      "text/plain": [
       "<Figure size 432x288 with 0 Axes>"
      ]
     },
     "metadata": {},
     "output_type": "display_data"
    }
   ],
   "source": [
    "for item in feats_to_log:\n",
    "    ax=sns.distplot(df1[item].values)\n",
    "    ax.set_title(item);\n",
    "    plt.show()\n",
    "    plt.clf()\n"
   ]
  },
  {
   "cell_type": "code",
   "execution_count": 43,
   "metadata": {},
   "outputs": [
    {
     "data": {
      "text/html": [
       "<div>\n",
       "<style scoped>\n",
       "    .dataframe tbody tr th:only-of-type {\n",
       "        vertical-align: middle;\n",
       "    }\n",
       "\n",
       "    .dataframe tbody tr th {\n",
       "        vertical-align: top;\n",
       "    }\n",
       "\n",
       "    .dataframe thead th {\n",
       "        text-align: right;\n",
       "    }\n",
       "</style>\n",
       "<table border=\"1\" class=\"dataframe\">\n",
       "  <thead>\n",
       "    <tr style=\"text-align: right;\">\n",
       "      <th></th>\n",
       "      <th>MONTH_START</th>\n",
       "      <th>TOTAL_HOURS_EVENT</th>\n",
       "      <th>TOTAL_HOURS_IN_LAND</th>\n",
       "      <th>MAX_WIND</th>\n",
       "      <th>MIN_PRES</th>\n",
       "      <th>MIN_DIST2LAND</th>\n",
       "      <th>MAX_STORMSPEED</th>\n",
       "      <th>MAX_USA_SSHS</th>\n",
       "      <th>MAX_USA_SSHS_INLAND</th>\n",
       "      <th>V_LAND_KN</th>\n",
       "      <th>...</th>\n",
       "      <th>Food production index (2004-2006 = 100)</th>\n",
       "      <th>GDP per capita (constant 2010 US$)</th>\n",
       "      <th>Net flows from UN agencies US$</th>\n",
       "      <th>Life expectancy at birth, total (years)</th>\n",
       "      <th>Adjusted savings: education expenditure (% of GNI)</th>\n",
       "      <th>Income_level_Final</th>\n",
       "      <th>POP_MAX_34_ADJ</th>\n",
       "      <th>POP_MAX_50_ADJ</th>\n",
       "      <th>POP_MAX_64_ADJ</th>\n",
       "      <th>TOTAL_AFFECTED</th>\n",
       "    </tr>\n",
       "  </thead>\n",
       "  <tbody>\n",
       "    <tr>\n",
       "      <th>count</th>\n",
       "      <td>911.000000</td>\n",
       "      <td>911.000000</td>\n",
       "      <td>911.000000</td>\n",
       "      <td>911.000000</td>\n",
       "      <td>911.000000</td>\n",
       "      <td>911.000000</td>\n",
       "      <td>909.000000</td>\n",
       "      <td>910.000000</td>\n",
       "      <td>751.000000</td>\n",
       "      <td>911.000000</td>\n",
       "      <td>...</td>\n",
       "      <td>911.000000</td>\n",
       "      <td>903.000000</td>\n",
       "      <td>911.000000</td>\n",
       "      <td>911.000000</td>\n",
       "      <td>911.000000</td>\n",
       "      <td>911.000000</td>\n",
       "      <td>911.000000</td>\n",
       "      <td>911.000000</td>\n",
       "      <td>911.000000</td>\n",
       "      <td>911.000000</td>\n",
       "    </tr>\n",
       "    <tr>\n",
       "      <th>mean</th>\n",
       "      <td>7.792536</td>\n",
       "      <td>87.795646</td>\n",
       "      <td>2.008393</td>\n",
       "      <td>87.140009</td>\n",
       "      <td>941.511526</td>\n",
       "      <td>0.665759</td>\n",
       "      <td>18.490649</td>\n",
       "      <td>1.810989</td>\n",
       "      <td>0.837550</td>\n",
       "      <td>4.441211</td>\n",
       "      <td>...</td>\n",
       "      <td>93.462000</td>\n",
       "      <td>9770.707801</td>\n",
       "      <td>12.998137</td>\n",
       "      <td>70.378526</td>\n",
       "      <td>1.030220</td>\n",
       "      <td>2.446762</td>\n",
       "      <td>15.859392</td>\n",
       "      <td>14.620874</td>\n",
       "      <td>12.848332</td>\n",
       "      <td>10.205479</td>\n",
       "    </tr>\n",
       "    <tr>\n",
       "      <th>std</th>\n",
       "      <td>2.641967</td>\n",
       "      <td>71.733570</td>\n",
       "      <td>1.553450</td>\n",
       "      <td>33.423959</td>\n",
       "      <td>129.049380</td>\n",
       "      <td>1.490443</td>\n",
       "      <td>9.641319</td>\n",
       "      <td>1.885469</td>\n",
       "      <td>1.597574</td>\n",
       "      <td>0.450720</td>\n",
       "      <td>...</td>\n",
       "      <td>29.640731</td>\n",
       "      <td>15066.147999</td>\n",
       "      <td>6.981490</td>\n",
       "      <td>7.431117</td>\n",
       "      <td>0.493615</td>\n",
       "      <td>0.938299</td>\n",
       "      <td>2.243766</td>\n",
       "      <td>3.429903</td>\n",
       "      <td>4.664797</td>\n",
       "      <td>3.097558</td>\n",
       "    </tr>\n",
       "    <tr>\n",
       "      <th>min</th>\n",
       "      <td>1.000000</td>\n",
       "      <td>0.000000</td>\n",
       "      <td>-0.693147</td>\n",
       "      <td>0.000000</td>\n",
       "      <td>0.000000</td>\n",
       "      <td>0.000000</td>\n",
       "      <td>0.000000</td>\n",
       "      <td>-5.000000</td>\n",
       "      <td>-5.000000</td>\n",
       "      <td>3.401197</td>\n",
       "      <td>...</td>\n",
       "      <td>13.360000</td>\n",
       "      <td>164.413617</td>\n",
       "      <td>0.000000</td>\n",
       "      <td>41.762000</td>\n",
       "      <td>-0.618261</td>\n",
       "      <td>1.000000</td>\n",
       "      <td>0.000000</td>\n",
       "      <td>0.000000</td>\n",
       "      <td>0.000000</td>\n",
       "      <td>0.693147</td>\n",
       "    </tr>\n",
       "    <tr>\n",
       "      <th>25%</th>\n",
       "      <td>7.000000</td>\n",
       "      <td>33.000000</td>\n",
       "      <td>0.000000</td>\n",
       "      <td>60.000000</td>\n",
       "      <td>937.000000</td>\n",
       "      <td>0.000000</td>\n",
       "      <td>13.000000</td>\n",
       "      <td>0.000000</td>\n",
       "      <td>0.000000</td>\n",
       "      <td>4.137563</td>\n",
       "      <td>...</td>\n",
       "      <td>75.970000</td>\n",
       "      <td>1405.845256</td>\n",
       "      <td>14.207187</td>\n",
       "      <td>66.630220</td>\n",
       "      <td>0.598433</td>\n",
       "      <td>2.000000</td>\n",
       "      <td>14.938022</td>\n",
       "      <td>13.871218</td>\n",
       "      <td>12.530833</td>\n",
       "      <td>8.202238</td>\n",
       "    </tr>\n",
       "    <tr>\n",
       "      <th>50%</th>\n",
       "      <td>8.000000</td>\n",
       "      <td>75.000000</td>\n",
       "      <td>2.197225</td>\n",
       "      <td>85.000000</td>\n",
       "      <td>960.000000</td>\n",
       "      <td>0.000000</td>\n",
       "      <td>16.000000</td>\n",
       "      <td>1.000000</td>\n",
       "      <td>1.000000</td>\n",
       "      <td>4.497585</td>\n",
       "      <td>...</td>\n",
       "      <td>99.070000</td>\n",
       "      <td>2495.575295</td>\n",
       "      <td>16.531529</td>\n",
       "      <td>70.930000</td>\n",
       "      <td>0.993252</td>\n",
       "      <td>2.000000</td>\n",
       "      <td>16.213256</td>\n",
       "      <td>15.289612</td>\n",
       "      <td>14.264136</td>\n",
       "      <td>10.318507</td>\n",
       "    </tr>\n",
       "    <tr>\n",
       "      <th>75%</th>\n",
       "      <td>10.000000</td>\n",
       "      <td>120.000000</td>\n",
       "      <td>3.295837</td>\n",
       "      <td>115.000000</td>\n",
       "      <td>980.000000</td>\n",
       "      <td>0.000000</td>\n",
       "      <td>21.000000</td>\n",
       "      <td>4.000000</td>\n",
       "      <td>2.000000</td>\n",
       "      <td>4.747104</td>\n",
       "      <td>...</td>\n",
       "      <td>113.990000</td>\n",
       "      <td>8569.006084</td>\n",
       "      <td>17.315346</td>\n",
       "      <td>75.123000</td>\n",
       "      <td>1.451725</td>\n",
       "      <td>3.000000</td>\n",
       "      <td>17.307775</td>\n",
       "      <td>16.643616</td>\n",
       "      <td>15.565118</td>\n",
       "      <td>12.493082</td>\n",
       "    </tr>\n",
       "    <tr>\n",
       "      <th>max</th>\n",
       "      <td>12.000000</td>\n",
       "      <td>516.000000</td>\n",
       "      <td>5.808142</td>\n",
       "      <td>185.000000</td>\n",
       "      <td>1013.000000</td>\n",
       "      <td>5.267858</td>\n",
       "      <td>69.000000</td>\n",
       "      <td>5.000000</td>\n",
       "      <td>5.000000</td>\n",
       "      <td>11.614498</td>\n",
       "      <td>...</td>\n",
       "      <td>202.377089</td>\n",
       "      <td>56095.186320</td>\n",
       "      <td>19.029087</td>\n",
       "      <td>84.099756</td>\n",
       "      <td>2.639771</td>\n",
       "      <td>4.000000</td>\n",
       "      <td>19.746421</td>\n",
       "      <td>19.590919</td>\n",
       "      <td>18.491778</td>\n",
       "      <td>17.204028</td>\n",
       "    </tr>\n",
       "  </tbody>\n",
       "</table>\n",
       "<p>8 rows × 34 columns</p>\n",
       "</div>"
      ],
      "text/plain": [
       "       MONTH_START  TOTAL_HOURS_EVENT  TOTAL_HOURS_IN_LAND    MAX_WIND  \\\n",
       "count   911.000000         911.000000           911.000000  911.000000   \n",
       "mean      7.792536          87.795646             2.008393   87.140009   \n",
       "std       2.641967          71.733570             1.553450   33.423959   \n",
       "min       1.000000           0.000000            -0.693147    0.000000   \n",
       "25%       7.000000          33.000000             0.000000   60.000000   \n",
       "50%       8.000000          75.000000             2.197225   85.000000   \n",
       "75%      10.000000         120.000000             3.295837  115.000000   \n",
       "max      12.000000         516.000000             5.808142  185.000000   \n",
       "\n",
       "          MIN_PRES  MIN_DIST2LAND  MAX_STORMSPEED  MAX_USA_SSHS  \\\n",
       "count   911.000000     911.000000      909.000000    910.000000   \n",
       "mean    941.511526       0.665759       18.490649      1.810989   \n",
       "std     129.049380       1.490443        9.641319      1.885469   \n",
       "min       0.000000       0.000000        0.000000     -5.000000   \n",
       "25%     937.000000       0.000000       13.000000      0.000000   \n",
       "50%     960.000000       0.000000       16.000000      1.000000   \n",
       "75%     980.000000       0.000000       21.000000      4.000000   \n",
       "max    1013.000000       5.267858       69.000000      5.000000   \n",
       "\n",
       "       MAX_USA_SSHS_INLAND   V_LAND_KN  ...  \\\n",
       "count           751.000000  911.000000  ...   \n",
       "mean              0.837550    4.441211  ...   \n",
       "std               1.597574    0.450720  ...   \n",
       "min              -5.000000    3.401197  ...   \n",
       "25%               0.000000    4.137563  ...   \n",
       "50%               1.000000    4.497585  ...   \n",
       "75%               2.000000    4.747104  ...   \n",
       "max               5.000000   11.614498  ...   \n",
       "\n",
       "       Food production index (2004-2006 = 100)  \\\n",
       "count                               911.000000   \n",
       "mean                                 93.462000   \n",
       "std                                  29.640731   \n",
       "min                                  13.360000   \n",
       "25%                                  75.970000   \n",
       "50%                                  99.070000   \n",
       "75%                                 113.990000   \n",
       "max                                 202.377089   \n",
       "\n",
       "       GDP per capita (constant 2010 US$)  Net flows from UN agencies US$  \\\n",
       "count                          903.000000                      911.000000   \n",
       "mean                          9770.707801                       12.998137   \n",
       "std                          15066.147999                        6.981490   \n",
       "min                            164.413617                        0.000000   \n",
       "25%                           1405.845256                       14.207187   \n",
       "50%                           2495.575295                       16.531529   \n",
       "75%                           8569.006084                       17.315346   \n",
       "max                          56095.186320                       19.029087   \n",
       "\n",
       "       Life expectancy at birth, total (years)  \\\n",
       "count                               911.000000   \n",
       "mean                                 70.378526   \n",
       "std                                   7.431117   \n",
       "min                                  41.762000   \n",
       "25%                                  66.630220   \n",
       "50%                                  70.930000   \n",
       "75%                                  75.123000   \n",
       "max                                  84.099756   \n",
       "\n",
       "       Adjusted savings: education expenditure (% of GNI)  Income_level_Final  \\\n",
       "count                                         911.000000           911.000000   \n",
       "mean                                            1.030220             2.446762   \n",
       "std                                             0.493615             0.938299   \n",
       "min                                            -0.618261             1.000000   \n",
       "25%                                             0.598433             2.000000   \n",
       "50%                                             0.993252             2.000000   \n",
       "75%                                             1.451725             3.000000   \n",
       "max                                             2.639771             4.000000   \n",
       "\n",
       "       POP_MAX_34_ADJ  POP_MAX_50_ADJ  POP_MAX_64_ADJ  TOTAL_AFFECTED  \n",
       "count      911.000000      911.000000      911.000000      911.000000  \n",
       "mean        15.859392       14.620874       12.848332       10.205479  \n",
       "std          2.243766        3.429903        4.664797        3.097558  \n",
       "min          0.000000        0.000000        0.000000        0.693147  \n",
       "25%         14.938022       13.871218       12.530833        8.202238  \n",
       "50%         16.213256       15.289612       14.264136       10.318507  \n",
       "75%         17.307775       16.643616       15.565118       12.493082  \n",
       "max         19.746421       19.590919       18.491778       17.204028  \n",
       "\n",
       "[8 rows x 34 columns]"
      ]
     },
     "execution_count": 43,
     "metadata": {},
     "output_type": "execute_result"
    }
   ],
   "source": [
    "df1.describe()"
   ]
  },
  {
   "cell_type": "markdown",
   "metadata": {},
   "source": [
    "- **One hot encoding for categorical variables**"
   ]
  },
  {
   "cell_type": "code",
   "execution_count": 44,
   "metadata": {
    "scrolled": true
   },
   "outputs": [
    {
     "name": "stdout",
     "output_type": "stream",
     "text": [
      "<class 'pandas.core.frame.DataFrame'>\n",
      "Int64Index: 911 entries, 0 to 990\n",
      "Data columns (total 39 columns):\n",
      "BASIN                                                 911 non-null category\n",
      "SUB BASIN                                             911 non-null category\n",
      "NATURE                                                911 non-null category\n",
      "MONTH_START                                           911 non-null int64\n",
      "TOTAL_HOURS_EVENT                                     911 non-null float64\n",
      "TOTAL_HOURS_IN_LAND                                   911 non-null float64\n",
      "GENERAL_CATEGORY                                      911 non-null category\n",
      "MAX_WIND                                              911 non-null float64\n",
      "MIN_PRES                                              911 non-null int64\n",
      "MIN_DIST2LAND                                         911 non-null float64\n",
      "MAX_STORMSPEED                                        909 non-null float64\n",
      "MAX_USA_SSHS                                          910 non-null float64\n",
      "MAX_USA_SSHS_INLAND                                   751 non-null float64\n",
      "V_LAND_KN                                             911 non-null float64\n",
      "DISTANCE_TRACK                                        911 non-null float64\n",
      "DISTANCE_TRACK_VINCENTY                               911 non-null float64\n",
      "34KN_POP                                              713 non-null float64\n",
      "64KN_POP                                              911 non-null float64\n",
      "96KN_POP                                              911 non-null float64\n",
      "TOTAL_DAMAGE_(000$)                                   911 non-null float64\n",
      "CALC_assets_emdat                                     911 non-null float64\n",
      "Landing                                               911 non-null int32\n",
      "TOTAL_DEATHS                                          911 non-null float64\n",
      "POP_DEN_SQ_KM                                         911 non-null float64\n",
      "RURAL_POP(%)                                          911 non-null float64\n",
      "HDI                                                   911 non-null float64\n",
      "Arable land (hectares per person)                     911 non-null float64\n",
      "Cereal yield (kg per hectare)                         911 non-null float64\n",
      "Food production index (2004-2006 = 100)               911 non-null float64\n",
      "GDP per capita (constant 2010 US$)                    903 non-null float64\n",
      "Net flows from UN agencies US$                        911 non-null float64\n",
      "Life expectancy at birth, total (years)               911 non-null float64\n",
      "Adjusted savings: education expenditure (% of GNI)    911 non-null float64\n",
      "Income_level_Final                                    911 non-null int64\n",
      "POP_MAX_34_ADJ                                        911 non-null float64\n",
      "POP_MAX_50_ADJ                                        911 non-null float64\n",
      "POP_MAX_64_ADJ                                        911 non-null float64\n",
      "POP_MAX_34_ADJ_cat                                    911 non-null category\n",
      "TOTAL_AFFECTED                                        911 non-null float64\n",
      "dtypes: category(5), float64(30), int32(1), int64(3)\n",
      "memory usage: 251.6 KB\n"
     ]
    }
   ],
   "source": [
    "df1.info()"
   ]
  },
  {
   "cell_type": "code",
   "execution_count": 45,
   "metadata": {},
   "outputs": [
    {
     "data": {
      "text/plain": [
       "Index(['BASIN', 'SUB BASIN', 'NATURE', 'GENERAL_CATEGORY',\n",
       "       'POP_MAX_34_ADJ_cat'],\n",
       "      dtype='object')"
      ]
     },
     "execution_count": 45,
     "metadata": {},
     "output_type": "execute_result"
    }
   ],
   "source": [
    "cat_feats = df1.dtypes[df1.dtypes == 'category'].index\n",
    "cat_feats"
   ]
  },
  {
   "cell_type": "code",
   "execution_count": 46,
   "metadata": {},
   "outputs": [],
   "source": [
    "feats_to_dummy = cat_feats[0:4] #selecting feats to make one-hot encoding\n",
    "\n",
    "for feature in feats_to_dummy:\n",
    "    dummy = pd.get_dummies(df1[feature], prefix=feature)\n",
    "    df1 = pd.concat([df1,dummy], axis=1)"
   ]
  },
  {
   "cell_type": "code",
   "execution_count": 47,
   "metadata": {},
   "outputs": [],
   "source": [
    "# Dropping dummed features\n",
    "df1 = df1.drop(feats_to_dummy, axis=1)"
   ]
  },
  {
   "cell_type": "code",
   "execution_count": 48,
   "metadata": {},
   "outputs": [
    {
     "data": {
      "text/plain": [
       "Index(['MONTH_START', 'TOTAL_HOURS_EVENT', 'TOTAL_HOURS_IN_LAND', 'MAX_WIND',\n",
       "       'MIN_PRES', 'MIN_DIST2LAND', 'MAX_STORMSPEED', 'MAX_USA_SSHS',\n",
       "       'MAX_USA_SSHS_INLAND', 'V_LAND_KN', 'DISTANCE_TRACK',\n",
       "       'DISTANCE_TRACK_VINCENTY', '34KN_POP', '64KN_POP', '96KN_POP',\n",
       "       'TOTAL_DAMAGE_(000$)', 'CALC_assets_emdat', 'Landing', 'TOTAL_DEATHS',\n",
       "       'POP_DEN_SQ_KM', 'RURAL_POP(%)', 'HDI',\n",
       "       'Arable land (hectares per person)', 'Cereal yield (kg per hectare)',\n",
       "       'Food production index (2004-2006 = 100)',\n",
       "       'GDP per capita (constant 2010 US$)', 'Net flows from UN agencies US$',\n",
       "       'Life expectancy at birth, total (years)',\n",
       "       'Adjusted savings: education expenditure (% of GNI)',\n",
       "       'Income_level_Final', 'POP_MAX_34_ADJ', 'POP_MAX_50_ADJ',\n",
       "       'POP_MAX_64_ADJ', 'POP_MAX_34_ADJ_cat', 'TOTAL_AFFECTED', 'BASIN_EP',\n",
       "       'BASIN_NAm', 'BASIN_NI', 'BASIN_SI', 'BASIN_SP', 'BASIN_WP',\n",
       "       'SUB BASIN_AS', 'SUB BASIN_BB', 'SUB BASIN_CP', 'SUB BASIN_CS',\n",
       "       'SUB BASIN_EA', 'SUB BASIN_EP', 'SUB BASIN_GM', 'SUB BASIN_NAm',\n",
       "       'SUB BASIN_SI', 'SUB BASIN_SP', 'SUB BASIN_WA', 'SUB BASIN_WP',\n",
       "       'NATURE_DS', 'NATURE_ET', 'NATURE_MX', 'NATURE_NR', 'NATURE_SS',\n",
       "       'NATURE_TS', 'GENERAL_CATEGORY_Cat 1', 'GENERAL_CATEGORY_Cat 2',\n",
       "       'GENERAL_CATEGORY_Cat 3', 'GENERAL_CATEGORY_Cat 4',\n",
       "       'GENERAL_CATEGORY_Cat 5', 'GENERAL_CATEGORY_TD', 'GENERAL_CATEGORY_TS'],\n",
       "      dtype='object')"
      ]
     },
     "execution_count": 48,
     "metadata": {},
     "output_type": "execute_result"
    }
   ],
   "source": [
    "df1.columns"
   ]
  },
  {
   "cell_type": "code",
   "execution_count": 49,
   "metadata": {},
   "outputs": [
    {
     "data": {
      "text/plain": [
       "(911, 66)"
      ]
     },
     "execution_count": 49,
     "metadata": {},
     "output_type": "execute_result"
    }
   ],
   "source": [
    "df1.shape"
   ]
  },
  {
   "cell_type": "code",
   "execution_count": 50,
   "metadata": {},
   "outputs": [],
   "source": [
    "#Droping Basin and keeping subBasin because has higher granularity,\n",
    "#Droping '34KN_POP', '64KN_POP', '96KN_POP' as info is inherent in POP_MAX columns\n",
    "#column arrangement \n",
    "df1 = df1[[\n",
    "    \n",
    "     # here columns from cyclones dataset:\n",
    "    'MONTH_START', 'TOTAL_HOURS_EVENT', 'TOTAL_HOURS_IN_LAND', 'MAX_WIND',\n",
    "       'MIN_PRES', 'MIN_DIST2LAND', 'MAX_STORMSPEED', 'MAX_USA_SSHS',\n",
    "       'MAX_USA_SSHS_INLAND', 'V_LAND_KN', 'DISTANCE_TRACK',\n",
    "       'DISTANCE_TRACK_VINCENTY',\n",
    "        'Landing',\n",
    "    \n",
    "    'SUB BASIN_AS', 'SUB BASIN_BB',\n",
    "       'SUB BASIN_CP', 'SUB BASIN_CS', 'SUB BASIN_EA', 'SUB BASIN_EP',\n",
    "       'SUB BASIN_GM', 'SUB BASIN_NAm', 'SUB BASIN_SI', 'SUB BASIN_SP',\n",
    "       'SUB BASIN_WA', 'SUB BASIN_WP', 'NATURE_DS', 'NATURE_ET', 'NATURE_MX',\n",
    "       'NATURE_NR', 'NATURE_SS', 'NATURE_TS', 'GENERAL_CATEGORY_Cat 1',\n",
    "       'GENERAL_CATEGORY_Cat 2', 'GENERAL_CATEGORY_Cat 3',\n",
    "       'GENERAL_CATEGORY_Cat 4', 'GENERAL_CATEGORY_Cat 5',\n",
    "       'GENERAL_CATEGORY_TD', 'GENERAL_CATEGORY_TS',\n",
    "    \n",
    "    'TOTAL_DAMAGE_(000$)', 'CALC_assets_emdat', 'TOTAL_DEATHS',\n",
    "\n",
    "         \n",
    "    # here columns from World Bank Indicators dataset:\n",
    "    'POP_DEN_SQ_KM', 'RURAL_POP(%)', 'HDI',\n",
    "       'Arable land (hectares per person)', 'Cereal yield (kg per hectare)',\n",
    "       'Food production index (2004-2006 = 100)',\n",
    "       'GDP per capita (constant 2010 US$)', 'Net flows from UN agencies US$',\n",
    "       'Life expectancy at birth, total (years)',\n",
    "       'Adjusted savings: education expenditure (% of GNI)',\n",
    "       'Income_level_Final',\n",
    "         \n",
    "    #  here columns from climada:\n",
    "        'POP_MAX_34_ADJ', 'POP_MAX_50_ADJ', 'POP_MAX_64_ADJ',\n",
    "\n",
    "    # Target   \n",
    "       'TOTAL_AFFECTED', 'POP_MAX_34_ADJ_cat']]"
   ]
  },
  {
   "cell_type": "code",
   "execution_count": 51,
   "metadata": {},
   "outputs": [
    {
     "data": {
      "text/plain": [
       "(911, 57)"
      ]
     },
     "execution_count": 51,
     "metadata": {},
     "output_type": "execute_result"
    }
   ],
   "source": [
    "df1.shape"
   ]
  },
  {
   "cell_type": "markdown",
   "metadata": {},
   "source": [
    "### Feature selection"
   ]
  },
  {
   "cell_type": "code",
   "execution_count": 52,
   "metadata": {},
   "outputs": [],
   "source": [
    "# choosing the features to include in the model\n",
    "# We take out 'TOTAL_DAMAGE_(000$)', 'CALC_assets_emdat', 'TOTAL_DEATHS', because this inputs will not be available at the time of prediction, \n",
    "\n",
    "\n",
    "features1 = [   \n",
    "    \n",
    "     # here columns from cyclones dataset:\n",
    "    'MONTH_START', 'TOTAL_HOURS_EVENT', 'TOTAL_HOURS_IN_LAND', 'MAX_WIND',\n",
    "       'MIN_PRES', 'MIN_DIST2LAND', 'MAX_STORMSPEED', 'MAX_USA_SSHS',\n",
    "       'MAX_USA_SSHS_INLAND', 'V_LAND_KN', \n",
    "    #'DISTANCE_TRACK',\n",
    "       'DISTANCE_TRACK_VINCENTY',\n",
    "        'Landing',\n",
    "    \n",
    "    'SUB BASIN_AS', 'SUB BASIN_BB',\n",
    "       'SUB BASIN_CP', 'SUB BASIN_CS', 'SUB BASIN_EA', 'SUB BASIN_EP',\n",
    "       'SUB BASIN_GM', 'SUB BASIN_NAm', 'SUB BASIN_SI', 'SUB BASIN_SP',\n",
    "       'SUB BASIN_WA', 'SUB BASIN_WP', 'NATURE_DS', 'NATURE_ET', 'NATURE_MX',\n",
    "       'NATURE_NR', 'NATURE_SS', 'NATURE_TS', 'GENERAL_CATEGORY_Cat 1',\n",
    "       'GENERAL_CATEGORY_Cat 2', 'GENERAL_CATEGORY_Cat 3',\n",
    "       'GENERAL_CATEGORY_Cat 4', 'GENERAL_CATEGORY_Cat 5',\n",
    "       'GENERAL_CATEGORY_TD', 'GENERAL_CATEGORY_TS',\n",
    "    \n",
    "    #'TOTAL_DAMAGE_(000$)', 'CALC_assets_emdat', 'TOTAL_DEATHS',\n",
    "\n",
    "         \n",
    "    # here columns from World Bank Indicators dataset:\n",
    "    'POP_DEN_SQ_KM', 'RURAL_POP(%)', 'HDI',\n",
    "       'Arable land (hectares per person)', 'Cereal yield (kg per hectare)',\n",
    "       'Food production index (2004-2006 = 100)',\n",
    "       'GDP per capita (constant 2010 US$)', #'Net flows from UN agencies US$',\n",
    "       'Life expectancy at birth, total (years)',\n",
    "       'Adjusted savings: education expenditure (% of GNI)',\n",
    "       'Income_level_Final',\n",
    "         \n",
    "    #  here columns from climada:\n",
    "        'POP_MAX_34_ADJ', 'POP_MAX_50_ADJ', 'POP_MAX_64_ADJ', \n",
    "    'POP_MAX_34_ADJ_cat' #for stratified sampling\n",
    "         ]"
   ]
  },
  {
   "cell_type": "code",
   "execution_count": 53,
   "metadata": {},
   "outputs": [],
   "source": [
    "df1 = df1[df1['TOTAL_AFFECTED'] >0]"
   ]
  },
  {
   "cell_type": "code",
   "execution_count": 54,
   "metadata": {
    "scrolled": true
   },
   "outputs": [
    {
     "data": {
      "text/plain": [
       "array([0, 1], dtype=uint64)"
      ]
     },
     "execution_count": 54,
     "metadata": {},
     "output_type": "execute_result"
    }
   ],
   "source": [
    "#some checks....\n",
    "df1['SUB BASIN_NAm'].unique()"
   ]
  },
  {
   "cell_type": "code",
   "execution_count": 55,
   "metadata": {},
   "outputs": [
    {
     "data": {
      "text/plain": [
       "<matplotlib.axes._subplots.AxesSubplot at 0x1e4f5954048>"
      ]
     },
     "execution_count": 55,
     "metadata": {},
     "output_type": "execute_result"
    },
    {
     "data": {
      "image/png": "[encoded data removed]",
      "text/plain": [
       "<Figure size 720x360 with 1 Axes>"
      ]
     },
     "metadata": {
      "needs_background": "light"
     },
     "output_type": "display_data"
    }
   ],
   "source": [
    "#some checks....\n",
    "df1['TOTAL_AFFECTED'].hist(bins=20, figsize=(10,5)) #this is logarithmic and scaled(0,1)"
   ]
  },
  {
   "cell_type": "markdown",
   "metadata": {},
   "source": [
    "__________________"
   ]
  },
  {
   "cell_type": "markdown",
   "metadata": {},
   "source": [
    "________________________"
   ]
  },
  {
   "cell_type": "code",
   "execution_count": 56,
   "metadata": {},
   "outputs": [
    {
     "data": {
      "text/plain": [
       "(911, 57)"
      ]
     },
     "execution_count": 56,
     "metadata": {},
     "output_type": "execute_result"
    }
   ],
   "source": [
    "df1.shape"
   ]
  },
  {
   "cell_type": "code",
   "execution_count": 57,
   "metadata": {},
   "outputs": [
    {
     "data": {
      "text/html": [
       "<div>\n",
       "<style scoped>\n",
       "    .dataframe tbody tr th:only-of-type {\n",
       "        vertical-align: middle;\n",
       "    }\n",
       "\n",
       "    .dataframe tbody tr th {\n",
       "        vertical-align: top;\n",
       "    }\n",
       "\n",
       "    .dataframe thead th {\n",
       "        text-align: right;\n",
       "    }\n",
       "</style>\n",
       "<table border=\"1\" class=\"dataframe\">\n",
       "  <thead>\n",
       "    <tr style=\"text-align: right;\">\n",
       "      <th></th>\n",
       "      <th>MONTH_START</th>\n",
       "      <th>TOTAL_HOURS_EVENT</th>\n",
       "      <th>TOTAL_HOURS_IN_LAND</th>\n",
       "      <th>MAX_WIND</th>\n",
       "      <th>MIN_PRES</th>\n",
       "      <th>MIN_DIST2LAND</th>\n",
       "      <th>MAX_STORMSPEED</th>\n",
       "      <th>MAX_USA_SSHS</th>\n",
       "      <th>MAX_USA_SSHS_INLAND</th>\n",
       "      <th>V_LAND_KN</th>\n",
       "      <th>...</th>\n",
       "      <th>GDP per capita (constant 2010 US$)</th>\n",
       "      <th>Net flows from UN agencies US$</th>\n",
       "      <th>Life expectancy at birth, total (years)</th>\n",
       "      <th>Adjusted savings: education expenditure (% of GNI)</th>\n",
       "      <th>Income_level_Final</th>\n",
       "      <th>POP_MAX_34_ADJ</th>\n",
       "      <th>POP_MAX_50_ADJ</th>\n",
       "      <th>POP_MAX_64_ADJ</th>\n",
       "      <th>TOTAL_AFFECTED</th>\n",
       "      <th>POP_MAX_34_ADJ_cat</th>\n",
       "    </tr>\n",
       "  </thead>\n",
       "  <tbody>\n",
       "    <tr>\n",
       "      <th>0</th>\n",
       "      <td>6</td>\n",
       "      <td>117.0</td>\n",
       "      <td>4.094345</td>\n",
       "      <td>116.0</td>\n",
       "      <td>952</td>\n",
       "      <td>0.0</td>\n",
       "      <td>33.0</td>\n",
       "      <td>3.0</td>\n",
       "      <td>0.0</td>\n",
       "      <td>4.603369</td>\n",
       "      <td>...</td>\n",
       "      <td>8607.657082</td>\n",
       "      <td>0.0</td>\n",
       "      <td>67.666098</td>\n",
       "      <td>1.053572</td>\n",
       "      <td>1</td>\n",
       "      <td>16.298999</td>\n",
       "      <td>15.574055</td>\n",
       "      <td>15.015749</td>\n",
       "      <td>12.175851</td>\n",
       "      <td>(10000000.0, 25000000.0]</td>\n",
       "    </tr>\n",
       "    <tr>\n",
       "      <th>1</th>\n",
       "      <td>8</td>\n",
       "      <td>141.0</td>\n",
       "      <td>3.044522</td>\n",
       "      <td>116.0</td>\n",
       "      <td>940</td>\n",
       "      <td>0.0</td>\n",
       "      <td>31.0</td>\n",
       "      <td>3.0</td>\n",
       "      <td>1.0</td>\n",
       "      <td>4.603369</td>\n",
       "      <td>...</td>\n",
       "      <td>8607.657082</td>\n",
       "      <td>0.0</td>\n",
       "      <td>67.666098</td>\n",
       "      <td>1.053572</td>\n",
       "      <td>1</td>\n",
       "      <td>17.268928</td>\n",
       "      <td>16.562266</td>\n",
       "      <td>16.136855</td>\n",
       "      <td>13.372526</td>\n",
       "      <td>(25000000.0, 50000000.0]</td>\n",
       "    </tr>\n",
       "    <tr>\n",
       "      <th>2</th>\n",
       "      <td>8</td>\n",
       "      <td>15.0</td>\n",
       "      <td>1.098612</td>\n",
       "      <td>110.0</td>\n",
       "      <td>0</td>\n",
       "      <td>0.0</td>\n",
       "      <td>17.0</td>\n",
       "      <td>3.0</td>\n",
       "      <td>3.0</td>\n",
       "      <td>4.885828</td>\n",
       "      <td>...</td>\n",
       "      <td>3796.219401</td>\n",
       "      <td>0.0</td>\n",
       "      <td>64.770000</td>\n",
       "      <td>0.947132</td>\n",
       "      <td>1</td>\n",
       "      <td>14.339791</td>\n",
       "      <td>14.338512</td>\n",
       "      <td>13.993700</td>\n",
       "      <td>9.913438</td>\n",
       "      <td>(1000000.0, 5000000.0]</td>\n",
       "    </tr>\n",
       "    <tr>\n",
       "      <th>3</th>\n",
       "      <td>12</td>\n",
       "      <td>231.0</td>\n",
       "      <td>3.583519</td>\n",
       "      <td>120.0</td>\n",
       "      <td>924</td>\n",
       "      <td>0.0</td>\n",
       "      <td>11.0</td>\n",
       "      <td>4.0</td>\n",
       "      <td>2.0</td>\n",
       "      <td>4.780803</td>\n",
       "      <td>...</td>\n",
       "      <td>1059.467412</td>\n",
       "      <td>0.0</td>\n",
       "      <td>61.105000</td>\n",
       "      <td>1.014409</td>\n",
       "      <td>2</td>\n",
       "      <td>15.375766</td>\n",
       "      <td>14.916344</td>\n",
       "      <td>13.924162</td>\n",
       "      <td>11.002100</td>\n",
       "      <td>(1000000.0, 5000000.0]</td>\n",
       "    </tr>\n",
       "    <tr>\n",
       "      <th>4</th>\n",
       "      <td>7</td>\n",
       "      <td>84.0</td>\n",
       "      <td>2.197225</td>\n",
       "      <td>110.0</td>\n",
       "      <td>968</td>\n",
       "      <td>0.0</td>\n",
       "      <td>15.0</td>\n",
       "      <td>3.0</td>\n",
       "      <td>1.0</td>\n",
       "      <td>11.614498</td>\n",
       "      <td>...</td>\n",
       "      <td>1059.467412</td>\n",
       "      <td>0.0</td>\n",
       "      <td>61.105000</td>\n",
       "      <td>1.014409</td>\n",
       "      <td>2</td>\n",
       "      <td>15.450771</td>\n",
       "      <td>14.841368</td>\n",
       "      <td>14.502903</td>\n",
       "      <td>4.634729</td>\n",
       "      <td>(5000000.0, 10000000.0]</td>\n",
       "    </tr>\n",
       "  </tbody>\n",
       "</table>\n",
       "<p>5 rows × 57 columns</p>\n",
       "</div>"
      ],
      "text/plain": [
       "   MONTH_START  TOTAL_HOURS_EVENT  TOTAL_HOURS_IN_LAND  MAX_WIND  MIN_PRES  \\\n",
       "0            6              117.0             4.094345     116.0       952   \n",
       "1            8              141.0             3.044522     116.0       940   \n",
       "2            8               15.0             1.098612     110.0         0   \n",
       "3           12              231.0             3.583519     120.0       924   \n",
       "4            7               84.0             2.197225     110.0       968   \n",
       "\n",
       "   MIN_DIST2LAND  MAX_STORMSPEED  MAX_USA_SSHS  MAX_USA_SSHS_INLAND  \\\n",
       "0            0.0            33.0           3.0                  0.0   \n",
       "1            0.0            31.0           3.0                  1.0   \n",
       "2            0.0            17.0           3.0                  3.0   \n",
       "3            0.0            11.0           4.0                  2.0   \n",
       "4            0.0            15.0           3.0                  1.0   \n",
       "\n",
       "   V_LAND_KN  ...  GDP per capita (constant 2010 US$)  \\\n",
       "0   4.603369  ...                         8607.657082   \n",
       "1   4.603369  ...                         8607.657082   \n",
       "2   4.885828  ...                         3796.219401   \n",
       "3   4.780803  ...                         1059.467412   \n",
       "4  11.614498  ...                         1059.467412   \n",
       "\n",
       "   Net flows from UN agencies US$  Life expectancy at birth, total (years)  \\\n",
       "0                             0.0                                67.666098   \n",
       "1                             0.0                                67.666098   \n",
       "2                             0.0                                64.770000   \n",
       "3                             0.0                                61.105000   \n",
       "4                             0.0                                61.105000   \n",
       "\n",
       "   Adjusted savings: education expenditure (% of GNI)  Income_level_Final  \\\n",
       "0                                           1.053572                    1   \n",
       "1                                           1.053572                    1   \n",
       "2                                           0.947132                    1   \n",
       "3                                           1.014409                    2   \n",
       "4                                           1.014409                    2   \n",
       "\n",
       "   POP_MAX_34_ADJ  POP_MAX_50_ADJ  POP_MAX_64_ADJ  TOTAL_AFFECTED  \\\n",
       "0       16.298999       15.574055       15.015749       12.175851   \n",
       "1       17.268928       16.562266       16.136855       13.372526   \n",
       "2       14.339791       14.338512       13.993700        9.913438   \n",
       "3       15.375766       14.916344       13.924162       11.002100   \n",
       "4       15.450771       14.841368       14.502903        4.634729   \n",
       "\n",
       "         POP_MAX_34_ADJ_cat  \n",
       "0  (10000000.0, 25000000.0]  \n",
       "1  (25000000.0, 50000000.0]  \n",
       "2    (1000000.0, 5000000.0]  \n",
       "3    (1000000.0, 5000000.0]  \n",
       "4   (5000000.0, 10000000.0]  \n",
       "\n",
       "[5 rows x 57 columns]"
      ]
     },
     "execution_count": 57,
     "metadata": {},
     "output_type": "execute_result"
    }
   ],
   "source": [
    "df1.head()"
   ]
  },
  {
   "cell_type": "markdown",
   "metadata": {},
   "source": [
    "## Random forest model____________________________________"
   ]
  },
  {
   "cell_type": "code",
   "execution_count": 58,
   "metadata": {},
   "outputs": [],
   "source": [
    " #trim\n"
   ]
  },
  {
   "cell_type": "code",
   "execution_count": 59,
   "metadata": {},
   "outputs": [
    {
     "data": {
      "text/plain": [
       "(911, 57)"
      ]
     },
     "execution_count": 59,
     "metadata": {},
     "output_type": "execute_result"
    }
   ],
   "source": [
    "df1.shape"
   ]
  },
  {
   "cell_type": "code",
   "execution_count": 60,
   "metadata": {},
   "outputs": [],
   "source": [
    "from sklearn.impute import KNNImputer"
   ]
  },
  {
   "cell_type": "code",
   "execution_count": 61,
   "metadata": {},
   "outputs": [
    {
     "data": {
      "text/plain": [
       "0"
      ]
     },
     "execution_count": 61,
     "metadata": {},
     "output_type": "execute_result"
    }
   ],
   "source": [
    "df1['POP_MAX_34_ADJ_cat'].isna().sum()"
   ]
  },
  {
   "cell_type": "code",
   "execution_count": 62,
   "metadata": {},
   "outputs": [],
   "source": [
    "df1.reset_index(drop=True, inplace=True)"
   ]
  },
  {
   "cell_type": "code",
   "execution_count": 63,
   "metadata": {},
   "outputs": [
    {
     "data": {
      "text/html": [
       "<div>\n",
       "<style scoped>\n",
       "    .dataframe tbody tr th:only-of-type {\n",
       "        vertical-align: middle;\n",
       "    }\n",
       "\n",
       "    .dataframe tbody tr th {\n",
       "        vertical-align: top;\n",
       "    }\n",
       "\n",
       "    .dataframe thead th {\n",
       "        text-align: right;\n",
       "    }\n",
       "</style>\n",
       "<table border=\"1\" class=\"dataframe\">\n",
       "  <thead>\n",
       "    <tr style=\"text-align: right;\">\n",
       "      <th></th>\n",
       "      <th>MONTH_START</th>\n",
       "      <th>TOTAL_HOURS_EVENT</th>\n",
       "      <th>TOTAL_HOURS_IN_LAND</th>\n",
       "      <th>MAX_WIND</th>\n",
       "      <th>MIN_PRES</th>\n",
       "      <th>MIN_DIST2LAND</th>\n",
       "      <th>MAX_STORMSPEED</th>\n",
       "      <th>MAX_USA_SSHS</th>\n",
       "      <th>MAX_USA_SSHS_INLAND</th>\n",
       "      <th>V_LAND_KN</th>\n",
       "      <th>...</th>\n",
       "      <th>GDP per capita (constant 2010 US$)</th>\n",
       "      <th>Net flows from UN agencies US$</th>\n",
       "      <th>Life expectancy at birth, total (years)</th>\n",
       "      <th>Adjusted savings: education expenditure (% of GNI)</th>\n",
       "      <th>Income_level_Final</th>\n",
       "      <th>POP_MAX_34_ADJ</th>\n",
       "      <th>POP_MAX_50_ADJ</th>\n",
       "      <th>POP_MAX_64_ADJ</th>\n",
       "      <th>TOTAL_AFFECTED</th>\n",
       "      <th>POP_MAX_34_ADJ_cat</th>\n",
       "    </tr>\n",
       "  </thead>\n",
       "  <tbody>\n",
       "    <tr>\n",
       "      <th>908</th>\n",
       "      <td>3</td>\n",
       "      <td>63.0</td>\n",
       "      <td>0.000000</td>\n",
       "      <td>105.0</td>\n",
       "      <td>956</td>\n",
       "      <td>4.343805</td>\n",
       "      <td>7.0</td>\n",
       "      <td>3.0</td>\n",
       "      <td>NaN</td>\n",
       "      <td>5.018603</td>\n",
       "      <td>...</td>\n",
       "      <td>478.761938</td>\n",
       "      <td>0.0</td>\n",
       "      <td>66.012095</td>\n",
       "      <td>0.732368</td>\n",
       "      <td>1</td>\n",
       "      <td>12.363582</td>\n",
       "      <td>0.000000</td>\n",
       "      <td>0.000000</td>\n",
       "      <td>7.003065</td>\n",
       "      <td>(100000.0, 500000.0]</td>\n",
       "    </tr>\n",
       "    <tr>\n",
       "      <th>909</th>\n",
       "      <td>4</td>\n",
       "      <td>27.0</td>\n",
       "      <td>3.044522</td>\n",
       "      <td>121.0</td>\n",
       "      <td>939</td>\n",
       "      <td>0.000000</td>\n",
       "      <td>11.0</td>\n",
       "      <td>4.0</td>\n",
       "      <td>3.0</td>\n",
       "      <td>4.779123</td>\n",
       "      <td>...</td>\n",
       "      <td>585.650609</td>\n",
       "      <td>0.0</td>\n",
       "      <td>58.508514</td>\n",
       "      <td>1.682688</td>\n",
       "      <td>1</td>\n",
       "      <td>15.139584</td>\n",
       "      <td>13.489782</td>\n",
       "      <td>11.959609</td>\n",
       "      <td>12.899455</td>\n",
       "      <td>(1000000.0, 5000000.0]</td>\n",
       "    </tr>\n",
       "    <tr>\n",
       "      <th>910</th>\n",
       "      <td>4</td>\n",
       "      <td>135.0</td>\n",
       "      <td>0.000000</td>\n",
       "      <td>134.0</td>\n",
       "      <td>917</td>\n",
       "      <td>0.000000</td>\n",
       "      <td>13.0</td>\n",
       "      <td>4.0</td>\n",
       "      <td>4.0</td>\n",
       "      <td>4.753590</td>\n",
       "      <td>...</td>\n",
       "      <td>1924.388377</td>\n",
       "      <td>0.0</td>\n",
       "      <td>68.951141</td>\n",
       "      <td>1.124930</td>\n",
       "      <td>2</td>\n",
       "      <td>18.165348</td>\n",
       "      <td>14.591823</td>\n",
       "      <td>10.492695</td>\n",
       "      <td>16.811243</td>\n",
       "      <td>(50000000.0, 100000000.0]</td>\n",
       "    </tr>\n",
       "  </tbody>\n",
       "</table>\n",
       "<p>3 rows × 57 columns</p>\n",
       "</div>"
      ],
      "text/plain": [
       "     MONTH_START  TOTAL_HOURS_EVENT  TOTAL_HOURS_IN_LAND  MAX_WIND  MIN_PRES  \\\n",
       "908            3               63.0             0.000000     105.0       956   \n",
       "909            4               27.0             3.044522     121.0       939   \n",
       "910            4              135.0             0.000000     134.0       917   \n",
       "\n",
       "     MIN_DIST2LAND  MAX_STORMSPEED  MAX_USA_SSHS  MAX_USA_SSHS_INLAND  \\\n",
       "908       4.343805             7.0           3.0                  NaN   \n",
       "909       0.000000            11.0           4.0                  3.0   \n",
       "910       0.000000            13.0           4.0                  4.0   \n",
       "\n",
       "     V_LAND_KN  ...  GDP per capita (constant 2010 US$)  \\\n",
       "908   5.018603  ...                          478.761938   \n",
       "909   4.779123  ...                          585.650609   \n",
       "910   4.753590  ...                         1924.388377   \n",
       "\n",
       "     Net flows from UN agencies US$  Life expectancy at birth, total (years)  \\\n",
       "908                             0.0                                66.012095   \n",
       "909                             0.0                                58.508514   \n",
       "910                             0.0                                68.951141   \n",
       "\n",
       "     Adjusted savings: education expenditure (% of GNI)  Income_level_Final  \\\n",
       "908                                           0.732368                    1   \n",
       "909                                           1.682688                    1   \n",
       "910                                           1.124930                    2   \n",
       "\n",
       "     POP_MAX_34_ADJ  POP_MAX_50_ADJ  POP_MAX_64_ADJ  TOTAL_AFFECTED  \\\n",
       "908       12.363582        0.000000        0.000000        7.003065   \n",
       "909       15.139584       13.489782       11.959609       12.899455   \n",
       "910       18.165348       14.591823       10.492695       16.811243   \n",
       "\n",
       "            POP_MAX_34_ADJ_cat  \n",
       "908       (100000.0, 500000.0]  \n",
       "909     (1000000.0, 5000000.0]  \n",
       "910  (50000000.0, 100000000.0]  \n",
       "\n",
       "[3 rows x 57 columns]"
      ]
     },
     "execution_count": 63,
     "metadata": {},
     "output_type": "execute_result"
    }
   ],
   "source": [
    "df1.tail(3)"
   ]
  },
  {
   "cell_type": "code",
   "execution_count": 64,
   "metadata": {},
   "outputs": [],
   "source": [
    "df_filled = df1.loc[:, df1.columns != 'POP_MAX_34_ADJ_cat']"
   ]
  },
  {
   "cell_type": "code",
   "execution_count": 65,
   "metadata": {},
   "outputs": [],
   "source": [
    "columns = df_filled.columns"
   ]
  },
  {
   "cell_type": "code",
   "execution_count": 66,
   "metadata": {},
   "outputs": [
    {
     "data": {
      "text/html": [
       "<div>\n",
       "<style scoped>\n",
       "    .dataframe tbody tr th:only-of-type {\n",
       "        vertical-align: middle;\n",
       "    }\n",
       "\n",
       "    .dataframe tbody tr th {\n",
       "        vertical-align: top;\n",
       "    }\n",
       "\n",
       "    .dataframe thead th {\n",
       "        text-align: right;\n",
       "    }\n",
       "</style>\n",
       "<table border=\"1\" class=\"dataframe\">\n",
       "  <thead>\n",
       "    <tr style=\"text-align: right;\">\n",
       "      <th></th>\n",
       "      <th>0</th>\n",
       "      <th>1</th>\n",
       "      <th>2</th>\n",
       "      <th>3</th>\n",
       "      <th>4</th>\n",
       "      <th>5</th>\n",
       "      <th>6</th>\n",
       "      <th>7</th>\n",
       "      <th>8</th>\n",
       "      <th>9</th>\n",
       "      <th>...</th>\n",
       "      <th>46</th>\n",
       "      <th>47</th>\n",
       "      <th>48</th>\n",
       "      <th>49</th>\n",
       "      <th>50</th>\n",
       "      <th>51</th>\n",
       "      <th>52</th>\n",
       "      <th>53</th>\n",
       "      <th>54</th>\n",
       "      <th>55</th>\n",
       "    </tr>\n",
       "  </thead>\n",
       "  <tbody>\n",
       "    <tr>\n",
       "      <th>0</th>\n",
       "      <td>6.0</td>\n",
       "      <td>117.0</td>\n",
       "      <td>4.094345</td>\n",
       "      <td>116.0</td>\n",
       "      <td>952.0</td>\n",
       "      <td>0.0</td>\n",
       "      <td>33.0</td>\n",
       "      <td>3.0</td>\n",
       "      <td>0.0</td>\n",
       "      <td>4.603369</td>\n",
       "      <td>...</td>\n",
       "      <td>67.79</td>\n",
       "      <td>8607.657082</td>\n",
       "      <td>0.0</td>\n",
       "      <td>67.666098</td>\n",
       "      <td>1.053572</td>\n",
       "      <td>1.0</td>\n",
       "      <td>16.298999</td>\n",
       "      <td>15.574055</td>\n",
       "      <td>15.015749</td>\n",
       "      <td>12.175851</td>\n",
       "    </tr>\n",
       "    <tr>\n",
       "      <th>1</th>\n",
       "      <td>8.0</td>\n",
       "      <td>141.0</td>\n",
       "      <td>3.044522</td>\n",
       "      <td>116.0</td>\n",
       "      <td>940.0</td>\n",
       "      <td>0.0</td>\n",
       "      <td>31.0</td>\n",
       "      <td>3.0</td>\n",
       "      <td>1.0</td>\n",
       "      <td>4.603369</td>\n",
       "      <td>...</td>\n",
       "      <td>67.79</td>\n",
       "      <td>8607.657082</td>\n",
       "      <td>0.0</td>\n",
       "      <td>67.666098</td>\n",
       "      <td>1.053572</td>\n",
       "      <td>1.0</td>\n",
       "      <td>17.268928</td>\n",
       "      <td>16.562266</td>\n",
       "      <td>16.136855</td>\n",
       "      <td>13.372526</td>\n",
       "    </tr>\n",
       "    <tr>\n",
       "      <th>2</th>\n",
       "      <td>8.0</td>\n",
       "      <td>15.0</td>\n",
       "      <td>1.098612</td>\n",
       "      <td>110.0</td>\n",
       "      <td>0.0</td>\n",
       "      <td>0.0</td>\n",
       "      <td>17.0</td>\n",
       "      <td>3.0</td>\n",
       "      <td>3.0</td>\n",
       "      <td>4.885828</td>\n",
       "      <td>...</td>\n",
       "      <td>69.93</td>\n",
       "      <td>3796.219401</td>\n",
       "      <td>0.0</td>\n",
       "      <td>64.770000</td>\n",
       "      <td>0.947132</td>\n",
       "      <td>1.0</td>\n",
       "      <td>14.339791</td>\n",
       "      <td>14.338512</td>\n",
       "      <td>13.993700</td>\n",
       "      <td>9.913438</td>\n",
       "    </tr>\n",
       "    <tr>\n",
       "      <th>3</th>\n",
       "      <td>12.0</td>\n",
       "      <td>231.0</td>\n",
       "      <td>3.583519</td>\n",
       "      <td>120.0</td>\n",
       "      <td>924.0</td>\n",
       "      <td>0.0</td>\n",
       "      <td>11.0</td>\n",
       "      <td>4.0</td>\n",
       "      <td>2.0</td>\n",
       "      <td>4.780803</td>\n",
       "      <td>...</td>\n",
       "      <td>25.68</td>\n",
       "      <td>1059.467412</td>\n",
       "      <td>0.0</td>\n",
       "      <td>61.105000</td>\n",
       "      <td>1.014409</td>\n",
       "      <td>2.0</td>\n",
       "      <td>15.375766</td>\n",
       "      <td>14.916344</td>\n",
       "      <td>13.924162</td>\n",
       "      <td>11.002100</td>\n",
       "    </tr>\n",
       "    <tr>\n",
       "      <th>4</th>\n",
       "      <td>7.0</td>\n",
       "      <td>84.0</td>\n",
       "      <td>2.197225</td>\n",
       "      <td>110.0</td>\n",
       "      <td>968.0</td>\n",
       "      <td>0.0</td>\n",
       "      <td>15.0</td>\n",
       "      <td>3.0</td>\n",
       "      <td>1.0</td>\n",
       "      <td>11.614498</td>\n",
       "      <td>...</td>\n",
       "      <td>25.68</td>\n",
       "      <td>1059.467412</td>\n",
       "      <td>0.0</td>\n",
       "      <td>61.105000</td>\n",
       "      <td>1.014409</td>\n",
       "      <td>2.0</td>\n",
       "      <td>15.450771</td>\n",
       "      <td>14.841368</td>\n",
       "      <td>14.502903</td>\n",
       "      <td>4.634729</td>\n",
       "    </tr>\n",
       "  </tbody>\n",
       "</table>\n",
       "<p>5 rows × 56 columns</p>\n",
       "</div>"
      ],
      "text/plain": [
       "     0      1         2      3      4    5     6    7    8          9   ...  \\\n",
       "0   6.0  117.0  4.094345  116.0  952.0  0.0  33.0  3.0  0.0   4.603369  ...   \n",
       "1   8.0  141.0  3.044522  116.0  940.0  0.0  31.0  3.0  1.0   4.603369  ...   \n",
       "2   8.0   15.0  1.098612  110.0    0.0  0.0  17.0  3.0  3.0   4.885828  ...   \n",
       "3  12.0  231.0  3.583519  120.0  924.0  0.0  11.0  4.0  2.0   4.780803  ...   \n",
       "4   7.0   84.0  2.197225  110.0  968.0  0.0  15.0  3.0  1.0  11.614498  ...   \n",
       "\n",
       "      46           47   48         49        50   51         52         53  \\\n",
       "0  67.79  8607.657082  0.0  67.666098  1.053572  1.0  16.298999  15.574055   \n",
       "1  67.79  8607.657082  0.0  67.666098  1.053572  1.0  17.268928  16.562266   \n",
       "2  69.93  3796.219401  0.0  64.770000  0.947132  1.0  14.339791  14.338512   \n",
       "3  25.68  1059.467412  0.0  61.105000  1.014409  2.0  15.375766  14.916344   \n",
       "4  25.68  1059.467412  0.0  61.105000  1.014409  2.0  15.450771  14.841368   \n",
       "\n",
       "          54         55  \n",
       "0  15.015749  12.175851  \n",
       "1  16.136855  13.372526  \n",
       "2  13.993700   9.913438  \n",
       "3  13.924162  11.002100  \n",
       "4  14.502903   4.634729  \n",
       "\n",
       "[5 rows x 56 columns]"
      ]
     },
     "execution_count": 66,
     "metadata": {},
     "output_type": "execute_result"
    }
   ],
   "source": [
    "imputer = KNNImputer(n_neighbors=5)\n",
    "df_filled = pd.DataFrame(imputer.fit_transform(df_filled))\n",
    "df_filled.head()"
   ]
  },
  {
   "cell_type": "code",
   "execution_count": 67,
   "metadata": {},
   "outputs": [],
   "source": [
    "df_filled = df_filled.rename(columns = dict(zip(df_filled.columns, columns), inplace = True))"
   ]
  },
  {
   "cell_type": "code",
   "execution_count": 68,
   "metadata": {},
   "outputs": [
    {
     "data": {
      "text/plain": [
       "Index(['MONTH_START', 'TOTAL_HOURS_EVENT', 'TOTAL_HOURS_IN_LAND', 'MAX_WIND',\n",
       "       'MIN_PRES', 'MIN_DIST2LAND', 'MAX_STORMSPEED', 'MAX_USA_SSHS',\n",
       "       'MAX_USA_SSHS_INLAND', 'V_LAND_KN', 'DISTANCE_TRACK',\n",
       "       'DISTANCE_TRACK_VINCENTY', 'Landing', 'SUB BASIN_AS', 'SUB BASIN_BB',\n",
       "       'SUB BASIN_CP', 'SUB BASIN_CS', 'SUB BASIN_EA', 'SUB BASIN_EP',\n",
       "       'SUB BASIN_GM', 'SUB BASIN_NAm', 'SUB BASIN_SI', 'SUB BASIN_SP',\n",
       "       'SUB BASIN_WA', 'SUB BASIN_WP', 'NATURE_DS', 'NATURE_ET', 'NATURE_MX',\n",
       "       'NATURE_NR', 'NATURE_SS', 'NATURE_TS', 'GENERAL_CATEGORY_Cat 1',\n",
       "       'GENERAL_CATEGORY_Cat 2', 'GENERAL_CATEGORY_Cat 3',\n",
       "       'GENERAL_CATEGORY_Cat 4', 'GENERAL_CATEGORY_Cat 5',\n",
       "       'GENERAL_CATEGORY_TD', 'GENERAL_CATEGORY_TS', 'TOTAL_DAMAGE_(000$)',\n",
       "       'CALC_assets_emdat', 'TOTAL_DEATHS', 'POP_DEN_SQ_KM', 'RURAL_POP(%)',\n",
       "       'HDI', 'Arable land (hectares per person)',\n",
       "       'Cereal yield (kg per hectare)',\n",
       "       'Food production index (2004-2006 = 100)',\n",
       "       'GDP per capita (constant 2010 US$)', 'Net flows from UN agencies US$',\n",
       "       'Life expectancy at birth, total (years)',\n",
       "       'Adjusted savings: education expenditure (% of GNI)',\n",
       "       'Income_level_Final', 'POP_MAX_34_ADJ', 'POP_MAX_50_ADJ',\n",
       "       'POP_MAX_64_ADJ', 'TOTAL_AFFECTED'],\n",
       "      dtype='object')"
      ]
     },
     "execution_count": 68,
     "metadata": {},
     "output_type": "execute_result"
    }
   ],
   "source": [
    "df_filled.columns"
   ]
  },
  {
   "cell_type": "code",
   "execution_count": 69,
   "metadata": {},
   "outputs": [],
   "source": [
    "df_filled['POP_MAX_34_ADJ_cat'] = df1['POP_MAX_34_ADJ_cat']"
   ]
  },
  {
   "cell_type": "code",
   "execution_count": 70,
   "metadata": {},
   "outputs": [],
   "source": [
    "#trimming\n",
    "# df_filled=  df_filled[df_filled['TOTAL_AFFECTED'] > 6] \n",
    "# df_filled=  df_filled[df_filled['TOTAL_AFFECTED'] < 12] "
   ]
  },
  {
   "cell_type": "code",
   "execution_count": 71,
   "metadata": {},
   "outputs": [],
   "source": [
    "X = df_filled[features1] #features\n",
    "\n",
    "y = df_filled['TOTAL_AFFECTED']"
   ]
  },
  {
   "cell_type": "code",
   "execution_count": 72,
   "metadata": {},
   "outputs": [
    {
     "data": {
      "text/plain": [
       "(911, 51)"
      ]
     },
     "execution_count": 72,
     "metadata": {},
     "output_type": "execute_result"
    }
   ],
   "source": [
    "X.shape"
   ]
  },
  {
   "cell_type": "markdown",
   "metadata": {},
   "source": [
    "- Splitting the dataset using stratified sampling"
   ]
  },
  {
   "cell_type": "code",
   "execution_count": 73,
   "metadata": {},
   "outputs": [],
   "source": [
    "from sklearn.model_selection import train_test_split, StratifiedShuffleSplit"
   ]
  },
  {
   "cell_type": "code",
   "execution_count": 74,
   "metadata": {},
   "outputs": [
    {
     "data": {
      "text/plain": [
       "\"\\nfor train_index, val_index in train_split.split(train_set, train_set[strat_col +'_cat']):\\n    strat_train_set = train_set.iloc[train_index]\\n    strat_train_label = prov_train_label.iloc[train_index]\\n    strat_val_set = train_set.iloc[val_index]\\n    strat_val_label = y.iloc[test_index]\\n\""
      ]
     },
     "execution_count": 74,
     "metadata": {},
     "output_type": "execute_result"
    }
   ],
   "source": [
    "test_split = StratifiedShuffleSplit(n_splits=1,test_size=0.2,random_state=42)\n",
    "#train_split = StratifiedShuffleSplit(n_splits=1,test_size=0.2,random_state=42)\n",
    "\n",
    "for train_index, test_index in test_split.split(X, X[strat_col +'_cat']):\n",
    "    train_set = X.iloc[train_index]\n",
    "    prov_train_label = y.iloc[train_index]\n",
    "    strat_test_set = X.iloc[test_index]\n",
    "    strat_test_label = y.iloc[test_index]\n",
    "\n",
    "'''\n",
    "for train_index, val_index in train_split.split(train_set, train_set[strat_col +'_cat']):\n",
    "    strat_train_set = train_set.iloc[train_index]\n",
    "    strat_train_label = prov_train_label.iloc[train_index]\n",
    "    strat_val_set = train_set.iloc[val_index]\n",
    "    strat_val_label = y.iloc[test_index]\n",
    "'''"
   ]
  },
  {
   "cell_type": "code",
   "execution_count": 75,
   "metadata": {},
   "outputs": [
    {
     "data": {
      "text/plain": [
       "((728, 51), (728,), (183, 51), (183,))"
      ]
     },
     "execution_count": 75,
     "metadata": {},
     "output_type": "execute_result"
    }
   ],
   "source": [
    "train_set.shape, prov_train_label.shape,  strat_test_set.shape, strat_test_label.shape"
   ]
  },
  {
   "cell_type": "code",
   "execution_count": 76,
   "metadata": {},
   "outputs": [
    {
     "data": {
      "text/html": [
       "<div>\n",
       "<style scoped>\n",
       "    .dataframe tbody tr th:only-of-type {\n",
       "        vertical-align: middle;\n",
       "    }\n",
       "\n",
       "    .dataframe tbody tr th {\n",
       "        vertical-align: top;\n",
       "    }\n",
       "\n",
       "    .dataframe thead th {\n",
       "        text-align: right;\n",
       "    }\n",
       "</style>\n",
       "<table border=\"1\" class=\"dataframe\">\n",
       "  <thead>\n",
       "    <tr style=\"text-align: right;\">\n",
       "      <th></th>\n",
       "      <th>MONTH_START</th>\n",
       "      <th>TOTAL_HOURS_EVENT</th>\n",
       "      <th>TOTAL_HOURS_IN_LAND</th>\n",
       "      <th>MAX_WIND</th>\n",
       "      <th>MIN_PRES</th>\n",
       "      <th>MIN_DIST2LAND</th>\n",
       "      <th>MAX_STORMSPEED</th>\n",
       "      <th>MAX_USA_SSHS</th>\n",
       "      <th>MAX_USA_SSHS_INLAND</th>\n",
       "      <th>V_LAND_KN</th>\n",
       "      <th>...</th>\n",
       "      <th>Arable land (hectares per person)</th>\n",
       "      <th>Cereal yield (kg per hectare)</th>\n",
       "      <th>Food production index (2004-2006 = 100)</th>\n",
       "      <th>GDP per capita (constant 2010 US$)</th>\n",
       "      <th>Life expectancy at birth, total (years)</th>\n",
       "      <th>Adjusted savings: education expenditure (% of GNI)</th>\n",
       "      <th>Income_level_Final</th>\n",
       "      <th>POP_MAX_34_ADJ</th>\n",
       "      <th>POP_MAX_50_ADJ</th>\n",
       "      <th>POP_MAX_64_ADJ</th>\n",
       "    </tr>\n",
       "    <tr>\n",
       "      <th>POP_MAX_34_ADJ_cat</th>\n",
       "      <th></th>\n",
       "      <th></th>\n",
       "      <th></th>\n",
       "      <th></th>\n",
       "      <th></th>\n",
       "      <th></th>\n",
       "      <th></th>\n",
       "      <th></th>\n",
       "      <th></th>\n",
       "      <th></th>\n",
       "      <th></th>\n",
       "      <th></th>\n",
       "      <th></th>\n",
       "      <th></th>\n",
       "      <th></th>\n",
       "      <th></th>\n",
       "      <th></th>\n",
       "      <th></th>\n",
       "      <th></th>\n",
       "      <th></th>\n",
       "      <th></th>\n",
       "    </tr>\n",
       "  </thead>\n",
       "  <tbody>\n",
       "    <tr>\n",
       "      <th>(-0.001, 10000.0]</th>\n",
       "      <td>7</td>\n",
       "      <td>7</td>\n",
       "      <td>7</td>\n",
       "      <td>7</td>\n",
       "      <td>7</td>\n",
       "      <td>7</td>\n",
       "      <td>7</td>\n",
       "      <td>7</td>\n",
       "      <td>7</td>\n",
       "      <td>7</td>\n",
       "      <td>...</td>\n",
       "      <td>7</td>\n",
       "      <td>7</td>\n",
       "      <td>7</td>\n",
       "      <td>7</td>\n",
       "      <td>7</td>\n",
       "      <td>7</td>\n",
       "      <td>7</td>\n",
       "      <td>7</td>\n",
       "      <td>7</td>\n",
       "      <td>7</td>\n",
       "    </tr>\n",
       "    <tr>\n",
       "      <th>(10000.0, 100000.0]</th>\n",
       "      <td>29</td>\n",
       "      <td>29</td>\n",
       "      <td>29</td>\n",
       "      <td>29</td>\n",
       "      <td>29</td>\n",
       "      <td>29</td>\n",
       "      <td>29</td>\n",
       "      <td>29</td>\n",
       "      <td>29</td>\n",
       "      <td>29</td>\n",
       "      <td>...</td>\n",
       "      <td>29</td>\n",
       "      <td>29</td>\n",
       "      <td>29</td>\n",
       "      <td>29</td>\n",
       "      <td>29</td>\n",
       "      <td>29</td>\n",
       "      <td>29</td>\n",
       "      <td>29</td>\n",
       "      <td>29</td>\n",
       "      <td>29</td>\n",
       "    </tr>\n",
       "    <tr>\n",
       "      <th>(100000.0, 500000.0]</th>\n",
       "      <td>29</td>\n",
       "      <td>29</td>\n",
       "      <td>29</td>\n",
       "      <td>29</td>\n",
       "      <td>29</td>\n",
       "      <td>29</td>\n",
       "      <td>29</td>\n",
       "      <td>29</td>\n",
       "      <td>29</td>\n",
       "      <td>29</td>\n",
       "      <td>...</td>\n",
       "      <td>29</td>\n",
       "      <td>29</td>\n",
       "      <td>29</td>\n",
       "      <td>29</td>\n",
       "      <td>29</td>\n",
       "      <td>29</td>\n",
       "      <td>29</td>\n",
       "      <td>29</td>\n",
       "      <td>29</td>\n",
       "      <td>29</td>\n",
       "    </tr>\n",
       "    <tr>\n",
       "      <th>(500000.0, 1000000.0]</th>\n",
       "      <td>28</td>\n",
       "      <td>28</td>\n",
       "      <td>28</td>\n",
       "      <td>28</td>\n",
       "      <td>28</td>\n",
       "      <td>28</td>\n",
       "      <td>28</td>\n",
       "      <td>28</td>\n",
       "      <td>28</td>\n",
       "      <td>28</td>\n",
       "      <td>...</td>\n",
       "      <td>28</td>\n",
       "      <td>28</td>\n",
       "      <td>28</td>\n",
       "      <td>28</td>\n",
       "      <td>28</td>\n",
       "      <td>28</td>\n",
       "      <td>28</td>\n",
       "      <td>28</td>\n",
       "      <td>28</td>\n",
       "      <td>28</td>\n",
       "    </tr>\n",
       "    <tr>\n",
       "      <th>(1000000.0, 5000000.0]</th>\n",
       "      <td>153</td>\n",
       "      <td>153</td>\n",
       "      <td>153</td>\n",
       "      <td>153</td>\n",
       "      <td>153</td>\n",
       "      <td>153</td>\n",
       "      <td>153</td>\n",
       "      <td>153</td>\n",
       "      <td>153</td>\n",
       "      <td>153</td>\n",
       "      <td>...</td>\n",
       "      <td>153</td>\n",
       "      <td>153</td>\n",
       "      <td>153</td>\n",
       "      <td>153</td>\n",
       "      <td>153</td>\n",
       "      <td>153</td>\n",
       "      <td>153</td>\n",
       "      <td>153</td>\n",
       "      <td>153</td>\n",
       "      <td>153</td>\n",
       "    </tr>\n",
       "    <tr>\n",
       "      <th>(5000000.0, 10000000.0]</th>\n",
       "      <td>94</td>\n",
       "      <td>94</td>\n",
       "      <td>94</td>\n",
       "      <td>94</td>\n",
       "      <td>94</td>\n",
       "      <td>94</td>\n",
       "      <td>94</td>\n",
       "      <td>94</td>\n",
       "      <td>94</td>\n",
       "      <td>94</td>\n",
       "      <td>...</td>\n",
       "      <td>94</td>\n",
       "      <td>94</td>\n",
       "      <td>94</td>\n",
       "      <td>94</td>\n",
       "      <td>94</td>\n",
       "      <td>94</td>\n",
       "      <td>94</td>\n",
       "      <td>94</td>\n",
       "      <td>94</td>\n",
       "      <td>94</td>\n",
       "    </tr>\n",
       "    <tr>\n",
       "      <th>(10000000.0, 25000000.0]</th>\n",
       "      <td>165</td>\n",
       "      <td>165</td>\n",
       "      <td>165</td>\n",
       "      <td>165</td>\n",
       "      <td>165</td>\n",
       "      <td>165</td>\n",
       "      <td>165</td>\n",
       "      <td>165</td>\n",
       "      <td>165</td>\n",
       "      <td>165</td>\n",
       "      <td>...</td>\n",
       "      <td>165</td>\n",
       "      <td>165</td>\n",
       "      <td>165</td>\n",
       "      <td>165</td>\n",
       "      <td>165</td>\n",
       "      <td>165</td>\n",
       "      <td>165</td>\n",
       "      <td>165</td>\n",
       "      <td>165</td>\n",
       "      <td>165</td>\n",
       "    </tr>\n",
       "    <tr>\n",
       "      <th>(25000000.0, 50000000.0]</th>\n",
       "      <td>101</td>\n",
       "      <td>101</td>\n",
       "      <td>101</td>\n",
       "      <td>101</td>\n",
       "      <td>101</td>\n",
       "      <td>101</td>\n",
       "      <td>101</td>\n",
       "      <td>101</td>\n",
       "      <td>101</td>\n",
       "      <td>101</td>\n",
       "      <td>...</td>\n",
       "      <td>101</td>\n",
       "      <td>101</td>\n",
       "      <td>101</td>\n",
       "      <td>101</td>\n",
       "      <td>101</td>\n",
       "      <td>101</td>\n",
       "      <td>101</td>\n",
       "      <td>101</td>\n",
       "      <td>101</td>\n",
       "      <td>101</td>\n",
       "    </tr>\n",
       "    <tr>\n",
       "      <th>(50000000.0, 100000000.0]</th>\n",
       "      <td>74</td>\n",
       "      <td>74</td>\n",
       "      <td>74</td>\n",
       "      <td>74</td>\n",
       "      <td>74</td>\n",
       "      <td>74</td>\n",
       "      <td>74</td>\n",
       "      <td>74</td>\n",
       "      <td>74</td>\n",
       "      <td>74</td>\n",
       "      <td>...</td>\n",
       "      <td>74</td>\n",
       "      <td>74</td>\n",
       "      <td>74</td>\n",
       "      <td>74</td>\n",
       "      <td>74</td>\n",
       "      <td>74</td>\n",
       "      <td>74</td>\n",
       "      <td>74</td>\n",
       "      <td>74</td>\n",
       "      <td>74</td>\n",
       "    </tr>\n",
       "    <tr>\n",
       "      <th>(100000000.0, 500000000.0]</th>\n",
       "      <td>48</td>\n",
       "      <td>48</td>\n",
       "      <td>48</td>\n",
       "      <td>48</td>\n",
       "      <td>48</td>\n",
       "      <td>48</td>\n",
       "      <td>48</td>\n",
       "      <td>48</td>\n",
       "      <td>48</td>\n",
       "      <td>48</td>\n",
       "      <td>...</td>\n",
       "      <td>48</td>\n",
       "      <td>48</td>\n",
       "      <td>48</td>\n",
       "      <td>48</td>\n",
       "      <td>48</td>\n",
       "      <td>48</td>\n",
       "      <td>48</td>\n",
       "      <td>48</td>\n",
       "      <td>48</td>\n",
       "      <td>48</td>\n",
       "    </tr>\n",
       "  </tbody>\n",
       "</table>\n",
       "<p>10 rows × 50 columns</p>\n",
       "</div>"
      ],
      "text/plain": [
       "                            MONTH_START  TOTAL_HOURS_EVENT  \\\n",
       "POP_MAX_34_ADJ_cat                                           \n",
       "(-0.001, 10000.0]                     7                  7   \n",
       "(10000.0, 100000.0]                  29                 29   \n",
       "(100000.0, 500000.0]                 29                 29   \n",
       "(500000.0, 1000000.0]                28                 28   \n",
       "(1000000.0, 5000000.0]              153                153   \n",
       "(5000000.0, 10000000.0]              94                 94   \n",
       "(10000000.0, 25000000.0]            165                165   \n",
       "(25000000.0, 50000000.0]            101                101   \n",
       "(50000000.0, 100000000.0]            74                 74   \n",
       "(100000000.0, 500000000.0]           48                 48   \n",
       "\n",
       "                            TOTAL_HOURS_IN_LAND  MAX_WIND  MIN_PRES  \\\n",
       "POP_MAX_34_ADJ_cat                                                    \n",
       "(-0.001, 10000.0]                             7         7         7   \n",
       "(10000.0, 100000.0]                          29        29        29   \n",
       "(100000.0, 500000.0]                         29        29        29   \n",
       "(500000.0, 1000000.0]                        28        28        28   \n",
       "(1000000.0, 5000000.0]                      153       153       153   \n",
       "(5000000.0, 10000000.0]                      94        94        94   \n",
       "(10000000.0, 25000000.0]                    165       165       165   \n",
       "(25000000.0, 50000000.0]                    101       101       101   \n",
       "(50000000.0, 100000000.0]                    74        74        74   \n",
       "(100000000.0, 500000000.0]                   48        48        48   \n",
       "\n",
       "                            MIN_DIST2LAND  MAX_STORMSPEED  MAX_USA_SSHS  \\\n",
       "POP_MAX_34_ADJ_cat                                                        \n",
       "(-0.001, 10000.0]                       7               7             7   \n",
       "(10000.0, 100000.0]                    29              29            29   \n",
       "(100000.0, 500000.0]                   29              29            29   \n",
       "(500000.0, 1000000.0]                  28              28            28   \n",
       "(1000000.0, 5000000.0]                153             153           153   \n",
       "(5000000.0, 10000000.0]                94              94            94   \n",
       "(10000000.0, 25000000.0]              165             165           165   \n",
       "(25000000.0, 50000000.0]              101             101           101   \n",
       "(50000000.0, 100000000.0]              74              74            74   \n",
       "(100000000.0, 500000000.0]             48              48            48   \n",
       "\n",
       "                            MAX_USA_SSHS_INLAND  V_LAND_KN  ...  \\\n",
       "POP_MAX_34_ADJ_cat                                          ...   \n",
       "(-0.001, 10000.0]                             7          7  ...   \n",
       "(10000.0, 100000.0]                          29         29  ...   \n",
       "(100000.0, 500000.0]                         29         29  ...   \n",
       "(500000.0, 1000000.0]                        28         28  ...   \n",
       "(1000000.0, 5000000.0]                      153        153  ...   \n",
       "(5000000.0, 10000000.0]                      94         94  ...   \n",
       "(10000000.0, 25000000.0]                    165        165  ...   \n",
       "(25000000.0, 50000000.0]                    101        101  ...   \n",
       "(50000000.0, 100000000.0]                    74         74  ...   \n",
       "(100000000.0, 500000000.0]                   48         48  ...   \n",
       "\n",
       "                            Arable land (hectares per person)  \\\n",
       "POP_MAX_34_ADJ_cat                                              \n",
       "(-0.001, 10000.0]                                           7   \n",
       "(10000.0, 100000.0]                                        29   \n",
       "(100000.0, 500000.0]                                       29   \n",
       "(500000.0, 1000000.0]                                      28   \n",
       "(1000000.0, 5000000.0]                                    153   \n",
       "(5000000.0, 10000000.0]                                    94   \n",
       "(10000000.0, 25000000.0]                                  165   \n",
       "(25000000.0, 50000000.0]                                  101   \n",
       "(50000000.0, 100000000.0]                                  74   \n",
       "(100000000.0, 500000000.0]                                 48   \n",
       "\n",
       "                            Cereal yield (kg per hectare)  \\\n",
       "POP_MAX_34_ADJ_cat                                          \n",
       "(-0.001, 10000.0]                                       7   \n",
       "(10000.0, 100000.0]                                    29   \n",
       "(100000.0, 500000.0]                                   29   \n",
       "(500000.0, 1000000.0]                                  28   \n",
       "(1000000.0, 5000000.0]                                153   \n",
       "(5000000.0, 10000000.0]                                94   \n",
       "(10000000.0, 25000000.0]                              165   \n",
       "(25000000.0, 50000000.0]                              101   \n",
       "(50000000.0, 100000000.0]                              74   \n",
       "(100000000.0, 500000000.0]                             48   \n",
       "\n",
       "                            Food production index (2004-2006 = 100)  \\\n",
       "POP_MAX_34_ADJ_cat                                                    \n",
       "(-0.001, 10000.0]                                                 7   \n",
       "(10000.0, 100000.0]                                              29   \n",
       "(100000.0, 500000.0]                                             29   \n",
       "(500000.0, 1000000.0]                                            28   \n",
       "(1000000.0, 5000000.0]                                          153   \n",
       "(5000000.0, 10000000.0]                                          94   \n",
       "(10000000.0, 25000000.0]                                        165   \n",
       "(25000000.0, 50000000.0]                                        101   \n",
       "(50000000.0, 100000000.0]                                        74   \n",
       "(100000000.0, 500000000.0]                                       48   \n",
       "\n",
       "                            GDP per capita (constant 2010 US$)  \\\n",
       "POP_MAX_34_ADJ_cat                                               \n",
       "(-0.001, 10000.0]                                            7   \n",
       "(10000.0, 100000.0]                                         29   \n",
       "(100000.0, 500000.0]                                        29   \n",
       "(500000.0, 1000000.0]                                       28   \n",
       "(1000000.0, 5000000.0]                                     153   \n",
       "(5000000.0, 10000000.0]                                     94   \n",
       "(10000000.0, 25000000.0]                                   165   \n",
       "(25000000.0, 50000000.0]                                   101   \n",
       "(50000000.0, 100000000.0]                                   74   \n",
       "(100000000.0, 500000000.0]                                  48   \n",
       "\n",
       "                            Life expectancy at birth, total (years)  \\\n",
       "POP_MAX_34_ADJ_cat                                                    \n",
       "(-0.001, 10000.0]                                                 7   \n",
       "(10000.0, 100000.0]                                              29   \n",
       "(100000.0, 500000.0]                                             29   \n",
       "(500000.0, 1000000.0]                                            28   \n",
       "(1000000.0, 5000000.0]                                          153   \n",
       "(5000000.0, 10000000.0]                                          94   \n",
       "(10000000.0, 25000000.0]                                        165   \n",
       "(25000000.0, 50000000.0]                                        101   \n",
       "(50000000.0, 100000000.0]                                        74   \n",
       "(100000000.0, 500000000.0]                                       48   \n",
       "\n",
       "                            Adjusted savings: education expenditure (% of GNI)  \\\n",
       "POP_MAX_34_ADJ_cat                                                               \n",
       "(-0.001, 10000.0]                                                           7    \n",
       "(10000.0, 100000.0]                                                        29    \n",
       "(100000.0, 500000.0]                                                       29    \n",
       "(500000.0, 1000000.0]                                                      28    \n",
       "(1000000.0, 5000000.0]                                                    153    \n",
       "(5000000.0, 10000000.0]                                                    94    \n",
       "(10000000.0, 25000000.0]                                                  165    \n",
       "(25000000.0, 50000000.0]                                                  101    \n",
       "(50000000.0, 100000000.0]                                                  74    \n",
       "(100000000.0, 500000000.0]                                                 48    \n",
       "\n",
       "                            Income_level_Final  POP_MAX_34_ADJ  \\\n",
       "POP_MAX_34_ADJ_cat                                               \n",
       "(-0.001, 10000.0]                            7               7   \n",
       "(10000.0, 100000.0]                         29              29   \n",
       "(100000.0, 500000.0]                        29              29   \n",
       "(500000.0, 1000000.0]                       28              28   \n",
       "(1000000.0, 5000000.0]                     153             153   \n",
       "(5000000.0, 10000000.0]                     94              94   \n",
       "(10000000.0, 25000000.0]                   165             165   \n",
       "(25000000.0, 50000000.0]                   101             101   \n",
       "(50000000.0, 100000000.0]                   74              74   \n",
       "(100000000.0, 500000000.0]                  48              48   \n",
       "\n",
       "                            POP_MAX_50_ADJ  POP_MAX_64_ADJ  \n",
       "POP_MAX_34_ADJ_cat                                          \n",
       "(-0.001, 10000.0]                        7               7  \n",
       "(10000.0, 100000.0]                     29              29  \n",
       "(100000.0, 500000.0]                    29              29  \n",
       "(500000.0, 1000000.0]                   28              28  \n",
       "(1000000.0, 5000000.0]                 153             153  \n",
       "(5000000.0, 10000000.0]                 94              94  \n",
       "(10000000.0, 25000000.0]               165             165  \n",
       "(25000000.0, 50000000.0]               101             101  \n",
       "(50000000.0, 100000000.0]               74              74  \n",
       "(100000000.0, 500000000.0]              48              48  \n",
       "\n",
       "[10 rows x 50 columns]"
      ]
     },
     "execution_count": 76,
     "metadata": {},
     "output_type": "execute_result"
    }
   ],
   "source": [
    "train_set.groupby('POP_MAX_34_ADJ_cat').count()"
   ]
  },
  {
   "cell_type": "code",
   "execution_count": 77,
   "metadata": {},
   "outputs": [],
   "source": [
    "#Renaming for usability purposes\n",
    "X_train = train_set\n",
    "y_train = prov_train_label\n",
    "\n",
    "X_test = strat_test_set\n",
    "y_test = strat_test_label"
   ]
  },
  {
   "cell_type": "code",
   "execution_count": 80,
   "metadata": {},
   "outputs": [],
   "source": [
    "X_train = X_train.drop('POP_MAX_34_ADJ_cat' , axis='columns')"
   ]
  },
  {
   "cell_type": "code",
   "execution_count": 82,
   "metadata": {},
   "outputs": [],
   "source": [
    "X_test= X_test.drop('POP_MAX_34_ADJ_cat' , axis='columns')"
   ]
  },
  {
   "cell_type": "code",
   "execution_count": 83,
   "metadata": {},
   "outputs": [],
   "source": [
    "X_train.reset_index(drop=True,inplace=True)\n",
    "y_train.reset_index(drop=True,inplace=True)\n",
    "X_test.reset_index(drop=True,inplace=True)\n",
    "y_test.reset_index(drop=True,inplace=True)"
   ]
  },
  {
   "cell_type": "code",
   "execution_count": 84,
   "metadata": {},
   "outputs": [
    {
     "data": {
      "text/plain": [
       "(728, 50)"
      ]
     },
     "execution_count": 84,
     "metadata": {},
     "output_type": "execute_result"
    }
   ],
   "source": [
    "X_train.shape"
   ]
  },
  {
   "cell_type": "code",
   "execution_count": 85,
   "metadata": {},
   "outputs": [],
   "source": [
    "X = pd.DataFrame(pd.concat([X_train,X_test]))"
   ]
  },
  {
   "cell_type": "code",
   "execution_count": 86,
   "metadata": {},
   "outputs": [],
   "source": [
    "y = pd.DataFrame(pd.concat([y_train,y_test]))"
   ]
  },
  {
   "cell_type": "markdown",
   "metadata": {},
   "source": [
    "- Using RandomForestRegressor with Cross Validation"
   ]
  },
  {
   "cell_type": "code",
   "execution_count": 97,
   "metadata": {},
   "outputs": [
    {
     "name": "stdout",
     "output_type": "stream",
     "text": [
      "R-squared for train set: 0.91\n",
      "--------------------------------------------\n",
      "------Feature importances---------------------\n",
      "[2.08761831e-02 3.62663164e-02 3.01160105e-02 2.89542396e-02\n",
      " 5.15285580e-02 4.00621506e-03 3.20220346e-02 5.64203055e-03\n",
      " 2.60391332e-02 4.99191530e-02 4.18113355e-02 1.09295415e-03\n",
      " 1.30080163e-04 1.34377121e-03 2.44895098e-05 1.65369139e-03\n",
      " 7.23227118e-05 4.50279189e-04 8.80528742e-04 1.60330959e-03\n",
      " 3.29853369e-04 1.45812333e-04 9.99336251e-05 1.73717769e-03\n",
      " 1.08252175e-05 1.86523353e-03 1.09970401e-04 8.40390227e-04\n",
      " 7.88786487e-05 1.06339599e-03 2.83340182e-03 5.74800138e-03\n",
      " 1.48636001e-03 1.87659604e-03 4.24597580e-04 1.11745806e-03\n",
      " 3.76283796e-03 6.20397327e-02 1.05684037e-01 3.89017987e-02\n",
      " 3.49871110e-02 3.30897820e-02 3.68387201e-02 6.63800796e-02\n",
      " 2.26895439e-02 3.37313459e-02 1.90586737e-03 6.41673853e-02\n",
      " 7.70286427e-02 6.45925941e-02]\n",
      "--------------------------------------------\n",
      "R-squared for test set = 0.3057082134229856\n",
      "RF estimator mean_squared_error =  5.614268881783785\n",
      "RF estimator root_mean_squared_error =  2.3694448467486606\n"
     ]
    },
    {
     "name": "stderr",
     "output_type": "stream",
     "text": [
      "C:\\Users\\torre\\Anaconda3\\lib\\site-packages\\sklearn\\model_selection\\_validation.py:515: DataConversionWarning: A column-vector y was passed when a 1d array was expected. Please change the shape of y to (n_samples,), for example using ravel().\n",
      "  estimator.fit(X_train, y_train, **fit_params)\n",
      "C:\\Users\\torre\\Anaconda3\\lib\\site-packages\\sklearn\\model_selection\\_validation.py:515: DataConversionWarning: A column-vector y was passed when a 1d array was expected. Please change the shape of y to (n_samples,), for example using ravel().\n",
      "  estimator.fit(X_train, y_train, **fit_params)\n",
      "C:\\Users\\torre\\Anaconda3\\lib\\site-packages\\sklearn\\model_selection\\_validation.py:515: DataConversionWarning: A column-vector y was passed when a 1d array was expected. Please change the shape of y to (n_samples,), for example using ravel().\n",
      "  estimator.fit(X_train, y_train, **fit_params)\n",
      "C:\\Users\\torre\\Anaconda3\\lib\\site-packages\\sklearn\\model_selection\\_validation.py:515: DataConversionWarning: A column-vector y was passed when a 1d array was expected. Please change the shape of y to (n_samples,), for example using ravel().\n",
      "  estimator.fit(X_train, y_train, **fit_params)\n",
      "C:\\Users\\torre\\Anaconda3\\lib\\site-packages\\sklearn\\model_selection\\_validation.py:515: DataConversionWarning: A column-vector y was passed when a 1d array was expected. Please change the shape of y to (n_samples,), for example using ravel().\n",
      "  estimator.fit(X_train, y_train, **fit_params)\n"
     ]
    },
    {
     "name": "stdout",
     "output_type": "stream",
     "text": [
      "cross_val =neg_root_mean_squared_error mean =  -2.5257138037160116\n"
     ]
    }
   ],
   "source": [
    "estimator_RF = RandomForestRegressor(n_estimators=1000)\n",
    "estimator_RF.fit(X_train,y_train)\n",
    "print(f\"R-squared for train set: {estimator_RF.score(X_train, y_train):.2f}\")\n",
    "print(\"--------------------------------------------\")\n",
    "y_pred = estimator_RF.predict(X_test)\n",
    "print(\"------Feature importances---------------------\")\n",
    "print(estimator_RF.feature_importances_)\n",
    "print(\"--------------------------------------------\")\n",
    "score_estimator = estimator_RF.score(X_test, y_test)\n",
    "print(\"R-squared for test set =\", score_estimator)\n",
    "mse = mean_squared_error(y_test,y_pred)\n",
    "print(\"RF estimator mean_squared_error = \", mse)\n",
    "rmse = math.sqrt(mse)\n",
    "print(\"RF estimator root_mean_squared_error = \", rmse)\n",
    "cvs = cross_val_score(estimator_RF, X, y, scoring= 'neg_root_mean_squared_error').mean()\n",
    "print(\"cross_val =neg_root_mean_squared_error mean = \", cvs)\n"
   ]
  },
  {
   "cell_type": "code",
   "execution_count": 89,
   "metadata": {},
   "outputs": [
    {
     "data": {
      "image/png": "[encoded data removed]",
      "text/plain": [
       "<Figure size 864x576 with 1 Axes>"
      ]
     },
     "metadata": {
      "needs_background": "light"
     },
     "output_type": "display_data"
    },
    {
     "data": {
      "text/plain": [
       "<matplotlib.axes._subplots.AxesSubplot at 0x1e4f4e82148>"
      ]
     },
     "execution_count": 89,
     "metadata": {},
     "output_type": "execute_result"
    },
    {
     "data": {
      "image/png": "[encoded data removed]",
      "text/plain": [
       "<Figure size 720x720 with 1 Axes>"
      ]
     },
     "metadata": {
      "needs_background": "light"
     },
     "output_type": "display_data"
    }
   ],
   "source": [
    "##################### Plotting results #########################\n",
    "df_y = pd.DataFrame(y_test) \n",
    "    \n",
    "    # Visualising the Random Forest Regression results  \n",
    "df_y['Pred_Total_Affected'] = y_pred \n",
    "df_y.sort_values(by = 'TOTAL_AFFECTED',ascending=True, inplace=True) #Sorting the dataset to better visualize results in a plot\n",
    "df_y.reset_index(inplace=True, drop=True) #Resetting index\n",
    "    \n",
    "    # plt for the Random Forest Regression results ++\n",
    "plt.figure(figsize=(12,8))\n",
    "plt.plot(df_y.index, df_y['TOTAL_AFFECTED'], label = 'Observed')\n",
    "plt.plot(df_y.index, df_y['Pred_Total_Affected'], 'o', label = 'Predicted')\n",
    "plt.xlabel('Observations')\n",
    "plt.ylabel('log(Num_Affected')\n",
    "plt.title('log(Num Affected) - Test Vs Predictions')\n",
    "    # show a legend on the plot\n",
    "plt.legend()\n",
    "    # Display a figure.\n",
    "plt.show()\n",
    "    \n",
    "    \n",
    "    #Feat_importances plotting\n",
    "feat_importances = pd.Series(estimator_RF.feature_importances_, index = X.columns)\n",
    "feat_importances.nlargest(25).plot(kind = \"barh\", \n",
    "                                       figsize= (10,10), \n",
    "                                       color = \"slategrey\",\n",
    "                                       title = \"Feature importance\" )"
   ]
  },
  {
   "cell_type": "markdown",
   "metadata": {},
   "source": [
    "### Hyperparameter tunning with grid search"
   ]
  },
  {
   "cell_type": "code",
   "execution_count": 102,
   "metadata": {},
   "outputs": [],
   "source": [
    "parameters = {'n_estimators':[100, 500, 1000], \n",
    "              'max_depth':[5, 10, 20, 40],\n",
    "              'max_features':[10, 15, 20, 30]              \n",
    "             }"
   ]
  },
  {
   "cell_type": "code",
   "execution_count": 103,
   "metadata": {},
   "outputs": [],
   "source": [
    "estimator_RF = GridSearchCV(RandomForestRegressor(), parameters, cv = 3, scoring= 'neg_root_mean_squared_error',\n",
    "                            return_train_score = False)"
   ]
  },
  {
   "cell_type": "code",
   "execution_count": 104,
   "metadata": {
    "scrolled": true
   },
   "outputs": [
    {
     "data": {
      "text/plain": [
       "GridSearchCV(cv=3, error_score=nan,\n",
       "             estimator=RandomForestRegressor(bootstrap=True, ccp_alpha=0.0,\n",
       "                                             criterion='mse', max_depth=None,\n",
       "                                             max_features='auto',\n",
       "                                             max_leaf_nodes=None,\n",
       "                                             max_samples=None,\n",
       "                                             min_impurity_decrease=0.0,\n",
       "                                             min_impurity_split=None,\n",
       "                                             min_samples_leaf=1,\n",
       "                                             min_samples_split=2,\n",
       "                                             min_weight_fraction_leaf=0.0,\n",
       "                                             n_estimators=100, n_jobs=None,\n",
       "                                             oob_score=False, random_state=None,\n",
       "                                             verbose=0, warm_start=False),\n",
       "             iid='deprecated', n_jobs=None,\n",
       "             param_grid={'max_depth': [5, 10, 20, 40],\n",
       "                         'max_features': [10, 15, 20, 30],\n",
       "                         'n_estimators': [100, 500, 1000]},\n",
       "             pre_dispatch='2*n_jobs', refit=True, return_train_score=False,\n",
       "             scoring='neg_root_mean_squared_error', verbose=0)"
      ]
     },
     "execution_count": 104,
     "metadata": {},
     "output_type": "execute_result"
    }
   ],
   "source": [
    "estimator_RF.fit(X_train,y_train)"
   ]
  },
  {
   "cell_type": "code",
   "execution_count": 105,
   "metadata": {},
   "outputs": [
    {
     "data": {
      "text/plain": [
       "Index(['mean_fit_time', 'std_fit_time', 'mean_score_time', 'std_score_time',\n",
       "       'param_max_depth', 'param_max_features', 'param_n_estimators', 'params',\n",
       "       'split0_test_score', 'split1_test_score', 'split2_test_score',\n",
       "       'mean_test_score', 'std_test_score', 'rank_test_score'],\n",
       "      dtype='object')"
      ]
     },
     "execution_count": 105,
     "metadata": {},
     "output_type": "execute_result"
    }
   ],
   "source": [
    "GS_results = pd.DataFrame(estimator_RF.cv_results_)\n",
    "GS_results.columns"
   ]
  },
  {
   "cell_type": "code",
   "execution_count": 106,
   "metadata": {
    "scrolled": true
   },
   "outputs": [
    {
     "data": {
      "text/html": [
       "<div>\n",
       "<style scoped>\n",
       "    .dataframe tbody tr th:only-of-type {\n",
       "        vertical-align: middle;\n",
       "    }\n",
       "\n",
       "    .dataframe tbody tr th {\n",
       "        vertical-align: top;\n",
       "    }\n",
       "\n",
       "    .dataframe thead th {\n",
       "        text-align: right;\n",
       "    }\n",
       "</style>\n",
       "<table border=\"1\" class=\"dataframe\">\n",
       "  <thead>\n",
       "    <tr style=\"text-align: right;\">\n",
       "      <th></th>\n",
       "      <th>param_max_depth</th>\n",
       "      <th>param_max_features</th>\n",
       "      <th>param_n_estimators</th>\n",
       "      <th>mean_test_score</th>\n",
       "      <th>rank_test_score</th>\n",
       "    </tr>\n",
       "  </thead>\n",
       "  <tbody>\n",
       "    <tr>\n",
       "      <th>27</th>\n",
       "      <td>20</td>\n",
       "      <td>15</td>\n",
       "      <td>100</td>\n",
       "      <td>-2.617060</td>\n",
       "      <td>1</td>\n",
       "    </tr>\n",
       "    <tr>\n",
       "      <th>39</th>\n",
       "      <td>40</td>\n",
       "      <td>15</td>\n",
       "      <td>100</td>\n",
       "      <td>-2.623535</td>\n",
       "      <td>2</td>\n",
       "    </tr>\n",
       "    <tr>\n",
       "      <th>25</th>\n",
       "      <td>20</td>\n",
       "      <td>10</td>\n",
       "      <td>500</td>\n",
       "      <td>-2.626007</td>\n",
       "      <td>3</td>\n",
       "    </tr>\n",
       "    <tr>\n",
       "      <th>14</th>\n",
       "      <td>10</td>\n",
       "      <td>10</td>\n",
       "      <td>1000</td>\n",
       "      <td>-2.627228</td>\n",
       "      <td>4</td>\n",
       "    </tr>\n",
       "    <tr>\n",
       "      <th>37</th>\n",
       "      <td>40</td>\n",
       "      <td>10</td>\n",
       "      <td>500</td>\n",
       "      <td>-2.627502</td>\n",
       "      <td>5</td>\n",
       "    </tr>\n",
       "    <tr>\n",
       "      <th>38</th>\n",
       "      <td>40</td>\n",
       "      <td>10</td>\n",
       "      <td>1000</td>\n",
       "      <td>-2.628899</td>\n",
       "      <td>6</td>\n",
       "    </tr>\n",
       "    <tr>\n",
       "      <th>28</th>\n",
       "      <td>20</td>\n",
       "      <td>15</td>\n",
       "      <td>500</td>\n",
       "      <td>-2.629545</td>\n",
       "      <td>7</td>\n",
       "    </tr>\n",
       "    <tr>\n",
       "      <th>44</th>\n",
       "      <td>40</td>\n",
       "      <td>20</td>\n",
       "      <td>1000</td>\n",
       "      <td>-2.629707</td>\n",
       "      <td>8</td>\n",
       "    </tr>\n",
       "    <tr>\n",
       "      <th>32</th>\n",
       "      <td>20</td>\n",
       "      <td>20</td>\n",
       "      <td>1000</td>\n",
       "      <td>-2.630070</td>\n",
       "      <td>9</td>\n",
       "    </tr>\n",
       "    <tr>\n",
       "      <th>23</th>\n",
       "      <td>10</td>\n",
       "      <td>30</td>\n",
       "      <td>1000</td>\n",
       "      <td>-2.630198</td>\n",
       "      <td>10</td>\n",
       "    </tr>\n",
       "    <tr>\n",
       "      <th>29</th>\n",
       "      <td>20</td>\n",
       "      <td>15</td>\n",
       "      <td>1000</td>\n",
       "      <td>-2.631000</td>\n",
       "      <td>11</td>\n",
       "    </tr>\n",
       "    <tr>\n",
       "      <th>46</th>\n",
       "      <td>40</td>\n",
       "      <td>30</td>\n",
       "      <td>500</td>\n",
       "      <td>-2.631302</td>\n",
       "      <td>12</td>\n",
       "    </tr>\n",
       "    <tr>\n",
       "      <th>40</th>\n",
       "      <td>40</td>\n",
       "      <td>15</td>\n",
       "      <td>500</td>\n",
       "      <td>-2.631345</td>\n",
       "      <td>13</td>\n",
       "    </tr>\n",
       "    <tr>\n",
       "      <th>17</th>\n",
       "      <td>10</td>\n",
       "      <td>15</td>\n",
       "      <td>1000</td>\n",
       "      <td>-2.631829</td>\n",
       "      <td>14</td>\n",
       "    </tr>\n",
       "    <tr>\n",
       "      <th>41</th>\n",
       "      <td>40</td>\n",
       "      <td>15</td>\n",
       "      <td>1000</td>\n",
       "      <td>-2.631869</td>\n",
       "      <td>15</td>\n",
       "    </tr>\n",
       "    <tr>\n",
       "      <th>13</th>\n",
       "      <td>10</td>\n",
       "      <td>10</td>\n",
       "      <td>500</td>\n",
       "      <td>-2.632025</td>\n",
       "      <td>16</td>\n",
       "    </tr>\n",
       "    <tr>\n",
       "      <th>35</th>\n",
       "      <td>20</td>\n",
       "      <td>30</td>\n",
       "      <td>1000</td>\n",
       "      <td>-2.633147</td>\n",
       "      <td>17</td>\n",
       "    </tr>\n",
       "    <tr>\n",
       "      <th>19</th>\n",
       "      <td>10</td>\n",
       "      <td>20</td>\n",
       "      <td>500</td>\n",
       "      <td>-2.633812</td>\n",
       "      <td>18</td>\n",
       "    </tr>\n",
       "    <tr>\n",
       "      <th>26</th>\n",
       "      <td>20</td>\n",
       "      <td>10</td>\n",
       "      <td>1000</td>\n",
       "      <td>-2.634157</td>\n",
       "      <td>19</td>\n",
       "    </tr>\n",
       "    <tr>\n",
       "      <th>34</th>\n",
       "      <td>20</td>\n",
       "      <td>30</td>\n",
       "      <td>500</td>\n",
       "      <td>-2.635454</td>\n",
       "      <td>20</td>\n",
       "    </tr>\n",
       "    <tr>\n",
       "      <th>43</th>\n",
       "      <td>40</td>\n",
       "      <td>20</td>\n",
       "      <td>500</td>\n",
       "      <td>-2.635761</td>\n",
       "      <td>21</td>\n",
       "    </tr>\n",
       "    <tr>\n",
       "      <th>47</th>\n",
       "      <td>40</td>\n",
       "      <td>30</td>\n",
       "      <td>1000</td>\n",
       "      <td>-2.635946</td>\n",
       "      <td>22</td>\n",
       "    </tr>\n",
       "    <tr>\n",
       "      <th>31</th>\n",
       "      <td>20</td>\n",
       "      <td>20</td>\n",
       "      <td>500</td>\n",
       "      <td>-2.636442</td>\n",
       "      <td>23</td>\n",
       "    </tr>\n",
       "    <tr>\n",
       "      <th>15</th>\n",
       "      <td>10</td>\n",
       "      <td>15</td>\n",
       "      <td>100</td>\n",
       "      <td>-2.636800</td>\n",
       "      <td>24</td>\n",
       "    </tr>\n",
       "    <tr>\n",
       "      <th>22</th>\n",
       "      <td>10</td>\n",
       "      <td>30</td>\n",
       "      <td>500</td>\n",
       "      <td>-2.639594</td>\n",
       "      <td>25</td>\n",
       "    </tr>\n",
       "    <tr>\n",
       "      <th>16</th>\n",
       "      <td>10</td>\n",
       "      <td>15</td>\n",
       "      <td>500</td>\n",
       "      <td>-2.640595</td>\n",
       "      <td>26</td>\n",
       "    </tr>\n",
       "    <tr>\n",
       "      <th>20</th>\n",
       "      <td>10</td>\n",
       "      <td>20</td>\n",
       "      <td>1000</td>\n",
       "      <td>-2.641027</td>\n",
       "      <td>27</td>\n",
       "    </tr>\n",
       "    <tr>\n",
       "      <th>30</th>\n",
       "      <td>20</td>\n",
       "      <td>20</td>\n",
       "      <td>100</td>\n",
       "      <td>-2.641468</td>\n",
       "      <td>28</td>\n",
       "    </tr>\n",
       "    <tr>\n",
       "      <th>12</th>\n",
       "      <td>10</td>\n",
       "      <td>10</td>\n",
       "      <td>100</td>\n",
       "      <td>-2.641486</td>\n",
       "      <td>29</td>\n",
       "    </tr>\n",
       "    <tr>\n",
       "      <th>21</th>\n",
       "      <td>10</td>\n",
       "      <td>30</td>\n",
       "      <td>100</td>\n",
       "      <td>-2.642405</td>\n",
       "      <td>30</td>\n",
       "    </tr>\n",
       "    <tr>\n",
       "      <th>24</th>\n",
       "      <td>20</td>\n",
       "      <td>10</td>\n",
       "      <td>100</td>\n",
       "      <td>-2.648191</td>\n",
       "      <td>31</td>\n",
       "    </tr>\n",
       "    <tr>\n",
       "      <th>36</th>\n",
       "      <td>40</td>\n",
       "      <td>10</td>\n",
       "      <td>100</td>\n",
       "      <td>-2.648591</td>\n",
       "      <td>32</td>\n",
       "    </tr>\n",
       "    <tr>\n",
       "      <th>33</th>\n",
       "      <td>20</td>\n",
       "      <td>30</td>\n",
       "      <td>100</td>\n",
       "      <td>-2.651252</td>\n",
       "      <td>33</td>\n",
       "    </tr>\n",
       "    <tr>\n",
       "      <th>10</th>\n",
       "      <td>5</td>\n",
       "      <td>30</td>\n",
       "      <td>500</td>\n",
       "      <td>-2.658763</td>\n",
       "      <td>34</td>\n",
       "    </tr>\n",
       "    <tr>\n",
       "      <th>18</th>\n",
       "      <td>10</td>\n",
       "      <td>20</td>\n",
       "      <td>100</td>\n",
       "      <td>-2.664071</td>\n",
       "      <td>35</td>\n",
       "    </tr>\n",
       "    <tr>\n",
       "      <th>11</th>\n",
       "      <td>5</td>\n",
       "      <td>30</td>\n",
       "      <td>1000</td>\n",
       "      <td>-2.666259</td>\n",
       "      <td>36</td>\n",
       "    </tr>\n",
       "    <tr>\n",
       "      <th>42</th>\n",
       "      <td>40</td>\n",
       "      <td>20</td>\n",
       "      <td>100</td>\n",
       "      <td>-2.666915</td>\n",
       "      <td>37</td>\n",
       "    </tr>\n",
       "    <tr>\n",
       "      <th>45</th>\n",
       "      <td>40</td>\n",
       "      <td>30</td>\n",
       "      <td>100</td>\n",
       "      <td>-2.668454</td>\n",
       "      <td>38</td>\n",
       "    </tr>\n",
       "    <tr>\n",
       "      <th>8</th>\n",
       "      <td>5</td>\n",
       "      <td>20</td>\n",
       "      <td>1000</td>\n",
       "      <td>-2.668461</td>\n",
       "      <td>39</td>\n",
       "    </tr>\n",
       "    <tr>\n",
       "      <th>9</th>\n",
       "      <td>5</td>\n",
       "      <td>30</td>\n",
       "      <td>100</td>\n",
       "      <td>-2.672501</td>\n",
       "      <td>40</td>\n",
       "    </tr>\n",
       "    <tr>\n",
       "      <th>7</th>\n",
       "      <td>5</td>\n",
       "      <td>20</td>\n",
       "      <td>500</td>\n",
       "      <td>-2.672567</td>\n",
       "      <td>41</td>\n",
       "    </tr>\n",
       "    <tr>\n",
       "      <th>5</th>\n",
       "      <td>5</td>\n",
       "      <td>15</td>\n",
       "      <td>1000</td>\n",
       "      <td>-2.674091</td>\n",
       "      <td>42</td>\n",
       "    </tr>\n",
       "    <tr>\n",
       "      <th>4</th>\n",
       "      <td>5</td>\n",
       "      <td>15</td>\n",
       "      <td>500</td>\n",
       "      <td>-2.674105</td>\n",
       "      <td>43</td>\n",
       "    </tr>\n",
       "    <tr>\n",
       "      <th>3</th>\n",
       "      <td>5</td>\n",
       "      <td>15</td>\n",
       "      <td>100</td>\n",
       "      <td>-2.677626</td>\n",
       "      <td>44</td>\n",
       "    </tr>\n",
       "    <tr>\n",
       "      <th>6</th>\n",
       "      <td>5</td>\n",
       "      <td>20</td>\n",
       "      <td>100</td>\n",
       "      <td>-2.678917</td>\n",
       "      <td>45</td>\n",
       "    </tr>\n",
       "    <tr>\n",
       "      <th>2</th>\n",
       "      <td>5</td>\n",
       "      <td>10</td>\n",
       "      <td>1000</td>\n",
       "      <td>-2.687796</td>\n",
       "      <td>46</td>\n",
       "    </tr>\n",
       "    <tr>\n",
       "      <th>1</th>\n",
       "      <td>5</td>\n",
       "      <td>10</td>\n",
       "      <td>500</td>\n",
       "      <td>-2.688964</td>\n",
       "      <td>47</td>\n",
       "    </tr>\n",
       "    <tr>\n",
       "      <th>0</th>\n",
       "      <td>5</td>\n",
       "      <td>10</td>\n",
       "      <td>100</td>\n",
       "      <td>-2.691746</td>\n",
       "      <td>48</td>\n",
       "    </tr>\n",
       "  </tbody>\n",
       "</table>\n",
       "</div>"
      ],
      "text/plain": [
       "   param_max_depth param_max_features param_n_estimators  mean_test_score  \\\n",
       "27              20                 15                100        -2.617060   \n",
       "39              40                 15                100        -2.623535   \n",
       "25              20                 10                500        -2.626007   \n",
       "14              10                 10               1000        -2.627228   \n",
       "37              40                 10                500        -2.627502   \n",
       "38              40                 10               1000        -2.628899   \n",
       "28              20                 15                500        -2.629545   \n",
       "44              40                 20               1000        -2.629707   \n",
       "32              20                 20               1000        -2.630070   \n",
       "23              10                 30               1000        -2.630198   \n",
       "29              20                 15               1000        -2.631000   \n",
       "46              40                 30                500        -2.631302   \n",
       "40              40                 15                500        -2.631345   \n",
       "17              10                 15               1000        -2.631829   \n",
       "41              40                 15               1000        -2.631869   \n",
       "13              10                 10                500        -2.632025   \n",
       "35              20                 30               1000        -2.633147   \n",
       "19              10                 20                500        -2.633812   \n",
       "26              20                 10               1000        -2.634157   \n",
       "34              20                 30                500        -2.635454   \n",
       "43              40                 20                500        -2.635761   \n",
       "47              40                 30               1000        -2.635946   \n",
       "31              20                 20                500        -2.636442   \n",
       "15              10                 15                100        -2.636800   \n",
       "22              10                 30                500        -2.639594   \n",
       "16              10                 15                500        -2.640595   \n",
       "20              10                 20               1000        -2.641027   \n",
       "30              20                 20                100        -2.641468   \n",
       "12              10                 10                100        -2.641486   \n",
       "21              10                 30                100        -2.642405   \n",
       "24              20                 10                100        -2.648191   \n",
       "36              40                 10                100        -2.648591   \n",
       "33              20                 30                100        -2.651252   \n",
       "10               5                 30                500        -2.658763   \n",
       "18              10                 20                100        -2.664071   \n",
       "11               5                 30               1000        -2.666259   \n",
       "42              40                 20                100        -2.666915   \n",
       "45              40                 30                100        -2.668454   \n",
       "8                5                 20               1000        -2.668461   \n",
       "9                5                 30                100        -2.672501   \n",
       "7                5                 20                500        -2.672567   \n",
       "5                5                 15               1000        -2.674091   \n",
       "4                5                 15                500        -2.674105   \n",
       "3                5                 15                100        -2.677626   \n",
       "6                5                 20                100        -2.678917   \n",
       "2                5                 10               1000        -2.687796   \n",
       "1                5                 10                500        -2.688964   \n",
       "0                5                 10                100        -2.691746   \n",
       "\n",
       "    rank_test_score  \n",
       "27                1  \n",
       "39                2  \n",
       "25                3  \n",
       "14                4  \n",
       "37                5  \n",
       "38                6  \n",
       "28                7  \n",
       "44                8  \n",
       "32                9  \n",
       "23               10  \n",
       "29               11  \n",
       "46               12  \n",
       "40               13  \n",
       "17               14  \n",
       "41               15  \n",
       "13               16  \n",
       "35               17  \n",
       "19               18  \n",
       "26               19  \n",
       "34               20  \n",
       "43               21  \n",
       "47               22  \n",
       "31               23  \n",
       "15               24  \n",
       "22               25  \n",
       "16               26  \n",
       "20               27  \n",
       "30               28  \n",
       "12               29  \n",
       "21               30  \n",
       "24               31  \n",
       "36               32  \n",
       "33               33  \n",
       "10               34  \n",
       "18               35  \n",
       "11               36  \n",
       "42               37  \n",
       "45               38  \n",
       "8                39  \n",
       "9                40  \n",
       "7                41  \n",
       "5                42  \n",
       "4                43  \n",
       "3                44  \n",
       "6                45  \n",
       "2                46  \n",
       "1                47  \n",
       "0                48  "
      ]
     },
     "execution_count": 106,
     "metadata": {},
     "output_type": "execute_result"
    }
   ],
   "source": [
    "cols_needed = ['param_max_depth', 'param_max_features', 'param_n_estimators', 'mean_test_score','rank_test_score']\n",
    "GS_results = GS_results[cols_needed]\n",
    "GS_results.sort_values(by=['rank_test_score'], ascending = True)"
   ]
  },
  {
   "cell_type": "code",
   "execution_count": 107,
   "metadata": {},
   "outputs": [
    {
     "name": "stdout",
     "output_type": "stream",
     "text": [
      "2.617060354404218\n",
      "{'max_depth': 20, 'max_features': 15, 'n_estimators': 100}\n"
     ]
    }
   ],
   "source": [
    "print(np.abs(estimator_RF.best_score_))\n",
    "print(estimator_RF.best_params_)"
   ]
  },
  {
   "cell_type": "markdown",
   "metadata": {},
   "source": [
    "- Plotting with another chart"
   ]
  },
  {
   "cell_type": "code",
   "execution_count": 108,
   "metadata": {},
   "outputs": [
    {
     "data": {
      "image/png": "[encoded data removed]",
      "text/plain": [
       "<Figure size 864x576 with 1 Axes>"
      ]
     },
     "metadata": {
      "needs_background": "light"
     },
     "output_type": "display_data"
    }
   ],
   "source": [
    "df_y = pd.DataFrame(y_test) \n",
    "    \n",
    "    # Visualising the Random Forest Regression results  \n",
    "df_y['Pred_Total_Affected'] = y_pred \n",
    "df_y.sort_values(by = 'TOTAL_AFFECTED',ascending=True, inplace=True) #Sorting the dataset to better visualize results in a plot\n",
    "df_y.reset_index(inplace=True, drop=True) #Resetting index\n",
    "    \n",
    "    # plt for the Random Forest Regression results ++\n",
    "plt.figure(figsize=(12,8))\n",
    "plt.plot(df_y['TOTAL_AFFECTED'], df_y['TOTAL_AFFECTED'], '--', label = 'Observed')\n",
    "plt.plot(df_y['TOTAL_AFFECTED'], df_y['Pred_Total_Affected'], 'o', label = 'Predicted')\n",
    "\n",
    "plt.xlabel('log(Pred_Total_Affected)')\n",
    "plt.ylabel('log(Num_Affected)')\n",
    "#plt.xlim(0,100)\n",
    "plt.title('log(Num Affected) - Test Vs Predictions')\n",
    "\n",
    "    # show a legend on the plot\n",
    "plt.legend()\n",
    "    # Display a figure.\n",
    "plt.show()"
   ]
  },
  {
   "cell_type": "markdown",
   "metadata": {},
   "source": [
    "- Plotting Absolute Error of each observed data point in test data"
   ]
  },
  {
   "cell_type": "code",
   "execution_count": 109,
   "metadata": {},
   "outputs": [],
   "source": [
    "df_y['error'] = abs(df_y['Pred_Total_Affected'] - df_y['TOTAL_AFFECTED'])"
   ]
  },
  {
   "cell_type": "code",
   "execution_count": 110,
   "metadata": {},
   "outputs": [
    {
     "data": {
      "text/plain": [
       "count    183.000000\n",
       "mean       1.879727\n",
       "std        1.446489\n",
       "min        0.024617\n",
       "25%        0.739644\n",
       "50%        1.458887\n",
       "75%        2.912578\n",
       "max        6.894563\n",
       "Name: error, dtype: float64"
      ]
     },
     "execution_count": 110,
     "metadata": {},
     "output_type": "execute_result"
    }
   ],
   "source": [
    "df_y['error'].describe()"
   ]
  },
  {
   "cell_type": "code",
   "execution_count": 111,
   "metadata": {},
   "outputs": [
    {
     "name": "stderr",
     "output_type": "stream",
     "text": [
      "No handles with labels found to put in legend.\n"
     ]
    },
    {
     "data": {
      "image/png": "[encoded data removed]",
      "text/plain": [
       "<Figure size 864x432 with 1 Axes>"
      ]
     },
     "metadata": {
      "needs_background": "light"
     },
     "output_type": "display_data"
    }
   ],
   "source": [
    "plt.figure(figsize=(12,6))\n",
    "plt.plot(df_y['TOTAL_AFFECTED'], df_y['error'] , 'og')\n",
    "plt.axhline(y=0.5,c='r')\n",
    "plt.xlabel('log(Total_Affected)')\n",
    "plt.ylabel('ABSOLUTE ERROR of the prediction')\n",
    "#plt.xlim(0,100)\n",
    "plt.title('log(Total_Affected) - ABSOLUTE ERROR')\n",
    "\n",
    "    # show a legend on the plot\n",
    "plt.legend()\n",
    "    # Display a figure.\n",
    "plt.show()"
   ]
  },
  {
   "cell_type": "markdown",
   "metadata": {},
   "source": [
    "### Using Sequential Feature Selection"
   ]
  },
  {
   "cell_type": "markdown",
   "metadata": {},
   "source": [
    "http://rasbt.github.io/mlxtend/user_guide/feature_selection/SequentialFeatureSelector/"
   ]
  },
  {
   "cell_type": "code",
   "execution_count": null,
   "metadata": {},
   "outputs": [],
   "source": [
    "from mlxtend.feature_selection import SequentialFeatureSelector as SFS"
   ]
  },
  {
   "cell_type": "code",
   "execution_count": null,
   "metadata": {},
   "outputs": [],
   "source": [
    "# df_filled =  df_filled[df_filled['TOTAL_AFFECTED'] > 0.4] \n",
    "# df_filled =  df_filled[df_filled['TOTAL_AFFECTED'] < 0.9]"
   ]
  },
  {
   "cell_type": "code",
   "execution_count": null,
   "metadata": {},
   "outputs": [],
   "source": [
    "df_filled.shape"
   ]
  },
  {
   "cell_type": "code",
   "execution_count": null,
   "metadata": {},
   "outputs": [],
   "source": [
    "X = df_filled[features1] #features\n",
    "# X = df_scaled[features3].fillna(df.mean())\n",
    "y = df_filled['TOTAL_AFFECTED']"
   ]
  },
  {
   "cell_type": "code",
   "execution_count": null,
   "metadata": {},
   "outputs": [],
   "source": [
    "X_train, X_test, y_train, y_test = train_test_split(X, y, test_size=0.3) #(X_pca, y, test_size=0.3)"
   ]
  },
  {
   "cell_type": "code",
   "execution_count": null,
   "metadata": {},
   "outputs": [],
   "source": [
    "estimator_RF = RandomForestRegressor(n_estimators=1000)"
   ]
  },
  {
   "cell_type": "code",
   "execution_count": null,
   "metadata": {},
   "outputs": [],
   "source": [
    "sfs1 = SFS(estimator_RF, \n",
    "           k_features=10, \n",
    "           forward=True, \n",
    "           floating=True, \n",
    "           verbose=2,\n",
    "           scoring='neg_root_mean_squared_error',\n",
    "           cv=0)"
   ]
  },
  {
   "cell_type": "code",
   "execution_count": null,
   "metadata": {},
   "outputs": [],
   "source": [
    "sfs1 = sfs1.fit(X_train, y_train)"
   ]
  },
  {
   "cell_type": "code",
   "execution_count": null,
   "metadata": {},
   "outputs": [],
   "source": [
    "sfs1.subsets_"
   ]
  },
  {
   "cell_type": "code",
   "execution_count": null,
   "metadata": {},
   "outputs": [],
   "source": [
    "#TOP_10 Selected features\n",
    "top_10_features = list(sfs1.k_feature_names_)\n",
    "top_10_features"
   ]
  },
  {
   "cell_type": "code",
   "execution_count": null,
   "metadata": {},
   "outputs": [],
   "source": [
    "# df_filled_trim =  df_filled[(df_filled['TOTAL_AFFECTED']>2) & (df_filled['TOTAL_AFFECTED']<5)]"
   ]
  },
  {
   "cell_type": "code",
   "execution_count": null,
   "metadata": {},
   "outputs": [],
   "source": [
    "X = df_filled[top_10_features] #features\n",
    "# X = df_scaled[features3].fillna(df.mean())\n",
    "y = df_filled['TOTAL_AFFECTED']"
   ]
  },
  {
   "cell_type": "code",
   "execution_count": null,
   "metadata": {},
   "outputs": [],
   "source": [
    "X_train, X_test, y_train, y_test = train_test_split(X, y, test_size=0.3) #(X_pca, y, test_size=0.3)"
   ]
  },
  {
   "cell_type": "code",
   "execution_count": null,
   "metadata": {},
   "outputs": [],
   "source": [
    "estimator_RF = RandomForestRegressor(n_estimators=1000)\n",
    "estimator_RF.fit(X_train,y_train)\n",
    "\n",
    "print(f\"R-squared for train set: {estimator_RF.score(X, y):.2f}\")\n",
    "print(\"--------------------------------------------\")\n",
    "\n",
    "y_pred = estimator_RF.predict(X_test)\n",
    "\n",
    "print(\"------Feature importances---------------------\")\n",
    "print(estimator_RF.feature_importances_)\n",
    "\n",
    "print(\"--------------------------------------------\")\n",
    "score_estimator = estimator_RF.score(X_test, y_test)\n",
    "print(\"R-squared for test set =\", score_estimator)\n",
    "\n",
    "mse = mean_squared_error(y_test,y_pred)\n",
    "print(\"RF estimator mean_squared_error = \", mse)\n",
    "\n",
    "rmse = math.sqrt(mse)\n",
    "print(\"RF estimator root_mean_squared_error = \", rmse)\n",
    "\n",
    "cvs = cross_val_score(estimator_RF, X, y, scoring= 'neg_root_mean_squared_error').mean()\n",
    "print(\"cross_val_score =neg_root_mean_squared_error mean = \", cvs)"
   ]
  },
  {
   "cell_type": "code",
   "execution_count": null,
   "metadata": {},
   "outputs": [],
   "source": [
    "df_y = pd.DataFrame(y_test) \n",
    "    \n",
    "    # Visualising the Random Forest Regression results  \n",
    "df_y['Pred_Total_Affected'] = y_pred \n",
    "df_y.sort_values(by = 'TOTAL_AFFECTED',ascending=True, inplace=True) #Sorting the dataset to better visualize results in a plot\n",
    "df_y.reset_index(inplace=True, drop=True) #Resetting index\n",
    "    \n",
    "    # plt for the Random Forest Regression results ++\n",
    "plt.figure(figsize=(12,8))\n",
    "plt.plot(df_y.index, df_y['TOTAL_AFFECTED'], label = 'Observed')\n",
    "plt.plot(df_y.index, df_y['Pred_Total_Affected'], 'o', label = 'Predicted')\n",
    "plt.xlabel('Observations')\n",
    "plt.ylabel('log(Num_Affected)')\n",
    "#plt.xlim(0,100)\n",
    "plt.title('Num Affected - Test Vs Predictions')\n",
    "\n",
    "    # show a legend on the plot\n",
    "plt.legend()\n",
    "    # Display a figure.\n",
    "plt.show()"
   ]
  },
  {
   "cell_type": "code",
   "execution_count": null,
   "metadata": {},
   "outputs": [],
   "source": [
    "feat_importances = pd.Series(estimator_RF.feature_importances_, index = top_10_features)\n",
    "feat_importances.nlargest(10).plot(kind = \"barh\", \n",
    "                                       figsize= (10,10), \n",
    "                                       color = \"grey\",\n",
    "                                       title = \"Feature importance\" )"
   ]
  },
  {
   "cell_type": "markdown",
   "metadata": {},
   "source": [
    "### Correlations heatmap"
   ]
  },
  {
   "cell_type": "code",
   "execution_count": null,
   "metadata": {},
   "outputs": [],
   "source": [
    "df2 = pd.read_csv(r'Data_input/OUTPUT_WBI_exposer_cyclones_v12.csv', sep=\";\")"
   ]
  },
  {
   "cell_type": "code",
   "execution_count": null,
   "metadata": {},
   "outputs": [],
   "source": [
    "df2.info()"
   ]
  },
  {
   "cell_type": "code",
   "execution_count": null,
   "metadata": {},
   "outputs": [],
   "source": [
    "#Selecting the numerical features\n",
    "\n",
    "numerical_features = list(df2.select_dtypes(include=['float64','int64']).columns)"
   ]
  },
  {
   "cell_type": "code",
   "execution_count": null,
   "metadata": {},
   "outputs": [],
   "source": [
    "#New data sets to construct the correlation matrix\n",
    "df2 = df2[numerical_features]"
   ]
  },
  {
   "cell_type": "code",
   "execution_count": null,
   "metadata": {},
   "outputs": [],
   "source": [
    "#correlation matrices\n",
    "corr_num = df2.corr(method = \"spearman\")"
   ]
  },
  {
   "cell_type": "code",
   "execution_count": null,
   "metadata": {},
   "outputs": [],
   "source": [
    "fig, ax = plt.subplots(figsize=(18,18))\n",
    "ax = plt.subplot(111)\n",
    "sns.heatmap(corr_num, annot=True, linewidth=1, cmap=\"BrBG\", ax=ax)\n",
    "bottom, top = ax.get_ylim()             # this fixes a bug where first and last columns were not visualized correctly\n",
    "ax.set_ylim(bottom + 0.5, top - 0.5)"
   ]
  },
  {
   "cell_type": "markdown",
   "metadata": {},
   "source": [
    "___________________________\n",
    "________________________________"
   ]
  }
 ],
 "metadata": {
  "kernelspec": {
   "display_name": "Python 3",
   "language": "python",
   "name": "python3"
  },
  "language_info": {
   "codemirror_mode": {
    "name": "ipython",
    "version": 3
   },
   "file_extension": ".py",
   "mimetype": "text/x-python",
   "name": "python",
   "nbconvert_exporter": "python",
   "pygments_lexer": "ipython3",
   "version": "3.7.4"
  },
  "varInspector": {
   "cols": {
    "lenName": 16,
    "lenType": 16,
    "lenVar": 40
   },
   "kernels_config": {
    "python": {
     "delete_cmd_postfix": "",
     "delete_cmd_prefix": "del ",
     "library": "var_list.py",
     "varRefreshCmd": "print(var_dic_list())"
    },
    "r": {
     "delete_cmd_postfix": ") ",
     "delete_cmd_prefix": "rm(",
     "library": "var_list.r",
     "varRefreshCmd": "cat(var_dic_list()) "
    }
   },
   "types_to_exclude": [
    "module",
    "function",
    "builtin_function_or_method",
    "instance",
    "_Feature"
   ],
   "window_display": false
  }
 },
 "nbformat": 4,
 "nbformat_minor": 4
}
