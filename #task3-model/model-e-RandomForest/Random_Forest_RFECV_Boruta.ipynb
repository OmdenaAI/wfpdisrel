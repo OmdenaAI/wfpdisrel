{
  "nbformat": 4,
  "nbformat_minor": 0,
  "metadata": {
    "colab": {
      "name": "Random_Forest_RFECV_Boruta.ipynb",
      "provenance": [],
      "collapsed_sections": [
        "fwtFHL-fphf-",
        "NyeqYZodpjCF",
        "AgkpfQQBp67W"
      ],
      "toc_visible": true
    },
    "kernelspec": {
      "name": "python3",
      "display_name": "Python 3"
    }
  },
  "cells": [
    {
      "cell_type": "markdown",
      "metadata": {
        "id": "CKbCPo9pobpK",
        "colab_type": "text"
      },
      "source": [
        "# Random Forest Regression Model \n",
        "\n",
        "@Thiago Cunha Montenegro\n",
        "\n",
        "This notebook will cover three aproches of a Random Forest Model.\n",
        "\n",
        "1. Simple Random Forest Model\n",
        "\n",
        "2. Random Forest Model using feature ranking with recursive feature elimination and cross-validated selection (RFECV)\n",
        "\n",
        "3. Random Forest Model using Boruta Model Selection"
      ]
    },
    {
      "cell_type": "code",
      "metadata": {
        "id": "voZLDgrrGyYr",
        "colab_type": "code",
        "colab": {}
      },
      "source": [
        "import numpy as np\n",
        "import pandas as pd\n",
        "\n",
        "from sklearn.model_selection import train_test_split\n",
        "from sklearn.metrics import mean_squared_error, r2_score\n",
        "from sklearn.preprocessing import LabelEncoder\n",
        "from sklearn.preprocessing import MinMaxScaler \n",
        "from sklearn.ensemble import RandomForestRegressor\n",
        "\n",
        "import math"
      ],
      "execution_count": 0,
      "outputs": []
    },
    {
      "cell_type": "markdown",
      "metadata": {
        "id": "J8tR5NrLJevX",
        "colab_type": "text"
      },
      "source": [
        "# Simple  Random Forest Regression"
      ]
    },
    {
      "cell_type": "code",
      "metadata": {
        "id": "KSJz8fTXKjKZ",
        "colab_type": "code",
        "colab": {}
      },
      "source": [
        "df1 = pd.read_csv('/content/OUTPUT_WBI_exposer_cyclones_v10.csv')"
      ],
      "execution_count": 0,
      "outputs": []
    },
    {
      "cell_type": "code",
      "metadata": {
        "id": "mrbu6XKm3d5W",
        "colab_type": "code",
        "outputId": "be9737e1-00e9-4b55-d03c-e5dddedebb31",
        "colab": {
          "base_uri": "https://localhost:8080/",
          "height": 306
        }
      },
      "source": [
        "df1.columns"
      ],
      "execution_count": 45,
      "outputs": [
        {
          "output_type": "execute_result",
          "data": {
            "text/plain": [
              "Index(['Unnamed: 0', 'SID', 'NAME', 'ISO', 'YEAR', 'BASIN', 'SUB BASIN',\n",
              "       'NATURE', 'ISO_TIME', 'COORDS', 'TOTAL_HRS', 'DAY_HRS', 'NIGHT_HRS',\n",
              "       'USA_SSHS', 'WIND_CALC_MEAN', 'PRES_CALC_MEAN', 'STORM_SPD_MEAN',\n",
              "       'STORM_DR_MEAN', 'V_LAND_KN', '34KN_POP', '34KN_ASSETS', '64KN_POP',\n",
              "       '64KN_ASSETS', '96KN_POP', '96KN_ASSETS', 'CPI', 'TOTAL_DAMAGE_(000$)',\n",
              "       'TOTAL_DEATHS', 'Air transport, freight (million ton-km)',\n",
              "       'Arable land (hectares per person)', 'Cereal yield (kg per hectare)',\n",
              "       'Food production index (2004-2006 = 100)', 'GDP growth (annual %)',\n",
              "       'GDP per capita (constant 2010 US$)', 'Net flows from UN agencies US$',\n",
              "       'Life expectancy at birth, total (years)',\n",
              "       'Mobile cellular subscriptions (per 100 people)',\n",
              "       'Population density (people per sq. km of land area)',\n",
              "       'Adjusted savings: education expenditure (% of GNI)',\n",
              "       'Rural population (% of total population)', 'Income_level_Final',\n",
              "       'TOTAL_AFFECTED', 'in_wbi', 'pop_max_34', 'pop_max_50', 'pop_max_64',\n",
              "       'pop_max_34_adj', 'pop_max_50_adj', 'pop_max_64_adj'],\n",
              "      dtype='object')"
            ]
          },
          "metadata": {
            "tags": []
          },
          "execution_count": 45
        }
      ]
    },
    {
      "cell_type": "code",
      "metadata": {
        "id": "6dFeBjgyKmEl",
        "colab_type": "code",
        "colab": {}
      },
      "source": [
        "def process_month(df):\n",
        "  \"\"\"\n",
        "\n",
        "  \"\"\"\n",
        "  # Adding month per Vamsi's code in SVM folder\n",
        "  df['Month'] = df.ISO_TIME.apply(lambda x: x[7:9]).astype(int)\n",
        "  return df\n",
        "\n",
        "def process_emdat(df):\n",
        "  df['CALC_assets_emdat'] = df['34KN_ASSETS'] + df['64KN_ASSETS'] + df['96KN_ASSETS']\n",
        "  return df\n",
        "\n",
        "\n",
        "def process_total_damage(df):\n",
        "  \"\"\"\n",
        "  Process the Total Damage column into Total Damage Ajusted divided by CPI \n",
        "  Using Xavier logic\n",
        "  Usage\n",
        "  ------\n",
        "\n",
        "  df = process_total_damaged(df)\n",
        "  \"\"\"\n",
        "  df['TOTAL_DAMAGE_Adjusted'] = df['TOTAL_DAMAGE_(000$)'] / df['CPI']\n",
        "  return df\n",
        "\n",
        "def process_income_final(df):\n",
        "  \"\"\"\n",
        "    Process the Income Final Level column into numerical\n",
        "\n",
        "    Usage\n",
        "    ------\n",
        "\n",
        "    df = process_total_damaged(df)\n",
        "  \"\"\"\n",
        "  #Arnab code\n",
        "  unique_list = df['Income_level_Final'].unique()\n",
        "  incomelevel_to_int = dict(zip(unique_list, [1,2,4,3])) # so we assign['Low' =1, 'Low_Middle' =2, 'High'=4, 'High_Middle'=3]\n",
        "  df['Income_level_Final'] = df['Income_level_Final'].apply(lambda inc_level: incomelevel_to_int[inc_level])\n",
        "  return df\n",
        "\n",
        "\n",
        "def process_missing_data(df):\n",
        "   \"\"\"\n",
        "    Process and handling missing data with accourd the year range and replace with mean.\n",
        "\n",
        "    Usage\n",
        "    -----\n",
        "    df = process_missing_data(df)\n",
        "\n",
        "   \"\"\"\n",
        "   df['SUB BASIN']= df['SUB BASIN'].replace('MM', np.nan) \n",
        "   df[\"BASIN\"]= df[\"BASIN\"].replace('MM', np.nan) \n",
        "   df[\"USA_SSHS\"]= df[\"USA_SSHS\"].replace(-5, np.nan)\n",
        "   df[\"TOTAL_DAMAGE_Adjusted\"]= df[\"TOTAL_DAMAGE_Adjusted\"].replace(0, np.nan)\n",
        "   return df\n",
        "\n",
        "def create_dummies(df, column_name):\n",
        "   \"\"\"Create Dummy Columns (One Hot Encoding) from a single Column\n",
        "\n",
        "    Usage\n",
        "    ------\n",
        "\n",
        "    df = create_dummies(train, categorical_column)\n",
        "    \"\"\"\n",
        "   dummies = pd.get_dummies(df[column_name], prefix=column_name)\n",
        "   df = pd.concat([df,dummies],axis=1)\n",
        "   return df\n",
        "\n",
        "def drop_columns(df):\n",
        "  columns_to_drop = ['ISO_TIME','TOTAL_DAMAGE_(000$)','CPI']\n",
        "  df.drop('ISO_TIME', axis=1, inplace=True)\n",
        "  df = df.drop([\"Unnamed: 0\", 'SID', 'NAME','COORDS', 'YEAR',\"TOTAL_DAMAGE_(000$)\",'CPI','64KN_ASSETS', '34KN_ASSETS','96KN_ASSETS'], axis=1)\n",
        "  df = df.dropna()\n",
        "  return df"
      ],
      "execution_count": 0,
      "outputs": []
    },
    {
      "cell_type": "code",
      "metadata": {
        "id": "HsrehvOAMUeo",
        "colab_type": "code",
        "colab": {}
      },
      "source": [
        "def preprocessing(df):\n",
        "   df = process_month(df)\n",
        "   df = process_emdat(df)\n",
        "   df = process_total_damage(df)\n",
        "   df = process_income_final(df)\n",
        "   df = process_missing_data(df)\n",
        "   df = drop_columns(df)\n",
        "   \n",
        "   categorical_columns = df.dtypes[df.dtypes == 'object'].index\n",
        "   for col in categorical_columns:\n",
        "     df = create_dummies(df,col)\n",
        "     df = df.drop(col, axis =1)\n",
        "  \n",
        "   return df\n"
      ],
      "execution_count": 0,
      "outputs": []
    },
    {
      "cell_type": "code",
      "metadata": {
        "id": "jCY6NwO51sQJ",
        "colab_type": "code",
        "colab": {}
      },
      "source": [
        "df1 = preprocessing(df1)"
      ],
      "execution_count": 0,
      "outputs": []
    },
    {
      "cell_type": "code",
      "metadata": {
        "id": "Te1tZBaO4WOI",
        "colab_type": "code",
        "outputId": "1b788032-1fa0-4147-9fad-c5bbd0bbaa08",
        "colab": {
          "base_uri": "https://localhost:8080/",
          "height": 34
        }
      },
      "source": [
        "df1.shape"
      ],
      "execution_count": 49,
      "outputs": [
        {
          "output_type": "execute_result",
          "data": {
            "text/plain": [
              "(434, 92)"
            ]
          },
          "metadata": {
            "tags": []
          },
          "execution_count": 49
        }
      ]
    },
    {
      "cell_type": "markdown",
      "metadata": {
        "id": "k-aNrHIA5IaD",
        "colab_type": "text"
      },
      "source": [
        "## Model"
      ]
    },
    {
      "cell_type": "code",
      "metadata": {
        "id": "ednDybdk5b6y",
        "colab_type": "code",
        "colab": {}
      },
      "source": [
        "from sklearn.model_selection import train_test_split\n",
        "from sklearn.ensemble import RandomForestRegressor"
      ],
      "execution_count": 0,
      "outputs": []
    },
    {
      "cell_type": "code",
      "metadata": {
        "id": "-qaPQPz75JsB",
        "colab_type": "code",
        "colab": {}
      },
      "source": [
        "X = df1.drop(['TOTAL_AFFECTED'], axis = 1)\n",
        "y = df1['TOTAL_AFFECTED']"
      ],
      "execution_count": 0,
      "outputs": []
    },
    {
      "cell_type": "code",
      "metadata": {
        "id": "TsEOurza5lqJ",
        "colab_type": "code",
        "colab": {}
      },
      "source": [
        "X_train, X_test, y_train, y_test = train_test_split(X, y, test_size = 0.30, random_state = 101)"
      ],
      "execution_count": 0,
      "outputs": []
    },
    {
      "cell_type": "code",
      "metadata": {
        "id": "ogceEx2_6yYv",
        "colab_type": "code",
        "colab": {}
      },
      "source": [
        "scaler = MinMaxScaler()\n",
        "X_train =  scaler.fit_transform(X_train)\n",
        "X_test = scaler.fit_transform(X_test)\n"
      ],
      "execution_count": 0,
      "outputs": []
    },
    {
      "cell_type": "code",
      "metadata": {
        "id": "BqM7uukm5_ah",
        "colab_type": "code",
        "outputId": "b4707af2-f720-4ac1-be71-02a0f63a2f88",
        "colab": {
          "base_uri": "https://localhost:8080/",
          "height": 136
        }
      },
      "source": [
        "rfr = RandomForestRegressor(random_state= 101)\n",
        "\n",
        "rfr.fit(X_train,y_train)\n"
      ],
      "execution_count": 55,
      "outputs": [
        {
          "output_type": "execute_result",
          "data": {
            "text/plain": [
              "RandomForestRegressor(bootstrap=True, ccp_alpha=0.0, criterion='mse',\n",
              "                      max_depth=None, max_features='auto', max_leaf_nodes=None,\n",
              "                      max_samples=None, min_impurity_decrease=0.0,\n",
              "                      min_impurity_split=None, min_samples_leaf=1,\n",
              "                      min_samples_split=2, min_weight_fraction_leaf=0.0,\n",
              "                      n_estimators=100, n_jobs=None, oob_score=False,\n",
              "                      random_state=101, verbose=0, warm_start=False)"
            ]
          },
          "metadata": {
            "tags": []
          },
          "execution_count": 55
        }
      ]
    },
    {
      "cell_type": "code",
      "metadata": {
        "id": "bbYfhFpFHvT6",
        "colab_type": "code",
        "colab": {}
      },
      "source": [
        "predictions = rfr.predict(X_test)"
      ],
      "execution_count": 0,
      "outputs": []
    },
    {
      "cell_type": "markdown",
      "metadata": {
        "id": "eWZ--KGipXEa",
        "colab_type": "text"
      },
      "source": [
        "## Model Evaluation"
      ]
    },
    {
      "cell_type": "code",
      "metadata": {
        "id": "ggHj0jCPHzwm",
        "colab_type": "code",
        "outputId": "b27d6856-0f17-428c-e4ee-981c45fc20df",
        "colab": {
          "base_uri": "https://localhost:8080/",
          "height": 85
        }
      },
      "source": [
        "from sklearn.metrics import r2_score, explained_variance_score\n",
        "\n",
        "score = rfr.score(X_train,y_train)\n",
        "def get_results(predictions, y_test, score):\n",
        " \n",
        "  mse = mean_squared_error(y_test, predictions)\n",
        "  rmse = np.sqrt(mse)\n",
        "  print(f'Root Mean Squared Error: {rmse:.2f}')\n",
        "  r2 = r2_score(y_test, predictions)\n",
        "  print(f'Variance Score: {r2:.3f}')\n",
        "  explained_variance = explained_variance_score(y_test, predictions)\n",
        "  print(f'Explained Variance Score: {explained_variance:.3f}')\n",
        "  print(f'R^2 Prediction Score: {score:.4f}')\n",
        "\n",
        "get_results(predictions, y_test, score)"
      ],
      "execution_count": 57,
      "outputs": [
        {
          "output_type": "stream",
          "text": [
            "Root Mean Squared Error: 3814570.80\n",
            "Variance Score: -2.805\n",
            "Explained Variance Score: -0.299\n",
            "R^2 Prediction Score: 0.9021\n"
          ],
          "name": "stdout"
        }
      ]
    },
    {
      "cell_type": "markdown",
      "metadata": {
        "id": "xRSabcBwQbXO",
        "colab_type": "text"
      },
      "source": [
        "# Random Forest Model using feature ranking with recursive feature elimination and cross-validated selection (RFECV)"
      ]
    },
    {
      "cell_type": "code",
      "metadata": {
        "id": "gFG1tqYkQiHR",
        "colab_type": "code",
        "colab": {}
      },
      "source": [
        "from sklearn.feature_selection import RFECV"
      ],
      "execution_count": 0,
      "outputs": []
    },
    {
      "cell_type": "code",
      "metadata": {
        "id": "2P1KDtMcQdm3",
        "colab_type": "code",
        "outputId": "735e6a2c-aef5-42b0-812f-82b01f4be498",
        "colab": {
          "base_uri": "https://localhost:8080/",
          "height": 105
        }
      },
      "source": [
        "def select_features(df):\n",
        "    # Remove non-numeric columns, columns that have null values\n",
        "    df = df.select_dtypes([np.number]).dropna(axis=1)\n",
        "    all_X = df.drop(['TOTAL_AFFECTED'],axis=1)\n",
        "    all_y = df[\"TOTAL_AFFECTED\"]\n",
        "    \n",
        "    clf = RandomForestRegressor(random_state=1)\n",
        "    selector = RFECV(clf,cv=10)\n",
        "    selector.fit(all_X,all_y)\n",
        "    \n",
        "    best_columns = list(all_X.columns[selector.support_])\n",
        "    print(\"Best Columns \\n\"+\"-\"*12+\"\\n{}\\n\".format(best_columns))\n",
        "    \n",
        "    return best_columns\n",
        "\n",
        "cols = select_features(df1)\n"
      ],
      "execution_count": 0,
      "outputs": [
        {
          "output_type": "stream",
          "text": [
            "Best Columns \n",
            "------------\n",
            "['TOTAL_HRS', 'NIGHT_HRS', 'WIND_CALC_MEAN', 'PRES_CALC_MEAN', 'STORM_SPD_MEAN', 'STORM_DR_MEAN', 'V_LAND_KN', '34KN_POP', '96KN_POP', 'TOTAL_DEATHS', 'Arable land (hectares per person)', 'Cereal yield (kg per hectare)', 'Food production index (2004-2006 = 100)', 'GDP growth (annual %)', 'Net flows from UN agencies US$', 'Mobile cellular subscriptions (per 100 people)', 'Population density (people per sq. km of land area)', 'Adjusted savings: education expenditure (% of GNI)', 'Rural population (% of total population)', 'pop_max_34', 'pop_max_50', 'pop_max_64', 'pop_max_34_adj', 'pop_max_50_adj', 'pop_max_64_adj', 'Month', 'CALC_assets_emdat', 'TOTAL_DAMAGE_Adjusted', 'ISO_CHN', 'ISO_IND']\n",
            "\n"
          ],
          "name": "stdout"
        }
      ]
    },
    {
      "cell_type": "code",
      "metadata": {
        "id": "s3d7CmpVVrFx",
        "colab_type": "code",
        "outputId": "e3d2799d-dc2b-4b22-f50a-a41d5f64cdc7",
        "colab": {
          "base_uri": "https://localhost:8080/",
          "height": 102
        }
      },
      "source": [
        "from sklearn.model_selection import GridSearchCV\n",
        "\n",
        "def select_model(df,features):\n",
        "    \n",
        "    all_X = df[features]\n",
        "    all_y = df[\"TOTAL_AFFECTED\"]\n",
        "\n",
        "    # List of dictionaries, each containing a model name,\n",
        "    # it's estimator and a dict of hyperparameters\n",
        "    models = [\n",
        "        \n",
        "        {\n",
        "            \"name\": \"RandomForestRegressor\",\n",
        "            \"estimator\": RandomForestRegressor(random_state=1),\n",
        "            \"hyperparameters\":\n",
        "                {\n",
        "                    \"n_estimators\": [100, 300,500, 700, 1000],\n",
        "                    \"criterion\": [\"mse\"],\n",
        "                    \"max_depth\": [2, 5, 10, 12],\n",
        "                    \"max_features\": [\"log2\", \"sqrt\"],\n",
        "                    \"min_samples_leaf\": [1, 5, 8],\n",
        "                    \"min_samples_split\": [2, 3, 5]\n",
        "\n",
        "                }\n",
        "        }\n",
        "    ]\n",
        "\n",
        "    for model in models:\n",
        "        print(model['name'])\n",
        "        print('-'*len(model['name']))\n",
        "\n",
        "        grid = GridSearchCV(model[\"estimator\"],\n",
        "                            param_grid=model[\"hyperparameters\"],\n",
        "                            cv=10)\n",
        "        grid.fit(all_X,all_y)\n",
        "        model[\"best_params\"] = grid.best_params_\n",
        "        model[\"best_score\"] = grid.best_score_\n",
        "        model[\"best_model\"] = grid.best_estimator_\n",
        "\n",
        "        print(\"Best Score: {}\".format(model[\"best_score\"]))\n",
        "        print(\"Best Parameters: {}\\n\".format(model[\"best_params\"]))\n",
        "\n",
        "    return models\n",
        "\n",
        "result = select_model(df1, df1.columns)"
      ],
      "execution_count": 0,
      "outputs": [
        {
          "output_type": "stream",
          "text": [
            "RandomForestRegressor\n",
            "---------------------\n",
            "Best Score: 0.5094916835195316\n",
            "Best Parameters: {'criterion': 'mse', 'max_depth': 12, 'max_features': 'sqrt', 'min_samples_leaf': 1, 'min_samples_split': 3, 'n_estimators': 300}\n",
            "\n"
          ],
          "name": "stdout"
        }
      ]
    },
    {
      "cell_type": "code",
      "metadata": {
        "id": "MJNpZERzlVd9",
        "colab_type": "code",
        "outputId": "09e40e26-cd8e-4a5f-c556-ebfdcbad7f8b",
        "colab": {
          "base_uri": "https://localhost:8080/",
          "height": 524
        }
      },
      "source": [
        "df1[cols]"
      ],
      "execution_count": 0,
      "outputs": [
        {
          "output_type": "execute_result",
          "data": {
            "text/html": [
              "<div>\n",
              "<style scoped>\n",
              "    .dataframe tbody tr th:only-of-type {\n",
              "        vertical-align: middle;\n",
              "    }\n",
              "\n",
              "    .dataframe tbody tr th {\n",
              "        vertical-align: top;\n",
              "    }\n",
              "\n",
              "    .dataframe thead th {\n",
              "        text-align: right;\n",
              "    }\n",
              "</style>\n",
              "<table border=\"1\" class=\"dataframe\">\n",
              "  <thead>\n",
              "    <tr style=\"text-align: right;\">\n",
              "      <th></th>\n",
              "      <th>TOTAL_HRS</th>\n",
              "      <th>NIGHT_HRS</th>\n",
              "      <th>WIND_CALC_MEAN</th>\n",
              "      <th>PRES_CALC_MEAN</th>\n",
              "      <th>STORM_SPD_MEAN</th>\n",
              "      <th>STORM_DR_MEAN</th>\n",
              "      <th>V_LAND_KN</th>\n",
              "      <th>34KN_POP</th>\n",
              "      <th>96KN_POP</th>\n",
              "      <th>TOTAL_DEATHS</th>\n",
              "      <th>Arable land (hectares per person)</th>\n",
              "      <th>Cereal yield (kg per hectare)</th>\n",
              "      <th>Food production index (2004-2006 = 100)</th>\n",
              "      <th>GDP growth (annual %)</th>\n",
              "      <th>Net flows from UN agencies US$</th>\n",
              "      <th>Mobile cellular subscriptions (per 100 people)</th>\n",
              "      <th>Population density (people per sq. km of land area)</th>\n",
              "      <th>Adjusted savings: education expenditure (% of GNI)</th>\n",
              "      <th>Rural population (% of total population)</th>\n",
              "      <th>pop_max_34</th>\n",
              "      <th>pop_max_50</th>\n",
              "      <th>pop_max_64</th>\n",
              "      <th>pop_max_34_adj</th>\n",
              "      <th>pop_max_50_adj</th>\n",
              "      <th>pop_max_64_adj</th>\n",
              "      <th>Month</th>\n",
              "      <th>CALC_assets_emdat</th>\n",
              "      <th>TOTAL_DAMAGE_Adjusted</th>\n",
              "      <th>ISO_CHN</th>\n",
              "      <th>ISO_IND</th>\n",
              "    </tr>\n",
              "  </thead>\n",
              "  <tbody>\n",
              "    <tr>\n",
              "      <th>46</th>\n",
              "      <td>21</td>\n",
              "      <td>21</td>\n",
              "      <td>106.551282</td>\n",
              "      <td>933.961538</td>\n",
              "      <td>11.076923</td>\n",
              "      <td>289.846154</td>\n",
              "      <td>152.4</td>\n",
              "      <td>45155148.0</td>\n",
              "      <td>2057152.0</td>\n",
              "      <td>137.0</td>\n",
              "      <td>0.130434</td>\n",
              "      <td>1350.3</td>\n",
              "      <td>34.36</td>\n",
              "      <td>3.764605</td>\n",
              "      <td>4.660000e+06</td>\n",
              "      <td>0.000000</td>\n",
              "      <td>120.041554</td>\n",
              "      <td>2.757732</td>\n",
              "      <td>67.021</td>\n",
              "      <td>13092821.0</td>\n",
              "      <td>3169652.25</td>\n",
              "      <td>1.272250e+06</td>\n",
              "      <td>6.010508e+06</td>\n",
              "      <td>1.455089e+06</td>\n",
              "      <td>5.840507e+05</td>\n",
              "      <td>9</td>\n",
              "      <td>4.708724e+11</td>\n",
              "      <td>154.941922</td>\n",
              "      <td>0</td>\n",
              "      <td>0</td>\n",
              "    </tr>\n",
              "    <tr>\n",
              "      <th>47</th>\n",
              "      <td>0</td>\n",
              "      <td>0</td>\n",
              "      <td>99.133333</td>\n",
              "      <td>937.875000</td>\n",
              "      <td>16.100000</td>\n",
              "      <td>273.800000</td>\n",
              "      <td>138.2</td>\n",
              "      <td>47135727.0</td>\n",
              "      <td>18280574.0</td>\n",
              "      <td>786.0</td>\n",
              "      <td>0.130434</td>\n",
              "      <td>1350.3</td>\n",
              "      <td>34.36</td>\n",
              "      <td>3.764605</td>\n",
              "      <td>4.660000e+06</td>\n",
              "      <td>0.000000</td>\n",
              "      <td>120.041554</td>\n",
              "      <td>2.757732</td>\n",
              "      <td>67.021</td>\n",
              "      <td>41400620.0</td>\n",
              "      <td>27055222.00</td>\n",
              "      <td>1.905231e+07</td>\n",
              "      <td>1.900574e+07</td>\n",
              "      <td>1.242021e+07</td>\n",
              "      <td>8.746325e+06</td>\n",
              "      <td>11</td>\n",
              "      <td>8.201000e+11</td>\n",
              "      <td>6430.517768</td>\n",
              "      <td>0</td>\n",
              "      <td>0</td>\n",
              "    </tr>\n",
              "    <tr>\n",
              "      <th>49</th>\n",
              "      <td>9</td>\n",
              "      <td>9</td>\n",
              "      <td>72.000000</td>\n",
              "      <td>972.115385</td>\n",
              "      <td>14.230769</td>\n",
              "      <td>285.461538</td>\n",
              "      <td>118.1</td>\n",
              "      <td>47513577.0</td>\n",
              "      <td>5038016.0</td>\n",
              "      <td>57.0</td>\n",
              "      <td>0.126026</td>\n",
              "      <td>1272.2</td>\n",
              "      <td>35.81</td>\n",
              "      <td>5.428631</td>\n",
              "      <td>7.110000e+06</td>\n",
              "      <td>0.000000</td>\n",
              "      <td>123.548833</td>\n",
              "      <td>2.800000</td>\n",
              "      <td>66.507</td>\n",
              "      <td>39594444.0</td>\n",
              "      <td>9378618.00</td>\n",
              "      <td>4.173788e+06</td>\n",
              "      <td>1.870765e+07</td>\n",
              "      <td>4.431225e+06</td>\n",
              "      <td>1.972038e+06</td>\n",
              "      <td>5</td>\n",
              "      <td>6.905024e+11</td>\n",
              "      <td>37.251579</td>\n",
              "      <td>0</td>\n",
              "      <td>0</td>\n",
              "    </tr>\n",
              "    <tr>\n",
              "      <th>52</th>\n",
              "      <td>18</td>\n",
              "      <td>18</td>\n",
              "      <td>53.162500</td>\n",
              "      <td>986.468750</td>\n",
              "      <td>9.083333</td>\n",
              "      <td>188.958333</td>\n",
              "      <td>109.0</td>\n",
              "      <td>25294940.0</td>\n",
              "      <td>1368797.0</td>\n",
              "      <td>204.0</td>\n",
              "      <td>0.123934</td>\n",
              "      <td>1163.9</td>\n",
              "      <td>35.26</td>\n",
              "      <td>5.446791</td>\n",
              "      <td>6.160000e+06</td>\n",
              "      <td>0.000000</td>\n",
              "      <td>127.148783</td>\n",
              "      <td>2.205623</td>\n",
              "      <td>65.988</td>\n",
              "      <td>22292644.0</td>\n",
              "      <td>7751457.50</td>\n",
              "      <td>3.707665e+06</td>\n",
              "      <td>1.083977e+07</td>\n",
              "      <td>3.769137e+06</td>\n",
              "      <td>1.802848e+06</td>\n",
              "      <td>1</td>\n",
              "      <td>3.249557e+11</td>\n",
              "      <td>1406.166674</td>\n",
              "      <td>0</td>\n",
              "      <td>0</td>\n",
              "    </tr>\n",
              "    <tr>\n",
              "      <th>54</th>\n",
              "      <td>6</td>\n",
              "      <td>2</td>\n",
              "      <td>65.064103</td>\n",
              "      <td>981.730769</td>\n",
              "      <td>16.076923</td>\n",
              "      <td>299.000000</td>\n",
              "      <td>100.5</td>\n",
              "      <td>54881884.0</td>\n",
              "      <td>118953.0</td>\n",
              "      <td>131.0</td>\n",
              "      <td>0.123934</td>\n",
              "      <td>1163.9</td>\n",
              "      <td>35.26</td>\n",
              "      <td>5.446791</td>\n",
              "      <td>6.160000e+06</td>\n",
              "      <td>0.000000</td>\n",
              "      <td>127.148783</td>\n",
              "      <td>2.205623</td>\n",
              "      <td>65.988</td>\n",
              "      <td>47985888.0</td>\n",
              "      <td>36608820.00</td>\n",
              "      <td>2.840762e+07</td>\n",
              "      <td>2.333308e+07</td>\n",
              "      <td>1.780099e+07</td>\n",
              "      <td>1.381317e+07</td>\n",
              "      <td>6</td>\n",
              "      <td>7.725440e+11</td>\n",
              "      <td>917.065222</td>\n",
              "      <td>0</td>\n",
              "      <td>0</td>\n",
              "    </tr>\n",
              "    <tr>\n",
              "      <th>...</th>\n",
              "      <td>...</td>\n",
              "      <td>...</td>\n",
              "      <td>...</td>\n",
              "      <td>...</td>\n",
              "      <td>...</td>\n",
              "      <td>...</td>\n",
              "      <td>...</td>\n",
              "      <td>...</td>\n",
              "      <td>...</td>\n",
              "      <td>...</td>\n",
              "      <td>...</td>\n",
              "      <td>...</td>\n",
              "      <td>...</td>\n",
              "      <td>...</td>\n",
              "      <td>...</td>\n",
              "      <td>...</td>\n",
              "      <td>...</td>\n",
              "      <td>...</td>\n",
              "      <td>...</td>\n",
              "      <td>...</td>\n",
              "      <td>...</td>\n",
              "      <td>...</td>\n",
              "      <td>...</td>\n",
              "      <td>...</td>\n",
              "      <td>...</td>\n",
              "      <td>...</td>\n",
              "      <td>...</td>\n",
              "      <td>...</td>\n",
              "      <td>...</td>\n",
              "      <td>...</td>\n",
              "    </tr>\n",
              "    <tr>\n",
              "      <th>882</th>\n",
              "      <td>6</td>\n",
              "      <td>5</td>\n",
              "      <td>32.059524</td>\n",
              "      <td>999.791667</td>\n",
              "      <td>13.642857</td>\n",
              "      <td>294.000000</td>\n",
              "      <td>39.2</td>\n",
              "      <td>1839116.0</td>\n",
              "      <td>0.0</td>\n",
              "      <td>2.0</td>\n",
              "      <td>0.054743</td>\n",
              "      <td>3556.1</td>\n",
              "      <td>116.33</td>\n",
              "      <td>6.066549</td>\n",
              "      <td>1.968888e+07</td>\n",
              "      <td>115.399439</td>\n",
              "      <td>342.466419</td>\n",
              "      <td>1.840000</td>\n",
              "      <td>53.716</td>\n",
              "      <td>37431028.0</td>\n",
              "      <td>8070387.50</td>\n",
              "      <td>3.796552e+06</td>\n",
              "      <td>3.743103e+07</td>\n",
              "      <td>8.070388e+06</td>\n",
              "      <td>3.796552e+06</td>\n",
              "      <td>10</td>\n",
              "      <td>2.147252e+10</td>\n",
              "      <td>14.022398</td>\n",
              "      <td>0</td>\n",
              "      <td>0</td>\n",
              "    </tr>\n",
              "    <tr>\n",
              "      <th>883</th>\n",
              "      <td>21</td>\n",
              "      <td>9</td>\n",
              "      <td>71.403846</td>\n",
              "      <td>966.884615</td>\n",
              "      <td>10.615385</td>\n",
              "      <td>313.923077</td>\n",
              "      <td>115.8</td>\n",
              "      <td>50063724.0</td>\n",
              "      <td>4139582.0</td>\n",
              "      <td>20.0</td>\n",
              "      <td>0.086784</td>\n",
              "      <td>5896.2</td>\n",
              "      <td>135.91</td>\n",
              "      <td>6.905317</td>\n",
              "      <td>5.549183e+07</td>\n",
              "      <td>91.835388</td>\n",
              "      <td>146.057642</td>\n",
              "      <td>1.790000</td>\n",
              "      <td>44.500</td>\n",
              "      <td>63259936.0</td>\n",
              "      <td>39423328.00</td>\n",
              "      <td>1.688337e+07</td>\n",
              "      <td>6.325994e+07</td>\n",
              "      <td>3.942333e+07</td>\n",
              "      <td>1.688337e+07</td>\n",
              "      <td>10</td>\n",
              "      <td>1.694590e+12</td>\n",
              "      <td>45303.131998</td>\n",
              "      <td>1</td>\n",
              "      <td>0</td>\n",
              "    </tr>\n",
              "    <tr>\n",
              "      <th>884</th>\n",
              "      <td>12</td>\n",
              "      <td>12</td>\n",
              "      <td>62.467742</td>\n",
              "      <td>972.934896</td>\n",
              "      <td>5.000000</td>\n",
              "      <td>166.718750</td>\n",
              "      <td>126.5</td>\n",
              "      <td>47240917.0</td>\n",
              "      <td>2604107.0</td>\n",
              "      <td>51.0</td>\n",
              "      <td>0.054743</td>\n",
              "      <td>3556.1</td>\n",
              "      <td>116.33</td>\n",
              "      <td>6.066549</td>\n",
              "      <td>1.968888e+07</td>\n",
              "      <td>115.399439</td>\n",
              "      <td>342.466419</td>\n",
              "      <td>1.840000</td>\n",
              "      <td>53.716</td>\n",
              "      <td>49231756.0</td>\n",
              "      <td>17767242.00</td>\n",
              "      <td>9.209509e+06</td>\n",
              "      <td>4.923176e+07</td>\n",
              "      <td>1.776724e+07</td>\n",
              "      <td>9.209509e+06</td>\n",
              "      <td>10</td>\n",
              "      <td>5.354291e+11</td>\n",
              "      <td>2275.781263</td>\n",
              "      <td>0</td>\n",
              "      <td>0</td>\n",
              "    </tr>\n",
              "    <tr>\n",
              "      <th>885</th>\n",
              "      <td>21</td>\n",
              "      <td>21</td>\n",
              "      <td>114.875000</td>\n",
              "      <td>935.375000</td>\n",
              "      <td>17.250000</td>\n",
              "      <td>23.875000</td>\n",
              "      <td>151.6</td>\n",
              "      <td>12359952.0</td>\n",
              "      <td>508252.0</td>\n",
              "      <td>14.0</td>\n",
              "      <td>0.188957</td>\n",
              "      <td>3470.1</td>\n",
              "      <td>119.88</td>\n",
              "      <td>3.287992</td>\n",
              "      <td>6.867377e+06</td>\n",
              "      <td>88.371756</td>\n",
              "      <td>62.685901</td>\n",
              "      <td>5.212839</td>\n",
              "      <td>20.715</td>\n",
              "      <td>11158190.0</td>\n",
              "      <td>1719007.25</td>\n",
              "      <td>7.712089e+05</td>\n",
              "      <td>1.115819e+07</td>\n",
              "      <td>1.719007e+06</td>\n",
              "      <td>7.712089e+05</td>\n",
              "      <td>10</td>\n",
              "      <td>3.431518e+11</td>\n",
              "      <td>8877.256580</td>\n",
              "      <td>0</td>\n",
              "      <td>0</td>\n",
              "    </tr>\n",
              "    <tr>\n",
              "      <th>889</th>\n",
              "      <td>21</td>\n",
              "      <td>9</td>\n",
              "      <td>76.923077</td>\n",
              "      <td>961.304487</td>\n",
              "      <td>6.692308</td>\n",
              "      <td>274.115385</td>\n",
              "      <td>128.1</td>\n",
              "      <td>51335904.0</td>\n",
              "      <td>4607241.0</td>\n",
              "      <td>46.0</td>\n",
              "      <td>0.054743</td>\n",
              "      <td>3556.1</td>\n",
              "      <td>116.33</td>\n",
              "      <td>6.066549</td>\n",
              "      <td>1.968888e+07</td>\n",
              "      <td>115.399439</td>\n",
              "      <td>342.466419</td>\n",
              "      <td>1.840000</td>\n",
              "      <td>53.716</td>\n",
              "      <td>50013316.0</td>\n",
              "      <td>20759538.00</td>\n",
              "      <td>3.262726e+06</td>\n",
              "      <td>5.001332e+07</td>\n",
              "      <td>2.075954e+07</td>\n",
              "      <td>3.262726e+06</td>\n",
              "      <td>12</td>\n",
              "      <td>6.862743e+11</td>\n",
              "      <td>1458.512762</td>\n",
              "      <td>0</td>\n",
              "      <td>0</td>\n",
              "    </tr>\n",
              "  </tbody>\n",
              "</table>\n",
              "<p>434 rows × 30 columns</p>\n",
              "</div>"
            ],
            "text/plain": [
              "     TOTAL_HRS  NIGHT_HRS  ...  ISO_CHN  ISO_IND\n",
              "46          21         21  ...        0        0\n",
              "47           0          0  ...        0        0\n",
              "49           9          9  ...        0        0\n",
              "52          18         18  ...        0        0\n",
              "54           6          2  ...        0        0\n",
              "..         ...        ...  ...      ...      ...\n",
              "882          6          5  ...        0        0\n",
              "883         21          9  ...        1        0\n",
              "884         12         12  ...        0        0\n",
              "885         21         21  ...        0        0\n",
              "889         21          9  ...        0        0\n",
              "\n",
              "[434 rows x 30 columns]"
            ]
          },
          "metadata": {
            "tags": []
          },
          "execution_count": 18
        }
      ]
    },
    {
      "cell_type": "markdown",
      "metadata": {
        "id": "fwtFHL-fphf-",
        "colab_type": "text"
      },
      "source": [
        "## Model"
      ]
    },
    {
      "cell_type": "code",
      "metadata": {
        "id": "jyWqFlUxlKrE",
        "colab_type": "code",
        "colab": {}
      },
      "source": [
        "X_best_model = df1[cols]\n",
        "y_best_model = df1['TOTAL_AFFECTED']"
      ],
      "execution_count": 0,
      "outputs": []
    },
    {
      "cell_type": "code",
      "metadata": {
        "id": "nl1zAUyUlhUC",
        "colab_type": "code",
        "colab": {}
      },
      "source": [
        "X_train, X_test, y_train, y_test = train_test_split(X_best_model, y_best_model, test_size = 0.25)"
      ],
      "execution_count": 0,
      "outputs": []
    },
    {
      "cell_type": "code",
      "metadata": {
        "id": "wDqIG_2dmX4K",
        "colab_type": "code",
        "colab": {}
      },
      "source": [
        "X_train = scaler.fit_transform(X_train)\n",
        "X_test = scaler.fit_transform(X_test)"
      ],
      "execution_count": 0,
      "outputs": []
    },
    {
      "cell_type": "code",
      "metadata": {
        "id": "9ALCP_NYbhSf",
        "colab_type": "code",
        "outputId": "a1d3dda2-f79d-4884-b4fa-5b64d3c628e7",
        "colab": {
          "base_uri": "https://localhost:8080/"
        }
      },
      "source": [
        "rfc_best_model = RandomForestRegressor(criterion = 'mse', max_depth =  12, max_features ='sqrt', min_samples_leaf = 1, min_samples_split = 3, n_estimators= 300)\n",
        "rfc_best_model.fit(X_train, y_train)"
      ],
      "execution_count": 0,
      "outputs": [
        {
          "output_type": "execute_result",
          "data": {
            "text/plain": [
              "RandomForestRegressor(bootstrap=True, ccp_alpha=0.0, criterion='mse',\n",
              "                      max_depth=12, max_features='sqrt', max_leaf_nodes=None,\n",
              "                      max_samples=None, min_impurity_decrease=0.0,\n",
              "                      min_impurity_split=None, min_samples_leaf=1,\n",
              "                      min_samples_split=3, min_weight_fraction_leaf=0.0,\n",
              "                      n_estimators=300, n_jobs=None, oob_score=False,\n",
              "                      random_state=None, verbose=0, warm_start=False)"
            ]
          },
          "metadata": {
            "tags": []
          },
          "execution_count": 22
        }
      ]
    },
    {
      "cell_type": "markdown",
      "metadata": {
        "id": "NyeqYZodpjCF",
        "colab_type": "text"
      },
      "source": [
        "## Model Evaluation"
      ]
    },
    {
      "cell_type": "code",
      "metadata": {
        "id": "FQ381EtjsLXR",
        "colab_type": "code",
        "outputId": "f99b6fd6-3a7d-4dbe-b1d5-dd1acc9a3ec4",
        "colab": {
          "base_uri": "https://localhost:8080/"
        }
      },
      "source": [
        "predictions = rfc_best_model.predict(X_test)\n",
        "rfc_best_model_score = rfc_best_model.score(X_train, y_train)\n",
        "get_results(predictions, y_test, rfc_best_model_score)"
      ],
      "execution_count": 0,
      "outputs": [
        {
          "output_type": "stream",
          "text": [
            "Root Mean Squared Error: 2812870.88\n",
            "Variance Score: -1.901\n",
            "Explained Variance Score: -0.392\n",
            "R^2 Prediction Score: 0.8840\n"
          ],
          "name": "stdout"
        }
      ]
    },
    {
      "cell_type": "markdown",
      "metadata": {
        "id": "cWrC6M7atNSa",
        "colab_type": "text"
      },
      "source": [
        "#Random Forest with Boruta Model Selection\n",
        "\n",
        "For more info about boruta: [Boruta](http://danielhomola.com/2015/05/08/borutapy-an-all-relevant-feature-selection-method/)"
      ]
    },
    {
      "cell_type": "code",
      "metadata": {
        "id": "5D-YcQJTzn_-",
        "colab_type": "code",
        "colab": {}
      },
      "source": [
        "df_boruta = pd.read_csv('/content/OUTPUT_WBI_exposer_cyclones_v10.csv')"
      ],
      "execution_count": 0,
      "outputs": []
    },
    {
      "cell_type": "code",
      "metadata": {
        "id": "wEUGtCYQwJot",
        "colab_type": "code",
        "outputId": "93c72c9a-f3e6-4052-9489-80804a8e0d7a",
        "colab": {
          "base_uri": "https://localhost:8080/",
          "height": 170
        }
      },
      "source": [
        "pip install Boruta"
      ],
      "execution_count": 0,
      "outputs": [
        {
          "output_type": "stream",
          "text": [
            "Collecting Boruta\n",
            "\u001b[?25l  Downloading https://files.pythonhosted.org/packages/b2/11/583f4eac99d802c79af9217e1eff56027742a69e6c866b295cce6a5a8fc2/Boruta-0.3-py3-none-any.whl (56kB)\n",
            "\r\u001b[K     |█████▉                          | 10kB 16.7MB/s eta 0:00:01\r\u001b[K     |███████████▋                    | 20kB 3.1MB/s eta 0:00:01\r\u001b[K     |█████████████████▍              | 30kB 3.7MB/s eta 0:00:01\r\u001b[K     |███████████████████████▏        | 40kB 3.0MB/s eta 0:00:01\r\u001b[K     |█████████████████████████████   | 51kB 3.3MB/s eta 0:00:01\r\u001b[K     |████████████████████████████████| 61kB 2.8MB/s \n",
            "\u001b[?25hRequirement already satisfied: numpy>=1.10.4 in /usr/local/lib/python3.6/dist-packages (from Boruta) (1.18.3)\n",
            "Requirement already satisfied: scikit-learn>=0.17.1 in /usr/local/lib/python3.6/dist-packages (from Boruta) (0.22.2.post1)\n",
            "Requirement already satisfied: scipy>=0.17.0 in /usr/local/lib/python3.6/dist-packages (from Boruta) (1.4.1)\n",
            "Requirement already satisfied: joblib>=0.11 in /usr/local/lib/python3.6/dist-packages (from scikit-learn>=0.17.1->Boruta) (0.14.1)\n",
            "Installing collected packages: Boruta\n",
            "Successfully installed Boruta-0.3\n"
          ],
          "name": "stdout"
        }
      ]
    },
    {
      "cell_type": "markdown",
      "metadata": {
        "id": "AgkpfQQBp67W",
        "colab_type": "text"
      },
      "source": [
        "## Boruta Feature Selection"
      ]
    },
    {
      "cell_type": "code",
      "metadata": {
        "id": "o196ieOtYgQD",
        "colab_type": "code",
        "colab": {}
      },
      "source": [
        "df_boruta = df_boruta.dropna()"
      ],
      "execution_count": 0,
      "outputs": []
    },
    {
      "cell_type": "code",
      "metadata": {
        "id": "4P36o13q4WNB",
        "colab_type": "code",
        "colab": {}
      },
      "source": [
        "df_boruta = pd.get_dummies(df_boruta,drop_first=True, dummy_na=True)"
      ],
      "execution_count": 0,
      "outputs": []
    },
    {
      "cell_type": "code",
      "metadata": {
        "id": "eM8PDlQs20I_",
        "colab_type": "code",
        "outputId": "a94f46b6-b055-4cec-dfcc-e24f3dcc8531",
        "colab": {
          "base_uri": "https://localhost:8080/",
          "height": 34
        }
      },
      "source": [
        "features = [f for f in df_boruta.columns if f not in ['TOTAL_AFFECTED']]\n",
        "len(features)"
      ],
      "execution_count": 0,
      "outputs": [
        {
          "output_type": "execute_result",
          "data": {
            "text/plain": [
              "1660"
            ]
          },
          "metadata": {
            "tags": []
          },
          "execution_count": 28
        }
      ]
    },
    {
      "cell_type": "code",
      "metadata": {
        "id": "HIMVaGVEEkPU",
        "colab_type": "code",
        "outputId": "57c04791-b4d4-439a-d234-d245789c4b10",
        "colab": {
          "base_uri": "https://localhost:8080/",
          "height": 34
        }
      },
      "source": [
        "df_boruta.shape"
      ],
      "execution_count": 0,
      "outputs": [
        {
          "output_type": "execute_result",
          "data": {
            "text/plain": [
              "(439, 1661)"
            ]
          },
          "metadata": {
            "tags": []
          },
          "execution_count": 29
        }
      ]
    },
    {
      "cell_type": "code",
      "metadata": {
        "id": "XA2trAquZAkP",
        "colab_type": "code",
        "colab": {}
      },
      "source": [
        "X_boruta = df_boruta.drop('TOTAL_AFFECTED', axis = 1).values\n",
        "y_boruta = df_boruta['TOTAL_AFFECTED'].values"
      ],
      "execution_count": 0,
      "outputs": []
    },
    {
      "cell_type": "code",
      "metadata": {
        "id": "_dx18i5UxSOU",
        "colab_type": "code",
        "outputId": "946c809d-6d2a-499e-b796-2f8474bf9196",
        "colab": {
          "base_uri": "https://localhost:8080/",
          "height": 1000
        }
      },
      "source": [
        "from sklearn.ensemble import RandomForestClassifier\n",
        "from boruta import BorutaPy  \n",
        "rf = RandomForestClassifier(n_jobs=-1, class_weight='balanced', max_depth=5)\n",
        "boruta_feature_selector = BorutaPy(rf, n_estimators='auto', verbose=2, random_state=4242, max_iter = 50, perc = 90)\n",
        "boruta_feature_selector.fit(X_boruta, y_boruta)"
      ],
      "execution_count": 0,
      "outputs": [
        {
          "output_type": "stream",
          "text": [
            "Iteration: \t1 / 50\n",
            "Confirmed: \t0\n",
            "Tentative: \t1660\n",
            "Rejected: \t0\n",
            "Iteration: \t2 / 50\n",
            "Confirmed: \t0\n",
            "Tentative: \t1660\n",
            "Rejected: \t0\n",
            "Iteration: \t3 / 50\n",
            "Confirmed: \t0\n",
            "Tentative: \t1660\n",
            "Rejected: \t0\n",
            "Iteration: \t4 / 50\n",
            "Confirmed: \t0\n",
            "Tentative: \t1660\n",
            "Rejected: \t0\n",
            "Iteration: \t5 / 50\n",
            "Confirmed: \t0\n",
            "Tentative: \t1660\n",
            "Rejected: \t0\n",
            "Iteration: \t6 / 50\n",
            "Confirmed: \t0\n",
            "Tentative: \t1660\n",
            "Rejected: \t0\n",
            "Iteration: \t7 / 50\n",
            "Confirmed: \t0\n",
            "Tentative: \t1660\n",
            "Rejected: \t0\n",
            "Iteration: \t8 / 50\n",
            "Confirmed: \t0\n",
            "Tentative: \t789\n",
            "Rejected: \t871\n",
            "Iteration: \t9 / 50\n",
            "Confirmed: \t31\n",
            "Tentative: \t758\n",
            "Rejected: \t871\n",
            "Iteration: \t10 / 50\n",
            "Confirmed: \t31\n",
            "Tentative: \t758\n",
            "Rejected: \t871\n",
            "Iteration: \t11 / 50\n",
            "Confirmed: \t31\n",
            "Tentative: \t758\n",
            "Rejected: \t871\n",
            "Iteration: \t12 / 50\n",
            "Confirmed: \t31\n",
            "Tentative: \t378\n",
            "Rejected: \t1251\n",
            "Iteration: \t13 / 50\n",
            "Confirmed: \t33\n",
            "Tentative: \t376\n",
            "Rejected: \t1251\n",
            "Iteration: \t14 / 50\n",
            "Confirmed: \t33\n",
            "Tentative: \t376\n",
            "Rejected: \t1251\n",
            "Iteration: \t15 / 50\n",
            "Confirmed: \t33\n",
            "Tentative: \t376\n",
            "Rejected: \t1251\n",
            "Iteration: \t16 / 50\n",
            "Confirmed: \t33\n",
            "Tentative: \t155\n",
            "Rejected: \t1472\n",
            "Iteration: \t17 / 50\n",
            "Confirmed: \t33\n",
            "Tentative: \t155\n",
            "Rejected: \t1472\n",
            "Iteration: \t18 / 50\n",
            "Confirmed: \t33\n",
            "Tentative: \t155\n",
            "Rejected: \t1472\n",
            "Iteration: \t19 / 50\n",
            "Confirmed: \t33\n",
            "Tentative: \t42\n",
            "Rejected: \t1585\n",
            "Iteration: \t20 / 50\n",
            "Confirmed: \t33\n",
            "Tentative: \t42\n",
            "Rejected: \t1585\n",
            "Iteration: \t21 / 50\n",
            "Confirmed: \t33\n",
            "Tentative: \t42\n",
            "Rejected: \t1585\n",
            "Iteration: \t22 / 50\n",
            "Confirmed: \t33\n",
            "Tentative: \t11\n",
            "Rejected: \t1616\n",
            "Iteration: \t23 / 50\n",
            "Confirmed: \t33\n",
            "Tentative: \t11\n",
            "Rejected: \t1616\n",
            "Iteration: \t24 / 50\n",
            "Confirmed: \t33\n",
            "Tentative: \t11\n",
            "Rejected: \t1616\n",
            "Iteration: \t25 / 50\n",
            "Confirmed: \t33\n",
            "Tentative: \t11\n",
            "Rejected: \t1616\n",
            "Iteration: \t26 / 50\n",
            "Confirmed: \t33\n",
            "Tentative: \t4\n",
            "Rejected: \t1623\n",
            "Iteration: \t27 / 50\n",
            "Confirmed: \t33\n",
            "Tentative: \t4\n",
            "Rejected: \t1623\n",
            "Iteration: \t28 / 50\n",
            "Confirmed: \t33\n",
            "Tentative: \t4\n",
            "Rejected: \t1623\n",
            "Iteration: \t29 / 50\n",
            "Confirmed: \t33\n",
            "Tentative: \t3\n",
            "Rejected: \t1624\n",
            "Iteration: \t30 / 50\n",
            "Confirmed: \t33\n",
            "Tentative: \t3\n",
            "Rejected: \t1624\n",
            "Iteration: \t31 / 50\n",
            "Confirmed: \t33\n",
            "Tentative: \t3\n",
            "Rejected: \t1624\n",
            "Iteration: \t32 / 50\n",
            "Confirmed: \t33\n",
            "Tentative: \t3\n",
            "Rejected: \t1624\n",
            "Iteration: \t33 / 50\n",
            "Confirmed: \t33\n",
            "Tentative: \t3\n",
            "Rejected: \t1624\n",
            "Iteration: \t34 / 50\n",
            "Confirmed: \t33\n",
            "Tentative: \t3\n",
            "Rejected: \t1624\n",
            "Iteration: \t35 / 50\n",
            "Confirmed: \t33\n",
            "Tentative: \t3\n",
            "Rejected: \t1624\n",
            "Iteration: \t36 / 50\n",
            "Confirmed: \t33\n",
            "Tentative: \t3\n",
            "Rejected: \t1624\n",
            "Iteration: \t37 / 50\n",
            "Confirmed: \t33\n",
            "Tentative: \t3\n",
            "Rejected: \t1624\n",
            "Iteration: \t38 / 50\n",
            "Confirmed: \t33\n",
            "Tentative: \t3\n",
            "Rejected: \t1624\n",
            "Iteration: \t39 / 50\n",
            "Confirmed: \t33\n",
            "Tentative: \t3\n",
            "Rejected: \t1624\n",
            "Iteration: \t40 / 50\n",
            "Confirmed: \t33\n",
            "Tentative: \t3\n",
            "Rejected: \t1624\n",
            "Iteration: \t41 / 50\n",
            "Confirmed: \t33\n",
            "Tentative: \t3\n",
            "Rejected: \t1624\n",
            "Iteration: \t42 / 50\n",
            "Confirmed: \t33\n",
            "Tentative: \t3\n",
            "Rejected: \t1624\n",
            "Iteration: \t43 / 50\n",
            "Confirmed: \t33\n",
            "Tentative: \t2\n",
            "Rejected: \t1625\n",
            "Iteration: \t44 / 50\n",
            "Confirmed: \t33\n",
            "Tentative: \t2\n",
            "Rejected: \t1625\n",
            "Iteration: \t45 / 50\n",
            "Confirmed: \t33\n",
            "Tentative: \t2\n",
            "Rejected: \t1625\n",
            "Iteration: \t46 / 50\n",
            "Confirmed: \t33\n",
            "Tentative: \t1\n",
            "Rejected: \t1626\n",
            "Iteration: \t47 / 50\n",
            "Confirmed: \t33\n",
            "Tentative: \t1\n",
            "Rejected: \t1626\n",
            "Iteration: \t48 / 50\n",
            "Confirmed: \t33\n",
            "Tentative: \t1\n",
            "Rejected: \t1626\n",
            "Iteration: \t49 / 50\n",
            "Confirmed: \t33\n",
            "Tentative: \t0\n",
            "Rejected: \t1627\n",
            "\n",
            "\n",
            "BorutaPy finished running.\n",
            "\n",
            "Iteration: \t50 / 50\n",
            "Confirmed: \t33\n",
            "Tentative: \t0\n",
            "Rejected: \t1627\n"
          ],
          "name": "stdout"
        },
        {
          "output_type": "execute_result",
          "data": {
            "text/plain": [
              "BorutaPy(alpha=0.05,\n",
              "         estimator=RandomForestClassifier(bootstrap=True, ccp_alpha=0.0,\n",
              "                                          class_weight='balanced',\n",
              "                                          criterion='gini', max_depth=5,\n",
              "                                          max_features='auto',\n",
              "                                          max_leaf_nodes=None, max_samples=None,\n",
              "                                          min_impurity_decrease=0.0,\n",
              "                                          min_impurity_split=None,\n",
              "                                          min_samples_leaf=1,\n",
              "                                          min_samples_split=2,\n",
              "                                          min_weight_fraction_leaf=0.0,\n",
              "                                          n_estimators=164, n_jobs=-1,\n",
              "                                          oob_score=False,\n",
              "                                          random_state=RandomState(MT19937) at 0x7F4E633CD888,\n",
              "                                          verbose=0, warm_start=False),\n",
              "         max_iter=50, n_estimators='auto', perc=90,\n",
              "         random_state=RandomState(MT19937) at 0x7F4E633CD888, two_step=True,\n",
              "         verbose=2)"
            ]
          },
          "metadata": {
            "tags": []
          },
          "execution_count": 31
        }
      ]
    },
    {
      "cell_type": "code",
      "metadata": {
        "id": "33h2ySXYyIJd",
        "colab_type": "code",
        "outputId": "1f66ce1d-0427-4aa3-b35e-2db04e096a32",
        "colab": {
          "base_uri": "https://localhost:8080/",
          "height": 34
        }
      },
      "source": [
        "X_filtered = boruta_feature_selector.transform(X_boruta)\n",
        "X_filtered.shape"
      ],
      "execution_count": 0,
      "outputs": [
        {
          "output_type": "execute_result",
          "data": {
            "text/plain": [
              "(439, 33)"
            ]
          },
          "metadata": {
            "tags": []
          },
          "execution_count": 32
        }
      ]
    },
    {
      "cell_type": "code",
      "metadata": {
        "id": "-4QFIeeTyLh1",
        "colab_type": "code",
        "outputId": "8cc3197d-7a81-4866-f373-25f6606361c9",
        "colab": {
          "base_uri": "https://localhost:8080/",
          "height": 578
        }
      },
      "source": [
        "final_features = list()\n",
        "indexes = np.where(boruta_feature_selector.support_ == True)\n",
        "\n",
        "for x in np.nditer(indexes):\n",
        "    final_features.append(features[x])\n",
        "final_features"
      ],
      "execution_count": 0,
      "outputs": [
        {
          "output_type": "execute_result",
          "data": {
            "text/plain": [
              "['Unnamed: 0',\n",
              " 'YEAR',\n",
              " 'WIND_CALC_MEAN',\n",
              " 'PRES_CALC_MEAN',\n",
              " 'STORM_SPD_MEAN',\n",
              " 'STORM_DR_MEAN',\n",
              " 'V_LAND_KN',\n",
              " '34KN_POP',\n",
              " '34KN_ASSETS',\n",
              " '64KN_POP',\n",
              " '64KN_ASSETS',\n",
              " '96KN_POP',\n",
              " 'CPI',\n",
              " 'TOTAL_DAMAGE_(000$)',\n",
              " 'TOTAL_DEATHS',\n",
              " 'Air transport, freight (million ton-km)',\n",
              " 'Arable land (hectares per person)',\n",
              " 'Cereal yield (kg per hectare)',\n",
              " 'Food production index (2004-2006 = 100)',\n",
              " 'GDP growth (annual %)',\n",
              " 'GDP per capita (constant 2010 US$)',\n",
              " 'Net flows from UN agencies US$',\n",
              " 'Life expectancy at birth, total (years)',\n",
              " 'Mobile cellular subscriptions (per 100 people)',\n",
              " 'Population density (people per sq. km of land area)',\n",
              " 'Adjusted savings: education expenditure (% of GNI)',\n",
              " 'Rural population (% of total population)',\n",
              " 'pop_max_34',\n",
              " 'pop_max_50',\n",
              " 'pop_max_64',\n",
              " 'pop_max_34_adj',\n",
              " 'pop_max_50_adj',\n",
              " 'pop_max_64_adj']"
            ]
          },
          "metadata": {
            "tags": []
          },
          "execution_count": 33
        }
      ]
    },
    {
      "cell_type": "code",
      "metadata": {
        "id": "sNh8nfTw8ieK",
        "colab_type": "code",
        "colab": {}
      },
      "source": [
        "df_boruta_final = df_boruta[final_features]\n",
        "df_boruta_final = pd.concat([df_boruta_final, df_boruta['TOTAL_AFFECTED']], axis =1)\n"
      ],
      "execution_count": 0,
      "outputs": []
    },
    {
      "cell_type": "code",
      "metadata": {
        "id": "DgoJVRsSeGz7",
        "colab_type": "code",
        "outputId": "4ef2571d-3b2d-4a2e-f4e7-08c7fce1f0d4",
        "colab": {
          "base_uri": "https://localhost:8080/",
          "height": 289
        }
      },
      "source": [
        "df_boruta_final.columns"
      ],
      "execution_count": 0,
      "outputs": [
        {
          "output_type": "execute_result",
          "data": {
            "text/plain": [
              "Index(['Unnamed: 0', 'YEAR', 'WIND_CALC_MEAN', 'PRES_CALC_MEAN',\n",
              "       'STORM_SPD_MEAN', 'STORM_DR_MEAN', 'V_LAND_KN', '34KN_POP',\n",
              "       '34KN_ASSETS', '64KN_POP', '64KN_ASSETS', '96KN_POP', 'CPI',\n",
              "       'TOTAL_DAMAGE_(000$)', 'TOTAL_DEATHS',\n",
              "       'Air transport, freight (million ton-km)',\n",
              "       'Arable land (hectares per person)', 'Cereal yield (kg per hectare)',\n",
              "       'Food production index (2004-2006 = 100)', 'GDP growth (annual %)',\n",
              "       'GDP per capita (constant 2010 US$)', 'Net flows from UN agencies US$',\n",
              "       'Life expectancy at birth, total (years)',\n",
              "       'Mobile cellular subscriptions (per 100 people)',\n",
              "       'Population density (people per sq. km of land area)',\n",
              "       'Adjusted savings: education expenditure (% of GNI)',\n",
              "       'Rural population (% of total population)', 'pop_max_34', 'pop_max_50',\n",
              "       'pop_max_64', 'pop_max_34_adj', 'pop_max_50_adj', 'pop_max_64_adj',\n",
              "       'TOTAL_AFFECTED'],\n",
              "      dtype='object')"
            ]
          },
          "metadata": {
            "tags": []
          },
          "execution_count": 35
        }
      ]
    },
    {
      "cell_type": "code",
      "metadata": {
        "id": "eFxkyTS8bqQJ",
        "colab_type": "code",
        "colab": {}
      },
      "source": [
        "\n",
        "df_boruta_final = process_total_damage(df_boruta_final)"
      ],
      "execution_count": 0,
      "outputs": []
    },
    {
      "cell_type": "code",
      "metadata": {
        "id": "0VN4FLH3GpyY",
        "colab_type": "code",
        "colab": {}
      },
      "source": [
        "df_boruta_final = df_boruta_final.drop(['Unnamed: 0', 'TOTAL_DAMAGE_(000$)', 'CPI','YEAR'], axis = 1)"
      ],
      "execution_count": 0,
      "outputs": []
    },
    {
      "cell_type": "markdown",
      "metadata": {
        "id": "xqFhCg4tqAmM",
        "colab_type": "text"
      },
      "source": [
        "## Model"
      ]
    },
    {
      "cell_type": "code",
      "metadata": {
        "id": "HLQGBtGCHqZ2",
        "colab_type": "code",
        "colab": {}
      },
      "source": [
        "X_boruta = df_boruta_final.drop(['TOTAL_AFFECTED'], axis = 1)\n",
        "y_boruta = df_boruta_final['TOTAL_AFFECTED']"
      ],
      "execution_count": 0,
      "outputs": []
    },
    {
      "cell_type": "code",
      "metadata": {
        "id": "Nw-_vZM6H1nz",
        "colab_type": "code",
        "colab": {}
      },
      "source": [
        "X_train, X_test, y_train, y_test = train_test_split(X_boruta, y_boruta, test_size = 0.25)"
      ],
      "execution_count": 0,
      "outputs": []
    },
    {
      "cell_type": "code",
      "metadata": {
        "id": "aLbLiX0cJXDz",
        "colab_type": "code",
        "colab": {}
      },
      "source": [
        "X_train = scaler.fit_transform(X_train)\n",
        "X_test = scaler.fit_transform(X_test)"
      ],
      "execution_count": 0,
      "outputs": []
    },
    {
      "cell_type": "code",
      "metadata": {
        "id": "4SN6yr6CIbDk",
        "colab_type": "code",
        "colab": {}
      },
      "source": [
        "rfr_boruta = RandomForestRegressor(criterion = 'mse', max_depth =  12, max_features ='sqrt', min_samples_leaf = 1, min_samples_split = 3, n_estimators= 300)\n",
        "rfr_boruta.fit(X_train, y_train)\n",
        "rfr_boruta_score = rfr_boruta.score(X_train,y_train)"
      ],
      "execution_count": 0,
      "outputs": []
    },
    {
      "cell_type": "markdown",
      "metadata": {
        "id": "Hxkwvl3yqB0m",
        "colab_type": "text"
      },
      "source": [
        "## Model Evaluation"
      ]
    },
    {
      "cell_type": "code",
      "metadata": {
        "id": "8xoBG5BWe9H5",
        "colab_type": "code",
        "outputId": "476d7b19-251d-4ffd-ac69-b3535c200f0b",
        "colab": {
          "base_uri": "https://localhost:8080/",
          "height": 85
        }
      },
      "source": [
        "predictions = rfr_boruta.predict(X_test)\n",
        "get_results(predictions, y_test, rfr_boruta_score)"
      ],
      "execution_count": 0,
      "outputs": [
        {
          "output_type": "stream",
          "text": [
            "Root Mean Squared Error: 2775910.84\n",
            "Variance Score: 0.113\n",
            "Explained Variance Score: 0.126\n",
            "R^2 Prediction Score: 0.8832\n"
          ],
          "name": "stdout"
        }
      ]
    },
    {
      "cell_type": "code",
      "metadata": {
        "id": "Gxih_oPPCJof",
        "colab_type": "code",
        "colab": {}
      },
      "source": [
        ""
      ],
      "execution_count": 0,
      "outputs": []
    }
  ]
}