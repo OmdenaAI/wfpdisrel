{
 "cells": [
  {
   "cell_type": "markdown",
   "metadata": {},
   "source": [
    "# Exploratory data analysis and feature selection: Random Forest\n",
    "\n",
    "Fabiana Castiblanco\n",
    "\n",
    "https://github.com/fabi-cast\n",
    "\n",
    "## Conclusions from EDA\n",
    "\n",
    "* Philipines, China, Japan, Mexico, Vietnam, United States and Madagascar are the countries with highest occurrence of cyclones. In GitHub, please see the static image [here](https://github.com/omdena/wfpdisrel/blob/master/%23task3-model/model-e-RandomForest/Plots/map.png)\n",
    "\n",
    "* By far, most of the storms for which we have data have occurred in **Western North Pacific** basin.\n",
    "\n",
    "* We observed that the distribution of the logarithm natural of our target variable is approximately normal, so ``TOTAL_AFFECTED`` has a distribution log normal. For this reason, when studying the relevance of the categorical features as ``BASIN``, ``SUB BASIN`` and ``GENERAL_CATEGORY`` in the target variable, we will consider the aggregated function as the **mean** of the data.\n",
    "\n",
    "* After introduction of the variable ``GENERAL_CATEGORY`` which classify the cyclone according with the maximum sustained winds it tooks during their trajectory, we have a much better landscape. Most of our cyclones are **Tropical Storms** and **Hurricanes Category 1 and 4**. Generally, after a cyclone reach winds which classify it as Category 1, there are affected population and some infrastructure damages.\n",
    "\n",
    "* In the Westert North Pacific basin, for which we have most data, **the mean affected people by the cyclone is going upwards most of the time when the category of the cyclone increases**. After this, we will include the feature ``GENERAL_CATEGORY`` as a dummy variable in our data set.\n",
    "\n",
    "* In general, countries with higher income level have less affected population in each cyclone category. Critical sectors are countries with ``INCOME_LEVEL`` Low middle and High Middle. We will include ``INCOME_LEVEL`` as a dummy variable in our data set.\n",
    "\n",
    "* The top 10 most important features, out of the a posteriori ones (``TOTAL_DEATHS`` AND ``TOTAL_DAMAGE``), are:\n",
    "    * 34_KN_POP\n",
    "    * Rural population\n",
    "    * 64_KN_POP\n",
    "    * Rural population share\n",
    "    * Human Development Index (HDI)\n",
    "    * GDP per capita\n",
    "    * Total hours in land\n",
    "    * 96_KN_POP\n",
    "    * Landing (yes/no)\n",
    "    * Minimum distance to land\n",
    "\n",
    "None of the a priori variables shows high correlation in general. \n",
    "\n",
    "* Almost **3 of each 4 cyclones present in our data did land**. Those landing cyclones are responsible for **almost 95% of the affected population in our data**. \n",
    "\n",
    "\n",
    "## Conclusions from modeling task\n",
    "\n",
    "* By adding new features to the data set, we obtain a R^2 score of 0.30 without scaling our data set. On the other hand, we got a RMSE of 1'606312 people and a Median Absolute error of 230201 people. \n",
    "\n",
    "* Using logarithmic transformation in the population variables, we don't see any improvement in the R^2 score or RMSE. On the contrary, those two metrics drop after such transformation.\n",
    "\n",
    "* Using all the features given in the data set it is harmful for the model itself. There are so many variables not explanatory, most of them comming from socio-economical indicators.\n",
    "\n",
    "* The recurrent most important features are:\n",
    "\n",
    "    * RURAL_POP\n",
    "    * POP_MAX_34_ADJ\n",
    "    * MAX_WIND\n",
    "    * RURAL_POP (%)\n",
    "    * POP_MAX_50_ADJ\n",
    "    * MAX_STORMSPEED\n",
    "    * VLAND_KN\n",
    "    * LON_MAX_WINDS\n",
    "    * LAT_MIN_DIST2LAND\n",
    "    * TOTAL_HOURS_INLAND\n",
    "    * POP_MAX_64_ADJ\n",
    "\n",
    "## 1. Import libraries\n"
   ]
  },
  {
   "cell_type": "code",
   "execution_count": 1,
   "metadata": {},
   "outputs": [],
   "source": [
    "import pandas as pd\n",
    "import numpy as np\n",
    "from datetime import datetime\n",
    "import re\n",
    "import math\n",
    "import requests\n",
    "import json\n",
    "import matplotlib\n",
    "from pandas import ExcelFile\n",
    "from matplotlib import pyplot as plt\n",
    "%matplotlib inline\n",
    "import seaborn as sns\n",
    "from datetime import datetime\n",
    "import geopandas as gp\n",
    "import reverse_geocoder as rg\n",
    "import fiona\n",
    "import ast\n",
    "import statsmodels.api as sm\n",
    "import pickle\n",
    "from sklearn.preprocessing import OneHotEncoder\n",
    "pd.set_option('display.max_columns', None)\n",
    "import sklearn\n",
    "matplotlib.rc('image', cmap='Set3')\n",
    "from plotly import graph_objects as go\n",
    "import plotly.express as px\n",
    "from scicolorscales import *\n",
    "from plotly.subplots import make_subplots"
   ]
  },
  {
   "cell_type": "markdown",
   "metadata": {},
   "source": [
    "# 2. Functions to handling data"
   ]
  },
  {
   "cell_type": "code",
   "execution_count": 2,
   "metadata": {},
   "outputs": [],
   "source": [
    "def null_cols(data):\n",
    "\n",
    "    \"\"\"\n",
    "    This function takes a dataframe df and shows the columns of df that have NaN values\n",
    "    and the number of them\n",
    "\n",
    "    \"\"\"\n",
    "    nulls = data.isna().sum()\n",
    "    nulls = nulls[nulls > 0] / len(data) * 100\n",
    "    nulls = pd.DataFrame(nulls.sort_values(ascending = False))\n",
    "    nulls = nulls.reset_index().rename(columns = {\"index\": \"Feature\", 0: \"% Null rows\"})\n",
    "    return nulls\n",
    "\n",
    "def get_country_list(ds, col):\n",
    "    \n",
    "    \"\"\"\n",
    "    Returns a list containing the countries or ISO codes in the dataset ds\n",
    "    \"\"\"\n",
    "    return list(ds[col])\n",
    "\n",
    "#this function converts a row oriented data set in a columns oriented one\n",
    "\n",
    "def get_data(ds, country, col, col_name):\n",
    "    \n",
    "    \"\"\"\n",
    "    Creates a dataset for each country containing the features in col_name.\n",
    "    ds is the original data set, col is the name of the column containing information about\n",
    "    countries and col_name is the desired feature to get from ds\n",
    "    \"\"\"\n",
    "    ind = get_country_list(ds, col).index(country)\n",
    "    data = (ds[ds[col] == country].drop(columns = [col])\n",
    "                                  .T.reset_index()\n",
    "                                  .rename(columns = {\"index\": \"year\", ind: col_name}))\n",
    "    data[\"country\"] = country\n",
    "    return data\n",
    "\n",
    "def get_table(ds, col, col_name):\n",
    "    \n",
    "    \"\"\"\n",
    "    Creates a dataset column oriented based on row oriented ds\n",
    "    \"\"\"\n",
    "    \n",
    "    country_list = get_country_list(ds, col)\n",
    "    datasets = [get_data(ds, country, col, col_name) for country in country_list]\n",
    "    return pd.concat(datasets).reset_index(drop = True)\n",
    "    \n"
   ]
  },
  {
   "cell_type": "markdown",
   "metadata": {},
   "source": [
    "# 3. Loading data"
   ]
  },
  {
   "cell_type": "code",
   "execution_count": 3,
   "metadata": {},
   "outputs": [],
   "source": [
    "df = pd.read_excel(\"Data_output/clean.xls\").drop(columns = \"Unnamed: 0\")"
   ]
  },
  {
   "cell_type": "code",
   "execution_count": 4,
   "metadata": {},
   "outputs": [],
   "source": [
    "ds = pd.read_excel(\"Data_output/final_data.xls\").drop(columns = \"Unnamed: 0\")"
   ]
  },
  {
   "cell_type": "code",
   "execution_count": 5,
   "metadata": {},
   "outputs": [
    {
     "data": {
      "text/html": [
       "<div>\n",
       "<style scoped>\n",
       "    .dataframe tbody tr th:only-of-type {\n",
       "        vertical-align: middle;\n",
       "    }\n",
       "\n",
       "    .dataframe tbody tr th {\n",
       "        vertical-align: top;\n",
       "    }\n",
       "\n",
       "    .dataframe thead th {\n",
       "        text-align: right;\n",
       "    }\n",
       "</style>\n",
       "<table border=\"1\" class=\"dataframe\">\n",
       "  <thead>\n",
       "    <tr style=\"text-align: right;\">\n",
       "      <th></th>\n",
       "      <th>SID</th>\n",
       "      <th>NAME</th>\n",
       "      <th>BASIN</th>\n",
       "      <th>SUB BASIN</th>\n",
       "      <th>ISO</th>\n",
       "      <th>YEAR</th>\n",
       "      <th>MONTH_START</th>\n",
       "      <th>DATE_START</th>\n",
       "      <th>DATE_END</th>\n",
       "      <th>TOTAL_HOURS_EVENT</th>\n",
       "      <th>TOTAL_HOURS_IN_LAND</th>\n",
       "      <th>NATURE</th>\n",
       "      <th>LAT_MAX_WINDS</th>\n",
       "      <th>LON_MAX_WINDS</th>\n",
       "      <th>LAT_MIN_DIST2LAND</th>\n",
       "      <th>LON_MIN_DIST2LAND</th>\n",
       "      <th>GENERAL_CATEGORY</th>\n",
       "      <th>MAX_WIND</th>\n",
       "      <th>MIN_PRES</th>\n",
       "      <th>MIN_DIST2LAND</th>\n",
       "      <th>MAX_STORMSPEED</th>\n",
       "      <th>MAX_USA_SSHS</th>\n",
       "      <th>MAX_USA_SSHS_INLAND</th>\n",
       "      <th>V_LAND_KN</th>\n",
       "      <th>DISTANCE_TRACK</th>\n",
       "      <th>DISTANCE_TRACK_VINCENTY</th>\n",
       "      <th>TOTAL_AFFECTED</th>\n",
       "      <th>pop_max_34</th>\n",
       "      <th>pop_max_50</th>\n",
       "      <th>pop_max_64</th>\n",
       "      <th>pop_max_34_adj</th>\n",
       "      <th>pop_max_50_adj</th>\n",
       "      <th>pop_max_64_adj</th>\n",
       "    </tr>\n",
       "  </thead>\n",
       "  <tbody>\n",
       "    <tr>\n",
       "      <td>0</td>\n",
       "      <td>1949163N07145</td>\n",
       "      <td>DELLA</td>\n",
       "      <td>WP</td>\n",
       "      <td>WP</td>\n",
       "      <td>JPN</td>\n",
       "      <td>1949</td>\n",
       "      <td>6</td>\n",
       "      <td>1949-06-19 09:00:00</td>\n",
       "      <td>1949-06-24 06:00:00</td>\n",
       "      <td>117.0</td>\n",
       "      <td>60.0</td>\n",
       "      <td>TS</td>\n",
       "      <td>28.91410</td>\n",
       "      <td>129.573</td>\n",
       "      <td>33.5183</td>\n",
       "      <td>130.973</td>\n",
       "      <td>Cat 4</td>\n",
       "      <td>116.0</td>\n",
       "      <td>952</td>\n",
       "      <td>0</td>\n",
       "      <td>33.0</td>\n",
       "      <td>3</td>\n",
       "      <td>0</td>\n",
       "      <td>99.82</td>\n",
       "      <td>3889.480640</td>\n",
       "      <td>3632.626180</td>\n",
       "      <td>194046</td>\n",
       "      <td>16431894.0</td>\n",
       "      <td>7958809.0</td>\n",
       "      <td>4553851.00</td>\n",
       "      <td>1.198300e+07</td>\n",
       "      <td>5.803981e+06</td>\n",
       "      <td>3.320907e+06</td>\n",
       "    </tr>\n",
       "    <tr>\n",
       "      <td>1</td>\n",
       "      <td>1950241N23140</td>\n",
       "      <td>JANE</td>\n",
       "      <td>WP</td>\n",
       "      <td>WP</td>\n",
       "      <td>JPN</td>\n",
       "      <td>1950</td>\n",
       "      <td>8</td>\n",
       "      <td>1950-08-30 03:00:00</td>\n",
       "      <td>1950-09-05 00:00:00</td>\n",
       "      <td>141.0</td>\n",
       "      <td>21.0</td>\n",
       "      <td>ET</td>\n",
       "      <td>29.12010</td>\n",
       "      <td>133.762</td>\n",
       "      <td>36.1016</td>\n",
       "      <td>136.095</td>\n",
       "      <td>Cat 4</td>\n",
       "      <td>116.0</td>\n",
       "      <td>940</td>\n",
       "      <td>0</td>\n",
       "      <td>31.0</td>\n",
       "      <td>3</td>\n",
       "      <td>1</td>\n",
       "      <td>99.82</td>\n",
       "      <td>3596.090691</td>\n",
       "      <td>2787.480021</td>\n",
       "      <td>642117</td>\n",
       "      <td>43343320.0</td>\n",
       "      <td>21380746.0</td>\n",
       "      <td>13972339.00</td>\n",
       "      <td>3.160822e+07</td>\n",
       "      <td>1.559196e+07</td>\n",
       "      <td>1.018936e+07</td>\n",
       "    </tr>\n",
       "    <tr>\n",
       "      <td>2</td>\n",
       "      <td>1951224N12316</td>\n",
       "      <td>CHARLIE</td>\n",
       "      <td>NAm</td>\n",
       "      <td>CS</td>\n",
       "      <td>JAM</td>\n",
       "      <td>1951</td>\n",
       "      <td>8</td>\n",
       "      <td>1951-08-17 21:00:00</td>\n",
       "      <td>1951-08-18 12:00:00</td>\n",
       "      <td>15.0</td>\n",
       "      <td>3.0</td>\n",
       "      <td>TS</td>\n",
       "      <td>17.60000</td>\n",
       "      <td>-76.200</td>\n",
       "      <td>17.9000</td>\n",
       "      <td>-76.900</td>\n",
       "      <td>Cat 3</td>\n",
       "      <td>110.0</td>\n",
       "      <td>0</td>\n",
       "      <td>0</td>\n",
       "      <td>17.0</td>\n",
       "      <td>3</td>\n",
       "      <td>3</td>\n",
       "      <td>132.40</td>\n",
       "      <td>438.214691</td>\n",
       "      <td>435.729082</td>\n",
       "      <td>20200</td>\n",
       "      <td>2753687.5</td>\n",
       "      <td>2750167.0</td>\n",
       "      <td>1948090.75</td>\n",
       "      <td>1.689243e+06</td>\n",
       "      <td>1.687083e+06</td>\n",
       "      <td>1.195052e+06</td>\n",
       "    </tr>\n",
       "    <tr>\n",
       "      <td>3</td>\n",
       "      <td>1951337N09150</td>\n",
       "      <td>AMY</td>\n",
       "      <td>WP</td>\n",
       "      <td>WP</td>\n",
       "      <td>PHL</td>\n",
       "      <td>1951</td>\n",
       "      <td>12</td>\n",
       "      <td>1951-12-07 09:00:00</td>\n",
       "      <td>1951-12-17 00:00:00</td>\n",
       "      <td>231.0</td>\n",
       "      <td>36.0</td>\n",
       "      <td>TS</td>\n",
       "      <td>11.78330</td>\n",
       "      <td>127.900</td>\n",
       "      <td>10.5340</td>\n",
       "      <td>123.174</td>\n",
       "      <td>Cat 4</td>\n",
       "      <td>120.0</td>\n",
       "      <td>924</td>\n",
       "      <td>0</td>\n",
       "      <td>11.0</td>\n",
       "      <td>4</td>\n",
       "      <td>2</td>\n",
       "      <td>119.20</td>\n",
       "      <td>2238.058669</td>\n",
       "      <td>1905.587795</td>\n",
       "      <td>60000</td>\n",
       "      <td>14131997.0</td>\n",
       "      <td>8926450.0</td>\n",
       "      <td>3309632.25</td>\n",
       "      <td>4.760039e+06</td>\n",
       "      <td>3.006670e+06</td>\n",
       "      <td>1.114774e+06</td>\n",
       "    </tr>\n",
       "    <tr>\n",
       "      <td>4</td>\n",
       "      <td>1952180N05144</td>\n",
       "      <td>EMMA</td>\n",
       "      <td>WP</td>\n",
       "      <td>WP</td>\n",
       "      <td>PHL</td>\n",
       "      <td>1952</td>\n",
       "      <td>7</td>\n",
       "      <td>1952-07-01 06:00:00</td>\n",
       "      <td>1952-07-04 18:00:00</td>\n",
       "      <td>84.0</td>\n",
       "      <td>9.0</td>\n",
       "      <td>TS</td>\n",
       "      <td>9.56613</td>\n",
       "      <td>127.791</td>\n",
       "      <td>10.6492</td>\n",
       "      <td>123.239</td>\n",
       "      <td>Cat 3</td>\n",
       "      <td>110.0</td>\n",
       "      <td>968</td>\n",
       "      <td>0</td>\n",
       "      <td>15.0</td>\n",
       "      <td>3</td>\n",
       "      <td>1</td>\n",
       "      <td>110691.00</td>\n",
       "      <td>1876.186790</td>\n",
       "      <td>1797.712213</td>\n",
       "      <td>103</td>\n",
       "      <td>15232730.0</td>\n",
       "      <td>8281656.5</td>\n",
       "      <td>5903694.00</td>\n",
       "      <td>5.130796e+06</td>\n",
       "      <td>2.789486e+06</td>\n",
       "      <td>1.988524e+06</td>\n",
       "    </tr>\n",
       "  </tbody>\n",
       "</table>\n",
       "</div>"
      ],
      "text/plain": [
       "             SID     NAME BASIN SUB BASIN  ISO  YEAR  MONTH_START  \\\n",
       "0  1949163N07145    DELLA    WP        WP  JPN  1949            6   \n",
       "1  1950241N23140     JANE    WP        WP  JPN  1950            8   \n",
       "2  1951224N12316  CHARLIE   NAm        CS  JAM  1951            8   \n",
       "3  1951337N09150      AMY    WP        WP  PHL  1951           12   \n",
       "4  1952180N05144     EMMA    WP        WP  PHL  1952            7   \n",
       "\n",
       "           DATE_START            DATE_END  TOTAL_HOURS_EVENT  \\\n",
       "0 1949-06-19 09:00:00 1949-06-24 06:00:00              117.0   \n",
       "1 1950-08-30 03:00:00 1950-09-05 00:00:00              141.0   \n",
       "2 1951-08-17 21:00:00 1951-08-18 12:00:00               15.0   \n",
       "3 1951-12-07 09:00:00 1951-12-17 00:00:00              231.0   \n",
       "4 1952-07-01 06:00:00 1952-07-04 18:00:00               84.0   \n",
       "\n",
       "   TOTAL_HOURS_IN_LAND NATURE  LAT_MAX_WINDS  LON_MAX_WINDS  \\\n",
       "0                 60.0     TS       28.91410        129.573   \n",
       "1                 21.0     ET       29.12010        133.762   \n",
       "2                  3.0     TS       17.60000        -76.200   \n",
       "3                 36.0     TS       11.78330        127.900   \n",
       "4                  9.0     TS        9.56613        127.791   \n",
       "\n",
       "   LAT_MIN_DIST2LAND  LON_MIN_DIST2LAND GENERAL_CATEGORY  MAX_WIND  MIN_PRES  \\\n",
       "0            33.5183            130.973            Cat 4     116.0       952   \n",
       "1            36.1016            136.095            Cat 4     116.0       940   \n",
       "2            17.9000            -76.900            Cat 3     110.0         0   \n",
       "3            10.5340            123.174            Cat 4     120.0       924   \n",
       "4            10.6492            123.239            Cat 3     110.0       968   \n",
       "\n",
       "   MIN_DIST2LAND  MAX_STORMSPEED  MAX_USA_SSHS MAX_USA_SSHS_INLAND  V_LAND_KN  \\\n",
       "0              0            33.0             3                   0      99.82   \n",
       "1              0            31.0             3                   1      99.82   \n",
       "2              0            17.0             3                   3     132.40   \n",
       "3              0            11.0             4                   2     119.20   \n",
       "4              0            15.0             3                   1  110691.00   \n",
       "\n",
       "   DISTANCE_TRACK  DISTANCE_TRACK_VINCENTY  TOTAL_AFFECTED  pop_max_34  \\\n",
       "0     3889.480640              3632.626180          194046  16431894.0   \n",
       "1     3596.090691              2787.480021          642117  43343320.0   \n",
       "2      438.214691               435.729082           20200   2753687.5   \n",
       "3     2238.058669              1905.587795           60000  14131997.0   \n",
       "4     1876.186790              1797.712213             103  15232730.0   \n",
       "\n",
       "   pop_max_50   pop_max_64  pop_max_34_adj  pop_max_50_adj  pop_max_64_adj  \n",
       "0   7958809.0   4553851.00    1.198300e+07    5.803981e+06    3.320907e+06  \n",
       "1  21380746.0  13972339.00    3.160822e+07    1.559196e+07    1.018936e+07  \n",
       "2   2750167.0   1948090.75    1.689243e+06    1.687083e+06    1.195052e+06  \n",
       "3   8926450.0   3309632.25    4.760039e+06    3.006670e+06    1.114774e+06  \n",
       "4   8281656.5   5903694.00    5.130796e+06    2.789486e+06    1.988524e+06  "
      ]
     },
     "execution_count": 5,
     "metadata": {},
     "output_type": "execute_result"
    }
   ],
   "source": [
    "df.head()"
   ]
  },
  {
   "cell_type": "code",
   "execution_count": 6,
   "metadata": {},
   "outputs": [],
   "source": [
    "ds[\"COORDS\"] = ds.COORDS.apply(lambda x: ast.literal_eval(x))\n",
    "ds[\"ISO_TIME\"] = ds.ISO_TIME.apply(lambda x: ast.literal_eval(x))"
   ]
  },
  {
   "cell_type": "code",
   "execution_count": 7,
   "metadata": {},
   "outputs": [],
   "source": [
    "indicators_data = ds[[\"SID\", \"ISO\", \"YEAR\", 'POP_DEN_SQ_KM','RURAL_POP(%)', 'POP_TOTAL', 'RURAL_POP', 'hdi']].copy()"
   ]
  },
  {
   "cell_type": "code",
   "execution_count": 8,
   "metadata": {},
   "outputs": [],
   "source": [
    "indicators_data.drop_duplicates(keep = \"first\", inplace = True)"
   ]
  },
  {
   "cell_type": "code",
   "execution_count": 9,
   "metadata": {},
   "outputs": [],
   "source": [
    "model_data = df.merge(indicators_data, on = [\"SID\", \"ISO\", \"YEAR\"], how =\"left\")"
   ]
  },
  {
   "cell_type": "code",
   "execution_count": 10,
   "metadata": {},
   "outputs": [
    {
     "data": {
      "text/html": [
       "<div>\n",
       "<style scoped>\n",
       "    .dataframe tbody tr th:only-of-type {\n",
       "        vertical-align: middle;\n",
       "    }\n",
       "\n",
       "    .dataframe tbody tr th {\n",
       "        vertical-align: top;\n",
       "    }\n",
       "\n",
       "    .dataframe thead th {\n",
       "        text-align: right;\n",
       "    }\n",
       "</style>\n",
       "<table border=\"1\" class=\"dataframe\">\n",
       "  <thead>\n",
       "    <tr style=\"text-align: right;\">\n",
       "      <th></th>\n",
       "      <th>Feature</th>\n",
       "      <th>% Null rows</th>\n",
       "    </tr>\n",
       "  </thead>\n",
       "  <tbody>\n",
       "    <tr>\n",
       "      <td>0</td>\n",
       "      <td>pop_max_64_adj</td>\n",
       "      <td>8.016032</td>\n",
       "    </tr>\n",
       "    <tr>\n",
       "      <td>1</td>\n",
       "      <td>pop_max_50_adj</td>\n",
       "      <td>8.016032</td>\n",
       "    </tr>\n",
       "    <tr>\n",
       "      <td>2</td>\n",
       "      <td>pop_max_34_adj</td>\n",
       "      <td>8.016032</td>\n",
       "    </tr>\n",
       "    <tr>\n",
       "      <td>3</td>\n",
       "      <td>pop_max_64</td>\n",
       "      <td>8.016032</td>\n",
       "    </tr>\n",
       "    <tr>\n",
       "      <td>4</td>\n",
       "      <td>pop_max_50</td>\n",
       "      <td>8.016032</td>\n",
       "    </tr>\n",
       "    <tr>\n",
       "      <td>5</td>\n",
       "      <td>pop_max_34</td>\n",
       "      <td>8.016032</td>\n",
       "    </tr>\n",
       "    <tr>\n",
       "      <td>6</td>\n",
       "      <td>MAX_STORMSPEED</td>\n",
       "      <td>0.200401</td>\n",
       "    </tr>\n",
       "  </tbody>\n",
       "</table>\n",
       "</div>"
      ],
      "text/plain": [
       "          Feature  % Null rows\n",
       "0  pop_max_64_adj     8.016032\n",
       "1  pop_max_50_adj     8.016032\n",
       "2  pop_max_34_adj     8.016032\n",
       "3      pop_max_64     8.016032\n",
       "4      pop_max_50     8.016032\n",
       "5      pop_max_34     8.016032\n",
       "6  MAX_STORMSPEED     0.200401"
      ]
     },
     "execution_count": 10,
     "metadata": {},
     "output_type": "execute_result"
    }
   ],
   "source": [
    "null_cols(model_data)"
   ]
  },
  {
   "cell_type": "code",
   "execution_count": 11,
   "metadata": {},
   "outputs": [],
   "source": [
    "model_data.columns = [col.upper() for col in model_data.columns]"
   ]
  },
  {
   "cell_type": "code",
   "execution_count": 12,
   "metadata": {},
   "outputs": [
    {
     "data": {
      "text/html": [
       "<div>\n",
       "<style scoped>\n",
       "    .dataframe tbody tr th:only-of-type {\n",
       "        vertical-align: middle;\n",
       "    }\n",
       "\n",
       "    .dataframe tbody tr th {\n",
       "        vertical-align: top;\n",
       "    }\n",
       "\n",
       "    .dataframe thead th {\n",
       "        text-align: right;\n",
       "    }\n",
       "</style>\n",
       "<table border=\"1\" class=\"dataframe\">\n",
       "  <thead>\n",
       "    <tr style=\"text-align: right;\">\n",
       "      <th></th>\n",
       "      <th>SID</th>\n",
       "      <th>NAME</th>\n",
       "      <th>BASIN</th>\n",
       "      <th>SUB BASIN</th>\n",
       "      <th>ISO</th>\n",
       "      <th>YEAR</th>\n",
       "      <th>MONTH_START</th>\n",
       "      <th>DATE_START</th>\n",
       "      <th>DATE_END</th>\n",
       "      <th>TOTAL_HOURS_EVENT</th>\n",
       "      <th>TOTAL_HOURS_IN_LAND</th>\n",
       "      <th>NATURE</th>\n",
       "      <th>LAT_MAX_WINDS</th>\n",
       "      <th>LON_MAX_WINDS</th>\n",
       "      <th>LAT_MIN_DIST2LAND</th>\n",
       "      <th>LON_MIN_DIST2LAND</th>\n",
       "      <th>GENERAL_CATEGORY</th>\n",
       "      <th>MAX_WIND</th>\n",
       "      <th>MIN_PRES</th>\n",
       "      <th>MIN_DIST2LAND</th>\n",
       "      <th>MAX_STORMSPEED</th>\n",
       "      <th>MAX_USA_SSHS</th>\n",
       "      <th>MAX_USA_SSHS_INLAND</th>\n",
       "      <th>V_LAND_KN</th>\n",
       "      <th>DISTANCE_TRACK</th>\n",
       "      <th>DISTANCE_TRACK_VINCENTY</th>\n",
       "      <th>TOTAL_AFFECTED</th>\n",
       "      <th>POP_MAX_34</th>\n",
       "      <th>POP_MAX_50</th>\n",
       "      <th>POP_MAX_64</th>\n",
       "      <th>POP_MAX_34_ADJ</th>\n",
       "      <th>POP_MAX_50_ADJ</th>\n",
       "      <th>POP_MAX_64_ADJ</th>\n",
       "      <th>POP_DEN_SQ_KM</th>\n",
       "      <th>RURAL_POP(%)</th>\n",
       "      <th>POP_TOTAL</th>\n",
       "      <th>RURAL_POP</th>\n",
       "      <th>HDI</th>\n",
       "    </tr>\n",
       "  </thead>\n",
       "  <tbody>\n",
       "    <tr>\n",
       "      <td>0</td>\n",
       "      <td>1949163N07145</td>\n",
       "      <td>DELLA</td>\n",
       "      <td>WP</td>\n",
       "      <td>WP</td>\n",
       "      <td>JPN</td>\n",
       "      <td>1949</td>\n",
       "      <td>6</td>\n",
       "      <td>1949-06-19 09:00:00</td>\n",
       "      <td>1949-06-24 06:00:00</td>\n",
       "      <td>117.0</td>\n",
       "      <td>60.0</td>\n",
       "      <td>TS</td>\n",
       "      <td>28.91410</td>\n",
       "      <td>129.573</td>\n",
       "      <td>33.5183</td>\n",
       "      <td>130.973</td>\n",
       "      <td>Cat 4</td>\n",
       "      <td>116.0</td>\n",
       "      <td>952</td>\n",
       "      <td>0</td>\n",
       "      <td>33.0</td>\n",
       "      <td>3</td>\n",
       "      <td>0</td>\n",
       "      <td>99.82</td>\n",
       "      <td>3889.480640</td>\n",
       "      <td>3632.626180</td>\n",
       "      <td>194046</td>\n",
       "      <td>16431894.0</td>\n",
       "      <td>7958809.0</td>\n",
       "      <td>4553851.00</td>\n",
       "      <td>1.198300e+07</td>\n",
       "      <td>5.803981e+06</td>\n",
       "      <td>3.320907e+06</td>\n",
       "      <td>195.0</td>\n",
       "      <td>77.20</td>\n",
       "      <td>81700000</td>\n",
       "      <td>63072400.0</td>\n",
       "      <td>0.816</td>\n",
       "    </tr>\n",
       "    <tr>\n",
       "      <td>1</td>\n",
       "      <td>1950241N23140</td>\n",
       "      <td>JANE</td>\n",
       "      <td>WP</td>\n",
       "      <td>WP</td>\n",
       "      <td>JPN</td>\n",
       "      <td>1950</td>\n",
       "      <td>8</td>\n",
       "      <td>1950-08-30 03:00:00</td>\n",
       "      <td>1950-09-05 00:00:00</td>\n",
       "      <td>141.0</td>\n",
       "      <td>21.0</td>\n",
       "      <td>ET</td>\n",
       "      <td>29.12010</td>\n",
       "      <td>133.762</td>\n",
       "      <td>36.1016</td>\n",
       "      <td>136.095</td>\n",
       "      <td>Cat 4</td>\n",
       "      <td>116.0</td>\n",
       "      <td>940</td>\n",
       "      <td>0</td>\n",
       "      <td>31.0</td>\n",
       "      <td>3</td>\n",
       "      <td>1</td>\n",
       "      <td>99.82</td>\n",
       "      <td>3596.090691</td>\n",
       "      <td>2787.480021</td>\n",
       "      <td>642117</td>\n",
       "      <td>43343320.0</td>\n",
       "      <td>21380746.0</td>\n",
       "      <td>13972339.00</td>\n",
       "      <td>3.160822e+07</td>\n",
       "      <td>1.559196e+07</td>\n",
       "      <td>1.018936e+07</td>\n",
       "      <td>227.0</td>\n",
       "      <td>47.00</td>\n",
       "      <td>82800000</td>\n",
       "      <td>38916000.0</td>\n",
       "      <td>0.816</td>\n",
       "    </tr>\n",
       "    <tr>\n",
       "      <td>2</td>\n",
       "      <td>1951224N12316</td>\n",
       "      <td>CHARLIE</td>\n",
       "      <td>NAm</td>\n",
       "      <td>CS</td>\n",
       "      <td>JAM</td>\n",
       "      <td>1951</td>\n",
       "      <td>8</td>\n",
       "      <td>1951-08-17 21:00:00</td>\n",
       "      <td>1951-08-18 12:00:00</td>\n",
       "      <td>15.0</td>\n",
       "      <td>3.0</td>\n",
       "      <td>TS</td>\n",
       "      <td>17.60000</td>\n",
       "      <td>-76.200</td>\n",
       "      <td>17.9000</td>\n",
       "      <td>-76.900</td>\n",
       "      <td>Cat 3</td>\n",
       "      <td>110.0</td>\n",
       "      <td>0</td>\n",
       "      <td>0</td>\n",
       "      <td>17.0</td>\n",
       "      <td>3</td>\n",
       "      <td>3</td>\n",
       "      <td>132.40</td>\n",
       "      <td>438.214691</td>\n",
       "      <td>435.729082</td>\n",
       "      <td>20200</td>\n",
       "      <td>2753687.5</td>\n",
       "      <td>2750167.0</td>\n",
       "      <td>1948090.75</td>\n",
       "      <td>1.689243e+06</td>\n",
       "      <td>1.687083e+06</td>\n",
       "      <td>1.195052e+06</td>\n",
       "      <td>133.0</td>\n",
       "      <td>66.23</td>\n",
       "      <td>1440000</td>\n",
       "      <td>953712.0</td>\n",
       "      <td>0.668</td>\n",
       "    </tr>\n",
       "    <tr>\n",
       "      <td>3</td>\n",
       "      <td>1951337N09150</td>\n",
       "      <td>AMY</td>\n",
       "      <td>WP</td>\n",
       "      <td>WP</td>\n",
       "      <td>PHL</td>\n",
       "      <td>1951</td>\n",
       "      <td>12</td>\n",
       "      <td>1951-12-07 09:00:00</td>\n",
       "      <td>1951-12-17 00:00:00</td>\n",
       "      <td>231.0</td>\n",
       "      <td>36.0</td>\n",
       "      <td>TS</td>\n",
       "      <td>11.78330</td>\n",
       "      <td>127.900</td>\n",
       "      <td>10.5340</td>\n",
       "      <td>123.174</td>\n",
       "      <td>Cat 4</td>\n",
       "      <td>120.0</td>\n",
       "      <td>924</td>\n",
       "      <td>0</td>\n",
       "      <td>11.0</td>\n",
       "      <td>4</td>\n",
       "      <td>2</td>\n",
       "      <td>119.20</td>\n",
       "      <td>2238.058669</td>\n",
       "      <td>1905.587795</td>\n",
       "      <td>60000</td>\n",
       "      <td>14131997.0</td>\n",
       "      <td>8926450.0</td>\n",
       "      <td>3309632.25</td>\n",
       "      <td>4.760039e+06</td>\n",
       "      <td>3.006670e+06</td>\n",
       "      <td>1.114774e+06</td>\n",
       "      <td>64.5</td>\n",
       "      <td>75.35</td>\n",
       "      <td>19200000</td>\n",
       "      <td>14467200.0</td>\n",
       "      <td>0.590</td>\n",
       "    </tr>\n",
       "    <tr>\n",
       "      <td>4</td>\n",
       "      <td>1952180N05144</td>\n",
       "      <td>EMMA</td>\n",
       "      <td>WP</td>\n",
       "      <td>WP</td>\n",
       "      <td>PHL</td>\n",
       "      <td>1952</td>\n",
       "      <td>7</td>\n",
       "      <td>1952-07-01 06:00:00</td>\n",
       "      <td>1952-07-04 18:00:00</td>\n",
       "      <td>84.0</td>\n",
       "      <td>9.0</td>\n",
       "      <td>TS</td>\n",
       "      <td>9.56613</td>\n",
       "      <td>127.791</td>\n",
       "      <td>10.6492</td>\n",
       "      <td>123.239</td>\n",
       "      <td>Cat 3</td>\n",
       "      <td>110.0</td>\n",
       "      <td>968</td>\n",
       "      <td>0</td>\n",
       "      <td>15.0</td>\n",
       "      <td>3</td>\n",
       "      <td>1</td>\n",
       "      <td>110691.00</td>\n",
       "      <td>1876.186790</td>\n",
       "      <td>1797.712213</td>\n",
       "      <td>103</td>\n",
       "      <td>15232730.0</td>\n",
       "      <td>8281656.5</td>\n",
       "      <td>5903694.00</td>\n",
       "      <td>5.130796e+06</td>\n",
       "      <td>2.789486e+06</td>\n",
       "      <td>1.988524e+06</td>\n",
       "      <td>66.9</td>\n",
       "      <td>72.41</td>\n",
       "      <td>19900000</td>\n",
       "      <td>14409590.0</td>\n",
       "      <td>0.590</td>\n",
       "    </tr>\n",
       "  </tbody>\n",
       "</table>\n",
       "</div>"
      ],
      "text/plain": [
       "             SID     NAME BASIN SUB BASIN  ISO  YEAR  MONTH_START  \\\n",
       "0  1949163N07145    DELLA    WP        WP  JPN  1949            6   \n",
       "1  1950241N23140     JANE    WP        WP  JPN  1950            8   \n",
       "2  1951224N12316  CHARLIE   NAm        CS  JAM  1951            8   \n",
       "3  1951337N09150      AMY    WP        WP  PHL  1951           12   \n",
       "4  1952180N05144     EMMA    WP        WP  PHL  1952            7   \n",
       "\n",
       "           DATE_START            DATE_END  TOTAL_HOURS_EVENT  \\\n",
       "0 1949-06-19 09:00:00 1949-06-24 06:00:00              117.0   \n",
       "1 1950-08-30 03:00:00 1950-09-05 00:00:00              141.0   \n",
       "2 1951-08-17 21:00:00 1951-08-18 12:00:00               15.0   \n",
       "3 1951-12-07 09:00:00 1951-12-17 00:00:00              231.0   \n",
       "4 1952-07-01 06:00:00 1952-07-04 18:00:00               84.0   \n",
       "\n",
       "   TOTAL_HOURS_IN_LAND NATURE  LAT_MAX_WINDS  LON_MAX_WINDS  \\\n",
       "0                 60.0     TS       28.91410        129.573   \n",
       "1                 21.0     ET       29.12010        133.762   \n",
       "2                  3.0     TS       17.60000        -76.200   \n",
       "3                 36.0     TS       11.78330        127.900   \n",
       "4                  9.0     TS        9.56613        127.791   \n",
       "\n",
       "   LAT_MIN_DIST2LAND  LON_MIN_DIST2LAND GENERAL_CATEGORY  MAX_WIND  MIN_PRES  \\\n",
       "0            33.5183            130.973            Cat 4     116.0       952   \n",
       "1            36.1016            136.095            Cat 4     116.0       940   \n",
       "2            17.9000            -76.900            Cat 3     110.0         0   \n",
       "3            10.5340            123.174            Cat 4     120.0       924   \n",
       "4            10.6492            123.239            Cat 3     110.0       968   \n",
       "\n",
       "   MIN_DIST2LAND  MAX_STORMSPEED  MAX_USA_SSHS MAX_USA_SSHS_INLAND  V_LAND_KN  \\\n",
       "0              0            33.0             3                   0      99.82   \n",
       "1              0            31.0             3                   1      99.82   \n",
       "2              0            17.0             3                   3     132.40   \n",
       "3              0            11.0             4                   2     119.20   \n",
       "4              0            15.0             3                   1  110691.00   \n",
       "\n",
       "   DISTANCE_TRACK  DISTANCE_TRACK_VINCENTY  TOTAL_AFFECTED  POP_MAX_34  \\\n",
       "0     3889.480640              3632.626180          194046  16431894.0   \n",
       "1     3596.090691              2787.480021          642117  43343320.0   \n",
       "2      438.214691               435.729082           20200   2753687.5   \n",
       "3     2238.058669              1905.587795           60000  14131997.0   \n",
       "4     1876.186790              1797.712213             103  15232730.0   \n",
       "\n",
       "   POP_MAX_50   POP_MAX_64  POP_MAX_34_ADJ  POP_MAX_50_ADJ  POP_MAX_64_ADJ  \\\n",
       "0   7958809.0   4553851.00    1.198300e+07    5.803981e+06    3.320907e+06   \n",
       "1  21380746.0  13972339.00    3.160822e+07    1.559196e+07    1.018936e+07   \n",
       "2   2750167.0   1948090.75    1.689243e+06    1.687083e+06    1.195052e+06   \n",
       "3   8926450.0   3309632.25    4.760039e+06    3.006670e+06    1.114774e+06   \n",
       "4   8281656.5   5903694.00    5.130796e+06    2.789486e+06    1.988524e+06   \n",
       "\n",
       "   POP_DEN_SQ_KM  RURAL_POP(%)  POP_TOTAL   RURAL_POP    HDI  \n",
       "0          195.0         77.20   81700000  63072400.0  0.816  \n",
       "1          227.0         47.00   82800000  38916000.0  0.816  \n",
       "2          133.0         66.23    1440000    953712.0  0.668  \n",
       "3           64.5         75.35   19200000  14467200.0  0.590  \n",
       "4           66.9         72.41   19900000  14409590.0  0.590  "
      ]
     },
     "execution_count": 12,
     "metadata": {},
     "output_type": "execute_result"
    }
   ],
   "source": [
    "model_data.head()"
   ]
  },
  {
   "cell_type": "code",
   "execution_count": 13,
   "metadata": {},
   "outputs": [],
   "source": [
    "df_or = pd.read_csv(\"OUTPUT_WBI_exposer_cyclones_v14.csv\", sep = \";\")"
   ]
  },
  {
   "cell_type": "code",
   "execution_count": 14,
   "metadata": {},
   "outputs": [],
   "source": [
    "df_or[\"DATE_START\"] = pd.to_datetime(df_or[\"DATE_START\"])\n",
    "df_or[\"DATE_END\"] = pd.to_datetime(df_or[\"DATE_END\"])"
   ]
  },
  {
   "cell_type": "code",
   "execution_count": 15,
   "metadata": {},
   "outputs": [],
   "source": [
    "dff = df_or.merge(model_data[[\"SID\", \"ISO\", \"NAME\", \"YEAR\", \"LAT_MAX_WINDS\", \"LON_MAX_WINDS\", \"LAT_MIN_DIST2LAND\", \"LON_MIN_DIST2LAND\", \"RURAL_POP\", \"HDI\"]],\n",
    "            on = [\"SID\", \"ISO\", \"NAME\", \"YEAR\"], how = \"left\")"
   ]
  },
  {
   "cell_type": "code",
   "execution_count": 16,
   "metadata": {},
   "outputs": [],
   "source": [
    "dff.drop(columns = [\"COORDS\", \"COORDS_MAX_WINDS\", \"COORDS_MIN_DIST2LAND\", \"HDI_x\"], inplace= True)"
   ]
  },
  {
   "cell_type": "code",
   "execution_count": 17,
   "metadata": {},
   "outputs": [
    {
     "data": {
      "text/plain": [
       "Index(['SID', 'NAME', 'ISO', 'YEAR', 'BASIN', 'SUB BASIN', 'MONTH_START',\n",
       "       'MONTH_END', 'DATE_START', 'DATE_END', 'DATE_LAND_START',\n",
       "       'DATE_LAND_END', 'TOTAL_HOURS_EVENT', 'TOTAL_HOURS_IN_LAND', 'NATURE',\n",
       "       'GENERAL_CATEGORY', 'MAX_WIND', 'MIN_PRES', 'MIN_DIST2LAND',\n",
       "       'MAX_STORMSPEED', 'MAX_USA_SSHS', 'MAX_USA_SSHS_INLAND', 'V_LAND_KN',\n",
       "       'DISTANCE_TRACK', 'DISTANCE_TRACK_VINCENTY', '34KN_POP', '64KN_POP',\n",
       "       '96KN_POP', '64KN_ASSETS', '34KN_ASSETS', '96KN_ASSETS',\n",
       "       'TOTAL_DAMAGE_(000$)', 'TOTAL_DEATHS', 'POP_DEN_SQ_KM', 'RURAL_POP(%)',\n",
       "       'Arable land (hectares per person)', 'Cereal yield (kg per hectare)',\n",
       "       'Food production index (2004-2006 = 100)',\n",
       "       'GDP per capita (constant 2010 US$)', 'Net flows from UN agencies US$',\n",
       "       'Life expectancy at birth, total (years)',\n",
       "       'Adjusted savings: education expenditure (% of GNI)',\n",
       "       'Income_level_Final', 'POP_MAX_34_ADJ', 'POP_MAX_50_ADJ',\n",
       "       'POP_MAX_64_ADJ', 'TOTAL_AFFECTED', 'LAT_MAX_WINDS', 'LON_MAX_WINDS',\n",
       "       'LAT_MIN_DIST2LAND', 'LON_MIN_DIST2LAND', 'RURAL_POP', 'HDI_y'],\n",
       "      dtype='object')"
      ]
     },
     "execution_count": 17,
     "metadata": {},
     "output_type": "execute_result"
    }
   ],
   "source": [
    "dff.columns"
   ]
  },
  {
   "cell_type": "code",
   "execution_count": 18,
   "metadata": {},
   "outputs": [],
   "source": [
    "dff = dff[['SID', 'NAME', 'ISO', 'YEAR', 'BASIN', 'SUB BASIN', 'MONTH_START',\n",
    "               'MONTH_END', 'DATE_START', 'DATE_END', 'DATE_LAND_START',\n",
    "               'DATE_LAND_END', 'TOTAL_HOURS_EVENT', 'TOTAL_HOURS_IN_LAND', 'NATURE',\n",
    "               'LAT_MAX_WINDS', 'LON_MAX_WINDS',\n",
    "               'LAT_MIN_DIST2LAND', 'LON_MIN_DIST2LAND',\n",
    "               'GENERAL_CATEGORY', 'MAX_WIND', 'MIN_PRES', 'MIN_DIST2LAND',\n",
    "               'MAX_STORMSPEED', 'MAX_USA_SSHS', 'MAX_USA_SSHS_INLAND', 'V_LAND_KN',\n",
    "               'DISTANCE_TRACK', 'DISTANCE_TRACK_VINCENTY', '34KN_POP', '64KN_POP',\n",
    "               '96KN_POP', '64KN_ASSETS', '34KN_ASSETS', '96KN_ASSETS',\n",
    "               'TOTAL_DAMAGE_(000$)', 'TOTAL_DEATHS', 'POP_DEN_SQ_KM', 'RURAL_POP', 'RURAL_POP(%)',\n",
    "               'HDI_y', 'Arable land (hectares per person)',\n",
    "               'Cereal yield (kg per hectare)',\n",
    "               'Food production index (2004-2006 = 100)',\n",
    "               'GDP per capita (constant 2010 US$)', 'Net flows from UN agencies US$',\n",
    "               'Life expectancy at birth, total (years)',\n",
    "               'Adjusted savings: education expenditure (% of GNI)',\n",
    "               'Income_level_Final', 'POP_MAX_34_ADJ', 'POP_MAX_50_ADJ',\n",
    "               'POP_MAX_64_ADJ', 'TOTAL_AFFECTED']] "
   ]
  },
  {
   "cell_type": "code",
   "execution_count": 19,
   "metadata": {},
   "outputs": [],
   "source": [
    "dff.rename(columns = {'Arable land (hectares per person)': \"ARABLE_LAND\", \n",
    "                        'Cereal yield (kg per hectare)': \"CEREAL_YIELD\",\n",
    "                        'Food production index (2004-2006 = 100)': \"FOOD_PRODUCTION_INDEX\",\n",
    "                        'GDP per capita (constant 2010 US$)': \"GDP_PC\", \n",
    "                        'Net flows from UN agencies US$': \"NET_FLOWS_FROM_UN\",\n",
    "                       'Life expectancy at birth, total (years)': \"LIFE_EXPECTANCY\",\n",
    "                       'Adjusted savings: education expenditure (% of GNI)': \"EDUCATION_EXPENDITURE\",\n",
    "                        'Income_level_Final': \"INCOME_LEVEL\",\n",
    "                        \"HDI_y\": \"HDI\"}, inplace= True)"
   ]
  },
  {
   "cell_type": "code",
   "execution_count": 20,
   "metadata": {},
   "outputs": [],
   "source": [
    "model_data2 = dff.copy()"
   ]
  },
  {
   "cell_type": "markdown",
   "metadata": {},
   "source": [
    "# 4. Exploring categorical data\n",
    "\n",
    "We should ensure that our categorical variables are of this type."
   ]
  },
  {
   "cell_type": "code",
   "execution_count": 21,
   "metadata": {},
   "outputs": [],
   "source": [
    "model_data2['BASIN'] = model_data2['BASIN'].astype('category')\n",
    "model_data2['SUB BASIN'] = model_data2['SUB BASIN'].astype('category')\n",
    "model_data2['NATURE'] = model_data2['NATURE'].astype('category')\n",
    "model_data2['GENERAL_CATEGORY'] = model_data2['GENERAL_CATEGORY'].astype('category')\n",
    "model_data2['MAX_USA_SSHS'] = model_data2['MAX_USA_SSHS'].astype('category')\n",
    "model_data2['YEAR'] = model_data2['YEAR'].astype('category')"
   ]
  },
  {
   "cell_type": "code",
   "execution_count": 22,
   "metadata": {},
   "outputs": [
    {
     "data": {
      "text/plain": [
       "SID                                object\n",
       "NAME                               object\n",
       "ISO                                object\n",
       "YEAR                             category\n",
       "BASIN                            category\n",
       "SUB BASIN                        category\n",
       "MONTH_START                         int64\n",
       "MONTH_END                           int64\n",
       "DATE_START                 datetime64[ns]\n",
       "DATE_END                   datetime64[ns]\n",
       "DATE_LAND_START                    object\n",
       "DATE_LAND_END                      object\n",
       "TOTAL_HOURS_EVENT                 float64\n",
       "TOTAL_HOURS_IN_LAND               float64\n",
       "NATURE                           category\n",
       "LAT_MAX_WINDS                     float64\n",
       "LON_MAX_WINDS                     float64\n",
       "LAT_MIN_DIST2LAND                 float64\n",
       "LON_MIN_DIST2LAND                 float64\n",
       "GENERAL_CATEGORY                 category\n",
       "MAX_WIND                          float64\n",
       "MIN_PRES                            int64\n",
       "MIN_DIST2LAND                       int64\n",
       "MAX_STORMSPEED                    float64\n",
       "MAX_USA_SSHS                     category\n",
       "MAX_USA_SSHS_INLAND                object\n",
       "V_LAND_KN                         float64\n",
       "DISTANCE_TRACK                    float64\n",
       "DISTANCE_TRACK_VINCENTY           float64\n",
       "34KN_POP                          float64\n",
       "64KN_POP                          float64\n",
       "96KN_POP                          float64\n",
       "64KN_ASSETS                       float64\n",
       "34KN_ASSETS                       float64\n",
       "96KN_ASSETS                       float64\n",
       "TOTAL_DAMAGE_(000$)               float64\n",
       "TOTAL_DEATHS                      float64\n",
       "POP_DEN_SQ_KM                     float64\n",
       "RURAL_POP                         float64\n",
       "RURAL_POP(%)                      float64\n",
       "HDI                               float64\n",
       "ARABLE_LAND                       float64\n",
       "CEREAL_YIELD                      float64\n",
       "FOOD_PRODUCTION_INDEX             float64\n",
       "GDP_PC                            float64\n",
       "NET_FLOWS_FROM_UN                 float64\n",
       "LIFE_EXPECTANCY                   float64\n",
       "EDUCATION_EXPENDITURE             float64\n",
       "INCOME_LEVEL                       object\n",
       "POP_MAX_34_ADJ                    float64\n",
       "POP_MAX_50_ADJ                    float64\n",
       "POP_MAX_64_ADJ                    float64\n",
       "TOTAL_AFFECTED                      int64\n",
       "dtype: object"
      ]
     },
     "execution_count": 22,
     "metadata": {},
     "output_type": "execute_result"
    }
   ],
   "source": [
    "model_data2.dtypes"
   ]
  },
  {
   "cell_type": "markdown",
   "metadata": {},
   "source": [
    "As ``SUB BASIN`` is more granular than ``BASIN``, we drop this column because."
   ]
  },
  {
   "cell_type": "code",
   "execution_count": 23,
   "metadata": {},
   "outputs": [],
   "source": [
    "model_data2.drop(columns= \"BASIN\", inplace= True)"
   ]
  },
  {
   "cell_type": "markdown",
   "metadata": {},
   "source": [
    "## 4.3. Exploring ordinal and categorical data\n",
    "\n",
    "### 4.3.1. Number of cyclones in the last 70 years.\n",
    "\n",
    "The data available for our study, just contains cyclones with people affected reported to EMDAT and it is only complete up to 2019. "
   ]
  },
  {
   "cell_type": "code",
   "execution_count": 24,
   "metadata": {
    "scrolled": false
   },
   "outputs": [
    {
     "data": {
      "image/png": "[encoded data removed]",
      "text/plain": [
       "<Figure size 1800x576 with 1 Axes>"
      ]
     },
     "metadata": {
      "needs_background": "light"
     },
     "output_type": "display_data"
    }
   ],
   "source": [
    "# List of cyclones by occurrence\n",
    "fig, ax = plt.subplots(figsize=(25,8))\n",
    "sns.countplot(data = model_data2,\n",
    "              x= \"YEAR\",\n",
    "              palette = \"bone_r\" ,\n",
    "              #order= years,\n",
    "              orient = 'h').set_xticklabels(ax.get_xticklabels(), rotation=45);\n",
    "ax.set_title('Number of cyclones: Last 70 years', fontsize = 30)\n",
    "ax.set_ylabel('Number of cyclones', fontsize=14);\n",
    "ax.set_xlabel('Year', fontsize=14);\n"
   ]
  },
  {
   "cell_type": "markdown",
   "metadata": {},
   "source": [
    "### 4.3.2. Storms by  General Category"
   ]
  },
  {
   "cell_type": "code",
   "execution_count": 26,
   "metadata": {
    "scrolled": false
   },
   "outputs": [
    {
     "data": {
      "image/png": "[encoded data removed]",
      "text/plain": [
       "<Figure size 864x576 with 1 Axes>"
      ]
     },
     "metadata": {
      "needs_background": "light"
     },
     "output_type": "display_data"
    }
   ],
   "source": [
    "# List of cyclones by occurrence\n",
    "Saffir_classification= list(model_data2['MAX_USA_SSHS'].value_counts().index)\n",
    "fig, ax = plt.subplots(figsize=(12,8))\n",
    "sns.countplot(data = model_data2,\n",
    "              x= \"MAX_USA_SSHS\",\n",
    "              order= Saffir_classification,\n",
    "              palette = \"bone\",\n",
    "              orient = 'h').set_xticklabels(ax.get_xticklabels(), rotation=45);\n",
    "ax.set_title('Cyclones by category', fontsize= 16)\n",
    "ax.set_ylabel('Number of cyclones', fontsize=14);\n",
    "ax.set_xlabel('Saffir Simpson categories', fontsize=14);\n"
   ]
  },
  {
   "cell_type": "markdown",
   "metadata": {},
   "source": [
    "Most of the cyclones in our data set are **Tropical Storms** and **Hurricane Category 4 and Category 1**."
   ]
  },
  {
   "cell_type": "code",
   "execution_count": 27,
   "metadata": {},
   "outputs": [
    {
     "data": {
      "image/png": "[encoded data removed]",
      "text/plain": [
       "<Figure size 720x504 with 1 Axes>"
      ]
     },
     "metadata": {
      "needs_background": "light"
     },
     "output_type": "display_data"
    }
   ],
   "source": [
    "# List of cyclones by occurrence\n",
    "Saffir_classification= list(model_data2['GENERAL_CATEGORY'].value_counts().index)\n",
    "fig, ax = plt.subplots(figsize=(10,7))\n",
    "sns.countplot(data = model_data2,\n",
    "              x= \"GENERAL_CATEGORY\",\n",
    "              order= Saffir_classification,\n",
    "              palette = \"bone\",\n",
    "              orient = 'h').set_xticklabels(ax.get_xticklabels(), rotation=45);\n",
    "ax.set_title('Cyclones by General Category', fontsize= 16)\n",
    "ax.set_ylabel('Number of cyclones', fontsize=14);\n",
    "ax.set_xlabel('Saffir Simpson categories', fontsize=14);\n"
   ]
  },
  {
   "cell_type": "markdown",
   "metadata": {},
   "source": [
    "After introduction of the variable ``GENERAL_CATEGORY`` which classify the cyclone according with the maximum sustained winds it tooks during their trajectory, we have a much better landscape. Most of our cyclones are **Tropical Storms** and **Hurricanes Category 1 and 4**. Generally, after a cyclone reach winds which classify it as Category 1, there are affected population and some infrastructure damages."
   ]
  },
  {
   "cell_type": "markdown",
   "metadata": {},
   "source": [
    "### 4.3.4. Cyclones by Sub-basin\n",
    "\n",
    "Let us see what is the big region more threatened by hurricans with population affected data:"
   ]
  },
  {
   "cell_type": "code",
   "execution_count": 28,
   "metadata": {},
   "outputs": [
    {
     "data": {
      "image/png": "[encoded data removed]",
      "text/plain": [
       "<Figure size 864x432 with 1 Axes>"
      ]
     },
     "metadata": {
      "needs_background": "light"
     },
     "output_type": "display_data"
    }
   ],
   "source": [
    "# List of cyclones by occurrence\n",
    "basins= list(model_data2['SUB BASIN'].value_counts().index)\n",
    "fig, ax = plt.subplots(figsize=(12,6))\n",
    "sns.countplot(data = model_data2,\n",
    "              x= \"SUB BASIN\",\n",
    "              palette= \"bone\",\n",
    "              order= basins,\n",
    "              orient = 'h').set_xticklabels(ax.get_xticklabels(), rotation=45);\n",
    "ax.set_title('Events by sub basin', fontsize= 16)\n",
    "ax.set_ylabel('Number of cyclones', fontsize=14);\n",
    "ax.set_xlabel('Basins', fontsize=14);\n"
   ]
  },
  {
   "cell_type": "markdown",
   "metadata": {},
   "source": [
    "By far, most of the storms for which we have data have occurred in **Western North Pacific** basin.\n",
    "\n",
    "### Countries with more cyclone frequence"
   ]
  },
  {
   "cell_type": "code",
   "execution_count": 29,
   "metadata": {},
   "outputs": [],
   "source": [
    "countries_to_plot = model_data2.groupby(\"ISO\")[[\"SID\"]].agg(\"count\").reset_index().rename(columns = {\"SID\": \"Nº_cyclones\"})"
   ]
  },
  {
   "cell_type": "code",
   "execution_count": 304,
   "metadata": {},
   "outputs": [
    {
     "data": {
      "application/vnd.plotly.v1+json": {
       "config": {
        "plotlyServerURL": "https://plot.ly"
       },
       "data": [
        {
         "coloraxis": "coloraxis",
         "geo": "geo",
         "hoverlabel": {
          "namelength": 0
         },
         "hovertemplate": "<b>%{hovertext}</b><br><br>ISO=%{location}<br>Nº_cyclones=%{z}",
         "hovertext": [
          "AUS",
          "BGD",
          "BHS",
          "BLZ",
          "CAN",
          "CHN",
          "COL",
          "COM",
          "CRI",
          "CUB",
          "CYM",
          "DOM",
          "FJI",
          "GRD",
          "GTM",
          "HND",
          "HTI",
          "IDN",
          "IND",
          "IRN",
          "JAM",
          "JPN",
          "KOR",
          "LAO",
          "LKA",
          "MAC",
          "MDG",
          "MEX",
          "MMR",
          "MOZ",
          "MUS",
          "MYS",
          "NCL",
          "NIC",
          "OMN",
          "PAK",
          "PAN",
          "PHL",
          "PNG",
          "PRI",
          "PRK",
          "PRT",
          "REU",
          "RUS",
          "SLB",
          "SLV",
          "SOM",
          "SWZ",
          "TCA",
          "THA",
          "TON",
          "TTO",
          "TWN",
          "USA",
          "VEN",
          "VIR",
          "VNM",
          "VUT",
          "WSM",
          "YEM",
          "ZAF",
          "ZWE"
         ],
         "locations": [
          "AUS",
          "BGD",
          "BHS",
          "BLZ",
          "CAN",
          "CHN",
          "COL",
          "COM",
          "CRI",
          "CUB",
          "CYM",
          "DOM",
          "FJI",
          "GRD",
          "GTM",
          "HND",
          "HTI",
          "IDN",
          "IND",
          "IRN",
          "JAM",
          "JPN",
          "KOR",
          "LAO",
          "LKA",
          "MAC",
          "MDG",
          "MEX",
          "MMR",
          "MOZ",
          "MUS",
          "MYS",
          "NCL",
          "NIC",
          "OMN",
          "PAK",
          "PAN",
          "PHL",
          "PNG",
          "PRI",
          "PRK",
          "PRT",
          "REU",
          "RUS",
          "SLB",
          "SLV",
          "SOM",
          "SWZ",
          "TCA",
          "THA",
          "TON",
          "TTO",
          "TWN",
          "USA",
          "VEN",
          "VIR",
          "VNM",
          "VUT",
          "WSM",
          "YEM",
          "ZAF",
          "ZWE"
         ],
         "name": "",
         "type": "choropleth",
         "z": [
          21,
          8,
          10,
          7,
          3,
          114,
          1,
          2,
          2,
          24,
          1,
          17,
          23,
          2,
          6,
          9,
          22,
          1,
          13,
          1,
          13,
          83,
          21,
          2,
          2,
          1,
          43,
          73,
          4,
          15,
          6,
          1,
          2,
          10,
          2,
          1,
          2,
          199,
          4,
          4,
          5,
          1,
          4,
          1,
          7,
          1,
          2,
          1,
          4,
          12,
          1,
          3,
          33,
          48,
          2,
          2,
          69,
          11,
          1,
          4,
          3,
          1
         ]
        }
       ],
       "layout": {
        "coloraxis": {
         "colorbar": {
          "title": {
           "text": "Nº_cyclones"
          }
         },
         "colorscale": [
          [
           0,
           "rgb(255, 255, 255)"
          ],
          [
           0.1,
           "rgb(215, 215, 216)"
          ],
          [
           0.2,
           "rgb(176, 185, 200)"
          ],
          [
           0.3,
           "rgb(144, 166, 201)"
          ],
          [
           0.4,
           "rgb(111, 146, 202)"
          ],
          [
           0.5,
           "rgb(78, 125, 199)"
          ],
          [
           0.6,
           "rgb(46, 98, 160)"
          ],
          [
           0.7,
           "rgb(27, 73, 117)"
          ],
          [
           0.8,
           "rgb(17, 48, 77)"
          ],
          [
           0.9,
           "rgb(11, 25, 39)"
          ],
          [
           1,
           "rgb(0, 1, 0)"
          ]
         ]
        },
        "geo": {
         "center": {},
         "domain": {
          "x": [
           0,
           0.98
          ],
          "y": [
           0,
           1
          ]
         },
         "projection": {
          "type": "natural earth"
         }
        },
        "height": 600,
        "legend": {
         "tracegroupgap": 0
        },
        "margin": {
         "t": 60
        },
        "template": {
         "data": {
          "bar": [
           {
            "error_x": {
             "color": "#2a3f5f"
            },
            "error_y": {
             "color": "#2a3f5f"
            },
            "marker": {
             "line": {
              "color": "#E5ECF6",
              "width": 0.5
             }
            },
            "type": "bar"
           }
          ],
          "barpolar": [
           {
            "marker": {
             "line": {
              "color": "#E5ECF6",
              "width": 0.5
             }
            },
            "type": "barpolar"
           }
          ],
          "carpet": [
           {
            "aaxis": {
             "endlinecolor": "#2a3f5f",
             "gridcolor": "white",
             "linecolor": "white",
             "minorgridcolor": "white",
             "startlinecolor": "#2a3f5f"
            },
            "baxis": {
             "endlinecolor": "#2a3f5f",
             "gridcolor": "white",
             "linecolor": "white",
             "minorgridcolor": "white",
             "startlinecolor": "#2a3f5f"
            },
            "type": "carpet"
           }
          ],
          "choropleth": [
           {
            "colorbar": {
             "outlinewidth": 0,
             "ticks": ""
            },
            "type": "choropleth"
           }
          ],
          "contour": [
           {
            "colorbar": {
             "outlinewidth": 0,
             "ticks": ""
            },
            "colorscale": [
             [
              0,
              "#0d0887"
             ],
             [
              0.1111111111111111,
              "#46039f"
             ],
             [
              0.2222222222222222,
              "#7201a8"
             ],
             [
              0.3333333333333333,
              "#9c179e"
             ],
             [
              0.4444444444444444,
              "#bd3786"
             ],
             [
              0.5555555555555556,
              "#d8576b"
             ],
             [
              0.6666666666666666,
              "#ed7953"
             ],
             [
              0.7777777777777778,
              "#fb9f3a"
             ],
             [
              0.8888888888888888,
              "#fdca26"
             ],
             [
              1,
              "#f0f921"
             ]
            ],
            "type": "contour"
           }
          ],
          "contourcarpet": [
           {
            "colorbar": {
             "outlinewidth": 0,
             "ticks": ""
            },
            "type": "contourcarpet"
           }
          ],
          "heatmap": [
           {
            "colorbar": {
             "outlinewidth": 0,
             "ticks": ""
            },
            "colorscale": [
             [
              0,
              "#0d0887"
             ],
             [
              0.1111111111111111,
              "#46039f"
             ],
             [
              0.2222222222222222,
              "#7201a8"
             ],
             [
              0.3333333333333333,
              "#9c179e"
             ],
             [
              0.4444444444444444,
              "#bd3786"
             ],
             [
              0.5555555555555556,
              "#d8576b"
             ],
             [
              0.6666666666666666,
              "#ed7953"
             ],
             [
              0.7777777777777778,
              "#fb9f3a"
             ],
             [
              0.8888888888888888,
              "#fdca26"
             ],
             [
              1,
              "#f0f921"
             ]
            ],
            "type": "heatmap"
           }
          ],
          "heatmapgl": [
           {
            "colorbar": {
             "outlinewidth": 0,
             "ticks": ""
            },
            "colorscale": [
             [
              0,
              "#0d0887"
             ],
             [
              0.1111111111111111,
              "#46039f"
             ],
             [
              0.2222222222222222,
              "#7201a8"
             ],
             [
              0.3333333333333333,
              "#9c179e"
             ],
             [
              0.4444444444444444,
              "#bd3786"
             ],
             [
              0.5555555555555556,
              "#d8576b"
             ],
             [
              0.6666666666666666,
              "#ed7953"
             ],
             [
              0.7777777777777778,
              "#fb9f3a"
             ],
             [
              0.8888888888888888,
              "#fdca26"
             ],
             [
              1,
              "#f0f921"
             ]
            ],
            "type": "heatmapgl"
           }
          ],
          "histogram": [
           {
            "marker": {
             "colorbar": {
              "outlinewidth": 0,
              "ticks": ""
             }
            },
            "type": "histogram"
           }
          ],
          "histogram2d": [
           {
            "colorbar": {
             "outlinewidth": 0,
             "ticks": ""
            },
            "colorscale": [
             [
              0,
              "#0d0887"
             ],
             [
              0.1111111111111111,
              "#46039f"
             ],
             [
              0.2222222222222222,
              "#7201a8"
             ],
             [
              0.3333333333333333,
              "#9c179e"
             ],
             [
              0.4444444444444444,
              "#bd3786"
             ],
             [
              0.5555555555555556,
              "#d8576b"
             ],
             [
              0.6666666666666666,
              "#ed7953"
             ],
             [
              0.7777777777777778,
              "#fb9f3a"
             ],
             [
              0.8888888888888888,
              "#fdca26"
             ],
             [
              1,
              "#f0f921"
             ]
            ],
            "type": "histogram2d"
           }
          ],
          "histogram2dcontour": [
           {
            "colorbar": {
             "outlinewidth": 0,
             "ticks": ""
            },
            "colorscale": [
             [
              0,
              "#0d0887"
             ],
             [
              0.1111111111111111,
              "#46039f"
             ],
             [
              0.2222222222222222,
              "#7201a8"
             ],
             [
              0.3333333333333333,
              "#9c179e"
             ],
             [
              0.4444444444444444,
              "#bd3786"
             ],
             [
              0.5555555555555556,
              "#d8576b"
             ],
             [
              0.6666666666666666,
              "#ed7953"
             ],
             [
              0.7777777777777778,
              "#fb9f3a"
             ],
             [
              0.8888888888888888,
              "#fdca26"
             ],
             [
              1,
              "#f0f921"
             ]
            ],
            "type": "histogram2dcontour"
           }
          ],
          "mesh3d": [
           {
            "colorbar": {
             "outlinewidth": 0,
             "ticks": ""
            },
            "type": "mesh3d"
           }
          ],
          "parcoords": [
           {
            "line": {
             "colorbar": {
              "outlinewidth": 0,
              "ticks": ""
             }
            },
            "type": "parcoords"
           }
          ],
          "scatter": [
           {
            "marker": {
             "colorbar": {
              "outlinewidth": 0,
              "ticks": ""
             }
            },
            "type": "scatter"
           }
          ],
          "scatter3d": [
           {
            "line": {
             "colorbar": {
              "outlinewidth": 0,
              "ticks": ""
             }
            },
            "marker": {
             "colorbar": {
              "outlinewidth": 0,
              "ticks": ""
             }
            },
            "type": "scatter3d"
           }
          ],
          "scattercarpet": [
           {
            "marker": {
             "colorbar": {
              "outlinewidth": 0,
              "ticks": ""
             }
            },
            "type": "scattercarpet"
           }
          ],
          "scattergeo": [
           {
            "marker": {
             "colorbar": {
              "outlinewidth": 0,
              "ticks": ""
             }
            },
            "type": "scattergeo"
           }
          ],
          "scattergl": [
           {
            "marker": {
             "colorbar": {
              "outlinewidth": 0,
              "ticks": ""
             }
            },
            "type": "scattergl"
           }
          ],
          "scattermapbox": [
           {
            "marker": {
             "colorbar": {
              "outlinewidth": 0,
              "ticks": ""
             }
            },
            "type": "scattermapbox"
           }
          ],
          "scatterpolar": [
           {
            "marker": {
             "colorbar": {
              "outlinewidth": 0,
              "ticks": ""
             }
            },
            "type": "scatterpolar"
           }
          ],
          "scatterpolargl": [
           {
            "marker": {
             "colorbar": {
              "outlinewidth": 0,
              "ticks": ""
             }
            },
            "type": "scatterpolargl"
           }
          ],
          "scatterternary": [
           {
            "marker": {
             "colorbar": {
              "outlinewidth": 0,
              "ticks": ""
             }
            },
            "type": "scatterternary"
           }
          ],
          "surface": [
           {
            "colorbar": {
             "outlinewidth": 0,
             "ticks": ""
            },
            "colorscale": [
             [
              0,
              "#0d0887"
             ],
             [
              0.1111111111111111,
              "#46039f"
             ],
             [
              0.2222222222222222,
              "#7201a8"
             ],
             [
              0.3333333333333333,
              "#9c179e"
             ],
             [
              0.4444444444444444,
              "#bd3786"
             ],
             [
              0.5555555555555556,
              "#d8576b"
             ],
             [
              0.6666666666666666,
              "#ed7953"
             ],
             [
              0.7777777777777778,
              "#fb9f3a"
             ],
             [
              0.8888888888888888,
              "#fdca26"
             ],
             [
              1,
              "#f0f921"
             ]
            ],
            "type": "surface"
           }
          ],
          "table": [
           {
            "cells": {
             "fill": {
              "color": "#EBF0F8"
             },
             "line": {
              "color": "white"
             }
            },
            "header": {
             "fill": {
              "color": "#C8D4E3"
             },
             "line": {
              "color": "white"
             }
            },
            "type": "table"
           }
          ]
         },
         "layout": {
          "annotationdefaults": {
           "arrowcolor": "#2a3f5f",
           "arrowhead": 0,
           "arrowwidth": 1
          },
          "colorscale": {
           "diverging": [
            [
             0,
             "#8e0152"
            ],
            [
             0.1,
             "#c51b7d"
            ],
            [
             0.2,
             "#de77ae"
            ],
            [
             0.3,
             "#f1b6da"
            ],
            [
             0.4,
             "#fde0ef"
            ],
            [
             0.5,
             "#f7f7f7"
            ],
            [
             0.6,
             "#e6f5d0"
            ],
            [
             0.7,
             "#b8e186"
            ],
            [
             0.8,
             "#7fbc41"
            ],
            [
             0.9,
             "#4d9221"
            ],
            [
             1,
             "#276419"
            ]
           ],
           "sequential": [
            [
             0,
             "#0d0887"
            ],
            [
             0.1111111111111111,
             "#46039f"
            ],
            [
             0.2222222222222222,
             "#7201a8"
            ],
            [
             0.3333333333333333,
             "#9c179e"
            ],
            [
             0.4444444444444444,
             "#bd3786"
            ],
            [
             0.5555555555555556,
             "#d8576b"
            ],
            [
             0.6666666666666666,
             "#ed7953"
            ],
            [
             0.7777777777777778,
             "#fb9f3a"
            ],
            [
             0.8888888888888888,
             "#fdca26"
            ],
            [
             1,
             "#f0f921"
            ]
           ],
           "sequentialminus": [
            [
             0,
             "#0d0887"
            ],
            [
             0.1111111111111111,
             "#46039f"
            ],
            [
             0.2222222222222222,
             "#7201a8"
            ],
            [
             0.3333333333333333,
             "#9c179e"
            ],
            [
             0.4444444444444444,
             "#bd3786"
            ],
            [
             0.5555555555555556,
             "#d8576b"
            ],
            [
             0.6666666666666666,
             "#ed7953"
            ],
            [
             0.7777777777777778,
             "#fb9f3a"
            ],
            [
             0.8888888888888888,
             "#fdca26"
            ],
            [
             1,
             "#f0f921"
            ]
           ]
          },
          "colorway": [
           "#636efa",
           "#EF553B",
           "#00cc96",
           "#ab63fa",
           "#FFA15A",
           "#19d3f3",
           "#FF6692",
           "#B6E880",
           "#FF97FF",
           "#FECB52"
          ],
          "font": {
           "color": "#2a3f5f"
          },
          "geo": {
           "bgcolor": "white",
           "lakecolor": "white",
           "landcolor": "#E5ECF6",
           "showlakes": true,
           "showland": true,
           "subunitcolor": "white"
          },
          "hoverlabel": {
           "align": "left"
          },
          "hovermode": "closest",
          "mapbox": {
           "style": "light"
          },
          "paper_bgcolor": "white",
          "plot_bgcolor": "#E5ECF6",
          "polar": {
           "angularaxis": {
            "gridcolor": "white",
            "linecolor": "white",
            "ticks": ""
           },
           "bgcolor": "#E5ECF6",
           "radialaxis": {
            "gridcolor": "white",
            "linecolor": "white",
            "ticks": ""
           }
          },
          "scene": {
           "xaxis": {
            "backgroundcolor": "#E5ECF6",
            "gridcolor": "white",
            "gridwidth": 2,
            "linecolor": "white",
            "showbackground": true,
            "ticks": "",
            "zerolinecolor": "white"
           },
           "yaxis": {
            "backgroundcolor": "#E5ECF6",
            "gridcolor": "white",
            "gridwidth": 2,
            "linecolor": "white",
            "showbackground": true,
            "ticks": "",
            "zerolinecolor": "white"
           },
           "zaxis": {
            "backgroundcolor": "#E5ECF6",
            "gridcolor": "white",
            "gridwidth": 2,
            "linecolor": "white",
            "showbackground": true,
            "ticks": "",
            "zerolinecolor": "white"
           }
          },
          "shapedefaults": {
           "line": {
            "color": "#2a3f5f"
           }
          },
          "ternary": {
           "aaxis": {
            "gridcolor": "white",
            "linecolor": "white",
            "ticks": ""
           },
           "baxis": {
            "gridcolor": "white",
            "linecolor": "white",
            "ticks": ""
           },
           "bgcolor": "#E5ECF6",
           "caxis": {
            "gridcolor": "white",
            "linecolor": "white",
            "ticks": ""
           }
          },
          "title": {
           "x": 0.05
          },
          "xaxis": {
           "automargin": true,
           "gridcolor": "white",
           "linecolor": "white",
           "ticks": "",
           "zerolinecolor": "white",
           "zerolinewidth": 2
          },
          "yaxis": {
           "automargin": true,
           "gridcolor": "white",
           "linecolor": "white",
           "ticks": "",
           "zerolinecolor": "white",
           "zerolinewidth": 2
          }
         }
        },
        "title": {
         "text": "Occurrence of cyclones by countries"
        }
       }
      },
      "text/html": [
       "<div>\n",
       "        \n",
       "        \n",
       "            <div id=\"3e9bd0d4-3bb3-48c9-a8e1-7db348479824\" class=\"plotly-graph-div\" style=\"height:600px; width:100%;\"></div>\n",
       "            <script type=\"text/javascript\">\n",
       "                require([\"plotly\"], function(Plotly) {\n",
       "                    window.PLOTLYENV=window.PLOTLYENV || {};\n",
       "                    \n",
       "                if (document.getElementById(\"3e9bd0d4-3bb3-48c9-a8e1-7db348479824\")) {\n",
       "                    Plotly.newPlot(\n",
       "                        '3e9bd0d4-3bb3-48c9-a8e1-7db348479824',\n",
       "                        [{\"coloraxis\": \"coloraxis\", \"geo\": \"geo\", \"hoverlabel\": {\"namelength\": 0}, \"hovertemplate\": \"<b>%{hovertext}</b><br><br>ISO=%{location}<br>N\\u00ba_cyclones=%{z}\", \"hovertext\": [\"AUS\", \"BGD\", \"BHS\", \"BLZ\", \"CAN\", \"CHN\", \"COL\", \"COM\", \"CRI\", \"CUB\", \"CYM\", \"DOM\", \"FJI\", \"GRD\", \"GTM\", \"HND\", \"HTI\", \"IDN\", \"IND\", \"IRN\", \"JAM\", \"JPN\", \"KOR\", \"LAO\", \"LKA\", \"MAC\", \"MDG\", \"MEX\", \"MMR\", \"MOZ\", \"MUS\", \"MYS\", \"NCL\", \"NIC\", \"OMN\", \"PAK\", \"PAN\", \"PHL\", \"PNG\", \"PRI\", \"PRK\", \"PRT\", \"REU\", \"RUS\", \"SLB\", \"SLV\", \"SOM\", \"SWZ\", \"TCA\", \"THA\", \"TON\", \"TTO\", \"TWN\", \"USA\", \"VEN\", \"VIR\", \"VNM\", \"VUT\", \"WSM\", \"YEM\", \"ZAF\", \"ZWE\"], \"locations\": [\"AUS\", \"BGD\", \"BHS\", \"BLZ\", \"CAN\", \"CHN\", \"COL\", \"COM\", \"CRI\", \"CUB\", \"CYM\", \"DOM\", \"FJI\", \"GRD\", \"GTM\", \"HND\", \"HTI\", \"IDN\", \"IND\", \"IRN\", \"JAM\", \"JPN\", \"KOR\", \"LAO\", \"LKA\", \"MAC\", \"MDG\", \"MEX\", \"MMR\", \"MOZ\", \"MUS\", \"MYS\", \"NCL\", \"NIC\", \"OMN\", \"PAK\", \"PAN\", \"PHL\", \"PNG\", \"PRI\", \"PRK\", \"PRT\", \"REU\", \"RUS\", \"SLB\", \"SLV\", \"SOM\", \"SWZ\", \"TCA\", \"THA\", \"TON\", \"TTO\", \"TWN\", \"USA\", \"VEN\", \"VIR\", \"VNM\", \"VUT\", \"WSM\", \"YEM\", \"ZAF\", \"ZWE\"], \"name\": \"\", \"type\": \"choropleth\", \"z\": [21, 8, 10, 7, 3, 114, 1, 2, 2, 24, 1, 17, 23, 2, 6, 9, 22, 1, 13, 1, 13, 83, 21, 2, 2, 1, 43, 73, 4, 15, 6, 1, 2, 10, 2, 1, 2, 199, 4, 4, 5, 1, 4, 1, 7, 1, 2, 1, 4, 12, 1, 3, 33, 48, 2, 2, 69, 11, 1, 4, 3, 1]}],\n",
       "                        {\"coloraxis\": {\"colorbar\": {\"title\": {\"text\": \"N\\u00ba_cyclones\"}}, \"colorscale\": [[0.0, \"rgb(255, 255, 255)\"], [0.1, \"rgb(215, 215, 216)\"], [0.2, \"rgb(176, 185, 200)\"], [0.3, \"rgb(144, 166, 201)\"], [0.4, \"rgb(111, 146, 202)\"], [0.5, \"rgb(78, 125, 199)\"], [0.6, \"rgb(46, 98, 160)\"], [0.7, \"rgb(27, 73, 117)\"], [0.8, \"rgb(17, 48, 77)\"], [0.9, \"rgb(11, 25, 39)\"], [1.0, \"rgb(0, 1, 0)\"]]}, \"geo\": {\"center\": {}, \"domain\": {\"x\": [0.0, 0.98], \"y\": [0.0, 1.0]}, \"projection\": {\"type\": \"natural earth\"}}, \"height\": 600, \"legend\": {\"tracegroupgap\": 0}, \"margin\": {\"t\": 60}, \"template\": {\"data\": {\"bar\": [{\"error_x\": {\"color\": \"#2a3f5f\"}, \"error_y\": {\"color\": \"#2a3f5f\"}, \"marker\": {\"line\": {\"color\": \"#E5ECF6\", \"width\": 0.5}}, \"type\": \"bar\"}], \"barpolar\": [{\"marker\": {\"line\": {\"color\": \"#E5ECF6\", \"width\": 0.5}}, \"type\": \"barpolar\"}], \"carpet\": [{\"aaxis\": {\"endlinecolor\": \"#2a3f5f\", \"gridcolor\": \"white\", \"linecolor\": \"white\", \"minorgridcolor\": \"white\", \"startlinecolor\": \"#2a3f5f\"}, \"baxis\": {\"endlinecolor\": \"#2a3f5f\", \"gridcolor\": \"white\", \"linecolor\": \"white\", \"minorgridcolor\": \"white\", \"startlinecolor\": \"#2a3f5f\"}, \"type\": \"carpet\"}], \"choropleth\": [{\"colorbar\": {\"outlinewidth\": 0, \"ticks\": \"\"}, \"type\": \"choropleth\"}], \"contour\": [{\"colorbar\": {\"outlinewidth\": 0, \"ticks\": \"\"}, \"colorscale\": [[0.0, \"#0d0887\"], [0.1111111111111111, \"#46039f\"], [0.2222222222222222, \"#7201a8\"], [0.3333333333333333, \"#9c179e\"], [0.4444444444444444, \"#bd3786\"], [0.5555555555555556, \"#d8576b\"], [0.6666666666666666, \"#ed7953\"], [0.7777777777777778, \"#fb9f3a\"], [0.8888888888888888, \"#fdca26\"], [1.0, \"#f0f921\"]], \"type\": \"contour\"}], \"contourcarpet\": [{\"colorbar\": {\"outlinewidth\": 0, \"ticks\": \"\"}, \"type\": \"contourcarpet\"}], \"heatmap\": [{\"colorbar\": {\"outlinewidth\": 0, \"ticks\": \"\"}, \"colorscale\": [[0.0, \"#0d0887\"], [0.1111111111111111, \"#46039f\"], [0.2222222222222222, \"#7201a8\"], [0.3333333333333333, \"#9c179e\"], [0.4444444444444444, \"#bd3786\"], [0.5555555555555556, \"#d8576b\"], [0.6666666666666666, \"#ed7953\"], [0.7777777777777778, \"#fb9f3a\"], [0.8888888888888888, \"#fdca26\"], [1.0, \"#f0f921\"]], \"type\": \"heatmap\"}], \"heatmapgl\": [{\"colorbar\": {\"outlinewidth\": 0, \"ticks\": \"\"}, \"colorscale\": [[0.0, \"#0d0887\"], [0.1111111111111111, \"#46039f\"], [0.2222222222222222, \"#7201a8\"], [0.3333333333333333, \"#9c179e\"], [0.4444444444444444, \"#bd3786\"], [0.5555555555555556, \"#d8576b\"], [0.6666666666666666, \"#ed7953\"], [0.7777777777777778, \"#fb9f3a\"], [0.8888888888888888, \"#fdca26\"], [1.0, \"#f0f921\"]], \"type\": \"heatmapgl\"}], \"histogram\": [{\"marker\": {\"colorbar\": {\"outlinewidth\": 0, \"ticks\": \"\"}}, \"type\": \"histogram\"}], \"histogram2d\": [{\"colorbar\": {\"outlinewidth\": 0, \"ticks\": \"\"}, \"colorscale\": [[0.0, \"#0d0887\"], [0.1111111111111111, \"#46039f\"], [0.2222222222222222, \"#7201a8\"], [0.3333333333333333, \"#9c179e\"], [0.4444444444444444, \"#bd3786\"], [0.5555555555555556, \"#d8576b\"], [0.6666666666666666, \"#ed7953\"], [0.7777777777777778, \"#fb9f3a\"], [0.8888888888888888, \"#fdca26\"], [1.0, \"#f0f921\"]], \"type\": \"histogram2d\"}], \"histogram2dcontour\": [{\"colorbar\": {\"outlinewidth\": 0, \"ticks\": \"\"}, \"colorscale\": [[0.0, \"#0d0887\"], [0.1111111111111111, \"#46039f\"], [0.2222222222222222, \"#7201a8\"], [0.3333333333333333, \"#9c179e\"], [0.4444444444444444, \"#bd3786\"], [0.5555555555555556, \"#d8576b\"], [0.6666666666666666, \"#ed7953\"], [0.7777777777777778, \"#fb9f3a\"], [0.8888888888888888, \"#fdca26\"], [1.0, \"#f0f921\"]], \"type\": \"histogram2dcontour\"}], \"mesh3d\": [{\"colorbar\": {\"outlinewidth\": 0, \"ticks\": \"\"}, \"type\": \"mesh3d\"}], \"parcoords\": [{\"line\": {\"colorbar\": {\"outlinewidth\": 0, \"ticks\": \"\"}}, \"type\": \"parcoords\"}], \"scatter\": [{\"marker\": {\"colorbar\": {\"outlinewidth\": 0, \"ticks\": \"\"}}, \"type\": \"scatter\"}], \"scatter3d\": [{\"line\": {\"colorbar\": {\"outlinewidth\": 0, \"ticks\": \"\"}}, \"marker\": {\"colorbar\": {\"outlinewidth\": 0, \"ticks\": \"\"}}, \"type\": \"scatter3d\"}], \"scattercarpet\": [{\"marker\": {\"colorbar\": {\"outlinewidth\": 0, \"ticks\": \"\"}}, \"type\": \"scattercarpet\"}], \"scattergeo\": [{\"marker\": {\"colorbar\": {\"outlinewidth\": 0, \"ticks\": \"\"}}, \"type\": \"scattergeo\"}], \"scattergl\": [{\"marker\": {\"colorbar\": {\"outlinewidth\": 0, \"ticks\": \"\"}}, \"type\": \"scattergl\"}], \"scattermapbox\": [{\"marker\": {\"colorbar\": {\"outlinewidth\": 0, \"ticks\": \"\"}}, \"type\": \"scattermapbox\"}], \"scatterpolar\": [{\"marker\": {\"colorbar\": {\"outlinewidth\": 0, \"ticks\": \"\"}}, \"type\": \"scatterpolar\"}], \"scatterpolargl\": [{\"marker\": {\"colorbar\": {\"outlinewidth\": 0, \"ticks\": \"\"}}, \"type\": \"scatterpolargl\"}], \"scatterternary\": [{\"marker\": {\"colorbar\": {\"outlinewidth\": 0, \"ticks\": \"\"}}, \"type\": \"scatterternary\"}], \"surface\": [{\"colorbar\": {\"outlinewidth\": 0, \"ticks\": \"\"}, \"colorscale\": [[0.0, \"#0d0887\"], [0.1111111111111111, \"#46039f\"], [0.2222222222222222, \"#7201a8\"], [0.3333333333333333, \"#9c179e\"], [0.4444444444444444, \"#bd3786\"], [0.5555555555555556, \"#d8576b\"], [0.6666666666666666, \"#ed7953\"], [0.7777777777777778, \"#fb9f3a\"], [0.8888888888888888, \"#fdca26\"], [1.0, \"#f0f921\"]], \"type\": \"surface\"}], \"table\": [{\"cells\": {\"fill\": {\"color\": \"#EBF0F8\"}, \"line\": {\"color\": \"white\"}}, \"header\": {\"fill\": {\"color\": \"#C8D4E3\"}, \"line\": {\"color\": \"white\"}}, \"type\": \"table\"}]}, \"layout\": {\"annotationdefaults\": {\"arrowcolor\": \"#2a3f5f\", \"arrowhead\": 0, \"arrowwidth\": 1}, \"colorscale\": {\"diverging\": [[0, \"#8e0152\"], [0.1, \"#c51b7d\"], [0.2, \"#de77ae\"], [0.3, \"#f1b6da\"], [0.4, \"#fde0ef\"], [0.5, \"#f7f7f7\"], [0.6, \"#e6f5d0\"], [0.7, \"#b8e186\"], [0.8, \"#7fbc41\"], [0.9, \"#4d9221\"], [1, \"#276419\"]], \"sequential\": [[0.0, \"#0d0887\"], [0.1111111111111111, \"#46039f\"], [0.2222222222222222, \"#7201a8\"], [0.3333333333333333, \"#9c179e\"], [0.4444444444444444, \"#bd3786\"], [0.5555555555555556, \"#d8576b\"], [0.6666666666666666, \"#ed7953\"], [0.7777777777777778, \"#fb9f3a\"], [0.8888888888888888, \"#fdca26\"], [1.0, \"#f0f921\"]], \"sequentialminus\": [[0.0, \"#0d0887\"], [0.1111111111111111, \"#46039f\"], [0.2222222222222222, \"#7201a8\"], [0.3333333333333333, \"#9c179e\"], [0.4444444444444444, \"#bd3786\"], [0.5555555555555556, \"#d8576b\"], [0.6666666666666666, \"#ed7953\"], [0.7777777777777778, \"#fb9f3a\"], [0.8888888888888888, \"#fdca26\"], [1.0, \"#f0f921\"]]}, \"colorway\": [\"#636efa\", \"#EF553B\", \"#00cc96\", \"#ab63fa\", \"#FFA15A\", \"#19d3f3\", \"#FF6692\", \"#B6E880\", \"#FF97FF\", \"#FECB52\"], \"font\": {\"color\": \"#2a3f5f\"}, \"geo\": {\"bgcolor\": \"white\", \"lakecolor\": \"white\", \"landcolor\": \"#E5ECF6\", \"showlakes\": true, \"showland\": true, \"subunitcolor\": \"white\"}, \"hoverlabel\": {\"align\": \"left\"}, \"hovermode\": \"closest\", \"mapbox\": {\"style\": \"light\"}, \"paper_bgcolor\": \"white\", \"plot_bgcolor\": \"#E5ECF6\", \"polar\": {\"angularaxis\": {\"gridcolor\": \"white\", \"linecolor\": \"white\", \"ticks\": \"\"}, \"bgcolor\": \"#E5ECF6\", \"radialaxis\": {\"gridcolor\": \"white\", \"linecolor\": \"white\", \"ticks\": \"\"}}, \"scene\": {\"xaxis\": {\"backgroundcolor\": \"#E5ECF6\", \"gridcolor\": \"white\", \"gridwidth\": 2, \"linecolor\": \"white\", \"showbackground\": true, \"ticks\": \"\", \"zerolinecolor\": \"white\"}, \"yaxis\": {\"backgroundcolor\": \"#E5ECF6\", \"gridcolor\": \"white\", \"gridwidth\": 2, \"linecolor\": \"white\", \"showbackground\": true, \"ticks\": \"\", \"zerolinecolor\": \"white\"}, \"zaxis\": {\"backgroundcolor\": \"#E5ECF6\", \"gridcolor\": \"white\", \"gridwidth\": 2, \"linecolor\": \"white\", \"showbackground\": true, \"ticks\": \"\", \"zerolinecolor\": \"white\"}}, \"shapedefaults\": {\"line\": {\"color\": \"#2a3f5f\"}}, \"ternary\": {\"aaxis\": {\"gridcolor\": \"white\", \"linecolor\": \"white\", \"ticks\": \"\"}, \"baxis\": {\"gridcolor\": \"white\", \"linecolor\": \"white\", \"ticks\": \"\"}, \"bgcolor\": \"#E5ECF6\", \"caxis\": {\"gridcolor\": \"white\", \"linecolor\": \"white\", \"ticks\": \"\"}}, \"title\": {\"x\": 0.05}, \"xaxis\": {\"automargin\": true, \"gridcolor\": \"white\", \"linecolor\": \"white\", \"ticks\": \"\", \"zerolinecolor\": \"white\", \"zerolinewidth\": 2}, \"yaxis\": {\"automargin\": true, \"gridcolor\": \"white\", \"linecolor\": \"white\", \"ticks\": \"\", \"zerolinecolor\": \"white\", \"zerolinewidth\": 2}}}, \"title\": {\"text\": \"Occurrence of cyclones by countries\"}},\n",
       "                        {\"responsive\": true}\n",
       "                    ).then(function(){\n",
       "                            \n",
       "var gd = document.getElementById('3e9bd0d4-3bb3-48c9-a8e1-7db348479824');\n",
       "var x = new MutationObserver(function (mutations, observer) {{\n",
       "        var display = window.getComputedStyle(gd).display;\n",
       "        if (!display || display === 'none') {{\n",
       "            console.log([gd, 'removed!']);\n",
       "            Plotly.purge(gd);\n",
       "            observer.disconnect();\n",
       "        }}\n",
       "}});\n",
       "\n",
       "// Listen for the removal of the full notebook cells\n",
       "var notebookContainer = gd.closest('#notebook-container');\n",
       "if (notebookContainer) {{\n",
       "    x.observe(notebookContainer, {childList: true});\n",
       "}}\n",
       "\n",
       "// Listen for the clearing of the current output cell\n",
       "var outputEl = gd.closest('.output');\n",
       "if (outputEl) {{\n",
       "    x.observe(outputEl, {childList: true});\n",
       "}}\n",
       "\n",
       "                        })\n",
       "                };\n",
       "                });\n",
       "            </script>\n",
       "        </div>"
      ]
     },
     "metadata": {},
     "output_type": "display_data"
    }
   ],
   "source": [
    "fig = px.choropleth(countries_to_plot, locations=\"ISO\",\n",
    "                    color=\"Nº_cyclones\", \n",
    "                    hover_name=\"ISO\", # column to add to hover information\n",
    "                    color_continuous_scale=oslorev,\n",
    "                    projection='natural earth')\n",
    "fig.update_layout(\n",
    "    title_text = 'Occurrence of cyclones by countries')\n",
    "\n",
    "fig.show()\n",
    "\n"
   ]
  },
  {
   "cell_type": "markdown",
   "metadata": {},
   "source": [
    "Philipines, China, Japan, Mexico, Vietnam, United States and Madagascar are the countries with highest occurrence of cyclones. In GitHub, please see the static image [here](https://github.com/omdena/wfpdisrel/blob/master/%23task3-model/model-e-RandomForest/Plots/map.png)\n"
   ]
  },
  {
   "cell_type": "markdown",
   "metadata": {},
   "source": [
    "## 4.4. Correlation matrix for categorical features \n",
    "\n",
    "We will use contingency tables for analyzing whether there is some correlation between people affected, the sub-basin of the cyclone and the intensity of it according with the Saffir-Simpson-Scale in our data."
   ]
  },
  {
   "cell_type": "code",
   "execution_count": 31,
   "metadata": {},
   "outputs": [],
   "source": [
    "#create a copy of our data set for further binning\n",
    "\n",
    "md = model_data2.copy()\n"
   ]
  },
  {
   "cell_type": "code",
   "execution_count": 32,
   "metadata": {},
   "outputs": [],
   "source": [
    "dict_cats = {\"Cat 1\": \"Cat-1-C\",\n",
    "             \"Cat 2\": \"Cat-2-C\",\n",
    "             \"Cat 3\": \"Cat-3-C\",\n",
    "             \"Cat 4\": \"Cat-4-C\",\n",
    "             \"Cat 5\": \"Cat-5-C\"}\n",
    "\n",
    "def set_cat(cat):\n",
    "    if cat in [\"TD\", \"TS\"]:\n",
    "        return \"Cat 0\"\n",
    "    else:\n",
    "        return cat\n",
    "\n",
    "    \n",
    "dict_income = {\"High\": \"4\",\n",
    "               \"High_Middle\": \"3\",\n",
    "               \"Low\": \"1\",\n",
    "               \"Low_Middle\": \"2\"}\n",
    "\n",
    "def set_income(level):\n",
    "    return dict_income[level]\n",
    "    \n",
    "md[\"GENERAL_CATEGORY\"] = md.GENERAL_CATEGORY.apply(set_cat)\n",
    "\n",
    "md[\"INCOME_LEVEL\"] = md.INCOME_LEVEL.apply(set_income)\n",
    "\n",
    "cont_table = pd.crosstab(md[\"GENERAL_CATEGORY\"], \n",
    "                         md[\"SUB BASIN\"], \n",
    "                         values = md[\"TOTAL_AFFECTED\"], \n",
    "                         aggfunc= \"mean\").sort_values(\"GENERAL_CATEGORY\")\n",
    "\n",
    "for col in cont_table.columns:\n",
    "    cont_table[col] = cont_table[col].apply(lambda x: math.log(x, 10))"
   ]
  },
  {
   "cell_type": "code",
   "execution_count": 33,
   "metadata": {},
   "outputs": [],
   "source": [
    "#create a copu of our data set for further binning\n",
    "cont_table2 = pd.crosstab(md[\"GENERAL_CATEGORY\"], \n",
    "                         md[\"INCOME_LEVEL\"], \n",
    "                         values = md[\"TOTAL_AFFECTED\"], \n",
    "                         aggfunc= \"mean\").sort_values(\"GENERAL_CATEGORY\")\n",
    "\n",
    "for col in cont_table2.columns:\n",
    "    cont_table2[col] = cont_table2[col].apply(lambda x: math.log(x, 10))"
   ]
  },
  {
   "cell_type": "code",
   "execution_count": 34,
   "metadata": {},
   "outputs": [
    {
     "data": {
      "image/png": "[encoded data removed]",
      "text/plain": [
       "<Figure size 1440x432 with 2 Axes>"
      ]
     },
     "metadata": {
      "needs_background": "light"
     },
     "output_type": "display_data"
    }
   ],
   "source": [
    "fig, ax = plt.subplots(figsize=(20,6))\n",
    "\n",
    "#We use the function crosstab in pandas to create a contingency table, crossing USA_SSHS and SUB BASIN by computing the mean of the affected population\n",
    "sns.heatmap(cont_table,\n",
    "            cmap=\"bone_r\", \n",
    "            cbar_kws={'fraction' : 0.01}, # shrink colour bar\n",
    "            linewidth=1, # space between cells\n",
    "            ax = ax,\n",
    "            annot = True).set_xticklabels(ax.get_xticklabels(), rotation=45);\n",
    "ax.set(ylim=(0, 6));\n",
    "\n",
    "ax.set_title(\"Saffir Simpson classification, sub basins and affected population\", fontsize= 16);"
   ]
  },
  {
   "cell_type": "markdown",
   "metadata": {},
   "source": [
    "Here we consider the tropical depressions and tropical storms together as Cat 0. We can do this because there are little tropical depressions in our data. Most of the basins have the highest number of affected people increasing as the category of the cyclone increases, except the North Atlantic basin for which we have very little data.\n",
    "\n",
    "In the West Pacific basin, for which we have most data, the mean affected people by the cyclone is going upwards most of the time when the category of the cyclone increases.\n",
    "\n",
    "After this, we will include the feature ``GENERAL_CATEGORY`` as a dummy variable in our data set."
   ]
  },
  {
   "cell_type": "code",
   "execution_count": 35,
   "metadata": {},
   "outputs": [
    {
     "data": {
      "image/png": "[encoded data removed]",
      "text/plain": [
       "<Figure size 1440x432 with 2 Axes>"
      ]
     },
     "metadata": {
      "needs_background": "light"
     },
     "output_type": "display_data"
    }
   ],
   "source": [
    "#create a copu of our data set for further binning\n",
    "cont_table2 = pd.crosstab(md[\"GENERAL_CATEGORY\"], \n",
    "                         md[\"INCOME_LEVEL\"], \n",
    "                         values = md[\"TOTAL_AFFECTED\"], \n",
    "                         aggfunc= \"mean\").sort_values(\"GENERAL_CATEGORY\")\n",
    "\n",
    "for col in cont_table2.columns:\n",
    "    cont_table2[col] = cont_table2[col].apply(lambda x: math.log(x, 10))\n",
    "fig, ax = plt.subplots(figsize=(20,6))\n",
    "\n",
    "#We use the function crosstab in pandas to create a contingency table, crossing category and income\n",
    "#by computing the mean of the affected population\n",
    "sns.heatmap(cont_table2,\n",
    "            cmap=\"bone_r\", \n",
    "            cbar_kws={'fraction' : 0.01}, # shrink colour bar\n",
    "            linewidth=1, # space between cells\n",
    "            ax = ax,\n",
    "            annot = True).set_xticklabels(ax.get_xticklabels(), rotation=45);\n",
    "ax.set(ylim=(0, 6));\n",
    "\n",
    "ax.set_title(\"Saffir Simpson classification, income and affected population\", fontsize= 16);"
   ]
  },
  {
   "cell_type": "markdown",
   "metadata": {},
   "source": [
    "We can see than, in general countries with higher income level have less affected population in each cyclone category. Critical sectors are countries with ``INCOME_LEVEL`` Low middle and High Middle.\n",
    "\n",
    "We will include ``INCOME_LEVEL`` as a dummy variable in our data set."
   ]
  },
  {
   "cell_type": "markdown",
   "metadata": {},
   "source": [
    "## 4.5. Plus: Correlation matrix for our numerical features\n",
    "\n",
    "We will construct a function which allows us to do the same procedure for different datasets:"
   ]
  },
  {
   "cell_type": "code",
   "execution_count": 330,
   "metadata": {},
   "outputs": [],
   "source": [
    "def get_correlation_matrix(data, method_corr):\n",
    "    numerical_variables = list(data.select_dtypes(include=['float64', \"int\"]).columns)\n",
    "    data_num = data[numerical_variables].copy()\n",
    "    corr_numbers = data_num.corr(method = method_corr)\n",
    "    corr_num_list = list(corr_numbers[abs(corr_numbers[\"TOTAL_AFFECTED\"])>=0.10].index)\n",
    "    corr_plot = corr_numbers[corr_numbers.index.isin(corr_num_list)][corr_num_list]\n",
    "    n = len(corr_num_list)\n",
    "    \n",
    "    mask = np.zeros_like(corr_plot, dtype=np.bool)\n",
    "    mask[np.triu_indices_from(mask)] = True\n",
    "    mask[np.diag_indices_from(mask)] = False\n",
    "    \n",
    "    fig, ax = plt.subplots(figsize=(13,15))\n",
    "\n",
    "    sns.heatmap(corr_plot,\n",
    "                mask = mask,\n",
    "                annot = True,\n",
    "                square=True,\n",
    "                linewidth=1,# space between cells\n",
    "                cmap= \"bone_r\",#\"PRGn\", \n",
    "                cbar_kws={'fraction' : 0.03}, # shrink colour bar\n",
    "                ax = ax,\n",
    "               );\n",
    "    ax.set(ylim=(0, n));\n",
    "    ax.set_title(method_corr.capitalize() +\" correlation coefficient: correlation with TOTAL_AFFECTED >= 0.10\", fontsize=17);\n",
    "\n",
    "def get_correlation_features(data, method_corr, col):\n",
    "    numerical_variables = list(data.select_dtypes(include=['float64', \"int\"]).columns)\n",
    "    data_num = data[numerical_variables].copy()\n",
    "    corr_numbers = data_num.corr(method = method_corr)\n",
    "    corr_num_list = list(corr_numbers[abs(corr_numbers[\"TOTAL_AFFECTED\"])>=0.10].index)\n",
    "    corr_plot = corr_numbers[corr_numbers.index.isin(corr_num_list)][corr_num_list]\n",
    "    corr_plot = corr_plot[[col]]\n",
    "    corr_plot[\"absolute coeficient\"] = corr_plot[col].apply(lambda x: abs(x))\n",
    "    corr_plot = corr_plot.sort_values(\"absolute coeficient\", ascending= False).reset_index()\n",
    "    corr_plot = corr_plot.rename(columns = {\"index\": \"Features\", col: \"Correlation coeficient\"})\n",
    "    return corr_plot[[\"Features\", \"Correlation coeficient\"]].drop(0, axis = 0)"
   ]
  },
  {
   "cell_type": "code",
   "execution_count": 331,
   "metadata": {
    "scrolled": false
   },
   "outputs": [
    {
     "data": {
      "image/png": "[encoded data removed]",
      "text/plain": [
       "<Figure size 936x1080 with 2 Axes>"
      ]
     },
     "metadata": {
      "needs_background": "light"
     },
     "output_type": "display_data"
    }
   ],
   "source": [
    "get_correlation_matrix(model_data2, \"spearman\")"
   ]
  },
  {
   "cell_type": "markdown",
   "metadata": {},
   "source": [
    "# 5. How is the distribution of the population affected in our data?\n"
   ]
  },
  {
   "cell_type": "code",
   "execution_count": 314,
   "metadata": {},
   "outputs": [
    {
     "data": {
      "image/png": "[encoded data removed]",
      "text/plain": [
       "<Figure size 720x360 with 1 Axes>"
      ]
     },
     "metadata": {
      "needs_background": "light"
     },
     "output_type": "display_data"
    }
   ],
   "source": [
    "plt.figure(figsize=(10,5))\n",
    "n, bins, patches = plt.hist(x=model_data2[\"TOTAL_AFFECTED\"].apply(lambda x: math.log(x)), \n",
    "                            bins=100, \n",
    "                            color='slategrey',\n",
    "                            alpha=0.7, \n",
    "                            rwidth=0.85)\n",
    "plt.grid(axis='y', alpha=0.75)\n",
    "plt.xlabel('log(Population affected)')\n",
    "plt.ylabel('Frequency')\n",
    "plt.title('Population affected by cyclones', fontsize= 16)\n",
    "maxfreq = n.max()\n",
    "# Set a clean upper y-axis limit.\n",
    "#plt.ylim(ymax=np.ceil(maxfreq / 10) * 10 if maxfreq % 10 else maxfreq + 10);\n"
   ]
  },
  {
   "cell_type": "markdown",
   "metadata": {},
   "source": [
    "Observed that the distribution of the logarithm natural of our target variable is approximately normal, so ``TOTAL_AFFECTED`` has a distribution log normal. For this reason, when studying the relevance of the categorical features as ``BASIN``, ``SUB BASIN`` and ``USA_SSHS`` in the target variable, we have considered take the aggregated function as the **mean** of the data.\n"
   ]
  },
  {
   "cell_type": "markdown",
   "metadata": {},
   "source": [
    "# 6. Feature engineering, handling categorical variables\n",
    "\n",
    "After seeing the relevance of certain variables for our model, we decided to keep ``GENERAL_CATEGORY`` as a categorical variable and ``SUB BASIN``. Also, we will introduce a boolean variable for landing or not landing:"
   ]
  },
  {
   "cell_type": "code",
   "execution_count": 80,
   "metadata": {},
   "outputs": [],
   "source": [
    "# get dummy variables\n",
    "model_data2 = pd.get_dummies(model_data2, columns=[\"GENERAL_CATEGORY\", \"INCOME_LEVEL\"], prefix = [\"GEN\", \"INCOME\"])"
   ]
  },
  {
   "cell_type": "code",
   "execution_count": 81,
   "metadata": {},
   "outputs": [],
   "source": [
    "model_data2[\"LANDING\"] = model_data2[\"DATE_LAND_START\"].apply(lambda x: 0 if x!=\"No landing\" else 1)"
   ]
  },
  {
   "cell_type": "markdown",
   "metadata": {},
   "source": [
    "Since we want to predict affected population, data about deaths and damage are a posteriori. Therefore, we drop those variables as well:"
   ]
  },
  {
   "cell_type": "code",
   "execution_count": 82,
   "metadata": {},
   "outputs": [],
   "source": [
    "apriori = model_data2.drop(columns = [\"DATE_LAND_START\", \"DATE_LAND_END\", \"MAX_USA_SSHS\", \"MAX_USA_SSHS_INLAND\", \"NATURE\", \"TOTAL_DEATHS\", \"TOTAL_DAMAGE_(000$)\"])"
   ]
  },
  {
   "cell_type": "code",
   "execution_count": 83,
   "metadata": {},
   "outputs": [
    {
     "data": {
      "text/html": [
       "<div>\n",
       "<style scoped>\n",
       "    .dataframe tbody tr th:only-of-type {\n",
       "        vertical-align: middle;\n",
       "    }\n",
       "\n",
       "    .dataframe tbody tr th {\n",
       "        vertical-align: top;\n",
       "    }\n",
       "\n",
       "    .dataframe thead th {\n",
       "        text-align: right;\n",
       "    }\n",
       "</style>\n",
       "<table border=\"1\" class=\"dataframe\">\n",
       "  <thead>\n",
       "    <tr style=\"text-align: right;\">\n",
       "      <th></th>\n",
       "      <th>SID</th>\n",
       "      <th>NAME</th>\n",
       "      <th>ISO</th>\n",
       "      <th>YEAR</th>\n",
       "      <th>SUB BASIN</th>\n",
       "      <th>MONTH_START</th>\n",
       "      <th>MONTH_END</th>\n",
       "      <th>DATE_START</th>\n",
       "      <th>DATE_END</th>\n",
       "      <th>TOTAL_HOURS_EVENT</th>\n",
       "      <th>TOTAL_HOURS_IN_LAND</th>\n",
       "      <th>LAT_MAX_WINDS</th>\n",
       "      <th>LON_MAX_WINDS</th>\n",
       "      <th>LAT_MIN_DIST2LAND</th>\n",
       "      <th>LON_MIN_DIST2LAND</th>\n",
       "      <th>MAX_WIND</th>\n",
       "      <th>MIN_PRES</th>\n",
       "      <th>MIN_DIST2LAND</th>\n",
       "      <th>MAX_STORMSPEED</th>\n",
       "      <th>V_LAND_KN</th>\n",
       "      <th>DISTANCE_TRACK</th>\n",
       "      <th>DISTANCE_TRACK_VINCENTY</th>\n",
       "      <th>34KN_POP</th>\n",
       "      <th>64KN_POP</th>\n",
       "      <th>96KN_POP</th>\n",
       "      <th>64KN_ASSETS</th>\n",
       "      <th>34KN_ASSETS</th>\n",
       "      <th>96KN_ASSETS</th>\n",
       "      <th>POP_DEN_SQ_KM</th>\n",
       "      <th>RURAL_POP</th>\n",
       "      <th>RURAL_POP(%)</th>\n",
       "      <th>HDI</th>\n",
       "      <th>ARABLE_LAND</th>\n",
       "      <th>CEREAL_YIELD</th>\n",
       "      <th>FOOD_PRODUCTION_INDEX</th>\n",
       "      <th>GDP_PC</th>\n",
       "      <th>NET_FLOWS_FROM_UN</th>\n",
       "      <th>LIFE_EXPECTANCY</th>\n",
       "      <th>EDUCATION_EXPENDITURE</th>\n",
       "      <th>POP_MAX_34_ADJ</th>\n",
       "      <th>POP_MAX_50_ADJ</th>\n",
       "      <th>POP_MAX_64_ADJ</th>\n",
       "      <th>TOTAL_AFFECTED</th>\n",
       "      <th>GEN_Cat 1</th>\n",
       "      <th>GEN_Cat 2</th>\n",
       "      <th>GEN_Cat 3</th>\n",
       "      <th>GEN_Cat 4</th>\n",
       "      <th>GEN_Cat 5</th>\n",
       "      <th>GEN_TD</th>\n",
       "      <th>GEN_TS</th>\n",
       "      <th>INCOME_High</th>\n",
       "      <th>INCOME_High_Middle</th>\n",
       "      <th>INCOME_Low</th>\n",
       "      <th>INCOME_Low_Middle</th>\n",
       "      <th>LANDING</th>\n",
       "    </tr>\n",
       "  </thead>\n",
       "  <tbody>\n",
       "    <tr>\n",
       "      <td>0</td>\n",
       "      <td>1949163N07145</td>\n",
       "      <td>DELLA</td>\n",
       "      <td>JPN</td>\n",
       "      <td>1949</td>\n",
       "      <td>WP</td>\n",
       "      <td>6</td>\n",
       "      <td>6</td>\n",
       "      <td>1949-06-19 09:00:00</td>\n",
       "      <td>1949-06-24 06:00:00</td>\n",
       "      <td>117.0</td>\n",
       "      <td>60.0</td>\n",
       "      <td>28.91410</td>\n",
       "      <td>129.5730</td>\n",
       "      <td>33.5183</td>\n",
       "      <td>130.973</td>\n",
       "      <td>116.0</td>\n",
       "      <td>952</td>\n",
       "      <td>0</td>\n",
       "      <td>33.0</td>\n",
       "      <td>99.82</td>\n",
       "      <td>3889.480640</td>\n",
       "      <td>3632.626180</td>\n",
       "      <td>NaN</td>\n",
       "      <td>NaN</td>\n",
       "      <td>NaN</td>\n",
       "      <td>NaN</td>\n",
       "      <td>NaN</td>\n",
       "      <td>NaN</td>\n",
       "      <td>195.0</td>\n",
       "      <td>63072400.0</td>\n",
       "      <td>77.20</td>\n",
       "      <td>0.816</td>\n",
       "      <td>0.059615</td>\n",
       "      <td>4173.500000</td>\n",
       "      <td>67.790000</td>\n",
       "      <td>8607.657082</td>\n",
       "      <td>0.0</td>\n",
       "      <td>67.666098</td>\n",
       "      <td>2.867878</td>\n",
       "      <td>1.198300e+07</td>\n",
       "      <td>5.803981e+09</td>\n",
       "      <td>3.320907e+09</td>\n",
       "      <td>194046</td>\n",
       "      <td>0</td>\n",
       "      <td>0</td>\n",
       "      <td>0</td>\n",
       "      <td>1</td>\n",
       "      <td>0</td>\n",
       "      <td>0</td>\n",
       "      <td>0</td>\n",
       "      <td>0</td>\n",
       "      <td>0</td>\n",
       "      <td>1</td>\n",
       "      <td>0</td>\n",
       "      <td>0</td>\n",
       "    </tr>\n",
       "    <tr>\n",
       "      <td>1</td>\n",
       "      <td>1950241N23140</td>\n",
       "      <td>JANE</td>\n",
       "      <td>JPN</td>\n",
       "      <td>1950</td>\n",
       "      <td>WP</td>\n",
       "      <td>8</td>\n",
       "      <td>9</td>\n",
       "      <td>1950-08-30 03:00:00</td>\n",
       "      <td>1950-05-09 00:00:00</td>\n",
       "      <td>141.0</td>\n",
       "      <td>21.0</td>\n",
       "      <td>29.12010</td>\n",
       "      <td>133.7620</td>\n",
       "      <td>36.1016</td>\n",
       "      <td>136.095</td>\n",
       "      <td>116.0</td>\n",
       "      <td>940</td>\n",
       "      <td>0</td>\n",
       "      <td>31.0</td>\n",
       "      <td>99.82</td>\n",
       "      <td>3596.090691</td>\n",
       "      <td>2787.480021</td>\n",
       "      <td>NaN</td>\n",
       "      <td>NaN</td>\n",
       "      <td>NaN</td>\n",
       "      <td>NaN</td>\n",
       "      <td>NaN</td>\n",
       "      <td>NaN</td>\n",
       "      <td>227.0</td>\n",
       "      <td>38916000.0</td>\n",
       "      <td>47.00</td>\n",
       "      <td>0.816</td>\n",
       "      <td>0.059615</td>\n",
       "      <td>4173.500000</td>\n",
       "      <td>67.790000</td>\n",
       "      <td>8607.657082</td>\n",
       "      <td>0.0</td>\n",
       "      <td>67.666098</td>\n",
       "      <td>2.867878</td>\n",
       "      <td>3.160822e+07</td>\n",
       "      <td>1.559196e+07</td>\n",
       "      <td>1.018936e+07</td>\n",
       "      <td>642117</td>\n",
       "      <td>0</td>\n",
       "      <td>0</td>\n",
       "      <td>0</td>\n",
       "      <td>1</td>\n",
       "      <td>0</td>\n",
       "      <td>0</td>\n",
       "      <td>0</td>\n",
       "      <td>0</td>\n",
       "      <td>0</td>\n",
       "      <td>1</td>\n",
       "      <td>0</td>\n",
       "      <td>0</td>\n",
       "    </tr>\n",
       "    <tr>\n",
       "      <td>2</td>\n",
       "      <td>1951224N12316</td>\n",
       "      <td>CHARLIE</td>\n",
       "      <td>JAM</td>\n",
       "      <td>1951</td>\n",
       "      <td>CS</td>\n",
       "      <td>8</td>\n",
       "      <td>8</td>\n",
       "      <td>1951-08-17 21:00:00</td>\n",
       "      <td>1951-08-18 12:00:00</td>\n",
       "      <td>15.0</td>\n",
       "      <td>3.0</td>\n",
       "      <td>17.60000</td>\n",
       "      <td>-76.2000</td>\n",
       "      <td>17.9000</td>\n",
       "      <td>-76.900</td>\n",
       "      <td>110.0</td>\n",
       "      <td>0</td>\n",
       "      <td>0</td>\n",
       "      <td>17.0</td>\n",
       "      <td>132.40</td>\n",
       "      <td>438.214691</td>\n",
       "      <td>435.729082</td>\n",
       "      <td>2788659.0</td>\n",
       "      <td>2788659.0</td>\n",
       "      <td>2552903.0</td>\n",
       "      <td>2.148198e+10</td>\n",
       "      <td>2.148198e+10</td>\n",
       "      <td>1.948346e+10</td>\n",
       "      <td>133.0</td>\n",
       "      <td>953712.0</td>\n",
       "      <td>66.23</td>\n",
       "      <td>0.668</td>\n",
       "      <td>0.100541</td>\n",
       "      <td>868.300000</td>\n",
       "      <td>69.930000</td>\n",
       "      <td>3796.219401</td>\n",
       "      <td>0.0</td>\n",
       "      <td>64.770000</td>\n",
       "      <td>2.578304</td>\n",
       "      <td>1.689243e+09</td>\n",
       "      <td>1.687083e+06</td>\n",
       "      <td>1.195052e+09</td>\n",
       "      <td>20200</td>\n",
       "      <td>0</td>\n",
       "      <td>0</td>\n",
       "      <td>1</td>\n",
       "      <td>0</td>\n",
       "      <td>0</td>\n",
       "      <td>0</td>\n",
       "      <td>0</td>\n",
       "      <td>0</td>\n",
       "      <td>0</td>\n",
       "      <td>1</td>\n",
       "      <td>0</td>\n",
       "      <td>0</td>\n",
       "    </tr>\n",
       "    <tr>\n",
       "      <td>3</td>\n",
       "      <td>1951337N09150</td>\n",
       "      <td>AMY</td>\n",
       "      <td>PHL</td>\n",
       "      <td>1951</td>\n",
       "      <td>WP</td>\n",
       "      <td>12</td>\n",
       "      <td>12</td>\n",
       "      <td>1951-07-12 09:00:00</td>\n",
       "      <td>1951-12-17 00:00:00</td>\n",
       "      <td>231.0</td>\n",
       "      <td>36.0</td>\n",
       "      <td>11.78330</td>\n",
       "      <td>127.9000</td>\n",
       "      <td>10.5340</td>\n",
       "      <td>123.174</td>\n",
       "      <td>120.0</td>\n",
       "      <td>924</td>\n",
       "      <td>0</td>\n",
       "      <td>11.0</td>\n",
       "      <td>119.20</td>\n",
       "      <td>2238.058669</td>\n",
       "      <td>1905.587795</td>\n",
       "      <td>20464826.0</td>\n",
       "      <td>12675908.0</td>\n",
       "      <td>5618193.0</td>\n",
       "      <td>1.131050e+11</td>\n",
       "      <td>1.880280e+11</td>\n",
       "      <td>4.897333e+10</td>\n",
       "      <td>64.5</td>\n",
       "      <td>14467200.0</td>\n",
       "      <td>75.35</td>\n",
       "      <td>0.590</td>\n",
       "      <td>0.180442</td>\n",
       "      <td>996.300000</td>\n",
       "      <td>25.680000</td>\n",
       "      <td>1059.467412</td>\n",
       "      <td>0.0</td>\n",
       "      <td>61105.000000</td>\n",
       "      <td>2.757732</td>\n",
       "      <td>4.760039e+09</td>\n",
       "      <td>3.006670e+09</td>\n",
       "      <td>1.114774e+06</td>\n",
       "      <td>60000</td>\n",
       "      <td>0</td>\n",
       "      <td>0</td>\n",
       "      <td>0</td>\n",
       "      <td>1</td>\n",
       "      <td>0</td>\n",
       "      <td>0</td>\n",
       "      <td>0</td>\n",
       "      <td>0</td>\n",
       "      <td>0</td>\n",
       "      <td>0</td>\n",
       "      <td>1</td>\n",
       "      <td>0</td>\n",
       "    </tr>\n",
       "    <tr>\n",
       "      <td>4</td>\n",
       "      <td>1952180N05144</td>\n",
       "      <td>EMMA</td>\n",
       "      <td>PHL</td>\n",
       "      <td>1952</td>\n",
       "      <td>WP</td>\n",
       "      <td>7</td>\n",
       "      <td>7</td>\n",
       "      <td>1952-01-07 06:00:00</td>\n",
       "      <td>1952-04-07 18:00:00</td>\n",
       "      <td>84.0</td>\n",
       "      <td>9.0</td>\n",
       "      <td>9.56613</td>\n",
       "      <td>127.7910</td>\n",
       "      <td>10.6492</td>\n",
       "      <td>123.239</td>\n",
       "      <td>110.0</td>\n",
       "      <td>968</td>\n",
       "      <td>0</td>\n",
       "      <td>15.0</td>\n",
       "      <td>110691.00</td>\n",
       "      <td>1876.186790</td>\n",
       "      <td>1797.712213</td>\n",
       "      <td>NaN</td>\n",
       "      <td>NaN</td>\n",
       "      <td>NaN</td>\n",
       "      <td>NaN</td>\n",
       "      <td>NaN</td>\n",
       "      <td>NaN</td>\n",
       "      <td>66.9</td>\n",
       "      <td>14409590.0</td>\n",
       "      <td>72.41</td>\n",
       "      <td>0.590</td>\n",
       "      <td>0.180442</td>\n",
       "      <td>996.300000</td>\n",
       "      <td>25.680000</td>\n",
       "      <td>1059.467412</td>\n",
       "      <td>0.0</td>\n",
       "      <td>61105.000000</td>\n",
       "      <td>2.757732</td>\n",
       "      <td>5.130796e+09</td>\n",
       "      <td>2.789486e+06</td>\n",
       "      <td>1.988524e+09</td>\n",
       "      <td>103</td>\n",
       "      <td>0</td>\n",
       "      <td>0</td>\n",
       "      <td>1</td>\n",
       "      <td>0</td>\n",
       "      <td>0</td>\n",
       "      <td>0</td>\n",
       "      <td>0</td>\n",
       "      <td>0</td>\n",
       "      <td>0</td>\n",
       "      <td>0</td>\n",
       "      <td>1</td>\n",
       "      <td>0</td>\n",
       "    </tr>\n",
       "    <tr>\n",
       "      <td>...</td>\n",
       "      <td>...</td>\n",
       "      <td>...</td>\n",
       "      <td>...</td>\n",
       "      <td>...</td>\n",
       "      <td>...</td>\n",
       "      <td>...</td>\n",
       "      <td>...</td>\n",
       "      <td>...</td>\n",
       "      <td>...</td>\n",
       "      <td>...</td>\n",
       "      <td>...</td>\n",
       "      <td>...</td>\n",
       "      <td>...</td>\n",
       "      <td>...</td>\n",
       "      <td>...</td>\n",
       "      <td>...</td>\n",
       "      <td>...</td>\n",
       "      <td>...</td>\n",
       "      <td>...</td>\n",
       "      <td>...</td>\n",
       "      <td>...</td>\n",
       "      <td>...</td>\n",
       "      <td>...</td>\n",
       "      <td>...</td>\n",
       "      <td>...</td>\n",
       "      <td>...</td>\n",
       "      <td>...</td>\n",
       "      <td>...</td>\n",
       "      <td>...</td>\n",
       "      <td>...</td>\n",
       "      <td>...</td>\n",
       "      <td>...</td>\n",
       "      <td>...</td>\n",
       "      <td>...</td>\n",
       "      <td>...</td>\n",
       "      <td>...</td>\n",
       "      <td>...</td>\n",
       "      <td>...</td>\n",
       "      <td>...</td>\n",
       "      <td>...</td>\n",
       "      <td>...</td>\n",
       "      <td>...</td>\n",
       "      <td>...</td>\n",
       "      <td>...</td>\n",
       "      <td>...</td>\n",
       "      <td>...</td>\n",
       "      <td>...</td>\n",
       "      <td>...</td>\n",
       "      <td>...</td>\n",
       "      <td>...</td>\n",
       "      <td>...</td>\n",
       "      <td>...</td>\n",
       "      <td>...</td>\n",
       "      <td>...</td>\n",
       "      <td>...</td>\n",
       "    </tr>\n",
       "    <tr>\n",
       "      <td>986</td>\n",
       "      <td>2019068S17040</td>\n",
       "      <td>IDAI</td>\n",
       "      <td>MOZ</td>\n",
       "      <td>2019</td>\n",
       "      <td>SI</td>\n",
       "      <td>3</td>\n",
       "      <td>3</td>\n",
       "      <td>2019-09-03 06:00:00</td>\n",
       "      <td>2019-03-14 12:00:00</td>\n",
       "      <td>126.0</td>\n",
       "      <td>0.0</td>\n",
       "      <td>-19.75000</td>\n",
       "      <td>37.5758</td>\n",
       "      <td>-17.0000</td>\n",
       "      <td>40.200</td>\n",
       "      <td>105.0</td>\n",
       "      <td>944</td>\n",
       "      <td>70</td>\n",
       "      <td>12.0</td>\n",
       "      <td>151.20</td>\n",
       "      <td>957.628405</td>\n",
       "      <td>522.204526</td>\n",
       "      <td>NaN</td>\n",
       "      <td>NaN</td>\n",
       "      <td>NaN</td>\n",
       "      <td>NaN</td>\n",
       "      <td>NaN</td>\n",
       "      <td>NaN</td>\n",
       "      <td>39.9</td>\n",
       "      <td>19486400.0</td>\n",
       "      <td>64.10</td>\n",
       "      <td>0.217</td>\n",
       "      <td>0.204973</td>\n",
       "      <td>831.865274</td>\n",
       "      <td>147.309625</td>\n",
       "      <td>585.650609</td>\n",
       "      <td>0.0</td>\n",
       "      <td>58.508514</td>\n",
       "      <td>5.380000</td>\n",
       "      <td>2.396895e+09</td>\n",
       "      <td>0.000000e+00</td>\n",
       "      <td>0.000000e+00</td>\n",
       "      <td>1501500</td>\n",
       "      <td>0</td>\n",
       "      <td>0</td>\n",
       "      <td>1</td>\n",
       "      <td>0</td>\n",
       "      <td>0</td>\n",
       "      <td>0</td>\n",
       "      <td>0</td>\n",
       "      <td>0</td>\n",
       "      <td>0</td>\n",
       "      <td>1</td>\n",
       "      <td>0</td>\n",
       "      <td>1</td>\n",
       "    </tr>\n",
       "    <tr>\n",
       "      <td>987</td>\n",
       "      <td>2019068S17040</td>\n",
       "      <td>IDAI</td>\n",
       "      <td>MDG</td>\n",
       "      <td>2019</td>\n",
       "      <td>SI</td>\n",
       "      <td>3</td>\n",
       "      <td>3</td>\n",
       "      <td>2019-09-03 21:00:00</td>\n",
       "      <td>2019-12-03 12:00:00</td>\n",
       "      <td>63.0</td>\n",
       "      <td>0.0</td>\n",
       "      <td>-17.64990</td>\n",
       "      <td>42.5424</td>\n",
       "      <td>-17.3000</td>\n",
       "      <td>43.200</td>\n",
       "      <td>105.0</td>\n",
       "      <td>956</td>\n",
       "      <td>77</td>\n",
       "      <td>7.0</td>\n",
       "      <td>151.20</td>\n",
       "      <td>404.150545</td>\n",
       "      <td>211.930107</td>\n",
       "      <td>NaN</td>\n",
       "      <td>NaN</td>\n",
       "      <td>NaN</td>\n",
       "      <td>NaN</td>\n",
       "      <td>NaN</td>\n",
       "      <td>NaN</td>\n",
       "      <td>46.4</td>\n",
       "      <td>16767000.0</td>\n",
       "      <td>62.10</td>\n",
       "      <td>0.404</td>\n",
       "      <td>0.141861</td>\n",
       "      <td>3825.634771</td>\n",
       "      <td>121.054617</td>\n",
       "      <td>478.761938</td>\n",
       "      <td>0.0</td>\n",
       "      <td>66.012095</td>\n",
       "      <td>2.080000</td>\n",
       "      <td>2.341183e+05</td>\n",
       "      <td>0.000000e+00</td>\n",
       "      <td>0.000000e+00</td>\n",
       "      <td>1100</td>\n",
       "      <td>0</td>\n",
       "      <td>0</td>\n",
       "      <td>1</td>\n",
       "      <td>0</td>\n",
       "      <td>0</td>\n",
       "      <td>0</td>\n",
       "      <td>0</td>\n",
       "      <td>0</td>\n",
       "      <td>0</td>\n",
       "      <td>1</td>\n",
       "      <td>0</td>\n",
       "      <td>1</td>\n",
       "    </tr>\n",
       "    <tr>\n",
       "      <td>988</td>\n",
       "      <td>2019113S10051</td>\n",
       "      <td>KENNETH</td>\n",
       "      <td>COM</td>\n",
       "      <td>2019</td>\n",
       "      <td>SI</td>\n",
       "      <td>4</td>\n",
       "      <td>4</td>\n",
       "      <td>2019-04-24 03:00:00</td>\n",
       "      <td>2019-04-25 06:00:00</td>\n",
       "      <td>27.0</td>\n",
       "      <td>0.0</td>\n",
       "      <td>-11.60000</td>\n",
       "      <td>41.8000</td>\n",
       "      <td>-11.6000</td>\n",
       "      <td>41.800</td>\n",
       "      <td>124.0</td>\n",
       "      <td>937</td>\n",
       "      <td>138</td>\n",
       "      <td>13.0</td>\n",
       "      <td>118.80</td>\n",
       "      <td>486.400190</td>\n",
       "      <td>484.370217</td>\n",
       "      <td>NaN</td>\n",
       "      <td>NaN</td>\n",
       "      <td>NaN</td>\n",
       "      <td>NaN</td>\n",
       "      <td>NaN</td>\n",
       "      <td>NaN</td>\n",
       "      <td>457.0</td>\n",
       "      <td>604550.4</td>\n",
       "      <td>71.04</td>\n",
       "      <td>0.402</td>\n",
       "      <td>0.082332</td>\n",
       "      <td>1354.663449</td>\n",
       "      <td>108.375163</td>\n",
       "      <td>1375.714129</td>\n",
       "      <td>0.0</td>\n",
       "      <td>63.742834</td>\n",
       "      <td>4.326607</td>\n",
       "      <td>NaN</td>\n",
       "      <td>NaN</td>\n",
       "      <td>NaN</td>\n",
       "      <td>345311</td>\n",
       "      <td>0</td>\n",
       "      <td>0</td>\n",
       "      <td>0</td>\n",
       "      <td>1</td>\n",
       "      <td>0</td>\n",
       "      <td>0</td>\n",
       "      <td>0</td>\n",
       "      <td>0</td>\n",
       "      <td>0</td>\n",
       "      <td>0</td>\n",
       "      <td>1</td>\n",
       "      <td>1</td>\n",
       "    </tr>\n",
       "    <tr>\n",
       "      <td>989</td>\n",
       "      <td>2019113S10051</td>\n",
       "      <td>KENNETH</td>\n",
       "      <td>MOZ</td>\n",
       "      <td>2019</td>\n",
       "      <td>SI</td>\n",
       "      <td>4</td>\n",
       "      <td>4</td>\n",
       "      <td>2019-04-25 09:00:00</td>\n",
       "      <td>2019-04-26 12:00:00</td>\n",
       "      <td>27.0</td>\n",
       "      <td>21.0</td>\n",
       "      <td>-11.85760</td>\n",
       "      <td>41.2852</td>\n",
       "      <td>-12.5000</td>\n",
       "      <td>39.300</td>\n",
       "      <td>121.0</td>\n",
       "      <td>939</td>\n",
       "      <td>0</td>\n",
       "      <td>11.0</td>\n",
       "      <td>119.00</td>\n",
       "      <td>336.098173</td>\n",
       "      <td>304.360948</td>\n",
       "      <td>NaN</td>\n",
       "      <td>NaN</td>\n",
       "      <td>NaN</td>\n",
       "      <td>NaN</td>\n",
       "      <td>NaN</td>\n",
       "      <td>NaN</td>\n",
       "      <td>39.9</td>\n",
       "      <td>19486400.0</td>\n",
       "      <td>64.10</td>\n",
       "      <td>0.217</td>\n",
       "      <td>0.204973</td>\n",
       "      <td>831.865274</td>\n",
       "      <td>147.309625</td>\n",
       "      <td>585.650609</td>\n",
       "      <td>0.0</td>\n",
       "      <td>58.508514</td>\n",
       "      <td>5.380000</td>\n",
       "      <td>3.758703e+09</td>\n",
       "      <td>7.220010e+05</td>\n",
       "      <td>1.563119e+05</td>\n",
       "      <td>400094</td>\n",
       "      <td>0</td>\n",
       "      <td>0</td>\n",
       "      <td>0</td>\n",
       "      <td>1</td>\n",
       "      <td>0</td>\n",
       "      <td>0</td>\n",
       "      <td>0</td>\n",
       "      <td>0</td>\n",
       "      <td>0</td>\n",
       "      <td>1</td>\n",
       "      <td>0</td>\n",
       "      <td>0</td>\n",
       "    </tr>\n",
       "    <tr>\n",
       "      <td>990</td>\n",
       "      <td>2019117N05088</td>\n",
       "      <td>FANI</td>\n",
       "      <td>IND</td>\n",
       "      <td>2019</td>\n",
       "      <td>BB</td>\n",
       "      <td>4</td>\n",
       "      <td>5</td>\n",
       "      <td>2019-04-27 15:00:00</td>\n",
       "      <td>2019-03-05 06:00:00</td>\n",
       "      <td>135.0</td>\n",
       "      <td>0.0</td>\n",
       "      <td>17.96500</td>\n",
       "      <td>84.8550</td>\n",
       "      <td>20.2000</td>\n",
       "      <td>85.800</td>\n",
       "      <td>134.0</td>\n",
       "      <td>917</td>\n",
       "      <td>0</td>\n",
       "      <td>13.0</td>\n",
       "      <td>116.00</td>\n",
       "      <td>1794.999316</td>\n",
       "      <td>1501.754117</td>\n",
       "      <td>NaN</td>\n",
       "      <td>NaN</td>\n",
       "      <td>NaN</td>\n",
       "      <td>NaN</td>\n",
       "      <td>NaN</td>\n",
       "      <td>NaN</td>\n",
       "      <td>460.0</td>\n",
       "      <td>890500000.0</td>\n",
       "      <td>65.00</td>\n",
       "      <td>0.431</td>\n",
       "      <td>0.118557</td>\n",
       "      <td>3052.617393</td>\n",
       "      <td>143.457277</td>\n",
       "      <td>1924.388377</td>\n",
       "      <td>0.0</td>\n",
       "      <td>68.951141</td>\n",
       "      <td>3.080000</td>\n",
       "      <td>7.746583e+07</td>\n",
       "      <td>2.173444e+06</td>\n",
       "      <td>3.605117e+04</td>\n",
       "      <td>20000000</td>\n",
       "      <td>0</td>\n",
       "      <td>0</td>\n",
       "      <td>0</td>\n",
       "      <td>1</td>\n",
       "      <td>0</td>\n",
       "      <td>0</td>\n",
       "      <td>0</td>\n",
       "      <td>0</td>\n",
       "      <td>0</td>\n",
       "      <td>0</td>\n",
       "      <td>1</td>\n",
       "      <td>0</td>\n",
       "    </tr>\n",
       "  </tbody>\n",
       "</table>\n",
       "<p>991 rows × 55 columns</p>\n",
       "</div>"
      ],
      "text/plain": [
       "               SID     NAME  ISO  YEAR SUB BASIN  MONTH_START  MONTH_END  \\\n",
       "0    1949163N07145    DELLA  JPN  1949        WP            6          6   \n",
       "1    1950241N23140     JANE  JPN  1950        WP            8          9   \n",
       "2    1951224N12316  CHARLIE  JAM  1951        CS            8          8   \n",
       "3    1951337N09150      AMY  PHL  1951        WP           12         12   \n",
       "4    1952180N05144     EMMA  PHL  1952        WP            7          7   \n",
       "..             ...      ...  ...   ...       ...          ...        ...   \n",
       "986  2019068S17040     IDAI  MOZ  2019        SI            3          3   \n",
       "987  2019068S17040     IDAI  MDG  2019        SI            3          3   \n",
       "988  2019113S10051  KENNETH  COM  2019        SI            4          4   \n",
       "989  2019113S10051  KENNETH  MOZ  2019        SI            4          4   \n",
       "990  2019117N05088     FANI  IND  2019        BB            4          5   \n",
       "\n",
       "             DATE_START            DATE_END  TOTAL_HOURS_EVENT  \\\n",
       "0   1949-06-19 09:00:00 1949-06-24 06:00:00              117.0   \n",
       "1   1950-08-30 03:00:00 1950-05-09 00:00:00              141.0   \n",
       "2   1951-08-17 21:00:00 1951-08-18 12:00:00               15.0   \n",
       "3   1951-07-12 09:00:00 1951-12-17 00:00:00              231.0   \n",
       "4   1952-01-07 06:00:00 1952-04-07 18:00:00               84.0   \n",
       "..                  ...                 ...                ...   \n",
       "986 2019-09-03 06:00:00 2019-03-14 12:00:00              126.0   \n",
       "987 2019-09-03 21:00:00 2019-12-03 12:00:00               63.0   \n",
       "988 2019-04-24 03:00:00 2019-04-25 06:00:00               27.0   \n",
       "989 2019-04-25 09:00:00 2019-04-26 12:00:00               27.0   \n",
       "990 2019-04-27 15:00:00 2019-03-05 06:00:00              135.0   \n",
       "\n",
       "     TOTAL_HOURS_IN_LAND  LAT_MAX_WINDS  LON_MAX_WINDS  LAT_MIN_DIST2LAND  \\\n",
       "0                   60.0       28.91410       129.5730            33.5183   \n",
       "1                   21.0       29.12010       133.7620            36.1016   \n",
       "2                    3.0       17.60000       -76.2000            17.9000   \n",
       "3                   36.0       11.78330       127.9000            10.5340   \n",
       "4                    9.0        9.56613       127.7910            10.6492   \n",
       "..                   ...            ...            ...                ...   \n",
       "986                  0.0      -19.75000        37.5758           -17.0000   \n",
       "987                  0.0      -17.64990        42.5424           -17.3000   \n",
       "988                  0.0      -11.60000        41.8000           -11.6000   \n",
       "989                 21.0      -11.85760        41.2852           -12.5000   \n",
       "990                  0.0       17.96500        84.8550            20.2000   \n",
       "\n",
       "     LON_MIN_DIST2LAND  MAX_WIND  MIN_PRES  MIN_DIST2LAND  MAX_STORMSPEED  \\\n",
       "0              130.973     116.0       952              0            33.0   \n",
       "1              136.095     116.0       940              0            31.0   \n",
       "2              -76.900     110.0         0              0            17.0   \n",
       "3              123.174     120.0       924              0            11.0   \n",
       "4              123.239     110.0       968              0            15.0   \n",
       "..                 ...       ...       ...            ...             ...   \n",
       "986             40.200     105.0       944             70            12.0   \n",
       "987             43.200     105.0       956             77             7.0   \n",
       "988             41.800     124.0       937            138            13.0   \n",
       "989             39.300     121.0       939              0            11.0   \n",
       "990             85.800     134.0       917              0            13.0   \n",
       "\n",
       "     V_LAND_KN  DISTANCE_TRACK  DISTANCE_TRACK_VINCENTY    34KN_POP  \\\n",
       "0        99.82     3889.480640              3632.626180         NaN   \n",
       "1        99.82     3596.090691              2787.480021         NaN   \n",
       "2       132.40      438.214691               435.729082   2788659.0   \n",
       "3       119.20     2238.058669              1905.587795  20464826.0   \n",
       "4    110691.00     1876.186790              1797.712213         NaN   \n",
       "..         ...             ...                      ...         ...   \n",
       "986     151.20      957.628405               522.204526         NaN   \n",
       "987     151.20      404.150545               211.930107         NaN   \n",
       "988     118.80      486.400190               484.370217         NaN   \n",
       "989     119.00      336.098173               304.360948         NaN   \n",
       "990     116.00     1794.999316              1501.754117         NaN   \n",
       "\n",
       "       64KN_POP   96KN_POP   64KN_ASSETS   34KN_ASSETS   96KN_ASSETS  \\\n",
       "0           NaN        NaN           NaN           NaN           NaN   \n",
       "1           NaN        NaN           NaN           NaN           NaN   \n",
       "2     2788659.0  2552903.0  2.148198e+10  2.148198e+10  1.948346e+10   \n",
       "3    12675908.0  5618193.0  1.131050e+11  1.880280e+11  4.897333e+10   \n",
       "4           NaN        NaN           NaN           NaN           NaN   \n",
       "..          ...        ...           ...           ...           ...   \n",
       "986         NaN        NaN           NaN           NaN           NaN   \n",
       "987         NaN        NaN           NaN           NaN           NaN   \n",
       "988         NaN        NaN           NaN           NaN           NaN   \n",
       "989         NaN        NaN           NaN           NaN           NaN   \n",
       "990         NaN        NaN           NaN           NaN           NaN   \n",
       "\n",
       "     POP_DEN_SQ_KM    RURAL_POP  RURAL_POP(%)    HDI  ARABLE_LAND  \\\n",
       "0            195.0   63072400.0         77.20  0.816     0.059615   \n",
       "1            227.0   38916000.0         47.00  0.816     0.059615   \n",
       "2            133.0     953712.0         66.23  0.668     0.100541   \n",
       "3             64.5   14467200.0         75.35  0.590     0.180442   \n",
       "4             66.9   14409590.0         72.41  0.590     0.180442   \n",
       "..             ...          ...           ...    ...          ...   \n",
       "986           39.9   19486400.0         64.10  0.217     0.204973   \n",
       "987           46.4   16767000.0         62.10  0.404     0.141861   \n",
       "988          457.0     604550.4         71.04  0.402     0.082332   \n",
       "989           39.9   19486400.0         64.10  0.217     0.204973   \n",
       "990          460.0  890500000.0         65.00  0.431     0.118557   \n",
       "\n",
       "     CEREAL_YIELD  FOOD_PRODUCTION_INDEX       GDP_PC  NET_FLOWS_FROM_UN  \\\n",
       "0     4173.500000              67.790000  8607.657082                0.0   \n",
       "1     4173.500000              67.790000  8607.657082                0.0   \n",
       "2      868.300000              69.930000  3796.219401                0.0   \n",
       "3      996.300000              25.680000  1059.467412                0.0   \n",
       "4      996.300000              25.680000  1059.467412                0.0   \n",
       "..            ...                    ...          ...                ...   \n",
       "986    831.865274             147.309625   585.650609                0.0   \n",
       "987   3825.634771             121.054617   478.761938                0.0   \n",
       "988   1354.663449             108.375163  1375.714129                0.0   \n",
       "989    831.865274             147.309625   585.650609                0.0   \n",
       "990   3052.617393             143.457277  1924.388377                0.0   \n",
       "\n",
       "     LIFE_EXPECTANCY  EDUCATION_EXPENDITURE  POP_MAX_34_ADJ  POP_MAX_50_ADJ  \\\n",
       "0          67.666098               2.867878    1.198300e+07    5.803981e+09   \n",
       "1          67.666098               2.867878    3.160822e+07    1.559196e+07   \n",
       "2          64.770000               2.578304    1.689243e+09    1.687083e+06   \n",
       "3       61105.000000               2.757732    4.760039e+09    3.006670e+09   \n",
       "4       61105.000000               2.757732    5.130796e+09    2.789486e+06   \n",
       "..               ...                    ...             ...             ...   \n",
       "986        58.508514               5.380000    2.396895e+09    0.000000e+00   \n",
       "987        66.012095               2.080000    2.341183e+05    0.000000e+00   \n",
       "988        63.742834               4.326607             NaN             NaN   \n",
       "989        58.508514               5.380000    3.758703e+09    7.220010e+05   \n",
       "990        68.951141               3.080000    7.746583e+07    2.173444e+06   \n",
       "\n",
       "     POP_MAX_64_ADJ  TOTAL_AFFECTED  GEN_Cat 1  GEN_Cat 2  GEN_Cat 3  \\\n",
       "0      3.320907e+09          194046          0          0          0   \n",
       "1      1.018936e+07          642117          0          0          0   \n",
       "2      1.195052e+09           20200          0          0          1   \n",
       "3      1.114774e+06           60000          0          0          0   \n",
       "4      1.988524e+09             103          0          0          1   \n",
       "..              ...             ...        ...        ...        ...   \n",
       "986    0.000000e+00         1501500          0          0          1   \n",
       "987    0.000000e+00            1100          0          0          1   \n",
       "988             NaN          345311          0          0          0   \n",
       "989    1.563119e+05          400094          0          0          0   \n",
       "990    3.605117e+04        20000000          0          0          0   \n",
       "\n",
       "     GEN_Cat 4  GEN_Cat 5  GEN_TD  GEN_TS  INCOME_High  INCOME_High_Middle  \\\n",
       "0            1          0       0       0            0                   0   \n",
       "1            1          0       0       0            0                   0   \n",
       "2            0          0       0       0            0                   0   \n",
       "3            1          0       0       0            0                   0   \n",
       "4            0          0       0       0            0                   0   \n",
       "..         ...        ...     ...     ...          ...                 ...   \n",
       "986          0          0       0       0            0                   0   \n",
       "987          0          0       0       0            0                   0   \n",
       "988          1          0       0       0            0                   0   \n",
       "989          1          0       0       0            0                   0   \n",
       "990          1          0       0       0            0                   0   \n",
       "\n",
       "     INCOME_Low  INCOME_Low_Middle  LANDING  \n",
       "0             1                  0        0  \n",
       "1             1                  0        0  \n",
       "2             1                  0        0  \n",
       "3             0                  1        0  \n",
       "4             0                  1        0  \n",
       "..          ...                ...      ...  \n",
       "986           1                  0        1  \n",
       "987           1                  0        1  \n",
       "988           0                  1        1  \n",
       "989           1                  0        0  \n",
       "990           0                  1        0  \n",
       "\n",
       "[991 rows x 55 columns]"
      ]
     },
     "execution_count": 83,
     "metadata": {},
     "output_type": "execute_result"
    }
   ],
   "source": [
    "apriori"
   ]
  },
  {
   "cell_type": "markdown",
   "metadata": {},
   "source": [
    "### 6.5.1. **What are the most correlated variables with ``TOTAL_AFFECTED``?**"
   ]
  },
  {
   "cell_type": "code",
   "execution_count": 115,
   "metadata": {},
   "outputs": [
    {
     "data": {
      "text/html": [
       "<div>\n",
       "<style scoped>\n",
       "    .dataframe tbody tr th:only-of-type {\n",
       "        vertical-align: middle;\n",
       "    }\n",
       "\n",
       "    .dataframe tbody tr th {\n",
       "        vertical-align: top;\n",
       "    }\n",
       "\n",
       "    .dataframe thead th {\n",
       "        text-align: right;\n",
       "    }\n",
       "</style>\n",
       "<table border=\"1\" class=\"dataframe\">\n",
       "  <thead>\n",
       "    <tr style=\"text-align: right;\">\n",
       "      <th></th>\n",
       "      <th>Features</th>\n",
       "      <th>Correlation coeficient</th>\n",
       "    </tr>\n",
       "  </thead>\n",
       "  <tbody>\n",
       "    <tr>\n",
       "      <td>1</td>\n",
       "      <td>TOTAL_DEATHS</td>\n",
       "      <td>0.521623</td>\n",
       "    </tr>\n",
       "    <tr>\n",
       "      <td>2</td>\n",
       "      <td>34KN_POP</td>\n",
       "      <td>0.313103</td>\n",
       "    </tr>\n",
       "    <tr>\n",
       "      <td>3</td>\n",
       "      <td>RURAL_POP</td>\n",
       "      <td>0.305599</td>\n",
       "    </tr>\n",
       "    <tr>\n",
       "      <td>4</td>\n",
       "      <td>TOTAL_DAMAGE_(000$)</td>\n",
       "      <td>0.287962</td>\n",
       "    </tr>\n",
       "    <tr>\n",
       "      <td>5</td>\n",
       "      <td>64KN_POP</td>\n",
       "      <td>0.260846</td>\n",
       "    </tr>\n",
       "    <tr>\n",
       "      <td>6</td>\n",
       "      <td>RURAL_POP(%)</td>\n",
       "      <td>0.249751</td>\n",
       "    </tr>\n",
       "    <tr>\n",
       "      <td>7</td>\n",
       "      <td>HDI</td>\n",
       "      <td>-0.230856</td>\n",
       "    </tr>\n",
       "    <tr>\n",
       "      <td>8</td>\n",
       "      <td>GDP_PC</td>\n",
       "      <td>-0.225501</td>\n",
       "    </tr>\n",
       "    <tr>\n",
       "      <td>9</td>\n",
       "      <td>TOTAL_HOURS_IN_LAND</td>\n",
       "      <td>0.209744</td>\n",
       "    </tr>\n",
       "    <tr>\n",
       "      <td>10</td>\n",
       "      <td>96KN_POP</td>\n",
       "      <td>0.184835</td>\n",
       "    </tr>\n",
       "    <tr>\n",
       "      <td>11</td>\n",
       "      <td>LANDING</td>\n",
       "      <td>-0.184668</td>\n",
       "    </tr>\n",
       "    <tr>\n",
       "      <td>12</td>\n",
       "      <td>MIN_DIST2LAND</td>\n",
       "      <td>-0.182799</td>\n",
       "    </tr>\n",
       "  </tbody>\n",
       "</table>\n",
       "</div>"
      ],
      "text/plain": [
       "               Features  Correlation coeficient\n",
       "1          TOTAL_DEATHS                0.521623\n",
       "2              34KN_POP                0.313103\n",
       "3             RURAL_POP                0.305599\n",
       "4   TOTAL_DAMAGE_(000$)                0.287962\n",
       "5              64KN_POP                0.260846\n",
       "6          RURAL_POP(%)                0.249751\n",
       "7                   HDI               -0.230856\n",
       "8                GDP_PC               -0.225501\n",
       "9   TOTAL_HOURS_IN_LAND                0.209744\n",
       "10             96KN_POP                0.184835\n",
       "11              LANDING               -0.184668\n",
       "12        MIN_DIST2LAND               -0.182799"
      ]
     },
     "execution_count": 115,
     "metadata": {},
     "output_type": "execute_result"
    }
   ],
   "source": [
    "get_correlation_features(model_data2, \"spearman\", \"TOTAL_AFFECTED\").head(12)"
   ]
  },
  {
   "cell_type": "markdown",
   "metadata": {},
   "source": [
    "The top 10 most important features, out of the a posteriori ones, are:\n",
    "\n",
    "* 34_KN_POP\n",
    "* Rural population\n",
    "* 64_KN_POP\n",
    "* Rural population share\n",
    "* Human Development Index (HDI)\n",
    "* GDP per capita\n",
    "* Total hours in land\n",
    "* 96_KN_POP\n",
    "* Landing (yes/no)\n",
    "* Minimum distance to land\n",
    "\n",
    "None of the a priori variables shows high correlation in general. \n",
    "\n",
    "### 6.5.2. What is the porportion of cyclones that actually land?"
   ]
  },
  {
   "cell_type": "code",
   "execution_count": 119,
   "metadata": {},
   "outputs": [],
   "source": [
    "#creating tidy table\n",
    "landing = (apriori.groupby(\"LANDING\").agg({\"DATE_START\": \"count\", \"TOTAL_AFFECTED\": \"sum\"})\n",
    "                   .reset_index()\n",
    "                   .rename(columns = {\"DATE_START\": \"Number of cyclones\"}))\n",
    "\n",
    "landing[\"LANDING\"] = landing[\"LANDING\"].apply(lambda x: \"Landing\"  if x== 0 else \"No landing\")"
   ]
  },
  {
   "cell_type": "code",
   "execution_count": 137,
   "metadata": {},
   "outputs": [
    {
     "data": {
      "application/vnd.plotly.v1+json": {
       "config": {
        "plotlyServerURL": "https://plot.ly"
       },
       "data": [
        {
         "domain": {
          "x": [
           0,
           0.45
          ],
          "y": [
           0,
           1
          ]
         },
         "hole": 0.3,
         "labels": [
          "Landing",
          "No landing"
         ],
         "marker": {
          "colors": [
           "slategrey",
           "black"
          ]
         },
         "name": "",
         "type": "pie",
         "values": [
          773,
          218
         ]
        },
        {
         "domain": {
          "x": [
           0.55,
           1
          ],
          "y": [
           0,
           1
          ]
         },
         "hole": 0.3,
         "labels": [
          "Landing",
          "No landing"
         ],
         "marker": {
          "colors": [
           "slategrey",
           "black"
          ]
         },
         "name": "",
         "type": "pie",
         "values": [
          542364627,
          34018394
         ]
        }
       ],
       "layout": {
        "annotations": [
         {
          "font": {
           "size": 16
          },
          "showarrow": false,
          "text": "Number of cyclones",
          "x": 0.225,
          "xanchor": "center",
          "xref": "paper",
          "y": 1,
          "yanchor": "bottom",
          "yref": "paper"
         },
         {
          "font": {
           "size": 16
          },
          "showarrow": false,
          "text": "People affected",
          "x": 0.775,
          "xanchor": "center",
          "xref": "paper",
          "y": 1,
          "yanchor": "bottom",
          "yref": "paper"
         }
        ],
        "template": {
         "data": {
          "bar": [
           {
            "error_x": {
             "color": "#2a3f5f"
            },
            "error_y": {
             "color": "#2a3f5f"
            },
            "marker": {
             "line": {
              "color": "#E5ECF6",
              "width": 0.5
             }
            },
            "type": "bar"
           }
          ],
          "barpolar": [
           {
            "marker": {
             "line": {
              "color": "#E5ECF6",
              "width": 0.5
             }
            },
            "type": "barpolar"
           }
          ],
          "carpet": [
           {
            "aaxis": {
             "endlinecolor": "#2a3f5f",
             "gridcolor": "white",
             "linecolor": "white",
             "minorgridcolor": "white",
             "startlinecolor": "#2a3f5f"
            },
            "baxis": {
             "endlinecolor": "#2a3f5f",
             "gridcolor": "white",
             "linecolor": "white",
             "minorgridcolor": "white",
             "startlinecolor": "#2a3f5f"
            },
            "type": "carpet"
           }
          ],
          "choropleth": [
           {
            "colorbar": {
             "outlinewidth": 0,
             "ticks": ""
            },
            "type": "choropleth"
           }
          ],
          "contour": [
           {
            "colorbar": {
             "outlinewidth": 0,
             "ticks": ""
            },
            "colorscale": [
             [
              0,
              "#0d0887"
             ],
             [
              0.1111111111111111,
              "#46039f"
             ],
             [
              0.2222222222222222,
              "#7201a8"
             ],
             [
              0.3333333333333333,
              "#9c179e"
             ],
             [
              0.4444444444444444,
              "#bd3786"
             ],
             [
              0.5555555555555556,
              "#d8576b"
             ],
             [
              0.6666666666666666,
              "#ed7953"
             ],
             [
              0.7777777777777778,
              "#fb9f3a"
             ],
             [
              0.8888888888888888,
              "#fdca26"
             ],
             [
              1,
              "#f0f921"
             ]
            ],
            "type": "contour"
           }
          ],
          "contourcarpet": [
           {
            "colorbar": {
             "outlinewidth": 0,
             "ticks": ""
            },
            "type": "contourcarpet"
           }
          ],
          "heatmap": [
           {
            "colorbar": {
             "outlinewidth": 0,
             "ticks": ""
            },
            "colorscale": [
             [
              0,
              "#0d0887"
             ],
             [
              0.1111111111111111,
              "#46039f"
             ],
             [
              0.2222222222222222,
              "#7201a8"
             ],
             [
              0.3333333333333333,
              "#9c179e"
             ],
             [
              0.4444444444444444,
              "#bd3786"
             ],
             [
              0.5555555555555556,
              "#d8576b"
             ],
             [
              0.6666666666666666,
              "#ed7953"
             ],
             [
              0.7777777777777778,
              "#fb9f3a"
             ],
             [
              0.8888888888888888,
              "#fdca26"
             ],
             [
              1,
              "#f0f921"
             ]
            ],
            "type": "heatmap"
           }
          ],
          "heatmapgl": [
           {
            "colorbar": {
             "outlinewidth": 0,
             "ticks": ""
            },
            "colorscale": [
             [
              0,
              "#0d0887"
             ],
             [
              0.1111111111111111,
              "#46039f"
             ],
             [
              0.2222222222222222,
              "#7201a8"
             ],
             [
              0.3333333333333333,
              "#9c179e"
             ],
             [
              0.4444444444444444,
              "#bd3786"
             ],
             [
              0.5555555555555556,
              "#d8576b"
             ],
             [
              0.6666666666666666,
              "#ed7953"
             ],
             [
              0.7777777777777778,
              "#fb9f3a"
             ],
             [
              0.8888888888888888,
              "#fdca26"
             ],
             [
              1,
              "#f0f921"
             ]
            ],
            "type": "heatmapgl"
           }
          ],
          "histogram": [
           {
            "marker": {
             "colorbar": {
              "outlinewidth": 0,
              "ticks": ""
             }
            },
            "type": "histogram"
           }
          ],
          "histogram2d": [
           {
            "colorbar": {
             "outlinewidth": 0,
             "ticks": ""
            },
            "colorscale": [
             [
              0,
              "#0d0887"
             ],
             [
              0.1111111111111111,
              "#46039f"
             ],
             [
              0.2222222222222222,
              "#7201a8"
             ],
             [
              0.3333333333333333,
              "#9c179e"
             ],
             [
              0.4444444444444444,
              "#bd3786"
             ],
             [
              0.5555555555555556,
              "#d8576b"
             ],
             [
              0.6666666666666666,
              "#ed7953"
             ],
             [
              0.7777777777777778,
              "#fb9f3a"
             ],
             [
              0.8888888888888888,
              "#fdca26"
             ],
             [
              1,
              "#f0f921"
             ]
            ],
            "type": "histogram2d"
           }
          ],
          "histogram2dcontour": [
           {
            "colorbar": {
             "outlinewidth": 0,
             "ticks": ""
            },
            "colorscale": [
             [
              0,
              "#0d0887"
             ],
             [
              0.1111111111111111,
              "#46039f"
             ],
             [
              0.2222222222222222,
              "#7201a8"
             ],
             [
              0.3333333333333333,
              "#9c179e"
             ],
             [
              0.4444444444444444,
              "#bd3786"
             ],
             [
              0.5555555555555556,
              "#d8576b"
             ],
             [
              0.6666666666666666,
              "#ed7953"
             ],
             [
              0.7777777777777778,
              "#fb9f3a"
             ],
             [
              0.8888888888888888,
              "#fdca26"
             ],
             [
              1,
              "#f0f921"
             ]
            ],
            "type": "histogram2dcontour"
           }
          ],
          "mesh3d": [
           {
            "colorbar": {
             "outlinewidth": 0,
             "ticks": ""
            },
            "type": "mesh3d"
           }
          ],
          "parcoords": [
           {
            "line": {
             "colorbar": {
              "outlinewidth": 0,
              "ticks": ""
             }
            },
            "type": "parcoords"
           }
          ],
          "scatter": [
           {
            "marker": {
             "colorbar": {
              "outlinewidth": 0,
              "ticks": ""
             }
            },
            "type": "scatter"
           }
          ],
          "scatter3d": [
           {
            "line": {
             "colorbar": {
              "outlinewidth": 0,
              "ticks": ""
             }
            },
            "marker": {
             "colorbar": {
              "outlinewidth": 0,
              "ticks": ""
             }
            },
            "type": "scatter3d"
           }
          ],
          "scattercarpet": [
           {
            "marker": {
             "colorbar": {
              "outlinewidth": 0,
              "ticks": ""
             }
            },
            "type": "scattercarpet"
           }
          ],
          "scattergeo": [
           {
            "marker": {
             "colorbar": {
              "outlinewidth": 0,
              "ticks": ""
             }
            },
            "type": "scattergeo"
           }
          ],
          "scattergl": [
           {
            "marker": {
             "colorbar": {
              "outlinewidth": 0,
              "ticks": ""
             }
            },
            "type": "scattergl"
           }
          ],
          "scattermapbox": [
           {
            "marker": {
             "colorbar": {
              "outlinewidth": 0,
              "ticks": ""
             }
            },
            "type": "scattermapbox"
           }
          ],
          "scatterpolar": [
           {
            "marker": {
             "colorbar": {
              "outlinewidth": 0,
              "ticks": ""
             }
            },
            "type": "scatterpolar"
           }
          ],
          "scatterpolargl": [
           {
            "marker": {
             "colorbar": {
              "outlinewidth": 0,
              "ticks": ""
             }
            },
            "type": "scatterpolargl"
           }
          ],
          "scatterternary": [
           {
            "marker": {
             "colorbar": {
              "outlinewidth": 0,
              "ticks": ""
             }
            },
            "type": "scatterternary"
           }
          ],
          "surface": [
           {
            "colorbar": {
             "outlinewidth": 0,
             "ticks": ""
            },
            "colorscale": [
             [
              0,
              "#0d0887"
             ],
             [
              0.1111111111111111,
              "#46039f"
             ],
             [
              0.2222222222222222,
              "#7201a8"
             ],
             [
              0.3333333333333333,
              "#9c179e"
             ],
             [
              0.4444444444444444,
              "#bd3786"
             ],
             [
              0.5555555555555556,
              "#d8576b"
             ],
             [
              0.6666666666666666,
              "#ed7953"
             ],
             [
              0.7777777777777778,
              "#fb9f3a"
             ],
             [
              0.8888888888888888,
              "#fdca26"
             ],
             [
              1,
              "#f0f921"
             ]
            ],
            "type": "surface"
           }
          ],
          "table": [
           {
            "cells": {
             "fill": {
              "color": "#EBF0F8"
             },
             "line": {
              "color": "white"
             }
            },
            "header": {
             "fill": {
              "color": "#C8D4E3"
             },
             "line": {
              "color": "white"
             }
            },
            "type": "table"
           }
          ]
         },
         "layout": {
          "annotationdefaults": {
           "arrowcolor": "#2a3f5f",
           "arrowhead": 0,
           "arrowwidth": 1
          },
          "colorscale": {
           "diverging": [
            [
             0,
             "#8e0152"
            ],
            [
             0.1,
             "#c51b7d"
            ],
            [
             0.2,
             "#de77ae"
            ],
            [
             0.3,
             "#f1b6da"
            ],
            [
             0.4,
             "#fde0ef"
            ],
            [
             0.5,
             "#f7f7f7"
            ],
            [
             0.6,
             "#e6f5d0"
            ],
            [
             0.7,
             "#b8e186"
            ],
            [
             0.8,
             "#7fbc41"
            ],
            [
             0.9,
             "#4d9221"
            ],
            [
             1,
             "#276419"
            ]
           ],
           "sequential": [
            [
             0,
             "#0d0887"
            ],
            [
             0.1111111111111111,
             "#46039f"
            ],
            [
             0.2222222222222222,
             "#7201a8"
            ],
            [
             0.3333333333333333,
             "#9c179e"
            ],
            [
             0.4444444444444444,
             "#bd3786"
            ],
            [
             0.5555555555555556,
             "#d8576b"
            ],
            [
             0.6666666666666666,
             "#ed7953"
            ],
            [
             0.7777777777777778,
             "#fb9f3a"
            ],
            [
             0.8888888888888888,
             "#fdca26"
            ],
            [
             1,
             "#f0f921"
            ]
           ],
           "sequentialminus": [
            [
             0,
             "#0d0887"
            ],
            [
             0.1111111111111111,
             "#46039f"
            ],
            [
             0.2222222222222222,
             "#7201a8"
            ],
            [
             0.3333333333333333,
             "#9c179e"
            ],
            [
             0.4444444444444444,
             "#bd3786"
            ],
            [
             0.5555555555555556,
             "#d8576b"
            ],
            [
             0.6666666666666666,
             "#ed7953"
            ],
            [
             0.7777777777777778,
             "#fb9f3a"
            ],
            [
             0.8888888888888888,
             "#fdca26"
            ],
            [
             1,
             "#f0f921"
            ]
           ]
          },
          "colorway": [
           "#636efa",
           "#EF553B",
           "#00cc96",
           "#ab63fa",
           "#FFA15A",
           "#19d3f3",
           "#FF6692",
           "#B6E880",
           "#FF97FF",
           "#FECB52"
          ],
          "font": {
           "color": "#2a3f5f"
          },
          "geo": {
           "bgcolor": "white",
           "lakecolor": "white",
           "landcolor": "#E5ECF6",
           "showlakes": true,
           "showland": true,
           "subunitcolor": "white"
          },
          "hoverlabel": {
           "align": "left"
          },
          "hovermode": "closest",
          "mapbox": {
           "style": "light"
          },
          "paper_bgcolor": "white",
          "plot_bgcolor": "#E5ECF6",
          "polar": {
           "angularaxis": {
            "gridcolor": "white",
            "linecolor": "white",
            "ticks": ""
           },
           "bgcolor": "#E5ECF6",
           "radialaxis": {
            "gridcolor": "white",
            "linecolor": "white",
            "ticks": ""
           }
          },
          "scene": {
           "xaxis": {
            "backgroundcolor": "#E5ECF6",
            "gridcolor": "white",
            "gridwidth": 2,
            "linecolor": "white",
            "showbackground": true,
            "ticks": "",
            "zerolinecolor": "white"
           },
           "yaxis": {
            "backgroundcolor": "#E5ECF6",
            "gridcolor": "white",
            "gridwidth": 2,
            "linecolor": "white",
            "showbackground": true,
            "ticks": "",
            "zerolinecolor": "white"
           },
           "zaxis": {
            "backgroundcolor": "#E5ECF6",
            "gridcolor": "white",
            "gridwidth": 2,
            "linecolor": "white",
            "showbackground": true,
            "ticks": "",
            "zerolinecolor": "white"
           }
          },
          "shapedefaults": {
           "line": {
            "color": "#2a3f5f"
           }
          },
          "ternary": {
           "aaxis": {
            "gridcolor": "white",
            "linecolor": "white",
            "ticks": ""
           },
           "baxis": {
            "gridcolor": "white",
            "linecolor": "white",
            "ticks": ""
           },
           "bgcolor": "#E5ECF6",
           "caxis": {
            "gridcolor": "white",
            "linecolor": "white",
            "ticks": ""
           }
          },
          "title": {
           "x": 0.05
          },
          "xaxis": {
           "automargin": true,
           "gridcolor": "white",
           "linecolor": "white",
           "ticks": "",
           "zerolinecolor": "white",
           "zerolinewidth": 2
          },
          "yaxis": {
           "automargin": true,
           "gridcolor": "white",
           "linecolor": "white",
           "ticks": "",
           "zerolinecolor": "white",
           "zerolinewidth": 2
          }
         }
        },
        "title": {
         "text": "Cyclones landing and people affected"
        }
       }
      },
      "text/html": [
       "<div>\n",
       "        \n",
       "        \n",
       "            <div id=\"0d383f3f-4f67-4f72-9266-4a10ce822aca\" class=\"plotly-graph-div\" style=\"height:525px; width:100%;\"></div>\n",
       "            <script type=\"text/javascript\">\n",
       "                require([\"plotly\"], function(Plotly) {\n",
       "                    window.PLOTLYENV=window.PLOTLYENV || {};\n",
       "                    \n",
       "                if (document.getElementById(\"0d383f3f-4f67-4f72-9266-4a10ce822aca\")) {\n",
       "                    Plotly.newPlot(\n",
       "                        '0d383f3f-4f67-4f72-9266-4a10ce822aca',\n",
       "                        [{\"domain\": {\"x\": [0.0, 0.45], \"y\": [0.0, 1.0]}, \"hole\": 0.3, \"labels\": [\"Landing\", \"No landing\"], \"marker\": {\"colors\": [\"slategrey\", \"black\"]}, \"name\": \"\", \"type\": \"pie\", \"values\": [773, 218]}, {\"domain\": {\"x\": [0.55, 1.0], \"y\": [0.0, 1.0]}, \"hole\": 0.3, \"labels\": [\"Landing\", \"No landing\"], \"marker\": {\"colors\": [\"slategrey\", \"black\"]}, \"name\": \"\", \"type\": \"pie\", \"values\": [542364627, 34018394]}],\n",
       "                        {\"annotations\": [{\"font\": {\"size\": 16}, \"showarrow\": false, \"text\": \"Number of cyclones\", \"x\": 0.225, \"xanchor\": \"center\", \"xref\": \"paper\", \"y\": 1.0, \"yanchor\": \"bottom\", \"yref\": \"paper\"}, {\"font\": {\"size\": 16}, \"showarrow\": false, \"text\": \"People affected\", \"x\": 0.775, \"xanchor\": \"center\", \"xref\": \"paper\", \"y\": 1.0, \"yanchor\": \"bottom\", \"yref\": \"paper\"}], \"template\": {\"data\": {\"bar\": [{\"error_x\": {\"color\": \"#2a3f5f\"}, \"error_y\": {\"color\": \"#2a3f5f\"}, \"marker\": {\"line\": {\"color\": \"#E5ECF6\", \"width\": 0.5}}, \"type\": \"bar\"}], \"barpolar\": [{\"marker\": {\"line\": {\"color\": \"#E5ECF6\", \"width\": 0.5}}, \"type\": \"barpolar\"}], \"carpet\": [{\"aaxis\": {\"endlinecolor\": \"#2a3f5f\", \"gridcolor\": \"white\", \"linecolor\": \"white\", \"minorgridcolor\": \"white\", \"startlinecolor\": \"#2a3f5f\"}, \"baxis\": {\"endlinecolor\": \"#2a3f5f\", \"gridcolor\": \"white\", \"linecolor\": \"white\", \"minorgridcolor\": \"white\", \"startlinecolor\": \"#2a3f5f\"}, \"type\": \"carpet\"}], \"choropleth\": [{\"colorbar\": {\"outlinewidth\": 0, \"ticks\": \"\"}, \"type\": \"choropleth\"}], \"contour\": [{\"colorbar\": {\"outlinewidth\": 0, \"ticks\": \"\"}, \"colorscale\": [[0.0, \"#0d0887\"], [0.1111111111111111, \"#46039f\"], [0.2222222222222222, \"#7201a8\"], [0.3333333333333333, \"#9c179e\"], [0.4444444444444444, \"#bd3786\"], [0.5555555555555556, \"#d8576b\"], [0.6666666666666666, \"#ed7953\"], [0.7777777777777778, \"#fb9f3a\"], [0.8888888888888888, \"#fdca26\"], [1.0, \"#f0f921\"]], \"type\": \"contour\"}], \"contourcarpet\": [{\"colorbar\": {\"outlinewidth\": 0, \"ticks\": \"\"}, \"type\": \"contourcarpet\"}], \"heatmap\": [{\"colorbar\": {\"outlinewidth\": 0, \"ticks\": \"\"}, \"colorscale\": [[0.0, \"#0d0887\"], [0.1111111111111111, \"#46039f\"], [0.2222222222222222, \"#7201a8\"], [0.3333333333333333, \"#9c179e\"], [0.4444444444444444, \"#bd3786\"], [0.5555555555555556, \"#d8576b\"], [0.6666666666666666, \"#ed7953\"], [0.7777777777777778, \"#fb9f3a\"], [0.8888888888888888, \"#fdca26\"], [1.0, \"#f0f921\"]], \"type\": \"heatmap\"}], \"heatmapgl\": [{\"colorbar\": {\"outlinewidth\": 0, \"ticks\": \"\"}, \"colorscale\": [[0.0, \"#0d0887\"], [0.1111111111111111, \"#46039f\"], [0.2222222222222222, \"#7201a8\"], [0.3333333333333333, \"#9c179e\"], [0.4444444444444444, \"#bd3786\"], [0.5555555555555556, \"#d8576b\"], [0.6666666666666666, \"#ed7953\"], [0.7777777777777778, \"#fb9f3a\"], [0.8888888888888888, \"#fdca26\"], [1.0, \"#f0f921\"]], \"type\": \"heatmapgl\"}], \"histogram\": [{\"marker\": {\"colorbar\": {\"outlinewidth\": 0, \"ticks\": \"\"}}, \"type\": \"histogram\"}], \"histogram2d\": [{\"colorbar\": {\"outlinewidth\": 0, \"ticks\": \"\"}, \"colorscale\": [[0.0, \"#0d0887\"], [0.1111111111111111, \"#46039f\"], [0.2222222222222222, \"#7201a8\"], [0.3333333333333333, \"#9c179e\"], [0.4444444444444444, \"#bd3786\"], [0.5555555555555556, \"#d8576b\"], [0.6666666666666666, \"#ed7953\"], [0.7777777777777778, \"#fb9f3a\"], [0.8888888888888888, \"#fdca26\"], [1.0, \"#f0f921\"]], \"type\": \"histogram2d\"}], \"histogram2dcontour\": [{\"colorbar\": {\"outlinewidth\": 0, \"ticks\": \"\"}, \"colorscale\": [[0.0, \"#0d0887\"], [0.1111111111111111, \"#46039f\"], [0.2222222222222222, \"#7201a8\"], [0.3333333333333333, \"#9c179e\"], [0.4444444444444444, \"#bd3786\"], [0.5555555555555556, \"#d8576b\"], [0.6666666666666666, \"#ed7953\"], [0.7777777777777778, \"#fb9f3a\"], [0.8888888888888888, \"#fdca26\"], [1.0, \"#f0f921\"]], \"type\": \"histogram2dcontour\"}], \"mesh3d\": [{\"colorbar\": {\"outlinewidth\": 0, \"ticks\": \"\"}, \"type\": \"mesh3d\"}], \"parcoords\": [{\"line\": {\"colorbar\": {\"outlinewidth\": 0, \"ticks\": \"\"}}, \"type\": \"parcoords\"}], \"scatter\": [{\"marker\": {\"colorbar\": {\"outlinewidth\": 0, \"ticks\": \"\"}}, \"type\": \"scatter\"}], \"scatter3d\": [{\"line\": {\"colorbar\": {\"outlinewidth\": 0, \"ticks\": \"\"}}, \"marker\": {\"colorbar\": {\"outlinewidth\": 0, \"ticks\": \"\"}}, \"type\": \"scatter3d\"}], \"scattercarpet\": [{\"marker\": {\"colorbar\": {\"outlinewidth\": 0, \"ticks\": \"\"}}, \"type\": \"scattercarpet\"}], \"scattergeo\": [{\"marker\": {\"colorbar\": {\"outlinewidth\": 0, \"ticks\": \"\"}}, \"type\": \"scattergeo\"}], \"scattergl\": [{\"marker\": {\"colorbar\": {\"outlinewidth\": 0, \"ticks\": \"\"}}, \"type\": \"scattergl\"}], \"scattermapbox\": [{\"marker\": {\"colorbar\": {\"outlinewidth\": 0, \"ticks\": \"\"}}, \"type\": \"scattermapbox\"}], \"scatterpolar\": [{\"marker\": {\"colorbar\": {\"outlinewidth\": 0, \"ticks\": \"\"}}, \"type\": \"scatterpolar\"}], \"scatterpolargl\": [{\"marker\": {\"colorbar\": {\"outlinewidth\": 0, \"ticks\": \"\"}}, \"type\": \"scatterpolargl\"}], \"scatterternary\": [{\"marker\": {\"colorbar\": {\"outlinewidth\": 0, \"ticks\": \"\"}}, \"type\": \"scatterternary\"}], \"surface\": [{\"colorbar\": {\"outlinewidth\": 0, \"ticks\": \"\"}, \"colorscale\": [[0.0, \"#0d0887\"], [0.1111111111111111, \"#46039f\"], [0.2222222222222222, \"#7201a8\"], [0.3333333333333333, \"#9c179e\"], [0.4444444444444444, \"#bd3786\"], [0.5555555555555556, \"#d8576b\"], [0.6666666666666666, \"#ed7953\"], [0.7777777777777778, \"#fb9f3a\"], [0.8888888888888888, \"#fdca26\"], [1.0, \"#f0f921\"]], \"type\": \"surface\"}], \"table\": [{\"cells\": {\"fill\": {\"color\": \"#EBF0F8\"}, \"line\": {\"color\": \"white\"}}, \"header\": {\"fill\": {\"color\": \"#C8D4E3\"}, \"line\": {\"color\": \"white\"}}, \"type\": \"table\"}]}, \"layout\": {\"annotationdefaults\": {\"arrowcolor\": \"#2a3f5f\", \"arrowhead\": 0, \"arrowwidth\": 1}, \"colorscale\": {\"diverging\": [[0, \"#8e0152\"], [0.1, \"#c51b7d\"], [0.2, \"#de77ae\"], [0.3, \"#f1b6da\"], [0.4, \"#fde0ef\"], [0.5, \"#f7f7f7\"], [0.6, \"#e6f5d0\"], [0.7, \"#b8e186\"], [0.8, \"#7fbc41\"], [0.9, \"#4d9221\"], [1, \"#276419\"]], \"sequential\": [[0.0, \"#0d0887\"], [0.1111111111111111, \"#46039f\"], [0.2222222222222222, \"#7201a8\"], [0.3333333333333333, \"#9c179e\"], [0.4444444444444444, \"#bd3786\"], [0.5555555555555556, \"#d8576b\"], [0.6666666666666666, \"#ed7953\"], [0.7777777777777778, \"#fb9f3a\"], [0.8888888888888888, \"#fdca26\"], [1.0, \"#f0f921\"]], \"sequentialminus\": [[0.0, \"#0d0887\"], [0.1111111111111111, \"#46039f\"], [0.2222222222222222, \"#7201a8\"], [0.3333333333333333, \"#9c179e\"], [0.4444444444444444, \"#bd3786\"], [0.5555555555555556, \"#d8576b\"], [0.6666666666666666, \"#ed7953\"], [0.7777777777777778, \"#fb9f3a\"], [0.8888888888888888, \"#fdca26\"], [1.0, \"#f0f921\"]]}, \"colorway\": [\"#636efa\", \"#EF553B\", \"#00cc96\", \"#ab63fa\", \"#FFA15A\", \"#19d3f3\", \"#FF6692\", \"#B6E880\", \"#FF97FF\", \"#FECB52\"], \"font\": {\"color\": \"#2a3f5f\"}, \"geo\": {\"bgcolor\": \"white\", \"lakecolor\": \"white\", \"landcolor\": \"#E5ECF6\", \"showlakes\": true, \"showland\": true, \"subunitcolor\": \"white\"}, \"hoverlabel\": {\"align\": \"left\"}, \"hovermode\": \"closest\", \"mapbox\": {\"style\": \"light\"}, \"paper_bgcolor\": \"white\", \"plot_bgcolor\": \"#E5ECF6\", \"polar\": {\"angularaxis\": {\"gridcolor\": \"white\", \"linecolor\": \"white\", \"ticks\": \"\"}, \"bgcolor\": \"#E5ECF6\", \"radialaxis\": {\"gridcolor\": \"white\", \"linecolor\": \"white\", \"ticks\": \"\"}}, \"scene\": {\"xaxis\": {\"backgroundcolor\": \"#E5ECF6\", \"gridcolor\": \"white\", \"gridwidth\": 2, \"linecolor\": \"white\", \"showbackground\": true, \"ticks\": \"\", \"zerolinecolor\": \"white\"}, \"yaxis\": {\"backgroundcolor\": \"#E5ECF6\", \"gridcolor\": \"white\", \"gridwidth\": 2, \"linecolor\": \"white\", \"showbackground\": true, \"ticks\": \"\", \"zerolinecolor\": \"white\"}, \"zaxis\": {\"backgroundcolor\": \"#E5ECF6\", \"gridcolor\": \"white\", \"gridwidth\": 2, \"linecolor\": \"white\", \"showbackground\": true, \"ticks\": \"\", \"zerolinecolor\": \"white\"}}, \"shapedefaults\": {\"line\": {\"color\": \"#2a3f5f\"}}, \"ternary\": {\"aaxis\": {\"gridcolor\": \"white\", \"linecolor\": \"white\", \"ticks\": \"\"}, \"baxis\": {\"gridcolor\": \"white\", \"linecolor\": \"white\", \"ticks\": \"\"}, \"bgcolor\": \"#E5ECF6\", \"caxis\": {\"gridcolor\": \"white\", \"linecolor\": \"white\", \"ticks\": \"\"}}, \"title\": {\"x\": 0.05}, \"xaxis\": {\"automargin\": true, \"gridcolor\": \"white\", \"linecolor\": \"white\", \"ticks\": \"\", \"zerolinecolor\": \"white\", \"zerolinewidth\": 2}, \"yaxis\": {\"automargin\": true, \"gridcolor\": \"white\", \"linecolor\": \"white\", \"ticks\": \"\", \"zerolinecolor\": \"white\", \"zerolinewidth\": 2}}}, \"title\": {\"text\": \"Cyclones landing and people affected\"}},\n",
       "                        {\"responsive\": true}\n",
       "                    ).then(function(){\n",
       "                            \n",
       "var gd = document.getElementById('0d383f3f-4f67-4f72-9266-4a10ce822aca');\n",
       "var x = new MutationObserver(function (mutations, observer) {{\n",
       "        var display = window.getComputedStyle(gd).display;\n",
       "        if (!display || display === 'none') {{\n",
       "            console.log([gd, 'removed!']);\n",
       "            Plotly.purge(gd);\n",
       "            observer.disconnect();\n",
       "        }}\n",
       "}});\n",
       "\n",
       "// Listen for the removal of the full notebook cells\n",
       "var notebookContainer = gd.closest('#notebook-container');\n",
       "if (notebookContainer) {{\n",
       "    x.observe(notebookContainer, {childList: true});\n",
       "}}\n",
       "\n",
       "// Listen for the clearing of the current output cell\n",
       "var outputEl = gd.closest('.output');\n",
       "if (outputEl) {{\n",
       "    x.observe(outputEl, {childList: true});\n",
       "}}\n",
       "\n",
       "                        })\n",
       "                };\n",
       "                });\n",
       "            </script>\n",
       "        </div>"
      ]
     },
     "metadata": {},
     "output_type": "display_data"
    }
   ],
   "source": [
    "palette = [\"slategrey\", 'black'] #'rgb(105,105,105)'\n",
    "\n",
    "fig = make_subplots(1, 2, specs=[[{'type':'domain'}, {'type':'domain'}]],\n",
    "                    subplot_titles=[\"Number of cyclones\", 'People affected'])\n",
    "\n",
    "fig.add_trace(go.Pie(labels=landing[\"LANDING\"], \n",
    "                     values=landing[\"Number of cyclones\"],\n",
    "                      hole=.3,\n",
    "                      marker_colors= palette,\n",
    "                      name = \"\"), 1, 1)\n",
    "\n",
    "fig.add_trace(go.Pie(labels=landing[\"LANDING\"], \n",
    "                     values=landing[\"TOTAL_AFFECTED\"], \n",
    "                     hole=.3,\n",
    "                     marker_colors= palette,\n",
    "                     name = \"\"), 1, 2)\n",
    "\n",
    "fig.update_layout(title_text='Cyclones landing and people affected')\n",
    "fig.show()\n"
   ]
  },
  {
   "cell_type": "markdown",
   "metadata": {},
   "source": [
    "Almost 3 of each 4 cyclones present in our data did land. Those cyclones are responsible for almost 95% of the affected population in our data. See the plots generated with plotly [here](https://github.com/omdena/wfpdisrel/blob/master/%23task3-model/model-e-RandomForest/Plots/cyclones_landing.png)"
   ]
  },
  {
   "cell_type": "markdown",
   "metadata": {},
   "source": [
    "\n",
    "\n",
    "# 6. Working with Random Forest Regressor\n",
    "\n",
    "First we will import the relevant libraries."
   ]
  },
  {
   "cell_type": "code",
   "execution_count": 178,
   "metadata": {},
   "outputs": [],
   "source": [
    "from sklearn.model_selection import train_test_split\n",
    "from sklearn.ensemble import RandomForestRegressor\n",
    "from sklearn.metrics import r2_score,mean_squared_error, mean_squared_log_error, explained_variance_score, mean_absolute_error, median_absolute_error\n",
    "from sklearn.model_selection import GridSearchCV"
   ]
  },
  {
   "cell_type": "code",
   "execution_count": 179,
   "metadata": {},
   "outputs": [],
   "source": [
    "train = apriori.copy()"
   ]
  },
  {
   "cell_type": "code",
   "execution_count": 180,
   "metadata": {},
   "outputs": [],
   "source": [
    "train.drop(columns = [\"SID\", \"NAME\", \"ISO\", \"YEAR\", \"SUB BASIN\", \"DATE_START\", \"DATE_END\" ], inplace= True)"
   ]
  },
  {
   "cell_type": "code",
   "execution_count": 181,
   "metadata": {},
   "outputs": [
    {
     "data": {
      "text/plain": [
       "Index(['MONTH_START', 'MONTH_END', 'TOTAL_HOURS_EVENT', 'TOTAL_HOURS_IN_LAND',\n",
       "       'LAT_MAX_WINDS', 'LON_MAX_WINDS', 'LAT_MIN_DIST2LAND',\n",
       "       'LON_MIN_DIST2LAND', 'MAX_WIND', 'MIN_PRES', 'MIN_DIST2LAND',\n",
       "       'MAX_STORMSPEED', 'V_LAND_KN', 'DISTANCE_TRACK',\n",
       "       'DISTANCE_TRACK_VINCENTY', '34KN_POP', '64KN_POP', '96KN_POP',\n",
       "       '64KN_ASSETS', '34KN_ASSETS', '96KN_ASSETS', 'POP_DEN_SQ_KM',\n",
       "       'RURAL_POP', 'RURAL_POP(%)', 'HDI', 'ARABLE_LAND', 'CEREAL_YIELD',\n",
       "       'FOOD_PRODUCTION_INDEX', 'GDP_PC', 'NET_FLOWS_FROM_UN',\n",
       "       'LIFE_EXPECTANCY', 'EDUCATION_EXPENDITURE', 'POP_MAX_34_ADJ',\n",
       "       'POP_MAX_50_ADJ', 'POP_MAX_64_ADJ', 'TOTAL_AFFECTED', 'GEN_Cat 1',\n",
       "       'GEN_Cat 2', 'GEN_Cat 3', 'GEN_Cat 4', 'GEN_Cat 5', 'GEN_TD', 'GEN_TS',\n",
       "       'INCOME_High', 'INCOME_High_Middle', 'INCOME_Low', 'INCOME_Low_Middle',\n",
       "       'LANDING'],\n",
       "      dtype='object')"
      ]
     },
     "execution_count": 181,
     "metadata": {},
     "output_type": "execute_result"
    }
   ],
   "source": [
    "train.columns"
   ]
  },
  {
   "cell_type": "markdown",
   "metadata": {},
   "source": [
    "Before go further with the modelling part, it is necessary to fill the null values in the data set. We wil create a function to do so, in order to validate the performance of different strategies to fill the null values."
   ]
  },
  {
   "cell_type": "code",
   "execution_count": 182,
   "metadata": {},
   "outputs": [],
   "source": [
    "from sklearn.impute import SimpleImputer"
   ]
  },
  {
   "cell_type": "code",
   "execution_count": 183,
   "metadata": {},
   "outputs": [],
   "source": [
    "def imput_values(data, strategy):\n",
    "    \"\"\"\n",
    "    Returns data imputed following the strategy specified.\n",
    "    Strategy can be mean, median, most_frequent\n",
    "    \"\"\"\n",
    "    imp_trial=SimpleImputer(missing_values=np.NaN, strategy=strategy)\n",
    "    idata=pd.DataFrame(imp_trial.fit_transform(data))\n",
    "    idata.columns=data.columns\n",
    "    idata.index=data.index\n",
    "    return idata\n"
   ]
  },
  {
   "cell_type": "markdown",
   "metadata": {},
   "source": [
    "If we want to scale our data using logarithms, there is a detail. As the domain of $log_{a} = \\mathbb{R}^{>0}$ for any real $a>0$, we have to modify the scaler accordingly. Since all our numerical features take values that are at least 0, a simple handling of the function will allow us to scale any of those features accordingly."
   ]
  },
  {
   "cell_type": "code",
   "execution_count": 184,
   "metadata": {},
   "outputs": [],
   "source": [
    "def log_scale(data, cols, base):\n",
    "    \"\"\"\n",
    "    Apply log in the base specified to cols, a subset of data.columns.\n",
    "    The function prevents to calculate the logarithm of zero given that\n",
    "    all values in cols are at least 0.\n",
    "    If base == \"e\", it computes the natural logarithm.\n",
    "    \"\"\"\n",
    "    log_data = data.copy()\n",
    "    if base == \"e\":\n",
    "        for col in cols:\n",
    "            log_data[col] = log_data[col].apply(lambda x: math.log(x+1))\n",
    "    else:\n",
    "        for col in cols:\n",
    "            log_data[col] = log_data[col].apply(lambda x: math.log(x+1, base))\n",
    "    return log_data"
   ]
  },
  {
   "cell_type": "code",
   "execution_count": 232,
   "metadata": {},
   "outputs": [],
   "source": [
    "def revert(array, base):\n",
    "    if base == \"e\":\n",
    "        return np.exp(array) -1\n",
    "    else:\n",
    "        return base**array -1\n",
    "    "
   ]
  },
  {
   "cell_type": "markdown",
   "metadata": {},
   "source": [
    "Now, we create a couple of model validator functions:"
   ]
  },
  {
   "cell_type": "code",
   "execution_count": 258,
   "metadata": {},
   "outputs": [],
   "source": [
    "def model_validator(data, strategy, test_size, cols, target):\n",
    "    \"\"\"\n",
    "    Returns metrics and feature importances after running Random Forest algorithm\n",
    "    on a dataset data, following the inputation strategy strategy, with a test size defined.\n",
    "    cols is a subset of features of data without including the target variable.\n",
    "    \"\"\"\n",
    "    \n",
    "    idata= imput_values(data, strategy)\n",
    "    X_i = idata[cols].values\n",
    "    y_i = idata[target].values\n",
    "    X_itrain, X_itest, y_itrain, y_itest = train_test_split(X_i, y_i, test_size=test_size, random_state=142)\n",
    "    RandomForestRegModel= RandomForestRegressor()\n",
    "    model_i = RandomForestRegModel.fit(X_itrain, y_itrain)\n",
    "    pred_i = model_i.predict(X_itest)\n",
    "    feat_importances = pd.Series(model_i.feature_importances_, index = cols)\n",
    "    feat_importances.nlargest(25).plot(kind = \"barh\", \n",
    "                                       figsize= (10,10), \n",
    "                                       color = \"slategrey\",\n",
    "                                       title = \"Feature importance\" )\n",
    "    print(\"Metrics results:\")\n",
    "    print(\"Inputting values following strategy {}\".format(strategy))\n",
    "    print(\"R2 Score: {}\".format(r2_score(y_itest, pred_i)))\n",
    "    print(\"Squared root of Mean Squared Error (RMSE): {}\".format(math.sqrt(mean_squared_error(y_itest, pred_i))))\n",
    "    print(\"Mean squared logarithmic error (RMSLE): {}\".format(math.sqrt(mean_squared_log_error(y_itest, pred_i))))\n",
    "    print(\"Explained Variance: {}\".format(explained_variance_score(y_itest, pred_i)))\n",
    "    print(\"Mean Absolute Error (MAE): {}\".format(mean_absolute_error(y_itest, pred_i, pred_i)))\n",
    "    print(\"Median Absolute Error: {}\".format(median_absolute_error(y_itest, pred_i)))\n",
    "    \n",
    "\n",
    "    "
   ]
  },
  {
   "cell_type": "code",
   "execution_count": 257,
   "metadata": {},
   "outputs": [],
   "source": [
    "def model_validator_log(data, strategy, test_size, cols, target, cols_to_be_transformed, base):\n",
    "    \"\"\"\n",
    "    Returns metrics and feature importances after running Random Forest algorithm\n",
    "    on a dataset data, following the inputation strategy strategy, with a test size defined.\n",
    "    cols is a subset of the columns of data without including the target variable.\n",
    "    cols_to_be_transformed is a subset of data.columns to be transformed via log_scale function using\n",
    "    the base specified.\n",
    "    \"\"\"\n",
    "    idata= imput_values(data, strategy)\n",
    "    idata = log_scale(idata, cols_to_be_transformed, base)\n",
    "    X_i = idata[cols].values\n",
    "    y_i = idata[target].values\n",
    "    X_itrain, X_itest, y_itrain, y_itest = train_test_split(X_i, y_i, test_size=test_size, random_state=42)\n",
    "    RandomForestRegModel= RandomForestRegressor()\n",
    "    model_i = RandomForestRegModel.fit(X_itrain, y_itrain)\n",
    "    pred_i = model_i.predict(X_itest)\n",
    "    feat_importances = pd.Series(model_i.feature_importances_, index = cols)\n",
    "    feat_importances.nlargest(25).plot(kind = \"barh\", \n",
    "                                       figsize= (10,10), \n",
    "                                       color = \"slategrey\",\n",
    "                                       title = \"Feature importance\" )\n",
    "    print(\"Results metrics with logarithmic scaling in base {}\".format(base))\n",
    "    print(\"Inputting values following strategy {}\".format(strategy))\n",
    "\n",
    "    print(\"R2 Score: {}\".format(r2_score(y_itest, pred_i)))\n",
    "    print(\"Explained Variance: {}\".format(explained_variance_score(revert(y_itest, base), revert(pred_i, base))))\n",
    "    print(\"Mean Absolute Error (MAE): {}\".format(mean_absolute_error(revert(y_itest, base), revert(pred_i, base))))\n",
    "    print(\"Squared Root Mean Squared Error (RMSE): {}\".format(math.sqrt(mean_squared_error(revert(y_itest, base), revert(pred_i, base)))))\n",
    "    print(\"Distorted RMSE (aka almost RMSLE) : {}\".format(math.sqrt(mean_squared_error(y_itest, pred_i))))\n",
    "    print(\"Median Absolute Error: {}\".format(median_absolute_error(revert(y_itest, base), revert(pred_i, base))))\n",
    "    "
   ]
  },
  {
   "cell_type": "markdown",
   "metadata": {},
   "source": [
    "We have a default selection of features. Let us try out the performance of our model within this data:"
   ]
  },
  {
   "cell_type": "code",
   "execution_count": 249,
   "metadata": {},
   "outputs": [],
   "source": [
    "#data set train without log transformations\n",
    "trial = train.copy()"
   ]
  },
  {
   "cell_type": "code",
   "execution_count": 250,
   "metadata": {},
   "outputs": [],
   "source": [
    "features = ['MONTH_START', 'MONTH_END', 'TOTAL_HOURS_EVENT', 'TOTAL_HOURS_IN_LAND',\n",
    "       'LAT_MAX_WINDS', 'LON_MAX_WINDS', 'LAT_MIN_DIST2LAND',\n",
    "       'LON_MIN_DIST2LAND', 'MAX_WIND', 'MIN_PRES', 'MIN_DIST2LAND',\n",
    "       'MAX_STORMSPEED', \n",
    "        'V_LAND_KN', 'DISTANCE_TRACK',\n",
    "       'DISTANCE_TRACK_VINCENTY', #'34KN_POP', '64KN_POP', '96KN_POP',\n",
    "       'POP_DEN_SQ_KM',\n",
    "       'RURAL_POP', 'RURAL_POP(%)', 'HDI', #'ARABLE_LAND', 'CEREAL_YIELD',\n",
    "       #'FOOD_PRODUCTION_INDEX', 'GDP_PC', #'NET_FLOWS_FROM_UN',\n",
    "       #'LIFE_EXPECTANCY', 'EDUCATION_EXPENDITURE',\n",
    "        'POP_MAX_34_ADJ',\n",
    "       'POP_MAX_50_ADJ', 'POP_MAX_64_ADJ', 'GEN_Cat 1',\n",
    "       'GEN_Cat 2', 'GEN_Cat 3', 'GEN_Cat 4', 'GEN_Cat 5', 'GEN_TD', 'GEN_TS',\n",
    "       #'INCOME_High', 'INCOME_High_Middle', 'INCOME_Low', 'INCOME_Low_Middle',\n",
    "       'LANDING']"
   ]
  },
  {
   "cell_type": "code",
   "execution_count": 251,
   "metadata": {},
   "outputs": [],
   "source": [
    "to_transform = ['34KN_POP', '64KN_POP', '96KN_POP',\n",
    "        'POP_DEN_SQ_KM',\n",
    "       'RURAL_POP', 'POP_MAX_34_ADJ',\n",
    "       'POP_MAX_50_ADJ', 'POP_MAX_64_ADJ',\"TOTAL_AFFECTED\" ]"
   ]
  },
  {
   "cell_type": "markdown",
   "metadata": {},
   "source": [
    "### Running models with scaled features"
   ]
  },
  {
   "cell_type": "code",
   "execution_count": 259,
   "metadata": {},
   "outputs": [
    {
     "name": "stdout",
     "output_type": "stream",
     "text": [
      "Results metrics with logarithmic scaling in base e\n",
      "Inputting values following strategy median\n",
      "R2 Score: 0.23870046294990965\n",
      "Explained Variance: 0.024949264487483247\n",
      "Mean Absolute Error (MAE): 562995.0991215785\n",
      "Squared Root Mean Squared Error (RMSE): 2315487.260728654\n",
      "Distorted RMSE (aka almost RMSLE) : 2.625496313442124\n",
      "Median Absolute Error: 38892.17010572342\n"
     ]
    },
    {
     "data": {
      "image/png": "[encoded data removed]",
      "text/plain": [
       "<Figure size 720x720 with 1 Axes>"
      ]
     },
     "metadata": {
      "needs_background": "light"
     },
     "output_type": "display_data"
    }
   ],
   "source": [
    "model_validator_log(trial, \"median\", 0.25, features, \"TOTAL_AFFECTED\", to_transform, \"e\")"
   ]
  },
  {
   "cell_type": "code",
   "execution_count": 236,
   "metadata": {},
   "outputs": [
    {
     "name": "stdout",
     "output_type": "stream",
     "text": [
      "Results metrics with logarithmic scaling in base 10\n",
      "Inputting values following strategy median\n",
      "R2 Score: 0.23111876088423988\n",
      "Explained Variance: 0.027424282553793256\n",
      "Mean Absolute Error (MAE): 557440.8966502696\n",
      "Squared Root Mean Squared Error (RMSE): 2315410.4903271943\n",
      "Distorted RMSE (aka almost RMSLE) : 1.1459022530785907\n",
      "Median Absolute Error: 40535.68415085824\n"
     ]
    },
    {
     "data": {
      "image/png": "[encoded data removed]",
      "text/plain": [
       "<Figure size 720x720 with 1 Axes>"
      ]
     },
     "metadata": {
      "needs_background": "light"
     },
     "output_type": "display_data"
    }
   ],
   "source": [
    "model_validator_log(trial, \"median\", 0.25, features, \"TOTAL_AFFECTED\", to_transform, 10)"
   ]
  },
  {
   "cell_type": "markdown",
   "metadata": {},
   "source": [
    "**Conclusions**\n",
    "\n",
    "* The choose of base for logarithmic transformations does not affect that much the performnce of the Random forest.\n",
    "* After excluding a lot of features our model show better performance."
   ]
  },
  {
   "cell_type": "markdown",
   "metadata": {},
   "source": [
    "### Running models without scaling features"
   ]
  },
  {
   "cell_type": "code",
   "execution_count": 240,
   "metadata": {
    "scrolled": false
   },
   "outputs": [
    {
     "name": "stdout",
     "output_type": "stream",
     "text": [
      "Metrics results:\n",
      "Inputting values following strategy median\n",
      "R2 Score: 0.29909250429974654\n",
      "Squared root of Mean Squared Error (RMSE): 1617735.0275608804\n",
      "Mean squared logarithmic error (RMSLE): 3.8801210477952046\n",
      "Explained Variance: 0.3083498597143941\n",
      "Mean Absolute Error (MAE): 2474179.6044586073\n",
      "Median Absolute Error: 229126.11\n"
     ]
    },
    {
     "data": {
      "image/png": "[encoded data removed]",
      "text/plain": [
       "<Figure size 720x720 with 1 Axes>"
      ]
     },
     "metadata": {
      "needs_background": "light"
     },
     "output_type": "display_data"
    }
   ],
   "source": [
    "model_validator(trial, \"median\", 0.25, features, \"TOTAL_AFFECTED\")"
   ]
  },
  {
   "cell_type": "code",
   "execution_count": 241,
   "metadata": {},
   "outputs": [
    {
     "name": "stdout",
     "output_type": "stream",
     "text": [
      "Metrics results:\n",
      "Inputting values following strategy mean\n",
      "R2 Score: 0.2486988994243552\n",
      "Squared root of Mean Squared Error (RMSE): 1674881.3601798054\n",
      "Mean squared logarithmic error (RMSLE): 3.912954767232344\n",
      "Explained Variance: 0.2585385587245169\n",
      "Mean Absolute Error (MAE): 2480867.661904866\n",
      "Median Absolute Error: 240777.94\n"
     ]
    },
    {
     "data": {
      "image/png": "[encoded data removed]",
      "text/plain": [
       "<Figure size 720x720 with 1 Axes>"
      ]
     },
     "metadata": {
      "needs_background": "light"
     },
     "output_type": "display_data"
    }
   ],
   "source": [
    "model_validator(trial, \"mean\", 0.25, features, \"TOTAL_AFFECTED\")"
   ]
  },
  {
   "cell_type": "code",
   "execution_count": 242,
   "metadata": {},
   "outputs": [
    {
     "name": "stdout",
     "output_type": "stream",
     "text": [
      "Metrics results:\n",
      "Inputting values following strategy most_frequent\n",
      "R2 Score: 0.3047036879536871\n",
      "Squared root of Mean Squared Error (RMSE): 1611246.5472648046\n",
      "Mean squared logarithmic error (RMSLE): 3.868680329865224\n",
      "Explained Variance: 0.3142552814454067\n",
      "Mean Absolute Error (MAE): 2500030.1356809926\n",
      "Median Absolute Error: 224680.105\n"
     ]
    },
    {
     "data": {
      "image/png": "[encoded data removed]",
      "text/plain": [
       "<Figure size 720x720 with 1 Axes>"
      ]
     },
     "metadata": {
      "needs_background": "light"
     },
     "output_type": "display_data"
    }
   ],
   "source": [
    "model_validator(trial, \"most_frequent\", 0.25, features, \"TOTAL_AFFECTED\")"
   ]
  },
  {
   "cell_type": "code",
   "execution_count": 243,
   "metadata": {},
   "outputs": [
    {
     "name": "stdout",
     "output_type": "stream",
     "text": [
      "Metrics results:\n",
      "Inputting values following strategy most_frequent\n",
      "R2 Score: 0.2710560590976816\n",
      "Squared root of Mean Squared Error (RMSE): 1568882.2219959204\n",
      "Mean squared logarithmic error (RMSLE): 3.903979378870761\n",
      "Explained Variance: 0.2858601782121999\n",
      "Mean Absolute Error (MAE): 2390049.3362764684\n",
      "Median Absolute Error: 242950.115\n"
     ]
    },
    {
     "data": {
      "image/png": "[encoded data removed]",
      "text/plain": [
       "<Figure size 720x720 with 1 Axes>"
      ]
     },
     "metadata": {
      "needs_background": "light"
     },
     "output_type": "display_data"
    }
   ],
   "source": [
    "model_validator(trial, \"most_frequent\", 0.30, features, \"TOTAL_AFFECTED\")"
   ]
  },
  {
   "cell_type": "markdown",
   "metadata": {},
   "source": [
    "### Using all the features\n",
    "\n",
    "This was my first trial. Using the feature importance, I was dropping not relevant features and the accuracy improves a bit."
   ]
  },
  {
   "cell_type": "code",
   "execution_count": 333,
   "metadata": {},
   "outputs": [],
   "source": [
    "features2 = ['MONTH_START', 'MONTH_END', 'TOTAL_HOURS_EVENT', 'TOTAL_HOURS_IN_LAND',\n",
    "       'LAT_MAX_WINDS', 'LON_MAX_WINDS', 'LAT_MIN_DIST2LAND',\n",
    "       'LON_MIN_DIST2LAND', 'MAX_WIND', 'MIN_PRES', 'MIN_DIST2LAND',\n",
    "       'MAX_STORMSPEED', \n",
    "        'V_LAND_KN', 'DISTANCE_TRACK',\n",
    "       'DISTANCE_TRACK_VINCENTY', '34KN_POP', '64KN_POP', '96KN_POP',\n",
    "       'POP_DEN_SQ_KM',\n",
    "       'RURAL_POP', 'RURAL_POP(%)', 'HDI', 'ARABLE_LAND', 'CEREAL_YIELD',\n",
    "       'FOOD_PRODUCTION_INDEX', 'GDP_PC', 'NET_FLOWS_FROM_UN',\n",
    "       'LIFE_EXPECTANCY', 'EDUCATION_EXPENDITURE',\n",
    "        'POP_MAX_34_ADJ',\n",
    "       'POP_MAX_50_ADJ', 'POP_MAX_64_ADJ', 'GEN_Cat 1',\n",
    "       'GEN_Cat 2', 'GEN_Cat 3', 'GEN_Cat 4', 'GEN_Cat 5', 'GEN_TD', 'GEN_TS',\n",
    "       'INCOME_High', 'INCOME_High_Middle', 'INCOME_Low', 'INCOME_Low_Middle',\n",
    "       'LANDING']"
   ]
  },
  {
   "cell_type": "code",
   "execution_count": 334,
   "metadata": {},
   "outputs": [
    {
     "name": "stdout",
     "output_type": "stream",
     "text": [
      "Metrics results:\n",
      "Inputting values following strategy most_frequent\n",
      "R2 Score: 0.23016570410947035\n",
      "Squared root of Mean Squared Error (RMSE): 1612285.3359664038\n",
      "Mean squared logarithmic error (RMSLE): 3.948369751461479\n",
      "Explained Variance: 0.24913196109878577\n",
      "Mean Absolute Error (MAE): 2473403.0832788064\n",
      "Median Absolute Error: 253168.905\n"
     ]
    },
    {
     "data": {
      "image/png": "[encoded data removed]",
      "text/plain": [
       "<Figure size 720x720 with 1 Axes>"
      ]
     },
     "metadata": {
      "needs_background": "light"
     },
     "output_type": "display_data"
    }
   ],
   "source": [
    "model_validator(trial, \"most_frequent\", 0.30, features2, \"TOTAL_AFFECTED\")"
   ]
  },
  {
   "cell_type": "markdown",
   "metadata": {},
   "source": [
    "**Conclusions**\n",
    "\n",
    "* Random forest give us better metrics without logarithmic transformations. We reach almost 0.30 in R^2 score without any hyper parameter tuning. \n",
    "\n",
    "* The strategy to fill null values which improves the metrics are median and most frequent.\n",
    "\n",
    "* The test size is better at 0.30 when choosing most_frequent strategy to fill nulls and 0.25 when using medians."
   ]
  },
  {
   "cell_type": "markdown",
   "metadata": {},
   "source": [
    "## 6.  Performance  of model with the original data set\n",
    "\n",
    "Now, we will explore the performance of our model using the original data set, once dropped columns as ``TOTAL_DEATHS`` and ``TOTAL_DAMAGE_(000$)`` whose data is only available after assessing the occurrence of the cyclone."
   ]
  },
  {
   "cell_type": "code",
   "execution_count": 297,
   "metadata": {},
   "outputs": [],
   "source": [
    "def predictions_plot(data, strategy, test_size, cols, target):\n",
    "    \"\"\"\n",
    "    Returns metrics and feature importances after running Random Forest algorithm\n",
    "    on a dataset data, following the inputation strategy strategy, with a test size defined.\n",
    "    cols is a subset of features of data without including the target variable.\n",
    "    \"\"\"\n",
    "    \n",
    "    idata= imput_values(data, strategy)\n",
    "    X_i = idata[cols].values\n",
    "    y_i = idata[target].values\n",
    "    X_itrain, X_itest, y_itrain, y_itest = train_test_split(X_i, y_i, test_size=test_size, random_state=142)\n",
    "    RandomForestRegModel= RandomForestRegressor()\n",
    "    model_i = RandomForestRegModel.fit(X_itrain, y_itrain)\n",
    "    pred_i = model_i.predict(X_itest)\n",
    "        \n",
    "    print(\"Metrics results:\")\n",
    "    print(\"Inputting values following strategy {}\".format(strategy))\n",
    "    print(\"R2 Score: {}\".format(r2_score(y_itest, pred_i)))\n",
    "    print(\"Squared root of Mean Squared Error (RMSE): {}\".format(math.sqrt(mean_squared_error(y_itest, pred_i))))\n",
    "    print(\"Mean squared logarithmic error (RMSLE): {}\".format(math.sqrt(mean_squared_log_error(y_itest, pred_i))))\n",
    "    print(\"Explained Variance: {}\".format(explained_variance_score(y_itest, pred_i)))\n",
    "    print(\"Mean Absolute Error (MAE): {}\".format(mean_absolute_error(y_itest, pred_i, pred_i)))\n",
    "    print(\"Median Absolute Error: {}\".format(median_absolute_error(y_itest, pred_i)))\n",
    "    \n",
    "    obs_pred = pd.DataFrame({'Observed':y_itest, 'Predicted':pred_i})\n",
    "    obs_pred.sort_values(\"Observed\", inplace= True)\n",
    "    obs_pred.reset_index(drop = True, inplace= True)\n",
    "    \n",
    "    fig, ax = plt.subplots(figsize=(8,6))\n",
    "    ax.plot(obs_pred.index,\n",
    "            obs_pred[\"Predicted\"], \n",
    "            'o', c='blue', \n",
    "            alpha=0.5, \n",
    "            markeredgecolor='none',\n",
    "            label = \"Predicted values\")\n",
    "    ax.plot(obs_pred.index,\n",
    "            obs_pred[\"Observed\"], \n",
    "            c= \"teal\", \n",
    "            marker='.', \n",
    "            linestyle=':',\n",
    "            label = \"Observed values\")\n",
    "    ax.set_yscale('log')\n",
    "    ax.set_title('Values observed and predicted', fontsize= 12)\n",
    "    ax.set_ylabel('Affected population (log_10)', fontsize=12);\n",
    "    ax.set_xlabel('Number of observations', fontsize=14)\n",
    "    leg = ax.legend(loc='lower right');\n"
   ]
  },
  {
   "cell_type": "code",
   "execution_count": 298,
   "metadata": {},
   "outputs": [
    {
     "name": "stdout",
     "output_type": "stream",
     "text": [
      "Metrics results:\n",
      "Inputting values following strategy most_frequent\n",
      "R2 Score: 0.3089551062770519\n",
      "Squared root of Mean Squared Error (RMSE): 1606312.9769352921\n",
      "Mean squared logarithmic error (RMSLE): 3.8555497472668323\n",
      "Explained Variance: 0.3176663845517834\n",
      "Mean Absolute Error (MAE): 2475408.733775038\n",
      "Median Absolute Error: 230200.735\n"
     ]
    },
    {
     "data": {
      "image/png": "[encoded data removed]",
      "text/plain": [
       "<Figure size 576x432 with 1 Axes>"
      ]
     },
     "metadata": {
      "needs_background": "light"
     },
     "output_type": "display_data"
    }
   ],
   "source": [
    "predictions_plot(trial, \"most_frequent\", 0.25, features, \"TOTAL_AFFECTED\")"
   ]
  },
  {
   "cell_type": "code",
   "execution_count": 303,
   "metadata": {},
   "outputs": [
    {
     "name": "stdout",
     "output_type": "stream",
     "text": [
      "Metrics results:\n",
      "Inputting values following strategy median\n",
      "R2 Score: 0.265482970577409\n",
      "Squared root of Mean Squared Error (RMSE): 1656067.2600167664\n",
      "Mean squared logarithmic error (RMSLE): 3.882631803085861\n",
      "Explained Variance: 0.2728437607367936\n",
      "Mean Absolute Error (MAE): 2372856.279689762\n",
      "Median Absolute Error: 242287.645\n"
     ]
    },
    {
     "data": {
      "image/png": "[encoded data removed]",
      "text/plain": [
       "<Figure size 576x432 with 1 Axes>"
      ]
     },
     "metadata": {
      "needs_background": "light"
     },
     "output_type": "display_data"
    }
   ],
   "source": [
    "predictions_plot(trial, \"median\", 0.25, features, \"TOTAL_AFFECTED\")"
   ]
  },
  {
   "cell_type": "markdown",
   "metadata": {},
   "source": [
    "**Conclusion**\n",
    "\n",
    "* Our model is not performing well when taking samples of small affected population. It seems that by restringing our model to samplings having big affected population, our model will perform better.\n",
    "\n",
    "* Using min_max scaler won't be solve the problem, given the huge gap between the values and possibly tuning hyperparameters will not be helpful given our skewed data set.  \n",
    "\n",
    "### 7. Handling outliers \n",
    "\n",
    "The next step to do is get ride from outliers. We can see the presence of outliers in our target variable below:"
   ]
  },
  {
   "cell_type": "code",
   "execution_count": 329,
   "metadata": {},
   "outputs": [
    {
     "data": {
      "image/png": "[encoded data removed]",
      "text/plain": [
       "<Figure size 720x360 with 1 Axes>"
      ]
     },
     "metadata": {
      "needs_background": "light"
     },
     "output_type": "display_data"
    }
   ],
   "source": [
    "teal_diamond = dict(markerfacecolor='teal', marker='D')\n",
    "fig, ax = plt.subplots(figsize=(10,5))\n",
    "ax.set_title('Outliers presence: Total people affected')\n",
    "ax.boxplot(model_data2[\"TOTAL_AFFECTED\"], \n",
    "           flierprops=teal_diamond)\n",
    "ax.set_yscale('log');"
   ]
  },
  {
   "cell_type": "markdown",
   "metadata": {},
   "source": [
    "We can compare the plot below with the one obtained after doing a log transformation: It causes distorsion in the overall shape of the real data:"
   ]
  },
  {
   "cell_type": "code",
   "execution_count": 332,
   "metadata": {},
   "outputs": [
    {
     "data": {
      "image/png": "[encoded data removed]",
      "text/plain": [
       "<Figure size 720x360 with 1 Axes>"
      ]
     },
     "metadata": {
      "needs_background": "light"
     },
     "output_type": "display_data"
    }
   ],
   "source": [
    "teal_diamond = dict(markerfacecolor='teal', marker='D')\n",
    "fig, ax = plt.subplots(figsize=(10,5))\n",
    "ax.set_title('Outliers presence: Log(Total Affected)');\n",
    "ax.boxplot(model_data2[\"TOTAL_AFFECTED\"].apply(lambda x: math.log(x)), flierprops=teal_diamond);\n",
    "ax.set_yscale('log')\n"
   ]
  },
  {
   "cell_type": "code",
   "execution_count": null,
   "metadata": {},
   "outputs": [],
   "source": []
  }
 ],
 "metadata": {
  "kernelspec": {
   "display_name": "Python 3",
   "language": "python",
   "name": "python3"
  },
  "language_info": {
   "codemirror_mode": {
    "name": "ipython",
    "version": 3
   },
   "file_extension": ".py",
   "mimetype": "text/x-python",
   "name": "python",
   "nbconvert_exporter": "python",
   "pygments_lexer": "ipython3",
   "version": "3.7.4"
  }
 },
 "nbformat": 4,
 "nbformat_minor": 2
}
