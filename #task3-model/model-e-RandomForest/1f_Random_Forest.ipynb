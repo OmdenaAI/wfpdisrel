{
 "cells": [
  {
   "cell_type": "markdown",
   "metadata": {},
   "source": [
    "# Machine Learning modeling - World Food Program Disaster Relief -\n",
    "\n",
    "*@XavierTorres*"
   ]
  },
  {
   "cell_type": "code",
   "execution_count": 1,
   "metadata": {},
   "outputs": [],
   "source": [
    "import pandas as pd\n",
    "import numpy as np\n",
    "from matplotlib import pyplot as plt\n",
    "%matplotlib inline\n",
    "import seaborn as sns\n",
    "from datetime import datetime\n",
    "import math"
   ]
  },
  {
   "cell_type": "code",
   "execution_count": 2,
   "metadata": {},
   "outputs": [],
   "source": [
    "from sklearn.model_selection import cross_val_score, GridSearchCV\n",
    "from sklearn.ensemble import RandomForestRegressor\n",
    "from sklearn.preprocessing import MinMaxScaler\n",
    "from sklearn import preprocessing\n",
    "from sklearn.model_selection import train_test_split\n",
    "from sklearn.model_selection import cross_val_score, KFold\n",
    "from sklearn.metrics import mean_squared_error, r2_score\n",
    "from warnings import simplefilter"
   ]
  },
  {
   "cell_type": "code",
   "execution_count": 3,
   "metadata": {},
   "outputs": [],
   "source": [
    "df = pd.read_csv(r'Data_input/OUTPUT_WBI_exposer_cyclones_v10.csv', sep=\";\")"
   ]
  },
  {
   "cell_type": "markdown",
   "metadata": {},
   "source": [
    "## Data pre-processing"
   ]
  },
  {
   "cell_type": "code",
   "execution_count": 4,
   "metadata": {},
   "outputs": [
    {
     "data": {
      "text/plain": [
       "Index(['SID', 'NAME', 'ISO', 'YEAR', 'BASIN', 'SUB BASIN', 'NATURE',\n",
       "       'ISO_TIME', 'COORDS', 'TOTAL_HRS', 'DAY_HRS', 'NIGHT_HRS', 'USA_SSHS',\n",
       "       'WIND_CALC_MEAN', 'PRES_CALC_MEAN', 'STORM_SPD_MEAN', 'STORM_DR_MEAN',\n",
       "       'V_LAND_KN', '34KN_ASSETS', '64KN_ASSETS', '96KN_ASSETS', 'CPI',\n",
       "       'TOTAL_DAMAGE_(000$)', 'TOTAL_DEATHS',\n",
       "       'Air transport, freight (million ton-km)',\n",
       "       'Arable land (hectares per person)', 'Cereal yield (kg per hectare)',\n",
       "       'Food production index (2004-2006 = 100)', 'GDP growth (annual %)',\n",
       "       'GDP per capita (constant 2010 US$)', 'Net flows from UN agencies US$',\n",
       "       'Life expectancy at birth, total (years)',\n",
       "       'Mobile cellular subscriptions (per 100 people)',\n",
       "       'Population density (people per sq. km of land area)',\n",
       "       'Adjusted savings: education expenditure (% of GNI)',\n",
       "       'Rural population (% of total population)', 'Income_level_Final',\n",
       "       'pop_max_34_adj', 'pop_max_50_adj', 'pop_max_64_adj', 'TOTAL_AFFECTED'],\n",
       "      dtype='object')"
      ]
     },
     "execution_count": 4,
     "metadata": {},
     "output_type": "execute_result"
    }
   ],
   "source": [
    "df.columns"
   ]
  },
  {
   "cell_type": "code",
   "execution_count": 5,
   "metadata": {},
   "outputs": [],
   "source": [
    "# Arranging columns\n",
    "\n",
    "df = df[[\n",
    "    # cols from cyclones\n",
    "    'SID', 'NAME', 'ISO',  'ISO_TIME', 'COORDS', 'YEAR', 'BASIN', 'SUB BASIN', 'NATURE',\n",
    "       'TOTAL_HRS', 'DAY_HRS', 'NIGHT_HRS', 'USA_SSHS',\n",
    "       'WIND_CALC_MEAN', 'PRES_CALC_MEAN', 'STORM_SPD_MEAN', 'STORM_DR_MEAN',\n",
    "       'V_LAND_KN', '34KN_ASSETS', '64KN_ASSETS', '96KN_ASSETS', 'CPI',\n",
    "       'TOTAL_DAMAGE_(000$)', 'TOTAL_DEATHS',\n",
    "    \n",
    "\n",
    "    # cols from World Bank Indicators:           \n",
    "    'Air transport, freight (million ton-km)',\n",
    "       'Arable land (hectares per person)', 'Cereal yield (kg per hectare)',\n",
    "       'Food production index (2004-2006 = 100)', 'GDP growth (annual %)',\n",
    "       'GDP per capita (constant 2010 US$)', 'Net flows from UN agencies US$',\n",
    "       'Life expectancy at birth, total (years)',\n",
    "       'Mobile cellular subscriptions (per 100 people)',\n",
    "       'Population density (people per sq. km of land area)',\n",
    "       'Adjusted savings: education expenditure (% of GNI)',\n",
    "       'Rural population (% of total population)', 'Income_level_Final',\n",
    "    \n",
    "    \n",
    "    # cols from climada:   \n",
    "    'pop_max_34_adj', 'pop_max_50_adj', 'pop_max_64_adj', \n",
    "    \n",
    "    # Target \n",
    "    'TOTAL_AFFECTED']]"
   ]
  },
  {
   "cell_type": "code",
   "execution_count": 6,
   "metadata": {},
   "outputs": [
    {
     "data": {
      "text/html": [
       "<div>\n",
       "<style scoped>\n",
       "    .dataframe tbody tr th:only-of-type {\n",
       "        vertical-align: middle;\n",
       "    }\n",
       "\n",
       "    .dataframe tbody tr th {\n",
       "        vertical-align: top;\n",
       "    }\n",
       "\n",
       "    .dataframe thead th {\n",
       "        text-align: right;\n",
       "    }\n",
       "</style>\n",
       "<table border=\"1\" class=\"dataframe\">\n",
       "  <thead>\n",
       "    <tr style=\"text-align: right;\">\n",
       "      <th></th>\n",
       "      <th>SID</th>\n",
       "      <th>NAME</th>\n",
       "      <th>ISO</th>\n",
       "      <th>ISO_TIME</th>\n",
       "      <th>COORDS</th>\n",
       "      <th>YEAR</th>\n",
       "      <th>BASIN</th>\n",
       "      <th>SUB BASIN</th>\n",
       "      <th>NATURE</th>\n",
       "      <th>TOTAL_HRS</th>\n",
       "      <th>...</th>\n",
       "      <th>Life expectancy at birth, total (years)</th>\n",
       "      <th>Mobile cellular subscriptions (per 100 people)</th>\n",
       "      <th>Population density (people per sq. km of land area)</th>\n",
       "      <th>Adjusted savings: education expenditure (% of GNI)</th>\n",
       "      <th>Rural population (% of total population)</th>\n",
       "      <th>Income_level_Final</th>\n",
       "      <th>pop_max_34_adj</th>\n",
       "      <th>pop_max_50_adj</th>\n",
       "      <th>pop_max_64_adj</th>\n",
       "      <th>TOTAL_AFFECTED</th>\n",
       "    </tr>\n",
       "  </thead>\n",
       "  <tbody>\n",
       "    <tr>\n",
       "      <th>0</th>\n",
       "      <td>1949163N07145</td>\n",
       "      <td>DELLA</td>\n",
       "      <td>JPN</td>\n",
       "      <td>['1949-06-21 03:00:00', '1949-06-22 03:00:00',...</td>\n",
       "      <td>[[35.67, 130.99], [38.35, 135.07], [38.82, 136...</td>\n",
       "      <td>1949</td>\n",
       "      <td>WP</td>\n",
       "      <td>WP</td>\n",
       "      <td>TS</td>\n",
       "      <td>0</td>\n",
       "      <td>...</td>\n",
       "      <td>67.666098</td>\n",
       "      <td>NaN</td>\n",
       "      <td>258.911917</td>\n",
       "      <td>2.867878</td>\n",
       "      <td>36.728</td>\n",
       "      <td>Low</td>\n",
       "      <td>1.198300e+07</td>\n",
       "      <td>5.803981e+06</td>\n",
       "      <td>3.320907e+06</td>\n",
       "      <td>194046</td>\n",
       "    </tr>\n",
       "    <tr>\n",
       "      <th>1</th>\n",
       "      <td>1950241N23140</td>\n",
       "      <td>JANE</td>\n",
       "      <td>JPN</td>\n",
       "      <td>['1950-09-02 18:00:00', '1950-09-03 12:00:00',...</td>\n",
       "      <td>[[31.71, 134.12], [38.48, 137.98], [46.7, 152.8]]</td>\n",
       "      <td>1950</td>\n",
       "      <td>WP</td>\n",
       "      <td>WP</td>\n",
       "      <td>ET</td>\n",
       "      <td>6</td>\n",
       "      <td>...</td>\n",
       "      <td>67.666098</td>\n",
       "      <td>NaN</td>\n",
       "      <td>258.911917</td>\n",
       "      <td>2.867878</td>\n",
       "      <td>36.728</td>\n",
       "      <td>Low</td>\n",
       "      <td>3.160822e+07</td>\n",
       "      <td>1.559196e+07</td>\n",
       "      <td>1.018936e+07</td>\n",
       "      <td>642117</td>\n",
       "    </tr>\n",
       "    <tr>\n",
       "      <th>2</th>\n",
       "      <td>1951224N12316</td>\n",
       "      <td>CHARLIE</td>\n",
       "      <td>JAM</td>\n",
       "      <td>['1951-08-17 21:00:00', '1951-08-18 12:00:00']</td>\n",
       "      <td>[[17.34, -75.41], [18.3, -79.4]]</td>\n",
       "      <td>1951</td>\n",
       "      <td>NAm</td>\n",
       "      <td>CS</td>\n",
       "      <td>TS</td>\n",
       "      <td>15</td>\n",
       "      <td>...</td>\n",
       "      <td>64.770000</td>\n",
       "      <td>NaN</td>\n",
       "      <td>152.453647</td>\n",
       "      <td>2.578304</td>\n",
       "      <td>66.231</td>\n",
       "      <td>Low</td>\n",
       "      <td>1.689243e+06</td>\n",
       "      <td>1.687083e+06</td>\n",
       "      <td>1.195052e+06</td>\n",
       "      <td>20200</td>\n",
       "    </tr>\n",
       "  </tbody>\n",
       "</table>\n",
       "<p>3 rows × 41 columns</p>\n",
       "</div>"
      ],
      "text/plain": [
       "             SID     NAME  ISO  \\\n",
       "0  1949163N07145    DELLA  JPN   \n",
       "1  1950241N23140     JANE  JPN   \n",
       "2  1951224N12316  CHARLIE  JAM   \n",
       "\n",
       "                                            ISO_TIME  \\\n",
       "0  ['1949-06-21 03:00:00', '1949-06-22 03:00:00',...   \n",
       "1  ['1950-09-02 18:00:00', '1950-09-03 12:00:00',...   \n",
       "2     ['1951-08-17 21:00:00', '1951-08-18 12:00:00']   \n",
       "\n",
       "                                              COORDS  YEAR BASIN SUB BASIN  \\\n",
       "0  [[35.67, 130.99], [38.35, 135.07], [38.82, 136...  1949    WP        WP   \n",
       "1  [[31.71, 134.12], [38.48, 137.98], [46.7, 152.8]]  1950    WP        WP   \n",
       "2                   [[17.34, -75.41], [18.3, -79.4]]  1951   NAm        CS   \n",
       "\n",
       "  NATURE  TOTAL_HRS  ...  Life expectancy at birth, total (years)  \\\n",
       "0     TS          0  ...                                67.666098   \n",
       "1     ET          6  ...                                67.666098   \n",
       "2     TS         15  ...                                64.770000   \n",
       "\n",
       "   Mobile cellular subscriptions (per 100 people)  \\\n",
       "0                                             NaN   \n",
       "1                                             NaN   \n",
       "2                                             NaN   \n",
       "\n",
       "   Population density (people per sq. km of land area)  \\\n",
       "0                                         258.911917     \n",
       "1                                         258.911917     \n",
       "2                                         152.453647     \n",
       "\n",
       "   Adjusted savings: education expenditure (% of GNI)  \\\n",
       "0                                           2.867878    \n",
       "1                                           2.867878    \n",
       "2                                           2.578304    \n",
       "\n",
       "   Rural population (% of total population)  Income_level_Final  \\\n",
       "0                                    36.728                 Low   \n",
       "1                                    36.728                 Low   \n",
       "2                                    66.231                 Low   \n",
       "\n",
       "   pop_max_34_adj  pop_max_50_adj  pop_max_64_adj  TOTAL_AFFECTED  \n",
       "0    1.198300e+07    5.803981e+06    3.320907e+06          194046  \n",
       "1    3.160822e+07    1.559196e+07    1.018936e+07          642117  \n",
       "2    1.689243e+06    1.687083e+06    1.195052e+06           20200  \n",
       "\n",
       "[3 rows x 41 columns]"
      ]
     },
     "execution_count": 6,
     "metadata": {},
     "output_type": "execute_result"
    }
   ],
   "source": [
    "df.head(3)"
   ]
  },
  {
   "cell_type": "markdown",
   "metadata": {},
   "source": [
    "- **Checking nulls**"
   ]
  },
  {
   "cell_type": "code",
   "execution_count": 7,
   "metadata": {},
   "outputs": [],
   "source": [
    "# Checking quantity of missing data. Reusing code from Fabi\n",
    "def null_cols(data):\n",
    "\n",
    "    \"\"\"\n",
    "    This function takes a dataframe df and shows the columns of df that have NaN values\n",
    "    and the number of them\n",
    "\n",
    "    \"\"\"\n",
    "    nulls = data.isna().sum()\n",
    "    nulls = nulls[nulls > 0] / len(data) * 100\n",
    "    nulls = pd.DataFrame(nulls.sort_values(ascending = False))\n",
    "    nulls = nulls.reset_index().rename(columns = {\"index\": \"Feature\", 0: \"% Null rows\"})\n",
    "    return nulls"
   ]
  },
  {
   "cell_type": "code",
   "execution_count": 8,
   "metadata": {},
   "outputs": [
    {
     "data": {
      "text/html": [
       "<div>\n",
       "<style scoped>\n",
       "    .dataframe tbody tr th:only-of-type {\n",
       "        vertical-align: middle;\n",
       "    }\n",
       "\n",
       "    .dataframe tbody tr th {\n",
       "        vertical-align: top;\n",
       "    }\n",
       "\n",
       "    .dataframe thead th {\n",
       "        text-align: right;\n",
       "    }\n",
       "</style>\n",
       "<table border=\"1\" class=\"dataframe\">\n",
       "  <thead>\n",
       "    <tr style=\"text-align: right;\">\n",
       "      <th></th>\n",
       "      <th>Feature</th>\n",
       "      <th>% Null rows</th>\n",
       "    </tr>\n",
       "  </thead>\n",
       "  <tbody>\n",
       "    <tr>\n",
       "      <th>0</th>\n",
       "      <td>TOTAL_DAMAGE_(000$)</td>\n",
       "      <td>31.741294</td>\n",
       "    </tr>\n",
       "    <tr>\n",
       "      <th>1</th>\n",
       "      <td>34KN_ASSETS</td>\n",
       "      <td>23.184080</td>\n",
       "    </tr>\n",
       "    <tr>\n",
       "      <th>2</th>\n",
       "      <td>64KN_ASSETS</td>\n",
       "      <td>23.184080</td>\n",
       "    </tr>\n",
       "    <tr>\n",
       "      <th>3</th>\n",
       "      <td>96KN_ASSETS</td>\n",
       "      <td>23.184080</td>\n",
       "    </tr>\n",
       "    <tr>\n",
       "      <th>4</th>\n",
       "      <td>Air transport, freight (million ton-km)</td>\n",
       "      <td>15.820896</td>\n",
       "    </tr>\n",
       "    <tr>\n",
       "      <th>5</th>\n",
       "      <td>TOTAL_DEATHS</td>\n",
       "      <td>13.333333</td>\n",
       "    </tr>\n",
       "    <tr>\n",
       "      <th>6</th>\n",
       "      <td>pop_max_64_adj</td>\n",
       "      <td>7.960199</td>\n",
       "    </tr>\n",
       "    <tr>\n",
       "      <th>7</th>\n",
       "      <td>pop_max_34_adj</td>\n",
       "      <td>7.960199</td>\n",
       "    </tr>\n",
       "    <tr>\n",
       "      <th>8</th>\n",
       "      <td>pop_max_50_adj</td>\n",
       "      <td>7.960199</td>\n",
       "    </tr>\n",
       "    <tr>\n",
       "      <th>9</th>\n",
       "      <td>GDP growth (annual %)</td>\n",
       "      <td>3.980100</td>\n",
       "    </tr>\n",
       "    <tr>\n",
       "      <th>10</th>\n",
       "      <td>Cereal yield (kg per hectare)</td>\n",
       "      <td>0.995025</td>\n",
       "    </tr>\n",
       "    <tr>\n",
       "      <th>11</th>\n",
       "      <td>Adjusted savings: education expenditure (% of ...</td>\n",
       "      <td>0.995025</td>\n",
       "    </tr>\n",
       "    <tr>\n",
       "      <th>12</th>\n",
       "      <td>GDP per capita (constant 2010 US$)</td>\n",
       "      <td>0.895522</td>\n",
       "    </tr>\n",
       "    <tr>\n",
       "      <th>13</th>\n",
       "      <td>Mobile cellular subscriptions (per 100 people)</td>\n",
       "      <td>0.895522</td>\n",
       "    </tr>\n",
       "    <tr>\n",
       "      <th>14</th>\n",
       "      <td>Food production index (2004-2006 = 100)</td>\n",
       "      <td>0.398010</td>\n",
       "    </tr>\n",
       "    <tr>\n",
       "      <th>15</th>\n",
       "      <td>Life expectancy at birth, total (years)</td>\n",
       "      <td>0.398010</td>\n",
       "    </tr>\n",
       "    <tr>\n",
       "      <th>16</th>\n",
       "      <td>WIND_CALC_MEAN</td>\n",
       "      <td>0.398010</td>\n",
       "    </tr>\n",
       "    <tr>\n",
       "      <th>17</th>\n",
       "      <td>Arable land (hectares per person)</td>\n",
       "      <td>0.099502</td>\n",
       "    </tr>\n",
       "  </tbody>\n",
       "</table>\n",
       "</div>"
      ],
      "text/plain": [
       "                                              Feature  % Null rows\n",
       "0                                 TOTAL_DAMAGE_(000$)    31.741294\n",
       "1                                         34KN_ASSETS    23.184080\n",
       "2                                         64KN_ASSETS    23.184080\n",
       "3                                         96KN_ASSETS    23.184080\n",
       "4             Air transport, freight (million ton-km)    15.820896\n",
       "5                                        TOTAL_DEATHS    13.333333\n",
       "6                                      pop_max_64_adj     7.960199\n",
       "7                                      pop_max_34_adj     7.960199\n",
       "8                                      pop_max_50_adj     7.960199\n",
       "9                               GDP growth (annual %)     3.980100\n",
       "10                      Cereal yield (kg per hectare)     0.995025\n",
       "11  Adjusted savings: education expenditure (% of ...     0.995025\n",
       "12                 GDP per capita (constant 2010 US$)     0.895522\n",
       "13     Mobile cellular subscriptions (per 100 people)     0.895522\n",
       "14            Food production index (2004-2006 = 100)     0.398010\n",
       "15            Life expectancy at birth, total (years)     0.398010\n",
       "16                                     WIND_CALC_MEAN     0.398010\n",
       "17                  Arable land (hectares per person)     0.099502"
      ]
     },
     "execution_count": 8,
     "metadata": {},
     "output_type": "execute_result"
    }
   ],
   "source": [
    "null_cols(df)"
   ]
  },
  {
   "cell_type": "markdown",
   "metadata": {},
   "source": [
    "- **BASIN and SUBBASIN**: 'MM' value means missing, and **USA_SSHS** column with value -5 = Unknown [XX]:"
   ]
  },
  {
   "cell_type": "code",
   "execution_count": 9,
   "metadata": {},
   "outputs": [],
   "source": [
    "df[\"SUB BASIN\"]= df[\"SUB BASIN\"].replace('MM', np.nan) \n",
    "df[\"BASIN\"]= df[\"BASIN\"].replace('MM', np.nan) \n",
    "df[\"USA_SSHS\"]= df[\"USA_SSHS\"].replace(-5, np.nan) "
   ]
  },
  {
   "cell_type": "markdown",
   "metadata": {},
   "source": [
    "- As damage in '000 USD is time-money sensitive, we can use the CPI for that data point to calculate **\"Total Damage Adjusted\"** \n",
    "by dividing Total Damage by the CPI. We then drop columns for Damage and CPI.\n",
    "CPI meaning = https://en.wikipedia.org/wiki/Consumer_price_index"
   ]
  },
  {
   "cell_type": "code",
   "execution_count": 10,
   "metadata": {},
   "outputs": [],
   "source": [
    "df[\"TOTAL_DAMAGE_(000$)_Adjusted\"]= df[\"TOTAL_DAMAGE_(000$)\"] / df[\"CPI\"]\n",
    "df[\"TOTAL_DAMAGE_(000$)_Adjusted\"]= df[\"TOTAL_DAMAGE_(000$)_Adjusted\"].replace(0, np.nan)"
   ]
  },
  {
   "cell_type": "code",
   "execution_count": 11,
   "metadata": {},
   "outputs": [
    {
     "data": {
      "text/plain": [
       "319"
      ]
     },
     "execution_count": 11,
     "metadata": {},
     "output_type": "execute_result"
    }
   ],
   "source": [
    "df = df.drop([\"TOTAL_DAMAGE_(000$)\",'CPI'], axis=1)\n",
    "df[\"TOTAL_DAMAGE_(000$)_Adjusted\"].isna().sum()"
   ]
  },
  {
   "cell_type": "markdown",
   "metadata": {},
   "source": [
    "- Trying to create a calculated column that better represents de relative dimension **of exposed assets**. We have several columns for assets exposed depending of windspeed for 34kn+, 64kn+ and 96kn+. Let's add these columns to create a new column:"
   ]
  },
  {
   "cell_type": "code",
   "execution_count": 12,
   "metadata": {},
   "outputs": [],
   "source": [
    "df['CALC_assets_emdat'] = df['34KN_ASSETS'] + df['64KN_ASSETS'] + df['96KN_ASSETS']\n",
    "df = df.drop(['34KN_ASSETS', '64KN_ASSETS','96KN_ASSETS'], axis=1)"
   ]
  },
  {
   "cell_type": "markdown",
   "metadata": {},
   "source": [
    " - Extracting **month of cyclone**"
   ]
  },
  {
   "cell_type": "code",
   "execution_count": 13,
   "metadata": {},
   "outputs": [],
   "source": [
    "df['MONTH'] = df.ISO_TIME.apply(lambda x: x[7:9]).astype(int)"
   ]
  },
  {
   "cell_type": "markdown",
   "metadata": {},
   "source": [
    "- **Transform 'Income_Level'** categories to ordered integers and **YEAR, BASIN, SUB BASIN and USA_SSHS** into Category Type"
   ]
  },
  {
   "cell_type": "code",
   "execution_count": 14,
   "metadata": {},
   "outputs": [],
   "source": [
    "#Arnab code\n",
    "unique_list = df['Income_level_Final'].unique()\n",
    "incomelevel_to_int = dict(zip(unique_list, [1,2,4,3])) # so we assign['Low' =1, 'Low_Middle' =2, 'High'=4, 'High_Middle'=3]\n",
    "df['Income_level_Final'] = df['Income_level_Final'].apply(lambda inc_level: incomelevel_to_int[inc_level])"
   ]
  },
  {
   "cell_type": "code",
   "execution_count": 15,
   "metadata": {},
   "outputs": [],
   "source": [
    "df['YEAR'] = df['YEAR'].astype('category')\n",
    "df['BASIN'] = df['BASIN'].astype('category')\n",
    "df['SUB BASIN'] = df['SUB BASIN'].astype('category')\n",
    "df['NATURE'] = df['NATURE'].astype('category')\n",
    "df['USA_SSHS'] = df['USA_SSHS'].astype('category')"
   ]
  },
  {
   "cell_type": "markdown",
   "metadata": {},
   "source": [
    "- **Arranging columns**"
   ]
  },
  {
   "cell_type": "code",
   "execution_count": 16,
   "metadata": {},
   "outputs": [
    {
     "data": {
      "text/plain": [
       "(1005, 39)"
      ]
     },
     "execution_count": 16,
     "metadata": {},
     "output_type": "execute_result"
    }
   ],
   "source": [
    "df.shape"
   ]
  },
  {
   "cell_type": "code",
   "execution_count": 17,
   "metadata": {
    "scrolled": true
   },
   "outputs": [
    {
     "data": {
      "text/plain": [
       "Index(['SID', 'NAME', 'ISO', 'ISO_TIME', 'COORDS', 'YEAR', 'BASIN',\n",
       "       'SUB BASIN', 'NATURE', 'TOTAL_HRS', 'DAY_HRS', 'NIGHT_HRS', 'USA_SSHS',\n",
       "       'WIND_CALC_MEAN', 'PRES_CALC_MEAN', 'STORM_SPD_MEAN', 'STORM_DR_MEAN',\n",
       "       'V_LAND_KN', 'TOTAL_DEATHS', 'Air transport, freight (million ton-km)',\n",
       "       'Arable land (hectares per person)', 'Cereal yield (kg per hectare)',\n",
       "       'Food production index (2004-2006 = 100)', 'GDP growth (annual %)',\n",
       "       'GDP per capita (constant 2010 US$)', 'Net flows from UN agencies US$',\n",
       "       'Life expectancy at birth, total (years)',\n",
       "       'Mobile cellular subscriptions (per 100 people)',\n",
       "       'Population density (people per sq. km of land area)',\n",
       "       'Adjusted savings: education expenditure (% of GNI)',\n",
       "       'Rural population (% of total population)', 'Income_level_Final',\n",
       "       'pop_max_34_adj', 'pop_max_50_adj', 'pop_max_64_adj', 'TOTAL_AFFECTED',\n",
       "       'TOTAL_DAMAGE_(000$)_Adjusted', 'CALC_assets_emdat', 'MONTH'],\n",
       "      dtype='object')"
      ]
     },
     "execution_count": 17,
     "metadata": {},
     "output_type": "execute_result"
    }
   ],
   "source": [
    "df.columns"
   ]
  },
  {
   "cell_type": "code",
   "execution_count": 18,
   "metadata": {},
   "outputs": [],
   "source": [
    "#taking out from model=    'SID', 'NAME', 'ISO', 'YEAR', 'COORDS', 'ISO_TIME',\n",
    "# Arranging columns\n",
    "\n",
    "df = df[[\n",
    "    # cols from cyclones\n",
    "    'BASIN', 'SUB BASIN', 'NATURE',\n",
    "       'MONTH', 'TOTAL_HRS', 'DAY_HRS', 'NIGHT_HRS', 'USA_SSHS',\n",
    "       'WIND_CALC_MEAN', 'PRES_CALC_MEAN', 'STORM_SPD_MEAN', 'STORM_DR_MEAN',\n",
    "       'V_LAND_KN','TOTAL_DAMAGE_(000$)_Adjusted', 'CALC_assets_emdat',  'TOTAL_DEATHS',\n",
    "    \n",
    "\n",
    "    # cols from World Bank Indicators:           \n",
    "    'Air transport, freight (million ton-km)',\n",
    "       'Arable land (hectares per person)', 'Cereal yield (kg per hectare)',\n",
    "       'Food production index (2004-2006 = 100)', 'GDP growth (annual %)',\n",
    "       'GDP per capita (constant 2010 US$)', 'Net flows from UN agencies US$',\n",
    "       'Life expectancy at birth, total (years)',\n",
    "       'Mobile cellular subscriptions (per 100 people)',\n",
    "       'Population density (people per sq. km of land area)',\n",
    "       'Adjusted savings: education expenditure (% of GNI)',\n",
    "       'Rural population (% of total population)', 'Income_level_Final',\n",
    "    \n",
    "    \n",
    "    # cols from climada:   \n",
    "    'pop_max_34_adj', 'pop_max_50_adj', 'pop_max_64_adj', \n",
    "    \n",
    "    # Target \n",
    "    'TOTAL_AFFECTED']]"
   ]
  },
  {
   "cell_type": "markdown",
   "metadata": {},
   "source": [
    "- **Check SKEWENESS and apply log**"
   ]
  },
  {
   "cell_type": "code",
   "execution_count": 19,
   "metadata": {},
   "outputs": [],
   "source": [
    "#determine index for continous variables\n",
    "num_feats = df.dtypes[df.dtypes != 'object'].index\n",
    "\n",
    "#Calculate skew and sort\n",
    "skew_feats = df[num_feats].skew().sort_values(ascending = False)\n",
    "skewness = pd.DataFrame({'Skew': skew_feats})"
   ]
  },
  {
   "cell_type": "code",
   "execution_count": 20,
   "metadata": {},
   "outputs": [
    {
     "data": {
      "text/html": [
       "<div>\n",
       "<style scoped>\n",
       "    .dataframe tbody tr th:only-of-type {\n",
       "        vertical-align: middle;\n",
       "    }\n",
       "\n",
       "    .dataframe tbody tr th {\n",
       "        vertical-align: top;\n",
       "    }\n",
       "\n",
       "    .dataframe thead th {\n",
       "        text-align: right;\n",
       "    }\n",
       "</style>\n",
       "<table border=\"1\" class=\"dataframe\">\n",
       "  <thead>\n",
       "    <tr style=\"text-align: right;\">\n",
       "      <th></th>\n",
       "      <th>Skew</th>\n",
       "    </tr>\n",
       "  </thead>\n",
       "  <tbody>\n",
       "    <tr>\n",
       "      <th>TOTAL_DEATHS</th>\n",
       "      <td>28.579526</td>\n",
       "    </tr>\n",
       "    <tr>\n",
       "      <th>TOTAL_DAMAGE_(000$)_Adjusted</th>\n",
       "      <td>12.376678</td>\n",
       "    </tr>\n",
       "    <tr>\n",
       "      <th>Population density (people per sq. km of land area)</th>\n",
       "      <td>10.706739</td>\n",
       "    </tr>\n",
       "    <tr>\n",
       "      <th>TOTAL_AFFECTED</th>\n",
       "      <td>7.345349</td>\n",
       "    </tr>\n",
       "    <tr>\n",
       "      <th>Arable land (hectares per person)</th>\n",
       "      <td>5.368166</td>\n",
       "    </tr>\n",
       "    <tr>\n",
       "      <th>pop_max_50_adj</th>\n",
       "      <td>4.056652</td>\n",
       "    </tr>\n",
       "    <tr>\n",
       "      <th>pop_max_64_adj</th>\n",
       "      <td>3.540787</td>\n",
       "    </tr>\n",
       "    <tr>\n",
       "      <th>pop_max_34_adj</th>\n",
       "      <td>3.099740</td>\n",
       "    </tr>\n",
       "    <tr>\n",
       "      <th>CALC_assets_emdat</th>\n",
       "      <td>2.863852</td>\n",
       "    </tr>\n",
       "    <tr>\n",
       "      <th>Air transport, freight (million ton-km)</th>\n",
       "      <td>2.689838</td>\n",
       "    </tr>\n",
       "    <tr>\n",
       "      <th>Adjusted savings: education expenditure (% of GNI)</th>\n",
       "      <td>2.393028</td>\n",
       "    </tr>\n",
       "    <tr>\n",
       "      <th>Net flows from UN agencies US$</th>\n",
       "      <td>2.135127</td>\n",
       "    </tr>\n",
       "    <tr>\n",
       "      <th>GDP per capita (constant 2010 US$)</th>\n",
       "      <td>1.815510</td>\n",
       "    </tr>\n",
       "    <tr>\n",
       "      <th>STORM_SPD_MEAN</th>\n",
       "      <td>1.725793</td>\n",
       "    </tr>\n",
       "    <tr>\n",
       "      <th>DAY_HRS</th>\n",
       "      <td>1.659246</td>\n",
       "    </tr>\n",
       "    <tr>\n",
       "      <th>Mobile cellular subscriptions (per 100 people)</th>\n",
       "      <td>0.922399</td>\n",
       "    </tr>\n",
       "    <tr>\n",
       "      <th>WIND_CALC_MEAN</th>\n",
       "      <td>0.772365</td>\n",
       "    </tr>\n",
       "    <tr>\n",
       "      <th>Cereal yield (kg per hectare)</th>\n",
       "      <td>0.332458</td>\n",
       "    </tr>\n",
       "    <tr>\n",
       "      <th>Income_level_Final</th>\n",
       "      <td>0.228837</td>\n",
       "    </tr>\n",
       "    <tr>\n",
       "      <th>V_LAND_KN</th>\n",
       "      <td>0.159111</td>\n",
       "    </tr>\n",
       "    <tr>\n",
       "      <th>Food production index (2004-2006 = 100)</th>\n",
       "      <td>0.001466</td>\n",
       "    </tr>\n",
       "    <tr>\n",
       "      <th>NIGHT_HRS</th>\n",
       "      <td>-0.003230</td>\n",
       "    </tr>\n",
       "    <tr>\n",
       "      <th>Rural population (% of total population)</th>\n",
       "      <td>-0.266012</td>\n",
       "    </tr>\n",
       "    <tr>\n",
       "      <th>TOTAL_HRS</th>\n",
       "      <td>-0.365965</td>\n",
       "    </tr>\n",
       "    <tr>\n",
       "      <th>GDP growth (annual %)</th>\n",
       "      <td>-0.575327</td>\n",
       "    </tr>\n",
       "    <tr>\n",
       "      <th>STORM_DR_MEAN</th>\n",
       "      <td>-0.835837</td>\n",
       "    </tr>\n",
       "    <tr>\n",
       "      <th>Life expectancy at birth, total (years)</th>\n",
       "      <td>-0.967835</td>\n",
       "    </tr>\n",
       "    <tr>\n",
       "      <th>MONTH</th>\n",
       "      <td>-0.969335</td>\n",
       "    </tr>\n",
       "    <tr>\n",
       "      <th>PRES_CALC_MEAN</th>\n",
       "      <td>-15.146226</td>\n",
       "    </tr>\n",
       "  </tbody>\n",
       "</table>\n",
       "</div>"
      ],
      "text/plain": [
       "                                                         Skew\n",
       "TOTAL_DEATHS                                        28.579526\n",
       "TOTAL_DAMAGE_(000$)_Adjusted                        12.376678\n",
       "Population density (people per sq. km of land a...  10.706739\n",
       "TOTAL_AFFECTED                                       7.345349\n",
       "Arable land (hectares per person)                    5.368166\n",
       "pop_max_50_adj                                       4.056652\n",
       "pop_max_64_adj                                       3.540787\n",
       "pop_max_34_adj                                       3.099740\n",
       "CALC_assets_emdat                                    2.863852\n",
       "Air transport, freight (million ton-km)              2.689838\n",
       "Adjusted savings: education expenditure (% of GNI)   2.393028\n",
       "Net flows from UN agencies US$                       2.135127\n",
       "GDP per capita (constant 2010 US$)                   1.815510\n",
       "STORM_SPD_MEAN                                       1.725793\n",
       "DAY_HRS                                              1.659246\n",
       "Mobile cellular subscriptions (per 100 people)       0.922399\n",
       "WIND_CALC_MEAN                                       0.772365\n",
       "Cereal yield (kg per hectare)                        0.332458\n",
       "Income_level_Final                                   0.228837\n",
       "V_LAND_KN                                            0.159111\n",
       "Food production index (2004-2006 = 100)              0.001466\n",
       "NIGHT_HRS                                           -0.003230\n",
       "Rural population (% of total population)            -0.266012\n",
       "TOTAL_HRS                                           -0.365965\n",
       "GDP growth (annual %)                               -0.575327\n",
       "STORM_DR_MEAN                                       -0.835837\n",
       "Life expectancy at birth, total (years)             -0.967835\n",
       "MONTH                                               -0.969335\n",
       "PRES_CALC_MEAN                                     -15.146226"
      ]
     },
     "execution_count": 20,
     "metadata": {},
     "output_type": "execute_result"
    }
   ],
   "source": [
    "skewness"
   ]
  },
  {
   "cell_type": "code",
   "execution_count": 21,
   "metadata": {},
   "outputs": [
    {
     "data": {
      "image/png": "[encoded data removed]",
      "text/plain": [
       "<Figure size 432x288 with 1 Axes>"
      ]
     },
     "metadata": {
      "needs_background": "light"
     },
     "output_type": "display_data"
    },
    {
     "data": {
      "image/png": "[encoded data removed]",
      "text/plain": [
       "<Figure size 432x288 with 1 Axes>"
      ]
     },
     "metadata": {
      "needs_background": "light"
     },
     "output_type": "display_data"
    },
    {
     "data": {
      "text/plain": [
       "<Figure size 432x288 with 0 Axes>"
      ]
     },
     "metadata": {},
     "output_type": "display_data"
    }
   ],
   "source": [
    "# Checking distribution for one feature---reusing code from Juber\n",
    "ax=sns.distplot(df['TOTAL_AFFECTED'].values)\n",
    "\n",
    "plt.show()\n",
    "plt.clf()\n",
    "\n",
    "log_affected=np.log(df['TOTAL_AFFECTED'].values)\n",
    "ax=sns.distplot(log_affected)\n",
    "\n",
    "plt.show()\n",
    "plt.clf()"
   ]
  },
  {
   "cell_type": "code",
   "execution_count": 22,
   "metadata": {},
   "outputs": [],
   "source": [
    "# Creating list of features to transform, for skew values above 2\n",
    "\n",
    "feats_to_log = skewness[skewness['Skew'] > 2].index"
   ]
  },
  {
   "cell_type": "code",
   "execution_count": 23,
   "metadata": {},
   "outputs": [
    {
     "data": {
      "text/plain": [
       "Index(['TOTAL_DEATHS', 'TOTAL_DAMAGE_(000$)_Adjusted',\n",
       "       'Population density (people per sq. km of land area)', 'TOTAL_AFFECTED',\n",
       "       'Arable land (hectares per person)', 'pop_max_50_adj', 'pop_max_64_adj',\n",
       "       'pop_max_34_adj', 'CALC_assets_emdat',\n",
       "       'Air transport, freight (million ton-km)',\n",
       "       'Adjusted savings: education expenditure (% of GNI)',\n",
       "       'Net flows from UN agencies US$'],\n",
       "      dtype='object')"
      ]
     },
     "execution_count": 23,
     "metadata": {},
     "output_type": "execute_result"
    }
   ],
   "source": [
    "feats_to_log"
   ]
  },
  {
   "cell_type": "code",
   "execution_count": 24,
   "metadata": {},
   "outputs": [],
   "source": [
    "# as log cannot be perfomed to negative numbers, a common technique for handling negative values is to \n",
    "# add a constant value to the data prior to applying the log transform. The transformation is \n",
    "#therefore log(Y+a) where a is the constant. Some people like to choose a so that min(Y+a) is a very small \n",
    "#positive number (like 0.001). Others choose a so that min(Y+a) = 1. For the latter choice, you can show \n",
    "# that a = b – min(Y), where b is either a small number or is 1.\n",
    "# Source : https://blogs.sas.com/content/iml/2011/04/27/log-transformations-how-to-handle-negative-data-values.html\n",
    "\n",
    "for item in feats_to_log:\n",
    "    #df[item]=np.log((df[item] + 1 - df[item].min()).values)\n",
    "    df[item] = df[item].apply(lambda x: math.log(x, 10) if x>0 else 0)\n",
    "    "
   ]
  },
  {
   "cell_type": "code",
   "execution_count": 25,
   "metadata": {},
   "outputs": [
    {
     "data": {
      "text/html": [
       "<div>\n",
       "<style scoped>\n",
       "    .dataframe tbody tr th:only-of-type {\n",
       "        vertical-align: middle;\n",
       "    }\n",
       "\n",
       "    .dataframe tbody tr th {\n",
       "        vertical-align: top;\n",
       "    }\n",
       "\n",
       "    .dataframe thead th {\n",
       "        text-align: right;\n",
       "    }\n",
       "</style>\n",
       "<table border=\"1\" class=\"dataframe\">\n",
       "  <thead>\n",
       "    <tr style=\"text-align: right;\">\n",
       "      <th></th>\n",
       "      <th>TOTAL_DEATHS</th>\n",
       "      <th>TOTAL_DAMAGE_(000$)_Adjusted</th>\n",
       "      <th>Population density (people per sq. km of land area)</th>\n",
       "      <th>TOTAL_AFFECTED</th>\n",
       "      <th>Arable land (hectares per person)</th>\n",
       "      <th>pop_max_50_adj</th>\n",
       "      <th>pop_max_64_adj</th>\n",
       "      <th>pop_max_34_adj</th>\n",
       "      <th>CALC_assets_emdat</th>\n",
       "      <th>Air transport, freight (million ton-km)</th>\n",
       "      <th>Adjusted savings: education expenditure (% of GNI)</th>\n",
       "      <th>Net flows from UN agencies US$</th>\n",
       "    </tr>\n",
       "  </thead>\n",
       "  <tbody>\n",
       "    <tr>\n",
       "      <th>count</th>\n",
       "      <td>1005.000000</td>\n",
       "      <td>1005.000000</td>\n",
       "      <td>1005.000000</td>\n",
       "      <td>1005.000000</td>\n",
       "      <td>1005.000000</td>\n",
       "      <td>1005.000000</td>\n",
       "      <td>1005.000000</td>\n",
       "      <td>1005.000000</td>\n",
       "      <td>1005.000000</td>\n",
       "      <td>1005.000000</td>\n",
       "      <td>1005.000000</td>\n",
       "      <td>1005.000000</td>\n",
       "    </tr>\n",
       "    <tr>\n",
       "      <th>mean</th>\n",
       "      <td>1.114535</td>\n",
       "      <td>2.082295</td>\n",
       "      <td>2.094491</td>\n",
       "      <td>4.371673</td>\n",
       "      <td>-1.003523</td>\n",
       "      <td>5.862670</td>\n",
       "      <td>5.158980</td>\n",
       "      <td>6.354219</td>\n",
       "      <td>8.355095</td>\n",
       "      <td>2.215947</td>\n",
       "      <td>0.452900</td>\n",
       "      <td>5.598122</td>\n",
       "    </tr>\n",
       "    <tr>\n",
       "      <th>std</th>\n",
       "      <td>0.823842</td>\n",
       "      <td>1.695371</td>\n",
       "      <td>0.568897</td>\n",
       "      <td>1.353087</td>\n",
       "      <td>0.487073</td>\n",
       "      <td>2.238822</td>\n",
       "      <td>2.462603</td>\n",
       "      <td>2.091023</td>\n",
       "      <td>4.861676</td>\n",
       "      <td>1.472691</td>\n",
       "      <td>0.212688</td>\n",
       "      <td>3.017808</td>\n",
       "    </tr>\n",
       "    <tr>\n",
       "      <th>min</th>\n",
       "      <td>0.000000</td>\n",
       "      <td>-0.925049</td>\n",
       "      <td>0.251958</td>\n",
       "      <td>0.301030</td>\n",
       "      <td>-3.371253</td>\n",
       "      <td>0.000000</td>\n",
       "      <td>0.000000</td>\n",
       "      <td>0.000000</td>\n",
       "      <td>0.000000</td>\n",
       "      <td>-1.886057</td>\n",
       "      <td>-0.268507</td>\n",
       "      <td>0.000000</td>\n",
       "    </tr>\n",
       "    <tr>\n",
       "      <th>25%</th>\n",
       "      <td>0.477121</td>\n",
       "      <td>0.000000</td>\n",
       "      <td>1.700602</td>\n",
       "      <td>3.477121</td>\n",
       "      <td>-1.231704</td>\n",
       "      <td>5.767974</td>\n",
       "      <td>4.960574</td>\n",
       "      <td>6.309532</td>\n",
       "      <td>7.700307</td>\n",
       "      <td>1.085932</td>\n",
       "      <td>0.264818</td>\n",
       "      <td>6.012162</td>\n",
       "    </tr>\n",
       "    <tr>\n",
       "      <th>50%</th>\n",
       "      <td>1.079181</td>\n",
       "      <td>2.486741</td>\n",
       "      <td>2.160119</td>\n",
       "      <td>4.477121</td>\n",
       "      <td>-1.043418</td>\n",
       "      <td>6.568644</td>\n",
       "      <td>6.111959</td>\n",
       "      <td>6.980567</td>\n",
       "      <td>10.670626</td>\n",
       "      <td>2.478042</td>\n",
       "      <td>0.442729</td>\n",
       "      <td>7.079543</td>\n",
       "    </tr>\n",
       "    <tr>\n",
       "      <th>75%</th>\n",
       "      <td>1.672098</td>\n",
       "      <td>3.464999</td>\n",
       "      <td>2.479996</td>\n",
       "      <td>5.394553</td>\n",
       "      <td>-0.718925</td>\n",
       "      <td>7.192959</td>\n",
       "      <td>6.727481</td>\n",
       "      <td>7.494052</td>\n",
       "      <td>11.671027</td>\n",
       "      <td>3.324591</td>\n",
       "      <td>0.623938</td>\n",
       "      <td>7.496653</td>\n",
       "    </tr>\n",
       "    <tr>\n",
       "      <th>max</th>\n",
       "      <td>5.141029</td>\n",
       "      <td>6.213885</td>\n",
       "      <td>4.311325</td>\n",
       "      <td>7.471614</td>\n",
       "      <td>0.487050</td>\n",
       "      <td>8.508228</td>\n",
       "      <td>8.030877</td>\n",
       "      <td>8.575762</td>\n",
       "      <td>13.171017</td>\n",
       "      <td>4.633320</td>\n",
       "      <td>1.146438</td>\n",
       "      <td>8.264227</td>\n",
       "    </tr>\n",
       "  </tbody>\n",
       "</table>\n",
       "</div>"
      ],
      "text/plain": [
       "       TOTAL_DEATHS  TOTAL_DAMAGE_(000$)_Adjusted  \\\n",
       "count   1005.000000                   1005.000000   \n",
       "mean       1.114535                      2.082295   \n",
       "std        0.823842                      1.695371   \n",
       "min        0.000000                     -0.925049   \n",
       "25%        0.477121                      0.000000   \n",
       "50%        1.079181                      2.486741   \n",
       "75%        1.672098                      3.464999   \n",
       "max        5.141029                      6.213885   \n",
       "\n",
       "       Population density (people per sq. km of land area)  TOTAL_AFFECTED  \\\n",
       "count                                        1005.000000       1005.000000   \n",
       "mean                                            2.094491          4.371673   \n",
       "std                                             0.568897          1.353087   \n",
       "min                                             0.251958          0.301030   \n",
       "25%                                             1.700602          3.477121   \n",
       "50%                                             2.160119          4.477121   \n",
       "75%                                             2.479996          5.394553   \n",
       "max                                             4.311325          7.471614   \n",
       "\n",
       "       Arable land (hectares per person)  pop_max_50_adj  pop_max_64_adj  \\\n",
       "count                        1005.000000     1005.000000     1005.000000   \n",
       "mean                           -1.003523        5.862670        5.158980   \n",
       "std                             0.487073        2.238822        2.462603   \n",
       "min                            -3.371253        0.000000        0.000000   \n",
       "25%                            -1.231704        5.767974        4.960574   \n",
       "50%                            -1.043418        6.568644        6.111959   \n",
       "75%                            -0.718925        7.192959        6.727481   \n",
       "max                             0.487050        8.508228        8.030877   \n",
       "\n",
       "       pop_max_34_adj  CALC_assets_emdat  \\\n",
       "count     1005.000000        1005.000000   \n",
       "mean         6.354219           8.355095   \n",
       "std          2.091023           4.861676   \n",
       "min          0.000000           0.000000   \n",
       "25%          6.309532           7.700307   \n",
       "50%          6.980567          10.670626   \n",
       "75%          7.494052          11.671027   \n",
       "max          8.575762          13.171017   \n",
       "\n",
       "       Air transport, freight (million ton-km)  \\\n",
       "count                              1005.000000   \n",
       "mean                                  2.215947   \n",
       "std                                   1.472691   \n",
       "min                                  -1.886057   \n",
       "25%                                   1.085932   \n",
       "50%                                   2.478042   \n",
       "75%                                   3.324591   \n",
       "max                                   4.633320   \n",
       "\n",
       "       Adjusted savings: education expenditure (% of GNI)  \\\n",
       "count                                        1005.000000    \n",
       "mean                                            0.452900    \n",
       "std                                             0.212688    \n",
       "min                                            -0.268507    \n",
       "25%                                             0.264818    \n",
       "50%                                             0.442729    \n",
       "75%                                             0.623938    \n",
       "max                                             1.146438    \n",
       "\n",
       "       Net flows from UN agencies US$  \n",
       "count                     1005.000000  \n",
       "mean                         5.598122  \n",
       "std                          3.017808  \n",
       "min                          0.000000  \n",
       "25%                          6.012162  \n",
       "50%                          7.079543  \n",
       "75%                          7.496653  \n",
       "max                          8.264227  "
      ]
     },
     "execution_count": 25,
     "metadata": {},
     "output_type": "execute_result"
    }
   ],
   "source": [
    "df[feats_to_log].describe()"
   ]
  },
  {
   "cell_type": "code",
   "execution_count": 26,
   "metadata": {},
   "outputs": [
    {
     "data": {
      "image/png": "[encoded data removed]",
      "text/plain": [
       "<Figure size 432x288 with 1 Axes>"
      ]
     },
     "metadata": {
      "needs_background": "light"
     },
     "output_type": "display_data"
    },
    {
     "data": {
      "image/png": "[encoded data removed]",
      "text/plain": [
       "<Figure size 432x288 with 1 Axes>"
      ]
     },
     "metadata": {
      "needs_background": "light"
     },
     "output_type": "display_data"
    },
    {
     "data": {
      "image/png": "[encoded data removed]",
      "text/plain": [
       "<Figure size 432x288 with 1 Axes>"
      ]
     },
     "metadata": {
      "needs_background": "light"
     },
     "output_type": "display_data"
    },
    {
     "data": {
      "image/png": "[encoded data removed]",
      "text/plain": [
       "<Figure size 432x288 with 1 Axes>"
      ]
     },
     "metadata": {
      "needs_background": "light"
     },
     "output_type": "display_data"
    },
    {
     "data": {
      "image/png": "[encoded data removed]",
      "text/plain": [
       "<Figure size 432x288 with 1 Axes>"
      ]
     },
     "metadata": {
      "needs_background": "light"
     },
     "output_type": "display_data"
    },
    {
     "data": {
      "image/png": "[encoded data removed]",
      "text/plain": [
       "<Figure size 432x288 with 1 Axes>"
      ]
     },
     "metadata": {
      "needs_background": "light"
     },
     "output_type": "display_data"
    },
    {
     "data": {
      "image/png": "[encoded data removed]",
      "text/plain": [
       "<Figure size 432x288 with 1 Axes>"
      ]
     },
     "metadata": {
      "needs_background": "light"
     },
     "output_type": "display_data"
    },
    {
     "data": {
      "image/png": "[encoded data removed]",
      "text/plain": [
       "<Figure size 432x288 with 1 Axes>"
      ]
     },
     "metadata": {
      "needs_background": "light"
     },
     "output_type": "display_data"
    },
    {
     "data": {
      "image/png": "[encoded data removed]",
      "text/plain": [
       "<Figure size 432x288 with 1 Axes>"
      ]
     },
     "metadata": {
      "needs_background": "light"
     },
     "output_type": "display_data"
    },
    {
     "data": {
      "image/png": "[encoded data removed]",
      "text/plain": [
       "<Figure size 432x288 with 1 Axes>"
      ]
     },
     "metadata": {
      "needs_background": "light"
     },
     "output_type": "display_data"
    },
    {
     "data": {
      "image/png": "[encoded data removed]",
      "text/plain": [
       "<Figure size 432x288 with 1 Axes>"
      ]
     },
     "metadata": {
      "needs_background": "light"
     },
     "output_type": "display_data"
    },
    {
     "data": {
      "image/png": "[encoded data removed]",
      "text/plain": [
       "<Figure size 432x288 with 1 Axes>"
      ]
     },
     "metadata": {
      "needs_background": "light"
     },
     "output_type": "display_data"
    },
    {
     "data": {
      "text/plain": [
       "<Figure size 432x288 with 0 Axes>"
      ]
     },
     "metadata": {},
     "output_type": "display_data"
    }
   ],
   "source": [
    "for item in feats_to_log:\n",
    "    ax=sns.distplot(df[item].values)\n",
    "    ax.set_title(item);\n",
    "    plt.show()\n",
    "    plt.clf()\n"
   ]
  },
  {
   "cell_type": "code",
   "execution_count": 27,
   "metadata": {},
   "outputs": [
    {
     "data": {
      "text/html": [
       "<div>\n",
       "<style scoped>\n",
       "    .dataframe tbody tr th:only-of-type {\n",
       "        vertical-align: middle;\n",
       "    }\n",
       "\n",
       "    .dataframe tbody tr th {\n",
       "        vertical-align: top;\n",
       "    }\n",
       "\n",
       "    .dataframe thead th {\n",
       "        text-align: right;\n",
       "    }\n",
       "</style>\n",
       "<table border=\"1\" class=\"dataframe\">\n",
       "  <thead>\n",
       "    <tr style=\"text-align: right;\">\n",
       "      <th></th>\n",
       "      <th>MONTH</th>\n",
       "      <th>TOTAL_HRS</th>\n",
       "      <th>DAY_HRS</th>\n",
       "      <th>NIGHT_HRS</th>\n",
       "      <th>WIND_CALC_MEAN</th>\n",
       "      <th>PRES_CALC_MEAN</th>\n",
       "      <th>STORM_SPD_MEAN</th>\n",
       "      <th>STORM_DR_MEAN</th>\n",
       "      <th>V_LAND_KN</th>\n",
       "      <th>TOTAL_DAMAGE_(000$)_Adjusted</th>\n",
       "      <th>...</th>\n",
       "      <th>Life expectancy at birth, total (years)</th>\n",
       "      <th>Mobile cellular subscriptions (per 100 people)</th>\n",
       "      <th>Population density (people per sq. km of land area)</th>\n",
       "      <th>Adjusted savings: education expenditure (% of GNI)</th>\n",
       "      <th>Rural population (% of total population)</th>\n",
       "      <th>Income_level_Final</th>\n",
       "      <th>pop_max_34_adj</th>\n",
       "      <th>pop_max_50_adj</th>\n",
       "      <th>pop_max_64_adj</th>\n",
       "      <th>TOTAL_AFFECTED</th>\n",
       "    </tr>\n",
       "  </thead>\n",
       "  <tbody>\n",
       "    <tr>\n",
       "      <th>count</th>\n",
       "      <td>1005.000000</td>\n",
       "      <td>1005.000000</td>\n",
       "      <td>1005.000000</td>\n",
       "      <td>1005.000000</td>\n",
       "      <td>1001.000000</td>\n",
       "      <td>1005.000000</td>\n",
       "      <td>1005.000000</td>\n",
       "      <td>1005.000000</td>\n",
       "      <td>1005.000000</td>\n",
       "      <td>1005.000000</td>\n",
       "      <td>...</td>\n",
       "      <td>1001.000000</td>\n",
       "      <td>996.000000</td>\n",
       "      <td>1005.000000</td>\n",
       "      <td>1005.000000</td>\n",
       "      <td>1005.000000</td>\n",
       "      <td>1005.000000</td>\n",
       "      <td>1005.000000</td>\n",
       "      <td>1005.000000</td>\n",
       "      <td>1005.000000</td>\n",
       "      <td>1005.000000</td>\n",
       "    </tr>\n",
       "    <tr>\n",
       "      <th>mean</th>\n",
       "      <td>7.780100</td>\n",
       "      <td>13.187065</td>\n",
       "      <td>2.121393</td>\n",
       "      <td>11.065672</td>\n",
       "      <td>59.718462</td>\n",
       "      <td>975.450806</td>\n",
       "      <td>12.047601</td>\n",
       "      <td>215.481903</td>\n",
       "      <td>90.011543</td>\n",
       "      <td>2.082295</td>\n",
       "      <td>...</td>\n",
       "      <td>70.647402</td>\n",
       "      <td>43.296536</td>\n",
       "      <td>2.094491</td>\n",
       "      <td>0.452900</td>\n",
       "      <td>47.065884</td>\n",
       "      <td>2.503483</td>\n",
       "      <td>6.354219</td>\n",
       "      <td>5.862670</td>\n",
       "      <td>5.158980</td>\n",
       "      <td>4.371673</td>\n",
       "    </tr>\n",
       "    <tr>\n",
       "      <th>std</th>\n",
       "      <td>2.762945</td>\n",
       "      <td>7.412493</td>\n",
       "      <td>3.811702</td>\n",
       "      <td>8.259346</td>\n",
       "      <td>25.080155</td>\n",
       "      <td>56.845274</td>\n",
       "      <td>6.586180</td>\n",
       "      <td>96.090666</td>\n",
       "      <td>31.633313</td>\n",
       "      <td>1.695371</td>\n",
       "      <td>...</td>\n",
       "      <td>7.252531</td>\n",
       "      <td>47.524739</td>\n",
       "      <td>0.568897</td>\n",
       "      <td>0.212688</td>\n",
       "      <td>22.016753</td>\n",
       "      <td>0.962048</td>\n",
       "      <td>2.091023</td>\n",
       "      <td>2.238822</td>\n",
       "      <td>2.462603</td>\n",
       "      <td>1.353087</td>\n",
       "    </tr>\n",
       "    <tr>\n",
       "      <th>min</th>\n",
       "      <td>1.000000</td>\n",
       "      <td>0.000000</td>\n",
       "      <td>0.000000</td>\n",
       "      <td>-1.000000</td>\n",
       "      <td>18.620690</td>\n",
       "      <td>0.000000</td>\n",
       "      <td>1.565217</td>\n",
       "      <td>2.000000</td>\n",
       "      <td>30.000000</td>\n",
       "      <td>-0.925049</td>\n",
       "      <td>...</td>\n",
       "      <td>41.762000</td>\n",
       "      <td>0.000000</td>\n",
       "      <td>0.251958</td>\n",
       "      <td>-0.268507</td>\n",
       "      <td>0.000000</td>\n",
       "      <td>1.000000</td>\n",
       "      <td>0.000000</td>\n",
       "      <td>0.000000</td>\n",
       "      <td>0.000000</td>\n",
       "      <td>0.301030</td>\n",
       "    </tr>\n",
       "    <tr>\n",
       "      <th>25%</th>\n",
       "      <td>7.000000</td>\n",
       "      <td>6.000000</td>\n",
       "      <td>0.000000</td>\n",
       "      <td>3.000000</td>\n",
       "      <td>40.000000</td>\n",
       "      <td>966.400000</td>\n",
       "      <td>7.666667</td>\n",
       "      <td>153.800000</td>\n",
       "      <td>62.400000</td>\n",
       "      <td>0.000000</td>\n",
       "      <td>...</td>\n",
       "      <td>67.136150</td>\n",
       "      <td>0.052346</td>\n",
       "      <td>1.700602</td>\n",
       "      <td>0.264818</td>\n",
       "      <td>23.959000</td>\n",
       "      <td>2.000000</td>\n",
       "      <td>6.309532</td>\n",
       "      <td>5.767974</td>\n",
       "      <td>4.960574</td>\n",
       "      <td>3.477121</td>\n",
       "    </tr>\n",
       "    <tr>\n",
       "      <th>50%</th>\n",
       "      <td>8.000000</td>\n",
       "      <td>15.000000</td>\n",
       "      <td>0.000000</td>\n",
       "      <td>9.000000</td>\n",
       "      <td>55.250000</td>\n",
       "      <td>981.857143</td>\n",
       "      <td>10.666667</td>\n",
       "      <td>260.750000</td>\n",
       "      <td>89.200000</td>\n",
       "      <td>2.486741</td>\n",
       "      <td>...</td>\n",
       "      <td>71.063000</td>\n",
       "      <td>27.669708</td>\n",
       "      <td>2.160119</td>\n",
       "      <td>0.442729</td>\n",
       "      <td>53.525000</td>\n",
       "      <td>2.000000</td>\n",
       "      <td>6.980567</td>\n",
       "      <td>6.568644</td>\n",
       "      <td>6.111959</td>\n",
       "      <td>4.477121</td>\n",
       "    </tr>\n",
       "    <tr>\n",
       "      <th>75%</th>\n",
       "      <td>10.000000</td>\n",
       "      <td>21.000000</td>\n",
       "      <td>3.000000</td>\n",
       "      <td>21.000000</td>\n",
       "      <td>75.705882</td>\n",
       "      <td>993.571429</td>\n",
       "      <td>14.411765</td>\n",
       "      <td>288.250000</td>\n",
       "      <td>114.700000</td>\n",
       "      <td>3.464999</td>\n",
       "      <td>...</td>\n",
       "      <td>75.164000</td>\n",
       "      <td>83.671391</td>\n",
       "      <td>2.479996</td>\n",
       "      <td>0.623938</td>\n",
       "      <td>64.917000</td>\n",
       "      <td>3.000000</td>\n",
       "      <td>7.494052</td>\n",
       "      <td>7.192959</td>\n",
       "      <td>6.727481</td>\n",
       "      <td>5.394553</td>\n",
       "    </tr>\n",
       "    <tr>\n",
       "      <th>max</th>\n",
       "      <td>12.000000</td>\n",
       "      <td>23.000000</td>\n",
       "      <td>12.000000</td>\n",
       "      <td>23.000000</td>\n",
       "      <td>150.000000</td>\n",
       "      <td>1013.000000</td>\n",
       "      <td>49.800000</td>\n",
       "      <td>358.000000</td>\n",
       "      <td>171.800000</td>\n",
       "      <td>6.213885</td>\n",
       "      <td>...</td>\n",
       "      <td>84.680488</td>\n",
       "      <td>328.790446</td>\n",
       "      <td>4.311325</td>\n",
       "      <td>1.146438</td>\n",
       "      <td>92.421000</td>\n",
       "      <td>4.000000</td>\n",
       "      <td>8.575762</td>\n",
       "      <td>8.508228</td>\n",
       "      <td>8.030877</td>\n",
       "      <td>7.471614</td>\n",
       "    </tr>\n",
       "  </tbody>\n",
       "</table>\n",
       "<p>8 rows × 29 columns</p>\n",
       "</div>"
      ],
      "text/plain": [
       "             MONTH    TOTAL_HRS      DAY_HRS    NIGHT_HRS  WIND_CALC_MEAN  \\\n",
       "count  1005.000000  1005.000000  1005.000000  1005.000000     1001.000000   \n",
       "mean      7.780100    13.187065     2.121393    11.065672       59.718462   \n",
       "std       2.762945     7.412493     3.811702     8.259346       25.080155   \n",
       "min       1.000000     0.000000     0.000000    -1.000000       18.620690   \n",
       "25%       7.000000     6.000000     0.000000     3.000000       40.000000   \n",
       "50%       8.000000    15.000000     0.000000     9.000000       55.250000   \n",
       "75%      10.000000    21.000000     3.000000    21.000000       75.705882   \n",
       "max      12.000000    23.000000    12.000000    23.000000      150.000000   \n",
       "\n",
       "       PRES_CALC_MEAN  STORM_SPD_MEAN  STORM_DR_MEAN    V_LAND_KN  \\\n",
       "count     1005.000000     1005.000000    1005.000000  1005.000000   \n",
       "mean       975.450806       12.047601     215.481903    90.011543   \n",
       "std         56.845274        6.586180      96.090666    31.633313   \n",
       "min          0.000000        1.565217       2.000000    30.000000   \n",
       "25%        966.400000        7.666667     153.800000    62.400000   \n",
       "50%        981.857143       10.666667     260.750000    89.200000   \n",
       "75%        993.571429       14.411765     288.250000   114.700000   \n",
       "max       1013.000000       49.800000     358.000000   171.800000   \n",
       "\n",
       "       TOTAL_DAMAGE_(000$)_Adjusted  ...  \\\n",
       "count                   1005.000000  ...   \n",
       "mean                       2.082295  ...   \n",
       "std                        1.695371  ...   \n",
       "min                       -0.925049  ...   \n",
       "25%                        0.000000  ...   \n",
       "50%                        2.486741  ...   \n",
       "75%                        3.464999  ...   \n",
       "max                        6.213885  ...   \n",
       "\n",
       "       Life expectancy at birth, total (years)  \\\n",
       "count                              1001.000000   \n",
       "mean                                 70.647402   \n",
       "std                                   7.252531   \n",
       "min                                  41.762000   \n",
       "25%                                  67.136150   \n",
       "50%                                  71.063000   \n",
       "75%                                  75.164000   \n",
       "max                                  84.680488   \n",
       "\n",
       "       Mobile cellular subscriptions (per 100 people)  \\\n",
       "count                                      996.000000   \n",
       "mean                                        43.296536   \n",
       "std                                         47.524739   \n",
       "min                                          0.000000   \n",
       "25%                                          0.052346   \n",
       "50%                                         27.669708   \n",
       "75%                                         83.671391   \n",
       "max                                        328.790446   \n",
       "\n",
       "       Population density (people per sq. km of land area)  \\\n",
       "count                                        1005.000000     \n",
       "mean                                            2.094491     \n",
       "std                                             0.568897     \n",
       "min                                             0.251958     \n",
       "25%                                             1.700602     \n",
       "50%                                             2.160119     \n",
       "75%                                             2.479996     \n",
       "max                                             4.311325     \n",
       "\n",
       "       Adjusted savings: education expenditure (% of GNI)  \\\n",
       "count                                        1005.000000    \n",
       "mean                                            0.452900    \n",
       "std                                             0.212688    \n",
       "min                                            -0.268507    \n",
       "25%                                             0.264818    \n",
       "50%                                             0.442729    \n",
       "75%                                             0.623938    \n",
       "max                                             1.146438    \n",
       "\n",
       "       Rural population (% of total population)  Income_level_Final  \\\n",
       "count                               1005.000000         1005.000000   \n",
       "mean                                  47.065884            2.503483   \n",
       "std                                   22.016753            0.962048   \n",
       "min                                    0.000000            1.000000   \n",
       "25%                                   23.959000            2.000000   \n",
       "50%                                   53.525000            2.000000   \n",
       "75%                                   64.917000            3.000000   \n",
       "max                                   92.421000            4.000000   \n",
       "\n",
       "       pop_max_34_adj  pop_max_50_adj  pop_max_64_adj  TOTAL_AFFECTED  \n",
       "count     1005.000000     1005.000000     1005.000000     1005.000000  \n",
       "mean         6.354219        5.862670        5.158980        4.371673  \n",
       "std          2.091023        2.238822        2.462603        1.353087  \n",
       "min          0.000000        0.000000        0.000000        0.301030  \n",
       "25%          6.309532        5.767974        4.960574        3.477121  \n",
       "50%          6.980567        6.568644        6.111959        4.477121  \n",
       "75%          7.494052        7.192959        6.727481        5.394553  \n",
       "max          8.575762        8.508228        8.030877        7.471614  \n",
       "\n",
       "[8 rows x 29 columns]"
      ]
     },
     "execution_count": 27,
     "metadata": {},
     "output_type": "execute_result"
    }
   ],
   "source": [
    "df.describe()"
   ]
  },
  {
   "cell_type": "markdown",
   "metadata": {},
   "source": [
    "- **Apply min_max_scaler**"
   ]
  },
  {
   "cell_type": "code",
   "execution_count": 28,
   "metadata": {},
   "outputs": [],
   "source": [
    "#df.shape"
   ]
  },
  {
   "cell_type": "code",
   "execution_count": 29,
   "metadata": {},
   "outputs": [
    {
     "data": {
      "text/plain": [
       "\"\\n# first we split df into categorical and numerical features, to merge later\\ndf_cat = df.select_dtypes(include='object')\\ndf_num = df.select_dtypes(exclude='object')\\n\""
      ]
     },
     "execution_count": 29,
     "metadata": {},
     "output_type": "execute_result"
    }
   ],
   "source": [
    "'''\n",
    "# first we split df into categorical and numerical features, to merge later\n",
    "df_cat = df.select_dtypes(include='object')\n",
    "df_num = df.select_dtypes(exclude='object')\n",
    "'''"
   ]
  },
  {
   "cell_type": "code",
   "execution_count": 30,
   "metadata": {},
   "outputs": [],
   "source": [
    "# min_max_scaler = preprocessing.MinMaxScaler()"
   ]
  },
  {
   "cell_type": "code",
   "execution_count": 31,
   "metadata": {},
   "outputs": [],
   "source": [
    "# cols_num = df_num.columns #we'll use this later\n",
    "# cols_num"
   ]
  },
  {
   "cell_type": "code",
   "execution_count": 32,
   "metadata": {},
   "outputs": [],
   "source": [
    "# X = df_num.values\n",
    "# x_scaled = min_max_scaler.fit_transform(X)\n",
    "# df_num = pd.DataFrame(x_scaled)"
   ]
  },
  {
   "cell_type": "code",
   "execution_count": 33,
   "metadata": {},
   "outputs": [],
   "source": [
    "# df_num.head()"
   ]
  },
  {
   "cell_type": "code",
   "execution_count": 34,
   "metadata": {},
   "outputs": [],
   "source": [
    "# df_num.rename(columns = dict(zip(df_num.columns, cols_num)), inplace = True)"
   ]
  },
  {
   "cell_type": "code",
   "execution_count": 35,
   "metadata": {},
   "outputs": [],
   "source": [
    "# df_num.head(5)"
   ]
  },
  {
   "cell_type": "code",
   "execution_count": 36,
   "metadata": {},
   "outputs": [],
   "source": [
    "# df_num.shape"
   ]
  },
  {
   "cell_type": "code",
   "execution_count": 37,
   "metadata": {},
   "outputs": [],
   "source": [
    "# df_cat.shape"
   ]
  },
  {
   "cell_type": "markdown",
   "metadata": {},
   "source": [
    "Merging again df_num and df_cat"
   ]
  },
  {
   "cell_type": "code",
   "execution_count": 38,
   "metadata": {},
   "outputs": [],
   "source": [
    "# df_scaled = pd.merge(df_cat, df_num, how='inner', left_index=True, right_index=True)"
   ]
  },
  {
   "cell_type": "code",
   "execution_count": 39,
   "metadata": {},
   "outputs": [],
   "source": [
    "# df_scaled.head(20)"
   ]
  },
  {
   "cell_type": "code",
   "execution_count": 40,
   "metadata": {},
   "outputs": [],
   "source": [
    "# df_scaled.shape"
   ]
  },
  {
   "cell_type": "markdown",
   "metadata": {},
   "source": [
    "- **One hot encoding for categorical variables**"
   ]
  },
  {
   "cell_type": "code",
   "execution_count": 41,
   "metadata": {
    "scrolled": true
   },
   "outputs": [
    {
     "name": "stdout",
     "output_type": "stream",
     "text": [
      "<class 'pandas.core.frame.DataFrame'>\n",
      "RangeIndex: 1005 entries, 0 to 1004\n",
      "Data columns (total 33 columns):\n",
      "BASIN                                                  1005 non-null category\n",
      "SUB BASIN                                              1005 non-null category\n",
      "NATURE                                                 1005 non-null category\n",
      "MONTH                                                  1005 non-null int32\n",
      "TOTAL_HRS                                              1005 non-null int64\n",
      "DAY_HRS                                                1005 non-null int64\n",
      "NIGHT_HRS                                              1005 non-null int64\n",
      "USA_SSHS                                               998 non-null category\n",
      "WIND_CALC_MEAN                                         1001 non-null float64\n",
      "PRES_CALC_MEAN                                         1005 non-null float64\n",
      "STORM_SPD_MEAN                                         1005 non-null float64\n",
      "STORM_DR_MEAN                                          1005 non-null float64\n",
      "V_LAND_KN                                              1005 non-null float64\n",
      "TOTAL_DAMAGE_(000$)_Adjusted                           1005 non-null float64\n",
      "CALC_assets_emdat                                      1005 non-null float64\n",
      "TOTAL_DEATHS                                           1005 non-null float64\n",
      "Air transport, freight (million ton-km)                1005 non-null float64\n",
      "Arable land (hectares per person)                      1005 non-null float64\n",
      "Cereal yield (kg per hectare)                          995 non-null float64\n",
      "Food production index (2004-2006 = 100)                1001 non-null float64\n",
      "GDP growth (annual %)                                  965 non-null float64\n",
      "GDP per capita (constant 2010 US$)                     996 non-null float64\n",
      "Net flows from UN agencies US$                         1005 non-null float64\n",
      "Life expectancy at birth, total (years)                1001 non-null float64\n",
      "Mobile cellular subscriptions (per 100 people)         996 non-null float64\n",
      "Population density (people per sq. km of land area)    1005 non-null float64\n",
      "Adjusted savings: education expenditure (% of GNI)     1005 non-null float64\n",
      "Rural population (% of total population)               1005 non-null float64\n",
      "Income_level_Final                                     1005 non-null int64\n",
      "pop_max_34_adj                                         1005 non-null float64\n",
      "pop_max_50_adj                                         1005 non-null float64\n",
      "pop_max_64_adj                                         1005 non-null float64\n",
      "TOTAL_AFFECTED                                         1005 non-null float64\n",
      "dtypes: category(4), float64(24), int32(1), int64(4)\n",
      "memory usage: 229.0 KB\n"
     ]
    }
   ],
   "source": [
    "df.info()"
   ]
  },
  {
   "cell_type": "code",
   "execution_count": 42,
   "metadata": {},
   "outputs": [
    {
     "data": {
      "text/plain": [
       "Index(['BASIN', 'SUB BASIN', 'NATURE', 'USA_SSHS'], dtype='object')"
      ]
     },
     "execution_count": 42,
     "metadata": {},
     "output_type": "execute_result"
    }
   ],
   "source": [
    "cat_feats = df.dtypes[df.dtypes == 'category'].index\n",
    "cat_feats"
   ]
  },
  {
   "cell_type": "code",
   "execution_count": 43,
   "metadata": {},
   "outputs": [],
   "source": [
    "feats_to_dummy = cat_feats #selecting feats to make one-hot encoding\n",
    "\n",
    "for feature in feats_to_dummy:\n",
    "    dummy = pd.get_dummies(df[feature], prefix=feature)\n",
    "    df = pd.concat([df,dummy], axis=1)"
   ]
  },
  {
   "cell_type": "code",
   "execution_count": 44,
   "metadata": {},
   "outputs": [],
   "source": [
    "# Dropping dummed features\n",
    "df = df.drop(feats_to_dummy, axis=1)"
   ]
  },
  {
   "cell_type": "code",
   "execution_count": 45,
   "metadata": {},
   "outputs": [
    {
     "data": {
      "text/plain": [
       "Index(['MONTH', 'TOTAL_HRS', 'DAY_HRS', 'NIGHT_HRS', 'WIND_CALC_MEAN',\n",
       "       'PRES_CALC_MEAN', 'STORM_SPD_MEAN', 'STORM_DR_MEAN', 'V_LAND_KN',\n",
       "       'TOTAL_DAMAGE_(000$)_Adjusted', 'CALC_assets_emdat', 'TOTAL_DEATHS',\n",
       "       'Air transport, freight (million ton-km)',\n",
       "       'Arable land (hectares per person)', 'Cereal yield (kg per hectare)',\n",
       "       'Food production index (2004-2006 = 100)', 'GDP growth (annual %)',\n",
       "       'GDP per capita (constant 2010 US$)', 'Net flows from UN agencies US$',\n",
       "       'Life expectancy at birth, total (years)',\n",
       "       'Mobile cellular subscriptions (per 100 people)',\n",
       "       'Population density (people per sq. km of land area)',\n",
       "       'Adjusted savings: education expenditure (% of GNI)',\n",
       "       'Rural population (% of total population)', 'Income_level_Final',\n",
       "       'pop_max_34_adj', 'pop_max_50_adj', 'pop_max_64_adj', 'TOTAL_AFFECTED',\n",
       "       'BASIN_EP', 'BASIN_NAm', 'BASIN_NI', 'BASIN_SI', 'BASIN_SP', 'BASIN_WP',\n",
       "       'SUB BASIN_AS', 'SUB BASIN_BB', 'SUB BASIN_CP', 'SUB BASIN_CS',\n",
       "       'SUB BASIN_EA', 'SUB BASIN_EP', 'SUB BASIN_GM', 'SUB BASIN_NAm',\n",
       "       'SUB BASIN_SI', 'SUB BASIN_SP', 'SUB BASIN_WA', 'SUB BASIN_WP',\n",
       "       'NATURE_DS', 'NATURE_ET', 'NATURE_MX', 'NATURE_NR', 'NATURE_SS',\n",
       "       'NATURE_TS', 'USA_SSHS_-4.0', 'USA_SSHS_-3.0', 'USA_SSHS_-2.0',\n",
       "       'USA_SSHS_-1.0', 'USA_SSHS_0.0', 'USA_SSHS_1.0', 'USA_SSHS_2.0',\n",
       "       'USA_SSHS_3.0', 'USA_SSHS_4.0', 'USA_SSHS_5.0'],\n",
       "      dtype='object')"
      ]
     },
     "execution_count": 45,
     "metadata": {},
     "output_type": "execute_result"
    }
   ],
   "source": [
    "df.columns"
   ]
  },
  {
   "cell_type": "code",
   "execution_count": 46,
   "metadata": {},
   "outputs": [
    {
     "data": {
      "text/plain": [
       "(1005, 63)"
      ]
     },
     "execution_count": 46,
     "metadata": {},
     "output_type": "execute_result"
    }
   ],
   "source": [
    "df.shape"
   ]
  },
  {
   "cell_type": "code",
   "execution_count": 47,
   "metadata": {},
   "outputs": [],
   "source": [
    "#Deleting Basin and keeping subBasin because has higher granularity\n",
    "#column arrangement \n",
    "df = df[[\n",
    "    \n",
    "     # here columns from cyclones dataset:\n",
    "    'TOTAL_DEATHS',\n",
    "    'MONTH', 'TOTAL_HRS', 'DAY_HRS', 'NIGHT_HRS', 'WIND_CALC_MEAN',\n",
    "       'PRES_CALC_MEAN', 'STORM_SPD_MEAN', 'STORM_DR_MEAN', 'V_LAND_KN',\n",
    "       'TOTAL_DAMAGE_(000$)_Adjusted', 'CALC_assets_emdat', \n",
    "    \n",
    "       'SUB BASIN_AS', 'SUB BASIN_BB', 'SUB BASIN_CP', 'SUB BASIN_CS',\n",
    "       'SUB BASIN_EA', 'SUB BASIN_EP', 'SUB BASIN_GM', 'SUB BASIN_NAm',\n",
    "       'SUB BASIN_SI', 'SUB BASIN_SP', 'SUB BASIN_WA', 'SUB BASIN_WP',\n",
    "       'NATURE_DS', 'NATURE_ET', 'NATURE_MX', 'NATURE_NR', 'NATURE_SS',\n",
    "       'NATURE_TS', 'USA_SSHS_-4.0', 'USA_SSHS_-3.0', 'USA_SSHS_-2.0',\n",
    "       'USA_SSHS_-1.0', 'USA_SSHS_0.0', 'USA_SSHS_1.0', 'USA_SSHS_2.0',\n",
    "       'USA_SSHS_3.0', 'USA_SSHS_4.0', 'USA_SSHS_5.0',\n",
    "\n",
    "         \n",
    "    # here columns from World Bank Indicators dataset:\n",
    "     'Air transport, freight (million ton-km)',\n",
    "       'Arable land (hectares per person)', 'Cereal yield (kg per hectare)',\n",
    "       'Food production index (2004-2006 = 100)', 'GDP growth (annual %)',\n",
    "       'GDP per capita (constant 2010 US$)', 'Net flows from UN agencies US$',\n",
    "       'Life expectancy at birth, total (years)',\n",
    "       'Mobile cellular subscriptions (per 100 people)',\n",
    "       'Population density (people per sq. km of land area)',\n",
    "       'Adjusted savings: education expenditure (% of GNI)',\n",
    "       'Rural population (% of total population)', 'Income_level_Final',\n",
    "         \n",
    "    #  here columns from climada:\n",
    "        'pop_max_34_adj', 'pop_max_50_adj', 'pop_max_64_adj',\n",
    "         \n",
    "    # Target   \n",
    "       'TOTAL_AFFECTED']]"
   ]
  },
  {
   "cell_type": "code",
   "execution_count": 48,
   "metadata": {},
   "outputs": [
    {
     "data": {
      "text/plain": [
       "(1005, 57)"
      ]
     },
     "execution_count": 48,
     "metadata": {},
     "output_type": "execute_result"
    }
   ],
   "source": [
    "df.shape"
   ]
  },
  {
   "cell_type": "markdown",
   "metadata": {},
   "source": [
    "### Feature selection"
   ]
  },
  {
   "cell_type": "code",
   "execution_count": 49,
   "metadata": {},
   "outputs": [],
   "source": [
    "# choosing the features to include in the model\n",
    "# We take out 'TOTAL_DEATHS' because this input will not be available at the time of prediction\n",
    "features1 = [   \n",
    "     # here columns from cyclones dataset:\n",
    "    'MONTH', 'TOTAL_HRS', 'DAY_HRS', 'NIGHT_HRS', 'WIND_CALC_MEAN',\n",
    "       'PRES_CALC_MEAN', 'STORM_SPD_MEAN', 'STORM_DR_MEAN', 'V_LAND_KN',\n",
    "       'TOTAL_DAMAGE_(000$)_Adjusted', 'CALC_assets_emdat', \n",
    "    \n",
    "       'SUB BASIN_AS', 'SUB BASIN_BB', 'SUB BASIN_CP', 'SUB BASIN_CS',\n",
    "       'SUB BASIN_EA', 'SUB BASIN_EP', 'SUB BASIN_GM', 'SUB BASIN_NAm',\n",
    "       'SUB BASIN_SI', 'SUB BASIN_SP', 'SUB BASIN_WA', 'SUB BASIN_WP',\n",
    "       'NATURE_DS', 'NATURE_ET', 'NATURE_MX', 'NATURE_NR', 'NATURE_SS',\n",
    "       'NATURE_TS', 'USA_SSHS_-4.0', 'USA_SSHS_-3.0', 'USA_SSHS_-2.0',\n",
    "       'USA_SSHS_-1.0', 'USA_SSHS_0.0', 'USA_SSHS_1.0', 'USA_SSHS_2.0',\n",
    "       'USA_SSHS_3.0', 'USA_SSHS_4.0', 'USA_SSHS_5.0',\n",
    "\n",
    "         \n",
    "    # here columns from World Bank Indicators dataset:\n",
    "     'Air transport, freight (million ton-km)',\n",
    "       'Arable land (hectares per person)', 'Cereal yield (kg per hectare)',\n",
    "       'Food production index (2004-2006 = 100)', 'GDP growth (annual %)',\n",
    "       'GDP per capita (constant 2010 US$)', 'Net flows from UN agencies US$',\n",
    "       'Life expectancy at birth, total (years)',\n",
    "       'Mobile cellular subscriptions (per 100 people)',\n",
    "       'Population density (people per sq. km of land area)',\n",
    "       'Adjusted savings: education expenditure (% of GNI)',\n",
    "       'Rural population (% of total population)', 'Income_level_Final',\n",
    "         \n",
    "    #  here columns from climada:\n",
    "        'pop_max_34_adj', 'pop_max_50_adj', 'pop_max_64_adj',\n",
    "         ]"
   ]
  },
  {
   "cell_type": "code",
   "execution_count": 50,
   "metadata": {},
   "outputs": [],
   "source": [
    "# features2 . Deleting columns with high NaNs\n",
    "\n",
    "features2 = [\n",
    " # here columns from cyclones dataset:\n",
    "    'MONTH', 'TOTAL_HRS', 'DAY_HRS', 'NIGHT_HRS', 'WIND_CALC_MEAN',\n",
    "       'PRES_CALC_MEAN', 'STORM_SPD_MEAN', 'STORM_DR_MEAN', 'V_LAND_KN',\n",
    "       \n",
    "    \n",
    "       'SUB BASIN_AS', 'SUB BASIN_BB', 'SUB BASIN_CP', 'SUB BASIN_CS',\n",
    "       'SUB BASIN_EA', 'SUB BASIN_EP', 'SUB BASIN_GM', 'SUB BASIN_NAm',\n",
    "       'SUB BASIN_SI', 'SUB BASIN_SP', 'SUB BASIN_WA', 'SUB BASIN_WP',\n",
    "       'NATURE_DS', 'NATURE_ET', 'NATURE_MX', 'NATURE_NR', 'NATURE_SS',\n",
    "       'NATURE_TS', 'USA_SSHS_-4.0', 'USA_SSHS_-3.0', 'USA_SSHS_-2.0',\n",
    "       'USA_SSHS_-1.0', 'USA_SSHS_0.0', 'USA_SSHS_1.0', 'USA_SSHS_2.0',\n",
    "       'USA_SSHS_3.0', 'USA_SSHS_4.0', 'USA_SSHS_5.0',\n",
    "\n",
    "         \n",
    "    # here columns from World Bank Indicators dataset:\n",
    "     \n",
    "       'Arable land (hectares per person)', 'Cereal yield (kg per hectare)',\n",
    "       'Food production index (2004-2006 = 100)', \n",
    "       'GDP per capita (constant 2010 US$)', \n",
    "       'Life expectancy at birth, total (years)',\n",
    "       'Population density (people per sq. km of land area)',\n",
    "       'Adjusted savings: education expenditure (% of GNI)',\n",
    "       'Rural population (% of total population)', 'Income_level_Final',\n",
    "         \n",
    "    #  here columns from climada:\n",
    "        'pop_max_64_adj',\n",
    "         ]"
   ]
  },
  {
   "cell_type": "code",
   "execution_count": 51,
   "metadata": {},
   "outputs": [],
   "source": [
    "# arnab feats\n",
    "\n",
    "features3 = ['TOTAL_HRS', 'USA_SSHS_-4.0', 'USA_SSHS_-3.0', 'USA_SSHS_-2.0',\n",
    "       'USA_SSHS_-1.0', 'USA_SSHS_0.0', 'USA_SSHS_1.0', 'USA_SSHS_2.0',\n",
    "       'USA_SSHS_3.0', 'USA_SSHS_4.0', 'USA_SSHS_5.0', 'WIND_CALC_MEAN', 'PRES_CALC_MEAN', 'STORM_SPD_MEAN',\n",
    "             'V_LAND_KN', 'Population density (people per sq. km of land area)',\n",
    "             'Rural population (% of total population)', 'Income_level_Final', 'pop_max_34_adj', \n",
    "             'pop_max_50_adj', 'pop_max_64_adj']"
   ]
  },
  {
   "cell_type": "code",
   "execution_count": 52,
   "metadata": {},
   "outputs": [],
   "source": [
    "df = df[df['TOTAL_AFFECTED'] >0]"
   ]
  },
  {
   "cell_type": "code",
   "execution_count": 53,
   "metadata": {
    "scrolled": true
   },
   "outputs": [
    {
     "data": {
      "text/plain": [
       "array([0, 1], dtype=uint64)"
      ]
     },
     "execution_count": 53,
     "metadata": {},
     "output_type": "execute_result"
    }
   ],
   "source": [
    "#some checks....\n",
    "df['SUB BASIN_NAm'].unique()"
   ]
  },
  {
   "cell_type": "code",
   "execution_count": 54,
   "metadata": {},
   "outputs": [
    {
     "data": {
      "text/plain": [
       "<matplotlib.axes._subplots.AxesSubplot at 0x21bcc57fc88>"
      ]
     },
     "execution_count": 54,
     "metadata": {},
     "output_type": "execute_result"
    },
    {
     "data": {
      "image/png": "[encoded data removed]",
      "text/plain": [
       "<Figure size 720x360 with 1 Axes>"
      ]
     },
     "metadata": {
      "needs_background": "light"
     },
     "output_type": "display_data"
    }
   ],
   "source": [
    "#some checks....\n",
    "df['TOTAL_AFFECTED'].hist(bins=20, figsize=(10,5)) #this is logarithmic and scaled(0,1)"
   ]
  },
  {
   "cell_type": "markdown",
   "metadata": {},
   "source": [
    "__________________"
   ]
  },
  {
   "cell_type": "markdown",
   "metadata": {},
   "source": [
    "________________________"
   ]
  },
  {
   "cell_type": "markdown",
   "metadata": {},
   "source": [
    "## Random forest model____________________________________"
   ]
  },
  {
   "cell_type": "code",
   "execution_count": 55,
   "metadata": {},
   "outputs": [
    {
     "data": {
      "text/plain": [
       "(1005, 57)"
      ]
     },
     "execution_count": 55,
     "metadata": {},
     "output_type": "execute_result"
    }
   ],
   "source": [
    " #trim. Scaled and logged 1000 < x <5000000\n",
    "# df_scaled =  df_scaled[df_scaled['TOTAL_AFFECTED'] > 0.4] \n",
    "# df_scaled =  df_scaled[df_scaled['TOTAL_AFFECTED'] < 0.9]\n",
    "df.shape"
   ]
  },
  {
   "cell_type": "code",
   "execution_count": 56,
   "metadata": {},
   "outputs": [],
   "source": [
    "# df_scaled.dropna(inplace = True)"
   ]
  },
  {
   "cell_type": "code",
   "execution_count": 57,
   "metadata": {},
   "outputs": [],
   "source": [
    "from sklearn.impute import KNNImputer"
   ]
  },
  {
   "cell_type": "code",
   "execution_count": 58,
   "metadata": {},
   "outputs": [
    {
     "data": {
      "text/html": [
       "<div>\n",
       "<style scoped>\n",
       "    .dataframe tbody tr th:only-of-type {\n",
       "        vertical-align: middle;\n",
       "    }\n",
       "\n",
       "    .dataframe tbody tr th {\n",
       "        vertical-align: top;\n",
       "    }\n",
       "\n",
       "    .dataframe thead th {\n",
       "        text-align: right;\n",
       "    }\n",
       "</style>\n",
       "<table border=\"1\" class=\"dataframe\">\n",
       "  <thead>\n",
       "    <tr style=\"text-align: right;\">\n",
       "      <th></th>\n",
       "      <th>0</th>\n",
       "      <th>1</th>\n",
       "      <th>2</th>\n",
       "      <th>3</th>\n",
       "      <th>4</th>\n",
       "      <th>5</th>\n",
       "      <th>6</th>\n",
       "      <th>7</th>\n",
       "      <th>8</th>\n",
       "      <th>9</th>\n",
       "      <th>...</th>\n",
       "      <th>47</th>\n",
       "      <th>48</th>\n",
       "      <th>49</th>\n",
       "      <th>50</th>\n",
       "      <th>51</th>\n",
       "      <th>52</th>\n",
       "      <th>53</th>\n",
       "      <th>54</th>\n",
       "      <th>55</th>\n",
       "      <th>56</th>\n",
       "    </tr>\n",
       "  </thead>\n",
       "  <tbody>\n",
       "    <tr>\n",
       "      <th>0</th>\n",
       "      <td>2.622214</td>\n",
       "      <td>6.0</td>\n",
       "      <td>0.0</td>\n",
       "      <td>0.0</td>\n",
       "      <td>0.0</td>\n",
       "      <td>39.133333</td>\n",
       "      <td>1000.333333</td>\n",
       "      <td>19.0</td>\n",
       "      <td>91.444444</td>\n",
       "      <td>99.820</td>\n",
       "      <td>...</td>\n",
       "      <td>67.666098</td>\n",
       "      <td>45.385395</td>\n",
       "      <td>2.413152</td>\n",
       "      <td>0.457561</td>\n",
       "      <td>36.728</td>\n",
       "      <td>1.0</td>\n",
       "      <td>7.078566</td>\n",
       "      <td>6.763726</td>\n",
       "      <td>6.521257</td>\n",
       "      <td>5.287905</td>\n",
       "    </tr>\n",
       "    <tr>\n",
       "      <th>1</th>\n",
       "      <td>2.706718</td>\n",
       "      <td>9.0</td>\n",
       "      <td>6.0</td>\n",
       "      <td>0.0</td>\n",
       "      <td>6.0</td>\n",
       "      <td>76.400000</td>\n",
       "      <td>974.833333</td>\n",
       "      <td>23.0</td>\n",
       "      <td>37.666667</td>\n",
       "      <td>99.820</td>\n",
       "      <td>...</td>\n",
       "      <td>67.666098</td>\n",
       "      <td>45.385395</td>\n",
       "      <td>2.413152</td>\n",
       "      <td>0.457561</td>\n",
       "      <td>36.728</td>\n",
       "      <td>1.0</td>\n",
       "      <td>7.499800</td>\n",
       "      <td>7.192901</td>\n",
       "      <td>7.008147</td>\n",
       "      <td>5.807614</td>\n",
       "    </tr>\n",
       "    <tr>\n",
       "      <th>2</th>\n",
       "      <td>2.187521</td>\n",
       "      <td>8.0</td>\n",
       "      <td>15.0</td>\n",
       "      <td>0.0</td>\n",
       "      <td>15.0</td>\n",
       "      <td>88.500000</td>\n",
       "      <td>974.500000</td>\n",
       "      <td>15.5</td>\n",
       "      <td>283.500000</td>\n",
       "      <td>132.400</td>\n",
       "      <td>...</td>\n",
       "      <td>64.770000</td>\n",
       "      <td>18.684943</td>\n",
       "      <td>2.183138</td>\n",
       "      <td>0.411334</td>\n",
       "      <td>66.231</td>\n",
       "      <td>1.0</td>\n",
       "      <td>6.227692</td>\n",
       "      <td>6.227137</td>\n",
       "      <td>6.077387</td>\n",
       "      <td>4.305351</td>\n",
       "    </tr>\n",
       "    <tr>\n",
       "      <th>3</th>\n",
       "      <td>2.755112</td>\n",
       "      <td>12.0</td>\n",
       "      <td>15.0</td>\n",
       "      <td>0.0</td>\n",
       "      <td>15.0</td>\n",
       "      <td>84.488235</td>\n",
       "      <td>979.549020</td>\n",
       "      <td>3.0</td>\n",
       "      <td>161.647059</td>\n",
       "      <td>119.200</td>\n",
       "      <td>...</td>\n",
       "      <td>61.105000</td>\n",
       "      <td>0.000000</td>\n",
       "      <td>1.959351</td>\n",
       "      <td>0.440552</td>\n",
       "      <td>69.703</td>\n",
       "      <td>2.0</td>\n",
       "      <td>6.677611</td>\n",
       "      <td>6.478086</td>\n",
       "      <td>6.047187</td>\n",
       "      <td>4.778151</td>\n",
       "    </tr>\n",
       "    <tr>\n",
       "      <th>4</th>\n",
       "      <td>1.278754</td>\n",
       "      <td>7.0</td>\n",
       "      <td>3.0</td>\n",
       "      <td>2.0</td>\n",
       "      <td>1.0</td>\n",
       "      <td>83.920000</td>\n",
       "      <td>980.600000</td>\n",
       "      <td>10.8</td>\n",
       "      <td>291.400000</td>\n",
       "      <td>110.691</td>\n",
       "      <td>...</td>\n",
       "      <td>61.105000</td>\n",
       "      <td>0.000000</td>\n",
       "      <td>1.959351</td>\n",
       "      <td>0.440552</td>\n",
       "      <td>69.703</td>\n",
       "      <td>2.0</td>\n",
       "      <td>6.710185</td>\n",
       "      <td>6.445524</td>\n",
       "      <td>6.298531</td>\n",
       "      <td>2.012837</td>\n",
       "    </tr>\n",
       "  </tbody>\n",
       "</table>\n",
       "<p>5 rows × 57 columns</p>\n",
       "</div>"
      ],
      "text/plain": [
       "         0     1     2    3     4          5            6     7           8   \\\n",
       "0  2.622214   6.0   0.0  0.0   0.0  39.133333  1000.333333  19.0   91.444444   \n",
       "1  2.706718   9.0   6.0  0.0   6.0  76.400000   974.833333  23.0   37.666667   \n",
       "2  2.187521   8.0  15.0  0.0  15.0  88.500000   974.500000  15.5  283.500000   \n",
       "3  2.755112  12.0  15.0  0.0  15.0  84.488235   979.549020   3.0  161.647059   \n",
       "4  1.278754   7.0   3.0  2.0   1.0  83.920000   980.600000  10.8  291.400000   \n",
       "\n",
       "        9   ...         47         48        49        50      51   52  \\\n",
       "0   99.820  ...  67.666098  45.385395  2.413152  0.457561  36.728  1.0   \n",
       "1   99.820  ...  67.666098  45.385395  2.413152  0.457561  36.728  1.0   \n",
       "2  132.400  ...  64.770000  18.684943  2.183138  0.411334  66.231  1.0   \n",
       "3  119.200  ...  61.105000   0.000000  1.959351  0.440552  69.703  2.0   \n",
       "4  110.691  ...  61.105000   0.000000  1.959351  0.440552  69.703  2.0   \n",
       "\n",
       "         53        54        55        56  \n",
       "0  7.078566  6.763726  6.521257  5.287905  \n",
       "1  7.499800  7.192901  7.008147  5.807614  \n",
       "2  6.227692  6.227137  6.077387  4.305351  \n",
       "3  6.677611  6.478086  6.047187  4.778151  \n",
       "4  6.710185  6.445524  6.298531  2.012837  \n",
       "\n",
       "[5 rows x 57 columns]"
      ]
     },
     "execution_count": 58,
     "metadata": {},
     "output_type": "execute_result"
    }
   ],
   "source": [
    "imputer = KNNImputer(n_neighbors=5)\n",
    "df_filled = pd.DataFrame(imputer.fit_transform(df))\n",
    "df_filled.head()"
   ]
  },
  {
   "cell_type": "code",
   "execution_count": 59,
   "metadata": {},
   "outputs": [],
   "source": [
    "df_filled = df_filled.rename(columns = dict(zip(df_filled.columns, df.columns), inplace = True))"
   ]
  },
  {
   "cell_type": "code",
   "execution_count": 60,
   "metadata": {},
   "outputs": [],
   "source": [
    "X = df_filled[features1] #features\n",
    "# X = df_scaled[features3].fillna(df.mean())\n",
    "y = df_filled['TOTAL_AFFECTED']"
   ]
  },
  {
   "cell_type": "code",
   "execution_count": 61,
   "metadata": {},
   "outputs": [
    {
     "data": {
      "text/plain": [
       "Index(['MONTH', 'TOTAL_HRS', 'DAY_HRS', 'NIGHT_HRS', 'WIND_CALC_MEAN',\n",
       "       'PRES_CALC_MEAN', 'STORM_SPD_MEAN', 'STORM_DR_MEAN', 'V_LAND_KN',\n",
       "       'TOTAL_DAMAGE_(000$)_Adjusted', 'CALC_assets_emdat', 'SUB BASIN_AS',\n",
       "       'SUB BASIN_BB', 'SUB BASIN_CP', 'SUB BASIN_CS', 'SUB BASIN_EA',\n",
       "       'SUB BASIN_EP', 'SUB BASIN_GM', 'SUB BASIN_NAm', 'SUB BASIN_SI',\n",
       "       'SUB BASIN_SP', 'SUB BASIN_WA', 'SUB BASIN_WP', 'NATURE_DS',\n",
       "       'NATURE_ET', 'NATURE_MX', 'NATURE_NR', 'NATURE_SS', 'NATURE_TS',\n",
       "       'USA_SSHS_-4.0', 'USA_SSHS_-3.0', 'USA_SSHS_-2.0', 'USA_SSHS_-1.0',\n",
       "       'USA_SSHS_0.0', 'USA_SSHS_1.0', 'USA_SSHS_2.0', 'USA_SSHS_3.0',\n",
       "       'USA_SSHS_4.0', 'USA_SSHS_5.0',\n",
       "       'Air transport, freight (million ton-km)',\n",
       "       'Arable land (hectares per person)', 'Cereal yield (kg per hectare)',\n",
       "       'Food production index (2004-2006 = 100)', 'GDP growth (annual %)',\n",
       "       'GDP per capita (constant 2010 US$)', 'Net flows from UN agencies US$',\n",
       "       'Life expectancy at birth, total (years)',\n",
       "       'Mobile cellular subscriptions (per 100 people)',\n",
       "       'Population density (people per sq. km of land area)',\n",
       "       'Adjusted savings: education expenditure (% of GNI)',\n",
       "       'Rural population (% of total population)', 'Income_level_Final',\n",
       "       'pop_max_34_adj', 'pop_max_50_adj', 'pop_max_64_adj'],\n",
       "      dtype='object')"
      ]
     },
     "execution_count": 61,
     "metadata": {},
     "output_type": "execute_result"
    }
   ],
   "source": [
    "X.columns"
   ]
  },
  {
   "cell_type": "code",
   "execution_count": 62,
   "metadata": {},
   "outputs": [
    {
     "data": {
      "text/plain": [
       "(1005, 55)"
      ]
     },
     "execution_count": 62,
     "metadata": {},
     "output_type": "execute_result"
    }
   ],
   "source": [
    "X.shape"
   ]
  },
  {
   "cell_type": "code",
   "execution_count": 63,
   "metadata": {},
   "outputs": [],
   "source": [
    "# X.to_csv(r'Data_output/X.csv', index = False, sep = ';')"
   ]
  },
  {
   "cell_type": "code",
   "execution_count": 64,
   "metadata": {},
   "outputs": [],
   "source": [
    "def RF_model(X_train, X_test, y_train, y_test):\n",
    "    \n",
    "    estimator_RF = RandomForestRegressor(n_estimators=1000)\n",
    "    estimator_RF.fit(X_train,y_train)\n",
    "    print(f\"R-squared for train set: {estimator_RF.score(X, y):.2f}\")\n",
    "    print(\"--------------------------------------------\")\n",
    "    y_pred = estimator_RF.predict(X_test)\n",
    "    print(\"------Feature importances---------------------\")\n",
    "    print(estimator_RF.feature_importances_)\n",
    "    print(\"--------------------------------------------\")\n",
    "    score_estimator = estimator_RF.score(X_test, y_test)\n",
    "    print(\"R-squared for test set =\", score_estimator)\n",
    "    mse = mean_squared_error(y_test,y_pred)\n",
    "    print(\"RF estimator mean_squared_error = \", mse)\n",
    "    rmse = math.sqrt(mse)\n",
    "    print(\"RF estimator root_mean_squared_error = \", rmse)\n",
    "    cvs = cross_val_score(estimator_RF, X, y).mean()\n",
    "    print(\"cross_val_score R-squared mean = \", cvs)\n",
    "    \n",
    "    \n",
    "    ##################### Plotting results #########################\n",
    "    df_y = pd.DataFrame(y_test) #reversing log from target\n",
    "    \n",
    "    # Visualising the Random Forest Regression results  \n",
    "    df_y['Pred_Total_Affected'] = y_pred #reversing log from target\n",
    "    df_y.sort_values(by = 'TOTAL_AFFECTED',ascending=True, inplace=True) #Sorting the dataset to better visualize results in a plot\n",
    "    df_y.reset_index(inplace=True, drop=True) #Resetting index\n",
    "    \n",
    "    # plt for the Random Forest Regression results ++\n",
    "    plt.figure(figsize=(12,8))\n",
    "    plt.plot(df_y.index, df_y['TOTAL_AFFECTED'], label = 'Observed')\n",
    "    plt.plot(df_y.index, df_y['Pred_Total_Affected'], 'o', label = 'Predicted')\n",
    "    plt.xlabel('Observations')\n",
    "    plt.ylabel('log(Num_Affected')\n",
    "    plt.title('log(Num Affected) - Test Vs Predictions')\n",
    "    # show a legend on the plot\n",
    "    plt.legend()\n",
    "    # Display a figure.\n",
    "    plt.show()\n",
    "    \n",
    "    feat_importances = pd.Series(estimator_RF.feature_importances_, index = features1)\n",
    "    feat_importances.nlargest(25).plot(kind = \"barh\", \n",
    "                                       figsize= (10,10), \n",
    "                                       color = \"slategrey\",\n",
    "                                       title = \"Feature importance\" )\n",
    "      \n",
    "    return"
   ]
  },
  {
   "cell_type": "code",
   "execution_count": 65,
   "metadata": {},
   "outputs": [
    {
     "name": "stdout",
     "output_type": "stream",
     "text": [
      "R-squared for train set: 0.80\n",
      "--------------------------------------------\n",
      "------Feature importances---------------------\n",
      "[1.32471803e-02 9.59882739e-03 9.03415532e-03 9.55640620e-03\n",
      " 1.74211707e-02 1.96128768e-02 2.52484073e-02 2.77187860e-02\n",
      " 2.37290187e-02 2.12870234e-01 8.96285600e-02 1.66388473e-04\n",
      " 1.12829801e-03 2.10632731e-05 1.32767004e-03 1.16917120e-04\n",
      " 4.25351189e-04 1.25343983e-03 3.62842472e-04 4.66411854e-04\n",
      " 2.80414959e-04 1.79194788e-04 9.68963964e-04 4.68922859e-05\n",
      " 9.45681622e-04 7.12846984e-05 4.48126416e-04 1.33480005e-05\n",
      " 1.23061474e-03 4.17866290e-04 9.11705825e-04 2.96412606e-05\n",
      " 2.55938812e-03 3.39084629e-03 3.00665641e-03 1.93209068e-03\n",
      " 8.24821130e-04 5.40374878e-04 5.05087129e-05 3.02305060e-02\n",
      " 4.34398966e-02 2.39508969e-02 2.48761453e-02 2.50695221e-02\n",
      " 8.87465078e-02 5.31879229e-02 3.50127730e-02 1.53122626e-02\n",
      " 1.92783850e-02 1.91291643e-02 5.63775545e-02 3.78869234e-03\n",
      " 2.16518143e-02 2.71351528e-02 3.20303774e-02]\n",
      "--------------------------------------------\n",
      "R-squared for test set = 0.5072621584985668\n",
      "RF estimator mean_squared_error =  0.910436463178092\n",
      "RF estimator root_mean_squared_error =  0.9541679428581176\n",
      "cross_val_score R-squared mean =  0.4292228172669302\n"
     ]
    },
    {
     "data": {
      "image/png": "[encoded data removed]",
      "text/plain": [
       "<Figure size 864x576 with 1 Axes>"
      ]
     },
     "metadata": {
      "needs_background": "light"
     },
     "output_type": "display_data"
    },
    {
     "data": {
      "image/png": "[encoded data removed]",
      "text/plain": [
       "<Figure size 720x720 with 1 Axes>"
      ]
     },
     "metadata": {
      "needs_background": "light"
     },
     "output_type": "display_data"
    }
   ],
   "source": [
    "# Applying train/test split\n",
    "X_train, X_test, y_train, y_test = train_test_split(X, y, test_size=0.3)\n",
    "\n",
    "# calling the function that biulds, fits and shows results\n",
    "RF_model(X_train, X_test, y_train, y_test)"
   ]
  },
  {
   "cell_type": "markdown",
   "metadata": {},
   "source": [
    "# PCA______________________"
   ]
  },
  {
   "cell_type": "markdown",
   "metadata": {},
   "source": [
    "# need for scaling before applying PCA"
   ]
  },
  {
   "cell_type": "code",
   "execution_count": 66,
   "metadata": {},
   "outputs": [],
   "source": [
    "#from sklearn.decomposition import PCA"
   ]
  },
  {
   "cell_type": "code",
   "execution_count": 67,
   "metadata": {},
   "outputs": [],
   "source": [
    "#X.shape"
   ]
  },
  {
   "cell_type": "code",
   "execution_count": 68,
   "metadata": {},
   "outputs": [],
   "source": [
    "# pca = PCA(n_components=1)\n",
    "# principalComponents = pca.fit_transform(X)\n",
    "#X_pca = pd.DataFrame(data = principalComponents)\n",
    "             #, columns = ['pc1', 'pc2'])"
   ]
  },
  {
   "cell_type": "code",
   "execution_count": 69,
   "metadata": {},
   "outputs": [],
   "source": [
    "#pca.explained_variance_ratio_.sum()"
   ]
  },
  {
   "cell_type": "code",
   "execution_count": 70,
   "metadata": {},
   "outputs": [],
   "source": [
    "#X_pca.head()"
   ]
  },
  {
   "cell_type": "markdown",
   "metadata": {},
   "source": [
    "... let's try the Random Forest model using the PCAs as features"
   ]
  },
  {
   "cell_type": "code",
   "execution_count": 71,
   "metadata": {},
   "outputs": [],
   "source": [
    "# Applying train/test split\n",
    "#X_train, X_test, y_train, y_test = train_test_split(X_pca, y, test_size=0.3)"
   ]
  },
  {
   "cell_type": "code",
   "execution_count": 72,
   "metadata": {},
   "outputs": [
    {
     "data": {
      "text/plain": [
       "'\\nestimator_RF = RandomForestRegressor(n_estimators=1000)\\nestimator_RF.fit(X_train,y_train)\\nprint(f\"R-squared for train set: {estimator_RF.score(X_pca, y):.2f}\")\\nprint(\"--------------------------------------------\")\\ny_pred = estimator_RF.predict(X_test)\\nprint(\"------Feature importances---------------------\")\\nprint(estimator_RF.feature_importances_)\\nprint(\"--------------------------------------------\")\\nscore_estimator = estimator_RF.score(X_test, y_test)\\nprint(\"R-squared for test set =\", score_estimator)\\nmse = mean_squared_error(y_test,y_pred)\\nprint(\"RF estimator mean_squared_error = \", mse)\\nrmse = math.sqrt(mse)\\nprint(\"RF estimator root_mean_squared_error = \", rmse)\\ncvs = cross_val_score(estimator_RF, X_pca, y).mean()\\nprint(\"cross_val_score R-squared mean = \", cvs)\\n'"
      ]
     },
     "execution_count": 72,
     "metadata": {},
     "output_type": "execute_result"
    }
   ],
   "source": [
    "'''\n",
    "estimator_RF = RandomForestRegressor(n_estimators=1000)\n",
    "estimator_RF.fit(X_train,y_train)\n",
    "print(f\"R-squared for train set: {estimator_RF.score(X_pca, y):.2f}\")\n",
    "print(\"--------------------------------------------\")\n",
    "y_pred = estimator_RF.predict(X_test)\n",
    "print(\"------Feature importances---------------------\")\n",
    "print(estimator_RF.feature_importances_)\n",
    "print(\"--------------------------------------------\")\n",
    "score_estimator = estimator_RF.score(X_test, y_test)\n",
    "print(\"R-squared for test set =\", score_estimator)\n",
    "mse = mean_squared_error(y_test,y_pred)\n",
    "print(\"RF estimator mean_squared_error = \", mse)\n",
    "rmse = math.sqrt(mse)\n",
    "print(\"RF estimator root_mean_squared_error = \", rmse)\n",
    "cvs = cross_val_score(estimator_RF, X_pca, y).mean()\n",
    "print(\"cross_val_score R-squared mean = \", cvs)\n",
    "'''"
   ]
  },
  {
   "cell_type": "code",
   "execution_count": 73,
   "metadata": {},
   "outputs": [
    {
     "data": {
      "text/plain": [
       "\"\\n##################### Plotting results #########################\\n\\ndf_y = pd.DataFrame(y_test)\\ndf_y['Pred_Total_Affected'] = y_pred\\ndf_y.sort_values(by = 'TOTAL_AFFECTED',ascending=True, inplace=True) #Sorting the dataset to better visualize results in a plot\\ndf_y.reset_index(inplace=True, drop=True) #Resetting index\\n    \\n# plt for the Random Forest Regression results ++\\nplt.figure(figsize=(12,8))\\nplt.plot(df_y.index, df_y['TOTAL_AFFECTED'], label = 'Observed')\\nplt.plot(df_y.index, df_y['Pred_Total_Affected'], 'o', label = 'Predicted')\\nplt.xlabel('Observations')\\nplt.ylabel('Num_Affected')\\nplt.title('Num Affected - Test Vs Predictions')\\n# show a legend on the plot\\nplt.legend()\\n\\n# Display  figure\\nplt.show()\\n\""
      ]
     },
     "execution_count": 73,
     "metadata": {},
     "output_type": "execute_result"
    }
   ],
   "source": [
    "'''\n",
    "##################### Plotting results #########################\n",
    "\n",
    "df_y = pd.DataFrame(y_test)\n",
    "df_y['Pred_Total_Affected'] = y_pred\n",
    "df_y.sort_values(by = 'TOTAL_AFFECTED',ascending=True, inplace=True) #Sorting the dataset to better visualize results in a plot\n",
    "df_y.reset_index(inplace=True, drop=True) #Resetting index\n",
    "    \n",
    "# plt for the Random Forest Regression results ++\n",
    "plt.figure(figsize=(12,8))\n",
    "plt.plot(df_y.index, df_y['TOTAL_AFFECTED'], label = 'Observed')\n",
    "plt.plot(df_y.index, df_y['Pred_Total_Affected'], 'o', label = 'Predicted')\n",
    "plt.xlabel('Observations')\n",
    "plt.ylabel('Num_Affected')\n",
    "plt.title('Num Affected - Test Vs Predictions')\n",
    "# show a legend on the plot\n",
    "plt.legend()\n",
    "\n",
    "# Display  figure\n",
    "plt.show()\n",
    "'''"
   ]
  },
  {
   "cell_type": "markdown",
   "metadata": {},
   "source": [
    "### Hyperparameter tunning with grid search"
   ]
  },
  {
   "cell_type": "code",
   "execution_count": 74,
   "metadata": {},
   "outputs": [],
   "source": [
    "X = df_filled[features1] #features\n",
    "# X = df_scaled[features3].fillna(df.mean())\n",
    "y = df_filled['TOTAL_AFFECTED']"
   ]
  },
  {
   "cell_type": "code",
   "execution_count": 75,
   "metadata": {},
   "outputs": [],
   "source": [
    "X_train, X_test, y_train, y_test = train_test_split(X, y, test_size=0.3) #(X_pca, y, test_size=0.3)"
   ]
  },
  {
   "cell_type": "code",
   "execution_count": 76,
   "metadata": {},
   "outputs": [],
   "source": [
    "parameters = {'n_estimators':[100, 500, 1000], \n",
    "              'max_depth':[5, 10, 20],\n",
    "              'max_features':[10, 15, 20]              \n",
    "             }"
   ]
  },
  {
   "cell_type": "code",
   "execution_count": 77,
   "metadata": {},
   "outputs": [],
   "source": [
    "def score_rmse():\n",
    "    math.sqrt(mean_squared_error(y_test,y_pred))\n",
    "    return"
   ]
  },
  {
   "cell_type": "code",
   "execution_count": 78,
   "metadata": {},
   "outputs": [],
   "source": [
    "estimator_RF = GridSearchCV(RandomForestRegressor(), parameters, cv = 3,\n",
    "                            return_train_score = False)"
   ]
  },
  {
   "cell_type": "code",
   "execution_count": 79,
   "metadata": {
    "scrolled": true
   },
   "outputs": [
    {
     "data": {
      "text/plain": [
       "GridSearchCV(cv=3, error_score=nan,\n",
       "             estimator=RandomForestRegressor(bootstrap=True, ccp_alpha=0.0,\n",
       "                                             criterion='mse', max_depth=None,\n",
       "                                             max_features='auto',\n",
       "                                             max_leaf_nodes=None,\n",
       "                                             max_samples=None,\n",
       "                                             min_impurity_decrease=0.0,\n",
       "                                             min_impurity_split=None,\n",
       "                                             min_samples_leaf=1,\n",
       "                                             min_samples_split=2,\n",
       "                                             min_weight_fraction_leaf=0.0,\n",
       "                                             n_estimators=100, n_jobs=None,\n",
       "                                             oob_score=False, random_state=None,\n",
       "                                             verbose=0, warm_start=False),\n",
       "             iid='deprecated', n_jobs=None,\n",
       "             param_grid={'max_depth': [5, 10, 20], 'max_features': [10, 15, 20],\n",
       "                         'n_estimators': [100, 500, 1000]},\n",
       "             pre_dispatch='2*n_jobs', refit=True, return_train_score=False,\n",
       "             scoring=None, verbose=0)"
      ]
     },
     "execution_count": 79,
     "metadata": {},
     "output_type": "execute_result"
    }
   ],
   "source": [
    "estimator_RF.fit(X_train,y_train)"
   ]
  },
  {
   "cell_type": "code",
   "execution_count": 80,
   "metadata": {},
   "outputs": [
    {
     "data": {
      "text/plain": [
       "Index(['mean_fit_time', 'std_fit_time', 'mean_score_time', 'std_score_time',\n",
       "       'param_max_depth', 'param_max_features', 'param_n_estimators', 'params',\n",
       "       'split0_test_score', 'split1_test_score', 'split2_test_score',\n",
       "       'mean_test_score', 'std_test_score', 'rank_test_score'],\n",
       "      dtype='object')"
      ]
     },
     "execution_count": 80,
     "metadata": {},
     "output_type": "execute_result"
    }
   ],
   "source": [
    "GS_results = pd.DataFrame(estimator_RF.cv_results_)\n",
    "GS_results.columns"
   ]
  },
  {
   "cell_type": "code",
   "execution_count": 81,
   "metadata": {},
   "outputs": [
    {
     "data": {
      "text/html": [
       "<div>\n",
       "<style scoped>\n",
       "    .dataframe tbody tr th:only-of-type {\n",
       "        vertical-align: middle;\n",
       "    }\n",
       "\n",
       "    .dataframe tbody tr th {\n",
       "        vertical-align: top;\n",
       "    }\n",
       "\n",
       "    .dataframe thead th {\n",
       "        text-align: right;\n",
       "    }\n",
       "</style>\n",
       "<table border=\"1\" class=\"dataframe\">\n",
       "  <thead>\n",
       "    <tr style=\"text-align: right;\">\n",
       "      <th></th>\n",
       "      <th>param_max_depth</th>\n",
       "      <th>param_max_features</th>\n",
       "      <th>param_n_estimators</th>\n",
       "      <th>mean_test_score</th>\n",
       "      <th>rank_test_score</th>\n",
       "    </tr>\n",
       "  </thead>\n",
       "  <tbody>\n",
       "    <tr>\n",
       "      <th>26</th>\n",
       "      <td>20</td>\n",
       "      <td>20</td>\n",
       "      <td>1000</td>\n",
       "      <td>0.438476</td>\n",
       "      <td>1</td>\n",
       "    </tr>\n",
       "    <tr>\n",
       "      <th>25</th>\n",
       "      <td>20</td>\n",
       "      <td>20</td>\n",
       "      <td>500</td>\n",
       "      <td>0.435517</td>\n",
       "      <td>2</td>\n",
       "    </tr>\n",
       "    <tr>\n",
       "      <th>17</th>\n",
       "      <td>10</td>\n",
       "      <td>20</td>\n",
       "      <td>1000</td>\n",
       "      <td>0.432141</td>\n",
       "      <td>3</td>\n",
       "    </tr>\n",
       "    <tr>\n",
       "      <th>21</th>\n",
       "      <td>20</td>\n",
       "      <td>15</td>\n",
       "      <td>100</td>\n",
       "      <td>0.431947</td>\n",
       "      <td>4</td>\n",
       "    </tr>\n",
       "    <tr>\n",
       "      <th>16</th>\n",
       "      <td>10</td>\n",
       "      <td>20</td>\n",
       "      <td>500</td>\n",
       "      <td>0.431227</td>\n",
       "      <td>5</td>\n",
       "    </tr>\n",
       "    <tr>\n",
       "      <th>23</th>\n",
       "      <td>20</td>\n",
       "      <td>15</td>\n",
       "      <td>1000</td>\n",
       "      <td>0.431055</td>\n",
       "      <td>6</td>\n",
       "    </tr>\n",
       "    <tr>\n",
       "      <th>22</th>\n",
       "      <td>20</td>\n",
       "      <td>15</td>\n",
       "      <td>500</td>\n",
       "      <td>0.429772</td>\n",
       "      <td>7</td>\n",
       "    </tr>\n",
       "    <tr>\n",
       "      <th>14</th>\n",
       "      <td>10</td>\n",
       "      <td>15</td>\n",
       "      <td>1000</td>\n",
       "      <td>0.428887</td>\n",
       "      <td>8</td>\n",
       "    </tr>\n",
       "    <tr>\n",
       "      <th>24</th>\n",
       "      <td>20</td>\n",
       "      <td>20</td>\n",
       "      <td>100</td>\n",
       "      <td>0.427498</td>\n",
       "      <td>9</td>\n",
       "    </tr>\n",
       "    <tr>\n",
       "      <th>13</th>\n",
       "      <td>10</td>\n",
       "      <td>15</td>\n",
       "      <td>500</td>\n",
       "      <td>0.426006</td>\n",
       "      <td>10</td>\n",
       "    </tr>\n",
       "    <tr>\n",
       "      <th>12</th>\n",
       "      <td>10</td>\n",
       "      <td>15</td>\n",
       "      <td>100</td>\n",
       "      <td>0.422478</td>\n",
       "      <td>11</td>\n",
       "    </tr>\n",
       "    <tr>\n",
       "      <th>15</th>\n",
       "      <td>10</td>\n",
       "      <td>20</td>\n",
       "      <td>100</td>\n",
       "      <td>0.421208</td>\n",
       "      <td>12</td>\n",
       "    </tr>\n",
       "    <tr>\n",
       "      <th>18</th>\n",
       "      <td>20</td>\n",
       "      <td>10</td>\n",
       "      <td>100</td>\n",
       "      <td>0.421172</td>\n",
       "      <td>13</td>\n",
       "    </tr>\n",
       "    <tr>\n",
       "      <th>20</th>\n",
       "      <td>20</td>\n",
       "      <td>10</td>\n",
       "      <td>1000</td>\n",
       "      <td>0.418376</td>\n",
       "      <td>14</td>\n",
       "    </tr>\n",
       "    <tr>\n",
       "      <th>11</th>\n",
       "      <td>10</td>\n",
       "      <td>10</td>\n",
       "      <td>1000</td>\n",
       "      <td>0.415870</td>\n",
       "      <td>15</td>\n",
       "    </tr>\n",
       "    <tr>\n",
       "      <th>19</th>\n",
       "      <td>20</td>\n",
       "      <td>10</td>\n",
       "      <td>500</td>\n",
       "      <td>0.415550</td>\n",
       "      <td>16</td>\n",
       "    </tr>\n",
       "    <tr>\n",
       "      <th>10</th>\n",
       "      <td>10</td>\n",
       "      <td>10</td>\n",
       "      <td>500</td>\n",
       "      <td>0.411336</td>\n",
       "      <td>17</td>\n",
       "    </tr>\n",
       "    <tr>\n",
       "      <th>8</th>\n",
       "      <td>5</td>\n",
       "      <td>20</td>\n",
       "      <td>1000</td>\n",
       "      <td>0.404761</td>\n",
       "      <td>18</td>\n",
       "    </tr>\n",
       "    <tr>\n",
       "      <th>7</th>\n",
       "      <td>5</td>\n",
       "      <td>20</td>\n",
       "      <td>500</td>\n",
       "      <td>0.404521</td>\n",
       "      <td>19</td>\n",
       "    </tr>\n",
       "    <tr>\n",
       "      <th>9</th>\n",
       "      <td>10</td>\n",
       "      <td>10</td>\n",
       "      <td>100</td>\n",
       "      <td>0.402444</td>\n",
       "      <td>20</td>\n",
       "    </tr>\n",
       "    <tr>\n",
       "      <th>6</th>\n",
       "      <td>5</td>\n",
       "      <td>20</td>\n",
       "      <td>100</td>\n",
       "      <td>0.398798</td>\n",
       "      <td>21</td>\n",
       "    </tr>\n",
       "    <tr>\n",
       "      <th>5</th>\n",
       "      <td>5</td>\n",
       "      <td>15</td>\n",
       "      <td>1000</td>\n",
       "      <td>0.393821</td>\n",
       "      <td>22</td>\n",
       "    </tr>\n",
       "    <tr>\n",
       "      <th>4</th>\n",
       "      <td>5</td>\n",
       "      <td>15</td>\n",
       "      <td>500</td>\n",
       "      <td>0.393611</td>\n",
       "      <td>23</td>\n",
       "    </tr>\n",
       "    <tr>\n",
       "      <th>3</th>\n",
       "      <td>5</td>\n",
       "      <td>15</td>\n",
       "      <td>100</td>\n",
       "      <td>0.386029</td>\n",
       "      <td>24</td>\n",
       "    </tr>\n",
       "    <tr>\n",
       "      <th>2</th>\n",
       "      <td>5</td>\n",
       "      <td>10</td>\n",
       "      <td>1000</td>\n",
       "      <td>0.368004</td>\n",
       "      <td>25</td>\n",
       "    </tr>\n",
       "    <tr>\n",
       "      <th>1</th>\n",
       "      <td>5</td>\n",
       "      <td>10</td>\n",
       "      <td>500</td>\n",
       "      <td>0.366905</td>\n",
       "      <td>26</td>\n",
       "    </tr>\n",
       "    <tr>\n",
       "      <th>0</th>\n",
       "      <td>5</td>\n",
       "      <td>10</td>\n",
       "      <td>100</td>\n",
       "      <td>0.357285</td>\n",
       "      <td>27</td>\n",
       "    </tr>\n",
       "  </tbody>\n",
       "</table>\n",
       "</div>"
      ],
      "text/plain": [
       "   param_max_depth param_max_features param_n_estimators  mean_test_score  \\\n",
       "26              20                 20               1000         0.438476   \n",
       "25              20                 20                500         0.435517   \n",
       "17              10                 20               1000         0.432141   \n",
       "21              20                 15                100         0.431947   \n",
       "16              10                 20                500         0.431227   \n",
       "23              20                 15               1000         0.431055   \n",
       "22              20                 15                500         0.429772   \n",
       "14              10                 15               1000         0.428887   \n",
       "24              20                 20                100         0.427498   \n",
       "13              10                 15                500         0.426006   \n",
       "12              10                 15                100         0.422478   \n",
       "15              10                 20                100         0.421208   \n",
       "18              20                 10                100         0.421172   \n",
       "20              20                 10               1000         0.418376   \n",
       "11              10                 10               1000         0.415870   \n",
       "19              20                 10                500         0.415550   \n",
       "10              10                 10                500         0.411336   \n",
       "8                5                 20               1000         0.404761   \n",
       "7                5                 20                500         0.404521   \n",
       "9               10                 10                100         0.402444   \n",
       "6                5                 20                100         0.398798   \n",
       "5                5                 15               1000         0.393821   \n",
       "4                5                 15                500         0.393611   \n",
       "3                5                 15                100         0.386029   \n",
       "2                5                 10               1000         0.368004   \n",
       "1                5                 10                500         0.366905   \n",
       "0                5                 10                100         0.357285   \n",
       "\n",
       "    rank_test_score  \n",
       "26                1  \n",
       "25                2  \n",
       "17                3  \n",
       "21                4  \n",
       "16                5  \n",
       "23                6  \n",
       "22                7  \n",
       "14                8  \n",
       "24                9  \n",
       "13               10  \n",
       "12               11  \n",
       "15               12  \n",
       "18               13  \n",
       "20               14  \n",
       "11               15  \n",
       "19               16  \n",
       "10               17  \n",
       "8                18  \n",
       "7                19  \n",
       "9                20  \n",
       "6                21  \n",
       "5                22  \n",
       "4                23  \n",
       "3                24  \n",
       "2                25  \n",
       "1                26  \n",
       "0                27  "
      ]
     },
     "execution_count": 81,
     "metadata": {},
     "output_type": "execute_result"
    }
   ],
   "source": [
    "cols_needed = ['param_max_depth', 'param_max_features', 'param_n_estimators', 'mean_test_score','rank_test_score']\n",
    "GS_results = GS_results[cols_needed]\n",
    "GS_results.sort_values(by=['rank_test_score'], ascending = True)"
   ]
  },
  {
   "cell_type": "markdown",
   "metadata": {},
   "source": [
    "#### Using best parameters to fit and predict"
   ]
  },
  {
   "cell_type": "code",
   "execution_count": null,
   "metadata": {},
   "outputs": [],
   "source": []
  },
  {
   "cell_type": "code",
   "execution_count": 82,
   "metadata": {},
   "outputs": [
    {
     "name": "stdout",
     "output_type": "stream",
     "text": [
      "R-squared for train set: 0.74\n",
      "--------------------------------------------\n",
      "------Feature importances---------------------\n",
      "[1.30939300e-02 8.57384499e-03 8.57429699e-03 9.59347368e-03\n",
      " 2.14565733e-02 3.03655002e-02 2.72588205e-02 2.59891338e-02\n",
      " 2.67124350e-02 1.96822135e-01 5.73867242e-02 2.83869960e-04\n",
      " 1.37267646e-03 2.96696396e-05 1.15387850e-03 1.27309442e-04\n",
      " 3.89909207e-04 8.51829308e-04 5.80692501e-04 4.59831970e-04\n",
      " 4.85270992e-04 3.98051139e-04 3.10359077e-03 9.46487834e-05\n",
      " 1.31863113e-03 2.23508957e-04 8.14275905e-04 1.66270640e-05\n",
      " 1.48536626e-03 3.76616725e-04 2.03467636e-03 2.75839755e-05\n",
      " 2.91757483e-03 2.04891785e-03 1.91046443e-03 1.36158341e-03\n",
      " 6.35083027e-04 8.65144464e-04 1.66963929e-04 2.94721392e-02\n",
      " 5.43464124e-02 3.07239807e-02 2.18848342e-02 2.15199462e-02\n",
      " 7.36993338e-02 4.39790198e-02 2.84145287e-02 1.47456654e-02\n",
      " 2.35888813e-02 2.95317599e-02 5.86425261e-02 1.93633792e-02\n",
      " 3.42103205e-02 3.36179888e-02 3.08981698e-02]\n",
      "--------------------------------------------\n",
      "R-squared for test set = 0.42119217230589345\n",
      "RF estimator mean_squared_error =  1.0808694607303844\n",
      "RF estimator root_mean_squared_error =  1.039648719871469\n",
      "cross_val_score R-squared mean =  0.4333448700567229\n"
     ]
    }
   ],
   "source": [
    "estimator_RF = RandomForestRegressor(n_estimators=1000, max_features=20, max_depth=10)\n",
    "estimator_RF.fit(X_train,y_train)\n",
    "\n",
    "print(f\"R-squared for train set: {estimator_RF.score(X, y):.2f}\")\n",
    "print(\"--------------------------------------------\")\n",
    "\n",
    "y_pred = estimator_RF.predict(X_test)\n",
    "\n",
    "print(\"------Feature importances---------------------\")\n",
    "print(estimator_RF.feature_importances_)\n",
    "\n",
    "print(\"--------------------------------------------\")\n",
    "score_estimator = estimator_RF.score(X_test, y_test)\n",
    "print(\"R-squared for test set =\", score_estimator)\n",
    "\n",
    "mse = mean_squared_error(y_test,y_pred)\n",
    "print(\"RF estimator mean_squared_error = \", mse)\n",
    "\n",
    "rmse = math.sqrt(mse)\n",
    "print(\"RF estimator root_mean_squared_error = \", rmse)\n",
    "\n",
    "cvs = cross_val_score(estimator_RF, X, y).mean()\n",
    "print(\"cross_val_score R-squared mean = \", cvs)"
   ]
  },
  {
   "cell_type": "code",
   "execution_count": 83,
   "metadata": {},
   "outputs": [],
   "source": [
    "# df_y.to_csv(r'Data_output/ytest_Vs_ypred_YY.csv', index = False, sep = ';')"
   ]
  },
  {
   "cell_type": "code",
   "execution_count": 84,
   "metadata": {},
   "outputs": [
    {
     "data": {
      "image/png": "[encoded data removed]",
      "text/plain": [
       "<Figure size 864x576 with 1 Axes>"
      ]
     },
     "metadata": {
      "needs_background": "light"
     },
     "output_type": "display_data"
    }
   ],
   "source": [
    "df_y = pd.DataFrame(y_test) #reversing log from target\n",
    "    \n",
    "    # Visualising the Random Forest Regression results  \n",
    "df_y['Pred_Total_Affected'] = y_pred #reversing log from target\n",
    "df_y.sort_values(by = 'TOTAL_AFFECTED',ascending=True, inplace=True) #Sorting the dataset to better visualize results in a plot\n",
    "df_y.reset_index(inplace=True, drop=True) #Resetting index\n",
    "    \n",
    "    # plt for the Random Forest Regression results ++\n",
    "plt.figure(figsize=(12,8))\n",
    "plt.plot(df_y.index, df_y['TOTAL_AFFECTED'], label = 'Observed')\n",
    "plt.plot(df_y.index, df_y['Pred_Total_Affected'], 'o', label = 'Predicted')\n",
    "plt.xlabel('Observations')\n",
    "plt.ylabel('log(Num_Affected)')\n",
    "#plt.xlim(0,100)\n",
    "plt.title('Num Affected - Test Vs Predictions')\n",
    "\n",
    "    # show a legend on the plot\n",
    "plt.legend()\n",
    "    # Display a figure.\n",
    "plt.show()\n",
    "    \n"
   ]
  },
  {
   "cell_type": "code",
   "execution_count": 85,
   "metadata": {},
   "outputs": [],
   "source": [
    "df_y.to_csv(r'Data_output/ytest_Vs_ypred.csv', index = False, sep = ';')"
   ]
  },
  {
   "cell_type": "code",
   "execution_count": 86,
   "metadata": {},
   "outputs": [
    {
     "data": {
      "text/plain": [
       "<matplotlib.axes._subplots.AxesSubplot at 0x21bcbc37a88>"
      ]
     },
     "execution_count": 86,
     "metadata": {},
     "output_type": "execute_result"
    },
    {
     "data": {
      "image/png": "[encoded data removed]",
      "text/plain": [
       "<Figure size 720x720 with 1 Axes>"
      ]
     },
     "metadata": {
      "needs_background": "light"
     },
     "output_type": "display_data"
    }
   ],
   "source": [
    "feat_importances = pd.Series(estimator_RF.feature_importances_, index = features1)\n",
    "feat_importances.nlargest(25).plot(kind = \"barh\", \n",
    "                                       figsize= (10,10), \n",
    "                                       color = \"grey\",\n",
    "                                       title = \"Feature importance\" )"
   ]
  },
  {
   "cell_type": "code",
   "execution_count": 92,
   "metadata": {},
   "outputs": [
    {
     "data": {
      "image/png": "[encoded data removed]",
      "text/plain": [
       "<Figure size 864x576 with 1 Axes>"
      ]
     },
     "metadata": {
      "needs_background": "light"
     },
     "output_type": "display_data"
    }
   ],
   "source": [
    "df_y = pd.DataFrame(y_test) #reversing log from target\n",
    "    \n",
    "    # Visualising the Random Forest Regression results  \n",
    "df_y['Pred_Total_Affected'] = y_pred #reversing log from target\n",
    "df_y.sort_values(by = 'TOTAL_AFFECTED',ascending=True, inplace=True) #Sorting the dataset to better visualize results in a plot\n",
    "df_y.reset_index(inplace=True, drop=True) #Resetting index\n",
    "    \n",
    "    # plt for the Random Forest Regression results ++\n",
    "plt.figure(figsize=(12,8))\n",
    "plt.plot(df_y['TOTAL_AFFECTED'], df_y['TOTAL_AFFECTED'], '--', label = 'Observed')\n",
    "plt.plot(df_y['TOTAL_AFFECTED'], df_y['Pred_Total_Affected'], 'o', label = 'Predicted')\n",
    "\n",
    "plt.xlabel('log(Pred_Total_Affected)')\n",
    "plt.ylabel('log(Num_Affected)')\n",
    "#plt.xlim(0,100)\n",
    "plt.title('log(Num Affected) - Test Vs Predictions')\n",
    "\n",
    "    # show a legend on the plot\n",
    "plt.legend()\n",
    "    # Display a figure.\n",
    "plt.show()"
   ]
  },
  {
   "cell_type": "markdown",
   "metadata": {},
   "source": [
    "___________________________\n",
    "________________________________"
   ]
  }
 ],
 "metadata": {
  "kernelspec": {
   "display_name": "Python 3",
   "language": "python",
   "name": "python3"
  },
  "language_info": {
   "codemirror_mode": {
    "name": "ipython",
    "version": 3
   },
   "file_extension": ".py",
   "mimetype": "text/x-python",
   "name": "python",
   "nbconvert_exporter": "python",
   "pygments_lexer": "ipython3",
   "version": "3.7.4"
  },
  "varInspector": {
   "cols": {
    "lenName": 16,
    "lenType": 16,
    "lenVar": 40
   },
   "kernels_config": {
    "python": {
     "delete_cmd_postfix": "",
     "delete_cmd_prefix": "del ",
     "library": "var_list.py",
     "varRefreshCmd": "print(var_dic_list())"
    },
    "r": {
     "delete_cmd_postfix": ") ",
     "delete_cmd_prefix": "rm(",
     "library": "var_list.r",
     "varRefreshCmd": "cat(var_dic_list()) "
    }
   },
   "types_to_exclude": [
    "module",
    "function",
    "builtin_function_or_method",
    "instance",
    "_Feature"
   ],
   "window_display": false
  }
 },
 "nbformat": 4,
 "nbformat_minor": 4
}
