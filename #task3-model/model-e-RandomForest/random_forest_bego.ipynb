{
 "cells": [
  {
   "cell_type": "code",
   "execution_count": 1,
   "metadata": {},
   "outputs": [],
   "source": [
    "import pandas as pd\n",
    "import numpy as np\n",
    "\n",
    "from sklearn.model_selection import train_test_split\n",
    "from sklearn.base import BaseEstimator, TransformerMixin\n",
    "from sklearn.pipeline import FeatureUnion, Pipeline\n",
    "from sklearn.preprocessing import OneHotEncoder, StandardScaler\n",
    "from sklearn.impute import SimpleImputer\n",
    "from sklearn.ensemble import RandomForestRegressor\n",
    "from sklearn.model_selection import GridSearchCV, cross_val_score, cross_val_score, cross_val_predict\n",
    "from sklearn.model_selection import cross_val_score\n",
    "\n",
    "import warnings\n",
    "warnings.filterwarnings('ignore')"
   ]
  },
  {
   "cell_type": "code",
   "execution_count": 2,
   "metadata": {},
   "outputs": [],
   "source": [
    "# data\n",
    "\n",
    "# import data\n",
    "df = pd.read_csv('../../#task1-datacollection/OUTPUT_WBI_exposer_cyclones_v3.csv')\n",
    "df.columns = [e.lower().replace(' ','_') for e in df.columns]\n",
    "\n",
    "# separate X and y\n",
    "X = df.drop(['total_affected'], axis=1)\n",
    "y = df['total_affected']\n",
    "\n",
    "# types of features\n",
    "num_features = list(df.loc[:, df.dtypes != object].columns)\n",
    "cat_features = list(df.loc[:, df.dtypes == object].columns)"
   ]
  },
  {
   "cell_type": "code",
   "execution_count": 3,
   "metadata": {},
   "outputs": [],
   "source": [
    "# custom transformers\n",
    "\n",
    "class DataFrameSelector(BaseEstimator, TransformerMixin):\n",
    "    # selects a slice of the dataset based on feature_names\n",
    "    def __init__(self, feature_names):\n",
    "        self.feature_names = feature_names\n",
    "\n",
    "    def fit(self, X, y=None):\n",
    "        return self\n",
    "\n",
    "    def transform(self, X):\n",
    "        return X[set(X.columns).intersection(self.feature_names)]\n",
    "\n",
    "\n",
    "class TransformerCat(BaseEstimator, TransformerMixin):\n",
    "    # transforms categorical features\n",
    "    \n",
    "    def __init__(self):\n",
    "        self.columns_to_drop = []\n",
    "\n",
    "    def fit(self, X, y=None):\n",
    "        self.columns_to_drop= ['sid', 'name', 'iso', 'sub_basin', 'nature', 'iso_time',\n",
    "       'coords', 'in_susan', 'year_tiff_c']\n",
    "        return self\n",
    "    \n",
    "    def _get_income_level(self, income):\n",
    "        order = {'High': 4, 'High_Middle': 3, 'Low_Middle': 2, 'Low': 1 }\n",
    "        return order[income]\n",
    "        \n",
    "    def transform(self, X, y=None):\n",
    "        X['income_level_final'] = X['income_level_final'].apply(self._get_income_level)\n",
    "        X = X.drop(self.columns_to_drop, axis = 1)\n",
    "        print(X.columns)\n",
    "        return X\n",
    "    \n",
    "class TransformerNum(BaseEstimator, TransformerMixin):\n",
    "    # transforms numerical features\n",
    "    \n",
    "    def __init__(self):\n",
    "        self.columns_to_drop = []\n",
    "\n",
    "    def fit(self, X, y=None):\n",
    "        self.columns_to_drop = ['unnamed:_0', 'year', 'total_hrs', 'day_hrs', 'night_hrs',\n",
    "                                '34kn_pop', '34kn_assets', '64kn_pop', '64kn_assets','total_damage_(000$)', 'total_deaths',\n",
    "                               'air_transport,_freight_(million_ton-km)',\n",
    "                               'arable_land_(hectares_per_person)', 'cereal_yield_(kg_per_hectare)',\n",
    "                               'food_production_index_(2004-2006_=_100)', 'gdp_growth_(annual_%)','net_flows_from_un_agencies_us$',\n",
    "                               'mobile_cellular_subscriptions_(per_100_people)',\n",
    "                               'adjusted_savings:_education_expenditure_(%_of_gni)',\n",
    "                               'population_2000', 'population_2005',\n",
    "                               'population_2010', 'population_2015', 'population_2020', 'in_wbi',\n",
    "                               'pop_max_34', 'pop_max_50', 'pop_max_64', 'numeric', 'pop_max_34_adj',\n",
    "                               'pop_max_50_adj', 'year_tiff', 'coef_year']\n",
    "        return self\n",
    "        \n",
    "    def transform(self, X, y=None):\n",
    "        X = X.drop(self.columns_to_drop, axis = 1)\n",
    "        return X"
   ]
  },
  {
   "cell_type": "code",
   "execution_count": 4,
   "metadata": {},
   "outputs": [],
   "source": [
    "# preprocess pipeline\n",
    "\n",
    "preprocess_pipeline = FeatureUnion(transformer_list =[\n",
    "        (\"num_pipeline\", Pipeline([\n",
    "            ('selector', DataFrameSelector(num_features)),\n",
    "            ('num_transformer', TransformerNum()),\n",
    "            ('imputer', SimpleImputer(strategy=\"most_frequent\")),\n",
    "            (\"scaler\", StandardScaler())\n",
    "             ])),\n",
    "        (\"cat_pipeline\", Pipeline([\n",
    "            ('selector', DataFrameSelector(cat_features)),\n",
    "            ('cat_transformer', TransformerCat()),\n",
    "            ('imputer', SimpleImputer(strategy=\"most_frequent\")),\n",
    "            ('encoder', OneHotEncoder(handle_unknown='ignore', sparse = False)), # TODO: not encode income_level_final\n",
    "            (\"scaler\", StandardScaler())\n",
    "            ]))])"
   ]
  },
  {
   "cell_type": "code",
   "execution_count": 5,
   "metadata": {},
   "outputs": [],
   "source": [
    "class ModelEvaluator:\n",
    "    # evaluates different models using cross validation on the whole dataset\n",
    "    \n",
    "    def __init__(self, X, y):\n",
    "        self.X = X\n",
    "        self.y = y\n",
    "        \n",
    "    def evaluate_models(self, models):\n",
    "        for model_name, model in models.items():\n",
    "            print(f'***{model_name}***')\n",
    "            self._evaluate_model(model_name, model)\n",
    "            print('\\n')\n",
    "            \n",
    "    def _display_scores(self, scores):\n",
    "            print(\"Scores:\", scores)\n",
    "            print(\"Mean:\", scores.mean())\n",
    "            print(\"Standard deviation:\", scores.std())\n",
    "\n",
    "    def _evaluate_model(self, model_name, model):\n",
    "        transformed_X = preprocess_pipeline.fit_transform(self.X)\n",
    "        scores = cross_val_score(model, transformed_X, self.y, scoring=\"neg_mean_squared_error\", cv=10)\n",
    "        tree_rmse_scores = np.sqrt(-scores)\n",
    "        self._display_scores(tree_rmse_scores)     "
   ]
  },
  {
   "cell_type": "code",
   "execution_count": 7,
   "metadata": {},
   "outputs": [
    {
     "name": "stdout",
     "output_type": "stream",
     "text": [
      "Index(['basin', 'income_level_final'], dtype='object')\n",
      "Fitting 6 folds for each of 168 candidates, totalling 1008 fits\n"
     ]
    },
    {
     "name": "stderr",
     "output_type": "stream",
     "text": [
      "[Parallel(n_jobs=1)]: Using backend SequentialBackend with 1 concurrent workers.\n"
     ]
    },
    {
     "name": "stdout",
     "output_type": "stream",
     "text": [
      "-1505930468731.3765\n",
      "{'max_features': 4, 'min_samples_leaf': 2, 'n_estimators': 10}\n"
     ]
    },
    {
     "name": "stderr",
     "output_type": "stream",
     "text": [
      "[Parallel(n_jobs=1)]: Done 1008 out of 1008 | elapsed:  3.2min finished\n"
     ]
    }
   ],
   "source": [
    "# grid search random_forest\n",
    "\n",
    "param_grid = [\n",
    "    {'n_estimators': list(range(10,200,30)), 'max_features': list(range(2, 10, 2)), 'min_samples_leaf':[2,4,6]},\n",
    "    {'bootstrap': [False], 'n_estimators': list(range(10,200,30)), 'max_features': list(range(2, 10, 2)), 'min_samples_leaf':[2,4,6]},\n",
    "  ]\n",
    "\n",
    "forest_reg = RandomForestRegressor(random_state=42)\n",
    "grid_search_forest = GridSearchCV(forest_reg, \n",
    "                                  param_grid, \n",
    "                                  cv=6, \n",
    "                                  scoring='neg_mean_squared_error', \n",
    "                                  return_train_score=True, \n",
    "                                  iid = True, \n",
    "                                  verbose=1) # higher verbose desactivated for Github visualization purposes\n",
    "transformed_X = preprocess_pipeline.fit_transform(X)\n",
    "grid_search_forest.fit(transformed_X, y)\n",
    "\n",
    "print(grid_search_forest.score(transformed_X, y))\n",
    "print(grid_search_forest.best_params_)"
   ]
  },
  {
   "cell_type": "code",
   "execution_count": 8,
   "metadata": {},
   "outputs": [
    {
     "name": "stdout",
     "output_type": "stream",
     "text": [
      "***forest_grid_search***\n",
      "Index(['basin', 'income_level_final'], dtype='object')\n",
      "Scores: [ 918330.68937483 1212569.65593255 1560895.15475987 1674322.96202002\n",
      " 1159949.24366697 3705465.60748964 1649666.55984532 1202382.55938974\n",
      " 2235883.71442329 2313354.93649736]\n",
      "Mean: 1763282.1083399602\n",
      "Standard deviation: 778179.7861372975\n",
      "\n",
      "\n",
      "***forest_1***\n",
      "Index(['basin', 'income_level_final'], dtype='object')\n",
      "Scores: [1278971.32618705 1178479.12248895 2126141.05235203 1831451.24197862\n",
      " 1788645.77424244 4073085.57713121 1729449.01769172 1329056.54076094\n",
      " 2259338.17582371 2845742.20798204]\n",
      "Mean: 2044036.0036638726\n",
      "Standard deviation: 828731.6214287793\n",
      "\n",
      "\n",
      "***forest_2***\n",
      "Index(['basin', 'income_level_final'], dtype='object')\n",
      "Scores: [1020231.42936277 1187931.64567381 1370044.11094699 1825881.26301256\n",
      " 1241511.79459869 3729136.06004166 1760916.52261522 1274914.74414093\n",
      " 2125902.51519847 2480119.27021406]\n",
      "Mean: 1801658.9355805167\n",
      "Standard deviation: 777667.2044476857\n",
      "\n",
      "\n"
     ]
    }
   ],
   "source": [
    "# evaluate models \n",
    "\n",
    "models = {'forest_grid_search': grid_search_forest.best_estimator_, \n",
    "          'forest_1': RandomForestRegressor(n_estimators=3, random_state=42), \n",
    "          'forest_2':RandomForestRegressor(max_depth=5, n_estimators=10, max_features=9, random_state=42)}\n",
    "\n",
    "random_forest_evaluator = ModelEvaluator(X, y)\n",
    "\n",
    "random_forest_evaluator.evaluate_models(models)"
   ]
  }
 ],
 "metadata": {
  "kernelspec": {
   "display_name": "Python 3",
   "language": "python",
   "name": "python3"
  },
  "language_info": {
   "codemirror_mode": {
    "name": "ipython",
    "version": 3
   },
   "file_extension": ".py",
   "mimetype": "text/x-python",
   "name": "python",
   "nbconvert_exporter": "python",
   "pygments_lexer": "ipython3",
   "version": "3.7.0"
  }
 },
 "nbformat": 4,
 "nbformat_minor": 2
}
