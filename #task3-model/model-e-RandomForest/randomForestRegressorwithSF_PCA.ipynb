{
  "nbformat": 4,
  "nbformat_minor": 0,
  "metadata": {
    "colab": {
      "name": "randomForestRegressorwithNS.ipynb",
      "provenance": []
    },
    "kernelspec": {
      "name": "python3",
      "display_name": "Python 3"
    }
  },
  "cells": [
    {
      "cell_type": "markdown",
      "metadata": {
        "id": "5yBY8qDvFQPR",
        "colab_type": "text"
      },
      "source": [
        "**RANDOM FOREST REGRESSOR**"
      ]
    },
    {
      "cell_type": "markdown",
      "metadata": {
        "id": "GwTpKmoKFaMX",
        "colab_type": "text"
      },
      "source": [
        "In this approach, I try to adopt some codes from xavier, vamsi and arnab to clean and restructure the data. However, the chart for test vs predicted data shows the algorithm needs more improvement. "
      ]
    },
    {
      "cell_type": "code",
      "metadata": {
        "id": "dhpW6Mube23M",
        "colab_type": "code",
        "colab": {}
      },
      "source": [
        "#Import all needed libraries for this project\n",
        "import numpy as np\n",
        "import pandas as pd\n",
        "\n",
        "from sklearn.preprocessing import StandardScaler, MinMaxScaler \n",
        "from sklearn.decomposition import PCA\n",
        "from sklearn.model_selection import train_test_split\n",
        "from sklearn.metrics import mean_squared_error, r2_score\n",
        "from sklearn.preprocessing import LabelEncoder\n",
        "from sklearn.preprocessing import LabelEncoder\n",
        "from sklearn.ensemble import RandomForestRegressor\n",
        "import matplotlib.pyplot as plt\n",
        "import seaborn as sns\n",
        "import math"
      ],
      "execution_count": 0,
      "outputs": []
    },
    {
      "cell_type": "code",
      "metadata": {
        "id": "04nudfdGfnNW",
        "colab_type": "code",
        "colab": {}
      },
      "source": [
        "df = pd.read_csv('OUTPUT_WBI_exposer_cyclones_v10.csv')"
      ],
      "execution_count": 0,
      "outputs": []
    },
    {
      "cell_type": "code",
      "metadata": {
        "id": "PyYOj7hwgH_D",
        "colab_type": "code",
        "outputId": "45c3fc7b-6342-4b7c-8272-30522d08f525",
        "colab": {
          "base_uri": "https://localhost:8080/",
          "height": 1000
        }
      },
      "source": [
        "df.head().T"
      ],
      "execution_count": 86,
      "outputs": [
        {
          "output_type": "execute_result",
          "data": {
            "text/html": [
              "<div>\n",
              "<style scoped>\n",
              "    .dataframe tbody tr th:only-of-type {\n",
              "        vertical-align: middle;\n",
              "    }\n",
              "\n",
              "    .dataframe tbody tr th {\n",
              "        vertical-align: top;\n",
              "    }\n",
              "\n",
              "    .dataframe thead th {\n",
              "        text-align: right;\n",
              "    }\n",
              "</style>\n",
              "<table border=\"1\" class=\"dataframe\">\n",
              "  <thead>\n",
              "    <tr style=\"text-align: right;\">\n",
              "      <th></th>\n",
              "      <th>0</th>\n",
              "      <th>1</th>\n",
              "      <th>2</th>\n",
              "      <th>3</th>\n",
              "      <th>4</th>\n",
              "    </tr>\n",
              "  </thead>\n",
              "  <tbody>\n",
              "    <tr>\n",
              "      <th>Unnamed: 0</th>\n",
              "      <td>0</td>\n",
              "      <td>1</td>\n",
              "      <td>2</td>\n",
              "      <td>3</td>\n",
              "      <td>4</td>\n",
              "    </tr>\n",
              "    <tr>\n",
              "      <th>SID</th>\n",
              "      <td>1949163N07145</td>\n",
              "      <td>1950241N23140</td>\n",
              "      <td>1951224N12316</td>\n",
              "      <td>1951337N09150</td>\n",
              "      <td>1952180N05144</td>\n",
              "    </tr>\n",
              "    <tr>\n",
              "      <th>NAME</th>\n",
              "      <td>DELLA</td>\n",
              "      <td>JANE</td>\n",
              "      <td>CHARLIE</td>\n",
              "      <td>AMY</td>\n",
              "      <td>EMMA</td>\n",
              "    </tr>\n",
              "    <tr>\n",
              "      <th>ISO</th>\n",
              "      <td>JPN</td>\n",
              "      <td>JPN</td>\n",
              "      <td>JAM</td>\n",
              "      <td>PHL</td>\n",
              "      <td>PHL</td>\n",
              "    </tr>\n",
              "    <tr>\n",
              "      <th>YEAR</th>\n",
              "      <td>1949</td>\n",
              "      <td>1950</td>\n",
              "      <td>1951</td>\n",
              "      <td>1951</td>\n",
              "      <td>1952</td>\n",
              "    </tr>\n",
              "    <tr>\n",
              "      <th>BASIN</th>\n",
              "      <td>WP</td>\n",
              "      <td>WP</td>\n",
              "      <td>NAm</td>\n",
              "      <td>WP</td>\n",
              "      <td>WP</td>\n",
              "    </tr>\n",
              "    <tr>\n",
              "      <th>SUB BASIN</th>\n",
              "      <td>WP</td>\n",
              "      <td>WP</td>\n",
              "      <td>CS</td>\n",
              "      <td>WP</td>\n",
              "      <td>WP</td>\n",
              "    </tr>\n",
              "    <tr>\n",
              "      <th>NATURE</th>\n",
              "      <td>TS</td>\n",
              "      <td>ET</td>\n",
              "      <td>TS</td>\n",
              "      <td>TS</td>\n",
              "      <td>TS</td>\n",
              "    </tr>\n",
              "    <tr>\n",
              "      <th>ISO_TIME</th>\n",
              "      <td>['1949-06-21 03:00:00', '1949-06-22 03:00:00',...</td>\n",
              "      <td>['1950-09-02 18:00:00', '1950-09-03 12:00:00',...</td>\n",
              "      <td>['1951-08-17 21:00:00', '1951-08-18 12:00:00']</td>\n",
              "      <td>['1951-12-08 18:00:00', '1951-12-08 21:00:00',...</td>\n",
              "      <td>['1952-07-01 18:00:00', '1952-07-01 21:00:00',...</td>\n",
              "    </tr>\n",
              "    <tr>\n",
              "      <th>COORDS</th>\n",
              "      <td>[[35.67, 130.99], [38.35, 135.07], [38.82, 136...</td>\n",
              "      <td>[[31.71, 134.12], [38.48, 137.98], [46.7, 152.8]]</td>\n",
              "      <td>[[17.34, -75.41], [18.3, -79.4]]</td>\n",
              "      <td>[[11.52, 127.35], [11.34, 127.09], [11.17, 126...</td>\n",
              "      <td>[[9.57, 127.79], [9.63, 127.19], [12.38, 119.4...</td>\n",
              "    </tr>\n",
              "    <tr>\n",
              "      <th>TOTAL_HRS</th>\n",
              "      <td>0</td>\n",
              "      <td>6</td>\n",
              "      <td>15</td>\n",
              "      <td>15</td>\n",
              "      <td>3</td>\n",
              "    </tr>\n",
              "    <tr>\n",
              "      <th>DAY_HRS</th>\n",
              "      <td>0</td>\n",
              "      <td>0</td>\n",
              "      <td>0</td>\n",
              "      <td>0</td>\n",
              "      <td>2</td>\n",
              "    </tr>\n",
              "    <tr>\n",
              "      <th>NIGHT_HRS</th>\n",
              "      <td>0</td>\n",
              "      <td>6</td>\n",
              "      <td>15</td>\n",
              "      <td>15</td>\n",
              "      <td>1</td>\n",
              "    </tr>\n",
              "    <tr>\n",
              "      <th>USA_SSHS</th>\n",
              "      <td>0</td>\n",
              "      <td>-1</td>\n",
              "      <td>1</td>\n",
              "      <td>2</td>\n",
              "      <td>1</td>\n",
              "    </tr>\n",
              "    <tr>\n",
              "      <th>WIND_CALC_MEAN</th>\n",
              "      <td>39.1333</td>\n",
              "      <td>76.4</td>\n",
              "      <td>88.5</td>\n",
              "      <td>84.4882</td>\n",
              "      <td>83.92</td>\n",
              "    </tr>\n",
              "    <tr>\n",
              "      <th>PRES_CALC_MEAN</th>\n",
              "      <td>1000.33</td>\n",
              "      <td>974.833</td>\n",
              "      <td>974.5</td>\n",
              "      <td>979.549</td>\n",
              "      <td>980.6</td>\n",
              "    </tr>\n",
              "    <tr>\n",
              "      <th>STORM_SPD_MEAN</th>\n",
              "      <td>19</td>\n",
              "      <td>23</td>\n",
              "      <td>15.5</td>\n",
              "      <td>3</td>\n",
              "      <td>10.8</td>\n",
              "    </tr>\n",
              "    <tr>\n",
              "      <th>STORM_DR_MEAN</th>\n",
              "      <td>91.4444</td>\n",
              "      <td>37.6667</td>\n",
              "      <td>283.5</td>\n",
              "      <td>161.647</td>\n",
              "      <td>291.4</td>\n",
              "    </tr>\n",
              "    <tr>\n",
              "      <th>V_LAND_KN</th>\n",
              "      <td>99.82</td>\n",
              "      <td>99.82</td>\n",
              "      <td>132.4</td>\n",
              "      <td>119.2</td>\n",
              "      <td>110.691</td>\n",
              "    </tr>\n",
              "    <tr>\n",
              "      <th>34KN_POP</th>\n",
              "      <td>NaN</td>\n",
              "      <td>NaN</td>\n",
              "      <td>2.78866e+06</td>\n",
              "      <td>2.04648e+07</td>\n",
              "      <td>NaN</td>\n",
              "    </tr>\n",
              "    <tr>\n",
              "      <th>34KN_ASSETS</th>\n",
              "      <td>NaN</td>\n",
              "      <td>NaN</td>\n",
              "      <td>2.1482e+10</td>\n",
              "      <td>1.88028e+11</td>\n",
              "      <td>NaN</td>\n",
              "    </tr>\n",
              "    <tr>\n",
              "      <th>64KN_POP</th>\n",
              "      <td>NaN</td>\n",
              "      <td>NaN</td>\n",
              "      <td>2.78866e+06</td>\n",
              "      <td>1.26759e+07</td>\n",
              "      <td>NaN</td>\n",
              "    </tr>\n",
              "    <tr>\n",
              "      <th>64KN_ASSETS</th>\n",
              "      <td>NaN</td>\n",
              "      <td>NaN</td>\n",
              "      <td>2.1482e+10</td>\n",
              "      <td>1.13105e+11</td>\n",
              "      <td>NaN</td>\n",
              "    </tr>\n",
              "    <tr>\n",
              "      <th>96KN_POP</th>\n",
              "      <td>NaN</td>\n",
              "      <td>NaN</td>\n",
              "      <td>2.5529e+06</td>\n",
              "      <td>5.61819e+06</td>\n",
              "      <td>NaN</td>\n",
              "    </tr>\n",
              "    <tr>\n",
              "      <th>96KN_ASSETS</th>\n",
              "      <td>NaN</td>\n",
              "      <td>NaN</td>\n",
              "      <td>1.94835e+10</td>\n",
              "      <td>4.89733e+10</td>\n",
              "      <td>NaN</td>\n",
              "    </tr>\n",
              "    <tr>\n",
              "      <th>CPI</th>\n",
              "      <td>9.32757</td>\n",
              "      <td>9.43194</td>\n",
              "      <td>10.1755</td>\n",
              "      <td>10.1755</td>\n",
              "      <td>10.4104</td>\n",
              "    </tr>\n",
              "    <tr>\n",
              "      <th>TOTAL_DAMAGE_(000$)</th>\n",
              "      <td>NaN</td>\n",
              "      <td>NaN</td>\n",
              "      <td>56000</td>\n",
              "      <td>NaN</td>\n",
              "      <td>NaN</td>\n",
              "    </tr>\n",
              "    <tr>\n",
              "      <th>TOTAL_DEATHS</th>\n",
              "      <td>419</td>\n",
              "      <td>509</td>\n",
              "      <td>154</td>\n",
              "      <td>569</td>\n",
              "      <td>19</td>\n",
              "    </tr>\n",
              "    <tr>\n",
              "      <th>Air transport, freight (million ton-km)</th>\n",
              "      <td>NaN</td>\n",
              "      <td>NaN</td>\n",
              "      <td>NaN</td>\n",
              "      <td>NaN</td>\n",
              "      <td>NaN</td>\n",
              "    </tr>\n",
              "    <tr>\n",
              "      <th>Arable land (hectares per person)</th>\n",
              "      <td>0.0596147</td>\n",
              "      <td>0.0596147</td>\n",
              "      <td>0.100541</td>\n",
              "      <td>0.180442</td>\n",
              "      <td>0.180442</td>\n",
              "    </tr>\n",
              "    <tr>\n",
              "      <th>Cereal yield (kg per hectare)</th>\n",
              "      <td>4173.5</td>\n",
              "      <td>4173.5</td>\n",
              "      <td>868.3</td>\n",
              "      <td>996.3</td>\n",
              "      <td>996.3</td>\n",
              "    </tr>\n",
              "    <tr>\n",
              "      <th>Food production index (2004-2006 = 100)</th>\n",
              "      <td>67.79</td>\n",
              "      <td>67.79</td>\n",
              "      <td>69.93</td>\n",
              "      <td>25.68</td>\n",
              "      <td>25.68</td>\n",
              "    </tr>\n",
              "    <tr>\n",
              "      <th>GDP growth (annual %)</th>\n",
              "      <td>NaN</td>\n",
              "      <td>NaN</td>\n",
              "      <td>NaN</td>\n",
              "      <td>NaN</td>\n",
              "      <td>NaN</td>\n",
              "    </tr>\n",
              "    <tr>\n",
              "      <th>GDP per capita (constant 2010 US$)</th>\n",
              "      <td>8607.66</td>\n",
              "      <td>8607.66</td>\n",
              "      <td>3796.22</td>\n",
              "      <td>1059.47</td>\n",
              "      <td>1059.47</td>\n",
              "    </tr>\n",
              "    <tr>\n",
              "      <th>Net flows from UN agencies US$</th>\n",
              "      <td>0</td>\n",
              "      <td>0</td>\n",
              "      <td>0</td>\n",
              "      <td>0</td>\n",
              "      <td>0</td>\n",
              "    </tr>\n",
              "    <tr>\n",
              "      <th>Life expectancy at birth, total (years)</th>\n",
              "      <td>67.6661</td>\n",
              "      <td>67.6661</td>\n",
              "      <td>64.77</td>\n",
              "      <td>61.105</td>\n",
              "      <td>61.105</td>\n",
              "    </tr>\n",
              "    <tr>\n",
              "      <th>Mobile cellular subscriptions (per 100 people)</th>\n",
              "      <td>NaN</td>\n",
              "      <td>NaN</td>\n",
              "      <td>NaN</td>\n",
              "      <td>NaN</td>\n",
              "      <td>NaN</td>\n",
              "    </tr>\n",
              "    <tr>\n",
              "      <th>Population density (people per sq. km of land area)</th>\n",
              "      <td>258.912</td>\n",
              "      <td>258.912</td>\n",
              "      <td>152.454</td>\n",
              "      <td>91.065</td>\n",
              "      <td>91.065</td>\n",
              "    </tr>\n",
              "    <tr>\n",
              "      <th>Adjusted savings: education expenditure (% of GNI)</th>\n",
              "      <td>2.86788</td>\n",
              "      <td>2.86788</td>\n",
              "      <td>2.5783</td>\n",
              "      <td>2.75773</td>\n",
              "      <td>2.75773</td>\n",
              "    </tr>\n",
              "    <tr>\n",
              "      <th>Rural population (% of total population)</th>\n",
              "      <td>36.728</td>\n",
              "      <td>36.728</td>\n",
              "      <td>66.231</td>\n",
              "      <td>69.703</td>\n",
              "      <td>69.703</td>\n",
              "    </tr>\n",
              "    <tr>\n",
              "      <th>Income_level_Final</th>\n",
              "      <td>Low</td>\n",
              "      <td>Low</td>\n",
              "      <td>Low</td>\n",
              "      <td>Low_Middle</td>\n",
              "      <td>Low_Middle</td>\n",
              "    </tr>\n",
              "    <tr>\n",
              "      <th>TOTAL_AFFECTED</th>\n",
              "      <td>194046</td>\n",
              "      <td>642117</td>\n",
              "      <td>20200</td>\n",
              "      <td>60000</td>\n",
              "      <td>103</td>\n",
              "    </tr>\n",
              "    <tr>\n",
              "      <th>in_wbi</th>\n",
              "      <td>True</td>\n",
              "      <td>True</td>\n",
              "      <td>True</td>\n",
              "      <td>True</td>\n",
              "      <td>True</td>\n",
              "    </tr>\n",
              "    <tr>\n",
              "      <th>pop_max_34</th>\n",
              "      <td>1.64319e+07</td>\n",
              "      <td>4.33433e+07</td>\n",
              "      <td>2.75369e+06</td>\n",
              "      <td>1.4132e+07</td>\n",
              "      <td>1.52327e+07</td>\n",
              "    </tr>\n",
              "    <tr>\n",
              "      <th>pop_max_50</th>\n",
              "      <td>7.95881e+06</td>\n",
              "      <td>2.13807e+07</td>\n",
              "      <td>2.75017e+06</td>\n",
              "      <td>8.92645e+06</td>\n",
              "      <td>8.28166e+06</td>\n",
              "    </tr>\n",
              "    <tr>\n",
              "      <th>pop_max_64</th>\n",
              "      <td>4.55385e+06</td>\n",
              "      <td>1.39723e+07</td>\n",
              "      <td>1.94809e+06</td>\n",
              "      <td>3.30963e+06</td>\n",
              "      <td>5.90369e+06</td>\n",
              "    </tr>\n",
              "    <tr>\n",
              "      <th>pop_max_34_adj</th>\n",
              "      <td>1.1983e+07</td>\n",
              "      <td>3.16082e+07</td>\n",
              "      <td>1.68924e+06</td>\n",
              "      <td>4.76004e+06</td>\n",
              "      <td>5.1308e+06</td>\n",
              "    </tr>\n",
              "    <tr>\n",
              "      <th>pop_max_50_adj</th>\n",
              "      <td>5.80398e+06</td>\n",
              "      <td>1.5592e+07</td>\n",
              "      <td>1.68708e+06</td>\n",
              "      <td>3.00667e+06</td>\n",
              "      <td>2.78949e+06</td>\n",
              "    </tr>\n",
              "    <tr>\n",
              "      <th>pop_max_64_adj</th>\n",
              "      <td>3.32091e+06</td>\n",
              "      <td>1.01894e+07</td>\n",
              "      <td>1.19505e+06</td>\n",
              "      <td>1.11477e+06</td>\n",
              "      <td>1.98852e+06</td>\n",
              "    </tr>\n",
              "  </tbody>\n",
              "</table>\n",
              "</div>"
            ],
            "text/plain": [
              "                                                                                                    0  ...                                                  4\n",
              "Unnamed: 0                                                                                          0  ...                                                  4\n",
              "SID                                                                                     1949163N07145  ...                                      1952180N05144\n",
              "NAME                                                                                            DELLA  ...                                               EMMA\n",
              "ISO                                                                                               JPN  ...                                                PHL\n",
              "YEAR                                                                                             1949  ...                                               1952\n",
              "BASIN                                                                                              WP  ...                                                 WP\n",
              "SUB BASIN                                                                                          WP  ...                                                 WP\n",
              "NATURE                                                                                             TS  ...                                                 TS\n",
              "ISO_TIME                                            ['1949-06-21 03:00:00', '1949-06-22 03:00:00',...  ...  ['1952-07-01 18:00:00', '1952-07-01 21:00:00',...\n",
              "COORDS                                              [[35.67, 130.99], [38.35, 135.07], [38.82, 136...  ...  [[9.57, 127.79], [9.63, 127.19], [12.38, 119.4...\n",
              "TOTAL_HRS                                                                                           0  ...                                                  3\n",
              "DAY_HRS                                                                                             0  ...                                                  2\n",
              "NIGHT_HRS                                                                                           0  ...                                                  1\n",
              "USA_SSHS                                                                                            0  ...                                                  1\n",
              "WIND_CALC_MEAN                                                                                39.1333  ...                                              83.92\n",
              "PRES_CALC_MEAN                                                                                1000.33  ...                                              980.6\n",
              "STORM_SPD_MEAN                                                                                     19  ...                                               10.8\n",
              "STORM_DR_MEAN                                                                                 91.4444  ...                                              291.4\n",
              "V_LAND_KN                                                                                       99.82  ...                                            110.691\n",
              "34KN_POP                                                                                          NaN  ...                                                NaN\n",
              "34KN_ASSETS                                                                                       NaN  ...                                                NaN\n",
              "64KN_POP                                                                                          NaN  ...                                                NaN\n",
              "64KN_ASSETS                                                                                       NaN  ...                                                NaN\n",
              "96KN_POP                                                                                          NaN  ...                                                NaN\n",
              "96KN_ASSETS                                                                                       NaN  ...                                                NaN\n",
              "CPI                                                                                           9.32757  ...                                            10.4104\n",
              "TOTAL_DAMAGE_(000$)                                                                               NaN  ...                                                NaN\n",
              "TOTAL_DEATHS                                                                                      419  ...                                                 19\n",
              "Air transport, freight (million ton-km)                                                           NaN  ...                                                NaN\n",
              "Arable land (hectares per person)                                                           0.0596147  ...                                           0.180442\n",
              "Cereal yield (kg per hectare)                                                                  4173.5  ...                                              996.3\n",
              "Food production index (2004-2006 = 100)                                                         67.79  ...                                              25.68\n",
              "GDP growth (annual %)                                                                             NaN  ...                                                NaN\n",
              "GDP per capita (constant 2010 US$)                                                            8607.66  ...                                            1059.47\n",
              "Net flows from UN agencies US$                                                                      0  ...                                                  0\n",
              "Life expectancy at birth, total (years)                                                       67.6661  ...                                             61.105\n",
              "Mobile cellular subscriptions (per 100 people)                                                    NaN  ...                                                NaN\n",
              "Population density (people per sq. km of land a...                                            258.912  ...                                             91.065\n",
              "Adjusted savings: education expenditure (% of GNI)                                            2.86788  ...                                            2.75773\n",
              "Rural population (% of total population)                                                       36.728  ...                                             69.703\n",
              "Income_level_Final                                                                                Low  ...                                         Low_Middle\n",
              "TOTAL_AFFECTED                                                                                 194046  ...                                                103\n",
              "in_wbi                                                                                           True  ...                                               True\n",
              "pop_max_34                                                                                1.64319e+07  ...                                        1.52327e+07\n",
              "pop_max_50                                                                                7.95881e+06  ...                                        8.28166e+06\n",
              "pop_max_64                                                                                4.55385e+06  ...                                        5.90369e+06\n",
              "pop_max_34_adj                                                                             1.1983e+07  ...                                         5.1308e+06\n",
              "pop_max_50_adj                                                                            5.80398e+06  ...                                        2.78949e+06\n",
              "pop_max_64_adj                                                                            3.32091e+06  ...                                        1.98852e+06\n",
              "\n",
              "[49 rows x 5 columns]"
            ]
          },
          "metadata": {
            "tags": []
          },
          "execution_count": 86
        }
      ]
    },
    {
      "cell_type": "code",
      "metadata": {
        "id": "-K4xEywpp9Eb",
        "colab_type": "code",
        "colab": {}
      },
      "source": [
        "#adopted from vamsi codes\n",
        "df['MONTH'] = df['ISO_TIME'].apply(lambda x: [int(i[7:9]) for i in eval(x)][0])\n",
        "df.drop('ISO_TIME', axis=1, inplace=True)"
      ],
      "execution_count": 0,
      "outputs": []
    },
    {
      "cell_type": "code",
      "metadata": {
        "id": "MkHvLzGiqW-z",
        "colab_type": "code",
        "colab": {}
      },
      "source": [
        "#Adopted from Arnab's code\n",
        "unique_list = df['Income_level_Final'].unique()\n",
        "incomelevel_to_int = dict(zip(unique_list, [1,2,4,3])) # so we assign['Low' =1, 'Low_Middle' =2, 'High'=4, 'High_Middle'=3]\n",
        "df['Income_level_Final'] = df['Income_level_Final'].apply(lambda inc_level: incomelevel_to_int[inc_level])"
      ],
      "execution_count": 0,
      "outputs": []
    },
    {
      "cell_type": "code",
      "metadata": {
        "id": "CKyCrzy0gt8N",
        "colab_type": "code",
        "colab": {}
      },
      "source": [
        "#adopted from vamsi codes\n",
        "#BASIN and SUBBASIN: 'MM' value means missing, and USA_SSHS column with value -5 = Unknown [XX]:\n",
        "df[\"SUB BASIN\"] = df[\"SUB BASIN\"].replace('MM', np.nan) \n",
        "df[\"BASIN\"] = df[\"BASIN\"].replace('MM', np.nan) \n",
        "df[\"USA_SSHS\"]= df[\"USA_SSHS\"].replace(-5, np.nan)"
      ],
      "execution_count": 0,
      "outputs": []
    },
    {
      "cell_type": "code",
      "metadata": {
        "id": "baL8BHEbg2CR",
        "colab_type": "code",
        "colab": {}
      },
      "source": [
        "#adopted from xavier tores's codes\n",
        "#As damage in '000 USD is time-money sensitive, we can use the CPI for that data point to calculate \"Total Damage Adjusted\" by dividing Total Damage by the CPI. We then drop columns for Damage and CPI. CPI meaning = https://en.wikipedia.org/wiki/Consumer_price_index\n",
        "df[\"TOTAL_DAMAGE_(000$)_Adjusted\"]= df[\"TOTAL_DAMAGE_(000$)\"] / df[\"CPI\"]\n",
        "df[\"TOTAL_DAMAGE_(000$)_Adjusted\"]= df[\"TOTAL_DAMAGE_(000$)_Adjusted\"].replace(0, np.nan)"
      ],
      "execution_count": 0,
      "outputs": []
    },
    {
      "cell_type": "code",
      "metadata": {
        "id": "pjty2Vvlg-A_",
        "colab_type": "code",
        "outputId": "376f2156-8cab-4012-d6e5-85cc6d68d08b",
        "colab": {
          "base_uri": "https://localhost:8080/",
          "height": 35
        }
      },
      "source": [
        "#adopted from xavier tores's codes\n",
        "df = df.drop([\"TOTAL_DAMAGE_(000$)\",'CPI'], axis=1)\n",
        "df[\"TOTAL_DAMAGE_(000$)_Adjusted\"].isna().sum()"
      ],
      "execution_count": 74,
      "outputs": [
        {
          "output_type": "execute_result",
          "data": {
            "text/plain": [
              "319"
            ]
          },
          "metadata": {
            "tags": []
          },
          "execution_count": 74
        }
      ]
    },
    {
      "cell_type": "code",
      "metadata": {
        "id": "qoR1M49phFUb",
        "colab_type": "code",
        "colab": {}
      },
      "source": [
        "#adopted from xavier tores's codes\n",
        "df['CALC_assets_emdat'] = df['34KN_ASSETS'] + df['64KN_ASSETS'] + df['96KN_ASSETS']\n",
        "df = df.drop(['64KN_ASSETS', '96KN_ASSETS','96KN_ASSETS'], axis=1)"
      ],
      "execution_count": 0,
      "outputs": []
    },
    {
      "cell_type": "code",
      "metadata": {
        "id": "Cs_Kh1DVhXqj",
        "colab_type": "code",
        "outputId": "8263ae08-55f5-4ba2-e1b3-2215038050bd",
        "colab": {
          "base_uri": "https://localhost:8080/",
          "height": 348
        }
      },
      "source": [
        "df.shape\n",
        "df.columns"
      ],
      "execution_count": 89,
      "outputs": [
        {
          "output_type": "execute_result",
          "data": {
            "text/plain": [
              "Index(['Unnamed: 0', 'SID', 'NAME', 'ISO', 'YEAR', 'BASIN', 'SUB BASIN',\n",
              "       'NATURE', 'COORDS', 'TOTAL_HRS', 'DAY_HRS', 'NIGHT_HRS', 'USA_SSHS',\n",
              "       'WIND_CALC_MEAN', 'PRES_CALC_MEAN', 'STORM_SPD_MEAN', 'STORM_DR_MEAN',\n",
              "       'V_LAND_KN', '34KN_POP', '34KN_ASSETS', '64KN_POP', '96KN_POP', 'CPI',\n",
              "       'TOTAL_DAMAGE_(000$)', 'TOTAL_DEATHS',\n",
              "       'Air transport, freight (million ton-km)',\n",
              "       'Arable land (hectares per person)', 'Cereal yield (kg per hectare)',\n",
              "       'Food production index (2004-2006 = 100)', 'GDP growth (annual %)',\n",
              "       'GDP per capita (constant 2010 US$)', 'Net flows from UN agencies US$',\n",
              "       'Life expectancy at birth, total (years)',\n",
              "       'Mobile cellular subscriptions (per 100 people)',\n",
              "       'Population density (people per sq. km of land area)',\n",
              "       'Adjusted savings: education expenditure (% of GNI)',\n",
              "       'Rural population (% of total population)', 'Income_level_Final',\n",
              "       'TOTAL_AFFECTED', 'in_wbi', 'pop_max_34', 'pop_max_50', 'pop_max_64',\n",
              "       'pop_max_34_adj', 'pop_max_50_adj', 'pop_max_64_adj', 'MONTH',\n",
              "       'CALC_assets_emdat'],\n",
              "      dtype='object')"
            ]
          },
          "metadata": {
            "tags": []
          },
          "execution_count": 89
        }
      ]
    },
    {
      "cell_type": "code",
      "metadata": {
        "id": "MYQCIOKJA3IG",
        "colab_type": "code",
        "colab": {
          "base_uri": "https://localhost:8080/",
          "height": 35
        },
        "outputId": "2f64b1d4-221d-4cba-b9e3-cb5ceb07dc5c"
      },
      "source": [
        "df.shape"
      ],
      "execution_count": 90,
      "outputs": [
        {
          "output_type": "execute_result",
          "data": {
            "text/plain": [
              "(1005, 48)"
            ]
          },
          "metadata": {
            "tags": []
          },
          "execution_count": 90
        }
      ]
    },
    {
      "cell_type": "code",
      "metadata": {
        "id": "hJ8p1pr8AMN4",
        "colab_type": "code",
        "colab": {}
      },
      "source": [
        "#adopted from xavier tores's codes\n",
        "# One Hot encoding for the rest of the categorical variables\n",
        "obj_feats = df.dtypes[df.dtypes == 'object'].index\n",
        "obj_feats\n",
        "feats_to_dummy = obj_feats #selecting feats to make one-hot encoding\n",
        "\n",
        "for feature in feats_to_dummy:\n",
        "    dummy = pd.get_dummies(df[feature], prefix=feature)\n",
        "    df = pd.concat([df,dummy], axis=1)\n"
      ],
      "execution_count": 0,
      "outputs": []
    },
    {
      "cell_type": "code",
      "metadata": {
        "id": "6tFbzZvZhtUB",
        "colab_type": "code",
        "colab": {}
      },
      "source": [
        "\n",
        "# Dropping dummed features\n",
        "df = df.drop(feats_to_dummy, axis=1)"
      ],
      "execution_count": 0,
      "outputs": []
    },
    {
      "cell_type": "code",
      "metadata": {
        "id": "0EDrKYHDiKGO",
        "colab_type": "code",
        "colab": {}
      },
      "source": [
        "#df.head(3)"
      ],
      "execution_count": 0,
      "outputs": []
    },
    {
      "cell_type": "code",
      "metadata": {
        "id": "Fov7MK_vo8Ws",
        "colab_type": "code",
        "outputId": "080cce0a-39df-4afb-b06d-a56dbae0bf78",
        "colab": {
          "base_uri": "https://localhost:8080/",
          "height": 109
        }
      },
      "source": [
        "df.info()\n",
        "#sf = StandardScaler()"
      ],
      "execution_count": 98,
      "outputs": [
        {
          "output_type": "stream",
          "text": [
            "<class 'pandas.core.frame.DataFrame'>\n",
            "RangeIndex: 1005 entries, 0 to 1004\n",
            "Columns: 2444 entries, Unnamed: 0 to Income_level_Final_Low_Middle\n",
            "dtypes: bool(1), float64(31), int64(8), uint8(2404)\n",
            "memory usage: 2.6 MB\n"
          ],
          "name": "stdout"
        }
      ]
    },
    {
      "cell_type": "code",
      "metadata": {
        "id": "TITJk3KFpJzj",
        "colab_type": "code",
        "colab": {}
      },
      "source": [
        "#df['YEAR'] = 2020 - df['YEAR']"
      ],
      "execution_count": 0,
      "outputs": []
    },
    {
      "cell_type": "code",
      "metadata": {
        "id": "xFM3V2PCsrGD",
        "colab_type": "code",
        "outputId": "0830e5c0-5cba-4b7b-890a-77913ef09eed",
        "colab": {
          "base_uri": "https://localhost:8080/",
          "height": 35
        }
      },
      "source": [
        "df.shape"
      ],
      "execution_count": 100,
      "outputs": [
        {
          "output_type": "execute_result",
          "data": {
            "text/plain": [
              "(1005, 2444)"
            ]
          },
          "metadata": {
            "tags": []
          },
          "execution_count": 100
        }
      ]
    },
    {
      "cell_type": "code",
      "metadata": {
        "id": "FBMBeWlgpfIs",
        "colab_type": "code",
        "outputId": "6238fb69-cb21-427b-9d45-c425398c75cf",
        "colab": {
          "base_uri": "https://localhost:8080/",
          "height": 35
        }
      },
      "source": [
        "df=df.dropna()\n",
        "df.shape"
      ],
      "execution_count": 101,
      "outputs": [
        {
          "output_type": "execute_result",
          "data": {
            "text/plain": [
              "(439, 2444)"
            ]
          },
          "metadata": {
            "tags": []
          },
          "execution_count": 101
        }
      ]
    },
    {
      "cell_type": "code",
      "metadata": {
        "id": "ZXIzAGFMtbXz",
        "colab_type": "code",
        "colab": {}
      },
      "source": [
        "mm = MinMaxScaler()\n",
        "sf = StandardScaler()"
      ],
      "execution_count": 0,
      "outputs": []
    },
    {
      "cell_type": "code",
      "metadata": {
        "id": "V-So0dqZtbnm",
        "colab_type": "code",
        "colab": {}
      },
      "source": [
        "Y = df['TOTAL_AFFECTED']\n",
        "X = df.drop('TOTAL_AFFECTED',axis=1)"
      ],
      "execution_count": 0,
      "outputs": []
    },
    {
      "cell_type": "code",
      "metadata": {
        "id": "CBtgGX-YtJJK",
        "colab_type": "code",
        "colab": {}
      },
      "source": [
        "#Sampling as a target variable for better sampling\n",
        "samples = 20*np.arange(16)\n",
        "Y = np.digitize(Y, samples) "
      ],
      "execution_count": 0,
      "outputs": []
    },
    {
      "cell_type": "code",
      "metadata": {
        "id": "7PLJCJZhtPF_",
        "colab_type": "code",
        "colab": {}
      },
      "source": [
        "# Split train and test\n",
        "X_train, X_test, Y_train, Y_test = train_test_split(X, Y, test_size = 0.3, random_state=25, shuffle=True, stratify=Y)\n"
      ],
      "execution_count": 0,
      "outputs": []
    },
    {
      "cell_type": "code",
      "metadata": {
        "id": "pAk4jW6QvRLI",
        "colab_type": "code",
        "colab": {}
      },
      "source": [
        "columns = list(X_train.columns)\n",
        "X_TRain = pd.DataFrame(mm.fit_transform(X_train),columns = columns)\n",
        "#X_TRain = mm.fit_transform(X_train)\n",
        "X_TEst = pd.DataFrame(mm.transform(X_test),columns=columns)\n",
        "#X_TEst = mm.transform(X_test)"
      ],
      "execution_count": 0,
      "outputs": []
    },
    {
      "cell_type": "code",
      "metadata": {
        "id": "3xs2JuvatgTf",
        "colab_type": "code",
        "colab": {}
      },
      "source": [
        "#NeXt Step is to Scale features by standardizing\n",
        "X_train = sf.fit_transform(X_TRain)\n",
        "X_test = sf.transform(X_test)\n",
        "\n",
        "#Before Scaling, let's perform a pca through normalization\n",
        "pca = PCA(n_components=1)\n",
        "X_train  = pca.fit_transform(X_train)\n",
        "X_test  = pca.fit_transform(X_test)"
      ],
      "execution_count": 0,
      "outputs": []
    },
    {
      "cell_type": "code",
      "metadata": {
        "id": "nbc5kKAptjBP",
        "colab_type": "code",
        "outputId": "9b70bd44-f509-4693-bdea-fdc95dcdbd1d",
        "colab": {
          "base_uri": "https://localhost:8080/",
          "height": 350
        }
      },
      "source": [
        "#Training the algorithm with the sample dataset\n",
        "estModel = RandomForestRegressor(n_estimators = 700, random_state = 5)\n",
        "estModel.fit(X_train, Y_train)\n",
        "#Model Score\n",
        "mScore = estModel.score(X_train,Y_train)\n",
        "\n",
        "#Prediction\n",
        "Predict_Y = estModel.predict(X_test)\n",
        "\n",
        "#Evaluating algorithm performance\n",
        "#MSE Result\n",
        "rmse = mean_squared_error(Y_test,Predict_Y)\n",
        "print('Root Mean Squared Error:, %.2f' % np.sqrt(rmse))\n",
        "#Variance score: 1 is perfect prediction score\n",
        "print('Test Variance Score: %.4f' % r2_score(Y_test, Predict_Y))\n",
        "#Variance score: 1 is perfect prediction score\n",
        "print('R^2 Prediction Score: %.4f'% mScore)\n",
        "\n",
        "#Root Mean Squared Error\n",
        "#mse = np.sqrt(np.mean((Y_test - Predict_Y)**2))\n",
        "#time.sleep(1)\n",
        "#rint('Root Mean Square Error: %.4f'%rmse)\n",
        "#Run the model against the test data presented through a plot\n",
        "fig, pX = plt.subplots()\n",
        "\n",
        "pX.scatter(Y_test, Predict_Y, edgecolors=(0, 0, 0))\n",
        "pX.plot([Y_test.min(), Y_test.max()], [Y_test.min(), Y_test.max()], 'm--', lw=3)\n",
        "pX.set_xlabel('Actual Data')\n",
        "pX.set_ylabel('Predicted Data')\n",
        "pX.set_title(\"Verified vs Predicted\")\n",
        "plt.show()\n"
      ],
      "execution_count": 110,
      "outputs": [
        {
          "output_type": "stream",
          "text": [
            "Root Mean Squared Error:, 0.29\n",
            "Test Variance Score: -0.0909\n",
            "R^2 Prediction Score: 0.8212\n"
          ],
          "name": "stdout"
        },
        {
          "output_type": "display_data",
          "data": {
            "image/png": "[encoded data removed]",
            "text/plain": [
              "<Figure size 432x288 with 1 Axes>"
            ]
          },
          "metadata": {
            "tags": [],
            "needs_background": "light"
          }
        }
      ]
    }
  ]
}