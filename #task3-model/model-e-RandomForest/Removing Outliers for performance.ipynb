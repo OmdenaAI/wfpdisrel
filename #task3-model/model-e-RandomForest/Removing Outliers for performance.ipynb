{
 "cells": [
  {
   "cell_type": "code",
   "execution_count": 98,
   "metadata": {},
   "outputs": [],
   "source": [
    "import pandas as pd\n",
    "import numpy as np\n",
    "import matplotlib.pyplot as plt\n",
    "from sklearn.metrics import mean_absolute_error, mean_squared_error\n",
    "from sklearn.ensemble import RandomForestRegressor\n",
    "from sklearn.svm import SVR\n",
    "from sklearn.model_selection import StratifiedShuffleSplit,StratifiedKFold\n",
    "from sklearn.impute import SimpleImputer\n",
    "from sklearn.preprocessing import StandardScaler, MinMaxScaler\n",
    "from sklearn.impute import SimpleImputer, KNNImputer\n",
    "from sklearn.preprocessing import OneHotEncoder\n",
    "import seaborn as sns"
   ]
  },
  {
   "cell_type": "code",
   "execution_count": 63,
   "metadata": {},
   "outputs": [
    {
     "data": {
      "text/html": [
       "<div>\n",
       "<style scoped>\n",
       "    .dataframe tbody tr th:only-of-type {\n",
       "        vertical-align: middle;\n",
       "    }\n",
       "\n",
       "    .dataframe tbody tr th {\n",
       "        vertical-align: top;\n",
       "    }\n",
       "\n",
       "    .dataframe thead th {\n",
       "        text-align: right;\n",
       "    }\n",
       "</style>\n",
       "<table border=\"1\" class=\"dataframe\">\n",
       "  <thead>\n",
       "    <tr style=\"text-align: right;\">\n",
       "      <th></th>\n",
       "      <th>SID</th>\n",
       "      <th>NAME</th>\n",
       "      <th>ISO</th>\n",
       "      <th>YEAR</th>\n",
       "      <th>COORDS</th>\n",
       "      <th>COORDS_MAX_WINDS</th>\n",
       "      <th>COORDS_MIN_DIST2LAND</th>\n",
       "      <th>BASIN</th>\n",
       "      <th>SUB BASIN</th>\n",
       "      <th>MONTH_START</th>\n",
       "      <th>...</th>\n",
       "      <th>Food production index (2004-2006 = 100)</th>\n",
       "      <th>GDP per capita (constant 2010 US$)</th>\n",
       "      <th>Net flows from UN agencies US$</th>\n",
       "      <th>Life expectancy at birth, total (years)</th>\n",
       "      <th>Adjusted savings: education expenditure (% of GNI)</th>\n",
       "      <th>Income_level_Final</th>\n",
       "      <th>POP_MAX_34_ADJ</th>\n",
       "      <th>POP_MAX_50_ADJ</th>\n",
       "      <th>POP_MAX_64_ADJ</th>\n",
       "      <th>TOTAL_AFFECTED</th>\n",
       "    </tr>\n",
       "  </thead>\n",
       "  <tbody>\n",
       "    <tr>\n",
       "      <th>0</th>\n",
       "      <td>1949163N07145</td>\n",
       "      <td>DELLA</td>\n",
       "      <td>JPN</td>\n",
       "      <td>1949</td>\n",
       "      <td>[(21.5, 125.424), (22.2, 125.8), (22.9089, 126...</td>\n",
       "      <td>[(27.6584, 128.82), (28.9141, 129.572999999999...</td>\n",
       "      <td>[(31.9866, 130.683), (33.5183, 130.97299999999...</td>\n",
       "      <td>WP</td>\n",
       "      <td>WP</td>\n",
       "      <td>6</td>\n",
       "      <td>...</td>\n",
       "      <td>67.79</td>\n",
       "      <td>8607.657082</td>\n",
       "      <td>0.0</td>\n",
       "      <td>67.666098</td>\n",
       "      <td>2.867878</td>\n",
       "      <td>Low</td>\n",
       "      <td>1.198300e+07</td>\n",
       "      <td>5.803981e+06</td>\n",
       "      <td>3.320907e+06</td>\n",
       "      <td>194046</td>\n",
       "    </tr>\n",
       "    <tr>\n",
       "      <th>1</th>\n",
       "      <td>1950241N23140</td>\n",
       "      <td>JANE</td>\n",
       "      <td>JPN</td>\n",
       "      <td>1950</td>\n",
       "      <td>[(23.8845, 139.74), (23.9335, 139.639), (23.98...</td>\n",
       "      <td>[(28.7509, 133.748), (29.1201, 133.762), (29.6...</td>\n",
       "      <td>[(34.9374, 135.476), (36.1016, 136.095), (37.2...</td>\n",
       "      <td>WP</td>\n",
       "      <td>WP</td>\n",
       "      <td>8</td>\n",
       "      <td>...</td>\n",
       "      <td>67.79</td>\n",
       "      <td>8607.657082</td>\n",
       "      <td>0.0</td>\n",
       "      <td>67.666098</td>\n",
       "      <td>2.867878</td>\n",
       "      <td>Low</td>\n",
       "      <td>3.160822e+07</td>\n",
       "      <td>1.559196e+07</td>\n",
       "      <td>1.018936e+07</td>\n",
       "      <td>642117</td>\n",
       "    </tr>\n",
       "    <tr>\n",
       "      <th>2</th>\n",
       "      <td>1951224N12316</td>\n",
       "      <td>CHARLIE</td>\n",
       "      <td>JAM</td>\n",
       "      <td>1951</td>\n",
       "      <td>[(17.3398, -75.4138), (17.6, -76.2), (17.9, -7...</td>\n",
       "      <td>[(17.6, -76.2), (17.9, -76.9)]</td>\n",
       "      <td>[(17.9, -76.9), (18.1, -77.8)]</td>\n",
       "      <td>NAm</td>\n",
       "      <td>CS</td>\n",
       "      <td>8</td>\n",
       "      <td>...</td>\n",
       "      <td>69.93</td>\n",
       "      <td>3796.219401</td>\n",
       "      <td>0.0</td>\n",
       "      <td>64.770000</td>\n",
       "      <td>2.578304</td>\n",
       "      <td>Low</td>\n",
       "      <td>1.689243e+06</td>\n",
       "      <td>1.687083e+06</td>\n",
       "      <td>1.195052e+06</td>\n",
       "      <td>20200</td>\n",
       "    </tr>\n",
       "    <tr>\n",
       "      <th>3</th>\n",
       "      <td>1951337N09150</td>\n",
       "      <td>AMY</td>\n",
       "      <td>PHL</td>\n",
       "      <td>1951</td>\n",
       "      <td>[(12.0725, 130.967), (12.1333, 130.517), (12.1...</td>\n",
       "      <td>[(11.7833, 127.9)]</td>\n",
       "      <td>[(10.7333, 124.8), (10.534, 123.174), (10.6833...</td>\n",
       "      <td>WP</td>\n",
       "      <td>WP</td>\n",
       "      <td>12</td>\n",
       "      <td>...</td>\n",
       "      <td>25.68</td>\n",
       "      <td>1059.467412</td>\n",
       "      <td>0.0</td>\n",
       "      <td>61.105000</td>\n",
       "      <td>2.757732</td>\n",
       "      <td>Low_Middle</td>\n",
       "      <td>4.760039e+06</td>\n",
       "      <td>3.006670e+06</td>\n",
       "      <td>1.114774e+06</td>\n",
       "      <td>60000</td>\n",
       "    </tr>\n",
       "    <tr>\n",
       "      <th>4</th>\n",
       "      <td>1952180N05144</td>\n",
       "      <td>EMMA</td>\n",
       "      <td>PHL</td>\n",
       "      <td>1952</td>\n",
       "      <td>[(9.33776, 130.185), (9.38633, 129.61), (9.45,...</td>\n",
       "      <td>[(9.45, 129.017), (9.50407, 128.407), (9.56613...</td>\n",
       "      <td>[(10.4667, 123.867), (10.6492, 123.239), (10.8...</td>\n",
       "      <td>WP</td>\n",
       "      <td>WP</td>\n",
       "      <td>7</td>\n",
       "      <td>...</td>\n",
       "      <td>25.68</td>\n",
       "      <td>1059.467412</td>\n",
       "      <td>0.0</td>\n",
       "      <td>61.105000</td>\n",
       "      <td>2.757732</td>\n",
       "      <td>Low_Middle</td>\n",
       "      <td>5.130796e+06</td>\n",
       "      <td>2.789486e+06</td>\n",
       "      <td>1.988524e+06</td>\n",
       "      <td>103</td>\n",
       "    </tr>\n",
       "  </tbody>\n",
       "</table>\n",
       "<p>5 rows × 51 columns</p>\n",
       "</div>"
      ],
      "text/plain": [
       "             SID     NAME  ISO  YEAR  \\\n",
       "0  1949163N07145    DELLA  JPN  1949   \n",
       "1  1950241N23140     JANE  JPN  1950   \n",
       "2  1951224N12316  CHARLIE  JAM  1951   \n",
       "3  1951337N09150      AMY  PHL  1951   \n",
       "4  1952180N05144     EMMA  PHL  1952   \n",
       "\n",
       "                                              COORDS  \\\n",
       "0  [(21.5, 125.424), (22.2, 125.8), (22.9089, 126...   \n",
       "1  [(23.8845, 139.74), (23.9335, 139.639), (23.98...   \n",
       "2  [(17.3398, -75.4138), (17.6, -76.2), (17.9, -7...   \n",
       "3  [(12.0725, 130.967), (12.1333, 130.517), (12.1...   \n",
       "4  [(9.33776, 130.185), (9.38633, 129.61), (9.45,...   \n",
       "\n",
       "                                    COORDS_MAX_WINDS  \\\n",
       "0  [(27.6584, 128.82), (28.9141, 129.572999999999...   \n",
       "1  [(28.7509, 133.748), (29.1201, 133.762), (29.6...   \n",
       "2                     [(17.6, -76.2), (17.9, -76.9)]   \n",
       "3                                 [(11.7833, 127.9)]   \n",
       "4  [(9.45, 129.017), (9.50407, 128.407), (9.56613...   \n",
       "\n",
       "                                COORDS_MIN_DIST2LAND BASIN SUB BASIN  \\\n",
       "0  [(31.9866, 130.683), (33.5183, 130.97299999999...    WP        WP   \n",
       "1  [(34.9374, 135.476), (36.1016, 136.095), (37.2...    WP        WP   \n",
       "2                     [(17.9, -76.9), (18.1, -77.8)]   NAm        CS   \n",
       "3  [(10.7333, 124.8), (10.534, 123.174), (10.6833...    WP        WP   \n",
       "4  [(10.4667, 123.867), (10.6492, 123.239), (10.8...    WP        WP   \n",
       "\n",
       "   MONTH_START  ...  Food production index (2004-2006 = 100)  \\\n",
       "0            6  ...                                    67.79   \n",
       "1            8  ...                                    67.79   \n",
       "2            8  ...                                    69.93   \n",
       "3           12  ...                                    25.68   \n",
       "4            7  ...                                    25.68   \n",
       "\n",
       "  GDP per capita (constant 2010 US$) Net flows from UN agencies US$  \\\n",
       "0                        8607.657082                            0.0   \n",
       "1                        8607.657082                            0.0   \n",
       "2                        3796.219401                            0.0   \n",
       "3                        1059.467412                            0.0   \n",
       "4                        1059.467412                            0.0   \n",
       "\n",
       "  Life expectancy at birth, total (years)  \\\n",
       "0                               67.666098   \n",
       "1                               67.666098   \n",
       "2                               64.770000   \n",
       "3                               61.105000   \n",
       "4                               61.105000   \n",
       "\n",
       "  Adjusted savings: education expenditure (% of GNI)  Income_level_Final  \\\n",
       "0                                           2.867878                 Low   \n",
       "1                                           2.867878                 Low   \n",
       "2                                           2.578304                 Low   \n",
       "3                                           2.757732          Low_Middle   \n",
       "4                                           2.757732          Low_Middle   \n",
       "\n",
       "   POP_MAX_34_ADJ POP_MAX_50_ADJ POP_MAX_64_ADJ  TOTAL_AFFECTED  \n",
       "0    1.198300e+07   5.803981e+06   3.320907e+06          194046  \n",
       "1    3.160822e+07   1.559196e+07   1.018936e+07          642117  \n",
       "2    1.689243e+06   1.687083e+06   1.195052e+06           20200  \n",
       "3    4.760039e+06   3.006670e+06   1.114774e+06           60000  \n",
       "4    5.130796e+06   2.789486e+06   1.988524e+06             103  \n",
       "\n",
       "[5 rows x 51 columns]"
      ]
     },
     "execution_count": 63,
     "metadata": {},
     "output_type": "execute_result"
    }
   ],
   "source": [
    "init_data = pd.read_csv('./OUTPUT_WBI_exposer_cyclones_v14.csv',sep=';')\n",
    "init_data.head()"
   ]
  },
  {
   "cell_type": "code",
   "execution_count": 64,
   "metadata": {},
   "outputs": [],
   "source": [
    "## Code from Fabi to remove outliers using IQR\n",
    "\n",
    "def null_cols(data):\n",
    "\n",
    "    \"\"\"\n",
    "    This function takes a dataframe df and shows the columns of df that have NaN values\n",
    "    and the number of them\n",
    "\n",
    "    \"\"\"\n",
    "\n",
    "    nulls = data.isna().sum()\n",
    "    return nulls[nulls > 0] / len(data) * 100\n",
    "\n",
    "def detect_low_variance(data, col, n= 90):\n",
    "\n",
    "    \"\"\"\n",
    "    This function takes a dataframe data, a column col from data\n",
    "    and a number n between 0 and 100.\n",
    "    Returns True if the minimum value of column is equal to its n-th percentile\n",
    "    and False otherwise. The predetermined value of the percentile is 90.\n",
    "    \"\"\"\n",
    "    min_val = data[col].min()\n",
    "    perc_val = np.percentile(data[col], n)\n",
    "    return min_val == perc_val\n",
    "\n",
    "def drop_low_variance(data, n= 90):\n",
    "\n",
    "    \"\"\"\n",
    "    Takes a dataframe data and a number n between 0 and 100.\n",
    "    It returns a dataframe after removing the numerical columns having low\n",
    "    variance having as a reference the value n.\n",
    "    \"\"\"\n",
    "\n",
    "    low_var_cols = [col for col in data.select_dtypes(include = [np.number]).columns if detect_low_variance(data, col, n)]\n",
    "    return data.drop(low_var_cols, axis=1)\n",
    "\n",
    "def iqr(data, cols, t=1.5):\n",
    "\n",
    "    \"\"\"\n",
    "    This function computes the interquartal range with rule t.\n",
    "    \"data\" is a dataframe, \"cols\" is a list of columns with numerical values\n",
    "    from \"data\" and \"t\" is a positive number. By default t takes the value 1.5.\n",
    "    iqr returns a dictionary of dictionaries containing the lower and upper\n",
    "    extremes of the adjusted IQR for each column.\n",
    "    \"\"\"\n",
    "    Q1 = data[cols].quantile(0.25)\n",
    "    Q3 = data[cols].quantile(0.75)\n",
    "    IQR = Q3-Q1\n",
    "    low_bound = {}\n",
    "    upp_bound = {}\n",
    "    for col in list(IQR.index):\n",
    "        low_bound[col] = Q1[col]-t*IQR[col]\n",
    "        upp_bound[col] = Q3[col]+t*IQR[col]\n",
    "    return {\"low_b\": low_bound, \"upp_b\": upp_bound}\n",
    "\n",
    "def drop_outliers(data, cols, t=1.5):\n",
    "\n",
    "    \"\"\"\n",
    "    Takes a dataset data, a list of columns cols with numerical values and a positive\n",
    "    number t which is the rule for calculating the interquartal range.\n",
    "    Returns a data set without outliers removed accourding with the rule t.\n",
    "    \"\"\"\n",
    "    iqr_d = iqr(data, cols, t)\n",
    "    for col in cols:\n",
    "#         return data[~((data[col]< iqr_d[\"low_b\"][col]) | (data[col]> iqr_d[\"upp_b\"][col]))]\n",
    "        data = data[~((data[col]< iqr_d[\"low_b\"][col]) | (data[col]> iqr_d[\"upp_b\"][col]))]\n",
    "    return data.copy()\n"
   ]
  },
  {
   "cell_type": "code",
   "execution_count": 65,
   "metadata": {},
   "outputs": [],
   "source": [
    "null_columns_num = []\n",
    "null_columns_cat = []\n",
    "total_columns = init_data.columns.to_list()\n",
    "for col in total_columns:\n",
    "    if init_data[init_data[col].isnull()].shape[0] > 0:\n",
    "        if init_data[col].dtype == 'object':\n",
    "            null_columns_cat.append(col)\n",
    "        else:\n",
    "            null_columns_num.append(col)"
   ]
  },
  {
   "cell_type": "code",
   "execution_count": 66,
   "metadata": {},
   "outputs": [],
   "source": [
    "knn_imputer = KNNImputer(n_neighbors=5)\n",
    "simple_imputer = SimpleImputer(strategy='mean')\n",
    "for col in null_columns_cat:\n",
    "    init_data[col] = knn_imputer.fit_transform(init_data[[col]])\n",
    "for col in null_columns_num:\n",
    "    init_data[col] = simple_imputer.fit_transform(init_data[[col]])"
   ]
  },
  {
   "cell_type": "code",
   "execution_count": 149,
   "metadata": {},
   "outputs": [
    {
     "name": "stdout",
     "output_type": "stream",
     "text": [
      "Input shape of the dataset (991, 51)\n",
      "Shape of the data after dropping with low varience (991, 51)\n",
      "Shape of the data after dropping the outliers of all columns (218, 51)\n",
      "Shape of the data after dropping the outliers (610, 51)\n"
     ]
    }
   ],
   "source": [
    "num1_features = init_data.select_dtypes(include = ['int64', 'float64']).columns.to_list()\n",
    "num_features = ['V_LAND_KN', 'TOTAL_HOURS_IN_LAND', 'MAX_WIND', 'MIN_PRES', 'MIN_DIST2LAND', 'MAX_STORMSPEED',\n",
    "                 'DISTANCE_TRACK_VINCENTY', 'HDI']\n",
    "data = drop_outliers(init_data, num_features)\n",
    "print(f'Input shape of the dataset {init_data.shape}')\n",
    "print(f'Shape of the data after dropping with low varience {drop_low_variance(init_data).shape}')\n",
    "print(f'Shape of the data after dropping the outliers of all columns {drop_outliers(init_data,num1_features).shape}')\n",
    "print(f'Shape of the data after dropping the outliers {data.shape}')"
   ]
  },
  {
   "cell_type": "code",
   "execution_count": 69,
   "metadata": {},
   "outputs": [
    {
     "data": {
      "text/plain": [
       "TOTAL_AFFECTED                                        1.000000\n",
       "TOTAL_DEATHS                                          0.383302\n",
       "34KN_POP                                              0.263747\n",
       "Net flows from UN agencies US$                        0.252973\n",
       "64KN_POP                                              0.241824\n",
       "MAX_WIND                                              0.236357\n",
       "V_LAND_KN                                             0.233406\n",
       "MAX_USA_SSHS                                          0.222447\n",
       "96KN_POP                                              0.195337\n",
       "RURAL_POP(%)                                          0.191339\n",
       "POP_MAX_50_ADJ                                        0.187753\n",
       "POP_MAX_64_ADJ                                        0.176240\n",
       "POP_MAX_34_ADJ                                        0.166236\n",
       "MONTH_START                                           0.150850\n",
       "MONTH_END                                             0.146185\n",
       "DISTANCE_TRACK_VINCENTY                               0.134352\n",
       "TOTAL_HOURS_IN_LAND                                   0.130976\n",
       "TOTAL_HOURS_EVENT                                     0.117067\n",
       "DISTANCE_TRACK                                        0.116517\n",
       "96KN_ASSETS                                           0.098742\n",
       "64KN_ASSETS                                           0.065391\n",
       "YEAR                                                  0.038823\n",
       "Food production index (2004-2006 = 100)               0.037824\n",
       "POP_DEN_SQ_KM                                         0.025454\n",
       "TOTAL_DAMAGE_(000$)                                   0.023410\n",
       "Arable land (hectares per person)                    -0.033201\n",
       "34KN_ASSETS                                          -0.062722\n",
       "Cereal yield (kg per hectare)                        -0.064145\n",
       "MAX_STORMSPEED                                       -0.083379\n",
       "Adjusted savings: education expenditure (% of GNI)   -0.114077\n",
       "Life expectancy at birth, total (years)              -0.116788\n",
       "GDP per capita (constant 2010 US$)                   -0.155766\n",
       "HDI                                                  -0.189420\n",
       "MIN_PRES                                             -0.257771\n",
       "MIN_DIST2LAND                                              NaN\n",
       "Name: TOTAL_AFFECTED, dtype: float64"
      ]
     },
     "execution_count": 69,
     "metadata": {},
     "output_type": "execute_result"
    }
   ],
   "source": [
    "data.corr(method = 'spearman')['TOTAL_AFFECTED'].sort_values(ascending=False)"
   ]
  },
  {
   "cell_type": "code",
   "execution_count": 70,
   "metadata": {},
   "outputs": [],
   "source": [
    "cat_features = init_data.select_dtypes(include=['object']).columns.to_list()"
   ]
  },
  {
   "cell_type": "code",
   "execution_count": 85,
   "metadata": {},
   "outputs": [],
   "source": [
    "cat_features = ['BASIN','NATURE', 'SUB BASIN', 'GENERAL_CATEGORY']\n",
    "num_features = ['MONTH_END', 'TOTAL_HOURS_IN_LAND', 'MAX_WIND', 'MIN_PRES', 'MIN_DIST2LAND', 'MAX_STORMSPEED',\n",
    "               'V_LAND_KN', 'DISTANCE_TRACK_VINCENTY', 'POP_DEN_SQ_KM', 'RURAL_POP(%)', 'HDI', 'GDP per capita (constant 2010 US$)',\n",
    "               'TOTAL_AFFECTED']"
   ]
  },
  {
   "cell_type": "code",
   "execution_count": 128,
   "metadata": {},
   "outputs": [],
   "source": [
    "total_data = data[cat_features + num_features].copy()\n",
    "X = total_data.drop(columns = 'TOTAL_AFFECTED', axis=1)\n",
    "y = total_data['TOTAL_AFFECTED']"
   ]
  },
  {
   "cell_type": "markdown",
   "metadata": {},
   "source": [
    "- Stratified shuffle split will not work properly as all the categorical data cannot be placed in both train and test\n",
    "- So using kfold cross validation"
   ]
  },
  {
   "cell_type": "code",
   "execution_count": 129,
   "metadata": {},
   "outputs": [
    {
     "data": {
      "text/plain": [
       "TS       176\n",
       "Cat 1    125\n",
       "Cat 4    118\n",
       "Cat 2     68\n",
       "Cat 3     67\n",
       "Cat 5     39\n",
       "TD        17\n",
       "Name: GENERAL_CATEGORY, dtype: int64"
      ]
     },
     "execution_count": 129,
     "metadata": {},
     "output_type": "execute_result"
    }
   ],
   "source": [
    "X['GENERAL_CATEGORY'].value_counts()"
   ]
  },
  {
   "cell_type": "code",
   "execution_count": 130,
   "metadata": {},
   "outputs": [],
   "source": [
    "# sss_split = StratifiedShuffleSplit(n_splits=1, test_size =0.2, random_state=23)\n",
    "# for train_index, test_indes in sss_split.split(X, X[cat_features]):\n",
    "#     train_x, test_x = X.iloc[train_index], X.ilco[test_index]\n",
    "#     train_y, test_y = y.iloc[train_index], y.iloc[test_index]"
   ]
  },
  {
   "cell_type": "code",
   "execution_count": 131,
   "metadata": {},
   "outputs": [],
   "source": [
    "X['GENERAL_CATEGORY'] = X['GENERAL_CATEGORY'].replace('TS', 'Cat 0')\n",
    "X['GENERAL_CATEGORY'] = X['GENERAL_CATEGORY'].replace('TD', 'Cat 0')"
   ]
  },
  {
   "cell_type": "code",
   "execution_count": 132,
   "metadata": {},
   "outputs": [
    {
     "data": {
      "text/plain": [
       "Cat 0    193\n",
       "Cat 1    125\n",
       "Cat 4    118\n",
       "Cat 2     68\n",
       "Cat 3     67\n",
       "Cat 5     39\n",
       "Name: GENERAL_CATEGORY, dtype: int64"
      ]
     },
     "execution_count": 132,
     "metadata": {},
     "output_type": "execute_result"
    }
   ],
   "source": [
    "X['GENERAL_CATEGORY'].value_counts()"
   ]
  },
  {
   "cell_type": "code",
   "execution_count": 133,
   "metadata": {},
   "outputs": [],
   "source": [
    "X = pd.concat([pd.get_dummies(X[cat_features]), X],axis=1)\n",
    "X.drop(columns=cat_features, axis=1, inplace=True)"
   ]
  },
  {
   "cell_type": "code",
   "execution_count": 134,
   "metadata": {},
   "outputs": [
    {
     "name": "stderr",
     "output_type": "stream",
     "text": [
      "/Users/vamsi/Documents/Programming_projects/wfp_challenge/venv/lib/python3.7/site-packages/sklearn/model_selection/_split.py:667: UserWarning: The least populated class in y has only 1 members, which is less than n_splits=3.\n",
      "  % (min_groups, self.n_splits)), UserWarning)\n"
     ]
    }
   ],
   "source": [
    "skf = StratifiedKFold(n_splits=3, random_state=None)\n",
    "# X is the feature set and y is the target\n",
    "for train_index, val_index in skf.split(X,y): \n",
    "    X_train, X_test = X.iloc[train_index], X.iloc[val_index] \n",
    "    y_train, y_test = y.iloc[train_index], y.iloc[val_index]"
   ]
  },
  {
   "cell_type": "code",
   "execution_count": 135,
   "metadata": {},
   "outputs": [
    {
     "name": "stdout",
     "output_type": "stream",
     "text": [
      "<class 'pandas.core.frame.DataFrame'>\n",
      "Int64Index: 407 entries, 1 to 990\n",
      "Data columns (total 42 columns):\n",
      "BASIN_EP                              407 non-null uint8\n",
      "BASIN_NAm                             407 non-null uint8\n",
      "BASIN_NI                              407 non-null uint8\n",
      "BASIN_SI                              407 non-null uint8\n",
      "BASIN_SP                              407 non-null uint8\n",
      "BASIN_WP                              407 non-null uint8\n",
      "NATURE_DS                             407 non-null uint8\n",
      "NATURE_ET                             407 non-null uint8\n",
      "NATURE_MX                             407 non-null uint8\n",
      "NATURE_NR                             407 non-null uint8\n",
      "NATURE_SS                             407 non-null uint8\n",
      "NATURE_TS                             407 non-null uint8\n",
      "SUB BASIN_AS                          407 non-null uint8\n",
      "SUB BASIN_BB                          407 non-null uint8\n",
      "SUB BASIN_CP                          407 non-null uint8\n",
      "SUB BASIN_CS                          407 non-null uint8\n",
      "SUB BASIN_EA                          407 non-null uint8\n",
      "SUB BASIN_EP                          407 non-null uint8\n",
      "SUB BASIN_GM                          407 non-null uint8\n",
      "SUB BASIN_NAm                         407 non-null uint8\n",
      "SUB BASIN_SI                          407 non-null uint8\n",
      "SUB BASIN_SP                          407 non-null uint8\n",
      "SUB BASIN_WA                          407 non-null uint8\n",
      "SUB BASIN_WP                          407 non-null uint8\n",
      "GENERAL_CATEGORY_Cat 0                407 non-null uint8\n",
      "GENERAL_CATEGORY_Cat 1                407 non-null uint8\n",
      "GENERAL_CATEGORY_Cat 2                407 non-null uint8\n",
      "GENERAL_CATEGORY_Cat 3                407 non-null uint8\n",
      "GENERAL_CATEGORY_Cat 4                407 non-null uint8\n",
      "GENERAL_CATEGORY_Cat 5                407 non-null uint8\n",
      "MONTH_END                             407 non-null int64\n",
      "TOTAL_HOURS_IN_LAND                   407 non-null float64\n",
      "MAX_WIND                              407 non-null float64\n",
      "MIN_PRES                              407 non-null int64\n",
      "MIN_DIST2LAND                         407 non-null int64\n",
      "MAX_STORMSPEED                        407 non-null float64\n",
      "V_LAND_KN                             407 non-null float64\n",
      "DISTANCE_TRACK_VINCENTY               407 non-null float64\n",
      "POP_DEN_SQ_KM                         407 non-null float64\n",
      "RURAL_POP(%)                          407 non-null float64\n",
      "HDI                                   407 non-null float64\n",
      "GDP per capita (constant 2010 US$)    407 non-null float64\n",
      "dtypes: float64(9), int64(3), uint8(30)\n",
      "memory usage: 53.3 KB\n"
     ]
    }
   ],
   "source": []
  },
  {
   "cell_type": "code",
   "execution_count": 139,
   "metadata": {},
   "outputs": [],
   "source": [
    "from sklearn.model_selection import GridSearchCV\n",
    "## parameters for RF\n",
    "rf_param = {\n",
    "    'bootstrap': [True],\n",
    "    'max_depth': [80, 90, 100, 110],\n",
    "    'max_features': [2, 3],\n",
    "    'min_samples_leaf': [3, 4, 5],\n",
    "    'min_samples_split': [8, 10, 12],\n",
    "    'n_estimators': [100, 200, 300, 1000]\n",
    "}"
   ]
  },
  {
   "cell_type": "code",
   "execution_count": 140,
   "metadata": {},
   "outputs": [],
   "source": [
    "rf = RandomForestRegressor()\n",
    "grid_search_rf = GridSearchCV(estimator = rf, param_grid = rf_param, \n",
    "                          cv = 3, n_jobs = -1, verbose = 2)"
   ]
  },
  {
   "cell_type": "code",
   "execution_count": 141,
   "metadata": {},
   "outputs": [
    {
     "name": "stdout",
     "output_type": "stream",
     "text": [
      "Fitting 3 folds for each of 288 candidates, totalling 864 fits\n"
     ]
    },
    {
     "name": "stderr",
     "output_type": "stream",
     "text": [
      "[Parallel(n_jobs=-1)]: Using backend LokyBackend with 8 concurrent workers.\n",
      "[Parallel(n_jobs=-1)]: Done  25 tasks      | elapsed:    5.6s\n",
      "[Parallel(n_jobs=-1)]: Done 146 tasks      | elapsed:   22.3s\n",
      "[Parallel(n_jobs=-1)]: Done 349 tasks      | elapsed:   53.5s\n",
      "[Parallel(n_jobs=-1)]: Done 632 tasks      | elapsed:  1.6min\n",
      "[Parallel(n_jobs=-1)]: Done 864 out of 864 | elapsed:  2.1min finished\n"
     ]
    },
    {
     "data": {
      "text/plain": [
       "GridSearchCV(cv=3, error_score=nan,\n",
       "             estimator=RandomForestRegressor(bootstrap=True, ccp_alpha=0.0,\n",
       "                                             criterion='mse', max_depth=None,\n",
       "                                             max_features='auto',\n",
       "                                             max_leaf_nodes=None,\n",
       "                                             max_samples=None,\n",
       "                                             min_impurity_decrease=0.0,\n",
       "                                             min_impurity_split=None,\n",
       "                                             min_samples_leaf=1,\n",
       "                                             min_samples_split=2,\n",
       "                                             min_weight_fraction_leaf=0.0,\n",
       "                                             n_estimators=100, n_jobs=None,\n",
       "                                             oob_score=False, random_state=None,\n",
       "                                             verbose=0, warm_start=False),\n",
       "             iid='deprecated', n_jobs=-1,\n",
       "             param_grid={'bootstrap': [True], 'max_depth': [80, 90, 100, 110],\n",
       "                         'max_features': [2, 3], 'min_samples_leaf': [3, 4, 5],\n",
       "                         'min_samples_split': [8, 10, 12],\n",
       "                         'n_estimators': [100, 200, 300, 1000]},\n",
       "             pre_dispatch='2*n_jobs', refit=True, return_train_score=False,\n",
       "             scoring=None, verbose=2)"
      ]
     },
     "execution_count": 141,
     "metadata": {},
     "output_type": "execute_result"
    }
   ],
   "source": [
    "grid_search_rf.fit(X_train, y_train)"
   ]
  },
  {
   "cell_type": "code",
   "execution_count": 142,
   "metadata": {},
   "outputs": [
    {
     "data": {
      "text/plain": [
       "RandomForestRegressor(bootstrap=True, ccp_alpha=0.0, criterion='mse',\n",
       "                      max_depth=100, max_features=2, max_leaf_nodes=None,\n",
       "                      max_samples=None, min_impurity_decrease=0.0,\n",
       "                      min_impurity_split=None, min_samples_leaf=5,\n",
       "                      min_samples_split=10, min_weight_fraction_leaf=0.0,\n",
       "                      n_estimators=100, n_jobs=None, oob_score=False,\n",
       "                      random_state=None, verbose=0, warm_start=False)"
      ]
     },
     "execution_count": 142,
     "metadata": {},
     "output_type": "execute_result"
    }
   ],
   "source": [
    "grid_search_rf.best_estimator_"
   ]
  },
  {
   "cell_type": "code",
   "execution_count": 143,
   "metadata": {},
   "outputs": [],
   "source": [
    "y_pred_man_rf = grid_search_rf.predict(X_test)"
   ]
  },
  {
   "cell_type": "code",
   "execution_count": 145,
   "metadata": {},
   "outputs": [
    {
     "name": "stdout",
     "output_type": "stream",
     "text": [
      "mean absolute error : 820242.5503333409\n",
      "mean squared error : 2146448551322.242\n",
      "root mean squared error : 1465076.2953929198\n"
     ]
    }
   ],
   "source": [
    "print(f'mean absolute error : {mean_absolute_error(y_pred_man_rf, y_test)}')\n",
    "print(f'mean squared error : {mean_squared_error(y_pred_man_rf, y_test)}')\n",
    "print(f'root mean squared error : {np.sqrt(mean_squared_error(y_pred_man_rf, y_test))}')"
   ]
  }
 ],
 "metadata": {
  "kernelspec": {
   "display_name": "Python 3",
   "language": "python",
   "name": "python3"
  },
  "language_info": {
   "codemirror_mode": {
    "name": "ipython",
    "version": 3
   },
   "file_extension": ".py",
   "mimetype": "text/x-python",
   "name": "python",
   "nbconvert_exporter": "python",
   "pygments_lexer": "ipython3",
   "version": "3.7.7"
  }
 },
 "nbformat": 4,
 "nbformat_minor": 4
}
