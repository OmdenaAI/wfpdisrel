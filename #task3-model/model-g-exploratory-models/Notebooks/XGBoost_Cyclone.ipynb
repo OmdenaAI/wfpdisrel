{
  "nbformat": 4,
  "nbformat_minor": 0,
  "metadata": {
    "colab": {
      "name": "XGBoost_Cyclone.ipynb",
      "provenance": []
    },
    "kernelspec": {
      "name": "python3",
      "display_name": "Python 3"
    }
  },
  "cells": [
    {
      "cell_type": "code",
      "metadata": {
        "id": "qhtgZ_dZsiC-",
        "colab_type": "code",
        "colab": {}
      },
      "source": [
        "import pandas as pd\n",
        "import numpy as np\n",
        "import matplotlib.pyplot as plt\n"
      ],
      "execution_count": 0,
      "outputs": []
    },
    {
      "cell_type": "code",
      "metadata": {
        "id": "cCzydRiLtFbt",
        "colab_type": "code",
        "outputId": "836d074b-d120-463a-8389-0adeeb5077fd",
        "colab": {
          "base_uri": "https://localhost:8080/",
          "height": 714
        }
      },
      "source": [
        "df=pd.read_csv('Master_1068.csv',index_col=0)\n",
        "df.head()"
      ],
      "execution_count": 0,
      "outputs": [
        {
          "output_type": "execute_result",
          "data": {
            "text/html": [
              "<div>\n",
              "<style scoped>\n",
              "    .dataframe tbody tr th:only-of-type {\n",
              "        vertical-align: middle;\n",
              "    }\n",
              "\n",
              "    .dataframe tbody tr th {\n",
              "        vertical-align: top;\n",
              "    }\n",
              "\n",
              "    .dataframe thead th {\n",
              "        text-align: right;\n",
              "    }\n",
              "</style>\n",
              "<table border=\"1\" class=\"dataframe\">\n",
              "  <thead>\n",
              "    <tr style=\"text-align: right;\">\n",
              "      <th></th>\n",
              "      <th>NAME</th>\n",
              "      <th>ISO</th>\n",
              "      <th>YEAR_MIN</th>\n",
              "      <th>Unnamed: 4</th>\n",
              "      <th>BASIN</th>\n",
              "      <th>SUBBASIN</th>\n",
              "      <th>NATURE</th>\n",
              "      <th>TRACK_TYPE</th>\n",
              "      <th>ISO_TIME</th>\n",
              "      <th>COORDS</th>\n",
              "      <th>TOTAL_HRS</th>\n",
              "      <th>DAY_HRS</th>\n",
              "      <th>NIGHT_HRS</th>\n",
              "      <th>USA_SSHS</th>\n",
              "      <th>WIND_CALC_MEAN (v_land_kn to be used)</th>\n",
              "      <th>PRES_CALC_MEAN</th>\n",
              "      <th>STORM_SPD_MEAN</th>\n",
              "      <th>STORM_DR_MEAN</th>\n",
              "      <th>V_LAND_KN</th>\n",
              "      <th>34KN_POP</th>\n",
              "      <th>34KN_ASSETS</th>\n",
              "      <th>64KN_POP</th>\n",
              "      <th>64KN_ASSETS</th>\n",
              "      <th>96KN_POP</th>\n",
              "      <th>96KN_ASSETS</th>\n",
              "      <th>CPI</th>\n",
              "      <th>TOTAL_DAMAGE_(000$)</th>\n",
              "      <th>Total Affected]</th>\n",
              "    </tr>\n",
              "    <tr>\n",
              "      <th>SID</th>\n",
              "      <th></th>\n",
              "      <th></th>\n",
              "      <th></th>\n",
              "      <th></th>\n",
              "      <th></th>\n",
              "      <th></th>\n",
              "      <th></th>\n",
              "      <th></th>\n",
              "      <th></th>\n",
              "      <th></th>\n",
              "      <th></th>\n",
              "      <th></th>\n",
              "      <th></th>\n",
              "      <th></th>\n",
              "      <th></th>\n",
              "      <th></th>\n",
              "      <th></th>\n",
              "      <th></th>\n",
              "      <th></th>\n",
              "      <th></th>\n",
              "      <th></th>\n",
              "      <th></th>\n",
              "      <th></th>\n",
              "      <th></th>\n",
              "      <th></th>\n",
              "      <th></th>\n",
              "      <th></th>\n",
              "      <th></th>\n",
              "    </tr>\n",
              "  </thead>\n",
              "  <tbody>\n",
              "    <tr>\n",
              "      <th>1949163N07145</th>\n",
              "      <td>DELLA</td>\n",
              "      <td>JPN</td>\n",
              "      <td>1949</td>\n",
              "      <td>DELLAJPN1949</td>\n",
              "      <td>WP</td>\n",
              "      <td>WP</td>\n",
              "      <td>TS</td>\n",
              "      <td>main</td>\n",
              "      <td>['1949-06-21 03:00:00', '1949-06-22 03:00:00',...</td>\n",
              "      <td>[[35.67, 130.99], [38.35, 135.07], [38.82, 136...</td>\n",
              "      <td>0</td>\n",
              "      <td>0</td>\n",
              "      <td>0</td>\n",
              "      <td>0</td>\n",
              "      <td>39.133333</td>\n",
              "      <td>1000.333333</td>\n",
              "      <td>19.0</td>\n",
              "      <td>91.444444</td>\n",
              "      <td>99.820</td>\n",
              "      <td>NaN</td>\n",
              "      <td>NaN</td>\n",
              "      <td>NaN</td>\n",
              "      <td>NaN</td>\n",
              "      <td>NaN</td>\n",
              "      <td>NaN</td>\n",
              "      <td>9.327572</td>\n",
              "      <td>NaN</td>\n",
              "      <td>194046</td>\n",
              "    </tr>\n",
              "    <tr>\n",
              "      <th>1950241N23140</th>\n",
              "      <td>JANE</td>\n",
              "      <td>JPN</td>\n",
              "      <td>1950</td>\n",
              "      <td>JANEJPN1950</td>\n",
              "      <td>WP</td>\n",
              "      <td>WP</td>\n",
              "      <td>ET</td>\n",
              "      <td>main</td>\n",
              "      <td>['1950-09-02 18:00:00', '1950-09-03 12:00:00',...</td>\n",
              "      <td>[[31.71, 134.12], [38.48, 137.98], [46.7, 152.8]]</td>\n",
              "      <td>6</td>\n",
              "      <td>0</td>\n",
              "      <td>6</td>\n",
              "      <td>-1</td>\n",
              "      <td>76.400000</td>\n",
              "      <td>974.833333</td>\n",
              "      <td>23.0</td>\n",
              "      <td>37.666667</td>\n",
              "      <td>99.820</td>\n",
              "      <td>NaN</td>\n",
              "      <td>NaN</td>\n",
              "      <td>NaN</td>\n",
              "      <td>NaN</td>\n",
              "      <td>NaN</td>\n",
              "      <td>NaN</td>\n",
              "      <td>9.431937</td>\n",
              "      <td>NaN</td>\n",
              "      <td>642117</td>\n",
              "    </tr>\n",
              "    <tr>\n",
              "      <th>1951224N12316</th>\n",
              "      <td>CHARLIE</td>\n",
              "      <td>JAM</td>\n",
              "      <td>1951</td>\n",
              "      <td>CHARLIEJAM1951</td>\n",
              "      <td>NAm</td>\n",
              "      <td>NAm</td>\n",
              "      <td>TS</td>\n",
              "      <td>main</td>\n",
              "      <td>['1951-08-17 21:00:00', '1951-08-18 12:00:00']</td>\n",
              "      <td>[[17.34, -75.41], [18.3, -79.4]]</td>\n",
              "      <td>15</td>\n",
              "      <td>0</td>\n",
              "      <td>15</td>\n",
              "      <td>1</td>\n",
              "      <td>88.500000</td>\n",
              "      <td>974.500000</td>\n",
              "      <td>15.5</td>\n",
              "      <td>283.500000</td>\n",
              "      <td>132.400</td>\n",
              "      <td>2788659.0</td>\n",
              "      <td>2.148198e+10</td>\n",
              "      <td>2788659.0</td>\n",
              "      <td>2.148198e+10</td>\n",
              "      <td>2552903.0</td>\n",
              "      <td>1.948346e+10</td>\n",
              "      <td>10.175534</td>\n",
              "      <td>56000.0</td>\n",
              "      <td>20200</td>\n",
              "    </tr>\n",
              "    <tr>\n",
              "      <th>1951337N09150</th>\n",
              "      <td>AMY</td>\n",
              "      <td>PHL</td>\n",
              "      <td>1951</td>\n",
              "      <td>AMYPHL1951</td>\n",
              "      <td>WP</td>\n",
              "      <td>WP</td>\n",
              "      <td>TS</td>\n",
              "      <td>main</td>\n",
              "      <td>['1951-12-08 18:00:00', '1951-12-08 21:00:00',...</td>\n",
              "      <td>[[11.52, 127.35], [11.34, 127.09], [11.17, 126...</td>\n",
              "      <td>15</td>\n",
              "      <td>0</td>\n",
              "      <td>15</td>\n",
              "      <td>2</td>\n",
              "      <td>84.488235</td>\n",
              "      <td>979.549020</td>\n",
              "      <td>3.0</td>\n",
              "      <td>161.647059</td>\n",
              "      <td>119.200</td>\n",
              "      <td>20464826.0</td>\n",
              "      <td>1.880275e+11</td>\n",
              "      <td>12675908.0</td>\n",
              "      <td>1.131051e+11</td>\n",
              "      <td>5618193.0</td>\n",
              "      <td>4.897333e+10</td>\n",
              "      <td>10.175534</td>\n",
              "      <td>NaN</td>\n",
              "      <td>60000</td>\n",
              "    </tr>\n",
              "    <tr>\n",
              "      <th>1952180N05144</th>\n",
              "      <td>EMMA</td>\n",
              "      <td>PHL</td>\n",
              "      <td>1952</td>\n",
              "      <td>EMMAPHL1952</td>\n",
              "      <td>WP</td>\n",
              "      <td>WP</td>\n",
              "      <td>TS</td>\n",
              "      <td>main</td>\n",
              "      <td>['1952-07-01 18:00:00', '1952-07-01 21:00:00',...</td>\n",
              "      <td>[[9.57, 127.79], [9.63, 127.19], [12.38, 119.4...</td>\n",
              "      <td>3</td>\n",
              "      <td>2</td>\n",
              "      <td>1</td>\n",
              "      <td>1</td>\n",
              "      <td>83.920000</td>\n",
              "      <td>980.600000</td>\n",
              "      <td>10.8</td>\n",
              "      <td>291.400000</td>\n",
              "      <td>110.691</td>\n",
              "      <td>NaN</td>\n",
              "      <td>NaN</td>\n",
              "      <td>NaN</td>\n",
              "      <td>NaN</td>\n",
              "      <td>NaN</td>\n",
              "      <td>NaN</td>\n",
              "      <td>10.410354</td>\n",
              "      <td>NaN</td>\n",
              "      <td>103</td>\n",
              "    </tr>\n",
              "  </tbody>\n",
              "</table>\n",
              "</div>"
            ],
            "text/plain": [
              "                  NAME  ISO  ...  TOTAL_DAMAGE_(000$) Total Affected]\n",
              "SID                          ...                                     \n",
              "1949163N07145    DELLA  JPN  ...                  NaN          194046\n",
              "1950241N23140     JANE  JPN  ...                  NaN          642117\n",
              "1951224N12316  CHARLIE  JAM  ...              56000.0           20200\n",
              "1951337N09150      AMY  PHL  ...                  NaN           60000\n",
              "1952180N05144     EMMA  PHL  ...                  NaN             103\n",
              "\n",
              "[5 rows x 28 columns]"
            ]
          },
          "metadata": {
            "tags": []
          },
          "execution_count": 2
        }
      ]
    },
    {
      "cell_type": "code",
      "metadata": {
        "id": "rYjqWyFitXPl",
        "colab_type": "code",
        "outputId": "a1742807-a132-4155-9a2d-bf5d39fc3c0d",
        "colab": {
          "base_uri": "https://localhost:8080/",
          "height": 136
        }
      },
      "source": [
        "df.columns"
      ],
      "execution_count": 0,
      "outputs": [
        {
          "output_type": "execute_result",
          "data": {
            "text/plain": [
              "Index(['NAME', 'ISO', 'YEAR_MIN', 'Unnamed: 4', 'BASIN', 'SUBBASIN', 'NATURE',\n",
              "       'TRACK_TYPE', 'ISO_TIME', 'COORDS', 'TOTAL_HRS', 'DAY_HRS', 'NIGHT_HRS',\n",
              "       'USA_SSHS', 'WIND_CALC_MEAN (v_land_kn to be used)', 'PRES_CALC_MEAN',\n",
              "       'STORM_SPD_MEAN', 'STORM_DR_MEAN', 'V_LAND_KN', '34KN_POP',\n",
              "       '34KN_ASSETS', '64KN_POP', '64KN_ASSETS', '96KN_POP', '96KN_ASSETS',\n",
              "       'CPI', 'TOTAL_DAMAGE_(000$)', 'Total Affected]'],\n",
              "      dtype='object')"
            ]
          },
          "metadata": {
            "tags": []
          },
          "execution_count": 3
        }
      ]
    },
    {
      "cell_type": "code",
      "metadata": {
        "id": "1PuSgAbMtbzF",
        "colab_type": "code",
        "colab": {}
      },
      "source": [
        "df_sel=df[['SUBBASIN', 'NATURE','TRACK_TYPE', 'TOTAL_HRS', 'DAY_HRS', 'NIGHT_HRS',\n",
        "       'USA_SSHS', 'PRES_CALC_MEAN','STORM_SPD_MEAN', 'STORM_DR_MEAN', 'V_LAND_KN', '34KN_POP',\n",
        "       '34KN_ASSETS', '64KN_POP', '64KN_ASSETS', '96KN_POP', '96KN_ASSETS',\n",
        "       'CPI','Total Affected]']]"
      ],
      "execution_count": 0,
      "outputs": []
    },
    {
      "cell_type": "code",
      "metadata": {
        "id": "9VuTMu6ruUVE",
        "colab_type": "code",
        "colab": {}
      },
      "source": [
        "df_sel.columns=['SUBBASIN', 'NATURE','TRACK_TYPE', 'TOTAL_HRS', 'DAY_HRS', 'NIGHT_HRS',\n",
        "       'USA_SSHS', 'PRES_CALC_MEAN','STORM_SPD_MEAN', 'STORM_DR_MEAN', 'V_LAND_KN', '34KN_POP',\n",
        "       '34KN_ASSETS', '64KN_POP', '64KN_ASSETS', '96KN_POP', '96KN_ASSETS','CPI','Total Affected']"
      ],
      "execution_count": 0,
      "outputs": []
    },
    {
      "cell_type": "code",
      "metadata": {
        "id": "3rGRzg5Yuftu",
        "colab_type": "code",
        "outputId": "cf444bec-e28e-4e1a-b8d5-1305e143c52b",
        "colab": {
          "base_uri": "https://localhost:8080/",
          "height": 459
        }
      },
      "source": [
        "df_sel.info()"
      ],
      "execution_count": 0,
      "outputs": [
        {
          "output_type": "stream",
          "text": [
            "<class 'pandas.core.frame.DataFrame'>\n",
            "Index: 1068 entries, 1949163N07145 to 1988285N09318\n",
            "Data columns (total 19 columns):\n",
            " #   Column          Non-Null Count  Dtype  \n",
            "---  ------          --------------  -----  \n",
            " 0   SUBBASIN        1068 non-null   object \n",
            " 1   NATURE          1068 non-null   object \n",
            " 2   TRACK_TYPE      1068 non-null   object \n",
            " 3   TOTAL_HRS       1068 non-null   int64  \n",
            " 4   DAY_HRS         1068 non-null   int64  \n",
            " 5   NIGHT_HRS       1068 non-null   int64  \n",
            " 6   USA_SSHS        1068 non-null   int64  \n",
            " 7   PRES_CALC_MEAN  1068 non-null   float64\n",
            " 8   STORM_SPD_MEAN  1068 non-null   float64\n",
            " 9   STORM_DR_MEAN   1068 non-null   float64\n",
            " 10  V_LAND_KN       1068 non-null   float64\n",
            " 11  34KN_POP        819 non-null    float64\n",
            " 12  34KN_ASSETS     819 non-null    float64\n",
            " 13  64KN_POP        819 non-null    float64\n",
            " 14  64KN_ASSETS     819 non-null    float64\n",
            " 15  96KN_POP        819 non-null    float64\n",
            " 16  96KN_ASSETS     819 non-null    float64\n",
            " 17  CPI             1068 non-null   float64\n",
            " 18  Total Affected  1068 non-null   int64  \n",
            "dtypes: float64(11), int64(5), object(3)\n",
            "memory usage: 206.9+ KB\n"
          ],
          "name": "stdout"
        }
      ]
    },
    {
      "cell_type": "code",
      "metadata": {
        "id": "p4IpbugFuuSy",
        "colab_type": "code",
        "outputId": "3963c2b5-e986-4a97-9f9a-c222dd0ea0d0",
        "colab": {
          "base_uri": "https://localhost:8080/",
          "height": 357
        }
      },
      "source": [
        "df_sel.isna().sum()"
      ],
      "execution_count": 0,
      "outputs": [
        {
          "output_type": "execute_result",
          "data": {
            "text/plain": [
              "SUBBASIN            0\n",
              "NATURE              0\n",
              "TRACK_TYPE          0\n",
              "TOTAL_HRS           0\n",
              "DAY_HRS             0\n",
              "NIGHT_HRS           0\n",
              "USA_SSHS            0\n",
              "PRES_CALC_MEAN      0\n",
              "STORM_SPD_MEAN      0\n",
              "STORM_DR_MEAN       0\n",
              "V_LAND_KN           0\n",
              "34KN_POP          249\n",
              "34KN_ASSETS       249\n",
              "64KN_POP          249\n",
              "64KN_ASSETS       249\n",
              "96KN_POP          249\n",
              "96KN_ASSETS       249\n",
              "CPI                 0\n",
              "Total Affected      0\n",
              "dtype: int64"
            ]
          },
          "metadata": {
            "tags": []
          },
          "execution_count": 26
        }
      ]
    },
    {
      "cell_type": "code",
      "metadata": {
        "id": "rZTQt1OJvmSS",
        "colab_type": "code",
        "outputId": "6d0d8f7c-b99a-4c25-98a8-cb654f8d0a8c",
        "colab": {
          "base_uri": "https://localhost:8080/",
          "height": 306
        }
      },
      "source": [
        "# fill misssing values with KNN imputer\n",
        "from sklearn.impute import KNNImputer\n",
        "imputer = KNNImputer(n_neighbors=3)\n",
        "df_filled = imputer.fit_transform(df_sel.drop(['SUBBASIN','NATURE','TRACK_TYPE'],axis=1))\n",
        "pd.DataFrame(df_filled).isna().sum()"
      ],
      "execution_count": 0,
      "outputs": [
        {
          "output_type": "execute_result",
          "data": {
            "text/plain": [
              "0     0\n",
              "1     0\n",
              "2     0\n",
              "3     0\n",
              "4     0\n",
              "5     0\n",
              "6     0\n",
              "7     0\n",
              "8     0\n",
              "9     0\n",
              "10    0\n",
              "11    0\n",
              "12    0\n",
              "13    0\n",
              "14    0\n",
              "15    0\n",
              "dtype: int64"
            ]
          },
          "metadata": {
            "tags": []
          },
          "execution_count": 27
        }
      ]
    },
    {
      "cell_type": "code",
      "metadata": {
        "id": "4e1QM3yXxhf0",
        "colab_type": "code",
        "outputId": "cbb02a09-47b9-4a97-b304-6eafbe9c9fb0",
        "colab": {
          "base_uri": "https://localhost:8080/",
          "height": 241
        }
      },
      "source": [
        "col_names=['TOTAL_HRS', 'DAY_HRS', 'NIGHT_HRS',\n",
        "       'USA_SSHS', 'PRES_CALC_MEAN','STORM_SPD_MEAN', 'STORM_DR_MEAN', 'V_LAND_KN', '34KN_POP',\n",
        "       '34KN_ASSETS', '64KN_POP', '64KN_ASSETS', '96KN_POP', '96KN_ASSETS','CPI','Total Affected']\n",
        "df_imputed=pd.DataFrame(df_filled)\n",
        "df_imputed.columns=col_names\n",
        "\n",
        "\n",
        "df_imputed.head()"
      ],
      "execution_count": 0,
      "outputs": [
        {
          "output_type": "execute_result",
          "data": {
            "text/html": [
              "<div>\n",
              "<style scoped>\n",
              "    .dataframe tbody tr th:only-of-type {\n",
              "        vertical-align: middle;\n",
              "    }\n",
              "\n",
              "    .dataframe tbody tr th {\n",
              "        vertical-align: top;\n",
              "    }\n",
              "\n",
              "    .dataframe thead th {\n",
              "        text-align: right;\n",
              "    }\n",
              "</style>\n",
              "<table border=\"1\" class=\"dataframe\">\n",
              "  <thead>\n",
              "    <tr style=\"text-align: right;\">\n",
              "      <th></th>\n",
              "      <th>TOTAL_HRS</th>\n",
              "      <th>DAY_HRS</th>\n",
              "      <th>NIGHT_HRS</th>\n",
              "      <th>USA_SSHS</th>\n",
              "      <th>PRES_CALC_MEAN</th>\n",
              "      <th>STORM_SPD_MEAN</th>\n",
              "      <th>STORM_DR_MEAN</th>\n",
              "      <th>V_LAND_KN</th>\n",
              "      <th>34KN_POP</th>\n",
              "      <th>34KN_ASSETS</th>\n",
              "      <th>64KN_POP</th>\n",
              "      <th>64KN_ASSETS</th>\n",
              "      <th>96KN_POP</th>\n",
              "      <th>96KN_ASSETS</th>\n",
              "      <th>CPI</th>\n",
              "      <th>Total Affected</th>\n",
              "    </tr>\n",
              "  </thead>\n",
              "  <tbody>\n",
              "    <tr>\n",
              "      <th>0</th>\n",
              "      <td>0.0</td>\n",
              "      <td>0.0</td>\n",
              "      <td>0.0</td>\n",
              "      <td>0.0</td>\n",
              "      <td>1000.333333</td>\n",
              "      <td>19.0</td>\n",
              "      <td>91.444444</td>\n",
              "      <td>99.820</td>\n",
              "      <td>3.335709e+07</td>\n",
              "      <td>3.652050e+12</td>\n",
              "      <td>9.825829e+06</td>\n",
              "      <td>1.308496e+12</td>\n",
              "      <td>8.117263e+05</td>\n",
              "      <td>1.196911e+11</td>\n",
              "      <td>9.327572</td>\n",
              "      <td>194046.0</td>\n",
              "    </tr>\n",
              "    <tr>\n",
              "      <th>1</th>\n",
              "      <td>6.0</td>\n",
              "      <td>0.0</td>\n",
              "      <td>6.0</td>\n",
              "      <td>-1.0</td>\n",
              "      <td>974.833333</td>\n",
              "      <td>23.0</td>\n",
              "      <td>37.666667</td>\n",
              "      <td>99.820</td>\n",
              "      <td>1.517600e+07</td>\n",
              "      <td>1.296460e+12</td>\n",
              "      <td>5.578279e+06</td>\n",
              "      <td>6.064228e+11</td>\n",
              "      <td>1.815180e+05</td>\n",
              "      <td>1.687883e+09</td>\n",
              "      <td>9.431937</td>\n",
              "      <td>642117.0</td>\n",
              "    </tr>\n",
              "    <tr>\n",
              "      <th>2</th>\n",
              "      <td>15.0</td>\n",
              "      <td>0.0</td>\n",
              "      <td>15.0</td>\n",
              "      <td>1.0</td>\n",
              "      <td>974.500000</td>\n",
              "      <td>15.5</td>\n",
              "      <td>283.500000</td>\n",
              "      <td>132.400</td>\n",
              "      <td>2.788659e+06</td>\n",
              "      <td>2.148198e+10</td>\n",
              "      <td>2.788659e+06</td>\n",
              "      <td>2.148198e+10</td>\n",
              "      <td>2.552903e+06</td>\n",
              "      <td>1.948346e+10</td>\n",
              "      <td>10.175534</td>\n",
              "      <td>20200.0</td>\n",
              "    </tr>\n",
              "    <tr>\n",
              "      <th>3</th>\n",
              "      <td>15.0</td>\n",
              "      <td>0.0</td>\n",
              "      <td>15.0</td>\n",
              "      <td>2.0</td>\n",
              "      <td>979.549020</td>\n",
              "      <td>3.0</td>\n",
              "      <td>161.647059</td>\n",
              "      <td>119.200</td>\n",
              "      <td>2.046483e+07</td>\n",
              "      <td>1.880275e+11</td>\n",
              "      <td>1.267591e+07</td>\n",
              "      <td>1.131051e+11</td>\n",
              "      <td>5.618193e+06</td>\n",
              "      <td>4.897333e+10</td>\n",
              "      <td>10.175534</td>\n",
              "      <td>60000.0</td>\n",
              "    </tr>\n",
              "    <tr>\n",
              "      <th>4</th>\n",
              "      <td>3.0</td>\n",
              "      <td>2.0</td>\n",
              "      <td>1.0</td>\n",
              "      <td>1.0</td>\n",
              "      <td>980.600000</td>\n",
              "      <td>10.8</td>\n",
              "      <td>291.400000</td>\n",
              "      <td>110.691</td>\n",
              "      <td>2.675016e+07</td>\n",
              "      <td>6.284626e+11</td>\n",
              "      <td>7.852587e+06</td>\n",
              "      <td>8.304139e+10</td>\n",
              "      <td>3.523097e+06</td>\n",
              "      <td>3.931635e+10</td>\n",
              "      <td>10.410354</td>\n",
              "      <td>103.0</td>\n",
              "    </tr>\n",
              "  </tbody>\n",
              "</table>\n",
              "</div>"
            ],
            "text/plain": [
              "   TOTAL_HRS  DAY_HRS  NIGHT_HRS  ...   96KN_ASSETS        CPI  Total Affected\n",
              "0        0.0      0.0        0.0  ...  1.196911e+11   9.327572        194046.0\n",
              "1        6.0      0.0        6.0  ...  1.687883e+09   9.431937        642117.0\n",
              "2       15.0      0.0       15.0  ...  1.948346e+10  10.175534         20200.0\n",
              "3       15.0      0.0       15.0  ...  4.897333e+10  10.175534         60000.0\n",
              "4        3.0      2.0        1.0  ...  3.931635e+10  10.410354           103.0\n",
              "\n",
              "[5 rows x 16 columns]"
            ]
          },
          "metadata": {
            "tags": []
          },
          "execution_count": 28
        }
      ]
    },
    {
      "cell_type": "code",
      "metadata": {
        "id": "1KRUxvsnyY3t",
        "colab_type": "code",
        "outputId": "64ee31b8-bd59-4597-cc8c-1c7ed4a1b29b",
        "colab": {
          "base_uri": "https://localhost:8080/",
          "height": 272
        }
      },
      "source": [
        "df_imputed.index = df_sel.index\n",
        "# Assign the columns.\n",
        "df_imputed['SUBBASIN'] = df_sel['SUBBASIN'].values\n",
        "df_imputed['NATURE']=df_sel['NATURE'].values\n",
        "df_imputed['TRACK_TYPE']=df_sel['TRACK_TYPE'].values\n",
        "df_imputed.head()\n"
      ],
      "execution_count": 0,
      "outputs": [
        {
          "output_type": "execute_result",
          "data": {
            "text/html": [
              "<div>\n",
              "<style scoped>\n",
              "    .dataframe tbody tr th:only-of-type {\n",
              "        vertical-align: middle;\n",
              "    }\n",
              "\n",
              "    .dataframe tbody tr th {\n",
              "        vertical-align: top;\n",
              "    }\n",
              "\n",
              "    .dataframe thead th {\n",
              "        text-align: right;\n",
              "    }\n",
              "</style>\n",
              "<table border=\"1\" class=\"dataframe\">\n",
              "  <thead>\n",
              "    <tr style=\"text-align: right;\">\n",
              "      <th></th>\n",
              "      <th>TOTAL_HRS</th>\n",
              "      <th>DAY_HRS</th>\n",
              "      <th>NIGHT_HRS</th>\n",
              "      <th>USA_SSHS</th>\n",
              "      <th>PRES_CALC_MEAN</th>\n",
              "      <th>STORM_SPD_MEAN</th>\n",
              "      <th>STORM_DR_MEAN</th>\n",
              "      <th>V_LAND_KN</th>\n",
              "      <th>34KN_POP</th>\n",
              "      <th>34KN_ASSETS</th>\n",
              "      <th>64KN_POP</th>\n",
              "      <th>64KN_ASSETS</th>\n",
              "      <th>96KN_POP</th>\n",
              "      <th>96KN_ASSETS</th>\n",
              "      <th>CPI</th>\n",
              "      <th>Total Affected</th>\n",
              "      <th>SUBBASIN</th>\n",
              "      <th>NATURE</th>\n",
              "      <th>TRACK_TYPE</th>\n",
              "    </tr>\n",
              "    <tr>\n",
              "      <th>SID</th>\n",
              "      <th></th>\n",
              "      <th></th>\n",
              "      <th></th>\n",
              "      <th></th>\n",
              "      <th></th>\n",
              "      <th></th>\n",
              "      <th></th>\n",
              "      <th></th>\n",
              "      <th></th>\n",
              "      <th></th>\n",
              "      <th></th>\n",
              "      <th></th>\n",
              "      <th></th>\n",
              "      <th></th>\n",
              "      <th></th>\n",
              "      <th></th>\n",
              "      <th></th>\n",
              "      <th></th>\n",
              "      <th></th>\n",
              "    </tr>\n",
              "  </thead>\n",
              "  <tbody>\n",
              "    <tr>\n",
              "      <th>1949163N07145</th>\n",
              "      <td>0.0</td>\n",
              "      <td>0.0</td>\n",
              "      <td>0.0</td>\n",
              "      <td>0.0</td>\n",
              "      <td>1000.333333</td>\n",
              "      <td>19.0</td>\n",
              "      <td>91.444444</td>\n",
              "      <td>99.820</td>\n",
              "      <td>3.335709e+07</td>\n",
              "      <td>3.652050e+12</td>\n",
              "      <td>9.825829e+06</td>\n",
              "      <td>1.308496e+12</td>\n",
              "      <td>8.117263e+05</td>\n",
              "      <td>1.196911e+11</td>\n",
              "      <td>9.327572</td>\n",
              "      <td>194046.0</td>\n",
              "      <td>WP</td>\n",
              "      <td>TS</td>\n",
              "      <td>main</td>\n",
              "    </tr>\n",
              "    <tr>\n",
              "      <th>1950241N23140</th>\n",
              "      <td>6.0</td>\n",
              "      <td>0.0</td>\n",
              "      <td>6.0</td>\n",
              "      <td>-1.0</td>\n",
              "      <td>974.833333</td>\n",
              "      <td>23.0</td>\n",
              "      <td>37.666667</td>\n",
              "      <td>99.820</td>\n",
              "      <td>1.517600e+07</td>\n",
              "      <td>1.296460e+12</td>\n",
              "      <td>5.578279e+06</td>\n",
              "      <td>6.064228e+11</td>\n",
              "      <td>1.815180e+05</td>\n",
              "      <td>1.687883e+09</td>\n",
              "      <td>9.431937</td>\n",
              "      <td>642117.0</td>\n",
              "      <td>WP</td>\n",
              "      <td>ET</td>\n",
              "      <td>main</td>\n",
              "    </tr>\n",
              "    <tr>\n",
              "      <th>1951224N12316</th>\n",
              "      <td>15.0</td>\n",
              "      <td>0.0</td>\n",
              "      <td>15.0</td>\n",
              "      <td>1.0</td>\n",
              "      <td>974.500000</td>\n",
              "      <td>15.5</td>\n",
              "      <td>283.500000</td>\n",
              "      <td>132.400</td>\n",
              "      <td>2.788659e+06</td>\n",
              "      <td>2.148198e+10</td>\n",
              "      <td>2.788659e+06</td>\n",
              "      <td>2.148198e+10</td>\n",
              "      <td>2.552903e+06</td>\n",
              "      <td>1.948346e+10</td>\n",
              "      <td>10.175534</td>\n",
              "      <td>20200.0</td>\n",
              "      <td>NAm</td>\n",
              "      <td>TS</td>\n",
              "      <td>main</td>\n",
              "    </tr>\n",
              "    <tr>\n",
              "      <th>1951337N09150</th>\n",
              "      <td>15.0</td>\n",
              "      <td>0.0</td>\n",
              "      <td>15.0</td>\n",
              "      <td>2.0</td>\n",
              "      <td>979.549020</td>\n",
              "      <td>3.0</td>\n",
              "      <td>161.647059</td>\n",
              "      <td>119.200</td>\n",
              "      <td>2.046483e+07</td>\n",
              "      <td>1.880275e+11</td>\n",
              "      <td>1.267591e+07</td>\n",
              "      <td>1.131051e+11</td>\n",
              "      <td>5.618193e+06</td>\n",
              "      <td>4.897333e+10</td>\n",
              "      <td>10.175534</td>\n",
              "      <td>60000.0</td>\n",
              "      <td>WP</td>\n",
              "      <td>TS</td>\n",
              "      <td>main</td>\n",
              "    </tr>\n",
              "    <tr>\n",
              "      <th>1952180N05144</th>\n",
              "      <td>3.0</td>\n",
              "      <td>2.0</td>\n",
              "      <td>1.0</td>\n",
              "      <td>1.0</td>\n",
              "      <td>980.600000</td>\n",
              "      <td>10.8</td>\n",
              "      <td>291.400000</td>\n",
              "      <td>110.691</td>\n",
              "      <td>2.675016e+07</td>\n",
              "      <td>6.284626e+11</td>\n",
              "      <td>7.852587e+06</td>\n",
              "      <td>8.304139e+10</td>\n",
              "      <td>3.523097e+06</td>\n",
              "      <td>3.931635e+10</td>\n",
              "      <td>10.410354</td>\n",
              "      <td>103.0</td>\n",
              "      <td>WP</td>\n",
              "      <td>TS</td>\n",
              "      <td>main</td>\n",
              "    </tr>\n",
              "  </tbody>\n",
              "</table>\n",
              "</div>"
            ],
            "text/plain": [
              "               TOTAL_HRS  DAY_HRS  NIGHT_HRS  ...  SUBBASIN  NATURE  TRACK_TYPE\n",
              "SID                                           ...                              \n",
              "1949163N07145        0.0      0.0        0.0  ...        WP      TS        main\n",
              "1950241N23140        6.0      0.0        6.0  ...        WP      ET        main\n",
              "1951224N12316       15.0      0.0       15.0  ...       NAm      TS        main\n",
              "1951337N09150       15.0      0.0       15.0  ...        WP      TS        main\n",
              "1952180N05144        3.0      2.0        1.0  ...        WP      TS        main\n",
              "\n",
              "[5 rows x 19 columns]"
            ]
          },
          "metadata": {
            "tags": []
          },
          "execution_count": 31
        }
      ]
    },
    {
      "cell_type": "code",
      "metadata": {
        "id": "6qiOkjLe3HU5",
        "colab_type": "code",
        "outputId": "9e830a62-8741-43f3-a162-f5019f876fe4",
        "colab": {
          "base_uri": "https://localhost:8080/",
          "height": 272
        }
      },
      "source": [
        "col_order=['TOTAL_HRS', 'DAY_HRS', 'NIGHT_HRS', 'USA_SSHS', 'PRES_CALC_MEAN',\n",
        "       'STORM_SPD_MEAN', 'STORM_DR_MEAN', 'V_LAND_KN', '34KN_POP',\n",
        "       '34KN_ASSETS', '64KN_POP', '64KN_ASSETS', '96KN_POP', '96KN_ASSETS',\n",
        "       'CPI', 'SUBBASIN', 'NATURE', 'TRACK_TYPE','Total Affected']\n",
        "df_imputed=df_imputed.reindex(columns=col_order)\n",
        "df_imputed.head()"
      ],
      "execution_count": 0,
      "outputs": [
        {
          "output_type": "execute_result",
          "data": {
            "text/html": [
              "<div>\n",
              "<style scoped>\n",
              "    .dataframe tbody tr th:only-of-type {\n",
              "        vertical-align: middle;\n",
              "    }\n",
              "\n",
              "    .dataframe tbody tr th {\n",
              "        vertical-align: top;\n",
              "    }\n",
              "\n",
              "    .dataframe thead th {\n",
              "        text-align: right;\n",
              "    }\n",
              "</style>\n",
              "<table border=\"1\" class=\"dataframe\">\n",
              "  <thead>\n",
              "    <tr style=\"text-align: right;\">\n",
              "      <th></th>\n",
              "      <th>TOTAL_HRS</th>\n",
              "      <th>DAY_HRS</th>\n",
              "      <th>NIGHT_HRS</th>\n",
              "      <th>USA_SSHS</th>\n",
              "      <th>PRES_CALC_MEAN</th>\n",
              "      <th>STORM_SPD_MEAN</th>\n",
              "      <th>STORM_DR_MEAN</th>\n",
              "      <th>V_LAND_KN</th>\n",
              "      <th>34KN_POP</th>\n",
              "      <th>34KN_ASSETS</th>\n",
              "      <th>64KN_POP</th>\n",
              "      <th>64KN_ASSETS</th>\n",
              "      <th>96KN_POP</th>\n",
              "      <th>96KN_ASSETS</th>\n",
              "      <th>CPI</th>\n",
              "      <th>SUBBASIN</th>\n",
              "      <th>NATURE</th>\n",
              "      <th>TRACK_TYPE</th>\n",
              "      <th>Total Affected</th>\n",
              "    </tr>\n",
              "    <tr>\n",
              "      <th>SID</th>\n",
              "      <th></th>\n",
              "      <th></th>\n",
              "      <th></th>\n",
              "      <th></th>\n",
              "      <th></th>\n",
              "      <th></th>\n",
              "      <th></th>\n",
              "      <th></th>\n",
              "      <th></th>\n",
              "      <th></th>\n",
              "      <th></th>\n",
              "      <th></th>\n",
              "      <th></th>\n",
              "      <th></th>\n",
              "      <th></th>\n",
              "      <th></th>\n",
              "      <th></th>\n",
              "      <th></th>\n",
              "      <th></th>\n",
              "    </tr>\n",
              "  </thead>\n",
              "  <tbody>\n",
              "    <tr>\n",
              "      <th>1949163N07145</th>\n",
              "      <td>0.0</td>\n",
              "      <td>0.0</td>\n",
              "      <td>0.0</td>\n",
              "      <td>0.0</td>\n",
              "      <td>1000.333333</td>\n",
              "      <td>19.0</td>\n",
              "      <td>91.444444</td>\n",
              "      <td>99.820</td>\n",
              "      <td>3.335709e+07</td>\n",
              "      <td>3.652050e+12</td>\n",
              "      <td>9.825829e+06</td>\n",
              "      <td>1.308496e+12</td>\n",
              "      <td>8.117263e+05</td>\n",
              "      <td>1.196911e+11</td>\n",
              "      <td>9.327572</td>\n",
              "      <td>WP</td>\n",
              "      <td>TS</td>\n",
              "      <td>main</td>\n",
              "      <td>194046.0</td>\n",
              "    </tr>\n",
              "    <tr>\n",
              "      <th>1950241N23140</th>\n",
              "      <td>6.0</td>\n",
              "      <td>0.0</td>\n",
              "      <td>6.0</td>\n",
              "      <td>-1.0</td>\n",
              "      <td>974.833333</td>\n",
              "      <td>23.0</td>\n",
              "      <td>37.666667</td>\n",
              "      <td>99.820</td>\n",
              "      <td>1.517600e+07</td>\n",
              "      <td>1.296460e+12</td>\n",
              "      <td>5.578279e+06</td>\n",
              "      <td>6.064228e+11</td>\n",
              "      <td>1.815180e+05</td>\n",
              "      <td>1.687883e+09</td>\n",
              "      <td>9.431937</td>\n",
              "      <td>WP</td>\n",
              "      <td>ET</td>\n",
              "      <td>main</td>\n",
              "      <td>642117.0</td>\n",
              "    </tr>\n",
              "    <tr>\n",
              "      <th>1951224N12316</th>\n",
              "      <td>15.0</td>\n",
              "      <td>0.0</td>\n",
              "      <td>15.0</td>\n",
              "      <td>1.0</td>\n",
              "      <td>974.500000</td>\n",
              "      <td>15.5</td>\n",
              "      <td>283.500000</td>\n",
              "      <td>132.400</td>\n",
              "      <td>2.788659e+06</td>\n",
              "      <td>2.148198e+10</td>\n",
              "      <td>2.788659e+06</td>\n",
              "      <td>2.148198e+10</td>\n",
              "      <td>2.552903e+06</td>\n",
              "      <td>1.948346e+10</td>\n",
              "      <td>10.175534</td>\n",
              "      <td>NAm</td>\n",
              "      <td>TS</td>\n",
              "      <td>main</td>\n",
              "      <td>20200.0</td>\n",
              "    </tr>\n",
              "    <tr>\n",
              "      <th>1951337N09150</th>\n",
              "      <td>15.0</td>\n",
              "      <td>0.0</td>\n",
              "      <td>15.0</td>\n",
              "      <td>2.0</td>\n",
              "      <td>979.549020</td>\n",
              "      <td>3.0</td>\n",
              "      <td>161.647059</td>\n",
              "      <td>119.200</td>\n",
              "      <td>2.046483e+07</td>\n",
              "      <td>1.880275e+11</td>\n",
              "      <td>1.267591e+07</td>\n",
              "      <td>1.131051e+11</td>\n",
              "      <td>5.618193e+06</td>\n",
              "      <td>4.897333e+10</td>\n",
              "      <td>10.175534</td>\n",
              "      <td>WP</td>\n",
              "      <td>TS</td>\n",
              "      <td>main</td>\n",
              "      <td>60000.0</td>\n",
              "    </tr>\n",
              "    <tr>\n",
              "      <th>1952180N05144</th>\n",
              "      <td>3.0</td>\n",
              "      <td>2.0</td>\n",
              "      <td>1.0</td>\n",
              "      <td>1.0</td>\n",
              "      <td>980.600000</td>\n",
              "      <td>10.8</td>\n",
              "      <td>291.400000</td>\n",
              "      <td>110.691</td>\n",
              "      <td>2.675016e+07</td>\n",
              "      <td>6.284626e+11</td>\n",
              "      <td>7.852587e+06</td>\n",
              "      <td>8.304139e+10</td>\n",
              "      <td>3.523097e+06</td>\n",
              "      <td>3.931635e+10</td>\n",
              "      <td>10.410354</td>\n",
              "      <td>WP</td>\n",
              "      <td>TS</td>\n",
              "      <td>main</td>\n",
              "      <td>103.0</td>\n",
              "    </tr>\n",
              "  </tbody>\n",
              "</table>\n",
              "</div>"
            ],
            "text/plain": [
              "               TOTAL_HRS  DAY_HRS  NIGHT_HRS  ...  NATURE  TRACK_TYPE  Total Affected\n",
              "SID                                           ...                                    \n",
              "1949163N07145        0.0      0.0        0.0  ...      TS        main        194046.0\n",
              "1950241N23140        6.0      0.0        6.0  ...      ET        main        642117.0\n",
              "1951224N12316       15.0      0.0       15.0  ...      TS        main         20200.0\n",
              "1951337N09150       15.0      0.0       15.0  ...      TS        main         60000.0\n",
              "1952180N05144        3.0      2.0        1.0  ...      TS        main           103.0\n",
              "\n",
              "[5 rows x 19 columns]"
            ]
          },
          "metadata": {
            "tags": []
          },
          "execution_count": 34
        }
      ]
    },
    {
      "cell_type": "code",
      "metadata": {
        "id": "F7pvqffR4r1F",
        "colab_type": "code",
        "outputId": "d466ad7b-3071-43fe-a15a-1e30fde19d2c",
        "colab": {
          "base_uri": "https://localhost:8080/",
          "height": 380
        }
      },
      "source": [
        "plt.hist(df_imputed['Total Affected'])"
      ],
      "execution_count": 0,
      "outputs": [
        {
          "output_type": "execute_result",
          "data": {
            "text/plain": [
              "(array([1.01e+03, 3.30e+01, 9.00e+00, 8.00e+00, 1.00e+00, 4.00e+00,\n",
              "        2.00e+00, 0.00e+00, 0.00e+00, 1.00e+00]),\n",
              " array([2.00000000e+00, 2.96220180e+06, 5.92440160e+06, 8.88660140e+06,\n",
              "        1.18488012e+07, 1.48110010e+07, 1.77732008e+07, 2.07354006e+07,\n",
              "        2.36976004e+07, 2.66598002e+07, 2.96220000e+07]),\n",
              " <a list of 10 Patch objects>)"
            ]
          },
          "metadata": {
            "tags": []
          },
          "execution_count": 37
        },
        {
          "output_type": "display_data",
          "data": {
            "image/png": "[encoded data removed]",
            "text/plain": [
              "<Figure size 432x288 with 1 Axes>"
            ]
          },
          "metadata": {
            "tags": [],
            "needs_background": "light"
          }
        }
      ]
    },
    {
      "cell_type": "code",
      "metadata": {
        "id": "I6hIUK9J7S3E",
        "colab_type": "code",
        "outputId": "28af6b78-022a-4a23-eef7-5fed881d6d52",
        "colab": {
          "base_uri": "https://localhost:8080/",
          "height": 170
        }
      },
      "source": [
        "df_imputed['Total Affected'].describe()"
      ],
      "execution_count": 0,
      "outputs": [
        {
          "output_type": "execute_result",
          "data": {
            "text/plain": [
              "count    1.068000e+03\n",
              "mean     6.176084e+05\n",
              "std      2.050822e+06\n",
              "min      2.000000e+00\n",
              "25%      3.130500e+03\n",
              "50%      3.037550e+04\n",
              "75%      2.710000e+05\n",
              "max      2.962200e+07\n",
              "Name: Total Affected, dtype: float64"
            ]
          },
          "metadata": {
            "tags": []
          },
          "execution_count": 39
        }
      ]
    },
    {
      "cell_type": "code",
      "metadata": {
        "id": "9bxpRUOR-k8g",
        "colab_type": "code",
        "outputId": "8bdc3298-b982-400d-9899-ed130264ec8c",
        "colab": {
          "base_uri": "https://localhost:8080/",
          "height": 412
        }
      },
      "source": [
        "plt.boxplot(df_imputed['Total Affected'])"
      ],
      "execution_count": 0,
      "outputs": [
        {
          "output_type": "execute_result",
          "data": {
            "text/plain": [
              "{'boxes': [<matplotlib.lines.Line2D at 0x7fb1a8239e80>],\n",
              " 'caps': [<matplotlib.lines.Line2D at 0x7fb1a824a8d0>,\n",
              "  <matplotlib.lines.Line2D at 0x7fb1a824ac50>],\n",
              " 'fliers': [<matplotlib.lines.Line2D at 0x7fb1a8253390>],\n",
              " 'means': [],\n",
              " 'medians': [<matplotlib.lines.Line2D at 0x7fb1a824afd0>],\n",
              " 'whiskers': [<matplotlib.lines.Line2D at 0x7fb1a824a1d0>,\n",
              "  <matplotlib.lines.Line2D at 0x7fb1a824a550>]}"
            ]
          },
          "metadata": {
            "tags": []
          },
          "execution_count": 40
        },
        {
          "output_type": "display_data",
          "data": {
            "image/png": "[encoded data removed]",
            "text/plain": [
              "<Figure size 432x288 with 1 Axes>"
            ]
          },
          "metadata": {
            "tags": [],
            "needs_background": "light"
          }
        }
      ]
    },
    {
      "cell_type": "code",
      "metadata": {
        "id": "Y1a3kwBIDkUa",
        "colab_type": "code",
        "colab": {
          "base_uri": "https://localhost:8080/",
          "height": 401
        },
        "outputId": "2103ff31-0d8e-4959-f32e-61f3f57d1288"
      },
      "source": [
        "pop=df_imputed['Total Affected'].values\n",
        "plt.boxplot(np.log(pop))"
      ],
      "execution_count": 60,
      "outputs": [
        {
          "output_type": "execute_result",
          "data": {
            "text/plain": [
              "{'boxes': [<matplotlib.lines.Line2D at 0x7fb1a81e3ef0>],\n",
              " 'caps': [<matplotlib.lines.Line2D at 0x7fb1a7b0f4a8>,\n",
              "  <matplotlib.lines.Line2D at 0x7fb1a7b0f828>],\n",
              " 'fliers': [<matplotlib.lines.Line2D at 0x7fb1a7b0ff28>],\n",
              " 'means': [],\n",
              " 'medians': [<matplotlib.lines.Line2D at 0x7fb1a7b0fba8>],\n",
              " 'whiskers': [<matplotlib.lines.Line2D at 0x7fb1a81e39b0>,\n",
              "  <matplotlib.lines.Line2D at 0x7fb1a81e3f98>]}"
            ]
          },
          "metadata": {
            "tags": []
          },
          "execution_count": 60
        },
        {
          "output_type": "display_data",
          "data": {
            "image/png": "[encoded data removed]",
            "text/plain": [
              "<Figure size 432x288 with 1 Axes>"
            ]
          },
          "metadata": {
            "tags": [],
            "needs_background": "light"
          }
        }
      ]
    },
    {
      "cell_type": "code",
      "metadata": {
        "id": "wvxdCl_gIBTO",
        "colab_type": "code",
        "colab": {
          "base_uri": "https://localhost:8080/",
          "height": 401
        },
        "outputId": "b8422afc-9a36-49d3-f3d9-7bc9dbb41cf2"
      },
      "source": [
        "df_imputed['log_pop']=df_imputed['Total Affected'].apply(lambda x:np.log(x))\n",
        "plt.boxplot(df_imputed['log_pop'].values)"
      ],
      "execution_count": 64,
      "outputs": [
        {
          "output_type": "execute_result",
          "data": {
            "text/plain": [
              "{'boxes': [<matplotlib.lines.Line2D at 0x7fb1a7a5f860>],\n",
              " 'caps': [<matplotlib.lines.Line2D at 0x7fb1a7a6c2b0>,\n",
              "  <matplotlib.lines.Line2D at 0x7fb1a7a6c630>],\n",
              " 'fliers': [<matplotlib.lines.Line2D at 0x7fb1a7a6cd30>],\n",
              " 'means': [],\n",
              " 'medians': [<matplotlib.lines.Line2D at 0x7fb1a7a6c9b0>],\n",
              " 'whiskers': [<matplotlib.lines.Line2D at 0x7fb1a7a5fb70>,\n",
              "  <matplotlib.lines.Line2D at 0x7fb1a7a5fef0>]}"
            ]
          },
          "metadata": {
            "tags": []
          },
          "execution_count": 64
        },
        {
          "output_type": "display_data",
          "data": {
            "image/png": "[encoded data removed]",
            "text/plain": [
              "<Figure size 432x288 with 1 Axes>"
            ]
          },
          "metadata": {
            "tags": [],
            "needs_background": "light"
          }
        }
      ]
    },
    {
      "cell_type": "code",
      "metadata": {
        "id": "7kHHu6fVIpMN",
        "colab_type": "code",
        "colab": {}
      },
      "source": [
        "df_imputed.drop('Total Affected',inplace=True,axis=1)"
      ],
      "execution_count": 0,
      "outputs": []
    },
    {
      "cell_type": "code",
      "metadata": {
        "id": "aTgLSWcFDE02",
        "colab_type": "code",
        "colab": {
          "base_uri": "https://localhost:8080/",
          "height": 265
        },
        "outputId": "122c1956-cb42-4f41-c6f3-01f5de0c4ac4"
      },
      "source": [
        "def ecdf(data):\n",
        "    \"\"\"Compute ECDF for a one-dimensional array of measurements.\"\"\"\n",
        "    # Number of data points: n\n",
        "    n = len(data)\n",
        "\n",
        "    # x-data for the ECDF: x\n",
        "    x = np.sort(data)\n",
        "\n",
        "    # y-data for the ECDF: y\n",
        "    y = np.arange(1, n+1) / n\n",
        "\n",
        "    return x, y\n",
        "\n",
        "# Compute ECDFs\n",
        "x_1, y_1 = ecdf(df_imputed['log_pop'].values)\n",
        "# Plot ECDFs of permutation sample\n",
        "_ = plt.plot(x_1, y_1, marker='.', linestyle='none',color='red', alpha=0.02)"
      ],
      "execution_count": 67,
      "outputs": [
        {
          "output_type": "display_data",
          "data": {
            "image/png": "[encoded data removed]",
            "text/plain": [
              "<Figure size 432x288 with 1 Axes>"
            ]
          },
          "metadata": {
            "tags": [],
            "needs_background": "light"
          }
        }
      ]
    },
    {
      "cell_type": "code",
      "metadata": {
        "id": "pJkB7r9g311M",
        "colab_type": "code",
        "outputId": "ee72ccea-b202-4b8c-e340-7deb26bb8d4a",
        "colab": {
          "base_uri": "https://localhost:8080/",
          "height": 306
        }
      },
      "source": [
        "from sklearn.feature_extraction import DictVectorizer\n",
        "from sklearn.pipeline import Pipeline\n",
        "import xgboost as xgb\n",
        "\n",
        "X=df_imputed.iloc[:,:-1]\n",
        "y=df_imputed.iloc[:,-1]\n",
        "\n",
        "# Setup the pipeline steps: steps\n",
        "steps = [(\"ohe_onestep\", DictVectorizer(sparse=False)),\n",
        "         (\"xgb_model\", xgb.XGBRegressor())]\n",
        "\n",
        "# Create the pipeline: xgb_pipeline\n",
        "xgb_pipeline = Pipeline(steps)\n",
        "\n",
        "# Fit the pipeline\n",
        "xgb_pipeline.fit(X.to_dict(\"records\"), y)"
      ],
      "execution_count": 68,
      "outputs": [
        {
          "output_type": "stream",
          "text": [
            "[00:15:58] WARNING: /workspace/src/objective/regression_obj.cu:152: reg:linear is now deprecated in favor of reg:squarederror.\n"
          ],
          "name": "stdout"
        },
        {
          "output_type": "execute_result",
          "data": {
            "text/plain": [
              "Pipeline(memory=None,\n",
              "         steps=[('ohe_onestep',\n",
              "                 DictVectorizer(dtype=<class 'numpy.float64'>, separator='=',\n",
              "                                sort=True, sparse=False)),\n",
              "                ('xgb_model',\n",
              "                 XGBRegressor(base_score=0.5, booster='gbtree',\n",
              "                              colsample_bylevel=1, colsample_bynode=1,\n",
              "                              colsample_bytree=1, gamma=0,\n",
              "                              importance_type='gain', learning_rate=0.1,\n",
              "                              max_delta_step=0, max_depth=3, min_child_weight=1,\n",
              "                              missing=None, n_estimators=100, n_jobs=1,\n",
              "                              nthread=None, objective='reg:linear',\n",
              "                              random_state=0, reg_alpha=0, reg_lambda=1,\n",
              "                              scale_pos_weight=1, seed=None, silent=None,\n",
              "                              subsample=1, verbosity=1))],\n",
              "         verbose=False)"
            ]
          },
          "metadata": {
            "tags": []
          },
          "execution_count": 68
        }
      ]
    },
    {
      "cell_type": "code",
      "metadata": {
        "id": "jO5AHlEG4QIS",
        "colab_type": "code",
        "outputId": "fd100436-6f79-41b2-9ecf-4c0e596c708e",
        "colab": {
          "base_uri": "https://localhost:8080/",
          "height": 221
        }
      },
      "source": [
        "# Import necessary modules\n",
        "from sklearn.feature_extraction import DictVectorizer\n",
        "from sklearn.pipeline import Pipeline\n",
        "from sklearn.model_selection import cross_val_score\n",
        "# Cross-validate the model\n",
        "cross_val_scores = cross_val_score(xgb_pipeline, X.to_dict(\"records\"), y, cv=5, scoring=\"neg_mean_squared_error\")\n",
        "\n",
        "# Print the 10-fold RMSE\n",
        "print(\"10-fold RMSE: \", np.mean(np.sqrt(np.abs(cross_val_scores))))\n",
        "\n",
        "# Cross-validate the model\n",
        "cross_val_scores = cross_val_score(xgb_pipeline, X.to_dict(\"records\"), y, cv=5, scoring=\"r2\")\n",
        "\n",
        "# Print the 10-fold RMSE\n",
        "print(\"10-fold R^2: \", np.mean(np.sqrt(np.abs(cross_val_scores))))"
      ],
      "execution_count": 73,
      "outputs": [
        {
          "output_type": "stream",
          "text": [
            "[00:21:41] WARNING: /workspace/src/objective/regression_obj.cu:152: reg:linear is now deprecated in favor of reg:squarederror.\n",
            "[00:21:41] WARNING: /workspace/src/objective/regression_obj.cu:152: reg:linear is now deprecated in favor of reg:squarederror.\n",
            "[00:21:41] WARNING: /workspace/src/objective/regression_obj.cu:152: reg:linear is now deprecated in favor of reg:squarederror.\n",
            "[00:21:41] WARNING: /workspace/src/objective/regression_obj.cu:152: reg:linear is now deprecated in favor of reg:squarederror.\n",
            "[00:21:42] WARNING: /workspace/src/objective/regression_obj.cu:152: reg:linear is now deprecated in favor of reg:squarederror.\n",
            "10-fold RMSE:  2.519697994206164\n",
            "[00:21:42] WARNING: /workspace/src/objective/regression_obj.cu:152: reg:linear is now deprecated in favor of reg:squarederror.\n",
            "[00:21:42] WARNING: /workspace/src/objective/regression_obj.cu:152: reg:linear is now deprecated in favor of reg:squarederror.\n",
            "[00:21:42] WARNING: /workspace/src/objective/regression_obj.cu:152: reg:linear is now deprecated in favor of reg:squarederror.\n",
            "[00:21:42] WARNING: /workspace/src/objective/regression_obj.cu:152: reg:linear is now deprecated in favor of reg:squarederror.\n",
            "[00:21:42] WARNING: /workspace/src/objective/regression_obj.cu:152: reg:linear is now deprecated in favor of reg:squarederror.\n",
            "10-fold R^2:  0.5724750986062087\n"
          ],
          "name": "stdout"
        }
      ]
    }
  ]
}