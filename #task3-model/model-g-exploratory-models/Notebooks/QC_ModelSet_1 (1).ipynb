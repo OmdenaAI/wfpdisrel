{
  "nbformat": 4,
  "nbformat_minor": 0,
  "metadata": {
    "kernelspec": {
      "display_name": "Python 3",
      "language": "python",
      "name": "python3"
    },
    "language_info": {
      "codemirror_mode": {
        "name": "ipython",
        "version": 3
      },
      "file_extension": ".py",
      "mimetype": "text/x-python",
      "name": "python",
      "nbconvert_exporter": "python",
      "pygments_lexer": "ipython3",
      "version": "3.7.4"
    },
    "varInspector": {
      "cols": {
        "lenName": 16,
        "lenType": 16,
        "lenVar": 40
      },
      "kernels_config": {
        "python": {
          "delete_cmd_postfix": "",
          "delete_cmd_prefix": "del ",
          "library": "var_list.py",
          "varRefreshCmd": "print(var_dic_list())"
        },
        "r": {
          "delete_cmd_postfix": ") ",
          "delete_cmd_prefix": "rm(",
          "library": "var_list.r",
          "varRefreshCmd": "cat(var_dic_list()) "
        }
      },
      "types_to_exclude": [
        "module",
        "function",
        "builtin_function_or_method",
        "instance",
        "_Feature"
      ],
      "window_display": false
    },
    "colab": {
      "name": "QC_ModelSet-1.ipynb",
      "provenance": []
    }
  },
  "cells": [
    {
      "cell_type": "markdown",
      "metadata": {
        "id": "view-in-github",
        "colab_type": "text"
      },
      "source": [
        "<a href=\"https://colab.research.google.com/github/juberrahman/MachineLearning-and-BigData/blob/master/QC_EvaluatedModel_1.ipynb\" target=\"_parent\"><img src=\"https://colab.research.google.com/assets/colab-badge.svg\" alt=\"Open In Colab\"/></a>"
      ]
    },
    {
      "cell_type": "markdown",
      "metadata": {
        "colab_type": "text",
        "id": "A5YDLpPiYxci"
      },
      "source": [
        "![alt text](https://omdena.com/wp-content/uploads/2019/12/logo-2.png)\n",
        "\n",
        "## Project: <b>AI for Disaster Response: Improving Emergency Management During Cyclones</b>\n",
        "\n",
        "Sponsor: World Food Programme, United Nations\n",
        "\n",
        "<b>Developers</b> :<br> \n",
        "*Juber Rahman, Vamsi Krishna Gutta, Xavier Torres, Devika Bhatia, Anel Nurkayeva, Rosana de Oliveira Gomes, Dev Bharti, Begoña Echavarren, Erick Almaraz, Fabiana Castiblanco, Joseph Itopa Abubakar, Pratibha Gupta, Arnab Saha, Beata, Chinmay Krishnan K C, Francis Onyango, Geethanjali Battula, Grivine Ochieng Otieno, Jeremiah Kamama, Krzysztof Augustowski, Nithima, Raghuram, Rishab Balakrishnan,Rohit Nagotkar, Sijuade Oguntayo, Susanne Brockmann, Tefy lucky rakotomahefa,Thiago Cunha Montenegro, Yousof Mardoukhi*<br>\n",
        "<b>Acknowledgements</b> :<br> \n",
        "*Rudradeb Mitra*, CEO, Omdena<br>\n",
        "*Raghu Nallabotula*, World Food Programme<br>\n",
        "## Problem: Quick disaster response\n",
        "When a disaster strikes, the World Food Programme (WFP), as well as the other humanitarian actors, need to design comprehensive emergency operations. They need to know what to bring and in which quantity.  How many shelters? How many tons of food? These needs assessments are conducted by humanitarian experts, based on the first information collected, their knowledge and their experience.\n",
        "\n",
        "What if we could use past disaster data to help them know what is needed?\n",
        "\n",
        "### Summary of Materials and Methods:\n",
        "\n",
        "* Dataset used: merged dataset version 14 (OUTPUT_WBI_exposer_cyclones_v14.csv)\n",
        "* Data processing : filling missing values, encoding categorical features, dealing skewed distribution\n",
        "* Missing value: KNN Imputer\n",
        "* Hyper-parameter tuning: Grid Search CV\n",
        "* Ensemble Methods: Random Forest, Gradient Boosting Method\n",
        "* Feature Engineering: Log Conversion\n",
        "* No. of actual Predictors: 45\n",
        "* Target: Number of people affected\n",
        "* Validation scheme: 5-fold cross-validation, Test set performance, Unit test performance\n",
        "* Train set (80%), Test set (20%)\n",
        "\n",
        "<b>Models:</b>\n",
        "* Random Forest (RF)\n",
        "* Gradient Boosting Method (GBM)\n",
        "* Support Vector Regression\n",
        "* Voting ensemble of RF and GBM\n",
        "* Stack of Ensembles \n",
        "* Auto ML\n",
        "\n",
        "### Findings and Discussions:\n",
        "* Best performing model: <b>Stack of Ensembles </b>\n",
        "* Performance: RMSLE=2.41 , R-squared value=0.37 \n",
        "* The model is good in predicting the mid-impact cyclones \n",
        "* For low impact cyclones predictions are over-estimated\n",
        "* Overall trend shows a weak but expected trend\n",
        "\n"
      ]
    },
    {
      "cell_type": "code",
      "metadata": {
        "id": "e3HFCaKIERkx",
        "colab_type": "code",
        "outputId": "78f7ef8b-4305-4528-9264-4934c7791acd",
        "colab": {
          "base_uri": "https://localhost:8080/",
          "height": 71
        }
      },
      "source": [
        "import pandas as pd\n",
        "import numpy as np\n",
        "from matplotlib import pyplot as plt\n",
        "%matplotlib inline\n",
        "import seaborn as sns\n",
        "from datetime import datetime\n",
        "import math"
      ],
      "execution_count": 0,
      "outputs": [
        {
          "output_type": "stream",
          "text": [
            "/usr/local/lib/python3.6/dist-packages/statsmodels/tools/_testing.py:19: FutureWarning: pandas.util.testing is deprecated. Use the functions in the public API at pandas.testing instead.\n",
            "  import pandas.util.testing as tm\n"
          ],
          "name": "stderr"
        }
      ]
    },
    {
      "cell_type": "code",
      "metadata": {
        "id": "iEYAVaw8ERlf",
        "colab_type": "code",
        "colab": {}
      },
      "source": [
        "from sklearn.model_selection import cross_val_score, GridSearchCV, RandomizedSearchCV\n",
        "from sklearn.ensemble import RandomForestRegressor\n",
        "from sklearn.preprocessing import MinMaxScaler\n",
        "from sklearn import preprocessing\n",
        "from sklearn.model_selection import train_test_split\n",
        "from sklearn.model_selection import cross_val_score, KFold\n",
        "from sklearn.metrics import mean_squared_error, r2_score\n",
        "from warnings import simplefilter\n",
        "from sklearn.ensemble import GradientBoostingRegressor"
      ],
      "execution_count": 0,
      "outputs": []
    },
    {
      "cell_type": "code",
      "metadata": {
        "id": "DR6AP7pXERmb",
        "colab_type": "code",
        "colab": {}
      },
      "source": [
        "df = pd.read_csv(r'OUTPUT_WBI_exposer_cyclones_v14.csv', sep=\";\")"
      ],
      "execution_count": 0,
      "outputs": []
    },
    {
      "cell_type": "markdown",
      "metadata": {
        "id": "Wt4BLZdlERnC",
        "colab_type": "text"
      },
      "source": [
        "## Data pre-processing"
      ]
    },
    {
      "cell_type": "code",
      "metadata": {
        "id": "tYtdLmUZERnH",
        "colab_type": "code",
        "outputId": "effe7a5c-9d99-4976-f967-0a4f1d98d57b",
        "colab": {
          "base_uri": "https://localhost:8080/",
          "height": 34
        }
      },
      "source": [
        "df.shape"
      ],
      "execution_count": 0,
      "outputs": [
        {
          "output_type": "execute_result",
          "data": {
            "text/plain": [
              "(991, 51)"
            ]
          },
          "metadata": {
            "tags": []
          },
          "execution_count": 4
        }
      ]
    },
    {
      "cell_type": "code",
      "metadata": {
        "id": "qF3eyCnyERn5",
        "colab_type": "code",
        "outputId": "78e210be-7764-4b9b-fdb8-0a3bba6db55b",
        "colab": {
          "base_uri": "https://localhost:8080/",
          "height": 323
        }
      },
      "source": [
        "df.columns"
      ],
      "execution_count": 0,
      "outputs": [
        {
          "output_type": "execute_result",
          "data": {
            "text/plain": [
              "Index(['SID', 'NAME', 'ISO', 'YEAR', 'COORDS', 'COORDS_MAX_WINDS',\n",
              "       'COORDS_MIN_DIST2LAND', 'BASIN', 'SUB BASIN', 'MONTH_START',\n",
              "       'MONTH_END', 'DATE_START', 'DATE_END', 'DATE_LAND_START',\n",
              "       'DATE_LAND_END', 'TOTAL_HOURS_EVENT', 'TOTAL_HOURS_IN_LAND', 'NATURE',\n",
              "       'GENERAL_CATEGORY', 'MAX_WIND', 'MIN_PRES', 'MIN_DIST2LAND',\n",
              "       'MAX_STORMSPEED', 'MAX_USA_SSHS', 'MAX_USA_SSHS_INLAND', 'V_LAND_KN',\n",
              "       'DISTANCE_TRACK', 'DISTANCE_TRACK_VINCENTY', '34KN_POP', '64KN_POP',\n",
              "       '96KN_POP', '64KN_ASSETS', '34KN_ASSETS', '96KN_ASSETS',\n",
              "       'TOTAL_DAMAGE_(000$)', 'TOTAL_DEATHS', 'POP_DEN_SQ_KM', 'RURAL_POP(%)',\n",
              "       'HDI', 'Arable land (hectares per person)',\n",
              "       'Cereal yield (kg per hectare)',\n",
              "       'Food production index (2004-2006 = 100)',\n",
              "       'GDP per capita (constant 2010 US$)', 'Net flows from UN agencies US$',\n",
              "       'Life expectancy at birth, total (years)',\n",
              "       'Adjusted savings: education expenditure (% of GNI)',\n",
              "       'Income_level_Final', 'POP_MAX_34_ADJ', 'POP_MAX_50_ADJ',\n",
              "       'POP_MAX_64_ADJ', 'TOTAL_AFFECTED'],\n",
              "      dtype='object')"
            ]
          },
          "metadata": {
            "tags": []
          },
          "execution_count": 5
        }
      ]
    },
    {
      "cell_type": "code",
      "metadata": {
        "id": "RegFuw1NERoy",
        "colab_type": "code",
        "colab": {}
      },
      "source": [
        "# Arranging columns\n",
        "\n",
        "df = df[[\n",
        "    # cols from cyclones\n",
        "    'SID', 'NAME', 'ISO', 'YEAR', 'COORDS', 'COORDS_MAX_WINDS',\n",
        "       'COORDS_MIN_DIST2LAND', 'BASIN', 'SUB BASIN', 'NATURE', \n",
        "    'MONTH_START',\n",
        "    #'MONTH_END', 'DATE_START', 'DATE_END', 'DATE_LAND_START', 'DATE_LAND_END', \n",
        "    'TOTAL_HOURS_EVENT', 'TOTAL_HOURS_IN_LAND', \n",
        "       'GENERAL_CATEGORY', 'MAX_WIND', 'MIN_PRES', 'MIN_DIST2LAND',\n",
        "       'MAX_STORMSPEED', 'MAX_USA_SSHS', 'MAX_USA_SSHS_INLAND', 'V_LAND_KN',\n",
        "       'DISTANCE_TRACK', 'DISTANCE_TRACK_VINCENTY', '34KN_POP', '64KN_POP',\n",
        "       '96KN_POP', '64KN_ASSETS', '34KN_ASSETS', '96KN_ASSETS',\n",
        "       'TOTAL_DAMAGE_(000$)', 'TOTAL_DEATHS', \n",
        "    \n",
        "\n",
        "    # cols from World Bank Indicators:           \n",
        "    'POP_DEN_SQ_KM', 'RURAL_POP(%)',\n",
        "       'HDI', 'Arable land (hectares per person)',\n",
        "       'Cereal yield (kg per hectare)',\n",
        "       'Food production index (2004-2006 = 100)',\n",
        "       'GDP per capita (constant 2010 US$)', 'Net flows from UN agencies US$',\n",
        "       'Life expectancy at birth, total (years)',\n",
        "       'Adjusted savings: education expenditure (% of GNI)',\n",
        "       'Income_level_Final',\n",
        "    \n",
        "    \n",
        "    # cols from climada:   \n",
        "        'POP_MAX_34_ADJ', 'POP_MAX_50_ADJ','POP_MAX_64_ADJ',\n",
        "    \n",
        "    # Target \n",
        "    'TOTAL_AFFECTED']]"
      ],
      "execution_count": 0,
      "outputs": []
    },
    {
      "cell_type": "code",
      "metadata": {
        "id": "bW83dbYsERpY",
        "colab_type": "code",
        "outputId": "993770be-2fd4-446d-e5ce-efd392879cd1",
        "colab": {
          "base_uri": "https://localhost:8080/",
          "height": 451
        }
      },
      "source": [
        "df.head(3)"
      ],
      "execution_count": 0,
      "outputs": [
        {
          "output_type": "execute_result",
          "data": {
            "text/html": [
              "<div>\n",
              "<style scoped>\n",
              "    .dataframe tbody tr th:only-of-type {\n",
              "        vertical-align: middle;\n",
              "    }\n",
              "\n",
              "    .dataframe tbody tr th {\n",
              "        vertical-align: top;\n",
              "    }\n",
              "\n",
              "    .dataframe thead th {\n",
              "        text-align: right;\n",
              "    }\n",
              "</style>\n",
              "<table border=\"1\" class=\"dataframe\">\n",
              "  <thead>\n",
              "    <tr style=\"text-align: right;\">\n",
              "      <th></th>\n",
              "      <th>SID</th>\n",
              "      <th>NAME</th>\n",
              "      <th>ISO</th>\n",
              "      <th>YEAR</th>\n",
              "      <th>COORDS</th>\n",
              "      <th>COORDS_MAX_WINDS</th>\n",
              "      <th>COORDS_MIN_DIST2LAND</th>\n",
              "      <th>BASIN</th>\n",
              "      <th>SUB BASIN</th>\n",
              "      <th>NATURE</th>\n",
              "      <th>MONTH_START</th>\n",
              "      <th>TOTAL_HOURS_EVENT</th>\n",
              "      <th>TOTAL_HOURS_IN_LAND</th>\n",
              "      <th>GENERAL_CATEGORY</th>\n",
              "      <th>MAX_WIND</th>\n",
              "      <th>MIN_PRES</th>\n",
              "      <th>MIN_DIST2LAND</th>\n",
              "      <th>MAX_STORMSPEED</th>\n",
              "      <th>MAX_USA_SSHS</th>\n",
              "      <th>MAX_USA_SSHS_INLAND</th>\n",
              "      <th>V_LAND_KN</th>\n",
              "      <th>DISTANCE_TRACK</th>\n",
              "      <th>DISTANCE_TRACK_VINCENTY</th>\n",
              "      <th>34KN_POP</th>\n",
              "      <th>64KN_POP</th>\n",
              "      <th>96KN_POP</th>\n",
              "      <th>64KN_ASSETS</th>\n",
              "      <th>34KN_ASSETS</th>\n",
              "      <th>96KN_ASSETS</th>\n",
              "      <th>TOTAL_DAMAGE_(000$)</th>\n",
              "      <th>TOTAL_DEATHS</th>\n",
              "      <th>POP_DEN_SQ_KM</th>\n",
              "      <th>RURAL_POP(%)</th>\n",
              "      <th>HDI</th>\n",
              "      <th>Arable land (hectares per person)</th>\n",
              "      <th>Cereal yield (kg per hectare)</th>\n",
              "      <th>Food production index (2004-2006 = 100)</th>\n",
              "      <th>GDP per capita (constant 2010 US$)</th>\n",
              "      <th>Net flows from UN agencies US$</th>\n",
              "      <th>Life expectancy at birth, total (years)</th>\n",
              "      <th>Adjusted savings: education expenditure (% of GNI)</th>\n",
              "      <th>Income_level_Final</th>\n",
              "      <th>POP_MAX_34_ADJ</th>\n",
              "      <th>POP_MAX_50_ADJ</th>\n",
              "      <th>POP_MAX_64_ADJ</th>\n",
              "      <th>TOTAL_AFFECTED</th>\n",
              "    </tr>\n",
              "  </thead>\n",
              "  <tbody>\n",
              "    <tr>\n",
              "      <th>0</th>\n",
              "      <td>1949163N07145</td>\n",
              "      <td>DELLA</td>\n",
              "      <td>JPN</td>\n",
              "      <td>1949</td>\n",
              "      <td>[(21.5, 125.424), (22.2, 125.8), (22.9089, 126...</td>\n",
              "      <td>[(27.6584, 128.82), (28.9141, 129.572999999999...</td>\n",
              "      <td>[(31.9866, 130.683), (33.5183, 130.97299999999...</td>\n",
              "      <td>WP</td>\n",
              "      <td>WP</td>\n",
              "      <td>TS</td>\n",
              "      <td>6</td>\n",
              "      <td>117.0</td>\n",
              "      <td>60.0</td>\n",
              "      <td>Cat 4</td>\n",
              "      <td>116.0</td>\n",
              "      <td>952</td>\n",
              "      <td>0</td>\n",
              "      <td>33.0</td>\n",
              "      <td>3</td>\n",
              "      <td>0</td>\n",
              "      <td>99.82</td>\n",
              "      <td>3889.480640</td>\n",
              "      <td>3632.626180</td>\n",
              "      <td>NaN</td>\n",
              "      <td>NaN</td>\n",
              "      <td>NaN</td>\n",
              "      <td>NaN</td>\n",
              "      <td>NaN</td>\n",
              "      <td>NaN</td>\n",
              "      <td>NaN</td>\n",
              "      <td>419.0</td>\n",
              "      <td>195.0</td>\n",
              "      <td>77.20</td>\n",
              "      <td>0.816</td>\n",
              "      <td>0.059615</td>\n",
              "      <td>4173.5</td>\n",
              "      <td>67.79</td>\n",
              "      <td>8607.657082</td>\n",
              "      <td>0.0</td>\n",
              "      <td>67.666098</td>\n",
              "      <td>2.867878</td>\n",
              "      <td>Low</td>\n",
              "      <td>1.198300e+07</td>\n",
              "      <td>5.803981e+06</td>\n",
              "      <td>3.320907e+06</td>\n",
              "      <td>194046</td>\n",
              "    </tr>\n",
              "    <tr>\n",
              "      <th>1</th>\n",
              "      <td>1950241N23140</td>\n",
              "      <td>JANE</td>\n",
              "      <td>JPN</td>\n",
              "      <td>1950</td>\n",
              "      <td>[(23.8845, 139.74), (23.9335, 139.639), (23.98...</td>\n",
              "      <td>[(28.7509, 133.748), (29.1201, 133.762), (29.6...</td>\n",
              "      <td>[(34.9374, 135.476), (36.1016, 136.095), (37.2...</td>\n",
              "      <td>WP</td>\n",
              "      <td>WP</td>\n",
              "      <td>ET</td>\n",
              "      <td>8</td>\n",
              "      <td>141.0</td>\n",
              "      <td>21.0</td>\n",
              "      <td>Cat 4</td>\n",
              "      <td>116.0</td>\n",
              "      <td>940</td>\n",
              "      <td>0</td>\n",
              "      <td>31.0</td>\n",
              "      <td>3</td>\n",
              "      <td>1</td>\n",
              "      <td>99.82</td>\n",
              "      <td>3596.090691</td>\n",
              "      <td>2787.480021</td>\n",
              "      <td>NaN</td>\n",
              "      <td>NaN</td>\n",
              "      <td>NaN</td>\n",
              "      <td>NaN</td>\n",
              "      <td>NaN</td>\n",
              "      <td>NaN</td>\n",
              "      <td>NaN</td>\n",
              "      <td>509.0</td>\n",
              "      <td>227.0</td>\n",
              "      <td>47.00</td>\n",
              "      <td>0.816</td>\n",
              "      <td>0.059615</td>\n",
              "      <td>4173.5</td>\n",
              "      <td>67.79</td>\n",
              "      <td>8607.657082</td>\n",
              "      <td>0.0</td>\n",
              "      <td>67.666098</td>\n",
              "      <td>2.867878</td>\n",
              "      <td>Low</td>\n",
              "      <td>3.160822e+07</td>\n",
              "      <td>1.559196e+07</td>\n",
              "      <td>1.018936e+07</td>\n",
              "      <td>642117</td>\n",
              "    </tr>\n",
              "    <tr>\n",
              "      <th>2</th>\n",
              "      <td>1951224N12316</td>\n",
              "      <td>CHARLIE</td>\n",
              "      <td>JAM</td>\n",
              "      <td>1951</td>\n",
              "      <td>[(17.3398, -75.4138), (17.6, -76.2), (17.9, -7...</td>\n",
              "      <td>[(17.6, -76.2), (17.9, -76.9)]</td>\n",
              "      <td>[(17.9, -76.9), (18.1, -77.8)]</td>\n",
              "      <td>NAm</td>\n",
              "      <td>CS</td>\n",
              "      <td>TS</td>\n",
              "      <td>8</td>\n",
              "      <td>15.0</td>\n",
              "      <td>3.0</td>\n",
              "      <td>Cat 3</td>\n",
              "      <td>110.0</td>\n",
              "      <td>0</td>\n",
              "      <td>0</td>\n",
              "      <td>17.0</td>\n",
              "      <td>3</td>\n",
              "      <td>3</td>\n",
              "      <td>132.40</td>\n",
              "      <td>438.214691</td>\n",
              "      <td>435.729082</td>\n",
              "      <td>2788659.0</td>\n",
              "      <td>2788659.0</td>\n",
              "      <td>2552903.0</td>\n",
              "      <td>2.148198e+10</td>\n",
              "      <td>2.148198e+10</td>\n",
              "      <td>1.948346e+10</td>\n",
              "      <td>56000.0</td>\n",
              "      <td>154.0</td>\n",
              "      <td>133.0</td>\n",
              "      <td>66.23</td>\n",
              "      <td>0.668</td>\n",
              "      <td>0.100541</td>\n",
              "      <td>868.3</td>\n",
              "      <td>69.93</td>\n",
              "      <td>3796.219401</td>\n",
              "      <td>0.0</td>\n",
              "      <td>64.770000</td>\n",
              "      <td>2.578304</td>\n",
              "      <td>Low</td>\n",
              "      <td>1.689243e+06</td>\n",
              "      <td>1.687083e+06</td>\n",
              "      <td>1.195052e+06</td>\n",
              "      <td>20200</td>\n",
              "    </tr>\n",
              "  </tbody>\n",
              "</table>\n",
              "</div>"
            ],
            "text/plain": [
              "             SID     NAME  ISO  ...  POP_MAX_50_ADJ POP_MAX_64_ADJ TOTAL_AFFECTED\n",
              "0  1949163N07145    DELLA  JPN  ...    5.803981e+06   3.320907e+06         194046\n",
              "1  1950241N23140     JANE  JPN  ...    1.559196e+07   1.018936e+07         642117\n",
              "2  1951224N12316  CHARLIE  JAM  ...    1.687083e+06   1.195052e+06          20200\n",
              "\n",
              "[3 rows x 46 columns]"
            ]
          },
          "metadata": {
            "tags": []
          },
          "execution_count": 7
        }
      ]
    },
    {
      "cell_type": "markdown",
      "metadata": {
        "id": "_JbhZFN0ERp1",
        "colab_type": "text"
      },
      "source": [
        "- **Checking nulls**"
      ]
    },
    {
      "cell_type": "code",
      "metadata": {
        "id": "u86DcZpqERp2",
        "colab_type": "code",
        "colab": {}
      },
      "source": [
        "# Checking quantity of missing data. Reusing code from Fabi\n",
        "def null_cols(data):\n",
        "\n",
        "    \"\"\"\n",
        "    This function takes a dataframe df and shows the columns of df that have NaN values\n",
        "    and the number of them\n",
        "\n",
        "    \"\"\"\n",
        "    nulls = data.isna().sum()\n",
        "    nulls = nulls[nulls > 0] / len(data) * 100\n",
        "    nulls = pd.DataFrame(nulls.sort_values(ascending = False))\n",
        "    nulls = nulls.reset_index().rename(columns = {\"index\": \"Feature\", 0: \"% Null rows\"})\n",
        "    return nulls"
      ],
      "execution_count": 0,
      "outputs": []
    },
    {
      "cell_type": "code",
      "metadata": {
        "id": "cKdvlWftERqY",
        "colab_type": "code",
        "outputId": "15bb9d92-c0ff-4eb3-8870-5fa6f6449392",
        "colab": {
          "base_uri": "https://localhost:8080/",
          "height": 607
        }
      },
      "source": [
        "null_cols(df)"
      ],
      "execution_count": 0,
      "outputs": [
        {
          "output_type": "execute_result",
          "data": {
            "text/html": [
              "<div>\n",
              "<style scoped>\n",
              "    .dataframe tbody tr th:only-of-type {\n",
              "        vertical-align: middle;\n",
              "    }\n",
              "\n",
              "    .dataframe tbody tr th {\n",
              "        vertical-align: top;\n",
              "    }\n",
              "\n",
              "    .dataframe thead th {\n",
              "        text-align: right;\n",
              "    }\n",
              "</style>\n",
              "<table border=\"1\" class=\"dataframe\">\n",
              "  <thead>\n",
              "    <tr style=\"text-align: right;\">\n",
              "      <th></th>\n",
              "      <th>Feature</th>\n",
              "      <th>% Null rows</th>\n",
              "    </tr>\n",
              "  </thead>\n",
              "  <tbody>\n",
              "    <tr>\n",
              "      <th>0</th>\n",
              "      <td>TOTAL_DAMAGE_(000$)</td>\n",
              "      <td>31.584258</td>\n",
              "    </tr>\n",
              "    <tr>\n",
              "      <th>1</th>\n",
              "      <td>64KN_ASSETS</td>\n",
              "      <td>23.309788</td>\n",
              "    </tr>\n",
              "    <tr>\n",
              "      <th>2</th>\n",
              "      <td>34KN_ASSETS</td>\n",
              "      <td>23.309788</td>\n",
              "    </tr>\n",
              "    <tr>\n",
              "      <th>3</th>\n",
              "      <td>96KN_ASSETS</td>\n",
              "      <td>23.309788</td>\n",
              "    </tr>\n",
              "    <tr>\n",
              "      <th>4</th>\n",
              "      <td>34KN_POP</td>\n",
              "      <td>23.208880</td>\n",
              "    </tr>\n",
              "    <tr>\n",
              "      <th>5</th>\n",
              "      <td>64KN_POP</td>\n",
              "      <td>23.208880</td>\n",
              "    </tr>\n",
              "    <tr>\n",
              "      <th>6</th>\n",
              "      <td>96KN_POP</td>\n",
              "      <td>23.208880</td>\n",
              "    </tr>\n",
              "    <tr>\n",
              "      <th>7</th>\n",
              "      <td>TOTAL_DEATHS</td>\n",
              "      <td>13.118063</td>\n",
              "    </tr>\n",
              "    <tr>\n",
              "      <th>8</th>\n",
              "      <td>POP_MAX_50_ADJ</td>\n",
              "      <td>8.072654</td>\n",
              "    </tr>\n",
              "    <tr>\n",
              "      <th>9</th>\n",
              "      <td>POP_MAX_64_ADJ</td>\n",
              "      <td>8.072654</td>\n",
              "    </tr>\n",
              "    <tr>\n",
              "      <th>10</th>\n",
              "      <td>POP_MAX_34_ADJ</td>\n",
              "      <td>8.072654</td>\n",
              "    </tr>\n",
              "    <tr>\n",
              "      <th>11</th>\n",
              "      <td>Cereal yield (kg per hectare)</td>\n",
              "      <td>1.009082</td>\n",
              "    </tr>\n",
              "    <tr>\n",
              "      <th>12</th>\n",
              "      <td>Adjusted savings: education expenditure (% of ...</td>\n",
              "      <td>1.009082</td>\n",
              "    </tr>\n",
              "    <tr>\n",
              "      <th>13</th>\n",
              "      <td>GDP per capita (constant 2010 US$)</td>\n",
              "      <td>0.908174</td>\n",
              "    </tr>\n",
              "    <tr>\n",
              "      <th>14</th>\n",
              "      <td>Food production index (2004-2006 = 100)</td>\n",
              "      <td>0.403633</td>\n",
              "    </tr>\n",
              "    <tr>\n",
              "      <th>15</th>\n",
              "      <td>Life expectancy at birth, total (years)</td>\n",
              "      <td>0.403633</td>\n",
              "    </tr>\n",
              "    <tr>\n",
              "      <th>16</th>\n",
              "      <td>MAX_STORMSPEED</td>\n",
              "      <td>0.201816</td>\n",
              "    </tr>\n",
              "    <tr>\n",
              "      <th>17</th>\n",
              "      <td>Arable land (hectares per person)</td>\n",
              "      <td>0.100908</td>\n",
              "    </tr>\n",
              "  </tbody>\n",
              "</table>\n",
              "</div>"
            ],
            "text/plain": [
              "                                              Feature  % Null rows\n",
              "0                                 TOTAL_DAMAGE_(000$)    31.584258\n",
              "1                                         64KN_ASSETS    23.309788\n",
              "2                                         34KN_ASSETS    23.309788\n",
              "3                                         96KN_ASSETS    23.309788\n",
              "4                                            34KN_POP    23.208880\n",
              "5                                            64KN_POP    23.208880\n",
              "6                                            96KN_POP    23.208880\n",
              "7                                        TOTAL_DEATHS    13.118063\n",
              "8                                      POP_MAX_50_ADJ     8.072654\n",
              "9                                      POP_MAX_64_ADJ     8.072654\n",
              "10                                     POP_MAX_34_ADJ     8.072654\n",
              "11                      Cereal yield (kg per hectare)     1.009082\n",
              "12  Adjusted savings: education expenditure (% of ...     1.009082\n",
              "13                 GDP per capita (constant 2010 US$)     0.908174\n",
              "14            Food production index (2004-2006 = 100)     0.403633\n",
              "15            Life expectancy at birth, total (years)     0.403633\n",
              "16                                     MAX_STORMSPEED     0.201816\n",
              "17                  Arable land (hectares per person)     0.100908"
            ]
          },
          "metadata": {
            "tags": []
          },
          "execution_count": 9
        }
      ]
    },
    {
      "cell_type": "markdown",
      "metadata": {
        "id": "iKVShBezERqj",
        "colab_type": "text"
      },
      "source": [
        "- **BASIN and SUBBASIN**: 'MM' value means missing, and **USA_SSHS** column with value -5 = Unknown [XX]:"
      ]
    },
    {
      "cell_type": "code",
      "metadata": {
        "id": "SdM3VQ7iERqs",
        "colab_type": "code",
        "colab": {}
      },
      "source": [
        "df[\"SUB BASIN\"]= df[\"SUB BASIN\"].replace('MM', np.nan) \n",
        "df[\"BASIN\"]= df[\"BASIN\"].replace('MM', np.nan) \n",
        "#df[\"USA_SSHS\"]= df[\"USA_SSHS\"].replace(-5, np.nan) "
      ],
      "execution_count": 0,
      "outputs": []
    },
    {
      "cell_type": "markdown",
      "metadata": {
        "id": "2BlIoO5EERrM",
        "colab_type": "text"
      },
      "source": [
        "- As damage in '000 USD is time-money sensitive, we can use the CPI for that data point to calculate **\"Total Damage Adjusted\"** \n",
        "by dividing Total Damage by the CPI. We then drop columns for Damage and CPI.\n",
        "CPI meaning = https://en.wikipedia.org/wiki/Consumer_price_index"
      ]
    },
    {
      "cell_type": "code",
      "metadata": {
        "id": "FnhRWpfiERrP",
        "colab_type": "code",
        "colab": {}
      },
      "source": [
        "#df[\"TOTAL_DAMAGE_(000$)_Adjusted\"]= df[\"TOTAL_DAMAGE_(000$)\"] / df[\"CPI\"]\n",
        "#df[\"TOTAL_DAMAGE_(000$)_Adjusted\"]= df[\"TOTAL_DAMAGE_(000$)_Adjusted\"].replace(0, np.nan)"
      ],
      "execution_count": 0,
      "outputs": []
    },
    {
      "cell_type": "code",
      "metadata": {
        "id": "WEpvkdMIERrq",
        "colab_type": "code",
        "colab": {}
      },
      "source": [
        "#df = df.drop([\"TOTAL_DAMAGE_(000$)\",'CPI'], axis=1)\n",
        "#df[\"TOTAL_DAMAGE_(000$)_Adjusted\"].isna().sum()"
      ],
      "execution_count": 0,
      "outputs": []
    },
    {
      "cell_type": "markdown",
      "metadata": {
        "id": "RPq7PWpqERsB",
        "colab_type": "text"
      },
      "source": [
        "- Trying to create a calculated column that better represents de relative dimension **of exposed assets**. We have several columns for assets exposed depending of windspeed for 34kn+, 64kn+ and 96kn+. Let's add these columns to create a new column:"
      ]
    },
    {
      "cell_type": "code",
      "metadata": {
        "id": "1g3Fruy5ERsD",
        "colab_type": "code",
        "colab": {}
      },
      "source": [
        "df['CALC_assets_emdat'] = df['34KN_ASSETS'] + df['64KN_ASSETS'] + df['96KN_ASSETS']\n",
        "df = df.drop(['34KN_ASSETS', '64KN_ASSETS','96KN_ASSETS'], axis=1)"
      ],
      "execution_count": 0,
      "outputs": []
    },
    {
      "cell_type": "markdown",
      "metadata": {
        "id": "-ugIDKvSERsf",
        "colab_type": "text"
      },
      "source": [
        " - Extracting **month of cyclone**"
      ]
    },
    {
      "cell_type": "code",
      "metadata": {
        "id": "0KN7Qbl5ERsh",
        "colab_type": "code",
        "colab": {}
      },
      "source": [
        "#df['MONTH'] = df.ISO_TIME.apply(lambda x: x[7:9]).astype(int)"
      ],
      "execution_count": 0,
      "outputs": []
    },
    {
      "cell_type": "markdown",
      "metadata": {
        "id": "JzSBLfyrERsr",
        "colab_type": "text"
      },
      "source": [
        "- **Transform 'Income_Level'** categories to ordered integers and **YEAR, BASIN, SUB BASIN and USA_SSHS** into Category Type"
      ]
    },
    {
      "cell_type": "code",
      "metadata": {
        "id": "_dTY2-38ERsu",
        "colab_type": "code",
        "colab": {}
      },
      "source": [
        "#Arnab code\n",
        "unique_list = df['Income_level_Final'].unique()\n",
        "incomelevel_to_int = dict(zip(unique_list, [1,2,4,3])) # so we assign['Low' =1, 'Low_Middle' =2, 'High'=4, 'High_Middle'=3]\n",
        "df['Income_level_Final'] = df['Income_level_Final'].apply(lambda inc_level: incomelevel_to_int[inc_level])"
      ],
      "execution_count": 0,
      "outputs": []
    },
    {
      "cell_type": "code",
      "metadata": {
        "id": "d6ciWGOTERs4",
        "colab_type": "code",
        "colab": {}
      },
      "source": [
        "df['YEAR'] = df['YEAR'].astype('category')\n",
        "df['BASIN'] = df['BASIN'].astype('category')\n",
        "df['SUB BASIN'] = df['SUB BASIN'].astype('category')\n",
        "df['NATURE'] = df['NATURE'].astype('category')\n",
        "df['GENERAL_CATEGORY'] = df['GENERAL_CATEGORY'].astype('category')\n",
        "df['MAX_USA_SSHS']= df['MAX_USA_SSHS'].astype('category')"
      ],
      "execution_count": 0,
      "outputs": []
    },
    {
      "cell_type": "markdown",
      "metadata": {
        "id": "8tWmzuRpERtX",
        "colab_type": "text"
      },
      "source": [
        "- **Create New Column fro 'No Landing'**"
      ]
    },
    {
      "cell_type": "code",
      "metadata": {
        "id": "v56zFbbbERtb",
        "colab_type": "code",
        "colab": {}
      },
      "source": [
        "df['Landing'] = np.where(df['MAX_USA_SSHS_INLAND'] == 'No landing', 0, 1)"
      ],
      "execution_count": 0,
      "outputs": []
    },
    {
      "cell_type": "code",
      "metadata": {
        "id": "tGoRU-niERtn",
        "colab_type": "code",
        "colab": {}
      },
      "source": [
        "#assign np.nan to columns with 'No landing'  value\n",
        "#df[\"DATE_LAND_START\"]= df[\"DATE_LAND_START\"].replace('No landing', np.nan) \n",
        "#df[\"DATE_LAND_END\"]= df[\"DATE_LAND_END\"].replace('No landing', np.nan) \n",
        "df[\"MAX_USA_SSHS_INLAND\"]= df[\"MAX_USA_SSHS_INLAND\"].replace('No landing', np.nan) "
      ],
      "execution_count": 0,
      "outputs": []
    },
    {
      "cell_type": "markdown",
      "metadata": {
        "id": "KgPH8znzERt3",
        "colab_type": "text"
      },
      "source": [
        "- **Arranging columns**"
      ]
    },
    {
      "cell_type": "code",
      "metadata": {
        "id": "8y38HI2TERt9",
        "colab_type": "code",
        "outputId": "287a06df-fd4a-4886-d7db-4f306f6c34e6",
        "colab": {
          "base_uri": "https://localhost:8080/",
          "height": 34
        }
      },
      "source": [
        "df.shape"
      ],
      "execution_count": 0,
      "outputs": [
        {
          "output_type": "execute_result",
          "data": {
            "text/plain": [
              "(991, 45)"
            ]
          },
          "metadata": {
            "tags": []
          },
          "execution_count": 19
        }
      ]
    },
    {
      "cell_type": "code",
      "metadata": {
        "id": "i1rN_jc5ERuH",
        "colab_type": "code",
        "outputId": "e7af0524-6aef-4a84-9afc-46eccd45e9d0",
        "colab": {
          "base_uri": "https://localhost:8080/",
          "height": 901
        }
      },
      "source": [
        "df.info()"
      ],
      "execution_count": 0,
      "outputs": [
        {
          "output_type": "stream",
          "text": [
            "<class 'pandas.core.frame.DataFrame'>\n",
            "RangeIndex: 991 entries, 0 to 990\n",
            "Data columns (total 45 columns):\n",
            " #   Column                                              Non-Null Count  Dtype   \n",
            "---  ------                                              --------------  -----   \n",
            " 0   SID                                                 991 non-null    object  \n",
            " 1   NAME                                                991 non-null    object  \n",
            " 2   ISO                                                 991 non-null    object  \n",
            " 3   YEAR                                                991 non-null    category\n",
            " 4   COORDS                                              991 non-null    object  \n",
            " 5   COORDS_MAX_WINDS                                    991 non-null    object  \n",
            " 6   COORDS_MIN_DIST2LAND                                991 non-null    object  \n",
            " 7   BASIN                                               991 non-null    category\n",
            " 8   SUB BASIN                                           991 non-null    category\n",
            " 9   NATURE                                              991 non-null    category\n",
            " 10  MONTH_START                                         991 non-null    int64   \n",
            " 11  TOTAL_HOURS_EVENT                                   991 non-null    float64 \n",
            " 12  TOTAL_HOURS_IN_LAND                                 991 non-null    float64 \n",
            " 13  GENERAL_CATEGORY                                    991 non-null    category\n",
            " 14  MAX_WIND                                            991 non-null    float64 \n",
            " 15  MIN_PRES                                            991 non-null    int64   \n",
            " 16  MIN_DIST2LAND                                       991 non-null    int64   \n",
            " 17  MAX_STORMSPEED                                      989 non-null    float64 \n",
            " 18  MAX_USA_SSHS                                        991 non-null    category\n",
            " 19  MAX_USA_SSHS_INLAND                                 773 non-null    object  \n",
            " 20  V_LAND_KN                                           991 non-null    float64 \n",
            " 21  DISTANCE_TRACK                                      991 non-null    float64 \n",
            " 22  DISTANCE_TRACK_VINCENTY                             991 non-null    float64 \n",
            " 23  34KN_POP                                            761 non-null    float64 \n",
            " 24  64KN_POP                                            761 non-null    float64 \n",
            " 25  96KN_POP                                            761 non-null    float64 \n",
            " 26  TOTAL_DAMAGE_(000$)                                 678 non-null    float64 \n",
            " 27  TOTAL_DEATHS                                        861 non-null    float64 \n",
            " 28  POP_DEN_SQ_KM                                       991 non-null    float64 \n",
            " 29  RURAL_POP(%)                                        991 non-null    float64 \n",
            " 30  HDI                                                 991 non-null    float64 \n",
            " 31  Arable land (hectares per person)                   990 non-null    float64 \n",
            " 32  Cereal yield (kg per hectare)                       981 non-null    float64 \n",
            " 33  Food production index (2004-2006 = 100)             987 non-null    float64 \n",
            " 34  GDP per capita (constant 2010 US$)                  982 non-null    float64 \n",
            " 35  Net flows from UN agencies US$                      991 non-null    float64 \n",
            " 36  Life expectancy at birth, total (years)             987 non-null    float64 \n",
            " 37  Adjusted savings: education expenditure (% of GNI)  981 non-null    float64 \n",
            " 38  Income_level_Final                                  991 non-null    int64   \n",
            " 39  POP_MAX_34_ADJ                                      911 non-null    float64 \n",
            " 40  POP_MAX_50_ADJ                                      911 non-null    float64 \n",
            " 41  POP_MAX_64_ADJ                                      911 non-null    float64 \n",
            " 42  TOTAL_AFFECTED                                      991 non-null    int64   \n",
            " 43  CALC_assets_emdat                                   760 non-null    float64 \n",
            " 44  Landing                                             991 non-null    int64   \n",
            "dtypes: category(6), float64(26), int64(6), object(7)\n",
            "memory usage: 312.5+ KB\n"
          ],
          "name": "stdout"
        }
      ]
    },
    {
      "cell_type": "code",
      "metadata": {
        "id": "ssQALqRrERun",
        "colab_type": "code",
        "colab": {}
      },
      "source": [
        "df[\"MAX_USA_SSHS_INLAND\"] = df['MAX_USA_SSHS_INLAND'].astype(float)"
      ],
      "execution_count": 0,
      "outputs": []
    },
    {
      "cell_type": "code",
      "metadata": {
        "id": "pUGtwZjYERu_",
        "colab_type": "code",
        "outputId": "dc91daf7-ee89-416e-a848-198b343927b8",
        "colab": {
          "base_uri": "https://localhost:8080/",
          "height": 170
        }
      },
      "source": [
        "df[\"MAX_USA_SSHS_INLAND\"].describe()"
      ],
      "execution_count": 0,
      "outputs": [
        {
          "output_type": "execute_result",
          "data": {
            "text/plain": [
              "count    773.000000\n",
              "mean       0.815006\n",
              "std        1.620204\n",
              "min       -6.000000\n",
              "25%        0.000000\n",
              "50%        0.000000\n",
              "75%        2.000000\n",
              "max        5.000000\n",
              "Name: MAX_USA_SSHS_INLAND, dtype: float64"
            ]
          },
          "metadata": {
            "tags": []
          },
          "execution_count": 13
        }
      ]
    },
    {
      "cell_type": "code",
      "metadata": {
        "id": "Q0jsZ8t3ERvV",
        "colab_type": "code",
        "outputId": "55d7d29f-f7c0-4d03-d159-94bbea4ee17f",
        "colab": {
          "base_uri": "https://localhost:8080/",
          "height": 34
        }
      },
      "source": [
        "df.shape"
      ],
      "execution_count": 0,
      "outputs": [
        {
          "output_type": "execute_result",
          "data": {
            "text/plain": [
              "(991, 45)"
            ]
          },
          "metadata": {
            "tags": []
          },
          "execution_count": 23
        }
      ]
    },
    {
      "cell_type": "code",
      "metadata": {
        "scrolled": false,
        "id": "gYWsrB6YERvf",
        "colab_type": "code",
        "outputId": "1c6e2b6b-e0ef-4c8c-8d0d-ad3c4c39f8e6",
        "colab": {
          "base_uri": "https://localhost:8080/",
          "height": 289
        }
      },
      "source": [
        "df.columns"
      ],
      "execution_count": 0,
      "outputs": [
        {
          "output_type": "execute_result",
          "data": {
            "text/plain": [
              "Index(['SID', 'NAME', 'ISO', 'YEAR', 'COORDS', 'COORDS_MAX_WINDS',\n",
              "       'COORDS_MIN_DIST2LAND', 'BASIN', 'SUB BASIN', 'NATURE', 'MONTH_START',\n",
              "       'TOTAL_HOURS_EVENT', 'TOTAL_HOURS_IN_LAND', 'GENERAL_CATEGORY',\n",
              "       'MAX_WIND', 'MIN_PRES', 'MIN_DIST2LAND', 'MAX_STORMSPEED',\n",
              "       'MAX_USA_SSHS', 'MAX_USA_SSHS_INLAND', 'V_LAND_KN', 'DISTANCE_TRACK',\n",
              "       'DISTANCE_TRACK_VINCENTY', '34KN_POP', '64KN_POP', '96KN_POP',\n",
              "       'TOTAL_DAMAGE_(000$)', 'TOTAL_DEATHS', 'POP_DEN_SQ_KM', 'RURAL_POP(%)',\n",
              "       'HDI', 'Arable land (hectares per person)',\n",
              "       'Cereal yield (kg per hectare)',\n",
              "       'Food production index (2004-2006 = 100)',\n",
              "       'GDP per capita (constant 2010 US$)', 'Net flows from UN agencies US$',\n",
              "       'Life expectancy at birth, total (years)',\n",
              "       'Adjusted savings: education expenditure (% of GNI)',\n",
              "       'Income_level_Final', 'POP_MAX_34_ADJ', 'POP_MAX_50_ADJ',\n",
              "       'POP_MAX_64_ADJ', 'TOTAL_AFFECTED', 'CALC_assets_emdat', 'Landing'],\n",
              "      dtype='object')"
            ]
          },
          "metadata": {
            "tags": []
          },
          "execution_count": 24
        }
      ]
    },
    {
      "cell_type": "code",
      "metadata": {
        "id": "mA5fd6PWERv5",
        "colab_type": "code",
        "colab": {}
      },
      "source": [
        "#taking out from model=    'SID', 'NAME', 'ISO', 'YEAR', 'COORDS', 'COORDS_MAX_WINDS','COORDS_MIN_DIST2LAND', \n",
        "# Arranging columns\n",
        "\n",
        "df = df[[\n",
        "    # cols from cyclones\n",
        "    'BASIN', 'SUB BASIN', 'NATURE', 'MONTH_START',\n",
        "       'TOTAL_HOURS_EVENT', 'TOTAL_HOURS_IN_LAND', 'GENERAL_CATEGORY',\n",
        "       'MAX_WIND', 'MIN_PRES', 'MIN_DIST2LAND', 'MAX_STORMSPEED',\n",
        "       'MAX_USA_SSHS', 'MAX_USA_SSHS_INLAND', 'V_LAND_KN', 'DISTANCE_TRACK',\n",
        "       'DISTANCE_TRACK_VINCENTY', '34KN_POP', '64KN_POP', '96KN_POP',\n",
        "       'TOTAL_DAMAGE_(000$)', 'CALC_assets_emdat', 'Landing', \n",
        "    'TOTAL_DEATHS',\n",
        "    \n",
        "\n",
        "    # cols from World Bank Indicators:           \n",
        "    'POP_DEN_SQ_KM', 'RURAL_POP(%)',\n",
        "       'HDI', 'Arable land (hectares per person)',\n",
        "       'Cereal yield (kg per hectare)',\n",
        "       'Food production index (2004-2006 = 100)',\n",
        "       'GDP per capita (constant 2010 US$)', 'Net flows from UN agencies US$',\n",
        "       'Life expectancy at birth, total (years)',\n",
        "       'Adjusted savings: education expenditure (% of GNI)',\n",
        "       'Income_level_Final',\n",
        "    \n",
        "    \n",
        "    # cols from climada:   \n",
        "        'POP_MAX_34_ADJ', 'POP_MAX_50_ADJ', 'POP_MAX_64_ADJ',\n",
        "    \n",
        "    # Target \n",
        "    'TOTAL_AFFECTED']]"
      ],
      "execution_count": 0,
      "outputs": []
    },
    {
      "cell_type": "markdown",
      "metadata": {
        "id": "1R1BouveERwE",
        "colab_type": "text"
      },
      "source": [
        "- **Check SKEWENESS and apply log**"
      ]
    },
    {
      "cell_type": "code",
      "metadata": {
        "id": "xckwzhX5ERwG",
        "colab_type": "code",
        "colab": {}
      },
      "source": [
        "#determine index for continous variables\n",
        "num_feats = df.dtypes[df.dtypes != 'object'].index\n",
        "\n",
        "#Calculate skew and sort\n",
        "skew_feats = df[num_feats].skew().sort_values(ascending = False)\n",
        "skewness = pd.DataFrame({'Skew': skew_feats})"
      ],
      "execution_count": 0,
      "outputs": []
    },
    {
      "cell_type": "code",
      "metadata": {
        "id": "JlrhirHuERwY",
        "colab_type": "code",
        "outputId": "0112f0d4-4f74-4888-f5f7-27a6f64cc5b3",
        "colab": {
          "base_uri": "https://localhost:8080/",
          "height": 1000
        }
      },
      "source": [
        "skewness"
      ],
      "execution_count": 0,
      "outputs": [
        {
          "output_type": "execute_result",
          "data": {
            "text/html": [
              "<div>\n",
              "<style scoped>\n",
              "    .dataframe tbody tr th:only-of-type {\n",
              "        vertical-align: middle;\n",
              "    }\n",
              "\n",
              "    .dataframe tbody tr th {\n",
              "        vertical-align: top;\n",
              "    }\n",
              "\n",
              "    .dataframe thead th {\n",
              "        text-align: right;\n",
              "    }\n",
              "</style>\n",
              "<table border=\"1\" class=\"dataframe\">\n",
              "  <thead>\n",
              "    <tr style=\"text-align: right;\">\n",
              "      <th></th>\n",
              "      <th>Skew</th>\n",
              "    </tr>\n",
              "  </thead>\n",
              "  <tbody>\n",
              "    <tr>\n",
              "      <th>V_LAND_KN</th>\n",
              "      <td>31.476292</td>\n",
              "    </tr>\n",
              "    <tr>\n",
              "      <th>TOTAL_DEATHS</th>\n",
              "      <td>28.415189</td>\n",
              "    </tr>\n",
              "    <tr>\n",
              "      <th>TOTAL_DAMAGE_(000$)</th>\n",
              "      <td>11.715782</td>\n",
              "    </tr>\n",
              "    <tr>\n",
              "      <th>TOTAL_AFFECTED</th>\n",
              "      <td>7.297631</td>\n",
              "    </tr>\n",
              "    <tr>\n",
              "      <th>96KN_POP</th>\n",
              "      <td>6.794800</td>\n",
              "    </tr>\n",
              "    <tr>\n",
              "      <th>Arable land (hectares per person)</th>\n",
              "      <td>5.355443</td>\n",
              "    </tr>\n",
              "    <tr>\n",
              "      <th>POP_MAX_50_ADJ</th>\n",
              "      <td>4.316617</td>\n",
              "    </tr>\n",
              "    <tr>\n",
              "      <th>TOTAL_HOURS_IN_LAND</th>\n",
              "      <td>3.992451</td>\n",
              "    </tr>\n",
              "    <tr>\n",
              "      <th>POP_MAX_64_ADJ</th>\n",
              "      <td>3.731450</td>\n",
              "    </tr>\n",
              "    <tr>\n",
              "      <th>POP_MAX_34_ADJ</th>\n",
              "      <td>3.270495</td>\n",
              "    </tr>\n",
              "    <tr>\n",
              "      <th>64KN_POP</th>\n",
              "      <td>2.948947</td>\n",
              "    </tr>\n",
              "    <tr>\n",
              "      <th>CALC_assets_emdat</th>\n",
              "      <td>2.858123</td>\n",
              "    </tr>\n",
              "    <tr>\n",
              "      <th>MIN_DIST2LAND</th>\n",
              "      <td>2.692477</td>\n",
              "    </tr>\n",
              "    <tr>\n",
              "      <th>Adjusted savings: education expenditure (% of GNI)</th>\n",
              "      <td>2.355909</td>\n",
              "    </tr>\n",
              "    <tr>\n",
              "      <th>Net flows from UN agencies US$</th>\n",
              "      <td>2.178199</td>\n",
              "    </tr>\n",
              "    <tr>\n",
              "      <th>POP_DEN_SQ_KM</th>\n",
              "      <td>1.960783</td>\n",
              "    </tr>\n",
              "    <tr>\n",
              "      <th>MAX_STORMSPEED</th>\n",
              "      <td>1.908099</td>\n",
              "    </tr>\n",
              "    <tr>\n",
              "      <th>GDP per capita (constant 2010 US$)</th>\n",
              "      <td>1.850448</td>\n",
              "    </tr>\n",
              "    <tr>\n",
              "      <th>TOTAL_HOURS_EVENT</th>\n",
              "      <td>1.759685</td>\n",
              "    </tr>\n",
              "    <tr>\n",
              "      <th>34KN_POP</th>\n",
              "      <td>1.691181</td>\n",
              "    </tr>\n",
              "    <tr>\n",
              "      <th>DISTANCE_TRACK</th>\n",
              "      <td>1.115766</td>\n",
              "    </tr>\n",
              "    <tr>\n",
              "      <th>DISTANCE_TRACK_VINCENTY</th>\n",
              "      <td>0.848870</td>\n",
              "    </tr>\n",
              "    <tr>\n",
              "      <th>Cereal yield (kg per hectare)</th>\n",
              "      <td>0.322566</td>\n",
              "    </tr>\n",
              "    <tr>\n",
              "      <th>Income_level_Final</th>\n",
              "      <td>0.289024</td>\n",
              "    </tr>\n",
              "    <tr>\n",
              "      <th>MAX_WIND</th>\n",
              "      <td>0.115019</td>\n",
              "    </tr>\n",
              "    <tr>\n",
              "      <th>MAX_USA_SSHS_INLAND</th>\n",
              "      <td>0.083235</td>\n",
              "    </tr>\n",
              "    <tr>\n",
              "      <th>MAX_USA_SSHS</th>\n",
              "      <td>-0.058921</td>\n",
              "    </tr>\n",
              "    <tr>\n",
              "      <th>HDI</th>\n",
              "      <td>-0.121026</td>\n",
              "    </tr>\n",
              "    <tr>\n",
              "      <th>RURAL_POP(%)</th>\n",
              "      <td>-0.171154</td>\n",
              "    </tr>\n",
              "    <tr>\n",
              "      <th>Food production index (2004-2006 = 100)</th>\n",
              "      <td>-0.479344</td>\n",
              "    </tr>\n",
              "    <tr>\n",
              "      <th>MONTH_START</th>\n",
              "      <td>-0.957556</td>\n",
              "    </tr>\n",
              "    <tr>\n",
              "      <th>Life expectancy at birth, total (years)</th>\n",
              "      <td>-1.006929</td>\n",
              "    </tr>\n",
              "    <tr>\n",
              "      <th>Landing</th>\n",
              "      <td>-1.354045</td>\n",
              "    </tr>\n",
              "    <tr>\n",
              "      <th>MIN_PRES</th>\n",
              "      <td>-6.401685</td>\n",
              "    </tr>\n",
              "  </tbody>\n",
              "</table>\n",
              "</div>"
            ],
            "text/plain": [
              "                                                         Skew\n",
              "V_LAND_KN                                           31.476292\n",
              "TOTAL_DEATHS                                        28.415189\n",
              "TOTAL_DAMAGE_(000$)                                 11.715782\n",
              "TOTAL_AFFECTED                                       7.297631\n",
              "96KN_POP                                             6.794800\n",
              "Arable land (hectares per person)                    5.355443\n",
              "POP_MAX_50_ADJ                                       4.316617\n",
              "TOTAL_HOURS_IN_LAND                                  3.992451\n",
              "POP_MAX_64_ADJ                                       3.731450\n",
              "POP_MAX_34_ADJ                                       3.270495\n",
              "64KN_POP                                             2.948947\n",
              "CALC_assets_emdat                                    2.858123\n",
              "MIN_DIST2LAND                                        2.692477\n",
              "Adjusted savings: education expenditure (% of GNI)   2.355909\n",
              "Net flows from UN agencies US$                       2.178199\n",
              "POP_DEN_SQ_KM                                        1.960783\n",
              "MAX_STORMSPEED                                       1.908099\n",
              "GDP per capita (constant 2010 US$)                   1.850448\n",
              "TOTAL_HOURS_EVENT                                    1.759685\n",
              "34KN_POP                                             1.691181\n",
              "DISTANCE_TRACK                                       1.115766\n",
              "DISTANCE_TRACK_VINCENTY                              0.848870\n",
              "Cereal yield (kg per hectare)                        0.322566\n",
              "Income_level_Final                                   0.289024\n",
              "MAX_WIND                                             0.115019\n",
              "MAX_USA_SSHS_INLAND                                  0.083235\n",
              "MAX_USA_SSHS                                        -0.058921\n",
              "HDI                                                 -0.121026\n",
              "RURAL_POP(%)                                        -0.171154\n",
              "Food production index (2004-2006 = 100)             -0.479344\n",
              "MONTH_START                                         -0.957556\n",
              "Life expectancy at birth, total (years)             -1.006929\n",
              "Landing                                             -1.354045\n",
              "MIN_PRES                                            -6.401685"
            ]
          },
          "metadata": {
            "tags": []
          },
          "execution_count": 27
        }
      ]
    },
    {
      "cell_type": "code",
      "metadata": {
        "id": "XQQTpJ6dERwo",
        "colab_type": "code",
        "outputId": "86381516-76ed-467e-98d5-2e203145a405",
        "colab": {
          "base_uri": "https://localhost:8080/",
          "height": 554
        }
      },
      "source": [
        "# Checking distribution for one feature---reusing code from Juber\n",
        "ax=sns.distplot(df['TOTAL_AFFECTED'].values)\n",
        "\n",
        "plt.show()\n",
        "plt.clf()\n",
        "\n",
        "log_affected=np.log(df['TOTAL_AFFECTED'].values)\n",
        "ax=sns.distplot(log_affected)\n",
        "\n",
        "plt.show()\n",
        "plt.clf()"
      ],
      "execution_count": 0,
      "outputs": [
        {
          "output_type": "display_data",
          "data": {
            "image/png": "[encoded data removed]",
            "text/plain": [
              "<Figure size 432x288 with 1 Axes>"
            ]
          },
          "metadata": {
            "tags": [],
            "needs_background": "light"
          }
        },
        {
          "output_type": "display_data",
          "data": {
            "image/png": "[encoded data removed]",
            "text/plain": [
              "<Figure size 432x288 with 1 Axes>"
            ]
          },
          "metadata": {
            "tags": [],
            "needs_background": "light"
          }
        },
        {
          "output_type": "display_data",
          "data": {
            "text/plain": [
              "<Figure size 432x288 with 0 Axes>"
            ]
          },
          "metadata": {
            "tags": []
          }
        }
      ]
    },
    {
      "cell_type": "code",
      "metadata": {
        "id": "eQhzqYt3ERxA",
        "colab_type": "code",
        "colab": {}
      },
      "source": [
        "# Creating list of features to transform, for skew values above 2.02\n",
        "\n",
        "feats_to_log = skewness[skewness['Skew'] > 2.02].index"
      ],
      "execution_count": 0,
      "outputs": []
    },
    {
      "cell_type": "code",
      "metadata": {
        "id": "ehyj5rVWERxL",
        "colab_type": "code",
        "outputId": "bb626458-f101-46ba-8b6e-b8730e4836e6",
        "colab": {
          "base_uri": "https://localhost:8080/",
          "height": 136
        }
      },
      "source": [
        "feats_to_log"
      ],
      "execution_count": 0,
      "outputs": [
        {
          "output_type": "execute_result",
          "data": {
            "text/plain": [
              "Index(['V_LAND_KN', 'TOTAL_DEATHS', 'TOTAL_DAMAGE_(000$)', 'TOTAL_AFFECTED',\n",
              "       '96KN_POP', 'Arable land (hectares per person)', 'POP_MAX_50_ADJ',\n",
              "       'TOTAL_HOURS_IN_LAND', 'POP_MAX_64_ADJ', 'POP_MAX_34_ADJ', '64KN_POP',\n",
              "       'CALC_assets_emdat', 'MIN_DIST2LAND',\n",
              "       'Adjusted savings: education expenditure (% of GNI)',\n",
              "       'Net flows from UN agencies US$'],\n",
              "      dtype='object')"
            ]
          },
          "metadata": {
            "tags": []
          },
          "execution_count": 18
        }
      ]
    },
    {
      "cell_type": "code",
      "metadata": {
        "id": "hmFPaDnHERxQ",
        "colab_type": "code",
        "colab": {}
      },
      "source": [
        "# as log cannot be perfomed to negative numbers, a common technique for handling negative values is to \n",
        "# add a constant value to the data prior to applying the log transform. The transformation is \n",
        "#therefore log(Y+a) where a is the constant. Some people like to choose a so that min(Y+a) is a very small \n",
        "#positive number (like 0.001). Others choose a so that min(Y+a) = 1. For the latter choice, you can show \n",
        "# that a = b – min(Y), where b is either a small number or is 1.\n",
        "# Source : https://blogs.sas.com/content/iml/2011/04/27/log-transformations-how-to-handle-negative-data-values.html\n",
        "\n",
        "for item in feats_to_log:\n",
        "    #df[item]=np.log((df[item] + 1 - df[item].min()).values)\n",
        "    df[item] = df[item].apply(lambda x: np.log(x) if x>0 else 0)\n",
        "    "
      ],
      "execution_count": 0,
      "outputs": []
    },
    {
      "cell_type": "code",
      "metadata": {
        "id": "SXJpS65EERxW",
        "colab_type": "code",
        "outputId": "2eee138a-1b85-428c-906f-06f2dba3e6c8",
        "colab": {
          "base_uri": "https://localhost:8080/",
          "height": 385
        }
      },
      "source": [
        "df[feats_to_log].describe()"
      ],
      "execution_count": 0,
      "outputs": [
        {
          "output_type": "execute_result",
          "data": {
            "text/html": [
              "<div>\n",
              "<style scoped>\n",
              "    .dataframe tbody tr th:only-of-type {\n",
              "        vertical-align: middle;\n",
              "    }\n",
              "\n",
              "    .dataframe tbody tr th {\n",
              "        vertical-align: top;\n",
              "    }\n",
              "\n",
              "    .dataframe thead th {\n",
              "        text-align: right;\n",
              "    }\n",
              "</style>\n",
              "<table border=\"1\" class=\"dataframe\">\n",
              "  <thead>\n",
              "    <tr style=\"text-align: right;\">\n",
              "      <th></th>\n",
              "      <th>V_LAND_KN</th>\n",
              "      <th>TOTAL_DEATHS</th>\n",
              "      <th>TOTAL_DAMAGE_(000$)</th>\n",
              "      <th>TOTAL_AFFECTED</th>\n",
              "      <th>96KN_POP</th>\n",
              "      <th>Arable land (hectares per person)</th>\n",
              "      <th>POP_MAX_50_ADJ</th>\n",
              "      <th>TOTAL_HOURS_IN_LAND</th>\n",
              "      <th>POP_MAX_64_ADJ</th>\n",
              "      <th>POP_MAX_34_ADJ</th>\n",
              "      <th>64KN_POP</th>\n",
              "      <th>CALC_assets_emdat</th>\n",
              "      <th>MIN_DIST2LAND</th>\n",
              "      <th>Adjusted savings: education expenditure (% of GNI)</th>\n",
              "      <th>Net flows from UN agencies US$</th>\n",
              "    </tr>\n",
              "  </thead>\n",
              "  <tbody>\n",
              "    <tr>\n",
              "      <th>count</th>\n",
              "      <td>991.000000</td>\n",
              "      <td>991.000000</td>\n",
              "      <td>991.000000</td>\n",
              "      <td>991.000000</td>\n",
              "      <td>991.000000</td>\n",
              "      <td>991.000000</td>\n",
              "      <td>991.000000</td>\n",
              "      <td>991.000000</td>\n",
              "      <td>991.000000</td>\n",
              "      <td>991.000000</td>\n",
              "      <td>991.000000</td>\n",
              "      <td>991.000000</td>\n",
              "      <td>991.000000</td>\n",
              "      <td>991.000000</td>\n",
              "      <td>991.000000</td>\n",
              "    </tr>\n",
              "    <tr>\n",
              "      <th>mean</th>\n",
              "      <td>4.440666</td>\n",
              "      <td>2.581518</td>\n",
              "      <td>7.634230</td>\n",
              "      <td>10.086995</td>\n",
              "      <td>4.178269</td>\n",
              "      <td>-2.198147</td>\n",
              "      <td>13.440581</td>\n",
              "      <td>1.894751</td>\n",
              "      <td>11.811131</td>\n",
              "      <td>14.579118</td>\n",
              "      <td>8.124430</td>\n",
              "      <td>19.169811</td>\n",
              "      <td>0.878179</td>\n",
              "      <td>1.041226</td>\n",
              "      <td>12.844241</td>\n",
              "    </tr>\n",
              "    <tr>\n",
              "      <th>std</th>\n",
              "      <td>0.445265</td>\n",
              "      <td>1.897505</td>\n",
              "      <td>5.631716</td>\n",
              "      <td>3.102598</td>\n",
              "      <td>6.142951</td>\n",
              "      <td>0.895685</td>\n",
              "      <td>5.166569</td>\n",
              "      <td>1.581078</td>\n",
              "      <td>5.680212</td>\n",
              "      <td>4.828227</td>\n",
              "      <td>7.289062</td>\n",
              "      <td>11.197377</td>\n",
              "      <td>1.706180</td>\n",
              "      <td>0.495848</td>\n",
              "      <td>7.012986</td>\n",
              "    </tr>\n",
              "    <tr>\n",
              "      <th>min</th>\n",
              "      <td>3.401197</td>\n",
              "      <td>0.000000</td>\n",
              "      <td>0.000000</td>\n",
              "      <td>0.693147</td>\n",
              "      <td>0.000000</td>\n",
              "      <td>-5.423870</td>\n",
              "      <td>0.000000</td>\n",
              "      <td>-0.693147</td>\n",
              "      <td>0.000000</td>\n",
              "      <td>0.000000</td>\n",
              "      <td>0.000000</td>\n",
              "      <td>0.000000</td>\n",
              "      <td>0.000000</td>\n",
              "      <td>-0.618261</td>\n",
              "      <td>0.000000</td>\n",
              "    </tr>\n",
              "    <tr>\n",
              "      <th>25%</th>\n",
              "      <td>4.138361</td>\n",
              "      <td>1.098612</td>\n",
              "      <td>0.000000</td>\n",
              "      <td>8.018896</td>\n",
              "      <td>0.000000</td>\n",
              "      <td>-2.814166</td>\n",
              "      <td>13.210954</td>\n",
              "      <td>0.000000</td>\n",
              "      <td>11.292152</td>\n",
              "      <td>14.467834</td>\n",
              "      <td>0.000000</td>\n",
              "      <td>17.291178</td>\n",
              "      <td>0.000000</td>\n",
              "      <td>0.609766</td>\n",
              "      <td>13.845069</td>\n",
              "    </tr>\n",
              "    <tr>\n",
              "      <th>50%</th>\n",
              "      <td>4.497585</td>\n",
              "      <td>2.484907</td>\n",
              "      <td>9.680344</td>\n",
              "      <td>10.308953</td>\n",
              "      <td>0.000000</td>\n",
              "      <td>-2.362625</td>\n",
              "      <td>15.077483</td>\n",
              "      <td>1.791759</td>\n",
              "      <td>14.019712</td>\n",
              "      <td>16.057954</td>\n",
              "      <td>11.513145</td>\n",
              "      <td>24.508645</td>\n",
              "      <td>0.000000</td>\n",
              "      <td>1.029619</td>\n",
              "      <td>16.325922</td>\n",
              "    </tr>\n",
              "    <tr>\n",
              "      <th>75%</th>\n",
              "      <td>4.747537</td>\n",
              "      <td>3.850148</td>\n",
              "      <td>12.206073</td>\n",
              "      <td>12.413181</td>\n",
              "      <td>10.945113</td>\n",
              "      <td>-1.642416</td>\n",
              "      <td>16.525255</td>\n",
              "      <td>3.178054</td>\n",
              "      <td>15.435987</td>\n",
              "      <td>17.208886</td>\n",
              "      <td>15.194754</td>\n",
              "      <td>26.779700</td>\n",
              "      <td>0.000000</td>\n",
              "      <td>1.451725</td>\n",
              "      <td>17.263907</td>\n",
              "    </tr>\n",
              "    <tr>\n",
              "      <th>max</th>\n",
              "      <td>11.614498</td>\n",
              "      <td>11.837658</td>\n",
              "      <td>18.643824</td>\n",
              "      <td>17.204028</td>\n",
              "      <td>17.419063</td>\n",
              "      <td>1.121473</td>\n",
              "      <td>19.590919</td>\n",
              "      <td>5.808142</td>\n",
              "      <td>18.491778</td>\n",
              "      <td>19.746421</td>\n",
              "      <td>17.919354</td>\n",
              "      <td>30.327386</td>\n",
              "      <td>5.293305</td>\n",
              "      <td>2.639771</td>\n",
              "      <td>19.029087</td>\n",
              "    </tr>\n",
              "  </tbody>\n",
              "</table>\n",
              "</div>"
            ],
            "text/plain": [
              "        V_LAND_KN  ...  Net flows from UN agencies US$\n",
              "count  991.000000  ...                      991.000000\n",
              "mean     4.440666  ...                       12.844241\n",
              "std      0.445265  ...                        7.012986\n",
              "min      3.401197  ...                        0.000000\n",
              "25%      4.138361  ...                       13.845069\n",
              "50%      4.497585  ...                       16.325922\n",
              "75%      4.747537  ...                       17.263907\n",
              "max     11.614498  ...                       19.029087\n",
              "\n",
              "[8 rows x 15 columns]"
            ]
          },
          "metadata": {
            "tags": []
          },
          "execution_count": 20
        }
      ]
    },
    {
      "cell_type": "code",
      "metadata": {
        "id": "wt_O8rkdER9b",
        "colab_type": "code",
        "outputId": "0f687ad8-bce8-436a-9f3e-0b123a584b17",
        "colab": {
          "base_uri": "https://localhost:8080/",
          "height": 1000
        }
      },
      "source": [
        "for item in feats_to_log:\n",
        "    ax=sns.distplot(df[item].values)\n",
        "    ax.set_title(item);\n",
        "    plt.show()\n",
        "    plt.clf()\n"
      ],
      "execution_count": 0,
      "outputs": [
        {
          "output_type": "display_data",
          "data": {
            "image/png": "[encoded data removed]",
            "text/plain": [
              "<Figure size 432x288 with 1 Axes>"
            ]
          },
          "metadata": {
            "tags": [],
            "needs_background": "light"
          }
        },
        {
          "output_type": "display_data",
          "data": {
            "image/png": "[encoded data removed]",
            "text/plain": [
              "<Figure size 432x288 with 1 Axes>"
            ]
          },
          "metadata": {
            "tags": [],
            "needs_background": "light"
          }
        },
        {
          "output_type": "display_data",
          "data": {
            "image/png": "[encoded data removed]",
            "text/plain": [
              "<Figure size 432x288 with 1 Axes>"
            ]
          },
          "metadata": {
            "tags": [],
            "needs_background": "light"
          }
        },
        {
          "output_type": "display_data",
          "data": {
            "image/png": "[encoded data removed]",
            "text/plain": [
              "<Figure size 432x288 with 1 Axes>"
            ]
          },
          "metadata": {
            "tags": [],
            "needs_background": "light"
          }
        },
        {
          "output_type": "display_data",
          "data": {
            "image/png": "[encoded data removed]",
            "text/plain": [
              "<Figure size 432x288 with 1 Axes>"
            ]
          },
          "metadata": {
            "tags": [],
            "needs_background": "light"
          }
        },
        {
          "output_type": "display_data",
          "data": {
            "image/png": "[encoded data removed]",
            "text/plain": [
              "<Figure size 432x288 with 1 Axes>"
            ]
          },
          "metadata": {
            "tags": [],
            "needs_background": "light"
          }
        },
        {
          "output_type": "display_data",
          "data": {
            "image/png": "[encoded data removed]",
            "text/plain": [
              "<Figure size 432x288 with 1 Axes>"
            ]
          },
          "metadata": {
            "tags": [],
            "needs_background": "light"
          }
        },
        {
          "output_type": "display_data",
          "data": {
            "image/png": "[encoded data removed]",
            "text/plain": [
              "<Figure size 432x288 with 1 Axes>"
            ]
          },
          "metadata": {
            "tags": [],
            "needs_background": "light"
          }
        },
        {
          "output_type": "display_data",
          "data": {
            "image/png": "[encoded data removed]",
            "text/plain": [
              "<Figure size 432x288 with 1 Axes>"
            ]
          },
          "metadata": {
            "tags": [],
            "needs_background": "light"
          }
        },
        {
          "output_type": "display_data",
          "data": {
            "image/png": "[encoded data removed]",
            "text/plain": [
              "<Figure size 432x288 with 1 Axes>"
            ]
          },
          "metadata": {
            "tags": [],
            "needs_background": "light"
          }
        },
        {
          "output_type": "display_data",
          "data": {
            "image/png": "[encoded data removed]",
            "text/plain": [
              "<Figure size 432x288 with 1 Axes>"
            ]
          },
          "metadata": {
            "tags": [],
            "needs_background": "light"
          }
        },
        {
          "output_type": "display_data",
          "data": {
            "image/png": "[encoded data removed]",
            "text/plain": [
              "<Figure size 432x288 with 1 Axes>"
            ]
          },
          "metadata": {
            "tags": [],
            "needs_background": "light"
          }
        }
      ]
    },
    {
      "cell_type": "code",
      "metadata": {
        "id": "RfufoSXVER9n",
        "colab_type": "code",
        "colab": {}
      },
      "source": [
        "df.describe()"
      ],
      "execution_count": 0,
      "outputs": []
    },
    {
      "cell_type": "markdown",
      "metadata": {
        "id": "BEPRuO6UESAF",
        "colab_type": "text"
      },
      "source": [
        "- **One hot encoding for categorical variables**"
      ]
    },
    {
      "cell_type": "code",
      "metadata": {
        "scrolled": true,
        "id": "UYOT6uS_ESAF",
        "colab_type": "code",
        "colab": {}
      },
      "source": [
        "df.info()"
      ],
      "execution_count": 0,
      "outputs": []
    },
    {
      "cell_type": "code",
      "metadata": {
        "id": "m_dZ2mxHESAJ",
        "colab_type": "code",
        "outputId": "24171424-e387-49ac-cda0-6dc196587458",
        "colab": {
          "base_uri": "https://localhost:8080/",
          "height": 34
        }
      },
      "source": [
        "cat_feats = df.dtypes[df.dtypes == 'category'].index\n",
        "cat_feats"
      ],
      "execution_count": 0,
      "outputs": [
        {
          "output_type": "execute_result",
          "data": {
            "text/plain": [
              "Index(['BASIN', 'SUB BASIN', 'NATURE', 'GENERAL_CATEGORY', 'MAX_USA_SSHS'], dtype='object')"
            ]
          },
          "metadata": {
            "tags": []
          },
          "execution_count": 21
        }
      ]
    },
    {
      "cell_type": "code",
      "metadata": {
        "id": "zVpQ99sNESAb",
        "colab_type": "code",
        "colab": {}
      },
      "source": [
        "feats_to_dummy = cat_feats #selecting feats to make one-hot encoding\n",
        "\n",
        "for feature in feats_to_dummy:\n",
        "    dummy = pd.get_dummies(df[feature], prefix=feature)\n",
        "    df = pd.concat([df,dummy], axis=1)"
      ],
      "execution_count": 0,
      "outputs": []
    },
    {
      "cell_type": "code",
      "metadata": {
        "id": "LsGQil6vESAf",
        "colab_type": "code",
        "colab": {}
      },
      "source": [
        "# Dropping dummed features\n",
        "df = df.drop(feats_to_dummy, axis=1)"
      ],
      "execution_count": 0,
      "outputs": []
    },
    {
      "cell_type": "code",
      "metadata": {
        "id": "uwfbmqSCESAp",
        "colab_type": "code",
        "colab": {}
      },
      "source": [
        "df.columns"
      ],
      "execution_count": 0,
      "outputs": []
    },
    {
      "cell_type": "code",
      "metadata": {
        "id": "TD-GJdT7ESA9",
        "colab_type": "code",
        "colab": {}
      },
      "source": [
        "df.shape"
      ],
      "execution_count": 0,
      "outputs": []
    },
    {
      "cell_type": "code",
      "metadata": {
        "id": "gdBd3CSlESBM",
        "colab_type": "code",
        "colab": {}
      },
      "source": [
        "#Droping Basin and keeping subBasin because has higher granularity,\n",
        "#column arrangement \n",
        "df = df[[\n",
        "    \n",
        "     # here columns from cyclones dataset:\n",
        "    'MONTH_START', 'TOTAL_HOURS_EVENT', 'TOTAL_HOURS_IN_LAND', 'MAX_WIND',\n",
        "       'MIN_PRES', 'MIN_DIST2LAND', 'MAX_STORMSPEED', 'MAX_USA_SSHS_-6',\n",
        "       'MAX_USA_SSHS_-5', 'MAX_USA_SSHS_-4', 'MAX_USA_SSHS_-3',\n",
        "       'MAX_USA_SSHS_-2', 'MAX_USA_SSHS_-1', 'MAX_USA_SSHS_0',\n",
        "       'MAX_USA_SSHS_1', 'MAX_USA_SSHS_2', 'MAX_USA_SSHS_3', 'MAX_USA_SSHS_4',\n",
        "       'MAX_USA_SSHS_5',\n",
        "       'MAX_USA_SSHS_INLAND', 'V_LAND_KN', 'DISTANCE_TRACK',\n",
        "       'DISTANCE_TRACK_VINCENTY', '34KN_POP', '64KN_POP', '96KN_POP',\n",
        "        'Landing', \n",
        "    'BASIN_EP', 'BASIN_NAm', 'BASIN_NI',\n",
        "       'BASIN_SI', 'BASIN_SP', 'BASIN_WP', 'SUB BASIN_AS', 'SUB BASIN_BB',\n",
        "       'SUB BASIN_CP', 'SUB BASIN_CS', 'SUB BASIN_EA', 'SUB BASIN_EP',\n",
        "       'SUB BASIN_GM', 'SUB BASIN_NAm', 'SUB BASIN_SI', 'SUB BASIN_SP',\n",
        "       'SUB BASIN_WA', 'SUB BASIN_WP', 'NATURE_DS', 'NATURE_ET', 'NATURE_MX',\n",
        "       'NATURE_NR', 'NATURE_SS', 'NATURE_TS', 'GENERAL_CATEGORY_Cat 1',\n",
        "       'GENERAL_CATEGORY_Cat 2', 'GENERAL_CATEGORY_Cat 3',\n",
        "       'GENERAL_CATEGORY_Cat 4', 'GENERAL_CATEGORY_Cat 5',\n",
        "       'GENERAL_CATEGORY_TD', 'GENERAL_CATEGORY_TS',\n",
        "    \n",
        "    'TOTAL_DAMAGE_(000$)', 'CALC_assets_emdat', 'TOTAL_DEATHS',\n",
        "\n",
        "         \n",
        "    # here columns from World Bank Indicators dataset:\n",
        "    'POP_DEN_SQ_KM', 'RURAL_POP(%)', 'HDI',\n",
        "       'Arable land (hectares per person)', 'Cereal yield (kg per hectare)',\n",
        "       'Food production index (2004-2006 = 100)',\n",
        "       'GDP per capita (constant 2010 US$)', 'Net flows from UN agencies US$',\n",
        "       'Life expectancy at birth, total (years)',\n",
        "       'Adjusted savings: education expenditure (% of GNI)',\n",
        "       'Income_level_Final',\n",
        "         \n",
        "    #  here columns from climada:\n",
        "        'POP_MAX_34_ADJ', 'POP_MAX_50_ADJ', 'POP_MAX_64_ADJ',\n",
        "\n",
        "    # Target   \n",
        "       'TOTAL_AFFECTED']]"
      ],
      "execution_count": 0,
      "outputs": []
    },
    {
      "cell_type": "code",
      "metadata": {
        "id": "RG9hv9yfESBQ",
        "colab_type": "code",
        "colab": {}
      },
      "source": [
        "df.shape"
      ],
      "execution_count": 0,
      "outputs": []
    },
    {
      "cell_type": "markdown",
      "metadata": {
        "id": "oAv3wJPnESBa",
        "colab_type": "text"
      },
      "source": [
        "### Feature selection"
      ]
    },
    {
      "cell_type": "code",
      "metadata": {
        "id": "MLiggT-oESBa",
        "colab_type": "code",
        "colab": {}
      },
      "source": [
        "# choosing the features to include in the model\n",
        "# We take out 'TOTAL_DEATHS' because this input will not be available at the time of prediction, \n",
        "\n",
        "\n",
        "features1 = [   \n",
        "     # here columns from cyclones dataset:\n",
        "    'MONTH_START', 'TOTAL_HOURS_EVENT', 'TOTAL_HOURS_IN_LAND', 'MAX_WIND',\n",
        "       'MIN_PRES', 'MIN_DIST2LAND', 'MAX_STORMSPEED', \n",
        "       'MAX_USA_SSHS_INLAND', 'V_LAND_KN', 'DISTANCE_TRACK',\n",
        "       'DISTANCE_TRACK_VINCENTY', 'Landing', \n",
        "            #'34KN_POP', '64KN_POP', '96KN_POP',\n",
        "            # 'BASIN_EP', 'BASIN_NAm', 'BASIN_NI','BASIN_SI', 'BASIN_SP', 'BASIN_WP', \n",
        "    'SUB BASIN_AS', 'SUB BASIN_BB',\n",
        "       'SUB BASIN_CP', 'SUB BASIN_CS', 'SUB BASIN_EA', 'SUB BASIN_EP',\n",
        "       'SUB BASIN_GM', 'SUB BASIN_NAm', 'SUB BASIN_SI', 'SUB BASIN_SP',\n",
        "       'SUB BASIN_WA', 'SUB BASIN_WP', 'NATURE_DS', 'NATURE_ET', 'NATURE_MX',\n",
        "       'NATURE_NR', 'NATURE_SS', 'NATURE_TS', 'GENERAL_CATEGORY_Cat 1',\n",
        "       'GENERAL_CATEGORY_Cat 2', 'GENERAL_CATEGORY_Cat 3',\n",
        "       'GENERAL_CATEGORY_Cat 4', 'GENERAL_CATEGORY_Cat 5',\n",
        "       'GENERAL_CATEGORY_TD', 'GENERAL_CATEGORY_TS',\n",
        "    \n",
        "                #'TOTAL_DAMAGE_(000$)', 'CALC_assets_emdat', \n",
        "                #'TOTAL_DEATHS',\n",
        "\n",
        "         \n",
        "    # here columns from World Bank Indicators dataset:\n",
        "    'POP_DEN_SQ_KM', 'RURAL_POP(%)', 'HDI',\n",
        "       'Arable land (hectares per person)', 'Cereal yield (kg per hectare)',\n",
        "       'Food production index (2004-2006 = 100)',\n",
        "       'GDP per capita (constant 2010 US$)', 'Net flows from UN agencies US$',\n",
        "       'Life expectancy at birth, total (years)',\n",
        "       'Adjusted savings: education expenditure (% of GNI)',\n",
        "       'Income_level_Final',\n",
        "         \n",
        "    #  here columns from climada:\n",
        "        'POP_MAX_34_ADJ', 'POP_MAX_50_ADJ', 'POP_MAX_64_ADJ',\n",
        "         ]"
      ],
      "execution_count": 0,
      "outputs": []
    },
    {
      "cell_type": "code",
      "metadata": {
        "id": "c2MdWRWnESBo",
        "colab_type": "code",
        "colab": {}
      },
      "source": [
        "# choosing the features to include in the model\n",
        "# We take out 'TOTAL_DEATHS' because this input will not be available at the time of prediction, \n",
        "# also deleding columns with high nans\n",
        "\n",
        "features2 = [   \n",
        "     # here columns from cyclones dataset:\n",
        "    'MONTH_START', 'TOTAL_HOURS_EVENT', 'TOTAL_HOURS_IN_LAND', 'MAX_WIND',\n",
        "       'MIN_PRES', 'MIN_DIST2LAND', 'MAX_STORMSPEED', 'MAX_USA_SSHS',\n",
        "       'MAX_USA_SSHS_INLAND', 'V_LAND_KN', 'DISTANCE_TRACK',\n",
        "       'DISTANCE_TRACK_VINCENTY', '34KN_POP', '64KN_POP', '96KN_POP',\n",
        "        'Landing', \n",
        "            # 'BASIN_EP', 'BASIN_NAm', 'BASIN_NI','BASIN_SI', 'BASIN_SP', 'BASIN_WP', \n",
        "    'SUB BASIN_AS', 'SUB BASIN_BB',\n",
        "       'SUB BASIN_CP', 'SUB BASIN_CS', 'SUB BASIN_EA', 'SUB BASIN_EP',\n",
        "       'SUB BASIN_GM', 'SUB BASIN_NAm', 'SUB BASIN_SI', 'SUB BASIN_SP',\n",
        "       'SUB BASIN_WA', 'SUB BASIN_WP', 'NATURE_DS', 'NATURE_ET', 'NATURE_MX',\n",
        "       'NATURE_NR', 'NATURE_SS', 'NATURE_TS', 'GENERAL_CATEGORY_Cat 1',\n",
        "       'GENERAL_CATEGORY_Cat 2', 'GENERAL_CATEGORY_Cat 3',\n",
        "       'GENERAL_CATEGORY_Cat 4', 'GENERAL_CATEGORY_Cat 5',\n",
        "       'GENERAL_CATEGORY_TD', 'GENERAL_CATEGORY_TS',\n",
        "    \n",
        "    #'TOTAL_DAMAGE_(000$)', 'CALC_assets_emdat', \n",
        "                #'TOTAL_DEATHS',\n",
        "\n",
        "         \n",
        "    # here columns from World Bank Indicators dataset:\n",
        "    'POP_DEN_SQ_KM', 'RURAL_POP(%)', 'HDI',\n",
        "       'Arable land (hectares per person)', 'Cereal yield (kg per hectare)',\n",
        "       'Food production index (2004-2006 = 100)',\n",
        "       'GDP per capita (constant 2010 US$)', 'Net flows from UN agencies US$',\n",
        "       'Life expectancy at birth, total (years)',\n",
        "       'Adjusted savings: education expenditure (% of GNI)',\n",
        "       'Income_level_Final',\n",
        "         \n",
        "    #  here columns from climada:\n",
        "        'POP_MAX_34_ADJ', 'POP_MAX_50_ADJ', 'POP_MAX_64_ADJ',\n",
        "         ]"
      ],
      "execution_count": 0,
      "outputs": []
    },
    {
      "cell_type": "code",
      "metadata": {
        "id": "WOuvrtXyESB3",
        "colab_type": "code",
        "colab": {}
      },
      "source": [
        "df = df[df['TOTAL_AFFECTED'] >0]"
      ],
      "execution_count": 0,
      "outputs": []
    },
    {
      "cell_type": "code",
      "metadata": {
        "scrolled": true,
        "id": "HPdj9iuGESB8",
        "colab_type": "code",
        "outputId": "933afa90-c7ce-48c3-9a1f-a891ebc08d97",
        "colab": {
          "base_uri": "https://localhost:8080/",
          "height": 34
        }
      },
      "source": [
        "#some checks....\n",
        "df['SUB BASIN_NAm'].unique()"
      ],
      "execution_count": 0,
      "outputs": [
        {
          "output_type": "execute_result",
          "data": {
            "text/plain": [
              "array([0, 1], dtype=uint8)"
            ]
          },
          "metadata": {
            "tags": []
          },
          "execution_count": 28
        }
      ]
    },
    {
      "cell_type": "code",
      "metadata": {
        "id": "Gi4I0xBnESB_",
        "colab_type": "code",
        "outputId": "a9c99340-6395-4be5-ba39-e7b70760a140",
        "colab": {
          "base_uri": "https://localhost:8080/",
          "height": 337
        }
      },
      "source": [
        "#some checks....\n",
        "df['TOTAL_AFFECTED'].hist(bins=20, figsize=(10,5)) #this is logarithmic and scaled(0,1)"
      ],
      "execution_count": 0,
      "outputs": [
        {
          "output_type": "execute_result",
          "data": {
            "text/plain": [
              "<matplotlib.axes._subplots.AxesSubplot at 0x7ffacf1c8dd8>"
            ]
          },
          "metadata": {
            "tags": []
          },
          "execution_count": 29
        },
        {
          "output_type": "display_data",
          "data": {
            "image/png": "[encoded data removed]",
            "text/plain": [
              "<Figure size 720x360 with 1 Axes>"
            ]
          },
          "metadata": {
            "tags": [],
            "needs_background": "light"
          }
        }
      ]
    },
    {
      "cell_type": "markdown",
      "metadata": {
        "id": "7Sy1i2lzESCC",
        "colab_type": "text"
      },
      "source": [
        "__________________"
      ]
    },
    {
      "cell_type": "markdown",
      "metadata": {
        "id": "eXRMNIleESCM",
        "colab_type": "text"
      },
      "source": [
        "________________________"
      ]
    },
    {
      "cell_type": "markdown",
      "metadata": {
        "id": "mvua8p1mESCN",
        "colab_type": "text"
      },
      "source": [
        "## Imputation and train test split"
      ]
    },
    {
      "cell_type": "code",
      "metadata": {
        "id": "ZxUy3_vxESCO",
        "colab_type": "code",
        "outputId": "f08409fa-5831-445b-e006-7b1bb89019e6",
        "colab": {
          "base_uri": "https://localhost:8080/",
          "height": 34
        }
      },
      "source": [
        " #trim. Scaled and logged 1000 < x <5000000\n",
        "# df_scaled =  df_scaled[df_scaled['TOTAL_AFFECTED'] > 0.4] \n",
        "# df_scaled =  df_scaled[df_scaled['TOTAL_AFFECTED'] < 0.9]\n",
        "df.shape"
      ],
      "execution_count": 0,
      "outputs": [
        {
          "output_type": "execute_result",
          "data": {
            "text/plain": [
              "(991, 76)"
            ]
          },
          "metadata": {
            "tags": []
          },
          "execution_count": 30
        }
      ]
    },
    {
      "cell_type": "code",
      "metadata": {
        "id": "nceTAjl1ESCR",
        "colab_type": "code",
        "colab": {}
      },
      "source": [
        "# df_scaled.dropna(inplace = True)"
      ],
      "execution_count": 0,
      "outputs": []
    },
    {
      "cell_type": "code",
      "metadata": {
        "id": "xBT2x5ZUESCW",
        "colab_type": "code",
        "colab": {}
      },
      "source": [
        "from sklearn.impute import KNNImputer"
      ],
      "execution_count": 0,
      "outputs": []
    },
    {
      "cell_type": "code",
      "metadata": {
        "id": "uXRMZjU6ESCd",
        "colab_type": "code",
        "colab": {}
      },
      "source": [
        "df.shape"
      ],
      "execution_count": 0,
      "outputs": []
    },
    {
      "cell_type": "code",
      "metadata": {
        "id": "lDVO9BUHESCg",
        "colab_type": "code",
        "outputId": "e5eedb81-19bb-48ca-faa6-1d9bc7e53783",
        "colab": {
          "base_uri": "https://localhost:8080/",
          "height": 224
        }
      },
      "source": [
        "imputer = KNNImputer(n_neighbors=5)\n",
        "df_filled = pd.DataFrame(imputer.fit_transform(df))\n",
        "df_filled.head()"
      ],
      "execution_count": 0,
      "outputs": [
        {
          "output_type": "execute_result",
          "data": {
            "text/html": [
              "<div>\n",
              "<style scoped>\n",
              "    .dataframe tbody tr th:only-of-type {\n",
              "        vertical-align: middle;\n",
              "    }\n",
              "\n",
              "    .dataframe tbody tr th {\n",
              "        vertical-align: top;\n",
              "    }\n",
              "\n",
              "    .dataframe thead th {\n",
              "        text-align: right;\n",
              "    }\n",
              "</style>\n",
              "<table border=\"1\" class=\"dataframe\">\n",
              "  <thead>\n",
              "    <tr style=\"text-align: right;\">\n",
              "      <th></th>\n",
              "      <th>0</th>\n",
              "      <th>1</th>\n",
              "      <th>2</th>\n",
              "      <th>3</th>\n",
              "      <th>4</th>\n",
              "      <th>5</th>\n",
              "      <th>6</th>\n",
              "      <th>7</th>\n",
              "      <th>8</th>\n",
              "      <th>9</th>\n",
              "      <th>10</th>\n",
              "      <th>11</th>\n",
              "      <th>12</th>\n",
              "      <th>13</th>\n",
              "      <th>14</th>\n",
              "      <th>15</th>\n",
              "      <th>16</th>\n",
              "      <th>17</th>\n",
              "      <th>18</th>\n",
              "      <th>19</th>\n",
              "      <th>20</th>\n",
              "      <th>21</th>\n",
              "      <th>22</th>\n",
              "      <th>23</th>\n",
              "      <th>24</th>\n",
              "      <th>25</th>\n",
              "      <th>26</th>\n",
              "      <th>27</th>\n",
              "      <th>28</th>\n",
              "      <th>29</th>\n",
              "      <th>30</th>\n",
              "      <th>31</th>\n",
              "      <th>32</th>\n",
              "      <th>33</th>\n",
              "      <th>34</th>\n",
              "      <th>35</th>\n",
              "      <th>36</th>\n",
              "      <th>37</th>\n",
              "      <th>38</th>\n",
              "      <th>39</th>\n",
              "      <th>40</th>\n",
              "      <th>41</th>\n",
              "      <th>42</th>\n",
              "      <th>43</th>\n",
              "      <th>44</th>\n",
              "      <th>45</th>\n",
              "      <th>46</th>\n",
              "      <th>47</th>\n",
              "      <th>48</th>\n",
              "      <th>49</th>\n",
              "      <th>50</th>\n",
              "      <th>51</th>\n",
              "      <th>52</th>\n",
              "      <th>53</th>\n",
              "      <th>54</th>\n",
              "      <th>55</th>\n",
              "      <th>56</th>\n",
              "      <th>57</th>\n",
              "      <th>58</th>\n",
              "      <th>59</th>\n",
              "      <th>60</th>\n",
              "      <th>61</th>\n",
              "      <th>62</th>\n",
              "      <th>63</th>\n",
              "      <th>64</th>\n",
              "      <th>65</th>\n",
              "      <th>66</th>\n",
              "      <th>67</th>\n",
              "      <th>68</th>\n",
              "      <th>69</th>\n",
              "      <th>70</th>\n",
              "      <th>71</th>\n",
              "      <th>72</th>\n",
              "      <th>73</th>\n",
              "      <th>74</th>\n",
              "      <th>75</th>\n",
              "    </tr>\n",
              "  </thead>\n",
              "  <tbody>\n",
              "    <tr>\n",
              "      <th>0</th>\n",
              "      <td>6.0</td>\n",
              "      <td>117.0</td>\n",
              "      <td>4.094345</td>\n",
              "      <td>116.0</td>\n",
              "      <td>952.0</td>\n",
              "      <td>0.0</td>\n",
              "      <td>33.0</td>\n",
              "      <td>0.0</td>\n",
              "      <td>0.0</td>\n",
              "      <td>0.0</td>\n",
              "      <td>0.0</td>\n",
              "      <td>0.0</td>\n",
              "      <td>0.0</td>\n",
              "      <td>0.0</td>\n",
              "      <td>0.0</td>\n",
              "      <td>0.0</td>\n",
              "      <td>1.0</td>\n",
              "      <td>0.0</td>\n",
              "      <td>0.0</td>\n",
              "      <td>0.0</td>\n",
              "      <td>4.603369</td>\n",
              "      <td>3889.480640</td>\n",
              "      <td>3632.626180</td>\n",
              "      <td>13167681.4</td>\n",
              "      <td>0.000000</td>\n",
              "      <td>0.000000</td>\n",
              "      <td>1.0</td>\n",
              "      <td>0.0</td>\n",
              "      <td>0.0</td>\n",
              "      <td>0.0</td>\n",
              "      <td>0.0</td>\n",
              "      <td>0.0</td>\n",
              "      <td>1.0</td>\n",
              "      <td>0.0</td>\n",
              "      <td>0.0</td>\n",
              "      <td>0.0</td>\n",
              "      <td>0.0</td>\n",
              "      <td>0.0</td>\n",
              "      <td>0.0</td>\n",
              "      <td>0.0</td>\n",
              "      <td>0.0</td>\n",
              "      <td>0.0</td>\n",
              "      <td>0.0</td>\n",
              "      <td>0.0</td>\n",
              "      <td>1.0</td>\n",
              "      <td>0.0</td>\n",
              "      <td>0.0</td>\n",
              "      <td>0.0</td>\n",
              "      <td>0.0</td>\n",
              "      <td>0.0</td>\n",
              "      <td>1.0</td>\n",
              "      <td>0.0</td>\n",
              "      <td>0.0</td>\n",
              "      <td>0.0</td>\n",
              "      <td>1.0</td>\n",
              "      <td>0.0</td>\n",
              "      <td>0.0</td>\n",
              "      <td>0.0</td>\n",
              "      <td>0.000000</td>\n",
              "      <td>0.000000</td>\n",
              "      <td>6.037871</td>\n",
              "      <td>195.0</td>\n",
              "      <td>77.20</td>\n",
              "      <td>0.816</td>\n",
              "      <td>-2.819853</td>\n",
              "      <td>4173.5</td>\n",
              "      <td>67.79</td>\n",
              "      <td>8607.657082</td>\n",
              "      <td>0.0</td>\n",
              "      <td>67.666098</td>\n",
              "      <td>1.053572</td>\n",
              "      <td>1.0</td>\n",
              "      <td>16.298999</td>\n",
              "      <td>15.574055</td>\n",
              "      <td>15.015749</td>\n",
              "      <td>12.175851</td>\n",
              "    </tr>\n",
              "    <tr>\n",
              "      <th>1</th>\n",
              "      <td>8.0</td>\n",
              "      <td>141.0</td>\n",
              "      <td>3.044522</td>\n",
              "      <td>116.0</td>\n",
              "      <td>940.0</td>\n",
              "      <td>0.0</td>\n",
              "      <td>31.0</td>\n",
              "      <td>0.0</td>\n",
              "      <td>0.0</td>\n",
              "      <td>0.0</td>\n",
              "      <td>0.0</td>\n",
              "      <td>0.0</td>\n",
              "      <td>0.0</td>\n",
              "      <td>0.0</td>\n",
              "      <td>0.0</td>\n",
              "      <td>0.0</td>\n",
              "      <td>1.0</td>\n",
              "      <td>0.0</td>\n",
              "      <td>0.0</td>\n",
              "      <td>1.0</td>\n",
              "      <td>4.603369</td>\n",
              "      <td>3596.090691</td>\n",
              "      <td>2787.480021</td>\n",
              "      <td>13167681.4</td>\n",
              "      <td>0.000000</td>\n",
              "      <td>0.000000</td>\n",
              "      <td>1.0</td>\n",
              "      <td>0.0</td>\n",
              "      <td>0.0</td>\n",
              "      <td>0.0</td>\n",
              "      <td>0.0</td>\n",
              "      <td>0.0</td>\n",
              "      <td>1.0</td>\n",
              "      <td>0.0</td>\n",
              "      <td>0.0</td>\n",
              "      <td>0.0</td>\n",
              "      <td>0.0</td>\n",
              "      <td>0.0</td>\n",
              "      <td>0.0</td>\n",
              "      <td>0.0</td>\n",
              "      <td>0.0</td>\n",
              "      <td>0.0</td>\n",
              "      <td>0.0</td>\n",
              "      <td>0.0</td>\n",
              "      <td>1.0</td>\n",
              "      <td>0.0</td>\n",
              "      <td>1.0</td>\n",
              "      <td>0.0</td>\n",
              "      <td>0.0</td>\n",
              "      <td>0.0</td>\n",
              "      <td>0.0</td>\n",
              "      <td>0.0</td>\n",
              "      <td>0.0</td>\n",
              "      <td>0.0</td>\n",
              "      <td>1.0</td>\n",
              "      <td>0.0</td>\n",
              "      <td>0.0</td>\n",
              "      <td>0.0</td>\n",
              "      <td>0.000000</td>\n",
              "      <td>0.000000</td>\n",
              "      <td>6.232448</td>\n",
              "      <td>227.0</td>\n",
              "      <td>47.00</td>\n",
              "      <td>0.816</td>\n",
              "      <td>-2.819853</td>\n",
              "      <td>4173.5</td>\n",
              "      <td>67.79</td>\n",
              "      <td>8607.657082</td>\n",
              "      <td>0.0</td>\n",
              "      <td>67.666098</td>\n",
              "      <td>1.053572</td>\n",
              "      <td>1.0</td>\n",
              "      <td>17.268928</td>\n",
              "      <td>16.562266</td>\n",
              "      <td>16.136855</td>\n",
              "      <td>13.372526</td>\n",
              "    </tr>\n",
              "    <tr>\n",
              "      <th>2</th>\n",
              "      <td>8.0</td>\n",
              "      <td>15.0</td>\n",
              "      <td>1.098612</td>\n",
              "      <td>110.0</td>\n",
              "      <td>0.0</td>\n",
              "      <td>0.0</td>\n",
              "      <td>17.0</td>\n",
              "      <td>0.0</td>\n",
              "      <td>0.0</td>\n",
              "      <td>0.0</td>\n",
              "      <td>0.0</td>\n",
              "      <td>0.0</td>\n",
              "      <td>0.0</td>\n",
              "      <td>0.0</td>\n",
              "      <td>0.0</td>\n",
              "      <td>0.0</td>\n",
              "      <td>1.0</td>\n",
              "      <td>0.0</td>\n",
              "      <td>0.0</td>\n",
              "      <td>3.0</td>\n",
              "      <td>4.885828</td>\n",
              "      <td>438.214691</td>\n",
              "      <td>435.729082</td>\n",
              "      <td>2788659.0</td>\n",
              "      <td>14.841071</td>\n",
              "      <td>14.752742</td>\n",
              "      <td>1.0</td>\n",
              "      <td>0.0</td>\n",
              "      <td>1.0</td>\n",
              "      <td>0.0</td>\n",
              "      <td>0.0</td>\n",
              "      <td>0.0</td>\n",
              "      <td>0.0</td>\n",
              "      <td>0.0</td>\n",
              "      <td>0.0</td>\n",
              "      <td>0.0</td>\n",
              "      <td>1.0</td>\n",
              "      <td>0.0</td>\n",
              "      <td>0.0</td>\n",
              "      <td>0.0</td>\n",
              "      <td>0.0</td>\n",
              "      <td>0.0</td>\n",
              "      <td>0.0</td>\n",
              "      <td>0.0</td>\n",
              "      <td>0.0</td>\n",
              "      <td>0.0</td>\n",
              "      <td>0.0</td>\n",
              "      <td>0.0</td>\n",
              "      <td>0.0</td>\n",
              "      <td>0.0</td>\n",
              "      <td>1.0</td>\n",
              "      <td>0.0</td>\n",
              "      <td>0.0</td>\n",
              "      <td>1.0</td>\n",
              "      <td>0.0</td>\n",
              "      <td>0.0</td>\n",
              "      <td>0.0</td>\n",
              "      <td>0.0</td>\n",
              "      <td>10.933107</td>\n",
              "      <td>24.857591</td>\n",
              "      <td>5.036953</td>\n",
              "      <td>133.0</td>\n",
              "      <td>66.23</td>\n",
              "      <td>0.668</td>\n",
              "      <td>-2.297193</td>\n",
              "      <td>868.3</td>\n",
              "      <td>69.93</td>\n",
              "      <td>3796.219401</td>\n",
              "      <td>0.0</td>\n",
              "      <td>64.770000</td>\n",
              "      <td>0.947132</td>\n",
              "      <td>1.0</td>\n",
              "      <td>14.339791</td>\n",
              "      <td>14.338512</td>\n",
              "      <td>13.993700</td>\n",
              "      <td>9.913438</td>\n",
              "    </tr>\n",
              "    <tr>\n",
              "      <th>3</th>\n",
              "      <td>12.0</td>\n",
              "      <td>231.0</td>\n",
              "      <td>3.583519</td>\n",
              "      <td>120.0</td>\n",
              "      <td>924.0</td>\n",
              "      <td>0.0</td>\n",
              "      <td>11.0</td>\n",
              "      <td>0.0</td>\n",
              "      <td>0.0</td>\n",
              "      <td>0.0</td>\n",
              "      <td>0.0</td>\n",
              "      <td>0.0</td>\n",
              "      <td>0.0</td>\n",
              "      <td>0.0</td>\n",
              "      <td>0.0</td>\n",
              "      <td>0.0</td>\n",
              "      <td>0.0</td>\n",
              "      <td>1.0</td>\n",
              "      <td>0.0</td>\n",
              "      <td>2.0</td>\n",
              "      <td>4.780803</td>\n",
              "      <td>2238.058669</td>\n",
              "      <td>1905.587795</td>\n",
              "      <td>20464826.0</td>\n",
              "      <td>16.355214</td>\n",
              "      <td>15.541521</td>\n",
              "      <td>1.0</td>\n",
              "      <td>0.0</td>\n",
              "      <td>0.0</td>\n",
              "      <td>0.0</td>\n",
              "      <td>0.0</td>\n",
              "      <td>0.0</td>\n",
              "      <td>1.0</td>\n",
              "      <td>0.0</td>\n",
              "      <td>0.0</td>\n",
              "      <td>0.0</td>\n",
              "      <td>0.0</td>\n",
              "      <td>0.0</td>\n",
              "      <td>0.0</td>\n",
              "      <td>0.0</td>\n",
              "      <td>0.0</td>\n",
              "      <td>0.0</td>\n",
              "      <td>0.0</td>\n",
              "      <td>0.0</td>\n",
              "      <td>1.0</td>\n",
              "      <td>0.0</td>\n",
              "      <td>0.0</td>\n",
              "      <td>0.0</td>\n",
              "      <td>0.0</td>\n",
              "      <td>0.0</td>\n",
              "      <td>1.0</td>\n",
              "      <td>0.0</td>\n",
              "      <td>0.0</td>\n",
              "      <td>0.0</td>\n",
              "      <td>1.0</td>\n",
              "      <td>0.0</td>\n",
              "      <td>0.0</td>\n",
              "      <td>0.0</td>\n",
              "      <td>0.000000</td>\n",
              "      <td>26.581503</td>\n",
              "      <td>6.343880</td>\n",
              "      <td>64.5</td>\n",
              "      <td>75.35</td>\n",
              "      <td>0.590</td>\n",
              "      <td>-1.712345</td>\n",
              "      <td>996.3</td>\n",
              "      <td>25.68</td>\n",
              "      <td>1059.467412</td>\n",
              "      <td>0.0</td>\n",
              "      <td>61.105000</td>\n",
              "      <td>1.014409</td>\n",
              "      <td>2.0</td>\n",
              "      <td>15.375766</td>\n",
              "      <td>14.916344</td>\n",
              "      <td>13.924162</td>\n",
              "      <td>11.002100</td>\n",
              "    </tr>\n",
              "    <tr>\n",
              "      <th>4</th>\n",
              "      <td>7.0</td>\n",
              "      <td>84.0</td>\n",
              "      <td>2.197225</td>\n",
              "      <td>110.0</td>\n",
              "      <td>968.0</td>\n",
              "      <td>0.0</td>\n",
              "      <td>15.0</td>\n",
              "      <td>0.0</td>\n",
              "      <td>0.0</td>\n",
              "      <td>0.0</td>\n",
              "      <td>0.0</td>\n",
              "      <td>0.0</td>\n",
              "      <td>0.0</td>\n",
              "      <td>0.0</td>\n",
              "      <td>0.0</td>\n",
              "      <td>0.0</td>\n",
              "      <td>1.0</td>\n",
              "      <td>0.0</td>\n",
              "      <td>0.0</td>\n",
              "      <td>1.0</td>\n",
              "      <td>11.614498</td>\n",
              "      <td>1876.186790</td>\n",
              "      <td>1797.712213</td>\n",
              "      <td>50478666.8</td>\n",
              "      <td>0.000000</td>\n",
              "      <td>0.000000</td>\n",
              "      <td>1.0</td>\n",
              "      <td>0.0</td>\n",
              "      <td>0.0</td>\n",
              "      <td>0.0</td>\n",
              "      <td>0.0</td>\n",
              "      <td>0.0</td>\n",
              "      <td>1.0</td>\n",
              "      <td>0.0</td>\n",
              "      <td>0.0</td>\n",
              "      <td>0.0</td>\n",
              "      <td>0.0</td>\n",
              "      <td>0.0</td>\n",
              "      <td>0.0</td>\n",
              "      <td>0.0</td>\n",
              "      <td>0.0</td>\n",
              "      <td>0.0</td>\n",
              "      <td>0.0</td>\n",
              "      <td>0.0</td>\n",
              "      <td>1.0</td>\n",
              "      <td>0.0</td>\n",
              "      <td>0.0</td>\n",
              "      <td>0.0</td>\n",
              "      <td>0.0</td>\n",
              "      <td>0.0</td>\n",
              "      <td>1.0</td>\n",
              "      <td>0.0</td>\n",
              "      <td>0.0</td>\n",
              "      <td>1.0</td>\n",
              "      <td>0.0</td>\n",
              "      <td>0.0</td>\n",
              "      <td>0.0</td>\n",
              "      <td>0.0</td>\n",
              "      <td>0.000000</td>\n",
              "      <td>0.000000</td>\n",
              "      <td>2.944439</td>\n",
              "      <td>66.9</td>\n",
              "      <td>72.41</td>\n",
              "      <td>0.590</td>\n",
              "      <td>-1.712345</td>\n",
              "      <td>996.3</td>\n",
              "      <td>25.68</td>\n",
              "      <td>1059.467412</td>\n",
              "      <td>0.0</td>\n",
              "      <td>61.105000</td>\n",
              "      <td>1.014409</td>\n",
              "      <td>2.0</td>\n",
              "      <td>15.450771</td>\n",
              "      <td>14.841368</td>\n",
              "      <td>14.502903</td>\n",
              "      <td>4.634729</td>\n",
              "    </tr>\n",
              "  </tbody>\n",
              "</table>\n",
              "</div>"
            ],
            "text/plain": [
              "     0      1         2      3   ...         72         73         74         75\n",
              "0   6.0  117.0  4.094345  116.0  ...  16.298999  15.574055  15.015749  12.175851\n",
              "1   8.0  141.0  3.044522  116.0  ...  17.268928  16.562266  16.136855  13.372526\n",
              "2   8.0   15.0  1.098612  110.0  ...  14.339791  14.338512  13.993700   9.913438\n",
              "3  12.0  231.0  3.583519  120.0  ...  15.375766  14.916344  13.924162  11.002100\n",
              "4   7.0   84.0  2.197225  110.0  ...  15.450771  14.841368  14.502903   4.634729\n",
              "\n",
              "[5 rows x 76 columns]"
            ]
          },
          "metadata": {
            "tags": []
          },
          "execution_count": 32
        }
      ]
    },
    {
      "cell_type": "code",
      "metadata": {
        "id": "M96ZKpQIESCj",
        "colab_type": "code",
        "colab": {}
      },
      "source": [
        "df_filled = df_filled.rename(columns = dict(zip(df_filled.columns, df.columns), inplace = True))"
      ],
      "execution_count": 0,
      "outputs": []
    },
    {
      "cell_type": "code",
      "metadata": {
        "id": "jO2ZcgUYESDP",
        "colab_type": "code",
        "colab": {}
      },
      "source": [
        "X = df_filled[features1] #features\n",
        "\n",
        "y = df_filled['TOTAL_AFFECTED']"
      ],
      "execution_count": 0,
      "outputs": []
    },
    {
      "cell_type": "code",
      "metadata": {
        "id": "_hNIPlUqESDU",
        "colab_type": "code",
        "colab": {}
      },
      "source": [
        "X.shape"
      ],
      "execution_count": 0,
      "outputs": []
    },
    {
      "cell_type": "code",
      "metadata": {
        "id": "7XhcVpA1ESFX",
        "colab_type": "code",
        "outputId": "b60b1e84-4cd8-4890-ad08-492a899c310c",
        "colab": {
          "base_uri": "https://localhost:8080/",
          "height": 255
        }
      },
      "source": [
        "X = df_filled[features1] #features\n",
        "# X = df_scaled[features3].fillna(df.mean())\n",
        "y = df_filled['TOTAL_AFFECTED']\n",
        "print(y.describe())\n",
        "X.rename(columns = lambda x: x.replace(' ', '_'), inplace=True)"
      ],
      "execution_count": 0,
      "outputs": [
        {
          "output_type": "stream",
          "text": [
            "count    991.000000\n",
            "mean      10.086995\n",
            "std        3.102598\n",
            "min        0.693147\n",
            "25%        8.018896\n",
            "50%       10.308953\n",
            "75%       12.413181\n",
            "max       17.204028\n",
            "Name: TOTAL_AFFECTED, dtype: float64\n"
          ],
          "name": "stdout"
        },
        {
          "output_type": "stream",
          "text": [
            "/usr/local/lib/python3.6/dist-packages/pandas/core/frame.py:4133: SettingWithCopyWarning: \n",
            "A value is trying to be set on a copy of a slice from a DataFrame\n",
            "\n",
            "See the caveats in the documentation: https://pandas.pydata.org/pandas-docs/stable/user_guide/indexing.html#returning-a-view-versus-a-copy\n",
            "  errors=errors,\n"
          ],
          "name": "stderr"
        }
      ]
    },
    {
      "cell_type": "code",
      "metadata": {
        "id": "_pPM3gDAESFb",
        "colab_type": "code",
        "colab": {}
      },
      "source": [
        "X_train, X_test, y_train, y_test = train_test_split(X, y, test_size=0.2,shuffle=True,random_state=123) #(X_pca, y, test_size=0.3)"
      ],
      "execution_count": 0,
      "outputs": []
    },
    {
      "cell_type": "markdown",
      "metadata": {
        "id": "prHnwpantHGW",
        "colab_type": "text"
      },
      "source": [
        "## Random Forest"
      ]
    },
    {
      "cell_type": "code",
      "metadata": {
        "id": "FTle2yoLESFg",
        "colab_type": "code",
        "colab": {}
      },
      "source": [
        "parameters = {'n_estimators':[100, 500, 1000], \n",
        "              'max_depth':[20,500,1000],\n",
        "              'max_features':[5,10,20,30]              \n",
        "             }"
      ],
      "execution_count": 0,
      "outputs": []
    },
    {
      "cell_type": "code",
      "metadata": {
        "id": "ZTtO2hIeESFl",
        "colab_type": "code",
        "colab": {}
      },
      "source": [
        "estimator_RF = RandomizedSearchCV(RandomForestRegressor(), parameters, cv = 5, scoring= 'neg_root_mean_squared_error',n_jobs=2,refit=True,\n",
        "                            n_iter=20,return_train_score = False)"
      ],
      "execution_count": 0,
      "outputs": []
    },
    {
      "cell_type": "code",
      "metadata": {
        "scrolled": true,
        "id": "LloQiJDiESFo",
        "colab_type": "code",
        "outputId": "4fe7993d-aa59-4732-d87e-90c708e4a9c8",
        "colab": {
          "base_uri": "https://localhost:8080/",
          "height": 425
        }
      },
      "source": [
        "estimator_RF.fit(X_train,y_train)"
      ],
      "execution_count": 0,
      "outputs": [
        {
          "output_type": "execute_result",
          "data": {
            "text/plain": [
              "RandomizedSearchCV(cv=5, error_score=nan,\n",
              "                   estimator=RandomForestRegressor(bootstrap=True,\n",
              "                                                   ccp_alpha=0.0,\n",
              "                                                   criterion='mse',\n",
              "                                                   max_depth=None,\n",
              "                                                   max_features='auto',\n",
              "                                                   max_leaf_nodes=None,\n",
              "                                                   max_samples=None,\n",
              "                                                   min_impurity_decrease=0.0,\n",
              "                                                   min_impurity_split=None,\n",
              "                                                   min_samples_leaf=1,\n",
              "                                                   min_samples_split=2,\n",
              "                                                   min_weight_fraction_leaf=0.0,\n",
              "                                                   n_estimators=100,\n",
              "                                                   n_jobs=None, oob_score=False,\n",
              "                                                   random_state=None, verbose=0,\n",
              "                                                   warm_start=False),\n",
              "                   iid='deprecated', n_iter=20, n_jobs=2,\n",
              "                   param_distributions={'max_depth': [20, 500, 1000],\n",
              "                                        'max_features': [5, 10, 20, 30],\n",
              "                                        'n_estimators': [100, 500, 1000]},\n",
              "                   pre_dispatch='2*n_jobs', random_state=None, refit=True,\n",
              "                   return_train_score=False,\n",
              "                   scoring='neg_root_mean_squared_error', verbose=0)"
            ]
          },
          "metadata": {
            "tags": []
          },
          "execution_count": 40
        }
      ]
    },
    {
      "cell_type": "code",
      "metadata": {
        "id": "ZONGraEfIDq2",
        "colab_type": "code",
        "outputId": "efc33209-926c-4e06-ed96-3fc0d6f67d62",
        "colab": {
          "base_uri": "https://localhost:8080/",
          "height": 51
        }
      },
      "source": [
        "\n",
        "print(np.abs(estimator_RF.best_score_))\n",
        "print(estimator_RF.best_params_)"
      ],
      "execution_count": 0,
      "outputs": [
        {
          "output_type": "stream",
          "text": [
            "2.5909072261896453\n",
            "{'n_estimators': 1000, 'max_features': 10, 'max_depth': 500}\n"
          ],
          "name": "stdout"
        }
      ]
    },
    {
      "cell_type": "markdown",
      "metadata": {
        "id": "oz4BzrO8s-N-",
        "colab_type": "text"
      },
      "source": [
        "## Gradient Boosting Method"
      ]
    },
    {
      "cell_type": "code",
      "metadata": {
        "id": "OE18jpwFImxn",
        "colab_type": "code",
        "colab": {}
      },
      "source": [
        "# Create the parameter grid\n",
        "param_grid = {'learning_rate': np.linspace(0.1, 2, 100), 'min_samples_leaf': list(range(2, 30))} \n",
        "# check with Gradient Boosting\n",
        "estimator_GBM = RandomizedSearchCV(GradientBoostingRegressor(), param_grid, cv = 5, scoring= 'neg_root_mean_squared_error',n_jobs=2,refit=True,\n",
        "                            n_iter=20,return_train_score = False)\n"
      ],
      "execution_count": 0,
      "outputs": []
    },
    {
      "cell_type": "code",
      "metadata": {
        "id": "aPTRCXxDLmeL",
        "colab_type": "code",
        "outputId": "d6ddb440-38d0-4f88-c95f-cac89702db7a",
        "colab": {
          "base_uri": "https://localhost:8080/",
          "height": 476
        }
      },
      "source": [
        "estimator_GBM.fit(X_train,y_train)"
      ],
      "execution_count": 0,
      "outputs": [
        {
          "output_type": "execute_result",
          "data": {
            "text/plain": [
              "RandomizedSearchCV(cv=5, error_score=nan,\n",
              "                   estimator=GradientBoostingRegressor(alpha=0.9, ccp_alpha=0.0,\n",
              "                                                       criterion='friedman_mse',\n",
              "                                                       init=None,\n",
              "                                                       learning_rate=0.1,\n",
              "                                                       loss='ls', max_depth=3,\n",
              "                                                       max_features=None,\n",
              "                                                       max_leaf_nodes=None,\n",
              "                                                       min_impurity_decrease=0.0,\n",
              "                                                       min_impurity_split=None,\n",
              "                                                       min_samples_leaf=1,\n",
              "                                                       min_samples_split=2,\n",
              "                                                       min_weight_fraction_leaf=0.0,\n",
              "                                                       n_estimators=100,\n",
              "                                                       n_...\n",
              "       1.73131313, 1.75050505, 1.76969697, 1.78888889, 1.80808081,\n",
              "       1.82727273, 1.84646465, 1.86565657, 1.88484848, 1.9040404 ,\n",
              "       1.92323232, 1.94242424, 1.96161616, 1.98080808, 2.        ]),\n",
              "                                        'min_samples_leaf': [2, 3, 4, 5, 6, 7,\n",
              "                                                             8, 9, 10, 11, 12,\n",
              "                                                             13, 14, 15, 16, 17,\n",
              "                                                             18, 19, 20, 21, 22,\n",
              "                                                             23, 24, 25, 26, 27,\n",
              "                                                             28, 29]},\n",
              "                   pre_dispatch='2*n_jobs', random_state=None, refit=True,\n",
              "                   return_train_score=False,\n",
              "                   scoring='neg_root_mean_squared_error', verbose=0)"
            ]
          },
          "metadata": {
            "tags": []
          },
          "execution_count": 43
        }
      ]
    },
    {
      "cell_type": "code",
      "metadata": {
        "id": "8vWJgn_CsXdx",
        "colab_type": "code",
        "outputId": "c6725c8c-9f07-4a4c-c403-9c555731bf44",
        "colab": {
          "base_uri": "https://localhost:8080/",
          "height": 51
        }
      },
      "source": [
        "print(np.abs(estimator_GBM.best_score_))\n",
        "print(estimator_GBM.best_params_)"
      ],
      "execution_count": 0,
      "outputs": [
        {
          "output_type": "stream",
          "text": [
            "2.623135898096134\n",
            "{'min_samples_leaf': 16, 'learning_rate': 0.1383838383838384}\n"
          ],
          "name": "stdout"
        }
      ]
    },
    {
      "cell_type": "markdown",
      "metadata": {
        "id": "AXaP0X8lUget",
        "colab_type": "text"
      },
      "source": [
        "## Support Vector Regression"
      ]
    },
    {
      "cell_type": "code",
      "metadata": {
        "id": "2yx2GYJWUkCz",
        "colab_type": "code",
        "colab": {}
      },
      "source": [
        "# TO DO"
      ],
      "execution_count": 0,
      "outputs": []
    },
    {
      "cell_type": "markdown",
      "metadata": {
        "id": "PIDARuIDOUkD",
        "colab_type": "text"
      },
      "source": [
        "Test set performance"
      ]
    },
    {
      "cell_type": "code",
      "metadata": {
        "id": "HVcsifWpq7yO",
        "colab_type": "code",
        "outputId": "ff5f3139-2958-4c0c-e894-3151733ee5a1",
        "colab": {
          "base_uri": "https://localhost:8080/",
          "height": 119
        }
      },
      "source": [
        "# Random Forest\n",
        "pred_rf = estimator_RF.predict(X_test)\n",
        "print('Random Forest Model Test RMSE: {:.3f}'.format(np.sqrt(mean_squared_error(y_test, pred_rf))))\n",
        "print('Random Forest R-squared value: {:.3f}'.format(r2_score(y_test, pred_rf)))\n",
        "print('\\n')\n",
        "# Gradient Boosting Method\n",
        "pred_gbm = estimator_GBM.predict(X_test)\n",
        "print('Gradient Boosting Method Test RMSE: {:.3f}'.format(np.sqrt(mean_squared_error(y_test, pred_gbm))))\n",
        "print('Gradient Boosting R-squared value: {:.3f}'.format(r2_score(y_test, pred_gbm)))\n",
        "\n",
        "# TO DO for SVR"
      ],
      "execution_count": 0,
      "outputs": [
        {
          "output_type": "stream",
          "text": [
            "Random Forest Model Test RMSE: 2.417\n",
            "Random Forest R-squared value: 0.371\n",
            "\n",
            "\n",
            "Gradient Boosting Method Test RMSE: 2.485\n",
            "Gradient Boosting R-squared value: 0.335\n"
          ],
          "name": "stdout"
        }
      ]
    },
    {
      "cell_type": "code",
      "metadata": {
        "id": "ScauymekUs12",
        "colab_type": "code",
        "outputId": "dad58445-5d22-4a44-93c7-fdfe81d0fddf",
        "colab": {
          "base_uri": "https://localhost:8080/",
          "height": 295
        }
      },
      "source": [
        "# Plot of fit\n",
        "fig, ax = plt.subplots()\n",
        "ax.scatter(y_test, pred_rf)\n",
        "ax.plot([y_test.min(), y_test.max()], [y_test.min(), y_test.max()], 'k--', lw=4)\n",
        "ax.set_xlabel('Actual')\n",
        "ax.set_ylabel('Predicted')\n",
        "plt.title('Plot of fit for Random Forest')\n",
        "plt.show()"
      ],
      "execution_count": 0,
      "outputs": [
        {
          "output_type": "display_data",
          "data": {
            "image/png": "[encoded data removed]",
            "text/plain": [
              "<Figure size 432x288 with 1 Axes>"
            ]
          },
          "metadata": {
            "tags": [],
            "needs_background": "light"
          }
        }
      ]
    },
    {
      "cell_type": "markdown",
      "metadata": {
        "id": "SuYE7xRUJ1H9",
        "colab_type": "text"
      },
      "source": [
        "## Ensemble Methods\n",
        "### Voting Ensemble of RF and GBM"
      ]
    },
    {
      "cell_type": "code",
      "metadata": {
        "id": "Sr7YkQL79dxb",
        "colab_type": "code",
        "colab": {}
      },
      "source": [
        "from sklearn.ensemble import VotingRegressor\n",
        "\n",
        "# List of (string, estimator) tuples\n",
        "estimators = [('rf', estimator_RF), ('gbm', estimator_GBM)]\n",
        "\n",
        "# Build and fit an averaging classifier\n",
        "reg_avg = VotingRegressor(estimators)\n",
        "reg_avg.fit(X_train, y_train)\n",
        "cross_val_scores_vot = cross_val_score(reg_avg,X_train, y_train, cv=5, scoring=\"neg_mean_squared_error\")\n"
      ],
      "execution_count": 0,
      "outputs": []
    },
    {
      "cell_type": "code",
      "metadata": {
        "id": "dTdcJ101lmBA",
        "colab_type": "code",
        "outputId": "5cb540bb-e31a-4371-c1d4-a33d7966e834",
        "colab": {
          "base_uri": "https://localhost:8080/",
          "height": 34
        }
      },
      "source": [
        "print(\"5-fold RMSE: \", np.mean(np.sqrt(np.abs(cross_val_scores_vot))))"
      ],
      "execution_count": 0,
      "outputs": [
        {
          "output_type": "stream",
          "text": [
            "5-fold RMSE:  2.5895867869308686\n"
          ],
          "name": "stdout"
        }
      ]
    },
    {
      "cell_type": "code",
      "metadata": {
        "id": "-OfaTORj9vbm",
        "colab_type": "code",
        "outputId": "14ab0e4f-9bf5-4023-f7a7-d7746ef3d881",
        "colab": {
          "base_uri": "https://localhost:8080/",
          "height": 51
        }
      },
      "source": [
        "pred_vot = reg_avg.predict(X_test)\n",
        "print('Voting regressor Test RMSE: {:.3f}'.format(np.sqrt(mean_squared_error(y_test, pred_vot))))\n",
        "print('Voting regressor R-squared value: {:.3f}'.format(r2_score(y_test, pred_vot)))"
      ],
      "execution_count": 0,
      "outputs": [
        {
          "output_type": "stream",
          "text": [
            "Voting regressor Test RMSE: 2.445\n",
            "Voting regressor R-squared value: 0.356\n"
          ],
          "name": "stdout"
        }
      ]
    },
    {
      "cell_type": "code",
      "metadata": {
        "id": "QuuOvPvKQaV5",
        "colab_type": "code",
        "outputId": "dab34718-0a01-403e-d73b-88404853269b",
        "colab": {
          "base_uri": "https://localhost:8080/",
          "height": 295
        }
      },
      "source": [
        "fig, ax = plt.subplots()\n",
        "ax.scatter(y_test, pred_vot)\n",
        "ax.plot([y_test.min(), y_test.max()], [y_test.min(), y_test.max()], 'k--', lw=4)\n",
        "ax.set_xlabel('log- Actual Affected')\n",
        "ax.set_ylabel('log- Predicted Affected')\n",
        "ax.set_xlim(5,16)\n",
        "ax.set_ylim(5,16)\n",
        "plt.title('Plot of fit for Voting ensemble')\n",
        "plt.show()"
      ],
      "execution_count": 0,
      "outputs": [
        {
          "output_type": "display_data",
          "data": {
            "image/png": "[encoded data removed]",
            "text/plain": [
              "<Figure size 432x288 with 1 Axes>"
            ]
          },
          "metadata": {
            "tags": [],
            "needs_background": "light"
          }
        }
      ]
    },
    {
      "cell_type": "markdown",
      "metadata": {
        "id": "cJqwIyElloBC",
        "colab_type": "text"
      },
      "source": [
        "### Stack of ensembles"
      ]
    },
    {
      "cell_type": "code",
      "metadata": {
        "id": "uQ_MpIYTYvBO",
        "colab_type": "code",
        "outputId": "bd799ccf-3b6c-40aa-e0ee-6e02b40fb866",
        "colab": {
          "base_uri": "https://localhost:8080/",
          "height": 34
        }
      },
      "source": [
        "from mlxtend.regressor import StackingRegressor\n",
        "from sklearn.svm import SVR\n",
        "from sklearn.metrics import mean_squared_error\n",
        "from sklearn.ensemble import AdaBoostRegressor\n",
        "from sklearn.linear_model import LinearRegression, Ridge, Lasso\n",
        "\n",
        "# Instantiate the 2nd-layer regressor\n",
        "reg_svr = SVR(kernel='rbf')\n",
        "reg_adb=AdaBoostRegressor()\n",
        "\n",
        "# Build the Stacking regressor\n",
        "reg_stack = StackingRegressor(regressors=[reg_svr, estimator_GBM, estimator_RF], meta_regressor=reg_adb)\n",
        "reg_stack.fit(X_train, y_train)\n",
        "\n",
        "# Evaluate the performance on the test set using the MAE metric\n",
        "pred = reg_stack.predict(X_test)\n",
        "print('Stack of Ensembles Test RMSE: {:.3f}'.format(np.sqrt(mean_squared_error(y_test, pred))))"
      ],
      "execution_count": 0,
      "outputs": [
        {
          "output_type": "stream",
          "text": [
            "Stack of Ensembles Test RMSE: 2.399\n"
          ],
          "name": "stdout"
        }
      ]
    },
    {
      "cell_type": "code",
      "metadata": {
        "id": "yB1IfgmYIw5y",
        "colab_type": "code",
        "outputId": "f92843f3-e7c1-410d-98c3-fe06a437274d",
        "colab": {
          "base_uri": "https://localhost:8080/",
          "height": 638
        }
      },
      "source": [
        "print('Stack of Ensembles R-squared value: {:.3f}'.format(r2_score(y_test, pred)))\n",
        "fig, ax = plt.subplots()\n",
        "ax.scatter(y_test, pred_vot)\n",
        "ax.plot([y_test.min(), y_test.max()], [y_test.min(), y_test.max()], 'k--', lw=4)\n",
        "ax.set_xlabel('log- Actual Affected')\n",
        "ax.set_ylabel('log- Predicted Affected')\n",
        "ax.set_xlim(5,16)\n",
        "ax.set_ylim(5,16)\n",
        "plt.title('Plot of fit for Stack of ensembles')\n",
        "plt.show()"
      ],
      "execution_count": 0,
      "outputs": [
        {
          "output_type": "stream",
          "text": [
            "Stack of Ensembles R-squared value: 0.380\n"
          ],
          "name": "stdout"
        },
        {
          "output_type": "display_data",
          "data": {
            "image/png": "[encoded data removed]",
            "text/plain": [
              "<Figure size 720x720 with 1 Axes>"
            ]
          },
          "metadata": {
            "tags": [],
            "needs_background": "light"
          }
        }
      ]
    },
    {
      "cell_type": "markdown",
      "metadata": {
        "id": "1PY8z3WnTu0S",
        "colab_type": "text"
      },
      "source": [
        "## Extreme Gradient-Boosting"
      ]
    },
    {
      "cell_type": "code",
      "metadata": {
        "id": "q_7CxpwLVtVp",
        "colab_type": "code",
        "outputId": "d92c27e4-7c05-4347-9375-b4d4324f1b1c",
        "colab": {
          "base_uri": "https://localhost:8080/",
          "height": 1000
        }
      },
      "source": [
        "import xgboost as xgb\n",
        "\n",
        "# Create the DMatrix: housing_dmatrix\n",
        "dtrain = xgb.DMatrix(data=X_train, label=y_train)\n",
        "dtest=xgb.DMatrix(data=X_test, label=y_test)\n",
        "\n",
        "# Create the parameter dictionary: params\n",
        "params = {\"objective\":\"reg:linear\", \"max_depth\":4}\n",
        "\n",
        "# Train the model: xg_reg\n",
        "model = xgb.train(\n",
        "    params,\n",
        "    dtrain,\n",
        "    num_boost_round=100,\n",
        "    evals=[(dtest, \"Test\")],\n",
        "    early_stopping_rounds=10\n",
        ")\n",
        "\n",
        "# Plot the feature importances\n",
        "from pylab import rcParams\n",
        "rcParams['figure.figsize'] = 10, 10\n",
        "xgb.plot_importance(model)\n",
        "plt.show()\n"
      ],
      "execution_count": 0,
      "outputs": [
        {
          "output_type": "stream",
          "text": [
            "[02:13:12] WARNING: /workspace/src/objective/regression_obj.cu:152: reg:linear is now deprecated in favor of reg:squarederror.\n",
            "[0]\tTest-rmse:7.25673\n",
            "Will train until Test-rmse hasn't improved in 10 rounds.\n",
            "[1]\tTest-rmse:5.39574\n",
            "[2]\tTest-rmse:4.1654\n",
            "[3]\tTest-rmse:3.40971\n",
            "[4]\tTest-rmse:2.99235\n",
            "[5]\tTest-rmse:2.7633\n",
            "[6]\tTest-rmse:2.62989\n",
            "[7]\tTest-rmse:2.56097\n",
            "[8]\tTest-rmse:2.50234\n",
            "[9]\tTest-rmse:2.49259\n",
            "[10]\tTest-rmse:2.48058\n",
            "[11]\tTest-rmse:2.4554\n",
            "[12]\tTest-rmse:2.45602\n",
            "[13]\tTest-rmse:2.45412\n",
            "[14]\tTest-rmse:2.44383\n",
            "[15]\tTest-rmse:2.43972\n",
            "[16]\tTest-rmse:2.43426\n",
            "[17]\tTest-rmse:2.42738\n",
            "[18]\tTest-rmse:2.4328\n",
            "[19]\tTest-rmse:2.43345\n",
            "[20]\tTest-rmse:2.44371\n",
            "[21]\tTest-rmse:2.44936\n",
            "[22]\tTest-rmse:2.45898\n",
            "[23]\tTest-rmse:2.46686\n",
            "[24]\tTest-rmse:2.46115\n",
            "[25]\tTest-rmse:2.45828\n",
            "[26]\tTest-rmse:2.45937\n",
            "[27]\tTest-rmse:2.46216\n",
            "Stopping. Best iteration:\n",
            "[17]\tTest-rmse:2.42738\n",
            "\n"
          ],
          "name": "stdout"
        },
        {
          "output_type": "display_data",
          "data": {
            "image/png": "[encoded data removed]",
            "text/plain": [
              "<Figure size 720x720 with 1 Axes>"
            ]
          },
          "metadata": {
            "tags": [],
            "needs_background": "light"
          }
        }
      ]
    },
    {
      "cell_type": "code",
      "metadata": {
        "id": "Ob4otyY2v922",
        "colab_type": "code",
        "outputId": "2962037b-76d6-4f1f-a5f2-d6cab4e18e0b",
        "colab": {
          "base_uri": "https://localhost:8080/",
          "height": 196
        }
      },
      "source": [
        "# Create the DMatrix: housing_dmatrix\n",
        "housing_dmatrix = xgb.DMatrix(data=X, label=y)\n",
        "\n",
        "# Create the parameter dictionary: params\n",
        "params = {\"objective\":\"reg:linear\", \"max_depth\":2}\n",
        "\n",
        "# Train the model: xg_reg\n",
        "xg_reg = xgb.train(params=params, dtrain=housing_dmatrix, num_boost_round=18)\n",
        "\n",
        "# Plot the first tree\n",
        "xgb.plot_tree(xg_reg,num_trees=0)\n",
        "plt.show()\n",
        "\n"
      ],
      "execution_count": 0,
      "outputs": [
        {
          "output_type": "stream",
          "text": [
            "[02:17:40] WARNING: /workspace/src/objective/regression_obj.cu:152: reg:linear is now deprecated in favor of reg:squarederror.\n"
          ],
          "name": "stdout"
        },
        {
          "output_type": "display_data",
          "data": {
            "image/png": "[encoded data removed]",
            "text/plain": [
              "<Figure size 720x720 with 1 Axes>"
            ]
          },
          "metadata": {
            "tags": [],
            "needs_background": "light"
          }
        }
      ]
    },
    {
      "cell_type": "markdown",
      "metadata": {
        "id": "uAAb2oRw1M-P",
        "colab_type": "text"
      },
      "source": [
        "## Auto-ML"
      ]
    },
    {
      "cell_type": "code",
      "metadata": {
        "id": "RiAuJ0TK_1DT",
        "colab_type": "code",
        "outputId": "8186e6f4-dce2-4619-cc62-fcef97bf9b3f",
        "colab": {
          "base_uri": "https://localhost:8080/",
          "height": 351
        }
      },
      "source": [
        "from tpot import TPOTRegressor\n",
        "tpot = TPOTRegressor(generations=50, population_size=500,verbosity=2)\n",
        "tpot.fit(X_train, y_train)\n",
        "print(tpot.score(X_test, y_test))"
      ],
      "execution_count": 0,
      "outputs": [
        {
          "output_type": "error",
          "ename": "ModuleNotFoundError",
          "evalue": "ignored",
          "traceback": [
            "\u001b[0;31m---------------------------------------------------------------------------\u001b[0m",
            "\u001b[0;31mModuleNotFoundError\u001b[0m                       Traceback (most recent call last)",
            "\u001b[0;32m<ipython-input-54-283119f961de>\u001b[0m in \u001b[0;36m<module>\u001b[0;34m()\u001b[0m\n\u001b[0;32m----> 1\u001b[0;31m \u001b[0;32mfrom\u001b[0m \u001b[0mtpot\u001b[0m \u001b[0;32mimport\u001b[0m \u001b[0mTPOTRegressor\u001b[0m\u001b[0;34m\u001b[0m\u001b[0;34m\u001b[0m\u001b[0m\n\u001b[0m\u001b[1;32m      2\u001b[0m \u001b[0mtpot\u001b[0m \u001b[0;34m=\u001b[0m \u001b[0mTPOTRegressor\u001b[0m\u001b[0;34m(\u001b[0m\u001b[0mgenerations\u001b[0m\u001b[0;34m=\u001b[0m\u001b[0;36m50\u001b[0m\u001b[0;34m,\u001b[0m \u001b[0mpopulation_size\u001b[0m\u001b[0;34m=\u001b[0m\u001b[0;36m500\u001b[0m\u001b[0;34m,\u001b[0m\u001b[0mverbosity\u001b[0m\u001b[0;34m=\u001b[0m\u001b[0;36m2\u001b[0m\u001b[0;34m)\u001b[0m\u001b[0;34m\u001b[0m\u001b[0;34m\u001b[0m\u001b[0m\n\u001b[1;32m      3\u001b[0m \u001b[0mtpot\u001b[0m\u001b[0;34m.\u001b[0m\u001b[0mfit\u001b[0m\u001b[0;34m(\u001b[0m\u001b[0mX_train\u001b[0m\u001b[0;34m,\u001b[0m \u001b[0my_train\u001b[0m\u001b[0;34m)\u001b[0m\u001b[0;34m\u001b[0m\u001b[0;34m\u001b[0m\u001b[0m\n\u001b[1;32m      4\u001b[0m \u001b[0mprint\u001b[0m\u001b[0;34m(\u001b[0m\u001b[0mtpot\u001b[0m\u001b[0;34m.\u001b[0m\u001b[0mscore\u001b[0m\u001b[0;34m(\u001b[0m\u001b[0mX_test\u001b[0m\u001b[0;34m,\u001b[0m \u001b[0my_test\u001b[0m\u001b[0;34m)\u001b[0m\u001b[0;34m)\u001b[0m\u001b[0;34m\u001b[0m\u001b[0;34m\u001b[0m\u001b[0m\n",
            "\u001b[0;31mModuleNotFoundError\u001b[0m: No module named 'tpot'",
            "",
            "\u001b[0;31m---------------------------------------------------------------------------\u001b[0;32m\nNOTE: If your import is failing due to a missing package, you can\nmanually install dependencies using either !pip or !apt.\n\nTo view examples of installing some common dependencies, click the\n\"Open Examples\" button below.\n\u001b[0;31m---------------------------------------------------------------------------\u001b[0m\n"
          ]
        }
      ]
    },
    {
      "cell_type": "markdown",
      "metadata": {
        "id": "COxxAguBiHql",
        "colab_type": "text"
      },
      "source": [
        "### Unit Test"
      ]
    },
    {
      "cell_type": "code",
      "metadata": {
        "id": "D3wUm311iD8L",
        "colab_type": "code",
        "colab": {}
      },
      "source": [
        "# TO DO\n",
        "'''\n",
        "Need to define the input variables and their data types\n",
        "Kind Attention: Xavier\n",
        "'''\n",
        "\n",
        "# mainly checking if model can handle null input entry since we can't expect that user will have all the inputs for sure\n",
        "\n",
        "from numpy.testing import assert_equal\n",
        "from numbers import Number\n",
        "import logging\n",
        "\n",
        "def test_output(X_input):\n",
        "  '''\n",
        "  X_input: \n",
        "    Pandas DataFrame object containing input features as columns and instances as rows\n",
        "  return:\n",
        "    numeric value\n",
        "  '''\n",
        "  # define your strategy in the model wrapper function to pass the unit test\n",
        "  try:\n",
        "    estimate=estimator_RF.predict(X_input)# to be replaced with function call\n",
        "  except AssertionError:\n",
        "    logging.error(\"Model failed to predict an estimate...\", exc_info=True)\n",
        "  return estimate\n",
        "\n",
        "def test_regression_score():\n",
        "  input_entry=pd.DataFrame()\n",
        "  result=test_output('NA')\n",
        "  if isinstance(result, Number):\n",
        "    print('Passed unit test')\n",
        "  else:\n",
        "    print('Failed unit test')\n",
        "   \n",
        "test_regression_score()"
      ],
      "execution_count": 0,
      "outputs": []
    },
    {
      "cell_type": "markdown",
      "metadata": {
        "id": "E8UBjKgeULJG",
        "colab_type": "text"
      },
      "source": [
        "## Supply chain Estimation based on affected population (head count)"
      ]
    },
    {
      "cell_type": "code",
      "metadata": {
        "id": "Yp1Cag3pUJ9U",
        "colab_type": "code",
        "colab": {}
      },
      "source": [
        "# TO DO"
      ],
      "execution_count": 0,
      "outputs": []
    },
    {
      "cell_type": "markdown",
      "metadata": {
        "id": "N7394JJ1aUt1",
        "colab_type": "text"
      },
      "source": [
        "## Scope of improvement:\n",
        "* Dealing outliers\n",
        "* Exploring feature scaling impact\n",
        "* Data Augmentation either by addition or by synthetic method"
      ]
    }
  ]
}